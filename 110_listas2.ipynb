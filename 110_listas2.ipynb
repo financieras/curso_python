{
  "nbformat": 4,
  "nbformat_minor": 0,
  "metadata": {
    "colab": {
      "provenance": [],
      "authorship_tag": "ABX9TyNOcVTVtTqo+J9laJIrtwwQ",
      "include_colab_link": true
    },
    "kernelspec": {
      "name": "python3",
      "display_name": "Python 3"
    },
    "language_info": {
      "name": "python"
    }
  },
  "cells": [
    {
      "cell_type": "markdown",
      "metadata": {
        "id": "view-in-github",
        "colab_type": "text"
      },
      "source": [
        "<a href=\"https://colab.research.google.com/github/financieras/curso_python/blob/main/110_listas2.ipynb\" target=\"_parent\"><img src=\"https://colab.research.google.com/assets/colab-badge.svg\" alt=\"Open In Colab\"/></a>"
      ]
    },
    {
      "cell_type": "markdown",
      "source": [
        "# Usar Métodos con las Listas"
      ],
      "metadata": {
        "id": "ze2ZpsykuGu2"
      }
    },
    {
      "cell_type": "markdown",
      "source": [
        "## CRUD (Create, Read, Update, Delete)\n",
        "Estas son las operaciones básicas que se usan en cualquier aplicación programada en cualquier lenguaje."
      ],
      "metadata": {
        "id": "RcTJn_fwuNPP"
      }
    },
    {
      "cell_type": "code",
      "source": [
        "numeros = [10, 20, 30, 40, 50]      # creamos una lista\n",
        "print(numeros)                      # leemos la lista\n",
        "print(numeros[1])                   # leemos un elemento"
      ],
      "metadata": {
        "colab": {
          "base_uri": "https://localhost:8080/"
        },
        "id": "7vx5TuInvH5w",
        "outputId": "38cc6681-01ff-44f6-d6a2-86179360202e"
      },
      "execution_count": 1,
      "outputs": [
        {
          "output_type": "stream",
          "name": "stdout",
          "text": [
            "[10, 20, 30, 40, 50]\n",
            "20\n"
          ]
        }
      ]
    },
    {
      "cell_type": "code",
      "source": [
        "numeros[-1] = 90                    # actualizamos el último elemento\n",
        "numeros"
      ],
      "metadata": {
        "colab": {
          "base_uri": "https://localhost:8080/"
        },
        "id": "sjmNXU7MvmTS",
        "outputId": "a776ea79-f9aa-4524-bb51-77e765a9eab6"
      },
      "execution_count": 2,
      "outputs": [
        {
          "output_type": "execute_result",
          "data": {
            "text/plain": [
              "[10, 20, 30, 40, 90]"
            ]
          },
          "metadata": {},
          "execution_count": 2
        }
      ]
    },
    {
      "cell_type": "code",
      "source": [
        "numeros.pop()                       # eliminamos el último elemento\n",
        "numeros"
      ],
      "metadata": {
        "colab": {
          "base_uri": "https://localhost:8080/"
        },
        "id": "9UmoWMMtvy1i",
        "outputId": "7e46940a-46da-4c6c-8107-49a3010958ed"
      },
      "execution_count": 3,
      "outputs": [
        {
          "output_type": "execute_result",
          "data": {
            "text/plain": [
              "[10, 20, 30, 40]"
            ]
          },
          "metadata": {},
          "execution_count": 3
        }
      ]
    },
    {
      "cell_type": "code",
      "source": [
        "numeros.append(50)\n",
        "numeros"
      ],
      "metadata": {
        "colab": {
          "base_uri": "https://localhost:8080/"
        },
        "id": "Sisn5SnowUZS",
        "outputId": "d3e8baac-d01b-4e85-c0e6-7592e1a6251a"
      },
      "execution_count": 4,
      "outputs": [
        {
          "output_type": "execute_result",
          "data": {
            "text/plain": [
              "[10, 20, 30, 40, 50]"
            ]
          },
          "metadata": {},
          "execution_count": 4
        }
      ]
    },
    {
      "cell_type": "code",
      "source": [
        "numeros.insert(2, 25)                # insertamos un elemento en la posición 2\n",
        "numeros"
      ],
      "metadata": {
        "colab": {
          "base_uri": "https://localhost:8080/"
        },
        "id": "ZcB6x1Y5wb_1",
        "outputId": "5080b68c-b997-4a76-c120-135911ad522a"
      },
      "execution_count": 5,
      "outputs": [
        {
          "output_type": "execute_result",
          "data": {
            "text/plain": [
              "[10, 20, 25, 30, 40, 50]"
            ]
          },
          "metadata": {},
          "execution_count": 5
        }
      ]
    },
    {
      "cell_type": "code",
      "source": [
        "posicion = numeros.index(25)\n",
        "print(posicion)\n",
        "\n",
        "numeros[posicion] += 1\n",
        "numeros"
      ],
      "metadata": {
        "colab": {
          "base_uri": "https://localhost:8080/"
        },
        "id": "4jSailB3xVvp",
        "outputId": "5138514d-2f79-44e2-b0b8-651ac0378eb9"
      },
      "execution_count": 7,
      "outputs": [
        {
          "output_type": "stream",
          "name": "stdout",
          "text": [
            "2\n"
          ]
        },
        {
          "output_type": "execute_result",
          "data": {
            "text/plain": [
              "[10, 20, 26, 30, 40, 50]"
            ]
          },
          "metadata": {},
          "execution_count": 7
        }
      ]
    },
    {
      "cell_type": "code",
      "source": [
        "numeros.remove(26)\n",
        "numeros"
      ],
      "metadata": {
        "colab": {
          "base_uri": "https://localhost:8080/"
        },
        "id": "OgErvH9Hx-Pd",
        "outputId": "e6c17f05-9ece-4548-d918-9c4ccc17b9dc"
      },
      "execution_count": 8,
      "outputs": [
        {
          "output_type": "execute_result",
          "data": {
            "text/plain": [
              "[10, 20, 30, 40, 50]"
            ]
          },
          "metadata": {},
          "execution_count": 8
        }
      ]
    },
    {
      "cell_type": "code",
      "source": [
        "array_letras = list(\"amor\")\n",
        "print(array_letras)\n",
        "reverso = array_letras[::-1]\n",
        "print(reverso)\n",
        "ciudad = ''.join(reverso)\n",
        "print(ciudad.capitalize())"
      ],
      "metadata": {
        "colab": {
          "base_uri": "https://localhost:8080/"
        },
        "id": "lz5sA8qRyThA",
        "outputId": "acaaff4a-f909-4e1a-d906-bccb081d2835"
      },
      "execution_count": 14,
      "outputs": [
        {
          "output_type": "stream",
          "name": "stdout",
          "text": [
            "['a', 'm', 'o', 'r']\n",
            "['r', 'o', 'm', 'a']\n",
            "Roma\n"
          ]
        }
      ]
    },
    {
      "cell_type": "code",
      "source": [
        "lista = [1,2,3,4]\n",
        "lista.reverse()\n",
        "lista"
      ],
      "metadata": {
        "colab": {
          "base_uri": "https://localhost:8080/"
        },
        "id": "tQh73KmTzf28",
        "outputId": "b767b99a-ea4b-4784-882c-2451b7ebafc1"
      },
      "execution_count": 16,
      "outputs": [
        {
          "output_type": "execute_result",
          "data": {
            "text/plain": [
              "[4, 3, 2, 1]"
            ]
          },
          "metadata": {},
          "execution_count": 16
        }
      ]
    }
  ]
}