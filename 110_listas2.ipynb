{
  "nbformat": 4,
  "nbformat_minor": 0,
  "metadata": {
    "colab": {
      "provenance": [],
      "authorship_tag": "ABX9TyMqQXpiDGva686GxehTnESu",
      "include_colab_link": true
    },
    "kernelspec": {
      "name": "python3",
      "display_name": "Python 3"
    },
    "language_info": {
      "name": "python"
    }
  },
  "cells": [
    {
      "cell_type": "markdown",
      "metadata": {
        "id": "view-in-github",
        "colab_type": "text"
      },
      "source": [
        "<a href=\"https://colab.research.google.com/github/financieras/curso_python/blob/main/110_listas2.ipynb\" target=\"_parent\"><img src=\"https://colab.research.google.com/assets/colab-badge.svg\" alt=\"Open In Colab\"/></a>"
      ]
    },
    {
      "cell_type": "markdown",
      "source": [
        "## Funciones y Métodos"
      ],
      "metadata": {
        "id": "ze2ZpsykuGu2"
      }
    },
    {
      "cell_type": "markdown",
      "source": [
        "### CRUD (Create, Read, Update, Delete)\n",
        "Estas son las operaciones básicas que se usan en cualquier aplicación programada en cualquier lenguaje."
      ],
      "metadata": {
        "id": "RcTJn_fwuNPP"
      }
    },
    {
      "cell_type": "code",
      "source": [
        "numeros = [10, 20, 30, 40, 50]      # creamos una lista\n",
        "print(numeros)                      # leemos la lista\n",
        "print(numeros[1])                   # leemos un elemento"
      ],
      "metadata": {
        "colab": {
          "base_uri": "https://localhost:8080/"
        },
        "id": "7vx5TuInvH5w",
        "outputId": "38cc6681-01ff-44f6-d6a2-86179360202e"
      },
      "execution_count": null,
      "outputs": [
        {
          "output_type": "stream",
          "name": "stdout",
          "text": [
            "[10, 20, 30, 40, 50]\n",
            "20\n"
          ]
        }
      ]
    },
    {
      "cell_type": "code",
      "source": [
        "numeros[-1] = 90                    # actualizamos el último elemento\n",
        "numeros"
      ],
      "metadata": {
        "colab": {
          "base_uri": "https://localhost:8080/"
        },
        "id": "sjmNXU7MvmTS",
        "outputId": "a776ea79-f9aa-4524-bb51-77e765a9eab6"
      },
      "execution_count": null,
      "outputs": [
        {
          "output_type": "execute_result",
          "data": {
            "text/plain": [
              "[10, 20, 30, 40, 90]"
            ]
          },
          "metadata": {},
          "execution_count": 2
        }
      ]
    },
    {
      "cell_type": "markdown",
      "source": [
        "### `append`\n",
        "Añade un elemento al final de la lista."
      ],
      "metadata": {
        "id": "FoY9xTl_A7kf"
      }
    },
    {
      "cell_type": "code",
      "source": [
        "lista = [1,2,3]\n",
        "lista.append(4)\n",
        "lista"
      ],
      "metadata": {
        "colab": {
          "base_uri": "https://localhost:8080/"
        },
        "id": "UmHyumr7BCIn",
        "outputId": "ec7fbde7-96ed-4552-bbe9-c99a773d1f27"
      },
      "execution_count": null,
      "outputs": [
        {
          "output_type": "execute_result",
          "data": {
            "text/plain": [
              "[1, 2, 3, 4]"
            ]
          },
          "metadata": {},
          "execution_count": 17
        }
      ]
    },
    {
      "cell_type": "markdown",
      "source": [
        "### Unir dos listas con `+`\n"
      ],
      "metadata": {
        "id": "FywiH43oDSJK"
      }
    },
    {
      "cell_type": "code",
      "source": [
        "lista_1 = [1, 2, 3]\n",
        "lista_2 = [4, 5, 6]\n",
        "total_lista = lista_1 + lista_2\n",
        "total_lista"
      ],
      "metadata": {
        "colab": {
          "base_uri": "https://localhost:8080/"
        },
        "id": "QObhnDUpDl9v",
        "outputId": "17e03daf-7461-470b-d8fc-37dcc8b67b2b"
      },
      "execution_count": 7,
      "outputs": [
        {
          "output_type": "execute_result",
          "data": {
            "text/plain": [
              "[1, 2, 3, 4, 5, 6]"
            ]
          },
          "metadata": {},
          "execution_count": 7
        }
      ]
    },
    {
      "cell_type": "markdown",
      "source": [
        "### `pop`\n",
        "Elimina el último elemento."
      ],
      "metadata": {
        "id": "3nNAzkh4E5iI"
      }
    },
    {
      "cell_type": "code",
      "source": [
        "total_lista.pop()       # por defecto se elimina el último elemento\n",
        "total_lista"
      ],
      "metadata": {
        "colab": {
          "base_uri": "https://localhost:8080/"
        },
        "id": "Gc4O8FPjFByE",
        "outputId": "1d46f485-0b25-4b2c-bcfb-ff83c4dbfe51"
      },
      "execution_count": 8,
      "outputs": [
        {
          "output_type": "execute_result",
          "data": {
            "text/plain": [
              "[1, 2, 3, 4, 5]"
            ]
          },
          "metadata": {},
          "execution_count": 8
        }
      ]
    },
    {
      "cell_type": "code",
      "source": [
        "total_lista.pop(0)      # podemos indicar el index a eliminar\n",
        "total_lista"
      ],
      "metadata": {
        "colab": {
          "base_uri": "https://localhost:8080/"
        },
        "id": "kh0iAP3aIZKG",
        "outputId": "3a903987-c1fa-4c53-c1c3-fc5a42405ac1"
      },
      "execution_count": 9,
      "outputs": [
        {
          "output_type": "execute_result",
          "data": {
            "text/plain": [
              "[2, 3, 4, 5]"
            ]
          },
          "metadata": {},
          "execution_count": 9
        }
      ]
    },
    {
      "cell_type": "code",
      "source": [
        "del total_lista[-1]     # otra forma de eliminar un elemento\n",
        "total_lista"
      ],
      "metadata": {
        "id": "DjPoerQneh5v",
        "outputId": "80d82549-ff58-440e-a859-7212d77a3582",
        "colab": {
          "base_uri": "https://localhost:8080/"
        }
      },
      "execution_count": 10,
      "outputs": [
        {
          "output_type": "execute_result",
          "data": {
            "text/plain": [
              "[2, 3, 4]"
            ]
          },
          "metadata": {},
          "execution_count": 10
        }
      ]
    },
    {
      "cell_type": "markdown",
      "source": [
        "### `len`"
      ],
      "metadata": {
        "id": "4pGAvPTm-ibV"
      }
    },
    {
      "cell_type": "code",
      "source": [
        "colores = ['rojo', 'verde', 'azul']\n",
        "len(colores)                            # longitud de la lista"
      ],
      "metadata": {
        "colab": {
          "base_uri": "https://localhost:8080/"
        },
        "id": "4y9qU3ly8yyw",
        "outputId": "358dfcf9-0b6c-4426-8b24-e12307d571ff"
      },
      "execution_count": null,
      "outputs": [
        {
          "output_type": "execute_result",
          "data": {
            "text/plain": [
              "3"
            ]
          },
          "metadata": {},
          "execution_count": 14
        }
      ]
    },
    {
      "cell_type": "code",
      "source": [
        "len(deportista)"
      ],
      "metadata": {
        "colab": {
          "base_uri": "https://localhost:8080/"
        },
        "id": "jgqzLpU-9GtN",
        "outputId": "7b4d5af1-22b5-4110-dc7f-8a0abd483baa"
      },
      "execution_count": null,
      "outputs": [
        {
          "output_type": "execute_result",
          "data": {
            "text/plain": [
              "5"
            ]
          },
          "metadata": {},
          "execution_count": 15
        }
      ]
    },
    {
      "cell_type": "markdown",
      "source": [
        "### `in`\n",
        "* Es un operador de pertenencia.\n",
        "* Permite saber si un elemento está en la lista\n",
        "* Da `True` si el valor especificado se encuentra en la secuencia\n",
        "* Tambíen existe `not in`"
      ],
      "metadata": {
        "id": "W2xEhh1_-lOi"
      }
    },
    {
      "cell_type": "code",
      "source": [
        "'rojo' in colores"
      ],
      "metadata": {
        "colab": {
          "base_uri": "https://localhost:8080/"
        },
        "id": "895dp0kt-VRW",
        "outputId": "0dfd3b9c-dadc-49a8-a69d-499b5703b953"
      },
      "execution_count": null,
      "outputs": [
        {
          "output_type": "execute_result",
          "data": {
            "text/plain": [
              "True"
            ]
          },
          "metadata": {},
          "execution_count": 16
        }
      ]
    },
    {
      "cell_type": "markdown",
      "source": [
        "### `insert`\n",
        "Insertamos un elemento en una posición"
      ],
      "metadata": {
        "id": "PJS01z-gETXr"
      }
    },
    {
      "cell_type": "code",
      "source": [
        "colores = ['rojo', 'verde', 'azul']\n",
        "colores.insert(1, \"naranja\")        # indicamos la posición a insertar\n",
        "colores"
      ],
      "metadata": {
        "colab": {
          "base_uri": "https://localhost:8080/"
        },
        "id": "N25vVCpBEWhe",
        "outputId": "d22d7713-0738-4d13-b86d-004054a1ff07"
      },
      "execution_count": null,
      "outputs": [
        {
          "output_type": "execute_result",
          "data": {
            "text/plain": [
              "['rojo', 'naranja', 'verde', 'azul']"
            ]
          },
          "metadata": {},
          "execution_count": 23
        }
      ]
    },
    {
      "cell_type": "markdown",
      "source": [
        "### `remove`"
      ],
      "metadata": {
        "id": "7hc9UeGiIBzM"
      }
    },
    {
      "cell_type": "code",
      "source": [
        "colores.remove('naranja')\n",
        "colores"
      ],
      "metadata": {
        "colab": {
          "base_uri": "https://localhost:8080/"
        },
        "id": "FSeJYu7MIE7a",
        "outputId": "1c2ceeb5-6cca-422d-8f99-c23b4725fdd5"
      },
      "execution_count": null,
      "outputs": [
        {
          "output_type": "execute_result",
          "data": {
            "text/plain": [
              "['rojo', 'verde', 'azul']"
            ]
          },
          "metadata": {},
          "execution_count": 24
        }
      ]
    },
    {
      "cell_type": "markdown",
      "source": [
        "### `clear`\n",
        "Elimina todos los elementos de la lista."
      ],
      "metadata": {
        "id": "iUeA-RbnI4g1"
      }
    },
    {
      "cell_type": "code",
      "source": [
        "colores.clear()\n",
        "colores"
      ],
      "metadata": {
        "colab": {
          "base_uri": "https://localhost:8080/"
        },
        "id": "v1QRJWVVI_tH",
        "outputId": "e5645087-3faf-49be-c786-5e2528caa80d"
      },
      "execution_count": null,
      "outputs": [
        {
          "output_type": "execute_result",
          "data": {
            "text/plain": [
              "[]"
            ]
          },
          "metadata": {},
          "execution_count": 26
        }
      ]
    },
    {
      "cell_type": "markdown",
      "source": [
        "### `index`\n",
        "¿Qué index ocupa un elemento dentro de una lista?"
      ],
      "metadata": {
        "id": "6sQ6Jc9nJ58S"
      }
    },
    {
      "cell_type": "code",
      "source": [
        "colores = ['rojo', 'verde', 'azul']\n",
        "colores.index('azul')                   # da el index de un elemento"
      ],
      "metadata": {
        "colab": {
          "base_uri": "https://localhost:8080/"
        },
        "id": "Uh3ewjBCJ-JZ",
        "outputId": "0a2696d0-53dd-4cd4-8d08-d1f888d3c0a9"
      },
      "execution_count": null,
      "outputs": [
        {
          "output_type": "execute_result",
          "data": {
            "text/plain": [
              "2"
            ]
          },
          "metadata": {},
          "execution_count": 30
        }
      ]
    },
    {
      "cell_type": "markdown",
      "source": [
        "### `count`"
      ],
      "metadata": {
        "id": "tQO__2bXKXEd"
      }
    },
    {
      "cell_type": "code",
      "source": [
        "num = [5, 8, 9, 5, 2, 5, 9]\n",
        "num.count(5)"
      ],
      "metadata": {
        "colab": {
          "base_uri": "https://localhost:8080/"
        },
        "id": "FQ62ykHqKr08",
        "outputId": "c0b1e703-055e-4ded-bbb0-f14408852799"
      },
      "execution_count": 2,
      "outputs": [
        {
          "output_type": "execute_result",
          "data": {
            "text/plain": [
              "3"
            ]
          },
          "metadata": {},
          "execution_count": 2
        }
      ]
    },
    {
      "cell_type": "markdown",
      "source": [
        "### Operar con elementos de la lista"
      ],
      "metadata": {
        "id": "JXWIb8qdZOQE"
      }
    },
    {
      "cell_type": "code",
      "source": [
        "num[0] += 1     # incrementamos en 1 el primer elemento de la lista\n",
        "num"
      ],
      "metadata": {
        "id": "bGyWSOoGY9Ab",
        "outputId": "a28a1ddf-633b-4c2f-abae-37049c4f54fc",
        "colab": {
          "base_uri": "https://localhost:8080/"
        }
      },
      "execution_count": 3,
      "outputs": [
        {
          "output_type": "execute_result",
          "data": {
            "text/plain": [
              "[6, 8, 9, 5, 2, 5, 9]"
            ]
          },
          "metadata": {},
          "execution_count": 3
        }
      ]
    },
    {
      "cell_type": "markdown",
      "source": [
        "### `reverse`"
      ],
      "metadata": {
        "id": "DWda8vc5Z5EN"
      }
    },
    {
      "cell_type": "code",
      "source": [
        "lista = [1,2,3,4]\n",
        "lista.reverse()\n",
        "lista"
      ],
      "metadata": {
        "colab": {
          "base_uri": "https://localhost:8080/"
        },
        "id": "tQh73KmTzf28",
        "outputId": "b767b99a-ea4b-4784-882c-2451b7ebafc1"
      },
      "execution_count": null,
      "outputs": [
        {
          "output_type": "execute_result",
          "data": {
            "text/plain": [
              "[4, 3, 2, 1]"
            ]
          },
          "metadata": {},
          "execution_count": 16
        }
      ]
    },
    {
      "cell_type": "markdown",
      "source": [
        "#### Ejemplo\n",
        "Podemos crear el reverso de una palabra para ver si son palíndromos."
      ],
      "metadata": {
        "id": "r6cEDNS5Z_jb"
      }
    },
    {
      "cell_type": "code",
      "source": [
        "array_letras = list(\"amor\")\n",
        "print(array_letras)\n",
        "reverso = array_letras[::-1]\n",
        "print(reverso)\n",
        "ciudad = ''.join(reverso)\n",
        "print(ciudad.capitalize())"
      ],
      "metadata": {
        "colab": {
          "base_uri": "https://localhost:8080/"
        },
        "id": "lz5sA8qRyThA",
        "outputId": "acaaff4a-f909-4e1a-d906-bccb081d2835"
      },
      "execution_count": null,
      "outputs": [
        {
          "output_type": "stream",
          "name": "stdout",
          "text": [
            "['a', 'm', 'o', 'r']\n",
            "['r', 'o', 'm', 'a']\n",
            "Roma\n"
          ]
        }
      ]
    },
    {
      "cell_type": "code",
      "source": [
        "palabra1 = \"Roma\"\n",
        "palabra2 = \"amor\"\n",
        "\n",
        "print(f\"Las palabras {palabra1} y {palabra2} ¿son palíndromos?\")\n",
        "\n",
        "palabra1_lista = list(palabra1.lower())\n",
        "palabra2_lista = list(palabra2.lower())\n",
        "\n",
        "palabra1_lista == palabra2_lista[::-1]"
      ],
      "metadata": {
        "id": "LNgV_uAAaTO8",
        "outputId": "b6b438fd-459f-45c1-bb59-ba637647ac40",
        "colab": {
          "base_uri": "https://localhost:8080/"
        }
      },
      "execution_count": 6,
      "outputs": [
        {
          "output_type": "stream",
          "name": "stdout",
          "text": [
            "Las palabras Roma y amor ¿son palíndromos?\n"
          ]
        },
        {
          "output_type": "execute_result",
          "data": {
            "text/plain": [
              "True"
            ]
          },
          "metadata": {},
          "execution_count": 6
        }
      ]
    },
    {
      "cell_type": "markdown",
      "source": [
        "### `sort`"
      ],
      "metadata": {
        "id": "RcFdHZeZJRes"
      }
    },
    {
      "cell_type": "code",
      "source": [
        "colores = ['rojo', 'verde', 'azul']\n",
        "colores.sort()                          # orden alfabético\n",
        "colores"
      ],
      "metadata": {
        "colab": {
          "base_uri": "https://localhost:8080/"
        },
        "id": "VdeCZrScJUYM",
        "outputId": "858c5af3-117e-416f-fcec-13196a27df15"
      },
      "execution_count": null,
      "outputs": [
        {
          "output_type": "execute_result",
          "data": {
            "text/plain": [
              "['azul', 'rojo', 'verde']"
            ]
          },
          "metadata": {},
          "execution_count": 28
        }
      ]
    },
    {
      "cell_type": "code",
      "source": [
        "colores = ['rojo', 'verde', 'azul']\n",
        "colores.sort(reverse = True)            # orden alfabético inverso\n",
        "colores"
      ],
      "metadata": {
        "colab": {
          "base_uri": "https://localhost:8080/"
        },
        "id": "k79gQOhXJlP7",
        "outputId": "911c052c-b7a1-418b-eeae-ef35355e9535"
      },
      "execution_count": null,
      "outputs": [
        {
          "output_type": "execute_result",
          "data": {
            "text/plain": [
              "['verde', 'rojo', 'azul']"
            ]
          },
          "metadata": {},
          "execution_count": 29
        }
      ]
    },
    {
      "cell_type": "markdown",
      "source": [
        "## ```sort``` y ```sorted```"
      ],
      "metadata": {
        "id": "SP3HAf4yFSVB"
      }
    },
    {
      "cell_type": "code",
      "source": [
        "l = [5,2,6,1,9,0,-3]\n",
        "print(\"lista inicial\", l)\n",
        "l.sort()                        # l.sort() realmente ordena la lista pero se ha de poner antes del print\n",
        "print(\"lista ordenada\", l)"
      ],
      "metadata": {
        "colab": {
          "base_uri": "https://localhost:8080/"
        },
        "id": "ZtoYUt4MFY7F",
        "outputId": "fca17556-5559-4df1-a0b0-188136de8571"
      },
      "execution_count": null,
      "outputs": [
        {
          "output_type": "stream",
          "name": "stdout",
          "text": [
            "lista inicial [5, 2, 6, 1, 9, 0, -3]\n",
            "lista ordenada [-3, 0, 1, 2, 5, 6, 9]\n"
          ]
        }
      ]
    },
    {
      "cell_type": "code",
      "source": [
        "l = [5,2,6,1,9,0,-3]\n",
        "print(\"lista inicial\", l)\n",
        "print(\"lista ordenada\", sorted(l))     # realmente no ordena la lista pero si la imprime ordenada\n",
        "print(\"lista final\", l)"
      ],
      "metadata": {
        "colab": {
          "base_uri": "https://localhost:8080/"
        },
        "id": "jOww6XMuF7aF",
        "outputId": "5b437446-7b0b-4889-b6fb-e568897a6f54"
      },
      "execution_count": null,
      "outputs": [
        {
          "output_type": "stream",
          "name": "stdout",
          "text": [
            "lista inicial [5, 2, 6, 1, 9, 0, -3]\n",
            "lista ordenada [-3, 0, 1, 2, 5, 6, 9]\n",
            "lista final [5, 2, 6, 1, 9, 0, -3]\n"
          ]
        }
      ]
    }
  ]
}