{
  "nbformat": 4,
  "nbformat_minor": 0,
  "metadata": {
    "colab": {
      "provenance": [],
      "authorship_tag": "ABX9TyNm6lnlHX8HE+ay8FjWmMjR",
      "include_colab_link": true
    },
    "kernelspec": {
      "name": "python3",
      "display_name": "Python 3"
    },
    "language_info": {
      "name": "python"
    }
  },
  "cells": [
    {
      "cell_type": "markdown",
      "metadata": {
        "id": "view-in-github",
        "colab_type": "text"
      },
      "source": [
        "<a href=\"https://colab.research.google.com/github/financieras/pySolutions/blob/main/retos/soluciones_arrastrar.ipynb\" target=\"_parent\"><img src=\"https://colab.research.google.com/assets/colab-badge.svg\" alt=\"Open In Colab\"/></a>"
      ]
    },
    {
      "cell_type": "markdown",
      "source": [
        "## arrastrar_reto001_p1\n",
        "Hemos creado varias versiones de una función que permite sumar dos números."
      ],
      "metadata": {
        "id": "0WF37ebG6PMw"
      }
    },
    {
      "cell_type": "code",
      "source": [
        "def sumar(a, b):\n",
        "    return a + b\n",
        "\n",
        "def sumar(num1, num2):\n",
        "    suma = num1 + num2\n",
        "    return suma\n",
        "\n",
        "def sumar(a, b):\n",
        "    return sum((a, b))\n",
        "\n",
        "print(sumar(3, 2))      # Imprime: 5\n",
        "print(sumar(-3, -6))    # Imprime: -9\n",
        "print(sumar(7, 3))      # Imprime: 10"
      ],
      "metadata": {
        "colab": {
          "base_uri": "https://localhost:8080/"
        },
        "id": "o_F3G7Y17t0D",
        "outputId": "f0467056-31b5-4784-daf2-704b0023cbc3"
      },
      "execution_count": null,
      "outputs": [
        {
          "output_type": "stream",
          "name": "stdout",
          "text": [
            "5\n",
            "-9\n",
            "10\n"
          ]
        }
      ]
    },
    {
      "cell_type": "markdown",
      "source": [
        "## arrastrar_reto001_p2\n",
        "Hemos creado varias versiones de una función que permite multiplicar dos números."
      ],
      "metadata": {
        "id": "QJYSwN0_7Kwn"
      }
    },
    {
      "cell_type": "code",
      "source": [
        "def producto(a, b):\n",
        "    return a * b\n",
        "\n",
        "def producto(num1, num2):\n",
        "    result = num1 * num2\n",
        "    return result\n",
        "\n",
        "print(producto(3, 2))      # Imprime: 6\n",
        "print(producto(-3, -6))    # Imprime: 18\n",
        "print(producto(7, -2))     # Imprime: -14"
      ],
      "metadata": {
        "colab": {
          "base_uri": "https://localhost:8080/"
        },
        "id": "jS_Re_SX74WH",
        "outputId": "233b217e-31bd-4304-d113-200dc35bb53e"
      },
      "execution_count": null,
      "outputs": [
        {
          "output_type": "stream",
          "name": "stdout",
          "text": [
            "6\n",
            "18\n",
            "-14\n"
          ]
        }
      ]
    },
    {
      "cell_type": "markdown",
      "source": [
        "## arrastrar_reto002_p1\n",
        "Disponemos de una función que sirve para convertir los minutos en segundos."
      ],
      "metadata": {
        "id": "R5HzIq818P6Z"
      }
    },
    {
      "cell_type": "code",
      "source": [
        "def minutos_a_segundos(minutos):\n",
        "    return minutos * 60\n",
        "\n",
        "print(minutos_a_segundos(3))   # Imprime: 180\n",
        "print(minutos_a_segundos(5))   # Imprime: 300"
      ],
      "metadata": {
        "id": "zXqqHfIK8UpS",
        "colab": {
          "base_uri": "https://localhost:8080/"
        },
        "outputId": "b3a6c16b-157e-43f0-9d81-ad98024d66a5"
      },
      "execution_count": null,
      "outputs": [
        {
          "output_type": "stream",
          "name": "stdout",
          "text": [
            "180\n",
            "300\n"
          ]
        }
      ]
    },
    {
      "cell_type": "markdown",
      "source": [
        "## arrastrar_reto002_p2\n",
        "Disponemos de una función que recibe un número y retorna su doble."
      ],
      "metadata": {
        "id": "_qkKPwGN8P21"
      }
    },
    {
      "cell_type": "code",
      "source": [
        "def doblar(numero):\n",
        "    return 2 * numero\n",
        "\n",
        "print(doblar(3))    # Imprime: 6\n",
        "print(doblar(-5))   # Imprime: -10"
      ],
      "metadata": {
        "id": "Waib7v3n8agU",
        "colab": {
          "base_uri": "https://localhost:8080/"
        },
        "outputId": "7bcfbee5-bdba-4069-8543-30765cc3fb1c"
      },
      "execution_count": null,
      "outputs": [
        {
          "output_type": "stream",
          "name": "stdout",
          "text": [
            "6\n",
            "-10\n"
          ]
        }
      ]
    },
    {
      "cell_type": "markdown",
      "source": [
        "## arrastrar_reto003_p1\n",
        "Disponemos de una función que sirve para dar el siguiente número a uno dado.\n",
        "\n",
        "Por ejemplo, si nos pasan un 5 la función debe retornar 6 que es el siguiente a 5."
      ],
      "metadata": {
        "id": "ufSQe_1Y8P0C"
      }
    },
    {
      "cell_type": "code",
      "source": [
        "def siguiente(n):\n",
        "    n += 1\n",
        "    return  n\n",
        "\n",
        "print(siguiente(5))    # Imprime 6"
      ],
      "metadata": {
        "colab": {
          "base_uri": "https://localhost:8080/"
        },
        "id": "FPXVTJCdt9Cn",
        "outputId": "2e077f53-38dd-46b1-e71c-778b486684d4"
      },
      "execution_count": null,
      "outputs": [
        {
          "output_type": "stream",
          "name": "stdout",
          "text": [
            "6\n"
          ]
        }
      ]
    },
    {
      "cell_type": "markdown",
      "source": [
        "## arrastrar_reto003_p2\n",
        "Disponemos de una función que recibe un número entero y devuelve el anterior.\n",
        "\n",
        "Por ejemplo, si nos pasan un 5 la función debe retornar 4 que es el anterior a 5."
      ],
      "metadata": {
        "id": "n6ZZXNMf8PxF"
      }
    },
    {
      "cell_type": "code",
      "source": [
        "def anterior(n):\n",
        "    n -= 1\n",
        "    return  n\n",
        "\n",
        "print(anterior(5))    # Imprime 4"
      ],
      "metadata": {
        "colab": {
          "base_uri": "https://localhost:8080/"
        },
        "id": "h_iJsgR3uRQa",
        "outputId": "c5a6f909-21c7-4e46-ff86-ad2954d7a6e1"
      },
      "execution_count": null,
      "outputs": [
        {
          "output_type": "stream",
          "name": "stdout",
          "text": [
            "4\n"
          ]
        }
      ]
    },
    {
      "cell_type": "markdown",
      "source": [
        "## arrastrar_reto004_p1\n",
        "Disponemos de una función que sirve para calcular el área de un triángulo.\n",
        "\n",
        "Ejemplo:\n",
        "\n",
        "El área del triángulo de base 20 y altura 5 es: 50.0"
      ],
      "metadata": {
        "id": "iByVjilp8PuK"
      }
    },
    {
      "cell_type": "code",
      "source": [
        "def area_triangulo(base, altura):\n",
        "    area = base * altura / 2\n",
        "    return area\n",
        "\n",
        "# Ejemplo de uso:\n",
        "base = 20\n",
        "altura = 5\n",
        "resultado = area_triangulo(base, altura)\n",
        "print(\"El área del triángulo de base\", base, \"y altura\", altura, \"es:\", resultado)"
      ],
      "metadata": {
        "colab": {
          "base_uri": "https://localhost:8080/"
        },
        "id": "3_YxT9FivHrn",
        "outputId": "8b83da4f-3548-4b83-b511-85e1f797684c"
      },
      "execution_count": null,
      "outputs": [
        {
          "output_type": "stream",
          "name": "stdout",
          "text": [
            "El área del triángulo de base 20 y altura 5 es: 50.0\n"
          ]
        }
      ]
    },
    {
      "cell_type": "markdown",
      "source": [
        "## arrastrar_reto004_p2\n",
        "Disponemos de una función que recibe dos parámetros $a$ y $b$ y devuelve el cuadrado de la suma que es $(a+b)^2$."
      ],
      "metadata": {
        "id": "eF90B6KH8Pq_"
      }
    },
    {
      "cell_type": "code",
      "source": [
        "def cuadrado_de_la_suma(a, b):\n",
        "    suma = a + b\n",
        "    cuadrado_suma = suma ** 2\n",
        "    return cuadrado_suma\n",
        "\n",
        "# Ejemplo de uso:\n",
        "a = 3\n",
        "b = 4\n",
        "resultado = cuadrado_de_la_suma(a, b)\n",
        "print(\"El cuadrado de la suma de\", a, \"y\", b, \"es\", resultado)"
      ],
      "metadata": {
        "colab": {
          "base_uri": "https://localhost:8080/"
        },
        "id": "LqJsXcR9wD9x",
        "outputId": "cf499a00-fa14-491d-8440-1ab0c60ad928"
      },
      "execution_count": null,
      "outputs": [
        {
          "output_type": "stream",
          "name": "stdout",
          "text": [
            "El cuadrado de la suma de 3 y 4 es 49\n"
          ]
        }
      ]
    },
    {
      "cell_type": "markdown",
      "source": [
        "## arrastrar_reto005_p1\n",
        "Disponemos de una función que sirve para obtener el primer valor de un array."
      ],
      "metadata": {
        "id": "UuCh7YEN8Pn5"
      }
    },
    {
      "cell_type": "code",
      "source": [
        "def obtener_primer_valor(lista):\n",
        "    resultado_a = lista[0]\n",
        "    resultado_b = lista[1]\n",
        "    resultado_c = lista[-1]\n",
        "    return resultado_a\n",
        "\n",
        "print(obtener_primer_valor([10,20,40,80]))  # Imprime: 10"
      ],
      "metadata": {
        "colab": {
          "base_uri": "https://localhost:8080/"
        },
        "id": "gqElPcl1w-uv",
        "outputId": "11e9ed6f-2ad4-43e8-e015-bb7f68ae0ab6"
      },
      "execution_count": null,
      "outputs": [
        {
          "output_type": "stream",
          "name": "stdout",
          "text": [
            "10\n"
          ]
        }
      ]
    },
    {
      "cell_type": "markdown",
      "source": [
        "## arrastrar_reto005_p2\n",
        "Disponemos de una función que sirve para obtener la diferencia entre el último valor y el primer valor de un array de números."
      ],
      "metadata": {
        "id": "xfjQkxT88PbU"
      }
    },
    {
      "cell_type": "code",
      "source": [
        "def ultimo_menos_primero(lista):\n",
        "    resultado_a = lista[1] - lista[2]\n",
        "    resultado_b = lista[-1] - lista[1]\n",
        "    resultado_c = lista[-1] - lista[0]\n",
        "    return resultado_c\n",
        "\n",
        "print(ultimo_menos_primero([10,20,40,80]))  # Imprime: 70"
      ],
      "metadata": {
        "colab": {
          "base_uri": "https://localhost:8080/"
        },
        "id": "r2NfUqDVxQZi",
        "outputId": "c7d4fb8e-a9f5-43d3-cc1f-1be76b5cce2d"
      },
      "execution_count": null,
      "outputs": [
        {
          "output_type": "stream",
          "name": "stdout",
          "text": [
            "70\n"
          ]
        }
      ]
    },
    {
      "cell_type": "markdown",
      "source": [
        "## arrastrar_reto006_p1\n",
        "Disponemos de una función que calcula la potencia eléctrica multiplicando la intensidad de corriente por el voltaje."
      ],
      "metadata": {
        "id": "E5U9MdFc8PKW"
      }
    },
    {
      "cell_type": "code",
      "source": [
        "def potencia(voltaje, intensidad):\n",
        "    return voltaje * intensidad\n",
        "\n",
        "print(potencia(220, 4))    # Imprime: 880"
      ],
      "metadata": {
        "colab": {
          "base_uri": "https://localhost:8080/"
        },
        "id": "CTu-wXlQxfVK",
        "outputId": "9ad77908-bc26-455a-8182-7316cb172aac"
      },
      "execution_count": null,
      "outputs": [
        {
          "output_type": "stream",
          "name": "stdout",
          "text": [
            "880\n"
          ]
        }
      ]
    },
    {
      "cell_type": "markdown",
      "source": [
        "## arrastrar_reto006_p2\n",
        "Disponemos de una función que realiza la división entera entre numerador y denominador."
      ],
      "metadata": {
        "id": "A8rvdZGq7LJn"
      }
    },
    {
      "cell_type": "code",
      "source": [
        "# La división entera elimina decimales\n",
        "# No redondea, simplemente elimina los decimales\n",
        "\n",
        "def division_entera(numerador, denominador):\n",
        "    return numerador // denominador\n",
        "\n",
        "print(division_entera(19, 5))   # Imprime: 3"
      ],
      "metadata": {
        "colab": {
          "base_uri": "https://localhost:8080/"
        },
        "id": "wCbdnLC2xvTt",
        "outputId": "79c13d56-9201-4933-d6b9-3a07a7142a60"
      },
      "execution_count": null,
      "outputs": [
        {
          "output_type": "stream",
          "name": "stdout",
          "text": [
            "3\n"
          ]
        }
      ]
    },
    {
      "cell_type": "markdown",
      "source": [
        "## arrastrar_reto007_p1\n",
        "Disponemos de una función que sirve para convertir las horas en segundos.\n",
        "\n",
        "Queremos convertir 2 horas a segundos e imprimir el resultado."
      ],
      "metadata": {
        "id": "3w5SqT-O7LSA"
      }
    },
    {
      "cell_type": "code",
      "source": [
        "def horas_a_segundos(horas):\n",
        "    # Función que convierte horas a segundos\n",
        "    minutos = horas * 60\n",
        "    segundos = minutos * 60\n",
        "    return segundos\n",
        "\n",
        "print(horas_a_segundos(2))   # Imprime: 7200"
      ],
      "metadata": {
        "colab": {
          "base_uri": "https://localhost:8080/"
        },
        "id": "0Y8-f8WRyF4b",
        "outputId": "72062bf1-340a-4d3b-ccd4-6d16badc8a8e"
      },
      "execution_count": null,
      "outputs": [
        {
          "output_type": "stream",
          "name": "stdout",
          "text": [
            "7200\n"
          ]
        }
      ]
    },
    {
      "cell_type": "markdown",
      "source": [
        "## arrastrar_reto007_p2\n",
        "Disponemos de una función que sirve para convertir metros a milímetros.\n",
        "\n",
        "Queremos convertir 2 metros a milímetros e imprimir el resultado."
      ],
      "metadata": {
        "id": "kPYKOD_rtQIw"
      }
    },
    {
      "cell_type": "code",
      "source": [
        "def convierte(metros):\n",
        "    # Función que convierte metros a milímetros\n",
        "    centimetros = metros * 100\n",
        "    milimetros = centimetros * 10\n",
        "    return milimetros\n",
        "\n",
        "print(convierte(2))   # Imprime: 2000"
      ],
      "metadata": {
        "colab": {
          "base_uri": "https://localhost:8080/"
        },
        "id": "2NQO8HgSyVva",
        "outputId": "7ca62151-6e78-4fe3-80bd-ff9bc4bb82ce"
      },
      "execution_count": null,
      "outputs": [
        {
          "output_type": "stream",
          "name": "stdout",
          "text": [
            "2000\n"
          ]
        }
      ]
    },
    {
      "cell_type": "markdown",
      "source": [
        "## arrastrar_reto008_p1\n",
        "Disponemos de una función que sirve para calcular el módulo, residuo o resto resultante al dividir un numerador entre un denominador.\n",
        "\n",
        "Queremos calcular el resto que se obtiene al dividir 17 entre 5. Ejecutando este código obtendremos la frase:\n",
        "\n",
        "Al dividir 17 entre 5 el resto es 2"
      ],
      "metadata": {
        "id": "YspQ4r_XtR_X"
      }
    },
    {
      "cell_type": "code",
      "source": [
        "def resto(numerador, denominador):\n",
        "    return numerador % denominador\n",
        "\n",
        "a = 17\n",
        "b = 5\n",
        "\n",
        "print(\"Al dividir\", a, \"entre\", b, \"el resto es\", resto(a, b))"
      ],
      "metadata": {
        "colab": {
          "base_uri": "https://localhost:8080/"
        },
        "id": "vRi-Neeiyoaf",
        "outputId": "bdf110f0-1971-469c-9d5f-d274edc9be62"
      },
      "execution_count": null,
      "outputs": [
        {
          "output_type": "stream",
          "name": "stdout",
          "text": [
            "Al dividir 17 entre 5 el resto es 2\n"
          ]
        }
      ]
    },
    {
      "cell_type": "markdown",
      "source": [
        "## arrastrar_reto008_p2\n",
        "Disponemos de una función que sirve para calcular el módulo, residuo o resto resultante al dividir un numerador entre un denominador.\n",
        "\n",
        "Queremos calcular el resto que se obtiene al dividir 5 entre 2. El resto obtenido debería ser 1."
      ],
      "metadata": {
        "id": "BvoefZfXtSJN"
      }
    },
    {
      "cell_type": "code",
      "source": [
        "def resto(numerador, denominador):\n",
        "    return numerador % denominador\n",
        "\n",
        "a = 5\n",
        "b = 2\n",
        "\n",
        "print(\"Al dividir\", a, \"entre\", b, \"el resto es\", resto(a, b))\n",
        "print(\"Al dividir\", a, \"entre 2, si el resto es 0 se trata de número par\")\n",
        "print(\"Al dividir\", a, \"entre 2, si el resto es 1 se trata de número impar\")"
      ],
      "metadata": {
        "colab": {
          "base_uri": "https://localhost:8080/"
        },
        "id": "OzEp3yBjzDym",
        "outputId": "7c320d9c-640c-4f39-8383-1b299ee0ffea"
      },
      "execution_count": null,
      "outputs": [
        {
          "output_type": "stream",
          "name": "stdout",
          "text": [
            "Al dividir 5 entre 2 el resto es 1\n",
            "Al dividir 5 entre 2, si el resto es 0 se trata de número par\n",
            "Al dividir 5 entre 2, si el resto es 1 se trata de número impar\n"
          ]
        }
      ]
    },
    {
      "cell_type": "markdown",
      "source": [
        "## arrastrar_reto009_p1\n",
        "Disponemos de una función que sirve para convertir una cadena en un número entero.\n",
        "\n",
        "Dado un número \"5\" como cadena queremos que nos devuelva un 5 como número entero."
      ],
      "metadata": {
        "id": "1zOTuNATtSXR"
      }
    },
    {
      "cell_type": "code",
      "source": [
        "def cadena_a_entero(num):\n",
        "    return int(num)\n",
        "\n",
        "n = \"5\"\n",
        "print(cadena_a_entero(n))"
      ],
      "metadata": {
        "colab": {
          "base_uri": "https://localhost:8080/"
        },
        "id": "g2ZZatePzptB",
        "outputId": "6e8a81bc-b7a1-4eab-d045-becffecd6870"
      },
      "execution_count": null,
      "outputs": [
        {
          "output_type": "stream",
          "name": "stdout",
          "text": [
            "5\n"
          ]
        }
      ]
    },
    {
      "cell_type": "markdown",
      "source": [
        "## arrastrar_reto009_p2\n",
        "Disponemos de una función que sirve para convertir un número entero en una cadena.\n",
        "\n",
        "Dado el número 5 como entero queremos que nos devuelva un \"5\" como cadena."
      ],
      "metadata": {
        "id": "8H3xCg_rtSgU"
      }
    },
    {
      "cell_type": "code",
      "source": [
        "def entero_a_cadena(num):\n",
        "    return str(num)\n",
        "\n",
        "n = 5\n",
        "print(entero_a_cadena(n))"
      ],
      "metadata": {
        "colab": {
          "base_uri": "https://localhost:8080/"
        },
        "id": "GY3EdNE7z_Y1",
        "outputId": "82af2963-00c2-40c1-c443-bd6e29106d81"
      },
      "execution_count": null,
      "outputs": [
        {
          "output_type": "stream",
          "name": "stdout",
          "text": [
            "5\n"
          ]
        }
      ]
    },
    {
      "cell_type": "markdown",
      "source": [
        "## arrastrar_reto010_p1\n",
        "Disponemos de una función que sirve para calcular el perímetro de un rectángulo.\n",
        "\n",
        "Dado un rectángulo de largo 10 y de ancho 3 deseamos calcular e imprimir su perímetro."
      ],
      "metadata": {
        "id": "7yTSogTWtTLg"
      }
    },
    {
      "cell_type": "code",
      "source": [
        "def perimetro(largo, ancho):\n",
        "    return 2 * (largo + ancho)\n",
        "\n",
        "print(perimetro(10, 3))    # Imprime: 26"
      ],
      "metadata": {
        "colab": {
          "base_uri": "https://localhost:8080/"
        },
        "id": "Isd9yO3u0FoS",
        "outputId": "a22d8368-1690-4bbe-87c6-9e09e20f50f2"
      },
      "execution_count": null,
      "outputs": [
        {
          "output_type": "stream",
          "name": "stdout",
          "text": [
            "26\n"
          ]
        }
      ]
    },
    {
      "cell_type": "markdown",
      "source": [
        "## arrastrar_reto010_p2\n",
        "<p>Disponemos de una función que recibe el precio base de un artículo y le incrementa con el tanto por uno de IVA para devolver el precio final.</p>\n",
        "<p>La fórmula es la siguiente:</p>\n",
        "<p>$\\text{Precio Final} = \\text{Precio Base} \\times (1 + \\text{IVA})$</p>\n",
        "<p>Dado un precio base de 200 € y un IVA del 21%, que en tanto por uno es 0.21, se obtiene un precio final calculado así:</p>\n",
        "<p>$\\text{Precio Final} = 200 \\times (1 + 0.21) = 242$ €.</p>"
      ],
      "metadata": {
        "id": "2hrHBvrstTVB"
      }
    },
    {
      "cell_type": "code",
      "source": [
        "def precio_final(precio_base, iva):\n",
        "    return precio_base * (1 + iva)\n",
        "\n",
        "print(precio_final(200, 0.21))    # Imprime: 242.0"
      ],
      "metadata": {
        "colab": {
          "base_uri": "https://localhost:8080/"
        },
        "id": "r0aK2SkS04vG",
        "outputId": "a51e96c5-4400-4349-ce0a-4cbe382cffe4"
      },
      "execution_count": null,
      "outputs": [
        {
          "output_type": "stream",
          "name": "stdout",
          "text": [
            "242.0\n"
          ]
        }
      ]
    },
    {
      "cell_type": "markdown",
      "source": [
        "## arrastrar_reto011_p1\n",
        "Hemos creado varias versiones de una función que recibe una palabra y la retorna añadiendo una admiración al final.\n",
        "\n",
        "Si recibe la palabra \"Viernes\" queremos que retorne: \"Viernes!\"."
      ],
      "metadata": {
        "id": "CXAx0wfg2YDL"
      }
    },
    {
      "cell_type": "code",
      "source": [
        "def enfasis(palabra):\n",
        "    return palabra + \"!\"\n",
        "\n",
        "def enfasis(palabra):\n",
        "    return f\"{palabra}!\"\n",
        "\n",
        "#dia = Viernes\n",
        "dia = \"Viernes\"\n",
        "print(enfasis(dia))"
      ],
      "metadata": {
        "id": "zX_pT4WdVAj1",
        "outputId": "78080e88-2b86-470a-a431-137a9fc2d756",
        "colab": {
          "base_uri": "https://localhost:8080/"
        }
      },
      "execution_count": null,
      "outputs": [
        {
          "output_type": "stream",
          "name": "stdout",
          "text": [
            "Viernes!\n"
          ]
        }
      ]
    },
    {
      "cell_type": "markdown",
      "source": [
        "## arrastrar_reto011_p2\n",
        "Hemos creado varias versiones de una función que recibe una palabra y la retorna añadiendo al inicio \"Por fin es \" y añadiendo al final una admiración.\n",
        "\n",
        "Si recibe la palabra \"Viernes\" queremos que retorne: \"Por fin es Viernes!\"."
      ],
      "metadata": {
        "id": "P-agtXZ22X12"
      }
    },
    {
      "cell_type": "code",
      "source": [
        "def enfasis(palabra):\n",
        "    return \"Por fin es \" + palabra + \"!\"\n",
        "\n",
        "def enfasis(palabra):\n",
        "    return f\"Por fin es {palabra}!\"\n",
        "\n",
        "#dia = Viernes\n",
        "dia = \"Viernes\"\n",
        "print(enfasis(dia))"
      ],
      "metadata": {
        "id": "QCwXpqWjVqdm",
        "outputId": "169ed20c-0170-473d-9732-a3ee0cf528b0",
        "colab": {
          "base_uri": "https://localhost:8080/"
        }
      },
      "execution_count": null,
      "outputs": [
        {
          "output_type": "stream",
          "name": "stdout",
          "text": [
            "Por fin es Viernes!\n"
          ]
        }
      ]
    },
    {
      "cell_type": "markdown",
      "source": [
        "## arrastrar_reto012_p1\n",
        "Disponemos de una función que recibe la edad de una persona y nos dice si es mayor de edad o no."
      ],
      "metadata": {
        "id": "Xf93sB102XpS"
      }
    },
    {
      "cell_type": "code",
      "source": [
        "def mayor_menor(edad):\n",
        "    if edad >= 18:\n",
        "        return \"es mayor de edad\"\n",
        "    else:\n",
        "        return \"es menor de edad\"\n",
        "\n",
        "# Primer caso de uso\n",
        "anyos = 17\n",
        "print(f\"Con {anyos} años {mayor_menor(anyos)}.\")  # Con 17 años es menor de edad.\n",
        "\n",
        "# Segundo caso de uso\n",
        "edad = 18\n",
        "print(f\"Con {edad} años {mayor_menor(edad)}.\")  # Con 18 años es mayor de edad."
      ],
      "metadata": {
        "id": "l4PhQVY3WJRe",
        "outputId": "637fa7cf-8ecc-4691-d813-850badd16d8d",
        "colab": {
          "base_uri": "https://localhost:8080/"
        }
      },
      "execution_count": null,
      "outputs": [
        {
          "output_type": "stream",
          "name": "stdout",
          "text": [
            "Con 17 años es menor de edad.\n",
            "Con 18 años es mayor de edad.\n"
          ]
        }
      ]
    },
    {
      "cell_type": "markdown",
      "source": [
        "## arrastrar_reto012_p2\n",
        "Sabemos que un número es par si al dividirlo entre 2 su resto es cero y es impar si su resto es uno.\n",
        "\n",
        "Disponemos de una función que recibe un número y nos dice si se trata de un número par o impar."
      ],
      "metadata": {
        "id": "r2V8rmul2Xc2"
      }
    },
    {
      "cell_type": "code",
      "source": [
        "def es_par_o_impar(numero):\n",
        "    if numero % 2 == 0:\n",
        "        return f\"{numero} es un número par.\"\n",
        "    else:\n",
        "        return f\"{numero} es un número impar.\"\n",
        "\n",
        "# Primer caso de uso\n",
        "entero = 7\n",
        "print(es_par_o_impar(entero))   # 7 es un número impar.\n",
        "\n",
        "# Segundo caso de uso\n",
        "numero = 10\n",
        "print(es_par_o_impar(numero))   # 10 es un número par."
      ],
      "metadata": {
        "id": "GlpgKspbWp9s",
        "outputId": "bc988ae3-b4aa-454a-c5f2-d4988cb99e40",
        "colab": {
          "base_uri": "https://localhost:8080/"
        }
      },
      "execution_count": null,
      "outputs": [
        {
          "output_type": "stream",
          "name": "stdout",
          "text": [
            "7 es un número impar.\n",
            "10 es un número par.\n"
          ]
        }
      ]
    },
    {
      "cell_type": "markdown",
      "source": [
        "## arrastrar_reto013_p1\n",
        "Hemos creado varias versiones de una función que recibe como parámetro el nombre de una persona y retorna una frase saludando como se muestra en este ejemplo:\n",
        "\n",
        "Si el nombre es \"Pablo\" la frase que devuelve es: \"Hola Pablo. ¡Buen viaje!\""
      ],
      "metadata": {
        "id": "cbAsa4ho2XGR"
      }
    },
    {
      "cell_type": "code",
      "source": [
        "def saluda(nombre):\n",
        "    # Utilizando f-string\n",
        "    return f\"Hola {nombre}. ¡Buen viaje!\"\n",
        "\n",
        "def saluda(amigo):\n",
        "    # Utilizando concatenación con +\n",
        "    return \"Hola \" + amigo + \". ¡Buen viaje!\"\n",
        "\n",
        "# Caso de uso\n",
        "persona = \"Pablo\"\n",
        "print(saluda(persona))    # Hola Pablo. ¡Buen viaje!"
      ],
      "metadata": {
        "id": "W-ZFpWyHaHY1",
        "outputId": "b2fee473-21cb-40bd-f55e-9930e453f51e",
        "colab": {
          "base_uri": "https://localhost:8080/"
        }
      },
      "execution_count": null,
      "outputs": [
        {
          "output_type": "stream",
          "name": "stdout",
          "text": [
            "Hola Pablo. ¡Buen viaje!\n"
          ]
        }
      ]
    },
    {
      "cell_type": "markdown",
      "source": [
        "## arrastrar_reto013_p2\n",
        "Hemos creado varias versiones de una función que recibe como parámetro el nombre de una persona y retorna una frase saludando como se muestra en este ejemplo:\n",
        "\n",
        "Si el nombre es \"Jose\" la frase que devuelve es: \"Hasta luego Jose. ¡Nos vemos en la comida!\""
      ],
      "metadata": {
        "id": "VTtym_oU2W4W"
      }
    },
    {
      "cell_type": "code",
      "source": [
        "def despedida(persona):\n",
        "    # Utilizando f-string\n",
        "    return f\"Hasta luego {persona}. ¡Nos vemos en la comida!\"\n",
        "\n",
        "def despedida(nombre):\n",
        "    # Utilizando concatenación con +\n",
        "    return \"Hasta luego \" + nombre + \". ¡Nos vemos en la comida!\"\n",
        "\n",
        "# Caso de uso\n",
        "amigo = \"Jose\"\n",
        "print(despedida(amigo))    # Hasta luego Jose. ¡Nos vemos en la comida!"
      ],
      "metadata": {
        "id": "AScZgVQcaZNN",
        "outputId": "269c889e-3608-4d7a-9b4c-5c85d1dbccd9",
        "colab": {
          "base_uri": "https://localhost:8080/"
        }
      },
      "execution_count": null,
      "outputs": [
        {
          "output_type": "stream",
          "name": "stdout",
          "text": [
            "Hasta luego Jose. ¡Nos vemos en la comida!\n"
          ]
        }
      ]
    },
    {
      "cell_type": "markdown",
      "source": [
        "## arrastrar_reto014_p1\n",
        "Disponemos de una función que recibe como parámetro el nombre de una persona y retorna una frase saludando como se muestra en este ejemplo:\n",
        "\n",
        "Si el nombre es Teresa la frase que devuelve es: \"Hola Teresa!\"\n",
        "\n",
        "Pero hay una excepción ya que tenemos un amigo especial que se llama \"Matt\" y cuando la función recibe este nombre lo que imprime es \"Hey Matt, my friend!\""
      ],
      "metadata": {
        "id": "FqUmS4vx2Wq8"
      }
    },
    {
      "cell_type": "code",
      "source": [
        "def saluda(name):\n",
        "    if name == \"Matt\":\n",
        "        return f\"Hey {name}, my friend!\"\n",
        "    return f\"Hola {name}!\"\n",
        "\n",
        "# Ejemplos de uso de la función\n",
        "\n",
        "nombre = \"Teresa\"\n",
        "print(saluda(nombre))   # Hola Teresa!\n",
        "\n",
        "nombre = \"Matt\"\n",
        "print(saluda(nombre))   # Hey Matt, my friend!"
      ],
      "metadata": {
        "id": "h2KyWR1Ma98Q",
        "outputId": "64831eae-3886-4d65-b0e7-63d3ff391c6b",
        "colab": {
          "base_uri": "https://localhost:8080/"
        }
      },
      "execution_count": null,
      "outputs": [
        {
          "output_type": "stream",
          "name": "stdout",
          "text": [
            "Hola Teresa!\n",
            "Hey Matt, my friend!\n"
          ]
        }
      ]
    },
    {
      "cell_type": "markdown",
      "source": [
        "## arrastrar_reto014_p2\n",
        "Disponemos de una función que recibe como parámetro el nombre de una persona y retorna una frase saludando como se muestra en este ejemplo:\n",
        "\n",
        "Si el nombre es Carlos la frase que devuelve es: \"¡Hola Carlos!\"\n",
        "\n",
        "Pero hay una excepción ya que tenemos una amiga especial que se llama \"Anna\" y cuando la función recibe este nombre lo que imprime es \"¡Hola Anna! ¡Mi amiga especial!\""
      ],
      "metadata": {
        "id": "N_fBOoIk2WcA"
      }
    },
    {
      "cell_type": "code",
      "source": [
        "def saluda(name):\n",
        "    saludo = \"¡Hola \" + name + \"!\"\n",
        "    if name == \"Anna\":\n",
        "        saludo += \" ¡Mi amiga especial!\"\n",
        "    return saludo\n",
        "\n",
        "# Ejemplos de uso de la función\n",
        "\n",
        "amigo = \"Carlos\"\n",
        "print(saluda(amigo)) # ¡Hola Carlos!\n",
        "\n",
        "nombre = \"Anna\"\n",
        "print(saluda(nombre)) # ¡Hola Anna! ¡Mi amiga especial!"
      ],
      "metadata": {
        "id": "Ud0X6rDDb5Wb",
        "outputId": "35d90bbc-32e9-4064-e101-94581f3632f4",
        "colab": {
          "base_uri": "https://localhost:8080/"
        }
      },
      "execution_count": null,
      "outputs": [
        {
          "output_type": "stream",
          "name": "stdout",
          "text": [
            "¡Hola Carlos!\n",
            "¡Hola Anna! ¡Mi amiga especial!\n"
          ]
        }
      ]
    },
    {
      "cell_type": "markdown",
      "source": [
        "## arrastrar_reto015_p1\n",
        "<p>Disponemos de una función que recibe un número entero y retorna el cuadrado de ese número.</p>\n",
        "<p>Por ejemplo, el cuadrado de 5 es $5^2=25$.</p>"
      ],
      "metadata": {
        "id": "kTgaCIbZ2WOb"
      }
    },
    {
      "cell_type": "code",
      "source": [
        "def cuadrado(n):\n",
        "    return n * n\n",
        "\n",
        "num = 5\n",
        "print(f\"El cuadrado de {n} es {cuadrado(num)}.\")"
      ],
      "metadata": {
        "id": "SDAT_VDrcZPI",
        "outputId": "32f4e430-b356-4a60-f6c0-8a6a599a461d",
        "colab": {
          "base_uri": "https://localhost:8080/"
        }
      },
      "execution_count": null,
      "outputs": [
        {
          "output_type": "stream",
          "name": "stdout",
          "text": [
            "El cuadrado de 5 es 25.\n"
          ]
        }
      ]
    },
    {
      "cell_type": "markdown",
      "source": [
        "## arrastrar_reto015_p2\n",
        "<p>Disponemos de una función que recibe un número entero y retorna el cubo de ese número.</p>\n",
        "<p>Por ejemplo, el cubo de 5 es $5^3=125$.</p>"
      ],
      "metadata": {
        "id": "KHLrlNWM2V-2"
      }
    },
    {
      "cell_type": "code",
      "source": [
        "def cubo(n):\n",
        "    return n * n * n\n",
        "\n",
        "num = 5\n",
        "print(f\"El cubo de {n} es {cubo(num)}.\")"
      ],
      "metadata": {
        "id": "WdjjzDEzc7jg",
        "outputId": "385e5f62-46a2-4df2-dc2e-cfad2165c512",
        "colab": {
          "base_uri": "https://localhost:8080/"
        }
      },
      "execution_count": null,
      "outputs": [
        {
          "output_type": "stream",
          "name": "stdout",
          "text": [
            "El cubo de 5 es 125.\n"
          ]
        }
      ]
    },
    {
      "cell_type": "markdown",
      "source": [
        "## arrastrar_reto016_p1\n",
        "Disponemos de una función que recibe la longitud de los dos catetos de un triángulo rectángulo y retorna la longitud de la hipotenusa.\n",
        "\n",
        "Para calcular la hipotenusa utilizamos la función hypot que pertenece a la librería math."
      ],
      "metadata": {
        "id": "GqD316q42Vw2"
      }
    },
    {
      "cell_type": "code",
      "source": [
        "from math import hypot\n",
        "\n",
        "def hipotenusa(x, y):\n",
        "    return hypot(x, y)\n",
        "\n",
        "c1 = 3                  # longitud del cateto1\n",
        "c2 = 4                  # longitud del cateto2\n",
        "h = hipotenusa(c1, c2)  # longitud de la hipotenusa\n",
        "print(f\"Si los catetos son {c1} y {c2} entonces la hipotenusa mide {h}\")"
      ],
      "metadata": {
        "id": "nrQlSj0bdSow",
        "outputId": "c7e978d4-e6c6-409a-93ca-269411742596",
        "colab": {
          "base_uri": "https://localhost:8080/"
        }
      },
      "execution_count": null,
      "outputs": [
        {
          "output_type": "stream",
          "name": "stdout",
          "text": [
            "Si los catetos son 3 y 4 entonces la hipotenusa mide 5.0\n"
          ]
        }
      ]
    },
    {
      "cell_type": "markdown",
      "source": [
        "## arrastrar_reto016_p2\n",
        "Disponemos de una función que tiene dos parámetros (a, b) y permite generar un número aleatorio entero entre estos dos valores.\n",
        "\n",
        "Para generar el número aleatorio entero usamos la función randint de la librería random."
      ],
      "metadata": {
        "id": "uv9eEd9D2Vi6"
      }
    },
    {
      "cell_type": "code",
      "source": [
        "from random import randint\n",
        "\n",
        "def numero_aleatorio(a, b):\n",
        "    # Genera un número aleatorio entero entre a y b\n",
        "    return randint(a, b)\n",
        "\n",
        "# El número aleatorio generado va enter 1 y 10\n",
        "inicio = 1    # número incial para el rango aleatorio\n",
        "fin = 10      # número final para el rango aleatorio\n",
        "aleatorio = numero_aleatorio(inicio, fin)\n",
        "print(f\"El número aleatorio generado es: {aleatorio}.\")"
      ],
      "metadata": {
        "id": "zqhcG6P1dkUT",
        "outputId": "a73e44a1-bd9d-4f02-e80e-7968702d782c",
        "colab": {
          "base_uri": "https://localhost:8080/"
        }
      },
      "execution_count": null,
      "outputs": [
        {
          "output_type": "stream",
          "name": "stdout",
          "text": [
            "El número aleatorio generado es: 5.\n"
          ]
        }
      ]
    },
    {
      "cell_type": "markdown",
      "source": [
        "## arrastrar_reto017_p1\n",
        "Disponemos de dos variables booleanas una verdadera y otra falsa. Deseamos convertirlas en strings.\n",
        "\n",
        "Para hacer la conversión disponemos de una función que recibe el valor booleano y retorna una cadena que puede ser \"True\" o \"False\"."
      ],
      "metadata": {
        "id": "GUzjH-Eo2VVA"
      }
    },
    {
      "cell_type": "code",
      "source": [
        "def cadena(a):\n",
        "    return str(a)\n",
        "\n",
        "a = True    # Valor booleano verdadero\n",
        "b = False   # Valor booleano falso\n",
        "print(cadena(a), cadena(b))    # True False"
      ],
      "metadata": {
        "colab": {
          "base_uri": "https://localhost:8080/"
        },
        "id": "imwGYcM9lT7F",
        "outputId": "b599ca7e-5c56-46be-d0d8-7308fbc6a04d"
      },
      "execution_count": null,
      "outputs": [
        {
          "output_type": "stream",
          "name": "stdout",
          "text": [
            "True False\n"
          ]
        }
      ]
    },
    {
      "cell_type": "markdown",
      "source": [
        "## arrastrar_reto017_p2\n",
        "Tenemos una función que recibe un dato y lo convierte en una cadena.\n",
        "\n",
        "Disponemos de dos variables, una es la edad de una persona que es de tipo número entero (int) y la otra es una variable booleana que si es `True` indica que la persona si es cliente.\n",
        "\n",
        "Deseamos convertir ambas variables en un string para poder efectuar una concatenación usando el signo más (+), ya que si no hacemos la conversión al concatenar da error.\n",
        "\n",
        "Al ejecutar este código se imprime lo siguiente:\n",
        "\n",
        "Jose tiene 42 años.\n",
        "¿Es cliente?: True"
      ],
      "metadata": {
        "id": "6N_cEIpa2VGA"
      }
    },
    {
      "cell_type": "code",
      "source": [
        "def convertir_a_cadena(dato):\n",
        "    return str(dato)  # Convierte a string un dato, sea cadena o booleano\n",
        "\n",
        "edad = 42           # variable de número entero (int)\n",
        "es_cliente = True   # variable booleana (bool)\n",
        "\n",
        "# Al concatenar con +, si no se hace la conversión da error\n",
        "print(\"Jose tiene \" + convertir_a_cadena(edad) + \" años.\") # Jose tiene 42 años.\n",
        "print(\"¿Es cliente?: \" + convertir_a_cadena(es_cliente))   # ¿Es cliente?: True\n",
        "\n",
        "# Al usar f-string no es necesario hacer la conversión\n",
        "print(f\"Jose tiene {edad} años.\")     # Jose tiene 42 años.\n",
        "print(f\"¿Es cliente?: {es_cliente}\")  # ¿Es cliente?: True"
      ],
      "metadata": {
        "colab": {
          "base_uri": "https://localhost:8080/"
        },
        "id": "C_eD6NurlmH8",
        "outputId": "a20ed5b5-cf18-4596-e56e-6624ae663ea4"
      },
      "execution_count": null,
      "outputs": [
        {
          "output_type": "stream",
          "name": "stdout",
          "text": [
            "Jose tiene 42 años.\n",
            "¿Es cliente?: True\n",
            "Jose tiene 42 años.\n",
            "¿Es cliente?: True\n"
          ]
        }
      ]
    },
    {
      "cell_type": "markdown",
      "source": [
        "## arrastrar_reto018_p1\n",
        "Un estudiante ha aprobado 2 asignaturas optativas y 5 obligatorias.\n",
        "\n",
        "Las asignaturas optativas son de 4 créditos cada una y las obligatorias son de 6 créditos cada una.\n",
        "\n",
        "En total el alumno ha obtenido 38 créditos ya que 4 × 2 es 8 y 6 × 5 es 30.\n",
        "\n",
        "Disponemos de una función que recibe el número de asignaturas optativas y obligatorias aprobadas y nos devuelve los créditos obtenidos.\n",
        "\n",
        "En este caso de uso, la función recibe 2 asignatura optativas y 5 obligatorias, retornando los 38 créditos obtenidos."
      ],
      "metadata": {
        "id": "GZ3-gk8Omr8v"
      }
    },
    {
      "cell_type": "code",
      "source": [
        "optati, obliga = 2, 5  # aprobadas 2 asignaturas optativas y 5 obligatorias\n",
        "\n",
        "def creditos(optativas, obligatorias):\n",
        "    return 4 * optativas + 6 * obligatorias\n",
        "\n",
        "print(f'Ha obtenido un total de {creditos(optati, obliga)} crétidos.')  # Ha obtenido un total de 38 crétidos."
      ],
      "metadata": {
        "id": "6mPObC9EzE5r",
        "outputId": "cc8250b5-6316-4e63-e93d-8704cf13b7d0",
        "colab": {
          "base_uri": "https://localhost:8080/"
        }
      },
      "execution_count": null,
      "outputs": [
        {
          "output_type": "stream",
          "name": "stdout",
          "text": [
            "Ha obtenido un total de 38 crétidos.\n"
          ]
        }
      ]
    },
    {
      "cell_type": "markdown",
      "source": [
        "## arrastrar_reto018_p2\n",
        "Un restaurante vende en un día 100 hamburguesas y 50 órdenes de complementos (patatas fritas y bebida).\n",
        "\n",
        "Las hamburguesas se cobran a 5 € cada una y los complementos se cobran a 3 € cada uno.\n",
        "\n",
        "Deseamos conocer el total facturado por estas ventas, que son 5 × 100 = 500 y 3 × 50 = 150, lo que supone un total de 650 €.\n",
        "\n",
        "Disponemos de una función que recibe el número de hamburguesas y complementos vendidos y nos devuelve la facturación obtenida.\n",
        "\n",
        "En este caso de uso, la función recibe 100 hamburguesas y 50 órdens de complementos, retornando los 650 € obtenidos."
      ],
      "metadata": {
        "id": "H-35ZXxZmr81"
      }
    },
    {
      "cell_type": "code",
      "source": [
        "ham, comp = 100, 50  # vende 100 hamburguesas y 50 complementos\n",
        "\n",
        "def facturacion(hamburguesas, complementos):\n",
        "    return 5 * hamburguesas + 3 * complementos\n",
        "\n",
        "print(f'Factura un total de {facturacion(ham, comp)} €.')  # Factura un total de 650 €."
      ],
      "metadata": {
        "id": "aZTaoAqlzifX",
        "outputId": "e7fbe063-82a7-461a-ddb2-0513c15a7606",
        "colab": {
          "base_uri": "https://localhost:8080/"
        }
      },
      "execution_count": null,
      "outputs": [
        {
          "output_type": "stream",
          "name": "stdout",
          "text": [
            "Factura un total de 650 €.\n"
          ]
        }
      ]
    },
    {
      "cell_type": "markdown",
      "source": [
        "## arrastrar_reto019_p1\n",
        "En un restaurante hacen un descuento si vienen a comer dos personas y la suma de sus edades es menor o igual a 40 años.\n",
        "\n",
        "Dos amigos de 16 y 17 años van al restaurante y la función determina si pueden recibr el descuento o no.\n",
        "\n",
        "La función recibe como parámetros las dos edades y retorna un booleano que puede ser `True` o `False` según se tenga o no derecho al descuento."
      ],
      "metadata": {
        "id": "bmoM2dGHmr81"
      }
    },
    {
      "cell_type": "code",
      "source": [
        "def hay_descuento(edad1, edad2):\n",
        "    return True if edad1 + edad2 <= 40 else False\n",
        "\n",
        "edad1, edad2 = 16, 17  # edades de los dos amigos\n",
        "print(hay_descuento(edad1, edad2))   # True"
      ],
      "metadata": {
        "id": "XsPN_PYU0AHI",
        "outputId": "7c32afbc-ede9-44d5-b9db-e0e9537ec62b",
        "colab": {
          "base_uri": "https://localhost:8080/"
        }
      },
      "execution_count": null,
      "outputs": [
        {
          "output_type": "stream",
          "name": "stdout",
          "text": [
            "True\n"
          ]
        }
      ]
    },
    {
      "cell_type": "markdown",
      "source": [
        "## arrastrar_reto019_p2\n",
        "Para entrar en un cuerpo de élite de la policía se exigen unas pruebas físicas muy duras que consisten en tener unos buenos tiempos en carrera de obstáculos y en natación.\n",
        "\n",
        "No importan los tiempos en cada especialidad sino que lo exigido es que la suma del tiempo empleado en carrera más natación no supere los 600 segundos.\n",
        "\n",
        "La función recibe como parámetros los segundos que se tarda en cada especialidad deportiva y retorna un booleano que puede ser `True` o `False` según se haya superado la prueba física o no.\n",
        "\n",
        "Un aspirante que tarde 190 segundos en la carrera y 400 segundos en la prueba de natación, si superaría la prueba física, ya que 190 + 400 no es mayor de los 600 segundos exigidos como límite."
      ],
      "metadata": {
        "id": "u0FLCVolmr81"
      }
    },
    {
      "cell_type": "code",
      "source": [
        "def prueba_superada(carrera, natacion):\n",
        "    return True if carrera + natacion <= 600 else False\n",
        "\n",
        "carrera, natacion = 190, 400\n",
        "print(prueba_superada(carrera, natacion))   # True"
      ],
      "metadata": {
        "id": "peJh6jFx0bdM",
        "outputId": "33f0782c-6d1c-47a6-c16b-0943c61aafc0",
        "colab": {
          "base_uri": "https://localhost:8080/"
        }
      },
      "execution_count": null,
      "outputs": [
        {
          "output_type": "stream",
          "name": "stdout",
          "text": [
            "True\n"
          ]
        }
      ]
    },
    {
      "cell_type": "markdown",
      "source": [
        "## arrastrar_reto020_p1\n",
        "Queremos calcular el valor máximo de una lista de números.\n",
        "\n",
        "Disponemos de varias versiones de una función que recibe la lista de números y retorna el mayor de todos ellos."
      ],
      "metadata": {
        "id": "mZr0-5G62T4H"
      }
    },
    {
      "cell_type": "code",
      "source": [
        "def maximo(lista):\n",
        "    return max(lista)\n",
        "\n",
        "# ordenando la lista\n",
        "def maximo(lista):\n",
        "    return sorted(lista)[-1]\n",
        "\n",
        "print(maximo([4, -2, 9, 5]))    # 9"
      ],
      "metadata": {
        "colab": {
          "base_uri": "https://localhost:8080/"
        },
        "id": "gUNIypPcnTe6",
        "outputId": "6db707b9-955d-402e-9a17-ce6fa364003b"
      },
      "execution_count": null,
      "outputs": [
        {
          "output_type": "stream",
          "name": "stdout",
          "text": [
            "9\n"
          ]
        }
      ]
    },
    {
      "cell_type": "markdown",
      "source": [
        "## arrastrar_reto020_p2\n",
        "Dada una lista de números queremos calcular su valor máximo.\n",
        "\n",
        "Disponemos de varias versiones de una función que recibe la lista de números y retorna el mayor de todos ellos."
      ],
      "metadata": {
        "id": "DGviqBMM2To7"
      }
    },
    {
      "cell_type": "code",
      "source": [
        "def maximo(lista):\n",
        "    return max(lista)\n",
        "\n",
        "def maximo(lista):\n",
        "    maxi = lista[0] # Inicializamos la variable con el primer número de la lista\n",
        "    for num in lista:\n",
        "        if num > maxi: # Si encontramos un número más grande\n",
        "            maxi = num    # actualizamos 'maxi'\n",
        "    return maxi\n",
        "\n",
        "print(maximo([4, -2, 9, 5]))    # 9"
      ],
      "metadata": {
        "colab": {
          "base_uri": "https://localhost:8080/"
        },
        "id": "_EICsbvRn6v0",
        "outputId": "f6e2de07-d232-4997-a7f3-2838d3334d26"
      },
      "execution_count": null,
      "outputs": [
        {
          "output_type": "stream",
          "name": "stdout",
          "text": [
            "9\n"
          ]
        }
      ]
    },
    {
      "cell_type": "markdown",
      "source": [
        "## arrastrar_reto021_p1\n",
        "Queremos calcular el valor mínimo de una lista de números.\n",
        "\n",
        "La función recibe la lista de números y retorna el menor de todos ellos."
      ],
      "metadata": {
        "id": "HFaXUnYijlyh"
      }
    },
    {
      "cell_type": "code",
      "source": [
        "def minimo(lista):\n",
        "    menor = lista[0]  # Inicializamos la variable 'menor'\n",
        "    for numero in lista:\n",
        "        if numero < menor:  # Si encontramos un número más pequeño\n",
        "            menor = numero  # actualizamos 'menor'\n",
        "    return menor\n",
        "\n",
        "print(minimo([7,2,9]))    # 2"
      ],
      "metadata": {
        "colab": {
          "base_uri": "https://localhost:8080/"
        },
        "id": "E0YuHowVqvNR",
        "outputId": "bf97ae4f-4c88-4089-b30f-358430a16064"
      },
      "execution_count": null,
      "outputs": [
        {
          "output_type": "stream",
          "name": "stdout",
          "text": [
            "2\n"
          ]
        }
      ]
    },
    {
      "cell_type": "markdown",
      "source": [
        "## arrastrar_reto021_p2\n",
        "Queremos calcular el valor mínimo de una lista de números.\n",
        "\n",
        "Hemos creado varias versiones de una función que recibe la lista de números y retorna el menor de todos ellos."
      ],
      "metadata": {
        "id": "KMag-nWVjnEl"
      }
    },
    {
      "cell_type": "code",
      "source": [
        "def minimo(lista):\n",
        "    return min(lista)\n",
        "\n",
        "def minimo(lista):\n",
        "    lista.sort()\n",
        "    return lista[0]\n",
        "\n",
        "print(minimo([7,2,9]))    # 2"
      ],
      "metadata": {
        "colab": {
          "base_uri": "https://localhost:8080/"
        },
        "id": "p7MvWg9Iq81t",
        "outputId": "33c2e226-b552-4296-e36a-a91ecc13adc9"
      },
      "execution_count": null,
      "outputs": [
        {
          "output_type": "stream",
          "name": "stdout",
          "text": [
            "2\n"
          ]
        }
      ]
    },
    {
      "cell_type": "markdown",
      "source": [
        "## arrastrar_reto022_p1\n",
        "Queremos calcular la diferencia entre el máximo y el mínimo de una lista de números.\n",
        "\n",
        "La función recibe la lista de números y retorna el mayor menos el menor."
      ],
      "metadata": {
        "id": "Oh51UzF5jnUJ"
      }
    },
    {
      "cell_type": "code",
      "source": [
        "def dif(lista):\n",
        "    # Inicializar las variables para el máximo y el mínimo\n",
        "    maximo = minimo = lista[0]\n",
        "    # buscamos el máximo y el mínimo con operador ternario\n",
        "    for num in lista:\n",
        "        maximo = num if num > maximo else maximo\n",
        "        minimo = num if num < minimo else minimo\n",
        "    return maximo - minimo\n",
        "\n",
        "print(dif([5,2,9]))    # 7"
      ],
      "metadata": {
        "colab": {
          "base_uri": "https://localhost:8080/"
        },
        "id": "u_M_jzgZrQdo",
        "outputId": "916007a4-13a5-4aa8-f225-b0f63ca0f1f4"
      },
      "execution_count": null,
      "outputs": [
        {
          "output_type": "stream",
          "name": "stdout",
          "text": [
            "7\n"
          ]
        }
      ]
    },
    {
      "cell_type": "markdown",
      "source": [
        "## arrastrar_reto022_p2\n",
        "Queremos calcular la diferencia entre el máximo y el mínimo de una lista de números.\n",
        "\n",
        "La función recibe la lista de números y retorna el mayor menos el menor."
      ],
      "metadata": {
        "id": "31D4CeWAjnhU"
      }
    },
    {
      "cell_type": "code",
      "source": [
        "def diferencia(lista):\n",
        "    # Inicializar las variables para el máximo y el mínimo\n",
        "    maximo = minimo = lista[0]\n",
        "    # buscamos el máximo y el mínimo con operador ternario\n",
        "    for num in lista:\n",
        "        maximo = num if num > maximo else maximo\n",
        "        minimo = num if num < minimo else minimo\n",
        "    return maximo - minimo\n",
        "\n",
        "print(diferencia([5,2,9]))    # 7"
      ],
      "metadata": {
        "colab": {
          "base_uri": "https://localhost:8080/"
        },
        "id": "mfb9xdTurhf5",
        "outputId": "dd2a4dca-e746-4b6d-d912-beaf3a2f2e5d"
      },
      "execution_count": null,
      "outputs": [
        {
          "output_type": "stream",
          "name": "stdout",
          "text": [
            "7\n"
          ]
        }
      ]
    },
    {
      "cell_type": "markdown",
      "source": [
        "## arrastrar_reto023_p1\n",
        "Queremos concatenar dos listas de números enteros.\n",
        "\n",
        "La función recibe las dos listas y las concatena, esto es, las une convirtiéndolas en una sola lista que se retorna.\n",
        "\n",
        "Por ejemplo, si se reciben, en este orden, las listas [1,2,3] y [5,7,9] se retornará la lista [1,2,3,5,7,9]."
      ],
      "metadata": {
        "id": "75kkwOCvjnsS"
      }
    },
    {
      "cell_type": "code",
      "source": [
        "a = [1,2,3]\n",
        "b = [5,7,9]\n",
        "\n",
        "def concat(a, b):\n",
        "    for num in b:\n",
        "        a.append(num)\n",
        "    return a\n",
        "\n",
        "print(concat(a, b))"
      ],
      "metadata": {
        "colab": {
          "base_uri": "https://localhost:8080/"
        },
        "id": "X9TCTKRar7X-",
        "outputId": "9688d8bc-893e-4e46-b98d-0fce643cdb35"
      },
      "execution_count": null,
      "outputs": [
        {
          "output_type": "stream",
          "name": "stdout",
          "text": [
            "[1, 2, 3, 5, 7, 9]\n"
          ]
        }
      ]
    },
    {
      "cell_type": "markdown",
      "source": [
        "## arrastrar_reto023_p2\n",
        "Queremos concatenar dos listas de números enteros.\n",
        "\n",
        "La función recibe las dos listas y las concatena, esto es, las une convirtiéndolas en una sola lista que se retorna.\n",
        "\n",
        "Por ejemplo, si se reciben, en este orden, las listas [1,2,3] y [5,7,9] se retornará la lista [1,2,3,5,7,9]."
      ],
      "metadata": {
        "id": "0XfEtO7ojn22"
      }
    },
    {
      "cell_type": "code",
      "source": [
        "a = [1,2,3]\n",
        "b = [5,7,9]\n",
        "\n",
        "def concat(a, b):\n",
        "    return a + b\n",
        "\n",
        "print(concat(a, b))"
      ],
      "metadata": {
        "colab": {
          "base_uri": "https://localhost:8080/"
        },
        "id": "rSzw2j-3sWv6",
        "outputId": "7d335f39-a54a-4139-b1e0-35ff227a52e3"
      },
      "execution_count": null,
      "outputs": [
        {
          "output_type": "stream",
          "name": "stdout",
          "text": [
            "[1, 2, 3, 5, 7, 9]\n"
          ]
        }
      ]
    },
    {
      "cell_type": "markdown",
      "source": [
        "## arrastrar_reto024_p1\n",
        "Queremos crear una función que reciba una lista y devuelva el último elemento de la lista.\n",
        "\n",
        "Si la lista está vacía devolverá `None`."
      ],
      "metadata": {
        "id": "iT8CHa2bjoAU"
      }
    },
    {
      "cell_type": "code",
      "source": [
        "def ultimo(lista):\n",
        "    return lista[-1] if lista else None     # operador ternario\n",
        "\n",
        "def ultimo(lista):\n",
        "    if not lista:  # Verificar si la lista está vacía\n",
        "        return None  # Retornar None si la lista está vacía\n",
        "    else:\n",
        "        return lista.pop()  # Usar pop() para obtener y eliminar el último elemento de la lista\n",
        "\n",
        "print(ultimo([5,9,7]))  # 7"
      ],
      "metadata": {
        "colab": {
          "base_uri": "https://localhost:8080/"
        },
        "id": "EafCItWUsuGd",
        "outputId": "a0652e10-5c71-4d51-e69e-4a2738dee194"
      },
      "execution_count": null,
      "outputs": [
        {
          "output_type": "stream",
          "name": "stdout",
          "text": [
            "7\n"
          ]
        }
      ]
    },
    {
      "cell_type": "markdown",
      "source": [
        "## arrastrar_reto024_p2\n",
        "Queremos crear una función que reciba una lista y devuelva el último elemento de la lista.\n",
        "\n",
        "Si la lista está vacía devolverá `None`."
      ],
      "metadata": {
        "id": "wkWqboVjjoIo"
      }
    },
    {
      "cell_type": "code",
      "source": [
        "def ultimo(lista):\n",
        "    return None if not lista else lista[-1]  # operador ternario\n",
        "\n",
        "def ultimo(lista):\n",
        "    if lista:  # Verificar si la lista está vacía\n",
        "        return lista.pop()  # Usar pop() para obtener y eliminar el último elemento de la lista\n",
        "    else:\n",
        "        return None  # Retornar None si la lista está vacía\n",
        "\n",
        "print(ultimo([5,9,7]))  # 7"
      ],
      "metadata": {
        "colab": {
          "base_uri": "https://localhost:8080/"
        },
        "id": "Jdd5KOiotLdS",
        "outputId": "652299dc-48d1-4659-9a7c-c39e9eb220a3"
      },
      "execution_count": null,
      "outputs": [
        {
          "output_type": "stream",
          "name": "stdout",
          "text": [
            "7\n"
          ]
        }
      ]
    },
    {
      "cell_type": "markdown",
      "source": [
        "## arrastrar_reto025_p1\n",
        "Tengo una función que usa un bucle `while`.\n",
        "\n",
        "La función recibe un número entero positivo como por ejemplo 5 y devuelve una lista con los números correlativos entre 1 y 5.\n",
        "\n",
        "Retorna la lista [1, 2, 3, 4, 5]."
      ],
      "metadata": {
        "id": "FrcOt8epjoQ8"
      }
    },
    {
      "cell_type": "code",
      "source": [
        "def generar_lista(num):\n",
        "    lista = []  # inicializamos la lista como una lista vacía\n",
        "    i = 1          # inicializamos la variable\n",
        "    while i <= num:\n",
        "        lista.append(i)\n",
        "        i += 1  # incrementamos la variable\n",
        "    return lista\n",
        "\n",
        "# Ejemplo de uso\n",
        "numero = 5\n",
        "resultado = generar_lista(numero)\n",
        "print(resultado)  # [1, 2, 3, 4, 5]"
      ],
      "metadata": {
        "colab": {
          "base_uri": "https://localhost:8080/"
        },
        "id": "YjvbDPJAtyUM",
        "outputId": "efe8dedf-8a70-4940-86b1-df4ca38b5990"
      },
      "execution_count": null,
      "outputs": [
        {
          "output_type": "stream",
          "name": "stdout",
          "text": [
            "[1, 2, 3, 4, 5]\n"
          ]
        }
      ]
    },
    {
      "cell_type": "markdown",
      "source": [
        "## arrastrar_reto025_p2\n",
        "Tengo una función que usa un bucle `while`.\n",
        "\n",
        "La función recibe un número entero positivo como por ejemplo 5 y devuelve una lista con los números correlativos entre 1 y 5.\n",
        "\n",
        "Retorna la lista [1, 2, 3, 4, 5]."
      ],
      "metadata": {
        "id": "nrcuWMe6joZE"
      }
    },
    {
      "cell_type": "code",
      "source": [
        "def generar_lista(num):\n",
        "    lista = []      # inicializamos la lista como una lista vacía\n",
        "    i = 0      # inicializamos la variable\n",
        "    while i < num:\n",
        "        i = i + 1  # incrementamos la variable\n",
        "        lista.append(i)\n",
        "    return lista\n",
        "\n",
        "# Ejemplo de uso\n",
        "numero = 5\n",
        "resultado = generar_lista(numero)\n",
        "print(resultado)  # [1, 2, 3, 4, 5]"
      ],
      "metadata": {
        "colab": {
          "base_uri": "https://localhost:8080/"
        },
        "id": "gK2lz6s5upRw",
        "outputId": "9c63cb7f-dfda-4451-c0f3-1c6554187496"
      },
      "execution_count": null,
      "outputs": [
        {
          "output_type": "stream",
          "name": "stdout",
          "text": [
            "[1, 2, 3, 4, 5]\n"
          ]
        }
      ]
    },
    {
      "cell_type": "markdown",
      "source": [
        "## arrastrar_reto026_p1\n",
        "Tengo una función que recibe dos números y retorna una lista con esos dos números, pero cambiados de orden.\n",
        "\n",
        "Lo que hace la función es permutar de orden los números y devolverlos en forma de lista\n",
        "\n",
        "Si recibe 2 y 7 retorna la lista [7, 2]."
      ],
      "metadata": {
        "id": "xB8PRvKUjohO"
      }
    },
    {
      "cell_type": "code",
      "source": [
        "def swap(a, b):\n",
        "    (a, b) = (b, a)     # permutando a y b en una sola línea\n",
        "    return [a, b]\n",
        "\n",
        "(a, b) = (2, 7)\n",
        "print(swap(a, b))   # [7, 2]"
      ],
      "metadata": {
        "colab": {
          "base_uri": "https://localhost:8080/"
        },
        "id": "i8lQizVf0vv5",
        "outputId": "e105bc41-5a04-4d66-8d68-3bf37c0b1425"
      },
      "execution_count": null,
      "outputs": [
        {
          "output_type": "stream",
          "name": "stdout",
          "text": [
            "[7, 2]\n"
          ]
        }
      ]
    },
    {
      "cell_type": "markdown",
      "source": [
        "## arrastrar_reto026_p2\n",
        "Tengo una función que recibe dos números y retorna una lista con esos dos números, pero cambiados de orden.\n",
        "\n",
        "Lo que hace la función es permutar de orden los números y devolverlos en forma de lista\n",
        "\n",
        "Si recibe 2 y 7 retorna la lista [7, 2]."
      ],
      "metadata": {
        "id": "VpBlPV_FjopQ"
      }
    },
    {
      "cell_type": "code",
      "source": [
        "def swap(a, b):\n",
        "    temp = a     # Almacena el valor original de 'a' en una variable temporal 'temp'\n",
        "    a = b  # Asigna el valor de 'b' a 'a'\n",
        "    b = temp  # Asigna el valor original de 'a' (almacenado en 'temp') a 'b'\n",
        "    return [a, b]\n",
        "\n",
        "(a, b) = (2, 7)\n",
        "print(swap(a, b))   # [7, 2]"
      ],
      "metadata": {
        "colab": {
          "base_uri": "https://localhost:8080/"
        },
        "id": "ZtvR4zu90_aT",
        "outputId": "f82ebd4c-7a2f-4a0b-9935-4ce638f104f9"
      },
      "execution_count": null,
      "outputs": [
        {
          "output_type": "stream",
          "name": "stdout",
          "text": [
            "[7, 2]\n"
          ]
        }
      ]
    },
    {
      "cell_type": "markdown",
      "source": [
        "## arrastrar_reto027_p1\n",
        "Tengo tres artículos (art1, art2, art3) cuyos precios respectivos son (2, 5, 3) y cuyas cantidades vendidas respectivamente son (100, 200, 300).\n",
        "\n",
        "Deseamos calcular el importe facturado que en este caso es:\n",
        "\n",
        "Facturación = 2 × 100 + 5 × 200 + 3 × 300 = 2100 €.\n",
        "\n",
        "Queremos una función que reciba el array de tres precios y el array de tres cantidades vendidas y retorne lo facturado por estas ventas.\n",
        "\n"
      ],
      "metadata": {
        "id": "WZhtM7yLjoxk"
      }
    },
    {
      "cell_type": "code",
      "source": [
        "precios = [2, 5, 3]\n",
        "cantidades = [100, 200, 300]\n",
        "\n",
        "def facturacion(precios, cantidades):\n",
        "    [p1, p2, p3] = precios\n",
        "    [q1, q2, q3] = cantidades\n",
        "    return p1 * q1 + p2 * q2 + p3 * q3\n",
        "\n",
        "print(facturacion(precios, cantidades))    # 2100"
      ],
      "metadata": {
        "colab": {
          "base_uri": "https://localhost:8080/"
        },
        "id": "ucpcbAyA1PSK",
        "outputId": "dce3a40e-9293-4dc0-a868-2ff022207013"
      },
      "execution_count": null,
      "outputs": [
        {
          "output_type": "stream",
          "name": "stdout",
          "text": [
            "2100\n"
          ]
        }
      ]
    },
    {
      "cell_type": "markdown",
      "source": [
        "## arrastrar_reto027_p2\n",
        "Tengo tres artículos (art1, art2, art3) cuyos precios respectivos son (2, 5, 3) y cuyas cantidades vendidas respectivamente son (100, 200, 300).\n",
        "\n",
        "Deseamos calcular el importe facturado que en este caso es:\n",
        "\n",
        "Facturación = 2 × 100 + 5 × 200 + 3 × 300 = 2100 €.\n",
        "\n",
        "Queremos una función que reciba el array de tres precios y el array de tres cantidades vendidas y retorne lo facturado por estas ventas."
      ],
      "metadata": {
        "id": "5d4sc2xEjo5f"
      }
    },
    {
      "cell_type": "code",
      "source": [
        "precios = [2, 5, 3]\n",
        "cantidades = [100, 200, 300]\n",
        "\n",
        "def facturacion(precios, cantidades):\n",
        "    total = 0    # inicializamos la variable\n",
        "    for i in range(len(precios)):  # suponemos que los 2 arrays son de igual longitud\n",
        "        total += precios[i] * cantidades[i]\n",
        "    return total\n",
        "\n",
        "print(facturacion(precios, cantidades))    # 2100"
      ],
      "metadata": {
        "colab": {
          "base_uri": "https://localhost:8080/"
        },
        "id": "V52OtGpO1aIW",
        "outputId": "ff6dd21b-52e0-4b7a-bdfd-86143c837acb"
      },
      "execution_count": null,
      "outputs": [
        {
          "output_type": "stream",
          "name": "stdout",
          "text": [
            "2100\n"
          ]
        }
      ]
    },
    {
      "cell_type": "markdown",
      "source": [
        "## arrastrar_reto028_p1\n",
        "Un opositor está optando a una plaza, para obtenerla debe superar tres exámenes conocidos como fase_a, fase_b y fase_c.\n",
        "\n",
        "Cada una de estas pruebas se representa por una variable booleana: si su valor es True, significa que el candidato ha aprobado el examen; si es False, indica que lo ha suspendido.\n",
        "\n",
        "Necesitamos una función que analice el resultado de los tres exámenes y determine si el candidato ha obtenido la plaza, cosa que sucederá solo si aprueba todos los exámenes.\n",
        "\n",
        "Al final, se presentan varios casos de prueba para evaluar el funcionamiento de la función."
      ],
      "metadata": {
        "id": "nHd8RdFYjpDD"
      }
    },
    {
      "cell_type": "code",
      "source": [
        "def ganar_plaza(fase_a, fase_b, fase_c):\n",
        "    if fase_a and fase_b and fase_c:\n",
        "        return True\n",
        "    else:\n",
        "        return False\n",
        "\n",
        "# Casos de prueba\n",
        "# Caso 1: El candidato ha aprobado todos los exámenes\n",
        "print(\"Caso 1:\", ganar_plaza(True, True, True))  # True\n",
        "\n",
        "# Caso 2: El candidato ha aprobado solo dos exámenes\n",
        "print(\"Caso 2:\", ganar_plaza(True, True, False))  # False\n",
        "\n",
        "# Caso 3: El candidato ha aprobado solo un exámene\n",
        "print(\"Caso 3:\", ganar_plaza(True, False, False))  # False\n",
        "\n",
        "# Caso 4: El candidato no ha superado ninguno de los exámenes\n",
        "print(\"Caso 4:\", ganar_plaza(False, False, False))  # False"
      ],
      "metadata": {
        "colab": {
          "base_uri": "https://localhost:8080/"
        },
        "id": "ca9LP3Lo1ter",
        "outputId": "e8196398-df06-4be9-8c4e-bdca041c7240"
      },
      "execution_count": null,
      "outputs": [
        {
          "output_type": "stream",
          "name": "stdout",
          "text": [
            "Caso 1: True\n",
            "Caso 2: False\n",
            "Caso 3: False\n",
            "Caso 4: False\n"
          ]
        }
      ]
    },
    {
      "cell_type": "markdown",
      "source": [
        "## arrastrar_reto028_p2\n",
        "Un opositor está optando a una plaza, para obtenerla debe superar tres exámenes conocidos como fase_a, fase_b y fase_c.\n",
        "\n",
        "Cada una de estas pruebas se representa por una variable booleana: si su valor es `True`, significa que el candidato ha aprobado el examen; si es `False`, indica que lo ha suspendido.\n",
        "\n",
        "Necesitamos una función que analice el resultado de los tres exámenes y determine si el candidato ha obtenido la plaza, cosa que sucederá solo si aprueba todos los exámenes.\n",
        "\n",
        "Al final, se presentan varios casos de prueba para evaluar el funcionamiento de la función.\n",
        "\n",
        "#### Comentario\n",
        "\n",
        "1.  La función `all()` devuelve `True` si todos los elementos de un iterable son verdaderos; de lo contrario, devuelve `False`.\n",
        "2.  La función `any()` devuelve `True` si algún elemento de un iterable es verdadero; de lo contrario, devuelve `False`."
      ],
      "metadata": {
        "id": "mk24ovi-jpMQ"
      }
    },
    {
      "cell_type": "code",
      "source": [
        "def ganar_plaza(fase_a, fase_b, fase_c):\n",
        "    return all([fase_a, fase_b, fase_c])\n",
        "\n",
        "# Casos de prueba\n",
        "# Caso 1: El candidato ha aprobado todos los exámenes\n",
        "print(\"Caso 1:\", ganar_plaza(True, True, True))  # True\n",
        "\n",
        "# Caso 2: El candidato ha aprobado solo dos exámenes\n",
        "print(\"Caso 2:\", ganar_plaza(True, True, False))  # False\n",
        "\n",
        "# Caso 3: El candidato ha aprobado solo un exámene\n",
        "print(\"Caso 3:\", ganar_plaza(True, False, False))  # False\n",
        "\n",
        "# Caso 4: El candidato no ha superado ninguno de los exámenes\n",
        "print(\"Caso 4:\", ganar_plaza(False, False, False))  # False"
      ],
      "metadata": {
        "id": "h8O5Awid2D17"
      },
      "execution_count": null,
      "outputs": []
    },
    {
      "cell_type": "markdown",
      "source": [
        "## arrastrar_reto029_p1\n",
        "Deseamos detectar si dos números son iguales.\n",
        "\n",
        "Si son iguales devuelva `True` y en caso contrario devuelva `False`.\n",
        "\n",
        "Ejemplo: 2 y 8/4 son iguales.\n",
        "Ejemplo: 7 y \"7\" no son iguales, ya que uno es un entero y otro es un string.\n",
        "Ejemplo: 5 y abs(-5) si son iguales, ya que el valor absoluto de -5 es 5."
      ],
      "metadata": {
        "id": "9ycv0gb9jpVE"
      }
    },
    {
      "cell_type": "code",
      "source": [
        "def iguales(num1, num2):\n",
        "    return num1 == num2\n",
        "\n",
        "print(iguales(2, 8/4))      # True\n",
        "print(iguales(7, \"7\"))      # False\n",
        "print(iguales(5, abs(-5)))  # True"
      ],
      "metadata": {
        "colab": {
          "base_uri": "https://localhost:8080/"
        },
        "id": "4AFM46b13DGu",
        "outputId": "726f8bcf-a749-4fe7-e447-25ca27ccf9c0"
      },
      "execution_count": null,
      "outputs": [
        {
          "output_type": "stream",
          "name": "stdout",
          "text": [
            "True\n",
            "False\n",
            "True\n"
          ]
        }
      ]
    },
    {
      "cell_type": "markdown",
      "source": [
        "## arrastrar_reto029_p2\n",
        "Deseamos detectar si un número n está en una lista.\n",
        "\n",
        "Tenemos varias versiones de una función que logran este resultado."
      ],
      "metadata": {
        "id": "Nv9tif_XjpdW"
      }
    },
    {
      "cell_type": "code",
      "source": [
        "def esta_en_la_lista(n, lista):\n",
        "    return n in lista\n",
        "\n",
        "def esta_en_la_lista(n, lista):\n",
        "    for num in lista:\n",
        "        if num == n:\n",
        "            return True\n",
        "    return False\n",
        "\n",
        "print(esta_en_la_lista(2, [1, \"2\", 3, 4]))          # False\n",
        "print(esta_en_la_lista(2, [1, 1+1, 3, 4]))          # True\n",
        "print(esta_en_la_lista(2, [1, 6/3, 3, 4]))          # True\n",
        "print(esta_en_la_lista(2, [1, 7//3, 3, 4]))         # True\n",
        "print(esta_en_la_lista(2, [1, abs(-2), 3, 4]))      # True\n",
        "print(esta_en_la_lista(2, [1, int(\"2\"), 3, 4]))     # True\n",
        "print(esta_en_la_lista(2, [1, eval(\"3-1\"), 3, 4]))  # True\n",
        "print(esta_en_la_lista(2, [1, 6.0//3, 3, 4]))       # True"
      ],
      "metadata": {
        "colab": {
          "base_uri": "https://localhost:8080/"
        },
        "id": "qUHflqE23QWj",
        "outputId": "f38b31e9-b854-4e90-d7b6-150b7145f645"
      },
      "execution_count": null,
      "outputs": [
        {
          "output_type": "stream",
          "name": "stdout",
          "text": [
            "False\n",
            "True\n",
            "True\n",
            "True\n",
            "True\n",
            "True\n",
            "True\n",
            "True\n"
          ]
        }
      ]
    },
    {
      "cell_type": "markdown",
      "source": [
        "## arrastrar_reto030_p1\n",
        "<p>Necesitamos una función que calcule el precio total que tenemos que abonar al efectuar una compra.</p>\n",
        "<p>La función recibe como parámetros:</p>\n",
        "<p></p>\n",
        "<ol>\n",
        "    <li>el <strong>precio_unitario</strong> del artículo comprado</li>\n",
        "    <li>la <strong>cantidad</strong> o número de artículos comprados</li>\n",
        "    <li>un posible <strong>descuento</strong> según el cliente tenga o no derecho a ese descuento. Al invocar la función es un atributo opcional.\n",
        "    </li>\n",
        "</ol>\n",
        "<p></p>\n",
        "\n",
        "<p>Si no se proporciona un descuento, se asume que el cliente no percibirá ningún descuento.</p>\n",
        "<p>Se muestran dos casos de uso:</p>\n",
        "<p></p>\n",
        "<ol>\n",
        "    <li>el primero es un caso con descuento</li>\n",
        "    <li>el segundo es un caso con solo dos atributos, lo cual indica que el cliente no recibe ningún descuento.</li>\n",
        "</ol>"
      ],
      "metadata": {
        "id": "R1IVRGHTjpmT"
      }
    },
    {
      "cell_type": "code",
      "source": [
        "def importe_factura(precio_unitario, cantidad, descuento=0):\n",
        "    precio_total = precio_unitario * cantidad\n",
        "    precio_con_descuento = precio_total - (precio_total * descuento / 100)\n",
        "    return precio_con_descuento\n",
        "\n",
        "# Ejemplos de uso\n",
        "print(importe_factura(10, 5, 10))  # 45.0 (con descuento del 10%)\n",
        "print(importe_factura(10, 5))      # 50.0 (sin descuento)"
      ],
      "metadata": {
        "colab": {
          "base_uri": "https://localhost:8080/"
        },
        "id": "ZqOyt0uq3kvK",
        "outputId": "757ba8b2-6883-4c3b-d6f6-b66390e9d06e"
      },
      "execution_count": null,
      "outputs": [
        {
          "output_type": "stream",
          "name": "stdout",
          "text": [
            "45.0\n",
            "50.0\n"
          ]
        }
      ]
    },
    {
      "cell_type": "markdown",
      "source": [
        "## arrastrar_reto030_p2\n",
        "<p>Necesitamos una función que calcule el salario neto de un empleado, tomando en cuenta un <strong>salario_base</strong>, unas <strong>horas_extra</strong> opcionales y un posible <strong>bono</strong> adicional opcional.</p>\n",
        "<p>Si no se proporcionan horas extra o bono, se asume que el empleado no percibe retribución por ese concepto.</p>\n"
      ],
      "metadata": {
        "id": "O0dvzk5sjpu5"
      }
    },
    {
      "cell_type": "code",
      "source": [
        "def calcular_salario(salario_base, horas_extra=0, bono=0):\n",
        "    salario_total = salario_base + (horas_extra * 30)  # Suponiendo un pago de 30 €/hora extra\n",
        "    salario_total += bono\n",
        "    impuestos = salario_total * 0.15  # Suponiendo una tasa de impuestos del 15%\n",
        "    salario_neto = salario_total - impuestos\n",
        "    return salario_neto\n",
        "\n",
        "# Ejemplos de uso\n",
        "# Salario con 20 horas extra y bono de 400 €\n",
        "print(calcular_salario(1600, 20, 400))  # 2210\n",
        "\n",
        "# Salario con 10 horas extra y sin bono\n",
        "print(calcular_salario(1500, 10))        # 1530\n",
        "\n",
        "# Salario sin horas extra ni bono\n",
        "print(calcular_salario(3000))           # 2550"
      ],
      "metadata": {
        "colab": {
          "base_uri": "https://localhost:8080/"
        },
        "id": "HIg5USGX4TlE",
        "outputId": "e5731dcc-2182-466c-d20c-173d4386884a"
      },
      "execution_count": null,
      "outputs": [
        {
          "output_type": "stream",
          "name": "stdout",
          "text": [
            "2210.0\n",
            "1530.0\n",
            "2550.0\n"
          ]
        }
      ]
    },
    {
      "cell_type": "markdown",
      "source": [
        "## arrastrar_reto031_p1\n",
        "Dados dos números: base y exponente, en ese orden, como parámetros de una función, se pretende obtener el resultado de elevar la base al exponente.\n",
        "\n",
        "\n",
        "1. Por ejemplo, la base 2 elevada al exponente 4 es 16 ya que $2^4=2×2×2×2=16$.\n",
        "2. Otro ejemplo, al elevar 3 al cubo se obtiene 27 ya que $3^3=3×3×3=27$."
      ],
      "metadata": {
        "id": "RIsC9HExjp4u"
      }
    },
    {
      "cell_type": "code",
      "source": [
        "def elevar(n, m):\n",
        "    producto = 1    # inicializamos la variable producto\n",
        "    for i in range(m):\n",
        "        producto *= n\n",
        "    return producto\n",
        "\n",
        "n, m = 2, 4\n",
        "print(f\"Al elevar {n} a {m} obtenemos {elevar(n, m)}.\")\n",
        "\n",
        "a = b = 3\n",
        "print(f\"Al elevar {a} a {b} obtenemos {elevar(a, b)}.\")"
      ],
      "metadata": {
        "id": "E0U7rm937I1_",
        "outputId": "a8048985-4e29-40c8-d75f-2faf255a8772",
        "colab": {
          "base_uri": "https://localhost:8080/"
        }
      },
      "execution_count": null,
      "outputs": [
        {
          "output_type": "stream",
          "name": "stdout",
          "text": [
            "Al elevar 2 a 4 obtenemos 16.\n",
            "Al elevar 3 a 3 obtenemos 27.\n"
          ]
        }
      ]
    },
    {
      "cell_type": "markdown",
      "source": [
        "## arrastrar_reto031_p2\n",
        "Tenemos una función que recibe una lista de números y un valor entero $n$.\n",
        "\n",
        "La función retorna una lista donde cada uno de los elementos es igual al elemento de la lista recibida pero multiplicado por $n$.\n",
        "\n",
        "De esta forma si $n=2$ estaríamos doblando el valor de cada uno de los números recibidos en la lista de entrada."
      ],
      "metadata": {
        "id": "FZlXeteejqSi"
      }
    },
    {
      "cell_type": "code",
      "source": [
        "def multiplicador(lista, n):\n",
        "    result = []    # inicializamos la variable como una lista vacía\n",
        "    for elemento in lista:\n",
        "        result.append(elemento * n)\n",
        "    return result\n",
        "\n",
        "# Caso 1\n",
        "n = 2\n",
        "lista = [3, 5, 7, 9]\n",
        "print(multiplicador(lista, n))    # [6, 10, 14, 18]\n",
        "\n",
        "# Caso 2\n",
        "n = 10\n",
        "lista = list(range(1, 6))         # [1, 2, 3, 4, 5]\n",
        "print(multiplicador(lista, n))    # [10, 20, 30, 40, 50]"
      ],
      "metadata": {
        "id": "7Y9VNpvd9XYU",
        "outputId": "4a06cc75-2f30-450e-fcd8-175c205f25aa",
        "colab": {
          "base_uri": "https://localhost:8080/"
        }
      },
      "execution_count": null,
      "outputs": [
        {
          "output_type": "stream",
          "name": "stdout",
          "text": [
            "[6, 10, 14, 18]\n",
            "[10, 20, 30, 40, 50]\n"
          ]
        }
      ]
    },
    {
      "cell_type": "markdown",
      "source": [
        "## arrastrar_reto032_p1\n",
        "Tenemos una función de Python que recibe como parámetro un diccionario donde se muestran nombres de amigos y su edad correspondiente.\n",
        "\n",
        "Queremos que la función nos retorne cuántos miembros hay en ese grupo de amigos.\n",
        "\n",
        "También queremos otra función que retorne la suma de las edades de todos los amigos del grupo."
      ],
      "metadata": {
        "id": "BidB4MbYjqcR"
      }
    },
    {
      "cell_type": "code",
      "source": [
        "grupo1 = {'Ana':15,\n",
        "          'Jose':17,\n",
        "          'Paula':16}\n",
        "\n",
        "grupo2 = {'Eva':16,\n",
        "          'Mario':18,\n",
        "          'Sole':17,\n",
        "          'Pablo':16}\n",
        "\n",
        "def num_amigos(diccionario):\n",
        "    return len(diccionario.items())\n",
        "\n",
        "def suma_edades(diccionario):\n",
        "    return sum(diccionario.values())\n",
        "\n",
        "print(f\"El grupo 1 tiene {num_amigos(grupo1)} miembros.\")\n",
        "print(f\"El grupo 2 tiene {num_amigos(grupo2)} miembros.\")\n",
        "\n",
        "print(f\"La suma de las edades del grupo 1 es {suma_edades(grupo1)} años.\")\n",
        "print(f\"La suma de las edades del grupo 2 es {suma_edades(grupo2)} años.\")"
      ],
      "metadata": {
        "id": "ie18mooS967y",
        "outputId": "18f75aea-f0ad-451f-b682-9d3704f0ff9a",
        "colab": {
          "base_uri": "https://localhost:8080/"
        }
      },
      "execution_count": null,
      "outputs": [
        {
          "output_type": "stream",
          "name": "stdout",
          "text": [
            "El grupo 1 tiene 3 miembros.\n",
            "El grupo 2 tiene 4 miembros.\n",
            "La suma de las edades del grupo 1 es 48 años.\n",
            "La suma de las edades del grupo 2 es 67 años.\n"
          ]
        }
      ]
    },
    {
      "cell_type": "markdown",
      "source": [
        "## arrastrar_reto032_p2\n",
        "Tenemos una función de Python que recibe como parámetro un diccionario donde se muestran nombres de amigos y su edad correspondiente.\n",
        "\n",
        "Queremos que la función nos retorne cuántos miembros hay en ese grupo de amigos.\n",
        "\n",
        "También queremos otra función que retorne la suma de las edades de todos los amigos del grupo."
      ],
      "metadata": {
        "id": "rqIHMFPfjqjo"
      }
    },
    {
      "cell_type": "code",
      "source": [
        "grupo1 = {'Ana':15,\n",
        "          'Jose':17,\n",
        "          'Paula':16}\n",
        "\n",
        "grupo2 = {'Eva':16,\n",
        "          'Mario':18,\n",
        "          'Sole':17,\n",
        "          'Pablo':16}\n",
        "\n",
        "def num_amigos(diccionario):\n",
        "    return len(diccionario)\n",
        "\n",
        "def suma_edades(diccionario):\n",
        "    return sum(diccionario.values())\n",
        "\n",
        "print(f\"El grupo 1 tiene {num_amigos(grupo1)} miembros.\")\n",
        "print(f\"El grupo 2 tiene {num_amigos(grupo2)} miembros.\")\n",
        "\n",
        "print(f\"La suma de las edades del grupo 1 es {suma_edades(grupo1)} años.\")\n",
        "print(f\"La suma de las edades del grupo 2 es {suma_edades(grupo2)} años.\")"
      ],
      "metadata": {
        "id": "OXMm7xqm-ioZ",
        "outputId": "f99b9593-6a71-4707-fa7e-8359efa1ae17",
        "colab": {
          "base_uri": "https://localhost:8080/"
        }
      },
      "execution_count": null,
      "outputs": [
        {
          "output_type": "stream",
          "name": "stdout",
          "text": [
            "El grupo 1 tiene 3 miembros.\n",
            "El grupo 2 tiene 4 miembros.\n",
            "La suma de las edades del grupo 1 es 48 años.\n",
            "La suma de las edades del grupo 2 es 67 años.\n"
          ]
        }
      ]
    },
    {
      "cell_type": "markdown",
      "source": [
        "## arrastrar_reto033_p1\n",
        "Disponemos de un array con varios números, algunos en formato de *string* y otros son de tipo *integer*.\n",
        "\n",
        "Por ejemplo: ['10', 20, '30', 40, '50', 60, '70', 80, '90']\n",
        "\n",
        "Tenemos dos funciones en Python, una convierte todos los números a enteros y la otra convierte todos los números a *string*."
      ],
      "metadata": {
        "id": "6KlYi6VajqtU"
      }
    },
    {
      "cell_type": "code",
      "source": [
        "def convertir_a_cadenas(lista):\n",
        "    return list(str(elemento) for elemento in lista)\n",
        "\n",
        "def convertir_a_enteros(lista):\n",
        "    return list(int(elemento) for elemento in lista)\n",
        "\n",
        "# Programa principal\n",
        "lista_mixta = ['10', 20, '30', 40, '50', 60, '70', 80, '90']\n",
        "print(\"Lista original:\", lista_mixta)\n",
        "print()\n",
        "\n",
        "lista_cadenas = convertir_a_cadenas(lista_mixta)\n",
        "print(\"Lista convertida a cadenas:\")\n",
        "print(lista_cadenas)    # ['10', '20', '30', '40', '50', '60', '70', '80', '90']\n",
        "print()\n",
        "\n",
        "lista_enteros = convertir_a_enteros(lista_mixta)\n",
        "print(\"Lista convertida a enteros:\")\n",
        "print(lista_enteros)    # [10, 20, 30, 40, 50, 60, 70, 80, 90]"
      ],
      "metadata": {
        "id": "MGBGMNGt_ANh",
        "outputId": "b5ba01c7-f844-498c-8535-9134845ce119",
        "colab": {
          "base_uri": "https://localhost:8080/"
        }
      },
      "execution_count": null,
      "outputs": [
        {
          "output_type": "stream",
          "name": "stdout",
          "text": [
            "Lista original: ['10', 20, '30', 40, '50', 60, '70', 80, '90']\n",
            "\n",
            "Lista convertida a cadenas:\n",
            "['10', '20', '30', '40', '50', '60', '70', '80', '90']\n",
            "\n",
            "Lista convertida a enteros:\n",
            "[10, 20, 30, 40, 50, 60, 70, 80, 90]\n"
          ]
        }
      ]
    },
    {
      "cell_type": "markdown",
      "source": [
        "## arrastrar_reto033_p2\n",
        "Disponemos de un array con varios números, algunos en formato de *string* y otros son de tipo *integer*.\n",
        "\n",
        "Por ejemplo: ['10', 20, '30', 40, '50', 60, '70', 80, '90']\n",
        "\n",
        "Tenemos dos funciones en Python:\n",
        "\n",
        "1. La primera tomando los números que originalmente eran enteros, los convierte en cadenas, retornando una lista solo con ellos.\n",
        "2. La segunda tomando los números que originalmente eran cadena, los convierte en enteros, retornando una lista solo con ellos."
      ],
      "metadata": {
        "id": "YWBWjgPWjq1_"
      }
    },
    {
      "cell_type": "code",
      "source": [
        "def enteros_convertidos_a_cadenas(lista):\n",
        "    return list(str(num) for num in lista if type(num) == int)\n",
        "\n",
        "def cadenas_convertidas_a_enteros(lista):\n",
        "    return list(int(num) for num in lista if type(num) == str)\n",
        "\n",
        "# Programa principal\n",
        "lista_mixta = ['10', 20, '30', 40, '50', 60, '70', 80, '90']\n",
        "print(\"Lista original:\", lista_mixta)\n",
        "print()\n",
        "\n",
        "ahora_cadenas = enteros_convertidos_a_cadenas(lista_mixta)\n",
        "print(\"Los que fueron enteros ahora son cadenas:\")\n",
        "print(ahora_cadenas)    # ['20', '40', '60', '80']\n",
        "print()\n",
        "\n",
        "ahora_enteros = cadenas_convertidas_a_enteros(lista_mixta)\n",
        "print(\"Los que fueron cadenas ahora son enteros:\")\n",
        "print(ahora_enteros)    # [10, 30, 50, 70, 90]"
      ],
      "metadata": {
        "id": "YTvCOC34_ssn",
        "outputId": "ca016f68-7cd3-4592-8871-0cf67c32e3a2",
        "colab": {
          "base_uri": "https://localhost:8080/"
        }
      },
      "execution_count": null,
      "outputs": [
        {
          "output_type": "stream",
          "name": "stdout",
          "text": [
            "Lista original: ['10', 20, '30', 40, '50', 60, '70', 80, '90']\n",
            "\n",
            "Los que fueron enteros ahora son cadenas:\n",
            "['20', '40', '60', '80']\n",
            "\n",
            "Los que fueron cadenas ahora son enteros:\n",
            "[10, 30, 50, 70, 90]\n"
          ]
        }
      ]
    },
    {
      "cell_type": "markdown",
      "source": [
        "## arrastrar_reto034_p1\n",
        "En Python dos diccionarios son iguales siempre que tengan las mismas parejas clave : valor, aunque las parejas estén en distinto orden dentro del diccionario.\n",
        "\n",
        "Queremos crear una función que detecte si dos diccionarios son iguales o no.\n",
        "\n",
        "En el primer caso de uso los diccionarios 1 y 2 si son iguales, por el contrario en el segundo caso de uso los diccionarios 1 y 3 no son iguales."
      ],
      "metadata": {
        "id": "u-waqg3Djq-E"
      }
    },
    {
      "cell_type": "code",
      "source": [
        "def son_iguales(d1, d2):\n",
        "    return d1 == d2\n",
        "\n",
        "diccionario1 = {'a': 1, 'b': 2, 'c': 3}\n",
        "diccionario2 = {'b': 2, 'a': 1, 'c': 3}\n",
        "print(son_iguales(diccionario1, diccionario2))  # True\n",
        "\n",
        "diccionario3 = {'a': 1, 'b': 2, 'c': 4}\n",
        "print(son_iguales(diccionario1, diccionario3))  # False"
      ],
      "metadata": {
        "colab": {
          "base_uri": "https://localhost:8080/"
        },
        "id": "EGah6XGQ5hLs",
        "outputId": "2c069a7c-18cc-4f5c-963b-53f483fc8213"
      },
      "execution_count": null,
      "outputs": [
        {
          "output_type": "stream",
          "name": "stdout",
          "text": [
            "True\n",
            "False\n"
          ]
        }
      ]
    },
    {
      "cell_type": "markdown",
      "source": [
        "## arrastrar_reto034_p2\n",
        "En Python dos diccionarios son iguales siempre que tengan las mismas parejas calave:valor, aunque las parejas estén en distinto orden dentro del diccionario.\n",
        "\n",
        "Queremos crear una función que detecte si dos diccionarios son iguales o no."
      ],
      "metadata": {
        "id": "I3SkjjG-jrGv"
      }
    },
    {
      "cell_type": "code",
      "source": [
        "def son_iguales(d1, d2):\n",
        "    return d1 == d2\n",
        "\n",
        "diccionario1 = {'a': 1, 'b': 2, 'c': 3}\n",
        "diccionario2 = {'b': 2, 'a': 1, 'c': 3}\n",
        "diccionario3 = {'a': 1, 'b': 2, 'c': 4}\n",
        "\n",
        "check = son_iguales(diccionario1, diccionario2)\n",
        "print(check)  # True\n",
        "print(f\"El diccionario1 y el diccionario2 {'si' if check else 'no'} son iguales.\")\n",
        "print()\n",
        "\n",
        "check = son_iguales(diccionario1, diccionario3)\n",
        "print(check)  # False\n",
        "print(f\"El diccionario1 y el diccionario3 {'si' if check else 'no'} son iguales.\")"
      ],
      "metadata": {
        "colab": {
          "base_uri": "https://localhost:8080/"
        },
        "id": "w_fwmTVy5iPE",
        "outputId": "e2553f24-798a-43cb-d8ea-ca6441d2cdf2"
      },
      "execution_count": null,
      "outputs": [
        {
          "output_type": "stream",
          "name": "stdout",
          "text": [
            "True\n",
            "El diccionario1 y el diccionario2 si son iguales.\n",
            "\n",
            "False\n",
            "El diccionario1 y el diccionario3 no son iguales.\n"
          ]
        }
      ]
    },
    {
      "cell_type": "markdown",
      "source": [
        "## arrastrar_reto035_p1\n",
        "Hemos creado una función que recibe dos números enteros (n, m) y nos dice si m es divisor de n.\n",
        "\n",
        "La función usa un operador ternario."
      ],
      "metadata": {
        "id": "4CvSXaInjrP0"
      }
    },
    {
      "cell_type": "code",
      "source": [
        "def es_divisor(n, m):\n",
        "    respuesta = \"SI\" if n % m == 0 else \"NO\"\n",
        "    return f'{m} {respuesta} es divisor de {n}'\n",
        "\n",
        "print(es_divisor(120, 5))   # 5 SI es divisor de 120\n",
        "print(es_divisor(120, 7))   # 7 NO es divisor de 120"
      ],
      "metadata": {
        "colab": {
          "base_uri": "https://localhost:8080/"
        },
        "id": "sqvDvFV65i6c",
        "outputId": "e82751ab-f03b-488a-9731-f726ab39e7a4"
      },
      "execution_count": null,
      "outputs": [
        {
          "output_type": "stream",
          "name": "stdout",
          "text": [
            "5 SI es divisor de 120\n",
            "7 NO es divisor de 120\n"
          ]
        }
      ]
    },
    {
      "cell_type": "markdown",
      "source": [
        "## arrastrar_reto035_p2\n",
        "Hemos creado una función que recibe dos números enteros (a, b).\n",
        "\n",
        "La función utiliza un operador ternario.\n",
        "\n",
        "Si la suma de los dos parámetros es par retorna la suma y en caso contrario retorn la diferencia."
      ],
      "metadata": {
        "id": "TgZ0JkaIjrYe"
      }
    },
    {
      "cell_type": "code",
      "source": [
        "def suma_par(a, b):\n",
        "    return a + b if (a+b) % 2 == 0 else a - b\n",
        "\n",
        "print(suma_par(5, 7))  # 12\n",
        "print(suma_par(9, 4))  # 5"
      ],
      "metadata": {
        "colab": {
          "base_uri": "https://localhost:8080/"
        },
        "id": "9l2FWtht5jvA",
        "outputId": "a64edc47-ea90-43b4-de50-cac2c1f93dae"
      },
      "execution_count": null,
      "outputs": [
        {
          "output_type": "stream",
          "name": "stdout",
          "text": [
            "12\n",
            "5\n"
          ]
        }
      ]
    },
    {
      "cell_type": "markdown",
      "source": [
        "## arrastrar_reto036_p1\n",
        "Nos gustaría crear una función en Python que reciba dos parámetros $x$\n",
        " e $y$ y que retorne `True` si son iguales y además sus tipos también son iguales, en caso contrario retornaría `False`.\n",
        "\n"
      ],
      "metadata": {
        "id": "gYQTkZrTjrg4"
      }
    },
    {
      "cell_type": "code",
      "source": [
        "def son_iguales(x, y):\n",
        "    return x is y\n",
        "\n",
        "# Casos de uso\n",
        "print(son_iguales(4, 5-1))      # True\n",
        "print(son_iguales(4, 8//2))     # True\n",
        "print(son_iguales(4.0, 8/2))    # True   (ambos son float)\n",
        "print(son_iguales(4, 8/2))      # False  (8/2 es 4.0 que es float)"
      ],
      "metadata": {
        "colab": {
          "base_uri": "https://localhost:8080/"
        },
        "id": "D6FRJbTJ6Zep",
        "outputId": "6653eea1-6bce-4388-e80f-c84e44ebaf09"
      },
      "execution_count": null,
      "outputs": [
        {
          "output_type": "stream",
          "name": "stdout",
          "text": [
            "True\n",
            "True\n",
            "True\n",
            "False\n"
          ]
        }
      ]
    },
    {
      "cell_type": "markdown",
      "source": [
        "## arrastrar_reto036_p2\n",
        "Sabemos que para comparar dos números is es más exigente que ==. El motivo es que con is se exige que los números sean iguales y que además los tipos sean iguales.\n",
        "\n",
        "Ejemplo:\n",
        "\n",
        "1. `print(2 == 2.0) # True`\n",
        "2. `print(2 is 2.0) # False`\n",
        "\n",
        "Tenemos una función que recibe dos parámetros (a, b) y devuelve `True` si son iguales y además sus tipos también son iguales, en caso contrario retornaría `False`.\n",
        "\n",
        "Después de la función nos dan una lista con varias formas de expresar un 2 y queremos comprobar si al aplicar la función se comprueba que cada uno de los elementos de esa lista son iguales a 2, tanto en valor como en tipo.\n",
        "\n",
        "Se aplica la función a los elementos de esta lista:\n",
        "\n",
        "`lista = [2, 6//3, --2, 1+1, abs(-2), eval(\"3-1\"), int(6.0//3), 6.0//3]`\n",
        "\n",
        "Lo que se imprime es esta serie de booleanos:\n",
        "\n",
        "`True True True True True True True False`"
      ],
      "metadata": {
        "id": "pP0j9bWrjrqY"
      }
    },
    {
      "cell_type": "code",
      "source": [
        "def iguales_y_tipo_igual(a, b):\n",
        "    return a == b and type(a) == type(b)\n",
        "\n",
        "\n",
        "# Programa principal que invoca reiteradamente la función\n",
        "lista = [2, 6//3, --2, 1+1, abs(-2), eval(\"3-1\"), int(6.0//3), 6.0//3]\n",
        "for  num in lista:\n",
        "    print(iguales_y_tipo_igual(num, 2), end=\" \")"
      ],
      "metadata": {
        "colab": {
          "base_uri": "https://localhost:8080/"
        },
        "id": "g9Z9M1BX5kds",
        "outputId": "7fb860f8-556f-42c1-b575-a7318e3afc27"
      },
      "execution_count": null,
      "outputs": [
        {
          "output_type": "stream",
          "name": "stdout",
          "text": [
            "True True True True True True True False "
          ]
        }
      ]
    },
    {
      "cell_type": "markdown",
      "source": [
        "## arrastrar_reto037_p1\n",
        "Dado un array de números enteros decir si alguno de los números es 10 o si la suma de dos números <u>consecutivos</u> del array es 10."
      ],
      "metadata": {
        "id": "sh68gkuqjrza"
      }
    },
    {
      "cell_type": "code",
      "source": [
        "def localiza_diez(arr):\n",
        "    # Verifica si algún elemento es 10\n",
        "    if 10 in arr:\n",
        "        return True\n",
        "    # Utiliza un conjunto deslizante para encontrar la suma de pares consecutivos\n",
        "    for i in range(len(arr)-1):\n",
        "        if arr[i] + arr[i+1] == 10:\n",
        "            return True\n",
        "    return False\n",
        "\n",
        "# Casos de uso\n",
        "array1 = [1,2,3,4,5,11]\n",
        "array2 = [1,2,3,4,5,10]\n",
        "array3 = [1,2,3,4,6,5]\n",
        "\n",
        "print(localiza_diez(array1))    # False\n",
        "print(localiza_diez(array2))    # True  (hay un 10)\n",
        "print(localiza_diez(array3))    # True  (4+6=10)"
      ],
      "metadata": {
        "colab": {
          "base_uri": "https://localhost:8080/"
        },
        "id": "2HMj2i0P5lIa",
        "outputId": "1baab78f-6f21-40ca-c50b-1ea70c04a054"
      },
      "execution_count": null,
      "outputs": [
        {
          "output_type": "stream",
          "name": "stdout",
          "text": [
            "False\n",
            "True\n",
            "True\n"
          ]
        }
      ]
    },
    {
      "cell_type": "markdown",
      "source": [
        "## arrastrar_reto037_p2\n",
        "Dado un array de números enteros entre 0 y 9 decir si alguno de los números es 5 o si la suma de dos de ellos es 5.\n",
        "\n",
        "Se proporcionan varios casos de uso, algunos con resultado `True` y otros con resultado `False`."
      ],
      "metadata": {
        "id": "u_JeWC_mjr8E"
      }
    },
    {
      "cell_type": "code",
      "source": [
        "def hay_cinco(lista):\n",
        "    # Verifica si el número 5 está presente en la lista\n",
        "    if 5 in lista:\n",
        "        return True\n",
        "    # Itera sobre todas las parejas de números en la lista\n",
        "    n = len(lista)\n",
        "    for i in range(n-1):\n",
        "        for j in range(i + 1, n):\n",
        "            # Si la suma de dos números es igual a 5, devuelve True\n",
        "            if lista[i] + lista[j] == 5:\n",
        "                return True\n",
        "    # Si no se cumple ninguna de las condiciones anteriores, devuelve False\n",
        "    return False\n",
        "\n",
        "# Casos de uso\n",
        "lista = [6, 1, 2, 0, 8]\n",
        "print(lista, hay_cinco(lista))  # [6, 1, 2, 0, 8] False\n",
        "\n",
        "lista = [3, 1, 7, 6, 0]\n",
        "print(lista, hay_cinco(lista))  # [3, 1, 7, 6, 0] False\n",
        "\n",
        "lista = [8, 2, 0, 6, 7]\n",
        "print(lista, hay_cinco(lista))  # [8, 2, 0, 6, 7] False\n",
        "\n",
        "lista = [8, 3, 7, 4, 5]\n",
        "print(lista, hay_cinco(lista))  # [8, 3, 7, 4, 5] True\n",
        "\n",
        "lista = [6, 3, 4, 0, 1]\n",
        "print(lista, hay_cinco(lista))  # [6, 3, 4, 0, 1] True\n",
        "\n",
        "lista = [3, 2, 4, 7, 1]\n",
        "print(lista, hay_cinco(lista))  # [3, 2, 4, 7, 1] True"
      ],
      "metadata": {
        "colab": {
          "base_uri": "https://localhost:8080/"
        },
        "id": "GUJyg9qQ5l0T",
        "outputId": "3bacb6bc-a479-47e1-ad86-07a0a65c9a1d"
      },
      "execution_count": null,
      "outputs": [
        {
          "output_type": "stream",
          "name": "stdout",
          "text": [
            "[6, 1, 2, 0, 8] False\n",
            "[3, 1, 7, 6, 0] False\n",
            "[8, 2, 0, 6, 7] False\n",
            "[8, 3, 7, 4, 5] True\n",
            "[6, 3, 4, 0, 1] True\n",
            "[3, 2, 4, 7, 1] True\n"
          ]
        }
      ]
    },
    {
      "cell_type": "markdown",
      "source": [
        "## arrastrar_reto038_p1\n",
        "Dado un array de números enteros nos gustaría tener una función que devuelva `True` si todos ellos son divisibles por 5 y en caso contrario que devuelva `False`.\n",
        "\n",
        "Ejemplos:\n",
        "\n",
        "1. Para la lista [5, -55, 45, 60] se ha de retornar True ya que todos los números son divisibles por 5.\n",
        "2. Para la lista [-15, 17, 50, 555] se ha de imprimir False ya que 17 no es divisible entre 5, por lo que no todos lo son.\n",
        "\n",
        "Hemos creado varias versiones de una función que efectúa este cálculo.\n",
        "\n",
        "#### Comentario\n",
        "\n",
        "1. La función `all()` devuelve `True` si todos los elementos de un iterable son verdaderos; de lo contrario, devuelve `False`.\n",
        "2. La función `any()` devuelve `True` si algún elemento de un iterable es verdadero; de lo contrario, devuelve `False`."
      ],
      "metadata": {
        "id": "6QBptxcjjsFc"
      }
    },
    {
      "cell_type": "code",
      "source": [
        "lista1 = [5, -55, 45, 60]\n",
        "lista2 = [-15, 17, 50, 555]\n",
        "\n",
        "def todos(lista):\n",
        "    for num in lista:\n",
        "        if num % 5 != 0:\n",
        "            return False\n",
        "    return True\n",
        "\n",
        "def todos(lista):\n",
        "    return all(num % 5 == 0 for num in lista)\n",
        "\n",
        "print(f\"En la lista1 ¿son todos divisibles por cinco?: {todos(lista1)}.\")\n",
        "print(f\"En la lista2 ¿son todos divisibles por cinco?: {todos(lista2)}.\")"
      ],
      "metadata": {
        "colab": {
          "base_uri": "https://localhost:8080/"
        },
        "id": "l04ZpswP5nJy",
        "outputId": "6d41f21f-c145-4152-a0a7-0ef8ea1c9035"
      },
      "execution_count": null,
      "outputs": [
        {
          "output_type": "stream",
          "name": "stdout",
          "text": [
            "En la lista1 ¿son todos divisibles por cinco?: True.\n",
            "En la lista2 ¿son todos divisibles por cinco?: False.\n"
          ]
        }
      ]
    },
    {
      "cell_type": "markdown",
      "source": [
        "## arrastrar_reto038_p2\n",
        "Dado un array de números enteros nos gustaría tener una función que devuelva\n",
        "`True` si todos ellos son pares y en caso contrario que devuelva `False`.\n",
        "\n",
        "Ejemplos:\n",
        "\n",
        "1. Para la lista [2, -28, 44, 60] se ha de retornar True ya que todos los números son divisibles por 2.\n",
        "2. Para la lista [-16, 17, 50, 550] se ha de imprimir False ya que 17 no es divisible entre 2, por lo que no todos son pares.\n",
        "\n",
        "Hemos creado varias versiones de una función que efectúa este cálculo.\n",
        "\n",
        "#### Comentario\n",
        "\n",
        "1. La función `all()` devuelve `True` si todos los elementos de un iterable son verdaderos; de lo contrario, devuelve `False`.\n",
        "2. La función `any()` devuelve `True` si algún elemento de un iterable es verdadero; de lo contrario, devuelve `False`."
      ],
      "metadata": {
        "id": "tB-oTmLEjsNu"
      }
    },
    {
      "cell_type": "code",
      "source": [
        "lista1 = [2, -28, 44, 60]\n",
        "lista2 = [-16, 17, 50, 550]\n",
        "\n",
        "def todos_pares(lista):\n",
        "    for num in lista:\n",
        "        if num % 2:\n",
        "            return False\n",
        "    return True\n",
        "\n",
        "def todos_pares(lista):\n",
        "    return all(num % 2 == 0 for num in lista)\n",
        "\n",
        "print(f\"En la lista1 ¿son todos pares?: {todos_pares(lista1)}.\")\n",
        "print(f\"En la lista2 ¿son todos pares?: {todos_pares(lista2)}.\")"
      ],
      "metadata": {
        "colab": {
          "base_uri": "https://localhost:8080/"
        },
        "id": "cmb_0wJ55n8f",
        "outputId": "dac3ce7f-f6cf-49c3-ef61-339b6cb6dd33"
      },
      "execution_count": null,
      "outputs": [
        {
          "output_type": "stream",
          "name": "stdout",
          "text": [
            "En la lista1 ¿son todos pares?: True.\n",
            "En la lista2 ¿son todos pares?: False.\n"
          ]
        }
      ]
    },
    {
      "cell_type": "markdown",
      "source": [
        "## arrastrar_reto039_p1\n",
        "He realizado una compra de artículos y he anotado su precio antes de aplicar el 21% de IVA (Impuesto sobre el Valor Añadido).\n",
        "\n",
        "Este es el array con los precios antes de impuestos:\n",
        "\n",
        "`[80, 90, 500, 40, 700, 75]`\n",
        "\n",
        "Tengo instrucciones de eliminar del carro de compra, y por lo tanto del array, los artículos cuyo impuesto por IVA sea mayor o igual a 100 €.\n",
        "\n",
        "El array del ejemplo anterior se reduciría y quedaría así:\n",
        "\n",
        "`[80, 90, 40, 75]`\n",
        "\n",
        "puesto que:\n",
        "\n",
        "1. el IVA de 500 € es 21% x 500 = 105 €\n",
        "2. el IVA de 700 € es 21% x 700 = 147 €"
      ],
      "metadata": {
        "id": "9EnY4Xt9jsWy"
      }
    },
    {
      "cell_type": "code",
      "source": [
        "def filtra_impuestos(lista):\n",
        "    return [precio for precio in lista if 0.21 * precio < 100]\n",
        "\n",
        "print(filtra_impuestos([80, 90, 500, 40, 700, 75]))    # [80, 90, 40, 75]"
      ],
      "metadata": {
        "colab": {
          "base_uri": "https://localhost:8080/"
        },
        "id": "NuKq4PgQ5onY",
        "outputId": "a07d6ec1-e76d-4895-e609-07aa2f1906e6"
      },
      "execution_count": null,
      "outputs": [
        {
          "output_type": "stream",
          "name": "stdout",
          "text": [
            "[80, 90, 40, 75]\n"
          ]
        }
      ]
    },
    {
      "cell_type": "markdown",
      "source": [
        "## arrastrar_reto039_p2\n",
        "Una función recibe una lista de números enteros y devuelve esa misma lista pero solo con los números pares."
      ],
      "metadata": {
        "id": "K2OVME-qjsg7"
      }
    },
    {
      "cell_type": "code",
      "source": [
        "lista1 = [7,2,0,6,5,9,3,8]\n",
        "lista2 = list(range(10, 20))  # crea una lista del 10 al 19\n",
        "\n",
        "def solo_pares(lista):\n",
        "    return [num for num in lista if num % 2 == 0]\n",
        "\n",
        "print(\"Solo pares:\", solo_pares(lista1))  # [2, 0, 6, 8]\n",
        "print(\"Solo pares:\", solo_pares(lista2))  # [10, 12, 14, 16, 18]"
      ],
      "metadata": {
        "colab": {
          "base_uri": "https://localhost:8080/"
        },
        "id": "w1fAMALx5pVD",
        "outputId": "f2d4c822-a822-4f6b-b47d-99179e697b93"
      },
      "execution_count": null,
      "outputs": [
        {
          "output_type": "stream",
          "name": "stdout",
          "text": [
            "Solo pares: [2, 0, 6, 8]\n",
            "Solo pares: [10, 12, 14, 16, 18]\n"
          ]
        }
      ]
    },
    {
      "cell_type": "markdown",
      "source": [
        "## arrastrar_reto040_p1\n",
        "Tengo tres funciones que logran sumar todos los números de una lista."
      ],
      "metadata": {
        "id": "itxWXEKTjsqI"
      }
    },
    {
      "cell_type": "code",
      "source": [
        "# Método 1\n",
        "def suma(lista):\n",
        "    return sum(lista)\n",
        "\n",
        "# Método 2\n",
        "def suma(lista):\n",
        "    total = 0\n",
        "    for elemento in lista:\n",
        "        total += elemento\n",
        "    return total\n",
        "\n",
        "# Método 3\n",
        "def suma(arr):\n",
        "    total = 0\n",
        "    for i in range(len(arr)):\n",
        "        total += arr[i]\n",
        "    return total\n",
        "\n",
        "de_1_a_100 = list(range(1, 101))\n",
        "print(suma(de_1_a_100))  # 5050"
      ],
      "metadata": {
        "colab": {
          "base_uri": "https://localhost:8080/"
        },
        "id": "cVlDHVGD5qF5",
        "outputId": "cf5d871e-1788-4b08-b965-0e0526d7c56d"
      },
      "execution_count": null,
      "outputs": [
        {
          "output_type": "stream",
          "name": "stdout",
          "text": [
            "5050\n"
          ]
        }
      ]
    },
    {
      "cell_type": "markdown",
      "source": [
        "## arrastrar_reto040_p2\n",
        "Tengo tres funciones que logran sumar todos los números de una lista."
      ],
      "metadata": {
        "id": "VB7xeY-Qjsy3"
      }
    },
    {
      "cell_type": "code",
      "source": [
        "lista = [6, 4, 2, 3]\n",
        "\n",
        "def suma_lista(lista):\n",
        "    return sum(num for num in lista)\n",
        "\n",
        "def suma_lista(arr):\n",
        "    total = 0\n",
        "    for i in range(len(arr)):\n",
        "        total = total + arr[i]\n",
        "    return total\n",
        "\n",
        "def suma_lista(arr):\n",
        "    total = 0\n",
        "    for num in arr:\n",
        "        total += num\n",
        "    return total\n",
        "\n",
        "print(suma_lista(lista))  # 15"
      ],
      "metadata": {
        "colab": {
          "base_uri": "https://localhost:8080/"
        },
        "id": "N-k0AYPV5qvd",
        "outputId": "9498abb3-f0d2-41cb-a978-ccaef20b3133"
      },
      "execution_count": null,
      "outputs": [
        {
          "output_type": "stream",
          "name": "stdout",
          "text": [
            "15\n"
          ]
        }
      ]
    },
    {
      "cell_type": "markdown",
      "source": [
        "## arrastrar_reto041_p1\n",
        "Necesitamos un código que sume las filas de una matriz.\n",
        "\n",
        "En Python una matriz es una lista de listas, por ejemplo la siguiente:\n",
        "\n",
        "\n",
        "<pre><code>  matriz = [[1,2],\n",
        "            [3,4],\n",
        "            [5,6],\n",
        "            [7,8]]</code></pre>\n",
        "\n",
        "\n",
        "Esta es una matriz de orden 4×2, esto es, de cuatro filas y dos columnas\n",
        "\n",
        "La suma por filas es [3, 7, 11, 15]."
      ],
      "metadata": {
        "id": "Cr0HBfL1js7_"
      }
    },
    {
      "cell_type": "code",
      "source": [
        "matriz = [[1,2],\n",
        "          [3,4],\n",
        "          [5,6],\n",
        "          [7,8]]\n",
        "\n",
        "def suma_filas(matriz):\n",
        "    return [sum(fila) for fila in matriz]\n",
        "\n",
        "print(f\"La suma de las filas es {suma_filas(matriz)}\")"
      ],
      "metadata": {
        "colab": {
          "base_uri": "https://localhost:8080/"
        },
        "id": "oDShMC_T5rXx",
        "outputId": "5a719f83-3c3f-48b1-80ff-20eb005f4d26"
      },
      "execution_count": null,
      "outputs": [
        {
          "output_type": "stream",
          "name": "stdout",
          "text": [
            "La suma de las filas es [3, 7, 11, 15]\n"
          ]
        }
      ]
    },
    {
      "cell_type": "markdown",
      "source": [
        "## arrastrar_reto041_p2\n",
        "Nos proporcionan una matriz cuadrada de orden 4×4, esto es, de 4 filas y 4 columnas.\n",
        "\n",
        "Una matriz en Python es una lista de listas.\n",
        "\n",
        "Por ejemplo:\n",
        "\n",
        "\n",
        "<pre><code>  matriz = [[2, 8, 9, 1],\n",
        "            [7, 4, 0, 1],\n",
        "            [0, 9, 3, 4],\n",
        "            [8, 6, 1, 5]]</code></pre>\n",
        "En este caso la suma de la diagonal principal es 2+4+3+5 = 14"
      ],
      "metadata": {
        "id": "H6yBn0kKjtE6"
      }
    },
    {
      "cell_type": "code",
      "source": [
        "def suma_diagonal_principal(matriz):\n",
        "    n = len(matriz)  # Obtenemos el tamaño de la matriz (número de filas o columnas, ya que es cuadrada)\n",
        "    suma = 0    # Inicializamos la variable suma para almacenar la suma de los elementos de la diagonal principal\n",
        "    for i in range(n):  # Iteramos sobre las filas de la matriz\n",
        "        for j in range(n):  # Iteramos sobre las columnas de la matriz\n",
        "            if i == j:  # Si el índice de fila es igual al índice de columna, estamos en la diagonal principal\n",
        "                suma += matriz[i][j]  # Sumamos el elemento actual de la diagonal principal a la suma total\n",
        "    return suma  # Devolvemos la suma de los elementos de la diagonal principal\n",
        "\n",
        "m = [[2, 8, 9, 1], [7, 4, 0, 1], [0, 9, 3, 4], [8, 6, 1, 5]]  # Definimos una matriz de ejemplo\n",
        "\n",
        "# Imprimimos la matriz sin corchetes y una fila debajo de la otra\n",
        "for fila in m:\n",
        "    print(*fila)  # El operador asterisco permite desempaquetar la fila\n",
        "\n",
        "# Imprimimos la suma de los elementos de la diagonal principal\n",
        "print(\"Suma de la diagonal principal:\", suma_diagonal_principal(m))"
      ],
      "metadata": {
        "colab": {
          "base_uri": "https://localhost:8080/"
        },
        "id": "6ZrVxeML5r8D",
        "outputId": "d1b7db2b-43c3-4ed1-af5b-5b3b3916682c"
      },
      "execution_count": null,
      "outputs": [
        {
          "output_type": "stream",
          "name": "stdout",
          "text": [
            "2 8 9 1\n",
            "7 4 0 1\n",
            "0 9 3 4\n",
            "8 6 1 5\n",
            "Suma de la diagonal principal: 14\n"
          ]
        }
      ]
    },
    {
      "cell_type": "markdown",
      "source": [
        "## arrastrar_reto042_p1\n",
        "Dado un número entero 𝑛 que puede estar entre 20 y 300, queremos crear una función que reciba 𝑛 como parámetro y retorne una lista con todos los múltiplos de 17 que hay hasta 𝑛 incluido.\n",
        "\n",
        "Por ejemplo, si 𝑛=170, la lista que se imprimirá será:\n",
        "\n",
        "`[17, 34, 51, 68, 85, 102, 119, 136, 153, 170]`"
      ],
      "metadata": {
        "id": "K1JFs4zFjtM9"
      }
    },
    {
      "cell_type": "code",
      "source": [
        "def multiplos_de_diecisiete(n):\n",
        "    # Inicializamos una lista vacía para almacenar los múltiplos de 17\n",
        "    multiplos = []\n",
        "    # Iteramos desde 1 hasta n (inclusive)\n",
        "    for i in range(1, n + 1):\n",
        "        # Verificamos si el número es múltiplo de 17\n",
        "        if i % 17 == 0:\n",
        "            # Si es múltiplo, lo añadimos a la lista de múltiplos\n",
        "            multiplos.append(i)\n",
        "    # Retornamos la lista de múltiplos\n",
        "    return multiplos\n",
        "\n",
        "# Llamamos a la función y pasamos el número 170 como argumento\n",
        "print(multiplos_de_diecisiete(170))  # [17, 34, 51, 68, 85, 102, 119, 136, 153, 170]"
      ],
      "metadata": {
        "colab": {
          "base_uri": "https://localhost:8080/"
        },
        "id": "pzS5WJ975sk3",
        "outputId": "f279d30e-56f4-463e-bc3e-4a3b130092eb"
      },
      "execution_count": null,
      "outputs": [
        {
          "output_type": "stream",
          "name": "stdout",
          "text": [
            "[17, 34, 51, 68, 85, 102, 119, 136, 153, 170]\n"
          ]
        }
      ]
    },
    {
      "cell_type": "markdown",
      "source": [
        "## arrastrar_reto042_p2\n",
        "Nos dan una lista de números y un número entero 𝑛. Deseamos saber cuantos números de esa lista son divisibles por 𝑛.\n",
        "\n",
        "Por ejemplo, si 𝑛=15 y la lista es:\n",
        "\n",
        "`[12, 15, 30, 45, 60]`\n",
        "\n",
        "Hay 4 divisores, ya que todos lo son, salvo el 12."
      ],
      "metadata": {
        "id": "rfRfDA7ZjtWL"
      }
    },
    {
      "cell_type": "code",
      "source": [
        "lista = [12, 15, 30, 45, 60]\n",
        "n = 15\n",
        "\n",
        "def cuantos_divisores_hay(lista, n):\n",
        "    return sum(1 for num in lista if num % n == 0)\n",
        "\n",
        "x = cuantos_divisores_hay(lista, n)\n",
        "print(f\"En esta lista hay {x} divisores de {n}.\")\n",
        "# En esta lista hay 4 divisores de 15."
      ],
      "metadata": {
        "colab": {
          "base_uri": "https://localhost:8080/"
        },
        "id": "wlLvmYAr5tPx",
        "outputId": "91a3f8c3-0ffb-4ca0-9826-850efe5121e2"
      },
      "execution_count": null,
      "outputs": [
        {
          "output_type": "stream",
          "name": "stdout",
          "text": [
            "En esta lista hay 4 divisores de 15.\n"
          ]
        }
      ]
    },
    {
      "cell_type": "markdown",
      "source": [
        "## arrastrar_reto043_p1\n",
        "Sabemos que la fórmula que relaciona la potencia eléctrica ($P$) con la intensidad de corriente ($I$) y con la resistencia del conductor ($R$) es:\n",
        "$$P=I^2 \\cdot R$$\n",
        "\n",
        "Necesitamos crear una función que reciba como parámetros $P$, $I$, $R$ (en ese orden) y nos diga si los valores recibidos cumplen la fórmula anterior.\n",
        "\n",
        "Si se cumple la fórmula se imprimirá `True` y si no se cumple se imprimirá `False`."
      ],
      "metadata": {
        "id": "fzxLTw55jtes"
      }
    },
    {
      "cell_type": "code",
      "source": [
        "def comprueba_potencia(p, i, r):\n",
        "    return p - i**2 * r == 0\n",
        "\n",
        "print(comprueba_potencia(400, 2, 100))  # Imprime: True\n",
        "print(comprueba_potencia(400, 5, 100))  # Imprime: False\n",
        "print(comprueba_potencia(1800, 30, 2))  # Imprime: True"
      ],
      "metadata": {
        "colab": {
          "base_uri": "https://localhost:8080/"
        },
        "id": "spYgZ2Hh5t4v",
        "outputId": "9c1020eb-94de-44de-fdbc-074d25ee4c93"
      },
      "execution_count": null,
      "outputs": [
        {
          "output_type": "stream",
          "name": "stdout",
          "text": [
            "True\n",
            "False\n",
            "True\n"
          ]
        }
      ]
    },
    {
      "cell_type": "markdown",
      "source": [
        "## arrastrar_reto043_p2\n",
        "Sabemos que la fórmula que relaciona la intensidad de corriente ($I$) con el voltaje ($V$) y con la resistencia del conductor ($R$) es la conocida ley de Ohm:\n",
        "\n",
        "$$I = \\frac{V}{R}$$\n",
        "\n",
        "Necesitamos crear una función que reciba como parámetros $I$, $V$, $R$ (en ese orden) y nos diga si los valores recibidos cumplen la fórmula anterior.\n",
        "\n",
        "Si se cumple la ley de Ohm se imprimirá `True` y si no se cumple se imprimirá `False`."
      ],
      "metadata": {
        "id": "xtRulumIjtm0"
      }
    },
    {
      "cell_type": "code",
      "source": [
        "def comprueba_ley_Ohm(i, v, r):\n",
        "    return v - r * i == 0\n",
        "\n",
        "print(comprueba_ley_Ohm(2, 220, 110))  # True\n",
        "print(comprueba_ley_Ohm(4, 380, 100))  # False\n",
        "print(comprueba_ley_Ohm(3, 390, 130))  # True"
      ],
      "metadata": {
        "colab": {
          "base_uri": "https://localhost:8080/"
        },
        "id": "RlfXq9al5uoB",
        "outputId": "f8eb4967-421f-4f9c-8620-519b76969445"
      },
      "execution_count": null,
      "outputs": [
        {
          "output_type": "stream",
          "name": "stdout",
          "text": [
            "True\n",
            "False\n",
            "True\n"
          ]
        }
      ]
    },
    {
      "cell_type": "markdown",
      "source": [
        "## arrastrar_reto044_p1\n",
        "Quiero crear una función que genere una lista de números aleatorios enteros entre -9 y 9.\n",
        "\n",
        "La longitud de la lista variará de forma aleatoria entre 2 y 10 números.\n",
        "\n",
        "Quiero crear otra función que reciba esa lista y calcule el máximo de los números que contiene.\n",
        "\n",
        "Al final se imprime la lista de números aleatorios y se muestra su máximo."
      ],
      "metadata": {
        "id": "WgPnZHi3jtv_"
      }
    },
    {
      "cell_type": "code",
      "source": [
        "import random\n",
        "\n",
        "def genera_lista():\n",
        "    longitud = random.randint(2, 10)\n",
        "    result = []  # inicializamos una lista vacía\n",
        "    for i in range(longitud):\n",
        "        result.append(random.randint(-9, 9))\n",
        "    return result\n",
        "\n",
        "def maximo_lista(lista):\n",
        "    return max(lista)\n",
        "\n",
        "list_rnd = genera_lista()\n",
        "\n",
        "print(f\"Generamos la lista {list_rnd} y su máximo es {maximo_lista(list_rnd)}.\")"
      ],
      "metadata": {
        "colab": {
          "base_uri": "https://localhost:8080/"
        },
        "id": "uE19oySW5vLt",
        "outputId": "89d72d49-595c-49a2-c363-b770b89fefa6"
      },
      "execution_count": null,
      "outputs": [
        {
          "output_type": "stream",
          "name": "stdout",
          "text": [
            "Generamos la lista [-7, -6, 4, 3, 4, -6, 8, 3, -1, 1] y su máximo es 8.\n"
          ]
        }
      ]
    },
    {
      "cell_type": "markdown",
      "source": [
        "## arrastrar_reto044_p2\n",
        "Quiero generar una lista de 3 números aleatorios, sin repetición, elegidos entre los números `[1,2,3,4,5,6,7,8,9]`.\n",
        "\n",
        "Se imprime la lista con los tres valores aleatorios y se imprime su máximo.\n",
        "\n",
        "Por ejemplo, estos serían resultados obtenidos al ejecutar este código cuatro veces.\n",
        "\n",
        "1. `[8, 7, 4] máximo: 8`\n",
        "2. `[4, 3, 6] máximo: 6`\n",
        "3. `[6, 8, 1] máximo: 8`\n",
        "4. `[9, 3, 6] máximo: 9`"
      ],
      "metadata": {
        "id": "Ol_3m8qRjt5T"
      }
    },
    {
      "cell_type": "code",
      "source": [
        "import random\n",
        "\n",
        "def genera_sin_repeticion(k, inicio, fin):\n",
        "    # Crea una lista que contiene los números enteros desde 'inicio' hasta 'fin' (inclusive).\n",
        "    secuencia = list(range(inicio, fin+1))\n",
        "\n",
        "    # Selecciona 'k' números aleatorios de la lista 'secuencia' sin repetición.\n",
        "    lista_aleatorios = random.sample(secuencia, k)\n",
        "\n",
        "    # Devuelve una cadena formateada que muestra la lista de números aleatorios generados\n",
        "    # y su valor máximo.\n",
        "    return f\"{lista_aleatorios} máximo: {max(lista_aleatorios)}\"\n",
        "\n",
        "# Llama a la función 'genera_sin_repeticion()' con los parámetros 'k=3', 'inicio=1' y 'fin=9',\n",
        "# e imprime el resultado.\n",
        "print(genera_sin_repeticion(3, 1, 9))"
      ],
      "metadata": {
        "colab": {
          "base_uri": "https://localhost:8080/"
        },
        "id": "NXoyVUZS5wWB",
        "outputId": "4241069a-e190-454f-88f3-0da98c9bca82"
      },
      "execution_count": null,
      "outputs": [
        {
          "output_type": "stream",
          "name": "stdout",
          "text": [
            "[8, 6, 4] máximo: 8\n"
          ]
        }
      ]
    },
    {
      "cell_type": "markdown",
      "source": [
        "## arrastrar_reto045_p1\n",
        "Dada una lista de ciudades deseamos crear una función que retorne una lista de Verdaderos y Falsos.\n",
        "\n",
        "Si el nombre de la ciudad es de tres caracteres retornará `True` y en caso contrario retornará `False`.\n",
        "\n"
      ],
      "metadata": {
        "id": "9epq0ONwjuCD"
      }
    },
    {
      "cell_type": "code",
      "source": [
        "ciudades = [\"Roma\", \"Londres\", \"París\", \"Madrid\", \"Quito\", \"Rio\"]\n",
        "\n",
        "def de_tres(ciudades):\n",
        "    array = []\n",
        "    for ciudad in ciudades:\n",
        "        array.append(len(ciudad) == 3)\n",
        "    return array\n",
        "\n",
        "print(de_tres(ciudades))    # [False, False, False, False, False, True]"
      ],
      "metadata": {
        "colab": {
          "base_uri": "https://localhost:8080/"
        },
        "id": "1pskd0v55v0N",
        "outputId": "e54e40e9-69c2-4bdf-fc23-e37f0a417b94"
      },
      "execution_count": null,
      "outputs": [
        {
          "output_type": "stream",
          "name": "stdout",
          "text": [
            "[False, False, False, False, False, True]\n"
          ]
        }
      ]
    },
    {
      "cell_type": "markdown",
      "source": [
        "## arrastrar_reto045_p2\n",
        "Para que se conozcan dos grupos de personas que han coincidido en un campamento, de dos colegios diferentes, se las empareja por el número de caracetes que tenga su nombre.\n",
        "\n",
        "1. `colegio_a = ['Ana', 'Jose', 'María', 'Julia', 'Helena']`\n",
        "2. `colegio_b = [\"Pol\", \"Victor\", \"Sonia\", \"Marcelo\", \"Pablo\"]`\n",
        "\n",
        "La función retorna una lista de posibles parejas. En cada pareja ambos alumnos tienen el mismo número de caracteres en su nombre.\n",
        "\n",
        "Podrían existir otros emparejamientos diferentes pero la función nos da uno concreto que cumple con el criterio exigido.\n",
        "\n",
        "La lista que devuelve la función es:\n",
        "\n",
        "`[('Ana', 'Pol'), ('María', 'Sonia'), ('Helena', 'Victor')]`"
      ],
      "metadata": {
        "id": "Aj3SitI7juKp"
      }
    },
    {
      "cell_type": "code",
      "source": [
        "def emparejar_estudiantes(colegio_a, colegio_b):\n",
        "    parejas = []    # inicializamos la lista de parejas\n",
        "    for estudiante_a in colegio_a:\n",
        "        for estudiante_b in colegio_b:\n",
        "            if len(estudiante_a) == len(estudiante_b):\n",
        "                parejas.append((estudiante_a, estudiante_b))  # añadimos la pareja a la lista\n",
        "                colegio_a.remove(estudiante_a)  # eliminamos el estudiante de su colegio\n",
        "                colegio_b.remove(estudiante_b)\n",
        "                break  # Sale del bucle interno después de encontrar una pareja\n",
        "    return parejas\n",
        "\n",
        "colegio_a = ['Ana', 'Jose', 'María', 'Julia', 'Helena']\n",
        "colegio_b = [\"Pol\", \"Victor\", \"Sonia\", \"Marcelo\", \"Pablo\"]\n",
        "print(emparejar_estudiantes(colegio_a, colegio_b))"
      ],
      "metadata": {
        "colab": {
          "base_uri": "https://localhost:8080/"
        },
        "id": "XMz-2ho56l_N",
        "outputId": "328e2627-d3e5-4d1f-f4a9-36289a8ec776"
      },
      "execution_count": null,
      "outputs": [
        {
          "output_type": "stream",
          "name": "stdout",
          "text": [
            "[('Ana', 'Pol'), ('María', 'Sonia'), ('Helena', 'Victor')]\n"
          ]
        }
      ]
    },
    {
      "cell_type": "markdown",
      "source": [
        "## arrastrar_reto046_p1\n",
        "Creamos una función que genera un número aleatorio entero entre 100.000 y 200.000.\n",
        "\n",
        "Si hay, al menos, un 3, ganas; en caso contrario, pierdes.\n",
        "\n",
        "La función retorna el número aleatorio generado, después un espacio y finalmente se indica si ganas o pierdes.\n",
        "\n",
        "Después de la función se ha creado un bucle `for` para invocar cinco veces a la función y así ver cinco casos aleatorios.\n",
        "\n",
        "\n"
      ],
      "metadata": {
        "id": "UmXhTloF6kVa"
      }
    },
    {
      "cell_type": "code",
      "source": [
        "from random import randint\n",
        "\n",
        "def gana_el_tres():\n",
        "    r = randint(100_000, 200_000)  # Llamamos r al número aleatorio generado\n",
        "    return f\"{r} {'ganas' if '3' in str(r) else 'pierdes'}\"\n",
        "\n",
        "for i in range(5):\n",
        "    print(gana_el_tres())"
      ],
      "metadata": {
        "id": "kdTJ3DG76kVi",
        "colab": {
          "base_uri": "https://localhost:8080/"
        },
        "outputId": "5cee6134-a45e-473d-fc21-d33a7ef82fce"
      },
      "execution_count": null,
      "outputs": [
        {
          "output_type": "stream",
          "name": "stdout",
          "text": [
            "117929 pierdes\n",
            "153761 ganas\n",
            "174144 pierdes\n",
            "110034 ganas\n",
            "154428 pierdes\n"
          ]
        }
      ]
    },
    {
      "cell_type": "markdown",
      "source": [
        "## arrastrar_reto046_p2\n",
        "Creamos una función que genera un número aleatorio entero entre 100.000 y 200.000.\n",
        "\n",
        "Si hay, al menos, un 3, ganas; en caso contrario, pierdes.\n",
        "\n",
        "La función retorna el número aleatorio generado, después un espacio y finalmente se indica si ganas o pierdes.\n",
        "\n",
        "Después de la función se ha creado un bucle `for` para invocar cinco veces a la función y así ver cinco casos aleatorios.\n"
      ],
      "metadata": {
        "id": "SgH_8tfe6kVi"
      }
    },
    {
      "cell_type": "code",
      "source": [
        "from random import randint\n",
        "\n",
        "def gana_el_tres():\n",
        "    r = randint(100000, 200000)  # Llamamos r al número aleatorio generado\n",
        "    if '3' in str(r):\n",
        "        return f\"{r} ganas\"\n",
        "    else:\n",
        "        return f\"{r} pierdes\"\n",
        "\n",
        "for i in range(5):\n",
        "    print(gana_el_tres())"
      ],
      "metadata": {
        "id": "2e5fL-yC6kVi",
        "colab": {
          "base_uri": "https://localhost:8080/"
        },
        "outputId": "abded5f3-b0d2-4ab3-a4d7-69d185c33e19"
      },
      "execution_count": null,
      "outputs": [
        {
          "output_type": "stream",
          "name": "stdout",
          "text": [
            "138903 ganas\n",
            "112349 ganas\n",
            "189605 pierdes\n",
            "117287 pierdes\n",
            "142469 pierdes\n"
          ]
        }
      ]
    },
    {
      "cell_type": "markdown",
      "source": [
        "## arrastrar_reto047_p1\n",
        "La velocidad permitida en autopista no puede ser inferior a 60 Km/h, ni superior a 120 Km/h.\n",
        "\n",
        "Si la velocidad está dentro de estos límites se considera correcta y en caso contrario se puede obtener una infracción.\n",
        "\n",
        "Tenemos una función que determina si la velocidad es correcta o se puede imponer una infracción.\n",
        "\n",
        "Nos dan tres casos de uso con velocidades de 50, 110 y 150 Km/h.\n",
        "\n"
      ],
      "metadata": {
        "id": "koJ5RiY76kVi"
      }
    },
    {
      "cell_type": "code",
      "source": [
        "def marcha_adecuada(velocidad):\n",
        "    return \"Velocidad correcta\" if 60 <= velocidad <= 120 else \"Infracción\"\n",
        "\n",
        "print(marcha_adecuada(50))      # Infracción\n",
        "print(marcha_adecuada(110))     # Velocidad correcta\n",
        "print(marcha_adecuada(150))     # Infracción"
      ],
      "metadata": {
        "id": "jTXPhyN96kVi",
        "colab": {
          "base_uri": "https://localhost:8080/"
        },
        "outputId": "08e1f50e-b45f-4ff7-d723-a231583fd2ff"
      },
      "execution_count": null,
      "outputs": [
        {
          "output_type": "stream",
          "name": "stdout",
          "text": [
            "Infracción\n",
            "Velocidad correcta\n",
            "Infracción\n"
          ]
        }
      ]
    },
    {
      "cell_type": "markdown",
      "source": [
        "## arrastrar_reto047_p2\n",
        "Se ha organizado un campamento para jóvenes entre 15 y 18 años, ambos incluidos.\n",
        "\n",
        "Disponemos de una función que utiliza un operador ternario para determinar si una persona puede asistir al campamento, según su edad."
      ],
      "metadata": {
        "id": "pHNNzxEr6kVi"
      }
    },
    {
      "cell_type": "code",
      "source": [
        "def verificar_edad(edad, nombre):\n",
        "    resultado = \"si puede ir\" if 15 <= edad <= 18 else \"no puede ir\"\n",
        "    return f\"{nombre}, con {edad} {resultado} al campamento.\"\n",
        "\n",
        "# Casos de uso\n",
        "print(verificar_edad(15, \"Ana\"))   # Ana, con 15 si puede ir al campamento.\n",
        "print(verificar_edad(17, \"Eva\"))   # Eva, con 17 si puede ir al campamento.\n",
        "print(verificar_edad(18, \"Luis\"))  # Luis, con 18 si puede ir al campamento.\n",
        "print(verificar_edad(14, \"Mario\")) # Mario, con 14 no puede ir al campamento.\n",
        "print(verificar_edad(19, \"Sara\"))  # Sara, con 19 no puede ir al campamento.\n"
      ],
      "metadata": {
        "id": "QSIKMEkQ6kVi",
        "colab": {
          "base_uri": "https://localhost:8080/"
        },
        "outputId": "4cb3cd55-d538-45a5-cee4-2ec8e0a66e09"
      },
      "execution_count": null,
      "outputs": [
        {
          "output_type": "stream",
          "name": "stdout",
          "text": [
            "Ana, con 15 si puede ir al campamento.\n",
            "Eva, con 17 si puede ir al campamento.\n",
            "Luis, con 18 si puede ir al campamento.\n",
            "Mario, con 14 no puede ir al campamento.\n",
            "Sara, con 19 no puede ir al campamento.\n"
          ]
        }
      ]
    },
    {
      "cell_type": "markdown",
      "source": [
        "## arrastrar_reto048_p1\n",
        "Queremos detectar si una cadena está vacía.\n",
        "\n",
        "Hemos creado varias versiones de una función que imprime `True` si la cadena está vacía y `False` en caso contrario."
      ],
      "metadata": {
        "id": "S_-xA8JU6kVi"
      }
    },
    {
      "cell_type": "code",
      "source": [
        "def esta_vacia(cadena):\n",
        "    if cadena:\n",
        "        return False\n",
        "    return True\n",
        "\n",
        "def esta_vacia(cadena):\n",
        "    return cadena == \"\"\n",
        "\n",
        "def esta_vacia(cadena):\n",
        "    return not cadena\n",
        "\n",
        "print(esta_vacia(\"\"))       # True\n",
        "print(esta_vacia(\" \"))      # False\n",
        "print(esta_vacia(\"a\"))      # False"
      ],
      "metadata": {
        "id": "3eh8CPj56kVi",
        "colab": {
          "base_uri": "https://localhost:8080/"
        },
        "outputId": "9bbba8a2-14c0-4d07-8ead-5918e1578292"
      },
      "execution_count": null,
      "outputs": [
        {
          "output_type": "stream",
          "name": "stdout",
          "text": [
            "True\n",
            "False\n",
            "False\n"
          ]
        }
      ]
    },
    {
      "cell_type": "markdown",
      "source": [
        "## arrastrar_reto048_p2\n",
        "Queremos detectar si una lista está vacía.\n",
        "\n",
        "Hemos creado varias versiones de una función que imprime `True` si la lista está vacía y `False` en caso contrario."
      ],
      "metadata": {
        "id": "zjQ6YuDt6kVj"
      }
    },
    {
      "cell_type": "code",
      "source": [
        "def esta_vacia(lista):\n",
        "    if lista:\n",
        "        return False\n",
        "    return True\n",
        "\n",
        "def esta_vacia(lista):\n",
        "    return lista == []\n",
        "\n",
        "def esta_vacia(lista):\n",
        "    return not lista\n",
        "\n",
        "print(esta_vacia([]))    # True\n",
        "print(esta_vacia([\"a\"])) # False\n",
        "print(esta_vacia([5]))   # False"
      ],
      "metadata": {
        "id": "qkq5g6XI6kVj",
        "colab": {
          "base_uri": "https://localhost:8080/"
        },
        "outputId": "0394184e-2039-43d8-dacf-b2de9bc7809c"
      },
      "execution_count": null,
      "outputs": [
        {
          "output_type": "stream",
          "name": "stdout",
          "text": [
            "True\n",
            "False\n",
            "False\n"
          ]
        }
      ]
    },
    {
      "cell_type": "markdown",
      "source": [
        "## arrastrar_reto049_p1\n",
        "Queremos una función que tome un número como parámetro y lo devuelva como negativo.\n",
        "\n",
        "1. Si el número es positivo se convertirá en negativo.\n",
        "2. Si el número previamente ya es negativo permanecerán sin alteración.\n",
        "3. Si el número es cero la función devolverá cero.\n",
        "\n",
        "Hemos creado varias versiones de una función que logran este objetivo y hemos añadido al final unos casos de uso."
      ],
      "metadata": {
        "id": "hO66GCK36kVj"
      }
    },
    {
      "cell_type": "code",
      "source": [
        "def devuelve_negativo(numero):\n",
        "    if numero > 0:\n",
        "        return -numero\n",
        "    return numero\n",
        "\n",
        "def devuelve_negativo(numero):\n",
        "    return -numero if numero > 0 else +numero\n",
        "\n",
        "def devuelve_negativo(x):\n",
        "    return -abs(x)\n",
        "\n",
        "print(devuelve_negativo(4))     # -4\n",
        "print(devuelve_negativo(15))    # -15\n",
        "print(devuelve_negativo(-4))    # -4\n",
        "print(devuelve_negativo(0))     # 0"
      ],
      "metadata": {
        "id": "rYLI0Y3W6kVj",
        "colab": {
          "base_uri": "https://localhost:8080/"
        },
        "outputId": "f600e473-acd3-4317-f877-2a79e5fc115e"
      },
      "execution_count": null,
      "outputs": [
        {
          "output_type": "stream",
          "name": "stdout",
          "text": [
            "-4\n",
            "-15\n",
            "-4\n",
            "0\n"
          ]
        }
      ]
    },
    {
      "cell_type": "markdown",
      "source": [
        "## arrastrar_reto049_p2\n",
        "Tenemos una función que recibe como parámetro una letra.\n",
        "\n",
        "1. Si la letra es minúscula, retorna la misma letra pero como mayúscula.\n",
        "2. Si la letra es mayúscula, retorna la misma letra pero como minúscula.\n",
        "3. Si recibe otro caracter, retorna \"No es una letra en nuestro rango\".\n",
        "\n",
        "Esta función se basa en el código ASCII que contien un alfabeto en inglés de 26 letras.\n",
        "\n",
        "1. La \"A\" es el caracter 65: `ord(\"A\")` # 65\n",
        "2. La \"Z\" es el caracter 90: `ord(\"Z\")` # 90\n",
        "3. La \"a\" es el caracter 97: `ord(\"a\")` # 97\n",
        "4. La \"z\" es el caracter 122: `ord(\"z\")` # 122"
      ],
      "metadata": {
        "id": "-lkYLMjY6kVj"
      }
    },
    {
      "cell_type": "code",
      "source": [
        "def cambia_mayuscula_minuscula(letra):\n",
        "    if 65 <= ord(letra) <= 90:\n",
        "        return chr(ord(letra) + 32)\n",
        "    elif  97 <= ord(letra) <= 122:\n",
        "        return chr(ord(letra) - 32)\n",
        "    else:\n",
        "        return \"No es una letra en nuestro rango\"\n",
        "\n",
        "print(cambia_mayuscula_minuscula(\"A\"))  # a\n",
        "print(cambia_mayuscula_minuscula(\"Z\"))  # z\n",
        "print(cambia_mayuscula_minuscula(\"a\"))  # A\n",
        "print(cambia_mayuscula_minuscula(\"z\"))  # Z\n",
        "print(cambia_mayuscula_minuscula(\"J\"))  # j"
      ],
      "metadata": {
        "id": "35ClyJ6I6kVj",
        "colab": {
          "base_uri": "https://localhost:8080/"
        },
        "outputId": "a6078ca0-1f51-4046-b541-47a163765c4f"
      },
      "execution_count": null,
      "outputs": [
        {
          "output_type": "stream",
          "name": "stdout",
          "text": [
            "a\n",
            "z\n",
            "A\n",
            "Z\n",
            "j\n"
          ]
        }
      ]
    },
    {
      "cell_type": "markdown",
      "source": [
        "## arrastrar_reto050_p1\n",
        "Queremos una función que reciba una lista de números.\n",
        "\n",
        "Se retorna `True` si la suma de los valores de la lista es menor estricto que 100, de lo contrario, se retorna `False`.\n",
        "\n",
        "Hemos creado varias versiones de esta función que logran este objetivo."
      ],
      "metadata": {
        "id": "K_9oBrW566GB"
      }
    },
    {
      "cell_type": "code",
      "source": [
        "def menos_de_cien(lista):\n",
        "    return sum(lista) < 100\n",
        "\n",
        "def menos_de_cien(lista):\n",
        "    total = 0    # inicializamos la variable\n",
        "    for num in lista:\n",
        "        total += num\n",
        "    return total < 100\n",
        "\n",
        "print(menos_de_cien([5, 57]))           # True\n",
        "print(menos_de_cien([0]))               # True\n",
        "print(menos_de_cien([7, 33, 15]))       # True\n",
        "print(menos_de_cien([77, 30]))          # False\n",
        "print(menos_de_cien([95, 1, 1, 1, 2]))  # False"
      ],
      "metadata": {
        "id": "ma8_JQU366GK",
        "colab": {
          "base_uri": "https://localhost:8080/"
        },
        "outputId": "211a9f4a-93d9-440f-ffbc-76897bb5564d"
      },
      "execution_count": null,
      "outputs": [
        {
          "output_type": "stream",
          "name": "stdout",
          "text": [
            "True\n",
            "True\n",
            "True\n",
            "False\n",
            "False\n"
          ]
        }
      ]
    },
    {
      "cell_type": "markdown",
      "source": [
        "## arrastrar_reto050_p2\n",
        "Generamos una lista con 5 números enteros aleatorios entre -9 y 9.\n",
        "\n",
        "Deseamos saber si suman más los positivos, los negativos o si hay empate.\n",
        "\n",
        "Veamos algunos casos de uso:\n",
        "\n",
        "* `[6, 8, -7, -3, 5]`\n",
        "* Suma positivos: 19\n",
        "* Suma negativos: 10\n",
        "* Ganan los positivos por 9 puntos.\n",
        "\n",
        "\n",
        "* `[7, 2, 0, -4, -7]`\n",
        "* Suma positivos: 9\n",
        "* Suma negativos: 11\n",
        "* Ganan los negativos por 2 puntos.\n",
        "\n",
        "\n",
        "* `[2, 8, 5, -7, -8]`\n",
        "* Se ha producido un empate a 15 puntos."
      ],
      "metadata": {
        "id": "LGbk2BN966GK"
      }
    },
    {
      "cell_type": "code",
      "source": [
        "from random import sample\n",
        "\n",
        "def balanza(lista):\n",
        "    suma_positivos = suma_negativos = 0 # inicializamos las dos variables a cero\n",
        "    for num in lista:\n",
        "        if num > 0:\n",
        "            suma_positivos += num   # acumulamos puntos positivos\n",
        "        elif num < 0:\n",
        "            suma_negativos += num   # acumulamos puntos negativos\n",
        "    if suma_positivos == -suma_negativos:   # si hay empate\n",
        "        return f\"Se ha producido un empate a {suma_positivos} puntos.\"\n",
        "    diferencia = suma_positivos + suma_negativos  # se suma para hayar la diferencia\n",
        "    print(\"Suma positivos:\", suma_positivos)\n",
        "    print(\"Suma negativos:\", -suma_negativos)   # se cambia el signo ya que -*-=+\n",
        "    operador_ternario = \"Ganan los positivos\" if diferencia > 0 else \"Ganan los negativos\"\n",
        "    return f'{operador_ternario} por {abs(diferencia)} puntos.'\n",
        "\n",
        "# Casos de uso\n",
        "for i in range(3):\n",
        "    lista = sample(range(-9,9), 5)\n",
        "    print(lista)\n",
        "    print(balanza(lista))\n",
        "    print()"
      ],
      "metadata": {
        "id": "GyrbmXkp66GK",
        "colab": {
          "base_uri": "https://localhost:8080/"
        },
        "outputId": "705a6a0f-b255-44f8-8166-26aba9e70896"
      },
      "execution_count": null,
      "outputs": [
        {
          "output_type": "stream",
          "name": "stdout",
          "text": [
            "[3, 4, 0, 2, -9]\n",
            "Se ha producido un empate a 9 puntos.\n",
            "\n",
            "[-7, 4, -1, 2, -4]\n",
            "Suma positivos: 6\n",
            "Suma negativos: 12\n",
            "Ganan los negativos por 6 puntos.\n",
            "\n",
            "[0, -6, 3, -5, -3]\n",
            "Suma positivos: 3\n",
            "Suma negativos: 14\n",
            "Ganan los negativos por 11 puntos.\n",
            "\n"
          ]
        }
      ]
    },
    {
      "cell_type": "markdown",
      "source": [
        "## arrastrar_reto051_p1\n",
        "Queremos concatenar el nombre de una persona con su edad formando una frase.\n",
        "\n",
        "Por ejemplo, si el nombre es Ana y la edad es 16 queremos formar la frase:\n",
        "\n",
        "Ana tiene 16 años.\n",
        "\n",
        "Tenemos dos funciones que logran el mismo resultado, una de ellas utiliza el sistema \"f\" de formato de cadenas y la otra concatena usando el signo \"+\"."
      ],
      "metadata": {
        "id": "m26gb8Er66GK"
      }
    },
    {
      "cell_type": "code",
      "source": [
        "nombre = \"Ana\"\n",
        "edad = 16\n",
        "\n",
        "def concatena(nombre, edad):\n",
        "    return f\"{nombre} tiene {edad} años.\"\n",
        "\n",
        "def concatena(nombre, edad):\n",
        "    return nombre + \" tiene \" + str(edad) + \" años.\"\n",
        "\n",
        "print(concatena(nombre, edad))"
      ],
      "metadata": {
        "id": "EeHr3zle66GK",
        "colab": {
          "base_uri": "https://localhost:8080/"
        },
        "outputId": "a3575c32-0fb3-4a70-f99c-65c1e72cb63a"
      },
      "execution_count": null,
      "outputs": [
        {
          "output_type": "stream",
          "name": "stdout",
          "text": [
            "Ana tiene 16 años.\n"
          ]
        }
      ]
    },
    {
      "cell_type": "markdown",
      "source": [
        "## arrastrar_reto051_p2\n",
        "Queremos concatenar el nombre de una persona con el importe de sus ingresos mensuales en euros.\n",
        "\n",
        "Por ejemplo, si el nombre es Ana y los ingresos son 900 €, se imprimirá:\n",
        "\n",
        "Ana percibe 900 € al mes.\n",
        "\n",
        "Tenemos dos funciones que logran el mismo resultado, una de ellas utiliza el sistema \"f\" de formato y la otra concatena usando el signo \"+\"."
      ],
      "metadata": {
        "id": "vz6UXhhj66GK"
      }
    },
    {
      "cell_type": "code",
      "source": [
        "nombre = \"Ana\"\n",
        "ingresos = 900\n",
        "\n",
        "def concatena(nombre, ingresos):\n",
        "    return f\"{nombre} percibe {ingresos} € al mes.\"\n",
        "\n",
        "def concatena(nombre, ingresos):\n",
        "    return nombre + \" percibe \" + str(ingresos) + \" € al mes.\"\n",
        "\n",
        "print(concatena(nombre, ingresos))"
      ],
      "metadata": {
        "id": "ZrDKxb_S66GK",
        "colab": {
          "base_uri": "https://localhost:8080/"
        },
        "outputId": "9ff4a020-9a0c-4df0-dde7-cd1137c214b8"
      },
      "execution_count": null,
      "outputs": [
        {
          "output_type": "stream",
          "name": "stdout",
          "text": [
            "Ana percibe 900 € al mes.\n"
          ]
        }
      ]
    },
    {
      "cell_type": "markdown",
      "source": [
        "## arrastrar_reto052_p1\n",
        "Queremos calcular el resultado de realizar expresiones aritméticas sencillas usando un único comando.\n",
        "\n",
        "La expresión matemática viene expresada entre comillas ya que se trata de una cadena.\n",
        "\n",
        "Por ejemplo, la expresión \"1+2\" dará como resultado el número 3."
      ],
      "metadata": {
        "id": "D2UWZh1966GK"
      }
    },
    {
      "cell_type": "code",
      "source": [
        "print(eval(\"23+4\"))         # 27\n",
        "print(eval(\"45-15\"))        # 30\n",
        "print(eval(\"13+2-5*2\"))     # 5\n",
        "print(eval(\"49/7*2-3\"))     # 11.0"
      ],
      "metadata": {
        "id": "mihe7WOs66GL",
        "colab": {
          "base_uri": "https://localhost:8080/"
        },
        "outputId": "65c22a9b-baff-457a-8595-f18fb0f200ab"
      },
      "execution_count": null,
      "outputs": [
        {
          "output_type": "stream",
          "name": "stdout",
          "text": [
            "27\n",
            "30\n",
            "5\n",
            "11.0\n"
          ]
        }
      ]
    },
    {
      "cell_type": "markdown",
      "source": [
        "## arrastrar_reto052_p2\n",
        "Queremos calcular el resultado de realizar expresiones aritméticas sencillas usando un único comando.\n",
        "\n",
        "La expresión matemática viene expresada entre comillas ya que se trata de una cadena.\n",
        "\n",
        "Por ejemplo, la expresión \"1+2\" dará como resultado el número 3."
      ],
      "metadata": {
        "id": "ZMb1gW2f66GL"
      }
    },
    {
      "cell_type": "code",
      "source": [
        "print(1 + eval(\"23+4\"))           # 28\n",
        "print(12 + eval(\"45-15\"))         # 42\n",
        "print(eval(\"13+2-5*2\") - 5)       # 0\n",
        "print(int(eval(\"49/7*2-3\")))      # 11"
      ],
      "metadata": {
        "id": "mi-HRQa-66GL",
        "colab": {
          "base_uri": "https://localhost:8080/"
        },
        "outputId": "467c2c27-b123-4552-9faf-187df4abbd61"
      },
      "execution_count": null,
      "outputs": [
        {
          "output_type": "stream",
          "name": "stdout",
          "text": [
            "28\n",
            "42\n",
            "0\n",
            "11\n"
          ]
        }
      ]
    },
    {
      "cell_type": "markdown",
      "source": [
        "## arrastrar_reto053_p1\n",
        "Queremos una función que, dada una cadena, retorne la concatenación del primer y último carácter de dicha cadena."
      ],
      "metadata": {
        "id": "W1l7xpJ366GL"
      }
    },
    {
      "cell_type": "code",
      "source": [
        "def primero_ultimo(cadena):\n",
        "    indice_inicio = 0\n",
        "    indice_final = -1\n",
        "    return cadena[indice_inicio] + cadena[indice_final]\n",
        "\n",
        "print(primero_ultimo(\"Hola\"))           # Imprime: Ha\n",
        "print(primero_ultimo(\"Hugo Martínez\"))  # Imprime: Hz\n",
        "print(primero_ultimo(\"100%\"))           # Imprime: 1%"
      ],
      "metadata": {
        "id": "L0ey-u9w66GL",
        "colab": {
          "base_uri": "https://localhost:8080/"
        },
        "outputId": "25eb75a9-c84a-423e-cfd1-7e6244a2d516"
      },
      "execution_count": null,
      "outputs": [
        {
          "output_type": "stream",
          "name": "stdout",
          "text": [
            "Ha\n",
            "Hz\n",
            "1%\n"
          ]
        }
      ]
    },
    {
      "cell_type": "markdown",
      "source": [
        "## arrastrar_reto053_p2\n",
        "Queremos una función que tome una cadena y devuelva los dos primeros caracteres concatenados con los dos últimos.\n",
        "\n",
        "Todas las cadenas tendrán al menos cuatro caracteres."
      ],
      "metadata": {
        "id": "0A8PAPZB66GL"
      }
    },
    {
      "cell_type": "code",
      "source": [
        "def dos_primeros_y_dos_ultimos(cadena):\n",
        "    primeros = cadena[:2]\n",
        "    ultimos = cadena[-2:]\n",
        "    return primeros + ultimos\n",
        "\n",
        "print(dos_primeros_y_dos_ultimos(\"Hola\"))           # Hola\n",
        "print(dos_primeros_y_dos_ultimos(\"Diego Martínez\")) # Diez\n",
        "print(dos_primeros_y_dos_ultimos(\"10 € y 25%\"))     # 105%"
      ],
      "metadata": {
        "id": "HVmjQWz866GL",
        "colab": {
          "base_uri": "https://localhost:8080/"
        },
        "outputId": "0a2ff092-265c-4d18-f50e-bcf6c21df7ee"
      },
      "execution_count": null,
      "outputs": [
        {
          "output_type": "stream",
          "name": "stdout",
          "text": [
            "Hola\n",
            "Diez\n",
            "105%\n"
          ]
        }
      ]
    },
    {
      "cell_type": "markdown",
      "source": [
        "## arrastrar_reto054_p1\n",
        "Tenemos una lista de nombres y queremos separarlos en dos listas, una con los nombres de longitud par y otra con los nombres de longitud impar.\n",
        "\n",
        "Por ejemplo, dada la lista:\n",
        "\n",
        "`nombres = [\"Ana\", \"Jose\", \"Pablo\", \"Isabel\", \"Eva\", \"Luis\"]`\n",
        "\n",
        "Quedará separada en dos listas:\n",
        "* Nombres pares: `['Jose', 'Isabel', 'Luis']`\n",
        "* Nombres impares: `['Ana', 'Pablo', 'Eva']`"
      ],
      "metadata": {
        "id": "TisJCK7U66GL"
      }
    },
    {
      "cell_type": "code",
      "source": [
        "nombres = [\"Ana\", \"Jose\", \"Pablo\", \"Isabel\", \"Eva\", \"Luis\"]\n",
        "\n",
        "def separa_par_impar(nombres):\n",
        "    pares = []      # inicializamos la lista de los pares\n",
        "    impares = []    # inicializamos la lista de los impares\n",
        "    for nombre in nombres:\n",
        "        if len(nombre) % 2 == 0:\n",
        "            pares.append(nombre)\n",
        "        else:\n",
        "            impares.append(nombre)\n",
        "    return pares, impares\n",
        "\n",
        "par, imp = separa_par_impar(nombres)\n",
        "print(f\"Nombres pares:   {par}\")\n",
        "print(f\"Nombres impares: {imp}\")"
      ],
      "metadata": {
        "id": "HRAvDP3-66GL",
        "colab": {
          "base_uri": "https://localhost:8080/"
        },
        "outputId": "809faca4-56c4-4831-8421-c56a4c05b96f"
      },
      "execution_count": null,
      "outputs": [
        {
          "output_type": "stream",
          "name": "stdout",
          "text": [
            "Nombres pares:   ['Jose', 'Isabel', 'Luis']\n",
            "Nombres impares: ['Ana', 'Pablo', 'Eva']\n"
          ]
        }
      ]
    },
    {
      "cell_type": "markdown",
      "source": [
        "## arrastrar_reto054_p2\n",
        "Tenemos una lista de nombres, algunos con un número par de caracteres y otros con un número impar.\n",
        "\n",
        "Deseamos eliminar de la lista los nombres de longitud impar e imprimir la lista resultante, en la que todos sus nombres serán de longitud par.\n",
        "\n",
        "Por ejemplo, dada la lista:\n",
        "\n",
        "`nombres = [\"Ana\", \"Jose\", \"Pablo\", \"Isabel\", \"Eva\", \"Luis\"]`\n",
        "\n",
        "Al final, se imprimirá la lista con los nombres de longitud par:\n",
        "\n",
        "`['Jose', 'Isabel', 'Luis']`"
      ],
      "metadata": {
        "id": "evQfC6po66GL"
      }
    },
    {
      "cell_type": "code",
      "source": [
        "nombres = [\"Ana\", \"Jose\", \"Pablo\", \"Isabel\", \"Eva\", \"Luis\"]\n",
        "\n",
        "# Eliminar los nombres de longitud impar con remove\n",
        "def solo_pares(lista):\n",
        "    for nombre in lista[:]:  # Iteramos sobre una copia de la lista original\n",
        "        if len(nombre) % 2 != 0:  # Verificamos si la longitud es impar\n",
        "            lista.remove(nombre)  # Eliminamos solo de la copia\n",
        "    return lista\n",
        "\n",
        "print(solo_pares(nombres))  # ['Jose', 'Isabel', 'Luis']"
      ],
      "metadata": {
        "id": "xhoIVfDp66GL",
        "colab": {
          "base_uri": "https://localhost:8080/"
        },
        "outputId": "ed4c1923-c64e-4266-a435-e1d67250a990"
      },
      "execution_count": null,
      "outputs": [
        {
          "output_type": "stream",
          "name": "stdout",
          "text": [
            "['Jose', 'Isabel', 'Luis']\n"
          ]
        }
      ]
    },
    {
      "cell_type": "markdown",
      "source": [
        "## arrastrar_reto055_p1\n",
        "Tenemos una función que recibe tres datos como parámetros y los retorna como los elementos de una lista.\n",
        "\n",
        "Por ejemplo, la función se invoca con tres argumentos que son 1, 2 y 3. La función los recibe y los retorna como la lista [1, 2, 3]."
      ],
      "metadata": {
        "id": "fwQ73zho66GL"
      }
    },
    {
      "cell_type": "code",
      "source": [
        "def to_array(x, y, z):\n",
        "    #result = list(x, y, z)\n",
        "    result = [x, y, z]\n",
        "    #result = [x + y + z]\n",
        "    return result\n",
        "\n",
        "print(to_array(1, 2, 3))    # [1, 2, 3]"
      ],
      "metadata": {
        "id": "HCf_5F_B66GL",
        "colab": {
          "base_uri": "https://localhost:8080/"
        },
        "outputId": "6ffc4378-1506-4b15-9d39-eb75cf69fac1"
      },
      "execution_count": null,
      "outputs": [
        {
          "output_type": "stream",
          "name": "stdout",
          "text": [
            "[1, 2, 3]\n"
          ]
        }
      ]
    },
    {
      "cell_type": "markdown",
      "source": [
        "## arrastrar_reto055_p2\n",
        "Generamos tres números aleatorios enteros que pueden variar entre 1 y 9.\n",
        "\n",
        "Invocamos una función enviando estos tres números como argumentos.\n",
        "\n",
        "La función los recoge como parámetros, los convierte en una lista y finalmente se retorna la lista ordenada de forma creciente."
      ],
      "metadata": {
        "id": "4ZHeimf466GL"
      }
    },
    {
      "cell_type": "code",
      "source": [
        "from random import randint\n",
        "\n",
        "def array_ordenado(x, y, z):\n",
        "    lista = [x, y, z]     # Se crea una lista con los tres parámetros\n",
        "    return sorted(lista)  # Se ordena la lista en forma creciente\n",
        "\n",
        "# Generación de tres números aleatorios\n",
        "x = randint(1, 9)\n",
        "y = randint(1, 9)\n",
        "z = randint(1, 9)\n",
        "\n",
        "# Invocación de la función\n",
        "print(array_ordenado(x, y, z))"
      ],
      "metadata": {
        "id": "4DLnmmfp66GL",
        "colab": {
          "base_uri": "https://localhost:8080/"
        },
        "outputId": "fbe84828-7957-4472-9cc2-fc5ed9dcc197"
      },
      "execution_count": null,
      "outputs": [
        {
          "output_type": "stream",
          "name": "stdout",
          "text": [
            "[3, 6, 7]\n"
          ]
        }
      ]
    },
    {
      "cell_type": "markdown",
      "source": [
        "## arrastrar_reto056_p1\n",
        "Tenemos una función que repite cuatro veces los tres últimos caracteres de una cadena.\n",
        "\n",
        "Si la cadena tiene una longitud inferior a tres caracteres la función repite cuatro veces la cadena completa."
      ],
      "metadata": {
        "id": "lIzvA4t066GL"
      }
    },
    {
      "cell_type": "code",
      "source": [
        "def final_repetido(cadena):\n",
        "    return cadena[-3:] * 4\n",
        "\n",
        "print(final_repetido(\"niEva\"))  # EvaEvaEvaEva\n",
        "print(final_repetido(\"Hi\"))     # HiHiHiHi"
      ],
      "metadata": {
        "id": "nG7uysCb66GL",
        "colab": {
          "base_uri": "https://localhost:8080/"
        },
        "outputId": "d99d1408-2910-4afe-f53e-ec900a67f473"
      },
      "execution_count": null,
      "outputs": [
        {
          "output_type": "stream",
          "name": "stdout",
          "text": [
            "EvaEvaEvaEva\n",
            "HiHiHiHi\n"
          ]
        }
      ]
    },
    {
      "cell_type": "markdown",
      "source": [
        "## arrastrar_reto056_p2\n",
        "Tenemos una función que repite cuatro veces los tres últimos caracteres de una cadena.\n",
        "\n",
        "Si la cadena tiene una longitud inferior a tres caracteres la función repite cuatro veces la cadena completa."
      ],
      "metadata": {
        "id": "F7EL43XQ66GL"
      }
    },
    {
      "cell_type": "code",
      "source": [
        "def final_triple(cadena):\n",
        "    return cadena[-3:] * 4\n",
        "\n",
        "def final_triple(s):  # el parámetro s representa el string recibido\n",
        "    final = s if len(s) < 3 else s[-3] + s[-2] + s[-1]\n",
        "    return final * 4\n",
        "\n",
        "# Caso de uso 1\n",
        "palabra = \"LaTex\"\n",
        "print(final_triple(palabra))  # TexTexTex\n",
        "\n",
        "# Caso de uso 2\n",
        "saludo = \"Hi\"\n",
        "print(final_triple(saludo))   # HiHiHi"
      ],
      "metadata": {
        "id": "MVSZi5Tt66GL",
        "colab": {
          "base_uri": "https://localhost:8080/"
        },
        "outputId": "a167f6fe-32b4-41c8-a4c4-0266387089a3"
      },
      "execution_count": null,
      "outputs": [
        {
          "output_type": "stream",
          "name": "stdout",
          "text": [
            "TexTexTexTex\n",
            "HiHiHiHi\n"
          ]
        }
      ]
    },
    {
      "cell_type": "markdown",
      "source": [
        "## arrastrar_reto057_p1\n",
        "Disponemos de una función que evalúa si un número pasado como argumento es par o impar."
      ],
      "metadata": {
        "id": "iFafYqtU66GL"
      }
    },
    {
      "cell_type": "code",
      "source": [
        "def es_par_impar(n):\n",
        "    return \"Impar\" if n % 2 else \"Par\"\n",
        "\n",
        "\n",
        "print(es_par_impar(5))      # Impar\n",
        "print(es_par_impar(-3))     # Impar\n",
        "print(es_par_impar(8))      # Par\n",
        "print(es_par_impar(0))      # Par"
      ],
      "metadata": {
        "id": "yHobay2r66GL",
        "colab": {
          "base_uri": "https://localhost:8080/"
        },
        "outputId": "76a8f438-7ef2-4c83-dc5b-06638568c88b"
      },
      "execution_count": null,
      "outputs": [
        {
          "output_type": "stream",
          "name": "stdout",
          "text": [
            "Impar\n",
            "Impar\n",
            "Par\n",
            "Par\n"
          ]
        }
      ]
    },
    {
      "cell_type": "markdown",
      "source": [
        "## arrastrar_reto057_p2\n",
        "Tenemos una función que recibe una lista de 10 enteros aleatorios, sin repetición, entre -9 y 9.\n",
        "\n",
        "La función retorna los mismos números impares pero a los pares les suma 1.\n",
        "\n",
        "Un caso de uso:\n",
        "\n",
        "[5, 6, 0, 1, 2, 9, -6, 8, -2, -4] → [5, 7, 1, 1, 3, 9, -5, 9, -1, -3]"
      ],
      "metadata": {
        "id": "3jRtIKsW66GL"
      }
    },
    {
      "cell_type": "code",
      "source": [
        "from random import sample\n",
        "\n",
        "def transforma(lista):\n",
        "    return [num if num % 2 else (num + 1) for num in lista]\n",
        "\n",
        "\n",
        "arr = sample(range(-9,10), 10)\n",
        "print(f\"{arr} → {transforma(arr)}\")"
      ],
      "metadata": {
        "id": "l0mD2BeS66GM",
        "colab": {
          "base_uri": "https://localhost:8080/"
        },
        "outputId": "785221ca-94ec-42b3-a61d-f3c3ff7914e2"
      },
      "execution_count": null,
      "outputs": [
        {
          "output_type": "stream",
          "name": "stdout",
          "text": [
            "[4, -9, 8, -1, -8, 0, -6, 9, -2, 7] → [5, -9, 9, -1, -7, 1, -5, 9, -1, 7]\n"
          ]
        }
      ]
    },
    {
      "cell_type": "markdown",
      "source": [
        "## arrastrar_reto058_p1\n",
        "Hemos creado varias versiones de una función que toma un número $n$ (entre 1 y 10) y devuelva una cadena de $n$ guiones."
      ],
      "metadata": {
        "id": "VJHqCM8t66GM"
      }
    },
    {
      "cell_type": "code",
      "source": [
        "def n_guiones(n):\n",
        "    return '-' * n\n",
        "\n",
        "def n_guiones(n):\n",
        "    texto = ''\n",
        "    for _ in range(n):\n",
        "        texto += '-'\n",
        "    return texto\n",
        "\n",
        "def n_guiones(n):\n",
        "    return \"\".join(['-' for _ in range(n)])\n",
        "\n",
        "print(n_guiones(1))     # -\n",
        "print(n_guiones(3))     # ---\n",
        "print(n_guiones(10))    # ----------"
      ],
      "metadata": {
        "id": "HsAHdfEj66GM",
        "colab": {
          "base_uri": "https://localhost:8080/"
        },
        "outputId": "c45c0eb0-c793-436c-a1fc-9c8af63f589c"
      },
      "execution_count": null,
      "outputs": [
        {
          "output_type": "stream",
          "name": "stdout",
          "text": [
            "-\n",
            "---\n",
            "----------\n"
          ]
        }
      ]
    },
    {
      "cell_type": "markdown",
      "source": [
        "## arrastrar_reto058_p2\n",
        "La función **crea_frase(palabras)** toma una lista de palabras como esta:\n",
        "\n",
        "`[\"Hola\", \"qué\", \"tal\", \"estás\"]`\n",
        "\n",
        "Mediante el uso de la función `join` convierte esas palabras en una frase donde los elementos se concatenan separados por un espacio. Esta es la frase resultante:\n",
        "\n",
        "\"Hola qué tal estás\"\n",
        "\n",
        "Disponemos de otra función denominada **cadena_de_impares_hasta(n)** que recibe un número entero, por ejemplo $n=15$ y crea una lista de enteros impares hasta $n$.\n",
        "\n",
        "Finalmente, con el uso de `join` retorna esos números en forma de cadena unidos por guiones. Siendo el resultado el strig \"1-3-5-7-9-11-13-15\"."
      ],
      "metadata": {
        "id": "moI1oUK266GM"
      }
    },
    {
      "cell_type": "code",
      "source": [
        "def crea_frase(palabras):\n",
        "    # Con join() unimos las palabras de la lista en una cadena\n",
        "    return \" \".join(palabras)  # separamos las palabras con un espacio\n",
        "\n",
        "palabras = [\"Hola\", \"qué\", \"tal\", \"estás\"]\n",
        "print(crea_frase(palabras))    # Hola qué tal estás\n",
        "\n",
        "\n",
        "def cadena_de_impares_hasta(n):\n",
        "    # Creamos una lista con los números enteros impares de 1 a n\n",
        "    enteros_impares = list(range(1, n+1, 2))\n",
        "\n",
        "    # Con join() convertimos los números en una cadena de texto,\n",
        "    # separados por un guion\n",
        "    cadena_numeros = \"‑\".join(str(num) for num in enteros_impares)\n",
        "\n",
        "    return(cadena_numeros)\n",
        "\n",
        "n = 15\n",
        "print(cadena_de_impares_hasta(n))  # 1-3-5-7-9-11-13-15"
      ],
      "metadata": {
        "id": "T0Ah3sq466GM",
        "colab": {
          "base_uri": "https://localhost:8080/"
        },
        "outputId": "c6adb606-0e1f-4042-d210-6de33426adb5"
      },
      "execution_count": null,
      "outputs": [
        {
          "output_type": "stream",
          "name": "stdout",
          "text": [
            "Hola qué tal estás\n",
            "1‑3‑5‑7‑9‑11‑13‑15\n"
          ]
        }
      ]
    },
    {
      "cell_type": "markdown",
      "source": [
        "## arrastrar_reto059_p1\n",
        "Hemos creado varias versiones de una función que calcula el área de un rectángulo.\n",
        "\n",
        "Si los argumentos no son ambos estrictamente positivos la función retornará `None`."
      ],
      "metadata": {
        "id": "EXklrL4D66GM"
      }
    },
    {
      "cell_type": "code",
      "source": [
        "def superficie(base, altura):\n",
        "    area = base * altura\n",
        "    if base <= 0 or altura <= 0:\n",
        "        return None\n",
        "    else:\n",
        "        return area\n",
        "\n",
        "# usando un operador ternario\n",
        "def superficie(base, altura):\n",
        "    area = base * altura\n",
        "    return area if base > 0 and altura > 0 else None\n",
        "\n",
        "print(superficie(3, 4))       # 12\n",
        "print(superficie(10, 11))     # 110\n",
        "print(superficie(-1, 5))      # None\n",
        "print(superficie(4, -9))      # None\n",
        "print(superficie(-2, -3))     # None\n",
        "print(superficie(0, 2))       # None"
      ],
      "metadata": {
        "id": "V9LSWYdU66GM",
        "colab": {
          "base_uri": "https://localhost:8080/"
        },
        "outputId": "ad6925ef-8ba1-42b8-e06a-482927af49f2"
      },
      "execution_count": null,
      "outputs": [
        {
          "output_type": "stream",
          "name": "stdout",
          "text": [
            "12\n",
            "110\n",
            "None\n",
            "None\n",
            "None\n",
            "None\n"
          ]
        }
      ]
    },
    {
      "cell_type": "markdown",
      "source": [
        "## arrastrar_reto059_p2\n",
        "Hemos creado varias versiones de una función que calcula la facturación en miles de euros por una venta.\n",
        "\n",
        "Si los argumentos no son ambos estrictamente positivos la función retornará `None`."
      ],
      "metadata": {
        "id": "_1Y_Udpo66GM"
      }
    },
    {
      "cell_type": "code",
      "source": [
        "def total_factura(precio, cantidad):\n",
        "    if precio <= 0 or cantidad <= 0:\n",
        "        return None\n",
        "    else:\n",
        "        return precio * cantidad\n",
        "\n",
        "# usando un operador ternario\n",
        "def total_factura(p, q):  # p es el precio, q es la cantidad\n",
        "    return p * q if p > 0 and q > 0 else None\n",
        "\n",
        "\n",
        "precio_euros = 3.75\n",
        "cantidad_unidades = 1_000\n",
        "importe = total_factura(precio_euros, cantidad_unidades)\n",
        "print(f\"Importe facturado {importe} €\")  # Importe facturado 3750.0 €\n",
        "\n",
        "print(total_factura(0, 1000))  # None\n",
        "print(total_factura(10, 0))    # None"
      ],
      "metadata": {
        "id": "TMGGxZOo66GM",
        "colab": {
          "base_uri": "https://localhost:8080/"
        },
        "outputId": "1430f439-28f4-46cf-e483-ada313d3997e"
      },
      "execution_count": null,
      "outputs": [
        {
          "output_type": "stream",
          "name": "stdout",
          "text": [
            "Importe facturado 3750.0 €\n",
            "None\n",
            "None\n"
          ]
        }
      ]
    },
    {
      "cell_type": "markdown",
      "source": [
        "## arrastrar_reto060_p1\n",
        "Hemos creado varias versiones de una función para verificar si una lista contiene el número dado."
      ],
      "metadata": {
        "id": "2MRwIwZz7xvz"
      }
    },
    {
      "cell_type": "code",
      "source": [
        "def check(lista, num):\n",
        "    return num in lista\n",
        "\n",
        "def check(lista, numero):\n",
        "    for elemento in lista:\n",
        "        if elemento == numero:\n",
        "            return True\n",
        "    return False\n",
        "\n",
        "def check(lista, num):\n",
        "    return any(x == num for x in lista)\n",
        "\n",
        "print(check([1, 2, 3, 4, 5], 3))    # True\n",
        "print(check([5, 5, 5, 6], 5))       # True\n",
        "print(check([1, 1, 2, 1, 1], 3))    # False\n",
        "print(check([], 5))                 # False"
      ],
      "metadata": {
        "id": "nuWl0UBx7xv7",
        "colab": {
          "base_uri": "https://localhost:8080/"
        },
        "outputId": "d0e0fe61-4ef0-42a8-9168-c096cd7627ab"
      },
      "execution_count": null,
      "outputs": [
        {
          "output_type": "stream",
          "name": "stdout",
          "text": [
            "True\n",
            "True\n",
            "False\n",
            "False\n"
          ]
        }
      ]
    },
    {
      "cell_type": "markdown",
      "source": [
        "## arrastrar_reto060_p2\n",
        "Hemos creado varias versiones de una función para verificar si una cadena contiene un carácter dado."
      ],
      "metadata": {
        "id": "BqPBzgSM7xv7"
      }
    },
    {
      "cell_type": "code",
      "source": [
        "def check(cadena, caracter):\n",
        "    return caracter in cadena\n",
        "\n",
        "def check(cadena, caracter):\n",
        "    for letra in cadena:\n",
        "        if letra == caracter:\n",
        "            return True\n",
        "    return False\n",
        "\n",
        "def check(cadena, caracter):\n",
        "    return any(x == caracter for x in cadena)\n",
        "\n",
        "print(check(\"hola\", \"a\"))    # True\n",
        "print(check(\"Python\", \"x\"))  # False"
      ],
      "metadata": {
        "id": "u611ca337xv7",
        "colab": {
          "base_uri": "https://localhost:8080/"
        },
        "outputId": "8c4aaa4c-e1be-4699-c96f-05c6bd95d26b"
      },
      "execution_count": null,
      "outputs": [
        {
          "output_type": "stream",
          "name": "stdout",
          "text": [
            "True\n",
            "False\n"
          ]
        }
      ]
    },
    {
      "cell_type": "markdown",
      "source": [
        "## arrastrar_reto061_p1\n",
        "Hemos creado varias versiones de una función que toma un número entero como argumento y devuelve **par** para números pares e **impar** para números impares."
      ],
      "metadata": {
        "id": "bkaVSq5Q7xv7"
      }
    },
    {
      "cell_type": "code",
      "source": [
        "def par_impar(n):\n",
        "    if n % 2 == 0:\n",
        "        return \"par\"\n",
        "    else:\n",
        "        return \"impar\"\n",
        "\n",
        "def par_impar(n):\n",
        "    if n % 2:\n",
        "        return \"impar\"\n",
        "    return \"par\"\n",
        "\n",
        "# usando un operador ternario\n",
        "def par_impar(n):\n",
        "    return \"impar\" if n % 2 else \"par\"\n",
        "\n",
        "# usando un diccionario\n",
        "def par_impar(n):\n",
        "    paridad = {0: \"par\", 1: \"impar\"}\n",
        "    return paridad[n % 2]\n",
        "\n",
        "print(par_impar(3))     # impar\n",
        "print(par_impar(-19))   # impar\n",
        "print(par_impar(146))   # par\n",
        "print(par_impar(0))     # par"
      ],
      "metadata": {
        "id": "fIQSRNRo7xv7",
        "colab": {
          "base_uri": "https://localhost:8080/"
        },
        "outputId": "44ac5d55-0f31-4c16-8a5a-8cd259b7ab3b"
      },
      "execution_count": 1,
      "outputs": [
        {
          "output_type": "stream",
          "name": "stdout",
          "text": [
            "impar\n",
            "impar\n",
            "par\n",
            "par\n"
          ]
        }
      ]
    },
    {
      "cell_type": "markdown",
      "source": [
        "## arrastrar_reto061_p2\n",
        "Hemos creado varias versiones de una función que toma un número entero como argumento y devuelve **positivo** para números positivos, devuelve **negativo** para números negativos y devuelve \"cero\" si el número es un cero."
      ],
      "metadata": {
        "id": "jTFGaqDa7xv7"
      }
    },
    {
      "cell_type": "code",
      "source": [
        "def comprobar_signo(n):  # n siempre es un número entero\n",
        "    if n > 0:\n",
        "        return \"positivo\"\n",
        "    elif n < 0:\n",
        "        return \"negativo\"\n",
        "    else:\n",
        "        return \"cero\"\n",
        "\n",
        "# usando dos operadores ternarios anidados\n",
        "def comprobar_signo(n):\n",
        "    return \"positivo\" if n > 0 else \"negativo\" if n < 0 else \"cero\"\n",
        "\n",
        "# usando un diccionario\n",
        "import numpy as np  # importamos la librería numpy como np\n",
        "\n",
        "def comprobar_signo(n):\n",
        "    paridad = {0: \"cero\", 1: \"positivo\", -1: \"negativo\"}\n",
        "    return paridad[np.sign(n)]  # la función sign nos da el signo 1,-1 o 0\n",
        "\n",
        "print(comprobar_signo(3))   # positivo\n",
        "print(comprobar_signo(-5))  # negativo\n",
        "print(comprobar_signo(0))   # cero"
      ],
      "metadata": {
        "id": "wCMMQ1Mu7xv7",
        "colab": {
          "base_uri": "https://localhost:8080/"
        },
        "outputId": "6b854c35-cb8c-4341-9c0c-602ef5faefdb"
      },
      "execution_count": 2,
      "outputs": [
        {
          "output_type": "stream",
          "name": "stdout",
          "text": [
            "positivo\n",
            "negativo\n",
            "cero\n"
          ]
        }
      ]
    },
    {
      "cell_type": "markdown",
      "source": [
        "## arrastrar_reto062_p1\n",
        "Hemos creado varias versiones de una función que toma una palabra y determina si es plural o no.\n",
        "\n",
        "Para simplificar, consideraremos que una palabra es plural si termina en \"s\"."
      ],
      "metadata": {
        "id": "_GQrf4vx7xv7"
      }
    },
    {
      "cell_type": "code",
      "source": [
        "def es_plural(palabra):\n",
        "    return palabra[-1] == 's'\n",
        "\n",
        "def es_plural(palabra):\n",
        "    return palabra.endswith('s')\n",
        "\n",
        "def es_plural(palabra):\n",
        "    return list(palabra).pop() == 's'\n",
        "\n",
        "print(es_plural(\"cambios\"))     # True\n",
        "print(es_plural(\"dudas\"))       # True\n",
        "print(es_plural(\"cambio\"))      # False\n",
        "print(es_plural(\"camión\"))      # False"
      ],
      "metadata": {
        "id": "2YXXY1fB7xv7",
        "colab": {
          "base_uri": "https://localhost:8080/"
        },
        "outputId": "0bfc5b9f-8dc6-41e0-964b-8b5f9db8d54a"
      },
      "execution_count": 3,
      "outputs": [
        {
          "output_type": "stream",
          "name": "stdout",
          "text": [
            "True\n",
            "True\n",
            "False\n",
            "False\n"
          ]
        }
      ]
    },
    {
      "cell_type": "markdown",
      "source": [
        "## arrastrar_reto062_p2\n",
        "Hemos creado varias versiones de una función que recibe una palabra objetivo y una lista.\n",
        "\n",
        "La lista está compuesta por palabras y deseamos conocer si hacen rima con la palabra objetivo.\n",
        "\n",
        "Por ejemplo, si la palabra objetivo es \"amor\" deseamos conocer que otras palabras de esta lista hacen rima:\n",
        "\n",
        "`[\"honor\", \"clamor\", \"primavera\", \"candor\"]`\n",
        "\n",
        "La función retornará las palabras de la lista que tengan los dos últimos caracteres iguales a los dos últimos caracteres de la palabra objetivo."
      ],
      "metadata": {
        "id": "um5hzM487xv7"
      }
    },
    {
      "cell_type": "code",
      "source": [
        "def rimas(objetivo, lista):\n",
        "    return [palabra for palabra in lista if palabra[-2:] == objetivo[-2:]]\n",
        "\n",
        "def rimas(objetivo, lista):\n",
        "    fin = objetivo[-2:]\n",
        "    return [palabra for palabra in lista if palabra.endswith(fin)]\n",
        "\n",
        "objetivo = \"amor\"\n",
        "lista = [\"honor\", \"clamor\", \"primavera\", \"candor\"]\n",
        "\n",
        "print(f\"Palabras que riman con {objetivo}:\")\n",
        "print(rimas(objetivo, lista))    # ['honor', 'clamor', 'candor']"
      ],
      "metadata": {
        "id": "obO6je1y7xv7",
        "colab": {
          "base_uri": "https://localhost:8080/"
        },
        "outputId": "f7784ead-434a-4d8a-e1cb-58193fffd403"
      },
      "execution_count": 4,
      "outputs": [
        {
          "output_type": "stream",
          "name": "stdout",
          "text": [
            "Palabras que riman con amor:\n",
            "['honor', 'clamor', 'candor']\n"
          ]
        }
      ]
    },
    {
      "cell_type": "markdown",
      "source": [
        "## arrastrar_reto063_p1\n",
        "Disponemos de $n$ conmutadores de encendido/apagado (On/Off Switches).\n",
        "\n",
        "Hemos creado varias versiones de una función que devuelve cuántas disposiciones posibles pueden provenir de un determinado número de interruptores.\n",
        "\n",
        "Para un número $n$ de interruptores el número de patrones diferentes de encendido y apagado que podemos tener es $2^n$."
      ],
      "metadata": {
        "id": "sH7jQlNO7xv7"
      }
    },
    {
      "cell_type": "code",
      "source": [
        "def posiciones(n):\n",
        "    return 2 ** n\n",
        "\n",
        "def posiciones(n):\n",
        "    result = 1\n",
        "    for i in range(1, n+1):\n",
        "        result *= 2\n",
        "    return result\n",
        "\n",
        "# elevar con recursividad\n",
        "def posiciones(n):\n",
        "    if n == 0:\n",
        "        return 1\n",
        "    return 2 * posiciones(n - 1)\n",
        "\n",
        "print(posiciones(1))    # 2\n",
        "print(posiciones(3))    # 8\n",
        "print(posiciones(10))  # 1024"
      ],
      "metadata": {
        "id": "sMr4Sqzh7xv8",
        "colab": {
          "base_uri": "https://localhost:8080/"
        },
        "outputId": "9f509fb1-a831-414d-c4c1-ff01742d6da0"
      },
      "execution_count": 5,
      "outputs": [
        {
          "output_type": "stream",
          "name": "stdout",
          "text": [
            "2\n",
            "8\n",
            "1024\n"
          ]
        }
      ]
    },
    {
      "cell_type": "markdown",
      "source": [
        "## arrastrar_reto063_p2\n",
        "En la Wikipedia podemos leer sobre el <a href=\"https://es.wikipedia.org/wiki/Problema_del_trigo_y_del_tablero_de_ajedrez\" target=\"_blank\">problema del trigo y del tablero de ajedrez</a>.\n",
        "\n",
        "\n",
        "Queremos saber cuantos granos de trigo se pueden llegar a tener si por la primera casilla del tablero nos dan 1 grano, por la segunda casilla nos dan 2 granos, por la tercera casilla nos dan 4 granos y así vamos doblando el número de granos hasta llegar a la casilla 64. El tablero tiene 8 filas y 8 columnas, por lo que en total son 64 casillas.\n",
        "\n",
        "\n",
        "El número total de granos que nos pueden llegar a dar es:\n",
        "\n",
        "$$1+2+4+8+16+32+...+2^{63} = 18.446.744.073.709.551.615$$\n",
        "\n",
        "Queremos crear un código con dos funciones:\n",
        "1. Una función calcula el número de granos que hay en una celda específica $n$.\n",
        "2. La otra función calcula el acumulado de todos los granos hasta una celda $n$."
      ],
      "metadata": {
        "id": "O3mQyzHM7xv8"
      }
    },
    {
      "cell_type": "code",
      "source": [
        "# Función que calcula los granos que hay justo en la casilla n\n",
        "def granos_de_una_casilla(n):\n",
        "    return 2 ** (n-1)\n",
        "\n",
        "# Función que retorna el acumulado de los granos que hay hasta la casilla n\n",
        "def granos_acumulados(n):\n",
        "    total = 0    # inicializamos la variable\n",
        "    for i in range(n):\n",
        "        total += 2 ** i\n",
        "    return total\n",
        "\n",
        "print(\"Granos de la casilla 64:  \", granos_de_una_casilla(64))\n",
        "print(\"Acumulado en 64 casillas:\", granos_acumulados(64))\n",
        "\n",
        "# Imprime: Granos de la casilla 64:   9223372036854775808\n",
        "# Imprime: Acumulado en 64 casillas: 18446744073709551615\n",
        "\n",
        "# Otra versión de la función anterior que llama a la 1ª función\n",
        "def granos_acumulados(n):\n",
        "    total = 0\n",
        "    for i in range(n):\n",
        "        total += granos_de_una_casilla(i+1)\n",
        "    return total\n",
        "\n",
        "print(\"Acumulado en 64 casillas:\", granos_acumulados(64))\n",
        "# Imprime: Acumulado en 64 casillas: 18446744073709551615"
      ],
      "metadata": {
        "id": "aqSfCf0g7xv8",
        "colab": {
          "base_uri": "https://localhost:8080/"
        },
        "outputId": "65f96b3c-30d7-4ed7-b646-9594cb20353a"
      },
      "execution_count": 6,
      "outputs": [
        {
          "output_type": "stream",
          "name": "stdout",
          "text": [
            "Granos de la casilla 64:   9223372036854775808\n",
            "Acumulado en 64 casillas: 18446744073709551615\n",
            "Acumulado en 64 casillas: 18446744073709551615\n"
          ]
        }
      ]
    },
    {
      "cell_type": "markdown",
      "source": [
        "## arrastrar_reto064_p1\n",
        "Hemos creado varias versiones de una función que toma una cadena (un nombre).\n",
        "\n",
        "Si el último carácter del nombre es una \"n\", devuelve `True`; en caso contrario, devuelve `False`."
      ],
      "metadata": {
        "id": "yiuKWLbl7xv8"
      }
    },
    {
      "cell_type": "code",
      "source": [
        "def ultimo_caracter_n(nombre):\n",
        "    return nombre[-1].lower() == 'n'\n",
        "\n",
        "def ultimo_caracter_n(nombre):\n",
        "    return nombre.endswith('n') or nombre.endswith('N')\n",
        "\n",
        "def ultimo_caracter_n(nombre):\n",
        "    return nombre[-1] in {'n', 'N'}  # conjunto\n",
        "\n",
        "print(ultimo_caracter_n(\"Aaron\"))    # True\n",
        "print(ultimo_caracter_n(\"Antón\"))    # True\n",
        "print(ultimo_caracter_n(\"CALVIN\"))   # True\n",
        "print(ultimo_caracter_n(\"Pierre\"))   # False\n",
        "print(ultimo_caracter_n(\"Robert\"))   # False"
      ],
      "metadata": {
        "id": "NTpvB4ks7xv8",
        "colab": {
          "base_uri": "https://localhost:8080/"
        },
        "outputId": "f0c89552-e467-40e7-bae2-081c911a5993"
      },
      "execution_count": 7,
      "outputs": [
        {
          "output_type": "stream",
          "name": "stdout",
          "text": [
            "True\n",
            "True\n",
            "True\n",
            "False\n",
            "False\n"
          ]
        }
      ]
    },
    {
      "cell_type": "markdown",
      "source": [
        "## arrastrar_reto064_p2\n",
        "Hemos creado varias versiones de una función que recibe una lista de palabras y quiere analizar si la primera letra de cada palabra es igual a la última letra de esa misma palabra.\n",
        "\n",
        "La función retorna una lista de booleanos (verdaderos y falsos), donde el resultado será `True` en caso de que la palabra cumpla la condición; en caso contrario produce un `False`."
      ],
      "metadata": {
        "id": "h_b2fjA87xv8"
      }
    },
    {
      "cell_type": "code",
      "source": [
        "lista = [\"reconocer\", \"salas\", \"boca\", \"oro\", \"eje\", \"olmo\"]\n",
        "\n",
        "def inicio_fin_iguales(palabras):\n",
        "    check = []    # inicializamosla lista de booleanos\n",
        "    for palabra in palabras:\n",
        "        if palabra[0] == palabra[-1]:\n",
        "            check.append(True)\n",
        "        else:\n",
        "            check.append(False)\n",
        "    return check\n",
        "\n",
        "def inicio_fin_iguales(palabras):\n",
        "    check = []    # inicializamosla lista de booleanos\n",
        "    for palabra in palabras:\n",
        "        if palabra.startswith(palabra[-1]):\n",
        "            check.append(True)\n",
        "        else:\n",
        "            check.append(False)\n",
        "    return check\n",
        "\n",
        "print(inicio_fin_iguales(lista))  # [True, True, False, True, True, True]"
      ],
      "metadata": {
        "id": "YojN9xi47xv8",
        "colab": {
          "base_uri": "https://localhost:8080/"
        },
        "outputId": "ac144ed1-04ea-40d6-b008-e7d1b6833b41"
      },
      "execution_count": 8,
      "outputs": [
        {
          "output_type": "stream",
          "name": "stdout",
          "text": [
            "[True, True, False, True, True, True]\n"
          ]
        }
      ]
    },
    {
      "cell_type": "markdown",
      "source": [
        "## arrastrar_reto065_p1\n",
        "Hemos creado varias versiones de una función que recibe una letra como parámetro.\n",
        "\n",
        "Si la letra es una vocal devuelve el orden que ocupa dentro de la lista de cinco vocales.\n",
        "\n",
        "1. Si la función recibe una \"a\" o \"A\" retorna \"primera\".\n",
        "2. Si la función recibe una \"e\" o \"E\" retorna \"segunda\".\n",
        "3. Si la función recibe una \"i\" o \"I\" retorna \"tercera\".\n",
        "4. Si la función recibe una \"o\" o \"O\" retorna \"cuarta\".\n",
        "5. Si la función recibe una \"u\" o \"U\" retorna \"quinta\".\n",
        "6. Para el resto de caracteres retorna `None`."
      ],
      "metadata": {
        "id": "uBvsxZot7xv8"
      }
    },
    {
      "cell_type": "code",
      "source": [
        "def ordenar(letra):\n",
        "    letra = letra.lower()\n",
        "    if letra == \"a\":\n",
        "        texto = \"primera\"\n",
        "    elif letra == \"e\":\n",
        "        texto = \"segunda\"\n",
        "    elif letra == \"i\":\n",
        "        texto = \"tercera\"\n",
        "    elif letra == \"o\":\n",
        "        texto = \"cuarta\"\n",
        "    elif letra == \"u\":\n",
        "        texto = \"quinta\"\n",
        "    else:\n",
        "        return None\n",
        "    return texto\n",
        "\n",
        "def ordenar(letra):\n",
        "    vocales = {\"A\": \"primera\",\n",
        "               \"E\": \"segunda\",\n",
        "               \"I\": \"tercera\",\n",
        "               \"O\": \"cuarta\",\n",
        "               \"U\": \"quinta\"}\n",
        "    if letra.upper() in vocales:\n",
        "        return vocales[letra.upper()]\n",
        "    else:\n",
        "        return None\n",
        "\n",
        "def ordenar(letra):\n",
        "    vocales = {\"A\": \"primera\",\n",
        "               \"E\": \"segunda\",\n",
        "               \"I\": \"tercera\",\n",
        "               \"O\": \"cuarta\",\n",
        "               \"U\": \"quinta\"}\n",
        "    return vocales.get(letra.upper())\n",
        "\n",
        "print(ordenar(\"a\"))     # primera vocal\n",
        "print(ordenar(\"U\"))     # quinta vocal\n",
        "print(ordenar(\"z\"))     # None"
      ],
      "metadata": {
        "id": "kXK6WWc57xv8",
        "colab": {
          "base_uri": "https://localhost:8080/"
        },
        "outputId": "317bd4a6-e42e-45d6-861b-d05a538305f7"
      },
      "execution_count": 18,
      "outputs": [
        {
          "output_type": "stream",
          "name": "stdout",
          "text": [
            "primera\n",
            "quinta\n",
            "None\n"
          ]
        }
      ]
    },
    {
      "cell_type": "markdown",
      "source": [
        "## arrastrar_reto065_p2\n",
        "Disponemos de un diccionario con el precio que corresponde a una serie de frutas.\n",
        "\n",
        "Tenemos una función que recibe una fruta y retorna su precio.\n",
        "\n",
        "Si la fruta no se encuentra en el diccionario nos indica que el precio de esa fruta no está disponible."
      ],
      "metadata": {
        "id": "PBTT7mDG7xv8"
      }
    },
    {
      "cell_type": "code",
      "source": [
        "# Definir el diccionario de precios de productos\n",
        "precios_productos = {\n",
        "    \"manzana\": 2.50,\n",
        "    \"banana\": 1.75,\n",
        "    \"naranja\": 1.30,\n",
        "    \"pera\": 2.90\n",
        "}\n",
        "\n",
        "# Función para consultar el precio de un producto\n",
        "def consultar_precio(producto):\n",
        "    precio = precios_productos.get(producto)\n",
        "    if precio is not None:\n",
        "        print(f\"El kilo de {producto} cuesta {precio} €\")\n",
        "    else:\n",
        "        print(f\"El precio de {producto} no está disponible.\")\n",
        "\n",
        "# Ejemplos de consultas de precios\n",
        "consultar_precio(\"manzana\")  # El kilo de manzana cuesta 2.5 €\n",
        "consultar_precio(\"banana\")   # El kilo de banana cuesta 1.75 €\n",
        "consultar_precio(\"sandía\")   # El precio de sandía no está disponible."
      ],
      "metadata": {
        "id": "nSKSzqS27xv8",
        "colab": {
          "base_uri": "https://localhost:8080/"
        },
        "outputId": "74b4de07-0905-4c29-c742-d7263b830b1e"
      },
      "execution_count": 23,
      "outputs": [
        {
          "output_type": "stream",
          "name": "stdout",
          "text": [
            "El kilo de manzana cuesta 2.5 €\n",
            "El kilo de banana cuesta 1.75 €\n",
            "El precio de sandía no está disponible.\n"
          ]
        }
      ]
    },
    {
      "cell_type": "markdown",
      "source": [
        "## arrastrar_reto066_p1\n",
        "Hemos creado varias versiones de una función que permiten sumar los números de una lista."
      ],
      "metadata": {
        "id": "7XgcMGEf7xv8"
      }
    },
    {
      "cell_type": "code",
      "source": [
        "# Método 1. Usando sum\n",
        "def suma_lista(lista):\n",
        "    return sum(lista)\n",
        "\n",
        "# Método 2. Iterando por el index\n",
        "def suma_lista(lista):\n",
        "    total = 0    # inicializamos la variable\n",
        "    for i in range(len(lista)):\n",
        "        total += lista[i]\n",
        "    return total\n",
        "\n",
        "# Método 3. Iterando por los elementos\n",
        "def suma_lista(lista):\n",
        "    total = 0    # inicializamos la variable\n",
        "    for elemento in lista:\n",
        "        total += elemento\n",
        "    return total\n",
        "\n",
        "print(suma_lista([1, 2, 3, 4, 5]))  # 15\n",
        "print(suma_lista([-1, 0, 1]))       # 0\n",
        "print(suma_lista([0, 4, 8, 12]))    # 24"
      ],
      "metadata": {
        "id": "V2Oi_FQn7xv8",
        "colab": {
          "base_uri": "https://localhost:8080/"
        },
        "outputId": "4bdd53d7-6ead-401c-c59c-732c9db553ea"
      },
      "execution_count": 24,
      "outputs": [
        {
          "output_type": "stream",
          "name": "stdout",
          "text": [
            "15\n",
            "0\n",
            "24\n"
          ]
        }
      ]
    },
    {
      "cell_type": "markdown",
      "source": [
        "## arrastrar_reto066_p2\n",
        "Hemos creado varias versiones de una función que permiten sumar los números impares de una lista."
      ],
      "metadata": {
        "id": "d2dH5GYg7xv8"
      }
    },
    {
      "cell_type": "code",
      "source": [
        "# Método 1. Usando sum\n",
        "def suma_impares(lista):\n",
        "    return sum(num for num in lista if num % 2)\n",
        "\n",
        "# Método 2. Iterando por el index\n",
        "def suma_impares(lista):\n",
        "    total = 0    # inicializamos la variable\n",
        "    for i in range(len(lista)):\n",
        "        if lista[i] % 2 == 1:\n",
        "            total += lista[i]\n",
        "    return total\n",
        "\n",
        "# Método 3. Iterando por los elementos\n",
        "def suma_impares(lista):\n",
        "    total = 0    # inicializamos la variable\n",
        "    for elemento in lista:\n",
        "        if elemento % 2 != 0:\n",
        "            total += elemento\n",
        "    return total\n",
        "\n",
        "print(suma_impares([1, 2, 3, 4, 5]))  # 9\n",
        "print(suma_impares([-1, 0, 2]))       # -1\n",
        "print(suma_impares([0, 4, 8, 12]))    # 0"
      ],
      "metadata": {
        "id": "Zxe6SCoF7xv8",
        "colab": {
          "base_uri": "https://localhost:8080/"
        },
        "outputId": "9b8fa570-5fc9-419c-b01f-5c6964a69e5a"
      },
      "execution_count": 25,
      "outputs": [
        {
          "output_type": "stream",
          "name": "stdout",
          "text": [
            "9\n",
            "-1\n",
            "0\n"
          ]
        }
      ]
    },
    {
      "cell_type": "markdown",
      "source": [
        "## arrastrar_reto067_p1\n",
        "Hemos creado varias versiones de una función que suma los elementos de una lista de números si cumplen que son menores que 10."
      ],
      "metadata": {
        "id": "pFdXrahn7xv8"
      }
    },
    {
      "cell_type": "code",
      "source": [
        "def suma_menores_diez(lista):\n",
        "    total = 0    # inicializamos la variable\n",
        "    for elemento in lista:\n",
        "        if elemento < 10:\n",
        "            total += elemento\n",
        "    return total\n",
        "\n",
        "def suma_menores_diez(arr):\n",
        "    return sum(elemento for elemento in arr if elemento < 10)\n",
        "\n",
        "print(suma_menores_diez([1, 5, 11]))        # 6\n",
        "print(suma_menores_diez([0, 9, 10, 50]))    # 9\n",
        "print(suma_menores_diez([-3, -5, -11, 4]))  # -15"
      ],
      "metadata": {
        "id": "fWPAy4f-7xv8",
        "colab": {
          "base_uri": "https://localhost:8080/"
        },
        "outputId": "5036e84f-e1a8-4726-eaea-be13ef57318e"
      },
      "execution_count": 26,
      "outputs": [
        {
          "output_type": "stream",
          "name": "stdout",
          "text": [
            "6\n",
            "9\n",
            "-15\n"
          ]
        }
      ]
    },
    {
      "cell_type": "markdown",
      "source": [
        "## arrastrar_reto067_p2\n",
        "Hemos creado varias versiones de una función que suma los elementos de una lista de números si cumplen que son positivos."
      ],
      "metadata": {
        "id": "Cigqiw0J7xv8"
      }
    },
    {
      "cell_type": "code",
      "source": [
        "def suma_menores_diez(lista):\n",
        "    total = 0    # inicializamos la variable\n",
        "    for elemento in lista:\n",
        "        if elemento > 0:\n",
        "            total += elemento\n",
        "    return total\n",
        "\n",
        "def suma_menores_diez(arr):\n",
        "    return sum(elemento for elemento in arr if elemento > 0)\n",
        "\n",
        "print(suma_menores_diez([1, -5, 11]))        # 12\n",
        "print(suma_menores_diez([0, -9, 10, -50]))   # 10\n",
        "print(suma_menores_diez([-4, -5, -11, -1]))  # 0"
      ],
      "metadata": {
        "id": "HsL5bm6v7xv9",
        "colab": {
          "base_uri": "https://localhost:8080/"
        },
        "outputId": "00c6dba1-7909-4a6a-d67f-da179ccd6fb2"
      },
      "execution_count": 27,
      "outputs": [
        {
          "output_type": "stream",
          "name": "stdout",
          "text": [
            "12\n",
            "10\n",
            "0\n"
          ]
        }
      ]
    },
    {
      "cell_type": "markdown",
      "source": [
        "## arrastrar_reto068_p1\n",
        "Hemos creado una función que devuelva el valor ASCII del carácter pasado como argumento."
      ],
      "metadata": {
        "id": "SwRZvpG-7xv9"
      }
    },
    {
      "cell_type": "code",
      "source": [
        "def ctoa(caracter):\n",
        "    return ord(caracter)\n",
        "\n",
        "print(ctoa(\"A\"))    # 65\n",
        "print(ctoa(\"z\"))    # 122\n",
        "print(ctoa(\"*\"))    # 42\n",
        "print(ctoa(\" \"))    # 32"
      ],
      "metadata": {
        "id": "LZLxbz3l7xv9",
        "colab": {
          "base_uri": "https://localhost:8080/"
        },
        "outputId": "d253220f-48fd-4b00-bdea-bc2150bd3739"
      },
      "execution_count": 28,
      "outputs": [
        {
          "output_type": "stream",
          "name": "stdout",
          "text": [
            "65\n",
            "122\n",
            "42\n",
            "32\n"
          ]
        }
      ]
    },
    {
      "cell_type": "markdown",
      "source": [
        "## arrastrar_reto068_p2\n",
        "Hemos creado dos funciones, una devuelve el valor ASCII del carácter pasado como argumento y la otra hace el proceso contrario."
      ],
      "metadata": {
        "id": "TJs7U7x_7xv9"
      }
    },
    {
      "cell_type": "code",
      "source": [
        "# Convierte un caracter en su código ASCII correspondiente\n",
        "def ctoa(caracter):\n",
        "    return ord(caracter)\n",
        "\n",
        "print(ctoa(\"A\"))    # 65\n",
        "print(ctoa(\"z\"))    # 122\n",
        "print(ctoa(\" \"))    # 32\n",
        "print(ctoa(\"*\"))    # 42\n",
        "\n",
        "# Convierte un código ASCII en su caracter correspondiente\n",
        "def atoc(codigo_ascii):\n",
        "    return chr(codigo_ascii)\n",
        "\n",
        "print(atoc(65))    # A\n",
        "print(atoc(122))   # z\n",
        "print(atoc(32))    # \" \" se imprime un espacio\n",
        "print(atoc(42))    # *\n",
        "\n",
        "# Aplicando ambas funciones anidadas\n",
        "print(atoc(ctoa(\"A\")))  # A\n",
        "print((ctoa(atoc(65)))) # 65"
      ],
      "metadata": {
        "id": "47r7B8d77xv9",
        "colab": {
          "base_uri": "https://localhost:8080/"
        },
        "outputId": "d8ed97e6-486b-432b-d5b7-59a3f997919f"
      },
      "execution_count": 29,
      "outputs": [
        {
          "output_type": "stream",
          "name": "stdout",
          "text": [
            "65\n",
            "122\n",
            "32\n",
            "42\n",
            "A\n",
            "z\n",
            " \n",
            "*\n",
            "A\n",
            "65\n"
          ]
        }
      ]
    },
    {
      "cell_type": "markdown",
      "source": [
        "## arrastrar_reto069_p1\n",
        "Hemos creado varias versiones de una función que recibe un carácter y una cadena.\n",
        "\n",
        "La función retorna las palabras de la cadena separadas por el carácter recibido."
      ],
      "metadata": {
        "id": "KIJ6oXgW7xv9"
      }
    },
    {
      "cell_type": "code",
      "source": [
        "def separar_palabras(caracter, frase):\n",
        "    return frase.replace(\" \", caracter)  # reemplazamos los espacios por el carácter dado\n",
        "\n",
        "def separar_palabras(caracter, cadena):\n",
        "    lista_palabras = cadena.split()  # creamos una lista con las palabras que estaban separadas por espacio\n",
        "    if not lista_palabras:    # si la lista está vacía\n",
        "        return caracter\n",
        "    return caracter.join(lista_palabras)  # unimos los elementos de la lista por el carácter dado\n",
        "\n",
        "def separar_palabras(c, s):  # c representa el caracter, s representa el string\n",
        "    l = s.split()  # la lista l contiene las palabras que estaban separadas por espacio\n",
        "    return c.join(l) if len(l) else c  # si la lista tiene contenido unimos sus elementos\n",
        "\n",
        "print(separar_palabras(\"_\", \"Python is fun\")) # Python_is_fun\n",
        "print(separar_palabras(\"#\", \"hello world!\")) # hello#world!\n",
        "print(separar_palabras(\"@\", \" \")) # @"
      ],
      "metadata": {
        "id": "2zXUS6p27xv9",
        "colab": {
          "base_uri": "https://localhost:8080/"
        },
        "outputId": "3d5e1256-1570-4875-ed52-81e3dffa91a8"
      },
      "execution_count": 30,
      "outputs": [
        {
          "output_type": "stream",
          "name": "stdout",
          "text": [
            "Python_is_fun\n",
            "hello#world!\n",
            "@\n"
          ]
        }
      ]
    },
    {
      "cell_type": "markdown",
      "source": [
        "## arrastrar_reto069_p2\n",
        "Hemos creado varias versiones de una función que recibe el nombre y apellido de un usuario separados por espacios.\n",
        "\n",
        "La función retorna el corro electrónico asignado al usuario separando los nombres y el apellido por punto."
      ],
      "metadata": {
        "id": "84HeV45y7xv9"
      }
    },
    {
      "cell_type": "code",
      "source": [
        "def crear_correo(usuario):\n",
        "    email = usuario.replace(\" \", \".\")  # reemplazamos espacio por punto\n",
        "    return email + \"@gmail.com\"          # concatenamos con el final del correo\n",
        "\n",
        "def crear_correo(usuario):\n",
        "    email = usuario.split()            # creamos una lista con las palabras separadas por espacio\n",
        "    return \".\".join(email) + \"@gmail.com\"  # join une los elementos de la lista separando por punto\n",
        "\n",
        "print(crear_correo(\"ana lopez\"))           # ana.lopez@gmail.com\n",
        "print(crear_correo(\"luis alberto martin\")) # luis.alberto.martin@gmail.com\n",
        "print(crear_correo(\"eva maria paz ruiz\"))  # eva.maria.paz.ruiz@gmail.com\n",
        "print(crear_correo(\"jose\"))                # jose@gmail.com"
      ],
      "metadata": {
        "id": "TAChnFX27xv9",
        "colab": {
          "base_uri": "https://localhost:8080/"
        },
        "outputId": "652dacc2-6c68-4a73-be66-b40dbdc49294"
      },
      "execution_count": 33,
      "outputs": [
        {
          "output_type": "stream",
          "name": "stdout",
          "text": [
            "ana.lopez@gmail.com\n",
            "luis.alberto.martin@gmail.com\n",
            "eva.maria.paz.ruiz@gmail.com\n",
            "jose@gmail.com\n"
          ]
        }
      ]
    },
    {
      "cell_type": "markdown",
      "source": [
        "## arrastrar_reto070_p1\n",
        "He comprobado que hay personas que se cambian de casa con más frecuencia que otras.\n",
        "\n",
        "Me gustaría calcular cuánto tiempo, en promedio, una persona vive en la misma casa.\n",
        "\n",
        "Dada la edad de una persona y el número de veces que se ha mudado de casa, devuelva el número promedio de años que ha pasado viviendo en la misma casa.\n",
        "\n",
        "Hemos creado varias versiones de una función que efectúa este cálculo."
      ],
      "metadata": {
        "id": "jw5VWV4U7xv9"
      }
    },
    {
      "cell_type": "code",
      "source": [
        "def years_in_one_house(edad, mudanzas):\n",
        "    return edad / (mudanzas + 1)\n",
        "\n",
        "# función lambda\n",
        "years_in_one_house = lambda edad, mudanzas: edad / (mudanzas + 1)\n",
        "\n",
        "print(years_in_one_house(30, 1))    # 15.0\n",
        "print(years_in_one_house(15, 2))    # 5.0\n",
        "print(years_in_one_house(80, 0))    # 80.0"
      ],
      "metadata": {
        "id": "pzKiIar17xv9",
        "colab": {
          "base_uri": "https://localhost:8080/"
        },
        "outputId": "3f642d76-412a-4dee-ac67-47c735cd764f"
      },
      "execution_count": 2,
      "outputs": [
        {
          "output_type": "stream",
          "name": "stdout",
          "text": [
            "15.0\n",
            "5.0\n",
            "80.0\n"
          ]
        }
      ]
    },
    {
      "cell_type": "markdown",
      "source": [
        "## arrastrar_reto070_p2\n",
        "Tenemos tres ejemplos de creación y uso de funciones lambda."
      ],
      "metadata": {
        "id": "M6xGqnxM7xv9"
      }
    },
    {
      "cell_type": "code",
      "source": [
        "# EJEMPLO 1\n",
        "# Definición de una función lambda para calcular el cuadrado de un número\n",
        "calcular_cuadrado = lambda x: x ** 2\n",
        "\n",
        "# Llamada a la función lambda con diferentes números\n",
        "print(calcular_cuadrado(5))   # 25\n",
        "print(calcular_cuadrado(10))  # 100\n",
        "print(calcular_cuadrado(-3))  # 9\n",
        "\n",
        "# EJEMPLO 2\n",
        "# Definición de una función lambda para calcular el área de un triángulo\n",
        "calcular_area_triangulo = lambda base, altura: (base * altura) / 2\n",
        "\n",
        "# Llamada a la función lambda con valores concretos\n",
        "base = 20\n",
        "altura = 5\n",
        "area = calcular_area_triangulo(base, altura)\n",
        "print(\"El área del triángulo con base\", base, \"y altura\", altura, \"es\", area)\n",
        "\n",
        "# EJEMPLO 3\n",
        "# Definición de una función lambda para sumar un número indeterminado de argumentos\n",
        "suma_indeterminada = lambda *args: sum(args)\n",
        "\n",
        "print(suma_indeterminada(1, 2, 3, 4, 5))                # 15\n",
        "print(suma_indeterminada(10, 20, 30))                   # 60\n",
        "print(suma_indeterminada(100, 200, 300, 400, 500, 600)) # 2100"
      ],
      "metadata": {
        "id": "X8dpdgcY7xv9",
        "colab": {
          "base_uri": "https://localhost:8080/"
        },
        "outputId": "04eef513-ee80-4eb1-e941-b5853b8bf100"
      },
      "execution_count": 4,
      "outputs": [
        {
          "output_type": "stream",
          "name": "stdout",
          "text": [
            "25\n",
            "100\n",
            "9\n",
            "El área del triángulo con base 20 y altura 5 es 50.0\n",
            "15\n",
            "60\n",
            "2100\n"
          ]
        }
      ]
    },
    {
      "cell_type": "markdown",
      "source": [
        "## arrastrar_reto071_p1\n",
        "En programación, ciertos valores pueden ser evaluados como booleanos, donde algunos valores son equivalentes a Verdadero (`True`) y otros a Falso (`False`).\n",
        "\n",
        "Por ejemplo, en muchos lenguajes de programación, 1 (o cualquier valor diferente de 0) se considera `True`, mientras que el valor 0 se considera `False`.\n",
        "\n",
        "Deseamos crear una función que devuelva el complemento del booleano dado.\n",
        "\n",
        "El complemento de un booleano se refiere a la inversión del valor booleano.\n",
        "\n",
        "Independientemente del tipo de dato de entrada (booleano o entero), la función debe devolver 1 si el valor dado es considerado `False` y debe devolver 0 si es considerado `True`.\n",
        "\n",
        "Hemos creado varias versiones de una función que cumple con estos requerimientos."
      ],
      "metadata": {
        "id": "bbXuCRZf7xv9"
      }
    },
    {
      "cell_type": "code",
      "source": [
        "def flip_bool(valor):\n",
        "    if valor:       # si el valor es True\n",
        "        return 0\n",
        "    else:\n",
        "        return 1\n",
        "\n",
        "def flip_bool(valor):\n",
        "    return int(not valor)\n",
        "\n",
        "print(flip_bool(True))  # 0\n",
        "print(flip_bool(False)) # 1\n",
        "print(flip_bool(1))     # 0\n",
        "print(flip_bool(0))     # 1\n",
        "print(flip_bool(7))     # 0"
      ],
      "metadata": {
        "id": "TQYfrk2H7xv9",
        "colab": {
          "base_uri": "https://localhost:8080/"
        },
        "outputId": "cbecbe4c-975d-4093-9f61-6bb6787faa19"
      },
      "execution_count": 5,
      "outputs": [
        {
          "output_type": "stream",
          "name": "stdout",
          "text": [
            "0\n",
            "1\n",
            "0\n",
            "1\n",
            "0\n"
          ]
        }
      ]
    },
    {
      "cell_type": "markdown",
      "source": [
        "## arrastrar_reto071_p2\n",
        "Tenemos un código que contiene dos funciones.\n",
        "\n",
        "La primera función, **crea_array(n)**, genera una lista de longitud $n$ con números aleatorios entre 0 y 1 utilizando la función **randint(0, 1)** del módulo **random**. Esta función se llama con un valor $n$ especificado por el usuario para determinar la longitud de la lista.\n",
        "\n",
        "La segunda función, **flip_bool(lista)**, toma una lista de ceros y unos como entrada y devuelve una lista donde cada elemento se invierte, es decir, los ceros se convierten en unos y viceversa. Esto se logra mediante una comprensión de lista que itera sobre cada elemento de la lista de entrada y aplica la operación **not(x)** para invertir su valor, luego convierte el resultado a entero utilizando **int()**.\n",
        "\n",
        "El código crea una lista aleatoria llamando a **crea_array(10)** y se imprime esta lista. Para la segunda lista invocamos la función **flip_bool()** que invierte la lista aleatoria generada previamente y finalmente se imprime.\n",
        "\n",
        "Ejemplo:\n",
        "\n",
        "* Lista aleatoria: `[1, 0, 0, 1, 1, 0, 1, 0, 1, 1]`\n",
        "* Lista invertida: `[0, 1, 1, 0, 0, 1, 0, 1, 0, 0]`"
      ],
      "metadata": {
        "id": "inhOvOiY7xv9"
      }
    },
    {
      "cell_type": "code",
      "source": [
        "from random import randint\n",
        "\n",
        "def crea_array(n):\n",
        "    return [randint(0,1) for _ in range(n)]\n",
        "\n",
        "def flip_bool(lista):\n",
        "    return [int(not(x)) for x in lista]\n",
        "\n",
        "lista_aleatoria = crea_array(10)\n",
        "print('Lista aleatoria:', lista_aleatoria)\n",
        "\n",
        "lista_invertida = flip_bool(lista_aleatoria)\n",
        "print('Lista invertida:', lista_invertida)"
      ],
      "metadata": {
        "id": "HRB83kB17xv9",
        "colab": {
          "base_uri": "https://localhost:8080/"
        },
        "outputId": "dd02441d-aa85-4588-ebbb-9c042f6fd425"
      },
      "execution_count": 6,
      "outputs": [
        {
          "output_type": "stream",
          "name": "stdout",
          "text": [
            "Lista aleatoria: [1, 1, 1, 0, 0, 1, 0, 0, 1, 1]\n",
            "Lista invertida: [0, 0, 0, 1, 1, 0, 1, 1, 0, 0]\n"
          ]
        }
      ]
    },
    {
      "cell_type": "markdown",
      "source": [
        "## arrastrar_reto072_p1\n",
        "Hemos creado varias versiones de una función que devuelve `True` si dos listas comparten la misma longitud y tienen valores numéricos idénticos en cada índice; de lo contrario, devolverá `False`."
      ],
      "metadata": {
        "id": "7L1W8wLt7xv9"
      }
    },
    {
      "cell_type": "code",
      "source": [
        "def comprobar_iguales(lst1, lst2):\n",
        "    if lst1 == lst2:\n",
        "        return True\n",
        "    else:\n",
        "        return False\n",
        "\n",
        "def comprobar_iguales(lst1, lst2):\n",
        "    return lst1 == lst2\n",
        "\n",
        "def comprobar_iguales(lst1, lst2):\n",
        "    return all(x == y for x, y in zip(lst1, lst2))\n",
        "\n",
        "print(comprobar_iguales([4, 7, 6], [4, 5, 6]))      # False\n",
        "print(comprobar_iguales([1, 2], [1, 3]))            # False\n",
        "print(comprobar_iguales([1, 2], [1, 2]))            # True\n",
        "print(comprobar_iguales([4, 5, 6], [4, 5, 12/2]))   # True\n",
        "print(comprobar_iguales([\"*\"], [chr(42)]))          # True"
      ],
      "metadata": {
        "id": "Vp_Mhh9X7xv-",
        "colab": {
          "base_uri": "https://localhost:8080/"
        },
        "outputId": "d01d203d-bb2e-4d88-81be-3b1f94837a94"
      },
      "execution_count": 7,
      "outputs": [
        {
          "output_type": "stream",
          "name": "stdout",
          "text": [
            "False\n",
            "False\n",
            "True\n",
            "True\n",
            "True\n"
          ]
        }
      ]
    },
    {
      "cell_type": "markdown",
      "source": [
        "## arrastrar_reto072_p2\n",
        "Disponemos de una función llamada **verificar_aprobados** que toma dos listas como argumentos:\n",
        "\n",
        "1. notas, que contiene las calificaciones obtenidas por un estudiante en sus exámenes, y\n",
        "2. minimas, que contiene las calificaciones mínimas requeridas para aprobar esos exámenes.\n",
        "\n",
        "La función utiliza la función **zip()** para combinar las notas del estudiante y las calificaciones mínimas en pares, y luego utiliza la función **all()** para verificar si todas las notas del estudiante son mayores o iguales que las calificaciones mínimas correspondientes.\n",
        "\n",
        "Si todas las notas son mayores o iguales, la función devuelve el mensaje \"¡Felicidades! Has aprobado todos los exámenes.\"; de lo contrario, devuelve \"No has superado todos los exámenes.\"\n",
        "\n",
        "El código proporciona dos ejemplos de uso para ilustrar cómo llamar a la función **verificar_aprobados** con diferentes conjuntos de notas y calificaciones mínimas, y muestra el mensaje resultante en función de si el estudiante ha aprobado o no todos los exámenes."
      ],
      "metadata": {
        "id": "PAYaUNco7xv-"
      }
    },
    {
      "cell_type": "code",
      "source": [
        "def verificar_aprobados(notas, minimas):\n",
        "    # Verificar si el estudiante aprobó todos los exámenes\n",
        "    aprobado = all(nota >= minima for nota, minima in zip(notas, minimas))\n",
        "    if aprobado:\n",
        "        return \"¡Felicidades! Has aprobado todos los exámenes.\"\n",
        "    else:\n",
        "        return \"No has superado todos los exámenes.\"\n",
        "\n",
        "# Ejemplos de uso\n",
        "# CASO 1\n",
        "notas_estudiante = [75, 80, 85]\n",
        "calificaciones_minimas = [70, 75, 80]\n",
        "print(verificar_aprobados(notas_estudiante, calificaciones_minimas))\n",
        "# En este caso imprime: ¡Felicidades! Has aprobado todos los exámenes.\n",
        "\n",
        "# CASO 2\n",
        "notas_estudiante = [75, 70, 85]\n",
        "calificaciones_minimas = [70, 75, 80]\n",
        "print(verificar_aprobados(notas_estudiante, calificaciones_minimas))\n",
        "# En este caso imprime: No has superado todos los exámenes."
      ],
      "metadata": {
        "id": "CZo-cVaD7xv-",
        "colab": {
          "base_uri": "https://localhost:8080/"
        },
        "outputId": "82694d82-fb95-47af-da1e-295f7d01cfa3"
      },
      "execution_count": 15,
      "outputs": [
        {
          "output_type": "stream",
          "name": "stdout",
          "text": [
            "¡Felicidades! Has aprobado todos los exámenes.\n",
            "No has superado todos los exámenes.\n"
          ]
        }
      ]
    },
    {
      "cell_type": "markdown",
      "source": [
        "## arrastrar_reto073_p1\n",
        "Hemos creado varias versiones de una función que toma una palabra y devuelve la nueva palabra sin incluir el primer carácter."
      ],
      "metadata": {
        "id": "vh1HLLBm7xv-"
      }
    },
    {
      "cell_type": "code",
      "source": [
        "# Método 1\n",
        "def nueva_palabra(palabra):\n",
        "    return palabra[1:]\n",
        "\n",
        "# Método 2. Usando un bucle\n",
        "def nueva_palabra(palabra):\n",
        "    result = ''  # inicializamos la variable como cadena vacía\n",
        "    for i in range(1, len(palabra)):\n",
        "        result += palabra[i]\n",
        "    return result\n",
        "\n",
        "# Método 3. Con list comprehension\n",
        "def nueva_palabra(palabra):\n",
        "    return ''.join([letra for letra in palabra[1:]])\n",
        "\n",
        "# Método 4. Convirtiendo la palabra en una lista\n",
        "def nueva_palabra(palabra):\n",
        "    return ''.join(list(palabra)[1:])\n",
        "\n",
        "print(nueva_palabra(\"cosa\"))    # osa\n",
        "print(nueva_palabra(\"Foca\"))    # oca\n",
        "print(nueva_palabra(\"Hola\"))    # ola"
      ],
      "metadata": {
        "id": "9n85BXat7xv-",
        "colab": {
          "base_uri": "https://localhost:8080/"
        },
        "outputId": "a573aa8f-8793-46b4-ed96-44492193a189"
      },
      "execution_count": 13,
      "outputs": [
        {
          "output_type": "stream",
          "name": "stdout",
          "text": [
            "osa\n",
            "oca\n",
            "ola\n"
          ]
        }
      ]
    },
    {
      "cell_type": "markdown",
      "source": [
        "## arrastrar_reto073_p2\n",
        "Hemos creado una función llamada **formatear_oracion()** que toma una lista de palabras como entrada y devuelve una oración formateada y capitalizada.\n",
        "\n",
        "Capitalizar una frase significa escribir la primera letra de cada palabra en mayúscula.\n",
        "\n",
        "En la función, se utiliza el método **capitalize()** para capitalizar la primera letra de las palabras.\n",
        "\n",
        "Luego, estas palabras capitalizadas se unen en una sola cadena utilizando el método **join()**, con un espacio como separador entre cada palabra.\n",
        "\n",
        "Después de unir las palabras, se agrega un punto al final de la cadena para completar la oración. Este proceso asegura que la oración formateada esté correctamente capitalizada y terminada con un punto."
      ],
      "metadata": {
        "id": "XUEVJpXj7xv-"
      }
    },
    {
      "cell_type": "code",
      "source": [
        "def formatear_oracion(palabras):\n",
        "    # Capitalizar la primera letra de cada palabra y unirlas en una cadena\n",
        "    oracion_formateada = ' '.join(palabra.capitalize() for palabra in palabras)\n",
        "\n",
        "    # Agregar un punto al final de la oración\n",
        "    oracion_formateada += '.'\n",
        "\n",
        "    return oracion_formateada\n",
        "\n",
        "# Ejemplo de uso\n",
        "lista_palabras = ['hola', 'qué', 'tal', 'estás']\n",
        "print(formatear_oracion(lista_palabras))  # Hola Qué Tal Estás."
      ],
      "metadata": {
        "id": "92AiqFPO7xv-",
        "colab": {
          "base_uri": "https://localhost:8080/"
        },
        "outputId": "8777c404-3cb5-4648-e513-9b79ba5ca3b1"
      },
      "execution_count": 16,
      "outputs": [
        {
          "output_type": "stream",
          "name": "stdout",
          "text": [
            "Hola Qué Tal Estás.\n"
          ]
        }
      ]
    },
    {
      "cell_type": "markdown",
      "source": [
        "## arrastrar_reto074_p1\n",
        "Hemos creado varias versiones de una función que acepta base, altura y forma (\"triángulo\", \"paralelogramo\") como entrada y calcula el área de esa figura.\n",
        "\n",
        "El área de un triángulo es b * h / 2.\n",
        "\n",
        "El área de un paralelogramo es b * h."
      ],
      "metadata": {
        "id": "zLofb7Mh7xv-"
      }
    },
    {
      "cell_type": "code",
      "source": [
        "# Método 1. Con condicional if\n",
        "def area_figura(b, h, figura):\n",
        "    if figura.lower() == 'triángulo':\n",
        "        return b * h / 2\n",
        "    elif figura.lower() == 'paralelogramo':\n",
        "        return b * h\n",
        "    else:\n",
        "        return None\n",
        "\n",
        "# Método 2. Con un diccionario y con get\n",
        "def area_figura(base, altura, forma):\n",
        "    formulas = {\n",
        "        \"triángulo\": lambda b, h: b * h / 2,\n",
        "        \"paralelogramo\": lambda b, h: b * h\n",
        "    }\n",
        "    area = formulas.get(forma.lower())\n",
        "    if area:\n",
        "        return area(base, altura)\n",
        "    else:\n",
        "        return None\n",
        "\n",
        "# Método 3. Con un diccionario y sin get\n",
        "def area_figura(base, altura, forma):\n",
        "    formulas = {\n",
        "        \"triángulo\": lambda b, h: b * h / 2,\n",
        "        \"paralelogramo\": lambda b, h: b * h\n",
        "    }\n",
        "    if forma.lower() in formulas:\n",
        "        return formulas[forma.lower()](base, altura)\n",
        "    else:\n",
        "        return None\n",
        "\n",
        "print(area_figura(2, 3, \"triángulo\"))           # 3.0\n",
        "print(area_figura(8, 6, \"paralelogramo\"))       # 48\n",
        "print(area_figura(2.9, 1.3, \"paralelogramo\"))   # 3.77\n",
        "print(area_figura(2.8, 10.5, \"triángulo\"))      # 14.7\n",
        "print(area_figura(3, 7, \"elipse\"))              # None"
      ],
      "metadata": {
        "id": "9IETdeDZ7xv-"
      },
      "execution_count": null,
      "outputs": []
    },
    {
      "cell_type": "markdown",
      "source": [
        "## arrastrar_reto074_p2\n",
        "Hemos creado una función llamada **calcular_operacion** que toma como argumentos dos números y una cadena que representa una operación matemática.\n",
        "\n",
        "Dentro de la función, hay un diccionario llamado **operaciones**, donde las claves son nombres de operaciones y los valores son **funciones lambda** que realizan esas operaciones matemáticas.\n",
        "\n",
        "Luego, se utiliza el método **get()** sobre el diccionario para obtener la función lambda correspondiente a la operación especificada.\n",
        "\n",
        "Si la operación no está disponible en el diccionario, se devuelve el mensaje \"Operación no disponible\".\n",
        "\n",
        "Si la operación está disponible, se llama a la función lambda con los números proporcionados como argumentos y se devuelve el resultado de la operación.\n",
        "\n",
        "Los ejemplos de uso al final del código muestran cómo llamar a la función **calcular_operacion** con diferentes operaciones y números, y se imprimen los resultados correspondientes.\n",
        "\n"
      ],
      "metadata": {
        "id": "7kAvTEpx7xv-"
      }
    },
    {
      "cell_type": "code",
      "source": [
        "def calcular_operacion(num1, num2, operacion):\n",
        "    operaciones = {\n",
        "        \"suma\": lambda x, y: x + y,\n",
        "        \"resta\": lambda x, y: x - y,\n",
        "        \"producto\": lambda x, y: x * y,\n",
        "        \"division\": lambda x, y: x / y if y != 0 else None\n",
        "    }\n",
        "    resultado = operaciones.get(operacion.lower())\n",
        "    if not resultado:\n",
        "        return \"Operación no disponible\"\n",
        "    else:\n",
        "        return resultado(num1, num2)\n",
        "\n",
        "# Ejemplo de uso\n",
        "print(calcular_operacion(5, 3, \"suma\"))      # 8\n",
        "print(calcular_operacion(5, 3, \"resta\"))     # 2\n",
        "print(calcular_operacion(5, 3, \"producto\"))  # 15\n",
        "print(calcular_operacion(6, 3, \"division\"))  # 2.0\n",
        "print(calcular_operacion(6, 0, \"division\"))  # None (debido a la división por cero)\n",
        "print(calcular_operacion(2, 3, \"elevar\"))    # Operación no disponible"
      ],
      "metadata": {
        "id": "zYj9Knje7xv-",
        "colab": {
          "base_uri": "https://localhost:8080/"
        },
        "outputId": "cc54aa8f-0b42-4614-d9ba-d11b8b57e004"
      },
      "execution_count": 17,
      "outputs": [
        {
          "output_type": "stream",
          "name": "stdout",
          "text": [
            "8\n",
            "2\n",
            "15\n",
            "2.0\n",
            "None\n",
            "Operación no disponible\n"
          ]
        }
      ]
    },
    {
      "cell_type": "markdown",
      "source": [
        "## arrastrar_reto075_p1\n",
        "Hemos creado varias versiones de una función que toma un número y devuelve una lista de tres números:\n",
        "\n",
        "1. la mitad del número\n",
        "2. un cuarto del número y\n",
        "3. un octavo del número"
      ],
      "metadata": {
        "id": "ZeU_i-Gg7xv-"
      }
    },
    {
      "cell_type": "code",
      "source": [
        "def en_partes(n):\n",
        "    return [n/2, n/4, n/8]\n",
        "\n",
        "def en_partes(n):\n",
        "    return [n / 2 **i for i in range(1, 4)]\n",
        "\n",
        "def en_partes(n):\n",
        "    return list(map(lambda x: n / x, [2, 4, 8]))\n",
        "\n",
        "print(en_partes(6))     # [3.0, 1.5, 0.75]\n",
        "print(en_partes(22))    # [11.0, 5.5, 2.75]\n",
        "print(en_partes(25))    # [12.5, 6.25, 3.125]\n",
        "print(en_partes(400))   # [200.0, 100.0, 50.0]"
      ],
      "metadata": {
        "id": "yz5BXGNi7xv-",
        "colab": {
          "base_uri": "https://localhost:8080/"
        },
        "outputId": "86b88864-de0a-4b1d-9589-987c9b30197b"
      },
      "execution_count": 18,
      "outputs": [
        {
          "output_type": "stream",
          "name": "stdout",
          "text": [
            "[3.0, 1.5, 0.75]\n",
            "[11.0, 5.5, 2.75]\n",
            "[12.5, 6.25, 3.125]\n",
            "[200.0, 100.0, 50.0]\n"
          ]
        }
      ]
    },
    {
      "cell_type": "markdown",
      "source": [
        "## arrastrar_reto075_p2\n",
        "Hemos creado una función llamada **elevar_al_cuadrado** que toma una lista como argumento.\n",
        "\n",
        "Dentro de la función, se utiliza la función **map()** junto con una **función lambda** para elevar al cuadrado cada elemento de la lista.\n",
        "\n",
        "La función lambda toma un número $x$ y devuelve su cuadrado.\n",
        "\n",
        "Luego, **map()** aplica esta función lambda a cada elemento de la lista, y el resultado se convierte en una lista usando **list()** antes de ser devuelto.\n",
        "\n",
        "Se proporcionan dos casos de uso, uno trabaja con una lista de números positivos y el otro trabaja con una lista de números negativos."
      ],
      "metadata": {
        "id": "7J00iRlO7xv-"
      }
    },
    {
      "cell_type": "code",
      "source": [
        "def elevar_al_cuadrado(lista):\n",
        "    \"\"\"Función que eleva al cuadrado cada elemento de una lista.\"\"\"\n",
        "    return list(map(lambda x: x ** 2, lista))\n",
        "\n",
        "# Caso de uso 1\n",
        "numeros = [1, 2, 3, 4, 5]\n",
        "print(elevar_al_cuadrado(numeros))            # [1, 4, 9, 16, 25]\n",
        "\n",
        "# Caso de uso 2\n",
        "numeros_negativos = [-1, -2, -3, -4, -5]\n",
        "print(elevar_al_cuadrado(numeros_negativos))  # [1, 4, 9, 16, 25]"
      ],
      "metadata": {
        "id": "txU0eCQj7xv-",
        "colab": {
          "base_uri": "https://localhost:8080/"
        },
        "outputId": "323900c0-c417-476e-b201-2b08332acf7a"
      },
      "execution_count": 19,
      "outputs": [
        {
          "output_type": "stream",
          "name": "stdout",
          "text": [
            "[1, 4, 9, 16, 25]\n",
            "[1, 4, 9, 16, 25]\n"
          ]
        }
      ]
    },
    {
      "cell_type": "markdown",
      "source": [
        "## arrastrar_reto076_p1\n",
        "Hemos creado varias versiones de una función que recibe una lista de números enteros y retorna cuántos son mayores o iguales a 10."
      ],
      "metadata": {
        "id": "z7FWr31o7xv_"
      }
    },
    {
      "cell_type": "code",
      "source": [
        "def mayores_a_diez(lista):\n",
        "    contador = 0    # inicializamos el contador\n",
        "    for numero in lista:\n",
        "        if numero >= 10:\n",
        "            contador += 1\n",
        "    return contador\n",
        "\n",
        "def mayores_a_diez(lista):\n",
        "    return sum([1 for numero in lista if numero >= 10])\n",
        "\n",
        "def mayores_a_diez(lista):\n",
        "    return len(list(filter(lambda x: x >= 10, lista)))\n",
        "\n",
        "def mayores_a_diez(lista):\n",
        "    return sum(map(lambda x: x >= 10, lista))\n",
        "\n",
        "print(mayores_a_diez([7, 10, 24, 1, 50]))   # 3\n",
        "print(mayores_a_diez([1, 2, 20]))           # 1\n",
        "print(mayores_a_diez([-1, 12, 20, 30]))     # 3\n",
        "print(mayores_a_diez([]))                   # 0"
      ],
      "metadata": {
        "id": "5gRWYz9E7xv_",
        "colab": {
          "base_uri": "https://localhost:8080/"
        },
        "outputId": "a0918d4c-25bc-412f-c770-e69565a40ee2"
      },
      "execution_count": 20,
      "outputs": [
        {
          "output_type": "stream",
          "name": "stdout",
          "text": [
            "3\n",
            "1\n",
            "3\n",
            "0\n"
          ]
        }
      ]
    },
    {
      "cell_type": "markdown",
      "source": [
        "## arrastrar_reto076_p2\n",
        "Este código genera una lista de números aleatorios utilizando la función **genera_lista** y luego utiliza la función separa_lista para separar esta lista en dos listas diferentes, una para los números pares y otra para los impares.\n",
        "\n",
        "La función **genera_lista(n)** genera una lista de longitud n con números aleatorios entre 0 y 9 utilizando la función **randint(0, 9)** de la librería **random**.\n",
        "\n",
        "La función **separa_lista(lista)** toma una lista como entrada y utiliza **filter** junto con **funciones lambda** para filtrar los números pares e impares de la lista. Luego, devuelve dos listas, una con los números pares y otra con los impares.\n",
        "\n",
        "Finalmente, se generan 10 números aleatorios utilizando **genera_lista(10)**, se separan en números pares e impares utilizando  , y se imprime la lista original junto con las listas de números pares e impares resultantes.\n",
        "\n",
        "Un ejemplo de uso con números aleatorios es este:\n",
        "\n",
        "* Numeros: `[5, 9, 4, 6, 2, 9, 4, 6, 5, 4]`\n",
        "* Pares: `[4, 6, 2, 4, 6, 4]`\n",
        "* Impares: `[5, 9, 9, 5]`"
      ],
      "metadata": {
        "id": "xjjJi4pT7xv_"
      }
    },
    {
      "cell_type": "code",
      "source": [
        "from random import randint\n",
        "\n",
        "def genera_lista(n):\n",
        "    return [randint(0, 9) for _ in range(n)]\n",
        "\n",
        "def separa_lista(lista):\n",
        "    pares = list(filter(lambda x: x % 2 == 0, lista))\n",
        "    impares = list(filter(lambda x: x % 2 != 0, lista))\n",
        "    return pares, impares\n",
        "\n",
        "numeros = genera_lista(10)\n",
        "lista_pares, lista_impares = separa_lista(numeros)\n",
        "print(\"Numeros:\", numeros)\n",
        "print(\"Pares:  \", lista_pares)\n",
        "print(\"Impares:\", lista_impares)"
      ],
      "metadata": {
        "id": "1fd5yAN97xv_",
        "colab": {
          "base_uri": "https://localhost:8080/"
        },
        "outputId": "9363d7fc-ad21-4283-f589-f3d5e04321de"
      },
      "execution_count": 21,
      "outputs": [
        {
          "output_type": "stream",
          "name": "stdout",
          "text": [
            "Numeros: [7, 8, 2, 7, 7, 0, 3, 4, 2, 7]\n",
            "Pares:   [8, 2, 0, 4, 2]\n",
            "Impares: [7, 7, 7, 3, 7]\n"
          ]
        }
      ]
    },
    {
      "cell_type": "markdown",
      "source": [
        "## arrastrar_reto077_p1\n",
        "Hemos creado varias versiones de una función que acepta una lista de números y devuelva los números mínimo y máximo, en ese orden (como una lista)."
      ],
      "metadata": {
        "id": "Chofsxxh7xv_"
      }
    },
    {
      "cell_type": "code",
      "source": [
        "# Método 1. Usando max, min\n",
        "def min_max(lista):\n",
        "    return [min(lista), max(lista)]\n",
        "\n",
        "# Método 2. Usando for in\n",
        "def min_max(lista):\n",
        "    mayor = menor = lista[0]  # inicializando variables\n",
        "    for num in lista:\n",
        "        if num > mayor:\n",
        "            mayor = num\n",
        "        elif num < menor:\n",
        "            menor = num\n",
        "    return [menor, mayor]\n",
        "\n",
        "print(min_max([1, 2, 3, 4, 5])) # [1, 5]\n",
        "print(min_max([200, 5]))        # [5, 200]\n",
        "print(min_max([1]))             # [1, 1]"
      ],
      "metadata": {
        "id": "CjwMMcAb7xv_",
        "colab": {
          "base_uri": "https://localhost:8080/"
        },
        "outputId": "dc0b2f5b-724e-4f46-c3b4-e20e078e35cc"
      },
      "execution_count": 22,
      "outputs": [
        {
          "output_type": "stream",
          "name": "stdout",
          "text": [
            "[1, 5]\n",
            "[5, 200]\n",
            "[1, 1]\n"
          ]
        }
      ]
    },
    {
      "cell_type": "markdown",
      "source": [
        "## arrastrar_reto077_p2\n",
        "Hemos creado varias versiones de una función que acepta una lista de números y devuelva los números mínimo y máximo, en ese orden (como una lista)."
      ],
      "metadata": {
        "id": "vOC_ynKO7xv_"
      }
    },
    {
      "cell_type": "code",
      "source": [
        "# Método 1. Usando max, min\n",
        "def min_max(lista):\n",
        "    return [min(lista), max(lista)]\n",
        "\n",
        "# Método 2. Usando operadores ternarios\n",
        "def min_max(lista):\n",
        "    mayor = menor = lista[0]  # inicializando variables\n",
        "    for num in lista:\n",
        "        menor = num if num < menor else menor\n",
        "        mayor = num if num > mayor else mayor\n",
        "    return [menor, mayor]\n",
        "\n",
        "print(min_max([1, 2, 3, 4, 5])) # [1, 5]\n",
        "print(min_max([200, 5]))        # [5, 200]\n",
        "print(min_max([1]))             # [1, 1]"
      ],
      "metadata": {
        "id": "jXOf8sHe7xv_",
        "colab": {
          "base_uri": "https://localhost:8080/"
        },
        "outputId": "217c234b-f0ff-43f2-9c4f-46096f1eac03"
      },
      "execution_count": 23,
      "outputs": [
        {
          "output_type": "stream",
          "name": "stdout",
          "text": [
            "[1, 5]\n",
            "[5, 200]\n",
            "[1, 1]\n"
          ]
        }
      ]
    },
    {
      "cell_type": "markdown",
      "source": [
        "## arrastrar_reto078_p1\n",
        "Hemos creado varias versiones de una función que devuelve `True` si una cadena contiene espacios.\n",
        "\n",
        "Una cadena vacía no contiene espacios."
      ],
      "metadata": {
        "id": "0BSMGUCs7xv_"
      }
    },
    {
      "cell_type": "code",
      "source": [
        "# Método 1\n",
        "def tiene_espacios(cadena):\n",
        "    return ' ' in cadena\n",
        "\n",
        "# Método 2. Con any\n",
        "def tiene_espacios(cadena):\n",
        "    return any(caracter == ' ' for caracter in cadena)\n",
        "\n",
        "print(tiene_espacios(\"¿Qué tal estás?\"))    # True\n",
        "print(tiene_espacios(\" \"))                  # True\n",
        "print(tiene_espacios(\"\"))                   # False\n",
        "print(tiene_espacios(\"hola\"))               # False\n",
        "print(tiene_espacios(\",./!@#\"))             # False"
      ],
      "metadata": {
        "id": "ibfGPkHy7xv_"
      },
      "execution_count": null,
      "outputs": []
    },
    {
      "cell_type": "markdown",
      "source": [
        "## arrastrar_reto078_p2\n",
        "Hemos creado varias versiones de una función que devuelve `True` si una cadena contiene espacios.\n",
        "\n",
        "Una cadena vacía no contiene espacios."
      ],
      "metadata": {
        "id": "aAlPlsFv7xv_"
      }
    },
    {
      "cell_type": "code",
      "source": [
        "# Método 1\n",
        "def tiene_espacios(cadena):\n",
        "    return ' ' in cadena\n",
        "\n",
        "# Método 2. Con any y con isspace\n",
        "def tiene_espacios(cadena):\n",
        "    return any(caracter.isspace() for caracter in cadena)\n",
        "\n",
        "print(tiene_espacios(\"¿Qué tal estás?\"))    # True\n",
        "print(tiene_espacios(\" \"))                  # True\n",
        "print(tiene_espacios(\"\"))                   # False\n",
        "print(tiene_espacios(\"hola\"))               # False\n",
        "print(tiene_espacios(\",./!@#\"))             # False"
      ],
      "metadata": {
        "id": "e7wkWtZJ7xv_",
        "colab": {
          "base_uri": "https://localhost:8080/"
        },
        "outputId": "474bcf0c-b7df-471b-adf6-5380cba7eec4"
      },
      "execution_count": 24,
      "outputs": [
        {
          "output_type": "stream",
          "name": "stdout",
          "text": [
            "True\n",
            "True\n",
            "False\n",
            "False\n",
            "False\n"
          ]
        }
      ]
    },
    {
      "cell_type": "markdown",
      "source": [
        "## arrastrar_reto079_p1\n",
        "Hemos creado varias versiones de una función que cuenta cuántas 'D' hay en una oración.\n",
        "\n",
        "En el cálculo computan tanto las letras D mayúsculas como las minúsculas."
      ],
      "metadata": {
        "id": "fmsZNiED7xv_"
      }
    },
    {
      "cell_type": "code",
      "source": [
        "# Método 1. Con la función count()\n",
        "def cuenta_d(frase):\n",
        "    return frase.lower().count('d')\n",
        "\n",
        "# Método 2. Con un bucle y un contador\n",
        "def cuenta_d(frase):\n",
        "    contador = 0\n",
        "    for letra in frase:\n",
        "        if letra.lower() == 'd':\n",
        "            contador += 1\n",
        "    return contador\n",
        "\n",
        "# Método 3. Con map\n",
        "def cuenta_d(frase):\n",
        "    return sum(map(lambda x: x in 'dD', frase))\n",
        "\n",
        "print(cuenta_d(\"Defender la democracia es decisivo\"))    # 4\n",
        "print(cuenta_d(\"Olvidamos deberes pero no derechos\"))    # 3\n",
        "print(cuenta_d(\"Eduardo hizo una despedida el domingo\")) # 6"
      ],
      "metadata": {
        "id": "s5Q4T23r7xv_",
        "colab": {
          "base_uri": "https://localhost:8080/"
        },
        "outputId": "d7e221e9-e399-46b2-9034-4824260fbdf9"
      },
      "execution_count": 25,
      "outputs": [
        {
          "output_type": "stream",
          "name": "stdout",
          "text": [
            "4\n",
            "3\n",
            "6\n"
          ]
        }
      ]
    },
    {
      "cell_type": "markdown",
      "source": [
        "## arrastrar_reto079_p2\n",
        "Hemos creado varias versiones de una función que cuenta cuántas 'D' hay en una oración.\n",
        "\n",
        "En el cálculo computan tanto las letras D mayúsculas como las minúsculas."
      ],
      "metadata": {
        "id": "7zEAjRDa7xv_"
      }
    },
    {
      "cell_type": "code",
      "source": [
        "# Método 1. Con la función count()\n",
        "def cuenta_d(frase):\n",
        "    return frase.lower().count('d')\n",
        "\n",
        "# Método 2. Sumando un generador de unos y sin usar lower()\n",
        "def cuenta_d(frase):\n",
        "    return sum(1 for letra in frase if letra == 'd' or letra == 'D')\n",
        "\n",
        "# Método 3. Con filter\n",
        "def cuenta_d(frase):\n",
        "    return len(list(filter(lambda x: x.lower() == 'd', frase)))\n",
        "\n",
        "print(cuenta_d(\"Defender la democracia es decisivo\"))    # 4\n",
        "print(cuenta_d(\"Olvidamos deberes pero no derechos\"))    # 3\n",
        "print(cuenta_d(\"Eduardo hizo una despedida el domingo\")) # 6"
      ],
      "metadata": {
        "id": "NlNWRF6L7xv_",
        "colab": {
          "base_uri": "https://localhost:8080/"
        },
        "outputId": "2cf80adc-c4d4-4888-eac3-ae4c28b4e208"
      },
      "execution_count": 26,
      "outputs": [
        {
          "output_type": "stream",
          "name": "stdout",
          "text": [
            "4\n",
            "3\n",
            "6\n"
          ]
        }
      ]
    },
    {
      "cell_type": "markdown",
      "source": [
        "## arrastrar_reto080_p1\n",
        "Muchos IDs (para darse de alta en páginas o aplicaciones) se crean utilizando el nombre de la persona.\n",
        "\n",
        "Hemos creado varias versiones de una función que retorna una identificación de cuatro caracteres utilizando el nombre y apellido de la persona.\n",
        "\n",
        "El primer carácter será la primera letra del nombre pero en minúsculas.\n",
        "\n",
        "Los siguientes tres caracteres serán los primeros tres caracteres del apellido, donde la primera letra estará en mayúscula y las otras dos en minúsculas."
      ],
      "metadata": {
        "id": "UZezrfBX856G"
      }
    },
    {
      "cell_type": "code",
      "source": [
        "def crear_id(nombre, apellido):\n",
        "    return nombre[0].lower() + apellido[0].upper() + apellido[1:3].lower()\n",
        "\n",
        "def crear_id(nombre, apellido):\n",
        "    return nombre[0].lower() + apellido[:3].capitalize()\n",
        "\n",
        "print(crear_id(\"maría\", \"ruiz\"))       # mRui\n",
        "print(crear_id(\"Juan\", \"Martín\"))      # jMar\n",
        "print(crear_id(\"Andrew\", \"McDonald\"))  # aMcd"
      ],
      "metadata": {
        "id": "PZmPrwAA856N",
        "colab": {
          "base_uri": "https://localhost:8080/"
        },
        "outputId": "734861cd-ae6b-4d11-c178-e62832169e15"
      },
      "execution_count": 27,
      "outputs": [
        {
          "output_type": "stream",
          "name": "stdout",
          "text": [
            "mRui\n",
            "jMar\n",
            "aMcd\n"
          ]
        }
      ]
    },
    {
      "cell_type": "markdown",
      "source": [
        "## arrastrar_reto080_p2\n",
        "Muchos IDs (para darse de alta en páginas o aplicaciones) se crean utilizando el nombre de la persona.\n",
        "\n",
        "Hemos creado varias versiones de una función que retorna una identificación de cuatro caracteres utilizando el nombre y apellido de la persona.\n",
        "\n",
        "El primer carácter será la primera letra del nombre pero en minúsculas.\n",
        "\n",
        "Los siguientes tres caracteres serán los primeros tres caracteres del apellido, donde la primera letra estará en mayúscula y las otras dos en minúsculas."
      ],
      "metadata": {
        "id": "YIfuR6ru856N"
      }
    },
    {
      "cell_type": "code",
      "source": [
        "def crear_id(nombre, apellido):\n",
        "    return nombre[0].lower() + apellido[0].upper() + apellido[1:3].lower()\n",
        "\n",
        "def crear_id(nombre, apellido):\n",
        "    return f\"{nombre[0].lower()}{apellido.title()[:3]}\"\n",
        "\n",
        "print(crear_id(\"maría\", \"ruiz\"))       # mRui\n",
        "print(crear_id(\"Juan\", \"Martín\"))      # jMar\n",
        "print(crear_id(\"Andrew\", \"McDonald\"))  # aMcd"
      ],
      "metadata": {
        "id": "uiKNTeG2856N",
        "colab": {
          "base_uri": "https://localhost:8080/"
        },
        "outputId": "53ba0e4b-561c-4396-8e23-a573f2cd4633"
      },
      "execution_count": 28,
      "outputs": [
        {
          "output_type": "stream",
          "name": "stdout",
          "text": [
            "mRui\n",
            "jMar\n",
            "aMcd\n"
          ]
        }
      ]
    },
    {
      "cell_type": "markdown",
      "source": [
        "## arrastrar_reto081_p1\n",
        "Dada una lista de números como por ejemplo:\n",
        "\n",
        "lista = `[10, 20, 30, 40, 50]`\n",
        "\n",
        "deseamos recoger el contenido de la lista en tres variables:\n",
        "\n",
        "1. primero ➞ 10\n",
        "2. segundo ➞ 20\n",
        "3.resto ➞ [30, 40, 50]\n",
        "\n",
        "La función debe retornar el contenido de las tres variables separado por comas.\n",
        "\n",
        "Hemos creado varias versiones de una función que realiza este cometido."
      ],
      "metadata": {
        "id": "9ugxryQr856N"
      }
    },
    {
      "cell_type": "code",
      "source": [
        "def separa(lista):\n",
        "    primero, segundo, *resto = lista\n",
        "    return f\"{primero}, {segundo}, {resto}\"\n",
        "\n",
        "def separa(lista):\n",
        "    return f\"{lista[0]}, {lista[1]}, {lista[2:]}\"\n",
        "\n",
        "print(separa([10, 20, 30, 40, 50]))    # 10, 20, [30, 40, 50]\n",
        "print(separa([7, 8, 9, 10, 11, 99]))   # 7, 8, [9, 10, 11, 99]"
      ],
      "metadata": {
        "id": "k7xompp5856N",
        "colab": {
          "base_uri": "https://localhost:8080/"
        },
        "outputId": "1f0ac68d-b26b-445a-9348-fc24cefa6d85"
      },
      "execution_count": 29,
      "outputs": [
        {
          "output_type": "stream",
          "name": "stdout",
          "text": [
            "10, 20, [30, 40, 50]\n",
            "7, 8, [9, 10, 11, 99]\n"
          ]
        }
      ]
    },
    {
      "cell_type": "markdown",
      "source": [
        "## arrastrar_reto081_p2\n",
        "Disponemos de dos usos del operador asterisco."
      ],
      "metadata": {
        "id": "H9nPsxC1856N"
      }
    },
    {
      "cell_type": "code",
      "source": [
        "# USO 1º del operador asterisco\n",
        "# Desempaquetado de una lista\n",
        "def desempaquetar_lista(lista):\n",
        "    a, *b, c = lista\n",
        "    return a, b, c\n",
        "\n",
        "# Ejemplo de uso de la función\n",
        "lista = [1, 2, 3, 4, 5]\n",
        "resultado = desempaquetar_lista(lista)\n",
        "print(resultado[0])  # 1 (primer valor de la lista)\n",
        "print(resultado[1])  # [2, 3, 4] (valores centrales)\n",
        "print(resultado[2])  # 5 (último valor de la lista)\n",
        "\n",
        "\n",
        "# USO 2º del operador asterisco\n",
        "# Uso de *args para aceptar un número variable de argumentos\n",
        "def suma(*args):\n",
        "    total = 0  # inicializamos la variable\n",
        "    for num in args:\n",
        "        total += num  # vamos acumulando numeros\n",
        "    return total\n",
        "\n",
        "resultado = suma(1, 2, 3, 4, 5)\n",
        "print(resultado)  # 15"
      ],
      "metadata": {
        "id": "0KfjEF6_856O",
        "colab": {
          "base_uri": "https://localhost:8080/"
        },
        "outputId": "c10ea4d5-fa3e-4443-a7b0-82f2da3be593"
      },
      "execution_count": 30,
      "outputs": [
        {
          "output_type": "stream",
          "name": "stdout",
          "text": [
            "1\n",
            "[2, 3, 4]\n",
            "5\n",
            "15\n"
          ]
        }
      ]
    },
    {
      "cell_type": "markdown",
      "source": [
        "## arrastrar_reto082_p1\n",
        "Hemos creado varias versiones de una función que recibe una secuencia de números enteros en forma de lista.\n",
        "\n",
        "La función identifica y devuelve una lista con aquellos números que son simultáneamente múltiplos de 3 y múltiplos de 5."
      ],
      "metadata": {
        "id": "CK0KQ1_L856O"
      }
    },
    {
      "cell_type": "code",
      "source": [
        "def multiplos_de_3_y_5(lista):\n",
        "    multiplos = []  # incializamos una lista vacía\n",
        "    for numero in lista:\n",
        "        if numero % 3 == 0 and numero % 5 == 0:\n",
        "            multiplos.append(numero)\n",
        "    return multiplos\n",
        "\n",
        "def multiplos_de_3_y_5(lista):\n",
        "    return [num for num in lista if num % 15 == 0]\n",
        "\n",
        "print(multiplos_de_3_y_5([1, 200, 300, 45, 500, 1000, 150, 600]))  # [300, 45, 150, 600]\n",
        "print(multiplos_de_3_y_5([15, 20, 25, 30, 35, 40]))                # [15, 30]\n",
        "print(multiplos_de_3_y_5([16, 17, 18]))                            # []\n",
        "print(multiplos_de_3_y_5([]))                                      # []"
      ],
      "metadata": {
        "id": "B8xy0Shj856O",
        "colab": {
          "base_uri": "https://localhost:8080/"
        },
        "outputId": "f55cda19-34ba-4f3d-d99b-8ea8cbb53f03"
      },
      "execution_count": 31,
      "outputs": [
        {
          "output_type": "stream",
          "name": "stdout",
          "text": [
            "[300, 45, 150, 600]\n",
            "[15, 30]\n",
            "[]\n",
            "[]\n"
          ]
        }
      ]
    },
    {
      "cell_type": "markdown",
      "source": [
        "## arrastrar_reto082_p2\n",
        "Hemos creado varias versiones de una función que recibe una secuencia de números enteros en forma de lista.\n",
        "\n",
        "La función identifica y devuelve una lista con aquellos números que son simultáneamente múltiplos de 3 y múltiplos de 5."
      ],
      "metadata": {
        "id": "EOlZI558856O"
      }
    },
    {
      "cell_type": "code",
      "source": [
        "def multiplos_de_3_y_5(lista):\n",
        "    multiplos = []  # incializamos una lista vacía\n",
        "    for numero in lista:\n",
        "        if numero % 3 == 0 and numero % 5 == 0:\n",
        "            multiplos.append(numero)\n",
        "    return multiplos\n",
        "\n",
        "def multiplos_de_3_y_5(lista):\n",
        "    es_multiplo_de_15 = lambda x: x % 15 == 0\n",
        "    multiplos = list(filter(es_multiplo_de_15, lista))\n",
        "    return multiplos\n",
        "\n",
        "print(multiplos_de_3_y_5([1, 200, 300, 45, 500, 1000, 150, 600]))  # [300, 45, 150, 600]\n",
        "print(multiplos_de_3_y_5([15, 20, 25, 30, 35, 40]))                # [15, 30]\n",
        "print(multiplos_de_3_y_5([16, 17, 18]))                            # []\n",
        "print(multiplos_de_3_y_5([]))                                      # []"
      ],
      "metadata": {
        "id": "lQAeA4hm856O",
        "colab": {
          "base_uri": "https://localhost:8080/"
        },
        "outputId": "ab471d88-ed31-48a0-8ed3-eb97c3a25c45"
      },
      "execution_count": 32,
      "outputs": [
        {
          "output_type": "stream",
          "name": "stdout",
          "text": [
            "[300, 45, 150, 600]\n",
            "[15, 30]\n",
            "[]\n",
            "[]\n"
          ]
        }
      ]
    },
    {
      "cell_type": "markdown",
      "source": [
        "## arrastrar_reto083_p1\n",
        "Tenemos dos funciones.\n",
        "\n",
        "La primera función se llama **todos_verdaderos** y recibe por parámetro una lista de booleanos.\n",
        "\n",
        "Esta función solo retorna `True` si todos los booleanos de la lista son `True`, en cualquier otro caso retorna `False`.\n",
        "\n",
        "La segunda función se llama **alguno_verdadero** y recibe por parémetro una lista de booleanos.\n",
        "\n",
        "Esta función solo retorna `False` si todos los booleanos de la lista son `False`, en cualquier otro caso retorna `True`."
      ],
      "metadata": {
        "id": "QmfFLwLk856O"
      }
    },
    {
      "cell_type": "code",
      "source": [
        "caso_a = [True, True, True, True]       # todos True\n",
        "caso_b = [False, False, False, False]   # todos False\n",
        "caso_c = [True, False, True, False]     # algunos True, otros False\n",
        "\n",
        "def todos_verdaderos(lista):\n",
        "    return all(lista)\n",
        "\n",
        "def alguno_verdadero(lista):\n",
        "    [a, b, c, d] = lista\n",
        "    return bool(a or b or c or d)\n",
        "\n",
        "print(todos_verdaderos(caso_a))     # True\n",
        "print(todos_verdaderos(caso_b))     # False\n",
        "print(todos_verdaderos(caso_c))     # False\n",
        "print()\n",
        "print(alguno_verdadero(caso_a))     # True\n",
        "print(alguno_verdadero(caso_b))     # False\n",
        "print(alguno_verdadero(caso_c))     # True"
      ],
      "metadata": {
        "id": "ZTr8cj1U856O",
        "colab": {
          "base_uri": "https://localhost:8080/"
        },
        "outputId": "107170e2-3766-4459-e9d7-a9f1d6874597"
      },
      "execution_count": 33,
      "outputs": [
        {
          "output_type": "stream",
          "name": "stdout",
          "text": [
            "True\n",
            "False\n",
            "False\n",
            "\n",
            "True\n",
            "False\n",
            "True\n"
          ]
        }
      ]
    },
    {
      "cell_type": "markdown",
      "source": [
        "## arrastrar_reto083_p2\n",
        "Tenemos dos funciones.\n",
        "\n",
        "La primera función se llama **todos_verdaderos** y recibe por parámetro una lista de booleanos.\n",
        "\n",
        "Esta función solo retorna `True` si todos los booleanos de la lista son `True`, en cualquier otro caso retorna `False`.\n",
        "\n",
        "La segunda función se llama **alguno_verdadero** y recibe por parémetro una lista de booleanos.\n",
        "\n",
        "Esta función solo retorna `False` si todos los booleanos de la lista son `False`, en cualquier otro caso retorna `True`."
      ],
      "metadata": {
        "id": "7MZm-rFj856O"
      }
    },
    {
      "cell_type": "code",
      "source": [
        "caso_a = [True, True, True, True]       # todos True\n",
        "caso_b = [False, False, False, False]   # todos False\n",
        "caso_c = [True, False, True, False]     # algunos True, otros False\n",
        "\n",
        "def todos_verdaderos(lista):\n",
        "    [a, b, c, d] = lista\n",
        "    return bool(a and b and c and d)\n",
        "\n",
        "def alguno_verdadero(lista):\n",
        "    return any(lista)\n",
        "\n",
        "print(todos_verdaderos(caso_a))     # True\n",
        "print(todos_verdaderos(caso_b))     # False\n",
        "print(todos_verdaderos(caso_c))     # False\n",
        "print()\n",
        "print(alguno_verdadero(caso_a))     # True\n",
        "print(alguno_verdadero(caso_b))     # False\n",
        "print(alguno_verdadero(caso_c))     # True"
      ],
      "metadata": {
        "id": "hWJeW4Pm856O",
        "colab": {
          "base_uri": "https://localhost:8080/"
        },
        "outputId": "65e68520-376a-48c1-a1e2-bf26d2da3650"
      },
      "execution_count": 34,
      "outputs": [
        {
          "output_type": "stream",
          "name": "stdout",
          "text": [
            "True\n",
            "False\n",
            "False\n",
            "\n",
            "True\n",
            "False\n",
            "True\n"
          ]
        }
      ]
    },
    {
      "cell_type": "markdown",
      "source": [
        "## arrastrar_reto084_p1\n",
        "Hemos creado varias versiones de una función que devuelve `True` si todos los parámetros son verdaderos y `False` en caso contrario."
      ],
      "metadata": {
        "id": "6krJk0Wm856O"
      }
    },
    {
      "cell_type": "code",
      "source": [
        "def todos_verdaderos(*args):\n",
        "    return all(args)\n",
        "\n",
        "def todos_verdaderos(*args):\n",
        "    for elemento in args:\n",
        "        if not elemento:\n",
        "            return False\n",
        "    return True\n",
        "\n",
        "print(todos_verdaderos(True, True, True))        # True\n",
        "print(todos_verdaderos(True, False, True))       # False\n",
        "print(todos_verdaderos(5, 4, 3, 2, 1, 0))\t\t # False\n",
        "print(todos_verdaderos(1, 1, 1, 1, 1, 1, 1, 1))  # True\n",
        "print(todos_verdaderos(1, 1, 1, 1, 1, 1, 1, 2))  # True"
      ],
      "metadata": {
        "id": "pK7yYKpr856O",
        "colab": {
          "base_uri": "https://localhost:8080/"
        },
        "outputId": "01926e33-e070-4741-cdab-0eb7dce73139"
      },
      "execution_count": 35,
      "outputs": [
        {
          "output_type": "stream",
          "name": "stdout",
          "text": [
            "True\n",
            "False\n",
            "False\n",
            "True\n",
            "True\n"
          ]
        }
      ]
    },
    {
      "cell_type": "markdown",
      "source": [
        "## arrastrar_reto084_p2\n",
        "Hemos creado una función que recibe un número indeterminado de argumentos en forma de cadena y retorna todos ellos concatenados."
      ],
      "metadata": {
        "id": "zDHRHu2y856O"
      }
    },
    {
      "cell_type": "code",
      "source": [
        "def concatenar_strings(*strings):\n",
        "    \"\"\"\n",
        "    Esta función toma un número indeterminado de argumentos tipo string\n",
        "    y devuelve la concatenación de todos ellos.\n",
        "    \"\"\"\n",
        "    concatenacion = \"\"\n",
        "    for string in strings:\n",
        "        concatenacion += string\n",
        "    return concatenacion\n",
        "\n",
        "# Ejemplo de uso de la función\n",
        "print(concatenar_strings(\"Hola\", \" \", \"mundo\"))\n",
        "print(concatenar_strings(\"Python\", \" es\", \" \", \"genial\"))\n",
        "print(concatenar_strings(\"¡Hola!\", \" \", \"¿cómo\", \" \", \"estás?\"))"
      ],
      "metadata": {
        "id": "guC5O1pn856O",
        "colab": {
          "base_uri": "https://localhost:8080/"
        },
        "outputId": "16ca0b4f-b9da-4d44-a5c3-50d65bc75c80"
      },
      "execution_count": 36,
      "outputs": [
        {
          "output_type": "stream",
          "name": "stdout",
          "text": [
            "Hola mundo\n",
            "Python es genial\n",
            "¡Hola! ¿cómo estás?\n"
          ]
        }
      ]
    },
    {
      "cell_type": "markdown",
      "source": [
        "## arrastrar_reto085_p1\n",
        "Hemos creado varias versiones de una función que permite convertir cierta cantidad de Euros en dólares estadounidenses (USD).\n",
        "\n",
        "Se ha de tomar el cambio de 1 dolar equivalente a 0,9218 Euros.\n",
        "\n",
        "El resultado se redondeará a dos decimales."
      ],
      "metadata": {
        "id": "DSbwEFGf856O"
      }
    },
    {
      "cell_type": "code",
      "source": [
        "def euro_a_usd(euros):\n",
        "    return round(euros / 0.9218, 2)\n",
        "\n",
        "def euro_a_usd(euros):\n",
        "    cambio = euros / 0.9218\n",
        "    return f\"{cambio:.2f}\"\n",
        "\n",
        "print(euro_a_usd(1))       # 1.08\n",
        "print(euro_a_usd(500))     # 542.42\n",
        "print(euro_a_usd(10_000))  # 10848.34"
      ],
      "metadata": {
        "id": "Tl6ttI4J856O",
        "colab": {
          "base_uri": "https://localhost:8080/"
        },
        "outputId": "40464dcd-34c3-48b5-ce9e-5e40969236fd"
      },
      "execution_count": 37,
      "outputs": [
        {
          "output_type": "stream",
          "name": "stdout",
          "text": [
            "1.08\n",
            "542.42\n",
            "10848.34\n"
          ]
        }
      ]
    },
    {
      "cell_type": "markdown",
      "source": [
        "## arrastrar_reto085_p2\n",
        "Disponemos de dos versiones de una función que calcula la mensualidad que hay que pagar periódicamente para llegar a amortizar un préstamo hipotecario.\n",
        "\n",
        "Disponemos de dos casos de uso donde ambos logran imprimir el importe mensual a pagar mostrando la cifra redondeada a dos decimales."
      ],
      "metadata": {
        "id": "llmcm24z856O"
      }
    },
    {
      "cell_type": "code",
      "source": [
        "def calcular_pago_hipoteca(monto_prestamo, tasa_interes_anual, meses):\n",
        "    tasa_mensual = tasa_interes_anual / 12 / 100\n",
        "    pago_mensual = monto_prestamo * (tasa_mensual / (1 - (1 + tasa_mensual) ** -meses))\n",
        "    return round(pago_mensual, 2)   # redondeamos a dos decimales\n",
        "\n",
        "def calcular_pago_hipoteca(monto, tasa_interes_anual, meses):\n",
        "    tasa_mensual = tasa_interes_anual / 12 / 100\n",
        "    pago_mensual = monto * (tasa_mensual / (1 - (1 + tasa_mensual) ** -meses))\n",
        "    return f\"{pago_mensual:.2f}\"   # mostrando dos decimales redondeados\n",
        "\n",
        "# Primer ejemplo de uso\n",
        "monto = 200_000  # Monto del préstamo, importe prestado en euros\n",
        "tasa_interes_anual = 4.5  # Tasa de interés anual en porcentaje\n",
        "duracion = 30  # Duración del préstamo en años\n",
        "\n",
        "pago_mensual = calcular_pago_hipoteca(monto, tasa_interes_anual, duracion * 12)\n",
        "print(\"El pago mensual de la hipoteca será de \" + str(pago_mensual) + \" €.\")\n",
        "# Se imprime: El pago mensual de la hipoteca será de 1013.37 €.\n",
        "\n",
        "# Segundo ejemplo de uso\n",
        "principal = 300_000  # Importe del principal del prestamo en euros\n",
        "tin = 3.5  # Tipo de interés anual\n",
        "anyos = 25  # Duración del préstamo en años\n",
        "\n",
        "mensualidad = calcular_pago_hipoteca(principal, tin, anyos * 12)\n",
        "print(f\"El pago mensual de la hipoteca será de {mensualidad} €.\")\n",
        "# Se imprime: El pago mensual de la hipoteca será de 1501.87 €."
      ],
      "metadata": {
        "id": "mALAS2Uk856O",
        "colab": {
          "base_uri": "https://localhost:8080/"
        },
        "outputId": "f7a5931c-49bc-4f7d-f4b0-dd1cd0c52d2e"
      },
      "execution_count": 39,
      "outputs": [
        {
          "output_type": "stream",
          "name": "stdout",
          "text": [
            "El pago mensual de la hipoteca será de 1013.37 €.\n",
            "El pago mensual de la hipoteca será de 1501.87 €.\n"
          ]
        }
      ]
    },
    {
      "cell_type": "markdown",
      "source": [
        "## arrastrar_reto086_p1\n",
        "Hemos creado varias versiones de una función que verifica si es seguro caminar sobre un puente, es decir, si no hay espacios que representen huecos por los que se pueda caer."
      ],
      "metadata": {
        "id": "PHg01KpQ856O"
      }
    },
    {
      "cell_type": "code",
      "source": [
        "def puente_seguro(puente):\n",
        "    return ' ' not in puente\n",
        "\n",
        "def puente_seguro(puente):\n",
        "    return all(char != ' ' for char in puente)\n",
        "\n",
        "def puente_seguro(puente):\n",
        "    return len(puente) == len(puente.replace(' ', ''))\n",
        "\n",
        "print(puente_seguro(\"####\"))      # True\n",
        "print(puente_seguro(\"## ####\"))   # False\n",
        "print(puente_seguro(\"#\"))         # True\n",
        "print(puente_seguro(\"## ##  ##\")) # False\n",
        "print(puente_seguro(\"\"))          # True\n",
        "print(puente_seguro(\" ####\"))     # False"
      ],
      "metadata": {
        "id": "_8CAfvOK856O",
        "colab": {
          "base_uri": "https://localhost:8080/"
        },
        "outputId": "d11ccbbf-d732-46cd-96d0-10f80d072291"
      },
      "execution_count": 44,
      "outputs": [
        {
          "output_type": "stream",
          "name": "stdout",
          "text": [
            "True\n",
            "False\n",
            "True\n",
            "False\n",
            "True\n",
            "False\n"
          ]
        }
      ]
    },
    {
      "cell_type": "markdown",
      "source": [
        "## arrastrar_reto086_p2\n",
        "Deseamos detectar si dos números son iguales.\n",
        "\n",
        "Tenemos una lista con varios elementos y deseamos saber si todos ellos tienen el mismo valor y éste es igual a un número entero dado $n$.\n",
        "\n",
        "Si $n=2$ y la lista es:\n",
        "\n",
        "`[1+1, 6/3, 7//3, int(\"2\"), 17 % 5, --2]`\n",
        "\n",
        "el resultado de la función debería ser `True` ya que todos los elementos son iguales a $n$, que es 2.\n",
        "\n",
        "Si a la lista añadimos un elemento más que es la cadena \"2\" el resultado de la función sería `False` ya que no se cumple que \"2\" como string sea lo mismo que 2 como número entero.\n",
        "\n",
        "Si todos son iguales a $n$ devuelve `True` y en caso contrario devuelve `False`.\n",
        "\n"
      ],
      "metadata": {
        "id": "PwzaafVz856O"
      }
    },
    {
      "cell_type": "code",
      "source": [
        "def todos_iguales(lista, n):\n",
        "    lista_booleanos = [num == n for num in lista]\n",
        "    print(lista_booleanos)\n",
        "    return all(lista_booleanos)\n",
        "\n",
        "# Caso 1\n",
        "n = 2\n",
        "lista = [1+1, 6/3, 7//3, abs(-2), int(\"2\"), eval(\"3-1\"), 17 % 5, --2]\n",
        "print(todos_iguales(lista, n))    # True\n",
        "\n",
        "# Caso 2: añadiendo el string \"2\" a la lista\n",
        "n = 2\n",
        "lista += [\"2\"]\n",
        "print(todos_iguales(lista, n))    # False"
      ],
      "metadata": {
        "id": "cvbnFEAa856O",
        "colab": {
          "base_uri": "https://localhost:8080/"
        },
        "outputId": "ff043384-523f-4202-9b0d-df58f597d9c3"
      },
      "execution_count": 45,
      "outputs": [
        {
          "output_type": "stream",
          "name": "stdout",
          "text": [
            "[True, True, True, True, True, True, True, True]\n",
            "True\n",
            "[True, True, True, True, True, True, True, True, False]\n",
            "False\n"
          ]
        }
      ]
    },
    {
      "cell_type": "markdown",
      "source": [
        "## arrastrar_reto087_p1\n",
        "La función `abs()` devuelve el valor absoluto de un número.\n",
        "\n",
        "Esto significa que devuelve el valor positivo de ese número sin importar el signo.\n",
        "\n",
        "Puede entenderse como la distancia desde cero hasta ese valor.\n",
        "\n",
        "Hemos creado varias versiones de una función que emula esta funcionalidad."
      ],
      "metadata": {
        "id": "-TGBehUN856O"
      }
    },
    {
      "cell_type": "code",
      "source": [
        "def absoluto(numero):\n",
        "    if numero < 0:\n",
        "        return -numero\n",
        "    return numero\n",
        "\n",
        "# elevando al cuadrado y haciendo la raiz cuadrada\n",
        "def absoluto(num):\n",
        "    return (num ** 2) ** 0.5  # retorna un float\n",
        "\n",
        "print(absoluto(-5))     # 5\n",
        "print(absoluto(-3.14))  # 3.14\n",
        "print(absoluto(25))     # 25\n",
        "print(absoluto(0))      # 0"
      ],
      "metadata": {
        "id": "17oe2lqJ856O",
        "colab": {
          "base_uri": "https://localhost:8080/"
        },
        "outputId": "b4721bfa-6ddb-4767-e98d-693480c6bad3"
      },
      "execution_count": 46,
      "outputs": [
        {
          "output_type": "stream",
          "name": "stdout",
          "text": [
            "5.0\n",
            "3.14\n",
            "25.0\n",
            "0.0\n"
          ]
        }
      ]
    },
    {
      "cell_type": "markdown",
      "source": [
        "## arrastrar_reto087_p2\n",
        "La función `abs()` devuelve el valor absoluto de un número.\n",
        "\n",
        "Esto significa que devuelve el valor positivo de ese número sin importar el signo.\n",
        "\n",
        "Puede entenderse como la distancia desde cero hasta ese valor.\n",
        "\n",
        "Hemos creado varias versiones de una función que emula esta funcionalidad."
      ],
      "metadata": {
        "id": "KBhMhVcf856P"
      }
    },
    {
      "cell_type": "code",
      "source": [
        "# usando un operador ternario\n",
        "def absoluto(numero):\n",
        "    return numero if numero >= 0 else -numero\n",
        "\n",
        "def absoluto(numero):\n",
        "    return max(numero, -numero)\n",
        "\n",
        "print(absoluto(-5))     # 5\n",
        "print(absoluto(-3.14))  # 3.14\n",
        "print(absoluto(25))     # 25\n",
        "print(absoluto(0))      # 0"
      ],
      "metadata": {
        "id": "vKvSOMEO856P",
        "colab": {
          "base_uri": "https://localhost:8080/"
        },
        "outputId": "9a5cd7c6-82de-42a4-c681-ad8b4a92208f"
      },
      "execution_count": 47,
      "outputs": [
        {
          "output_type": "stream",
          "name": "stdout",
          "text": [
            "5\n",
            "3.14\n",
            "25\n",
            "0\n"
          ]
        }
      ]
    },
    {
      "cell_type": "markdown",
      "source": [
        "## arrastrar_reto088_p1\n",
        "Estamos probando patinetes en tandas de tres, y viendo la velocidad que puede alcanzar cada uno.\n",
        "\n",
        "Deseamos conocer la diferencia de velocidades entre el más rápido y el más lento.\n",
        "\n",
        "Hemos creado varias versiones de una función que permite realizar este cálculo."
      ],
      "metadata": {
        "id": "iXXHGG_1856P"
      }
    },
    {
      "cell_type": "code",
      "source": [
        "# Método 1\n",
        "def diferencia_velocidades(a, b, c):\n",
        "    return max(a, b, c) - min(a, b, c)\n",
        "\n",
        "# Método 2 Ordenando la lista\n",
        "def diferencia_velocidades(a, b, c):\n",
        "    ordenadas = sorted([a, b, c])\n",
        "    return ordenadas[-1] - ordenadas[0]\n",
        "\n",
        "print(diferencia_velocidades(14, 33, 40))    # 26\n",
        "print(diferencia_velocidades(33, 63, 35))    # 30\n",
        "print(diferencia_velocidades(10, 15, 10))    # 5"
      ],
      "metadata": {
        "id": "JoVr8-5w856P",
        "colab": {
          "base_uri": "https://localhost:8080/"
        },
        "outputId": "cffa5048-d2d4-4613-c060-3679ee6ccbc7"
      },
      "execution_count": 48,
      "outputs": [
        {
          "output_type": "stream",
          "name": "stdout",
          "text": [
            "26\n",
            "30\n",
            "5\n"
          ]
        }
      ]
    },
    {
      "cell_type": "markdown",
      "source": [
        "## arrastrar_reto088_p2\n",
        "Estamos probando patinetes en tandas de tres, y viendo la velocidad que puede alcanzar cada uno.\n",
        "\n",
        "Deseamos conocer la diferencia de velocidades entre el más rápido y el más lento.\n",
        "\n",
        "Hemos creado varias versiones de una función que permite realizar este cálculo."
      ],
      "metadata": {
        "id": "tT32UP9q856P"
      }
    },
    {
      "cell_type": "code",
      "source": [
        "# Método 1\n",
        "def diferencia_velocidades(a, b, c):\n",
        "    return max(a, b, c) - min(a, b, c)\n",
        "\n",
        "# Método 2\n",
        "def diferencia_velocidades(a, b, c):\n",
        "    velocidades = [a, b, c]\n",
        "    max = min = velocidades[0]  # inicializamos las variables\n",
        "    for v in velocidades:\n",
        "        max = v if v > max else max\n",
        "        min = v if v < min else min\n",
        "    return max - min\n",
        "\n",
        "print(diferencia_velocidades(14, 33, 40))    # 26\n",
        "print(diferencia_velocidades(33, 63, 35))    # 30\n",
        "print(diferencia_velocidades(10, 15, 10))    # 5"
      ],
      "metadata": {
        "id": "SVkK-k42856P",
        "colab": {
          "base_uri": "https://localhost:8080/"
        },
        "outputId": "5e03363f-3fe1-4e8c-c8ed-561392b8900c"
      },
      "execution_count": 49,
      "outputs": [
        {
          "output_type": "stream",
          "name": "stdout",
          "text": [
            "26\n",
            "30\n",
            "5\n"
          ]
        }
      ]
    },
    {
      "cell_type": "markdown",
      "source": [
        "## arrastrar_reto089_p1\n",
        "Hemos creado varias versiones de una función que toma dos números y un operador matemático y devuelve el resultado.\n",
        "\n",
        "Las únicas operaciones utilizadas son las de los ejemplos que se muestran."
      ],
      "metadata": {
        "id": "rm5wCrj4856P"
      }
    },
    {
      "cell_type": "code",
      "source": [
        "def calculate(a, b, operacion):\n",
        "    if operacion == '+':\n",
        "        return a + b\n",
        "    elif operacion == '-':\n",
        "        return a - b\n",
        "    elif operacion == '*':\n",
        "        return a * b\n",
        "    elif operacion == '//':\n",
        "        return a // b\n",
        "    elif operacion == '%':\n",
        "        return a % b\n",
        "    elif operacion == '/':\n",
        "        return a / b\n",
        "\n",
        "def calculate(num1, num2, operador):\n",
        "    return eval(f\"{num1} {operador} {num2}\")\n",
        "\n",
        "print(calculate(4, 9, \"+\"))    # 13\n",
        "print(calculate(12, 5, \"-\"))   # 7\n",
        "print(calculate(6, 3, \"*\"))    # 18\n",
        "print(calculate(25, 5, \"//\"))  # 5\n",
        "print(calculate(14, 3, \"%\"))   # 2\n",
        "print(calculate(7, 2, \"/\"))    # 3.5"
      ],
      "metadata": {
        "id": "Y-H1sxic856P",
        "colab": {
          "base_uri": "https://localhost:8080/"
        },
        "outputId": "7ba3b1fb-b9b9-4ba5-ff21-a7f8e4ede7e6"
      },
      "execution_count": 50,
      "outputs": [
        {
          "output_type": "stream",
          "name": "stdout",
          "text": [
            "13\n",
            "7\n",
            "18\n",
            "5\n",
            "2\n",
            "3.5\n"
          ]
        }
      ]
    },
    {
      "cell_type": "markdown",
      "source": [
        "## arrastrar_reto089_p2\n",
        "Hemos creado varias versiones de una función que toma dos números y un operador matemático y devuelve el resultado.\n",
        "\n",
        "Las únicas operaciones utilizadas son las de los ejemplos que se muestran."
      ],
      "metadata": {
        "id": "QJIzAfQ2856P"
      }
    },
    {
      "cell_type": "code",
      "source": [
        "def calculate(num1, num2, operador):\n",
        "    operaciones = {\"+\": lambda x, y: x + y,\n",
        "                   \"-\": lambda x, y: x - y,\n",
        "                   \"*\": lambda x, y: x * y,\n",
        "                   \"//\": lambda x, y: x // y,\n",
        "                   \"%\": lambda x, y: x % y,\n",
        "                   \"/\": lambda x, y: x / y}\n",
        "    if operador in operaciones:\n",
        "        return operaciones[operador](num1, num2)\n",
        "    return \"Operador no válido\"\n",
        "\n",
        "def calculate(num1, num2, operador):\n",
        "    return eval(f\"{num1} {operador} {num2}\")\n",
        "\n",
        "print(calculate(4, 9, \"+\"))    # 13\n",
        "print(calculate(12, 5, \"-\"))   # 7\n",
        "print(calculate(6, 3, \"*\"))    # 18\n",
        "print(calculate(25, 5, \"//\"))  # 5\n",
        "print(calculate(14, 3, \"%\"))   # 2\n",
        "print(calculate(7, 2, \"/\"))    # 3.5"
      ],
      "metadata": {
        "id": "Oq5dMWCT856P",
        "colab": {
          "base_uri": "https://localhost:8080/"
        },
        "outputId": "950b274a-bacb-4829-9061-1ce1beb2bf01"
      },
      "execution_count": 51,
      "outputs": [
        {
          "output_type": "stream",
          "name": "stdout",
          "text": [
            "13\n",
            "7\n",
            "18\n",
            "5\n",
            "2\n",
            "3.5\n"
          ]
        }
      ]
    },
    {
      "cell_type": "markdown",
      "source": [
        "## arrastrar_reto090_p1\n",
        "Hemos creado varias versiones de una función que recibe una lista y una división entera.\n",
        "\n",
        "La división entera se utiliza para calcular el índice necesario que nos permitirá acceder a un elemento específico en la lista."
      ],
      "metadata": {
        "id": "7-CuiwdX856P"
      }
    },
    {
      "cell_type": "code",
      "source": [
        "def valor_en_posicion(lista, division_entera):\n",
        "    indice = int(division_entera)\n",
        "    return lista[indice]\n",
        "\n",
        "def valor_en_posicion(lista, division_entera):\n",
        "    index = round(division_entera)\n",
        "    return lista[index]\n",
        "\n",
        "print(valor_en_posicion([10, 20, 30, 40, 50], 8 // 2))  # 50\n",
        "print(valor_en_posicion([1, 2, 3, 4, 5, 6], 8.0 // 2))  # 5\n",
        "print(valor_en_posicion([1, 2, 3, 4], 6.5 // 2))        # 4"
      ],
      "metadata": {
        "id": "3soklNBc856P",
        "colab": {
          "base_uri": "https://localhost:8080/"
        },
        "outputId": "2a606f28-ce89-45ed-ac9e-9fa881786d96"
      },
      "execution_count": 52,
      "outputs": [
        {
          "output_type": "stream",
          "name": "stdout",
          "text": [
            "50\n",
            "5\n",
            "4\n"
          ]
        }
      ]
    },
    {
      "cell_type": "markdown",
      "source": [
        "## arrastrar_reto090_p2\n",
        "En Python cuando intentas acceder por el índice a una lista y ese índice no se encuentra en la lista nos da un error.\n",
        "\n",
        "Por ejemplo, esto da error:\n",
        "\n",
        "`lista = [10, 11, 12]`\n",
        "`lista[3] # IndexError: list index out of range`\n",
        "\n",
        "El error se produce porque el índice 3 no existe en la lista, ya que la lista comienza con el índice 0 y finaliza con el índice 2.\n",
        "\n",
        "Queremos evitar este tipo de errores creando una función que cuando el índice esté fuera de rango retorne `None`.\n",
        "\n"
      ],
      "metadata": {
        "id": "-nGCRRsp856P"
      }
    },
    {
      "cell_type": "code",
      "source": [
        "def obtener_elemento_por_indice(lista, indice):\n",
        "    \"\"\"\n",
        "    Esta función toma una lista y un índice como entrada\n",
        "    y devuelve el elemento de la lista correspondiente al índice dado.\n",
        "    Si el índice está fuera del rango de la lista, devuelve None.\n",
        "    \"\"\"\n",
        "    if 0 <= indice < len(lista):\n",
        "        return lista[indice]\n",
        "    else:\n",
        "        return None\n",
        "\n",
        "lista = [10, 11, 12]\n",
        "\n",
        "# Primer caso de uso\n",
        "index = 2\n",
        "print(obtener_elemento_por_indice(lista, index))   # 12\n",
        "\n",
        "# Segundo caso de uso\n",
        "index = 3\n",
        "print(obtener_elemento_por_indice(lista, index))   # None"
      ],
      "metadata": {
        "id": "N6GHf5Sj856P",
        "colab": {
          "base_uri": "https://localhost:8080/"
        },
        "outputId": "6dfd03f2-7b08-4244-f001-580725386ad5"
      },
      "execution_count": 53,
      "outputs": [
        {
          "output_type": "stream",
          "name": "stdout",
          "text": [
            "12\n",
            "None\n"
          ]
        }
      ]
    },
    {
      "cell_type": "markdown",
      "source": [
        "## arrastrar_reto091_p1\n",
        "En Python, los conjuntos (set) no admiten indexación directa como las listas o tuplas.\n",
        "\n",
        "Los conjuntos son estructuras de datos desordenadas y no indexadas, lo que significa que no se puede acceder a sus elementos mediante un índice numérico.\n",
        "\n",
        "Hemos creado varias versiones de una función que recibe un conjunto que contiene un único elemento.\n",
        "\n",
        "La función debe devolver ese elemento."
      ],
      "metadata": {
        "id": "flhFoMqC856P"
      }
    },
    {
      "cell_type": "code",
      "source": [
        "# Método 1. Convirtiendo el conjunto en lista\n",
        "def elemento_del_conjunto(conjunto):\n",
        "    return list(conjunto)[0]\n",
        "\n",
        "# Método 2. Sin convertirlo en lista, usando la función pop\n",
        "def elemento_del_conjunto(conjunto):\n",
        "    return conjunto.pop()\n",
        "\n",
        "print(elemento_del_conjunto({'margarita'}))  # margarita\n",
        "print(elemento_del_conjunto({True}))         # True\n",
        "print(elemento_del_conjunto({42}))           # 42"
      ],
      "metadata": {
        "id": "c5TaWrkI856P",
        "colab": {
          "base_uri": "https://localhost:8080/"
        },
        "outputId": "ed606159-6499-4841-82ef-9544eadb8fe1"
      },
      "execution_count": 54,
      "outputs": [
        {
          "output_type": "stream",
          "name": "stdout",
          "text": [
            "margarita\n",
            "True\n",
            "42\n"
          ]
        }
      ]
    },
    {
      "cell_type": "markdown",
      "source": [
        "## arrastrar_reto091_p2\n",
        "En Python, los conjuntos (set) no admiten indexación directa como las listas o tuplas.\n",
        "\n",
        "Los conjuntos son estructuras de datos desordenadas y no indexadas, lo que significa que no se puede acceder a sus elementos mediante un índice numérico.\n",
        "\n",
        "Hemos creado varias versiones de una función que recibe un conjunto que contiene un único elemento.\n",
        "\n",
        "La función debe devolver ese elemento."
      ],
      "metadata": {
        "id": "z4ZVf3v3856P"
      }
    },
    {
      "cell_type": "code",
      "source": [
        "# Método 1. Convirtiendo el conjunto en lista\n",
        "def elemento_del_conjunto(conjunto):\n",
        "    return list(conjunto)[0]\n",
        "\n",
        "# Método 2. Iterar a través del conjunto\n",
        "def elemento_del_conjunto(conjunto):\n",
        "    for elemento in conjunto:\n",
        "        return elemento\n",
        "\n",
        "print(elemento_del_conjunto({'margarita'}))  # margarita\n",
        "print(elemento_del_conjunto({True}))         # True\n",
        "print(elemento_del_conjunto({42}))           # 42"
      ],
      "metadata": {
        "id": "KFablY2M856Q",
        "colab": {
          "base_uri": "https://localhost:8080/"
        },
        "outputId": "ee4ab621-29ae-44c6-b509-4ea63b8e0407"
      },
      "execution_count": 55,
      "outputs": [
        {
          "output_type": "stream",
          "name": "stdout",
          "text": [
            "margarita\n",
            "True\n",
            "42\n"
          ]
        }
      ]
    },
    {
      "cell_type": "markdown",
      "source": [
        "## arrastrar_reto092_p1\n",
        "Hemos creado varias versiones de una función que recibe una lista de valores booleanos que convierte en una lista de ceros y unos, invirtiendo su valor.\n",
        "\n",
        "1. Cuando tengamos un `True` se convertirá en un **0**.\n",
        "2. Cuando tengamos un `False` se convertirá en un **1**."
      ],
      "metadata": {
        "id": "aGOgOpMR856Q"
      }
    },
    {
      "cell_type": "code",
      "source": [
        "def invertir(lista):\n",
        "    return [int(not(x)) for x in lista]\n",
        "\n",
        "def invertir(lista):\n",
        "    return [abs(x-1) for x in lista]\n",
        "\n",
        "def invertir(lista):\n",
        "    return [{0: 1, 1: 0}.get(int(x)) for x in lista]\n",
        "\n",
        "print(invertir([True, True, True, True]))      # [0, 0, 0, 0]\n",
        "print(invertir([True, True, True, False]))     # [0, 0, 0, 1]\n",
        "print(invertir([True, True, False, False]))    # [0, 0, 1, 1]\n",
        "print(invertir([True, False, False, False]))   # [0, 1, 1, 1]\n",
        "print(invertir([False, False, False, False]))  # [1, 1, 1, 1]"
      ],
      "metadata": {
        "id": "Vu6gQlJk856Q",
        "colab": {
          "base_uri": "https://localhost:8080/"
        },
        "outputId": "05925827-1143-4d9c-d02d-5bc943ede2f5"
      },
      "execution_count": 56,
      "outputs": [
        {
          "output_type": "stream",
          "name": "stdout",
          "text": [
            "[0, 0, 0, 0]\n",
            "[0, 0, 0, 1]\n",
            "[0, 0, 1, 1]\n",
            "[0, 1, 1, 1]\n",
            "[1, 1, 1, 1]\n"
          ]
        }
      ]
    },
    {
      "cell_type": "markdown",
      "source": [
        "## arrastrar_reto092_p2\n",
        "Hemos creado varias versiones de una función que recibe una lista de valores booleanos que convierte en una lista de ceros y unos, invirtiendo su valor.\n",
        "\n",
        "1. Cuando tengamos un `True` se convertirá en un **0**.\n",
        "2. Cuando tengamos un `False` se convertirá en un **1**."
      ],
      "metadata": {
        "id": "NJDXZzn0856Q"
      }
    },
    {
      "cell_type": "code",
      "source": [
        "def invertir(lista):\n",
        "    return [int(not(x)) for x in lista]\n",
        "\n",
        "def invertir(lista):\n",
        "    return [0 if x else 1 for x in lista]\n",
        "\n",
        "def invertir(lista):\n",
        "    return [--(not(x)) for x in lista]\n",
        "\n",
        "def invertir(lista):\n",
        "    return [abs(not(x)) for x in lista]\n",
        "\n",
        "print(invertir([True, True, True, True]))      # [0, 0, 0, 0]\n",
        "print(invertir([True, True, True, False]))     # [0, 0, 0, 1]\n",
        "print(invertir([True, True, False, False]))    # [0, 0, 1, 1]\n",
        "print(invertir([True, False, False, False]))   # [0, 1, 1, 1]\n",
        "print(invertir([False, False, False, False]))  # [1, 1, 1, 1]"
      ],
      "metadata": {
        "id": "yKGTatRs856Q",
        "colab": {
          "base_uri": "https://localhost:8080/"
        },
        "outputId": "6ee0fd24-b504-4722-c93a-e050afbbc173"
      },
      "execution_count": 57,
      "outputs": [
        {
          "output_type": "stream",
          "name": "stdout",
          "text": [
            "[0, 0, 0, 0]\n",
            "[0, 0, 0, 1]\n",
            "[0, 0, 1, 1]\n",
            "[0, 1, 1, 1]\n",
            "[1, 1, 1, 1]\n"
          ]
        }
      ]
    },
    {
      "cell_type": "markdown",
      "source": [
        "## arrastrar_reto093_p1\n",
        "Hemos creado varias versiones de una función que determina si un texto dado es un título de texto (Title String).\n",
        "\n",
        "Se considera que un texto es un título si todas las palabras comienzan con una letra mayúscula y no hay más mayúsculas en esa palabra."
      ],
      "metadata": {
        "id": "NOxyIVH-856Q"
      }
    },
    {
      "cell_type": "code",
      "source": [
        "def es_titulo(texto):\n",
        "    return texto.title() == texto\n",
        "\n",
        "def es_titulo_texto(texto):\n",
        "    palabras = texto.split()    # Dividir en palabras\n",
        "    # Verificar si todas las palabras comienzan con mayúscula\n",
        "    for palabra in palabras:\n",
        "        if not palabra.istitle():  # Comprueba si la palabra comienza con mayúscula\n",
        "            return False  # Si alguna palabra no cumple, retorna False\n",
        "    return True     # Si todas las palabras cumplen, retorna True\n",
        "\n",
        "print(es_titulo(\"Ciudades: Londres París Roma\"))    # True\n",
        "print(es_titulo(\"Prefiero New York!\"))              # True\n",
        "print(es_titulo(\"Veranear en Málaga\"))              # False"
      ],
      "metadata": {
        "id": "axWsBu-O856Q",
        "colab": {
          "base_uri": "https://localhost:8080/"
        },
        "outputId": "c2020c2c-862f-415d-b0b6-4684deb3d9b8"
      },
      "execution_count": 58,
      "outputs": [
        {
          "output_type": "stream",
          "name": "stdout",
          "text": [
            "True\n",
            "True\n",
            "False\n"
          ]
        }
      ]
    },
    {
      "cell_type": "markdown",
      "source": [
        "## arrastrar_reto093_p2\n",
        "Hemos creado varias versiones de una función que determina si un texto dado es un título de texto (Title String).\n",
        "\n",
        "Se considera que un texto es un título si todas las palabras comienzan con una letra mayúscula y no hay más mayúsculas en esa palabra."
      ],
      "metadata": {
        "id": "-JLL8F_g856Q"
      }
    },
    {
      "cell_type": "code",
      "source": [
        "def es_titulo(texto):\n",
        "    return texto.title() == texto\n",
        "\n",
        "def es_titulo(texto):\n",
        "    palabras = texto.split()\n",
        "    return all(palabra.istitle() for palabra in palabras)\n",
        "\n",
        "print(es_titulo(\"Ciudades: Londres París Roma\"))    # True\n",
        "print(es_titulo(\"Prefiero New York!\"))              # True\n",
        "print(es_titulo(\"Veranear en Málaga\"))              # False"
      ],
      "metadata": {
        "id": "5IbpJMhv856Q",
        "colab": {
          "base_uri": "https://localhost:8080/"
        },
        "outputId": "ffe27b0e-cb21-4ad8-a6ca-fbe76b52f903"
      },
      "execution_count": 59,
      "outputs": [
        {
          "output_type": "stream",
          "name": "stdout",
          "text": [
            "True\n",
            "True\n",
            "False\n"
          ]
        }
      ]
    },
    {
      "cell_type": "markdown",
      "source": [
        "## arrastrar_reto094_p1\n",
        "Hemos creado varias versiones de una función que devuelve la lista de todos los números enteros entre el inicio y el final de dos números dados, incluidos éstos."
      ],
      "metadata": {
        "id": "3NyBoejM856Q"
      }
    },
    {
      "cell_type": "code",
      "source": [
        "# Método 1. Convirtiendo en lista un rango\n",
        "def rango_de_numeros(inicio, final):\n",
        "    return list(range(inicio, final + 1))\n",
        "\n",
        "# Método 2. Agregando los números a una nueva lista, usando append\n",
        "def rango_de_numeros(inicio, final):\n",
        "    numeros = []    # inicializamos la lista\n",
        "    for i in range(inicio, final + 1):\n",
        "        numeros.append(i)\n",
        "    return numeros\n",
        "\n",
        "# Ejemplos de uso de la función\n",
        "print(rango_de_numeros(2, 4))   # [2, 3, 4]\n",
        "print(rango_de_numeros(5, 9))   # [5, 6, 7, 8, 9]\n",
        "print(rango_de_numeros(2, 11))  # [2, 3, 4, 5, 6, 7, 8, 9, 10, 11]\n",
        "print(rango_de_numeros(2, 2))   # [2]"
      ],
      "metadata": {
        "id": "m7MNnhkr856Q",
        "colab": {
          "base_uri": "https://localhost:8080/"
        },
        "outputId": "878ad88c-944b-48e5-8e20-eb873300e28e"
      },
      "execution_count": 60,
      "outputs": [
        {
          "output_type": "stream",
          "name": "stdout",
          "text": [
            "[2, 3, 4]\n",
            "[5, 6, 7, 8, 9]\n",
            "[2, 3, 4, 5, 6, 7, 8, 9, 10, 11]\n",
            "[2]\n"
          ]
        }
      ]
    },
    {
      "cell_type": "markdown",
      "source": [
        "## arrastrar_reto094_p2\n",
        "Hemos creado varias versiones de una función que devuelve la lista de todos los números enteros entre el inicio y el final de dos números dados, incluidos estos."
      ],
      "metadata": {
        "id": "XuFrnhEp856Q"
      }
    },
    {
      "cell_type": "code",
      "source": [
        "# Método 1. Convirtiendo en lista un rango\n",
        "def rango_de_numeros(inicio, final):\n",
        "    return list(range(inicio, final + 1))\n",
        "\n",
        "# Método 2. Por recursividad\n",
        "def rango_de_numeros(inicio, final):  # suponiendo que inicio <= final\n",
        "    # Caso base: si el inicio es igual al final, la lista solo contiene un elemento\n",
        "    if inicio == final:\n",
        "        return [inicio]\n",
        "    # Caso recursivo: agregamos el inicio a la lista y llamamos recursivamente\n",
        "    # a la función con el inicio incrementado en uno\n",
        "    else:\n",
        "        return [inicio] + rango_de_numeros(inicio + 1, final)\n",
        "\n",
        "# Ejemplos de uso de la función\n",
        "print(rango_de_numeros(2, 4))   # [2, 3, 4]\n",
        "print(rango_de_numeros(5, 9))   # [5, 6, 7, 8, 9]\n",
        "print(rango_de_numeros(2, 11))  # [2, 3, 4, 5, 6, 7, 8, 9, 10, 11]\n",
        "print(rango_de_numeros(2, 2))   # [2]"
      ],
      "metadata": {
        "id": "yb88o426856Q",
        "colab": {
          "base_uri": "https://localhost:8080/"
        },
        "outputId": "6da33402-16bd-40d2-cbb3-a82755fe347d"
      },
      "execution_count": 61,
      "outputs": [
        {
          "output_type": "stream",
          "name": "stdout",
          "text": [
            "[2, 3, 4]\n",
            "[5, 6, 7, 8, 9]\n",
            "[2, 3, 4, 5, 6, 7, 8, 9, 10, 11]\n",
            "[2]\n"
          ]
        }
      ]
    },
    {
      "cell_type": "markdown",
      "source": [
        "## arrastrar_reto095_p1\n",
        "Un casino te ha encargado programar un sistema de control de acceso.\n",
        "\n",
        "Para poder ingresar al casino, las personas deben cumplir dos condiciones: no ser menores de 18 años y no estar en la lista de personas no deseadas.\n",
        "\n",
        "Para implementar esto, hemos creado una función llamada **permitir_acceso** que recibe la **edad** como número entero y la variable booleana denominada **en_lista_negra** que indica si el invitado está en la lista negra.\n",
        "\n"
      ],
      "metadata": {
        "id": "_4LraGS3856Q"
      }
    },
    {
      "cell_type": "code",
      "source": [
        "def permitir_acceso(edad, en_lista_negra):\n",
        "    return edad >= 18 and not en_lista_negra\n",
        "\n",
        "print(permitir_acceso(16, False))   # False\n",
        "print(permitir_acceso(18, False))   # True\n",
        "print(permitir_acceso(24, True))    # False"
      ],
      "metadata": {
        "id": "B5Lrrld1856Q",
        "colab": {
          "base_uri": "https://localhost:8080/"
        },
        "outputId": "824cc913-de73-48aa-ce47-ccb43b074547"
      },
      "execution_count": 62,
      "outputs": [
        {
          "output_type": "stream",
          "name": "stdout",
          "text": [
            "False\n",
            "True\n",
            "False\n"
          ]
        }
      ]
    },
    {
      "cell_type": "markdown",
      "source": [
        "## arrastrar_reto095_p2\n",
        "En cierto club de moteros \"algo especial\", pueden presentarse para presidente los mayores de edad y sin barba.\n",
        "\n",
        "Tenemos una función que recibe la **edad** del candidato y una variable booleana denominada **tiene_barba** que si es `True` indica que el candidato si tiene barba.\n",
        "\n",
        "La función retorna `True` cuando el candidato puede presentarse o `False` cuando no puede presentarse a la elección de presidente."
      ],
      "metadata": {
        "id": "btPbrSh9856Q"
      }
    },
    {
      "cell_type": "code",
      "source": [
        "def puede_presentarse_a_presidente(edad, tiene_barba):\n",
        "    return edad >= 18 and not tiene_barba\n",
        "\n",
        "print(puede_presentarse_a_presidente(32, False))  # True\n",
        "print(puede_presentarse_a_presidente(32, True))   # False\n",
        "print(puede_presentarse_a_presidente(17, False))  # False\n",
        "print(puede_presentarse_a_presidente(17, True))   # False"
      ],
      "metadata": {
        "id": "lk8WvpFi856R",
        "colab": {
          "base_uri": "https://localhost:8080/"
        },
        "outputId": "b61841cd-8522-4fc2-f87a-45454a39be21"
      },
      "execution_count": 63,
      "outputs": [
        {
          "output_type": "stream",
          "name": "stdout",
          "text": [
            "True\n",
            "False\n",
            "False\n",
            "False\n"
          ]
        }
      ]
    },
    {
      "cell_type": "markdown",
      "source": [
        "## arrastrar_reto096_p1\n",
        "Hemos creado varias versiones de una función llamada **todos_verdaderos** que toma un número variable de argumentos y devuelva `True` solo si todos los argumentos son verdaderos, de lo contrario, debe devolver `False`."
      ],
      "metadata": {
        "id": "oAQfaVKk856R"
      }
    },
    {
      "cell_type": "code",
      "source": [
        "def todos_verdaderos(*args):\n",
        "    for arg in args:\n",
        "        if not arg:\n",
        "            return False\n",
        "    return True\n",
        "\n",
        "def todos_verdaderos(*args):\n",
        "    return all(args)\n",
        "\n",
        "print(todos_verdaderos(True, True, True, True))                # True\n",
        "print(todos_verdaderos(33, \"Hello\", \"False\", (False, [], 3)))  # True\n",
        "print(todos_verdaderos(True, True, True, False))               # False\n",
        "print(todos_verdaderos(0, False, [], {}))                      # False\n",
        "print(todos_verdaderos(True, None))                            # False"
      ],
      "metadata": {
        "id": "-HO37k8j856R",
        "colab": {
          "base_uri": "https://localhost:8080/"
        },
        "outputId": "0fa03e0d-2e56-4b5a-e96b-669f805e084d"
      },
      "execution_count": 64,
      "outputs": [
        {
          "output_type": "stream",
          "name": "stdout",
          "text": [
            "True\n",
            "True\n",
            "False\n",
            "False\n",
            "False\n"
          ]
        }
      ]
    },
    {
      "cell_type": "markdown",
      "source": [
        "## arrastrar_reto096_p2\n",
        "Hemos creado una función que recibe un número indeterminado de argumentos, que son números que se han de multiplicar entre si.\n",
        "\n",
        "Se usa el operador asterisco para tratar los números.\n",
        "\n"
      ],
      "metadata": {
        "id": "xGHRavzT856R"
      }
    },
    {
      "cell_type": "code",
      "source": [
        "def calcular_producto(*args):\n",
        "    if not args:\n",
        "        return None  # Si no se proporcionan argumentos, retorna None\n",
        "    producto = 1     # se inicializa la variable\n",
        "    for num in args:\n",
        "        producto *= num  # se multiplica cada num por la variable produto\n",
        "    return producto\n",
        "\n",
        "# Primer ejemplo de uso\n",
        "resultado = calcular_producto(2, 3, 5, 7)\n",
        "print(\"El producto es\", resultado)  # El producto es 210\n",
        "\n",
        "# Segundo ejemplo de uso\n",
        "rango = range(1, 6)  # rango entre 1 y 5\n",
        "print(\"El factorial de 5 es\", calcular_producto(*rango))  # El factorial de 5 es 120"
      ],
      "metadata": {
        "id": "_5GiZPom856R",
        "colab": {
          "base_uri": "https://localhost:8080/"
        },
        "outputId": "b53cdc29-6324-4941-8ea8-1178b41087c1"
      },
      "execution_count": 65,
      "outputs": [
        {
          "output_type": "stream",
          "name": "stdout",
          "text": [
            "El producto es 210\n",
            "El factorial de 5 es 120\n"
          ]
        }
      ]
    },
    {
      "cell_type": "markdown",
      "source": [
        "## arrastrar_reto097_p1\n",
        "Hemos creado varias versiones de una función llamada **primeros_positivos** que recibe como parámetro una lista.\n",
        "\n",
        "La lista recibida contiene números positivos, negativos o cero.\n",
        "\n",
        "La función ha de retornar una lista que contenga únicamente los primeros positivos.\n",
        "\n",
        "Al llegar a un cero o un número negativo no se retorna y tampoco todo lo posterior."
      ],
      "metadata": {
        "id": "knk-IxJv856R"
      }
    },
    {
      "cell_type": "code",
      "source": [
        "def primeros_positivos(lista):\n",
        "    for i, v in enumerate(lista):\t # i → índice, v → valor\n",
        "        if v <= 0:\n",
        "            return lista[:i]\n",
        "\n",
        "def primeros_positivos(lista):\n",
        "    resultado = []    # inicializamos la lista\n",
        "    for num in lista:\n",
        "        if num > 0:\n",
        "            resultado.append(num)\n",
        "        else:\n",
        "            break\n",
        "    return resultado\n",
        "\n",
        "print(primeros_positivos([4, 9, 5, 0, 2, 4]))  # [4, 9, 5, 2, 4]\n",
        "print(primeros_positivos([-2, 1, 6, 0, 3]))    # [1, 6, 3]\n",
        "print(primeros_positivos([1, 3, 7, 2, -1, 6])) # [1, 3, 7, 2, 6]"
      ],
      "metadata": {
        "id": "rI6czkQ6856R",
        "colab": {
          "base_uri": "https://localhost:8080/"
        },
        "outputId": "333d57ea-1789-4333-d56e-87e7abe1c32d"
      },
      "execution_count": 66,
      "outputs": [
        {
          "output_type": "stream",
          "name": "stdout",
          "text": [
            "[4, 9, 5]\n",
            "[]\n",
            "[1, 3, 7, 2]\n"
          ]
        }
      ]
    },
    {
      "cell_type": "markdown",
      "source": [
        "## arrastrar_reto097_p2\n",
        "Hemos creado varias versiones de una función llamada **primeros_positivos** que recibe como parámetro una lista.\n",
        "\n",
        "La lista recibida contiene números positivos, negativos o cero.\n",
        "\n",
        "La función ha de retornar una lista que contenga únicamente los primeros positivos.\n",
        "\n",
        "Al llegar a un cero o un número negativo no se retorna y tampoco todo lo posterior."
      ],
      "metadata": {
        "id": "6zyEpxC9856R"
      }
    },
    {
      "cell_type": "code",
      "source": [
        "def primeros_positivos(lista):\n",
        "    for i, v in enumerate(lista):\t # i → índice, v → valor\n",
        "        if v <= 0:\n",
        "            return lista[:i]\n",
        "\n",
        "def primeros_positivos(lista):\n",
        "    resultado = []\n",
        "    for num in lista:\n",
        "        if num <= 0:\n",
        "            break\n",
        "        resultado.append(num)\n",
        "    return resultado\n",
        "\n",
        "print(primeros_positivos([4, 9, 5, 0, 2, 4]))  # [4, 9, 5, 2, 4]\n",
        "print(primeros_positivos([-2, 1, 6, 0, 3]))    # [1, 6, 3]\n",
        "print(primeros_positivos([1, 3, 7, 2, -1, 6])) # [1, 3, 7, 2, 6]"
      ],
      "metadata": {
        "id": "E1of10x7856R",
        "colab": {
          "base_uri": "https://localhost:8080/"
        },
        "outputId": "ec193f65-e263-432c-92ae-4895de6acfe2"
      },
      "execution_count": 68,
      "outputs": [
        {
          "output_type": "stream",
          "name": "stdout",
          "text": [
            "[4, 9, 5]\n",
            "[]\n",
            "[1, 3, 7, 2]\n"
          ]
        }
      ]
    },
    {
      "cell_type": "markdown",
      "source": [
        "## arrastrar_reto098_p1\n",
        "Hemos creado una función que devuelve el último valor de una lista o de una cadena.\n",
        "\n",
        "Devuelve `None` si la lista o la cadena está vacía."
      ],
      "metadata": {
        "id": "Q5Y8VfZJ856R"
      }
    },
    {
      "cell_type": "code",
      "source": [
        "def ultimo(objeto):\n",
        "    if not objeto:\n",
        "        return None\n",
        "    return objeto[-1]\n",
        "\n",
        "print(ultimo([0, 4, 19, 34, 50, -9, 2]))  # 2\n",
        "print(ultimo(\"pensar antes de hablar\"))   # r\n",
        "print(ultimo([]))                         # None\n",
        "print(ultimo(\"\"))                         # None"
      ],
      "metadata": {
        "id": "uCz6hJHd856R",
        "colab": {
          "base_uri": "https://localhost:8080/"
        },
        "outputId": "043320db-94b2-4fa0-8770-bedac4c31678"
      },
      "execution_count": 69,
      "outputs": [
        {
          "output_type": "stream",
          "name": "stdout",
          "text": [
            "2\n",
            "r\n",
            "None\n",
            "None\n"
          ]
        }
      ]
    },
    {
      "cell_type": "markdown",
      "source": [
        "## arrastrar_reto098_p2\n",
        "Hemos creado una función que devuelve el último valor de una lista o de una cadena.\n",
        "\n",
        "Devuelve `None` si la lista o la cadena está vacía."
      ],
      "metadata": {
        "id": "cilBk2nE856R"
      }
    },
    {
      "cell_type": "code",
      "source": [
        "# usando un operador ternario\n",
        "def ultimo(objeto):\n",
        "    return objeto[-1] if objeto else None\n",
        "\n",
        "def ultimo(objeto):\n",
        "    return None if not objeto else objeto[-1]\n",
        "\n",
        "print(ultimo([0, 4, 19, 34, 50, -9, 2]))  # 2\n",
        "print(ultimo(\"pensar antes de hablar\"))   # r\n",
        "print(ultimo([]))                         # None\n",
        "print(ultimo(\"\"))                         # None"
      ],
      "metadata": {
        "id": "_ioU82Ml856R",
        "colab": {
          "base_uri": "https://localhost:8080/"
        },
        "outputId": "a2fcb294-b536-40df-c0b5-b7ef85651475"
      },
      "execution_count": 70,
      "outputs": [
        {
          "output_type": "stream",
          "name": "stdout",
          "text": [
            "2\n",
            "r\n",
            "None\n",
            "None\n"
          ]
        }
      ]
    },
    {
      "cell_type": "markdown",
      "source": [
        "## arrastrar_reto099_p1\n",
        "Usted es el guía de un grupo de turistas a los que lleva a conocer Madrid.\n",
        "\n",
        "Después de cada visita le puntúan en la aplicación dando entre 1 y 5 estrellas.\n",
        "\n",
        "El número de turistas que lleva en cada grupo es variable.\n",
        "\n",
        "Hemos creado varias versiones de una función que al recibir las estrellas con las que le han puntuado los diferentes turistas, devuelve el número de turistas que le han dado la mayor puntuación en ese grupo."
      ],
      "metadata": {
        "id": "qneS4dBe856R"
      }
    },
    {
      "cell_type": "code",
      "source": [
        "def mejores_estrellas(lista):\n",
        "    return lista.count(max(lista))\n",
        "\n",
        "def mejores_estrellas(lista):\n",
        "    return sum(1 for valor in lista if valor == max(lista))\n",
        "\n",
        "print(mejores_estrellas([4, 4, 3]))           # 2\n",
        "print(mejores_estrellas([5, 4, 1, 5]))        # 2\n",
        "print(mejores_estrellas([5, 3, 4, 4, 4, 3]))  # 1\n",
        "print(mejores_estrellas([4, 3, 4, 4, 2]))     # 3"
      ],
      "metadata": {
        "id": "DAIgQkAl856R",
        "colab": {
          "base_uri": "https://localhost:8080/"
        },
        "outputId": "85d5ede9-3ab6-4664-d24e-61bc2732c344"
      },
      "execution_count": 71,
      "outputs": [
        {
          "output_type": "stream",
          "name": "stdout",
          "text": [
            "2\n",
            "2\n",
            "1\n",
            "3\n"
          ]
        }
      ]
    },
    {
      "cell_type": "markdown",
      "source": [
        "## arrastrar_reto099_p2\n",
        "Usted es el guía de un grupo de turistas a los que lleva a conocer Madrid.\n",
        "\n",
        "Después de cada visita le puntúan en la aplicación dando entre 1 y 5 estrellas.\n",
        "\n",
        "El número de turistas que lleva en cada grupo es variable.\n",
        "\n",
        "Hemos creado varias versiones de una función que al recibir las estrellas con las que le han puntuado los diferentes turistas, devuelve el número de turistas que le han dado la mayor puntuación en ese grupo."
      ],
      "metadata": {
        "id": "RbCMBa_j856R"
      }
    },
    {
      "cell_type": "code",
      "source": [
        "def mejores_estrellas(lista):\n",
        "    return lista.count(max(lista))\n",
        "\n",
        "def mejores_estrellas(lista):\n",
        "    return len(list(1 for valor in lista if valor == max(lista)))\n",
        "\n",
        "print(mejores_estrellas([4, 4, 3]))           # 2\n",
        "print(mejores_estrellas([5, 4, 1, 5]))        # 2\n",
        "print(mejores_estrellas([5, 3, 4, 4, 4, 3]))  # 1\n",
        "print(mejores_estrellas([4, 3, 4, 4, 2]))     # 3"
      ],
      "metadata": {
        "id": "LiXu5hZs856R",
        "colab": {
          "base_uri": "https://localhost:8080/"
        },
        "outputId": "5e3f2523-8b12-465e-d6fc-08821140a00d"
      },
      "execution_count": 72,
      "outputs": [
        {
          "output_type": "stream",
          "name": "stdout",
          "text": [
            "2\n",
            "2\n",
            "1\n",
            "3\n"
          ]
        }
      ]
    },
    {
      "cell_type": "markdown",
      "source": [
        "## arrastrar_reto100_p1\n",
        "Hemos creado varias versiones de una función para devolver la cantidad de patatas que hay en una cadena."
      ],
      "metadata": {
        "id": "W55hh2YBjubh"
      }
    },
    {
      "cell_type": "code",
      "source": [
        "def cuenta_patatas(cadena):\n",
        "    return cadena.count(\"patata\")\n",
        "\n",
        "def cuenta_patatas(cadena):\n",
        "    n = len(\"patata\")\n",
        "    return sum([1 for i in range(len(cadena) - n + 1) if cadena[i:i+n] == \"patata\"])\n",
        "\n",
        "print(cuenta_patatas(\"patata\"))                 # 1\n",
        "print(cuenta_patatas(\"patatapatata\"))           # 2\n",
        "print(cuenta_patatas(\"patatamanzanapata\"))      # 1\n",
        "print(cuenta_patatas(\"patatatuti\"*7+\"patata\"))  # 8"
      ],
      "metadata": {
        "id": "04u_-22W98DY",
        "colab": {
          "base_uri": "https://localhost:8080/"
        },
        "outputId": "6636a502-a573-4ed0-a919-077da897a092"
      },
      "execution_count": 73,
      "outputs": [
        {
          "output_type": "stream",
          "name": "stdout",
          "text": [
            "1\n",
            "2\n",
            "1\n",
            "8\n"
          ]
        }
      ]
    },
    {
      "cell_type": "markdown",
      "source": [
        "## arrastrar_reto100_p2\n",
        "Hemos creado varias versiones de una función para devolver la cantidad de patatas que hay en una cadena."
      ],
      "metadata": {
        "id": "kauKfFlRjuj_"
      }
    },
    {
      "cell_type": "code",
      "source": [
        "def cuenta_patatas(cadena):\n",
        "    return cadena.count(\"patata\")\n",
        "\n",
        "def cuenta_patatas(cadena):\n",
        "    n = len(\"patata\")\n",
        "    return sum([cadena[i:i+n] == \"patata\" for i in range(len(cadena) - n + 1)])\n",
        "\n",
        "print(cuenta_patatas(\"patata\"))                 # 1\n",
        "print(cuenta_patatas(\"patatapatata\"))           # 2\n",
        "print(cuenta_patatas(\"patatamanzanapata\"))      # 1\n",
        "print(cuenta_patatas(\"patatatuti\"*7+\"patata\"))  # 8"
      ],
      "metadata": {
        "id": "5lNZ2Ihv9_Hd",
        "colab": {
          "base_uri": "https://localhost:8080/"
        },
        "outputId": "7766656c-6a02-4fbc-d65e-decab7a3d038"
      },
      "execution_count": 74,
      "outputs": [
        {
          "output_type": "stream",
          "name": "stdout",
          "text": [
            "1\n",
            "2\n",
            "1\n",
            "8\n"
          ]
        }
      ]
    }
  ]
}