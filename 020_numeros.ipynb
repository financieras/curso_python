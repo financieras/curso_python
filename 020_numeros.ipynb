{
  "nbformat": 4,
  "nbformat_minor": 0,
  "metadata": {
    "colab": {
      "provenance": [],
      "authorship_tag": "ABX9TyPPc5mrgW8d4c2GIpESZ5jB",
      "include_colab_link": true
    },
    "kernelspec": {
      "name": "python3",
      "display_name": "Python 3"
    },
    "language_info": {
      "name": "python"
    }
  },
  "cells": [
    {
      "cell_type": "markdown",
      "metadata": {
        "id": "view-in-github",
        "colab_type": "text"
      },
      "source": [
        "<a href=\"https://colab.research.google.com/github/financieras/curso_python/blob/main/020_numeros.ipynb\" target=\"_parent\"><img src=\"https://colab.research.google.com/assets/colab-badge.svg\" alt=\"Open In Colab\"/></a>"
      ]
    },
    {
      "cell_type": "markdown",
      "source": [
        "# Números"
      ],
      "metadata": {
        "id": "mks0N5wdsL_M"
      }
    },
    {
      "cell_type": "markdown",
      "source": [
        "## Números Enteros de tipo `int`\n",
        "* Positivos y negativos sin decimales\n",
        "* Incluye el cero."
      ],
      "metadata": {
        "id": "5w6Ww94Skx0Y"
      }
    },
    {
      "cell_type": "code",
      "source": [
        "edad = 18\n",
        "print(f\"Su edad es de {edad} años\")\n",
        "type(edad)"
      ],
      "metadata": {
        "id": "e9apJFEWk2sR",
        "outputId": "4318f864-7e9d-4a0c-f39f-6ec24b1fecfe",
        "colab": {
          "base_uri": "https://localhost:8080/"
        }
      },
      "execution_count": null,
      "outputs": [
        {
          "output_type": "stream",
          "name": "stdout",
          "text": [
            "Su edad es de 18 años\n"
          ]
        },
        {
          "output_type": "execute_result",
          "data": {
            "text/plain": [
              "int"
            ]
          },
          "metadata": {},
          "execution_count": 39
        }
      ]
    },
    {
      "cell_type": "code",
      "source": [
        "vidas = 4                   # int\n",
        "print(vidas)\n",
        "\n",
        "vidas = 7                   # nueva asignación de valor a la variable\n",
        "print(vidas)"
      ],
      "metadata": {
        "colab": {
          "base_uri": "https://localhost:8080/"
        },
        "id": "dI1A6dtw6O3z",
        "outputId": "1308ff42-7b7d-4403-8ce9-def121392469"
      },
      "execution_count": null,
      "outputs": [
        {
          "output_type": "stream",
          "name": "stdout",
          "text": [
            "4\n",
            "7\n"
          ]
        }
      ]
    },
    {
      "cell_type": "code",
      "source": [
        "vidas = 4 * 2               # podemos operar dentro de la asignación\n",
        "print(vidas)"
      ],
      "metadata": {
        "colab": {
          "base_uri": "https://localhost:8080/"
        },
        "id": "XnZ_8n-Y6sja",
        "outputId": "6826a653-1eff-40e0-c171-0c9abac6adab"
      },
      "execution_count": null,
      "outputs": [
        {
          "output_type": "stream",
          "name": "stdout",
          "text": [
            "8\n"
          ]
        }
      ]
    },
    {
      "cell_type": "markdown",
      "source": [
        "## Números Flotantes de tipo `float`\n",
        "1. Son números con decimales\n",
        "2. El separador de decmales el el punto"
      ],
      "metadata": {
        "id": "iSdvjigClAel"
      }
    },
    {
      "cell_type": "code",
      "source": [
        "precio = 12.75\n",
        "print(f\"El precio es {precio} €\")\n",
        "type(precio)"
      ],
      "metadata": {
        "id": "1dg0dC6qlRg1",
        "outputId": "983b8c18-a302-464e-d0c7-930c211458a9",
        "colab": {
          "base_uri": "https://localhost:8080/"
        }
      },
      "execution_count": null,
      "outputs": [
        {
          "output_type": "stream",
          "name": "stdout",
          "text": [
            "El precio es 12.75 €\n"
          ]
        },
        {
          "output_type": "execute_result",
          "data": {
            "text/plain": [
              "float"
            ]
          },
          "metadata": {},
          "execution_count": 42
        }
      ]
    },
    {
      "cell_type": "markdown",
      "source": [
        "# Operaciones aritméticas\n",
        "\\+   &nbsp;&nbsp;&nbsp;&nbsp;&nbsp; Suma, también concatena  \n",
        "\\-   &nbsp;&nbsp;&nbsp;&nbsp;&nbsp;&nbsp; Resta  \n",
        "\\*   &nbsp;&nbsp;&nbsp;&nbsp;&nbsp;&nbsp; Producto  \n",
        "**   &nbsp;&nbsp;&nbsp;&nbsp;&nbsp; Potencias, elevar, también con una librería matemática  \n",
        "/    &nbsp;&nbsp;&nbsp;&nbsp;&nbsp;&nbsp; Dividir. Siempre da como resultado un número de coma flotante  \n",
        "//   &nbsp;&nbsp;&nbsp;&nbsp;&nbsp; División entera  \n",
        "%    &nbsp;&nbsp;&nbsp;&nbsp; Resto, Residuo, Módulo\n"
      ],
      "metadata": {
        "id": "84NbsD-ql3ax"
      }
    },
    {
      "cell_type": "code",
      "source": [
        "2 + 3           # suma"
      ],
      "metadata": {
        "id": "d5U1pxtJl-7e",
        "outputId": "ad1fabcf-5a91-4972-8ecd-02ab657f2e62",
        "colab": {
          "base_uri": "https://localhost:8080/"
        }
      },
      "execution_count": null,
      "outputs": [
        {
          "output_type": "execute_result",
          "data": {
            "text/plain": [
              "5"
            ]
          },
          "metadata": {},
          "execution_count": 43
        }
      ]
    },
    {
      "cell_type": "code",
      "source": [
        "2 - 10          # resta"
      ],
      "metadata": {
        "id": "aR7klY5XmXiq",
        "outputId": "6fd7d486-b45c-427e-d44b-384e28911bb5",
        "colab": {
          "base_uri": "https://localhost:8080/"
        }
      },
      "execution_count": null,
      "outputs": [
        {
          "output_type": "execute_result",
          "data": {
            "text/plain": [
              "-8"
            ]
          },
          "metadata": {},
          "execution_count": 44
        }
      ]
    },
    {
      "cell_type": "code",
      "source": [
        "2 * -15         # producto"
      ],
      "metadata": {
        "id": "f7TOqO2mmgo-",
        "outputId": "405ea765-1294-4712-acaa-bc737a8bde3d",
        "colab": {
          "base_uri": "https://localhost:8080/"
        }
      },
      "execution_count": null,
      "outputs": [
        {
          "output_type": "execute_result",
          "data": {
            "text/plain": [
              "-30"
            ]
          },
          "metadata": {},
          "execution_count": 45
        }
      ]
    },
    {
      "cell_type": "code",
      "source": [
        "18 / 5          # división"
      ],
      "metadata": {
        "id": "_z3B6px5mp3T",
        "outputId": "18ca5fb6-c005-40e0-8002-1d142533039b",
        "colab": {
          "base_uri": "https://localhost:8080/"
        }
      },
      "execution_count": null,
      "outputs": [
        {
          "output_type": "execute_result",
          "data": {
            "text/plain": [
              "3.6"
            ]
          },
          "metadata": {},
          "execution_count": 46
        }
      ]
    },
    {
      "cell_type": "code",
      "source": [
        "10 / 2          # división, siempre da un float"
      ],
      "metadata": {
        "id": "QGjXAtknm6EG",
        "outputId": "5de34938-d9b2-49fa-9098-38442840d6cf",
        "colab": {
          "base_uri": "https://localhost:8080/"
        }
      },
      "execution_count": null,
      "outputs": [
        {
          "output_type": "execute_result",
          "data": {
            "text/plain": [
              "5.0"
            ]
          },
          "metadata": {},
          "execution_count": 47
        }
      ]
    },
    {
      "cell_type": "code",
      "source": [
        "18 // 5         # división entera, no redondea, trunca decimales"
      ],
      "metadata": {
        "id": "00G2Z14ZnAY7",
        "outputId": "1c3ef8e4-bee1-444b-e8e9-0abb00170975",
        "colab": {
          "base_uri": "https://localhost:8080/"
        }
      },
      "execution_count": null,
      "outputs": [
        {
          "output_type": "execute_result",
          "data": {
            "text/plain": [
              "3"
            ]
          },
          "metadata": {},
          "execution_count": 48
        }
      ]
    },
    {
      "cell_type": "code",
      "source": [
        "18 % 5          # resto, resíduo o módulo"
      ],
      "metadata": {
        "id": "GA2_kQKwnJzA",
        "outputId": "54e3613c-1e32-4f00-d831-6309b7d0c318",
        "colab": {
          "base_uri": "https://localhost:8080/"
        }
      },
      "execution_count": null,
      "outputs": [
        {
          "output_type": "execute_result",
          "data": {
            "text/plain": [
              "3"
            ]
          },
          "metadata": {},
          "execution_count": 49
        }
      ]
    },
    {
      "cell_type": "code",
      "source": [
        "2 ** 3          # potencias, 2^3 = 2*2*2 = 8. Dos elevado al cubo es ocho"
      ],
      "metadata": {
        "id": "9CSdOQI6nQXt",
        "outputId": "22159023-65c0-4c2d-e7ee-96f3c66cc4e8",
        "colab": {
          "base_uri": "https://localhost:8080/"
        }
      },
      "execution_count": null,
      "outputs": [
        {
          "output_type": "execute_result",
          "data": {
            "text/plain": [
              "8"
            ]
          },
          "metadata": {},
          "execution_count": 50
        }
      ]
    },
    {
      "cell_type": "code",
      "source": [
        "9 ** .5         # raíz cuadrada"
      ],
      "metadata": {
        "id": "6T6KITO2JKk6",
        "outputId": "08ae0d0d-a660-42f3-f3c3-7800b60d292a",
        "colab": {
          "base_uri": "https://localhost:8080/"
        }
      },
      "execution_count": 68,
      "outputs": [
        {
          "output_type": "execute_result",
          "data": {
            "text/plain": [
              "3.0"
            ]
          },
          "metadata": {},
          "execution_count": 68
        }
      ]
    },
    {
      "cell_type": "markdown",
      "source": [
        "## Prioridad de las operaciones\n",
        "En matemáticas se debe empezar resolviendo los paréntesis; luego, van los exponentes; después, las multiplicaciones y divisiones; y por último, las sumas y restas.\n",
        "\n",
        "De mayor a menor prioridad:\n",
        "1. Potencias: `**`\n",
        "2. Multiplicaciones, divisiones y resto: `*`, `/` y `%`\n",
        "3. Sumas y restas: `+` y `-`\n",
        "\n",
        "Pero siempre podemos utilizar paréntesis para determinar el orden en el que queremos que se apliquen los operadores."
      ],
      "metadata": {
        "id": "m1F5Qm5moH7P"
      }
    },
    {
      "cell_type": "code",
      "source": [
        "2 + 3 * 5"
      ],
      "metadata": {
        "id": "yLdiSUOHpqyH",
        "outputId": "f2e73915-817d-4618-87ad-7d4d01c74b2b",
        "colab": {
          "base_uri": "https://localhost:8080/"
        }
      },
      "execution_count": null,
      "outputs": [
        {
          "output_type": "execute_result",
          "data": {
            "text/plain": [
              "17"
            ]
          },
          "metadata": {},
          "execution_count": 51
        }
      ]
    },
    {
      "cell_type": "code",
      "source": [
        "1+((10+5*3)*2)/10"
      ],
      "metadata": {
        "id": "CYJbbcquJcZB",
        "outputId": "4e5a89b0-29ce-422b-def5-023ba6765998",
        "colab": {
          "base_uri": "https://localhost:8080/"
        }
      },
      "execution_count": 69,
      "outputs": [
        {
          "output_type": "execute_result",
          "data": {
            "text/plain": [
              "6.0"
            ]
          },
          "metadata": {},
          "execution_count": 69
        }
      ]
    },
    {
      "cell_type": "code",
      "source": [
        "(2 + 3) * 5"
      ],
      "metadata": {
        "id": "f8UxRMErp0TB",
        "outputId": "73093306-1bff-4135-e612-1e5453fd7aa5",
        "colab": {
          "base_uri": "https://localhost:8080/"
        }
      },
      "execution_count": null,
      "outputs": [
        {
          "output_type": "execute_result",
          "data": {
            "text/plain": [
              "25"
            ]
          },
          "metadata": {},
          "execution_count": 52
        }
      ]
    },
    {
      "cell_type": "markdown",
      "source": [
        "### Redondear\n",
        "Usando la función `round`"
      ],
      "metadata": {
        "id": "ReUHbkyxt7R4"
      }
    },
    {
      "cell_type": "code",
      "source": [
        "p = 69\n",
        "q = 7\n",
        "\n",
        "resultado = p / q\n",
        "print(\"Resultado:\", resultado)\n",
        "\n",
        "redondeado0 = round(resultado)    # redondeando a cero decimales\n",
        "print(\"Redondeando a cero decimales:\", redondeado0)"
      ],
      "metadata": {
        "id": "8Tn27mO9s12Q",
        "outputId": "36b8c61c-644f-4c50-9895-89fadcdc086a",
        "colab": {
          "base_uri": "https://localhost:8080/"
        }
      },
      "execution_count": null,
      "outputs": [
        {
          "output_type": "stream",
          "name": "stdout",
          "text": [
            "Resultado: 9.857142857142858\n",
            "Redondeando a cero decimales: 10\n"
          ]
        }
      ]
    },
    {
      "cell_type": "code",
      "source": [
        "redondeado2 = round(resultado, 2)   # redondeando a 2 decimales\n",
        "print(\"Redondeando a dos decimales:\", redondeado2)"
      ],
      "metadata": {
        "id": "Xmloazdktr7T",
        "outputId": "ff6d9aa8-9d14-4012-a4e0-bf67824cadfb",
        "colab": {
          "base_uri": "https://localhost:8080/"
        }
      },
      "execution_count": null,
      "outputs": [
        {
          "output_type": "stream",
          "name": "stdout",
          "text": [
            "Redondeando a dos decimales: 9.86\n"
          ]
        }
      ]
    },
    {
      "cell_type": "markdown",
      "source": [
        "### Maquetando decimales al imprimir\n",
        "* Podemos imprimir un resultado numérico `float` mostrando un cierto número de decimales\n",
        "* Al imprimir también redondea"
      ],
      "metadata": {
        "id": "AmopsX2W9h-F"
      }
    },
    {
      "cell_type": "code",
      "source": [
        "print(f\"Mostrando dos decimales: {resultado:.2f}\")   # maquetando texto"
      ],
      "metadata": {
        "id": "X2uSRz_W88ru",
        "outputId": "225cf684-51b9-4794-800d-e05fbd6892f7",
        "colab": {
          "base_uri": "https://localhost:8080/"
        }
      },
      "execution_count": null,
      "outputs": [
        {
          "output_type": "stream",
          "name": "stdout",
          "text": [
            "Mostrando dos decimales: 9.86\n"
          ]
        }
      ]
    },
    {
      "cell_type": "markdown",
      "source": [
        "## Contador\n",
        "1. Una variable actúa como contador cuando nos permite ir sumando 1 u otra cifra.\n",
        "2. La cifra que sumamos no siempre ha de ser 1, podríamos ir sumando de 5 en 5, por ejemplo\n",
        "3. En lugar de sumar también podríamos ir restando y el contador sería descendente"
      ],
      "metadata": {
        "id": "MR-_l4Ic8IKT"
      }
    },
    {
      "cell_type": "code",
      "source": [
        "vidas = vidas + 1\n",
        "print(vidas)\n",
        "\n",
        "vidas += 1              # forma abreviada de sumar 1 a la variable. Se usa mucho\n",
        "print(vidas)"
      ],
      "metadata": {
        "id": "rqgEP4OX7D57",
        "outputId": "b5a5edcc-2e1d-42f9-f024-c795babf70e1",
        "colab": {
          "base_uri": "https://localhost:8080/"
        }
      },
      "execution_count": null,
      "outputs": [
        {
          "output_type": "stream",
          "name": "stdout",
          "text": [
            "9\n",
            "10\n"
          ]
        }
      ]
    },
    {
      "cell_type": "code",
      "source": [
        "vidas += 5              # aquí sumamos 5 a la variable\n",
        "print(vidas)\n",
        "\n",
        "vidas -= 5              # ahora restamos 5 a la variable\n",
        "print(vidas)"
      ],
      "metadata": {
        "id": "ptE7K3iv7Nt6",
        "outputId": "8b7142af-c7a1-483f-d63e-c3d95424c892",
        "colab": {
          "base_uri": "https://localhost:8080/"
        }
      },
      "execution_count": null,
      "outputs": [
        {
          "output_type": "stream",
          "name": "stdout",
          "text": [
            "15\n",
            "10\n"
          ]
        }
      ]
    },
    {
      "cell_type": "markdown",
      "source": [
        "## Asignación a múltiples variables"
      ],
      "metadata": {
        "id": "XQsIVqDXevFi"
      }
    },
    {
      "cell_type": "code",
      "source": [
        "a, b, c = 10, 20, 30             # asignación a múltiples variables\n",
        "p = q = r = 1                    # las tres variables se asignan al mismo valor"
      ],
      "metadata": {
        "id": "zY0sH9ZFe1jg"
      },
      "execution_count": null,
      "outputs": []
    },
    {
      "cell_type": "code",
      "source": [
        "print('a=', a, 'b=', b, 'c=', c)                           # al separar con coma se deja un espacio\n",
        "print('a=' + str(a) + ', b=' + str(b) + ', c=' + str(c))   # solución 1 para evitar el espacio\n",
        "print(f'a={a}, b={b}, c={c}')                              # solución 2 para evitar el espacio"
      ],
      "metadata": {
        "id": "7-yaGS3ofBII",
        "outputId": "9156678b-625f-40ac-d4cb-01a51ff5ea2c",
        "colab": {
          "base_uri": "https://localhost:8080/"
        }
      },
      "execution_count": null,
      "outputs": [
        {
          "output_type": "stream",
          "name": "stdout",
          "text": [
            "a= 10 b= 20 c= 30\n",
            "a=10, b=20, c=30\n",
            "a=10, b=20, c=30\n"
          ]
        }
      ]
    },
    {
      "cell_type": "markdown",
      "source": [
        "## Notación científica"
      ],
      "metadata": {
        "id": "ADDDlRti9CyU"
      }
    },
    {
      "cell_type": "code",
      "source": [
        "x = 4200000000000000000000\n",
        "x += 0.1\n",
        "x"
      ],
      "metadata": {
        "id": "j0gRrMe99IND",
        "outputId": "6a6097ab-8177-4ff2-e9b7-4e8cd1948785",
        "colab": {
          "base_uri": "https://localhost:8080/"
        }
      },
      "execution_count": null,
      "outputs": [
        {
          "output_type": "execute_result",
          "data": {
            "text/plain": [
              "4.2e+21"
            ]
          },
          "metadata": {},
          "execution_count": 60
        }
      ]
    },
    {
      "cell_type": "code",
      "source": [
        "y = 0.00000000000000000001\n",
        "y"
      ],
      "metadata": {
        "id": "Lw2xpLUk-K00",
        "outputId": "7d756224-23ca-4dab-d5c7-5910f89d1433",
        "colab": {
          "base_uri": "https://localhost:8080/"
        }
      },
      "execution_count": null,
      "outputs": [
        {
          "output_type": "execute_result",
          "data": {
            "text/plain": [
              "1e-20"
            ]
          },
          "metadata": {},
          "execution_count": 61
        }
      ]
    },
    {
      "cell_type": "markdown",
      "source": [
        "## Conversión de `int` a `float`"
      ],
      "metadata": {
        "id": "VFokeyzP-3c1"
      }
    },
    {
      "cell_type": "code",
      "source": [
        "precio = 15\n",
        "print(precio)\n",
        "\n",
        "precio = float(precio)\n",
        "precio"
      ],
      "metadata": {
        "id": "HUSSyjEc-9hO",
        "outputId": "1421ff03-d184-41a1-b1af-01b75a39d1aa",
        "colab": {
          "base_uri": "https://localhost:8080/"
        }
      },
      "execution_count": null,
      "outputs": [
        {
          "output_type": "stream",
          "name": "stdout",
          "text": [
            "15\n"
          ]
        },
        {
          "output_type": "execute_result",
          "data": {
            "text/plain": [
              "15.0"
            ]
          },
          "metadata": {},
          "execution_count": 62
        }
      ]
    },
    {
      "cell_type": "markdown",
      "source": [
        "## Imprecisión en floatantes\n",
        "1. Al operar con números decimales, en ocasiones, se pueden presentar imprecisiones.\n",
        "2. Esto pasa habitualmente en los lenguajes de programación\n",
        "3. Se debe a que los números se traducen a binario, luego se opera y finalmente se vuelve a traducir de binario a decimal. En todo ese tránsido se pueden cometer imprecisiones"
      ],
      "metadata": {
        "id": "8iliP_NI217-"
      }
    },
    {
      "cell_type": "code",
      "source": [
        "0.1 + 0.1 + 0.1"
      ],
      "metadata": {
        "id": "DkcBBy5u2_iL",
        "outputId": "41b5b4bb-e887-4d05-d8f7-1c937120211c",
        "colab": {
          "base_uri": "https://localhost:8080/"
        }
      },
      "execution_count": null,
      "outputs": [
        {
          "output_type": "execute_result",
          "data": {
            "text/plain": [
              "0.30000000000000004"
            ]
          },
          "metadata": {},
          "execution_count": 63
        }
      ]
    },
    {
      "cell_type": "code",
      "source": [
        ".1 + .1 + .1 == .3"
      ],
      "metadata": {
        "id": "_1hxGnom4EK6",
        "outputId": "70670251-12f7-4639-ab46-119460dabfd0",
        "colab": {
          "base_uri": "https://localhost:8080/"
        }
      },
      "execution_count": null,
      "outputs": [
        {
          "output_type": "execute_result",
          "data": {
            "text/plain": [
              "False"
            ]
          },
          "metadata": {},
          "execution_count": 64
        }
      ]
    },
    {
      "cell_type": "markdown",
      "source": [
        "## Decimal a Binario\n",
        "Decimal → Binario\n",
        "* 1 → 1\n",
        "* 2 → 10\n",
        "* 3 → 11\n",
        "* 4 → 100\n",
        "* 5 → 101\n",
        "* 6 → 110\n",
        "* 7 → 111\n",
        "* 8 → 1000\n",
        "* 9 → 1001\n",
        "* 10 → 1010"
      ],
      "metadata": {
        "id": "pZOHopLM7XsP"
      }
    },
    {
      "cell_type": "code",
      "source": [
        "bin(2)"
      ],
      "metadata": {
        "id": "pGPYqDkj7Ksi",
        "outputId": "eaf1f5df-2d73-4f62-b079-67f24f5b66c8",
        "colab": {
          "base_uri": "https://localhost:8080/",
          "height": 35
        }
      },
      "execution_count": null,
      "outputs": [
        {
          "output_type": "execute_result",
          "data": {
            "text/plain": [
              "'0b10'"
            ],
            "application/vnd.google.colaboratory.intrinsic+json": {
              "type": "string"
            }
          },
          "metadata": {},
          "execution_count": 65
        }
      ]
    },
    {
      "cell_type": "code",
      "source": [
        "bin(10)"
      ],
      "metadata": {
        "id": "OrFcpS-c7QN8",
        "outputId": "b7ebae8e-d649-41b4-be7b-53a858bd0bd4",
        "colab": {
          "base_uri": "https://localhost:8080/",
          "height": 35
        }
      },
      "execution_count": null,
      "outputs": [
        {
          "output_type": "execute_result",
          "data": {
            "text/plain": [
              "'0b1010'"
            ],
            "application/vnd.google.colaboratory.intrinsic+json": {
              "type": "string"
            }
          },
          "metadata": {},
          "execution_count": 66
        }
      ]
    },
    {
      "cell_type": "markdown",
      "source": [
        "## `chr`\n",
        "Convierte un entero en un caracter siguiendo el código ASCII"
      ],
      "metadata": {
        "id": "HRskrnosACvL"
      }
    },
    {
      "cell_type": "code",
      "source": [
        "chr(80)"
      ],
      "metadata": {
        "id": "DSeTap94AF1H",
        "outputId": "4feb89a5-bab7-47da-971f-5a5a1f1ca0a9",
        "colab": {
          "base_uri": "https://localhost:8080/",
          "height": 35
        }
      },
      "execution_count": null,
      "outputs": [
        {
          "output_type": "execute_result",
          "data": {
            "text/plain": [
              "'P'"
            ],
            "application/vnd.google.colaboratory.intrinsic+json": {
              "type": "string"
            }
          },
          "metadata": {},
          "execution_count": 67
        }
      ]
    },
    {
      "cell_type": "markdown",
      "source": [
        "## Ejercicios"
      ],
      "metadata": {
        "id": "-tvNVnMbrHpT"
      }
    },
    {
      "cell_type": "markdown",
      "source": [
        "#### *Ejercicio 1*\n",
        "1. Crea una expresión matemática con varios paréntesis que tenga un poco de todo: sumas, restas, ... y que al final de cero.\n",
        "2. Añade algún comentario a tu código"
      ],
      "metadata": {
        "id": "wNVIV1DQrDwW"
      }
    },
    {
      "cell_type": "markdown",
      "source": [
        "#### *Ejercicio 2*\n",
        "1. Cuatro amigos reparten 15 comic a partes iguales y si la división no es exacta, el resto lo dejarán en la biblioteca.\n",
        "    - ¿Cómo ha quedado el reparto?\n",
        "    - ¿Cuánto vale la variable `biblioteca`?\n",
        "2. Explica el caso usando un *comentario de varias líneas* en Python.\n",
        "    - Como aquí no hemos contado cómo se hacen este tipo de comentarios que ocupan varias líneas busca algún recurso que lo explique."
      ],
      "metadata": {
        "id": "i8bDd8t8rT8O"
      }
    },
    {
      "cell_type": "markdown",
      "source": [
        "#### *Ejercicio 3*\n",
        "* He realizado tres exámenes y me gustaría obtener la nota media.\n",
        "    1. la nota1 ha sido de 7\n",
        "    2. la nota2 ha sido de 7\n",
        "    3. la nota3 ha sido de 9\n",
        "* Me gustaría calcular mi nota media redondeada\n",
        "* Deja tu código preparado para que si las notas de los exámenes cambian se calcule la media automáticamente\n",
        "* Añade comentarios explicativos a tu código"
      ],
      "metadata": {
        "id": "8FuDPlocrcYB"
      }
    }
  ]
}