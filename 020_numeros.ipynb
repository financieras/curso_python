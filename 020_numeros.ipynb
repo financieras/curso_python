{
  "nbformat": 4,
  "nbformat_minor": 0,
  "metadata": {
    "colab": {
      "provenance": [],
      "authorship_tag": "ABX9TyNhPOvU01T5o8ySvFoxVnsJ",
      "include_colab_link": true
    },
    "kernelspec": {
      "name": "python3",
      "display_name": "Python 3"
    },
    "language_info": {
      "name": "python"
    }
  },
  "cells": [
    {
      "cell_type": "markdown",
      "metadata": {
        "id": "view-in-github",
        "colab_type": "text"
      },
      "source": [
        "<a href=\"https://colab.research.google.com/github/financieras/curso_python/blob/main/020_numeros.ipynb\" target=\"_parent\"><img src=\"https://colab.research.google.com/assets/colab-badge.svg\" alt=\"Open In Colab\"/></a>"
      ]
    },
    {
      "cell_type": "markdown",
      "source": [
        "# Números"
      ],
      "metadata": {
        "id": "mks0N5wdsL_M"
      }
    },
    {
      "cell_type": "markdown",
      "source": [
        "## Números Enteros de tipo `int`\n",
        "* Positivos y negativos sin decimales\n",
        "* Incluye el cero."
      ],
      "metadata": {
        "id": "5w6Ww94Skx0Y"
      }
    },
    {
      "cell_type": "code",
      "source": [
        "edad = 18\n",
        "print(f\"Su edad es de {edad} años\")\n",
        "type(edad)"
      ],
      "metadata": {
        "id": "e9apJFEWk2sR",
        "outputId": "4318f864-7e9d-4a0c-f39f-6ec24b1fecfe",
        "colab": {
          "base_uri": "https://localhost:8080/"
        }
      },
      "execution_count": null,
      "outputs": [
        {
          "output_type": "stream",
          "name": "stdout",
          "text": [
            "Su edad es de 18 años\n"
          ]
        },
        {
          "output_type": "execute_result",
          "data": {
            "text/plain": [
              "int"
            ]
          },
          "metadata": {},
          "execution_count": 39
        }
      ]
    },
    {
      "cell_type": "code",
      "source": [
        "vidas = 4                   # int\n",
        "print(vidas)\n",
        "\n",
        "vidas = 7                   # nueva asignación de valor a la variable\n",
        "print(vidas)"
      ],
      "metadata": {
        "colab": {
          "base_uri": "https://localhost:8080/"
        },
        "id": "dI1A6dtw6O3z",
        "outputId": "1308ff42-7b7d-4403-8ce9-def121392469"
      },
      "execution_count": null,
      "outputs": [
        {
          "output_type": "stream",
          "name": "stdout",
          "text": [
            "4\n",
            "7\n"
          ]
        }
      ]
    },
    {
      "cell_type": "code",
      "source": [
        "vidas = 4 * 2               # podemos operar dentro de la asignación\n",
        "print(vidas)"
      ],
      "metadata": {
        "colab": {
          "base_uri": "https://localhost:8080/"
        },
        "id": "XnZ_8n-Y6sja",
        "outputId": "6826a653-1eff-40e0-c171-0c9abac6adab"
      },
      "execution_count": null,
      "outputs": [
        {
          "output_type": "stream",
          "name": "stdout",
          "text": [
            "8\n"
          ]
        }
      ]
    },
    {
      "cell_type": "markdown",
      "source": [
        "## Números Flotantes de tipo `float`\n",
        "1. Son números con decimales\n",
        "2. El separador de decmales el el punto"
      ],
      "metadata": {
        "id": "iSdvjigClAel"
      }
    },
    {
      "cell_type": "code",
      "source": [
        "precio = 12.75\n",
        "print(f\"El precio es {precio} €\")\n",
        "type(precio)"
      ],
      "metadata": {
        "id": "1dg0dC6qlRg1",
        "outputId": "983b8c18-a302-464e-d0c7-930c211458a9",
        "colab": {
          "base_uri": "https://localhost:8080/"
        }
      },
      "execution_count": null,
      "outputs": [
        {
          "output_type": "stream",
          "name": "stdout",
          "text": [
            "El precio es 12.75 €\n"
          ]
        },
        {
          "output_type": "execute_result",
          "data": {
            "text/plain": [
              "float"
            ]
          },
          "metadata": {},
          "execution_count": 42
        }
      ]
    },
    {
      "cell_type": "markdown",
      "source": [
        "## Asignación a múltiples variables"
      ],
      "metadata": {
        "id": "XQsIVqDXevFi"
      }
    },
    {
      "cell_type": "code",
      "source": [
        "a, b, c = 10, 20, 30             # asignación a múltiples variables\n",
        "p = q = r = 1                    # las tres variables se asignan al mismo valor"
      ],
      "metadata": {
        "id": "zY0sH9ZFe1jg"
      },
      "execution_count": null,
      "outputs": []
    },
    {
      "cell_type": "code",
      "source": [
        "print('a=', a, 'b=', b, 'c=', c)                           # al separar con coma se deja un espacio\n",
        "print('a=' + str(a) + ', b=' + str(b) + ', c=' + str(c))   # solución 1 para evitar el espacio\n",
        "print(f'a={a}, b={b}, c={c}')                              # solución 2 para evitar el espacio"
      ],
      "metadata": {
        "id": "7-yaGS3ofBII",
        "outputId": "9156678b-625f-40ac-d4cb-01a51ff5ea2c",
        "colab": {
          "base_uri": "https://localhost:8080/"
        }
      },
      "execution_count": null,
      "outputs": [
        {
          "output_type": "stream",
          "name": "stdout",
          "text": [
            "a= 10 b= 20 c= 30\n",
            "a=10, b=20, c=30\n",
            "a=10, b=20, c=30\n"
          ]
        }
      ]
    },
    {
      "cell_type": "markdown",
      "source": [
        "## Notación científica"
      ],
      "metadata": {
        "id": "ADDDlRti9CyU"
      }
    },
    {
      "cell_type": "code",
      "source": [
        "x = 4200000000000000000000\n",
        "x += 0.1\n",
        "x"
      ],
      "metadata": {
        "id": "j0gRrMe99IND",
        "outputId": "6a6097ab-8177-4ff2-e9b7-4e8cd1948785",
        "colab": {
          "base_uri": "https://localhost:8080/"
        }
      },
      "execution_count": null,
      "outputs": [
        {
          "output_type": "execute_result",
          "data": {
            "text/plain": [
              "4.2e+21"
            ]
          },
          "metadata": {},
          "execution_count": 60
        }
      ]
    },
    {
      "cell_type": "code",
      "source": [
        "y = 0.00000000000000000001\n",
        "y"
      ],
      "metadata": {
        "id": "Lw2xpLUk-K00",
        "outputId": "7d756224-23ca-4dab-d5c7-5910f89d1433",
        "colab": {
          "base_uri": "https://localhost:8080/"
        }
      },
      "execution_count": null,
      "outputs": [
        {
          "output_type": "execute_result",
          "data": {
            "text/plain": [
              "1e-20"
            ]
          },
          "metadata": {},
          "execution_count": 61
        }
      ]
    },
    {
      "cell_type": "markdown",
      "source": [
        "## Conversión de `int` a `float`"
      ],
      "metadata": {
        "id": "VFokeyzP-3c1"
      }
    },
    {
      "cell_type": "code",
      "source": [
        "precio = 15\n",
        "print(precio)\n",
        "\n",
        "precio = float(precio)\n",
        "precio"
      ],
      "metadata": {
        "id": "HUSSyjEc-9hO",
        "outputId": "1421ff03-d184-41a1-b1af-01b75a39d1aa",
        "colab": {
          "base_uri": "https://localhost:8080/"
        }
      },
      "execution_count": null,
      "outputs": [
        {
          "output_type": "stream",
          "name": "stdout",
          "text": [
            "15\n"
          ]
        },
        {
          "output_type": "execute_result",
          "data": {
            "text/plain": [
              "15.0"
            ]
          },
          "metadata": {},
          "execution_count": 62
        }
      ]
    },
    {
      "cell_type": "markdown",
      "source": [
        "## Imprecisión en floatantes\n",
        "1. Al operar con números decimales, en ocasiones, se pueden presentar imprecisiones.\n",
        "2. Esto pasa habitualmente en los lenguajes de programación\n",
        "3. Se debe a que los números se traducen a binario, luego se opera y finalmente se vuelve a traducir de binario a decimal. En todo ese tránsido se pueden cometer imprecisiones"
      ],
      "metadata": {
        "id": "8iliP_NI217-"
      }
    },
    {
      "cell_type": "code",
      "source": [
        "0.1 + 0.1 + 0.1"
      ],
      "metadata": {
        "id": "DkcBBy5u2_iL",
        "outputId": "41b5b4bb-e887-4d05-d8f7-1c937120211c",
        "colab": {
          "base_uri": "https://localhost:8080/"
        }
      },
      "execution_count": null,
      "outputs": [
        {
          "output_type": "execute_result",
          "data": {
            "text/plain": [
              "0.30000000000000004"
            ]
          },
          "metadata": {},
          "execution_count": 63
        }
      ]
    },
    {
      "cell_type": "code",
      "source": [
        ".1 + .1 + .1 == .3"
      ],
      "metadata": {
        "id": "_1hxGnom4EK6",
        "outputId": "70670251-12f7-4639-ab46-119460dabfd0",
        "colab": {
          "base_uri": "https://localhost:8080/"
        }
      },
      "execution_count": null,
      "outputs": [
        {
          "output_type": "execute_result",
          "data": {
            "text/plain": [
              "False"
            ]
          },
          "metadata": {},
          "execution_count": 64
        }
      ]
    },
    {
      "cell_type": "markdown",
      "source": [
        "## Decimal a Binario\n",
        "Decimal → [Binario](https://es.wikipedia.org/wiki/Sistema_binario)\n",
        "* 1 → 1\n",
        "* 2 → 10\n",
        "* 3 → 11\n",
        "* 4 → 100\n",
        "* 5 → 101\n",
        "* 6 → 110\n",
        "* 7 → 111\n",
        "* 8 → 1000\n",
        "* 9 → 1001\n",
        "* 10 → 1010"
      ],
      "metadata": {
        "id": "pZOHopLM7XsP"
      }
    },
    {
      "cell_type": "code",
      "source": [
        "bin(2)"
      ],
      "metadata": {
        "id": "pGPYqDkj7Ksi",
        "outputId": "eaf1f5df-2d73-4f62-b079-67f24f5b66c8",
        "colab": {
          "base_uri": "https://localhost:8080/",
          "height": 35
        }
      },
      "execution_count": null,
      "outputs": [
        {
          "output_type": "execute_result",
          "data": {
            "text/plain": [
              "'0b10'"
            ],
            "application/vnd.google.colaboratory.intrinsic+json": {
              "type": "string"
            }
          },
          "metadata": {},
          "execution_count": 65
        }
      ]
    },
    {
      "cell_type": "code",
      "source": [
        "bin(10)"
      ],
      "metadata": {
        "id": "OrFcpS-c7QN8",
        "outputId": "b7ebae8e-d649-41b4-be7b-53a858bd0bd4",
        "colab": {
          "base_uri": "https://localhost:8080/",
          "height": 35
        }
      },
      "execution_count": null,
      "outputs": [
        {
          "output_type": "execute_result",
          "data": {
            "text/plain": [
              "'0b1010'"
            ],
            "application/vnd.google.colaboratory.intrinsic+json": {
              "type": "string"
            }
          },
          "metadata": {},
          "execution_count": 66
        }
      ]
    },
    {
      "cell_type": "markdown",
      "source": [
        "## `chr`\n",
        "Convierte un entero en un caracter siguiendo el código ASCII"
      ],
      "metadata": {
        "id": "HRskrnosACvL"
      }
    },
    {
      "cell_type": "code",
      "source": [
        "chr(80)"
      ],
      "metadata": {
        "id": "DSeTap94AF1H",
        "outputId": "4feb89a5-bab7-47da-971f-5a5a1f1ca0a9",
        "colab": {
          "base_uri": "https://localhost:8080/",
          "height": 35
        }
      },
      "execution_count": null,
      "outputs": [
        {
          "output_type": "execute_result",
          "data": {
            "text/plain": [
              "'P'"
            ],
            "application/vnd.google.colaboratory.intrinsic+json": {
              "type": "string"
            }
          },
          "metadata": {},
          "execution_count": 67
        }
      ]
    },
    {
      "cell_type": "markdown",
      "source": [
        "## Ejercicios"
      ],
      "metadata": {
        "id": "-tvNVnMbrHpT"
      }
    },
    {
      "cell_type": "markdown",
      "source": [
        "#### *Ejercicio 1*\n",
        "1. Crea una expresión matemática con varios paréntesis que tenga un poco de todo: sumas, restas, ... y que al final de cero.\n",
        "2. Añade algún comentario a tu código"
      ],
      "metadata": {
        "id": "wNVIV1DQrDwW"
      }
    },
    {
      "cell_type": "markdown",
      "source": [
        "#### *Ejercicio 2*\n",
        "1. Cuatro amigos reparten 15 comic a partes iguales y si la división no es exacta, el resto lo dejarán en la biblioteca.\n",
        "    - ¿Cómo ha quedado el reparto?\n",
        "    - ¿Cuánto vale la variable `biblioteca`?\n",
        "2. Explica el caso usando un *comentario de varias líneas* en Python.\n",
        "    - Como aquí no hemos contado cómo se hacen este tipo de comentarios que ocupan varias líneas busca algún recurso que lo explique."
      ],
      "metadata": {
        "id": "i8bDd8t8rT8O"
      }
    },
    {
      "cell_type": "markdown",
      "source": [
        "#### *Ejercicio 3*\n",
        "* He realizado tres exámenes y me gustaría obtener la nota media.\n",
        "    1. la nota1 ha sido de 7\n",
        "    2. la nota2 ha sido de 7\n",
        "    3. la nota3 ha sido de 9\n",
        "* Me gustaría calcular mi nota media redondeada\n",
        "* Deja tu código preparado para que si las notas de los exámenes cambian se calcule la media automáticamente\n",
        "* Añade comentarios explicativos a tu código"
      ],
      "metadata": {
        "id": "8FuDPlocrcYB"
      }
    }
  ]
}