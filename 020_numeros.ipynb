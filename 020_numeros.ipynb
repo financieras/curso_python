{
  "nbformat": 4,
  "nbformat_minor": 0,
  "metadata": {
    "colab": {
      "provenance": [],
      "authorship_tag": "ABX9TyOo3cNFv1l/f74NxWS9E8EQ",
      "include_colab_link": true
    },
    "kernelspec": {
      "name": "python3",
      "display_name": "Python 3"
    },
    "language_info": {
      "name": "python"
    }
  },
  "cells": [
    {
      "cell_type": "markdown",
      "metadata": {
        "id": "view-in-github",
        "colab_type": "text"
      },
      "source": [
        "<a href=\"https://colab.research.google.com/github/financieras/curso_python/blob/main/020_numeros.ipynb\" target=\"_parent\"><img src=\"https://colab.research.google.com/assets/colab-badge.svg\" alt=\"Open In Colab\"/></a>"
      ]
    },
    {
      "cell_type": "markdown",
      "source": [
        "# Números"
      ],
      "metadata": {
        "id": "mks0N5wdsL_M"
      }
    },
    {
      "cell_type": "markdown",
      "source": [
        "## Números Enteros de tipo `int`\n",
        "* Positivos y negativos sin decimales\n",
        "* Incluye el cero."
      ],
      "metadata": {
        "id": "5w6Ww94Skx0Y"
      }
    },
    {
      "cell_type": "code",
      "source": [
        "edad = 18\n",
        "print(f\"Su edad es de {edad} años\")\n",
        "type(edad)"
      ],
      "metadata": {
        "id": "e9apJFEWk2sR",
        "outputId": "ce462c89-6099-4ba1-9bbd-df6d2e7f87f1",
        "colab": {
          "base_uri": "https://localhost:8080/"
        }
      },
      "execution_count": null,
      "outputs": [
        {
          "output_type": "stream",
          "name": "stdout",
          "text": [
            "Su edad es de 18 años\n"
          ]
        },
        {
          "output_type": "execute_result",
          "data": {
            "text/plain": [
              "int"
            ]
          },
          "metadata": {},
          "execution_count": 4
        }
      ]
    },
    {
      "cell_type": "code",
      "source": [
        "vidas = 4                   # int\n",
        "print(vidas)\n",
        "\n",
        "vidas = 7                   # nueva asignación de valor a la variable\n",
        "print(vidas)"
      ],
      "metadata": {
        "colab": {
          "base_uri": "https://localhost:8080/"
        },
        "id": "dI1A6dtw6O3z",
        "outputId": "f56cb95f-05e2-43e0-ee63-05ddd48e3e1c"
      },
      "execution_count": 1,
      "outputs": [
        {
          "output_type": "stream",
          "name": "stdout",
          "text": [
            "4\n",
            "7\n"
          ]
        }
      ]
    },
    {
      "cell_type": "code",
      "source": [
        "vidas = 4 * 2               # podemos operar dentro de la asignación\n",
        "print(vidas)"
      ],
      "metadata": {
        "colab": {
          "base_uri": "https://localhost:8080/"
        },
        "id": "XnZ_8n-Y6sja",
        "outputId": "52a898bd-c7da-4b63-9227-084e92a273fc"
      },
      "execution_count": 2,
      "outputs": [
        {
          "output_type": "stream",
          "name": "stdout",
          "text": [
            "8\n"
          ]
        }
      ]
    },
    {
      "cell_type": "markdown",
      "source": [
        "## Números Flotantes de tipo `float`\n",
        "1. Son números con decimales\n",
        "2. El separador de decmales el el punto"
      ],
      "metadata": {
        "id": "iSdvjigClAel"
      }
    },
    {
      "cell_type": "code",
      "source": [
        "precio = 12.75\n",
        "print(f\"El precio es {precio} €\")\n",
        "type(precio)"
      ],
      "metadata": {
        "id": "1dg0dC6qlRg1",
        "outputId": "5ea42ca4-8736-4cba-c0e1-efa8a29ae9dd",
        "colab": {
          "base_uri": "https://localhost:8080/"
        }
      },
      "execution_count": null,
      "outputs": [
        {
          "output_type": "stream",
          "name": "stdout",
          "text": [
            "El precio es 12.75 €\n"
          ]
        },
        {
          "output_type": "execute_result",
          "data": {
            "text/plain": [
              "float"
            ]
          },
          "metadata": {},
          "execution_count": 5
        }
      ]
    },
    {
      "cell_type": "markdown",
      "source": [
        "# Operaciones aritméticas\n"
      ],
      "metadata": {
        "id": "84NbsD-ql3ax"
      }
    },
    {
      "cell_type": "code",
      "source": [
        "2 + 3           # suma"
      ],
      "metadata": {
        "id": "d5U1pxtJl-7e",
        "outputId": "2af758ba-ccd7-4671-c972-7130891962c2",
        "colab": {
          "base_uri": "https://localhost:8080/"
        }
      },
      "execution_count": null,
      "outputs": [
        {
          "output_type": "execute_result",
          "data": {
            "text/plain": [
              "5"
            ]
          },
          "metadata": {},
          "execution_count": 6
        }
      ]
    },
    {
      "cell_type": "code",
      "source": [
        "2 - 10          # resta"
      ],
      "metadata": {
        "id": "aR7klY5XmXiq",
        "outputId": "9ac59c8e-2c83-4afc-f497-b0e82c8907f5",
        "colab": {
          "base_uri": "https://localhost:8080/"
        }
      },
      "execution_count": null,
      "outputs": [
        {
          "output_type": "execute_result",
          "data": {
            "text/plain": [
              "-8"
            ]
          },
          "metadata": {},
          "execution_count": 7
        }
      ]
    },
    {
      "cell_type": "code",
      "source": [
        "2 * -15         # producto"
      ],
      "metadata": {
        "id": "f7TOqO2mmgo-",
        "outputId": "eee37ea3-4c35-4c7e-c12d-e17b47a2dac1",
        "colab": {
          "base_uri": "https://localhost:8080/"
        }
      },
      "execution_count": null,
      "outputs": [
        {
          "output_type": "execute_result",
          "data": {
            "text/plain": [
              "-30"
            ]
          },
          "metadata": {},
          "execution_count": 8
        }
      ]
    },
    {
      "cell_type": "code",
      "source": [
        "18 / 5          # división"
      ],
      "metadata": {
        "id": "_z3B6px5mp3T",
        "outputId": "504ecd60-ce7d-4653-e254-ec4b107e1d27",
        "colab": {
          "base_uri": "https://localhost:8080/"
        }
      },
      "execution_count": null,
      "outputs": [
        {
          "output_type": "execute_result",
          "data": {
            "text/plain": [
              "3.6"
            ]
          },
          "metadata": {},
          "execution_count": 9
        }
      ]
    },
    {
      "cell_type": "code",
      "source": [
        "10 / 2          # división, siempre da un float"
      ],
      "metadata": {
        "id": "QGjXAtknm6EG",
        "outputId": "39b35962-665f-47e9-92ba-062c3751b294",
        "colab": {
          "base_uri": "https://localhost:8080/"
        }
      },
      "execution_count": null,
      "outputs": [
        {
          "output_type": "execute_result",
          "data": {
            "text/plain": [
              "5.0"
            ]
          },
          "metadata": {},
          "execution_count": 10
        }
      ]
    },
    {
      "cell_type": "code",
      "source": [
        "18 // 5         # división entera, no redondea, trunca decimales"
      ],
      "metadata": {
        "id": "00G2Z14ZnAY7",
        "outputId": "b596cb3c-5a06-422c-adce-555d5d1e3225",
        "colab": {
          "base_uri": "https://localhost:8080/"
        }
      },
      "execution_count": null,
      "outputs": [
        {
          "output_type": "execute_result",
          "data": {
            "text/plain": [
              "3"
            ]
          },
          "metadata": {},
          "execution_count": 11
        }
      ]
    },
    {
      "cell_type": "code",
      "source": [
        "18 % 5          # resto, resíduo o módulo"
      ],
      "metadata": {
        "id": "GA2_kQKwnJzA",
        "outputId": "1384612a-6cd0-4220-eee4-b4414abeadab",
        "colab": {
          "base_uri": "https://localhost:8080/"
        }
      },
      "execution_count": null,
      "outputs": [
        {
          "output_type": "execute_result",
          "data": {
            "text/plain": [
              "3"
            ]
          },
          "metadata": {},
          "execution_count": 12
        }
      ]
    },
    {
      "cell_type": "code",
      "source": [
        "2 ** 3          # potencias, 2^3 = 2*2*2 = 8. Dos elevado al cubo es ocho"
      ],
      "metadata": {
        "id": "9CSdOQI6nQXt",
        "outputId": "f6e0ef9e-c4cf-4297-f65b-a6776ef5a923",
        "colab": {
          "base_uri": "https://localhost:8080/"
        }
      },
      "execution_count": null,
      "outputs": [
        {
          "output_type": "execute_result",
          "data": {
            "text/plain": [
              "8"
            ]
          },
          "metadata": {},
          "execution_count": 13
        }
      ]
    },
    {
      "cell_type": "markdown",
      "source": [
        "## Precedencia de operaciones y paréntesis\n",
        "De mayor a menor prioridad:\n",
        "1. Potencias: `**`\n",
        "2. Multiplicaciones, divisiones y resto: `*`, `/` y `%`\n",
        "3. Sumas y restas: `+` y `-`\n",
        "\n",
        "Pero siempre podemos utilizar paréntesis para determinar el orden en el que queremos que se apliquen los operadores."
      ],
      "metadata": {
        "id": "m1F5Qm5moH7P"
      }
    },
    {
      "cell_type": "code",
      "source": [
        "2 + 3 * 5"
      ],
      "metadata": {
        "id": "yLdiSUOHpqyH",
        "outputId": "c5a9ddcf-993d-4655-e454-1f43a0a4d92b",
        "colab": {
          "base_uri": "https://localhost:8080/"
        }
      },
      "execution_count": null,
      "outputs": [
        {
          "output_type": "execute_result",
          "data": {
            "text/plain": [
              "17"
            ]
          },
          "metadata": {},
          "execution_count": 14
        }
      ]
    },
    {
      "cell_type": "code",
      "source": [
        "(2 + 3) * 5"
      ],
      "metadata": {
        "id": "f8UxRMErp0TB",
        "outputId": "b7c6853e-ae27-421e-85bd-2c4f8f6db92d",
        "colab": {
          "base_uri": "https://localhost:8080/"
        }
      },
      "execution_count": null,
      "outputs": [
        {
          "output_type": "execute_result",
          "data": {
            "text/plain": [
              "25"
            ]
          },
          "metadata": {},
          "execution_count": 15
        }
      ]
    },
    {
      "cell_type": "markdown",
      "source": [
        "### Redondear\n",
        "Usando la función `round`"
      ],
      "metadata": {
        "id": "ReUHbkyxt7R4"
      }
    },
    {
      "cell_type": "code",
      "source": [
        "round(p / q)    # redondeando a cero decimales"
      ],
      "metadata": {
        "id": "8Tn27mO9s12Q",
        "outputId": "5f4344b9-eeb3-4ba3-fec3-1a966d707def",
        "colab": {
          "base_uri": "https://localhost:8080/"
        }
      },
      "execution_count": null,
      "outputs": [
        {
          "output_type": "execute_result",
          "data": {
            "text/plain": [
              "3"
            ]
          },
          "metadata": {},
          "execution_count": 11
        }
      ]
    },
    {
      "cell_type": "code",
      "source": [
        "round(p / q, 2)   # redondeando a 2 decimales"
      ],
      "metadata": {
        "id": "Xmloazdktr7T",
        "outputId": "b8711000-2a51-497f-aa5a-b3beac308b78",
        "colab": {
          "base_uri": "https://localhost:8080/"
        }
      },
      "execution_count": null,
      "outputs": [
        {
          "output_type": "execute_result",
          "data": {
            "text/plain": [
              "2.86"
            ]
          },
          "metadata": {},
          "execution_count": 12
        }
      ]
    },
    {
      "cell_type": "markdown",
      "source": [
        "## Contador\n",
        "1. Una variable actúa como contador cuando nos permite ir sumando 1 u otra cifra.\n",
        "2. La cifra que sumamos no siempre ha de ser 1, podríamos ir sumando de 5 en 5, por ejemplo\n",
        "3. En lugar de sumar también podríamos ir restando y el contador sería descendente"
      ],
      "metadata": {
        "id": "MR-_l4Ic8IKT"
      }
    },
    {
      "cell_type": "code",
      "source": [
        "vidas = vidas + 1\n",
        "print(vidas)\n",
        "\n",
        "vidas += 1              # forma abreviada de sumar 1 a la variable. Se usa mucho\n",
        "print(vidas)"
      ],
      "metadata": {
        "colab": {
          "base_uri": "https://localhost:8080/"
        },
        "id": "rqgEP4OX7D57",
        "outputId": "497dbf23-8ed4-4539-f9f5-06505afcd0a4"
      },
      "execution_count": null,
      "outputs": [
        {
          "output_type": "stream",
          "name": "stdout",
          "text": [
            "9\n",
            "10\n"
          ]
        }
      ]
    },
    {
      "cell_type": "code",
      "source": [
        "vidas += 5              # aquí sumamos 5 a la variable\n",
        "print(vidas)\n",
        "\n",
        "vidas -= 5              # ahora restamos 5 a la variable\n",
        "print(vidas)"
      ],
      "metadata": {
        "colab": {
          "base_uri": "https://localhost:8080/"
        },
        "id": "ptE7K3iv7Nt6",
        "outputId": "0075fb3a-7c9f-43fe-92d3-cec977cda9e9"
      },
      "execution_count": null,
      "outputs": [
        {
          "output_type": "stream",
          "name": "stdout",
          "text": [
            "15\n",
            "10\n"
          ]
        }
      ]
    },
    {
      "cell_type": "markdown",
      "source": [
        "## Asignación a múltiples variables"
      ],
      "metadata": {
        "id": "XQsIVqDXevFi"
      }
    },
    {
      "cell_type": "code",
      "source": [
        "a, b, c = 10, 20, 30             # asignación a múltiples variables\n",
        "p = q = r = 1                    # las tres variables se asignan al mismo valor"
      ],
      "metadata": {
        "id": "zY0sH9ZFe1jg"
      },
      "execution_count": null,
      "outputs": []
    },
    {
      "cell_type": "code",
      "source": [
        "print('a=', a, 'b=', b, 'c=', c)                           # al separar con coma se deja un espacio\n",
        "print('a=' + str(a) + ', b=' + str(b) + ', c=' + str(c))   # solución 1 para evitar el espacio\n",
        "print(f'a={a}, b={b}, c={c}')                              # solución 2 para evitar el espacio"
      ],
      "metadata": {
        "id": "7-yaGS3ofBII",
        "outputId": "e3b5c6bc-b8ff-4947-98c3-42a0aaa01f16",
        "colab": {
          "base_uri": "https://localhost:8080/"
        }
      },
      "execution_count": null,
      "outputs": [
        {
          "output_type": "stream",
          "name": "stdout",
          "text": [
            "a= 10 b= 20 c= 30\n",
            "a=10, b=20, c=30\n",
            "a=10, b=20, c=30\n"
          ]
        }
      ]
    },
    {
      "cell_type": "markdown",
      "source": [
        "## Notación científica"
      ],
      "metadata": {
        "id": "ADDDlRti9CyU"
      }
    },
    {
      "cell_type": "code",
      "source": [
        "x = 4200000000000000000000\n",
        "x += 0.1\n",
        "x"
      ],
      "metadata": {
        "colab": {
          "base_uri": "https://localhost:8080/"
        },
        "id": "j0gRrMe99IND",
        "outputId": "bcc052b3-2353-493f-84a8-8a43720a80fd"
      },
      "execution_count": null,
      "outputs": [
        {
          "output_type": "execute_result",
          "data": {
            "text/plain": [
              "4.2e+21"
            ]
          },
          "metadata": {},
          "execution_count": 19
        }
      ]
    },
    {
      "cell_type": "code",
      "source": [
        "y = 0.00000000000000000001\n",
        "y"
      ],
      "metadata": {
        "colab": {
          "base_uri": "https://localhost:8080/"
        },
        "id": "Lw2xpLUk-K00",
        "outputId": "78265e3a-fa65-4437-dc75-0e3127a7c233"
      },
      "execution_count": null,
      "outputs": [
        {
          "output_type": "execute_result",
          "data": {
            "text/plain": [
              "1e-20"
            ]
          },
          "metadata": {},
          "execution_count": 21
        }
      ]
    },
    {
      "cell_type": "markdown",
      "source": [
        "## Conversión de `int` a `float`"
      ],
      "metadata": {
        "id": "VFokeyzP-3c1"
      }
    },
    {
      "cell_type": "code",
      "source": [
        "precio = 15\n",
        "print(precio)\n",
        "\n",
        "precio = float(precio)\n",
        "precio"
      ],
      "metadata": {
        "colab": {
          "base_uri": "https://localhost:8080/"
        },
        "id": "HUSSyjEc-9hO",
        "outputId": "bbcd4b67-0e68-4691-ec47-40ecc2ac0a0f"
      },
      "execution_count": null,
      "outputs": [
        {
          "output_type": "stream",
          "name": "stdout",
          "text": [
            "15\n"
          ]
        },
        {
          "output_type": "execute_result",
          "data": {
            "text/plain": [
              "15.0"
            ]
          },
          "metadata": {},
          "execution_count": 23
        }
      ]
    },
    {
      "cell_type": "markdown",
      "source": [
        "## Imprecisión en floatantes\n",
        "1. Al operar con números decimales, en ocasiones, se pueden presentar imprecisiones.\n",
        "2. Esto pasa habitualmente en los lenguajes de programación\n",
        "3. Se debe a que los números se traducen a binario, luego se opera y finalmente se vuelve a traducir de binario a decimal. En todo ese tránsido se pueden cometer imprecisiones"
      ],
      "metadata": {
        "id": "8iliP_NI217-"
      }
    },
    {
      "cell_type": "code",
      "source": [
        "0.1 + 0.1 + 0.1"
      ],
      "metadata": {
        "id": "DkcBBy5u2_iL",
        "outputId": "4d76f5b6-7c22-481d-c887-1d67dd2c1a28",
        "colab": {
          "base_uri": "https://localhost:8080/"
        }
      },
      "execution_count": null,
      "outputs": [
        {
          "output_type": "execute_result",
          "data": {
            "text/plain": [
              "0.30000000000000004"
            ]
          },
          "metadata": {},
          "execution_count": 1
        }
      ]
    },
    {
      "cell_type": "code",
      "source": [
        ".1 + .1 + .1 == .3"
      ],
      "metadata": {
        "id": "_1hxGnom4EK6",
        "outputId": "a8ea5c03-871d-4f15-f5a8-d6f146915603",
        "colab": {
          "base_uri": "https://localhost:8080/"
        }
      },
      "execution_count": null,
      "outputs": [
        {
          "output_type": "execute_result",
          "data": {
            "text/plain": [
              "False"
            ]
          },
          "metadata": {},
          "execution_count": 4
        }
      ]
    },
    {
      "cell_type": "markdown",
      "source": [
        "## Decimal a Binario\n",
        "Decimal → Binario\n",
        "* 1 → 1\n",
        "* 2 → 10\n",
        "* 3 → 11\n",
        "* 4 → 100\n",
        "* 5 → 101\n",
        "* 6 → 110\n",
        "* 7 → 111\n",
        "* 8 → 1000\n",
        "* 9 → 1001\n",
        "* 10 → 1010"
      ],
      "metadata": {
        "id": "pZOHopLM7XsP"
      }
    },
    {
      "cell_type": "code",
      "source": [
        "bin(2)"
      ],
      "metadata": {
        "id": "pGPYqDkj7Ksi",
        "outputId": "ab34efd8-d26d-4ec6-9684-fe0541f209b0",
        "colab": {
          "base_uri": "https://localhost:8080/",
          "height": 35
        }
      },
      "execution_count": null,
      "outputs": [
        {
          "output_type": "execute_result",
          "data": {
            "text/plain": [
              "'0b10'"
            ],
            "application/vnd.google.colaboratory.intrinsic+json": {
              "type": "string"
            }
          },
          "metadata": {},
          "execution_count": 20
        }
      ]
    },
    {
      "cell_type": "code",
      "source": [
        "bin(10)"
      ],
      "metadata": {
        "id": "OrFcpS-c7QN8",
        "outputId": "15313e8e-f04c-4604-d15d-bc04b38165cb",
        "colab": {
          "base_uri": "https://localhost:8080/",
          "height": 35
        }
      },
      "execution_count": null,
      "outputs": [
        {
          "output_type": "execute_result",
          "data": {
            "text/plain": [
              "'0b1010'"
            ],
            "application/vnd.google.colaboratory.intrinsic+json": {
              "type": "string"
            }
          },
          "metadata": {},
          "execution_count": 34
        }
      ]
    },
    {
      "cell_type": "markdown",
      "source": [
        "## `chr`\n",
        "Convierte un entero en un caracter siguiendo el código ASCII"
      ],
      "metadata": {
        "id": "HRskrnosACvL"
      }
    },
    {
      "cell_type": "code",
      "source": [
        "chr(80)"
      ],
      "metadata": {
        "id": "DSeTap94AF1H",
        "outputId": "ed938e94-d6fa-4ec8-c956-808ba0996998",
        "colab": {
          "base_uri": "https://localhost:8080/",
          "height": 35
        }
      },
      "execution_count": null,
      "outputs": [
        {
          "output_type": "execute_result",
          "data": {
            "text/plain": [
              "'P'"
            ],
            "application/vnd.google.colaboratory.intrinsic+json": {
              "type": "string"
            }
          },
          "metadata": {},
          "execution_count": 42
        }
      ]
    },
    {
      "cell_type": "markdown",
      "source": [
        "## Ejercicios"
      ],
      "metadata": {
        "id": "-tvNVnMbrHpT"
      }
    },
    {
      "cell_type": "markdown",
      "source": [
        "#### *Ejercicio 1*\n",
        "1. Crea una expresión matemática con varios paréntesis que tenga un poco de todo: sumas, restas, ... y que al final de cero.\n",
        "2. Añade algún comentario a tu código"
      ],
      "metadata": {
        "id": "wNVIV1DQrDwW"
      }
    },
    {
      "cell_type": "markdown",
      "source": [
        "#### *Ejercicio 2*\n",
        "1. Cuatro amigos reparten 15 comic a partes iguales y si la división no es exacta, el resto lo dejarán en la biblioteca.\n",
        "    - ¿Cómo ha quedado el reparto?\n",
        "    - ¿Cuánto vale la variable `biblioteca`?\n",
        "2. Explica el caso usando un *comentario de varias líneas* en Python.\n",
        "    - Como aquí no hemos contado cómo se hacen este tipo de comentarios que ocupan varias líneas busca algún recurso que lo explique."
      ],
      "metadata": {
        "id": "i8bDd8t8rT8O"
      }
    },
    {
      "cell_type": "markdown",
      "source": [
        "#### *Ejercicio 3*\n",
        "* He realizado tres exámenes y me gustaría obtener la nota media.\n",
        "    1. la nota1 ha sido de 7\n",
        "    2. la nota2 ha sido de 7\n",
        "    3. la nota3 ha sido de 9\n",
        "* Me gustaría calcular mi nota media redondeada\n",
        "* Deja tu código preparado para que si las notas de los exámenes cambian se calcule la media automáticamente\n",
        "* Añade comentarios explicativos a tu código"
      ],
      "metadata": {
        "id": "8FuDPlocrcYB"
      }
    }
  ]
}