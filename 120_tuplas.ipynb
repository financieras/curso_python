{
  "nbformat": 4,
  "nbformat_minor": 0,
  "metadata": {
    "colab": {
      "provenance": [],
      "authorship_tag": "ABX9TyOIyi1qaic6CTmIEZLkTLEr",
      "include_colab_link": true
    },
    "kernelspec": {
      "name": "python3",
      "display_name": "Python 3"
    },
    "language_info": {
      "name": "python"
    }
  },
  "cells": [
    {
      "cell_type": "markdown",
      "metadata": {
        "id": "view-in-github",
        "colab_type": "text"
      },
      "source": [
        "<a href=\"https://colab.research.google.com/github/financieras/curso_python/blob/main/120_tuplas.ipynb\" target=\"_parent\"><img src=\"https://colab.research.google.com/assets/colab-badge.svg\" alt=\"Open In Colab\"/></a>"
      ]
    },
    {
      "cell_type": "markdown",
      "source": [
        "# Tuplas"
      ],
      "metadata": {
        "id": "VDemsJGZ07og"
      }
    },
    {
      "cell_type": "code",
      "execution_count": 1,
      "metadata": {
        "colab": {
          "base_uri": "https://localhost:8080/"
        },
        "id": "vGTjoIJy049C",
        "outputId": "3e305218-1a68-4dd4-82ca-a502bc62a17b"
      },
      "outputs": [
        {
          "output_type": "stream",
          "name": "stdout",
          "text": [
            "(1, 2, 3, 4)\n"
          ]
        },
        {
          "output_type": "execute_result",
          "data": {
            "text/plain": [
              "tuple"
            ]
          },
          "metadata": {},
          "execution_count": 1
        }
      ],
      "source": [
        "numeros = (1, 2, 3, 4)\n",
        "print(numeros)\n",
        "type(numeros)"
      ]
    },
    {
      "cell_type": "markdown",
      "source": [
        "## Tupla vacía"
      ],
      "metadata": {
        "id": "5LTTxw0g2CM5"
      }
    },
    {
      "cell_type": "code",
      "source": [
        "tareas = ()\n",
        "print(tareas)\n",
        "type(tareas)"
      ],
      "metadata": {
        "colab": {
          "base_uri": "https://localhost:8080/"
        },
        "id": "VOXcoHIl2GgE",
        "outputId": "69937992-dc1e-4e07-bdab-174ba1adb906"
      },
      "execution_count": 2,
      "outputs": [
        {
          "output_type": "stream",
          "name": "stdout",
          "text": [
            "()\n"
          ]
        },
        {
          "output_type": "execute_result",
          "data": {
            "text/plain": [
              "tuple"
            ]
          },
          "metadata": {},
          "execution_count": 2
        }
      ]
    },
    {
      "cell_type": "markdown",
      "source": [
        "## Tupla de un solo elemento"
      ],
      "metadata": {
        "id": "cNugSpnl2STk"
      }
    },
    {
      "cell_type": "code",
      "source": [
        "ciudades = (\"Granada\",)         # es imprescindible poner la coma\n",
        "print(ciudades)\n",
        "type(ciudades)"
      ],
      "metadata": {
        "colab": {
          "base_uri": "https://localhost:8080/"
        },
        "id": "n199TEGh2RWo",
        "outputId": "53b72c6e-80b7-4b85-9d43-63220750804f"
      },
      "execution_count": 4,
      "outputs": [
        {
          "output_type": "stream",
          "name": "stdout",
          "text": [
            "('Granada',)\n"
          ]
        },
        {
          "output_type": "execute_result",
          "data": {
            "text/plain": [
              "tuple"
            ]
          },
          "metadata": {},
          "execution_count": 4
        }
      ]
    },
    {
      "cell_type": "markdown",
      "source": [
        "## Conversión de lista a tupla"
      ],
      "metadata": {
        "id": "NvDpnN7G2vtM"
      }
    },
    {
      "cell_type": "code",
      "source": [
        "mi_lista = [10, 20, 30]\n",
        "mi_tupla = tuple(mi_lista)\n",
        "mi_tupla"
      ],
      "metadata": {
        "colab": {
          "base_uri": "https://localhost:8080/"
        },
        "id": "pSHKYuUO2z49",
        "outputId": "0d3b1c2c-c526-4f8d-8c09-7a41688cf35c"
      },
      "execution_count": 5,
      "outputs": [
        {
          "output_type": "execute_result",
          "data": {
            "text/plain": [
              "(10, 20, 30)"
            ]
          },
          "metadata": {},
          "execution_count": 5
        }
      ]
    },
    {
      "cell_type": "markdown",
      "source": [
        "## Conversión de tupla a lista"
      ],
      "metadata": {
        "id": "CaaTTzVV3Owh"
      }
    },
    {
      "cell_type": "code",
      "source": [
        "mi_tupla = (10, 20, 30)\n",
        "mi_lista = list(mi_tupla)\n",
        "mi_lista"
      ],
      "metadata": {
        "colab": {
          "base_uri": "https://localhost:8080/"
        },
        "id": "4Dz9pwps3SKt",
        "outputId": "c91c836b-3a34-4fea-e0f1-e54b7a16090b"
      },
      "execution_count": 6,
      "outputs": [
        {
          "output_type": "execute_result",
          "data": {
            "text/plain": [
              "[10, 20, 30]"
            ]
          },
          "metadata": {},
          "execution_count": 6
        }
      ]
    },
    {
      "cell_type": "markdown",
      "source": [
        "## Las tuplas son inmutables"
      ],
      "metadata": {
        "id": "AvUimU-n3gfW"
      }
    },
    {
      "cell_type": "code",
      "source": [
        "mi_tupla = (10, 20, 30)\n",
        "print(mi_tupla[0])      # podemos leer un elemento\n",
        "#mi_tupla[0] = 99       # ¡¡¡ ERROR !!!  no podemos modificar un elemento"
      ],
      "metadata": {
        "colab": {
          "base_uri": "https://localhost:8080/"
        },
        "id": "PjrUgiff3j6n",
        "outputId": "26fe2721-ccb2-4806-85fe-bc9c2b7c4429"
      },
      "execution_count": 8,
      "outputs": [
        {
          "output_type": "stream",
          "name": "stdout",
          "text": [
            "10\n"
          ]
        }
      ]
    },
    {
      "cell_type": "markdown",
      "source": [
        "## Uso\n",
        "Se pueden usar cuando tenemos una serie de elementos que no deben cambiar."
      ],
      "metadata": {
        "id": "O5HGpEYX4x2G"
      }
    },
    {
      "cell_type": "code",
      "source": [
        "estaciones = ('spring', 'summer', 'autumn', 'winter')\n",
        "estaciones"
      ],
      "metadata": {
        "colab": {
          "base_uri": "https://localhost:8080/"
        },
        "id": "bxqHCPK3458_",
        "outputId": "5ef5e422-1137-45ca-e0d6-311f5d0116aa"
      },
      "execution_count": 9,
      "outputs": [
        {
          "output_type": "execute_result",
          "data": {
            "text/plain": [
              "('spring', 'summer', 'autumn', 'winter')"
            ]
          },
          "metadata": {},
          "execution_count": 9
        }
      ]
    },
    {
      "cell_type": "markdown",
      "source": [
        "* Si queremos cambiar el otoño ¿cómo podemos hacerlo?\n",
        "* Convirtiendo la tupla en una lista, haciendo el cambio y volviendo a convertirla en una tupla"
      ],
      "metadata": {
        "id": "rXmHL4XV5S-u"
      }
    },
    {
      "cell_type": "code",
      "source": [
        "estaciones = list(estaciones)\n",
        "estaciones[2] = 'fall'\n",
        "estaciones = tuple(estaciones)\n",
        "estaciones"
      ],
      "metadata": {
        "colab": {
          "base_uri": "https://localhost:8080/"
        },
        "id": "4lf6ZWuD5jPP",
        "outputId": "274a6ad6-86f5-4c2b-e4b4-137c2d635af8"
      },
      "execution_count": 10,
      "outputs": [
        {
          "output_type": "execute_result",
          "data": {
            "text/plain": [
              "('spring', 'summer', 'fall', 'winter')"
            ]
          },
          "metadata": {},
          "execution_count": 10
        }
      ]
    },
    {
      "cell_type": "markdown",
      "source": [
        "## `index` y `count`"
      ],
      "metadata": {
        "id": "lI-w9E3I55ME"
      }
    },
    {
      "cell_type": "code",
      "source": [
        "nombres = ('Ana', 'Jose', 'Luis', 'Ana', 'Gema')\n",
        "nombres.index('Jose')"
      ],
      "metadata": {
        "colab": {
          "base_uri": "https://localhost:8080/"
        },
        "id": "rRNFj4925-65",
        "outputId": "7dda0c14-507d-4604-e48d-789c78a0e09f"
      },
      "execution_count": 13,
      "outputs": [
        {
          "output_type": "execute_result",
          "data": {
            "text/plain": [
              "1"
            ]
          },
          "metadata": {},
          "execution_count": 13
        }
      ]
    },
    {
      "cell_type": "code",
      "source": [
        "nombres.count('Ana')"
      ],
      "metadata": {
        "colab": {
          "base_uri": "https://localhost:8080/"
        },
        "id": "qvmfg4W96RBj",
        "outputId": "564038b9-4f03-4544-f36a-d841e26ef1ff"
      },
      "execution_count": 12,
      "outputs": [
        {
          "output_type": "execute_result",
          "data": {
            "text/plain": [
              "2"
            ]
          },
          "metadata": {},
          "execution_count": 12
        }
      ]
    }
  ]
}