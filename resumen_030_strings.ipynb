{
  "nbformat": 4,
  "nbformat_minor": 0,
  "metadata": {
    "colab": {
      "provenance": [],
      "authorship_tag": "ABX9TyO8qyCgWMgonzb9z0wwWA51",
      "include_colab_link": true
    },
    "kernelspec": {
      "name": "python3",
      "display_name": "Python 3"
    },
    "language_info": {
      "name": "python"
    }
  },
  "cells": [
    {
      "cell_type": "markdown",
      "metadata": {
        "id": "view-in-github",
        "colab_type": "text"
      },
      "source": [
        "<a href=\"https://colab.research.google.com/github/financieras/curso_python/blob/main/resumen_030_strings.ipynb\" target=\"_parent\"><img src=\"https://colab.research.google.com/assets/colab-badge.svg\" alt=\"Open In Colab\"/></a>"
      ]
    },
    {
      "cell_type": "markdown",
      "source": [
        "# Strings"
      ],
      "metadata": {
        "id": "mngZa0hJnKAr"
      }
    },
    {
      "cell_type": "markdown",
      "source": [
        "## Python es case-sensitive\n",
        "* Python es un lenguaje de programación que distingue entre mayúsculas y minúsculas."
      ],
      "metadata": {
        "id": "JiLhmotPnRpH"
      }
    },
    {
      "cell_type": "code",
      "source": [
        "'Hola' == 'hola'   # False. El doble igual == compara, no confundir con solo uno"
      ],
      "metadata": {
        "colab": {
          "base_uri": "https://localhost:8080/"
        },
        "id": "UqMk3U6Yn0E6",
        "outputId": "0e170efc-58b9-46d9-9485-beb8b8a2caf9"
      },
      "execution_count": null,
      "outputs": [
        {
          "output_type": "execute_result",
          "data": {
            "text/plain": [
              "False"
            ]
          },
          "metadata": {},
          "execution_count": 15
        }
      ]
    },
    {
      "cell_type": "markdown",
      "source": [
        "## String de varias líneas\n",
        "Asignar un string de varias líneas a una variable"
      ],
      "metadata": {
        "id": "VSnnes0G6WBu"
      }
    },
    {
      "cell_type": "code",
      "source": [
        "poema = \"\"\"¿Qué es poesía?, dices mientras clavas\n",
        "en mi pupila tu pupila azul.\n",
        "¡Qué es poesía!, ¿Y tú me lo preguntas?\n",
        "Poesía... eres tú.\"\"\"\n",
        "\n",
        "print(poema)"
      ],
      "metadata": {
        "id": "GdtqFX0w6VKq",
        "outputId": "312b45ae-661a-41b1-8552-521d2f0cdbad",
        "colab": {
          "base_uri": "https://localhost:8080/"
        }
      },
      "execution_count": null,
      "outputs": [
        {
          "output_type": "stream",
          "name": "stdout",
          "text": [
            "¿Qué es poesía?, dices mientras clavas\n",
            "en mi pupila tu pupila azul.\n",
            "¡Qué es poesía!, ¿Y tú me lo preguntas?\n",
            "Poesía... eres tú.\n"
          ]
        }
      ]
    },
    {
      "cell_type": "markdown",
      "source": [
        "## Funciones y métodos"
      ],
      "metadata": {
        "id": "nPKDVUtLzvzo"
      }
    },
    {
      "cell_type": "markdown",
      "source": [
        "## `in` y `not in`\n",
        "* Comprobación en un string\n",
        "* Podemos comprobar si un caracter está en un string usando `in`\n",
        "* También existe `not in`"
      ],
      "metadata": {
        "id": "r00v5vmvASHx"
      }
    },
    {
      "cell_type": "code",
      "source": [
        "'a' in 'Hola'"
      ],
      "metadata": {
        "id": "MXEo-l8rAdXq",
        "outputId": "135c8ccf-9d17-47cb-f5bd-30d17ad59118",
        "colab": {
          "base_uri": "https://localhost:8080/"
        }
      },
      "execution_count": null,
      "outputs": [
        {
          "output_type": "execute_result",
          "data": {
            "text/plain": [
              "True"
            ]
          },
          "metadata": {},
          "execution_count": 11
        }
      ]
    },
    {
      "cell_type": "code",
      "source": [
        "frase = \"Me gusta viajar a Londres\"\n",
        "ciudad = \"Roma\"\n",
        "ciudad not in frase"
      ],
      "metadata": {
        "id": "1Ag8_awOAi1l",
        "outputId": "dbd449e9-8706-4bcf-f390-8af1a31ff501",
        "colab": {
          "base_uri": "https://localhost:8080/"
        }
      },
      "execution_count": 7,
      "outputs": [
        {
          "output_type": "execute_result",
          "data": {
            "text/plain": [
              "True"
            ]
          },
          "metadata": {},
          "execution_count": 7
        }
      ]
    },
    {
      "cell_type": "markdown",
      "source": [
        "### Repetición con el operador asterisco `*`"
      ],
      "metadata": {
        "id": "zrkqCbIC4ybU"
      }
    },
    {
      "cell_type": "code",
      "source": [
        "\"Hola \" * 3"
      ],
      "metadata": {
        "id": "JFk8mQ3841un",
        "outputId": "be47c12c-30e5-4d6f-8e12-4fa27139c051",
        "colab": {
          "base_uri": "https://localhost:8080/",
          "height": 36
        }
      },
      "execution_count": null,
      "outputs": [
        {
          "output_type": "execute_result",
          "data": {
            "text/plain": [
              "'Hola Hola Hola '"
            ],
            "application/vnd.google.colaboratory.intrinsic+json": {
              "type": "string"
            }
          },
          "metadata": {},
          "execution_count": 1
        }
      ]
    },
    {
      "cell_type": "markdown",
      "metadata": {
        "id": "17e073bf"
      },
      "source": [
        "### Concatenar con `+`"
      ]
    },
    {
      "cell_type": "code",
      "execution_count": null,
      "metadata": {
        "id": "629e9e70",
        "outputId": "eb4f2760-ca9f-4cab-a766-e436fe2f7a71",
        "colab": {
          "base_uri": "https://localhost:8080/",
          "height": 35
        }
      },
      "outputs": [
        {
          "output_type": "execute_result",
          "data": {
            "text/plain": [
              "'buenaaventura'"
            ],
            "application/vnd.google.colaboratory.intrinsic+json": {
              "type": "string"
            }
          },
          "metadata": {},
          "execution_count": 15
        }
      ],
      "source": [
        "\"buena\" + \"aventura\""
      ]
    },
    {
      "cell_type": "code",
      "execution_count": null,
      "metadata": {
        "id": "aa3862cb",
        "outputId": "ac09f0c7-3458-4c00-f21e-3ad7ea03e33a",
        "colab": {
          "base_uri": "https://localhost:8080/",
          "height": 35
        }
      },
      "outputs": [
        {
          "output_type": "execute_result",
          "data": {
            "text/plain": [
              "'enhorabuena'"
            ],
            "application/vnd.google.colaboratory.intrinsic+json": {
              "type": "string"
            }
          },
          "metadata": {},
          "execution_count": 16
        }
      ],
      "source": [
        "'en' 'hora' 'buena'    # también podemos separar los strings con un espacio"
      ]
    },
    {
      "cell_type": "markdown",
      "source": [
        "### Funciones `lower()` y `upper()`\n",
        "* Podemos convertir todo a mayúsculas o a minúsuclas."
      ],
      "metadata": {
        "id": "MpuB1ksroSqS"
      }
    },
    {
      "cell_type": "code",
      "source": [
        "planta = \"Girasol\"\n",
        "print(planta.lower())"
      ],
      "metadata": {
        "colab": {
          "base_uri": "https://localhost:8080/"
        },
        "id": "ehUuTvLgotfY",
        "outputId": "4b58aac6-4704-4e56-bce9-d82b2b747e58"
      },
      "execution_count": 11,
      "outputs": [
        {
          "output_type": "stream",
          "name": "stdout",
          "text": [
            "girasol\n"
          ]
        }
      ]
    },
    {
      "cell_type": "code",
      "source": [
        "agencia = \"nasa\"\n",
        "print(agencia.upper())"
      ],
      "metadata": {
        "id": "s8V3ANoNf89G",
        "outputId": "d06abd36-04d5-4678-c4ba-cee33f4df1f2",
        "colab": {
          "base_uri": "https://localhost:8080/"
        }
      },
      "execution_count": 10,
      "outputs": [
        {
          "output_type": "stream",
          "name": "stdout",
          "text": [
            "NASA\n"
          ]
        }
      ]
    },
    {
      "cell_type": "markdown",
      "source": [
        "* Esto permite comparar strings sin importar como van escritos."
      ],
      "metadata": {
        "id": "tLUhdtKAxr6N"
      }
    },
    {
      "cell_type": "code",
      "source": [
        "# Parándolo todo a mayúsculas\n",
        "'buenos aires'.upper() == \"Buenos Aires\".upper()    # True"
      ],
      "metadata": {
        "colab": {
          "base_uri": "https://localhost:8080/"
        },
        "id": "WccfsoQjpMKN",
        "outputId": "b1264ae1-5766-4dd0-f99d-aa21a1129109"
      },
      "execution_count": null,
      "outputs": [
        {
          "output_type": "execute_result",
          "data": {
            "text/plain": [
              "True"
            ]
          },
          "metadata": {},
          "execution_count": 20
        }
      ]
    },
    {
      "cell_type": "markdown",
      "source": [
        "### Funciones `capitalize` y `title`"
      ],
      "metadata": {
        "id": "7Vfe4ZSCgikH"
      }
    },
    {
      "cell_type": "code",
      "source": [
        "\"new york\".title()              # pone la 1ª en mayúsculas de todas las palabras"
      ],
      "metadata": {
        "id": "gao4mZy5gweR",
        "outputId": "b396b29c-35ae-47f4-a52e-49e6eca1e994",
        "colab": {
          "base_uri": "https://localhost:8080/",
          "height": 35
        }
      },
      "execution_count": null,
      "outputs": [
        {
          "output_type": "execute_result",
          "data": {
            "text/plain": [
              "'New York'"
            ],
            "application/vnd.google.colaboratory.intrinsic+json": {
              "type": "string"
            }
          },
          "metadata": {},
          "execution_count": 3
        }
      ]
    },
    {
      "cell_type": "code",
      "source": [
        "\"madrid musical\".capitalize()   # pone la 1ª en mayúsculas de la 1ª palabra"
      ],
      "metadata": {
        "id": "z53wSRRPg6RH",
        "outputId": "7076d2dc-4879-48e4-c421-62d0ce5866e8",
        "colab": {
          "base_uri": "https://localhost:8080/",
          "height": 35
        }
      },
      "execution_count": null,
      "outputs": [
        {
          "output_type": "execute_result",
          "data": {
            "text/plain": [
              "'Madrid musical'"
            ],
            "application/vnd.google.colaboratory.intrinsic+json": {
              "type": "string"
            }
          },
          "metadata": {},
          "execution_count": 7
        }
      ]
    },
    {
      "cell_type": "markdown",
      "source": [
        "### Función `replace`"
      ],
      "metadata": {
        "id": "KNd7ZXbGhzsT"
      }
    },
    {
      "cell_type": "code",
      "source": [
        "\"Hola Madrid\".replace('H', 'M')"
      ],
      "metadata": {
        "id": "Jsyl3F2vh3fM",
        "outputId": "cf99a433-8571-4ed0-bc88-60f5d2cf6c0e",
        "colab": {
          "base_uri": "https://localhost:8080/",
          "height": 35
        }
      },
      "execution_count": null,
      "outputs": [
        {
          "output_type": "execute_result",
          "data": {
            "text/plain": [
              "'Mola Madrid'"
            ],
            "application/vnd.google.colaboratory.intrinsic+json": {
              "type": "string"
            }
          },
          "metadata": {},
          "execution_count": 8
        }
      ]
    },
    {
      "cell_type": "code",
      "source": [
        "\"Voy a Roma\".replace(\"Roma\",\"Florencia\")"
      ],
      "metadata": {
        "id": "wZeOm19KiD-q",
        "outputId": "6dffd88a-3441-4d35-e391-f8f3478b57b8",
        "colab": {
          "base_uri": "https://localhost:8080/",
          "height": 35
        }
      },
      "execution_count": 9,
      "outputs": [
        {
          "output_type": "execute_result",
          "data": {
            "text/plain": [
              "'Voy a Florencia'"
            ],
            "application/vnd.google.colaboratory.intrinsic+json": {
              "type": "string"
            }
          },
          "metadata": {},
          "execution_count": 9
        }
      ]
    },
    {
      "cell_type": "markdown",
      "source": [
        "### Función `count`\n",
        "* Contar caracteres"
      ],
      "metadata": {
        "id": "8wKBLadHkDNU"
      }
    },
    {
      "cell_type": "code",
      "source": [
        "'Good Morning Oxford'.count('o')"
      ],
      "metadata": {
        "id": "TsNfKoQLkH0y",
        "outputId": "6a9f1e20-ec8d-4a66-932a-d11bc684f3ba",
        "colab": {
          "base_uri": "https://localhost:8080/"
        }
      },
      "execution_count": 15,
      "outputs": [
        {
          "output_type": "execute_result",
          "data": {
            "text/plain": [
              "4"
            ]
          },
          "metadata": {},
          "execution_count": 15
        }
      ]
    },
    {
      "cell_type": "markdown",
      "source": [
        "### Función `len`\n",
        "* Cuenta los caracteres incluidos los espacios.\n",
        "* La función `len` hace referencia a longitud *length*"
      ],
      "metadata": {
        "id": "fRZWAgswkaVk"
      }
    },
    {
      "cell_type": "code",
      "source": [
        "len('Hola Mundo')"
      ],
      "metadata": {
        "id": "flVrVzF5kfAU",
        "outputId": "8591a7ac-3d97-4d03-d3a4-fac22aa99da8",
        "colab": {
          "base_uri": "https://localhost:8080/"
        }
      },
      "execution_count": null,
      "outputs": [
        {
          "output_type": "execute_result",
          "data": {
            "text/plain": [
              "10"
            ]
          },
          "metadata": {},
          "execution_count": 16
        }
      ]
    },
    {
      "cell_type": "markdown",
      "source": [
        "### Método `split`\n",
        "* Divide un string\n",
        "* Por defecto separa por espacios\n",
        "* Da como resultado una lista de strings"
      ],
      "metadata": {
        "id": "1yvdrHFHldj7"
      }
    },
    {
      "cell_type": "code",
      "source": [
        "'Santiago de Compostela'.split()                # separando por espacio"
      ],
      "metadata": {
        "id": "3KBKmiwplsZL",
        "outputId": "4c9ed478-c0be-4413-de98-5346db96ffb7",
        "colab": {
          "base_uri": "https://localhost:8080/"
        }
      },
      "execution_count": null,
      "outputs": [
        {
          "output_type": "execute_result",
          "data": {
            "text/plain": [
              "['Santiago', 'de', 'Compostela']"
            ]
          },
          "metadata": {},
          "execution_count": 18
        }
      ]
    },
    {
      "cell_type": "code",
      "source": [
        "\"primavera,verano,otoño,invierno\".split(\",\")    # separando por coma"
      ],
      "metadata": {
        "id": "pymMV4Yjmg3M",
        "outputId": "c88544f3-d137-4cea-b644-18d24407e08f",
        "colab": {
          "base_uri": "https://localhost:8080/"
        }
      },
      "execution_count": null,
      "outputs": [
        {
          "output_type": "execute_result",
          "data": {
            "text/plain": [
              "['primavera', 'verano', 'otoño', 'invierno']"
            ]
          },
          "metadata": {},
          "execution_count": 21
        }
      ]
    },
    {
      "cell_type": "markdown",
      "source": [
        "### Método `find`\n",
        "* Da el índex donde encuentra por primera vez el caracter buscado.\n",
        "* El index siempre comienza por cero.\n",
        "\n",
        "\n",
        "|   |   |   |   |   |   |   |   |   |   |\n",
        "|---|---|---|---|---|---|---|---|---|---|\n",
        "| H | o | l | a |   | M | u | n | d | o |\n",
        "| 0 | 1 | 2 | 3 | 4 | 5 | 6 | 7 | 8 | 9 |"
      ],
      "metadata": {
        "id": "dQTujSXUnU81"
      }
    },
    {
      "cell_type": "code",
      "source": [
        "'Hola Mundo'.find('o')"
      ],
      "metadata": {
        "id": "n6sHJhE5niOu",
        "outputId": "29aa0fb9-a3c6-4278-82c1-4fdb64c08dca",
        "colab": {
          "base_uri": "https://localhost:8080/"
        }
      },
      "execution_count": null,
      "outputs": [
        {
          "output_type": "execute_result",
          "data": {
            "text/plain": [
              "1"
            ]
          },
          "metadata": {},
          "execution_count": 9
        }
      ]
    },
    {
      "cell_type": "markdown",
      "source": [
        "### Método `index`\n",
        "* Devuelve el index de un caracter.\n",
        "* Si el caracter está repetido da el index de la primera ocurrencia\n",
        "* los métodos `index` y `find` son práctiamente iguales\n",
        "* la diferencia radica en que `find` develve -1 si el caracter no existe e `index` daría error en ese caso."
      ],
      "metadata": {
        "id": "l5Qz9806K53x"
      }
    },
    {
      "cell_type": "code",
      "source": [
        "frase = \"Hola Mundo\"\n",
        "frase.index('M')"
      ],
      "metadata": {
        "id": "_GFUZ4CTK9wO",
        "outputId": "6276608f-520e-4a4b-c749-2765226bf554",
        "colab": {
          "base_uri": "https://localhost:8080/"
        }
      },
      "execution_count": null,
      "outputs": [
        {
          "output_type": "execute_result",
          "data": {
            "text/plain": [
              "5"
            ]
          },
          "metadata": {},
          "execution_count": 7
        }
      ]
    },
    {
      "cell_type": "markdown",
      "source": [
        "## Los métodos `is...`\n",
        "|   |   |\n",
        "|---|---|\n",
        "|`isnumeric`|Comprueba si todos los caracteres del texto son numéricos|\n",
        "|`isalnum`|Devuelve True si todos los caracteres de la cadena son alfanuméricos|\n",
        "|`isalpha`|Devuelve True si todos los caracteres de la cadena están en el alfabeto|\n",
        "|`isdecimal`|Devuelve True si todos los caracteres de la cadena son decimales|\n",
        "|`isdigit`|Devuelve True si todos los caracteres de la cadena son dígitos|\n",
        "|`isnumeric`|Devuelve True si todos los caracteres de la cadena son numéricos|\n",
        "|`isspace`|Devuelve True si todos los caracteres de la cadena son espacios en blanco.|\n",
        "|`isprintable`|Devuelve True si todos los caracteres de la cadena son imprimibles|\n",
        "|`islower`|Devuelve True si todos los caracteres de la cadena están en minúsculas|\n",
        "|`isupper`|Devuelve True si todos los caracteres de la cadena están en mayúsculas|\n",
        "| `istitle`|Devuelve True si la cadena sigue las reglas de un título|\n",
        "|`isascii`|Devuelve True si todos los caracteres de la cadena son caracteres ASCII|"
      ],
      "metadata": {
        "id": "AQi6Fe0UMw6G"
      }
    },
    {
      "cell_type": "code",
      "source": [
        "telefono = \"+(34)600123123\" # False, por el signo + y por los paréntesis\n",
        "telefono.isnumeric()"
      ],
      "metadata": {
        "id": "t_82ra-vP7bq",
        "outputId": "3212cda2-de1c-48fd-caef-53dc71e76f4d",
        "colab": {
          "base_uri": "https://localhost:8080/"
        }
      },
      "execution_count": null,
      "outputs": [
        {
          "output_type": "execute_result",
          "data": {
            "text/plain": [
              "False"
            ]
          },
          "metadata": {},
          "execution_count": 12
        }
      ]
    },
    {
      "cell_type": "code",
      "source": [
        "'½'.isnumeric()"
      ],
      "metadata": {
        "id": "EKqmXcg_4zD5",
        "outputId": "a492f13e-f785-4e12-dafd-af663f564f85",
        "colab": {
          "base_uri": "https://localhost:8080/"
        }
      },
      "execution_count": 22,
      "outputs": [
        {
          "output_type": "execute_result",
          "data": {
            "text/plain": [
              "True"
            ]
          },
          "metadata": {},
          "execution_count": 22
        }
      ]
    },
    {
      "cell_type": "code",
      "source": [
        "'½'.isdigit()"
      ],
      "metadata": {
        "id": "zIJ4ezPI4slQ",
        "outputId": "232db56b-42c0-4da0-aa7a-46ce7caa230e",
        "colab": {
          "base_uri": "https://localhost:8080/"
        }
      },
      "execution_count": 23,
      "outputs": [
        {
          "output_type": "execute_result",
          "data": {
            "text/plain": [
              "False"
            ]
          },
          "metadata": {},
          "execution_count": 23
        }
      ]
    },
    {
      "cell_type": "code",
      "source": [
        "dni = \"50123123M\"   # True, pero si hay un espacio da False\n",
        "dni.isalnum()"
      ],
      "metadata": {
        "id": "waK25WO0RA5K",
        "outputId": "0535e0ac-01c4-48ec-9345-98f16981554d",
        "colab": {
          "base_uri": "https://localhost:8080/"
        }
      },
      "execution_count": null,
      "outputs": [
        {
          "output_type": "execute_result",
          "data": {
            "text/plain": [
              "True"
            ]
          },
          "metadata": {},
          "execution_count": 15
        }
      ]
    },
    {
      "cell_type": "code",
      "source": [
        "\"Azàöñ\".isalpha()   # True, si hay un espacio o un número da False"
      ],
      "metadata": {
        "id": "gZcoRa--RzrW",
        "outputId": "e0a4c177-8c80-40c9-95d5-47194e85c3cc",
        "colab": {
          "base_uri": "https://localhost:8080/"
        }
      },
      "execution_count": null,
      "outputs": [
        {
          "output_type": "execute_result",
          "data": {
            "text/plain": [
              "True"
            ]
          },
          "metadata": {},
          "execution_count": 21
        }
      ]
    },
    {
      "cell_type": "markdown",
      "source": [
        "## Métodos encadenados"
      ],
      "metadata": {
        "id": "4g9zJ0z1jISf"
      }
    },
    {
      "cell_type": "code",
      "source": [
        "frase = \"carrera espacial\"\n",
        "print(frase.replace('carrera', 'estación').upper().count('A'))"
      ],
      "metadata": {
        "id": "p3cIhPSTjMhg",
        "outputId": "12b325e3-6504-4cf7-d0c6-a01dcd1c5a63",
        "colab": {
          "base_uri": "https://localhost:8080/"
        }
      },
      "execution_count": null,
      "outputs": [
        {
          "output_type": "stream",
          "name": "stdout",
          "text": [
            "3\n"
          ]
        }
      ]
    },
    {
      "cell_type": "markdown",
      "source": [
        "## Concatenar con `+`\n",
        "El signo `+` puede sumar pero también es un operador de concatenación si se aplica a dos strings."
      ],
      "metadata": {
        "id": "f9063i8Sy8Sn"
      }
    },
    {
      "cell_type": "code",
      "source": [
        "2 + 3               # el signo + con números suma"
      ],
      "metadata": {
        "colab": {
          "base_uri": "https://localhost:8080/"
        },
        "id": "m9CEBCYBz8kN",
        "outputId": "a1ab41bd-a938-4eee-fb7c-475fe1989686"
      },
      "execution_count": null,
      "outputs": [
        {
          "output_type": "execute_result",
          "data": {
            "text/plain": [
              "5"
            ]
          },
          "metadata": {},
          "execution_count": 27
        }
      ]
    },
    {
      "cell_type": "code",
      "source": [
        "\"Villa\" + \"nueva\"   # el signo + con strings concatena"
      ],
      "metadata": {
        "colab": {
          "base_uri": "https://localhost:8080/",
          "height": 36
        },
        "id": "EwrcqT61zBk6",
        "outputId": "05e0defc-eef4-4541-d89e-74bdfd8f7871"
      },
      "execution_count": null,
      "outputs": [
        {
          "output_type": "execute_result",
          "data": {
            "text/plain": [
              "'Villanueva'"
            ],
            "application/vnd.google.colaboratory.intrinsic+json": {
              "type": "string"
            }
          },
          "metadata": {},
          "execution_count": 26
        }
      ]
    },
    {
      "cell_type": "code",
      "source": [
        "saludo = \"hello\" + \" \" + \"world\"\n",
        "print(saludo)"
      ],
      "metadata": {
        "id": "CSEbTkERu-X-",
        "outputId": "f7ecd1b9-43be-451a-ed22-c7624417d556",
        "colab": {
          "base_uri": "https://localhost:8080/"
        }
      },
      "execution_count": null,
      "outputs": [
        {
          "output_type": "stream",
          "name": "stdout",
          "text": [
            "hello world\n"
          ]
        }
      ]
    },
    {
      "cell_type": "markdown",
      "source": [
        "## Apóstrofes"
      ],
      "metadata": {
        "id": "AEtBA7F0qgs1"
      }
    },
    {
      "cell_type": "code",
      "source": [
        "mystring = \"Don't worry about apostrophes\"\n",
        "print(mystring)"
      ],
      "metadata": {
        "id": "KN6c-46QqkNk",
        "outputId": "bf9d7d89-fc94-432c-ec6e-331bf86bd718",
        "colab": {
          "base_uri": "https://localhost:8080/"
        }
      },
      "execution_count": 4,
      "outputs": [
        {
          "output_type": "stream",
          "name": "stdout",
          "text": [
            "Don't worry about apostrophes\n"
          ]
        }
      ]
    },
    {
      "cell_type": "code",
      "source": [
        "#print('I'm a student')             # Esto produce error\n",
        "print(\"I'm a student\")              # Esto es correcto"
      ],
      "metadata": {
        "id": "20aZm3ZariT1",
        "outputId": "7993dd7f-9237-4e71-ebd8-370dfcb4ed62",
        "colab": {
          "base_uri": "https://localhost:8080/"
        }
      },
      "execution_count": 5,
      "outputs": [
        {
          "output_type": "stream",
          "name": "stdout",
          "text": [
            "I'm a student\n"
          ]
        }
      ]
    },
    {
      "cell_type": "code",
      "source": [
        "print('Me dijo \"Hola\" al llegar')   # dobles comillas dentro de simples"
      ],
      "metadata": {
        "id": "rZ0cFal_yiX7",
        "outputId": "eae01674-d1a2-4207-e43d-dd7e07174d05",
        "colab": {
          "base_uri": "https://localhost:8080/"
        }
      },
      "execution_count": 6,
      "outputs": [
        {
          "output_type": "stream",
          "name": "stdout",
          "text": [
            "Me dijo \"Hola\" al llegar\n"
          ]
        }
      ]
    },
    {
      "cell_type": "markdown",
      "source": [
        "## Caracteres de escape\n",
        "1. Usando un caracter de escape\n",
        "2. Se usa la barra invertida `\\`"
      ],
      "metadata": {
        "id": "CLYmh2Qrzdjz"
      }
    },
    {
      "cell_type": "code",
      "source": [
        "frase = 'I\\'m a teacher'\n",
        "print(frase)"
      ],
      "metadata": {
        "id": "4rT1uB07zMGH",
        "outputId": "560335eb-731f-44a1-cbef-65e9bbb8c527",
        "colab": {
          "base_uri": "https://localhost:8080/"
        }
      },
      "execution_count": null,
      "outputs": [
        {
          "output_type": "stream",
          "name": "stdout",
          "text": [
            "I'm a teacher\n"
          ]
        }
      ]
    },
    {
      "cell_type": "markdown",
      "source": [
        "### Otros caracteres de escape\n",
        "1. `\\n` equivale a un retorno de carro, significa new line\n",
        "2. `\\t` para hacer un tabulador"
      ],
      "metadata": {
        "id": "2fs2OJmhz5Aw"
      }
    },
    {
      "cell_type": "code",
      "source": [
        "print(\"Ciudades españolas\\nAeropuertos internacionales\")\n",
        "print(\"\\tMálaga\\n\\tMadrid\\n\\tSantiago\")"
      ],
      "metadata": {
        "id": "rbLTLCVy0ML5",
        "outputId": "d6314ca5-9e09-44dd-83db-1151200540ac",
        "colab": {
          "base_uri": "https://localhost:8080/"
        }
      },
      "execution_count": null,
      "outputs": [
        {
          "output_type": "stream",
          "name": "stdout",
          "text": [
            "Ciudades españolas\n",
            "Aeropuertos internacionales\n",
            "\tMálaga\n",
            "\tMadrid\n",
            "\tSantiago\n"
          ]
        }
      ]
    },
    {
      "cell_type": "markdown",
      "source": [
        "## Indexing\n",
        "* El index siempre comienza por cero.\n",
        "\n",
        "\n",
        "|   |   |   |   |   |   |   |   |   |   |\n",
        "|---|---|---|---|---|---|---|---|---|---|\n",
        "| H | o | l | a |   | M | u | n | d | o |\n",
        "| 0 | 1 | 2 | 3 | 4 | 5 | 6 | 7 | 8 | 9 |"
      ],
      "metadata": {
        "id": "ppOBYwBcpzmI"
      }
    },
    {
      "cell_type": "code",
      "source": [
        "frase = \"Hola Mundo\"\n",
        "print(frase[0])                # primera letra\n",
        "print(frase[1])\n",
        "print(frase[2])\n",
        "print(frase[3])\n",
        "print(frase[4])\n",
        "print(frase[5])\n",
        "print(frase[6])\n",
        "print(frase[7])\n",
        "print(frase[8])\n",
        "print(frase[9])"
      ],
      "metadata": {
        "id": "kvQBh3HKp9UM",
        "outputId": "51193379-655c-41eb-867d-2e199f84090a",
        "colab": {
          "base_uri": "https://localhost:8080/"
        }
      },
      "execution_count": 26,
      "outputs": [
        {
          "output_type": "stream",
          "name": "stdout",
          "text": [
            "H\n",
            "o\n",
            "l\n",
            "a\n",
            " \n",
            "M\n",
            "u\n",
            "n\n",
            "d\n",
            "o\n"
          ]
        }
      ]
    },
    {
      "cell_type": "code",
      "source": [
        "frase[-1]               # última letra"
      ],
      "metadata": {
        "id": "D2iAlJ48qHlH",
        "outputId": "a1fb9030-9d31-4dc1-f75d-a17bda0133be",
        "colab": {
          "base_uri": "https://localhost:8080/",
          "height": 35
        }
      },
      "execution_count": null,
      "outputs": [
        {
          "output_type": "execute_result",
          "data": {
            "text/plain": [
              "'o'"
            ],
            "application/vnd.google.colaboratory.intrinsic+json": {
              "type": "string"
            }
          },
          "metadata": {},
          "execution_count": 24
        }
      ]
    },
    {
      "cell_type": "code",
      "source": [
        "frase[len(frase)-1]     # última letra"
      ],
      "metadata": {
        "id": "U1_N-vNVqUvz",
        "outputId": "85141b38-fe48-441c-e010-bde8894c0132",
        "colab": {
          "base_uri": "https://localhost:8080/",
          "height": 35
        }
      },
      "execution_count": null,
      "outputs": [
        {
          "output_type": "execute_result",
          "data": {
            "text/plain": [
              "'o'"
            ],
            "application/vnd.google.colaboratory.intrinsic+json": {
              "type": "string"
            }
          },
          "metadata": {},
          "execution_count": 26
        }
      ]
    },
    {
      "cell_type": "markdown",
      "source": [
        "## Slicing"
      ],
      "metadata": {
        "id": "0VU9uXa3p34Y"
      }
    },
    {
      "cell_type": "code",
      "source": [
        "frase = \"Hola Mundo\"\n",
        "frase[0:4]              # Hola, de 0 a 4"
      ],
      "metadata": {
        "id": "Nc0YfCzGqtdw",
        "outputId": "e44dc70b-c292-4b61-f21a-db3ac49202cb",
        "colab": {
          "base_uri": "https://localhost:8080/",
          "height": 35
        }
      },
      "execution_count": null,
      "outputs": [
        {
          "output_type": "execute_result",
          "data": {
            "text/plain": [
              "'Hola'"
            ],
            "application/vnd.google.colaboratory.intrinsic+json": {
              "type": "string"
            }
          },
          "metadata": {},
          "execution_count": 44
        }
      ]
    },
    {
      "cell_type": "code",
      "source": [
        "frase[:4]               # Hola, de inicio hasta el 4"
      ],
      "metadata": {
        "id": "3Y0DglB0rK4V",
        "outputId": "7679d2a5-dee2-4f73-9afb-e730e0ee17d1",
        "colab": {
          "base_uri": "https://localhost:8080/",
          "height": 35
        }
      },
      "execution_count": null,
      "outputs": [
        {
          "output_type": "execute_result",
          "data": {
            "text/plain": [
              "'Hola'"
            ],
            "application/vnd.google.colaboratory.intrinsic+json": {
              "type": "string"
            }
          },
          "metadata": {},
          "execution_count": 31
        }
      ]
    },
    {
      "cell_type": "code",
      "source": [
        "frase[5:10]             # Mundo, de 5 a 10"
      ],
      "metadata": {
        "id": "p8aLHBWhq4Ru",
        "outputId": "6f417d13-b1b7-4e84-b1ad-192b11dfd349",
        "colab": {
          "base_uri": "https://localhost:8080/",
          "height": 35
        }
      },
      "execution_count": null,
      "outputs": [
        {
          "output_type": "execute_result",
          "data": {
            "text/plain": [
              "'Mundo'"
            ],
            "application/vnd.google.colaboratory.intrinsic+json": {
              "type": "string"
            }
          },
          "metadata": {},
          "execution_count": 30
        }
      ]
    },
    {
      "cell_type": "code",
      "source": [
        "frase[5:]             # Mundo, de 5 hasta el final"
      ],
      "metadata": {
        "id": "qF9LL2_-rFEG",
        "outputId": "01ae6df0-0e44-4bf0-9678-220373f9022b",
        "colab": {
          "base_uri": "https://localhost:8080/",
          "height": 35
        }
      },
      "execution_count": null,
      "outputs": [
        {
          "output_type": "execute_result",
          "data": {
            "text/plain": [
              "'Mundo'"
            ],
            "application/vnd.google.colaboratory.intrinsic+json": {
              "type": "string"
            }
          },
          "metadata": {},
          "execution_count": 33
        }
      ]
    },
    {
      "cell_type": "code",
      "source": [
        "frase[2:8]             # la Mun, comenzando en 2 y hasta 8"
      ],
      "metadata": {
        "id": "bivIiPnurUPV",
        "outputId": "3138d27d-e23a-4e33-8377-65b56222986c",
        "colab": {
          "base_uri": "https://localhost:8080/",
          "height": 35
        }
      },
      "execution_count": null,
      "outputs": [
        {
          "output_type": "execute_result",
          "data": {
            "text/plain": [
              "'la Mun'"
            ],
            "application/vnd.google.colaboratory.intrinsic+json": {
              "type": "string"
            }
          },
          "metadata": {},
          "execution_count": 34
        }
      ]
    },
    {
      "cell_type": "code",
      "source": [
        "frase[1:8:3]             # o n, con saltos de 3 en 3"
      ],
      "metadata": {
        "id": "LtPMne-ztKZy",
        "outputId": "99cced0c-1b34-4584-a15d-99c02c92c910",
        "colab": {
          "base_uri": "https://localhost:8080/",
          "height": 35
        }
      },
      "execution_count": null,
      "outputs": [
        {
          "output_type": "execute_result",
          "data": {
            "text/plain": [
              "'o n'"
            ],
            "application/vnd.google.colaboratory.intrinsic+json": {
              "type": "string"
            }
          },
          "metadata": {},
          "execution_count": 49
        }
      ]
    },
    {
      "cell_type": "code",
      "source": [
        "frase[:-2]              # Hola Mun, de inicio hasta -2"
      ],
      "metadata": {
        "id": "_Voq3j6TriRk",
        "outputId": "e169b68d-767a-4f3b-c0b3-d9cede186df7",
        "colab": {
          "base_uri": "https://localhost:8080/",
          "height": 35
        }
      },
      "execution_count": null,
      "outputs": [
        {
          "output_type": "execute_result",
          "data": {
            "text/plain": [
              "'Hola Mun'"
            ],
            "application/vnd.google.colaboratory.intrinsic+json": {
              "type": "string"
            }
          },
          "metadata": {},
          "execution_count": 36
        }
      ]
    },
    {
      "cell_type": "code",
      "source": [
        "frase[:]                # todo"
      ],
      "metadata": {
        "id": "ZCC5OSJvrvVr",
        "outputId": "28508b29-0cb2-4ad5-9abd-73852aeca1c8",
        "colab": {
          "base_uri": "https://localhost:8080/",
          "height": 35
        }
      },
      "execution_count": null,
      "outputs": [
        {
          "output_type": "execute_result",
          "data": {
            "text/plain": [
              "'Hola Mundo'"
            ],
            "application/vnd.google.colaboratory.intrinsic+json": {
              "type": "string"
            }
          },
          "metadata": {},
          "execution_count": 39
        }
      ]
    },
    {
      "cell_type": "markdown",
      "source": [
        "### Copiar un string"
      ],
      "metadata": {
        "id": "lJgRDgEU8D8j"
      }
    },
    {
      "cell_type": "code",
      "source": [
        "copia_1 = frase         # una forma de copiar un string\n",
        "copia_1 == frase"
      ],
      "metadata": {
        "id": "GehhjFGOr7Wf",
        "outputId": "0a6a6714-5cf5-4242-fa02-e9a611b498e2",
        "colab": {
          "base_uri": "https://localhost:8080/"
        }
      },
      "execution_count": null,
      "outputs": [
        {
          "output_type": "execute_result",
          "data": {
            "text/plain": [
              "True"
            ]
          },
          "metadata": {},
          "execution_count": 45
        }
      ]
    },
    {
      "cell_type": "code",
      "source": [
        "copia_2 = frase[:]      # otra forma de copiar un string\n",
        "copia_2 == frase"
      ],
      "metadata": {
        "id": "ondVUbAcsvTi",
        "outputId": "4bd81a24-4eab-4140-b351-2f29238d7770",
        "colab": {
          "base_uri": "https://localhost:8080/"
        }
      },
      "execution_count": null,
      "outputs": [
        {
          "output_type": "execute_result",
          "data": {
            "text/plain": [
              "True"
            ]
          },
          "metadata": {},
          "execution_count": 46
        }
      ]
    },
    {
      "cell_type": "markdown",
      "source": [
        "### Reverso"
      ],
      "metadata": {
        "id": "I6CuK6Ln8Ae5"
      }
    },
    {
      "cell_type": "code",
      "source": [
        "palabra = 'ollirama'\n",
        "palabra[::-1]           # reverso de la palabra"
      ],
      "metadata": {
        "id": "18G-LAtqt-C6",
        "outputId": "b7e230bd-9181-4528-dc57-9497bfa45759",
        "colab": {
          "base_uri": "https://localhost:8080/",
          "height": 35
        }
      },
      "execution_count": 24,
      "outputs": [
        {
          "output_type": "execute_result",
          "data": {
            "text/plain": [
              "'amarillo'"
            ],
            "application/vnd.google.colaboratory.intrinsic+json": {
              "type": "string"
            }
          },
          "metadata": {},
          "execution_count": 24
        }
      ]
    },
    {
      "cell_type": "markdown",
      "source": [
        "## Ejercicios"
      ],
      "metadata": {
        "id": "Ky-3vUrS5ReY"
      }
    },
    {
      "cell_type": "markdown",
      "source": [
        "#### *Ejercicio 1*\n",
        "Haga el reverso de la palabra `sogima`"
      ],
      "metadata": {
        "id": "-n7uM6Cu5VRH"
      }
    },
    {
      "cell_type": "markdown",
      "source": [
        "#### *Ejercicio 2*\n",
        "Diga con `True` o `False` que palabras de esta lista son palíndromos.\n",
        "<pre>\n",
        "palabras = [radar, amar, rotor, rayar, recocer, orar]\n",
        "</pre>"
      ],
      "metadata": {
        "id": "AsKQMTi05o7q"
      }
    }
  ]
}