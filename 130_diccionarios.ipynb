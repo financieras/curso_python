{
  "nbformat": 4,
  "nbformat_minor": 0,
  "metadata": {
    "colab": {
      "provenance": [],
      "authorship_tag": "ABX9TyONUthYXN2HmtAipRxRQMf3",
      "include_colab_link": true
    },
    "kernelspec": {
      "name": "python3",
      "display_name": "Python 3"
    },
    "language_info": {
      "name": "python"
    }
  },
  "cells": [
    {
      "cell_type": "markdown",
      "metadata": {
        "id": "view-in-github",
        "colab_type": "text"
      },
      "source": [
        "<a href=\"https://colab.research.google.com/github/financieras/curso_python/blob/main/130_diccionarios.ipynb\" target=\"_parent\"><img src=\"https://colab.research.google.com/assets/colab-badge.svg\" alt=\"Open In Colab\"/></a>"
      ]
    },
    {
      "cell_type": "markdown",
      "source": [
        "# Diccionarios\n",
        "* El contenido de un dict se puede escribir como una serie de pares clave:valor entre llaves { }\n",
        "* key:value"
      ],
      "metadata": {
        "id": "PtUN4Cxa7234"
      }
    },
    {
      "cell_type": "code",
      "execution_count": null,
      "metadata": {
        "colab": {
          "base_uri": "https://localhost:8080/"
        },
        "id": "_u2FzYO97zy1",
        "outputId": "1ca3a322-c3bc-424d-d7a3-2b95abfa74eb"
      },
      "outputs": [
        {
          "output_type": "execute_result",
          "data": {
            "text/plain": [
              "{'rojo': 'red', 'azul': 'blue', 'amarillo': 'yellow', 'rosa': 'pink'}"
            ]
          },
          "metadata": {},
          "execution_count": 2
        }
      ],
      "source": [
        "colores = {'rojo':'red',\n",
        "           'azul':'blue',\n",
        "           'amarillo':'yellow',\n",
        "           'rosa':'pink'}\n",
        "colores"
      ]
    },
    {
      "cell_type": "code",
      "source": [
        "type(colores)"
      ],
      "metadata": {
        "colab": {
          "base_uri": "https://localhost:8080/"
        },
        "id": "iPeVo2yl9ES3",
        "outputId": "a78e14ed-b0bf-42e1-af4c-c752d19f88fc"
      },
      "execution_count": null,
      "outputs": [
        {
          "output_type": "execute_result",
          "data": {
            "text/plain": [
              "dict"
            ]
          },
          "metadata": {},
          "execution_count": 3
        }
      ]
    },
    {
      "cell_type": "markdown",
      "source": [
        "## Diccionario vacío"
      ],
      "metadata": {
        "id": "rbRxlNNs9IAM"
      }
    },
    {
      "cell_type": "code",
      "source": [
        "paises = {}\n",
        "print(paises)\n",
        "type(paises)"
      ],
      "metadata": {
        "colab": {
          "base_uri": "https://localhost:8080/"
        },
        "id": "8omK2kWC9LJP",
        "outputId": "826301ee-de38-4a04-bdc6-4f2bfcaf92a0"
      },
      "execution_count": null,
      "outputs": [
        {
          "output_type": "stream",
          "name": "stdout",
          "text": [
            "{}\n"
          ]
        },
        {
          "output_type": "execute_result",
          "data": {
            "text/plain": [
              "dict"
            ]
          },
          "metadata": {},
          "execution_count": 4
        }
      ]
    },
    {
      "cell_type": "markdown",
      "source": [
        "## Colección sin orden\n",
        "* Un diccionario es una colección de pares clave:valor sin oden\n",
        "* Las listas son ordenadas (el orden importa) pero los diccionarios no"
      ],
      "metadata": {
        "id": "cwZZn9BX9oMl"
      }
    },
    {
      "cell_type": "code",
      "source": [
        "alumno = {'nombre': 'Mateo',\n",
        "           'edad': 16,\n",
        "           'federado': False,\n",
        "           'asignaturas': ['Biología', 'Matemáticas', 'Quimica'],\n",
        "           'grupo':'B'}\n",
        "\n",
        "alumno"
      ],
      "metadata": {
        "colab": {
          "base_uri": "https://localhost:8080/"
        },
        "id": "BLqnCbSK-JyJ",
        "outputId": "0470a90a-927a-4901-8e90-61047219f961"
      },
      "execution_count": null,
      "outputs": [
        {
          "output_type": "execute_result",
          "data": {
            "text/plain": [
              "{'nombre': 'Mateo',\n",
              " 'edad': 16,\n",
              " 'federado': False,\n",
              " 'asignaturas': ['Biología', 'Matemáticas', 'Quimica'],\n",
              " 'grupo': 'B'}"
            ]
          },
          "metadata": {},
          "execution_count": 16
        }
      ]
    },
    {
      "cell_type": "markdown",
      "source": [
        "### Actualización\n",
        "Vamos a aumentar la edad en un año y vamos a añadir una nueva asignatura."
      ],
      "metadata": {
        "id": "G10NOF_XDbF4"
      }
    },
    {
      "cell_type": "code",
      "source": [
        "alumno['edad'] += 1\n",
        "alumno['asignaturas'].append('Tecnología')\n",
        "alumno"
      ],
      "metadata": {
        "colab": {
          "base_uri": "https://localhost:8080/"
        },
        "id": "IkUZPezNDjqf",
        "outputId": "24880f66-0cbb-4d74-db7e-986824ba49d6"
      },
      "execution_count": null,
      "outputs": [
        {
          "output_type": "execute_result",
          "data": {
            "text/plain": [
              "{'nombre': 'Mateo',\n",
              " 'edad': 17,\n",
              " 'federado': False,\n",
              " 'asignaturas': ['Biología', 'Matemáticas', 'Quimica', 'Tecnología'],\n",
              " 'grupo': 'B'}"
            ]
          },
          "metadata": {},
          "execution_count": 17
        }
      ]
    },
    {
      "cell_type": "markdown",
      "source": [
        "## Número de elementos `len`"
      ],
      "metadata": {
        "id": "8vetqC8y_imd"
      }
    },
    {
      "cell_type": "code",
      "source": [
        "len(alumno)"
      ],
      "metadata": {
        "colab": {
          "base_uri": "https://localhost:8080/"
        },
        "id": "o6QVXxV-_p2-",
        "outputId": "baa68c95-52f6-4a6d-e2ad-7154bef768ce"
      },
      "execution_count": null,
      "outputs": [
        {
          "output_type": "execute_result",
          "data": {
            "text/plain": [
              "5"
            ]
          },
          "metadata": {},
          "execution_count": 6
        }
      ]
    },
    {
      "cell_type": "markdown",
      "source": [
        "## Eliminar una clave"
      ],
      "metadata": {
        "id": "t7_RpRy3ELPC"
      }
    },
    {
      "cell_type": "code",
      "source": [
        "del alumno['federado']\n",
        "alumno"
      ],
      "metadata": {
        "colab": {
          "base_uri": "https://localhost:8080/"
        },
        "id": "9D8lmnTQEO6b",
        "outputId": "4659a43d-683a-481a-f094-2a9a1c45c7f8"
      },
      "execution_count": null,
      "outputs": [
        {
          "output_type": "execute_result",
          "data": {
            "text/plain": [
              "{'nombre': 'Mateo',\n",
              " 'edad': 17,\n",
              " 'asignaturas': ['Biología', 'Matemáticas', 'Quimica', 'Tecnología'],\n",
              " 'grupo': 'B'}"
            ]
          },
          "metadata": {},
          "execution_count": 18
        }
      ]
    },
    {
      "cell_type": "code",
      "source": [
        "alumno.pop('edad')\n",
        "alumno"
      ],
      "metadata": {
        "colab": {
          "base_uri": "https://localhost:8080/"
        },
        "id": "pdrKXwOgEhpr",
        "outputId": "f9da3c7c-a30a-4596-db8e-c7a1957aed38"
      },
      "execution_count": null,
      "outputs": [
        {
          "output_type": "execute_result",
          "data": {
            "text/plain": [
              "{'nombre': 'Mateo',\n",
              " 'asignaturas': ['Biología', 'Matemáticas', 'Quimica', 'Tecnología'],\n",
              " 'grupo': 'B'}"
            ]
          },
          "metadata": {},
          "execution_count": 19
        }
      ]
    },
    {
      "cell_type": "markdown",
      "source": [
        "## Consultar por llave"
      ],
      "metadata": {
        "id": "sdGXOEhx_2Z5"
      }
    },
    {
      "cell_type": "code",
      "source": [
        "alumno['edad']"
      ],
      "metadata": {
        "colab": {
          "base_uri": "https://localhost:8080/"
        },
        "id": "2LnjWKs1_6g_",
        "outputId": "59c2a693-168c-4dd3-f8bb-9fc3ed9b0ebc"
      },
      "execution_count": null,
      "outputs": [
        {
          "output_type": "execute_result",
          "data": {
            "text/plain": [
              "17"
            ]
          },
          "metadata": {},
          "execution_count": 7
        }
      ]
    },
    {
      "cell_type": "code",
      "source": [
        "alumno.get('edad')"
      ],
      "metadata": {
        "colab": {
          "base_uri": "https://localhost:8080/"
        },
        "id": "yeWCedSCANPz",
        "outputId": "3e18cc57-ca7c-4627-bd64-3c495f7f7b37"
      },
      "execution_count": null,
      "outputs": [
        {
          "output_type": "execute_result",
          "data": {
            "text/plain": [
              "17"
            ]
          },
          "metadata": {},
          "execution_count": 8
        }
      ]
    },
    {
      "cell_type": "markdown",
      "source": [
        "La ventaja de usar `get` es que si preguntamos por una clave que no existe no da error."
      ],
      "metadata": {
        "id": "C-sDZRzhAn4g"
      }
    },
    {
      "cell_type": "code",
      "source": [
        "print(alumno.get('telefono'))   # None"
      ],
      "metadata": {
        "colab": {
          "base_uri": "https://localhost:8080/"
        },
        "id": "lkRQRtPFAQ3X",
        "outputId": "ca3987a2-0f2a-4ecd-eae1-5e309fae0591"
      },
      "execution_count": null,
      "outputs": [
        {
          "output_type": "stream",
          "name": "stdout",
          "text": [
            "None\n"
          ]
        }
      ]
    },
    {
      "cell_type": "markdown",
      "source": [
        "Con `in` podemos consultar si existe esa clave."
      ],
      "metadata": {
        "id": "NWfs1W_zA8ZO"
      }
    },
    {
      "cell_type": "code",
      "source": [
        "'email' in alumno"
      ],
      "metadata": {
        "colab": {
          "base_uri": "https://localhost:8080/"
        },
        "id": "ll7eO0q7BGI6",
        "outputId": "97542cdf-a71c-4dd4-88d3-be149d4f6c48"
      },
      "execution_count": null,
      "outputs": [
        {
          "output_type": "execute_result",
          "data": {
            "text/plain": [
              "False"
            ]
          },
          "metadata": {},
          "execution_count": 12
        }
      ]
    },
    {
      "cell_type": "code",
      "source": [
        "'grupo' in alumno"
      ],
      "metadata": {
        "colab": {
          "base_uri": "https://localhost:8080/"
        },
        "id": "WbcxoxdyBXyM",
        "outputId": "1718eccf-f598-4102-a64e-27a6bc0dd7e0"
      },
      "execution_count": null,
      "outputs": [
        {
          "output_type": "execute_result",
          "data": {
            "text/plain": [
              "True"
            ]
          },
          "metadata": {},
          "execution_count": 13
        }
      ]
    },
    {
      "cell_type": "markdown",
      "source": [
        "## Creación partiendo de listas"
      ],
      "metadata": {
        "id": "S4OHX85aCP6i"
      }
    },
    {
      "cell_type": "code",
      "source": [
        "paises = ['Francia', 'Italia', 'Reino Unido', 'España']\n",
        "capitales = ['París', 'Roma', 'Londres', 'Madrid']\n",
        "geografia = dict(zip(paises, capitales))\n",
        "geografia"
      ],
      "metadata": {
        "colab": {
          "base_uri": "https://localhost:8080/"
        },
        "id": "JJclVQbmCTUS",
        "outputId": "4a86bd8e-ef16-486a-de79-8bef43bf0270"
      },
      "execution_count": null,
      "outputs": [
        {
          "output_type": "execute_result",
          "data": {
            "text/plain": [
              "{'Francia': 'París',\n",
              " 'Italia': 'Roma',\n",
              " 'Reino Unido': 'Londres',\n",
              " 'España': 'Madrid'}"
            ]
          },
          "metadata": {},
          "execution_count": 14
        }
      ]
    },
    {
      "cell_type": "markdown",
      "source": [
        "## Obtener los items, las keys y los values"
      ],
      "metadata": {
        "id": "IwxSr0iaE8CS"
      }
    },
    {
      "cell_type": "code",
      "source": [
        "print(geografia.items())"
      ],
      "metadata": {
        "colab": {
          "base_uri": "https://localhost:8080/"
        },
        "id": "GJH86l_1FBE9",
        "outputId": "1e2fdf20-a794-4acb-fcb2-271902f7e467"
      },
      "execution_count": null,
      "outputs": [
        {
          "output_type": "stream",
          "name": "stdout",
          "text": [
            "dict_items([('Francia', 'París'), ('Italia', 'Roma'), ('Reino Unido', 'Londres'), ('España', 'Madrid')])\n"
          ]
        }
      ]
    },
    {
      "cell_type": "code",
      "source": [
        "print(geografia.keys())"
      ],
      "metadata": {
        "colab": {
          "base_uri": "https://localhost:8080/"
        },
        "id": "dnxYB-HLFNwF",
        "outputId": "c343621c-345d-4305-b44e-06a85218f1c9"
      },
      "execution_count": null,
      "outputs": [
        {
          "output_type": "stream",
          "name": "stdout",
          "text": [
            "dict_keys(['Francia', 'Italia', 'Reino Unido', 'España'])\n"
          ]
        }
      ]
    },
    {
      "cell_type": "code",
      "source": [
        "print(geografia.values())"
      ],
      "metadata": {
        "colab": {
          "base_uri": "https://localhost:8080/"
        },
        "id": "xEtPb124FP68",
        "outputId": "f1d90b97-4145-4618-87d5-dc2b19c4f549"
      },
      "execution_count": null,
      "outputs": [
        {
          "output_type": "stream",
          "name": "stdout",
          "text": [
            "dict_values(['París', 'Roma', 'Londres', 'Madrid'])\n"
          ]
        }
      ]
    },
    {
      "cell_type": "markdown",
      "source": [
        "## Formas de expresar un Diccionario"
      ],
      "metadata": {
        "id": "8RzKi4GmZvK6"
      }
    },
    {
      "cell_type": "code",
      "source": [
        "a = dict(one=1, two=2, three=3)\n",
        "b = {'one': 1, 'two': 2, 'three': 3}\n",
        "c = dict(zip(['one', 'two', 'three'], [1, 2, 3]))\n",
        "d = dict([('two', 2), ('one', 1), ('three', 3)])\n",
        "e = dict({'three': 3, 'one': 1, 'two': 2})\n",
        "f = dict({'one': 1, 'three': 3}, two=2)\n",
        "a == b == c == d == e == f"
      ],
      "metadata": {
        "id": "CYKw6hyhZ08o",
        "outputId": "5c193ea5-8979-476c-e79c-930e208f6758",
        "colab": {
          "base_uri": "https://localhost:8080/"
        }
      },
      "execution_count": 1,
      "outputs": [
        {
          "output_type": "execute_result",
          "data": {
            "text/plain": [
              "True"
            ]
          },
          "metadata": {},
          "execution_count": 1
        }
      ]
    }
  ]
}