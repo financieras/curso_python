{
  "nbformat": 4,
  "nbformat_minor": 0,
  "metadata": {
    "colab": {
      "provenance": [],
      "authorship_tag": "ABX9TyPlKD/RhQW487BMEGS2LmQf",
      "include_colab_link": true
    },
    "kernelspec": {
      "name": "python3",
      "display_name": "Python 3"
    },
    "language_info": {
      "name": "python"
    }
  },
  "cells": [
    {
      "cell_type": "markdown",
      "metadata": {
        "id": "view-in-github",
        "colab_type": "text"
      },
      "source": [
        "<a href=\"https://colab.research.google.com/github/financieras/curso_python/blob/main/130_diccionarios.ipynb\" target=\"_parent\"><img src=\"https://colab.research.google.com/assets/colab-badge.svg\" alt=\"Open In Colab\"/></a>"
      ]
    },
    {
      "cell_type": "markdown",
      "source": [
        "# Diccionarios\n",
        "1. Los diccionarios se utilizan para almacenar valores de datos en pares clave:valor entre llaves { }\n",
        "    - key:value\n",
        "2. Los diccionarios:  \n",
        "    *   son una colección ordenada\n",
        "    *   son una colección modificable (son **mutables**)\n",
        "3. Los diccionarios no permite duplicados ya que la clave ha de ser única"
      ],
      "metadata": {
        "id": "PtUN4Cxa7234"
      }
    },
    {
      "cell_type": "code",
      "execution_count": 1,
      "metadata": {
        "colab": {
          "base_uri": "https://localhost:8080/"
        },
        "id": "_u2FzYO97zy1",
        "outputId": "2c3e9ccc-14b9-4a4f-89fe-3b2e82669bb3"
      },
      "outputs": [
        {
          "output_type": "execute_result",
          "data": {
            "text/plain": [
              "{'rojo': 'red', 'azul': 'blue', 'amarillo': 'yellow', 'rosa': 'pink'}"
            ]
          },
          "metadata": {},
          "execution_count": 1
        }
      ],
      "source": [
        "colores = {'rojo':'red',\n",
        "           'azul':'blue',\n",
        "           'amarillo':'yellow',\n",
        "           'rosa':'pink'}\n",
        "colores"
      ]
    },
    {
      "cell_type": "code",
      "source": [
        "type(colores)"
      ],
      "metadata": {
        "colab": {
          "base_uri": "https://localhost:8080/"
        },
        "id": "iPeVo2yl9ES3",
        "outputId": "4d1ac7bb-d4bd-4692-ec07-70dd4bf67f2a"
      },
      "execution_count": 2,
      "outputs": [
        {
          "output_type": "execute_result",
          "data": {
            "text/plain": [
              "dict"
            ]
          },
          "metadata": {},
          "execution_count": 2
        }
      ]
    },
    {
      "cell_type": "markdown",
      "source": [
        "## Diccionario vacío"
      ],
      "metadata": {
        "id": "rbRxlNNs9IAM"
      }
    },
    {
      "cell_type": "code",
      "source": [
        "compras = {}\n",
        "compras"
      ],
      "metadata": {
        "colab": {
          "base_uri": "https://localhost:8080/"
        },
        "id": "UVObsR7up44J",
        "outputId": "5cd54d93-91f8-4cc4-bd3f-a998096b3069"
      },
      "execution_count": 3,
      "outputs": [
        {
          "output_type": "execute_result",
          "data": {
            "text/plain": [
              "{}"
            ]
          },
          "metadata": {},
          "execution_count": 3
        }
      ]
    },
    {
      "cell_type": "markdown",
      "source": [
        "Otro diccionario vacío."
      ],
      "metadata": {
        "id": "U1oklzX2qLH1"
      }
    },
    {
      "cell_type": "code",
      "source": [
        "ventas = dict()\n",
        "ventas"
      ],
      "metadata": {
        "colab": {
          "base_uri": "https://localhost:8080/"
        },
        "id": "iR49kGLoqPbb",
        "outputId": "6d4bfb6c-fb86-4e9a-ddb2-a27800c3edf2"
      },
      "execution_count": 4,
      "outputs": [
        {
          "output_type": "execute_result",
          "data": {
            "text/plain": [
              "{}"
            ]
          },
          "metadata": {},
          "execution_count": 4
        }
      ]
    },
    {
      "cell_type": "code",
      "source": [
        "type(ventas)"
      ],
      "metadata": {
        "id": "Xl1q-ZGVeg33",
        "outputId": "e50202de-7751-409e-b920-264f45214381",
        "colab": {
          "base_uri": "https://localhost:8080/"
        }
      },
      "execution_count": 5,
      "outputs": [
        {
          "output_type": "execute_result",
          "data": {
            "text/plain": [
              "dict"
            ]
          },
          "metadata": {},
          "execution_count": 5
        }
      ]
    },
    {
      "cell_type": "markdown",
      "source": [
        "## Diccionario con lista"
      ],
      "metadata": {
        "id": "ponJ7wPEqWFB"
      }
    },
    {
      "cell_type": "code",
      "source": [
        "empleado = {'nombre': 'Marcos',\n",
        "            'apellido': 'Ruiz',\n",
        "            'año_inicio': 2023,\n",
        "            'fijo': True,\n",
        "            'salario_miles': 43.5,\n",
        "            'lenguajes': ['C++', 'Python', 'JavaScript']}\n",
        "\n",
        "empleado"
      ],
      "metadata": {
        "id": "pYn9eoMP-EG5",
        "outputId": "4b64d64d-97c3-45e9-a466-b186b5687c8c",
        "colab": {
          "base_uri": "https://localhost:8080/"
        }
      },
      "execution_count": 6,
      "outputs": [
        {
          "output_type": "execute_result",
          "data": {
            "text/plain": [
              "{'nombre': 'Marcos',\n",
              " 'apellido': 'Ruiz',\n",
              " 'año_inicio': 2023,\n",
              " 'fijo': True,\n",
              " 'salario_miles': 43.5,\n",
              " 'lenguajes': ['C++', 'Python', 'JavaScript']}"
            ]
          },
          "metadata": {},
          "execution_count": 6
        }
      ]
    },
    {
      "cell_type": "code",
      "source": [
        "type(empleado)"
      ],
      "metadata": {
        "id": "GWuqQt7J_FY8",
        "outputId": "83670188-b487-44c8-b458-ce9224824924",
        "colab": {
          "base_uri": "https://localhost:8080/"
        }
      },
      "execution_count": 7,
      "outputs": [
        {
          "output_type": "execute_result",
          "data": {
            "text/plain": [
              "dict"
            ]
          },
          "metadata": {},
          "execution_count": 7
        }
      ]
    },
    {
      "cell_type": "markdown",
      "source": [
        "## Diccionario con tupla\n",
        "La longitud y la latitud se pueden expresar como una pareja de números en forma de tupla."
      ],
      "metadata": {
        "id": "zCZl-3exJl69"
      }
    },
    {
      "cell_type": "code",
      "source": [
        "localizaciones = {\"Madrid\": (40.4168, -3.7038),\n",
        "                  \"London\": (51.5072, -0.1276),\n",
        "                  \"New York\": (40.7128, -74.0060),\n",
        "                  \"Tokyo\": (35.6762, 139.6503)}\n",
        "\n",
        "localizaciones"
      ],
      "metadata": {
        "id": "j4ft89h6JrF6",
        "outputId": "dbd9b095-5509-4c93-ff9e-b9beedba4bb6",
        "colab": {
          "base_uri": "https://localhost:8080/"
        }
      },
      "execution_count": 8,
      "outputs": [
        {
          "output_type": "execute_result",
          "data": {
            "text/plain": [
              "{'Madrid': (40.4168, -3.7038),\n",
              " 'London': (51.5072, -0.1276),\n",
              " 'New York': (40.7128, -74.006),\n",
              " 'Tokyo': (35.6762, 139.6503)}"
            ]
          },
          "metadata": {},
          "execution_count": 8
        }
      ]
    },
    {
      "cell_type": "markdown",
      "source": [
        "## Colección sin orden\n",
        "* Un diccionario es una colección de pares *clave: valor* sin oden\n",
        "* Las listas son ordenadas (el orden importa) pero en los diccionarios el orden no importa"
      ],
      "metadata": {
        "id": "cwZZn9BX9oMl"
      }
    },
    {
      "cell_type": "code",
      "source": [
        "alumno = {'nombre': 'Mateo',\n",
        "           'edad': 16,\n",
        "           'federado': False,\n",
        "           'asignaturas': ['Biología', 'Matemáticas', 'Quimica'],\n",
        "           'grupo':'B'}\n",
        "\n",
        "alumno"
      ],
      "metadata": {
        "colab": {
          "base_uri": "https://localhost:8080/"
        },
        "id": "BLqnCbSK-JyJ",
        "outputId": "1dbcc7a2-acb8-4594-ed24-08de9ce2a980"
      },
      "execution_count": 9,
      "outputs": [
        {
          "output_type": "execute_result",
          "data": {
            "text/plain": [
              "{'nombre': 'Mateo',\n",
              " 'edad': 16,\n",
              " 'federado': False,\n",
              " 'asignaturas': ['Biología', 'Matemáticas', 'Quimica'],\n",
              " 'grupo': 'B'}"
            ]
          },
          "metadata": {},
          "execution_count": 9
        }
      ]
    },
    {
      "cell_type": "markdown",
      "source": [
        "### Actualización\n",
        "Vamos a aumentar la edad en un año y vamos a añadir una nueva asignatura."
      ],
      "metadata": {
        "id": "G10NOF_XDbF4"
      }
    },
    {
      "cell_type": "code",
      "source": [
        "alumno['edad'] += 1\n",
        "alumno['asignaturas'].append('Tecnología')\n",
        "alumno"
      ],
      "metadata": {
        "colab": {
          "base_uri": "https://localhost:8080/"
        },
        "id": "IkUZPezNDjqf",
        "outputId": "ca0a1258-e120-47d2-e313-88a577dd52f0"
      },
      "execution_count": 10,
      "outputs": [
        {
          "output_type": "execute_result",
          "data": {
            "text/plain": [
              "{'nombre': 'Mateo',\n",
              " 'edad': 17,\n",
              " 'federado': False,\n",
              " 'asignaturas': ['Biología', 'Matemáticas', 'Quimica', 'Tecnología'],\n",
              " 'grupo': 'B'}"
            ]
          },
          "metadata": {},
          "execution_count": 10
        }
      ]
    },
    {
      "cell_type": "markdown",
      "source": [
        "## Funciones y métodos"
      ],
      "metadata": {
        "id": "qNdGEVfmVvb3"
      }
    },
    {
      "cell_type": "markdown",
      "source": [
        "### `dir`\n",
        "* Lista los métodos de este tipo de objetos."
      ],
      "metadata": {
        "id": "dk0j_T_XWv0D"
      }
    },
    {
      "cell_type": "code",
      "source": [
        "producto = {'nombre': 'café',\n",
        "             'precio': 4.99,\n",
        "             'unidades': 2,\n",
        "             'disponible': True}\n",
        "\n",
        "dir(producto)"
      ],
      "metadata": {
        "colab": {
          "base_uri": "https://localhost:8080/"
        },
        "id": "Y0p6m5tCVzBK",
        "outputId": "64f9cf85-29c4-4fc1-c8c2-169e227fb23a"
      },
      "execution_count": 11,
      "outputs": [
        {
          "output_type": "execute_result",
          "data": {
            "text/plain": [
              "['__class__',\n",
              " '__class_getitem__',\n",
              " '__contains__',\n",
              " '__delattr__',\n",
              " '__delitem__',\n",
              " '__dir__',\n",
              " '__doc__',\n",
              " '__eq__',\n",
              " '__format__',\n",
              " '__ge__',\n",
              " '__getattribute__',\n",
              " '__getitem__',\n",
              " '__gt__',\n",
              " '__hash__',\n",
              " '__init__',\n",
              " '__init_subclass__',\n",
              " '__ior__',\n",
              " '__iter__',\n",
              " '__le__',\n",
              " '__len__',\n",
              " '__lt__',\n",
              " '__ne__',\n",
              " '__new__',\n",
              " '__or__',\n",
              " '__reduce__',\n",
              " '__reduce_ex__',\n",
              " '__repr__',\n",
              " '__reversed__',\n",
              " '__ror__',\n",
              " '__setattr__',\n",
              " '__setitem__',\n",
              " '__sizeof__',\n",
              " '__str__',\n",
              " '__subclasshook__',\n",
              " 'clear',\n",
              " 'copy',\n",
              " 'fromkeys',\n",
              " 'get',\n",
              " 'items',\n",
              " 'keys',\n",
              " 'pop',\n",
              " 'popitem',\n",
              " 'setdefault',\n",
              " 'update',\n",
              " 'values']"
            ]
          },
          "metadata": {},
          "execution_count": 11
        }
      ]
    },
    {
      "cell_type": "markdown",
      "source": [
        "## Número de elementos `len`"
      ],
      "metadata": {
        "id": "8vetqC8y_imd"
      }
    },
    {
      "cell_type": "code",
      "source": [
        "len(producto)"
      ],
      "metadata": {
        "colab": {
          "base_uri": "https://localhost:8080/"
        },
        "id": "o6QVXxV-_p2-",
        "outputId": "107c07d6-9770-4dc6-fa52-135330302a2d"
      },
      "execution_count": 12,
      "outputs": [
        {
          "output_type": "execute_result",
          "data": {
            "text/plain": [
              "4"
            ]
          },
          "metadata": {},
          "execution_count": 12
        }
      ]
    },
    {
      "cell_type": "markdown",
      "source": [
        "### `items`\n",
        "* Proporciona los items del diccionario.\n",
        "* Proporciona todo, la clave y el valor, en forma de tuplas y dentro de una lista."
      ],
      "metadata": {
        "id": "gHvDWS6hf2zF"
      }
    },
    {
      "cell_type": "code",
      "source": [
        "producto.items()"
      ],
      "metadata": {
        "colab": {
          "base_uri": "https://localhost:8080/"
        },
        "id": "cTQTYmbOf8X_",
        "outputId": "aff4b915-9a4a-4886-b415-8f9b3e1eb49f"
      },
      "execution_count": 13,
      "outputs": [
        {
          "output_type": "execute_result",
          "data": {
            "text/plain": [
              "dict_items([('nombre', 'café'), ('precio', 4.99), ('unidades', 2), ('disponible', True)])"
            ]
          },
          "metadata": {},
          "execution_count": 13
        }
      ]
    },
    {
      "cell_type": "markdown",
      "source": [
        "### `keys`\n",
        "Proporciona las llaves del diccionario."
      ],
      "metadata": {
        "id": "XNl4Jy9bfJdf"
      }
    },
    {
      "cell_type": "code",
      "source": [
        "producto.keys()"
      ],
      "metadata": {
        "colab": {
          "base_uri": "https://localhost:8080/"
        },
        "id": "6y2NkwMvfOb-",
        "outputId": "5e9e59d8-07eb-47e5-b4ea-248272f3e820"
      },
      "execution_count": 14,
      "outputs": [
        {
          "output_type": "execute_result",
          "data": {
            "text/plain": [
              "dict_keys(['nombre', 'precio', 'unidades', 'disponible'])"
            ]
          },
          "metadata": {},
          "execution_count": 14
        }
      ]
    },
    {
      "cell_type": "markdown",
      "source": [
        "### `values`"
      ],
      "metadata": {
        "id": "wQBrooSSma9c"
      }
    },
    {
      "cell_type": "code",
      "source": [
        "producto.values()"
      ],
      "metadata": {
        "id": "7JDFugK6mnlp",
        "outputId": "f397aabf-f8e4-4fbd-c5e3-857a4fb143ce",
        "colab": {
          "base_uri": "https://localhost:8080/"
        }
      },
      "execution_count": 15,
      "outputs": [
        {
          "output_type": "execute_result",
          "data": {
            "text/plain": [
              "dict_values(['café', 4.99, 2, True])"
            ]
          },
          "metadata": {},
          "execution_count": 15
        }
      ]
    },
    {
      "cell_type": "markdown",
      "source": [
        "### `clear`\n",
        "*Elimina todos los iterms del diccionario.\n",
        "* Queda el objeto pero vacío."
      ],
      "metadata": {
        "id": "wNyTPShKg6zR"
      }
    },
    {
      "cell_type": "code",
      "source": [
        "producto.clear()\n",
        "producto"
      ],
      "metadata": {
        "colab": {
          "base_uri": "https://localhost:8080/"
        },
        "id": "q3bMBdWUhH_f",
        "outputId": "5fcf601b-43aa-4d10-8b13-a434b653ee8c"
      },
      "execution_count": 16,
      "outputs": [
        {
          "output_type": "execute_result",
          "data": {
            "text/plain": [
              "{}"
            ]
          },
          "metadata": {},
          "execution_count": 16
        }
      ]
    },
    {
      "cell_type": "markdown",
      "source": [
        "## `get`\n",
        "Permite consultar por llave"
      ],
      "metadata": {
        "id": "sdGXOEhx_2Z5"
      }
    },
    {
      "cell_type": "code",
      "source": [
        "alumno = {'nombre': 'Mateo',\n",
        "           'edad': 16,\n",
        "           'federado': False,\n",
        "           'asignaturas': ['Biología', 'Matemáticas', 'Quimica'],\n",
        "           'grupo':'B'}"
      ],
      "metadata": {
        "id": "T-s1gMr9kolm"
      },
      "execution_count": 17,
      "outputs": []
    },
    {
      "cell_type": "code",
      "source": [
        "alumno['edad']      # consultamos por clave sin necesidad de usar get"
      ],
      "metadata": {
        "colab": {
          "base_uri": "https://localhost:8080/"
        },
        "id": "2LnjWKs1_6g_",
        "outputId": "90c52445-0421-4474-c1ba-4cd7a80f9ba1"
      },
      "execution_count": 18,
      "outputs": [
        {
          "output_type": "execute_result",
          "data": {
            "text/plain": [
              "16"
            ]
          },
          "metadata": {},
          "execution_count": 18
        }
      ]
    },
    {
      "cell_type": "code",
      "source": [
        "alumno.get('edad')  # consultamos por clave usando get"
      ],
      "metadata": {
        "colab": {
          "base_uri": "https://localhost:8080/"
        },
        "id": "yeWCedSCANPz",
        "outputId": "58c86b47-f59f-43ed-caa5-794c42f74a86"
      },
      "execution_count": 19,
      "outputs": [
        {
          "output_type": "execute_result",
          "data": {
            "text/plain": [
              "16"
            ]
          },
          "metadata": {},
          "execution_count": 19
        }
      ]
    },
    {
      "cell_type": "markdown",
      "source": [
        "La ventaja de usar `get` es que si preguntamos por una clave que no existe no da error."
      ],
      "metadata": {
        "id": "C-sDZRzhAn4g"
      }
    },
    {
      "cell_type": "code",
      "source": [
        "print(alumno.get('telefono'))   # None"
      ],
      "metadata": {
        "colab": {
          "base_uri": "https://localhost:8080/"
        },
        "id": "lkRQRtPFAQ3X",
        "outputId": "c9bd2ccf-a4d1-4bc0-85ee-ff957e304f67"
      },
      "execution_count": 20,
      "outputs": [
        {
          "output_type": "stream",
          "name": "stdout",
          "text": [
            "None\n"
          ]
        }
      ]
    },
    {
      "cell_type": "markdown",
      "source": [
        "### `in`\n",
        "Con `in` podemos consultar si existe esa clave."
      ],
      "metadata": {
        "id": "NWfs1W_zA8ZO"
      }
    },
    {
      "cell_type": "code",
      "source": [
        "'email' in alumno"
      ],
      "metadata": {
        "colab": {
          "base_uri": "https://localhost:8080/"
        },
        "id": "ll7eO0q7BGI6",
        "outputId": "a8806021-210e-49ac-d16d-b86146635c99"
      },
      "execution_count": 21,
      "outputs": [
        {
          "output_type": "execute_result",
          "data": {
            "text/plain": [
              "False"
            ]
          },
          "metadata": {},
          "execution_count": 21
        }
      ]
    },
    {
      "cell_type": "code",
      "source": [
        "'grupo' in alumno"
      ],
      "metadata": {
        "colab": {
          "base_uri": "https://localhost:8080/"
        },
        "id": "WbcxoxdyBXyM",
        "outputId": "059b2c3c-cf57-4ed1-e28d-6cb6ae3ba47c"
      },
      "execution_count": 22,
      "outputs": [
        {
          "output_type": "execute_result",
          "data": {
            "text/plain": [
              "True"
            ]
          },
          "metadata": {},
          "execution_count": 22
        }
      ]
    },
    {
      "cell_type": "markdown",
      "source": [
        "### `pop`"
      ],
      "metadata": {
        "id": "chqMNsccjrU9"
      }
    },
    {
      "cell_type": "code",
      "source": [
        "alumno.pop('edad')\n",
        "alumno"
      ],
      "metadata": {
        "colab": {
          "base_uri": "https://localhost:8080/"
        },
        "id": "pdrKXwOgEhpr",
        "outputId": "b3e3535c-20c8-41bb-e014-0ae1bfcbe78a"
      },
      "execution_count": 23,
      "outputs": [
        {
          "output_type": "execute_result",
          "data": {
            "text/plain": [
              "{'nombre': 'Mateo',\n",
              " 'federado': False,\n",
              " 'asignaturas': ['Biología', 'Matemáticas', 'Quimica'],\n",
              " 'grupo': 'B'}"
            ]
          },
          "metadata": {},
          "execution_count": 23
        }
      ]
    },
    {
      "cell_type": "markdown",
      "source": [
        "### `del`"
      ],
      "metadata": {
        "id": "XmlzrhDrikkW"
      }
    },
    {
      "cell_type": "markdown",
      "source": [
        "#### `del` para eliminar una clave"
      ],
      "metadata": {
        "id": "No0Fl2lWibs4"
      }
    },
    {
      "cell_type": "code",
      "source": [
        "del alumno['federado']      # eliminar una clave\n",
        "alumno"
      ],
      "metadata": {
        "id": "CcdjXgwdky-l",
        "outputId": "52fe21ef-4f40-4807-c661-5feac18a6cf1",
        "colab": {
          "base_uri": "https://localhost:8080/"
        }
      },
      "execution_count": 24,
      "outputs": [
        {
          "output_type": "execute_result",
          "data": {
            "text/plain": [
              "{'nombre': 'Mateo',\n",
              " 'asignaturas': ['Biología', 'Matemáticas', 'Quimica'],\n",
              " 'grupo': 'B'}"
            ]
          },
          "metadata": {},
          "execution_count": 24
        }
      ]
    },
    {
      "cell_type": "markdown",
      "source": [
        "#### `del` para eliminar el objeto"
      ],
      "metadata": {
        "id": "SpOHn6JJgYw1"
      }
    },
    {
      "cell_type": "code",
      "source": [
        "del alumno\n",
        "#print(alumno)    # daría Error ya que no puede imprimir un objeto que no existe"
      ],
      "metadata": {
        "id": "EeYlt4IFgfrz"
      },
      "execution_count": 25,
      "outputs": []
    },
    {
      "cell_type": "markdown",
      "source": [
        "## Creación partiendo de listas"
      ],
      "metadata": {
        "id": "S4OHX85aCP6i"
      }
    },
    {
      "cell_type": "code",
      "source": [
        "paises = ['Francia', 'Italia', 'Reino Unido', 'España']\n",
        "capitales = ['París', 'Roma', 'Londres', 'Madrid']\n",
        "geografia = dict(zip(paises, capitales))\n",
        "geografia"
      ],
      "metadata": {
        "colab": {
          "base_uri": "https://localhost:8080/"
        },
        "id": "JJclVQbmCTUS",
        "outputId": "3719d0f9-187c-4e0d-bb4a-b3d9999265ae"
      },
      "execution_count": 26,
      "outputs": [
        {
          "output_type": "execute_result",
          "data": {
            "text/plain": [
              "{'Francia': 'París',\n",
              " 'Italia': 'Roma',\n",
              " 'Reino Unido': 'Londres',\n",
              " 'España': 'Madrid'}"
            ]
          },
          "metadata": {},
          "execution_count": 26
        }
      ]
    },
    {
      "cell_type": "markdown",
      "source": [
        "## Formas de expresar un Diccionario"
      ],
      "metadata": {
        "id": "8RzKi4GmZvK6"
      }
    },
    {
      "cell_type": "code",
      "source": [
        "a = dict(one=1, two=2, three=3)\n",
        "b = {'one': 1, 'two': 2, 'three': 3}\n",
        "c = dict(zip(['one', 'two', 'three'], [1, 2, 3]))\n",
        "d = dict([('two', 2), ('one', 1), ('three', 3)])\n",
        "e = dict({'three': 3, 'one': 1, 'two': 2})\n",
        "f = dict({'one': 1, 'three': 3}, two=2)\n",
        "a == b == c == d == e == f"
      ],
      "metadata": {
        "id": "CYKw6hyhZ08o",
        "outputId": "3bfe88df-8a19-40e5-eb6e-05e4463be334",
        "colab": {
          "base_uri": "https://localhost:8080/"
        }
      },
      "execution_count": 27,
      "outputs": [
        {
          "output_type": "execute_result",
          "data": {
            "text/plain": [
              "True"
            ]
          },
          "metadata": {},
          "execution_count": 27
        }
      ]
    },
    {
      "cell_type": "markdown",
      "source": [
        "## Objetos JSON\n",
        "Son estructuras de datos que son muy parecidas a una lista de diccionarios.\n",
        "* Se usan mucho en programación web para compartir información entre páginas o entre un página y alguna base de datos no relacional.\n",
        "* Existen muchas páginas en internet que permite validar objetos JSON de forma online.\n",
        "    1. Los objetos JSON no usan comilla simple, han de ser comillas dobles\n",
        "    2. En los JSON los *True* y *False* van todo en minúsculas"
      ],
      "metadata": {
        "id": "cUrH7Zjlhz1J"
      }
    },
    {
      "cell_type": "code",
      "source": [
        "productos = [\n",
        "    {\n",
        "        'nombre': 'cafe',\n",
        "        'precio': 4.99,\n",
        "        'unidades': 2,\n",
        "        'disponible': True\n",
        "    },\n",
        "    {\n",
        "        'nombre': 'libro',\n",
        "        'precio': 19.99,\n",
        "        'unidades': 1,\n",
        "        'disponible': True\n",
        "    },\n",
        "    {\n",
        "        'nombre': 'laptop',\n",
        "        'precio': 999.99,\n",
        "        'unidades': 1,\n",
        "        'disponible': False\n",
        "    }\n",
        "]\n",
        "\n",
        "productos       # lista de diccionarios en Python\n",
        "                # poniendo True y False en minúsculas podría se un JSON correcto"
      ],
      "metadata": {
        "colab": {
          "base_uri": "https://localhost:8080/"
        },
        "id": "kC8TRLhFkJEd",
        "outputId": "ec958b4e-afa0-42f4-ff3f-8cbbd418c5be"
      },
      "execution_count": 28,
      "outputs": [
        {
          "output_type": "execute_result",
          "data": {
            "text/plain": [
              "[{'nombre': 'cafe', 'precio': 4.99, 'unidades': 2, 'disponible': True},\n",
              " {'nombre': 'libro', 'precio': 19.99, 'unidades': 1, 'disponible': True},\n",
              " {'nombre': 'laptop', 'precio': 999.99, 'unidades': 1, 'disponible': False}]"
            ]
          },
          "metadata": {},
          "execution_count": 28
        }
      ]
    },
    {
      "cell_type": "markdown",
      "source": [
        "Usamos la función `dumps` de la librearía `json` para convertir la lista de diccionarios en un objeto JSON válido."
      ],
      "metadata": {
        "id": "TKAAJi5TqP-z"
      }
    },
    {
      "cell_type": "code",
      "source": [
        "import json\n",
        "\n",
        "json.dumps(productos)"
      ],
      "metadata": {
        "id": "dbjG0P5AoclU",
        "outputId": "264967d7-c606-4349-9c42-b0c68c680f5c",
        "colab": {
          "base_uri": "https://localhost:8080/",
          "height": 53
        }
      },
      "execution_count": 29,
      "outputs": [
        {
          "output_type": "execute_result",
          "data": {
            "text/plain": [
              "'[{\"nombre\": \"cafe\", \"precio\": 4.99, \"unidades\": 2, \"disponible\": true}, {\"nombre\": \"libro\", \"precio\": 19.99, \"unidades\": 1, \"disponible\": true}, {\"nombre\": \"laptop\", \"precio\": 999.99, \"unidades\": 1, \"disponible\": false}]'"
            ],
            "application/vnd.google.colaboratory.intrinsic+json": {
              "type": "string"
            }
          },
          "metadata": {},
          "execution_count": 29
        }
      ]
    }
  ]
}