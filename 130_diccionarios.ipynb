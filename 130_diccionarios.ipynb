{
  "nbformat": 4,
  "nbformat_minor": 0,
  "metadata": {
    "colab": {
      "provenance": [],
      "authorship_tag": "ABX9TyN9HNyZgbtEy4n/YQjuogus",
      "include_colab_link": true
    },
    "kernelspec": {
      "name": "python3",
      "display_name": "Python 3"
    },
    "language_info": {
      "name": "python"
    }
  },
  "cells": [
    {
      "cell_type": "markdown",
      "metadata": {
        "id": "view-in-github",
        "colab_type": "text"
      },
      "source": [
        "<a href=\"https://colab.research.google.com/github/financieras/curso_python/blob/main/130_diccionarios.ipynb\" target=\"_parent\"><img src=\"https://colab.research.google.com/assets/colab-badge.svg\" alt=\"Open In Colab\"/></a>"
      ]
    },
    {
      "cell_type": "markdown",
      "source": [
        "# Diccionarios\n",
        "* Los diccionarios se utilizan para almacenar valores de datos en pares clave:valor entre llaves { }\n",
        "* key:value\n",
        "* Un diccionario es una colección ordenada, modificable.\n",
        "* Son mutables (son modificables)\n",
        "* Los diccionarios no permite duplicados ya que la clave ha de ser única"
      ],
      "metadata": {
        "id": "PtUN4Cxa7234"
      }
    },
    {
      "cell_type": "code",
      "execution_count": null,
      "metadata": {
        "colab": {
          "base_uri": "https://localhost:8080/"
        },
        "id": "_u2FzYO97zy1",
        "outputId": "1ca3a322-c3bc-424d-d7a3-2b95abfa74eb"
      },
      "outputs": [
        {
          "output_type": "execute_result",
          "data": {
            "text/plain": [
              "{'rojo': 'red', 'azul': 'blue', 'amarillo': 'yellow', 'rosa': 'pink'}"
            ]
          },
          "metadata": {},
          "execution_count": 2
        }
      ],
      "source": [
        "colores = {'rojo':'red',\n",
        "           'azul':'blue',\n",
        "           'amarillo':'yellow',\n",
        "           'rosa':'pink'}\n",
        "colores"
      ]
    },
    {
      "cell_type": "code",
      "source": [
        "type(colores)"
      ],
      "metadata": {
        "colab": {
          "base_uri": "https://localhost:8080/"
        },
        "id": "iPeVo2yl9ES3",
        "outputId": "a78e14ed-b0bf-42e1-af4c-c752d19f88fc"
      },
      "execution_count": null,
      "outputs": [
        {
          "output_type": "execute_result",
          "data": {
            "text/plain": [
              "dict"
            ]
          },
          "metadata": {},
          "execution_count": 3
        }
      ]
    },
    {
      "cell_type": "markdown",
      "source": [
        "## Diccionario vacío"
      ],
      "metadata": {
        "id": "rbRxlNNs9IAM"
      }
    },
    {
      "cell_type": "code",
      "source": [
        "compras = {}\n",
        "compras"
      ],
      "metadata": {
        "colab": {
          "base_uri": "https://localhost:8080/"
        },
        "id": "UVObsR7up44J",
        "outputId": "bd66adfd-a88b-4007-f795-18d04e0b09b8"
      },
      "execution_count": null,
      "outputs": [
        {
          "output_type": "execute_result",
          "data": {
            "text/plain": [
              "{}"
            ]
          },
          "metadata": {},
          "execution_count": 2
        }
      ]
    },
    {
      "cell_type": "markdown",
      "source": [
        "Otro diccionario vacío."
      ],
      "metadata": {
        "id": "U1oklzX2qLH1"
      }
    },
    {
      "cell_type": "code",
      "source": [
        "ventas = dict()\n",
        "ventas"
      ],
      "metadata": {
        "colab": {
          "base_uri": "https://localhost:8080/"
        },
        "id": "iR49kGLoqPbb",
        "outputId": "04a6c93b-b044-418a-ac32-5a1152722908"
      },
      "execution_count": 2,
      "outputs": [
        {
          "output_type": "execute_result",
          "data": {
            "text/plain": [
              "{}"
            ]
          },
          "metadata": {},
          "execution_count": 2
        }
      ]
    },
    {
      "cell_type": "code",
      "source": [
        "type(ventas)"
      ],
      "metadata": {
        "id": "Xl1q-ZGVeg33",
        "outputId": "701cb9b6-fad4-4360-92e6-4e829a834e20",
        "colab": {
          "base_uri": "https://localhost:8080/"
        }
      },
      "execution_count": 3,
      "outputs": [
        {
          "output_type": "execute_result",
          "data": {
            "text/plain": [
              "dict"
            ]
          },
          "metadata": {},
          "execution_count": 3
        }
      ]
    },
    {
      "cell_type": "markdown",
      "source": [
        "## Diccionario con lista"
      ],
      "metadata": {
        "id": "ponJ7wPEqWFB"
      }
    },
    {
      "cell_type": "code",
      "source": [
        "empleado = {'nombre': 'Marcos',\n",
        "            'apellido': 'Ruiz',\n",
        "            'año_inicio': 2023,\n",
        "            'fijo': True,\n",
        "            'salario_miles': 43.5,\n",
        "            'lenguajes': ['C++', 'Python', 'JavaScript']}\n",
        "\n",
        "empleado"
      ],
      "metadata": {
        "id": "pYn9eoMP-EG5",
        "outputId": "3ede7a8e-1cb1-44b3-89ea-9b5de72b60e0",
        "colab": {
          "base_uri": "https://localhost:8080/"
        }
      },
      "execution_count": null,
      "outputs": [
        {
          "output_type": "execute_result",
          "data": {
            "text/plain": [
              "{'nombre': 'Marcos',\n",
              " 'apellido': 'Ruiz',\n",
              " 'año_inicio': 2023,\n",
              " 'fijo': True,\n",
              " 'salario_miles': 43.5,\n",
              " 'lenguajes': ['C++', 'Python', 'JavaScript']}"
            ]
          },
          "metadata": {},
          "execution_count": 5
        }
      ]
    },
    {
      "cell_type": "code",
      "source": [
        "type(empleado)"
      ],
      "metadata": {
        "id": "GWuqQt7J_FY8",
        "outputId": "19ae84a7-362a-4bdc-d4ab-fb8c94720c15",
        "colab": {
          "base_uri": "https://localhost:8080/"
        }
      },
      "execution_count": null,
      "outputs": [
        {
          "output_type": "execute_result",
          "data": {
            "text/plain": [
              "dict"
            ]
          },
          "metadata": {},
          "execution_count": 6
        }
      ]
    },
    {
      "cell_type": "markdown",
      "source": [
        "## Diccionario con tupla\n",
        "La longitud y la latitud se pueden expresar como una pareja de números en forma de tupla."
      ],
      "metadata": {
        "id": "zCZl-3exJl69"
      }
    },
    {
      "cell_type": "code",
      "source": [
        "localizaciones = {\"Madrid\": (40.4168, -3.7038),\n",
        "                  \"London\": (51.5072, -0.1276),\n",
        "                  \"New York\": (40.7128, -74.0060),\n",
        "                  \"Tokyo\": (35.6762, 139.6503)}\n",
        "\n",
        "localizaciones"
      ],
      "metadata": {
        "id": "j4ft89h6JrF6",
        "outputId": "6ae5901e-84c2-46a1-c240-66a414ebbb47",
        "colab": {
          "base_uri": "https://localhost:8080/"
        }
      },
      "execution_count": null,
      "outputs": [
        {
          "output_type": "execute_result",
          "data": {
            "text/plain": [
              "{'Madrid': (40.4168, -3.7038),\n",
              " 'London': (51.5072, -0.1276),\n",
              " 'New York': (40.7128, -74.006),\n",
              " 'Tokyo': (35.6762, 139.6503)}"
            ]
          },
          "metadata": {},
          "execution_count": 18
        }
      ]
    },
    {
      "cell_type": "markdown",
      "source": [
        "## Colección sin orden\n",
        "* Un diccionario es una colección de pares clave:valor sin oden\n",
        "* Las listas son ordenadas (el orden importa) pero los diccionarios no"
      ],
      "metadata": {
        "id": "cwZZn9BX9oMl"
      }
    },
    {
      "cell_type": "code",
      "source": [
        "alumno = {'nombre': 'Mateo',\n",
        "           'edad': 16,\n",
        "           'federado': False,\n",
        "           'asignaturas': ['Biología', 'Matemáticas', 'Quimica'],\n",
        "           'grupo':'B'}\n",
        "\n",
        "alumno"
      ],
      "metadata": {
        "colab": {
          "base_uri": "https://localhost:8080/"
        },
        "id": "BLqnCbSK-JyJ",
        "outputId": "0470a90a-927a-4901-8e90-61047219f961"
      },
      "execution_count": null,
      "outputs": [
        {
          "output_type": "execute_result",
          "data": {
            "text/plain": [
              "{'nombre': 'Mateo',\n",
              " 'edad': 16,\n",
              " 'federado': False,\n",
              " 'asignaturas': ['Biología', 'Matemáticas', 'Quimica'],\n",
              " 'grupo': 'B'}"
            ]
          },
          "metadata": {},
          "execution_count": 16
        }
      ]
    },
    {
      "cell_type": "markdown",
      "source": [
        "### Actualización\n",
        "Vamos a aumentar la edad en un año y vamos a añadir una nueva asignatura."
      ],
      "metadata": {
        "id": "G10NOF_XDbF4"
      }
    },
    {
      "cell_type": "code",
      "source": [
        "alumno['edad'] += 1\n",
        "alumno['asignaturas'].append('Tecnología')\n",
        "alumno"
      ],
      "metadata": {
        "colab": {
          "base_uri": "https://localhost:8080/"
        },
        "id": "IkUZPezNDjqf",
        "outputId": "24880f66-0cbb-4d74-db7e-986824ba49d6"
      },
      "execution_count": null,
      "outputs": [
        {
          "output_type": "execute_result",
          "data": {
            "text/plain": [
              "{'nombre': 'Mateo',\n",
              " 'edad': 17,\n",
              " 'federado': False,\n",
              " 'asignaturas': ['Biología', 'Matemáticas', 'Quimica', 'Tecnología'],\n",
              " 'grupo': 'B'}"
            ]
          },
          "metadata": {},
          "execution_count": 17
        }
      ]
    },
    {
      "cell_type": "markdown",
      "source": [
        "## Número de elementos `len`"
      ],
      "metadata": {
        "id": "8vetqC8y_imd"
      }
    },
    {
      "cell_type": "code",
      "source": [
        "len(alumno)"
      ],
      "metadata": {
        "colab": {
          "base_uri": "https://localhost:8080/"
        },
        "id": "o6QVXxV-_p2-",
        "outputId": "baa68c95-52f6-4a6d-e2ad-7154bef768ce"
      },
      "execution_count": null,
      "outputs": [
        {
          "output_type": "execute_result",
          "data": {
            "text/plain": [
              "5"
            ]
          },
          "metadata": {},
          "execution_count": 6
        }
      ]
    },
    {
      "cell_type": "markdown",
      "source": [
        "## Eliminar una clave"
      ],
      "metadata": {
        "id": "t7_RpRy3ELPC"
      }
    },
    {
      "cell_type": "code",
      "source": [
        "del alumno['federado']\n",
        "alumno"
      ],
      "metadata": {
        "colab": {
          "base_uri": "https://localhost:8080/"
        },
        "id": "9D8lmnTQEO6b",
        "outputId": "4659a43d-683a-481a-f094-2a9a1c45c7f8"
      },
      "execution_count": null,
      "outputs": [
        {
          "output_type": "execute_result",
          "data": {
            "text/plain": [
              "{'nombre': 'Mateo',\n",
              " 'edad': 17,\n",
              " 'asignaturas': ['Biología', 'Matemáticas', 'Quimica', 'Tecnología'],\n",
              " 'grupo': 'B'}"
            ]
          },
          "metadata": {},
          "execution_count": 18
        }
      ]
    },
    {
      "cell_type": "code",
      "source": [
        "alumno.pop('edad')\n",
        "alumno"
      ],
      "metadata": {
        "colab": {
          "base_uri": "https://localhost:8080/"
        },
        "id": "pdrKXwOgEhpr",
        "outputId": "f9da3c7c-a30a-4596-db8e-c7a1957aed38"
      },
      "execution_count": null,
      "outputs": [
        {
          "output_type": "execute_result",
          "data": {
            "text/plain": [
              "{'nombre': 'Mateo',\n",
              " 'asignaturas': ['Biología', 'Matemáticas', 'Quimica', 'Tecnología'],\n",
              " 'grupo': 'B'}"
            ]
          },
          "metadata": {},
          "execution_count": 19
        }
      ]
    },
    {
      "cell_type": "markdown",
      "source": [
        "## Consultar por llave"
      ],
      "metadata": {
        "id": "sdGXOEhx_2Z5"
      }
    },
    {
      "cell_type": "code",
      "source": [
        "alumno['edad']"
      ],
      "metadata": {
        "colab": {
          "base_uri": "https://localhost:8080/"
        },
        "id": "2LnjWKs1_6g_",
        "outputId": "59c2a693-168c-4dd3-f8bb-9fc3ed9b0ebc"
      },
      "execution_count": null,
      "outputs": [
        {
          "output_type": "execute_result",
          "data": {
            "text/plain": [
              "17"
            ]
          },
          "metadata": {},
          "execution_count": 7
        }
      ]
    },
    {
      "cell_type": "code",
      "source": [
        "alumno.get('edad')"
      ],
      "metadata": {
        "colab": {
          "base_uri": "https://localhost:8080/"
        },
        "id": "yeWCedSCANPz",
        "outputId": "3e18cc57-ca7c-4627-bd64-3c495f7f7b37"
      },
      "execution_count": null,
      "outputs": [
        {
          "output_type": "execute_result",
          "data": {
            "text/plain": [
              "17"
            ]
          },
          "metadata": {},
          "execution_count": 8
        }
      ]
    },
    {
      "cell_type": "markdown",
      "source": [
        "La ventaja de usar `get` es que si preguntamos por una clave que no existe no da error."
      ],
      "metadata": {
        "id": "C-sDZRzhAn4g"
      }
    },
    {
      "cell_type": "code",
      "source": [
        "print(alumno.get('telefono'))   # None"
      ],
      "metadata": {
        "colab": {
          "base_uri": "https://localhost:8080/"
        },
        "id": "lkRQRtPFAQ3X",
        "outputId": "ca3987a2-0f2a-4ecd-eae1-5e309fae0591"
      },
      "execution_count": null,
      "outputs": [
        {
          "output_type": "stream",
          "name": "stdout",
          "text": [
            "None\n"
          ]
        }
      ]
    },
    {
      "cell_type": "markdown",
      "source": [
        "Con `in` podemos consultar si existe esa clave."
      ],
      "metadata": {
        "id": "NWfs1W_zA8ZO"
      }
    },
    {
      "cell_type": "code",
      "source": [
        "'email' in alumno"
      ],
      "metadata": {
        "colab": {
          "base_uri": "https://localhost:8080/"
        },
        "id": "ll7eO0q7BGI6",
        "outputId": "97542cdf-a71c-4dd4-88d3-be149d4f6c48"
      },
      "execution_count": null,
      "outputs": [
        {
          "output_type": "execute_result",
          "data": {
            "text/plain": [
              "False"
            ]
          },
          "metadata": {},
          "execution_count": 12
        }
      ]
    },
    {
      "cell_type": "code",
      "source": [
        "'grupo' in alumno"
      ],
      "metadata": {
        "colab": {
          "base_uri": "https://localhost:8080/"
        },
        "id": "WbcxoxdyBXyM",
        "outputId": "1718eccf-f598-4102-a64e-27a6bc0dd7e0"
      },
      "execution_count": null,
      "outputs": [
        {
          "output_type": "execute_result",
          "data": {
            "text/plain": [
              "True"
            ]
          },
          "metadata": {},
          "execution_count": 13
        }
      ]
    },
    {
      "cell_type": "markdown",
      "source": [
        "## Creación partiendo de listas"
      ],
      "metadata": {
        "id": "S4OHX85aCP6i"
      }
    },
    {
      "cell_type": "code",
      "source": [
        "paises = ['Francia', 'Italia', 'Reino Unido', 'España']\n",
        "capitales = ['París', 'Roma', 'Londres', 'Madrid']\n",
        "geografia = dict(zip(paises, capitales))\n",
        "geografia"
      ],
      "metadata": {
        "colab": {
          "base_uri": "https://localhost:8080/"
        },
        "id": "JJclVQbmCTUS",
        "outputId": "4a86bd8e-ef16-486a-de79-8bef43bf0270"
      },
      "execution_count": null,
      "outputs": [
        {
          "output_type": "execute_result",
          "data": {
            "text/plain": [
              "{'Francia': 'París',\n",
              " 'Italia': 'Roma',\n",
              " 'Reino Unido': 'Londres',\n",
              " 'España': 'Madrid'}"
            ]
          },
          "metadata": {},
          "execution_count": 14
        }
      ]
    },
    {
      "cell_type": "markdown",
      "source": [
        "## Obtener los items, las keys y los values"
      ],
      "metadata": {
        "id": "IwxSr0iaE8CS"
      }
    },
    {
      "cell_type": "code",
      "source": [
        "print(geografia.items())"
      ],
      "metadata": {
        "colab": {
          "base_uri": "https://localhost:8080/"
        },
        "id": "GJH86l_1FBE9",
        "outputId": "1e2fdf20-a794-4acb-fcb2-271902f7e467"
      },
      "execution_count": null,
      "outputs": [
        {
          "output_type": "stream",
          "name": "stdout",
          "text": [
            "dict_items([('Francia', 'París'), ('Italia', 'Roma'), ('Reino Unido', 'Londres'), ('España', 'Madrid')])\n"
          ]
        }
      ]
    },
    {
      "cell_type": "code",
      "source": [
        "print(geografia.keys())"
      ],
      "metadata": {
        "colab": {
          "base_uri": "https://localhost:8080/"
        },
        "id": "dnxYB-HLFNwF",
        "outputId": "c343621c-345d-4305-b44e-06a85218f1c9"
      },
      "execution_count": null,
      "outputs": [
        {
          "output_type": "stream",
          "name": "stdout",
          "text": [
            "dict_keys(['Francia', 'Italia', 'Reino Unido', 'España'])\n"
          ]
        }
      ]
    },
    {
      "cell_type": "code",
      "source": [
        "print(geografia.values())"
      ],
      "metadata": {
        "colab": {
          "base_uri": "https://localhost:8080/"
        },
        "id": "xEtPb124FP68",
        "outputId": "f1d90b97-4145-4618-87d5-dc2b19c4f549"
      },
      "execution_count": null,
      "outputs": [
        {
          "output_type": "stream",
          "name": "stdout",
          "text": [
            "dict_values(['París', 'Roma', 'Londres', 'Madrid'])\n"
          ]
        }
      ]
    },
    {
      "cell_type": "markdown",
      "source": [
        "## Formas de expresar un Diccionario"
      ],
      "metadata": {
        "id": "8RzKi4GmZvK6"
      }
    },
    {
      "cell_type": "code",
      "source": [
        "a = dict(one=1, two=2, three=3)\n",
        "b = {'one': 1, 'two': 2, 'three': 3}\n",
        "c = dict(zip(['one', 'two', 'three'], [1, 2, 3]))\n",
        "d = dict([('two', 2), ('one', 1), ('three', 3)])\n",
        "e = dict({'three': 3, 'one': 1, 'two': 2})\n",
        "f = dict({'one': 1, 'three': 3}, two=2)\n",
        "a == b == c == d == e == f"
      ],
      "metadata": {
        "id": "CYKw6hyhZ08o",
        "outputId": "5c193ea5-8979-476c-e79c-930e208f6758",
        "colab": {
          "base_uri": "https://localhost:8080/"
        }
      },
      "execution_count": null,
      "outputs": [
        {
          "output_type": "execute_result",
          "data": {
            "text/plain": [
              "True"
            ]
          },
          "metadata": {},
          "execution_count": 1
        }
      ]
    },
    {
      "cell_type": "markdown",
      "source": [
        "## Funciones y métodos"
      ],
      "metadata": {
        "id": "qNdGEVfmVvb3"
      }
    },
    {
      "cell_type": "markdown",
      "source": [
        "### `dir`\n",
        "* Lista los métodos de este tipo de objetos."
      ],
      "metadata": {
        "id": "dk0j_T_XWv0D"
      }
    },
    {
      "cell_type": "code",
      "source": [
        "producto = {'nombre': 'café',\n",
        "             'precio': 4.99,\n",
        "             'unidades': 2,\n",
        "             'disponible': True}\n",
        "\n",
        "dir(producto)"
      ],
      "metadata": {
        "colab": {
          "base_uri": "https://localhost:8080/"
        },
        "id": "Y0p6m5tCVzBK",
        "outputId": "8525974b-2ddb-484d-94c3-81ac9b82afcd"
      },
      "execution_count": null,
      "outputs": [
        {
          "output_type": "execute_result",
          "data": {
            "text/plain": [
              "['__class__',\n",
              " '__class_getitem__',\n",
              " '__contains__',\n",
              " '__delattr__',\n",
              " '__delitem__',\n",
              " '__dir__',\n",
              " '__doc__',\n",
              " '__eq__',\n",
              " '__format__',\n",
              " '__ge__',\n",
              " '__getattribute__',\n",
              " '__getitem__',\n",
              " '__gt__',\n",
              " '__hash__',\n",
              " '__init__',\n",
              " '__init_subclass__',\n",
              " '__ior__',\n",
              " '__iter__',\n",
              " '__le__',\n",
              " '__len__',\n",
              " '__lt__',\n",
              " '__ne__',\n",
              " '__new__',\n",
              " '__or__',\n",
              " '__reduce__',\n",
              " '__reduce_ex__',\n",
              " '__repr__',\n",
              " '__reversed__',\n",
              " '__ror__',\n",
              " '__setattr__',\n",
              " '__setitem__',\n",
              " '__sizeof__',\n",
              " '__str__',\n",
              " '__subclasshook__',\n",
              " 'clear',\n",
              " 'copy',\n",
              " 'fromkeys',\n",
              " 'get',\n",
              " 'items',\n",
              " 'keys',\n",
              " 'pop',\n",
              " 'popitem',\n",
              " 'setdefault',\n",
              " 'update',\n",
              " 'values']"
            ]
          },
          "metadata": {},
          "execution_count": 16
        }
      ]
    },
    {
      "cell_type": "markdown",
      "source": [
        "### `keys`\n",
        "Proporciona las llaves del diccionario."
      ],
      "metadata": {
        "id": "XNl4Jy9bfJdf"
      }
    },
    {
      "cell_type": "code",
      "source": [
        "producto.keys()"
      ],
      "metadata": {
        "colab": {
          "base_uri": "https://localhost:8080/"
        },
        "id": "6y2NkwMvfOb-",
        "outputId": "ea6146c8-4bc5-4463-a453-71c0c96979ed"
      },
      "execution_count": null,
      "outputs": [
        {
          "output_type": "execute_result",
          "data": {
            "text/plain": [
              "dict_keys(['nombre', 'precio', 'unidades', 'disponible'])"
            ]
          },
          "metadata": {},
          "execution_count": 17
        }
      ]
    },
    {
      "cell_type": "markdown",
      "source": [
        "### `items`\n",
        "* Proporciona los items del diccionario.\n",
        "* Proporciona todo, la clave y el valor, en forma de tuplas y dentro de una lista."
      ],
      "metadata": {
        "id": "gHvDWS6hf2zF"
      }
    },
    {
      "cell_type": "code",
      "source": [
        "producto.items()"
      ],
      "metadata": {
        "colab": {
          "base_uri": "https://localhost:8080/"
        },
        "id": "cTQTYmbOf8X_",
        "outputId": "d0d1a8f9-1c5e-4fe9-f5b6-0e987d1c0a67"
      },
      "execution_count": null,
      "outputs": [
        {
          "output_type": "execute_result",
          "data": {
            "text/plain": [
              "dict_items([('nombre', 'café'), ('precio', 4.99), ('unidades', 2), ('disponible', True)])"
            ]
          },
          "metadata": {},
          "execution_count": 18
        }
      ]
    },
    {
      "cell_type": "markdown",
      "source": [
        "### `clear`\n",
        "*Elimina todos los iterms del diccionario.\n",
        "* Queda el objeto pero vacío."
      ],
      "metadata": {
        "id": "wNyTPShKg6zR"
      }
    },
    {
      "cell_type": "code",
      "source": [
        "producto.clear()\n",
        "producto"
      ],
      "metadata": {
        "colab": {
          "base_uri": "https://localhost:8080/"
        },
        "id": "q3bMBdWUhH_f",
        "outputId": "16850170-0481-478e-ef41-556cd52531b0"
      },
      "execution_count": null,
      "outputs": [
        {
          "output_type": "execute_result",
          "data": {
            "text/plain": [
              "{}"
            ]
          },
          "metadata": {},
          "execution_count": 15
        }
      ]
    },
    {
      "cell_type": "markdown",
      "source": [
        "### `del`\n",
        "Elimina el objeto."
      ],
      "metadata": {
        "id": "SpOHn6JJgYw1"
      }
    },
    {
      "cell_type": "code",
      "source": [
        "del producto\n",
        "#print(producto)    # daría Error ya que no puede imprimir un objeto que no existe"
      ],
      "metadata": {
        "id": "EeYlt4IFgfrz"
      },
      "execution_count": null,
      "outputs": []
    },
    {
      "cell_type": "markdown",
      "source": [
        "## Objetos JSON\n",
        "Son estructuras de datos que son muy parecidas a una lista de diccionarios.\n",
        "* Se usan mucho en programación web para compartir información entre páginas o entre un página y alguna base de datos no relacional.\n",
        "* Existen muchas páginas en internet que permite validar objetos JSON de forma online.\n",
        "    1. Los objetos JSON no usan comilla simple, han de ser comillas dobles\n",
        "    2. En los JSON los *True* y *False* van todo en minúsculas"
      ],
      "metadata": {
        "id": "cUrH7Zjlhz1J"
      }
    },
    {
      "cell_type": "code",
      "source": [
        "productos = [\n",
        "    {\n",
        "        'nombre': 'cafe',\n",
        "        'precio': 4.99,\n",
        "        'unidades': 2,\n",
        "        'disponible': True\n",
        "    },\n",
        "    {\n",
        "        'nombre': 'libro',\n",
        "        'precio': 19.99,\n",
        "        'unidades': 1,\n",
        "        'disponible': True\n",
        "    },\n",
        "    {\n",
        "        'nombre': 'laptop',\n",
        "        'precio': 999.99,\n",
        "        'unidades': 1,\n",
        "        'disponible': False\n",
        "    }\n",
        "]\n",
        "\n",
        "productos       # lista de diccionarios en Python\n",
        "                # poniendo True y False en minúsculas podría se un JSON correcto"
      ],
      "metadata": {
        "colab": {
          "base_uri": "https://localhost:8080/"
        },
        "id": "kC8TRLhFkJEd",
        "outputId": "8efa5ace-3fc3-4922-c95b-97f3e4f7ba2e"
      },
      "execution_count": null,
      "outputs": [
        {
          "output_type": "execute_result",
          "data": {
            "text/plain": [
              "[{'nombre': 'cafe', 'precio': 4.99, 'unidades': 2, 'disponible': True},\n",
              " {'nombre': 'libro', 'precio': 19.99, 'unidades': 1, 'disponible': True},\n",
              " {'nombre': 'laptop', 'precio': 999.99, 'unidades': 1, 'disponible': False}]"
            ]
          },
          "metadata": {},
          "execution_count": 28
        }
      ]
    },
    {
      "cell_type": "markdown",
      "source": [
        "Usamos la función `dumps` de la librearía `json` para convertir la lista de diccionarios en un objeto JSON válido."
      ],
      "metadata": {
        "id": "TKAAJi5TqP-z"
      }
    },
    {
      "cell_type": "code",
      "source": [
        "import json\n",
        "\n",
        "json.dumps(productos)"
      ],
      "metadata": {
        "id": "dbjG0P5AoclU",
        "outputId": "04d80319-7f80-495a-9557-bbc15e55fc9d",
        "colab": {
          "base_uri": "https://localhost:8080/",
          "height": 53
        }
      },
      "execution_count": null,
      "outputs": [
        {
          "output_type": "execute_result",
          "data": {
            "text/plain": [
              "'[{\"nombre\": \"cafe\", \"precio\": 4.99, \"unidades\": 2, \"disponible\": true}, {\"nombre\": \"libro\", \"precio\": 19.99, \"unidades\": 1, \"disponible\": true}, {\"nombre\": \"laptop\", \"precio\": 999.99, \"unidades\": 1, \"disponible\": false}]'"
            ],
            "application/vnd.google.colaboratory.intrinsic+json": {
              "type": "string"
            }
          },
          "metadata": {},
          "execution_count": 29
        }
      ]
    }
  ]
}