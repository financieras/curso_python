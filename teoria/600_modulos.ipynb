{
  "nbformat": 4,
  "nbformat_minor": 0,
  "metadata": {
    "colab": {
      "provenance": [],
      "authorship_tag": "ABX9TyNRWdKxRtkDhpO54Zs5tTUc",
      "include_colab_link": true
    },
    "kernelspec": {
      "name": "python3",
      "display_name": "Python 3"
    },
    "language_info": {
      "name": "python"
    }
  },
  "cells": [
    {
      "cell_type": "markdown",
      "metadata": {
        "id": "view-in-github",
        "colab_type": "text"
      },
      "source": [
        "<a href=\"https://colab.research.google.com/github/financieras/curso_python/blob/main/600_modulos.ipynb\" target=\"_parent\"><img src=\"https://colab.research.google.com/assets/colab-badge.svg\" alt=\"Open In Colab\"/></a>"
      ]
    },
    {
      "cell_type": "markdown",
      "source": [
        "# Módulos\n",
        "Un móduclo también es conocidos como biblioteca (*library*) o librería\n",
        "\n",
        "Lo módulos son de tres tipos:\n",
        "1. Los internos de Python, descargables desde las propias bibliotecas de Python [Python Module Index](https://docs.python.org/3/py-modindex.html)\n",
        "2. Los creados por la comunidad, descargables desde internet, por ejemplo, con pip: [pip list](https://pypi.org)\n",
        "3. Los que podemos crear nosotros para programar cierta funcionalidad que no está ya programada o para dividir nuestro código en partes más pequeñas"
      ],
      "metadata": {
        "id": "727RsNzPxYtU"
      }
    },
    {
      "cell_type": "markdown",
      "source": [
        "### Versiones instaladas"
      ],
      "metadata": {
        "id": "XP75PgaAnFgG"
      }
    },
    {
      "cell_type": "code",
      "source": [
        "!python --version"
      ],
      "metadata": {
        "id": "gCIuvfzbmj0M",
        "outputId": "d88961a1-44d3-4026-f77a-92dc4cc5d501",
        "colab": {
          "base_uri": "https://localhost:8080/"
        }
      },
      "execution_count": 1,
      "outputs": [
        {
          "output_type": "stream",
          "name": "stdout",
          "text": [
            "Python 3.10.12\n"
          ]
        }
      ]
    },
    {
      "cell_type": "code",
      "source": [
        "!pip --version"
      ],
      "metadata": {
        "id": "wIxNIzysmrtD",
        "outputId": "cf9d0d94-1e25-45e8-9569-07cd1881c347",
        "colab": {
          "base_uri": "https://localhost:8080/"
        }
      },
      "execution_count": 2,
      "outputs": [
        {
          "output_type": "stream",
          "name": "stdout",
          "text": [
            "pip 23.1.2 from /usr/local/lib/python3.10/dist-packages/pip (python 3.10)\n"
          ]
        }
      ]
    },
    {
      "cell_type": "markdown",
      "source": [
        "## `datetime`\n",
        "[Documentación](https://docs.python.org/3/library/datetime.html)"
      ],
      "metadata": {
        "id": "_sv0gn-16Z4J"
      }
    },
    {
      "cell_type": "markdown",
      "source": [
        "#### *Ejemplo 1*\n",
        "Imprimir la fecha actual."
      ],
      "metadata": {
        "id": "2-cZgOuf8CsZ"
      }
    },
    {
      "cell_type": "code",
      "source": [
        "import datetime\n",
        "\n",
        "hoy = datetime.date.today()\n",
        "\n",
        "print(hoy)"
      ],
      "metadata": {
        "colab": {
          "base_uri": "https://localhost:8080/"
        },
        "id": "QEAntb9s7mUt",
        "outputId": "8ae6e1ad-04b0-4267-c285-1b4745ab7299"
      },
      "execution_count": 3,
      "outputs": [
        {
          "output_type": "stream",
          "name": "stdout",
          "text": [
            "2023-10-21\n"
          ]
        }
      ]
    },
    {
      "cell_type": "markdown",
      "source": [
        "#### *Ejemplo 2*\n",
        "Cuántos días han transcurridos desde que una persona nació."
      ],
      "metadata": {
        "id": "4eC5IdT88Kxq"
      }
    },
    {
      "cell_type": "code",
      "source": [
        "from datetime import date\n",
        "\n",
        "fecha_nacimiento = date(2004, 1, 16)\n",
        "hoy = date.today()\n",
        "\n",
        "intervalo = hoy - fecha_nacimiento\n",
        "\n",
        "print(\"Usted vive en este planeta desde hace:\")\n",
        "print(intervalo.days, \"días\")"
      ],
      "metadata": {
        "colab": {
          "base_uri": "https://localhost:8080/"
        },
        "id": "3Oa8SnJvyloa",
        "outputId": "f21b9731-3ce5-4f80-9033-68ca45bf276e"
      },
      "execution_count": 4,
      "outputs": [
        {
          "output_type": "stream",
          "name": "stdout",
          "text": [
            "Usted vive en este planeta desde hace:\n",
            "7218 días\n"
          ]
        }
      ]
    },
    {
      "cell_type": "markdown",
      "source": [
        "#### *Ejemplo 3*\n",
        "Pasar de minutos a horas."
      ],
      "metadata": {
        "id": "I0c21RXJA87k"
      }
    },
    {
      "cell_type": "code",
      "source": [
        "from datetime import timedelta\n",
        "\n",
        "print(timedelta(minutes = 70))  # 70 minutos son 1 hora y 10 minutos"
      ],
      "metadata": {
        "colab": {
          "base_uri": "https://localhost:8080/"
        },
        "id": "p_qzXRCl9aAR",
        "outputId": "74d0a309-3ba3-447c-959c-5d09aeea1f87"
      },
      "execution_count": 5,
      "outputs": [
        {
          "output_type": "stream",
          "name": "stdout",
          "text": [
            "1:10:00\n"
          ]
        }
      ]
    },
    {
      "cell_type": "markdown",
      "source": [
        "## Creando nuestros propios módulos\n",
        "Usando un editor de código en nuestro propio ordenador.\n"
      ],
      "metadata": {
        "id": "dI4oVe9vnT8Q"
      }
    },
    {
      "cell_type": "markdown",
      "source": [
        "Primero clonamos el repositorio."
      ],
      "metadata": {
        "id": "VwT-5M1pAvNW"
      }
    },
    {
      "cell_type": "code",
      "source": [
        "!git clone https://github.com/financieras/curso_python.git"
      ],
      "metadata": {
        "id": "fNVPW_4NAzOZ",
        "outputId": "2d1e57a4-8535-4f86-8d59-ccbf735fe370",
        "colab": {
          "base_uri": "https://localhost:8080/"
        }
      },
      "execution_count": 6,
      "outputs": [
        {
          "output_type": "stream",
          "name": "stdout",
          "text": [
            "fatal: destination path 'curso_python' already exists and is not an empty directory.\n"
          ]
        }
      ]
    },
    {
      "cell_type": "markdown",
      "source": [
        "Miramos en qué directorio estamos."
      ],
      "metadata": {
        "id": "E6XktlKVA97y"
      }
    },
    {
      "cell_type": "code",
      "source": [
        "%pwd"
      ],
      "metadata": {
        "id": "2X9WanEqBBf5",
        "outputId": "97e6aae3-7d93-48e8-c104-301b9c7cc3a2",
        "colab": {
          "base_uri": "https://localhost:8080/",
          "height": 35
        }
      },
      "execution_count": 7,
      "outputs": [
        {
          "output_type": "execute_result",
          "data": {
            "text/plain": [
              "'/content'"
            ],
            "application/vnd.google.colaboratory.intrinsic+json": {
              "type": "string"
            }
          },
          "metadata": {},
          "execution_count": 7
        }
      ]
    },
    {
      "cell_type": "code",
      "source": [
        "%cd curso_python/mypy"
      ],
      "metadata": {
        "id": "sOAzZjIMBxxj",
        "outputId": "7690f342-a820-46f8-9759-fbe1fbe0f4de",
        "colab": {
          "base_uri": "https://localhost:8080/"
        }
      },
      "execution_count": 8,
      "outputs": [
        {
          "output_type": "stream",
          "name": "stdout",
          "text": [
            "/content/curso_python/mypy\n"
          ]
        }
      ]
    },
    {
      "cell_type": "code",
      "source": [
        "import myfunctions as mymath    # creamos un alias que hemos llamado mymath\n",
        "\n",
        "mymath.sumar(2,3)"
      ],
      "metadata": {
        "id": "dWyREsEABKYq",
        "outputId": "1fece482-6bff-44a9-cac9-d96af36042ef",
        "colab": {
          "base_uri": "https://localhost:8080/"
        }
      },
      "execution_count": 9,
      "outputs": [
        {
          "output_type": "stream",
          "name": "stdout",
          "text": [
            "El resultado de la suma es 5\n"
          ]
        }
      ]
    },
    {
      "cell_type": "markdown",
      "source": [
        "#### Documentación de la función con `__doc__`\n",
        "* Podemos ver la documentación de alguna de las funciones creadas usando `__doc__`\n",
        "* Previamente debemos haber creado las funciones con Docstrings"
      ],
      "metadata": {
        "id": "d3LEyPJMsc8R"
      }
    },
    {
      "cell_type": "code",
      "source": [
        "mymath.sumar.__doc__"
      ],
      "metadata": {
        "id": "C2M1LVZioTlT",
        "outputId": "5efff20a-35f4-476d-99a9-db33c54cb7af",
        "colab": {
          "base_uri": "https://localhost:8080/",
          "height": 35
        }
      },
      "execution_count": 10,
      "outputs": [
        {
          "output_type": "execute_result",
          "data": {
            "text/plain": [
              "'Permite sumar dos números.'"
            ],
            "application/vnd.google.colaboratory.intrinsic+json": {
              "type": "string"
            }
          },
          "metadata": {},
          "execution_count": 10
        }
      ]
    },
    {
      "cell_type": "code",
      "source": [
        "mymath.restar.__doc__"
      ],
      "metadata": {
        "id": "TzS1CXMjo_74",
        "outputId": "f229a888-679e-4ec7-f5db-1154c1ab14fa",
        "colab": {
          "base_uri": "https://localhost:8080/",
          "height": 35
        }
      },
      "execution_count": 11,
      "outputs": [
        {
          "output_type": "execute_result",
          "data": {
            "text/plain": [
              "'Permite restar dos números.'"
            ],
            "application/vnd.google.colaboratory.intrinsic+json": {
              "type": "string"
            }
          },
          "metadata": {},
          "execution_count": 11
        }
      ]
    },
    {
      "cell_type": "code",
      "source": [
        "mymath.multiplicar.__doc__"
      ],
      "metadata": {
        "id": "zMR5JolfpEkC",
        "outputId": "d935bbf8-77ef-48bf-c394-f93a56bb644f",
        "colab": {
          "base_uri": "https://localhost:8080/",
          "height": 35
        }
      },
      "execution_count": 12,
      "outputs": [
        {
          "output_type": "execute_result",
          "data": {
            "text/plain": [
              "'Permite multiplicar dos números.'"
            ],
            "application/vnd.google.colaboratory.intrinsic+json": {
              "type": "string"
            }
          },
          "metadata": {},
          "execution_count": 12
        }
      ]
    },
    {
      "cell_type": "code",
      "source": [
        "print(mymath.dividir.__doc__)"
      ],
      "metadata": {
        "id": "gE9W1v65pIb0",
        "outputId": "c522a2b7-4cb2-405a-ed18-0f20fbe9ba2f",
        "colab": {
          "base_uri": "https://localhost:8080/"
        }
      },
      "execution_count": 13,
      "outputs": [
        {
          "output_type": "stream",
          "name": "stdout",
          "text": [
            "\n",
            "    Permite dividir dos números.\n",
            "    Si el denominador es cero se avisa.\n",
            "    \n"
          ]
        }
      ]
    },
    {
      "cell_type": "markdown",
      "source": [
        "Vemos que se ejecuta bien la función que avisa si hay división por cero."
      ],
      "metadata": {
        "id": "wZAUUEPcsv5f"
      }
    },
    {
      "cell_type": "code",
      "source": [
        "mymath.dividir(12, 0)"
      ],
      "metadata": {
        "id": "jyRfuJc4pbVI",
        "outputId": "8220cdcc-4fd9-4b02-b0bc-ee2b8ac41e83",
        "colab": {
          "base_uri": "https://localhost:8080/"
        }
      },
      "execution_count": 14,
      "outputs": [
        {
          "output_type": "stream",
          "name": "stdout",
          "text": [
            "División por Cero\n"
          ]
        }
      ]
    },
    {
      "cell_type": "markdown",
      "source": [
        "## Módulos de terceros"
      ],
      "metadata": {
        "id": "6zcyeRDW2g6x"
      }
    },
    {
      "cell_type": "markdown",
      "source": [
        "Los tenemos en la página [pypi.org](https://pypi.org/)"
      ],
      "metadata": {
        "id": "el-Yj1Yu2kPA"
      }
    },
    {
      "cell_type": "code",
      "source": [
        "!pip install colorama"
      ],
      "metadata": {
        "id": "n3vKle03202I",
        "outputId": "d46dc8b4-af26-44d2-99c5-63829dc2790a",
        "colab": {
          "base_uri": "https://localhost:8080/"
        }
      },
      "execution_count": 15,
      "outputs": [
        {
          "output_type": "stream",
          "name": "stdout",
          "text": [
            "Requirement already satisfied: colorama in /usr/local/lib/python3.10/dist-packages (0.4.6)\n"
          ]
        }
      ]
    },
    {
      "cell_type": "code",
      "source": [
        "from colorama import Fore\n",
        "\n",
        "print(Fore.YELLOW + \"Hello World\")"
      ],
      "metadata": {
        "id": "WAxmAA9R3OCl",
        "outputId": "50fb4f21-499a-412e-ba6f-a1ff143e8aa3",
        "colab": {
          "base_uri": "https://localhost:8080/"
        }
      },
      "execution_count": 16,
      "outputs": [
        {
          "output_type": "stream",
          "name": "stdout",
          "text": [
            "\u001b[33mHello World\n"
          ]
        }
      ]
    }
  ]
}