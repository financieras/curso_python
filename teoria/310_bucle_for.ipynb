{
  "nbformat": 4,
  "nbformat_minor": 0,
  "metadata": {
    "colab": {
      "provenance": [],
      "authorship_tag": "ABX9TyPiC7LE6gZdroUhfRY0//ib",
      "include_colab_link": true
    },
    "kernelspec": {
      "name": "python3",
      "display_name": "Python 3"
    },
    "language_info": {
      "name": "python"
    }
  },
  "cells": [
    {
      "cell_type": "markdown",
      "metadata": {
        "id": "view-in-github",
        "colab_type": "text"
      },
      "source": [
        "<a href=\"https://colab.research.google.com/github/financieras/curso_python/blob/main/teoria/310_bucle_for.ipynb\" target=\"_parent\"><img src=\"https://colab.research.google.com/assets/colab-badge.svg\" alt=\"Open In Colab\"/></a>"
      ]
    },
    {
      "cell_type": "markdown",
      "source": [
        "# Bucle `for`\n",
        "* El bucle `for` se usa cuando ya sabemos cuantos cíclos son necesarios.\n",
        "* En el bucle `while` no sabemos inicialmente cuantos ciclos se darán ya que se itera mientras se cumpla la condición."
      ],
      "metadata": {
        "id": "aB6CrE7bN1-t"
      }
    },
    {
      "cell_type": "code",
      "source": [
        "for i in range(5):\n",
        "    print(i)"
      ],
      "metadata": {
        "colab": {
          "base_uri": "https://localhost:8080/"
        },
        "id": "eScOA3soN_IH",
        "outputId": "166597ec-576c-4778-a06d-6980daaf7b19"
      },
      "execution_count": null,
      "outputs": [
        {
          "output_type": "stream",
          "name": "stdout",
          "text": [
            "0\n",
            "1\n",
            "2\n",
            "3\n",
            "4\n"
          ]
        }
      ]
    },
    {
      "cell_type": "code",
      "source": [
        "for i in range(1, 6):\n",
        "    print(i)"
      ],
      "metadata": {
        "colab": {
          "base_uri": "https://localhost:8080/"
        },
        "id": "f-j_shZ4OJMj",
        "outputId": "1938ecc0-31c3-494a-ec2c-ec088efbc127"
      },
      "execution_count": null,
      "outputs": [
        {
          "output_type": "stream",
          "name": "stdout",
          "text": [
            "1\n",
            "2\n",
            "3\n",
            "4\n",
            "5\n"
          ]
        }
      ]
    },
    {
      "cell_type": "markdown",
      "source": [
        "## Iterar un tupla"
      ],
      "metadata": {
        "id": "DC-mHCVbPEFb"
      }
    },
    {
      "cell_type": "code",
      "source": [
        "colores = ('red', 'green', 'blue')\n",
        "\n",
        "for color in colores:\n",
        "    print(color)"
      ],
      "metadata": {
        "colab": {
          "base_uri": "https://localhost:8080/"
        },
        "id": "k8Eg9InlPLc3",
        "outputId": "1d3556aa-6aca-4765-edf9-e82e106cdfc5"
      },
      "execution_count": null,
      "outputs": [
        {
          "output_type": "stream",
          "name": "stdout",
          "text": [
            "red\n",
            "green\n",
            "blue\n"
          ]
        }
      ]
    },
    {
      "cell_type": "markdown",
      "source": [
        "## Iterar una lista"
      ],
      "metadata": {
        "id": "EpjWjEJaOhpT"
      }
    },
    {
      "cell_type": "code",
      "source": [
        "ciudades = ['Londres', 'Paris', 'Roma', 'Berlín', 'Madrid']\n",
        "\n",
        "for ciudad in ciudades:\n",
        "    print(ciudad)"
      ],
      "metadata": {
        "colab": {
          "base_uri": "https://localhost:8080/"
        },
        "id": "PvgQV9m2Okdf",
        "outputId": "bb8372b3-8bfc-4d16-9e40-d37054ede19a"
      },
      "execution_count": null,
      "outputs": [
        {
          "output_type": "stream",
          "name": "stdout",
          "text": [
            "Londres\n",
            "Paris\n",
            "Roma\n",
            "Berlín\n",
            "Madrid\n"
          ]
        }
      ]
    },
    {
      "cell_type": "code",
      "source": [
        "ciudades = ['Londres', 'Paris', 'Roma', 'Berlín', 'Madrid']\n",
        "\n",
        "for i in range(len(ciudades)):\n",
        "    print(i+1, ciudades[i])"
      ],
      "metadata": {
        "colab": {
          "base_uri": "https://localhost:8080/"
        },
        "id": "yphThz-tOUqt",
        "outputId": "86b01583-950c-4ec9-830a-6dff1cd0ce6d"
      },
      "execution_count": null,
      "outputs": [
        {
          "output_type": "stream",
          "name": "stdout",
          "text": [
            "1 Londres\n",
            "2 Paris\n",
            "3 Roma\n",
            "4 Berlín\n",
            "5 Madrid\n"
          ]
        }
      ]
    },
    {
      "cell_type": "markdown",
      "source": [
        "## Iterar y enumerar\n",
        "* Para enumerar usamos la variable `i` que indica el índex, pero podría ser cualquier otra variable\n",
        "* Para el valor usamos la variable `v` pero podría ser cualquier otra"
      ],
      "metadata": {
        "id": "q0w5rDSrPbQ3"
      }
    },
    {
      "cell_type": "code",
      "source": [
        "for i,v in enumerate(ciudades):     # i → index, v → valor\n",
        "    print(i+1, v)"
      ],
      "metadata": {
        "colab": {
          "base_uri": "https://localhost:8080/"
        },
        "id": "Metm_3mjPflf",
        "outputId": "54e4cf5d-5e8d-4779-b7b1-4e287da9cf3a"
      },
      "execution_count": null,
      "outputs": [
        {
          "output_type": "stream",
          "name": "stdout",
          "text": [
            "1 Londres\n",
            "2 Paris\n",
            "3 Roma\n",
            "4 Berlín\n",
            "5 Madrid\n"
          ]
        }
      ]
    },
    {
      "cell_type": "markdown",
      "source": [
        "## Iterar un diccionario"
      ],
      "metadata": {
        "id": "DBz5_IA-R8Wa"
      }
    },
    {
      "cell_type": "code",
      "source": [
        "geo = {'Francia': 'París',\n",
        "       'Italia': 'Roma',\n",
        "       'Reino Unido': 'Londres',\n",
        "       'España': 'Madrid'}"
      ],
      "metadata": {
        "id": "VS4SRokrSNDy"
      },
      "execution_count": null,
      "outputs": []
    },
    {
      "cell_type": "markdown",
      "source": [
        "### Obtenemos las claves"
      ],
      "metadata": {
        "id": "2mrTRH_9UGuX"
      }
    },
    {
      "cell_type": "code",
      "source": [
        "for elemento in geo:\n",
        "    print(elemento)"
      ],
      "metadata": {
        "colab": {
          "base_uri": "https://localhost:8080/"
        },
        "id": "lfMyD2WfULkO",
        "outputId": "eee3fb4a-3ae6-4642-c6bd-37bf4152c88c"
      },
      "execution_count": null,
      "outputs": [
        {
          "output_type": "stream",
          "name": "stdout",
          "text": [
            "Francia\n",
            "Italia\n",
            "Reino Unido\n",
            "España\n"
          ]
        }
      ]
    },
    {
      "cell_type": "markdown",
      "source": [
        "### Obtenemos claves y valores"
      ],
      "metadata": {
        "id": "h1_mWiW8UOpE"
      }
    },
    {
      "cell_type": "code",
      "source": [
        "for key in geo:\n",
        "    print(f'{key} → {geo[key]}')"
      ],
      "metadata": {
        "colab": {
          "base_uri": "https://localhost:8080/"
        },
        "id": "1Pmvn3V6S1r_",
        "outputId": "7d9ebb58-b480-42ff-9c45-f5cf1bf865f1"
      },
      "execution_count": null,
      "outputs": [
        {
          "output_type": "stream",
          "name": "stdout",
          "text": [
            "Francia → París\n",
            "Italia → Roma\n",
            "Reino Unido → Londres\n",
            "España → Madrid\n"
          ]
        }
      ]
    },
    {
      "cell_type": "markdown",
      "source": [
        "### Mejor forma de obtener claves y valores"
      ],
      "metadata": {
        "id": "1qnz-2kIUUAt"
      }
    },
    {
      "cell_type": "code",
      "source": [
        "for key, value in geo.items():\n",
        "    print(f'{key} → {value}')"
      ],
      "metadata": {
        "colab": {
          "base_uri": "https://localhost:8080/"
        },
        "id": "jgODu8MiTvJU",
        "outputId": "eee1f016-d89f-4870-9d20-4792ea394fd3"
      },
      "execution_count": null,
      "outputs": [
        {
          "output_type": "stream",
          "name": "stdout",
          "text": [
            "Francia → París\n",
            "Italia → Roma\n",
            "Reino Unido → Londres\n",
            "España → Madrid\n"
          ]
        }
      ]
    },
    {
      "cell_type": "markdown",
      "source": [
        "## Formato `json`\n",
        "* Es muy frecuente que las páginas web usen el formato `json` para enviar, recibir y almacenar información.\n",
        "* Podemos entender el formato `json` como una lista de diccionarios:\n",
        "<pre>\n",
        "[{}, {}, {}, {}, {}]\n",
        "</pre>"
      ],
      "metadata": {
        "id": "y1igM4ojUYKD"
      }
    },
    {
      "cell_type": "code",
      "source": [
        "alumnos = [{\"nombre\": \"Mateo\",\n",
        "            \"edad\": 17,\n",
        "            \"asignaturas\": [\"Biología\", \"Matemáticas\", \"Quimica\", \"Tecnología\"],\n",
        "            \"grupo\": \"B\"},\n",
        "           {\"nombre\": \"Sonia\",\n",
        "            \"edad\": 16,\n",
        "            \"asignaturas\": [\"Música\", \"Latín\", \"Filosofía\"],\n",
        "            \"grupo\": \"A\"},\n",
        "           {\"nombre\": \"Jose\",\n",
        "            \"edad\": 17,\n",
        "            \"asignaturas\": [\"Economía\", \"Historia\", \"Inglés\", \"Informática\"],\n",
        "            \"grupo\": \"C\"}]\n",
        "\n",
        "alumnos"
      ],
      "metadata": {
        "colab": {
          "base_uri": "https://localhost:8080/"
        },
        "id": "RuIJZfgOVKmX",
        "outputId": "2791686d-4f5c-4771-ee6d-dc0786bfd1a5"
      },
      "execution_count": null,
      "outputs": [
        {
          "output_type": "execute_result",
          "data": {
            "text/plain": [
              "[{'nombre': 'Mateo',\n",
              "  'edad': 17,\n",
              "  'asignaturas': ['Biología', 'Matemáticas', 'Quimica', 'Tecnología'],\n",
              "  'grupo': 'B'},\n",
              " {'nombre': 'Sonia',\n",
              "  'edad': 16,\n",
              "  'asignaturas': ['Música', 'Latín', 'Filosofía'],\n",
              "  'grupo': 'A'},\n",
              " {'nombre': 'Jose',\n",
              "  'edad': 17,\n",
              "  'asignaturas': ['Economía', 'Historia', 'Inglés', 'Informática'],\n",
              "  'grupo': 'C'}]"
            ]
          },
          "metadata": {},
          "execution_count": 3
        }
      ]
    },
    {
      "cell_type": "code",
      "source": [
        "for alumno in alumnos:\n",
        "    print(alumno)"
      ],
      "metadata": {
        "colab": {
          "base_uri": "https://localhost:8080/"
        },
        "id": "zK1zerxuWEme",
        "outputId": "ec5b9459-58ca-4788-bc2c-260b424ed06e"
      },
      "execution_count": null,
      "outputs": [
        {
          "output_type": "stream",
          "name": "stdout",
          "text": [
            "{'nombre': 'Mateo', 'edad': 17, 'asignaturas': ['Biología', 'Matemáticas', 'Quimica', 'Tecnología'], 'grupo': 'B'}\n",
            "{'nombre': 'Sonia', 'edad': 16, 'asignaturas': ['Música', 'Latín', 'Filosofía'], 'grupo': 'A'}\n",
            "{'nombre': 'Jose', 'edad': 17, 'asignaturas': ['Economía', 'Historia', 'Inglés', 'Informática'], 'grupo': 'C'}\n"
          ]
        }
      ]
    },
    {
      "cell_type": "code",
      "source": [
        "for alumno in alumnos:\n",
        "    print(\"nombre →\", alumno['nombre'])"
      ],
      "metadata": {
        "colab": {
          "base_uri": "https://localhost:8080/"
        },
        "id": "Tpt0dgQfWchr",
        "outputId": "895bb09a-aa0d-47dd-dd4b-fce4cbd24eac"
      },
      "execution_count": null,
      "outputs": [
        {
          "output_type": "stream",
          "name": "stdout",
          "text": [
            "nombre → Mateo\n",
            "nombre → Sonia\n",
            "nombre → Jose\n"
          ]
        }
      ]
    }
  ]
}