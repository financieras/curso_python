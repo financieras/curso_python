{
  "cells": [
    {
      "cell_type": "markdown",
      "metadata": {
        "id": "view-in-github",
        "colab_type": "text"
      },
      "source": [
        "<a href=\"https://colab.research.google.com/github/financieras/curso_python/blob/main/teoria/012_variables.ipynb\" target=\"_parent\"><img src=\"https://colab.research.google.com/assets/colab-badge.svg\" alt=\"Open In Colab\"/></a>"
      ]
    },
    {
      "cell_type": "markdown",
      "metadata": {
        "id": "ZdEH0lp-wL97"
      },
      "source": [
        "# Variables\n",
        "* Una variable es un espacio en memoria que recoge un dato.\n",
        "* Podemos entender una variable como si fuera una caja donde guardamos algún tipo de dato.\n",
        "* Esa caja o variable ha de tener un nombre de variable.  \n",
        "\n",
        "\n",
        "<img src=\"https://github.com/financieras/curso_python/blob/main/img/variable.jpg?raw=1\" alt=\"raspberry pi\" width=\"400\">"
      ]
    },
    {
      "cell_type": "code",
      "execution_count": null,
      "metadata": {
        "colab": {
          "base_uri": "https://localhost:8080/"
        },
        "id": "uGyehxOaww7F",
        "outputId": "bc2a3cd6-fcc8-488a-b408-071810d40550"
      },
      "outputs": [
        {
          "output_type": "stream",
          "name": "stdout",
          "text": [
            "5\n"
          ]
        }
      ],
      "source": [
        "x = 5       # asignamos el valor a la variable\n",
        "print(x)    # imprimimos la variable"
      ]
    },
    {
      "cell_type": "code",
      "execution_count": null,
      "metadata": {
        "id": "AjkdcXAcqj7m",
        "outputId": "be9c5561-ddc3-4b93-e9df-92fc521b65d5",
        "colab": {
          "base_uri": "https://localhost:8080/"
        }
      },
      "outputs": [
        {
          "output_type": "execute_result",
          "data": {
            "text/plain": [
              "int"
            ]
          },
          "metadata": {},
          "execution_count": 2
        }
      ],
      "source": [
        "type(x)    #  es un número entero int"
      ]
    },
    {
      "cell_type": "code",
      "execution_count": null,
      "metadata": {
        "colab": {
          "base_uri": "https://localhost:8080/"
        },
        "id": "3EaA4DMzw2fb",
        "outputId": "c44982ad-b5b6-43a3-c4dd-1ce18a087b87"
      },
      "outputs": [
        {
          "output_type": "stream",
          "name": "stdout",
          "text": [
            "Hola mundo\n"
          ]
        }
      ],
      "source": [
        "saludo = \"Hola mundo\"   # la variable es una cadena alfanumérica\n",
        "print(saludo)"
      ]
    },
    {
      "cell_type": "code",
      "execution_count": null,
      "metadata": {
        "id": "zc1kjEOpqj7o",
        "outputId": "8129b3df-b3ec-49df-ed81-de0f9e8c4b46",
        "colab": {
          "base_uri": "https://localhost:8080/"
        }
      },
      "outputs": [
        {
          "output_type": "execute_result",
          "data": {
            "text/plain": [
              "str"
            ]
          },
          "metadata": {},
          "execution_count": 4
        }
      ],
      "source": [
        "type(saludo)            # string"
      ]
    },
    {
      "cell_type": "code",
      "execution_count": null,
      "metadata": {
        "id": "_yPkjRDgqj7o",
        "outputId": "f4e06567-dc4c-4bc9-ba69-72b12e2ead20",
        "colab": {
          "base_uri": "https://localhost:8080/"
        }
      },
      "outputs": [
        {
          "output_type": "stream",
          "name": "stdout",
          "text": [
            "14.75\n"
          ]
        },
        {
          "output_type": "execute_result",
          "data": {
            "text/plain": [
              "float"
            ]
          },
          "metadata": {},
          "execution_count": 1
        }
      ],
      "source": [
        "precio = 14.75   # es un número de coma flotante → float\n",
        "print(precio)\n",
        "type(precio)"
      ]
    },
    {
      "cell_type": "markdown",
      "metadata": {
        "id": "7XGtlOVrqj7p"
      },
      "source": [
        "### Usar `print` con coma\n",
        "Al imprimir elementos separados por coma se muestra un espacio entre ellos."
      ]
    },
    {
      "cell_type": "code",
      "execution_count": null,
      "metadata": {
        "id": "iv_QNo9Uqj7p",
        "outputId": "56e7d791-67bc-4b17-ae72-941100dac006",
        "colab": {
          "base_uri": "https://localhost:8080/"
        }
      },
      "outputs": [
        {
          "output_type": "stream",
          "name": "stdout",
          "text": [
            "Hola Ana\n"
          ]
        }
      ],
      "source": [
        "nombre = \"Ana\"\n",
        "print(\"Hola\", nombre)"
      ]
    },
    {
      "cell_type": "code",
      "execution_count": null,
      "metadata": {
        "id": "e10YHiVQqj7q",
        "outputId": "367fc6fd-5deb-43b4-9e34-0b18636450c6",
        "colab": {
          "base_uri": "https://localhost:8080/"
        }
      },
      "outputs": [
        {
          "output_type": "stream",
          "name": "stdout",
          "text": [
            "Me llamo Ana y tengo 15 años\n"
          ]
        }
      ],
      "source": [
        "edad = 15\n",
        "print(\"Me llamo\", nombre, \"y tengo\", edad, \"años\")"
      ]
    },
    {
      "cell_type": "markdown",
      "metadata": {
        "id": "x-DCOnlQ1Dni"
      },
      "source": [
        "## Operar con variables"
      ]
    },
    {
      "cell_type": "code",
      "execution_count": null,
      "metadata": {
        "colab": {
          "base_uri": "https://localhost:8080/"
        },
        "id": "YsNnoHnl1JSg",
        "outputId": "7c0ff40c-a89a-4895-f36b-2050c262d045"
      },
      "outputs": [
        {
          "output_type": "stream",
          "name": "stdout",
          "text": [
            "Al dividir 10 entre 4 obtenemos 2.5\n",
            "Al dividir 10 entre 4 obtenemos 2.5\n"
          ]
        }
      ],
      "source": [
        "a = 10\n",
        "b = 4\n",
        "c = a / b       # c es un número de coma flotante, con decimales: float\n",
        "print(\"Al dividir\", a, \"entre\", b, \"obtenemos\", c)\n",
        "print(f'Al dividir {a} entre {b} obtenemos {a/b}')    # imprimir con formato f"
      ]
    },
    {
      "cell_type": "markdown",
      "source": [
        "## Inicializar variables y asignar variables\n",
        "1. Llamamos **inicializar** a la primera vez que igualamos una variable a un valor\n",
        "2. Llamamos **asignar** cuando igualamos un valor a una variable\n",
        "\n",
        "* En otros lenguajes existe la *declaración* de la variable que consiste en indicar previamente de que tipo es la variable.\n",
        "* En Python esto no es obligatorio."
      ],
      "metadata": {
        "id": "D0nunLT0B4-4"
      }
    },
    {
      "cell_type": "code",
      "source": [
        "edad = 17                               # inicialización de la variable\n",
        "print(\"Mi edad es\", edad)\n",
        "\n",
        "edad = 18                               # asignación de la variable\n",
        "print(\"Próximamente cumpliré\", edad)\n",
        "\n",
        "edad += 1                               # equivale a poner  edad = edad + 1\n",
        "print(\"El próximo año cumpliré\", edad)"
      ],
      "metadata": {
        "id": "9ggUlRAaCTtR",
        "outputId": "53870f56-74e5-430c-f954-068df14ff29d",
        "colab": {
          "base_uri": "https://localhost:8080/"
        }
      },
      "execution_count": null,
      "outputs": [
        {
          "output_type": "stream",
          "name": "stdout",
          "text": [
            "Mi edad es 17\n",
            "Próximamente cumpliré 18\n",
            "El próximo año cumpliré 19\n"
          ]
        }
      ]
    },
    {
      "cell_type": "markdown",
      "metadata": {
        "id": "kTRl4Q8mwWf5"
      },
      "source": [
        "## Variables múltiples"
      ]
    },
    {
      "cell_type": "code",
      "execution_count": null,
      "metadata": {
        "colab": {
          "base_uri": "https://localhost:8080/"
        },
        "id": "Awzzthq0wbqc",
        "outputId": "39adcbe8-938a-4a6a-f800-81bf6d2c903f"
      },
      "outputs": [
        {
          "output_type": "stream",
          "name": "stdout",
          "text": [
            "3 4\n"
          ]
        }
      ],
      "source": [
        "a, b = 3, 4\n",
        "print(a, b)"
      ]
    },
    {
      "cell_type": "code",
      "execution_count": null,
      "metadata": {
        "colab": {
          "base_uri": "https://localhost:8080/"
        },
        "id": "Dg1gunRIwfIy",
        "outputId": "934552ca-61a5-456d-d5f9-9326fef26e0c"
      },
      "outputs": [
        {
          "output_type": "stream",
          "name": "stdout",
          "text": [
            "1 1 1\n"
          ]
        }
      ],
      "source": [
        "p = q = r = 1\n",
        "print(p, q, r)"
      ]
    },
    {
      "cell_type": "markdown",
      "metadata": {
        "id": "25a6156f"
      },
      "source": [
        "# Permutar valores  \n",
        "## Utilizando una variable auxiliar\n",
        "<img src=\"https://github.com/financieras/pyCourse/blob/main/jupyter/img/rojo_amarillo_azul_.jpg?raw=1\" alt=\"Tres vasos\" width=\"250\"/>"
      ]
    },
    {
      "cell_type": "code",
      "execution_count": null,
      "metadata": {
        "colab": {
          "base_uri": "https://localhost:8080/"
        },
        "id": "bcb071e5",
        "outputId": "110c669c-e9f0-42f7-ea64-e613cc66bafb"
      },
      "outputs": [
        {
          "output_type": "stream",
          "name": "stdout",
          "text": [
            "a=10, b=5\n"
          ]
        }
      ],
      "source": [
        "a = 5\n",
        "b = 10\n",
        "\n",
        "aux = a                          # creamos una variable auxiliar, se suele llamar aux o temp\n",
        "a = b\n",
        "b = aux\n",
        "\n",
        "print(f'a={a}, b={b}')"
      ]
    },
    {
      "cell_type": "markdown",
      "metadata": {
        "id": "113b1dee"
      },
      "source": [
        "## Python permite permutar en una sola línea"
      ]
    },
    {
      "cell_type": "code",
      "execution_count": null,
      "metadata": {
        "colab": {
          "base_uri": "https://localhost:8080/"
        },
        "id": "ba95b435",
        "outputId": "553349b1-e4f7-4c5d-e7aa-1c03ad9bd482"
      },
      "outputs": [
        {
          "output_type": "stream",
          "name": "stdout",
          "text": [
            "a=10, b=5\n"
          ]
        }
      ],
      "source": [
        "a, b = 5, 10\n",
        "\n",
        "a, b = b, a                      # otra forma maravillosa de permutar valores\n",
        "\n",
        "print(f'a={a}, b={b}')"
      ]
    },
    {
      "cell_type": "markdown",
      "metadata": {
        "id": "N1O2gNw52NDR"
      },
      "source": [
        "# Constantes\n",
        "* Una constante es una variable que no cambiará durante la ejecución del programa.\n",
        "* En Python no se declaran las constantes de forma específica  \n",
        "* Por convención una constante es una variable que se escribe completamente en mayúsculas."
      ]
    },
    {
      "cell_type": "code",
      "execution_count": null,
      "metadata": {
        "id": "eEeLaK672ey6"
      },
      "outputs": [],
      "source": [
        "PI = 3.14159\n",
        "LUZ = 300_000   # de forma optativa podemos usar _ como separador de miles"
      ]
    }
  ],
  "metadata": {
    "colab": {
      "provenance": [],
      "include_colab_link": true
    },
    "kernelspec": {
      "display_name": "Python 3",
      "name": "python3"
    },
    "language_info": {
      "name": "python",
      "version": "3.9.6"
    }
  },
  "nbformat": 4,
  "nbformat_minor": 0
}