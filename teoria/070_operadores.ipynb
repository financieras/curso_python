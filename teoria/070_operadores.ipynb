{
  "nbformat": 4,
  "nbformat_minor": 0,
  "metadata": {
    "colab": {
      "provenance": [],
      "authorship_tag": "ABX9TyPu50YGRWGnEHmwp6CBZGxE",
      "include_colab_link": true
    },
    "kernelspec": {
      "name": "python3",
      "display_name": "Python 3"
    },
    "language_info": {
      "name": "python"
    }
  },
  "cells": [
    {
      "cell_type": "markdown",
      "metadata": {
        "id": "view-in-github",
        "colab_type": "text"
      },
      "source": [
        "<a href=\"https://colab.research.google.com/github/financieras/curso_python/blob/main/070_operadores.ipynb\" target=\"_parent\"><img src=\"https://colab.research.google.com/assets/colab-badge.svg\" alt=\"Open In Colab\"/></a>"
      ]
    },
    {
      "cell_type": "markdown",
      "source": [
        "# Operadores"
      ],
      "metadata": {
        "id": "tuvdmjwbB873"
      }
    },
    {
      "cell_type": "markdown",
      "source": [
        "## Operadores aritméticos\n",
        "1. &nbsp;&nbsp; \\+   &nbsp;&nbsp;&nbsp;&nbsp;&nbsp; Suma\n",
        "2. &nbsp;&nbsp; \\-   &nbsp;&nbsp;&nbsp;&nbsp;&nbsp;&nbsp; Resta\n",
        "3. &nbsp;&nbsp; \\*   &nbsp;&nbsp;&nbsp;&nbsp;&nbsp;&nbsp; Producto\n",
        "4. &nbsp;&nbsp; /    &nbsp;&nbsp;&nbsp;&nbsp;&nbsp;&nbsp; Dividir. Siempre da como resultado un número de coma flotante (float)\n",
        "5. &nbsp;&nbsp; //   &nbsp;&nbsp;&nbsp;&nbsp;&nbsp; División entera, da un número entero (int)\n",
        "6. &nbsp;&nbsp; %    &nbsp;&nbsp;&nbsp;&nbsp;&nbsp; Resto, Residuo, Módulo\n",
        "7. &nbsp;&nbsp; **   &nbsp;&nbsp;&nbsp;&nbsp;&nbsp; Potencias, elevar"
      ],
      "metadata": {
        "id": "XR4iLVkxkEGe"
      }
    },
    {
      "cell_type": "markdown",
      "source": [
        "## Operadores Relacionales\n",
        "* Se usan para comparar\n",
        "* Devuelve un valor booleano (True o False)\n",
        "\n",
        "\n",
        "1. &nbsp;&nbsp; \\>   &nbsp;&nbsp;&nbsp;&nbsp;&nbsp;&nbsp; Mayor que\n",
        "1. &nbsp;&nbsp; \\<   &nbsp;&nbsp;&nbsp;&nbsp;&nbsp;&nbsp; Menor que\n",
        "1. &nbsp;&nbsp; \\==  &nbsp;&nbsp;&nbsp;&nbsp; Igual a\n",
        "1. &nbsp;&nbsp; \\>=  &nbsp;&nbsp;&nbsp;&nbsp; Mayor o igual a\n",
        "1. &nbsp;&nbsp; \\<=  &nbsp;&nbsp;&nbsp;&nbsp; Menor o igual a\n",
        "1. &nbsp;&nbsp; !=   &nbsp;&nbsp;&nbsp;&nbsp;&nbsp; Distinto de"
      ],
      "metadata": {
        "id": "ufOy_4g5lIbY"
      }
    },
    {
      "cell_type": "code",
      "execution_count": null,
      "metadata": {
        "id": "df8694c5"
      },
      "outputs": [],
      "source": [
        "5 == 5              # True       Operador de comparación: 'Igual a'"
      ]
    },
    {
      "cell_type": "code",
      "execution_count": null,
      "metadata": {
        "id": "2528485c"
      },
      "outputs": [],
      "source": [
        "5 >= 7              # False      Mayor o igual que"
      ]
    },
    {
      "cell_type": "code",
      "execution_count": null,
      "metadata": {
        "id": "57fc1da5"
      },
      "outputs": [],
      "source": [
        "9 == '9'            # False"
      ]
    },
    {
      "cell_type": "code",
      "execution_count": null,
      "metadata": {
        "id": "db50c39e"
      },
      "outputs": [],
      "source": [
        "'Roma' > 'Bogotá'   # True"
      ]
    },
    {
      "cell_type": "code",
      "execution_count": null,
      "metadata": {
        "id": "232a68ba"
      },
      "outputs": [],
      "source": [
        "4 != 4              # False    Operador de comparación: Distinto o 'no es igual a'"
      ]
    },
    {
      "cell_type": "markdown",
      "metadata": {
        "id": "f53d11a1"
      },
      "source": [
        "### Verdadero es 1 y Falso es 0"
      ]
    },
    {
      "cell_type": "code",
      "execution_count": null,
      "metadata": {
        "id": "c971002f"
      },
      "outputs": [],
      "source": [
        "True == 1              # True"
      ]
    },
    {
      "cell_type": "code",
      "execution_count": null,
      "metadata": {
        "id": "1b8e0cdc"
      },
      "outputs": [],
      "source": [
        "False == 0             # True"
      ]
    },
    {
      "cell_type": "markdown",
      "metadata": {
        "id": "3a67c098"
      },
      "source": [
        "### Comparando varios simultáneamente"
      ]
    },
    {
      "cell_type": "code",
      "execution_count": null,
      "metadata": {
        "id": "95560b07"
      },
      "outputs": [],
      "source": [
        "1 < 2 < 3              # True"
      ]
    },
    {
      "cell_type": "markdown",
      "source": [
        "## Operadores de Asignación\n",
        "1. &nbsp;&nbsp; \\=   &nbsp;&nbsp;&nbsp;&nbsp;&nbsp;&nbsp; Asignación a la variable &nbsp; `x = 7`\n",
        "1. &nbsp;&nbsp; \\+=   &nbsp;&nbsp;&nbsp;&nbsp; `x += 5` equivale a &nbsp; `x = x + 5`\n",
        "1. &nbsp;&nbsp; \\-=  &nbsp;&nbsp;&nbsp;&nbsp; `x -= 5` equivale a &nbsp; `x = x - 5`\n",
        "1. &nbsp;&nbsp; \\*=  &nbsp;&nbsp;&nbsp;&nbsp; `x *= 5` equivale a &nbsp; `x = x * 5`\n",
        "1. &nbsp;&nbsp; \\/=  &nbsp;&nbsp;&nbsp;&nbsp; `x /= 5` equivale a &nbsp; `x = x / 5`\n",
        "1. &nbsp;&nbsp; \\//=   &nbsp;&nbsp;&nbsp;&nbsp; `x //= 5` equivale a &nbsp; `x = x // 5`\n",
        "1. &nbsp;&nbsp; \\%=   &nbsp;&nbsp;&nbsp;&nbsp; `x %= 5` equivale a &nbsp; `x = x % 5`\n",
        "1. &nbsp;&nbsp; \\*\\*=   &nbsp;&nbsp;&nbsp;&nbsp; `x **= 5` equivale a &nbsp; `x = x ** 5`"
      ],
      "metadata": {
        "id": "H8wrY6f3nv4I"
      }
    },
    {
      "cell_type": "code",
      "source": [
        "a, b = 10, 5\n",
        "\n",
        "a += b\n",
        "\n",
        "print(a)"
      ],
      "metadata": {
        "id": "b4mo452qqP6d"
      },
      "execution_count": null,
      "outputs": []
    },
    {
      "cell_type": "markdown",
      "source": [
        "## Operadores lógicos\n",
        "1. &nbsp;&nbsp; `and`   &nbsp;&nbsp;&nbsp;&nbsp; `a and b` &nbsp; Devuelve `True` si ambos son `True`\n",
        "1. &nbsp;&nbsp; `or`   &nbsp;&nbsp;&nbsp;&nbsp;&nbsp;&nbsp; `a or b` &nbsp; Devuelve `True` si alguno es `True`\n",
        "1. &nbsp;&nbsp; `not`   &nbsp;&nbsp;&nbsp;&nbsp; `not a` &nbsp; Invierte el resultado, devuelve `True` si el operando es `False`"
      ],
      "metadata": {
        "id": "vibkktgRPS_i"
      }
    },
    {
      "cell_type": "markdown",
      "metadata": {
        "id": "18bd64db"
      },
      "source": [
        "### `not`"
      ]
    },
    {
      "cell_type": "code",
      "execution_count": null,
      "metadata": {
        "id": "82da5b0c"
      },
      "outputs": [],
      "source": [
        "not True               # False"
      ]
    },
    {
      "cell_type": "code",
      "execution_count": null,
      "metadata": {
        "id": "c88d5fe1"
      },
      "outputs": [],
      "source": [
        "not False              # True"
      ]
    },
    {
      "cell_type": "markdown",
      "source": [
        "### `and`"
      ],
      "metadata": {
        "id": "OuDdr5SDtGSK"
      }
    },
    {
      "cell_type": "code",
      "source": [
        "True and True and True      # True"
      ],
      "metadata": {
        "id": "_KH9isHkPh3R"
      },
      "execution_count": null,
      "outputs": []
    },
    {
      "cell_type": "code",
      "source": [
        "True and True and False     # False"
      ],
      "metadata": {
        "id": "oa7wXZMzPmna"
      },
      "execution_count": null,
      "outputs": []
    },
    {
      "cell_type": "code",
      "source": [
        "False and False and False   # False"
      ],
      "metadata": {
        "id": "j4KpMceMPqzJ"
      },
      "execution_count": null,
      "outputs": []
    },
    {
      "cell_type": "markdown",
      "source": [
        "### `or`"
      ],
      "metadata": {
        "id": "HO74gfKNVvN9"
      }
    },
    {
      "cell_type": "code",
      "source": [
        "True or True or True        # True"
      ],
      "metadata": {
        "id": "6zVZaO8APuqf"
      },
      "execution_count": null,
      "outputs": []
    },
    {
      "cell_type": "code",
      "source": [
        "True or True or False       # True"
      ],
      "metadata": {
        "id": "khUp5Ci0PypJ"
      },
      "execution_count": null,
      "outputs": []
    },
    {
      "cell_type": "code",
      "source": [
        "False or False or False     # False"
      ],
      "metadata": {
        "id": "txlij1lnP147"
      },
      "execution_count": null,
      "outputs": []
    },
    {
      "cell_type": "markdown",
      "source": [
        "## Operadores de Pertenencia\n",
        "* Se emplean para identificar pertenencia en alguna secuencia (listas, strings, tuplas, rangos).\n",
        "\n",
        "1. &nbsp;&nbsp; `in`   &nbsp;&nbsp;&nbsp;&nbsp;&nbsp;&nbsp;&nbsp;&nbsp;&nbsp;&nbsp;&nbsp;&nbsp; Devuelve `True` si el valor especificado se encuentra en la secuencia\n",
        "1. &nbsp;&nbsp; `not in`   &nbsp;&nbsp;&nbsp; Devuelve `True` si el valor especificado no se encuentra en la secuencia"
      ],
      "metadata": {
        "id": "-C-FbhmWuYmd"
      }
    },
    {
      "cell_type": "code",
      "source": [
        "2 in [1,2,3]    # True"
      ],
      "metadata": {
        "id": "h0XHyLqCvY-e"
      },
      "execution_count": null,
      "outputs": []
    },
    {
      "cell_type": "code",
      "source": [
        "2 in range(5)   # True"
      ],
      "metadata": {
        "id": "qahFkvc1ukjU"
      },
      "execution_count": null,
      "outputs": []
    },
    {
      "cell_type": "code",
      "source": [
        "'2' in \"Pongo la 2 por los documentales\"    # True. Si el 2 fuera int daría error"
      ],
      "metadata": {
        "id": "Brqyl8XYvk4j"
      },
      "execution_count": null,
      "outputs": []
    },
    {
      "cell_type": "code",
      "source": [
        "'día' not in 'osadía'   # False"
      ],
      "metadata": {
        "id": "bZDwu68HwV8b"
      },
      "execution_count": null,
      "outputs": []
    },
    {
      "cell_type": "markdown",
      "source": [
        "## Operadores de Identidad\n",
        "Se utilizan para comprobar si dos variables emplean la misma ubicación en memoria.\n",
        "\n",
        "1. &nbsp;&nbsp; `is`   &nbsp;&nbsp;&nbsp;&nbsp;&nbsp;&nbsp;&nbsp;&nbsp;&nbsp;&nbsp;&nbsp;&nbsp; Devuelve `True` si los operandos se refieren al mismo objeto\n",
        "1. &nbsp;&nbsp; `is not`   &nbsp;&nbsp;&nbsp; Devuelve `True` si los operandos no se refieren al mismo objeto\n",
        "\n",
        "* Precaución: si `a` y `b` son iguales no implica que ambos apunten a la dirección de memoria del mismo objeto."
      ],
      "metadata": {
        "id": "TP1F3lC_x7I9"
      }
    },
    {
      "cell_type": "code",
      "source": [
        "a = [1, 2, 3]\n",
        "b = [1, 2, 3]\n",
        "a == b          # True"
      ],
      "metadata": {
        "id": "SeyzuZD7y1_t"
      },
      "execution_count": null,
      "outputs": []
    },
    {
      "cell_type": "code",
      "source": [
        "a is b          # False. Si a y b fueran números daría True"
      ],
      "metadata": {
        "id": "rVRLrnLlzC9H"
      },
      "execution_count": null,
      "outputs": []
    },
    {
      "cell_type": "code",
      "source": [
        "print(id(a))\n",
        "print(id(b))"
      ],
      "metadata": {
        "id": "5qKI3Q8izHE-"
      },
      "execution_count": null,
      "outputs": []
    },
    {
      "cell_type": "code",
      "source": [
        "x = a       # Si igualamos, hacemos que sean el mismo objeto\n",
        "x is a      # True"
      ],
      "metadata": {
        "id": "GgCxE4Lg0o5D"
      },
      "execution_count": null,
      "outputs": []
    },
    {
      "cell_type": "markdown",
      "source": [
        "### Ejemplos"
      ],
      "metadata": {
        "id": "jWwSqWbOVsE1"
      }
    },
    {
      "cell_type": "markdown",
      "source": [
        "#### *Ejemplo 1*"
      ],
      "metadata": {
        "id": "NlIhI6emz2sc"
      }
    },
    {
      "cell_type": "code",
      "source": [
        "edad = int(input(\"Ingrese su edad: \"))\n",
        "print(\"Si la respuesta es True usted será admitido\")\n",
        "print(edad >= 15 and edad <= 19)"
      ],
      "metadata": {
        "id": "jd6_CvisM4X_"
      },
      "execution_count": null,
      "outputs": []
    },
    {
      "cell_type": "markdown",
      "source": [
        "#### *Ejemplo 2*"
      ],
      "metadata": {
        "id": "_R5v_e2Yz9H-"
      }
    },
    {
      "cell_type": "code",
      "source": [
        "print(\"Si su role es admin o ceo se le dará acceso\")\n",
        "role = input(\"Indique su role: \")\n",
        "print(\"Si tiene acceso la respuesta será True\")\n",
        "print(role.lower() == \"admin\" or role.lower() == \"ceo\")"
      ],
      "metadata": {
        "id": "QuENr5PMOBEU"
      },
      "execution_count": null,
      "outputs": []
    },
    {
      "cell_type": "markdown",
      "source": [
        "#### *Ejemplo 3*"
      ],
      "metadata": {
        "id": "PEyCi0hLz_Mq"
      }
    },
    {
      "cell_type": "code",
      "source": [
        "print(not True)\n",
        "print(not False)"
      ],
      "metadata": {
        "id": "xxU0MUAOPaLf"
      },
      "execution_count": null,
      "outputs": []
    },
    {
      "cell_type": "markdown",
      "source": [
        "#### *Ejemplo 4*"
      ],
      "metadata": {
        "id": "oAGSauKm0BU9"
      }
    },
    {
      "cell_type": "code",
      "source": [
        "not(True and True and False)"
      ],
      "metadata": {
        "id": "pGb2q1GUQKKs"
      },
      "execution_count": null,
      "outputs": []
    }
  ]
}