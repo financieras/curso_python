{
  "nbformat": 4,
  "nbformat_minor": 0,
  "metadata": {
    "colab": {
      "provenance": [],
      "authorship_tag": "ABX9TyNqdb9BESm7PJcuw0qJytb4",
      "include_colab_link": true
    },
    "kernelspec": {
      "name": "python3",
      "display_name": "Python 3"
    },
    "language_info": {
      "name": "python"
    }
  },
  "cells": [
    {
      "cell_type": "markdown",
      "metadata": {
        "id": "view-in-github",
        "colab_type": "text"
      },
      "source": [
        "<a href=\"https://colab.research.google.com/github/financieras/curso_python/blob/main/teoria/550_fibonacci.ipynb\" target=\"_parent\"><img src=\"https://colab.research.google.com/assets/colab-badge.svg\" alt=\"Open In Colab\"/></a>"
      ]
    },
    {
      "cell_type": "markdown",
      "source": [
        "# Sucesión de Fibonacci\n",
        "* Los dos primeros números de la sucesión son 0 y 1\n",
        "* El resto de los números se obtienen sumando los dos anteriores\n",
        "* Es una sucesión famosa relacionada con el [número áureo](https://youtu.be/yDyMSliKsxI?si=FsRzgSGMyyqEY_lM)"
      ],
      "metadata": {
        "id": "sBg37N0ec0se"
      }
    },
    {
      "cell_type": "code",
      "execution_count": null,
      "metadata": {
        "colab": {
          "base_uri": "https://localhost:8080/"
        },
        "id": "Y0xU75BjcuE8",
        "outputId": "6dc96d1d-1f45-438d-f5a5-014f1df57111"
      },
      "outputs": [
        {
          "output_type": "stream",
          "name": "stdout",
          "text": [
            "0 1 1 2 3 5 8 13 21 34 55 89 144 233 377 610 987 1597 \n"
          ]
        }
      ],
      "source": [
        "def fib(n):\n",
        "    \"\"\"Imprime la sucesión de Fibonacci hasta n.\"\"\"\n",
        "    a, b = 0, 1\n",
        "    while a < n:\n",
        "        print(a, end=' ')\n",
        "        a, b = b, a+b\n",
        "    print()\n",
        "\n",
        "# Ahora llamamos a la función para un n=2000\n",
        "fib(2000)"
      ]
    }
  ]
}