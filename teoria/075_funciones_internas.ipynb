{
  "nbformat": 4,
  "nbformat_minor": 0,
  "metadata": {
    "colab": {
      "provenance": [],
      "authorship_tag": "ABX9TyM2JJ3S4mIpUvWY8+CVHI2I",
      "include_colab_link": true
    },
    "kernelspec": {
      "name": "python3",
      "display_name": "Python 3"
    },
    "language_info": {
      "name": "python"
    }
  },
  "cells": [
    {
      "cell_type": "markdown",
      "metadata": {
        "id": "view-in-github",
        "colab_type": "text"
      },
      "source": [
        "<a href=\"https://colab.research.google.com/github/financieras/curso_python/blob/main/teoria/075_funciones_internas.ipynb\" target=\"_parent\"><img src=\"https://colab.research.google.com/assets/colab-badge.svg\" alt=\"Open In Colab\"/></a>"
      ]
    },
    {
      "cell_type": "markdown",
      "metadata": {
        "id": "7c0d850e"
      },
      "source": [
        "# Funciones internas\n",
        "Funciones integradas en Python.  \n",
        "[Funciones Built-in](https://docs.python.org/es/3.9/library/functions.html)"
      ]
    },
    {
      "cell_type": "markdown",
      "metadata": {
        "id": "3a6fac56"
      },
      "source": [
        "- print()\n",
        "- exit()\n",
        "- abs()\n",
        "- round()\n",
        "- chr()\n",
        "- float()\n",
        "- int()\n",
        "- str()\n",
        "- input()\n",
        "- len()\n",
        "- max()\n",
        "- min()\n",
        "- sum()\n",
        "- pow()\n",
        "- eval()"
      ]
    },
    {
      "cell_type": "markdown",
      "metadata": {
        "id": "0cc98642"
      },
      "source": [
        "## type"
      ]
    },
    {
      "cell_type": "code",
      "execution_count": null,
      "metadata": {
        "id": "8349d7c6"
      },
      "outputs": [],
      "source": [
        "type(\"Hola\")"
      ]
    },
    {
      "cell_type": "code",
      "execution_count": null,
      "metadata": {
        "id": "8245f5b9"
      },
      "outputs": [],
      "source": [
        "type(5)"
      ]
    },
    {
      "cell_type": "code",
      "execution_count": null,
      "metadata": {
        "id": "5d7f67c6"
      },
      "outputs": [],
      "source": [
        "type(10/2)"
      ]
    },
    {
      "cell_type": "code",
      "execution_count": null,
      "metadata": {
        "id": "821f6506"
      },
      "outputs": [],
      "source": [
        "type(5==5)"
      ]
    },
    {
      "cell_type": "code",
      "execution_count": null,
      "metadata": {
        "id": "4484a4ef"
      },
      "outputs": [],
      "source": [
        "type(5=='5')"
      ]
    },
    {
      "cell_type": "code",
      "execution_count": null,
      "metadata": {
        "id": "9a92e47b"
      },
      "outputs": [],
      "source": [
        "num = input(\"Indique un número:\")\n",
        "print(7==num)                     # ¿alguna vez dará True?\n",
        "type(7==num)"
      ]
    },
    {
      "cell_type": "markdown",
      "metadata": {
        "id": "62f9a62b"
      },
      "source": [
        "## len"
      ]
    },
    {
      "cell_type": "code",
      "execution_count": null,
      "metadata": {
        "id": "d50a8769"
      },
      "outputs": [],
      "source": [
        "len(\"Hola\")                       # longitud 4"
      ]
    },
    {
      "cell_type": "code",
      "execution_count": null,
      "metadata": {
        "id": "2c640cb4"
      },
      "outputs": [],
      "source": [
        "len([])"
      ]
    },
    {
      "cell_type": "code",
      "execution_count": null,
      "metadata": {
        "id": "4ea9ab08"
      },
      "outputs": [],
      "source": [
        "len([1,2,3])"
      ]
    },
    {
      "cell_type": "markdown",
      "metadata": {
        "id": "1865ff75"
      },
      "source": [
        "## eval"
      ]
    },
    {
      "cell_type": "code",
      "execution_count": null,
      "metadata": {
        "id": "cf2a0493"
      },
      "outputs": [],
      "source": [
        "x = 2\n",
        "eval(\"1+3*x\")                     # 7"
      ]
    },
    {
      "cell_type": "markdown",
      "metadata": {
        "id": "00935809"
      },
      "source": [
        "## sum"
      ]
    },
    {
      "cell_type": "code",
      "execution_count": null,
      "metadata": {
        "id": "1c5c3f42"
      },
      "outputs": [],
      "source": [
        "sum([1, 2, 3])                    # 6   suma los elementos de una lista"
      ]
    },
    {
      "cell_type": "markdown",
      "metadata": {
        "id": "16a91082"
      },
      "source": [
        "## pow"
      ]
    },
    {
      "cell_type": "code",
      "execution_count": null,
      "metadata": {
        "id": "36b726da"
      },
      "outputs": [],
      "source": [
        "pow(2,3)                          # función potencias"
      ]
    },
    {
      "cell_type": "markdown",
      "metadata": {
        "id": "6fac6b36"
      },
      "source": [
        "## abs"
      ]
    },
    {
      "cell_type": "code",
      "execution_count": null,
      "metadata": {
        "id": "e3e65f23"
      },
      "outputs": [],
      "source": [
        "abs(-3)"
      ]
    },
    {
      "cell_type": "markdown",
      "metadata": {
        "id": "fc8621d8"
      },
      "source": [
        "## round"
      ]
    },
    {
      "cell_type": "code",
      "execution_count": null,
      "metadata": {
        "id": "6eb6f90f"
      },
      "outputs": [],
      "source": [
        "round(6.9)"
      ]
    },
    {
      "cell_type": "code",
      "execution_count": null,
      "metadata": {
        "id": "fa63ebc8"
      },
      "outputs": [],
      "source": [
        "round(3.14159, 3)"
      ]
    },
    {
      "cell_type": "markdown",
      "metadata": {
        "id": "c0fe273e"
      },
      "source": [
        "## str"
      ]
    },
    {
      "cell_type": "code",
      "execution_count": null,
      "metadata": {
        "id": "dd1e34db"
      },
      "outputs": [],
      "source": [
        "edad = 5\n",
        "#print('Solo tiene ' + edad + ' años')         # TypeError: can only concatenate str (not \"int\") to str"
      ]
    },
    {
      "cell_type": "code",
      "execution_count": null,
      "metadata": {
        "id": "4b6fb85c"
      },
      "outputs": [],
      "source": [
        "print('Solo tiene ' + str(edad) + ' años')     # Solo tiene 5 años  str() convierte un número en un string\n",
        "print('Solo tiene {} años'.format(edad))       # Solo tiene 5 años\n",
        "print(f'Solo tiene {edad} años')               # Solo tiene 5 años"
      ]
    },
    {
      "cell_type": "markdown",
      "metadata": {
        "id": "db4a2295"
      },
      "source": [
        "## int"
      ]
    },
    {
      "cell_type": "code",
      "execution_count": null,
      "metadata": {
        "id": "73507a0c"
      },
      "outputs": [],
      "source": [
        "print(int(5.7))                                # 5"
      ]
    },
    {
      "cell_type": "markdown",
      "metadata": {
        "id": "fd0071bd"
      },
      "source": [
        "## float"
      ]
    },
    {
      "cell_type": "code",
      "execution_count": null,
      "metadata": {
        "id": "d6612dfa"
      },
      "outputs": [],
      "source": [
        "float(\"3.14\")"
      ]
    },
    {
      "cell_type": "markdown",
      "metadata": {
        "id": "608879ef"
      },
      "source": [
        "## chr"
      ]
    },
    {
      "cell_type": "code",
      "execution_count": null,
      "metadata": {
        "id": "12ea3b7b"
      },
      "outputs": [],
      "source": [
        "chr(65)                                    # 'A' carácter código ASCII"
      ]
    },
    {
      "cell_type": "markdown",
      "source": [
        "## `ord`\n",
        "Es la función inversa a `chr`"
      ],
      "metadata": {
        "id": "yJLLFmFybmqN"
      }
    },
    {
      "cell_type": "code",
      "source": [
        "ord(\"A\")"
      ],
      "metadata": {
        "id": "IWAQIvEhbsYf"
      },
      "execution_count": null,
      "outputs": []
    },
    {
      "cell_type": "markdown",
      "metadata": {
        "id": "43b04620"
      },
      "source": [
        "## bin\n",
        "Para pasar un número a binario."
      ]
    },
    {
      "cell_type": "code",
      "execution_count": null,
      "metadata": {
        "id": "7d799289"
      },
      "outputs": [],
      "source": [
        "bin(3)"
      ]
    },
    {
      "cell_type": "code",
      "execution_count": null,
      "metadata": {
        "id": "551121a3"
      },
      "outputs": [],
      "source": [
        "int('0b11', 2)                              # proceso inverso, convierte un binario en decimal, se indica base 2"
      ]
    },
    {
      "cell_type": "markdown",
      "metadata": {
        "id": "ddc1bf6c"
      },
      "source": [
        "There are only 10 kinds of people in the world: those who understand binary, and those who don't."
      ]
    },
    {
      "cell_type": "markdown",
      "metadata": {
        "id": "5204a6ed"
      },
      "source": [
        "## hex\n",
        "Para pasar a un número en hexadecimal (base 16)  \n",
        "* 0123456789abcdef"
      ]
    },
    {
      "cell_type": "code",
      "execution_count": null,
      "metadata": {
        "id": "41e78af8"
      },
      "outputs": [],
      "source": [
        "hex(10)"
      ]
    },
    {
      "cell_type": "code",
      "execution_count": null,
      "metadata": {
        "id": "0faf6874"
      },
      "outputs": [],
      "source": [
        "int('0xa', 16)                              # proceso inverso, convierte un hexadecimal en decimal, se indica base 16"
      ]
    },
    {
      "cell_type": "markdown",
      "metadata": {
        "id": "dbbdf7f3"
      },
      "source": [
        "## hash\n",
        "Devuelve el hash de un valor."
      ]
    },
    {
      "cell_type": "code",
      "execution_count": null,
      "metadata": {
        "id": "3776ec86",
        "colab": {
          "base_uri": "https://localhost:8080/"
        },
        "outputId": "1bf101d0-cc7c-4d3b-cec8-41adfa167af3"
      },
      "outputs": [
        {
          "output_type": "execute_result",
          "data": {
            "text/plain": [
              "5861482831013249374"
            ]
          },
          "metadata": {},
          "execution_count": 3
        }
      ],
      "source": [
        "hash(\"hola\")"
      ]
    },
    {
      "cell_type": "code",
      "execution_count": null,
      "metadata": {
        "id": "1e609ca0",
        "colab": {
          "base_uri": "https://localhost:8080/"
        },
        "outputId": "c4d0eed0-8df0-4478-de22-2690177d9804"
      },
      "outputs": [
        {
          "output_type": "execute_result",
          "data": {
            "text/plain": [
              "True"
            ]
          },
          "metadata": {},
          "execution_count": 2
        }
      ],
      "source": [
        "hash(2) == hash(2.0)    # el hash de un número entero coincide con el hash de ese número pero flotante"
      ]
    },
    {
      "cell_type": "markdown",
      "metadata": {
        "id": "1d15f5b6"
      },
      "source": [
        "## help\n",
        "Tecleando topics obtenemos palabras sobre las que podemos buscar ayuda.  \n",
        "Para salir de la ayuda presione q"
      ]
    },
    {
      "cell_type": "code",
      "execution_count": null,
      "metadata": {
        "id": "53ce96da"
      },
      "outputs": [],
      "source": [
        "help()"
      ]
    },
    {
      "cell_type": "markdown",
      "metadata": {
        "id": "99859d50"
      },
      "source": [
        "## Ejercicio  \n",
        "Solicitar al usuario dos números y calcular el máximo y el mínimo."
      ]
    },
    {
      "cell_type": "code",
      "execution_count": null,
      "metadata": {
        "id": "21218577"
      },
      "outputs": [],
      "source": [
        "num1 = float(input(\"Indique un número: \"))\n",
        "num2 = float(input(\"Indique otro número: \"))\n",
        "print(f'El máximo entre {num1} y {num2} es {max(num1,num2)}')\n",
        "print(f'El mínimo entre {num1} y {num2} es {min(num1,num2)}')"
      ]
    }
  ]
}