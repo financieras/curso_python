{
  "cells": [
    {
      "cell_type": "markdown",
      "metadata": {
        "id": "view-in-github",
        "colab_type": "text"
      },
      "source": [
        "<a href=\"https://colab.research.google.com/github/financieras/curso_python/blob/main/teoria/010_holamundo.ipynb\" target=\"_parent\"><img src=\"https://colab.research.google.com/assets/colab-badge.svg\" alt=\"Open In Colab\"/></a>"
      ]
    },
    {
      "cell_type": "markdown",
      "metadata": {
        "id": "SNTHfP-NelaS"
      },
      "source": [
        "# Hola mundo"
      ]
    },
    {
      "cell_type": "code",
      "execution_count": null,
      "metadata": {
        "colab": {
          "base_uri": "https://localhost:8080/"
        },
        "id": "7xsVynfiehVn",
        "outputId": "cc541239-79d2-45b2-fc38-e627a4ebdb67"
      },
      "outputs": [
        {
          "output_type": "stream",
          "name": "stdout",
          "text": [
            "Hola mundo\n"
          ]
        }
      ],
      "source": [
        "print(\"Hola mundo\")"
      ]
    },
    {
      "cell_type": "markdown",
      "metadata": {
        "id": "8AZRFw8HezD-"
      },
      "source": [
        "## Comentarios del programador"
      ]
    },
    {
      "cell_type": "code",
      "execution_count": null,
      "metadata": {
        "colab": {
          "base_uri": "https://localhost:8080/"
        },
        "id": "wz4Fdh9Zet-v",
        "outputId": "fc13e0e9-1d08-46d3-eb81-0d85a01c151e"
      },
      "outputs": [
        {
          "output_type": "stream",
          "name": "stdout",
          "text": [
            "Hello World\n"
          ]
        }
      ],
      "source": [
        "# Esto es un comentario\n",
        "print('Hello World')     # usando comillas simples"
      ]
    },
    {
      "cell_type": "markdown",
      "metadata": {
        "id": "I9FNg4P4foG0"
      },
      "source": [
        "### Comentario de varias líneas\n",
        "Va entre 3 comillas al inicio y 3 comillas al final que pueden ser simples o dobles"
      ]
    },
    {
      "cell_type": "code",
      "execution_count": null,
      "metadata": {
        "colab": {
          "base_uri": "https://localhost:8080/"
        },
        "id": "Nq9z5ZuufHUQ",
        "outputId": "6e99ffd8-88ed-442a-dba9-8ed9d327033f"
      },
      "outputs": [
        {
          "output_type": "stream",
          "name": "stdout",
          "text": [
            "Hola mundo del siglo 21\n"
          ]
        }
      ],
      "source": [
        "'''Se puede escribir un print\n",
        "con varios elementos separados\n",
        "por comas'''\n",
        "\n",
        "print(\"Hola\", \"mundo\", \"del siglo\", 21)     # imprimiendo varios datos"
      ]
    },
    {
      "cell_type": "markdown",
      "metadata": {
        "id": "1inkiGdLsDGR"
      },
      "source": [
        "## Operar como calculadora\n",
        "* Podemos trabajar directamente haciendo operaciones como si fuera una calculadora."
      ]
    },
    {
      "cell_type": "code",
      "execution_count": null,
      "metadata": {
        "colab": {
          "base_uri": "https://localhost:8080/"
        },
        "id": "CJXDyN6esFNu",
        "outputId": "6b8e7c87-d1d4-44e0-fb9a-0fa123f76153"
      },
      "outputs": [
        {
          "output_type": "execute_result",
          "data": {
            "text/plain": [
              "5"
            ]
          },
          "metadata": {},
          "execution_count": 4
        }
      ],
      "source": [
        "# suma\n",
        "2 + 3"
      ]
    },
    {
      "cell_type": "code",
      "execution_count": null,
      "metadata": {
        "colab": {
          "base_uri": "https://localhost:8080/"
        },
        "id": "DJaVOa7oAYz-",
        "outputId": "173feef5-1387-4dcb-a4b8-ffb37ea0074c"
      },
      "outputs": [
        {
          "output_type": "stream",
          "name": "stdout",
          "text": [
            "-7\n",
            "27\n",
            "3.6666666666666665\n",
            "3\n",
            "2\n",
            "8\n",
            "8\n"
          ]
        }
      ],
      "source": [
        "print(-2 - 5)       # -7 resta\n",
        "print(9 * 3)        # 27 producto\n",
        "print(11 / 3)       # 3.6666666 división\n",
        "print(11 // 3)      # 3 división entera (no es redondeo)\n",
        "print(11 % 3)       # 2 resto (módulo)\n",
        "print(2 ** 3)       # 8 potencias\n",
        "print(pow(2, 3))    # 8 potencias usando la función pow"
      ]
    },
    {
      "cell_type": "markdown",
      "metadata": {
        "id": "8qiLGIgZDs6H"
      },
      "source": [
        "### Paréntesis y prelación de operaciones"
      ]
    },
    {
      "cell_type": "code",
      "execution_count": null,
      "metadata": {
        "id": "-KV9tXLMDs6H",
        "outputId": "a738af5c-2ca2-49ec-996d-8dfca57c6f5b",
        "colab": {
          "base_uri": "https://localhost:8080/"
        }
      },
      "outputs": [
        {
          "output_type": "execute_result",
          "data": {
            "text/plain": [
              "11"
            ]
          },
          "metadata": {},
          "execution_count": 6
        }
      ],
      "source": [
        "# el producto se hace antes que la suma, tiene prioridad\n",
        "5 + 3 * 2"
      ]
    },
    {
      "cell_type": "code",
      "execution_count": null,
      "metadata": {
        "id": "-oOxEtwWDs6H",
        "outputId": "a978dcd8-5fd2-47ac-b243-78e19ba02bdd",
        "colab": {
          "base_uri": "https://localhost:8080/"
        }
      },
      "outputs": [
        {
          "output_type": "stream",
          "name": "stdout",
          "text": [
            "11\n",
            "16\n"
          ]
        }
      ],
      "source": [
        "print(5+(3*2))\n",
        "print((5+3)*2)  # los paréntesis tienen prioridad sobre las operaciones"
      ]
    }
  ],
  "metadata": {
    "colab": {
      "provenance": [],
      "include_colab_link": true
    },
    "kernelspec": {
      "display_name": "Python 3",
      "name": "python3"
    },
    "language_info": {
      "name": "python"
    }
  },
  "nbformat": 4,
  "nbformat_minor": 0
}