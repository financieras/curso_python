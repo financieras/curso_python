{
  "nbformat": 4,
  "nbformat_minor": 0,
  "metadata": {
    "colab": {
      "provenance": [],
      "authorship_tag": "ABX9TyOKqUGTb47q4eOuhwgxFjdY",
      "include_colab_link": true
    },
    "kernelspec": {
      "name": "python3",
      "display_name": "Python 3"
    },
    "language_info": {
      "name": "python"
    }
  },
  "cells": [
    {
      "cell_type": "markdown",
      "metadata": {
        "id": "view-in-github",
        "colab_type": "text"
      },
      "source": [
        "<a href=\"https://colab.research.google.com/github/financieras/curso_python/blob/main/teoria/013_tipado_dinamico.ipynb\" target=\"_parent\"><img src=\"https://colab.research.google.com/assets/colab-badge.svg\" alt=\"Open In Colab\"/></a>"
      ]
    },
    {
      "cell_type": "markdown",
      "metadata": {
        "id": "bq9Qkd5w2-c4"
      },
      "source": [
        "## Tipado dinámico\n",
        "* Tipado dinámico vs tipado estático\n",
        "* Python es un lenguaje de programación de tipado dinámico.\n",
        "* El tipado dinámico supone que la variable puede cambiar de tipo"
      ]
    },
    {
      "cell_type": "code",
      "execution_count": null,
      "metadata": {
        "id": "W3eEDAhm3Kbw",
        "outputId": "048a87e3-fe0a-45c8-aaa7-3a98bc740bd5",
        "colab": {
          "base_uri": "https://localhost:8080/"
        }
      },
      "outputs": [
        {
          "output_type": "stream",
          "name": "stdout",
          "text": [
            "0.18\n"
          ]
        }
      ],
      "source": [
        "fondo = \"gris\"      # puede ser un string (una cadena de texto)\n",
        "fondo = 100         # puede ser un número de tipo int (entero)\n",
        "fondo = .18         # puede ser un número de tipo float (con decimales)\n",
        "\n",
        "print(fondo)        # prevalece el último valor dado a la variable"
      ]
    },
    {
      "cell_type": "markdown",
      "metadata": {
        "id": "xPw-OWznjMRB"
      },
      "source": [
        "## Tipado fuerte\n",
        "* Tipado fuerte vs tipado débil\n",
        "* Tipado fuerte: cuando arroja un error ante una operación entre dos tipos de datos incompatibles, en lugar de convertir implícitamente alguno de los dos tipos."
      ]
    },
    {
      "cell_type": "code",
      "execution_count": null,
      "metadata": {
        "colab": {
          "base_uri": "https://localhost:8080/"
        },
        "id": "SAL4tGkxjrmD",
        "outputId": "4138c940-2240-48a3-8275-25b5cb7bada1"
      },
      "outputs": [
        {
          "output_type": "stream",
          "name": "stdout",
          "text": [
            "23\n",
            "5\n"
          ]
        }
      ],
      "source": [
        "a = 2\n",
        "b = \"3\"\n",
        "#print(a + b)       # ¡Error!\n",
        "\n",
        "print(str(a) + b)   # casteando con str para convertir el número a string\n",
        "print(a + int(b))   # casteando con int para convertir el string a entero"
      ]
    },
    {
      "cell_type": "markdown",
      "source": [
        "#### JavaScript tiene tipado débil\n",
        "\n",
        " &nbsp;&nbsp;&nbsp;&nbsp; &nbsp;&nbsp;&nbsp;&nbsp;<img src=\"https://github.com/financieras/curso_python/blob/main/img/javascript_tipado_debil.png?raw=1\" alt=\"javascript con tipado débil\" width=\"150\">\n",
        "\n",
        "#### Lenguajes de programación según tipado\n",
        "\n",
        "<img src=\"https://github.com/financieras/curso_python/blob/main/img/dinamic_strong.png?raw=1\" alt=\"molde\" width=\"300\">"
      ],
      "metadata": {
        "id": "WjfgFO9qxj8z"
      }
    },
    {
      "cell_type": "markdown",
      "metadata": {
        "id": "11020dc7"
      },
      "source": [
        "## Error al concatenar con un número"
      ]
    },
    {
      "cell_type": "code",
      "execution_count": null,
      "metadata": {
        "id": "5f4a6df6"
      },
      "outputs": [],
      "source": [
        "#\"Vuelo \" + 505               # TypeError: can only concatenate str (not \"int\") to str"
      ]
    },
    {
      "cell_type": "code",
      "execution_count": null,
      "metadata": {
        "id": "86e3504e",
        "outputId": "d9eeb372-360b-43da-a43c-ac875e55cd04",
        "colab": {
          "base_uri": "https://localhost:8080/",
          "height": 35
        }
      },
      "outputs": [
        {
          "output_type": "execute_result",
          "data": {
            "text/plain": [
              "'Vuelo 505'"
            ],
            "application/vnd.google.colaboratory.intrinsic+json": {
              "type": "string"
            }
          },
          "metadata": {},
          "execution_count": 9
        }
      ],
      "source": [
        "\"Vuelo \" + str(505)           # la función str() convierte un número en cadena"
      ]
    },
    {
      "cell_type": "markdown",
      "source": [
        "### Mi nombre y mi edad\n",
        "A la edad la tenemos que añadir la función `str()` que convierte un número en cadena (string)."
      ],
      "metadata": {
        "id": "A4n4DBvZK02x"
      }
    },
    {
      "cell_type": "code",
      "source": [
        "nombre = \"Alex\"\n",
        "edad = 30\n",
        "print(\"Me llamo \" + nombre + \" y tengo \" + str(edad) + \" años.\")"
      ],
      "metadata": {
        "id": "MfL3KJ6mLOjz",
        "outputId": "c871a45b-cc84-4d9c-9989-6f47961d74f7",
        "colab": {
          "base_uri": "https://localhost:8080/"
        }
      },
      "execution_count": null,
      "outputs": [
        {
          "output_type": "stream",
          "name": "stdout",
          "text": [
            "Me llamo Alex y tengo 30 años.\n"
          ]
        }
      ]
    },
    {
      "cell_type": "markdown",
      "source": [
        "#### Otra forma de escribirlo más moderna, con formato `f`"
      ],
      "metadata": {
        "id": "OTx36JOWLlrt"
      }
    },
    {
      "cell_type": "code",
      "source": [
        "print(f\"Me llamo {nombre} y tengo {edad} años.\")"
      ],
      "metadata": {
        "id": "djkwBfKBLr0F",
        "outputId": "f1c07e62-5ed1-46d2-b3c2-e376449b05b6",
        "colab": {
          "base_uri": "https://localhost:8080/"
        }
      },
      "execution_count": null,
      "outputs": [
        {
          "output_type": "stream",
          "name": "stdout",
          "text": [
            "Me llamo Alex y tengo 30 años.\n"
          ]
        }
      ]
    },
    {
      "cell_type": "markdown",
      "metadata": {
        "id": "0aef9439"
      },
      "source": [
        "## Una única línea de código en varias líneas de texto"
      ]
    },
    {
      "cell_type": "markdown",
      "metadata": {
        "id": "619db544"
      },
      "source": [
        "Veamos un ejemplo que luego vamos a transformar."
      ]
    },
    {
      "cell_type": "code",
      "execution_count": null,
      "metadata": {
        "id": "69c75219",
        "outputId": "ef5bfabc-c5bb-489a-f5bc-16f25ab6d8d7",
        "colab": {
          "base_uri": "https://localhost:8080/"
        }
      },
      "outputs": [
        {
          "output_type": "stream",
          "name": "stdout",
          "text": [
            "Los valores son correctos.\n"
          ]
        }
      ],
      "source": [
        "x = 1\n",
        "y = 2\n",
        "z = 3\n",
        "if x==1 and y==2 and z==3:\n",
        "    print(\"Los valores son correctos.\")"
      ]
    },
    {
      "cell_type": "markdown",
      "metadata": {
        "id": "d2e8d49f"
      },
      "source": [
        "El caso anterior se puede escribir de otra forma.\n",
        "\n",
        "* ```;``` Con el punto y coma podemos escribir varias líneas de código en una sola línea de texto.\n",
        "* ```\\``` Con la barra invertida podemos separar una línea de código en varias líneas de texto."
      ]
    },
    {
      "cell_type": "code",
      "execution_count": null,
      "metadata": {
        "id": "eda3e051",
        "outputId": "647c2dc3-ce41-447d-f842-9700ee30d28b",
        "colab": {
          "base_uri": "https://localhost:8080/"
        }
      },
      "outputs": [
        {
          "output_type": "stream",
          "name": "stdout",
          "text": [
            "Los valores son correctos.\n"
          ]
        }
      ],
      "source": [
        "x=1; y=2; z=3\n",
        "if x==1 and \\\n",
        "   y==2 and \\\n",
        "   z==3:\n",
        "    print(\"Los valores son correctos.\")"
      ]
    },
    {
      "cell_type": "markdown",
      "metadata": {
        "id": "07757f42"
      },
      "source": [
        "## La coma como separador\n",
        "En un print podemos separar con coma que es un separador que imprime un espacio.  \n",
        "Este separador se puede cambiar."
      ]
    },
    {
      "cell_type": "code",
      "execution_count": null,
      "metadata": {
        "id": "b582d57c",
        "outputId": "4290b2bd-c9c1-44c3-bfac-8f2440eb8d8c",
        "colab": {
          "base_uri": "https://localhost:8080/"
        }
      },
      "outputs": [
        {
          "output_type": "stream",
          "name": "stdout",
          "text": [
            "Madrid París Roma\n"
          ]
        }
      ],
      "source": [
        "m = \"Madrid\"\n",
        "p = \"París\"\n",
        "r = \"Roma\"\n",
        "print(m, p, r)             # al imprimir se separan las ciudades con un espacio"
      ]
    },
    {
      "cell_type": "code",
      "execution_count": null,
      "metadata": {
        "id": "6280dc51",
        "outputId": "ba21f1c7-f054-4960-96e3-89d20855736c",
        "colab": {
          "base_uri": "https://localhost:8080/"
        }
      },
      "outputs": [
        {
          "output_type": "stream",
          "name": "stdout",
          "text": [
            "Madrid;París;Roma\n"
          ]
        }
      ],
      "source": [
        "print(m, p, r, sep=\";\")    # cambiamos el separador a un punto y coma"
      ]
    },
    {
      "cell_type": "code",
      "execution_count": null,
      "metadata": {
        "id": "6eb74123",
        "outputId": "491dbfb3-54fd-430c-c739-38bb03afe302",
        "colab": {
          "base_uri": "https://localhost:8080/"
        }
      },
      "outputs": [
        {
          "output_type": "stream",
          "name": "stdout",
          "text": [
            "Madrid\n",
            "París\n",
            "Roma\n"
          ]
        }
      ],
      "source": [
        "print(m, p, r, sep=\"\\n\")   # cambiamos el separador a un retorno de carro"
      ]
    },
    {
      "cell_type": "markdown",
      "metadata": {
        "id": "Qy9f-w9Nqj7s"
      },
      "source": [
        "## Ejercicios"
      ]
    },
    {
      "cell_type": "markdown",
      "metadata": {
        "id": "LCSw0ihQqj7t"
      },
      "source": [
        "#### *Ejercicio 1*\n",
        "Imprime dos frases, una debajo de la otra."
      ]
    },
    {
      "cell_type": "markdown",
      "metadata": {
        "id": "4rqqleZlqj7t"
      },
      "source": [
        "#### *Ejercicio 2*\n",
        "Usa las variables `lugar` y `nombre` para llegar a imprimir la frase:\n",
        "```\n",
        "Prefiero ir de vacaciones a Málaga con Julia.\n",
        "```\n",
        "Consigue que al cambiar el valor de las variables la frase cambie.\n",
        "\n",
        "Por ejemplo, la frase podría cambiar a esta:\n",
        "\n",
        "```\n",
        "Prefiero ir de vacaciones a Galicia con Pablo.\n",
        "```"
      ]
    }
  ]
}