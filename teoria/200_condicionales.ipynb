{
  "nbformat": 4,
  "nbformat_minor": 0,
  "metadata": {
    "colab": {
      "provenance": [],
      "authorship_tag": "ABX9TyM0pyVKQnvqXTF3TwxRqFpa",
      "include_colab_link": true
    },
    "kernelspec": {
      "name": "python3",
      "display_name": "Python 3"
    },
    "language_info": {
      "name": "python"
    }
  },
  "cells": [
    {
      "cell_type": "markdown",
      "metadata": {
        "id": "view-in-github",
        "colab_type": "text"
      },
      "source": [
        "<a href=\"https://colab.research.google.com/github/financieras/curso_python/blob/main/teoria/200_condicionales.ipynb\" target=\"_parent\"><img src=\"https://colab.research.google.com/assets/colab-badge.svg\" alt=\"Open In Colab\"/></a>"
      ]
    },
    {
      "cell_type": "markdown",
      "source": [
        "# Condicionales"
      ],
      "metadata": {
        "id": "Mz1l8h4WQ7bi"
      }
    },
    {
      "cell_type": "markdown",
      "source": [
        "## Condicional `if`\n",
        "* Redirigen el flujo del programa según se cumpla o no una condición.\n",
        "* El tabulador es importante."
      ],
      "metadata": {
        "id": "zNk4kDg2RJpX"
      }
    },
    {
      "cell_type": "code",
      "source": [
        "edad = 19\n",
        "\n",
        "if edad >= 18:\n",
        "    print(\"Eres mayor de edad\")"
      ],
      "metadata": {
        "colab": {
          "base_uri": "https://localhost:8080/"
        },
        "id": "iDcGOFwVRdWy",
        "outputId": "62155421-b9f0-4a17-ceec-20286a5cae58"
      },
      "execution_count": null,
      "outputs": [
        {
          "output_type": "stream",
          "name": "stdout",
          "text": [
            "Eres mayor de edad\n"
          ]
        }
      ]
    },
    {
      "cell_type": "code",
      "execution_count": null,
      "metadata": {
        "colab": {
          "base_uri": "https://localhost:8080/"
        },
        "id": "qzO-f754Q6r8",
        "outputId": "dd0b91ea-a0e3-41d2-df1f-63fb92253468"
      },
      "outputs": [
        {
          "output_type": "stream",
          "name": "stdout",
          "text": [
            "Tienes dos hermanos\n",
            "Fin del programa\n"
          ]
        }
      ],
      "source": [
        "num_hermanos = 2\n",
        "\n",
        "if num_hermanos == 2:\n",
        "    print(\"Tienes dos hermanos\")\n",
        "\n",
        "print(\"Fin del programa\")"
      ]
    },
    {
      "cell_type": "code",
      "source": [
        "num_hermanos = 1\n",
        "\n",
        "if num_hermanos == 2:\n",
        "    print(\"Tienes dos hermanos\")    # si no se cumple la condición esto nunca se imprimirá\n",
        "\n",
        "print(\"Fin del programa\")"
      ],
      "metadata": {
        "id": "PwZI73jxRW4_",
        "colab": {
          "base_uri": "https://localhost:8080/"
        },
        "outputId": "50624b4a-c674-4639-8610-2a644f4a6ad6"
      },
      "execution_count": null,
      "outputs": [
        {
          "output_type": "stream",
          "name": "stdout",
          "text": [
            "Fin del programa\n"
          ]
        }
      ]
    },
    {
      "cell_type": "markdown",
      "source": [
        "## Condicional `if...else`"
      ],
      "metadata": {
        "id": "bXoUbTc4R6dd"
      }
    },
    {
      "cell_type": "code",
      "source": [
        "edad = 16\n",
        "\n",
        "if edad >= 18:\n",
        "    print(\"Eres mayor de edad\")\n",
        "else:\n",
        "    print(\"Aún no eres mayor de edad\")"
      ],
      "metadata": {
        "colab": {
          "base_uri": "https://localhost:8080/"
        },
        "id": "EaXDp49GRoRG",
        "outputId": "25ea9492-43f6-4f5a-84e8-e5dae6e9ec2f"
      },
      "execution_count": null,
      "outputs": [
        {
          "output_type": "stream",
          "name": "stdout",
          "text": [
            "Aún no eres mayor de edad\n"
          ]
        }
      ]
    },
    {
      "cell_type": "markdown",
      "source": [
        "## Condicional `if...elif...else`\n",
        "La palabra reservada `elif` es una abreviatura de *else if*"
      ],
      "metadata": {
        "id": "FQaFxf0tSB1k"
      }
    },
    {
      "cell_type": "code",
      "source": [
        "edad = 17\n",
        "\n",
        "if edad >= 18:\n",
        "    print(\"Eres mayor de edad\")\n",
        "elif edad == 17:\n",
        "    print(\"Ya falta poco para que seas mayor de edad\")\n",
        "else:\n",
        "    print(\"Aún no eres mayor de edad\")"
      ],
      "metadata": {
        "colab": {
          "base_uri": "https://localhost:8080/"
        },
        "id": "550JYtgKSJBL",
        "outputId": "47562b96-cd7b-4378-d804-f363d4e719e1"
      },
      "execution_count": null,
      "outputs": [
        {
          "output_type": "stream",
          "name": "stdout",
          "text": [
            "Ya falta poco para que seas mayor de edad\n"
          ]
        }
      ]
    },
    {
      "cell_type": "code",
      "source": [
        "print(\"Si su role es admin o ceo se le dará acceso\")\n",
        "role = input(\"Indique su role: \")\n",
        "\n",
        "if role.lower() == \"admin\" or role.lower() == \"ceo\":\n",
        "    print(\"Usted tiene acceso al sistema\")\n",
        "else:\n",
        "    print(\"No tiene el role necesario para acceder al sistema\")"
      ],
      "metadata": {
        "colab": {
          "base_uri": "https://localhost:8080/"
        },
        "id": "09V9KQ79Sr3v",
        "outputId": "859ff2e9-fa1a-498a-a1e3-c03f2e8fb786"
      },
      "execution_count": null,
      "outputs": [
        {
          "output_type": "stream",
          "name": "stdout",
          "text": [
            "Si su role es admin o ceo se le dará acceso\n",
            "Indique su role: CEO\n",
            "Usted tiene acceso al sistema\n"
          ]
        }
      ]
    },
    {
      "cell_type": "markdown",
      "source": [
        "## Condicionales anidados"
      ],
      "metadata": {
        "id": "j9fHmgJO_MaO"
      }
    },
    {
      "cell_type": "code",
      "source": [
        "nombre = \"Ana\"\n",
        "apellido = \"Ruiz\"\n",
        "\n",
        "if nombre == \"Ana\":\n",
        "    if apellido == \"Ruiz\":\n",
        "        print(\"Hola Ana Ruiz\")\n",
        "    else:\n",
        "        print(\"Tu no eres Ana Ruiz\")\n",
        "else:\n",
        "    print(\"Tu no eres Ana\")"
      ],
      "metadata": {
        "colab": {
          "base_uri": "https://localhost:8080/"
        },
        "id": "ip9u_CpU_Q1_",
        "outputId": "46831a16-ec00-498e-d8a2-94bb16687073"
      },
      "execution_count": null,
      "outputs": [
        {
          "output_type": "stream",
          "name": "stdout",
          "text": [
            "Hola Ana Ruiz\n"
          ]
        }
      ]
    },
    {
      "cell_type": "markdown",
      "source": [
        "## Usando operadores lógicos"
      ],
      "metadata": {
        "id": "rNtCCdqFAEKs"
      }
    },
    {
      "cell_type": "markdown",
      "source": [
        "### Ejemplo 1\n",
        "Usando `and` y otras alternativas."
      ],
      "metadata": {
        "id": "oQMhSeKEGbCu"
      }
    },
    {
      "cell_type": "markdown",
      "source": [
        "#### Método 1"
      ],
      "metadata": {
        "id": "lRZJdHlPAerQ"
      }
    },
    {
      "cell_type": "code",
      "source": [
        "x = 6\n",
        "if x >= 5:\n",
        "    if x <= 10:\n",
        "        print(f\"El valor de x es {x} que está entre 5 y 10\")"
      ],
      "metadata": {
        "colab": {
          "base_uri": "https://localhost:8080/"
        },
        "id": "17AJzAaMAi8T",
        "outputId": "a3bc7f49-c0a8-4941-8762-6ace9d58796d"
      },
      "execution_count": null,
      "outputs": [
        {
          "output_type": "stream",
          "name": "stdout",
          "text": [
            "El valor de x es 6 que está entre 5 y 10\n"
          ]
        }
      ]
    },
    {
      "cell_type": "markdown",
      "source": [
        "#### Método 2"
      ],
      "metadata": {
        "id": "a28Hd4UsA824"
      }
    },
    {
      "cell_type": "code",
      "source": [
        "x = 6\n",
        "if x >= 5 and x <= 10:\n",
        "    print(f\"El valor de x es {x} que está entre 5 y 10\")"
      ],
      "metadata": {
        "colab": {
          "base_uri": "https://localhost:8080/"
        },
        "id": "p8Ip5_3iA__x",
        "outputId": "9c47617a-8cf4-40e0-e9b5-a2ea9296aba7"
      },
      "execution_count": null,
      "outputs": [
        {
          "output_type": "stream",
          "name": "stdout",
          "text": [
            "El valor de x es 6 que está entre 5 y 10\n"
          ]
        }
      ]
    },
    {
      "cell_type": "markdown",
      "source": [
        "#### Método 3"
      ],
      "metadata": {
        "id": "uQXa7OB7BKC9"
      }
    },
    {
      "cell_type": "code",
      "source": [
        "x = 6\n",
        "if 5 <= x <= 10:\n",
        "    print(f\"El valor de x es {x} que está entre 5 y 10\")"
      ],
      "metadata": {
        "colab": {
          "base_uri": "https://localhost:8080/"
        },
        "id": "xgGaAapIBPKj",
        "outputId": "ea1755ce-e3b8-4307-f9ef-a2917484f12e"
      },
      "execution_count": null,
      "outputs": [
        {
          "output_type": "stream",
          "name": "stdout",
          "text": [
            "El valor de x es 6 que está entre 5 y 10\n"
          ]
        }
      ]
    },
    {
      "cell_type": "markdown",
      "source": [
        "### Ejemplo 2\n",
        "Podemos comparar varias condiciones usando `and`, usando `or` y usando `not`."
      ],
      "metadata": {
        "id": "M_nKjgu8GTmn"
      }
    },
    {
      "cell_type": "code",
      "source": [
        "temperatura = 4\n",
        "humedad = 35\n",
        "\n",
        "if 18 <= temperatura <= 26 and 40 <= humedad <= 70:\n",
        "    print(\"Estamos en el rango ideal de temperatura y humedad\")\n",
        "else:\n",
        "    if temperatura > 26 or humedad > 70:\n",
        "        print(\"Hemos superado el rango ideal o por temperatura o por humedad\")\n",
        "    elif not(temperatura > 10):\n",
        "        print(\"Hace frio, se necesita ropa de abrigo ya que estamos por debajo de 10°C\")\n",
        "    else:\n",
        "        print(\"Algo de frio\")"
      ],
      "metadata": {
        "colab": {
          "base_uri": "https://localhost:8080/"
        },
        "id": "YLwS__5RC229",
        "outputId": "8880c5b5-e2e9-40bd-da1d-f2b61f95633c"
      },
      "execution_count": null,
      "outputs": [
        {
          "output_type": "stream",
          "name": "stdout",
          "text": [
            "Hace frio, se necesita ropa de abrigo ya que estamos por debajo de 10°C\n"
          ]
        }
      ]
    },
    {
      "cell_type": "markdown",
      "source": [
        "## Ejercicios"
      ],
      "metadata": {
        "id": "WD7QU9JvTf3j"
      }
    },
    {
      "cell_type": "markdown",
      "source": [
        "#### *Ejercicio 1*\n",
        "Pide al usuario un número por teclado y di si el número introducido es par o impar."
      ],
      "metadata": {
        "id": "7aBxrUceTjMQ"
      }
    },
    {
      "cell_type": "markdown",
      "source": [
        "#### *Ejercicio 2*\n",
        "Establece la lógica del juego Piedra, Papel o Tijeras"
      ],
      "metadata": {
        "id": "Ymn6OVF-VA1X"
      }
    }
  ]
}