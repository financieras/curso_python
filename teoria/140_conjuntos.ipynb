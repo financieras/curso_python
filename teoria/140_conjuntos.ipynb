{
  "nbformat": 4,
  "nbformat_minor": 0,
  "metadata": {
    "colab": {
      "provenance": [],
      "authorship_tag": "ABX9TyPlUPe04TPLsxDYGN1/QCL8",
      "include_colab_link": true
    },
    "kernelspec": {
      "name": "python3",
      "display_name": "Python 3"
    },
    "language_info": {
      "name": "python"
    }
  },
  "cells": [
    {
      "cell_type": "markdown",
      "metadata": {
        "id": "view-in-github",
        "colab_type": "text"
      },
      "source": [
        "<a href=\"https://colab.research.google.com/github/financieras/curso_python/blob/main/140_conjuntos.ipynb\" target=\"_parent\"><img src=\"https://colab.research.google.com/assets/colab-badge.svg\" alt=\"Open In Colab\"/></a>"
      ]
    },
    {
      "cell_type": "markdown",
      "source": [
        "# Conjuntos `set`\n",
        "* Los conjuntos van entre llaves `{}`\n",
        "* Se pueden modificar\n",
        "* El orden no importa\n",
        "* No puede haber elementos repetidos"
      ],
      "metadata": {
        "id": "BQ-SLjpv-r2X"
      }
    },
    {
      "cell_type": "code",
      "execution_count": 1,
      "metadata": {
        "colab": {
          "base_uri": "https://localhost:8080/"
        },
        "id": "xs7rkEKt6fBz",
        "outputId": "eeeb1e89-5af0-4d9e-c0d6-dc39c22ccd28"
      },
      "outputs": [
        {
          "output_type": "stream",
          "name": "stdout",
          "text": [
            "{'a', 'o', 'i', 'u', 'e'}\n"
          ]
        },
        {
          "output_type": "execute_result",
          "data": {
            "text/plain": [
              "set"
            ]
          },
          "metadata": {},
          "execution_count": 1
        }
      ],
      "source": [
        "vocales = {'a', 'e', 'i', 'o', 'u'}\n",
        "print(vocales)\n",
        "type(vocales)"
      ]
    },
    {
      "cell_type": "code",
      "source": [
        "sabores = {'vainilla', 'nata', 'chocolate'}     # el orden no  importa\n",
        "sabores"
      ],
      "metadata": {
        "id": "athSnSBYqSBe",
        "outputId": "f8755403-287a-4458-f2ee-4b6e9bb66f66",
        "colab": {
          "base_uri": "https://localhost:8080/"
        }
      },
      "execution_count": 2,
      "outputs": [
        {
          "output_type": "execute_result",
          "data": {
            "text/plain": [
              "{'chocolate', 'nata', 'vainilla'}"
            ]
          },
          "metadata": {},
          "execution_count": 2
        }
      ]
    },
    {
      "cell_type": "markdown",
      "source": [
        "## Conjunto vacío\n",
        "* Hay que poner `set()`\n",
        "* Si ponemos `{}` Python pensará que se trata de un **diccionario vacío**.\n"
      ],
      "metadata": {
        "id": "sZiOe5T09Emc"
      }
    },
    {
      "cell_type": "code",
      "source": [
        "a = set()\n",
        "a"
      ],
      "metadata": {
        "colab": {
          "base_uri": "https://localhost:8080/"
        },
        "id": "RBOwd_qB9Kap",
        "outputId": "fdaff6ad-7318-4956-b534-6c9093017a6d"
      },
      "execution_count": 3,
      "outputs": [
        {
          "output_type": "execute_result",
          "data": {
            "text/plain": [
              "set()"
            ]
          },
          "metadata": {},
          "execution_count": 3
        }
      ]
    },
    {
      "cell_type": "code",
      "source": [
        "type(a)"
      ],
      "metadata": {
        "id": "qS_Y5LBvOB-q",
        "outputId": "ef500508-3750-4cea-e86f-a88a0efbd575",
        "colab": {
          "base_uri": "https://localhost:8080/"
        }
      },
      "execution_count": 4,
      "outputs": [
        {
          "output_type": "execute_result",
          "data": {
            "text/plain": [
              "set"
            ]
          },
          "metadata": {},
          "execution_count": 4
        }
      ]
    },
    {
      "cell_type": "markdown",
      "source": [
        "## Creación de un conjunto\n",
        "* Existen varias formas de crear un conjunto:\n",
        "    1. Con las llaves `{}`, como hemos visto antes\n",
        "    2. Con la palabra `set` partiendo de una lista o tupla\n",
        "    3. Con la palabra `set` partiendo de un string"
      ],
      "metadata": {
        "id": "5FgSiEYJ_rmA"
      }
    },
    {
      "cell_type": "markdown",
      "source": [
        "### Partiendo de una lista o tupla\n",
        "De lista a conjunto:"
      ],
      "metadata": {
        "id": "qSBl_WNiDURB"
      }
    },
    {
      "cell_type": "code",
      "source": [
        "sabores = set(['fresa', 'chocolate', 'vainilla', 'fresa'])\n",
        "sabores     # se elimina la repetición de elementos"
      ],
      "metadata": {
        "colab": {
          "base_uri": "https://localhost:8080/"
        },
        "id": "fIw_iSn3__rx",
        "outputId": "59a970bd-755e-4d1c-9bef-77fd5cbf1d5c"
      },
      "execution_count": 5,
      "outputs": [
        {
          "output_type": "execute_result",
          "data": {
            "text/plain": [
              "{'chocolate', 'fresa', 'vainilla'}"
            ]
          },
          "metadata": {},
          "execution_count": 5
        }
      ]
    },
    {
      "cell_type": "markdown",
      "source": [
        "### Partiendo de un string"
      ],
      "metadata": {
        "id": "zuof-p0rDYdP"
      }
    },
    {
      "cell_type": "code",
      "source": [
        "texto = 'banana'\n",
        "conjunto = set(texto)\n",
        "conjunto"
      ],
      "metadata": {
        "colab": {
          "base_uri": "https://localhost:8080/"
        },
        "id": "desQVYrgDcjM",
        "outputId": "caef0b7f-10be-4f06-a7fb-155604515b1e"
      },
      "execution_count": 6,
      "outputs": [
        {
          "output_type": "execute_result",
          "data": {
            "text/plain": [
              "{'a', 'b', 'n'}"
            ]
          },
          "metadata": {},
          "execution_count": 6
        }
      ]
    },
    {
      "cell_type": "markdown",
      "source": [
        "### Aleatorios sin repetición"
      ],
      "metadata": {
        "id": "BTknvPYCBJSz"
      }
    },
    {
      "cell_type": "code",
      "source": [
        "from random import randint\n",
        "\n",
        "lista = [randint(1,5), randint(1,5), randint(1,5), randint(1,5), randint(1,5)]\n",
        "print(\"Lista:    \", lista)\n",
        "\n",
        "conjunto = set(lista)\n",
        "print(\"Conjunto: \", conjunto)\n",
        "\n",
        "lista_sin_repetidos = list(conjunto)\n",
        "print(\"Sin repes:\", lista_sin_repetidos)"
      ],
      "metadata": {
        "colab": {
          "base_uri": "https://localhost:8080/"
        },
        "id": "EREInWIuBSDy",
        "outputId": "70f078bf-2639-4848-cd2c-517366c74fae"
      },
      "execution_count": 7,
      "outputs": [
        {
          "output_type": "stream",
          "name": "stdout",
          "text": [
            "Lista:     [1, 5, 5, 4, 4]\n",
            "Conjunto:  {1, 4, 5}\n",
            "Sin repes: [1, 4, 5]\n"
          ]
        }
      ]
    },
    {
      "cell_type": "markdown",
      "source": [
        "## Funciones y métodos\n",
        "* Podemos listar los métodos con los que trabajan las estructuras de datos con `dir`\n",
        "    - `dir([])` para listas\n",
        "    - `dir(())` para tuplas\n",
        "    - `dir({})` para diccionarios\n",
        "    - `dir({1,})` para conjuntos\n",
        "    - `dir(range(5))` para rangos"
      ],
      "metadata": {
        "id": "UBPpx8WKfHFe"
      }
    },
    {
      "cell_type": "code",
      "source": [
        "dir(set())"
      ],
      "metadata": {
        "id": "preOEnpZfKAH",
        "outputId": "52977fd4-2d81-43ca-fa98-3cbf81467eb5",
        "colab": {
          "base_uri": "https://localhost:8080/"
        }
      },
      "execution_count": 8,
      "outputs": [
        {
          "output_type": "execute_result",
          "data": {
            "text/plain": [
              "['__and__',\n",
              " '__class__',\n",
              " '__class_getitem__',\n",
              " '__contains__',\n",
              " '__delattr__',\n",
              " '__dir__',\n",
              " '__doc__',\n",
              " '__eq__',\n",
              " '__format__',\n",
              " '__ge__',\n",
              " '__getattribute__',\n",
              " '__gt__',\n",
              " '__hash__',\n",
              " '__iand__',\n",
              " '__init__',\n",
              " '__init_subclass__',\n",
              " '__ior__',\n",
              " '__isub__',\n",
              " '__iter__',\n",
              " '__ixor__',\n",
              " '__le__',\n",
              " '__len__',\n",
              " '__lt__',\n",
              " '__ne__',\n",
              " '__new__',\n",
              " '__or__',\n",
              " '__rand__',\n",
              " '__reduce__',\n",
              " '__reduce_ex__',\n",
              " '__repr__',\n",
              " '__ror__',\n",
              " '__rsub__',\n",
              " '__rxor__',\n",
              " '__setattr__',\n",
              " '__sizeof__',\n",
              " '__str__',\n",
              " '__sub__',\n",
              " '__subclasshook__',\n",
              " '__xor__',\n",
              " 'add',\n",
              " 'clear',\n",
              " 'copy',\n",
              " 'difference',\n",
              " 'difference_update',\n",
              " 'discard',\n",
              " 'intersection',\n",
              " 'intersection_update',\n",
              " 'isdisjoint',\n",
              " 'issubset',\n",
              " 'issuperset',\n",
              " 'pop',\n",
              " 'remove',\n",
              " 'symmetric_difference',\n",
              " 'symmetric_difference_update',\n",
              " 'union',\n",
              " 'update']"
            ]
          },
          "metadata": {},
          "execution_count": 8
        }
      ]
    },
    {
      "cell_type": "markdown",
      "source": [
        "### `len`\n",
        "Tamaño de un conjunto."
      ],
      "metadata": {
        "id": "P2mHIUqBEgdY"
      }
    },
    {
      "cell_type": "code",
      "source": [
        "paises = {'es', 'fr', 'it', 'gb'}\n",
        "len(conjunto)"
      ],
      "metadata": {
        "colab": {
          "base_uri": "https://localhost:8080/"
        },
        "id": "wuHrXBJaEmoh",
        "outputId": "31ee5ef5-5c38-418e-b0b7-fe0c44c8fd2a"
      },
      "execution_count": 9,
      "outputs": [
        {
          "output_type": "execute_result",
          "data": {
            "text/plain": [
              "3"
            ]
          },
          "metadata": {},
          "execution_count": 9
        }
      ]
    },
    {
      "cell_type": "markdown",
      "source": [
        "### `union`\n",
        "* Une dos conjuntos\n",
        "* El operador `+` no funciona con conjuntos"
      ],
      "metadata": {
        "id": "z-fSJTYPhKkZ"
      }
    },
    {
      "cell_type": "code",
      "source": [
        "vocales = {'e', 'a', 'e'}\n",
        "consonantes = {'b', 'd', 'c'}\n",
        "letras = vocales.union(consonantes)\n",
        "letras"
      ],
      "metadata": {
        "id": "ceybgw7VhO6L",
        "outputId": "a804e011-5723-4a2f-a4ca-12ebe659c3cb",
        "colab": {
          "base_uri": "https://localhost:8080/"
        }
      },
      "execution_count": 10,
      "outputs": [
        {
          "output_type": "execute_result",
          "data": {
            "text/plain": [
              "{'a', 'b', 'c', 'd', 'e'}"
            ]
          },
          "metadata": {},
          "execution_count": 10
        }
      ]
    },
    {
      "cell_type": "markdown",
      "source": [
        "### `in`\n",
        "Operador de pertenencia."
      ],
      "metadata": {
        "id": "Y8kT4nlsLam2"
      }
    },
    {
      "cell_type": "code",
      "source": [
        "sabores = {'vainilla', 'nata', 'chocolate'}\n",
        "'fresa' in sabores"
      ],
      "metadata": {
        "id": "X2E9j3KELhk4",
        "outputId": "ed8fa22d-8ef4-422c-8394-ef902581b667",
        "colab": {
          "base_uri": "https://localhost:8080/"
        }
      },
      "execution_count": 11,
      "outputs": [
        {
          "output_type": "execute_result",
          "data": {
            "text/plain": [
              "False"
            ]
          },
          "metadata": {},
          "execution_count": 11
        }
      ]
    },
    {
      "cell_type": "markdown",
      "source": [
        "### `add`\n",
        "* Para añadir elementos\n",
        "* Se añaden sin ningún orden\n",
        "* Si se intenta añadir un elemento que ya existe, no da error, pero no lo añade ya que no se aceptan duplicados"
      ],
      "metadata": {
        "id": "4Oazls60L3eK"
      }
    },
    {
      "cell_type": "code",
      "source": [
        "sabores.add('fresa')\n",
        "sabores"
      ],
      "metadata": {
        "id": "NFVcpzE3L7ku",
        "outputId": "42f174f2-fc3e-4bf9-8b04-326fa02128f6",
        "colab": {
          "base_uri": "https://localhost:8080/"
        }
      },
      "execution_count": 12,
      "outputs": [
        {
          "output_type": "execute_result",
          "data": {
            "text/plain": [
              "{'chocolate', 'fresa', 'nata', 'vainilla'}"
            ]
          },
          "metadata": {},
          "execution_count": 12
        }
      ]
    },
    {
      "cell_type": "markdown",
      "source": [
        "### `remove`\n",
        "Si el elemento no existe da error."
      ],
      "metadata": {
        "id": "qiBaDUIWMXqW"
      }
    },
    {
      "cell_type": "code",
      "source": [
        "sabores.remove('fresa')\n",
        "sabores"
      ],
      "metadata": {
        "id": "j74yJN0KMcMz",
        "outputId": "3a809589-4852-46ee-dd37-f9f12c39629c",
        "colab": {
          "base_uri": "https://localhost:8080/"
        }
      },
      "execution_count": 13,
      "outputs": [
        {
          "output_type": "execute_result",
          "data": {
            "text/plain": [
              "{'chocolate', 'nata', 'vainilla'}"
            ]
          },
          "metadata": {},
          "execution_count": 13
        }
      ]
    },
    {
      "cell_type": "code",
      "source": [
        "#sabores.remove('nuez')    # ¡¡¡ ERROR !!! al eliminar un elemento que no existe"
      ],
      "metadata": {
        "id": "SiJEDk_Es9wN"
      },
      "execution_count": 14,
      "outputs": []
    },
    {
      "cell_type": "markdown",
      "source": [
        "### `discard`\n",
        "* Eliminar elementos con `discard`\n",
        "* Si usamos `discard` para eliminar un elemento que no exite no da error"
      ],
      "metadata": {
        "id": "bpQ4m2lGJCpy"
      }
    },
    {
      "cell_type": "code",
      "source": [
        "sabores.discard('nuez')"
      ],
      "metadata": {
        "id": "9B4S221IJN3i"
      },
      "execution_count": 15,
      "outputs": []
    },
    {
      "cell_type": "markdown",
      "source": [
        "### `clear`\n",
        "Limpia completamente el conjunto."
      ],
      "metadata": {
        "id": "jzcv3f8rMq84"
      }
    },
    {
      "cell_type": "code",
      "source": [
        "sabores.clear()\n",
        "sabores             # set()  devuelve un conjunto vacío"
      ],
      "metadata": {
        "id": "z6Ne9uQ6MydB",
        "outputId": "6c30970e-46fc-4a72-f24e-56e629608f35",
        "colab": {
          "base_uri": "https://localhost:8080/"
        }
      },
      "execution_count": 16,
      "outputs": [
        {
          "output_type": "execute_result",
          "data": {
            "text/plain": [
              "set()"
            ]
          },
          "metadata": {},
          "execution_count": 16
        }
      ]
    },
    {
      "cell_type": "code",
      "source": [
        "type(sabores)"
      ],
      "metadata": {
        "id": "8OivulWOPDLk",
        "outputId": "183d7718-b30a-44b6-d33a-56066a02b2cc",
        "colab": {
          "base_uri": "https://localhost:8080/"
        }
      },
      "execution_count": 17,
      "outputs": [
        {
          "output_type": "execute_result",
          "data": {
            "text/plain": [
              "set"
            ]
          },
          "metadata": {},
          "execution_count": 17
        }
      ]
    },
    {
      "cell_type": "markdown",
      "source": [
        "### `del`\n",
        "Elimina completamente el objeto."
      ],
      "metadata": {
        "id": "zZSt5FsbTT6d"
      }
    },
    {
      "cell_type": "code",
      "source": [
        "del sabores\n",
        "#print(sabores)         # daría Error ya que el objeto no existe"
      ],
      "metadata": {
        "id": "hXCnrYMvTakJ"
      },
      "execution_count": 18,
      "outputs": []
    },
    {
      "cell_type": "markdown",
      "source": [
        "### `update`\n",
        "* Disponemos de un conjunto de paises `{'es', 'fr', 'gb', 'it', 'pt'}`\n",
        "* Usando `update()` añadimos otros paises:\n",
        "    1. Suiza ch\n",
        "    2. Suecia se\n",
        "    3. Alemania de\n",
        "    4. Austria at"
      ],
      "metadata": {
        "id": "XchXO-4PF0t3"
      }
    },
    {
      "cell_type": "code",
      "source": [
        "paises = {'es', 'fr', 'gb', 'it', 'pt'}\n",
        "paises.update({'ch', 'se', 'de', 'at'})\n",
        "paises"
      ],
      "metadata": {
        "colab": {
          "base_uri": "https://localhost:8080/"
        },
        "id": "krbhL1ZkGIbI",
        "outputId": "5d9f8357-0c21-4e7f-e4f9-fb89c557d03b"
      },
      "execution_count": 19,
      "outputs": [
        {
          "output_type": "execute_result",
          "data": {
            "text/plain": [
              "{'at', 'ch', 'de', 'es', 'fr', 'gb', 'it', 'pt', 'se'}"
            ]
          },
          "metadata": {},
          "execution_count": 19
        }
      ]
    },
    {
      "cell_type": "markdown",
      "source": [
        "### `union`\n",
        "* Unión de conjuntos\n",
        "* Se puede lograr de dos formas:\n",
        "    1. Usando el método `union()`\n",
        "    2. Usando el operador de unión `|`"
      ],
      "metadata": {
        "id": "rI1EEFHSKDP8"
      }
    },
    {
      "cell_type": "code",
      "source": [
        "paises_A = {'es', 'fr', 'it'}\n",
        "paises_B = {'de', 'it'}                 # Italia está en los dos conjuntos\n",
        "resultado = paises_A.union(paises_B)    # usando el método union\n",
        "resultado                               # no se repite Italia"
      ],
      "metadata": {
        "colab": {
          "base_uri": "https://localhost:8080/"
        },
        "id": "mwNcYpRpKHeQ",
        "outputId": "b335e7e4-8cb5-4c7e-e00c-e30ad3515cef"
      },
      "execution_count": 20,
      "outputs": [
        {
          "output_type": "execute_result",
          "data": {
            "text/plain": [
              "{'de', 'es', 'fr', 'it'}"
            ]
          },
          "metadata": {},
          "execution_count": 20
        }
      ]
    },
    {
      "cell_type": "code",
      "source": [
        "paises_A = {'es', 'fr', 'it'}\n",
        "paises_B = {'de', 'it'}\n",
        "resultado = paises_A | paises_B         # usando el operador de unición |\n",
        "resultado"
      ],
      "metadata": {
        "id": "ENf2xd_b7TAl",
        "outputId": "da7d5c6a-fef8-42a0-c728-ecc112975db8",
        "colab": {
          "base_uri": "https://localhost:8080/"
        }
      },
      "execution_count": 21,
      "outputs": [
        {
          "output_type": "execute_result",
          "data": {
            "text/plain": [
              "{'de', 'es', 'fr', 'it'}"
            ]
          },
          "metadata": {},
          "execution_count": 21
        }
      ]
    },
    {
      "cell_type": "markdown",
      "source": [
        "### `intersection`\n",
        "* Intersección de conjuntos\n",
        "* Dos formas de conseguirlo:\n",
        "    1. Con el método `intersection`\n",
        "    2. Con el operador `&`"
      ],
      "metadata": {
        "id": "0vdWHOcV8rlC"
      }
    },
    {
      "cell_type": "code",
      "source": [
        "paises_A = {'es', 'fr', 'it'}\n",
        "paises_B = {'de', 'it'}                     # Italia está en los dos conjuntos\n",
        "resultado = paises_A.intersection(paises_B) # usando el método intersection\n",
        "resultado                                   # Italia es el único que estaba repetido"
      ],
      "metadata": {
        "id": "fOGMp_hP84M3",
        "outputId": "ace9c9dc-5b89-4f05-a965-39f4ca15b750",
        "colab": {
          "base_uri": "https://localhost:8080/"
        }
      },
      "execution_count": 22,
      "outputs": [
        {
          "output_type": "execute_result",
          "data": {
            "text/plain": [
              "{'it'}"
            ]
          },
          "metadata": {},
          "execution_count": 22
        }
      ]
    },
    {
      "cell_type": "code",
      "source": [
        "paises_A = {'es', 'fr', 'it'}\n",
        "paises_B = {'de', 'it'}\n",
        "resultado = paises_A & paises_B         # usando el operador de intersección &\n",
        "resultado"
      ],
      "metadata": {
        "id": "SPchrDXB9VcJ",
        "outputId": "83d364eb-ecf0-4148-e178-8efff5bc152c",
        "colab": {
          "base_uri": "https://localhost:8080/"
        }
      },
      "execution_count": 23,
      "outputs": [
        {
          "output_type": "execute_result",
          "data": {
            "text/plain": [
              "{'it'}"
            ]
          },
          "metadata": {},
          "execution_count": 23
        }
      ]
    },
    {
      "cell_type": "markdown",
      "source": [
        "### `difference`\n",
        "* Diferencia de conjuntos\n",
        "* La diferencia del conjunto `A` menos `B`, denotado por `A – B`, es el conjunto formado por los elementos que estén en `A` y no en `B`.\n",
        "* Podemos decir que los elementos de la diferencia de `A` con `B` son aquéllos que estén únicamente en `A`."
      ],
      "metadata": {
        "id": "egwYwGsh9jUe"
      }
    },
    {
      "cell_type": "code",
      "source": [
        "paises_A = {'es', 'fr', 'it'}\n",
        "paises_B = {'de', 'it'}\n",
        "resultado = paises_A.difference(paises_B)   # usando el método difference\n",
        "resultado                                   # paises exclusivos de A"
      ],
      "metadata": {
        "id": "xciFrHNo9l4K",
        "outputId": "ea1bee21-ec68-4c9e-9e7c-683905d6e417",
        "colab": {
          "base_uri": "https://localhost:8080/"
        }
      },
      "execution_count": 24,
      "outputs": [
        {
          "output_type": "execute_result",
          "data": {
            "text/plain": [
              "{'es', 'fr'}"
            ]
          },
          "metadata": {},
          "execution_count": 24
        }
      ]
    },
    {
      "cell_type": "code",
      "source": [
        "paises_A = {'es', 'fr', 'it'}\n",
        "paises_B = {'de', 'it'}\n",
        "resultado = paises_A - paises_B         # usando el operador de diferencia -\n",
        "resultado                               # paises exclusivos de A"
      ],
      "metadata": {
        "id": "VLVaP3Fx-7eV",
        "outputId": "a8b97b06-6b37-4a4e-d7b4-65f03a7fde58",
        "colab": {
          "base_uri": "https://localhost:8080/"
        }
      },
      "execution_count": 25,
      "outputs": [
        {
          "output_type": "execute_result",
          "data": {
            "text/plain": [
              "{'es', 'fr'}"
            ]
          },
          "metadata": {},
          "execution_count": 25
        }
      ]
    },
    {
      "cell_type": "markdown",
      "source": [
        "### `symmetric_difference`\n",
        "* Diferencia simétrica\n",
        "* La diferencia simétrica de dos conjuntos es el conjunto cuyos elementos son aquellos que pertenecen a alguno de los conjuntos iniciales, sin pertenecer a ambos a la vez.\n",
        "\n",
        "A ∆ B = {x / x Є (A U B) ꓥ x Є (A ∩ B)}\n",
        "\n",
        "Se cumple que:\n",
        "\n",
        "1. A Δ B = (A – B) U (B – A), o bien\n",
        "2. A Δ B = (A U B) U (A ∩ B)"
      ],
      "metadata": {
        "id": "wo95fyKe_Nwn"
      }
    },
    {
      "cell_type": "code",
      "source": [
        "paises_A = {'es', 'fr', 'it'}\n",
        "paises_B = {'de', 'it'}\n",
        "resultado = paises_A.symmetric_difference(paises_B)     # usando el método symmetric_difference\n",
        "resultado                                               # todos los paises de A y B quitando los de la intersección"
      ],
      "metadata": {
        "id": "v-rhrUHm_lgA",
        "outputId": "71cbac4e-5ff0-43cc-dff8-90a143c9e020",
        "colab": {
          "base_uri": "https://localhost:8080/"
        }
      },
      "execution_count": 26,
      "outputs": [
        {
          "output_type": "execute_result",
          "data": {
            "text/plain": [
              "{'de', 'es', 'fr'}"
            ]
          },
          "metadata": {},
          "execution_count": 26
        }
      ]
    },
    {
      "cell_type": "code",
      "source": [
        "paises_A = {'es', 'fr', 'it'}\n",
        "paises_B = {'de', 'it'}\n",
        "resultado = paises_A ^ paises_B         # usando el operador de diferencia simétrica ^\n",
        "resultado                               # todos los paises de A y B salvo la intersección"
      ],
      "metadata": {
        "id": "ccXS1mFLBHQ3",
        "outputId": "6b8ca7a6-724e-4e98-9777-595e41e31beb",
        "colab": {
          "base_uri": "https://localhost:8080/"
        }
      },
      "execution_count": 27,
      "outputs": [
        {
          "output_type": "execute_result",
          "data": {
            "text/plain": [
              "{'de', 'es', 'fr'}"
            ]
          },
          "metadata": {},
          "execution_count": 27
        }
      ]
    }
  ]
}