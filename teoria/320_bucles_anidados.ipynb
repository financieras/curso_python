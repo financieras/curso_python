{
  "nbformat": 4,
  "nbformat_minor": 0,
  "metadata": {
    "colab": {
      "provenance": [],
      "authorship_tag": "ABX9TyO7zPZ3s76WDzO9b/AW6xCc",
      "include_colab_link": true
    },
    "kernelspec": {
      "name": "python3",
      "display_name": "Python 3"
    },
    "language_info": {
      "name": "python"
    }
  },
  "cells": [
    {
      "cell_type": "markdown",
      "metadata": {
        "id": "view-in-github",
        "colab_type": "text"
      },
      "source": [
        "<a href=\"https://colab.research.google.com/github/financieras/curso_python/blob/main/320_bucles_anidados.ipynb\" target=\"_parent\"><img src=\"https://colab.research.google.com/assets/colab-badge.svg\" alt=\"Open In Colab\"/></a>"
      ]
    },
    {
      "cell_type": "markdown",
      "source": [
        "# Bucles anidados"
      ],
      "metadata": {
        "id": "s3nc3GlIXwgH"
      }
    },
    {
      "cell_type": "code",
      "execution_count": 1,
      "metadata": {
        "colab": {
          "base_uri": "https://localhost:8080/"
        },
        "id": "zDA0N3pFXvPf",
        "outputId": "6e6b12ce-ed5f-4747-8191-577486e41bde"
      },
      "outputs": [
        {
          "output_type": "execute_result",
          "data": {
            "text/plain": [
              "[[1, 2, 3], [4, 5, 6], [7, 8, 9]]"
            ]
          },
          "metadata": {},
          "execution_count": 1
        }
      ],
      "source": [
        "matriz = [[1, 2, 3],\n",
        "          [4, 5, 6],\n",
        "          [7, 8, 9]]\n",
        "\n",
        "matriz"
      ]
    },
    {
      "cell_type": "code",
      "source": [
        "print(matriz[0])"
      ],
      "metadata": {
        "colab": {
          "base_uri": "https://localhost:8080/"
        },
        "id": "4WAz-plAYSt7",
        "outputId": "a38d20bc-2790-4d79-91a0-45c56f9ee556"
      },
      "execution_count": 2,
      "outputs": [
        {
          "output_type": "stream",
          "name": "stdout",
          "text": [
            "[1, 2, 3]\n"
          ]
        }
      ]
    },
    {
      "cell_type": "code",
      "source": [
        "print(matriz[0][2])"
      ],
      "metadata": {
        "colab": {
          "base_uri": "https://localhost:8080/"
        },
        "id": "C9pg2LM9YW7K",
        "outputId": "6767f450-4f81-42d6-e90a-e05f724b71e8"
      },
      "execution_count": 3,
      "outputs": [
        {
          "output_type": "stream",
          "name": "stdout",
          "text": [
            "3\n"
          ]
        }
      ]
    },
    {
      "cell_type": "code",
      "source": [
        "for fila in matriz:\n",
        "    print(fila)"
      ],
      "metadata": {
        "colab": {
          "base_uri": "https://localhost:8080/"
        },
        "id": "tE0wPVbuYwGW",
        "outputId": "1562c937-c8bb-4774-8abf-08ebdeff00d1"
      },
      "execution_count": 4,
      "outputs": [
        {
          "output_type": "stream",
          "name": "stdout",
          "text": [
            "[1, 2, 3]\n",
            "[4, 5, 6]\n",
            "[7, 8, 9]\n"
          ]
        }
      ]
    },
    {
      "cell_type": "code",
      "source": [
        "for fila in matriz:\n",
        "    print()\n",
        "    for elemento in fila:\n",
        "        print(elemento, end=' ')"
      ],
      "metadata": {
        "colab": {
          "base_uri": "https://localhost:8080/"
        },
        "id": "rRgcrKkNY0mG",
        "outputId": "166799fc-2d8b-4a76-d3d5-b4826766c819"
      },
      "execution_count": 11,
      "outputs": [
        {
          "output_type": "stream",
          "name": "stdout",
          "text": [
            "\n",
            "1 2 3 \n",
            "4 5 6 \n",
            "7 8 9 "
          ]
        }
      ]
    },
    {
      "cell_type": "code",
      "source": [
        "for row in matriz:\n",
        "    print(*row)         # el operador * desempaqueta"
      ],
      "metadata": {
        "colab": {
          "base_uri": "https://localhost:8080/"
        },
        "id": "3JyKcWa5aGuX",
        "outputId": "31c4d07e-1412-4a97-aab5-b50d1eaafdfb"
      },
      "execution_count": 12,
      "outputs": [
        {
          "output_type": "stream",
          "name": "stdout",
          "text": [
            "1 2 3\n",
            "4 5 6\n",
            "7 8 9\n"
          ]
        }
      ]
    }
  ]
}