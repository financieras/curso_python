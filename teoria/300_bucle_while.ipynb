{
  "nbformat": 4,
  "nbformat_minor": 0,
  "metadata": {
    "colab": {
      "provenance": [],
      "authorship_tag": "ABX9TyPvzUs5t6bogbHgQ8+oRXam",
      "include_colab_link": true
    },
    "kernelspec": {
      "name": "python3",
      "display_name": "Python 3"
    },
    "language_info": {
      "name": "python"
    }
  },
  "cells": [
    {
      "cell_type": "markdown",
      "metadata": {
        "id": "view-in-github",
        "colab_type": "text"
      },
      "source": [
        "<a href=\"https://colab.research.google.com/github/financieras/curso_python/blob/main/teoria/300_bucle_while.ipynb\" target=\"_parent\"><img src=\"https://colab.research.google.com/assets/colab-badge.svg\" alt=\"Open In Colab\"/></a>"
      ]
    },
    {
      "cell_type": "markdown",
      "source": [
        "# Bucle `while`\n",
        "\n",
        "<pre>\n",
        "while condición:\n",
        "    instrucciones\n",
        "</pre>\n",
        "\n",
        "* El tabulador es importante.\n",
        "* Las estructuras en Python requieren indentación"
      ],
      "metadata": {
        "id": "4CinPjXaII1N"
      }
    },
    {
      "cell_type": "code",
      "source": [
        "i = 0\n",
        "\n",
        "while i < 5:\n",
        "    print(i, \"Hola\")\n",
        "    i += 1"
      ],
      "metadata": {
        "colab": {
          "base_uri": "https://localhost:8080/"
        },
        "id": "Uu-1btI_IOss",
        "outputId": "19cc5fbf-5f5e-4957-fd56-71789e5490af"
      },
      "execution_count": null,
      "outputs": [
        {
          "output_type": "stream",
          "name": "stdout",
          "text": [
            "0 Hola\n",
            "1 Hola\n",
            "2 Hola\n",
            "3 Hola\n",
            "4 Hola\n"
          ]
        }
      ]
    },
    {
      "cell_type": "markdown",
      "source": [
        "## Imprimir los elemento de una lista"
      ],
      "metadata": {
        "id": "O1vs3Nh0Hw7-"
      }
    },
    {
      "cell_type": "code",
      "source": [
        "ciudades = ['Tokyo', 'Delhi', 'Shanghái', 'Daca', 'São Paulo', 'Ciudad de México', 'El Cairo', 'Pekín', 'Bombay', 'Osaka']\n",
        "\n",
        "n = len(ciudades)\n",
        "i = 0               # contador. Los index comienzan en cero\n",
        "\n",
        "print(f\"Las {n} ciudades más pobladas del mundo:\")\n",
        "\n",
        "while i < n:\n",
        "    print(f\"{i+1:2d}. {ciudades[i]}\")\n",
        "    i += 1          # incrementamos el valor del contador de 1 en 1"
      ],
      "metadata": {
        "id": "Ql-yk5kbH2oT",
        "outputId": "4779de73-7892-4900-edc0-32df73c4b831",
        "colab": {
          "base_uri": "https://localhost:8080/"
        }
      },
      "execution_count": null,
      "outputs": [
        {
          "output_type": "stream",
          "name": "stdout",
          "text": [
            "Las 10 ciudades más pobladas del mundo:\n",
            " 1. Tokyo\n",
            " 2. Delhi\n",
            " 3. Shanghái\n",
            " 4. Daca\n",
            " 5. São Paulo\n",
            " 6. Ciudad de México\n",
            " 7. El Cairo\n",
            " 8. Pekín\n",
            " 9. Bombay\n",
            "10. Osaka\n"
          ]
        }
      ]
    },
    {
      "cell_type": "markdown",
      "source": [
        "## Detener el bucle ante una condición con `break`"
      ],
      "metadata": {
        "id": "GufD_TZ1K5yJ"
      }
    },
    {
      "cell_type": "code",
      "source": [
        "counter = 0\n",
        "\n",
        "while counter < 10:\n",
        "    counter += 1\n",
        "    print(counter)"
      ],
      "metadata": {
        "colab": {
          "base_uri": "https://localhost:8080/"
        },
        "id": "AvE4e5vbLApt",
        "outputId": "7b40fd1c-8a65-448e-fa5e-596e000ddd11"
      },
      "execution_count": null,
      "outputs": [
        {
          "output_type": "stream",
          "name": "stdout",
          "text": [
            "1\n",
            "2\n",
            "3\n",
            "4\n",
            "5\n",
            "6\n",
            "7\n",
            "8\n",
            "9\n",
            "10\n"
          ]
        }
      ]
    },
    {
      "cell_type": "code",
      "source": [
        "counter = 0\n",
        "\n",
        "while counter < 10:\n",
        "    counter += 1\n",
        "    print(counter)\n",
        "    if counter == 5:\n",
        "        break"
      ],
      "metadata": {
        "colab": {
          "base_uri": "https://localhost:8080/"
        },
        "id": "9OrToS6QLTpr",
        "outputId": "0ac7f251-7a83-4f5c-ac2b-eca9917d27aa"
      },
      "execution_count": null,
      "outputs": [
        {
          "output_type": "stream",
          "name": "stdout",
          "text": [
            "1\n",
            "2\n",
            "3\n",
            "4\n",
            "5\n"
          ]
        }
      ]
    },
    {
      "cell_type": "markdown",
      "source": [
        "## Saltar instrucciones con `continue`"
      ],
      "metadata": {
        "id": "K1gbaBcMMD16"
      }
    },
    {
      "cell_type": "code",
      "source": [
        "i = 0\n",
        "\n",
        "while i <= 10:\n",
        "    i += 1\n",
        "    if i % 2:       # la condición es True si i es impar\n",
        "        continue    # no sigue ejecutando las instrucciones de abajo\n",
        "    print(i)"
      ],
      "metadata": {
        "colab": {
          "base_uri": "https://localhost:8080/"
        },
        "id": "-6NIkt7pMMdz",
        "outputId": "3a9c47b3-4e21-4f0a-b57c-b71fa4538164"
      },
      "execution_count": null,
      "outputs": [
        {
          "output_type": "stream",
          "name": "stdout",
          "text": [
            "2\n",
            "4\n",
            "6\n",
            "8\n",
            "10\n"
          ]
        }
      ]
    }
  ]
}