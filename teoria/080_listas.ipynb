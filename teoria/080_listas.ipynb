{
  "nbformat": 4,
  "nbformat_minor": 0,
  "metadata": {
    "colab": {
      "provenance": [],
      "authorship_tag": "ABX9TyOdrqqAz4NN6ejBzMeeH5rS",
      "include_colab_link": true
    },
    "kernelspec": {
      "name": "python3",
      "display_name": "Python 3"
    },
    "language_info": {
      "name": "python"
    }
  },
  "cells": [
    {
      "cell_type": "markdown",
      "metadata": {
        "id": "view-in-github",
        "colab_type": "text"
      },
      "source": [
        "<a href=\"https://colab.research.google.com/github/financieras/curso_python/blob/main/teoria/080_listas.ipynb\" target=\"_parent\"><img src=\"https://colab.research.google.com/assets/colab-badge.svg\" alt=\"Open In Colab\"/></a>"
      ]
    },
    {
      "cell_type": "markdown",
      "source": [
        "# Listas\n",
        "* Es una colección de elementos que va entre corchetes `[ ]`\n",
        "* El orden si importa\n",
        "* También se llaman arrays, vectores o arreglos\n"
      ],
      "metadata": {
        "id": "qJyPn-1n4m6b"
      }
    },
    {
      "cell_type": "code",
      "execution_count": null,
      "metadata": {
        "colab": {
          "base_uri": "https://localhost:8080/"
        },
        "id": "bE7XyEpy4fsF",
        "outputId": "d4ad503d-f055-419b-c8ae-f74b9ebcf629"
      },
      "outputs": [
        {
          "output_type": "execute_result",
          "data": {
            "text/plain": [
              "[]"
            ]
          },
          "metadata": {},
          "execution_count": 1
        }
      ],
      "source": [
        "[]              # lista vacía"
      ]
    },
    {
      "cell_type": "markdown",
      "source": [
        "Las listas pueden contener diferentes tipos de datos."
      ],
      "metadata": {
        "id": "cQM3q195HPRt"
      }
    },
    {
      "cell_type": "code",
      "source": [
        "[10 , 15, 12]   # lista de números enteros"
      ],
      "metadata": {
        "colab": {
          "base_uri": "https://localhost:8080/"
        },
        "id": "LVCVtn9-5GWt",
        "outputId": "ed44b35d-6e35-4545-b756-a981cdf6032b"
      },
      "execution_count": null,
      "outputs": [
        {
          "output_type": "execute_result",
          "data": {
            "text/plain": [
              "[10, 15, 12]"
            ]
          },
          "metadata": {},
          "execution_count": 2
        }
      ]
    },
    {
      "cell_type": "code",
      "source": [
        "# lista de strings\n",
        "estaciones = ['primavera', 'verano', 'otoño', 'invierno']\n",
        "print(estaciones)"
      ],
      "metadata": {
        "colab": {
          "base_uri": "https://localhost:8080/"
        },
        "id": "dqdIflpG5RMh",
        "outputId": "d38f9471-c610-4471-dc3b-61f5e3888ad0"
      },
      "execution_count": null,
      "outputs": [
        {
          "output_type": "stream",
          "name": "stdout",
          "text": [
            "['primavera', 'verano', 'otoño', 'invierno']\n"
          ]
        }
      ]
    },
    {
      "cell_type": "markdown",
      "source": [
        "* Puede haber mezcla de tipo de datos\n",
        "* Incluso una lista puede contener a otras listas"
      ],
      "metadata": {
        "id": "HwWZBU2gHdiI"
      }
    },
    {
      "cell_type": "code",
      "source": [
        "deportista = [\"Ana\", 18, 1.78, True, ['vallas', 'pértiga']]\n",
        "print(deportista)"
      ],
      "metadata": {
        "colab": {
          "base_uri": "https://localhost:8080/"
        },
        "id": "VGo9nqX7HcAP",
        "outputId": "1e336210-3a99-4d02-c525-26961dec52e4"
      },
      "execution_count": null,
      "outputs": [
        {
          "output_type": "stream",
          "name": "stdout",
          "text": [
            "['Ana', 18, 1.78, True, ['vallas', 'pértiga']]\n"
          ]
        }
      ]
    },
    {
      "cell_type": "markdown",
      "source": [
        "## Inicializar una lista con ceros"
      ],
      "metadata": {
        "id": "diS3AE0jADx6"
      }
    },
    {
      "cell_type": "code",
      "source": [
        "ceros = [0] * 10\n",
        "ceros"
      ],
      "metadata": {
        "colab": {
          "base_uri": "https://localhost:8080/"
        },
        "id": "xRkFI4uiAHT0",
        "outputId": "a3c6b11e-2222-43c1-a148-2c858a275be5"
      },
      "execution_count": null,
      "outputs": [
        {
          "output_type": "execute_result",
          "data": {
            "text/plain": [
              "[0, 0, 0, 0, 0, 0, 0, 0, 0, 0]"
            ]
          },
          "metadata": {},
          "execution_count": 5
        }
      ]
    },
    {
      "cell_type": "markdown",
      "source": [
        "## Indexing\n",
        "* Índices de una lista\n",
        "* El index siempre comienza por cero."
      ],
      "metadata": {
        "id": "WEd4M3bX5o9O"
      }
    },
    {
      "cell_type": "code",
      "source": [
        "estaciones = ['primavera', 'verano', 'otoño', 'invierno']\n",
        "print(estaciones[0])\n",
        "print(estaciones[1])\n",
        "print(estaciones[2])\n",
        "print(estaciones[3])\n",
        "print(estaciones[-1])       # último elemento de la lista"
      ],
      "metadata": {
        "colab": {
          "base_uri": "https://localhost:8080/"
        },
        "id": "5p4hCiUB5vEJ",
        "outputId": "4eb34958-310c-4195-a146-e7e87096e8d5"
      },
      "execution_count": null,
      "outputs": [
        {
          "output_type": "stream",
          "name": "stdout",
          "text": [
            "primavera\n",
            "verano\n",
            "otoño\n",
            "invierno\n",
            "invierno\n"
          ]
        }
      ]
    },
    {
      "cell_type": "code",
      "source": [
        "deportista = [\"Ana\", 18, 1.78, True, ['vallas', 'pértiga']]\n",
        "deportista[4][1]    # buscando un elemento en una lista dentro de otra lista"
      ],
      "metadata": {
        "colab": {
          "base_uri": "https://localhost:8080/",
          "height": 35
        },
        "id": "_djLjVvQIWk3",
        "outputId": "928c82f5-a9cd-4043-f9c2-fecd3a9f1293"
      },
      "execution_count": null,
      "outputs": [
        {
          "output_type": "execute_result",
          "data": {
            "text/plain": [
              "'pértiga'"
            ],
            "application/vnd.google.colaboratory.intrinsic+json": {
              "type": "string"
            }
          },
          "metadata": {},
          "execution_count": 7
        }
      ]
    },
    {
      "cell_type": "markdown",
      "source": [
        "Caracteres de escape:\n",
        "\n",
        "* `\\t` es un tabulador\n",
        "* `\\n` es una nueva línea, es la abreviatura de *new line*"
      ],
      "metadata": {
        "id": "3cU5B5hY5EHd"
      }
    },
    {
      "cell_type": "code",
      "source": [
        "print(\"Datos de la deportista\".upper())\n",
        "print(\"\\tNombre:\", deportista[0])\n",
        "print(\"\\tEdad:\", deportista[1])\n",
        "print(\"\\tAltura:\", deportista[2])\n",
        "print(\"\\tFederada:\", deportista[3])\n",
        "print(f\"\\tEspecialidades: {deportista[-1]}\")"
      ],
      "metadata": {
        "colab": {
          "base_uri": "https://localhost:8080/"
        },
        "id": "dUjy_aLl4DW0",
        "outputId": "4270025a-70ab-4c32-ed5a-7b7521ed2598"
      },
      "execution_count": null,
      "outputs": [
        {
          "output_type": "stream",
          "name": "stdout",
          "text": [
            "DATOS DE LA DEPORTISTA\n",
            "\tNombre: Ana\n",
            "\tEdad: 18\n",
            "\tAltura: 1.78\n",
            "\tFederada: True\n",
            "\tEspecialidades: ['vallas', 'pértiga']\n"
          ]
        }
      ]
    },
    {
      "cell_type": "markdown",
      "source": [
        "## Slicing"
      ],
      "metadata": {
        "id": "lBojms2w68cL"
      }
    },
    {
      "cell_type": "code",
      "source": [
        "meses = ['Ene', 'Feb', 'Mar', 'Abr', 'May', 'Jun', 'Jul', 'Ago', 'Sep', 'Oct', 'Non', 'Dic']\n",
        "meses[2:5]"
      ],
      "metadata": {
        "colab": {
          "base_uri": "https://localhost:8080/"
        },
        "id": "xL2XdZ2D7DaF",
        "outputId": "16bf1b0b-039f-41fe-90c7-07ed86033a90"
      },
      "execution_count": null,
      "outputs": [
        {
          "output_type": "execute_result",
          "data": {
            "text/plain": [
              "['Mar', 'Abr', 'May']"
            ]
          },
          "metadata": {},
          "execution_count": 9
        }
      ]
    },
    {
      "cell_type": "code",
      "source": [
        "meses[:3]"
      ],
      "metadata": {
        "colab": {
          "base_uri": "https://localhost:8080/"
        },
        "id": "nNvwbVXW7epR",
        "outputId": "413364a9-c9e0-4fca-9b89-ac8c9fefd728"
      },
      "execution_count": null,
      "outputs": [
        {
          "output_type": "execute_result",
          "data": {
            "text/plain": [
              "['Ene', 'Feb', 'Mar']"
            ]
          },
          "metadata": {},
          "execution_count": 10
        }
      ]
    },
    {
      "cell_type": "code",
      "source": [
        "meses[3:]"
      ],
      "metadata": {
        "colab": {
          "base_uri": "https://localhost:8080/"
        },
        "id": "PqF54OxC7p79",
        "outputId": "7681e1fe-9e0b-44ec-902e-c02fd2a75f5e"
      },
      "execution_count": null,
      "outputs": [
        {
          "output_type": "execute_result",
          "data": {
            "text/plain": [
              "['Abr', 'May', 'Jun', 'Jul', 'Ago', 'Sep', 'Oct', 'Non', 'Dic']"
            ]
          },
          "metadata": {},
          "execution_count": 11
        }
      ]
    },
    {
      "cell_type": "code",
      "source": [
        "meses[1:9:3]"
      ],
      "metadata": {
        "colab": {
          "base_uri": "https://localhost:8080/"
        },
        "id": "UM59X64lKR8B",
        "outputId": "c5ff9ebf-5f89-42a7-b24c-dbc6066ea371"
      },
      "execution_count": null,
      "outputs": [
        {
          "output_type": "execute_result",
          "data": {
            "text/plain": [
              "['Feb', 'May', 'Ago']"
            ]
          },
          "metadata": {},
          "execution_count": 12
        }
      ]
    },
    {
      "cell_type": "code",
      "source": [
        "meses[::-3]"
      ],
      "metadata": {
        "colab": {
          "base_uri": "https://localhost:8080/"
        },
        "id": "dEZdwMfsKajm",
        "outputId": "734079f1-e332-4c67-9242-14acee0a93d9"
      },
      "execution_count": null,
      "outputs": [
        {
          "output_type": "execute_result",
          "data": {
            "text/plain": [
              "['Dic', 'Sep', 'Jun', 'Mar']"
            ]
          },
          "metadata": {},
          "execution_count": 13
        }
      ]
    },
    {
      "cell_type": "code",
      "source": [
        "meses[:]"
      ],
      "metadata": {
        "colab": {
          "base_uri": "https://localhost:8080/"
        },
        "id": "EKBvV5_X76Os",
        "outputId": "28fae044-a22b-4cc8-f1e5-25bb7b89fa67"
      },
      "execution_count": null,
      "outputs": [
        {
          "output_type": "execute_result",
          "data": {
            "text/plain": [
              "['Ene',\n",
              " 'Feb',\n",
              " 'Mar',\n",
              " 'Abr',\n",
              " 'May',\n",
              " 'Jun',\n",
              " 'Jul',\n",
              " 'Ago',\n",
              " 'Sep',\n",
              " 'Oct',\n",
              " 'Non',\n",
              " 'Dic']"
            ]
          },
          "metadata": {},
          "execution_count": 14
        }
      ]
    },
    {
      "cell_type": "markdown",
      "source": [
        "## Crear una lista con `list`\n",
        "Con `list` podemos convertir una tupla en una lista."
      ],
      "metadata": {
        "id": "pOFDcFtM4V1k"
      }
    },
    {
      "cell_type": "code",
      "source": [
        "lista_numeros = list((1, 2, 3, 4))\n",
        "lista_numeros"
      ],
      "metadata": {
        "colab": {
          "base_uri": "https://localhost:8080/"
        },
        "id": "JeCYGNSF49Lm",
        "outputId": "39a766b2-9c13-40d9-ff76-9263a3d46c86"
      },
      "execution_count": null,
      "outputs": [
        {
          "output_type": "execute_result",
          "data": {
            "text/plain": [
              "[1, 2, 3, 4]"
            ]
          },
          "metadata": {},
          "execution_count": 15
        }
      ]
    },
    {
      "cell_type": "code",
      "source": [
        "dias = list(('lu', 'ma', 'mi', 'ju', 'vi', 'sá', 'do'))\n",
        "dias"
      ],
      "metadata": {
        "colab": {
          "base_uri": "https://localhost:8080/"
        },
        "id": "0ZAi4g_84adl",
        "outputId": "4c09607a-01c0-4dc4-b89e-084663191250"
      },
      "execution_count": null,
      "outputs": [
        {
          "output_type": "execute_result",
          "data": {
            "text/plain": [
              "['lu', 'ma', 'mi', 'ju', 'vi', 'sá', 'do']"
            ]
          },
          "metadata": {},
          "execution_count": 16
        }
      ]
    },
    {
      "cell_type": "markdown",
      "source": [
        "## Listas usando el objeto `range`"
      ],
      "metadata": {
        "id": "TB9Wx1wQ5TWe"
      }
    },
    {
      "cell_type": "code",
      "source": [
        "num = range(5)          # números del 0 al 4\n",
        "print(num)\n",
        "type(num)               # objeto de tipo range"
      ],
      "metadata": {
        "colab": {
          "base_uri": "https://localhost:8080/"
        },
        "id": "CutpUjwB5Z62",
        "outputId": "16202881-b9c8-4cc7-a190-5b9dc87ead92"
      },
      "execution_count": null,
      "outputs": [
        {
          "output_type": "stream",
          "name": "stdout",
          "text": [
            "range(0, 5)\n"
          ]
        },
        {
          "output_type": "execute_result",
          "data": {
            "text/plain": [
              "range"
            ]
          },
          "metadata": {},
          "execution_count": 17
        }
      ]
    },
    {
      "cell_type": "code",
      "source": [
        "mi_lista = list(num)\n",
        "mi_lista"
      ],
      "metadata": {
        "colab": {
          "base_uri": "https://localhost:8080/"
        },
        "id": "uyX2z5Nt58z2",
        "outputId": "1188df4c-40f0-4c32-9a8b-8a310dfb7adb"
      },
      "execution_count": null,
      "outputs": [
        {
          "output_type": "execute_result",
          "data": {
            "text/plain": [
              "[0, 1, 2, 3, 4]"
            ]
          },
          "metadata": {},
          "execution_count": 18
        }
      ]
    },
    {
      "cell_type": "code",
      "source": [
        "list(range(5, 10))      # números del 5 al 9"
      ],
      "metadata": {
        "colab": {
          "base_uri": "https://localhost:8080/"
        },
        "id": "yZg4jh0R6OJi",
        "outputId": "b394b79d-c985-40e0-beac-56b7819b86af"
      },
      "execution_count": null,
      "outputs": [
        {
          "output_type": "execute_result",
          "data": {
            "text/plain": [
              "[5, 6, 7, 8, 9]"
            ]
          },
          "metadata": {},
          "execution_count": 19
        }
      ]
    },
    {
      "cell_type": "code",
      "source": [
        "list(range(10, 45, 5))  # números del 10 al 40 en saltos de 5 en 5"
      ],
      "metadata": {
        "colab": {
          "base_uri": "https://localhost:8080/"
        },
        "id": "_PZxByoJ6bKs",
        "outputId": "35a0cd37-5b78-42ba-90f1-e6e9affd02ba"
      },
      "execution_count": null,
      "outputs": [
        {
          "output_type": "execute_result",
          "data": {
            "text/plain": [
              "[10, 15, 20, 25, 30, 35, 40]"
            ]
          },
          "metadata": {},
          "execution_count": 20
        }
      ]
    },
    {
      "cell_type": "code",
      "source": [
        "list(range(10, 0, -1))  # números en orden decreciente, del 10 al 1"
      ],
      "metadata": {
        "colab": {
          "base_uri": "https://localhost:8080/"
        },
        "id": "CLsTKANS7mqv",
        "outputId": "6624f451-942d-4450-bb5a-b7e0b84628f9"
      },
      "execution_count": null,
      "outputs": [
        {
          "output_type": "execute_result",
          "data": {
            "text/plain": [
              "[10, 9, 8, 7, 6, 5, 4, 3, 2, 1]"
            ]
          },
          "metadata": {},
          "execution_count": 21
        }
      ]
    },
    {
      "cell_type": "markdown",
      "source": [
        "## Matriz: Array 2D\n",
        "* Una Matriz de dos dimensiones es una lista de listas.\n",
        "\n",
        "* Veamos un caso de tres filas y cuatro columnas, 3x4"
      ],
      "metadata": {
        "id": "06alFDYF8FBA"
      }
    },
    {
      "cell_type": "code",
      "source": [
        "m = [[11, 12, 13, 14],\n",
        "     [21, 22, 23, 24],\n",
        "     [31, 32, 33, 34]]\n",
        "\n",
        "m"
      ],
      "metadata": {
        "colab": {
          "base_uri": "https://localhost:8080/"
        },
        "id": "DRMGhoi38LbN",
        "outputId": "660f3661-c8cc-4612-9f3a-c412320e97df"
      },
      "execution_count": null,
      "outputs": [
        {
          "output_type": "execute_result",
          "data": {
            "text/plain": [
              "[[11, 12, 13, 14], [21, 22, 23, 24], [31, 32, 33, 34]]"
            ]
          },
          "metadata": {},
          "execution_count": 22
        }
      ]
    },
    {
      "cell_type": "code",
      "source": [
        "print(*m)"
      ],
      "metadata": {
        "colab": {
          "base_uri": "https://localhost:8080/"
        },
        "id": "3qBCADqT86sn",
        "outputId": "4d624449-219c-43a7-ad2d-b0091deed597"
      },
      "execution_count": null,
      "outputs": [
        {
          "output_type": "stream",
          "name": "stdout",
          "text": [
            "[11, 12, 13, 14] [21, 22, 23, 24] [31, 32, 33, 34]\n"
          ]
        }
      ]
    },
    {
      "cell_type": "code",
      "source": [
        "print(*m[0])\n",
        "print(*m[1])\n",
        "print(*m[2])"
      ],
      "metadata": {
        "colab": {
          "base_uri": "https://localhost:8080/"
        },
        "id": "mBQ6Vy6f9FYk",
        "outputId": "e48703e8-fba7-4c14-cf3a-94730103d782"
      },
      "execution_count": null,
      "outputs": [
        {
          "output_type": "stream",
          "name": "stdout",
          "text": [
            "11 12 13 14\n",
            "21 22 23 24\n",
            "31 32 33 34\n"
          ]
        }
      ]
    },
    {
      "cell_type": "markdown",
      "source": [
        "## Las listas son mutables\n",
        "Podemos cambiar un elemento en una lista"
      ],
      "metadata": {
        "id": "GX55EkcbqVOf"
      }
    },
    {
      "cell_type": "code",
      "source": [
        "estaciones = ['spring', 'summer', 'autumn', 'winter']\n",
        "print(estaciones)\n",
        "\n",
        "estaciones[2] = 'fall'      # podemos cambiar un elemento en una lista\n",
        "estaciones"
      ],
      "metadata": {
        "id": "WA8E6qmmrB43",
        "outputId": "0b5e73f5-9924-48ea-dee9-2071548e2304",
        "colab": {
          "base_uri": "https://localhost:8080/"
        }
      },
      "execution_count": null,
      "outputs": [
        {
          "output_type": "stream",
          "name": "stdout",
          "text": [
            "['spring', 'summer', 'autumn', 'winter']\n"
          ]
        },
        {
          "output_type": "execute_result",
          "data": {
            "text/plain": [
              "['spring', 'summer', 'fall', 'winter']"
            ]
          },
          "metadata": {},
          "execution_count": 25
        }
      ]
    },
    {
      "cell_type": "markdown",
      "source": [
        "### Los strings son inmutables"
      ],
      "metadata": {
        "id": "7v39ImQxqxj1"
      }
    },
    {
      "cell_type": "code",
      "source": [
        "palabra = \"Hola\"\n",
        "#palabra[0] = \"M\"               # da ERROR !!!\n",
        "palabra"
      ],
      "metadata": {
        "id": "jvAsra9lqdbz",
        "outputId": "a3c8be6f-eeae-45c4-b758-0315bf6f02ea",
        "colab": {
          "base_uri": "https://localhost:8080/",
          "height": 35
        }
      },
      "execution_count": null,
      "outputs": [
        {
          "output_type": "execute_result",
          "data": {
            "text/plain": [
              "'Hola'"
            ],
            "application/vnd.google.colaboratory.intrinsic+json": {
              "type": "string"
            }
          },
          "metadata": {},
          "execution_count": 26
        }
      ]
    },
    {
      "cell_type": "markdown",
      "source": [
        "## Copiar una lista"
      ],
      "metadata": {
        "id": "KMVShi7BAViw"
      }
    },
    {
      "cell_type": "markdown",
      "source": [
        "### Forma incorrecta de copiar listas\n",
        "* Veamos primero la forma incorrecta de copiar una lista: igualando\n",
        "* En el caso incorrecto en realidad no hacemos una copia, ya que se trata del mismo objeto con dos nombres.\n",
        "* Ambos nombres apuntan al mismo objeto en memoria"
      ],
      "metadata": {
        "id": "-yfZdpKxP1Ce"
      }
    },
    {
      "cell_type": "code",
      "source": [
        "lista_original = [1, 2, 3]\n",
        "lista_copia = lista_original    # FORMA INCORRECTA DE COPIAR UNA LISTA\n",
        "\n",
        "# al cambiar un elemento de una de las dos listas se cambia en las dos\n",
        "lista_copia[0] = 99\n",
        "\n",
        "print(f\"Lista original: {lista_original}\")\n",
        "print(f\"Lista copiada:  {lista_copia}\")"
      ],
      "metadata": {
        "colab": {
          "base_uri": "https://localhost:8080/"
        },
        "id": "EIJVzhDsNHxl",
        "outputId": "6c1c4997-67b9-4ea6-f879-98a82ff2d836"
      },
      "execution_count": null,
      "outputs": [
        {
          "output_type": "stream",
          "name": "stdout",
          "text": [
            "Lista original: [99, 2, 3]\n",
            "Lista copiada:  [99, 2, 3]\n"
          ]
        }
      ]
    },
    {
      "cell_type": "markdown",
      "source": [
        "Ambas listas tienen el mismo `id`"
      ],
      "metadata": {
        "id": "UWLzvqRNUTAS"
      }
    },
    {
      "cell_type": "code",
      "source": [
        "# el id de ambas listas es el mismo ya que se trata de la misma lista\n",
        "print(id(lista_original))\n",
        "print(id(lista_copia))"
      ],
      "metadata": {
        "colab": {
          "base_uri": "https://localhost:8080/"
        },
        "id": "_hJRNqS6PCHJ",
        "outputId": "e35fd060-6c8b-43e0-d104-d74ebc59be05"
      },
      "execution_count": null,
      "outputs": [
        {
          "output_type": "stream",
          "name": "stdout",
          "text": [
            "138880130972288\n",
            "138880130972288\n"
          ]
        }
      ]
    },
    {
      "cell_type": "markdown",
      "source": [
        "Al modificar un elemento de una lista también cambia en la otra ya que en realidad se trata de la misma lista pero con dos nombres diferentes."
      ],
      "metadata": {
        "id": "pBaBZVyRUdwu"
      }
    },
    {
      "cell_type": "markdown",
      "source": [
        "### Forma correcta de copiar listas\n",
        "* Haciendo una copia independiente de una lista"
      ],
      "metadata": {
        "id": "hiRsjyZoP7ji"
      }
    },
    {
      "cell_type": "markdown",
      "source": [
        "#### Método 1: haciendo una copia independiente de una lista\n",
        "Forma correcta de copiar una lista: copiando elemento a elemento"
      ],
      "metadata": {
        "id": "iQcVFA5xN9r9"
      }
    },
    {
      "cell_type": "code",
      "source": [
        "lista_original = [1, 2, 3]\n",
        "\n",
        "# Haciendo una copia elemento a elemento\n",
        "lista_copia = lista_original[:]    # FORMA CORRECTA DE COPIAR UNA LISTA\n",
        "\n",
        "# al cambiar un elemento de una de las dos listas la otra no se altera\n",
        "lista_copia[0] = 99\n",
        "\n",
        "print(f\"Lista original: {lista_original}\")\n",
        "print(f\"Lista copiada:  {lista_copia}\")"
      ],
      "metadata": {
        "colab": {
          "base_uri": "https://localhost:8080/"
        },
        "id": "AsTrFzoAODJ2",
        "outputId": "5793fb01-c2c0-4f34-8ec5-1b12bd0ba400"
      },
      "execution_count": null,
      "outputs": [
        {
          "output_type": "stream",
          "name": "stdout",
          "text": [
            "Lista original: [1, 2, 3]\n",
            "Lista copiada:  [99, 2, 3]\n"
          ]
        }
      ]
    },
    {
      "cell_type": "markdown",
      "source": [
        "El `id` de las listas no es el mismo ya que se trata de dos objetos diferentes"
      ],
      "metadata": {
        "id": "rFQPKbwAU_hM"
      }
    },
    {
      "cell_type": "code",
      "source": [
        "print(id(lista_original))\n",
        "print(id(lista_copia))"
      ],
      "metadata": {
        "colab": {
          "base_uri": "https://localhost:8080/"
        },
        "id": "57RZuqEsPWrM",
        "outputId": "63a7503c-b02d-43a7-8251-bbc6ccd2c1f0"
      },
      "execution_count": null,
      "outputs": [
        {
          "output_type": "stream",
          "name": "stdout",
          "text": [
            "138880131056640\n",
            "138880147413184\n"
          ]
        }
      ]
    },
    {
      "cell_type": "markdown",
      "source": [
        "#### Método 2: copiando una matriz con ```deepcopy```\n",
        "* Este método es el adecuado para copiar matrices\n",
        "* Creamos un nuevo objeto matriz usando ```deepcopy``` de la librería ```copy```"
      ],
      "metadata": {
        "id": "wKX4uUr9EMzL"
      }
    },
    {
      "cell_type": "code",
      "source": [
        "from copy import deepcopy\n",
        "\n",
        "x = [[1, 2], [3, 4]]\n",
        "\n",
        "y = deepcopy(x)\n",
        "\n",
        "print(x)\n",
        "print(y)"
      ],
      "metadata": {
        "colab": {
          "base_uri": "https://localhost:8080/"
        },
        "id": "PG3GedG7Eb02",
        "outputId": "690bbab3-b3a4-4742-d142-10ce006d9649"
      },
      "execution_count": null,
      "outputs": [
        {
          "output_type": "stream",
          "name": "stdout",
          "text": [
            "[[1, 2], [3, 4]]\n",
            "[[1, 2], [3, 4]]\n"
          ]
        }
      ]
    },
    {
      "cell_type": "markdown",
      "source": [
        "Comprobación"
      ],
      "metadata": {
        "id": "EO9YgbpVE7Tt"
      }
    },
    {
      "cell_type": "code",
      "source": [
        "x[0][0] = 88        # modificamos un elemento de la matriz x\n",
        "y.append([9, 9])    # añadimos un nuevo elemento a la matriz y\n",
        "\n",
        "print(x)            # comprobamos que ambas matrices son independientes\n",
        "print(y)"
      ],
      "metadata": {
        "colab": {
          "base_uri": "https://localhost:8080/"
        },
        "id": "qsV1ufIrE88T",
        "outputId": "a69bebfe-710c-4f44-f2b2-9c73af5774ae"
      },
      "execution_count": null,
      "outputs": [
        {
          "output_type": "stream",
          "name": "stdout",
          "text": [
            "[[88, 2], [3, 4]]\n",
            "[[1, 2], [3, 4], [9, 9]]\n"
          ]
        }
      ]
    }
  ]
}