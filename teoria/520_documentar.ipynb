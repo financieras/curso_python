{
  "nbformat": 4,
  "nbformat_minor": 0,
  "metadata": {
    "colab": {
      "provenance": [],
      "authorship_tag": "ABX9TyO+B4NWnWhlPrerBumjjs92",
      "include_colab_link": true
    },
    "kernelspec": {
      "name": "python3",
      "display_name": "Python 3"
    },
    "language_info": {
      "name": "python"
    }
  },
  "cells": [
    {
      "cell_type": "markdown",
      "metadata": {
        "id": "view-in-github",
        "colab_type": "text"
      },
      "source": [
        "<a href=\"https://colab.research.google.com/github/financieras/curso_python/blob/main/520_documentar.ipynb\" target=\"_parent\"><img src=\"https://colab.research.google.com/assets/colab-badge.svg\" alt=\"Open In Colab\"/></a>"
      ]
    },
    {
      "cell_type": "markdown",
      "source": [
        "## Documentar una función\n",
        "### Valor intermedio de tres números\n",
        "* Generar tres números enteros aleatorios entre 0 y 9, ambos incluidos.\n",
        "* Definir una función que toma los tres números y devuelve el que sea el intermedio de los tres.\n",
        " - Si hay dos repetidos se devuelve el repetido\n",
        " - Si hay tres repetidos se devuelve el único que hay."
      ],
      "metadata": {
        "id": "zapVmTzOuF_X"
      }
    },
    {
      "cell_type": "markdown",
      "source": [
        "#### Método 1"
      ],
      "metadata": {
        "id": "W8cRHkLBRMFe"
      }
    },
    {
      "cell_type": "code",
      "source": [
        "import random\n",
        "random.seed()\n",
        "\n",
        "def intermedio(a,b,c):\n",
        "    '''Función que devuelve el número intermedio\n",
        "    de entre tres números.'''\n",
        "    if a <= b <= c or c <= b <= a:\n",
        "        return b\n",
        "    elif b <= a <= c or c <= a <= b:\n",
        "        return a\n",
        "    elif a <= c <= b or b <= c <= a:\n",
        "        return c\n",
        "\n",
        "a = random.randint(0,9)\n",
        "b = random.randint(0,9)\n",
        "c = random.randint(0,9)\n",
        "print(a,b,c)\n",
        "print(\"Número intermedio:\", intermedio(a,b,c))\n",
        "\n",
        "print()\n",
        "help(intermedio)  # con help podemos consultar el comentario puesto en una función"
      ],
      "metadata": {
        "colab": {
          "base_uri": "https://localhost:8080/"
        },
        "id": "d_XWV8tmRONk",
        "outputId": "e38f4c78-ec97-4858-a7e2-7577b70e0272"
      },
      "execution_count": null,
      "outputs": [
        {
          "output_type": "stream",
          "name": "stdout",
          "text": [
            "5 0 7\n",
            "Número intermedio: 5\n",
            "\n",
            "Help on function intermedio in module __main__:\n",
            "\n",
            "intermedio(a, b, c)\n",
            "    Función que devuelve el número intermedio\n",
            "    de entre tres números.\n",
            "\n"
          ]
        }
      ]
    },
    {
      "cell_type": "markdown",
      "source": [
        "#### Método 2"
      ],
      "metadata": {
        "id": "B4Rhxwc7RJX2"
      }
    },
    {
      "cell_type": "code",
      "source": [
        "import random\n",
        "random.seed()\n",
        "\n",
        "def genera_tres(): # comentario con tres comillas, explicando qué hace la función\n",
        "    '''Crea una lista de tres números aleatorios\n",
        "    enteros entre 0 y 9, ambos incluidos'''\n",
        "    lista = []\n",
        "    for i in range(3):\n",
        "        lista.append(random.randint(0,9))\n",
        "    return lista\n",
        "\n",
        "def intermedio(lista):\n",
        "    '''Función que devuelve el número intermedio de\n",
        "    una lista de tres números.'''\n",
        "    lista.sort()\n",
        "    return lista[1]\n",
        "\n",
        "lista = genera_tres()\n",
        "print(lista)\n",
        "print(\"Número intermedio:\", intermedio(lista))\n",
        "\n",
        "print()\n",
        "help(intermedio)\n",
        "help(genera_tres)"
      ],
      "metadata": {
        "colab": {
          "base_uri": "https://localhost:8080/"
        },
        "id": "2MWigJ6XusdK",
        "outputId": "cab4d707-656c-4a16-e8c5-4804f6dfbfa9"
      },
      "execution_count": null,
      "outputs": [
        {
          "output_type": "stream",
          "name": "stdout",
          "text": [
            "[9, 3, 6]\n",
            "Número intermedio: 6\n",
            "\n",
            "Help on function intermedio in module __main__:\n",
            "\n",
            "intermedio(lista)\n",
            "    Función que devuelve el número intermedio de\n",
            "    una lista de tres números.\n",
            "\n",
            "Help on function genera_tres in module __main__:\n",
            "\n",
            "genera_tres()\n",
            "    Crea una lista de tres números aleatorios\n",
            "    enteros entre 0 y 9, ambos incluidos\n",
            "\n"
          ]
        }
      ]
    }
  ]
}