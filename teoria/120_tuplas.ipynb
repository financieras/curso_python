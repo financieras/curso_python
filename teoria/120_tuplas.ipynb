{
  "nbformat": 4,
  "nbformat_minor": 0,
  "metadata": {
    "colab": {
      "provenance": [],
      "authorship_tag": "ABX9TyPFgoOLGyjPBen6bKNJdBh1",
      "include_colab_link": true
    },
    "kernelspec": {
      "name": "python3",
      "display_name": "Python 3"
    },
    "language_info": {
      "name": "python"
    }
  },
  "cells": [
    {
      "cell_type": "markdown",
      "metadata": {
        "id": "view-in-github",
        "colab_type": "text"
      },
      "source": [
        "<a href=\"https://colab.research.google.com/github/financieras/curso_python/blob/main/120_tuplas.ipynb\" target=\"_parent\"><img src=\"https://colab.research.google.com/assets/colab-badge.svg\" alt=\"Open In Colab\"/></a>"
      ]
    },
    {
      "cell_type": "markdown",
      "source": [
        "# Tuplas\n",
        "* Es una colección de elementos que va entre préntesis `( )`\n",
        "* El orden si importa\n",
        "* Las tuplas son inmutables\n",
        "* Son más rápidas que las listas\n",
        "* Se usan cuando los elementos que las componen no queremos que cambien\n",
        "* Por ejemplo, los meses del año, los días de la semana, los colores del arcoíris, ..."
      ],
      "metadata": {
        "id": "VDemsJGZ07og"
      }
    },
    {
      "cell_type": "code",
      "execution_count": 1,
      "metadata": {
        "colab": {
          "base_uri": "https://localhost:8080/"
        },
        "id": "vGTjoIJy049C",
        "outputId": "442fc56d-0268-410c-ecb3-9e900f69493d"
      },
      "outputs": [
        {
          "output_type": "stream",
          "name": "stdout",
          "text": [
            "('Mon', 'Tue', 'Wed', 'Thu', 'Fri', 'Sat', 'Sun')\n"
          ]
        },
        {
          "output_type": "execute_result",
          "data": {
            "text/plain": [
              "tuple"
            ]
          },
          "metadata": {},
          "execution_count": 1
        }
      ],
      "source": [
        "dias = ('Mon', 'Tue', 'Wed', 'Thu', 'Fri', 'Sat', 'Sun')\n",
        "print(dias)\n",
        "type(dias)"
      ]
    },
    {
      "cell_type": "markdown",
      "source": [
        "## Tupla vacía"
      ],
      "metadata": {
        "id": "5LTTxw0g2CM5"
      }
    },
    {
      "cell_type": "code",
      "source": [
        "tareas = ()\n",
        "print(tareas)\n",
        "type(tareas)"
      ],
      "metadata": {
        "colab": {
          "base_uri": "https://localhost:8080/"
        },
        "id": "VOXcoHIl2GgE",
        "outputId": "6ed321f4-a9c3-46c0-d52c-60dcc8988464"
      },
      "execution_count": 2,
      "outputs": [
        {
          "output_type": "stream",
          "name": "stdout",
          "text": [
            "()\n"
          ]
        },
        {
          "output_type": "execute_result",
          "data": {
            "text/plain": [
              "tuple"
            ]
          },
          "metadata": {},
          "execution_count": 2
        }
      ]
    },
    {
      "cell_type": "markdown",
      "source": [
        "## Tupla de un solo elemento\n",
        "* Es importante poner la coma"
      ],
      "metadata": {
        "id": "cNugSpnl2STk"
      }
    },
    {
      "cell_type": "code",
      "source": [
        "dias = (5,)     # si no pongo la coma este 5 sería un int\n",
        "print(dias)\n",
        "type(dias)"
      ],
      "metadata": {
        "colab": {
          "base_uri": "https://localhost:8080/"
        },
        "id": "n199TEGh2RWo",
        "outputId": "1d8a7e67-f33a-427d-b993-582429eb8f79"
      },
      "execution_count": 3,
      "outputs": [
        {
          "output_type": "stream",
          "name": "stdout",
          "text": [
            "(5,)\n"
          ]
        },
        {
          "output_type": "execute_result",
          "data": {
            "text/plain": [
              "tuple"
            ]
          },
          "metadata": {},
          "execution_count": 3
        }
      ]
    },
    {
      "cell_type": "markdown",
      "source": [
        "## Conversión de lista a tupla"
      ],
      "metadata": {
        "id": "NvDpnN7G2vtM"
      }
    },
    {
      "cell_type": "code",
      "source": [
        "mi_lista = [10, 20, 30]\n",
        "mi_tupla = tuple(mi_lista)\n",
        "mi_tupla"
      ],
      "metadata": {
        "colab": {
          "base_uri": "https://localhost:8080/"
        },
        "id": "pSHKYuUO2z49",
        "outputId": "fadb9954-4fa9-4a0a-ed6a-66c80ba95e83"
      },
      "execution_count": 4,
      "outputs": [
        {
          "output_type": "execute_result",
          "data": {
            "text/plain": [
              "(10, 20, 30)"
            ]
          },
          "metadata": {},
          "execution_count": 4
        }
      ]
    },
    {
      "cell_type": "markdown",
      "source": [
        "## Conversión de tupla a lista"
      ],
      "metadata": {
        "id": "CaaTTzVV3Owh"
      }
    },
    {
      "cell_type": "code",
      "source": [
        "mi_tupla = (10, 20, 30)\n",
        "mi_lista = list(mi_tupla)\n",
        "mi_lista"
      ],
      "metadata": {
        "colab": {
          "base_uri": "https://localhost:8080/"
        },
        "id": "4Dz9pwps3SKt",
        "outputId": "268a40f3-052c-4bf8-9d96-d0dabe92c505"
      },
      "execution_count": 5,
      "outputs": [
        {
          "output_type": "execute_result",
          "data": {
            "text/plain": [
              "[10, 20, 30]"
            ]
          },
          "metadata": {},
          "execution_count": 5
        }
      ]
    },
    {
      "cell_type": "markdown",
      "source": [
        "## Las Tuplas son inmutables\n",
        "No se pueden cambiar los elementos de la tupla."
      ],
      "metadata": {
        "id": "Vojvj-wrBSMt"
      }
    },
    {
      "cell_type": "code",
      "source": [
        "seasons = ('spring', 'summer', 'autumn', 'winter')\n",
        "seasons"
      ],
      "metadata": {
        "id": "EnwlveolBVmq",
        "outputId": "99247bfd-0df7-4e23-b424-910075c29e1f",
        "colab": {
          "base_uri": "https://localhost:8080/"
        }
      },
      "execution_count": 6,
      "outputs": [
        {
          "output_type": "execute_result",
          "data": {
            "text/plain": [
              "('spring', 'summer', 'autumn', 'winter')"
            ]
          },
          "metadata": {},
          "execution_count": 6
        }
      ]
    },
    {
      "cell_type": "markdown",
      "source": [
        "#### No se pueden reasignar valores en una tupla"
      ],
      "metadata": {
        "id": "BPOPRflxGybY"
      }
    },
    {
      "cell_type": "code",
      "source": [
        "#seasons[2] = 'fall'    # da ERROR, no se puede cambiar un elemento de una tupla"
      ],
      "metadata": {
        "id": "htpOAvMWCHEL"
      },
      "execution_count": 7,
      "outputs": []
    },
    {
      "cell_type": "markdown",
      "source": [
        "### Truco para cambiar un elemento de una tupla\n",
        "Convertir la tupla en lista, cabiar el elemento y volver a convertirla en tupla"
      ],
      "metadata": {
        "id": "CBjuW9H0CXTn"
      }
    },
    {
      "cell_type": "code",
      "source": [
        "seasons = ('spring', 'summer', 'autumn', 'winter')\n",
        "print(seasons)\n",
        "\n",
        "seasons = list(seasons)     # convertimos la tupla en lista\n",
        "seasons[2] = 'fall'         # cambiamos un elemento de la lista\n",
        "seasons = tuple(seasons)    # convertimos la lista en tupla\n",
        "\n",
        "print(seasons)"
      ],
      "metadata": {
        "id": "-Ls1VqE3CkKU",
        "outputId": "9fb0362e-dcde-4a2a-8c81-b33f39066793",
        "colab": {
          "base_uri": "https://localhost:8080/"
        }
      },
      "execution_count": 8,
      "outputs": [
        {
          "output_type": "stream",
          "name": "stdout",
          "text": [
            "('spring', 'summer', 'autumn', 'winter')\n",
            "('spring', 'summer', 'fall', 'winter')\n"
          ]
        }
      ]
    },
    {
      "cell_type": "markdown",
      "source": [
        "## Unir dos tuplas\n",
        "Se utiliza el operador `+` para unir dos tuplas."
      ],
      "metadata": {
        "id": "LpQB301iDb1n"
      }
    },
    {
      "cell_type": "code",
      "source": [
        "laborables = ('lu', 'ma', 'mi', 'ju', 'vi')\n",
        "finde = ('sá', 'do')\n",
        "dias = laborables + finde\n",
        "dias"
      ],
      "metadata": {
        "id": "GC1Buru1DOZt",
        "outputId": "218bd634-5212-4b97-f7df-f28a27bfcec0",
        "colab": {
          "base_uri": "https://localhost:8080/"
        }
      },
      "execution_count": 9,
      "outputs": [
        {
          "output_type": "execute_result",
          "data": {
            "text/plain": [
              "('lu', 'ma', 'mi', 'ju', 'vi', 'sá', 'do')"
            ]
          },
          "metadata": {},
          "execution_count": 9
        }
      ]
    },
    {
      "cell_type": "markdown",
      "source": [
        "## Indexing and Slicing"
      ],
      "metadata": {
        "id": "jmGNay39F6x2"
      }
    },
    {
      "cell_type": "code",
      "source": [
        "dias = ('lu', 'ma', 'mi', 'ju', 'vi', 'sá', 'do')\n",
        "dias[0]"
      ],
      "metadata": {
        "id": "HkGsakJxGQQa",
        "outputId": "757e8af6-e44c-47d5-8e1c-2677325c36c6",
        "colab": {
          "base_uri": "https://localhost:8080/",
          "height": 35
        }
      },
      "execution_count": 10,
      "outputs": [
        {
          "output_type": "execute_result",
          "data": {
            "text/plain": [
              "'lu'"
            ],
            "application/vnd.google.colaboratory.intrinsic+json": {
              "type": "string"
            }
          },
          "metadata": {},
          "execution_count": 10
        }
      ]
    },
    {
      "cell_type": "code",
      "source": [
        " dias[5:]"
      ],
      "metadata": {
        "id": "2ed_gBqFGXHF",
        "outputId": "822fe54a-5eb6-4f27-d655-b8555e543664",
        "colab": {
          "base_uri": "https://localhost:8080/"
        }
      },
      "execution_count": 11,
      "outputs": [
        {
          "output_type": "execute_result",
          "data": {
            "text/plain": [
              "('sá', 'do')"
            ]
          },
          "metadata": {},
          "execution_count": 11
        }
      ]
    },
    {
      "cell_type": "markdown",
      "source": [
        "## Funciones y métodos"
      ],
      "metadata": {
        "id": "bfUkDNZUGeXn"
      }
    },
    {
      "cell_type": "markdown",
      "source": [
        "### `len`"
      ],
      "metadata": {
        "id": "uDQdhASmHjg7"
      }
    },
    {
      "cell_type": "code",
      "source": [
        "dias = ('lu', 'ma', 'mi', 'ju', 'vi', 'sá', 'do')\n",
        "len(dias)"
      ],
      "metadata": {
        "id": "8ZmywSKzGgdy",
        "outputId": "1c78f441-8498-4f72-f483-ed03a1b562f5",
        "colab": {
          "base_uri": "https://localhost:8080/"
        }
      },
      "execution_count": 12,
      "outputs": [
        {
          "output_type": "execute_result",
          "data": {
            "text/plain": [
              "7"
            ]
          },
          "metadata": {},
          "execution_count": 12
        }
      ]
    },
    {
      "cell_type": "markdown",
      "source": [
        "### `del`"
      ],
      "metadata": {
        "id": "aVOdDXKYHFOR"
      }
    },
    {
      "cell_type": "code",
      "source": [
        "numeros = (1, 2, 3, 4)\n",
        "del numeros\n",
        "#print(numeros)     # da ERROR ya que no puedo imprimir el objeto que no existe"
      ],
      "metadata": {
        "id": "-Q_xDexoHJQY"
      },
      "execution_count": 13,
      "outputs": []
    },
    {
      "cell_type": "markdown",
      "source": [
        "### `count`"
      ],
      "metadata": {
        "id": "zRu2qdGlH8pG"
      }
    },
    {
      "cell_type": "code",
      "source": [
        "fragmento_adn = ('A', 'G', 'C', 'T', 'A', 'G', 'C', 'A', 'G', 'A')\n",
        "fragmento_adn.count('A')        # cuenta cuantas veces aparece la Adenina"
      ],
      "metadata": {
        "id": "bV6fWDaBIDEY",
        "outputId": "b7b02b59-5889-45af-ac3e-b252dd13f6dd",
        "colab": {
          "base_uri": "https://localhost:8080/"
        }
      },
      "execution_count": 14,
      "outputs": [
        {
          "output_type": "execute_result",
          "data": {
            "text/plain": [
              "4"
            ]
          },
          "metadata": {},
          "execution_count": 14
        }
      ]
    },
    {
      "cell_type": "markdown",
      "source": [
        "### `index`"
      ],
      "metadata": {
        "id": "yu2Lai75IAID"
      }
    },
    {
      "cell_type": "code",
      "source": [
        "fragmento_adn = ('A', 'G', 'C', 'T', 'A', 'G', 'C', 'A', 'G', 'A')\n",
        "fragmento_adn.index('T')        # index donde aparece por primara vez la Timina"
      ],
      "metadata": {
        "id": "hIVnwQTqICZk",
        "outputId": "9fe13ec9-05d8-48a6-a752-c6b9247fa859",
        "colab": {
          "base_uri": "https://localhost:8080/"
        }
      },
      "execution_count": 15,
      "outputs": [
        {
          "output_type": "execute_result",
          "data": {
            "text/plain": [
              "3"
            ]
          },
          "metadata": {},
          "execution_count": 15
        }
      ]
    }
  ]
}