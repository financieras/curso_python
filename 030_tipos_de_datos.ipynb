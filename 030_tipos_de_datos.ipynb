{
  "nbformat": 4,
  "nbformat_minor": 0,
  "metadata": {
    "colab": {
      "provenance": [],
      "authorship_tag": "ABX9TyO8ionLofLxmUS8knlbs0tK",
      "include_colab_link": true
    },
    "kernelspec": {
      "name": "python3",
      "display_name": "Python 3"
    },
    "language_info": {
      "name": "python"
    }
  },
  "cells": [
    {
      "cell_type": "markdown",
      "metadata": {
        "id": "view-in-github",
        "colab_type": "text"
      },
      "source": [
        "<a href=\"https://colab.research.google.com/github/financieras/curso_python/blob/main/030_tipos_de_datos.ipynb\" target=\"_parent\"><img src=\"https://colab.research.google.com/assets/colab-badge.svg\" alt=\"Open In Colab\"/></a>"
      ]
    },
    {
      "cell_type": "markdown",
      "source": [
        "# Tipo de datos"
      ],
      "metadata": {
        "id": "guG9rO0kKa6U"
      }
    },
    {
      "cell_type": "markdown",
      "source": [
        "## Tipos `int`, `float`, `string`"
      ],
      "metadata": {
        "id": "GO9j3lfivnU6"
      }
    },
    {
      "cell_type": "code",
      "execution_count": null,
      "metadata": {
        "colab": {
          "base_uri": "https://localhost:8080/"
        },
        "id": "ZQdYTWfMKV1r",
        "outputId": "20cab9e6-b64b-452b-aab6-3ce93de62a68"
      },
      "outputs": [
        {
          "output_type": "execute_result",
          "data": {
            "text/plain": [
              "True"
            ]
          },
          "metadata": {},
          "execution_count": 2
        }
      ],
      "source": [
        "a = 5       # int\n",
        "b = 5.7     # float\n",
        "c = \"Ana\"   # string"
      ]
    },
    {
      "cell_type": "markdown",
      "source": [
        "## Tipo `bool`\n",
        "1. Tipo de dato boolean:\n",
        "    * True\n",
        "    * False\n",
        "2. Primera letra mayúscula"
      ],
      "metadata": {
        "id": "k7UJ0n5KvvM1"
      }
    },
    {
      "cell_type": "code",
      "source": [
        "d = True    # bool\n",
        "print(d)\n",
        "type(d)"
      ],
      "metadata": {
        "id": "GpOXlFU3v0NT",
        "outputId": "5ad71f68-a6a9-4340-c459-b2053a757714",
        "colab": {
          "base_uri": "https://localhost:8080/"
        }
      },
      "execution_count": null,
      "outputs": [
        {
          "output_type": "stream",
          "name": "stdout",
          "text": [
            "True\n"
          ]
        },
        {
          "output_type": "execute_result",
          "data": {
            "text/plain": [
              "bool"
            ]
          },
          "metadata": {},
          "execution_count": 8
        }
      ]
    },
    {
      "cell_type": "markdown",
      "source": [
        "* El doble igual `==`se usa para comparar\n",
        "* Un único igual `=`se usa para asignar un valor a una variable"
      ],
      "metadata": {
        "id": "_KR19No_Lctp"
      }
    },
    {
      "cell_type": "code",
      "source": [
        "print(3 > 2)    # True\n",
        "print(5 == 6)   # False"
      ],
      "metadata": {
        "colab": {
          "base_uri": "https://localhost:8080/"
        },
        "id": "6oOaESgsK_06",
        "outputId": "62a17681-7df4-4b14-abce-a53880445f0f"
      },
      "execution_count": null,
      "outputs": [
        {
          "output_type": "stream",
          "name": "stdout",
          "text": [
            "True\n",
            "False\n"
          ]
        }
      ]
    },
    {
      "cell_type": "code",
      "source": [
        "'Ana' < 'Zacarías'  # False porque Ana alfabéticamente no va antes que Zacarías"
      ],
      "metadata": {
        "id": "6sJR2BUAxMWA",
        "outputId": "68868c8c-6af8-4885-cb13-decc58e3f3c9",
        "colab": {
          "base_uri": "https://localhost:8080/"
        }
      },
      "execution_count": null,
      "outputs": [
        {
          "output_type": "execute_result",
          "data": {
            "text/plain": [
              "False"
            ]
          },
          "metadata": {},
          "execution_count": 14
        }
      ]
    },
    {
      "cell_type": "markdown",
      "source": [
        "## Tipo `list`"
      ],
      "metadata": {
        "id": "hu1FgBBLwEdi"
      }
    },
    {
      "cell_type": "code",
      "source": [
        "e = [1,2,3] # list\n",
        "print(e)\n",
        "type(e)"
      ],
      "metadata": {
        "id": "8BdquJ-WvbA2",
        "outputId": "1f5ca570-cdd2-4424-8d6b-fe15d1d2de4a",
        "colab": {
          "base_uri": "https://localhost:8080/"
        }
      },
      "execution_count": null,
      "outputs": [
        {
          "output_type": "stream",
          "name": "stdout",
          "text": [
            "[1, 2, 3]\n"
          ]
        },
        {
          "output_type": "execute_result",
          "data": {
            "text/plain": [
              "list"
            ]
          },
          "metadata": {},
          "execution_count": 7
        }
      ]
    },
    {
      "cell_type": "markdown",
      "source": [
        "## Tipo `None`"
      ],
      "metadata": {
        "id": "COdXfiFJwO4m"
      }
    },
    {
      "cell_type": "code",
      "source": [
        "f = None\n",
        "print(f)\n",
        "type(f)"
      ],
      "metadata": {
        "id": "RZZ8GBiGvd7u",
        "outputId": "8f0ce43c-28c1-4e8d-87eb-7c98a2598e82",
        "colab": {
          "base_uri": "https://localhost:8080/"
        }
      },
      "execution_count": null,
      "outputs": [
        {
          "output_type": "stream",
          "name": "stdout",
          "text": [
            "None\n"
          ]
        },
        {
          "output_type": "execute_result",
          "data": {
            "text/plain": [
              "NoneType"
            ]
          },
          "metadata": {},
          "execution_count": 9
        }
      ]
    },
    {
      "cell_type": "markdown",
      "source": [
        "## Concaterar strings"
      ],
      "metadata": {
        "id": "Hm23MW2zL3PT"
      }
    },
    {
      "cell_type": "code",
      "source": [
        "nombre = \"Ana\"\n",
        "ciudad = \"Madrid\"\n",
        "print(nombre + \" vive en \" + ciudad)"
      ],
      "metadata": {
        "colab": {
          "base_uri": "https://localhost:8080/"
        },
        "id": "b4W-nDkiL8Za",
        "outputId": "07853032-4bdf-4fe7-feb0-bb3c6f9096a3"
      },
      "execution_count": null,
      "outputs": [
        {
          "output_type": "stream",
          "name": "stdout",
          "text": [
            "Ana vive en Madrid\n"
          ]
        }
      ]
    },
    {
      "cell_type": "markdown",
      "source": [
        "## Conversión de tipos\n",
        "Python Casting"
      ],
      "metadata": {
        "id": "Y85u8Z8wMQP0"
      }
    },
    {
      "cell_type": "code",
      "source": [
        "x = int(5)          # 5\n",
        "y = int(5.9)        # 5  Casteamos un float a int\n",
        "z = int(\"5\")        # 5  Casteramos un string a int\n",
        "\n",
        "print(x, y, z)"
      ],
      "metadata": {
        "colab": {
          "base_uri": "https://localhost:8080/"
        },
        "id": "nVgAnnoS4Lrp",
        "outputId": "a5d784dd-5d83-4f4f-ea62-c14d333cf59d"
      },
      "execution_count": null,
      "outputs": [
        {
          "output_type": "stream",
          "name": "stdout",
          "text": [
            "5 5 5\n"
          ]
        }
      ]
    },
    {
      "cell_type": "code",
      "source": [
        "a = float(7)        # 7.0  Casteamos un int a float\n",
        "b = float(7.9)      # 7.9\n",
        "c = float(\"7\")      # 7.0  Casteamos un string a float\n",
        "d = float(\"7.1\")    # 7.1  Casteamos un string a float\n",
        "\n",
        "print(a, b, c, d)"
      ],
      "metadata": {
        "colab": {
          "base_uri": "https://localhost:8080/"
        },
        "id": "R4w83C6z4Qew",
        "outputId": "9eab6815-9020-4afc-c182-1cf2868cd1ea"
      },
      "execution_count": null,
      "outputs": [
        {
          "output_type": "stream",
          "name": "stdout",
          "text": [
            "7.0 7.9 7.0 7.1\n"
          ]
        }
      ]
    },
    {
      "cell_type": "code",
      "source": [
        "p = str(\"v2\")       # 'v2'\n",
        "q = str(2)          # '2'    Casteamos un int a string\n",
        "r = str(2.0)        # '2.0'  Casteamos un float a string\n",
        "\n",
        "print(p, q, r)"
      ],
      "metadata": {
        "colab": {
          "base_uri": "https://localhost:8080/"
        },
        "id": "aC7OPr0Q4UB_",
        "outputId": "119c151f-fd78-41e4-bd53-3e307599219f"
      },
      "execution_count": null,
      "outputs": [
        {
          "output_type": "stream",
          "name": "stdout",
          "text": [
            "v2 2 2.0\n"
          ]
        }
      ]
    },
    {
      "cell_type": "markdown",
      "source": [
        "### Números y literales\n",
        "¿ `5 == '5'` ?\n"
      ],
      "metadata": {
        "id": "50QFJvbj4VNt"
      }
    },
    {
      "cell_type": "code",
      "source": [
        "x = 5       # un solo igual se usa para asignar un valor a una variable\n",
        "y = '5'\n",
        "x == y      # un doble igual es un operador de comparación"
      ],
      "metadata": {
        "colab": {
          "base_uri": "https://localhost:8080/"
        },
        "id": "h8d51zHcMh5c",
        "outputId": "d5b7a517-15ce-4520-ef27-50ccf3f2f27a"
      },
      "execution_count": null,
      "outputs": [
        {
          "output_type": "execute_result",
          "data": {
            "text/plain": [
              "False"
            ]
          },
          "metadata": {},
          "execution_count": 4
        }
      ]
    },
    {
      "cell_type": "code",
      "source": [
        "str(x) == (y)       # str convierte un número en un string"
      ],
      "metadata": {
        "colab": {
          "base_uri": "https://localhost:8080/"
        },
        "id": "Dt7QdXlnMrHU",
        "outputId": "59fe5c3d-922d-4b23-d87e-c88e0a1be43d"
      },
      "execution_count": null,
      "outputs": [
        {
          "output_type": "execute_result",
          "data": {
            "text/plain": [
              "True"
            ]
          },
          "metadata": {},
          "execution_count": 8
        }
      ]
    },
    {
      "cell_type": "code",
      "source": [
        "x == int(y)         # convierte un string en un int"
      ],
      "metadata": {
        "colab": {
          "base_uri": "https://localhost:8080/"
        },
        "id": "GTwYF4UuM4Xp",
        "outputId": "400d9827-7fe7-4be4-d7c7-a933ef7d37af"
      },
      "execution_count": null,
      "outputs": [
        {
          "output_type": "execute_result",
          "data": {
            "text/plain": [
              "True"
            ]
          },
          "metadata": {},
          "execution_count": 9
        }
      ]
    },
    {
      "cell_type": "code",
      "source": [
        "print(float(x))     # float convierte un número en un número de coma flotante\n",
        "print(float(y))"
      ],
      "metadata": {
        "colab": {
          "base_uri": "https://localhost:8080/"
        },
        "id": "IH6l1CgpNLpF",
        "outputId": "581c633e-d6b3-40d6-870f-2fa30c1175e5"
      },
      "execution_count": null,
      "outputs": [
        {
          "output_type": "stream",
          "name": "stdout",
          "text": [
            "5.0\n",
            "5.0\n"
          ]
        }
      ]
    },
    {
      "cell_type": "code",
      "source": [
        "bool(1)             # convierte en un bool\n",
        "# 1 es True, 0 es False y cualquier otro número también da False"
      ],
      "metadata": {
        "colab": {
          "base_uri": "https://localhost:8080/"
        },
        "id": "_hKMvcNENkds",
        "outputId": "fce58256-25f6-47de-c1e5-7ef87b2f88f8"
      },
      "execution_count": null,
      "outputs": [
        {
          "output_type": "execute_result",
          "data": {
            "text/plain": [
              "True"
            ]
          },
          "metadata": {},
          "execution_count": 16
        }
      ]
    },
    {
      "cell_type": "markdown",
      "source": [
        "## Imprimir con formato"
      ],
      "metadata": {
        "id": "Y11ExLWtOFfg"
      }
    },
    {
      "cell_type": "markdown",
      "source": [
        "### Imprimir concatenando\n",
        "Las varíables numéricas, `int` o `float`, se han de convertir a string usando `str`."
      ],
      "metadata": {
        "id": "5SnC4IP0OIX-"
      }
    },
    {
      "cell_type": "code",
      "source": [
        "nombre = \"Ana\"\n",
        "edad = 13\n",
        "\n",
        "print(\"Me llamo \" + nombre + \" y tengo \" + str(edad) + \" años\")"
      ],
      "metadata": {
        "colab": {
          "base_uri": "https://localhost:8080/"
        },
        "id": "cPuav_I1ORTd",
        "outputId": "d6145e95-492e-4c19-d12c-ef44c521c71a"
      },
      "execution_count": null,
      "outputs": [
        {
          "output_type": "stream",
          "name": "stdout",
          "text": [
            "Me llamo Ana y tengo 13 años\n"
          ]
        }
      ]
    },
    {
      "cell_type": "markdown",
      "source": [
        "### Imprimir con el formato `f`"
      ],
      "metadata": {
        "id": "ALlOJRY-N69i"
      }
    },
    {
      "cell_type": "code",
      "source": [
        "print(f\"Me llamo {nombre} y tengo {edad} años\")"
      ],
      "metadata": {
        "colab": {
          "base_uri": "https://localhost:8080/"
        },
        "id": "cBrCzorWOCHs",
        "outputId": "82d9ecfc-8a1e-434b-964a-3b5665b150c5"
      },
      "execution_count": null,
      "outputs": [
        {
          "output_type": "stream",
          "name": "stdout",
          "text": [
            "Me llamo Ana y tengo 13 años\n"
          ]
        }
      ]
    },
    {
      "cell_type": "markdown",
      "source": [
        "## Input\n",
        "* Introducir datos por teclado usando 'input'\n",
        "* Con `input` siempre se captura un string aunque se escriba un número."
      ],
      "metadata": {
        "id": "LH79LrRNPpUD"
      }
    },
    {
      "cell_type": "code",
      "source": [
        "input(\"¿Cuántos años tiene?: \")"
      ],
      "metadata": {
        "colab": {
          "base_uri": "https://localhost:8080/",
          "height": 53
        },
        "id": "dSofDHSmRsCi",
        "outputId": "fe03843f-35ab-4b33-a79d-bec78e95ae4d"
      },
      "execution_count": null,
      "outputs": [
        {
          "name": "stdout",
          "output_type": "stream",
          "text": [
            "¿Cuántos años tiene?: 20\n"
          ]
        },
        {
          "output_type": "execute_result",
          "data": {
            "text/plain": [
              "'20'"
            ],
            "application/vnd.google.colaboratory.intrinsic+json": {
              "type": "string"
            }
          },
          "metadata": {},
          "execution_count": 34
        }
      ]
    },
    {
      "cell_type": "code",
      "source": [
        "edad = int(input(\"¿Cuántos años tiene?: \"))     # se pone int para convertir\n",
        "print(f\"Tengo {edad} años\")\n",
        "print(f\"Y el próximo año tendré {edad+1}\")      # da Error si no se pone int"
      ],
      "metadata": {
        "colab": {
          "base_uri": "https://localhost:8080/"
        },
        "id": "lc9dvZTrPx0E",
        "outputId": "68334eef-94ad-4307-81ee-e15c5aa6abbe"
      },
      "execution_count": null,
      "outputs": [
        {
          "output_type": "stream",
          "name": "stdout",
          "text": [
            "¿Cuántos años tiene?: 17\n",
            "Tengo 17 años\n",
            "Y el próximo año tendré 18\n"
          ]
        }
      ]
    },
    {
      "cell_type": "markdown",
      "source": [
        "## Ejercicios"
      ],
      "metadata": {
        "id": "kVhzvwqPfqNh"
      }
    },
    {
      "cell_type": "markdown",
      "source": [
        "#### *Ejercicio 1*\n",
        "* Pide por teclado dos números, primero el num1 y luego vuelve a pedir por teclado el num2.\n",
        "* Finalmente imprime los dos números concatenados, no los sumes."
      ],
      "metadata": {
        "id": "tffkYRdffs2g"
      }
    },
    {
      "cell_type": "markdown",
      "source": [
        "#### *Ejercicio 2*\n",
        "1. Pregunta al usuario por el número de coches que tiene su familia.\n",
        "2. Si tiene 1 coche, usando el sistema de formato `f` debe imprimir la frase:\n",
        "<pre>No me gusta nada estar revisando la presión de las 4 ruedas.</pre>\n",
        "3. Si tiene 2 coches debe imprimir la frase:\n",
        "<pre>No me gusta nada estar revisando la presión de las 8 ruedas.</pre>\n",
        "4. Al introducir el usuario el número de coches que hay en su familia la frase debe adaptarse a cada caso."
      ],
      "metadata": {
        "id": "Q-0jBA04oGwB"
      }
    },
    {
      "cell_type": "markdown",
      "source": [
        "#### *Ejercicio 3*\n",
        "1. Crea un programa que pida al usuario que indique un producto y su precio que contenga unos euros y unos céntimos de euro.\n",
        "2. Por ejemplo, producto = \"café\", precio = 2.50.\n",
        "3. El programa ha de imprimir la frase:\n",
        "    <pre>Esta mañana he pagado 2 euros y 50 céntimos por un café.</pre>\n",
        "5. Usa el sistema `f` de *format* para imprimir la frase.\n",
        "6. Prueba con otros productos y precios."
      ],
      "metadata": {
        "id": "yZh3EAJqrudC"
      }
    }
  ]
}