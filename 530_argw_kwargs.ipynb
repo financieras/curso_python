{
  "nbformat": 4,
  "nbformat_minor": 0,
  "metadata": {
    "colab": {
      "provenance": [],
      "authorship_tag": "ABX9TyMiehY7QwGt41pDuew8IZq/",
      "include_colab_link": true
    },
    "kernelspec": {
      "name": "python3",
      "display_name": "Python 3"
    },
    "language_info": {
      "name": "python"
    }
  },
  "cells": [
    {
      "cell_type": "markdown",
      "metadata": {
        "id": "view-in-github",
        "colab_type": "text"
      },
      "source": [
        "<a href=\"https://colab.research.google.com/github/financieras/curso_python/blob/main/530_argw_kwargs.ipynb\" target=\"_parent\"><img src=\"https://colab.research.google.com/assets/colab-badge.svg\" alt=\"Open In Colab\"/></a>"
      ]
    },
    {
      "cell_type": "markdown",
      "source": [
        "# Un número idefinido de argumentos `*args`\n",
        "* En ocasiones no sabemos cuántos argumentos se llegarán a pasar a una función.\n",
        "* Por ejemplo, al sumar una serie de números podemos hacer una función que sume solo dos números, pero ¿qué sucede si queremos sumar tres o más números?\n",
        "* En estos casos tenemos que usar el operador asterisco `*`"
      ],
      "metadata": {
        "id": "HeaqyFbG2GLH"
      }
    },
    {
      "cell_type": "code",
      "source": [
        "def suma(*args):\n",
        "    resultado = 0\n",
        "    for numero in args:\n",
        "        resultado += numero\n",
        "    return resultado\n",
        "\n",
        "total = suma(1, 2, 3, 4, 5)\n",
        "print(total)    # se imprime la suma de todos los argumentos\n",
        "\n",
        "suma(10, 20)    # en este caso sumamos solo dos numeros"
      ],
      "metadata": {
        "colab": {
          "base_uri": "https://localhost:8080/"
        },
        "id": "G8zcST3w1yWz",
        "outputId": "df2bb8fd-790e-4928-d725-adba8f4d0d72"
      },
      "execution_count": null,
      "outputs": [
        {
          "output_type": "stream",
          "name": "stdout",
          "text": [
            "15\n"
          ]
        },
        {
          "output_type": "execute_result",
          "data": {
            "text/plain": [
              "30"
            ]
          },
          "metadata": {},
          "execution_count": 7
        }
      ]
    },
    {
      "cell_type": "markdown",
      "source": [
        "## Argumentos conocidos más argumentos indefinidos\n",
        "*  Los dos primeros argumentos `nombre` y `edad` son conocidos.\n",
        "* Los argumentos adicionales representan `asignaturas` que está etudiando esa persona.\n",
        "* Orden de los argumentos: los argumentos conocidos van los primeros y al final van los que llevan el asterisco.\n",
        "* La variable que lleva el asterisco no siempre se ha de llamar `*args`, en este ejemplo se llama `*asignaturas`"
      ],
      "metadata": {
        "id": "HIas377N23PH"
      }
    },
    {
      "cell_type": "code",
      "source": [
        "def informacion_estudiante(nombre, edad, *asignaturas):\n",
        "    print(\"Nombre:\", nombre)\n",
        "    print(\"Edad:\", edad)\n",
        "    if asignaturas:\n",
        "        print(\"Asignaturas que estudia:\")\n",
        "        for asignatura in asignaturas:\n",
        "            print(\"\\t\", asignatura)\n",
        "\n",
        "# Llamamos a la función con nombre, edad y asignaturas.\n",
        "informacion_estudiante(\"Juan\", 16, \"Matemáticas\", \"Historia\", \"Inglés\")\n"
      ],
      "metadata": {
        "colab": {
          "base_uri": "https://localhost:8080/"
        },
        "id": "ZU83ftRd282I",
        "outputId": "f4172ff4-d92a-4585-d111-ecef0b629ae3"
      },
      "execution_count": null,
      "outputs": [
        {
          "output_type": "stream",
          "name": "stdout",
          "text": [
            "Nombre: Juan\n",
            "Edad: 16\n",
            "Asignaturas que estudia:\n",
            "\t Matemáticas\n",
            "\t Historia\n",
            "\t Inglés\n"
          ]
        }
      ]
    },
    {
      "cell_type": "markdown",
      "source": [
        "## Número indefinido de claves en un diccionario `**kwargs`\n",
        "* Lo que realmente indica que el parámetro es de este tipo es el símbolo `**`, el nombre *kwargs* se usa por convención.\n",
        "* El parámetro recibe los argumentos como un diccionario.\n",
        "* Al tratarse de un diccionario, el orden de los parámetros no importa.\n",
        "* Los parámetros se asocian en función de las claves del diccionario."
      ],
      "metadata": {
        "id": "khZ7FTZ35H9P"
      }
    },
    {
      "cell_type": "code",
      "source": [
        "def imprimir_info(**kwargs):\n",
        "    for clave, valor in kwargs.items():\n",
        "        print(f\"{clave} → {valor}\")\n",
        "\n",
        "imprimir_info(nombre=\"Juan\", edad=16, ciudad=\"Madrid\")"
      ],
      "metadata": {
        "colab": {
          "base_uri": "https://localhost:8080/"
        },
        "id": "SvXKlnNG5XJH",
        "outputId": "959b7c48-c357-4b94-8808-a7903119337b"
      },
      "execution_count": null,
      "outputs": [
        {
          "output_type": "stream",
          "name": "stdout",
          "text": [
            "nombre → Juan\n",
            "edad → 16\n",
            "ciudad → Madrid\n"
          ]
        }
      ]
    },
    {
      "cell_type": "markdown",
      "source": [
        "### Utilizar conjuntamente `*args` y `**kwargs`\n",
        "Sintaxis en este orden:\n",
        "<pre>\n",
        "def ejemplo(arg1, arg2, *args, **kwargs)\n",
        "</pre>\n",
        "\n",
        "* Los ingredientes adicionales se recopilan en una tupla `args`.\n",
        "* Las opciones personalizadas se recopilan en un diccionario `kwargs`."
      ],
      "metadata": {
        "id": "qjw29L4mOV7P"
      }
    },
    {
      "cell_type": "code",
      "source": [
        "def procesar_pedido(producto, cantidad, *args, **kwargs):\n",
        "    print(\"Procesando pedido de:\", producto)\n",
        "    print(\"Cantidad:\", cantidad)\n",
        "\n",
        "    # Imprimir los ingredientes adicionales (args)\n",
        "    if args:\n",
        "        print(\"Ingredientes adicionales:\")\n",
        "        for ingrediente in args:\n",
        "            print(ingrediente)\n",
        "\n",
        "    # Imprimir las opciones personalizadas (kwargs)\n",
        "    if kwargs:\n",
        "        print(\"Opciones personalizadas:\")\n",
        "        for opcion, valor in kwargs.items():\n",
        "            print(f\"{opcion}: {valor}\")\n",
        "\n",
        "# Llamamos a la función con diferentes argumentos y opciones personalizadas.\n",
        "procesar_pedido(\"Pizza\", 2, \"Jamón\", \"Queso extra\", salsa=\"Barbacoa\", tamaño=\"Grande\")\n"
      ],
      "metadata": {
        "id": "CQ2yX1WSOHPR",
        "outputId": "ddbce1d8-5fc8-4956-f153-71751e77668c",
        "colab": {
          "base_uri": "https://localhost:8080/"
        }
      },
      "execution_count": 1,
      "outputs": [
        {
          "output_type": "stream",
          "name": "stdout",
          "text": [
            "Procesando pedido de: Pizza\n",
            "Cantidad: 2\n",
            "Ingredientes adicionales:\n",
            "Jamón\n",
            "Queso extra\n",
            "Opciones personalizadas:\n",
            "salsa: Barbacoa\n",
            "tamaño: Grande\n"
          ]
        }
      ]
    }
  ]
}