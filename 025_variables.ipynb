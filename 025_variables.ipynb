{
  "nbformat": 4,
  "nbformat_minor": 0,
  "metadata": {
    "colab": {
      "provenance": [],
      "authorship_tag": "ABX9TyOUD51xHjPi37PZ9/LKdf8+",
      "include_colab_link": true
    },
    "kernelspec": {
      "name": "python3",
      "display_name": "Python 3"
    },
    "language_info": {
      "name": "python"
    }
  },
  "cells": [
    {
      "cell_type": "markdown",
      "metadata": {
        "id": "view-in-github",
        "colab_type": "text"
      },
      "source": [
        "<a href=\"https://colab.research.google.com/github/financieras/curso_python/blob/main/025_variables.ipynb\" target=\"_parent\"><img src=\"https://colab.research.google.com/assets/colab-badge.svg\" alt=\"Open In Colab\"/></a>"
      ]
    },
    {
      "cell_type": "markdown",
      "source": [
        "# Variables"
      ],
      "metadata": {
        "id": "_7eZ4kRnEEUT"
      }
    },
    {
      "cell_type": "markdown",
      "source": [
        "Las variables en Python son **case-sensitive**, se diferencia entre mayúsculas y minúsculas.\n",
        "\n",
        "Dos estilos:\n",
        "- [camelCase](https://www.google.com/search?q=camelCase)\n",
        "- [snake_case](https://www.google.com/search?q=snake_case)"
      ],
      "metadata": {
        "id": "kLUuVcrRR2Sk"
      }
    },
    {
      "cell_type": "markdown",
      "source": [
        "### Nombres de variables\n",
        "Los nombres de variables permitidos son los que:\n",
        "1. comienzan con letra, no deben comenzar por número\n",
        "2. no tienen espacios\n",
        "3. no tienen símbolos, salvo barra baja `_`\n",
        "4. no usar palabras reservadas como: print, and, global, in, while, pass, ...\n",
        "5. es práctica habitual que se escriban en minúsculas\n",
        "6. procurar evitar la letra ñ y los acentos áéíóú, â, ü, ç"
      ],
      "metadata": {
        "id": "zPJfqnirR7ZX"
      }
    },
    {
      "cell_type": "code",
      "source": [
        "#mi-nombre = \"Ana\"    # error, no acepta guion ni otros símbolos"
      ],
      "metadata": {
        "id": "F0rZsEt0WPQr"
      },
      "execution_count": null,
      "outputs": []
    },
    {
      "cell_type": "code",
      "source": [
        "#4edad = 15           # error, no puede empezar por número"
      ],
      "metadata": {
        "id": "1BGebaPFWTZ_"
      },
      "execution_count": null,
      "outputs": []
    },
    {
      "cell_type": "code",
      "source": [
        "#4edad = 15           # error, no puede empezar por número"
      ],
      "metadata": {
        "id": "N-hItwySWX0j"
      },
      "execution_count": null,
      "outputs": []
    },
    {
      "cell_type": "code",
      "source": [
        "#$edad = 30           # error, no puede empezar por símbolo"
      ],
      "metadata": {
        "id": "1A6Vre1qWbKi"
      },
      "execution_count": null,
      "outputs": []
    },
    {
      "cell_type": "code",
      "source": [
        "nombreApellidos = \"Juan Ruiz\"    # lower camel style\n",
        "NombreApellidos = \"Pablo Díez\"   # upper camel style\n",
        "nombre_del_padre = \"Juan\"        # sanke case\n",
        "nombreApellidos"
      ],
      "metadata": {
        "id": "8CJ_Pz5OWb0y",
        "outputId": "de2b83e2-9f64-4848-fafc-a07f669060d0",
        "colab": {
          "base_uri": "https://localhost:8080/",
          "height": 35
        }
      },
      "execution_count": null,
      "outputs": [
        {
          "output_type": "execute_result",
          "data": {
            "text/plain": [
              "'Juan Ruiz'"
            ],
            "application/vnd.google.colaboratory.intrinsic+json": {
              "type": "string"
            }
          },
          "metadata": {},
          "execution_count": 2
        }
      ]
    },
    {
      "cell_type": "code",
      "source": [
        "nombreApellidos == NombreApellidos   # False, case sensitive"
      ],
      "metadata": {
        "id": "OCYoff__WrAG",
        "outputId": "036499d0-8d1f-4473-e84c-d7ded976ec81",
        "colab": {
          "base_uri": "https://localhost:8080/"
        }
      },
      "execution_count": null,
      "outputs": [
        {
          "output_type": "execute_result",
          "data": {
            "text/plain": [
              "False"
            ]
          },
          "metadata": {},
          "execution_count": 3
        }
      ]
    },
    {
      "cell_type": "markdown",
      "source": [
        "## Palabras reservadas  \n",
        "Existen ciertos nombres reservamos que no se pueden usar como nombres de variables."
      ],
      "metadata": {
        "id": "rs-DZpTCDi2z"
      }
    },
    {
      "cell_type": "markdown",
      "source": [
        "### Todas las `keywords` o palabras reservadas en Python"
      ],
      "metadata": {
        "id": "ipomhOa6DpaF"
      }
    },
    {
      "cell_type": "code",
      "source": [
        "import keyword        # aquí importamos una librería que esta llena de funciones\n",
        "print(keyword.kwlist) # una de esas funciones es kwlist que listas las keywords"
      ],
      "metadata": {
        "id": "iM9zJVIKDNjj",
        "outputId": "452e4601-b2cd-4059-e823-f247609a5262",
        "colab": {
          "base_uri": "https://localhost:8080/"
        }
      },
      "execution_count": null,
      "outputs": [
        {
          "output_type": "stream",
          "name": "stdout",
          "text": [
            "['False', 'None', 'True', 'and', 'as', 'assert', 'async', 'await', 'break', 'class', 'continue', 'def', 'del', 'elif', 'else', 'except', 'finally', 'for', 'from', 'global', 'if', 'import', 'in', 'is', 'lambda', 'nonlocal', 'not', 'or', 'pass', 'raise', 'return', 'try', 'while', 'with', 'yield']\n"
          ]
        }
      ]
    },
    {
      "cell_type": "code",
      "source": [
        "# Ejemplo que da error\n",
        "#import = 15"
      ],
      "metadata": {
        "id": "4P7yb7QnXYy0"
      },
      "execution_count": null,
      "outputs": []
    },
    {
      "cell_type": "code",
      "source": [
        "# import es una palabra reservada del lenguaje\n",
        "# (Python Keywords)\n",
        "# Mejor myimport\n",
        "myimport = 15\n",
        "myimport"
      ],
      "metadata": {
        "id": "_gzDFs0hXZe6",
        "outputId": "6d2a3d46-9029-4049-a0ac-3cd22520c0d3",
        "colab": {
          "base_uri": "https://localhost:8080/"
        }
      },
      "execution_count": null,
      "outputs": [
        {
          "output_type": "execute_result",
          "data": {
            "text/plain": [
              "15"
            ]
          },
          "metadata": {},
          "execution_count": 4
        }
      ]
    },
    {
      "cell_type": "markdown",
      "source": [
        "## Tipado dinámico y fuerte\n",
        "* Python es un lenguaje de tipado dinámico y de tipado fuerte.\n",
        "    1. Tipado dinámico vs tipado estático\n",
        "        - Tipado Dinámico: cuando el tipo de dato de una variable puede cambiar\n",
        "        <pre>\n",
        "        a = 5\n",
        "        print(a)    # imprime 5\n",
        "        a = \"Hola\"\n",
        "        print(a)    # imprime Hola y no da error\n",
        "        </pre>\n",
        "    2. Tipado fuerte vs tipado débil\n",
        "        - Tipado fuerte: cuando arroja un error ante una operación entre dos tipos de datos incompatibles, en lugar de convertir implícitamente alguno de los dos tipos.\n",
        "        <pre>\n",
        "        a = 2\n",
        "        b = \"3\"\n",
        "        print(a + b)  # ¡Error!\n",
        "        </pre>\n",
        "        - JavaScript tiene tipado débil\n",
        "\n",
        " &nbsp;&nbsp;&nbsp;&nbsp; &nbsp;&nbsp;&nbsp;&nbsp;<img src=\"https://github.com/financieras/curso_python/blob/main/img/javascript_tipado_debil.png?raw=1\" alt=\"javascript con tipado débil\" width=\"150\">\n",
        "\n",
        "<center><img src=\"https://github.com/financieras/curso_python/blob/main/img/dinamic_strong.png?raw=1\" alt=\"molde\" width=\"300\"></center>"
      ],
      "metadata": {
        "id": "xPw-OWznjMRB"
      }
    },
    {
      "cell_type": "code",
      "source": [
        "a = 5\n",
        "print(a)    # imprime 5\n",
        "\n",
        "a = \"Hola\"\n",
        "print(a)    # imprime Hola y no da error"
      ],
      "metadata": {
        "colab": {
          "base_uri": "https://localhost:8080/"
        },
        "id": "1zrhmyyRjeld",
        "outputId": "e86a05a6-592e-4675-a50f-748e2eee90d5"
      },
      "execution_count": null,
      "outputs": [
        {
          "output_type": "stream",
          "name": "stdout",
          "text": [
            "5\n",
            "Hola\n"
          ]
        }
      ]
    },
    {
      "cell_type": "code",
      "source": [
        "a = 2\n",
        "b = \"3\"\n",
        "#print(a + b)       # ¡Error!\n",
        "print(str(a) + b)   # casteando con str para convertir el número a string\n",
        "print(a + int(b))   # casteando con int para convertir el string a entero"
      ],
      "metadata": {
        "colab": {
          "base_uri": "https://localhost:8080/"
        },
        "id": "SAL4tGkxjrmD",
        "outputId": "7bd93c56-a93f-487c-d491-3e5ef449668e"
      },
      "execution_count": null,
      "outputs": [
        {
          "output_type": "stream",
          "name": "stdout",
          "text": [
            "23\n",
            "5\n"
          ]
        }
      ]
    },
    {
      "cell_type": "markdown",
      "source": [
        "## Ejercicios"
      ],
      "metadata": {
        "id": "LoxTtEYe_7qe"
      }
    },
    {
      "cell_type": "markdown",
      "source": [
        "#### *Ejercicio 1*\n",
        "Crea una variable con un nombre de variable no permitido y observa el error que se produce."
      ],
      "metadata": {
        "id": "2FPEzyc1Sx8J"
      }
    },
    {
      "cell_type": "markdown",
      "source": [
        "#### *Ejercicio 2*\n",
        "* Usa la variable `edad` para indicar tu edad.\n",
        "* Usa la variable `nombre` para indicar tu nombre.\n",
        "* Si tu edad es de 16 años ¿qué código tendrías que poner para que se imprima la frase siguiente?\n",
        "\n",
        "```\n",
        "Me llamao Sonia y en mi próximo cumpleaños celebraré los 17 años\n",
        "```"
      ],
      "metadata": {
        "id": "a1l4SJAt2kWH"
      }
    }
  ]
}