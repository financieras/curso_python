{
  "cells": [
    {
      "cell_type": "markdown",
      "metadata": {
        "colab_type": "text",
        "id": "view-in-github"
      },
      "source": [
        "<a href=\"https://colab.research.google.com/github/financieras/curso_python/blob/main/025_variables.ipynb\" target=\"_parent\"><img src=\"https://colab.research.google.com/assets/colab-badge.svg\" alt=\"Open In Colab\"/></a>"
      ]
    },
    {
      "cell_type": "markdown",
      "metadata": {
        "id": "_7eZ4kRnEEUT"
      },
      "source": [
        "# Variables"
      ]
    },
    {
      "cell_type": "markdown",
      "metadata": {
        "id": "kLUuVcrRR2Sk"
      },
      "source": [
        "Las variables en Python son **case-sensitive**, se diferencia entre mayúsculas y minúsculas.\n",
        "\n",
        "Dos estilos:\n",
        "- [camelCase](https://www.google.com/search?q=camelCase)\n",
        "- [snake_case](https://www.google.com/search?q=snake_case)"
      ]
    },
    {
      "cell_type": "markdown",
      "metadata": {
        "id": "zPJfqnirR7ZX"
      },
      "source": [
        "### Nombres de variables\n",
        "Los nombres de variables permitidos son los que:\n",
        "1. comienzan con letra, no deben comenzar por número\n",
        "2. no tienen espacios\n",
        "3. no tienen símbolos, salvo barra baja `_`\n",
        "4. no usar palabras reservadas como: print, and, global, in, while, pass, ...\n",
        "5. es práctica habitual que se escriban en minúsculas\n",
        "6. procurar evitar la letra ñ y los acentos áéíóú, â, ü, ç"
      ]
    },
    {
      "cell_type": "code",
      "execution_count": null,
      "metadata": {
        "id": "F0rZsEt0WPQr"
      },
      "outputs": [],
      "source": [
        "#mi-nombre = \"Ana\"    # error, no acepta guion ni otros símbolos"
      ]
    },
    {
      "cell_type": "code",
      "execution_count": null,
      "metadata": {
        "id": "1BGebaPFWTZ_"
      },
      "outputs": [],
      "source": [
        "#4edad = 15           # error, no puede empezar por número"
      ]
    },
    {
      "cell_type": "code",
      "execution_count": null,
      "metadata": {
        "id": "1A6Vre1qWbKi"
      },
      "outputs": [],
      "source": [
        "#$edad = 30           # error, no puede empezar por símbolo"
      ]
    },
    {
      "cell_type": "code",
      "execution_count": null,
      "metadata": {
        "colab": {
          "base_uri": "https://localhost:8080/",
          "height": 35
        },
        "id": "8CJ_Pz5OWb0y",
        "outputId": "de2b83e2-9f64-4848-fafc-a07f669060d0"
      },
      "outputs": [
        {
          "data": {
            "application/vnd.google.colaboratory.intrinsic+json": {
              "type": "string"
            },
            "text/plain": [
              "'Juan Ruiz'"
            ]
          },
          "execution_count": 2,
          "metadata": {},
          "output_type": "execute_result"
        }
      ],
      "source": [
        "nombreApellidos = \"Juan Ruiz\"    # lower camel style\n",
        "NombreApellidos = \"Pablo Díez\"   # upper camel style\n",
        "nombre_del_padre = \"Juan\"        # sanke case\n",
        "nombreApellidos"
      ]
    },
    {
      "cell_type": "code",
      "execution_count": null,
      "metadata": {
        "colab": {
          "base_uri": "https://localhost:8080/"
        },
        "id": "OCYoff__WrAG",
        "outputId": "036499d0-8d1f-4473-e84c-d7ded976ec81"
      },
      "outputs": [
        {
          "data": {
            "text/plain": [
              "False"
            ]
          },
          "execution_count": 3,
          "metadata": {},
          "output_type": "execute_result"
        }
      ],
      "source": [
        "nombreApellidos == NombreApellidos   # False, case sensitive"
      ]
    },
    {
      "cell_type": "markdown",
      "metadata": {
        "id": "rs-DZpTCDi2z"
      },
      "source": [
        "## Palabras reservadas  \n",
        "Existen ciertos nombres reservamos que no se pueden usar como nombres de variables."
      ]
    },
    {
      "cell_type": "markdown",
      "metadata": {
        "id": "ipomhOa6DpaF"
      },
      "source": [
        "### Todas las `keywords` o palabras reservadas en Python"
      ]
    },
    {
      "cell_type": "code",
      "execution_count": null,
      "metadata": {
        "colab": {
          "base_uri": "https://localhost:8080/"
        },
        "id": "iM9zJVIKDNjj",
        "outputId": "452e4601-b2cd-4059-e823-f247609a5262"
      },
      "outputs": [
        {
          "name": "stdout",
          "output_type": "stream",
          "text": [
            "['False', 'None', 'True', 'and', 'as', 'assert', 'async', 'await', 'break', 'class', 'continue', 'def', 'del', 'elif', 'else', 'except', 'finally', 'for', 'from', 'global', 'if', 'import', 'in', 'is', 'lambda', 'nonlocal', 'not', 'or', 'pass', 'raise', 'return', 'try', 'while', 'with', 'yield']\n"
          ]
        }
      ],
      "source": [
        "import keyword        # aquí importamos una librería que esta llena de funciones\n",
        "print(keyword.kwlist) # una de esas funciones es kwlist que listas las keywords"
      ]
    },
    {
      "cell_type": "code",
      "execution_count": null,
      "metadata": {
        "id": "4P7yb7QnXYy0"
      },
      "outputs": [],
      "source": [
        "# Ejemplo que da error\n",
        "#import = 15"
      ]
    },
    {
      "cell_type": "code",
      "execution_count": null,
      "metadata": {
        "colab": {
          "base_uri": "https://localhost:8080/"
        },
        "id": "_gzDFs0hXZe6",
        "outputId": "6d2a3d46-9029-4049-a0ac-3cd22520c0d3"
      },
      "outputs": [
        {
          "data": {
            "text/plain": [
              "15"
            ]
          },
          "execution_count": 4,
          "metadata": {},
          "output_type": "execute_result"
        }
      ],
      "source": [
        "# import es una palabra reservada del lenguaje\n",
        "# (Python Keywords)\n",
        "# Mejor myimport\n",
        "myimport = 15\n",
        "myimport"
      ]
    },
    {
      "cell_type": "markdown",
      "metadata": {
        "id": "xPw-OWznjMRB"
      },
      "source": [
        "## Tipado dinámico y fuerte\n",
        "* Python es un lenguaje de tipado dinámico y de tipado fuerte.\n",
        "    1. Tipado dinámico vs tipado estático\n",
        "        - Tipado Dinámico: cuando el tipo de dato de una variable puede cambiar\n",
        "        <pre>\n",
        "        a = 5\n",
        "        print(a)    # imprime 5\n",
        "        a = \"Hola\"\n",
        "        print(a)    # imprime Hola y no da error\n",
        "        </pre>\n",
        "    2. Tipado fuerte vs tipado débil\n",
        "        - Tipado fuerte: cuando arroja un error ante una operación entre dos tipos de datos incompatibles, en lugar de convertir implícitamente alguno de los dos tipos.\n",
        "        <pre>\n",
        "        a = 2\n",
        "        b = \"3\"\n",
        "        print(a + b)  # ¡Error!\n",
        "        </pre>\n",
        "        - JavaScript tiene tipado débil\n",
        "\n",
        " &nbsp;&nbsp;&nbsp;&nbsp; &nbsp;&nbsp;&nbsp;&nbsp;<img src=\"https://github.com/financieras/curso_python/blob/main/img/javascript_tipado_debil.png?raw=1\" alt=\"javascript con tipado débil\" width=\"150\">\n",
        "\n",
        "<center><img src=\"https://github.com/financieras/curso_python/blob/main/img/dinamic_strong.png?raw=1\" alt=\"molde\" width=\"300\"></center>"
      ]
    },
    {
      "cell_type": "code",
      "execution_count": null,
      "metadata": {
        "colab": {
          "base_uri": "https://localhost:8080/"
        },
        "id": "1zrhmyyRjeld",
        "outputId": "e86a05a6-592e-4675-a50f-748e2eee90d5"
      },
      "outputs": [
        {
          "name": "stdout",
          "output_type": "stream",
          "text": [
            "5\n",
            "Hola\n"
          ]
        }
      ],
      "source": [
        "a = 5\n",
        "print(a)    # imprime 5\n",
        "\n",
        "a = \"Hola\"\n",
        "print(a)    # imprime Hola y no da error"
      ]
    },
    {
      "cell_type": "code",
      "execution_count": null,
      "metadata": {
        "colab": {
          "base_uri": "https://localhost:8080/"
        },
        "id": "SAL4tGkxjrmD",
        "outputId": "7bd93c56-a93f-487c-d491-3e5ef449668e"
      },
      "outputs": [
        {
          "name": "stdout",
          "output_type": "stream",
          "text": [
            "23\n",
            "5\n"
          ]
        }
      ],
      "source": [
        "a = 2\n",
        "b = \"3\"\n",
        "#print(a + b)       # ¡Error!\n",
        "print(str(a) + b)   # casteando con str para convertir el número a string\n",
        "print(a + int(b))   # casteando con int para convertir el string a entero"
      ]
    },
    {
      "cell_type": "markdown",
      "metadata": {
        "id": "25a6156f"
      },
      "source": [
        "# Permutar valores  \n",
        "## Utilizando una variable auxiliar\n",
        "<img src=\"https://github.com/financieras/pyCourse/blob/main/jupyter/img/rojo_amarillo_azul_.jpg?raw=1\" alt=\"Tres vasos\" width=\"250\"/>"
      ]
    },
    {
      "cell_type": "code",
      "execution_count": null,
      "metadata": {
        "colab": {
          "base_uri": "https://localhost:8080/"
        },
        "id": "bcb071e5",
        "outputId": "47af7cef-0c9f-4001-f6da-c9d4a96aa7aa"
      },
      "outputs": [
        {
          "name": "stdout",
          "output_type": "stream",
          "text": [
            "a=10, b=5\n"
          ]
        }
      ],
      "source": [
        "a = 5\n",
        "b = 10\n",
        "aux = a                          # creamos una variable auxiliar, se suele llamar aux o temp\n",
        "a = b\n",
        "b = aux\n",
        "print(f'a={a}, b={b}')"
      ]
    },
    {
      "cell_type": "markdown",
      "metadata": {
        "id": "113b1dee"
      },
      "source": [
        "## Python permite permutar en una sola línea"
      ]
    },
    {
      "cell_type": "code",
      "execution_count": null,
      "metadata": {
        "colab": {
          "base_uri": "https://localhost:8080/"
        },
        "id": "ba95b435",
        "outputId": "faff6f54-cfac-4c4e-ed51-09e50345827e"
      },
      "outputs": [
        {
          "name": "stdout",
          "output_type": "stream",
          "text": [
            "a=10, b=5\n"
          ]
        }
      ],
      "source": [
        "a, b = 5, 10\n",
        "a, b = b, a                      # otra forma maravillosa de permutar valores\n",
        "print(f'a={a}, b={b}')"
      ]
    },
    {
      "cell_type": "markdown",
      "metadata": {
        "id": "600dc401"
      },
      "source": [
        "# Constantes  \n",
        "En Python no hay que declarar las constantes.  \n",
        "Una constante es una variable que no cambiará durante la ejecución del programa.  \n",
        "Por convenio se nombran en mayúsculas, por ejemplo:"
      ]
    },
    {
      "cell_type": "code",
      "execution_count": null,
      "metadata": {
        "id": "52f642f5"
      },
      "outputs": [],
      "source": [
        "IVA = 0.21\n",
        "IVA"
      ]
    },
    {
      "cell_type": "markdown",
      "metadata": {
        "id": "LoxTtEYe_7qe"
      },
      "source": [
        "## Ejercicios"
      ]
    },
    {
      "cell_type": "markdown",
      "metadata": {
        "id": "2FPEzyc1Sx8J"
      },
      "source": [
        "#### *Ejercicio 1*\n",
        "Crea una variable con un nombre de variable no permitido y observa el error que se produce."
      ]
    },
    {
      "cell_type": "markdown",
      "metadata": {
        "id": "a1l4SJAt2kWH"
      },
      "source": [
        "#### *Ejercicio 2*\n",
        "* Usa la variable `edad` para indicar tu edad.\n",
        "* Usa la variable `nombre` para indicar tu nombre.\n",
        "* Si tu edad es de 16 años ¿qué código tendrías que poner para que se imprima la frase siguiente?\n",
        "\n",
        "```\n",
        "Me llamao Sonia y en mi próximo cumpleaños celebraré los 17 años\n",
        "```"
      ]
    }
  ],
  "metadata": {
    "colab": {
      "authorship_tag": "ABX9TyOd4jk5SEN5ZJvKaABWiybc",
      "include_colab_link": true,
      "provenance": []
    },
    "kernelspec": {
      "display_name": "Python 3",
      "name": "python3"
    },
    "language_info": {
      "name": "python"
    }
  },
  "nbformat": 4,
  "nbformat_minor": 0
}
