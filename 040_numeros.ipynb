{
  "nbformat": 4,
  "nbformat_minor": 0,
  "metadata": {
    "colab": {
      "provenance": [],
      "authorship_tag": "ABX9TyPi4i210AJ1SWgblpeZx3+w",
      "include_colab_link": true
    },
    "kernelspec": {
      "name": "python3",
      "display_name": "Python 3"
    },
    "language_info": {
      "name": "python"
    }
  },
  "cells": [
    {
      "cell_type": "markdown",
      "metadata": {
        "id": "view-in-github",
        "colab_type": "text"
      },
      "source": [
        "<a href=\"https://colab.research.google.com/github/financieras/curso_python/blob/main/040_numeros.ipynb\" target=\"_parent\"><img src=\"https://colab.research.google.com/assets/colab-badge.svg\" alt=\"Open In Colab\"/></a>"
      ]
    },
    {
      "cell_type": "markdown",
      "source": [
        "# Números"
      ],
      "metadata": {
        "id": "4oa0O4eQ5nNH"
      }
    },
    {
      "cell_type": "markdown",
      "source": [
        "## De coma Flotante\n",
        "1. Son números con decimales\n",
        "2. Son de tipo `float`"
      ],
      "metadata": {
        "id": "vZxW9KUH7ecT"
      }
    },
    {
      "cell_type": "code",
      "execution_count": 1,
      "metadata": {
        "colab": {
          "base_uri": "https://localhost:8080/"
        },
        "id": "hZrohiRs5dlF",
        "outputId": "699312ff-942f-4ecc-9ed0-bcf6fdc4d30f"
      },
      "outputs": [
        {
          "output_type": "stream",
          "name": "stdout",
          "text": [
            "<class 'float'>\n",
            "22.15\n"
          ]
        }
      ],
      "source": [
        "temperatura = 22.15         # float\n",
        "print(type(temperatura))\n",
        "print(temperatura)"
      ]
    },
    {
      "cell_type": "markdown",
      "source": [
        "## Números enteros\n",
        "1. Son los números sin decimales\n",
        "2. Son de tipo `int`"
      ],
      "metadata": {
        "id": "hO5L3yLQ7twb"
      }
    },
    {
      "cell_type": "code",
      "source": [
        "vidas = 4                   # int\n",
        "print(type(vidas))\n",
        "print(vidas)\n",
        "\n",
        "vidas = 7                   # nueva asignación de valor a la variable\n",
        "print(vidas)"
      ],
      "metadata": {
        "colab": {
          "base_uri": "https://localhost:8080/"
        },
        "id": "dI1A6dtw6O3z",
        "outputId": "b3c06c05-a789-4525-a285-356faf325f3a"
      },
      "execution_count": 2,
      "outputs": [
        {
          "output_type": "stream",
          "name": "stdout",
          "text": [
            "<class 'int'>\n",
            "4\n",
            "7\n"
          ]
        }
      ]
    },
    {
      "cell_type": "code",
      "source": [
        "vidas = 4 * 2               # podemos operar dentro de la asignación\n",
        "print(vidas)"
      ],
      "metadata": {
        "colab": {
          "base_uri": "https://localhost:8080/"
        },
        "id": "XnZ_8n-Y6sja",
        "outputId": "27659020-272b-4d92-f926-27e5f7dd9964"
      },
      "execution_count": 3,
      "outputs": [
        {
          "output_type": "stream",
          "name": "stdout",
          "text": [
            "8\n"
          ]
        }
      ]
    },
    {
      "cell_type": "markdown",
      "source": [
        "### Contador\n",
        "1. Una variable actúa como contador cuando nos permite ir sumando 1 u otra cifra.\n",
        "2. La cifra que sumamos no siempre ha de ser 1, podríamos ir sumando de 5 en 5, por ejemplo\n",
        "3. En lugar de sumar también podríamos ir restando y el contador sería descendente"
      ],
      "metadata": {
        "id": "MR-_l4Ic8IKT"
      }
    },
    {
      "cell_type": "code",
      "source": [
        "vidas = vidas + 1\n",
        "print(vidas)\n",
        "\n",
        "vidas += 1              # forma abreviada de sumar 1 a la variable. Se usa mucho\n",
        "print(vidas)"
      ],
      "metadata": {
        "colab": {
          "base_uri": "https://localhost:8080/"
        },
        "id": "rqgEP4OX7D57",
        "outputId": "497dbf23-8ed4-4539-f9f5-06505afcd0a4"
      },
      "execution_count": 4,
      "outputs": [
        {
          "output_type": "stream",
          "name": "stdout",
          "text": [
            "9\n",
            "10\n"
          ]
        }
      ]
    },
    {
      "cell_type": "code",
      "source": [
        "vidas += 5              # aquí sumamos 5 a la variable\n",
        "print(vidas)\n",
        "\n",
        "vidas -= 5              # ahora restamos 5 a la variable\n",
        "print(vidas)"
      ],
      "metadata": {
        "colab": {
          "base_uri": "https://localhost:8080/"
        },
        "id": "ptE7K3iv7Nt6",
        "outputId": "0075fb3a-7c9f-43fe-92d3-cec977cda9e9"
      },
      "execution_count": 5,
      "outputs": [
        {
          "output_type": "stream",
          "name": "stdout",
          "text": [
            "15\n",
            "10\n"
          ]
        }
      ]
    },
    {
      "cell_type": "markdown",
      "source": [
        "## Notación científica"
      ],
      "metadata": {
        "id": "ADDDlRti9CyU"
      }
    },
    {
      "cell_type": "code",
      "source": [
        "x = 4200000000000000000000\n",
        "x += 0.1\n",
        "x"
      ],
      "metadata": {
        "colab": {
          "base_uri": "https://localhost:8080/"
        },
        "id": "j0gRrMe99IND",
        "outputId": "bcc052b3-2353-493f-84a8-8a43720a80fd"
      },
      "execution_count": 19,
      "outputs": [
        {
          "output_type": "execute_result",
          "data": {
            "text/plain": [
              "4.2e+21"
            ]
          },
          "metadata": {},
          "execution_count": 19
        }
      ]
    },
    {
      "cell_type": "code",
      "source": [
        "y = 0.00000000000000000001\n",
        "y"
      ],
      "metadata": {
        "colab": {
          "base_uri": "https://localhost:8080/"
        },
        "id": "Lw2xpLUk-K00",
        "outputId": "78265e3a-fa65-4437-dc75-0e3127a7c233"
      },
      "execution_count": 21,
      "outputs": [
        {
          "output_type": "execute_result",
          "data": {
            "text/plain": [
              "1e-20"
            ]
          },
          "metadata": {},
          "execution_count": 21
        }
      ]
    },
    {
      "cell_type": "markdown",
      "source": [
        "## Conversión de 'int' a 'float'"
      ],
      "metadata": {
        "id": "VFokeyzP-3c1"
      }
    },
    {
      "cell_type": "code",
      "source": [
        "precio = 15\n",
        "print(precio)\n",
        "\n",
        "precio = float(precio)\n",
        "precio"
      ],
      "metadata": {
        "colab": {
          "base_uri": "https://localhost:8080/"
        },
        "id": "HUSSyjEc-9hO",
        "outputId": "bbcd4b67-0e68-4691-ec47-40ecc2ac0a0f"
      },
      "execution_count": 23,
      "outputs": [
        {
          "output_type": "stream",
          "name": "stdout",
          "text": [
            "15\n"
          ]
        },
        {
          "output_type": "execute_result",
          "data": {
            "text/plain": [
              "15.0"
            ]
          },
          "metadata": {},
          "execution_count": 23
        }
      ]
    }
  ]
}