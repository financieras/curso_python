{
  "nbformat": 4,
  "nbformat_minor": 0,
  "metadata": {
    "colab": {
      "provenance": [],
      "authorship_tag": "ABX9TyP0uG8vuJ6da1Kr4TKpa7H7",
      "include_colab_link": true
    },
    "kernelspec": {
      "name": "python3",
      "display_name": "Python 3"
    },
    "language_info": {
      "name": "python"
    }
  },
  "cells": [
    {
      "cell_type": "markdown",
      "metadata": {
        "id": "view-in-github",
        "colab_type": "text"
      },
      "source": [
        "<a href=\"https://colab.research.google.com/github/financieras/pySolutions/blob/main/retos/solucion_retos.ipynb\" target=\"_parent\"><img src=\"https://colab.research.google.com/assets/colab-badge.svg\" alt=\"Open In Colab\"/></a>"
      ]
    },
    {
      "cell_type": "markdown",
      "source": [
        "# Solución de los retos\n",
        "* Python Challenges for Beginners\n",
        "* [Enunciados](https://github.com/financieras/curso_python/blob/main/retos/Python_Challenges_for_Beginners.ipynb)"
      ],
      "metadata": {
        "id": "zPqFxz7B3RpU"
      }
    },
    {
      "cell_type": "markdown",
      "source": [
        "## Reto 1: Hello World"
      ],
      "metadata": {
        "id": "xYKJRg5g3Owk"
      }
    },
    {
      "cell_type": "code",
      "source": [
        "# @title Reto 1.1\n",
        "print(\"Hello, World!\")\n",
        "print(\"Me llamo Ana y tengo 16 años.\")"
      ],
      "metadata": {
        "id": "cUf2K18DShnw",
        "outputId": "a348c4be-7a48-4f08-fa32-3ecbb07e26fe",
        "colab": {
          "base_uri": "https://localhost:8080/"
        },
        "cellView": "form"
      },
      "execution_count": null,
      "outputs": [
        {
          "output_type": "stream",
          "name": "stdout",
          "text": [
            "Hello, World!\n",
            "Me llamo Ana y tengo 16 años.\n"
          ]
        }
      ]
    },
    {
      "cell_type": "code",
      "execution_count": null,
      "metadata": {
        "colab": {
          "base_uri": "https://localhost:8080/"
        },
        "id": "MPr2Pi5YuoOa",
        "outputId": "e51b5ce8-6098-40a5-8931-b4a891a9f1c1",
        "cellView": "form"
      },
      "outputs": [
        {
          "output_type": "stream",
          "name": "stdout",
          "text": [
            "Me llamo Jose y tengo 17 años.\n"
          ]
        }
      ],
      "source": [
        "# @title Reto 1.2\n",
        "nombre = \"Jose\"\n",
        "edad = 17\n",
        "print(f\"Me llamo {nombre} y tengo {edad} años.\")"
      ]
    },
    {
      "cell_type": "code",
      "source": [
        "# @title Reto 1.3\n",
        "edad_proxima = edad + 1\n",
        "print(f\"El próximo año tendré {edad_proxima} años.\")"
      ],
      "metadata": {
        "id": "qgh2WAKpTaUn",
        "outputId": "46c7d14b-c721-453e-9aa9-0dafe2b089b2",
        "colab": {
          "base_uri": "https://localhost:8080/"
        },
        "cellView": "form"
      },
      "execution_count": null,
      "outputs": [
        {
          "output_type": "stream",
          "name": "stdout",
          "text": [
            "El próximo año tendré 18 años.\n"
          ]
        }
      ]
    },
    {
      "cell_type": "markdown",
      "source": [
        "## Reto 2: Series de números"
      ],
      "metadata": {
        "id": "zolaYvRi4kDA"
      }
    },
    {
      "cell_type": "code",
      "source": [
        "# @title Reto 2.1\n",
        "print(list(range(2, 41, 2)))"
      ],
      "metadata": {
        "id": "2NGjchCgeI3k",
        "cellView": "form"
      },
      "execution_count": null,
      "outputs": []
    },
    {
      "cell_type": "code",
      "source": [
        "# @title Reto 2.2\n",
        "for i in range(-10, 11):\n",
        "    print(i, end=\" \")"
      ],
      "metadata": {
        "id": "Fekv7mHA4ijD",
        "cellView": "form"
      },
      "execution_count": null,
      "outputs": []
    },
    {
      "cell_type": "code",
      "source": [
        "# @title Reto 2.3\n",
        "i = 100\n",
        "while i >= 0:\n",
        "    print(i, end= \", \")\n",
        "    i -= 5"
      ],
      "metadata": {
        "id": "NKkdtkkw59Cu",
        "cellView": "form"
      },
      "execution_count": null,
      "outputs": []
    },
    {
      "cell_type": "markdown",
      "source": [
        "## Reto 3: Elevar al cubo"
      ],
      "metadata": {
        "id": "BEMnV1UVBuv6"
      }
    },
    {
      "cell_type": "code",
      "source": [
        "# @title Reto 3.1\n",
        "n = 2\n",
        "print(f\"Elevando {n} al cubo obtenemos {n**3}.\")"
      ],
      "metadata": {
        "id": "eJjABiQ0BzMS",
        "cellView": "form"
      },
      "execution_count": null,
      "outputs": []
    },
    {
      "cell_type": "code",
      "source": [
        "# @title Reto 3.2\n",
        "import math\n",
        "\n",
        "n = 2\n",
        "print(f\"Elevando {n} al cubo obtenemos {math.pow(n,3)}.\")"
      ],
      "metadata": {
        "id": "IUeOcuXPB_el",
        "cellView": "form"
      },
      "execution_count": null,
      "outputs": []
    },
    {
      "cell_type": "code",
      "source": [
        "# @title Reto 3.3\n",
        "def elevar_al_cubo(x):\n",
        "    return x**3\n",
        "\n",
        "n = 2\n",
        "resultado = elevar_al_cubo(n)\n",
        "print(f\"Elevando {n} al cubo obtenemos {resultado}.\")"
      ],
      "metadata": {
        "id": "SzVhaldwCilf",
        "cellView": "form"
      },
      "execution_count": null,
      "outputs": []
    },
    {
      "cell_type": "markdown",
      "source": [
        "## Reto 4: Número par o impar"
      ],
      "metadata": {
        "id": "gISMtMuSDfNs"
      }
    },
    {
      "cell_type": "code",
      "source": [
        "# @title Reto 4.1\n",
        "numero = int(input(\"Introduzca un número entero: \") or '4')\n",
        "if numero % 2 == 0:\n",
        "    resultado = \"par\"\n",
        "else:\n",
        "    resultado = \"impar\"\n",
        "\n",
        "print(f\"El número {numero} es {resultado}.\")"
      ],
      "metadata": {
        "id": "TwYosN13D28y",
        "cellView": "form"
      },
      "execution_count": null,
      "outputs": []
    },
    {
      "cell_type": "code",
      "source": [
        "# @title Reto 4.2\n",
        "import random\n",
        "\n",
        "def comprobar_par_impar(numero):\n",
        "    if numero % 2 == 0:\n",
        "        return \"par\"\n",
        "    else:\n",
        "        return \"impar\"\n",
        "\n",
        "for i in range(10):\n",
        "    n = random.randint(1,100)\n",
        "    resultado = comprobar_par_impar(n)\n",
        "    print(f\"El número {n} es {resultado}.\")"
      ],
      "metadata": {
        "id": "paTNS5W4D3op",
        "cellView": "form"
      },
      "execution_count": null,
      "outputs": []
    },
    {
      "cell_type": "code",
      "source": [
        "# @title Reto 4.3\n",
        "from random import randint\n",
        "\n",
        "cantidad_impares = 0\n",
        "\n",
        "for i in range(200):\n",
        "    n = randint(1, 10)\n",
        "    if n % 2:   # si n es impar n%2 será 1, si n es par n%2 será 0\n",
        "        cantidad_impares += 1\n",
        "\n",
        "print(\"Porcentaje de impares:\", cantidad_impares/2)\n",
        "print(\"Porcentaje de pares  :\", 100-cantidad_impares/2)"
      ],
      "metadata": {
        "id": "Gz_5jGALD4K_",
        "cellView": "form"
      },
      "execution_count": null,
      "outputs": []
    },
    {
      "cell_type": "markdown",
      "source": [
        "## Reto 5: Sumar números y hacer media"
      ],
      "metadata": {
        "id": "6hDDOmT6I_sI"
      }
    },
    {
      "cell_type": "code",
      "source": [
        "# @title Reto 5.1\n",
        "total = 0\n",
        "\n",
        "for i in range(1, 101):\n",
        "    total += i\n",
        "\n",
        "print(\"La suma de los números del 1 al 100 es:\", total)\n",
        "print(f\"La suma {'si' if total==5050 else 'no'} es 5050.\")"
      ],
      "metadata": {
        "id": "rCNxscZKI_H4",
        "cellView": "form"
      },
      "execution_count": null,
      "outputs": []
    },
    {
      "cell_type": "code",
      "source": [
        "# @title Reto 5.2\n",
        "from random import randint, seed\n",
        "seed()\n",
        "\n",
        "while True:\n",
        "    n1 = randint(1, 200)\n",
        "    n2 = randint(1, 200)\n",
        "    if n1 < n2:\n",
        "        break\n",
        "\n",
        "total = 0\n",
        "\n",
        "for i in range(n1, n2+1):\n",
        "    total += i\n",
        "\n",
        "print(f\"La suma de todos los números \\nentre {n1} y {n2} es {total}.\")"
      ],
      "metadata": {
        "id": "CzjKhePjz1qX",
        "outputId": "8740c59c-ec1d-45d2-bd7c-28e331a23496",
        "colab": {
          "base_uri": "https://localhost:8080/"
        },
        "cellView": "form"
      },
      "execution_count": null,
      "outputs": [
        {
          "output_type": "stream",
          "name": "stdout",
          "text": [
            "La suma de todos los números \n",
            "entre 179 y 193 es 2790.\n"
          ]
        }
      ]
    },
    {
      "cell_type": "code",
      "source": [
        "# @title Reto 5.3\n",
        "from random import randint, seed\n",
        "seed()\n",
        "\n",
        "n1 = randint(1, 200)\n",
        "n2 = randint(1, 200)\n",
        "\n",
        "if n1 > n2:\n",
        "    n1, n2 = n2, n1\n",
        "\n",
        "total = 0\n",
        "contador = 0\n",
        "\n",
        "for i in range(n1, n2+1):\n",
        "    if i % 2:\n",
        "        total += i\n",
        "        contador += 1\n",
        "\n",
        "print(\"La media de todos los números impares\")\n",
        "print(f\"entre {n1} y {n2} es {int(total/contador)}.\")"
      ],
      "metadata": {
        "id": "eiL4CxMV1ywi",
        "outputId": "35c4087a-6ed8-4e8a-856d-b13161d0aadd",
        "colab": {
          "base_uri": "https://localhost:8080/"
        },
        "cellView": "form"
      },
      "execution_count": null,
      "outputs": [
        {
          "output_type": "stream",
          "name": "stdout",
          "text": [
            "La media de todos los números impares\n",
            "entre 52 y 150 es 101.\n"
          ]
        }
      ]
    },
    {
      "cell_type": "markdown",
      "source": [
        "## Reto 6: Contar vocales"
      ],
      "metadata": {
        "id": "vUYrsoy2_mu0"
      }
    },
    {
      "cell_type": "code",
      "source": [
        "\n",
        "# @title Reto 6.1\n",
        "#https://colab.research.google.com/notebooks/forms.ipynb\n",
        "\n",
        "def contar_a(mystr):\n",
        "    contador = 0\n",
        "    for character in mystr:\n",
        "        if character == 'a':\n",
        "            contador += 1\n",
        "    return contador\n",
        "\n",
        "palabra = 'abracadabra'     # @param {type:\"string\"}\n",
        "print(f\"La palabra {palabra} contiene {contar_a(palabra)} veces la letra 'a'.\")"
      ],
      "metadata": {
        "id": "lgeTL-guCK-H",
        "cellView": "form"
      },
      "execution_count": null,
      "outputs": []
    },
    {
      "cell_type": "code",
      "source": [
        "# @title Reto 6.2\n",
        "def cuenta_vocales(frase):\n",
        "    vocales = \"aeiouáéíóú\"\n",
        "    contador = 0\n",
        "    for caracter in frase:\n",
        "        if caracter in vocales:\n",
        "            contador += 1\n",
        "    return contador\n",
        "\n",
        "\n",
        "ciudad1 = \"Fuengirola\"\n",
        "ciudad2 = \"Ciudad Juárez\"\n",
        "ciudad1_lower = ciudad1.lower()\n",
        "ciudad2_lower = ciudad2.lower()\n",
        "vocales1 = cuenta_vocales(ciudad1_lower)\n",
        "vocales2 = cuenta_vocales(ciudad2_lower)\n",
        "\n",
        "if vocales1 == vocales2:\n",
        "    print(f\"Empate, ambas tienen {vocales1} vocales.\")\n",
        "else:\n",
        "    print(f\"{ciudad1} tiene {vocales1} vocales y {ciudad2} tiene {vocales2} vocales.\")\n",
        "    print(f\"{ciudad1} tiene {'más' if vocales1 > vocales2 else 'menos'} vocales que {ciudad2}.\")"
      ],
      "metadata": {
        "id": "YaiVQfGV_rbE",
        "cellView": "form"
      },
      "execution_count": null,
      "outputs": []
    },
    {
      "cell_type": "code",
      "source": [
        "# @title Reto 6.3\n",
        "def frecuencia_vocales(frase):\n",
        "    frase = frase.lower()\n",
        "    contador = [0]*5\n",
        "    for caracter in frase:\n",
        "        if caracter in 'aá':\n",
        "            contador[0] += 1\n",
        "        elif caracter in 'eé':\n",
        "            contador[1] += 1\n",
        "        elif caracter in 'ií':\n",
        "            contador[2] += 1\n",
        "        elif caracter in 'oó':\n",
        "            contador[3] += 1\n",
        "        elif caracter in 'uú':\n",
        "            contador[4] += 1\n",
        "    return contador\n",
        "\n",
        "frase = \"Admiro Ámsterdam y Los Ángeles\"\n",
        "vocales = ['a', 'e', 'i', 'o', 'u']\n",
        "\n",
        "print(f\"En la frase: '{frase}'\")\n",
        "for i, v in enumerate(frecuencia_vocales(frase)):\n",
        "    print(f\"\\t{i+1}. Existen {v} vocales de tipo '{vocales[i]}'.\")\n"
      ],
      "metadata": {
        "id": "t4t02XEHF9qS",
        "cellView": "form"
      },
      "execution_count": null,
      "outputs": []
    },
    {
      "cell_type": "markdown",
      "source": [
        "## Reto 7: Ordenar números"
      ],
      "metadata": {
        "id": "niXSdZu-XKkX"
      }
    },
    {
      "cell_type": "code",
      "source": [
        "# @title Reto 7.1\n",
        "from random import randint\n",
        "\n",
        "a = randint(10,100)\n",
        "b = randint(10,100)\n",
        "c = randint(10,100)\n",
        "\n",
        "print(f\"Originales: {a}   {b}   {c}\")\n",
        "\n",
        "if a > b:\n",
        "    a,b = b,a\n",
        "if a > c:\n",
        "    a,c = c,a\n",
        "if b > c:\n",
        "    b,c = c,b\n",
        "\n",
        "print(f\"Ordenados : {a} ≤ {b} ≤ {c}\")"
      ],
      "metadata": {
        "cellView": "form",
        "id": "a7zAaA0BXL2D",
        "outputId": "978042ae-85b9-474f-da1a-dc3df889c797",
        "colab": {
          "base_uri": "https://localhost:8080/"
        }
      },
      "execution_count": null,
      "outputs": [
        {
          "output_type": "stream",
          "name": "stdout",
          "text": [
            "Originales: 71   15   43\n",
            "Ordenados : 15 ≤ 43 ≤ 71\n"
          ]
        }
      ]
    },
    {
      "cell_type": "code",
      "source": [
        "# @title Reto 7.2\n",
        "from random import choice\n",
        "\n",
        "def pareja():\n",
        "    consonantes = 'BCDFGHJKLMNPQRSTVWXYZ'\n",
        "    vocales = 'aeiou'\n",
        "    return choice(consonantes) + choice(vocales)\n",
        "\n",
        "lista_parejas = []\n",
        "for i in range(10):\n",
        "    lista_parejas.append(pareja())\n",
        "\n",
        "print(lista_parejas)\n",
        "\n",
        "#lista_parejas.sort(reverse=True)                       # Método 1 de ordenación\n",
        "#print(lista_parejas)\n",
        "\n",
        "lista_ordenada = sorted(lista_parejas, reverse=True)    # Método 2 de ordenación\n",
        "print(lista_ordenada)"
      ],
      "metadata": {
        "cellView": "form",
        "id": "qvg4T9ftK4Go",
        "outputId": "159af1fc-4b14-482d-835b-8c0101bf5436",
        "colab": {
          "base_uri": "https://localhost:8080/"
        }
      },
      "execution_count": null,
      "outputs": [
        {
          "output_type": "stream",
          "name": "stdout",
          "text": [
            "['Pi', 'Ku', 'Ju', 'Ho', 'Ma', 'Lu', 'Do', 'Di', 'Gu', 'Zo']\n",
            "['Zo', 'Pi', 'Ma', 'Lu', 'Ku', 'Ju', 'Ho', 'Gu', 'Do', 'Di']\n"
          ]
        }
      ]
    },
    {
      "cell_type": "code",
      "source": [
        "# @title Reto 7.3\n",
        "from random import sample\n",
        "\n",
        "lista = sample(range(10,100), 10)\n",
        "\n",
        "print(f\"Originales: {lista}\")\n",
        "\n",
        "for i in range(len(lista)-1):\n",
        "    for j in range(i+1, len(lista)):\n",
        "        if lista[i] > lista[j]:\n",
        "            lista[i], lista[j] = lista[j], lista[i]\n",
        "\n",
        "print(f\"Ordenados : {lista}\")"
      ],
      "metadata": {
        "cellView": "form",
        "id": "NDsrww_rGtnX",
        "outputId": "9aec32ba-b72e-4fa3-c54c-50f36ac8e245",
        "colab": {
          "base_uri": "https://localhost:8080/"
        }
      },
      "execution_count": null,
      "outputs": [
        {
          "output_type": "stream",
          "name": "stdout",
          "text": [
            "Originales: [94, 60, 11, 66, 36, 49, 27, 98, 14, 73]\n",
            "Ordenados : [11, 14, 27, 36, 49, 60, 66, 73, 94, 98]\n"
          ]
        }
      ]
    },
    {
      "cell_type": "markdown",
      "source": [
        "## Reto 8: Sumar números condicionales"
      ],
      "metadata": {
        "id": "wSpfWAfl80CW"
      }
    },
    {
      "cell_type": "code",
      "source": [
        "# @title Reto 8.1\n",
        "from random import randint\n",
        "\n",
        "lista = []\n",
        "for i in range(10):\n",
        "    lista.append(randint(-10, 10))\n",
        "\n",
        "print(lista)\n",
        "\n",
        "total = 0\n",
        "\n",
        "for num in lista:\n",
        "    if num > 0:\n",
        "        total += num\n",
        "\n",
        "print(\"Suma de los positivos:\", total)"
      ],
      "metadata": {
        "id": "0NVw29DF86pl",
        "outputId": "f9104a4c-7642-4b90-cfa6-f0d55cf2b8d0",
        "colab": {
          "base_uri": "https://localhost:8080/"
        },
        "cellView": "form"
      },
      "execution_count": null,
      "outputs": [
        {
          "output_type": "stream",
          "name": "stdout",
          "text": [
            "[5, -9, 0, -1, 10, 1, -5, 7, 10, 7]\n",
            "Suma de los positivos: 40\n"
          ]
        }
      ]
    },
    {
      "cell_type": "code",
      "source": [
        "# @title Reto 8.2\n",
        "from random import sample\n",
        "\n",
        "lista = sample(range(1,101), 50)\n",
        "\n",
        "lista_multiplos = []\n",
        "for num in lista:\n",
        "    if num % 10 == 0 or num % 15 == 0:\n",
        "        lista_multiplos.append(num)\n",
        "\n",
        "print(lista_multiplos)\n",
        "print(\"Suma:\", sum(lista_multiplos))"
      ],
      "metadata": {
        "cellView": "form",
        "id": "B4xXWOGRPo13",
        "outputId": "f22ae74d-b7dd-482e-b002-7cc220b4af15",
        "colab": {
          "base_uri": "https://localhost:8080/"
        }
      },
      "execution_count": null,
      "outputs": [
        {
          "output_type": "stream",
          "name": "stdout",
          "text": [
            "[45, 15, 75, 60, 80, 50, 10]\n",
            "Suma: 335\n"
          ]
        }
      ]
    },
    {
      "cell_type": "code",
      "source": [
        "# @title Reto 8.3\n",
        "from random import randint\n",
        "\n",
        "aleatorios = [randint(1, 100) for _ in range(50)]\n",
        "\n",
        "while True:\n",
        "    n = int(input(\"Introduzca un número entre 2 y 100: \") or '10')\n",
        "    if 2 <= n <= 100:\n",
        "        break\n",
        "print(f\"n = {n}\")\n",
        "multiplos = [num for num in aleatorios if num % n == 0 ]\n",
        "print(f\"Múltiplos de {n}: {multiplos}\")\n",
        "print(f\"La suma de los múltiplos de {n} es {sum(multiplos)}\")\n"
      ],
      "metadata": {
        "cellView": "form",
        "id": "0z4JNAVEUScR",
        "outputId": "a9723cd9-77c5-463d-e02a-3f80228be177",
        "colab": {
          "base_uri": "https://localhost:8080/"
        }
      },
      "execution_count": null,
      "outputs": [
        {
          "output_type": "stream",
          "name": "stdout",
          "text": [
            "Introduzca un número entre 2 y 100: 1\n",
            "Introduzca un número entre 2 y 100: 200\n",
            "Introduzca un número entre 2 y 100: 10\n",
            "n = 10\n",
            "Múltiplos de 10: [10, 70, 80, 80, 70, 50, 100]\n",
            "La suma de los múltiplos de 10 es 460\n"
          ]
        }
      ]
    },
    {
      "cell_type": "markdown",
      "source": [
        "## Reto 9: Seguir analizando datos"
      ],
      "metadata": {
        "id": "kH5lG2BvLAEV"
      }
    },
    {
      "cell_type": "code",
      "source": [
        "# @title Reto 9.1\n",
        "from random import randint\n",
        "\n",
        "while True:\n",
        "    n = randint(0,5)\n",
        "    print(f\"{n} → {n**.5}\")\n",
        "    if n == n**.5:\n",
        "        break"
      ],
      "metadata": {
        "cellView": "form",
        "colab": {
          "base_uri": "https://localhost:8080/"
        },
        "id": "zZ8ghPYwLE6F",
        "outputId": "4aab1583-b506-46d4-c048-211f8746107d"
      },
      "execution_count": 8,
      "outputs": [
        {
          "output_type": "stream",
          "name": "stdout",
          "text": [
            "2 → 1.4142135623730951\n",
            "3 → 1.7320508075688772\n",
            "4 → 2.0\n",
            "3 → 1.7320508075688772\n",
            "0 → 0.0\n"
          ]
        }
      ]
    },
    {
      "cell_type": "code",
      "source": [
        "# @title Reto 9.2\n",
        "from random import randint\n",
        "\n",
        "while True:\n",
        "    n1 = randint(1,9)\n",
        "    n2 = randint(1,9)\n",
        "    print(f\"{n1} + {n2} = {n1+n2}\")\n",
        "    if n1 + n2 == 10:\n",
        "        break"
      ],
      "metadata": {
        "colab": {
          "base_uri": "https://localhost:8080/"
        },
        "id": "pWvB77_0LwPq",
        "outputId": "be712bb2-f010-420c-fdc1-2affaa7fa49d"
      },
      "execution_count": 14,
      "outputs": [
        {
          "output_type": "stream",
          "name": "stdout",
          "text": [
            "5 + 8 = 13\n",
            "8 + 9 = 17\n",
            "7 + 6 = 13\n",
            "6 + 1 = 7\n",
            "4 + 2 = 6\n",
            "7 + 3 = 10\n"
          ]
        }
      ]
    },
    {
      "cell_type": "code",
      "source": [
        "# @title Reto 9.3\n",
        "def menu():\n",
        "    print('''==================\n",
        "    1. Suma\n",
        "    2. Resta\n",
        "    3. Producto\n",
        "    4. División\n",
        "    0. Salir\n",
        "    ''')\n",
        "    opcion = int(input(\"Elija una opción: \"))\n",
        "    return opcion\n",
        "\n",
        "n1 = float(input(\"Introduzca el primer número: \") or '9')\n",
        "n2 = float(input(\"Introduzca el primer número: \") or '4')\n",
        "\n",
        "while True:\n",
        "    opcion = menu()\n",
        "    if opcion == 1:\n",
        "        print(f\"{n1} + {n2} = {n1 + n2}\")\n",
        "    elif opcion == 2:\n",
        "        print(f\"{n1} - {n2} = {n1 - n2}\")\n",
        "    elif opcion == 3:\n",
        "        print(f\"{n1} * {n2} = {n1 * n2}\")\n",
        "    elif opcion == 4:\n",
        "        print(f\"{n1} / {n2} = {n1 / n2}\")\n",
        "    elif opcion == 0:\n",
        "        break\n",
        "    else:\n",
        "        print(\"Opción inválida, pruebe nuevamente.\")\n",
        "\n",
        "print(\"Saliendo de la calculadora ...\")"
      ],
      "metadata": {
        "cellView": "form",
        "colab": {
          "base_uri": "https://localhost:8080/"
        },
        "id": "yzssi6GROkHK",
        "outputId": "d97277a6-3230-4ab4-92b8-cdd0c7b7736f"
      },
      "execution_count": 20,
      "outputs": [
        {
          "output_type": "stream",
          "name": "stdout",
          "text": [
            "Introduzca el primer número: 9\n",
            "Introduzca el primer número: 4\n",
            "==================\n",
            "    1. Suma\n",
            "    2. Resta\n",
            "    3. Producto\n",
            "    4. División\n",
            "    0. Salir\n",
            "    \n",
            "Elija una opción: 1\n",
            "9.0 + 4.0 = 13.0\n",
            "==================\n",
            "    1. Suma\n",
            "    2. Resta\n",
            "    3. Producto\n",
            "    4. División\n",
            "    0. Salir\n",
            "    \n",
            "Elija una opción: 2\n",
            "9.0 - 4.0 = 5.0\n",
            "==================\n",
            "    1. Suma\n",
            "    2. Resta\n",
            "    3. Producto\n",
            "    4. División\n",
            "    0. Salir\n",
            "    \n",
            "Elija una opción: 3\n",
            "9.0 * 4.0 = 36.0\n",
            "==================\n",
            "    1. Suma\n",
            "    2. Resta\n",
            "    3. Producto\n",
            "    4. División\n",
            "    0. Salir\n",
            "    \n",
            "Elija una opción: 4\n",
            "9.0 / 4.0 = 2.25\n",
            "==================\n",
            "    1. Suma\n",
            "    2. Resta\n",
            "    3. Producto\n",
            "    4. División\n",
            "    0. Salir\n",
            "    \n",
            "Elija una opción: 5\n",
            "Opción inválida, pruebe nuevamente.\n",
            "==================\n",
            "    1. Suma\n",
            "    2. Resta\n",
            "    3. Producto\n",
            "    4. División\n",
            "    0. Salir\n",
            "    \n",
            "Elija una opción: 0\n",
            "Saliendo de la calculadora ...\n"
          ]
        }
      ]
    },
    {
      "cell_type": "markdown",
      "source": [
        "## Reto 10 Capicúas y palíndromos"
      ],
      "metadata": {
        "id": "YDOOPJQDUt82"
      }
    },
    {
      "cell_type": "code",
      "source": [
        "# @title Reto 10.1\n",
        "from random import sample\n",
        "\n",
        "def capicua(n):\n",
        "    return n == int(str(n)[::-1])\n",
        "\n",
        "def main():\n",
        "    lista = sample(range(1000, 5001), 1000)\n",
        "    for n in lista:\n",
        "        if capicua(n):\n",
        "            print(n)\n",
        "\n",
        "main()"
      ],
      "metadata": {
        "cellView": "form",
        "colab": {
          "base_uri": "https://localhost:8080/"
        },
        "id": "9_dm_em9UwmW",
        "outputId": "6bccfc87-59b1-45b3-fa40-1fbfabdc4407"
      },
      "execution_count": 28,
      "outputs": [
        {
          "output_type": "stream",
          "name": "stdout",
          "text": [
            "3113\n",
            "1991\n",
            "2442\n",
            "2992\n",
            "1221\n",
            "1111\n",
            "3003\n",
            "2552\n",
            "2772\n",
            "4774\n"
          ]
        }
      ]
    },
    {
      "cell_type": "code",
      "source": [
        "# @title Reto 10.2\n",
        "\n",
        "def limpia(palabra):\n",
        "    palabra = palabra.lower()\n",
        "    palabra = palabra.replace(\"á\", \"a\")\n",
        "    palabra = palabra.replace(\"é\", \"e\")\n",
        "    palabra = palabra.replace(\"í\", \"ia\")\n",
        "    palabra = palabra.replace(\"ó\", \"o\")\n",
        "    palabra = palabra.replace(\"ú\", \"u\")\n",
        "    return palabra\n",
        "\n",
        "def reverso(palabra):\n",
        "    return limpia(palabra)[::-1]\n",
        "\n",
        "palabras = ['sogima', 'reconocer', 'Adán', 'anilina', 'Roma', 'radar', 'atar', 'Otto', 'Ana']\n",
        "print(\"  Palabra : Reverso\")\n",
        "print(\"  =================\")\n",
        "for palabra in palabras:\n",
        "    print(f'{\"* \" if limpia(palabra) == reverso(limpia(palabra)) else \"  \"}{palabra} : {reverso(palabra)}')\n",
        "print(\"\\n* = palíndromo\")"
      ],
      "metadata": {
        "colab": {
          "base_uri": "https://localhost:8080/"
        },
        "cellView": "form",
        "id": "5JC4BIHTZR1F",
        "outputId": "c9c80d8d-d15b-456a-e07c-d44a24ef1979"
      },
      "execution_count": 76,
      "outputs": [
        {
          "output_type": "stream",
          "name": "stdout",
          "text": [
            "  Palabra : Reverso\n",
            "  =================\n",
            "  sogima : amigos\n",
            "* reconocer : reconocer\n",
            "  Adán : nada\n",
            "* anilina : anilina\n",
            "  Roma : amor\n",
            "* radar : radar\n",
            "  atar : rata\n",
            "* Otto : otto\n",
            "* Ana : ana\n",
            "\n",
            "* = palíndromo\n"
          ]
        }
      ]
    },
    {
      "cell_type": "code",
      "source": [
        "# @title Reto 10.3\n",
        "\n",
        "def limpia(frase):\n",
        "    frase = frase.lower()\n",
        "    frase = frase.replace(\"á\", \"a\")\n",
        "    frase = frase.replace(\"é\", \"e\")\n",
        "    frase = frase.replace(\"í\", \"i\")\n",
        "    frase = frase.replace(\"ó\", \"o\")\n",
        "    frase = frase.replace(\"ú\", \"u\")\n",
        "    while ' ' in frase:\n",
        "        frase = frase.replace(' ', '')\n",
        "    return frase\n",
        "\n",
        "f1 = 'Amo la pacífica paloma'\n",
        "f2 = 'Dábale arroz a la zorra el abad'\n",
        "f3 = 'Añora la roña'\n",
        "f4 = 'Di clases al Cid Rodrigo'\n",
        "frases = [f1, f2, f3, f4]\n",
        "\n",
        "for i, frase in enumerate(frases):\n",
        "    frase = limpia(frase)\n",
        "\n",
        "    if frase == frase[::-1]:\n",
        "        print(\"La siguiente frase SI es un palíndromo:\")\n",
        "    else:\n",
        "        print(\"La siguiente frase NO es un palíndromo:\")\n",
        "    print(frases[i])\n",
        "    print()"
      ],
      "metadata": {
        "cellView": "form",
        "id": "DEGOdDZVAwLV",
        "outputId": "7545988d-ae79-4a99-e440-29f75bdf006a",
        "colab": {
          "base_uri": "https://localhost:8080/"
        }
      },
      "execution_count": 92,
      "outputs": [
        {
          "output_type": "stream",
          "name": "stdout",
          "text": [
            "La siguiente frase SI es un palíndromo:\n",
            "Amo la pacífica paloma\n",
            "\n",
            "La siguiente frase SI es un palíndromo:\n",
            "Dábale arroz a la zorra el abad\n",
            "\n",
            "La siguiente frase SI es un palíndromo:\n",
            "Añora la roña\n",
            "\n",
            "La siguiente frase NO es un palíndromo:\n",
            "Di clases al Cid Rodrigo\n",
            "\n"
          ]
        }
      ]
    }
  ]
}