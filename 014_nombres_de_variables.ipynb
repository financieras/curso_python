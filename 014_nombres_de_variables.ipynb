{
  "nbformat": 4,
  "nbformat_minor": 0,
  "metadata": {
    "colab": {
      "provenance": [],
      "authorship_tag": "ABX9TyMbZWmi/09U/VDd72/izDKl",
      "include_colab_link": true
    },
    "kernelspec": {
      "name": "python3",
      "display_name": "Python 3"
    },
    "language_info": {
      "name": "python"
    }
  },
  "cells": [
    {
      "cell_type": "markdown",
      "metadata": {
        "id": "view-in-github",
        "colab_type": "text"
      },
      "source": [
        "<a href=\"https://colab.research.google.com/github/financieras/curso_python/blob/main/013_variables_nombre.ipynb\" target=\"_parent\"><img src=\"https://colab.research.google.com/assets/colab-badge.svg\" alt=\"Open In Colab\"/></a>"
      ]
    },
    {
      "cell_type": "markdown",
      "metadata": {
        "id": "38653a89"
      },
      "source": [
        "# Nombres de variables\n",
        "* Las variables tienen un nombre que:\n",
        " 1. no puede llevar espacios\n",
        " 2. no puede llevar simbolos (ç, @, ...)\n",
        " 3. si puede llevar barra baja (`_`)\n",
        " 4. si puede llevar números pero no al inicio\n",
        " 5. no puede llevar palabras reservadas (class, def, if, import, in, is, ...)\n",
        " 6. no se aconseja usar acentos y letra ñ\n",
        " 7. no se aconseja usar mayúsculas"
      ]
    },
    {
      "cell_type": "code",
      "execution_count": null,
      "metadata": {
        "id": "PPxwDTqPxVZO"
      },
      "outputs": [],
      "source": [
        "# VARIABLES PERMITIDAS\n",
        "my_import = 1000\n",
        "europa2030 = \"objetivo\"\n",
        "equipoVisitante = 2\n",
        "altura_permitida = 3.85\n",
        "unionEuropea = 27\n",
        "\n",
        "\n",
        "# VARIABLES NO PERMITIDAS\n",
        "#7millas = \"distancia\"              # Error, comienza por número\n",
        "#video editado = \"vacaciones\"       # Error, lleva espacio\n",
        "#nombre@dominio = \"join@nasa.gov\"   # Error, lleva un símbolo no permitido\n",
        "#import = 1000                      # Error, es una palabra reservada\n",
        "#mi-nombre = \"Ana\"                  # Error, no acepta guion ni otros símbolos\n",
        "\n",
        "# VARIABLES NO ACONSEJABLES\n",
        "día = 1                             # acentos\n",
        "años = 16                           # letra ñ\n",
        "SEMANA = 7                          # mayúsculas"
      ]
    },
    {
      "cell_type": "markdown",
      "metadata": {
        "id": "A0XbPevVqj7r"
      },
      "source": [
        "### Estilos para nombrar variables\n",
        "Dos estilos:\n",
        "- [camelCase](https://www.google.com/search?q=camelCase)\n",
        "- [snake_case](https://www.google.com/search?q=snake_case)"
      ]
    },
    {
      "cell_type": "code",
      "execution_count": null,
      "metadata": {
        "id": "FJ9e2y8Iqj7r",
        "outputId": "5e7f81ef-5100-4fa7-ea98-bc98edbdc9f8",
        "colab": {
          "base_uri": "https://localhost:8080/",
          "height": 35
        }
      },
      "outputs": [
        {
          "output_type": "execute_result",
          "data": {
            "text/plain": [
              "'Juan Ruiz'"
            ],
            "application/vnd.google.colaboratory.intrinsic+json": {
              "type": "string"
            }
          },
          "metadata": {},
          "execution_count": 10
        }
      ],
      "source": [
        "nombreApellidos = \"Juan Ruiz\"    # lower camel style\n",
        "NombreApellidos = \"Pablo Díez\"   # upper camel style (este estilo no se recomienda en Python)\n",
        "nombreApellidos"
      ]
    },
    {
      "cell_type": "code",
      "execution_count": null,
      "metadata": {
        "id": "DiNgaN4Vqj7r",
        "outputId": "0cd609cc-3596-4fc9-a365-a06ab75df03d",
        "colab": {
          "base_uri": "https://localhost:8080/",
          "height": 35
        }
      },
      "outputs": [
        {
          "output_type": "execute_result",
          "data": {
            "text/plain": [
              "'Andrés'"
            ],
            "application/vnd.google.colaboratory.intrinsic+json": {
              "type": "string"
            }
          },
          "metadata": {},
          "execution_count": 11
        }
      ],
      "source": [
        "nombre_del_padre = \"Andrés\"      # sanke style\n",
        "nombre_del_padre"
      ]
    },
    {
      "cell_type": "markdown",
      "metadata": {
        "id": "gHhQsxnVAJbZ"
      },
      "source": [
        "## Case sensitive\n",
        "* Los nombres de variables en Python son *case-sensitive*, se diferencia entre mayúsculas y minúsculas."
      ]
    },
    {
      "cell_type": "code",
      "execution_count": null,
      "metadata": {
        "colab": {
          "base_uri": "https://localhost:8080/"
        },
        "id": "z3vhEc7pAhUV",
        "outputId": "993ee980-100d-40d2-e8a8-d0e6e10d4f41"
      },
      "outputs": [
        {
          "output_type": "stream",
          "name": "stdout",
          "text": [
            "Marta\n"
          ]
        }
      ],
      "source": [
        "User = \"Santiago\"\n",
        "user = \"Marta\"\n",
        "\n",
        "print(user)"
      ]
    },
    {
      "cell_type": "code",
      "source": [
        "User == user        # False, case sensitive"
      ],
      "metadata": {
        "id": "vEJK4AktrrEt",
        "outputId": "cc03641b-7a12-4a10-c64f-71294f00b323",
        "colab": {
          "base_uri": "https://localhost:8080/"
        }
      },
      "execution_count": null,
      "outputs": [
        {
          "output_type": "execute_result",
          "data": {
            "text/plain": [
              "False"
            ]
          },
          "metadata": {},
          "execution_count": 13
        }
      ]
    },
    {
      "cell_type": "markdown",
      "metadata": {
        "id": "eu4EYBYF1Ak1"
      },
      "source": [
        "## Convenciones"
      ]
    },
    {
      "cell_type": "code",
      "execution_count": null,
      "metadata": {
        "id": "--nEgDNV1GGi"
      },
      "outputs": [],
      "source": [
        "# Snake Case\n",
        "numero_vidas = 3    # mejor separar con barra baja que todo junto: numerovidas\n",
        "\n",
        "# Camel Case\n",
        "numeroVidas = 3     # mejor que comenzar por mayúscula: NumeroVidas"
      ]
    },
    {
      "cell_type": "markdown",
      "metadata": {
        "id": "rs-DZpTCDi2z"
      },
      "source": [
        "## Palabras reservadas\n",
        "* Python Keywords\n",
        "* Existen ciertos nombres reservamos que no se pueden usar como nombres de variables."
      ]
    },
    {
      "cell_type": "markdown",
      "metadata": {
        "id": "ipomhOa6DpaF"
      },
      "source": [
        "### Todas las `keywords` o palabras reservadas en Python"
      ]
    },
    {
      "cell_type": "code",
      "execution_count": null,
      "metadata": {
        "colab": {
          "base_uri": "https://localhost:8080/"
        },
        "id": "iM9zJVIKDNjj",
        "outputId": "8ffa4d6d-d27e-4e1c-f15d-d9e41292ecfc"
      },
      "outputs": [
        {
          "output_type": "stream",
          "name": "stdout",
          "text": [
            "['False', 'None', 'True', 'and', 'as', 'assert', 'async', 'await', 'break', 'class', 'continue', 'def', 'del', 'elif', 'else', 'except', 'finally', 'for', 'from', 'global', 'if', 'import', 'in', 'is', 'lambda', 'nonlocal', 'not', 'or', 'pass', 'raise', 'return', 'try', 'while', 'with', 'yield']\n"
          ]
        }
      ],
      "source": [
        "import keyword        # aquí importamos una librería que esta llena de funciones\n",
        "print(keyword.kwlist) # una de esas funciones es kwlist que listas las keywords"
      ]
    },
    {
      "cell_type": "code",
      "execution_count": null,
      "metadata": {
        "id": "4P7yb7QnXYy0"
      },
      "outputs": [],
      "source": [
        "# Ejemplo que da error\n",
        "#class = \"Business Class\""
      ]
    },
    {
      "cell_type": "code",
      "execution_count": null,
      "metadata": {
        "colab": {
          "base_uri": "https://localhost:8080/",
          "height": 35
        },
        "id": "_gzDFs0hXZe6",
        "outputId": "b47ee935-5f0f-40d2-b68e-36b1dc6ef13e"
      },
      "outputs": [
        {
          "output_type": "execute_result",
          "data": {
            "text/plain": [
              "'Business Class'"
            ],
            "application/vnd.google.colaboratory.intrinsic+json": {
              "type": "string"
            }
          },
          "metadata": {},
          "execution_count": 17
        }
      ],
      "source": [
        "# class es una palabra reservada del lenguaje\n",
        "# Mejor usar myclass o user_class\n",
        "user_class = \"Business Class\"\n",
        "user_class"
      ]
    }
  ]
}
