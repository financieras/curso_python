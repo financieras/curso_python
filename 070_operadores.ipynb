{
  "nbformat": 4,
  "nbformat_minor": 0,
  "metadata": {
    "colab": {
      "provenance": [],
      "authorship_tag": "ABX9TyPPKA1zkfuEHGVzSnS0uxu9",
      "include_colab_link": true
    },
    "kernelspec": {
      "name": "python3",
      "display_name": "Python 3"
    },
    "language_info": {
      "name": "python"
    }
  },
  "cells": [
    {
      "cell_type": "markdown",
      "metadata": {
        "id": "view-in-github",
        "colab_type": "text"
      },
      "source": [
        "<a href=\"https://colab.research.google.com/github/financieras/curso_python/blob/main/070_operadores.ipynb\" target=\"_parent\"><img src=\"https://colab.research.google.com/assets/colab-badge.svg\" alt=\"Open In Colab\"/></a>"
      ]
    },
    {
      "cell_type": "markdown",
      "source": [
        "# Operadores\n",
        "https://www.freecodecamp.org/espanol/news/operadores-basicos-en-python-con-ejemplos/"
      ],
      "metadata": {
        "id": "tuvdmjwbB873"
      }
    },
    {
      "cell_type": "markdown",
      "source": [
        "## Operadores lógicos"
      ],
      "metadata": {
        "id": "vibkktgRPS_i"
      }
    },
    {
      "cell_type": "code",
      "source": [
        "True and True and True"
      ],
      "metadata": {
        "id": "_KH9isHkPh3R",
        "outputId": "3881e762-b43d-4c20-e7aa-338d83f203f6",
        "colab": {
          "base_uri": "https://localhost:8080/"
        }
      },
      "execution_count": 7,
      "outputs": [
        {
          "output_type": "execute_result",
          "data": {
            "text/plain": [
              "True"
            ]
          },
          "metadata": {},
          "execution_count": 7
        }
      ]
    },
    {
      "cell_type": "code",
      "source": [
        "True and True and False"
      ],
      "metadata": {
        "id": "oa7wXZMzPmna",
        "outputId": "57fc780c-9cfe-4dc9-d0fa-c370936984a2",
        "colab": {
          "base_uri": "https://localhost:8080/"
        }
      },
      "execution_count": 8,
      "outputs": [
        {
          "output_type": "execute_result",
          "data": {
            "text/plain": [
              "False"
            ]
          },
          "metadata": {},
          "execution_count": 8
        }
      ]
    },
    {
      "cell_type": "code",
      "source": [
        "False and False and False"
      ],
      "metadata": {
        "id": "j4KpMceMPqzJ",
        "outputId": "1472b696-9bae-4437-c47c-428d20872ebc",
        "colab": {
          "base_uri": "https://localhost:8080/"
        }
      },
      "execution_count": 9,
      "outputs": [
        {
          "output_type": "execute_result",
          "data": {
            "text/plain": [
              "False"
            ]
          },
          "metadata": {},
          "execution_count": 9
        }
      ]
    },
    {
      "cell_type": "code",
      "source": [
        "True or True or True"
      ],
      "metadata": {
        "id": "6zVZaO8APuqf",
        "outputId": "b4caa2b2-229d-4fdc-8cdf-fc3bfcbbadb1",
        "colab": {
          "base_uri": "https://localhost:8080/"
        }
      },
      "execution_count": 10,
      "outputs": [
        {
          "output_type": "execute_result",
          "data": {
            "text/plain": [
              "True"
            ]
          },
          "metadata": {},
          "execution_count": 10
        }
      ]
    },
    {
      "cell_type": "code",
      "source": [
        "True or True or False"
      ],
      "metadata": {
        "id": "khUp5Ci0PypJ",
        "outputId": "e2f8c00e-e59b-4f4d-f06e-01a1fca07716",
        "colab": {
          "base_uri": "https://localhost:8080/"
        }
      },
      "execution_count": 11,
      "outputs": [
        {
          "output_type": "execute_result",
          "data": {
            "text/plain": [
              "True"
            ]
          },
          "metadata": {},
          "execution_count": 11
        }
      ]
    },
    {
      "cell_type": "code",
      "source": [
        "False or False or False"
      ],
      "metadata": {
        "id": "txlij1lnP147",
        "outputId": "f5b291d4-e5ea-4cce-c5c9-1aacd6ca0333",
        "colab": {
          "base_uri": "https://localhost:8080/"
        }
      },
      "execution_count": 12,
      "outputs": [
        {
          "output_type": "execute_result",
          "data": {
            "text/plain": [
              "False"
            ]
          },
          "metadata": {},
          "execution_count": 12
        }
      ]
    },
    {
      "cell_type": "code",
      "source": [
        "edad = int(input(\"Ingrese su edad: \"))\n",
        "print(\"Si la respuesta es True usted será admitido\")\n",
        "print(edad >= 15 and edad <= 19)"
      ],
      "metadata": {
        "id": "jd6_CvisM4X_",
        "outputId": "19212b76-e5b7-4889-d095-a4354f580707",
        "colab": {
          "base_uri": "https://localhost:8080/"
        }
      },
      "execution_count": 2,
      "outputs": [
        {
          "output_type": "stream",
          "name": "stdout",
          "text": [
            "Ingrese su edad: 17\n",
            "Si la respuesta es True usted será admitido\n",
            "True\n"
          ]
        }
      ]
    },
    {
      "cell_type": "code",
      "source": [
        "print(\"Si su role es admin o ceo se le dará acceso\")\n",
        "role = input(\"Indique su role: \")\n",
        "print(\"Si tiene acceso la respuesta será True\")\n",
        "print(role.lower() == \"admin\" or role.lower() == \"ceo\")"
      ],
      "metadata": {
        "id": "QuENr5PMOBEU",
        "outputId": "40848625-0de5-4694-9da7-83e1f357981a",
        "colab": {
          "base_uri": "https://localhost:8080/"
        }
      },
      "execution_count": 5,
      "outputs": [
        {
          "output_type": "stream",
          "name": "stdout",
          "text": [
            "Si su role es admin o ceo se le dará acceso\n",
            "Indique su role: Admin\n",
            "Si tiene acceso la respuesta será True\n",
            "True\n"
          ]
        }
      ]
    },
    {
      "cell_type": "code",
      "source": [
        "print(not True)\n",
        "print(not False)"
      ],
      "metadata": {
        "id": "xxU0MUAOPaLf",
        "outputId": "f2f7a733-0d09-4b49-dd3b-ff369c0166a8",
        "colab": {
          "base_uri": "https://localhost:8080/"
        }
      },
      "execution_count": 6,
      "outputs": [
        {
          "output_type": "stream",
          "name": "stdout",
          "text": [
            "False\n",
            "True\n"
          ]
        }
      ]
    },
    {
      "cell_type": "code",
      "source": [
        "not(True and True and False)"
      ],
      "metadata": {
        "id": "pGb2q1GUQKKs",
        "outputId": "5df079a6-f986-456c-ebca-78fd730dc361",
        "colab": {
          "base_uri": "https://localhost:8080/"
        }
      },
      "execution_count": 13,
      "outputs": [
        {
          "output_type": "execute_result",
          "data": {
            "text/plain": [
              "True"
            ]
          },
          "metadata": {},
          "execution_count": 13
        }
      ]
    }
  ]
}