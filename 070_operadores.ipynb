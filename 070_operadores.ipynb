{
  "nbformat": 4,
  "nbformat_minor": 0,
  "metadata": {
    "colab": {
      "provenance": [],
      "authorship_tag": "ABX9TyND/XNks+RZnhQaSsmdMZdd",
      "include_colab_link": true
    },
    "kernelspec": {
      "name": "python3",
      "display_name": "Python 3"
    },
    "language_info": {
      "name": "python"
    }
  },
  "cells": [
    {
      "cell_type": "markdown",
      "metadata": {
        "id": "view-in-github",
        "colab_type": "text"
      },
      "source": [
        "<a href=\"https://colab.research.google.com/github/financieras/curso_python/blob/main/070_operadores.ipynb\" target=\"_parent\"><img src=\"https://colab.research.google.com/assets/colab-badge.svg\" alt=\"Open In Colab\"/></a>"
      ]
    },
    {
      "cell_type": "markdown",
      "source": [
        "# Operadores\n",
        "https://www.freecodecamp.org/espanol/news/operadores-basicos-en-python-con-ejemplos/"
      ],
      "metadata": {
        "id": "tuvdmjwbB873"
      }
    },
    {
      "cell_type": "markdown",
      "source": [
        "## Operadores aritméticos\n",
        "* \\+   &nbsp;&nbsp;&nbsp;&nbsp;&nbsp; Suma\n",
        "* \\-   &nbsp;&nbsp;&nbsp;&nbsp;&nbsp;&nbsp; Resta  \n",
        "* \\*   &nbsp;&nbsp;&nbsp;&nbsp;&nbsp;&nbsp; Producto    \n",
        "* /    &nbsp;&nbsp;&nbsp;&nbsp;&nbsp;&nbsp; Dividir. Siempre da como resultado un número de coma flotante (float)  \n",
        "* //   &nbsp;&nbsp;&nbsp;&nbsp;&nbsp; División entera, da un número entero (int)  \n",
        "* %    &nbsp;&nbsp;&nbsp;&nbsp;&nbsp; Resto, Residuo, Módulo\n",
        "* **   &nbsp;&nbsp;&nbsp;&nbsp;&nbsp; Potencias, elevar"
      ],
      "metadata": {
        "id": "XR4iLVkxkEGe"
      }
    },
    {
      "cell_type": "markdown",
      "source": [
        "## Operadores Relacionales\n",
        "* Se usan para comparar\n",
        "* Devuelve un valor booleano (True o False)\n",
        "\n",
        "\n",
        "* \\>   &nbsp;&nbsp;&nbsp;&nbsp;&nbsp;&nbsp; Mayor que\n",
        "* \\<   &nbsp;&nbsp;&nbsp;&nbsp;&nbsp;&nbsp; Menor que  \n",
        "* \\==  &nbsp;&nbsp;&nbsp;&nbsp; Igual a    \n",
        "* \\>=  &nbsp;&nbsp;&nbsp;&nbsp; Mayor o igual a  \n",
        "* \\<=  &nbsp;&nbsp;&nbsp;&nbsp; Menor o igual a  \n",
        "* !=   &nbsp;&nbsp;&nbsp;&nbsp;&nbsp; Distinto de"
      ],
      "metadata": {
        "id": "ufOy_4g5lIbY"
      }
    },
    {
      "cell_type": "code",
      "execution_count": null,
      "metadata": {
        "id": "df8694c5"
      },
      "outputs": [],
      "source": [
        "5 == 5              # True       Operador de comparación: 'Igual a'"
      ]
    },
    {
      "cell_type": "code",
      "execution_count": null,
      "metadata": {
        "id": "2528485c"
      },
      "outputs": [],
      "source": [
        "5 >= 7              # False      Mayor o igual que"
      ]
    },
    {
      "cell_type": "code",
      "execution_count": null,
      "metadata": {
        "id": "57fc1da5"
      },
      "outputs": [],
      "source": [
        "9 == '9'            # False"
      ]
    },
    {
      "cell_type": "code",
      "execution_count": null,
      "metadata": {
        "id": "db50c39e"
      },
      "outputs": [],
      "source": [
        "'Roma' > 'Bogotá'   # True"
      ]
    },
    {
      "cell_type": "code",
      "execution_count": null,
      "metadata": {
        "id": "232a68ba"
      },
      "outputs": [],
      "source": [
        "4 != 4              # False    Operador de comparación: Distinto o 'no es igual a'"
      ]
    },
    {
      "cell_type": "markdown",
      "metadata": {
        "id": "f53d11a1"
      },
      "source": [
        "### Verdadero es 1 y Falso es 0"
      ]
    },
    {
      "cell_type": "code",
      "execution_count": null,
      "metadata": {
        "id": "c971002f"
      },
      "outputs": [],
      "source": [
        "True == 1              # True"
      ]
    },
    {
      "cell_type": "code",
      "execution_count": null,
      "metadata": {
        "id": "1b8e0cdc"
      },
      "outputs": [],
      "source": [
        "False == 0             # True"
      ]
    },
    {
      "cell_type": "markdown",
      "metadata": {
        "id": "3a67c098"
      },
      "source": [
        "### Comparando varios simultáneamente"
      ]
    },
    {
      "cell_type": "code",
      "execution_count": null,
      "metadata": {
        "id": "95560b07"
      },
      "outputs": [],
      "source": [
        "1 < 2 < 3              # True"
      ]
    },
    {
      "cell_type": "markdown",
      "source": [
        "## Operadores de Asignación\n",
        "* \\=   &nbsp;&nbsp;&nbsp;&nbsp;&nbsp;&nbsp; Asignación a la variable &nbsp; `x = 7`\n",
        "* \\+=   &nbsp;&nbsp;&nbsp;&nbsp; `x += 5` equivale a &nbsp; `x = x + 5`  \n",
        "* \\-=  &nbsp;&nbsp;&nbsp;&nbsp; `x -= 5` equivale a &nbsp; `x = x - 5`\n",
        "* \\*=  &nbsp;&nbsp;&nbsp;&nbsp; `x *= 5` equivale a &nbsp; `x = x * 5`\n",
        "* \\/=  &nbsp;&nbsp;&nbsp;&nbsp; `x /= 5` equivale a &nbsp; `x = x / 5`\n",
        "* \\//=   &nbsp;&nbsp;&nbsp;&nbsp; `x //= 5` equivale a &nbsp; `x = x // 5`\n",
        "* \\%=   &nbsp;&nbsp;&nbsp;&nbsp; `x %= 5` equivale a &nbsp; `x = x % 5`\n",
        "* \\*\\*=   &nbsp;&nbsp;&nbsp;&nbsp; `x **= 5` equivale a &nbsp; `x = x ** 5`"
      ],
      "metadata": {
        "id": "H8wrY6f3nv4I"
      }
    },
    {
      "cell_type": "code",
      "source": [
        "a, b = 10, 5\n",
        "\n",
        "a += b\n",
        "\n",
        "print(a)"
      ],
      "metadata": {
        "id": "b4mo452qqP6d",
        "outputId": "9dbe1e32-6bd1-449b-95c1-e3350c992f76",
        "colab": {
          "base_uri": "https://localhost:8080/"
        }
      },
      "execution_count": 2,
      "outputs": [
        {
          "output_type": "stream",
          "name": "stdout",
          "text": [
            "15\n"
          ]
        }
      ]
    },
    {
      "cell_type": "markdown",
      "source": [
        "## Operadores lógicos\n",
        "* `and`   &nbsp;&nbsp;&nbsp;&nbsp; `a and b` &nbsp; Devuelve `True` si ambos son `True`\n",
        "* `or`   &nbsp;&nbsp;&nbsp;&nbsp;&nbsp;&nbsp; `a or b` &nbsp; Devuelve `True` si alguno es `True`\n",
        "* `not`   &nbsp;&nbsp;&nbsp;&nbsp; `not a` &nbsp; Invierte el resultado, devuelve `True` si el operando es `False`"
      ],
      "metadata": {
        "id": "vibkktgRPS_i"
      }
    },
    {
      "cell_type": "markdown",
      "metadata": {
        "id": "18bd64db"
      },
      "source": [
        "### `not`"
      ]
    },
    {
      "cell_type": "code",
      "execution_count": null,
      "metadata": {
        "id": "82da5b0c"
      },
      "outputs": [],
      "source": [
        "not True               # False"
      ]
    },
    {
      "cell_type": "code",
      "execution_count": null,
      "metadata": {
        "id": "c88d5fe1"
      },
      "outputs": [],
      "source": [
        "not False              # True"
      ]
    },
    {
      "cell_type": "markdown",
      "source": [
        "### `and`"
      ],
      "metadata": {
        "id": "OuDdr5SDtGSK"
      }
    },
    {
      "cell_type": "code",
      "source": [
        "True and True and True      # True"
      ],
      "metadata": {
        "id": "_KH9isHkPh3R"
      },
      "execution_count": null,
      "outputs": []
    },
    {
      "cell_type": "code",
      "source": [
        "True and True and False     # False"
      ],
      "metadata": {
        "id": "oa7wXZMzPmna"
      },
      "execution_count": null,
      "outputs": []
    },
    {
      "cell_type": "code",
      "source": [
        "False and False and False   # False"
      ],
      "metadata": {
        "id": "j4KpMceMPqzJ"
      },
      "execution_count": null,
      "outputs": []
    },
    {
      "cell_type": "markdown",
      "source": [
        "### `or`"
      ],
      "metadata": {
        "id": "HO74gfKNVvN9"
      }
    },
    {
      "cell_type": "code",
      "source": [
        "True or True or True        # True"
      ],
      "metadata": {
        "colab": {
          "base_uri": "https://localhost:8080/"
        },
        "id": "6zVZaO8APuqf",
        "outputId": "30f60589-86fa-403c-d858-d2a5842e4ccf"
      },
      "execution_count": 5,
      "outputs": [
        {
          "output_type": "execute_result",
          "data": {
            "text/plain": [
              "True"
            ]
          },
          "metadata": {},
          "execution_count": 5
        }
      ]
    },
    {
      "cell_type": "code",
      "source": [
        "True or True or False       # True"
      ],
      "metadata": {
        "colab": {
          "base_uri": "https://localhost:8080/"
        },
        "id": "khUp5Ci0PypJ",
        "outputId": "8f311dc5-f638-4ee7-bdcd-55aa5bdd03c9"
      },
      "execution_count": 6,
      "outputs": [
        {
          "output_type": "execute_result",
          "data": {
            "text/plain": [
              "True"
            ]
          },
          "metadata": {},
          "execution_count": 6
        }
      ]
    },
    {
      "cell_type": "code",
      "source": [
        "False or False or False     # False"
      ],
      "metadata": {
        "colab": {
          "base_uri": "https://localhost:8080/"
        },
        "id": "txlij1lnP147",
        "outputId": "653e4ac1-9850-441f-a98f-369dcf7c586e"
      },
      "execution_count": 7,
      "outputs": [
        {
          "output_type": "execute_result",
          "data": {
            "text/plain": [
              "False"
            ]
          },
          "metadata": {},
          "execution_count": 7
        }
      ]
    },
    {
      "cell_type": "markdown",
      "source": [
        "## Operadores de Pertenencia\n",
        "* Se emplean para identificar pertenencia en alguna secuencia (listas, strings, tuplas, rangos).\n",
        "\n",
        "1. `in`   &nbsp;&nbsp;&nbsp;&nbsp;&nbsp;&nbsp;&nbsp;&nbsp;&nbsp;&nbsp;&nbsp;&nbsp; Devuelve `True` si el valor especificado se encuentra en la secuencia\n",
        "2. `not in`   &nbsp;&nbsp;&nbsp; Devuelve `True` si el valor especificado no se encuentra en la secuencia"
      ],
      "metadata": {
        "id": "-C-FbhmWuYmd"
      }
    },
    {
      "cell_type": "code",
      "source": [
        "2 in [1,2,3]    # True"
      ],
      "metadata": {
        "id": "h0XHyLqCvY-e",
        "outputId": "6b6a338e-fe08-4f40-8f9e-d19b0b7c14a1",
        "colab": {
          "base_uri": "https://localhost:8080/"
        }
      },
      "execution_count": 9,
      "outputs": [
        {
          "output_type": "execute_result",
          "data": {
            "text/plain": [
              "True"
            ]
          },
          "metadata": {},
          "execution_count": 9
        }
      ]
    },
    {
      "cell_type": "code",
      "source": [
        "2 in range(5)   # True"
      ],
      "metadata": {
        "id": "qahFkvc1ukjU",
        "outputId": "0dc329f6-4d18-4537-8096-1350b69735e9",
        "colab": {
          "base_uri": "https://localhost:8080/"
        }
      },
      "execution_count": 8,
      "outputs": [
        {
          "output_type": "execute_result",
          "data": {
            "text/plain": [
              "True"
            ]
          },
          "metadata": {},
          "execution_count": 8
        }
      ]
    },
    {
      "cell_type": "code",
      "source": [
        "'2' in \"Pongo la 2 por los documentales\"    # True. Si el 2 fuera int daría error"
      ],
      "metadata": {
        "id": "Brqyl8XYvk4j",
        "outputId": "0024debe-f055-4977-8aa2-93aba907f54f",
        "colab": {
          "base_uri": "https://localhost:8080/"
        }
      },
      "execution_count": 11,
      "outputs": [
        {
          "output_type": "execute_result",
          "data": {
            "text/plain": [
              "True"
            ]
          },
          "metadata": {},
          "execution_count": 11
        }
      ]
    },
    {
      "cell_type": "code",
      "source": [
        "'día' not in 'osadía'   # False"
      ],
      "metadata": {
        "id": "bZDwu68HwV8b",
        "outputId": "dd752305-1e1d-40c3-cdb2-190b1dbd672f",
        "colab": {
          "base_uri": "https://localhost:8080/"
        }
      },
      "execution_count": 13,
      "outputs": [
        {
          "output_type": "execute_result",
          "data": {
            "text/plain": [
              "False"
            ]
          },
          "metadata": {},
          "execution_count": 13
        }
      ]
    },
    {
      "cell_type": "markdown",
      "source": [
        "## Operadores de Identidad\n",
        "Se utilizan para comprobar si dos variables emplean la misma ubicación en memoria.\n",
        "\n",
        "1. `is`   &nbsp;&nbsp;&nbsp;&nbsp;&nbsp;&nbsp;&nbsp;&nbsp;&nbsp;&nbsp;&nbsp;&nbsp; Devuelve `True` si los operandos se refieren al mismo objeto\n",
        "2. `is not`   &nbsp;&nbsp;&nbsp; Devuelve `True` si los operandos no se refieren al mismo objeto\n",
        "\n",
        "* Precaución: si `a` y `b` son iguales no implica que ambos apunten a la dirección de memoria del mismo objeto."
      ],
      "metadata": {
        "id": "TP1F3lC_x7I9"
      }
    },
    {
      "cell_type": "code",
      "source": [
        "a = [1, 2, 3]\n",
        "b = [1, 2, 3]\n",
        "a == b          # True"
      ],
      "metadata": {
        "id": "SeyzuZD7y1_t",
        "outputId": "bc4133ca-4096-4031-9c09-b2371fcf1781",
        "colab": {
          "base_uri": "https://localhost:8080/"
        }
      },
      "execution_count": 28,
      "outputs": [
        {
          "output_type": "execute_result",
          "data": {
            "text/plain": [
              "True"
            ]
          },
          "metadata": {},
          "execution_count": 28
        }
      ]
    },
    {
      "cell_type": "code",
      "source": [
        "a is b          # False. Si a y b fueran números daría True"
      ],
      "metadata": {
        "id": "rVRLrnLlzC9H",
        "outputId": "c3f72473-8521-4868-e547-0fb7ee342b54",
        "colab": {
          "base_uri": "https://localhost:8080/"
        }
      },
      "execution_count": 29,
      "outputs": [
        {
          "output_type": "execute_result",
          "data": {
            "text/plain": [
              "False"
            ]
          },
          "metadata": {},
          "execution_count": 29
        }
      ]
    },
    {
      "cell_type": "code",
      "source": [
        "print(id(a))\n",
        "print(id(b))"
      ],
      "metadata": {
        "id": "5qKI3Q8izHE-",
        "outputId": "106f948e-fab1-439b-ded4-de459263dec0",
        "colab": {
          "base_uri": "https://localhost:8080/"
        }
      },
      "execution_count": 30,
      "outputs": [
        {
          "output_type": "stream",
          "name": "stdout",
          "text": [
            "135541165191936\n",
            "135541165432832\n"
          ]
        }
      ]
    },
    {
      "cell_type": "code",
      "source": [
        "x = a       # Si igualamos, hacemos que sean el mismo objeto\n",
        "x is a      # True"
      ],
      "metadata": {
        "id": "GgCxE4Lg0o5D",
        "outputId": "a81d0577-5c77-4757-f178-d4f784bbc16a",
        "colab": {
          "base_uri": "https://localhost:8080/"
        }
      },
      "execution_count": 31,
      "outputs": [
        {
          "output_type": "execute_result",
          "data": {
            "text/plain": [
              "True"
            ]
          },
          "metadata": {},
          "execution_count": 31
        }
      ]
    },
    {
      "cell_type": "markdown",
      "source": [
        "### Ejemplos"
      ],
      "metadata": {
        "id": "jWwSqWbOVsE1"
      }
    },
    {
      "cell_type": "markdown",
      "source": [
        "#### *Ejemplo 1*"
      ],
      "metadata": {
        "id": "NlIhI6emz2sc"
      }
    },
    {
      "cell_type": "code",
      "source": [
        "edad = int(input(\"Ingrese su edad: \"))\n",
        "print(\"Si la respuesta es True usted será admitido\")\n",
        "print(edad >= 15 and edad <= 19)"
      ],
      "metadata": {
        "colab": {
          "base_uri": "https://localhost:8080/"
        },
        "id": "jd6_CvisM4X_",
        "outputId": "7d7aca68-7a35-4a37-c841-24b83647d0b2"
      },
      "execution_count": 23,
      "outputs": [
        {
          "output_type": "stream",
          "name": "stdout",
          "text": [
            "Ingrese su edad: 17\n",
            "Si la respuesta es True usted será admitido\n",
            "True\n"
          ]
        }
      ]
    },
    {
      "cell_type": "markdown",
      "source": [
        "#### *Ejemplo 2*"
      ],
      "metadata": {
        "id": "_R5v_e2Yz9H-"
      }
    },
    {
      "cell_type": "code",
      "source": [
        "print(\"Si su role es admin o ceo se le dará acceso\")\n",
        "role = input(\"Indique su role: \")\n",
        "print(\"Si tiene acceso la respuesta será True\")\n",
        "print(role.lower() == \"admin\" or role.lower() == \"ceo\")"
      ],
      "metadata": {
        "colab": {
          "base_uri": "https://localhost:8080/"
        },
        "id": "QuENr5PMOBEU",
        "outputId": "4d69850e-0a9b-4065-acaa-bac2dd4bd994"
      },
      "execution_count": 24,
      "outputs": [
        {
          "output_type": "stream",
          "name": "stdout",
          "text": [
            "Si su role es admin o ceo se le dará acceso\n",
            "Indique su role: admin\n",
            "Si tiene acceso la respuesta será True\n",
            "True\n"
          ]
        }
      ]
    },
    {
      "cell_type": "markdown",
      "source": [
        "#### *Ejemplo 3*"
      ],
      "metadata": {
        "id": "PEyCi0hLz_Mq"
      }
    },
    {
      "cell_type": "code",
      "source": [
        "print(not True)\n",
        "print(not False)"
      ],
      "metadata": {
        "colab": {
          "base_uri": "https://localhost:8080/"
        },
        "id": "xxU0MUAOPaLf",
        "outputId": "283ca47e-2cb8-426f-8e5e-a46e3b19e230"
      },
      "execution_count": 25,
      "outputs": [
        {
          "output_type": "stream",
          "name": "stdout",
          "text": [
            "False\n",
            "True\n"
          ]
        }
      ]
    },
    {
      "cell_type": "markdown",
      "source": [
        "#### *Ejemplo 4*"
      ],
      "metadata": {
        "id": "oAGSauKm0BU9"
      }
    },
    {
      "cell_type": "code",
      "source": [
        "not(True and True and False)"
      ],
      "metadata": {
        "colab": {
          "base_uri": "https://localhost:8080/"
        },
        "id": "pGb2q1GUQKKs",
        "outputId": "4eb51f5c-fa86-4387-963c-26b3ff6caebf"
      },
      "execution_count": 26,
      "outputs": [
        {
          "output_type": "execute_result",
          "data": {
            "text/plain": [
              "True"
            ]
          },
          "metadata": {},
          "execution_count": 26
        }
      ]
    }
  ]
}