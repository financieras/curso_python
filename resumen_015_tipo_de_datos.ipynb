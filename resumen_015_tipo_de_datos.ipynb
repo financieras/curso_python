{
  "nbformat": 4,
  "nbformat_minor": 0,
  "metadata": {
    "colab": {
      "provenance": [],
      "authorship_tag": "ABX9TyOKt8wKpsNNJAFIwUiAORU0",
      "include_colab_link": true
    },
    "kernelspec": {
      "name": "python3",
      "display_name": "Python 3"
    },
    "language_info": {
      "name": "python"
    }
  },
  "cells": [
    {
      "cell_type": "markdown",
      "metadata": {
        "id": "view-in-github",
        "colab_type": "text"
      },
      "source": [
        "<a href=\"https://colab.research.google.com/github/financieras/curso_python/blob/main/resumen/015_tipo_de_datos.ipynb\" target=\"_parent\"><img src=\"https://colab.research.google.com/assets/colab-badge.svg\" alt=\"Open In Colab\"/></a>"
      ]
    },
    {
      "cell_type": "markdown",
      "source": [
        "# Tipo de datos"
      ],
      "metadata": {
        "id": "ElPwX54tg3IK"
      }
    },
    {
      "cell_type": "markdown",
      "source": [
        "## Enteros `int`\n",
        "* Los enteros son números sin decimales como 5, 0, -7\n",
        "* La abreviatura `int` viene de *integer*"
      ],
      "metadata": {
        "id": "Ep0efS94jOFj"
      }
    },
    {
      "cell_type": "code",
      "source": [
        "x = 5       # 5 es un número entero de tipo int (integer)"
      ],
      "metadata": {
        "id": "3twOlMLJg6F8"
      },
      "execution_count": null,
      "outputs": []
    },
    {
      "cell_type": "code",
      "source": [
        "print(x)    # print es una función que imprime mi variable x"
      ],
      "metadata": {
        "colab": {
          "base_uri": "https://localhost:8080/"
        },
        "id": "8eACAl6vhVIG",
        "outputId": "06ea85b0-071d-42c5-da44-952cff9e6668"
      },
      "execution_count": null,
      "outputs": [
        {
          "output_type": "stream",
          "name": "stdout",
          "text": [
            "5\n"
          ]
        }
      ]
    },
    {
      "cell_type": "code",
      "source": [
        "type(x)     # función que nos dice el tipo de dato"
      ],
      "metadata": {
        "colab": {
          "base_uri": "https://localhost:8080/"
        },
        "id": "Tsp53Tz_hPBH",
        "outputId": "163f80fe-e92a-4488-e2fd-bb89c6002922"
      },
      "execution_count": null,
      "outputs": [
        {
          "output_type": "execute_result",
          "data": {
            "text/plain": [
              "int"
            ]
          },
          "metadata": {},
          "execution_count": 3
        }
      ]
    },
    {
      "cell_type": "markdown",
      "source": [
        "## Flotantes `float`\n",
        "* Son números con decimales.\n",
        "* El tipo `float` hace referencia a que son [números de coma flotante](https://docs.python.org/es/3/tutorial/floatingpoint.html)"
      ],
      "metadata": {
        "id": "RacP3pWtjTrY"
      }
    },
    {
      "cell_type": "code",
      "source": [
        "temperatura = 21.8      # se usa el punto para separar los decimales\n",
        "\n",
        "# imprimiendo varios elementos separados por coma\n",
        "print(\"Estamos a\", temperatura, \"grados\")\n",
        "\n",
        "type(temperatura)       # número decimal de tipo float"
      ],
      "metadata": {
        "colab": {
          "base_uri": "https://localhost:8080/"
        },
        "id": "sDPcv914jbc3",
        "outputId": "bcc6ebd8-d513-4255-94f3-9b12b5e9cb69"
      },
      "execution_count": null,
      "outputs": [
        {
          "output_type": "stream",
          "name": "stdout",
          "text": [
            "Estamos a 21.8 grados\n"
          ]
        },
        {
          "output_type": "execute_result",
          "data": {
            "text/plain": [
              "float"
            ]
          },
          "metadata": {},
          "execution_count": 4
        }
      ]
    },
    {
      "cell_type": "markdown",
      "source": [
        "## Cadenas `str`\n",
        "* Las cadenas alfanuméricas van entre comillas simples o dobles.\n",
        "* El tipo `str` es la abreviatura de *string*"
      ],
      "metadata": {
        "id": "fVbSaLXfkDtq"
      }
    },
    {
      "cell_type": "code",
      "source": [
        "ciudad = \"Londres\"      # string\n",
        "print(\"Este verano quiero ir a\", ciudad)\n",
        "type(ciudad)"
      ],
      "metadata": {
        "colab": {
          "base_uri": "https://localhost:8080/"
        },
        "id": "TbQdOklOkR5A",
        "outputId": "573887c1-0d50-4a81-a5ed-87e1b970f8ac"
      },
      "execution_count": null,
      "outputs": [
        {
          "output_type": "stream",
          "name": "stdout",
          "text": [
            "Este verano quiero ir a Londres\n"
          ]
        },
        {
          "output_type": "execute_result",
          "data": {
            "text/plain": [
              "str"
            ]
          },
          "metadata": {},
          "execution_count": 5
        }
      ]
    },
    {
      "cell_type": "code",
      "source": [
        "print(\"5\")      # también es un string\n",
        "type(\"5\")"
      ],
      "metadata": {
        "id": "jiF0Yn8vD2ny",
        "outputId": "4c690e9d-a034-4ec1-d9af-f064668b90f8",
        "colab": {
          "base_uri": "https://localhost:8080/"
        }
      },
      "execution_count": 1,
      "outputs": [
        {
          "output_type": "stream",
          "name": "stdout",
          "text": [
            "5\n"
          ]
        },
        {
          "output_type": "execute_result",
          "data": {
            "text/plain": [
              "str"
            ]
          },
          "metadata": {},
          "execution_count": 1
        }
      ]
    },
    {
      "cell_type": "markdown",
      "source": [
        "## Booleanos `bool`\n",
        "* Son de dos tipos `True` o `False`\n",
        "* Se escribe la primera letra con mayúsculas"
      ],
      "metadata": {
        "id": "3aFYLO7QkxfI"
      }
    },
    {
      "cell_type": "code",
      "source": [
        "led_on = True\n",
        "print(\"¿El LED está encendido?\", led_on)\n",
        "type(led_on)"
      ],
      "metadata": {
        "colab": {
          "base_uri": "https://localhost:8080/"
        },
        "id": "U-3VQzSAlEjS",
        "outputId": "a682f50f-dde9-4976-cf98-287aecb3f0b4"
      },
      "execution_count": null,
      "outputs": [
        {
          "output_type": "stream",
          "name": "stdout",
          "text": [
            "¿El LED está encendido? True\n"
          ]
        },
        {
          "output_type": "execute_result",
          "data": {
            "text/plain": [
              "bool"
            ]
          },
          "metadata": {},
          "execution_count": 6
        }
      ]
    },
    {
      "cell_type": "code",
      "source": [
        "5 == '5'    # el doble igual == es un operador de comparación"
      ],
      "metadata": {
        "id": "iKSRvhWgEIW5",
        "outputId": "730d7279-7f5e-4a08-c34d-ee527b8e4982",
        "colab": {
          "base_uri": "https://localhost:8080/"
        }
      },
      "execution_count": 2,
      "outputs": [
        {
          "output_type": "execute_result",
          "data": {
            "text/plain": [
              "False"
            ]
          },
          "metadata": {},
          "execution_count": 2
        }
      ]
    },
    {
      "cell_type": "code",
      "source": [
        "type(3 >= 2)"
      ],
      "metadata": {
        "id": "WFuCgdoMEZhf",
        "outputId": "f2a55c78-9f23-4c7c-deab-e251401f38d4",
        "colab": {
          "base_uri": "https://localhost:8080/"
        }
      },
      "execution_count": 3,
      "outputs": [
        {
          "output_type": "execute_result",
          "data": {
            "text/plain": [
              "bool"
            ]
          },
          "metadata": {},
          "execution_count": 3
        }
      ]
    },
    {
      "cell_type": "markdown",
      "source": [
        "## Listas `list`\n",
        "* Son una secuencia de datos separados por comas\n",
        "* Van entre corchetes `[ ]`\n",
        "* El orden importa"
      ],
      "metadata": {
        "id": "LOkkOjupmJzp"
      }
    },
    {
      "cell_type": "code",
      "source": [
        "my_list = [1, 2, 3]\n",
        "print(my_list)\n",
        "type(my_list)"
      ],
      "metadata": {
        "colab": {
          "base_uri": "https://localhost:8080/"
        },
        "id": "mesIMXgZma4M",
        "outputId": "e77572e8-91fa-4a8f-e7c6-e4d5e3e24610"
      },
      "execution_count": null,
      "outputs": [
        {
          "output_type": "stream",
          "name": "stdout",
          "text": [
            "[1, 2, 3]\n"
          ]
        },
        {
          "output_type": "execute_result",
          "data": {
            "text/plain": [
              "list"
            ]
          },
          "metadata": {},
          "execution_count": 7
        }
      ]
    },
    {
      "cell_type": "code",
      "source": [
        "print(type(my_list))    # función dentro de función"
      ],
      "metadata": {
        "colab": {
          "base_uri": "https://localhost:8080/"
        },
        "id": "hkMDfKiFyjue",
        "outputId": "d5f211fe-0024-4c30-a946-c196595de99e"
      },
      "execution_count": null,
      "outputs": [
        {
          "output_type": "stream",
          "name": "stdout",
          "text": [
            "<class 'list'>\n"
          ]
        }
      ]
    },
    {
      "cell_type": "markdown",
      "source": [
        "## Tuplas `tuple`\n",
        "* Los elementos van entre paréntesis `( )`\n",
        "* Son inmutables, se usan para datos que no cambian"
      ],
      "metadata": {
        "id": "td-wozqb6P1n"
      }
    },
    {
      "cell_type": "code",
      "source": [
        "vocales = ('a', 'e', 'i', 'o', 'u')\n",
        "print(vocales)\n",
        "print(type(vocales))"
      ],
      "metadata": {
        "colab": {
          "base_uri": "https://localhost:8080/"
        },
        "id": "LVBbnQAF6gp0",
        "outputId": "7599b110-39c0-4a7c-f97c-834846dcc9d9"
      },
      "execution_count": null,
      "outputs": [
        {
          "output_type": "stream",
          "name": "stdout",
          "text": [
            "('a', 'e', 'i', 'o', 'u')\n",
            "<class 'tuple'>\n"
          ]
        }
      ]
    },
    {
      "cell_type": "markdown",
      "source": [
        "## Diccionarios `dict`\n",
        "* Un diccionario permite agrupar datos en forma de parejas de:\n",
        "    - *clave: valor*\n",
        "    - *key: value*"
      ],
      "metadata": {
        "id": "2fZaUUBP93E5"
      }
    },
    {
      "cell_type": "code",
      "source": [
        "traductor = {'uno': 'one',\n",
        "             'dos': 'two',\n",
        "             'tres': 'three',\n",
        "             'cuatro': ', four',\n",
        "             'cinco': 'five'}\n",
        "\n",
        "traductor"
      ],
      "metadata": {
        "id": "XMV0B4wDqu9Y",
        "outputId": "61cde82f-eb25-48b9-f808-c8f26f7ecaf9",
        "colab": {
          "base_uri": "https://localhost:8080/"
        }
      },
      "execution_count": null,
      "outputs": [
        {
          "output_type": "execute_result",
          "data": {
            "text/plain": [
              "{'uno': 'one',\n",
              " 'dos': 'two',\n",
              " 'tres': 'three',\n",
              " 'cuatro': ', four',\n",
              " 'cinco': 'five'}"
            ]
          },
          "metadata": {},
          "execution_count": 10
        }
      ]
    },
    {
      "cell_type": "code",
      "source": [
        "print(traductor)    # parejas clave: valor separadas por comas y entre llaves {}"
      ],
      "metadata": {
        "id": "_koYT65_rn5e",
        "outputId": "9346e807-759a-495e-82dd-cbc79c7ab451",
        "colab": {
          "base_uri": "https://localhost:8080/"
        }
      },
      "execution_count": null,
      "outputs": [
        {
          "output_type": "stream",
          "name": "stdout",
          "text": [
            "{'uno': 'one', 'dos': 'two', 'tres': 'three', 'cuatro': ', four', 'cinco': 'five'}\n"
          ]
        }
      ]
    },
    {
      "cell_type": "code",
      "source": [
        "type(traductor)"
      ],
      "metadata": {
        "id": "G6XGXz8FrYsB",
        "outputId": "37e9146e-4110-4f21-c2e9-dec6f70afb21",
        "colab": {
          "base_uri": "https://localhost:8080/"
        }
      },
      "execution_count": null,
      "outputs": [
        {
          "output_type": "execute_result",
          "data": {
            "text/plain": [
              "dict"
            ]
          },
          "metadata": {},
          "execution_count": 12
        }
      ]
    },
    {
      "cell_type": "markdown",
      "source": [
        "### Ejemplo coordenadas"
      ],
      "metadata": {
        "id": "bxfms9I93kh8"
      }
    },
    {
      "cell_type": "code",
      "source": [
        "punto_mapa = {'latitud': 40.48824409244089,\n",
        "             'longitud': -3.8834986974532573}\n",
        "\n",
        "print(punto_mapa)"
      ],
      "metadata": {
        "id": "JYA7P9hJ3po6",
        "outputId": "f6d735eb-68e9-43c8-e1a1-b93d81f60355",
        "colab": {
          "base_uri": "https://localhost:8080/"
        }
      },
      "execution_count": null,
      "outputs": [
        {
          "output_type": "stream",
          "name": "stdout",
          "text": [
            "{'latitud': 40.48824409244089, 'longitud': -3.8834986974532573}\n"
          ]
        }
      ]
    },
    {
      "cell_type": "markdown",
      "source": [
        "## Conjuntos `set`\n",
        "* Van entre llaves `{ }`\n",
        "* El orden no importa\n",
        "* No puede haber repetidos"
      ],
      "metadata": {
        "id": "GEd6dEb77fGS"
      }
    },
    {
      "cell_type": "code",
      "source": [
        "sabores = {'vainilla', 'nata', 'chocolate'}\n",
        "sabores"
      ],
      "metadata": {
        "id": "zXYtYOgM7w5Z",
        "outputId": "a0e9a57d-fb78-44cc-b7a3-e46dd80b35cd",
        "colab": {
          "base_uri": "https://localhost:8080/"
        }
      },
      "execution_count": null,
      "outputs": [
        {
          "output_type": "execute_result",
          "data": {
            "text/plain": [
              "{'chocolate', 'nata', 'vainilla'}"
            ]
          },
          "metadata": {},
          "execution_count": 14
        }
      ]
    },
    {
      "cell_type": "code",
      "source": [
        "type(sabores)"
      ],
      "metadata": {
        "id": "LiuBPXiU7-a9",
        "outputId": "a24ecea9-643f-493e-fb6e-b9fc94d66a27",
        "colab": {
          "base_uri": "https://localhost:8080/"
        }
      },
      "execution_count": null,
      "outputs": [
        {
          "output_type": "execute_result",
          "data": {
            "text/plain": [
              "set"
            ]
          },
          "metadata": {},
          "execution_count": 15
        }
      ]
    },
    {
      "cell_type": "markdown",
      "source": [
        "## Tipo `None`\n",
        "Indica que no hay dato."
      ],
      "metadata": {
        "id": "3Q8x1ziU7EUA"
      }
    },
    {
      "cell_type": "code",
      "source": [
        "informacion = None\n",
        "print(informacion)\n",
        "type(informacion)"
      ],
      "metadata": {
        "id": "BuhZ0qY-7JQ5",
        "outputId": "43f40987-7052-40cb-d1ce-e2fb6c0600ad",
        "colab": {
          "base_uri": "https://localhost:8080/"
        }
      },
      "execution_count": null,
      "outputs": [
        {
          "output_type": "stream",
          "name": "stdout",
          "text": [
            "None\n"
          ]
        },
        {
          "output_type": "execute_result",
          "data": {
            "text/plain": [
              "NoneType"
            ]
          },
          "metadata": {},
          "execution_count": 16
        }
      ]
    }
  ]
}