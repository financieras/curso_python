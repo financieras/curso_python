{
  "nbformat": 4,
  "nbformat_minor": 0,
  "metadata": {
    "colab": {
      "provenance": [],
      "authorship_tag": "ABX9TyMyntvWVoyp/oOrUAuyetVS",
      "include_colab_link": true
    },
    "kernelspec": {
      "name": "python3",
      "display_name": "Python 3"
    },
    "language_info": {
      "name": "python"
    }
  },
  "cells": [
    {
      "cell_type": "markdown",
      "metadata": {
        "id": "view-in-github",
        "colab_type": "text"
      },
      "source": [
        "<a href=\"https://colab.research.google.com/github/financieras/curso_python/blob/main/mypy/myfunctions.ipynb\" target=\"_parent\"><img src=\"https://colab.research.google.com/assets/colab-badge.svg\" alt=\"Open In Colab\"/></a>"
      ]
    },
    {
      "cell_type": "code",
      "execution_count": null,
      "metadata": {
        "id": "iRL01eO6ANHM"
      },
      "outputs": [],
      "source": [
        "def sumar(n1,n2):\n",
        "    \"Permite sumar dos números\"\n",
        "    print(f\"El resultado de la suma es {n1+n2}\")\n",
        "\n",
        "def restar(n1,n2):\n",
        "    print(f\"El resultado de la resta es {n1-n2}\")\n",
        "\n",
        "def multiplicar(n1,n2):\n",
        "    print(f\"El resultado del producto es {n1*n2}\")\n",
        "\n",
        "def dividir(n1,n2):\n",
        "    print(f\"El resultado de la división es {n1/n2}\")"
      ]
    }
  ]
}