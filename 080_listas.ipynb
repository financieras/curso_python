{
  "nbformat": 4,
  "nbformat_minor": 0,
  "metadata": {
    "colab": {
      "provenance": [],
      "authorship_tag": "ABX9TyOqHf4+MCKRgoLIJZRBKj04",
      "include_colab_link": true
    },
    "kernelspec": {
      "name": "python3",
      "display_name": "Python 3"
    },
    "language_info": {
      "name": "python"
    }
  },
  "cells": [
    {
      "cell_type": "markdown",
      "metadata": {
        "id": "view-in-github",
        "colab_type": "text"
      },
      "source": [
        "<a href=\"https://colab.research.google.com/github/financieras/curso_python/blob/main/080_listas.ipynb\" target=\"_parent\"><img src=\"https://colab.research.google.com/assets/colab-badge.svg\" alt=\"Open In Colab\"/></a>"
      ]
    },
    {
      "cell_type": "markdown",
      "source": [
        "# Listas\n",
        "* Es una colección de elementos que va entre corchetes `[ ]`\n",
        "* El orden si importa\n",
        "* También se llaman arrays, vectores o arreglos\n"
      ],
      "metadata": {
        "id": "qJyPn-1n4m6b"
      }
    },
    {
      "cell_type": "code",
      "execution_count": null,
      "metadata": {
        "colab": {
          "base_uri": "https://localhost:8080/"
        },
        "id": "bE7XyEpy4fsF",
        "outputId": "8295726a-ac0d-409f-9b11-ff866544b465"
      },
      "outputs": [
        {
          "output_type": "execute_result",
          "data": {
            "text/plain": [
              "[]"
            ]
          },
          "metadata": {},
          "execution_count": 1
        }
      ],
      "source": [
        "[]              # lista vacía"
      ]
    },
    {
      "cell_type": "markdown",
      "source": [
        "Las listas pueden contener diferentes tipos de datos."
      ],
      "metadata": {
        "id": "cQM3q195HPRt"
      }
    },
    {
      "cell_type": "code",
      "source": [
        "[10 , 15, 12]   # lista de números enteros"
      ],
      "metadata": {
        "colab": {
          "base_uri": "https://localhost:8080/"
        },
        "id": "LVCVtn9-5GWt",
        "outputId": "b35e8649-e6bc-431d-b1d3-80e160b0616a"
      },
      "execution_count": null,
      "outputs": [
        {
          "output_type": "execute_result",
          "data": {
            "text/plain": [
              "[10, 15, 12]"
            ]
          },
          "metadata": {},
          "execution_count": 2
        }
      ]
    },
    {
      "cell_type": "code",
      "source": [
        "# lista de strings\n",
        "estaciones = ['primavera', 'verano', 'otoño', 'invierno']\n",
        "print(estaciones)"
      ],
      "metadata": {
        "colab": {
          "base_uri": "https://localhost:8080/"
        },
        "id": "dqdIflpG5RMh",
        "outputId": "098b8c59-8e68-4980-9d8b-dfec7635ea36"
      },
      "execution_count": null,
      "outputs": [
        {
          "output_type": "stream",
          "name": "stdout",
          "text": [
            "['primavera', 'verano', 'otoño', 'invierno']\n"
          ]
        }
      ]
    },
    {
      "cell_type": "markdown",
      "source": [
        "* Puede haber mezcla de tipo de datos\n",
        "* Incluso una lista puede contener a otras listas"
      ],
      "metadata": {
        "id": "HwWZBU2gHdiI"
      }
    },
    {
      "cell_type": "code",
      "source": [
        "deportista = [\"Ana\", 18, 1.78, True, ['vallas', 'pértiga']]\n",
        "print(deportista)"
      ],
      "metadata": {
        "id": "VGo9nqX7HcAP",
        "outputId": "8bb11593-06a0-4766-9d74-5da1c1b4be48",
        "colab": {
          "base_uri": "https://localhost:8080/"
        }
      },
      "execution_count": 1,
      "outputs": [
        {
          "output_type": "stream",
          "name": "stdout",
          "text": [
            "['Ana', 18, 1.78, True, ['vallas', 'pértiga']]\n"
          ]
        }
      ]
    },
    {
      "cell_type": "markdown",
      "source": [
        "## Indexing\n",
        "* Índices de una lista\n",
        "* El index siempre comienza por cero."
      ],
      "metadata": {
        "id": "WEd4M3bX5o9O"
      }
    },
    {
      "cell_type": "code",
      "source": [
        "estaciones = ['primavera', 'verano', 'otoño', 'invierno']\n",
        "print(estaciones[0])\n",
        "print(estaciones[1])\n",
        "print(estaciones[2])\n",
        "print(estaciones[3])\n",
        "print(estaciones[-1])       # último elemento de la lista"
      ],
      "metadata": {
        "colab": {
          "base_uri": "https://localhost:8080/"
        },
        "id": "5p4hCiUB5vEJ",
        "outputId": "d5aec469-5875-407f-cc36-0f6d2345e38c"
      },
      "execution_count": null,
      "outputs": [
        {
          "output_type": "stream",
          "name": "stdout",
          "text": [
            "primavera\n",
            "verano\n",
            "otoño\n",
            "invierno\n",
            "invierno\n"
          ]
        }
      ]
    },
    {
      "cell_type": "code",
      "source": [
        "deportista = [\"Ana\", 18, 1.78, True, ['vallas', 'pértiga']]\n",
        "deportista[4][1]    # buscando un elemento en una lista dentro de otra lista"
      ],
      "metadata": {
        "id": "_djLjVvQIWk3",
        "outputId": "d2d06be6-5cfa-4aaa-f471-f6fa1e293124",
        "colab": {
          "base_uri": "https://localhost:8080/",
          "height": 35
        }
      },
      "execution_count": 2,
      "outputs": [
        {
          "output_type": "execute_result",
          "data": {
            "text/plain": [
              "'pértiga'"
            ],
            "application/vnd.google.colaboratory.intrinsic+json": {
              "type": "string"
            }
          },
          "metadata": {},
          "execution_count": 2
        }
      ]
    },
    {
      "cell_type": "markdown",
      "source": [
        "Caracteres de escape:\n",
        "\n",
        "* `\\t` es un tabulador\n",
        "* `\\n` es una nueva línea, es la abreviatura de *new line*"
      ],
      "metadata": {
        "id": "3cU5B5hY5EHd"
      }
    },
    {
      "cell_type": "code",
      "source": [
        "print(\"Datos de la deportista\".upper())\n",
        "print(\"\\tNombre:\", deportista[0])\n",
        "print(\"\\tEdad:\", deportista[1])\n",
        "print(\"\\tAltura:\", deportista[2])\n",
        "print(\"\\tFederada:\", deportista[3])\n",
        "print(f\"\\tEspecialidades: {deportista[-1]}\")"
      ],
      "metadata": {
        "colab": {
          "base_uri": "https://localhost:8080/"
        },
        "id": "dUjy_aLl4DW0",
        "outputId": "00951086-687a-4cde-abe9-aaa374218cbb"
      },
      "execution_count": null,
      "outputs": [
        {
          "output_type": "stream",
          "name": "stdout",
          "text": [
            "DATOS DE LA DEPORTISTA\n",
            "\tNombre: Ana\n",
            "\tEdad: 18\n",
            "\tAltura: 1.78\n",
            "\tFederada: True\n",
            "\tEspecialidades: ['vallas', 'pértiga']\n"
          ]
        }
      ]
    },
    {
      "cell_type": "markdown",
      "source": [
        "## Longitud de una lista"
      ],
      "metadata": {
        "id": "ZlAB1Z7s6U4g"
      }
    },
    {
      "cell_type": "code",
      "source": [
        "colores = ['rojo', 'azul', 'amarillo', 'verde', 'naranja', 'rosa']\n",
        "len(colores)"
      ],
      "metadata": {
        "colab": {
          "base_uri": "https://localhost:8080/"
        },
        "id": "an-WxKpx6Z5T",
        "outputId": "77c3448c-13e8-4a26-9a5b-d58e7d6f9847"
      },
      "execution_count": null,
      "outputs": [
        {
          "output_type": "execute_result",
          "data": {
            "text/plain": [
              "6"
            ]
          },
          "metadata": {},
          "execution_count": 9
        }
      ]
    },
    {
      "cell_type": "markdown",
      "source": [
        "## Slicing"
      ],
      "metadata": {
        "id": "lBojms2w68cL"
      }
    },
    {
      "cell_type": "code",
      "source": [
        "meses = ['Ene', 'Feb', 'Mar', 'Abr', 'May', 'Jun', 'Jul', 'Ago', 'Sep', 'Oct', 'Non', 'Dic']\n",
        "meses[2:5]"
      ],
      "metadata": {
        "colab": {
          "base_uri": "https://localhost:8080/"
        },
        "id": "xL2XdZ2D7DaF",
        "outputId": "437ef2be-0157-485e-a63f-7615d5a3ded2"
      },
      "execution_count": 4,
      "outputs": [
        {
          "output_type": "execute_result",
          "data": {
            "text/plain": [
              "['Mar', 'Abr', 'May']"
            ]
          },
          "metadata": {},
          "execution_count": 4
        }
      ]
    },
    {
      "cell_type": "code",
      "source": [
        "meses[:3]"
      ],
      "metadata": {
        "colab": {
          "base_uri": "https://localhost:8080/"
        },
        "id": "nNvwbVXW7epR",
        "outputId": "b9ea1973-6eb7-465d-ef57-ad2df844f1b2"
      },
      "execution_count": 5,
      "outputs": [
        {
          "output_type": "execute_result",
          "data": {
            "text/plain": [
              "['Ene', 'Feb', 'Mar']"
            ]
          },
          "metadata": {},
          "execution_count": 5
        }
      ]
    },
    {
      "cell_type": "code",
      "source": [
        "meses[3:]"
      ],
      "metadata": {
        "colab": {
          "base_uri": "https://localhost:8080/"
        },
        "id": "PqF54OxC7p79",
        "outputId": "79c5077a-1f7d-4e92-eb15-96e49667c082"
      },
      "execution_count": 6,
      "outputs": [
        {
          "output_type": "execute_result",
          "data": {
            "text/plain": [
              "['Abr', 'May', 'Jun', 'Jul', 'Ago', 'Sep', 'Oct', 'Non', 'Dic']"
            ]
          },
          "metadata": {},
          "execution_count": 6
        }
      ]
    },
    {
      "cell_type": "code",
      "source": [
        "meses[1:9:3]"
      ],
      "metadata": {
        "id": "UM59X64lKR8B",
        "outputId": "411171f7-d987-4920-da17-3cfc6b6d8077",
        "colab": {
          "base_uri": "https://localhost:8080/"
        }
      },
      "execution_count": 13,
      "outputs": [
        {
          "output_type": "execute_result",
          "data": {
            "text/plain": [
              "['Feb', 'May', 'Ago']"
            ]
          },
          "metadata": {},
          "execution_count": 13
        }
      ]
    },
    {
      "cell_type": "code",
      "source": [
        "meses[::-3]"
      ],
      "metadata": {
        "id": "dEZdwMfsKajm",
        "outputId": "3e857319-a9e2-4800-cfa5-7eed7d5edaed",
        "colab": {
          "base_uri": "https://localhost:8080/"
        }
      },
      "execution_count": 12,
      "outputs": [
        {
          "output_type": "execute_result",
          "data": {
            "text/plain": [
              "['Dic', 'Sep', 'Jun', 'Mar']"
            ]
          },
          "metadata": {},
          "execution_count": 12
        }
      ]
    },
    {
      "cell_type": "code",
      "source": [
        "meses[:]"
      ],
      "metadata": {
        "colab": {
          "base_uri": "https://localhost:8080/"
        },
        "id": "EKBvV5_X76Os",
        "outputId": "b0b19601-a5e5-4e9e-da49-0794895a6c0a"
      },
      "execution_count": 7,
      "outputs": [
        {
          "output_type": "execute_result",
          "data": {
            "text/plain": [
              "['Ene',\n",
              " 'Feb',\n",
              " 'Mar',\n",
              " 'Abr',\n",
              " 'May',\n",
              " 'Jun',\n",
              " 'Jul',\n",
              " 'Ago',\n",
              " 'Sep',\n",
              " 'Oct',\n",
              " 'Non',\n",
              " 'Dic']"
            ]
          },
          "metadata": {},
          "execution_count": 7
        }
      ]
    },
    {
      "cell_type": "markdown",
      "source": [
        "## Crear una lista con `list`\n",
        "Con `list` podemos convertir una tupla en una lista."
      ],
      "metadata": {
        "id": "pOFDcFtM4V1k"
      }
    },
    {
      "cell_type": "code",
      "source": [
        "lista_numeros = list((1, 2, 3, 4))\n",
        "lista_numeros"
      ],
      "metadata": {
        "colab": {
          "base_uri": "https://localhost:8080/"
        },
        "id": "JeCYGNSF49Lm",
        "outputId": "45c64548-f02b-4a21-b0c9-49af5edb4cd8"
      },
      "execution_count": null,
      "outputs": [
        {
          "output_type": "execute_result",
          "data": {
            "text/plain": [
              "[1, 2, 3, 4]"
            ]
          },
          "metadata": {},
          "execution_count": 6
        }
      ]
    },
    {
      "cell_type": "code",
      "source": [
        "dias = list(('lu', 'ma', 'mi', 'ju', 'vi', 'sá', 'do'))\n",
        "dias"
      ],
      "metadata": {
        "colab": {
          "base_uri": "https://localhost:8080/"
        },
        "id": "0ZAi4g_84adl",
        "outputId": "6624e484-2906-47be-8f77-5e26fd0d8709"
      },
      "execution_count": null,
      "outputs": [
        {
          "output_type": "execute_result",
          "data": {
            "text/plain": [
              "['lu', 'ma', 'mi', 'ju', 'vi', 'sá', 'do']"
            ]
          },
          "metadata": {},
          "execution_count": 7
        }
      ]
    },
    {
      "cell_type": "markdown",
      "source": [
        "## Listas usando el objeto `range`"
      ],
      "metadata": {
        "id": "TB9Wx1wQ5TWe"
      }
    },
    {
      "cell_type": "code",
      "source": [
        "num = range(5)          # números del 0 al 4\n",
        "print(num)\n",
        "type(num)               # objeto de tipo range"
      ],
      "metadata": {
        "colab": {
          "base_uri": "https://localhost:8080/"
        },
        "id": "CutpUjwB5Z62",
        "outputId": "05741612-07f6-499e-de4d-ac8ff1a2c4b5"
      },
      "execution_count": null,
      "outputs": [
        {
          "output_type": "stream",
          "name": "stdout",
          "text": [
            "range(0, 5)\n"
          ]
        },
        {
          "output_type": "execute_result",
          "data": {
            "text/plain": [
              "range"
            ]
          },
          "metadata": {},
          "execution_count": 8
        }
      ]
    },
    {
      "cell_type": "code",
      "source": [
        "mi_lista = list(num)\n",
        "mi_lista"
      ],
      "metadata": {
        "colab": {
          "base_uri": "https://localhost:8080/"
        },
        "id": "uyX2z5Nt58z2",
        "outputId": "90018392-5a2d-46e0-a58f-96c203d75a62"
      },
      "execution_count": null,
      "outputs": [
        {
          "output_type": "execute_result",
          "data": {
            "text/plain": [
              "[0, 1, 2, 3, 4]"
            ]
          },
          "metadata": {},
          "execution_count": 9
        }
      ]
    },
    {
      "cell_type": "code",
      "source": [
        "list(range(5, 10))      # números del 5 al 9"
      ],
      "metadata": {
        "colab": {
          "base_uri": "https://localhost:8080/"
        },
        "id": "yZg4jh0R6OJi",
        "outputId": "33bd36ea-a3e0-4ba1-fa7c-7a1649eee724"
      },
      "execution_count": null,
      "outputs": [
        {
          "output_type": "execute_result",
          "data": {
            "text/plain": [
              "[5, 6, 7, 8, 9]"
            ]
          },
          "metadata": {},
          "execution_count": 10
        }
      ]
    },
    {
      "cell_type": "code",
      "source": [
        "list(range(10, 45, 5))  # números del 10 al 40 en saltos de 5 en 5"
      ],
      "metadata": {
        "colab": {
          "base_uri": "https://localhost:8080/"
        },
        "id": "_PZxByoJ6bKs",
        "outputId": "e3c4639c-d2d1-46f0-9f77-733cb0fcd10f"
      },
      "execution_count": null,
      "outputs": [
        {
          "output_type": "execute_result",
          "data": {
            "text/plain": [
              "[10, 15, 20, 25, 30, 35, 40]"
            ]
          },
          "metadata": {},
          "execution_count": 11
        }
      ]
    },
    {
      "cell_type": "code",
      "source": [
        "list(range(10, 0, -1))  # números en orden decreciente, del 10 al 1"
      ],
      "metadata": {
        "colab": {
          "base_uri": "https://localhost:8080/"
        },
        "id": "CLsTKANS7mqv",
        "outputId": "96217845-78bf-46a3-a516-1f1b7c3bfc52"
      },
      "execution_count": null,
      "outputs": [
        {
          "output_type": "execute_result",
          "data": {
            "text/plain": [
              "[10, 9, 8, 7, 6, 5, 4, 3, 2, 1]"
            ]
          },
          "metadata": {},
          "execution_count": 12
        }
      ]
    },
    {
      "cell_type": "markdown",
      "source": [
        "## Matriz: Array 2D\n",
        "* Una Matriz de dos dimensiones es una lista de listas.\n",
        "\n",
        "* Veamos un caso de tres filas y cuatro columnas, 3x4"
      ],
      "metadata": {
        "id": "06alFDYF8FBA"
      }
    },
    {
      "cell_type": "code",
      "source": [
        "m = [[11, 12, 13, 14],\n",
        "     [21, 22, 23, 24],\n",
        "     [31, 32, 33, 34]]\n",
        "\n",
        "m"
      ],
      "metadata": {
        "colab": {
          "base_uri": "https://localhost:8080/"
        },
        "id": "DRMGhoi38LbN",
        "outputId": "a2f8b139-8e9d-4748-8aa4-8c0941aefe1a"
      },
      "execution_count": null,
      "outputs": [
        {
          "output_type": "execute_result",
          "data": {
            "text/plain": [
              "[[11, 12, 13, 14], [21, 22, 23, 24], [31, 32, 33, 34]]"
            ]
          },
          "metadata": {},
          "execution_count": 1
        }
      ]
    },
    {
      "cell_type": "code",
      "source": [
        "print(*m)"
      ],
      "metadata": {
        "colab": {
          "base_uri": "https://localhost:8080/"
        },
        "id": "3qBCADqT86sn",
        "outputId": "29d7893b-46dc-4c25-c027-084fb3352396"
      },
      "execution_count": null,
      "outputs": [
        {
          "output_type": "stream",
          "name": "stdout",
          "text": [
            "[11, 12, 13, 14] [21, 22, 23, 24] [31, 32, 33, 34]\n"
          ]
        }
      ]
    },
    {
      "cell_type": "code",
      "source": [
        "print(*m[0])\n",
        "print(*m[1])\n",
        "print(*m[2])"
      ],
      "metadata": {
        "colab": {
          "base_uri": "https://localhost:8080/"
        },
        "id": "mBQ6Vy6f9FYk",
        "outputId": "d47e050f-dbf2-43f7-93a1-272ff00d621b"
      },
      "execution_count": null,
      "outputs": [
        {
          "output_type": "stream",
          "name": "stdout",
          "text": [
            "11 12 13 14\n",
            "21 22 23 24\n",
            "31 32 33 34\n"
          ]
        }
      ]
    },
    {
      "cell_type": "markdown",
      "source": [
        "## Unir dos listas"
      ],
      "metadata": {
        "id": "2qAggxsO9Vi5"
      }
    },
    {
      "cell_type": "code",
      "source": [
        "uno = [11, 12, 13]\n",
        "dos = [21, 22, 23]\n",
        "todo = uno + dos\n",
        "todo"
      ],
      "metadata": {
        "colab": {
          "base_uri": "https://localhost:8080/"
        },
        "id": "MIoqlUUN9Yc7",
        "outputId": "34bcaac0-f127-4b4c-aa18-572f7d9ca120"
      },
      "execution_count": null,
      "outputs": [
        {
          "output_type": "execute_result",
          "data": {
            "text/plain": [
              "[11, 12, 13, 21, 22, 23]"
            ]
          },
          "metadata": {},
          "execution_count": 23
        }
      ]
    },
    {
      "cell_type": "markdown",
      "source": [
        "## Borrar un elemento de una lista"
      ],
      "metadata": {
        "id": "Ebh3mxKE9osd"
      }
    },
    {
      "cell_type": "code",
      "source": [
        "del todo[-1]\n",
        "todo"
      ],
      "metadata": {
        "colab": {
          "base_uri": "https://localhost:8080/"
        },
        "id": "YKI73TMc9tkt",
        "outputId": "5ab51db9-6bc2-4760-cb97-dfa35c798715"
      },
      "execution_count": null,
      "outputs": [
        {
          "output_type": "execute_result",
          "data": {
            "text/plain": [
              "[11, 12, 13, 21, 22]"
            ]
          },
          "metadata": {},
          "execution_count": 24
        }
      ]
    },
    {
      "cell_type": "markdown",
      "source": [
        "## Anexar un elemento a una lista\n",
        "Añadir un elemento en la última posición."
      ],
      "metadata": {
        "id": "7Z209UAm9_ct"
      }
    },
    {
      "cell_type": "code",
      "source": [
        "todo.append(100)\n",
        "todo"
      ],
      "metadata": {
        "colab": {
          "base_uri": "https://localhost:8080/"
        },
        "id": "I5iz2BVO-HrI",
        "outputId": "f935742e-566c-4dae-afb3-12e4536e5f43"
      },
      "execution_count": null,
      "outputs": [
        {
          "output_type": "execute_result",
          "data": {
            "text/plain": [
              "[11, 12, 13, 21, 22, 100]"
            ]
          },
          "metadata": {},
          "execution_count": 25
        }
      ]
    },
    {
      "cell_type": "markdown",
      "source": [
        "## Comprobar si un elemento está en la lista"
      ],
      "metadata": {
        "id": "WNHsdbD_-Q4L"
      }
    },
    {
      "cell_type": "code",
      "source": [
        "print(100 in todo)\n",
        "print(101 in todo)\n",
        "print(100 not in todo)"
      ],
      "metadata": {
        "colab": {
          "base_uri": "https://localhost:8080/"
        },
        "id": "pNnRn9ZX-T3X",
        "outputId": "e1ce2219-81d7-4fce-8a44-82d394b8215d"
      },
      "execution_count": null,
      "outputs": [
        {
          "output_type": "stream",
          "name": "stdout",
          "text": [
            "True\n",
            "False\n",
            "False\n"
          ]
        }
      ]
    },
    {
      "cell_type": "markdown",
      "source": [
        "## Índice de un elemento en una lista\n",
        "¿Qué index ocupa un elemento dentro de una lista?"
      ],
      "metadata": {
        "id": "vkWb2CBB-pm3"
      }
    },
    {
      "cell_type": "code",
      "source": [
        "todo.index(100)"
      ],
      "metadata": {
        "colab": {
          "base_uri": "https://localhost:8080/"
        },
        "id": "3E1l9DmN-tv9",
        "outputId": "5c157c31-d25a-43dc-9f3f-a40bfb852400"
      },
      "execution_count": null,
      "outputs": [
        {
          "output_type": "execute_result",
          "data": {
            "text/plain": [
              "5"
            ]
          },
          "metadata": {},
          "execution_count": 29
        }
      ]
    },
    {
      "cell_type": "markdown",
      "source": [
        "## Remover un elemento de una lista"
      ],
      "metadata": {
        "id": "wZ0v9UkO-6iG"
      }
    },
    {
      "cell_type": "code",
      "source": [
        "print(todo)\n",
        "todo.remove(13)\n",
        "todo"
      ],
      "metadata": {
        "colab": {
          "base_uri": "https://localhost:8080/"
        },
        "id": "MtVmN4bE_VDX",
        "outputId": "abf254c0-66fc-4f17-90b4-443d60d75ebe"
      },
      "execution_count": null,
      "outputs": [
        {
          "output_type": "stream",
          "name": "stdout",
          "text": [
            "[11, 12, 13, 21, 22, 100]\n"
          ]
        },
        {
          "output_type": "execute_result",
          "data": {
            "text/plain": [
              "[11, 12, 21, 22, 100]"
            ]
          },
          "metadata": {},
          "execution_count": 32
        }
      ]
    },
    {
      "cell_type": "markdown",
      "source": [
        "## Eliminar el último elemento con ```pop```"
      ],
      "metadata": {
        "id": "Xo7KdlPu_gTD"
      }
    },
    {
      "cell_type": "code",
      "source": [
        "todo.pop()\n",
        "todo"
      ],
      "metadata": {
        "colab": {
          "base_uri": "https://localhost:8080/"
        },
        "id": "gNlKpGHB_qn5",
        "outputId": "236ce17b-4b0d-49d0-c1a4-43a32be2cf9b"
      },
      "execution_count": null,
      "outputs": [
        {
          "output_type": "execute_result",
          "data": {
            "text/plain": [
              "[11, 12, 21, 22]"
            ]
          },
          "metadata": {},
          "execution_count": 33
        }
      ]
    },
    {
      "cell_type": "markdown",
      "source": [
        "## Insertamos un elemento en una posición"
      ],
      "metadata": {
        "id": "OYPFO5Qn_1nL"
      }
    },
    {
      "cell_type": "code",
      "source": [
        "todo.insert(0, 99)\n",
        "todo"
      ],
      "metadata": {
        "colab": {
          "base_uri": "https://localhost:8080/"
        },
        "id": "JGSXAg0R_5HL",
        "outputId": "4269c4a7-84af-4599-d424-920142d4b60e"
      },
      "execution_count": null,
      "outputs": [
        {
          "output_type": "execute_result",
          "data": {
            "text/plain": [
              "[99, 11, 12, 21, 22]"
            ]
          },
          "metadata": {},
          "execution_count": 34
        }
      ]
    },
    {
      "cell_type": "markdown",
      "source": [
        "## Inicializar una lista con ceros"
      ],
      "metadata": {
        "id": "diS3AE0jADx6"
      }
    },
    {
      "cell_type": "code",
      "source": [
        "ceros = [0] * 10\n",
        "ceros"
      ],
      "metadata": {
        "colab": {
          "base_uri": "https://localhost:8080/"
        },
        "id": "xRkFI4uiAHT0",
        "outputId": "7d2c94d3-4ce0-4199-a725-175251b0575e"
      },
      "execution_count": null,
      "outputs": [
        {
          "output_type": "execute_result",
          "data": {
            "text/plain": [
              "[0, 0, 0, 0, 0, 0, 0, 0, 0, 0]"
            ]
          },
          "metadata": {},
          "execution_count": 37
        }
      ]
    },
    {
      "cell_type": "markdown",
      "source": [
        "## Las listas son mutables\n",
        "Podemos cambiar un elemento en una lista"
      ],
      "metadata": {
        "id": "GX55EkcbqVOf"
      }
    },
    {
      "cell_type": "code",
      "source": [
        "estaciones = ['spring', 'summer', 'autumn', 'winter']\n",
        "print(estaciones)\n",
        "\n",
        "estaciones[2] = 'fall'      # podemos cambiar un elemento en una lista\n",
        "estaciones"
      ],
      "metadata": {
        "id": "WA8E6qmmrB43",
        "outputId": "86c0b031-c9fc-42b4-f5a8-b83bed82bd21",
        "colab": {
          "base_uri": "https://localhost:8080/"
        }
      },
      "execution_count": 15,
      "outputs": [
        {
          "output_type": "stream",
          "name": "stdout",
          "text": [
            "['spring', 'summer', 'autumn', 'winter']\n"
          ]
        },
        {
          "output_type": "execute_result",
          "data": {
            "text/plain": [
              "['spring', 'summer', 'fall', 'winter']"
            ]
          },
          "metadata": {},
          "execution_count": 15
        }
      ]
    },
    {
      "cell_type": "markdown",
      "source": [
        "### Los strings son inmutables"
      ],
      "metadata": {
        "id": "7v39ImQxqxj1"
      }
    },
    {
      "cell_type": "code",
      "source": [
        "palabra = \"Hola\"\n",
        "#palabra[0] = \"M\"               # da ERROR !!!\n",
        "palabra"
      ],
      "metadata": {
        "id": "jvAsra9lqdbz",
        "outputId": "d6c4a685-2a9b-44c4-eb04-9c0bf0cd9205",
        "colab": {
          "base_uri": "https://localhost:8080/",
          "height": 35
        }
      },
      "execution_count": null,
      "outputs": [
        {
          "output_type": "execute_result",
          "data": {
            "text/plain": [
              "'Hola'"
            ],
            "application/vnd.google.colaboratory.intrinsic+json": {
              "type": "string"
            }
          },
          "metadata": {},
          "execution_count": 7
        }
      ]
    },
    {
      "cell_type": "markdown",
      "source": [
        "## Saber si un elemento está en la lista"
      ],
      "metadata": {
        "id": "rQunHS9YtTlL"
      }
    },
    {
      "cell_type": "code",
      "source": [
        "\"fall\" in estaciones"
      ],
      "metadata": {
        "id": "j_aoJxfLtcVv",
        "outputId": "73517e3a-fb54-4477-e3f5-d60581dc4a42",
        "colab": {
          "base_uri": "https://localhost:8080/"
        }
      },
      "execution_count": 16,
      "outputs": [
        {
          "output_type": "execute_result",
          "data": {
            "text/plain": [
              "True"
            ]
          },
          "metadata": {},
          "execution_count": 16
        }
      ]
    },
    {
      "cell_type": "code",
      "source": [
        "\"autumn\" not in estaciones"
      ],
      "metadata": {
        "id": "4BH_N5Kath5R",
        "outputId": "33215b57-a636-4940-c44e-1c84f92a7ae6",
        "colab": {
          "base_uri": "https://localhost:8080/"
        }
      },
      "execution_count": 17,
      "outputs": [
        {
          "output_type": "execute_result",
          "data": {
            "text/plain": [
              "True"
            ]
          },
          "metadata": {},
          "execution_count": 17
        }
      ]
    },
    {
      "cell_type": "markdown",
      "source": [
        "## Problema al copiar listas"
      ],
      "metadata": {
        "id": "KMVShi7BAViw"
      }
    },
    {
      "cell_type": "code",
      "source": [
        "helados_Luis = ['nata', 'chocolate', 'fresa']\n",
        "helados_Sara = helados_Luis     # igualamos las listas\n",
        "print(helados_Luis)             # sabores que le gustan a Luis\n",
        "print(helados_Sara)             # Sara tiene los mismos gustos"
      ],
      "metadata": {
        "colab": {
          "base_uri": "https://localhost:8080/"
        },
        "id": "mZSAxgqSAb3E",
        "outputId": "baa0ad1d-cd86-4cb2-96ca-657b91b5477f"
      },
      "execution_count": null,
      "outputs": [
        {
          "output_type": "stream",
          "name": "stdout",
          "text": [
            "['nata', 'chocolate', 'fresa']\n",
            "['nata', 'chocolate', 'fresa']\n"
          ]
        }
      ]
    },
    {
      "cell_type": "markdown",
      "source": [
        "Ambas listas tienen el mismo `id`"
      ],
      "metadata": {
        "id": "8qPcty_6m72u"
      }
    },
    {
      "cell_type": "code",
      "source": [
        "print(id(helados_Luis))\n",
        "print(id(helados_Sara))"
      ],
      "metadata": {
        "colab": {
          "base_uri": "https://localhost:8080/"
        },
        "id": "-EFtvHJznA7_",
        "outputId": "836ba1b0-d47b-4a64-f6f9-c816ceb49f5b"
      },
      "execution_count": null,
      "outputs": [
        {
          "output_type": "stream",
          "name": "stdout",
          "text": [
            "132880929816320\n",
            "132880929816320\n"
          ]
        }
      ]
    },
    {
      "cell_type": "markdown",
      "source": [
        "Al modificar un elemento de una lista también cambia en la otra ya que en realidad se trata de la misma lista pero con dos nombres diferentes."
      ],
      "metadata": {
        "id": "A3kwTkhEA1ka"
      }
    },
    {
      "cell_type": "code",
      "source": [
        "helados_Sara[0] = 'pasas'\n",
        "\n",
        "print(helados_Luis)\n",
        "print(helados_Sara)"
      ],
      "metadata": {
        "colab": {
          "base_uri": "https://localhost:8080/"
        },
        "id": "eGnDLK7ABQCL",
        "outputId": "a9585b52-fa70-442c-e758-6592773b1893"
      },
      "execution_count": null,
      "outputs": [
        {
          "output_type": "stream",
          "name": "stdout",
          "text": [
            "['pasas', 'chocolate', 'fresa']\n",
            "['pasas', 'chocolate', 'fresa']\n"
          ]
        }
      ]
    },
    {
      "cell_type": "markdown",
      "source": [
        "## Haciendo una copia independiente de una lista"
      ],
      "metadata": {
        "id": "_OQgmSv6CFtG"
      }
    },
    {
      "cell_type": "code",
      "source": [
        "favoritos_Luis = [3, 7, 15]\n",
        "favoritos_Sara = favoritos_Luis[:]  # hacemos una copia elemento a elemento"
      ],
      "metadata": {
        "id": "YghuJUNBDedv"
      },
      "execution_count": null,
      "outputs": []
    },
    {
      "cell_type": "code",
      "source": [
        "favoritos_Sara[0] = 2\n",
        "\n",
        "print(favoritos_Luis)\n",
        "print(favoritos_Sara)"
      ],
      "metadata": {
        "colab": {
          "base_uri": "https://localhost:8080/"
        },
        "id": "pGmJuyqnDaio",
        "outputId": "c5d06d57-6efc-4bbe-b65b-9a0d65228190"
      },
      "execution_count": null,
      "outputs": [
        {
          "output_type": "stream",
          "name": "stdout",
          "text": [
            "[3, 7, 15]\n",
            "[2, 7, 15]\n"
          ]
        }
      ]
    },
    {
      "cell_type": "code",
      "source": [
        "print(id(favoritos_Luis))\n",
        "print(id(favoritos_Sara))"
      ],
      "metadata": {
        "colab": {
          "base_uri": "https://localhost:8080/"
        },
        "id": "DXTworClDt1j",
        "outputId": "a2921e9c-2f87-4d2e-fa6c-10fc3541fc92"
      },
      "execution_count": null,
      "outputs": [
        {
          "output_type": "stream",
          "name": "stdout",
          "text": [
            "140162280088832\n",
            "140162061818688\n"
          ]
        }
      ]
    },
    {
      "cell_type": "markdown",
      "source": [
        "## Copiando una matriz con ```deepcopy```\n",
        "Creamos un nuevo objeto matriz usando ```deepcopy``` de la librería ```copy```"
      ],
      "metadata": {
        "id": "wKX4uUr9EMzL"
      }
    },
    {
      "cell_type": "code",
      "source": [
        "from copy import deepcopy\n",
        "x = [[1, 2], [3, 4]]\n",
        "y = deepcopy(x)\n",
        "print(x)\n",
        "print(y)"
      ],
      "metadata": {
        "colab": {
          "base_uri": "https://localhost:8080/"
        },
        "id": "PG3GedG7Eb02",
        "outputId": "56331f6f-f0f2-4177-87e3-c92640e7945e"
      },
      "execution_count": null,
      "outputs": [
        {
          "output_type": "stream",
          "name": "stdout",
          "text": [
            "[[1, 2], [3, 4]]\n",
            "[[1, 2], [3, 4]]\n"
          ]
        }
      ]
    },
    {
      "cell_type": "markdown",
      "source": [
        "Comprobación"
      ],
      "metadata": {
        "id": "EO9YgbpVE7Tt"
      }
    },
    {
      "cell_type": "code",
      "source": [
        "x[0][0] = 88\n",
        "y.append([9, 9])\n",
        "print(x)\n",
        "print(y)"
      ],
      "metadata": {
        "colab": {
          "base_uri": "https://localhost:8080/"
        },
        "id": "qsV1ufIrE88T",
        "outputId": "0be9997e-1af5-4fa2-d96c-3c3c59cb43a0"
      },
      "execution_count": null,
      "outputs": [
        {
          "output_type": "stream",
          "name": "stdout",
          "text": [
            "[[88, 2], [3, 4]]\n",
            "[[1, 2], [3, 4], [9, 9]]\n"
          ]
        }
      ]
    },
    {
      "cell_type": "markdown",
      "source": [
        "## ```sort``` y ```sorted```"
      ],
      "metadata": {
        "id": "SP3HAf4yFSVB"
      }
    },
    {
      "cell_type": "code",
      "source": [
        "l = [5,2,6,1,9,0,-3]\n",
        "print(\"lista inicial\", l)\n",
        "l.sort()                        # l.sort() realmente ordena la lista pero se ha de poner antes del print\n",
        "print(\"lista ordenada\", l)"
      ],
      "metadata": {
        "colab": {
          "base_uri": "https://localhost:8080/"
        },
        "id": "ZtoYUt4MFY7F",
        "outputId": "fca17556-5559-4df1-a0b0-188136de8571"
      },
      "execution_count": null,
      "outputs": [
        {
          "output_type": "stream",
          "name": "stdout",
          "text": [
            "lista inicial [5, 2, 6, 1, 9, 0, -3]\n",
            "lista ordenada [-3, 0, 1, 2, 5, 6, 9]\n"
          ]
        }
      ]
    },
    {
      "cell_type": "code",
      "source": [
        "l = [5,2,6,1,9,0,-3]\n",
        "print(\"lista inicial\", l)\n",
        "print(\"lista ordenada\", sorted(l))     # realmente no ordena la lista pero si la imprime ordenada\n",
        "print(\"lista final\", l)"
      ],
      "metadata": {
        "colab": {
          "base_uri": "https://localhost:8080/"
        },
        "id": "jOww6XMuF7aF",
        "outputId": "5b437446-7b0b-4889-b6fb-e568897a6f54"
      },
      "execution_count": null,
      "outputs": [
        {
          "output_type": "stream",
          "name": "stdout",
          "text": [
            "lista inicial [5, 2, 6, 1, 9, 0, -3]\n",
            "lista ordenada [-3, 0, 1, 2, 5, 6, 9]\n",
            "lista final [5, 2, 6, 1, 9, 0, -3]\n"
          ]
        }
      ]
    }
  ]
}