{
  "nbformat": 4,
  "nbformat_minor": 0,
  "metadata": {
    "colab": {
      "provenance": [],
      "authorship_tag": "ABX9TyPHKPNizYkKf5YqV7D73GLi",
      "include_colab_link": true
    },
    "kernelspec": {
      "name": "python3",
      "display_name": "Python 3"
    },
    "language_info": {
      "name": "python"
    }
  },
  "cells": [
    {
      "cell_type": "markdown",
      "metadata": {
        "id": "view-in-github",
        "colab_type": "text"
      },
      "source": [
        "<a href=\"https://colab.research.google.com/github/financieras/curso_python/blob/main/200_condicionales.ipynb\" target=\"_parent\"><img src=\"https://colab.research.google.com/assets/colab-badge.svg\" alt=\"Open In Colab\"/></a>"
      ]
    },
    {
      "cell_type": "markdown",
      "source": [
        "# Condicionales"
      ],
      "metadata": {
        "id": "Mz1l8h4WQ7bi"
      }
    },
    {
      "cell_type": "markdown",
      "source": [
        "## Condicional `if`"
      ],
      "metadata": {
        "id": "zNk4kDg2RJpX"
      }
    },
    {
      "cell_type": "code",
      "execution_count": 1,
      "metadata": {
        "colab": {
          "base_uri": "https://localhost:8080/"
        },
        "id": "qzO-f754Q6r8",
        "outputId": "832d724b-2f63-4b49-be52-8bd0ad5d2b2d"
      },
      "outputs": [
        {
          "output_type": "stream",
          "name": "stdout",
          "text": [
            "Siempre se imprime esto\n"
          ]
        }
      ],
      "source": [
        "if True:\n",
        "    print(\"Siempre se imprime esto\")"
      ]
    },
    {
      "cell_type": "code",
      "source": [
        "if False:\n",
        "    print(\"Nunca se imprime esto\")"
      ],
      "metadata": {
        "id": "PwZI73jxRW4_"
      },
      "execution_count": 2,
      "outputs": []
    },
    {
      "cell_type": "code",
      "source": [
        "edad = 19\n",
        "\n",
        "if edad >= 18:\n",
        "    print(\"Eres mayor de edad\")"
      ],
      "metadata": {
        "colab": {
          "base_uri": "https://localhost:8080/"
        },
        "id": "iDcGOFwVRdWy",
        "outputId": "449b99b5-b247-458d-bddf-9fbd6eab0969"
      },
      "execution_count": 3,
      "outputs": [
        {
          "output_type": "stream",
          "name": "stdout",
          "text": [
            "Eres mayor de edad\n"
          ]
        }
      ]
    },
    {
      "cell_type": "markdown",
      "source": [
        "## Condicional `if...else`"
      ],
      "metadata": {
        "id": "bXoUbTc4R6dd"
      }
    },
    {
      "cell_type": "code",
      "source": [
        "edad = 16\n",
        "\n",
        "if edad >= 18:\n",
        "    print(\"Eres mayor de edad\")\n",
        "else:\n",
        "    print(\"Aún no eres mayor de edad\")"
      ],
      "metadata": {
        "colab": {
          "base_uri": "https://localhost:8080/"
        },
        "id": "EaXDp49GRoRG",
        "outputId": "25ea9492-43f6-4f5a-84e8-e5dae6e9ec2f"
      },
      "execution_count": 4,
      "outputs": [
        {
          "output_type": "stream",
          "name": "stdout",
          "text": [
            "Aún no eres mayor de edad\n"
          ]
        }
      ]
    },
    {
      "cell_type": "markdown",
      "source": [
        "## Condicional `if...elif...else`"
      ],
      "metadata": {
        "id": "FQaFxf0tSB1k"
      }
    },
    {
      "cell_type": "code",
      "source": [
        "edad = 17\n",
        "\n",
        "if edad >= 18:\n",
        "    print(\"Eres mayor de edad\")\n",
        "elif edad == 17:\n",
        "    print(\"Ya falta poco para que seas mayor de edad\")\n",
        "else:\n",
        "    print(\"Aún no eres mayor de edad\")"
      ],
      "metadata": {
        "colab": {
          "base_uri": "https://localhost:8080/"
        },
        "id": "550JYtgKSJBL",
        "outputId": "47562b96-cd7b-4378-d804-f363d4e719e1"
      },
      "execution_count": 5,
      "outputs": [
        {
          "output_type": "stream",
          "name": "stdout",
          "text": [
            "Ya falta poco para que seas mayor de edad\n"
          ]
        }
      ]
    },
    {
      "cell_type": "code",
      "source": [
        "print(\"Si su role es admin o ceo se le dará acceso\")\n",
        "role = input(\"Indique su role: \")\n",
        "\n",
        "if role.lower() == \"admin\" or role.lower() == \"ceo\":\n",
        "    print(\"Usted tiene acceso al sistema\")\n",
        "else:\n",
        "    print(\"No tiene el role necesario para acceder al sistema\")"
      ],
      "metadata": {
        "colab": {
          "base_uri": "https://localhost:8080/"
        },
        "id": "09V9KQ79Sr3v",
        "outputId": "859ff2e9-fa1a-498a-a1e3-c03f2e8fb786"
      },
      "execution_count": 6,
      "outputs": [
        {
          "output_type": "stream",
          "name": "stdout",
          "text": [
            "Si su role es admin o ceo se le dará acceso\n",
            "Indique su role: CEO\n",
            "Usted tiene acceso al sistema\n"
          ]
        }
      ]
    },
    {
      "cell_type": "markdown",
      "source": [
        "## Ejercicios"
      ],
      "metadata": {
        "id": "WD7QU9JvTf3j"
      }
    },
    {
      "cell_type": "markdown",
      "source": [
        "#### *Ejercicio 1*\n",
        "Pide al usuario un número por teclado y di si el número introducido es par o impar."
      ],
      "metadata": {
        "id": "7aBxrUceTjMQ"
      }
    },
    {
      "cell_type": "markdown",
      "source": [
        "#### *Ejercicio 2*\n",
        "Establece la lógica del juego Piedra, Papel o Tijeras"
      ],
      "metadata": {
        "id": "Ymn6OVF-VA1X"
      }
    }
  ]
}