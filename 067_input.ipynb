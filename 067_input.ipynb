{
  "nbformat": 4,
  "nbformat_minor": 0,
  "metadata": {
    "colab": {
      "provenance": [],
      "authorship_tag": "ABX9TyP7Rjkb02+DGJ+Og8QkNsIt",
      "include_colab_link": true
    },
    "kernelspec": {
      "name": "python3",
      "display_name": "Python 3"
    },
    "language_info": {
      "name": "python"
    }
  },
  "cells": [
    {
      "cell_type": "markdown",
      "metadata": {
        "id": "view-in-github",
        "colab_type": "text"
      },
      "source": [
        "<a href=\"https://colab.research.google.com/github/financieras/curso_python/blob/main/067_input.ipynb\" target=\"_parent\"><img src=\"https://colab.research.google.com/assets/colab-badge.svg\" alt=\"Open In Colab\"/></a>"
      ]
    },
    {
      "cell_type": "markdown",
      "metadata": {
        "id": "18593590"
      },
      "source": [
        "# Input  \n",
        "El valor introducido se toma como string."
      ]
    },
    {
      "cell_type": "code",
      "execution_count": null,
      "metadata": {
        "id": "995b0da2"
      },
      "outputs": [],
      "source": [
        "input()     # Introduciendo un número lo toma como string. Pulse ENTER después de introducir el valor"
      ]
    },
    {
      "cell_type": "code",
      "execution_count": null,
      "metadata": {
        "id": "8a528dbb"
      },
      "outputs": [],
      "source": [
        "print(\"¿Cómo se llama?\")\n",
        "nombre = input()\n",
        "print(\"Me alegro de conocerle\", nombre)"
      ]
    },
    {
      "cell_type": "code",
      "execution_count": null,
      "metadata": {
        "id": "645e10cd"
      },
      "outputs": [],
      "source": [
        "input(\"Introduzca un número: \")  # Añadiendo texto dentro del paréntesis"
      ]
    },
    {
      "cell_type": "code",
      "execution_count": null,
      "metadata": {
        "id": "11a51f57"
      },
      "outputs": [],
      "source": [
        "num = input(\"Introduzca un número: \")\n",
        "print(num)"
      ]
    },
    {
      "cell_type": "markdown",
      "metadata": {
        "id": "02b8b59d"
      },
      "source": [
        "### Convirtiendo el string en un int"
      ]
    },
    {
      "cell_type": "code",
      "execution_count": null,
      "metadata": {
        "id": "1871bb12"
      },
      "outputs": [],
      "source": [
        "num = int(input(\"Introduzca un número entero: \"))         # int convierte el string a entero\n",
        "num"
      ]
    },
    {
      "cell_type": "code",
      "execution_count": null,
      "metadata": {
        "id": "05d9bd9d"
      },
      "outputs": [],
      "source": [
        "# Sumando dos enteros\n",
        "num1 = int(input(\"Introduzca el primer número: \"))\n",
        "num2 = int(input(\"Introduzca el segundo número: \"))\n",
        "print(\"La suma es: \", num1 + num2)"
      ]
    },
    {
      "cell_type": "code",
      "execution_count": null,
      "metadata": {
        "id": "078d704f"
      },
      "outputs": [],
      "source": [
        "# Sumando dos enteros\n",
        "num1 = input(\"Introduzca el primer número: \")\n",
        "num2 = input(\"Introduzca el segundo número: \")\n",
        "print(\"La suma es: \", num1 + num2)                # observe que ahora no suma, concatena"
      ]
    },
    {
      "cell_type": "code",
      "execution_count": null,
      "metadata": {
        "id": "85c1626a"
      },
      "outputs": [],
      "source": [
        "# Multiplicando dos enteros\n",
        "num1 = int(input(\"Introduzca el primer número: \"))\n",
        "num2 = int(input(\"Introduzca el segundo número: \"))\n",
        "print(\"El producto de\", num1 , \"por\", num2, \"es igual a\", num1*num2)\n",
        "print(\"El producto de {} por {} es igual a {}\".format(num1, num2, num1*num2))\n",
        "print(f\"El producto de {num1} por {num2} es igual a {num1*num2}\")"
      ]
    },
    {
      "cell_type": "markdown",
      "metadata": {
        "id": "522f8c89"
      },
      "source": [
        "### Convirtiendo el string en un float\n",
        "El separador de decimales es el punto."
      ]
    },
    {
      "cell_type": "code",
      "execution_count": null,
      "metadata": {
        "id": "67636000"
      },
      "outputs": [],
      "source": [
        "num = float(input(\"Introduzca un número con decimales: \")) # float convierte el string a flotante\n",
        "num"
      ]
    },
    {
      "cell_type": "code",
      "execution_count": null,
      "metadata": {
        "id": "f1d3ba3e"
      },
      "outputs": [],
      "source": [
        "# Dividiendo dos flotantes\n",
        "num1 = float(input(\"Introduzca el primer número: \"))\n",
        "num2 = float(input(\"Introduzca el segundo número: \"))\n",
        "print(\"El cociente de \" + str(num1) + \" entre \" + str(num2) + \" es igual a \" + str(num1 / num2))\n",
        "print(f\"El cociente de {num1} entre {num2} es igual a {num1/num2}\")"
      ]
    },
    {
      "cell_type": "markdown",
      "metadata": {
        "id": "3a5bec00"
      },
      "source": [
        "## Variable como argumento de la función input()"
      ]
    },
    {
      "cell_type": "code",
      "execution_count": null,
      "metadata": {
        "id": "d39cda10"
      },
      "outputs": [],
      "source": [
        "nombre = input(\"Dígame su nombre: \")\n",
        "apellido = input(f\"Dígame su apellido, {nombre}: \")\n",
        "print(f\"Al final nos conocemos en persona, {nombre} {apellido}.\")"
      ]
    },
    {
      "cell_type": "markdown",
      "metadata": {
        "id": "e19af35f"
      },
      "source": [
        "## Valor por defecto en un input()\n",
        "Si ponemos un ```or``` podemos incluir un valor por defecto.\n",
        "Si el usuario pulsa ENTER cuando se le pregunta, la repuesta será el valor por defecto."
      ]
    },
    {
      "cell_type": "code",
      "execution_count": null,
      "metadata": {
        "id": "0477b04d"
      },
      "outputs": [],
      "source": [
        "hojaCalculo = input(\"Indique su Hoja de Calculo favorita: \") or \"Excel\"\n",
        "print(hojaCalculo)"
      ]
    }
  ]
}