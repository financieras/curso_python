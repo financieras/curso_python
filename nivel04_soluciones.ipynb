{
  "nbformat": 4,
  "nbformat_minor": 0,
  "metadata": {
    "colab": {
      "provenance": [],
      "authorship_tag": "ABX9TyNZL4p7Cz7IzOZwWqrCFym/",
      "include_colab_link": true
    },
    "kernelspec": {
      "name": "python3",
      "display_name": "Python 3"
    },
    "language_info": {
      "name": "python"
    }
  },
  "cells": [
    {
      "cell_type": "markdown",
      "metadata": {
        "id": "view-in-github",
        "colab_type": "text"
      },
      "source": [
        "<a href=\"https://colab.research.google.com/github/financieras/pySolutions/blob/main/retos/nivel04_soluciones.ipynb\" target=\"_parent\"><img src=\"https://colab.research.google.com/assets/colab-badge.svg\" alt=\"Open In Colab\"/></a>"
      ]
    },
    {
      "cell_type": "markdown",
      "source": [
        "## Reto 301: Eliminar duplicados de una lista\n",
        "* Remove Duplicates from a List\n",
        "* Cree una función que tome una lista de elementos, elimine todos los elementos duplicados\n",
        "* La lista que se retorna ha de tener el mismo orden secuencial que la lista original (excepto duplicados).\n",
        "* Ejemplos:\n",
        "    1. eliminar_duplicados([1, 0, 1, 0]) ➞ [1, 0]\n",
        "    2. eliminar_duplicados([\"El\", \"gato\", \"de\", \"Schrödinger\"]) ➞ [\"El\", \"gato\", \"de\", \"Schrödinger\"]\n",
        "    3. eliminar_duplicados([\"Roma\", \"Paris\", \"Roma\"]) ➞ [\"Roma\", \"Paris\"]\n",
        "    4. eliminar_duplicados([True, 1, False, 0, 'true', 'True']) ➞\n",
        "* Se ha de distinguir entre mayúsculas y minúsculas."
      ],
      "metadata": {
        "id": "c1sQ-fIGDDs5"
      }
    },
    {
      "cell_type": "code",
      "source": [
        "# Método 1\n",
        "def eliminar_duplicados(lista):\n",
        "    resultado = []\n",
        "    for elemento in lista:\n",
        "       if elemento not in resultado:\n",
        "          resultado.append(elemento)\n",
        "    return resultado\n",
        "\n",
        "# Método 2\n",
        "def eliminar_duplicados(lista):\n",
        "    elementos_vistos = set()\n",
        "    resultado = []\n",
        "    for elemento in lista:\n",
        "        if elemento not in elementos_vistos:\n",
        "            resultado.append(elemento)\n",
        "            elementos_vistos.add(elemento)\n",
        "    return resultado\n",
        "\n",
        "# Método 3\n",
        "from collections import OrderedDict\n",
        "\n",
        "def eliminar_duplicados(lista):\n",
        "    return list(OrderedDict.fromkeys(lista))\n",
        "\n",
        "# Método 4\n",
        "def eliminar_duplicados(lista):\n",
        "    return [lista[i] for i in range(len(lista)) if lista.index(lista[i]) == i]\n",
        "\n",
        "# Método 5\n",
        "def eliminar_duplicados(lista):\n",
        "    return [elemento for indice, elemento in enumerate(lista) if lista.index(elemento) == indice]\n",
        "\n",
        "# Método 6\n",
        "def eliminar_duplicados(lista):\n",
        "    return list(dict.fromkeys(lista))   # para Python 3.7 y superiores\n",
        "\n",
        "# Método 7\n",
        "def eliminar_duplicados(lista):\n",
        "    return [v for i,v in enumerate(lista) if v not in lista[:i]]\n",
        "\n",
        "# Método 8\n",
        "import pandas as pd\n",
        "\n",
        "def eliminar_duplicados(lista):\n",
        "    return pd.unique(lista).tolist()\n",
        "\n",
        "# Método 9\n",
        "def eliminar_duplicados(lista):\n",
        "    return [] if not lista else [lista[0]] + eliminar_duplicados([x for x in lista[1:] if x != lista[0]])\n"
      ],
      "metadata": {
        "id": "PEhcTw9T0Fk8"
      },
      "execution_count": null,
      "outputs": []
    },
    {
      "cell_type": "code",
      "source": [
        "print(eliminar_duplicados([1, 0, 1, 0]))\n",
        "print(eliminar_duplicados([\"El\", \"gato\", \"de\", \"Schrödinger\"]))\n",
        "print(eliminar_duplicados([\"Roma\", \"Paris\", \"Roma\"]))\n",
        "print(eliminar_duplicados([True, 1, False, 0, 'true', 'True']))"
      ],
      "metadata": {
        "id": "GM1b90Me0f8d",
        "outputId": "cfe192f1-b7cb-4962-c11a-1b14e77e4227",
        "colab": {
          "base_uri": "https://localhost:8080/"
        }
      },
      "execution_count": null,
      "outputs": [
        {
          "output_type": "stream",
          "name": "stdout",
          "text": [
            "[1, 0]\n",
            "['El', 'gato', 'de', 'Schrödinger']\n",
            "['Roma', 'Paris']\n",
            "[True, False, 'true', 'True']\n"
          ]
        }
      ]
    },
    {
      "cell_type": "markdown",
      "source": [
        "## Reto 302: Distancia entre dos puntos\n",
        "* Distance Between Two Points\n",
        "* En este desafío, debes encontrar la distancia entre dos puntos ubicados en un plano cartesiano.\n",
        "* Conociendo las coordenadas de ambos puntos, hay que aplicar el teorema de Pitágoras para encontrar la distancia entre ellos.\n",
        "* Dados dos puntos $a = (x_1, y_1)$ y $b = (x_2, y_2)$ podemos calcular la distancia entre ellos con la siguiene fórmula:\n",
        "\n",
        "$\\text{distancia} = \\sqrt{(x_2 - x_1)^2 + (y_2 - y_1)^2}$\n",
        "\n",
        "* Dado que dos diccionarios `a` y `b` son las coordenadas de los dos puntos (`x` e `y`), implemente una función que devuelva la distancia entre los puntos, redondeada a la milésima más cercana.\n",
        "* Ejemplos:\n",
        "    1. distancia({\"x\": -2, \"y\": 1}, {\"x\": 4, \"y\": 3}) ➞ 6.325\n",
        "    2. distancia({\"x\": 0, \"y\": 0}, {\"x\": 1, \"y\": 1}) ➞ 1.414\n",
        "    3. distancia({\"x\": 10, \"y\": -5}, {\"x\": 8, \"y\": 16}) ➞ 21.095\n",
        "    4. distancia({\"x\": 4, \"y\": 0}, {\"x\": 0, \"y\": 3}) ➞ 5"
      ],
      "metadata": {
        "id": "qj5CTBaUKgT_"
      }
    },
    {
      "cell_type": "code",
      "source": [
        "# Método 1\n",
        "def distancia(a, b):\n",
        "    suma_cuadrados = (a['x'] - b['x']) ** 2 + (a['y'] - b['y']) ** 2\n",
        "    return round(suma_cuadrados ** .5, 3)\n",
        "\n",
        "# Método 2\n",
        "def distancia(a, b):\n",
        "    return f\"{((a.get('x') - b.get('x')) ** 2 + (a.get('y') - b.get('y')) ** 2) ** .5:.3f}\"\n",
        "\n",
        "# Método 3\n",
        "import math\n",
        "\n",
        "def distancia(a, b):\n",
        "    distancia = math.sqrt((b[\"x\"] - a[\"x\"])**2 + (b[\"y\"] - a[\"y\"])**2)\n",
        "    return round(distancia, 3)\n",
        "\n",
        "# Método 4\n",
        "import math\n",
        "\n",
        "def distancia(a, b):\n",
        "    distancia = math.hypot(b[\"x\"] - a[\"x\"], b[\"y\"] - a[\"y\"])\n",
        "    return round(distancia, 3)\n",
        "\n",
        "# Método 5\n",
        "from scipy.spatial.distance import euclidean\n",
        "\n",
        "def distancia(a, b):\n",
        "    distancia = euclidean((a[\"x\"], a[\"y\"]), (b[\"x\"], b[\"y\"]))\n",
        "    return round(distancia, 3)\n",
        "\n",
        "# Método 6\n",
        "import numpy as np\n",
        "\n",
        "def distancia(a, b):\n",
        "    coordenadas_a = np.array([a[\"x\"], a[\"y\"]])\n",
        "    coordenadas_b = np.array([b[\"x\"], b[\"y\"]])\n",
        "    distancia = np.linalg.norm(coordenadas_b - coordenadas_a)\n",
        "    return round(distancia, 3)"
      ],
      "metadata": {
        "id": "iDkdLPXqKgUA"
      },
      "execution_count": null,
      "outputs": []
    },
    {
      "cell_type": "code",
      "source": [
        "print(distancia({\"x\": -2, \"y\": 1}, {\"x\": 4, \"y\": 3}))\n",
        "print(distancia({\"x\": 0, \"y\": 0}, {\"x\": 1, \"y\": 1}))\n",
        "print(distancia({\"x\": 10, \"y\": -5}, {\"x\": 8, \"y\": 16}))\n",
        "print(distancia({\"x\": 4, \"y\": 0}, {\"x\": 0, \"y\": 3}))"
      ],
      "metadata": {
        "outputId": "ffbe92e5-9dc8-44fc-de27-713e62be91d9",
        "colab": {
          "base_uri": "https://localhost:8080/"
        },
        "id": "sWROUkKsKgUA"
      },
      "execution_count": null,
      "outputs": [
        {
          "output_type": "stream",
          "name": "stdout",
          "text": [
            "6.325\n",
            "1.414\n",
            "21.095\n",
            "5.0\n"
          ]
        }
      ]
    },
    {
      "cell_type": "markdown",
      "source": [
        "## Reto 303: Pares vs. Impares\n",
        "* Odds vs. Evens\n",
        "* Dado un número entero, devuelva \"impar\" si la suma de todos los dígitos impares es mayor que la suma de todos los dígitos pares.\n",
        "* Devuelva \"par\" si la suma de los dígitos pares es mayor que la suma de los dígitos impares.\n",
        "* Devuelva \"igual\" si ambas sumas son iguales.\n",
        "* Ejemplos:\n",
        "    1. par_impar(97428) ➞ \"impar\"\n",
        "        * impar = 16 (9+7)\n",
        "        * par = 14 (4+2+8)\n",
        "    2. par_impar(81961) ➞ \"par\"\n",
        "        * impar = 11 (1+9+1)\n",
        "        * par = 14 (8+6)\n",
        "    3. par_impar(54870) ➞ \"igual\"\n",
        "        * impar = 12 (5+7)\n",
        "        * par = 12 (4+8+0)"
      ],
      "metadata": {
        "id": "XA6uRFfwKiXH"
      }
    },
    {
      "cell_type": "code",
      "source": [
        "# Método 1\n",
        "def par_impar(numero):\n",
        "    digitos = [int(digito) for digito in str(numero)]\n",
        "    suma_impares = sum(d for d in digitos if d % 2 != 0)\n",
        "    suma_pares = sum(d for d in digitos if d % 2 == 0)\n",
        "    if suma_impares > suma_pares:\n",
        "        return \"impar\"\n",
        "    elif suma_pares > suma_impares:\n",
        "        return \"par\"\n",
        "    else:\n",
        "        return \"igual\"\n",
        "\n",
        "# Método 2\n",
        "def par_impar(num):\n",
        "    lista = list(map(int, str(num)))\n",
        "    suma_pares = sum(x for x in lista if x % 2 == 0)\n",
        "    suma_impares = sum(x for x in lista if x % 2)\n",
        "    return \"par\" if suma_pares > suma_impares else (\"impar\" if suma_impares > suma_pares else \"igual\")"
      ],
      "metadata": {
        "id": "PRWxDiD9KiXZ"
      },
      "execution_count": null,
      "outputs": []
    },
    {
      "cell_type": "code",
      "source": [
        "print(par_impar(97428))\n",
        "print(par_impar(81961))\n",
        "print(par_impar(54870))"
      ],
      "metadata": {
        "outputId": "56c2f90b-e94d-4365-ba17-bfc2e61ebf44",
        "colab": {
          "base_uri": "https://localhost:8080/"
        },
        "id": "uWGhpQZvKiXZ"
      },
      "execution_count": null,
      "outputs": [
        {
          "output_type": "stream",
          "name": "stdout",
          "text": [
            "impar\n",
            "par\n",
            "igual\n",
            "\n"
          ]
        }
      ]
    },
    {
      "cell_type": "markdown",
      "source": [
        "## Reto 304: Aplicar descuentos\n",
        "* Applying Discounts\n",
        "* Cree una función que reciba una lista de precios y un porcentaje de descuento `d`.\n",
        "* La función devolverá una lista con el importe de los descuentos practicados.\n",
        "* Ejemplos:\n",
        "    1. obtener_descuento([2, 4, 6, 11], \"50%\") ➞ [1, 2, 3, 5.5]\n",
        "    2. obtener_descuento([6, 10, 20, 40], \"25%\") ➞ [1.5, 2.5, 5, 10]\n",
        "    3. obtener_descuento([100], \"45%\") ➞ [45]\n",
        "\n",
        "* No habrá números con muchos decimales incómodos con los que lidiar, solo 0,5."
      ],
      "metadata": {
        "id": "bqr4f9mmKlYg"
      }
    },
    {
      "cell_type": "code",
      "source": [
        "# Método 1. Con punto decimal en los enteros\n",
        "def obtener_descuento(nums, d):\n",
        "    d = float(d[:-1])/100\n",
        "    return [num * d for num in nums]\n",
        "\n",
        "# Método 2. Consiguiendo eliminar el punto decimal en los enteros\n",
        "def obtener_descuento(lista, descuento):\n",
        "    dto_tanto_por_uno = float(descuento.strip(\"%\")) / 100\n",
        "    lista_descuentos = [num * dto_tanto_por_uno for num in lista]\n",
        "    return [(int(num) if num % 1 == 0 else num) for num in lista_descuentos]"
      ],
      "metadata": {
        "id": "ti6afGjiKlYq"
      },
      "execution_count": null,
      "outputs": []
    },
    {
      "cell_type": "code",
      "source": [
        "print(obtener_descuento([2, 4, 6, 11], \"50%\"))\n",
        "print(obtener_descuento([6, 10, 20, 40], \"25%\"))\n",
        "print(obtener_descuento([100], \"45%\"))"
      ],
      "metadata": {
        "outputId": "e3142c37-e439-4d22-be74-09beaa475203",
        "colab": {
          "base_uri": "https://localhost:8080/"
        },
        "id": "umT5_OUSKlYr"
      },
      "execution_count": null,
      "outputs": [
        {
          "output_type": "stream",
          "name": "stdout",
          "text": [
            "[1, 2, 3, 5.5]\n",
            "[1.5, 2.5, 5, 10]\n",
            "[45]\n"
          ]
        }
      ]
    },
    {
      "cell_type": "markdown",
      "source": [
        "## Reto 305: Hablar con la `a`\n",
        "*\n",
        "* Escriba una función que reemplace todas las vocales de una cadena con una vocal específica.\n",
        "* Ejemplos:\n",
        "    1. reemplazar_vocal(\"elemental, mi querido watson\", \"a\") ➞ \"alamantal, ma qaarada watsan\"\n",
        "    2. reemplazar_vocal(\"caperucita roja y el lobo feroz\", \"o\") ➞ \"coporocoto rojo y ol lobo foroz\"\n",
        "    3. reemplazar_vocal(\"que la fuerza te acompañe\", \"i\") ➞ \"qii li fiirzi ti icimpiñi\"\n",
        "\n",
        "* Todas las palabras estarán en minúsculas."
      ],
      "metadata": {
        "id": "n7l9TgfzKljX"
      }
    },
    {
      "cell_type": "code",
      "source": [
        "# Método 1\n",
        "def reemplazar_vocal(texto, vocal):\n",
        "    nuevo_texto = \"\"\n",
        "    for caracter in texto:\n",
        "        if caracter in \"aeiou\":\n",
        "            nuevo_texto += vocal\n",
        "        else:\n",
        "            nuevo_texto += caracter\n",
        "    return nuevo_texto\n",
        "\n",
        "# Método 2\n",
        "def reemplazar_vocal(cadena, vocal_nueva):\n",
        "    vocales = \"aeiou\"\n",
        "    for vocal in vocales:\n",
        "        cadena = cadena.replace(vocal, vocal_nueva)\n",
        "    return cadena\n",
        "\n",
        "# Método 3\n",
        "def reemplazar_vocal(cadena, vocal_nueva):\n",
        "    vocales = \"aeiou\"\n",
        "    return ''.join([vocal_nueva if letra in vocales else letra for letra in cadena])\n",
        "\n",
        "# Método 4\n",
        "def reemplazar_vocal(cadena, vocal_nueva):\n",
        "    vocales = \"aeiou\"\n",
        "    trans_table = str.maketrans(vocales, vocal_nueva * len(vocales))\n",
        "    return cadena.translate(trans_table)"
      ],
      "metadata": {
        "id": "v_dcTMiPKljY"
      },
      "execution_count": null,
      "outputs": []
    },
    {
      "cell_type": "code",
      "source": [
        "print(reemplazar_vocal(\"elemental, mi querido watson\", \"a\"))\n",
        "print(reemplazar_vocal(\"caperucita roja y el lobo feroz\", \"o\"))\n",
        "print(reemplazar_vocal(\"que la fuerza te acompañe\", \"i\"))"
      ],
      "metadata": {
        "outputId": "0d06cc8f-64b0-4960-d22c-e998e13968b6",
        "colab": {
          "base_uri": "https://localhost:8080/"
        },
        "id": "lXgoIr9DKljY"
      },
      "execution_count": null,
      "outputs": [
        {
          "output_type": "stream",
          "name": "stdout",
          "text": [
            "alamantal, ma qaarada watsan\n",
            "coporocoto rojo y ol lobo foroz\n",
            "qii li fiirzi ti icimpiñi\n"
          ]
        }
      ]
    },
    {
      "cell_type": "markdown",
      "source": [
        "## Reto 306: Comparar por su código\n",
        "* Compare by ASCII Codes\n",
        "* Cree una función que compare dos palabras en función de la suma de sus códigos ASCII y devuelva la palabra con la suma ASCII más pequeña.\n",
        "* Ejemplos:\n",
        "    1. menor_ascii([\"indemne\", \"abadejo\"]) ➞ abadejo\n",
        "    2. menor_ascii([\"desidia\", \"diletante\"]) ➞ \"desidia\"\n",
        "    3. menor_ascii([\"fatuo\", \"falaz\"]) ➞ \"falaz\"\n",
        "        * La suma de los ASCII de `fatuo` es 543.\n",
        "        * La suma de los ASCII de `falaz` es 526.\n",
        "\n",
        "* Las dos palabras proporcionadas como argumentos tendrán sumas ASCII estrictamente diferentes."
      ],
      "metadata": {
        "id": "VhjP--i3KlsF"
      }
    },
    {
      "cell_type": "code",
      "source": [
        "# Método 1. Usando dos funciones\n",
        "\n",
        "def suma_ascii(palabra):\n",
        "    total = 0\n",
        "    for caracter in palabra:\n",
        "        total += ord(caracter)\n",
        "    return total\n",
        "\n",
        "def menor_ascii(lista):\n",
        "    sumas = [suma_ascii(lista[0]), suma_ascii(lista[1])]\n",
        "    indice_del_menor = sumas.index(min(sumas))\n",
        "    return lista[indice_del_menor]\n",
        "\n",
        "# Método 2\n",
        "def menor_ascii(palabras):\n",
        "    menor = palabras[0]\n",
        "    menor_suma = sum(ord(letra) for letra in palabras[0])\n",
        "    for palabra in palabras[1:]:\n",
        "        suma_actual = sum(ord(letra) for letra in palabra)\n",
        "        if suma_actual < menor_suma:\n",
        "            menor_suma = suma_actual\n",
        "            menor = palabra\n",
        "    return menor\n",
        "\n",
        "# Método 3\n",
        "def menor_ascii(palabras):\n",
        "    return min(palabras, key=lambda palabra: sum(ord(letra) for letra in palabra))\n",
        "\n",
        "# Método 4\n",
        "def menor_ascii(palabras):\n",
        "    return sorted(palabras, key=lambda palabra: sum(map(ord, palabra)))[0]"
      ],
      "metadata": {
        "id": "Jq4cmBFGKlsG"
      },
      "execution_count": null,
      "outputs": []
    },
    {
      "cell_type": "code",
      "source": [
        "print(menor_ascii([\"indemne\", \"abadejo\"]))\n",
        "print(menor_ascii([\"desidia\", \"diletante\"]))\n",
        "print(menor_ascii([\"fatuo\", \"falaz\"]))"
      ],
      "metadata": {
        "outputId": "2a5054ba-ff5f-4bb5-e788-4bdf78cf9bb4",
        "colab": {
          "base_uri": "https://localhost:8080/"
        },
        "id": "qOx_8rKZKlsG"
      },
      "execution_count": null,
      "outputs": [
        {
          "output_type": "stream",
          "name": "stdout",
          "text": [
            "abadejo\n",
            "desidia\n",
            "falaz\n"
          ]
        }
      ]
    },
    {
      "cell_type": "markdown",
      "source": [
        "## Reto 307: Ordenar números en orden descendente\n",
        "* Sort Numbers in Descending Order\n",
        "* Cree una función que tome cualquier número no negativo como argumento y lo devuelva con sus dígitos en orden descendente.\n",
        "* El orden descendente es cuando se ordena de mayor a menor.\n",
        "* Ejemplos:\n",
        "    1. orden_descendente(123) ➞ 321\n",
        "    2. orden_descendente(1254859723) ➞ 9875543221\n",
        "    3. orden_descendente(73065) ➞ 76530"
      ],
      "metadata": {
        "id": "luN1XOEZKl0O"
      }
    },
    {
      "cell_type": "code",
      "source": [
        "# Método 1\n",
        "def orden_descendente(num):\n",
        "    lista = [x for x in str(num)]\n",
        "    lista_ordenada = sorted(lista, reverse=True)\n",
        "    return int(''.join(lista_ordenada))\n",
        "\n",
        "# Método 2\n",
        "def orden_descendente(numero):\n",
        "    lista_ordenada = sorted(str(numero), reverse=True)\n",
        "    numero_ordenado = int(''.join(lista_ordenada))\n",
        "    return numero_ordenado\n",
        "\n",
        "# Método 3\n",
        "def orden_descendente(numero):\n",
        "    digitos = []\n",
        "    while numero > 0:\n",
        "        digito = numero % 10\n",
        "        digitos.append(digito)\n",
        "        numero //= 10\n",
        "    digitos.sort(reverse=True)\n",
        "    numero_ordenado = 0\n",
        "    for digito in digitos:\n",
        "        numero_ordenado = numero_ordenado * 10 + digito\n",
        "    return numero_ordenado\n",
        "\n",
        "# Método 4\n",
        "def orden_descendente(numero):\n",
        "    digitos_ordenados = list(map(int, sorted(str(numero), reverse=True)))\n",
        "    numero_ordenado = 0\n",
        "    for digito in digitos_ordenados:\n",
        "        numero_ordenado = numero_ordenado * 10 + digito\n",
        "    return numero_ordenado\n",
        "\n",
        "# Método 5\n",
        "def orden_descendente(numero):\n",
        "    digitos_ordenados = sorted(map(int, str(numero)), reverse=True)\n",
        "    return sum(digito * 10**i for i, digito in enumerate(digitos_ordenados[::-1]))"
      ],
      "metadata": {
        "id": "3dJOR25DKl0P"
      },
      "execution_count": null,
      "outputs": []
    },
    {
      "cell_type": "code",
      "source": [
        "print(orden_descendente(123))\n",
        "print(orden_descendente(1254859723))\n",
        "print(orden_descendente(73065))"
      ],
      "metadata": {
        "outputId": "e1456519-25e2-4574-89fd-a283942ee15b",
        "colab": {
          "base_uri": "https://localhost:8080/"
        },
        "id": "RWxRKXroKl0P"
      },
      "execution_count": null,
      "outputs": [
        {
          "output_type": "stream",
          "name": "stdout",
          "text": [
            "321\n",
            "9875543221\n",
            "76530\n"
          ]
        }
      ]
    },
    {
      "cell_type": "markdown",
      "source": [
        "## Reto 308: La Secuencia más larga de Ceros consecutivos\n",
        "* Longest Sequence of Consecutive Zeroes\n",
        "* Escriba una función que devuelva la secuencia más larga de ceros consecutivos en una cadena binaria.\n",
        "* Ejemplos:\n",
        "    1. ceros(\"01100001011000\") ➞ \"0000\"\n",
        "    2. ceros(\"100100100\") ➞ \"00\"\n",
        "    3. ceros(\"11111\") ➞ \"\""
      ],
      "metadata": {
        "id": "8qTY6HkLKl7R"
      }
    },
    {
      "cell_type": "code",
      "source": [
        "# Método 1\n",
        "def ceros(cadena):\n",
        "    temp_seq = max_seq = ''\n",
        "    for d in cadena:    # para cada dígito\n",
        "        if d == '0':\n",
        "            temp_seq += '0'\n",
        "            if len(temp_seq) > len(max_seq):\n",
        "                max_seq = temp_seq  # actualiza la máxima secuencia\n",
        "        else:\n",
        "            temp_seq = ''  # Reinicia secuencia temporal si el bit no es 0\n",
        "    return max_seq\n",
        "\n",
        "# Método 2\n",
        "def ceros(cadena):\n",
        "    contador = maximo = 0\n",
        "    for d in cadena:\n",
        "        if d == '0':\n",
        "            contador += 1\n",
        "            if contador > maximo:\n",
        "                maximo = contador\n",
        "        elif d == '1':\n",
        "            contador = 0\n",
        "    return \"0\" * maximo\n",
        "\n",
        "# Método 3\n",
        "def ceros(cadena):\n",
        "    # dividir la cadena por los 1\n",
        "    return max(cadena.split('1'), key=len)\n",
        "    # en este caso concreto también se podría poner: max(cadena.split('1'))"
      ],
      "metadata": {
        "id": "WdgrfCmOKl7R"
      },
      "execution_count": null,
      "outputs": []
    },
    {
      "cell_type": "code",
      "source": [
        "print(ceros(\"01100001011000\"))\n",
        "print(ceros(\"100100100\"))\n",
        "print(ceros(\"11111\"))"
      ],
      "metadata": {
        "outputId": "1160c25b-4638-4203-ba11-5baff221e038",
        "colab": {
          "base_uri": "https://localhost:8080/"
        },
        "id": "nJknQD_VKl7S"
      },
      "execution_count": null,
      "outputs": [
        {
          "output_type": "stream",
          "name": "stdout",
          "text": [
            "0000\n",
            "00\n",
            "\n"
          ]
        }
      ]
    },
    {
      "cell_type": "markdown",
      "source": [
        "## Reto 309: Contador de Subidas en YouTube\n",
        "* YouTube Upload Count\n",
        "* Nos proporcionan una lista con las fechas de las subidas de vídeos a Youtube en el fomato \"Mes días\" y nos dan un \"Mes\" como argumentos.\n",
        "* Cada fecha representa un video que se subió ese día.\n",
        "* Cree una función que devuelva el número de subidas para un mes dado.\n",
        "* Ejemplos:\n",
        "    1. uploads([\"Sept 22\", \"Sept 21\", \"Oct 15\"], \"Sept\") ➞ 2\n",
        "    2. uploads([\"Sept 22\", \"Sept 21\", \"Oct 15\"], \"Oct\") ➞ 1"
      ],
      "metadata": {
        "id": "G_Rk5rIGKmC-"
      }
    },
    {
      "cell_type": "code",
      "source": [
        "# Método 1\n",
        "def uploads(lista, mes):\n",
        "    contador = 0\n",
        "    for fecha in lista:\n",
        "        if mes in fecha:\n",
        "            contador += 1\n",
        "    return contador\n",
        "\n",
        "# Método 2\n",
        "def uploads(lista, mes):\n",
        "    return sum(1 for fecha in lista if mes in fecha)\n",
        "\n",
        "# Método 3\n",
        "def uploads(lista, mes):\n",
        "    contador = 0\n",
        "    for fecha in lista:\n",
        "        partes_fecha = fecha.split()    # Divide la fecha en mes y día\n",
        "        if partes_fecha[0] == mes:      # Si el mes coincide con el mes dado\n",
        "            contador += 1\n",
        "    return contador\n",
        "\n",
        "# Método 4\n",
        "def uploads(fechas, mes):\n",
        "    return [fecha.split()[0] for fecha in fechas].count(mes)\n",
        "\n",
        "# Método 5\n",
        "def uploads(fechas, mes):\n",
        "    return len(list(filter(lambda x: x.startswith(mes), fechas)))"
      ],
      "metadata": {
        "id": "2xMZFsXwKmC-"
      },
      "execution_count": null,
      "outputs": []
    },
    {
      "cell_type": "code",
      "source": [
        "print(uploads([\"Sept 22\", \"Sept 21\", \"Oct 15\"], \"Sept\"))\n",
        "print(uploads([\"Sept 22\", \"Sept 21\", \"Oct 15\"], \"Oct\"))"
      ],
      "metadata": {
        "outputId": "80f3f935-99e5-4e55-dcbc-252afa431db3",
        "colab": {
          "base_uri": "https://localhost:8080/"
        },
        "id": "UBJShSUzKmC-"
      },
      "execution_count": null,
      "outputs": [
        {
          "output_type": "stream",
          "name": "stdout",
          "text": [
            "2\n",
            "1\n"
          ]
        }
      ]
    },
    {
      "cell_type": "markdown",
      "source": [
        "## Reto 310: Enmascarar la cadena\n",
        "* Maskify the String\n",
        "* Por lo general, cuando se registra para obtener una cuenta para comprar algo, su número de tarjeta de crédito, número de teléfono o respuesta a una pregunta secreta se oculta parcialmente de alguna manera.\n",
        "* Dado que alguien podría mirar por encima de su hombro, no querrá que eso se muestre en su pantalla. Por lo tanto, el sitio web enmascara estas cadenas.\n",
        "* Su tarea es crear una función que tome una cadena, transforme todos los caracteres excepto los últimos cuatro en \"#\" y devuelva la nueva cadena enmascarada.\n",
        "* Ejemplos:\n",
        "    1. enmascarar(\"4556364607935616\") ➞ \"############5616\"\n",
        "    2. enmascarar(\"64607935616\") ➞ \"#######5616\"\n",
        "    3. enmascarar(\"1\") ➞ \"1\"\n",
        "    4. enmascarar(\"\") ➞ \"\"\n",
        "\n",
        "* La función `enmascarar` debe aceptar una cadena de cualquier longitud.\n",
        "* Una cadena vacía debería devolver una cadena vacía."
      ],
      "metadata": {
        "id": "KP3ujHpoKmKY"
      }
    },
    {
      "cell_type": "code",
      "source": [
        "# Método 1\n",
        "def enmascarar(cadena):\n",
        "    n = len(cadena)\n",
        "    if n > 4:\n",
        "        return \"#\" * (n-4) + cadena[-4:]\n",
        "    else:\n",
        "        return cadena\n",
        "\n",
        "# Método 2\n",
        "def enmascarar(s):\n",
        "    n = len(s)\n",
        "    return \"#\" * (n-4) + s[-4:] if n > 4 else s\n",
        "\n",
        "# Método 3\n",
        "def enmascarar(cadena):\n",
        "    return len(cadena[:-4]) * \"#\" + cadena[-4:]\n",
        "\n",
        "# Método 4\n",
        "def enmascarar(s):\n",
        "    return '#' * max(0, len(s) - 4) + s[-4:]\n",
        "\n",
        "# Método 5\n",
        "def enmascarar(cadena):\n",
        "    return cadena[-4:].rjust(len(cadena), '#')\n",
        "\n",
        "# utiliza cadena[-4:] para obtener los últimos 4 caracteres de la cadena y\n",
        "# luego str.rjust() para llenar la cadena con \"#\" a la izquierda,\n",
        "# de manera que tenga la misma longitud que la cadena original."
      ],
      "metadata": {
        "id": "eBXQ7CHKKmKY"
      },
      "execution_count": null,
      "outputs": []
    },
    {
      "cell_type": "code",
      "source": [
        "print(enmascarar(\"4556364607935616\"))\n",
        "print(enmascarar(\"64607935616\"))\n",
        "print(enmascarar(\"1\"))\n",
        "print(enmascarar(\"\"))"
      ],
      "metadata": {
        "outputId": "f2f62d87-d39a-40e5-b40a-ddeee485ea7c",
        "colab": {
          "base_uri": "https://localhost:8080/"
        },
        "id": "-CUmq-9jKmKZ"
      },
      "execution_count": null,
      "outputs": [
        {
          "output_type": "stream",
          "name": "stdout",
          "text": [
            "############5616\n",
            "#######5616\n",
            "1\n",
            "\n"
          ]
        }
      ]
    },
    {
      "cell_type": "markdown",
      "source": [
        "## Reto 311: Convertir claves y valores de un diccionario en una lista\n",
        "* Convert Key, Values in a Dictionary to List\n",
        "* Escriba una función que convierta un diccionario en una lista de tuplas clave-valor.\n",
        "* Ejemplos:\n",
        "    1. dict_to_list({\n",
        "  \"D\": 1,\n",
        "  \"B\": 2,\n",
        "  \"C\": 3\n",
        "}) ➞ [(\"B\", 2), (\"C\", 3), (\"D\", 1)]\n",
        "\n",
        "    2. dict_to_list({\n",
        "  \"likes\": 2,\n",
        "  \"dislikes\": 3,\n",
        "  \"followers\": 10\n",
        "}) ➞ [(\"dislikes\", 3), (\"followers\", 10), (\"likes\", 2)]\n",
        "\n",
        "* Devuelva los elementos de la lista en orden alfabético."
      ],
      "metadata": {
        "id": "ZUNphrSvKmRu"
      }
    },
    {
      "cell_type": "code",
      "source": [
        "# Método 1\n",
        "def dict_to_list(diccionario):\n",
        "    return sorted(diccionario.items())\n",
        "\n",
        "# Método 2\n",
        "def dict_to_list(diccionario):\n",
        "    return [(k, v) for k, v in sorted(diccionario.items())]"
      ],
      "metadata": {
        "id": "tRpEHpEMKmRv"
      },
      "execution_count": null,
      "outputs": []
    },
    {
      "cell_type": "code",
      "source": [
        "print(dict_to_list({ \"D\": 1, \"B\": 2, \"C\": 3 }))\n",
        "print(dict_to_list({ \"likes\": 2, \"dislikes\": 3, \"followers\": 10 }))"
      ],
      "metadata": {
        "outputId": "e4d0ec16-780d-4ce8-8203-014eb7d0310c",
        "colab": {
          "base_uri": "https://localhost:8080/"
        },
        "id": "3q0R8I2nKmRv"
      },
      "execution_count": null,
      "outputs": [
        {
          "output_type": "stream",
          "name": "stdout",
          "text": [
            "[('B', 2), ('C', 3), ('D', 1)]\n",
            "[('dislikes', 3), ('followers', 10), ('likes', 2)]\n"
          ]
        }
      ]
    },
    {
      "cell_type": "markdown",
      "source": [
        "## Reto 312: Sin elementos en común\n",
        "* Escriba una función que devuelva `True` si dos listas no tienen elementos en común, es decir, ningún número de una lista está presente en la otra. De lo contrario, devuelve `False`.\n",
        "* Ejemplos:\n",
        "    1. no_comparten([1, 2, 3], [4, 5, 6]) ➞ True\n",
        "    2. no_comparten([1, 2, 3], [3, 4, 5]) ➞ False\n",
        "    3. no_comparten([5, 6, 7], [8, 9, 10]) ➞ True\n",
        "\n",
        "* Tip: puede interesar aplicar el operador de pertenencia `in`."
      ],
      "metadata": {
        "id": "So08saXJKmYv"
      }
    },
    {
      "cell_type": "code",
      "source": [
        "# Método 1\n",
        "def no_comparten(lst1, lst2):\n",
        "    for i in lst1:\n",
        "        for j in lst2:\n",
        "            if i == j:\n",
        "                return False\n",
        "    return True\n",
        "\n",
        "# Método 2\n",
        "def no_comparten(lst1, lst2):\n",
        "    return not any(x in lst2 for x in lst1)\n",
        "\n",
        "# Método 3\n",
        "def no_comparten(lst1, lst2):\n",
        "    return len(set(lst1).intersection(lst2)) == 0\n",
        "\n",
        "# Método 4\n",
        "def no_comparten(lst1, lst2):\n",
        "    return not len(set(lst1) & set(lst2))"
      ],
      "metadata": {
        "id": "CCrkZY7xKmYw"
      },
      "execution_count": null,
      "outputs": []
    },
    {
      "cell_type": "code",
      "source": [
        "print(no_comparten([1, 2, 3], [4, 5, 6]))\n",
        "print(no_comparten([1, 2, 3], [3, 4, 5]))\n",
        "print(no_comparten([5, 6, 7], [8, 9, 10]))"
      ],
      "metadata": {
        "outputId": "06f1233a-09d3-48cd-98a7-f0a6f7a3b4c3",
        "colab": {
          "base_uri": "https://localhost:8080/"
        },
        "id": "L2xXTw72KmYw"
      },
      "execution_count": null,
      "outputs": [
        {
          "output_type": "stream",
          "name": "stdout",
          "text": [
            "True\n",
            "False\n",
            "True\n"
          ]
        }
      ]
    },
    {
      "cell_type": "markdown",
      "source": [
        "## Reto 313: Convertidor de Peso Planetario\n",
        "* Planetary Weight Converter\n",
        "* En este desafío, tienes que convertir un peso medido en un planeta del Sistema Solar al peso correspondiente en otro planeta.\n",
        "* Para realizar la conversión, debes dividir el peso por la fuerza gravitacional del planeta en el que se ha medido y luego multiplicar el resultado (la masa) por la fuerza gravitacional del otro planeta.\n",
        "* Consulte la tabla para ver una lista de las fuerzas gravitacionales:\n",
        "\n",
        "| Planeta  | m/s²   |\n",
        "|----------|--------|\n",
        "| Luna     | 1.625  |\n",
        "| Mercurio | 3.7    |\n",
        "| Venus    | 8.87   |\n",
        "| Tierra   | 9.81   |\n",
        "| Marte    | 3.711  |\n",
        "| Júpiter  | 24.79  |\n",
        "| Saturno  | 10.44  |\n",
        "| Urano    | 8.69   |\n",
        "| Neptuno  | 11.15  |\n",
        "\n",
        "* Peso en planeta_a / fuerza gravitacional del planeta_a * fuerza gravitacional del planeta_b\n",
        "* Dado un peso medido en planeta_a, devuelve el valor convertido para planeta_b redondeado a la centésima más cercana.\n",
        "* Ejemplos:\n",
        "    1. convertir_peso(\"Tierra\", 1, \"Marte\") ➞ 0.38\n",
        "    2. convertir_peso(\"Tierra\", 60, \"Júpiter\") ➞ 151.62\n",
        "    3. convertir_peso(\"Tierra\", 1, \"Neptuno\") ➞ 1.14\n",
        "    4. convertir_peso(\"Tierra\", 50, \"Luna\") ➞ 8.28"
      ],
      "metadata": {
        "id": "9tl1pVa2Kmgi"
      }
    },
    {
      "cell_type": "code",
      "source": [
        "# Método 1\n",
        "def convertir_peso(planeta_a, peso, planeta_b):\n",
        "    fuerzas_gravitacionales = {\n",
        "        \"Luna\": 1.625,\n",
        "        \"Mercurio\": 3.7,\n",
        "        \"Venus\": 8.87,\n",
        "        \"Tierra\": 9.81,\n",
        "        \"Marte\": 3.711,\n",
        "        \"Júpiter\": 24.79,\n",
        "        \"Saturno\": 10.44,\n",
        "        \"Urano\": 8.69,\n",
        "        \"Neptuno\": 11.15\n",
        "    }\n",
        "    if planeta_a in fuerzas_gravitacionales and planeta_b in fuerzas_gravitacionales:\n",
        "        masa = peso / fuerzas_gravitacionales[planeta_a]\n",
        "        peso_convertido = masa * fuerzas_gravitacionales[planeta_b]\n",
        "        return round(peso_convertido, 2)\n",
        "    else:\n",
        "        return \"No se pueden convertir los planetas dados.\"\n",
        "\n",
        "# Método 2\n",
        "def convertir_peso(planeta_a, peso, planeta_b):\n",
        "    fuerzas_gravitacionales = {\n",
        "        \"Luna\": 1.625,\n",
        "        \"Mercurio\": 3.7,\n",
        "        \"Venus\": 8.87,\n",
        "        \"Tierra\": 9.81,\n",
        "        \"Marte\": 3.711,\n",
        "        \"Júpiter\": 24.79,\n",
        "        \"Saturno\": 10.44,\n",
        "        \"Urano\": 8.69,\n",
        "        \"Neptuno\": 11.15\n",
        "    }\n",
        "    if planeta_a not in fuerzas_gravitacionales or planeta_b not in fuerzas_gravitacionales:\n",
        "        return \"No se pueden convertir los planetas dados.\"\n",
        "    peso_convertido = peso * fuerzas_gravitacionales[planeta_b] / fuerzas_gravitacionales[planeta_a]\n",
        "    return round(peso_convertido, 2)"
      ],
      "metadata": {
        "id": "2VQuJX_dKmgi"
      },
      "execution_count": null,
      "outputs": []
    },
    {
      "cell_type": "code",
      "source": [
        "print(convertir_peso(\"Tierra\", 1, \"Marte\"))\n",
        "print(convertir_peso(\"Tierra\", 60, \"Júpiter\"))\n",
        "print(convertir_peso(\"Tierra\", 1, \"Neptuno\"))\n",
        "print(convertir_peso(\"Tierra\", 50, \"Luna\"))"
      ],
      "metadata": {
        "outputId": "005e507e-8fb9-4eeb-9238-3757be70dd81",
        "colab": {
          "base_uri": "https://localhost:8080/"
        },
        "id": "mnT56m3LKmgj"
      },
      "execution_count": null,
      "outputs": [
        {
          "output_type": "stream",
          "name": "stdout",
          "text": [
            "0.38\n",
            "151.62\n",
            "1.14\n",
            "8.28\n"
          ]
        }
      ]
    },
    {
      "cell_type": "markdown",
      "source": [
        "## Reto 314: Devolver la suma de los dos números más pequeños\n",
        "* Return the Sum of the Two Smallest Numbers\n",
        "* Cree una función que tome una lista de números y devuelva la suma de los dos números positivos más pequeños.\n",
        "* Ejemplos:\n",
        "    1. sumar_menores_positivos([19, 5, 42, 2, 77]) ➞ 7\n",
        "    2. sumar_menores_positivos([190, 5000, 10]) ➞ 200\n",
        "    3. sumar_menores_positivos([2, 9, 6, -1]) ➞ 8\n",
        "    4. sumar_menores_positivos([998, 5, 694, -8, 342, 221, -9, 10, 832, -5]) ➞ 15\n",
        "    5. sumar_menores_positivos([3000, -4, 7951, 55, 9617, -2385]) ➞ 3055\n",
        "\n",
        "* No tomar en cuenta números negativos.\n",
        "* No se usarán números decimales ni listas vacías en ninguna de las pruebas.\n",
        "* Siempre habrá al menos dos números positivos que se puedan sumar."
      ],
      "metadata": {
        "id": "FiCcit5SKmnQ"
      }
    },
    {
      "cell_type": "code",
      "source": [
        "# Método 1\n",
        "def sumar_menores_positivos(lista):\n",
        "    positivos = [x for x in lista if x > 0]\n",
        "    return sum(sorted(positivos)[:2])\n",
        "\n",
        "# Método 2\n",
        "def sumar_menores_positivos(lista):\n",
        "    positivos = [x for x in lista if x > 0]\n",
        "    positivos.sort()\n",
        "    return positivos[0] + positivos[1]\n",
        "\n",
        "# Método 3\n",
        "def sumar_menores_positivos(lista):\n",
        "    positivos = filter(lambda x: x > 0, lista)\n",
        "    return sum(sorted(positivos)[:2])\n",
        "\n",
        "# Método 4\n",
        "def sumar_menores_positivos(lista):\n",
        "    menor1 = menor2 = float('inf')\n",
        "    for num in lista:\n",
        "        if num > 0:\n",
        "            if num < menor1:    # menor1 es más pequeño que menor2. menor1 hace el papel de mínimo\n",
        "                menor2 = menor1 # antes de hacer el que nuevo mínimo sea igual a menor 1, hacemos que menor2 tome el valor anterior de menor1\n",
        "                menor1 = num\n",
        "            elif num < menor2:\n",
        "                menor2 = num\n",
        "    return menor1 + menor2\n",
        "\n",
        "# Método 5\n",
        "def sumar_menores_positivos(lista):\n",
        "    positivos = [x for x in lista if x > 0]\n",
        "    min1 = min(positivos)\n",
        "    positivos.remove(min1)\n",
        "    min2 = min(positivos)\n",
        "    return min1 + min2"
      ],
      "metadata": {
        "id": "-KAyumDSKmnQ"
      },
      "execution_count": null,
      "outputs": []
    },
    {
      "cell_type": "code",
      "source": [
        "print(sumar_menores_positivos([19, 5, 42, 2, 77]))\n",
        "print(sumar_menores_positivos([190, 5000, 10]))\n",
        "print(sumar_menores_positivos([2, 9, 6, -1]))\n",
        "print(sumar_menores_positivos([998, 5, 694, -8, 342, 221, -9, 10, 832, -5]))\n",
        "print(sumar_menores_positivos([3000, -4, 7951, 55, 9617, -2385]))"
      ],
      "metadata": {
        "outputId": "deb64c44-db51-474d-c424-00026ce9f612",
        "colab": {
          "base_uri": "https://localhost:8080/"
        },
        "id": "cyx7Nn3aKmnQ"
      },
      "execution_count": null,
      "outputs": [
        {
          "output_type": "stream",
          "name": "stdout",
          "text": [
            "7\n",
            "200\n",
            "8\n",
            "15\n",
            "3055\n"
          ]
        }
      ]
    },
    {
      "cell_type": "markdown",
      "source": [
        "## Reto 315: Carrera de Caracoles\n",
        "* Snail Race\n",
        "* Seba y Magy tienen caracoles de carreras.\n",
        "* Cada uno tiene tres: uno lento `s`, uno mediano `m` y uno rápido `f`.\n",
        "* Aunque los caracoles de Seba son un poco más fuertes que los de Magy, Magy tiene un truco bajo la manga. Su plan es el siguiente:\n",
        "    1. Ronda 1: [s, f] Sacrificar su caracol más lento contra el más rápido de Seba.\n",
        "    2. Ronda 2: [m, s] Usar su caracol intermedio contra el más lento de Seba.\n",
        "    3. Ronda 3: [f, m] Usar su caracol más rápido contra el intermedio de Seba.\n",
        "* Crea una función que determine si el plan de Magy funcionará devolviendo `True` si Magy gana 2 de 3 juegos.\n",
        "* Los inputs de la función son:\n",
        "    - Lista 1: [s, m, f] para Magy.\n",
        "    - Lista 2: [s, m, f] para Seba.\n",
        "* Ejemplos:\n",
        "    1. magy_gana([3, 5, 10], [4, 7, 11]) ➞ True\n",
        "        * Dado que los reultados son (3, 11), (5, 4) y (10, 7), Magy gana 2 de 3.\n",
        "    2. magy_gana([6, 8, 9], [7, 12, 14]) ➞ False\n",
        "        * Dado que los reultados son (6, 14), (8, 7) y (9, 12), Seba gana 2 de 3.\n",
        "    3. magy_gana([1, 8, 20], [2, 9, 100]) ➞ True\n",
        "\n",
        "* Magy gana si la velocidad de su caracol competidor excede estrictamente la velocidad del caracol de Seba.\n",
        "* Seba siempre jugará en este orden: [f, s, m].\n",
        "*El orden en el que obtendrás los caracoles siempre está en orden ascendente."
      ],
      "metadata": {
        "id": "yFFm9UANKmuR"
      }
    },
    {
      "cell_type": "code",
      "source": [
        "# Método 1\n",
        "def magy_gana(magy, Seba):\n",
        "    magy[2], magy[0], magy[1] = magy[0], magy[1], magy[2]\n",
        "    parejas = list(zip(magy, Seba))\n",
        "    return sum(m>s for m,s in parejas)\n",
        "\n",
        "# Método 2\n",
        "def magy_gana(magy, Seba):\n",
        "    victorias_magy = 0  # contador\n",
        "    if magy[0] > Seba[2]:  # Ronda 1: [s, f]\n",
        "        victorias_magy += 1\n",
        "    if magy[1] > Seba[0]:  # Ronda 2: [m, s]\n",
        "        victorias_magy += 1\n",
        "    if magy[2] > Seba[1]:  # Ronda 3: [f, m]\n",
        "        victorias_magy += 1\n",
        "    return victorias_magy >= 2"
      ],
      "metadata": {
        "id": "qB8uN252KmuR"
      },
      "execution_count": null,
      "outputs": []
    },
    {
      "cell_type": "code",
      "source": [
        "print(magy_gana([3, 5, 10], [4, 7, 11]))\n",
        "print(magy_gana([6, 8, 9], [7, 12, 14]))\n",
        "print(magy_gana([1, 8, 20], [2, 9, 100]))"
      ],
      "metadata": {
        "outputId": "f4aaa756-0fb2-416a-ba0b-349e0c9a3b5c",
        "colab": {
          "base_uri": "https://localhost:8080/"
        },
        "id": "VuKhFku4KmuR"
      },
      "execution_count": null,
      "outputs": [
        {
          "output_type": "stream",
          "name": "stdout",
          "text": [
            "True\n",
            "False\n",
            "True\n"
          ]
        }
      ]
    },
    {
      "cell_type": "markdown",
      "source": [
        "## Reto 316: Encuentra la Cantidad de Dígitos en un Número\n",
        "* Find Number of Digits in Number\n",
        "* Cree una función que devuelva un número entero correspondiente a la cantidad de dígitos en el número entero dado `num`.\n",
        "* Ejemplos:\n",
        "    1. cantidad_de_digitos(1000) ➞ 4\n",
        "    2. cantidad_de_digitos(12) ➞ 2\n",
        "    3. cantidad_de_digitos(1305981031) ➞ 10\n",
        "    4. cantidad_de_digitos(0) ➞ 1\n",
        "\n",
        "* Intente resolver este desafío sin usar cadenas de texto."
      ],
      "metadata": {
        "id": "NK5qPAF2Km03"
      }
    },
    {
      "cell_type": "code",
      "source": [
        "# Método 3\n",
        "def cantidad_de_digitos(num):\n",
        "    if num == 0:\n",
        "        return 1\n",
        "    count = 0\n",
        "    while num != 0:\n",
        "        num //= 10\n",
        "        count += 1\n",
        "    return count\n",
        "\n",
        "# Método 4\n",
        "def cantidad_de_digitos(num):\n",
        "    return len(str(abs(num)))   # usando str"
      ],
      "metadata": {
        "id": "IVehuiAAKm04"
      },
      "execution_count": null,
      "outputs": []
    },
    {
      "cell_type": "code",
      "source": [
        "print(cantidad_de_digitos(1000))\n",
        "print(cantidad_de_digitos(12))\n",
        "print(cantidad_de_digitos(1305981031) )\n",
        "print(cantidad_de_digitos(0))"
      ],
      "metadata": {
        "outputId": "3cb86373-4ecf-485a-9a65-ed4244b0e1eb",
        "colab": {
          "base_uri": "https://localhost:8080/"
        },
        "id": "4mHpzyOwKm04"
      },
      "execution_count": null,
      "outputs": [
        {
          "output_type": "stream",
          "name": "stdout",
          "text": [
            "4\n",
            "2\n",
            "10\n",
            "1\n"
          ]
        }
      ]
    },
    {
      "cell_type": "markdown",
      "source": [
        "## Reto 317: H4ck3r Sp34k\n",
        "* H4ck3r Sp34k\n",
        "* Cree una función que tome una cadena como argumento y devuelva una versión codificada (h4ck3r 5p34k) de la cadena.\n",
        "* Ejemplos:\n",
        "    1. hacker_speak(\"javascript is cool\") ➞ \"j4v45cr1pt 15 c00l\"\n",
        "    2. hacker_speak(\"programming is fun\") ➞ \"pr0gr4mm1ng 15 fun\"\n",
        "    3. hacker_speak(\"become a coder\") ➞ \"b3c0m3 4 c0d3r\"\n",
        "\n",
        "* Para funcionar correctamente, la función debe reemplazar todas las \"a\" con 4, \"e\" con 3, \"i\" con 1, \"o\" con 0 y \"s\" con 5."
      ],
      "metadata": {
        "id": "GHO2B8yjKm8s"
      }
    },
    {
      "cell_type": "code",
      "source": [
        "# Método 1\n",
        "def hacker_speak(cadena):\n",
        "    cadena = cadena.replace('a', '4')\n",
        "    cadena = cadena.replace('e', '3')\n",
        "    cadena = cadena.replace('i', '1')\n",
        "    cadena = cadena.replace('o', '0')\n",
        "    cadena = cadena.replace('s', '5')\n",
        "    return cadena\n",
        "\n",
        "# Método 2\n",
        "def hacker_speak(cadena):\n",
        "    dic = {'a': '4', 'e': '3', 'i': '1', 'o': '0', 's': '5'}\n",
        "    for char in dic:\n",
        "        cadena = cadena.replace(char, dic[char])\n",
        "    return cadena\n",
        "\n",
        "# Método 3\n",
        "def hacker_speak(cadena):\n",
        "    relacion= str.maketrans({'a': '4', 'e': '3', 'i': '1', 'o': '0', 's': '5'})\n",
        "    resultado = cadena.translate(relacion)\n",
        "    return resultado\n",
        "\n",
        "# Método 4\n",
        "def hacker_speak(cadena):\n",
        "    dic = {'a': '4', 'e': '3', 'i': '1', 'o': '0', 's': '5'}\n",
        "    return ''.join(dic[char] if char in dic else char for char in cadena)\n",
        "\n",
        "# Método 5\n",
        "def hacker_speak(cadena):\n",
        "    dic = {'a': '4', 'e': '3', 'i': '1', 'o': '0', 's': '5'}\n",
        "    return ''.join(dic.get(char, char) for char in cadena)\n",
        "\n",
        "# Método 6\n",
        "def hacker_speak(cadena):\n",
        "    dic = {'a': '4', 'e': '3', 'i': '1', 'o': '0', 's': '5'}\n",
        "    return ''.join(map(lambda char: dic[char] if char in dic else char, cadena))\n",
        "\n",
        "# Método 7\n",
        "# usando dos listas y relacionando los elementos por el index\n",
        "def hacker_speak(cadena):\n",
        "    original = ['a', 'e', 'i', 'o', 's']\n",
        "    final = ['4', '3', '1', '0', '5']\n",
        "    return ''.join(final[original.index(char)] if char in original else char for char in cadena)"
      ],
      "metadata": {
        "id": "O3TDhA1yKm8t"
      },
      "execution_count": null,
      "outputs": []
    },
    {
      "cell_type": "code",
      "source": [
        "print(hacker_speak(\"javascript is cool\"))\n",
        "print(hacker_speak(\"programming is fun\"))\n",
        "print(hacker_speak(\"become a coder\"))"
      ],
      "metadata": {
        "outputId": "85912f8e-5919-45b3-a517-7254b0078b33",
        "colab": {
          "base_uri": "https://localhost:8080/"
        },
        "id": "cOB_lzooKm8t"
      },
      "execution_count": null,
      "outputs": [
        {
          "output_type": "stream",
          "name": "stdout",
          "text": [
            "j4v45cr1pt 15 c00l\n",
            "pr0gr4mm1ng 15 fun\n",
            "b3c0m3 4 c0d3r\n"
          ]
        }
      ]
    },
    {
      "cell_type": "markdown",
      "source": [
        "## Reto 318: Conversión de Temperatura\n",
        "* Temperature Conversion\n",
        "* Escriba un programa que tome una entrada de temperatura en grados Celsius y la convierta a grados Fahrenheit y Kelvin.\n",
        "* Devuelve los valores de temperatura convertidos en una lista.\n",
        "* La fórmula para calcular la temperatura en grados Fahrenheit a partir de grados Celsius es:\n",
        "\n",
        "    - F = C * 9/5 + 32\n",
        "\n",
        "* La fórmula para calcular la temperatura en grados Kelvin a partir de grados Celsius es:\n",
        "\n",
        "    - K = C + 273.15\n",
        "\n",
        "* Ejemplos:\n",
        "    1. temp_conversion(0) ➞ [32, 273.15]\n",
        "        * 0°C es igual a 32°F y 273.15 K.\n",
        "    2. temp_conversion(100) ➞ [212, 373.15]\n",
        "    3. temp_conversion(-10) ➞ [14, 263.15]\n",
        "    4. temp_conversion(300.4) ➞ [572.72, 573.55]\n",
        "    5. temp_conversion(-274) ➞ \"Inválido\"\n",
        "\n",
        "* Devuelve las temperaturas calculadas con dos decimales.\n",
        "* Devuelve \"invalid\" si K es menor que 0."
      ],
      "metadata": {
        "id": "X3ZQCD1XKnEy"
      }
    },
    {
      "cell_type": "code",
      "source": [
        "# Método 1\n",
        "def temp_conversion(c):\n",
        "    f = round(c * 9/5 + 32, 2)\n",
        "    k = round(c + 273.15, 2)\n",
        "    if k < 0:\n",
        "        return \"invalid\"\n",
        "    return [f, k]\n",
        "\n",
        "# Método 2\n",
        "def temp_conversion(c):\n",
        "    if c < -273.15:\n",
        "        return \"invalid\"\n",
        "    return [c * 9/5 + 32, c + 273.15]\n",
        "\n",
        "# Método 3\n",
        "def temp_conversion(c):\n",
        "    return ('invalid' if c < -273.15 else [c * 9/5 + 32, c + 273.15])"
      ],
      "metadata": {
        "id": "Wmb3LqpqKnEz"
      },
      "execution_count": null,
      "outputs": []
    },
    {
      "cell_type": "code",
      "source": [
        "print(temp_conversion(0))\n",
        "print(temp_conversion(100))\n",
        "print(temp_conversion(-10))\n",
        "print(temp_conversion(300.4))\n",
        "print(temp_conversion(-274))"
      ],
      "metadata": {
        "outputId": "9dea3b52-682f-4233-e78a-d58a3d58f736",
        "colab": {
          "base_uri": "https://localhost:8080/"
        },
        "id": "reEQA4wBKnEz"
      },
      "execution_count": null,
      "outputs": [
        {
          "output_type": "stream",
          "name": "stdout",
          "text": [
            "[32.0, 273.15]\n",
            "[212.0, 373.15]\n",
            "[14.0, 263.15]\n",
            "[572.72, 573.55]\n",
            "invalid\n"
          ]
        }
      ]
    },
    {
      "cell_type": "markdown",
      "source": [
        "## Reto 319: Contar de Positivos y Sumar Negativos\n",
        "* Positive Count / Negative Sum\n",
        "* Cree una función que tome una lista de números positivos y negativos.\n",
        "* Devuelva una lista donde el primer elemento sea el recuento de números positivos y el segundo elemento sea la suma de los números negativos.\n",
        "* Ejemplos:\n",
        "    1. contar_sumar([1, 2, 3, 4, 5, 6, 7, 8, 9, 10, -11, -12, -13, -14, -15]) ➞ [10, -65]\n",
        "    2. contar_sumar([92, 6, 73, -77, 81, -90, 99, 8, -85, 34]) ➞ [7, -252]\n",
        "    3. contar_sumar([91, -4, 80, -73, -28]) ➞ [2, -105]\n",
        "    4. contar_sumar([]) ➞ []\n",
        "\n",
        "* Si se proporciona una lista vacía, devuelva una lista vacía: []\n",
        "* El número 0 no es considerado como positivo."
      ],
      "metadata": {
        "id": "GHjZhS-AKnMF"
      }
    },
    {
      "cell_type": "code",
      "source": [
        "# Método 1\n",
        "def sum_neg(lista):\n",
        "    if lista == []:\n",
        "        return []\n",
        "    contar_positivos = sum(1 for x in lista if x > 0)\n",
        "    sumar_negativos = sum(x for x in lista if x < 0)\n",
        "    return [contar_positivos, sumar_negativos]\n",
        "\n",
        "# Método 2\n",
        "def contar_sumar(lista):\n",
        "    contar_positivos = sum(x > 0 for x in lista)\n",
        "    sumar_negativos  = sum(x for x in lista if x < 0)\n",
        "    return ([] if not lista else [contar_positivos, sumar_negativos])\n",
        "\n",
        "# Método 3\n",
        "def sum_neg(numbers):\n",
        "    if not numbers:  # Verificar si la lista está vacía\n",
        "        return []\n",
        "    contar_positivos = len(list(filter(lambda x: x > 0, numbers)))\n",
        "    sumar_negativos  = sum(filter(lambda x: x < 0, numbers))\n",
        "    return [contar_positivos, sumar_negativos]\n",
        "\n",
        "# Método 4\n",
        "import numpy as np\n",
        "\n",
        "def sum_neg(numbers):\n",
        "    if not numbers:\n",
        "        return []\n",
        "    numbers_arr = np.array(numbers)\n",
        "    contar_positivos = np.sum(numbers_arr > 0)\n",
        "    sumar_negativos  = np.sum(numbers_arr[ numbers_arr < 0 ])\n",
        "    return [contar_positivos, sumar_negativos]"
      ],
      "metadata": {
        "id": "Yk5jYAUZKnMF"
      },
      "execution_count": null,
      "outputs": []
    },
    {
      "cell_type": "code",
      "source": [
        "print(contar_sumar([1, 2, 3, 4, 5, 6, 7, 8, 9, 10, -11, -12, -13, -14, -15]))\n",
        "print(contar_sumar([92, 6, 73, -77, 81, -90, 99, 8, -85, 34]))\n",
        "print(contar_sumar([91, -4, 80, -73, -28]))\n",
        "print(contar_sumar([]))"
      ],
      "metadata": {
        "outputId": "925faa68-cf49-442b-c78e-5e7f04acac05",
        "colab": {
          "base_uri": "https://localhost:8080/"
        },
        "id": "B8I_13EIKnMF"
      },
      "execution_count": null,
      "outputs": [
        {
          "output_type": "stream",
          "name": "stdout",
          "text": [
            "[10, -65]\n",
            "[7, -252]\n",
            "[2, -105]\n",
            "[]\n"
          ]
        }
      ]
    },
    {
      "cell_type": "markdown",
      "source": [
        "## Reto 320: Letra doble\n",
        "* Double Letters\n",
        "* Cree una función que tome una palabra y devuelva `True` si la palabra tiene dos letras idénticas consecutivas.\n",
        "* Ejemplos:\n",
        "    1. letras_dobles(\"loop\") ➞ True\n",
        "    2. letras_dobles(\"yummy\") ➞ True\n",
        "    3. letras_dobles(\"lluvia\") ➞ True\n",
        "    4. letras_dobles(\"tierra\") ➞ True\n",
        "    5. letras_dobles(\"contraargumento\") ➞ True\n",
        "    6. letras_dobles(\"banana\") ➞ False\n",
        "    7. letras_dobles(\"color\") ➞ False"
      ],
      "metadata": {
        "id": "Bb5Aj8BRKnTg"
      }
    },
    {
      "cell_type": "code",
      "source": [
        "def letras_dobles(cadena):\n",
        "    for i in range(len(cadena)-1):\n",
        "        if cadena[i] == cadena[i+1]:\n",
        "            return True\n",
        "    return False"
      ],
      "metadata": {
        "id": "NMNVHhB-KnTh"
      },
      "execution_count": null,
      "outputs": []
    },
    {
      "cell_type": "code",
      "source": [
        "print(letras_dobles(\"loop\"))\n",
        "print(letras_dobles(\"yummy\"))\n",
        "print(letras_dobles(\"lluvia\"))\n",
        "print(letras_dobles(\"tierra\"))\n",
        "print(letras_dobles(\"contraargumento\"))\n",
        "print(letras_dobles(\"banana\"))\n",
        "print(letras_dobles(\"color\"))"
      ],
      "metadata": {
        "outputId": "c45e9523-36c0-433e-821a-aeb106e09676",
        "colab": {
          "base_uri": "https://localhost:8080/"
        },
        "id": "yXOCJXl6KnTh"
      },
      "execution_count": null,
      "outputs": [
        {
          "output_type": "stream",
          "name": "stdout",
          "text": [
            "True\n",
            "True\n",
            "True\n",
            "True\n",
            "True\n",
            "False\n",
            "False\n"
          ]
        }
      ]
    },
    {
      "cell_type": "markdown",
      "source": [
        "## Reto 321: Encontrar las otras dos longitudes de los lados\n",
        "* Find the Other Two Side Lengths\n",
        "*  Dado el lado más corto de un triángulo de 30°, 60°, 90°, encontrar los otros dos lados.\n",
        "* Devuelva el lado más largo y el lado de longitud media en ese orden.\n",
        "* Ejemplos:\n",
        "    1. otros_lados(1) ➞ (2, 1.73)\n",
        "    2. otros_lados(2) ➞ (4, 3.46)\n",
        "    3. otros_lados(3) ➞ (6, 5.2)\n",
        "\n",
        "* Los triángulos de 30°, 60°, 90° siempre siguen esta regla: si la longitud del lado más corto es x unidades, la hipotenusa sería de 2x unidades y el otro lado sería x multiplicado por la raíz cuadrada de 3.\n",
        "* Retorne los resultados con los decimales redondeados a 2 lugares.\n",
        "* Devuelve los valores como una tupla."
      ],
      "metadata": {
        "id": "dJWXHTW8Knah"
      }
    },
    {
      "cell_type": "code",
      "source": [
        "# Método 1\n",
        "def otros_lados(c1):\n",
        "    h = 2 * c1\n",
        "    c2 = c1 * 3 ** .5\n",
        "    return round(h, 2), round(c2, 2)\n",
        "\n",
        "# Método 2\n",
        "import math\n",
        "\n",
        "def otros_lados(lado_corto):\n",
        "    lado_medio = lado_corto * math.sqrt(3)\n",
        "    lado_largo = lado_corto * 2\n",
        "    return (lado_largo, round(lado_medio, 2))"
      ],
      "metadata": {
        "id": "-UFneMXMKnai"
      },
      "execution_count": null,
      "outputs": []
    },
    {
      "cell_type": "code",
      "source": [
        "print(otros_lados(1))\n",
        "print(otros_lados(2))\n",
        "print(otros_lados(3))"
      ],
      "metadata": {
        "outputId": "5f3404ad-4035-432c-fdf4-ffafe6183ee7",
        "colab": {
          "base_uri": "https://localhost:8080/"
        },
        "id": "oMRj8yObKnai"
      },
      "execution_count": null,
      "outputs": [
        {
          "output_type": "stream",
          "name": "stdout",
          "text": [
            "(2, 1.73)\n",
            "(4, 3.46)\n",
            "(6, 5.2)\n"
          ]
        }
      ]
    },
    {
      "cell_type": "markdown",
      "source": [
        "## Reto 322: Selector de CMS basado en una cadena dada\n",
        "* CMS Selector Based on a Given String\n",
        "* Escriba una función que tome una lista de cadenas y un patrón (cadena) y devuelva las cadenas que contienen el patrón en orden alfabético.\n",
        "* Si el patrón es una cadena vacía, devuelve todas las cadenas pasadas en la lista de entrada.\n",
        "* Ejemplos:\n",
        "    1. selector_de_cms([\"WordPress\", \"Joomla\", \"Drupal\"], \"w\") ➞ [\"WordPress\"]\n",
        "    2. selector_de_cms([\"WordPress\", \"Joomla\", \"Drupal\", \"Magento\"], \"i\") ➞ []\n",
        "    3. selector_de_cms([\"WordPress\", \"Joomla\", \"Drupal\", \"Magento\"], \"e\") ➞ ['Magento', 'WordPress']\n",
        "    4. selector_de_cms([\"WordPress\", \"Joomla\", \"Drupal\", \"Magento\"], \"ru\") ➞ [\"Drupal\"]\n",
        "    5. selector_de_cms([\"WordPress\", \"Joomla\", \"Drupal\", \"Magento\"], \"\") ➞ [\"Drupal\", \"Joomla\", \"Magento\", \"WordPress\"]\n",
        "\n",
        "* No distinguir entre mayúsculas y minúsculas.\n",
        "* En el caso de una cadena vacía, devuelve la lista completa.\n",
        "* Un CMS es un Sistema de Gestión de Contenidos."
      ],
      "metadata": {
        "id": "52pXNfP8Knhl"
      }
    },
    {
      "cell_type": "code",
      "source": [
        "# Método 1\n",
        "def selector_de_cms(lista, cadena):\n",
        "    if not cadena:\n",
        "        return sorted(lista)\n",
        "    cadena = cadena.lower()\n",
        "    result = []\n",
        "    for cms in lista:\n",
        "        if cadena in cms.lower():\n",
        "            result.append(cms)\n",
        "    return sorted(result)\n",
        "\n",
        "# Método 2\n",
        "def selector_de_cms(lista, cadena):\n",
        "    if not cadena:\n",
        "        return sorted(lista)\n",
        "    else:\n",
        "        return sorted([s for s in lista if cadena.lower() in s.lower()])"
      ],
      "metadata": {
        "id": "HHuUNZMzKnhl"
      },
      "execution_count": null,
      "outputs": []
    },
    {
      "cell_type": "code",
      "source": [
        "print(selector_de_cms([\"WordPress\", \"Joomla\", \"Drupal\"], \"w\"))\n",
        "print(selector_de_cms([\"WordPress\", \"Joomla\", \"Drupal\", \"Magento\"], \"i\"))\n",
        "print(selector_de_cms([\"WordPress\", \"Joomla\", \"Drupal\", \"Magento\"], \"e\"))\n",
        "print(selector_de_cms([\"WordPress\", \"Joomla\", \"Drupal\", \"Magento\"], \"ru\"))\n",
        "print(selector_de_cms([\"WordPress\", \"Joomla\", \"Drupal\", \"Magento\"], \"\"))"
      ],
      "metadata": {
        "outputId": "dbbc4283-a0fe-42ac-9352-334e775b758c",
        "colab": {
          "base_uri": "https://localhost:8080/"
        },
        "id": "vUqEOpADKnhl"
      },
      "execution_count": null,
      "outputs": [
        {
          "output_type": "stream",
          "name": "stdout",
          "text": [
            "['WordPress']\n",
            "[]\n",
            "['Magento', 'WordPress']\n",
            "['Drupal']\n",
            "['Drupal', 'Joomla', 'Magento', 'WordPress']\n"
          ]
        }
      ]
    },
    {
      "cell_type": "markdown",
      "source": [
        "## Reto 323: Formateo de Número de Teléfono\n",
        "* Phone Number Formatting\n",
        "* Cree una función que tome una lista de 10 números (entre 0 y 9) y devuelva una cadena de esos números formateados como un número de teléfono (por ejemplo, (555) 555-5555).\n",
        "* Ejemplos\n",
        "    1. numero_de_telefono([1, 2, 3, 4, 5, 6, 7, 8, 9, 0]) ➞ \"(123) 456-7890\"\n",
        "    2. numero_de_telefono([5, 1, 9, 5, 5, 5, 4, 4, 6, 8]) ➞ \"(519) 555-4468\"\n",
        "    3. numero_de_telefono([3, 4, 5, 5, 0, 1, 2, 5, 2, 7]) ➞ \"(345) 501-2527\"\n",
        "\n",
        "* No olvide el espacio después del paréntesis de cierre."
      ],
      "metadata": {
        "id": "AG1TcOVoKnok"
      }
    },
    {
      "cell_type": "code",
      "source": [
        "# Método 1\n",
        "def numero_de_telefono(lista):\n",
        "    s = ''.join(str(x) for x in lista)\n",
        "    return f\"({s[:3]}) {s[3:6]}-{s[6:]}\"\n",
        "\n",
        "# Método 2\n",
        "def numero_de_telefono(lista):\n",
        "    s = ''.join(map(str, lista))\n",
        "    return f\"({s[:3]}) {s[3:6]}-{s[6:]}\"\n",
        "\n",
        "# Método 3\n",
        "def numero_de_telefono(lista):\n",
        "    return \"({}{}{}) {}{}{}-{}{}{}{}\".format(*lista)"
      ],
      "metadata": {
        "id": "OWdRtEUPKnol"
      },
      "execution_count": null,
      "outputs": []
    },
    {
      "cell_type": "code",
      "source": [
        "print(numero_de_telefono([1, 2, 3, 4, 5, 6, 7, 8, 9, 0]))\n",
        "print(numero_de_telefono([5, 1, 9, 5, 5, 5, 4, 4, 6, 8]))\n",
        "print(numero_de_telefono([3, 4, 5, 5, 0, 1, 2, 5, 2, 7]))"
      ],
      "metadata": {
        "outputId": "f9d9cfc1-d4a7-4235-bb57-ecc509326099",
        "colab": {
          "base_uri": "https://localhost:8080/"
        },
        "id": "kaGC5UNNKnol"
      },
      "execution_count": null,
      "outputs": [
        {
          "output_type": "stream",
          "name": "stdout",
          "text": [
            "(123) 456-7890\n",
            "(519) 555-4468\n",
            "(345) 501-2527\n"
          ]
        }
      ]
    },
    {
      "cell_type": "markdown",
      "source": [
        "## Reto 324: Functioninator 8000\n",
        "Functioninator 8000\n",
        "* Cree una función que tome una cadena de una sola palabra y realice lo siguiente:\n",
        "    1. Concatena \"inator\" al final si la palabra termina con una consonante, de lo contrario, concatena \"-inator\".\n",
        "    2. Añade la longitud de la palabra original al final, proporcionada con \"000\".\n",
        "* Ejemplos:\n",
        "    1. inator_inator(\"Shrink\") ➞ \"Shrinkinator 6000\"\n",
        "    2. inator_inator(\"Doom\") ➞ \"Doominator 4000\"\n",
        "    3. inator_inator(\"EvilClone\") ➞ \"EvilClone-inator 9000\"\n",
        "\n",
        "* Para este desafío, se consideran vocales solamente las letras: a, e, i, o, u."
      ],
      "metadata": {
        "id": "Zq7OoxsDKnwX"
      }
    },
    {
      "cell_type": "code",
      "source": [
        "# Método 1\n",
        "def inator_inator(s):\n",
        "    if s[-1].lower() in 'aeiou':\n",
        "        resultado = f\"{s}-inator \"\n",
        "    else:\n",
        "        resultado = f\"{s}inator \"\n",
        "\n",
        "    return resultado + str(len(s)) + \"000\"\n",
        "\n",
        "# Método 2\n",
        "def inator_inator(s):\n",
        "    if s[-1].lower() in 'aeiou':\n",
        "        s += '-inator'\n",
        "    else:\n",
        "        s += 'inator'\n",
        "    return f\"{s} {len(s)}000\"\n",
        "\n",
        "# Método 3\n",
        "def inator_inator(s):\n",
        "    return f\"{s}{'-inator' if s[-1].lower() in 'aeiou' else 'inator'} {len(s) * 1000}\"\n",
        "\n",
        "# Método 4\n",
        "def inator_inator(s):\n",
        "    resultado = [s]\n",
        "    if s[-1].lower() in 'aeiou':\n",
        "        resultado.append(\"-inator\")\n",
        "    else:\n",
        "        resultado.append(\"inator\")\n",
        "    return ''.join(resultado) + \" \" + str(len(s)) + \"000\""
      ],
      "metadata": {
        "id": "YcEpMYj-KnwY"
      },
      "execution_count": null,
      "outputs": []
    },
    {
      "cell_type": "code",
      "source": [
        "print(inator_inator(\"Shrink\") )\n",
        "print(inator_inator(\"Doom\"))\n",
        "print(inator_inator(\"EvilClone\"))"
      ],
      "metadata": {
        "outputId": "70cd300a-9aa4-4a9f-fea0-24ec3256833a",
        "colab": {
          "base_uri": "https://localhost:8080/"
        },
        "id": "Y13yJ79oKnwY"
      },
      "execution_count": null,
      "outputs": [
        {
          "output_type": "stream",
          "name": "stdout",
          "text": [
            "Shrinkinator 12000\n",
            "Doominator 10000\n",
            "EvilClone-inator 16000\n"
          ]
        }
      ]
    },
    {
      "cell_type": "code",
      "source": [
        "s = 'Shrink'\n",
        "resultado = [s]\n",
        "resultado.append(\"inator\")\n",
        "resultado"
      ],
      "metadata": {
        "id": "Q2aAZZ0KRLku",
        "outputId": "5094f9c6-346e-494c-c395-3c5bd5fc8177",
        "colab": {
          "base_uri": "https://localhost:8080/"
        }
      },
      "execution_count": null,
      "outputs": [
        {
          "output_type": "execute_result",
          "data": {
            "text/plain": [
              "['Shrink', 'inator']"
            ]
          },
          "metadata": {},
          "execution_count": 26
        }
      ]
    },
    {
      "cell_type": "markdown",
      "source": [
        "## Reto 325: Uno Impar y Uno Par\n",
        "* One Odd and One Even\n",
        "* Dado un número de dos dígitos, devuelve `True` si ese número contiene un dígito par y un dígito impar.\n",
        "* Ejemplos:\n",
        "    1. uno_par_uno_impar(12) ➞ True\n",
        "    2. uno_par_uno_impar(55) ➞ False\n",
        "    3. uno_par_uno_impar(82) ➞ False"
      ],
      "metadata": {
        "id": "T8V_iRmAKn3w"
      }
    },
    {
      "cell_type": "code",
      "source": [
        "# Método 1\n",
        "def uno_par_uno_impar(n):\n",
        "    primero_impar = n % 2\n",
        "    n = n // 10\n",
        "    segundo_impar = n % 2\n",
        "    return segundo_impar + primero_impar == 1\n",
        "\n",
        "# Método 2\n",
        "def uno_par_uno_impar(n):\n",
        "    s = str(n)\n",
        "    return (int(s[0]) % 2 == 0 and int(s[1]) % 2 != 0) or (int(s[0]) % 2 != 0 and int(s[1]) % 2 == 0)\n",
        "\n",
        "# Método 3\n",
        "def uno_par_uno_impar(n):\n",
        "    digito1, digito2 = divmod(n, 10)\n",
        "    return bool((digito1 % 2) ^ (digito2 % 2))\n",
        "\n",
        "# Método 4\n",
        "def uno_par_uno_impar(n):\n",
        "    digitos = list(map(int, str(n)))\n",
        "    return (digitos[0] % 2 != digitos[1] % 2)\n",
        "\n",
        "# Método 5\n",
        "def uno_par_uno_impar(n):\n",
        "    return ((n // 10) % 2) != (n % 10 % 2)"
      ],
      "metadata": {
        "id": "7nSevqB9Kn3w"
      },
      "execution_count": null,
      "outputs": []
    },
    {
      "cell_type": "code",
      "source": [
        "print(uno_par_uno_impar(12))\n",
        "print(uno_par_uno_impar(55))\n",
        "print(uno_par_uno_impar(82))"
      ],
      "metadata": {
        "outputId": "de641b22-08a9-4ad0-aaf4-3443255377a9",
        "colab": {
          "base_uri": "https://localhost:8080/"
        },
        "id": "lktCHj7YKn3w"
      },
      "execution_count": null,
      "outputs": [
        {
          "output_type": "stream",
          "name": "stdout",
          "text": [
            "True\n",
            "False\n",
            "False\n"
          ]
        }
      ]
    },
    {
      "cell_type": "markdown",
      "source": [
        "## Reto 326: Aplanar la Curva\n",
        "* Flatten the Curve\n",
        "* Dada una lista de números enteros, la función debe reemplazar cada número por la media de todos los números.\n",
        "* Ejemplos:\n",
        "    1. aplanar([1, 2, 3, 4, 5]) ➞ [3, 3, 3, 3, 3]\n",
        "    2. aplanar([0, 0, 0, 2, 7, 3]) ➞ [2, 2, 2, 2, 2, 2]\n",
        "    3. aplanar([4]) ➞ [4]\n",
        "    4. aplanar([]) ➞ []\n",
        "\n",
        "* Redondear los promedios a 1 decimal.\n",
        "* Devuelva una lista vacía si le dan una lista vacía."
      ],
      "metadata": {
        "id": "RnLWlqM2Kn-w"
      }
    },
    {
      "cell_type": "code",
      "source": [
        "# Método 1\n",
        "def aplanar(lista):\n",
        "    if not lista:  # Verifica si la lista está vacía\n",
        "        return []\n",
        "    n = len(lista)\n",
        "    media = sum(lista) / n\n",
        "    return [round(media, 1)] * n\n",
        "\n",
        "# Método 2\n",
        "def aplanar(lista):\n",
        "    if not lista:\n",
        "        return []\n",
        "    promedio = sum(lista) / len(lista)\n",
        "    return [round(promedio, 1) for _ in lista]"
      ],
      "metadata": {
        "id": "STVb36_TKn-x"
      },
      "execution_count": null,
      "outputs": []
    },
    {
      "cell_type": "code",
      "source": [
        "print(aplanar([1, 2, 3, 4, 5]))\n",
        "print(aplanar([0, 0, 0, 2, 7, 3]))\n",
        "print(aplanar([4]))\n",
        "print(aplanar([]))"
      ],
      "metadata": {
        "outputId": "96f9c7e2-54e5-4c2b-9d95-db96da274a1a",
        "colab": {
          "base_uri": "https://localhost:8080/"
        },
        "id": "U4SEBOxEKn-x"
      },
      "execution_count": null,
      "outputs": [
        {
          "output_type": "stream",
          "name": "stdout",
          "text": [
            "[3.0, 3.0, 3.0, 3.0, 3.0]\n",
            "[2.0, 2.0, 2.0, 2.0, 2.0, 2.0]\n",
            "[4.0]\n",
            "[]\n"
          ]
        }
      ]
    },
    {
      "cell_type": "markdown",
      "source": [
        "## Reto 327: Función Shhh Silencio\n",
        "* Shhh Be Quiet Function\n",
        "* Escriba una función que elimine todas las letras mayúsculas de una oración, excepto la primera letra, coloque comillas alrededor de la oración y agregue \", susurró el fantasma.\" al final.\n",
        "* Ejemplos:\n",
        "    1. shhh(\"no te ASUSTES\") ➞ '\"No te asustes\", susuró el fantasma.'\n",
        "    2. shhh(\"Eso Es Asombroso\") ➞ '\"Eso es asombroso\", susuró el fantasma.'\n",
        "    3. shhh(\"HI!\") ➞ '\"Hi!\", susuró el fantasma.'\n",
        "    4. shhh(\"\") ➞ '\"\", susuró el fantasma.'\n",
        "\n",
        "* No olvides rodear la cadena original con comillas dobles \"\"."
      ],
      "metadata": {
        "id": "832ONO4sKoGG"
      }
    },
    {
      "cell_type": "code",
      "source": [
        "\n",
        "# Método 1\n",
        "def shhh(txt):\n",
        "    if not txt:\n",
        "        return f'\"\", susuró el fantasma.'\n",
        "    txt = txt.capitalize()\n",
        "    return f'\"{txt}\", susuró el fantasma.'\n",
        "\n",
        "# Método 2\n",
        "def shhh(oracion):\n",
        "    if not oracion:\n",
        "        return '\"\", susurró el fantasma.'\n",
        "    primera_letra = oracion[0]\n",
        "    resto_oracion = oracion[1:].lower()\n",
        "    return f'\"{primera_letra.upper()}{resto_oracion}\", susurró el fantasma.'"
      ],
      "metadata": {
        "id": "E0BQn3ihKoGH"
      },
      "execution_count": null,
      "outputs": []
    },
    {
      "cell_type": "code",
      "source": [
        "print(shhh(\"no te ASUSTES\"))\n",
        "print(shhh(\"Eso Es Asombroso\"))\n",
        "print(shhh(\"HI!\"))\n",
        "print(shhh(\"\"))"
      ],
      "metadata": {
        "outputId": "6c4ec3ab-0f79-4f7a-f869-4aa942c15fb7",
        "colab": {
          "base_uri": "https://localhost:8080/"
        },
        "id": "Qbb3wCXPKoGH"
      },
      "execution_count": null,
      "outputs": [
        {
          "output_type": "stream",
          "name": "stdout",
          "text": [
            "\"No te asustes\", susurró el fantasma.\n",
            "\"Eso es asombroso\", susurró el fantasma.\n",
            "\"Hi!\", susurró el fantasma.\n",
            "\"\", susurró el fantasma.\n"
          ]
        }
      ]
    },
    {
      "cell_type": "markdown",
      "source": [
        "## Reto 328: Suma los Dos Dígitos de un Número\n",
        "* Sum of Two Digit Numbers\n",
        "* Para este desafío, se espera que encuentre la suma de los dígitos de un número de dos dígitos.\n",
        "* No puede usar `str`.\n",
        "* Lo que pretende este reto es que lo resuelva matemáticamente.\n",
        "* Tip: `%` `//`\n",
        "* Ejemplos:\n",
        "    1. suma_dos_digitos(45) ➞ 9\n",
        "    2. suma_dos_digitos(38) ➞ 11\n",
        "    3. suma_dos_digitos(67) ➞ 13"
      ],
      "metadata": {
        "id": "xJCspM8XKoNG"
      }
    },
    {
      "cell_type": "code",
      "source": [
        "# Método 1\n",
        "def suma_dos_digitos(numero):\n",
        "    primer_digito = numero // 10\n",
        "    segundo_digito = numero % 10\n",
        "    return primer_digito + segundo_digito\n",
        "\n",
        "# Método 2\n",
        "def suma_dos_digitos(numero):\n",
        "    primer_digito = numero // 10\n",
        "    segundo_digito = numero - primer_digito * 10\n",
        "    return primer_digito + segundo_digito\n",
        "\n",
        "# Método 3\n",
        "def suma_dos_digitos(numero):\n",
        "    primer_digito, segundo_digito = divmod(numero, 10)\n",
        "    return primer_digito + segundo_digito\n",
        "\n",
        "# Método4. Usando str\n",
        "def suma_dos_digitos(numero):\n",
        "    num_str = str(numero)\n",
        "    primer_digito = int(num_str[0])\n",
        "    segundo_digito = int(num_str[1])\n",
        "    return primer_digito + segundo_digito"
      ],
      "metadata": {
        "id": "_v32kvI6KoNH"
      },
      "execution_count": null,
      "outputs": []
    },
    {
      "cell_type": "code",
      "source": [
        "print(suma_dos_digitos(45))\n",
        "print(suma_dos_digitos(38))\n",
        "print(suma_dos_digitos(67))"
      ],
      "metadata": {
        "outputId": "77dfc0c6-ff58-4f77-c73c-d76fb1f15ee7",
        "colab": {
          "base_uri": "https://localhost:8080/"
        },
        "id": "8ZYjTT7PKoNH"
      },
      "execution_count": null,
      "outputs": [
        {
          "output_type": "stream",
          "name": "stdout",
          "text": [
            "9\n",
            "11\n",
            "13\n"
          ]
        }
      ]
    },
    {
      "cell_type": "markdown",
      "source": [
        "## Reto 329: Calcular la Mediana\n",
        "* Calculate the Median\n",
        "* Cree una función que tome una lista de números y devuelva su mediana.\n",
        "* Si la lista de entrada tiene una longitud par, toma el promedio de las dos medianas, de lo contrario, toma la mediana única.\n",
        "* Ejemplos:\n",
        "    1. mediana([2, 5, 6, 2, 6, 3, 4]) ➞ 4\n",
        "    2. mediana([21.4323, 432.54, 432.3, 542.4567]) ➞ 432.42\n",
        "    3. mediana([-23, -43, -29, -53, -67]) ➞ -43\n",
        "\n",
        "* La entrada puede ser cualquier número negativo o positivo.\n",
        "* La lista de entrada contendrá al menos cuatro números."
      ],
      "metadata": {
        "id": "nUPeQYnkKoUO"
      }
    },
    {
      "cell_type": "code",
      "source": [
        "# Método 1\n",
        "def mediana(lista):\n",
        "    n = len(lista)\n",
        "    lista = sorted(lista)\n",
        "    if n % 2 == 0:\n",
        "        return (lista[n//2 -1] + lista[n//2]) / 2\n",
        "    else:\n",
        "        return lista[n//2]\n",
        "\n",
        "# Método 2\n",
        "def mediana(lista):\n",
        "    n = len(lista)\n",
        "    medio = n // 2\n",
        "    lista.sort()\n",
        "    return lista[medio] if n % 2 else (lista[medio -1] + lista[medio]) / 2"
      ],
      "metadata": {
        "id": "uUGTee0EKoUP"
      },
      "execution_count": null,
      "outputs": []
    },
    {
      "cell_type": "code",
      "source": [
        "print(mediana([2, 5, 6, 2, 6, 3, 4]))\n",
        "print(mediana([21.4323, 432.54, 432.3, 542.4567]))\n",
        "print(mediana([-23, -43, -29, -53, -67]))\n",
        "print()"
      ],
      "metadata": {
        "outputId": "07e0754d-52a0-47cd-f2d3-e2c3383ef795",
        "colab": {
          "base_uri": "https://localhost:8080/"
        },
        "id": "okUWzMirKoUP"
      },
      "execution_count": null,
      "outputs": [
        {
          "output_type": "stream",
          "name": "stdout",
          "text": [
            "4\n",
            "432.42\n",
            "-43\n",
            "\n"
          ]
        }
      ]
    },
    {
      "cell_type": "markdown",
      "source": [
        "## Reto 330: El Caracol Sube las Escaleras\n",
        "* Snail Goes Up the Stairs\n",
        "* Un caracol sube las escaleras.\n",
        "* En cada paso, debe subir el escalón y luego cruzar hacia el siguiente escalón. Quiere alcanzar la cima de la torre.\n",
        "* Escriba una función que devuelva la distancia que el caracol debe recorrer hasta la cima de la torre, dada la altura y la longitud de cada escalón, y la altura de la torre.\n",
        "* Ejemplos:\n",
        "    1. distancia_total(0.2, 0.4, 100.0) ➞ 300.0\n",
        "    2. distancia_total(0.3, 0.2, 25.0) ➞ 41.7\n",
        "    3. distancia_total(0.1, 0.1, 6.0) ➞ 12.0\n",
        "\n",
        "* Todos los valores dados son mayores que 0.\n",
        "* Redondee las respuestas al décimo más cercano (0.1).\n",
        "* El número de escalones está determinado por la altura de la torre dividida por la altura de cada escalón.\n",
        "* Para los propósitos de este ejercicio, la longitud del último escalón debe contarse para completar el recorrido."
      ],
      "metadata": {
        "id": "HzSaoplCKobL"
      }
    },
    {
      "cell_type": "code",
      "source": [
        "# Método 1\n",
        "def distancia_total(alto, largo, torre):\n",
        "    num_escalones = torre / alto\n",
        "    distancia_horizontal = num_escalones * largo\n",
        "    distancia_vertical = torre\n",
        "    return round(distancia_horizontal + distancia_vertical, 1)\n",
        "\n",
        "# Método 2\n",
        "def distancia_total(alto, largo, torre):\n",
        "    escalones = torre / alto\n",
        "    return f\"{escalones * (alto + largo):.1f}\"\n",
        "\n",
        "# Método 3\n",
        "def distancia_total(alto, largo, torre):\n",
        "    escalones = int(torre / alto) # es necesario que sea int para luego usarlo en el range\n",
        "    distancias = [(alto + largo) for _ in range(escalones)]\n",
        "    return round(sum(distancias), 1)"
      ],
      "metadata": {
        "id": "tKlIIYbzKobL"
      },
      "execution_count": null,
      "outputs": []
    },
    {
      "cell_type": "code",
      "source": [
        "print(distancia_total(0.2, 0.4, 100.0))\n",
        "print(distancia_total(0.3, 0.2, 25.0))\n",
        "print(distancia_total(0.1, 0.1, 6.0))"
      ],
      "metadata": {
        "outputId": "4a5381d7-584f-4803-82e8-37fa6dd44e2e",
        "colab": {
          "base_uri": "https://localhost:8080/"
        },
        "id": "seBvcKEyKobL"
      },
      "execution_count": null,
      "outputs": [
        {
          "output_type": "stream",
          "name": "stdout",
          "text": [
            "300.0\n",
            "41.5\n",
            "12.0\n"
          ]
        }
      ]
    },
    {
      "cell_type": "markdown",
      "source": [
        "## Reto 331: Edición de Vocales\n",
        "* Fix the Error: Vowel Edition\n",
        "* Tu amigo está intentando escribir una función que elimina todas las vocales de una cadena.\n",
        "* Él escribe:\n",
        "```python\n",
        "def eliminar_vocales(string):\n",
        "    vocales = \"aeiou\"\n",
        "    for vocal in vocales[1]:\n",
        "        string.replace(vocal, \"\", 1)\n",
        "    return string\n",
        "```\n",
        "* Sin embargo, parece que no funciona correctamente.\n",
        "* Arregla el código de tu amigo para que realmente elimine todas las vocales.\n",
        "* Ejemplos:\n",
        "    1. eliminar_vocales(\"bien\") ➞ \"bn\"\n",
        "    2. eliminar_vocales(\"hola\") ➞ \"hl\"\n",
        "    3. eliminar_vocales(\"apple\") ➞ \"appl\"\n",
        "    4. eliminar_vocales(\"banana\") ➞ \"bnn\"\n",
        "\n",
        "* Todas las letras estarán en minúsculas."
      ],
      "metadata": {
        "id": "-DZInlQWKoiM"
      }
    },
    {
      "cell_type": "code",
      "source": [
        "# Método 1\n",
        "def eliminar_vocales(string):\n",
        "    vocales = \"aeiou\"\n",
        "    for vocal in vocales:\n",
        "        string = string.replace(vocal, \"\")\n",
        "    return string\n",
        "\n",
        "# Método 2\n",
        "def eliminar_vocales(string):\n",
        "    vocales = \"aeiou\"\n",
        "    return ''.join([char for char in string if char not in vocales])\n",
        "\n",
        "# Método 3\n",
        "def eliminar_vocales(string):\n",
        "    vocales = set(\"aeiou\")\n",
        "    return ''.join(filter(lambda x: x not in vocales, string))\n",
        "\n",
        "# Método 4\n",
        "import re\n",
        "\n",
        "def eliminar_vocales(string):\n",
        "    return re.sub(r'[aeiou]', '', string)"
      ],
      "metadata": {
        "id": "yg3SjDKEKoiN"
      },
      "execution_count": null,
      "outputs": []
    },
    {
      "cell_type": "code",
      "source": [
        "print(eliminar_vocales(\"bien\"))\n",
        "print(eliminar_vocales(\"hola\"))\n",
        "print(eliminar_vocales(\"apple\"))\n",
        "print(eliminar_vocales(\"banana\"))"
      ],
      "metadata": {
        "outputId": "b04ef671-3c2c-4a11-da35-4fdd56de7e42",
        "colab": {
          "base_uri": "https://localhost:8080/"
        },
        "id": "tpaftXVGKoiN"
      },
      "execution_count": null,
      "outputs": [
        {
          "output_type": "stream",
          "name": "stdout",
          "text": [
            "bn\n",
            "hl\n",
            "ppl\n",
            "bnn\n"
          ]
        }
      ]
    },
    {
      "cell_type": "markdown",
      "source": [
        "## Reto 332: Contar las Torres\n",
        "* Count the Towers\n",
        "* Cree una función que cuente el número de torres.\n",
        "* Ejemplos:\n",
        "    1. <pre>contar_torres([\n",
        "        [\"     ##         \"],\n",
        "        [\"##   ##        ##\"],\n",
        "        [\"##   ##   ##   ##\"],\n",
        "        [\"##   ##   ##   ##\"]\n",
        "        ]) ➞ 4</pre>\n",
        "    2. <pre>contar_torres([\n",
        "        [\"                         ##\"],\n",
        "        [\"##             ##   ##   ##\"],\n",
        "        [\"##        ##   ##   ##   ##\"],\n",
        "        [\"##   ##   ##   ##   ##   ##\"]\n",
        "        ]) ➞ 6</pre>\n",
        "    3. <pre>contar_torres([\n",
        "        [\"##\"],\n",
        "        [\"##\"]\n",
        "        ]) ➞ 1</pre>\n",
        "    4. <pre>contar_torres([\n",
        "        [],\n",
        "        []\n",
        "        ]) ➞ 0</pre>\n",
        "\n",
        "* Se te proporciona una matriz 2D.\n",
        "* Las torres tienen una longitud de dos caracteres.\n",
        "* Las torres están compuestas únicamente del carácter #.\n",
        "* Si en algún caso no hay torre retornar 0."
      ],
      "metadata": {
        "id": "5Bo2CHa-Kopq"
      }
    },
    {
      "cell_type": "code",
      "source": [
        "# Método 1\n",
        "def contar_torres(matriz):\n",
        "    max_parejas = 0\n",
        "    for fila in matriz:\n",
        "        if fila == []:\n",
        "            parejas = 0\n",
        "        else:\n",
        "            parejas = fila[0].count(\"#\")//2\n",
        "        if parejas > max_parejas:\n",
        "            max_parejas = parejas\n",
        "    return max_parejas\n",
        "\n",
        "# Método 2\n",
        "def contar_torres(matriz):\n",
        "    max_parejas = max((fila[0].count('#') // 2) if fila else 0 for fila in matriz)\n",
        "    return max_parejas\n",
        "\n",
        "# Método 3\n",
        "def contar_torres(matriz):\n",
        "    max_parejas = 0\n",
        "    for fila in matriz:\n",
        "        contador_parejas = 0\n",
        "        cadena = ''.join(fila)  # Convertir la lista de caracteres en una cadena\n",
        "        i = 0\n",
        "        while i < len(cadena) - 1:\n",
        "            if cadena[i:i + 2] == '##':\n",
        "                contador_parejas += 1\n",
        "                i += 2  # Saltar al siguiente par de caracteres\n",
        "            else:\n",
        "                i += 1  # Moverse al siguiente carácter\n",
        "        max_parejas = max(max_parejas, contador_parejas)\n",
        "    return max_parejas\n",
        "\n",
        "# Método 4. Heciendo un split por los \"##\"\n",
        "def contar_torres(matriz):\n",
        "    max_parejas = 0\n",
        "    for fila in matriz:\n",
        "        if fila:\n",
        "            parejas = len(fila[0].split('##')) - 1\n",
        "            max_parejas = max(max_parejas, parejas)\n",
        "    return max_parejas\n",
        "\n",
        "# Método5. Haciendo un split por un espacio obtenemos una lista\n",
        "def contar_torres(matriz):\n",
        "    max_parejas = 0\n",
        "    for fila in matriz:\n",
        "        if fila:\n",
        "            lista = fila[0].split(' ')  # haciendo un split por un espacio\n",
        "            # print('lista:', lista)\n",
        "            parejas = sum(e != '' for e in lista)   # da el número de cadenas no vacías\n",
        "            #print('parejas:', parejas)\n",
        "            max_parejas = max(max_parejas, parejas)\n",
        "    return max_parejas\n",
        "\n",
        "# La variable 'parejas' también podría ser cualquiera de estas dos:\n",
        "#parejas = sum(1 for elemento in lista if elemento == '##')\n",
        "#parejas = sum(e == '##' for e in lista)"
      ],
      "metadata": {
        "id": "Y1Nrd_i3Kopq"
      },
      "execution_count": null,
      "outputs": []
    },
    {
      "cell_type": "code",
      "source": [
        "print(contar_torres([[\"     ##         \"], [\"##   ##        ##\"], [\"## ## ## ##\"], [\"## ## ## ##\"]]))\n",
        "print(contar_torres([[\"                         ##\"], [\"##             ##   ##   ##\"], [\"##        ##   ##   ##   ##\"], [\"## ## ## ## ## ##\"]]))\n",
        "print(contar_torres([[\"##\"],[\"##\"]]))\n",
        "print(contar_torres([[], []]))"
      ],
      "metadata": {
        "outputId": "ecf86f36-d7b2-4dce-bd2b-823f0de6451d",
        "colab": {
          "base_uri": "https://localhost:8080/"
        },
        "id": "0-U2rgBhKopq"
      },
      "execution_count": null,
      "outputs": [
        {
          "output_type": "stream",
          "name": "stdout",
          "text": [
            "4\n",
            "6\n",
            "1\n",
            "0\n"
          ]
        }
      ]
    },
    {
      "cell_type": "markdown",
      "source": [
        "## Reto 333: ¿Las letras de la segunda cadena están presentes en la primera?\n",
        "* Are Letters in the Second String Present in the First?\n",
        "* Crear una función que acepte una lista de dos cadenas y verifique si todas las letras de la segunda cadena están presentes en la primera cadena.\n",
        "* Ejemplos:\n",
        "    1. comprobar_letras([\"trances\", \"nectar\"]) ➞ True\n",
        "    2. comprobar_letras([\"compadres\", \"DRAPES\"]) ➞ True\n",
        "    3. comprobar_letras([\"parses\", \"parsecs\"]) ➞ False\n",
        "\n",
        "* La función no debe ser sensible a mayúsculas o minúsculas.\n",
        "* Ambas cadenas se presentan como un solo argumento en forma de lista.\n",
        "* Resolverlo sin usar expresiones regulares."
      ],
      "metadata": {
        "id": "LxrjHWwDKowp"
      }
    },
    {
      "cell_type": "code",
      "source": [
        "# Método 1\n",
        "def comprobar_letras(lista):\n",
        "    primera = lista[0].lower()\n",
        "    segunda = lista[1].lower()\n",
        "    conjunto1 = set(primera)\n",
        "    conjunto2 = set(segunda)\n",
        "    return conjunto2.issubset(conjunto1)\n",
        "\n",
        "# Método 2\n",
        "def comprobar_letras(lista):\n",
        "    cadena1 = lista[0].lower()\n",
        "    cadena2 = lista[1].lower()\n",
        "    # Verificar si todas las letras de la 2ª cadena están presentes en la 1ª\n",
        "    for letra in cadena2:\n",
        "        if letra not in cadena1:\n",
        "            return False\n",
        "    return True"
      ],
      "metadata": {
        "id": "zkeO2hOuKowp"
      },
      "execution_count": null,
      "outputs": []
    },
    {
      "cell_type": "code",
      "source": [
        "print(comprobar_letras([\"trances\", \"nectar\"]))\n",
        "print(comprobar_letras([\"compadres\", \"DRAPES\"]))\n",
        "print(comprobar_letras([\"parses\", \"parsecs\"]))"
      ],
      "metadata": {
        "outputId": "b66f067e-77de-47da-e7bd-3c2cc1ba01fb",
        "colab": {
          "base_uri": "https://localhost:8080/"
        },
        "id": "eAdJYEaPKowp"
      },
      "execution_count": null,
      "outputs": [
        {
          "output_type": "stream",
          "name": "stdout",
          "text": [
            "True\n",
            "True\n",
            "False\n"
          ]
        }
      ]
    },
    {
      "cell_type": "markdown",
      "source": [
        "## Reto 334: Intercambio\n",
        "* Switcharoo\n",
        "* Cree una función que tome una cadena y devuelva una nueva cadena con sus primeros y últimos caracteres intercambiados, excepto bajo tres condiciones:\n",
        "    1. Si la longitud de la cadena es menor que dos, devuelve \"Incompatible.\".\n",
        "    2. Si el argumento no es una cadena, devuelve \"Incompatible.\".\n",
        "    3. Si los primeros y últimos caracteres son iguales, devuelve \"Dos iguales.\".\n",
        "* Ejemplos:\n",
        "    1. intercambiar_extremos(\"asimétrico juez.\") ➞ \".simétrico jueza\"\n",
        "    2. intercambiar_extremos(\"ada\") ➞ \"Dos iguales.\"\n",
        "    3. intercambiar_extremos(\"Ada\") ➞ \"adA\"\n",
        "    4. intercambiar_extremos(\"z\") ➞ \"Incompatible.\"\n",
        "    5. intercambiar_extremos([1, 2, 3]) ➞ \"Incompatible.\"\n",
        "\n",
        "* Se ha de distinguir entre mayúsculas y minúsculas."
      ],
      "metadata": {
        "id": "DnRRqs3jKo4i"
      }
    },
    {
      "cell_type": "code",
      "source": [
        "# Método 1\n",
        "def intercambiar_extremos(cadena):\n",
        "    if not type(cadena) == str:\n",
        "        return \"Incompatible.\"\n",
        "    if len(cadena) < 2:\n",
        "        return \"Incompatible.\"\n",
        "    if cadena[0] == cadena[-1]:\n",
        "        return \"Dos iguales.\"\n",
        "    lista = list(cadena)\n",
        "    lista[0], lista[-1] = lista[-1], lista[0]\n",
        "    return ''.join(lista)\n",
        "\n",
        "# Método 2\n",
        "def intercambiar_extremos(cadena):\n",
        "    if not isinstance(cadena, str) or len(cadena) < 2:\n",
        "        return \"Incompatible.\"\n",
        "    elif cadena[0] == cadena[-1]:\n",
        "        return \"Dos iguales.\"\n",
        "    else:\n",
        "        return cadena[-1] + cadena[1:-1] + cadena[0]"
      ],
      "metadata": {
        "id": "_M8i7Ed9Ko4j"
      },
      "execution_count": null,
      "outputs": []
    },
    {
      "cell_type": "code",
      "source": [
        "print(intercambiar_extremos(\"asimétrico juez.\"))\n",
        "print(intercambiar_extremos(\"ada\"))\n",
        "print(intercambiar_extremos(\"Ada\"))\n",
        "print(intercambiar_extremos(\"z\"))\n",
        "print(intercambiar_extremos([1, 2, 3]))"
      ],
      "metadata": {
        "outputId": "9a5eb064-fa8d-40e8-9c88-b330f845e65b",
        "colab": {
          "base_uri": "https://localhost:8080/"
        },
        "id": "fIID2SlmKo4j"
      },
      "execution_count": null,
      "outputs": [
        {
          "output_type": "stream",
          "name": "stdout",
          "text": [
            ".simétrico jueza\n",
            "Dos iguales.\n",
            "adA\n",
            "Incompatible.\n",
            "Incompatible.\n"
          ]
        }
      ]
    },
    {
      "cell_type": "markdown",
      "source": [
        "## Reto 335: Determina si dos números suman un valor objetivo\n",
        "* Determine If Two Numbers Add up to a Target Value\n",
        "* Dadas dos listas únicas de enteros, `a` y `b`, y un valor objetivo entero `v`, cree una función para determinar si existe un par de números que sumen el valor objetivo `v`, donde un número proviene de la lista `a` y el otro proviene de la segunda lista `b`.\n",
        "* Retorna `True` si existe un par que sume el valor objetivo y `False` en caso contrario.\n",
        "* Ejemplos:\n",
        "    1. suma_de_dos([1, 2], [4, 5, 6], 5) ➞ True\n",
        "    2. suma_de_dos([1, 2], [4, 5, 6], 8) ➞ True\n",
        "    3. suma_de_dos([1, 2], [4, 5, 6], 3) ➞ False\n",
        "    4. suma_de_dos([1, 2], [4, 5, 6], 9) ➞ False"
      ],
      "metadata": {
        "id": "euSFDGdQKo_w"
      }
    },
    {
      "cell_type": "code",
      "source": [
        "# Método 1\n",
        "def suma_de_dos(a, b, v):\n",
        "    for num_a in a:\n",
        "        for num_b in b:\n",
        "            if num_a + num_b == v:\n",
        "                return True\n",
        "    return False\n",
        "\n",
        "# Método 2\n",
        "def suma_de_dos(a, b, v):\n",
        "    sumas = []\n",
        "    for num_a in a:\n",
        "        for num_b in b:\n",
        "            sumas.append(num_a + num_b)\n",
        "    return v in sumas\n",
        "\n",
        "# Método 3\n",
        "def suma_de_dos(a, b, v):\n",
        "    set_a = set(a)\n",
        "    for num in b:\n",
        "        complement = v - num\n",
        "        if complement in set_a:\n",
        "            return True\n",
        "    return False\n",
        "\n",
        "# Método 4\n",
        "suma_de_dos = lambda a, b, v: any(v - num in b for num in a)"
      ],
      "metadata": {
        "id": "SHftnwbyKo_w"
      },
      "execution_count": null,
      "outputs": []
    },
    {
      "cell_type": "code",
      "source": [
        "print(suma_de_dos([1, 2], [4, 5, 6], 5))\n",
        "print(suma_de_dos([1, 2], [4, 5, 6], 8))\n",
        "print(suma_de_dos([1, 2], [4, 5, 6], 3))\n",
        "print(suma_de_dos([1, 2], [4, 5, 6], 9))"
      ],
      "metadata": {
        "outputId": "ebd446a3-ec71-4db6-e2a9-06ac9f88d2fd",
        "colab": {
          "base_uri": "https://localhost:8080/"
        },
        "id": "CN1oJKoFKo_w"
      },
      "execution_count": null,
      "outputs": [
        {
          "output_type": "stream",
          "name": "stdout",
          "text": [
            "True\n",
            "True\n",
            "False\n",
            "False\n"
          ]
        }
      ]
    },
    {
      "cell_type": "markdown",
      "source": [
        "## Reto 336: Distribución de frecuencia\n",
        "* Frequency Distribution\n",
        "* Cree una función que devuelva la distribución de frecuencia de una lista.\n",
        "* Esta función debería retornar un diccionario, donde las claves sean los elementos únicos y los valores sean la frecuencia en la que esos elementos ocurren.\n",
        "* Ejemplos:\n",
        "    1. obtener_frecuencias([\"A\", \"B\", \"A\", \"A\", \"A\"]) ➞ { \"A\" : 4, \"B\" : 1 }\n",
        "    2. obtener_frecuencias([1, 2, 3, 3, 2]) ➞ { 1: 1, 2: 2, 3: 2 }\n",
        "    3. obtener_frecuencias([True, False, True, False, False]) ➞ { True: 2, False: 3 }\n",
        "    4. obtener_frecuencias([]) ➞ {}\n",
        "\n",
        "* Si se proporciona una lista vacía, retorna un diccionario vacío.\n",
        "* El diccionario debe estar en el mismo orden que la lista de entrada."
      ],
      "metadata": {
        "id": "zPdqxsr6KpGz"
      }
    },
    {
      "cell_type": "code",
      "source": [
        "# A partir de la versión 3.7 de Python,\n",
        "# los diccionarios mantienen el orden de inserción de sus elementos.\n",
        "\n",
        "# Método 1\n",
        "def obtener_frecuencias(lista):\n",
        "    frecuencias = {}\n",
        "    elementos_unicos = set(lista)  # con set no se garantiza el orden\n",
        "    for elemento in elementos_unicos:\n",
        "        frecuencias[elemento] = lista.count(elemento)\n",
        "    return frecuencias\n",
        "\n",
        "# Método 2\n",
        "def obtener_frecuencias(lista):\n",
        "    return {k: lista.count(k) for k in set(lista)}  # usa set\n",
        "\n",
        "# Método 3\n",
        "def obtener_frecuencias(lista):\n",
        "    if not lista:\n",
        "        return []\n",
        "    claves = []\n",
        "    for elemento in lista:  # ahora si garantizamos el orden\n",
        "        if elemento not in claves:\n",
        "            claves.append(elemento)\n",
        "    frecuencias = [0] * len(claves)\n",
        "    for i, clave in enumerate(claves):\n",
        "        frecuencias[i] = lista.count(clave)\n",
        "    d = dict(zip(claves, frecuencias))\n",
        "    return d\n",
        "\n",
        "# Método 4\n",
        "def obtener_frecuencias(lista):\n",
        "    frecuencias = {}\n",
        "    for elemento in lista:\n",
        "        if elemento in frecuencias:\n",
        "            frecuencias[elemento] += 1\n",
        "        else:\n",
        "            frecuencias[elemento] = 1\n",
        "    return frecuencias\n",
        "\n",
        "# Método 5\n",
        "from collections import Counter\n",
        "\n",
        "def obtener_frecuencias(lista):\n",
        "    return dict(Counter(lista))\n",
        "\n",
        "# Método 6. Usando Dictionary Comprehension\n",
        "def obtener_frecuencias(lista):\n",
        "    return {k: lista.count(k) for k in lista}"
      ],
      "metadata": {
        "id": "6yZmXAEcKpGz"
      },
      "execution_count": null,
      "outputs": []
    },
    {
      "cell_type": "code",
      "source": [
        "print(obtener_frecuencias([\"A\", \"B\", \"A\", \"A\", \"A\"]))\n",
        "print(obtener_frecuencias([1, 2, 3, 3, 2]))\n",
        "print(obtener_frecuencias([True, False, True, False, False]))\n",
        "print(obtener_frecuencias([]))"
      ],
      "metadata": {
        "outputId": "429b1f14-f397-42c6-9605-dbade7e59398",
        "colab": {
          "base_uri": "https://localhost:8080/"
        },
        "id": "Jfj7_lnEKpGz"
      },
      "execution_count": null,
      "outputs": [
        {
          "output_type": "stream",
          "name": "stdout",
          "text": [
            "{'A': 4, 'B': 1}\n",
            "{1: 1, 2: 2, 3: 2}\n",
            "{False: 3, True: 2}\n",
            "{}\n"
          ]
        }
      ]
    },
    {
      "cell_type": "markdown",
      "source": [
        "## Reto 337: Bucles anidados\n",
        "* Intro to Nested Loops\n",
        "* Imagine una escuela a la que los niños asisten durante 6 años.\n",
        "* En cada año, hay cinco grupos que comienzan, marcados con las letras a, b, c, d, e.\n",
        "* Para el primer año, los grupos son 1a, 1b, 1c, 1d, 1e y para el último año, los grupos son 6a, 6b, 6c, 6d, 6e.\n",
        "* Escriba una función que devuelva los grupos en la escuela por año (como una cadena de texto), separados por una coma y un espacio en la forma de \"1a, 1b, 1c, 1d, 1e, 2a, 2b (....) 5d, 5e, 6a, 6b, 6c, 6d, 6e\".\n",
        "* Ejemplos:\n",
        "    - imprimir_todos() ➞ \"1a, 1b, 1c, 1d, 1e, 2a, 2b, 2c, 2d, 2e, 3a, 3b, 3c, 3d, 3e, 4a, 4b, 4c, 4d, 4e, 5a, 5b, 5c, 5d, 5e, 6a, 6b, 6c, 6d, 6e\"\n",
        "\n",
        "* Utilice bucles `for` anidados para lograr esto, así como el arreglo de grupos [\"a\", \"b\", \"c\", \"d\", \"e\"].\n",
        "\n",
        "\n",
        "\n",
        "\n",
        "\n",
        "\n"
      ],
      "metadata": {
        "id": "Rql1-sTrKpOO"
      }
    },
    {
      "cell_type": "code",
      "source": [
        "# Método 1\n",
        "def imprimir_todos():\n",
        "    texto = \"\"\n",
        "    for i in range(1, 7):\n",
        "        for grupo in [\"a\", \"b\", \"c\", \"d\", \"e\"]:\n",
        "            texto += f\"{i}{grupo}, \"\n",
        "    return texto[:-2]\n",
        "\n",
        "# Método 2\n",
        "def imprimir_todos():\n",
        "    grupos = [\"a\", \"b\", \"c\", \"d\", \"e\"]\n",
        "    return ', '.join([f\"{i}{grupo}\" for i in range(1, 7) for grupo in grupos])"
      ],
      "metadata": {
        "id": "6kVsD7F1KpOP"
      },
      "execution_count": null,
      "outputs": []
    },
    {
      "cell_type": "code",
      "source": [
        "imprimir_todos()"
      ],
      "metadata": {
        "outputId": "2bcab2e0-5b9e-43db-bd3c-df4d50175910",
        "colab": {
          "base_uri": "https://localhost:8080/",
          "height": 35
        },
        "id": "Zpk_xc2UKpOP"
      },
      "execution_count": null,
      "outputs": [
        {
          "output_type": "execute_result",
          "data": {
            "text/plain": [
              "'1a, 1b, 1c, 1d, 1e, 2a, 2b, 2c, 2d, 2e, 3a, 3b, 3c, 3d, 3e, 4a, 4b, 4c, 4d, 4e, 5a, 5b, 5c, 5d, 5e, 6a, 6b, 6c, 6d, 6e'"
            ],
            "application/vnd.google.colaboratory.intrinsic+json": {
              "type": "string"
            }
          },
          "metadata": {},
          "execution_count": 39
        }
      ]
    },
    {
      "cell_type": "markdown",
      "source": [
        "## Reto 338: Duración del Video en Segundos\n",
        "* Se proporciona la duración de un video en minutos.\n",
        "* El formato es `mm:ss` (por ejemplo: \"02:54\").\n",
        "* Cree una función que tome la duración del video y la devuelva en segundos.\n",
        "* Ejemplos:\n",
        "    1. minutos_a_segundos(\"01:00\") ➞ 60\n",
        "    2. minutos_a_segundos(\"13:56\") ➞ 836\n",
        "    3. minutos_a_segundos(\"121:49\") ➞ 7309\n",
        "    3. minutos_a_segundos(\"10:60\") ➞ False\n",
        "* La duración del video se proporciona como una cadena.\n",
        "* Si el número de segundos es 60 o más, devuelve `False`."
      ],
      "metadata": {
        "id": "PAk-cfI8KpUf"
      }
    },
    {
      "cell_type": "code",
      "source": [
        "# Método 1\n",
        "def minutos_a_segundos(cadena):\n",
        "    lista = cadena.split(':')\n",
        "    minutos, segundos = int(lista[0]), int(lista[1])\n",
        "    if segundos >= 60:\n",
        "        return False\n",
        "    else:\n",
        "        return minutos * 60 + segundos\n",
        "\n",
        "# Método 2\n",
        "def minutos_a_segundos(cadena):\n",
        "    try:\n",
        "        minutos, segundos = map(int, cadena.split(':'))\n",
        "        if segundos >= 60:\n",
        "            return False\n",
        "        total_segundos = minutos * 60 + segundos\n",
        "        return total_segundos\n",
        "    except ValueError:\n",
        "        return False"
      ],
      "metadata": {
        "id": "PKaiSAOtKpUg"
      },
      "execution_count": null,
      "outputs": []
    },
    {
      "cell_type": "code",
      "source": [
        "print(minutos_a_segundos(\"01:00\"))\n",
        "print(minutos_a_segundos(\"13:56\"))\n",
        "print(minutos_a_segundos(\"121:49\"))\n",
        "print(minutos_a_segundos(\"10:60\"))"
      ],
      "metadata": {
        "outputId": "1288b736-6697-422c-8530-c075368fbbac",
        "colab": {
          "base_uri": "https://localhost:8080/"
        },
        "id": "ptcpWbCsKpUg"
      },
      "execution_count": null,
      "outputs": [
        {
          "output_type": "stream",
          "name": "stdout",
          "text": [
            "60\n",
            "836\n",
            "7309\n",
            "False\n"
          ]
        }
      ]
    },
    {
      "cell_type": "markdown",
      "source": [
        "## Reto 339: Invertir el Orden de las Palabras con Cinco Letras o Más\n",
        "* Escriba una función que tome una cadena de una o más palabras como argumento y devuelva la misma cadena, pero con todas las palabras de cinco letras o más invertidas.\n",
        "* Las cadenas proporcionadas solo contendrán letras y espacios.\n",
        "* Los espacios estarán incluidos solo cuando haya más de una palabra presente.\n",
        "* Ejemplos:\n",
        "    1. reverso(\"París\") ➞ síraP\n",
        "    2. reverso(\"Esta es la típica fiesta\") ➞ Esta es la acipít atseif\n",
        "    3. reverso(\"El gato se fue\") ➞ El gato se fue\n",
        "\n",
        "\n",
        "\n",
        "\n",
        "\n"
      ],
      "metadata": {
        "id": "L9teesWXKpcp"
      }
    },
    {
      "cell_type": "code",
      "source": [
        "# Método 1\n",
        "def reverso(cadena):\n",
        "    lista = cadena.split()\n",
        "    resultado = []\n",
        "    for palabra in lista:\n",
        "        if len(palabra) >= 5:\n",
        "            resultado.append(palabra[::-1])\n",
        "        else:\n",
        "            resultado.append(palabra)\n",
        "\n",
        "    return ' '.join(resultado)\n",
        "\n",
        "# Método 2\n",
        "def reverso(cadena):\n",
        "    lista = cadena.split()\n",
        "    for i, palabra in enumerate(lista):\n",
        "        if len(palabra) >= 5:\n",
        "            lista[i] = lista[i][::-1]\n",
        "    return ' '.join(lista)\n",
        "\n",
        "# Método 3\n",
        "def reverso(cadena):\n",
        "    return ' '.join([palabra[::-1] if len(palabra) >= 5 else palabra for palabra in cadena.split()])"
      ],
      "metadata": {
        "id": "yFf9jTNSKpcq"
      },
      "execution_count": null,
      "outputs": []
    },
    {
      "cell_type": "code",
      "source": [
        "print(reverso(\"París\"))\n",
        "print(reverso(\"Esta es la típica fiesta\"))\n",
        "print(reverso(\"El gato se fue\"))"
      ],
      "metadata": {
        "outputId": "ff658edf-c4fd-46d0-efe9-7f73ced18d23",
        "colab": {
          "base_uri": "https://localhost:8080/"
        },
        "id": "AHCtvNBdKpcq"
      },
      "execution_count": null,
      "outputs": [
        {
          "output_type": "stream",
          "name": "stdout",
          "text": [
            "síraP\n",
            "Esta es la acipít atseif\n",
            "El gato se fue\n"
          ]
        }
      ]
    },
    {
      "cell_type": "markdown",
      "source": [
        "## Reto 340: Números Harshad\n",
        "* Un número `n` es un [número Harshad](https://es.wikipedia.org/wiki/N%C3%BAmero_de_Harshad) (también llamado número Niven) si es divisible por la suma de sus dígitos.\n",
        "* Por ejemplo, 666 es divisible por 18, (6 + 6 + 6), por lo que es un número Harshad.\n",
        "* Escriba una función para determinar si el número dado es un número Harshad.\n",
        "* Ejemplos:\n",
        "    1. es_harshad(41) ➞ False\n",
        "    2. es_harshad(209) ➞ True\n",
        "    3. es_harshad(666) ➞ True\n",
        "    4. es_harshad(12255) ➞ True\n",
        "    5. es_harshad(916378968) ➞ True"
      ],
      "metadata": {
        "id": "YosjQVodKpmK"
      }
    },
    {
      "cell_type": "code",
      "source": [
        "# Método 1\n",
        "def es_harshad(n):\n",
        "    suma = sum(int(digit) for digit in str(n))\n",
        "    return n % suma == 0\n",
        "\n",
        "# Método 2\n",
        "def es_harshad(n):\n",
        "    suma = sum(map(int, str(n)))\n",
        "    return n % suma == 0\n",
        "\n",
        "# Método 3\n",
        "def es_harshad(n):\n",
        "    suma = 0\n",
        "    temp = n\n",
        "    while temp > 0:\n",
        "        suma += temp % 10\n",
        "        temp //= 10\n",
        "    return n % suma == 0"
      ],
      "metadata": {
        "id": "uVQ5VDeBKpmK"
      },
      "execution_count": null,
      "outputs": []
    },
    {
      "cell_type": "code",
      "source": [
        "print(es_harshad(41))\n",
        "print(es_harshad(209))\n",
        "print(es_harshad(666))\n",
        "print(es_harshad(12255))\n",
        "print(es_harshad(916378968))"
      ],
      "metadata": {
        "outputId": "c505f164-f82c-4c06-a5f3-10a580015959",
        "colab": {
          "base_uri": "https://localhost:8080/"
        },
        "id": "Ps2eZsdtKpmK"
      },
      "execution_count": null,
      "outputs": [
        {
          "output_type": "stream",
          "name": "stdout",
          "text": [
            "False\n",
            "True\n",
            "True\n",
            "True\n",
            "True\n"
          ]
        }
      ]
    },
    {
      "cell_type": "markdown",
      "source": [
        "## Reto 341: Número de factores par o impar\n",
        "* Cree una función que devuelva \"par\" si un número tiene un número par de factores e \"impar\" si tiene un número impar de factores.\n",
        "* Ejemplos:\n",
        "    1. grupo_de_factores(33) ➞ \"par\"\n",
        "    2. grupo_de_factores(36) ➞ \"impar\"\n",
        "    3. grupo_de_factores(7) ➞ \"par\"\n",
        "\n",
        "* No es necesario calcular realmente los factores para resolver este problema.\n",
        "* Piense en por qué un número tendría un número impar de factores."
      ],
      "metadata": {
        "id": "PitosepGKpt5"
      }
    },
    {
      "cell_type": "code",
      "source": [
        "# Método 1\n",
        "def grupo_de_factores(n):\n",
        "    # Calcula la raíz cuadrada del número para optimizar el proceso\n",
        "    raiz_cuadrada = int(n ** 0.5)\n",
        "\n",
        "    # Verifica si la raíz cuadrada al cuadrado es igual al número original\n",
        "    # Esto se hace para determinar si el número es un cuadrado perfecto\n",
        "    cuadrado_perfecto = raiz_cuadrada ** 2 == n\n",
        "\n",
        "    # Si es un cuadrado perfecto, tiene un número impar de factores, de lo contrario, es par\n",
        "    return \"impar\" if cuadrado_perfecto else \"par\"\n",
        "\n",
        "# Método 2\n",
        "def grupo_de_factores(n):\n",
        "    return \"impar\" if int(n ** 0.5) ** 2 == n else \"par\""
      ],
      "metadata": {
        "id": "uZRg6M2lKpt6"
      },
      "execution_count": null,
      "outputs": []
    },
    {
      "cell_type": "code",
      "source": [
        "print(grupo_de_factores(33))\n",
        "print(grupo_de_factores(36))\n",
        "print(grupo_de_factores(7))"
      ],
      "metadata": {
        "outputId": "14a3b9ee-ee94-4413-dde2-f87ea2caf052",
        "colab": {
          "base_uri": "https://localhost:8080/"
        },
        "id": "MDOD3h_2Kpt6"
      },
      "execution_count": null,
      "outputs": [
        {
          "output_type": "stream",
          "name": "stdout",
          "text": [
            "par\n",
            "impar\n",
            "par\n"
          ]
        }
      ]
    },
    {
      "cell_type": "markdown",
      "source": [
        "## Reto 342: El DECIMADOR\n",
        "* Escriba una función `decimador` que tome una cadena y la decime (es decir, elimine el último 1/10 de los caracteres).\n",
        "* Siempre redondea hacia arriba: si la cadena tiene 21 caracteres, 1/10 de los caracteres serían 2.1 caracteres, por lo tanto, el `decimador` elimina 3 caracteres. ¡El DECIMADOR no muestra piedad!\n",
        "* Ejemplos:\n",
        "    1. decimador(\"1234567890\") ➞ \"123456789\"\n",
        "        * de 10 caracteres, se eliminó 1.\n",
        "    2. decimador(\"1234567890AB\") ➞ \"1234567890\"\n",
        "        * de 12 caracteres, se eliminaron 2.\n",
        "    3. decimador(\"123\") ➞ \"12\"\n",
        "        * de 3 caracteres, se eliminó 1.\n",
        "    4. decimador(\"123456789012345678901\") ➞ \"123456789012345678\"\n",
        "        * de 21 caracteres, se eliminaron 3.\n",
        "* Asegúrese de eliminar caracteres desde el final de la cadena."
      ],
      "metadata": {
        "id": "vdcFJMpaKp1o"
      }
    },
    {
      "cell_type": "code",
      "source": [
        "# Método 1\n",
        "import math\n",
        "\n",
        "def decimador(cadena):\n",
        "    longitud = len(cadena)\n",
        "    decimacion = math.ceil(longitud / 10)\n",
        "    nueva_longitud = longitud - decimacion\n",
        "    return cadena[:nueva_longitud]\n",
        "\n",
        "# Método 2\n",
        "def decimador(cadena):\n",
        "    return cadena[:-len(cadena)//10]"
      ],
      "metadata": {
        "id": "uWq3NoInKp1o"
      },
      "execution_count": null,
      "outputs": []
    },
    {
      "cell_type": "code",
      "source": [
        "print(decimador(\"1234567890\"))\n",
        "print(decimador(\"1234567890AB\"))\n",
        "print(decimador(\"123\"))\n",
        "print(decimador(\"123456789012345678901\"))"
      ],
      "metadata": {
        "outputId": "1b034b46-2874-42d8-fa1e-00d6a07b96cd",
        "colab": {
          "base_uri": "https://localhost:8080/"
        },
        "id": "kttOlKMwKp1p"
      },
      "execution_count": null,
      "outputs": [
        {
          "output_type": "stream",
          "name": "stdout",
          "text": [
            "123456789\n",
            "1234567890\n",
            "12\n",
            "123456789012345678\n"
          ]
        }
      ]
    },
    {
      "cell_type": "markdown",
      "source": [
        "## Reto 343: Suma Acumulativa de la Lista\n",
        "* Cree una función que tome una lista de números y devuelva una lista donde cada número sea la suma de sí mismo + todos los números anteriores en la lista.\n",
        "* Ejemplos:\n",
        "    1. suma_acumulativa([1, 2, 3]) ➞ [1, 3, 6]\n",
        "    2. suma_acumulativa([1, -2, 3]) ➞ [1, -1, 2]\n",
        "    3. suma_acumulativa([3, 3, -2, 408, 3, 3]) ➞ [3, 6, 4, 412, 415, 418]\n",
        "\n",
        "* Devuelve una lista vacía si la entrada es una lista vacía."
      ],
      "metadata": {
        "id": "wePfv6VBKp8_"
      }
    },
    {
      "cell_type": "code",
      "source": [
        "# Método 1\n",
        "def suma_acumulativa(lista):\n",
        "    suma = 0\n",
        "    suma_acumulativa_resultado = []\n",
        "    for numero in lista:\n",
        "        suma += numero\n",
        "        suma_acumulativa_resultado.append(suma)\n",
        "    return suma_acumulativa_resultado\n",
        "\n",
        "# Método 2\n",
        "def suma_acumulativa(lista):\n",
        "    n = len(lista)\n",
        "    result = [lista[0]] * n\n",
        "    for i in range(1, n):\n",
        "        result[i] = result[i-1] + lista[i]\n",
        "    return result\n",
        "\n",
        "# Método 3\n",
        "def suma_acumulativa(lista):\n",
        "    return [sum(lista[:i+1]) for i in range(len(lista))]\n",
        "\n",
        "# Método 4\n",
        "def suma_acumulativa(lista):\n",
        "    return list(map(lambda x: sum(lista[:x+1]), range(len(lista))))"
      ],
      "metadata": {
        "id": "9b5FNW0EKp8_"
      },
      "execution_count": null,
      "outputs": []
    },
    {
      "cell_type": "code",
      "source": [
        "print(suma_acumulativa([1, 2, 3]))\n",
        "print(suma_acumulativa([1, -2, 3]))\n",
        "print(suma_acumulativa([3, 3, -2, 408, 3, 3]))"
      ],
      "metadata": {
        "outputId": "ab2f1605-2822-4ef5-b339-4733a19943af",
        "colab": {
          "base_uri": "https://localhost:8080/"
        },
        "id": "2GjXh5KpKp8_"
      },
      "execution_count": null,
      "outputs": [
        {
          "output_type": "stream",
          "name": "stdout",
          "text": [
            "[1, 3, 6]\n",
            "[1, -1, 2]\n",
            "[3, 6, 4, 412, 415, 418]\n"
          ]
        }
      ]
    },
    {
      "cell_type": "markdown",
      "source": [
        "## Reto 344: Caracteres centrales de una cadena\n",
        "* Cree una función que tome una cadena y devuelva el o los caracteres del medio.\n",
        "* Si la longitud de la palabra es impar, devuelve el carácter del medio.\n",
        "* Si la longitud de la palabra es par, devuelve los dos caracteres del medio.\n",
        "* Ejemplos:\n",
        "    1. central(\"test\") ➞ \"es\"\n",
        "    2. central(\"testing\") ➞ \"t\"\n",
        "    3. central(\"middle\") ➞ \"dd\"\n",
        "    4. central(\"A\") ➞ \"A\"\n",
        "\n",
        "* El argumento de la función en todos los casos contiene una sola palabra."
      ],
      "metadata": {
        "id": "SpLqXAJTKqEY"
      }
    },
    {
      "cell_type": "code",
      "source": [
        "# Método 1\n",
        "def central(cadena):\n",
        "    n = len(cadena)\n",
        "    if n % 2:\n",
        "        return cadena[n//2]        # impar\n",
        "    return cadena[n//2-1: n//2+1]  # par\n",
        "\n",
        "# Método 2\n",
        "def central(palabra):\n",
        "    n = len(palabra)\n",
        "    medio = n // 2\n",
        "    if n % 2 == 0:\n",
        "        return palabra[medio - 1:medio + 1]     # par\n",
        "    else:\n",
        "        return palabra[medio]                   # impar"
      ],
      "metadata": {
        "id": "qTIwj08QKqEY"
      },
      "execution_count": null,
      "outputs": []
    },
    {
      "cell_type": "code",
      "source": [
        "print(central(\"test\"))\n",
        "print(central(\"testing\"))\n",
        "print(central(\"middle\"))\n",
        "print(central(\"A\"))"
      ],
      "metadata": {
        "outputId": "6e4dfcf3-df64-4559-b06b-aa8406be4e5a",
        "colab": {
          "base_uri": "https://localhost:8080/"
        },
        "id": "jNar9W9tKqEY"
      },
      "execution_count": null,
      "outputs": [
        {
          "output_type": "stream",
          "name": "stdout",
          "text": [
            "es\n",
            "t\n",
            "dd\n",
            "A\n"
          ]
        }
      ]
    },
    {
      "cell_type": "markdown",
      "source": [
        "## Reto 345: Prevenir el Colapso del Universo\n",
        "* Dividir por 0 es un error enorme y debe evitarse a toda costa.\n",
        "* Cree una función que, reciba una expresión matemática en forma de cadena.\n",
        "* La función calcula el resultado numérico y lo imprime.\n",
        "* La función previene un posible error de división por cero y en ese caso devuelve la frase \"División por cero\".\n",
        "* Ejemplos:\n",
        "    1. evitar_la_division_por_cero(\"2 / 0\") ➞ \"División por cero\"\n",
        "    2. evitar_la_division_por_cero(\"4 / (2 + 3 - 5)\") ➞ \"División por cero\"\n",
        "    3. evitar_la_division_por_cero(\"2 * 7 - 10\") ➞ 4"
      ],
      "metadata": {
        "id": "6fwglI01KqMZ"
      }
    },
    {
      "cell_type": "code",
      "source": [
        "# Método 1\n",
        "def evitar_la_division_por_cero(expresion):\n",
        "    try:\n",
        "        resultado = eval(expresion)\n",
        "    except ZeroDivisionError:\n",
        "        return \"División por cero\"\n",
        "    return resultado\n",
        "\n",
        "# Método 2\n",
        "def evitar_la_division_por_cero(expresion):\n",
        "    try:\n",
        "        resultado = eval(expresion)\n",
        "        return resultado\n",
        "    except ZeroDivisionError:       # si salta un error de división entre cero\n",
        "        return \"División por cero\"\n",
        "    except Exception:               # en caso de que salte un error más genérico\n",
        "        return \"Error durante la evaluación\""
      ],
      "metadata": {
        "id": "FN7UTQPOKqMa"
      },
      "execution_count": null,
      "outputs": []
    },
    {
      "cell_type": "code",
      "source": [
        "print(evitar_la_division_por_cero(\"2 / 0\"))\n",
        "print(evitar_la_division_por_cero(\"4 / (2 + 3 - 5)\"))\n",
        "print(evitar_la_division_por_cero(\"2 * 7 - 10\"))"
      ],
      "metadata": {
        "outputId": "3f628c55-f4a3-4f08-f095-92f95d5b1b16",
        "colab": {
          "base_uri": "https://localhost:8080/"
        },
        "id": "cf9ThNbAKqMa"
      },
      "execution_count": null,
      "outputs": [
        {
          "output_type": "stream",
          "name": "stdout",
          "text": [
            "División por cero\n",
            "División por cero\n",
            "4\n"
          ]
        }
      ]
    },
    {
      "cell_type": "markdown",
      "source": [
        "## Reto 346: Encontrar el Primer Carácter No Repetido\n",
        "* Cree una función que acepte una cadena como argumento y devuelva el primer carácter no repetido.\n",
        "* Ejemplos:\n",
        "    1. primer_caracter_no_repetido(\"g\") ➞ \"g\"\n",
        "    2. primer_caracter_no_repetido(\"it was then the frothy word met the round night\") ➞ \"a\"\n",
        "    3. primer_caracter_no_repetido(\"the quick brown fox jumps then quickly blows air\") ➞ \"f\"\n",
        "    4. primer_caracter_no_repetido(\"hheelloo\") ➞ False\n",
        "    5. primer_caracter_no_repetido(\"\") ➞ False\n",
        "\n",
        "* Una cadena vacía debería devolver False.\n",
        "* Si cada carácter se repite, devuelve False.\n",
        "* Todas las letras se proporcionrarán en minúsculas.\n",
        "* No considere los caracteres no alfanuméricos."
      ],
      "metadata": {
        "id": "h6_vdNZjKqUK"
      }
    },
    {
      "cell_type": "code",
      "source": [
        "# Método 1\n",
        "def primer_caracter_no_repetido(cadena):\n",
        "    for char in cadena:\n",
        "        if char.isalpha() and cadena.count(char) == 1:\n",
        "            return char\n",
        "    return False\n",
        "\n",
        "# Método 2\n",
        "def primer_caracter_no_repetido(cadena):\n",
        "    frecuencia = {}\n",
        "    for char in cadena:\n",
        "        frecuencia[char] = frecuencia.get(char, 0) + 1\n",
        "    for char in cadena:\n",
        "        if char.isalpha() and frecuencia[char] == 1:\n",
        "            return char\n",
        "    return False\n",
        "\n",
        "#.get(char, 0): es un método de diccionario que devuelve el valor asociado a la clave char.\n",
        "#Sin embargo, si la clave no está presente en el diccionario, en lugar de generar un error,\n",
        "#devuelve el valor predeterminado proporcionado como segundo argumento.\n",
        "#En este caso, si char no está en el diccionario frecuencia, el método devuelve 0."
      ],
      "metadata": {
        "id": "YAMKCtS-KqUK"
      },
      "execution_count": null,
      "outputs": []
    },
    {
      "cell_type": "code",
      "source": [
        "print(primer_caracter_no_repetido(\"g\"))\n",
        "print(primer_caracter_no_repetido(\"no pain no gain\"))\n",
        "print(primer_caracter_no_repetido(\"antes de hablar, piensa, pero antes de pensar, lee.\"))\n",
        "print(primer_caracter_no_repetido(\"aabb\"))\n",
        "print(primer_caracter_no_repetido(\"aa bb\"))\n",
        "print(primer_caracter_no_repetido(\"\"))"
      ],
      "metadata": {
        "outputId": "b4dbcc4e-bce3-45ea-9b6a-550338150c0b",
        "colab": {
          "base_uri": "https://localhost:8080/"
        },
        "id": "3_6ge2itKqUL"
      },
      "execution_count": null,
      "outputs": [
        {
          "output_type": "stream",
          "name": "stdout",
          "text": [
            "g\n",
            "p\n",
            "h\n",
            "False\n",
            "False\n",
            "False\n"
          ]
        }
      ]
    },
    {
      "cell_type": "markdown",
      "source": [
        "## Reto 347: ¿Algo en la caja?\n",
        "* Cree una función que devuelva `True` si hay un asterisco `*` dentro de una caja.\n",
        "* Ejemplos:\n",
        "    1. <pre>en_caja([\n",
        "            \"###\",\n",
        "            \"#*#\",\n",
        "            \"###\"\n",
        "            ]) ➞ True</pre>\n",
        "    2. <pre>en_caja([\n",
        "            \"####\",\n",
        "            \"#* #\",\n",
        "            \"#  #\",\n",
        "            \"####\"\n",
        "            ]) ➞ True</pre>\n",
        "    3. <pre>en_caja([\n",
        "            \"*####\",\n",
        "            \"# #\",\n",
        "            \"#  #*\",\n",
        "            \"####\"\n",
        "            ]) ➞ False</pre>\n",
        "    4. <pre>en_caja([\n",
        "            \"#####\",\n",
        "            \"#   #\",\n",
        "            \"#   #\",\n",
        "            \"#   #\",\n",
        "            \"#####\"\n",
        "            ]) ➞ False</pre>\n",
        "\n",
        "* El asterisco puede estar en la matriz, sin embargo, debe estar dentro de la caja, si existe."
      ],
      "metadata": {
        "id": "MtUgkwHjKqb7"
      }
    },
    {
      "cell_type": "code",
      "source": [
        "# Método 1\n",
        "def en_caja(matriz):\n",
        "    for fila in matriz[1:-1]:  # Excluye la primera y última fila\n",
        "        if \"*\" in fila[1:-1]:  # Excluye el primer y último carácter de cada fila\n",
        "            return True\n",
        "    return False\n",
        "\n",
        "# Método 2. Dos funciones\n",
        "def asterisco_entre_hashes(fila):\n",
        "    # Verifica si hay un asterisco entre dos símbolos '#'\n",
        "    return '*' in fila[1:-1] and '#' in fila[:fila.index('*')] and '#' in fila[fila.index('*') + 1:]\n",
        "\n",
        "# Método 3\n",
        "def en_caja(matriz):\n",
        "    # Verifica en cada fila si hay un asterisco entre símbolos '#'\n",
        "    return any(asterisco_entre_hashes(fila) for fila in matriz[1:-1])\n"
      ],
      "metadata": {
        "id": "MYdNKbErKqb7"
      },
      "execution_count": null,
      "outputs": []
    },
    {
      "cell_type": "code",
      "source": [
        "print(en_caja([\n",
        "     \"###\",\n",
        "     \"#*#\",\n",
        "     \"###\"\n",
        "     ]))\n",
        "print(en_caja([\n",
        "     \"####\",\n",
        "     \"#* #\",\n",
        "     \"#  #\",\n",
        "     \"####\"\n",
        "     ]))\n",
        "print(en_caja([\n",
        "     \"*####\",\n",
        "     \"# #\",\n",
        "     \"#  #*\",\n",
        "     \"####\"\n",
        "     ]))\n",
        "print(en_caja([\n",
        "     \"#####\",\n",
        "     \"#   #\",\n",
        "     \"#   #\",\n",
        "     \"#   #\",\n",
        "     \"#####\"\n",
        "     ]))"
      ],
      "metadata": {
        "outputId": "d84cec2e-aebd-4b95-aab4-bf9363027042",
        "colab": {
          "base_uri": "https://localhost:8080/"
        },
        "id": "wcZwHL0zKqb7"
      },
      "execution_count": null,
      "outputs": [
        {
          "output_type": "stream",
          "name": "stdout",
          "text": [
            "True\n",
            "False\n",
            "False\n",
            "False\n"
          ]
        }
      ]
    },
    {
      "cell_type": "markdown",
      "source": [
        "## Reto 348: Tipo de Valor\n",
        "* Cree una función que tome un valor como argumento y devuelva el tipo de ese valor.\n",
        "* Ejemplos:\n",
        "    1. tipo(1) ➞ \"int\"\n",
        "    2. tipo(\"a\") ➞ \"str\"\n",
        "    3. tipo(True) ➞ \"bool\"\n",
        "    4. tipo([]) ➞ \"list\"\n",
        "    5. tipo(()) ➞ \"tuple\"\n",
        "    6. tipo({1,}) ➞ \"set\"\n",
        "    7. tipo({\"a\":1, \"b\":2}) ➞ \"dict\"\n",
        "    8. tipo(None) ➞ \"NoneType\""
      ],
      "metadata": {
        "id": "qTa1qjmcKqjQ"
      }
    },
    {
      "cell_type": "code",
      "source": [
        "# Método 1\n",
        "def tipo(valor):\n",
        "    return type(valor).__name__\n",
        "\n",
        "# Método 2. Creando un diccionario con los tipos\n",
        "def tipo(valor):\n",
        "    tipos = {\n",
        "        int: \"int\",\n",
        "        str: \"str\",\n",
        "        bool: \"bool\",\n",
        "        list: \"list\",\n",
        "        tuple: \"tuple\",\n",
        "        set: \"set\",\n",
        "        dict: \"dict\",\n",
        "        type(None): \"NoneType\"\n",
        "    }\n",
        "    return tipos.get(type(valor), \"Tipo no reconocido\")"
      ],
      "metadata": {
        "id": "d-fxim04KqjR"
      },
      "execution_count": null,
      "outputs": []
    },
    {
      "cell_type": "code",
      "source": [
        "print(tipo(1))\n",
        "print(tipo(\"a\"))\n",
        "print(tipo(True))\n",
        "print(tipo([]))\n",
        "print(tipo(()))\n",
        "print(tipo({1,}))\n",
        "print(tipo({\"a\":1, \"b\":2}))\n",
        "print(tipo(None))"
      ],
      "metadata": {
        "outputId": "e8873cec-c7cc-4505-81ab-8da727afd699",
        "colab": {
          "base_uri": "https://localhost:8080/"
        },
        "id": "8sKe8DOOKqjR"
      },
      "execution_count": null,
      "outputs": [
        {
          "output_type": "stream",
          "name": "stdout",
          "text": [
            "int\n",
            "str\n",
            "bool\n",
            "list\n",
            "tuple\n",
            "set\n",
            "dict\n",
            "NoneType\n"
          ]
        }
      ]
    },
    {
      "cell_type": "markdown",
      "source": [
        "## Reto 349: Emoticoniza tus frases\n",
        "* Cree una función que cambie palabras específicas por emoticonos.\n",
        "* Dada una frase como una cadena, debe reemplazar las palabras smile, grin, sad y mad con sus respectivos emoticones.\n",
        "\n",
        "| palabra | emoticono |\n",
        "| ------- | --------- |\n",
        "| smile   | :D        |\n",
        "| grin    | :)        |\n",
        "| sad     | :(        |\n",
        "| mad     | :P        |\n",
        "\n",
        "* Ejemplos:\n",
        "    1. emoticoniza(\"Make me smile\") ➞ \"Make me :D\"\n",
        "    2. emoticoniza(\"Make me grin\") ➞ \"Make me :)\"\n",
        "    3. emoticoniza(\"Make me sad\") ➞ \"Make me :(\"\n",
        "\n",
        "* La frase siempre comienza con \"Make me\".\n",
        "* Intente resolver esto sin utilizar declaraciones condicionales como *if/else*."
      ],
      "metadata": {
        "id": "_GyTqV9cKqrZ"
      }
    },
    {
      "cell_type": "code",
      "source": [
        "# Método 1. Dos funciones\n",
        "\n",
        "def obtener_emoticono(palabra):\n",
        "    emoticonos = {'smile': ':D', 'grin': ':)', 'sad': ':(', 'mad': ':P'}\n",
        "    return emoticonos.get(palabra, palabra)\n",
        "\n",
        "def emoticoniza(frase):                 # Función principal\n",
        "    palabras = frase.split()\n",
        "    # Aplicar la función a cada palabra de la frase\n",
        "    frase_emoticonizada = ' '.join(map(obtener_emoticono, palabras))\n",
        "    return frase_emoticonizada\n",
        "\n",
        "# Método 2. Con una list comprhension\n",
        "def emoticoniza(frase):\n",
        "    emoticonos = {'smile': ':D', 'grin': ':)', 'sad': ':(', 'mad': ':P'}\n",
        "    palabras = frase.split()\n",
        "    resultado = [emoticonos.get(palabra, palabra) for palabra in palabras]\n",
        "    return ' '.join(resultado)\n",
        "\n",
        "# Método 3. Usando replace\n",
        "def emoticoniza(frase):\n",
        "    emoticonos = {'smile': ':D', 'grin': ':)', 'sad': ':(', 'mad': ':P'}\n",
        "    for palabra, emoticono in emoticonos.items():\n",
        "        frase = frase.replace(palabra, emoticono)\n",
        "    return frase"
      ],
      "metadata": {
        "id": "KqaCRZTwKqra"
      },
      "execution_count": null,
      "outputs": []
    },
    {
      "cell_type": "code",
      "source": [
        "print(emoticoniza(\"Make me smile\"))\n",
        "print(emoticoniza(\"Make me grin\"))\n",
        "print(emoticoniza(\"Make me sad\"))\n",
        "print(emoticoniza(\"Make me mad\"))"
      ],
      "metadata": {
        "outputId": "081f21ac-d63c-43ee-8022-482486ee8abd",
        "colab": {
          "base_uri": "https://localhost:8080/"
        },
        "id": "8-P-uC0VKqra"
      },
      "execution_count": null,
      "outputs": [
        {
          "output_type": "stream",
          "name": "stdout",
          "text": [
            "Make me :D\n",
            "Make me :)\n",
            "Make me :(\n",
            "Make me :P\n"
          ]
        }
      ]
    },
    {
      "cell_type": "markdown",
      "source": [
        "## Reto 350: Equilibrio de balanzas\n",
        "* Balancing Scales\n",
        "* Dada una lista con un número impar de elementos, devuelve si la balanza se inclinará hacia la \"izquierda\" o \"derecha\" según la suma de los números.\n",
        "* La balanza se inclinará en la dirección del total más grande.\n",
        "* Si ambos lados son iguales, devuelve \"equilibrado\".\n",
        "* Ejemplos:\n",
        "    1. mayor_peso([0, 0, \"I\", 1, 1]) ➞ \"derecha\"\n",
        "    2. mayor_peso([1, 2, 3, \"I\", 4, 0, 0]) ➞ \"izquierda\"\n",
        "    3. mayor_peso([5, 5, 5, 0, \"I\", 10, 2, 2, 1]) ➞ \"equilibrado\"\n",
        "\n",
        "* El elemento central siempre será \"I\".\n",
        "* Ambos lados tendrán el mismo número de elementos.\n",
        "* No hay pesos negativos."
      ],
      "metadata": {
        "id": "I2lHCcz4KqzG"
      }
    },
    {
      "cell_type": "code",
      "source": [
        "# Método 1\n",
        "def mayor_peso(lista):\n",
        "    medio = len(lista) // 2\n",
        "    izquierda = sum(lista[:medio])\n",
        "    derecha = sum(lista[medio+1:])\n",
        "    if izquierda > derecha:\n",
        "        return \"izquierda\"\n",
        "    elif izquierda < derecha:\n",
        "        return \"derecha\"\n",
        "    else:\n",
        "        return \"equilibrado\"\n",
        "\n",
        "# Método 2\n",
        "def mayor_peso(lista):\n",
        "    medio = lista.index(\"I\")\n",
        "    izquierda = sum(lista[:medio])\n",
        "    derecha = sum(lista[medio+1:])\n",
        "    return \"derecha\" if izquierda < derecha else \"izquierda\" if izquierda > derecha else \"equilibrado\""
      ],
      "metadata": {
        "id": "3_8G1fSkKqzH"
      },
      "execution_count": null,
      "outputs": []
    },
    {
      "cell_type": "code",
      "source": [
        "print(mayor_peso([0, 0, \"I\", 1, 1]))\n",
        "print(mayor_peso([1, 2, 3, \"I\", 4, 0, 0]))\n",
        "print(mayor_peso([5, 5, 5, 0, \"I\", 10, 2, 2, 1]))"
      ],
      "metadata": {
        "outputId": "8fabc9ee-d9eb-4b6a-b686-2227dce1380e",
        "colab": {
          "base_uri": "https://localhost:8080/"
        },
        "id": "sAxKzNjWKqzH"
      },
      "execution_count": null,
      "outputs": [
        {
          "output_type": "stream",
          "name": "stdout",
          "text": [
            "derecha\n",
            "izquierda\n",
            "equilibrado\n"
          ]
        }
      ]
    },
    {
      "cell_type": "markdown",
      "source": [
        "## Reto 351: Envolver en lista\n",
        "* Tuck in List\n",
        "* Cree una función que tome dos listas e inserte la segunda lista en el medio de la primera lista.\n",
        "* Ejemplos:\n",
        "    1. metete_en_la_lista([1, 10], [2, 3, 4, 5, 6, 7, 8, 9]) ➞ [1, 2, 3, 4, 5, 6, 7, 8, 9, 10]\n",
        "    2. metete_en_la_lista([15, 150], [45, 75, 35]) ➞ [15, 45, 75, 35, 150]\n",
        "    3. metete_en_la_lista([[1, 2], [5, 6]], [[3, 4]]) ➞ [[1, 2], [3, 4], [5, 6]]\n",
        "\n",
        "* La primera lista siempre tiene dos elementos."
      ],
      "metadata": {
        "id": "9AknjjkIKq74"
      }
    },
    {
      "cell_type": "code",
      "source": [
        "# Método 1\n",
        "def metete_en_la_lista(a, b):\n",
        "    return [a[0]] + b + [a[1]]\n",
        "\n",
        "# Método 2\n",
        "def metete_en_la_lista(a, b):\n",
        "    return a[:1] + b + a[1:]\n",
        "\n",
        "# Método 3\n",
        "def metete_en_la_lista(a, b):\n",
        "    # Inserta todos los elementos de la segunda lista en la posición 1 de la primera lista\n",
        "    a[1:1] = b\n",
        "    return a\n",
        "\n",
        "# Método 4\n",
        "def metete_en_la_lista(a, b):\n",
        "    for i, elem in enumerate(b):\n",
        "        a.insert(i + 1, elem)\n",
        "    return a"
      ],
      "metadata": {
        "id": "RwqTk45SKq74"
      },
      "execution_count": null,
      "outputs": []
    },
    {
      "cell_type": "code",
      "source": [
        "print(metete_en_la_lista([1, 10], [2, 3, 4, 5, 6, 7, 8, 9]))\n",
        "print(metete_en_la_lista([15, 150], [45, 75, 35]))\n",
        "print(metete_en_la_lista([[1, 2], [5, 6]], [[3, 4]]))"
      ],
      "metadata": {
        "outputId": "692e50c5-3a67-4665-ca7f-cbeeccbb4704",
        "colab": {
          "base_uri": "https://localhost:8080/"
        },
        "id": "gZKBzJ05Kq74"
      },
      "execution_count": null,
      "outputs": [
        {
          "output_type": "stream",
          "name": "stdout",
          "text": [
            "[1, 2, 3, 4, 5, 6, 7, 8, 9, 10]\n",
            "[15, 45, 75, 35, 150]\n",
            "[[1, 2], [3, 4], [5, 6]]\n"
          ]
        }
      ]
    },
    {
      "cell_type": "markdown",
      "source": [
        "## Reto 352: Mensajes de Error\n",
        "* Error Messages\n",
        "* Cree una función que tome un número como argumento y devuelva el mensaje de error correspondiente.\n",
        "* Debes hacer esto sin utilizar la declaración `switch` ni `if`.\n",
        "* El error de entrada será de 1 a 5:\n",
        "\n",
        "| Num | ERROR                                |\n",
        "|-----|--------------------------------------|\n",
        "| 1   | \"Verifica el ventilador: e1\"         |\n",
        "| 2   | \"Parada de emergencia: e2\"           |\n",
        "| 3   | \"Error de la bomba: e3\"              |\n",
        "| 4   | \"Presión baja: e4\"                              |\n",
        "| 5   | \"Error del sensor de temperatura: e5\"|\n",
        "\n",
        "* Para cualquier otro valor, devuelve \"Error\" (puede usar una declaración `if` aquí).\n",
        "* Ejemplos:\n",
        "    1. error(1) ➞ \"Verifica el ventilador: e1\"\n",
        "    2. error(2) ➞ \"Parada de emergencia: e2\"\n",
        "    3. error(3) ➞ \"Error de la bomba: e3\"\n",
        "    4. error(4) ➞ \"Presión baja: e4\"\n",
        "    5. error(5) ➞ \"Error del sensor de temperatura: e5\"\n",
        "    6. error(9) ➞ \"Error\""
      ],
      "metadata": {
        "id": "xlRLVrW1KrC4"
      }
    },
    {
      "cell_type": "code",
      "source": [
        "# Método 1\n",
        "def error(num):\n",
        "    errores = {\n",
        "        1: \"Verifica el ventilador: e1\",\n",
        "        2: \"Parada de emergencia: e2\",\n",
        "        3: \"Error de la bomba: e3\",\n",
        "        4: \"Presión baja: e4\",\n",
        "        5: \"Error del sensor de temperatura: e5\"\n",
        "    }\n",
        "    return errores.get(num, \"Error\")\n",
        "\n",
        "# Método 2\n",
        "def error(num):\n",
        "    mensajes = [\n",
        "        \"Verifica el ventilador: e1\",\n",
        "        \"Parada de emergencia: e2\",\n",
        "        \"Error de la bomba: e3\",\n",
        "        \"Presión baja: e4\",\n",
        "        \"Error del sensor de temperatura: e5\"\n",
        "    ]\n",
        "    return mensajes[num - 1] if 1 <= num <= 5 else \"Error\"\n",
        "\n",
        "# Método 3\n",
        "def error(num):\n",
        "    try:\n",
        "        mensajes = [\n",
        "            \"Verifica el ventilador: e1\",\n",
        "            \"Parada de emergencia: e2\",\n",
        "            \"Error de la bomba: e3\",\n",
        "            \"Presión baja: e4\",\n",
        "            \"Error del sensor de temperatura: e5\"\n",
        "        ]\n",
        "        return mensajes[num - 1]\n",
        "    except IndexError:\n",
        "        return \"Error\""
      ],
      "metadata": {
        "id": "iqpY8pzoKrC5"
      },
      "execution_count": null,
      "outputs": []
    },
    {
      "cell_type": "code",
      "source": [
        "print(error(1))\n",
        "print(error(2))\n",
        "print(error(3))\n",
        "print(error(4))\n",
        "print(error(5))\n",
        "print(error(9))"
      ],
      "metadata": {
        "outputId": "2d8cb1ad-5ddb-4e77-e3c0-d50d4bd37df3",
        "colab": {
          "base_uri": "https://localhost:8080/"
        },
        "id": "NJaxhIQkKrC5"
      },
      "execution_count": null,
      "outputs": [
        {
          "output_type": "stream",
          "name": "stdout",
          "text": [
            "Verifica el ventilador: e1\n",
            "Parada de emergencia: e2\n",
            "Error de la bomba: e3\n",
            "Presión baja: e4\n",
            "Error del sensor de temperatura: e5\n",
            "Error\n"
          ]
        }
      ]
    },
    {
      "cell_type": "markdown",
      "source": [
        "## Reto 353: Decaimiento Radiactivo\n",
        "* Radioactive Decay\n",
        "* Un tiempo de semivida ([half life](https://en.wikipedia.org/wiki/Half-life)) es el periodo en el que la mitad de una sustancia radiactiva se descompone.\n",
        "    1. Después de 1 periodo de semivida, quedará el 50% de la sustancia.\n",
        "    2. Después de 2 semividas, quedará el 25% de la sustancia.\n",
        "    3. Después de 3 semividas, quedará el 12.5% de la sustancia, etc.\n",
        "* Cree una función que calcule la masa restante y el número de años que tomó para que la sustancia se desintegre.\n",
        "* Se proporcionarán:\n",
        "    1. La masa de la sustancia.\n",
        "    2. El tiempo en años para que transcurra una semivida.\n",
        "    3. El número de semividas.\n",
        "* Ejemplo de trabajo:\n",
        "    - calculadora_de_semivida(1000, 5730, 2) ➞ [250, 11460]\n",
        "    - Hay 2 semividas, por lo que la masa decae de 1000 a 500, luego de 500 a 250.\n",
        "    - Cada semivida es de 5730 años, y dado que hay 2, tomó un total de 11460 años.\n",
        "* Ejemplos:\n",
        "    1. calculadora_de_semivida(1600, 6, 3) ➞ [200, 18]\n",
        "    2. calculadora_de_semivida(13, 500, 1) ➞ [6.5, 500]\n",
        "    3. calculadora_de_semivida(100, 35, 5) ➞ [3.125, 175]\n",
        "    4. calculadora_de_semivida(1000, 5730, 2) ➞ [250, 11460]\n",
        "* Redondea la masa final a tres decimales.\n",
        "* Todos los valores de entrada son números positivos.\n",
        "* Devuelve primero la masa final y luego el número de años."
      ],
      "metadata": {
        "id": "KZl1krZQKrKu"
      }
    },
    {
      "cell_type": "code",
      "source": [
        "# Método 1\n",
        "def calculadora_de_semivida(masa, semivida, num_semividas):\n",
        "    masa_restante = masa * (0.5 ** num_semividas)\n",
        "    tiempo_transcurrido = semivida * num_semividas\n",
        "    return [round(masa_restante, 3), tiempo_transcurrido]\n",
        "\n",
        "# Método 2\n",
        "def calculadora_de_semivida(masa, hlife, n):\n",
        "    return [round(masa / 2**n, 3), hlife * n]"
      ],
      "metadata": {
        "id": "hxr1x7HdKrKu"
      },
      "execution_count": null,
      "outputs": []
    },
    {
      "cell_type": "code",
      "source": [
        "print(calculadora_de_semivida(1600, 6, 3))\n",
        "print(calculadora_de_semivida(13, 500, 1))\n",
        "print(calculadora_de_semivida(100, 35, 5))\n",
        "print(calculadora_de_semivida(1000, 5730, 2))"
      ],
      "metadata": {
        "outputId": "267e6770-9d31-4a76-ba34-7afed5e2374a",
        "colab": {
          "base_uri": "https://localhost:8080/"
        },
        "id": "3Ff6VtrfKrKu"
      },
      "execution_count": null,
      "outputs": [
        {
          "output_type": "stream",
          "name": "stdout",
          "text": [
            "[200.0, 18]\n",
            "[6.5, 500]\n",
            "[3.125, 175]\n",
            "[250.0, 11460]\n"
          ]
        }
      ]
    },
    {
      "cell_type": "markdown",
      "source": [
        "## Reto 354: Números Apocalípticos\n",
        "* Apocalyptic Numbers\n",
        "* En este reto, debe determinar si un número es apocalíptico.\n",
        "* Un entero positivo `n` mayor que 0 es apocalíptico cuando 2 elevado a la `n` contiene una o más ocurrencias de `666` en su interior.\n",
        "* Dado un entero `n` , implemente una función que devuelva:\n",
        "    1. \"Seguro\" si `n` no es apocalíptico.\n",
        "    2. \"Simple\" si dentro de `2^n` hay una sola ocurrencia de `666`.\n",
        "    3. \"Doble\" si dentro de `2^n` hay dos ocurrencias de `666`.\n",
        "    4. \"Triple\" si dentro de `2^n` hay tres ocurrencias de `666`.\n",
        "* Ejemplos:\n",
        "    1. es_apocaliptico(66) ➞ \"Seguro\"\n",
        "        * 2^66 = 73786976294838206464\n",
        "    2. es_apocaliptico(157) ➞ \"Simple\"\n",
        "        * 2^157 = 182687704|666|362864775460604089535377456991567872\n",
        "    3. es_apocaliptico(220) ➞ \"Doble\"\n",
        "        * 2^220 = 168499|666|66969149871|666|8844293872691710232152640 ...\n",
        "    4. es_apocaliptico(931) ➞ \"Triple\"\n",
        "        * 2^931 = 181520618710|666|8777829|666|135436890332191479738353753001777065257954029122510259245050254290156440857653562895251700406555730694879815558725330603736697259064676478076718090|666| ...\n",
        "* Cualquier `n` dado será un entero positivo en el rango de 1 a 1000.\n",
        "* Las ocurrencias deben ser únicas. No puedes utilizar dígitos que ya hayan sido emparejados nuevamente (ver ejemplo #3, hay cinco 6 adyacentes, pero solo hay una coincidencia posible)."
      ],
      "metadata": {
        "id": "xxKbvprZKrSq"
      }
    },
    {
      "cell_type": "code",
      "source": [
        "# Método 1\n",
        "def es_apocaliptico(n):\n",
        "    num = str(2 ** n)\n",
        "    veces = num.count('666')\n",
        "    if veces == 0:\n",
        "        return \"Seguro\"\n",
        "    elif veces == 1:\n",
        "        return \"Simple\"\n",
        "    elif veces == 2:\n",
        "        return \"Doble\"\n",
        "    elif veces == 3:\n",
        "        return \"Triple\"\n",
        "\n",
        "# Método 2. Usando un diccionario. Ve\n",
        "def es_apocaliptico(n):\n",
        "    num = str(2 ** n)\n",
        "    veces = num.count('666')\n",
        "    dic = {0: \"Seguro\", 1: \"Simple\", 2: \"Doble\", 3: \"Triple\"}\n",
        "    return dic.get(veces)"
      ],
      "metadata": {
        "id": "qGmlko5lKrSq"
      },
      "execution_count": null,
      "outputs": []
    },
    {
      "cell_type": "code",
      "source": [
        "print(es_apocaliptico(66))\n",
        "print(es_apocaliptico(157))\n",
        "print(es_apocaliptico(220))\n",
        "print(es_apocaliptico(931))"
      ],
      "metadata": {
        "outputId": "2af058d1-cf42-4877-b144-e4061af8f32b",
        "colab": {
          "base_uri": "https://localhost:8080/"
        },
        "id": "0GyDD8GlKrSr"
      },
      "execution_count": null,
      "outputs": [
        {
          "output_type": "stream",
          "name": "stdout",
          "text": [
            "Seguro\n",
            "Simple\n",
            "Doble\n",
            "Triple\n"
          ]
        }
      ]
    },
    {
      "cell_type": "markdown",
      "source": [
        "## Reto 355: Producto Adyacente Máximo\n",
        "* Max Adjacent Product\n",
        "* Dada una lista de enteros, encuentra el par de elementos adyacentes que tienen el mayor producto y devuelve ese producto.\n",
        "* Ejemplos:\n",
        "    1. producto_adyacente_maximo([3, 6, -2, -5, 7, 3] ) ➞ 21\n",
        "    2. producto_adyacente_maximo([5, 6, -4, 2, 3, 2, -23]) ➞ 30\n",
        "    3. producto_adyacente_maximo([0, -1, 1, 24, 1, -4, 8, 10]) ➞ 80\n",
        "* Cada lista tiene al menos dos elementos."
      ],
      "metadata": {
        "id": "bXopzh8-Kraj"
      }
    },
    {
      "cell_type": "code",
      "source": [
        "# Método 1\n",
        "def producto_adyacente_maximo(lista):\n",
        "    max_producto = lista[0] * lista[1]\n",
        "    for i in range(len(lista)-1):\n",
        "        pareja = lista[i] * lista[i+1]\n",
        "        if pareja > max_producto:\n",
        "            max_producto = pareja\n",
        "    return max_producto\n",
        "\n",
        "# Método 2\n",
        "def producto_adyacente_maximo(lista):\n",
        "    max_producto = float('-inf')    # inicializamos el máximo con -inf\n",
        "    for i in range(len(lista) - 1):\n",
        "        pareja = lista[i] * lista[i + 1]\n",
        "        max_producto = max(max_producto, pareja)    # usamos la función max\n",
        "    return max_producto\n",
        "\n",
        "# Método 3\n",
        "def producto_adyacente_maximo(lista):\n",
        "    productos = [a * b for a, b in zip(lista, lista[1:])]\n",
        "    max_producto = max(productos)\n",
        "    return max_producto"
      ],
      "metadata": {
        "id": "HHnvL2EbKraj"
      },
      "execution_count": null,
      "outputs": []
    },
    {
      "cell_type": "code",
      "source": [
        "print(producto_adyacente_maximo([3, 6, -2, -5, 7, 3] ))\n",
        "print(producto_adyacente_maximo([5, 6, -4, 2, 3, 2, -23]))\n",
        "print(producto_adyacente_maximo([0, -1, 1, 24, 1, -4, 8, 10]))"
      ],
      "metadata": {
        "outputId": "f41fb866-2cd5-40f2-ca23-e8090d805e3b",
        "colab": {
          "base_uri": "https://localhost:8080/"
        },
        "id": "I7b6xZbfKrak"
      },
      "execution_count": null,
      "outputs": [
        {
          "output_type": "stream",
          "name": "stdout",
          "text": [
            "21\n",
            "30\n",
            "80\n"
          ]
        }
      ]
    },
    {
      "cell_type": "markdown",
      "source": [
        "## Reto 356: Solo pares de índice par\n",
        "* Even All the Way\n",
        "* Dado un conjunto de números, devuelva una lista que contenga solo los números pares del conjunto original, los cuales también tengan índices pares.\n",
        "* Ejemplos:\n",
        "    1. pares_de_indice_par([1, 3, 2, 6, 4, 8]) ➞ [2, 4]\n",
        "    2. pares_de_indice_par([0, 1, 2, 3, 4]) ➞ [0, 2, 4]\n",
        "    3. pares_de_indice_par([1, 2, 3, 4, 5]) ➞ []\n",
        "* Las listas comienzan en el índice 0."
      ],
      "metadata": {
        "id": "1GA1FXG9KrjN"
      }
    },
    {
      "cell_type": "code",
      "source": [
        "# Método 1\n",
        "def pares_de_indice_par(lista):\n",
        "    result = []\n",
        "    for i, valor in enumerate(lista):\n",
        "        if i % 2 == 0 and valor % 2 == 0:\n",
        "            result.append(valor)\n",
        "    return result\n",
        "\n",
        "# Método 2\n",
        "def pares_de_indice_par(lista):\n",
        "    return [num for i, num in enumerate(lista) if not(i % 2 or num % 2)]\n",
        "\n",
        "# Método 3\n",
        "def pares_de_indice_par(lista):\n",
        "    return [num for i, num in enumerate(lista[::2]) if num % 2 == 0]"
      ],
      "metadata": {
        "id": "FqEyipblKrjO"
      },
      "execution_count": null,
      "outputs": []
    },
    {
      "cell_type": "code",
      "source": [
        "print(pares_de_indice_par([1, 3, 2, 6, 4, 8]))\n",
        "print(pares_de_indice_par([0, 1, 2, 3, 4]))\n",
        "print(pares_de_indice_par([1, 2, 3, 4, 5]))"
      ],
      "metadata": {
        "outputId": "e5faef99-e402-4279-999c-ff0778cd3cad",
        "colab": {
          "base_uri": "https://localhost:8080/"
        },
        "id": "ET9VMcKpKrjO"
      },
      "execution_count": null,
      "outputs": [
        {
          "output_type": "stream",
          "name": "stdout",
          "text": [
            "[2, 4]\n",
            "[0, 2, 4]\n",
            "[]\n"
          ]
        }
      ]
    },
    {
      "cell_type": "markdown",
      "source": [
        "## Reto 357: Alfabeto a números\n",
        "* Numbered Alphabet\n",
        "* Cree una función que convierta una cadena de letras a sus respectivos números en el alfabeto.\n",
        "\n",
        "| Letra | Número |\n",
        "|---|---|\n",
        "| A | 0 |\n",
        "| B | 1 |\n",
        "| C | 2 |\n",
        "| D | 3 |\n",
        "| E | 4 |\n",
        "| F | 5 |\n",
        "| G | 6 |\n",
        "| H | 7 |\n",
        "| I | 8 |\n",
        "| J | 9 |\n",
        "| K | 10|\n",
        "| L | 11|\n",
        "| M | 12|\n",
        "| N | 13|\n",
        "| O | 14|\n",
        "| P | 15|\n",
        "| Q | 16|\n",
        "| R | 17|\n",
        "| S | 18|\n",
        "| T | 19|\n",
        "| U | 20|\n",
        "| V | 21|\n",
        "| W | 22|\n",
        "| X | 23|\n",
        "| Y | 24|\n",
        "| Z | 25|\n",
        "\n",
        "* Ejemplos:\n",
        "    1. letra_a_numero(\"XYZ\") ➞ \"23 24 25\"\n",
        "    2. letra_a_numero(\"ABCDEF\") ➞ \"0 1 2 3 4 5\"\n",
        "    3. letra_a_numero(\"JAVASCRIPT\") ➞ \"9 0 21 0 18 2 17 8 15 19\"\n",
        "* Asegúrese de que los números estén separados por un espacio.\n",
        "* Todas las letras estarán en MAYÚSCULAS."
      ],
      "metadata": {
        "id": "iLiM2iXoKrr0"
      }
    },
    {
      "cell_type": "code",
      "source": [
        "# Método 1\n",
        "def letra_a_numero(cadena):\n",
        "    lista = [c for c in cadena]\n",
        "    return ' '.join([str(ord(c)-65) for c in lista])\n",
        "\n",
        "# Método 2\n",
        "def letra_a_numero(cadena):\n",
        "    numeros = [ord(letra) - ord('A') for letra in cadena]\n",
        "    return ' '.join(map(str, numeros))"
      ],
      "metadata": {
        "id": "PYXQtdjnKrr0"
      },
      "execution_count": null,
      "outputs": []
    },
    {
      "cell_type": "code",
      "source": [
        "print(letra_a_numero(\"XYZ\"))\n",
        "print(letra_a_numero(\"ABCDEF\"))\n",
        "print(letra_a_numero(\"JAVASCRIPT\"))"
      ],
      "metadata": {
        "outputId": "e91e9aef-cd9f-40e7-a38e-78042482a347",
        "colab": {
          "base_uri": "https://localhost:8080/"
        },
        "id": "snLOjdSqKrr1"
      },
      "execution_count": null,
      "outputs": [
        {
          "output_type": "stream",
          "name": "stdout",
          "text": [
            "23 24 25\n",
            "0 1 2 3 4 5\n",
            "9 0 21 0 18 2 17 8 15 19\n"
          ]
        }
      ]
    },
    {
      "cell_type": "markdown",
      "source": [
        "## Reto 358: Dos listas que no comparten elementos\n",
        "* Minimal V: Membership Operator\n",
        "* Escriba una función que devuelva el valor booleano `True` si las dos listas dadas comparten algún elemento y `False` en caso contrario.\n",
        "* Ejemplos:\n",
        "    1. comparten([12], [1, 50, 12, 43, 7]) ➞ True\n",
        "    2. comparten([0, 4], [1, 2, 3, 4, 5]) ➞ True\n",
        "    3. comparten([1], [True, 3, 4]) ➞ True\n",
        "    4. comparten([\"hello\"], [\"hellomyfriend\"]) ➞ False\n",
        "    5. comparten([1], [12, 111111, \"x\"]) ➞ False\n",
        "    6. comparten([\"odd\"], [True, 3, [\"odd\", \"even\"]]) ➞ False"
      ],
      "metadata": {
        "id": "r4laHtq2Kr0M"
      }
    },
    {
      "cell_type": "code",
      "source": [
        "# Método 1\n",
        "def comparten_alternativa(lst1, lst2):\n",
        "    for x in lst1:\n",
        "        if x in lst2:\n",
        "            return True\n",
        "    return False\n",
        "\n",
        "# Método 2. Usando un generador con in y luego usando any\n",
        "def comparten(lst1, lst2):\n",
        "    return any(x in lst2 for x in lst1)\n",
        "\n",
        "# Método 3. Intersección de conjuntos\n",
        "def comparten(lst1, lst2):\n",
        "    set1 = set(lst1)\n",
        "    set2 = set(tuple(x) if isinstance(x, list) else x for x in lst2)\n",
        "    return len(set1.intersection(set2)) > 0"
      ],
      "metadata": {
        "id": "jEMM5JXKKr0N"
      },
      "execution_count": null,
      "outputs": []
    },
    {
      "cell_type": "code",
      "source": [
        "print(comparten([12], [1, 50, 12, 43, 7]))\n",
        "print(comparten([0, 4], [1, 2, 3, 4, 5]))\n",
        "print(comparten([1], [True, 3, 4]))\n",
        "print(comparten([\"hello\"], [\"hellomyfriend\"]))\n",
        "print(comparten([1], [12, 111111, \"x\"]))\n",
        "print(comparten([\"odd\"], [True, 3, [\"odd\", \"even\"]]))"
      ],
      "metadata": {
        "outputId": "2ffaf102-d118-4ac9-ae26-41c9f5edc47e",
        "colab": {
          "base_uri": "https://localhost:8080/"
        },
        "id": "PhLlvW2CKr0N"
      },
      "execution_count": null,
      "outputs": [
        {
          "output_type": "stream",
          "name": "stdout",
          "text": [
            "True\n",
            "True\n",
            "True\n",
            "False\n",
            "False\n",
            "False\n"
          ]
        }
      ]
    },
    {
      "cell_type": "markdown",
      "source": [
        "## Reto 359: Números tetraédricos\n",
        "* Find the nth Tetrahedral Number\n",
        "* Un tetraedro es una pirámide con una base triangular y tres lados.\n",
        "* Un número tetraédrico es la cantidad de elementos dentro de un tetraedro.\n",
        "* Cree una función que tome un número entero `n` y devuelva el número tetraédrico enésimo.\n",
        "* Ejemplos:\n",
        "    1. tetra(2) ➞ 4\n",
        "    2. tetra(5) ➞ 35\n",
        "    3. tetra(6) ➞ 56\n",
        "* Existe una fórmula para calcular el número tetraédrico enésimo.\n",
        "    - [Tetrahedral Numbers](https://www.geeksforgeeks.org/tetrahedral-numbers)\n",
        "    - [Número tetraédrico](https://es.wikipedia.org/wiki/Número_tetraédrico)"
      ],
      "metadata": {
        "id": "elFzF0A7Kr8S"
      }
    },
    {
      "cell_type": "code",
      "source": [
        "# Método 1\n",
        "def tetra(n):\n",
        "    return n * (n + 1) * (n + 2) // 6\n",
        "\n",
        "# Método 2. # Utilizando la fórmula de combinaciones\n",
        "import math\n",
        "\n",
        "def tetra(n):\n",
        "    tetra_number = math.comb(n + 2, 3)\n",
        "    return tetra_number"
      ],
      "metadata": {
        "id": "jVt6rYNJKr8S"
      },
      "execution_count": null,
      "outputs": []
    },
    {
      "cell_type": "code",
      "source": [
        "print(tetra(2))\n",
        "print(tetra(5))\n",
        "print(tetra(6))"
      ],
      "metadata": {
        "outputId": "ef78d8d1-bacc-48b4-b8b2-6278adbe4542",
        "colab": {
          "base_uri": "https://localhost:8080/"
        },
        "id": "cVNkaS5RKr8S"
      },
      "execution_count": null,
      "outputs": [
        {
          "output_type": "stream",
          "name": "stdout",
          "text": [
            "4\n",
            "35\n",
            "56\n"
          ]
        }
      ]
    },
    {
      "cell_type": "markdown",
      "source": [
        "## Reto 360: Competición de Programación\n",
        "* Edabit Experience Points\n",
        "* En una competición de programación, los participantes resuelven problemas de diferentes niveles de dificultad, y ganan puntos según la complejidad de cada problema.\n",
        "* Los puntos asignados para cada nivel de dificultad son los siguientes:\n",
        "    1. Muy Fácil: 10 puntos\n",
        "    2. Fácil: 20 puntos\n",
        "    3. Intermedio: 40 puntos\n",
        "    4. Difícil: 80 puntos\n",
        "    5. Muy Difícil: 160 puntos\n",
        "* Dado un diccionario que indica cuántos problemas ha resuelto un participante en cada nivel de dificultad, cree una función llamada `puntuacion_total` que devuelva la puntuación total obtenida por el participante.\n",
        "* Ejemplos:\n",
        "    1. puntuacion_total(d1)  ➞ \"2055 puntos\"\n",
        "    2. puntuacion_total(d2)  ➞ \"7650 puntos\"\n",
        "    3. puntuacion_total(d3)  ➞ \"2255 puntos\"\n",
        "* Siendo los diccionarios d1, d2 y d3 los siguientes:\n",
        "\n",
        "d1 = {\n",
        "  \"Muy Fácil\" : 89,\n",
        "  \"Fácil\" : 77,\n",
        "  \"Intermedio\" : 30,\n",
        "  \"Difícil\" : 4,\n",
        "  \"Muy Difícil\" : 1\n",
        "}\n",
        "\n",
        "\n",
        "d2 = {\n",
        "  \"Muy Fácil\" : 254,\n",
        "  \"Fácil\" : 32,\n",
        "  \"Intermedio\" : 65,\n",
        "  \"Difícil\" : 51,\n",
        "  \"Muy Difícil\" : 34\n",
        "}\n",
        "\n",
        "\n",
        "d3 = {\n",
        "  \"Muy Fácil\" : 11,\n",
        "  \"Fácil\" : 0,\n",
        "  \"Intermedio\" : 2,\n",
        "  \"Difícil\" : 0,\n",
        "  \"Muy Difícil\" : 27\n",
        "}\n",
        "\n",
        "* Devuelva los valores como una cadena y asegúrate de agregar \" puntos\" al final."
      ],
      "metadata": {
        "id": "YHpHsOCjKsEv"
      }
    },
    {
      "cell_type": "code",
      "source": [
        "# Método 1\n",
        "def puntuacion_total(diccionario):\n",
        "    puntos_por_nivel = {\n",
        "        \"Muy Fácil\": 5,\n",
        "        \"Fácil\": 10,\n",
        "        \"Intermedio\": 20,\n",
        "        \"Difícil\": 40,\n",
        "        \"Muy Difícil\": 80\n",
        "    }\n",
        "    total_puntos = sum(diccionario[nivel] * puntos for nivel, puntos in puntos_por_nivel.items())\n",
        "    return f\"{total_puntos} puntos\"\n",
        "\n",
        "# Método 2. Usando map y una función lambda\n",
        "def puntuacion_total(diccionario):\n",
        "    puntos_por_nivel = {\n",
        "        \"Muy Fácil\": 5,\n",
        "        \"Fácil\": 10,\n",
        "        \"Intermedio\": 20,\n",
        "        \"Difícil\": 40,\n",
        "        \"Muy Difícil\": 80\n",
        "    }\n",
        "    total_puntos = sum(map(lambda x: x[1] * puntos_por_nivel[x[0]], diccionario.items()))\n",
        "    return f\"{total_puntos} puntos\"\n",
        "\n",
        "# Método 3. Multiplicando los valores del diccionario de ponderaciones (p) por los valores de d\n",
        "def puntuacion_total(d):\n",
        "    p = {\"Muy Fácil\": 5, \"Fácil\": 10, \"Intermedio\": 20, \"Difícil\": 40, \"Muy Difícil\": 80}\n",
        "    return sum(p[nivel] * d[nivel] for nivel in p)\n",
        "\n",
        "# Método 4. Considerando que los puntos van doblando en cada nivel (potencias de 2)\n",
        "def puntuacion_total(diccionario):\n",
        "    niveles = [\"Muy Fácil\", \"Fácil\", \"Intermedio\", \"Difícil\", \"Muy Difícil\"]\n",
        "    total_puntos = sum(diccionario[nivel] * (10 * 2**i) for i, nivel in enumerate(niveles))\n",
        "    return f\"{total_puntos} puntos\""
      ],
      "metadata": {
        "id": "i6-F97v3KsEw"
      },
      "execution_count": null,
      "outputs": []
    },
    {
      "cell_type": "code",
      "source": [
        "d1 = {\n",
        "  \"Muy Fácil\" : 89,\n",
        "  \"Fácil\" : 77,\n",
        "  \"Intermedio\" : 30,\n",
        "  \"Difícil\" : 4,\n",
        "  \"Muy Difícil\" : 1\n",
        "}\n",
        "\n",
        "\n",
        "d2 = {\n",
        "  \"Muy Fácil\" : 254,\n",
        "  \"Fácil\" : 32,\n",
        "  \"Intermedio\" : 65,\n",
        "  \"Difícil\" : 51,\n",
        "  \"Muy Difícil\" : 34\n",
        "}\n",
        "\n",
        "\n",
        "d3 = {\n",
        "  \"Muy Fácil\" : 11,\n",
        "  \"Fácil\" : 0,\n",
        "  \"Intermedio\" : 2,\n",
        "  \"Difícil\" : 0,\n",
        "  \"Muy Difícil\" : 27\n",
        "}\n",
        "\n",
        "print(puntuacion_total(d1))\n",
        "print(puntuacion_total(d2))\n",
        "print(puntuacion_total(d3))"
      ],
      "metadata": {
        "outputId": "811b8c0e-d3f2-4591-d285-172d9cdff84e",
        "colab": {
          "base_uri": "https://localhost:8080/"
        },
        "id": "f8B7_yIsKsEw"
      },
      "execution_count": null,
      "outputs": [
        {
          "output_type": "stream",
          "name": "stdout",
          "text": [
            "2055\n",
            "7650\n",
            "2255\n"
          ]
        }
      ]
    },
    {
      "cell_type": "markdown",
      "source": [
        "## Reto 361: Comprueba si un Número es Primo\n",
        "* Check if a Number is Prime\n",
        "* Cree una función que devuelva `True` si un número es primo y `False` en caso contrario.\n",
        "* Un número primo es cualquier entero positivo que es divisible únicamente por dos divisores: por uno y él mismo.\n",
        "* Los primeros diez números primos son:\n",
        "    - 2, 3, 5, 7, 11, 13, 17, 19, 23, 29\n",
        "* Ejemplos\n",
        "    1. es_primo(18) ➞ False\n",
        "    2. es_primo(31) ➞ True\n",
        "    3. es_primo(11) ➞ True\n",
        "    4. es_primo(2 ** 31 - 1) ➞ True\n",
        "* [2147483647 ➞ número primo descubierto por Euler](https://es.wikipedia.org/wiki/2147483647)."
      ],
      "metadata": {
        "id": "DX8_z7tKKsNQ"
      }
    },
    {
      "cell_type": "code",
      "source": [
        "def es_primo(n):\n",
        "    if n == 2:\n",
        "        return True\n",
        "    for i in range(3, int(n**.5)+1, 2):\n",
        "        if n % i == 0:\n",
        "            return False\n",
        "    return True"
      ],
      "metadata": {
        "id": "A8eG7zxgKsNR"
      },
      "execution_count": null,
      "outputs": []
    },
    {
      "cell_type": "code",
      "source": [
        "print(es_primo(18))\n",
        "print(es_primo(31))\n",
        "print(es_primo(11))\n",
        "print(es_primo(2 ** 31 - 1))"
      ],
      "metadata": {
        "outputId": "d5923622-c2f4-470f-f5d0-a7aa2b523d57",
        "colab": {
          "base_uri": "https://localhost:8080/"
        },
        "id": "_JY6v-zMKsNR"
      },
      "execution_count": null,
      "outputs": [
        {
          "output_type": "stream",
          "name": "stdout",
          "text": [
            "False\n",
            "True\n",
            "True\n",
            "True\n"
          ]
        }
      ]
    },
    {
      "cell_type": "markdown",
      "source": [
        "## Reto 362: Multiplicar Números en una Cadena\n",
        "* Multiplying Numbers in a String\n",
        "* Dada una cadena de números separados por una coma y espacio, devuelva el producto de los números.\n",
        "* Ejemplos:\n",
        "    1. multiplicar(\"2, 3\") ➞ 6\n",
        "    2. multiplicar(\"1, 2, 3, 4\") ➞ 24\n",
        "    3. multiplicar(\"54, 75, 453, 0\") ➞ 0\n",
        "    4. multiplicar(\"10, -2\") ➞ -20\n",
        "* ¡Intente completar este reto en una sola línea!"
      ],
      "metadata": {
        "id": "P_X48KPNKsVP"
      }
    },
    {
      "cell_type": "code",
      "source": [
        "# Método 1\n",
        "def multiplicar(cadena):\n",
        "    return eval(cadena.replace(\",\", \"*\"))\n",
        "\n",
        "# Método 2. Usando reduce y una función lambda\n",
        "from functools import reduce\n",
        "\n",
        "def multiplicar(cadena):\n",
        "    num_list = [int(num) for num in cadena.split(', ')]\n",
        "    return reduce(lambda x, y: x * y, num_list)\n",
        "\n",
        "# Método 3. Usando numpy para hacer el producto\n",
        "import numpy as np\n",
        "\n",
        "def multiplicar(cadena):\n",
        "    num_list = [int(num) for num in cadena.split(', ')]\n",
        "    return np.prod(num_list)\n",
        "\n",
        "# Método 4. Usando math\n",
        "import math\n",
        "\n",
        "def multiplicar(cadena):\n",
        "    num_list = [int(num) for num in cadena.split(', ')]\n",
        "    return math.prod(num_list)\n",
        "\n",
        "# Método 5. Con un bucle for\n",
        "\n",
        "def multiplicar(cadena):\n",
        "    num_list = list(map(int, cadena.split(', ')))   # una variante con map y lambda\n",
        "    result = 1\n",
        "    for num in num_list:\n",
        "        result *= num\n",
        "    return result\n",
        "\n",
        "# Método 6. Usando una función recursiva\n",
        "\n",
        "def producto_recursivo(lista):\n",
        "    if not lista:  # Caso base: si la lista está vacía\n",
        "        return 1\n",
        "    # Multiplica el primer elemento con el resultado de la llamada recursiva\n",
        "    return lista[0] * multiplicar(lista[1:])\n",
        "\n",
        "# Función principal que divide la cadena y llama a la función recursiva\n",
        "def multiplica(cadena):\n",
        "    # Divide la cadena en una lista de números\n",
        "    num_list = list(map(int, cadena.split(', ')))\n",
        "\n",
        "    # Llama a la función recursiva con la lista de números\n",
        "    result = producto_recursivo(num_list)\n",
        "    return result"
      ],
      "metadata": {
        "id": "Zhs7Q8G0KsVQ"
      },
      "execution_count": null,
      "outputs": []
    },
    {
      "cell_type": "code",
      "source": [
        "print(multiplicar(\"2, 3\"))\n",
        "print(multiplicar(\"1, 2, 3, 4\"))\n",
        "print(multiplicar(\"54, 75, 453, 0\"))\n",
        "print(multiplicar(\"10, -2\"))"
      ],
      "metadata": {
        "outputId": "cf8b57b3-514c-4703-80f3-246be8a631c8",
        "colab": {
          "base_uri": "https://localhost:8080/"
        },
        "id": "gOUoa1NWKsVQ"
      },
      "execution_count": null,
      "outputs": [
        {
          "output_type": "stream",
          "name": "stdout",
          "text": [
            "6\n",
            "24\n",
            "0\n",
            "-20\n"
          ]
        }
      ]
    },
    {
      "cell_type": "markdown",
      "source": [
        "## Reto 363: Verifica si la cadena es un palíndromo\n",
        "* Check if the String is a Palindrome\n",
        "* Un palíndromo es una palabra, frase u otra secuencia de caracteres que se lee igual hacia adelante y hacia atrás, como \"madam\", \"kayak\" o \"radar\".\n",
        "* Escriba una función que tome una cadena y determine si es un palíndromo o no.\n",
        "* La función debe devolver un valor booleano (True o False).\n",
        "* Ejemplos:\n",
        "    1. es_palindromo(\"acurrucar\") ➞ False\n",
        "    2. es_palindromo(\"Arañara\") ➞ True\n",
        "    3. es_palindromo(\"¡Se es o no se es!\") ➞ True\n",
        "    4. es_palindromo(\"A Mercedes, ese de crema.\") ➞ True\n",
        "* Debe ser insensible a mayúsculas y minúsculas.\n",
        "* Los caracteres especiales (puntuación o espacios) deben ignorarse."
      ],
      "metadata": {
        "id": "NF_3bCEqKsd_"
      }
    },
    {
      "cell_type": "code",
      "source": [
        "# Método 1\n",
        "def es_palindromo(cadena):\n",
        "    cadena = ''.join(e for e in cadena if e.isalnum()).lower()\n",
        "    return cadena == cadena[::-1]\n",
        "\n",
        "# Método 2\n",
        "def es_palindromo(cadena):\n",
        "    cadena_limpia = ''.join(c.lower() for c in cadena if c.isalnum())\n",
        "    for i in range(len(cadena_limpia) // 2):\n",
        "        if cadena_limpia[i] != cadena_limpia[-(i + 1)]:\n",
        "            return False\n",
        "    return True"
      ],
      "metadata": {
        "id": "j4PWjpmbKseA"
      },
      "execution_count": null,
      "outputs": []
    },
    {
      "cell_type": "code",
      "source": [
        "print(es_palindromo(\"acurrucar\"))\n",
        "print(es_palindromo(\"Arañara\"))\n",
        "print(es_palindromo(\"¡Se es o no se es!\"))\n",
        "print(es_palindromo(\"A Mercedes, ese de crema.\"))"
      ],
      "metadata": {
        "outputId": "312252c3-f6c6-4dbc-cb50-d45927dd74cd",
        "colab": {
          "base_uri": "https://localhost:8080/"
        },
        "id": "YATVgOlFKseA"
      },
      "execution_count": null,
      "outputs": [
        {
          "output_type": "stream",
          "name": "stdout",
          "text": [
            "False\n",
            "True\n",
            "True\n",
            "True\n"
          ]
        }
      ]
    },
    {
      "cell_type": "markdown",
      "source": [
        "## Reto 364: Índice del primer y último carácter\n",
        "* First and Last Index\n",
        "* Dada una palabra, escribe una función que devuelva el índice del primer y último carácter.\n",
        "* Ejemplos:\n",
        "    1. primer_ultimo_indice(\"hello\", \"l\") ➞ [2, 3]\n",
        "        * El primer \"l\" tiene índice 2, el último \"l\" tiene índice 3.\n",
        "    2. primer_ultimo_indice(\"circumlocution\", \"c\") ➞ [0, 8]\n",
        "        * El primer \"c\" tiene índice 0, el último \"c\" tiene índice 8.\n",
        "    3. primer_ultimo_indice(\"happy\", \"h\") ➞ [0, 0]\n",
        "        * Solo existe una \"h\", así que el primer y último índice es 0.\n",
        "    4. primer_ultimo_indice(\"happy\", \"e\") ➞ None\n",
        "        * \"e\" no existe en \"happy\", así que devolvemos indefinido.\n",
        "* Si el carácter no existe en la palabra, devuelve `None`.\n",
        "* Si solo hay una instancia del carácter, el primer y último índice serán iguales."
      ],
      "metadata": {
        "id": "CpP-Q0DoKsmE"
      }
    },
    {
      "cell_type": "code",
      "source": [
        "# Método 1\n",
        "def primer_ultimo_indice(palabra, caracter):\n",
        "    primer_indice = palabra.find(caracter)\n",
        "    if primer_indice == -1:\n",
        "        return None  # Si no existe, devolver None\n",
        "    ultimo_indice = palabra.rfind(caracter)\n",
        "    return [primer_indice, ultimo_indice]\n",
        "\n",
        "# Método 2\n",
        "def primer_ultimo_indice(palabra, caracter):\n",
        "    # Inicializar los índices como None en caso de que el carácter no exista\n",
        "    primer_indice = None\n",
        "    ultimo_indice = None\n",
        "\n",
        "    # Recorrer la palabra para encontrar el primer y último índice del carácter\n",
        "    for i in range(len(palabra)):\n",
        "        if palabra[i] == caracter:\n",
        "            if primer_indice is None:\n",
        "                primer_indice = i\n",
        "            ultimo_indice = i\n",
        "\n",
        "    # Verificar si el carácter existe en la palabra\n",
        "    if primer_indice is None:\n",
        "        return None\n",
        "\n",
        "    return [primer_indice, ultimo_indice]\n",
        "\n",
        "\n",
        "# Método 3\n",
        "def primer_ultimo_indice(palabra, caracter):\n",
        "    # Utilizar list comprehensions y enumerate para encontrar los índices del carácter\n",
        "    indices = [i for i, c in enumerate(palabra) if c == caracter]\n",
        "\n",
        "    # Verificar si el carácter existe en la palabra\n",
        "    if not indices:\n",
        "        return None\n",
        "\n",
        "    # Devolver una lista con el primer y último índice del carácter\n",
        "    return [indices[0], indices[-1]]\n",
        "\n",
        "\n",
        "# Método 4\n",
        "def primer_ultimo_indice(palabra, caracter):\n",
        "    try:\n",
        "        # Encontrar el primer índice del carácter\n",
        "        primer_indice = palabra.index(caracter)\n",
        "\n",
        "        # Encontrar el último índice del carácter\n",
        "        ultimo_indice = palabra.rindex(caracter)\n",
        "\n",
        "        return [primer_indice, ultimo_indice]\n",
        "\n",
        "    except ValueError:\n",
        "        return None"
      ],
      "metadata": {
        "id": "YE3A8ceQKsmF"
      },
      "execution_count": null,
      "outputs": []
    },
    {
      "cell_type": "code",
      "source": [
        "print(primer_ultimo_indice(\"hello\", \"l\"))\n",
        "print(primer_ultimo_indice(\"circumlocution\", \"c\"))\n",
        "print(primer_ultimo_indice(\"happy\", \"h\"))\n",
        "print(primer_ultimo_indice(\"happy\", \"e\"))"
      ],
      "metadata": {
        "outputId": "153b98b6-e10f-492d-931d-cc91d6cff13b",
        "colab": {
          "base_uri": "https://localhost:8080/"
        },
        "id": "wkhfITRJKsmF"
      },
      "execution_count": null,
      "outputs": [
        {
          "output_type": "stream",
          "name": "stdout",
          "text": [
            "[2, 3]\n",
            "[0, 8]\n",
            "[0, 0]\n",
            "None\n"
          ]
        }
      ]
    },
    {
      "cell_type": "markdown",
      "source": [
        "## Reto 365: Primero y Medio\n",
        "* First N Mid\n",
        "* Cree una función que tome una cadena y devuelva el primer carácter de cada palabra si la longitud de la palabra es par y el carácter del medio si la longitud de la palabra es impar.\n",
        "* Ejemplos:\n",
        "    1. primero_medio(\"Iré a cualquier parte, siempre que sea hacia adelante.\") ➞ raqrmueca\n",
        "    2. primero_medio(\"No es lo que te ocurre, sino cómo reaccionas lo que importa.\") ➞ Nelutoscrluo\n",
        "    3. primero_medio(\"Felicidad no es hacer lo que uno quiere sino querer lo que uno hace.\") ➞ cneclunqsqlunh\n",
        "    4. primero_medio(\"El hombre que mueve montañas empieza apartando piedras pequeñas.\") ➞ Ehuemitdp\n",
        "* Si en la frase hay comas, puntos u otros símbolos, no los consideres."
      ],
      "metadata": {
        "id": "azvpMiYsKsug"
      }
    },
    {
      "cell_type": "code",
      "source": [
        "# Método 1\n",
        "def primero_medio(cadena):\n",
        "    result = \"\"\n",
        "    lista = cadena.split()\n",
        "    for palabra in lista:\n",
        "        palabra = ''.join(filter(str.isalpha, palabra))\n",
        "        n = len(palabra)\n",
        "        if n % 2:\n",
        "            result += palabra[n//2]\n",
        "        else:\n",
        "            result += palabra[0]\n",
        "    return result\n",
        "\n",
        "# Método 2\n",
        "def primero_medio(cadena):\n",
        "    palabras = [''.join(filter(str.isalpha, palabra)) for palabra in cadena.split()]\n",
        "    return ''.join(p[0] if len(p) % 2 == 0 else p[len(p) // 2] for p in palabras)"
      ],
      "metadata": {
        "id": "u6RnO5WHKsuh"
      },
      "execution_count": null,
      "outputs": []
    },
    {
      "cell_type": "code",
      "source": [
        "print(primero_medio(\"Iré a cualquier parte, siempre que sea hacia adelante.\"))\n",
        "print(primero_medio(\"No es lo que te ocurre, sino cómo reaccionas lo que importa.\"))\n",
        "print(primero_medio(\"Felicidad no es hacer lo que uno quiere sino querer lo que uno hace.\"))\n",
        "print(primero_medio(\"El hombre que mueve montañas empieza apartando piedras pequeñas.\"))"
      ],
      "metadata": {
        "outputId": "72f5348d-6d63-4b0b-8c9c-58b9f8efcc64",
        "colab": {
          "base_uri": "https://localhost:8080/"
        },
        "id": "Pmmia_psKsuh"
      },
      "execution_count": null,
      "outputs": [
        {
          "output_type": "stream",
          "name": "stdout",
          "text": [
            "raqrmueca\n",
            "Nelutoscrluo\n",
            "cneclunqsqlunh\n",
            "Ehuemitdp\n"
          ]
        }
      ]
    },
    {
      "cell_type": "markdown",
      "source": [
        "## Reto 366: Eliminar los caracteres especiales de una cadena\n",
        "* Remove the Special Characters from a String\n",
        "* Cree una función que tome una cadena, elimine todos los caracteres \"especiales\" (por ejemplo, ., !, @, #, $, %, ^, &, , *, (, )) y devuelva la nueva cadena.\n",
        "* Los únicos caracteres no alfanuméricos permitidos son los guiones -, los guiones bajos _ y los espacios.\n",
        "* Ejemplos:\n",
        "    1. eliminar_caracteres_especiales(\"¡El que busca un amigo sin defectos se queda sin amigos!\") ➞ \"El que busca un amigo sin defectos se queda sin amigos\"\n",
        "    2. eliminar_caracteres_especiales(\"%fd7,6$fd (-) 6GvK#l_O.\") ➞ \"fd76fd - 6GvKl_O\"\n",
        "    3. eliminar_caracteres_especiales(\"ÁéÍoÚ ñ#n\") ➞ \"ÁéÍoÚ ñn\""
      ],
      "metadata": {
        "id": "ayh3lwiIKs13"
      }
    },
    {
      "cell_type": "code",
      "source": [
        "# Método 1\n",
        "def eliminar_caracteres_especiales(cadena):\n",
        "    permitidos = set('-_ ')\n",
        "    return ''.join(char for char in cadena if char.isalnum() or char in permitidos)\n",
        "\n",
        "# Método 2\n",
        "def eliminar_caracteres_especiales(cadena):\n",
        "    return ''.join(char for char in cadena if char.isalnum() or char in '-_ ')\n",
        "\n",
        "# Método 3\n",
        "def eliminar_caracteres_especiales(cadena):\n",
        "    caracteres_especiales = '¡!\"#$%&\\'()*+,./:;<=>?@[\\\\]^`{|}~'\n",
        "    for caracter in caracteres_especiales:\n",
        "        cadena = cadena.replace(caracter, '')\n",
        "    return cadena"
      ],
      "metadata": {
        "id": "fa9h3XIlKs13"
      },
      "execution_count": null,
      "outputs": []
    },
    {
      "cell_type": "code",
      "source": [
        "print(eliminar_caracteres_especiales(\"¡El que busca un amigo sin defectos se queda sin amigos!\"))\n",
        "print(eliminar_caracteres_especiales(\"%fd76,$fd (-) 6GvK#l_O.\"))\n",
        "print(eliminar_caracteres_especiales(\"ÁéÍoÚ ñ#n\"))"
      ],
      "metadata": {
        "outputId": "9a44cc96-a7e7-4553-f496-229b80f132c8",
        "colab": {
          "base_uri": "https://localhost:8080/"
        },
        "id": "_OA-YuhwKs14"
      },
      "execution_count": null,
      "outputs": [
        {
          "output_type": "stream",
          "name": "stdout",
          "text": [
            "El que busca un amigo sin defectos se queda sin amigos\n",
            "fd76fd - 6GvKl_O\n",
            "ÁéÍoÚ ñn\n"
          ]
        }
      ]
    },
    {
      "cell_type": "markdown",
      "source": [
        "## Reto 367: ¿Hay una tendencia al alza?\n",
        "* Is There an Upward Trend?\n",
        "* Cree una función que determine si hay una tendencia al alza.\n",
        "* Ejemplos:\n",
        "    1. tendencia_al_alza([1, 2, 3, 4]) ➞ `True`\n",
        "    2. tendencia_al_alza([1, 2, 6, 5, 7, 8]) ➞ `False`\n",
        "    3. tendencia_al_alza([1, 2, 3, \"4\"]) ➞ \"¡Cadena no permitida!\"\n",
        "    4. tendencia_al_alza([1, 2, 3, 6, 7]) ➞ `True`\n",
        "* Si hay un elemento de cadena en la lista, devuelve \"¡Cadena no permitida!\".\n",
        "* Los números no tienen que ser consecutivos (por ejemplo, [1, 3, 5] debería devolver `True`)."
      ],
      "metadata": {
        "id": "2HNV9GdMKs-Y"
      }
    },
    {
      "cell_type": "code",
      "source": [
        "# Método 1\n",
        "def tendencia_al_alza(lista):\n",
        "    try:\n",
        "        for i in range(len(lista)):\n",
        "            if i != len(lista)-1 and lista[i+1] < lista[i]:\n",
        "                return False\n",
        "        return True\n",
        "    except:\n",
        "        return \"¡Cadena no permitida!\"\n",
        "\n",
        "# Método 2\n",
        "def tendencia_al_alza(lista):\n",
        "    if all([isinstance(num, int) for num in lista]):\n",
        "        if lista == sorted(lista):\n",
        "            return True\n",
        "        return False\n",
        "    return \"¡Cadena no permitida!\""
      ],
      "metadata": {
        "id": "_3iJYKTSKs-Z"
      },
      "execution_count": null,
      "outputs": []
    },
    {
      "cell_type": "code",
      "source": [
        "print(tendencia_al_alza([1, 2, 3, 4]))\n",
        "print(tendencia_al_alza([1, 2, 6, 5, 7, 8]))\n",
        "print(tendencia_al_alza([1, 2, 3, \"4\"]))\n",
        "print(tendencia_al_alza([1, 2, 3, 6, 7]))"
      ],
      "metadata": {
        "outputId": "c2b4dbea-9ded-4526-b9d2-b6bfa7412bb6",
        "colab": {
          "base_uri": "https://localhost:8080/"
        },
        "id": "lklj8DFQKs-Z"
      },
      "execution_count": null,
      "outputs": [
        {
          "output_type": "stream",
          "name": "stdout",
          "text": [
            "True\n",
            "False\n",
            "¡Cadena no permitida!\n",
            "True\n"
          ]
        }
      ]
    },
    {
      "cell_type": "markdown",
      "source": [
        "## Reto 368: Filtrar Arrays vacíos\n",
        "* Fix the Error: Filtering out Empty Arrays\n",
        "* Dada una lista con elementos de diferentes tipos, queremos eliminar los elementos que sean listas vacías.\n",
        "* Ejemplos:\n",
        "    1. eliminar_arrays_vacios([1, 2, [], 4]) ➞ [1, 2, 4]\n",
        "    2. eliminar_arrays_vacios([\"a\", \"b\", [], [], [1, 2, 3]]) ➞ [\"a\", \"b\", [1, 2, 3]]\n",
        "* Tenemos un código que no funciona bien:\n",
        "\n",
        "<pre><code>def eliminar_arrays_vacios(arr):\n",
        "    return [x for x in arr if len(x) != 0]</code></pre>"
      ],
      "metadata": {
        "id": "iKSPDRzoKtGe"
      }
    },
    {
      "cell_type": "code",
      "source": [
        "# Método 1\n",
        "def eliminar_arrays_vacios(arr):\n",
        "    return [x for x in arr if (isinstance(x, list) and len(x) != 0) or not isinstance(x, list)]\n",
        "\n",
        "# Método 2\n",
        "def eliminar_arrays_vacios(arr):\n",
        "    return list(filter(lambda x: (isinstance(x, list) and len(x) != 0) or not isinstance(x, list), arr))\n",
        "\n",
        "# Método 3\n",
        "def eliminar_arrays_vacios(arr):\n",
        "    resultado = []\n",
        "    for x in arr:\n",
        "        if (isinstance(x, list) and len(x) != 0) or not isinstance(x, list):\n",
        "            resultado.append(x)\n",
        "    return resultado"
      ],
      "metadata": {
        "id": "aao_1AfWKtGf"
      },
      "execution_count": null,
      "outputs": []
    },
    {
      "cell_type": "code",
      "source": [
        "print(eliminar_arrays_vacios([1, 2, [], 4]))\n",
        "print(eliminar_arrays_vacios([\"a\", \"b\", [], [], [1, 2, 3]]))"
      ],
      "metadata": {
        "outputId": "758159e2-ed01-4cf1-9d34-9d97463abfd6",
        "colab": {
          "base_uri": "https://localhost:8080/"
        },
        "id": "BdLCpEBsKtGf"
      },
      "execution_count": null,
      "outputs": [
        {
          "output_type": "stream",
          "name": "stdout",
          "text": [
            "[1, 2, 4]\n",
            "['a', 'b', [1, 2, 3]]\n"
          ]
        }
      ]
    },
    {
      "cell_type": "markdown",
      "source": [
        "## Reto 369: Uno, Dos, Salta Algunos\n",
        "* One, Two, Skip a Few\n",
        "* Cree una función que calcule cuántos números faltan en una línea numérica ordenada.\n",
        "* Esta línea numérica comienza en el primer valor de la lista y aumenta de uno en uno hasta el final de la línea numérica, terminando en el último valor de la lista.\n",
        "\n",
        "* cuantos_faltan([1, 2, 3, 8, 9]) ➞ 4\n",
        "    - La línea numérica comienza en 1 y termina en 9.\n",
        "    - Los números que faltan en esta línea son 4, 5, 6 y 7.\n",
        "    - Faltan 4 números.\n",
        "* Ejemplos:\n",
        "    1. cuantos_faltan([1, 2, 3, 8, 9]) ➞ 4\n",
        "    2. cuantos_faltan([1, 3]) ➞ 1\n",
        "    3. cuantos_faltan([7, 10, 11, 12]) ➞ 2\n",
        "    4. cuantos_faltan([1, 3, 5, 7, 9, 11]) ➞ 5\n",
        "    5. cuantos_faltan([5, 6, 7, 8]) ➞ 0\n",
        "    6. cuantos_faltan([]) ➞ 0\n",
        "* Si la línea numérica está completa o la lista está vacía, devuelve 0.\n",
        "* Los números dentro de la lista siempre serán crecientes y únicos."
      ],
      "metadata": {
        "id": "e_hXcigkKtOK"
      }
    },
    {
      "cell_type": "code",
      "source": [
        "# Método 1\n",
        "def cuantos_faltan(lista):\n",
        "    if not lista:\n",
        "        return 0\n",
        "    return max(lista) - min(lista) + 1 - len(lista)\n",
        "\n",
        "# Método 2\n",
        "def cuantos_faltan(lista):\n",
        "    if lista:\n",
        "        return lista[-1] - lista[0] + 1 - len(lista)\n",
        "    return 0"
      ],
      "metadata": {
        "id": "oN4m2USjKtOL"
      },
      "execution_count": null,
      "outputs": []
    },
    {
      "cell_type": "code",
      "source": [
        "print(cuantos_faltan([1, 2, 3, 8, 9]))\n",
        "print(cuantos_faltan([1, 3]))\n",
        "print(cuantos_faltan([7, 10, 11, 12]))\n",
        "print(cuantos_faltan([1, 3, 5, 7, 9, 11]))\n",
        "print(cuantos_faltan([5, 6, 7, 8]))\n",
        "print(cuantos_faltan([]))"
      ],
      "metadata": {
        "outputId": "6ff735ea-e139-4d3c-e1fb-c6a9194fc751",
        "colab": {
          "base_uri": "https://localhost:8080/"
        },
        "id": "6zAsko-oKtOL"
      },
      "execution_count": null,
      "outputs": [
        {
          "output_type": "stream",
          "name": "stdout",
          "text": [
            "4\n",
            "1\n",
            "2\n",
            "5\n",
            "0\n",
            "0\n"
          ]
        }
      ]
    },
    {
      "cell_type": "markdown",
      "source": [
        "## Reto 370: Palabras que comienzan con una vocal\n",
        "* Words that Start with a Vowel\n",
        "* Escriba una función que recupere todas las palabras que comienzan con una vocal.\n",
        "* Ejemplos:\n",
        "    1. inicia_vocal(\"Dime y lo olvido, enséñame y lo recuerdo, involucrarme y aprendo. (Benjamin Franklin)\") ➞ ['olvido', 'enséñame', 'involucrarme', 'aprendo']\n",
        "    2. inicia_vocal(\"La educación es el arma más poderosa que puedes usar para cambiar el mundo. (Nelson Mandela)\") ➞ ['educación', 'es', 'el', 'arma', 'usar', 'el']\n",
        "    3. inicia_vocal(\"Ama a todos, confía en unos pocos, no hagas mal a ninguno. (William Shakespeare)\") ➞ ['ama', 'a', 'en', 'unos', 'a']\n",
        "    4. inicia_vocal(\"La sencillez es la máxima sofisticación. (Leonardo da Vinci)\") ➞ ['es']\n",
        "    5. inicia_vocal(\"\") ➞ []\n",
        "* Convierta todas las palabras a minúsculas en la salida.\n",
        "* Recupere las palabras en el orden en que aparecen en la oración.\n",
        "* Evite en la salida puntos, comas y otros caracteres especiales."
      ],
      "metadata": {
        "id": "tYtFXEKqKtV7"
      }
    },
    {
      "cell_type": "code",
      "source": [
        "# Método 1.\n",
        "def inicia_vocal(frase):\n",
        "    vocales = \"aeiouáéíóú\"\n",
        "    lista = frase.lower().split()\n",
        "    return [(''.join(char for char in palabra if char.isalnum())) for palabra in lista if palabra[0] in vocales]\n",
        "\n",
        "# Método 2. Dividiéndolo en dos funciones se entiende mejor\n",
        "\n",
        "def limpia(palabra):    # quita caracteres especiales como el punto y la coma\n",
        "    return ''.join(caracter for caracter in palabra if caracter.isalnum())\n",
        "\n",
        "def inicia_vocal(frase):\n",
        "    lista = frase.lower().split()\n",
        "    palabras_con_vocal = [limpia(palabra) for palabra in lista if palabra and palabra[0] in \"aeiouáéíóú\"]\n",
        "    return palabras_con_vocal\n",
        "\n",
        "# Método 3. Volvemos a usar la anterior función auxiliar limpia(palabra)\n",
        "\n",
        "def inicia_vocal(frase):\n",
        "    return [limpia(palabra) for palabra in frase.lower().split() if palabra and palabra[0] in \"aeiouáéíóú\"]\n",
        "\n",
        "# Método 4. Con append\n",
        "\n",
        "def inicia_vocal(frase):\n",
        "    palabras_que_inician_con_vocal = []\n",
        "    lista = frase.lower().split()\n",
        "    for palabra in lista:\n",
        "        if palabra[0] in \"aeiouáéíóú\":\n",
        "            palabra_limpia = ''.join(char for char in palabra if char.isalnum())\n",
        "            palabras_que_inician_con_vocal.append(palabra_limpia)\n",
        "    return palabras_que_inician_con_vocal"
      ],
      "metadata": {
        "id": "ZmaWLttCKtV8"
      },
      "execution_count": null,
      "outputs": []
    },
    {
      "cell_type": "code",
      "source": [
        "print(inicia_vocal(\"Dime y lo olvido, enséñame y lo recuerdo, involucrarme y aprendo. (Benjamin Franklin)\"))\n",
        "print(inicia_vocal(\"La educación es el arma más poderosa que puedes usar para cambiar el mundo. (Nelson Mandela)\"))\n",
        "print(inicia_vocal(\"Ama a todos, confía en unos pocos, no hagas mal a ninguno. (William Shakespeare)\"))\n",
        "print(inicia_vocal(\"La sencillez es la máxima sofisticación. (Leonardo da Vinci)\"))\n",
        "print(inicia_vocal(\"\"))"
      ],
      "metadata": {
        "outputId": "b6dc60c3-3474-439c-b5fc-80afa4dee2cf",
        "colab": {
          "base_uri": "https://localhost:8080/"
        },
        "id": "aZLAkZu0KtV8"
      },
      "execution_count": null,
      "outputs": [
        {
          "output_type": "stream",
          "name": "stdout",
          "text": [
            "['olvido', 'enséñame', 'involucrarme', 'aprendo']\n",
            "['educación', 'es', 'el', 'arma', 'usar', 'el']\n",
            "['ama', 'a', 'en', 'unos', 'a']\n",
            "['es']\n",
            "[]\n"
          ]
        }
      ]
    },
    {
      "cell_type": "markdown",
      "source": [
        "## Reto 371: Fecha Mágica\n",
        "* Magic Date\n",
        "* Debe leer cada parte de la fecha en su propia variable de tipo entero.\n",
        "* El año debe ser un número de 4 dígitos.\n",
        "* Puede asumir que el usuario ingresará una fecha correcta (no se requiere verificación de errores).\n",
        "* Determine si la fecha ingresada es una fecha mágica.\n",
        "* Aquí están las reglas para una fecha mágica:\n",
        "    1. mm * dd es un número de 1 dígito que coincide con el último dígito de yyyy o\n",
        "    2. mm * dd es un número de 2 dígitos que coincide con los últimos 2 dígitos de yyyy o\n",
        "    3. mm * dd es un número de 3 dígitos que coincide con los últimos 3 dígitos de yyyy\n",
        "* El programa debe mostrar `True` si la fecha es mágica, o `False` si no lo es.\n",
        "* Ejemplos:\n",
        "    1. magic(\"1 1 2011\")) ➞ True\n",
        "    2. magic(\"11 3 2033\")) ➞ True\n",
        "    3. magic(\"5 2 2010\")) ➞ True\n",
        "    4. magic(\"12 20 2240\")) ➞ True\n",
        "    5. magic(\"9 2 2011\")) ➞ False\n",
        "    6. magic(\"4 1 2001\")) ➞ False\n",
        "* Consulte la función [endswith()](https://www.programiz.com/python-programming/methods/string/endswith)"
      ],
      "metadata": {
        "id": "jqIB-50mKtfE"
      }
    },
    {
      "cell_type": "code",
      "source": [
        "# Método 1\n",
        "def magic(fecha):\n",
        "    lista = fecha.split()\n",
        "    mm, dd, yyyy = lista\n",
        "    m = int(mm)\n",
        "    d = int(dd)\n",
        "    n = len(str(m * d))     # número de dígitos del producto m * d\n",
        "    if n == 1 and m * d == int(yyyy[-1]):\n",
        "        return True\n",
        "    elif n == 2 and m * d == int(yyyy[-2:]):\n",
        "        return True\n",
        "    elif n == 3 and m * d == int(yyyy[-3:]):\n",
        "        return True\n",
        "    return False\n",
        "\n",
        "# Método 2\n",
        "def magic(fecha):\n",
        "    partes = fecha.split()              # Dividir la fecha en partes\n",
        "    mes, dia, anio = map(int, partes)   # Convertir cada parte a entero\n",
        "    resultado = mes * dia               # Calcular mm * dd\n",
        "    # Convertir el año a cadena y comparar con mm * dd\n",
        "    return str(resultado) == str(anio)[-len(str(resultado)):]\n",
        "\n",
        "# Método 3\n",
        "def magic(fecha):\n",
        "    m, d, y = fecha.split()\n",
        "    producto = str(int(m) * int(d))\n",
        "    return producto.endswith(y[-len(producto):])\n",
        "\n",
        "# Método 4\n",
        "def magic(fecha):\n",
        "    m, d, y = fecha.split()\n",
        "    producto = str(int(m) * int(d))\n",
        "    return y.endswith(producto)"
      ],
      "metadata": {
        "id": "-aL_Af3LKtfF"
      },
      "execution_count": null,
      "outputs": []
    },
    {
      "cell_type": "code",
      "source": [
        "print(magic(\"1 1 2011\"))\n",
        "print(magic(\"11 3 2033\"))\n",
        "print(magic(\"5 2 2010\"))\n",
        "print(magic(\"12 20 2240\"))\n",
        "print(magic(\"9 2 2011\"))\n",
        "print(magic(\"4 1 2001\"))"
      ],
      "metadata": {
        "outputId": "5ab6f9f4-706c-49ba-cb0c-13d16fa8d7ce",
        "colab": {
          "base_uri": "https://localhost:8080/"
        },
        "id": "QE_4vFNmKtfG"
      },
      "execution_count": null,
      "outputs": [
        {
          "output_type": "stream",
          "name": "stdout",
          "text": [
            "True\n",
            "True\n",
            "True\n",
            "True\n",
            "False\n",
            "False\n"
          ]
        }
      ]
    },
    {
      "cell_type": "markdown",
      "source": [
        "## Reto 372: Longitud del Gusano\n",
        "* Length of Worm\n",
        "* Dada una cadena que representa un gusano, cree una función que tome la longitud del gusano y la convierta a milímetros.\n",
        "* Cada - representa un centímetro.\n",
        "* Ejemplos:\n",
        "    1. longitud(\"----------\") ➞ \"100 mm.\"\n",
        "    2. longitud(\"\") ➞ \"inválido\"\n",
        "    3. longitud(\"----__---_\") ➞ \"inválido\"\n",
        "* Devuelva \"inválido\" si se proporciona una cadena vacía o si la cadena tiene caracteres distintos de \"-\"."
      ],
      "metadata": {
        "id": "rU853WmWKtnN"
      }
    },
    {
      "cell_type": "code",
      "source": [
        "# Método 1\n",
        "def longitud(cadena):\n",
        "    if set(cadena) == {\"-\"}:\n",
        "        return f\"{len(cadena) * 10} mm.\"\n",
        "    return \"inválido\"\n",
        "\n",
        "# Método 2\n",
        "def longitud(cadena):\n",
        "    if not cadena or cadena.count(\"-\") != len(cadena):\n",
        "        return \"inválido\"\n",
        "    return f\"{len(cadena) * 10} mm.\"\n",
        "\n",
        "# Método 3\n",
        "def longitud(cadena):\n",
        "    if not cadena or not all(c == \"-\" for c in cadena):\n",
        "        return \"inválido\"\n",
        "    return f\"{len(cadena) * 10} mm.\""
      ],
      "metadata": {
        "id": "kfuThXfAKtnN"
      },
      "execution_count": null,
      "outputs": []
    },
    {
      "cell_type": "code",
      "source": [
        "print(longitud(\"----------\"))\n",
        "print(longitud(\"\"))\n",
        "print(longitud(\"----_---\"))"
      ],
      "metadata": {
        "outputId": "636710c6-9fe0-44f6-94cf-537d399e8f81",
        "colab": {
          "base_uri": "https://localhost:8080/"
        },
        "id": "mapynDVeKtnN"
      },
      "execution_count": null,
      "outputs": [
        {
          "output_type": "stream",
          "name": "stdout",
          "text": [
            "100 mm.\n",
            "inválido\n",
            "inválido\n"
          ]
        }
      ]
    },
    {
      "cell_type": "markdown",
      "source": [
        "## Reto 373: Pago acelerado\n",
        "* Doubled Pay\n",
        "* Un empleado que trabaja en una empresa muy peculiar gana un céntimo en su primer día.\n",
        "* Sin embargo, cada día que pasa, su retribución se duplica, por lo que ganan dos céntimos en el segundo día y cuatro céntimos en el tercer día.\n",
        "* Dado un número de días, devuelva cuántos céntimos acumula el empleado.\n",
        "* Ejemplos:\n",
        "    1. pago_acelerado(1) ➞ 1\n",
        "    2. pago_acelerado(2) ➞ 3\n",
        "    3. pago_acelerado(3) ➞ 7\n",
        "    4. pago_acelerado(4) ➞ 15\n",
        "    5. pago_acelerado(20) ➞ 1048575\n",
        "* El argumento proporcionado a la función solo será un número entero positivo."
      ],
      "metadata": {
        "id": "dD9iWQfeKtvn"
      }
    },
    {
      "cell_type": "code",
      "source": [
        "# Método 1\n",
        "def pago_acelerado(dias):\n",
        "    pago_diario = 1     # inicializamos con el pago del primer día\n",
        "    pago_total = 0      # acumulado\n",
        "    for t in range(1, dias + 1):\n",
        "        pago_total += pago_diario\n",
        "        pago_diario *= 2\n",
        "    return pago_total\n",
        "\n",
        "# Método 2\n",
        "def pago_acelerado(dias):\n",
        "    acumulado = 0\n",
        "    for t in range(dias):\n",
        "        acumulado += 2 ** t\n",
        "    return acumulado\n",
        "\n",
        "# Método 3\n",
        "def pago_acelerado(dias):\n",
        "    return 2 ** dias - 1"
      ],
      "metadata": {
        "id": "oU4sUmpvKtvo"
      },
      "execution_count": null,
      "outputs": []
    },
    {
      "cell_type": "code",
      "source": [
        "print(pago_acelerado(1))\n",
        "print(pago_acelerado(2))\n",
        "print(pago_acelerado(3))\n",
        "print(pago_acelerado(4))\n",
        "print(pago_acelerado(20))"
      ],
      "metadata": {
        "outputId": "d1790567-764f-4b61-907e-ae2ea5fb00dc",
        "colab": {
          "base_uri": "https://localhost:8080/"
        },
        "id": "Lcp1SAcPKtvo"
      },
      "execution_count": null,
      "outputs": [
        {
          "output_type": "stream",
          "name": "stdout",
          "text": [
            "1\n",
            "3\n",
            "7\n",
            "15\n",
            "1048575\n"
          ]
        }
      ]
    },
    {
      "cell_type": "markdown",
      "source": [
        "## Reto 374: Ordenar por longitud de número\n",
        "* Number Length Sort\n",
        "* Cree una función de ordenamiento que ordene números no por orden numérico, sino por longitud de número.\n",
        "* Esto significa ordenar los números con menos dígitos primero, hasta los números con más dígitos.\n",
        "* Ejemplos:\n",
        "    1. ordenar_por_longitud([1, 54, 1, 2, 463, 2]) ➞ [1, 1, 2, 2, 54, 463]\n",
        "    2. ordenar_por_longitud([999, 421, 22, 990, 32]) ➞ [22, 32, 999, 421, 990]\n",
        "    3. ordenar_por_longitud([9, 8, 7, 6, 5, 4, 31, 2, 1, 3]) ➞ [9, 8, 7, 6, 5, 4, 2, 1, 3, 31]\n",
        "* Si dos números tienen la misma cantidad de dígitos, devuélvalos en el orden en que aparecieron."
      ],
      "metadata": {
        "id": "4IftULosKt3r"
      }
    },
    {
      "cell_type": "code",
      "source": [
        "# Método 1\n",
        "def ordenar_por_longitud(lista):\n",
        "    lista_longitudes = [len(str(x)) for x in lista]\n",
        "    longitudes = sorted(list(set(lista_longitudes)))\n",
        "    result = []\n",
        "    for n in longitudes:\n",
        "        for num in lista:\n",
        "            if len(str(num)) == n:\n",
        "                result.append(num)\n",
        "    return result\n",
        "\n",
        "# Método 2\n",
        "def ordenar_por_longitud(lista):\n",
        "    return sorted([str(x) for x in lista ], key = len)\n",
        "\n",
        "# Método 3\n",
        "def ordenar_por_longitud(lista):\n",
        "    return sorted(lista, key = lambda x: len(str(x)))\n",
        "\n",
        "# Método 4\n",
        "def ordenar_por_longitud(lista):\n",
        "    lista.sort(key = lambda x: len(str(x)))\n",
        "    return lista"
      ],
      "metadata": {
        "id": "vJdvm1bXKt3s"
      },
      "execution_count": null,
      "outputs": []
    },
    {
      "cell_type": "code",
      "source": [
        "print(ordenar_por_longitud([1, 54, 1, 2, 463, 2]))\n",
        "print(ordenar_por_longitud([999, 421, 22, 990, 32]))\n",
        "print(ordenar_por_longitud([9, 8, 7, 6, 5, 4, 31, 2, 1, 3]))"
      ],
      "metadata": {
        "outputId": "477b75b7-8f29-415a-899a-8b08ba630676",
        "colab": {
          "base_uri": "https://localhost:8080/"
        },
        "id": "X-jx6epMKt3s"
      },
      "execution_count": null,
      "outputs": [
        {
          "output_type": "stream",
          "name": "stdout",
          "text": [
            "[1, 1, 2, 2, 54, 463]\n",
            "[22, 32, 999, 421, 990]\n",
            "[9, 8, 7, 6, 5, 4, 2, 1, 3, 31]\n"
          ]
        }
      ]
    },
    {
      "cell_type": "markdown",
      "source": [
        "## Reto 375: Recursion: Sum of Multiplication\n",
        "* Recursión: Suma de Multiplicación\n",
        "* Dado un número, devuelve la suma total de ese número multiplicado por cada número entre 1 y 10.\n",
        "* No utilices la función integrada sum().\n",
        "* Use una función recursiva para resolverlo.\n",
        "* Ejemplos:\n",
        "    1. multi_sum(1) ➞ 55\n",
        "        * 1 x 1 + 1 x 2 + 1 x 3 ...... 1 x 9 + 1 x 10 = 55\n",
        "    2. multi_sum(2) ➞ 110\n",
        "        * 2 x 1 + 2 x 2 + 2 x 3 ...... 2 x 9 + 2 x 10 = 110\n",
        "    3. multi_sum(5) ➞ 275\n",
        "    4. multi_sum(10) ➞ 550"
      ],
      "metadata": {
        "id": "n0RHSNBVKuAY"
      }
    },
    {
      "cell_type": "code",
      "source": [
        "# Método 1. Con un bucle for\n",
        "def multi_sum(n):\n",
        "    result = 0\n",
        "    for i in range(1, 11):\n",
        "        result += n * i\n",
        "    return result\n",
        "\n",
        "# Método 2. Usando sum\n",
        "def multi_sum(n):\n",
        "    return sum(list(range(1, 11)) * n)\n",
        "\n",
        "# Método 3. Por recursividad, con un parámetro\n",
        "def multi_sum(n, numeros=10):  # funcionaría con un solo parámetro\n",
        "    if n == 1:\n",
        "        return 55\n",
        "    else:\n",
        "        return 55 + multi_sum(n-1)\n",
        "\n",
        "# Método 4. Por recursividad, con dos parámetros\n",
        "def multi_sum(n, numeros=10):\n",
        "  if numeros == 1:\n",
        "    return n\n",
        "  return n * numeros + multi_sum(n, numeros-1)"
      ],
      "metadata": {
        "id": "tto3LwwRKuAZ"
      },
      "execution_count": null,
      "outputs": []
    },
    {
      "cell_type": "code",
      "source": [
        "print(multi_sum(1))\n",
        "print(multi_sum(2))\n",
        "print(multi_sum(5))\n",
        "print(multi_sum(10))"
      ],
      "metadata": {
        "outputId": "2e92344c-d7ef-4be8-aba6-fe2264a12730",
        "colab": {
          "base_uri": "https://localhost:8080/"
        },
        "id": "YvMhDNg1KuAZ"
      },
      "execution_count": null,
      "outputs": [
        {
          "output_type": "stream",
          "name": "stdout",
          "text": [
            "55\n",
            "110\n",
            "275\n",
            "550\n"
          ]
        }
      ]
    },
    {
      "cell_type": "markdown",
      "source": [
        "## Reto 376: Recursion: Reverse a String\n",
        "* Recursión: Invertir una Cadena\n",
        "* Escribe una función que invierta una cadena.\n",
        "* Haz que tu función sea recursiva.\n",
        "* Ejemplos:\n",
        "    1. reverse(\"hello\") ➞ \"olleh\"\n",
        "    2. reverse(\"world\") ➞ \"dlrow\"\n",
        "    3. reverse(\"a\") ➞ \"a\"\n",
        "    4. reverse(\"\") ➞ \"\""
      ],
      "metadata": {
        "id": "d7z5Zr7dKuSx"
      }
    },
    {
      "cell_type": "code",
      "source": [
        "# Método 1\n",
        "def reverse(s):\n",
        "    if s == \"\":\n",
        "        return s\n",
        "    else:\n",
        "        return reverse(s[1:]) + s[0]\n",
        "\n",
        "# Método 2. En una sola línea\n",
        "reverse = lambda s: reverse(s[1:]) + s[0] if s else s\n",
        "\n",
        "# Método 3\n",
        "def reverse(s):\n",
        "    if s == \"\":\n",
        "        return s\n",
        "    else:\n",
        "        return s[-1] + reverse(s[:-1])\n",
        "\n",
        "# Método 4. En una sola línea\n",
        "reverse = lambda s: s[-1] + reverse(s[:-1]) if s else s"
      ],
      "metadata": {
        "id": "v7jjc3ccKuSx"
      },
      "execution_count": null,
      "outputs": []
    },
    {
      "cell_type": "code",
      "source": [
        "print(reverse(\"hello\"))\n",
        "print(reverse(\"world\"))\n",
        "print(reverse(\"a\"))\n",
        "print(reverse(\"\"))"
      ],
      "metadata": {
        "outputId": "a02bf605-da06-4b1e-a2be-ded50ca3321e",
        "colab": {
          "base_uri": "https://localhost:8080/"
        },
        "id": "cN2fCYqpKuSy"
      },
      "execution_count": null,
      "outputs": [
        {
          "output_type": "stream",
          "name": "stdout",
          "text": [
            "olleh\n",
            "dlrow\n",
            "a\n",
            "\n"
          ]
        }
      ]
    },
    {
      "cell_type": "markdown",
      "source": [
        "## Reto 377: Finding Nemo\n",
        "* Buscando a Nemo\n",
        "* Se te da una cadena de palabras.\n",
        "* Necesitas encontrar la palabra \"Nemo\" y devolver una cadena como esta:\n",
        "    - \"Encontré a Nemo en [el orden de la palabra donde encuentres Nemo].\"\n",
        "* Si no puedes encontrar a Nemo, devuelve:\n",
        "    - \"No pude encontrar a Nemo.\"\n",
        "* Ejemplos:\n",
        "    1. find_nemo(\"Estoy buscando a Nemo\") ➞ \"Encontré a Nemo en 4.\"\n",
        "    2. find_nemo(\"Nemo soy yo\") ➞ \"Encontré a Nemo en 1.\"\n",
        "    3. find_nemo(\"Yo Nemo soy\") ➞ \"Encontré a Nemo en 2.\"\n",
        "    4. find_nemo(\"Soy Nemesio\") ➞ \"No pude encontrar a Nemo.\"\n",
        "* Notas\n",
        "    - Nemo siempre se verá como Nemo, y no como NeMo u otras variaciones en mayúsculas.\n",
        "    - La palabra debe ser exactamente \"Nemo\", no vale que lleve caracteres antes o después. Por ejemplo, no vale \"Nemos\"\n",
        "    - Si hay múltiples Nemo en la oración, solo devuelve el primero."
      ],
      "metadata": {
        "id": "39IGLjlCKube"
      }
    },
    {
      "cell_type": "code",
      "source": [
        "# Método 1\n",
        "def find_nemo(frase):\n",
        "    lista = frase.split()\n",
        "    lugar = 0\n",
        "    for i,v in enumerate(lista):\n",
        "        if v == \"Nemo\":\n",
        "            lugar = i + 1\n",
        "            break\n",
        "    if lugar == 0:\n",
        "        return \"No pude encontrar a Nemo.\"\n",
        "    else:\n",
        "        return f\"Encontré a Nemo en {lugar}.\"\n",
        "\n",
        "# Método 2\n",
        "def find_nemo(frase):\n",
        "    palabras = frase.split()\n",
        "    if \"Nemo\" in palabras:\n",
        "        lugar = palabras.index(\"Nemo\") + 1\n",
        "        return f\"Encontré a Nemo en {lugar}.\"\n",
        "    else:\n",
        "        return \"No pude encontrar a Nemo.\""
      ],
      "metadata": {
        "id": "a_sYIQGEKubf"
      },
      "execution_count": null,
      "outputs": []
    },
    {
      "cell_type": "code",
      "source": [
        "print(find_nemo(\"Estoy buscando a Nemo\"))\n",
        "print(find_nemo(\"Nemo soy yo\"))\n",
        "print(find_nemo(\"Yo Nemo soy\"))\n",
        "print(find_nemo(\"Soy Nemesio\"))"
      ],
      "metadata": {
        "outputId": "ed0b1737-ca4f-4af2-d041-75d22c9b599c",
        "colab": {
          "base_uri": "https://localhost:8080/"
        },
        "id": "Zunnk2ZUKubf"
      },
      "execution_count": null,
      "outputs": [
        {
          "output_type": "stream",
          "name": "stdout",
          "text": [
            "Encontré a Nemo en 4.\n",
            "Encontré a Nemo en 1.\n",
            "Encontré a Nemo en 2.\n",
            "No pude encontrar a Nemo.\n"
          ]
        }
      ]
    },
    {
      "cell_type": "markdown",
      "source": [
        "## Reto 378: Grab the City\n",
        "* Toma la Ciudad\n",
        "* Escribe una función para devolver la ciudad de cada uno de estos lugares de vacaciones.\n",
        "* Ejemplos:\n",
        "    1. toma_la_ciudad(\"[¡Último día!] Festival de la Cerveza [Munich]\") ➞ \"Munich\"\n",
        "    2. toma_la_ciudad(\"Tour de la Fábrica de Quesos [Portland]\") ➞ \"Portland\"\n",
        "    3. toma_la_ciudad(\"[¡50% de Descuento!][Tours en Grupo] Viaje a [Kyoto]\") ➞ \"Kyoto\"\n",
        "    4. toma_la_ciudad(\"Iré al [WWC] en [Madrid], me gustan los móviles más punteros.\") ➞ \"Madrid\"\n",
        "* Notas\n",
        "* Puede haber corchetes adicionales, pero la ciudad siempre estará en el último par de corchetes."
      ],
      "metadata": {
        "id": "9JKe1oD-Kuj-"
      }
    },
    {
      "cell_type": "code",
      "source": [
        "# Método 1. Con dos while, buscando desde atras\n",
        "def toma_la_ciudad(cadena):\n",
        "    fin = len(cadena) - 1\n",
        "    while fin > 0:\n",
        "        if cadena[fin] == \"]\":\n",
        "            break\n",
        "        else:\n",
        "            fin -= 1\n",
        "    inicio = fin\n",
        "    while inicio >= 0:\n",
        "        if cadena[inicio] == \"[\":\n",
        "            break\n",
        "        else:\n",
        "            inicio -= 1\n",
        "    return cadena[inicio +1:fin]\n",
        "\n",
        "# Método 2. Con un for buscando desde la izquierda\n",
        "# start contiene el index de los sucesivos caracteres \"[\"\n",
        "# y al final se queda con el último encontrado que es el de más a la derecha\n",
        "# end hace lo mismo con el caracter \"]\"\n",
        "def toma_la_ciudad(cadena):\n",
        "    start = None\n",
        "    end = None\n",
        "    for i in range(len(cadena)):\n",
        "        if cadena[i] == \"[\":\n",
        "            start = i + 1\n",
        "        elif cadena[i] == \"]\" and start is not None:\n",
        "            end = i\n",
        "    if start is not None and end is not None:\n",
        "        return cadena[start:end]\n",
        "    else:\n",
        "        return None\n",
        "\n",
        "# Método 3. Usando rfind, encuentra el primero por la derecha\n",
        "def toma_la_ciudad(cadena):\n",
        "    start = cadena.rfind(\"[\") + 1\n",
        "    end = cadena.rfind(\"]\")\n",
        "    return cadena[start:end]"
      ],
      "metadata": {
        "id": "nz5RGtg8Kuj_"
      },
      "execution_count": null,
      "outputs": []
    },
    {
      "cell_type": "code",
      "source": [
        "print(toma_la_ciudad(\"[¡Último día!] Festival de la Cerveza [Munich]\"))\n",
        "print(toma_la_ciudad(\"Tour de la Fábrica de Quesos [Portland]\"))\n",
        "print(toma_la_ciudad(\"[¡50% de Descuento!][Tours en Grupo] Viaje a [Kyoto]\"))\n",
        "print(toma_la_ciudad(\"Iré al [WWC] en [Madrid], me gustan los móviles más punteros.\"))"
      ],
      "metadata": {
        "outputId": "8730683e-80ac-461d-919b-69150737ec8d",
        "colab": {
          "base_uri": "https://localhost:8080/"
        },
        "id": "Ao2YS5IoKuj_"
      },
      "execution_count": null,
      "outputs": [
        {
          "output_type": "stream",
          "name": "stdout",
          "text": [
            "Munich\n",
            "Portland\n",
            "Kyoto\n",
            "Madrid\n"
          ]
        }
      ]
    },
    {
      "cell_type": "markdown",
      "source": [
        "## Reto 379: Find the Area of a (Regular) Hexagon\n",
        "* Calcular el área de un hexágono\n",
        "* Dada la longitud de un lado $x$, calcular el área de un hexágono regular.\n",
        "* La fórmula es: $A = \\frac{3 \\cdot \\sqrt{3}}{2} \\cdot x^2$\n",
        "* Ejemplos:\n",
        "    1. area_de_hexagono(1) ➞ 2.6\n",
        "    2. area_de_hexagono(2) ➞ 10.4\n",
        "    3. area_de_hexagono(3) ➞ 23.4\n",
        "    4. area_de_hexagono(-4) ➞ `None`\n",
        "*Notas\n",
        "* Devuelve `None` si la longitud del lado dada no es un número entero positivo.\n",
        "* Redondea a la décima más cercana."
      ],
      "metadata": {
        "id": "TVmUNtTYKust"
      }
    },
    {
      "cell_type": "code",
      "source": [
        "# Método 1. Usando la librería math\n",
        "import math\n",
        "\n",
        "def area_de_hexagono(x):\n",
        "    if x <= 0:\n",
        "        return None\n",
        "    area = 3 * math.sqrt(3) / 2 * x ** 2\n",
        "    return round(area, 1)\n",
        "\n",
        "# Método 2. Sin usar math, con un operador ternario y f-string\n",
        "def area_de_hexagono(x):\n",
        "    return None if x <= 0 else f\"{3 ** 1.5 / 2 * x ** 2:.1f}\""
      ],
      "metadata": {
        "id": "QgcTAj_9Kusu"
      },
      "execution_count": null,
      "outputs": []
    },
    {
      "cell_type": "code",
      "source": [
        "print(area_de_hexagono(1))\n",
        "print(area_de_hexagono(2))\n",
        "print(area_de_hexagono(3))\n",
        "print(area_de_hexagono(-4))"
      ],
      "metadata": {
        "outputId": "8b2fa81a-6370-4209-e1c7-5a9b91843b4d",
        "colab": {
          "base_uri": "https://localhost:8080/"
        },
        "id": "0LtffuujKusu"
      },
      "execution_count": null,
      "outputs": [
        {
          "output_type": "stream",
          "name": "stdout",
          "text": [
            "2.6\n",
            "10.4\n",
            "23.4\n",
            "None\n"
          ]
        }
      ]
    },
    {
      "cell_type": "markdown",
      "source": [
        "## Reto 380: Find Unique Positive Numbers from Array\n",
        "* Encontrar Números Positivos Únicos de una Lista\n",
        "* Escribe una función que tome una lista y devuelva una nueva lista con números positivos (más que 0) únicos.\n",
        "* Ejemplos:\n",
        "    1. positivos_unicos([-5, 1, -7, -5, -2, 3, 3, -5, -1, -1]) ➞ [1, 3]\n",
        "    2. positivos_unicos([3, -3, -3, 5, 5, -6, -2, -4, -1, 3]) ➞ [3, 5]\n",
        "    3. positivos_unicos([10, 6, -12, 13, 5, 5, 13, 6, 5]) ➞ [10, 6, 13, 5]\n",
        "    4. positivos_unicos([]) ➞ []\n",
        "* Notas\n",
        "    - Devuelve los elementos en el orden en que se encuentran en la lista.\n",
        "    - Tu función también debería funcionar para listas vacías.\n"
      ],
      "metadata": {
        "id": "fDfergrSKu2Q"
      }
    },
    {
      "cell_type": "code",
      "source": [
        "# Método 1\n",
        "def positivos_unicos(lista):\n",
        "    result = []\n",
        "    for elemento in lista:\n",
        "        if elemento > 0 and elemento not in result:\n",
        "            result.append(elemento)\n",
        "    return result\n",
        "\n",
        "# Método 2\n",
        "def positivos_unicos(lista):\n",
        "    # Inicializar un conjunto para mantener los números positivos únicos\n",
        "    numeros_positivos = set()\n",
        "    # Iterar sobre la lista y agregar los números positivos al conjunto\n",
        "    for num in lista:\n",
        "        if num > 0:\n",
        "            numeros_positivos.add(num)\n",
        "    # Convertir el conjunto a una lista y devolverla\n",
        "    return list(numeros_positivos)"
      ],
      "metadata": {
        "id": "u5vvv0BOKu2R"
      },
      "execution_count": null,
      "outputs": []
    },
    {
      "cell_type": "code",
      "source": [
        "print(positivos_unicos([-5, 1, -7, -5, -2, 3, 3, -5, -1, -1]))\n",
        "print(positivos_unicos([3, -3, -3, 5, 5, -6, -2, -4, -1, 3]))\n",
        "print(positivos_unicos([10, 6, -12, 13, 5, 5, 13, 6, 5]))\n",
        "print(positivos_unicos([]))"
      ],
      "metadata": {
        "outputId": "f8d200af-1d9d-426f-eb00-ce13f5c24437",
        "colab": {
          "base_uri": "https://localhost:8080/"
        },
        "id": "2o7XSdx8Ku2R"
      },
      "execution_count": null,
      "outputs": [
        {
          "output_type": "stream",
          "name": "stdout",
          "text": [
            "[1, 3]\n",
            "[3, 5]\n",
            "[10, 5, 13, 6]\n",
            "[]\n"
          ]
        }
      ]
    },
    {
      "cell_type": "markdown",
      "source": [
        "## Reto 381: ¿Buena combinación?\n",
        "* Good Match?\n",
        "* La función recibe una lista de números.\n",
        "* Se deben \"casar\" cada par de números adyacentes sumándolos, y devolver la lista de \"parejas\", es decir, de sumas.\n",
        "* Si la lista tiene una longitud impar, no podemos formar todas las parejas, así que debería devolver \"mala combinación\".\n",
        "* Ejemplos:\n",
        "    1. es_buena_compinacion([1, 2, 4, 7]) ➞ [1+2, 4+7] ➞ [3, 11]\n",
        "    2. es_buena_compinacion([5, 7, 9, -1, 4, 2]) ➞ [12, 8, 6]\n",
        "    3. es_buena_compinacion([5, 7, 9, -1, 4, 2, 3]) ➞ \"mala combinación\"\n",
        "    4. es_buena_compinacion([2, 6, 7, -2, 4]) ➞ \"mala combinación\""
      ],
      "metadata": {
        "id": "kGi8gHKxKu_v"
      }
    },
    {
      "cell_type": "code",
      "source": [
        "# Método 1. Usando for\n",
        "def es_buena_compinacion(lista):\n",
        "    if len(lista) % 2 != 0:\n",
        "        return \"mala combinación\"\n",
        "    result = []\n",
        "    for i in range(0, len(lista), 2):\n",
        "        result.append(lista[i] + lista[i+1])\n",
        "    return result\n",
        "\n",
        "# Método 2. Usando while\n",
        "def es_buena_compinacion(lista):\n",
        "    if len(lista) % 2 != 0:\n",
        "        return \"mala combinación\"\n",
        "    parejas = []\n",
        "    i = 0\n",
        "    while i < len(lista):\n",
        "        parejas.append(lista[i] + lista[i+1])\n",
        "        i += 2\n",
        "    return parejas\n",
        "\n",
        "# Método 3. Operador ternario\n",
        "def es_buena_compinacion(l):\n",
        "    n = len(l)\n",
        "    return \"mala combinacion\" if n % 2 else [l[i] + l[i+1] for i in range(0, n, 2)]\n",
        "\n",
        "# Método 4. Usando zip\n",
        "def es_buena_compinacion(l):\n",
        "    n = len(l)\n",
        "    return \"mala combinacion\" if n % 2 else [sum(pareja) for pareja in zip(l[::2], l[1::2])]\n",
        "\n",
        "# Método 5. Usando map\n",
        "def es_buena_compinacion(l):\n",
        "    n = len(l)\n",
        "    return \"mala combinacion\" if n % 2 else list(map(sum, zip(l[::2], l[1::2])))"
      ],
      "metadata": {
        "id": "d38t7jjnKu_v"
      },
      "execution_count": null,
      "outputs": []
    },
    {
      "cell_type": "code",
      "source": [
        "print(es_buena_compinacion([1, 2, 4, 7]))\n",
        "print(es_buena_compinacion([5, 7, 9, -1, 4, 2]))\n",
        "print(es_buena_compinacion([5, 7, 9, -1, 4, 2, 3]))\n",
        "print(es_buena_compinacion([2, 6, 7, -2, 4]))"
      ],
      "metadata": {
        "outputId": "5ec676d1-1f84-421e-8d3d-b65fcd424700",
        "colab": {
          "base_uri": "https://localhost:8080/"
        },
        "id": "NnQ6h11QKu_w"
      },
      "execution_count": null,
      "outputs": [
        {
          "output_type": "stream",
          "name": "stdout",
          "text": [
            "[3, 11]\n",
            "[12, 8, 6]\n",
            "mala combinación\n",
            "mala combinación\n"
          ]
        }
      ]
    },
    {
      "cell_type": "markdown",
      "source": [
        "## Reto 382: Reemplazar Vocales con Otro Carácter\n",
        "* Replace Vowel With Another Character\n",
        "* Cree una función que tome una cadena y reemplace las vocales con otro carácter.\n",
        "\n",
        "    - a = 4\n",
        "    - e = 3\n",
        "    - i = 1\n",
        "    - o = 0\n",
        "    - u = 6\n",
        "* Ejemplos:\n",
        "    1. reemplazar_vocales(\"murcielago\") ➞ m6rc13l4g0\n",
        "    2. replace_vowel(\"euforia\") ➞ 36f0r14\n",
        "    3. replace_vowel(\"riachuelo\") ➞ r14ch63l0\n",
        "* La entrada siempre estará en minúsculas."
      ],
      "metadata": {
        "id": "-G0NlJR5KvIf"
      }
    },
    {
      "cell_type": "code",
      "source": [
        "# Método 1. Usando get\n",
        "def reemplazar_vocales(cadena):\n",
        "    vocales = {'a': 4, 'e': 3, 'i': 1, 'o': 0, 'u': 6}\n",
        "    result = \"\"\n",
        "    for char in cadena:\n",
        "        if char not in vocales:\n",
        "            result += char\n",
        "        else:\n",
        "            result += str(vocales.get(char))\n",
        "    return result\n",
        "\n",
        "# Método 2. Los números del diccionario como strings\n",
        "def reemplazar_vocales(cadena):\n",
        "    diccionario = {'a': '4', 'e': '3', 'i': '1', 'o': '0', 'u': '6'}\n",
        "    resultado = ''\n",
        "    for caracter in cadena:\n",
        "        # Si el carácter es una vocal y está en el diccionario, reemplazarlo\n",
        "        if caracter in diccionario:\n",
        "            resultado += diccionario[caracter]\n",
        "        else:\n",
        "            resultado += caracter  # Si no es una vocal, mantener el carácter original\n",
        "    return resultado\n",
        "\n",
        "# Método 3\n",
        "def reemplazar_vocales(cadena):\n",
        "    # Reemplazar cada vocal con su equivalente numérico\n",
        "    cadena = cadena.replace('a', '4')\n",
        "    cadena = cadena.replace('e', '3')\n",
        "    cadena = cadena.replace('i', '1')\n",
        "    cadena = cadena.replace('o', '0')\n",
        "    cadena = cadena.replace('u', '6')\n",
        "    return cadena\n",
        "\n",
        "# Método 4\n",
        "def reemplazar_vocales(cadena):\n",
        "    mapa = {'a': '4', 'e': '3', 'i': '1', 'o': '0', 'u': '6'}\n",
        "    return ''.join(mapa[char] if char in mapa else char for char in cadena)"
      ],
      "metadata": {
        "id": "O9TrgCyLKvIg"
      },
      "execution_count": null,
      "outputs": []
    },
    {
      "cell_type": "code",
      "source": [
        "print(reemplazar_vocales(\"murcielago\"))\n",
        "print(reemplazar_vocales(\"euforia\"))\n",
        "print(reemplazar_vocales(\"riachuelo\"))\n"
      ],
      "metadata": {
        "outputId": "432ab2f0-b7b3-400c-a883-ab94225cfc37",
        "colab": {
          "base_uri": "https://localhost:8080/"
        },
        "id": "lAkz-jQ4KvIg"
      },
      "execution_count": null,
      "outputs": [
        {
          "output_type": "stream",
          "name": "stdout",
          "text": [
            "m6rc13l4g0\n",
            "36f0r14\n",
            "r14ch63l0\n"
          ]
        }
      ]
    },
    {
      "cell_type": "markdown",
      "source": [
        "## Reto 383: Días en un mes\n",
        "* Days in a Month\n",
        "* Cree una función que tome el mes y el año (como enteros) y devuelva el número de días en ese mes.\n",
        "* Ejemplos:\n",
        "    1. dias_del_mes(2, 2018) ➞ 28\n",
        "    2. dias_del_mes(4, 654) ➞ 30\n",
        "    3. dias_del_mes(2, 200) ➞ 28\n",
        "    4. dias_del_mes(2, 1000) ➞ 28\n",
        "    5. dias_del_mes(2, 2024) ➞ 29\n",
        "* ¡No olvide los años bisiestos!"
      ],
      "metadata": {
        "id": "rEoELvVPKvSb"
      }
    },
    {
      "cell_type": "code",
      "source": [
        "# Método 1. Usando un diccionario\n",
        "def dias_del_mes(month, year):\n",
        "    # Verificar si el año es bisiesto\n",
        "    if (year % 4 == 0 and year % 100 != 0) or (year % 400 == 0):\n",
        "        leap_year = True\n",
        "    else:\n",
        "        leap_year = False\n",
        "    # Definir los días en cada mes\n",
        "    days_in_month = {\n",
        "        1: 31,\n",
        "        2: 29 if leap_year else 28,\n",
        "        3: 31,\n",
        "        4: 30,\n",
        "        5: 31,\n",
        "        6: 30,\n",
        "        7: 31,\n",
        "        8: 31,\n",
        "        9: 30,\n",
        "        10: 31,\n",
        "        11: 30,\n",
        "        12: 31\n",
        "    }\n",
        "    return days_in_month[month]\n",
        "\n",
        "# Método 2. Usando una lista\n",
        "def dias_del_mes(month, year):\n",
        "    # Verificar si el año es bisiesto\n",
        "    leap_year = (year % 4 == 0 and year % 100 != 0) or (year % 400 == 0)\n",
        "\n",
        "    # Lista de días en cada mes (considerando febrero para años bisiestos y no bisiestos)\n",
        "    days_in_month = [31, 29 if leap_year else 28, 31, 30, 31, 30, 31, 31, 30, 31, 30, 31]\n",
        "\n",
        "    return days_in_month[month - 1]\n",
        "\n",
        "# Método 3. Usando la librería calendar\n",
        "import calendar\n",
        "\n",
        "def dias_del_mes(month, year):\n",
        "    return calendar.monthrange(year, month)[1]"
      ],
      "metadata": {
        "id": "gzYkiwNJKvSb"
      },
      "execution_count": null,
      "outputs": []
    },
    {
      "cell_type": "code",
      "source": [
        "print(dias_del_mes(2, 2018))\n",
        "print(dias_del_mes(4, 654))\n",
        "print(dias_del_mes(2, 200))\n",
        "print(dias_del_mes(2, 1000))\n",
        "print(dias_del_mes(2, 2024))"
      ],
      "metadata": {
        "outputId": "932594f4-da4f-4ef3-c878-0d1fd3a8cded",
        "colab": {
          "base_uri": "https://localhost:8080/"
        },
        "id": "dyfZ9U_IKvSb"
      },
      "execution_count": null,
      "outputs": [
        {
          "output_type": "stream",
          "name": "stdout",
          "text": [
            "28\n",
            "30\n",
            "28\n",
            "28\n",
            "29\n"
          ]
        }
      ]
    },
    {
      "cell_type": "markdown",
      "source": [
        "## Reto 384: Piezas del Rompecabezas\n",
        "* Puzzle Pieces\n",
        "* Escribe una función que tome dos listas y sume el primer elemento de la primera lista con el primer elemento de la segunda lista, el segundo elemento de la primera lista con el segundo elemento de la segunda lista, y así sucesivamente.\n",
        "* Devuelve `True` si todas las combinaciones de elementos suman el mismo número. De lo contrario, devuelve `False`.\n",
        "* Ejemplos:\n",
        "    1. parejas_de_igual_suma([1, 2, 3, 4], [4, 3, 2, 1]) ➞ True\n",
        "        - 1 + 4 = 5; 2 + 3 = 5; 3 + 2 = 5; 4 + 1 = 5\n",
        "        - Ambas listas suman [5, 5, 5, 5]\n",
        "    2. parejas_de_igual_suma([1, 8, 5, 0, -1, 7], [0, -7, -4, 1, 2, -6]) ➞ True\n",
        "    3. parejas_de_igual_suma([1, 2], [-1, -1]) ➞ False\n",
        "    4. parejas_de_igual_suma([9, 8, 7], [7, 8, 9, 10]) ➞ False\n",
        "\n",
        "* Cada lista tendrá al menos un elemento.\n",
        "* Devuelve False si ambas listas tienen longitudes diferentes."
      ],
      "metadata": {
        "id": "WEtH8-yCKvbL"
      }
    },
    {
      "cell_type": "code",
      "source": [
        "# Método 1\n",
        "def parejas_de_igual_suma(lst1, lst2):\n",
        "    if len(lst1) != len(lst2):\n",
        "        return False\n",
        "    sums = [lst1[i] + lst2[i] for i in range(len(lst1))]\n",
        "    return all(x == sums[0] for x in sums)\n",
        "\n",
        "# Método 2\n",
        "def parejas_de_igual_suma(lst1, lst2):\n",
        "    if len(lst1) != len(lst2):\n",
        "        return False\n",
        "    total = lst1[0] + lst2[0]  # Inicializamos el total con la suma de los primeros elementos\n",
        "    for i in range(1, len(lst1)):\n",
        "        if lst1[i] + lst2[i] != total:\n",
        "            return False\n",
        "    return True\n",
        "\n",
        "# Método 3\n",
        "def parejas_de_igual_suma(lst1, lst2):\n",
        "    if len(lst1) != len(lst2):\n",
        "        return False\n",
        "    sums = [x + y for x, y in zip(lst1, lst2)]  # Lista de sumas de elementos combinados\n",
        "    return all(x == sums[0] for x in sums)  # Verificar si todas las sumas son iguales\n",
        "\n",
        "# Método 4. Con operador ternario\n",
        "def parejas_de_igual_suma(a, b):\n",
        "    return all(x+y==a[0]+b[0] for x,y in zip(a,b)) if len(a) == len(b) else False"
      ],
      "metadata": {
        "id": "QEcHL1YtKvbL"
      },
      "execution_count": null,
      "outputs": []
    },
    {
      "cell_type": "code",
      "source": [
        "print(parejas_de_igual_suma([1, 2, 3, 4], [4, 3, 2, 1]))\n",
        "print(parejas_de_igual_suma([1, 8, 5, 0, -1, 7], [0, -7, -4, 1, 2, -6]))\n",
        "print(parejas_de_igual_suma([1, 2], [-1, -1]))\n",
        "print(parejas_de_igual_suma([9, 8, 7], [7, 8, 9, 10]))"
      ],
      "metadata": {
        "outputId": "0acbeefc-5d77-4744-ce11-473443763875",
        "colab": {
          "base_uri": "https://localhost:8080/"
        },
        "id": "SszhbmCKKvbL"
      },
      "execution_count": null,
      "outputs": [
        {
          "output_type": "stream",
          "name": "stdout",
          "text": [
            "True\n",
            "True\n",
            "False\n",
            "False\n"
          ]
        }
      ]
    },
    {
      "cell_type": "markdown",
      "source": [
        "## Reto 385: Números Narcisistas\n",
        "* Narcissistic Numbers\n",
        "* Un número es narcisista cuando la suma de sus dígitos, elevados cada uno a la cantidad de dígitos, es igual al número mismo.\n",
        "    - 153 ➞ 3 dígitos ➞ 1³ + 5³ + 3³ = 1 + 125 + 27 = 153 ➞ Narcisista\n",
        "    - 84 ➞ 2 dígitos ➞ 8² + 4² = 64 + 16 = 80 ➞ No es narcisista\n",
        "* Dado un entero positivo $n$, implemente una función que devuelva `True` si el número es narcisista y `False` si no lo es.\n",
        "* Ejemplos:\n",
        "    1. es_narcisista(22) ➞ False\n",
        "        * 2² + 2² = 8\n",
        "    2. es_narcisista(8208) ➞ True\n",
        "        * 8⁴ + 2⁴ + 0⁴ + 8⁴ = 8208\n",
        "    3. es_narcisista(9) ➞ True\n",
        "        * 9¹ = 9\n",
        "    4. es_narcisista(32164049651) ➞ True\n",
        "* Trivialmente, cualquier número en el rango 1-9 es narcisista y cualquier número de dos dígitos no lo es.\n",
        "* Dato curioso: solo hay 88 números narcisistas.\n",
        "* Listado de números narcisistas:\n",
        "- 1, 2, 3, 4, 5, 6, 7, 8, 9, 153, 370, 371, 407, 1634, 8208, 9474, 54748, 92727, 93084, 548834, 1741725, 4210818, 9800817, 9926315, 24678050, 24678051, 88593477, 146511208, 472335975, 534494836, 912985153, 4679307774, 32164049650, 32164049651, ..."
      ],
      "metadata": {
        "id": "KwV1mbq2KvkQ"
      }
    },
    {
      "cell_type": "code",
      "source": [
        "# Método 1\n",
        "def es_narcisista(num):\n",
        "    s = str(num)        # convertimos el número en una cadena\n",
        "    n = len(str(s))     # medimos la longitud de la cadena\n",
        "    suma = 0            # inicializamos la variable\n",
        "    for char in s:      # recorremos todos los dígitos\n",
        "        suma += int(char) ** n  # elevamos a n cada dígio y acumulamos en suma\n",
        "    return suma == num  # verificamos si la suma es igual al número original\n",
        "\n",
        "# Método 2\n",
        "def es_narcisista(num):\n",
        "    s = str(num)\n",
        "    n = len(s)\n",
        "    suma = sum(int(char) ** n for char in s)\n",
        "    return suma == num\n",
        "\n",
        "# Método 3 Sin usar str\n",
        "def es_narcisista(num):\n",
        "    # Calcular la cantidad de dígitos en el número\n",
        "    n = 0   # número de dígitos\n",
        "    temp = num\n",
        "    while temp != 0:\n",
        "        temp //= 10\n",
        "        n += 1\n",
        "    # Calcular la suma de los dígitos elevados a n\n",
        "    total = 0   # inicializamos la suma de los dígitos\n",
        "    temp = num\n",
        "    while temp != 0:\n",
        "        digit = temp % 10\n",
        "        total += digit ** n\n",
        "        temp //= 10\n",
        "    return total == num  # verificamos si la suma es igual al número original\n",
        "\n",
        "# Método 4. Sin usar str. Usando dos funciones\n",
        "def contar_digitos(num):    # función recursiva\n",
        "    if (num == 0) :         # condición de parada\n",
        "        return 0\n",
        "    return (1 + contar_digitos(num // 10))\n",
        "\n",
        "# Método 5\n",
        "def es_narcisista(num) :\n",
        "    n = contar_digitos(num)\n",
        "    dup = num   # hacemos un duplicado de num\n",
        "    suma = 0\n",
        "    while (dup) :\n",
        "        suma += (dup % 10) ** n\n",
        "        dup //= 10\n",
        "    return suma == num"
      ],
      "metadata": {
        "id": "VvtloKfpKvkQ"
      },
      "execution_count": null,
      "outputs": []
    },
    {
      "cell_type": "code",
      "source": [
        "print(es_narcisista(22))\n",
        "print(es_narcisista(8208))\n",
        "print(es_narcisista(9))\n",
        "print(es_narcisista(32164049651))"
      ],
      "metadata": {
        "outputId": "19206c05-0062-4dca-baf3-53b52abba6d4",
        "colab": {
          "base_uri": "https://localhost:8080/"
        },
        "id": "X09zpwH3KvkQ"
      },
      "execution_count": null,
      "outputs": [
        {
          "output_type": "stream",
          "name": "stdout",
          "text": [
            "False\n",
            "True\n",
            "True\n",
            "True\n"
          ]
        }
      ]
    },
    {
      "cell_type": "markdown",
      "source": [
        "## Reto 386: Validación de Bit de Paridad\n",
        "* Parity Bit Validation\n",
        "* Los bits de paridad se utilizan como un *checksum* muy simple para asegurar que los datos binarios no se corrompan durante el tránsito.\n",
        "* Así es como funcionan:\n",
        "1. Si una cadena binaria tiene un número impar de 1s, el bit de paridad es un 1.\n",
        "2. Si una cadena binaria tiene un número par de 1s, el bit de paridad es un 0.\n",
        "\n",
        "* El bit de paridad se añade al final de la cadena binaria.\n",
        "* Crea una función que valide si una cadena binaria es válida, utilizando bits de paridad.\n",
        "* Ejemplo de Funcionamiento\n",
        "    - validacion_binaria(\"10110010\") ➞ True\n",
        "        - El último dígito es el bit de paridad.\n",
        "        - 0 es el último dígito.\n",
        "        - 0 significa que debería haber un número par de 1s.\n",
        "        - Hay cuatro 1s.\n",
        "        - Devolver True.\n",
        "* Ejemplos:\n",
        "    1. validacion_binaria(\"00101101\") ➞ True\n",
        "    2. validacion_binaria(\"11000000\") ➞ True\n",
        "    3. validacion_binaria(\"11000001\") ➞ False\n",
        "\n",
        "* Todos los inputs tendrán una longitud de byte (8 caracteres)."
      ],
      "metadata": {
        "id": "ZjKiIqotKvsc"
      }
    },
    {
      "cell_type": "code",
      "source": [
        "# Método 1\n",
        "def validacion_binaria(cadena):\n",
        "    if cadena[-1] == '0' and cadena.count(\"1\") % 2 == 0:\n",
        "        return True\n",
        "    elif cadena[-1] == '1' and cadena[:-2].count(\"1\") % 2:\n",
        "        return True\n",
        "    else:\n",
        "        return False\n",
        "\n",
        "# Método 2\n",
        "def validacion_binaria(cadena):\n",
        "    # Contar el número de 1s en la cadena binaria\n",
        "    count_ones = cadena[:-2].count('1')\n",
        "    # Si el número de 1s es par, el bit de paridad debería ser 0\n",
        "    if count_ones % 2 == 0:\n",
        "        return cadena[-1] == '0'\n",
        "    # Si el número de 1s es impar, el bit de paridad debería ser 1\n",
        "    else:\n",
        "        return cadena[-1] == '1'"
      ],
      "metadata": {
        "id": "vzp6dYKwKvsd"
      },
      "execution_count": null,
      "outputs": []
    },
    {
      "cell_type": "code",
      "source": [
        "print(validacion_binaria(\"10110010\"))   # True\n",
        "print(validacion_binaria(\"00101101\"))   # True\n",
        "print(validacion_binaria(\"11000000\"))   # True\n",
        "print(validacion_binaria(\"11000001\"))   # False"
      ],
      "metadata": {
        "outputId": "fe700cd3-9ecb-4232-b85c-757b05678381",
        "colab": {
          "base_uri": "https://localhost:8080/"
        },
        "id": "pORJin-jKvsd"
      },
      "execution_count": null,
      "outputs": [
        {
          "output_type": "stream",
          "name": "stdout",
          "text": [
            "True\n",
            "True\n",
            "True\n",
            "False\n"
          ]
        }
      ]
    },
    {
      "cell_type": "markdown",
      "source": [
        "## Reto 387: Contar el número de caracteres duplicados\n",
        "* Count the Number of Duplicate Characters\n",
        "* Crea una función que tome una cadena y devuelva el número de caracteres alfanuméricos que ocurren más de una vez.\n",
        "* Ejemplos:\n",
        "    1. contar_duplicados(\"abcde\") ➞ 0\n",
        "    2. contar_duplicados(\"aabbcde\") ➞ 2\n",
        "    3. contar_duplicados(\"abracadabra\") ➞ 3\n",
        "    4. contar_duplicados(\"Aa\") ➞ 0\n",
        "        - Sensible a mayúsculas y minúsculas\n",
        "\n",
        "* Los caracteres duplicados son sensibles a mayúsculas y minúsculas.\n",
        "* La cadena de entrada contendrá solo caracteres alfanuméricos."
      ],
      "metadata": {
        "id": "3pdVoDN9Kv0z"
      }
    },
    {
      "cell_type": "code",
      "source": [
        "# Método 1\n",
        "def contar_duplicados(cadena):\n",
        "    conjunto = set()\n",
        "    for char in cadena:\n",
        "        if cadena.count(char) > 1:\n",
        "            conjunto.add(char)\n",
        "    return len(conjunto)\n",
        "\n",
        "# Método 2\n",
        "def contar_duplicados(s):\n",
        "    return len([x for x in set(s) if s.count(x) > 1])\n",
        "\n",
        "# Método 3\n",
        "def contar_duplicados(string):\n",
        "    # Inicializar un diccionario para contar la frecuencia de cada caracter\n",
        "    char_count = {}\n",
        "    # Inicializar el contador de caracteres duplicados\n",
        "    duplicate_count = 0\n",
        "    # Iterar sobre cada caracter en la cadena\n",
        "    for char in string:\n",
        "        # Incrementar el contador de caracteres para el caracter actual\n",
        "        char_count[char] = char_count.get(char, 0) + 1\n",
        "    # Iterar sobre los elementos del diccionario\n",
        "    for count in char_count.values():\n",
        "        # Si la frecuencia del caracter es mayor que 1, incrementar el contador de caracteres duplicados\n",
        "        if count > 1:\n",
        "            duplicate_count += 1\n",
        "    return duplicate_count"
      ],
      "metadata": {
        "id": "KXmqZcoPKv0z"
      },
      "execution_count": null,
      "outputs": []
    },
    {
      "cell_type": "code",
      "source": [
        "print(contar_duplicados(\"abcde\"))\n",
        "print(contar_duplicados(\"aabbcde\"))\n",
        "print(contar_duplicados(\"abracadabra\"))\n",
        "print(contar_duplicados(\"Aa\"))"
      ],
      "metadata": {
        "outputId": "1d361c33-5437-4c30-edf0-280c3751036e",
        "colab": {
          "base_uri": "https://localhost:8080/"
        },
        "id": "6QdwX8dmKv0z"
      },
      "execution_count": null,
      "outputs": [
        {
          "output_type": "stream",
          "name": "stdout",
          "text": [
            "0\n",
            "2\n",
            "3\n",
            "0\n"
          ]
        }
      ]
    },
    {
      "cell_type": "markdown",
      "source": [
        "## Reto 388: ¿Cuál es el tipo de dato?\n",
        "* What's the Data Type?\n",
        "* Crea una función que devuelva el tipo de dato de una variable dada.\n",
        "* Estos son los siete tipos de datos que se probarán en este desafío:\n",
        "    - Lista\n",
        "    - Diccionario\n",
        "    - Cadena de caracteres\n",
        "    - Entero\n",
        "    - Flotante\n",
        "    - Booleano\n",
        "    - Fecha\n",
        "* Ejemplos:\n",
        "    1. data_type([1, 2, 3, 4]) ➞ \"list\"\n",
        "    2. data_type({'key': \"value\"}) ➞ \"dictionary\"\n",
        "    3. data_type(\"Hola\") ➞ \"string\"\n",
        "    4. data_type(datetime.date(2018,1,1)) ➞ \"date\"\n",
        "\n",
        "* Devuelve el nombre del tipo de dato como una cadena en minúsculas."
      ],
      "metadata": {
        "id": "AjC0vfRTKv_C"
      }
    },
    {
      "cell_type": "code",
      "source": [
        "# Método 1\n",
        "def data_type(variable):\n",
        "    return type(variable).__name__\n",
        "# este método no imprime exactamente string sino str\n",
        "# no imprime dicionary sino dict\n",
        "\n",
        "# Método 2\n",
        "def data_type(variable):\n",
        "    if isinstance(variable, list):\n",
        "        return \"list\"\n",
        "    elif isinstance(variable, dict):\n",
        "        return \"dictionary\"\n",
        "    elif isinstance(variable, str):\n",
        "        return \"string\"\n",
        "    elif isinstance(variable, int):\n",
        "        return \"integer\"\n",
        "    elif isinstance(variable, float):\n",
        "        return \"float\"\n",
        "    elif isinstance(variable, bool):\n",
        "        return \"boolean\"\n",
        "    elif isinstance(variable, datetime.date):\n",
        "        return \"date\"\n",
        "\n",
        "# Método 3\n",
        "def data_type(variable):\n",
        "    # Diccionario que mapea los tipos de datos a las cadenas correspondientes\n",
        "    type_mapping = {\n",
        "        list: \"list\",\n",
        "        dict: \"dictionary\",\n",
        "        str: \"string\",\n",
        "        int: \"integer\",\n",
        "        float: \"float\",\n",
        "        bool: \"boolean\",\n",
        "        datetime.date: \"date\"\n",
        "    }\n",
        "    # Verificar si la variable es una instancia de alguno de los tipos mapeados\n",
        "    for data_type, type_str in type_mapping.items():\n",
        "        if isinstance(variable, data_type):\n",
        "            return type_str\n",
        "    # Si no coincide con ninguno de los tipos mapeados, devolver None\n",
        "    return None"
      ],
      "metadata": {
        "id": "wkImPXuxKv_D"
      },
      "execution_count": null,
      "outputs": []
    },
    {
      "cell_type": "code",
      "source": [
        "import datetime     # necesario para que se reconozca la fecha\n",
        "print(data_type([1, 2, 3, 4]))\n",
        "print(data_type({'key': \"value\"}))\n",
        "print(data_type(\"Hola\"))\n",
        "print(data_type(datetime.date(2024,2,29)))"
      ],
      "metadata": {
        "outputId": "f76af610-4b59-472f-a294-0d76b5219f6f",
        "colab": {
          "base_uri": "https://localhost:8080/"
        },
        "id": "bDWHMnaBKv_D"
      },
      "execution_count": null,
      "outputs": [
        {
          "output_type": "stream",
          "name": "stdout",
          "text": [
            "list\n",
            "dictionary\n",
            "string\n",
            "date\n"
          ]
        }
      ]
    },
    {
      "cell_type": "markdown",
      "source": [
        "## Reto 389: Filtrado por índice\n",
        "* Index Filtering\n",
        "* Crea una función que tome dos entradas: índices (una lista de enteros) y cadena (una cadena de caracteres).\n",
        "* La función debería devolver otra cadena con las letras de la cadena en cada índice en los índices, en orden.\n",
        "* Ejemplos:\n",
        "    1. seleccion([2, 3, 8, 11], \"Autumn in New York\") ➞ \"tune\"\n",
        "    2. seleccion([0, 1, 5, 7, 4, 2], \"Cry me a river\") ➞ \"creamy\"\n",
        "    3. seleccion([0, 7, 15, 16, -1], \"Madrid es la meca del tapeo\") ➞ \"mecano\"\n",
        "\n",
        "* Los índices pueden no estar en orden y pueden ser negativos.\n",
        "* La cadena de salida siempre debe estar en minúsculas, pero la cadena de entrada puede no estarlo."
      ],
      "metadata": {
        "id": "Zz_j21x8Kwp8"
      }
    },
    {
      "cell_type": "code",
      "source": [
        "def seleccion(indices, cadena):\n",
        "    return \"\".join(cadena[i].lower() for i in indices)"
      ],
      "metadata": {
        "id": "qJkSSu2UKwp9"
      },
      "execution_count": null,
      "outputs": []
    },
    {
      "cell_type": "code",
      "source": [
        "print(seleccion([0, 7, 13, -2, -9, 9], \"Europa = 2 x Mozart ^y^ Davinci\"))\n",
        "print(seleccion([-1, 3, -5, 1], \"Primavera florida\"))\n",
        "print(seleccion([0, 7, 8, -4], \"Madrid es la meca del tapeo\"))"
      ],
      "metadata": {
        "outputId": "38bd4c79-0dc5-4740-8ea5-29f926f2978d",
        "colab": {
          "base_uri": "https://localhost:8080/"
        },
        "id": "rQKb3h74Kwp9"
      },
      "execution_count": null,
      "outputs": [
        {
          "output_type": "stream",
          "name": "stdout",
          "text": [
            "e=mc^2\n",
            "amor\n",
            "mesa\n"
          ]
        }
      ]
    },
    {
      "cell_type": "markdown",
      "source": [
        "## Reto 390: Vectores Ortogonales\n",
        "* Orthogonal Vector\n",
        "* Crea una función que tome dos vectores como listas y compruebe si los dos vectores son ortogonales o no.\n",
        "* El valor de retorno es un booleano.\n",
        "* Dos vectores son ortogonales si su producto punto o producto escalar es igual a cero.\n",
        "* Si los vectores están en el plano y son ortogonales equivale a que sean perpendiculares.\n",
        "\n",
        "Dos vectores $a=(a_1,a_2)$ y $b=(b_1,b_2)$ son ortogonales si:\n",
        "$$ a \\cdot b = a_1 \\times b_1 + a_2 \\times b_2 = 0$$\n",
        "\n",
        "* Ejemplos:\n",
        "    1. ortogonales([1, 2], [2, -1]) ➞ True\n",
        "    2. ortogonales([3, -1], [7, 5]) ➞ False\n",
        "    3. ortogonales([1, 2, 0], [2, -1, 10]) ➞ True\n",
        "\n",
        "* Las dos listas tienen la misma longitud.\n",
        "\n",
        "\n",
        "\n",
        "\n",
        "\n"
      ],
      "metadata": {
        "id": "G-wfBiRCKw3i"
      }
    },
    {
      "cell_type": "code",
      "source": [
        "# Método 1\n",
        "def ortogonales(a, b):\n",
        "    producto_escalar = sum(a[i] * b[i] for i in range(len(a)))\n",
        "    return producto_escalar == 0\n",
        "\n",
        "# Método 2\n",
        "def ortogonales(a, b):\n",
        "    return sum(x*y for x,y in zip(a,b)) == 0\n",
        "\n",
        "# Método 3\n",
        "import numpy as np\n",
        "\n",
        "def ortogonales(a, b):\n",
        "    u = np.array(a)     # Convertir las listas en arrays de NumPy\n",
        "    v = np.array(b)     # estos vectores de NumPy se llaman ndarrays\n",
        "    return np.dot(u, v) == 0  # producto punto o producto escalar"
      ],
      "metadata": {
        "id": "Z2d2ak34Kw3i"
      },
      "execution_count": null,
      "outputs": []
    },
    {
      "cell_type": "code",
      "source": [
        "print(ortogonales([1, 2], [2, -1]))\n",
        "print(ortogonales([3, -1], [7, 5]) )\n",
        "print(ortogonales([1, 2, 0], [2, -1, 10]))"
      ],
      "metadata": {
        "outputId": "2e081849-a609-4f98-b4d1-0eaef75cce95",
        "colab": {
          "base_uri": "https://localhost:8080/"
        },
        "id": "MQcw2PQKKw3i"
      },
      "execution_count": null,
      "outputs": [
        {
          "output_type": "stream",
          "name": "stdout",
          "text": [
            "True\n",
            "False\n",
            "True\n"
          ]
        }
      ]
    },
    {
      "cell_type": "markdown",
      "source": [
        "## Reto 391: Completa el número binario\n",
        "* Complete the Binary Number\n",
        "* Crea una función que añada ceros al inicio de una cadena binaria, de modo que su longitud sea un múltiplo de 8.\n",
        "* Ejemplos:\n",
        "    1. complete_binary(\"1100\") ➞ \"00001100\"\n",
        "    2. complete_binary(\"1101100\") ➞ \"01101100\"\n",
        "    3. complete_binary(\"110010100010\") ➞ \"0000110010100010\"\n",
        "\n",
        "* Devuelve la misma cadena si su longitud ya es un múltiplo de 8."
      ],
      "metadata": {
        "id": "ORZEj7-BKxAY"
      }
    },
    {
      "cell_type": "code",
      "source": [
        "def complete_binary(binary_string):\n",
        "    # Calcula la longitud de la cadena binaria\n",
        "    length = len(binary_string)\n",
        "    # Calcula el número de ceros a añadir al inicio\n",
        "    zeros_to_add = (8 - length) % 8\n",
        "    # Concatena los ceros al inicio de la cadena binaria\n",
        "    completed_binary = \"0\" * zeros_to_add + binary_string\n",
        "    return completed_binary\n",
        "\n",
        "# Método 2. Usando rjust, que permite justificar una cadena a la derecha\n",
        "# agregando caracteres específicos hasta alcanzar una longitud determinada\n",
        "def complete_binary(binary_string):\n",
        "    # Calcula la longitud de la cadena binaria\n",
        "    length = len(binary_string)\n",
        "    # Calcula el número de ceros a añadir al inicio\n",
        "    zeros_to_add = (8 - length) % 8\n",
        "    # Justifica la cadena binaria a la derecha agregando ceros\n",
        "    completed_binary = binary_string.rjust(length + zeros_to_add, '0')\n",
        "    return completed_binary"
      ],
      "metadata": {
        "id": "6BsHyUQ6KxAZ"
      },
      "execution_count": null,
      "outputs": []
    },
    {
      "cell_type": "code",
      "source": [
        "print(complete_binary(\"1100\"))            # \"00001100\"\n",
        "print(complete_binary(\"1101100\"))         # \"01101100\"\n",
        "print(complete_binary(\"110010100010\"))    # \"0000110010100010\""
      ],
      "metadata": {
        "outputId": "8eb098c7-91e9-43bd-d70b-aabddd089476",
        "colab": {
          "base_uri": "https://localhost:8080/"
        },
        "id": "xav5cxeFKxAZ"
      },
      "execution_count": null,
      "outputs": [
        {
          "output_type": "stream",
          "name": "stdout",
          "text": [
            "00001100\n",
            "01101100\n",
            "0000110010100010\n"
          ]
        }
      ]
    },
    {
      "cell_type": "markdown",
      "source": [
        "## Reto 392: Par inusual\n",
        "* Strange Pair\n",
        "* Un par de cadenas forman un par inusual si ambas de las siguientes condiciones son verdaderas:\n",
        "1. La primera letra de la primera cadena = la última letra de la segunda cadena.\n",
        "2. La última letra de la primera cadena = la primera letra de la segunda cadena.\n",
        "\n",
        "* Crea una función que devuelva `True` si un par de cadenas constituye un par inusual, y `False` en caso contrario.\n",
        "* Ejemplos:\n",
        "    1. es_pareja_inusual(\"mostaza\", \"amapola\")\n",
        "    2. es_pareja_inusual(\"ratio\", \"orador\") ➞ True\n",
        "    3. es_pareja_inusual(\"amor\", \"rama\") ➞ True\n",
        "    4. es_pareja_inusual(\"llave\", \"estatal\") ➞ True\n",
        "    5. es_pareja_inusual(\"\", \"\") ➞ True\n",
        "\n",
        "* Debe funcionar con un par de cadenas vacías (trivialmente no comparten nada)."
      ],
      "metadata": {
        "id": "W88FRLSDKxJN"
      }
    },
    {
      "cell_type": "code",
      "source": [
        "# Método 1\n",
        "def es_pareja_inusual(a, b):\n",
        "    if len(a) == 0 and len(b) == 0:\n",
        "        return True\n",
        "    elif len(a) > 0 and len(b) > 0:\n",
        "        return a[0] == b[-1] and a[-1] == b[0]\n",
        "    else:\n",
        "        return False\n",
        "\n",
        "# Método 2\n",
        "def es_pareja_inusual(a, b):\n",
        "    return True if len(a) == len(b) == 0 else a[0] == b[-1] and a[-1] == b[0]\n",
        "\n",
        "# Método 3\n",
        "def es_pareja_inusual(cadena1, cadena2):\n",
        "    if cadena1 == \"\" and cadena2 == \"\":\n",
        "        return True\n",
        "    elif cadena1.startswith(cadena2[-1]) and cadena2.endswith(cadena1[0]):\n",
        "        return True\n",
        "    else:\n",
        "        return False"
      ],
      "metadata": {
        "id": "1WFoloutKxJO"
      },
      "execution_count": null,
      "outputs": []
    },
    {
      "cell_type": "code",
      "source": [
        "print(es_pareja_inusual(\"mostaza\", \"amapola\"))\n",
        "print(es_pareja_inusual(\"ratio\", \"orador\"))\n",
        "print(es_pareja_inusual(\"amor\", \"rama\") )\n",
        "print(es_pareja_inusual(\"llave\", \"estatal\"))\n",
        "print(es_pareja_inusual(\"\", \"\"))"
      ],
      "metadata": {
        "outputId": "a182fb66-a7c3-4a92-a3a7-9d572e17c0da",
        "colab": {
          "base_uri": "https://localhost:8080/"
        },
        "id": "cWbrQhixKxJO"
      },
      "execution_count": null,
      "outputs": [
        {
          "output_type": "stream",
          "name": "stdout",
          "text": [
            "False\n",
            "True\n",
            "True\n",
            "True\n",
            "True\n"
          ]
        }
      ]
    },
    {
      "cell_type": "markdown",
      "source": [
        "## Reto 393: Inversión por Rango\n",
        "* Ranged Reversal\n",
        "* Escriba una función que invierta la sublista entre el índice de inicio y el índice de fin (inclusive). El resto de la lista debe mantenerse igual.\n",
        "* Ejemplos:\n",
        "    1. rango_reverso([1, 2, 3, 4, 5, 6], 1, 3) ➞ [1, 4, 3, 2, 5, 6]\n",
        "    2. rango_reverso([1, 2, 3, 4, 5, 6], 0, 4) ➞ [5, 4, 3, 2, 1, 6]\n",
        "    3. rango_reverso([9, 8, 7, 4], 0, 0) ➞ [9, 8, 7, 4]\n",
        "\n",
        "* Las listas estarán indexadas desde cero.\n",
        "* Los índices de inicio y fin siempre serán válidos en el contexto de la lista.\n",
        "* El índice de fin siempre será mayor o igual que el índice de inicio.\n",
        "* Devuelva la lista misma si el índice de inicio y el índice de fin son iguales."
      ],
      "metadata": {
        "id": "-foYQsuyKxQ7"
      }
    },
    {
      "cell_type": "code",
      "source": [
        "# Método 1\n",
        "def rango_reverso(lista, inicio, fin):\n",
        "    centro = lista[inicio:fin+1]\n",
        "    return lista[:inicio] + centro[::-1] + lista[fin+1:]\n",
        "\n",
        "# Método 2\n",
        "def rango_reverso(lista, inicio, fin):\n",
        "    # Invertimos la sublista entre start y end\n",
        "    lista[inicio:fin+1] = lista[inicio:fin+1][::-1]\n",
        "    return lista\n",
        "\n",
        "# Método 3\n",
        "def rango_reverso(lista, inicio, fin):\n",
        "    # Invertir la sublista entre start y end\n",
        "    sublist = lista[inicio:fin+1]\n",
        "    reversed_sublist = sublist[::-1]\n",
        "    lista[inicio:fin+1] = reversed_sublist\n",
        "    return lista"
      ],
      "metadata": {
        "id": "9SUI4APTKxQ7"
      },
      "execution_count": null,
      "outputs": []
    },
    {
      "cell_type": "code",
      "source": [
        "print(rango_reverso([1, 2, 3, 4, 5, 6], 1, 3))\n",
        "print(rango_reverso([1, 2, 3, 4, 5, 6], 0, 4))\n",
        "print(rango_reverso([9, 8, 7, 4], 0, 0))"
      ],
      "metadata": {
        "outputId": "c52b4ac2-8d49-48e2-e92b-9f8abf430714",
        "colab": {
          "base_uri": "https://localhost:8080/"
        },
        "id": "tZCMWOeeKxQ8"
      },
      "execution_count": null,
      "outputs": [
        {
          "output_type": "stream",
          "name": "stdout",
          "text": [
            "[1, 4, 3, 2, 5, 6]\n",
            "[5, 4, 3, 2, 1, 6]\n",
            "[9, 8, 7, 4]\n"
          ]
        }
      ]
    },
    {
      "cell_type": "markdown",
      "source": [
        "## Reto 394: Matemáticas Formateadas de Forma Ordenada\n",
        "* Neatly Formatted Math\n",
        "* Dada una expresión matemática simple como una cadena, formátela de manera ordenada como una ecuación.\n",
        "* Ejemplos:\n",
        "    1. format_math(\"3 + 4\") ➞ \"3 + 4 = 7\"\n",
        "    2. format_math(\"3 - 2\") ➞ \"3 - 2 = 1\"\n",
        "    3. format_math(\"4 x 5\") ➞ \"4 x 5 = 20\"\n",
        "    4. format_math(\"6 / 3\") ➞ \"6 / 3 = 2\"\n",
        "\n",
        "* Deberás manejar la suma, la resta, la multiplicación y la división.\n",
        "* La división tendrá respuestas como números enteros (y obviamente no involucrará el número 0)."
      ],
      "metadata": {
        "id": "l8WzwgsOKxX7"
      }
    },
    {
      "cell_type": "code",
      "source": [
        "# Método 1\n",
        "def format_math(cadena):\n",
        "    cadena = cadena.replace(\"x\", \"*\")\n",
        "    return f\"{cadena} = {int(eval(cadena))}\"\n",
        "\n",
        "# Método 2\n",
        "def format_math(cadena):\n",
        "    n1, simbolo, n2 = cadena.split(\" \")\n",
        "    n1 = int(n1)\n",
        "    n2 = int(n2)\n",
        "    operaciones = {\"+\": lambda a,b: a+b,\n",
        "                   \"-\": lambda a,b: a-b,\n",
        "                   \"x\": lambda a,b: a*b,\n",
        "                   \"/\": lambda a,b: a//b}\n",
        "    return f\"{cadena} = {operaciones.get(simbolo)(n1, n2)}\"\n",
        "\n",
        "# Método 3\n",
        "def format_math(expression):\n",
        "    # Dividir la expresión en sus componentes: número1, operador, número2\n",
        "    components = expression.split()\n",
        "    num1 = int(components[0])\n",
        "    operator = components[1]\n",
        "    num2 = int(components[2])\n",
        "    # Calcular el resultado según el operador\n",
        "    if operator == '+':\n",
        "        result = num1 + num2\n",
        "    elif operator == '-':\n",
        "        result = num1 - num2\n",
        "    elif operator == 'x':\n",
        "        result = num1 * num2\n",
        "    elif operator == '/':\n",
        "        result = num1 / num2\n",
        "    # Formatear la expresión como una ecuación\n",
        "    equation = f\"{num1} {operator} {num2} = {int(result)}\"\n",
        "    return equation\n",
        "\n",
        "# Método 4\n",
        "def format_math(expression):\n",
        "    # Inicializar variables para almacenar los números y el operador\n",
        "    num1 = ''\n",
        "    num2 = ''\n",
        "    operator = ''\n",
        "    result = ''\n",
        "    # Analizar la expresión caracter por caracter\n",
        "    for char in expression:\n",
        "        if char.isdigit():\n",
        "            if not operator:\n",
        "                num1 += char\n",
        "            else:\n",
        "                num2 += char\n",
        "        else:\n",
        "            operator += char\n",
        "    # Convertir los números de cadena a enteros\n",
        "    num1 = int(num1)\n",
        "    num2 = int(num2)\n",
        "    # quitar espacios\n",
        "    operator = operator.strip()\n",
        "    # Realizar la operación correspondiente\n",
        "    if operator == '+':\n",
        "        result = num1 + num2\n",
        "    elif operator == '-':\n",
        "        result = num1 - num2\n",
        "    elif operator == 'x':\n",
        "        result = num1 * num2\n",
        "    elif operator == '/':\n",
        "        result = num1 / num2\n",
        "    return f\"{num1} {operator} {num2} = {int(result)}\""
      ],
      "metadata": {
        "id": "RHnN5hG0KxX8"
      },
      "execution_count": null,
      "outputs": []
    },
    {
      "cell_type": "code",
      "source": [
        "print(format_math(\"3 + 4\"))\n",
        "print(format_math(\"3 - 2\"))\n",
        "print(format_math(\"4 x 5\"))\n",
        "print(format_math(\"6 / 3\"))\n",
        "print(format_math(\"120 / 40\"))"
      ],
      "metadata": {
        "outputId": "40bb970f-e932-49b7-cd25-f5bf1ad1a1c5",
        "colab": {
          "base_uri": "https://localhost:8080/"
        },
        "id": "KmepcjmIKxX8"
      },
      "execution_count": null,
      "outputs": [
        {
          "output_type": "stream",
          "name": "stdout",
          "text": [
            "3 + 4 = 7\n",
            "3 - 2 = 1\n",
            "4 x 5 = 20\n",
            "6 / 3 = 2\n",
            "120 / 40 = 3\n"
          ]
        }
      ]
    },
    {
      "cell_type": "markdown",
      "source": [
        "## Reto 395: Catástrofe malthusiana\n",
        "* Malthusian Catastrophe\n",
        "* El economista Thomas Malthus describió lo que ahora se llama una Catástrofe Malthusiana.\n",
        "* Según este autor, la producción de alimentos crece por una cantidad fija, pero la población crece por un porcentaje.\n",
        "* Por lo tanto, pronto la oferta de alimentos sería insuficiente para la población.\n",
        "* Tu tarea es descubrir cuándo ocurrirá eso.\n",
        "* Para este desafío, supón que 1 persona necesita 1 unidad de producción de alimentos.\n",
        "* La producción de alimentos y la población comienzan ambos en 100. El año comienza en 0.\n",
        "* La catástrofe ocurre cuando la población es mayor que la producción de alimentos.\n",
        "* La función pasará:\n",
        "    - food_growth: un número entero: aumento de la producción de alimentos por año.\n",
        "    - pop_mult: un número de punto flotante: multiplicador de crecimiento de la población por año.\n",
        "* Ejemplos:\n",
        "    1. malthusian(4255, 1.41) ➞ 20\n",
        "        - { food_prod: 85,200, pop: 96,467.77..., year: 20 }\n",
        "    2. malthusian(9433, 1.09) ➞ 107\n",
        "        - { food_prod: 1,009,431, pop: 1,010,730.28..., year: 107 }\n",
        "    3. malthusian(5879, 1.77) ➞ 12\n",
        "        - { food_prod: 70,648, pop: 94,553.84..., year: 12 }\n",
        "\n",
        "* Devuelve el año en que ocurre el adelantamiento, no el siguiente año.\n",
        "* Asegúrate de no cometer el error de agregar un año y luego calcular los cambios en la comida y la población. De esa manera, te saltas el año 0.\n",
        "* Si la población y la producción de alimentos son iguales, eso no es una catástrofe."
      ],
      "metadata": {
        "id": "h5pIFEe4KxfU"
      }
    },
    {
      "cell_type": "code",
      "source": [
        "# Método 1\n",
        "def malthusian(food_growth, pop_mult):\n",
        "    year = 0\n",
        "    food = pop = 100\n",
        "    while food >= pop:\n",
        "        food += food_growth\n",
        "        pop *= pop_mult\n",
        "        year += 1\n",
        "    return year\n",
        "\n",
        "# Método 2\n",
        "import math\n",
        "\n",
        "def malthusian(food_growth, pop_mult):\n",
        "    initial_food = initial_pop = 100\n",
        "    for year in range(1000):\n",
        "        if initial_pop * pop_mult ** year > initial_food + food_growth * year:\n",
        "            return year\n",
        "    return \"Ni en 1000 años se ha terminado la comida.\""
      ],
      "metadata": {
        "id": "IQwAfvGDKxfV"
      },
      "execution_count": null,
      "outputs": []
    },
    {
      "cell_type": "code",
      "source": [
        "print(malthusian(4255, 1.41) )\n",
        "print(malthusian(9433, 1.09))\n",
        "print(malthusian(5879, 1.77))"
      ],
      "metadata": {
        "outputId": "44d92360-ac42-4811-b824-742b9c33f19b",
        "colab": {
          "base_uri": "https://localhost:8080/"
        },
        "id": "PNknXdMqKxfV"
      },
      "execution_count": null,
      "outputs": [
        {
          "output_type": "stream",
          "name": "stdout",
          "text": [
            "20\n",
            "107\n",
            "12\n"
          ]
        }
      ]
    },
    {
      "cell_type": "markdown",
      "source": [
        "## Reto 396: Capitalizar la primera letra de cada palabra\n",
        "* Capitalize the First Letter of Each Word\n",
        "* Crea una función que tome una cadena como argumento y convierta el primer carácter de cada palabra en mayúscula.\n",
        "* Devuelve la cadena recién formateada.\n",
        "* Ejemplos:\n",
        "    1. make_title(\"This is a title\") ➞ \"This Is A Title\"\n",
        "    2. make_title(\"capitalize every word\") ➞ \"Capitalize Every Word\"\n",
        "    3. make_title(\"I Like Pizza\") ➞ \"I Like Pizza\"\n",
        "    4. make_title(\"pizza PiZZa PIZZA\") ➞ \"Pizza PiZZa PIZZA\"\n",
        "\n",
        "* Puedes esperar una cadena válida para cada caso de prueba.\n",
        "* Algunas palabras pueden contener más de una letra mayúscula."
      ],
      "metadata": {
        "id": "E7_skBa9KxnD"
      }
    },
    {
      "cell_type": "code",
      "source": [
        "# Método 1\n",
        "def make_title(s):\n",
        "    # Capitalizar la primera letra de cada palabra\n",
        "    result = ' '.join(word[0].upper() + word[1:] for word in s.split())\n",
        "    return result\n",
        "\n",
        "# Método 2\n",
        "def make_title_custom(s):\n",
        "    words = s.split()\n",
        "    result = ' '.join(word[:1].upper() + word[1:] for word in words)\n",
        "    return result"
      ],
      "metadata": {
        "id": "gZvS0h3bKxnD"
      },
      "execution_count": null,
      "outputs": []
    },
    {
      "cell_type": "code",
      "source": [
        "print(make_title(\"This is a title\"))\n",
        "print(make_title(\"capitalize every word\"))\n",
        "print(make_title(\"I Like Pizza\"))\n",
        "print(make_title(\"pizza PiZZa PIZZA\"))"
      ],
      "metadata": {
        "outputId": "bd264bdb-dbba-4f94-90aa-f02901a2ca7d",
        "colab": {
          "base_uri": "https://localhost:8080/"
        },
        "id": "q8RqtJBtKxnE"
      },
      "execution_count": null,
      "outputs": [
        {
          "output_type": "stream",
          "name": "stdout",
          "text": [
            "This Is A Title\n",
            "Capitalize Every Word\n",
            "I Like Pizza\n",
            "Pizza PiZZa PIZZA\n"
          ]
        }
      ]
    },
    {
      "cell_type": "markdown",
      "source": [
        "## Reto 397: Partes de tamaño N\n",
        "* N-Sized Parts\n",
        "* Crea una función que divida una cadena en partes de tamaño n.\n",
        "* Ejemplos:\n",
        "    1. partition(\"Roma\", 2) ➞ [\"Ro\", \"ma\"]\n",
        "    2. partition(\"Victoria\", 4) ➞ [\"Vict\", \"oria\"]\n",
        "    3. partition(\"esternocleidosmastoideos\", 7) ➞ [\"esterno\", \"cleidos\", \"mastoid\", \"eos\"]\n",
        "    4. partition(\"Rio\", 2) ➞ [\"Ri\", \"o\"]\n",
        "\n",
        "* Para entradas que no se dividen de manera uniforme en partes de tamaño N, el último elemento en el array tendrá una cadena \"restante\"."
      ],
      "metadata": {
        "id": "xMf0cEsOKxux"
      }
    },
    {
      "cell_type": "code",
      "source": [
        "# Método 1\n",
        "def partition(cadena, n):\n",
        "    result = []\n",
        "    while cadena:\n",
        "        part, cadena = cadena[:n], cadena[n:]\n",
        "        result.append(part)\n",
        "    return result\n",
        "\n",
        "# Método 2\n",
        "def partition(cadena, n):\n",
        "    return [cadena[i:i + n] for i in range(0, len(cadena), n)]"
      ],
      "metadata": {
        "id": "7N-7fWSUKxuy"
      },
      "execution_count": null,
      "outputs": []
    },
    {
      "cell_type": "code",
      "source": [
        "print(partition(\"Roma\", 2))\n",
        "print(partition(\"Victoria\", 4))\n",
        "print(partition(\"esternocleidosmastoideos\", 7))\n",
        "print(partition(\"Rio\", 2))"
      ],
      "metadata": {
        "outputId": "2b06b8a6-8dc6-4d8b-d4e9-0e0b4f365ec1",
        "colab": {
          "base_uri": "https://localhost:8080/"
        },
        "id": "1sGoFtj1Kxuy"
      },
      "execution_count": null,
      "outputs": [
        {
          "output_type": "stream",
          "name": "stdout",
          "text": [
            "['Ro', 'ma']\n",
            "['Vict', 'oria']\n",
            "['esterno', 'cleidos', 'mastoid', 'eos']\n",
            "['Ri', 'o']\n"
          ]
        }
      ]
    },
    {
      "cell_type": "markdown",
      "source": [
        "## Reto 398: ¿Existe un número?\n",
        "* Does a Number Exist?\n",
        "* Crea una función que valide si un número dado existe y podría representar una cantidad de la vida real.\n",
        "* Las entradas se darán como una cadena.\n",
        "* Ejemplos:\n",
        "    1. valid_str_number(\"3.2\") ➞ True\n",
        "    2. valid_str_number(\"324\") ➞ True\n",
        "    3. valid_str_number(\".5\") ➞ True\n",
        "    4. valid_str_number(\"0003\") ➞ True\n",
        "    5. valid_str_number(\"54..4\") ➞ False\n",
        "    6. valid_str_number(\"number\") ➞ False\n",
        "\n",
        "* Aceptar números como .5 y 0003."
      ],
      "metadata": {
        "id": "mHpIRb4OKx25"
      }
    },
    {
      "cell_type": "code",
      "source": [
        "#Método 1. Usando eval en Try...Except\n",
        "def valid_str_number(cadena):\n",
        "    try:\n",
        "        cadena = cadena.lstrip(\"0\")\n",
        "        eval(cadena)\n",
        "        return True\n",
        "    except:\n",
        "        return False\n",
        "\n",
        "#Método 2. Usando float en Try...Except\n",
        "def valid_str_number(cadena):\n",
        "    try:\n",
        "        float(cadena)\n",
        "        return True\n",
        "    except ValueError:\n",
        "        return False"
      ],
      "metadata": {
        "id": "LHnWA7hKKx25"
      },
      "execution_count": 18,
      "outputs": []
    },
    {
      "cell_type": "code",
      "source": [
        "print(valid_str_number(\"-3.2\"))\n",
        "print(valid_str_number(\"324\"))\n",
        "print(valid_str_number(\".5\"))\n",
        "print(valid_str_number(\"0003\"))\n",
        "print(valid_str_number(\"54..4\"))\n",
        "print(valid_str_number(\"number\"))"
      ],
      "metadata": {
        "outputId": "3d6c1858-1871-441e-af79-29ba7de656fd",
        "colab": {
          "base_uri": "https://localhost:8080/"
        },
        "id": "Q3cSLk9pKx25"
      },
      "execution_count": 19,
      "outputs": [
        {
          "output_type": "stream",
          "name": "stdout",
          "text": [
            "False\n",
            "True\n",
            "False\n",
            "True\n",
            "False\n",
            "False\n"
          ]
        }
      ]
    },
    {
      "cell_type": "markdown",
      "source": [
        "## Reto 399: Eliminar las letras ABC\n",
        "* Remove the Letters ABC\n",
        "* Crea una función que elimine las letras “a”, “b” y “c” de la cadena dada y devuelva la versión modificada.\n",
        "* Si la cadena dada no contiene “a”, “b” o “c”, devuelve None.\n",
        "* Ejemplos:\n",
        "    1. remove_abc(\"Ana canta una cancanción\") ➞ n nt un nnión\n",
        "    2. remove_abc(\"Dime lo que ves\") ➞ None\n",
        "    3. remove_abc(\"\") ➞ None"
      ],
      "metadata": {
        "id": "LP4ytkpXKyBd"
      }
    },
    {
      "cell_type": "code",
      "source": [
        "# Método 1\n",
        "def remove_abc(s):\n",
        "    s = s.lower()\n",
        "    s_inicial = s\n",
        "    s = s.replace('a', \"\")\n",
        "    s = s.replace('b', \"\")\n",
        "    s = s.replace('c', \"\")\n",
        "    return None if s == s_inicial else s\n",
        "\n",
        "# Método 2\n",
        "def remove_abc(s):\n",
        "    s = s.lower()\n",
        "    if any(char in \"abc\" for char in s):\n",
        "        return ''.join(char for char in s if char not in 'abc')\n",
        "    return None"
      ],
      "metadata": {
        "id": "Vd7i1-4fKyBd"
      },
      "execution_count": 45,
      "outputs": []
    },
    {
      "cell_type": "code",
      "source": [
        "print(remove_abc(\"Ana canta una cancanción\"))\n",
        "print(remove_abc(\"Dime lo que ves\"))\n",
        "print(remove_abc(\"\"))"
      ],
      "metadata": {
        "outputId": "ba0c016b-8043-4415-826b-9b0097258f4c",
        "colab": {
          "base_uri": "https://localhost:8080/"
        },
        "id": "X3NW0O4pKyBd"
      },
      "execution_count": 46,
      "outputs": [
        {
          "output_type": "stream",
          "name": "stdout",
          "text": [
            "n nt un nnión\n",
            "None\n",
            "None\n"
          ]
        }
      ]
    },
    {
      "cell_type": "markdown",
      "source": [
        "## Reto 400: Maratón de Cortes de Cadenas\n",
        "* String Slice-athon\n",
        "* Este desafío consta de cinco ejercicios en miniatura para practicar la habilidad de cortar cadenas.\n",
        "* Echa un vistazo a los ejemplos a continuación para ver cómo se deben cortar las cadenas.\n",
        "* Ejemplos:\n",
        "    - txt = \"abcdefghijklmnopqrstuvwxyz\"\n",
        "    1. challenge1(txt) ➞ \"abcde\"\n",
        "        - Primeros 5 caracteres de la cadena.\n",
        "    2. challenge2(txt) ➞ \"vwxyz\"\n",
        "        - Últimos 5 caracteres de la cadena.\n",
        "    3. challenge3(txt) ➞ \"zyxwvutsrqponmlkjihgfedcba\"\n",
        "        - Todos los caracteres de la cadena en orden inverso.\n",
        "    4. challenge4(txt) ➞ \"fedcba\"\n",
        "        - Primeros 6 caracteres de la cadena (comenzando desde el sexto carácter y retrocediendo).\n",
        "    5. challenge5(txt) ➞ \"tvxz\"\n",
        "        - Tomar los últimos 7 caracteres y devolver solo los que están en posiciones impares.\n",
        "\n",
        "* ¡No se permite concatenar cadenas!\n",
        "* Los resultados deben lograrse exclusivamente mediante el corte de cadenas."
      ],
      "metadata": {
        "id": "8Qa-0FmxBynP"
      }
    },
    {
      "cell_type": "code",
      "source": [
        "def challenge1(s):\n",
        "\treturn s[:5]\n",
        "\n",
        "def challenge2(s):\n",
        "\treturn s[-5:]\n",
        "\n",
        "def challenge3(s):\n",
        "\treturn s[::-1]\n",
        "\n",
        "def challenge4(s):\n",
        "\treturn s[5::-1]\n",
        "\n",
        "def challenge5(s):\n",
        "\treturn s[-7::2]"
      ],
      "metadata": {
        "id": "YESUC8UdByna"
      },
      "execution_count": 57,
      "outputs": []
    },
    {
      "cell_type": "code",
      "source": [
        "txt = \"abcdefghijklmnopqrstuvwxyz\"\n",
        "print(challenge1(txt))\n",
        "print(challenge2(txt))\n",
        "print(challenge3(txt))\n",
        "print(challenge4(txt))\n",
        "print(challenge5(txt))"
      ],
      "metadata": {
        "outputId": "9108b09e-1b1c-43ea-a526-04f9f1c7e918",
        "colab": {
          "base_uri": "https://localhost:8080/"
        },
        "id": "QDPpg7SmByna"
      },
      "execution_count": 58,
      "outputs": [
        {
          "output_type": "stream",
          "name": "stdout",
          "text": [
            "abcde\n",
            "vwxyz\n",
            "zyxwvutsrqponmlkjihgfedcba\n",
            "fedcba\n",
            "tvxz\n"
          ]
        }
      ]
    }
  ]
}
