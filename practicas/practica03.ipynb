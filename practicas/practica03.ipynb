{
  "nbformat": 4,
  "nbformat_minor": 0,
  "metadata": {
    "colab": {
      "provenance": [],
      "authorship_tag": "ABX9TyPBofX1t6jppQ9yFp/8qkcO",
      "include_colab_link": true
    },
    "kernelspec": {
      "name": "python3",
      "display_name": "Python 3"
    },
    "language_info": {
      "name": "python"
    }
  },
  "cells": [
    {
      "cell_type": "markdown",
      "metadata": {
        "id": "view-in-github",
        "colab_type": "text"
      },
      "source": [
        "<a href=\"https://colab.research.google.com/github/financieras/curso_python/blob/main/practicas/practica03.ipynb\" target=\"_parent\"><img src=\"https://colab.research.google.com/assets/colab-badge.svg\" alt=\"Open In Colab\"/></a>"
      ]
    },
    {
      "cell_type": "markdown",
      "source": [
        "## Reto 21: Mínimo de una lista\n",
        "* Cree una función que tome una lista de números y devuelva el número más pequeño de la lista.\n",
        "* Los números pueden contener decimales y ser negativos.\n",
        "* Ejemplos:\n",
        "    1. minimo([34, 15, 88, 2]) ➞ 2\n",
        "    2. minimo([34, -345, -1, 100]) ➞ -345\n",
        "    3. minimo([-76, 1.345, 1, 0]) ➞ -76\n",
        "    4. minimo([0.4356, 0.8795, 0.5435, -0.9999]) ➞ -0.9999\n",
        "    5. minimo([7, 7, 7]) ➞ 7"
      ],
      "metadata": {
        "id": "kttACsV1x3q6"
      }
    },
    {
      "cell_type": "code",
      "source": [
        "def minimo(lista):\n",
        "    pass"
      ],
      "metadata": {
        "id": "qruxYiOIvWFE"
      },
      "execution_count": null,
      "outputs": []
    },
    {
      "cell_type": "code",
      "source": [
        "print(minimo([34, 15, 88, 2]))\n",
        "print(minimo([34, -345, -1, 100]))\n",
        "print(minimo([-76, 1.345, 1, 0]))\n",
        "print(minimo([0.4356, 0.8795, 0.5435, -0.9999]))\n",
        "print(minimo([7, 7, 7]))"
      ],
      "metadata": {
        "id": "y-vDS-WTvhcG"
      },
      "execution_count": null,
      "outputs": []
    },
    {
      "cell_type": "markdown",
      "source": [
        "## Reto 22: Diferencia entre el Max y el Min de una lista\n",
        "* Diferencia de números máximos y mínimos en la lista.\n",
        "* Ejemplos:\n",
        "    1. dif([10, 4, 1, 4, -50, 32, 21]) ➞ 82\n",
        "    2. dif([44, 32, 86, 19]) ➞ 67"
      ],
      "metadata": {
        "id": "jdFINvlIpjy_"
      }
    },
    {
      "cell_type": "code",
      "source": [
        "def dif(lista):\n",
        "    pass"
      ],
      "metadata": {
        "id": "xtx05YqpwvCe"
      },
      "execution_count": null,
      "outputs": []
    },
    {
      "cell_type": "code",
      "source": [
        "print(dif([10, 4, 1, 4, -50, 32, 21]))\n",
        "print(dif([44, 32, 86, 19]))"
      ],
      "metadata": {
        "id": "p3QV7P-LxAT5"
      },
      "execution_count": null,
      "outputs": []
    },
    {
      "cell_type": "markdown",
      "source": [
        "## Reto 23: Concatenando dos listas de enteros\n",
        "* Cree una función para concatenar dos listas de enteros.\n",
        "* Ejemplos:\n",
        "    1. concat([1, 3, 5], [2, 6, 8]) ➞ [1, 3, 5, 2, 6, 8]\n",
        "    2. concat([7, 8], [10, 9, 1, 1, 2]) ➞ [7, 8, 10, 9, 1, 1, 2]\n",
        "    3. concat([4, 5, 1], [3, 3, 3, 3, 3]) ➞ [4, 5, 1, 3, 3, 3, 3, 3]"
      ],
      "metadata": {
        "id": "YIrcaGQPq1al"
      }
    },
    {
      "cell_type": "code",
      "source": [
        "def concat(arr1, arr2):\n",
        "    pass"
      ],
      "metadata": {
        "id": "pHgX6BEV4uCv"
      },
      "execution_count": null,
      "outputs": []
    },
    {
      "cell_type": "code",
      "source": [
        "print(concat([1, 3, 5], [2, 6, 8]))\n",
        "print(concat([7, 8], [10, 9, 1, 1, 2]))\n",
        "print(concat([4, 5, 1], [3, 3, 3, 3, 3]))"
      ],
      "metadata": {
        "id": "nT2eUjEh60v4"
      },
      "execution_count": null,
      "outputs": []
    },
    {
      "cell_type": "markdown",
      "source": [
        "## Reto 24: Retornar el último elemento de una lista\n",
        "* Cree una función que reciba una lista y devuelva el último elemento de la lista.\n",
        "* La lista puede contener diferentes tipos de datos.\n",
        "* Si la lista está vacía devolverá `None`\n",
        "* Ejemplos:\n",
        "    1. ultimo([1, 2, 3]) ➞ 3\n",
        "    2. ultimo([\"cat\", \"dog\", \"duck\"]) ➞ \"duck\"\n",
        "    3. ultimo([True, False, True]) ➞ True\n",
        "    4. ultimo([7, \"String\", False, [1, 2, 3]]) ➞ [1, 2, 3]\n",
        "    5. ultimo([]) ➞ None"
      ],
      "metadata": {
        "id": "uoA-bb5ErWmh"
      }
    },
    {
      "cell_type": "code",
      "source": [
        "def ultimo(lst):\n",
        "    pass"
      ],
      "metadata": {
        "id": "8giKtUwS7Ze-"
      },
      "execution_count": null,
      "outputs": []
    },
    {
      "cell_type": "code",
      "source": [
        "print(ultimo([1, 2, 3]))\n",
        "print(ultimo([\"cat\", \"dog\", \"duck\"]))\n",
        "print(ultimo([True, False, True]))\n",
        "print(ultimo([7, \"String\", False, [1, 2, 3]]))\n",
        "print(ultimo([]))"
      ],
      "metadata": {
        "id": "NY-JOjw47lmc"
      },
      "execution_count": null,
      "outputs": []
    },
    {
      "cell_type": "markdown",
      "source": [
        "## Reto 25: ¡Jorge creó un bucle infinito!\n",
        "* Ayúdale arreglando el código para que los ejemplos siguientes trabajen correctamente.\n",
        "* Ejemplos:\n",
        "    1. generar_array(1) ➞ [1]\n",
        "    2. generar_array(3) ➞ [1, 2, 3]\n",
        "    3. generar_array(6) ➞ [1, 2, 3, 4, 5, 6]\n",
        "\n",
        "* Este es el código que no funciona bien:\n",
        "\n",
        "```python\n",
        "def generar_array(n):\n",
        "    numeros = []\n",
        "    i = 0\n",
        "    while i <= n:\n",
        "        numeros.append(i)\n",
        "    return numeros\n",
        "```"
      ],
      "metadata": {
        "id": "vto4bc1xSygj"
      }
    },
    {
      "cell_type": "code",
      "source": [
        "def generar_array(n):\n",
        "    pass"
      ],
      "metadata": {
        "id": "gCj24j0O84wK"
      },
      "execution_count": null,
      "outputs": []
    },
    {
      "cell_type": "code",
      "source": [
        "print(generar_array(1))\n",
        "print(generar_array(3))\n",
        "print(generar_array(6))"
      ],
      "metadata": {
        "id": "lYi93nYr8--z"
      },
      "execution_count": null,
      "outputs": []
    },
    {
      "cell_type": "markdown",
      "source": [
        "## Reto 26: ¡Lucía quiere intercambiar dos números!\n",
        "* La función no está devolviendo los valores correctos.\n",
        "* ¿Puedes ayudarla solucionando los bugs?\n",
        "* Los valores retornados correctos deberían ser estos:\n",
        "* Ejemplos:\n",
        "    1. swap(100, 200) ➞ [200, 100]\n",
        "    2. swap(44, 33) ➞ [33, 44]\n",
        "    3. swap(0, -1) ➞ [-1, 0]\n",
        "\n",
        "* Este es el código que no está funcionando correctamente:\n",
        "\n",
        "<pre>\n",
        "del swap(a, b)\n",
        "\tb = a\n",
        "\ta = b\n",
        "\treturn [a, b]\n",
        "</pre>"
      ],
      "metadata": {
        "id": "Q4BQ1xfASykd"
      }
    },
    {
      "cell_type": "code",
      "source": [
        "def swap(a, b):\n",
        "    pass"
      ],
      "metadata": {
        "id": "1d9q0TXK_-zl"
      },
      "execution_count": null,
      "outputs": []
    },
    {
      "cell_type": "code",
      "source": [
        "print(swap(100, 200))\n",
        "print(swap(44, 33))\n",
        "print(swap(0, -1))"
      ],
      "metadata": {
        "id": "rsX_8-9kAUiO"
      },
      "execution_count": null,
      "outputs": []
    },
    {
      "cell_type": "markdown",
      "source": [
        "## Reto 27: Recuento en la granja\n",
        "* Un granjero te pide que le ayudes a conocer cuántas patas puede contar entre todos sus animales.\n",
        "* El granjero cría tres especies: gallinas, vacas y cerdos.\n",
        "* El orden de los parámetros en la función ha de ser:\n",
        "    - 1º gallinas\n",
        "    - 2º vacas\n",
        "    - 3º cerdos\n",
        "* Recuerde que el granjero quiere saber el número total de patas y no el número total de animales.\n",
        "* Ejemplos:\n",
        "    1. patas(2, 3, 5) ➞ 36\n",
        "    2. patas(1, 2, 3) ➞ 22\n",
        "    3. patas(5, 2, 8) ➞ 50"
      ],
      "metadata": {
        "id": "TWj9zKymSynK"
      }
    },
    {
      "cell_type": "code",
      "source": [
        "def patas(gallinas, vacas, cerdos):\n",
        "    pass"
      ],
      "metadata": {
        "id": "EL_r7O6HBm-G"
      },
      "execution_count": null,
      "outputs": []
    },
    {
      "cell_type": "code",
      "source": [
        "print(patas(2, 3, 5))\n",
        "print(patas(1, 2, 3))\n",
        "print(patas(5, 2, 8))"
      ],
      "metadata": {
        "id": "Ou22MunIBy4A"
      },
      "execution_count": null,
      "outputs": []
    },
    {
      "cell_type": "markdown",
      "source": [
        "## Reto 28: Operador lógico `and`\n",
        "* El operador `and` toma dos valores booleanos y devuelve `True` si ambos valores son verdaderos.\n",
        "* Devuelve `False` en cualquier otro caso.\n",
        "* Ejemplos:\n",
        "    1. funcion_and(True, True) ➞ True\n",
        "    2. funcion_and(True, False) ➞ False\n",
        "    3. funcion_and(False, True) ➞ False\n",
        "    4. funcion_and(False, False) ➞ False"
      ],
      "metadata": {
        "id": "1wnjDFgHSywE"
      }
    },
    {
      "cell_type": "code",
      "source": [
        "def funcion_and(a, b):\n",
        "    pass"
      ],
      "metadata": {
        "id": "oIuvPS8iCkK7"
      },
      "execution_count": null,
      "outputs": []
    },
    {
      "cell_type": "code",
      "source": [
        "print(funcion_and(True, True))\n",
        "print(funcion_and(True, False))\n",
        "print(funcion_and(False, True))\n",
        "print(funcion_and(False, False))"
      ],
      "metadata": {
        "id": "Hxm-XceZCu6e"
      },
      "execution_count": null,
      "outputs": []
    },
    {
      "cell_type": "markdown",
      "source": [
        "## Reto 29: ¿Son iguales los números?\n",
        "* Cree una función que devuelva `True` cuando `num1` sea igual a `num2`.\n",
        "* En caso contrario, devuelve `False`.\n",
        "* Ejemplos:\n",
        "    1. son_iguales(3, 3) ➞ True\n",
        "    2. son_iguales(3, 1+2) ➞ True\n",
        "    3. son_iguales(2, 6/3) ➞ True\n",
        "    4. son_iguales(4, -4) ➞ False\n",
        "    5. son_iguales(1, \"1\") ➞ False"
      ],
      "metadata": {
        "id": "55Q2ecLJSyz4"
      }
    },
    {
      "cell_type": "code",
      "source": [
        "def son_iguales(num1, num2):\n",
        "    pass"
      ],
      "metadata": {
        "id": "SY50U0jmDXZS"
      },
      "execution_count": null,
      "outputs": []
    },
    {
      "cell_type": "code",
      "source": [
        "print(son_iguales(3, 3))\n",
        "print(son_iguales(3, 1+2))\n",
        "print(son_iguales(2, 6/3))\n",
        "print(son_iguales(4, -4))\n",
        "print(son_iguales(1, \"1\"))"
      ],
      "metadata": {
        "id": "lcMb2SqPDlkV"
      },
      "execution_count": null,
      "outputs": []
    },
    {
      "cell_type": "markdown",
      "source": [
        "## Reto 30: Juego de mesa\n",
        "* En cierto juego de mesa cada ronda recibe unos puntos según este criterio:\n",
        "    - Las victorias dan 3 puntos\n",
        "    - Los empates dan 1 punto\n",
        "    - Las derrotas dan 0 puntos\n",
        "* Crear una función que dé los puntos alcanzados según el número de victorias, empates y derrotas obtenidas.\n",
        "* En ocasiones no se da el tercer argumento, las derrotas, ya que no proporcionan puntos.\n",
        "* Ejemplos:\n",
        "     1. puntos_obtenidos(3, 4, 2) ➞ 13\n",
        "     2. puntos_obtenidos(5, 0, 2) ➞ 15\n",
        "     3. puntos_obtenidos(0, 0, 1) ➞ 0\n",
        "     4. puntos_obtenidos(3, 4) ➞ 13\n",
        "\n",
        "* El orden de los parámetros en la función ha de ser:\n",
        "    - 1º victorias\n",
        "    - 2º empates\n",
        "    - 3º derrotas (argumento optativo)\n",
        "* Los argumentos de la función serán siempre números enteros mayores o iguales a 0."
      ],
      "metadata": {
        "id": "ndW_fwNOSy7W"
      }
    },
    {
      "cell_type": "code",
      "source": [
        "def puntos_obtenidos(victorias, empates, derrotas):\n",
        "    pass"
      ],
      "metadata": {
        "id": "54MH-RwlFv7_"
      },
      "execution_count": null,
      "outputs": []
    },
    {
      "cell_type": "code",
      "source": [
        "print(puntos_obtenidos(3, 4, 2))\n",
        "print(puntos_obtenidos(5, 0, 2))\n",
        "print(puntos_obtenidos(0, 0, 1))\n",
        "print(puntos_obtenidos(3, 4))"
      ],
      "metadata": {
        "id": "P-cvMprOGEXb"
      },
      "execution_count": null,
      "outputs": []
    }
  ]
}