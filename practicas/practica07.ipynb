{
  "nbformat": 4,
  "nbformat_minor": 0,
  "metadata": {
    "colab": {
      "provenance": [],
      "authorship_tag": "ABX9TyMGFDmv0LJH39Id33QC3s6n",
      "include_colab_link": true
    },
    "kernelspec": {
      "name": "python3",
      "display_name": "Python 3"
    },
    "language_info": {
      "name": "python"
    }
  },
  "cells": [
    {
      "cell_type": "markdown",
      "metadata": {
        "id": "view-in-github",
        "colab_type": "text"
      },
      "source": [
        "<a href=\"https://colab.research.google.com/github/financieras/curso_python/blob/main/practicas/practica07.ipynb\" target=\"_parent\"><img src=\"https://colab.research.google.com/assets/colab-badge.svg\" alt=\"Open In Colab\"/></a>"
      ]
    },
    {
      "cell_type": "markdown",
      "source": [
        "## Reto 61: ¿Es par o impar?\n",
        "* Cree una función que tome un número entero como argumento y devuelva \"par\" para números pares e \"impar\" para números impares.\n",
        "* Ejemplos:\n",
        "    1. par_impar(3) ➞ \"impar\"\n",
        "    2. par_impar(146) ➞ \"par\"\n",
        "    3. par_impar(-19) ➞ \"impar\"\n",
        "    4. par_impar(0) ➞ \"par\"\n"
      ],
      "metadata": {
        "id": "FRr7GkgBz6t5"
      }
    },
    {
      "cell_type": "code",
      "source": [
        "def par_impar(n):\n",
        "    pass"
      ],
      "metadata": {
        "id": "P2Rq2qQD2_V-"
      },
      "execution_count": null,
      "outputs": []
    },
    {
      "cell_type": "code",
      "source": [
        "print(par_impar(3))\n",
        "print(par_impar(146))\n",
        "print(par_impar(-19))\n",
        "print(par_impar(0))"
      ],
      "metadata": {
        "id": "CsDyaIve2_V_"
      },
      "execution_count": null,
      "outputs": []
    },
    {
      "cell_type": "markdown",
      "source": [
        "## Reto 62: Palabra plural o singular\n",
        "* Cree una función que tome una palabra y determine si es plural o no.\n",
        "* Para simplificar, consideraremos que una palabra es plural si termina en \"s\".\n",
        "* Ejemplos:\n",
        "    1. es_plural(\"cambios\") ➞ True\n",
        "    2. es_plural(\"cambio\") ➞ False\n",
        "    3. es_plural(\"dudas\") ➞ True\n",
        "    4. es_plural(\"camión\") ➞ False\n"
      ],
      "metadata": {
        "id": "DxN0UYoAz64b"
      }
    },
    {
      "cell_type": "code",
      "source": [
        "def es_plural(txt):\n",
        "    pass"
      ],
      "metadata": {
        "id": "PKT6q_472_Ad"
      },
      "execution_count": null,
      "outputs": []
    },
    {
      "cell_type": "code",
      "source": [
        "print(es_plural(\"cambios\"))\n",
        "print(es_plural(\"cambio\"))\n",
        "print(es_plural(\"dedas\"))\n",
        "print(es_plural(\"camión\"))"
      ],
      "metadata": {
        "id": "O1uqhXPt2_Ad"
      },
      "execution_count": null,
      "outputs": []
    },
    {
      "cell_type": "markdown",
      "source": [
        "## Reto 63: Posiciones de conmutadores\n",
        "* Disponemos de `n` conmutadores de encendido/apagado (On/Off Switches).\n",
        "* Cree una función que devuelva cuántas disposiciones posibles pueden provenir de un determinado número de interruptores.\n",
        "* En otras palabras, para un número `n` de interruptores, ¿cuántos patrones diferentes de encendido y apagado podemos tener?\n",
        "* Ejemplos:\n",
        "    1. posiciones(1) ➞ 2\n",
        "    2. posiciones(3) ➞ 8\n",
        "    3. posiciones(10) ➞ 1024"
      ],
      "metadata": {
        "id": "Qr1u5eabzlbL"
      }
    },
    {
      "cell_type": "code",
      "source": [
        "def posiciones(n):\n",
        "    pass"
      ],
      "metadata": {
        "id": "mSKKjr-V2-l8"
      },
      "execution_count": null,
      "outputs": []
    },
    {
      "cell_type": "code",
      "source": [
        "print(posiciones(1))\n",
        "print(posiciones(3))\n",
        "print(posiciones(10))"
      ],
      "metadata": {
        "id": "JqtW3Qxp2-l8"
      },
      "execution_count": null,
      "outputs": []
    },
    {
      "cell_type": "markdown",
      "source": [
        "## Reto 64: ¿Es el último caracter una \"N\"?\n",
        "* Cree una función que tome una cadena (un nombre).\n",
        "* Si el último carácter del nombre es una \"n\", devuelve `True`; en caso contrario, devuelve `False`.\n",
        "* Ejemplos:\n",
        "    1. ultimo_caracter_n(\"Aaron\") ➞ True\n",
        "    2. ultimo_caracter_n(\"Pierre\") ➞ False\n",
        "    3. ultimo_caracter_n(\"Robert\") ➞ False\n",
        "    4. ultimo_caracter_n(\"Antón\") ➞ True\n",
        "    5. ultimo_caracter_n(\"CALVIN\") ➞ True\n"
      ],
      "metadata": {
        "id": "Yd1VWEmDz6zH"
      }
    },
    {
      "cell_type": "code",
      "source": [
        "def ultimo_caracter_n(nombre):\n",
        "    pass"
      ],
      "metadata": {
        "id": "vi4eW5r82-Ev"
      },
      "execution_count": null,
      "outputs": []
    },
    {
      "cell_type": "code",
      "source": [
        "print(ultimo_caracter_n(\"Aaron\"))\n",
        "print(ultimo_caracter_n(\"Pierre\"))\n",
        "print(ultimo_caracter_n(\"Robert\"))\n",
        "print(ultimo_caracter_n(\"Antón\"))\n",
        "print(ultimo_caracter_n(\"CALVIN\"))"
      ],
      "metadata": {
        "id": "1r7HmO9J2-Ev"
      },
      "execution_count": null,
      "outputs": []
    },
    {
      "cell_type": "markdown",
      "source": [
        "## Reto 65: Descontrol en la empaquetadora\n",
        "* ¡El sistema de embalaje es un caos!\n",
        "* Los dulces se encuentran dispersos por todo el almacén, el cereal ha desaparecido y se ha colocado pan dentro de una botella.\n",
        "* ¿Qué está ocurriendo con esta máquina?\n",
        "* Los dulces deberían estar empaquetados en plástico, el pan dentro de una bolsa y las bebidas en botellas.\n",
        "* Sin embargo, la función de la máquina envasadora, `empaquetar()`, no está funcionando bien.\n",
        "* Cree correctamente la función para que se cumplan estos casos.\n",
        "* Ejemplos:\n",
        "    1. empaquetar(\"Pan\") ➞ \"bolsa\"\n",
        "    2. empaquetar(\"Cerveza\") ➞ \"botella\"\n",
        "    3. empaquetar(\"Caramelos\") ➞ \"plástico\"\n",
        "    4. empaquetar(\"Queso\") ➞ None"
      ],
      "metadata": {
        "id": "FoWAJyPBWeog"
      }
    },
    {
      "cell_type": "code",
      "source": [
        "def empaquetar(producto):\n",
        "    pass"
      ],
      "metadata": {
        "id": "_4ljoLl229jX"
      },
      "execution_count": null,
      "outputs": []
    },
    {
      "cell_type": "code",
      "source": [
        "print(empaquetar(\"Pan\"))\n",
        "print(empaquetar(\"Cerveza\"))\n",
        "print(empaquetar(\"Caramelos\"))\n",
        "print(empaquetar(\"Queso\"))"
      ],
      "metadata": {
        "id": "-AliezYY29jY"
      },
      "execution_count": null,
      "outputs": []
    },
    {
      "cell_type": "markdown",
      "source": [
        "## Reto 66: Sumar una lista sin `sum`\n",
        "* Tenemos una función que no trabaja correctamente.\n",
        "* Corrija el código para que la función se ajuste a los siguientes ejemplos.\n",
        "* Ejemplos:\n",
        "\t1. suma_lista([1, 2, 3, 4, 5]) ➞ 15\n",
        "\t2. suma_lista([-1, 0, 1]) ➞ 0\n",
        "\t3. suma_lista([0, 4, 8, 12]) ➞ 24\n",
        "\n",
        "\n",
        "* Esta es la función que da problemas:\n",
        "```python\n",
        "def suma_lista(lista):\n",
        "\ttotal\n",
        "\tfor i in range(0,lista):\n",
        "\t\ttotal += lista[i]\n",
        "  return total\n",
        "```\n"
      ],
      "metadata": {
        "id": "UTLb81S6We2L"
      }
    },
    {
      "cell_type": "code",
      "source": [
        "def suma_lista(lista):\n",
        "    pass"
      ],
      "metadata": {
        "id": "SBmLc3JI28vq"
      },
      "execution_count": null,
      "outputs": []
    },
    {
      "cell_type": "code",
      "source": [
        "print(suma_lista([1, 2, 3, 4, 5]))\n",
        "print(suma_lista([-1, 0, 1]))\n",
        "print(suma_lista([0, 4, 8, 12]))"
      ],
      "metadata": {
        "id": "b1m1a3qY28vr"
      },
      "execution_count": null,
      "outputs": []
    },
    {
      "cell_type": "markdown",
      "source": [
        "## Reto 67: Suma condicional\n",
        "* Cree una función que devuelva la suma de los elementos estrictamente menores que 10.\n",
        "* Ejemplos:\n",
        "    1. suma_menores_diez([1, 5, 11]) ➞ 6\n",
        "    2. suma_menores_diez([0, 9, 10, 50]) ➞ 9\n",
        "    3. suma_menores_diez([-3, -5, -11, 4]) ➞ -15"
      ],
      "metadata": {
        "id": "iw1lGCGYWe6T"
      }
    },
    {
      "cell_type": "code",
      "source": [
        "def suma_menores_diez(lista):\n",
        "    pass"
      ],
      "metadata": {
        "id": "vVnmLCjz28ay"
      },
      "execution_count": null,
      "outputs": []
    },
    {
      "cell_type": "code",
      "source": [
        "print(suma_menores_diez([1, 5, 11]))\n",
        "print(suma_menores_diez([0, 9, 10, 50]))\n",
        "print(suma_menores_diez([-3, -5, -11, 4]))"
      ],
      "metadata": {
        "id": "IgCHxJPI28az"
      },
      "execution_count": null,
      "outputs": []
    },
    {
      "cell_type": "markdown",
      "source": [
        "## Reto 68: Char to ASCII\n",
        "* Cree una función que devuelva el valor ASCII del carácter pasado.\n",
        "* Ejemplos:\n",
        "    1. ctoa(\"A\") ➞ 65\n",
        "    2. ctoa(\"z\") ➞ 122\n",
        "    3. ctoa(\"*\") ➞ 42\n",
        "    4. ctoa(\" \") ➞ 32"
      ],
      "metadata": {
        "id": "-hnzsWZ5We9y"
      }
    },
    {
      "cell_type": "code",
      "source": [
        "def ctoa(caracter):\n",
        "    pass"
      ],
      "metadata": {
        "id": "2m5JUPXe27wE"
      },
      "execution_count": null,
      "outputs": []
    },
    {
      "cell_type": "code",
      "source": [
        "print(ctoa(\"A\"))\n",
        "print(ctoa(\"z\"))\n",
        "print(ctoa(\"*\"))\n",
        "print(ctoa(\" \"))"
      ],
      "metadata": {
        "id": "sJK0kEkn27wE"
      },
      "execution_count": null,
      "outputs": []
    },
    {
      "cell_type": "markdown",
      "source": [
        "## Reto 69:  Separar palabras\n",
        "* La función recibe un caracter y una cadena.\n",
        "* La función retorna las palabras de la cadena separadas por el caracter recibido.\n",
        "* Ejemplos:\n",
        "    1. separar_palabras(\"_\", \"Python is fun\") ➞ \"Python_is_fun\"\n",
        "    2. separar_palabras(\"#\", \"hello world!\") ➞ \"hello#world!\"\n",
        "    3. separar_palabras(\"@\", \" \") ➞ \"@\"\n",
        "\n",
        "* Asegúrese de que no haya espacios entre palabras al devolver la función."
      ],
      "metadata": {
        "id": "ahhg7AhsWfBk"
      }
    },
    {
      "cell_type": "code",
      "source": [
        "def separar_palabras(caracter, frase):\n",
        "    pass"
      ],
      "metadata": {
        "id": "NB4gFE4727a6"
      },
      "execution_count": null,
      "outputs": []
    },
    {
      "cell_type": "code",
      "source": [
        "print(separar_palabras(\"_\", \"Python is fun\"))\n",
        "print(separar_palabras(\"#\", \"hello world!\"))\n",
        "print(separar_palabras(\"@\", \" \"))"
      ],
      "metadata": {
        "id": "XWmUOZBK27a7"
      },
      "execution_count": null,
      "outputs": []
    },
    {
      "cell_type": "markdown",
      "source": [
        "## Reto 70: Cambios de residencia\n",
        "* He comprobado que hay personas que se cambian de casa con más frecuencia que otras.\n",
        "* Me gustaría calcular cuánto tiempo, en promedio, una persona vive en la misma casa.\n",
        "* Dada la edad de una persona y el número de veces que se ha mudado de casa, devuelva el número promedio de años que ha pasado viviendo en la misma casa.\n",
        "* Ejemplos:\n",
        "    1. years_in_one_house(30, 1) ➞ 15\n",
        "    2. years_in_one_house(15, 2) ➞ 5\n",
        "    3. years_in_one_house(80, 0) ➞ 80\n"
      ],
      "metadata": {
        "id": "SXm49HoIWfE3"
      }
    },
    {
      "cell_type": "code",
      "source": [
        "def years_in_one_house(edad, mudanzas):\n",
        "    pass"
      ],
      "metadata": {
        "id": "t26q2fx0265I"
      },
      "execution_count": null,
      "outputs": []
    },
    {
      "cell_type": "code",
      "source": [
        "print(years_in_one_house(30, 1))\n",
        "print(years_in_one_house(15, 2))\n",
        "print(years_in_one_house(80, 0))"
      ],
      "metadata": {
        "id": "ujgZYzTp265J"
      },
      "execution_count": null,
      "outputs": []
    }
  ]
}