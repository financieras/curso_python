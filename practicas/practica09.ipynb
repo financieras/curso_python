{
  "nbformat": 4,
  "nbformat_minor": 0,
  "metadata": {
    "colab": {
      "provenance": [],
      "authorship_tag": "ABX9TyMUtE9YAanN6j2TjWfu54hg",
      "include_colab_link": true
    },
    "kernelspec": {
      "name": "python3",
      "display_name": "Python 3"
    },
    "language_info": {
      "name": "python"
    }
  },
  "cells": [
    {
      "cell_type": "markdown",
      "metadata": {
        "id": "view-in-github",
        "colab_type": "text"
      },
      "source": [
        "<a href=\"https://colab.research.google.com/github/financieras/curso_python/blob/main/practicas/practica09.ipynb\" target=\"_parent\"><img src=\"https://colab.research.google.com/assets/colab-badge.svg\" alt=\"Open In Colab\"/></a>"
      ]
    },
    {
      "cell_type": "markdown",
      "source": [
        "## Reto 81: Desempaquetando listas\n",
        "* Dada una lista de números como por ejemplo:\n",
        "    - lista = [10, 20, 30, 40, 50]\n",
        "* deseamos recoger el contenido de la lista en tres variables:  \n",
        "    - primero ➞ 10\n",
        "    - segundo ➞ 20\n",
        "    - resto ➞ [30, 40, 50]\n",
        "* La función devolverá el contenido de las tres variables separado por comas.\n",
        "* Ejemplos:\n",
        "    1. separa([10, 20, 30, 40, 50]) ➞ 10, 20, [30, 40, 50]\n",
        "    2. separa([7, 8, 9, 10, 11, 99]) ➞ 7, 8, [9, 10, 10, 99]\n"
      ],
      "metadata": {
        "id": "dARrW21OWfsd"
      }
    },
    {
      "cell_type": "code",
      "source": [
        "def separa(lista):\n",
        "    pass"
      ],
      "metadata": {
        "id": "i33fmZ9U21ho"
      },
      "execution_count": null,
      "outputs": []
    },
    {
      "cell_type": "code",
      "source": [
        "print(separa([10, 20, 30, 40, 50]))\n",
        "print(separa([7, 8, 9, 10, 11, 99]))"
      ],
      "metadata": {
        "id": "4GfX9iwP21ho"
      },
      "execution_count": null,
      "outputs": []
    },
    {
      "cell_type": "markdown",
      "source": [
        "## Reto 82: Lista con múltiplos de 3 y 5\n",
        "* Cree una función que, dada una secuencia de números enteros en forma de lista, identifique y devuelva una lista con aquellos números que son simultáneamente múltiplos de 3 y múltiplos de 5.\n",
        "* Ejemplos:\n",
        "    1. multiplos_de_3_y_5([1, 200, 300, 45, 500, 1000, 150, 600]) ➞ [300, 45, 150, 600]\n",
        "    2. multiplos_de_3_y_5([15, 20, 25, 30, 35, 40]) ➞ [15, 30]\n",
        "    3. multiplos_de_3_y_5([16, 17, 18]) ➞ []\n",
        "    4. multiplos_de_3_y_5([]) ➞ []\n"
      ],
      "metadata": {
        "id": "lC4sJKLmWfwP"
      }
    },
    {
      "cell_type": "code",
      "source": [
        "def multiplos_de_3_y_5(lista):\n",
        "    pass"
      ],
      "metadata": {
        "id": "1-kx8N_221HU"
      },
      "execution_count": null,
      "outputs": []
    },
    {
      "cell_type": "code",
      "source": [
        "print(multiplos_de_3_y_5([1, 200, 300, 45, 500, 1000, 150, 600]))\n",
        "print(multiplos_de_3_y_5([15, 20, 25, 30, 35, 40]))\n",
        "print(multiplos_de_3_y_5([16, 17, 18]))\n",
        "print(multiplos_de_3_y_5([]))"
      ],
      "metadata": {
        "id": "E8tvGgcW21HU"
      },
      "execution_count": null,
      "outputs": []
    },
    {
      "cell_type": "markdown",
      "source": [
        "## Reto 83: AND, OR, NOT\n",
        "* Crear tres funciones que trabajen como puertas lógicas.\n",
        "* Las tres puertas lógicas son: `AND`, `OR` y `NOT`.\n",
        "* Ejemplos:\n",
        "    1. funcion_AND(1, 1) ➞ 1\n",
        "    2. funcion_AND(1, 0) ➞ 0\n",
        "    3. funcion_AND(0, 0) ➞ 0\n",
        "    4. funcion_OR(1, 0) ➞ 1\n",
        "    5. funcion_OR(1, 1) ➞ 1\n",
        "    6. funcion_OR(0, 0) ➞ 0\n",
        "    7. funcion_NOT(0) ➞ 1\n",
        "    8. funcion_NOT(1) ➞ 0"
      ],
      "metadata": {
        "id": "KNcxW8fKWfz-"
      }
    },
    {
      "cell_type": "code",
      "source": [
        "def funcion_AND(a, b):\n",
        "    pass\n",
        "\n",
        "def funcion_OR(a, b):\n",
        "    pass\n",
        "\n",
        "def funcion_NOT(a):\n",
        "    pass"
      ],
      "metadata": {
        "id": "98TnFL_E20nE"
      },
      "execution_count": null,
      "outputs": []
    },
    {
      "cell_type": "code",
      "source": [
        "print(funcion_AND(1, 1))\n",
        "print(funcion_AND(1, 0))\n",
        "print(funcion_AND(0, 0))\n",
        "print(funcion_OR(1, 0))\n",
        "print(funcion_OR(1, 1))\n",
        "print(funcion_OR(0, 0))\n",
        "print(funcion_NOT(0))\n",
        "print(funcion_NOT(1))"
      ],
      "metadata": {
        "id": "3F-g8EcB20nE"
      },
      "execution_count": null,
      "outputs": []
    },
    {
      "cell_type": "markdown",
      "source": [
        "## Reto 84: Comprobar si todos son verdaderos\n",
        "* Cree una función que devuelva `True` si todos los parámetros son verdaderos y `False` en caso contrario.\n",
        "* Ejemplos:\n",
        "    1. todos_verdaderos(True, True, True) ➞ True\n",
        "    2. todos_verdaderos(True, False, True) ➞ False\n",
        "    3. todos_verdaderos(5, 4, 3, 2, 1, 0) ➞ False\n",
        "    4. todos_verdaderos(1, 1, 1, 1, 1, 1, 1, 1) ➞ True\n",
        "    5. todos_verdaderos(1, 1, 1, 1, 1, 1, 1, 2) ➞ True\n"
      ],
      "metadata": {
        "id": "d-AfwJ7yWf3c"
      }
    },
    {
      "cell_type": "code",
      "source": [
        "def todos_verdaderos(args):\n",
        "    pass"
      ],
      "metadata": {
        "id": "OsmiM-Ql20OH"
      },
      "execution_count": null,
      "outputs": []
    },
    {
      "cell_type": "code",
      "source": [
        "print(todos_verdaderos(True, True, True))\n",
        "print(todos_verdaderos(True, False, True))\n",
        "print(todos_verdaderos(5, 4, 3, 2, 1, 0))\n",
        "print(todos_verdaderos(1, 1, 1, 1, 1, 1, 1, 1))\n",
        "print(todos_verdaderos(1, 1, 1, 1, 1, 1, 1, 2))"
      ],
      "metadata": {
        "id": "2xWWa1CH20OH"
      },
      "execution_count": null,
      "outputs": []
    },
    {
      "cell_type": "markdown",
      "source": [
        "## Reto 85: Convertir Euros a USD\n",
        "* Cree una función que pueda convertir cierta cantidad de Euros en dólares estadounidenses (USD).\n",
        "* Se ha de tomar el cambio de 1 dolar equivalente a 0,9218 Euros.\n",
        "* El resultado se redondeará a dos decimales.\n",
        "* Ejemplos:\n",
        "    1. euro_a_usd(1) ➞ 1.08\n",
        "    2. euro_a_usd(500) ➞ 542.42\n",
        "    3. euro_a_usd(10_000) ➞ 10848.34"
      ],
      "metadata": {
        "id": "FH4XlC6OWf7c"
      }
    },
    {
      "cell_type": "code",
      "source": [
        "def euro_a_usd(euros):\n",
        "    pass"
      ],
      "metadata": {
        "id": "3Qmz8HBC2zyg"
      },
      "execution_count": null,
      "outputs": []
    },
    {
      "cell_type": "code",
      "source": [
        "print(euro_a_usd(1))\n",
        "print(euro_a_usd(500))\n",
        "print(euro_a_usd(10_000))"
      ],
      "metadata": {
        "id": "Tjmri6rD2zyg"
      },
      "execution_count": null,
      "outputs": []
    },
    {
      "cell_type": "markdown",
      "source": [
        "## Reto 86: Seguridad en el puente\n",
        "* Cree una función que verifique si es seguro caminar sobre un puente, es decir, si no hay espacios que representen huecos por los que se pueda caer.\n",
        "* Ejemplos:\n",
        "    1. puente_seguro(\"####\") ➞ True\n",
        "    2. puente_seguro(\"## ####\") ➞ False\n",
        "    3. puente_seguro(\"#\") ➞ True\n",
        "    4. puente_seguro(\"## ##  ##\") ➞ False\n",
        "    5. puente_seguro(\"\") ➞ True\n",
        "    6. puente_seguro(\" ####\") ➞ False"
      ],
      "metadata": {
        "id": "ypJ7z7jGWf-x"
      }
    },
    {
      "cell_type": "code",
      "source": [
        "def puente_seguro(puente):\n",
        "    pass"
      ],
      "metadata": {
        "id": "phPva79s2ziE"
      },
      "execution_count": null,
      "outputs": []
    },
    {
      "cell_type": "code",
      "source": [
        "print(puente_seguro(\"####\"))\n",
        "print(puente_seguro(\"## ####\"))\n",
        "print(puente_seguro(\"#\"))\n",
        "print(puente_seguro(\"## ##  ##\"))\n",
        "print(puente_seguro(\"\"))\n",
        "print(puente_seguro(\" ####\"))"
      ],
      "metadata": {
        "id": "lFjp9oD42ziE"
      },
      "execution_count": null,
      "outputs": []
    },
    {
      "cell_type": "markdown",
      "source": [
        "## Reto 87: Recrear la función `abs()`\n",
        "* La función `abs()` devuelve el valor absoluto de un número.\n",
        "* Esto significa que devuelve el valor positivo de ese número sin importar el signo.\n",
        "* Puede entenderse como la distancia desde cero hasta ese valor.\n",
        "* Cree una función que emule esta funcionalidad.\n",
        "* Ejemplos:\n",
        "    1. absoluto(-5) ➞ 5\n",
        "    2. absoluto(-3.14) ➞ 3.14\n",
        "    3. absoluto(25) ➞ 25\n",
        "    4. absoluto(0) ➞ 0\n",
        "\n"
      ],
      "metadata": {
        "id": "Va493IkPWgCd"
      }
    },
    {
      "cell_type": "code",
      "source": [
        "def absoluto(numero):\n",
        "    pass"
      ],
      "metadata": {
        "id": "NbvXv6T02zBC"
      },
      "execution_count": null,
      "outputs": []
    },
    {
      "cell_type": "code",
      "source": [
        "print(absoluto(-5))\n",
        "print(absoluto(-3.14))\n",
        "print(absoluto(25))\n",
        "print(absoluto(0))"
      ],
      "metadata": {
        "id": "Hrc1QXOy2zBC"
      },
      "execution_count": null,
      "outputs": []
    },
    {
      "cell_type": "markdown",
      "source": [
        "## Reto 88: Diferencia de velocidades\n",
        "* Estamos probando patinetes en tandas de tres, y viendo la velocidad que puede alcanzar cada uno.\n",
        "* Deseamos conocer la diferencia de velocidades entre el más rápido y el más lento.\n",
        "* Ejemplos:\n",
        "    1. diferencia_velocidades(14, 33, 40) ➞ 26\n",
        "    2. diferencia_velocidades(33, 63, 35) ➞ 30\n",
        "    3. diferencia_velocidades(10, 15, 10) ➞ 5\n"
      ],
      "metadata": {
        "id": "-9AOkI9nnvy5"
      }
    },
    {
      "cell_type": "code",
      "source": [
        "def diferencia_velocidades(a, b, c):\n",
        "    pass"
      ],
      "metadata": {
        "id": "NXepDOfC2ylL"
      },
      "execution_count": null,
      "outputs": []
    },
    {
      "cell_type": "code",
      "source": [
        "print(diferencia_velocidades(14, 33, 40))\n",
        "print(diferencia_velocidades(33, 63, 35))\n",
        "print(diferencia_velocidades(10, 15, 10))"
      ],
      "metadata": {
        "id": "Qjv7qsaKQ9CZ"
      },
      "execution_count": null,
      "outputs": []
    },
    {
      "cell_type": "markdown",
      "source": [
        "## Reto 89: Calculadora con operadores\n",
        "* Cree una función que tome dos números y un operador matemático y devuelva el resultado.\n",
        "* Las únicas operaciones utilizadas son las de los ejemplos que se muestran.\n",
        "* Ejemplos:\n",
        "    1. calculate(4, 9, \"+\") ➞ 13\n",
        "    2. calculate(12, 5, \"-\") ➞ 7\n",
        "    3. calculate(6, 3, \"*\") ➞ 18\n",
        "    4. calculate(25, 5, \"//\") ➞ 5\n",
        "    5. calculate(14, 3, \"%\") ➞ 2\n",
        "    6. calculate(7, 2, \"/\") ➞ 3.5\n"
      ],
      "metadata": {
        "id": "uVs2hSEXns-K"
      }
    },
    {
      "cell_type": "code",
      "source": [
        "def calculate(a, b, operacion):\n",
        "    pass"
      ],
      "metadata": {
        "id": "46w4TPyW2yKd"
      },
      "execution_count": null,
      "outputs": []
    },
    {
      "cell_type": "code",
      "source": [
        "print(calculate(4, 9, \"+\"))\n",
        "print(calculate(12, 5, \"-\"))\n",
        "print(calculate(6, 3, \"*\"))\n",
        "print(calculate(25, 5, \"//\"))\n",
        "print(calculate(14, 3, \"%\"))\n",
        "print(calculate(7, 2, \"/\"))"
      ],
      "metadata": {
        "id": "KXB2sLIV2yKd"
      },
      "execution_count": null,
      "outputs": []
    },
    {
      "cell_type": "markdown",
      "source": [
        "## Reto 90: División entera para acceder a la lista\n",
        "* Cree una función que reciba una lista y una división entera.\n",
        "* La división entera se utiliza para calcular el índice necesario que nos permitirá acceder a un elemento específico en una lista.\n",
        "* Los dos parámetros de la función van en el siguiente orden:\n",
        "    - `valor_en_posicion(lista, division_entera)`\n",
        "* Ejemplos:\n",
        "    1. valor_en_posicion([10, 20, 30, 40, 50], 8 // 2) ➞ 50\n",
        "    2. valor_en_posicion([1, 2, 3, 4, 5, 6], 8.0 // 2) ➞ 5\n",
        "    3. valor_en_posicion([1, 2, 3, 4], 6.5 // 2) ➞ 4\n"
      ],
      "metadata": {
        "id": "jPmaP5SwntHU"
      }
    },
    {
      "cell_type": "code",
      "source": [
        "def valor_en_posicion(lista, division_entera):\n",
        "    pass"
      ],
      "metadata": {
        "id": "W_nYKh1i2xtq"
      },
      "execution_count": null,
      "outputs": []
    },
    {
      "cell_type": "code",
      "source": [
        "print(valor_en_posicion([10, 20, 30, 40, 50], 8 // 2))\n",
        "print(valor_en_posicion([1, 2, 3, 4, 5, 6], 8.0 // 2))\n",
        "print(valor_en_posicion([1, 2, 3, 4], 6.5 // 2))"
      ],
      "metadata": {
        "id": "kzBKzbX42xtq"
      },
      "execution_count": null,
      "outputs": []
    }
  ]
}