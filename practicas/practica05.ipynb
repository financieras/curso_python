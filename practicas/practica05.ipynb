{
  "nbformat": 4,
  "nbformat_minor": 0,
  "metadata": {
    "colab": {
      "provenance": [],
      "authorship_tag": "ABX9TyMbhU9vv27abnp58sJSJXgk",
      "include_colab_link": true
    },
    "kernelspec": {
      "name": "python3",
      "display_name": "Python 3"
    },
    "language_info": {
      "name": "python"
    }
  },
  "cells": [
    {
      "cell_type": "markdown",
      "metadata": {
        "id": "view-in-github",
        "colab_type": "text"
      },
      "source": [
        "<a href=\"https://colab.research.google.com/github/financieras/curso_python/blob/main/retos/practica05.ipynb\" target=\"_parent\"><img src=\"https://colab.research.google.com/assets/colab-badge.svg\" alt=\"Open In Colab\"/></a>"
      ]
    },
    {
      "cell_type": "markdown",
      "source": [
        "## Reto 41: Días del mes\n",
        "* Cree una función que reciba un número del 1 al 12 y devuelva el mes correspondiente y el número de días que tiene.\n",
        "* Use el siguiente diccionario para resolverlo.\n",
        "\n",
        "```python\n",
        "d = {1:['enero', 31],\n",
        "     2:['febrero', 28],\n",
        "     3:['marzo', 31],\n",
        "     4:['abril', 30],\n",
        "     5:['mayo', 31],\n",
        "     6:['junio', 30],\n",
        "     7:['julio', 31],\n",
        "     8:['agosto', 31],\n",
        "     9:['septiembre', 30],\n",
        "     10:['octubre', 31],\n",
        "     11:['noviembre', 30],\n",
        "     12:['diciembre', 31]}\n",
        "```\n",
        "* Ejemplos:\n",
        "    1. dias_mes(1) ➞ enero 31\n",
        "    2. dias_mes(4) ➞ abril 30\n",
        "    3. dias_mes(12) ➞ diciembre 31"
      ],
      "metadata": {
        "id": "sIkIwIhrym10"
      }
    },
    {
      "cell_type": "code",
      "source": [
        "d = {1:['enero', 31],\n",
        "     2:['febrero', 28],\n",
        "     3:['marzo', 31],\n",
        "     4:['abril', 30],\n",
        "     5:['mayo', 31],\n",
        "     6:['junio', 30],\n",
        "     7:['julio', 31],\n",
        "     8:['agosto', 31],\n",
        "     9:['septiembre', 30],\n",
        "     10:['octubre', 31],\n",
        "     11:['noviembre', 30],\n",
        "     12:['diciembre', 31]}\n",
        "\n",
        "def dias_mes(n):\n",
        "    pass"
      ],
      "metadata": {
        "id": "mDNVofHz9bhH"
      },
      "execution_count": null,
      "outputs": []
    },
    {
      "cell_type": "code",
      "source": [
        "print(dias_mes(1))\n",
        "print(dias_mes(4))\n",
        "print(dias_mes(12))"
      ],
      "metadata": {
        "id": "wktquVTCAitB"
      },
      "execution_count": null,
      "outputs": []
    },
    {
      "cell_type": "markdown",
      "source": [
        "## Reto 42: Múltiplo de cien\n",
        "* Cree una función que tome un número entero y devuelva `True` si es divisible por 100; de lo contrario, devuelva `False`.\n",
        "* Ejemplos:\n",
        "    1. divisible(1) ➞ False\n",
        "    2. divisible(1000) ➞ True\n",
        "    3. divisible(100) ➞ True\n",
        "    4. divisible(400) ➞ True\n"
      ],
      "metadata": {
        "id": "ZtQLbKpvym7z"
      }
    },
    {
      "cell_type": "code",
      "source": [
        "def divisible(n):\n",
        "    pass"
      ],
      "metadata": {
        "id": "vVHp8sAc9cOL"
      },
      "execution_count": null,
      "outputs": []
    },
    {
      "cell_type": "code",
      "source": [
        "print(divisible(1))\n",
        "print(divisible(1000))\n",
        "print(divisible(100))\n",
        "print(divisible(400))"
      ],
      "metadata": {
        "id": "Zqno7VoADEoA"
      },
      "execution_count": null,
      "outputs": []
    },
    {
      "cell_type": "markdown",
      "source": [
        "## Reto 43: Comprobar si $k^k=n$\n",
        "* Escriba una función que devuelva `True` si $k^k = n$ para la entrada `(k, n)`\n",
        "* y devuelva `False` en caso contrario.\n",
        "* Ejemplos:\n",
        "    1. k_to_k(2, 4) ➞ True\n",
        "    2. k_to_k(9, 387420489) ➞ True  \n",
        "    3. k_to_k(5, 3124) ➞ False\n",
        "    4. k_to_k(3, 17) ➞ False\n",
        "* Nueve elevado a nueve es $9^{9} = 387420489$\n"
      ],
      "metadata": {
        "id": "9TtBcMbWynC5"
      }
    },
    {
      "cell_type": "code",
      "source": [
        "def k_to_k(k, n):\n",
        "    pass"
      ],
      "metadata": {
        "id": "WfIQKBmC9cls"
      },
      "execution_count": null,
      "outputs": []
    },
    {
      "cell_type": "code",
      "source": [
        "print(k_to_k(2, 4))\n",
        "print(k_to_k(9, 387420489))\n",
        "print(k_to_k(5, 3124))\n",
        "print(k_to_k(3, 17))"
      ],
      "metadata": {
        "id": "ea9J5Bi7ECfd"
      },
      "execution_count": null,
      "outputs": []
    },
    {
      "cell_type": "markdown",
      "source": [
        "## Reto 44: Despistes al programar\n",
        "* Disponemos de una función que no trabaja correctamente ya que estábamos algo despistados al programarla.\n",
        "* Mire los ejemplos siguientes para tener una idea de lo que debe hacer la función.\n",
        "* Ejemplos:\n",
        "    1. max_num(3, 7) ➞ 7\n",
        "    2. max_num(-1, -4) ➞ -1\n",
        "    2. max_num(10, 10) ➞ 10\n",
        "\n",
        "* El código que da problemas es el siguiente:\n",
        "\n",
        "```python\n",
        "def max_num(n1, n2):\n",
        "\tif n1 > n2:\n",
        "\t\treturn n2\n",
        "\telif:\n",
        "\t\treturn n1\n",
        "```"
      ],
      "metadata": {
        "id": "tJ6I-ImMynKm"
      }
    },
    {
      "cell_type": "code",
      "source": [
        "def max_num(n1, n2):\n",
        "    pass"
      ],
      "metadata": {
        "id": "VI-IY_YB9dHd"
      },
      "execution_count": null,
      "outputs": []
    },
    {
      "cell_type": "code",
      "source": [
        "print(max_num(3, 7))\n",
        "print(max_num(-1, -4))\n",
        "print(max_num(10, 10))"
      ],
      "metadata": {
        "id": "CXWsahXDE0N6"
      },
      "execution_count": null,
      "outputs": []
    },
    {
      "cell_type": "markdown",
      "source": [
        "## Reto 45: Comparar cadenas por número de caracteres\n",
        "* Cree una función que tome dos strings como argumentos y devuelva `True` o `False` dependiendo de si el número total de caracteres en la primera cadena es igual al número total de caracteres en la segunda cadena.\n",
        "* Ejemplos:\n",
        "    1. compare(\"AB\", \"cd\") ➞ True\n",
        "    2. compare(\"ABC\", \"DE\") ➞ False\n",
        "    3. compare(\"hello\", \"Madrid\") ➞ False\n",
        "    4. compare(\"XY\", \"42\") ➞ True"
      ],
      "metadata": {
        "id": "aHMUHOt_zlRT"
      }
    },
    {
      "cell_type": "code",
      "source": [
        "def compare(str1, str2):\n",
        "    pass"
      ],
      "metadata": {
        "id": "K9InmdMt9dtc"
      },
      "execution_count": null,
      "outputs": []
    },
    {
      "cell_type": "code",
      "source": [
        "print(compare(\"AB\", \"cd\"))\n",
        "print(compare(\"ABC\", \"DE\"))\n",
        "print(compare(\"hello\", \"Madrid\"))\n",
        "print(compare(\"XY\", \"42\"))"
      ],
      "metadata": {
        "id": "Ow-a2imJGxVX"
      },
      "execution_count": null,
      "outputs": []
    },
    {
      "cell_type": "markdown",
      "source": [
        "## Reto 46: Si hay un 3 ganas\n",
        "* Crea una función que genere un número aleatorio entero entre 100.000 y 200.000.\n",
        "* Si hay, al menos, un 3 ganas, en caso contrario pierdes.\n",
        "* La función imprime el número aleatorio generado, después un espacio y finalmente se indica si ganas o pierdes.\n",
        "* Ejemplos:\n",
        "    1. gana_el_tres() ➞ 140848 pierdes\n",
        "    2. gana_el_tres() ➞ 176385 ganas\n",
        "    3. gana_el_tres() ➞ 190833 ganas\n",
        "    4. gana_el_tres() ➞ 196202 pierdes\n"
      ],
      "metadata": {
        "id": "F8WNfl5szxTo"
      }
    },
    {
      "cell_type": "code",
      "source": [
        "def gana_el_tres():\n",
        "    pass"
      ],
      "metadata": {
        "id": "k2FPPi7u9eVK"
      },
      "execution_count": null,
      "outputs": []
    },
    {
      "cell_type": "code",
      "source": [
        "print(gana_el_tres())\n",
        "print(gana_el_tres())\n",
        "print(gana_el_tres())\n",
        "print(gana_el_tres())"
      ],
      "metadata": {
        "id": "sB4UmsoGswjp"
      },
      "execution_count": null,
      "outputs": []
    },
    {
      "cell_type": "markdown",
      "source": [
        "## Reto 47: Recargando baterías\n",
        "* Para que un vehículo pueda funcionar, necesita una cantidad de carga que es diez veces mayor que la distancia que recorre.\n",
        "* No obstante, es importante asegurarse de que siempre lleve al menos 100 unidades de carga antes de iniciar su recorrido.\n",
        "* Cree una función que calcule la cantidad de carga necesaria en función de la `distancia` ingresada como parámetro.\n",
        "* Ejemplos:\n",
        "    1. calcula_carga(15) ➞ 150\n",
        "    2. calcula_carga(23.5) ➞ 235\n",
        "    3. calcula_carga(3) ➞ 100\n",
        "* La `distancia` proporcionada siempre será un número mayor que cero.\n",
        "* Si el cálculo de la carga resulta ser inferior a 100, la función debe devolver 100 como mínimo."
      ],
      "metadata": {
        "id": "KL8LNZmnzx_N"
      }
    },
    {
      "cell_type": "code",
      "source": [
        "def calcula_carga(distancia):\n",
        "    pass"
      ],
      "metadata": {
        "id": "ArIiZmcr9e1h"
      },
      "execution_count": null,
      "outputs": []
    },
    {
      "cell_type": "code",
      "source": [
        "print(calcula_carga(15))\n",
        "print(calcula_carga(23.5))\n",
        "print(calcula_carga(3))"
      ],
      "metadata": {
        "id": "wudZ7035vqPY"
      },
      "execution_count": null,
      "outputs": []
    },
    {
      "cell_type": "markdown",
      "source": [
        "## Reto 48: ¿Está vacía la cadena?\n",
        "* Cree una función que devuelva `True` si una cadena está vacía y `False` en caso contrario.\n",
        "* Ejemplos:\n",
        "    1. esta_vacia(\"\") ➞ True\n",
        "    2. esta_vacia(\" \") ➞ False\n",
        "    3. esta_vacia(\"a\") ➞ False\n",
        "* Un string que contiene algún espacio en blanco `\" \"` no cuenta como vacío."
      ],
      "metadata": {
        "id": "7woygAxxzyFh"
      }
    },
    {
      "cell_type": "code",
      "source": [
        "def esta_vacia(cadena):\n",
        "    pass"
      ],
      "metadata": {
        "id": "mpNylrC-9fR-"
      },
      "execution_count": null,
      "outputs": []
    },
    {
      "cell_type": "code",
      "source": [
        "print(esta_vacia(\"\"))\n",
        "print(esta_vacia(\" \"))\n",
        "print(esta_vacia(\"a\"))"
      ],
      "metadata": {
        "id": "tRqfo_TCwXn0"
      },
      "execution_count": null,
      "outputs": []
    },
    {
      "cell_type": "markdown",
      "source": [
        "## Reto 49: Devolver negativo\n",
        "* Escriba una función que tome un número como parámetro y lo devuelva como negativo.\n",
        "* Si el número es positivo se convertirá en negativo.\n",
        "* Si el número previamente ya es negativo permanecerán sin alteración.\n",
        "* Si el número es cero la función devolverá cero.\n",
        "* Ejemplos:\n",
        "    1. devuelve_negativo(4) ➞ -4\n",
        "    2. devuelve_negativo(15) ➞ -15\n",
        "    3. devuelve_negativo(-4) ➞ -4\n",
        "    4. devuelve_negativo(0) ➞ 0\n"
      ],
      "metadata": {
        "id": "YEjGoQpPzyRK"
      }
    },
    {
      "cell_type": "code",
      "source": [
        "def devuelve_negativo(numero):\n",
        "    pass"
      ],
      "metadata": {
        "id": "dglxs40q9fw6"
      },
      "execution_count": null,
      "outputs": []
    },
    {
      "cell_type": "code",
      "source": [
        "print(devuelve_negativo(4))\n",
        "print(devuelve_negativo(15))\n",
        "print(devuelve_negativo(-4))\n",
        "print(devuelve_negativo(0))"
      ],
      "metadata": {
        "id": "wrNMmqdRzDIj"
      },
      "execution_count": null,
      "outputs": []
    },
    {
      "cell_type": "markdown",
      "source": [
        "## Reto 50: ¿Suma la lista menos de cien?\n",
        "* Cree una función que reciba una lista de números.\n",
        "* Se retorna `True` si la suma de los valores de la lista es menor estricto que 100, de lo contrario, se retorna `False`.\n",
        "* Ejemplos:\n",
        "    1. menos_de_cien([5, 57]) ➞ True\n",
        "    2. menos_de_cien([0]) ➞ True\n",
        "    3. menos_de_cien([7, 33, 15]) ➞ True\n",
        "    4. menos_de_cien([77, 30]) ➞ False\n",
        "    5. menos_de_cien([95, 1, 1, 1, 2]) ➞ False\n"
      ],
      "metadata": {
        "id": "emD22dC-zyWu"
      }
    },
    {
      "cell_type": "code",
      "source": [
        "def menos_de_cien(lista):\n",
        "    pass"
      ],
      "metadata": {
        "id": "qOiSp3Jm9gP3"
      },
      "execution_count": null,
      "outputs": []
    },
    {
      "cell_type": "code",
      "source": [
        "print(menos_de_cien([5, 57]))\n",
        "print(menos_de_cien([0]))\n",
        "print(menos_de_cien([7, 33, 15]))\n",
        "print(menos_de_cien([77, 30]))\n",
        "print(menos_de_cien([95, 1, 1, 1, 2]))"
      ],
      "metadata": {
        "id": "jlZ6Jzbi0blt"
      },
      "execution_count": null,
      "outputs": []
    }
  ]
}