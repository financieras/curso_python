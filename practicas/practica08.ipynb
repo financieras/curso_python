{
  "nbformat": 4,
  "nbformat_minor": 0,
  "metadata": {
    "colab": {
      "provenance": [],
      "authorship_tag": "ABX9TyMhPGCd2adoQtHN6rWNKXLj",
      "include_colab_link": true
    },
    "kernelspec": {
      "name": "python3",
      "display_name": "Python 3"
    },
    "language_info": {
      "name": "python"
    }
  },
  "cells": [
    {
      "cell_type": "markdown",
      "metadata": {
        "id": "view-in-github",
        "colab_type": "text"
      },
      "source": [
        "<a href=\"https://colab.research.google.com/github/financieras/curso_python/blob/main/practicas/practica08.ipynb\" target=\"_parent\"><img src=\"https://colab.research.google.com/assets/colab-badge.svg\" alt=\"Open In Colab\"/></a>"
      ]
    },
    {
      "cell_type": "markdown",
      "source": [
        "## Reto 71: El complementario de un booleano\n",
        "* En programación, ciertos valores pueden ser evaluados como booleanos, donde algunos valores son equivalentes a Verdadero (`True`) y otros a Falso (`False`).\n",
        "* Por ejemplo, en muchos lenguajes de programación, 1 (o cualquier valor diferente de 0) se considera `True`, mientras que el valor 0 se considera `False`.\n",
        "* Cree una función que devuelva el complemento del booleano dado.\n",
        "* El complemento de un booleano se refiere a la inversión del valor booleano.\n",
        "* Independientemente del tipo de dato de entrada (booleano o entero), la función debe devolver 1 si el valor dado es considerado `False` y 0 si es considerado `True`.\n",
        "* Ejemplos:\n",
        "    1. flip_bool(True) ➞ 0\n",
        "    2. flip_bool(False) ➞ 1\n",
        "    3. flip_bool(1) ➞ 0\n",
        "    4. flip_bool(0) ➞ 1\n",
        "    5. flip_bool(7) ➞ 0"
      ],
      "metadata": {
        "id": "Wx_mr5JjWfIX"
      }
    },
    {
      "cell_type": "code",
      "source": [
        "def flip_bool(valor):\n",
        "    pass"
      ],
      "metadata": {
        "id": "qiCmNvJD26U4"
      },
      "execution_count": null,
      "outputs": []
    },
    {
      "cell_type": "code",
      "source": [
        "print(flip_bool(True))\n",
        "print(flip_bool(False))\n",
        "print(flip_bool(1))\n",
        "print(flip_bool(0))\n",
        "print(flip_bool(7))"
      ],
      "metadata": {
        "id": "WJ72Yci-26U4"
      },
      "execution_count": null,
      "outputs": []
    },
    {
      "cell_type": "markdown",
      "source": [
        "## Reto 72: Comparando Arrays\n",
        "* La programadora [Ada Lovelace](https://es.wikipedia.org/wiki/Ada_Lovelace), está intentando crear una función que devuelva `True` si dos listas comparten la misma longitud y tienen valores numéricos idénticos en cada índice; de ​​lo contrario, devolverá `False`.\n",
        "* Sin embargo, la solución que ofrece su función tiene un formato inesperado.\n",
        "* ¿Puede arreglar la función de Ada para que se comporte como se ve en los ejemplos siguientes?\n",
        "* Ejemplos:\n",
        "\t1. comprobar_iguales([4, 7, 6], [4, 5, 6]) ➞ False\n",
        "\t2. comprobar_iguales([1, 2], [1, 3]) ➞ False\n",
        "\t3. comprobar_iguales([1, 2], [1, 2]) ➞ True\n",
        "\t4. comprobar_iguales([4, 5, 6], [4, 5, 12/2]) ➞ True\n",
        "\t5. comprobar_iguales([\"*\"], [chr(42)]) ➞ True\n",
        "\n",
        "* La función incorrecta es la siguiente:\n",
        "\n",
        "```python\n",
        "def comprobar_iguales(lst1, lst2):\n",
        "\tif [lst1[::] = lst2[::]]:\n",
        "\t\tprint(true)\n",
        "\telse:\n",
        "\t\tprint(false)\n",
        "```"
      ],
      "metadata": {
        "id": "wtBc_7IpWfMG"
      }
    },
    {
      "cell_type": "code",
      "source": [
        "def comprobar_iguales(lst1, lst2):\n",
        "    pass"
      ],
      "metadata": {
        "id": "W9sgghc425um"
      },
      "execution_count": null,
      "outputs": []
    },
    {
      "cell_type": "code",
      "source": [
        "print(comprobar_iguales([4, 7, 6], [4, 5, 6]))\n",
        "print(comprobar_iguales([1, 2], [1, 3]))\n",
        "print(comprobar_iguales([1, 2], [1, 2]))\n",
        "print(comprobar_iguales([4, 5, 6], [4, 5, 12/2]))\n",
        "print(comprobar_iguales([\"*\"], [chr(42)]))"
      ],
      "metadata": {
        "id": "NZSl50lY25um"
      },
      "execution_count": null,
      "outputs": []
    },
    {
      "cell_type": "markdown",
      "source": [
        "## Reto 73: Perdiendo el primer carácter\n",
        "* Cree una función que tome una palabra y devuelva la nueva palabra sin incluir el primer carácter.\n",
        "* Ejemplos:\n",
        "    1. nueva_palabra(\"cosa\") ➞ \"osa\"\n",
        "    2. nueva_palabra(\"Foca\") ➞ \"oca\"\n",
        "    3. nueva_palabra(\"Hola\") ➞ \"ola\""
      ],
      "metadata": {
        "id": "LzDEJWljWfPr"
      }
    },
    {
      "cell_type": "code",
      "source": [
        "def nueva_palabra(palabra):\n",
        "    pass"
      ],
      "metadata": {
        "id": "nrwigeCU25WF"
      },
      "execution_count": null,
      "outputs": []
    },
    {
      "cell_type": "code",
      "source": [
        "print(nueva_palabra(\"cosa\"))\n",
        "print(nueva_palabra(\"Foca\"))\n",
        "print(nueva_palabra(\"Hola\"))"
      ],
      "metadata": {
        "id": "a78Cervh25WF"
      },
      "execution_count": null,
      "outputs": []
    },
    {
      "cell_type": "markdown",
      "source": [
        "## Reto 74: Área de la figura\n",
        "* Escriba una función que acepte base, altura y forma (\"triángulo\", \"paralelogramo\") como entrada y calcule el área de esa figura.\n",
        "* La base y la altura pueden ser números que contengan decimales.\n",
        "* El área de un triángulo es `b * h / 2`.\n",
        "* El área de un paralelogramo es `b * h`.\n",
        "* Ejemplos:\n",
        "    1. area_figura(2, 3, \"triángulo\") ➞ 3\n",
        "    2. area_figura(8, 6, \"paralelogramo\") ➞ 48\n",
        "    3. area_figura(2.9, 1.3, \"paralelogramo\") ➞ 3.77\n",
        "    4. area_figura(2.8, 10.5, \"triángulo\") ➞ 14.7\n",
        "    5. area_figura(3, 7, \"elipse\") ➞ None\n",
        "\n",
        "* Observe que triángulo lleva tilde.\n",
        "* Para cualquier otra figura que no sea un triángulo o un paralelogramo la función retornará `None`."
      ],
      "metadata": {
        "id": "oWNqE80mWfTn"
      }
    },
    {
      "cell_type": "code",
      "source": [
        "def area_figura(base, altura, forma):\n",
        "    pass"
      ],
      "metadata": {
        "id": "vr3uuHxJ248I"
      },
      "execution_count": null,
      "outputs": []
    },
    {
      "cell_type": "code",
      "source": [
        "print(area_figura(2, 3, \"triángulo\"))\n",
        "print(area_figura(8, 6, \"paralelogramo\"))\n",
        "print(area_figura(2.9, 1.3, \"paralelogramo\"))\n",
        "print(area_figura(2.8, 10.5, \"triángulo\"))\n",
        "print(area_figura(3, 7, \"elipse\"))"
      ],
      "metadata": {
        "id": "MLUu_A-T248I"
      },
      "execution_count": null,
      "outputs": []
    },
    {
      "cell_type": "markdown",
      "source": [
        "## Reto 75: Mitad, cuarto y octavo\n",
        "* Cree una función que tome un número y devuelva una lista de tres números:\n",
        "    1. la mitad del número\n",
        "    2. un cuarto del número y\n",
        "    3. un octavo del número\n",
        "* Ejemplos:\n",
        "    1. en_partes(6) ➞ [3.0, 1.5, 0.75]\n",
        "    2. en_partes(22) ➞ [11, 5.5, 2.75]\n",
        "    3. en_partes(25) ➞ [12.5, 6.25, 3.125]\n",
        "    4. en_partes(400) ➞ [200.0, 100.0, 50.0]"
      ],
      "metadata": {
        "id": "f1wFUd3JWfWo"
      }
    },
    {
      "cell_type": "code",
      "source": [
        "def en_partes(n):\n",
        "    pass"
      ],
      "metadata": {
        "id": "DIMqzRoj24ps"
      },
      "execution_count": null,
      "outputs": []
    },
    {
      "cell_type": "code",
      "source": [
        "print(en_partes(6))\n",
        "print(en_partes(22))\n",
        "print(en_partes(25))\n",
        "print(en_partes(400))"
      ],
      "metadata": {
        "id": "vq28K5NL24ps"
      },
      "execution_count": null,
      "outputs": []
    },
    {
      "cell_type": "markdown",
      "source": [
        "## Reto 76: Contador condicional\n",
        "* Dada una lista de números enteros decir cuantos son mayores o iguales a 10.\n",
        "* Ejemplos:\n",
        "    1. mayores_a_diez([7, 10, 24, 1, 50]) ➞ 3\n",
        "    2. mayores_a_diez([1, 2, 20]) ➞ 1\n",
        "    3. mayores_a_diez([-1, 12, 20, 30]) ➞ 3\n",
        "    4. mayores_a_diez([]) ➞ 0"
      ],
      "metadata": {
        "id": "ByAlOR_yWfaa"
      }
    },
    {
      "cell_type": "code",
      "source": [
        "def mayores_a_diez(lista):\n",
        "    pass"
      ],
      "metadata": {
        "id": "sNzO90p524I_"
      },
      "execution_count": null,
      "outputs": []
    },
    {
      "cell_type": "code",
      "source": [
        "print(mayores_a_diez([7, 10, 24, 1, 50]))\n",
        "print(mayores_a_diez([1, 2, 20]))\n",
        "print(mayores_a_diez([-1, 12, 20, 30]))\n",
        "print(mayores_a_diez([]))"
      ],
      "metadata": {
        "id": "kc6Ck63C24I_"
      },
      "execution_count": null,
      "outputs": []
    },
    {
      "cell_type": "markdown",
      "source": [
        "## Reto 77: Encontrar el número mayor y menor\n",
        "* Cree una función que acepte una lista de números y devuelva los números mínimo y máximo, en ese orden (como una lista).\n",
        "* Ejemplos:\n",
        "    1. min_max([1, 2, 3, 4, 5]) ➞ [1, 5]\n",
        "    2. min_max([200, 5]) ➞ [5, 200]\n",
        "    3. min_max([1]) ➞ [1, 1]"
      ],
      "metadata": {
        "id": "QNz6oOpOWfeJ"
      }
    },
    {
      "cell_type": "code",
      "source": [
        "def min_max(lista):\n",
        "    pass"
      ],
      "metadata": {
        "id": "SOQHaV1R23w6"
      },
      "execution_count": null,
      "outputs": []
    },
    {
      "cell_type": "code",
      "source": [
        "print(min_max([1, 2, 3, 4, 5]))\n",
        "print(min_max([200, 5]))\n",
        "print(min_max([1]))"
      ],
      "metadata": {
        "id": "9dJ5OYap23w_"
      },
      "execution_count": null,
      "outputs": []
    },
    {
      "cell_type": "markdown",
      "source": [
        "## Reto 78: Comprobar espacios en una cadena\n",
        "* Cree una función que devuelva `True` si una cadena contiene espacios.\n",
        "* Ejemplos:\n",
        "    1. tiene_espacios(\"¿Qué tal estás?\") ➞ True\n",
        "    2. tiene_espacios(\" \") ➞ True\n",
        "    3. tiene_espacios(\"\") ➞ False\n",
        "    4. tiene_espacios(\"hello\") ➞ False\n",
        "    5. tiene_espacios(\",./!@#\") ➞ False\n",
        "* Una cadena vacía no contiene espacios."
      ],
      "metadata": {
        "id": "ls0gwknEWfhq"
      }
    },
    {
      "cell_type": "code",
      "source": [
        "def tiene_espacios(cadena):\n",
        "    pass"
      ],
      "metadata": {
        "id": "RN9WPfic23HY"
      },
      "execution_count": null,
      "outputs": []
    },
    {
      "cell_type": "code",
      "source": [
        "print(tiene_espacios(\"¿Qué tal estás?\"))\n",
        "print(tiene_espacios(\" \"))\n",
        "print(tiene_espacios(\"\"))\n",
        "print(tiene_espacios(\"hola\"))\n",
        "print(tiene_espacios(\",./!@#\"))"
      ],
      "metadata": {
        "id": "DCDFn7WN23HY"
      },
      "execution_count": null,
      "outputs": []
    },
    {
      "cell_type": "markdown",
      "source": [
        "## Reto 79: ¿Cuántas letras 'd' hay?\n",
        "* Crea una función que cuente cuántas 'D' hay en una oración.\n",
        "* En el cálculo computan tanto las letras D mayúsculas como las minúsculas.\n",
        "* Su función no debe distinguir entre mayúsculas y minúsculas.\n",
        "* Ejemplos:\n",
        "    1. cuenta_d(\"Defender la democracia es decisivo\") ➞ 4\n",
        "    2. cuenta_d(\"Olvidamos deberes pero no derechos\") ➞ 3\n",
        "    3. cuenta_d(\"Eduardo hizo una despedida el domingo\") ➞ 6\n"
      ],
      "metadata": {
        "id": "QuGX0yp5WflL"
      }
    },
    {
      "cell_type": "code",
      "source": [
        "def cuenta_d(frase):\n",
        "    pass"
      ],
      "metadata": {
        "id": "GHuIhBn-22wC"
      },
      "execution_count": null,
      "outputs": []
    },
    {
      "cell_type": "code",
      "source": [
        "print(cuenta_d(\"Defender la democracia es decisivo\"))\n",
        "print(cuenta_d(\"Olvidamos deberes pero no derechos\"))\n",
        "print(cuenta_d(\"Eduardo hizo una despedida el domingo\"))"
      ],
      "metadata": {
        "id": "YnesfOs222wC"
      },
      "execution_count": null,
      "outputs": []
    },
    {
      "cell_type": "markdown",
      "source": [
        "## Reto 80: Crear ID\n",
        "* Muchos IDs (para darse de alta en páginas o aplicaciones) se crean utilizando el nombre de la persona.\n",
        "* Cree una función que devolverá una identificación de cuatro caracteres utilizando el nombre y apellido de la persona.\n",
        "* El primer carácter será la primera letra del nombre pero en minúsculas.\n",
        "* Los siguientes tres caracteres serán los primeros tres caracteres del apellido, donde la primera letra estará en mayúscula y las otras dos en minúsculas.\n",
        "* Ejemplos:\n",
        "    1. crear_id(\"maría\", \"ruiz\") ➞ \"mRui\"\n",
        "    2. crear_id(\"Juan\", \"Martín\") ➞ \"jMar\"\n",
        "    3. crear_id(\"Andrew\", \"McDonald\") ➞ \"aMcd\""
      ],
      "metadata": {
        "id": "-4yhXaL2Wfos"
      }
    },
    {
      "cell_type": "code",
      "source": [
        "def crear_id(nombre, apellido):\n",
        "    pass"
      ],
      "metadata": {
        "id": "LzSG_QQi22SM"
      },
      "execution_count": null,
      "outputs": []
    },
    {
      "cell_type": "code",
      "source": [
        "print(crear_id(\"maría\", \"ruiz\"))\n",
        "print(crear_id(\"Juan\", \"Martín\"))\n",
        "print(crear_id(\"Andrew\", \"McDonald\"))"
      ],
      "metadata": {
        "id": "GduThGM722SR"
      },
      "execution_count": null,
      "outputs": []
    }
  ]
}