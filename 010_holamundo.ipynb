{
  "cells": [
    {
      "cell_type": "markdown",
      "metadata": {
        "colab_type": "text",
        "id": "view-in-github"
      },
      "source": [
        "<a href=\"https://colab.research.google.com/github/financieras/curso_python/blob/main/resumen/010_holamundo.ipynb\" target=\"_parent\"><img src=\"https://colab.research.google.com/assets/colab-badge.svg\" alt=\"Open In Colab\"/></a>"
      ]
    },
    {
      "cell_type": "markdown",
      "metadata": {
        "id": "SNTHfP-NelaS"
      },
      "source": [
        "# Hola mundo"
      ]
    },
    {
      "cell_type": "code",
      "execution_count": null,
      "metadata": {
        "colab": {
          "base_uri": "https://localhost:8080/"
        },
        "id": "7xsVynfiehVn",
        "outputId": "1024df49-01bf-46ee-d069-ea7a7db51ade"
      },
      "outputs": [
        {
          "name": "stdout",
          "output_type": "stream",
          "text": [
            "Hola mundo\n"
          ]
        }
      ],
      "source": [
        "print(\"Hola mundo\")"
      ]
    },
    {
      "cell_type": "markdown",
      "metadata": {
        "id": "8AZRFw8HezD-"
      },
      "source": [
        "## Comentarios del programador"
      ]
    },
    {
      "cell_type": "code",
      "execution_count": null,
      "metadata": {
        "colab": {
          "base_uri": "https://localhost:8080/"
        },
        "id": "wz4Fdh9Zet-v",
        "outputId": "3ac7e02c-aac7-4b7f-de7e-23620f7397b6"
      },
      "outputs": [
        {
          "name": "stdout",
          "output_type": "stream",
          "text": [
            "Hello World\n"
          ]
        }
      ],
      "source": [
        "# Esto es un comentario\n",
        "print('Hello World')     # usando comillas simples"
      ]
    },
    {
      "cell_type": "markdown",
      "metadata": {
        "id": "I9FNg4P4foG0"
      },
      "source": [
        "### Comentario de varias líneas\n",
        "Va entre 3 comillas al inicio y 3 comillas al final que pueden ser simples o dobles"
      ]
    },
    {
      "cell_type": "code",
      "execution_count": null,
      "metadata": {
        "colab": {
          "base_uri": "https://localhost:8080/"
        },
        "id": "Nq9z5ZuufHUQ",
        "outputId": "834fcadb-21cb-4da8-ad25-7b24fd492a98"
      },
      "outputs": [
        {
          "name": "stdout",
          "output_type": "stream",
          "text": [
            "Hola mundo del siglo 21\n"
          ]
        }
      ],
      "source": [
        "'''Se puede escribir un print\n",
        "con varios elementos separados\n",
        "por comas'''\n",
        "\n",
        "print(\"Hola\", \"mundo\", \"del siglo\", 21)     # imprimiendo varios datos"
      ]
    },
    {
      "cell_type": "markdown",
      "metadata": {
        "id": "1inkiGdLsDGR"
      },
      "source": [
        "## Operar como calculadora\n",
        "* Podemos trabajar directamente haciendo operaciones como si fuera una calculadora."
      ]
    },
    {
      "cell_type": "code",
      "execution_count": null,
      "metadata": {
        "colab": {
          "base_uri": "https://localhost:8080/"
        },
        "id": "CJXDyN6esFNu",
        "outputId": "3ac3a087-68df-4b60-f218-f3cdf6b82c86"
      },
      "outputs": [
        {
          "data": {
            "text/plain": [
              "5"
            ]
          },
          "execution_count": 1,
          "metadata": {},
          "output_type": "execute_result"
        }
      ],
      "source": [
        "# suma\n",
        "2 + 3"
      ]
    },
    {
      "cell_type": "code",
      "execution_count": 1,
      "metadata": {
        "colab": {
          "base_uri": "https://localhost:8080/"
        },
        "id": "DJaVOa7oAYz-",
        "outputId": "bcebec17-3b34-4a3e-a07c-300563bc2f28"
      },
      "outputs": [
        {
          "name": "stdout",
          "output_type": "stream",
          "text": [
            "-7\n",
            "27\n",
            "3.6666666666666665\n",
            "3\n",
            "2\n",
            "8\n",
            "8\n"
          ]
        }
      ],
      "source": [
        "print(-2 - 5)       # -7 resta\n",
        "print(9 * 3)        # 27 producto\n",
        "print(11 / 3)       # 3.6666666 división\n",
        "print(11 // 3)      # 3 división entera (no es redondeo)\n",
        "print(11 % 3)       # 2 resto (módulo)\n",
        "print(2 ** 3)       # 8 potencias\n",
        "print(pow(2, 3))    # 8 potencias usando la función pow"
      ]
    },
    {
      "cell_type": "markdown",
      "metadata": {},
      "source": [
        "### Paréntesis y prelación de operaciones"
      ]
    },
    {
      "cell_type": "code",
      "execution_count": null,
      "metadata": {},
      "outputs": [],
      "source": [
        "# el producto se hace antes que la suma, tiene prioridad\n",
        "5 + 3 * 2"
      ]
    },
    {
      "cell_type": "code",
      "execution_count": null,
      "metadata": {},
      "outputs": [],
      "source": [
        "print(5+(3*2))\n",
        "print((5+3)*2)  # los paréntesis tienen prioridad sobre las operaciones"
      ]
    }
  ],
  "metadata": {
    "colab": {
      "authorship_tag": "ABX9TyMyUpg0H2rieTrcJBVqDO0O",
      "include_colab_link": true,
      "provenance": []
    },
    "kernelspec": {
      "display_name": "Python 3",
      "name": "python3"
    },
    "language_info": {
      "name": "python"
    }
  },
  "nbformat": 4,
  "nbformat_minor": 0
}
