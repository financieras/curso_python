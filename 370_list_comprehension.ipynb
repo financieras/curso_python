{
  "nbformat": 4,
  "nbformat_minor": 0,
  "metadata": {
    "colab": {
      "provenance": [],
      "authorship_tag": "ABX9TyO/YpMVLMabNusLcei8qoAC",
      "include_colab_link": true
    },
    "kernelspec": {
      "name": "python3",
      "display_name": "Python 3"
    },
    "language_info": {
      "name": "python"
    }
  },
  "cells": [
    {
      "cell_type": "markdown",
      "metadata": {
        "id": "view-in-github",
        "colab_type": "text"
      },
      "source": [
        "<a href=\"https://colab.research.google.com/github/financieras/curso_python/blob/main/370_list_comprehension.ipynb\" target=\"_parent\"><img src=\"https://colab.research.google.com/assets/colab-badge.svg\" alt=\"Open In Colab\"/></a>"
      ]
    },
    {
      "cell_type": "markdown",
      "source": [
        "# List Comprehension\n",
        "Comprensión de Listas"
      ],
      "metadata": {
        "id": "HXt8m_gMCTKs"
      }
    },
    {
      "cell_type": "markdown",
      "source": [
        "## Bucle `for`"
      ],
      "metadata": {
        "id": "xF7jpfo7FG_o"
      }
    },
    {
      "cell_type": "markdown",
      "source": [
        "### Método clásico\n",
        "Una lista creada con un bucle `for`."
      ],
      "metadata": {
        "id": "DcfdgpzDDodH"
      }
    },
    {
      "cell_type": "code",
      "source": [
        "numeros = []\n",
        "\n",
        "for i in range(10):\n",
        "    numeros.append(i+1)\n",
        "\n",
        "print(numeros)"
      ],
      "metadata": {
        "colab": {
          "base_uri": "https://localhost:8080/"
        },
        "id": "OihUrBAtDw_4",
        "outputId": "188e97f6-c7e4-4982-8c96-467b3b04826b"
      },
      "execution_count": null,
      "outputs": [
        {
          "output_type": "stream",
          "name": "stdout",
          "text": [
            "[1, 2, 3, 4, 5, 6, 7, 8, 9, 10]\n"
          ]
        }
      ]
    },
    {
      "cell_type": "markdown",
      "source": [
        "### Creando con List Comprehension"
      ],
      "metadata": {
        "id": "MTuBmCTMEJ40"
      }
    },
    {
      "cell_type": "code",
      "source": [
        "[i+1 for i in range(10)]"
      ],
      "metadata": {
        "colab": {
          "base_uri": "https://localhost:8080/"
        },
        "id": "ozOMoQMLEOrv",
        "outputId": "1cd47adb-2391-4900-b4a2-dfe7443b340c"
      },
      "execution_count": null,
      "outputs": [
        {
          "output_type": "execute_result",
          "data": {
            "text/plain": [
              "[1, 2, 3, 4, 5, 6, 7, 8, 9, 10]"
            ]
          },
          "metadata": {},
          "execution_count": 4
        }
      ]
    },
    {
      "cell_type": "markdown",
      "source": [
        "## Bucle `for` y condicional `if`"
      ],
      "metadata": {
        "id": "3VDv41-CFLMh"
      }
    },
    {
      "cell_type": "markdown",
      "source": [
        "### Método clásico"
      ],
      "metadata": {
        "id": "Pzx_fgsYFTZa"
      }
    },
    {
      "cell_type": "code",
      "source": [
        "pares = []\n",
        "\n",
        "for i in range(1, 11):\n",
        "    if i % 2 == 0:\n",
        "        pares.append(i)\n",
        "\n",
        "print(pares)"
      ],
      "metadata": {
        "colab": {
          "base_uri": "https://localhost:8080/"
        },
        "id": "6mAUPPS_FWMS",
        "outputId": "80f86a88-2b04-4a46-ef74-66b04a7d7978"
      },
      "execution_count": null,
      "outputs": [
        {
          "output_type": "stream",
          "name": "stdout",
          "text": [
            "[2, 4, 6, 8, 10]\n"
          ]
        }
      ]
    },
    {
      "cell_type": "markdown",
      "source": [
        "### Creando con List Comprehension"
      ],
      "metadata": {
        "id": "-xyUf9SNFst9"
      }
    },
    {
      "cell_type": "code",
      "source": [
        "[i for i in range(1,11) if i%2==0]"
      ],
      "metadata": {
        "colab": {
          "base_uri": "https://localhost:8080/"
        },
        "id": "i_G8d3sKFtnm",
        "outputId": "180cc5b0-1f14-4ca5-b494-8dd5bc9f8e12"
      },
      "execution_count": null,
      "outputs": [
        {
          "output_type": "execute_result",
          "data": {
            "text/plain": [
              "[2, 4, 6, 8, 10]"
            ]
          },
          "metadata": {},
          "execution_count": 6
        }
      ]
    },
    {
      "cell_type": "markdown",
      "source": [
        "## Tuplas comprimidas"
      ],
      "metadata": {
        "id": "GahE6U-mGa1j"
      }
    },
    {
      "cell_type": "code",
      "source": [
        "tuple(i for i in range(5))"
      ],
      "metadata": {
        "colab": {
          "base_uri": "https://localhost:8080/"
        },
        "id": "bPfs9xAwGgy7",
        "outputId": "7aaafbe0-7a3d-4af0-d508-a8a0b1e5492f"
      },
      "execution_count": null,
      "outputs": [
        {
          "output_type": "execute_result",
          "data": {
            "text/plain": [
              "(0, 1, 2, 3, 4)"
            ]
          },
          "metadata": {},
          "execution_count": 9
        }
      ]
    },
    {
      "cell_type": "markdown",
      "source": [
        "## Ejercicios"
      ],
      "metadata": {
        "id": "x5182-g16hFy"
      }
    },
    {
      "cell_type": "markdown",
      "source": [
        "#### *Ejercicio 1*\n",
        "1. Genera una lista de 20 números aleatorios entre 1 y 100.\n",
        "2. Usando List Comprehension crea una nueva lista que contenga solo los números impares de la anterior.\n",
        "3. Imprimela en orden decreciente."
      ],
      "metadata": {
        "id": "62FH9sFY6jOd"
      }
    }
  ]
}