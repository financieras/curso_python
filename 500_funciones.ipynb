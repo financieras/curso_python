{
  "nbformat": 4,
  "nbformat_minor": 0,
  "metadata": {
    "colab": {
      "provenance": [],
      "authorship_tag": "ABX9TyN7s0VyMdZshg8zQTWnocOi",
      "include_colab_link": true
    },
    "kernelspec": {
      "name": "python3",
      "display_name": "Python 3"
    },
    "language_info": {
      "name": "python"
    }
  },
  "cells": [
    {
      "cell_type": "markdown",
      "metadata": {
        "id": "view-in-github",
        "colab_type": "text"
      },
      "source": [
        "<a href=\"https://colab.research.google.com/github/financieras/curso_python/blob/main/500_funciones.ipynb\" target=\"_parent\"><img src=\"https://colab.research.google.com/assets/colab-badge.svg\" alt=\"Open In Colab\"/></a>"
      ]
    },
    {
      "cell_type": "markdown",
      "source": [
        "# Funciones"
      ],
      "metadata": {
        "id": "FnIH8gJB8KXq"
      }
    },
    {
      "cell_type": "markdown",
      "source": [
        "## Principio DRY\n",
        "* Las funciones nos ayudan a cumplir con uno de los principios más importantes de la programación como lo es el principio DRY (don't repeat yourself) o (no te repitas).\n",
        "\n",
        "* Al tener la lógica en una función evitas tener que escribir la misma lógica una y otra vez, de modo que tienes un código más limpio y más escalable."
      ],
      "metadata": {
        "id": "EoC1uBIF9orJ"
      }
    },
    {
      "cell_type": "code",
      "execution_count": null,
      "metadata": {
        "id": "bEh_SpVG8Jy-"
      },
      "outputs": [],
      "source": []
    },
    {
      "cell_type": "markdown",
      "source": [
        "Higher order function: una función dentro de otra función\n",
        "HOF usado con funciones Lambda"
      ],
      "metadata": {
        "id": "bYxPbGotN-6U"
      }
    }
  ]
}