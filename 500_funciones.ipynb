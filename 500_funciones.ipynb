{
  "nbformat": 4,
  "nbformat_minor": 0,
  "metadata": {
    "colab": {
      "provenance": [],
      "authorship_tag": "ABX9TyODeIaKaXqxmeIBKvUgveRh",
      "include_colab_link": true
    },
    "kernelspec": {
      "name": "python3",
      "display_name": "Python 3"
    },
    "language_info": {
      "name": "python"
    }
  },
  "cells": [
    {
      "cell_type": "markdown",
      "metadata": {
        "id": "view-in-github",
        "colab_type": "text"
      },
      "source": [
        "<a href=\"https://colab.research.google.com/github/financieras/curso_python/blob/main/500_funciones.ipynb\" target=\"_parent\"><img src=\"https://colab.research.google.com/assets/colab-badge.svg\" alt=\"Open In Colab\"/></a>"
      ]
    },
    {
      "cell_type": "markdown",
      "source": [
        "# Funciones"
      ],
      "metadata": {
        "id": "FnIH8gJB8KXq"
      }
    },
    {
      "cell_type": "markdown",
      "source": [
        "## Principio DRY\n",
        "* Las funciones nos ayudan a cumplir con uno de los principios más importantes de la programación como lo es el principio DRY (don't repeat yourself) o (no te repitas).\n",
        "\n",
        "* Al tener la lógica en una función evitas tener que escribir la misma lógica una y otra vez, de modo que tienes un código más limpio y más escalable."
      ],
      "metadata": {
        "id": "EoC1uBIF9orJ"
      }
    },
    {
      "cell_type": "markdown",
      "source": [
        "## Funciones sin `return`"
      ],
      "metadata": {
        "id": "zraNriHMsYsC"
      }
    },
    {
      "cell_type": "code",
      "metadata": {
        "colab": {
          "base_uri": "https://localhost:8080/"
        },
        "id": "cQU7-IT3C-bJ",
        "outputId": "24ad0b93-6dc4-4d89-f649-7e7fd0ae6871"
      },
      "source": [
        "def saluda():        # definimos la función\n",
        "    print(\"Hola\")\n",
        "\n",
        "saluda()             # invocamos o llamamos a la función"
      ],
      "execution_count": null,
      "outputs": [
        {
          "output_type": "stream",
          "name": "stdout",
          "text": [
            "Hola\n"
          ]
        }
      ]
    },
    {
      "cell_type": "markdown",
      "metadata": {
        "id": "pcQUOke9DHcP"
      },
      "source": [
        "## Función con ```return```"
      ]
    },
    {
      "cell_type": "code",
      "metadata": {
        "colab": {
          "base_uri": "https://localhost:8080/"
        },
        "id": "0ouSvzHGDLLr",
        "outputId": "e02fa01f-1462-4537-ce9b-4946cddf8a5c"
      },
      "source": [
        "def buenos_dias():         # el nombre de la función se elige como las variables (minúsculas, sin espacios, ...)\n",
        "    return \"Buenos días\"   # función que devuelve (retorna) un string\n",
        "\n",
        "print(buenos_dias())       # invocamos la función dentro de un print puesto que queremos imprimir lo retornado por la función"
      ],
      "execution_count": null,
      "outputs": [
        {
          "output_type": "stream",
          "name": "stdout",
          "text": [
            "Buenos días\n"
          ]
        }
      ]
    },
    {
      "cell_type": "markdown",
      "metadata": {
        "id": "TRnl21H_Dbvn"
      },
      "source": [
        "## Función con parámetro"
      ]
    },
    {
      "cell_type": "code",
      "metadata": {
        "colab": {
          "base_uri": "https://localhost:8080/"
        },
        "id": "2GUs3mH0Dfpt",
        "outputId": "773e4dd3-f4c9-4680-936e-ce3c319d7cd2"
      },
      "source": [
        "def buenas_tardes(nombre):             # el parámetro es 'nombre'\n",
        "    return f\"Buenas tardes {nombre}.\"\n",
        "\n",
        "print(buenas_tardes(\"Laura\"))          # el argumento es \"Laura\""
      ],
      "execution_count": null,
      "outputs": [
        {
          "output_type": "stream",
          "name": "stdout",
          "text": [
            "Buenas tardes Laura.\n"
          ]
        }
      ]
    },
    {
      "cell_type": "markdown",
      "source": [
        "## Invocar reiteradamente una función"
      ],
      "metadata": {
        "id": "GpoKRuvfuuvT"
      }
    },
    {
      "cell_type": "code",
      "metadata": {
        "colab": {
          "base_uri": "https://localhost:8080/"
        },
        "id": "vp5UcRCoEBpe",
        "outputId": "e4297c56-9967-4809-afab-6ad0aa7e8ed2"
      },
      "source": [
        "def doblar(n):\n",
        "    return 2 * n\n",
        "\n",
        "for i in range(1, 6):\n",
        "    print(f\"El doble de {i} es {doblar(i)}.\")"
      ],
      "execution_count": null,
      "outputs": [
        {
          "output_type": "stream",
          "name": "stdout",
          "text": [
            "El doble de 1 es 2.\n",
            "El doble de 2 es 4.\n",
            "El doble de 3 es 6.\n",
            "El doble de 4 es 8.\n",
            "El doble de 5 es 10.\n"
          ]
        }
      ]
    },
    {
      "cell_type": "markdown",
      "metadata": {
        "id": "KNSBcPwC7YGY"
      },
      "source": [
        "## Asignar a una variable lo retornado por una función"
      ]
    },
    {
      "cell_type": "code",
      "metadata": {
        "colab": {
          "base_uri": "https://localhost:8080/"
        },
        "id": "4kvjPrn27eDg",
        "outputId": "01221cd9-46d4-4d5a-b49d-f9a06f728747"
      },
      "source": [
        "def triple_mas_uno(n):\n",
        "    resultado = 3 * n + 1      # la variable resultado es interna a la función, fuera de ella no se conoce, es una 'variable local'\n",
        "    return resultado           # las variables locales restringen su ámbito solo al interior de la función, fuera no existen\n",
        "\n",
        "x = 5                          # por contraposición, la variable x es una 'variable global' porque está fuera de la funicón\n",
        "t = triple_mas_uno(x)          # podemos asignar a una variable lo que retorne una función\n",
        "print(f\"El triple más uno de {x} es {t}.\")"
      ],
      "execution_count": null,
      "outputs": [
        {
          "output_type": "stream",
          "name": "stdout",
          "text": [
            "El triple más uno de 5 es 16.\n"
          ]
        }
      ]
    },
    {
      "cell_type": "markdown",
      "metadata": {
        "id": "Te6eZIGIAi7h"
      },
      "source": [
        "## Función con dos parámetros"
      ]
    },
    {
      "cell_type": "code",
      "metadata": {
        "colab": {
          "base_uri": "https://localhost:8080/"
        },
        "id": "uODVs2qVApKK",
        "outputId": "8340257d-35a5-4aa4-aade-213f35db2458"
      },
      "source": [
        "def area_triangulo(base, altura):\n",
        "    return base * altura / 2             # aquí nos hemos ahorrado la variable resultado y directamente lo ponemos en el return\n",
        "\n",
        "b = float(input(\"Indique la base: \"))\n",
        "h = float(input(\"Indique la altura: \"))\n",
        "superficie = area_triangulo(b, h)        # invocamos la función con las variables b y h que son diferentes a los parámetros base y altura\n",
        "print(f\"El área del triángulo de base {b} y altura {h} es {superficie}.\")"
      ],
      "execution_count": null,
      "outputs": [
        {
          "output_type": "stream",
          "name": "stdout",
          "text": [
            "Indique la base: 100\n",
            "Indique la altura: 50\n",
            "El área del triángulo de base 100.0 y altura 50.0 es 2500.0.\n"
          ]
        }
      ]
    },
    {
      "cell_type": "markdown",
      "metadata": {
        "id": "W2-pAWRgCpwR"
      },
      "source": [
        "### Función que concatena\n",
        "* Definir una función que concatene dos cadenas de caracteres, las veces que se indique.\n",
        "* El programa nos pide dos cadenas y nos pide las veces que han de repetirse, y muestra el resultado en pantalla."
      ]
    },
    {
      "cell_type": "code",
      "metadata": {
        "colab": {
          "base_uri": "https://localhost:8080/"
        },
        "id": "uvIHTMBOMzvW",
        "outputId": "313f9d4e-371b-49c2-9198-a71f3dbb70e5"
      },
      "source": [
        "def concatena(cadena1, cadena2, veces):\n",
        "    return (cadena1 + cadena2) * veces\n",
        "\n",
        "c1 = input(\"Introduzca la primera cadena: \")\n",
        "c2 = input(\"Introduzca la segunda cadena: \")\n",
        "n = int(input(\"Introduzca cuantas veces se han de repetir: \"))\n",
        "print(concatena(c1, c2, n))"
      ],
      "execution_count": null,
      "outputs": [
        {
          "output_type": "stream",
          "name": "stdout",
          "text": [
            "Introduzca la primera cadena: *\n",
            "Introduzca la segunda cadena: =\n",
            "Introduzca cuantas veces se han de repetir: 20\n",
            "*=*=*=*=*=*=*=*=*=*=*=*=*=*=*=*=*=*=*=*=\n"
          ]
        }
      ]
    },
    {
      "cell_type": "markdown",
      "metadata": {
        "id": "srciP1oENfD1"
      },
      "source": [
        "## Función que realiza un procedimiento\n",
        "* Esta función no devuelve nada, lo que realiza es un procedimiento.\n",
        "* Las funciones que no llevan ```return``` devuelven el valor ```None```."
      ]
    },
    {
      "cell_type": "code",
      "metadata": {
        "colab": {
          "base_uri": "https://localhost:8080/"
        },
        "id": "zrBX8iKuNqhN",
        "outputId": "be8356fe-1e91-4dfb-eb89-35f50524ab85"
      },
      "source": [
        "def pantalla_inicio():\n",
        "    print(\"*********************************\")\n",
        "    print(\"*                               *\")\n",
        "    print(\"*      PANTALLA DE INICIO       *\")\n",
        "    print(\"*                               *\")\n",
        "    print(\"*     Bienvenido al sistema     *\")\n",
        "    print(\"*                               *\")\n",
        "    print(\"*********************************\")\n",
        "\n",
        "pantalla_inicio()      # invocación de la función"
      ],
      "execution_count": null,
      "outputs": [
        {
          "output_type": "stream",
          "name": "stdout",
          "text": [
            "*********************************\n",
            "*                               *\n",
            "*      PANTALLA DE INICIO       *\n",
            "*                               *\n",
            "*     Bienvenido al sistema     *\n",
            "*                               *\n",
            "*********************************\n"
          ]
        }
      ]
    },
    {
      "cell_type": "markdown",
      "metadata": {
        "id": "Nunhv0PsPfaH"
      },
      "source": [
        "## Las funciones sin ```return``` devuelven ```None```\n",
        "* Vamos a crear la misma función que vimos al inicio, la función saluda, pero viendo lo que devuelve\n",
        "* Igalamos el resultado a una variable ```s``` y luego la imprimimos\n",
        "* Veamos dos casos:\n",
        " - poniendo ``` return None```\n",
        " - poniendo simplemente ``` return```"
      ]
    },
    {
      "cell_type": "markdown",
      "metadata": {
        "id": "7lqBdZYPQz_i"
      },
      "source": [
        "#### Caso 1"
      ]
    },
    {
      "cell_type": "code",
      "metadata": {
        "colab": {
          "base_uri": "https://localhost:8080/"
        },
        "id": "INqPbBuvPl9n",
        "outputId": "6202f4d2-c2b1-4c28-ef4f-c6130ce4832d"
      },
      "source": [
        "def saluda():\n",
        "    print(\"Hola\")\n",
        "    return None\n",
        "\n",
        "s = saluda()\n",
        "print(s)          # vemos que la variable s es None"
      ],
      "execution_count": null,
      "outputs": [
        {
          "output_type": "stream",
          "name": "stdout",
          "text": [
            "Hola\n",
            "None\n"
          ]
        }
      ]
    },
    {
      "cell_type": "markdown",
      "metadata": {
        "id": "M5lKaHr-Q2UJ"
      },
      "source": [
        "#### Caso 2"
      ]
    },
    {
      "cell_type": "code",
      "metadata": {
        "colab": {
          "base_uri": "https://localhost:8080/"
        },
        "id": "QGT4U1qEP60P",
        "outputId": "413e0acd-866d-4c21-d0be-aed26607fdfb"
      },
      "source": [
        "def saluda():\n",
        "    print(\"Hola\")\n",
        "    return        # aunque no pongamos None, se sigue devolviendo None\n",
        "\n",
        "s = saluda()\n",
        "print(s)          # vemos que la variable s es None"
      ],
      "execution_count": null,
      "outputs": [
        {
          "output_type": "stream",
          "name": "stdout",
          "text": [
            "Hola\n",
            "None\n"
          ]
        }
      ]
    },
    {
      "cell_type": "markdown",
      "metadata": {
        "id": "FEAo3O9BQFFr"
      },
      "source": [
        "### Función sin ```return``` y con un parámetro\n",
        "Usaremos un caso visto anteriormente donde hemos sustituido el return por un print dentro de la función."
      ]
    },
    {
      "cell_type": "code",
      "metadata": {
        "colab": {
          "base_uri": "https://localhost:8080/"
        },
        "id": "5FoeJdwwRt-l",
        "outputId": "48d17e81-e39a-40f3-c5db-46fc24daaaa0"
      },
      "source": [
        "def buenas_tardes(nombre):\n",
        "    print(f\"Buenas tardes {nombre}.\")\n",
        "\n",
        "buenas_tardes(\"Laura\")       # invocamos directamente la función sin poner un print porque la función ya lleva el print"
      ],
      "execution_count": null,
      "outputs": [
        {
          "output_type": "stream",
          "name": "stdout",
          "text": [
            "Buenas tardes Laura.\n"
          ]
        }
      ]
    },
    {
      "cell_type": "markdown",
      "metadata": {
        "id": "KSvfBNsJSwXn"
      },
      "source": [
        "# Buenas prácticas con funciones\n",
        "* Lo aconsejable es que las funciones realicen tareas sencillas, para que puedan ser reutilizadas facilmente.\n",
        "* Veamos dos formas de sumar dos números:\n",
        " - Una con print (no aconsejable)\n",
        " - Otra con return (es preferible)"
      ]
    },
    {
      "cell_type": "markdown",
      "metadata": {
        "id": "YAmxfCuovShm"
      },
      "source": [
        "#### Método 1"
      ]
    },
    {
      "cell_type": "code",
      "metadata": {
        "colab": {
          "base_uri": "https://localhost:8080/"
        },
        "id": "vwknYukAvAlT",
        "outputId": "d470e560-6c6d-470e-a037-df9a4fa80fe6"
      },
      "source": [
        "def sumar(n1, n2):\n",
        "    print(n1 + n2)      # no usa un return, no retorna nada\n",
        "\n",
        "sumar(2, 3)           # invocamos la función, pero no podemos asignar lo que retorne a una variable"
      ],
      "execution_count": null,
      "outputs": [
        {
          "output_type": "stream",
          "name": "stdout",
          "text": [
            "5\n"
          ]
        }
      ]
    },
    {
      "cell_type": "markdown",
      "metadata": {
        "id": "gOswNF49vWsw"
      },
      "source": [
        "#### Método 2"
      ]
    },
    {
      "cell_type": "code",
      "metadata": {
        "colab": {
          "base_uri": "https://localhost:8080/"
        },
        "id": "gToMTuL2vZzA",
        "outputId": "07e017e9-2640-4e5d-c1df-a5170903fc11"
      },
      "source": [
        "def sumar(n1, n2):\n",
        "    return n1 + n2\n",
        "\n",
        "resultado = sumar(2, 3)  # aquí si podemos asignar el resultado a una variable\n",
        "print(resultado)"
      ],
      "execution_count": null,
      "outputs": [
        {
          "output_type": "stream",
          "name": "stdout",
          "text": [
            "5\n"
          ]
        }
      ]
    },
    {
      "cell_type": "markdown",
      "metadata": {
        "id": "UIJmkTk6wmLm"
      },
      "source": [
        "#### Ejemplo\n",
        "Es más útil el método 2 ya que usa un return."
      ]
    },
    {
      "cell_type": "code",
      "metadata": {
        "colab": {
          "base_uri": "https://localhost:8080/"
        },
        "id": "tlcn6rzkwuY5",
        "outputId": "1691fe82-1099-48d6-8c1b-77d266b57fdc"
      },
      "source": [
        "def sumar(n1, n2):\n",
        "    return n1 + n2\n",
        "\n",
        "resultado = sumar(2, 3) + sumar(1,5)  # esto no se podría haber hecho con una función sin return y con un print\n",
        "print(resultado)"
      ],
      "execution_count": null,
      "outputs": [
        {
          "output_type": "stream",
          "name": "stdout",
          "text": [
            "11\n"
          ]
        }
      ]
    },
    {
      "cell_type": "markdown",
      "metadata": {
        "id": "utTV9TLJxN7Y"
      },
      "source": [
        "### Calcula la nota\n",
        "* Un examen tiene 40 preguntas\n",
        "* Cada fallo quita 0.10 puntos\n",
        "* Crear una función que calcule la nota en base a 10 puntos, en base a las preguntas acertadas del examen."
      ]
    },
    {
      "cell_type": "code",
      "metadata": {
        "colab": {
          "base_uri": "https://localhost:8080/"
        },
        "id": "0FJpNauJxTP_",
        "outputId": "d968566f-8c9b-4321-a441-3643f715082c"
      },
      "source": [
        "def calcula_nota(aciertos):\n",
        "    nota = 0.25 *aciertos - 0.1 * (40 - aciertos)  # 0,25 es lo que vale cada pregunta correcta, sale de 10/40\n",
        "    return nota\n",
        "\n",
        "aciertos = int(input(\"Introduzca los aciertos: \")) # esta variable aciertos es diferente del parámetro aciertos, podrían llamarse de forma diferente\n",
        "nota = calcula_nota(aciertos)            # esta variable nota es diferente de la variable local interna de la función, podrían tener distinto nombre\n",
        "print(nota)"
      ],
      "execution_count": null,
      "outputs": [
        {
          "output_type": "stream",
          "name": "stdout",
          "text": [
            "Introduzca los aciertos: 26\n",
            "5.1\n"
          ]
        }
      ]
    },
    {
      "cell_type": "markdown",
      "metadata": {
        "id": "1oNIbRGy10Y-"
      },
      "source": [
        "### Calcula nota para cualquier test\n",
        "* Hacer una función que calcule la nota:\n",
        " - Para cualquier número de preguntas del examen\n",
        " - Para cualquier clase de penalización al fallar"
      ]
    },
    {
      "cell_type": "code",
      "metadata": {
        "colab": {
          "base_uri": "https://localhost:8080/"
        },
        "id": "sQnILGCp2KDW",
        "outputId": "e41b10f4-9616-46b4-d3eb-05817cc8f566"
      },
      "source": [
        "def calcula_nota(preguntas, aciertos, penalizacion):\n",
        "    punto = 10 / preguntas\n",
        "    nota = punto * aciertos - penalizacion * (preguntas - aciertos)\n",
        "    return nota\n",
        "\n",
        "preguntas = 50\n",
        "penalizacion = 0.07\n",
        "aciertos = int(input(\"Introduzca los aciertos: \"))\n",
        "nota = calcula_nota(preguntas, aciertos, penalizacion)\n",
        "print(nota)"
      ],
      "execution_count": null,
      "outputs": [
        {
          "output_type": "stream",
          "name": "stdout",
          "text": [
            "Introduzca los aciertos: 40\n",
            "7.3\n"
          ]
        }
      ]
    },
    {
      "cell_type": "markdown",
      "metadata": {
        "id": "4mfKbI9-5BJE"
      },
      "source": [
        "# Función con varios ```return```"
      ]
    },
    {
      "cell_type": "markdown",
      "metadata": {
        "id": "YytEqc2w5QOd"
      },
      "source": [
        "### Función que detecta números impares"
      ]
    },
    {
      "cell_type": "markdown",
      "metadata": {
        "id": "0Hupe8Qc61nS"
      },
      "source": [
        "#### Método 1\n",
        "Usando un ```if``` ... ```else```."
      ]
    },
    {
      "cell_type": "code",
      "metadata": {
        "colab": {
          "base_uri": "https://localhost:8080/"
        },
        "id": "r0JBOXgr5VBC",
        "outputId": "afb39be9-370a-4de0-a074-d97586be62c7"
      },
      "source": [
        "def es_impar(n):\n",
        "    if n%2:            # también se puede poner: n%2!=0\n",
        "        return True\n",
        "    else:\n",
        "        return False\n",
        "\n",
        "numero = int(input(\"Introduzca un número entero: \"))\n",
        "\n",
        "print(f\"El número {numero} es impar: {es_impar(numero)}.\")"
      ],
      "execution_count": null,
      "outputs": [
        {
          "output_type": "stream",
          "name": "stdout",
          "text": [
            "Introduzca un número entero: 7\n",
            "El número 7 es impar: True.\n"
          ]
        }
      ]
    },
    {
      "cell_type": "markdown",
      "metadata": {
        "id": "uT6kow9066TA"
      },
      "source": [
        "#### Método 2\n",
        "Sin usar ```else```.  \n",
        "Después de un ```return``` ya no se ejecuta nada en la función."
      ]
    },
    {
      "cell_type": "code",
      "metadata": {
        "colab": {
          "base_uri": "https://localhost:8080/"
        },
        "id": "uChnrab-68Lb",
        "outputId": "2d4bfa83-9515-4bc1-9c07-e37af78ec067"
      },
      "source": [
        "def es_impar(n):\n",
        "    if n%2:\n",
        "        return True  # al ejecutar un return el flujo del programa se sale de la función\n",
        "    return False   # este no siempre se ejecuta, solo si no se ha salido de la función antes\n",
        "\n",
        "numero = int(input(\"Introduzca un número entero: \"))\n",
        "\n",
        "if es_impar(numero):\n",
        "    print(f\"El número {numero} es impar.\")\n",
        "else:\n",
        "    print(f\"El número {numero} es par.\")"
      ],
      "execution_count": null,
      "outputs": [
        {
          "output_type": "stream",
          "name": "stdout",
          "text": [
            "Introduzca un número entero: 7\n",
            "El número 7 es impar.\n"
          ]
        }
      ]
    },
    {
      "cell_type": "markdown",
      "metadata": {
        "id": "DA_5_Ltg7vPF"
      },
      "source": [
        "### Comprobar si un número es divisor de otro\n",
        "Resolverlo con dos ```return```"
      ]
    },
    {
      "cell_type": "code",
      "metadata": {
        "colab": {
          "base_uri": "https://localhost:8080/"
        },
        "id": "toj-fFCR78Bf",
        "outputId": "2cf9c774-f0cb-478f-e1c4-4ece004cdd75"
      },
      "source": [
        "def son_divisibles(numerador, denominador):\n",
        "    if numerador % denominador == 0:\n",
        "        return \"si es divisible\"\n",
        "    else:\n",
        "        return \"no es divisible\"\n",
        "\n",
        "p = 120\n",
        "q = 24\n",
        "\n",
        "print(f\"El número {p} {son_divisibles(p,q)} entre {q}.\")"
      ],
      "execution_count": null,
      "outputs": [
        {
          "output_type": "stream",
          "name": "stdout",
          "text": [
            "Al dividir 120 entre 24 el resultado si es divisible.\n",
            "El número 120 si es divisible entre 24.\n"
          ]
        }
      ]
    },
    {
      "cell_type": "markdown",
      "source": [
        "### Dos funciones: de libras a kilogramos y viceversa\n",
        "* [1 kg  =  2.2046226218487757  lb](https://kilograms-to-pounds.com/)"
      ],
      "metadata": {
        "id": "SHZltxBFfPBM"
      }
    },
    {
      "cell_type": "code",
      "source": [
        "def kilogramos_a_libras(kg):\n",
        "    lb = kg * 2.2046226218487757\n",
        "    return lb\n",
        "\n",
        "def libras_a_kilogramos(lb):\n",
        "    kg = lb / 2.2046226218487757\n",
        "    return kg\n",
        "\n",
        "def menu():\n",
        "    print(\"1. Pasar kilogramos a libras\")\n",
        "    print(\"2. Pasar libras a kilogramos\")\n",
        "    opcion = input(\"--> \")\n",
        "    return opcion\n",
        "\n",
        "op = menu()            # llamamos al menú\n",
        "\n",
        "if op == \"1\":\n",
        "    kgrs = float(input(\"Introduce los kilogramos:\"))\n",
        "    conversion = kilogramos_a_libras(kgrs)\n",
        "    print(\"Son \", conversion, \"libras.\")\n",
        "elif \"2\":\n",
        "    ibs = float(input(\"Introduce las libras: \"))\n",
        "    conversion = libras_a_kilogramos(ibs)\n",
        "    print(\"Son \", conversion, \"kilogramos.\")"
      ],
      "metadata": {
        "colab": {
          "base_uri": "https://localhost:8080/"
        },
        "id": "_AAqDXm_fZQ-",
        "outputId": "06185176-92bd-46dd-f245-1a6df7177614"
      },
      "execution_count": null,
      "outputs": [
        {
          "output_type": "stream",
          "name": "stdout",
          "text": [
            "1. Pasar kilogramos a libras\n",
            "1. Pasar libras a kilogramos\n",
            "--> 2\n",
            "Introduce las libras: 2.2\n",
            "Son  0.9979032140000001 kilogramos\n"
          ]
        }
      ]
    },
    {
      "cell_type": "markdown",
      "source": [
        "### Convertir Fahrenheit a Celsius y viceversa\n",
        "* °F = (°C × 1.8) + 32\n",
        "* °C = (°F − 32) / 1.8"
      ],
      "metadata": {
        "id": "SBcRcso6mGb2"
      }
    },
    {
      "cell_type": "markdown",
      "source": [
        "#### Primero. Diseñamos el programa\n",
        "Usando ```pass```."
      ],
      "metadata": {
        "id": "9xZ-9UnzflKg"
      }
    },
    {
      "cell_type": "code",
      "source": [
        "def cels_a_fahr(c):\n",
        "    pass\n",
        "\n",
        "def fahr_a_cels(f):\n",
        "    pass\n",
        "\n",
        "def menu('''parámetros'''):\n",
        "    pass\n",
        "\n",
        "def pedir_grados('''parámetros'''):\n",
        "    pass\n",
        "\n",
        "def mostrar_resultado('''parámetros'''):\n",
        "    pass\n",
        "\n",
        "while True:\n",
        "    '''Añadir la posibilidad de salir del bucle\n",
        "    Añadir el caso en que no se teclee una opción correcta'''"
      ],
      "metadata": {
        "id": "PMDTzasumuB8"
      },
      "execution_count": null,
      "outputs": []
    },
    {
      "cell_type": "markdown",
      "source": [
        "#### Segundo. Programamos las funciones"
      ],
      "metadata": {
        "id": "JiJlb_6KfvgY"
      }
    },
    {
      "cell_type": "code",
      "source": [
        "def cels_a_fahr(c):\n",
        "    f = (c * 1.8) + 32\n",
        "    return f\n",
        "\n",
        "def fahr_a_cels(f):\n",
        "    c = (f - 32) / 1.8\n",
        "    return c\n",
        "\n",
        "def menu():\n",
        "    print(\"=\"*30)\n",
        "    print(\"CONVERSOR DE TERMPERATURAS\")\n",
        "    print(\"1. Fahrenheit a Celsius\")\n",
        "    print(\"2. Celsius a Fahrenheit\")\n",
        "    print(\"3. Salir\")\n",
        "    opcion = input(\"--> \")\n",
        "    return opcion\n",
        "\n",
        "def pedir_grados(escala):\n",
        "    if escala == \"1\":\n",
        "        grados = float(input(\"Introduce ºF: \"))\n",
        "    elif escala == \"2\":\n",
        "        grados = float(input(\"Introduce ºC: \"))\n",
        "    return grados\n",
        "\n",
        "def mostrar_resultado(escala, grados):\n",
        "    if escala == \"1\":\n",
        "        print(f\"son {grados} Celsius.\")\n",
        "    elif escala == \"2\":\n",
        "        print(f\"son {grados} Fahrenheit.\")\n",
        "\n",
        "while True:\n",
        "    op = menu()\n",
        "    if op == \"3\":\n",
        "        print(\"Bye bye.\\nFin del programa\")\n",
        "        break\n",
        "    elif op == \"1\" or op == \"2\":\n",
        "        gr = pedir_grados(op)\n",
        "        if op == \"1\":\n",
        "            conversion = fahr_a_cels(gr)\n",
        "        elif op == \"2\":\n",
        "            conversion = cels_a_fahr(gr)\n",
        "        mostrar_resultado(op, conversion)\n",
        "    else:\n",
        "        print(\"Introduce una opción correcta.\")"
      ],
      "metadata": {
        "colab": {
          "base_uri": "https://localhost:8080/"
        },
        "id": "Kxz6ioE1g3aL",
        "outputId": "946c4d00-c021-4c1f-ca8a-eacfc71858b1"
      },
      "execution_count": null,
      "outputs": [
        {
          "output_type": "stream",
          "name": "stdout",
          "text": [
            "==============================\n",
            "CONVERSOR DE TERMPERATURAS\n",
            "1. Fahrenheit a Celsius\n",
            "2. Celsius a Fahrenheit\n",
            "3. Salir\n",
            "--> 1\n",
            "Introduce ºF: 32\n",
            "son 0.0 Celsius.\n",
            "==============================\n",
            "CONVERSOR DE TERMPERATURAS\n",
            "1. Fahrenheit a Celsius\n",
            "2. Celsius a Fahrenheit\n",
            "3. Salir\n",
            "--> 2\n",
            "Introduce ºC: 100\n",
            "son 212.0 Fahrenheit.\n",
            "==============================\n",
            "CONVERSOR DE TERMPERATURAS\n",
            "1. Fahrenheit a Celsius\n",
            "2. Celsius a Fahrenheit\n",
            "3. Salir\n",
            "--> 4\n",
            "Introduce una opción correcta.\n",
            "==============================\n",
            "CONVERSOR DE TERMPERATURAS\n",
            "1. Fahrenheit a Celsius\n",
            "2. Celsius a Fahrenheit\n",
            "3. Salir\n",
            "--> 3\n",
            "Bye bye.\n",
            "Fin del programa\n"
          ]
        }
      ]
    },
    {
      "cell_type": "markdown",
      "source": [
        "## Documentar una función\n",
        "### Valor intermedio de tres números\n",
        "* Generar tres números enteros aleatorios entre 0 y 9, ambos incluidos.\n",
        "* Definir una función que toma los tres números y devuelve el que sea el intermedio de los tres.\n",
        " - Si hay dos repetidos se devuelve el repetido\n",
        " - Si hay tres repetidos se devuelve el único que hay."
      ],
      "metadata": {
        "id": "zapVmTzOuF_X"
      }
    },
    {
      "cell_type": "markdown",
      "source": [
        "#### Método 1"
      ],
      "metadata": {
        "id": "W8cRHkLBRMFe"
      }
    },
    {
      "cell_type": "code",
      "source": [
        "import random\n",
        "random.seed()\n",
        "\n",
        "def intermedio(a,b,c):\n",
        "    '''Función que devuelve el número intermedio\n",
        "    de entre tres números.'''\n",
        "    if a <= b <= c or c <= b <= a:\n",
        "        return b\n",
        "    elif b <= a <= c or c <= a <= b:\n",
        "        return a\n",
        "    elif a <= c <= b or b <= c <= a:\n",
        "        return c\n",
        "\n",
        "a = random.randint(0,9)\n",
        "b = random.randint(0,9)\n",
        "c = random.randint(0,9)\n",
        "print(a,b,c)\n",
        "print(\"Número intermedio:\", intermedio(a,b,c))\n",
        "\n",
        "print()\n",
        "help(intermedio)  # con help podemos consultar el comentario puesto en una función"
      ],
      "metadata": {
        "colab": {
          "base_uri": "https://localhost:8080/"
        },
        "id": "d_XWV8tmRONk",
        "outputId": "e38f4c78-ec97-4858-a7e2-7577b70e0272"
      },
      "execution_count": null,
      "outputs": [
        {
          "output_type": "stream",
          "name": "stdout",
          "text": [
            "5 0 7\n",
            "Número intermedio: 5\n",
            "\n",
            "Help on function intermedio in module __main__:\n",
            "\n",
            "intermedio(a, b, c)\n",
            "    Función que devuelve el número intermedio\n",
            "    de entre tres números.\n",
            "\n"
          ]
        }
      ]
    },
    {
      "cell_type": "markdown",
      "source": [
        "#### Método 2"
      ],
      "metadata": {
        "id": "B4Rhxwc7RJX2"
      }
    },
    {
      "cell_type": "code",
      "source": [
        "import random\n",
        "random.seed()\n",
        "\n",
        "def genera_tres(): # comentario con tres comillas, explicando qué hace la función\n",
        "    '''Crea una lista de tres números aleatorios\n",
        "    enteros entre 0 y 9, ambos incluidos'''\n",
        "    lista = []\n",
        "    for i in range(3):\n",
        "        lista.append(random.randint(0,9))\n",
        "    return lista\n",
        "\n",
        "def intermedio(lista):\n",
        "    '''Función que devuelve el número intermedio de\n",
        "    una lista de tres números.'''\n",
        "    lista.sort()\n",
        "    return lista[1]\n",
        "\n",
        "lista = genera_tres()\n",
        "print(lista)\n",
        "print(\"Número intermedio:\", intermedio(lista))\n",
        "\n",
        "print()\n",
        "help(intermedio)\n",
        "help(genera_tres)"
      ],
      "metadata": {
        "colab": {
          "base_uri": "https://localhost:8080/"
        },
        "id": "2MWigJ6XusdK",
        "outputId": "cab4d707-656c-4a16-e8c5-4804f6dfbfa9"
      },
      "execution_count": null,
      "outputs": [
        {
          "output_type": "stream",
          "name": "stdout",
          "text": [
            "[9, 3, 6]\n",
            "Número intermedio: 6\n",
            "\n",
            "Help on function intermedio in module __main__:\n",
            "\n",
            "intermedio(lista)\n",
            "    Función que devuelve el número intermedio de\n",
            "    una lista de tres números.\n",
            "\n",
            "Help on function genera_tres in module __main__:\n",
            "\n",
            "genera_tres()\n",
            "    Crea una lista de tres números aleatorios\n",
            "    enteros entre 0 y 9, ambos incluidos\n",
            "\n"
          ]
        }
      ]
    }
  ]
}