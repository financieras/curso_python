{
  "nbformat": 4,
  "nbformat_minor": 0,
  "metadata": {
    "colab": {
      "provenance": [],
      "authorship_tag": "ABX9TyPSSkcc2yvX8SLkwr/4qeD1",
      "include_colab_link": true
    },
    "kernelspec": {
      "name": "python3",
      "display_name": "Python 3"
    },
    "language_info": {
      "name": "python"
    }
  },
  "cells": [
    {
      "cell_type": "markdown",
      "metadata": {
        "id": "view-in-github",
        "colab_type": "text"
      },
      "source": [
        "<a href=\"https://colab.research.google.com/github/financieras/curso_python/blob/main/300_bucle_while.ipynb\" target=\"_parent\"><img src=\"https://colab.research.google.com/assets/colab-badge.svg\" alt=\"Open In Colab\"/></a>"
      ]
    },
    {
      "cell_type": "markdown",
      "source": [
        "# Bucle `while`\n",
        "\n",
        "<pre>\n",
        "while condición:\n",
        "    instrucciones\n",
        "</pre>\n",
        "\n",
        "* El tabulador es importante.\n",
        "* Las estructuras en Python requieren indentación"
      ],
      "metadata": {
        "id": "4CinPjXaII1N"
      }
    },
    {
      "cell_type": "code",
      "source": [
        "i = 0\n",
        "\n",
        "while i < 5:\n",
        "    print(i, \"Hola\")\n",
        "    i += 1"
      ],
      "metadata": {
        "colab": {
          "base_uri": "https://localhost:8080/"
        },
        "id": "Uu-1btI_IOss",
        "outputId": "19cc5fbf-5f5e-4957-fd56-71789e5490af"
      },
      "execution_count": 4,
      "outputs": [
        {
          "output_type": "stream",
          "name": "stdout",
          "text": [
            "0 Hola\n",
            "1 Hola\n",
            "2 Hola\n",
            "3 Hola\n",
            "4 Hola\n"
          ]
        }
      ]
    },
    {
      "cell_type": "markdown",
      "source": [
        "## Detener el bucle ante una condición con `break`"
      ],
      "metadata": {
        "id": "GufD_TZ1K5yJ"
      }
    },
    {
      "cell_type": "code",
      "source": [
        "counter = 0\n",
        "\n",
        "while counter < 10:\n",
        "    counter += 1\n",
        "    print(counter)"
      ],
      "metadata": {
        "colab": {
          "base_uri": "https://localhost:8080/"
        },
        "id": "AvE4e5vbLApt",
        "outputId": "7b40fd1c-8a65-448e-fa5e-596e000ddd11"
      },
      "execution_count": 6,
      "outputs": [
        {
          "output_type": "stream",
          "name": "stdout",
          "text": [
            "1\n",
            "2\n",
            "3\n",
            "4\n",
            "5\n",
            "6\n",
            "7\n",
            "8\n",
            "9\n",
            "10\n"
          ]
        }
      ]
    },
    {
      "cell_type": "code",
      "source": [
        "counter = 0\n",
        "\n",
        "while counter < 10:\n",
        "    counter += 1\n",
        "    print(counter)\n",
        "    if counter == 5:\n",
        "        break"
      ],
      "metadata": {
        "colab": {
          "base_uri": "https://localhost:8080/"
        },
        "id": "9OrToS6QLTpr",
        "outputId": "0ac7f251-7a83-4f5c-ac2b-eca9917d27aa"
      },
      "execution_count": 8,
      "outputs": [
        {
          "output_type": "stream",
          "name": "stdout",
          "text": [
            "1\n",
            "2\n",
            "3\n",
            "4\n",
            "5\n"
          ]
        }
      ]
    },
    {
      "cell_type": "markdown",
      "source": [
        "## Saltar instrucciones con `continue`"
      ],
      "metadata": {
        "id": "K1gbaBcMMD16"
      }
    },
    {
      "cell_type": "code",
      "source": [
        "i = 0\n",
        "\n",
        "while i <= 10:\n",
        "    i += 1\n",
        "    if i % 2:       # la condición es True si i es impar\n",
        "        continue    # no sigue ejecutando las instrucciones de abajo\n",
        "    print(i)"
      ],
      "metadata": {
        "colab": {
          "base_uri": "https://localhost:8080/"
        },
        "id": "-6NIkt7pMMdz",
        "outputId": "3a9c47b3-4e21-4f0a-b57c-b71fa4538164"
      },
      "execution_count": 10,
      "outputs": [
        {
          "output_type": "stream",
          "name": "stdout",
          "text": [
            "2\n",
            "4\n",
            "6\n",
            "8\n",
            "10\n"
          ]
        }
      ]
    }
  ]
}