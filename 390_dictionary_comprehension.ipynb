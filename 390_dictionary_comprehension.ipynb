{
  "nbformat": 4,
  "nbformat_minor": 0,
  "metadata": {
    "colab": {
      "provenance": [],
      "authorship_tag": "ABX9TyPKdX97hquKDcr8ZWwYATRn",
      "include_colab_link": true
    },
    "kernelspec": {
      "name": "python3",
      "display_name": "Python 3"
    },
    "language_info": {
      "name": "python"
    }
  },
  "cells": [
    {
      "cell_type": "markdown",
      "metadata": {
        "id": "view-in-github",
        "colab_type": "text"
      },
      "source": [
        "<a href=\"https://colab.research.google.com/github/financieras/curso_python/blob/main/390_dictionary_comprehension.ipynb\" target=\"_parent\"><img src=\"https://colab.research.google.com/assets/colab-badge.svg\" alt=\"Open In Colab\"/></a>"
      ]
    },
    {
      "cell_type": "markdown",
      "source": [
        "# Dictionary Comprehension"
      ],
      "metadata": {
        "id": "YUnDI90NvdC-"
      }
    },
    {
      "cell_type": "markdown",
      "source": [
        "## Comprensión de un Diccionario"
      ],
      "metadata": {
        "id": "teIifQf7v45s"
      }
    },
    {
      "cell_type": "markdown",
      "source": [
        "### Método clásico"
      ],
      "metadata": {
        "id": "TLjMlq3Cv_QY"
      }
    },
    {
      "cell_type": "code",
      "execution_count": 2,
      "metadata": {
        "colab": {
          "base_uri": "https://localhost:8080/"
        },
        "id": "p2SDX888vCWZ",
        "outputId": "5dc33957-04f9-456a-b1b5-b60bcbcadfb2"
      },
      "outputs": [
        {
          "output_type": "stream",
          "name": "stdout",
          "text": [
            "{1: 2, 2: 4, 3: 6, 4: 8}\n"
          ]
        }
      ],
      "source": [
        "d = {}\n",
        "\n",
        "for i in range(1,5):\n",
        "    d[i] = 2*i\n",
        "\n",
        "print(d)"
      ]
    },
    {
      "cell_type": "markdown",
      "source": [
        "### Con Dictionary Comprehension"
      ],
      "metadata": {
        "id": "UhIfHTqZwBf6"
      }
    },
    {
      "cell_type": "code",
      "source": [
        "{i: 2*i for i in range(1,5)}"
      ],
      "metadata": {
        "colab": {
          "base_uri": "https://localhost:8080/"
        },
        "id": "hjREaHxtwGKr",
        "outputId": "da6b970a-3b00-4bc2-d980-41f5f0d64bd6"
      },
      "execution_count": 3,
      "outputs": [
        {
          "output_type": "execute_result",
          "data": {
            "text/plain": [
              "{1: 2, 2: 4, 3: 6, 4: 8}"
            ]
          },
          "metadata": {},
          "execution_count": 3
        }
      ]
    },
    {
      "cell_type": "markdown",
      "source": [
        "## Partiendo de una lista"
      ],
      "metadata": {
        "id": "LA0axnXPwf7r"
      }
    },
    {
      "cell_type": "markdown",
      "source": [
        "### Método clásico"
      ],
      "metadata": {
        "id": "wD_ZYiMBxks6"
      }
    },
    {
      "cell_type": "code",
      "source": [
        "from random import randint\n",
        "\n",
        "paises = ['de', 'es', 'fr', 'it', 'pt']\n",
        "\n",
        "usuarios = {}\n",
        "\n",
        "for pais in paises:\n",
        "    usuarios[pais] = randint(1,20)\n",
        "\n",
        "print(usuarios)"
      ],
      "metadata": {
        "colab": {
          "base_uri": "https://localhost:8080/"
        },
        "id": "OR4MOTN_wjUm",
        "outputId": "57fcc063-1c20-4664-9f59-4c3ca1aa19b4"
      },
      "execution_count": 14,
      "outputs": [
        {
          "output_type": "stream",
          "name": "stdout",
          "text": [
            "{'de': 16, 'es': 18, 'fr': 3, 'it': 5, 'pt': 4}\n"
          ]
        }
      ]
    },
    {
      "cell_type": "markdown",
      "source": [
        "### Con Dictionary Comprehension"
      ],
      "metadata": {
        "id": "WH8c10aLxrml"
      }
    },
    {
      "cell_type": "code",
      "source": [
        "{pais: randint(1,20) for pais in paises}"
      ],
      "metadata": {
        "colab": {
          "base_uri": "https://localhost:8080/"
        },
        "id": "-_fwXvgfxsi1",
        "outputId": "725b948d-2a78-4e58-c746-b6d3c98ceb62"
      },
      "execution_count": 15,
      "outputs": [
        {
          "output_type": "execute_result",
          "data": {
            "text/plain": [
              "{'de': 13, 'es': 8, 'fr': 11, 'it': 12, 'pt': 3}"
            ]
          },
          "metadata": {},
          "execution_count": 15
        }
      ]
    },
    {
      "cell_type": "markdown",
      "source": [
        "## Partiendo de dos listas"
      ],
      "metadata": {
        "id": "2r1bf3pHyGcf"
      }
    },
    {
      "cell_type": "markdown",
      "source": [
        "### Método clásico"
      ],
      "metadata": {
        "id": "dpBuNNPmyKWn"
      }
    },
    {
      "cell_type": "code",
      "source": [
        "amigos = [\"Alex\", \"Bea\", \"Ana\"]\n",
        "edades = [16, 17, 15]\n",
        "\n",
        "list(zip(amigos, edades))   # se obtiene una lista con tuplas"
      ],
      "metadata": {
        "colab": {
          "base_uri": "https://localhost:8080/"
        },
        "id": "aLD9hp7EyNOH",
        "outputId": "35d8ba2e-6890-4b52-a45e-fe677b823671"
      },
      "execution_count": 9,
      "outputs": [
        {
          "output_type": "execute_result",
          "data": {
            "text/plain": [
              "[('Alex', 16), ('Bea', 17), ('Ana', 15)]"
            ]
          },
          "metadata": {},
          "execution_count": 9
        }
      ]
    },
    {
      "cell_type": "code",
      "source": [
        "{amigo: edad for (amigo, edad) in zip(amigos, edades)}"
      ],
      "metadata": {
        "colab": {
          "base_uri": "https://localhost:8080/"
        },
        "id": "oj_IshFmy93j",
        "outputId": "e6c99f10-03e8-43ba-8421-9b0ae8663670"
      },
      "execution_count": 10,
      "outputs": [
        {
          "output_type": "execute_result",
          "data": {
            "text/plain": [
              "{'Alex': 16, 'Bea': 17, 'Ana': 15}"
            ]
          },
          "metadata": {},
          "execution_count": 10
        }
      ]
    },
    {
      "cell_type": "markdown",
      "source": [
        "## Bucle ´for´ y condicional ´if´"
      ],
      "metadata": {
        "id": "VvRnul7Lz6KL"
      }
    },
    {
      "cell_type": "markdown",
      "source": [
        "### Método clásico"
      ],
      "metadata": {
        "id": "t3_KmxBpz-ct"
      }
    },
    {
      "cell_type": "code",
      "source": [
        "from random import randint\n",
        "\n",
        "paises = ['de', 'es', 'fr', 'it', 'pt']\n",
        "\n",
        "usuarios = {}\n",
        "\n",
        "for pais in paises:\n",
        "    num_usuarios = randint(1,20)\n",
        "    if num_usuarios >= 10:              # solo queremos los que tengan usuarios>=10\n",
        "        usuarios[pais] = num_usuarios\n",
        "\n",
        "print(usuarios)"
      ],
      "metadata": {
        "colab": {
          "base_uri": "https://localhost:8080/"
        },
        "id": "bNqmpP7Y0B13",
        "outputId": "bbe3260d-0be3-42c4-ef51-e8a3b9e14d84"
      },
      "execution_count": 19,
      "outputs": [
        {
          "output_type": "stream",
          "name": "stdout",
          "text": [
            "{'de': 15, 'es': 17, 'fr': 11, 'pt': 18}\n"
          ]
        }
      ]
    },
    {
      "cell_type": "markdown",
      "source": [
        "### Con Dictionary Comprehension"
      ],
      "metadata": {
        "id": "zuwpDCqv0CJk"
      }
    },
    {
      "cell_type": "code",
      "source": [
        "dicc = {pais: randint(1,20) for pais in paises}     # creación del diccionario sin filtro\n",
        "print(dicc)\n",
        "\n",
        "{pais: usuarios for (pais, usuarios) in dicc.items() if usuarios>=10}   # aplicando filtro"
      ],
      "metadata": {
        "colab": {
          "base_uri": "https://localhost:8080/"
        },
        "id": "2Qcgo5IN0GUO",
        "outputId": "f5b381d7-d0a5-43bd-e4e2-244dc949b3eb"
      },
      "execution_count": 23,
      "outputs": [
        {
          "output_type": "stream",
          "name": "stdout",
          "text": [
            "{'de': 1, 'es': 10, 'fr': 11, 'it': 5, 'pt': 8}\n"
          ]
        },
        {
          "output_type": "execute_result",
          "data": {
            "text/plain": [
              "{'es': 10, 'fr': 11}"
            ]
          },
          "metadata": {},
          "execution_count": 23
        }
      ]
    },
    {
      "cell_type": "markdown",
      "source": [
        "## Ejercicios"
      ],
      "metadata": {
        "id": "K3sPGXjl4ae9"
      }
    },
    {
      "cell_type": "code",
      "source": [
        "#### *Ejercicio 1*\n",
        "Crea una frase, como por ejemplo esta:\n",
        "\n",
        "<pre>\n",
        "frase = \"Es un pequeño paso para un hombre pero un gran salto para la humanidad\"\n",
        "</pre>\n",
        "\n",
        "Pasa todo a mayúsculas y crea un diccionario con cada una de las letrs de la frase y su frecuencia."
      ],
      "metadata": {
        "id": "U8egvSRh4djN"
      },
      "execution_count": null,
      "outputs": []
    }
  ]
}