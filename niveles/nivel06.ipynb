{
  "nbformat": 4,
  "nbformat_minor": 0,
  "metadata": {
    "colab": {
      "provenance": [],
      "authorship_tag": "ABX9TyP5z80F6A1uyXkrMixJiqZF",
      "include_colab_link": true
    },
    "kernelspec": {
      "name": "python3",
      "display_name": "Python 3"
    },
    "language_info": {
      "name": "python"
    }
  },
  "cells": [
    {
      "cell_type": "markdown",
      "metadata": {
        "id": "view-in-github",
        "colab_type": "text"
      },
      "source": [
        "<a href=\"https://colab.research.google.com/github/financieras/curso_python/blob/main/niveles/nivel06.ipynb\" target=\"_parent\"><img src=\"https://colab.research.google.com/assets/colab-badge.svg\" alt=\"Open In Colab\"/></a>"
      ]
    },
    {
      "cell_type": "markdown",
      "source": [
        "## Reto 501: Enfatizar las Palabras\n",
        "* Emphasise the Words\n",
        "* El desafío es recrear la funcionalidad del método `title()` en una función llamada `emphasise()`.\n",
        "* El método `title()` capitaliza la primera letra de *cada palabra* y convierte a minúsculas todas las demás letras de la palabra.\n",
        "\n",
        "* **Ejemplos**\n",
        "\n",
        "```\n",
        "emphasise(\"hello world\") ➞ \"Hello World\"\n",
        "emphasise(\"GOOD MORNING\") ➞ \"Good Morning\"\n",
        "emphasise(\"99 red balloons!\") ➞ \"99 Red Balloons!\"\n",
        "```\n",
        "\n",
        "* Notas\n",
        "    - No tendrás problemas al tratar con números en las cadenas.\n",
        "    - Por favor, no uses directamente el método `title()` :("
      ],
      "metadata": {
        "id": "IdwmiHhpglrt"
      }
    },
    {
      "cell_type": "code",
      "source": [
        "# Método 1\n",
        "def emphasise(string):\n",
        "    return ' '.join(word.capitalize() for word in string.split())\n",
        "\n",
        "# Método 2\n",
        "def emphasise(string):\n",
        "    return ' '.join(word[0].upper() + word[1:].lower() for word in string.split())\n",
        "\n",
        "# Método 3. Usando una expresión regular\n",
        "import re\n",
        "\n",
        "def emphasise(string):\n",
        "    return re.sub(r'\\b\\w+\\b', lambda match: match.group(0).capitalize(), string)"
      ],
      "metadata": {
        "id": "CaebWUsKffq2"
      },
      "execution_count": null,
      "outputs": []
    },
    {
      "cell_type": "code",
      "source": [
        "print(emphasise(\"hello world\"))         # Hello World\n",
        "print(emphasise(\"GOOD MORNING\"))        # Good Morning\n",
        "print(emphasise(\"99 red balloons!\"))    # 99 Red Balloons!"
      ],
      "metadata": {
        "outputId": "d8928274-4264-465b-ad82-9d7f0ce002c9",
        "colab": {
          "base_uri": "https://localhost:8080/"
        },
        "id": "hWbDZ9H9glrv"
      },
      "execution_count": null,
      "outputs": [
        {
          "output_type": "stream",
          "name": "stdout",
          "text": [
            "Hello World\n",
            "Good Morning\n",
            "99 Red Balloons!\n"
          ]
        }
      ]
    },
    {
      "cell_type": "markdown",
      "source": [
        "## Reto 502: Camino del Robot 🤖\n",
        "* Robot Path 🤖\n",
        "* Tenemos un robot simple que se navega mediante una serie de comandos Norte, Este, Sur y Oeste `[n, e, s, w]`.\n",
        "* Cada comando mueve al robot un paso en la dirección dada.\n",
        "* El robot está diseñado para solo dos destinos:\n",
        "    1. Destino No. 1: e, n, e, e, n\n",
        "    2. Destino No. 2: w, n, w, n, w, w, n\n",
        "\n",
        "* Crea una función que tome una lista de `comandos` y devuelva `True` si el robot llega a cualquiera de los destinos, `False` en caso contrario.\n",
        "\n",
        "* **Ejemplos**\n",
        "\n",
        "```\n",
        "camino_robot([\"s\", \"e\", \"e\", \"n\", \"n\", \"e\", \"n\"]) ➞ True\n",
        "    - El robot terminará en el destino no. 1\n",
        "\n",
        "camino_robot([\"n\", \"e\", \"s\", \"w\", \"n\", \"e\", \"s\", \"w\", \"w\", \"s\", \"n\", \"e\"]) ➞ False\n",
        "    - El robot se perderá en algún lugar\n",
        "\n",
        "camino_robot([\"n\", \"s\", \"n\", \"n\", \"e\", \"n\", \"w\", \"w\", \"s\", \"w\", \"w\", \"w\", \"n\"]) ➞ True\n",
        "    - - El robot terminará en el destino no. 2\n",
        "```"
      ],
      "metadata": {
        "id": "E4jfdGPCglrv"
      }
    },
    {
      "cell_type": "code",
      "source": [
        "# Método 1\n",
        "def camino_robot(comandos):\n",
        "    # Definimos los puntos finales de los destinos\n",
        "    destino1 = (3, 2)  # e, n, e, e, n\n",
        "    destino2 = (-4, 3)  # w, n, w, n, w, w, n\n",
        "\n",
        "    # Inicializamos la posición del robot\n",
        "    x, y = 0, 0\n",
        "\n",
        "    # Procesamos cada comando\n",
        "    for comando in comandos:\n",
        "        if comando == \"n\":\n",
        "            y += 1\n",
        "        elif comando == \"s\":\n",
        "            y -= 1\n",
        "        elif comando == \"e\":\n",
        "            x += 1\n",
        "        elif comando == \"w\":\n",
        "            x -= 1\n",
        "\n",
        "        # Verificamos si el robot ha llegado a alguno de los destinos finales\n",
        "        if (x, y) == destino1 or (x, y) == destino2:\n",
        "            return True\n",
        "\n",
        "    # Si el robot no llegó a ningún destino final, devolvemos False\n",
        "    return False\n",
        "\n",
        "# Método 2. Usando dos funciones\n",
        "def obtener_destino(comandos):  # función auxiliar\n",
        "    x, y = 0, 0\n",
        "    for comando in comandos:\n",
        "        if comando == \"n\":\n",
        "            y += 1\n",
        "        elif comando == \"s\":\n",
        "            y -= 1\n",
        "        elif comando == \"e\":\n",
        "            x += 1\n",
        "        elif comando == \"w\":\n",
        "            x -= 1\n",
        "    return (x, y)               # Da la posición incluso de los destinos 1 y 2\n",
        "\n",
        "def camino_robot(comandos):\n",
        "    # Definimos los comandos para los destinos\n",
        "    destino1 = [\"e\", \"n\", \"e\", \"e\", \"n\"]\n",
        "    destino2 = [\"w\", \"n\", \"w\", \"n\", \"w\", \"w\", \"n\"]\n",
        "\n",
        "    # Obtenemos los destinos finales\n",
        "    posicion_destino1 = obtener_destino(destino1)   # llamamos a la función aux.\n",
        "    posicion_destino2 = obtener_destino(destino2)   # llamamos a la función aux.\n",
        "\n",
        "    # Obtenemos el destino final de los comandos dados\n",
        "    posicion_comandos = obtener_destino(comandos)   # llamamos a la función aux.\n",
        "\n",
        "    # Comparamos si el destino final de los comandos coincide con alguno de los destinos\n",
        "    return posicion_comandos == posicion_destino1 or posicion_comandos == posicion_destino2\n",
        "\n",
        "# Método 3. Una solución más condensada\n",
        "def camino_robot(comandos):\n",
        "    def destino(ruta):\n",
        "        return sum((1 if c == 'e' else -1 if c == 'w' else 0 for c in ruta)), \\\n",
        "               sum((1 if c == 'n' else -1 if c == 's' else 0 for c in ruta))\n",
        "\n",
        "    destinos = [destino(\"eneen\"), destino(\"wnwnwwn\")]\n",
        "    return destino(comandos) in destinos\n",
        "\n",
        "# Método 4. Con una función axiliar lambda que calcula la posición final\n",
        "def camino_robot(path):\n",
        "    destino = lambda ruta: (ruta.count('e') - ruta.count('w'), ruta.count('n') - ruta.count('s'))\n",
        "    return destino(path) in [destino(\"eneen\"), destino(\"wnwnwwn\")]"
      ],
      "metadata": {
        "id": "M2N7YVuIfY1q"
      },
      "execution_count": null,
      "outputs": []
    },
    {
      "cell_type": "code",
      "source": [
        "print(camino_robot([\"s\", \"e\", \"e\", \"n\", \"n\", \"e\", \"n\"]))                                # True\n",
        "print(camino_robot([\"n\", \"e\", \"s\", \"w\", \"n\", \"e\", \"s\", \"w\", \"w\", \"s\", \"n\", \"e\"]))       # False\n",
        "print(camino_robot([\"n\", \"s\", \"n\", \"n\", \"e\", \"n\", \"w\", \"w\", \"s\", \"w\", \"w\", \"w\", \"n\"]))  # True"
      ],
      "metadata": {
        "colab": {
          "base_uri": "https://localhost:8080/"
        },
        "outputId": "b1d0a32e-b7e7-4295-ba82-169e9b7537e2",
        "id": "CRPja6c4glrv"
      },
      "execution_count": null,
      "outputs": [
        {
          "output_type": "stream",
          "name": "stdout",
          "text": [
            "True\n",
            "False\n",
            "True\n"
          ]
        }
      ]
    },
    {
      "cell_type": "markdown",
      "source": [
        "## Reto 503: Mucho, mucho tiempo\n",
        "* A Long Long Time\n",
        "* Crea una función que tome tres valores:\n",
        "    1. `h` horas\n",
        "    2. `m` minutos\n",
        "    3. `s` segundos\n",
        "Devuelve el valor que tenga la **duración más larga**.\n",
        "\n",
        "* **Ejemplos**\n",
        "\n",
        "```\n",
        "longest_time(1, 59, 3598) ➞ 1\n",
        "longest_time(2, 300, 15000) ➞ 300\n",
        "longest_time(15, 955, 59400) ➞ 59400\n",
        "```\n",
        "\n",
        "* **Notas**\n",
        "    - No habrá dos duraciones iguales."
      ],
      "metadata": {
        "id": "TyyfNCnzglrv"
      }
    },
    {
      "cell_type": "code",
      "source": [
        "# Método 1\n",
        "def longest_time(h, m, s):\n",
        "    if h*3600 > m*60 and h*3600 > s:\n",
        "        return h\n",
        "    elif m*60 > h*3600 and m*60 > s:\n",
        "        return m\n",
        "    elif s > h*3600 and s > m*60:\n",
        "        return s\n",
        "    else:\n",
        "        return \"Caso no previsto\"\n",
        "\n",
        "# Método 2\n",
        "def longest_time(h, m, s):\n",
        "    # Lista de duraciones en segundos y sus valores originales\n",
        "    durations = [(h * 3600, h), (m * 60, m), (s, s)]\n",
        "    # Devolver el valor original de la mayor duración en segundos\n",
        "    return max(durations)[1]\n",
        "    # el máximo de una lista de tuplas es el que tiene el mayor valor del primer elemento de las tuplas\n",
        "    # en caso de empatar en el primer elemento de las tuplas se desempata por el segundo y así sucesivamente"
      ],
      "metadata": {
        "id": "3L69P8OqyFzv"
      },
      "execution_count": null,
      "outputs": []
    },
    {
      "cell_type": "code",
      "source": [
        "print(longest_time(1, 59, 3598))\n",
        "print(longest_time(2, 300, 15000))\n",
        "print(longest_time(15, 955, 59400))"
      ],
      "metadata": {
        "colab": {
          "base_uri": "https://localhost:8080/"
        },
        "outputId": "10d8fa71-c98d-4f88-e3a5-8edbd639296f",
        "id": "plvIvb2qglrw"
      },
      "execution_count": null,
      "outputs": [
        {
          "output_type": "stream",
          "name": "stdout",
          "text": [
            "1\n",
            "300\n",
            "59400\n"
          ]
        }
      ]
    },
    {
      "cell_type": "markdown",
      "source": [
        "## Reto 504: Multiplicador de Lista\n",
        "* List Multiplier\n",
        "* Crea una función que tome una lista como argumento y devuelva una nueva lista anidada para cada elemento en la lista original.\n",
        "* La lista anidada debe estar llena con el elemento correspondiente (cadena o número) en la lista original y cada lista anidada tiene la misma cantidad de elementos que la lista original.\n",
        "\n",
        "* **Ejemplos**\n",
        "```\n",
        "multiply([4, 5]) ➞ [[4, 4], [5, 5]]\n",
        "multiply([\"*\", \"%\", \"$\"]) ➞ [[\"*\", \"*\", \"*\"], [\"%\", \"%\", \"%\"], [\"$\", \"$\", \"$\"]]\n",
        "multiply([9, 8, 7, 6]) ➞ [[9, 9, 9, 9], [8, 8, 8, 8], [7, 7, 7, 7], [6, 6, 6, 6]]\n",
        "```\n",
        "* Nota:\n",
        "    - La lista dada contiene números o cadenas."
      ],
      "metadata": {
        "id": "nxs9UpUxJOIh"
      }
    },
    {
      "cell_type": "code",
      "source": [
        "def multiply(lista):\n",
        "    return [[e] * len(lista) for e in lista]"
      ],
      "metadata": {
        "id": "d3qkcCz0JOIh"
      },
      "execution_count": null,
      "outputs": []
    },
    {
      "cell_type": "code",
      "source": [
        "print(multiply([4, 5]))\n",
        "print(multiply([\"*\", \"%\", \"$\"]))\n",
        "print(multiply([9, 8, 7, 6]))"
      ],
      "metadata": {
        "id": "9V925k8DJOIh",
        "colab": {
          "base_uri": "https://localhost:8080/"
        },
        "outputId": "e225d2a9-c97d-4400-cc4d-06d2e2be5543"
      },
      "execution_count": null,
      "outputs": [
        {
          "output_type": "stream",
          "name": "stdout",
          "text": [
            "[[4, 4], [5, 5]]\n",
            "[['*', '*', '*'], ['%', '%', '%'], ['$', '$', '$']]\n",
            "[[9, 9, 9, 9], [8, 8, 8, 8], [7, 7, 7, 7], [6, 6, 6, 6]]\n"
          ]
        }
      ]
    },
    {
      "cell_type": "markdown",
      "source": [
        "## Reto 505: Contando Instancias Creadas a partir de una Clase\n",
        "* Counting Instances Created from a Class\n",
        "* Escribe una clase `Compositor` que tenga tres variables de instancia:\n",
        "    1. nombre\n",
        "    2. fecha_nacimiento\n",
        "    3. país\n",
        "\n",
        "* Añade una variable de clase adicional `.contador` que cuente el número total de instancias creadas.\n",
        "\n",
        "* **Ejemplos**\n",
        "```\n",
        "#Justo después de escribir la clase Compositor\n",
        "Compositor.contador ➞ 0\n",
        "c1 = Compositor(\"Ludwig van Beethoven\", 1770, \"Alemania\")\n",
        "Compositor.contador ➞ 1\n",
        "c2 = Compositor(\"Wolfgang Amadeus Mozart\", 1756, \"Austria\")\n",
        "c3 = Compositor(\"Johannes Brahms\", 1833, \"Alemania\")\n",
        "Compositor.contador ➞ 3\n",
        "```\n"
      ],
      "metadata": {
        "id": "BCiJB5lAJOPj"
      }
    },
    {
      "cell_type": "code",
      "source": [
        "class Compositor:\n",
        "    contador = 0    # Atributo de clase\n",
        "\n",
        "    def __init__(self, nombre, fecha_nacimiento, pais):\n",
        "        self.nombre = nombre                        # Atributo de instancia\n",
        "        self.fecha_nacimiento = fecha_nacimiento    # Atributo de instancia\n",
        "        self.pais = pais                            # Atributo de instancia\n",
        "        Compositor.contador += 1"
      ],
      "metadata": {
        "id": "i2bofIVIJOPj"
      },
      "execution_count": null,
      "outputs": []
    },
    {
      "cell_type": "code",
      "source": [
        "# Justo después de definir la clase Compositor\n",
        "print(Compositor.contador)  # 0\n",
        "\n",
        "c1 = Compositor(\"Ludwig van Beethoven\", 1770, \"Alemania\")\n",
        "print(Compositor.contador)  # 1\n",
        "\n",
        "c2 = Compositor(\"Wolfgang Amadeus Mozart\", 1756, \"Austria\")\n",
        "c3 = Compositor(\"Johannes Brahms\", 1833, \"Alemania\")\n",
        "print(Compositor.contador)  # 3"
      ],
      "metadata": {
        "id": "HZMXrQn6JOPj",
        "colab": {
          "base_uri": "https://localhost:8080/"
        },
        "outputId": "a7926c8a-32de-4b24-ce79-88c1b7984d97"
      },
      "execution_count": null,
      "outputs": [
        {
          "output_type": "stream",
          "name": "stdout",
          "text": [
            "0\n",
            "1\n",
            "3\n"
          ]
        }
      ]
    },
    {
      "cell_type": "markdown",
      "source": [
        "### Comentario sobre atributos de clase y atributos de instancia\n",
        "* La variable contador es un atributo de clase.\n",
        "* Diferencias entre atributos de clase y atributos de instancia:\n",
        "\n",
        "* Atributos de clase:\n",
        "    1. Se definen dentro de la clase pero fuera de cualquier método.\n",
        "    2. on compartidos por todas las instancias de la clase.\n",
        "    3. Se pueden acceder usando el nombre de la clase o cualquier instancia de la clase.\n",
        "    4. Se utilizan para datos que deben ser compartidos entre todas las instancias.\n",
        "* Atributos de instancia:\n",
        "    1. Se definen dentro de los métodos de la clase, típicamente en el método __init__.\n",
        "    2. Son únicos para cada instancia de la clase.\n",
        "    3. Solo se pueden acceder a través de una instancia específica de la clase.\n",
        "    4. Se utilizan para datos que son específicos de cada instancia individual.\n",
        "\n",
        "* `contador` es un atributo de clase porque es compartido por todas las instancias y se accede como `Compositor.contador`.\n",
        "* `nombre`, `fecha_nacimiento`, y `pais` son atributos de instancia porque cada instancia de Compositor tiene sus propios valores únicos para estos atributos.\n",
        "\n",
        "* Algunas diferencias clave:\n",
        "\n",
        "    1. Memoria: Los atributos de clase ocupan un solo espacio en memoria, mientras que cada instancia tiene su propia copia de los atributos de instancia.\n",
        "    2. Modificación: Cambiar un atributo de clase afecta a todas las instancias, mientras que cambiar un atributo de instancia solo afecta a esa instancia específica.\n",
        "    3. Acceso: Los atributos de clase se pueden acceder sin crear una instancia, mientras que los atributos de instancia requieren una instancia de la clase.\n",
        "    4. Uso: Los atributos de clase son útiles para constantes de clase o para llevar un registro compartido (como nuestro `contador`), mientras que los atributos de instancia son para datos específicos de cada objeto."
      ],
      "metadata": {
        "id": "cDL10piI0Lfu"
      }
    },
    {
      "cell_type": "markdown",
      "source": [
        "## Reto 506: División Válida\n",
        "* Valid Division\n",
        "* Crea una función que tome una ecuación de división `d` y verifique si devolverá un número entero sin decimales después de dividir.\n",
        "\n",
        "* **Ejemplos**\n",
        "```\n",
        "valid_division(\"6/3\")        ➞ True\n",
        "valid_division(\"1.5/0.5\")    ➞ True\n",
        "valid_division(\"0/3\")        ➞ True\n",
        "valid_division(\"3/0\")        ➞ Invalid\n",
        "valid_division(\"30/25\")      ➞ False\n",
        "valid_division(\"a/b\")        ➞ Caso no contemplado\n",
        "```\n",
        "* Nota:\n",
        "    - Devuelve `\"Invalid\"` si hay división por cero."
      ],
      "metadata": {
        "id": "zUp9tcI5JOWV"
      }
    },
    {
      "cell_type": "code",
      "source": [
        "# Método 1\n",
        "def valid_division(d):\n",
        "    try:\n",
        "        lista = d.split(\"/\")\n",
        "        if len(lista) != 2:\n",
        "            return \"Caso no contemplado\"\n",
        "\n",
        "        p = float(lista[0])  # numerador\n",
        "        q = float(lista[1])  # denominador\n",
        "\n",
        "        if q == 0:\n",
        "            return \"Invalid\"\n",
        "\n",
        "        if p / q == int(p / q):\n",
        "            return True\n",
        "        else:\n",
        "            return False\n",
        "    except ValueError:\n",
        "        return \"Caso no contemplado\"\n",
        "\n",
        "# Método 2\n",
        "def valid_division(d):\n",
        "    try:\n",
        "        # Separar el numerador y denominador\n",
        "        numerador, denominador = map(float, d.split('/'))\n",
        "\n",
        "        # Verificar división por cero\n",
        "        if denominador == 0:\n",
        "            return \"Invalid\"\n",
        "\n",
        "        # Realizar la división\n",
        "        resultado = numerador / denominador\n",
        "\n",
        "        # Verificar si el resultado es efectivamente un número entero\n",
        "        return resultado.is_integer()\n",
        "\n",
        "    except ValueError:\n",
        "        # En caso de entrada inválida\n",
        "        return \"Caso no contemplado\"\n",
        "\n",
        "# Método 3\n",
        "def valid_division(d):\n",
        "    try:\n",
        "        num, den = map(float, d.split('/'))\n",
        "        if den == 0:\n",
        "            return \"Invalid\"\n",
        "        result = num / den\n",
        "        return result.is_integer()\n",
        "    except ValueError:\n",
        "        return \"Caso no contemplado\"\n",
        "\n",
        "# Método 4\n",
        "def valid_division(d):\n",
        "    try:\n",
        "        result = eval(d)\n",
        "        return result.is_integer()\n",
        "    except ZeroDivisionError:\n",
        "        return \"Invalid\"\n",
        "    except (ValueError, NameError, SyntaxError):\n",
        "        return \"Caso no contemplado\"\n"
      ],
      "metadata": {
        "id": "ajCazVdlJOWV"
      },
      "execution_count": null,
      "outputs": []
    },
    {
      "cell_type": "code",
      "source": [
        "print(valid_division(\"6/3\"))        # True\n",
        "print(valid_division(\"1.5/0.5\"))    # True\n",
        "print(valid_division(\"0/3\"))        # True\n",
        "print(valid_division(\"3/0\"))        # Invalid\n",
        "print(valid_division(\"30/25\"))      # False\n",
        "print(valid_division(\"a/b\"))        # Caso no contemplado"
      ],
      "metadata": {
        "id": "pf6VXg-6JOWV",
        "colab": {
          "base_uri": "https://localhost:8080/"
        },
        "outputId": "ff4f0d3f-16dd-46c3-f6b1-bf41d23acd93"
      },
      "execution_count": null,
      "outputs": [
        {
          "output_type": "stream",
          "name": "stdout",
          "text": [
            "True\n",
            "True\n",
            "True\n",
            "Invalid\n",
            "False\n",
            "Caso no contemplado\n"
          ]
        }
      ]
    },
    {
      "cell_type": "markdown",
      "source": [
        "## Reto 507: Lávese las manos\n",
        "* Wash Your Hands :)\n",
        "* Se necesitan 21 segundos para lavarse las manos.\n",
        "* Cree una función que tome la cantidad de veces que una persona se lava las manos por día `n` y la cantidad de meses que sigue esta rutina `m` y calcule el tiempo en minutos y segundos que esa persona pasa lavándose las manos.\n",
        "\n",
        "* **Ejemplos**\n",
        "```\n",
        "wash_hands(8, 7) ➞ \"588 minutes and 0 seconds\"\n",
        "wash_hands(0, 0) ➞ \"0 minutes and 0 seconds\"\n",
        "wash_hands(7, 9) ➞ \"661 minutes and 30 seconds\"\n",
        "```\n",
        "* Nota:\n",
        "    - Considere que un mes tiene 30 días."
      ],
      "metadata": {
        "id": "oMtHyBHmJOdt"
      }
    },
    {
      "cell_type": "code",
      "source": [
        "# Método 1\n",
        "def wash_hands(n, m):\n",
        "    s = n*21*m*30   # segundos\n",
        "    return f\"{s // 60} minutes and {s % 60} seconds\"\n",
        "\n",
        "# Método 2\n",
        "def wash_hands(n, m):\n",
        "    total_seconds = n * 21 * m * 30\n",
        "    minutes, seconds = divmod(total_seconds, 60)\n",
        "    return f\"{minutes} minutes and {seconds} seconds\""
      ],
      "metadata": {
        "id": "G99sWim1JOdt"
      },
      "execution_count": null,
      "outputs": []
    },
    {
      "cell_type": "code",
      "source": [
        "print(wash_hands(8, 7))     # 588 minutes and 0 seconds\n",
        "print(wash_hands(0, 0))     # 0 minutes and 0 seconds\n",
        "print(wash_hands(7, 9))     # 661 minutes and 30 seconds"
      ],
      "metadata": {
        "id": "59MTFDAXJOdt",
        "colab": {
          "base_uri": "https://localhost:8080/"
        },
        "outputId": "60062754-f550-4a60-cf8f-152a413f8886"
      },
      "execution_count": null,
      "outputs": [
        {
          "output_type": "stream",
          "name": "stdout",
          "text": [
            "588 minutes and 0 seconds\n",
            "0 minutes and 0 seconds\n",
            "661 minutes and 30 seconds\n"
          ]
        }
      ]
    },
    {
      "cell_type": "markdown",
      "source": [
        "## Reto 508: Transcribir a ARNm\n",
        "* Transcribe to mRNA\n",
        "* Transcribe la hebra de ADN dada en el ARNm correspondiente - un tipo de ARN que se formará a partir de ella después de la transcripción.\n",
        "* El ADN tiene las bases A, T, G y C, mientras que el ARN se convierte en U, A, C y G respectivamente.\n",
        "\n",
        "* **Ejemplos**\n",
        "```\n",
        "dna_to_rna(\"ATTAGCGCGATATACGCGTAC\") ➞ \"UAAUCGCGCUAUAUGCGCAUG\"\n",
        "dna_to_rna(\"CGATATA\") ➞ \"GCUAUAU\"\n",
        "dna_to_rna(\"GTCATACGACGTA\") ➞ \"CAGUAUGCUGCAU\"\n",
        "```\n",
        "\n",
        "* **Notas**\n",
        "    - La transcripción es el proceso de hacer una hebra complementaria.\n",
        "    - A, T, G y C en el ADN se convierten en U, A, C y G respectivamente, cuando están en ARNm."
      ],
      "metadata": {
        "id": "qetlzAkIJOlC"
      }
    },
    {
      "cell_type": "code",
      "source": [
        "# Método 1\n",
        "def dna_to_rna(dna):\n",
        "    basesADN = \"ATGC\"\n",
        "    basesARN = \"UACG\"\n",
        "    listaADN = [e for e in basesADN]\n",
        "    listaARN = [e for e in basesARN]\n",
        "    result = \"\"\n",
        "    for letra in dna:\n",
        "        result += listaARN[listaADN.index(letra)]\n",
        "    return result\n",
        "\n",
        "# Método 2\n",
        "def dna_to_rna(dna):\n",
        "    transcription = {'A': 'U', 'T': 'A', 'G': 'C', 'C': 'G'}\n",
        "    return ''.join(transcription[nucleotide] for nucleotide in dna)\n",
        "\n",
        "# Método 3\n",
        "def dna_to_rna(dna):\n",
        "    return dna.translate(str.maketrans(\"ATGC\", \"UACG\"))\n",
        "\n",
        "# Método 4\n",
        "def dna_to_rna(dna):\n",
        "    return ''.join(dict(zip('ATGC', 'UACG'))[n] for n in dna)"
      ],
      "metadata": {
        "id": "SH3YyLc9JOlD"
      },
      "execution_count": null,
      "outputs": []
    },
    {
      "cell_type": "code",
      "source": [
        "print(dna_to_rna(\"ATTAGCGCGATATACGCGTAC\"))  # UAAUCGCGCUAUAUGCGCAUG\n",
        "print(dna_to_rna(\"CGATATA\"))                # GCUAUAU\n",
        "print(dna_to_rna(\"GTCATACGACGTA\"))          # CAGUAUGCUGCAU"
      ],
      "metadata": {
        "id": "co4VzDbPJOlD",
        "colab": {
          "base_uri": "https://localhost:8080/"
        },
        "outputId": "372f443a-6bb6-4e4b-eb2c-a0780c70c7da"
      },
      "execution_count": null,
      "outputs": [
        {
          "output_type": "stream",
          "name": "stdout",
          "text": [
            "UAAUCGCGCUAUAUGCGCAUG\n",
            "GCUAUAU\n",
            "CAGUAUGCUGCAU\n"
          ]
        }
      ]
    },
    {
      "cell_type": "markdown",
      "source": [
        "## Reto 509: Concatenar un Número Variable de Listas de Entrada\n",
        "* Concatenate Variable Number of Input Lists\n",
        "* Crea una función que concatene `n` listas de entrada, donde `n` es variable.\n",
        "\n",
        "* **Ejemplos**\n",
        "```\n",
        "concat([1, 2, 3], [4, 5], [6, 7]) ➞ [1, 2, 3, 4, 5, 6, 7]\n",
        "concat([1], [2], [3], [4], [5], [6], [7]) ➞ [1, 2, 3, 4, 5, 6, 7]\n",
        "concat([1, 2], [3, 4]) ➞ [1, 2, 3, 4]\n",
        "concat([4, 4, 4, 4, 4]) ➞ [4, 4, 4, 4, 4]\n",
        "```\n",
        "* Nota:\n",
        "    - Las listas deben concatenarse en el orden de los argumentos."
      ],
      "metadata": {
        "id": "X9aSGCSiJOsc"
      }
    },
    {
      "cell_type": "code",
      "source": [
        "# Método 1\n",
        "def concat(*args):\n",
        "    result = []\n",
        "    for item in args:\n",
        "        result += item\n",
        "    return result\n",
        "\n",
        "# Método 2\n",
        "def concat(*args):\n",
        "    return [item for sublist in args for item in sublist]\n",
        "\n",
        "# Método 3\n",
        "def concat(*args):\n",
        "    result = []\n",
        "    for lst in args:\n",
        "        for item in lst:\n",
        "            result.append(item)\n",
        "    return result\n",
        "\n",
        "# Método 4\n",
        "def concat(*args):\n",
        "    return sum(args, [])\n",
        "\n",
        "# Método 5\n",
        "from itertools import chain\n",
        "\n",
        "def concat(*lists):\n",
        "    return list(chain(*lists))\n",
        "\n",
        "# Método 6\n",
        "def concat(*args):\n",
        "    result = []\n",
        "    for lst in args:\n",
        "        result.extend(lst)\n",
        "    return result"
      ],
      "metadata": {
        "id": "lc9N5sDrJOsc"
      },
      "execution_count": null,
      "outputs": []
    },
    {
      "cell_type": "code",
      "source": [
        "print(concat([1, 2, 3], [4, 5], [6, 7]))\n",
        "print(concat([1], [2], [3], [4], [5], [6], [7]))\n",
        "print(concat([1, 2], [3, 4]))\n",
        "print(concat([4, 4, 4, 4, 4]))"
      ],
      "metadata": {
        "id": "hs94gqG-JOsc",
        "colab": {
          "base_uri": "https://localhost:8080/"
        },
        "outputId": "080d8354-2abe-4659-a106-9e06efc38bcb"
      },
      "execution_count": null,
      "outputs": [
        {
          "output_type": "stream",
          "name": "stdout",
          "text": [
            "[1, 2, 3, 4, 5, 6, 7]\n",
            "[1, 2, 3, 4, 5, 6, 7]\n",
            "[1, 2, 3, 4]\n",
            "[4, 4, 4, 4, 4]\n"
          ]
        }
      ]
    },
    {
      "cell_type": "markdown",
      "source": [
        "## Reto 510: Estalactitas o Estalagmitas?\n",
        "* Stalactites or Stalagmites?\n",
        "* Las estalactitas cuelgan del techo de una cueva mientras que las estalagmitas crecen desde el suelo.\n",
        "* Crea una función que determine si la entrada representa \"estalactitas\" o \"estalagmitas\".\n",
        "* Si representa ambas, devuelve \"ambas\".\n",
        "* La entrada será una lista 2D, con 1 representando una pieza de roca y 0 representando espacio de aire.\n",
        "\n",
        "* **Ejemplos**\n",
        "```python\n",
        "formacion_mineral([\n",
        "  [0, 1, 0, 1],\n",
        "  [0, 1, 0, 1],\n",
        "  [0, 0, 0, 1],\n",
        "  [0, 0, 0, 0]\n",
        "]) ➞ \"estalactitas\"\n",
        "```\n",
        "```python\n",
        "formacion_mineral([\n",
        "  [0, 0, 0, 0],\n",
        "  [0, 1, 0, 1],\n",
        "  [0, 1, 1, 1],\n",
        "  [0, 1, 1, 1]\n",
        "]) ➞ \"estalagmitas\"\n",
        "```\n",
        "```python\n",
        "formacion_mineral([\n",
        "  [1, 0, 1, 0],\n",
        "  [1, 1, 0, 1],\n",
        "  [0, 1, 1, 1],\n",
        "  [0, 1, 1, 1]\n",
        "]) ➞ \"ambas\"\n",
        "```\n",
        "\n",
        "* **Notas**\n",
        "    - No habrá ejemplos donde tanto estalactitas como estalagmitas se encuentren (porque esos se llaman pilares).\n",
        "    - No habrá ningún ejemplo de ni estalactitas ni estalagmitas.\n",
        "    - En otras palabras, si la primera lista tiene 1s, devuelve \"estalactitas\".\n",
        "    - Si la última lista tiene 1s, devuelve \"estalagmitas\".\n",
        "    - Si ambas tienen, devuelve \"ambas\"."
      ],
      "metadata": {
        "id": "TLGNJaT5JO0k"
      }
    },
    {
      "cell_type": "code",
      "source": [
        "# Método 1\n",
        "def formacion_mineral(cueva):\n",
        "    if sum(cueva[-1]) == 0:\n",
        "        return \"estalactitas\"\n",
        "    elif sum(cueva[0]) == 0:\n",
        "        return \"estalagmitas\"\n",
        "    elif sum(cueva[0]) > 0 and sum(cueva[-1]) > 0:\n",
        "        return \"ambas\"\n",
        "\n",
        "# Método 2\n",
        "def formacion_mineral(cueva):\n",
        "    hay_estalactitas = any(cueva[0])    # Verifica si hay 1s en la primera fila\n",
        "    hay_estalagmitas = any(cueva[-1])   # Verifica si hay 1s en la última fila\n",
        "\n",
        "    if hay_estalactitas and hay_estalagmitas:\n",
        "        return \"ambas\"\n",
        "    elif hay_estalactitas:\n",
        "        return \"estalactitas\"\n",
        "    elif hay_estalagmitas:\n",
        "        return \"estalagmitas\"\n",
        "\n",
        "# Método 3\n",
        "def formacion_mineral(cueva):\n",
        "    # Convertir la primera y última fila en conjuntos\n",
        "    primera_fila = set(cueva[0])\n",
        "    ultima_fila = set(cueva[-1])\n",
        "\n",
        "    # Verificar si hay 1s en la primera y última fila\n",
        "    hay_estalactitas = 1 in primera_fila\n",
        "    hay_estalagmitas = 1 in ultima_fila\n",
        "\n",
        "    if hay_estalactitas and hay_estalagmitas:\n",
        "        return \"ambas\"\n",
        "    elif hay_estalactitas:\n",
        "        return \"estalactitas\"\n",
        "    elif hay_estalagmitas:\n",
        "        return \"estalagmitas\""
      ],
      "metadata": {
        "id": "KIxuH6oLJO0k"
      },
      "execution_count": null,
      "outputs": []
    },
    {
      "cell_type": "code",
      "source": [
        "print(formacion_mineral([\n",
        "  [0, 1, 0, 1],\n",
        "  [0, 1, 0, 1],\n",
        "  [0, 0, 0, 1],\n",
        "  [0, 0, 0, 0]\n",
        "]))  # ➞ \"estalactitas\"\n",
        "\n",
        "print(formacion_mineral([\n",
        "  [0, 0, 0, 0],\n",
        "  [0, 1, 0, 1],\n",
        "  [0, 1, 1, 1],\n",
        "  [0, 1, 1, 1]\n",
        "]))  # ➞ \"estalagmitas\"\n",
        "\n",
        "print(formacion_mineral([\n",
        "  [1, 0, 1, 0],\n",
        "  [1, 1, 0, 1],\n",
        "  [0, 1, 1, 1],\n",
        "  [0, 1, 1, 1]\n",
        "]))  # ➞ \"ambas\""
      ],
      "metadata": {
        "id": "J0ScKxGjJO0k",
        "colab": {
          "base_uri": "https://localhost:8080/"
        },
        "outputId": "d820622d-f52a-4e69-c60b-aff3d3ec1d9b"
      },
      "execution_count": null,
      "outputs": [
        {
          "output_type": "stream",
          "name": "stdout",
          "text": [
            "estalactitas\n",
            "estalagmitas\n",
            "ambas\n"
          ]
        }
      ]
    },
    {
      "cell_type": "markdown",
      "source": [
        "## Reto 511: Edades de Padre e Hijo\n",
        "* Father and Son Ages\n",
        "* Crea una función que tome dos argumentos: la edad actual del padre `f_age` y la edad actual de su hijo `s_age`.\n",
        "* Calcula hace cuántos *años* el padre tenía el doble de edad que su hijo, o en cuántos años *tendrá* el doble de edad.\n",
        "\n",
        "* **Ejemplos**\n",
        "```\n",
        "age_difference(36, 7) ➞ 22\n",
        "#Dentro de 22 años, el padre tendrá 58 años y su hijo tendrá 29 años.\n",
        "age_difference(55, 30) ➞ 5\n",
        "#Hace 5 años, el padre tenía 50 años y su hijo tenía 25 años.\n",
        "age_difference(42, 21) ➞ 0\n",
        "```"
      ],
      "metadata": {
        "id": "4dR6GX4GJiBU"
      }
    },
    {
      "cell_type": "code",
      "source": [
        "# Método 1\n",
        "def age_difference(f_age, s_age):\n",
        "    return abs(f_age - 2 * s_age)\n",
        "\n",
        "# Método 2. Sin usar abs, usamos un if\n",
        "def age_difference(f_age, s_age):\n",
        "    difference = f_age - 2 * s_age\n",
        "    if difference >= 0:\n",
        "        return difference\n",
        "    else:\n",
        "        return -difference"
      ],
      "metadata": {
        "id": "pOPSYc5tJiBU"
      },
      "execution_count": null,
      "outputs": []
    },
    {
      "cell_type": "code",
      "source": [
        "print(age_difference(36, 7))\n",
        "print(age_difference(55, 30))\n",
        "print(age_difference(42, 21))"
      ],
      "metadata": {
        "id": "2xOS8D2WJiBU",
        "colab": {
          "base_uri": "https://localhost:8080/"
        },
        "outputId": "578dc17d-6582-4938-fe54-82a03cc875ee"
      },
      "execution_count": null,
      "outputs": [
        {
          "output_type": "stream",
          "name": "stdout",
          "text": [
            "22\n",
            "5\n",
            "0\n"
          ]
        }
      ]
    },
    {
      "cell_type": "markdown",
      "source": [
        "## Reto 512: Desempaquetado de Listas\n",
        "* Format IX: Unpacking Lists\n",
        "* Para este reto no se ha de crear una función. En su lugar, debes crear una **cadena de plantilla** que pueda ser formateada para obtener un cierto resultado.\n",
        "* Escribe **tres listas** y una cadena de plantilla de acuerdo con el siguiente ejemplo. Observa el argumento de palabra clave `elem`:\n",
        "\n",
        "* **Ejemplo**\n",
        "```\n",
        "lst1 = [tulista aquí]\n",
        "lst2 = [tulista aquí]\n",
        "lst3 = [tulista aquí]\n",
        "template = \"tu cadena de plantilla aquí\"\n",
        "template.format(*lst1, elem=\"amigos\") ➞ \"Mis amigos son: John, Joe y Jack.\"\n",
        "template.format(*lst2, elem=\"amores\") ➞ \"Mis amores son: C, C++ y Python.\"\n",
        "template.format(*lst3, elem=\"pokemon\") ➞ \"Mis pokemon son: Metapod, Magikarp y Unown.\"\n",
        "```\n",
        "* **Consejos**\n",
        "    - Los elementos de una lista pueden ser desempaquetados y pasados a `.format()` como argumentos posicionales usando el operador estrella `*`:\n",
        "```\n",
        "nombres = [\"María\", \"Mayo\"]\n",
        "\"{} y {}.\".format(*nombres) ➞ \"María y Mayo.\"\n",
        "```\n",
        "* **Notas**\n",
        "    - Envía una cadena, no una función.\n",
        "    - No cambies los nombres de las variables `template`, `lst1`, `lst2` y `lst3`."
      ],
      "metadata": {
        "id": "X4vxbYsuJiJb"
      }
    },
    {
      "cell_type": "code",
      "source": [
        "lst1 = [\"John\", \"Joe\", \"Jack\"]\n",
        "lst2 = [\"C\", \"C++\", \"Python\"]\n",
        "lst3 = [\"Metapod\", \"Magikarp\", \"Unown\"]\n",
        "template = \"Mis {elem} son: {}, {} y {}.\""
      ],
      "metadata": {
        "id": "IAyE-y9hJiJb"
      },
      "execution_count": null,
      "outputs": []
    },
    {
      "cell_type": "code",
      "source": [
        "print(template.format(*lst1, elem=\"amigos\"))    # Mis amigos son: John, Joe y Jack.\n",
        "print(template.format(*lst2, elem=\"amores\"))    # Mis amores son: C, C++ y Python.\n",
        "print(template.format(*lst3, elem=\"pokemon\"))   # Mis pokemon son: Metapod, Magikarp y Unown."
      ],
      "metadata": {
        "id": "YK1L8pNhJiJb",
        "colab": {
          "base_uri": "https://localhost:8080/"
        },
        "outputId": "5aed294a-6651-41a9-be88-ebdffd14b8fe"
      },
      "execution_count": null,
      "outputs": [
        {
          "output_type": "stream",
          "name": "stdout",
          "text": [
            "Mis amigos son: John, Joe y Jack.\n",
            "Mis amores son: C, C++ y Python.\n",
            "Mis pokemon son: Metapod, Magikarp y Unown.\n"
          ]
        }
      ]
    },
    {
      "cell_type": "markdown",
      "source": [
        "### Explicación\n",
        "\n",
        "#### Propósito del ejercicio\n",
        "\n",
        "* Este ejercicio está diseñado para enseñar y practicar dos conceptos importantes en Python:\n",
        "    1. Formateo de cadenas usando el método `.format()`.\n",
        "    2. Desempaquetado de listas usando el operador asterisco `*`.\n",
        "\n",
        "* La idea es crear una plantilla de cadena flexible que pueda ser utilizada con diferentes listas y palabras clave para producir oraciones similares pero con contenido diferente.\n",
        "\n",
        "#### Explicación de la solución\n",
        "\n",
        "1. Primero, definimos tres listas diferentes:\n",
        "\n",
        "```python\n",
        "lst1 = [\"John\", \"Joe\", \"Jack\"]\n",
        "lst2 = [\"C\", \"C++\", \"Python\"]\n",
        "lst3 = [\"Metapod\", \"Magikarp\", \"Unown\"]\n",
        "```\n",
        "\n",
        "2. Luego, creamos una plantilla de cadena:\n",
        "\n",
        "```python\n",
        "template = \"Mis {elem} son: {}, {} y {}.\"\n",
        "```\n",
        "\n",
        "Esta plantilla tiene dos tipos de marcadores de posición:\n",
        "   - `{elem}`: Este será reemplazado por una palabra clave (amigos, amores, pokemon).\n",
        "   - `{}`, `{}`, `{}`: Estos serán reemplazados por los elementos de la lista.\n",
        "\n",
        "3. Uso de la plantilla:\n",
        "\n",
        "```python\n",
        "template.format(*lst1, elem=\"amigos\")\n",
        "```\n",
        "\n",
        "Aquí ocurren dos cosas:\n",
        "   - `*lst1`: El asterisco desempaqueta la lista, pasando cada elemento como un argumento separado.\n",
        "   - `elem=\"amigos\"`: Este es un argumento de palabra clave que reemplaza `{elem}` en la plantilla.\n",
        "\n",
        "Entonces, cuando llamamos a:\n",
        "\n",
        "```python\n",
        "print(template.format(*lst1, elem=\"amigos\"))\n",
        "```\n",
        "\n",
        "Python hace lo siguiente:\n",
        "- Reemplaza `{elem}` con \"amigos\"\n",
        "- Reemplaza los tres `{}` con los elementos de `lst1` en orden\n",
        "\n",
        "Resultando en: \"Mis amigos son: John, Joe y Jack.\"\n",
        "\n",
        "La belleza de este enfoque es que la misma plantilla se puede usar con diferentes listas y palabras clave:\n",
        "\n",
        "```python\n",
        "print(template.format(*lst2, elem=\"amores\"))\n",
        "print(template.format(*lst3, elem=\"pokemon\"))\n",
        "```\n",
        "\n",
        "* Produciendo:\n",
        "    - \"Mis amores son: C, C++ y Python.\"\n",
        "    - \"Mis pokemon son: Metapod, Magikarp y Unown.\"\n",
        "\n",
        "* En resumen, este ejercicio enseña cómo crear una plantilla de cadena flexible que puede ser reutilizada con diferentes datos, lo cual es una habilidad útil en programación para generar textos dinámicos de manera eficiente."
      ],
      "metadata": {
        "id": "GCgIRNevg873"
      }
    },
    {
      "cell_type": "markdown",
      "source": [
        "## Reto 513: Números Pandigitales\n",
        "* Pandigital Numbers\n",
        "* Un número **pandigital** contiene todos los dígitos (0-9) al menos una vez.\n",
        "* Escribe una función que tome un entero, devolviendo `True` si el entero es pandigital, y `False` en caso contrario.\n",
        "* **Ejemplos**\n",
        "```\n",
        "es_pandigital(98140723568910) ➞ True\n",
        "es_pandigital(90864523148909) ➞ False\n",
        "#Falta el 7.\n",
        "es_pandigital(112233445566778899) ➞ False\n",
        "```\n",
        "* **Nota**\n",
        "    - Piensa en las propiedades de un número pandigital cuando se eliminan todos los duplicados."
      ],
      "metadata": {
        "id": "qixk6TO7JiQY"
      }
    },
    {
      "cell_type": "code",
      "source": [
        "# Método 1\n",
        "def es_pandigital(numero):\n",
        "    return set([int(x) for x in str(numero)]) == {0,1,2,3,4,5,6,7,8,9}\n",
        "\n",
        "# Método 2. Creando un set comprehension y ahorramos crear una lista intermedia\n",
        "def es_pandigital(numero):\n",
        "    return {int(x) for x in str(numero)} == {0,1,2,3,4,5,6,7,8,9}\n",
        "\n",
        "# Método 3. Creando una constante con el conjunto de referencia\n",
        "# Esto puede ser útil si se va a llamar la función muchas veces\n",
        "\n",
        "DIGITS = set(range(10))     # las constantes por norma van todo en mayúsculas\n",
        "\n",
        "def es_pandigital(numero):\n",
        "    return set(int(x) for x in str(numero)) == DIGITS\n",
        "\n",
        "# Método 4. Trabajando todo el rato con un string, sin usar enteros\n",
        "def es_pandigital(numero):\n",
        "    return len(set(str(numero))) == 10"
      ],
      "metadata": {
        "id": "sXUw2d4OJiQY"
      },
      "execution_count": null,
      "outputs": []
    },
    {
      "cell_type": "code",
      "source": [
        "print(es_pandigital(98140723568910))        # True\n",
        "print(es_pandigital(90864523148909))        # False\n",
        "print(es_pandigital(112233445566778899))    # False"
      ],
      "metadata": {
        "id": "Vw1jIBSaJiQY",
        "colab": {
          "base_uri": "https://localhost:8080/"
        },
        "outputId": "551695f2-6dd0-4629-dd4e-f58ae6dc142e"
      },
      "execution_count": null,
      "outputs": [
        {
          "output_type": "stream",
          "name": "stdout",
          "text": [
            "True\n",
            "False\n",
            "False\n"
          ]
        }
      ]
    },
    {
      "cell_type": "markdown",
      "source": [
        "## Reto 514: Suma de Elementos de la Lista Excepto Sí Mismo\n",
        "* Sum of List Elements Except Itself\n",
        "* Dada una lista devuelva una nueva lista que tenga la suma de todos sus elementos excepto sí mismo.\n",
        "* **Aclaración**\n",
        "    - `[1, 2, 3, 4]` = para el primer elemento => la suma será 2+3+4 = `[9]`\n",
        "    - `[1, 2, 3, 4]` = para el segundo elemento => la suma será 1+3+4 = `[9, 8]`\n",
        "    - `[1, 2, 3, 4]` = para el tercer elemento => la suma será 1+2+4 = `[9, 8, 7]`\n",
        "    - `[1, 2, 3, 4]` = para el cuarto elemento => la suma será 1+2+3 = `[9, 8, 7, 6]`\n",
        "\n",
        "* **Ejemplos**\n",
        "```\n",
        "lst_ele_sum([1, 2, 3, 2, 1]) ➞ [8, 7, 6, 7, 8]\n",
        "lst_ele_sum([1, 2]) ➞ [2, 1]\n",
        "lst_ele_sum([1, 2, 3]) ➞ [5, 4, 3]\n",
        "lst_ele_sum([1, 2, 3, 4, 5]) ➞ [14, 13, 12, 11, 10]\n",
        "lst_ele_sum([10, 20, 30, 40, 50, 60]) ➞ [200, 190, 180, 170, 160, 150]\n",
        "```"
      ],
      "metadata": {
        "id": "lrNNOlP-JiXa"
      }
    },
    {
      "cell_type": "code",
      "source": [
        "# Método 1\n",
        "def lst_ele_sum(lst):\n",
        "    total = sum(lst)\n",
        "    return [total - num for num in lst]\n",
        "\n",
        "# Método 2\n",
        "def lst_ele_sum(lst):\n",
        "    result = []\n",
        "    for i in range(len(lst)):\n",
        "        sum_except_self = sum(lst[:i] + lst[i+1:])\n",
        "        result.append(sum_except_self)\n",
        "    return result"
      ],
      "metadata": {
        "id": "VO3qvfbFJiXa"
      },
      "execution_count": null,
      "outputs": []
    },
    {
      "cell_type": "code",
      "source": [
        "print(lst_ele_sum([1, 2, 3, 2, 1]))             # [8, 7, 6, 7, 8]\n",
        "print(lst_ele_sum([1, 2]))                      # [2, 1]\n",
        "print(lst_ele_sum([1, 2, 3]))                   # [5, 4, 3]\n",
        "print(lst_ele_sum([1, 2, 3, 4, 5]))             # [14, 13, 12, 11, 10]\n",
        "print(lst_ele_sum([10, 20, 30, 40, 50, 60]))    # [200, 190, 180, 170, 160, 150]"
      ],
      "metadata": {
        "id": "z78D6PDZJiXb",
        "colab": {
          "base_uri": "https://localhost:8080/"
        },
        "outputId": "7ba695b1-f867-4ea6-873f-dcef46e04cac"
      },
      "execution_count": null,
      "outputs": [
        {
          "output_type": "stream",
          "name": "stdout",
          "text": [
            "[8, 7, 6, 7, 8]\n",
            "[2, 1]\n",
            "[5, 4, 3]\n",
            "[14, 13, 12, 11, 10]\n",
            "[200, 190, 180, 170, 160, 150]\n"
          ]
        }
      ]
    },
    {
      "cell_type": "markdown",
      "source": [
        "## Reto 515: Números de Sastry\n",
        "* Sastry Numbers\n",
        "* En este reto, debes determinar si un número entero dado `n` es un número de Sastry.\n",
        "* Si el número resultante de la concatenación de un entero `n` con su sucesor es un cuadrado perfecto, entonces `n` es un Número de Sastry.\n",
        "* Dada un entero positivo `n`, implementa una función que devuelva `True` si `n` es un número de Sastry, o `False` si no lo es.\n",
        "\n",
        "* **Ejemplos**\n",
        "```\n",
        "es_sastry(183) ➞ True\n",
        "#Concatenación de n y su sucesor = 183184\n",
        "#183184 es un cuadrado perfecto (428 ^ 2)\n",
        "es_sastry(184) ➞ False\n",
        "#Concatenación de n y su sucesor = 184185\n",
        "#184185 no es un cuadrado perfecto\n",
        "es_sastry(106755) ➞ True\n",
        "#Concatenación de n y su sucesor = 106755106756\n",
        "#106755106756 es un cuadrado perfecto (326734 ^ 2)\n",
        "```\n",
        "\n",
        "* **Notas**\n",
        "    - Un cuadrado perfecto es un número cuya raíz cuadrada es igual a un entero.\n",
        "    - Puedes esperar solo enteros positivos válidos mayores que 0 como entrada, sin excepciones que manejar.\n",
        "    - Cero es un cuadrado perfecto, pero la concatenación 00 no se considera un resultado válido para verificar."
      ],
      "metadata": {
        "id": "ycO-Ex-YJidx"
      }
    },
    {
      "cell_type": "code",
      "source": [
        "# Método 1\n",
        "import math\n",
        "\n",
        "def es_sastry(n):\n",
        "    # Concatenar n con su sucesor\n",
        "    concatenacion = int(str(n) + str(n + 1))\n",
        "\n",
        "    # Calcular la raíz cuadrada\n",
        "    raiz = math.isqrt(concatenacion)    # raíz cuadrada entera\n",
        "\n",
        "    # Verificar si es un cuadrado perfecto\n",
        "    return raiz * raiz == concatenacion\n",
        "\n",
        "# Método 2. Evitando usar la raiz cuadrada\n",
        "def es_sastry(n):\n",
        "    concatenacion = int(str(n) + str(n + 1))\n",
        "\n",
        "    # Búsqueda binaria de la raíz cuadrada\n",
        "    izquierda, derecha = 0, concatenacion\n",
        "    while izquierda <= derecha:\n",
        "        medio = (izquierda + derecha) // 2\n",
        "        cuadrado = medio * medio\n",
        "\n",
        "        if cuadrado == concatenacion:\n",
        "            return True\n",
        "        elif cuadrado < concatenacion:\n",
        "            izquierda = medio + 1\n",
        "        else:\n",
        "            derecha = medio - 1\n",
        "\n",
        "    return False"
      ],
      "metadata": {
        "id": "UAcLURzNv9qB"
      },
      "execution_count": null,
      "outputs": []
    },
    {
      "cell_type": "code",
      "source": [
        "print(es_sastry(183))   # True\n",
        "print(es_sastry(184))   # False\n",
        "print(es_sastry(106755))  # True"
      ],
      "metadata": {
        "id": "DFQylYc9Jidx",
        "colab": {
          "base_uri": "https://localhost:8080/"
        },
        "outputId": "8b8ef77f-5b89-42a0-ae0e-49b1df374305"
      },
      "execution_count": null,
      "outputs": [
        {
          "output_type": "stream",
          "name": "stdout",
          "text": [
            "True\n",
            "False\n",
            "True\n"
          ]
        }
      ]
    },
    {
      "cell_type": "markdown",
      "source": [
        "## Reto 516: ¿Es la Suma de los Dígitos en los Números Igual?\n",
        "* Are the Sum of Digits in the Numbers Equal?\n",
        "* Escribe una función que tome una lista de dos números y determine si la suma de los **dígitos** en cada número es igual entre sí.\n",
        "\n",
        "* **Ejemplos**\n",
        "\n",
        "```\n",
        "es_igual([105, 42]) ➞ True\n",
        "#1 + 0 + 5 = 6\n",
        "#4 + 2 = 6\n",
        "es_igual([21, 35]) ➞ False\n",
        "es_igual([0, 0]) ➞ True\n",
        "```"
      ],
      "metadata": {
        "id": "ehhGeKWDJikh"
      }
    },
    {
      "cell_type": "code",
      "source": [
        "# Método 1\n",
        "def es_igual(numeros):\n",
        "    a, b = numeros                              # desempaqueta los elementos de la lista\n",
        "    suma_a = sum(int(e) for e in str(abs(a)))   # suma los elementos de un generador\n",
        "    suma_b = sum(int(e) for e in str(abs(b)))   # suma los elementos de un generador\n",
        "    return suma_a == suma_b\n",
        "\n",
        "# Método 2. Sumando los elementos de un generador\n",
        "def es_igual(numeros):\n",
        "    def suma_digitos(num):\n",
        "        return sum(int(digito) for digito in str(abs(num)))\n",
        "\n",
        "    return suma_digitos(numeros[0]) == suma_digitos(numeros[1])\n",
        "\n",
        "# Método 3 Usando una list comprehension\n",
        "def es_igual(numeros):\n",
        "    # Convertir cada número en una lista de dígitos y luego sumar los dígitos\n",
        "    suma_a = sum([int(digito) for digito in str(abs(numeros[0]))])\n",
        "    suma_b = sum([int(digito) for digito in str(abs(numeros[-1]))])\n",
        "    # Comparar las sumas de los dígitos\n",
        "    return suma_a == suma_b\n",
        "\n",
        "# Método 5. Con la librería reduce. Programación funcional\n",
        "from functools import reduce\n",
        "\n",
        "def es_igual(numeros):\n",
        "    # Función para sumar los dígitos de un número\n",
        "    def suma_digitos(num):\n",
        "        return reduce(lambda x, y: x + y, map(int, str(abs(num))))\n",
        "\n",
        "    # Comparar las sumas de los dígitos de los dos números\n",
        "    a = numeros.pop(0)\n",
        "    b = numeros.pop(0)\n",
        "    return suma_digitos(a) == suma_digitos(b)\n",
        "\n",
        "# Método 6. Sin usar str\n",
        "def suma_digitos(num):\n",
        "    num = abs(num)  # Asegurarse de que el número sea positivo\n",
        "    suma = 0\n",
        "    while num > 0:\n",
        "        suma += num % 10  # Obtener el último dígito y sumarlo\n",
        "        num //= 10        # Eliminar el último dígito\n",
        "    return suma\n",
        "\n",
        "def es_igual(numeros):\n",
        "    a, b = *numeros,  # Desempaqueta los elementos de la lista\n",
        "    return suma_digitos(a) == suma_digitos(b)"
      ],
      "metadata": {
        "id": "OfPkm7hhJikh"
      },
      "execution_count": null,
      "outputs": []
    },
    {
      "cell_type": "code",
      "source": [
        "print(es_igual([105, 42]))  # True\n",
        "print(es_igual([21, 35]))   # False\n",
        "print(es_igual([0, 0]))     # True"
      ],
      "metadata": {
        "id": "HwIGf1QRJikh",
        "colab": {
          "base_uri": "https://localhost:8080/"
        },
        "outputId": "995d0a71-513b-4dc5-9bdb-f45faafe25d2"
      },
      "execution_count": null,
      "outputs": [
        {
          "output_type": "stream",
          "name": "stdout",
          "text": [
            "True\n",
            "False\n",
            "True\n"
          ]
        }
      ]
    },
    {
      "cell_type": "markdown",
      "source": [
        "## Reto 517: ¿Es el Número un Repdigit?\n",
        "* Is the Number a Repdigit\n",
        "* Un repdigit es un número positivo compuesto por el mismo dígito.\n",
        "* Crea una función que tome un entero y devuelva si es un repdigit o no.\n",
        "\n",
        "* **Ejemplos**\n",
        "\n",
        "```\n",
        "is_repdigit(66) ➞ True\n",
        "is_repdigit(8) ➞ True\n",
        "is_repdigit(0) ➞ True\n",
        "is_repdigit(-11) ➞ False\n",
        "is_repdigit(123) ➞ False\n",
        "```\n",
        "\n",
        "* **Notas**\n",
        "    - El número `0` debe devolver `True` (aunque no sea un número positivo)."
      ],
      "metadata": {
        "id": "0GDmptduJire"
      }
    },
    {
      "cell_type": "code",
      "source": [
        "# Método 1\n",
        "def is_repdigit(num):\n",
        "    # Si el número es negativo, retornamos False inmediatamente\n",
        "    if num < 0:\n",
        "        return False\n",
        "\n",
        "    # Convertir el número a una cadena\n",
        "    num_str = str(num)\n",
        "\n",
        "    # Verificar si todos los dígitos son iguales al primer dígito\n",
        "    return all(digit == num_str[0] for digit in num_str)\n",
        "\n",
        "# Método 2\n",
        "def is_repdigit(n):\n",
        "    # Si el número es negativo, retorna False\n",
        "    if n < 0:\n",
        "        return False\n",
        "    # Convertir el número a string y verificar si todos los caracteres son iguales\n",
        "    str_n = str(n)\n",
        "    return str_n == str_n[0] * len(str_n)\n",
        "\n",
        "# Método 3\n",
        "def is_repdigit(n):\n",
        "    if n < 0:\n",
        "        return False\n",
        "    str_n = str(n)\n",
        "    return all(d == str_n[0] for d in str_n)\n",
        "\n",
        "# Método 4\n",
        "def is_repdigit(n):\n",
        "    if n < 0:\n",
        "        return False\n",
        "    return all(n % 10 == int(d) for d in str(n))    # n%10 da el último digito\n",
        "\n",
        "# Método 5. Usando set\n",
        "def is_repdigit(n):\n",
        "    if n < 0:\n",
        "        return False\n",
        "    str_n = str(n)\n",
        "    return len(set(str_n)) == 1"
      ],
      "metadata": {
        "id": "rKvCpyIyJirf"
      },
      "execution_count": null,
      "outputs": []
    },
    {
      "cell_type": "code",
      "source": [
        "print(is_repdigit(66))    # True\n",
        "print(is_repdigit(8))     # True\n",
        "print(is_repdigit(0))     # True\n",
        "print(is_repdigit(-11))   # False\n",
        "print(is_repdigit(123))   # False"
      ],
      "metadata": {
        "id": "6TTBafGzJirf",
        "colab": {
          "base_uri": "https://localhost:8080/"
        },
        "outputId": "da14aad2-e49a-40d9-fa54-5cd6f4705f11"
      },
      "execution_count": null,
      "outputs": [
        {
          "output_type": "stream",
          "name": "stdout",
          "text": [
            "True\n",
            "True\n",
            "True\n",
            "False\n",
            "False\n"
          ]
        }
      ]
    },
    {
      "cell_type": "markdown",
      "source": [
        "## Reto 518: Letras Compartidas Entre Dos Palabras\n",
        "* Letters Shared Between Two Words\n",
        "* Crea una función que devuelva el número de caracteres compartidos entre dos palabras.\n",
        "\n",
        "* **Ejemplos**\n",
        "\n",
        "```\n",
        "letras_compartidas(\"manzana\", \"carne\") ➞ 2\n",
        "#Ya que \"an\" es compartido entre \"manzana\" y \"carne\".\n",
        "letras_compartidas(\"ventilador\", \"forsook\") ➞ 1\n",
        "letras_compartidas(\"chorro\", \"grito\") ➞ 3\n",
        "```"
      ],
      "metadata": {
        "id": "OREc2pvsJizQ"
      }
    },
    {
      "cell_type": "code",
      "source": [
        "# Método 1\n",
        "def shared_letters(txt1, txt2):\n",
        "    conjunto1 = set(c for c in txt1)\n",
        "    conjunto2 = set(c for c in txt2)\n",
        "    return len(conjunto1.intersection(conjunto2))\n",
        "\n",
        "# Método 2. El operador & en conjuntos equivale a intersection\n",
        "def letras_compartidas(palabra1, palabra2):\n",
        "    return len(set(palabra1.lower()) & set(palabra2.lower()))\n",
        "\n",
        "# Método 3\n",
        "def letras_compartidas(palabra1, palabra2):\n",
        "    return sum(1 for letra in set(palabra1.lower()) if letra in palabra2.lower())\n",
        "\n",
        "# Método 4. Sin usar set\n",
        "def letras_compartidas(palabra1, palabra2):\n",
        "    palabra1 = palabra1.lower()\n",
        "    palabra2 = palabra2.lower()\n",
        "    letras_unicas1 = []\n",
        "    contador = 0\n",
        "\n",
        "    for letra in palabra1:\n",
        "        if letra not in letras_unicas1:\n",
        "            letras_unicas1.append(letra)\n",
        "            if letra in palabra2:\n",
        "                contador += 1\n",
        "\n",
        "    return contador"
      ],
      "metadata": {
        "id": "ji6pXwB_JizQ"
      },
      "execution_count": null,
      "outputs": []
    },
    {
      "cell_type": "code",
      "source": [
        "print(letras_compartidas(\"banana\", \"bicho\"))            # 1\n",
        "print(letras_compartidas(\"manzana\", \"carne\"))           # 2\n",
        "print(letras_compartidas(\"verso\", \"verbigracia\"))       # 3\n",
        "print(letras_compartidas(\"murcielago\", \"exoplaneta\"))   # 4"
      ],
      "metadata": {
        "id": "MandhIWDJizQ",
        "colab": {
          "base_uri": "https://localhost:8080/"
        },
        "outputId": "cc43bb43-c09a-43c7-c971-298f1208b0f8"
      },
      "execution_count": null,
      "outputs": [
        {
          "output_type": "stream",
          "name": "stdout",
          "text": [
            "1\n",
            "2\n",
            "3\n",
            "4\n"
          ]
        }
      ]
    },
    {
      "cell_type": "markdown",
      "source": [
        "## Reto 519: Intervalos Intersecantes\n",
        "* Intersecting Intervals\n",
        "* Crea una función que tome una lista de **intervalos** y devuelva cuántos intervalos se superponen con un punto dado.\n",
        "* Un intervalo se superpone con un punto en particular si el punto existe **dentro** del intervalo, o en el **límite** del intervalo. Por ejemplo, el punto `3` se superpone con el intervalo `[2, 4]` (está dentro) y `[2, 3]` (está en el límite).\n",
        "* Para ilustrar:\n",
        "\n",
        "```\n",
        "contar_superposiciones([[1, 2], [2, 3], [1, 3], [4, 5], [0, 1]], 2) ➞ 3\n",
        "# Ya que [1, 2], [2, 3] y [1, 3] se superponen con el punto 2\n",
        "```\n",
        "\n",
        "* **Ejemplos**\n",
        "\n",
        "```\n",
        "contar_superposiciones([[1, 2], [2, 3], [3, 4]], 5) ➞ 0\n",
        "contar_superposiciones([[1, 2], [5, 6], [5, 7]], 5) ➞ 2\n",
        "contar_superposiciones([[1, 2], [5, 8], [6, 9]], 7) ➞ 2\n",
        "```\n",
        "\n",
        "* **Notas**\n",
        "    - Cada intervalo está representado como una lista con un punto de inicio y un punto final.\n",
        "    - Los intervalos cuentan como intersecantes incluso si solo se intersectan en un punto, es decir, `[2, 3]` y `[3, 4]` ambos intersectan en el punto `3`."
      ],
      "metadata": {
        "id": "Oi9n-QcnJi6p"
      }
    },
    {
      "cell_type": "code",
      "source": [
        "# Método 1\n",
        "def contar_superposiciones(intervalos, punto):\n",
        "    return sum(punto in range(intervalo[0], intervalo[1]+1) for intervalo in intervalos)\n",
        "\n",
        "# Método 2\n",
        "def contar_superposiciones(intervalos, punto):\n",
        "    return sum(inicio <= punto <= fin for inicio, fin in intervalos)\n",
        "\n",
        "# Método 3\n",
        "def contar_superposiciones(intervalos, punto):\n",
        "    contador = 0\n",
        "    for intervalo in intervalos:\n",
        "        inicio, fin = intervalo\n",
        "        if inicio <= punto <= fin:\n",
        "            contador += 1\n",
        "    return contador\n",
        "\n",
        "# Método 4\n",
        "def contar_superposiciones(intervalos, punto):\n",
        "    return len(list(filter(lambda x: x[0] <= punto <= x[1], intervalos)))\n",
        "\n",
        "# Método 5\n",
        "def contar_superposiciones(intervalos, punto):\n",
        "    return sum(1 for inicio, fin in intervalos if punto in range(inicio, fin + 1))"
      ],
      "metadata": {
        "id": "bCqNGG_CJi6p"
      },
      "execution_count": null,
      "outputs": []
    },
    {
      "cell_type": "code",
      "source": [
        "print(contar_superposiciones([[1, 2], [2, 3], [3, 4]], 5))                  # 0\n",
        "print(contar_superposiciones([[1, 2], [5, 6], [5, 7]], 5))                  # 2\n",
        "print(contar_superposiciones([[1, 2], [5, 8], [6, 9]], 7))                  # 2\n",
        "print(contar_superposiciones([[1, 2], [2, 3], [1, 3], [4, 5], [0, 1]], 2))  # 3"
      ],
      "metadata": {
        "id": "cSYaASFsJi6p",
        "colab": {
          "base_uri": "https://localhost:8080/"
        },
        "outputId": "afe7f517-4a73-4886-9286-10825da6dd42"
      },
      "execution_count": null,
      "outputs": [
        {
          "output_type": "stream",
          "name": "stdout",
          "text": [
            "0\n",
            "2\n",
            "2\n",
            "3\n"
          ]
        }
      ]
    },
    {
      "cell_type": "markdown",
      "source": [
        "## Reto 520: Exploración Combinatoria\n",
        "* Combinatorial Exploration\n",
        "* Dado un número conocido de elementos únicos, ¿de cuántas maneras podríamos ordenarlos en una fila?\n",
        "* Crea una función que tome un entero `n` y devuelva el número de dígitos del número de permutaciones posibles para `n` elementos únicos.\n",
        "* Por ejemplo, 5 elementos únicos podrían ordenarse de 120 maneras únicas. 120 tiene 3 dígitos, por lo tanto se devuelve el entero `3`.\n",
        "\n",
        "* **Ejemplos**\n",
        "\n",
        "```\n",
        "no_perms_digits(0) ➞ 1\n",
        "no_perms_digits(1) ➞ 1\n",
        "no_perms_digits(5) ➞ 3\n",
        "no_perms_digits(8) ➞ 5\n",
        "```\n",
        "\n",
        "* **Nota**\n",
        "    - Las permutaciones de n se obtienen calculando el factorial de n."
      ],
      "metadata": {
        "id": "VqOAz1qjJjCA"
      }
    },
    {
      "cell_type": "code",
      "source": [
        "# Método 1\n",
        "import math\n",
        "def no_perms_digits(n):\n",
        "    fact = math.factorial(n)\n",
        "    return int(math.log10(fact)) + 1    # calcula el nº de digios con log10\n",
        "\n",
        "# Método 2\n",
        "def fac(n):     # función recursiva\n",
        "    if n == 0:\n",
        "        return 1\n",
        "    return n * fac(n-1)\n",
        "\n",
        "def no_perms_digits(n):\n",
        "    return len(str(fac(n)))     # calcula el nº de digitos usando str y len\n",
        "\n",
        "# Método 3\n",
        "from math import factorial\n",
        "def num_digitos(n):     # calcula el número de dígitos con un while\n",
        "    numero_digitos = 0\n",
        "    while n != 0:\n",
        "        n = n // 10\n",
        "        numero_digitos += 1\n",
        "    return numero_digitos\n",
        "\n",
        "def no_perms_digits(n):\n",
        "    return num_digitos(factorial(n))"
      ],
      "metadata": {
        "id": "BNAqtMkcJjCA"
      },
      "execution_count": null,
      "outputs": []
    },
    {
      "cell_type": "code",
      "source": [
        "print(no_perms_digits(0))   # 1\n",
        "print(no_perms_digits(1))   # 1\n",
        "print(no_perms_digits(5))   # 3\n",
        "print(no_perms_digits(8))   # 5"
      ],
      "metadata": {
        "id": "bJXQH_CLJjCB",
        "colab": {
          "base_uri": "https://localhost:8080/"
        },
        "outputId": "a4a03ad3-7bec-42a0-ee46-a0959b06483a"
      },
      "execution_count": null,
      "outputs": [
        {
          "output_type": "stream",
          "name": "stdout",
          "text": [
            "1\n",
            "1\n",
            "3\n",
            "5\n"
          ]
        }
      ]
    },
    {
      "cell_type": "markdown",
      "source": [
        "## Reto 521: Impar vs. Par\n",
        "* Oddish vs. Evenish\n",
        "* Crea una función que determine si un número es Oddish o Evenish.\n",
        "* Un número es Oddish si la suma de todos sus dígitos es impar, y un número es Evenish si la suma de todos sus dígitos es par.\n",
        "* Si un número es Oddish, devuelve \"Oddish\". De lo contrario, devuelve \"Evenish\".\n",
        "\n",
        "Por ejemplo, `oddish_or_evenish(121)` debería devolver \"Evenish\", ya que 1 + 2 + 1 = 4. `oddish_or_evenish(41)` debería devolver \"Oddish\", ya que 4 + 1 = 5.\n",
        "\n",
        "* **Ejemplos**\n",
        "- `oddish_or_evenish(43)` ➞ \"Oddish\"\n",
        "  - 4 + 3 = 7\n",
        "  - 7 % 2 = 1\n",
        "\n",
        "- `oddish_or_evenish(373)` ➞ \"Oddish\"\n",
        "  - 3 + 7 + 3 = 13\n",
        "  - 13 % 2 = 1\n",
        "\n",
        "- `oddish_or_evenish(4433)` ➞ \"Evenish\"\n",
        "  - 4 + 4 + 3 + 3 = 14\n",
        "  - 14 % 2 = 0"
      ],
      "metadata": {
        "id": "PNPUFnt8J3hD"
      }
    },
    {
      "cell_type": "code",
      "source": [
        "# Método 1\n",
        "def oddish_or_evenish(numero):\n",
        "    suma_digitos = sum(int(digito) for digito in str(numero))\n",
        "    if suma_digitos % 2 == 0:\n",
        "        return \"Evenish\"\n",
        "    else:\n",
        "        return \"Oddish\"\n",
        "\n",
        "# Método 2. Sin usar str\n",
        "def oddish_or_evenish(numero):\n",
        "    suma_digitos = 0\n",
        "    while numero > 0:\n",
        "        suma_digitos += numero % 10\n",
        "        numero //= 10\n",
        "    if suma_digitos % 2 == 0:\n",
        "        return \"Evenish\"\n",
        "    else:\n",
        "        return \"Oddish\"\n",
        "\n",
        "# Método 3. Usando reduce, map y lambda\n",
        "from functools import reduce\n",
        "\n",
        "def oddish_or_evenish(numero):\n",
        "    # Convertir el número a una cadena y mapear cada dígito a un entero\n",
        "    digitos = map(int, str(numero))\n",
        "\n",
        "    # Usar reduce para sumar todos los dígitos\n",
        "    suma_digitos = reduce(lambda x, y: x + y, digitos)\n",
        "\n",
        "    # Determinar si la suma es par o impar\n",
        "    if suma_digitos % 2 == 0:\n",
        "        return \"Evenish\"\n",
        "    else:\n",
        "        return \"Oddish\"\n",
        "\n",
        "# Método 4. Generador y operador ternario\n",
        "def oddish_or_evenish(numero):\n",
        "    suma_digitos = sum(int(digito) for digito in str(numero))\n",
        "    return \"Evenish\" if suma_digitos % 2 == 0 else \"Oddish\"\n",
        "\n",
        "# Método 5. Tratando secuencialmente los dígitos con una bandera que indica si la suma es par o impar\n",
        "def oddish_or_evenish(numero):\n",
        "    # Función lambda para sumar dos dígitos\n",
        "    sumar_digitos = lambda x, y: x + y\n",
        "\n",
        "    # Inicializamos la bandera como 0 (par)\n",
        "    bandera = 0\n",
        "\n",
        "    # Convertimos el número a una cadena y procesamos cada dígito\n",
        "    for digito in str(numero):\n",
        "        # Convertimos el dígito a entero y actualizamos la bandera\n",
        "        bandera = sumar_digitos(bandera, int(digito))\n",
        "\n",
        "    # Evaluamos la bandera para determinar si es par o impar\n",
        "    return \"Evenish\" if bandera % 2 == 0 else \"Oddish\""
      ],
      "metadata": {
        "id": "Ti8YQt1xJ3hE"
      },
      "execution_count": null,
      "outputs": []
    },
    {
      "cell_type": "code",
      "source": [
        "print(oddish_or_evenish(43))   # \"Oddish\"\n",
        "print(oddish_or_evenish(373))  # \"Oddish\"\n",
        "print(oddish_or_evenish(41))   # \"Oddish\"\n",
        "print(oddish_or_evenish(4433)) # \"Evenish\"\n",
        "print(oddish_or_evenish(121))  # \"Evenish\""
      ],
      "metadata": {
        "id": "N__ZeOW6J3hE",
        "colab": {
          "base_uri": "https://localhost:8080/"
        },
        "outputId": "170c39d2-e399-4dba-f59b-1a5597aa57ea"
      },
      "execution_count": null,
      "outputs": [
        {
          "output_type": "stream",
          "name": "stdout",
          "text": [
            "Oddish\n",
            "Oddish\n",
            "Oddish\n",
            "Evenish\n",
            "Evenish\n"
          ]
        }
      ]
    },
    {
      "cell_type": "markdown",
      "source": [
        "## Reto 522: ¿Está Johnny Progresando?\n",
        "* Is Johnny Making Progress?\n",
        "* Para entrenar para un próximo maratón, Johnny hace una carrera de larga distancia cada sábado.\n",
        "* Quiere hacer un seguimiento de cuántas veces el número de millas que corre supera el sábado **anterior**. Esto se llama un **día de progreso**.\n",
        "* Crea una función que tome una lista de millas corridas cada sábado y devuelva el número total de días de progreso de Johnny.\n",
        "* **Ejemplos**\n",
        "```\n",
        "progress_days([3, 4, 1, 2]) ➞ 2\n",
        "#Hay dos días de progreso, (3->4) y (1->2)\n",
        "progress_days([10, 11, 12, 9, 10]) ➞ 3\n",
        "progress_days([6, 5, 4, 3, 2, 9]) ➞ 1\n",
        "progress_days([9, 9])  ➞ 0\n",
        "```\n",
        "\n",
        "* **Notas**\n",
        "    - Correr el **mismo número de millas** que la semana pasada no cuenta como un día de progreso."
      ],
      "metadata": {
        "id": "XWjJweTLJ38J"
      }
    },
    {
      "cell_type": "code",
      "source": [
        "# Método 1\n",
        "def progress_days(miles):\n",
        "    dias_de_progreso = 0\n",
        "    for i in range(1, len(miles)):\n",
        "        if miles[i-1] < miles[i]:\n",
        "            dias_de_progreso += 1\n",
        "    return dias_de_progreso\n",
        "\n",
        "# Método 2\n",
        "def progress_days(miles):\n",
        "    return sum(b > a for a, b in zip(miles, miles[1:]))\n",
        "\n",
        "# Método 3. operador morsa\n",
        "def progress_days(miles):\n",
        "    return sum(curr > prev for i, curr in enumerate(miles[1:], 1) if (prev := miles[i-1]))"
      ],
      "metadata": {
        "id": "7QTbKucHJ38K"
      },
      "execution_count": null,
      "outputs": []
    },
    {
      "cell_type": "code",
      "source": [
        "print(progress_days([9, 9]))                # 0\n",
        "print(progress_days([6, 5, 4, 3, 2, 9]))    # 1\n",
        "print(progress_days([3, 4, 1, 2]))          # 2\n",
        "print(progress_days([10, 11, 12, 9, 10]))   # 3"
      ],
      "metadata": {
        "id": "-er8xjzyJ38K",
        "colab": {
          "base_uri": "https://localhost:8080/"
        },
        "outputId": "afcd5707-f6a8-41af-88b1-57ff7d066a36"
      },
      "execution_count": null,
      "outputs": [
        {
          "output_type": "stream",
          "name": "stdout",
          "text": [
            "0\n",
            "1\n",
            "2\n",
            "3\n"
          ]
        }
      ]
    },
    {
      "cell_type": "markdown",
      "source": [
        "#### Explicación del método 3\n",
        "\n",
        "1. `enumerate(miles[1:], 1)`:\n",
        "   - `miles[1:]` crea una sublista que comienza desde el segundo elemento de `miles`.\n",
        "   - `enumerate()` crea un iterador que produce pares de (índice, valor).\n",
        "   - El segundo argumento `1` hace que el índice comience en 1 en lugar de 0.\n",
        "\n",
        "2. `for i, curr in enumerate(miles[1:], 1)`:\n",
        "   - Esto itera sobre la lista, donde `i` es el índice (comenzando en 1) y `curr` es el valor actual.\n",
        "\n",
        "3. `if (prev := miles[i-1])`:\n",
        "   - El operador `:=` (operador morsa) asigna `miles[i-1]` a `prev`.\n",
        "   - Esto obtiene el valor anterior de la lista original `miles`.\n",
        "   - La condición `if` siempre será verdadera a menos que `miles[i-1]` sea 0 o vacío.\n",
        "\n",
        "4. `curr > prev`:\n",
        "   - Compara el valor actual con el valor anterior.\n",
        "   - Devuelve `True` si hay progreso, `False` si no.\n",
        "\n",
        "5. `sum(...)`:\n",
        "   - La función `sum()` suma todos los valores `True` (que en Python se interpretan como 1) de la expresión generadora.\n",
        "\n",
        "\n",
        "En resumen, esta función crea una secuencia de comparaciones booleanas (True/False) para cada par de días consecutivos, y luego suma los resultados para obtener el número total de días de progreso."
      ],
      "metadata": {
        "id": "ss7q8mwk-Zlq"
      }
    },
    {
      "cell_type": "markdown",
      "source": [
        "## Reto 523: Parche de Cuadrado Perfecto\n",
        "* Perfect Square Patch\n",
        "* Crea una función que tome un entero y produzca un cuadrado `n x n` que consista únicamente del entero `n`.\n",
        "\n",
        "* **Ejemplos**\n",
        "\n",
        "```\n",
        "square_patch(3) ➞ [\n",
        "  [3, 3, 3],\n",
        "  [3, 3, 3],\n",
        "  [3, 3, 3]\n",
        "]\n",
        "\n",
        "square_patch(5) ➞ [\n",
        "  [5, 5, 5, 5, 5],\n",
        "  [5, 5, 5, 5, 5],\n",
        "  [5, 5, 5, 5, 5],\n",
        "  [5, 5, 5, 5, 5],\n",
        "  [5, 5, 5, 5, 5]\n",
        "]\n",
        "\n",
        "square_patch(1) ➞ [\n",
        "  [1]\n",
        "]\n",
        "\n",
        "square_patch(0) ➞ []\n",
        "```\n",
        "\n",
        "* **Notas**\n",
        "    - `n >= 0`.\n",
        "    - Si `n == 0`, devuelve una lista vacía.\n"
      ],
      "metadata": {
        "id": "cNH9ZpeOJ4DH"
      }
    },
    {
      "cell_type": "code",
      "source": [
        "# Método 1\n",
        "def square_patch(n):\n",
        "    return [[n] * n for _ in range(n)]\n",
        "\n",
        "# Método 2\n",
        "def square_patch(n):\n",
        "    if n == 0:\n",
        "        return []\n",
        "\n",
        "    square = []\n",
        "    for _ in range(n):\n",
        "        row = []\n",
        "        for _ in range(n):\n",
        "            row.append(n)\n",
        "        square.append(row)\n",
        "\n",
        "    return square\n",
        "\n",
        "# Método 3\n",
        "import numpy as np\n",
        "\n",
        "def square_patch(n):\n",
        "    return np.full((n, n), n).tolist()\n",
        "\n",
        "# Método 4. Con dos for\n",
        "def square_patch(n):\n",
        "    return [[n for _ in range(n)] for _ in range(n)]\n",
        "\n",
        "# Método 4. Método no recomendable. Usa multiplicación de listas,\n",
        "# pero puede tener un comportamiento inesperado porque todas las sublistas\n",
        "# referencian el mismo objeto en memoria.\n",
        "# Esto puede causar problemas si se modifica alguna sublista.\n",
        "def square_patch(n):\n",
        "    return [[n] * n] * n if n > 0 else []"
      ],
      "metadata": {
        "id": "Y2rDnQu6J4DH"
      },
      "execution_count": null,
      "outputs": []
    },
    {
      "cell_type": "code",
      "source": [
        "print(square_patch(3))\n",
        "print(square_patch(5))\n",
        "print(square_patch(1))\n",
        "print(square_patch(0))"
      ],
      "metadata": {
        "id": "icsPyDetJ4DH",
        "colab": {
          "base_uri": "https://localhost:8080/"
        },
        "outputId": "ac2dcbf5-d089-41f5-be3c-1f952acb33f6"
      },
      "execution_count": null,
      "outputs": [
        {
          "output_type": "stream",
          "name": "stdout",
          "text": [
            "[[3, 3, 3], [3, 3, 3], [3, 3, 3]]\n",
            "[[5, 5, 5, 5, 5], [5, 5, 5, 5, 5], [5, 5, 5, 5, 5], [5, 5, 5, 5, 5], [5, 5, 5, 5, 5]]\n",
            "[[1]]\n",
            "[]\n"
          ]
        }
      ]
    },
    {
      "cell_type": "markdown",
      "source": [
        "## Reto 524: Contar el Número de Instancias\n",
        "* Count Number of Instances\n",
        "* Crea una clase llamada `User` y crea una forma de verificar **el número de usuarios** (número de instancias) que se crearon, de modo que el valor pueda ser accedido como un **atributo de clase**.\n",
        "* **Ejemplos**\n",
        "\n",
        "```\n",
        "u1 = User(\"johnsmith10\")\n",
        "User.user_count ➞ 1\n",
        "\n",
        "u2 = User(\"marysue1989\")\n",
        "User.user_count ➞ 2\n",
        "\n",
        "u3 = User(\"milan_rodrick\")\n",
        "User.user_count ➞ 3\n",
        "```\n",
        "\n",
        "* Asegúrate de que los nombres de usuario sean accesibles a través del *atributo de instancia* `username`.\n",
        "\n",
        "```\n",
        "u1.username ➞ \"johnsmith10\"\n",
        "\n",
        "u2.username ➞ \"marysue1989\"\n",
        "\n",
        "u3.username ➞ \"milan_rodrick\"\n",
        "```"
      ],
      "metadata": {
        "id": "T5RJifTGJ4KH"
      }
    },
    {
      "cell_type": "code",
      "source": [
        "# Método 1\n",
        "class User:\n",
        "    user_count = 0\n",
        "\n",
        "    def __init__(self, username):\n",
        "        self.username = username\n",
        "        User.user_count += 1\n",
        "\n",
        "# Ejemplos de uso\n",
        "u1 = User(\"johnsmith10\")\n",
        "print(User.user_count)  # Output: 1\n",
        "\n",
        "u2 = User(\"marysue1989\")\n",
        "print(User.user_count)  # Output: 2\n",
        "\n",
        "u3 = User(\"milan_rodrick\")\n",
        "print(User.user_count)  # Output: 3\n",
        "\n",
        "# Verificando los nombres de usuario\n",
        "print(u1.username)  # Output: johnsmith10\n",
        "print(u2.username)  # Output: marysue1989\n",
        "print(u3.username)  # Output: milan_rodrick"
      ],
      "metadata": {
        "id": "dH3WyMViJ4KH"
      },
      "execution_count": null,
      "outputs": []
    },
    {
      "cell_type": "code",
      "source": [
        "# Método 2. Considerando que algún usuario creado se puede luego eliminar\n",
        "# en este caso, el contador se debería decrementar\n",
        "class User:\n",
        "    user_count = 0\n",
        "\n",
        "    def __init__(self, username):\n",
        "        self.username = username\n",
        "        User.user_count += 1\n",
        "\n",
        "    def remove(self):\n",
        "        User.user_count -= 1\n",
        "        print(f\"Usuario {self.username} eliminado.\")\n",
        "\n",
        "    @classmethod\n",
        "    def get_user_count(cls):\n",
        "        return cls.user_count\n",
        "\n",
        "# Ejemplos de uso\n",
        "u1 = User(\"johnsmith10\")\n",
        "u2 = User(\"marysue1989\")\n",
        "u3 = User(\"milan_rodrick\")\n",
        "\n",
        "print(User.get_user_count())  # Output: 3\n",
        "\n",
        "# Eliminando un usuario específico\n",
        "u2.remove()\n",
        "\n",
        "print(User.get_user_count())  # Output: 2\n",
        "\n",
        "# Verificando los nombres de usuario restantes\n",
        "print(u1.username)  # Output: johnsmith10\n",
        "print(u3.username)  # Output: milan_rodrick"
      ],
      "metadata": {
        "id": "KBeO0HVzqJvh",
        "outputId": "ddc4f562-34cd-4cf9-cf58-347f12779a69",
        "colab": {
          "base_uri": "https://localhost:8080/"
        }
      },
      "execution_count": null,
      "outputs": [
        {
          "output_type": "stream",
          "name": "stdout",
          "text": [
            "3\n",
            "Usuario marysue1989 eliminado.\n",
            "2\n",
            "johnsmith10\n",
            "milan_rodrick\n"
          ]
        }
      ]
    },
    {
      "cell_type": "markdown",
      "source": [
        "#### Comentarios al método 2\n",
        "\n",
        "Con la implementación del método 2 podamos eliminar usuarios específicos.\n",
        "\n",
        "1. Hemos añadido un método `remove()` a nivel de instancia. Esto permite eliminar un usuario específico.\n",
        "\n",
        "2. El método `remove()` decrementa el `user_count` y muestra un mensaje indicando qué usuario se ha eliminado.\n",
        "\n",
        "3. Hemos añadido un método de clase `get_user_count()` para obtener el número actual de usuarios. Esto es una buena práctica para encapsular el acceso a atributos de clase.\n",
        "\n",
        "4. Ahora podemos eliminar usuarios específicos llamando al método `remove()` en la instancia del usuario que queremos eliminar.\n",
        "\n",
        "Esta implementación es más lógica y útil, ya que permite eliminar usuarios específicos y mantener un recuento preciso de los usuarios activos.\n",
        "\n",
        "Sin embargo, es importante tener en cuenta que esta implementación aún tiene limitaciones:\n",
        "\n",
        "1. No previene que `remove()` sea llamado múltiples veces en el mismo usuario, lo que podría llevar a un conteo negativo.\n",
        "2. No elimina realmente el objeto de la memoria, solo decrementa el contador.\n",
        "\n",
        "Para un sistema más robusto, podrías considerar:\n",
        "\n",
        "1. Añadir una bandera `is_active` a cada usuario y cambiarla a `False` en lugar de decrementar el contador.\n",
        "2. Mantener una lista o diccionario de usuarios activos en la clase.\n",
        "3. Usar un sistema de gestión de base de datos para manejar los usuarios de manera más eficiente y segura."
      ],
      "metadata": {
        "id": "6-Zk5Hz4qoso"
      }
    },
    {
      "cell_type": "markdown",
      "source": [
        "## Reto 525: Número de Listas en una Lista\n",
        "* Number of Lists in a List\n",
        "* Devuelve el número total de listas dentro de una lista dada.\n",
        "\n",
        "* **Ejemplos**\n",
        "\n",
        "```\n",
        "num_de_sublistas([[1, 2, 3]]) ➞ 1\n",
        "num_de_sublistas([[1, 2, 3], [1, 2, 3], [1, 2, 3]]) ➞ 3\n",
        "num_de_sublistas([[1, 2, 3], [1, 2, 3], [1, 2, 3], [1, 2, 3]]) ➞ 4\n",
        "num_de_sublistas([1, 2, 3]) ➞ 0\n",
        "```"
      ],
      "metadata": {
        "id": "9btS9f_jJ4Rk"
      }
    },
    {
      "cell_type": "code",
      "source": [
        "# Método 1\n",
        "def num_de_sublistas(matriz):\n",
        "    return sum(1 for item in matriz if type(item) == list)\n",
        "\n",
        "# Método 2\n",
        "def num_de_sublistas(lista):\n",
        "    return sum(isinstance(item, list) for item in lista)\n",
        "\n",
        "# Método 3\n",
        "def num_de_sublistas(lista):\n",
        "    return len(list(filter(lambda x: isinstance(x, list), lista)))\n",
        "\n",
        "# Método 4. Con recursión. Cuenta las listas que pudieran existir en niveles más profundos\n",
        "def num_de_sublistas(lista):\n",
        "    count = 0\n",
        "    for elemento in lista:\n",
        "        if isinstance(elemento, list):\n",
        "            count += 1 + num_de_sublistas(elemento)\n",
        "    return count\n",
        "\n",
        "# Método 5\n",
        "def num_de_sublistas(lista):\n",
        "    return str(lista).count('[') - 1"
      ],
      "metadata": {
        "id": "E6J3pCYOJ4Rk"
      },
      "execution_count": null,
      "outputs": []
    },
    {
      "cell_type": "code",
      "source": [
        "print(num_de_sublistas([[1, 2, 3]]))                                    # 1\n",
        "print(num_de_sublistas([[1, 2, 3], [1, 2, 3], [1, 2, 3]]))              # 3\n",
        "print(num_de_sublistas([[1, 2, 3], [1, 2, 3], [1, 2, 3], [1, 2, 3]]))   # 4\n",
        "print(num_de_sublistas([1, 2, 3]))                                      # 0\n",
        "print(num_de_sublistas([]))                                             # 0\n",
        "print(num_de_sublistas([[],[],[],[],[]]))                               # 5"
      ],
      "metadata": {
        "id": "tknb1UNEJ4Rk",
        "colab": {
          "base_uri": "https://localhost:8080/"
        },
        "outputId": "56caf575-0685-4a93-fc39-903424eb4886"
      },
      "execution_count": null,
      "outputs": [
        {
          "output_type": "stream",
          "name": "stdout",
          "text": [
            "1\n",
            "3\n",
            "4\n",
            "0\n",
            "0\n",
            "5\n"
          ]
        }
      ]
    },
    {
      "cell_type": "markdown",
      "source": [
        "## Reto 526: Extendiendo La Cadena\n",
        "* Extending The String\n",
        "* Crea dos funciones:\n",
        "1. `consonantes(palabra)` que devuelve el número de consonantes en una palabra cuando se llama.\n",
        "2. `vocales(palabra)` que devuelve el número de vocales en una palabra cuando se llama.\n",
        "\n",
        "* **Ejemplos**\n",
        "\n",
        "```\n",
        "vocales('Jameel SAEB') ➞ 5\n",
        "consonantes('He|\\o mY Fr*end') ➞ 7\n",
        "consonantes(\"Smithsonian\") ➞ 7\n",
        "vocales(\"Smithsonian\") ➞ 4\n",
        "```\n",
        "\n",
        "* **Notas**\n",
        "- Las vocales son: `a, e, i, o, u`.\n",
        "- Los espacios y caracteres especiales no cuentan ni como consonantes ni como vocales."
      ],
      "metadata": {
        "id": "2-Et9sGhJ4Yk"
      }
    },
    {
      "cell_type": "code",
      "source": [
        "# Método 1: Usando conjuntos y comprensión de listas\n",
        "\n",
        "def vocales(palabra):\n",
        "    vocales = set('aeiou')\n",
        "    palabra = palabra.lower()\n",
        "    return sum(1 for letra in palabra if letra in vocales)\n",
        "\n",
        "def consonantes(palabra):\n",
        "    consonantes = set('bcdfghjklmnpqrstvwxyz')\n",
        "    palabra = palabra.lower()\n",
        "    return sum(1 for letra in palabra if letra in consonantes)\n",
        "\n",
        "# Método 2: Usando list comprehension\n",
        "\n",
        "def es_vocal(char):\n",
        "    return char.lower() in 'aeiou'\n",
        "\n",
        "def es_consonante(char):\n",
        "    return char.lower() in 'bcdfghjklmnpqrstvwxyz'\n",
        "\n",
        "def vocales(palabra):\n",
        "    return sum(es_vocal(char) for char in palabra if char.isalpha())\n",
        "\n",
        "def consonantes(palabra):\n",
        "    return sum(es_consonante(char) for char in palabra if char.isalpha())\n",
        "\n",
        "# Método 3. Usando comprensión de listas\n",
        "def consonantes(palabra):\n",
        "    vocales = \"aeiouAEIOU\"\n",
        "    return len([letra for letra in palabra if letra.isalpha() and letra not in vocales])\n",
        "\n",
        "def vocales(palabra):\n",
        "    vocales = \"aeiouAEIOU\"\n",
        "    return len([letra for letra in palabra if letra in vocales])"
      ],
      "metadata": {
        "id": "NUZheGy3J4Yk"
      },
      "execution_count": null,
      "outputs": []
    },
    {
      "cell_type": "code",
      "source": [
        "print(vocales('Jameel SAEB'))           # 5\n",
        "print(consonantes('He|\\o mY Fr*end'))   # 7\n",
        "print(consonantes(\"Smithsonian\"))       # 7\n",
        "print(vocales(\"Smithsonian\"))           # 4"
      ],
      "metadata": {
        "id": "uQrqHdPrMOOy",
        "outputId": "adb9bf89-9d56-497e-b9b6-5dbc9399846a",
        "colab": {
          "base_uri": "https://localhost:8080/"
        }
      },
      "execution_count": null,
      "outputs": [
        {
          "output_type": "stream",
          "name": "stdout",
          "text": [
            "5\n",
            "7\n",
            "7\n",
            "4\n"
          ]
        }
      ]
    },
    {
      "cell_type": "markdown",
      "source": [
        "## Reto 527: Conteo de mayúsculas con errores\n",
        "* Buggy Uppercase Counting\n",
        "* Considere la siguiente función.\n",
        "\n",
        "```python\n",
        "def count_uppercase(lst):\n",
        "\treturn sum(letter.isupper() for letter in word for word in lst)\n",
        "```\n",
        "* La función está destinada a devolver cuántas letras mayúsculas hay en una lista de varias palabras.\n",
        "* ¡Arregla la comprensión de la lista para que el código funcione normalmente!\n",
        "\n",
        "* **Ejemplos**\n",
        "```\n",
        "count_uppercase([\"SOLO\", \"hello\", \"Tea\", \"wHat\"]) ➞ 6\n",
        "count_uppercase([\"little\", \"lower\", \"down\"]) ➞ 0\n",
        "count_uppercase([\"AUTOdidact\", \"educate\", \"Coding\"]) ➞ 5\n",
        "```"
      ],
      "metadata": {
        "id": "cklCP4WwJ4f_"
      }
    },
    {
      "cell_type": "code",
      "source": [
        "def count_uppercase(lst):\n",
        "    return sum(letter.isupper() for word in lst for letter in word)"
      ],
      "metadata": {
        "id": "CfK4xyRhJ4f_"
      },
      "execution_count": null,
      "outputs": []
    },
    {
      "cell_type": "code",
      "source": [
        "print(count_uppercase([\"SOLO\", \"hello\", \"Tea\", \"wHat\"]))        # 6\n",
        "print(count_uppercase([\"little\", \"lower\", \"down\"]))             # 0\n",
        "print(count_uppercase([\"AUTOdidact\", \"educate\", \"Coding\"]))     # 5"
      ],
      "metadata": {
        "id": "nGBYgdmWJ4f_",
        "colab": {
          "base_uri": "https://localhost:8080/"
        },
        "outputId": "df399ca5-aade-40a2-9b85-019708717176"
      },
      "execution_count": null,
      "outputs": [
        {
          "output_type": "stream",
          "name": "stdout",
          "text": [
            "6\n",
            "0\n",
            "5\n"
          ]
        }
      ]
    },
    {
      "cell_type": "markdown",
      "source": [
        "## Reto 528: Diagonal de un Cubo\n",
        "* Diagonal of a Cube\n",
        "* Crea una función que tome el volumen de un cubo y devuelva la longitud de la diagonal principal del cubo, redondeada a dos decimales.\n",
        "\n",
        "* **Ejemplos**\n",
        "\n",
        "```\n",
        "cube_diagonal(8) ➞ 3.46\n",
        "cube_diagonal(343) ➞ 12.12\n",
        "cube_diagonal(1157.625) ➞ 18.19\n",
        "```\n",
        "* **Notas**\n",
        "- Utiliza la función `sqrt` del módulo de matemáticas.\n",
        "- Diagonal de un cubo: $\\sqrt{3} \\cdot x$"
      ],
      "metadata": {
        "id": "h_FCdlipJ4na"
      }
    },
    {
      "cell_type": "code",
      "source": [
        "# Método 1\n",
        "def cube_diagonal(vol):\n",
        "    diagonal = 3**.5 * vol ** (1/3)\n",
        "    return f'{diagonal:.2f}'\n",
        "\n",
        "# Método 2\n",
        "import math\n",
        "\n",
        "def cube_diagonal(volume):\n",
        "    side_length = volume ** (1/3)\n",
        "    diagonal = round(math.sqrt(3) * side_length, 2)\n",
        "    return diagonal"
      ],
      "metadata": {
        "id": "rirzzGxdJ4na"
      },
      "execution_count": null,
      "outputs": []
    },
    {
      "cell_type": "code",
      "source": [
        "print(cube_diagonal(8))\n",
        "print(cube_diagonal(343))\n",
        "print(cube_diagonal(1157.625))"
      ],
      "metadata": {
        "id": "TdKhyFKRJ4na",
        "outputId": "16e58920-8381-4660-dec9-472fd3ffa660",
        "colab": {
          "base_uri": "https://localhost:8080/"
        }
      },
      "execution_count": null,
      "outputs": [
        {
          "output_type": "stream",
          "name": "stdout",
          "text": [
            "3.46\n",
            "12.12\n",
            "18.19\n"
          ]
        }
      ]
    },
    {
      "cell_type": "markdown",
      "source": [
        "## Reto 529: El Quinto Argumento\n",
        "* The Fifth Argument\n",
        "* Crea una función (llamada fifth) que tome algunos argumentos y devuelva el tipo del quinto argumento. En caso de que los argumentos sean menos de 5, devuelve `\"Not enough arguments\"`.\n",
        "\n",
        "* **Ejemplos**\n",
        "\n",
        "```\n",
        "fifth(1, 2, 3, 4, 5) ➞ int\n",
        "fifth(\"a\", 2, 3, [1, 2, 3], \"five\") ➞ str\n",
        "fifth() ➞ \"Not enough arguments\"\n",
        "```\n",
        "* **Nota**\n",
        "    - Recuerda la indexación desde cero."
      ],
      "metadata": {
        "id": "qrAew1HVJ4uu"
      }
    },
    {
      "cell_type": "code",
      "source": [
        "# Método 1\n",
        "def fifth(*args):\n",
        "    if len(args) >= 5:\n",
        "        return type(args[4])\n",
        "    return \"Not enough arguments\"\n",
        "\n",
        "# Método 2. Imprime int en lugar de <class 'int'>, análogo con str\n",
        "def fifth(*args):\n",
        "    if len(args) < 5:\n",
        "        return \"Not enough arguments\"\n",
        "    return args[4].__class__.__name__\n",
        "\n",
        "# Método 3\n",
        "def fifth(*args):\n",
        "    try:\n",
        "        return type(args[4])\n",
        "    except IndexError:\n",
        "        return \"Not enough arguments\""
      ],
      "metadata": {
        "id": "6izl31Y2J4uu"
      },
      "execution_count": null,
      "outputs": []
    },
    {
      "cell_type": "code",
      "source": [
        "print(fifth(1, 2, 3, 4, 5))                 # int\n",
        "print(fifth(\"a\", 2, 3, [1, 2, 3], \"five\"))  # str\n",
        "print(fifth())                              # Not enough arguments\n",
        "print(fifth('a', 'b', 'c'))                 # Not enough arguments"
      ],
      "metadata": {
        "id": "JjSVAuUTJ4uu",
        "outputId": "7060ceb7-8b93-46b5-ad74-7e5a12377a42",
        "colab": {
          "base_uri": "https://localhost:8080/"
        }
      },
      "execution_count": null,
      "outputs": [
        {
          "output_type": "stream",
          "name": "stdout",
          "text": [
            "<class 'int'>\n",
            "<class 'str'>\n",
            "Not enough arguments\n",
            "Not enough arguments\n"
          ]
        }
      ]
    },
    {
      "cell_type": "markdown",
      "source": [
        "## Reto 530: Neutralización\n",
        "* Neutralisation\n",
        "* Dadas dos cadenas compuestas por `+` y `-`, devuelve una nueva cadena que muestre cómo interactúan las dos cadenas de la siguiente manera:\n",
        "    1. Cuando los positivos interactúan con positivos, *permanecen positivos*.\n",
        "    2. Cuando los negativos interactúan con negativos, *permanecen negativos*.\n",
        "    3. Pero cuando los negativos y positivos interactúan, *se vuelven neutrales*, y se muestran como el número `0`.\n",
        "\n",
        "* **Ejemplos**\n",
        "\n",
        "```\n",
        "neutralizar(\"+-+\", \"+--\") ➞ \"+-0\"\n",
        "neutralizar(\"--++--\", \"++--++\") ➞ \"000000\"\n",
        "neutralizar(\"-+-+-+\", \"-+-+-+\") ➞ \"-+-+-+\"\n",
        "neutralizar(\"-++-\", \"-+-+\") ➞ \"-+00\"\n",
        "```\n",
        "\n",
        "* **Nota**\n",
        "    - Las dos cadenas tendrán la misma longitud."
      ],
      "metadata": {
        "id": "JgzXD5JvJ42h"
      }
    },
    {
      "cell_type": "code",
      "source": [
        "# Método 1\n",
        "def neutralizar(s1, s2):\n",
        "    result = \"\"\n",
        "    for i in range(len(s1)):\n",
        "        if s1[i] == s2[i]:\n",
        "            result += s1[i]\n",
        "        else:\n",
        "            result += '0'\n",
        "    return result\n",
        "\n",
        "# Método 2\n",
        "def neutralizar(s1, s2):\n",
        "    return ''.join(a if a == b else '0' for a, b in zip(s1, s2))\n",
        "\n",
        "# Método 3\n",
        "def neutralizar(s1, s2):\n",
        "    return ''.join(map(lambda x, y: x if x == y else '0', s1, s2))\n",
        "\n",
        "# Método 4\n",
        "def neutralizar(s1, s2):\n",
        "    return ''.join(s1[i] if c == s2[i] else '0' for i, c in enumerate(s1))\n",
        "\n",
        "# Método 5\n",
        "def neutralizar(s1, s2):\n",
        "    resultado = \"\"\n",
        "    lista1 = list(s1)\n",
        "    lista2 = list(s2)\n",
        "    while lista1 and lista2:\n",
        "        c1 = lista1.pop(0)\n",
        "        c2 = lista2.pop(0)\n",
        "        resultado += c1 if c1 == c2 else '0'\n",
        "    return resultado"
      ],
      "metadata": {
        "id": "uJN9E-afJ42h"
      },
      "execution_count": null,
      "outputs": []
    },
    {
      "cell_type": "code",
      "source": [
        "print(neutralizar(\"+-+\", \"+--\"))\n",
        "print(neutralizar(\"--++--\", \"++--++\"))\n",
        "print(neutralizar(\"-+-+-+\", \"-+-+-+\"))\n",
        "print(neutralizar(\"-++-\", \"-+-+\"))"
      ],
      "metadata": {
        "id": "ZeE6TLYBJ42h",
        "colab": {
          "base_uri": "https://localhost:8080/"
        },
        "outputId": "17988d8b-26d5-4c0d-95bc-8234e2848638"
      },
      "execution_count": null,
      "outputs": [
        {
          "output_type": "stream",
          "name": "stdout",
          "text": [
            "+-0\n",
            "000000\n",
            "-+-+-+\n",
            "-+00\n"
          ]
        }
      ]
    },
    {
      "cell_type": "markdown",
      "source": [
        "## Reto 531: Estantería de Libros\n",
        "* Book Shelf\n",
        "* Crea una **clase** `Book` (Libro) que tenga **dos atributos**:\n",
        "    1. `.title` (título)\n",
        "    2. `.author` (autor)\n",
        "\n",
        "y **dos métodos**:\n",
        "\n",
        "    1. Un método llamado `.get_title()` que devuelve: `\"Title: \"` + el título de la instancia.\n",
        "    2. Un método llamado `.get_author()` que devuelve: `\"Author: \"` + el autor de la instancia.\n",
        "\n",
        "e instancia esta clase creando 3 nuevos libros:\n",
        "\n",
        "    1. Orgullo y Prejuicio - Jane Austen (**PP**)\n",
        "    2. Hamlet - William Shakespeare (**H**)\n",
        "    3. Guerra y Paz - León Tolstói (**WP**)\n",
        "\n",
        "El nombre de las nuevas instancias debe ser **PP**, **H** y **WP**, respectivamente.\n",
        "\n",
        "Por ejemplo, si instanciara el siguiente libro usando esta clase `Book`:\n",
        "\n",
        "    * Harry Potter - J.K. Rowling (HP)\n",
        "\n",
        "Obtendría los siguientes atributos y métodos:\n",
        "\n",
        "* **Ejemplos**\n",
        "\n",
        "```\n",
        "HP.title ➞ \"Harry Potter\"\n",
        "HP.author ➞ \"J.K. Rowling\"\n",
        "HP.get_title() ➞ \"Title: Harry Potter\"\n",
        "HP.get_author() ➞ \"Author: J.K. Rowling\"\n",
        "```\n",
        "\n",
        "* **Nota**\n",
        "    - Recuerda, después de terminar de escribir la **clase** y sus **métodos**, debes instanciarla mediante la creación de nuevos objetos."
      ],
      "metadata": {
        "id": "MpNyY2GRKKQy"
      }
    },
    {
      "cell_type": "code",
      "source": [
        "# Método 1\n",
        "class Book:\n",
        "    def __init__(self, title, author):\n",
        "        self.title = title\n",
        "        self.author = author\n",
        "\n",
        "    def get_title(self):\n",
        "        return f\"Title: {self.title}\"\n",
        "\n",
        "    def get_author(self):\n",
        "        return f\"Author: {self.author}\"\n",
        "\n",
        "# Instanciación de la clase Book\n",
        "PP = Book(\"Pride and Prejudice\", \"Jane Austen\")\n",
        "H = Book(\"Hamlet\", \"William Shakespeare\")\n",
        "WP = Book(\"War and Peace\", \"Leo Tolstoy\")"
      ],
      "metadata": {
        "id": "N3VTCQFmKKQy"
      },
      "execution_count": null,
      "outputs": []
    },
    {
      "cell_type": "code",
      "source": [
        "# Prueba de los métodos\n",
        "print(PP.get_title())\n",
        "print(PP.get_author())\n",
        "print(H.get_title())\n",
        "print(H.get_author())\n",
        "print(WP.get_title())\n",
        "print(WP.get_author())"
      ],
      "metadata": {
        "id": "HHvQKALwKKQy",
        "colab": {
          "base_uri": "https://localhost:8080/"
        },
        "outputId": "c26893b3-fc0a-4aab-e3f4-fe6d613672ce"
      },
      "execution_count": null,
      "outputs": [
        {
          "output_type": "stream",
          "name": "stdout",
          "text": [
            "Title: Pride and Prejudice\n",
            "Author: Jane Austen\n",
            "Title: Hamlet\n",
            "Author: William Shakespeare\n",
            "Title: War and Peace\n",
            "Author: Leo Tolstoy\n"
          ]
        }
      ]
    },
    {
      "cell_type": "markdown",
      "source": [
        "#### Comentario\n",
        "Los métodos `get_title()` y `get_author()` son lo que se conoce comúnmente como \"getters\" o \"métodos getter\" en programación orientada a objetos.\n",
        "\n",
        "Los getters son métodos que se utilizan para obtener (o \"get\") el valor de un atributo de un objeto. Tienen varias ventajas:\n",
        "\n",
        "1. Encapsulación: Permiten controlar el acceso a los atributos de un objeto, lo que es un principio importante de la programación orientada a objetos.\n",
        "\n",
        "2. Flexibilidad: Puedes cambiar la implementación interna de la clase sin afectar el código que la utiliza.\n",
        "\n",
        "3. Validación: Puedes añadir lógica adicional, como validación de datos, antes de devolver el valor.\n",
        "\n",
        "4. Formato: Como en este caso, puedes devolver el valor en un formato específico (añadiendo \"Title:\" o \"Author:\" antes del valor).\n",
        "\n",
        "En Python, debido a su filosofía de \"we're all consenting adults here\" (todos somos adultos conscientes), a menudo se accede directamente a los atributos sin usar getters. Sin embargo, Python proporciona el decorador `@property` que permite definir getters de una manera más \"pythonica\".\n",
        "\n",
        "Si quisiéramos reescribir la clase usando propiedades de Python, podría verse así:\n",
        "\n",
        "```python\n",
        "class Book:\n",
        "    def __init__(self, title, author):\n",
        "        self._title = title\n",
        "        self._author = author\n",
        "    \n",
        "    @property\n",
        "    def title(self):\n",
        "        return f\"Title: {self._title}\"\n",
        "    \n",
        "    @property\n",
        "    def author(self):\n",
        "        return f\"Author: {self._author}\"\n",
        "\n",
        "# Uso\n",
        "book = Book(\"1984\", \"George Orwell\")\n",
        "print(book.title)  # Imprime: Title: 1984\n",
        "print(book.author)  # Imprime: Author: George Orwell\n",
        "```\n",
        "\n",
        "En este caso, `title` y `author` se comportan como atributos cuando se accede a ellos, pero en realidad son métodos que pueden contener lógica adicional."
      ],
      "metadata": {
        "id": "r3qcWZC8V2Uu"
      }
    },
    {
      "cell_type": "markdown",
      "source": [
        "## Reto 532: Calcular el Precio Total de la Compra\n",
        "* Calculate the Total Price of Groceries\n",
        "* Crea una función que tome una lista de diccionarios (productos) que calcule el precio total y lo devuelva como un número. Un diccionario de producto tiene un producto, una cantidad y un precio, por ejemplo:\n",
        "\n",
        "```\n",
        "{\n",
        "  \"producto\": \"Leche\",\n",
        "  \"cantidad\": 1,\n",
        "  \"precio\": 1.50\n",
        "}\n",
        "```\n",
        "\n",
        "**Ejemplos**\n",
        "\n",
        "```\n",
        "#1 botella de leche:\n",
        "obtener_precio_total([\n",
        "  { \"producto\": \"Leche\", \"cantidad\": 1, \"precio\": 1.50 }\n",
        "]) ➞ 1.5\n",
        "\n",
        "#1 botella de leche y 1 caja de cereales:\n",
        "obtener_precio_total([\n",
        "  { \"producto\": \"Leche\", \"cantidad\": 1, \"precio\": 1.50 },\n",
        "  { \"producto\": \"Cereales\", \"cantidad\": 1, \"precio\": 2.50 }\n",
        "]) ➞ 4\n",
        "\n",
        "#3 botellas de leche:\n",
        "obtener_precio_total([\n",
        "  { \"producto\": \"Leche\", \"cantidad\": 3, \"precio\": 1.50 }\n",
        "]) ➞ 4.5\n",
        "\n",
        "#Varios productos:\n",
        "obtener_precio_total([\n",
        "  { \"producto\": \"Leche\", \"cantidad\": 1, \"precio\": 1.50 },\n",
        "  { \"producto\": \"Huevos\", \"cantidad\": 12, \"precio\": 0.10 },\n",
        "  { \"producto\": \"Pan\", \"cantidad\": 2, \"precio\": 1.60 },\n",
        "  { \"producto\": \"Queso\", \"cantidad\": 1, \"precio\": 4.50 }\n",
        "]) ➞ 10.4\n",
        "\n",
        "#Algunos dulces baratos:\n",
        "obtener_precio_total([\n",
        "  { \"producto\": \"Chocolate\", \"cantidad\": 1, \"precio\": 0.10 },\n",
        "  { \"producto\": \"Paleta\", \"cantidad\": 1, \"precio\": 0.20 }\n",
        "]) ➞ 0.3\n",
        "```\n",
        "\n",
        "* **Notas**\n",
        "    - Puede haber un problema de precisión de punto flotante aquí..."
      ],
      "metadata": {
        "id": "ltitQmDRKKZa"
      }
    },
    {
      "cell_type": "code",
      "source": [
        "# Método 1\n",
        "def obtener_precio_total(productos):\n",
        "    total = sum(producto[\"cantidad\"] * producto[\"precio\"] for producto in productos)\n",
        "    return round(total, 2)"
      ],
      "metadata": {
        "id": "yOxHyMbxKKZa"
      },
      "execution_count": null,
      "outputs": []
    },
    {
      "cell_type": "code",
      "source": [
        "# Caso 1: 1 botella de leche\n",
        "print(obtener_precio_total([\n",
        "    {\"producto\": \"Leche\", \"cantidad\": 1, \"precio\": 1.50}\n",
        "]))  # Debería imprimir 1.5\n",
        "\n",
        "# Caso 2: 1 botella de leche y 1 caja de cereales\n",
        "print(obtener_precio_total([\n",
        "    {\"producto\": \"Leche\", \"cantidad\": 1, \"precio\": 1.50},\n",
        "    {\"producto\": \"Cereales\", \"cantidad\": 1, \"precio\": 2.50}\n",
        "]))  # Debería imprimir 4.0\n",
        "\n",
        "# Caso 3: 3 botellas de leche\n",
        "print(obtener_precio_total([\n",
        "    {\"producto\": \"Leche\", \"cantidad\": 3, \"precio\": 1.50}\n",
        "]))  # Debería imprimir 4.5\n",
        "\n",
        "# Caso 4: Varios productos\n",
        "print(obtener_precio_total([\n",
        "    {\"producto\": \"Leche\", \"cantidad\": 1, \"precio\": 1.50},\n",
        "    {\"producto\": \"Huevos\", \"cantidad\": 12, \"precio\": 0.10},\n",
        "    {\"producto\": \"Pan\", \"cantidad\": 2, \"precio\": 1.60},\n",
        "    {\"producto\": \"Queso\", \"cantidad\": 1, \"precio\": 4.50}\n",
        "]))  # Debería imprimir 10.4\n",
        "\n",
        "# Caso 5: Algunos dulces baratos\n",
        "print(obtener_precio_total([\n",
        "    {\"producto\": \"Chocolate\", \"cantidad\": 1, \"precio\": 0.10},\n",
        "    {\"producto\": \"Paleta\", \"cantidad\": 1, \"precio\": 0.20}\n",
        "]))  # Debería imprimir 0.3"
      ],
      "metadata": {
        "id": "q7bgTLszKKZa",
        "colab": {
          "base_uri": "https://localhost:8080/"
        },
        "outputId": "a17f3e0b-f36a-4b25-a5b8-a31757f8a8f2"
      },
      "execution_count": null,
      "outputs": [
        {
          "output_type": "stream",
          "name": "stdout",
          "text": [
            "1.5\n",
            "4.0\n",
            "4.5\n",
            "10.4\n",
            "0.3\n"
          ]
        }
      ]
    },
    {
      "cell_type": "markdown",
      "source": [
        "## Reto 533: Cuadrados y Cubos\n",
        "* Squares and Cubes\n",
        "* Crea una función que tome una lista de dos números y verifique si la **raíz cuadrada** del primer número es igual a la **raíz cúbica** del segundo número.\n",
        "\n",
        "**Ejemplos**\n",
        "\n",
        "```\n",
        "check_square_and_cube([4, 8])        ➞ True\n",
        "check_square_and_cube([9, 27])       ➞ True\n",
        "check_square_and_cube([16, 64])      ➞ True\n",
        "check_square_and_cube([100, 1000])   ➞ True\n",
        "check_square_and_cube([441, 9261])   ➞ True\n",
        "check_square_and_cube([2, 3])        ➞ False\n",
        "```\n",
        "\n",
        "* **Notas**\n",
        "    - Recuerda devolver `True` o `False`.\n",
        "    - Todas las listas contienen *dos números positivos*."
      ],
      "metadata": {
        "id": "a42FhwZTKKgy"
      }
    },
    {
      "cell_type": "code",
      "source": [
        "# Método 1\n",
        "def check_square_and_cube(lst):\n",
        "    a, b = lst\n",
        "    return a ** 3 == b ** 2\n",
        "\n",
        "# Método 2\n",
        "import math\n",
        "\n",
        "def check_square_and_cube(lista):\n",
        "    if len(lista) != 2:\n",
        "        return False\n",
        "\n",
        "    raiz_cuadrada = math.sqrt(lista[0])\n",
        "    raiz_cubica = math.pow(lista[1], 1/3)\n",
        "\n",
        "    return math.isclose(raiz_cuadrada, raiz_cubica)\n",
        "\n",
        "# Método 3. Usando NumPy\n",
        "import numpy as np\n",
        "\n",
        "def check_square_and_cube(lista):\n",
        "    if len(lista) != 2:\n",
        "        return False\n",
        "\n",
        "    raiz_cuadrada = np.sqrt(lista[0])\n",
        "    raiz_cubica = np.cbrt(lista[1])\n",
        "\n",
        "    return np.isclose(raiz_cuadrada, raiz_cubica)"
      ],
      "metadata": {
        "id": "weROzSbxKKgy"
      },
      "execution_count": null,
      "outputs": []
    },
    {
      "cell_type": "code",
      "source": [
        "print(check_square_and_cube([4, 8]))        # True\n",
        "print(check_square_and_cube([9, 27]))       # True\n",
        "print(check_square_and_cube([16, 64]))      # True\n",
        "print(check_square_and_cube([100, 1000]))   # True\n",
        "print(check_square_and_cube([441, 9261]))   # True\n",
        "print(check_square_and_cube([2, 3]))        # False"
      ],
      "metadata": {
        "id": "XeJ_yYXsKKgy",
        "colab": {
          "base_uri": "https://localhost:8080/"
        },
        "outputId": "54cb9ba7-4bdc-4a27-db94-176e0fea1242"
      },
      "execution_count": null,
      "outputs": [
        {
          "output_type": "stream",
          "name": "stdout",
          "text": [
            "True\n",
            "True\n",
            "True\n",
            "True\n",
            "True\n",
            "False\n"
          ]
        }
      ]
    },
    {
      "cell_type": "markdown",
      "source": [
        "## Reto 534: Haciendo una Cuenta Regresiva\n",
        "* Making a Countdown\n",
        "* Crea una función countdown donde, dado el *número* `n` desde el cual hacer la cuenta regresiva y *algunas palabras* `txt`, devuelva una secuencia de cuenta regresiva como una cadena de texto que conduzca a las palabras al final.\n",
        "* Pon un **punto** después de cada número y **pon en mayúsculas** y agrega un **signo de exclamación** a la palabra.\n",
        "\n",
        "* **Ejemplos**\n",
        "\n",
        "```\n",
        "countdown(10, \"Blast Off\") ➞ \"10. 9. 8. 7. 6. 5. 4. 3. 2. 1. BLAST OFF!\"\n",
        "countdown(3, \"go\") ➞ \"3. 2. 1. GO!\"\n",
        "countdown(5, \"FIRE\") ➞ \"5. 4. 3. 2. 1. FIRE!\"\n",
        "```\n",
        "\n",
        "* **Notas**\n",
        "* `n` será un número mayor que 0.\n",
        "* `txt` no incluirá ya un signo de exclamación.\n",
        "* No incluyas el **0** en la cuenta regresiva."
      ],
      "metadata": {
        "id": "PW3dG2GVKKnj"
      }
    },
    {
      "cell_type": "code",
      "source": [
        "# Método 1\n",
        "def countdown(n, txt):\n",
        "    return '. '.join(str(i) for i in range(n,0,-1)) + '. ' + txt.upper() + '!'\n",
        "\n",
        "# Método 2\n",
        "def countdown(n, txt):\n",
        "    countdown_sequence = '. '.join(str(i) for i in range(n, 0, -1))\n",
        "    return f\"{countdown_sequence}. {txt.upper()}!\""
      ],
      "metadata": {
        "id": "Xa8nKq5aKKnj"
      },
      "execution_count": null,
      "outputs": []
    },
    {
      "cell_type": "code",
      "source": [
        "print(countdown(10, \"Blast Off\"))\n",
        "print(countdown(3, \"go\"))\n",
        "print(countdown(5, \"FIRE\"))\n",
        "print(countdown(6, \"happy new year\"))"
      ],
      "metadata": {
        "id": "mrkDblQcKKnj",
        "colab": {
          "base_uri": "https://localhost:8080/"
        },
        "outputId": "0431058d-3607-490b-9894-2988101f67fa"
      },
      "execution_count": null,
      "outputs": [
        {
          "output_type": "stream",
          "name": "stdout",
          "text": [
            "10. 9. 8. 7. 6. 5. 4. 3. 2. 1. BLAST OFF!\n",
            "3. 2. 1. GO!\n",
            "5. 4. 3. 2. 1. FIRE!\n",
            "6. 5. 4. 3. 2. 1. HAPPY NEW YEAR!\n"
          ]
        }
      ]
    },
    {
      "cell_type": "markdown",
      "source": [
        "## Reto 535: Pedidos Costosos\n",
        "* Expensive Orders\n",
        "* Escribe una función que tenga dos parámetros: `orders` y `cost`.\n",
        "* Devuelve cualquier pedido que sea mayor que el costo.\n",
        "\n",
        "* **Ejemplos**\n",
        "\n",
        "```\n",
        "expensive_orders({ \"a\": 3000, \"b\": 200, \"c\": 1050 }, 1000)\n",
        "➞ { \"a\": 3000, \"c\": 1050 }\n",
        "\n",
        "expensive_orders({ \"Abrigo de piel Gucci\": 24600, \"Mesa de comedor de teca\": 3200, \"Bolso Louis Vuitton\": 5550, \"Tacones Dolce Gabbana\": 4000 }, 20000)\n",
        "➞ { \"Abrigo de piel Gucci\": 24600 }\n",
        "\n",
        "expensive_orders({ \"Hamburguesa Deluxe\": 35, \"Batido de helado\": 4, \"Papas fritas\": 5 }, 40)\n",
        "➞ {}\n",
        "```"
      ],
      "metadata": {
        "id": "s4LZ29zOKKtx"
      }
    },
    {
      "cell_type": "code",
      "source": [
        "# Método 1\n",
        "def expensive_orders(orders, cost):\n",
        "    return {k: v for k, v in orders.items() if v > cost}\n",
        "\n",
        "# Método 2\n",
        "def expensive_orders(orders, cost):\n",
        "    result = {}\n",
        "    for item, price in orders.items():\n",
        "        if price > cost:\n",
        "            result[item] = price\n",
        "    return result\n",
        "\n",
        "# Método 3\n",
        "def expensive_orders(orders, cost):\n",
        "    return dict(filter(lambda x: x[1] > cost, orders.items()))\n",
        "\n",
        "# Método 4\n",
        "def expensive_orders(orders, cost):\n",
        "    keys = orders.keys()\n",
        "    values = orders.values()\n",
        "    result = dict(zip(keys, map(lambda x: x if x > cost else None, values)))\n",
        "    return {k: v for k, v in result.items() if v is not None}\n",
        "\n",
        "# Método 5. Con Pandas convirtiendo el diccionario en un Data Frame\n",
        "import pandas as pd\n",
        "\n",
        "def expensive_orders(orders, cost):\n",
        "    # Convertir el diccionario a DataFrame\n",
        "    df = pd.DataFrame.from_dict(orders, orient='index', columns=['price'])\n",
        "\n",
        "    # Filtrar los pedidos costosos\n",
        "    expensive = df[df['price'] > cost]\n",
        "\n",
        "    # Convertir el resultado de vuelta a diccionario\n",
        "    return expensive['price'].to_dict()"
      ],
      "metadata": {
        "id": "khpCuV6QKKtx"
      },
      "execution_count": null,
      "outputs": []
    },
    {
      "cell_type": "code",
      "source": [
        "print(expensive_orders({ \"a\": 3000, \"b\": 200, \"c\": 1050 }, 1000))\n",
        "# Salida: { \"a\": 3000, \"c\": 1050 }\n",
        "\n",
        "print(expensive_orders({ \"Gucci Fur\": 24600, \"Teak Dining Table\": 3200, \"Louis Vutton Bag\": 5550, \"Dolce Gabana Heels\": 4000 }, 20000))\n",
        "# Salida: { \"Gucci Fur\": 24600 }\n",
        "\n",
        "print(expensive_orders({ \"Deluxe Burger\": 35, \"Icecream Shake\": 4, \"Fries\": 5 }, 40))\n",
        "# Salida: {}"
      ],
      "metadata": {
        "id": "HqqVth6vKKtx",
        "colab": {
          "base_uri": "https://localhost:8080/"
        },
        "outputId": "cf2ebf98-88b2-443e-f9ce-acd8e31d08fb"
      },
      "execution_count": null,
      "outputs": [
        {
          "output_type": "stream",
          "name": "stdout",
          "text": [
            "{'a': 3000, 'c': 1050}\n",
            "{'Gucci Fur': 24600}\n",
            "{}\n"
          ]
        }
      ]
    },
    {
      "cell_type": "markdown",
      "source": [
        "## Reto 536: La Prueba Fizz Buzz\n",
        "* The Fizz Buzz Test\n",
        "* Escribe un programa que devuelva una lista de todos los números del 1 hasta un argumento entero (n).\n",
        "* Pero para los múltiplos de tres usa \"Fizz\" en lugar del número y para los múltiplos de cinco usa \"Buzz\". Para los números que son múltiplos de tres y cinco usa \"FizzBuzz\".\n",
        "\n",
        "* **Ejemplo**\n",
        "\n",
        "```\n",
        "fizz_buzz(10) ➞ [1, 2, \"Fizz\", 4, \"Buzz\", \"Fizz\", 7, 8, \"Fizz\", \"Buzz\"]\n",
        "\n",
        "fizz_buzz(15) ➞ [1, 2, \"Fizz\", 4, \"Buzz\", \"Fizz\", 7, 8, \"Fizz\", \"Buzz\", 11, \"Fizz\", 13, 14, \"FizzBuzz\"]\n",
        "```\n",
        "\n",
        "* **Notas**\n",
        "    - Asegúrate de `devolver` una lista."
      ],
      "metadata": {
        "id": "VFFIzH2dKK0H"
      }
    },
    {
      "cell_type": "code",
      "source": [
        "# Método 1\n",
        "def fizz_buzz(n):\n",
        "    result = []\n",
        "    for i in range(1, n + 1):\n",
        "        if i % 3 == 0 and i % 5 == 0:\n",
        "            result.append(\"FizzBuzz\")\n",
        "        elif i % 3 == 0:\n",
        "            result.append(\"Fizz\")\n",
        "        elif i % 5 == 0:\n",
        "            result.append(\"Buzz\")\n",
        "        else:\n",
        "            result.append(i)\n",
        "    return result\n",
        "\n",
        "# Método 2. Múltiplos de 15\n",
        "def fizz_buzz(n):\n",
        "    result = []\n",
        "    for i in range(1, n + 1):\n",
        "        if i % 15 == 0:\n",
        "            result.append(\"FizzBuzz\")\n",
        "        elif i % 3 == 0:\n",
        "            result.append(\"Fizz\")\n",
        "        elif i % 5 == 0:\n",
        "            result.append(\"Buzz\")\n",
        "        else:\n",
        "            result.append(i)\n",
        "    return result\n",
        "\n",
        "# Método 3\n",
        "def fizz_buzz(n):\n",
        "    return [\"FizzBuzz\" if i % 15 == 0 else \"Fizz\" if i % 3 == 0 else \"Buzz\" if i % 5 == 0 else i for i in range(1, n + 1)]"
      ],
      "metadata": {
        "id": "W1LYOLY-KK0H"
      },
      "execution_count": null,
      "outputs": []
    },
    {
      "cell_type": "code",
      "source": [
        "print(fizz_buzz(3))\n",
        "print(fizz_buzz(10))\n",
        "print(fizz_buzz(15))\n",
        "print(fizz_buzz(20))"
      ],
      "metadata": {
        "id": "-V3auLj3KK0H",
        "colab": {
          "base_uri": "https://localhost:8080/"
        },
        "outputId": "2471c03d-7d0e-48b5-a949-3dae4cc780bb"
      },
      "execution_count": null,
      "outputs": [
        {
          "output_type": "stream",
          "name": "stdout",
          "text": [
            "[1, 2, 'Fizz']\n",
            "[1, 2, 'Fizz', 4, 'Buzz', 'Fizz', 7, 8, 'Fizz', 'Buzz']\n",
            "[1, 2, 'Fizz', 4, 'Buzz', 'Fizz', 7, 8, 'Fizz', 'Buzz', 11, 'Fizz', 13, 14, 'FizzBuzz']\n",
            "[1, 2, 'Fizz', 4, 'Buzz', 'Fizz', 7, 8, 'Fizz', 'Buzz', 11, 'Fizz', 13, 14, 'FizzBuzz', 16, 17, 'Fizz', 19, 'Buzz']\n"
          ]
        }
      ]
    },
    {
      "cell_type": "markdown",
      "source": [
        "## Reto 537: Billete de lotería\n",
        "* Lottery Ticket\n",
        "* Dado un boleto de lotería (ticket), representado por una lista de listas de 2 valores, crea una función para determinar si has ganado el premio mayor.\n",
        "* Para hacer esto, primero debes contar las \"mini-victorias\" en tu boleto. Cada sublista tiene una cadena de texto y un número dentro de ella. Si el código de carácter de alguno de los caracteres en la cadena coincide con el número, obtienes una mini-victoria. Nota que solo puedes tener una mini-victoria por sublista.\n",
        "\n",
        "* Una vez que hayas contado todas tus mini-victorias, compara ese número con el otro valor proporcionado (win). Si tu número de mini-victorias es mayor o igual a win, retorna \"¡Ganador!\". De lo contrario, retorna \"¡Perdedor!\".\n",
        "\n",
        "* **Ejemplos**\n",
        "```python\n",
        "lottery([[\"YYW\", 70], [\"WXK\", 65], [\"RPDI\", 88]], 2)\n",
        "➞ \"¡Perdedor!\"\n",
        "lottery([[\"KG\", 80], [\"NTBBVZ\", 79], [\"CI\", 73], [\"AGXMEE\", 74], [\"IU\", 68], [\"VOSP\", 84]], 1)\n",
        "➞ \"¡Ganador!\"\n",
        "lottery([[\"ZSAMZB\", 81], [\"XWWCXP\", 72], [\"SYBRQOHP\", 88], [\"HJSVV\", 75]], 1)\n",
        "➞ \"¡Perdedor!\"\n",
        "```\n",
        "* **Notas**\n",
        "- Todas las entradas estarán en el formato correcto.\n",
        "- Las cadenas de texto en el boleto no siempre tienen la misma longitud."
      ],
      "metadata": {
        "id": "w5B5Xs4dKK6d"
      }
    },
    {
      "cell_type": "code",
      "source": [
        "# Método 1\n",
        "def lottery(ticket, win):\n",
        "    mini_victorias = 0\n",
        "    for pareja in ticket:\n",
        "        texto, numero = pareja\n",
        "        texto = ''.join(set(texto)) # elimina letras duplicadas\n",
        "        for letra in texto:\n",
        "            if ord(letra) == numero:\n",
        "                mini_victorias += 1\n",
        "    return \"¡Ganador!\" if mini_victorias >= win else \"¡Perdedor!\"\n",
        "\n",
        "# Método 2\n",
        "def lottery(ticket, win):\n",
        "    mini_wins = 0\n",
        "    for sublist in ticket:\n",
        "        string, number = sublist\n",
        "        for char in string:\n",
        "            if ord(char) == number:\n",
        "                mini_wins += 1\n",
        "                break  # Solo una mini-victoria por sublista\n",
        "    return \"¡Ganador!\" if mini_wins >= win else \"¡Perdedor!\"\n",
        "\n",
        "# Método 3\n",
        "def lottery(ticket, win):\n",
        "    mini_wins = sum(1 for string, number in ticket if any(ord(char) == number for char in string))\n",
        "    return \"¡Ganador!\" if mini_wins >= win else \"¡Perdedor!\""
      ],
      "metadata": {
        "id": "uv9pl1aFKK6d"
      },
      "execution_count": null,
      "outputs": []
    },
    {
      "cell_type": "code",
      "source": [
        "print(lottery([[\"YYW\", 70], [\"WXK\", 65], [\"RPDI\", 88]], 2))  # \"¡Perdedor!\"\n",
        "print(lottery([[\"KG\", 80], [\"NTBBVZ\", 79], [\"CI\", 73], [\"AGXMEE\", 74], [\"IU\", 68], [\"VOSP\", 84]], 1))  # \"¡Ganador!\"\n",
        "print(lottery([[\"ZSAMZB\", 81], [\"XWWCXP\", 72], [\"SYBRQOHP\", 88], [\"HJSVV\", 75]], 1))  # \"¡Perdedor!\""
      ],
      "metadata": {
        "id": "mYErrFgIKK6e",
        "colab": {
          "base_uri": "https://localhost:8080/"
        },
        "outputId": "1d0d7799-ff73-4903-d246-42ce2855f2f3"
      },
      "execution_count": null,
      "outputs": [
        {
          "output_type": "stream",
          "name": "stdout",
          "text": [
            "¡Perdedor!\n",
            "¡Ganador!\n",
            "¡Perdedor!\n"
          ]
        }
      ]
    },
    {
      "cell_type": "markdown",
      "source": [
        "## Reto 538: Censurar palabras de más de cuatro caracteres\n",
        "* Censor Words Longer Than Four Characters\n",
        "* Crea una función que tome una cadena y censure las palabras **de más de cuatro caracteres** con `*`.\n",
        "\n",
        "* **Ejemplos**\n",
        "\n",
        "```\n",
        "censor(\"The code is fourty\")         # The code is ******\n",
        "censor(\"Two plus three is five\")     # Two plus ***** is five\n",
        "censor(\"aaaa aaaaa 1234 12345\")      # aaaa ***** 1234 *****\n",
        "censor(\"La Pass es secreto\")         # La Pass es *******\n",
        "censor(\"El oro está en Málaga\")      # El oro está en ******\n",
        "censor(\"Juan gana cien mil rutpias\") # Juan gana cien mil *******\n",
        "```\n",
        "\n",
        "* **Notas**\n",
        "    - No censures palabras con exactamente cuatro caracteres.\n",
        "    - Si todas las palabras tienen cuatro caracteres o menos, devuelve la cadena original.\n",
        "    - La cantidad de `*` es la misma que la longitud de la palabra."
      ],
      "metadata": {
        "id": "YqPFE6tBKLAz"
      }
    },
    {
      "cell_type": "code",
      "source": [
        "# Método 1\n",
        "def censor(s):\n",
        "    lista = s.split()\n",
        "    for i, palabra in enumerate(lista):\n",
        "        if len(palabra) > 4:\n",
        "            lista[i] = '*' * len(palabra)\n",
        "    return ' '.join(lista)\n",
        "\n",
        "# Método 2\n",
        "def censor(texto):\n",
        "    palabras = texto.split()\n",
        "    censuradas = ['*' * len(palabra) if len(palabra) > 4 else palabra for palabra in palabras]\n",
        "    return ' '.join(censuradas)\n",
        "\n",
        "# Método 3\n",
        "def censor(texto):\n",
        "    palabras = texto.split()\n",
        "    for palabra in palabras:\n",
        "        if len(palabra) > 4:\n",
        "            texto = texto.replace(palabra, '*' * len(palabra))\n",
        "    return texto"
      ],
      "metadata": {
        "id": "QKWCLjZDKLAz"
      },
      "execution_count": null,
      "outputs": []
    },
    {
      "cell_type": "code",
      "source": [
        "print(censor(\"The code is fourty\"))         # The code is ******\n",
        "print(censor(\"Two plus three is five\"))     # Two plus ***** is five\n",
        "print(censor(\"aaaa aaaaa 1234 12345\"))      # aaaa ***** 1234 *****\n",
        "print(censor(\"La Pass es secreto\"))         # La Pass es *******\n",
        "print(censor(\"El oro está en Málaga\"))      # El oro está en ******\n",
        "print(censor(\"Juan gana cien mil rutpias\")) # Juan gana cien mil *******"
      ],
      "metadata": {
        "id": "P2h7syGAKLAz",
        "colab": {
          "base_uri": "https://localhost:8080/"
        },
        "outputId": "aa29e84b-fcd2-4090-88dd-22fa6b17e6af"
      },
      "execution_count": null,
      "outputs": [
        {
          "output_type": "stream",
          "name": "stdout",
          "text": [
            "The code is ******\n",
            "Two plus ***** is five\n",
            "aaaa ***** 1234 *****\n",
            "La Pass es *******\n",
            "El oro está en ******\n",
            "Juan gana cien mil *******\n"
          ]
        }
      ]
    },
    {
      "cell_type": "markdown",
      "source": [
        "## Reto 539: Desafío de Codificación Inversa\n",
        "* Reverse Coding Challenge #6\n",
        "* Mira los ejemplos para averiguar lo que debe hacer tu función.\n",
        "\n",
        "* **Ejemplos**\n",
        "\n",
        "```\n",
        "función_misteriosa(152) ➞ 10\n",
        "función_misteriosa(832) ➞ 48\n",
        "función_misteriosa(19) ➞ 9\n",
        "función_misteriosa(133) ➞ 9\n",
        "```"
      ],
      "metadata": {
        "id": "6Wn7DnokKLIM"
      }
    },
    {
      "cell_type": "code",
      "source": [
        "# Método 1\n",
        "def funcion_misteriosa(n):\n",
        "    # Convertir el número a string para poder iterar sobre sus dígitos\n",
        "    str_n = str(n)\n",
        "\n",
        "    # Inicializar el resultado\n",
        "    resultado = 1\n",
        "\n",
        "    # Multiplicar todos los dígitos no nulos\n",
        "    for digito in str_n:\n",
        "        if digito != '0':\n",
        "            resultado *= int(digito)\n",
        "\n",
        "    return resultado\n",
        "\n",
        "# Método 2. Sin usar str\n",
        "def funcion_misteriosa(n):\n",
        "    if n == 0:\n",
        "        return 0\n",
        "\n",
        "    resultado = 1\n",
        "    while n > 0:\n",
        "        digito = n % 10\n",
        "        if digito != 0:\n",
        "            resultado *= digito\n",
        "        n //= 10\n",
        "\n",
        "    return resultado"
      ],
      "metadata": {
        "id": "nmM2H56-KLIN"
      },
      "execution_count": null,
      "outputs": []
    },
    {
      "cell_type": "code",
      "source": [
        "print(funcion_misteriosa(152))  # 10\n",
        "print(funcion_misteriosa(832))  # 48\n",
        "print(funcion_misteriosa(19))   # 9\n",
        "print(funcion_misteriosa(133))  # 9"
      ],
      "metadata": {
        "id": "ER1D-sOMKLIN",
        "colab": {
          "base_uri": "https://localhost:8080/"
        },
        "outputId": "b63e448f-622f-40a4-fb25-3eab76c62d28"
      },
      "execution_count": null,
      "outputs": [
        {
          "output_type": "stream",
          "name": "stdout",
          "text": [
            "10\n",
            "48\n",
            "9\n",
            "9\n"
          ]
        }
      ]
    },
    {
      "cell_type": "markdown",
      "source": [
        "## Reto 540: Contar un Dígito Específico\n",
        "* Count a Specific Digit\n",
        "* Escribe una función que cuente el número de veces que aparece un dígito específico en un rango (**inclusivo**). La función se verá así:\n",
        "\n",
        "```\n",
        "ocurrencias_digito(inicio, fin, digito) ➞ número de veces que aparece el dígito\n",
        "```\n",
        "\n",
        "* **Ejemplos**\n",
        "\n",
        "```\n",
        "digit_occurrences(51, 55, 5) ➞ 6\n",
        "#[51, 52, 53, 54, 55] : 5 aparece 6 veces\n",
        "digit_occurrences(1, 8, 9) ➞ 0\n",
        "digit_occurrences(-8, -1, 8) ➞ 1\n",
        "digit_occurrences(71, 77, 2) ➞ 1\n",
        "```\n",
        "\n",
        "* **Notas**\n",
        "    -  Los rangos pueden ser negativos.\n",
        "    - `inicio <= fin`\n"
      ],
      "metadata": {
        "id": "OIidk6MOKLPk"
      }
    },
    {
      "cell_type": "code",
      "source": [
        "# Método 1\n",
        "def digit_occurrences(start, end, digit):\n",
        "    count = 0\n",
        "    for i in range(start, end + 1):\n",
        "        count += str(i).count(str(digit))\n",
        "    return count\n",
        "\n",
        "# Método 2\n",
        "def digit_occurrences(start, end, digit):\n",
        "    count = 0\n",
        "    for i in range(start, end + 1):\n",
        "        count += str(abs(i)).count(str(digit))\n",
        "    return count\n",
        "\n",
        "# Método 3\n",
        "def digit_occurrences(start, end, digit):\n",
        "    return sum(str(abs(num)).count(str(digit)) for num in range(start, end + 1))\n",
        "\n",
        "# Método 4. Sin usar str\n",
        "def digit_occurrences(start, end, digit):\n",
        "    count = 0\n",
        "    for num in range(start, end + 1):\n",
        "        n = abs(num)\n",
        "        if n == 0 and digit == 0:\n",
        "            count += 1\n",
        "        while n > 0:\n",
        "            if n % 10 == digit:\n",
        "                count += 1\n",
        "            n //= 10\n",
        "    return count"
      ],
      "metadata": {
        "id": "FDDJ9fSOKLPk"
      },
      "execution_count": null,
      "outputs": []
    },
    {
      "cell_type": "code",
      "source": [
        "print(digit_occurrences(51, 55, 5))     # 6\n",
        "print(digit_occurrences(1, 8, 9))       # 0\n",
        "print(digit_occurrences(-8, -1, 8))     # 1\n",
        "print(digit_occurrences(71, 77, 2))     # 1"
      ],
      "metadata": {
        "id": "yrQw27_PKLPk",
        "colab": {
          "base_uri": "https://localhost:8080/"
        },
        "outputId": "e3e9fd72-5ba2-4d6b-f1c7-10d72d73b51b"
      },
      "execution_count": null,
      "outputs": [
        {
          "output_type": "stream",
          "name": "stdout",
          "text": [
            "6\n",
            "0\n",
            "1\n",
            "1\n"
          ]
        }
      ]
    },
    {
      "cell_type": "markdown",
      "source": [
        "## Reto 541: Pares de Cadenas\n",
        "* String Pairs\n",
        "* Crea una función llamada `string_pairs` que tome una cadena `s` y devuelva una lista de caracteres emparejados de dos en dos.\n",
        "* Si la cadena tiene un número impar de caracteres, agrega un asterisco `*` en el par final.\n",
        "\n",
        "* **Ejemplos**\n",
        "\n",
        "```\n",
        "string_pairs(\"rana\") ➞ [\"ra\", \"na\"]\n",
        "string_pairs(\"mirada\") ➞ [\"mi\", \"ra\", \"da\"]\n",
        "string_pairs(\"natural\") ➞ [\"na\", \"tu\", \"ra\", \"l*\"]\n",
        "string_pairs(\"\") ➞ []\n",
        "```\n",
        "\n",
        "* **Notas**\n",
        "    - Devuelve `[]` si la cadena dada está vacía."
      ],
      "metadata": {
        "id": "zBwUd6u1Kda2"
      }
    },
    {
      "cell_type": "code",
      "source": [
        "# Método 1\n",
        "def string_pairs(s):\n",
        "    lista = []\n",
        "    for i in range(0, len(s)-1, 2):\n",
        "        lista.append(s[i] + s[i+1])\n",
        "    if len(s) % 2:\n",
        "        lista.append(s[-1] + '*')\n",
        "    return lista\n",
        "\n",
        "# Método 2:\n",
        "def string_pairs(s):\n",
        "    lista = []\n",
        "    for i in range(0, len(s), 2):\n",
        "        if i + 1 < len(s):\n",
        "            lista.append(s[i:i+2])\n",
        "        else:\n",
        "            lista.append(s[i] + '*')\n",
        "    return lista\n",
        "\n",
        "# Método 3: Usando list comprehension y el operador ternario\n",
        "def string_pairs(s):\n",
        "    return [s[i:i+2] if i+1 < len(s) else s[i]+'*' for i in range(0, len(s), 2)] if s else []\n",
        "\n",
        "# Método 4. Usando zip\n",
        "def string_pairs(s):\n",
        "    # Crear pares usando zip, emparejando elementos de la cadena y desplazando uno para los segundos elementos\n",
        "    pares = [a + b for a, b in zip(s[::2], s[1::2])]\n",
        "\n",
        "    # Si la longitud de la cadena es impar, agregar el último carácter con un '*'\n",
        "    if len(s) % 2 != 0:\n",
        "        pares.append(s[-1] + '*')\n",
        "\n",
        "    return pares\n",
        "\n",
        "# Método 5\n",
        "def string_pairs(s):\n",
        "    # Generar pares de caracteres con una list comprehension\n",
        "    pares = [s[start:start+2] for start in range(0, len(s), 2)]\n",
        "\n",
        "    # Si el último par tiene solo un carácter (cadena impar), añade un '*'\n",
        "    if len(s) % 2 != 0:\n",
        "        pares[-1] += '*'\n",
        "\n",
        "    return pares\n"
      ],
      "metadata": {
        "id": "w0XM8KGMKda2"
      },
      "execution_count": null,
      "outputs": []
    },
    {
      "cell_type": "code",
      "source": [
        "print(string_pairs(\"rana\"))     # [\"ra\", \"na\"]\n",
        "print(string_pairs(\"mirada\"))   # [\"mi\", \"ra\", \"da\"]\n",
        "print(string_pairs(\"natural\"))  # [\"na\", \"tu\", \"ra\", \"l*\"]\n",
        "print(string_pairs(\"\"))         # []"
      ],
      "metadata": {
        "id": "PL9FDFyUKda2",
        "colab": {
          "base_uri": "https://localhost:8080/"
        },
        "outputId": "90173a48-84b2-4a98-ee71-45a858c82af7"
      },
      "execution_count": null,
      "outputs": [
        {
          "output_type": "stream",
          "name": "stdout",
          "text": [
            "['ra', 'na']\n",
            "['mi', 'ra', 'da']\n",
            "['na', 'tu', 'ra', 'l*']\n",
            "[]\n"
          ]
        }
      ]
    },
    {
      "cell_type": "markdown",
      "source": [
        "## Reto 542: ¿Caja completamente llena?\n",
        "* Box Completely Filled?\n",
        "* Crea una función que verifique si la caja está completamente llena con el símbolo de asterisco `*`.\n",
        "\n",
        "* **Ejemplos**\n",
        "```python\n",
        "completely_filled([\n",
        "  \"#####\",\n",
        "  \"#***#\",\n",
        "  \"#***#\",\n",
        "  \"#***#\",\n",
        "  \"#####\"\n",
        "]) ➞ True\n",
        "\n",
        "completely_filled([\n",
        "  \"#####\",\n",
        "  \"#* *#\",\n",
        "  \"#***#\",\n",
        "  \"#***#\",\n",
        "  \"#####\"\n",
        "]) ➞ False\n",
        "\n",
        "completely_filled([\n",
        "  \"###\",\n",
        "  \"#*#\",\n",
        "  \"###\"\n",
        "]) ➞ True\n",
        "\n",
        "completely_filled([\n",
        "  \"##\",\n",
        "  \"##\"\n",
        "]) ➞ True\n",
        "```\n",
        "\n",
        "* **Nota**\n",
        "    - Las cajas de tamaño `n <= 2` se consideran automáticamente llenas.\n",
        "    - El espacio vacío siempre será un carácter de espacio (`\" \"`).\n",
        "\n",
        "\n",
        "### Explicación:\n",
        "1. **Tamaño <= 2:** Si la caja es muy pequeña (con un tamaño de `n <= 2`), se considera automáticamente llena.\n",
        "2. **Revisar celdas interiores:** Se revisan todas las filas internas (excepto la primera y la última), y dentro de esas filas, se revisan todas las celdas internas (excepto la primera y la última) para asegurarse de que no haya espacios vacíos (`\" \"`).\n",
        "3. **Resultado:** Si se encuentra un espacio vacío, la función devuelve `False`. Si no se encuentran espacios vacíos, la función devuelve `True`."
      ],
      "metadata": {
        "id": "IkMLgN0uKdjd"
      }
    },
    {
      "cell_type": "code",
      "source": [
        "# Método 1\n",
        "def completely_filled(box):\n",
        "    for row in range(1, len(box)-1):\n",
        "        for col in range(1, len(box[0]) - 1):\n",
        "            if box[row][col] == ' ':\n",
        "                return False\n",
        "    return True\n",
        "\n",
        "# Método 2\n",
        "def completely_filled(box):\n",
        "    # Si la caja tiene un tamaño <= 2, está automáticamente llena\n",
        "    if len(box) <= 2 or len(box[0]) <= 2:\n",
        "        return True\n",
        "\n",
        "    # Revisar cada fila de la caja, excepto la primera y la última\n",
        "    for row in box[1:-1]:\n",
        "        # Revisar cada celda de la fila, excepto la primera y la última\n",
        "        if ' ' in row[1:-1]:\n",
        "            return False\n",
        "\n",
        "    # Si no se encontraron espacios vacíos, la caja está completamente llena\n",
        "    return True\n",
        "\n",
        "# Método 3. Con all\n",
        "def completely_filled(box):\n",
        "    return all(' ' not in row[1:-1] for row in box[1:-1])\n",
        "\n",
        "# Método 3. Con any\n",
        "def completely_filled(box):\n",
        "    return not any(' ' in row[1:-1] for row in box[1:-1])"
      ],
      "metadata": {
        "id": "Kwa_K7Z9Kdje"
      },
      "execution_count": null,
      "outputs": []
    },
    {
      "cell_type": "code",
      "source": [
        "print(completely_filled([\n",
        "  \"#####\",\n",
        "  \"#***#\",\n",
        "  \"#***#\",\n",
        "  \"#***#\",\n",
        "  \"#####\"\n",
        "]))  # True\n",
        "\n",
        "print(completely_filled([\n",
        "  \"#####\",\n",
        "  \"#* *#\",\n",
        "  \"#***#\",\n",
        "  \"#***#\",\n",
        "  \"#####\"\n",
        "]))  # False\n",
        "\n",
        "print(completely_filled([\n",
        "  \"###\",\n",
        "  \"#*#\",\n",
        "  \"###\"\n",
        "]))  # True\n",
        "\n",
        "print(completely_filled([\n",
        "  \"##\",\n",
        "  \"##\"\n",
        "]))  # True"
      ],
      "metadata": {
        "id": "gfNwHXVyKdje",
        "colab": {
          "base_uri": "https://localhost:8080/"
        },
        "outputId": "94f31d75-7aba-4135-e7e1-38207435c002"
      },
      "execution_count": null,
      "outputs": [
        {
          "output_type": "stream",
          "name": "stdout",
          "text": [
            "True\n",
            "False\n",
            "True\n",
            "True\n"
          ]
        }
      ]
    },
    {
      "cell_type": "markdown",
      "source": [
        "## Reto 543: Todo Sobre Expresiones Lambda: Añadiendo Sufijos\n",
        "* All About Lambda Expressions: Adding Suffixes\n",
        "* Escribe una función que devuelva una expresión lambda, la cual transforme su entrada añadiendo un sufijo particular al final.\n",
        "\n",
        "* **Ejemplos**\n",
        "\n",
        "```python\n",
        "add_suffix = lambda suffix: lambda word: word + suffix\n",
        "\n",
        "add_ly = add_suffix(\"ly\")\n",
        "\n",
        "print(add_ly(\"hopeless\"))  # ➞ \"hopelessly\"\n",
        "print(add_ly(\"total\"))     # ➞ \"totally\"\n",
        "\n",
        "add_less = add_suffix(\"less\")\n",
        "\n",
        "print(add_less(\"fear\"))    # ➞ \"fearless\"\n",
        "print(add_less(\"ruth\"))    # ➞ \"ruthless\"\n",
        "```\n"
      ],
      "metadata": {
        "id": "wpBtuBE_KdrQ"
      }
    },
    {
      "cell_type": "code",
      "source": [
        "# Método 1\n",
        "def add_suffix(suffix):\n",
        "    return lambda word: word + suffix\n",
        "\n",
        "# Crear las funciones lambda con los sufijos deseados\n",
        "add_ly = add_suffix(\"ly\")\n",
        "add_less = add_suffix(\"less\")\n",
        "\n",
        "# Método 2\n",
        "# Definir la función add_suffix utilizando una lambda anidada\n",
        "add_suffix = lambda suffix: (lambda word: word + suffix)\n",
        "\n",
        "# Crear las funciones lambda con los sufijos deseados\n",
        "add_ly = add_suffix(\"ly\")\n",
        "add_less = add_suffix(\"less\")"
      ],
      "metadata": {
        "id": "pPkoQMDjKdrR"
      },
      "execution_count": null,
      "outputs": []
    },
    {
      "cell_type": "code",
      "source": [
        "print(add_ly(\"hopeless\"))  # ➞ \"hopelessly\"\n",
        "print(add_ly(\"total\"))     # ➞ \"totally\"\n",
        "\n",
        "print(add_less(\"fear\"))    # ➞ \"fearless\"\n",
        "print(add_less(\"ruth\"))    # ➞ \"ruthless\""
      ],
      "metadata": {
        "id": "wW60bcRwKdrR",
        "colab": {
          "base_uri": "https://localhost:8080/"
        },
        "outputId": "306e3121-986c-4986-9371-6e8ad42345a1"
      },
      "execution_count": null,
      "outputs": [
        {
          "output_type": "stream",
          "name": "stdout",
          "text": [
            "hopelessly\n",
            "totally\n",
            "fearless\n",
            "ruthless\n"
          ]
        }
      ]
    },
    {
      "cell_type": "markdown",
      "source": [
        "#### Comentario\n",
        "Este reto tiene varias finalidades educativas, orientadas a desarrollar habilidades específicas en programación. Se pretende aprender:\n",
        "\n",
        "1. **Uso de Funciones de Orden Superior**:\n",
        "   - **Concepto**: Las funciones de orden superior son aquellas que toman otras funciones como argumentos o que devuelven funciones. En este reto, `add_suffix` es una función de orden superior porque devuelve una función lambda.\n",
        "   - **Objetivo**: Aprender a crear y usar funciones que generan otras funciones, una técnica útil para la programación funcional.\n",
        "\n",
        "2. **Expresiones Lambda**:\n",
        "   - **Concepto**: Las expresiones lambda en Python permiten crear funciones anónimas (sin nombre) de forma concisa. En el reto, se usa una lambda para concatenar el sufijo con la palabra.\n",
        "   - **Objetivo**: Familiarizarse con la sintaxis y uso de expresiones lambda, que son útiles para tareas rápidas y como argumentos para otras funciones.\n",
        "\n",
        "3. **Cierre (Closures)**:\n",
        "   - **Concepto**: Un cierre ocurre cuando una función interna recuerda el entorno en el que fue creada, incluso después de que la función externa haya terminado de ejecutarse. Aquí, la función lambda generada por `add_suffix` recuerda el sufijo que se le pasó.\n",
        "   - **Objetivo**: Entender cómo las funciones internas pueden acceder a variables locales de las funciones externas.\n",
        "\n",
        "4. **Concatenación de Cadenas**:\n",
        "   - **Concepto**: Este reto también refuerza la habilidad para manipular cadenas en Python, específicamente concatenar una cadena (sufijo) al final de otra (palabra).\n",
        "   - **Objetivo**: Practicar la manipulación de cadenas y entender cómo se pueden construir cadenas dinámicamente en función de entradas variables.\n",
        "\n",
        "En resumen, el reto busca fortalecer el entendimiento de conceptos clave de programación funcional y habilidades básicas de manipulación de cadenas en Python."
      ],
      "metadata": {
        "id": "L42lB53ZsY7m"
      }
    },
    {
      "cell_type": "markdown",
      "source": [
        "## Reto 544: Intercambio de Caracteres Dobles\n",
        "* Double Character Swap\n",
        "* Escribe una función para reemplazar todas las instancias del carácter c1 con el carácter c2 y viceversa.\n",
        "\n",
        "* **Ejemplos**  \n",
        "```python\n",
        "double_swap(\"aabbccc\", \"a\", \"b\") ➞ \"bbaaccc\"\n",
        "double_swap(\"random w#rds writt&n h&r&\", \"#\", \"&\") ➞ \"random w&rds writt#n h#r#\"\n",
        "double_swap(\"128 895 556 788 999\", \"8\", \"9\") ➞ \"129 985 556 799 888\"\n",
        "```\n",
        "\n",
        "* **Nota**\n",
        "    - Ambos caracteres aparecerán al menos una vez en la cadena."
      ],
      "metadata": {
        "id": "_7YpcfgHKdyO"
      }
    },
    {
      "cell_type": "code",
      "source": [
        "# Método 1\n",
        "def double_swap(txt, c1, c2):\n",
        "    txt = list(txt) # convertimos el texto en una lista para operar mejor\n",
        "    for i, char in enumerate(txt):\n",
        "        if char == c2:\n",
        "            txt[i] = c1\n",
        "        elif char == c1:\n",
        "            txt[i] = c2\n",
        "    return ''.join(txt)\n",
        "\n",
        "# Método 2\n",
        "def double_swap(string, c1, c2):\n",
        "    # Creamos un diccionario de reemplazo\n",
        "    swap_dict = {c1: c2, c2: c1}\n",
        "\n",
        "    # Usamos una comprensión de lista para crear la nueva string\n",
        "    return ''.join(swap_dict.get(char, char) for char in string)\n",
        "\n",
        "# Método 3\n",
        "def double_swap(string, c1, c2):\n",
        "    # Creamos una tabla de traducción\n",
        "    trans_table = str.maketrans(c1 + c2, c2 + c1)\n",
        "\n",
        "    # Aplicamos la traducción a la cadena\n",
        "    return string.translate(trans_table)\n",
        "\n",
        "# Método 4. Usando replace y un caracter temporal que no esté en el string\n",
        "# Al no saber que caracter no estará en el string hemos creado una función aux.\n",
        "def double_swap(string, c1, c2):\n",
        "    if c1 == c2:\n",
        "        return string  # No hay cambios si los caracteres son iguales\n",
        "\n",
        "    # Encontrar un carácter que no esté en el string\n",
        "    temp_char = find_unused_char(string + c1 + c2)\n",
        "\n",
        "    # Realizar los reemplazos\n",
        "    return string.replace(c1, temp_char).replace(c2, c1).replace(temp_char, c2)\n",
        "\n",
        "def find_unused_char(string):\n",
        "    # Empezar desde el carácter con código ASCII 1\n",
        "    i = 1\n",
        "    while chr(i) in string:\n",
        "        i += 1\n",
        "        if i > 1114111:  # Máximo valor de código Unicode\n",
        "            raise ValueError(\"No se pudo encontrar un carácter temporal único\")\n",
        "    return chr(i)"
      ],
      "metadata": {
        "id": "SkDQw4svKdyO"
      },
      "execution_count": null,
      "outputs": []
    },
    {
      "cell_type": "code",
      "source": [
        "print(double_swap(\"aabbccc\", \"a\", \"b\"))\n",
        "print(double_swap(\"random w#rds writt&n h&r&\", \"#\", \"&\"))\n",
        "print(double_swap(\"128 895 556 788 999\", \"8\", \"9\"))"
      ],
      "metadata": {
        "id": "r4eaiLE6KdyO",
        "outputId": "1401c22c-ec62-4e3a-ea69-68d6aadf2fa1",
        "colab": {
          "base_uri": "https://localhost:8080/"
        }
      },
      "execution_count": null,
      "outputs": [
        {
          "output_type": "stream",
          "name": "stdout",
          "text": [
            "bbaaccc\n",
            "random w&rds writt#n h#r#\n",
            "129 985 556 799 888\n"
          ]
        }
      ]
    },
    {
      "cell_type": "markdown",
      "source": [
        "## Reto 545: Raíz Cuadrada Iterada\n",
        "* Iterated Square Root\n",
        "* La raíz cuadrada iterada de un número es la cantidad de veces que se debe aplicar la función de raíz cuadrada para llevar el número **estrictamente por debajo de 2**.\n",
        "* Dado un entero, devuelve su raíz cuadrada iterada. Devuelve `\"invalid\"` si es negativo.\n",
        "\n",
        "* **Ejemplos**\n",
        "\n",
        "```\n",
        "i_sqrt(1) ➞ 0\n",
        "i_sqrt(2) ➞ 1\n",
        "i_sqrt(7) ➞ 2\n",
        "i_sqrt(27) ➞ 3\n",
        "i_sqrt(256) ➞ 4\n",
        "i_sqrt(-1) ➞ \"invalid\"\n",
        "```"
      ],
      "metadata": {
        "id": "w04A7HtQKd5o"
      }
    },
    {
      "cell_type": "code",
      "source": [
        "# Método 1\n",
        "def i_sqrt(n):\n",
        "    if n < 0:\n",
        "        return \"invalid\"\n",
        "    cont = 0\n",
        "    while n >= 2:\n",
        "        n = n ** .5\n",
        "        cont += 1\n",
        "    return cont\n",
        "\n",
        "# Método 2. Usando recursión\n",
        "import math\n",
        "\n",
        "def i_sqrt(n):\n",
        "    if n < 0:\n",
        "        return \"invalid\"\n",
        "\n",
        "    if n < 2:\n",
        "        return 0\n",
        "\n",
        "    return 1 + i_sqrt(math.sqrt(n))"
      ],
      "metadata": {
        "id": "zl3MweNdKd5o"
      },
      "execution_count": null,
      "outputs": []
    },
    {
      "cell_type": "code",
      "source": [
        "print(i_sqrt(1))    # 0\n",
        "print(i_sqrt(2))    # 1\n",
        "print(i_sqrt(7))    # 2\n",
        "print(i_sqrt(27))   # 3\n",
        "print(i_sqrt(256))  # 4\n",
        "print(i_sqrt(-1))   # invalid"
      ],
      "metadata": {
        "id": "0UpUWFGMKd5o",
        "colab": {
          "base_uri": "https://localhost:8080/"
        },
        "outputId": "ecf3ff86-a577-4d62-cb9a-365462844e0d"
      },
      "execution_count": null,
      "outputs": [
        {
          "output_type": "stream",
          "name": "stdout",
          "text": [
            "0\n",
            "0\n",
            "2\n",
            "3\n",
            "3\n",
            "invalid\n"
          ]
        }
      ]
    },
    {
      "cell_type": "markdown",
      "source": [
        "## Reto 546: Grito Escocés\n",
        "* Scottish Screaming\n",
        "* Un fuerte acento escocés hace que cada vocal suene similar a una \"e\", así que debes reemplazar cada vocal con una \"e\". Además, está siendo gritado, por lo que debe estar en mayúsculas.\n",
        "* Crea una función que tome una cadena y devuelva una cadena.\n",
        "* **Ejemplos**\n",
        "\n",
        "```\n",
        "to_scottish_screaming(\"hello world\") ➞ \"HELLE WERLD\"\n",
        "to_scottish_screaming(\"Mr. Fox was very naughty\") ➞ \"MR. FEX WES VERY NEEGHTY\"\n",
        "to_scottish_screaming(\"Butterflies are beautiful!\") ➞ \"BETTERFLEES ERE BEEETEFEL!\"\n",
        "```\n",
        "\n",
        "* **Notas**\n",
        "    - Asegúrate de incluir toda la puntuación que está en la cadena original.\n",
        "    - No necesitas más espacios de nombres que los que ya se dan."
      ],
      "metadata": {
        "id": "Zh9UFyL-KeAt"
      }
    },
    {
      "cell_type": "code",
      "source": [
        "# Método 1\n",
        "def to_scottish_screaming(s):\n",
        "    s = list(s.upper())\n",
        "    s = ['E' if char in 'AIOU' else char for char in s]\n",
        "    return ''.join(s)\n",
        "\n",
        "# Método 2\n",
        "def to_scottish_screaming(s):\n",
        "    return ''.join('E' if c in 'AIOU' else c for c in s.upper())\n",
        "\n",
        "# Método 3\n",
        "import re\n",
        "\n",
        "def to_scottish_screaming(text):\n",
        "    # Primero, convertimos todo el texto a mayúsculas\n",
        "    text = text.upper()\n",
        "\n",
        "    # Luego, reemplazamos todas las vocales por 'E'\n",
        "    # Usamos una expresión regular para capturar tanto minúsculas como mayúsculas\n",
        "    return re.sub(r'[AEIOU]', 'E', text)\n",
        "\n",
        "# Método 4. Usando replace\n",
        "def to_scottish_screaming(text):\n",
        "    return text.upper().replace('A', 'E').replace('I', 'E').replace('O', 'E').replace('U', 'E')\n",
        "\n",
        "# Método 5. Usando maketrans\n",
        "def to_scottish_screaming(text):\n",
        "    return text.upper().translate(str.maketrans('AIOU', 'EEEE'))"
      ],
      "metadata": {
        "id": "i-jJn26qKeAu"
      },
      "execution_count": null,
      "outputs": []
    },
    {
      "cell_type": "code",
      "source": [
        "print(to_scottish_screaming(\"hello world\"))\n",
        "print(to_scottish_screaming(\"Mr. Fox was very naughty\"))\n",
        "print(to_scottish_screaming(\"Butterflies are beautiful!\"))"
      ],
      "metadata": {
        "id": "rw7UwO5ZKeAu",
        "colab": {
          "base_uri": "https://localhost:8080/"
        },
        "outputId": "7a4dcf23-593c-4339-8cce-25a216f9d7d2"
      },
      "execution_count": null,
      "outputs": [
        {
          "output_type": "stream",
          "name": "stdout",
          "text": [
            "HELLE WERLD\n",
            "MR. FEX WES VERY NEEGHTY\n",
            "BETTERFLEES ERE BEEETEFEL!\n"
          ]
        }
      ]
    },
    {
      "cell_type": "markdown",
      "source": [
        "## Reto 547: Convirtiendo Diccionarios a Listas\n",
        "* Converting Dictionaries to Lists\n",
        "* Escribe una función que convierta un diccionario en una lista, donde cada elemento represente un par clave-valor en forma de lista.\n",
        "* Ordena la lista alfabéticamente por clave.\n",
        "* **Ejemplos**\n",
        "\n",
        "```\n",
        "to_list({ \"a\": 1, \"b\": 2 }) ➞ [[\"a\", 1], [\"b\", 2]]\n",
        "to_list({ \"mesa\": 12, \"cama\": 5 }) ➞ [[\"cama\", 5], [\"mesa\", 12]]\n",
        "to_list({}) ➞ []\n",
        "```\n",
        "* **Nota**\n",
        "    - Devuelve una lista vacía si el diccionario está vacío."
      ],
      "metadata": {
        "id": "t4jr2BK1KeID"
      }
    },
    {
      "cell_type": "code",
      "source": [
        "# Método 1\n",
        "def to_list(d):\n",
        "    return sorted(d.items())\n",
        "\n",
        "# Método 2\n",
        "def to_list(d):\n",
        "    result = [[key, value] for key, value in d.items()]\n",
        "    result.sort(key=lambda x: x[0])\n",
        "    return result"
      ],
      "metadata": {
        "id": "aQTPn36yKeID"
      },
      "execution_count": null,
      "outputs": []
    },
    {
      "cell_type": "code",
      "source": [
        "print(to_list({\"a\": 1, \"b\": 2}))        # [[\"a\", 1], [\"b\", 2]]\n",
        "print(to_list({\"mesa\": 12, \"cama\": 5})) # [[\"cama\", 5], [\"mesa\", 12]]\n",
        "print(to_list({}))                      # []"
      ],
      "metadata": {
        "id": "H3M6VhGxKeID",
        "colab": {
          "base_uri": "https://localhost:8080/"
        },
        "outputId": "e155da65-e1db-4cc8-b417-79ab09ecf3d3"
      },
      "execution_count": null,
      "outputs": [
        {
          "output_type": "stream",
          "name": "stdout",
          "text": [
            "[['a', 1], ['b', 2]]\n",
            "[['cama', 5], ['mesa', 12]]\n",
            "[]\n"
          ]
        }
      ]
    },
    {
      "cell_type": "markdown",
      "source": [
        "## Reto 548: Número de veces que aparece un carácter\n",
        "* Number of Times a Character Appears\n",
        "* Crea una función que devuelva el número de veces que un carácter aparece en cada palabra de una frase. Trata los caracteres en mayúsculas y minúsculas de la misma letra como idénticos (por ejemplo, `a` existe en `Anna` dos veces, no una).\n",
        "\n",
        "* **Ejemplos**\n",
        "\n",
        "```\n",
        "char_appears(\"She sells sea shells by the seashore.\", \"s\")\n",
        "➞ [1, 2, 1, 2, 0, 0, 2]\n",
        "#\"s\" aparece una vez en \"She\", dos veces en \"sells\", una vez en \"sea\", dos veces en \"shells\", etc.\n",
        "char_appears(\"Peter Piper picked a peck of pickled peppers.\", \"P\")\n",
        "➞ [1, 2, 1, 0, 1, 0, 1, 3]\n",
        "#\"p\" aparece una vez en \"Peter\", ... 3 veces en \"peppers\".\n",
        "char_appears(\"She hiked in the morning, then swam in the river.\", \"t\")\n",
        "➞ [0, 0, 0, 1, 0, 1, 0, 0, 1, 0]\n",
        "```\n",
        "\n",
        "* **Notas**\n",
        "- Ignora las mayúsculas y minúsculas."
      ],
      "metadata": {
        "id": "Wy4WDTYzKePa"
      }
    },
    {
      "cell_type": "code",
      "source": [
        "# Método 1\n",
        "def char_appears(sentence, char):\n",
        "    # Convertir la frase y el carácter a minúsculas para ignorar mayúsculas/minúsculas\n",
        "    sentence = sentence.lower()\n",
        "    char = char.lower()\n",
        "\n",
        "    # Dividir la frase en palabras\n",
        "    words = sentence.split()\n",
        "\n",
        "    # Contar las apariciones del carácter en cada palabra\n",
        "    result = [word.count(char) for word in words]\n",
        "\n",
        "    return result\n",
        "\n",
        "# Método 2\n",
        "def char_appears(sentence, char):\n",
        "    # Convertir la frase y el carácter a minúsculas para ignorar mayúsculas/minúsculas\n",
        "    sentence = sentence.lower()\n",
        "    char = char.lower()\n",
        "\n",
        "    # Dividir la frase en palabras\n",
        "    words = sentence.split()\n",
        "\n",
        "    # Lista para almacenar los resultados\n",
        "    result = []\n",
        "\n",
        "    # Iterar sobre cada palabra\n",
        "    for word in words:\n",
        "        # Contar las apariciones del carácter en la palabra\n",
        "        count = sum(1 for letter in word if letter == char)\n",
        "        result.append(count)\n",
        "\n",
        "    return result\n",
        "\n",
        "# Método 3. Con programación funcional\n",
        "def char_appears(sentence, char):\n",
        "    # Convertir el carácter a minúsculas\n",
        "    char = char.lower()\n",
        "\n",
        "    # Función para contar ocurrencias de un carácter en una palabra\n",
        "    def count_char(word):\n",
        "        return sum(map(lambda c: c.lower() == char, word))\n",
        "\n",
        "    # Dividir la frase en palabras, aplicar la función de conteo y devolver el resultado\n",
        "    return list(map(count_char, sentence.split()))"
      ],
      "metadata": {
        "id": "wKWIdoIWKePa"
      },
      "execution_count": null,
      "outputs": []
    },
    {
      "cell_type": "code",
      "source": [
        "print(char_appears(\"She sells sea shells by the seashore.\", \"s\"))               # [1, 2, 1, 2, 0, 0, 2]\n",
        "print(char_appears(\"Peter Piper picked a peck of pickled peppers.\", \"P\"))       # [1, 2, 1, 0, 1, 0, 1, 3]\n",
        "print(char_appears(\"She hiked in the morning, then swam in the river.\", \"t\"))   # [0, 0, 0, 1, 0, 1, 0, 0, 1, 0]"
      ],
      "metadata": {
        "id": "46HKwituKePa",
        "colab": {
          "base_uri": "https://localhost:8080/"
        },
        "outputId": "23dc33c7-c3c7-4124-cdca-be2459f4c1a0"
      },
      "execution_count": null,
      "outputs": [
        {
          "output_type": "stream",
          "name": "stdout",
          "text": [
            "[1, 2, 1, 2, 0, 0, 2]\n",
            "[1, 2, 1, 0, 1, 0, 1, 3]\n",
            "[0, 0, 0, 1, 0, 1, 0, 0, 1, 0]\n"
          ]
        }
      ]
    },
    {
      "cell_type": "markdown",
      "source": [
        "#### Función auxiliar dentro o fuera de la función principal\n",
        "* En relación al método 3.\n",
        "* La decisión de definir una función auxiliar dentro o fuera de la función principal tiene implicaciones y puede ofrecer ciertas ventajas dependiendo del contexto. Vamos a analizar ambos enfoques:\n",
        "\n",
        "1. Definir la función auxiliar dentro de la función principal (función interna o anidada):\n",
        "\n",
        "Ventajas:\n",
        "- Encapsulación: La función auxiliar solo es accesible dentro de la función principal, lo que puede ser útil si no se necesita en ningún otro lugar.\n",
        "- Acceso al ámbito exterior: La función interna puede acceder a las variables de la función que la contiene (en este caso, 'char').\n",
        "- Claridad de propósito: Indica claramente que esta función auxiliar está diseñada específicamente para ser usada por esta función principal.\n",
        "\n",
        "Desventajas:\n",
        "- Se crea una nueva función cada vez que se llama a la función principal, lo que puede tener un pequeño impacto en el rendimiento si se llama con mucha frecuencia.\n",
        "\n",
        "2. Definir la función auxiliar fuera de la función principal:\n",
        "\n",
        "Ventajas:\n",
        "- Reutilización: La función puede ser utilizada por otras partes del código si es necesario.\n",
        "- Eficiencia: La función se define una sola vez, no cada vez que se llama a la función principal.\n",
        "- Testeo más sencillo: Es más fácil escribir pruebas unitarias para funciones independientes.\n",
        "\n",
        "Desventajas:\n",
        "- Puede \"ensuciar\" el espacio de nombres si se definen muchas funciones auxiliares que solo se usan en un lugar.\n",
        "- No tiene acceso directo a las variables de la función principal (aunque esto se puede solucionar pasando los valores como argumentos).\n",
        "\n",
        "En el caso específico del código que proporcioné, la decisión de definir `count_char` dentro de `char_appears` se tomó principalmente por dos razones:\n",
        "\n",
        "1. Encapsulación: `count_char` es una función muy específica que solo se usa dentro de `char_appears`.\n",
        "2. Acceso al ámbito: `count_char` necesita acceder a la variable `char` de la función exterior.\n",
        "\n",
        "Sin embargo, es perfectamente válido definir `count_char` fuera de `char_appears`. Aquí tienes cómo se vería:\n",
        "\n",
        "```python\n",
        "def count_char(word, char):\n",
        "    return sum(map(lambda c: c.lower() == char.lower(), word))\n",
        "\n",
        "def char_appears(sentence, char):\n",
        "    return list(map(lambda word: count_char(word, char), sentence.split()))\n",
        "```\n",
        "\n",
        "En resumen, ambos enfoques son válidos y la elección entre ellos a menudo depende de las preferencias del programador, el estilo del proyecto y las necesidades específicas del código. No hay una regla estricta que diga que un enfoque es siempre mejor que el otro. Lo importante es ser consistente dentro de un proyecto y elegir el enfoque que mejore la legibilidad y mantenibilidad del código."
      ],
      "metadata": {
        "id": "1YpEP6_ci5uX"
      }
    },
    {
      "cell_type": "markdown",
      "source": [
        "## Reto 549:  Coincidir con el Último Elemento\n",
        "* Match the Last Item\n",
        "* Crea una función que tome una lista de elementos y verifique si el último elemento coincide con el resto de la lista concatenada.\n",
        "\n",
        "* **Ejemplos**\n",
        "\n",
        "```\n",
        "match_last_item([\"rsq\", \"6hi\", \"g\", \"rsq6hig\"]) ➞ True\n",
        "#El último elemento es el resto unido.\n",
        "\n",
        "match_last_item([1, 1, 1, \"11\"]) ➞ False\n",
        "#El último elemento debería ser \"111\".\n",
        "\n",
        "match_last_item([8, \"thunder\", True, \"8thunderTrue\"]) ➞ True\n",
        "```\n",
        "\n",
        "* **Notas**\n",
        "    - La lista siempre está llena de elementos."
      ],
      "metadata": {
        "id": "BBLM9G9ZKeWa"
      }
    },
    {
      "cell_type": "code",
      "source": [
        "# Método 1. Usando slice y join\n",
        "def match_last_item(items):\n",
        "    return ''.join(map(str, items[:-1])) == str(items[-1])\n",
        "\n",
        "# Método 2.Usando reducción y comparación\n",
        "from functools import reduce\n",
        "\n",
        "def match_last_item(items):\n",
        "    return reduce(lambda x, y: str(x) + str(y), items[:-1]) == str(items[-1])\n",
        "\n",
        "# Método 3\n",
        "def match_last_item(lista):\n",
        "    return str(lista[-1]) == ''.join(str(item) for i, item in enumerate(lista) if i < len(lista) - 1)\n",
        "\n",
        "# Método 4. Usando pop\n",
        "def match_last_item(lista):\n",
        "    if len(lista) < 2:\n",
        "        return False\n",
        "\n",
        "    last_item = str(lista.pop())\n",
        "    rest = ''.join(map(str, lista))\n",
        "\n",
        "    return last_item == rest"
      ],
      "metadata": {
        "id": "9oKulg3HKeWa"
      },
      "execution_count": null,
      "outputs": []
    },
    {
      "cell_type": "code",
      "source": [
        "print(match_last_item([\"rsq\", \"6hi\", \"g\", \"rsq6hig\"]))          # True\n",
        "print(match_last_item([1, 1, 1, \"11\"]))                         # False\n",
        "print(match_last_item([8, \"thunder\", True, \"8thunderTrue\"]))    # True"
      ],
      "metadata": {
        "id": "7YONpao8KeWa",
        "colab": {
          "base_uri": "https://localhost:8080/"
        },
        "outputId": "66c258aa-15a8-41f1-e58b-89d93a6e0a17"
      },
      "execution_count": null,
      "outputs": [
        {
          "output_type": "stream",
          "name": "stdout",
          "text": [
            "True\n",
            "False\n",
            "True\n"
          ]
        }
      ]
    },
    {
      "cell_type": "markdown",
      "source": [
        "## Reto 550: ¡No Saques Dobles!\n",
        "* Don't Roll Doubles!\n",
        "* John está jugando un juego de dados. Las reglas son las siguientes:\n",
        "    1. Lanza dos dados.\n",
        "    2. Suma los números de los dados.\n",
        "    3. Añade el total a tu puntuación general.\n",
        "    4. Repite esto durante tres rondas.\n",
        "* Pero si sacas DOBLES, tu puntuación se borra instantáneamente a 0 y tu juego termina inmediatamente!\n",
        "* Crea una función que tome una lista de tuplas como entrada y devuelva la puntuación de John después de que su juego haya terminado.\n",
        "* **Ejemplos**\n",
        "\n",
        "```\n",
        "juego_dados([(1, 2), (3, 4), (5, 6)]) ➞ 21\n",
        "juego_dados([(1, 1), (5, 6), (6, 4)]) ➞ 0\n",
        "juego_dados([(4, 5), (4, 5), (4, 5)]) ➞ 27\n",
        "```\n",
        "* **Notas**\n",
        "    - Ignora todas las demás tuplas en la lista si una tirada resulta ser dobles y ve directamente a devolver `0`.\n",
        "    - John solo tiene dos dados y siempre te dará resultados para tres rondas."
      ],
      "metadata": {
        "id": "ea-Jcz4RKeen"
      }
    },
    {
      "cell_type": "code",
      "source": [
        "# Método 1\n",
        "def juego_dados(lista):\n",
        "    total = 0\n",
        "    for pareja in lista:\n",
        "        a, b = pareja\n",
        "        if a == b:\n",
        "            return 0\n",
        "        total += a + b\n",
        "    return total\n",
        "\n",
        "# Método 2. Igual que el anterior\n",
        "def juego_dados(tiradas):\n",
        "    puntuacion = 0\n",
        "    for dado1, dado2 in tiradas:\n",
        "        if dado1 == dado2:\n",
        "            return 0\n",
        "        puntuacion += dado1 + dado2\n",
        "    return puntuacion\n",
        "\n",
        "# Método 3. Usando recursión\n",
        "def juego_dados(tiradas):\n",
        "    if not tiradas:\n",
        "        return 0\n",
        "    dado1, dado2 = tiradas[0]\n",
        "    if dado1 == dado2:\n",
        "        return 0\n",
        "    return dado1 + dado2 + juego_dados(tiradas[1:])\n",
        "\n",
        "# Método 4: Usando una función any() con una comprensión de lista\n",
        "def juego_dados(tiradas):\n",
        "# any para la iteración cuando encuentra el 1er elemento que cumple la condición\n",
        "    if any(dado1 == dado2 for dado1, dado2 in tiradas):\n",
        "        return 0\n",
        "    return sum(dado1 + dado2 for dado1, dado2 in tiradas)\n",
        "\n",
        "# Método 5. Igual que el anterior pero aún más comprimido\n",
        "def juego_dados(lst):\n",
        "    return sum(0 if any(a == b for a, b in lst) else a + b for a, b in lst)"
      ],
      "metadata": {
        "id": "5wsx0eKPKeen"
      },
      "execution_count": null,
      "outputs": []
    },
    {
      "cell_type": "code",
      "source": [
        "print(juego_dados([(1, 2), (3, 4), (5, 6)]))    # 21\n",
        "print(juego_dados([(1, 1), (5, 6), (6, 4)]))    # 0\n",
        "print(juego_dados([(4, 5), (4, 5), (4, 5)]))    # 27"
      ],
      "metadata": {
        "id": "CXA2SPAbKeen",
        "colab": {
          "base_uri": "https://localhost:8080/"
        },
        "outputId": "c9c0e3a9-46c2-4fac-e17f-dac65c9b3a32"
      },
      "execution_count": null,
      "outputs": [
        {
          "output_type": "stream",
          "name": "stdout",
          "text": [
            "21\n",
            "0\n",
            "27\n"
          ]
        }
      ]
    },
    {
      "cell_type": "markdown",
      "source": [
        "## Reto 551: Contar el Número de Caracteres Duplicados\n",
        "* Count the Number of Duplicate Characters\n",
        "* Crea una función que devuelva la cantidad de caracteres duplicados en una cadena.\n",
        "* Será sensible a mayúsculas y minúsculas y se incluirán los espacios.\n",
        "* Si no hay duplicados, devuelve `0`.\n",
        "\n",
        "* **Ejemplos**\n",
        "\n",
        "```\n",
        "duplicados(\"Hello World!\") ➞ 3\n",
        "#\"o\" = 2, \"l\" = 3.\n",
        "#\"o\" está duplicado 1 vez extra y \"l\" está duplicado 2 veces extra.\n",
        "#Por lo tanto 1 + 2 = 3\n",
        "\n",
        "duplicados(\"foobar\") ➞ 1\n",
        "\n",
        "duplicados(\"helicopter\") ➞ 1\n",
        "\n",
        "duplicados(\"birthday\") ➞ 0\n",
        "#Si no hay duplicados, devuelve 0\n",
        "```\n",
        "\n",
        "* **Notas**\n",
        "    - Asegúrate de empezar a contar solo la segunda vez que aparece un carácter.\n"
      ],
      "metadata": {
        "id": "etQJUnIzK5S2"
      }
    },
    {
      "cell_type": "code",
      "source": [
        "# Método 1. Recorriendo solo los caracteres únicos\n",
        "def duplicados(cadena):\n",
        "    cont = 0\n",
        "    unicos = set(cadena)\n",
        "    for char in unicos:\n",
        "        n = cadena.count(char)\n",
        "        if n > 1:\n",
        "            cont += n - 1\n",
        "    return cont\n",
        "\n",
        "# Método 2: Igual al anterior pero con un generador\n",
        "def duplicados(s):\n",
        "    return sum(s.count(char) - 1 for char in set(s) if s.count(char) > 1)\n",
        "\n",
        "# Método 3: Usando un diccionario\n",
        "def duplicados(cadena):\n",
        "    conteo = {}\n",
        "    for char in cadena:\n",
        "        conteo[char] = conteo.get(char, 0) + 1\n",
        "    return sum(max(0, count - 1) for count in conteo.values())"
      ],
      "metadata": {
        "id": "A1AHdwnoK5S2"
      },
      "execution_count": null,
      "outputs": []
    },
    {
      "cell_type": "code",
      "source": [
        "print(duplicados(\"Hello World!\"))   # 3\n",
        "print(duplicados(\"foobar\"))         # 1\n",
        "print(duplicados(\"birthday\"))       # 0"
      ],
      "metadata": {
        "id": "Ki5WX6dwK5S2",
        "colab": {
          "base_uri": "https://localhost:8080/"
        },
        "outputId": "7ec0d5cc-e6e2-4574-c28c-e5b26df2ecbf"
      },
      "execution_count": null,
      "outputs": [
        {
          "output_type": "stream",
          "name": "stdout",
          "text": [
            "3\n",
            "1\n",
            "0\n"
          ]
        }
      ]
    },
    {
      "cell_type": "markdown",
      "source": [
        "## Reto 552: Ritmo Sincopado\n",
        "* Syncopated Rhythm\n",
        "* **Síncopa** significa un énfasis en un tiempo débil de un compás musical; más comúnmente, **los tiempos 2 y 4** (y todos los demás tiempos *de número par* si aplica).\n",
        "* Se te dará una cadena que representa los tiempos, donde los símbolos de numeral `#` representan los tiempos enfatizados. Crea una función que devuelva `True` si la línea musical contiene **alguna** *síncopa*, y `False` en caso contrario.\n",
        "* **Ejemplos**\n",
        "\n",
        "```\n",
        "tiene_sincopa(\".#.#.#.#\") ➞ True\n",
        "#Hay símbolos de numeral en las posiciones segunda, cuarta, sexta y\n",
        "#octava de la cadena.\n",
        "\n",
        "tiene_sincopa(\"#.#...#.\") ➞ False\n",
        "#No hay símbolos de numeral en las posiciones segunda, cuarta, sexta u\n",
        "#octava de la cadena.\n",
        "\n",
        "tiene_sincopa(\"#.#.###.\") ➞ True\n",
        "#Hay un símbolo de numeral en la sexta posición de la cadena.\n",
        "```\n",
        "\n",
        "* **Notas**\n",
        "    - Todos los demás tiempos no enfatizados serán representados por un punto."
      ],
      "metadata": {
        "id": "psCWW_F_K5aa"
      }
    },
    {
      "cell_type": "code",
      "source": [
        "# Método 1\n",
        "def tiene_sincopa(s):\n",
        "    return any(s[i] == '#' for i in range(1, len(s), 2))\n",
        "\n",
        "# Método 2\n",
        "def has_syncopation(s):\n",
        "    return any(char == '#' and (i + 1) % 2 == 0 for i, char in enumerate(s))"
      ],
      "metadata": {
        "id": "bTYis95NK5aa"
      },
      "execution_count": null,
      "outputs": []
    },
    {
      "cell_type": "code",
      "source": [
        "print(tiene_sincopa(\".#.#.#.#\"))    # True\n",
        "print(tiene_sincopa(\"#.#...#.\"))    # False\n",
        "print(tiene_sincopa(\"#.#.###.\"))    # True"
      ],
      "metadata": {
        "id": "EpqZc6YEK5aa",
        "outputId": "0172f3b7-9fe5-46c0-b075-aaa47de7cee0",
        "colab": {
          "base_uri": "https://localhost:8080/"
        }
      },
      "execution_count": null,
      "outputs": [
        {
          "output_type": "stream",
          "name": "stdout",
          "text": [
            "True\n",
            "False\n",
            "True\n"
          ]
        }
      ]
    },
    {
      "cell_type": "markdown",
      "source": [
        "## Reto 553: Separación por Mayúsculas\n",
        "* Capital Split\n",
        "* Crea una función que añada espacios antes de cada letra mayúscula en una palabra.\n",
        "* Luego, convierte toda la cadena a minúsculas.\n",
        "\n",
        "* **Ejemplos**\n",
        "\n",
        "```\n",
        "cap_space(\"helloWorld\") ➞ \"hello world\"\n",
        "\n",
        "cap_space(\"iLoveMyTeapot\") ➞ \"i love my teapot\"\n",
        "\n",
        "cap_space(\"stayIndoors\") ➞ \"stay indoors\"\n",
        "```\n",
        "\n",
        "* **Notas**\n",
        "    - La primera letra permanecerá en minúscula."
      ],
      "metadata": {
        "id": "obEjA9nDK5hM"
      }
    },
    {
      "cell_type": "code",
      "source": [
        "# Método 1: Usando expresiones regulares\n",
        "import re\n",
        "\n",
        "def cap_space(text):\n",
        "    # Añade un espacio antes de cada mayúscula, excepto al inicio\n",
        "    spaced_text = re.sub(r'(?<!^)(?=[A-Z])', ' ', text)\n",
        "    # Convierte toda la cadena a minúsculas\n",
        "    return spaced_text.lower()\n",
        "\n",
        "# Método 2: Usando un bucle y comprobación de caracteres\n",
        "def cap_space(text):\n",
        "    result = []\n",
        "    for i, char in enumerate(text):\n",
        "        if i > 0 and char.isupper():\n",
        "            result.append(' ')\n",
        "        result.append(char.lower())\n",
        "    return ''.join(result)\n",
        "\n",
        "# Método 3\n",
        "def cap_space(text):\n",
        "    result = text[0].lower()  # Comenzamos con la primera letra en minúscula\n",
        "    for char in text[1:]:  # Iteramos a partir del segundo carácter\n",
        "        if char.isupper():\n",
        "            result += ' ' + char.lower()\n",
        "        else:\n",
        "            result += char\n",
        "    return result\n",
        "\n",
        "# Método 4. Suponiendo que la primera letra siempre nos la dan minúscula\n",
        "def cap_space(text):\n",
        "    lista = list(text)\n",
        "    return ''.join([' ' + c.lower() if c.isupper() else c for c in lista])\n",
        "\n",
        "# Método 5. Igual que el anterior pero sin ser necesario convertirlo en lista\n",
        "def cap_space(text):\n",
        "    return ''.join(' ' + c.lower() if c.isupper() else c for c in text)\n",
        "\n",
        "# Método 6\n",
        "def cap_space(text):\n",
        "    return ''.join(c if c.islower() else ' ' + c.lower() for c in text)\n",
        "\n",
        "# Método 7. Solución original, multiplicando por 1 o por 0 el espacio añadido\n",
        "def cap_space(text):\n",
        "    return ''.join(' ' * int(c.isupper()) + c.lower() for c in text)"
      ],
      "metadata": {
        "id": "aEx0aesJK5hM"
      },
      "execution_count": null,
      "outputs": []
    },
    {
      "cell_type": "code",
      "source": [
        "print(cap_space(\"helloWorld\"))  # \"hello world\"\n",
        "print(cap_space(\"iLoveMyTeapot\"))  # \"i love my teapot\"\n",
        "print(cap_space(\"stayIndoors\"))  # \"stay indoors\""
      ],
      "metadata": {
        "id": "O_8uRNSRK5hM",
        "colab": {
          "base_uri": "https://localhost:8080/"
        },
        "outputId": "0c360515-4b42-482d-962b-3fbe1a525b2d"
      },
      "execution_count": null,
      "outputs": [
        {
          "output_type": "stream",
          "name": "stdout",
          "text": [
            "hello world\n",
            "i love my teapot\n",
            "stay indoors\n"
          ]
        }
      ]
    },
    {
      "cell_type": "markdown",
      "source": [
        "## Reto 554:  ¡Abrígate!\n",
        "* Bundle Up!\n",
        "* Asumamos, para los propósitos de este desafío, que por cada *capa de tela* que uses cuando hace frío afuera (abrigos, chaquetas, etc.), la temperatura aumenta en una *décima parte del total*.\n",
        "* Dado un número `n` de capas y una temperatura dada, devuelve la temperatura dentro de todas esas cálidas y suaves capas.\n",
        "* Redondea a la *décima* de grado más cercana.\n",
        "\n",
        "```\n",
        "calc_temp_abrigada(2, \"10*C\") ➞ \"12.1*C\"\n",
        "#10 * 1.1 = 11\n",
        "#11 * 1.1 = 12.1\n",
        "```\n",
        "\n",
        "* **Ejemplos**\n",
        "\n",
        "```\n",
        "calc_temp_abrigada(1, \"2*C\") ➞ \"2.2*C\"\n",
        "calc_temp_abrigada(4, \"6*C\") ➞ \"8.8*C\"\n",
        "calc_temp_abrigada(20, \"4*C\") ➞ \"26.9*C\"\n",
        "```\n",
        "\n",
        "* **Notas**\n",
        "    - La temperatura se dará en Celsius y como una cadena.\n",
        "    - Ten en cuenta que el signo de grados se da como un asterisco."
      ],
      "metadata": {
        "id": "Bn2BcxITK5nY"
      }
    },
    {
      "cell_type": "code",
      "source": [
        "# Método 1\n",
        "def calc_temp_abrigada(n, temp):\n",
        "    temperatura = float(temp[:-2])  # Convertimos la temperatura a float, quitando \"*C\"\n",
        "    temperatura_final = temperatura * (1.1 ** n)\n",
        "    return f\"{round(temperatura_final, 1)}*C\"\n",
        "\n",
        "# Método 2\n",
        "def calc_temp_abrigada(n, s):\n",
        "    t, _ = s.split(\"*\")\n",
        "    return str(round(float(t) * 1.1 ** n, 1)) + \"*C\"\n",
        "\n",
        "# Método 3. Usando un bucle for\n",
        "def calc_temp_abrigada(n, temp):\n",
        "    temperatura = float(temp[:-2])  # Convertimos la temperatura a float, quitando \"*C\"\n",
        "    for _ in range(n):\n",
        "        temperatura *= 1.1\n",
        "    return f\"{round(temperatura, 1)}*C\""
      ],
      "metadata": {
        "id": "K3jYRS0LK5nY"
      },
      "execution_count": null,
      "outputs": []
    },
    {
      "cell_type": "code",
      "source": [
        "print(calc_temp_abrigada(1, \"2*C\"))     # 2.2*C\n",
        "print(calc_temp_abrigada(4, \"6*C\"))     # 8.8*C\n",
        "print(calc_temp_abrigada(20, \"4*C\"))    # 26.9*C\n",
        "print(calc_temp_abrigada(2, \"10*C\"))    # 12.1*C"
      ],
      "metadata": {
        "id": "afoX9yTtK5nY",
        "colab": {
          "base_uri": "https://localhost:8080/"
        },
        "outputId": "80c7f2be-dd7a-41fc-8ef4-3f148a750a64"
      },
      "execution_count": null,
      "outputs": [
        {
          "output_type": "stream",
          "name": "stdout",
          "text": [
            "2.2*C\n",
            "8.8*C\n",
            "26.9*C\n",
            "12.1*C\n"
          ]
        }
      ]
    },
    {
      "cell_type": "markdown",
      "source": [
        "## Reto 555: ¿En el Centro?\n",
        "* In the Centre?\n",
        "* Dada una cadena que contiene principalmente espacios y *un* carácter que no es un espacio, devuelve si el carácter está posicionado exactamente en el centro de la cadena. Esto significa que el número de espacios en ambos lados **debe ser el mismo**.\n",
        "\n",
        "* **Ejemplos**\n",
        "\n",
        "```\n",
        "es_central(\"  #  \") ➞ True\n",
        "\n",
        "es_central(\" 2    \") ➞ False\n",
        "\n",
        "es_central(\"@\") ➞ True\n",
        "```\n",
        "\n",
        "* **Notas**\n",
        "    - Solo se dará un carácter que no sea espacio a la vez."
      ],
      "metadata": {
        "id": "j84aufrmK5ts"
      }
    },
    {
      "cell_type": "code",
      "source": [
        "# Método 1: Usando el método strip() y comparación de longitudes\n",
        "def es_central(cadena):\n",
        "    # Eliminamos los espacios en blanco al inicio y al final\n",
        "    cadena_sin_espacios = cadena.strip()\n",
        "\n",
        "    # Obtenemos la longitud de la cadena original y la cadena sin espacios\n",
        "    longitud_original = len(cadena)\n",
        "    longitud_sin_espacios = len(cadena_sin_espacios)\n",
        "\n",
        "    # Calculamos la cantidad de espacios en blanco\n",
        "    espacios_totales = longitud_original - longitud_sin_espacios\n",
        "\n",
        "    # Verificamos si la cantidad de espacios es par y si el carácter está en el centro\n",
        "    return espacios_totales % 2 == 0 and cadena.index(cadena_sin_espacios) == espacios_totales // 2\n",
        "\n",
        "# Método 2: Usando el método center()\n",
        "def es_central(cadena):\n",
        "    # Eliminamos los espacios en blanco y obtenemos el carácter\n",
        "    caracter = cadena.strip()\n",
        "\n",
        "    # Centramos el carácter en una cadena de la misma longitud que la original\n",
        "    cadena_centrada = caracter.center(len(cadena))\n",
        "\n",
        "    # Comparamos la cadena original con la cadena centrada\n",
        "    return cadena == cadena_centrada\n",
        "\n",
        "# Método 3\n",
        "def es_central(s):\n",
        "    c = ''.join(set(s) - {' '})\n",
        "    a, b = s.split(c)\n",
        "    return len(a) == len(b)"
      ],
      "metadata": {
        "id": "dTXK0w7wK5ts"
      },
      "execution_count": null,
      "outputs": []
    },
    {
      "cell_type": "code",
      "source": [
        "print(es_central(\"  #  \"))  # True\n",
        "print(es_central(\" 2    \")) # False\n",
        "print(es_central(\"@\"))      # True"
      ],
      "metadata": {
        "id": "ZeAsCh73K5ts",
        "colab": {
          "base_uri": "https://localhost:8080/"
        },
        "outputId": "c5e62eb1-0f51-44db-df17-cbf38fefedf7"
      },
      "execution_count": null,
      "outputs": [
        {
          "output_type": "stream",
          "name": "stdout",
          "text": [
            "True\n",
            "False\n",
            "True\n"
          ]
        }
      ]
    },
    {
      "cell_type": "code",
      "source": [
        "s = \"  #  \"\n",
        "c = ''.join(set(s) - {' '})\n",
        "a, b = s.split(c)\n",
        "len(a) == len(b)"
      ],
      "metadata": {
        "id": "OEGjprnY5M5P",
        "outputId": "1dcada48-52b8-4517-9e83-81294468bf21",
        "colab": {
          "base_uri": "https://localhost:8080/"
        }
      },
      "execution_count": null,
      "outputs": [
        {
          "output_type": "execute_result",
          "data": {
            "text/plain": [
              "True"
            ]
          },
          "metadata": {},
          "execution_count": 64
        }
      ]
    },
    {
      "cell_type": "markdown",
      "source": [
        "## Reto 556: Palabra más larga\n",
        "* Longest Word\n",
        "* Escribe una función que encuentre la **palabra más larga** en una oración.\n",
        "* Si se encuentran dos o más palabras, devuelve la primera palabra más larga.\n",
        "* Caracteres como apóstrofe, coma, punto (y similares) cuentan como parte de la palabra (por ejemplo, *O'Connor* tiene 8 caracteres de longitud).\n",
        "\n",
        "* **Ejemplos**\n",
        "\n",
        "```\n",
        "palabra_mas_larga(\"Tienes labios de fresa.\") ➞ \"Tienes\"\n",
        "palabra_mas_larga(\"¿Qué es poesia? Poesia eres tú.\") ➞ \"poesia?\"\n",
        "palabra_mas_larga(\"Es tan corto el amor, y es tan largo el olvido\") ➞ \"olvido\"\n",
        "```\n"
      ],
      "metadata": {
        "id": "3a-vhA3gK50H"
      }
    },
    {
      "cell_type": "code",
      "source": [
        "# Método 1\n",
        "def palabra_mas_larga(s):\n",
        "    palabras = s.split()\n",
        "    m = max(map(len, palabras))\n",
        "    for palabra in palabras:\n",
        "        if len(palabra) == m:\n",
        "            return palabra\n",
        "\n",
        "# Método 2\n",
        "def palabra_mas_larga(oracion):\n",
        "    return max(oracion.split(), key=len)\n",
        "\n",
        "# Método 3\n",
        "def palabra_mas_larga(oracion):\n",
        "    palabras = oracion.split()\n",
        "    palabra_mas_larga = \"\"\n",
        "    for palabra in palabras:\n",
        "        if len(palabra) > len(palabra_mas_larga): # al ser > (y no >=) toma la 1ª palabra más larga en caso de empate\n",
        "            palabra_mas_larga = palabra\n",
        "    return palabra_mas_larga\n",
        "\n",
        "# Método 4\n",
        "from functools import reduce\n",
        "\n",
        "def palabra_mas_larga(oracion):\n",
        "    return reduce(lambda x, y: x if len(x) >= len(y) else y, oracion.split())\n",
        "\n",
        "# Método 5\n",
        "def palabra_mas_larga(oracion):\n",
        "    return max(oracion.split(), key=len)"
      ],
      "metadata": {
        "id": "JQJhoPODK50H"
      },
      "execution_count": null,
      "outputs": []
    },
    {
      "cell_type": "code",
      "source": [
        "print(palabra_mas_larga(\"Tienes labios de fresa.\"))                         # Tienes   tiene 6\n",
        "print(palabra_mas_larga(\"¿Qué es poesia? Poesia eres tú.\"))                 # poesia?  tiene 7\n",
        "print(palabra_mas_larga(\"Es tan corto el amor, y es tan largo el olvido\"))  # olvido   tiene 6"
      ],
      "metadata": {
        "id": "oy9CI_OGK50H",
        "colab": {
          "base_uri": "https://localhost:8080/"
        },
        "outputId": "880ec09c-6335-4053-ce2e-2e0f061ec390"
      },
      "execution_count": null,
      "outputs": [
        {
          "output_type": "stream",
          "name": "stdout",
          "text": [
            "Tienes\n",
            "poesia?\n",
            "olvido\n"
          ]
        }
      ]
    },
    {
      "cell_type": "markdown",
      "source": [
        "## Reto 557: Resta Inusual\n",
        "* Unusual Subtraction\n",
        "* Crea una función que reste 1 de `n` (a menos que termine en 0) `k` número de veces.\n",
        "* Si `n` termina en `0`, elimina el `0`.\n",
        "\n",
        "\n",
        "1. El objetivo es crear una función llamada `not_good_math` que toma dos parámetros:\n",
        "   - `n`: el número inicial\n",
        "   - `k`: la cantidad de veces que se debe aplicar el algoritmo\n",
        "\n",
        "2. El algoritmo funciona así:  \n",
        "    2.1. Si el número termina en 0, elimina el 0 final.  \n",
        "    2.2. Si no termina en 0, resta 1 al número.\n",
        "\n",
        "3. Este proceso se repite `k` veces.\n",
        "\n",
        "Veamos un ejemplo detallado:\n",
        "\n",
        "```\n",
        "not_good_math(540, 5)\n",
        "```\n",
        "\n",
        "Paso a paso:\n",
        "1. 540 termina en 0, así que lo eliminamos: 54 (k = 1)\n",
        "2. 54 no termina en 0, restamos 1: 53 (k = 2)\n",
        "3. 53 - 1 = 52 (k = 3)\n",
        "4. 52 - 1 = 51 (k = 4)\n",
        "5. 51 - 1 = 50 (k = 5)\n",
        "\n",
        "El resultado final es 50.\n",
        "\n",
        "Es preciso manejar correctamente los casos donde el número termina en 0 y donde no, y repetir el proceso el número correcto de veces.\n",
        "\n",
        "Para ilustrar:\n",
        "\n",
        "```\n",
        "n = 22\n",
        "k = 3\n",
        "```\n",
        "\n",
        "Esto significa que nuestro número es 22 y tenemos que repetir el algoritmo tres veces. 22 no termina en 0 así que continuamos restando 1.\n",
        "\n",
        "```\n",
        "22 - 1 = 21 (k = 1)\n",
        "21 - 1 = 20 (k = 2)\n",
        "```\n",
        "\n",
        "    - Ahora 20 termina en 0, así que podemos eliminarlo.\n",
        "    - Obtenemos 2; (k = 3).\n",
        "\n",
        "El algoritmo termina ahí porque se aplicó tres veces.\n",
        "\n",
        "```\n",
        "N:  K:\n",
        "22\n",
        "21  1\n",
        "20  2\n",
        "2   3\n",
        "```\n",
        "\n",
        "* **Ejemplos**\n",
        "\n",
        "```\n",
        "not_good_math(540, 5) ➞ 50\n",
        "not_good_math(1000000000, 9) ➞ 1\n",
        "not_good_math(42023110, 10) ➞ 4201\n",
        "```"
      ],
      "metadata": {
        "id": "LTm036CpK56Y"
      }
    },
    {
      "cell_type": "code",
      "source": [
        "# Método 1\n",
        "def not_good_math(n, k):\n",
        "    for i in range(k):\n",
        "        if (str(n))[-1] == '0':\n",
        "            n = int((str(n))[:-1])\n",
        "        else:\n",
        "            n -= 1\n",
        "    return n\n",
        "\n",
        "# Método 2. Similar al anterior. Usando un operador ternario\n",
        "def not_good_math(n, k):\n",
        "    for _ in range(k):\n",
        "        n = int(str(n)[:-1]) if str(n).endswith('0') else n - 1\n",
        "    return n\n",
        "\n",
        "# Método 3. Usando un bucle while\n",
        "def not_good_math(n, k):\n",
        "    count = 0\n",
        "    while count < k:\n",
        "        if n % 10 == 0:\n",
        "            n //= 10\n",
        "        else:\n",
        "            n -= 1\n",
        "        count += 1\n",
        "    return n\n",
        "\n",
        "# Método 4. Función recursiva\n",
        "def not_good_math(n, k):\n",
        "    if k == 0:\n",
        "        return n\n",
        "    if n % 10 == 0:\n",
        "        return not_good_math(n // 10, k - 1)\n",
        "    else:\n",
        "        return not_good_math(n - 1, k - 1)"
      ],
      "metadata": {
        "id": "3NRCqqU0K56Y"
      },
      "execution_count": null,
      "outputs": []
    },
    {
      "cell_type": "code",
      "source": [
        "print(not_good_math(540, 5))        # 50\n",
        "print(not_good_math(1000000000, 9)) # 1\n",
        "print(not_good_math(42023110, 10))  # 4201"
      ],
      "metadata": {
        "id": "CWRWKElXK56Y",
        "colab": {
          "base_uri": "https://localhost:8080/"
        },
        "outputId": "19a4d5ef-1403-4ee7-fa40-6d522e589d6b"
      },
      "execution_count": null,
      "outputs": [
        {
          "output_type": "stream",
          "name": "stdout",
          "text": [
            "50\n",
            "1\n",
            "4201\n"
          ]
        }
      ]
    },
    {
      "cell_type": "markdown",
      "source": [
        "## Reto 558: Letras Faltantes\n",
        "* Missing Letters\n",
        "* Dada una cadena que contiene letras **únicas**, devuelve una cadena ordenada con las letras que **no aparecen en la cadena**.\n",
        "* **Ejemplos**\n",
        "\n",
        "```\n",
        "get_missing_letters(\"abcdefgpqrstuvwxyz\") ➞ \"hijklmno\"\n",
        "\n",
        "get_missing_letters(\"zyxwvutsrq\") ➞ \"abcdefghijklmnop\"\n",
        "\n",
        "get_missing_letters(\"abc\") ➞ \"defghijklmnopqrstuvwxyz\"\n",
        "\n",
        "get_missing_letters(\"abcdefghijklmnopqrstuvwxyz\") ➞ \"\"\n",
        "```\n",
        "\n",
        "* **Notas**\n",
        "    - La combinación de ambas cadenas debe tener **26 elementos** de largo, incluyendo todas las letras del alfabeto.\n",
        "    - Las letras estarán todas en minúsculas."
      ],
      "metadata": {
        "id": "VXfhvFLAK6BL"
      }
    },
    {
      "cell_type": "code",
      "source": [
        "# Método 1\n",
        "ALFABETO = \"abcdefghijklmnopqrstuvwxyz\"\n",
        "\n",
        "def get_missing_letters(s):\n",
        "    return ''.join(sorted(c for c in ALFABETO if c not in s))\n",
        "\n",
        "# Método 2\n",
        "def get_missing_letters(s):\n",
        "    # Creamos un conjunto con todas las letras del alfabeto\n",
        "    alphabet = set(ALFABETO)\n",
        "\n",
        "    # Creamos un conjunto con las letras de la cadena de entrada\n",
        "    s_set = set(s)\n",
        "\n",
        "    # Encontramos la diferencia entre los conjuntos\n",
        "    missing = alphabet - s_set\n",
        "\n",
        "    # Convertimos el resultado a una lista, la ordenamos y la unimos en una cadena\n",
        "    return ''.join(sorted(missing))\n",
        "\n",
        "# Método 3. Usando list comprehension\n",
        "def get_missing_letters(s):\n",
        "    # Creamos una lista con las letras que no están en la cadena de entrada\n",
        "    missing = [chr(i) for i in range(ord('a'), ord('z')+1) if chr(i) not in s]\n",
        "\n",
        "    # Unimos la lista en una cadena\n",
        "    return ''.join(missing)\n",
        "\n",
        "# Método 4. Restando conjuntos\n",
        "def get_missing_letters(s):\n",
        "    return ''.join(sorted(set(ALFABETO) - set(s)))\n",
        "\n",
        "# Método 5. Generando el alfabeto con map(chr, range(97, 123))\n",
        "def get_missing_letters(s):\n",
        "    return ''.join(sorted(set(map(chr, range(97, 123))) - set(s)))"
      ],
      "metadata": {
        "id": "Vs6GDKDMK6BL"
      },
      "execution_count": null,
      "outputs": []
    },
    {
      "cell_type": "code",
      "source": [
        "print(get_missing_letters(\"abcdefgpqrstuvwxyz\"))            # \"hijklmno\"\n",
        "print(get_missing_letters(\"zyxwvutsrq\"))                    # \"abcdefghijklmnop\"\n",
        "print(get_missing_letters(\"abc\"))                           # \"defghijklmnopqrstuvwxyz\"\n",
        "print(get_missing_letters(\"abcdefghijklmnopqrstuvwxyz\"))    # \"\""
      ],
      "metadata": {
        "id": "sGPKHDQrK6BL",
        "colab": {
          "base_uri": "https://localhost:8080/"
        },
        "outputId": "754f5ea9-c36e-4ee3-ae9b-66817f29c454"
      },
      "execution_count": null,
      "outputs": [
        {
          "output_type": "stream",
          "name": "stdout",
          "text": [
            "hijklmno\n",
            "abcdefghijklmnop\n",
            "defghijklmnopqrstuvwxyz\n",
            "\n"
          ]
        }
      ]
    },
    {
      "cell_type": "markdown",
      "source": [
        "## Reto 559: Número Perfecto\n",
        "* Perfect Number\n",
        "* Crea una función que compruebe si un número entero es o no un **número perfecto**.\n",
        "* Un número perfecto es aquel que puede escribirse como la suma de sus factores, excluyendo el número mismo.\n",
        "\n",
        "* Por ejemplo, 6 es un **número perfecto**, ya que 1 + 2 + 3 = 6, donde 1, 2 y 3 son todos factores de 6. De manera similar, 28 es un **número perfecto**, ya que 1 + 2 + 4 + 7 + 14 = 28.\n",
        "\n",
        "* **Ejemplos**\n",
        "\n",
        "```\n",
        "check_perfect(6) ➞ True\n",
        "check_perfect(28) ➞ True\n",
        "check_perfect(496) ➞ True\n",
        "check_perfect(12) ➞ False\n",
        "check_perfect(97) ➞ False\n",
        "```"
      ],
      "metadata": {
        "id": "ihYQFfWmK6Hv"
      }
    },
    {
      "cell_type": "code",
      "source": [
        "# Método 1\n",
        "def check_perfect(n):\n",
        "    divisores = []\n",
        "    for i in range(1, n):\n",
        "        if n % i == 0:\n",
        "            divisores.append(i)\n",
        "    return sum(divisores) == n\n",
        "\n",
        "# Método 2. Comprimiendo el método anterior\n",
        "def check_perfect(n):\n",
        "    return sum(i for i in range(1, n) if n % i == 0) == n\n",
        "\n",
        "# Método 3. Función optimizada\n",
        "def check_perfect(n):\n",
        "    if n <= 1:\n",
        "        return False\n",
        "    return sum(i + (n // i) if i != n // i else i for i in range(1, int(n**0.5) + 1) if n % i == 0) == n * 2\n",
        "\n",
        "# Método 4\n",
        "def check_perfect(num):\n",
        "    if num <= 1:\n",
        "        return False\n",
        "\n",
        "    sum_factors = 1  # Inicializamos con 1 porque 1 siempre es un factor\n",
        "    for i in range(2, int(num**0.5) + 1):\n",
        "        if num % i == 0:\n",
        "            sum_factors += i\n",
        "            if i != num // i:\n",
        "                sum_factors += num // i\n",
        "\n",
        "    return sum_factors == num\n",
        "\n",
        "# Método 5\n",
        "def check_perfect(num):\n",
        "    if num <= 1:\n",
        "        return False\n",
        "\n",
        "    factors = [1] + [i for i in range(2, int(num**0.5) + 1) if num % i == 0]\n",
        "    factors += [num // i for i in factors[1:] if i != num // i]\n",
        "\n",
        "    return sum(factors) == num\n",
        "\n",
        "# Método 6\n",
        "def check_perfect(num):\n",
        "    if num <= 1:\n",
        "        return False\n",
        "\n",
        "    def factors(n):\n",
        "        yield 1\n",
        "        for i in range(2, int(n**0.5) + 1):\n",
        "            if n % i == 0:\n",
        "                yield i\n",
        "                if i != n // i:\n",
        "                    yield n // i\n",
        "\n",
        "    return sum(factors(num)) == num\n",
        "\n",
        "# Método 7. Usando filter\n",
        "def check_perfect(n):\n",
        "    factors = filter(lambda x: n % x == 0, range(1, n))\n",
        "    return sum(factors) == n"
      ],
      "metadata": {
        "id": "PlTymfYrK6Hw"
      },
      "execution_count": null,
      "outputs": []
    },
    {
      "cell_type": "code",
      "source": [
        "print(check_perfect(6))     # True\n",
        "print(check_perfect(28))    # True\n",
        "print(check_perfect(496))   # True\n",
        "print(check_perfect(8128))  # True\n",
        "print(check_perfect(12))    # False\n",
        "print(check_perfect(97))    # False\n",
        "print(check_perfect(100))   # False"
      ],
      "metadata": {
        "id": "6SW9KhA1K6Hw",
        "colab": {
          "base_uri": "https://localhost:8080/"
        },
        "outputId": "bbcca027-a3fa-45db-d5d7-9e77adf3d3f6"
      },
      "execution_count": null,
      "outputs": [
        {
          "output_type": "stream",
          "name": "stdout",
          "text": [
            "True\n",
            "True\n",
            "True\n",
            "False\n",
            "False\n",
            "False\n"
          ]
        }
      ]
    },
    {
      "cell_type": "markdown",
      "source": [
        "## Reto 560: Impares arriba, pares abajo — N veces\n",
        "* Odd Up, Even Down — N Times\n",
        "* Crea una función que realice una transformación **par-impar** a una lista, `n` veces.\n",
        "* Cada transformación **par-impar**:\n",
        "    1. Suma dos (**+2**) a cada entero **impar**.\n",
        "    2. Resta dos (**-2**) a cada entero **par**.\n",
        "\n",
        "* **Ejemplos**\n",
        "\n",
        "```\n",
        "even_odd_transform([3, 4, 9], 3) ➞ [9, -2, 15]\n",
        "#Ya que [3, 4, 9] => [5, 2, 11] => [7, 0, 13] => [9, -2, 15]\n",
        "\n",
        "even_odd_transform([0, 0, 0], 10) ➞ [-20, -20, -20]\n",
        "\n",
        "even_odd_transform([1, 2, 3], 1) ➞ [3, 0, 5]\n",
        "```"
      ],
      "metadata": {
        "id": "4Zr_cUZdK6OG"
      }
    },
    {
      "cell_type": "code",
      "source": [
        "# Método 1.\n",
        "def even_odd_transform(lst, n):\n",
        "    result = []\n",
        "    for e in lst:\n",
        "        if e % 2:\n",
        "            e += 2 * n\n",
        "        else:\n",
        "            e -= 2 * n\n",
        "        result.append(e)\n",
        "    return result\n",
        "\n",
        "# Método 2: Usando comprensión de listas\n",
        "def even_odd_transform(lst, n):\n",
        "    return [e+2*n if e%2 else e-2*n for e in lst]\n",
        "\n",
        "# Método 3: Usando un bucle for y modificando la lista in-place\n",
        "def even_odd_transform(lst, n):\n",
        "    for i in range(len(lst)):\n",
        "        if lst[i] % 2 == 0:\n",
        "            lst[i] -= 2 * n     # reemplaza el valor de un elemento en la lista\n",
        "        else:\n",
        "            lst[i] += 2 * n\n",
        "    return lst\n",
        "\n",
        "# Método 4: Usando map() y una función lambda\n",
        "def even_odd_transform(lst, n):\n",
        "    return list(map(lambda x: x - 2*n if x % 2 == 0 else x + 2*n, lst))"
      ],
      "metadata": {
        "id": "SjLK9-nnK6OG"
      },
      "execution_count": null,
      "outputs": []
    },
    {
      "cell_type": "code",
      "source": [
        "print(even_odd_transform([3, 4, 9], 3))     # [9, -2, 15]\n",
        "print(even_odd_transform([0, 0, 0], 10))    # [-20, -20, -20]\n",
        "print(even_odd_transform([1, 2, 3], 1))     # [3, 0, 5]"
      ],
      "metadata": {
        "id": "31bfdRi1K6OH",
        "colab": {
          "base_uri": "https://localhost:8080/"
        },
        "outputId": "3270ce9b-51f0-4b4c-f2af-b3cf5f858376"
      },
      "execution_count": null,
      "outputs": [
        {
          "output_type": "stream",
          "name": "stdout",
          "text": [
            "[9, -2, 15]\n",
            "[-20, -20, -20]\n",
            "[3, 0, 5]\n"
          ]
        }
      ]
    },
    {
      "cell_type": "markdown",
      "source": [
        "## Reto 561: ¡Siete Boom!\n",
        "* Seven Boom!\n",
        "* Crea una función que tome una lista de números y devuelva `\"¡Boom!\"` si el dígito 7 aparece en la lista.\n",
        "* De lo contrario, devuelve `\"no hay 7 en la lista\"`.\n",
        "\n",
        "* **Ejemplos**\n",
        "\n",
        "```\n",
        "seven_boom([1, 2, 3, 4, 5, 6, 7]) ➞ \"¡Boom!\"\n",
        "#7 contiene el número siete.\n",
        "\n",
        "seven_boom([8, 6, 33, 100]) ➞ \"no hay 7 en la lista\"\n",
        "#Ninguno de los elementos contiene 7 en ellos.\n",
        "\n",
        "seven_boom([2, 55, 60, 97, 86]) ➞ \"¡Boom!\"\n",
        "#97 contiene el número siete.\n",
        "```"
      ],
      "metadata": {
        "id": "61iV19v3LMiA"
      }
    },
    {
      "cell_type": "code",
      "source": [
        "# Método 1. Primero convertimos la lista en un único string\n",
        "def seven_boom(lst):\n",
        "    return \"¡Boom!\" if '7' in ''.join(str(lst)) else \"no hay 7 en la lista\"\n",
        "\n",
        "# Método 2. Primero unimos los números de la lista en un único string\n",
        "def seven_boom(lst):\n",
        "    return \"¡Boom!\" if '7' in ''.join(str(n) for n in lst) else \"no hay 7 en la lista\"\n",
        "\n",
        "# Método 3\n",
        "def seven_boom(lista):\n",
        "    for num in lista:\n",
        "        if '7' in str(num):\n",
        "            return \"¡Boom!\"\n",
        "    return \"no hay 7 en la lista\"\n",
        "\n",
        "# Método 4: Usando una función auxiliar y any()\n",
        "def contiene_siete(num):\n",
        "    return '7' in str(num)\n",
        "\n",
        "# Método 5\n",
        "def seven_boom(lista):\n",
        "    return \"¡Boom!\" if any(contiene_siete(num) for num in lista) else \"no hay 7 en la lista\""
      ],
      "metadata": {
        "id": "APrJ0KyLLMiA"
      },
      "execution_count": null,
      "outputs": []
    },
    {
      "cell_type": "code",
      "source": [
        "print(seven_boom([1, 2, 3, 4, 5, 6, 7]))\n",
        "print(seven_boom([8, 6, 33, 100]))\n",
        "print(seven_boom([2, 55, 60, 97, 86]))"
      ],
      "metadata": {
        "id": "e-mBlXAzLMiA",
        "colab": {
          "base_uri": "https://localhost:8080/"
        },
        "outputId": "211a7387-793e-4618-9855-d3e5a26065dd"
      },
      "execution_count": null,
      "outputs": [
        {
          "output_type": "stream",
          "name": "stdout",
          "text": [
            "¡Boom!\n",
            "no hay 7 en la lista\n",
            "¡Boom!\n"
          ]
        }
      ]
    },
    {
      "cell_type": "markdown",
      "source": [
        "## Reto 562: Comprobar si una Cadena es una Expresión Matemática\n",
        "* Check if a String is a Mathematical Expression\n",
        "* Crea una función que tome una entrada (por ejemplo, `\"5 + 4\"`) y devuelva `True` si es una expresión matemática o `False` si no lo es.\n",
        "* **Ejemplos**\n",
        "\n",
        "```\n",
        "math_expr(\"4 + 5\") ➞ True\n",
        "math_expr(\"4*6\") ➞ True\n",
        "math_expr(\"7  % 3\") ➞ True\n",
        "math_expr(\"4*no\") ➞ False\n",
        "math_expr(\"\") ➞ False\n",
        "```\n",
        "\n",
        "* **Notas**\n",
        "    - Solo debe funcionar con las siguientes operaciones: `+, -, *, /, %`\n",
        "    - No necesitas evaluar números de punto flotante.\n",
        "    - int1 e int2 solo serán del 0 al 9.\n",
        "    - [Why is using 'eval' a bad practice?](https://stackoverflow.com/questions/1832940/why-is-using-eval-a-bad-practice)"
      ],
      "metadata": {
        "id": "Q3wgEONiLMoN"
      }
    },
    {
      "cell_type": "code",
      "source": [
        "# Método 1. Con eval y comprobando que solo se usen los símbolos permitidos\n",
        "# Si solo se usa eval sin comprobación se admitirían operaciones como 2**3\n",
        "import re\n",
        "\n",
        "def math_expr(expr):\n",
        "    if not re.match(r\"^[0-9\\s]*[\\+\\-\\*/%][\\s0-9]*$\", expr):\n",
        "        return False\n",
        "    try:\n",
        "        return str(eval(expr)).isnumeric()\n",
        "    except:\n",
        "        return False\n",
        "\n",
        "# Método 2. Con expresiones regulares\n",
        "import re\n",
        "\n",
        "def math_expr(expr):\n",
        "    pattern = r\"^[0-9]\\s*[\\+\\-\\*/%]\\s*[0-9]$\"\n",
        "    return bool(re.match(pattern, expr))\n",
        "\n",
        "# Método 3\n",
        "def math_expr(expr):\n",
        "    # Eliminar espacios en blanco\n",
        "    expr = expr.replace(\" \", \"\")\n",
        "\n",
        "    # Verificar que la longitud sea exactamente 3\n",
        "    if len(expr) != 3:\n",
        "        return False\n",
        "\n",
        "    # Verificar que el primer y último carácter sean dígitos, y el del medio un operador\n",
        "    if expr[0].isdigit() and expr[2].isdigit() and expr[1] in \"+-*/%\":\n",
        "        return True\n",
        "\n",
        "# Método 4\n",
        "def math_expr(expr):\n",
        "    # Eliminar espacios en blanco\n",
        "    expr = expr.replace(\" \", \"\")\n",
        "\n",
        "    # Definir los operadores válidos\n",
        "    operadores = \"+-*/%\"\n",
        "\n",
        "    # Recorrer la cadena para encontrar el operador\n",
        "    for i, char in enumerate(expr):\n",
        "        if char in operadores:\n",
        "            # Verificar que el carácter anterior y el siguiente sean dígitos\n",
        "            if i > 0 and i < len(expr) - 1:\n",
        "                if expr[i-1].isdigit() and expr[i+1].isdigit():\n",
        "                    return True\n",
        "            return False\n",
        "\n",
        "    # Si no se encontró un operador, no es una expresión válida\n",
        "    return False"
      ],
      "metadata": {
        "id": "nCT72IuULMoN"
      },
      "execution_count": null,
      "outputs": []
    },
    {
      "cell_type": "code",
      "source": [
        "print(math_expr(\"4 + 5\"))   # True\n",
        "print(math_expr(\"4*6\"))     # True\n",
        "print(math_expr(\"7  % 3\"))  # True\n",
        "print(math_expr(\"4*no\"))    # False\n",
        "print(math_expr(\"\"))        # False"
      ],
      "metadata": {
        "id": "6EDB8fUILMoN",
        "colab": {
          "base_uri": "https://localhost:8080/"
        },
        "outputId": "1809360a-ce5c-4c19-98ea-305a1ef878f3"
      },
      "execution_count": null,
      "outputs": [
        {
          "output_type": "stream",
          "name": "stdout",
          "text": [
            "True\n",
            "True\n",
            "True\n",
            "False\n",
            "False\n"
          ]
        }
      ]
    },
    {
      "cell_type": "markdown",
      "source": [
        "## Reto 563: ¿Es la Suma de las Letras Par o Impar?\n",
        "* Is the Sum of Letters Even or Odd?\n",
        "* Crea una función que tome una cadena y devuelva `True` si la suma de la posición de cada letra en el alfabeto es par y `False` si la suma es impar.\n",
        "\n",
        "* **Ejemplos**\n",
        "```python\n",
        "is_alpha(\"i'am king\") ➞ True\n",
        "#9 + 1 + 13 + 11 + 9 + 14 + 7 = 64 (even = par)\n",
        "is_alpha(\"True\") ➞ True\n",
        "#20 + 18 + 21 + 5= 64 (even = par)\n",
        "is_alpha(\"alexa\") ➞ False\n",
        "#1 + 12 + 5 + 24 + 1= 43 (odd = impar)\n",
        "```\n",
        "\n",
        "* **Notas**\n",
        "    - Es insensible a mayúsculas/minúsculas (Case insensitive).\n",
        "    - Ignora los símbolos que no sean letras."
      ],
      "metadata": {
        "id": "spC8vL2CLMuM"
      }
    },
    {
      "cell_type": "code",
      "source": [
        "# Método 1:\n",
        "def is_alpha(s):\n",
        "    s = s.lower()\n",
        "    suma = 0\n",
        "    for char in s:\n",
        "        if char in \"abcdefghijklmnopqrstuvwxyz\":\n",
        "            suma += ord(char) - 97 + 1\n",
        "    return not suma % 2\n",
        "\n",
        "# Método 2: Usando un bucle for\n",
        "def is_alpha(s):\n",
        "    suma = 0\n",
        "    for char in s.lower():\n",
        "        if char.isalpha():\n",
        "            suma += ord(char) - ord('a') + 1\n",
        "    return suma % 2 == 0\n",
        "\n",
        "# Método 3: Usando comprensión de listas\n",
        "def is_alpha(s):\n",
        "    suma = sum((ord(char) - ord('a') + 1) for char in s.lower() if char.isalpha())\n",
        "    return suma % 2 == 0\n",
        "\n",
        "# Método 4: Usando la función `filter` y `map`\n",
        "def is_alpha(s):\n",
        "    suma = sum(map(lambda char: ord(char) - ord('a') + 1, filter(str.isalpha, s.lower())))\n",
        "    return suma % 2 == 0\n",
        "\n",
        "# Método 5. Usando la librería string\n",
        "import string\n",
        "\n",
        "def is_alpha(s):\n",
        "    suma = 0\n",
        "    for char in s.lower():\n",
        "        if char in string.ascii_lowercase:\n",
        "            suma += string.ascii_lowercase.index(char) + 1\n",
        "    return suma % 2 == 0\n",
        "\n",
        "# Método 6. Restar 97+1=96 a un par lo deja en par y a un impar lo deja en impar\n",
        "def is_alpha(s):\n",
        "    return not sum(ord(c) for c in s if c.isalpha()) % 2"
      ],
      "metadata": {
        "id": "TddezJz3LMuM"
      },
      "execution_count": null,
      "outputs": []
    },
    {
      "cell_type": "code",
      "source": [
        "print(is_alpha(\"i'am king\"))    # True\n",
        "print(is_alpha(\"True\"))         # True\n",
        "print(is_alpha(\"alexa\"))        # False"
      ],
      "metadata": {
        "id": "DTGUrFS_LMuM",
        "colab": {
          "base_uri": "https://localhost:8080/"
        },
        "outputId": "62563a1a-fd50-4c8d-8cfc-82a7e4994b59"
      },
      "execution_count": null,
      "outputs": [
        {
          "output_type": "stream",
          "name": "stdout",
          "text": [
            "True\n",
            "True\n",
            "False\n"
          ]
        }
      ]
    },
    {
      "cell_type": "markdown",
      "source": [
        "## Reto 564: Pelando las Capas Exteriores\n",
        "* Peeling off the Outer Layers\n",
        "* Dada una lista de listas, devuelve una nueva lista de listas que contenga todos los elementos, **excepto los elementos exteriores**.\n",
        "* **Ejemplos**\n",
        "\n",
        "```\n",
        "peel_layer_off([\n",
        "  [\"a\", \"b\", \"c\", \"d\"],\n",
        "  [\"e\", \"f\", \"g\", \"h\"],\n",
        "  [\"i\", \"j\", \"k\", \"l\"],\n",
        "  [\"m\", \"n\", \"o\", \"p\"]\n",
        "]) ➞ [\n",
        "  [\"f\", \"g\"],\n",
        "  [\"j\", \"k\"]\n",
        "]\n",
        "\n",
        "peel_layer_off([\n",
        "  [1, 2, 3, 4, 5],\n",
        "  [6, 7, 8, 9, 10],\n",
        "  [11, 12, 13, 14, 15],\n",
        "  [16, 17, 18, 19, 20],\n",
        "  [21, 22, 23, 24, 25],\n",
        "  [26, 27, 28, 29, 30],\n",
        "  [31, 32, 33, 34, 35]\n",
        "]) ➞ [\n",
        "  [7, 8, 9],\n",
        "  [12, 13, 14],\n",
        "  [17, 18, 19],\n",
        "  [22, 23, 24],\n",
        "  [27, 28, 29]\n",
        "]\n",
        "\n",
        "peel_layer_off([\n",
        "  [True, False, True],\n",
        "  [False, False, True],\n",
        "  [True, True, True]\n",
        "]) ➞ [[False]]\n",
        "\n",
        "peel_layer_off([\n",
        "  [\"hello\", \"world\"],\n",
        "  [\"hello\", \"world\"]\n",
        "]) ➞ []\n",
        "```\n",
        "\n",
        "* **Notas**\n",
        "    - La cuadrícula 2D siempre tiene una forma rectangular/cuadrada.\n",
        "    - Siempre devuelve alguna forma de lista anidada, a menos que no haya elementos. En ese caso, devuelve una lista vacía."
      ],
      "metadata": {
        "id": "A1ntmuTcLM0k"
      }
    },
    {
      "cell_type": "code",
      "source": [
        "# Método 1\n",
        "def peel_layer_off(matriz):\n",
        "    if len(matriz) <= 2 or len(matriz[0]) <= 2:\n",
        "        return []\n",
        "    return [fila[1:-1] for fila in matriz[1:-1]]\n",
        "\n",
        "# Método 2\n",
        "def peel_layer_off(lst):\n",
        "    # Si la lista está vacía o solo tiene una fila, devolver lista vacía\n",
        "    if len(lst) <= 2 or len(lst[0]) <= 2:\n",
        "        return []\n",
        "\n",
        "    # Crear una nueva lista con las filas interiores\n",
        "    new_lst = lst[1:-1]\n",
        "\n",
        "    # Para cada fila interior, quedarse solo con los elementos interiores\n",
        "    return [row[1:-1] for row in new_lst]\n",
        "\n",
        "# Método 3\n",
        "def peel_layer_off(lst):\n",
        "    # Si la lista está vacía o es demasiado pequeña, devolver lista vacía\n",
        "    if len(lst) <= 2 or len(lst[0]) <= 2:\n",
        "        return []\n",
        "\n",
        "    # Inicializar la nueva lista\n",
        "    result = []\n",
        "\n",
        "    # Iterar sobre las filas, excluyendo la primera y la última\n",
        "    for row in lst[1:-1]:\n",
        "        new_row = []\n",
        "        # Iterar sobre los elementos de la fila, excluyendo el primero y el último\n",
        "        for element in row[1:-1]:\n",
        "            new_row.append(element)\n",
        "        # Añadir la nueva fila al resultado si no está vacía\n",
        "        if new_row:\n",
        "            result.append(new_row)\n",
        "\n",
        "    return result\n",
        "\n",
        "# Método 4\n",
        "def peel_layer_off(matriz):\n",
        "    # Si la matriz es demasiado pequeña, devolver lista vacía\n",
        "    if len(matriz) <= 2 or len(matriz[0]) <= 2:\n",
        "        return []\n",
        "\n",
        "    # Eliminar la primera y última fila\n",
        "    matriz.pop(0)\n",
        "    matriz.pop()\n",
        "\n",
        "    # Eliminar el primer y último elemento de cada fila restante\n",
        "    for fila in matriz:\n",
        "        fila.pop(0)\n",
        "        fila.pop()\n",
        "\n",
        "    return matriz\n",
        "\n",
        "# Método 5\n",
        "import numpy as np\n",
        "\n",
        "def peel_layer_off(matriz):\n",
        "    # Convertir la entrada a un array de NumPy\n",
        "    arr = np.array(matriz)\n",
        "\n",
        "    # Verificar si la matriz es demasiado pequeña\n",
        "    if arr.shape[0] <= 2 or arr.shape[1] <= 2:\n",
        "        return []\n",
        "\n",
        "    # Usar slicing para \"pelar\" la capa exterior\n",
        "    return arr[1:-1, 1:-1].tolist()"
      ],
      "metadata": {
        "id": "_9a-z09FLM0k"
      },
      "execution_count": null,
      "outputs": []
    },
    {
      "cell_type": "code",
      "source": [
        "matriz1 = [\n",
        "  [\"a\", \"b\", \"c\", \"d\"],\n",
        "  [\"e\", \"f\", \"g\", \"h\"],\n",
        "  [\"i\", \"j\", \"k\", \"l\"],\n",
        "  [\"m\", \"n\", \"o\", \"p\"]\n",
        "]\n",
        "\n",
        "matriz2 = [\n",
        "  [1, 2, 3, 4, 5],\n",
        "  [6, 7, 8, 9, 10],\n",
        "  [11, 12, 13, 14, 15],\n",
        "  [16, 17, 18, 19, 20],\n",
        "  [21, 22, 23, 24, 25],\n",
        "  [26, 27, 28, 29, 30],\n",
        "  [31, 32, 33, 34, 35]\n",
        "]\n",
        "\n",
        "matriz3 = [\n",
        "  [True, False, True],\n",
        "  [False, False, True],\n",
        "  [True, True, True]\n",
        "]\n",
        "\n",
        "matriz4 = [\n",
        "  [\"hello\", \"world\"],\n",
        "  [\"hello\", \"world\"]\n",
        "]\n",
        "\n",
        "print(peel_layer_off(matriz1))\n",
        "print(peel_layer_off(matriz2))\n",
        "print(peel_layer_off(matriz3))\n",
        "print(peel_layer_off(matriz4))"
      ],
      "metadata": {
        "id": "jSIiQqtbLM0k",
        "colab": {
          "base_uri": "https://localhost:8080/"
        },
        "outputId": "8851df89-3098-4010-b2b6-3d6fa357d0e7"
      },
      "execution_count": null,
      "outputs": [
        {
          "output_type": "stream",
          "name": "stdout",
          "text": [
            "[['f', 'g'], ['j', 'k']]\n",
            "[[7, 8, 9], [12, 13, 14], [17, 18, 19], [22, 23, 24], [27, 28, 29]]\n",
            "[[False]]\n",
            "[]\n"
          ]
        }
      ]
    },
    {
      "cell_type": "markdown",
      "source": [
        "## Reto 565: Conversor de Binario a Decimal\n",
        "* Binary to Decimal Converter\n",
        "* Se te proporciona una entrada: una lista que contiene ocho 1's y/o 0's.\n",
        "* Escribe una función que tome un número binario de `8 bits` y lo convierta a decimal.\n",
        "\n",
        "* **Ejemplos**\n",
        "\n",
        "```\n",
        "binary_to_decimal([0, 0, 0, 0, 0, 0, 0, 0]) ➞ 0\n",
        "binary_to_decimal([0, 0, 0, 0, 0, 0, 1, 1]) ➞ 3\n",
        "binary_to_decimal([0, 0, 1, 1, 1, 1, 0, 0]) ➞ 60\n",
        "binary_to_decimal([1, 1, 1, 1, 1, 1, 1, 1]) ➞ 255\n",
        "```\n",
        "\n",
        "* **Notas**\n",
        "    - Devuelve un entero."
      ],
      "metadata": {
        "id": "skyyiwalLM63"
      }
    },
    {
      "cell_type": "code",
      "source": [
        "# Método 1\n",
        "def binary_to_decimal(lst_bin):\n",
        "    str_bin = ''.join(map(str,lst_bin))\n",
        "    return int(str_bin, 2)\n",
        "\n",
        "# Método 2\n",
        "def binary_to_decimal(binario):\n",
        "    return sum(bit << i for i, bit in enumerate(reversed(binario)))\n",
        "\n",
        "# Método 3\n",
        "def binary_to_decimal(binario):\n",
        "    decimal = 0\n",
        "    for bit in binario:\n",
        "        decimal = decimal * 2 + bit\n",
        "    return decimal\n",
        "\n",
        "# Método 4\n",
        "def binary_to_decimal(binario):\n",
        "    decimal = 0\n",
        "    potencia = 1\n",
        "    for bit in reversed(binario):\n",
        "        decimal += bit * potencia\n",
        "        potencia = (potencia * 2) % 256\n",
        "    return decimal\n",
        "\n",
        "# Método 5\n",
        "def binary_to_decimal(binario):\n",
        "    return sum(bit * (2 ** i) for i, bit in enumerate(reversed(binario)))"
      ],
      "metadata": {
        "id": "vYDysMfrLM64"
      },
      "execution_count": null,
      "outputs": []
    },
    {
      "cell_type": "code",
      "source": [
        "print(binary_to_decimal([0, 0, 0, 0, 0, 0, 0, 0]))  # 0\n",
        "print(binary_to_decimal([0, 0, 0, 0, 0, 0, 1, 1]))  # 3\n",
        "print(binary_to_decimal([0, 0, 1, 1, 1, 1, 0, 0]))  # 60\n",
        "print(binary_to_decimal([1, 1, 1, 1, 1, 1, 1, 1]))  # 255"
      ],
      "metadata": {
        "id": "VZnOmYkVLM64",
        "colab": {
          "base_uri": "https://localhost:8080/"
        },
        "outputId": "e2a6c085-0589-4cab-b971-996fec593974"
      },
      "execution_count": null,
      "outputs": [
        {
          "output_type": "stream",
          "name": "stdout",
          "text": [
            "0\n",
            "3\n",
            "60\n",
            "255\n"
          ]
        }
      ]
    },
    {
      "cell_type": "markdown",
      "source": [
        "## Reto 566: Cadencias Musicales\n",
        "* Musical Cadences\n",
        "* En música, las cadencias actúan como *puntuación* en las frases musicales y ayudan a marcar el final de las frases. Las cadencias son los dos acordes al final de una frase.\n",
        "* Las diferentes cadencias son las siguientes:\n",
        "    1. **V** seguido de **I** es una *Cadencia Perfecta*\n",
        "    2. **IV** seguido de **I** es una *Cadencia Plagal*\n",
        "    3. **V** seguido de **Cualquier acorde que no sea I** es una *Cadencia Interrumpida*\n",
        "    4. **Cualquier acorde** seguido de **V** es una *Cadencia Imperfecta*\n",
        "\n",
        "* Crea una función que, dada una progresión de acordes como una lista, devuelva el tipo de cadencia con la que termina la frase.\n",
        "\n",
        "* **Ejemplos**\n",
        "\n",
        "```\n",
        "encontrar_cadencia([\"I\", \"IV\", \"V\"]) ➞ \"imperfecta\"\n",
        "\n",
        "encontrar_cadencia([\"ii\", \"V\", \"I\"]) ➞ \"perfecta\"\n",
        "\n",
        "encontrar_cadencia([\"I\", \"IV\", \"I\", \"V\", \"vi\"]) ➞ \"interrumpida\"\n",
        "```\n",
        "\n",
        "* **Notas**\n",
        "    - Devuelve las cadencias en minúsculas.\n",
        "    - Solo enfócate en los dos últimos acordes de una progresión.\n",
        "    - Devuelve `\"sin cadencia\"` si ninguno de los criterios coincide.\n",
        "    - **I** es una **i** mayúscula, no una **L** minúscula."
      ],
      "metadata": {
        "id": "rjg7iNPbLNBK"
      }
    },
    {
      "cell_type": "code",
      "source": [
        "# Método 1: Usando condicionales if-elif\n",
        "def encontrar_cadencia(progresion):\n",
        "    if len(progresion) < 2:\n",
        "        return \"sin cadencia\"\n",
        "\n",
        "    penultimo, ultimo = progresion[-2:]\n",
        "\n",
        "    if penultimo == \"V\" and ultimo == \"I\":\n",
        "        return \"perfecta\"\n",
        "    elif penultimo == \"IV\" and ultimo == \"I\":\n",
        "        return \"plagal\"\n",
        "    elif penultimo == \"V\" and ultimo != \"I\":\n",
        "        return \"interrumpida\"\n",
        "    elif ultimo == \"V\":\n",
        "        return \"imperfecta\"\n",
        "    else:\n",
        "        return \"sin cadencia\"\n",
        "\n",
        "# Método 2: Usando un diccionario de funciones\n",
        "def encontrar_cadencia(progresion):\n",
        "    if len(progresion) < 2:\n",
        "        return \"sin cadencia\"\n",
        "\n",
        "    penultimo, ultimo = progresion[-2:]\n",
        "\n",
        "    def es_perfecta(p, u):\n",
        "        return p == \"V\" and u == \"I\"\n",
        "\n",
        "    def es_plagal(p, u):\n",
        "        return p == \"IV\" and u == \"I\"\n",
        "\n",
        "    def es_interrumpida(p, u):\n",
        "        return p == \"V\" and u != \"I\"\n",
        "\n",
        "    def es_imperfecta(p, u):\n",
        "        return u == \"V\"\n",
        "\n",
        "    cadencias = {\n",
        "        \"perfecta\": es_perfecta,\n",
        "        \"plagal\": es_plagal,\n",
        "        \"interrumpida\": es_interrumpida,\n",
        "        \"imperfecta\": es_imperfecta\n",
        "    }\n",
        "\n",
        "    for nombre, funcion in cadencias.items():\n",
        "        if funcion(penultimo, ultimo):\n",
        "            return nombre\n",
        "\n",
        "    return \"sin cadencia\"\n",
        "\n",
        "# Método 3: Usando expresiones `lambda` y la función `filter`\n",
        "def encontrar_cadencia(progresion):\n",
        "    if len(progresion) < 2:\n",
        "        return \"sin cadencia\"\n",
        "\n",
        "    penultimo, ultimo = progresion[-2:]\n",
        "\n",
        "    cadencias = [\n",
        "        (\"perfecta\", lambda p, u: p == \"V\" and u == \"I\"),\n",
        "        (\"plagal\", lambda p, u: p == \"IV\" and u == \"I\"),\n",
        "        (\"interrumpida\", lambda p, u: p == \"V\" and u != \"I\"),\n",
        "        (\"imperfecta\", lambda p, u: u == \"V\")\n",
        "    ]\n",
        "\n",
        "    resultado = list(filter(lambda x: x[1](penultimo, ultimo), cadencias))\n",
        "\n",
        "    return resultado[0][0] if resultado else \"sin cadencia\"\n",
        "\n",
        "# Método 4. Similar al método anterior pero sin `filter`\n",
        "def encontrar_cadencia(progresion):\n",
        "    if len(progresion) < 2:\n",
        "        return \"sin cadencia\"\n",
        "\n",
        "    penultimo, ultimo = progresion[-2:]\n",
        "\n",
        "    cadencias = [\n",
        "        (\"perfecta\", lambda p, u: p == \"V\" and u == \"I\"),\n",
        "        (\"plagal\", lambda p, u: p == \"IV\" and u == \"I\"),\n",
        "        (\"interrumpida\", lambda p, u: p == \"V\" and u != \"I\"),\n",
        "        (\"imperfecta\", lambda p, u: u == \"V\")\n",
        "    ]\n",
        "\n",
        "    for nombre, condicion in cadencias:\n",
        "        if condicion(penultimo, ultimo):\n",
        "            return nombre\n",
        "\n",
        "    return \"sin cadencia\""
      ],
      "metadata": {
        "id": "DLlmx8xGLNBL"
      },
      "execution_count": null,
      "outputs": []
    },
    {
      "cell_type": "code",
      "source": [
        "print(encontrar_cadencia([\"I\", \"IV\", \"V\"]))             # imperfecta\n",
        "print(encontrar_cadencia([\"ii\", \"V\", \"I\"]))             # perfecta\n",
        "print(encontrar_cadencia([\"I\", \"IV\", \"I\", \"V\", \"vi\"]))  # interrumpida\n",
        "print(encontrar_cadencia([\"I\"]))                        # sin cadencia\n",
        "print(encontrar_cadencia([\"I\", \"I\"]))                   # sin cadencia"
      ],
      "metadata": {
        "id": "sl2Nh-3ELNBL",
        "colab": {
          "base_uri": "https://localhost:8080/"
        },
        "outputId": "5068ee6f-9e0d-4350-d014-3bf21c65f8af"
      },
      "execution_count": null,
      "outputs": [
        {
          "output_type": "stream",
          "name": "stdout",
          "text": [
            "imperfecta\n",
            "perfecta\n",
            "interrumpida\n",
            "sin cadencia\n",
            "sin cadencia\n"
          ]
        }
      ]
    },
    {
      "cell_type": "markdown",
      "source": [
        "#### Uso de `filter` en el Método 3\n",
        "\n",
        "El método `filter` en Python se utiliza para crear una nueva iteración (un filtro) sobre los elementos de una secuencia (en este caso, la lista `cadencias`), manteniendo solo aquellos elementos para los cuales una función dada retorna `True`.\n",
        "\n",
        "##### Descripción en el Código:\n",
        "\n",
        "```python\n",
        "resultado = list(filter(lambda x: x[1](penultimo, ultimo), cadencias))\n",
        "```\n",
        "\n",
        "1. **Entrada**\n",
        "   - `cadencias`: Es una lista de tuplas, donde cada tupla contiene el nombre de la cadencia y una función lambda que determina si los acordes corresponden a esa cadencia.\n",
        "   - `penultimo, ultimo`: Son los dos últimos acordes de la progresión musical que se están evaluando.\n",
        "\n",
        "2. **`lambda x: x[1](penultimo, ultimo)`**\n",
        "   - Aquí `x` representa cada elemento (tupla) en la lista `cadencias`.\n",
        "   - `x[1]` es la función lambda dentro de la tupla, que se llama con los acordes `penultimo` y `ultimo` como argumentos.\n",
        "   - Si la función lambda retorna `True`, `filter` incluye esa tupla en el resultado.\n",
        "\n",
        "3. **Salida**\n",
        "   - `filter` retorna un iterador con las tuplas que cumplen la condición.\n",
        "   - La conversión a `list` se usa para materializar este iterador en una lista, asignando el resultado a la variable `resultado`.\n",
        "\n",
        "4. **Evaluación del Resultado**\n",
        "   - Si `resultado` no está vacío (`if resultado:`), la función retorna el nombre de la primera cadencia coincidente (`resultado[0][0]`).\n",
        "   - Si `resultado` está vacío, significa que ninguna cadencia cumplió la condición, y se retorna `\"sin cadencia\"`."
      ],
      "metadata": {
        "id": "t3Dj5BCue0Ot"
      }
    },
    {
      "cell_type": "markdown",
      "source": [
        "## Reto 567: Conteo de Dígitos Enteros\n",
        "* Integer Digits Count\n",
        "* Crea una función que cuente el número de dígitos de un número entero.\n",
        "\n",
        "* **Ejemplos**\n",
        "\n",
        "```\n",
        "count(318) ➞ 3\n",
        "count(-92563) ➞ 5\n",
        "count(4666) ➞ 4\n",
        "count(-314890) ➞ 6\n",
        "count(654321) ➞ 6\n",
        "count(638476) ➞ 6\n",
        "```\n",
        "\n",
        "* **Notas**\n",
        "    - Resuelve esto sin usar cadenas de texto.\n",
        "    - Alternativamente, puedes resolver esto mediante un enfoque recursivo."
      ],
      "metadata": {
        "id": "yzgkeQHcLNHJ"
      }
    },
    {
      "cell_type": "code",
      "source": [
        "# Método 1: Usando operaciones matemáticas\n",
        "def count(num):\n",
        "    if num == 0:\n",
        "        return 1\n",
        "    num = abs(num)\n",
        "    count = 0\n",
        "    while num > 0:\n",
        "        num //= 10\n",
        "        count += 1\n",
        "    return count\n",
        "\n",
        "# Método 2: Usando logaritmos\n",
        "import math\n",
        "\n",
        "def count(num):\n",
        "    if num == 0:\n",
        "        return 1\n",
        "    return int(math.log10(abs(num))) + 1\n",
        "\n",
        "# En lugar de int, se puede usar math.floor, que para números enteros muy grandes\n",
        "# cercanos al límite de los int, es preferible ya que puede evitar errores\n",
        "\n",
        "# Método 3: Usando recursión\n",
        "def count(num):\n",
        "    if abs(num) < 10:\n",
        "        return 1\n",
        "    return 1 + count(abs(num) // 10)"
      ],
      "metadata": {
        "id": "kLI_QC9gLNHJ"
      },
      "execution_count": null,
      "outputs": []
    },
    {
      "cell_type": "code",
      "source": [
        "print(count(318))       # 3\n",
        "print(count(-92563))    # 5\n",
        "print(count(4666))      # 4\n",
        "print(count(-314890))   # 6\n",
        "print(count(654321))    # 6\n",
        "print(count(638476))    # 6"
      ],
      "metadata": {
        "id": "EYukYgtgLNHJ",
        "colab": {
          "base_uri": "https://localhost:8080/"
        },
        "outputId": "f0449229-e2d6-4c3c-b482-c8c83459e8f2"
      },
      "execution_count": null,
      "outputs": [
        {
          "output_type": "stream",
          "name": "stdout",
          "text": [
            "3\n",
            "5\n",
            "4\n",
            "6\n",
            "6\n",
            "6\n"
          ]
        }
      ]
    },
    {
      "cell_type": "markdown",
      "source": [
        "## Reto 568: Me gusta vs. No me gusta\n",
        "* Likes vs. Dislikes\n",
        "* Cierta red social muestra un botón de \"Like\" y otro de \"Dislike\", permitiéndote expresar tus opiniones sobre un contenido en particular.\n",
        "* Está configurado de tal manera que no puedes dar \"me gusta\" y \"no me gusta\" a un video al mismo tiempo.\n",
        "* Hay otras dos reglas interesantes a tener en cuenta sobre la interfaz:\n",
        "    1. Presionar un botón que ya está activo anulará tu acción.\n",
        "    2. Si presionas el botón de \"Like\" después de haber presionado el botón de \"Dislike\", el botón de \"Like\" sobrescribirá el estado anterior de \"Dislike\". Lo mismo es cierto en el sentido contrario.\n",
        "* Crea una función que tome una lista de entradas de botones y devuelva el estado final.\n",
        "\n",
        "* **Ejemplos**\n",
        "\n",
        "```\n",
        "like_or_dislike([])                             ➞ \"Nothing\"\n",
        "like_or_dislike([\"Dislike\"])                    ➞ \"Dislike\"\n",
        "like_or_dislike([\"Dislike\", \"Dislike\"])         ➞ \"Nothing\"\n",
        "like_or_dislike([\"Dislike\", \"Like\"])            ➞ \"Like\"\n",
        "like_or_dislike([\"Like\", \"Dislike\", \"Dislike\"]) ➞ \"Nothing\"\n",
        "```\n",
        "\n",
        "* **Notas**\n",
        "    - Si ningún botón está actualmente activo, devuelve `\"Nothing\"`.\n",
        "    - Si la lista está vacía, devuelve `\"Nothing\"`."
      ],
      "metadata": {
        "id": "eahEzmzyLNNG"
      }
    },
    {
      "cell_type": "code",
      "source": [
        "# Método 1\n",
        "def like_or_dislike(lista):\n",
        "    if not lista:               # si la lista está vacía\n",
        "        return \"Nothing\"\n",
        "    estado = \"Nothing\"          # inicializamos la bandera\n",
        "    for elemento in lista:\n",
        "        if elemento == estado:\n",
        "            estado = \"Nothing\"\n",
        "        else:\n",
        "            estado = elemento\n",
        "    return estado\n",
        "\n",
        "# Método 2. Usando una bandera de número entero: -1 (Dislike), 0 (Nothing), 1 (Like)\n",
        "def like_or_dislike(lista):\n",
        "    estado = 0  # Inicializamos el estado como 0 (\"Nothing\")\n",
        "\n",
        "    for accion in lista:\n",
        "        if accion == \"Like\":\n",
        "            estado = 1 if estado != 1 else 0\n",
        "        elif accion == \"Dislike\":\n",
        "            estado = -1 if estado != -1 else 0\n",
        "\n",
        "    # Convertimos el número de vuelta a string para el resultado final\n",
        "    if estado == 0:\n",
        "        return \"Nothing\"\n",
        "    elif estado == 1:\n",
        "        return \"Like\"\n",
        "    else:\n",
        "        return \"Dislike\""
      ],
      "metadata": {
        "id": "bt1kAeH8LNNH"
      },
      "execution_count": null,
      "outputs": []
    },
    {
      "cell_type": "code",
      "source": [
        "print(like_or_dislike([]))                              # \"Nothing\"\n",
        "print(like_or_dislike([\"Dislike\"]))                     # \"Dislike\"\n",
        "print(like_or_dislike([\"Dislike\", \"Dislike\"]))          # \"Nothing\"\n",
        "print(like_or_dislike([\"Dislike\", \"Like\"]))             # \"Like\"\n",
        "print(like_or_dislike([\"Like\", \"Dislike\", \"Dislike\"]))  # \"Nothing\""
      ],
      "metadata": {
        "id": "lk_T2N1oLNNH",
        "colab": {
          "base_uri": "https://localhost:8080/"
        },
        "outputId": "4bad6d00-1ee9-4cf6-94d2-7f0acc4926a0"
      },
      "execution_count": null,
      "outputs": [
        {
          "output_type": "stream",
          "name": "stdout",
          "text": [
            "Nothing\n",
            "Dislike\n",
            "Nothing\n",
            "Like\n",
            "Nothing\n"
          ]
        }
      ]
    },
    {
      "cell_type": "markdown",
      "source": [
        "## Reto 569: ¡Aguanta la Respiración!\n",
        "* Hold Your Breath!\n",
        "* Se te dará una lista de números que representan la **altitud** de tu personaje sobre el nivel del mar a intervalos regulares:\n",
        "* Los números positivos representan la altura sobre el agua.\n",
        "* 0 es el nivel del mar.\n",
        "* Los números negativos representan la profundidad bajo la superficie del agua.\n",
        "\n",
        "**Crea una función que devuelva si tu personaje sobrevive a su experiencia de buceo sin supervisión, dada una lista de enteros.**\n",
        "\n",
        "1. Tu personaje comienza con un **medidor de respiración de 10**, que es el máximo. Al bucear bajo el agua, tu medidor de respiración **disminuye en 2** por cada elemento en el arreglo. ¡Cuidado! Si tu respiración **se reduce a 0**, ¡tu personaje muere!\n",
        "2. Para evitar esto, puedes reponer el nivel de respiración en 4 (hasta un máximo de 10) por cada elemento del conjunto en el que te encuentres al nivel del mar o por encima de él.\n",
        "3. Tu función debe devolver `True` si tu personaje sobrevive, y `False` si no.\n",
        "\n",
        "* **Ejemplo Desarrollado**\n",
        "\n",
        "```\n",
        "minijuego_buceo([-5, -15, -4, 0, 5]) ➞ True\n",
        "\n",
        "# El medidor de respiración comienza en 10.\n",
        "# -5 está bajo el agua, por lo que el medidor de respiración disminuye a 8.\n",
        "# -15 está bajo el agua, por lo que el medidor de respiración disminuye a 6.\n",
        "# -4 está bajo el agua, por lo que el medidor de respiración disminuye a 4.\n",
        "# 0 está al nivel del mar, por lo que el medidor de respiración aumenta a 8.\n",
        "# 5 está por encima del nivel del mar y el medidor de respiración se limita a 10 (de lo contrario habría sido 12).\n",
        "# ¡El personaje sobrevive!\n",
        "```\n",
        "\n",
        "* **Ejemplos**\n",
        "\n",
        "```\n",
        "minijuego_buceo([1, 2, 3, 4, 5, 6, 7, 8, 9, 10]) ➞ True\n",
        "minijuego_buceo([-3, -6, -2, -6, -2]) ➞ False\n",
        "minijuego_buceo([2, 1, 2, 1, -3, -4, -5, -3, -4]) ➞ False\n",
        "```\n",
        "\n",
        "* **Notas**\n",
        "    - Las listas pueden ser de cualquier longitud.\n",
        "    - Todas las listas son válidas."
      ],
      "metadata": {
        "id": "LyBHsamYLNTi"
      }
    },
    {
      "cell_type": "code",
      "source": [
        "# Método 1: Usando un bucle for\n",
        "def minijuego_buceo(altitudes):\n",
        "    respiracion = 10                # valor inicial, se comienza con 10\n",
        "    for altitud in altitudes:\n",
        "        if altitud < 0:\n",
        "            respiracion -= 2\n",
        "            if respiracion <= 0:    # muerte del personaje\n",
        "                return False\n",
        "        else:\n",
        "            respiracion += 4\n",
        "            respiracion = min(10, respiracion)\n",
        "    return True\n",
        "\n",
        "\n",
        "# Método 2. Básicamente igual que el método anterior\n",
        "def minijuego_buceo(altitudes):\n",
        "    respiracion = 10                # Inicializar el medidor de oxígeno\n",
        "    for altitud in altitudes:\n",
        "        if altitud < 0:\n",
        "            respiracion -= 2        # Si está bajo el agua, disminuye el oxígeno\n",
        "        else:\n",
        "            respiracion = min(respiracion + 4, 10)  # Si está en o sobre el nivel del mar, recupera oxígeno (máximo 10)\n",
        "\n",
        "        if respiracion <= 0:\n",
        "            return False            # Si el oxígeno llega a 0 o menos, el personaje muere instantáneamente\n",
        "\n",
        "    return True                     # Si termina el bucle y nunca llega a 0, el personaje sobrevive\n",
        "\n",
        "# Método 3. Función recursiva\n",
        "def minijuego_buceo(altitudes, respiracion=10):\n",
        "    if respiracion <= 0:\n",
        "        return False                # Si el oxígeno llega a 0 o menos, el personaje muere instantáneamente\n",
        "\n",
        "    if not altitudes:\n",
        "        return True                 # Si no quedan altitudes que revisar, el personaje sobrevive\n",
        "\n",
        "    altitud = altitudes[0]\n",
        "\n",
        "    if altitud < 0:\n",
        "        respiracion -= 2                                # Si está bajo el agua, disminuye el oxígeno\n",
        "    else:\n",
        "        respiracion = min(respiracion + 4, 10)          # Si está en o sobre el nivel del mar, recupera oxígeno (máximo 10)\n",
        "\n",
        "    return minijuego_buceo(altitudes[1:], respiracion)  # Llamada recursiva con el resto de altitudes\n",
        "\n",
        "# Método 4: Usando programación funcional con `reduce`\n",
        "from functools import reduce\n",
        "\n",
        "def minijuego_buceo(altitudes):\n",
        "    def actualizar_respiracion(respiracion, altitud):\n",
        "        if respiracion == 0:\n",
        "            return 0  # Si la respiración es 0, el personaje está muerto y no puede recuperarse\n",
        "        nueva_respiracion = respiracion - 2 if altitud < 0 else min(10, respiracion + 4)\n",
        "        return max(nueva_respiracion, 0)  # Aseguramos que la respiración no sea negativa\n",
        "\n",
        "    return reduce(actualizar_respiracion, altitudes, 10) > 0"
      ],
      "metadata": {
        "id": "Uo4ZObcALNTj"
      },
      "execution_count": null,
      "outputs": []
    },
    {
      "cell_type": "code",
      "source": [
        "print(minijuego_buceo([]))                                 # True\n",
        "print(minijuego_buceo([1, 2, 3, 4, 5, 6, 7, 8, 9, 10]))    # True\n",
        "print(minijuego_buceo([-5, -15, -4, 0, 5]))                # True\n",
        "print(minijuego_buceo([0, 0, 0, 0, 0]))                    # True\n",
        "print(minijuego_buceo([1, -1, 1, -1, 1, -1]))              # True\n",
        "print(minijuego_buceo([-10, -20, -30, -10, 2, -3]))        # True\n",
        "print(minijuego_buceo([-1, -2, -3, -4, -5]))               # False\n",
        "print(minijuego_buceo([-3, -6, -2, -6, -2, 7, 1]))         # False\n",
        "print(minijuego_buceo([2, 1, 2, 1, -3, -4, -5, -3, -4]))   # False"
      ],
      "metadata": {
        "id": "5sQe_lqeLNTj",
        "colab": {
          "base_uri": "https://localhost:8080/"
        },
        "outputId": "94e749cf-f549-4605-8bf7-d4c375b5372e"
      },
      "execution_count": null,
      "outputs": [
        {
          "output_type": "stream",
          "name": "stdout",
          "text": [
            "True\n",
            "True\n",
            "True\n",
            "True\n",
            "True\n",
            "True\n",
            "False\n",
            "False\n",
            "False\n"
          ]
        }
      ]
    },
    {
      "cell_type": "markdown",
      "source": [
        "## Reto 570: Distancia de los dígitos\n",
        "* Digit Distance\n",
        "* La **distancia de los dígitos** entre dos números es el valor total de la diferencia entre cada par de dígitos.\n",
        "* Para ilustrar:\n",
        "\n",
        "```\n",
        "distancia_digitos(234, 489) ➞ 12\n",
        "# Dado que |2 - 4| + |3 - 8| + |4 - 9| = 2 + 5 + 5\n",
        "```\n",
        "\n",
        "* Crea una función que devuelva la **distancia de los dígitos** entre dos enteros.\n",
        "\n",
        "* **Ejemplos**\n",
        "\n",
        "```\n",
        "distancia_digitos(121, 599) ➞ 19\n",
        "\n",
        "distancia_digitos(12, 12) ➞ 0\n",
        "\n",
        "distancia_digitos(10, 20) ➞ 1\n",
        "```\n",
        "\n",
        "* **Notas**\n",
        "    - Ambos enteros tendrán exactamente la misma longitud.\n",
        "    - Todos los dígitos en `num2` tienen que ser más altos o iguales que sus homólogos en `num1`."
      ],
      "metadata": {
        "id": "SQWyZ6-ALNZx"
      }
    },
    {
      "cell_type": "code",
      "source": [
        "# Método 1: Usando listas y un bucle for\n",
        "def distancia_digitos(num1, num2):\n",
        "    distancia = 0\n",
        "    for i in range(len(str(num1))):\n",
        "        distancia += abs(int(str(num1)[i]) - int(str(num2)[i]))\n",
        "    return distancia\n",
        "\n",
        "# Método 2: Usando sum y una list comprehension\n",
        "def distancia_digitos(num1, num2):\n",
        "    return sum(abs(int(a) - int(b)) for a, b in zip(str(num1), str(num2)))\n",
        "\n",
        "# Método 3: Usando map y abs\n",
        "def distancia_digitos(num1, num2):\n",
        "    return sum(map(lambda x, y: abs(int(x) - int(y)), str(num1), str(num2)))\n",
        "\n",
        "# Método 4: Usando una función auxiliar que suma los dígitos\n",
        "def sum_digits(n):\n",
        "    s = 0\n",
        "    while n:\n",
        "        s += n % 10\n",
        "        n //= 10\n",
        "    return s\n",
        "\n",
        "def distancia_digitos(n1, n2):\n",
        "    return abs(sum_digits(n1) - sum_digits(n2))\n",
        "\n",
        "# Método 5: Usando una función auxiliar que suma los dígitos con divmod\n",
        "def sum_digits(n):\n",
        "    s = 0\n",
        "    while n:\n",
        "        n, remainder = divmod(n, 10)\n",
        "        s += remainder\n",
        "    return s\n",
        "\n",
        "def distancia_digitos(n1, n2):\n",
        "    return abs(sum_digits(n1) - sum_digits(n2))\n",
        "\n",
        "# Método 6:\n",
        "def distancia_digitos(n1, n2):\n",
        "    return abs(sum([int(k) for k in str(n1)]) - sum([int(k) for k in str(n2)]))"
      ],
      "metadata": {
        "id": "92mwwCgALNZy"
      },
      "execution_count": null,
      "outputs": []
    },
    {
      "cell_type": "code",
      "source": [
        "print(distancia_digitos(234, 489))                  # 12\n",
        "print(distancia_digitos(121, 599))                  # 19\n",
        "print(distancia_digitos(12, 12))                    # 0\n",
        "print(distancia_digitos(10, 20))                    # 1\n",
        "print(distancia_digitos(1023456789, 1034567899))    # 7"
      ],
      "metadata": {
        "id": "3mS_3YvwLNZy",
        "colab": {
          "base_uri": "https://localhost:8080/"
        },
        "outputId": "73e944bf-a6d8-4e12-d4b5-7c3996338974"
      },
      "execution_count": null,
      "outputs": [
        {
          "output_type": "stream",
          "name": "stdout",
          "text": [
            "12\n",
            "19\n",
            "0\n",
            "1\n",
            "7\n"
          ]
        }
      ]
    },
    {
      "cell_type": "markdown",
      "source": [
        "## Reto 571: Operaciones\n",
        "* Operations\n",
        "* Escribe una función que realice las siguientes operaciones: suma, resta, división o multiplicación de valores.\n",
        "* Se refiere simplemente como *variable operación variable*.\n",
        "* Por supuesto, las variables tienen que estar definidas, pero en este desafío las variables serán definidas para ti. Todo lo que tienes que hacer es mirar las variables, realizar algunas conversiones de cadena a entero, usar algunas condiciones `if`, y combinarlas según la operación.\n",
        "\n",
        "* Los números y la operación se darán como cadenas, y deberías devolver el valor como una cadena también.\n",
        "\n",
        "* **Ejemplos**\n",
        "\n",
        "```\n",
        "operation(\"1\", \"2\", \"add\") ➞ \"3\"\n",
        "operation(\"4\", \"5\", \"subtract\") ➞ \"-1\"\n",
        "operation(\"6\", \"3\", \"divide\") ➞ \"2\"\n",
        "operation(\"2\", \"-1\", \"multiply\") ➞ \"-2\"\n",
        "```\n",
        "\n",
        "* **Notas**\n",
        "    - Los números y la operación se darán como cadenas, y también deberías devolver el valor como una cadena.\n",
        "    - Si la respuesta es `\"indefinido\"`, devuelve `\"indefinido\"` (por ejemplo, al dividir por cero).\n",
        "    - Para la división, redondea hacia abajo a un número entero."
      ],
      "metadata": {
        "id": "19F1TQk717CY"
      }
    },
    {
      "cell_type": "code",
      "source": [
        "# Método 1\n",
        "def operation(a, b, op):\n",
        "    # Convertir las cadenas a enteros\n",
        "    num1 = int(a)\n",
        "    num2 = int(b)\n",
        "\n",
        "    # Realizar la operación basada en el valor de 'op'\n",
        "    if op == \"add\":\n",
        "        result = num1 + num2\n",
        "    elif op == \"subtract\":\n",
        "        result = num1 - num2\n",
        "    elif op == \"multiply\":\n",
        "        result = num1 * num2\n",
        "    elif op == \"divide\":\n",
        "        if num2 == 0:\n",
        "            return \"indefinido\"  # Manejo de la división por cero\n",
        "        result = num1 // num2  # División entera (redondeo hacia abajo)\n",
        "    else:\n",
        "        return \"Operación no válida\"  # Por si acaso se pasa una operación desconocida\n",
        "\n",
        "    # Convertir el resultado a cadena y devolverlo\n",
        "    return str(result)\n",
        "\n",
        "# Método 2. Usando un diccionario con funciones lambda\n",
        "def operation(a, b, op):\n",
        "    # Convertir las cadenas a enteros\n",
        "    num1 = int(a)\n",
        "    num2 = int(b)\n",
        "\n",
        "    # Diccionario que asocia las operaciones con funciones lambda\n",
        "    operaciones = {\n",
        "        \"add\": lambda x, y: x + y,\n",
        "        \"subtract\": lambda x, y: x - y,\n",
        "        \"multiply\": lambda x, y: x * y,\n",
        "        \"divide\": lambda x, y: \"indefinido\" if y == 0 else x // y\n",
        "    }\n",
        "\n",
        "    # Ejecutar la operación correspondiente y devolver el resultado como cadena\n",
        "    return str(operaciones[op](num1, num2))\n",
        "\n",
        "# Método 3. Con eval y manejo de excepciones\n",
        "def operation(a, b, op):\n",
        "    # Diccionario para convertir el nombre de la operación en un operador\n",
        "    operadores = {\n",
        "        \"add\": \"+\",\n",
        "        \"subtract\": \"-\",\n",
        "        \"multiply\": \"*\",\n",
        "        \"divide\": \"//\"\n",
        "    }\n",
        "\n",
        "    try:\n",
        "        # Crear la expresión aritmética como cadena\n",
        "        expresion = f\"{int(a)} {operadores[op]} {int(b)}\"\n",
        "\n",
        "        # Evaluar la expresión usando eval()\n",
        "        resultado = eval(expresion)\n",
        "\n",
        "        # Devolver el resultado como cadena\n",
        "        return str(resultado)\n",
        "\n",
        "    except ZeroDivisionError:\n",
        "        # Manejo de la división por cero\n",
        "        return \"indefinido\"\n",
        "\n",
        "    except Exception as e:\n",
        "        # Manejo de cualquier otro error inesperado\n",
        "        return f\"Error: {str(e)}\""
      ],
      "metadata": {
        "id": "poQQ608a17CZ"
      },
      "execution_count": null,
      "outputs": []
    },
    {
      "cell_type": "code",
      "source": [
        "print(operation(\"1\", \"2\", \"add\"))        # \"3\"\n",
        "print(operation(\"4\", \"5\", \"subtract\"))   # \"-1\"\n",
        "print(operation(\"6\", \"3\", \"divide\"))     # \"2\"\n",
        "print(operation(\"2\", \"-1\", \"multiply\"))  # \"-2\"\n",
        "print(operation(\"2\", \"0\", \"divide\"))     # \"indefinido\""
      ],
      "metadata": {
        "colab": {
          "base_uri": "https://localhost:8080/"
        },
        "id": "omFaRTNv17CZ",
        "outputId": "15934ad7-4e2a-45b9-e852-a6ceabfdef5f"
      },
      "execution_count": null,
      "outputs": [
        {
          "output_type": "stream",
          "name": "stdout",
          "text": [
            "3\n",
            "-1\n",
            "2\n",
            "-2\n",
            "indefinido\n"
          ]
        }
      ]
    },
    {
      "cell_type": "markdown",
      "source": [
        "## Reto 572: Lista Acumulativa\n",
        "* Accumulating List\n",
        "* Crea una función que reciba una lista y devuelva una lista de la suma acumulativa.\n",
        "\n",
        "* **Ejemplos**\n",
        "\n",
        "```\n",
        "accumulating_list([1, 2, 3, 4]) ➞ [1, 3, 6, 10]\n",
        "#[1, 3, 6, 10] puede escribirse como [1, 1 + 2, 1 + 2 + 3, 1 + 2 + 3 + 4]\n",
        "\n",
        "accumulating_list([1, 5, 7]) ➞ [1, 6, 13]\n",
        "\n",
        "accumulating_list([1, 0, 1, 0, 1]) ➞ [1, 1, 2, 2, 3]\n",
        "\n",
        "accumulating_list([]) ➞ []\n",
        "```\n",
        "\n",
        "* **Notas**\n",
        "    - Una lista vacía de entrada `[]` debe devolver una lista vacía `[]`."
      ],
      "metadata": {
        "id": "2qYXWER22Cq3"
      }
    },
    {
      "cell_type": "code",
      "source": [
        "# Método 1\n",
        "def accumulating_list(lst):\n",
        "    acumulado = []\n",
        "    for i in range(len(lst)):\n",
        "        acumulado.append(sum(lst[:i+1]))\n",
        "    return acumulado\n",
        "\n",
        "# Método 2. Acumulando en la variable total y luego haciendo un append\n",
        "def accumulating_list(lst):\n",
        "    result = []\n",
        "    total = 0\n",
        "    for num in lst:\n",
        "        total += num\n",
        "        result.append(total)\n",
        "    return result\n",
        "\n",
        "# Método 3. Con accumulate de la librería itertools\n",
        "from itertools import accumulate\n",
        "\n",
        "def accumulating_list(lst):\n",
        "    return list(accumulate(lst))\n",
        "\n",
        "# Método 4. Usando map\n",
        "def accumulating_list(lst):\n",
        "    return list(map(lambda i: sum(lst[:i+1]), range(len(lst))))\n",
        "\n",
        "# Método 5. List comprehension\n",
        "def accumulating_list(lst):\n",
        "    return [sum(lst[:i+1]) for i in range(len(lst))]\n",
        "\n",
        "# Método 6. Usando NumPy\n",
        "import numpy as np\n",
        "\n",
        "def accumulating_list(lst):\n",
        "    return np.cumsum(lst)\n",
        "\n",
        "# Método 7. Con reduce\n",
        "from functools import reduce\n",
        "\n",
        "def accumulating_list(lst):\n",
        "    return [x for x in reduce(lambda acc, x: acc + [acc[-1] + x] if acc else [x], lst, [])]\n",
        "\n",
        "# Método 8. Con reduce, otra variante\n",
        "from functools import reduce\n",
        "\n",
        "def accumulating_list(lst):\n",
        "    return reduce(lambda c, x: c + [c[-1] + x], lst, [0])[1:]\n",
        "\n",
        "# Método 9. Usando el operador morsa\n",
        "def accumulating_list(lst):\n",
        "    total = 0\n",
        "    return [total := total + t for t in lst]"
      ],
      "metadata": {
        "id": "OvrglQLS2CrD"
      },
      "execution_count": null,
      "outputs": []
    },
    {
      "cell_type": "code",
      "source": [
        "print(accumulating_list([1, 2, 3, 4]))      # [1, 3, 6, 10]\n",
        "print(accumulating_list([1, 5, 7]))         # [1, 6, 13]\n",
        "print(accumulating_list([1, 0, 1, 0, 1]))   # [1, 1, 2, 2, 3]\n",
        "print(accumulating_list([]))                # []"
      ],
      "metadata": {
        "id": "2xEEd16b2CrD",
        "colab": {
          "base_uri": "https://localhost:8080/"
        },
        "outputId": "c84c1189-f75c-4be8-dbc4-4fdeb0d07c40"
      },
      "execution_count": null,
      "outputs": [
        {
          "output_type": "stream",
          "name": "stdout",
          "text": [
            "[1, 3, 6, 10]\n",
            "[1, 6, 13]\n",
            "[1, 1, 2, 2, 3]\n",
            "[]\n"
          ]
        }
      ]
    },
    {
      "cell_type": "markdown",
      "source": [
        "## Reto 573: Encuentra el número par más grande\n",
        "* Find The Largest Even Number\n",
        "* Escribe una función que encuentre el número **par** más grande en una lista.\n",
        "* Devuelve `-1` si no se encuentra.\n",
        "* Está prohibido el uso de las funciones integradas `max()` y `sorted()`.\n",
        "\n",
        "* **Ejemplos**\n",
        "```\n",
        "largest_even([3, 7, 2, 1, 7, 9, 10, 13]) ➞ 10\n",
        "largest_even([1, 3, 5, 7]) ➞ -1\n",
        "largest_even([0, 19, 18973623]) ➞ 0\n",
        "```\n",
        "\n",
        "* **Notas**\n",
        "    - Considere usar el operador de módulo `%` o el operador bit a bit y `&`."
      ],
      "metadata": {
        "id": "dgMjFTwr2DwJ"
      }
    },
    {
      "cell_type": "code",
      "source": [
        "# Método 1\n",
        "def largest_even(lst):\n",
        "    if not lst:  # Verificar si la lista está vacía\n",
        "        return -1\n",
        "    maximo = lst[0]\n",
        "    for num in lst:\n",
        "        if num % 2 == 0 and num > maximo:\n",
        "            maximo = num\n",
        "    return maximo if maximo % 2 == 0 else -1\n",
        "\n",
        "# Método 2\n",
        "def largest_even(lst):\n",
        "    # Inicializar una variable para almacenar el mayor número par encontrado como None\n",
        "    largest = None\n",
        "\n",
        "    # Recorrer cada número en la lista\n",
        "    for num in lst:\n",
        "        # Verificar si el número es par\n",
        "        if num % 2 == 0:\n",
        "            # Si es par y es mayor que el mayor encontrado hasta ahora o si no hay ninguno\n",
        "            if largest is None or num > largest:\n",
        "                largest = num\n",
        "\n",
        "    # Si no se encontró ningún número par, retornar -1, de lo contrario, retornar el mayor\n",
        "    return largest if largest is not None else -1\n",
        "\n",
        "# Método 3\n",
        "def largest_even(lst):\n",
        "    # Inicializar una variable con un valor muy bajo\n",
        "    largest = float('-inf')\n",
        "\n",
        "    # Recorrer cada número en la lista\n",
        "    for num in lst:\n",
        "        # Verificar si el número es par\n",
        "        if num % 2 == 0:\n",
        "            # Si es par y mayor que el mayor encontrado hasta ahora\n",
        "            if num > largest:\n",
        "                largest = num\n",
        "\n",
        "    # Si no se encontró ningún número par, retornar -1\n",
        "    return largest if largest != float('-inf') else -1\n",
        "\n",
        "# Método 4\n",
        "def largest_even(lst):\n",
        "    # Filtrar solo los números pares\n",
        "    evens = [num for num in lst if num % 2 == 0]\n",
        "\n",
        "    # Si no hay números pares, retornar -1\n",
        "    if not evens:\n",
        "        return -1\n",
        "\n",
        "    # Encontrar el mayor número par manualmente\n",
        "    largest = evens[0]\n",
        "    for num in evens:\n",
        "        if num > largest:\n",
        "            largest = num\n",
        "\n",
        "    return largest\n",
        "\n",
        "# Método 5. Con recursión\n",
        "def largest_even(lst, largest=None):\n",
        "    # Caso base: si la lista está vacía\n",
        "    if not lst:\n",
        "        return largest if largest is not None else -1\n",
        "\n",
        "    # Tomar el primer elemento de la lista\n",
        "    current = lst[0]\n",
        "\n",
        "    # Verificar si es par y mayor que el actual mayor encontrado\n",
        "    if current % 2 == 0 and (largest is None or current > largest):\n",
        "        largest = current\n",
        "\n",
        "    # Llamada recursiva con el resto de la lista\n",
        "    return largest_even(lst[1:], largest)\n",
        "\n",
        "# Método 6. Con recursión, otra forma de comenzar\n",
        "def largest_even(r, n=-float('inf')):\n",
        "    # Caso base: si la lista está vacía\n",
        "    if not r:\n",
        "        return n if n != -float('inf') else -1\n",
        "\n",
        "    # Tomar el primer elemento de la lista\n",
        "    current = r[0]\n",
        "\n",
        "    # Verificar si es par y mayor que el actual mayor encontrado\n",
        "    if current % 2 == 0 and current > n:\n",
        "        n = current\n",
        "\n",
        "    # Llamada recursiva con el resto de la lista\n",
        "    return largest_even(r[1:], n)\n",
        "\n",
        "# Método 7. Usando filter\n",
        "def largest_even(lst):\n",
        "    # Filtrar los números pares usando filter y una función lambda\n",
        "    evens = list(filter(lambda x: x % 2 == 0, lst))\n",
        "\n",
        "    # Si la lista de números pares está vacía, retornar -1\n",
        "    if len(evens) == 0:\n",
        "        return -1\n",
        "\n",
        "    # Encontrar el número par más grande manualmente\n",
        "    largest = evens[0]\n",
        "    for num in evens:\n",
        "        if num > largest:\n",
        "            largest = num\n",
        "\n",
        "    return largest\n",
        "\n",
        "# Método 8. Usando reduce\n",
        "\n",
        "from functools import reduce\n",
        "\n",
        "def largest_even(lst):\n",
        "    # Filtrar los números pares\n",
        "    evens = list(filter(lambda x: x % 2 == 0, lst))\n",
        "\n",
        "    # Usar reduce para encontrar el mayor número par\n",
        "    return reduce(lambda acc, x: x if x > acc else acc, evens, -float('inf')) if evens else -1"
      ],
      "metadata": {
        "id": "X_TxwKHY2Dwf"
      },
      "execution_count": null,
      "outputs": []
    },
    {
      "cell_type": "code",
      "source": [
        "print(largest_even([3, 7, 2, 1, 7, 9, 10, 13])) # 10\n",
        "print(largest_even([1, 3, 5, 7]))               # -1 (todos son impares)\n",
        "print(largest_even([0, 19, 18973623]))          # 0\n",
        "print(largest_even([-2, -3, -4]))               # -2\n",
        "print(largest_even([-4, -3, -2]))               # -2\n",
        "print(largest_even([-5, -3, -7]))               # -1 (todos son impares)\n",
        "print(largest_even([]))                         # -1 (nos dan una lista vacía)"
      ],
      "metadata": {
        "id": "GAjM3vje2Dwf",
        "colab": {
          "base_uri": "https://localhost:8080/"
        },
        "outputId": "ad54644e-e7e5-413d-d1d9-e301f827afc2"
      },
      "execution_count": null,
      "outputs": [
        {
          "output_type": "stream",
          "name": "stdout",
          "text": [
            "10\n",
            "-1\n",
            "0\n",
            "-2\n",
            "-2\n",
            "-1\n",
            "-1\n"
          ]
        }
      ]
    },
    {
      "cell_type": "markdown",
      "source": [
        "## Reto 574: Jugos de frutas\n",
        "* Fruit Juices\n",
        "* Una empresa de zumos de frutas etiqueta sus zumos de frutas concatenando las tres primeras letras de las palabras del nombre de un sabor con su capacidad.\n",
        "* Cree una función que cree ID de productos para diferentes jugos de frutas.\n",
        "\n",
        "* **Ejemplos**\n",
        "```\n",
        "get_drink_ID(\"apple\", \"500ml\") ➞ \"APP500\"\n",
        "get_drink_ID(\"pineapple\", \"45ml\") ➞ \"PIN45\"\n",
        "get_drink_ID(\"passion fruit\", \"750ml\") ➞ \"PASFRU750\"\n",
        "```\n",
        "\n",
        "* **Notas**\n",
        "    - La capacidad se dará como una cadena y siempre se dará en ml.\n",
        "    - Devuelve las letras en MAYÚSCULAS."
      ],
      "metadata": {
        "id": "We9K2Abm2D3u"
      }
    },
    {
      "cell_type": "code",
      "source": [
        "# Método 1\n",
        "def get_drink_ID(flavor, capacity):\n",
        "    # Separar el nombre del sabor en palabras\n",
        "    words = flavor.split()\n",
        "\n",
        "    # Obtener las primeras tres letras de cada palabra en mayúsculas\n",
        "    prefix = ''.join(word[:3].upper() for word in words)\n",
        "\n",
        "    # Quitar el sufijo \"ml\" de la capacidad si está presente\n",
        "    capacity_number = capacity.replace(\"ml\", \"\")\n",
        "\n",
        "    # Concatenar el prefijo con la capacidad numérica\n",
        "    drink_id = prefix + capacity_number\n",
        "\n",
        "    return drink_id\n",
        "\n",
        "# Método 2\n",
        "def get_drink_ID(flavor, capacity):\n",
        "    words = flavor.split()  # Dividir el nombre del sabor en palabras\n",
        "    return ''.join(word[:3].upper() for word in words) + capacity[:-2]\n",
        "\n",
        "# Método 3\n",
        "def get_drink_ID(flavor, capacity):\n",
        "    # Extraer las primeras tres letras de cada palabra en mayúsculas y unirlas\n",
        "    prefix = ''.join(word[:3].upper() for word in flavor.split())\n",
        "\n",
        "    # Obtener la capacidad sin el sufijo \"ml\"\n",
        "    capacity_number = capacity[:-2]\n",
        "\n",
        "    # Concatenar el prefijo con la capacidad numérica\n",
        "    return f\"{prefix}{capacity_number}\""
      ],
      "metadata": {
        "id": "hRfxH-Yn2D3v"
      },
      "execution_count": null,
      "outputs": []
    },
    {
      "cell_type": "code",
      "source": [
        "print(get_drink_ID(\"apple\", \"500ml\"))           # \"APP500\"\n",
        "print(get_drink_ID(\"pineapple\", \"45ml\"))        # \"PIN45\"\n",
        "print(get_drink_ID(\"passion fruit\", \"750ml\"))   # \"PASFRU750\""
      ],
      "metadata": {
        "id": "i3nu6j202D3v",
        "colab": {
          "base_uri": "https://localhost:8080/"
        },
        "outputId": "d7b324f5-a43d-4ef6-97d2-05af06fbaf9d"
      },
      "execution_count": null,
      "outputs": [
        {
          "output_type": "stream",
          "name": "stdout",
          "text": [
            "APP500\n",
            "PIN45\n",
            "PASFRU750\n"
          ]
        }
      ]
    },
    {
      "cell_type": "markdown",
      "source": [
        "## Reto 575: Logaritmos - Básico\n",
        "* Logarithms - Basic\n",
        "* Un logaritmo es algo así como exponentes inversos. Hay una base y un número en un logaritmo. El objetivo de un logaritmo es averiguar a qué potencia tienes que elevar la base para obtener el número al lado de la base. Por ejemplo:\n",
        "\n",
        "```\n",
        "log base 5 de 25 = x\n",
        "```\n",
        "\n",
        "Esto es lo mismo que decir 5 elevado a la potencia `x` es 25, lo cual es 2 (así que `x` sería 2). Usando este ejemplo, tu función debe tomar el 5 y el 25 y de alguna manera obtener 2.\n",
        "\n",
        "* **Ejemplos**\n",
        "\n",
        "```\n",
        "logarithm(5, 25) ➞ 2\n",
        "\n",
        "logarithm(2, 64) ➞ 6\n",
        "\n",
        "logarithm(2, 4) ➞ 2\n",
        "```\n",
        "\n",
        "* **Notas**\n",
        "    - Todas las entradas y sus salidas asociadas son números enteros.\n",
        "    - Devuelve `\"Invalid\"` para entradas fuera del dominio."
      ],
      "metadata": {
        "id": "srPy2pvw2D-2"
      }
    },
    {
      "cell_type": "code",
      "source": [
        "# Método 1\n",
        "def logarithm(base, num):\n",
        "    for x in range(1000):   # probamos hasta un exponente 1000 que es un valor arbitrario\n",
        "        if base ** x == num:\n",
        "            return x\n",
        "    return \"Invalid\"\n",
        "\n",
        "# Método 2. Sin usar la función logaritmo de la librería matemática\n",
        "def logarithm(base, num):\n",
        "    if base <= 1 or num < 1:\n",
        "        return \"Invalid\"\n",
        "\n",
        "    result = 0\n",
        "    current = 1\n",
        "\n",
        "    while current < num:\n",
        "        current *= base\n",
        "        result += 1\n",
        "\n",
        "        if current > num:\n",
        "            return \"Invalid\"\n",
        "\n",
        "    if current == num:\n",
        "        return result\n",
        "    else:\n",
        "        return \"Invalid\"\n",
        "\n",
        "# Método 3\n",
        "def logarithm(base, num):\n",
        "    if base <= 1 or num < 1:\n",
        "        return \"Invalid\"\n",
        "\n",
        "    x = 0\n",
        "    power = 1\n",
        "    while power <= num and x < 1000:  # Límite de 1000 para evitar bucles infinitos\n",
        "        if power == num:\n",
        "            return x\n",
        "        power *= base\n",
        "        x += 1\n",
        "\n",
        "    return \"Invalid\"\n",
        "\n",
        "# Método 4\n",
        "import math\n",
        "\n",
        "def logarithm(base, num):\n",
        "    if base <= 0 or base == 1 or num <= 0:\n",
        "        return \"Invalid\"\n",
        "\n",
        "    # Caso especial para logaritmo de 1\n",
        "    if num == 1:\n",
        "        return 0\n",
        "\n",
        "    # Verificamos si num es una potencia exacta de base\n",
        "    power = 1\n",
        "    while power <= num:\n",
        "        if power == num:\n",
        "            return int(math.log(num, base))\n",
        "        power *= base\n",
        "\n",
        "    return \"Invalid\"\n",
        "\n",
        "# Método 5. Usando la librería matemática\n",
        "import math\n",
        "\n",
        "def logarithm(base, num):\n",
        "    if base <= 0 or base == 1 or num <= 0:\n",
        "        return \"Invalid\"\n",
        "\n",
        "    # Usamos math.log para calcular el logaritmo\n",
        "    result = math.log(num, base)\n",
        "\n",
        "    # Redondeamos el resultado a 9 decimales para manejar imprecisiones de punto flotante\n",
        "    rounded_result = round(result, 9)\n",
        "    # Si no redondeamos este caso de uso no da 3 sino Invalid: print(logarithm(10, 1000))\n",
        "\n",
        "    # Comprobamos si el resultado redondeado es un entero\n",
        "    if rounded_result.is_integer():\n",
        "        return int(rounded_result)\n",
        "    else:\n",
        "        return \"Invalid\""
      ],
      "metadata": {
        "id": "N5MONyTU2D-2"
      },
      "execution_count": null,
      "outputs": []
    },
    {
      "cell_type": "code",
      "source": [
        "print(logarithm(2, 1))      # 0\n",
        "print(logarithm(7, 7))      # 1\n",
        "print(logarithm(5, 25))     # 2\n",
        "print(logarithm(2, 4))      # 2\n",
        "print(logarithm(3, 27))     # 3\n",
        "print(logarithm(10, 1000))  # 3\n",
        "print(logarithm(2, 64))     # 6\n",
        "print(logarithm(2, 5))      # \"Invalid\"\n",
        "print(logarithm(0, 5))      # \"Invalid\"\n",
        "print(logarithm(1, 10))     # \"Invalid\"\n",
        "print(logarithm(2, 3))      # \"Invalid\""
      ],
      "metadata": {
        "id": "HzLg7Hyo2D-2",
        "outputId": "5b20cb66-9ae8-4995-f8db-a2ecffe118a8",
        "colab": {
          "base_uri": "https://localhost:8080/"
        }
      },
      "execution_count": null,
      "outputs": [
        {
          "output_type": "stream",
          "name": "stdout",
          "text": [
            "0\n",
            "1\n",
            "2\n",
            "2\n",
            "3\n",
            "3\n",
            "6\n",
            "Invalid\n",
            "Invalid\n",
            "Invalid\n",
            "Invalid\n"
          ]
        }
      ]
    },
    {
      "cell_type": "markdown",
      "source": [
        "## Reto 576: Estadística Básica: Mediana\n",
        "* Basic Statistics: Median\n",
        "* La *mediana* de un grupo de números es el número del *medio* cuando el grupo está ordenado.\n",
        "* Si el tamaño del grupo es par, la mediana es el *promedio* de los dos números del medio.\n",
        "* Dada una lista ordenada de números, devuelve la mediana (redondeada a un decimal si la mediana no es un número entero).\n",
        "\n",
        "* **Ejemplos**\n",
        "\n",
        "```\n",
        "median([1, 2, 4, 5, 6, 8, 8, 8, 10]) ➞ 6\n",
        "\n",
        "median([2, 2, 6, 8, 8, 10, 10]) ➞ 8\n",
        "\n",
        "median([1, 2, 2, 4, 7, 8, 9, 10]) ➞ 5.5\n",
        "```"
      ],
      "metadata": {
        "id": "N-ud3J1C2EF3"
      }
    },
    {
      "cell_type": "code",
      "source": [
        "# Método 1\n",
        "def median(nums):\n",
        "    nums = sorted(nums)\n",
        "    n = len(nums)\n",
        "    if n % 2:\n",
        "        return nums[n // 2]\n",
        "    return (nums[n // 2] + nums[(n - 1) // 2]) / 2\n",
        "\n",
        "# Método 2. Usando índices\n",
        "def median(nums):\n",
        "    n = len(nums)\n",
        "    mid = n // 2\n",
        "    if n % 2 == 0:\n",
        "        return round((nums[mid - 1] + nums[mid]) / 2, 1)\n",
        "    else:\n",
        "        return nums[mid]\n",
        "\n",
        "# Método 3. Usando slicing\n",
        "def median(nums):\n",
        "    n = len(nums)\n",
        "    if n % 2 == 0:\n",
        "        return round(sum(nums[n//2-1:n//2+1]) / 2, 1)\n",
        "    else:\n",
        "        return nums[n//2]\n",
        "\n",
        "\n",
        "# Método 4. Usando la librería statistics\n",
        "import statistics\n",
        "\n",
        "def median(nums):\n",
        "    return statistics.median(nums)\n",
        "\n",
        "# Método 5. Usando NumPy\n",
        "import numpy as np\n",
        "\n",
        "def median(nums):\n",
        "    result = np.median(nums)\n",
        "    # Redondear a un decimal cuando el resultado no es entero\n",
        "    return round(result, 1) if result % 1 != 0 else int(result)\n",
        "\n",
        "# Método 6\n",
        "def median(lst):\n",
        "    n = len(lst)\n",
        "    s = sorted(lst)\n",
        "    return (s[n//2-1]/2.0+s[n//2]/2.0, s[n//2])[n % 2] if n else None"
      ],
      "metadata": {
        "id": "_XdOnq-l2EF4"
      },
      "execution_count": null,
      "outputs": []
    },
    {
      "cell_type": "code",
      "source": [
        "print(median([1, 2, 4, 5, 6, 8, 8, 8, 10]))         # 6\n",
        "print(median([2, 2, 6, 8, 8, 10, 10]))              # 8\n",
        "print(median([1, 2, 2, 4, 7, 8, 9, 10]))            # 5.5\n",
        "print(median([1, 2, 2, 4, 7, 8, 9, 10, 111, 152]))  # 7.5\n",
        "print(median([8]))                                  # 8\n",
        "#print(median([]))"
      ],
      "metadata": {
        "id": "DZCS0Zmk2EF4",
        "colab": {
          "base_uri": "https://localhost:8080/"
        },
        "outputId": "83d6fee3-da23-4c50-c4ab-e21241e0a997"
      },
      "execution_count": null,
      "outputs": [
        {
          "output_type": "stream",
          "name": "stdout",
          "text": [
            "6\n",
            "8\n",
            "5.5\n",
            "7.5\n",
            "8\n"
          ]
        }
      ]
    },
    {
      "cell_type": "markdown",
      "source": [
        "## Reto 577: Máximo Común Divisor (MCD)\n",
        "* GCD and LCM ( Part 1)\n",
        "* Crea una función que tome dos números como argumentos y devuelva el Máximo Común Divisor (MCD) de los dos números.\n",
        "\n",
        "* **Ejemplos**\n",
        "\n",
        "```\n",
        "mcd(3, 5) ➞ 1\n",
        "\n",
        "mcd(14, 28) ➞ 14\n",
        "\n",
        "mcd(4, 18) ➞ 2\n",
        "```\n",
        "\n",
        "* **Notas**\n",
        "    - El MCD es el número más alto que puede dividir ambos argumentos sin dejar residuo."
      ],
      "metadata": {
        "id": "EG3_WElg2ENS"
      }
    },
    {
      "cell_type": "code",
      "source": [
        "# Método 1. Usando la librería matemática\n",
        "import math\n",
        "\n",
        "def mcd(a, b):\n",
        "    return math.gcd(a, b)\n",
        "\n",
        "# Método 2. Dividiendo entre todos los números entre el mínimo de a y b y 1\n",
        "def mcd(a, b):\n",
        "    a = abs(a)      # Maneja el caso de que existan números negativos\n",
        "    b = abs(b)\n",
        "\n",
        "    if a == 0:      # Maneja el caso cuando uno de los números es cero\n",
        "        return b\n",
        "    if b == 0:\n",
        "        return a    # Maneja el caso cuando el otro número es cero\n",
        "    for i in range(min(a, b), 0, -1):\n",
        "        if a % i == 0 and b % i == 0: # el 1er i que sea divisor de ambos es el MCD\n",
        "            return i\n",
        "\n",
        "# Método 3. Algoritmo de Euclides\n",
        "def mcd(a, b):\n",
        "    while b:\n",
        "        a, b = b, a % b\n",
        "    return abs(a)\n",
        "\n",
        "# Método 4. Método de Restas Repetidas\n",
        "def mcd_resta_repetida(a, b):\n",
        "    a = abs(a)\n",
        "    b = abs(b)\n",
        "\n",
        "    if a == 0:\n",
        "        return b\n",
        "    if b == 0:\n",
        "        return a\n",
        "\n",
        "    while a != b:\n",
        "        if a > b:\n",
        "            a -= b\n",
        "        else:\n",
        "            b -= a\n",
        "\n",
        "    return a\n",
        "\n",
        "# Método 5. Método de Factorización Primal\n",
        "from math import gcd\n",
        "from collections import Counter\n",
        "\n",
        "def factorizar_primos(n):\n",
        "    i = 2\n",
        "    factores = []\n",
        "    while i * i <= n:\n",
        "        if n % i:\n",
        "            i += 1\n",
        "        else:\n",
        "            n //= i\n",
        "            factores.append(i)\n",
        "    if n > 1:\n",
        "        factores.append(n)\n",
        "    return factores\n",
        "\n",
        "def mcd(a, b):\n",
        "    a = abs(a)\n",
        "    b = abs(b)\n",
        "\n",
        "    if a == 0:\n",
        "        return b\n",
        "    if b == 0:\n",
        "        return a\n",
        "\n",
        "    factores_a = Counter(factorizar_primos(a))\n",
        "    factores_b = Counter(factorizar_primos(b))\n",
        "    factores_comunes = factores_a & factores_b\n",
        "    contador = 1\n",
        "\n",
        "    for factor in factores_comunes:\n",
        "        contador *= factor ** factores_comunes[factor]\n",
        "\n",
        "    return contador\n",
        "\n",
        "# Método 6. Usando una librería para matemáticas simbólicas\n",
        "import sympy\n",
        "\n",
        "def mcd(a, b):\n",
        "    return sympy.gcd(a, b)"
      ],
      "metadata": {
        "id": "_xo3gPFo2ENT"
      },
      "execution_count": null,
      "outputs": []
    },
    {
      "cell_type": "code",
      "source": [
        "print(mcd(3, 5))    # 1\n",
        "print(mcd(14, 28))  # 14\n",
        "print(mcd(4, 18))   # 2\n",
        "print(mcd(0, 5))    # 5\n",
        "print(mcd(-48, 18)) # 6\n",
        "print(mcd(80, 100)) # 20"
      ],
      "metadata": {
        "id": "3yDECIei2ENT",
        "colab": {
          "base_uri": "https://localhost:8080/"
        },
        "outputId": "e2f2c1ec-ca0b-4536-d3cd-c06460b82fc7"
      },
      "execution_count": null,
      "outputs": [
        {
          "output_type": "stream",
          "name": "stdout",
          "text": [
            "1\n",
            "14\n",
            "2\n",
            "5\n",
            "6\n",
            "20\n"
          ]
        }
      ]
    },
    {
      "cell_type": "markdown",
      "source": [
        "## Reto 578: Fecha imposible\n",
        "* Impossible Date\n",
        "* Dados los parámetros día, mes y año, devuelva si esa fecha es una fecha válida.\n",
        "* **Ejemplos**\n",
        "\n",
        "```\n",
        "is_valid_date(35, 2, 2020) ➞ False\n",
        "#February doesn't have 35 days.\n",
        "\n",
        "is_valid_date(8, 3, 2020) ➞ True\n",
        "#8th March 2020 is a real date.\n",
        "\n",
        "is_valid_date(31, 6, 1980) ➞ False\n",
        "#June only has 30 days.\n",
        "\n",
        "is_valid_date(29, 2, 2025) ➞ False\n",
        "#No es bisiesto\n",
        "\n",
        "is_valid_date(29, 2, 2040) ➞ True\n",
        "#Si es bisiesto\n",
        "```\n",
        "\n",
        "* **Notas**\n",
        "    - Intente usar el módulo de fecha y hora para completar este desafío."
      ],
      "metadata": {
        "id": "EysYNsRe2EUq"
      }
    },
    {
      "cell_type": "code",
      "source": [
        "# Método 1\n",
        "import datetime\n",
        "\n",
        "def is_valid_date(day, month, year):\n",
        "    try:\n",
        "        # Intentamos crear un objeto datetime con los valores proporcionados.\n",
        "        datetime.date(year, month, day)\n",
        "        return True\n",
        "    except ValueError:\n",
        "        # Si se lanza un ValueError, significa que la fecha no es válida.\n",
        "        return False\n",
        "\n",
        "# Método 2\n",
        "def is_valid_date(day, month, year):\n",
        "    # Comprobar si el mes es válido (entre 1 y 12)\n",
        "    if month < 1 or month > 12:\n",
        "        return False\n",
        "\n",
        "    # Días en cada mes (indexado de 1 a 12)\n",
        "    days_in_month = [0, 31, 28, 31, 30, 31, 30, 31, 31, 30, 31, 30, 31]\n",
        "\n",
        "    # Comprobar si el año es bisiesto\n",
        "    if (year % 4 == 0 and year % 100 != 0) or (year % 400 == 0):\n",
        "        days_in_month[2] = 29  # Febrero tiene 29 días en un año bisiesto\n",
        "\n",
        "    # Comprobar si el día es válido para el mes dado\n",
        "    if day < 1 or day > days_in_month[month]:\n",
        "        return False\n",
        "\n",
        "    # Si todas las comprobaciones pasaron, la fecha es válida\n",
        "    return True\n",
        "\n",
        "# Método 3\n",
        "import datetime\n",
        "\n",
        "def is_valid_date(d, m, y):\n",
        "    try:\n",
        "        return True if datetime.date(y, m, d) else False\n",
        "    except ValueError:\n",
        "        return False"
      ],
      "metadata": {
        "id": "fxYdkHYt2EUq"
      },
      "execution_count": null,
      "outputs": []
    },
    {
      "cell_type": "code",
      "source": [
        "print(is_valid_date(35, 2, 2020))  # False\n",
        "print(is_valid_date(8, 3, 2020))   # True\n",
        "print(is_valid_date(31, 6, 1980))  # False\n",
        "print(is_valid_date(29, 2, 2025))  # False\n",
        "print(is_valid_date(29, 2, 2040))  # True"
      ],
      "metadata": {
        "id": "CW5JQu0k2EUq",
        "colab": {
          "base_uri": "https://localhost:8080/"
        },
        "outputId": "03b3d9ae-8b8c-4126-842f-3f94e671958d"
      },
      "execution_count": null,
      "outputs": [
        {
          "output_type": "stream",
          "name": "stdout",
          "text": [
            "False\n",
            "True\n",
            "False\n",
            "False\n",
            "True\n"
          ]
        }
      ]
    },
    {
      "cell_type": "markdown",
      "source": [
        "## Reto 579: Tarjetas numeradas\n",
        "* Numbered Cards\n",
        "* Tienes un paquete de 5 cartas numeradas al azar, que pueden variar del 0 al 9.\n",
        "* Puedes ganar si puedes producir un número de dos dígitos más alto en tus cartas que tu oponente.\n",
        "* Devuelve True si tus cartas ganan esa ronda.\n",
        "* Ejemplo resuelto:\n",
        "\n",
        "````\n",
        "win_round([2, 5, 2, 6, 9], [3, 7, 3, 1, 2]) ➞ True\n",
        "#Tus tarjetas pueden formar el número 96.\n",
        "#Tu oponente puede hacer el número 73.\n",
        "#Ganas la ronda desde 96 > 73\n",
        "````\n",
        "\n",
        "* **Ejemplos**\n",
        "\n",
        "```\n",
        "win_round([2, 5, 2, 6, 9], [3, 7, 3, 1, 2]) ➞ True\n",
        "\n",
        "win_round([1, 2, 3, 4, 5], [9, 8, 7, 6, 5]) ➞ False\n",
        "\n",
        "win_round([4, 3, 4, 4, 5], [3, 2, 5, 4, 1]) ➞ False\n",
        "```\n",
        "\n",
        "* **Notas**\n",
        "    - Devuelve `False` si tú y tu oponente alcanzan el mismo número máximo (ver ejemplo n.° 3).\n"
      ],
      "metadata": {
        "id": "Hfw7x2_C2EcW"
      }
    },
    {
      "cell_type": "code",
      "source": [
        "# Método 1\n",
        "def win_round(l1, l2):\n",
        "    l1 = sorted(l1, reverse=True)\n",
        "    l2 = sorted(l2, reverse=True)\n",
        "    return l1[0] > l2[0] and l1[1] > l2[1]\n",
        "\n",
        "# Método 2\n",
        "def win_round(l1, l2):\n",
        "    l1 = sorted(l1, reverse=True)\n",
        "    l2 = sorted(l2, reverse=True)\n",
        "    return l1[0] * 10 + l1[1] > l2[0] * 10 + l2[1]\n",
        "\n",
        "# Método 3\n",
        "def win_round(l1, l2):\n",
        "    return sorted(l1)[-1:-3:-1] > sorted(l2)[-1:-3:-1]"
      ],
      "metadata": {
        "id": "lr1VXEb92EcX"
      },
      "execution_count": 13,
      "outputs": []
    },
    {
      "cell_type": "code",
      "source": [
        "print(win_round([2, 5, 2, 6, 9], [3, 7, 3, 1, 2]))  # True\n",
        "print(win_round([2, 5, 2, 6, 9], [3, 7, 3, 1, 2]))  # True\n",
        "print(win_round([1, 2, 3, 4, 5], [9, 8, 7, 6, 5]))  # False\n",
        "print(win_round([4, 3, 4, 4, 5], [3, 2, 5, 4, 1]))  # False"
      ],
      "metadata": {
        "id": "uH25DjsD2EcX",
        "colab": {
          "base_uri": "https://localhost:8080/"
        },
        "outputId": "5aba257c-75ae-4b7b-a6b8-3c34aab39093"
      },
      "execution_count": 14,
      "outputs": [
        {
          "output_type": "stream",
          "name": "stdout",
          "text": [
            "True\n",
            "True\n",
            "False\n",
            "False\n"
          ]
        }
      ]
    },
    {
      "cell_type": "markdown",
      "source": [
        "## Reto 580: Rectángulo en Círculo\n",
        "* Rectangle in Circle\n",
        "* Crea una función que tome tres números — el ancho y el alto de un rectángulo, y el radio de un círculo — y devuelva `True` si el rectángulo puede caber dentro del círculo, `False` si no puede.\n",
        "\n",
        "* **Ejemplos**\n",
        "\n",
        "```\n",
        "rectangle_in_circle(8, 6, 5) ➞ True\n",
        "\n",
        "rectangle_in_circle(5, 9, 5) ➞ False\n",
        "\n",
        "rectangle_in_circle(4, 7, 4) ➞ False\n",
        "```"
      ],
      "metadata": {
        "id": "NAYZ01r42ElR"
      }
    },
    {
      "cell_type": "code",
      "source": [
        "# Método 1\n",
        "def rectangle_in_circle(w, h, radius):\n",
        "    return radius >= ((w/2) ** 2 + (h/2) ** 2) ** .5\n",
        "\n",
        "# Método 2\n",
        "import math\n",
        "\n",
        "def rectangle_in_circle(w, h, radius):\n",
        "    diagonal = math.sqrt(w**2 + h**2)\n",
        "    diameter = 2 * radius\n",
        "    return diagonal <= diameter"
      ],
      "metadata": {
        "id": "17hs7pyI2ElS"
      },
      "execution_count": 17,
      "outputs": []
    },
    {
      "cell_type": "code",
      "source": [
        "print(rectangle_in_circle(8, 6, 5))\n",
        "print(rectangle_in_circle(5, 9, 5))\n",
        "print(rectangle_in_circle(4, 7, 4))"
      ],
      "metadata": {
        "id": "FllFMyyC2ElS",
        "colab": {
          "base_uri": "https://localhost:8080/"
        },
        "outputId": "91d7d6ca-3f7a-4c04-8560-7c4038cef519"
      },
      "execution_count": 18,
      "outputs": [
        {
          "output_type": "stream",
          "name": "stdout",
          "text": [
            "True\n",
            "False\n",
            "False\n"
          ]
        }
      ]
    },
    {
      "cell_type": "markdown",
      "source": [
        "## Reto 581: Abreviar una oración\n",
        "* Abbreviating a Sentence\n",
        "* Crea una función que tome una oración y devuelva su abreviatura.\n",
        "* Obten todas las palabras mayores o iguales a `n` caracteres de longitud y devuelva la primera letra de cada una, en mayúscula y en general devuelta como una sola cadena.\n",
        "\n",
        "* **Ejemplos**\n",
        "\n",
        "````\n",
        "abbreviate(\"do it yourself\") ➞ \"Y\"\n",
        "\n",
        "abbreviate(\"do it yourself\", 2) ➞ \"DIY\"\n",
        "#\"do\" and \"it\" are included because the second parameter specified that word lengths 2 are allowed.\n",
        "\n",
        "abbreviate(\"attention AND deficit OR hyperactivity THE disorder\") ➞ \"ADHD\"\n",
        "#Words below the default 4 characters are not included in the abbreviation.\n",
        "\n",
        "abbreviate(\"the acronym of long word lengths\", 5) ➞ \"AL\"\n",
        "#\"acronym\" and \"lengths\" have 5 or more characters.\n",
        "````\n",
        "\n",
        "* **Nota**\n",
        "- Es posible que no se proporcione un argumento para n, así que establezca el valor predeterminado en 4."
      ],
      "metadata": {
        "id": "fPTLGqov2Etr"
      }
    },
    {
      "cell_type": "code",
      "source": [
        "# Método 1\n",
        "def :\n",
        "    pass"
      ],
      "metadata": {
        "id": "tJS_Q8kH2Ets"
      },
      "execution_count": null,
      "outputs": []
    },
    {
      "cell_type": "code",
      "source": [
        "print()\n",
        "print()\n",
        "print()\n",
        "print()"
      ],
      "metadata": {
        "id": "HwdcdKvS2Ets"
      },
      "execution_count": null,
      "outputs": []
    },
    {
      "cell_type": "markdown",
      "source": [],
      "metadata": {
        "id": "1BH8yz-S1ss3"
      }
    },
    {
      "cell_type": "markdown",
      "source": [],
      "metadata": {
        "id": "zk2fNoMx1sp1"
      }
    },
    {
      "cell_type": "markdown",
      "source": [],
      "metadata": {
        "id": "QwMV5v0m1si3"
      }
    },
    {
      "cell_type": "markdown",
      "source": [],
      "metadata": {
        "id": "lhEDcK2Z1sfT"
      }
    },
    {
      "cell_type": "markdown",
      "source": [],
      "metadata": {
        "id": "6tpLhGfc1t05"
      }
    },
    {
      "cell_type": "markdown",
      "source": [],
      "metadata": {
        "id": "P8pJPmiR1tx1"
      }
    },
    {
      "cell_type": "markdown",
      "source": [],
      "metadata": {
        "id": "AFyEu1J71tup"
      }
    },
    {
      "cell_type": "markdown",
      "source": [],
      "metadata": {
        "id": "sEC3F9RK1scR"
      }
    },
    {
      "cell_type": "markdown",
      "source": [],
      "metadata": {
        "id": "1mZDsIZQ1sY8"
      }
    },
    {
      "cell_type": "markdown",
      "source": [
        "## Reto 571: Probabilidad de tiros libres\n",
        "* Free Throw Probability\n",
        "* ¿Cuál es la probabilidad de que alguien haga una cierta cantidad de tiros libres seguidos dado su porcentaje de éxito en tiros libres?\n",
        "* Si Sally acierta el 50% de sus tiros libres, entonces la probabilidad de que Sally acierte 5 seguidos sería del 3%.\n",
        "\n",
        "* **Ejemplos**\n",
        "\n",
        "```\n",
        "free_throws(\"50%\", 5) ➞ \"3%\"\n",
        "free_throws(\"75%\", 5) ➞ \"24%\"\n",
        "free_throws(\"25%\", 3) ➞ \"2%\"\n",
        "free_throws(\"90%\", 30) ➞ \"4%\"\n",
        "```\n",
        "\n",
        "* **Notas**\n",
        "    - La tasa de éxito se da como un string.\n",
        "    - La función debe devolver un string con el signo de porcentaje.\n",
        "    - Redondea tu respuesta al número entero más cercano."
      ],
      "metadata": {
        "id": "2owkhItHLhyB"
      }
    },
    {
      "cell_type": "code",
      "source": [
        "# Método 1\n",
        "def free_throws(success, rows):\n",
        "    prob = int(success[:-1])\n",
        "    return f'{round((prob / 100) ** rows * 100)}%'\n",
        "\n",
        "# Método 2\n",
        "def free_throws(success_rate, num_throws):\n",
        "    success_rate = float(success_rate[:-1]) / 100\n",
        "    probability = success_rate ** num_throws\n",
        "    return f\"{round(probability * 100)}%\"\n",
        "\n",
        "# Método 3\n",
        "def free_throws(success_rate, num_throws):\n",
        "    success_rate = float(success_rate[:-1]) / 100\n",
        "    probability = 1\n",
        "    for _ in range(num_throws):\n",
        "        probability *= success_rate\n",
        "    return f\"{probability:.0%}\"     # con formato de porcentaje a cero decimales"
      ],
      "metadata": {
        "id": "RXDX_haSLhyB"
      },
      "execution_count": null,
      "outputs": []
    },
    {
      "cell_type": "code",
      "source": [
        "print(free_throws(\"50%\", 5))    # 3%\n",
        "print(free_throws(\"75%\", 5))    # 24%\n",
        "print(free_throws(\"25%\", 3))    # 2%\n",
        "print(free_throws(\"90%\", 30))   # 4%"
      ],
      "metadata": {
        "id": "c7qRbfyqLhyB",
        "colab": {
          "base_uri": "https://localhost:8080/"
        },
        "outputId": "dcb3899f-8535-4853-830a-9ae246d20e5d"
      },
      "execution_count": null,
      "outputs": [
        {
          "output_type": "stream",
          "name": "stdout",
          "text": [
            "3%\n",
            "24%\n",
            "2%\n",
            "4%\n"
          ]
        }
      ]
    },
    {
      "cell_type": "markdown",
      "source": [
        "## Reto 572: Invertir una Cadena Binaria\n",
        "* Reversing a Binary String\n",
        "* Escribe una función que tome un entero `n`, invierta la representación binaria de ese entero y devuelva el nuevo entero de la cadena binaria invertida.\n",
        "\n",
        "* **Ejemplos**\n",
        "\n",
        "```\n",
        "reversed_binary_integer(10) ➞ 5\n",
        "#10 = 1010 -> 0101 = 5\n",
        "\n",
        "reversed_binary_integer(12) ➞ 3\n",
        "#12 = 1100 -> 0011 = 3\n",
        "\n",
        "reversed_binary_integer(25) ➞ 19\n",
        "#25 = 11001 -> 10011 = 19\n",
        "\n",
        "reversed_binary_integer(45) ➞ 45\n",
        "#45 = 101101 -> 101101 = 45\n",
        "```\n",
        "\n",
        "* **Notas**\n",
        "    - Todos los valores de `n` serán positivos."
      ],
      "metadata": {
        "id": "CDLt9UxgLh4J"
      }
    },
    {
      "cell_type": "code",
      "source": [
        "# Método 1\n",
        "def reversed_binary_integer(n):\n",
        "    # Convertir el número a su representación binaria como cadena\n",
        "    binary_str = bin(n)[2:]\n",
        "\n",
        "    # Invertir la cadena binaria\n",
        "    reversed_binary_str = binary_str[::-1]\n",
        "\n",
        "    # Convertir la cadena binaria invertida de vuelta a un entero\n",
        "    reversed_n = int(reversed_binary_str, 2)\n",
        "\n",
        "    return reversed_n\n",
        "\n",
        "# Método 2. Igual que el anterior pero más condensado\n",
        "def reversed_binary_integer(n):\n",
        "    return int(str(bin(n))[:1:-1], 2)\n",
        "\n",
        "# Método 3. Método iterativo que usa un while\n",
        "def reversed_binary_integer(n):\n",
        "    result = 0                          # Inicializar el resultado a 0\n",
        "    while n > 0:                        # Iterar sobre los bits del número\n",
        "        bit = n & 1                     # Extraer el bit menos significativo\n",
        "        result = (result << 1) | bit    # Desplazar a la izquierda el resultado actual y agregar el bit\n",
        "        n >>= 1                         # Desplazar a la derecha el número original para pasar al siguiente bit\n",
        "    return result\n",
        "\n",
        "# Método 4. Igual que antes pero sin usar la variable auxiliar bit\n",
        "def reversed_binary_integer(n):\n",
        "    result = 0\n",
        "    while n > 0:\n",
        "        result = (result << 1) | (n & 1)\n",
        "        n >>= 1\n",
        "    return result\n",
        "\n",
        "# Método 5. Usando la función format() y slicing\n",
        "def reversed_binary_integer(n):\n",
        "    # Convertir el número a su representación binaria como cadena\n",
        "    binary_str = format(n, 'b')\n",
        "\n",
        "    # Invertir la cadena binaria\n",
        "    reversed_binary_str = binary_str[::-1]\n",
        "\n",
        "    # Convertir la cadena binaria invertida de vuelta a un entero\n",
        "    reversed_n = int(reversed_binary_str, 2)\n",
        "\n",
        "    return reversed_n\n",
        "\n",
        "# Método 6. Función recursiva\n",
        "def reversed_binary_integer(n, result=0):\n",
        "    if n == 0:\n",
        "        return result\n",
        "    return reversed_binary_integer(n >> 1, (result << 1) | (n & 1))"
      ],
      "metadata": {
        "id": "8vdcf6vQLh4J"
      },
      "execution_count": null,
      "outputs": []
    },
    {
      "cell_type": "code",
      "source": [
        "print(reversed_binary_integer(10))  # 5\n",
        "print(reversed_binary_integer(12))  # 3\n",
        "print(reversed_binary_integer(25))  # 19\n",
        "print(reversed_binary_integer(45))  # 45"
      ],
      "metadata": {
        "id": "5ZUHKvfgLh4J",
        "colab": {
          "base_uri": "https://localhost:8080/"
        },
        "outputId": "7923527f-7195-4329-e84f-6fded34b9bee"
      },
      "execution_count": null,
      "outputs": [
        {
          "output_type": "stream",
          "name": "stdout",
          "text": [
            "5\n",
            "3\n",
            "19\n",
            "45\n"
          ]
        }
      ]
    },
    {
      "cell_type": "markdown",
      "source": [
        "## Reto 573: Obtener las notas más altas de los estudiantes\n",
        "* Get Student Top Notes\n",
        "* Crea una función que tome una lista de diccionarios de estudiantes y devuelva una lista de sus notas más altas. Si el estudiante no tiene notas, asumiremos que su nota más alta es igual a 0.\n",
        "\n",
        "* **Ejemplos**\n",
        "\n",
        "```\n",
        "get_student_top_notes([\n",
        "  {\n",
        "    \"id\": 1,\n",
        "    \"name\": \"Jacek\",\n",
        "    \"notes\": [5, 3, 4, 2, 5, 5]\n",
        "  },\n",
        "  {\n",
        "    \"id\": 2,\n",
        "    \"name\": \"Ewa\",\n",
        "    \"notes\": [2, 3, 3, 3, 2, 5]\n",
        "  },\n",
        "  {\n",
        "    \"id\": 3,\n",
        "    \"name\": \"Zygmunt\",\n",
        "    \"notes\": [2, 2, 4, 4, 3, 3]\n",
        "  }\n",
        "]) ➞ [5, 5, 4]\n",
        "```"
      ],
      "metadata": {
        "id": "P7ziK0i7Lh-G"
      }
    },
    {
      "cell_type": "code",
      "source": [
        "# Método 1\n",
        "def get_student_top_notes(students):\n",
        "    top_notes = []\n",
        "    for student in students:\n",
        "        notes = student.get(\"notes\", [])\n",
        "        top_note = max(notes) if notes else 0   # si no hay notas, asigna 0 como la nota más alta\n",
        "        top_notes.append(top_note)\n",
        "    return top_notes\n",
        "\n",
        "# Método 2\n",
        "def get_student_top_notes(students):\n",
        "    return [max(student.get(\"notes\", []), default=0) for student in students]\n",
        "\n",
        "# Para cada estudiante, usamos student.get(\"notes\", []) para obtener la lista de notas.\n",
        "# Si el estudiante no tiene notas, student.get(\"notes\", []) devolverá una lista vacía []\n",
        "\n",
        "# Método 3: Solución usando map y lambda\n",
        "def get_student_top_notes(students):\n",
        "    return list(map(lambda student: max(student.get(\"notes\", []), default=0), students))"
      ],
      "metadata": {
        "id": "uqXYW16-Lh-G"
      },
      "execution_count": null,
      "outputs": []
    },
    {
      "cell_type": "code",
      "source": [
        "students1 = [\n",
        "    {\n",
        "        \"id\": 1,\n",
        "        \"name\": \"Jacek\",\n",
        "        \"notes\": [5, 3, 4, 2, 5, 5]\n",
        "    },\n",
        "    {\n",
        "        \"id\": 2,\n",
        "        \"name\": \"Ewa\",\n",
        "        \"notes\": [2, 3, 3, 3, 2, 5]\n",
        "    },\n",
        "    {\n",
        "        \"id\": 3,\n",
        "        \"name\": \"Zygmunt\",\n",
        "        \"notes\": [2, 2, 4, 4, 3, 3]\n",
        "    }\n",
        "]\n",
        "\n",
        "print(get_student_top_notes(students1))     # [5, 5, 4]\n",
        "\n",
        "\n",
        "\n",
        "students2 = [{\"id\": 1, \"name\": \"María\", \"notes\": [8, 7, 9, 6, 7, 8]},\n",
        "             {\"id\": 2, \"name\": \"Juana\", \"notes\": [6, 7, 5, 8, 6, 7]},\n",
        "             {\"id\": 3, \"name\": \"Flora\", \"notes\": [9, 8, 7, 8, 9, 8]},\n",
        "             {\"id\": 4, \"name\": \"Pedro\", \"notes\": [7, 6, 5, 7, 6, 7]},\n",
        "             {\"id\": 5, \"name\": \"Sofía\", \"notes\": [5, 4, 3, 5, 2, 1]},\n",
        "             {\"id\": 6, \"name\": \"Alice\", \"notes\": []}]\n",
        "\n",
        "print(get_student_top_notes(students2))     # [9, 8, 9, 7, 5, 0]"
      ],
      "metadata": {
        "id": "qDWhkknZLh-G",
        "colab": {
          "base_uri": "https://localhost:8080/"
        },
        "outputId": "edc99b16-4d64-4542-aabb-e8eddb3486e7"
      },
      "execution_count": null,
      "outputs": [
        {
          "output_type": "stream",
          "name": "stdout",
          "text": [
            "[5, 5, 4]\n",
            "[9, 8, 9, 7, 5, 0]\n"
          ]
        }
      ]
    },
    {
      "cell_type": "markdown",
      "source": [
        "## Reto 574: Números consecutivos\n",
        "* Consecutive Numbers\n",
        "* Crea una función que determine si los elementos de un arreglo se pueden reorganizar para formar una lista de números consecutivos donde **cada número aparece exactamente una vez**.\n",
        "\n",
        "* **Ejemplos**\n",
        "\n",
        "```\n",
        "cons([5, 1, 4, 3, 2]) ➞ True\n",
        "#Puede reorganizarse para formar [1, 2, 3, 4, 5]\n",
        "\n",
        "cons([5, 1, 4, 3, 2, 8]) ➞ False\n",
        "\n",
        "cons([5, 6, 7, 8, 9, 9]) ➞ False\n",
        "#9 aparece dos veces\n",
        "```"
      ],
      "metadata": {
        "id": "5GsbhwnNLiFJ"
      }
    },
    {
      "cell_type": "code",
      "source": [
        "# Método 1\n",
        "def cons(lista):\n",
        "    n = len(lista)\n",
        "    return max(lista) - min(lista) + 1 == n and len(set(lista)) == n\n",
        "\n",
        "# Método 2\n",
        "def cons(lst):\n",
        "    # Verifica si todos los elementos son únicos\n",
        "    if len(lst) != len(set(lst)):\n",
        "        return False\n",
        "\n",
        "    # Verifica si la diferencia entre el máximo y el mínimo es igual a la longitud de la lista menos uno\n",
        "    return max(lst) - min(lst) == len(lst) - 1\n",
        "\n",
        "# Método 3\n",
        "def cons(lst):\n",
        "    # Ordena la lista\n",
        "    lst_sorted = sorted(lst)\n",
        "\n",
        "    # Verifica si los números son consecutivos\n",
        "    for i in range(len(lst_sorted) - 1):\n",
        "        if lst_sorted[i] + 1 != lst_sorted[i + 1]:\n",
        "            return False\n",
        "\n",
        "    return True\n",
        "\n",
        "# Método 4\n",
        "def cons(lst):\n",
        "    # Comprobar si hay duplicados\n",
        "    if len(lst) != len(set(lst)):\n",
        "        return False\n",
        "\n",
        "    # Ordenar los números\n",
        "    sorted_nums = sorted(lst)\n",
        "\n",
        "    # Comprobar si los números son consecutivos\n",
        "    return sorted_nums == list(range(min(sorted_nums), max(sorted_nums) + 1))"
      ],
      "metadata": {
        "id": "nxMhqeUJLiFJ"
      },
      "execution_count": null,
      "outputs": []
    },
    {
      "cell_type": "code",
      "source": [
        "print(cons([5, 1, 4, 3, 2]))        # True\n",
        "print(cons([5, 1, 4, 3, 2, 8]))     # False\n",
        "print(cons([5, 6, 7, 8, 9, 9]))     # False"
      ],
      "metadata": {
        "id": "sQbzrz9OLiFJ",
        "colab": {
          "base_uri": "https://localhost:8080/"
        },
        "outputId": "38122438-be13-4a78-ed57-2ce132e4c528"
      },
      "execution_count": null,
      "outputs": [
        {
          "output_type": "stream",
          "name": "stdout",
          "text": [
            "True\n",
            "False\n",
            "False\n"
          ]
        }
      ]
    },
    {
      "cell_type": "markdown",
      "source": [
        "## Reto 575: Poner en mayúscula la última letra\n",
        "* Capitalize the Last Letter\n",
        "* Crea una función que ponga en mayúscula la última letra de cada palabra.\n",
        "\n",
        "* **Ejemplos**\n",
        "\n",
        "```\n",
        "cap_last(\"hello\") ➞ \"hellO\"\n",
        "cap_last(\"My Name Is Mary\") ➞ \"MY NamE IS MarY\"\n",
        "cap_last(\"HELp THe LASt LETTERs CAPITALISe\") ➞ \"HELP THE LAST LETTERS CAPITALISE\"\n",
        "```\n",
        "\n",
        "* **Notas**\n",
        "    - No habrá casos de puntuación en las pruebas."
      ],
      "metadata": {
        "id": "kMC9MQDfLiLH"
      }
    },
    {
      "cell_type": "code",
      "source": [
        "# Método 1\n",
        "def cap_last(text):\n",
        "    lista = text.split()\n",
        "    return ' '.join(palabra[:-1] + palabra[-1].upper() for palabra in lista)\n",
        "\n",
        "# Método 2\n",
        "def cap_last(text):\n",
        "    return ' '.join(map(lambda word: word[:-1] + word[-1].upper(), text.split()))\n",
        "\n",
        "# Método 3. Usando una expresión regular\n",
        "import re\n",
        "\n",
        "def cap_last(text):\n",
        "    return re.sub(r'\\b\\w+\\b', lambda m: m.group()[:-1] + m.group()[-1].upper(), text)"
      ],
      "metadata": {
        "id": "nvEc58pxLiLH"
      },
      "execution_count": null,
      "outputs": []
    },
    {
      "cell_type": "code",
      "source": [
        "print(cap_last(\"hello\"))\n",
        "print(cap_last(\"My Name Is Mary\"))\n",
        "print(cap_last(\"HELp THe LASt LETTERs CAPITALISe\"))"
      ],
      "metadata": {
        "id": "-wmRV9t5LiLH",
        "outputId": "3e2f2c4d-6c56-49e5-98e2-e5c1a11990f4",
        "colab": {
          "base_uri": "https://localhost:8080/"
        }
      },
      "execution_count": null,
      "outputs": [
        {
          "output_type": "stream",
          "name": "stdout",
          "text": [
            "hellO\n",
            "MY NamE IS MarY\n",
            "HELP THE LAST LETTERS CAPITALISE\n"
          ]
        }
      ]
    },
    {
      "cell_type": "markdown",
      "source": [
        "## Reto 576: Fechas Palíndromas\n",
        "* Palindromic Dates\n",
        "* El 2 de febrero de 2020 es una fecha palíndroma tanto en formato *dd/mm/aaaa* como en *mm/dd/aaaa* (02/02/2020).\n",
        "* Dada una `fecha` en formato *dd/mm/aaaa*, devuelve `True` si la fecha es **palíndroma** en **ambos formatos de fecha**, de lo contrario devuelve `False`.\n",
        "\n",
        "* **Ejemplos**\n",
        "\n",
        "```\n",
        "fecha_palindroma(\"02/02/2020\") ➞ True\n",
        "fecha_palindroma(\"11/12/2019\") ➞ False\n",
        "fecha_palindroma(\"11/02/2011\") ➞ False\n",
        "#Aunque 11/02/2011 es palíndromo en formato dd/mm/aaaa,\n",
        "#no lo es en formato mm/dd/aaaa (02/11/2011)\n",
        "```\n",
        "\n",
        "* **Notas**\n",
        "    - Todas las fechas serán válidas en ambos formatos de fecha.\n",
        "    - La `fecha` debe ser palíndroma en **ambos** formatos *dd/mm/aaaa* y *mm/dd/aaaa* para pasar."
      ],
      "metadata": {
        "id": "xSImdk9BLiRc"
      }
    },
    {
      "cell_type": "code",
      "source": [
        "# Método 1\n",
        "def fecha_palindroma(fecha):\n",
        "    # Separar la fecha en día, mes y año\n",
        "    dia, mes, anio = fecha.split('/')\n",
        "\n",
        "    # Crear las cadenas para ambos formatos\n",
        "    formato_ddmmaaaa = dia + mes + anio\n",
        "    formato_mmddaaaa = mes + dia + anio\n",
        "\n",
        "    # Verificar si ambas cadenas son palíndromas\n",
        "    return formato_ddmmaaaa == formato_ddmmaaaa[::-1] and formato_mmddaaaa == formato_mmddaaaa[::-1]\n",
        "\n",
        "# Método 2\n",
        "from datetime import datetime\n",
        "\n",
        "def fecha_palindroma(fecha):\n",
        "    # Convertir la fecha de cadena a objeto datetime\n",
        "    fecha_obj = datetime.strptime(fecha, \"%d/%m/%Y\")\n",
        "\n",
        "    # Crear las cadenas de fecha en ambos formatos\n",
        "    formato_ddmmaaaa = fecha_obj.strftime(\"%d%m%Y\")\n",
        "    formato_mmddaaaa = fecha_obj.strftime(\"%m%d%Y\")\n",
        "\n",
        "    # Verificar si ambas cadenas son iguales a sus inversas\n",
        "    return formato_ddmmaaaa == formato_ddmmaaaa[::-1] and formato_mmddaaaa == formato_mmddaaaa[::-1]"
      ],
      "metadata": {
        "id": "aT7l5TEpLiRc"
      },
      "execution_count": null,
      "outputs": []
    },
    {
      "cell_type": "code",
      "source": [
        "print(fecha_palindroma(\"01/01/1010\"))  # True\n",
        "print(fecha_palindroma(\"02/02/2020\"))  # True\n",
        "print(fecha_palindroma(\"12/12/2121\"))  # True\n",
        "print(fecha_palindroma(\"03/03/3030\"))  # True\n",
        "print(fecha_palindroma(\"11/12/2019\"))  # False\n",
        "print(fecha_palindroma(\"11/02/2011\"))  # False"
      ],
      "metadata": {
        "id": "BqaNoXNXLiRc",
        "outputId": "8167171a-0e78-4d20-d856-73ea309928d1",
        "colab": {
          "base_uri": "https://localhost:8080/"
        }
      },
      "execution_count": null,
      "outputs": [
        {
          "output_type": "stream",
          "name": "stdout",
          "text": [
            "True\n",
            "True\n",
            "True\n",
            "True\n",
            "False\n",
            "False\n"
          ]
        }
      ]
    },
    {
      "cell_type": "markdown",
      "source": [
        "## Reto 577: Clase de Caracteres de Espacio en Blanco\n",
        "* RegEx XI-A: Whitespace Character Class\n",
        "* Escribe la **expresión regular** que coincida con todas las **palabras compuestas abiertas** (separadas por un espacio) que comiencen con la palabra **best** y con una segunda palabra que empiece con **b**.\n",
        "* Usa la clase de caracteres `\\s` en tu expresión.\n",
        "* **Ejemplo**\n",
        "\n",
        "```\n",
        "txt = \"best buy best car best friend best-boy bestguest best dressed best bet best man best deal best boyfriend\"\n",
        "pattern = \"tuexpresionregularaqui\"\n",
        "\n",
        "re.findall(pattern, txt) ➞ [\"best buy\", \"best bet\", \"best boyfriend\"]\n",
        "```\n",
        "\n",
        "* **Notas**\n",
        "    - **No** necesitas escribir una función, solo el patrón.\n",
        "    - **No** elimines `import re` del código."
      ],
      "metadata": {
        "id": "06neNEk8LiX5"
      }
    },
    {
      "cell_type": "code",
      "source": [
        "import re\n",
        "pattern = r\"best\\sb\\w+\""
      ],
      "metadata": {
        "id": "kaT8iASjLiX5"
      },
      "execution_count": null,
      "outputs": []
    },
    {
      "cell_type": "code",
      "source": [
        "txt = \"best buy best car best friend best-boy bestguest best dressed best bet best man best deal best boyfriend\"\n",
        "print(re.findall(pattern, txt))"
      ],
      "metadata": {
        "id": "SHkZrpu8LiX5",
        "outputId": "10f625f0-f88d-46bc-b7aa-cb08ebe59de0",
        "colab": {
          "base_uri": "https://localhost:8080/"
        }
      },
      "execution_count": null,
      "outputs": [
        {
          "output_type": "stream",
          "name": "stdout",
          "text": [
            "['best buy', 'best bet', 'best boyfriend']\n"
          ]
        }
      ]
    },
    {
      "cell_type": "markdown",
      "source": [
        "## Reto 578: Devolviendo una Función \"Sumar\"\n",
        "* Returning an \"Add\" Function\n",
        "* Dado un número, `n`, devuelve una función que suma `n` al número que se le pasa.\n",
        "\n",
        "* **Ejemplos**\n",
        "\n",
        "```\n",
        "sumar(0)(20) ➞ 20\n",
        "sumar(10)(20) ➞ 30\n",
        "sumar(-30)(80) ➞ 50\n",
        "```\n",
        "\n",
        "* **Notas**\n",
        "    - Todos los números utilizados en las pruebas serán enteros (números enteros).\n",
        "    - Devolver una función desde otra función es una parte clave para entender las **funciones de orden superior** (funciones que operan sobre y devuelven funciones).\n",
        "    - [Funciones de orden superior y decoradores](https://www.hackerearth.com/practice/python/functional-programming/higher-order-functions-and-decorators/tutorial/)\n",
        "    - [How to Use Python Lambda Functions](https://realpython.com/python-lambda/)"
      ],
      "metadata": {
        "id": "YYzjcI17Liez"
      }
    },
    {
      "cell_type": "code",
      "source": [
        "# Método 1: Usando funciones anidadas\n",
        "def add(n):\n",
        "    def inner_function(x):\n",
        "        return n + x\n",
        "    return inner_function\n",
        "\n",
        "# Método 2. Usando una función Lambda\n",
        "def add(n):\n",
        "    return lambda x: n + x"
      ],
      "metadata": {
        "id": "it3KGvclLiez"
      },
      "execution_count": null,
      "outputs": []
    },
    {
      "cell_type": "code",
      "source": [
        "print(add(0)(20))   # 20\n",
        "print(add(10)(20))  # 30\n",
        "print(add(-30)(80)) # 50"
      ],
      "metadata": {
        "id": "10WjuOejLiez",
        "outputId": "f07e0a76-1308-4792-ea6b-cd7b3ddda002",
        "colab": {
          "base_uri": "https://localhost:8080/"
        }
      },
      "execution_count": null,
      "outputs": [
        {
          "output_type": "stream",
          "name": "stdout",
          "text": [
            "20\n",
            "30\n",
            "50\n"
          ]
        }
      ]
    },
    {
      "cell_type": "code",
      "source": [
        "# Nuevos casos de uso\n",
        "print(add(5)(7))    # ➞ 12\n",
        "print(add(-5)(5))   # ➞ 0\n",
        "print(add(100)(0))  # ➞ 100\n",
        "\n",
        "# Uso más avanzado\n",
        "sumar_15 = add(15)\n",
        "print(sumar_15(10))  # ➞ 25\n",
        "print(sumar_15(30))  # ➞ 45\n",
        "\n",
        "# Encadenamiento de funciones\n",
        "print(add(5)(add(10)(20)))  # ➞ 35\n",
        "\n",
        "# Uso con números decimales\n",
        "print(add(0.5)(1.5))  # ➞ 2.0\n",
        "\n",
        "# Uso con números grandes\n",
        "print(add(100_500)(9_000_000))  # ➞ 9100500"
      ],
      "metadata": {
        "colab": {
          "base_uri": "https://localhost:8080/"
        },
        "id": "NJG7_meA8Qab",
        "outputId": "33a09723-e316-488f-edc1-069eb206381b"
      },
      "execution_count": null,
      "outputs": [
        {
          "output_type": "stream",
          "name": "stdout",
          "text": [
            "12\n",
            "0\n",
            "100\n",
            "25\n",
            "45\n",
            "35\n",
            "2.0\n",
            "9100500\n"
          ]
        }
      ]
    },
    {
      "cell_type": "markdown",
      "source": [
        "## Reto 579: ¿Cabe la Carga? (Parte 1)\n",
        "* Does the Cargo Fit? (Part 1)\n",
        "* Un barco tiene que transportar carga de un lugar a otro, recogiendo carga en el camino. Dada la cantidad total de carga y los tipos de bodegas de carga en el barco como listas, crea una función que devuelva `True` si toda la carga puede caber en el barco, y `False` si no puede.\n",
        "    1. \"S\" significa 50 espacios de carga.\n",
        "    2. \"M\" significa 100 espacios de carga.\n",
        "    3. \"L\" significa 200 espacios de carga.\n",
        "* **Ejemplos**\n",
        "\n",
        "```\n",
        "will_fit([\"M\", \"L\", \"L\", \"M\"], [56, 62, 84, 90]) ➞ True\n",
        "\n",
        "will_fit([\"S\", \"S\", \"S\", \"S\", \"L\"], [40, 50, 60, 70, 80, 90, 200]) ➞ False\n",
        "\n",
        "will_fit([\"L\", \"L\", \"M\"], [56, 62, 84, 90]) ➞ True\n",
        "```\n",
        "\n",
        "* **Notas**\n",
        "    - Calcula la carga como un todo, y no para cada bodega de carga por separado (ver ejemplo #2).\n"
      ],
      "metadata": {
        "id": "GkLinAg8Liky"
      }
    },
    {
      "cell_type": "code",
      "source": [
        "# Método 1. Usando un diccionario\n",
        "def will_fit(holds, cargo):\n",
        "    space_map = {'S': 50, 'M': 100, 'L': 200}   # Diccionario para mapear tipos de bodega a su capacidad\n",
        "    return sum(space_map[hold] for hold in holds) >= sum(cargo)\n",
        "\n",
        "# Método 2.\n",
        "from functools import reduce\n",
        "from operator import add\n",
        "\n",
        "def will_fit(holds, cargo):\n",
        "    capacity = {'S': 50, 'M': 100, 'L': 200}\n",
        "    total_space = reduce(add, map(capacity.get, holds))\n",
        "    total_cargo = reduce(add, cargo)\n",
        "    return total_space >= total_cargo\n",
        "\n",
        "# Método 3.\n",
        "def will_fit(holds, cargo):\n",
        "    space_map = {'S': 50, 'M': 100, 'L': 200}\n",
        "    return sum(map(lambda hold: space_map[hold], holds)) >= sum(cargo)\n",
        "\n",
        "\n",
        "# Método 4. Usando programación orientada a objetos\n",
        "class CargoShip:\n",
        "    CAPACITIES = {'S': 50, 'M': 100, 'L': 200}\n",
        "\n",
        "    def __init__(self, holds):\n",
        "        self.total_capacity = sum(self.CAPACITIES[hold] for hold in holds)\n",
        "\n",
        "    def can_fit(self, cargo):\n",
        "        return self.total_capacity >= sum(cargo)\n",
        "\n",
        "def will_fit(holds, cargo):\n",
        "    ship = CargoShip(holds)\n",
        "    return ship.can_fit(cargo)"
      ],
      "metadata": {
        "id": "NzErCS-oLiky"
      },
      "execution_count": null,
      "outputs": []
    },
    {
      "cell_type": "code",
      "source": [
        "print(will_fit([\"M\", \"L\", \"L\", \"M\"], [56, 62, 84, 90]))                     # True\n",
        "print(will_fit([\"S\", \"S\", \"S\", \"S\", \"L\"], [40, 50, 60, 70, 80, 90, 200]))   # False\n",
        "print(will_fit([\"L\", \"L\", \"M\"], [56, 62, 84, 90]))                          # True"
      ],
      "metadata": {
        "id": "QASfCa0aLiky",
        "colab": {
          "base_uri": "https://localhost:8080/"
        },
        "outputId": "18e8e86e-7eca-49bd-f097-7f0d7e598d23"
      },
      "execution_count": null,
      "outputs": [
        {
          "output_type": "stream",
          "name": "stdout",
          "text": [
            "True\n",
            "False\n",
            "True\n"
          ]
        }
      ]
    },
    {
      "cell_type": "markdown",
      "source": [
        "## Reto 580: Suma de Números Faltantes\n",
        "* Sum of Missing Numbers\n",
        "* Crea una función que devuelva la suma de los números faltantes.\n",
        "\n",
        "* **Ejemplos**\n",
        "```\n",
        "sum_missing_numbers([1, 3, 5, 7, 10]) ➞ 29  \n",
        "#2 + 4 + 6 + 8 + 9  \n",
        "\n",
        "sum_missing_numbers([10, 7, 5, 3, 1]) ➞ 29  \n",
        "\n",
        "sum_missing_numbers([10, 20, 30, 40, 50, 60]) ➞ 1575\n",
        "````\n",
        "\n",
        "* **Nota**\n",
        "    - El valor mínimo y máximo de la lista dada son los límites inclusivos del rango numérico a considerar al buscar los números faltantes."
      ],
      "metadata": {
        "id": "d-J7lYOULirf"
      }
    },
    {
      "cell_type": "code",
      "source": [
        "# Método 1. Usando la suma aritmética de una sucesión de números\n",
        "def sum_missing_numbers(lista):\n",
        "    ma = max(lista)\n",
        "    mi = min(lista)\n",
        "    return int((ma + mi) * (ma - mi + 1) / 2 - sum(lista))\n",
        "\n",
        "# Método 2\n",
        "def sum_missing_numbers(lista):\n",
        "    total = 0\n",
        "    for i in range(min(lista), max(lista) + 1):\n",
        "        if i not in lista:\n",
        "            total += i\n",
        "    return total\n",
        "\n",
        "# Método 3\n",
        "def sum_missing_numbers(nums):\n",
        "    return sum(n for n in range(min(nums), max(nums) + 1) if n not in nums)\n",
        "\n",
        "# Método 3bis. Previene el caso de una lista vacía usando un operador ternario\n",
        "def sum_missing_numbers(nums):\n",
        "    return 0 if not nums else sum(n for n in range(min(nums), max(nums) + 1) if n not in nums)\n",
        "\n",
        "# Método 4. Generador y operador ternario\n",
        "def sum_missing_numbers(lista):\n",
        "    ma = max(lista)\n",
        "    mi = min(lista)\n",
        "    return sum(i if i not in lista else 0 for i in range(mi, ma + 1))\n",
        "\n",
        "# Método 5. Generador y condicional if\n",
        "def sum_missing_numbers(lista):\n",
        "    ma = max(lista)\n",
        "    mi = min(lista)\n",
        "    return sum(i for i in range(mi, ma + 1) if i not in lista)\n",
        "\n",
        "# Método 6\n",
        "def sum_missing_numbers(nums):\n",
        "    if not nums:    # previene el caso de una lista vacía\n",
        "        return 0\n",
        "\n",
        "    min_num = min(nums)\n",
        "    max_num = max(nums)\n",
        "\n",
        "    # Crear un conjunto con todos los números en el rango\n",
        "    rango_completo = set(range(min_num, max_num + 1))\n",
        "\n",
        "    # Crear un conjunto con los números de la lista de entrada\n",
        "    nums_set = set(nums)\n",
        "\n",
        "    # Encontrar los números faltantes\n",
        "    nums_faltantes = rango_completo - nums_set\n",
        "\n",
        "    # Sumar los números faltantes\n",
        "    return sum(nums_faltantes)\n",
        "\n",
        "# Método 7\n",
        "def sum_missing_numbers(nums):\n",
        "    if not nums:    # previene el caso de una lista vacía\n",
        "        return 0\n",
        "\n",
        "    min_num = min(nums)\n",
        "    max_num = max(nums)\n",
        "\n",
        "    # Calcular la suma esperada de todos los números en el rango\n",
        "    suma_esperada = sum(range(min_num, max_num + 1))\n",
        "\n",
        "    # Calcular la suma real de los números en la lista\n",
        "    suma_actual = sum(nums)\n",
        "\n",
        "    # La diferencia es la suma de los números faltantes\n",
        "    return suma_esperada - suma_actual\n",
        "\n",
        "# Método 8. Previene el caso de lista vacía\n",
        "def sum_missing_numbers(nums):\n",
        "    try:\n",
        "        return sum(set(range(min(nums), max(nums) + 1)) - set(nums))\n",
        "    except ValueError:\n",
        "        return 0  # o cualquier otro valor que tenga sentido para una lista vacía"
      ],
      "metadata": {
        "id": "yA18S0w4Lirf"
      },
      "execution_count": null,
      "outputs": []
    },
    {
      "cell_type": "code",
      "source": [
        "print(sum_missing_numbers([1, 3, 5, 7, 10]))            # 29\n",
        "print(sum_missing_numbers([10, 7, 5, 3, 1]))            # 29\n",
        "print(sum_missing_numbers([10, 20, 30, 40, 50, 60]))    # 1575\n",
        "print(sum_missing_numbers([4, 3, 8, 1, 2]))             # 18\n",
        "print(sum_missing_numbers([17, 16, 15, 10, 11, 12]))    # 27\n",
        "print(sum_missing_numbers([1, 2, 3, 5, 4]))             # 0\n",
        "#print(sum_missing_numbers([]))                         # 0 (Caso de lista vacía)"
      ],
      "metadata": {
        "id": "Zw8myjqbLirf",
        "colab": {
          "base_uri": "https://localhost:8080/"
        },
        "outputId": "dc5d4f7a-cc6b-485e-edee-e50afdb55ef3"
      },
      "execution_count": null,
      "outputs": [
        {
          "output_type": "stream",
          "name": "stdout",
          "text": [
            "29\n",
            "29\n",
            "1575\n",
            "18\n",
            "27\n",
            "0\n"
          ]
        }
      ]
    },
    {
      "cell_type": "markdown",
      "source": [
        "#### Explicación del Método 1\n",
        "Suma de los $n$ términos de una progresión aritmética conocidos el máximo ($ma$) y el mínimo ($mi$).\n",
        "\n",
        "Sabemos que la cantidad de números $n$ también se puede expresar en función del máximo y el mínimo así:  \n",
        "$n = ma - mi +1$.\n",
        "\n",
        "\n",
        "$$\\text{Suma} = \\frac{(ma + mi) \\times n}{2} = \\frac{(ma + mi) \\times (ma - mi + 1)}{2}$$"
      ],
      "metadata": {
        "id": "ZwJDGyw8ZGke"
      }
    },
    {
      "cell_type": "markdown",
      "source": [
        "## Reto 581: ¿Es este un triángulo rectángulo?\n",
        "* Is This a Right Angled Triangle?\n",
        "* Dados tres números, `x`, `y` y `z`, determina si son los lados de un triángulo rectángulo.\n",
        "* **Ejemplos**\n",
        "\n",
        "```\n",
        "triangulo_rectangulo(3, 4, 5) ➞ True\n",
        "triangulo_rectangulo(145, 105, 100) ➞ True\n",
        "triangulo_rectangulo(70, 130, 110) ➞ False\n",
        "```\n",
        "\n",
        "* **Notas**\n",
        "    - Ten en cuenta que el lado más largo del triángulo podría no ser el último pasado a la función.\n",
        "    - Todos los números serán enteros."
      ],
      "metadata": {
        "id": "caTKyjSTL3a1"
      }
    },
    {
      "cell_type": "code",
      "source": [
        "# Método 1. Buscando el lado de longitud intermedia\n",
        "def triangulo_rectangulo(a, b, c):\n",
        "    maximo = max(a, b, c)\n",
        "    minimo = min(a, b, c)\n",
        "    intermedio = a + b + c - maximo - minimo\n",
        "    return maximo ** 2 == minimo ** 2 + intermedio ** 2\n",
        "\n",
        "# Método 2. Ordenamos los lados de menor a mayor\n",
        "def triangulo_rectangulo_1(x, y, z):\n",
        "    lados = sorted([x, y, z])\n",
        "    return lados[0]**2 + lados[1]**2 == lados[2]**2\n",
        "\n",
        "# Método 3. Probamos todas las combinaciones posibles\n",
        "def triangulo_rectangulo(a, b, c):\n",
        "    return any(\n",
        "        x ** 2 + y ** 2 == z ** 2\n",
        "        for x in [a, b, c]\n",
        "        for y in [a, b, c]\n",
        "        for z in [a, b, c]\n",
        "    )"
      ],
      "metadata": {
        "id": "_ztXp-wgL3a1"
      },
      "execution_count": null,
      "outputs": []
    },
    {
      "cell_type": "code",
      "source": [
        "print(triangulo_rectangulo(3, 4, 5))         # True\n",
        "print(triangulo_rectangulo(145, 105, 100))   # True\n",
        "print(triangulo_rectangulo(1000, 800, 600))  # True\n",
        "print(triangulo_rectangulo(70, 130, 110))    # False"
      ],
      "metadata": {
        "id": "tuwlQEk-L3a1",
        "colab": {
          "base_uri": "https://localhost:8080/"
        },
        "outputId": "a07926e2-1ab2-40c2-a25b-49e8295bcf48"
      },
      "execution_count": null,
      "outputs": [
        {
          "output_type": "stream",
          "name": "stdout",
          "text": [
            "True\n",
            "True\n",
            "True\n",
            "False\n"
          ]
        }
      ]
    },
    {
      "cell_type": "markdown",
      "source": [
        "## Reto 582: Suma de Cada Número N-ésimo\n",
        "* Sum of Every Nth Number\n",
        "* Dada una lista de `números` y un valor positivo para `n`, devuelve la suma de cada número *n-ésimo* en la lista.\n",
        "\n",
        "* **Ejemplos**\n",
        "\n",
        "```\n",
        "sum_every_nth([4, 8, 6, 6, 7, 9, 3], 1) ➞ 43\n",
        "#4+8+6+6+7+9+3 = 43\n",
        "\n",
        "sum_every_nth([7, 3, 10, 4, 5, 8, 4, 9, 6, 9, 10, 1, 4], 4) ➞ 14\n",
        "#se suma cada cuarto números:\n",
        "#4 (4ª posición) + 9 (8ª posición) + 1 (12ª posición) = 14\n",
        "\n",
        "sum_every_nth([10, 6, 5, 4, 5, 2, 3, 3, 8, 10, 7, 2], 8) ➞ 3\n",
        "#3\n",
        "\n",
        "sum_every_nth([6, 8, 9, 4, 6, 4, 7, 1, 5, 6, 10, 2], 13) ➞ 0\n",
        "#solo hay 12 números en la lista\n",
        "```"
      ],
      "metadata": {
        "id": "7fiB0jv8L3hE"
      }
    },
    {
      "cell_type": "code",
      "source": [
        "# Método 1\n",
        "def sum_every_nth(numbers, n):\n",
        "    return sum(numbers[n-1::n])\n",
        "\n",
        "# Método 2\n",
        "def sum_every_nth(numbers, n):\n",
        "    return sum(num for i, num in enumerate(numbers, 1) if i % n == 0)"
      ],
      "metadata": {
        "id": "a7mOXJLPL3hF"
      },
      "execution_count": null,
      "outputs": []
    },
    {
      "cell_type": "code",
      "source": [
        "print(sum_every_nth([4, 8, 6, 6, 7, 9, 3], 1))                       # 43\n",
        "print(sum_every_nth([7, 3, 10, 4, 5, 8, 4, 9, 6, 9, 10, 1, 4], 4))   # 14\n",
        "print(sum_every_nth([10, 6, 5, 4, 5, 2, 3, 3, 8, 10, 7, 2], 8))      # 3\n",
        "print(sum_every_nth([6, 8, 9, 4, 6, 4, 7, 1, 5, 6, 10, 2], 13))      # 0\n",
        "print(sum_every_nth([1, 2, 3, 4, 5, 6, 7, 8, 9, 10], 2))             # 30\n",
        "print(sum_every_nth([1, 1, 1, 1, 8], 5))                             # 8\n",
        "print(sum_every_nth([-1, 2, -3, 4, -5, 6], 3))                       # 3\n",
        "print(sum_every_nth([100, 200, 300, 400, 500], 6))                   # 0 (no hay 6º número)"
      ],
      "metadata": {
        "id": "rNJK48w9L3hF",
        "colab": {
          "base_uri": "https://localhost:8080/"
        },
        "outputId": "3b4823a2-4e9f-4dbf-bd65-cdf891cbe7b5"
      },
      "execution_count": null,
      "outputs": [
        {
          "output_type": "stream",
          "name": "stdout",
          "text": [
            "43\n",
            "14\n",
            "3\n",
            "0\n",
            "30\n",
            "8\n",
            "3\n",
            "0\n"
          ]
        }
      ]
    },
    {
      "cell_type": "markdown",
      "source": [
        "## Reto 583: ¡Tres Listas!\n",
        "* Three Lists!\n",
        "* Dadas tres listas de enteros: `lst1`, `lst2`, `lst3`, devuelve la **suma de los enteros** que son *comunes en las tres listas.*\n",
        "\n",
        "* **Ejemplos**\n",
        "\n",
        "```\n",
        "suma_comunes([1, 2, 3], [5, 3, 2], [7, 3, 2]) ➞ 5\n",
        "#2 y 3 son comunes en las 3 listas.\n",
        "\n",
        "suma_comunes([1, 2, 2, 3], [5, 3, 2, 2], [7, 3, 2, 2]) ➞ 7\n",
        "#2, 2 y 3 son comunes en las 3 listas.\n",
        "\n",
        "suma_comunes([1], [1], [2]) ➞ 0\n",
        "```"
      ],
      "metadata": {
        "id": "GKGE4HsJL3nW"
      }
    },
    {
      "cell_type": "code",
      "source": [
        "# Método 1\n",
        "def suma_comunes(lst1, lst2, lst3):\n",
        "    suma = 0\n",
        "    # Creamos conjuntos de los elementos únicos en cada lista\n",
        "    unicos = set(lst1) & set(lst2) & set(lst3)\n",
        "\n",
        "    for num in unicos:\n",
        "        # Contamos las ocurrencias en cada lista\n",
        "        count1 = lst1.count(num)\n",
        "        count2 = lst2.count(num)\n",
        "        count3 = lst3.count(num)\n",
        "\n",
        "        # Tomamos el mínimo de ocurrencias\n",
        "        min_count = min(count1, count2, count3)\n",
        "\n",
        "        # Sumamos el número multiplicado por sus ocurrencias comunes\n",
        "        suma += num * min_count\n",
        "\n",
        "    return suma\n",
        "\n",
        "# Método 2\n",
        "def suma_comunes(lst1, lst2, lst3):\n",
        "    suma = 0\n",
        "    todos = lst1 + lst2 + lst3\n",
        "    for num in todos:\n",
        "        if num in lst1 and num in lst2 and num in lst3:\n",
        "            suma += num\n",
        "            lst1.remove(num)\n",
        "            lst2.remove(num)\n",
        "            lst3.remove(num)\n",
        "    return suma\n",
        "\n",
        "# Método 3. Una mezcla de los métodos 1 y 2\n",
        "def suma_comunes(lst1, lst2, lst3):\n",
        "    suma = 0\n",
        "    comunes = set(lst1) & set(lst2) & set(lst3)\n",
        "    for num in comunes:\n",
        "        count = min(lst1.count(num), lst2.count(num), lst3.count(num))\n",
        "        suma += num * count\n",
        "    return suma\n",
        "\n",
        "# Método 4\n",
        "def suma_comunes(lst1, lst2, lst3):\n",
        "    suma = 0\n",
        "    for i, num in enumerate(lst1):  # iteramos solo sobre una de las listas\n",
        "        if num in lst1 and num in lst2 and num in lst3:\n",
        "            suma += num\n",
        "            lst2.remove(num)\n",
        "            lst3.remove(num)\n",
        "    return suma\n",
        "\n",
        "# Método 5\n",
        "from collections import Counter\n",
        "\n",
        "def suma_comunes(lst1, lst2, lst3):\n",
        "    counter1 = Counter(lst1)\n",
        "    counter2 = Counter(lst2)\n",
        "    counter3 = Counter(lst3)\n",
        "\n",
        "    suma = 0\n",
        "    for num in counter1:\n",
        "        if num in counter2 and num in counter3:\n",
        "            # Sumamos el número multiplicado por el mínimo de veces que aparece en las tres listas.\n",
        "            suma += num * min(counter1[num], counter2[num], counter3[num])\n",
        "\n",
        "    return suma\n"
      ],
      "metadata": {
        "id": "EzEvRiJjL3nW"
      },
      "execution_count": null,
      "outputs": []
    },
    {
      "cell_type": "code",
      "source": [
        "print(suma_comunes([1, 2, 3], [5, 3, 2], [7, 3, 2]))            # 5\n",
        "print(suma_comunes([1, 2, 2, 3], [5, 3, 2, 2], [7, 3, 2, 2]))   # 7\n",
        "print(suma_comunes([1, 2, 2, 3], [1, 3, 2, 2], [3, 3, 2, 2]))   # 7\n",
        "print(suma_comunes([1], [1], [2]))                              # 0\n",
        "print(suma_comunes([1, 2, 3, 4], [2, 3, 4, 5], [3, 4, 5, 6]))   # 7\n",
        "print(suma_comunes([10, 20, 30], [10, 20, 30], [10, 20, 30]))   # 60\n",
        "print(suma_comunes([], [1, 2, 3], [4, 5, 6]))                   # 0\n",
        "print(suma_comunes([1, 1, 1], [1, 1, 1], [1, 1, 1]))            # 3"
      ],
      "metadata": {
        "id": "opmO9Yd8L3nW",
        "colab": {
          "base_uri": "https://localhost:8080/"
        },
        "outputId": "dc59f990-402d-4bf3-8f86-018322cf4028"
      },
      "execution_count": null,
      "outputs": [
        {
          "output_type": "stream",
          "name": "stdout",
          "text": [
            "5\n",
            "7\n",
            "7\n",
            "0\n",
            "7\n",
            "60\n",
            "0\n",
            "3\n"
          ]
        }
      ]
    },
    {
      "cell_type": "markdown",
      "source": [
        "## Reto 584: Construir y deconstruir\n",
        "* Construct and Deconstruct\n",
        "* Dada una cadena, crea una función que devuelva una lista, construyendo y deconstruyendo la cadena letra por letra.\n",
        "* Mira los ejemplos a continuación para obtener una guía útil.\n",
        "\n",
        "* **Ejemplos**\n",
        "```python\n",
        "construct_deconstruct(\"Hola\") ➞ [\n",
        "  \"H\",\n",
        "  \"Ho\",\n",
        "  \"Hol\",\n",
        "  \"Hola\",\n",
        "  \"Hol\",\n",
        "  \"Ho\",\n",
        "  \"H\"\n",
        "]\n",
        "construct_deconstruct(\"amazing\") ➞ [\n",
        "  \"a\",\n",
        "  \"am\",\n",
        "  \"ama\",\n",
        "  \"amaz\",\n",
        "  \"amazi\",\n",
        "  \"amazin\",\n",
        "  \"amazing\",\n",
        "  \"amazin\",\n",
        "  \"amazi\",\n",
        "  \"amaz\",\n",
        "  \"ama\",\n",
        "  \"am\",\n",
        "  \"a\"\n",
        "]\n",
        "construct_deconstruct(\"the sun\") ➞ [\n",
        "  \"t\",\n",
        "  \"th\",\n",
        "  \"the\",\n",
        "  \"the \",\n",
        "  \"the s\",\n",
        "  \"the su\",\n",
        "  \"the sun\",\n",
        "  \"the su\",\n",
        "  \"the s\",\n",
        "  \"the \",\n",
        "  \"the\",\n",
        "  \"th\",\n",
        "  \"t\"\n",
        "]\n",
        "```\n",
        "\n",
        "* **Nota**\n",
        "    - Incluye espacios (ver ejemplo #3)."
      ],
      "metadata": {
        "id": "15rjwg1tL3tV"
      }
    },
    {
      "cell_type": "code",
      "source": [
        "# Método 1\n",
        "def construct_deconstruct(s):\n",
        "    # Construcción\n",
        "    result = [s[:i+1] for i in range(len(s))]\n",
        "\n",
        "    # Deconstrucción\n",
        "    result += [s[:i] for i in range(len(s)-1, 0, -1)]\n",
        "\n",
        "    return result\n",
        "\n",
        "# Método 2\n",
        "def construct_deconstruct(s):\n",
        "    half =[s[:i] for i in range(1, len(s) + 1)]\n",
        "    return half + half[:-1][::-1]\n",
        "\n",
        "def construct_deconstruct(s):\n",
        "    result = []\n",
        "\n",
        "    # Fase de construcción\n",
        "    for i in range(1, len(s) + 1):\n",
        "        result.append(s[:i])\n",
        "\n",
        "    # Fase de deconstrucción\n",
        "    for i in range(len(s) - 1, 0, -1):\n",
        "        result.append(s[:i])\n",
        "\n",
        "    return result"
      ],
      "metadata": {
        "id": "8WUz4w7aL3tV"
      },
      "execution_count": null,
      "outputs": []
    },
    {
      "cell_type": "code",
      "source": [
        "print(construct_deconstruct(\"Hola\"))\n",
        "print(construct_deconstruct(\"amazing\"))\n",
        "print(construct_deconstruct(\"the sun\"))"
      ],
      "metadata": {
        "id": "VHrRCAUFL3tV",
        "colab": {
          "base_uri": "https://localhost:8080/"
        },
        "outputId": "0ac265c4-acf4-4d3d-b211-71c8fdc82d43"
      },
      "execution_count": null,
      "outputs": [
        {
          "output_type": "stream",
          "name": "stdout",
          "text": [
            "['H', 'Ho', 'Hol', 'Hola', 'Hol', 'Ho', 'H']\n",
            "['a', 'am', 'ama', 'amaz', 'amazi', 'amazin', 'amazing', 'amazin', 'amazi', 'amaz', 'ama', 'am', 'a']\n",
            "['t', 'th', 'the', 'the ', 'the s', 'the su', 'the sun', 'the su', 'the s', 'the ', 'the', 'th', 't']\n"
          ]
        }
      ]
    },
    {
      "cell_type": "markdown",
      "source": [
        "## Reto 585: Calcula la distancia más corta entre dos puntos\n",
        "* Calculate the Shortest Distance Between Two Points\n",
        "* Crea una función que tome una cadena de cuatro números.\n",
        "* Estos números representan dos puntos separados en un gráfico conocidos como el eje x (eje horizontal) y el eje y (eje vertical).\n",
        "\n",
        "* El orden de las coordenadas en la cadena corresponde a lo siguiente:\n",
        "\n",
        "\"x1,y1,x2,y2\"\n",
        "Calcula la distancia entre x e y.\n",
        "\n",
        "* **Ejemplos**:\n",
        "```\n",
        "shortestDistance(\"1,1,2,1\") ➞ 1\n",
        "shortestDistance(\"1,1,3,1\") ➞ 2\n",
        "shortestDistance(\"-5,1,3,1\") ➞ 8\n",
        "shortestDistance(\"-5,2,3,1\") ➞ 8.06\n",
        "````\n",
        "\n",
        "* **Nota**\n",
        "    - Todos los números flotantes deben estar fijos a dos decimales (por ejemplo, 2.34).\n",
        "    - Para calcular la distancia entre dos puntos en un plano cartesiano, usaremos la fórmula de la distancia Euclidiana:\n",
        "\n",
        "$$ \\text{distancia} = \\sqrt{(x_2 - x_1)^2 + (y_2 - y_1)^2} $$"
      ],
      "metadata": {
        "id": "waiNaoG1L3zp"
      }
    },
    {
      "cell_type": "code",
      "source": [
        "# Método 1. Retornamos una cadena no un número\n",
        "def shortestDistance(coords):\n",
        "    x1, y1, x2, y2 = (float(n) for n in coords.split(','))\n",
        "    return f'{((x2 - x1) ** 2 + (y2 - y1) ** 2) ** .5:.2f}'\n",
        "\n",
        "# Método 2\n",
        "import math\n",
        "\n",
        "def shortestDistance(coords):\n",
        "    # Dividir la cadena de entrada en una lista de números\n",
        "    x1, y1, x2, y2 = map(float, coords.split(','))\n",
        "\n",
        "    # Calcular la distancia utilizando la fórmula de distancia Euclidiana\n",
        "    distance = math.sqrt((x2 - x1) ** 2 + (y2 - y1) ** 2)\n",
        "\n",
        "    # Redondear la distancia a dos decimales\n",
        "    return round(distance, 2)"
      ],
      "metadata": {
        "id": "H56FhgUnL3zp"
      },
      "execution_count": null,
      "outputs": []
    },
    {
      "cell_type": "code",
      "source": [
        "print(shortestDistance(\"1,1,2,1\"))  # ➞ 1\n",
        "print(shortestDistance(\"1,1,3,1\"))  # ➞ 2\n",
        "print(shortestDistance(\"-5,1,3,1\")) # ➞ 8\n",
        "print(shortestDistance(\"-5,2,3,1\")) # ➞ 8.06"
      ],
      "metadata": {
        "id": "cAZkIyvfL3zp",
        "colab": {
          "base_uri": "https://localhost:8080/"
        },
        "outputId": "166146d6-2f4a-44a0-dedd-62d583603f45"
      },
      "execution_count": null,
      "outputs": [
        {
          "output_type": "stream",
          "name": "stdout",
          "text": [
            "1.0\n",
            "2.0\n",
            "8.0\n",
            "8.06\n"
          ]
        }
      ]
    },
    {
      "cell_type": "markdown",
      "source": [
        "## Reto 586: Temporizador de Coche 🏎️\n",
        "* Car Timer 🏎️\n",
        "* Un temporizador incorporado en tu coche puede contar la duración de tu viaje en **minutos** y has comenzado tu viaje a las `00:00`.  \n",
        "* Dado el número de minutos `n` al final del viaje, calcula la hora actual. Devuelve la **suma de los dígitos** que el temporizador digital en formato `hh:mm` mostrará al final del viaje.\n",
        "\n",
        "* **Ejemplos**\n",
        "\n",
        "```\n",
        "car_timer(240) ➞ 4\n",
        "#Han pasado 240 minutos desde las 00:00, la hora actual es 04:00\n",
        "#La suma de los dígitos es 0 + 4 + 0 + 0 = 4\n",
        "\n",
        "car_timer(14) ➞ 5\n",
        "#La suma de los dígitos es 0 + 0 + 1 + 4\n",
        "\n",
        "car_timer(808) ➞ 14\n",
        "```"
      ],
      "metadata": {
        "id": "t4yqCwAqL35p"
      }
    },
    {
      "cell_type": "code",
      "source": [
        "# Método 1\n",
        "def car_timer(minutes):\n",
        "    h = minutes // 60  # Calcula las horas usando división entera\n",
        "    m = minutes % 60   # Calcula los minutos usando el operador módulo\n",
        "    return sum(int(c) for c in str(h)) + sum(int(c) for c in str(m))  # Suma los dígitos de horas y minutos\n",
        "\n",
        "# Método 2. Usando divmod y formateando el string\n",
        "def car_timer(n):\n",
        "    # Obtener horas y minutos utilizando divmod\n",
        "    hours, minutes = divmod(n, 60)\n",
        "\n",
        "    # Convertir horas y minutos a string para sumar los dígitos\n",
        "    time_str = f\"{hours:02d}{minutes:02d}\"\n",
        "\n",
        "    # Calcular la suma de los dígitos\n",
        "    digit_sum = sum(int(digit) for digit in time_str)\n",
        "\n",
        "    return digit_sum\n",
        "\n",
        "# Método 3. Usando map\n",
        "def car_timer(n):\n",
        "    # Obtener horas y minutos utilizando divmod\n",
        "    hours, minutes = divmod(n, 60)\n",
        "\n",
        "    # Convertir horas y minutos a string en formato hhmm\n",
        "    time_str = f\"{hours:02d}{minutes:02d}\"\n",
        "\n",
        "    # Convertir cada carácter a entero y sumar usando map y sum\n",
        "    digit_sum = sum(map(int, time_str))\n",
        "\n",
        "    return digit_sum"
      ],
      "metadata": {
        "id": "pIiiWnaiL35p"
      },
      "execution_count": null,
      "outputs": []
    },
    {
      "cell_type": "code",
      "source": [
        "print(car_timer(240))   # 4\n",
        "print(car_timer(14))    # 5\n",
        "print(car_timer(808))   # 14\n",
        "print(car_timer(60))    # 1\n",
        "print(car_timer(1439))  # 19\n",
        "print(car_timer(923))   # 11"
      ],
      "metadata": {
        "id": "a610MU9oL35p",
        "colab": {
          "base_uri": "https://localhost:8080/"
        },
        "outputId": "e8436956-4eda-4a20-e27a-06ed034eddc8"
      },
      "execution_count": null,
      "outputs": [
        {
          "output_type": "stream",
          "name": "stdout",
          "text": [
            "4\n",
            "5\n",
            "14\n",
            "1\n",
            "19\n",
            "11\n"
          ]
        }
      ]
    },
    {
      "cell_type": "markdown",
      "source": [
        "## Reto 587: De A a Z\n",
        "* From A to Z\n",
        "* Dada una cadena que indica un rango de letras, devuelve una cadena que incluya todas las letras en ese rango, *incluyendo* la última letra.\n",
        "* Ten en cuenta que si el rango se da en *letras mayúsculas*, ¡devuelve la cadena también en mayúsculas!\n",
        "\n",
        "* **Ejemplos**\n",
        "\n",
        "```\n",
        "dame_las_letras(\"a-z\") ➞ \"abcdefghijklmnopqrstuvwxyz\"\n",
        "\n",
        "dame_las_letras(\"h-o\") ➞ \"hijklmno\"\n",
        "\n",
        "dame_las_letras(\"Q-Z\") ➞ \"QRSTUVWXYZ\"\n",
        "\n",
        "dame_las_letras(\"J-J\") ➞ \"J\"\n",
        "```\n",
        "\n",
        "* **Notas**\n",
        "    - Un *guion* separará las dos letras en la cadena.\n",
        "    - No necesitas preocuparte por el manejo de errores en este caso (es decir, ambas letras estarán en el mismo caso y la segunda letra siempre estará después de la primera alfabéticamente)."
      ],
      "metadata": {
        "id": "x6C1TjPaL3_-"
      }
    },
    {
      "cell_type": "code",
      "source": [
        "# Método 1. Usando index\n",
        "def dame_las_letras(s):\n",
        "    letras = \"abcdefghijklmnopqrstuvwxyz\"\n",
        "    if s[0].isupper():\n",
        "        letras = letras.upper()\n",
        "    return ''.join(letras[i] for i in range(letras.index(s[0]), letras.index(s[-1])+1))\n",
        "\n",
        "# Método 2. Usando ord() y chr()\n",
        "def dame_las_letras(rango):\n",
        "    inicio, fin = rango.split('-')\n",
        "    if inicio.isupper():\n",
        "        return ''.join(chr(i) for i in range(ord(inicio), ord(fin) + 1))\n",
        "    else:\n",
        "        return ''.join(chr(i) for i in range(ord(inicio), ord(fin) + 1)).lower()\n",
        "\n",
        "# Método 3\n",
        "import string\n",
        "\n",
        "def dame_las_letras(rango):\n",
        "    inicio, fin = rango.split('-')\n",
        "    if inicio.isupper():\n",
        "        alfabeto = string.ascii_uppercase\n",
        "    else:\n",
        "        alfabeto = string.ascii_lowercase\n",
        "\n",
        "    inicio_indice = alfabeto.index(inicio)\n",
        "    fin_indice = alfabeto.index(fin)\n",
        "\n",
        "    return alfabeto[inicio_indice:fin_indice+1]\n",
        "\n",
        "# Método 4\n",
        "def dame_las_letras(rango):\n",
        "    inicio, fin = rango.split('-')\n",
        "    es_mayuscula = inicio.isupper()\n",
        "\n",
        "    alfabeto = 'ABCDEFGHIJKLMNOPQRSTUVWXYZ' if es_mayuscula else 'abcdefghijklmnopqrstuvwxyz'\n",
        "    inicio_indice = alfabeto.index(inicio)\n",
        "    fin_indice = alfabeto.index(fin)\n",
        "\n",
        "    return alfabeto[inicio_indice:fin_indice+1]\n",
        "\n",
        "# Método 5. Programación funcional\n",
        "from functools import reduce\n",
        "\n",
        "def dame_las_letras(rango):\n",
        "    inicio, fin = rango.split('-')\n",
        "    es_mayuscula = inicio.isupper()\n",
        "\n",
        "    alfabeto = 'ABCDEFGHIJKLMNOPQRSTUVWXYZ' if es_mayuscula else 'abcdefghijklmnopqrstuvwxyz'\n",
        "\n",
        "    return reduce(\n",
        "        lambda acc, char: acc + char if inicio <= char <= fin else acc,\n",
        "        alfabeto,\n",
        "        ''\n",
        "    )\n",
        "    # acc es la variable acumulador\n",
        "\n",
        "# Método 6. Usando filter\n",
        "def dame_las_letras(rango):\n",
        "    inicio, fin = rango.split('-')\n",
        "    es_mayuscula = inicio.isupper()\n",
        "\n",
        "    alfabeto = 'ABCDEFGHIJKLMNOPQRSTUVWXYZ' if es_mayuscula else 'abcdefghijklmnopqrstuvwxyz'\n",
        "\n",
        "    # Usamos filter() para seleccionar las letras en el rango\n",
        "    letras_filtradas = filter(lambda char: inicio <= char <= fin, alfabeto)\n",
        "\n",
        "    # Unimos los caracteres en una sola cadena\n",
        "    return ''.join(letras_filtradas)"
      ],
      "metadata": {
        "id": "XUQoZ9ReL3_-"
      },
      "execution_count": null,
      "outputs": []
    },
    {
      "cell_type": "code",
      "source": [
        "print(dame_las_letras(\"a-z\"))\n",
        "print(dame_las_letras(\"h-o\"))\n",
        "print(dame_las_letras(\"Q-Z\"))\n",
        "print(dame_las_letras(\"J-J\"))"
      ],
      "metadata": {
        "id": "TWyax5wnL3_-",
        "colab": {
          "base_uri": "https://localhost:8080/"
        },
        "outputId": "00e6e284-6706-47c2-e417-800e7d2c6e16"
      },
      "execution_count": null,
      "outputs": [
        {
          "output_type": "stream",
          "name": "stdout",
          "text": [
            "abcdefghijklmnopqrstuvwxyz\n",
            "hijklmno\n",
            "QRSTUVWXYZ\n",
            "J\n"
          ]
        }
      ]
    },
    {
      "cell_type": "markdown",
      "source": [
        "## Reto 588: Eliminar Letras Repetidas\n",
        "* Remove Repeated Letters\n",
        "* Crea una función que reemplace todas las letras repetidas consecutivamente en una palabra por letras individuales.\n",
        "\n",
        "* **Ejemplos**\n",
        "\n",
        "```\n",
        "remove_repeats(\"aaabbbccc\")              ➞ abc\n",
        "remove_repeats(\"a\")                      ➞ a\n",
        "remove_repeats(\"\")                       ➞\n",
        "remove_repeats(\"nananana\")               ➞ nananana\n",
        "remove_repeats(\"aaaarrrrooooozzzz\")      ➞ aroz\n",
        "remove_repeats(\"muuuuuuuuy\")             ➞ muy\n",
        "remove_repeats(\"essssstttttrellllaaaa\")  ➞ estrela\n",
        "```\n"
      ],
      "metadata": {
        "id": "zBie26x6L4Gr"
      }
    },
    {
      "cell_type": "code",
      "source": [
        "# Método 1\n",
        "def remove_repeats(palabra):\n",
        "    if len(palabra) <= 1:\n",
        "        return palabra\n",
        "    result = palabra[0]\n",
        "    for i in range(1, len(palabra)):\n",
        "        if palabra[i] != palabra[i-1]:\n",
        "            result += palabra[i]\n",
        "    return result\n",
        "\n",
        "# Método 2\n",
        "def remove_repeats(palabra):\n",
        "    if len(palabra) <= 1:\n",
        "        return palabra\n",
        "\n",
        "    resultado = palabra[0]\n",
        "    for letra in palabra[1:]:\n",
        "        if letra != resultado[-1]:\n",
        "            resultado += letra\n",
        "\n",
        "    return resultado\n",
        "\n",
        "# Método 3\n",
        "def remove_repeats(palabra):\n",
        "    if not palabra:\n",
        "        return \"\"\n",
        "\n",
        "    resultado = [palabra[0]]\n",
        "    for letra in palabra[1:]:\n",
        "        if letra != resultado[-1]:\n",
        "            resultado.append(letra)\n",
        "\n",
        "    return ''.join(resultado)\n",
        "    resultado = [palabra[0]]\n",
        "    for letra in palabra[1:]:\n",
        "        if letra != resultado[-1]:\n",
        "            resultado.append(letra)\n",
        "\n",
        "    return ''.join(resultado)\n",
        "\n",
        "# Método 4\n",
        "import re\n",
        "\n",
        "def remove_repeats(palabra):\n",
        "    return re.sub(r'(.)\\1+', r'\\1', palabra)\n",
        "\n",
        "# Método 5\n",
        "def remove_repeats(palabra):\n",
        "    if len(palabra) <= 1:\n",
        "        return palabra\n",
        "\n",
        "    resultado = []\n",
        "    i = 0\n",
        "    while i < len(palabra):\n",
        "        resultado.append(palabra[i])\n",
        "        while i + 1 < len(palabra) and palabra[i] == palabra[i + 1]:\n",
        "            i += 1\n",
        "        i += 1\n",
        "\n",
        "    return ''.join(resultado)\n",
        "\n",
        "# Método 6\n",
        "import itertools\n",
        "\n",
        "def remove_repeats(palabra):\n",
        "    return ''.join(char for char, _ in itertools.groupby(palabra))"
      ],
      "metadata": {
        "id": "buUbN8SwL4Gr"
      },
      "execution_count": null,
      "outputs": []
    },
    {
      "cell_type": "code",
      "source": [
        "print(remove_repeats(\"aaabbbccc\"))              # abc\n",
        "print(remove_repeats(\"a\"))                      # a\n",
        "print(remove_repeats(\"\"))                       #\n",
        "print(remove_repeats(\"nananana\"))               # nananana\n",
        "print(remove_repeats(\"aaaarrrrooooozzzz\"))      # aroz\n",
        "print(remove_repeats(\"muuuuuuuuy\"))             # muy\n",
        "print(remove_repeats(\"essssstttttrellllaaaa\"))  # estrela"
      ],
      "metadata": {
        "id": "r6qt-50EL4Gr",
        "colab": {
          "base_uri": "https://localhost:8080/"
        },
        "outputId": "c3f8c02e-2c17-416c-e8a0-a3a0888057f2"
      },
      "execution_count": null,
      "outputs": [
        {
          "output_type": "stream",
          "name": "stdout",
          "text": [
            "abc\n",
            "a\n",
            "\n",
            "nananana\n",
            "aroz\n",
            "muy\n",
            "estrela\n"
          ]
        }
      ]
    },
    {
      "cell_type": "markdown",
      "source": [
        "## Reto 589: Caras Sonrientes :)\n",
        "* Smiley Faces :)\n",
        "* Se te dará una cadena de caracteres que contiene solo tres caracteres: `( ) :`\n",
        "* Crea una función que devuelva un número basado en la cantidad de caras tristes y sonrientes que hay.\n",
        "* Las caras felices `:)` y `(:` valen **1**.\n",
        "* Las caras tristes `:(` y `):` valen **-1**.\n",
        "* Ejemplo Resuelto\n",
        "\n",
        "```\n",
        "happiness_number(\":):(\") ➞ -1\n",
        "# Los primeros 2 caracteres son :)    +1      Total: 1\n",
        "# El 2º y 3er caracteres son ):       -1      Total: 0\n",
        "# El 3er y 4º caracteres son :(       -1      Total: -1\n",
        "```\n",
        "\n",
        "* **Ejemplos**\n",
        "\n",
        "```\n",
        "happiness_number(\":):(\") ➞ -1\n",
        "happiness_number(\"(:)\") ➞ 2\n",
        "happiness_number(\"::::\") ➞ 0\n",
        "```\n",
        "\n",
        "* **Notas**\n",
        "    - Todos los casos de prueba serán válidos."
      ],
      "metadata": {
        "id": "u3S8YwmWL4Ns"
      }
    },
    {
      "cell_type": "code",
      "source": [
        "# Método 1\n",
        "def happiness_number(s):\n",
        "    total = 0\n",
        "    for i in range(len(s) - 1):\n",
        "        if s[i:i+2] in [':)', '(:']:\n",
        "            total += 1\n",
        "        elif s[i:i+2] in [':(', '):']:\n",
        "            total -= 1\n",
        "    return total\n",
        "\n",
        "# Método 2\n",
        "def happiness_number(s):\n",
        "    total = 0\n",
        "    for i in range(len(s) - 1):  # Recorremos hasta el penúltimo carácter\n",
        "        face = s[i:i+2]  # Tomamos el par de caracteres\n",
        "        if face == \":)\" or face == \"(:\":\n",
        "            total += 1\n",
        "        elif face == \":(\" or face == \"):\":\n",
        "            total -= 1\n",
        "    return total\n",
        "\n",
        "# Método 3\n",
        "def happiness_number(s):\n",
        "    happy_faces = s.count(\":)\") + s.count(\"(:\")\n",
        "    sad_faces = s.count(\":(\") + s.count(\"):\")\n",
        "    return happy_faces - sad_faces"
      ],
      "metadata": {
        "id": "kjHpn_3rL4Ns"
      },
      "execution_count": null,
      "outputs": []
    },
    {
      "cell_type": "code",
      "source": [
        "print(happiness_number(\":):(\"))         # -1\n",
        "print(happiness_number(\"(:)\"))          # 2\n",
        "print(happiness_number(\"::::\"))         # 0\n",
        "print(happiness_number(\"(:):)::():\"))   # -1\n",
        "print(happiness_number(\":(:(:):(\"))     # -1\n",
        "print(happiness_number(\"))((::))((\"))   # 2\n",
        "print(happiness_number(\":):):):):)\"))   # 1"
      ],
      "metadata": {
        "id": "lBLE97MwL4Ns",
        "colab": {
          "base_uri": "https://localhost:8080/"
        },
        "outputId": "57dd104b-63e6-4917-ee0a-da00fc37a8e5"
      },
      "execution_count": null,
      "outputs": [
        {
          "output_type": "stream",
          "name": "stdout",
          "text": [
            "-1\n",
            "2\n",
            "0\n",
            "-1\n",
            "-1\n",
            "2\n",
            "1\n"
          ]
        }
      ]
    },
    {
      "cell_type": "markdown",
      "source": [
        "## Reto 590: Validación de Subconjuntos\n",
        "* Subset Validation\n",
        "* Escribe una función que devuelva `True` si todos los subconjuntos en una lista pertenecen a un conjunto dado.\n",
        "\n",
        "* **Ejemplos**\n",
        "\n",
        "```\n",
        "validate_subsets([[1, 2], [2, 3], [1, 3]], [1, 2, 3]) ➞ True\n",
        "validate_subsets([[1, 2, 3], [2], [3], []], [1, 2, 3]) ➞ True\n",
        "validate_subsets([[1, 2], [2, 3], [1, 4]], [1, 2, 3]) ➞ False\n",
        "validate_subsets([[1, 2, 3, 4]], [1, 2, 3]) ➞ False\n",
        "```\n",
        "\n",
        "* **Notas**\n",
        "    - El **conjunto vacío** y el **conjunto** mismo son **ambos** subconjuntos válidos de un conjunto (no estamos hablando de subconjuntos propios aquí).\n",
        "    - El conjunto y el subconjunto tendrán cada uno elementos únicos.\n"
      ],
      "metadata": {
        "id": "c_paq_i4L4Uv"
      }
    },
    {
      "cell_type": "code",
      "source": [
        "# Método 1\n",
        "def validate_subsets(subsets, full_set):\n",
        "    return all(num in full_set for subset in subsets for num in subset)\n",
        "\n",
        "# Método 2\n",
        "def validate_subsets(subsets, full_set):\n",
        "    full_set = set(full_set)  # Convertimos la lista a un conjunto para operaciones más eficientes\n",
        "\n",
        "    for subset in subsets:\n",
        "        if not set(subset).issubset(full_set):\n",
        "            return False\n",
        "\n",
        "    return True\n",
        "\n",
        "# Método 3\n",
        "def validate_subsets(subsets, full_set):\n",
        "    full_set = set(full_set)\n",
        "    return all(set(subset) - full_set == set() for subset in subsets)"
      ],
      "metadata": {
        "id": "5eBRqnbEL4Uv"
      },
      "execution_count": null,
      "outputs": []
    },
    {
      "cell_type": "code",
      "source": [
        "print(validate_subsets([[1, 2], [2, 3], [1, 3]], [1, 2, 3]))    # True\n",
        "print(validate_subsets([[1, 2, 3], [2], [3], []], [1, 2, 3]))   # True\n",
        "print(validate_subsets([], [1, 2, 3]))                          # True\n",
        "print(validate_subsets([[]], []))                               # True\n",
        "print(validate_subsets([[1]], []))                              # False\n",
        "print(validate_subsets([[1, 2], [2, 3], [1, 4]], [1, 2, 3]))    # False\n",
        "print(validate_subsets([[1, 2, 3, 4]], [1, 2, 3]))              # False"
      ],
      "metadata": {
        "id": "rUuQg2ZIL4Uv",
        "colab": {
          "base_uri": "https://localhost:8080/"
        },
        "outputId": "9792c01a-b91c-49e4-950c-1909f8687ad0"
      },
      "execution_count": null,
      "outputs": [
        {
          "output_type": "stream",
          "name": "stdout",
          "text": [
            "True\n",
            "True\n",
            "True\n",
            "True\n",
            "False\n",
            "False\n",
            "False\n"
          ]
        }
      ]
    },
    {
      "cell_type": "markdown",
      "source": [
        "## Reto 591: Eliminar Caracteres Repetidos\n",
        "* Remove Repeated Characters\n",
        "* Crea una función que elimine cualquier carácter repetido en una palabra pasada a la función.\n",
        "* No solo caracteres consecutivos, sino caracteres que se repitan en cualquier parte de la entrada.\n",
        "\n",
        "* **Ejemplos**\n",
        "\n",
        "```\n",
        "unrepeated(\"banana\") ➞ \"ban\"\n",
        "unrepeated(\"aaaaa\") ➞ \"a\"\n",
        "unrepeated(\"WWE!!!\") ➞ \"WE!\"\n",
        "unrepeated(\"llama 112\") ➞ \"lama 12\"\n",
        "```\n",
        "\n",
        "* **Notas**\n",
        "    - No se pasarán más de dos palabras en las pruebas.\n",
        "    - La entrada incluye caracteres especiales y números."
      ],
      "metadata": {
        "id": "3w2wTJmWMJ-E"
      }
    },
    {
      "cell_type": "code",
      "source": [
        "# Método 1\n",
        "def unrepeated(s):\n",
        "    result = \"\"\n",
        "    for c in s:\n",
        "        if c not in result:\n",
        "            result += c\n",
        "    return result\n",
        "\n",
        "# Método 2\n",
        "def unrepeated(s):\n",
        "    return ''.join(c for i, c in enumerate(s) if c not in s[:i])\n",
        "\n",
        "# Método 3. Usando un diccionario\n",
        "# a partir de Python 3.7, los diccionarios mantienen el orden de inserción por defecto.\n",
        "def sin_repetir(texto):\n",
        "    return ''.join(dict.fromkeys(texto))\n",
        "\n",
        "# Método 4\n",
        "def unrepeated(word):\n",
        "    # Crear un conjunto para almacenar los caracteres únicos\n",
        "    seen = set()\n",
        "    # Crear una lista para almacenar los caracteres que se agregarán a la palabra final\n",
        "    result = []\n",
        "\n",
        "    # Iterar sobre cada carácter en la palabra\n",
        "    for char in word:\n",
        "        # Si el carácter no ha sido visto antes, agregarlo al resultado y marcarlo como visto\n",
        "        if char not in seen:\n",
        "            result.append(char)\n",
        "            seen.add(char)\n",
        "\n",
        "    # Convertir la lista de caracteres en una cadena y devolverla\n",
        "    return ''.join(result)\n",
        "\n",
        "# Método 5\n",
        "def unrepeated(word):\n",
        "    # Crear un conjunto para rastrear los caracteres ya vistos\n",
        "    seen = set()\n",
        "    # Crear una lista para almacenar el resultado final\n",
        "    result = []\n",
        "\n",
        "    # Iterar sobre cada carácter en la palabra\n",
        "    for char in word:\n",
        "        # Si el carácter no ha sido visto antes, agregarlo al resultado\n",
        "        if char not in seen:\n",
        "            result.append(char)\n",
        "            seen.add(char)\n",
        "\n",
        "    # Convertir la lista de caracteres en una cadena y devolverla\n",
        "    return ''.join(result)\n",
        "\n",
        "# Método 6. Enfoque de programación funcional\n",
        "def unrepeated(word):\n",
        "    return ''.join(filter(lambda x, seen=set(): not (x in seen or seen.add(x)), word))\n",
        "\n",
        "# Método 7.\n",
        "def unrepeated(s):\n",
        "    seen = set()\n",
        "    return ''.join(c for c in s if not (c in seen or seen.add(c)))\n",
        "\n",
        "# Método 8\n",
        "def unrepeated(s):\n",
        "    return ''.join(sorted(set(s), key=s.index))"
      ],
      "metadata": {
        "id": "ajHrz-XxMJ-E"
      },
      "execution_count": null,
      "outputs": []
    },
    {
      "cell_type": "code",
      "source": [
        "print(unrepeated(\"banana\"))     # ban\n",
        "print(unrepeated(\"aaaaa\"))      # a\n",
        "print(unrepeated(\"WWE!!!\"))     # WE!\n",
        "print(unrepeated(\"llama 112\"))  # lam 12"
      ],
      "metadata": {
        "id": "4RR98pcWMJ-E",
        "outputId": "488d7157-d893-4885-ac2f-240201adcd29",
        "colab": {
          "base_uri": "https://localhost:8080/"
        }
      },
      "execution_count": null,
      "outputs": [
        {
          "output_type": "stream",
          "name": "stdout",
          "text": [
            "ban\n",
            "a\n",
            "WE!\n",
            "lam 12\n"
          ]
        }
      ]
    },
    {
      "cell_type": "markdown",
      "source": [
        "#### Explicación del Método 6\n",
        "- **`filter`**: Esta función aplica una condición a cada elemento en `word`. Solo los elementos que cumplen la condición se mantienen.\n",
        "- **`lambda x, seen=set(): not (x in seen or seen.add(x))`**:\n",
        "  - **`seen=set()`**: Se utiliza un conjunto `seen` para rastrear los caracteres que ya han aparecido.\n",
        "  - **`x in seen or seen.add(x)`**: Este truco inteligente agrega el carácter a `seen` si no está presente y devuelve `True` si el carácter ya estaba, lo que causa que `filter` lo excluya.\n",
        "  - **`not (x in seen or seen.add(x))`**: Negamos la expresión para incluir solo caracteres que no han sido vistos antes."
      ],
      "metadata": {
        "id": "fI8xBd0eIOJT"
      }
    },
    {
      "cell_type": "code",
      "source": [
        "def first_unique_letters(words):\n",
        "    seen = set()\n",
        "    return [word[0] for word in words if not (word[0] in seen or seen.add(word[0]))]\n",
        "\n",
        "# Ejemplo de uso\n",
        "words = [\"apple\", \"banana\", \"cherry\", \"avocado\", \"blueberry\", \"carrot\"]\n",
        "print(first_unique_letters(words))  # ➞ ['a', 'b', 'c']"
      ],
      "metadata": {
        "colab": {
          "base_uri": "https://localhost:8080/"
        },
        "id": "tZA4JfTWKJ8S",
        "outputId": "fc4d2a7b-abee-401f-cff5-3bcc5997c3b2"
      },
      "execution_count": null,
      "outputs": [
        {
          "output_type": "stream",
          "name": "stdout",
          "text": [
            "['a', 'b', 'c']\n"
          ]
        }
      ]
    },
    {
      "cell_type": "markdown",
      "source": [
        "##### Otro ejemplo de este \"truco\" usando una lista de números"
      ],
      "metadata": {
        "id": "_h3IJ3LVNmmt"
      }
    },
    {
      "cell_type": "code",
      "source": [
        "def first_unique_numbers(numbers):\n",
        "    seen = set()\n",
        "    return [x for x in numbers if not (x in seen or seen.add(x))]\n",
        "\n",
        "# Ejemplo de uso\n",
        "numbers = [4, 9, 6, 4, 7, 5, 8, 6, 9, 5]\n",
        "print(first_unique_numbers(numbers))        # 4, 9, 6, 7, 5, 8]"
      ],
      "metadata": {
        "colab": {
          "base_uri": "https://localhost:8080/"
        },
        "id": "1LhqZCHLMAWX",
        "outputId": "e0546756-2320-476a-b21a-096bb1a3ee67"
      },
      "execution_count": null,
      "outputs": [
        {
          "output_type": "stream",
          "name": "stdout",
          "text": [
            "[4, 9, 6, 7, 5, 8]\n"
          ]
        }
      ]
    },
    {
      "cell_type": "markdown",
      "source": [
        "## Reto 592: Formato X: Desempaquetando Diccionarios*\n",
        "* Format X: Unpacking Dictionaries\n",
        "* Para cada desafío de esta serie **no** necesitas enviar una función. En su lugar, debes enviar una **cadena de plantilla** que pueda ser formateada para obtener un resultado determinado.\n",
        "\n",
        "* Escribe **tres diccionarios** y una cadena de plantilla de acuerdo con el siguiente ejemplo. Nota el artículo \"un\" en el tercer ejemplo:\n",
        "\n",
        "* **Ejemplo**\n",
        "\n",
        "```\n",
        "dic1 = {\"tusclaves\": \"tusvalores\"}\n",
        "dic2 = {\"tusclaves\": \"tusvalores\"}\n",
        "dic3 = {\"tusclaves\": \"tusvalores\"}\n",
        "plantilla = \"tucadenadeplantillaaquí\"\n",
        "\n",
        "plantilla.format(**dic1) ➞ \"Me gusta María, no me gusta Mayo.\"\n",
        "plantilla.format(**dic2) ➞ \"Amo Python, no amo Cobol.\"\n",
        "plantilla.format(**dic3) ➞ \"Tengo un Pidgey, no tengo un Rattata.\"\n",
        "```\n",
        "\n",
        "* **Consejos**\n",
        "Los elementos de un diccionario pueden ser desempaquetados y pasados a `.format()` como argumentos de palabras clave usando un operador de doble asterisco `**`:\n",
        "\n",
        "```\n",
        "producto = {\"nombre\": \"pokebola\", \"precio\": 20}\n",
        "\"Una {nombre} cuesta ${precio:.2f}\".format(**producto) ➞ \"Una pokebola cuesta $20.00\"\n",
        "```\n",
        "\n",
        "* **Notas**\n",
        "    - Envía una cadena, no una función."
      ],
      "metadata": {
        "id": "CtVXEJ_GMKEv"
      }
    },
    {
      "cell_type": "code",
      "source": [
        "# Método 1\n",
        "dic1 = {\"like\": \"Mary\", \"dont_like\": \"May\"}\n",
        "dic2 = {\"love\": \"Python\", \"dont_love\": \"Cobol\"}\n",
        "dic3 = {\"have\": \"Pidgey\", \"dont_have\": \"Rattata\"}\n",
        "\n",
        "template = \"I {action1} {name1}, I don't {action2} {name2}.\"\n",
        "\n",
        "print(template.format(action1=\"like\", name1=dic1[\"like\"], action2=\"like\", name2=dic1[\"dont_like\"]))\n",
        "print(template.format(action1=\"love\", name1=dic2[\"love\"], action2=\"love\", name2=dic2[\"dont_love\"]))\n",
        "print(template.format(action1=\"have a\", name1=dic3[\"have\"], action2=\"have a\", name2=dic3[\"dont_have\"]))"
      ],
      "metadata": {
        "id": "SV1DE57fMKEv",
        "colab": {
          "base_uri": "https://localhost:8080/"
        },
        "outputId": "e7742713-2a4b-47ca-f205-d956156ca3b6"
      },
      "execution_count": null,
      "outputs": [
        {
          "output_type": "stream",
          "name": "stdout",
          "text": [
            "I like Mary, I don't like May.\n",
            "I love Python, I don't love Cobol.\n",
            "I have a Pidgey, I don't have a Rattata.\n"
          ]
        }
      ]
    },
    {
      "cell_type": "code",
      "source": [
        "# Método 2\n",
        "dic1 = {\"action\": \"like\", \"person\": \"Mary\", \"neg_person\": \"May\"}\n",
        "dic2 = {\"action\": \"love\", \"person\": \"Python\", \"neg_person\": \"Cobol\"}\n",
        "dic3 = {\"action\": \"have a\", \"person\": \"Pidgey\", \"neg_person\": \"Rattata\"}\n",
        "\n",
        "template = \"I {action} {person}, I don't {action} {neg_person}.\"\n",
        "\n",
        "print(template.format(**dic1))\n",
        "print(template.format(**dic2))\n",
        "print(template.format(**dic3))"
      ],
      "metadata": {
        "id": "EbIacckFMKEv",
        "colab": {
          "base_uri": "https://localhost:8080/"
        },
        "outputId": "22d80436-05a5-494f-9cd7-a3013a15558c"
      },
      "execution_count": null,
      "outputs": [
        {
          "output_type": "stream",
          "name": "stdout",
          "text": [
            "I like Mary, I don't like May.\n",
            "I love Python, I don't love Cobol.\n",
            "I have a Pidgey, I don't have a Rattata.\n"
          ]
        }
      ]
    },
    {
      "cell_type": "code",
      "source": [
        "# Método 3\n",
        "dic1 = {\"like\": \"Mary\", \"dislike\": \"May\"}\n",
        "dic2 = {\"like\": \"Python\", \"dislike\": \"Cobol\"}\n",
        "dic3 = {\"have\": \"Pidgey\", \"dont_have\": \"Rattata\"}\n",
        "\n",
        "# Plantilla ajustada para todos los diccionarios\n",
        "template1 = \"I like {like}, I don't like {dislike}.\"\n",
        "template2 = \"I love {like}, I don't love {dislike}.\"\n",
        "template3 = \"I have a {have}, I don't have a {dont_have}.\"\n",
        "\n",
        "# Pruebas para ver los resultados\n",
        "print(template1.format(**dic1))  # \"I like Mary, I don't like May.\"\n",
        "print(template2.format(**dic2))  # \"I love Python, I don't love Cobol.\"\n",
        "print(template3.format(**dic3))  # \"I have a Pidgey, I don't have a Rattata.\""
      ],
      "metadata": {
        "colab": {
          "base_uri": "https://localhost:8080/"
        },
        "id": "t8T8z9IPXnmh",
        "outputId": "324877d6-37c8-4df5-f0cb-28fc07a99f79"
      },
      "execution_count": null,
      "outputs": [
        {
          "output_type": "stream",
          "name": "stdout",
          "text": [
            "I like Mary, I don't like May.\n",
            "I love Python, I don't love Cobol.\n",
            "I have a Pidgey, I don't have a Rattata.\n"
          ]
        }
      ]
    },
    {
      "cell_type": "code",
      "source": [
        "# Método 4\n",
        "dic1 = {\"like\": \"Mary\", \"dont_like\": \"May\"}\n",
        "dic2 = {\"love\": \"Python\", \"dont_love\": \"Cobol\"}\n",
        "dic3 = {\"have\": \"Pidgey\", \"dont_have\": \"Rattata\"}\n",
        "\n",
        "template = \"I {action} {pos}, I don't {action} {neg}.\"\n",
        "\n",
        "def format_template(d):\n",
        "    action = list(d.keys())[0]\n",
        "    return template.format(action=action, pos=d[action], neg=d[f\"dont_{action}\"])\n",
        "\n",
        "print(format_template(dic1))\n",
        "print(format_template(dic2))\n",
        "print(format_template(dic3))"
      ],
      "metadata": {
        "colab": {
          "base_uri": "https://localhost:8080/"
        },
        "id": "3CigcKLMatLa",
        "outputId": "05f63f15-a66c-4928-8b4b-d1f40dfcf6d9"
      },
      "execution_count": null,
      "outputs": [
        {
          "output_type": "stream",
          "name": "stdout",
          "text": [
            "I like Mary, I don't like May.\n",
            "I love Python, I don't love Cobol.\n",
            "I have Pidgey, I don't have Rattata.\n"
          ]
        }
      ]
    },
    {
      "cell_type": "code",
      "source": [
        "# Método 5\n",
        "dic1 = {\"like\": \"Mary\", \"dont_like\": \"May\"}\n",
        "dic2 = {\"love\": \"Python\", \"dont_love\": \"Cobol\"}\n",
        "dic3 = {\"have\": \"Pidgey\", \"dont_have\": \"Rattata\"}\n",
        "\n",
        "template = \"I {action} {positive}, I don't {action} {negative}.\"\n",
        "\n",
        "def format_with_kwargs(d):\n",
        "    action = list(d.keys())[0]\n",
        "    kwargs = {\n",
        "        \"action\": action,\n",
        "        \"positive\": d[action],\n",
        "        \"negative\": d[f\"dont_{action}\"]\n",
        "    }\n",
        "    return template.format(**kwargs)\n",
        "\n",
        "print(format_with_kwargs(dic1))\n",
        "print(format_with_kwargs(dic2))\n",
        "print(format_with_kwargs(dic3))"
      ],
      "metadata": {
        "colab": {
          "base_uri": "https://localhost:8080/"
        },
        "id": "wYvgYlz2cAlH",
        "outputId": "9f1b18cc-1bf9-489b-c020-3f7c0648db3d"
      },
      "execution_count": null,
      "outputs": [
        {
          "output_type": "stream",
          "name": "stdout",
          "text": [
            "I like Mary, I don't like May.\n",
            "I love Python, I don't love Cobol.\n",
            "I have Pidgey, I don't have Rattata.\n"
          ]
        }
      ]
    },
    {
      "cell_type": "markdown",
      "source": [
        "## Reto 593: Palabras Estiradas\n",
        "* Stretched Words\n",
        "* Escribe una función que tome una cadena y devuelva una nueva cadena con cualquier letra duplicada *consecutiva* eliminada.\n",
        "\n",
        "* **Ejemplos**\n",
        "\n",
        "```\n",
        "desestira(\"ppoeemm\") ➞ \"poem\"\n",
        "desestira(\"wiiiinnnnd\") ➞ \"wind\"\n",
        "desestira(\"ttiiitllleeee\") ➞ \"title\"\n",
        "desestira(\"cccccaaarrrbbonnnnn\") ➞ \"carbon\"\n",
        "```\n",
        "\n",
        "* **Notas**\n",
        "    - Las cadenas finales *no* incluirán palabras con letras dobles (por ejemplo, \"passing\", \"lottery\")."
      ],
      "metadata": {
        "id": "VZGtZ8s_MKK_"
      }
    },
    {
      "cell_type": "code",
      "source": [
        "# Método 1\n",
        "def desestira(s):\n",
        "    if len(s) <= 1:\n",
        "        return s\n",
        "    result = s[0]\n",
        "    for i in range(1, len(s)):\n",
        "        if s[i-1] != s[i]:\n",
        "            result += s[i]\n",
        "    return result\n",
        "\n",
        "# Método 2\n",
        "def desestira(palabra):\n",
        "    resultado = palabra[0]  # Comenzamos con la primera letra\n",
        "    for letra in palabra[1:]:  # Iteramos desde la segunda letra\n",
        "        if letra != resultado[-1]:  # Si la letra actual es diferente a la última en el resultado\n",
        "            resultado += letra  # La añadimos al resultado\n",
        "    return resultado\n",
        "\n",
        "# Método 3\n",
        "import re\n",
        "\n",
        "def desestira(palabra):\n",
        "    return re.sub(r'(.)\\1+', r'\\1', palabra)\n",
        "\n",
        "# Método 4\n",
        "from itertools import groupby\n",
        "\n",
        "def desestira(palabra):\n",
        "    return ''.join(char for char, _ in groupby(palabra))\n",
        "\n",
        "# Método 5\n",
        "def desestira(palabra):\n",
        "    return ''.join(letra for i, letra in enumerate(palabra) if i == 0 or letra != palabra[i-1])\n"
      ],
      "metadata": {
        "id": "02-FMX0hMKLA"
      },
      "execution_count": null,
      "outputs": []
    },
    {
      "cell_type": "code",
      "source": [
        "print(desestira(\"ppoeemm\"))             # \"poem\"\n",
        "print(desestira(\"wiiiinnnnd\"))          # \"wind\"\n",
        "print(desestira(\"ttiiitllleeee\"))       # \"title\"\n",
        "print(desestira(\"cccccaaarrrbbonnnnn\")) # \"carbon\""
      ],
      "metadata": {
        "id": "8S33i01kMKLA",
        "colab": {
          "base_uri": "https://localhost:8080/"
        },
        "outputId": "3a12b901-5cad-432b-c9b7-b39e9dda53d5"
      },
      "execution_count": null,
      "outputs": [
        {
          "output_type": "stream",
          "name": "stdout",
          "text": [
            "poem\n",
            "wind\n",
            "title\n",
            "carbon\n"
          ]
        }
      ]
    },
    {
      "cell_type": "markdown",
      "source": [
        "## Reto 594: Rangos de Lista Inclusivos Reversibles\n",
        "* Reversible Inclusive List Ranges\n",
        "* Escribe una función que, dados los valores `start_of_range` y `end_of_range`, devuelva un array que contenga todos los números **inclusivos** en ese rango.\n",
        "\n",
        "* **Ejemplos**\n",
        "\n",
        "```\n",
        "reversible_inclusive_list(1, 5) ➞ [1, 2, 3, 4, 5]\n",
        "reversible_inclusive_list(2, 8) ➞ [2, 3, 4, 5, 6, 7, 8]\n",
        "reversible_inclusive_list(10, 20) ➞ [10, 11, 12, 13, 14, 15, 16, 17, 18, 19, 20]\n",
        "reversible_inclusive_list(24, 17) ➞ [24, 23, 22, 21, 20, 19, 18, 17]\n",
        "```\n",
        "\n",
        "* **Notas**\n",
        "    - El orden de clasificación del array resultante depende de los valores de entrada.\n",
        "    - Todas las entradas proporcionadas en los escenarios de prueba son válidas.\n",
        "    - Si `start_of_range` es mayor que `end_of_range`, devuelve un array ordenado en orden **descendente**, de lo contrario, ordenado en orden **ascendente**."
      ],
      "metadata": {
        "id": "zNLzygsBMKRW"
      }
    },
    {
      "cell_type": "code",
      "source": [
        "# Método 1\n",
        "def reversible_inclusive_list(start_of_range, end_of_range):\n",
        "    if start_of_range <= end_of_range:\n",
        "        return list(range(start_of_range, end_of_range + 1))\n",
        "    else:\n",
        "        return list(range(start_of_range, end_of_range - 1, -1))\n",
        "\n",
        "# Método 2\n",
        "def reversible_inclusive_list(start_of_range, end_of_range):\n",
        "    step = 1 if start_of_range < end_of_range else -1\n",
        "    return [x for x in range(start_of_range, end_of_range + 1, step)]\n",
        "\n",
        "# Método 3. Usando range\n",
        "def reversible_inclusive_list(start_of_range, end_of_range):\n",
        "    step = 1 if start_of_range <= end_of_range else -1\n",
        "    return list(range(start_of_range, end_of_range + step, step))\n",
        "\n",
        "# Método 4. Usando el operador * para desempaquetar el range en una lista\n",
        "def reversible_inclusive_list(start_of_range, end_of_range):\n",
        "    step = 1 if start_of_range <= end_of_range else -1\n",
        "    return [*range(start_of_range, end_of_range + step, step)]\n",
        "\n",
        "# Método 5. Función recursiva\n",
        "def reversible_inclusive_list(start_of_range, end_of_range):\n",
        "    if start_of_range == end_of_range:\n",
        "        return [start_of_range]\n",
        "    elif start_of_range < end_of_range:\n",
        "        return [start_of_range] + reversible_inclusive_list(start_of_range + 1, end_of_range)\n",
        "    else:\n",
        "        return [start_of_range] + reversible_inclusive_list(start_of_range - 1, end_of_range)"
      ],
      "metadata": {
        "id": "KeoLE6LyMKRW"
      },
      "execution_count": null,
      "outputs": []
    },
    {
      "cell_type": "code",
      "source": [
        "print(reversible_inclusive_list(1, 5))    # [1, 2, 3, 4, 5]\n",
        "print(reversible_inclusive_list(2, 8))    # [2, 3, 4, 5, 6, 7, 8]\n",
        "print(reversible_inclusive_list(10, 20))  # [10, 11, 12, 13, 14, 15, 16, 17, 18, 19, 20]\n",
        "print(reversible_inclusive_list(24, 17))  # [24, 23, 22, 21, 20, 19, 18, 17]"
      ],
      "metadata": {
        "id": "M-f3lc_BMKRW",
        "colab": {
          "base_uri": "https://localhost:8080/"
        },
        "outputId": "a807d0db-f8ea-410c-8a6c-4a86fae90f4b"
      },
      "execution_count": null,
      "outputs": [
        {
          "output_type": "stream",
          "name": "stdout",
          "text": [
            "[1, 2, 3, 4, 5]\n",
            "[2, 3, 4, 5, 6, 7, 8]\n",
            "[10, 11, 12, 13, 14, 15, 16, 17, 18, 19, 20]\n",
            "[24, 23, 22, 21, 20, 19, 18, 17]\n"
          ]
        }
      ]
    },
    {
      "cell_type": "markdown",
      "source": [
        "## Reto 595: Mini Sudoku\n",
        "* Mini Sudoku\n",
        "* Un Sudoku es una cuadrícula de 9x9 que se completa cuando cada cuadrado de 3x3, fila y columna contiene los números del 1 al 9.\n",
        "* Para esta tarea, se te dará un cuadrado de 3x3 completo, en forma de una lista bidimensional. Crea una función que verifique que este cuadrado de 3x3 contiene cada número del 1 al 9 exactamente una vez. Asegúrate de que no haya duplicados ni números fuera de este rango.\n",
        "\n",
        "* **Ejemplos**\n",
        "\n",
        "```\n",
        "es_mini_sudoku([[1, 3, 2], [9, 7, 8], [4, 5, 6]]) ➞ True\n",
        "\n",
        "es_mini_sudoku([[8, 9, 2], [5, 6, 1], [3, 7, 4]]) ➞ True\n",
        "\n",
        "es_mini_sudoku([[1, 1, 3], [6, 5, 4], [8, 7, 9]]) ➞ False\n",
        "#El 1 se repite dos veces\n",
        "\n",
        "es_mini_sudoku([[0, 1, 2], [6, 4, 5], [9, 8, 7]]) ➞ False\n",
        "#El 0 está incluido (fuera del rango)\n",
        "```"
      ],
      "metadata": {
        "id": "IdhnocJpMKYC"
      }
    },
    {
      "cell_type": "code",
      "source": [
        "# Método 1\n",
        "def es_mini_sudoku(matrix):\n",
        "    lista = [n for row in matrix for n in row]\n",
        "    return sorted(lista) == list(range(1, 10))\n",
        "\n",
        "# Método 2\n",
        "def es_mini_sudoku(cuadrado):\n",
        "    # Aplanar la lista bidimensional\n",
        "    numeros = [num for fila in cuadrado for num in fila]\n",
        "\n",
        "    # Verificar si hay 9 números únicos en el rango 1-9\n",
        "    return set(numeros) == set(range(1, 10))\n",
        "\n",
        "# Método 3\n",
        "def es_mini_sudoku(cuadrado):\n",
        "    # Convertir la lista de listas en una lista plana usando el operador *\n",
        "    numeros = [*sum(cuadrado, [])]\n",
        "\n",
        "    # Verificar que todos los números estén en el rango 1-9\n",
        "    if not all(1 <= num <= 9 for num in numeros):\n",
        "        return False\n",
        "\n",
        "    # Verificar que no haya duplicados\n",
        "    return len(numeros) == len(set(numeros)) == 9\n",
        "\n",
        "# Método 4. Usando NumPy\n",
        "import numpy as np\n",
        "\n",
        "def es_mini_sudoku(cuadrado):\n",
        "    # Convertir la lista de listas a un array NumPy\n",
        "    arr = np.array(cuadrado)\n",
        "\n",
        "    # Verificar si todos los números están en el rango 1-9\n",
        "    if not np.all((arr >= 1) & (arr <= 9)):\n",
        "        return False\n",
        "\n",
        "    # Verificar si hay 9 números únicos\n",
        "    return np.unique(arr).size == 9\n",
        "\n",
        "# Método 5. Usando Pandas\n",
        "# el método .stack() de Pandas \"apila\" el DataFrame, convirtiendo la estructura 2D en una serie 1D\n",
        "import pandas as pd\n",
        "\n",
        "def es_mini_sudoku(cuadrado):\n",
        "    # Convertir la lista de listas a un DataFrame de Pandas\n",
        "    df = pd.DataFrame(cuadrado)\n",
        "\n",
        "    # Aplanar el DataFrame a una serie\n",
        "    serie = df.stack()\n",
        "\n",
        "    # Verificar si todos los números están en el rango 1-9\n",
        "    if not serie.between(1, 9).all():\n",
        "        return False\n",
        "\n",
        "    # Verificar si hay 9 números únicos\n",
        "    return serie.nunique() == 9\n"
      ],
      "metadata": {
        "id": "LiajNLNhMKYC"
      },
      "execution_count": null,
      "outputs": []
    },
    {
      "cell_type": "code",
      "source": [
        "print(es_mini_sudoku([[1, 3, 2], [9, 7, 8], [4, 5, 6]]))    # True\n",
        "print(es_mini_sudoku([[8, 9, 2], [5, 6, 1], [3, 7, 4]]))    # True\n",
        "print(es_mini_sudoku([[1, 1, 3], [6, 5, 4], [8, 7, 9]]))    # False\n",
        "print(es_mini_sudoku([[0, 1, 2], [6, 4, 5], [9, 8, 7]]))    # False"
      ],
      "metadata": {
        "id": "d1yzMQbOMKYD",
        "colab": {
          "base_uri": "https://localhost:8080/"
        },
        "outputId": "aa2cd18a-baf3-4ca9-85be-0ff73a118137"
      },
      "execution_count": null,
      "outputs": [
        {
          "output_type": "stream",
          "name": "stdout",
          "text": [
            "True\n",
            "True\n",
            "False\n",
            "False\n"
          ]
        }
      ]
    },
    {
      "cell_type": "markdown",
      "source": [
        "## Reto 596: Temperaturas Récord\n",
        "* Record Temperatures\n",
        "* Se te proporcionan dos listas que contienen datos que representan las temperaturas mínimas y máximas del clima para cada día de la semana.\n",
        "* La lista de récords contiene las temperaturas récord más bajas/altas de todos los tiempos para ese día de la semana.\n",
        "\n",
        "```\n",
        "[[récord mínimo, récord máximo], ...]\n",
        "```\n",
        "\n",
        "* La lista de la semana actual contiene las temperaturas mínimas/máximas diarias para cada día de la semana actual.\n",
        "\n",
        "```\n",
        "[[mínima diaria, máxima diaria], ...]\n",
        "```\n",
        "\n",
        "* Se considera que una temperatura máxima diaria es un nuevo récord máximo si es superior al récord máximo para ese día de la semana. Se considera que una temperatura mínima diaria es un nuevo récord mínimo si es inferior al récord mínimo para ese día de la semana.\n",
        "* Compara las temperaturas mínimas/máximas diarias de la semana actual con los récords mínimos/máximos y devuelve una lista con las temperaturas récord actualizadas.\n",
        "* Puede haber múltiples temperaturas récord en una semana.\n",
        "* Si no se rompen récords, devuelve la lista de récords original.\n",
        "\n",
        "* **Ejemplo**\n",
        "\n",
        "```\n",
        "#             dom       lun      mar        mié      jue       vie       sáb\n",
        "record_temps([[34, 82], [24, 82], [20, 89],  [5, 88],  [9, 88], [26, 89], [27, 83]],\n",
        "            [[44, 72], [19, 70], [40, 69], [39, 68], [33, 64], [36, 70], [38, 69]])\n",
        "\n",
        "➞           [[34, 82], [19, 82], [20, 89], [5, 88], [9, 88], [26, 89], [27, 83]]\n",
        "```\n",
        "\n",
        "El récord mínimo anterior para el lunes era 24. La mínima de la semana actual para el lunes fue 19. Por lo tanto, 19 reemplaza a 24 como el nuevo récord mínimo del lunes.\n",
        "\n",
        "* **Notas**\n",
        "    - El índice 0 siempre será el mínimo y el índice 1 siempre será el máximo `[mínimo, máximo]`.\n",
        "    - Como referencia, estas temperaturas están en °F, pero no necesitas convertir ninguna temperatura."
      ],
      "metadata": {
        "id": "M3Dg-qw6MKe2"
      }
    },
    {
      "cell_type": "code",
      "source": [
        "# Método 1\n",
        "def record_temps(records, current_week):\n",
        "    # Iteramos sobre los días de la semana (0-6)\n",
        "    for i in range(7):\n",
        "        # Comparamos la temperatura mínima actual con el récord mínimo\n",
        "        if current_week[i][0] < records[i][0]:\n",
        "            records[i][0] = current_week[i][0]\n",
        "\n",
        "        # Comparamos la temperatura máxima actual con el récord máximo\n",
        "        if current_week[i][1] > records[i][1]:\n",
        "            records[i][1] = current_week[i][1]\n",
        "\n",
        "    return records\n",
        "\n",
        "# Método 2. Usando min y max.\n",
        "def record_temps(records, current_week):\n",
        "    new_records = []\n",
        "    for i in range(len(records)):\n",
        "        new_min = min(records[i][0], current_week[i][0])\n",
        "        new_max = max(records[i][1], current_week[i][1])\n",
        "        new_records.append([new_min, new_max])\n",
        "    return new_records\n",
        "\n",
        "# Método 3. No es necesario crear una nueva lista para los nuevos records\n",
        "def record_temps(records, current_week):\n",
        "    for i in range(len(records)):\n",
        "        records[i][0] = min(records[i][0], current_week[i][0])\n",
        "        records[i][1] = max(records[i][1], current_week[i][1])\n",
        "    return records\n",
        "\n",
        "# Método 4. Usando zip\n",
        "def record_temps(records, current_week):\n",
        "    return [\n",
        "        [min(r[0], c[0]), max(r[1], c[1])]\n",
        "        for r, c in zip(records, current_week)\n",
        "    ]\n",
        "\n",
        "# Método 5. Con un bucle for y operadores ternarios\n",
        "def record_temps(records, current_week):\n",
        "    for i in range(7):\n",
        "        records[i][0] = current_week[i][0] if current_week[i][0] < records[i][0] else records[i][0]\n",
        "        records[i][1] = current_week[i][1] if current_week[i][1] > records[i][1] else records[i][1]\n",
        "    return records"
      ],
      "metadata": {
        "id": "h-QbzJJ1MKe2"
      },
      "execution_count": null,
      "outputs": []
    },
    {
      "cell_type": "code",
      "source": [
        "# Caso de uso 1\n",
        "records = [[34, 82], [24, 82], [20, 89], [5, 88], [9, 88], [26, 89], [27, 83]]\n",
        "current_week = [[44, 72], [19, 70], [40, 69], [39, 68], [33, 64], [36, 70], [38, 69]]\n",
        "\n",
        "result = record_temps(records, current_week)\n",
        "print(result)   # [[34, 82], [19, 82], [20, 89], [5, 88], [9, 88], [26, 89], [27, 83]]\n",
        "\n",
        "\n",
        "# Caso de uso 2\n",
        "records = [[10, 78], [12, 80], [15, 82], [8, 79], [14, 81], [13, 75], [9, 76]]\n",
        "current_week = [[11, 79], [9, 83], [16, 80], [7, 82], [12, 84], [14, 73], [8, 77]]\n",
        "\n",
        "result = record_temps(records, current_week)\n",
        "print(result)   # [[10, 79], [9, 83], [15, 82], [7, 82], [12, 84], [13, 75], [8, 77]]"
      ],
      "metadata": {
        "id": "oXwQiGaaMKe2",
        "colab": {
          "base_uri": "https://localhost:8080/"
        },
        "outputId": "7c4ad2af-35cf-4476-b033-69c8d09d8b28"
      },
      "execution_count": null,
      "outputs": [
        {
          "output_type": "stream",
          "name": "stdout",
          "text": [
            "[[34, 82], [19, 82], [20, 89], [5, 88], [9, 88], [26, 89], [27, 83]]\n",
            "[[10, 79], [9, 83], [15, 82], [7, 82], [12, 84], [13, 75], [8, 77]]\n"
          ]
        }
      ]
    },
    {
      "cell_type": "markdown",
      "source": [
        "## Reto 597: Encuentra las Letras Compartidas entre Dos Cadenas\n",
        "* Find the Shared Letters between Two Strings\n",
        "* Dadas dos cadenas, devuelve una `cadena` que contenga solo las letras compartidas entre las dos.\n",
        "* **Ejemplos**\n",
        "\n",
        "```\n",
        "shared_letters(\"house\", \"home\") ➞ \"eho\"\n",
        "shared_letters(\"Micky\", \"mouse\") ➞ \"m\"\n",
        "shared_letters(\"house\", \"villa\") ➞ \"\"\n",
        "```\n",
        "\n",
        "* **Notas**\n",
        "    - Si ninguna de las letras es compartida, devuelve una cadena vacía.\n",
        "    - La función debe ser **insensible a mayúsculas y minúsculas**, por ejemplo, comparar `A` y `a` debe devolver `a`.\n",
        "    - Ordena la cadena resultante alfabéticamente antes de devolverla.\n"
      ],
      "metadata": {
        "id": "Eiezcer_MKlv"
      }
    },
    {
      "cell_type": "code",
      "source": [
        "# Método 1\n",
        "def shared_letters(a, b):\n",
        "    conjunto_a = set(a.lower())\n",
        "    conjunto_b = set(b.lower())\n",
        "    return ''.join(sorted(list(conjunto_a.intersection(conjunto_b))))\n",
        "\n",
        "# Método 2\n",
        "def shared_letters(a, b):\n",
        "    # Convertir ambas cadenas a minúsculas y crear conjuntos de caracteres\n",
        "    set_a = set(a.lower())\n",
        "    set_b = set(b.lower())\n",
        "\n",
        "    # Encontrar la intersección de los conjuntos\n",
        "    common_letters = set_a & set_b\n",
        "\n",
        "    # Convertir el conjunto resultante a una lista, ordenarla y unirla en una cadena\n",
        "    return ''.join(sorted(common_letters))\n",
        "\n",
        "# Método 3\n",
        "def shared_letters(a, b):\n",
        "    return ''.join(sorted(set(a.lower()) & set(b.lower())))\n",
        "\n",
        "# Método 4\n",
        "def shared_letters(a, b):\n",
        "    # Convertir ambas cadenas a minúsculas\n",
        "    a, b = a.lower(), b.lower()\n",
        "\n",
        "    # Usar comprensión de listas para encontrar letras comunes\n",
        "    common = [char for char in set(a) if char in b]\n",
        "\n",
        "    # Ordenar y unir las letras comunes\n",
        "    return ''.join(sorted(common))\n",
        "\n",
        "# Método 5\n",
        "def shared_letters(a, b):\n",
        "    # Convertir ambas cadenas a minúsculas\n",
        "    a, b = a.lower(), b.lower()\n",
        "\n",
        "    # Usar comprensión de lista para encontrar letras compartidas\n",
        "    shared = [w for w in set(a) if w in b]\n",
        "\n",
        "    # Ordenar y unir las letras compartidas\n",
        "    return ''.join(sorted(shared))\n"
      ],
      "metadata": {
        "id": "3AhSpAG-MKlv"
      },
      "execution_count": null,
      "outputs": []
    },
    {
      "cell_type": "code",
      "source": [
        "print(shared_letters(\"house\", \"home\"))          # eho\n",
        "print(shared_letters(\"Micky\", \"mouse\"))         # m\n",
        "print(shared_letters(\"house\", \"villa\"))         # \"\"\n",
        "print(shared_letters(\"Python\", \"JavaScript\"))   # pt\n",
        "print(shared_letters(\"Algoritmo\", \"Logaritmo\")) # agilmort"
      ],
      "metadata": {
        "id": "aBWYbZrZMKlv",
        "colab": {
          "base_uri": "https://localhost:8080/"
        },
        "outputId": "469d306c-23e1-4563-fa94-2d783c21626b"
      },
      "execution_count": null,
      "outputs": [
        {
          "output_type": "stream",
          "name": "stdout",
          "text": [
            "eho\n",
            "m\n",
            "\n",
            "pt\n",
            "agilmort\n"
          ]
        }
      ]
    },
    {
      "cell_type": "markdown",
      "source": [
        "## Reto 598: Encontrando Elementos Comunes\n",
        "* Finding Common Elements\n",
        "* Crea una función que tome dos listas de números ordenadas de forma ascendente y devuelva una lista de números que sean comunes a ambas listas de entrada.\n",
        "\n",
        "* **Ejemplos**\n",
        "\n",
        "```\n",
        "common_elements([-1, 3, 4, 6, 7, 9], [1, 3]) ➞ [3]\n",
        "common_elements([1, 3, 4, 6, 7, 9], [1, 2, 3, 4, 7, 10]) ➞ [1, 3, 4, 7]\n",
        "common_elements([1, 2, 2, 2, 3, 4, 5], [1, 2, 4, 5]) ➞ [1, 2, 4, 5]\n",
        "common_elements([1, 2, 3, 4, 5], [10, 12, 13, 15]) ➞ []\n",
        "```\n",
        "\n",
        "* **Notas**\n",
        "    - Las listas están ordenadas.\n",
        "    - Intenta resolver este problema con una complejidad temporal de O(n + m)."
      ],
      "metadata": {
        "id": "bkTxYt81MKsy"
      }
    },
    {
      "cell_type": "code",
      "source": [
        "# Método 1. Al usar un for y al usar un in la complejidad temporal es O(n * m)\n",
        "def common_elements(lst1, lst2):\n",
        "    return [item for item in set(lst1) if item in lst2]\n",
        "\n",
        "# Método 2. Complejidad O(n + m)\n",
        "def common_elements(lst1, lst2):\n",
        "    result = []\n",
        "    i, j = 0, 0\n",
        "\n",
        "    while i < len(lst1) and j < len(lst2):\n",
        "        if lst1[i] == lst2[j]:\n",
        "            # Si los elementos son iguales, añadimos a la lista resultado\n",
        "            if not result or result[-1] != lst1[i]:  # Evitamos duplicados\n",
        "                result.append(lst1[i])\n",
        "            i += 1\n",
        "            j += 1\n",
        "        elif lst1[i] < lst2[j]:\n",
        "            i += 1\n",
        "        else:\n",
        "            j += 1\n",
        "\n",
        "    return result\n",
        "\n",
        "# Método 3. Complejidad O(n + m + k log k)\n",
        "def common_elements(list1, list2):\n",
        "    # Convertir las listas en conjuntos y luego encontrar la intersección\n",
        "    common_set = set(list1) & set(list2)\n",
        "    # Convertir el conjunto resultante en una lista ordenada\n",
        "    return sorted(common_set)"
      ],
      "metadata": {
        "id": "tA22AXAFMKsy"
      },
      "execution_count": null,
      "outputs": []
    },
    {
      "cell_type": "code",
      "source": [
        "print(common_elements([-1, 3, 4, 6, 7, 9], [1, 3]))             # [3]\n",
        "print(common_elements([1, 3, 4, 6, 7, 9], [1, 2, 3, 4, 7, 10])) # [1, 3, 4, 7]\n",
        "print(common_elements([1, 2, 2, 2, 3, 4, 5], [1, 2, 4, 5]))     # [1, 2, 4, 5]\n",
        "print(common_elements([1, 2, 3, 4, 5], [10, 12, 13, 15]))       # []\n",
        "print(common_elements([-9223372036854775808, 1, 2, 4, 6, 7, 9, 9223372036854775807], [1, 3, 9223372036854775807]))  # [[1, 9223372036854775807]"
      ],
      "metadata": {
        "id": "UVGu2kGHMKsy",
        "colab": {
          "base_uri": "https://localhost:8080/"
        },
        "outputId": "6eafdc35-2e03-4235-acab-25da58288b92"
      },
      "execution_count": null,
      "outputs": [
        {
          "output_type": "stream",
          "name": "stdout",
          "text": [
            "[3]\n",
            "[1, 3, 4, 7]\n",
            "[1, 2, 4, 5]\n",
            "[]\n",
            "[1, 9223372036854775807]\n"
          ]
        }
      ]
    },
    {
      "cell_type": "markdown",
      "source": [
        "## Reto 599: Piedra, Papel, Tijeras\n",
        "* Rock, Paper, Scissors\n",
        "* Crea una función que tome dos cadenas (`p1` y `p2` ⁠— que representan al jugador 1 y 2) como argumentos y devuelva una cadena indicando el ganador en un juego de *Piedra, Papel, Tijeras*.\n",
        "* Cada argumento contendrá una sola cadena: `\"Rock\"`, `\"Paper\"`, o `\"Scissors\"`. Devuelve el ganador según las siguientes reglas:\n",
        "1. **Piedra** vence a **Tijeras**\n",
        "2. **Tijeras** vence a **Papel**\n",
        "3. **Papel** vence a **Piedra**\n",
        "Si `p1` gana, devuelve la cadena `\"The winner is p1\"`. Si `p2` gana, devuelve la cadena `\"The winner is p2\"` y si `p1` y `p2` son iguales, devuelve `\"It's a draw\"`.\n",
        "* **Ejemplos**\n",
        "\n",
        "```\n",
        "rps(\"Rock\", \"Paper\") ➞ \"The winner is p2\"\n",
        "rps(\"Scissors\", \"Paper\") ➞ \"The winner is p1\"\n",
        "rps(\"Paper\", \"Paper\") ➞ \"It's a draw\"\n",
        "```\n",
        "\n",
        "* **Notas**\n",
        "    - Todas las entradas serán cadenas válidas."
      ],
      "metadata": {
        "id": "vVMdctYWMK0i"
      }
    },
    {
      "cell_type": "code",
      "source": [
        "# Método 1\n",
        "def rps(p1, p2):\n",
        "    if p1 == p2:\n",
        "        return \"It's a draw\"\n",
        "\n",
        "    wins = {\n",
        "        \"Rock\": \"Scissors\",\n",
        "        \"Scissors\": \"Paper\",\n",
        "        \"Paper\": \"Rock\"\n",
        "    }\n",
        "\n",
        "    if wins[p1] == p2:\n",
        "        return \"The winner is p1\"\n",
        "    else:\n",
        "        return \"The winner is p2\"\n",
        "\n",
        "# Método 2\n",
        "def rps(p1, p2):\n",
        "    if p1 == p2:\n",
        "        return \"It's a draw\"\n",
        "\n",
        "    gana = ['Rock', 'Paper', 'Scissors']\n",
        "    pierde = ['Scissors', 'Rock', 'Paper']\n",
        "\n",
        "    for x, y in zip(gana, pierde):\n",
        "        if p1 == x and p2 == y:\n",
        "            return \"The winner is p1\"\n",
        "        elif p2 == x and p1 == y:\n",
        "            return \"The winner is p2\"\n",
        "\n",
        "# Método 3. Utiliza un conjunto para las combinaciones ganadoras\n",
        "def rps(p1, p2):\n",
        "    wins = {('Rock', 'Scissors'), ('Paper', 'Rock'), ('Scissors', 'Paper')} # set\n",
        "    if p1 == p2:\n",
        "        return \"It's a draw\"\n",
        "    return f\"The winner is {'p1' if (p1, p2) in wins else 'p2'}\""
      ],
      "metadata": {
        "id": "NsbwxY5KMK0i"
      },
      "execution_count": null,
      "outputs": []
    },
    {
      "cell_type": "code",
      "source": [
        "print(rps(\"Paper\", \"Paper\"))        # It's a draw\n",
        "print(rps(\"Paper\", \"Rock\"))         # The winner is p1\n",
        "print(rps(\"Paper\", \"Scissors\"))     # The winner is p2\n",
        "print()\n",
        "print(rps(\"Rock\", \"Rock\"))          # It's a draw\n",
        "print(rps(\"Rock\", \"Scissors\"))      # The winner is p1\n",
        "print(rps(\"Rock\", \"Paper\" ))        # The winner is p2\n",
        "print()\n",
        "print(rps(\"Scissors\", \"Scissors\"))  # It's a draw\n",
        "print(rps(\"Scissors\", \"Paper\"))     # The winner is p1\n",
        "print(rps(\"Scissors\", \"Rock\"))      # The winner is p2"
      ],
      "metadata": {
        "id": "-3OWKd6mMK0i",
        "colab": {
          "base_uri": "https://localhost:8080/"
        },
        "outputId": "04ae547c-ad2e-4a9f-b8ec-a5acaf556a06"
      },
      "execution_count": null,
      "outputs": [
        {
          "output_type": "stream",
          "name": "stdout",
          "text": [
            "It's a draw\n",
            "The winner is p1\n",
            "The winner is p2\n",
            "\n",
            "It's a draw\n",
            "The winner is p1\n",
            "The winner is p2\n",
            "\n",
            "It's a draw\n",
            "The winner is p1\n",
            "The winner is p2\n"
          ]
        }
      ]
    },
    {
      "cell_type": "markdown",
      "source": [
        "## Reto 600: Letters Only"
      ],
      "metadata": {
        "id": "z6Jwjp2UMK7L"
      }
    },
    {
      "cell_type": "code",
      "source": [
        "# Método 1\n",
        "def :\n",
        "    pass"
      ],
      "metadata": {
        "id": "6vtarPksMK7L"
      },
      "execution_count": null,
      "outputs": []
    },
    {
      "cell_type": "code",
      "source": [
        "print()\n",
        "print()\n",
        "print()\n",
        "print()"
      ],
      "metadata": {
        "id": "jk_KKqnbMK7L"
      },
      "execution_count": null,
      "outputs": []
    }
  ]
}