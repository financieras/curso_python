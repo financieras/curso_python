{
  "nbformat": 4,
  "nbformat_minor": 0,
  "metadata": {
    "colab": {
      "provenance": [],
      "authorship_tag": "ABX9TyM5kqPdSKvjZR5p4Blsn2us",
      "include_colab_link": true
    },
    "kernelspec": {
      "name": "python3",
      "display_name": "Python 3"
    },
    "language_info": {
      "name": "python"
    }
  },
  "cells": [
    {
      "cell_type": "markdown",
      "metadata": {
        "id": "view-in-github",
        "colab_type": "text"
      },
      "source": [
        "<a href=\"https://colab.research.google.com/github/financieras/curso_python/blob/main/niveles/nivel06.ipynb\" target=\"_parent\"><img src=\"https://colab.research.google.com/assets/colab-badge.svg\" alt=\"Open In Colab\"/></a>"
      ]
    },
    {
      "cell_type": "markdown",
      "source": [
        "## Reto 501: Enfatizar las Palabras\n",
        "* Emphasise the Words\n",
        "* El desafío es recrear la funcionalidad del método `title()` en una función llamada `emphasise()`.\n",
        "* El método `title()` capitaliza la primera letra de *cada palabra* y convierte a minúsculas todas las demás letras de la palabra.\n",
        "* Ejemplos\n",
        "\n",
        "```\n",
        "emphasise(\"hello world\") ➞ \"Hello World\"\n",
        "emphasise(\"GOOD MORNING\") ➞ \"Good Morning\"\n",
        "emphasise(\"99 red balloons!\") ➞ \"99 Red Balloons!\"\n",
        "```\n",
        "\n",
        "* Notas\n",
        "    - No tendrás problemas al tratar con números en las cadenas.\n",
        "    - Por favor, no uses directamente el método `title()` :("
      ],
      "metadata": {
        "id": "IdwmiHhpglrt"
      }
    },
    {
      "cell_type": "code",
      "source": [
        "# Método 1\n",
        "def emphasise(string):\n",
        "    return ' '.join(word.capitalize() for word in string.split())\n",
        "\n",
        "# Método 2\n",
        "def emphasise(string):\n",
        "    return ' '.join(word[0].upper() + word[1:].lower() for word in string.split())\n",
        "\n",
        "# Método 3. Usando una expresión regular\n",
        "import re\n",
        "\n",
        "def emphasise(string):\n",
        "    return re.sub(r'\\b\\w+\\b', lambda match: match.group(0).capitalize(), string)"
      ],
      "metadata": {
        "id": "CaebWUsKffq2"
      },
      "execution_count": null,
      "outputs": []
    },
    {
      "cell_type": "code",
      "source": [
        "print(emphasise(\"hello world\"))         # Hello World\n",
        "print(emphasise(\"GOOD MORNING\"))        # Good Morning\n",
        "print(emphasise(\"99 red balloons!\"))    # 99 Red Balloons!"
      ],
      "metadata": {
        "outputId": "d8928274-4264-465b-ad82-9d7f0ce002c9",
        "colab": {
          "base_uri": "https://localhost:8080/"
        },
        "id": "hWbDZ9H9glrv"
      },
      "execution_count": null,
      "outputs": [
        {
          "output_type": "stream",
          "name": "stdout",
          "text": [
            "Hello World\n",
            "Good Morning\n",
            "99 Red Balloons!\n"
          ]
        }
      ]
    },
    {
      "cell_type": "markdown",
      "source": [
        "## Reto 502: Camino del Robot 🤖\n",
        "* Robot Path 🤖\n",
        "* Tenemos un robot simple que se navega mediante una serie de comandos Norte, Este, Sur y Oeste `[n, e, s, w]`.\n",
        "* Cada comando mueve al robot un paso en la dirección dada.\n",
        "* El robot está diseñado para solo dos destinos:\n",
        "    1. Destino No. 1: e, n, e, e, n\n",
        "    2. Destino No. 2: w, n, w, n, w, w, n\n",
        "\n",
        "* Crea una función que tome una lista de `comandos` y devuelva `True` si el robot llega a cualquiera de los destinos, `False` en caso contrario.\n",
        "\n",
        "* Ejemplos:\n",
        "\n",
        "```\n",
        "camino_robot([\"s\", \"e\", \"e\", \"n\", \"n\", \"e\", \"n\"]) ➞ True\n",
        "    - El robot terminará en el destino no. 1\n",
        "\n",
        "camino_robot([\"n\", \"e\", \"s\", \"w\", \"n\", \"e\", \"s\", \"w\", \"w\", \"s\", \"n\", \"e\"]) ➞ False\n",
        "    - El robot se perderá en algún lugar\n",
        "\n",
        "camino_robot([\"n\", \"s\", \"n\", \"n\", \"e\", \"n\", \"w\", \"w\", \"s\", \"w\", \"w\", \"w\", \"n\"]) ➞ True\n",
        "    - - El robot terminará en el destino no. 2\n",
        "```"
      ],
      "metadata": {
        "id": "E4jfdGPCglrv"
      }
    },
    {
      "cell_type": "code",
      "source": [
        "# Método 1\n",
        "def camino_robot(comandos):\n",
        "    # Definimos los puntos finales de los destinos\n",
        "    destino1 = (3, 2)  # e, n, e, e, n\n",
        "    destino2 = (-4, 3)  # w, n, w, n, w, w, n\n",
        "\n",
        "    # Inicializamos la posición del robot\n",
        "    x, y = 0, 0\n",
        "\n",
        "    # Procesamos cada comando\n",
        "    for comando in comandos:\n",
        "        if comando == \"n\":\n",
        "            y += 1\n",
        "        elif comando == \"s\":\n",
        "            y -= 1\n",
        "        elif comando == \"e\":\n",
        "            x += 1\n",
        "        elif comando == \"w\":\n",
        "            x -= 1\n",
        "\n",
        "        # Verificamos si el robot ha llegado a alguno de los destinos finales\n",
        "        if (x, y) == destino1 or (x, y) == destino2:\n",
        "            return True\n",
        "\n",
        "    # Si el robot no llegó a ningún destino final, devolvemos False\n",
        "    return False\n",
        "\n",
        "# Método 2. Usando dos funciones\n",
        "def obtener_destino(comandos):  # función auxiliar\n",
        "    x, y = 0, 0\n",
        "    for comando in comandos:\n",
        "        if comando == \"n\":\n",
        "            y += 1\n",
        "        elif comando == \"s\":\n",
        "            y -= 1\n",
        "        elif comando == \"e\":\n",
        "            x += 1\n",
        "        elif comando == \"w\":\n",
        "            x -= 1\n",
        "    return (x, y)               # Da la posición incluso de los destinos 1 y 2\n",
        "\n",
        "def camino_robot(comandos):\n",
        "    # Definimos los comandos para los destinos\n",
        "    destino1 = [\"e\", \"n\", \"e\", \"e\", \"n\"]\n",
        "    destino2 = [\"w\", \"n\", \"w\", \"n\", \"w\", \"w\", \"n\"]\n",
        "\n",
        "    # Obtenemos los destinos finales\n",
        "    posicion_destino1 = obtener_destino(destino1)   # llamamos a la función aux.\n",
        "    posicion_destino2 = obtener_destino(destino2)   # llamamos a la función aux.\n",
        "\n",
        "    # Obtenemos el destino final de los comandos dados\n",
        "    posicion_comandos = obtener_destino(comandos)   # llamamos a la función aux.\n",
        "\n",
        "    # Comparamos si el destino final de los comandos coincide con alguno de los destinos\n",
        "    return posicion_comandos == posicion_destino1 or posicion_comandos == posicion_destino2\n",
        "\n",
        "# Método 3. Una solución más condensada\n",
        "def camino_robot(comandos):\n",
        "    def destino(ruta):\n",
        "        return sum((1 if c == 'e' else -1 if c == 'w' else 0 for c in ruta)), \\\n",
        "               sum((1 if c == 'n' else -1 if c == 's' else 0 for c in ruta))\n",
        "\n",
        "    destinos = [destino(\"eneen\"), destino(\"wnwnwwn\")]\n",
        "    return destino(comandos) in destinos\n",
        "\n",
        "# Método 4. Con una función axiliar lambda que calcula la posición final\n",
        "def camino_robot(path):\n",
        "    destino = lambda ruta: (ruta.count('e') - ruta.count('w'), ruta.count('n') - ruta.count('s'))\n",
        "    return destino(path) in [destino(\"eneen\"), destino(\"wnwnwwn\")]"
      ],
      "metadata": {
        "id": "M2N7YVuIfY1q"
      },
      "execution_count": null,
      "outputs": []
    },
    {
      "cell_type": "code",
      "source": [
        "print(camino_robot([\"s\", \"e\", \"e\", \"n\", \"n\", \"e\", \"n\"]))                                # True\n",
        "print(camino_robot([\"n\", \"e\", \"s\", \"w\", \"n\", \"e\", \"s\", \"w\", \"w\", \"s\", \"n\", \"e\"]))       # False\n",
        "print(camino_robot([\"n\", \"s\", \"n\", \"n\", \"e\", \"n\", \"w\", \"w\", \"s\", \"w\", \"w\", \"w\", \"n\"]))  # True"
      ],
      "metadata": {
        "colab": {
          "base_uri": "https://localhost:8080/"
        },
        "outputId": "b1d0a32e-b7e7-4295-ba82-169e9b7537e2",
        "id": "CRPja6c4glrv"
      },
      "execution_count": null,
      "outputs": [
        {
          "output_type": "stream",
          "name": "stdout",
          "text": [
            "True\n",
            "False\n",
            "True\n"
          ]
        }
      ]
    },
    {
      "cell_type": "markdown",
      "source": [
        "## Reto 503: Mucho, mucho tiempo\n",
        "* A Long Long Time\n",
        "* Crea una función que tome tres valores:\n",
        "    1. `h` horas\n",
        "    2. `m` minutos\n",
        "    3. `s` segundos\n",
        "Devuelve el valor que tenga la **duración más larga**.\n",
        "* Ejemplos:\n",
        "\n",
        "```\n",
        "longest_time(1, 59, 3598) ➞ 1\n",
        "longest_time(2, 300, 15000) ➞ 300\n",
        "longest_time(15, 955, 59400) ➞ 59400\n",
        "```\n",
        "\n",
        "* Notas:\n",
        "    - No habrá dos duraciones iguales."
      ],
      "metadata": {
        "id": "TyyfNCnzglrv"
      }
    },
    {
      "cell_type": "code",
      "source": [
        "# Método 1\n",
        "def longest_time(h, m, s):\n",
        "    if h*3600 > m*60 and h*3600 > s:\n",
        "        return h\n",
        "    elif m*60 > h*3600 and m*60 > s:\n",
        "        return m\n",
        "    elif s > h*3600 and s > m*60:\n",
        "        return s\n",
        "    else:\n",
        "        return \"Caso no previsto\"\n",
        "\n",
        "# Método 2\n",
        "def longest_time(h, m, s):\n",
        "    # Lista de duraciones en segundos y sus valores originales\n",
        "    durations = [(h * 3600, h), (m * 60, m), (s, s)]\n",
        "    # Devolver el valor original de la mayor duración en segundos\n",
        "    return max(durations)[1]\n",
        "    # el máximo de una lista de tuplas es el que tiene el mayor valor del primer elemento de las tuplas\n",
        "    # en caso de empatar en el primer elemento de las tuplas se desempata por el segundo y así sucesivamente"
      ],
      "metadata": {
        "id": "3L69P8OqyFzv"
      },
      "execution_count": null,
      "outputs": []
    },
    {
      "cell_type": "code",
      "source": [
        "print(longest_time(1, 59, 3598))\n",
        "print(longest_time(2, 300, 15000))\n",
        "print(longest_time(15, 955, 59400))"
      ],
      "metadata": {
        "colab": {
          "base_uri": "https://localhost:8080/"
        },
        "outputId": "10d8fa71-c98d-4f88-e3a5-8edbd639296f",
        "id": "plvIvb2qglrw"
      },
      "execution_count": null,
      "outputs": [
        {
          "output_type": "stream",
          "name": "stdout",
          "text": [
            "1\n",
            "300\n",
            "59400\n"
          ]
        }
      ]
    },
    {
      "cell_type": "markdown",
      "source": [
        "## Reto 504: Multiplicador de Lista\n",
        "* List Multiplier\n",
        "* Crea una función que tome una lista como argumento y devuelva una nueva lista anidada para cada elemento en la lista original.\n",
        "* La lista anidada debe estar llena con el elemento correspondiente (cadena o número) en la lista original y cada lista anidada tiene la misma cantidad de elementos que la lista original.\n",
        "* Ejemplos:\n",
        "```\n",
        "multiply([4, 5]) ➞ [[4, 4], [5, 5]]\n",
        "multiply([\"*\", \"%\", \"$\"]) ➞ [[\"*\", \"*\", \"*\"], [\"%\", \"%\", \"%\"], [\"$\", \"$\", \"$\"]]\n",
        "multiply([9, 8, 7, 6]) ➞ [[9, 9, 9, 9], [8, 8, 8, 8], [7, 7, 7, 7], [6, 6, 6, 6]]\n",
        "```\n",
        "* Nota:\n",
        "    - La lista dada contiene números o cadenas."
      ],
      "metadata": {
        "id": "nxs9UpUxJOIh"
      }
    },
    {
      "cell_type": "code",
      "source": [
        "def multiply(lista):\n",
        "    return [[e] * len(lista) for e in lista]"
      ],
      "metadata": {
        "id": "d3qkcCz0JOIh"
      },
      "execution_count": null,
      "outputs": []
    },
    {
      "cell_type": "code",
      "source": [
        "print(multiply([4, 5]))\n",
        "print(multiply([\"*\", \"%\", \"$\"]))\n",
        "print(multiply([9, 8, 7, 6]))"
      ],
      "metadata": {
        "id": "9V925k8DJOIh",
        "colab": {
          "base_uri": "https://localhost:8080/"
        },
        "outputId": "e225d2a9-c97d-4400-cc4d-06d2e2be5543"
      },
      "execution_count": null,
      "outputs": [
        {
          "output_type": "stream",
          "name": "stdout",
          "text": [
            "[[4, 4], [5, 5]]\n",
            "[['*', '*', '*'], ['%', '%', '%'], ['$', '$', '$']]\n",
            "[[9, 9, 9, 9], [8, 8, 8, 8], [7, 7, 7, 7], [6, 6, 6, 6]]\n"
          ]
        }
      ]
    },
    {
      "cell_type": "markdown",
      "source": [
        "## Reto 505: Contando Instancias Creadas a partir de una Clase\n",
        "* Counting Instances Created from a Class\n",
        "* Escribe una clase `Compositor` que tenga tres variables de instancia:\n",
        "    1. nombre\n",
        "    2. fecha_nacimiento\n",
        "    3. país\n",
        "\n",
        "* Añade una variable de clase adicional `.contador` que cuente el número total de instancias creadas.\n",
        "* Ejemplos:\n",
        "```\n",
        "    - Justo después de escribir la clase Compositor\n",
        "Compositor.contador ➞ 0\n",
        "c1 = Compositor(\"Ludwig van Beethoven\", 1770, \"Alemania\")\n",
        "Compositor.contador ➞ 1\n",
        "c2 = Compositor(\"Wolfgang Amadeus Mozart\", 1756, \"Austria\")\n",
        "c3 = Compositor(\"Johannes Brahms\", 1833, \"Alemania\")\n",
        "Compositor.contador ➞ 3\n",
        "```\n"
      ],
      "metadata": {
        "id": "BCiJB5lAJOPj"
      }
    },
    {
      "cell_type": "code",
      "source": [
        "class Compositor:\n",
        "    contador = 0    # Atributo de clase\n",
        "\n",
        "    def __init__(self, nombre, fecha_nacimiento, pais):\n",
        "        self.nombre = nombre                        # Atributo de instancia\n",
        "        self.fecha_nacimiento = fecha_nacimiento    # Atributo de instancia\n",
        "        self.pais = pais                            # Atributo de instancia\n",
        "        Compositor.contador += 1"
      ],
      "metadata": {
        "id": "i2bofIVIJOPj"
      },
      "execution_count": null,
      "outputs": []
    },
    {
      "cell_type": "code",
      "source": [
        "# Justo después de definir la clase Compositor\n",
        "print(Compositor.contador)  # 0\n",
        "\n",
        "c1 = Compositor(\"Ludwig van Beethoven\", 1770, \"Alemania\")\n",
        "print(Compositor.contador)  # 1\n",
        "\n",
        "c2 = Compositor(\"Wolfgang Amadeus Mozart\", 1756, \"Austria\")\n",
        "c3 = Compositor(\"Johannes Brahms\", 1833, \"Alemania\")\n",
        "print(Compositor.contador)  # 3"
      ],
      "metadata": {
        "id": "HZMXrQn6JOPj",
        "colab": {
          "base_uri": "https://localhost:8080/"
        },
        "outputId": "a7926c8a-32de-4b24-ce79-88c1b7984d97"
      },
      "execution_count": null,
      "outputs": [
        {
          "output_type": "stream",
          "name": "stdout",
          "text": [
            "0\n",
            "1\n",
            "3\n"
          ]
        }
      ]
    },
    {
      "cell_type": "markdown",
      "source": [
        "### Comentario sobre atributos de clase y atributos de instancia\n",
        "* La variable contador es un atributo de clase.\n",
        "* Diferencias entre atributos de clase y atributos de instancia:\n",
        "\n",
        "* Atributos de clase:\n",
        "    1. Se definen dentro de la clase pero fuera de cualquier método.\n",
        "    2. on compartidos por todas las instancias de la clase.\n",
        "    3. Se pueden acceder usando el nombre de la clase o cualquier instancia de la clase.\n",
        "    4. Se utilizan para datos que deben ser compartidos entre todas las instancias.\n",
        "* Atributos de instancia:\n",
        "    1. Se definen dentro de los métodos de la clase, típicamente en el método __init__.\n",
        "    2. Son únicos para cada instancia de la clase.\n",
        "    3. Solo se pueden acceder a través de una instancia específica de la clase.\n",
        "    4. Se utilizan para datos que son específicos de cada instancia individual.\n",
        "\n",
        "* `contador` es un atributo de clase porque es compartido por todas las instancias y se accede como `Compositor.contador`.\n",
        "* `nombre`, `fecha_nacimiento`, y `pais` son atributos de instancia porque cada instancia de Compositor tiene sus propios valores únicos para estos atributos.\n",
        "\n",
        "* Algunas diferencias clave:\n",
        "\n",
        "    1. Memoria: Los atributos de clase ocupan un solo espacio en memoria, mientras que cada instancia tiene su propia copia de los atributos de instancia.\n",
        "    2. Modificación: Cambiar un atributo de clase afecta a todas las instancias, mientras que cambiar un atributo de instancia solo afecta a esa instancia específica.\n",
        "    3. Acceso: Los atributos de clase se pueden acceder sin crear una instancia, mientras que los atributos de instancia requieren una instancia de la clase.\n",
        "    4. Uso: Los atributos de clase son útiles para constantes de clase o para llevar un registro compartido (como nuestro `contador`), mientras que los atributos de instancia son para datos específicos de cada objeto."
      ],
      "metadata": {
        "id": "cDL10piI0Lfu"
      }
    },
    {
      "cell_type": "markdown",
      "source": [
        "## Reto 506: División Válida\n",
        "* Valid Division\n",
        "* Crea una función que tome una ecuación de división `d` y verifique si devolverá un número entero sin decimales después de dividir.\n",
        "* Ejemplos:\n",
        "```\n",
        "valid_division(\"6/3\")        ➞ True\n",
        "valid_division(\"1.5/0.5\")    ➞ True\n",
        "valid_division(\"0/3\")        ➞ True\n",
        "valid_division(\"3/0\")        ➞ Invalid\n",
        "valid_division(\"30/25\")      ➞ False\n",
        "valid_division(\"a/b\")        ➞ Caso no contemplado\n",
        "```\n",
        "* Nota:\n",
        "    - Devuelve `\"Invalid\"` si hay división por cero."
      ],
      "metadata": {
        "id": "zUp9tcI5JOWV"
      }
    },
    {
      "cell_type": "code",
      "source": [
        "# Método 1\n",
        "def valid_division(d):\n",
        "    try:\n",
        "        lista = d.split(\"/\")\n",
        "        if len(lista) != 2:\n",
        "            return \"Caso no contemplado\"\n",
        "\n",
        "        p = float(lista[0])  # numerador\n",
        "        q = float(lista[1])  # denominador\n",
        "\n",
        "        if q == 0:\n",
        "            return \"Invalid\"\n",
        "\n",
        "        if p / q == int(p / q):\n",
        "            return True\n",
        "        else:\n",
        "            return False\n",
        "    except ValueError:\n",
        "        return \"Caso no contemplado\"\n",
        "\n",
        "# Método 2\n",
        "def valid_division(d):\n",
        "    try:\n",
        "        # Separar el numerador y denominador\n",
        "        numerador, denominador = map(float, d.split('/'))\n",
        "\n",
        "        # Verificar división por cero\n",
        "        if denominador == 0:\n",
        "            return \"Invalid\"\n",
        "\n",
        "        # Realizar la división\n",
        "        resultado = numerador / denominador\n",
        "\n",
        "        # Verificar si el resultado es efectivamente un número entero\n",
        "        return resultado.is_integer()\n",
        "\n",
        "    except ValueError:\n",
        "        # En caso de entrada inválida\n",
        "        return \"Caso no contemplado\"\n",
        "\n",
        "# Método 3\n",
        "def valid_division(d):\n",
        "    try:\n",
        "        num, den = map(float, d.split('/'))\n",
        "        if den == 0:\n",
        "            return \"Invalid\"\n",
        "        result = num / den\n",
        "        return result.is_integer()\n",
        "    except ValueError:\n",
        "        return \"Caso no contemplado\"\n",
        "\n",
        "# Método 4\n",
        "def valid_division(d):\n",
        "    try:\n",
        "        result = eval(d)\n",
        "        return result.is_integer()\n",
        "    except ZeroDivisionError:\n",
        "        return \"Invalid\"\n",
        "    except (ValueError, NameError, SyntaxError):\n",
        "        return \"Caso no contemplado\"\n"
      ],
      "metadata": {
        "id": "ajCazVdlJOWV"
      },
      "execution_count": null,
      "outputs": []
    },
    {
      "cell_type": "code",
      "source": [
        "print(valid_division(\"6/3\"))        # True\n",
        "print(valid_division(\"1.5/0.5\"))    # True\n",
        "print(valid_division(\"0/3\"))        # True\n",
        "print(valid_division(\"3/0\"))        # Invalid\n",
        "print(valid_division(\"30/25\"))      # False\n",
        "print(valid_division(\"a/b\"))        # Caso no contemplado"
      ],
      "metadata": {
        "id": "pf6VXg-6JOWV",
        "colab": {
          "base_uri": "https://localhost:8080/"
        },
        "outputId": "ff4f0d3f-16dd-46c3-f6b1-bf41d23acd93"
      },
      "execution_count": null,
      "outputs": [
        {
          "output_type": "stream",
          "name": "stdout",
          "text": [
            "True\n",
            "True\n",
            "True\n",
            "Invalid\n",
            "False\n",
            "Caso no contemplado\n"
          ]
        }
      ]
    },
    {
      "cell_type": "markdown",
      "source": [
        "## Reto 507: Lávese las manos\n",
        "* Wash Your Hands :)\n",
        "* Se necesitan 21 segundos para lavarse las manos.\n",
        "* Cree una función que tome la cantidad de veces que una persona se lava las manos por día `n` y la cantidad de meses que sigue esta rutina `m` y calcule el tiempo en minutos y segundos que esa persona pasa lavándose las manos.\n",
        "* Ejemplos:\n",
        "```\n",
        "wash_hands(8, 7) ➞ \"588 minutes and 0 seconds\"\n",
        "wash_hands(0, 0) ➞ \"0 minutes and 0 seconds\"\n",
        "wash_hands(7, 9) ➞ \"661 minutes and 30 seconds\"\n",
        "```\n",
        "* Nota:\n",
        "    - Considere que un mes tiene 30 días."
      ],
      "metadata": {
        "id": "oMtHyBHmJOdt"
      }
    },
    {
      "cell_type": "code",
      "source": [
        "# Método 1\n",
        "def wash_hands(n, m):\n",
        "    s = n*21*m*30   # segundos\n",
        "    return f\"{s // 60} minutes and {s % 60} seconds\"\n",
        "\n",
        "# Método 2\n",
        "def wash_hands(n, m):\n",
        "    total_seconds = n * 21 * m * 30\n",
        "    minutes, seconds = divmod(total_seconds, 60)\n",
        "    return f\"{minutes} minutes and {seconds} seconds\""
      ],
      "metadata": {
        "id": "G99sWim1JOdt"
      },
      "execution_count": null,
      "outputs": []
    },
    {
      "cell_type": "code",
      "source": [
        "print(wash_hands(8, 7))     # 588 minutes and 0 seconds\n",
        "print(wash_hands(0, 0))     # 0 minutes and 0 seconds\n",
        "print(wash_hands(7, 9))     # 661 minutes and 30 seconds"
      ],
      "metadata": {
        "id": "59MTFDAXJOdt",
        "colab": {
          "base_uri": "https://localhost:8080/"
        },
        "outputId": "60062754-f550-4a60-cf8f-152a413f8886"
      },
      "execution_count": null,
      "outputs": [
        {
          "output_type": "stream",
          "name": "stdout",
          "text": [
            "588 minutes and 0 seconds\n",
            "0 minutes and 0 seconds\n",
            "661 minutes and 30 seconds\n"
          ]
        }
      ]
    },
    {
      "cell_type": "markdown",
      "source": [
        "## Reto 508: Transcribir a ARNm\n",
        "* Transcribe to mRNA\n",
        "* Transcribe la hebra de ADN dada en el ARNm correspondiente - un tipo de ARN que se formará a partir de ella después de la transcripción.\n",
        "* El ADN tiene las bases A, T, G y C, mientras que el ARN se convierte en U, A, C y G respectivamente.\n",
        "* Ejemplos:\n",
        "```\n",
        "dna_to_rna(\"ATTAGCGCGATATACGCGTAC\") ➞ \"UAAUCGCGCUAUAUGCGCAUG\"\n",
        "dna_to_rna(\"CGATATA\") ➞ \"GCUAUAU\"\n",
        "dna_to_rna(\"GTCATACGACGTA\") ➞ \"CAGUAUGCUGCAU\"\n",
        "```\n",
        "* Notas:\n",
        "    - La transcripción es el proceso de hacer una hebra complementaria.\n",
        "    - A, T, G y C en el ADN se convierten en U, A, C y G respectivamente, cuando están en ARNm."
      ],
      "metadata": {
        "id": "qetlzAkIJOlC"
      }
    },
    {
      "cell_type": "code",
      "source": [
        "# Método 1\n",
        "def dna_to_rna(dna):\n",
        "    basesADN = \"ATGC\"\n",
        "    basesARN = \"UACG\"\n",
        "    listaADN = [e for e in basesADN]\n",
        "    listaARN = [e for e in basesARN]\n",
        "    result = \"\"\n",
        "    for letra in dna:\n",
        "        result += listaARN[listaADN.index(letra)]\n",
        "    return result\n",
        "\n",
        "# Método 2\n",
        "def dna_to_rna(dna):\n",
        "    transcription = {'A': 'U', 'T': 'A', 'G': 'C', 'C': 'G'}\n",
        "    return ''.join(transcription[nucleotide] for nucleotide in dna)\n",
        "\n",
        "# Método 3\n",
        "def dna_to_rna(dna):\n",
        "    return dna.translate(str.maketrans(\"ATGC\", \"UACG\"))\n",
        "\n",
        "# Método 4\n",
        "def dna_to_rna(dna):\n",
        "    return ''.join(dict(zip('ATGC', 'UACG'))[n] for n in dna)"
      ],
      "metadata": {
        "id": "SH3YyLc9JOlD"
      },
      "execution_count": null,
      "outputs": []
    },
    {
      "cell_type": "code",
      "source": [
        "print(dna_to_rna(\"ATTAGCGCGATATACGCGTAC\"))  # UAAUCGCGCUAUAUGCGCAUG\n",
        "print(dna_to_rna(\"CGATATA\"))                # GCUAUAU\n",
        "print(dna_to_rna(\"GTCATACGACGTA\"))          # CAGUAUGCUGCAU"
      ],
      "metadata": {
        "id": "co4VzDbPJOlD",
        "colab": {
          "base_uri": "https://localhost:8080/"
        },
        "outputId": "372f443a-6bb6-4e4b-eb2c-a0780c70c7da"
      },
      "execution_count": null,
      "outputs": [
        {
          "output_type": "stream",
          "name": "stdout",
          "text": [
            "UAAUCGCGCUAUAUGCGCAUG\n",
            "GCUAUAU\n",
            "CAGUAUGCUGCAU\n"
          ]
        }
      ]
    },
    {
      "cell_type": "markdown",
      "source": [
        "## Reto 509: Concatenar un Número Variable de Listas de Entrada\n",
        "* Concatenate Variable Number of Input Lists\n",
        "* Crea una función que concatene `n` listas de entrada, donde `n` es variable.\n",
        "* Ejemplos:\n",
        "```\n",
        "concat([1, 2, 3], [4, 5], [6, 7]) ➞ [1, 2, 3, 4, 5, 6, 7]\n",
        "concat([1], [2], [3], [4], [5], [6], [7]) ➞ [1, 2, 3, 4, 5, 6, 7]\n",
        "concat([1, 2], [3, 4]) ➞ [1, 2, 3, 4]\n",
        "concat([4, 4, 4, 4, 4]) ➞ [4, 4, 4, 4, 4]\n",
        "```\n",
        "* Nota:\n",
        "    - Las listas deben concatenarse en el orden de los argumentos."
      ],
      "metadata": {
        "id": "X9aSGCSiJOsc"
      }
    },
    {
      "cell_type": "code",
      "source": [
        "# Método 1\n",
        "def concat(*args):\n",
        "    result = []\n",
        "    for item in args:\n",
        "        result += item\n",
        "    return result\n",
        "\n",
        "# Método 2\n",
        "def concat(*args):\n",
        "    return [item for sublist in args for item in sublist]\n",
        "\n",
        "# Método 3\n",
        "def concat(*args):\n",
        "    result = []\n",
        "    for lst in args:\n",
        "        for item in lst:\n",
        "            result.append(item)\n",
        "    return result\n",
        "\n",
        "# Método 4\n",
        "def concat(*args):\n",
        "    return sum(args, [])\n",
        "\n",
        "# Método 5\n",
        "from itertools import chain\n",
        "\n",
        "def concat(*lists):\n",
        "    return list(chain(*lists))\n",
        "\n",
        "# Método 6\n",
        "def concat(*args):\n",
        "    result = []\n",
        "    for lst in args:\n",
        "        result.extend(lst)\n",
        "    return result"
      ],
      "metadata": {
        "id": "lc9N5sDrJOsc"
      },
      "execution_count": null,
      "outputs": []
    },
    {
      "cell_type": "code",
      "source": [
        "print(concat([1, 2, 3], [4, 5], [6, 7]))\n",
        "print(concat([1], [2], [3], [4], [5], [6], [7]))\n",
        "print(concat([1, 2], [3, 4]))\n",
        "print(concat([4, 4, 4, 4, 4]))"
      ],
      "metadata": {
        "id": "hs94gqG-JOsc",
        "colab": {
          "base_uri": "https://localhost:8080/"
        },
        "outputId": "080d8354-2abe-4659-a106-9e06efc38bcb"
      },
      "execution_count": null,
      "outputs": [
        {
          "output_type": "stream",
          "name": "stdout",
          "text": [
            "[1, 2, 3, 4, 5, 6, 7]\n",
            "[1, 2, 3, 4, 5, 6, 7]\n",
            "[1, 2, 3, 4]\n",
            "[4, 4, 4, 4, 4]\n"
          ]
        }
      ]
    },
    {
      "cell_type": "markdown",
      "source": [
        "## Reto 510: Estalactitas o Estalagmitas?\n",
        "* Stalactites or Stalagmites?\n",
        "* Las estalactitas cuelgan del techo de una cueva mientras que las estalagmitas crecen desde el suelo.\n",
        "* Crea una función que determine si la entrada representa \"estalactitas\" o \"estalagmitas\".\n",
        "* Si representa ambas, devuelve \"ambas\".\n",
        "* La entrada será una lista 2D, con 1 representando una pieza de roca y 0 representando espacio de aire.\n",
        "* Ejemplos:\n",
        "```python\n",
        "formacion_mineral([\n",
        "  [0, 1, 0, 1],\n",
        "  [0, 1, 0, 1],\n",
        "  [0, 0, 0, 1],\n",
        "  [0, 0, 0, 0]\n",
        "]) ➞ \"estalactitas\"\n",
        "```\n",
        "```python\n",
        "formacion_mineral([\n",
        "  [0, 0, 0, 0],\n",
        "  [0, 1, 0, 1],\n",
        "  [0, 1, 1, 1],\n",
        "  [0, 1, 1, 1]\n",
        "]) ➞ \"estalagmitas\"\n",
        "```\n",
        "```python\n",
        "formacion_mineral([\n",
        "  [1, 0, 1, 0],\n",
        "  [1, 1, 0, 1],\n",
        "  [0, 1, 1, 1],\n",
        "  [0, 1, 1, 1]\n",
        "]) ➞ \"ambas\"\n",
        "```\n",
        "* Notas:\n",
        "    - No habrá ejemplos donde tanto estalactitas como estalagmitas se encuentren (porque esos se llaman pilares).\n",
        "    - No habrá ningún ejemplo de ni estalactitas ni estalagmitas.\n",
        "    - En otras palabras, si la primera lista tiene 1s, devuelve \"estalactitas\".\n",
        "    - Si la última lista tiene 1s, devuelve \"estalagmitas\".\n",
        "    - Si ambas tienen, devuelve \"ambas\"."
      ],
      "metadata": {
        "id": "TLGNJaT5JO0k"
      }
    },
    {
      "cell_type": "code",
      "source": [
        "# Método 1\n",
        "def formacion_mineral(cueva):\n",
        "    if sum(cueva[-1]) == 0:\n",
        "        return \"estalactitas\"\n",
        "    elif sum(cueva[0]) == 0:\n",
        "        return \"estalagmitas\"\n",
        "    elif sum(cueva[0]) > 0 and sum(cueva[-1]) > 0:\n",
        "        return \"ambas\"\n",
        "\n",
        "# Método 2\n",
        "def formacion_mineral(cueva):\n",
        "    hay_estalactitas = any(cueva[0])    # Verifica si hay 1s en la primera fila\n",
        "    hay_estalagmitas = any(cueva[-1])   # Verifica si hay 1s en la última fila\n",
        "\n",
        "    if hay_estalactitas and hay_estalagmitas:\n",
        "        return \"ambas\"\n",
        "    elif hay_estalactitas:\n",
        "        return \"estalactitas\"\n",
        "    elif hay_estalagmitas:\n",
        "        return \"estalagmitas\"\n",
        "\n",
        "# Método 3\n",
        "def formacion_mineral(cueva):\n",
        "    # Convertir la primera y última fila en conjuntos\n",
        "    primera_fila = set(cueva[0])\n",
        "    ultima_fila = set(cueva[-1])\n",
        "\n",
        "    # Verificar si hay 1s en la primera y última fila\n",
        "    hay_estalactitas = 1 in primera_fila\n",
        "    hay_estalagmitas = 1 in ultima_fila\n",
        "\n",
        "    if hay_estalactitas and hay_estalagmitas:\n",
        "        return \"ambas\"\n",
        "    elif hay_estalactitas:\n",
        "        return \"estalactitas\"\n",
        "    elif hay_estalagmitas:\n",
        "        return \"estalagmitas\""
      ],
      "metadata": {
        "id": "KIxuH6oLJO0k"
      },
      "execution_count": null,
      "outputs": []
    },
    {
      "cell_type": "code",
      "source": [
        "print(formacion_mineral([\n",
        "  [0, 1, 0, 1],\n",
        "  [0, 1, 0, 1],\n",
        "  [0, 0, 0, 1],\n",
        "  [0, 0, 0, 0]\n",
        "]))  # ➞ \"estalactitas\"\n",
        "\n",
        "print(formacion_mineral([\n",
        "  [0, 0, 0, 0],\n",
        "  [0, 1, 0, 1],\n",
        "  [0, 1, 1, 1],\n",
        "  [0, 1, 1, 1]\n",
        "]))  # ➞ \"estalagmitas\"\n",
        "\n",
        "print(formacion_mineral([\n",
        "  [1, 0, 1, 0],\n",
        "  [1, 1, 0, 1],\n",
        "  [0, 1, 1, 1],\n",
        "  [0, 1, 1, 1]\n",
        "]))  # ➞ \"ambas\""
      ],
      "metadata": {
        "id": "J0ScKxGjJO0k",
        "colab": {
          "base_uri": "https://localhost:8080/"
        },
        "outputId": "d820622d-f52a-4e69-c60b-aff3d3ec1d9b"
      },
      "execution_count": null,
      "outputs": [
        {
          "output_type": "stream",
          "name": "stdout",
          "text": [
            "estalactitas\n",
            "estalagmitas\n",
            "ambas\n"
          ]
        }
      ]
    },
    {
      "cell_type": "markdown",
      "source": [
        "## Reto 511: Edades de Padre e Hijo\n",
        "* Father and Son Ages\n",
        "* Crea una función que tome dos argumentos: la edad actual del padre `f_age` y la edad actual de su hijo `s_age`.\n",
        "* Calcula hace cuántos *años* el padre tenía el doble de edad que su hijo, o en cuántos años *tendrá* el doble de edad.\n",
        "* Ejemplos:\n",
        "```\n",
        "age_difference(36, 7) ➞ 22\n",
        "    - Dentro de 22 años, el padre tendrá 58 años y su hijo tendrá 29 años.\n",
        "age_difference(55, 30) ➞ 5\n",
        "    - Hace 5 años, el padre tenía 50 años y su hijo tenía 25 años.\n",
        "age_difference(42, 21) ➞ 0\n",
        "```"
      ],
      "metadata": {
        "id": "4dR6GX4GJiBU"
      }
    },
    {
      "cell_type": "code",
      "source": [
        "# Método 1\n",
        "def age_difference(f_age, s_age):\n",
        "    return abs(f_age - 2 * s_age)\n",
        "\n",
        "# Método 2. Sin usar abs, usamos un if\n",
        "def age_difference(f_age, s_age):\n",
        "    difference = f_age - 2 * s_age\n",
        "    if difference >= 0:\n",
        "        return difference\n",
        "    else:\n",
        "        return -difference"
      ],
      "metadata": {
        "id": "pOPSYc5tJiBU"
      },
      "execution_count": null,
      "outputs": []
    },
    {
      "cell_type": "code",
      "source": [
        "print(age_difference(36, 7))\n",
        "print(age_difference(55, 30))\n",
        "print(age_difference(42, 21))"
      ],
      "metadata": {
        "id": "2xOS8D2WJiBU",
        "colab": {
          "base_uri": "https://localhost:8080/"
        },
        "outputId": "578dc17d-6582-4938-fe54-82a03cc875ee"
      },
      "execution_count": null,
      "outputs": [
        {
          "output_type": "stream",
          "name": "stdout",
          "text": [
            "22\n",
            "5\n",
            "0\n"
          ]
        }
      ]
    },
    {
      "cell_type": "markdown",
      "source": [
        "## Reto 512: Desempaquetado de Listas\n",
        "* Format IX: Unpacking Lists\n",
        "* Para este reto no se ha de crear una función. En su lugar, debes crear una **cadena de plantilla** que pueda ser formateada para obtener un cierto resultado.\n",
        "* Escribe **tres listas** y una cadena de plantilla de acuerdo con el siguiente ejemplo. Observa el argumento de palabra clave `elem`:\n",
        "* **Ejemplo**\n",
        "```\n",
        "lst1 = [tulista aquí]\n",
        "lst2 = [tulista aquí]\n",
        "lst3 = [tulista aquí]\n",
        "template = \"tu cadena de plantilla aquí\"\n",
        "template.format(*lst1, elem=\"amigos\") ➞ \"Mis amigos son: John, Joe y Jack.\"\n",
        "template.format(*lst2, elem=\"amores\") ➞ \"Mis amores son: C, C++ y Python.\"\n",
        "template.format(*lst3, elem=\"pokemon\") ➞ \"Mis pokemon son: Metapod, Magikarp y Unown.\"\n",
        "```\n",
        "* **Consejos**\n",
        "    - Los elementos de una lista pueden ser desempaquetados y pasados a `.format()` como argumentos posicionales usando el operador estrella `*`:\n",
        "```\n",
        "nombres = [\"María\", \"Mayo\"]\n",
        "\"{} y {}.\".format(*nombres) ➞ \"María y Mayo.\"\n",
        "```\n",
        "* **Notas**\n",
        "    - Envía una cadena, no una función.\n",
        "    - No cambies los nombres de las variables `template`, `lst1`, `lst2` y `lst3`."
      ],
      "metadata": {
        "id": "X4vxbYsuJiJb"
      }
    },
    {
      "cell_type": "code",
      "source": [
        "lst1 = [\"John\", \"Joe\", \"Jack\"]\n",
        "lst2 = [\"C\", \"C++\", \"Python\"]\n",
        "lst3 = [\"Metapod\", \"Magikarp\", \"Unown\"]\n",
        "template = \"Mis {elem} son: {}, {} y {}.\""
      ],
      "metadata": {
        "id": "IAyE-y9hJiJb"
      },
      "execution_count": null,
      "outputs": []
    },
    {
      "cell_type": "code",
      "source": [
        "print(template.format(*lst1, elem=\"amigos\"))    # Mis amigos son: John, Joe y Jack.\n",
        "print(template.format(*lst2, elem=\"amores\"))    # Mis amores son: C, C++ y Python.\n",
        "print(template.format(*lst3, elem=\"pokemon\"))   # Mis pokemon son: Metapod, Magikarp y Unown."
      ],
      "metadata": {
        "id": "YK1L8pNhJiJb",
        "colab": {
          "base_uri": "https://localhost:8080/"
        },
        "outputId": "5aed294a-6651-41a9-be88-ebdffd14b8fe"
      },
      "execution_count": null,
      "outputs": [
        {
          "output_type": "stream",
          "name": "stdout",
          "text": [
            "Mis amigos son: John, Joe y Jack.\n",
            "Mis amores son: C, C++ y Python.\n",
            "Mis pokemon son: Metapod, Magikarp y Unown.\n"
          ]
        }
      ]
    },
    {
      "cell_type": "markdown",
      "source": [
        "### Explicación\n",
        "\n",
        "#### Propósito del ejercicio\n",
        "\n",
        "* Este ejercicio está diseñado para enseñar y practicar dos conceptos importantes en Python:\n",
        "    1. Formateo de cadenas usando el método `.format()`.\n",
        "    2. Desempaquetado de listas usando el operador asterisco `*`.\n",
        "\n",
        "* La idea es crear una plantilla de cadena flexible que pueda ser utilizada con diferentes listas y palabras clave para producir oraciones similares pero con contenido diferente.\n",
        "\n",
        "#### Explicación de la solución\n",
        "\n",
        "1. Primero, definimos tres listas diferentes:\n",
        "\n",
        "```python\n",
        "lst1 = [\"John\", \"Joe\", \"Jack\"]\n",
        "lst2 = [\"C\", \"C++\", \"Python\"]\n",
        "lst3 = [\"Metapod\", \"Magikarp\", \"Unown\"]\n",
        "```\n",
        "\n",
        "2. Luego, creamos una plantilla de cadena:\n",
        "\n",
        "```python\n",
        "template = \"Mis {elem} son: {}, {} y {}.\"\n",
        "```\n",
        "\n",
        "Esta plantilla tiene dos tipos de marcadores de posición:\n",
        "   - `{elem}`: Este será reemplazado por una palabra clave (amigos, amores, pokemon).\n",
        "   - `{}`, `{}`, `{}`: Estos serán reemplazados por los elementos de la lista.\n",
        "\n",
        "3. Uso de la plantilla:\n",
        "\n",
        "```python\n",
        "template.format(*lst1, elem=\"amigos\")\n",
        "```\n",
        "\n",
        "Aquí ocurren dos cosas:\n",
        "   - `*lst1`: El asterisco desempaqueta la lista, pasando cada elemento como un argumento separado.\n",
        "   - `elem=\"amigos\"`: Este es un argumento de palabra clave que reemplaza `{elem}` en la plantilla.\n",
        "\n",
        "Entonces, cuando llamamos a:\n",
        "\n",
        "```python\n",
        "print(template.format(*lst1, elem=\"amigos\"))\n",
        "```\n",
        "\n",
        "Python hace lo siguiente:\n",
        "- Reemplaza `{elem}` con \"amigos\"\n",
        "- Reemplaza los tres `{}` con los elementos de `lst1` en orden\n",
        "\n",
        "Resultando en: \"Mis amigos son: John, Joe y Jack.\"\n",
        "\n",
        "La belleza de este enfoque es que la misma plantilla se puede usar con diferentes listas y palabras clave:\n",
        "\n",
        "```python\n",
        "print(template.format(*lst2, elem=\"amores\"))\n",
        "print(template.format(*lst3, elem=\"pokemon\"))\n",
        "```\n",
        "\n",
        "* Produciendo:\n",
        "    - \"Mis amores son: C, C++ y Python.\"\n",
        "    - \"Mis pokemon son: Metapod, Magikarp y Unown.\"\n",
        "\n",
        "* En resumen, este ejercicio enseña cómo crear una plantilla de cadena flexible que puede ser reutilizada con diferentes datos, lo cual es una habilidad útil en programación para generar textos dinámicos de manera eficiente."
      ],
      "metadata": {
        "id": "GCgIRNevg873"
      }
    },
    {
      "cell_type": "markdown",
      "source": [
        "## Reto 513: Números Pandigitales\n",
        "* Pandigital Numbers\n",
        "* Un número **pandigital** contiene todos los dígitos (0-9) al menos una vez.\n",
        "* Escribe una función que tome un entero, devolviendo `True` si el entero es pandigital, y `False` en caso contrario.\n",
        "* **Ejemplos**\n",
        "```\n",
        "es_pandigital(98140723568910) ➞ True\n",
        "es_pandigital(90864523148909) ➞ False\n",
        "    - Falta el 7.\n",
        "es_pandigital(112233445566778899) ➞ False\n",
        "```\n",
        "* **Nota**\n",
        "    - Piensa en las propiedades de un número pandigital cuando se eliminan todos los duplicados."
      ],
      "metadata": {
        "id": "qixk6TO7JiQY"
      }
    },
    {
      "cell_type": "code",
      "source": [
        "# Método 1\n",
        "def es_pandigital(numero):\n",
        "    return set([int(x) for x in str(numero)]) == {0,1,2,3,4,5,6,7,8,9}\n",
        "\n",
        "# Método 2. Creando un set comprehension y ahorramos crear una lista intermedia\n",
        "def es_pandigital(numero):\n",
        "    return {int(x) for x in str(numero)} == {0,1,2,3,4,5,6,7,8,9}\n",
        "\n",
        "# Método 3. Creando una constante con el conjunto de referencia\n",
        "# Esto puede ser útil si se va a llamar la función muchas veces\n",
        "\n",
        "DIGITS = set(range(10))     # las constantes por norma van todo en mayúsculas\n",
        "\n",
        "def es_pandigital(numero):\n",
        "    return set(int(x) for x in str(numero)) == DIGITS\n",
        "\n",
        "# Método 4. Trabajando todo el rato con un string, sin usar enteros\n",
        "def es_pandigital(numero):\n",
        "    return len(set(str(numero))) == 10"
      ],
      "metadata": {
        "id": "sXUw2d4OJiQY"
      },
      "execution_count": null,
      "outputs": []
    },
    {
      "cell_type": "code",
      "source": [
        "print(es_pandigital(98140723568910))        # True\n",
        "print(es_pandigital(90864523148909))        # False\n",
        "print(es_pandigital(112233445566778899))    # False"
      ],
      "metadata": {
        "id": "Vw1jIBSaJiQY",
        "colab": {
          "base_uri": "https://localhost:8080/"
        },
        "outputId": "551695f2-6dd0-4629-dd4e-f58ae6dc142e"
      },
      "execution_count": null,
      "outputs": [
        {
          "output_type": "stream",
          "name": "stdout",
          "text": [
            "True\n",
            "False\n",
            "False\n"
          ]
        }
      ]
    },
    {
      "cell_type": "markdown",
      "source": [
        "## Reto 514: Suma de Elementos de la Lista Excepto Sí Mismo\n",
        "* Sum of List Elements Except Itself\n",
        "* Dada una lista devuelva una nueva lista que tenga la suma de todos sus elementos excepto sí mismo.\n",
        "* **Aclaración**\n",
        "    - `[1, 2, 3, 4]` = para el primer elemento => la suma será 2+3+4 = `[9]`\n",
        "    - `[1, 2, 3, 4]` = para el segundo elemento => la suma será 1+3+4 = `[9, 8]`\n",
        "    - `[1, 2, 3, 4]` = para el tercer elemento => la suma será 1+2+4 = `[9, 8, 7]`\n",
        "    - `[1, 2, 3, 4]` = para el cuarto elemento => la suma será 1+2+3 = `[9, 8, 7, 6]`\n",
        "\n",
        "* **Ejemplos**\n",
        "```\n",
        "lst_ele_sum([1, 2, 3, 2, 1]) ➞ [8, 7, 6, 7, 8]\n",
        "lst_ele_sum([1, 2]) ➞ [2, 1]\n",
        "lst_ele_sum([1, 2, 3]) ➞ [5, 4, 3]\n",
        "lst_ele_sum([1, 2, 3, 4, 5]) ➞ [14, 13, 12, 11, 10]\n",
        "lst_ele_sum([10, 20, 30, 40, 50, 60]) ➞ [200, 190, 180, 170, 160, 150]\n",
        "```"
      ],
      "metadata": {
        "id": "lrNNOlP-JiXa"
      }
    },
    {
      "cell_type": "code",
      "source": [
        "# Método 1\n",
        "def lst_ele_sum(lst):\n",
        "    total = sum(lst)\n",
        "    return [total - num for num in lst]\n",
        "\n",
        "# Método 2\n",
        "def lst_ele_sum(lst):\n",
        "    result = []\n",
        "    for i in range(len(lst)):\n",
        "        sum_except_self = sum(lst[:i] + lst[i+1:])\n",
        "        result.append(sum_except_self)\n",
        "    return result"
      ],
      "metadata": {
        "id": "VO3qvfbFJiXa"
      },
      "execution_count": null,
      "outputs": []
    },
    {
      "cell_type": "code",
      "source": [
        "print(lst_ele_sum([1, 2, 3, 2, 1]))             # [8, 7, 6, 7, 8]\n",
        "print(lst_ele_sum([1, 2]))                      # [2, 1]\n",
        "print(lst_ele_sum([1, 2, 3]))                   # [5, 4, 3]\n",
        "print(lst_ele_sum([1, 2, 3, 4, 5]))             # [14, 13, 12, 11, 10]\n",
        "print(lst_ele_sum([10, 20, 30, 40, 50, 60]))    # [200, 190, 180, 170, 160, 150]"
      ],
      "metadata": {
        "id": "z78D6PDZJiXb",
        "colab": {
          "base_uri": "https://localhost:8080/"
        },
        "outputId": "7ba695b1-f867-4ea6-873f-dcef46e04cac"
      },
      "execution_count": null,
      "outputs": [
        {
          "output_type": "stream",
          "name": "stdout",
          "text": [
            "[8, 7, 6, 7, 8]\n",
            "[2, 1]\n",
            "[5, 4, 3]\n",
            "[14, 13, 12, 11, 10]\n",
            "[200, 190, 180, 170, 160, 150]\n"
          ]
        }
      ]
    },
    {
      "cell_type": "markdown",
      "source": [
        "## Reto 515: Números de Sastry\n",
        "* Sastry Numbers\n",
        "* En este reto, debes determinar si un número entero dado `n` es un número de Sastry.\n",
        "* Si el número resultante de la concatenación de un entero `n` con su sucesor es un cuadrado perfecto, entonces `n` es un Número de Sastry.\n",
        "* Dada un entero positivo `n`, implementa una función que devuelva `True` si `n` es un número de Sastry, o `False` si no lo es.\n",
        "\n",
        "* **Ejemplos**\n",
        "```\n",
        "es_sastry(183) ➞ True\n",
        "    - Concatenación de n y su sucesor = 183184\n",
        "    - 183184 es un cuadrado perfecto (428 ^ 2)\n",
        "es_sastry(184) ➞ False\n",
        "    - Concatenación de n y su sucesor = 184185\n",
        "    - 184185 no es un cuadrado perfecto\n",
        "es_sastry(106755) ➞ True\n",
        "    - Concatenación de n y su sucesor = 106755106756\n",
        "    - 106755106756 es un cuadrado perfecto (326734 ^ 2)\n",
        "```\n",
        "\n",
        "* **Notas**\n",
        "    - Un cuadrado perfecto es un número cuya raíz cuadrada es igual a un entero.\n",
        "    - Puedes esperar solo enteros positivos válidos mayores que 0 como entrada, sin excepciones que manejar.\n",
        "    - Cero es un cuadrado perfecto, pero la concatenación 00 no se considera un resultado válido para verificar."
      ],
      "metadata": {
        "id": "ycO-Ex-YJidx"
      }
    },
    {
      "cell_type": "code",
      "source": [
        "# Método 1\n",
        "import math\n",
        "\n",
        "def es_sastry(n):\n",
        "    # Concatenar n con su sucesor\n",
        "    concatenacion = int(str(n) + str(n + 1))\n",
        "\n",
        "    # Calcular la raíz cuadrada\n",
        "    raiz = math.isqrt(concatenacion)    # raíz cuadrada entera\n",
        "\n",
        "    # Verificar si es un cuadrado perfecto\n",
        "    return raiz * raiz == concatenacion\n",
        "\n",
        "# Método 2. Evitando usar la raiz cuadrada\n",
        "def es_sastry(n):\n",
        "    concatenacion = int(str(n) + str(n + 1))\n",
        "\n",
        "    # Búsqueda binaria de la raíz cuadrada\n",
        "    izquierda, derecha = 0, concatenacion\n",
        "    while izquierda <= derecha:\n",
        "        medio = (izquierda + derecha) // 2\n",
        "        cuadrado = medio * medio\n",
        "\n",
        "        if cuadrado == concatenacion:\n",
        "            return True\n",
        "        elif cuadrado < concatenacion:\n",
        "            izquierda = medio + 1\n",
        "        else:\n",
        "            derecha = medio - 1\n",
        "\n",
        "    return False"
      ],
      "metadata": {
        "id": "UAcLURzNv9qB"
      },
      "execution_count": null,
      "outputs": []
    },
    {
      "cell_type": "code",
      "source": [
        "print(es_sastry(183))   # True\n",
        "print(es_sastry(184))   # False\n",
        "print(es_sastry(106755))  # True"
      ],
      "metadata": {
        "id": "DFQylYc9Jidx",
        "colab": {
          "base_uri": "https://localhost:8080/"
        },
        "outputId": "8b8ef77f-5b89-42a0-ae0e-49b1df374305"
      },
      "execution_count": null,
      "outputs": [
        {
          "output_type": "stream",
          "name": "stdout",
          "text": [
            "True\n",
            "False\n",
            "True\n"
          ]
        }
      ]
    },
    {
      "cell_type": "markdown",
      "source": [
        "## Reto 516: ¿Es la Suma de los Dígitos en los Números Igual?\n",
        "* Are the Sum of Digits in the Numbers Equal?\n",
        "* Escribe una función que tome una lista de dos números y determine si la suma de los **dígitos** en cada número es igual entre sí.\n",
        "\n",
        "* **Ejemplos**\n",
        "\n",
        "```\n",
        "es_igual([105, 42]) ➞ True\n",
        "    - 1 + 0 + 5 = 6\n",
        "    - 4 + 2 = 6\n",
        "es_igual([21, 35]) ➞ False\n",
        "es_igual([0, 0]) ➞ True\n",
        "```"
      ],
      "metadata": {
        "id": "ehhGeKWDJikh"
      }
    },
    {
      "cell_type": "code",
      "source": [
        "# Método 1\n",
        "def es_igual(numeros):\n",
        "    a, b = numeros                              # desempaqueta los elementos de la lista\n",
        "    suma_a = sum(int(e) for e in str(abs(a)))   # suma los elementos de un generador\n",
        "    suma_b = sum(int(e) for e in str(abs(b)))   # suma los elementos de un generador\n",
        "    return suma_a == suma_b\n",
        "\n",
        "# Método 2. Sumando los elementos de un generador\n",
        "def es_igual(numeros):\n",
        "    def suma_digitos(num):\n",
        "        return sum(int(digito) for digito in str(abs(num)))\n",
        "\n",
        "    return suma_digitos(numeros[0]) == suma_digitos(numeros[1])\n",
        "\n",
        "# Método 3 Usando una list comprehension\n",
        "def es_igual(numeros):\n",
        "    # Convertir cada número en una lista de dígitos y luego sumar los dígitos\n",
        "    suma_a = sum([int(digito) for digito in str(abs(numeros[0]))])\n",
        "    suma_b = sum([int(digito) for digito in str(abs(numeros[-1]))])\n",
        "    # Comparar las sumas de los dígitos\n",
        "    return suma_a == suma_b\n",
        "\n",
        "# Método 5. Con la librería reduce. Programación funcional\n",
        "from functools import reduce\n",
        "\n",
        "def es_igual(numeros):\n",
        "    # Función para sumar los dígitos de un número\n",
        "    def suma_digitos(num):\n",
        "        return reduce(lambda x, y: x + y, map(int, str(abs(num))))\n",
        "\n",
        "    # Comparar las sumas de los dígitos de los dos números\n",
        "    a = numeros.pop(0)\n",
        "    b = numeros.pop(0)\n",
        "    return suma_digitos(a) == suma_digitos(b)\n",
        "\n",
        "# Método 6. Sin usar str\n",
        "def suma_digitos(num):\n",
        "    num = abs(num)  # Asegurarse de que el número sea positivo\n",
        "    suma = 0\n",
        "    while num > 0:\n",
        "        suma += num % 10  # Obtener el último dígito y sumarlo\n",
        "        num //= 10        # Eliminar el último dígito\n",
        "    return suma\n",
        "\n",
        "def es_igual(numeros):\n",
        "    a, b = *numeros,  # Desempaqueta los elementos de la lista\n",
        "    return suma_digitos(a) == suma_digitos(b)"
      ],
      "metadata": {
        "id": "OfPkm7hhJikh"
      },
      "execution_count": null,
      "outputs": []
    },
    {
      "cell_type": "code",
      "source": [
        "print(es_igual([105, 42]))  # True\n",
        "print(es_igual([21, 35]))   # False\n",
        "print(es_igual([0, 0]))     # True"
      ],
      "metadata": {
        "id": "HwIGf1QRJikh",
        "colab": {
          "base_uri": "https://localhost:8080/"
        },
        "outputId": "995d0a71-513b-4dc5-9bdb-f45faafe25d2"
      },
      "execution_count": null,
      "outputs": [
        {
          "output_type": "stream",
          "name": "stdout",
          "text": [
            "True\n",
            "False\n",
            "True\n"
          ]
        }
      ]
    },
    {
      "cell_type": "markdown",
      "source": [
        "## Reto 517: ¿Es el Número un Repdigit?\n",
        "* Is the Number a Repdigit\n",
        "* Un repdigit es un número positivo compuesto por el mismo dígito.\n",
        "* Crea una función que tome un entero y devuelva si es un repdigit o no.\n",
        "\n",
        "* **Ejemplos**\n",
        "\n",
        "```\n",
        "is_repdigit(66) ➞ True\n",
        "is_repdigit(8) ➞ True\n",
        "is_repdigit(0) ➞ True\n",
        "is_repdigit(-11) ➞ False\n",
        "is_repdigit(123) ➞ False\n",
        "```\n",
        "\n",
        "* **Notas**\n",
        "    - El número `0` debe devolver `True` (aunque no sea un número positivo)."
      ],
      "metadata": {
        "id": "0GDmptduJire"
      }
    },
    {
      "cell_type": "code",
      "source": [
        "# Método 1\n",
        "def is_repdigit(num):\n",
        "    # Si el número es negativo, retornamos False inmediatamente\n",
        "    if num < 0:\n",
        "        return False\n",
        "\n",
        "    # Convertir el número a una cadena\n",
        "    num_str = str(num)\n",
        "\n",
        "    # Verificar si todos los dígitos son iguales al primer dígito\n",
        "    return all(digit == num_str[0] for digit in num_str)\n",
        "\n",
        "# Método 2\n",
        "def is_repdigit(n):\n",
        "    # Si el número es negativo, retorna False\n",
        "    if n < 0:\n",
        "        return False\n",
        "    # Convertir el número a string y verificar si todos los caracteres son iguales\n",
        "    str_n = str(n)\n",
        "    return str_n == str_n[0] * len(str_n)\n",
        "\n",
        "# Método 3\n",
        "def is_repdigit(n):\n",
        "    if n < 0:\n",
        "        return False\n",
        "    str_n = str(n)\n",
        "    return all(d == str_n[0] for d in str_n)\n",
        "\n",
        "# Método 4\n",
        "def is_repdigit(n):\n",
        "    if n < 0:\n",
        "        return False\n",
        "    return all(n % 10 == int(d) for d in str(n))    # n%10 da el último digito\n",
        "\n",
        "# Método 5. Usando set\n",
        "def is_repdigit(n):\n",
        "    if n < 0:\n",
        "        return False\n",
        "    str_n = str(n)\n",
        "    return len(set(str_n)) == 1"
      ],
      "metadata": {
        "id": "rKvCpyIyJirf"
      },
      "execution_count": null,
      "outputs": []
    },
    {
      "cell_type": "code",
      "source": [
        "print(is_repdigit(66))    # True\n",
        "print(is_repdigit(8))     # True\n",
        "print(is_repdigit(0))     # True\n",
        "print(is_repdigit(-11))   # False\n",
        "print(is_repdigit(123))   # False"
      ],
      "metadata": {
        "id": "6TTBafGzJirf",
        "colab": {
          "base_uri": "https://localhost:8080/"
        },
        "outputId": "da14aad2-e49a-40d9-fa54-5cd6f4705f11"
      },
      "execution_count": null,
      "outputs": [
        {
          "output_type": "stream",
          "name": "stdout",
          "text": [
            "True\n",
            "True\n",
            "True\n",
            "False\n",
            "False\n"
          ]
        }
      ]
    },
    {
      "cell_type": "markdown",
      "source": [
        "## Reto 518: Letras Compartidas Entre Dos Palabras\n",
        "* Letters Shared Between Two Words\n",
        "* Crea una función que devuelva el número de caracteres compartidos entre dos palabras.\n",
        "\n",
        "* **Ejemplos**\n",
        "\n",
        "```\n",
        "letras_compartidas(\"manzana\", \"carne\") ➞ 2\n",
        "    - Ya que \"an\" es compartido entre \"manzana\" y \"carne\".\n",
        "letras_compartidas(\"ventilador\", \"forsook\") ➞ 1\n",
        "letras_compartidas(\"chorro\", \"grito\") ➞ 3\n",
        "```"
      ],
      "metadata": {
        "id": "OREc2pvsJizQ"
      }
    },
    {
      "cell_type": "code",
      "source": [
        "# Método 1\n",
        "def shared_letters(txt1, txt2):\n",
        "    conjunto1 = set(c for c in txt1)\n",
        "    conjunto2 = set(c for c in txt2)\n",
        "    return len(conjunto1.intersection(conjunto2))\n",
        "\n",
        "# Método 2. El operador & en conjuntos equivale a intersection\n",
        "def letras_compartidas(palabra1, palabra2):\n",
        "    return len(set(palabra1.lower()) & set(palabra2.lower()))\n",
        "\n",
        "# Método 3\n",
        "def letras_compartidas(palabra1, palabra2):\n",
        "    return sum(1 for letra in set(palabra1.lower()) if letra in palabra2.lower())\n",
        "\n",
        "# Método 4. Sin usar set\n",
        "def letras_compartidas(palabra1, palabra2):\n",
        "    palabra1 = palabra1.lower()\n",
        "    palabra2 = palabra2.lower()\n",
        "    letras_unicas1 = []\n",
        "    contador = 0\n",
        "\n",
        "    for letra in palabra1:\n",
        "        if letra not in letras_unicas1:\n",
        "            letras_unicas1.append(letra)\n",
        "            if letra in palabra2:\n",
        "                contador += 1\n",
        "\n",
        "    return contador"
      ],
      "metadata": {
        "id": "ji6pXwB_JizQ"
      },
      "execution_count": null,
      "outputs": []
    },
    {
      "cell_type": "code",
      "source": [
        "print(letras_compartidas(\"banana\", \"bicho\"))            # 1\n",
        "print(letras_compartidas(\"manzana\", \"carne\"))           # 2\n",
        "print(letras_compartidas(\"verso\", \"verbigracia\"))       # 3\n",
        "print(letras_compartidas(\"murcielago\", \"exoplaneta\"))   # 4"
      ],
      "metadata": {
        "id": "MandhIWDJizQ",
        "colab": {
          "base_uri": "https://localhost:8080/"
        },
        "outputId": "cc43bb43-c09a-43c7-c971-298f1208b0f8"
      },
      "execution_count": null,
      "outputs": [
        {
          "output_type": "stream",
          "name": "stdout",
          "text": [
            "1\n",
            "2\n",
            "3\n",
            "4\n"
          ]
        }
      ]
    },
    {
      "cell_type": "markdown",
      "source": [
        "## Reto 519: Intervalos Intersecantes\n",
        "* Intersecting Intervals\n",
        "* Crea una función que tome una lista de **intervalos** y devuelva cuántos intervalos se superponen con un punto dado.\n",
        "* Un intervalo se superpone con un punto en particular si el punto existe **dentro** del intervalo, o en el **límite** del intervalo. Por ejemplo, el punto `3` se superpone con el intervalo `[2, 4]` (está dentro) y `[2, 3]` (está en el límite).\n",
        "* Para ilustrar:\n",
        "\n",
        "```\n",
        "contar_superposiciones([[1, 2], [2, 3], [1, 3], [4, 5], [0, 1]], 2) ➞ 3\n",
        "# Ya que [1, 2], [2, 3] y [1, 3] se superponen con el punto 2\n",
        "```\n",
        "\n",
        "* **Ejemplos**\n",
        "\n",
        "```\n",
        "contar_superposiciones([[1, 2], [2, 3], [3, 4]], 5) ➞ 0\n",
        "contar_superposiciones([[1, 2], [5, 6], [5, 7]], 5) ➞ 2\n",
        "contar_superposiciones([[1, 2], [5, 8], [6, 9]], 7) ➞ 2\n",
        "```\n",
        "\n",
        "* **Notas**\n",
        "    - Cada intervalo está representado como una lista con un punto de inicio y un punto final.\n",
        "    - Los intervalos cuentan como intersecantes incluso si solo se intersectan en un punto, es decir, `[2, 3]` y `[3, 4]` ambos intersectan en el punto `3`."
      ],
      "metadata": {
        "id": "Oi9n-QcnJi6p"
      }
    },
    {
      "cell_type": "code",
      "source": [
        "# Método 1\n",
        "def contar_superposiciones(intervalos, punto):\n",
        "    return sum(punto in range(intervalo[0], intervalo[1]+1) for intervalo in intervalos)\n",
        "\n",
        "# Método 2\n",
        "def contar_superposiciones(intervalos, punto):\n",
        "    return sum(inicio <= punto <= fin for inicio, fin in intervalos)\n",
        "\n",
        "# Método 3\n",
        "def contar_superposiciones(intervalos, punto):\n",
        "    contador = 0\n",
        "    for intervalo in intervalos:\n",
        "        inicio, fin = intervalo\n",
        "        if inicio <= punto <= fin:\n",
        "            contador += 1\n",
        "    return contador\n",
        "\n",
        "# Método 4\n",
        "def contar_superposiciones(intervalos, punto):\n",
        "    return len(list(filter(lambda x: x[0] <= punto <= x[1], intervalos)))\n",
        "\n",
        "# Método 5\n",
        "def contar_superposiciones(intervalos, punto):\n",
        "    return sum(1 for inicio, fin in intervalos if punto in range(inicio, fin + 1))"
      ],
      "metadata": {
        "id": "bCqNGG_CJi6p"
      },
      "execution_count": null,
      "outputs": []
    },
    {
      "cell_type": "code",
      "source": [
        "print(contar_superposiciones([[1, 2], [2, 3], [3, 4]], 5))                  # 0\n",
        "print(contar_superposiciones([[1, 2], [5, 6], [5, 7]], 5))                  # 2\n",
        "print(contar_superposiciones([[1, 2], [5, 8], [6, 9]], 7))                  # 2\n",
        "print(contar_superposiciones([[1, 2], [2, 3], [1, 3], [4, 5], [0, 1]], 2))  # 3"
      ],
      "metadata": {
        "id": "cSYaASFsJi6p",
        "colab": {
          "base_uri": "https://localhost:8080/"
        },
        "outputId": "afe7f517-4a73-4886-9286-10825da6dd42"
      },
      "execution_count": null,
      "outputs": [
        {
          "output_type": "stream",
          "name": "stdout",
          "text": [
            "0\n",
            "2\n",
            "2\n",
            "3\n"
          ]
        }
      ]
    },
    {
      "cell_type": "markdown",
      "source": [
        "## Reto 520: Exploración Combinatoria\n",
        "* Combinatorial Exploration\n",
        "* Dado un número conocido de elementos únicos, ¿de cuántas maneras podríamos ordenarlos en una fila?\n",
        "* Crea una función que tome un entero `n` y devuelva el número de dígitos del número de permutaciones posibles para `n` elementos únicos.\n",
        "* Por ejemplo, 5 elementos únicos podrían ordenarse de 120 maneras únicas. 120 tiene 3 dígitos, por lo tanto se devuelve el entero `3`.\n",
        "\n",
        "* **Ejemplos**\n",
        "\n",
        "```\n",
        "no_perms_digits(0) ➞ 1\n",
        "no_perms_digits(1) ➞ 1\n",
        "no_perms_digits(5) ➞ 3\n",
        "no_perms_digits(8) ➞ 5\n",
        "```\n",
        "\n",
        "* **Nota**\n",
        "    - Las permutaciones de n se obtienen calculando el factorial de n."
      ],
      "metadata": {
        "id": "VqOAz1qjJjCA"
      }
    },
    {
      "cell_type": "code",
      "source": [
        "# Método 1\n",
        "import math\n",
        "def no_perms_digits(n):\n",
        "    fact = math.factorial(n)\n",
        "    return int(math.log10(fact)) + 1    # calcula el nº de digios con log10\n",
        "\n",
        "# Método 2\n",
        "def fac(n):     # función recursiva\n",
        "    if n == 0:\n",
        "        return 1\n",
        "    return n * fac(n-1)\n",
        "\n",
        "def no_perms_digits(n):\n",
        "    return len(str(fac(n)))     # calcula el nº de digitos usando str y len\n",
        "\n",
        "# Método 3\n",
        "from math import factorial\n",
        "def num_digitos(n):     # calcula el número de dígitos con un while\n",
        "    numero_digitos = 0\n",
        "    while n != 0:\n",
        "        n = n // 10\n",
        "        numero_digitos += 1\n",
        "    return numero_digitos\n",
        "\n",
        "def no_perms_digits(n):\n",
        "    return num_digitos(factorial(n))"
      ],
      "metadata": {
        "id": "BNAqtMkcJjCA"
      },
      "execution_count": null,
      "outputs": []
    },
    {
      "cell_type": "code",
      "source": [
        "print(no_perms_digits(0))   # 1\n",
        "print(no_perms_digits(1))   # 1\n",
        "print(no_perms_digits(5))   # 3\n",
        "print(no_perms_digits(8))   # 5"
      ],
      "metadata": {
        "id": "bJXQH_CLJjCB",
        "colab": {
          "base_uri": "https://localhost:8080/"
        },
        "outputId": "a4a03ad3-7bec-42a0-ee46-a0959b06483a"
      },
      "execution_count": null,
      "outputs": [
        {
          "output_type": "stream",
          "name": "stdout",
          "text": [
            "1\n",
            "1\n",
            "3\n",
            "5\n"
          ]
        }
      ]
    },
    {
      "cell_type": "markdown",
      "source": [
        "## Reto 521: Impar vs. Par\n",
        "* Oddish vs. Evenish\n",
        "* Crea una función que determine si un número es Oddish o Evenish.\n",
        "* Un número es Oddish si la suma de todos sus dígitos es impar, y un número es Evenish si la suma de todos sus dígitos es par.\n",
        "* Si un número es Oddish, devuelve \"Oddish\". De lo contrario, devuelve \"Evenish\".\n",
        "\n",
        "Por ejemplo, `oddish_or_evenish(121)` debería devolver \"Evenish\", ya que 1 + 2 + 1 = 4. `oddish_or_evenish(41)` debería devolver \"Oddish\", ya que 4 + 1 = 5.\n",
        "\n",
        "Ejemplos:\n",
        "- `oddish_or_evenish(43)` ➞ \"Oddish\"\n",
        "  - 4 + 3 = 7\n",
        "  - 7 % 2 = 1\n",
        "\n",
        "- `oddish_or_evenish(373)` ➞ \"Oddish\"\n",
        "  - 3 + 7 + 3 = 13\n",
        "  - 13 % 2 = 1\n",
        "\n",
        "- `oddish_or_evenish(4433)` ➞ \"Evenish\"\n",
        "  - 4 + 4 + 3 + 3 = 14\n",
        "  - 14 % 2 = 0"
      ],
      "metadata": {
        "id": "PNPUFnt8J3hD"
      }
    },
    {
      "cell_type": "code",
      "source": [
        "# Método 1\n",
        "def oddish_or_evenish(numero):\n",
        "    suma_digitos = sum(int(digito) for digito in str(numero))\n",
        "    if suma_digitos % 2 == 0:\n",
        "        return \"Evenish\"\n",
        "    else:\n",
        "        return \"Oddish\"\n",
        "\n",
        "# Método 2. Sin usar str\n",
        "def oddish_or_evenish(numero):\n",
        "    suma_digitos = 0\n",
        "    while numero > 0:\n",
        "        suma_digitos += numero % 10\n",
        "        numero //= 10\n",
        "    if suma_digitos % 2 == 0:\n",
        "        return \"Evenish\"\n",
        "    else:\n",
        "        return \"Oddish\"\n",
        "\n",
        "# Método 3. Usando reduce, map y lambda\n",
        "from functools import reduce\n",
        "\n",
        "def oddish_or_evenish(numero):\n",
        "    # Convertir el número a una cadena y mapear cada dígito a un entero\n",
        "    digitos = map(int, str(numero))\n",
        "\n",
        "    # Usar reduce para sumar todos los dígitos\n",
        "    suma_digitos = reduce(lambda x, y: x + y, digitos)\n",
        "\n",
        "    # Determinar si la suma es par o impar\n",
        "    if suma_digitos % 2 == 0:\n",
        "        return \"Evenish\"\n",
        "    else:\n",
        "        return \"Oddish\"\n",
        "\n",
        "# Método 4. Generador y operador ternario\n",
        "def oddish_or_evenish(numero):\n",
        "    suma_digitos = sum(int(digito) for digito in str(numero))\n",
        "    return \"Evenish\" if suma_digitos % 2 == 0 else \"Oddish\"\n",
        "\n",
        "# Método 5. Tratando secuencialmente los dígitos con una bandera que indica si la suma es par o impar\n",
        "def oddish_or_evenish(numero):\n",
        "    # Función lambda para sumar dos dígitos\n",
        "    sumar_digitos = lambda x, y: x + y\n",
        "\n",
        "    # Inicializamos la bandera como 0 (par)\n",
        "    bandera = 0\n",
        "\n",
        "    # Convertimos el número a una cadena y procesamos cada dígito\n",
        "    for digito in str(numero):\n",
        "        # Convertimos el dígito a entero y actualizamos la bandera\n",
        "        bandera = sumar_digitos(bandera, int(digito))\n",
        "\n",
        "    # Evaluamos la bandera para determinar si es par o impar\n",
        "    return \"Evenish\" if bandera % 2 == 0 else \"Oddish\""
      ],
      "metadata": {
        "id": "Ti8YQt1xJ3hE"
      },
      "execution_count": null,
      "outputs": []
    },
    {
      "cell_type": "code",
      "source": [
        "print(oddish_or_evenish(43))   # \"Oddish\"\n",
        "print(oddish_or_evenish(373))  # \"Oddish\"\n",
        "print(oddish_or_evenish(41))   # \"Oddish\"\n",
        "print(oddish_or_evenish(4433)) # \"Evenish\"\n",
        "print(oddish_or_evenish(121))  # \"Evenish\""
      ],
      "metadata": {
        "id": "N__ZeOW6J3hE",
        "colab": {
          "base_uri": "https://localhost:8080/"
        },
        "outputId": "170c39d2-e399-4dba-f59b-1a5597aa57ea"
      },
      "execution_count": null,
      "outputs": [
        {
          "output_type": "stream",
          "name": "stdout",
          "text": [
            "Oddish\n",
            "Oddish\n",
            "Oddish\n",
            "Evenish\n",
            "Evenish\n"
          ]
        }
      ]
    },
    {
      "cell_type": "markdown",
      "source": [
        "## Reto 522: ¿Está Johnny Progresando?\n",
        "* Is Johnny Making Progress?\n",
        "* Para entrenar para un próximo maratón, Johnny hace una carrera de larga distancia cada sábado.\n",
        "* Quiere hacer un seguimiento de cuántas veces el número de millas que corre supera el sábado **anterior**. Esto se llama un **día de progreso**.\n",
        "* Crea una función que tome una lista de millas corridas cada sábado y devuelva el número total de días de progreso de Johnny.\n",
        "* **Ejemplos**\n",
        "```\n",
        "progress_days([3, 4, 1, 2]) ➞ 2\n",
        "    - Hay dos días de progreso, (3->4) y (1->2)\n",
        "progress_days([10, 11, 12, 9, 10]) ➞ 3\n",
        "progress_days([6, 5, 4, 3, 2, 9]) ➞ 1\n",
        "progress_days([9, 9])  ➞ 0\n",
        "```\n",
        "\n",
        "* **Notas**\n",
        "    - Correr el **mismo número de millas** que la semana pasada no cuenta como un día de progreso."
      ],
      "metadata": {
        "id": "XWjJweTLJ38J"
      }
    },
    {
      "cell_type": "code",
      "source": [
        "# Método 1\n",
        "def progress_days(miles):\n",
        "    dias_de_progreso = 0\n",
        "    for i in range(1, len(miles)):\n",
        "        if miles[i-1] < miles[i]:\n",
        "            dias_de_progreso += 1\n",
        "    return dias_de_progreso\n",
        "\n",
        "# Método 2\n",
        "def progress_days(miles):\n",
        "    return sum(b > a for a, b in zip(miles, miles[1:]))\n",
        "\n",
        "# Método 3. operador morsa\n",
        "def progress_days(miles):\n",
        "    return sum(curr > prev for i, curr in enumerate(miles[1:], 1) if (prev := miles[i-1]))"
      ],
      "metadata": {
        "id": "7QTbKucHJ38K"
      },
      "execution_count": null,
      "outputs": []
    },
    {
      "cell_type": "code",
      "source": [
        "print(progress_days([9, 9]))                # 0\n",
        "print(progress_days([6, 5, 4, 3, 2, 9]))    # 1\n",
        "print(progress_days([3, 4, 1, 2]))          # 2\n",
        "print(progress_days([10, 11, 12, 9, 10]))   # 3"
      ],
      "metadata": {
        "id": "-er8xjzyJ38K",
        "colab": {
          "base_uri": "https://localhost:8080/"
        },
        "outputId": "afcd5707-f6a8-41af-88b1-57ff7d066a36"
      },
      "execution_count": null,
      "outputs": [
        {
          "output_type": "stream",
          "name": "stdout",
          "text": [
            "0\n",
            "1\n",
            "2\n",
            "3\n"
          ]
        }
      ]
    },
    {
      "cell_type": "markdown",
      "source": [
        "#### Explicación del método 3\n",
        "\n",
        "1. `enumerate(miles[1:], 1)`:\n",
        "   - `miles[1:]` crea una sublista que comienza desde el segundo elemento de `miles`.\n",
        "   - `enumerate()` crea un iterador que produce pares de (índice, valor).\n",
        "   - El segundo argumento `1` hace que el índice comience en 1 en lugar de 0.\n",
        "\n",
        "2. `for i, curr in enumerate(miles[1:], 1)`:\n",
        "   - Esto itera sobre la lista, donde `i` es el índice (comenzando en 1) y `curr` es el valor actual.\n",
        "\n",
        "3. `if (prev := miles[i-1])`:\n",
        "   - El operador `:=` (operador morsa) asigna `miles[i-1]` a `prev`.\n",
        "   - Esto obtiene el valor anterior de la lista original `miles`.\n",
        "   - La condición `if` siempre será verdadera a menos que `miles[i-1]` sea 0 o vacío.\n",
        "\n",
        "4. `curr > prev`:\n",
        "   - Compara el valor actual con el valor anterior.\n",
        "   - Devuelve `True` si hay progreso, `False` si no.\n",
        "\n",
        "5. `sum(...)`:\n",
        "   - La función `sum()` suma todos los valores `True` (que en Python se interpretan como 1) de la expresión generadora.\n",
        "\n",
        "\n",
        "En resumen, esta función crea una secuencia de comparaciones booleanas (True/False) para cada par de días consecutivos, y luego suma los resultados para obtener el número total de días de progreso."
      ],
      "metadata": {
        "id": "ss7q8mwk-Zlq"
      }
    },
    {
      "cell_type": "markdown",
      "source": [
        "## Reto 523: Parche de Cuadrado Perfecto\n",
        "* Perfect Square Patch\n",
        "* Crea una función que tome un entero y produzca un cuadrado `n x n` que consista únicamente del entero `n`.\n",
        "\n",
        "* **Ejemplos**\n",
        "\n",
        "```\n",
        "square_patch(3) ➞ [\n",
        "  [3, 3, 3],\n",
        "  [3, 3, 3],\n",
        "  [3, 3, 3]\n",
        "]\n",
        "\n",
        "square_patch(5) ➞ [\n",
        "  [5, 5, 5, 5, 5],\n",
        "  [5, 5, 5, 5, 5],\n",
        "  [5, 5, 5, 5, 5],\n",
        "  [5, 5, 5, 5, 5],\n",
        "  [5, 5, 5, 5, 5]\n",
        "]\n",
        "\n",
        "square_patch(1) ➞ [\n",
        "  [1]\n",
        "]\n",
        "\n",
        "square_patch(0) ➞ []\n",
        "```\n",
        "\n",
        "* **Notas**\n",
        "    - `n >= 0`.\n",
        "    - Si `n == 0`, devuelve una lista vacía.\n"
      ],
      "metadata": {
        "id": "cNH9ZpeOJ4DH"
      }
    },
    {
      "cell_type": "code",
      "source": [
        "# Método 1\n",
        "def square_patch(n):\n",
        "    return [[n] * n for _ in range(n)]\n",
        "\n",
        "# Método 2\n",
        "def square_patch(n):\n",
        "    if n == 0:\n",
        "        return []\n",
        "\n",
        "    square = []\n",
        "    for _ in range(n):\n",
        "        row = []\n",
        "        for _ in range(n):\n",
        "            row.append(n)\n",
        "        square.append(row)\n",
        "\n",
        "    return square\n",
        "\n",
        "# Método 3\n",
        "import numpy as np\n",
        "\n",
        "def square_patch(n):\n",
        "    return np.full((n, n), n).tolist()\n",
        "\n",
        "# Método 4. Con dos for\n",
        "def square_patch(n):\n",
        "    return [[n for _ in range(n)] for _ in range(n)]\n",
        "\n",
        "# Método 4. Método no recomendable. Usa multiplicación de listas,\n",
        "# pero puede tener un comportamiento inesperado porque todas las sublistas\n",
        "# referencian el mismo objeto en memoria.\n",
        "# Esto puede causar problemas si se modifica alguna sublista.\n",
        "def square_patch(n):\n",
        "    return [[n] * n] * n if n > 0 else []"
      ],
      "metadata": {
        "id": "Y2rDnQu6J4DH"
      },
      "execution_count": null,
      "outputs": []
    },
    {
      "cell_type": "code",
      "source": [
        "print(square_patch(3))\n",
        "print(square_patch(5))\n",
        "print(square_patch(1))\n",
        "print(square_patch(0))"
      ],
      "metadata": {
        "id": "icsPyDetJ4DH",
        "colab": {
          "base_uri": "https://localhost:8080/"
        },
        "outputId": "ac2dcbf5-d089-41f5-be3c-1f952acb33f6"
      },
      "execution_count": null,
      "outputs": [
        {
          "output_type": "stream",
          "name": "stdout",
          "text": [
            "[[3, 3, 3], [3, 3, 3], [3, 3, 3]]\n",
            "[[5, 5, 5, 5, 5], [5, 5, 5, 5, 5], [5, 5, 5, 5, 5], [5, 5, 5, 5, 5], [5, 5, 5, 5, 5]]\n",
            "[[1]]\n",
            "[]\n"
          ]
        }
      ]
    },
    {
      "cell_type": "markdown",
      "source": [
        "## Reto 524: Contar el Número de Instancias\n",
        "* Count Number of Instances\n",
        "* Crea una clase llamada `User` y crea una forma de verificar **el número de usuarios** (número de instancias) que se crearon, de modo que el valor pueda ser accedido como un **atributo de clase**.\n",
        "* **Ejemplos**\n",
        "\n",
        "```\n",
        "u1 = User(\"johnsmith10\")\n",
        "User.user_count ➞ 1\n",
        "\n",
        "u2 = User(\"marysue1989\")\n",
        "User.user_count ➞ 2\n",
        "\n",
        "u3 = User(\"milan_rodrick\")\n",
        "User.user_count ➞ 3\n",
        "```\n",
        "\n",
        "* Asegúrate de que los nombres de usuario sean accesibles a través del *atributo de instancia* `username`.\n",
        "\n",
        "```\n",
        "u1.username ➞ \"johnsmith10\"\n",
        "\n",
        "u2.username ➞ \"marysue1989\"\n",
        "\n",
        "u3.username ➞ \"milan_rodrick\"\n",
        "```"
      ],
      "metadata": {
        "id": "T5RJifTGJ4KH"
      }
    },
    {
      "cell_type": "code",
      "source": [
        "# Método 1\n",
        "class User:\n",
        "    user_count = 0\n",
        "\n",
        "    def __init__(self, username):\n",
        "        self.username = username\n",
        "        User.user_count += 1\n",
        "\n",
        "# Ejemplos de uso\n",
        "u1 = User(\"johnsmith10\")\n",
        "print(User.user_count)  # Output: 1\n",
        "\n",
        "u2 = User(\"marysue1989\")\n",
        "print(User.user_count)  # Output: 2\n",
        "\n",
        "u3 = User(\"milan_rodrick\")\n",
        "print(User.user_count)  # Output: 3\n",
        "\n",
        "# Verificando los nombres de usuario\n",
        "print(u1.username)  # Output: johnsmith10\n",
        "print(u2.username)  # Output: marysue1989\n",
        "print(u3.username)  # Output: milan_rodrick"
      ],
      "metadata": {
        "id": "dH3WyMViJ4KH"
      },
      "execution_count": null,
      "outputs": []
    },
    {
      "cell_type": "code",
      "source": [
        "# Método 2. Considerando que algún usuario creado se puede luego eliminar\n",
        "# en este caso, el contador se debería decrementar\n",
        "class User:\n",
        "    user_count = 0\n",
        "\n",
        "    def __init__(self, username):\n",
        "        self.username = username\n",
        "        User.user_count += 1\n",
        "\n",
        "    def remove(self):\n",
        "        User.user_count -= 1\n",
        "        print(f\"Usuario {self.username} eliminado.\")\n",
        "\n",
        "    @classmethod\n",
        "    def get_user_count(cls):\n",
        "        return cls.user_count\n",
        "\n",
        "# Ejemplos de uso\n",
        "u1 = User(\"johnsmith10\")\n",
        "u2 = User(\"marysue1989\")\n",
        "u3 = User(\"milan_rodrick\")\n",
        "\n",
        "print(User.get_user_count())  # Output: 3\n",
        "\n",
        "# Eliminando un usuario específico\n",
        "u2.remove()\n",
        "\n",
        "print(User.get_user_count())  # Output: 2\n",
        "\n",
        "# Verificando los nombres de usuario restantes\n",
        "print(u1.username)  # Output: johnsmith10\n",
        "print(u3.username)  # Output: milan_rodrick"
      ],
      "metadata": {
        "id": "KBeO0HVzqJvh",
        "outputId": "ddc4f562-34cd-4cf9-cf58-347f12779a69",
        "colab": {
          "base_uri": "https://localhost:8080/"
        }
      },
      "execution_count": null,
      "outputs": [
        {
          "output_type": "stream",
          "name": "stdout",
          "text": [
            "3\n",
            "Usuario marysue1989 eliminado.\n",
            "2\n",
            "johnsmith10\n",
            "milan_rodrick\n"
          ]
        }
      ]
    },
    {
      "cell_type": "markdown",
      "source": [
        "#### Comentarios al método 2\n",
        "\n",
        "Con la implementación del método 2 podamos eliminar usuarios específicos.\n",
        "\n",
        "1. Hemos añadido un método `remove()` a nivel de instancia. Esto permite eliminar un usuario específico.\n",
        "\n",
        "2. El método `remove()` decrementa el `user_count` y muestra un mensaje indicando qué usuario se ha eliminado.\n",
        "\n",
        "3. Hemos añadido un método de clase `get_user_count()` para obtener el número actual de usuarios. Esto es una buena práctica para encapsular el acceso a atributos de clase.\n",
        "\n",
        "4. Ahora podemos eliminar usuarios específicos llamando al método `remove()` en la instancia del usuario que queremos eliminar.\n",
        "\n",
        "Esta implementación es más lógica y útil, ya que permite eliminar usuarios específicos y mantener un recuento preciso de los usuarios activos.\n",
        "\n",
        "Sin embargo, es importante tener en cuenta que esta implementación aún tiene limitaciones:\n",
        "\n",
        "1. No previene que `remove()` sea llamado múltiples veces en el mismo usuario, lo que podría llevar a un conteo negativo.\n",
        "2. No elimina realmente el objeto de la memoria, solo decrementa el contador.\n",
        "\n",
        "Para un sistema más robusto, podrías considerar:\n",
        "\n",
        "1. Añadir una bandera `is_active` a cada usuario y cambiarla a `False` en lugar de decrementar el contador.\n",
        "2. Mantener una lista o diccionario de usuarios activos en la clase.\n",
        "3. Usar un sistema de gestión de base de datos para manejar los usuarios de manera más eficiente y segura."
      ],
      "metadata": {
        "id": "6-Zk5Hz4qoso"
      }
    },
    {
      "cell_type": "markdown",
      "source": [
        "## Reto 525: Número de Listas en una Lista\n",
        "* Number of Lists in a List\n",
        "* Devuelve el número total de listas dentro de una lista dada.\n",
        "* **Ejemplos**\n",
        "\n",
        "```\n",
        "num_de_sublistas([[1, 2, 3]]) ➞ 1\n",
        "num_de_sublistas([[1, 2, 3], [1, 2, 3], [1, 2, 3]]) ➞ 3\n",
        "num_de_sublistas([[1, 2, 3], [1, 2, 3], [1, 2, 3], [1, 2, 3]]) ➞ 4\n",
        "num_de_sublistas([1, 2, 3]) ➞ 0\n",
        "```"
      ],
      "metadata": {
        "id": "9btS9f_jJ4Rk"
      }
    },
    {
      "cell_type": "code",
      "source": [
        "# Método 1\n",
        "def num_de_sublistas(matriz):\n",
        "    return sum(1 for item in matriz if type(item) == list)\n",
        "\n",
        "# Método 2\n",
        "def num_de_sublistas(lista):\n",
        "    return sum(isinstance(item, list) for item in lista)\n",
        "\n",
        "# Método 3\n",
        "def num_de_sublistas(lista):\n",
        "    return len(list(filter(lambda x: isinstance(x, list), lista)))\n",
        "\n",
        "# Método 4. Con recursión. Cuenta las listas que pudieran existir en niveles más profundos\n",
        "def num_de_sublistas(lista):\n",
        "    count = 0\n",
        "    for elemento in lista:\n",
        "        if isinstance(elemento, list):\n",
        "            count += 1 + num_de_sublistas(elemento)\n",
        "    return count\n",
        "\n",
        "# Método 5\n",
        "def num_de_sublistas(lista):\n",
        "    return str(lista).count('[') - 1"
      ],
      "metadata": {
        "id": "E6J3pCYOJ4Rk"
      },
      "execution_count": null,
      "outputs": []
    },
    {
      "cell_type": "code",
      "source": [
        "print(num_de_sublistas([[1, 2, 3]]))                                    # 1\n",
        "print(num_de_sublistas([[1, 2, 3], [1, 2, 3], [1, 2, 3]]))              # 3\n",
        "print(num_de_sublistas([[1, 2, 3], [1, 2, 3], [1, 2, 3], [1, 2, 3]]))   # 4\n",
        "print(num_de_sublistas([1, 2, 3]))                                      # 0\n",
        "print(num_de_sublistas([]))                                             # 0\n",
        "print(num_de_sublistas([[],[],[],[],[]]))                               # 5"
      ],
      "metadata": {
        "id": "tknb1UNEJ4Rk",
        "colab": {
          "base_uri": "https://localhost:8080/"
        },
        "outputId": "56caf575-0685-4a93-fc39-903424eb4886"
      },
      "execution_count": null,
      "outputs": [
        {
          "output_type": "stream",
          "name": "stdout",
          "text": [
            "1\n",
            "3\n",
            "4\n",
            "0\n",
            "0\n",
            "5\n"
          ]
        }
      ]
    },
    {
      "cell_type": "markdown",
      "source": [
        "## Reto 526: Suma de Números Faltantes\n",
        "* Sum of Missing Numbers\n",
        "* Crea una función que devuelva la suma de los números faltantes de la lista dada.\n",
        "\n",
        "\n",
        "* **Ejemplos**\n",
        "\n",
        "```\n",
        "sum_missing_numbers([4, 3, 8, 1, 2]) ➞ 18\n",
        "    - 5 + 6 + 7 = 18\n",
        "sum_missing_numbers([17, 16, 15, 10, 11, 12]) ➞ 27\n",
        "    - 13 + 14 = 27\n",
        "sum_missing_numbers([1, 2, 3, 5, 4]) ➞ 0\n",
        "    - No hay números faltantes\n",
        "```"
      ],
      "metadata": {
        "id": "2-Et9sGhJ4Yk"
      }
    },
    {
      "cell_type": "code",
      "source": [
        "# Método 1\n",
        "def sum_missing_numbers(nums):\n",
        "    return sum(n for n in range(min(nums), max(nums) + 1) if n not in nums)\n",
        "\n",
        "# Método 1bis. Previene el caso de una lista vacía usando un operador ternario\n",
        "def sum_missing_numbers(nums):\n",
        "    return 0 if not nums else sum(n for n in range(min(nums), max(nums) + 1) if n not in nums)\n",
        "\n",
        "# Método 2\n",
        "def sum_missing_numbers(nums):\n",
        "    if not nums:    # previene el caso de una lista vacía\n",
        "        return 0\n",
        "\n",
        "    min_num = min(nums)\n",
        "    max_num = max(nums)\n",
        "\n",
        "    # Crear un conjunto con todos los números en el rango\n",
        "    rango_completo = set(range(min_num, max_num + 1))\n",
        "\n",
        "    # Crear un conjunto con los números de la lista de entrada\n",
        "    nums_set = set(nums)\n",
        "\n",
        "    # Encontrar los números faltantes\n",
        "    nums_faltantes = rango_completo - nums_set\n",
        "\n",
        "    # Sumar los números faltantes\n",
        "    return sum(nums_faltantes)\n",
        "\n",
        "# Método 3\n",
        "def sum_missing_numbers(nums):\n",
        "    if not nums:    # previene el caso de una lista vacía\n",
        "        return 0\n",
        "\n",
        "    min_num = min(nums)\n",
        "    max_num = max(nums)\n",
        "\n",
        "    # Calcular la suma esperada de todos los números en el rango\n",
        "    suma_esperada = sum(range(min_num, max_num + 1))\n",
        "\n",
        "    # Calcular la suma real de los números en la lista\n",
        "    suma_actual = sum(nums)\n",
        "\n",
        "    # La diferencia es la suma de los números faltantes\n",
        "    return suma_esperada - suma_actual\n",
        "\n",
        "# Método 4\n",
        "def sum_missing_numbers(nums):\n",
        "    return sum(set(range(min(nums), max(nums) + 1)) - set(nums))\n",
        "\n",
        "# Método 4bis. Previene el caso de lista vacía\n",
        "def sum_missing_numbers(nums):\n",
        "    try:\n",
        "        return sum(set(range(min(nums), max(nums) + 1)) - set(nums))\n",
        "    except ValueError:\n",
        "        return 0  # o cualquier otro valor que tenga sentido para una lista vacía"
      ],
      "metadata": {
        "id": "NUZheGy3J4Yk"
      },
      "execution_count": null,
      "outputs": []
    },
    {
      "cell_type": "code",
      "source": [
        "print(sum_missing_numbers([4, 3, 8, 1, 2]))             # 18\n",
        "print(sum_missing_numbers([17, 16, 15, 10, 11, 12]))    # 27\n",
        "print(sum_missing_numbers([1, 2, 3, 5, 4]))             # 0\n",
        "print(sum_missing_numbers([]))                          # 0 (Caso de lista vacía)"
      ],
      "metadata": {
        "id": "OsMIsl4xJ4Yk",
        "colab": {
          "base_uri": "https://localhost:8080/"
        },
        "outputId": "7133e080-8434-471e-a424-6698517f49cc"
      },
      "execution_count": null,
      "outputs": [
        {
          "output_type": "stream",
          "name": "stdout",
          "text": [
            "18\n",
            "27\n",
            "0\n",
            "0\n"
          ]
        }
      ]
    },
    {
      "cell_type": "markdown",
      "source": [
        "## Reto 527: Conteo de mayúsculas con errores\n",
        "* Buggy Uppercase Counting\n",
        "* Considere la siguiente función.\n",
        "\n",
        "```python\n",
        "def count_uppercase(lst):\n",
        "\treturn sum(letter.isupper() for letter in word for word in lst)\n",
        "```\n",
        "* La función está destinada a devolver cuántas letras mayúsculas hay en una lista de varias palabras.\n",
        "* ¡Arregla la comprensión de la lista para que el código funcione normalmente!\n",
        "\n",
        "* **Ejemplos**\n",
        "```\n",
        "count_uppercase([\"SOLO\", \"hello\", \"Tea\", \"wHat\"]) ➞ 6\n",
        "count_uppercase([\"little\", \"lower\", \"down\"]) ➞ 0\n",
        "count_uppercase([\"AUTOdidact\", \"educate\", \"Coding\"]) ➞ 5\n",
        "```"
      ],
      "metadata": {
        "id": "cklCP4WwJ4f_"
      }
    },
    {
      "cell_type": "code",
      "source": [
        "def count_uppercase(lst):\n",
        "    return sum(letter.isupper() for word in lst for letter in word)"
      ],
      "metadata": {
        "id": "CfK4xyRhJ4f_"
      },
      "execution_count": null,
      "outputs": []
    },
    {
      "cell_type": "code",
      "source": [
        "print(count_uppercase([\"SOLO\", \"hello\", \"Tea\", \"wHat\"]))        # 6\n",
        "print(count_uppercase([\"little\", \"lower\", \"down\"]))             # 0\n",
        "print(count_uppercase([\"AUTOdidact\", \"educate\", \"Coding\"]))     # 5"
      ],
      "metadata": {
        "id": "nGBYgdmWJ4f_",
        "colab": {
          "base_uri": "https://localhost:8080/"
        },
        "outputId": "df399ca5-aade-40a2-9b85-019708717176"
      },
      "execution_count": null,
      "outputs": [
        {
          "output_type": "stream",
          "name": "stdout",
          "text": [
            "6\n",
            "0\n",
            "5\n"
          ]
        }
      ]
    },
    {
      "cell_type": "markdown",
      "source": [
        "## Reto 528: Diagonal de un Cubo\n",
        "* Diagonal of a Cube\n",
        "* Crea una función que tome el volumen de un cubo y devuelva la longitud de la diagonal principal del cubo, redondeada a dos decimales.\n",
        "\n",
        "* **Ejemplos**\n",
        "\n",
        "```\n",
        "cube_diagonal(8) ➞ 3.46\n",
        "cube_diagonal(343) ➞ 12.12\n",
        "cube_diagonal(1157.625) ➞ 18.19\n",
        "```\n",
        "* **Notas**\n",
        "- Utiliza la función `sqrt` del módulo de matemáticas.\n",
        "- Diagonal de un cubo: $\\sqrt{3} \\cdot x$"
      ],
      "metadata": {
        "id": "h_FCdlipJ4na"
      }
    },
    {
      "cell_type": "code",
      "source": [
        "# Método 1\n",
        "def cube_diagonal(vol):\n",
        "    diagonal = 3**.5 * vol ** (1/3)\n",
        "    return f'{diagonal:.2f}'\n",
        "\n",
        "# Método 2\n",
        "import math\n",
        "\n",
        "def cube_diagonal(volume):\n",
        "    side_length = volume ** (1/3)\n",
        "    diagonal = round(math.sqrt(3) * side_length, 2)\n",
        "    return diagonal"
      ],
      "metadata": {
        "id": "rirzzGxdJ4na"
      },
      "execution_count": null,
      "outputs": []
    },
    {
      "cell_type": "code",
      "source": [
        "print(cube_diagonal(8))\n",
        "print(cube_diagonal(343))\n",
        "print(cube_diagonal(1157.625))"
      ],
      "metadata": {
        "id": "TdKhyFKRJ4na",
        "outputId": "16e58920-8381-4660-dec9-472fd3ffa660",
        "colab": {
          "base_uri": "https://localhost:8080/"
        }
      },
      "execution_count": null,
      "outputs": [
        {
          "output_type": "stream",
          "name": "stdout",
          "text": [
            "3.46\n",
            "12.12\n",
            "18.19\n"
          ]
        }
      ]
    },
    {
      "cell_type": "markdown",
      "source": [
        "## Reto 529: El Quinto Argumento\n",
        "* The Fifth Argument\n",
        "* Crea una función (llamada fifth) que tome algunos argumentos y devuelva el tipo del quinto argumento. En caso de que los argumentos sean menos de 5, devuelve `\"Not enough arguments\"`.\n",
        "* **Ejemplos**\n",
        "\n",
        "```\n",
        "fifth(1, 2, 3, 4, 5) ➞ int\n",
        "fifth(\"a\", 2, 3, [1, 2, 3], \"five\") ➞ str\n",
        "fifth() ➞ \"Not enough arguments\"\n",
        "```\n",
        "* **Nota**\n",
        "    - Recuerda la indexación desde cero."
      ],
      "metadata": {
        "id": "qrAew1HVJ4uu"
      }
    },
    {
      "cell_type": "code",
      "source": [
        "# Método 1\n",
        "def fifth(*args):\n",
        "    if len(args) >= 5:\n",
        "        return type(args[4])\n",
        "    return \"Not enough arguments\"\n",
        "\n",
        "# Método 2. Imprime int en lugar de <class 'int'>, análogo con str\n",
        "def fifth(*args):\n",
        "    if len(args) < 5:\n",
        "        return \"Not enough arguments\"\n",
        "    return args[4].__class__.__name__\n",
        "\n",
        "# Método 3\n",
        "def fifth(*args):\n",
        "    try:\n",
        "        return type(args[4])\n",
        "    except IndexError:\n",
        "        return \"Not enough arguments\""
      ],
      "metadata": {
        "id": "6izl31Y2J4uu"
      },
      "execution_count": null,
      "outputs": []
    },
    {
      "cell_type": "code",
      "source": [
        "print(fifth(1, 2, 3, 4, 5))                 # int\n",
        "print(fifth(\"a\", 2, 3, [1, 2, 3], \"five\"))  # str\n",
        "print(fifth())                              # Not enough arguments\n",
        "print(fifth('a', 'b', 'c'))                 # Not enough arguments"
      ],
      "metadata": {
        "id": "JjSVAuUTJ4uu",
        "outputId": "7060ceb7-8b93-46b5-ad74-7e5a12377a42",
        "colab": {
          "base_uri": "https://localhost:8080/"
        }
      },
      "execution_count": null,
      "outputs": [
        {
          "output_type": "stream",
          "name": "stdout",
          "text": [
            "<class 'int'>\n",
            "<class 'str'>\n",
            "Not enough arguments\n",
            "Not enough arguments\n"
          ]
        }
      ]
    },
    {
      "cell_type": "markdown",
      "source": [
        "## Reto 530: Neutralización\n",
        "* Neutralisation\n",
        "* Dadas dos cadenas compuestas por `+` y `-`, devuelve una nueva cadena que muestre cómo interactúan las dos cadenas de la siguiente manera:\n",
        "    1. Cuando los positivos interactúan con positivos, *permanecen positivos*.\n",
        "    2. Cuando los negativos interactúan con negativos, *permanecen negativos*.\n",
        "    3. Pero cuando los negativos y positivos interactúan, *se vuelven neutrales*, y se muestran como el número `0`.\n",
        "\n",
        "* **Ejemplos**\n",
        "\n",
        "```\n",
        "neutralizar(\"+-+\", \"+--\") ➞ \"+-0\"\n",
        "neutralizar(\"--++--\", \"++--++\") ➞ \"000000\"\n",
        "neutralizar(\"-+-+-+\", \"-+-+-+\") ➞ \"-+-+-+\"\n",
        "neutralizar(\"-++-\", \"-+-+\") ➞ \"-+00\"\n",
        "```\n",
        "\n",
        "* **Nota**\n",
        "    - Las dos cadenas tendrán la misma longitud."
      ],
      "metadata": {
        "id": "JgzXD5JvJ42h"
      }
    },
    {
      "cell_type": "code",
      "source": [
        "# Método 1\n",
        "def neutralizar(s1, s2):\n",
        "    result = \"\"\n",
        "    for i in range(len(s1)):\n",
        "        if s1[i] == s2[i]:\n",
        "            result += s1[i]\n",
        "        else:\n",
        "            result += '0'\n",
        "    return result\n",
        "\n",
        "# Método 2\n",
        "def neutralizar(s1, s2):\n",
        "    return ''.join(a if a == b else '0' for a, b in zip(s1, s2))\n",
        "\n",
        "# Método 3\n",
        "def neutralizar(s1, s2):\n",
        "    return ''.join(map(lambda x, y: x if x == y else '0', s1, s2))\n",
        "\n",
        "# Método 4\n",
        "def neutralizar(s1, s2):\n",
        "    return ''.join(s1[i] if c == s2[i] else '0' for i, c in enumerate(s1))\n",
        "\n",
        "# Método 5\n",
        "def neutralizar(s1, s2):\n",
        "    resultado = \"\"\n",
        "    lista1 = list(s1)\n",
        "    lista2 = list(s2)\n",
        "    while lista1 and lista2:\n",
        "        c1 = lista1.pop(0)\n",
        "        c2 = lista2.pop(0)\n",
        "        resultado += c1 if c1 == c2 else '0'\n",
        "    return resultado"
      ],
      "metadata": {
        "id": "uJN9E-afJ42h"
      },
      "execution_count": null,
      "outputs": []
    },
    {
      "cell_type": "code",
      "source": [
        "print(neutralizar(\"+-+\", \"+--\"))\n",
        "print(neutralizar(\"--++--\", \"++--++\"))\n",
        "print(neutralizar(\"-+-+-+\", \"-+-+-+\"))\n",
        "print(neutralizar(\"-++-\", \"-+-+\"))"
      ],
      "metadata": {
        "id": "ZeE6TLYBJ42h",
        "colab": {
          "base_uri": "https://localhost:8080/"
        },
        "outputId": "17988d8b-26d5-4c0d-95bc-8234e2848638"
      },
      "execution_count": null,
      "outputs": [
        {
          "output_type": "stream",
          "name": "stdout",
          "text": [
            "+-0\n",
            "000000\n",
            "-+-+-+\n",
            "-+00\n"
          ]
        }
      ]
    },
    {
      "cell_type": "markdown",
      "source": [
        "## Reto 531: Estantería de Libros\n",
        "* Book Shelf\n",
        "* Crea una **clase** `Book` (Libro) que tenga **dos atributos**:\n",
        "    1. `.title` (título)\n",
        "    2. `.author` (autor)\n",
        "\n",
        "y **dos métodos**:\n",
        "\n",
        "    1. Un método llamado `.get_title()` que devuelve: `\"Title: \"` + el título de la instancia.\n",
        "    2. Un método llamado `.get_author()` que devuelve: `\"Author: \"` + el autor de la instancia.\n",
        "\n",
        "e instancia esta clase creando 3 nuevos libros:\n",
        "\n",
        "    1. Orgullo y Prejuicio - Jane Austen (**PP**)\n",
        "    2. Hamlet - William Shakespeare (**H**)\n",
        "    3. Guerra y Paz - León Tolstói (**WP**)\n",
        "\n",
        "El nombre de las nuevas instancias debe ser **PP**, **H** y **WP**, respectivamente.\n",
        "\n",
        "Por ejemplo, si instanciara el siguiente libro usando esta clase `Book`:\n",
        "\n",
        "    * Harry Potter - J.K. Rowling (HP)\n",
        "\n",
        "Obtendría los siguientes atributos y métodos:\n",
        "\n",
        "* **Ejemplos**\n",
        "\n",
        "```\n",
        "HP.title ➞ \"Harry Potter\"\n",
        "HP.author ➞ \"J.K. Rowling\"\n",
        "HP.get_title() ➞ \"Title: Harry Potter\"\n",
        "HP.get_author() ➞ \"Author: J.K. Rowling\"\n",
        "```\n",
        "\n",
        "* **Nota**\n",
        "    - Recuerda, después de terminar de escribir la **clase** y sus **métodos**, debes instanciarla mediante la creación de nuevos objetos."
      ],
      "metadata": {
        "id": "MpNyY2GRKKQy"
      }
    },
    {
      "cell_type": "code",
      "source": [
        "# Método 1\n",
        "class Book:\n",
        "    def __init__(self, title, author):\n",
        "        self.title = title\n",
        "        self.author = author\n",
        "\n",
        "    def get_title(self):\n",
        "        return f\"Title: {self.title}\"\n",
        "\n",
        "    def get_author(self):\n",
        "        return f\"Author: {self.author}\"\n",
        "\n",
        "# Instanciación de la clase Book\n",
        "PP = Book(\"Pride and Prejudice\", \"Jane Austen\")\n",
        "H = Book(\"Hamlet\", \"William Shakespeare\")\n",
        "WP = Book(\"War and Peace\", \"Leo Tolstoy\")"
      ],
      "metadata": {
        "id": "N3VTCQFmKKQy"
      },
      "execution_count": null,
      "outputs": []
    },
    {
      "cell_type": "code",
      "source": [
        "# Prueba de los métodos\n",
        "print(PP.get_title())\n",
        "print(PP.get_author())\n",
        "print(H.get_title())\n",
        "print(H.get_author())\n",
        "print(WP.get_title())\n",
        "print(WP.get_author())"
      ],
      "metadata": {
        "id": "HHvQKALwKKQy",
        "colab": {
          "base_uri": "https://localhost:8080/"
        },
        "outputId": "c26893b3-fc0a-4aab-e3f4-fe6d613672ce"
      },
      "execution_count": null,
      "outputs": [
        {
          "output_type": "stream",
          "name": "stdout",
          "text": [
            "Title: Pride and Prejudice\n",
            "Author: Jane Austen\n",
            "Title: Hamlet\n",
            "Author: William Shakespeare\n",
            "Title: War and Peace\n",
            "Author: Leo Tolstoy\n"
          ]
        }
      ]
    },
    {
      "cell_type": "markdown",
      "source": [
        "#### Comentario\n",
        "Los métodos `get_title()` y `get_author()` son lo que se conoce comúnmente como \"getters\" o \"métodos getter\" en programación orientada a objetos.\n",
        "\n",
        "Los getters son métodos que se utilizan para obtener (o \"get\") el valor de un atributo de un objeto. Tienen varias ventajas:\n",
        "\n",
        "1. Encapsulación: Permiten controlar el acceso a los atributos de un objeto, lo que es un principio importante de la programación orientada a objetos.\n",
        "\n",
        "2. Flexibilidad: Puedes cambiar la implementación interna de la clase sin afectar el código que la utiliza.\n",
        "\n",
        "3. Validación: Puedes añadir lógica adicional, como validación de datos, antes de devolver el valor.\n",
        "\n",
        "4. Formato: Como en este caso, puedes devolver el valor en un formato específico (añadiendo \"Title:\" o \"Author:\" antes del valor).\n",
        "\n",
        "En Python, debido a su filosofía de \"we're all consenting adults here\" (todos somos adultos conscientes), a menudo se accede directamente a los atributos sin usar getters. Sin embargo, Python proporciona el decorador `@property` que permite definir getters de una manera más \"pythonica\".\n",
        "\n",
        "Si quisiéramos reescribir la clase usando propiedades de Python, podría verse así:\n",
        "\n",
        "```python\n",
        "class Book:\n",
        "    def __init__(self, title, author):\n",
        "        self._title = title\n",
        "        self._author = author\n",
        "    \n",
        "    @property\n",
        "    def title(self):\n",
        "        return f\"Title: {self._title}\"\n",
        "    \n",
        "    @property\n",
        "    def author(self):\n",
        "        return f\"Author: {self._author}\"\n",
        "\n",
        "# Uso\n",
        "book = Book(\"1984\", \"George Orwell\")\n",
        "print(book.title)  # Imprime: Title: 1984\n",
        "print(book.author)  # Imprime: Author: George Orwell\n",
        "```\n",
        "\n",
        "En este caso, `title` y `author` se comportan como atributos cuando se accede a ellos, pero en realidad son métodos que pueden contener lógica adicional."
      ],
      "metadata": {
        "id": "r3qcWZC8V2Uu"
      }
    },
    {
      "cell_type": "markdown",
      "source": [
        "## Reto 532: Calcular el Precio Total de la Compra\n",
        "* Calculate the Total Price of Groceries\n",
        "* Crea una función que tome una lista de diccionarios (productos) que calcule el precio total y lo devuelva como un número. Un diccionario de producto tiene un producto, una cantidad y un precio, por ejemplo:\n",
        "\n",
        "```\n",
        "{\n",
        "  \"producto\": \"Leche\",\n",
        "  \"cantidad\": 1,\n",
        "  \"precio\": 1.50\n",
        "}\n",
        "```\n",
        "\n",
        "**Ejemplos**\n",
        "\n",
        "```\n",
        "#1 botella de leche:\n",
        "obtener_precio_total([\n",
        "  { \"producto\": \"Leche\", \"cantidad\": 1, \"precio\": 1.50 }\n",
        "]) ➞ 1.5\n",
        "\n",
        "#1 botella de leche y 1 caja de cereales:\n",
        "obtener_precio_total([\n",
        "  { \"producto\": \"Leche\", \"cantidad\": 1, \"precio\": 1.50 },\n",
        "  { \"producto\": \"Cereales\", \"cantidad\": 1, \"precio\": 2.50 }\n",
        "]) ➞ 4\n",
        "\n",
        "#3 botellas de leche:\n",
        "obtener_precio_total([\n",
        "  { \"producto\": \"Leche\", \"cantidad\": 3, \"precio\": 1.50 }\n",
        "]) ➞ 4.5\n",
        "\n",
        "#Varios productos:\n",
        "obtener_precio_total([\n",
        "  { \"producto\": \"Leche\", \"cantidad\": 1, \"precio\": 1.50 },\n",
        "  { \"producto\": \"Huevos\", \"cantidad\": 12, \"precio\": 0.10 },\n",
        "  { \"producto\": \"Pan\", \"cantidad\": 2, \"precio\": 1.60 },\n",
        "  { \"producto\": \"Queso\", \"cantidad\": 1, \"precio\": 4.50 }\n",
        "]) ➞ 10.4\n",
        "\n",
        "#Algunos dulces baratos:\n",
        "obtener_precio_total([\n",
        "  { \"producto\": \"Chocolate\", \"cantidad\": 1, \"precio\": 0.10 },\n",
        "  { \"producto\": \"Paleta\", \"cantidad\": 1, \"precio\": 0.20 }\n",
        "]) ➞ 0.3\n",
        "```\n",
        "\n",
        "* **Notas**\n",
        "    - Puede haber un problema de precisión de punto flotante aquí..."
      ],
      "metadata": {
        "id": "ltitQmDRKKZa"
      }
    },
    {
      "cell_type": "code",
      "source": [
        "# Método 1\n",
        "def obtener_precio_total(productos):\n",
        "    total = sum(producto[\"cantidad\"] * producto[\"precio\"] for producto in productos)\n",
        "    return round(total, 2)"
      ],
      "metadata": {
        "id": "yOxHyMbxKKZa"
      },
      "execution_count": null,
      "outputs": []
    },
    {
      "cell_type": "code",
      "source": [
        "# Caso 1: 1 botella de leche\n",
        "print(obtener_precio_total([\n",
        "    {\"producto\": \"Leche\", \"cantidad\": 1, \"precio\": 1.50}\n",
        "]))  # Debería imprimir 1.5\n",
        "\n",
        "# Caso 2: 1 botella de leche y 1 caja de cereales\n",
        "print(obtener_precio_total([\n",
        "    {\"producto\": \"Leche\", \"cantidad\": 1, \"precio\": 1.50},\n",
        "    {\"producto\": \"Cereales\", \"cantidad\": 1, \"precio\": 2.50}\n",
        "]))  # Debería imprimir 4.0\n",
        "\n",
        "# Caso 3: 3 botellas de leche\n",
        "print(obtener_precio_total([\n",
        "    {\"producto\": \"Leche\", \"cantidad\": 3, \"precio\": 1.50}\n",
        "]))  # Debería imprimir 4.5\n",
        "\n",
        "# Caso 4: Varios productos\n",
        "print(obtener_precio_total([\n",
        "    {\"producto\": \"Leche\", \"cantidad\": 1, \"precio\": 1.50},\n",
        "    {\"producto\": \"Huevos\", \"cantidad\": 12, \"precio\": 0.10},\n",
        "    {\"producto\": \"Pan\", \"cantidad\": 2, \"precio\": 1.60},\n",
        "    {\"producto\": \"Queso\", \"cantidad\": 1, \"precio\": 4.50}\n",
        "]))  # Debería imprimir 10.4\n",
        "\n",
        "# Caso 5: Algunos dulces baratos\n",
        "print(obtener_precio_total([\n",
        "    {\"producto\": \"Chocolate\", \"cantidad\": 1, \"precio\": 0.10},\n",
        "    {\"producto\": \"Paleta\", \"cantidad\": 1, \"precio\": 0.20}\n",
        "]))  # Debería imprimir 0.3"
      ],
      "metadata": {
        "id": "q7bgTLszKKZa",
        "colab": {
          "base_uri": "https://localhost:8080/"
        },
        "outputId": "a17f3e0b-f36a-4b25-a5b8-a31757f8a8f2"
      },
      "execution_count": null,
      "outputs": [
        {
          "output_type": "stream",
          "name": "stdout",
          "text": [
            "1.5\n",
            "4.0\n",
            "4.5\n",
            "10.4\n",
            "0.3\n"
          ]
        }
      ]
    },
    {
      "cell_type": "markdown",
      "source": [
        "## Reto 533: Cuadrados y Cubos\n",
        "* Squares and Cubes\n",
        "* Crea una función que tome una lista de dos números y verifique si la **raíz cuadrada** del primer número es igual a la **raíz cúbica** del segundo número.\n",
        "\n",
        "**Ejemplos**\n",
        "\n",
        "```\n",
        "check_square_and_cube([4, 8])        ➞ True\n",
        "check_square_and_cube([9, 27])       ➞ True\n",
        "check_square_and_cube([16, 64])      ➞ True\n",
        "check_square_and_cube([100, 1000])   ➞ True\n",
        "check_square_and_cube([441, 9261])   ➞ True\n",
        "check_square_and_cube([2, 3])        ➞ False\n",
        "```\n",
        "\n",
        "* **Notas**\n",
        "    - Recuerda devolver `True` o `False`.\n",
        "    - Todas las listas contienen *dos números positivos*."
      ],
      "metadata": {
        "id": "a42FhwZTKKgy"
      }
    },
    {
      "cell_type": "code",
      "source": [
        "# Método 1\n",
        "def check_square_and_cube(lst):\n",
        "    a, b = lst\n",
        "    return a ** 3 == b ** 2\n",
        "\n",
        "# Método 2\n",
        "import math\n",
        "\n",
        "def check_square_and_cube(lista):\n",
        "    if len(lista) != 2:\n",
        "        return False\n",
        "\n",
        "    raiz_cuadrada = math.sqrt(lista[0])\n",
        "    raiz_cubica = math.pow(lista[1], 1/3)\n",
        "\n",
        "    return math.isclose(raiz_cuadrada, raiz_cubica)\n",
        "\n",
        "# Método 3. Usando NumPy\n",
        "import numpy as np\n",
        "\n",
        "def check_square_and_cube(lista):\n",
        "    if len(lista) != 2:\n",
        "        return False\n",
        "\n",
        "    raiz_cuadrada = np.sqrt(lista[0])\n",
        "    raiz_cubica = np.cbrt(lista[1])\n",
        "\n",
        "    return np.isclose(raiz_cuadrada, raiz_cubica)"
      ],
      "metadata": {
        "id": "weROzSbxKKgy"
      },
      "execution_count": null,
      "outputs": []
    },
    {
      "cell_type": "code",
      "source": [
        "print(check_square_and_cube([4, 8]))        # True\n",
        "print(check_square_and_cube([9, 27]))       # True\n",
        "print(check_square_and_cube([16, 64]))      # True\n",
        "print(check_square_and_cube([100, 1000]))   # True\n",
        "print(check_square_and_cube([441, 9261]))   # True\n",
        "print(check_square_and_cube([2, 3]))        # False"
      ],
      "metadata": {
        "id": "XeJ_yYXsKKgy",
        "colab": {
          "base_uri": "https://localhost:8080/"
        },
        "outputId": "54cb9ba7-4bdc-4a27-db94-176e0fea1242"
      },
      "execution_count": null,
      "outputs": [
        {
          "output_type": "stream",
          "name": "stdout",
          "text": [
            "True\n",
            "True\n",
            "True\n",
            "True\n",
            "True\n",
            "False\n"
          ]
        }
      ]
    },
    {
      "cell_type": "markdown",
      "source": [
        "## Reto 534: Haciendo una Cuenta Regresiva\n",
        "* Making a Countdown\n",
        "* Crea una función countdown donde, dado el *número* `n` desde el cual hacer la cuenta regresiva y *algunas palabras* `txt`, devuelva una secuencia de cuenta regresiva como una cadena de texto que conduzca a las palabras al final.\n",
        "* Pon un **punto** después de cada número y **pon en mayúsculas** y agrega un **signo de exclamación** a la palabra.\n",
        "\n",
        "* **Ejemplos**\n",
        "\n",
        "```\n",
        "countdown(10, \"Blast Off\") ➞ \"10. 9. 8. 7. 6. 5. 4. 3. 2. 1. BLAST OFF!\"\n",
        "countdown(3, \"go\") ➞ \"3. 2. 1. GO!\"\n",
        "countdown(5, \"FIRE\") ➞ \"5. 4. 3. 2. 1. FIRE!\"\n",
        "```\n",
        "\n",
        "* **Notas**\n",
        "* `n` será un número mayor que 0.\n",
        "* `txt` no incluirá ya un signo de exclamación.\n",
        "* No incluyas el **0** en la cuenta regresiva."
      ],
      "metadata": {
        "id": "PW3dG2GVKKnj"
      }
    },
    {
      "cell_type": "code",
      "source": [
        "# Método 1\n",
        "def countdown(n, txt):\n",
        "    return '. '.join(str(i) for i in range(n,0,-1)) + '. ' + txt.upper() + '!'\n",
        "\n",
        "# Método 2\n",
        "def countdown(n, txt):\n",
        "    countdown_sequence = '. '.join(str(i) for i in range(n, 0, -1))\n",
        "    return f\"{countdown_sequence}. {txt.upper()}!\""
      ],
      "metadata": {
        "id": "Xa8nKq5aKKnj"
      },
      "execution_count": null,
      "outputs": []
    },
    {
      "cell_type": "code",
      "source": [
        "print(countdown(10, \"Blast Off\"))\n",
        "print(countdown(3, \"go\"))\n",
        "print(countdown(5, \"FIRE\"))\n",
        "print(countdown(6, \"happy new year\"))"
      ],
      "metadata": {
        "id": "mrkDblQcKKnj",
        "colab": {
          "base_uri": "https://localhost:8080/"
        },
        "outputId": "0431058d-3607-490b-9894-2988101f67fa"
      },
      "execution_count": null,
      "outputs": [
        {
          "output_type": "stream",
          "name": "stdout",
          "text": [
            "10. 9. 8. 7. 6. 5. 4. 3. 2. 1. BLAST OFF!\n",
            "3. 2. 1. GO!\n",
            "5. 4. 3. 2. 1. FIRE!\n",
            "6. 5. 4. 3. 2. 1. HAPPY NEW YEAR!\n"
          ]
        }
      ]
    },
    {
      "cell_type": "markdown",
      "source": [
        "## Reto 535: Pedidos Costosos\n",
        "* Expensive Orders\n",
        "* Escribe una función que tenga dos parámetros: `orders` y `cost`.\n",
        "* Devuelve cualquier pedido que sea mayor que el costo.\n",
        "* **Ejemplos**\n",
        "\n",
        "```\n",
        "expensive_orders({ \"a\": 3000, \"b\": 200, \"c\": 1050 }, 1000)\n",
        "➞ { \"a\": 3000, \"c\": 1050 }\n",
        "\n",
        "expensive_orders({ \"Abrigo de piel Gucci\": 24600, \"Mesa de comedor de teca\": 3200, \"Bolso Louis Vuitton\": 5550, \"Tacones Dolce Gabbana\": 4000 }, 20000)\n",
        "➞ { \"Abrigo de piel Gucci\": 24600 }\n",
        "\n",
        "expensive_orders({ \"Hamburguesa Deluxe\": 35, \"Batido de helado\": 4, \"Papas fritas\": 5 }, 40)\n",
        "➞ {}\n",
        "```"
      ],
      "metadata": {
        "id": "s4LZ29zOKKtx"
      }
    },
    {
      "cell_type": "code",
      "source": [
        "# Método 1\n",
        "def expensive_orders(orders, cost):\n",
        "    return {k: v for k, v in orders.items() if v > cost}\n",
        "\n",
        "# Método 2\n",
        "def expensive_orders(orders, cost):\n",
        "    result = {}\n",
        "    for item, price in orders.items():\n",
        "        if price > cost:\n",
        "            result[item] = price\n",
        "    return result\n",
        "\n",
        "# Método 3\n",
        "def expensive_orders(orders, cost):\n",
        "    return dict(filter(lambda x: x[1] > cost, orders.items()))\n",
        "\n",
        "# Método 4\n",
        "def expensive_orders(orders, cost):\n",
        "    keys = orders.keys()\n",
        "    values = orders.values()\n",
        "    result = dict(zip(keys, map(lambda x: x if x > cost else None, values)))\n",
        "    return {k: v for k, v in result.items() if v is not None}\n",
        "\n",
        "# Método 5. Con Pandas convirtiendo el diccionario en un Data Frame\n",
        "import pandas as pd\n",
        "\n",
        "def expensive_orders(orders, cost):\n",
        "    # Convertir el diccionario a DataFrame\n",
        "    df = pd.DataFrame.from_dict(orders, orient='index', columns=['price'])\n",
        "\n",
        "    # Filtrar los pedidos costosos\n",
        "    expensive = df[df['price'] > cost]\n",
        "\n",
        "    # Convertir el resultado de vuelta a diccionario\n",
        "    return expensive['price'].to_dict()"
      ],
      "metadata": {
        "id": "khpCuV6QKKtx"
      },
      "execution_count": null,
      "outputs": []
    },
    {
      "cell_type": "code",
      "source": [
        "print(expensive_orders({ \"a\": 3000, \"b\": 200, \"c\": 1050 }, 1000))\n",
        "# Salida: { \"a\": 3000, \"c\": 1050 }\n",
        "\n",
        "print(expensive_orders({ \"Gucci Fur\": 24600, \"Teak Dining Table\": 3200, \"Louis Vutton Bag\": 5550, \"Dolce Gabana Heels\": 4000 }, 20000))\n",
        "# Salida: { \"Gucci Fur\": 24600 }\n",
        "\n",
        "print(expensive_orders({ \"Deluxe Burger\": 35, \"Icecream Shake\": 4, \"Fries\": 5 }, 40))\n",
        "# Salida: {}"
      ],
      "metadata": {
        "id": "HqqVth6vKKtx",
        "colab": {
          "base_uri": "https://localhost:8080/"
        },
        "outputId": "cf2ebf98-88b2-443e-f9ce-acd8e31d08fb"
      },
      "execution_count": null,
      "outputs": [
        {
          "output_type": "stream",
          "name": "stdout",
          "text": [
            "{'a': 3000, 'c': 1050}\n",
            "{'Gucci Fur': 24600}\n",
            "{}\n"
          ]
        }
      ]
    },
    {
      "cell_type": "markdown",
      "source": [
        "## Reto 536: La Prueba Fizz Buzz\n",
        "* The Fizz Buzz Test\n",
        "* Escribe un programa que devuelva una lista de todos los números del 1 hasta un argumento entero (n).\n",
        "* Pero para los múltiplos de tres usa \"Fizz\" en lugar del número y para los múltiplos de cinco usa \"Buzz\". Para los números que son múltiplos de tres y cinco usa \"FizzBuzz\".\n",
        "\n",
        "* **Ejemplo**\n",
        "\n",
        "```\n",
        "fizz_buzz(10) ➞ [1, 2, \"Fizz\", 4, \"Buzz\", \"Fizz\", 7, 8, \"Fizz\", \"Buzz\"]\n",
        "\n",
        "fizz_buzz(15) ➞ [1, 2, \"Fizz\", 4, \"Buzz\", \"Fizz\", 7, 8, \"Fizz\", \"Buzz\", 11, \"Fizz\", 13, 14, \"FizzBuzz\"]\n",
        "```\n",
        "\n",
        "* **Notas**\n",
        "    - Asegúrate de `devolver` una lista."
      ],
      "metadata": {
        "id": "VFFIzH2dKK0H"
      }
    },
    {
      "cell_type": "code",
      "source": [
        "# Método 1\n",
        "def fizz_buzz(n):\n",
        "    result = []\n",
        "    for i in range(1, n + 1):\n",
        "        if i % 3 == 0 and i % 5 == 0:\n",
        "            result.append(\"FizzBuzz\")\n",
        "        elif i % 3 == 0:\n",
        "            result.append(\"Fizz\")\n",
        "        elif i % 5 == 0:\n",
        "            result.append(\"Buzz\")\n",
        "        else:\n",
        "            result.append(i)\n",
        "    return result\n",
        "\n",
        "# Método 2. Múltiplos de 15\n",
        "def fizz_buzz(n):\n",
        "    result = []\n",
        "    for i in range(1, n + 1):\n",
        "        if i % 15 == 0:\n",
        "            result.append(\"FizzBuzz\")\n",
        "        elif i % 3 == 0:\n",
        "            result.append(\"Fizz\")\n",
        "        elif i % 5 == 0:\n",
        "            result.append(\"Buzz\")\n",
        "        else:\n",
        "            result.append(i)\n",
        "    return result\n",
        "\n",
        "# Método 3\n",
        "def fizz_buzz(n):\n",
        "    return [\"FizzBuzz\" if i % 15 == 0 else \"Fizz\" if i % 3 == 0 else \"Buzz\" if i % 5 == 0 else i for i in range(1, n + 1)]"
      ],
      "metadata": {
        "id": "W1LYOLY-KK0H"
      },
      "execution_count": null,
      "outputs": []
    },
    {
      "cell_type": "code",
      "source": [
        "print(fizz_buzz(3))\n",
        "print(fizz_buzz(10))\n",
        "print(fizz_buzz(15))\n",
        "print(fizz_buzz(20))"
      ],
      "metadata": {
        "id": "-V3auLj3KK0H",
        "colab": {
          "base_uri": "https://localhost:8080/"
        },
        "outputId": "2471c03d-7d0e-48b5-a949-3dae4cc780bb"
      },
      "execution_count": null,
      "outputs": [
        {
          "output_type": "stream",
          "name": "stdout",
          "text": [
            "[1, 2, 'Fizz']\n",
            "[1, 2, 'Fizz', 4, 'Buzz', 'Fizz', 7, 8, 'Fizz', 'Buzz']\n",
            "[1, 2, 'Fizz', 4, 'Buzz', 'Fizz', 7, 8, 'Fizz', 'Buzz', 11, 'Fizz', 13, 14, 'FizzBuzz']\n",
            "[1, 2, 'Fizz', 4, 'Buzz', 'Fizz', 7, 8, 'Fizz', 'Buzz', 11, 'Fizz', 13, 14, 'FizzBuzz', 16, 17, 'Fizz', 19, 'Buzz']\n"
          ]
        }
      ]
    },
    {
      "cell_type": "markdown",
      "source": [
        "## Reto 537: Billete de lotería\n",
        "* Lottery Ticket\n",
        "* Dado un boleto de lotería (ticket), representado por una lista de listas de 2 valores, crea una función para determinar si has ganado el premio mayor.\n",
        "* Para hacer esto, primero debes contar las \"mini-victorias\" en tu boleto. Cada sublista tiene una cadena de texto y un número dentro de ella. Si el código de carácter de alguno de los caracteres en la cadena coincide con el número, obtienes una mini-victoria. Nota que solo puedes tener una mini-victoria por sublista.\n",
        "\n",
        "* Una vez que hayas contado todas tus mini-victorias, compara ese número con el otro valor proporcionado (win). Si tu número de mini-victorias es mayor o igual a win, retorna \"¡Ganador!\". De lo contrario, retorna \"¡Perdedor!\".\n",
        "\n",
        "* **Ejemplos**\n",
        "```python\n",
        "lottery([[\"YYW\", 70], [\"WXK\", 65], [\"RPDI\", 88]], 2)\n",
        "➞ \"¡Perdedor!\"\n",
        "lottery([[\"KG\", 80], [\"NTBBVZ\", 79], [\"CI\", 73], [\"AGXMEE\", 74], [\"IU\", 68], [\"VOSP\", 84]], 1)\n",
        "➞ \"¡Ganador!\"\n",
        "lottery([[\"ZSAMZB\", 81], [\"XWWCXP\", 72], [\"SYBRQOHP\", 88], [\"HJSVV\", 75]], 1)\n",
        "➞ \"¡Perdedor!\"\n",
        "```\n",
        "* **Notas**:\n",
        "- Todas las entradas estarán en el formato correcto.\n",
        "- Las cadenas de texto en el boleto no siempre tienen la misma longitud."
      ],
      "metadata": {
        "id": "w5B5Xs4dKK6d"
      }
    },
    {
      "cell_type": "code",
      "source": [
        "# Método 1\n",
        "def lottery(ticket, win):\n",
        "    mini_victorias = 0\n",
        "    for pareja in ticket:\n",
        "        texto, numero = pareja\n",
        "        texto = ''.join(set(texto)) # elimina letras duplicadas\n",
        "        for letra in texto:\n",
        "            if ord(letra) == numero:\n",
        "                mini_victorias += 1\n",
        "    return \"¡Ganador!\" if mini_victorias >= win else \"¡Perdedor!\"\n",
        "\n",
        "# Método 2\n",
        "def lottery(ticket, win):\n",
        "    mini_wins = 0\n",
        "    for sublist in ticket:\n",
        "        string, number = sublist\n",
        "        for char in string:\n",
        "            if ord(char) == number:\n",
        "                mini_wins += 1\n",
        "                break  # Solo una mini-victoria por sublista\n",
        "    return \"¡Ganador!\" if mini_wins >= win else \"¡Perdedor!\"\n",
        "\n",
        "# Método 3\n",
        "def lottery(ticket, win):\n",
        "    mini_wins = sum(1 for string, number in ticket if any(ord(char) == number for char in string))\n",
        "    return \"¡Ganador!\" if mini_wins >= win else \"¡Perdedor!\""
      ],
      "metadata": {
        "id": "uv9pl1aFKK6d"
      },
      "execution_count": null,
      "outputs": []
    },
    {
      "cell_type": "code",
      "source": [
        "print(lottery([[\"YYW\", 70], [\"WXK\", 65], [\"RPDI\", 88]], 2))  # \"¡Perdedor!\"\n",
        "print(lottery([[\"KG\", 80], [\"NTBBVZ\", 79], [\"CI\", 73], [\"AGXMEE\", 74], [\"IU\", 68], [\"VOSP\", 84]], 1))  # \"¡Ganador!\"\n",
        "print(lottery([[\"ZSAMZB\", 81], [\"XWWCXP\", 72], [\"SYBRQOHP\", 88], [\"HJSVV\", 75]], 1))  # \"¡Perdedor!\""
      ],
      "metadata": {
        "id": "mYErrFgIKK6e",
        "colab": {
          "base_uri": "https://localhost:8080/"
        },
        "outputId": "1d0d7799-ff73-4903-d246-42ce2855f2f3"
      },
      "execution_count": null,
      "outputs": [
        {
          "output_type": "stream",
          "name": "stdout",
          "text": [
            "¡Perdedor!\n",
            "¡Ganador!\n",
            "¡Perdedor!\n"
          ]
        }
      ]
    },
    {
      "cell_type": "markdown",
      "source": [
        "## Reto 538: Censurar palabras de más de cuatro caracteres\n",
        "* Censor Words Longer Than Four Characters\n",
        "* Crea una función que tome una cadena y censure las palabras **de más de cuatro caracteres** con `*`.\n",
        "\n",
        "* **Ejemplos**\n",
        "\n",
        "```\n",
        "censor(\"The code is fourty\")         # The code is ******\n",
        "censor(\"Two plus three is five\")     # Two plus ***** is five\n",
        "censor(\"aaaa aaaaa 1234 12345\")      # aaaa ***** 1234 *****\n",
        "censor(\"La Pass es secreto\")         # La Pass es *******\n",
        "censor(\"El oro está en Málaga\")      # El oro está en ******\n",
        "censor(\"Juan gana cien mil rutpias\") # Juan gana cien mil *******\n",
        "```\n",
        "\n",
        "* **Notas**\n",
        "    - No censures palabras con exactamente cuatro caracteres.\n",
        "    - Si todas las palabras tienen cuatro caracteres o menos, devuelve la cadena original.\n",
        "    - La cantidad de `*` es la misma que la longitud de la palabra."
      ],
      "metadata": {
        "id": "YqPFE6tBKLAz"
      }
    },
    {
      "cell_type": "code",
      "source": [
        "# Método 1\n",
        "def censor(s):\n",
        "    lista = s.split()\n",
        "    for i, palabra in enumerate(lista):\n",
        "        if len(palabra) > 4:\n",
        "            lista[i] = '*' * len(palabra)\n",
        "    return ' '.join(lista)\n",
        "\n",
        "# Método 2\n",
        "def censor(texto):\n",
        "    palabras = texto.split()\n",
        "    censuradas = ['*' * len(palabra) if len(palabra) > 4 else palabra for palabra in palabras]\n",
        "    return ' '.join(censuradas)\n",
        "\n",
        "# Método 3\n",
        "def censor(texto):\n",
        "    palabras = texto.split()\n",
        "    for palabra in palabras:\n",
        "        if len(palabra) > 4:\n",
        "            texto = texto.replace(palabra, '*' * len(palabra))\n",
        "    return texto"
      ],
      "metadata": {
        "id": "QKWCLjZDKLAz"
      },
      "execution_count": null,
      "outputs": []
    },
    {
      "cell_type": "code",
      "source": [
        "print(censor(\"The code is fourty\"))         # The code is ******\n",
        "print(censor(\"Two plus three is five\"))     # Two plus ***** is five\n",
        "print(censor(\"aaaa aaaaa 1234 12345\"))      # aaaa ***** 1234 *****\n",
        "print(censor(\"La Pass es secreto\"))         # La Pass es *******\n",
        "print(censor(\"El oro está en Málaga\"))      # El oro está en ******\n",
        "print(censor(\"Juan gana cien mil rutpias\")) # Juan gana cien mil *******"
      ],
      "metadata": {
        "id": "P2h7syGAKLAz",
        "colab": {
          "base_uri": "https://localhost:8080/"
        },
        "outputId": "aa29e84b-fcd2-4090-88dd-22fa6b17e6af"
      },
      "execution_count": null,
      "outputs": [
        {
          "output_type": "stream",
          "name": "stdout",
          "text": [
            "The code is ******\n",
            "Two plus ***** is five\n",
            "aaaa ***** 1234 *****\n",
            "La Pass es *******\n",
            "El oro está en ******\n",
            "Juan gana cien mil *******\n"
          ]
        }
      ]
    },
    {
      "cell_type": "markdown",
      "source": [
        "## Reto 539: Desafío de Codificación Inversa\n",
        "* Reverse Coding Challenge #6\n",
        "* Mira los ejemplos para averiguar lo que debe hacer tu función.\n",
        "\n",
        "* **Ejemplos**\n",
        "\n",
        "```\n",
        "función_misteriosa(152) ➞ 10\n",
        "función_misteriosa(832) ➞ 48\n",
        "función_misteriosa(19) ➞ 9\n",
        "función_misteriosa(133) ➞ 9\n",
        "```"
      ],
      "metadata": {
        "id": "6Wn7DnokKLIM"
      }
    },
    {
      "cell_type": "code",
      "source": [
        "# Método 1\n",
        "def funcion_misteriosa(n):\n",
        "    # Convertir el número a string para poder iterar sobre sus dígitos\n",
        "    str_n = str(n)\n",
        "\n",
        "    # Inicializar el resultado\n",
        "    resultado = 1\n",
        "\n",
        "    # Multiplicar todos los dígitos no nulos\n",
        "    for digito in str_n:\n",
        "        if digito != '0':\n",
        "            resultado *= int(digito)\n",
        "\n",
        "    return resultado\n",
        "\n",
        "# Método 2. Sin usar str\n",
        "def funcion_misteriosa(n):\n",
        "    if n == 0:\n",
        "        return 0\n",
        "\n",
        "    resultado = 1\n",
        "    while n > 0:\n",
        "        digito = n % 10\n",
        "        if digito != 0:\n",
        "            resultado *= digito\n",
        "        n //= 10\n",
        "\n",
        "    return resultado"
      ],
      "metadata": {
        "id": "nmM2H56-KLIN"
      },
      "execution_count": null,
      "outputs": []
    },
    {
      "cell_type": "code",
      "source": [
        "print(funcion_misteriosa(152))  # 10\n",
        "print(funcion_misteriosa(832))  # 48\n",
        "print(funcion_misteriosa(19))   # 9\n",
        "print(funcion_misteriosa(133))  # 9"
      ],
      "metadata": {
        "id": "ER1D-sOMKLIN",
        "colab": {
          "base_uri": "https://localhost:8080/"
        },
        "outputId": "b63e448f-622f-40a4-fb25-3eab76c62d28"
      },
      "execution_count": null,
      "outputs": [
        {
          "output_type": "stream",
          "name": "stdout",
          "text": [
            "10\n",
            "48\n",
            "9\n",
            "9\n"
          ]
        }
      ]
    },
    {
      "cell_type": "markdown",
      "source": [
        "## Reto 540: Contar un Dígito Específico\n",
        "* Count a Specific Digit\n",
        "* Escribe una función que cuente el número de veces que aparece un dígito específico en un rango (**inclusivo**). La función se verá así:\n",
        "\n",
        "```\n",
        "ocurrencias_digito(inicio, fin, digito) ➞ número de veces que aparece el dígito\n",
        "```\n",
        "\n",
        "* **Ejemplos**\n",
        "\n",
        "```\n",
        "digit_occurrences(51, 55, 5) ➞ 6\n",
        "    - [51, 52, 53, 54, 55] : 5 aparece 6 veces\n",
        "digit_occurrences(1, 8, 9) ➞ 0\n",
        "digit_occurrences(-8, -1, 8) ➞ 1\n",
        "digit_occurrences(71, 77, 2) ➞ 1\n",
        "```\n",
        "\n",
        "* **Notas**\n",
        "    -  Los rangos pueden ser negativos.\n",
        "    - `inicio <= fin`\n"
      ],
      "metadata": {
        "id": "OIidk6MOKLPk"
      }
    },
    {
      "cell_type": "code",
      "source": [
        "# Método 1\n",
        "def digit_occurrences(start, end, digit):\n",
        "    count = 0\n",
        "    for i in range(start, end + 1):\n",
        "        count += str(i).count(str(digit))\n",
        "    return count\n",
        "\n",
        "# Método 2\n",
        "def digit_occurrences(start, end, digit):\n",
        "    count = 0\n",
        "    for i in range(start, end + 1):\n",
        "        count += str(abs(i)).count(str(digit))\n",
        "    return count\n",
        "\n",
        "# Método 3\n",
        "def digit_occurrences(start, end, digit):\n",
        "    return sum(str(abs(num)).count(str(digit)) for num in range(start, end + 1))\n",
        "\n",
        "# Método 4. Sin usar str\n",
        "def digit_occurrences(start, end, digit):\n",
        "    count = 0\n",
        "    for num in range(start, end + 1):\n",
        "        n = abs(num)\n",
        "        if n == 0 and digit == 0:\n",
        "            count += 1\n",
        "        while n > 0:\n",
        "            if n % 10 == digit:\n",
        "                count += 1\n",
        "            n //= 10\n",
        "    return count"
      ],
      "metadata": {
        "id": "FDDJ9fSOKLPk"
      },
      "execution_count": null,
      "outputs": []
    },
    {
      "cell_type": "code",
      "source": [
        "print(digit_occurrences(51, 55, 5))     # 6\n",
        "print(digit_occurrences(1, 8, 9))       # 0\n",
        "print(digit_occurrences(-8, -1, 8))     # 1\n",
        "print(digit_occurrences(71, 77, 2))     # 1"
      ],
      "metadata": {
        "id": "yrQw27_PKLPk",
        "colab": {
          "base_uri": "https://localhost:8080/"
        },
        "outputId": "e3e9fd72-5ba2-4d6b-f1c7-10d72d73b51b"
      },
      "execution_count": null,
      "outputs": [
        {
          "output_type": "stream",
          "name": "stdout",
          "text": [
            "6\n",
            "0\n",
            "1\n",
            "1\n"
          ]
        }
      ]
    },
    {
      "cell_type": "markdown",
      "source": [
        "## Reto 541: Pares de Cadenas\n",
        "* String Pairs\n",
        "* Crea una función llamada `string_pairs` que tome una cadena `s` y devuelva una lista de caracteres emparejados de dos en dos.\n",
        "* Si la cadena tiene un número impar de caracteres, agrega un asterisco `*` en el par final.\n",
        "\n",
        "* **Ejemplos**\n",
        "\n",
        "```\n",
        "string_pairs(\"rana\") ➞ [\"ra\", \"na\"]\n",
        "string_pairs(\"mirada\") ➞ [\"mi\", \"ra\", \"da\"]\n",
        "string_pairs(\"natural\") ➞ [\"na\", \"tu\", \"ra\", \"l*\"]\n",
        "string_pairs(\"\") ➞ []\n",
        "```\n",
        "\n",
        "* **Notas**\n",
        "    - Devuelve `[]` si la cadena dada está vacía."
      ],
      "metadata": {
        "id": "zBwUd6u1Kda2"
      }
    },
    {
      "cell_type": "code",
      "source": [
        "# Método 1\n",
        "def string_pairs(s):\n",
        "    lista = []\n",
        "    for i in range(0, len(s)-1, 2):\n",
        "        lista.append(s[i] + s[i+1])\n",
        "    if len(s) % 2:\n",
        "        lista.append(s[-1] + '*')\n",
        "    return lista\n",
        "\n",
        "# Método 2:\n",
        "def string_pairs(s):\n",
        "    lista = []\n",
        "    for i in range(0, len(s), 2):\n",
        "        if i + 1 < len(s):\n",
        "            lista.append(s[i:i+2])\n",
        "        else:\n",
        "            lista.append(s[i] + '*')\n",
        "    return lista\n",
        "\n",
        "# Método 3: Usando list comprehension y el operador ternario\n",
        "def string_pairs(s):\n",
        "    return [s[i:i+2] if i+1 < len(s) else s[i]+'*' for i in range(0, len(s), 2)] if s else []\n",
        "\n",
        "# Método 4. Usando zip\n",
        "def string_pairs(s):\n",
        "    # Crear pares usando zip, emparejando elementos de la cadena y desplazando uno para los segundos elementos\n",
        "    pares = [a + b for a, b in zip(s[::2], s[1::2])]\n",
        "\n",
        "    # Si la longitud de la cadena es impar, agregar el último carácter con un '*'\n",
        "    if len(s) % 2 != 0:\n",
        "        pares.append(s[-1] + '*')\n",
        "\n",
        "    return pares\n",
        "\n",
        "# Método 5\n",
        "def string_pairs(s):\n",
        "    # Generar pares de caracteres con una list comprehension\n",
        "    pares = [s[start:start+2] for start in range(0, len(s), 2)]\n",
        "\n",
        "    # Si el último par tiene solo un carácter (cadena impar), añade un '*'\n",
        "    if len(s) % 2 != 0:\n",
        "        pares[-1] += '*'\n",
        "\n",
        "    return pares\n"
      ],
      "metadata": {
        "id": "w0XM8KGMKda2"
      },
      "execution_count": null,
      "outputs": []
    },
    {
      "cell_type": "code",
      "source": [
        "print(string_pairs(\"rana\"))     # [\"ra\", \"na\"]\n",
        "print(string_pairs(\"mirada\"))   # [\"mi\", \"ra\", \"da\"]\n",
        "print(string_pairs(\"natural\"))  # [\"na\", \"tu\", \"ra\", \"l*\"]\n",
        "print(string_pairs(\"\"))         # []"
      ],
      "metadata": {
        "id": "PL9FDFyUKda2",
        "colab": {
          "base_uri": "https://localhost:8080/"
        },
        "outputId": "90173a48-84b2-4a98-ee71-45a858c82af7"
      },
      "execution_count": null,
      "outputs": [
        {
          "output_type": "stream",
          "name": "stdout",
          "text": [
            "['ra', 'na']\n",
            "['mi', 'ra', 'da']\n",
            "['na', 'tu', 'ra', 'l*']\n",
            "[]\n"
          ]
        }
      ]
    },
    {
      "cell_type": "markdown",
      "source": [
        "## Reto 542: ¿Caja completamente llena?\n",
        "* Box Completely Filled?\n",
        "* Crea una función que verifique si la caja está completamente llena con el símbolo de asterisco `*`.\n",
        "\n",
        "* **Ejemplos**\n",
        "```python\n",
        "completely_filled([\n",
        "  \"#####\",\n",
        "  \"#***#\",\n",
        "  \"#***#\",\n",
        "  \"#***#\",\n",
        "  \"#####\"\n",
        "]) ➞ True\n",
        "\n",
        "completely_filled([\n",
        "  \"#####\",\n",
        "  \"#* *#\",\n",
        "  \"#***#\",\n",
        "  \"#***#\",\n",
        "  \"#####\"\n",
        "]) ➞ False\n",
        "\n",
        "completely_filled([\n",
        "  \"###\",\n",
        "  \"#*#\",\n",
        "  \"###\"\n",
        "]) ➞ True\n",
        "\n",
        "completely_filled([\n",
        "  \"##\",\n",
        "  \"##\"\n",
        "]) ➞ True\n",
        "```\n",
        "\n",
        "* **Nota**\n",
        "    - Las cajas de tamaño `n <= 2` se consideran automáticamente llenas.\n",
        "    - El espacio vacío siempre será un carácter de espacio (`\" \"`).\n",
        "\n",
        "\n",
        "### Explicación:\n",
        "1. **Tamaño <= 2:** Si la caja es muy pequeña (con un tamaño de `n <= 2`), se considera automáticamente llena.\n",
        "2. **Revisar celdas interiores:** Se revisan todas las filas internas (excepto la primera y la última), y dentro de esas filas, se revisan todas las celdas internas (excepto la primera y la última) para asegurarse de que no haya espacios vacíos (`\" \"`).\n",
        "3. **Resultado:** Si se encuentra un espacio vacío, la función devuelve `False`. Si no se encuentran espacios vacíos, la función devuelve `True`."
      ],
      "metadata": {
        "id": "IkMLgN0uKdjd"
      }
    },
    {
      "cell_type": "code",
      "source": [
        "# Método 1\n",
        "def completely_filled(box):\n",
        "    for row in range(1, len(box)-1):\n",
        "        for col in range(1, len(box[0]) - 1):\n",
        "            if box[row][col] == ' ':\n",
        "                return False\n",
        "    return True\n",
        "\n",
        "# Método 2\n",
        "def completely_filled(box):\n",
        "    # Si la caja tiene un tamaño <= 2, está automáticamente llena\n",
        "    if len(box) <= 2 or len(box[0]) <= 2:\n",
        "        return True\n",
        "\n",
        "    # Revisar cada fila de la caja, excepto la primera y la última\n",
        "    for row in box[1:-1]:\n",
        "        # Revisar cada celda de la fila, excepto la primera y la última\n",
        "        if ' ' in row[1:-1]:\n",
        "            return False\n",
        "\n",
        "    # Si no se encontraron espacios vacíos, la caja está completamente llena\n",
        "    return True\n",
        "\n",
        "# Método 3. Con all\n",
        "def completely_filled(box):\n",
        "    return all(' ' not in row[1:-1] for row in box[1:-1])\n",
        "\n",
        "# Método 3. Con any\n",
        "def completely_filled(box):\n",
        "    return not any(' ' in row[1:-1] for row in box[1:-1])"
      ],
      "metadata": {
        "id": "Kwa_K7Z9Kdje"
      },
      "execution_count": null,
      "outputs": []
    },
    {
      "cell_type": "code",
      "source": [
        "print(completely_filled([\n",
        "  \"#####\",\n",
        "  \"#***#\",\n",
        "  \"#***#\",\n",
        "  \"#***#\",\n",
        "  \"#####\"\n",
        "]))  # True\n",
        "\n",
        "print(completely_filled([\n",
        "  \"#####\",\n",
        "  \"#* *#\",\n",
        "  \"#***#\",\n",
        "  \"#***#\",\n",
        "  \"#####\"\n",
        "]))  # False\n",
        "\n",
        "print(completely_filled([\n",
        "  \"###\",\n",
        "  \"#*#\",\n",
        "  \"###\"\n",
        "]))  # True\n",
        "\n",
        "print(completely_filled([\n",
        "  \"##\",\n",
        "  \"##\"\n",
        "]))  # True"
      ],
      "metadata": {
        "id": "gfNwHXVyKdje",
        "colab": {
          "base_uri": "https://localhost:8080/"
        },
        "outputId": "94f31d75-7aba-4135-e7e1-38207435c002"
      },
      "execution_count": null,
      "outputs": [
        {
          "output_type": "stream",
          "name": "stdout",
          "text": [
            "True\n",
            "False\n",
            "True\n",
            "True\n"
          ]
        }
      ]
    },
    {
      "cell_type": "markdown",
      "source": [
        "## Reto 543: Todo Sobre Expresiones Lambda: Añadiendo Sufijos\n",
        "* All About Lambda Expressions: Adding Suffixes\n",
        "* Escribe una función que devuelva una expresión lambda, la cual transforme su entrada añadiendo un sufijo particular al final.\n",
        "\n",
        "* **Ejemplos**\n",
        "\n",
        "```python\n",
        "add_suffix = lambda suffix: lambda word: word + suffix\n",
        "\n",
        "add_ly = add_suffix(\"ly\")\n",
        "\n",
        "print(add_ly(\"hopeless\"))  # ➞ \"hopelessly\"\n",
        "print(add_ly(\"total\"))     # ➞ \"totally\"\n",
        "\n",
        "add_less = add_suffix(\"less\")\n",
        "\n",
        "print(add_less(\"fear\"))    # ➞ \"fearless\"\n",
        "print(add_less(\"ruth\"))    # ➞ \"ruthless\"\n",
        "```\n"
      ],
      "metadata": {
        "id": "wpBtuBE_KdrQ"
      }
    },
    {
      "cell_type": "code",
      "source": [
        "# Método 1\n",
        "def add_suffix(suffix):\n",
        "    return lambda word: word + suffix\n",
        "\n",
        "# Crear las funciones lambda con los sufijos deseados\n",
        "add_ly = add_suffix(\"ly\")\n",
        "add_less = add_suffix(\"less\")\n",
        "\n",
        "# Método 2\n",
        "# Definir la función add_suffix utilizando una lambda anidada\n",
        "add_suffix = lambda suffix: (lambda word: word + suffix)\n",
        "\n",
        "# Crear las funciones lambda con los sufijos deseados\n",
        "add_ly = add_suffix(\"ly\")\n",
        "add_less = add_suffix(\"less\")"
      ],
      "metadata": {
        "id": "pPkoQMDjKdrR"
      },
      "execution_count": null,
      "outputs": []
    },
    {
      "cell_type": "code",
      "source": [
        "print(add_ly(\"hopeless\"))  # ➞ \"hopelessly\"\n",
        "print(add_ly(\"total\"))     # ➞ \"totally\"\n",
        "\n",
        "print(add_less(\"fear\"))    # ➞ \"fearless\"\n",
        "print(add_less(\"ruth\"))    # ➞ \"ruthless\""
      ],
      "metadata": {
        "id": "wW60bcRwKdrR",
        "colab": {
          "base_uri": "https://localhost:8080/"
        },
        "outputId": "306e3121-986c-4986-9371-6e8ad42345a1"
      },
      "execution_count": null,
      "outputs": [
        {
          "output_type": "stream",
          "name": "stdout",
          "text": [
            "hopelessly\n",
            "totally\n",
            "fearless\n",
            "ruthless\n"
          ]
        }
      ]
    },
    {
      "cell_type": "markdown",
      "source": [
        "#### Comentario\n",
        "Este reto tiene varias finalidades educativas, orientadas a desarrollar habilidades específicas en programación. Se pretende aprender:\n",
        "\n",
        "1. **Uso de Funciones de Orden Superior**:\n",
        "   - **Concepto**: Las funciones de orden superior son aquellas que toman otras funciones como argumentos o que devuelven funciones. En este reto, `add_suffix` es una función de orden superior porque devuelve una función lambda.\n",
        "   - **Objetivo**: Aprender a crear y usar funciones que generan otras funciones, una técnica útil para la programación funcional.\n",
        "\n",
        "2. **Expresiones Lambda**:\n",
        "   - **Concepto**: Las expresiones lambda en Python permiten crear funciones anónimas (sin nombre) de forma concisa. En el reto, se usa una lambda para concatenar el sufijo con la palabra.\n",
        "   - **Objetivo**: Familiarizarse con la sintaxis y uso de expresiones lambda, que son útiles para tareas rápidas y como argumentos para otras funciones.\n",
        "\n",
        "3. **Cierre (Closures)**:\n",
        "   - **Concepto**: Un cierre ocurre cuando una función interna recuerda el entorno en el que fue creada, incluso después de que la función externa haya terminado de ejecutarse. Aquí, la función lambda generada por `add_suffix` recuerda el sufijo que se le pasó.\n",
        "   - **Objetivo**: Entender cómo las funciones internas pueden acceder a variables locales de las funciones externas.\n",
        "\n",
        "4. **Concatenación de Cadenas**:\n",
        "   - **Concepto**: Este reto también refuerza la habilidad para manipular cadenas en Python, específicamente concatenar una cadena (sufijo) al final de otra (palabra).\n",
        "   - **Objetivo**: Practicar la manipulación de cadenas y entender cómo se pueden construir cadenas dinámicamente en función de entradas variables.\n",
        "\n",
        "En resumen, el reto busca fortalecer el entendimiento de conceptos clave de programación funcional y habilidades básicas de manipulación de cadenas en Python."
      ],
      "metadata": {
        "id": "L42lB53ZsY7m"
      }
    },
    {
      "cell_type": "markdown",
      "source": [
        "## Reto 544: Intercambio de Caracteres Dobles\n",
        "* Double Character Swap\n",
        "* Escribe una función para reemplazar todas las instancias del carácter c1 con el carácter c2 y viceversa.\n",
        "\n",
        "* **Ejemplos**  \n",
        "```python\n",
        "double_swap(\"aabbccc\", \"a\", \"b\") ➞ \"bbaaccc\"\n",
        "double_swap(\"random w#rds writt&n h&r&\", \"#\", \"&\") ➞ \"random w&rds writt#n h#r#\"\n",
        "double_swap(\"128 895 556 788 999\", \"8\", \"9\") ➞ \"129 985 556 799 888\"\n",
        "```\n",
        "\n",
        "* **Nota**\n",
        "    - Ambos caracteres aparecerán al menos una vez en la cadena."
      ],
      "metadata": {
        "id": "_7YpcfgHKdyO"
      }
    },
    {
      "cell_type": "code",
      "source": [
        "# Método 1\n",
        "def double_swap(txt, c1, c2):\n",
        "    txt = list(txt) # convertimos el texto en una lista para operar mejor\n",
        "    for i, char in enumerate(txt):\n",
        "        if char == c2:\n",
        "            txt[i] = c1\n",
        "        elif char == c1:\n",
        "            txt[i] = c2\n",
        "    return ''.join(txt)\n",
        "\n",
        "# Método 2\n",
        "def double_swap(string, c1, c2):\n",
        "    # Creamos un diccionario de reemplazo\n",
        "    swap_dict = {c1: c2, c2: c1}\n",
        "\n",
        "    # Usamos una comprensión de lista para crear la nueva string\n",
        "    return ''.join(swap_dict.get(char, char) for char in string)\n",
        "\n",
        "# Método 3\n",
        "def double_swap(string, c1, c2):\n",
        "    # Creamos una tabla de traducción\n",
        "    trans_table = str.maketrans(c1 + c2, c2 + c1)\n",
        "\n",
        "    # Aplicamos la traducción a la cadena\n",
        "    return string.translate(trans_table)\n",
        "\n",
        "# Método 4. Usando replace y un caracter temporal que no esté en el string\n",
        "# Al no saber que caracter no estará en el string hemos creado una función aux.\n",
        "def double_swap(string, c1, c2):\n",
        "    if c1 == c2:\n",
        "        return string  # No hay cambios si los caracteres son iguales\n",
        "\n",
        "    # Encontrar un carácter que no esté en el string\n",
        "    temp_char = find_unused_char(string + c1 + c2)\n",
        "\n",
        "    # Realizar los reemplazos\n",
        "    return string.replace(c1, temp_char).replace(c2, c1).replace(temp_char, c2)\n",
        "\n",
        "def find_unused_char(string):\n",
        "    # Empezar desde el carácter con código ASCII 1\n",
        "    i = 1\n",
        "    while chr(i) in string:\n",
        "        i += 1\n",
        "        if i > 1114111:  # Máximo valor de código Unicode\n",
        "            raise ValueError(\"No se pudo encontrar un carácter temporal único\")\n",
        "    return chr(i)"
      ],
      "metadata": {
        "id": "SkDQw4svKdyO"
      },
      "execution_count": null,
      "outputs": []
    },
    {
      "cell_type": "code",
      "source": [
        "print(double_swap(\"aabbccc\", \"a\", \"b\"))\n",
        "print(double_swap(\"random w#rds writt&n h&r&\", \"#\", \"&\"))\n",
        "print(double_swap(\"128 895 556 788 999\", \"8\", \"9\"))"
      ],
      "metadata": {
        "id": "r4eaiLE6KdyO",
        "outputId": "1401c22c-ec62-4e3a-ea69-68d6aadf2fa1",
        "colab": {
          "base_uri": "https://localhost:8080/"
        }
      },
      "execution_count": null,
      "outputs": [
        {
          "output_type": "stream",
          "name": "stdout",
          "text": [
            "bbaaccc\n",
            "random w&rds writt#n h#r#\n",
            "129 985 556 799 888\n"
          ]
        }
      ]
    },
    {
      "cell_type": "markdown",
      "source": [
        "## Reto 545: Raíz Cuadrada Iterada\n",
        "* Iterated Square Root\n",
        "* La raíz cuadrada iterada de un número es la cantidad de veces que se debe aplicar la función de raíz cuadrada para llevar el número **estrictamente por debajo de 2**.\n",
        "* Dado un entero, devuelve su raíz cuadrada iterada. Devuelve `\"invalid\"` si es negativo.\n",
        "\n",
        "* **Ejemplos**\n",
        "\n",
        "```\n",
        "i_sqrt(1) ➞ 0\n",
        "i_sqrt(2) ➞ 1\n",
        "i_sqrt(7) ➞ 2\n",
        "i_sqrt(27) ➞ 3\n",
        "i_sqrt(256) ➞ 4\n",
        "i_sqrt(-1) ➞ \"invalid\"\n",
        "```"
      ],
      "metadata": {
        "id": "w04A7HtQKd5o"
      }
    },
    {
      "cell_type": "code",
      "source": [
        "# Método 1\n",
        "def i_sqrt(n):\n",
        "    if n < 0:\n",
        "        return \"invalid\"\n",
        "    cont = 0\n",
        "    while n >= 2:\n",
        "        n = n ** .5\n",
        "        cont += 1\n",
        "    return cont\n",
        "\n",
        "# Método 2. Usando recursión\n",
        "import math\n",
        "\n",
        "def i_sqrt(n):\n",
        "    if n < 0:\n",
        "        return \"invalid\"\n",
        "\n",
        "    if n < 2:\n",
        "        return 0\n",
        "\n",
        "    return 1 + i_sqrt(math.sqrt(n))"
      ],
      "metadata": {
        "id": "zl3MweNdKd5o"
      },
      "execution_count": null,
      "outputs": []
    },
    {
      "cell_type": "code",
      "source": [
        "print(i_sqrt(1))    # 0\n",
        "print(i_sqrt(2))    # 1\n",
        "print(i_sqrt(7))    # 2\n",
        "print(i_sqrt(27))   # 3\n",
        "print(i_sqrt(256))  # 4\n",
        "print(i_sqrt(-1))   # invalid"
      ],
      "metadata": {
        "id": "0UpUWFGMKd5o",
        "colab": {
          "base_uri": "https://localhost:8080/"
        },
        "outputId": "ecf3ff86-a577-4d62-cb9a-365462844e0d"
      },
      "execution_count": null,
      "outputs": [
        {
          "output_type": "stream",
          "name": "stdout",
          "text": [
            "0\n",
            "0\n",
            "2\n",
            "3\n",
            "3\n",
            "invalid\n"
          ]
        }
      ]
    },
    {
      "cell_type": "markdown",
      "source": [
        "## Reto 546: Grito Escocés\n",
        "* Scottish Screaming\n",
        "* Un fuerte acento escocés hace que cada vocal suene similar a una \"e\", así que debes reemplazar cada vocal con una \"e\". Además, está siendo gritado, por lo que debe estar en mayúsculas.\n",
        "* Crea una función que tome una cadena y devuelva una cadena.\n",
        "* **Ejemplos**\n",
        "\n",
        "```\n",
        "to_scottish_screaming(\"hello world\") ➞ \"HELLE WERLD\"\n",
        "to_scottish_screaming(\"Mr. Fox was very naughty\") ➞ \"MR. FEX WES VERY NEEGHTY\"\n",
        "to_scottish_screaming(\"Butterflies are beautiful!\") ➞ \"BETTERFLEES ERE BEEETEFEL!\"\n",
        "```\n",
        "\n",
        "* **Notas**\n",
        "    - Asegúrate de incluir toda la puntuación que está en la cadena original.\n",
        "    - No necesitas más espacios de nombres que los que ya se dan."
      ],
      "metadata": {
        "id": "Zh9UFyL-KeAt"
      }
    },
    {
      "cell_type": "code",
      "source": [
        "# Método 1\n",
        "def to_scottish_screaming(s):\n",
        "    s = list(s.upper())\n",
        "    s = ['E' if char in 'AIOU' else char for char in s]\n",
        "    return ''.join(s)\n",
        "\n",
        "# Método 2\n",
        "def to_scottish_screaming(s):\n",
        "    return ''.join('E' if c in 'AIOU' else c for c in s.upper())\n",
        "\n",
        "# Método 3\n",
        "import re\n",
        "\n",
        "def to_scottish_screaming(text):\n",
        "    # Primero, convertimos todo el texto a mayúsculas\n",
        "    text = text.upper()\n",
        "\n",
        "    # Luego, reemplazamos todas las vocales por 'E'\n",
        "    # Usamos una expresión regular para capturar tanto minúsculas como mayúsculas\n",
        "    return re.sub(r'[AEIOU]', 'E', text)\n",
        "\n",
        "# Método 4. Usando replace\n",
        "def to_scottish_screaming(text):\n",
        "    return text.upper().replace('A', 'E').replace('I', 'E').replace('O', 'E').replace('U', 'E')\n",
        "\n",
        "# Método 5. Usando maketrans\n",
        "def to_scottish_screaming(text):\n",
        "    return text.upper().translate(str.maketrans('AIOU', 'EEEE'))"
      ],
      "metadata": {
        "id": "i-jJn26qKeAu"
      },
      "execution_count": null,
      "outputs": []
    },
    {
      "cell_type": "code",
      "source": [
        "print(to_scottish_screaming(\"hello world\"))\n",
        "print(to_scottish_screaming(\"Mr. Fox was very naughty\"))\n",
        "print(to_scottish_screaming(\"Butterflies are beautiful!\"))"
      ],
      "metadata": {
        "id": "rw7UwO5ZKeAu",
        "colab": {
          "base_uri": "https://localhost:8080/"
        },
        "outputId": "7a4dcf23-593c-4339-8cce-25a216f9d7d2"
      },
      "execution_count": null,
      "outputs": [
        {
          "output_type": "stream",
          "name": "stdout",
          "text": [
            "HELLE WERLD\n",
            "MR. FEX WES VERY NEEGHTY\n",
            "BETTERFLEES ERE BEEETEFEL!\n"
          ]
        }
      ]
    },
    {
      "cell_type": "markdown",
      "source": [
        "## Reto 547: Convirtiendo Diccionarios a Listas\n",
        "* Converting Dictionaries to Lists\n",
        "* Escribe una función que convierta un diccionario en una lista, donde cada elemento represente un par clave-valor en forma de lista.\n",
        "* Ordena la lista alfabéticamente por clave.\n",
        "* **Ejemplos**\n",
        "\n",
        "```\n",
        "to_list({ \"a\": 1, \"b\": 2 }) ➞ [[\"a\", 1], [\"b\", 2]]\n",
        "to_list({ \"mesa\": 12, \"cama\": 5 }) ➞ [[\"cama\", 5], [\"mesa\", 12]]\n",
        "to_list({}) ➞ []\n",
        "```\n",
        "* **Nota**\n",
        "    - Devuelve una lista vacía si el diccionario está vacío."
      ],
      "metadata": {
        "id": "t4jr2BK1KeID"
      }
    },
    {
      "cell_type": "code",
      "source": [
        "# Método 1\n",
        "def to_list(d):\n",
        "    return sorted(d.items())\n",
        "\n",
        "# Método 2\n",
        "def to_list(d):\n",
        "    result = [[key, value] for key, value in d.items()]\n",
        "    result.sort(key=lambda x: x[0])\n",
        "    return result"
      ],
      "metadata": {
        "id": "aQTPn36yKeID"
      },
      "execution_count": null,
      "outputs": []
    },
    {
      "cell_type": "code",
      "source": [
        "print(to_list({\"a\": 1, \"b\": 2}))        # [[\"a\", 1], [\"b\", 2]]\n",
        "print(to_list({\"mesa\": 12, \"cama\": 5})) # [[\"cama\", 5], [\"mesa\", 12]]\n",
        "print(to_list({}))                      # []"
      ],
      "metadata": {
        "id": "H3M6VhGxKeID",
        "colab": {
          "base_uri": "https://localhost:8080/"
        },
        "outputId": "e155da65-e1db-4cc8-b417-79ab09ecf3d3"
      },
      "execution_count": null,
      "outputs": [
        {
          "output_type": "stream",
          "name": "stdout",
          "text": [
            "[['a', 1], ['b', 2]]\n",
            "[['cama', 5], ['mesa', 12]]\n",
            "[]\n"
          ]
        }
      ]
    },
    {
      "cell_type": "markdown",
      "source": [
        "## Reto 548: Número de veces que aparece un carácter\n",
        "* Number of Times a Character Appears\n",
        "* Crea una función que devuelva el número de veces que un carácter aparece en cada palabra de una frase. Trata los caracteres en mayúsculas y minúsculas de la misma letra como idénticos (por ejemplo, `a` existe en `Anna` dos veces, no una).\n",
        "\n",
        "* **Ejemplos**\n",
        "\n",
        "```\n",
        "char_appears(\"She sells sea shells by the seashore.\", \"s\")\n",
        "➞ [1, 2, 1, 2, 0, 0, 2]\n",
        "- \"s\" aparece una vez en \"She\", dos veces en \"sells\", una vez en \"sea\", dos veces en \"shells\", etc.\n",
        "\n",
        "char_appears(\"Peter Piper picked a peck of pickled peppers.\", \"P\")\n",
        "➞ [1, 2, 1, 0, 1, 0, 1, 3]\n",
        "- \"p\" aparece una vez en \"Peter\", ... 3 veces en \"peppers\".\n",
        "\n",
        "char_appears(\"She hiked in the morning, then swam in the river.\", \"t\")\n",
        "➞ [0, 0, 0, 1, 0, 1, 0, 0, 1, 0]\n",
        "```\n",
        "\n",
        "* **Notas**\n",
        "- Ignora las mayúsculas y minúsculas."
      ],
      "metadata": {
        "id": "Wy4WDTYzKePa"
      }
    },
    {
      "cell_type": "code",
      "source": [
        "# Método 1\n",
        "def char_appears(sentence, char):\n",
        "    # Convertir la frase y el carácter a minúsculas para ignorar mayúsculas/minúsculas\n",
        "    sentence = sentence.lower()\n",
        "    char = char.lower()\n",
        "\n",
        "    # Dividir la frase en palabras\n",
        "    words = sentence.split()\n",
        "\n",
        "    # Contar las apariciones del carácter en cada palabra\n",
        "    result = [word.count(char) for word in words]\n",
        "\n",
        "    return result\n",
        "\n",
        "# Método 2\n",
        "def char_appears(sentence, char):\n",
        "    # Convertir la frase y el carácter a minúsculas para ignorar mayúsculas/minúsculas\n",
        "    sentence = sentence.lower()\n",
        "    char = char.lower()\n",
        "\n",
        "    # Dividir la frase en palabras\n",
        "    words = sentence.split()\n",
        "\n",
        "    # Lista para almacenar los resultados\n",
        "    result = []\n",
        "\n",
        "    # Iterar sobre cada palabra\n",
        "    for word in words:\n",
        "        # Contar las apariciones del carácter en la palabra\n",
        "        count = sum(1 for letter in word if letter == char)\n",
        "        result.append(count)\n",
        "\n",
        "    return result\n",
        "\n",
        "# Método 3. Con programación funcional\n",
        "def char_appears(sentence, char):\n",
        "    # Convertir el carácter a minúsculas\n",
        "    char = char.lower()\n",
        "\n",
        "    # Función para contar ocurrencias de un carácter en una palabra\n",
        "    def count_char(word):\n",
        "        return sum(map(lambda c: c.lower() == char, word))\n",
        "\n",
        "    # Dividir la frase en palabras, aplicar la función de conteo y devolver el resultado\n",
        "    return list(map(count_char, sentence.split()))"
      ],
      "metadata": {
        "id": "wKWIdoIWKePa"
      },
      "execution_count": null,
      "outputs": []
    },
    {
      "cell_type": "code",
      "source": [
        "print(char_appears(\"She sells sea shells by the seashore.\", \"s\"))               # [1, 2, 1, 2, 0, 0, 2]\n",
        "print(char_appears(\"Peter Piper picked a peck of pickled peppers.\", \"P\"))       # [1, 2, 1, 0, 1, 0, 1, 3]\n",
        "print(char_appears(\"She hiked in the morning, then swam in the river.\", \"t\"))   # [0, 0, 0, 1, 0, 1, 0, 0, 1, 0]"
      ],
      "metadata": {
        "id": "46HKwituKePa",
        "colab": {
          "base_uri": "https://localhost:8080/"
        },
        "outputId": "23dc33c7-c3c7-4124-cdca-be2459f4c1a0"
      },
      "execution_count": null,
      "outputs": [
        {
          "output_type": "stream",
          "name": "stdout",
          "text": [
            "[1, 2, 1, 2, 0, 0, 2]\n",
            "[1, 2, 1, 0, 1, 0, 1, 3]\n",
            "[0, 0, 0, 1, 0, 1, 0, 0, 1, 0]\n"
          ]
        }
      ]
    },
    {
      "cell_type": "markdown",
      "source": [
        "#### Función auxiliar dentro o fuera de la función principal\n",
        "* En relación al método 3.\n",
        "* La decisión de definir una función auxiliar dentro o fuera de la función principal tiene implicaciones y puede ofrecer ciertas ventajas dependiendo del contexto. Vamos a analizar ambos enfoques:\n",
        "\n",
        "1. Definir la función auxiliar dentro de la función principal (función interna o anidada):\n",
        "\n",
        "Ventajas:\n",
        "- Encapsulación: La función auxiliar solo es accesible dentro de la función principal, lo que puede ser útil si no se necesita en ningún otro lugar.\n",
        "- Acceso al ámbito exterior: La función interna puede acceder a las variables de la función que la contiene (en este caso, 'char').\n",
        "- Claridad de propósito: Indica claramente que esta función auxiliar está diseñada específicamente para ser usada por esta función principal.\n",
        "\n",
        "Desventajas:\n",
        "- Se crea una nueva función cada vez que se llama a la función principal, lo que puede tener un pequeño impacto en el rendimiento si se llama con mucha frecuencia.\n",
        "\n",
        "2. Definir la función auxiliar fuera de la función principal:\n",
        "\n",
        "Ventajas:\n",
        "- Reutilización: La función puede ser utilizada por otras partes del código si es necesario.\n",
        "- Eficiencia: La función se define una sola vez, no cada vez que se llama a la función principal.\n",
        "- Testeo más sencillo: Es más fácil escribir pruebas unitarias para funciones independientes.\n",
        "\n",
        "Desventajas:\n",
        "- Puede \"ensuciar\" el espacio de nombres si se definen muchas funciones auxiliares que solo se usan en un lugar.\n",
        "- No tiene acceso directo a las variables de la función principal (aunque esto se puede solucionar pasando los valores como argumentos).\n",
        "\n",
        "En el caso específico del código que proporcioné, la decisión de definir `count_char` dentro de `char_appears` se tomó principalmente por dos razones:\n",
        "\n",
        "1. Encapsulación: `count_char` es una función muy específica que solo se usa dentro de `char_appears`.\n",
        "2. Acceso al ámbito: `count_char` necesita acceder a la variable `char` de la función exterior.\n",
        "\n",
        "Sin embargo, es perfectamente válido definir `count_char` fuera de `char_appears`. Aquí tienes cómo se vería:\n",
        "\n",
        "```python\n",
        "def count_char(word, char):\n",
        "    return sum(map(lambda c: c.lower() == char.lower(), word))\n",
        "\n",
        "def char_appears(sentence, char):\n",
        "    return list(map(lambda word: count_char(word, char), sentence.split()))\n",
        "```\n",
        "\n",
        "En resumen, ambos enfoques son válidos y la elección entre ellos a menudo depende de las preferencias del programador, el estilo del proyecto y las necesidades específicas del código. No hay una regla estricta que diga que un enfoque es siempre mejor que el otro. Lo importante es ser consistente dentro de un proyecto y elegir el enfoque que mejore la legibilidad y mantenibilidad del código."
      ],
      "metadata": {
        "id": "1YpEP6_ci5uX"
      }
    },
    {
      "cell_type": "markdown",
      "source": [
        "## Reto 549:  Coincidir con el Último Elemento\n",
        "* Match the Last Item\n",
        "* Crea una función que tome una lista de elementos y verifique si el último elemento coincide con el resto de la lista concatenada.\n",
        "\n",
        "* **Ejemplos**\n",
        "\n",
        "```\n",
        "match_last_item([\"rsq\", \"6hi\", \"g\", \"rsq6hig\"]) ➞ True\n",
        "#El último elemento es el resto unido.\n",
        "\n",
        "match_last_item([1, 1, 1, \"11\"]) ➞ False\n",
        "#El último elemento debería ser \"111\".\n",
        "\n",
        "match_last_item([8, \"thunder\", True, \"8thunderTrue\"]) ➞ True\n",
        "```\n",
        "\n",
        "* **Notas**\n",
        "    - La lista siempre está llena de elementos."
      ],
      "metadata": {
        "id": "BBLM9G9ZKeWa"
      }
    },
    {
      "cell_type": "code",
      "source": [
        "# Método 1. Usando slice y join\n",
        "def match_last_item(items):\n",
        "    return ''.join(map(str, items[:-1])) == str(items[-1])\n",
        "\n",
        "# Método 2.Usando reducción y comparación\n",
        "from functools import reduce\n",
        "\n",
        "def match_last_item(items):\n",
        "    return reduce(lambda x, y: str(x) + str(y), items[:-1]) == str(items[-1])\n",
        "\n",
        "# Método 3\n",
        "def match_last_item(lista):\n",
        "    return str(lista[-1]) == ''.join(str(item) for i, item in enumerate(lista) if i < len(lista) - 1)\n",
        "\n",
        "# Método 4. Usando pop\n",
        "def match_last_item(lista):\n",
        "    if len(lista) < 2:\n",
        "        return False\n",
        "\n",
        "    last_item = str(lista.pop())\n",
        "    rest = ''.join(map(str, lista))\n",
        "\n",
        "    return last_item == rest"
      ],
      "metadata": {
        "id": "9oKulg3HKeWa"
      },
      "execution_count": null,
      "outputs": []
    },
    {
      "cell_type": "code",
      "source": [
        "print(match_last_item([\"rsq\", \"6hi\", \"g\", \"rsq6hig\"]))          # True\n",
        "print(match_last_item([1, 1, 1, \"11\"]))                         # False\n",
        "print(match_last_item([8, \"thunder\", True, \"8thunderTrue\"]))    # True"
      ],
      "metadata": {
        "id": "7YONpao8KeWa",
        "colab": {
          "base_uri": "https://localhost:8080/"
        },
        "outputId": "66c258aa-15a8-41f1-e58b-89d93a6e0a17"
      },
      "execution_count": null,
      "outputs": [
        {
          "output_type": "stream",
          "name": "stdout",
          "text": [
            "True\n",
            "False\n",
            "True\n"
          ]
        }
      ]
    },
    {
      "cell_type": "markdown",
      "source": [
        "## Reto 550: ¡No Saques Dobles!\n",
        "* Don't Roll Doubles!\n",
        "* John está jugando un juego de dados. Las reglas son las siguientes:\n",
        "    1. Lanza dos dados.\n",
        "    2. Suma los números de los dados.\n",
        "    3. Añade el total a tu puntuación general.\n",
        "    4. Repite esto durante tres rondas.\n",
        "* Pero si sacas DOBLES, tu puntuación se borra instantáneamente a 0 y tu juego termina inmediatamente!\n",
        "* Crea una función que tome una lista de tuplas como entrada y devuelva la puntuación de John después de que su juego haya terminado.\n",
        "* **Ejemplos**\n",
        "\n",
        "```\n",
        "juego_dados([(1, 2), (3, 4), (5, 6)]) ➞ 21\n",
        "juego_dados([(1, 1), (5, 6), (6, 4)]) ➞ 0\n",
        "juego_dados([(4, 5), (4, 5), (4, 5)]) ➞ 27\n",
        "```\n",
        "* **Notas**\n",
        "    - Ignora todas las demás tuplas en la lista si una tirada resulta ser dobles y ve directamente a devolver `0`.\n",
        "    - John solo tiene dos dados y siempre te dará resultados para tres rondas."
      ],
      "metadata": {
        "id": "ea-Jcz4RKeen"
      }
    },
    {
      "cell_type": "code",
      "source": [
        "# Método 1\n",
        "def juego_dados(lista):\n",
        "    total = 0\n",
        "    for pareja in lista:\n",
        "        a, b = pareja\n",
        "        if a == b:\n",
        "            return 0\n",
        "        total += a + b\n",
        "    return total\n",
        "\n",
        "# Método 2. Igual que el anterior\n",
        "def juego_dados(tiradas):\n",
        "    puntuacion = 0\n",
        "    for dado1, dado2 in tiradas:\n",
        "        if dado1 == dado2:\n",
        "            return 0\n",
        "        puntuacion += dado1 + dado2\n",
        "    return puntuacion\n",
        "\n",
        "# Método 3. Usando recursión\n",
        "def juego_dados(tiradas):\n",
        "    if not tiradas:\n",
        "        return 0\n",
        "    dado1, dado2 = tiradas[0]\n",
        "    if dado1 == dado2:\n",
        "        return 0\n",
        "    return dado1 + dado2 + juego_dados(tiradas[1:])\n",
        "\n",
        "# Método 4: Usando una función any() con una comprensión de lista\n",
        "def juego_dados(tiradas):\n",
        "# any para la iteración cuando encuentra el 1er elemento que cumple la condición\n",
        "    if any(dado1 == dado2 for dado1, dado2 in tiradas):\n",
        "        return 0\n",
        "    return sum(dado1 + dado2 for dado1, dado2 in tiradas)\n",
        "\n",
        "# Método 5. Igual que el anterior pero aún más comprimido\n",
        "def juego_dados(lst):\n",
        "    return sum(0 if any(a == b for a, b in lst) else a + b for a, b in lst)"
      ],
      "metadata": {
        "id": "5wsx0eKPKeen"
      },
      "execution_count": null,
      "outputs": []
    },
    {
      "cell_type": "code",
      "source": [
        "print(juego_dados([(1, 2), (3, 4), (5, 6)]))    # 21\n",
        "print(juego_dados([(1, 1), (5, 6), (6, 4)]))    # 0\n",
        "print(juego_dados([(4, 5), (4, 5), (4, 5)]))    # 27"
      ],
      "metadata": {
        "id": "CXA2SPAbKeen",
        "colab": {
          "base_uri": "https://localhost:8080/"
        },
        "outputId": "c9c0e3a9-46c2-4fac-e17f-dac65c9b3a32"
      },
      "execution_count": null,
      "outputs": [
        {
          "output_type": "stream",
          "name": "stdout",
          "text": [
            "21\n",
            "0\n",
            "27\n"
          ]
        }
      ]
    },
    {
      "cell_type": "markdown",
      "source": [
        "## Reto 551: Contar el Número de Caracteres Duplicados\n",
        "* Count the Number of Duplicate Characters\n",
        "* Crea una función que devuelva la cantidad de caracteres duplicados en una cadena.\n",
        "* Será sensible a mayúsculas y minúsculas y se incluirán los espacios.\n",
        "* Si no hay duplicados, devuelve `0`.\n",
        "\n",
        "* **Ejemplos**\n",
        "\n",
        "```\n",
        "duplicados(\"Hello World!\") ➞ 3\n",
        "#\"o\" = 2, \"l\" = 3.\n",
        "#\"o\" está duplicado 1 vez extra y \"l\" está duplicado 2 veces extra.\n",
        "#Por lo tanto 1 + 2 = 3\n",
        "\n",
        "duplicados(\"foobar\") ➞ 1\n",
        "\n",
        "duplicados(\"helicopter\") ➞ 1\n",
        "\n",
        "duplicados(\"birthday\") ➞ 0\n",
        "#Si no hay duplicados, devuelve 0\n",
        "```\n",
        "\n",
        "* **Notas**\n",
        "    - Asegúrate de empezar a contar solo la segunda vez que aparece un carácter.\n"
      ],
      "metadata": {
        "id": "etQJUnIzK5S2"
      }
    },
    {
      "cell_type": "code",
      "source": [
        "# Método 1. Recorriendo solo los caracteres únicos\n",
        "def duplicados(cadena):\n",
        "    cont = 0\n",
        "    unicos = set(cadena)\n",
        "    for char in unicos:\n",
        "        n = cadena.count(char)\n",
        "        if n > 1:\n",
        "            cont += n - 1\n",
        "    return cont\n",
        "\n",
        "# Método 2: Igual al anterior pero con un generador\n",
        "def duplicados(s):\n",
        "    return sum(s.count(char) - 1 for char in set(s) if s.count(char) > 1)\n",
        "\n",
        "# Método 3: Usando un diccionario\n",
        "def duplicados(cadena):\n",
        "    conteo = {}\n",
        "    for char in cadena:\n",
        "        conteo[char] = conteo.get(char, 0) + 1\n",
        "    return sum(max(0, count - 1) for count in conteo.values())"
      ],
      "metadata": {
        "id": "A1AHdwnoK5S2"
      },
      "execution_count": null,
      "outputs": []
    },
    {
      "cell_type": "code",
      "source": [
        "print(duplicados(\"Hello World!\"))   # 3\n",
        "print(duplicados(\"foobar\"))         # 1\n",
        "print(duplicados(\"birthday\"))       # 0"
      ],
      "metadata": {
        "id": "Ki5WX6dwK5S2",
        "colab": {
          "base_uri": "https://localhost:8080/"
        },
        "outputId": "7ec0d5cc-e6e2-4574-c28c-e5b26df2ecbf"
      },
      "execution_count": null,
      "outputs": [
        {
          "output_type": "stream",
          "name": "stdout",
          "text": [
            "3\n",
            "1\n",
            "0\n"
          ]
        }
      ]
    },
    {
      "cell_type": "markdown",
      "source": [
        "## Reto 552: Ritmo Sincopado\n",
        "* Syncopated Rhythm\n",
        "* **Síncopa** significa un énfasis en un tiempo débil de un compás musical; más comúnmente, **los tiempos 2 y 4** (y todos los demás tiempos *de número par* si aplica).\n",
        "* Se te dará una cadena que representa los tiempos, donde los símbolos de numeral `#` representan los tiempos enfatizados. Crea una función que devuelva `True` si la línea musical contiene **alguna** *síncopa*, y `False` en caso contrario.\n",
        "* **Ejemplos**\n",
        "\n",
        "```\n",
        "tiene_sincopa(\".#.#.#.#\") ➞ True\n",
        "#Hay símbolos de numeral en las posiciones segunda, cuarta, sexta y\n",
        "#octava de la cadena.\n",
        "\n",
        "tiene_sincopa(\"#.#...#.\") ➞ False\n",
        "#No hay símbolos de numeral en las posiciones segunda, cuarta, sexta u\n",
        "#octava de la cadena.\n",
        "\n",
        "tiene_sincopa(\"#.#.###.\") ➞ True\n",
        "#Hay un símbolo de numeral en la sexta posición de la cadena.\n",
        "```\n",
        "\n",
        "* **Notas**\n",
        "    - Todos los demás tiempos no enfatizados serán representados por un punto."
      ],
      "metadata": {
        "id": "psCWW_F_K5aa"
      }
    },
    {
      "cell_type": "code",
      "source": [
        "# Método 1\n",
        "def tiene_sincopa(s):\n",
        "    return any(s[i] == '#' for i in range(1, len(s), 2))\n",
        "\n",
        "# Método 2\n",
        "def has_syncopation(s):\n",
        "    return any(char == '#' and (i + 1) % 2 == 0 for i, char in enumerate(s))"
      ],
      "metadata": {
        "id": "bTYis95NK5aa"
      },
      "execution_count": null,
      "outputs": []
    },
    {
      "cell_type": "code",
      "source": [
        "print(tiene_sincopa(\".#.#.#.#\"))    # True\n",
        "print(tiene_sincopa(\"#.#...#.\"))    # False\n",
        "print(tiene_sincopa(\"#.#.###.\"))    # True"
      ],
      "metadata": {
        "id": "EpqZc6YEK5aa",
        "outputId": "0172f3b7-9fe5-46c0-b075-aaa47de7cee0",
        "colab": {
          "base_uri": "https://localhost:8080/"
        }
      },
      "execution_count": null,
      "outputs": [
        {
          "output_type": "stream",
          "name": "stdout",
          "text": [
            "True\n",
            "False\n",
            "True\n"
          ]
        }
      ]
    },
    {
      "cell_type": "markdown",
      "source": [
        "## Reto 553: Separación por Mayúsculas\n",
        "* Capital Split\n",
        "* Crea una función que añada espacios antes de cada letra mayúscula en una palabra.\n",
        "* Luego, convierte toda la cadena a minúsculas.\n",
        "\n",
        "* **Ejemplos**\n",
        "\n",
        "```\n",
        "cap_space(\"helloWorld\") ➞ \"hello world\"\n",
        "\n",
        "cap_space(\"iLoveMyTeapot\") ➞ \"i love my teapot\"\n",
        "\n",
        "cap_space(\"stayIndoors\") ➞ \"stay indoors\"\n",
        "```\n",
        "\n",
        "* **Notas**\n",
        "    - La primera letra permanecerá en minúscula."
      ],
      "metadata": {
        "id": "obEjA9nDK5hM"
      }
    },
    {
      "cell_type": "code",
      "source": [
        "# Método 1: Usando expresiones regulares\n",
        "import re\n",
        "\n",
        "def cap_space(text):\n",
        "    # Añade un espacio antes de cada mayúscula, excepto al inicio\n",
        "    spaced_text = re.sub(r'(?<!^)(?=[A-Z])', ' ', text)\n",
        "    # Convierte toda la cadena a minúsculas\n",
        "    return spaced_text.lower()\n",
        "\n",
        "# Método 2: Usando un bucle y comprobación de caracteres\n",
        "def cap_space(text):\n",
        "    result = []\n",
        "    for i, char in enumerate(text):\n",
        "        if i > 0 and char.isupper():\n",
        "            result.append(' ')\n",
        "        result.append(char.lower())\n",
        "    return ''.join(result)\n",
        "\n",
        "# Método 3\n",
        "def cap_space(text):\n",
        "    result = text[0].lower()  # Comenzamos con la primera letra en minúscula\n",
        "    for char in text[1:]:  # Iteramos a partir del segundo carácter\n",
        "        if char.isupper():\n",
        "            result += ' ' + char.lower()\n",
        "        else:\n",
        "            result += char\n",
        "    return result\n",
        "\n",
        "# Método 4. Suponiendo que la primera letra siempre nos la dan minúscula\n",
        "def cap_space(text):\n",
        "    lista = list(text)\n",
        "    return ''.join([' ' + c.lower() if c.isupper() else c for c in lista])\n",
        "\n",
        "# Método 5. Igual que el anterior pero sin ser necesario convertirlo en lista\n",
        "def cap_space(text):\n",
        "    return ''.join(' ' + c.lower() if c.isupper() else c for c in text)\n",
        "\n",
        "# Método 6\n",
        "def cap_space(text):\n",
        "    return ''.join(c if c.islower() else ' ' + c.lower() for c in text)\n",
        "\n",
        "# Método 7. Solución original, multiplicando por 1 o por 0 el espacio añadido\n",
        "def cap_space(text):\n",
        "    return ''.join(' ' * int(c.isupper()) + c.lower() for c in text)"
      ],
      "metadata": {
        "id": "aEx0aesJK5hM"
      },
      "execution_count": null,
      "outputs": []
    },
    {
      "cell_type": "code",
      "source": [
        "print(cap_space(\"helloWorld\"))  # \"hello world\"\n",
        "print(cap_space(\"iLoveMyTeapot\"))  # \"i love my teapot\"\n",
        "print(cap_space(\"stayIndoors\"))  # \"stay indoors\""
      ],
      "metadata": {
        "id": "O_8uRNSRK5hM",
        "colab": {
          "base_uri": "https://localhost:8080/"
        },
        "outputId": "0c360515-4b42-482d-962b-3fbe1a525b2d"
      },
      "execution_count": null,
      "outputs": [
        {
          "output_type": "stream",
          "name": "stdout",
          "text": [
            "hello world\n",
            "i love my teapot\n",
            "stay indoors\n"
          ]
        }
      ]
    },
    {
      "cell_type": "markdown",
      "source": [
        "## Reto 554:  ¡Abrígate!\n",
        "* Bundle Up!\n",
        "* Asumamos, para los propósitos de este desafío, que por cada *capa de tela* que uses cuando hace frío afuera (abrigos, chaquetas, etc.), la temperatura aumenta en una *décima parte del total*.\n",
        "* Dado un número `n` de capas y una temperatura dada, devuelve la temperatura dentro de todas esas cálidas y suaves capas.\n",
        "* Redondea a la *décima* de grado más cercana.\n",
        "\n",
        "```\n",
        "calc_temp_abrigada(2, \"10*C\") ➞ \"12.1*C\"\n",
        "#10 * 1.1 = 11\n",
        "#11 * 1.1 = 12.1\n",
        "```\n",
        "\n",
        "* **Ejemplos**\n",
        "\n",
        "```\n",
        "calc_temp_abrigada(1, \"2*C\") ➞ \"2.2*C\"\n",
        "calc_temp_abrigada(4, \"6*C\") ➞ \"8.8*C\"\n",
        "calc_temp_abrigada(20, \"4*C\") ➞ \"26.9*C\"\n",
        "```\n",
        "\n",
        "* **Notas**\n",
        "    - La temperatura se dará en Celsius y como una cadena.\n",
        "    - Ten en cuenta que el signo de grados se da como un asterisco."
      ],
      "metadata": {
        "id": "Bn2BcxITK5nY"
      }
    },
    {
      "cell_type": "code",
      "source": [
        "# Método 1\n",
        "def calc_temp_abrigada(n, temp):\n",
        "    temperatura = float(temp[:-2])  # Convertimos la temperatura a float, quitando \"*C\"\n",
        "    temperatura_final = temperatura * (1.1 ** n)\n",
        "    return f\"{round(temperatura_final, 1)}*C\"\n",
        "\n",
        "# Método 2\n",
        "def calc_temp_abrigada(n, s):\n",
        "    t, _ = s.split(\"*\")\n",
        "    return str(round(float(t) * 1.1 ** n, 1)) + \"*C\"\n",
        "\n",
        "# Método 3. Usando un bucle for\n",
        "def calc_temp_abrigada(n, temp):\n",
        "    temperatura = float(temp[:-2])  # Convertimos la temperatura a float, quitando \"*C\"\n",
        "    for _ in range(n):\n",
        "        temperatura *= 1.1\n",
        "    return f\"{round(temperatura, 1)}*C\""
      ],
      "metadata": {
        "id": "K3jYRS0LK5nY"
      },
      "execution_count": null,
      "outputs": []
    },
    {
      "cell_type": "code",
      "source": [
        "print(calc_temp_abrigada(1, \"2*C\"))     # 2.2*C\n",
        "print(calc_temp_abrigada(4, \"6*C\"))     # 8.8*C\n",
        "print(calc_temp_abrigada(20, \"4*C\"))    # 26.9*C\n",
        "print(calc_temp_abrigada(2, \"10*C\"))    # 12.1*C"
      ],
      "metadata": {
        "id": "afoX9yTtK5nY",
        "colab": {
          "base_uri": "https://localhost:8080/"
        },
        "outputId": "80c7f2be-dd7a-41fc-8ef4-3f148a750a64"
      },
      "execution_count": null,
      "outputs": [
        {
          "output_type": "stream",
          "name": "stdout",
          "text": [
            "2.2*C\n",
            "8.8*C\n",
            "26.9*C\n",
            "12.1*C\n"
          ]
        }
      ]
    },
    {
      "cell_type": "markdown",
      "source": [
        "## Reto 555: ¿En el Centro?\n",
        "* In the Centre?\n",
        "* Dada una cadena que contiene principalmente espacios y *un* carácter que no es un espacio, devuelve si el carácter está posicionado exactamente en el centro de la cadena. Esto significa que el número de espacios en ambos lados **debe ser el mismo**.\n",
        "\n",
        "* **Ejemplos**\n",
        "\n",
        "```\n",
        "es_central(\"  #  \") ➞ True\n",
        "\n",
        "es_central(\" 2    \") ➞ False\n",
        "\n",
        "es_central(\"@\") ➞ True\n",
        "```\n",
        "\n",
        "* **Notas**\n",
        "    - Solo se dará un carácter que no sea espacio a la vez."
      ],
      "metadata": {
        "id": "j84aufrmK5ts"
      }
    },
    {
      "cell_type": "code",
      "source": [
        "# Método 1: Usando el método strip() y comparación de longitudes\n",
        "def es_central(cadena):\n",
        "    # Eliminamos los espacios en blanco al inicio y al final\n",
        "    cadena_sin_espacios = cadena.strip()\n",
        "\n",
        "    # Obtenemos la longitud de la cadena original y la cadena sin espacios\n",
        "    longitud_original = len(cadena)\n",
        "    longitud_sin_espacios = len(cadena_sin_espacios)\n",
        "\n",
        "    # Calculamos la cantidad de espacios en blanco\n",
        "    espacios_totales = longitud_original - longitud_sin_espacios\n",
        "\n",
        "    # Verificamos si la cantidad de espacios es par y si el carácter está en el centro\n",
        "    return espacios_totales % 2 == 0 and cadena.index(cadena_sin_espacios) == espacios_totales // 2\n",
        "\n",
        "# Método 2: Usando el método center()\n",
        "def es_central(cadena):\n",
        "    # Eliminamos los espacios en blanco y obtenemos el carácter\n",
        "    caracter = cadena.strip()\n",
        "\n",
        "    # Centramos el carácter en una cadena de la misma longitud que la original\n",
        "    cadena_centrada = caracter.center(len(cadena))\n",
        "\n",
        "    # Comparamos la cadena original con la cadena centrada\n",
        "    return cadena == cadena_centrada\n",
        "\n",
        "# Método 3\n",
        "def es_central(s):\n",
        "    c = ''.join(set(s) - {' '})\n",
        "    a, b = s.split(c)\n",
        "    return len(a) == len(b)"
      ],
      "metadata": {
        "id": "dTXK0w7wK5ts"
      },
      "execution_count": null,
      "outputs": []
    },
    {
      "cell_type": "code",
      "source": [
        "print(es_central(\"  #  \"))  # True\n",
        "print(es_central(\" 2    \")) # False\n",
        "print(es_central(\"@\"))      # True"
      ],
      "metadata": {
        "id": "ZeAsCh73K5ts",
        "colab": {
          "base_uri": "https://localhost:8080/"
        },
        "outputId": "c5e62eb1-0f51-44db-df17-cbf38fefedf7"
      },
      "execution_count": null,
      "outputs": [
        {
          "output_type": "stream",
          "name": "stdout",
          "text": [
            "True\n",
            "False\n",
            "True\n"
          ]
        }
      ]
    },
    {
      "cell_type": "code",
      "source": [
        "s = \"  #  \"\n",
        "c = ''.join(set(s) - {' '})\n",
        "a, b = s.split(c)\n",
        "len(a) == len(b)"
      ],
      "metadata": {
        "id": "OEGjprnY5M5P",
        "outputId": "1dcada48-52b8-4517-9e83-81294468bf21",
        "colab": {
          "base_uri": "https://localhost:8080/"
        }
      },
      "execution_count": null,
      "outputs": [
        {
          "output_type": "execute_result",
          "data": {
            "text/plain": [
              "True"
            ]
          },
          "metadata": {},
          "execution_count": 64
        }
      ]
    },
    {
      "cell_type": "markdown",
      "source": [
        "## Reto 556: Palabra más larga\n",
        "* Longest Word\n",
        "* Escribe una función que encuentre la **palabra más larga** en una oración.\n",
        "* Si se encuentran dos o más palabras, devuelve la primera palabra más larga.\n",
        "* Caracteres como apóstrofe, coma, punto (y similares) cuentan como parte de la palabra (por ejemplo, *O'Connor* tiene 8 caracteres de longitud).\n",
        "\n",
        "* **Ejemplos**\n",
        "\n",
        "```\n",
        "palabra_mas_larga(\"Tienes labios de fresa.\") ➞ \"Tienes\"\n",
        "palabra_mas_larga(\"¿Qué es poesia? Poesia eres tú.\") ➞ \"poesia?\"\n",
        "palabra_mas_larga(\"Es tan corto el amor, y es tan largo el olvido\") ➞ \"olvido\"\n",
        "```\n"
      ],
      "metadata": {
        "id": "3a-vhA3gK50H"
      }
    },
    {
      "cell_type": "code",
      "source": [
        "# Método 1\n",
        "def palabra_mas_larga(s):\n",
        "    palabras = s.split()\n",
        "    m = max(map(len, palabras))\n",
        "    for palabra in palabras:\n",
        "        if len(palabra) == m:\n",
        "            return palabra\n",
        "\n",
        "# Método 2\n",
        "def palabra_mas_larga(oracion):\n",
        "    return max(oracion.split(), key=len)\n",
        "\n",
        "# Método 3\n",
        "def palabra_mas_larga(oracion):\n",
        "    palabras = oracion.split()\n",
        "    palabra_mas_larga = \"\"\n",
        "    for palabra in palabras:\n",
        "        if len(palabra) > len(palabra_mas_larga): # al ser > (y no >=) toma la 1ª palabra más larga en caso de empate\n",
        "            palabra_mas_larga = palabra\n",
        "    return palabra_mas_larga\n",
        "\n",
        "# Método 4\n",
        "from functools import reduce\n",
        "\n",
        "def palabra_mas_larga(oracion):\n",
        "    return reduce(lambda x, y: x if len(x) >= len(y) else y, oracion.split())\n",
        "\n",
        "# Método 5\n",
        "def palabra_mas_larga(oracion):\n",
        "    return max(oracion.split(), key=len)"
      ],
      "metadata": {
        "id": "JQJhoPODK50H"
      },
      "execution_count": null,
      "outputs": []
    },
    {
      "cell_type": "code",
      "source": [
        "print(palabra_mas_larga(\"Tienes labios de fresa.\"))                         # Tienes   tiene 6\n",
        "print(palabra_mas_larga(\"¿Qué es poesia? Poesia eres tú.\"))                 # poesia?  tiene 7\n",
        "print(palabra_mas_larga(\"Es tan corto el amor, y es tan largo el olvido\"))  # olvido   tiene 6"
      ],
      "metadata": {
        "id": "oy9CI_OGK50H",
        "colab": {
          "base_uri": "https://localhost:8080/"
        },
        "outputId": "880ec09c-6335-4053-ce2e-2e0f061ec390"
      },
      "execution_count": null,
      "outputs": [
        {
          "output_type": "stream",
          "name": "stdout",
          "text": [
            "Tienes\n",
            "poesia?\n",
            "olvido\n"
          ]
        }
      ]
    },
    {
      "cell_type": "markdown",
      "source": [
        "## Reto 557: Resta Inusual\n",
        "* Unusual Subtraction\n",
        "* Crea una función que reste 1 de `n` (a menos que termine en 0) `k` número de veces.\n",
        "* Si `n` termina en `0`, elimina el `0`.\n",
        "\n",
        "\n",
        "1. El objetivo es crear una función llamada `not_good_math` que toma dos parámetros:\n",
        "   - `n`: el número inicial\n",
        "   - `k`: la cantidad de veces que se debe aplicar el algoritmo\n",
        "\n",
        "2. El algoritmo funciona así:  \n",
        "    2.1. Si el número termina en 0, elimina el 0 final.  \n",
        "    2.2. Si no termina en 0, resta 1 al número.\n",
        "\n",
        "3. Este proceso se repite `k` veces.\n",
        "\n",
        "Veamos un ejemplo detallado:\n",
        "\n",
        "```\n",
        "not_good_math(540, 5)\n",
        "```\n",
        "\n",
        "Paso a paso:\n",
        "1. 540 termina en 0, así que lo eliminamos: 54 (k = 1)\n",
        "2. 54 no termina en 0, restamos 1: 53 (k = 2)\n",
        "3. 53 - 1 = 52 (k = 3)\n",
        "4. 52 - 1 = 51 (k = 4)\n",
        "5. 51 - 1 = 50 (k = 5)\n",
        "\n",
        "El resultado final es 50.\n",
        "\n",
        "Es preciso manejar correctamente los casos donde el número termina en 0 y donde no, y repetir el proceso el número correcto de veces.\n",
        "\n",
        "Para ilustrar:\n",
        "\n",
        "```\n",
        "n = 22\n",
        "k = 3\n",
        "```\n",
        "\n",
        "Esto significa que nuestro número es 22 y tenemos que repetir el algoritmo tres veces. 22 no termina en 0 así que continuamos restando 1.\n",
        "\n",
        "```\n",
        "22 - 1 = 21 (k = 1)\n",
        "21 - 1 = 20 (k = 2)\n",
        "```\n",
        "\n",
        "    - Ahora 20 termina en 0, así que podemos eliminarlo.\n",
        "    - Obtenemos 2; (k = 3).\n",
        "\n",
        "El algoritmo termina ahí porque se aplicó tres veces.\n",
        "\n",
        "```\n",
        "N:  K:\n",
        "22\n",
        "21  1\n",
        "20  2\n",
        "2   3\n",
        "```\n",
        "\n",
        "* **Ejemplos**\n",
        "\n",
        "```\n",
        "not_good_math(540, 5) ➞ 50\n",
        "not_good_math(1000000000, 9) ➞ 1\n",
        "not_good_math(42023110, 10) ➞ 4201\n",
        "```"
      ],
      "metadata": {
        "id": "LTm036CpK56Y"
      }
    },
    {
      "cell_type": "code",
      "source": [
        "# Método 1\n",
        "def not_good_math(n, k):\n",
        "    for i in range(k):\n",
        "        if (str(n))[-1] == '0':\n",
        "            n = int((str(n))[:-1])\n",
        "        else:\n",
        "            n -= 1\n",
        "    return n\n",
        "\n",
        "# Método 2. Similar al anterior. Usando un operador ternario\n",
        "def not_good_math(n, k):\n",
        "    for _ in range(k):\n",
        "        n = int(str(n)[:-1]) if str(n).endswith('0') else n - 1\n",
        "    return n\n",
        "\n",
        "# Método 3. Usando un bucle while\n",
        "def not_good_math(n, k):\n",
        "    count = 0\n",
        "    while count < k:\n",
        "        if n % 10 == 0:\n",
        "            n //= 10\n",
        "        else:\n",
        "            n -= 1\n",
        "        count += 1\n",
        "    return n\n",
        "\n",
        "# Método 4. Función recursiva\n",
        "def not_good_math(n, k):\n",
        "    if k == 0:\n",
        "        return n\n",
        "    if n % 10 == 0:\n",
        "        return not_good_math(n // 10, k - 1)\n",
        "    else:\n",
        "        return not_good_math(n - 1, k - 1)"
      ],
      "metadata": {
        "id": "3NRCqqU0K56Y"
      },
      "execution_count": 15,
      "outputs": []
    },
    {
      "cell_type": "code",
      "source": [
        "print(not_good_math(540, 5))        # 50\n",
        "print(not_good_math(1000000000, 9)) # 1\n",
        "print(not_good_math(42023110, 10))  # 4201"
      ],
      "metadata": {
        "id": "CWRWKElXK56Y",
        "colab": {
          "base_uri": "https://localhost:8080/"
        },
        "outputId": "19a4d5ef-1403-4ee7-fa40-6d522e589d6b"
      },
      "execution_count": 14,
      "outputs": [
        {
          "output_type": "stream",
          "name": "stdout",
          "text": [
            "50\n",
            "1\n",
            "4201\n"
          ]
        }
      ]
    },
    {
      "cell_type": "markdown",
      "source": [
        "## Reto 558: Letras Faltantes\n",
        "* Missing Letters\n",
        "* Dada una cadena que contiene letras **únicas**, devuelve una cadena ordenada con las letras que **no aparecen en la cadena**.\n",
        "* **Ejemplos**\n",
        "\n",
        "```\n",
        "get_missing_letters(\"abcdefgpqrstuvwxyz\") ➞ \"hijklmno\"\n",
        "\n",
        "get_missing_letters(\"zyxwvutsrq\") ➞ \"abcdefghijklmnop\"\n",
        "\n",
        "get_missing_letters(\"abc\") ➞ \"defghijklmnopqrstuvwxyz\"\n",
        "\n",
        "get_missing_letters(\"abcdefghijklmnopqrstuvwxyz\") ➞ \"\"\n",
        "```\n",
        "\n",
        "* **Notas**\n",
        "    - La combinación de ambas cadenas debe tener **26 elementos** de largo, incluyendo todas las letras del alfabeto.\n",
        "    - Las letras estarán todas en minúsculas."
      ],
      "metadata": {
        "id": "VXfhvFLAK6BL"
      }
    },
    {
      "cell_type": "code",
      "source": [
        "# Método 1\n",
        "ALFABETO = \"abcdefghijklmnopqrstuvwxyz\"\n",
        "\n",
        "def get_missing_letters(s):\n",
        "    return ''.join(sorted(c for c in ALFABETO if c not in s))\n",
        "\n",
        "# Método 2\n",
        "def get_missing_letters(s):\n",
        "    # Creamos un conjunto con todas las letras del alfabeto\n",
        "    alphabet = set(ALFABETO)\n",
        "\n",
        "    # Creamos un conjunto con las letras de la cadena de entrada\n",
        "    s_set = set(s)\n",
        "\n",
        "    # Encontramos la diferencia entre los conjuntos\n",
        "    missing = alphabet - s_set\n",
        "\n",
        "    # Convertimos el resultado a una lista, la ordenamos y la unimos en una cadena\n",
        "    return ''.join(sorted(missing))\n",
        "\n",
        "# Método 3. Usando list comprehension\n",
        "def get_missing_letters(s):\n",
        "    # Creamos una lista con las letras que no están en la cadena de entrada\n",
        "    missing = [chr(i) for i in range(ord('a'), ord('z')+1) if chr(i) not in s]\n",
        "\n",
        "    # Unimos la lista en una cadena\n",
        "    return ''.join(missing)\n",
        "\n",
        "# Método 4. Restando conjuntos\n",
        "def get_missing_letters(s):\n",
        "    return ''.join(sorted(set(ALFABETO) - set(s)))\n",
        "\n",
        "# Método 5. Generando el alfabeto con map(chr, range(97, 123))\n",
        "def get_missing_letters(s):\n",
        "    return ''.join(sorted(set(map(chr, range(97, 123))) - set(s)))"
      ],
      "metadata": {
        "id": "Vs6GDKDMK6BL"
      },
      "execution_count": 42,
      "outputs": []
    },
    {
      "cell_type": "code",
      "source": [
        "print(get_missing_letters(\"abcdefgpqrstuvwxyz\"))            # \"hijklmno\"\n",
        "print(get_missing_letters(\"zyxwvutsrq\"))                    # \"abcdefghijklmnop\"\n",
        "print(get_missing_letters(\"abc\"))                           # \"defghijklmnopqrstuvwxyz\"\n",
        "print(get_missing_letters(\"abcdefghijklmnopqrstuvwxyz\"))    # \"\""
      ],
      "metadata": {
        "id": "sGPKHDQrK6BL",
        "colab": {
          "base_uri": "https://localhost:8080/"
        },
        "outputId": "754f5ea9-c36e-4ee3-ae9b-66817f29c454"
      },
      "execution_count": 43,
      "outputs": [
        {
          "output_type": "stream",
          "name": "stdout",
          "text": [
            "hijklmno\n",
            "abcdefghijklmnop\n",
            "defghijklmnopqrstuvwxyz\n",
            "\n"
          ]
        }
      ]
    },
    {
      "cell_type": "markdown",
      "source": [
        "## Reto 559: Número Perfecto\n",
        "* Perfect Number\n",
        "* Crea una función que compruebe si un número entero es o no un **número perfecto**.\n",
        "* Un número perfecto es aquel que puede escribirse como la suma de sus factores, excluyendo el número mismo.\n",
        "\n",
        "* Por ejemplo, 6 es un **número perfecto**, ya que 1 + 2 + 3 = 6, donde 1, 2 y 3 son todos factores de 6. De manera similar, 28 es un **número perfecto**, ya que 1 + 2 + 4 + 7 + 14 = 28.\n",
        "\n",
        "* **Ejemplos**\n",
        "\n",
        "```\n",
        "check_perfect(6) ➞ True\n",
        "check_perfect(28) ➞ True\n",
        "check_perfect(496) ➞ True\n",
        "check_perfect(12) ➞ False\n",
        "check_perfect(97) ➞ False\n",
        "```"
      ],
      "metadata": {
        "id": "ihYQFfWmK6Hv"
      }
    },
    {
      "cell_type": "code",
      "source": [
        "# Método 1\n",
        "def check_perfect(n):\n",
        "    divisores = []\n",
        "    for i in range(1, n):\n",
        "        if n % i == 0:\n",
        "            divisores.append(i)\n",
        "    return sum(divisores) == n\n",
        "\n",
        "# Método 2. Comprimiendo el método anterior\n",
        "def check_perfect(n):\n",
        "    return sum(i for i in range(1, n) if n % i == 0) == n\n",
        "\n",
        "# Método 3. Función optimizada\n",
        "def check_perfect(n):\n",
        "    if n <= 1:\n",
        "        return False\n",
        "    return sum(i + (n // i) if i != n // i else i for i in range(1, int(n**0.5) + 1) if n % i == 0) == n * 2\n",
        "\n",
        "# Método 4\n",
        "def check_perfect(num):\n",
        "    if num <= 1:\n",
        "        return False\n",
        "\n",
        "    sum_factors = 1  # Inicializamos con 1 porque 1 siempre es un factor\n",
        "    for i in range(2, int(num**0.5) + 1):\n",
        "        if num % i == 0:\n",
        "            sum_factors += i\n",
        "            if i != num // i:\n",
        "                sum_factors += num // i\n",
        "\n",
        "    return sum_factors == num\n",
        "\n",
        "# Método 5\n",
        "def check_perfect(num):\n",
        "    if num <= 1:\n",
        "        return False\n",
        "\n",
        "    factors = [1] + [i for i in range(2, int(num**0.5) + 1) if num % i == 0]\n",
        "    factors += [num // i for i in factors[1:] if i != num // i]\n",
        "\n",
        "    return sum(factors) == num\n",
        "\n",
        "# Método 6\n",
        "def check_perfect(num):\n",
        "    if num <= 1:\n",
        "        return False\n",
        "\n",
        "    def factors(n):\n",
        "        yield 1\n",
        "        for i in range(2, int(n**0.5) + 1):\n",
        "            if n % i == 0:\n",
        "                yield i\n",
        "                if i != n // i:\n",
        "                    yield n // i\n",
        "\n",
        "    return sum(factors(num)) == num\n",
        "\n",
        "# Método 7. Usando filter\n",
        "def check_perfect(n):\n",
        "    factors = filter(lambda x: n % x == 0, range(1, n))\n",
        "    return sum(factors) == n"
      ],
      "metadata": {
        "id": "PlTymfYrK6Hw"
      },
      "execution_count": 63,
      "outputs": []
    },
    {
      "cell_type": "code",
      "source": [
        "print(check_perfect(6))     # True\n",
        "print(check_perfect(28))    # True\n",
        "print(check_perfect(496))   # True\n",
        "print(check_perfect(8128))  # True\n",
        "print(check_perfect(12))    # False\n",
        "print(check_perfect(97))    # False\n",
        "print(check_perfect(100))   # False"
      ],
      "metadata": {
        "id": "6SW9KhA1K6Hw",
        "colab": {
          "base_uri": "https://localhost:8080/"
        },
        "outputId": "bbcca027-a3fa-45db-d5d7-9e77adf3d3f6"
      },
      "execution_count": 64,
      "outputs": [
        {
          "output_type": "stream",
          "name": "stdout",
          "text": [
            "True\n",
            "True\n",
            "True\n",
            "False\n",
            "False\n",
            "False\n"
          ]
        }
      ]
    },
    {
      "cell_type": "markdown",
      "source": [
        "## Reto 560: Impares arriba, pares abajo — N veces\n",
        "* Odd Up, Even Down — N Times\n",
        "* Crea una función que realice una transformación **par-impar** a una lista, `n` veces.\n",
        "* Cada transformación **par-impar**:\n",
        "    1. Suma dos (**+2**) a cada entero **impar**.\n",
        "    2. Resta dos (**-2**) a cada entero **par**.\n",
        "\n",
        "* **Ejemplos**\n",
        "\n",
        "```\n",
        "even_odd_transform([3, 4, 9], 3) ➞ [9, -2, 15]\n",
        "#Ya que [3, 4, 9] => [5, 2, 11] => [7, 0, 13] => [9, -2, 15]\n",
        "\n",
        "even_odd_transform([0, 0, 0], 10) ➞ [-20, -20, -20]\n",
        "\n",
        "even_odd_transform([1, 2, 3], 1) ➞ [3, 0, 5]\n",
        "```"
      ],
      "metadata": {
        "id": "4Zr_cUZdK6OG"
      }
    },
    {
      "cell_type": "code",
      "source": [
        "# Método 1: Usando un bucle for y modificando la lista in-place\n",
        "def even_odd_transform(lst, n):\n",
        "    for _ in range(n):\n",
        "        for i in range(len(lst)):\n",
        "            if lst[i] % 2 == 0:\n",
        "                lst[i] -= 2\n",
        "            else:\n",
        "                lst[i] += 2\n",
        "    return lst\n",
        "\n",
        "# Método 2: Usando comprensión de listas\n",
        "def even_odd_transform(lst, n):\n",
        "    for _ in range(n):\n",
        "        lst = [num - 2 if num % 2 == 0 else num + 2 for num in lst]\n",
        "    return lst\n",
        "\n",
        "# Método 3: Usando map() y una función lambda\n",
        "def even_odd_transform(lst, n):\n",
        "    for _ in range(n):\n",
        "        lst = list(map(lambda x: x - 2 if x % 2 == 0 else x + 2, lst))\n",
        "    return lst"
      ],
      "metadata": {
        "id": "SjLK9-nnK6OG"
      },
      "execution_count": 75,
      "outputs": []
    },
    {
      "cell_type": "code",
      "source": [
        "print(even_odd_transform([3, 4, 9], 3))     # [9, -2, 15]\n",
        "print(even_odd_transform([0, 0, 0], 10))    # [-20, -20, -20]\n",
        "print(even_odd_transform([1, 2, 3], 1))     # [3, 0, 5]"
      ],
      "metadata": {
        "id": "31bfdRi1K6OH",
        "colab": {
          "base_uri": "https://localhost:8080/"
        },
        "outputId": "683fd736-55ee-45cf-e69a-21dab24a6309"
      },
      "execution_count": 76,
      "outputs": [
        {
          "output_type": "stream",
          "name": "stdout",
          "text": [
            "[9, -2, 15]\n",
            "[-20, -20, -20]\n",
            "[3, 0, 5]\n"
          ]
        }
      ]
    },
    {
      "cell_type": "markdown",
      "source": [
        "## Reto 561:"
      ],
      "metadata": {
        "id": "61iV19v3LMiA"
      }
    },
    {
      "cell_type": "code",
      "source": [
        "# Método 1\n",
        "def :\n",
        "    pass"
      ],
      "metadata": {
        "id": "APrJ0KyLLMiA"
      },
      "execution_count": null,
      "outputs": []
    },
    {
      "cell_type": "code",
      "source": [
        "print()\n",
        "print()\n",
        "print()\n",
        "print()"
      ],
      "metadata": {
        "id": "e-mBlXAzLMiA"
      },
      "execution_count": null,
      "outputs": []
    },
    {
      "cell_type": "markdown",
      "source": [
        "## Reto 562:"
      ],
      "metadata": {
        "id": "Q3wgEONiLMoN"
      }
    },
    {
      "cell_type": "code",
      "source": [
        "# Método 1\n",
        "def :\n",
        "    pass"
      ],
      "metadata": {
        "id": "nCT72IuULMoN"
      },
      "execution_count": null,
      "outputs": []
    },
    {
      "cell_type": "code",
      "source": [
        "print()\n",
        "print()\n",
        "print()\n",
        "print()"
      ],
      "metadata": {
        "id": "6EDB8fUILMoN"
      },
      "execution_count": null,
      "outputs": []
    },
    {
      "cell_type": "markdown",
      "source": [
        "## Reto 563:"
      ],
      "metadata": {
        "id": "spC8vL2CLMuM"
      }
    },
    {
      "cell_type": "code",
      "source": [
        "# Método 1\n",
        "def :\n",
        "    pass"
      ],
      "metadata": {
        "id": "TddezJz3LMuM"
      },
      "execution_count": null,
      "outputs": []
    },
    {
      "cell_type": "code",
      "source": [
        "print()\n",
        "print()\n",
        "print()\n",
        "print()"
      ],
      "metadata": {
        "id": "DTGUrFS_LMuM"
      },
      "execution_count": null,
      "outputs": []
    },
    {
      "cell_type": "markdown",
      "source": [
        "## Reto 564:"
      ],
      "metadata": {
        "id": "A1ntmuTcLM0k"
      }
    },
    {
      "cell_type": "code",
      "source": [
        "# Método 1\n",
        "def :\n",
        "    pass"
      ],
      "metadata": {
        "id": "_9a-z09FLM0k"
      },
      "execution_count": null,
      "outputs": []
    },
    {
      "cell_type": "code",
      "source": [
        "print()\n",
        "print()\n",
        "print()\n",
        "print()"
      ],
      "metadata": {
        "id": "jSIiQqtbLM0k"
      },
      "execution_count": null,
      "outputs": []
    },
    {
      "cell_type": "markdown",
      "source": [
        "## Reto 565:"
      ],
      "metadata": {
        "id": "skyyiwalLM63"
      }
    },
    {
      "cell_type": "code",
      "source": [
        "# Método 1\n",
        "def :\n",
        "    pass"
      ],
      "metadata": {
        "id": "vYDysMfrLM64"
      },
      "execution_count": null,
      "outputs": []
    },
    {
      "cell_type": "code",
      "source": [
        "print()\n",
        "print()\n",
        "print()\n",
        "print()"
      ],
      "metadata": {
        "id": "VZnOmYkVLM64"
      },
      "execution_count": null,
      "outputs": []
    },
    {
      "cell_type": "markdown",
      "source": [
        "## Reto 566:"
      ],
      "metadata": {
        "id": "rjg7iNPbLNBK"
      }
    },
    {
      "cell_type": "code",
      "source": [
        "# Método 1\n",
        "def :\n",
        "    pass"
      ],
      "metadata": {
        "id": "DLlmx8xGLNBL"
      },
      "execution_count": null,
      "outputs": []
    },
    {
      "cell_type": "code",
      "source": [
        "print()\n",
        "print()\n",
        "print()\n",
        "print()"
      ],
      "metadata": {
        "id": "sl2Nh-3ELNBL"
      },
      "execution_count": null,
      "outputs": []
    },
    {
      "cell_type": "markdown",
      "source": [
        "## Reto 567:"
      ],
      "metadata": {
        "id": "yzgkeQHcLNHJ"
      }
    },
    {
      "cell_type": "code",
      "source": [
        "# Método 1\n",
        "def :\n",
        "    pass"
      ],
      "metadata": {
        "id": "kLI_QC9gLNHJ"
      },
      "execution_count": null,
      "outputs": []
    },
    {
      "cell_type": "code",
      "source": [
        "print()\n",
        "print()\n",
        "print()\n",
        "print()"
      ],
      "metadata": {
        "id": "EYukYgtgLNHJ"
      },
      "execution_count": null,
      "outputs": []
    },
    {
      "cell_type": "markdown",
      "source": [
        "## Reto 568:"
      ],
      "metadata": {
        "id": "eahEzmzyLNNG"
      }
    },
    {
      "cell_type": "code",
      "source": [
        "# Método 1\n",
        "def :\n",
        "    pass"
      ],
      "metadata": {
        "id": "bt1kAeH8LNNH"
      },
      "execution_count": null,
      "outputs": []
    },
    {
      "cell_type": "code",
      "source": [
        "print()\n",
        "print()\n",
        "print()\n",
        "print()"
      ],
      "metadata": {
        "id": "lk_T2N1oLNNH"
      },
      "execution_count": null,
      "outputs": []
    },
    {
      "cell_type": "markdown",
      "source": [
        "## Reto 569:"
      ],
      "metadata": {
        "id": "LyBHsamYLNTi"
      }
    },
    {
      "cell_type": "code",
      "source": [
        "# Método 1\n",
        "def :\n",
        "    pass"
      ],
      "metadata": {
        "id": "Uo4ZObcALNTj"
      },
      "execution_count": null,
      "outputs": []
    },
    {
      "cell_type": "code",
      "source": [
        "print()\n",
        "print()\n",
        "print()\n",
        "print()"
      ],
      "metadata": {
        "id": "5sQe_lqeLNTj"
      },
      "execution_count": null,
      "outputs": []
    },
    {
      "cell_type": "markdown",
      "source": [
        "## Reto 570:"
      ],
      "metadata": {
        "id": "SQWyZ6-ALNZx"
      }
    },
    {
      "cell_type": "code",
      "source": [
        "# Método 1\n",
        "def :\n",
        "    pass"
      ],
      "metadata": {
        "id": "92mwwCgALNZy"
      },
      "execution_count": null,
      "outputs": []
    },
    {
      "cell_type": "code",
      "source": [
        "print()\n",
        "print()\n",
        "print()\n",
        "print()"
      ],
      "metadata": {
        "id": "3mS_3YvwLNZy"
      },
      "execution_count": null,
      "outputs": []
    },
    {
      "cell_type": "markdown",
      "source": [
        "## Reto 571:"
      ],
      "metadata": {
        "id": "2owkhItHLhyB"
      }
    },
    {
      "cell_type": "code",
      "source": [
        "# Método 1\n",
        "def :\n",
        "    pass"
      ],
      "metadata": {
        "id": "RXDX_haSLhyB"
      },
      "execution_count": null,
      "outputs": []
    },
    {
      "cell_type": "code",
      "source": [
        "print()\n",
        "print()\n",
        "print()\n",
        "print()"
      ],
      "metadata": {
        "id": "c7qRbfyqLhyB"
      },
      "execution_count": null,
      "outputs": []
    },
    {
      "cell_type": "markdown",
      "source": [
        "## Reto 572:"
      ],
      "metadata": {
        "id": "CDLt9UxgLh4J"
      }
    },
    {
      "cell_type": "code",
      "source": [
        "# Método 1\n",
        "def :\n",
        "    pass"
      ],
      "metadata": {
        "id": "8vdcf6vQLh4J"
      },
      "execution_count": null,
      "outputs": []
    },
    {
      "cell_type": "code",
      "source": [
        "print()\n",
        "print()\n",
        "print()\n",
        "print()"
      ],
      "metadata": {
        "id": "5ZUHKvfgLh4J"
      },
      "execution_count": null,
      "outputs": []
    },
    {
      "cell_type": "markdown",
      "source": [
        "## Reto 573:"
      ],
      "metadata": {
        "id": "P7ziK0i7Lh-G"
      }
    },
    {
      "cell_type": "code",
      "source": [
        "# Método 1\n",
        "def :\n",
        "    pass"
      ],
      "metadata": {
        "id": "uqXYW16-Lh-G"
      },
      "execution_count": null,
      "outputs": []
    },
    {
      "cell_type": "code",
      "source": [
        "print()\n",
        "print()\n",
        "print()\n",
        "print()"
      ],
      "metadata": {
        "id": "qDWhkknZLh-G"
      },
      "execution_count": null,
      "outputs": []
    },
    {
      "cell_type": "markdown",
      "source": [
        "## Reto 574:"
      ],
      "metadata": {
        "id": "5GsbhwnNLiFJ"
      }
    },
    {
      "cell_type": "code",
      "source": [
        "# Método 1\n",
        "def :\n",
        "    pass"
      ],
      "metadata": {
        "id": "nxMhqeUJLiFJ"
      },
      "execution_count": null,
      "outputs": []
    },
    {
      "cell_type": "code",
      "source": [
        "print()\n",
        "print()\n",
        "print()\n",
        "print()"
      ],
      "metadata": {
        "id": "sQbzrz9OLiFJ"
      },
      "execution_count": null,
      "outputs": []
    },
    {
      "cell_type": "markdown",
      "source": [
        "## Reto 575:"
      ],
      "metadata": {
        "id": "kMC9MQDfLiLH"
      }
    },
    {
      "cell_type": "code",
      "source": [
        "# Método 1\n",
        "def :\n",
        "    pass"
      ],
      "metadata": {
        "id": "nvEc58pxLiLH"
      },
      "execution_count": null,
      "outputs": []
    },
    {
      "cell_type": "code",
      "source": [
        "print()\n",
        "print()\n",
        "print()\n",
        "print()"
      ],
      "metadata": {
        "id": "-wmRV9t5LiLH"
      },
      "execution_count": null,
      "outputs": []
    },
    {
      "cell_type": "markdown",
      "source": [
        "## Reto 576:"
      ],
      "metadata": {
        "id": "xSImdk9BLiRc"
      }
    },
    {
      "cell_type": "code",
      "source": [
        "# Método 1\n",
        "def :\n",
        "    pass"
      ],
      "metadata": {
        "id": "aT7l5TEpLiRc"
      },
      "execution_count": null,
      "outputs": []
    },
    {
      "cell_type": "code",
      "source": [
        "print()\n",
        "print()\n",
        "print()\n",
        "print()"
      ],
      "metadata": {
        "id": "BqaNoXNXLiRc"
      },
      "execution_count": null,
      "outputs": []
    },
    {
      "cell_type": "markdown",
      "source": [
        "## Reto 577:"
      ],
      "metadata": {
        "id": "06neNEk8LiX5"
      }
    },
    {
      "cell_type": "code",
      "source": [
        "# Método 1\n",
        "def :\n",
        "    pass"
      ],
      "metadata": {
        "id": "kaT8iASjLiX5"
      },
      "execution_count": null,
      "outputs": []
    },
    {
      "cell_type": "code",
      "source": [
        "print()\n",
        "print()\n",
        "print()\n",
        "print()"
      ],
      "metadata": {
        "id": "SHkZrpu8LiX5"
      },
      "execution_count": null,
      "outputs": []
    },
    {
      "cell_type": "markdown",
      "source": [
        "## Reto 578:"
      ],
      "metadata": {
        "id": "YYzjcI17Liez"
      }
    },
    {
      "cell_type": "code",
      "source": [
        "# Método 1\n",
        "def :\n",
        "    pass"
      ],
      "metadata": {
        "id": "it3KGvclLiez"
      },
      "execution_count": null,
      "outputs": []
    },
    {
      "cell_type": "code",
      "source": [
        "print()\n",
        "print()\n",
        "print()\n",
        "print()"
      ],
      "metadata": {
        "id": "10WjuOejLiez"
      },
      "execution_count": null,
      "outputs": []
    },
    {
      "cell_type": "markdown",
      "source": [
        "## Reto 579:"
      ],
      "metadata": {
        "id": "GkLinAg8Liky"
      }
    },
    {
      "cell_type": "code",
      "source": [
        "# Método 1\n",
        "def :\n",
        "    pass"
      ],
      "metadata": {
        "id": "NzErCS-oLiky"
      },
      "execution_count": null,
      "outputs": []
    },
    {
      "cell_type": "code",
      "source": [
        "print()\n",
        "print()\n",
        "print()\n",
        "print()"
      ],
      "metadata": {
        "id": "QASfCa0aLiky"
      },
      "execution_count": null,
      "outputs": []
    },
    {
      "cell_type": "markdown",
      "source": [
        "## Reto 580:"
      ],
      "metadata": {
        "id": "d-J7lYOULirf"
      }
    },
    {
      "cell_type": "code",
      "source": [
        "# Método 1\n",
        "def :\n",
        "    pass"
      ],
      "metadata": {
        "id": "yA18S0w4Lirf"
      },
      "execution_count": null,
      "outputs": []
    },
    {
      "cell_type": "code",
      "source": [
        "print()\n",
        "print()\n",
        "print()\n",
        "print()"
      ],
      "metadata": {
        "id": "Zw8myjqbLirf"
      },
      "execution_count": null,
      "outputs": []
    },
    {
      "cell_type": "markdown",
      "source": [
        "## Reto 581:"
      ],
      "metadata": {
        "id": "caTKyjSTL3a1"
      }
    },
    {
      "cell_type": "code",
      "source": [
        "# Método 1\n",
        "def :\n",
        "    pass"
      ],
      "metadata": {
        "id": "_ztXp-wgL3a1"
      },
      "execution_count": null,
      "outputs": []
    },
    {
      "cell_type": "code",
      "source": [
        "print()\n",
        "print()\n",
        "print()\n",
        "print()"
      ],
      "metadata": {
        "id": "tuwlQEk-L3a1"
      },
      "execution_count": null,
      "outputs": []
    },
    {
      "cell_type": "markdown",
      "source": [
        "## Reto 582:"
      ],
      "metadata": {
        "id": "7fiB0jv8L3hE"
      }
    },
    {
      "cell_type": "code",
      "source": [
        "# Método 1\n",
        "def :\n",
        "    pass"
      ],
      "metadata": {
        "id": "a7mOXJLPL3hF"
      },
      "execution_count": null,
      "outputs": []
    },
    {
      "cell_type": "code",
      "source": [
        "print()\n",
        "print()\n",
        "print()\n",
        "print()"
      ],
      "metadata": {
        "id": "rNJK48w9L3hF"
      },
      "execution_count": null,
      "outputs": []
    },
    {
      "cell_type": "markdown",
      "source": [
        "## Reto 583:"
      ],
      "metadata": {
        "id": "GKGE4HsJL3nW"
      }
    },
    {
      "cell_type": "code",
      "source": [
        "# Método 1\n",
        "def :\n",
        "    pass"
      ],
      "metadata": {
        "id": "EzEvRiJjL3nW"
      },
      "execution_count": null,
      "outputs": []
    },
    {
      "cell_type": "code",
      "source": [
        "print()\n",
        "print()\n",
        "print()\n",
        "print()"
      ],
      "metadata": {
        "id": "opmO9Yd8L3nW"
      },
      "execution_count": null,
      "outputs": []
    },
    {
      "cell_type": "markdown",
      "source": [
        "## Reto 584:"
      ],
      "metadata": {
        "id": "15rjwg1tL3tV"
      }
    },
    {
      "cell_type": "code",
      "source": [
        "# Método 1\n",
        "def :\n",
        "    pass"
      ],
      "metadata": {
        "id": "8WUz4w7aL3tV"
      },
      "execution_count": null,
      "outputs": []
    },
    {
      "cell_type": "code",
      "source": [
        "print()\n",
        "print()\n",
        "print()\n",
        "print()"
      ],
      "metadata": {
        "id": "VHrRCAUFL3tV"
      },
      "execution_count": null,
      "outputs": []
    },
    {
      "cell_type": "markdown",
      "source": [
        "## Reto 585:"
      ],
      "metadata": {
        "id": "waiNaoG1L3zp"
      }
    },
    {
      "cell_type": "code",
      "source": [
        "# Método 1\n",
        "def :\n",
        "    pass"
      ],
      "metadata": {
        "id": "H56FhgUnL3zp"
      },
      "execution_count": null,
      "outputs": []
    },
    {
      "cell_type": "code",
      "source": [
        "print()\n",
        "print()\n",
        "print()\n",
        "print()"
      ],
      "metadata": {
        "id": "cAZkIyvfL3zp"
      },
      "execution_count": null,
      "outputs": []
    },
    {
      "cell_type": "markdown",
      "source": [
        "## Reto 586:"
      ],
      "metadata": {
        "id": "t4yqCwAqL35p"
      }
    },
    {
      "cell_type": "code",
      "source": [
        "# Método 1\n",
        "def :\n",
        "    pass"
      ],
      "metadata": {
        "id": "pIiiWnaiL35p"
      },
      "execution_count": null,
      "outputs": []
    },
    {
      "cell_type": "code",
      "source": [
        "print()\n",
        "print()\n",
        "print()\n",
        "print()"
      ],
      "metadata": {
        "id": "a610MU9oL35p"
      },
      "execution_count": null,
      "outputs": []
    },
    {
      "cell_type": "markdown",
      "source": [
        "## Reto 587:"
      ],
      "metadata": {
        "id": "x6C1TjPaL3_-"
      }
    },
    {
      "cell_type": "code",
      "source": [
        "# Método 1\n",
        "def :\n",
        "    pass"
      ],
      "metadata": {
        "id": "XUQoZ9ReL3_-"
      },
      "execution_count": null,
      "outputs": []
    },
    {
      "cell_type": "code",
      "source": [
        "print()\n",
        "print()\n",
        "print()\n",
        "print()"
      ],
      "metadata": {
        "id": "TWyax5wnL3_-"
      },
      "execution_count": null,
      "outputs": []
    },
    {
      "cell_type": "markdown",
      "source": [
        "## Reto 588:"
      ],
      "metadata": {
        "id": "zBie26x6L4Gr"
      }
    },
    {
      "cell_type": "code",
      "source": [
        "# Método 1\n",
        "def :\n",
        "    pass"
      ],
      "metadata": {
        "id": "buUbN8SwL4Gr"
      },
      "execution_count": null,
      "outputs": []
    },
    {
      "cell_type": "code",
      "source": [
        "print()\n",
        "print()\n",
        "print()\n",
        "print()"
      ],
      "metadata": {
        "id": "r6qt-50EL4Gr"
      },
      "execution_count": null,
      "outputs": []
    },
    {
      "cell_type": "markdown",
      "source": [
        "## Reto 589:"
      ],
      "metadata": {
        "id": "u3S8YwmWL4Ns"
      }
    },
    {
      "cell_type": "code",
      "source": [
        "# Método 1\n",
        "def :\n",
        "    pass"
      ],
      "metadata": {
        "id": "kjHpn_3rL4Ns"
      },
      "execution_count": null,
      "outputs": []
    },
    {
      "cell_type": "code",
      "source": [
        "print()\n",
        "print()\n",
        "print()\n",
        "print()"
      ],
      "metadata": {
        "id": "lBLE97MwL4Ns"
      },
      "execution_count": null,
      "outputs": []
    },
    {
      "cell_type": "markdown",
      "source": [
        "## Reto 590:"
      ],
      "metadata": {
        "id": "c_paq_i4L4Uv"
      }
    },
    {
      "cell_type": "code",
      "source": [
        "# Método 1\n",
        "def :\n",
        "    pass"
      ],
      "metadata": {
        "id": "5eBRqnbEL4Uv"
      },
      "execution_count": null,
      "outputs": []
    },
    {
      "cell_type": "code",
      "source": [
        "print()\n",
        "print()\n",
        "print()\n",
        "print()"
      ],
      "metadata": {
        "id": "rUuQg2ZIL4Uv"
      },
      "execution_count": null,
      "outputs": []
    },
    {
      "cell_type": "markdown",
      "source": [
        "## Reto 591:"
      ],
      "metadata": {
        "id": "3w2wTJmWMJ-E"
      }
    },
    {
      "cell_type": "code",
      "source": [
        "# Método 1\n",
        "def :\n",
        "    pass"
      ],
      "metadata": {
        "id": "ajHrz-XxMJ-E"
      },
      "execution_count": null,
      "outputs": []
    },
    {
      "cell_type": "code",
      "source": [
        "print()\n",
        "print()\n",
        "print()\n",
        "print()"
      ],
      "metadata": {
        "id": "4RR98pcWMJ-E"
      },
      "execution_count": null,
      "outputs": []
    },
    {
      "cell_type": "markdown",
      "source": [
        "## Reto 592:"
      ],
      "metadata": {
        "id": "CtVXEJ_GMKEv"
      }
    },
    {
      "cell_type": "code",
      "source": [
        "# Método 1\n",
        "def :\n",
        "    pass"
      ],
      "metadata": {
        "id": "SV1DE57fMKEv"
      },
      "execution_count": null,
      "outputs": []
    },
    {
      "cell_type": "code",
      "source": [
        "print()\n",
        "print()\n",
        "print()\n",
        "print()"
      ],
      "metadata": {
        "id": "EbIacckFMKEv"
      },
      "execution_count": null,
      "outputs": []
    },
    {
      "cell_type": "markdown",
      "source": [
        "## Reto 593:"
      ],
      "metadata": {
        "id": "VZGtZ8s_MKK_"
      }
    },
    {
      "cell_type": "code",
      "source": [
        "# Método 1\n",
        "def :\n",
        "    pass"
      ],
      "metadata": {
        "id": "02-FMX0hMKLA"
      },
      "execution_count": null,
      "outputs": []
    },
    {
      "cell_type": "code",
      "source": [
        "print()\n",
        "print()\n",
        "print()\n",
        "print()"
      ],
      "metadata": {
        "id": "8S33i01kMKLA"
      },
      "execution_count": null,
      "outputs": []
    },
    {
      "cell_type": "markdown",
      "source": [
        "## Reto 594:"
      ],
      "metadata": {
        "id": "zNLzygsBMKRW"
      }
    },
    {
      "cell_type": "code",
      "source": [
        "# Método 1\n",
        "def :\n",
        "    pass"
      ],
      "metadata": {
        "id": "KeoLE6LyMKRW"
      },
      "execution_count": null,
      "outputs": []
    },
    {
      "cell_type": "code",
      "source": [
        "print()\n",
        "print()\n",
        "print()\n",
        "print()"
      ],
      "metadata": {
        "id": "M-f3lc_BMKRW"
      },
      "execution_count": null,
      "outputs": []
    },
    {
      "cell_type": "markdown",
      "source": [
        "## Reto 595:"
      ],
      "metadata": {
        "id": "IdhnocJpMKYC"
      }
    },
    {
      "cell_type": "code",
      "source": [
        "# Método 1\n",
        "def :\n",
        "    pass"
      ],
      "metadata": {
        "id": "LiajNLNhMKYC"
      },
      "execution_count": null,
      "outputs": []
    },
    {
      "cell_type": "code",
      "source": [
        "print()\n",
        "print()\n",
        "print()\n",
        "print()"
      ],
      "metadata": {
        "id": "d1yzMQbOMKYD"
      },
      "execution_count": null,
      "outputs": []
    },
    {
      "cell_type": "markdown",
      "source": [
        "## Reto 596:"
      ],
      "metadata": {
        "id": "M3Dg-qw6MKe2"
      }
    },
    {
      "cell_type": "code",
      "source": [
        "# Método 1\n",
        "def :\n",
        "    pass"
      ],
      "metadata": {
        "id": "h-QbzJJ1MKe2"
      },
      "execution_count": null,
      "outputs": []
    },
    {
      "cell_type": "code",
      "source": [
        "print()\n",
        "print()\n",
        "print()\n",
        "print()"
      ],
      "metadata": {
        "id": "oXwQiGaaMKe2"
      },
      "execution_count": null,
      "outputs": []
    },
    {
      "cell_type": "markdown",
      "source": [
        "## Reto 597:"
      ],
      "metadata": {
        "id": "Eiezcer_MKlv"
      }
    },
    {
      "cell_type": "code",
      "source": [
        "# Método 1\n",
        "def :\n",
        "    pass"
      ],
      "metadata": {
        "id": "3AhSpAG-MKlv"
      },
      "execution_count": null,
      "outputs": []
    },
    {
      "cell_type": "code",
      "source": [
        "print()\n",
        "print()\n",
        "print()\n",
        "print()"
      ],
      "metadata": {
        "id": "aBWYbZrZMKlv"
      },
      "execution_count": null,
      "outputs": []
    },
    {
      "cell_type": "markdown",
      "source": [
        "## Reto 598:"
      ],
      "metadata": {
        "id": "bkTxYt81MKsy"
      }
    },
    {
      "cell_type": "code",
      "source": [
        "# Método 1\n",
        "def :\n",
        "    pass"
      ],
      "metadata": {
        "id": "tA22AXAFMKsy"
      },
      "execution_count": null,
      "outputs": []
    },
    {
      "cell_type": "code",
      "source": [
        "print()\n",
        "print()\n",
        "print()\n",
        "print()"
      ],
      "metadata": {
        "id": "UVGu2kGHMKsy"
      },
      "execution_count": null,
      "outputs": []
    },
    {
      "cell_type": "markdown",
      "source": [
        "## Reto 599:"
      ],
      "metadata": {
        "id": "vVMdctYWMK0i"
      }
    },
    {
      "cell_type": "code",
      "source": [
        "# Método 1\n",
        "def :\n",
        "    pass"
      ],
      "metadata": {
        "id": "NsbwxY5KMK0i"
      },
      "execution_count": null,
      "outputs": []
    },
    {
      "cell_type": "code",
      "source": [
        "print()\n",
        "print()\n",
        "print()\n",
        "print()"
      ],
      "metadata": {
        "id": "-3OWKd6mMK0i"
      },
      "execution_count": null,
      "outputs": []
    },
    {
      "cell_type": "markdown",
      "source": [
        "## Reto 600:"
      ],
      "metadata": {
        "id": "z6Jwjp2UMK7L"
      }
    },
    {
      "cell_type": "code",
      "source": [
        "# Método 1\n",
        "def :\n",
        "    pass"
      ],
      "metadata": {
        "id": "6vtarPksMK7L"
      },
      "execution_count": null,
      "outputs": []
    },
    {
      "cell_type": "code",
      "source": [
        "print()\n",
        "print()\n",
        "print()\n",
        "print()"
      ],
      "metadata": {
        "id": "jk_KKqnbMK7L"
      },
      "execution_count": null,
      "outputs": []
    }
  ]
}