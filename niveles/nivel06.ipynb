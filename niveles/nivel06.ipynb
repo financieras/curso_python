{
  "nbformat": 4,
  "nbformat_minor": 0,
  "metadata": {
    "colab": {
      "provenance": [],
      "authorship_tag": "ABX9TyMxRep5/xL3pIngDAzS3YRz",
      "include_colab_link": true
    },
    "kernelspec": {
      "name": "python3",
      "display_name": "Python 3"
    },
    "language_info": {
      "name": "python"
    }
  },
  "cells": [
    {
      "cell_type": "markdown",
      "metadata": {
        "id": "view-in-github",
        "colab_type": "text"
      },
      "source": [
        "<a href=\"https://colab.research.google.com/github/financieras/curso_python/blob/main/niveles/nivel06.ipynb\" target=\"_parent\"><img src=\"https://colab.research.google.com/assets/colab-badge.svg\" alt=\"Open In Colab\"/></a>"
      ]
    },
    {
      "cell_type": "markdown",
      "source": [
        "## Reto 501: Enfatizar las Palabras\n",
        "* Emphasise the Words\n",
        "* El desafío es recrear la funcionalidad del método `title()` en una función llamada `emphasise()`.\n",
        "* El método `title()` capitaliza la primera letra de *cada palabra* y convierte a minúsculas todas las demás letras de la palabra.\n",
        "* Ejemplos\n",
        "\n",
        "```\n",
        "emphasise(\"hello world\") ➞ \"Hello World\"\n",
        "emphasise(\"GOOD MORNING\") ➞ \"Good Morning\"\n",
        "emphasise(\"99 red balloons!\") ➞ \"99 Red Balloons!\"\n",
        "```\n",
        "\n",
        "* Notas\n",
        "    - No tendrás problemas al tratar con números en las cadenas.\n",
        "    - Por favor, no uses directamente el método `title()` :("
      ],
      "metadata": {
        "id": "IdwmiHhpglrt"
      }
    },
    {
      "cell_type": "code",
      "source": [
        "# Método 1\n",
        "def emphasise(string):\n",
        "    return ' '.join(word.capitalize() for word in string.split())\n",
        "\n",
        "# Método 2\n",
        "def emphasise(string):\n",
        "    return ' '.join(word[0].upper() + word[1:].lower() for word in string.split())\n",
        "\n",
        "# Método 3. Usando una expresión regular\n",
        "import re\n",
        "\n",
        "def emphasise(string):\n",
        "    return re.sub(r'\\b\\w+\\b', lambda match: match.group(0).capitalize(), string)"
      ],
      "metadata": {
        "id": "CaebWUsKffq2"
      },
      "execution_count": null,
      "outputs": []
    },
    {
      "cell_type": "code",
      "source": [
        "print(emphasise(\"hello world\"))         # Hello World\n",
        "print(emphasise(\"GOOD MORNING\"))        # Good Morning\n",
        "print(emphasise(\"99 red balloons!\"))    # 99 Red Balloons!"
      ],
      "metadata": {
        "outputId": "d8928274-4264-465b-ad82-9d7f0ce002c9",
        "colab": {
          "base_uri": "https://localhost:8080/"
        },
        "id": "hWbDZ9H9glrv"
      },
      "execution_count": null,
      "outputs": [
        {
          "output_type": "stream",
          "name": "stdout",
          "text": [
            "Hello World\n",
            "Good Morning\n",
            "99 Red Balloons!\n"
          ]
        }
      ]
    },
    {
      "cell_type": "markdown",
      "source": [
        "## Reto 502: Camino del Robot 🤖\n",
        "* Robot Path 🤖\n",
        "* Tenemos un robot simple que se navega mediante una serie de comandos Norte, Este, Sur y Oeste `[n, e, s, w]`.\n",
        "* Cada comando mueve al robot un paso en la dirección dada.\n",
        "* El robot está diseñado para solo dos destinos:\n",
        "    1. Destino No. 1: e, n, e, e, n\n",
        "    2. Destino No. 2: w, n, w, n, w, w, n\n",
        "\n",
        "* Crea una función que tome una lista de `comandos` y devuelva `True` si el robot llega a cualquiera de los destinos, `False` en caso contrario.\n",
        "\n",
        "* Ejemplos:\n",
        "\n",
        "```\n",
        "camino_robot([\"s\", \"e\", \"e\", \"n\", \"n\", \"e\", \"n\"]) ➞ True\n",
        "    - El robot terminará en el destino no. 1\n",
        "\n",
        "camino_robot([\"n\", \"e\", \"s\", \"w\", \"n\", \"e\", \"s\", \"w\", \"w\", \"s\", \"n\", \"e\"]) ➞ False\n",
        "    - El robot se perderá en algún lugar\n",
        "\n",
        "camino_robot([\"n\", \"s\", \"n\", \"n\", \"e\", \"n\", \"w\", \"w\", \"s\", \"w\", \"w\", \"w\", \"n\"]) ➞ True\n",
        "    - - El robot terminará en el destino no. 2\n",
        "```"
      ],
      "metadata": {
        "id": "E4jfdGPCglrv"
      }
    },
    {
      "cell_type": "code",
      "source": [
        "# Método 1\n",
        "def camino_robot(comandos):\n",
        "    # Definimos los puntos finales de los destinos\n",
        "    destino1 = (3, 2)  # e, n, e, e, n\n",
        "    destino2 = (-4, 3)  # w, n, w, n, w, w, n\n",
        "\n",
        "    # Inicializamos la posición del robot\n",
        "    x, y = 0, 0\n",
        "\n",
        "    # Procesamos cada comando\n",
        "    for comando in comandos:\n",
        "        if comando == \"n\":\n",
        "            y += 1\n",
        "        elif comando == \"s\":\n",
        "            y -= 1\n",
        "        elif comando == \"e\":\n",
        "            x += 1\n",
        "        elif comando == \"w\":\n",
        "            x -= 1\n",
        "\n",
        "        # Verificamos si el robot ha llegado a alguno de los destinos finales\n",
        "        if (x, y) == destino1 or (x, y) == destino2:\n",
        "            return True\n",
        "\n",
        "    # Si el robot no llegó a ningún destino final, devolvemos False\n",
        "    return False\n",
        "\n",
        "# Método 2. Usando dos funciones\n",
        "def obtener_destino(comandos):  # función auxiliar\n",
        "    x, y = 0, 0\n",
        "    for comando in comandos:\n",
        "        if comando == \"n\":\n",
        "            y += 1\n",
        "        elif comando == \"s\":\n",
        "            y -= 1\n",
        "        elif comando == \"e\":\n",
        "            x += 1\n",
        "        elif comando == \"w\":\n",
        "            x -= 1\n",
        "    return (x, y)               # Da la posición incluso de los destinos 1 y 2\n",
        "\n",
        "def camino_robot(comandos):\n",
        "    # Definimos los comandos para los destinos\n",
        "    destino1 = [\"e\", \"n\", \"e\", \"e\", \"n\"]\n",
        "    destino2 = [\"w\", \"n\", \"w\", \"n\", \"w\", \"w\", \"n\"]\n",
        "\n",
        "    # Obtenemos los destinos finales\n",
        "    posicion_destino1 = obtener_destino(destino1)   # llamamos a la función aux.\n",
        "    posicion_destino2 = obtener_destino(destino2)   # llamamos a la función aux.\n",
        "\n",
        "    # Obtenemos el destino final de los comandos dados\n",
        "    posicion_comandos = obtener_destino(comandos)   # llamamos a la función aux.\n",
        "\n",
        "    # Comparamos si el destino final de los comandos coincide con alguno de los destinos\n",
        "    return posicion_comandos == posicion_destino1 or posicion_comandos == posicion_destino2\n",
        "\n",
        "# Método 3. Una solución más condensada\n",
        "def camino_robot(comandos):\n",
        "    def destino(ruta):\n",
        "        return sum((1 if c == 'e' else -1 if c == 'w' else 0 for c in ruta)), \\\n",
        "               sum((1 if c == 'n' else -1 if c == 's' else 0 for c in ruta))\n",
        "\n",
        "    destinos = [destino(\"eneen\"), destino(\"wnwnwwn\")]\n",
        "    return destino(comandos) in destinos\n",
        "\n",
        "# Método 4. Con una función axiliar lambda que calcula la posición final\n",
        "def camino_robot(path):\n",
        "    destino = lambda ruta: (ruta.count('e') - ruta.count('w'), ruta.count('n') - ruta.count('s'))\n",
        "    return destino(path) in [destino(\"eneen\"), destino(\"wnwnwwn\")]"
      ],
      "metadata": {
        "id": "M2N7YVuIfY1q"
      },
      "execution_count": null,
      "outputs": []
    },
    {
      "cell_type": "code",
      "source": [
        "print(camino_robot([\"s\", \"e\", \"e\", \"n\", \"n\", \"e\", \"n\"]))                                # True\n",
        "print(camino_robot([\"n\", \"e\", \"s\", \"w\", \"n\", \"e\", \"s\", \"w\", \"w\", \"s\", \"n\", \"e\"]))       # False\n",
        "print(camino_robot([\"n\", \"s\", \"n\", \"n\", \"e\", \"n\", \"w\", \"w\", \"s\", \"w\", \"w\", \"w\", \"n\"]))  # True"
      ],
      "metadata": {
        "colab": {
          "base_uri": "https://localhost:8080/"
        },
        "outputId": "b1d0a32e-b7e7-4295-ba82-169e9b7537e2",
        "id": "CRPja6c4glrv"
      },
      "execution_count": null,
      "outputs": [
        {
          "output_type": "stream",
          "name": "stdout",
          "text": [
            "True\n",
            "False\n",
            "True\n"
          ]
        }
      ]
    },
    {
      "cell_type": "markdown",
      "source": [
        "## Reto 503: Mucho, mucho tiempo\n",
        "* A Long Long Time\n",
        "* Crea una función que tome tres valores:\n",
        "    1. `h` horas\n",
        "    2. `m` minutos\n",
        "    3. `s` segundos\n",
        "Devuelve el valor que tenga la **duración más larga**.\n",
        "* Ejemplos:\n",
        "\n",
        "```\n",
        "longest_time(1, 59, 3598) ➞ 1\n",
        "longest_time(2, 300, 15000) ➞ 300\n",
        "longest_time(15, 955, 59400) ➞ 59400\n",
        "```\n",
        "\n",
        "* Notas:\n",
        "    - No habrá dos duraciones iguales."
      ],
      "metadata": {
        "id": "TyyfNCnzglrv"
      }
    },
    {
      "cell_type": "code",
      "source": [
        "# Método 1\n",
        "def longest_time(h, m, s):\n",
        "    if h*3600 > m*60 and h*3600 > s:\n",
        "        return h\n",
        "    elif m*60 > h*3600 and m*60 > s:\n",
        "        return m\n",
        "    elif s > h*3600 and s > m*60:\n",
        "        return s\n",
        "    else:\n",
        "        return \"Caso no previsto\"\n",
        "\n",
        "# Método 2\n",
        "def longest_time(h, m, s):\n",
        "    # Lista de duraciones en segundos y sus valores originales\n",
        "    durations = [(h * 3600, h), (m * 60, m), (s, s)]\n",
        "    # Devolver el valor original de la mayor duración en segundos\n",
        "    return max(durations)[1]\n",
        "    # el máximo de una lista de tuplas es el que tiene el mayor valor del primer elemento de las tuplas\n",
        "    # en caso de empatar en el primer elemento de las tuplas se desempata por el segundo y así sucesivamente"
      ],
      "metadata": {
        "id": "3L69P8OqyFzv"
      },
      "execution_count": null,
      "outputs": []
    },
    {
      "cell_type": "code",
      "source": [
        "print(longest_time(1, 59, 3598))\n",
        "print(longest_time(2, 300, 15000))\n",
        "print(longest_time(15, 955, 59400))"
      ],
      "metadata": {
        "colab": {
          "base_uri": "https://localhost:8080/"
        },
        "outputId": "10d8fa71-c98d-4f88-e3a5-8edbd639296f",
        "id": "plvIvb2qglrw"
      },
      "execution_count": null,
      "outputs": [
        {
          "output_type": "stream",
          "name": "stdout",
          "text": [
            "1\n",
            "300\n",
            "59400\n"
          ]
        }
      ]
    },
    {
      "cell_type": "markdown",
      "source": [
        "## Reto 504: Multiplicador de Lista\n",
        "* List Multiplier\n",
        "* Crea una función que tome una lista como argumento y devuelva una nueva lista anidada para cada elemento en la lista original.\n",
        "* La lista anidada debe estar llena con el elemento correspondiente (cadena o número) en la lista original y cada lista anidada tiene la misma cantidad de elementos que la lista original.\n",
        "* Ejemplos:\n",
        "```\n",
        "multiply([4, 5]) ➞ [[4, 4], [5, 5]]\n",
        "multiply([\"*\", \"%\", \"$\"]) ➞ [[\"*\", \"*\", \"*\"], [\"%\", \"%\", \"%\"], [\"$\", \"$\", \"$\"]]\n",
        "multiply([9, 8, 7, 6]) ➞ [[9, 9, 9, 9], [8, 8, 8, 8], [7, 7, 7, 7], [6, 6, 6, 6]]\n",
        "```\n",
        "* Nota:\n",
        "    - La lista dada contiene números o cadenas."
      ],
      "metadata": {
        "id": "nxs9UpUxJOIh"
      }
    },
    {
      "cell_type": "code",
      "source": [
        "def multiply(lista):\n",
        "    return [[e] * len(lista) for e in lista]"
      ],
      "metadata": {
        "id": "d3qkcCz0JOIh"
      },
      "execution_count": null,
      "outputs": []
    },
    {
      "cell_type": "code",
      "source": [
        "print(multiply([4, 5]))\n",
        "print(multiply([\"*\", \"%\", \"$\"]))\n",
        "print(multiply([9, 8, 7, 6]))"
      ],
      "metadata": {
        "id": "9V925k8DJOIh",
        "colab": {
          "base_uri": "https://localhost:8080/"
        },
        "outputId": "e225d2a9-c97d-4400-cc4d-06d2e2be5543"
      },
      "execution_count": null,
      "outputs": [
        {
          "output_type": "stream",
          "name": "stdout",
          "text": [
            "[[4, 4], [5, 5]]\n",
            "[['*', '*', '*'], ['%', '%', '%'], ['$', '$', '$']]\n",
            "[[9, 9, 9, 9], [8, 8, 8, 8], [7, 7, 7, 7], [6, 6, 6, 6]]\n"
          ]
        }
      ]
    },
    {
      "cell_type": "markdown",
      "source": [
        "## Reto 505: Contando Instancias Creadas a partir de una Clase\n",
        "* Counting Instances Created from a Class\n",
        "* Escribe una clase `Compositor` que tenga tres variables de instancia:\n",
        "    1. nombre\n",
        "    2. fecha_nacimiento\n",
        "    3. país\n",
        "\n",
        "* Añade una variable de clase adicional `.contador` que cuente el número total de instancias creadas.\n",
        "* Ejemplos:\n",
        "```\n",
        "    - Justo después de escribir la clase Compositor\n",
        "Compositor.contador ➞ 0\n",
        "c1 = Compositor(\"Ludwig van Beethoven\", 1770, \"Alemania\")\n",
        "Compositor.contador ➞ 1\n",
        "c2 = Compositor(\"Wolfgang Amadeus Mozart\", 1756, \"Austria\")\n",
        "c3 = Compositor(\"Johannes Brahms\", 1833, \"Alemania\")\n",
        "Compositor.contador ➞ 3\n",
        "```\n"
      ],
      "metadata": {
        "id": "BCiJB5lAJOPj"
      }
    },
    {
      "cell_type": "code",
      "source": [
        "class Compositor:\n",
        "    contador = 0    # Atributo de clase\n",
        "\n",
        "    def __init__(self, nombre, fecha_nacimiento, pais):\n",
        "        self.nombre = nombre                        # Atributo de instancia\n",
        "        self.fecha_nacimiento = fecha_nacimiento    # Atributo de instancia\n",
        "        self.pais = pais                            # Atributo de instancia\n",
        "        Compositor.contador += 1"
      ],
      "metadata": {
        "id": "i2bofIVIJOPj"
      },
      "execution_count": null,
      "outputs": []
    },
    {
      "cell_type": "code",
      "source": [
        "# Justo después de definir la clase Compositor\n",
        "print(Compositor.contador)  # 0\n",
        "\n",
        "c1 = Compositor(\"Ludwig van Beethoven\", 1770, \"Alemania\")\n",
        "print(Compositor.contador)  # 1\n",
        "\n",
        "c2 = Compositor(\"Wolfgang Amadeus Mozart\", 1756, \"Austria\")\n",
        "c3 = Compositor(\"Johannes Brahms\", 1833, \"Alemania\")\n",
        "print(Compositor.contador)  # 3"
      ],
      "metadata": {
        "id": "HZMXrQn6JOPj",
        "colab": {
          "base_uri": "https://localhost:8080/"
        },
        "outputId": "a7926c8a-32de-4b24-ce79-88c1b7984d97"
      },
      "execution_count": null,
      "outputs": [
        {
          "output_type": "stream",
          "name": "stdout",
          "text": [
            "0\n",
            "1\n",
            "3\n"
          ]
        }
      ]
    },
    {
      "cell_type": "markdown",
      "source": [
        "### Comentario sobre atributos de clase y atributos de instancia\n",
        "* La variable contador es un atributo de clase.\n",
        "* Diferencias entre atributos de clase y atributos de instancia:\n",
        "\n",
        "* Atributos de clase:\n",
        "    1. Se definen dentro de la clase pero fuera de cualquier método.\n",
        "    2. on compartidos por todas las instancias de la clase.\n",
        "    3. Se pueden acceder usando el nombre de la clase o cualquier instancia de la clase.\n",
        "    4. Se utilizan para datos que deben ser compartidos entre todas las instancias.\n",
        "* Atributos de instancia:\n",
        "    1. Se definen dentro de los métodos de la clase, típicamente en el método __init__.\n",
        "    2. Son únicos para cada instancia de la clase.\n",
        "    3. Solo se pueden acceder a través de una instancia específica de la clase.\n",
        "    4. Se utilizan para datos que son específicos de cada instancia individual.\n",
        "\n",
        "* `contador` es un atributo de clase porque es compartido por todas las instancias y se accede como `Compositor.contador`.\n",
        "* `nombre`, `fecha_nacimiento`, y `pais` son atributos de instancia porque cada instancia de Compositor tiene sus propios valores únicos para estos atributos.\n",
        "\n",
        "* Algunas diferencias clave:\n",
        "\n",
        "    1. Memoria: Los atributos de clase ocupan un solo espacio en memoria, mientras que cada instancia tiene su propia copia de los atributos de instancia.\n",
        "    2. Modificación: Cambiar un atributo de clase afecta a todas las instancias, mientras que cambiar un atributo de instancia solo afecta a esa instancia específica.\n",
        "    3. Acceso: Los atributos de clase se pueden acceder sin crear una instancia, mientras que los atributos de instancia requieren una instancia de la clase.\n",
        "    4. Uso: Los atributos de clase son útiles para constantes de clase o para llevar un registro compartido (como nuestro `contador`), mientras que los atributos de instancia son para datos específicos de cada objeto."
      ],
      "metadata": {
        "id": "cDL10piI0Lfu"
      }
    },
    {
      "cell_type": "markdown",
      "source": [
        "## Reto 506: División Válida\n",
        "* Valid Division\n",
        "* Crea una función que tome una ecuación de división `d` y verifique si devolverá un número entero sin decimales después de dividir.\n",
        "* Ejemplos:\n",
        "```\n",
        "valid_division(\"6/3\")        ➞ True\n",
        "valid_division(\"1.5/0.5\")    ➞ True\n",
        "valid_division(\"0/3\")        ➞ True\n",
        "valid_division(\"3/0\")        ➞ Invalid\n",
        "valid_division(\"30/25\")      ➞ False\n",
        "valid_division(\"a/b\")        ➞ Caso no contemplado\n",
        "```\n",
        "* Nota:\n",
        "    - Devuelve `\"Invalid\"` si hay división por cero."
      ],
      "metadata": {
        "id": "zUp9tcI5JOWV"
      }
    },
    {
      "cell_type": "code",
      "source": [
        "# Método 1\n",
        "def valid_division(d):\n",
        "    try:\n",
        "        lista = d.split(\"/\")\n",
        "        if len(lista) != 2:\n",
        "            return \"Caso no contemplado\"\n",
        "\n",
        "        p = float(lista[0])  # numerador\n",
        "        q = float(lista[1])  # denominador\n",
        "\n",
        "        if q == 0:\n",
        "            return \"Invalid\"\n",
        "\n",
        "        if p / q == int(p / q):\n",
        "            return True\n",
        "        else:\n",
        "            return False\n",
        "    except ValueError:\n",
        "        return \"Caso no contemplado\"\n",
        "\n",
        "# Método 2\n",
        "def valid_division(d):\n",
        "    try:\n",
        "        # Separar el numerador y denominador\n",
        "        numerador, denominador = map(float, d.split('/'))\n",
        "\n",
        "        # Verificar división por cero\n",
        "        if denominador == 0:\n",
        "            return \"Invalid\"\n",
        "\n",
        "        # Realizar la división\n",
        "        resultado = numerador / denominador\n",
        "\n",
        "        # Verificar si el resultado es efectivamente un número entero\n",
        "        return resultado.is_integer()\n",
        "\n",
        "    except ValueError:\n",
        "        # En caso de entrada inválida\n",
        "        return \"Caso no contemplado\"\n",
        "\n",
        "# Método 3\n",
        "def valid_division(d):\n",
        "    try:\n",
        "        num, den = map(float, d.split('/'))\n",
        "        if den == 0:\n",
        "            return \"Invalid\"\n",
        "        result = num / den\n",
        "        return result.is_integer()\n",
        "    except ValueError:\n",
        "        return \"Caso no contemplado\"\n",
        "\n",
        "# Método 4\n",
        "def valid_division(d):\n",
        "    try:\n",
        "        result = eval(d)\n",
        "        return result.is_integer()\n",
        "    except ZeroDivisionError:\n",
        "        return \"Invalid\"\n",
        "    except (ValueError, NameError, SyntaxError):\n",
        "        return \"Caso no contemplado\"\n"
      ],
      "metadata": {
        "id": "ajCazVdlJOWV"
      },
      "execution_count": null,
      "outputs": []
    },
    {
      "cell_type": "code",
      "source": [
        "print(valid_division(\"6/3\"))        # True\n",
        "print(valid_division(\"1.5/0.5\"))    # True\n",
        "print(valid_division(\"0/3\"))        # True\n",
        "print(valid_division(\"3/0\"))        # Invalid\n",
        "print(valid_division(\"30/25\"))      # False\n",
        "print(valid_division(\"a/b\"))        # Caso no contemplado"
      ],
      "metadata": {
        "id": "pf6VXg-6JOWV",
        "colab": {
          "base_uri": "https://localhost:8080/"
        },
        "outputId": "ff4f0d3f-16dd-46c3-f6b1-bf41d23acd93"
      },
      "execution_count": null,
      "outputs": [
        {
          "output_type": "stream",
          "name": "stdout",
          "text": [
            "True\n",
            "True\n",
            "True\n",
            "Invalid\n",
            "False\n",
            "Caso no contemplado\n"
          ]
        }
      ]
    },
    {
      "cell_type": "markdown",
      "source": [
        "## Reto 507: Lávese las manos\n",
        "* Wash Your Hands :)\n",
        "* Se necesitan 21 segundos para lavarse las manos.\n",
        "* Cree una función que tome la cantidad de veces que una persona se lava las manos por día `n` y la cantidad de meses que sigue esta rutina `m` y calcule el tiempo en minutos y segundos que esa persona pasa lavándose las manos.\n",
        "* Ejemplos:\n",
        "```\n",
        "wash_hands(8, 7) ➞ \"588 minutes and 0 seconds\"\n",
        "wash_hands(0, 0) ➞ \"0 minutes and 0 seconds\"\n",
        "wash_hands(7, 9) ➞ \"661 minutes and 30 seconds\"\n",
        "```\n",
        "* Nota:\n",
        "    - Considere que un mes tiene 30 días."
      ],
      "metadata": {
        "id": "oMtHyBHmJOdt"
      }
    },
    {
      "cell_type": "code",
      "source": [
        "# Método 1\n",
        "def wash_hands(n, m):\n",
        "    s = n*21*m*30   # segundos\n",
        "    return f\"{s // 60} minutes and {s % 60} seconds\"\n",
        "\n",
        "# Método 2\n",
        "def wash_hands(n, m):\n",
        "    total_seconds = n * 21 * m * 30\n",
        "    minutes, seconds = divmod(total_seconds, 60)\n",
        "    return f\"{minutes} minutes and {seconds} seconds\""
      ],
      "metadata": {
        "id": "G99sWim1JOdt"
      },
      "execution_count": null,
      "outputs": []
    },
    {
      "cell_type": "code",
      "source": [
        "print(wash_hands(8, 7))     # 588 minutes and 0 seconds\n",
        "print(wash_hands(0, 0))     # 0 minutes and 0 seconds\n",
        "print(wash_hands(7, 9))     # 661 minutes and 30 seconds"
      ],
      "metadata": {
        "id": "59MTFDAXJOdt",
        "colab": {
          "base_uri": "https://localhost:8080/"
        },
        "outputId": "60062754-f550-4a60-cf8f-152a413f8886"
      },
      "execution_count": null,
      "outputs": [
        {
          "output_type": "stream",
          "name": "stdout",
          "text": [
            "588 minutes and 0 seconds\n",
            "0 minutes and 0 seconds\n",
            "661 minutes and 30 seconds\n"
          ]
        }
      ]
    },
    {
      "cell_type": "markdown",
      "source": [
        "## Reto 508: Transcribir a ARNm\n",
        "* Transcribe to mRNA\n",
        "* Transcribe la hebra de ADN dada en el ARNm correspondiente - un tipo de ARN que se formará a partir de ella después de la transcripción.\n",
        "* El ADN tiene las bases A, T, G y C, mientras que el ARN se convierte en U, A, C y G respectivamente.\n",
        "* Ejemplos:\n",
        "```\n",
        "dna_to_rna(\"ATTAGCGCGATATACGCGTAC\") ➞ \"UAAUCGCGCUAUAUGCGCAUG\"\n",
        "dna_to_rna(\"CGATATA\") ➞ \"GCUAUAU\"\n",
        "dna_to_rna(\"GTCATACGACGTA\") ➞ \"CAGUAUGCUGCAU\"\n",
        "```\n",
        "* Notas:\n",
        "    - La transcripción es el proceso de hacer una hebra complementaria.\n",
        "    - A, T, G y C en el ADN se convierten en U, A, C y G respectivamente, cuando están en ARNm."
      ],
      "metadata": {
        "id": "qetlzAkIJOlC"
      }
    },
    {
      "cell_type": "code",
      "source": [
        "# Método 1\n",
        "def dna_to_rna(dna):\n",
        "    basesADN = \"ATGC\"\n",
        "    basesARN = \"UACG\"\n",
        "    listaADN = [e for e in basesADN]\n",
        "    listaARN = [e for e in basesARN]\n",
        "    result = \"\"\n",
        "    for letra in dna:\n",
        "        result += listaARN[listaADN.index(letra)]\n",
        "    return result\n",
        "\n",
        "# Método 2\n",
        "def dna_to_rna(dna):\n",
        "    transcription = {'A': 'U', 'T': 'A', 'G': 'C', 'C': 'G'}\n",
        "    return ''.join(transcription[nucleotide] for nucleotide in dna)\n",
        "\n",
        "# Método 3\n",
        "def dna_to_rna(dna):\n",
        "    return dna.translate(str.maketrans(\"ATGC\", \"UACG\"))\n",
        "\n",
        "# Método 4\n",
        "def dna_to_rna(dna):\n",
        "    return ''.join(dict(zip('ATGC', 'UACG'))[n] for n in dna)"
      ],
      "metadata": {
        "id": "SH3YyLc9JOlD"
      },
      "execution_count": null,
      "outputs": []
    },
    {
      "cell_type": "code",
      "source": [
        "print(dna_to_rna(\"ATTAGCGCGATATACGCGTAC\"))  # UAAUCGCGCUAUAUGCGCAUG\n",
        "print(dna_to_rna(\"CGATATA\"))                # GCUAUAU\n",
        "print(dna_to_rna(\"GTCATACGACGTA\"))          # CAGUAUGCUGCAU"
      ],
      "metadata": {
        "id": "co4VzDbPJOlD",
        "colab": {
          "base_uri": "https://localhost:8080/"
        },
        "outputId": "372f443a-6bb6-4e4b-eb2c-a0780c70c7da"
      },
      "execution_count": null,
      "outputs": [
        {
          "output_type": "stream",
          "name": "stdout",
          "text": [
            "UAAUCGCGCUAUAUGCGCAUG\n",
            "GCUAUAU\n",
            "CAGUAUGCUGCAU\n"
          ]
        }
      ]
    },
    {
      "cell_type": "markdown",
      "source": [
        "## Reto 509: Concatenar un Número Variable de Listas de Entrada\n",
        "* Concatenate Variable Number of Input Lists\n",
        "* Crea una función que concatene `n` listas de entrada, donde `n` es variable.\n",
        "* Ejemplos:\n",
        "```\n",
        "concat([1, 2, 3], [4, 5], [6, 7]) ➞ [1, 2, 3, 4, 5, 6, 7]\n",
        "concat([1], [2], [3], [4], [5], [6], [7]) ➞ [1, 2, 3, 4, 5, 6, 7]\n",
        "concat([1, 2], [3, 4]) ➞ [1, 2, 3, 4]\n",
        "concat([4, 4, 4, 4, 4]) ➞ [4, 4, 4, 4, 4]\n",
        "```\n",
        "* Nota:\n",
        "    - Las listas deben concatenarse en el orden de los argumentos."
      ],
      "metadata": {
        "id": "X9aSGCSiJOsc"
      }
    },
    {
      "cell_type": "code",
      "source": [
        "# Método 1\n",
        "def concat(*args):\n",
        "    result = []\n",
        "    for item in args:\n",
        "        result += item\n",
        "    return result\n",
        "\n",
        "# Método 2\n",
        "def concat(*args):\n",
        "    return [item for sublist in args for item in sublist]\n",
        "\n",
        "# Método 3\n",
        "def concat(*args):\n",
        "    result = []\n",
        "    for lst in args:\n",
        "        for item in lst:\n",
        "            result.append(item)\n",
        "    return result\n",
        "\n",
        "# Método 4\n",
        "def concat(*args):\n",
        "    return sum(args, [])\n",
        "\n",
        "# Método 5\n",
        "from itertools import chain\n",
        "\n",
        "def concat(*lists):\n",
        "    return list(chain(*lists))\n",
        "\n",
        "# Método 6\n",
        "def concat(*args):\n",
        "    result = []\n",
        "    for lst in args:\n",
        "        result.extend(lst)\n",
        "    return result"
      ],
      "metadata": {
        "id": "lc9N5sDrJOsc"
      },
      "execution_count": null,
      "outputs": []
    },
    {
      "cell_type": "code",
      "source": [
        "print(concat([1, 2, 3], [4, 5], [6, 7]))\n",
        "print(concat([1], [2], [3], [4], [5], [6], [7]))\n",
        "print(concat([1, 2], [3, 4]))\n",
        "print(concat([4, 4, 4, 4, 4]))"
      ],
      "metadata": {
        "id": "hs94gqG-JOsc",
        "colab": {
          "base_uri": "https://localhost:8080/"
        },
        "outputId": "080d8354-2abe-4659-a106-9e06efc38bcb"
      },
      "execution_count": null,
      "outputs": [
        {
          "output_type": "stream",
          "name": "stdout",
          "text": [
            "[1, 2, 3, 4, 5, 6, 7]\n",
            "[1, 2, 3, 4, 5, 6, 7]\n",
            "[1, 2, 3, 4]\n",
            "[4, 4, 4, 4, 4]\n"
          ]
        }
      ]
    },
    {
      "cell_type": "markdown",
      "source": [
        "## Reto 510: Estalactitas o Estalagmitas?\n",
        "* Stalactites or Stalagmites?\n",
        "* Las estalactitas cuelgan del techo de una cueva mientras que las estalagmitas crecen desde el suelo.\n",
        "* Crea una función que determine si la entrada representa \"estalactitas\" o \"estalagmitas\".\n",
        "* Si representa ambas, devuelve \"ambas\".\n",
        "* La entrada será una lista 2D, con 1 representando una pieza de roca y 0 representando espacio de aire.\n",
        "* Ejemplos:\n",
        "```python\n",
        "formacion_mineral([\n",
        "  [0, 1, 0, 1],\n",
        "  [0, 1, 0, 1],\n",
        "  [0, 0, 0, 1],\n",
        "  [0, 0, 0, 0]\n",
        "]) ➞ \"estalactitas\"\n",
        "```\n",
        "```python\n",
        "formacion_mineral([\n",
        "  [0, 0, 0, 0],\n",
        "  [0, 1, 0, 1],\n",
        "  [0, 1, 1, 1],\n",
        "  [0, 1, 1, 1]\n",
        "]) ➞ \"estalagmitas\"\n",
        "```\n",
        "```python\n",
        "formacion_mineral([\n",
        "  [1, 0, 1, 0],\n",
        "  [1, 1, 0, 1],\n",
        "  [0, 1, 1, 1],\n",
        "  [0, 1, 1, 1]\n",
        "]) ➞ \"ambas\"\n",
        "```\n",
        "* Notas:\n",
        "    - No habrá ejemplos donde tanto estalactitas como estalagmitas se encuentren (porque esos se llaman pilares).\n",
        "    - No habrá ningún ejemplo de ni estalactitas ni estalagmitas.\n",
        "    - En otras palabras, si la primera lista tiene 1s, devuelve \"estalactitas\".\n",
        "    - Si la última lista tiene 1s, devuelve \"estalagmitas\".\n",
        "    - Si ambas tienen, devuelve \"ambas\"."
      ],
      "metadata": {
        "id": "TLGNJaT5JO0k"
      }
    },
    {
      "cell_type": "code",
      "source": [
        "# Método 1\n",
        "def formacion_mineral(cueva):\n",
        "    if sum(cueva[-1]) == 0:\n",
        "        return \"estalactitas\"\n",
        "    elif sum(cueva[0]) == 0:\n",
        "        return \"estalagmitas\"\n",
        "    elif sum(cueva[0]) > 0 and sum(cueva[-1]) > 0:\n",
        "        return \"ambas\"\n",
        "\n",
        "# Método 2\n",
        "def formacion_mineral(cueva):\n",
        "    hay_estalactitas = any(cueva[0])    # Verifica si hay 1s en la primera fila\n",
        "    hay_estalagmitas = any(cueva[-1])   # Verifica si hay 1s en la última fila\n",
        "\n",
        "    if hay_estalactitas and hay_estalagmitas:\n",
        "        return \"ambas\"\n",
        "    elif hay_estalactitas:\n",
        "        return \"estalactitas\"\n",
        "    elif hay_estalagmitas:\n",
        "        return \"estalagmitas\"\n",
        "\n",
        "# Método 3\n",
        "def formacion_mineral(cueva):\n",
        "    # Convertir la primera y última fila en conjuntos\n",
        "    primera_fila = set(cueva[0])\n",
        "    ultima_fila = set(cueva[-1])\n",
        "\n",
        "    # Verificar si hay 1s en la primera y última fila\n",
        "    hay_estalactitas = 1 in primera_fila\n",
        "    hay_estalagmitas = 1 in ultima_fila\n",
        "\n",
        "    if hay_estalactitas and hay_estalagmitas:\n",
        "        return \"ambas\"\n",
        "    elif hay_estalactitas:\n",
        "        return \"estalactitas\"\n",
        "    elif hay_estalagmitas:\n",
        "        return \"estalagmitas\""
      ],
      "metadata": {
        "id": "KIxuH6oLJO0k"
      },
      "execution_count": null,
      "outputs": []
    },
    {
      "cell_type": "code",
      "source": [
        "print(formacion_mineral([\n",
        "  [0, 1, 0, 1],\n",
        "  [0, 1, 0, 1],\n",
        "  [0, 0, 0, 1],\n",
        "  [0, 0, 0, 0]\n",
        "]))  # ➞ \"estalactitas\"\n",
        "\n",
        "print(formacion_mineral([\n",
        "  [0, 0, 0, 0],\n",
        "  [0, 1, 0, 1],\n",
        "  [0, 1, 1, 1],\n",
        "  [0, 1, 1, 1]\n",
        "]))  # ➞ \"estalagmitas\"\n",
        "\n",
        "print(formacion_mineral([\n",
        "  [1, 0, 1, 0],\n",
        "  [1, 1, 0, 1],\n",
        "  [0, 1, 1, 1],\n",
        "  [0, 1, 1, 1]\n",
        "]))  # ➞ \"ambas\""
      ],
      "metadata": {
        "id": "J0ScKxGjJO0k",
        "colab": {
          "base_uri": "https://localhost:8080/"
        },
        "outputId": "d820622d-f52a-4e69-c60b-aff3d3ec1d9b"
      },
      "execution_count": null,
      "outputs": [
        {
          "output_type": "stream",
          "name": "stdout",
          "text": [
            "estalactitas\n",
            "estalagmitas\n",
            "ambas\n"
          ]
        }
      ]
    },
    {
      "cell_type": "markdown",
      "source": [
        "## Reto 511: Edades de Padre e Hijo\n",
        "* Father and Son Ages\n",
        "* Crea una función que tome dos argumentos: la edad actual del padre `f_age` y la edad actual de su hijo `s_age`.\n",
        "* Calcula hace cuántos *años* el padre tenía el doble de edad que su hijo, o en cuántos años *tendrá* el doble de edad.\n",
        "* Ejemplos:\n",
        "```\n",
        "age_difference(36, 7) ➞ 22\n",
        "    - Dentro de 22 años, el padre tendrá 58 años y su hijo tendrá 29 años.\n",
        "age_difference(55, 30) ➞ 5\n",
        "    - Hace 5 años, el padre tenía 50 años y su hijo tenía 25 años.\n",
        "age_difference(42, 21) ➞ 0\n",
        "```"
      ],
      "metadata": {
        "id": "4dR6GX4GJiBU"
      }
    },
    {
      "cell_type": "code",
      "source": [
        "# Método 1\n",
        "def age_difference(f_age, s_age):\n",
        "    return abs(f_age - 2 * s_age)\n",
        "\n",
        "# Método 2. Sin usar abs, usamos un if\n",
        "def age_difference(f_age, s_age):\n",
        "    difference = f_age - 2 * s_age\n",
        "    if difference >= 0:\n",
        "        return difference\n",
        "    else:\n",
        "        return -difference"
      ],
      "metadata": {
        "id": "pOPSYc5tJiBU"
      },
      "execution_count": null,
      "outputs": []
    },
    {
      "cell_type": "code",
      "source": [
        "print(age_difference(36, 7))\n",
        "print(age_difference(55, 30))\n",
        "print(age_difference(42, 21))"
      ],
      "metadata": {
        "id": "2xOS8D2WJiBU",
        "colab": {
          "base_uri": "https://localhost:8080/"
        },
        "outputId": "578dc17d-6582-4938-fe54-82a03cc875ee"
      },
      "execution_count": null,
      "outputs": [
        {
          "output_type": "stream",
          "name": "stdout",
          "text": [
            "22\n",
            "5\n",
            "0\n"
          ]
        }
      ]
    },
    {
      "cell_type": "markdown",
      "source": [
        "## Reto 512: Desempaquetado de Listas\n",
        "* Format IX: Unpacking Lists\n",
        "* Para este reto no se ha de crear una función. En su lugar, debes crear una **cadena de plantilla** que pueda ser formateada para obtener un cierto resultado.\n",
        "* Escribe **tres listas** y una cadena de plantilla de acuerdo con el siguiente ejemplo. Observa el argumento de palabra clave `elem`:\n",
        "* **Ejemplo**\n",
        "```\n",
        "lst1 = [tulista aquí]\n",
        "lst2 = [tulista aquí]\n",
        "lst3 = [tulista aquí]\n",
        "template = \"tu cadena de plantilla aquí\"\n",
        "template.format(*lst1, elem=\"amigos\") ➞ \"Mis amigos son: John, Joe y Jack.\"\n",
        "template.format(*lst2, elem=\"amores\") ➞ \"Mis amores son: C, C++ y Python.\"\n",
        "template.format(*lst3, elem=\"pokemon\") ➞ \"Mis pokemon son: Metapod, Magikarp y Unown.\"\n",
        "```\n",
        "* **Consejos**\n",
        "    - Los elementos de una lista pueden ser desempaquetados y pasados a `.format()` como argumentos posicionales usando el operador estrella `*`:\n",
        "```\n",
        "nombres = [\"María\", \"Mayo\"]\n",
        "\"{} y {}.\".format(*nombres) ➞ \"María y Mayo.\"\n",
        "```\n",
        "* **Notas**\n",
        "    - Envía una cadena, no una función.\n",
        "    - No cambies los nombres de las variables `template`, `lst1`, `lst2` y `lst3`."
      ],
      "metadata": {
        "id": "X4vxbYsuJiJb"
      }
    },
    {
      "cell_type": "code",
      "source": [
        "lst1 = [\"John\", \"Joe\", \"Jack\"]\n",
        "lst2 = [\"C\", \"C++\", \"Python\"]\n",
        "lst3 = [\"Metapod\", \"Magikarp\", \"Unown\"]\n",
        "template = \"Mis {elem} son: {}, {} y {}.\""
      ],
      "metadata": {
        "id": "IAyE-y9hJiJb"
      },
      "execution_count": null,
      "outputs": []
    },
    {
      "cell_type": "code",
      "source": [
        "print(template.format(*lst1, elem=\"amigos\"))    # Mis amigos son: John, Joe y Jack.\n",
        "print(template.format(*lst2, elem=\"amores\"))    # Mis amores son: C, C++ y Python.\n",
        "print(template.format(*lst3, elem=\"pokemon\"))   # Mis pokemon son: Metapod, Magikarp y Unown."
      ],
      "metadata": {
        "id": "YK1L8pNhJiJb",
        "colab": {
          "base_uri": "https://localhost:8080/"
        },
        "outputId": "5aed294a-6651-41a9-be88-ebdffd14b8fe"
      },
      "execution_count": null,
      "outputs": [
        {
          "output_type": "stream",
          "name": "stdout",
          "text": [
            "Mis amigos son: John, Joe y Jack.\n",
            "Mis amores son: C, C++ y Python.\n",
            "Mis pokemon son: Metapod, Magikarp y Unown.\n"
          ]
        }
      ]
    },
    {
      "cell_type": "markdown",
      "source": [
        "### Explicación\n",
        "\n",
        "#### Propósito del ejercicio\n",
        "\n",
        "* Este ejercicio está diseñado para enseñar y practicar dos conceptos importantes en Python:\n",
        "    1. Formateo de cadenas usando el método `.format()`.\n",
        "    2. Desempaquetado de listas usando el operador asterisco `*`.\n",
        "\n",
        "* La idea es crear una plantilla de cadena flexible que pueda ser utilizada con diferentes listas y palabras clave para producir oraciones similares pero con contenido diferente.\n",
        "\n",
        "#### Explicación de la solución\n",
        "\n",
        "1. Primero, definimos tres listas diferentes:\n",
        "\n",
        "```python\n",
        "lst1 = [\"John\", \"Joe\", \"Jack\"]\n",
        "lst2 = [\"C\", \"C++\", \"Python\"]\n",
        "lst3 = [\"Metapod\", \"Magikarp\", \"Unown\"]\n",
        "```\n",
        "\n",
        "2. Luego, creamos una plantilla de cadena:\n",
        "\n",
        "```python\n",
        "template = \"Mis {elem} son: {}, {} y {}.\"\n",
        "```\n",
        "\n",
        "Esta plantilla tiene dos tipos de marcadores de posición:\n",
        "   - `{elem}`: Este será reemplazado por una palabra clave (amigos, amores, pokemon).\n",
        "   - `{}`, `{}`, `{}`: Estos serán reemplazados por los elementos de la lista.\n",
        "\n",
        "3. Uso de la plantilla:\n",
        "\n",
        "```python\n",
        "template.format(*lst1, elem=\"amigos\")\n",
        "```\n",
        "\n",
        "Aquí ocurren dos cosas:\n",
        "   - `*lst1`: El asterisco desempaqueta la lista, pasando cada elemento como un argumento separado.\n",
        "   - `elem=\"amigos\"`: Este es un argumento de palabra clave que reemplaza `{elem}` en la plantilla.\n",
        "\n",
        "Entonces, cuando llamamos a:\n",
        "\n",
        "```python\n",
        "print(template.format(*lst1, elem=\"amigos\"))\n",
        "```\n",
        "\n",
        "Python hace lo siguiente:\n",
        "- Reemplaza `{elem}` con \"amigos\"\n",
        "- Reemplaza los tres `{}` con los elementos de `lst1` en orden\n",
        "\n",
        "Resultando en: \"Mis amigos son: John, Joe y Jack.\"\n",
        "\n",
        "La belleza de este enfoque es que la misma plantilla se puede usar con diferentes listas y palabras clave:\n",
        "\n",
        "```python\n",
        "print(template.format(*lst2, elem=\"amores\"))\n",
        "print(template.format(*lst3, elem=\"pokemon\"))\n",
        "```\n",
        "\n",
        "* Produciendo:\n",
        "    - \"Mis amores son: C, C++ y Python.\"\n",
        "    - \"Mis pokemon son: Metapod, Magikarp y Unown.\"\n",
        "\n",
        "* En resumen, este ejercicio enseña cómo crear una plantilla de cadena flexible que puede ser reutilizada con diferentes datos, lo cual es una habilidad útil en programación para generar textos dinámicos de manera eficiente."
      ],
      "metadata": {
        "id": "GCgIRNevg873"
      }
    },
    {
      "cell_type": "markdown",
      "source": [
        "## Reto 513: Números Pandigitales\n",
        "* Pandigital Numbers\n",
        "* Un número **pandigital** contiene todos los dígitos (0-9) al menos una vez.\n",
        "* Escribe una función que tome un entero, devolviendo `True` si el entero es pandigital, y `False` en caso contrario.\n",
        "* **Ejemplos**\n",
        "```\n",
        "es_pandigital(98140723568910) ➞ True\n",
        "es_pandigital(90864523148909) ➞ False\n",
        "    - Falta el 7.\n",
        "es_pandigital(112233445566778899) ➞ False\n",
        "```\n",
        "* **Nota**\n",
        "    - Piensa en las propiedades de un número pandigital cuando se eliminan todos los duplicados."
      ],
      "metadata": {
        "id": "qixk6TO7JiQY"
      }
    },
    {
      "cell_type": "code",
      "source": [
        "# Método 1\n",
        "def es_pandigital(numero):\n",
        "    return set([int(x) for x in str(numero)]) == {0,1,2,3,4,5,6,7,8,9}\n",
        "\n",
        "# Método 2. Creando un set comprehension y ahorramos crear una lista intermedia\n",
        "def es_pandigital(numero):\n",
        "    return {int(x) for x in str(numero)} == {0,1,2,3,4,5,6,7,8,9}\n",
        "\n",
        "# Método 3. Creando una constante con el conjunto de referencia\n",
        "# Esto puede ser útil si se va a llamar la función muchas veces\n",
        "\n",
        "DIGITS = set(range(10))     # las constantes por norma van todo en mayúsculas\n",
        "\n",
        "def es_pandigital(numero):\n",
        "    return set(int(x) for x in str(numero)) == DIGITS\n",
        "\n",
        "# Método 4. Trabajando todo el rato con un string, sin usar enteros\n",
        "def es_pandigital(numero):\n",
        "    return len(set(str(numero))) == 10"
      ],
      "metadata": {
        "id": "sXUw2d4OJiQY"
      },
      "execution_count": null,
      "outputs": []
    },
    {
      "cell_type": "code",
      "source": [
        "print(es_pandigital(98140723568910))        # True\n",
        "print(es_pandigital(90864523148909))        # False\n",
        "print(es_pandigital(112233445566778899))    # False"
      ],
      "metadata": {
        "id": "Vw1jIBSaJiQY",
        "colab": {
          "base_uri": "https://localhost:8080/"
        },
        "outputId": "551695f2-6dd0-4629-dd4e-f58ae6dc142e"
      },
      "execution_count": null,
      "outputs": [
        {
          "output_type": "stream",
          "name": "stdout",
          "text": [
            "True\n",
            "False\n",
            "False\n"
          ]
        }
      ]
    },
    {
      "cell_type": "markdown",
      "source": [
        "## Reto 514: Suma de Elementos de la Lista Excepto Sí Mismo\n",
        "* Sum of List Elements Except Itself\n",
        "* Dada una lista devuelva una nueva lista que tenga la suma de todos sus elementos excepto sí mismo.\n",
        "* **Aclaración**\n",
        "    - `[1, 2, 3, 4]` = para el primer elemento => la suma será 2+3+4 = `[9]`\n",
        "    - `[1, 2, 3, 4]` = para el segundo elemento => la suma será 1+3+4 = `[9, 8]`\n",
        "    - `[1, 2, 3, 4]` = para el tercer elemento => la suma será 1+2+4 = `[9, 8, 7]`\n",
        "    - `[1, 2, 3, 4]` = para el cuarto elemento => la suma será 1+2+3 = `[9, 8, 7, 6]`\n",
        "\n",
        "* **Ejemplos**\n",
        "```\n",
        "lst_ele_sum([1, 2, 3, 2, 1]) ➞ [8, 7, 6, 7, 8]\n",
        "lst_ele_sum([1, 2]) ➞ [2, 1]\n",
        "lst_ele_sum([1, 2, 3]) ➞ [5, 4, 3]\n",
        "lst_ele_sum([1, 2, 3, 4, 5]) ➞ [14, 13, 12, 11, 10]\n",
        "lst_ele_sum([10, 20, 30, 40, 50, 60]) ➞ [200, 190, 180, 170, 160, 150]\n",
        "```"
      ],
      "metadata": {
        "id": "lrNNOlP-JiXa"
      }
    },
    {
      "cell_type": "code",
      "source": [
        "# Método 1\n",
        "def lst_ele_sum(lst):\n",
        "    total = sum(lst)\n",
        "    return [total - num for num in lst]\n",
        "\n",
        "# Método 2\n",
        "def lst_ele_sum(lst):\n",
        "    result = []\n",
        "    for i in range(len(lst)):\n",
        "        sum_except_self = sum(lst[:i] + lst[i+1:])\n",
        "        result.append(sum_except_self)\n",
        "    return result"
      ],
      "metadata": {
        "id": "VO3qvfbFJiXa"
      },
      "execution_count": null,
      "outputs": []
    },
    {
      "cell_type": "code",
      "source": [
        "print(lst_ele_sum([1, 2, 3, 2, 1]))             # [8, 7, 6, 7, 8]\n",
        "print(lst_ele_sum([1, 2]))                      # [2, 1]\n",
        "print(lst_ele_sum([1, 2, 3]))                   # [5, 4, 3]\n",
        "print(lst_ele_sum([1, 2, 3, 4, 5]))             # [14, 13, 12, 11, 10]\n",
        "print(lst_ele_sum([10, 20, 30, 40, 50, 60]))    # [200, 190, 180, 170, 160, 150]"
      ],
      "metadata": {
        "id": "z78D6PDZJiXb",
        "colab": {
          "base_uri": "https://localhost:8080/"
        },
        "outputId": "7ba695b1-f867-4ea6-873f-dcef46e04cac"
      },
      "execution_count": null,
      "outputs": [
        {
          "output_type": "stream",
          "name": "stdout",
          "text": [
            "[8, 7, 6, 7, 8]\n",
            "[2, 1]\n",
            "[5, 4, 3]\n",
            "[14, 13, 12, 11, 10]\n",
            "[200, 190, 180, 170, 160, 150]\n"
          ]
        }
      ]
    },
    {
      "cell_type": "markdown",
      "source": [
        "## Reto 515: Números de Sastry\n",
        "* Sastry Numbers\n",
        "* En este reto, debes determinar si un número entero dado `n` es un número de Sastry.\n",
        "* Si el número resultante de la concatenación de un entero `n` con su sucesor es un cuadrado perfecto, entonces `n` es un Número de Sastry.\n",
        "* Dada un entero positivo `n`, implementa una función que devuelva `True` si `n` es un número de Sastry, o `False` si no lo es.\n",
        "\n",
        "* **Ejemplos**\n",
        "```\n",
        "es_sastry(183) ➞ True\n",
        "    - Concatenación de n y su sucesor = 183184\n",
        "    - 183184 es un cuadrado perfecto (428 ^ 2)\n",
        "es_sastry(184) ➞ False\n",
        "    - Concatenación de n y su sucesor = 184185\n",
        "    - 184185 no es un cuadrado perfecto\n",
        "es_sastry(106755) ➞ True\n",
        "    - Concatenación de n y su sucesor = 106755106756\n",
        "    - 106755106756 es un cuadrado perfecto (326734 ^ 2)\n",
        "```\n",
        "\n",
        "* **Notas**\n",
        "    - Un cuadrado perfecto es un número cuya raíz cuadrada es igual a un entero.\n",
        "    - Puedes esperar solo enteros positivos válidos mayores que 0 como entrada, sin excepciones que manejar.\n",
        "    - Cero es un cuadrado perfecto, pero la concatenación 00 no se considera un resultado válido para verificar."
      ],
      "metadata": {
        "id": "ycO-Ex-YJidx"
      }
    },
    {
      "cell_type": "code",
      "source": [
        "# Método 1\n",
        "import math\n",
        "\n",
        "def es_sastry(n):\n",
        "    # Concatenar n con su sucesor\n",
        "    concatenacion = int(str(n) + str(n + 1))\n",
        "\n",
        "    # Calcular la raíz cuadrada\n",
        "    raiz = math.isqrt(concatenacion)    # raíz cuadrada entera\n",
        "\n",
        "    # Verificar si es un cuadrado perfecto\n",
        "    return raiz * raiz == concatenacion\n",
        "\n",
        "# Método 2. Evitando usar la raiz cuadrada\n",
        "def es_sastry(n):\n",
        "    concatenacion = int(str(n) + str(n + 1))\n",
        "\n",
        "    # Búsqueda binaria de la raíz cuadrada\n",
        "    izquierda, derecha = 0, concatenacion\n",
        "    while izquierda <= derecha:\n",
        "        medio = (izquierda + derecha) // 2\n",
        "        cuadrado = medio * medio\n",
        "\n",
        "        if cuadrado == concatenacion:\n",
        "            return True\n",
        "        elif cuadrado < concatenacion:\n",
        "            izquierda = medio + 1\n",
        "        else:\n",
        "            derecha = medio - 1\n",
        "\n",
        "    return False"
      ],
      "metadata": {
        "id": "UAcLURzNv9qB"
      },
      "execution_count": null,
      "outputs": []
    },
    {
      "cell_type": "code",
      "source": [
        "print(es_sastry(183))   # True\n",
        "print(es_sastry(184))   # False\n",
        "print(es_sastry(106755))  # True"
      ],
      "metadata": {
        "id": "DFQylYc9Jidx",
        "colab": {
          "base_uri": "https://localhost:8080/"
        },
        "outputId": "8b8ef77f-5b89-42a0-ae0e-49b1df374305"
      },
      "execution_count": null,
      "outputs": [
        {
          "output_type": "stream",
          "name": "stdout",
          "text": [
            "True\n",
            "False\n",
            "True\n"
          ]
        }
      ]
    },
    {
      "cell_type": "markdown",
      "source": [
        "## Reto 516: ¿Es la Suma de los Dígitos en los Números Igual?\n",
        "* Are the Sum of Digits in the Numbers Equal?\n",
        "* Escribe una función que tome una lista de dos números y determine si la suma de los **dígitos** en cada número es igual entre sí.\n",
        "\n",
        "* **Ejemplos**\n",
        "\n",
        "```\n",
        "es_igual([105, 42]) ➞ True\n",
        "    - 1 + 0 + 5 = 6\n",
        "    - 4 + 2 = 6\n",
        "es_igual([21, 35]) ➞ False\n",
        "es_igual([0, 0]) ➞ True\n",
        "```"
      ],
      "metadata": {
        "id": "ehhGeKWDJikh"
      }
    },
    {
      "cell_type": "code",
      "source": [
        "# Método 1\n",
        "def es_igual(numeros):\n",
        "    a, b = numeros                              # desempaqueta los elementos de la lista\n",
        "    suma_a = sum(int(e) for e in str(abs(a)))   # suma los elementos de un generador\n",
        "    suma_b = sum(int(e) for e in str(abs(b)))   # suma los elementos de un generador\n",
        "    return suma_a == suma_b\n",
        "\n",
        "# Método 2. Sumando los elementos de un generador\n",
        "def es_igual(numeros):\n",
        "    def suma_digitos(num):\n",
        "        return sum(int(digito) for digito in str(abs(num)))\n",
        "\n",
        "    return suma_digitos(numeros[0]) == suma_digitos(numeros[1])\n",
        "\n",
        "# Método 3 Usando una list comprehension\n",
        "def es_igual(numeros):\n",
        "    # Convertir cada número en una lista de dígitos y luego sumar los dígitos\n",
        "    suma_a = sum([int(digito) for digito in str(abs(numeros[0]))])\n",
        "    suma_b = sum([int(digito) for digito in str(abs(numeros[-1]))])\n",
        "    # Comparar las sumas de los dígitos\n",
        "    return suma_a == suma_b\n",
        "\n",
        "# Método 5. Con la librería reduce. Programación funcional\n",
        "from functools import reduce\n",
        "\n",
        "def es_igual(numeros):\n",
        "    # Función para sumar los dígitos de un número\n",
        "    def suma_digitos(num):\n",
        "        return reduce(lambda x, y: x + y, map(int, str(abs(num))))\n",
        "\n",
        "    # Comparar las sumas de los dígitos de los dos números\n",
        "    a = numeros.pop(0)\n",
        "    b = numeros.pop(0)\n",
        "    return suma_digitos(a) == suma_digitos(b)\n",
        "\n",
        "# Método 6. Sin usar str\n",
        "def suma_digitos(num):\n",
        "    num = abs(num)  # Asegurarse de que el número sea positivo\n",
        "    suma = 0\n",
        "    while num > 0:\n",
        "        suma += num % 10  # Obtener el último dígito y sumarlo\n",
        "        num //= 10        # Eliminar el último dígito\n",
        "    return suma\n",
        "\n",
        "def es_igual(numeros):\n",
        "    a, b = *numeros,  # Desempaqueta los elementos de la lista\n",
        "    return suma_digitos(a) == suma_digitos(b)"
      ],
      "metadata": {
        "id": "OfPkm7hhJikh"
      },
      "execution_count": null,
      "outputs": []
    },
    {
      "cell_type": "code",
      "source": [
        "print(es_igual([105, 42]))  # True\n",
        "print(es_igual([21, 35]))   # False\n",
        "print(es_igual([0, 0]))     # True"
      ],
      "metadata": {
        "id": "HwIGf1QRJikh",
        "colab": {
          "base_uri": "https://localhost:8080/"
        },
        "outputId": "995d0a71-513b-4dc5-9bdb-f45faafe25d2"
      },
      "execution_count": null,
      "outputs": [
        {
          "output_type": "stream",
          "name": "stdout",
          "text": [
            "True\n",
            "False\n",
            "True\n"
          ]
        }
      ]
    },
    {
      "cell_type": "markdown",
      "source": [
        "## Reto 517: ¿Es el Número un Repdigit?\n",
        "* Is the Number a Repdigit\n",
        "* Un repdigit es un número positivo compuesto por el mismo dígito.\n",
        "* Crea una función que tome un entero y devuelva si es un repdigit o no.\n",
        "\n",
        "* **Ejemplos**\n",
        "\n",
        "```\n",
        "is_repdigit(66) ➞ True\n",
        "is_repdigit(8) ➞ True\n",
        "is_repdigit(0) ➞ True\n",
        "is_repdigit(-11) ➞ False\n",
        "is_repdigit(123) ➞ False\n",
        "```\n",
        "\n",
        "* **Notas**\n",
        "    - El número `0` debe devolver `True` (aunque no sea un número positivo)."
      ],
      "metadata": {
        "id": "0GDmptduJire"
      }
    },
    {
      "cell_type": "code",
      "source": [
        "# Método 1\n",
        "def is_repdigit(num):\n",
        "    # Si el número es negativo, retornamos False inmediatamente\n",
        "    if num < 0:\n",
        "        return False\n",
        "\n",
        "    # Convertir el número a una cadena\n",
        "    num_str = str(num)\n",
        "\n",
        "    # Verificar si todos los dígitos son iguales al primer dígito\n",
        "    return all(digit == num_str[0] for digit in num_str)\n",
        "\n",
        "# Método 2\n",
        "def is_repdigit(n):\n",
        "    # Si el número es negativo, retorna False\n",
        "    if n < 0:\n",
        "        return False\n",
        "    # Convertir el número a string y verificar si todos los caracteres son iguales\n",
        "    str_n = str(n)\n",
        "    return str_n == str_n[0] * len(str_n)\n",
        "\n",
        "# Método 3\n",
        "def is_repdigit(n):\n",
        "    if n < 0:\n",
        "        return False\n",
        "    str_n = str(n)\n",
        "    return all(d == str_n[0] for d in str_n)\n",
        "\n",
        "# Método 4\n",
        "def is_repdigit(n):\n",
        "    if n < 0:\n",
        "        return False\n",
        "    return all(n % 10 == int(d) for d in str(n))    # n%10 da el último digito\n",
        "\n",
        "# Método 5. Usando set\n",
        "def is_repdigit(n):\n",
        "    if n < 0:\n",
        "        return False\n",
        "    str_n = str(n)\n",
        "    return len(set(str_n)) == 1"
      ],
      "metadata": {
        "id": "rKvCpyIyJirf"
      },
      "execution_count": null,
      "outputs": []
    },
    {
      "cell_type": "code",
      "source": [
        "print(is_repdigit(66))    # True\n",
        "print(is_repdigit(8))     # True\n",
        "print(is_repdigit(0))     # True\n",
        "print(is_repdigit(-11))   # False\n",
        "print(is_repdigit(123))   # False"
      ],
      "metadata": {
        "id": "6TTBafGzJirf",
        "colab": {
          "base_uri": "https://localhost:8080/"
        },
        "outputId": "da14aad2-e49a-40d9-fa54-5cd6f4705f11"
      },
      "execution_count": null,
      "outputs": [
        {
          "output_type": "stream",
          "name": "stdout",
          "text": [
            "True\n",
            "True\n",
            "True\n",
            "False\n",
            "False\n"
          ]
        }
      ]
    },
    {
      "cell_type": "markdown",
      "source": [
        "## Reto 518: Letras Compartidas Entre Dos Palabras\n",
        "* Letters Shared Between Two Words\n",
        "* Crea una función que devuelva el número de caracteres compartidos entre dos palabras.\n",
        "\n",
        "* **Ejemplos**\n",
        "\n",
        "```\n",
        "letras_compartidas(\"manzana\", \"carne\") ➞ 2\n",
        "    - Ya que \"an\" es compartido entre \"manzana\" y \"carne\".\n",
        "letras_compartidas(\"ventilador\", \"forsook\") ➞ 1\n",
        "letras_compartidas(\"chorro\", \"grito\") ➞ 3\n",
        "```"
      ],
      "metadata": {
        "id": "OREc2pvsJizQ"
      }
    },
    {
      "cell_type": "code",
      "source": [
        "# Método 1\n",
        "def shared_letters(txt1, txt2):\n",
        "    conjunto1 = set(c for c in txt1)\n",
        "    conjunto2 = set(c for c in txt2)\n",
        "    return len(conjunto1.intersection(conjunto2))\n",
        "\n",
        "# Método 2. El operador & en conjuntos equivale a intersection\n",
        "def letras_compartidas(palabra1, palabra2):\n",
        "    return len(set(palabra1.lower()) & set(palabra2.lower()))\n",
        "\n",
        "# Método 3\n",
        "def letras_compartidas(palabra1, palabra2):\n",
        "    return sum(1 for letra in set(palabra1.lower()) if letra in palabra2.lower())\n",
        "\n",
        "# Método 4. Sin usar set\n",
        "def letras_compartidas(palabra1, palabra2):\n",
        "    palabra1 = palabra1.lower()\n",
        "    palabra2 = palabra2.lower()\n",
        "    letras_unicas1 = []\n",
        "    contador = 0\n",
        "\n",
        "    for letra in palabra1:\n",
        "        if letra not in letras_unicas1:\n",
        "            letras_unicas1.append(letra)\n",
        "            if letra in palabra2:\n",
        "                contador += 1\n",
        "\n",
        "    return contador"
      ],
      "metadata": {
        "id": "ji6pXwB_JizQ"
      },
      "execution_count": null,
      "outputs": []
    },
    {
      "cell_type": "code",
      "source": [
        "print(letras_compartidas(\"banana\", \"bicho\"))            # 1\n",
        "print(letras_compartidas(\"manzana\", \"carne\"))           # 2\n",
        "print(letras_compartidas(\"verso\", \"verbigracia\"))       # 3\n",
        "print(letras_compartidas(\"murcielago\", \"exoplaneta\"))   # 4"
      ],
      "metadata": {
        "id": "MandhIWDJizQ",
        "colab": {
          "base_uri": "https://localhost:8080/"
        },
        "outputId": "cc43bb43-c09a-43c7-c971-298f1208b0f8"
      },
      "execution_count": null,
      "outputs": [
        {
          "output_type": "stream",
          "name": "stdout",
          "text": [
            "1\n",
            "2\n",
            "3\n",
            "4\n"
          ]
        }
      ]
    },
    {
      "cell_type": "markdown",
      "source": [
        "## Reto 519: Intervalos Intersecantes\n",
        "* Intersecting Intervals\n",
        "* Crea una función que tome una lista de **intervalos** y devuelva cuántos intervalos se superponen con un punto dado.\n",
        "* Un intervalo se superpone con un punto en particular si el punto existe **dentro** del intervalo, o en el **límite** del intervalo. Por ejemplo, el punto `3` se superpone con el intervalo `[2, 4]` (está dentro) y `[2, 3]` (está en el límite).\n",
        "* Para ilustrar:\n",
        "\n",
        "```\n",
        "contar_superposiciones([[1, 2], [2, 3], [1, 3], [4, 5], [0, 1]], 2) ➞ 3\n",
        "# Ya que [1, 2], [2, 3] y [1, 3] se superponen con el punto 2\n",
        "```\n",
        "\n",
        "* **Ejemplos**\n",
        "\n",
        "```\n",
        "contar_superposiciones([[1, 2], [2, 3], [3, 4]], 5) ➞ 0\n",
        "contar_superposiciones([[1, 2], [5, 6], [5, 7]], 5) ➞ 2\n",
        "contar_superposiciones([[1, 2], [5, 8], [6, 9]], 7) ➞ 2\n",
        "```\n",
        "\n",
        "* **Notas**\n",
        "    - Cada intervalo está representado como una lista con un punto de inicio y un punto final.\n",
        "    - Los intervalos cuentan como intersecantes incluso si solo se intersectan en un punto, es decir, `[2, 3]` y `[3, 4]` ambos intersectan en el punto `3`."
      ],
      "metadata": {
        "id": "Oi9n-QcnJi6p"
      }
    },
    {
      "cell_type": "code",
      "source": [
        "# Método 1\n",
        "def contar_superposiciones(intervalos, punto):\n",
        "    return sum(punto in range(intervalo[0], intervalo[1]+1) for intervalo in intervalos)\n",
        "\n",
        "# Método 2\n",
        "def contar_superposiciones(intervalos, punto):\n",
        "    return sum(inicio <= punto <= fin for inicio, fin in intervalos)\n",
        "\n",
        "# Método 3\n",
        "def contar_superposiciones(intervalos, punto):\n",
        "    contador = 0\n",
        "    for intervalo in intervalos:\n",
        "        inicio, fin = intervalo\n",
        "        if inicio <= punto <= fin:\n",
        "            contador += 1\n",
        "    return contador\n",
        "\n",
        "# Método 4\n",
        "def contar_superposiciones(intervalos, punto):\n",
        "    return len(list(filter(lambda x: x[0] <= punto <= x[1], intervalos)))\n",
        "\n",
        "# Método 5\n",
        "def contar_superposiciones(intervalos, punto):\n",
        "    return sum(1 for inicio, fin in intervalos if punto in range(inicio, fin + 1))"
      ],
      "metadata": {
        "id": "bCqNGG_CJi6p"
      },
      "execution_count": 11,
      "outputs": []
    },
    {
      "cell_type": "code",
      "source": [
        "print(contar_superposiciones([[1, 2], [2, 3], [3, 4]], 5))                  # 0\n",
        "print(contar_superposiciones([[1, 2], [5, 6], [5, 7]], 5))                  # 2\n",
        "print(contar_superposiciones([[1, 2], [5, 8], [6, 9]], 7))                  # 2\n",
        "print(contar_superposiciones([[1, 2], [2, 3], [1, 3], [4, 5], [0, 1]], 2))  # 3"
      ],
      "metadata": {
        "id": "cSYaASFsJi6p",
        "colab": {
          "base_uri": "https://localhost:8080/"
        },
        "outputId": "afe7f517-4a73-4886-9286-10825da6dd42"
      },
      "execution_count": 12,
      "outputs": [
        {
          "output_type": "stream",
          "name": "stdout",
          "text": [
            "0\n",
            "2\n",
            "2\n",
            "3\n"
          ]
        }
      ]
    },
    {
      "cell_type": "markdown",
      "source": [
        "## Reto 520: Exploración Combinatoria\n",
        "* Combinatorial Exploration\n",
        "* Dado un número conocido de elementos únicos, ¿de cuántas maneras podríamos ordenarlos en una fila?\n",
        "* Crea una función que tome un entero `n` y devuelva el número de dígitos del número de permutaciones posibles para `n` elementos únicos.\n",
        "* Por ejemplo, 5 elementos únicos podrían ordenarse de 120 maneras únicas. 120 tiene 3 dígitos, por lo tanto se devuelve el entero `3`.\n",
        "\n",
        "* **Ejemplos**\n",
        "\n",
        "```\n",
        "no_perms_digits(0) ➞ 1\n",
        "no_perms_digits(1) ➞ 1\n",
        "no_perms_digits(5) ➞ 3\n",
        "no_perms_digits(8) ➞ 5\n",
        "```\n",
        "\n",
        "* **Nota**\n",
        "    - Las permutaciones de n se obtienen calculando el factorial de n."
      ],
      "metadata": {
        "id": "VqOAz1qjJjCA"
      }
    },
    {
      "cell_type": "code",
      "source": [
        "# Método 1\n",
        "import math\n",
        "def no_perms_digits(n):\n",
        "    fact = math.factorial(n)\n",
        "    return int(math.log10(fact)) + 1    # calcula el nº de digios con log10\n",
        "\n",
        "# Método 2\n",
        "def fac(n):     # función recursiva\n",
        "    if n == 0:\n",
        "        return 1\n",
        "    return n * fac(n-1)\n",
        "\n",
        "def no_perms_digits(n):\n",
        "    return len(str(fac(n)))     # calcula el nº de digitos usando str y len\n",
        "\n",
        "# Método 3\n",
        "from math import factorial\n",
        "def num_digitos(n):     # calcula el número de dígitos con un while\n",
        "    numero_digitos = 0\n",
        "    while n != 0:\n",
        "        n = n // 10\n",
        "        numero_digitos += 1\n",
        "    return numero_digitos\n",
        "\n",
        "def no_perms_digits(n):\n",
        "    return num_digitos(factorial(n))"
      ],
      "metadata": {
        "id": "BNAqtMkcJjCA"
      },
      "execution_count": 18,
      "outputs": []
    },
    {
      "cell_type": "code",
      "source": [
        "print(no_perms_digits(0))   # 1\n",
        "print(no_perms_digits(1))   # 1\n",
        "print(no_perms_digits(5))   # 3\n",
        "print(no_perms_digits(8))   # 5"
      ],
      "metadata": {
        "id": "bJXQH_CLJjCB",
        "colab": {
          "base_uri": "https://localhost:8080/"
        },
        "outputId": "a4a03ad3-7bec-42a0-ee46-a0959b06483a"
      },
      "execution_count": 19,
      "outputs": [
        {
          "output_type": "stream",
          "name": "stdout",
          "text": [
            "1\n",
            "1\n",
            "3\n",
            "5\n"
          ]
        }
      ]
    },
    {
      "cell_type": "markdown",
      "source": [
        "## Reto 521: Impar vs. Par\n",
        "* Oddish vs. Evenish\n",
        "* Crea una función que determine si un número es Oddish o Evenish.\n",
        "* Un número es Oddish si la suma de todos sus dígitos es impar, y un número es Evenish si la suma de todos sus dígitos es par.\n",
        "* Si un número es Oddish, devuelve \"Oddish\". De lo contrario, devuelve \"Evenish\".\n",
        "\n",
        "Por ejemplo, `oddish_or_evenish(121)` debería devolver \"Evenish\", ya que 1 + 2 + 1 = 4. `oddish_or_evenish(41)` debería devolver \"Oddish\", ya que 4 + 1 = 5.\n",
        "\n",
        "Ejemplos:\n",
        "- `oddish_or_evenish(43)` ➞ \"Oddish\"\n",
        "  - 4 + 3 = 7\n",
        "  - 7 % 2 = 1\n",
        "\n",
        "- `oddish_or_evenish(373)` ➞ \"Oddish\"\n",
        "  - 3 + 7 + 3 = 13\n",
        "  - 13 % 2 = 1\n",
        "\n",
        "- `oddish_or_evenish(4433)` ➞ \"Evenish\"\n",
        "  - 4 + 4 + 3 + 3 = 14\n",
        "  - 14 % 2 = 0"
      ],
      "metadata": {
        "id": "PNPUFnt8J3hD"
      }
    },
    {
      "cell_type": "code",
      "source": [
        "# Método 1\n",
        "def oddish_or_evenish(numero):\n",
        "    suma_digitos = sum(int(digito) for digito in str(numero))\n",
        "    if suma_digitos % 2 == 0:\n",
        "        return \"Evenish\"\n",
        "    else:\n",
        "        return \"Oddish\"\n",
        "\n",
        "# Método 2. Sin usar str\n",
        "def oddish_or_evenish(numero):\n",
        "    suma_digitos = 0\n",
        "    while numero > 0:\n",
        "        suma_digitos += numero % 10\n",
        "        numero //= 10\n",
        "    if suma_digitos % 2 == 0:\n",
        "        return \"Evenish\"\n",
        "    else:\n",
        "        return \"Oddish\"\n",
        "\n",
        "# Método 3. Usando reduce, map y lambda\n",
        "from functools import reduce\n",
        "\n",
        "def oddish_or_evenish(numero):\n",
        "    # Convertir el número a una cadena y mapear cada dígito a un entero\n",
        "    digitos = map(int, str(numero))\n",
        "\n",
        "    # Usar reduce para sumar todos los dígitos\n",
        "    suma_digitos = reduce(lambda x, y: x + y, digitos)\n",
        "\n",
        "    # Determinar si la suma es par o impar\n",
        "    if suma_digitos % 2 == 0:\n",
        "        return \"Evenish\"\n",
        "    else:\n",
        "        return \"Oddish\"\n",
        "\n",
        "# Método 4. Generador y operador ternario\n",
        "def oddish_or_evenish(numero):\n",
        "    suma_digitos = sum(int(digito) for digito in str(numero))\n",
        "    return \"Evenish\" if suma_digitos % 2 == 0 else \"Oddish\"\n",
        "\n",
        "# Método 5. Tratando secuencialmente los dígitos con una bandera que indica si la suma es par o impar\n",
        "def oddish_or_evenish(numero):\n",
        "    # Función lambda para sumar dos dígitos\n",
        "    sumar_digitos = lambda x, y: x + y\n",
        "\n",
        "    # Inicializamos la bandera como 0 (par)\n",
        "    bandera = 0\n",
        "\n",
        "    # Convertimos el número a una cadena y procesamos cada dígito\n",
        "    for digito in str(numero):\n",
        "        # Convertimos el dígito a entero y actualizamos la bandera\n",
        "        bandera = sumar_digitos(bandera, int(digito))\n",
        "\n",
        "    # Evaluamos la bandera para determinar si es par o impar\n",
        "    return \"Evenish\" if bandera % 2 == 0 else \"Oddish\""
      ],
      "metadata": {
        "id": "Ti8YQt1xJ3hE"
      },
      "execution_count": 31,
      "outputs": []
    },
    {
      "cell_type": "code",
      "source": [
        "print(oddish_or_evenish(43))   # \"Oddish\"\n",
        "print(oddish_or_evenish(373))  # \"Oddish\"\n",
        "print(oddish_or_evenish(41))   # \"Oddish\"\n",
        "print(oddish_or_evenish(4433)) # \"Evenish\"\n",
        "print(oddish_or_evenish(121))  # \"Evenish\""
      ],
      "metadata": {
        "id": "N__ZeOW6J3hE",
        "colab": {
          "base_uri": "https://localhost:8080/"
        },
        "outputId": "170c39d2-e399-4dba-f59b-1a5597aa57ea"
      },
      "execution_count": 32,
      "outputs": [
        {
          "output_type": "stream",
          "name": "stdout",
          "text": [
            "Oddish\n",
            "Oddish\n",
            "Oddish\n",
            "Evenish\n",
            "Evenish\n"
          ]
        }
      ]
    },
    {
      "cell_type": "markdown",
      "source": [
        "## Reto 522: ¿Está Johnny Progresando?\n",
        "* Is Johnny Making Progress?\n",
        "* Para entrenar para un próximo maratón, Johnny hace una carrera de larga distancia cada sábado.\n",
        "* Quiere hacer un seguimiento de cuántas veces el número de millas que corre supera el sábado **anterior**. Esto se llama un **día de progreso**.\n",
        "* Crea una función que tome una lista de millas corridas cada sábado y devuelva el número total de días de progreso de Johnny.\n",
        "* **Ejemplos**\n",
        "```\n",
        "progress_days([3, 4, 1, 2]) ➞ 2\n",
        "    - Hay dos días de progreso, (3->4) y (1->2)\n",
        "progress_days([10, 11, 12, 9, 10]) ➞ 3\n",
        "progress_days([6, 5, 4, 3, 2, 9]) ➞ 1\n",
        "progress_days([9, 9])  ➞ 0\n",
        "```\n",
        "\n",
        "* **Notas**\n",
        "    - Correr el **mismo número de millas** que la semana pasada no cuenta como un día de progreso."
      ],
      "metadata": {
        "id": "XWjJweTLJ38J"
      }
    },
    {
      "cell_type": "code",
      "source": [
        "# Método 1\n",
        "def progress_days(miles):\n",
        "    dias_de_progreso = 0\n",
        "    for i in range(len(miles))\n",
        "\n",
        "\n",
        "\n",
        "\n",
        "\n",
        "\n",
        "\n",
        "\n",
        "\n",
        "\n",
        "\n",
        "\n",
        "\n",
        "\n",
        "\n",
        "\n",
        "\n",
        "\n",
        "\n",
        "# Método 2\n",
        "def progress_days(miles):\n",
        "    progress = 0\n",
        "    for i in range(1, len(miles)):\n",
        "        if miles[i] > miles[i-1]:\n",
        "            progress += 1\n",
        "    return progress"
      ],
      "metadata": {
        "id": "7QTbKucHJ38K"
      },
      "execution_count": null,
      "outputs": []
    },
    {
      "cell_type": "code",
      "source": [
        "print(progress_days([3, 4, 1, 2]))  # Debería imprimir 2\n",
        "print(progress_days([10, 11, 12, 9, 10]))  # Debería imprimir 3\n",
        "print(progress_days([6, 5, 4, 3, 2, 9]))  # Debería imprimir 1\n",
        "print(progress_days([9, 9]))  # Debería imprimir 0"
      ],
      "metadata": {
        "id": "-er8xjzyJ38K"
      },
      "execution_count": null,
      "outputs": []
    },
    {
      "cell_type": "markdown",
      "source": [
        "## Reto 523:"
      ],
      "metadata": {
        "id": "cNH9ZpeOJ4DH"
      }
    },
    {
      "cell_type": "code",
      "source": [
        "# Método 1\n",
        "def :\n",
        "    pass"
      ],
      "metadata": {
        "id": "Y2rDnQu6J4DH"
      },
      "execution_count": null,
      "outputs": []
    },
    {
      "cell_type": "code",
      "source": [
        "print()\n",
        "print()\n",
        "print()\n",
        "print()"
      ],
      "metadata": {
        "id": "icsPyDetJ4DH"
      },
      "execution_count": null,
      "outputs": []
    },
    {
      "cell_type": "markdown",
      "source": [
        "## Reto 524:"
      ],
      "metadata": {
        "id": "T5RJifTGJ4KH"
      }
    },
    {
      "cell_type": "code",
      "source": [
        "# Método 1\n",
        "def :\n",
        "    pass"
      ],
      "metadata": {
        "id": "dH3WyMViJ4KH"
      },
      "execution_count": null,
      "outputs": []
    },
    {
      "cell_type": "code",
      "source": [
        "print()\n",
        "print()\n",
        "print()\n",
        "print()"
      ],
      "metadata": {
        "id": "gYM_q5FvJ4KH"
      },
      "execution_count": null,
      "outputs": []
    },
    {
      "cell_type": "markdown",
      "source": [
        "## Reto 525:"
      ],
      "metadata": {
        "id": "9btS9f_jJ4Rk"
      }
    },
    {
      "cell_type": "code",
      "source": [
        "# Método 1\n",
        "def :\n",
        "    pass"
      ],
      "metadata": {
        "id": "E6J3pCYOJ4Rk"
      },
      "execution_count": null,
      "outputs": []
    },
    {
      "cell_type": "code",
      "source": [
        "print()\n",
        "print()\n",
        "print()\n",
        "print()"
      ],
      "metadata": {
        "id": "tknb1UNEJ4Rk"
      },
      "execution_count": null,
      "outputs": []
    },
    {
      "cell_type": "markdown",
      "source": [
        "## Reto 526:"
      ],
      "metadata": {
        "id": "2-Et9sGhJ4Yk"
      }
    },
    {
      "cell_type": "code",
      "source": [
        "# Método 1\n",
        "def :\n",
        "    pass"
      ],
      "metadata": {
        "id": "NUZheGy3J4Yk"
      },
      "execution_count": null,
      "outputs": []
    },
    {
      "cell_type": "code",
      "source": [
        "print()\n",
        "print()\n",
        "print()\n",
        "print()"
      ],
      "metadata": {
        "id": "OsMIsl4xJ4Yk"
      },
      "execution_count": null,
      "outputs": []
    },
    {
      "cell_type": "markdown",
      "source": [
        "## Reto 527:"
      ],
      "metadata": {
        "id": "cklCP4WwJ4f_"
      }
    },
    {
      "cell_type": "code",
      "source": [
        "# Método 1\n",
        "def :\n",
        "    pass"
      ],
      "metadata": {
        "id": "CfK4xyRhJ4f_"
      },
      "execution_count": null,
      "outputs": []
    },
    {
      "cell_type": "code",
      "source": [
        "print()\n",
        "print()\n",
        "print()\n",
        "print()"
      ],
      "metadata": {
        "id": "nGBYgdmWJ4f_"
      },
      "execution_count": null,
      "outputs": []
    },
    {
      "cell_type": "markdown",
      "source": [
        "## Reto 528:"
      ],
      "metadata": {
        "id": "h_FCdlipJ4na"
      }
    },
    {
      "cell_type": "code",
      "source": [
        "# Método 1\n",
        "def :\n",
        "    pass"
      ],
      "metadata": {
        "id": "rirzzGxdJ4na"
      },
      "execution_count": null,
      "outputs": []
    },
    {
      "cell_type": "code",
      "source": [
        "print()\n",
        "print()\n",
        "print()\n",
        "print()"
      ],
      "metadata": {
        "id": "TdKhyFKRJ4na"
      },
      "execution_count": null,
      "outputs": []
    },
    {
      "cell_type": "markdown",
      "source": [
        "## Reto 529:"
      ],
      "metadata": {
        "id": "qrAew1HVJ4uu"
      }
    },
    {
      "cell_type": "code",
      "source": [
        "# Método 1\n",
        "def :\n",
        "    pass"
      ],
      "metadata": {
        "id": "6izl31Y2J4uu"
      },
      "execution_count": null,
      "outputs": []
    },
    {
      "cell_type": "code",
      "source": [
        "print()\n",
        "print()\n",
        "print()\n",
        "print()"
      ],
      "metadata": {
        "id": "JjSVAuUTJ4uu"
      },
      "execution_count": null,
      "outputs": []
    },
    {
      "cell_type": "markdown",
      "source": [
        "## Reto 530:"
      ],
      "metadata": {
        "id": "JgzXD5JvJ42h"
      }
    },
    {
      "cell_type": "code",
      "source": [
        "# Método 1\n",
        "def :\n",
        "    pass"
      ],
      "metadata": {
        "id": "uJN9E-afJ42h"
      },
      "execution_count": null,
      "outputs": []
    },
    {
      "cell_type": "code",
      "source": [
        "print()\n",
        "print()\n",
        "print()\n",
        "print()"
      ],
      "metadata": {
        "id": "ZeE6TLYBJ42h"
      },
      "execution_count": null,
      "outputs": []
    },
    {
      "cell_type": "markdown",
      "source": [
        "## Reto 531:"
      ],
      "metadata": {
        "id": "MpNyY2GRKKQy"
      }
    },
    {
      "cell_type": "code",
      "source": [
        "# Método 1\n",
        "def :\n",
        "    pass"
      ],
      "metadata": {
        "id": "N3VTCQFmKKQy"
      },
      "execution_count": null,
      "outputs": []
    },
    {
      "cell_type": "code",
      "source": [
        "print()\n",
        "print()\n",
        "print()\n",
        "print()"
      ],
      "metadata": {
        "id": "HHvQKALwKKQy"
      },
      "execution_count": null,
      "outputs": []
    },
    {
      "cell_type": "markdown",
      "source": [
        "## Reto 532:"
      ],
      "metadata": {
        "id": "ltitQmDRKKZa"
      }
    },
    {
      "cell_type": "code",
      "source": [
        "# Método 1\n",
        "def :\n",
        "    pass"
      ],
      "metadata": {
        "id": "yOxHyMbxKKZa"
      },
      "execution_count": null,
      "outputs": []
    },
    {
      "cell_type": "code",
      "source": [
        "print()\n",
        "print()\n",
        "print()\n",
        "print()"
      ],
      "metadata": {
        "id": "q7bgTLszKKZa"
      },
      "execution_count": null,
      "outputs": []
    },
    {
      "cell_type": "markdown",
      "source": [
        "## Reto 533:"
      ],
      "metadata": {
        "id": "a42FhwZTKKgy"
      }
    },
    {
      "cell_type": "code",
      "source": [
        "# Método 1\n",
        "def :\n",
        "    pass"
      ],
      "metadata": {
        "id": "weROzSbxKKgy"
      },
      "execution_count": null,
      "outputs": []
    },
    {
      "cell_type": "code",
      "source": [
        "print()\n",
        "print()\n",
        "print()\n",
        "print()"
      ],
      "metadata": {
        "id": "XeJ_yYXsKKgy"
      },
      "execution_count": null,
      "outputs": []
    },
    {
      "cell_type": "markdown",
      "source": [
        "## Reto 534:"
      ],
      "metadata": {
        "id": "PW3dG2GVKKnj"
      }
    },
    {
      "cell_type": "code",
      "source": [
        "# Método 1\n",
        "def :\n",
        "    pass"
      ],
      "metadata": {
        "id": "Xa8nKq5aKKnj"
      },
      "execution_count": null,
      "outputs": []
    },
    {
      "cell_type": "code",
      "source": [
        "print()\n",
        "print()\n",
        "print()\n",
        "print()"
      ],
      "metadata": {
        "id": "mrkDblQcKKnj"
      },
      "execution_count": null,
      "outputs": []
    },
    {
      "cell_type": "markdown",
      "source": [
        "## Reto 535:"
      ],
      "metadata": {
        "id": "s4LZ29zOKKtx"
      }
    },
    {
      "cell_type": "code",
      "source": [
        "# Método 1\n",
        "def :\n",
        "    pass"
      ],
      "metadata": {
        "id": "khpCuV6QKKtx"
      },
      "execution_count": null,
      "outputs": []
    },
    {
      "cell_type": "code",
      "source": [
        "print()\n",
        "print()\n",
        "print()\n",
        "print()"
      ],
      "metadata": {
        "id": "HqqVth6vKKtx"
      },
      "execution_count": null,
      "outputs": []
    },
    {
      "cell_type": "markdown",
      "source": [
        "## Reto 536:"
      ],
      "metadata": {
        "id": "VFFIzH2dKK0H"
      }
    },
    {
      "cell_type": "code",
      "source": [
        "# Método 1\n",
        "def :\n",
        "    pass"
      ],
      "metadata": {
        "id": "W1LYOLY-KK0H"
      },
      "execution_count": null,
      "outputs": []
    },
    {
      "cell_type": "code",
      "source": [
        "print()\n",
        "print()\n",
        "print()\n",
        "print()"
      ],
      "metadata": {
        "id": "-V3auLj3KK0H"
      },
      "execution_count": null,
      "outputs": []
    },
    {
      "cell_type": "markdown",
      "source": [
        "## Reto 537:"
      ],
      "metadata": {
        "id": "w5B5Xs4dKK6d"
      }
    },
    {
      "cell_type": "code",
      "source": [
        "# Método 1\n",
        "def :\n",
        "    pass"
      ],
      "metadata": {
        "id": "uv9pl1aFKK6d"
      },
      "execution_count": null,
      "outputs": []
    },
    {
      "cell_type": "code",
      "source": [
        "print()\n",
        "print()\n",
        "print()\n",
        "print()"
      ],
      "metadata": {
        "id": "mYErrFgIKK6e"
      },
      "execution_count": null,
      "outputs": []
    },
    {
      "cell_type": "markdown",
      "source": [
        "## Reto 538:"
      ],
      "metadata": {
        "id": "YqPFE6tBKLAz"
      }
    },
    {
      "cell_type": "code",
      "source": [
        "# Método 1\n",
        "def :\n",
        "    pass"
      ],
      "metadata": {
        "id": "QKWCLjZDKLAz"
      },
      "execution_count": null,
      "outputs": []
    },
    {
      "cell_type": "code",
      "source": [
        "print()\n",
        "print()\n",
        "print()\n",
        "print()"
      ],
      "metadata": {
        "id": "P2h7syGAKLAz"
      },
      "execution_count": null,
      "outputs": []
    },
    {
      "cell_type": "markdown",
      "source": [
        "## Reto 539:"
      ],
      "metadata": {
        "id": "6Wn7DnokKLIM"
      }
    },
    {
      "cell_type": "code",
      "source": [
        "# Método 1\n",
        "def :\n",
        "    pass"
      ],
      "metadata": {
        "id": "nmM2H56-KLIN"
      },
      "execution_count": null,
      "outputs": []
    },
    {
      "cell_type": "code",
      "source": [
        "print()\n",
        "print()\n",
        "print()\n",
        "print()"
      ],
      "metadata": {
        "id": "ER1D-sOMKLIN"
      },
      "execution_count": null,
      "outputs": []
    },
    {
      "cell_type": "markdown",
      "source": [
        "## Reto 540:"
      ],
      "metadata": {
        "id": "OIidk6MOKLPk"
      }
    },
    {
      "cell_type": "code",
      "source": [
        "# Método 1\n",
        "def :\n",
        "    pass"
      ],
      "metadata": {
        "id": "FDDJ9fSOKLPk"
      },
      "execution_count": null,
      "outputs": []
    },
    {
      "cell_type": "code",
      "source": [
        "print()\n",
        "print()\n",
        "print()\n",
        "print()"
      ],
      "metadata": {
        "id": "yrQw27_PKLPk"
      },
      "execution_count": null,
      "outputs": []
    },
    {
      "cell_type": "markdown",
      "source": [
        "## Reto 541:"
      ],
      "metadata": {
        "id": "zBwUd6u1Kda2"
      }
    },
    {
      "cell_type": "code",
      "source": [
        "# Método 1\n",
        "def :\n",
        "    pass"
      ],
      "metadata": {
        "id": "w0XM8KGMKda2"
      },
      "execution_count": null,
      "outputs": []
    },
    {
      "cell_type": "code",
      "source": [
        "print()\n",
        "print()\n",
        "print()\n",
        "print()"
      ],
      "metadata": {
        "id": "PL9FDFyUKda2"
      },
      "execution_count": null,
      "outputs": []
    },
    {
      "cell_type": "markdown",
      "source": [
        "## Reto 542:"
      ],
      "metadata": {
        "id": "IkMLgN0uKdjd"
      }
    },
    {
      "cell_type": "code",
      "source": [
        "# Método 1\n",
        "def :\n",
        "    pass"
      ],
      "metadata": {
        "id": "Kwa_K7Z9Kdje"
      },
      "execution_count": null,
      "outputs": []
    },
    {
      "cell_type": "code",
      "source": [
        "print()\n",
        "print()\n",
        "print()\n",
        "print()"
      ],
      "metadata": {
        "id": "gfNwHXVyKdje"
      },
      "execution_count": null,
      "outputs": []
    },
    {
      "cell_type": "markdown",
      "source": [
        "## Reto 543:"
      ],
      "metadata": {
        "id": "wpBtuBE_KdrQ"
      }
    },
    {
      "cell_type": "code",
      "source": [
        "# Método 1\n",
        "def :\n",
        "    pass"
      ],
      "metadata": {
        "id": "pPkoQMDjKdrR"
      },
      "execution_count": null,
      "outputs": []
    },
    {
      "cell_type": "code",
      "source": [
        "print()\n",
        "print()\n",
        "print()\n",
        "print()"
      ],
      "metadata": {
        "id": "wW60bcRwKdrR"
      },
      "execution_count": null,
      "outputs": []
    },
    {
      "cell_type": "markdown",
      "source": [
        "## Reto 544:"
      ],
      "metadata": {
        "id": "_7YpcfgHKdyO"
      }
    },
    {
      "cell_type": "code",
      "source": [
        "# Método 1\n",
        "def :\n",
        "    pass"
      ],
      "metadata": {
        "id": "SkDQw4svKdyO"
      },
      "execution_count": null,
      "outputs": []
    },
    {
      "cell_type": "code",
      "source": [
        "print()\n",
        "print()\n",
        "print()\n",
        "print()"
      ],
      "metadata": {
        "id": "r4eaiLE6KdyO"
      },
      "execution_count": null,
      "outputs": []
    },
    {
      "cell_type": "markdown",
      "source": [
        "## Reto 545:"
      ],
      "metadata": {
        "id": "w04A7HtQKd5o"
      }
    },
    {
      "cell_type": "code",
      "source": [
        "# Método 1\n",
        "def :\n",
        "    pass"
      ],
      "metadata": {
        "id": "zl3MweNdKd5o"
      },
      "execution_count": null,
      "outputs": []
    },
    {
      "cell_type": "code",
      "source": [
        "print()\n",
        "print()\n",
        "print()\n",
        "print()"
      ],
      "metadata": {
        "id": "0UpUWFGMKd5o"
      },
      "execution_count": null,
      "outputs": []
    },
    {
      "cell_type": "markdown",
      "source": [
        "## Reto 546:"
      ],
      "metadata": {
        "id": "Zh9UFyL-KeAt"
      }
    },
    {
      "cell_type": "code",
      "source": [
        "# Método 1\n",
        "def :\n",
        "    pass"
      ],
      "metadata": {
        "id": "i-jJn26qKeAu"
      },
      "execution_count": null,
      "outputs": []
    },
    {
      "cell_type": "code",
      "source": [
        "print()\n",
        "print()\n",
        "print()\n",
        "print()"
      ],
      "metadata": {
        "id": "rw7UwO5ZKeAu"
      },
      "execution_count": null,
      "outputs": []
    },
    {
      "cell_type": "markdown",
      "source": [
        "## Reto 547:"
      ],
      "metadata": {
        "id": "t4jr2BK1KeID"
      }
    },
    {
      "cell_type": "code",
      "source": [
        "# Método 1\n",
        "def :\n",
        "    pass"
      ],
      "metadata": {
        "id": "aQTPn36yKeID"
      },
      "execution_count": null,
      "outputs": []
    },
    {
      "cell_type": "code",
      "source": [
        "print()\n",
        "print()\n",
        "print()\n",
        "print()"
      ],
      "metadata": {
        "id": "H3M6VhGxKeID"
      },
      "execution_count": null,
      "outputs": []
    },
    {
      "cell_type": "markdown",
      "source": [
        "## Reto 548:"
      ],
      "metadata": {
        "id": "Wy4WDTYzKePa"
      }
    },
    {
      "cell_type": "code",
      "source": [
        "# Método 1\n",
        "def :\n",
        "    pass"
      ],
      "metadata": {
        "id": "wKWIdoIWKePa"
      },
      "execution_count": null,
      "outputs": []
    },
    {
      "cell_type": "code",
      "source": [
        "print()\n",
        "print()\n",
        "print()\n",
        "print()"
      ],
      "metadata": {
        "id": "46HKwituKePa"
      },
      "execution_count": null,
      "outputs": []
    },
    {
      "cell_type": "markdown",
      "source": [
        "## Reto 549:"
      ],
      "metadata": {
        "id": "BBLM9G9ZKeWa"
      }
    },
    {
      "cell_type": "code",
      "source": [
        "# Método 1\n",
        "def :\n",
        "    pass"
      ],
      "metadata": {
        "id": "9oKulg3HKeWa"
      },
      "execution_count": null,
      "outputs": []
    },
    {
      "cell_type": "code",
      "source": [
        "print()\n",
        "print()\n",
        "print()\n",
        "print()"
      ],
      "metadata": {
        "id": "7YONpao8KeWa"
      },
      "execution_count": null,
      "outputs": []
    },
    {
      "cell_type": "markdown",
      "source": [
        "## Reto 550:"
      ],
      "metadata": {
        "id": "ea-Jcz4RKeen"
      }
    },
    {
      "cell_type": "code",
      "source": [
        "# Método 1\n",
        "def :\n",
        "    pass"
      ],
      "metadata": {
        "id": "5wsx0eKPKeen"
      },
      "execution_count": null,
      "outputs": []
    },
    {
      "cell_type": "code",
      "source": [
        "print()\n",
        "print()\n",
        "print()\n",
        "print()"
      ],
      "metadata": {
        "id": "CXA2SPAbKeen"
      },
      "execution_count": null,
      "outputs": []
    },
    {
      "cell_type": "markdown",
      "source": [
        "## Reto 551:"
      ],
      "metadata": {
        "id": "etQJUnIzK5S2"
      }
    },
    {
      "cell_type": "code",
      "source": [
        "# Método 1\n",
        "def :\n",
        "    pass"
      ],
      "metadata": {
        "id": "A1AHdwnoK5S2"
      },
      "execution_count": null,
      "outputs": []
    },
    {
      "cell_type": "code",
      "source": [
        "print()\n",
        "print()\n",
        "print()\n",
        "print()"
      ],
      "metadata": {
        "id": "Ki5WX6dwK5S2"
      },
      "execution_count": null,
      "outputs": []
    },
    {
      "cell_type": "markdown",
      "source": [
        "## Reto 552:"
      ],
      "metadata": {
        "id": "psCWW_F_K5aa"
      }
    },
    {
      "cell_type": "code",
      "source": [
        "# Método 1\n",
        "def :\n",
        "    pass"
      ],
      "metadata": {
        "id": "bTYis95NK5aa"
      },
      "execution_count": null,
      "outputs": []
    },
    {
      "cell_type": "code",
      "source": [
        "print()\n",
        "print()\n",
        "print()\n",
        "print()"
      ],
      "metadata": {
        "id": "EpqZc6YEK5aa"
      },
      "execution_count": null,
      "outputs": []
    },
    {
      "cell_type": "markdown",
      "source": [
        "## Reto 553:"
      ],
      "metadata": {
        "id": "obEjA9nDK5hM"
      }
    },
    {
      "cell_type": "code",
      "source": [
        "# Método 1\n",
        "def :\n",
        "    pass"
      ],
      "metadata": {
        "id": "aEx0aesJK5hM"
      },
      "execution_count": null,
      "outputs": []
    },
    {
      "cell_type": "code",
      "source": [
        "print()\n",
        "print()\n",
        "print()\n",
        "print()"
      ],
      "metadata": {
        "id": "O_8uRNSRK5hM"
      },
      "execution_count": null,
      "outputs": []
    },
    {
      "cell_type": "markdown",
      "source": [
        "## Reto 554:"
      ],
      "metadata": {
        "id": "Bn2BcxITK5nY"
      }
    },
    {
      "cell_type": "code",
      "source": [
        "# Método 1\n",
        "def :\n",
        "    pass"
      ],
      "metadata": {
        "id": "K3jYRS0LK5nY"
      },
      "execution_count": null,
      "outputs": []
    },
    {
      "cell_type": "code",
      "source": [
        "print()\n",
        "print()\n",
        "print()\n",
        "print()"
      ],
      "metadata": {
        "id": "afoX9yTtK5nY"
      },
      "execution_count": null,
      "outputs": []
    },
    {
      "cell_type": "markdown",
      "source": [
        "## Reto 555:"
      ],
      "metadata": {
        "id": "j84aufrmK5ts"
      }
    },
    {
      "cell_type": "code",
      "source": [
        "# Método 1\n",
        "def :\n",
        "    pass"
      ],
      "metadata": {
        "id": "dTXK0w7wK5ts"
      },
      "execution_count": null,
      "outputs": []
    },
    {
      "cell_type": "code",
      "source": [
        "print()\n",
        "print()\n",
        "print()\n",
        "print()"
      ],
      "metadata": {
        "id": "ZeAsCh73K5ts"
      },
      "execution_count": null,
      "outputs": []
    },
    {
      "cell_type": "markdown",
      "source": [
        "## Reto 556:"
      ],
      "metadata": {
        "id": "3a-vhA3gK50H"
      }
    },
    {
      "cell_type": "code",
      "source": [
        "# Método 1\n",
        "def :\n",
        "    pass"
      ],
      "metadata": {
        "id": "JQJhoPODK50H"
      },
      "execution_count": null,
      "outputs": []
    },
    {
      "cell_type": "code",
      "source": [
        "print()\n",
        "print()\n",
        "print()\n",
        "print()"
      ],
      "metadata": {
        "id": "oy9CI_OGK50H"
      },
      "execution_count": null,
      "outputs": []
    },
    {
      "cell_type": "markdown",
      "source": [
        "## Reto 557:"
      ],
      "metadata": {
        "id": "LTm036CpK56Y"
      }
    },
    {
      "cell_type": "code",
      "source": [
        "# Método 1\n",
        "def :\n",
        "    pass"
      ],
      "metadata": {
        "id": "3NRCqqU0K56Y"
      },
      "execution_count": null,
      "outputs": []
    },
    {
      "cell_type": "code",
      "source": [
        "print()\n",
        "print()\n",
        "print()\n",
        "print()"
      ],
      "metadata": {
        "id": "CWRWKElXK56Y"
      },
      "execution_count": null,
      "outputs": []
    },
    {
      "cell_type": "markdown",
      "source": [
        "## Reto 558:"
      ],
      "metadata": {
        "id": "VXfhvFLAK6BL"
      }
    },
    {
      "cell_type": "code",
      "source": [
        "# Método 1\n",
        "def :\n",
        "    pass"
      ],
      "metadata": {
        "id": "Vs6GDKDMK6BL"
      },
      "execution_count": null,
      "outputs": []
    },
    {
      "cell_type": "code",
      "source": [
        "print()\n",
        "print()\n",
        "print()\n",
        "print()"
      ],
      "metadata": {
        "id": "sGPKHDQrK6BL"
      },
      "execution_count": null,
      "outputs": []
    },
    {
      "cell_type": "markdown",
      "source": [
        "## Reto 559:"
      ],
      "metadata": {
        "id": "ihYQFfWmK6Hv"
      }
    },
    {
      "cell_type": "code",
      "source": [
        "# Método 1\n",
        "def :\n",
        "    pass"
      ],
      "metadata": {
        "id": "PlTymfYrK6Hw"
      },
      "execution_count": null,
      "outputs": []
    },
    {
      "cell_type": "code",
      "source": [
        "print()\n",
        "print()\n",
        "print()\n",
        "print()"
      ],
      "metadata": {
        "id": "6SW9KhA1K6Hw"
      },
      "execution_count": null,
      "outputs": []
    },
    {
      "cell_type": "markdown",
      "source": [
        "## Reto 560:"
      ],
      "metadata": {
        "id": "4Zr_cUZdK6OG"
      }
    },
    {
      "cell_type": "code",
      "source": [
        "# Método 1\n",
        "def :\n",
        "    pass"
      ],
      "metadata": {
        "id": "SjLK9-nnK6OG"
      },
      "execution_count": null,
      "outputs": []
    },
    {
      "cell_type": "code",
      "source": [
        "print()\n",
        "print()\n",
        "print()\n",
        "print()"
      ],
      "metadata": {
        "id": "31bfdRi1K6OH"
      },
      "execution_count": null,
      "outputs": []
    },
    {
      "cell_type": "markdown",
      "source": [
        "## Reto 561:"
      ],
      "metadata": {
        "id": "61iV19v3LMiA"
      }
    },
    {
      "cell_type": "code",
      "source": [
        "# Método 1\n",
        "def :\n",
        "    pass"
      ],
      "metadata": {
        "id": "APrJ0KyLLMiA"
      },
      "execution_count": null,
      "outputs": []
    },
    {
      "cell_type": "code",
      "source": [
        "print()\n",
        "print()\n",
        "print()\n",
        "print()"
      ],
      "metadata": {
        "id": "e-mBlXAzLMiA"
      },
      "execution_count": null,
      "outputs": []
    },
    {
      "cell_type": "markdown",
      "source": [
        "## Reto 562:"
      ],
      "metadata": {
        "id": "Q3wgEONiLMoN"
      }
    },
    {
      "cell_type": "code",
      "source": [
        "# Método 1\n",
        "def :\n",
        "    pass"
      ],
      "metadata": {
        "id": "nCT72IuULMoN"
      },
      "execution_count": null,
      "outputs": []
    },
    {
      "cell_type": "code",
      "source": [
        "print()\n",
        "print()\n",
        "print()\n",
        "print()"
      ],
      "metadata": {
        "id": "6EDB8fUILMoN"
      },
      "execution_count": null,
      "outputs": []
    },
    {
      "cell_type": "markdown",
      "source": [
        "## Reto 563:"
      ],
      "metadata": {
        "id": "spC8vL2CLMuM"
      }
    },
    {
      "cell_type": "code",
      "source": [
        "# Método 1\n",
        "def :\n",
        "    pass"
      ],
      "metadata": {
        "id": "TddezJz3LMuM"
      },
      "execution_count": null,
      "outputs": []
    },
    {
      "cell_type": "code",
      "source": [
        "print()\n",
        "print()\n",
        "print()\n",
        "print()"
      ],
      "metadata": {
        "id": "DTGUrFS_LMuM"
      },
      "execution_count": null,
      "outputs": []
    },
    {
      "cell_type": "markdown",
      "source": [
        "## Reto 564:"
      ],
      "metadata": {
        "id": "A1ntmuTcLM0k"
      }
    },
    {
      "cell_type": "code",
      "source": [
        "# Método 1\n",
        "def :\n",
        "    pass"
      ],
      "metadata": {
        "id": "_9a-z09FLM0k"
      },
      "execution_count": null,
      "outputs": []
    },
    {
      "cell_type": "code",
      "source": [
        "print()\n",
        "print()\n",
        "print()\n",
        "print()"
      ],
      "metadata": {
        "id": "jSIiQqtbLM0k"
      },
      "execution_count": null,
      "outputs": []
    },
    {
      "cell_type": "markdown",
      "source": [
        "## Reto 565:"
      ],
      "metadata": {
        "id": "skyyiwalLM63"
      }
    },
    {
      "cell_type": "code",
      "source": [
        "# Método 1\n",
        "def :\n",
        "    pass"
      ],
      "metadata": {
        "id": "vYDysMfrLM64"
      },
      "execution_count": null,
      "outputs": []
    },
    {
      "cell_type": "code",
      "source": [
        "print()\n",
        "print()\n",
        "print()\n",
        "print()"
      ],
      "metadata": {
        "id": "VZnOmYkVLM64"
      },
      "execution_count": null,
      "outputs": []
    },
    {
      "cell_type": "markdown",
      "source": [
        "## Reto 566:"
      ],
      "metadata": {
        "id": "rjg7iNPbLNBK"
      }
    },
    {
      "cell_type": "code",
      "source": [
        "# Método 1\n",
        "def :\n",
        "    pass"
      ],
      "metadata": {
        "id": "DLlmx8xGLNBL"
      },
      "execution_count": null,
      "outputs": []
    },
    {
      "cell_type": "code",
      "source": [
        "print()\n",
        "print()\n",
        "print()\n",
        "print()"
      ],
      "metadata": {
        "id": "sl2Nh-3ELNBL"
      },
      "execution_count": null,
      "outputs": []
    },
    {
      "cell_type": "markdown",
      "source": [
        "## Reto 567:"
      ],
      "metadata": {
        "id": "yzgkeQHcLNHJ"
      }
    },
    {
      "cell_type": "code",
      "source": [
        "# Método 1\n",
        "def :\n",
        "    pass"
      ],
      "metadata": {
        "id": "kLI_QC9gLNHJ"
      },
      "execution_count": null,
      "outputs": []
    },
    {
      "cell_type": "code",
      "source": [
        "print()\n",
        "print()\n",
        "print()\n",
        "print()"
      ],
      "metadata": {
        "id": "EYukYgtgLNHJ"
      },
      "execution_count": null,
      "outputs": []
    },
    {
      "cell_type": "markdown",
      "source": [
        "## Reto 568:"
      ],
      "metadata": {
        "id": "eahEzmzyLNNG"
      }
    },
    {
      "cell_type": "code",
      "source": [
        "# Método 1\n",
        "def :\n",
        "    pass"
      ],
      "metadata": {
        "id": "bt1kAeH8LNNH"
      },
      "execution_count": null,
      "outputs": []
    },
    {
      "cell_type": "code",
      "source": [
        "print()\n",
        "print()\n",
        "print()\n",
        "print()"
      ],
      "metadata": {
        "id": "lk_T2N1oLNNH"
      },
      "execution_count": null,
      "outputs": []
    },
    {
      "cell_type": "markdown",
      "source": [
        "## Reto 569:"
      ],
      "metadata": {
        "id": "LyBHsamYLNTi"
      }
    },
    {
      "cell_type": "code",
      "source": [
        "# Método 1\n",
        "def :\n",
        "    pass"
      ],
      "metadata": {
        "id": "Uo4ZObcALNTj"
      },
      "execution_count": null,
      "outputs": []
    },
    {
      "cell_type": "code",
      "source": [
        "print()\n",
        "print()\n",
        "print()\n",
        "print()"
      ],
      "metadata": {
        "id": "5sQe_lqeLNTj"
      },
      "execution_count": null,
      "outputs": []
    },
    {
      "cell_type": "markdown",
      "source": [
        "## Reto 570:"
      ],
      "metadata": {
        "id": "SQWyZ6-ALNZx"
      }
    },
    {
      "cell_type": "code",
      "source": [
        "# Método 1\n",
        "def :\n",
        "    pass"
      ],
      "metadata": {
        "id": "92mwwCgALNZy"
      },
      "execution_count": null,
      "outputs": []
    },
    {
      "cell_type": "code",
      "source": [
        "print()\n",
        "print()\n",
        "print()\n",
        "print()"
      ],
      "metadata": {
        "id": "3mS_3YvwLNZy"
      },
      "execution_count": null,
      "outputs": []
    },
    {
      "cell_type": "markdown",
      "source": [
        "## Reto 571:"
      ],
      "metadata": {
        "id": "2owkhItHLhyB"
      }
    },
    {
      "cell_type": "code",
      "source": [
        "# Método 1\n",
        "def :\n",
        "    pass"
      ],
      "metadata": {
        "id": "RXDX_haSLhyB"
      },
      "execution_count": null,
      "outputs": []
    },
    {
      "cell_type": "code",
      "source": [
        "print()\n",
        "print()\n",
        "print()\n",
        "print()"
      ],
      "metadata": {
        "id": "c7qRbfyqLhyB"
      },
      "execution_count": null,
      "outputs": []
    },
    {
      "cell_type": "markdown",
      "source": [
        "## Reto 572:"
      ],
      "metadata": {
        "id": "CDLt9UxgLh4J"
      }
    },
    {
      "cell_type": "code",
      "source": [
        "# Método 1\n",
        "def :\n",
        "    pass"
      ],
      "metadata": {
        "id": "8vdcf6vQLh4J"
      },
      "execution_count": null,
      "outputs": []
    },
    {
      "cell_type": "code",
      "source": [
        "print()\n",
        "print()\n",
        "print()\n",
        "print()"
      ],
      "metadata": {
        "id": "5ZUHKvfgLh4J"
      },
      "execution_count": null,
      "outputs": []
    },
    {
      "cell_type": "markdown",
      "source": [
        "## Reto 573:"
      ],
      "metadata": {
        "id": "P7ziK0i7Lh-G"
      }
    },
    {
      "cell_type": "code",
      "source": [
        "# Método 1\n",
        "def :\n",
        "    pass"
      ],
      "metadata": {
        "id": "uqXYW16-Lh-G"
      },
      "execution_count": null,
      "outputs": []
    },
    {
      "cell_type": "code",
      "source": [
        "print()\n",
        "print()\n",
        "print()\n",
        "print()"
      ],
      "metadata": {
        "id": "qDWhkknZLh-G"
      },
      "execution_count": null,
      "outputs": []
    },
    {
      "cell_type": "markdown",
      "source": [
        "## Reto 574:"
      ],
      "metadata": {
        "id": "5GsbhwnNLiFJ"
      }
    },
    {
      "cell_type": "code",
      "source": [
        "# Método 1\n",
        "def :\n",
        "    pass"
      ],
      "metadata": {
        "id": "nxMhqeUJLiFJ"
      },
      "execution_count": null,
      "outputs": []
    },
    {
      "cell_type": "code",
      "source": [
        "print()\n",
        "print()\n",
        "print()\n",
        "print()"
      ],
      "metadata": {
        "id": "sQbzrz9OLiFJ"
      },
      "execution_count": null,
      "outputs": []
    },
    {
      "cell_type": "markdown",
      "source": [
        "## Reto 575:"
      ],
      "metadata": {
        "id": "kMC9MQDfLiLH"
      }
    },
    {
      "cell_type": "code",
      "source": [
        "# Método 1\n",
        "def :\n",
        "    pass"
      ],
      "metadata": {
        "id": "nvEc58pxLiLH"
      },
      "execution_count": null,
      "outputs": []
    },
    {
      "cell_type": "code",
      "source": [
        "print()\n",
        "print()\n",
        "print()\n",
        "print()"
      ],
      "metadata": {
        "id": "-wmRV9t5LiLH"
      },
      "execution_count": null,
      "outputs": []
    },
    {
      "cell_type": "markdown",
      "source": [
        "## Reto 576:"
      ],
      "metadata": {
        "id": "xSImdk9BLiRc"
      }
    },
    {
      "cell_type": "code",
      "source": [
        "# Método 1\n",
        "def :\n",
        "    pass"
      ],
      "metadata": {
        "id": "aT7l5TEpLiRc"
      },
      "execution_count": null,
      "outputs": []
    },
    {
      "cell_type": "code",
      "source": [
        "print()\n",
        "print()\n",
        "print()\n",
        "print()"
      ],
      "metadata": {
        "id": "BqaNoXNXLiRc"
      },
      "execution_count": null,
      "outputs": []
    },
    {
      "cell_type": "markdown",
      "source": [
        "## Reto 577:"
      ],
      "metadata": {
        "id": "06neNEk8LiX5"
      }
    },
    {
      "cell_type": "code",
      "source": [
        "# Método 1\n",
        "def :\n",
        "    pass"
      ],
      "metadata": {
        "id": "kaT8iASjLiX5"
      },
      "execution_count": null,
      "outputs": []
    },
    {
      "cell_type": "code",
      "source": [
        "print()\n",
        "print()\n",
        "print()\n",
        "print()"
      ],
      "metadata": {
        "id": "SHkZrpu8LiX5"
      },
      "execution_count": null,
      "outputs": []
    },
    {
      "cell_type": "markdown",
      "source": [
        "## Reto 578:"
      ],
      "metadata": {
        "id": "YYzjcI17Liez"
      }
    },
    {
      "cell_type": "code",
      "source": [
        "# Método 1\n",
        "def :\n",
        "    pass"
      ],
      "metadata": {
        "id": "it3KGvclLiez"
      },
      "execution_count": null,
      "outputs": []
    },
    {
      "cell_type": "code",
      "source": [
        "print()\n",
        "print()\n",
        "print()\n",
        "print()"
      ],
      "metadata": {
        "id": "10WjuOejLiez"
      },
      "execution_count": null,
      "outputs": []
    },
    {
      "cell_type": "markdown",
      "source": [
        "## Reto 579:"
      ],
      "metadata": {
        "id": "GkLinAg8Liky"
      }
    },
    {
      "cell_type": "code",
      "source": [
        "# Método 1\n",
        "def :\n",
        "    pass"
      ],
      "metadata": {
        "id": "NzErCS-oLiky"
      },
      "execution_count": null,
      "outputs": []
    },
    {
      "cell_type": "code",
      "source": [
        "print()\n",
        "print()\n",
        "print()\n",
        "print()"
      ],
      "metadata": {
        "id": "QASfCa0aLiky"
      },
      "execution_count": null,
      "outputs": []
    },
    {
      "cell_type": "markdown",
      "source": [
        "## Reto 580:"
      ],
      "metadata": {
        "id": "d-J7lYOULirf"
      }
    },
    {
      "cell_type": "code",
      "source": [
        "# Método 1\n",
        "def :\n",
        "    pass"
      ],
      "metadata": {
        "id": "yA18S0w4Lirf"
      },
      "execution_count": null,
      "outputs": []
    },
    {
      "cell_type": "code",
      "source": [
        "print()\n",
        "print()\n",
        "print()\n",
        "print()"
      ],
      "metadata": {
        "id": "Zw8myjqbLirf"
      },
      "execution_count": null,
      "outputs": []
    },
    {
      "cell_type": "markdown",
      "source": [
        "## Reto 581:"
      ],
      "metadata": {
        "id": "caTKyjSTL3a1"
      }
    },
    {
      "cell_type": "code",
      "source": [
        "# Método 1\n",
        "def :\n",
        "    pass"
      ],
      "metadata": {
        "id": "_ztXp-wgL3a1"
      },
      "execution_count": null,
      "outputs": []
    },
    {
      "cell_type": "code",
      "source": [
        "print()\n",
        "print()\n",
        "print()\n",
        "print()"
      ],
      "metadata": {
        "id": "tuwlQEk-L3a1"
      },
      "execution_count": null,
      "outputs": []
    },
    {
      "cell_type": "markdown",
      "source": [
        "## Reto 582:"
      ],
      "metadata": {
        "id": "7fiB0jv8L3hE"
      }
    },
    {
      "cell_type": "code",
      "source": [
        "# Método 1\n",
        "def :\n",
        "    pass"
      ],
      "metadata": {
        "id": "a7mOXJLPL3hF"
      },
      "execution_count": null,
      "outputs": []
    },
    {
      "cell_type": "code",
      "source": [
        "print()\n",
        "print()\n",
        "print()\n",
        "print()"
      ],
      "metadata": {
        "id": "rNJK48w9L3hF"
      },
      "execution_count": null,
      "outputs": []
    },
    {
      "cell_type": "markdown",
      "source": [
        "## Reto 583:"
      ],
      "metadata": {
        "id": "GKGE4HsJL3nW"
      }
    },
    {
      "cell_type": "code",
      "source": [
        "# Método 1\n",
        "def :\n",
        "    pass"
      ],
      "metadata": {
        "id": "EzEvRiJjL3nW"
      },
      "execution_count": null,
      "outputs": []
    },
    {
      "cell_type": "code",
      "source": [
        "print()\n",
        "print()\n",
        "print()\n",
        "print()"
      ],
      "metadata": {
        "id": "opmO9Yd8L3nW"
      },
      "execution_count": null,
      "outputs": []
    },
    {
      "cell_type": "markdown",
      "source": [
        "## Reto 584:"
      ],
      "metadata": {
        "id": "15rjwg1tL3tV"
      }
    },
    {
      "cell_type": "code",
      "source": [
        "# Método 1\n",
        "def :\n",
        "    pass"
      ],
      "metadata": {
        "id": "8WUz4w7aL3tV"
      },
      "execution_count": null,
      "outputs": []
    },
    {
      "cell_type": "code",
      "source": [
        "print()\n",
        "print()\n",
        "print()\n",
        "print()"
      ],
      "metadata": {
        "id": "VHrRCAUFL3tV"
      },
      "execution_count": null,
      "outputs": []
    },
    {
      "cell_type": "markdown",
      "source": [
        "## Reto 585:"
      ],
      "metadata": {
        "id": "waiNaoG1L3zp"
      }
    },
    {
      "cell_type": "code",
      "source": [
        "# Método 1\n",
        "def :\n",
        "    pass"
      ],
      "metadata": {
        "id": "H56FhgUnL3zp"
      },
      "execution_count": null,
      "outputs": []
    },
    {
      "cell_type": "code",
      "source": [
        "print()\n",
        "print()\n",
        "print()\n",
        "print()"
      ],
      "metadata": {
        "id": "cAZkIyvfL3zp"
      },
      "execution_count": null,
      "outputs": []
    },
    {
      "cell_type": "markdown",
      "source": [
        "## Reto 586:"
      ],
      "metadata": {
        "id": "t4yqCwAqL35p"
      }
    },
    {
      "cell_type": "code",
      "source": [
        "# Método 1\n",
        "def :\n",
        "    pass"
      ],
      "metadata": {
        "id": "pIiiWnaiL35p"
      },
      "execution_count": null,
      "outputs": []
    },
    {
      "cell_type": "code",
      "source": [
        "print()\n",
        "print()\n",
        "print()\n",
        "print()"
      ],
      "metadata": {
        "id": "a610MU9oL35p"
      },
      "execution_count": null,
      "outputs": []
    },
    {
      "cell_type": "markdown",
      "source": [
        "## Reto 587:"
      ],
      "metadata": {
        "id": "x6C1TjPaL3_-"
      }
    },
    {
      "cell_type": "code",
      "source": [
        "# Método 1\n",
        "def :\n",
        "    pass"
      ],
      "metadata": {
        "id": "XUQoZ9ReL3_-"
      },
      "execution_count": null,
      "outputs": []
    },
    {
      "cell_type": "code",
      "source": [
        "print()\n",
        "print()\n",
        "print()\n",
        "print()"
      ],
      "metadata": {
        "id": "TWyax5wnL3_-"
      },
      "execution_count": null,
      "outputs": []
    },
    {
      "cell_type": "markdown",
      "source": [
        "## Reto 588:"
      ],
      "metadata": {
        "id": "zBie26x6L4Gr"
      }
    },
    {
      "cell_type": "code",
      "source": [
        "# Método 1\n",
        "def :\n",
        "    pass"
      ],
      "metadata": {
        "id": "buUbN8SwL4Gr"
      },
      "execution_count": null,
      "outputs": []
    },
    {
      "cell_type": "code",
      "source": [
        "print()\n",
        "print()\n",
        "print()\n",
        "print()"
      ],
      "metadata": {
        "id": "r6qt-50EL4Gr"
      },
      "execution_count": null,
      "outputs": []
    },
    {
      "cell_type": "markdown",
      "source": [
        "## Reto 589:"
      ],
      "metadata": {
        "id": "u3S8YwmWL4Ns"
      }
    },
    {
      "cell_type": "code",
      "source": [
        "# Método 1\n",
        "def :\n",
        "    pass"
      ],
      "metadata": {
        "id": "kjHpn_3rL4Ns"
      },
      "execution_count": null,
      "outputs": []
    },
    {
      "cell_type": "code",
      "source": [
        "print()\n",
        "print()\n",
        "print()\n",
        "print()"
      ],
      "metadata": {
        "id": "lBLE97MwL4Ns"
      },
      "execution_count": null,
      "outputs": []
    },
    {
      "cell_type": "markdown",
      "source": [
        "## Reto 590:"
      ],
      "metadata": {
        "id": "c_paq_i4L4Uv"
      }
    },
    {
      "cell_type": "code",
      "source": [
        "# Método 1\n",
        "def :\n",
        "    pass"
      ],
      "metadata": {
        "id": "5eBRqnbEL4Uv"
      },
      "execution_count": null,
      "outputs": []
    },
    {
      "cell_type": "code",
      "source": [
        "print()\n",
        "print()\n",
        "print()\n",
        "print()"
      ],
      "metadata": {
        "id": "rUuQg2ZIL4Uv"
      },
      "execution_count": null,
      "outputs": []
    },
    {
      "cell_type": "markdown",
      "source": [
        "## Reto 591:"
      ],
      "metadata": {
        "id": "3w2wTJmWMJ-E"
      }
    },
    {
      "cell_type": "code",
      "source": [
        "# Método 1\n",
        "def :\n",
        "    pass"
      ],
      "metadata": {
        "id": "ajHrz-XxMJ-E"
      },
      "execution_count": null,
      "outputs": []
    },
    {
      "cell_type": "code",
      "source": [
        "print()\n",
        "print()\n",
        "print()\n",
        "print()"
      ],
      "metadata": {
        "id": "4RR98pcWMJ-E"
      },
      "execution_count": null,
      "outputs": []
    },
    {
      "cell_type": "markdown",
      "source": [
        "## Reto 592:"
      ],
      "metadata": {
        "id": "CtVXEJ_GMKEv"
      }
    },
    {
      "cell_type": "code",
      "source": [
        "# Método 1\n",
        "def :\n",
        "    pass"
      ],
      "metadata": {
        "id": "SV1DE57fMKEv"
      },
      "execution_count": null,
      "outputs": []
    },
    {
      "cell_type": "code",
      "source": [
        "print()\n",
        "print()\n",
        "print()\n",
        "print()"
      ],
      "metadata": {
        "id": "EbIacckFMKEv"
      },
      "execution_count": null,
      "outputs": []
    },
    {
      "cell_type": "markdown",
      "source": [
        "## Reto 593:"
      ],
      "metadata": {
        "id": "VZGtZ8s_MKK_"
      }
    },
    {
      "cell_type": "code",
      "source": [
        "# Método 1\n",
        "def :\n",
        "    pass"
      ],
      "metadata": {
        "id": "02-FMX0hMKLA"
      },
      "execution_count": null,
      "outputs": []
    },
    {
      "cell_type": "code",
      "source": [
        "print()\n",
        "print()\n",
        "print()\n",
        "print()"
      ],
      "metadata": {
        "id": "8S33i01kMKLA"
      },
      "execution_count": null,
      "outputs": []
    },
    {
      "cell_type": "markdown",
      "source": [
        "## Reto 594:"
      ],
      "metadata": {
        "id": "zNLzygsBMKRW"
      }
    },
    {
      "cell_type": "code",
      "source": [
        "# Método 1\n",
        "def :\n",
        "    pass"
      ],
      "metadata": {
        "id": "KeoLE6LyMKRW"
      },
      "execution_count": null,
      "outputs": []
    },
    {
      "cell_type": "code",
      "source": [
        "print()\n",
        "print()\n",
        "print()\n",
        "print()"
      ],
      "metadata": {
        "id": "M-f3lc_BMKRW"
      },
      "execution_count": null,
      "outputs": []
    },
    {
      "cell_type": "markdown",
      "source": [
        "## Reto 595:"
      ],
      "metadata": {
        "id": "IdhnocJpMKYC"
      }
    },
    {
      "cell_type": "code",
      "source": [
        "# Método 1\n",
        "def :\n",
        "    pass"
      ],
      "metadata": {
        "id": "LiajNLNhMKYC"
      },
      "execution_count": null,
      "outputs": []
    },
    {
      "cell_type": "code",
      "source": [
        "print()\n",
        "print()\n",
        "print()\n",
        "print()"
      ],
      "metadata": {
        "id": "d1yzMQbOMKYD"
      },
      "execution_count": null,
      "outputs": []
    },
    {
      "cell_type": "markdown",
      "source": [
        "## Reto 596:"
      ],
      "metadata": {
        "id": "M3Dg-qw6MKe2"
      }
    },
    {
      "cell_type": "code",
      "source": [
        "# Método 1\n",
        "def :\n",
        "    pass"
      ],
      "metadata": {
        "id": "h-QbzJJ1MKe2"
      },
      "execution_count": null,
      "outputs": []
    },
    {
      "cell_type": "code",
      "source": [
        "print()\n",
        "print()\n",
        "print()\n",
        "print()"
      ],
      "metadata": {
        "id": "oXwQiGaaMKe2"
      },
      "execution_count": null,
      "outputs": []
    },
    {
      "cell_type": "markdown",
      "source": [
        "## Reto 597:"
      ],
      "metadata": {
        "id": "Eiezcer_MKlv"
      }
    },
    {
      "cell_type": "code",
      "source": [
        "# Método 1\n",
        "def :\n",
        "    pass"
      ],
      "metadata": {
        "id": "3AhSpAG-MKlv"
      },
      "execution_count": null,
      "outputs": []
    },
    {
      "cell_type": "code",
      "source": [
        "print()\n",
        "print()\n",
        "print()\n",
        "print()"
      ],
      "metadata": {
        "id": "aBWYbZrZMKlv"
      },
      "execution_count": null,
      "outputs": []
    },
    {
      "cell_type": "markdown",
      "source": [
        "## Reto 598:"
      ],
      "metadata": {
        "id": "bkTxYt81MKsy"
      }
    },
    {
      "cell_type": "code",
      "source": [
        "# Método 1\n",
        "def :\n",
        "    pass"
      ],
      "metadata": {
        "id": "tA22AXAFMKsy"
      },
      "execution_count": null,
      "outputs": []
    },
    {
      "cell_type": "code",
      "source": [
        "print()\n",
        "print()\n",
        "print()\n",
        "print()"
      ],
      "metadata": {
        "id": "UVGu2kGHMKsy"
      },
      "execution_count": null,
      "outputs": []
    },
    {
      "cell_type": "markdown",
      "source": [
        "## Reto 599:"
      ],
      "metadata": {
        "id": "vVMdctYWMK0i"
      }
    },
    {
      "cell_type": "code",
      "source": [
        "# Método 1\n",
        "def :\n",
        "    pass"
      ],
      "metadata": {
        "id": "NsbwxY5KMK0i"
      },
      "execution_count": null,
      "outputs": []
    },
    {
      "cell_type": "code",
      "source": [
        "print()\n",
        "print()\n",
        "print()\n",
        "print()"
      ],
      "metadata": {
        "id": "-3OWKd6mMK0i"
      },
      "execution_count": null,
      "outputs": []
    },
    {
      "cell_type": "markdown",
      "source": [
        "## Reto 600:"
      ],
      "metadata": {
        "id": "z6Jwjp2UMK7L"
      }
    },
    {
      "cell_type": "code",
      "source": [
        "# Método 1\n",
        "def :\n",
        "    pass"
      ],
      "metadata": {
        "id": "6vtarPksMK7L"
      },
      "execution_count": null,
      "outputs": []
    },
    {
      "cell_type": "code",
      "source": [
        "print()\n",
        "print()\n",
        "print()\n",
        "print()"
      ],
      "metadata": {
        "id": "jk_KKqnbMK7L"
      },
      "execution_count": null,
      "outputs": []
    }
  ]
}