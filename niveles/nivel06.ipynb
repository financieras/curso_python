{
  "nbformat": 4,
  "nbformat_minor": 0,
  "metadata": {
    "colab": {
      "provenance": [],
      "authorship_tag": "ABX9TyMuxAduZocKWaa5Kd4ZcDwE",
      "include_colab_link": true
    },
    "kernelspec": {
      "name": "python3",
      "display_name": "Python 3"
    },
    "language_info": {
      "name": "python"
    }
  },
  "cells": [
    {
      "cell_type": "markdown",
      "metadata": {
        "id": "view-in-github",
        "colab_type": "text"
      },
      "source": [
        "<a href=\"https://colab.research.google.com/github/financieras/curso_python/blob/main/niveles/nivel06.ipynb\" target=\"_parent\"><img src=\"https://colab.research.google.com/assets/colab-badge.svg\" alt=\"Open In Colab\"/></a>"
      ]
    },
    {
      "cell_type": "markdown",
      "source": [
        "## Reto 501: Enfatizar las Palabras\n",
        "* Emphasise the Words\n",
        "* El desafío es recrear la funcionalidad del método `title()` en una función llamada `emphasise()`.\n",
        "* El método `title()` capitaliza la primera letra de *cada palabra* y convierte a minúsculas todas las demás letras de la palabra.\n",
        "* Ejemplos\n",
        "\n",
        "```\n",
        "emphasise(\"hello world\") ➞ \"Hello World\"\n",
        "emphasise(\"GOOD MORNING\") ➞ \"Good Morning\"\n",
        "emphasise(\"99 red balloons!\") ➞ \"99 Red Balloons!\"\n",
        "```\n",
        "\n",
        "* Notas\n",
        "    - No tendrás problemas al tratar con números en las cadenas.\n",
        "    - Por favor, no uses directamente el método `title()` :("
      ],
      "metadata": {
        "id": "IdwmiHhpglrt"
      }
    },
    {
      "cell_type": "code",
      "source": [
        "# Método 1\n",
        "def emphasise(string):\n",
        "    return ' '.join(word.capitalize() for word in string.split())\n",
        "\n",
        "# Método 2\n",
        "def emphasise(string):\n",
        "    return ' '.join(word[0].upper() + word[1:].lower() for word in string.split())\n",
        "\n",
        "# Método 3. Usando una expresión regular\n",
        "import re\n",
        "\n",
        "def emphasise(string):\n",
        "    return re.sub(r'\\b\\w+\\b', lambda match: match.group(0).capitalize(), string)"
      ],
      "metadata": {
        "id": "CaebWUsKffq2"
      },
      "execution_count": null,
      "outputs": []
    },
    {
      "cell_type": "code",
      "source": [
        "print(emphasise(\"hello world\"))         # Hello World\n",
        "print(emphasise(\"GOOD MORNING\"))        # Good Morning\n",
        "print(emphasise(\"99 red balloons!\"))    # 99 Red Balloons!"
      ],
      "metadata": {
        "outputId": "d8928274-4264-465b-ad82-9d7f0ce002c9",
        "colab": {
          "base_uri": "https://localhost:8080/"
        },
        "id": "hWbDZ9H9glrv"
      },
      "execution_count": null,
      "outputs": [
        {
          "output_type": "stream",
          "name": "stdout",
          "text": [
            "Hello World\n",
            "Good Morning\n",
            "99 Red Balloons!\n"
          ]
        }
      ]
    },
    {
      "cell_type": "markdown",
      "source": [
        "## Reto 502: Camino del Robot 🤖\n",
        "* Robot Path 🤖\n",
        "* Tenemos un robot simple que se navega mediante una serie de comandos Norte, Este, Sur y Oeste `[n, e, s, w]`.\n",
        "* Cada comando mueve al robot un paso en la dirección dada.\n",
        "* El robot está diseñado para solo dos destinos:\n",
        "    1. Destino No. 1: e, n, e, e, n\n",
        "    2. Destino No. 2: w, n, w, n, w, w, n\n",
        "\n",
        "* Crea una función que tome una lista de `comandos` y devuelva `True` si el robot llega a cualquiera de los destinos, `False` en caso contrario.\n",
        "\n",
        "* Ejemplos:\n",
        "\n",
        "```\n",
        "camino_robot([\"s\", \"e\", \"e\", \"n\", \"n\", \"e\", \"n\"]) ➞ True\n",
        "    - El robot terminará en el destino no. 1\n",
        "\n",
        "camino_robot([\"n\", \"e\", \"s\", \"w\", \"n\", \"e\", \"s\", \"w\", \"w\", \"s\", \"n\", \"e\"]) ➞ False\n",
        "    - El robot se perderá en algún lugar\n",
        "\n",
        "camino_robot([\"n\", \"s\", \"n\", \"n\", \"e\", \"n\", \"w\", \"w\", \"s\", \"w\", \"w\", \"w\", \"n\"]) ➞ True\n",
        "    - - El robot terminará en el destino no. 2\n",
        "```"
      ],
      "metadata": {
        "id": "E4jfdGPCglrv"
      }
    },
    {
      "cell_type": "code",
      "source": [
        "# Método 1\n",
        "def camino_robot(comandos):\n",
        "    # Definimos los puntos finales de los destinos\n",
        "    destino1 = (3, 2)  # e, n, e, e, n\n",
        "    destino2 = (-4, 3)  # w, n, w, n, w, w, n\n",
        "\n",
        "    # Inicializamos la posición del robot\n",
        "    x, y = 0, 0\n",
        "\n",
        "    # Procesamos cada comando\n",
        "    for comando in comandos:\n",
        "        if comando == \"n\":\n",
        "            y += 1\n",
        "        elif comando == \"s\":\n",
        "            y -= 1\n",
        "        elif comando == \"e\":\n",
        "            x += 1\n",
        "        elif comando == \"w\":\n",
        "            x -= 1\n",
        "\n",
        "        # Verificamos si el robot ha llegado a alguno de los destinos finales\n",
        "        if (x, y) == destino1 or (x, y) == destino2:\n",
        "            return True\n",
        "\n",
        "    # Si el robot no llegó a ningún destino final, devolvemos False\n",
        "    return False\n",
        "\n",
        "# Método 2. Usando dos funciones\n",
        "def obtener_destino(comandos):  # función auxiliar\n",
        "    x, y = 0, 0\n",
        "    for comando in comandos:\n",
        "        if comando == \"n\":\n",
        "            y += 1\n",
        "        elif comando == \"s\":\n",
        "            y -= 1\n",
        "        elif comando == \"e\":\n",
        "            x += 1\n",
        "        elif comando == \"w\":\n",
        "            x -= 1\n",
        "    return (x, y)               # Da la posición incluso de los destinos 1 y 2\n",
        "\n",
        "def camino_robot(comandos):\n",
        "    # Definimos los comandos para los destinos\n",
        "    destino1 = [\"e\", \"n\", \"e\", \"e\", \"n\"]\n",
        "    destino2 = [\"w\", \"n\", \"w\", \"n\", \"w\", \"w\", \"n\"]\n",
        "\n",
        "    # Obtenemos los destinos finales\n",
        "    posicion_destino1 = obtener_destino(destino1)   # llamamos a la función aux.\n",
        "    posicion_destino2 = obtener_destino(destino2)   # llamamos a la función aux.\n",
        "\n",
        "    # Obtenemos el destino final de los comandos dados\n",
        "    posicion_comandos = obtener_destino(comandos)   # llamamos a la función aux.\n",
        "\n",
        "    # Comparamos si el destino final de los comandos coincide con alguno de los destinos\n",
        "    return posicion_comandos == posicion_destino1 or posicion_comandos == posicion_destino2\n",
        "\n",
        "# Método 3. Una solución más condensada\n",
        "def camino_robot(comandos):\n",
        "    def destino(ruta):\n",
        "        return sum((1 if c == 'e' else -1 if c == 'w' else 0 for c in ruta)), \\\n",
        "               sum((1 if c == 'n' else -1 if c == 's' else 0 for c in ruta))\n",
        "\n",
        "    destinos = [destino(\"eneen\"), destino(\"wnwnwwn\")]\n",
        "    return destino(comandos) in destinos\n",
        "\n",
        "# Método 4. Con una función axiliar lambda que calcula la posición final\n",
        "def camino_robot(path):\n",
        "    destino = lambda ruta: (ruta.count('e') - ruta.count('w'), ruta.count('n') - ruta.count('s'))\n",
        "    return destino(path) in [destino(\"eneen\"), destino(\"wnwnwwn\")]"
      ],
      "metadata": {
        "id": "M2N7YVuIfY1q"
      },
      "execution_count": null,
      "outputs": []
    },
    {
      "cell_type": "code",
      "source": [
        "print(camino_robot([\"s\", \"e\", \"e\", \"n\", \"n\", \"e\", \"n\"]))                                # True\n",
        "print(camino_robot([\"n\", \"e\", \"s\", \"w\", \"n\", \"e\", \"s\", \"w\", \"w\", \"s\", \"n\", \"e\"]))       # False\n",
        "print(camino_robot([\"n\", \"s\", \"n\", \"n\", \"e\", \"n\", \"w\", \"w\", \"s\", \"w\", \"w\", \"w\", \"n\"]))  # True"
      ],
      "metadata": {
        "colab": {
          "base_uri": "https://localhost:8080/"
        },
        "outputId": "b1d0a32e-b7e7-4295-ba82-169e9b7537e2",
        "id": "CRPja6c4glrv"
      },
      "execution_count": null,
      "outputs": [
        {
          "output_type": "stream",
          "name": "stdout",
          "text": [
            "True\n",
            "False\n",
            "True\n"
          ]
        }
      ]
    },
    {
      "cell_type": "markdown",
      "source": [
        "## Reto 503: Mucho, mucho tiempo\n",
        "* A Long Long Time\n",
        "* Crea una función que tome tres valores:\n",
        "    1. `h` horas\n",
        "    2. `m` minutos\n",
        "    3. `s` segundos\n",
        "Devuelve el valor que tenga la **duración más larga**.\n",
        "* Ejemplos:\n",
        "\n",
        "```\n",
        "longest_time(1, 59, 3598) ➞ 1\n",
        "longest_time(2, 300, 15000) ➞ 300\n",
        "longest_time(15, 955, 59400) ➞ 59400\n",
        "```\n",
        "\n",
        "* Notas:\n",
        "    - No habrá dos duraciones iguales."
      ],
      "metadata": {
        "id": "TyyfNCnzglrv"
      }
    },
    {
      "cell_type": "code",
      "source": [
        "# Método 1\n",
        "def longest_time(h, m, s):\n",
        "    if h*3600 > m*60 and h*3600 > s:\n",
        "        return h\n",
        "    elif m*60 > h*3600 and m*60 > s:\n",
        "        return m\n",
        "    elif s > h*3600 and s > m*60:\n",
        "        return s\n",
        "    else:\n",
        "        return \"Caso no previsto\"\n",
        "\n",
        "# Método 2\n",
        "def longest_time(h, m, s):\n",
        "    # Lista de duraciones en segundos y sus valores originales\n",
        "    durations = [(h * 3600, h), (m * 60, m), (s, s)]\n",
        "    # Devolver el valor original de la mayor duración en segundos\n",
        "    return max(durations)[1]\n",
        "    # el máximo de una lista de tuplas es el que tiene el mayor valor del primer elemento de las tuplas\n",
        "    # en caso de empatar en el primer elemento de las tuplas se desempata por el segundo y así sucesivamente"
      ],
      "metadata": {
        "id": "3L69P8OqyFzv"
      },
      "execution_count": null,
      "outputs": []
    },
    {
      "cell_type": "code",
      "source": [
        "print(longest_time(1, 59, 3598))\n",
        "print(longest_time(2, 300, 15000))\n",
        "print(longest_time(15, 955, 59400))"
      ],
      "metadata": {
        "colab": {
          "base_uri": "https://localhost:8080/"
        },
        "outputId": "10d8fa71-c98d-4f88-e3a5-8edbd639296f",
        "id": "plvIvb2qglrw"
      },
      "execution_count": null,
      "outputs": [
        {
          "output_type": "stream",
          "name": "stdout",
          "text": [
            "1\n",
            "300\n",
            "59400\n"
          ]
        }
      ]
    },
    {
      "cell_type": "markdown",
      "source": [
        "## Reto 504: Multiplicador de Lista\n",
        "* List Multiplier\n",
        "* Crea una función que tome una lista como argumento y devuelva una nueva lista anidada para cada elemento en la lista original.\n",
        "* La lista anidada debe estar llena con el elemento correspondiente (cadena o número) en la lista original y cada lista anidada tiene la misma cantidad de elementos que la lista original.\n",
        "* Ejemplos:\n",
        "```\n",
        "multiply([4, 5]) ➞ [[4, 4], [5, 5]]\n",
        "multiply([\"*\", \"%\", \"$\"]) ➞ [[\"*\", \"*\", \"*\"], [\"%\", \"%\", \"%\"], [\"$\", \"$\", \"$\"]]\n",
        "multiply([9, 8, 7, 6]) ➞ [[9, 9, 9, 9], [8, 8, 8, 8], [7, 7, 7, 7], [6, 6, 6, 6]]\n",
        "```\n",
        "* Nota:\n",
        "    - La lista dada contiene números o cadenas."
      ],
      "metadata": {
        "id": "nxs9UpUxJOIh"
      }
    },
    {
      "cell_type": "code",
      "source": [
        "def multiply(lista):\n",
        "    return [[e] * len(lista) for e in lista]"
      ],
      "metadata": {
        "id": "d3qkcCz0JOIh"
      },
      "execution_count": null,
      "outputs": []
    },
    {
      "cell_type": "code",
      "source": [
        "print(multiply([4, 5]))\n",
        "print(multiply([\"*\", \"%\", \"$\"]))\n",
        "print(multiply([9, 8, 7, 6]))"
      ],
      "metadata": {
        "id": "9V925k8DJOIh",
        "colab": {
          "base_uri": "https://localhost:8080/"
        },
        "outputId": "e225d2a9-c97d-4400-cc4d-06d2e2be5543"
      },
      "execution_count": null,
      "outputs": [
        {
          "output_type": "stream",
          "name": "stdout",
          "text": [
            "[[4, 4], [5, 5]]\n",
            "[['*', '*', '*'], ['%', '%', '%'], ['$', '$', '$']]\n",
            "[[9, 9, 9, 9], [8, 8, 8, 8], [7, 7, 7, 7], [6, 6, 6, 6]]\n"
          ]
        }
      ]
    },
    {
      "cell_type": "markdown",
      "source": [
        "## Reto 505: Contando Instancias Creadas a partir de una Clase\n",
        "* Counting Instances Created from a Class\n",
        "* Escribe una clase `Compositor` que tenga tres variables de instancia:\n",
        "    1. nombre\n",
        "    2. fecha_nacimiento\n",
        "    3. país\n",
        "\n",
        "* Añade una variable de clase adicional `.contador` que cuente el número total de instancias creadas.\n",
        "* Ejemplos:\n",
        "```\n",
        "    - Justo después de escribir la clase Compositor\n",
        "Compositor.contador ➞ 0\n",
        "c1 = Compositor(\"Ludwig van Beethoven\", 1770, \"Alemania\")\n",
        "Compositor.contador ➞ 1\n",
        "c2 = Compositor(\"Wolfgang Amadeus Mozart\", 1756, \"Austria\")\n",
        "c3 = Compositor(\"Johannes Brahms\", 1833, \"Alemania\")\n",
        "Compositor.contador ➞ 3\n",
        "```\n"
      ],
      "metadata": {
        "id": "BCiJB5lAJOPj"
      }
    },
    {
      "cell_type": "code",
      "source": [
        "class Compositor:\n",
        "    contador = 0    # Atributo de clase\n",
        "\n",
        "    def __init__(self, nombre, fecha_nacimiento, pais):\n",
        "        self.nombre = nombre                        # Atributo de instancia\n",
        "        self.fecha_nacimiento = fecha_nacimiento    # Atributo de instancia\n",
        "        self.pais = pais                            # Atributo de instancia\n",
        "        Compositor.contador += 1"
      ],
      "metadata": {
        "id": "i2bofIVIJOPj"
      },
      "execution_count": 2,
      "outputs": []
    },
    {
      "cell_type": "code",
      "source": [
        "# Justo después de definir la clase Compositor\n",
        "print(Compositor.contador)  # 0\n",
        "\n",
        "c1 = Compositor(\"Ludwig van Beethoven\", 1770, \"Alemania\")\n",
        "print(Compositor.contador)  # 1\n",
        "\n",
        "c2 = Compositor(\"Wolfgang Amadeus Mozart\", 1756, \"Austria\")\n",
        "c3 = Compositor(\"Johannes Brahms\", 1833, \"Alemania\")\n",
        "print(Compositor.contador)  # 3"
      ],
      "metadata": {
        "id": "HZMXrQn6JOPj",
        "colab": {
          "base_uri": "https://localhost:8080/"
        },
        "outputId": "a7926c8a-32de-4b24-ce79-88c1b7984d97"
      },
      "execution_count": 3,
      "outputs": [
        {
          "output_type": "stream",
          "name": "stdout",
          "text": [
            "0\n",
            "1\n",
            "3\n"
          ]
        }
      ]
    },
    {
      "cell_type": "markdown",
      "source": [
        "### Comentario sobre atributos de clase y atributos de instancia\n",
        "* La variable contador es un atributo de clase.\n",
        "* Diferencias entre atributos de clase y atributos de instancia:\n",
        "\n",
        "* Atributos de clase:\n",
        "    1. Se definen dentro de la clase pero fuera de cualquier método.\n",
        "    2. on compartidos por todas las instancias de la clase.\n",
        "    3. Se pueden acceder usando el nombre de la clase o cualquier instancia de la clase.\n",
        "    4. Se utilizan para datos que deben ser compartidos entre todas las instancias.\n",
        "* Atributos de instancia:\n",
        "    1. Se definen dentro de los métodos de la clase, típicamente en el método __init__.\n",
        "    2. Son únicos para cada instancia de la clase.\n",
        "    3. Solo se pueden acceder a través de una instancia específica de la clase.\n",
        "    4. Se utilizan para datos que son específicos de cada instancia individual.\n",
        "\n",
        "* `contador` es un atributo de clase porque es compartido por todas las instancias y se accede como `Compositor.contador`.\n",
        "* `nombre`, `fecha_nacimiento`, y `pais` son atributos de instancia porque cada instancia de Compositor tiene sus propios valores únicos para estos atributos.\n",
        "\n",
        "* Algunas diferencias clave:\n",
        "\n",
        "    1. Memoria: Los atributos de clase ocupan un solo espacio en memoria, mientras que cada instancia tiene su propia copia de los atributos de instancia.\n",
        "    2. Modificación: Cambiar un atributo de clase afecta a todas las instancias, mientras que cambiar un atributo de instancia solo afecta a esa instancia específica.\n",
        "    3. Acceso: Los atributos de clase se pueden acceder sin crear una instancia, mientras que los atributos de instancia requieren una instancia de la clase.\n",
        "    4. Uso: Los atributos de clase son útiles para constantes de clase o para llevar un registro compartido (como nuestro `contador`), mientras que los atributos de instancia son para datos específicos de cada objeto."
      ],
      "metadata": {
        "id": "cDL10piI0Lfu"
      }
    },
    {
      "cell_type": "markdown",
      "source": [
        "## Reto 506: División Válida\n",
        "* Valid Division\n",
        "* Crea una función que tome una ecuación de división `d` y verifique si devolverá un número entero sin decimales después de dividir.\n",
        "* Ejemplos:\n",
        "```\n",
        "valid_division(\"6/3\")        ➞ True\n",
        "valid_division(\"1.5/0.5\")    ➞ True\n",
        "valid_division(\"0/3\")        ➞ True\n",
        "valid_division(\"3/0\")        ➞ Invalid\n",
        "valid_division(\"30/25\")      ➞ False\n",
        "valid_division(\"a/b\")        ➞ Caso no contemplado\n",
        "```\n",
        "* Nota:\n",
        "    - Devuelve `\"Invalid\"` si hay división por cero."
      ],
      "metadata": {
        "id": "zUp9tcI5JOWV"
      }
    },
    {
      "cell_type": "code",
      "source": [
        "# Método 1\n",
        "def valid_division(d):\n",
        "    try:\n",
        "        lista = d.split(\"/\")\n",
        "        if len(lista) != 2:\n",
        "            return \"Caso no contemplado\"\n",
        "\n",
        "        p = float(lista[0])  # numerador\n",
        "        q = float(lista[1])  # denominador\n",
        "\n",
        "        if q == 0:\n",
        "            return \"Invalid\"\n",
        "\n",
        "        if p / q == int(p / q):\n",
        "            return True\n",
        "        else:\n",
        "            return False\n",
        "    except ValueError:\n",
        "        return \"Caso no contemplado\"\n",
        "\n",
        "# Método 2\n",
        "def valid_division(d):\n",
        "    try:\n",
        "        # Separar el numerador y denominador\n",
        "        numerador, denominador = map(float, d.split('/'))\n",
        "\n",
        "        # Verificar división por cero\n",
        "        if denominador == 0:\n",
        "            return \"Invalid\"\n",
        "\n",
        "        # Realizar la división\n",
        "        resultado = numerador / denominador\n",
        "\n",
        "        # Verificar si el resultado es efectivamente un número entero\n",
        "        return resultado.is_integer()\n",
        "\n",
        "    except ValueError:\n",
        "        # En caso de entrada inválida\n",
        "        return \"Caso no contemplado\"\n",
        "\n",
        "# Método 3\n",
        "def valid_division(d):\n",
        "    try:\n",
        "        num, den = map(float, d.split('/'))\n",
        "        if den == 0:\n",
        "            return \"Invalid\"\n",
        "        result = num / den\n",
        "        return result.is_integer()\n",
        "    except ValueError:\n",
        "        return \"Caso no contemplado\"\n",
        "\n",
        "# Método 4\n",
        "def valid_division(d):\n",
        "    try:\n",
        "        result = eval(d)\n",
        "        return result.is_integer()\n",
        "    except ZeroDivisionError:\n",
        "        return \"Invalid\"\n",
        "    except (ValueError, NameError, SyntaxError):\n",
        "        return \"Caso no contemplado\"\n"
      ],
      "metadata": {
        "id": "ajCazVdlJOWV"
      },
      "execution_count": 71,
      "outputs": []
    },
    {
      "cell_type": "code",
      "source": [
        "print(valid_division(\"6/3\"))        # True\n",
        "print(valid_division(\"1.5/0.5\"))    # True\n",
        "print(valid_division(\"0/3\"))        # True\n",
        "print(valid_division(\"3/0\"))        # Invalid\n",
        "print(valid_division(\"30/25\"))      # False\n",
        "print(valid_division(\"a/b\"))        # Caso no contemplado"
      ],
      "metadata": {
        "id": "pf6VXg-6JOWV",
        "colab": {
          "base_uri": "https://localhost:8080/"
        },
        "outputId": "ff4f0d3f-16dd-46c3-f6b1-bf41d23acd93"
      },
      "execution_count": 72,
      "outputs": [
        {
          "output_type": "stream",
          "name": "stdout",
          "text": [
            "True\n",
            "True\n",
            "True\n",
            "Invalid\n",
            "False\n",
            "Caso no contemplado\n"
          ]
        }
      ]
    },
    {
      "cell_type": "markdown",
      "source": [
        "## Reto 507: Lávese las manos\n",
        "* Wash Your Hands :)\n",
        "* Se necesitan 21 segundos para lavarse las manos.\n",
        "* Cree una función que tome la cantidad de veces que una persona se lava las manos por día `n` y la cantidad de meses que sigue esta rutina `m` y calcule el tiempo en minutos y segundos que esa persona pasa lavándose las manos.\n",
        "* Ejemplos:\n",
        "```\n",
        "wash_hands(8, 7) ➞ \"588 minutes and 0 seconds\"\n",
        "wash_hands(0, 0) ➞ \"0 minutes and 0 seconds\"\n",
        "wash_hands(7, 9) ➞ \"661 minutes and 30 seconds\"\n",
        "```\n",
        "* Nota:\n",
        "    - Considere que un mes tiene 30 días."
      ],
      "metadata": {
        "id": "oMtHyBHmJOdt"
      }
    },
    {
      "cell_type": "code",
      "source": [
        "# Método 1\n",
        "def wash_hands(n, m):\n",
        "    s = n*21*m*30   # segundos\n",
        "    return f\"{s // 60} minutes and {s % 60} seconds\"\n",
        "\n",
        "# Método 2\n",
        "def wash_hands(n, m):\n",
        "    total_seconds = n * 21 * m * 30\n",
        "    minutes, seconds = divmod(total_seconds, 60)\n",
        "    return f\"{minutes} minutes and {seconds} seconds\""
      ],
      "metadata": {
        "id": "G99sWim1JOdt"
      },
      "execution_count": 81,
      "outputs": []
    },
    {
      "cell_type": "code",
      "source": [
        "print(wash_hands(8, 7))     # 588 minutes and 0 seconds\n",
        "print(wash_hands(0, 0))     # 0 minutes and 0 seconds\n",
        "print(wash_hands(7, 9))     # 661 minutes and 30 seconds"
      ],
      "metadata": {
        "id": "59MTFDAXJOdt",
        "colab": {
          "base_uri": "https://localhost:8080/"
        },
        "outputId": "60062754-f550-4a60-cf8f-152a413f8886"
      },
      "execution_count": 82,
      "outputs": [
        {
          "output_type": "stream",
          "name": "stdout",
          "text": [
            "588 minutes and 0 seconds\n",
            "0 minutes and 0 seconds\n",
            "661 minutes and 30 seconds\n"
          ]
        }
      ]
    },
    {
      "cell_type": "markdown",
      "source": [
        "## Reto 508: Transcribe to mRNA"
      ],
      "metadata": {
        "id": "qetlzAkIJOlC"
      }
    },
    {
      "cell_type": "code",
      "source": [
        "# Método 1\n",
        "def :\n",
        "    pass"
      ],
      "metadata": {
        "id": "SH3YyLc9JOlD"
      },
      "execution_count": null,
      "outputs": []
    },
    {
      "cell_type": "code",
      "source": [
        "print()\n",
        "print()\n",
        "print()\n",
        "print()"
      ],
      "metadata": {
        "id": "co4VzDbPJOlD"
      },
      "execution_count": null,
      "outputs": []
    },
    {
      "cell_type": "markdown",
      "source": [
        "## Reto 509: Concatenate Variable Number of Input Lists"
      ],
      "metadata": {
        "id": "X9aSGCSiJOsc"
      }
    },
    {
      "cell_type": "code",
      "source": [
        "# Método 1\n",
        "def :\n",
        "    pass"
      ],
      "metadata": {
        "id": "lc9N5sDrJOsc"
      },
      "execution_count": null,
      "outputs": []
    },
    {
      "cell_type": "code",
      "source": [
        "print()\n",
        "print()\n",
        "print()\n",
        "print()"
      ],
      "metadata": {
        "id": "hs94gqG-JOsc"
      },
      "execution_count": null,
      "outputs": []
    },
    {
      "cell_type": "markdown",
      "source": [
        "## Reto 510: Stalactites or Stalagmites?"
      ],
      "metadata": {
        "id": "TLGNJaT5JO0k"
      }
    },
    {
      "cell_type": "code",
      "source": [
        "# Método 1\n",
        "def :\n",
        "    pass"
      ],
      "metadata": {
        "id": "KIxuH6oLJO0k"
      },
      "execution_count": null,
      "outputs": []
    },
    {
      "cell_type": "code",
      "source": [
        "print()\n",
        "print()\n",
        "print()\n",
        "print()"
      ],
      "metadata": {
        "id": "J0ScKxGjJO0k"
      },
      "execution_count": null,
      "outputs": []
    },
    {
      "cell_type": "markdown",
      "source": [
        "## Reto 511: Father and Son Ages"
      ],
      "metadata": {
        "id": "4dR6GX4GJiBU"
      }
    },
    {
      "cell_type": "code",
      "source": [
        "# Método 1\n",
        "def :\n",
        "    pass"
      ],
      "metadata": {
        "id": "pOPSYc5tJiBU"
      },
      "execution_count": null,
      "outputs": []
    },
    {
      "cell_type": "code",
      "source": [
        "print()\n",
        "print()\n",
        "print()\n",
        "print()"
      ],
      "metadata": {
        "id": "2xOS8D2WJiBU"
      },
      "execution_count": null,
      "outputs": []
    },
    {
      "cell_type": "markdown",
      "source": [
        "## Reto 512: Format IX: Unpacking Lists\n"
      ],
      "metadata": {
        "id": "X4vxbYsuJiJb"
      }
    },
    {
      "cell_type": "code",
      "source": [
        "# Método 1\n",
        "def :\n",
        "    pass"
      ],
      "metadata": {
        "id": "IAyE-y9hJiJb"
      },
      "execution_count": null,
      "outputs": []
    },
    {
      "cell_type": "code",
      "source": [
        "print()\n",
        "print()\n",
        "print()\n",
        "print()"
      ],
      "metadata": {
        "id": "YK1L8pNhJiJb"
      },
      "execution_count": null,
      "outputs": []
    },
    {
      "cell_type": "markdown",
      "source": [
        "## Reto 513:"
      ],
      "metadata": {
        "id": "qixk6TO7JiQY"
      }
    },
    {
      "cell_type": "code",
      "source": [
        "# Método 1\n",
        "def :\n",
        "    pass"
      ],
      "metadata": {
        "id": "sXUw2d4OJiQY"
      },
      "execution_count": null,
      "outputs": []
    },
    {
      "cell_type": "code",
      "source": [
        "print()\n",
        "print()\n",
        "print()\n",
        "print()"
      ],
      "metadata": {
        "id": "Vw1jIBSaJiQY"
      },
      "execution_count": null,
      "outputs": []
    },
    {
      "cell_type": "markdown",
      "source": [
        "## Reto 514:"
      ],
      "metadata": {
        "id": "lrNNOlP-JiXa"
      }
    },
    {
      "cell_type": "code",
      "source": [
        "# Método 1\n",
        "def :\n",
        "    pass"
      ],
      "metadata": {
        "id": "VO3qvfbFJiXa"
      },
      "execution_count": null,
      "outputs": []
    },
    {
      "cell_type": "code",
      "source": [
        "print()\n",
        "print()\n",
        "print()\n",
        "print()"
      ],
      "metadata": {
        "id": "z78D6PDZJiXb"
      },
      "execution_count": null,
      "outputs": []
    },
    {
      "cell_type": "markdown",
      "source": [
        "## Reto 515:"
      ],
      "metadata": {
        "id": "ycO-Ex-YJidx"
      }
    },
    {
      "cell_type": "code",
      "source": [
        "# Método 1\n",
        "def :\n",
        "    pass"
      ],
      "metadata": {
        "id": "MRpSbTHNJidx"
      },
      "execution_count": null,
      "outputs": []
    },
    {
      "cell_type": "code",
      "source": [
        "print()\n",
        "print()\n",
        "print()\n",
        "print()"
      ],
      "metadata": {
        "id": "DFQylYc9Jidx"
      },
      "execution_count": null,
      "outputs": []
    },
    {
      "cell_type": "markdown",
      "source": [
        "## Reto 516:"
      ],
      "metadata": {
        "id": "ehhGeKWDJikh"
      }
    },
    {
      "cell_type": "code",
      "source": [
        "# Método 1\n",
        "def :\n",
        "    pass"
      ],
      "metadata": {
        "id": "OfPkm7hhJikh"
      },
      "execution_count": null,
      "outputs": []
    },
    {
      "cell_type": "code",
      "source": [
        "print()\n",
        "print()\n",
        "print()\n",
        "print()"
      ],
      "metadata": {
        "id": "HwIGf1QRJikh"
      },
      "execution_count": null,
      "outputs": []
    },
    {
      "cell_type": "markdown",
      "source": [
        "## Reto 517:"
      ],
      "metadata": {
        "id": "0GDmptduJire"
      }
    },
    {
      "cell_type": "code",
      "source": [
        "# Método 1\n",
        "def :\n",
        "    pass"
      ],
      "metadata": {
        "id": "rKvCpyIyJirf"
      },
      "execution_count": null,
      "outputs": []
    },
    {
      "cell_type": "code",
      "source": [
        "print()\n",
        "print()\n",
        "print()\n",
        "print()"
      ],
      "metadata": {
        "id": "6TTBafGzJirf"
      },
      "execution_count": null,
      "outputs": []
    },
    {
      "cell_type": "markdown",
      "source": [
        "## Reto 518:"
      ],
      "metadata": {
        "id": "OREc2pvsJizQ"
      }
    },
    {
      "cell_type": "code",
      "source": [
        "# Método 1\n",
        "def :\n",
        "    pass"
      ],
      "metadata": {
        "id": "ji6pXwB_JizQ"
      },
      "execution_count": null,
      "outputs": []
    },
    {
      "cell_type": "code",
      "source": [
        "print()\n",
        "print()\n",
        "print()\n",
        "print()"
      ],
      "metadata": {
        "id": "MandhIWDJizQ"
      },
      "execution_count": null,
      "outputs": []
    },
    {
      "cell_type": "markdown",
      "source": [
        "## Reto 519:"
      ],
      "metadata": {
        "id": "Oi9n-QcnJi6p"
      }
    },
    {
      "cell_type": "code",
      "source": [
        "# Método 1\n",
        "def :\n",
        "    pass"
      ],
      "metadata": {
        "id": "bCqNGG_CJi6p"
      },
      "execution_count": null,
      "outputs": []
    },
    {
      "cell_type": "code",
      "source": [
        "print()\n",
        "print()\n",
        "print()\n",
        "print()"
      ],
      "metadata": {
        "id": "cSYaASFsJi6p"
      },
      "execution_count": null,
      "outputs": []
    },
    {
      "cell_type": "markdown",
      "source": [
        "## Reto 520:"
      ],
      "metadata": {
        "id": "VqOAz1qjJjCA"
      }
    },
    {
      "cell_type": "code",
      "source": [
        "# Método 1\n",
        "def :\n",
        "    pass"
      ],
      "metadata": {
        "id": "BNAqtMkcJjCA"
      },
      "execution_count": null,
      "outputs": []
    },
    {
      "cell_type": "code",
      "source": [
        "print()\n",
        "print()\n",
        "print()\n",
        "print()"
      ],
      "metadata": {
        "id": "bJXQH_CLJjCB"
      },
      "execution_count": null,
      "outputs": []
    },
    {
      "cell_type": "markdown",
      "source": [
        "## Reto 521:"
      ],
      "metadata": {
        "id": "PNPUFnt8J3hD"
      }
    },
    {
      "cell_type": "code",
      "source": [
        "# Método 1\n",
        "def :\n",
        "    pass"
      ],
      "metadata": {
        "id": "Ti8YQt1xJ3hE"
      },
      "execution_count": null,
      "outputs": []
    },
    {
      "cell_type": "code",
      "source": [
        "print()\n",
        "print()\n",
        "print()\n",
        "print()"
      ],
      "metadata": {
        "id": "N__ZeOW6J3hE"
      },
      "execution_count": null,
      "outputs": []
    },
    {
      "cell_type": "markdown",
      "source": [
        "## Reto 522:"
      ],
      "metadata": {
        "id": "XWjJweTLJ38J"
      }
    },
    {
      "cell_type": "code",
      "source": [
        "# Método 1\n",
        "def :\n",
        "    pass"
      ],
      "metadata": {
        "id": "7QTbKucHJ38K"
      },
      "execution_count": null,
      "outputs": []
    },
    {
      "cell_type": "code",
      "source": [
        "print()\n",
        "print()\n",
        "print()\n",
        "print()"
      ],
      "metadata": {
        "id": "-er8xjzyJ38K"
      },
      "execution_count": null,
      "outputs": []
    },
    {
      "cell_type": "markdown",
      "source": [
        "## Reto 523:"
      ],
      "metadata": {
        "id": "cNH9ZpeOJ4DH"
      }
    },
    {
      "cell_type": "code",
      "source": [
        "# Método 1\n",
        "def :\n",
        "    pass"
      ],
      "metadata": {
        "id": "Y2rDnQu6J4DH"
      },
      "execution_count": null,
      "outputs": []
    },
    {
      "cell_type": "code",
      "source": [
        "print()\n",
        "print()\n",
        "print()\n",
        "print()"
      ],
      "metadata": {
        "id": "icsPyDetJ4DH"
      },
      "execution_count": null,
      "outputs": []
    },
    {
      "cell_type": "markdown",
      "source": [
        "## Reto 524:"
      ],
      "metadata": {
        "id": "T5RJifTGJ4KH"
      }
    },
    {
      "cell_type": "code",
      "source": [
        "# Método 1\n",
        "def :\n",
        "    pass"
      ],
      "metadata": {
        "id": "dH3WyMViJ4KH"
      },
      "execution_count": null,
      "outputs": []
    },
    {
      "cell_type": "code",
      "source": [
        "print()\n",
        "print()\n",
        "print()\n",
        "print()"
      ],
      "metadata": {
        "id": "gYM_q5FvJ4KH"
      },
      "execution_count": null,
      "outputs": []
    },
    {
      "cell_type": "markdown",
      "source": [
        "## Reto 525:"
      ],
      "metadata": {
        "id": "9btS9f_jJ4Rk"
      }
    },
    {
      "cell_type": "code",
      "source": [
        "# Método 1\n",
        "def :\n",
        "    pass"
      ],
      "metadata": {
        "id": "E6J3pCYOJ4Rk"
      },
      "execution_count": null,
      "outputs": []
    },
    {
      "cell_type": "code",
      "source": [
        "print()\n",
        "print()\n",
        "print()\n",
        "print()"
      ],
      "metadata": {
        "id": "tknb1UNEJ4Rk"
      },
      "execution_count": null,
      "outputs": []
    },
    {
      "cell_type": "markdown",
      "source": [
        "## Reto 526:"
      ],
      "metadata": {
        "id": "2-Et9sGhJ4Yk"
      }
    },
    {
      "cell_type": "code",
      "source": [
        "# Método 1\n",
        "def :\n",
        "    pass"
      ],
      "metadata": {
        "id": "NUZheGy3J4Yk"
      },
      "execution_count": null,
      "outputs": []
    },
    {
      "cell_type": "code",
      "source": [
        "print()\n",
        "print()\n",
        "print()\n",
        "print()"
      ],
      "metadata": {
        "id": "OsMIsl4xJ4Yk"
      },
      "execution_count": null,
      "outputs": []
    },
    {
      "cell_type": "markdown",
      "source": [
        "## Reto 527:"
      ],
      "metadata": {
        "id": "cklCP4WwJ4f_"
      }
    },
    {
      "cell_type": "code",
      "source": [
        "# Método 1\n",
        "def :\n",
        "    pass"
      ],
      "metadata": {
        "id": "CfK4xyRhJ4f_"
      },
      "execution_count": null,
      "outputs": []
    },
    {
      "cell_type": "code",
      "source": [
        "print()\n",
        "print()\n",
        "print()\n",
        "print()"
      ],
      "metadata": {
        "id": "nGBYgdmWJ4f_"
      },
      "execution_count": null,
      "outputs": []
    },
    {
      "cell_type": "markdown",
      "source": [
        "## Reto 528:"
      ],
      "metadata": {
        "id": "h_FCdlipJ4na"
      }
    },
    {
      "cell_type": "code",
      "source": [
        "# Método 1\n",
        "def :\n",
        "    pass"
      ],
      "metadata": {
        "id": "rirzzGxdJ4na"
      },
      "execution_count": null,
      "outputs": []
    },
    {
      "cell_type": "code",
      "source": [
        "print()\n",
        "print()\n",
        "print()\n",
        "print()"
      ],
      "metadata": {
        "id": "TdKhyFKRJ4na"
      },
      "execution_count": null,
      "outputs": []
    },
    {
      "cell_type": "markdown",
      "source": [
        "## Reto 529:"
      ],
      "metadata": {
        "id": "qrAew1HVJ4uu"
      }
    },
    {
      "cell_type": "code",
      "source": [
        "# Método 1\n",
        "def :\n",
        "    pass"
      ],
      "metadata": {
        "id": "6izl31Y2J4uu"
      },
      "execution_count": null,
      "outputs": []
    },
    {
      "cell_type": "code",
      "source": [
        "print()\n",
        "print()\n",
        "print()\n",
        "print()"
      ],
      "metadata": {
        "id": "JjSVAuUTJ4uu"
      },
      "execution_count": null,
      "outputs": []
    },
    {
      "cell_type": "markdown",
      "source": [
        "## Reto 530:"
      ],
      "metadata": {
        "id": "JgzXD5JvJ42h"
      }
    },
    {
      "cell_type": "code",
      "source": [
        "# Método 1\n",
        "def :\n",
        "    pass"
      ],
      "metadata": {
        "id": "uJN9E-afJ42h"
      },
      "execution_count": null,
      "outputs": []
    },
    {
      "cell_type": "code",
      "source": [
        "print()\n",
        "print()\n",
        "print()\n",
        "print()"
      ],
      "metadata": {
        "id": "ZeE6TLYBJ42h"
      },
      "execution_count": null,
      "outputs": []
    },
    {
      "cell_type": "markdown",
      "source": [
        "## Reto 531:"
      ],
      "metadata": {
        "id": "MpNyY2GRKKQy"
      }
    },
    {
      "cell_type": "code",
      "source": [
        "# Método 1\n",
        "def :\n",
        "    pass"
      ],
      "metadata": {
        "id": "N3VTCQFmKKQy"
      },
      "execution_count": null,
      "outputs": []
    },
    {
      "cell_type": "code",
      "source": [
        "print()\n",
        "print()\n",
        "print()\n",
        "print()"
      ],
      "metadata": {
        "id": "HHvQKALwKKQy"
      },
      "execution_count": null,
      "outputs": []
    },
    {
      "cell_type": "markdown",
      "source": [
        "## Reto 532:"
      ],
      "metadata": {
        "id": "ltitQmDRKKZa"
      }
    },
    {
      "cell_type": "code",
      "source": [
        "# Método 1\n",
        "def :\n",
        "    pass"
      ],
      "metadata": {
        "id": "yOxHyMbxKKZa"
      },
      "execution_count": null,
      "outputs": []
    },
    {
      "cell_type": "code",
      "source": [
        "print()\n",
        "print()\n",
        "print()\n",
        "print()"
      ],
      "metadata": {
        "id": "q7bgTLszKKZa"
      },
      "execution_count": null,
      "outputs": []
    },
    {
      "cell_type": "markdown",
      "source": [
        "## Reto 533:"
      ],
      "metadata": {
        "id": "a42FhwZTKKgy"
      }
    },
    {
      "cell_type": "code",
      "source": [
        "# Método 1\n",
        "def :\n",
        "    pass"
      ],
      "metadata": {
        "id": "weROzSbxKKgy"
      },
      "execution_count": null,
      "outputs": []
    },
    {
      "cell_type": "code",
      "source": [
        "print()\n",
        "print()\n",
        "print()\n",
        "print()"
      ],
      "metadata": {
        "id": "XeJ_yYXsKKgy"
      },
      "execution_count": null,
      "outputs": []
    },
    {
      "cell_type": "markdown",
      "source": [
        "## Reto 534:"
      ],
      "metadata": {
        "id": "PW3dG2GVKKnj"
      }
    },
    {
      "cell_type": "code",
      "source": [
        "# Método 1\n",
        "def :\n",
        "    pass"
      ],
      "metadata": {
        "id": "Xa8nKq5aKKnj"
      },
      "execution_count": null,
      "outputs": []
    },
    {
      "cell_type": "code",
      "source": [
        "print()\n",
        "print()\n",
        "print()\n",
        "print()"
      ],
      "metadata": {
        "id": "mrkDblQcKKnj"
      },
      "execution_count": null,
      "outputs": []
    },
    {
      "cell_type": "markdown",
      "source": [
        "## Reto 535:"
      ],
      "metadata": {
        "id": "s4LZ29zOKKtx"
      }
    },
    {
      "cell_type": "code",
      "source": [
        "# Método 1\n",
        "def :\n",
        "    pass"
      ],
      "metadata": {
        "id": "khpCuV6QKKtx"
      },
      "execution_count": null,
      "outputs": []
    },
    {
      "cell_type": "code",
      "source": [
        "print()\n",
        "print()\n",
        "print()\n",
        "print()"
      ],
      "metadata": {
        "id": "HqqVth6vKKtx"
      },
      "execution_count": null,
      "outputs": []
    },
    {
      "cell_type": "markdown",
      "source": [
        "## Reto 536:"
      ],
      "metadata": {
        "id": "VFFIzH2dKK0H"
      }
    },
    {
      "cell_type": "code",
      "source": [
        "# Método 1\n",
        "def :\n",
        "    pass"
      ],
      "metadata": {
        "id": "W1LYOLY-KK0H"
      },
      "execution_count": null,
      "outputs": []
    },
    {
      "cell_type": "code",
      "source": [
        "print()\n",
        "print()\n",
        "print()\n",
        "print()"
      ],
      "metadata": {
        "id": "-V3auLj3KK0H"
      },
      "execution_count": null,
      "outputs": []
    },
    {
      "cell_type": "markdown",
      "source": [
        "## Reto 537:"
      ],
      "metadata": {
        "id": "w5B5Xs4dKK6d"
      }
    },
    {
      "cell_type": "code",
      "source": [
        "# Método 1\n",
        "def :\n",
        "    pass"
      ],
      "metadata": {
        "id": "uv9pl1aFKK6d"
      },
      "execution_count": null,
      "outputs": []
    },
    {
      "cell_type": "code",
      "source": [
        "print()\n",
        "print()\n",
        "print()\n",
        "print()"
      ],
      "metadata": {
        "id": "mYErrFgIKK6e"
      },
      "execution_count": null,
      "outputs": []
    },
    {
      "cell_type": "markdown",
      "source": [
        "## Reto 538:"
      ],
      "metadata": {
        "id": "YqPFE6tBKLAz"
      }
    },
    {
      "cell_type": "code",
      "source": [
        "# Método 1\n",
        "def :\n",
        "    pass"
      ],
      "metadata": {
        "id": "QKWCLjZDKLAz"
      },
      "execution_count": null,
      "outputs": []
    },
    {
      "cell_type": "code",
      "source": [
        "print()\n",
        "print()\n",
        "print()\n",
        "print()"
      ],
      "metadata": {
        "id": "P2h7syGAKLAz"
      },
      "execution_count": null,
      "outputs": []
    },
    {
      "cell_type": "markdown",
      "source": [
        "## Reto 539:"
      ],
      "metadata": {
        "id": "6Wn7DnokKLIM"
      }
    },
    {
      "cell_type": "code",
      "source": [
        "# Método 1\n",
        "def :\n",
        "    pass"
      ],
      "metadata": {
        "id": "nmM2H56-KLIN"
      },
      "execution_count": null,
      "outputs": []
    },
    {
      "cell_type": "code",
      "source": [
        "print()\n",
        "print()\n",
        "print()\n",
        "print()"
      ],
      "metadata": {
        "id": "ER1D-sOMKLIN"
      },
      "execution_count": null,
      "outputs": []
    },
    {
      "cell_type": "markdown",
      "source": [
        "## Reto 540:"
      ],
      "metadata": {
        "id": "OIidk6MOKLPk"
      }
    },
    {
      "cell_type": "code",
      "source": [
        "# Método 1\n",
        "def :\n",
        "    pass"
      ],
      "metadata": {
        "id": "FDDJ9fSOKLPk"
      },
      "execution_count": null,
      "outputs": []
    },
    {
      "cell_type": "code",
      "source": [
        "print()\n",
        "print()\n",
        "print()\n",
        "print()"
      ],
      "metadata": {
        "id": "yrQw27_PKLPk"
      },
      "execution_count": null,
      "outputs": []
    },
    {
      "cell_type": "markdown",
      "source": [
        "## Reto 541:"
      ],
      "metadata": {
        "id": "zBwUd6u1Kda2"
      }
    },
    {
      "cell_type": "code",
      "source": [
        "# Método 1\n",
        "def :\n",
        "    pass"
      ],
      "metadata": {
        "id": "w0XM8KGMKda2"
      },
      "execution_count": null,
      "outputs": []
    },
    {
      "cell_type": "code",
      "source": [
        "print()\n",
        "print()\n",
        "print()\n",
        "print()"
      ],
      "metadata": {
        "id": "PL9FDFyUKda2"
      },
      "execution_count": null,
      "outputs": []
    },
    {
      "cell_type": "markdown",
      "source": [
        "## Reto 542:"
      ],
      "metadata": {
        "id": "IkMLgN0uKdjd"
      }
    },
    {
      "cell_type": "code",
      "source": [
        "# Método 1\n",
        "def :\n",
        "    pass"
      ],
      "metadata": {
        "id": "Kwa_K7Z9Kdje"
      },
      "execution_count": null,
      "outputs": []
    },
    {
      "cell_type": "code",
      "source": [
        "print()\n",
        "print()\n",
        "print()\n",
        "print()"
      ],
      "metadata": {
        "id": "gfNwHXVyKdje"
      },
      "execution_count": null,
      "outputs": []
    },
    {
      "cell_type": "markdown",
      "source": [
        "## Reto 543:"
      ],
      "metadata": {
        "id": "wpBtuBE_KdrQ"
      }
    },
    {
      "cell_type": "code",
      "source": [
        "# Método 1\n",
        "def :\n",
        "    pass"
      ],
      "metadata": {
        "id": "pPkoQMDjKdrR"
      },
      "execution_count": null,
      "outputs": []
    },
    {
      "cell_type": "code",
      "source": [
        "print()\n",
        "print()\n",
        "print()\n",
        "print()"
      ],
      "metadata": {
        "id": "wW60bcRwKdrR"
      },
      "execution_count": null,
      "outputs": []
    },
    {
      "cell_type": "markdown",
      "source": [
        "## Reto 544:"
      ],
      "metadata": {
        "id": "_7YpcfgHKdyO"
      }
    },
    {
      "cell_type": "code",
      "source": [
        "# Método 1\n",
        "def :\n",
        "    pass"
      ],
      "metadata": {
        "id": "SkDQw4svKdyO"
      },
      "execution_count": null,
      "outputs": []
    },
    {
      "cell_type": "code",
      "source": [
        "print()\n",
        "print()\n",
        "print()\n",
        "print()"
      ],
      "metadata": {
        "id": "r4eaiLE6KdyO"
      },
      "execution_count": null,
      "outputs": []
    },
    {
      "cell_type": "markdown",
      "source": [
        "## Reto 545:"
      ],
      "metadata": {
        "id": "w04A7HtQKd5o"
      }
    },
    {
      "cell_type": "code",
      "source": [
        "# Método 1\n",
        "def :\n",
        "    pass"
      ],
      "metadata": {
        "id": "zl3MweNdKd5o"
      },
      "execution_count": null,
      "outputs": []
    },
    {
      "cell_type": "code",
      "source": [
        "print()\n",
        "print()\n",
        "print()\n",
        "print()"
      ],
      "metadata": {
        "id": "0UpUWFGMKd5o"
      },
      "execution_count": null,
      "outputs": []
    },
    {
      "cell_type": "markdown",
      "source": [
        "## Reto 546:"
      ],
      "metadata": {
        "id": "Zh9UFyL-KeAt"
      }
    },
    {
      "cell_type": "code",
      "source": [
        "# Método 1\n",
        "def :\n",
        "    pass"
      ],
      "metadata": {
        "id": "i-jJn26qKeAu"
      },
      "execution_count": null,
      "outputs": []
    },
    {
      "cell_type": "code",
      "source": [
        "print()\n",
        "print()\n",
        "print()\n",
        "print()"
      ],
      "metadata": {
        "id": "rw7UwO5ZKeAu"
      },
      "execution_count": null,
      "outputs": []
    },
    {
      "cell_type": "markdown",
      "source": [
        "## Reto 547:"
      ],
      "metadata": {
        "id": "t4jr2BK1KeID"
      }
    },
    {
      "cell_type": "code",
      "source": [
        "# Método 1\n",
        "def :\n",
        "    pass"
      ],
      "metadata": {
        "id": "aQTPn36yKeID"
      },
      "execution_count": null,
      "outputs": []
    },
    {
      "cell_type": "code",
      "source": [
        "print()\n",
        "print()\n",
        "print()\n",
        "print()"
      ],
      "metadata": {
        "id": "H3M6VhGxKeID"
      },
      "execution_count": null,
      "outputs": []
    },
    {
      "cell_type": "markdown",
      "source": [
        "## Reto 548:"
      ],
      "metadata": {
        "id": "Wy4WDTYzKePa"
      }
    },
    {
      "cell_type": "code",
      "source": [
        "# Método 1\n",
        "def :\n",
        "    pass"
      ],
      "metadata": {
        "id": "wKWIdoIWKePa"
      },
      "execution_count": null,
      "outputs": []
    },
    {
      "cell_type": "code",
      "source": [
        "print()\n",
        "print()\n",
        "print()\n",
        "print()"
      ],
      "metadata": {
        "id": "46HKwituKePa"
      },
      "execution_count": null,
      "outputs": []
    },
    {
      "cell_type": "markdown",
      "source": [
        "## Reto 549:"
      ],
      "metadata": {
        "id": "BBLM9G9ZKeWa"
      }
    },
    {
      "cell_type": "code",
      "source": [
        "# Método 1\n",
        "def :\n",
        "    pass"
      ],
      "metadata": {
        "id": "9oKulg3HKeWa"
      },
      "execution_count": null,
      "outputs": []
    },
    {
      "cell_type": "code",
      "source": [
        "print()\n",
        "print()\n",
        "print()\n",
        "print()"
      ],
      "metadata": {
        "id": "7YONpao8KeWa"
      },
      "execution_count": null,
      "outputs": []
    },
    {
      "cell_type": "markdown",
      "source": [
        "## Reto 550:"
      ],
      "metadata": {
        "id": "ea-Jcz4RKeen"
      }
    },
    {
      "cell_type": "code",
      "source": [
        "# Método 1\n",
        "def :\n",
        "    pass"
      ],
      "metadata": {
        "id": "5wsx0eKPKeen"
      },
      "execution_count": null,
      "outputs": []
    },
    {
      "cell_type": "code",
      "source": [
        "print()\n",
        "print()\n",
        "print()\n",
        "print()"
      ],
      "metadata": {
        "id": "CXA2SPAbKeen"
      },
      "execution_count": null,
      "outputs": []
    },
    {
      "cell_type": "markdown",
      "source": [
        "## Reto 551:"
      ],
      "metadata": {
        "id": "etQJUnIzK5S2"
      }
    },
    {
      "cell_type": "code",
      "source": [
        "# Método 1\n",
        "def :\n",
        "    pass"
      ],
      "metadata": {
        "id": "A1AHdwnoK5S2"
      },
      "execution_count": null,
      "outputs": []
    },
    {
      "cell_type": "code",
      "source": [
        "print()\n",
        "print()\n",
        "print()\n",
        "print()"
      ],
      "metadata": {
        "id": "Ki5WX6dwK5S2"
      },
      "execution_count": null,
      "outputs": []
    },
    {
      "cell_type": "markdown",
      "source": [
        "## Reto 552:"
      ],
      "metadata": {
        "id": "psCWW_F_K5aa"
      }
    },
    {
      "cell_type": "code",
      "source": [
        "# Método 1\n",
        "def :\n",
        "    pass"
      ],
      "metadata": {
        "id": "bTYis95NK5aa"
      },
      "execution_count": null,
      "outputs": []
    },
    {
      "cell_type": "code",
      "source": [
        "print()\n",
        "print()\n",
        "print()\n",
        "print()"
      ],
      "metadata": {
        "id": "EpqZc6YEK5aa"
      },
      "execution_count": null,
      "outputs": []
    },
    {
      "cell_type": "markdown",
      "source": [
        "## Reto 553:"
      ],
      "metadata": {
        "id": "obEjA9nDK5hM"
      }
    },
    {
      "cell_type": "code",
      "source": [
        "# Método 1\n",
        "def :\n",
        "    pass"
      ],
      "metadata": {
        "id": "aEx0aesJK5hM"
      },
      "execution_count": null,
      "outputs": []
    },
    {
      "cell_type": "code",
      "source": [
        "print()\n",
        "print()\n",
        "print()\n",
        "print()"
      ],
      "metadata": {
        "id": "O_8uRNSRK5hM"
      },
      "execution_count": null,
      "outputs": []
    },
    {
      "cell_type": "markdown",
      "source": [
        "## Reto 554:"
      ],
      "metadata": {
        "id": "Bn2BcxITK5nY"
      }
    },
    {
      "cell_type": "code",
      "source": [
        "# Método 1\n",
        "def :\n",
        "    pass"
      ],
      "metadata": {
        "id": "K3jYRS0LK5nY"
      },
      "execution_count": null,
      "outputs": []
    },
    {
      "cell_type": "code",
      "source": [
        "print()\n",
        "print()\n",
        "print()\n",
        "print()"
      ],
      "metadata": {
        "id": "afoX9yTtK5nY"
      },
      "execution_count": null,
      "outputs": []
    },
    {
      "cell_type": "markdown",
      "source": [
        "## Reto 555:"
      ],
      "metadata": {
        "id": "j84aufrmK5ts"
      }
    },
    {
      "cell_type": "code",
      "source": [
        "# Método 1\n",
        "def :\n",
        "    pass"
      ],
      "metadata": {
        "id": "dTXK0w7wK5ts"
      },
      "execution_count": null,
      "outputs": []
    },
    {
      "cell_type": "code",
      "source": [
        "print()\n",
        "print()\n",
        "print()\n",
        "print()"
      ],
      "metadata": {
        "id": "ZeAsCh73K5ts"
      },
      "execution_count": null,
      "outputs": []
    },
    {
      "cell_type": "markdown",
      "source": [
        "## Reto 556:"
      ],
      "metadata": {
        "id": "3a-vhA3gK50H"
      }
    },
    {
      "cell_type": "code",
      "source": [
        "# Método 1\n",
        "def :\n",
        "    pass"
      ],
      "metadata": {
        "id": "JQJhoPODK50H"
      },
      "execution_count": null,
      "outputs": []
    },
    {
      "cell_type": "code",
      "source": [
        "print()\n",
        "print()\n",
        "print()\n",
        "print()"
      ],
      "metadata": {
        "id": "oy9CI_OGK50H"
      },
      "execution_count": null,
      "outputs": []
    },
    {
      "cell_type": "markdown",
      "source": [
        "## Reto 557:"
      ],
      "metadata": {
        "id": "LTm036CpK56Y"
      }
    },
    {
      "cell_type": "code",
      "source": [
        "# Método 1\n",
        "def :\n",
        "    pass"
      ],
      "metadata": {
        "id": "3NRCqqU0K56Y"
      },
      "execution_count": null,
      "outputs": []
    },
    {
      "cell_type": "code",
      "source": [
        "print()\n",
        "print()\n",
        "print()\n",
        "print()"
      ],
      "metadata": {
        "id": "CWRWKElXK56Y"
      },
      "execution_count": null,
      "outputs": []
    },
    {
      "cell_type": "markdown",
      "source": [
        "## Reto 558:"
      ],
      "metadata": {
        "id": "VXfhvFLAK6BL"
      }
    },
    {
      "cell_type": "code",
      "source": [
        "# Método 1\n",
        "def :\n",
        "    pass"
      ],
      "metadata": {
        "id": "Vs6GDKDMK6BL"
      },
      "execution_count": null,
      "outputs": []
    },
    {
      "cell_type": "code",
      "source": [
        "print()\n",
        "print()\n",
        "print()\n",
        "print()"
      ],
      "metadata": {
        "id": "sGPKHDQrK6BL"
      },
      "execution_count": null,
      "outputs": []
    },
    {
      "cell_type": "markdown",
      "source": [
        "## Reto 559:"
      ],
      "metadata": {
        "id": "ihYQFfWmK6Hv"
      }
    },
    {
      "cell_type": "code",
      "source": [
        "# Método 1\n",
        "def :\n",
        "    pass"
      ],
      "metadata": {
        "id": "PlTymfYrK6Hw"
      },
      "execution_count": null,
      "outputs": []
    },
    {
      "cell_type": "code",
      "source": [
        "print()\n",
        "print()\n",
        "print()\n",
        "print()"
      ],
      "metadata": {
        "id": "6SW9KhA1K6Hw"
      },
      "execution_count": null,
      "outputs": []
    },
    {
      "cell_type": "markdown",
      "source": [
        "## Reto 560:"
      ],
      "metadata": {
        "id": "4Zr_cUZdK6OG"
      }
    },
    {
      "cell_type": "code",
      "source": [
        "# Método 1\n",
        "def :\n",
        "    pass"
      ],
      "metadata": {
        "id": "SjLK9-nnK6OG"
      },
      "execution_count": null,
      "outputs": []
    },
    {
      "cell_type": "code",
      "source": [
        "print()\n",
        "print()\n",
        "print()\n",
        "print()"
      ],
      "metadata": {
        "id": "31bfdRi1K6OH"
      },
      "execution_count": null,
      "outputs": []
    },
    {
      "cell_type": "markdown",
      "source": [
        "## Reto 561:"
      ],
      "metadata": {
        "id": "61iV19v3LMiA"
      }
    },
    {
      "cell_type": "code",
      "source": [
        "# Método 1\n",
        "def :\n",
        "    pass"
      ],
      "metadata": {
        "id": "APrJ0KyLLMiA"
      },
      "execution_count": null,
      "outputs": []
    },
    {
      "cell_type": "code",
      "source": [
        "print()\n",
        "print()\n",
        "print()\n",
        "print()"
      ],
      "metadata": {
        "id": "e-mBlXAzLMiA"
      },
      "execution_count": null,
      "outputs": []
    },
    {
      "cell_type": "markdown",
      "source": [
        "## Reto 562:"
      ],
      "metadata": {
        "id": "Q3wgEONiLMoN"
      }
    },
    {
      "cell_type": "code",
      "source": [
        "# Método 1\n",
        "def :\n",
        "    pass"
      ],
      "metadata": {
        "id": "nCT72IuULMoN"
      },
      "execution_count": null,
      "outputs": []
    },
    {
      "cell_type": "code",
      "source": [
        "print()\n",
        "print()\n",
        "print()\n",
        "print()"
      ],
      "metadata": {
        "id": "6EDB8fUILMoN"
      },
      "execution_count": null,
      "outputs": []
    },
    {
      "cell_type": "markdown",
      "source": [
        "## Reto 563:"
      ],
      "metadata": {
        "id": "spC8vL2CLMuM"
      }
    },
    {
      "cell_type": "code",
      "source": [
        "# Método 1\n",
        "def :\n",
        "    pass"
      ],
      "metadata": {
        "id": "TddezJz3LMuM"
      },
      "execution_count": null,
      "outputs": []
    },
    {
      "cell_type": "code",
      "source": [
        "print()\n",
        "print()\n",
        "print()\n",
        "print()"
      ],
      "metadata": {
        "id": "DTGUrFS_LMuM"
      },
      "execution_count": null,
      "outputs": []
    },
    {
      "cell_type": "markdown",
      "source": [
        "## Reto 564:"
      ],
      "metadata": {
        "id": "A1ntmuTcLM0k"
      }
    },
    {
      "cell_type": "code",
      "source": [
        "# Método 1\n",
        "def :\n",
        "    pass"
      ],
      "metadata": {
        "id": "_9a-z09FLM0k"
      },
      "execution_count": null,
      "outputs": []
    },
    {
      "cell_type": "code",
      "source": [
        "print()\n",
        "print()\n",
        "print()\n",
        "print()"
      ],
      "metadata": {
        "id": "jSIiQqtbLM0k"
      },
      "execution_count": null,
      "outputs": []
    },
    {
      "cell_type": "markdown",
      "source": [
        "## Reto 565:"
      ],
      "metadata": {
        "id": "skyyiwalLM63"
      }
    },
    {
      "cell_type": "code",
      "source": [
        "# Método 1\n",
        "def :\n",
        "    pass"
      ],
      "metadata": {
        "id": "vYDysMfrLM64"
      },
      "execution_count": null,
      "outputs": []
    },
    {
      "cell_type": "code",
      "source": [
        "print()\n",
        "print()\n",
        "print()\n",
        "print()"
      ],
      "metadata": {
        "id": "VZnOmYkVLM64"
      },
      "execution_count": null,
      "outputs": []
    },
    {
      "cell_type": "markdown",
      "source": [
        "## Reto 566:"
      ],
      "metadata": {
        "id": "rjg7iNPbLNBK"
      }
    },
    {
      "cell_type": "code",
      "source": [
        "# Método 1\n",
        "def :\n",
        "    pass"
      ],
      "metadata": {
        "id": "DLlmx8xGLNBL"
      },
      "execution_count": null,
      "outputs": []
    },
    {
      "cell_type": "code",
      "source": [
        "print()\n",
        "print()\n",
        "print()\n",
        "print()"
      ],
      "metadata": {
        "id": "sl2Nh-3ELNBL"
      },
      "execution_count": null,
      "outputs": []
    },
    {
      "cell_type": "markdown",
      "source": [
        "## Reto 567:"
      ],
      "metadata": {
        "id": "yzgkeQHcLNHJ"
      }
    },
    {
      "cell_type": "code",
      "source": [
        "# Método 1\n",
        "def :\n",
        "    pass"
      ],
      "metadata": {
        "id": "kLI_QC9gLNHJ"
      },
      "execution_count": null,
      "outputs": []
    },
    {
      "cell_type": "code",
      "source": [
        "print()\n",
        "print()\n",
        "print()\n",
        "print()"
      ],
      "metadata": {
        "id": "EYukYgtgLNHJ"
      },
      "execution_count": null,
      "outputs": []
    },
    {
      "cell_type": "markdown",
      "source": [
        "## Reto 568:"
      ],
      "metadata": {
        "id": "eahEzmzyLNNG"
      }
    },
    {
      "cell_type": "code",
      "source": [
        "# Método 1\n",
        "def :\n",
        "    pass"
      ],
      "metadata": {
        "id": "bt1kAeH8LNNH"
      },
      "execution_count": null,
      "outputs": []
    },
    {
      "cell_type": "code",
      "source": [
        "print()\n",
        "print()\n",
        "print()\n",
        "print()"
      ],
      "metadata": {
        "id": "lk_T2N1oLNNH"
      },
      "execution_count": null,
      "outputs": []
    },
    {
      "cell_type": "markdown",
      "source": [
        "## Reto 569:"
      ],
      "metadata": {
        "id": "LyBHsamYLNTi"
      }
    },
    {
      "cell_type": "code",
      "source": [
        "# Método 1\n",
        "def :\n",
        "    pass"
      ],
      "metadata": {
        "id": "Uo4ZObcALNTj"
      },
      "execution_count": null,
      "outputs": []
    },
    {
      "cell_type": "code",
      "source": [
        "print()\n",
        "print()\n",
        "print()\n",
        "print()"
      ],
      "metadata": {
        "id": "5sQe_lqeLNTj"
      },
      "execution_count": null,
      "outputs": []
    },
    {
      "cell_type": "markdown",
      "source": [
        "## Reto 570:"
      ],
      "metadata": {
        "id": "SQWyZ6-ALNZx"
      }
    },
    {
      "cell_type": "code",
      "source": [
        "# Método 1\n",
        "def :\n",
        "    pass"
      ],
      "metadata": {
        "id": "92mwwCgALNZy"
      },
      "execution_count": null,
      "outputs": []
    },
    {
      "cell_type": "code",
      "source": [
        "print()\n",
        "print()\n",
        "print()\n",
        "print()"
      ],
      "metadata": {
        "id": "3mS_3YvwLNZy"
      },
      "execution_count": null,
      "outputs": []
    },
    {
      "cell_type": "markdown",
      "source": [
        "## Reto 571:"
      ],
      "metadata": {
        "id": "2owkhItHLhyB"
      }
    },
    {
      "cell_type": "code",
      "source": [
        "# Método 1\n",
        "def :\n",
        "    pass"
      ],
      "metadata": {
        "id": "RXDX_haSLhyB"
      },
      "execution_count": null,
      "outputs": []
    },
    {
      "cell_type": "code",
      "source": [
        "print()\n",
        "print()\n",
        "print()\n",
        "print()"
      ],
      "metadata": {
        "id": "c7qRbfyqLhyB"
      },
      "execution_count": null,
      "outputs": []
    },
    {
      "cell_type": "markdown",
      "source": [
        "## Reto 572:"
      ],
      "metadata": {
        "id": "CDLt9UxgLh4J"
      }
    },
    {
      "cell_type": "code",
      "source": [
        "# Método 1\n",
        "def :\n",
        "    pass"
      ],
      "metadata": {
        "id": "8vdcf6vQLh4J"
      },
      "execution_count": null,
      "outputs": []
    },
    {
      "cell_type": "code",
      "source": [
        "print()\n",
        "print()\n",
        "print()\n",
        "print()"
      ],
      "metadata": {
        "id": "5ZUHKvfgLh4J"
      },
      "execution_count": null,
      "outputs": []
    },
    {
      "cell_type": "markdown",
      "source": [
        "## Reto 573:"
      ],
      "metadata": {
        "id": "P7ziK0i7Lh-G"
      }
    },
    {
      "cell_type": "code",
      "source": [
        "# Método 1\n",
        "def :\n",
        "    pass"
      ],
      "metadata": {
        "id": "uqXYW16-Lh-G"
      },
      "execution_count": null,
      "outputs": []
    },
    {
      "cell_type": "code",
      "source": [
        "print()\n",
        "print()\n",
        "print()\n",
        "print()"
      ],
      "metadata": {
        "id": "qDWhkknZLh-G"
      },
      "execution_count": null,
      "outputs": []
    },
    {
      "cell_type": "markdown",
      "source": [
        "## Reto 574:"
      ],
      "metadata": {
        "id": "5GsbhwnNLiFJ"
      }
    },
    {
      "cell_type": "code",
      "source": [
        "# Método 1\n",
        "def :\n",
        "    pass"
      ],
      "metadata": {
        "id": "nxMhqeUJLiFJ"
      },
      "execution_count": null,
      "outputs": []
    },
    {
      "cell_type": "code",
      "source": [
        "print()\n",
        "print()\n",
        "print()\n",
        "print()"
      ],
      "metadata": {
        "id": "sQbzrz9OLiFJ"
      },
      "execution_count": null,
      "outputs": []
    },
    {
      "cell_type": "markdown",
      "source": [
        "## Reto 575:"
      ],
      "metadata": {
        "id": "kMC9MQDfLiLH"
      }
    },
    {
      "cell_type": "code",
      "source": [
        "# Método 1\n",
        "def :\n",
        "    pass"
      ],
      "metadata": {
        "id": "nvEc58pxLiLH"
      },
      "execution_count": null,
      "outputs": []
    },
    {
      "cell_type": "code",
      "source": [
        "print()\n",
        "print()\n",
        "print()\n",
        "print()"
      ],
      "metadata": {
        "id": "-wmRV9t5LiLH"
      },
      "execution_count": null,
      "outputs": []
    },
    {
      "cell_type": "markdown",
      "source": [
        "## Reto 576:"
      ],
      "metadata": {
        "id": "xSImdk9BLiRc"
      }
    },
    {
      "cell_type": "code",
      "source": [
        "# Método 1\n",
        "def :\n",
        "    pass"
      ],
      "metadata": {
        "id": "aT7l5TEpLiRc"
      },
      "execution_count": null,
      "outputs": []
    },
    {
      "cell_type": "code",
      "source": [
        "print()\n",
        "print()\n",
        "print()\n",
        "print()"
      ],
      "metadata": {
        "id": "BqaNoXNXLiRc"
      },
      "execution_count": null,
      "outputs": []
    },
    {
      "cell_type": "markdown",
      "source": [
        "## Reto 577:"
      ],
      "metadata": {
        "id": "06neNEk8LiX5"
      }
    },
    {
      "cell_type": "code",
      "source": [
        "# Método 1\n",
        "def :\n",
        "    pass"
      ],
      "metadata": {
        "id": "kaT8iASjLiX5"
      },
      "execution_count": null,
      "outputs": []
    },
    {
      "cell_type": "code",
      "source": [
        "print()\n",
        "print()\n",
        "print()\n",
        "print()"
      ],
      "metadata": {
        "id": "SHkZrpu8LiX5"
      },
      "execution_count": null,
      "outputs": []
    },
    {
      "cell_type": "markdown",
      "source": [
        "## Reto 578:"
      ],
      "metadata": {
        "id": "YYzjcI17Liez"
      }
    },
    {
      "cell_type": "code",
      "source": [
        "# Método 1\n",
        "def :\n",
        "    pass"
      ],
      "metadata": {
        "id": "it3KGvclLiez"
      },
      "execution_count": null,
      "outputs": []
    },
    {
      "cell_type": "code",
      "source": [
        "print()\n",
        "print()\n",
        "print()\n",
        "print()"
      ],
      "metadata": {
        "id": "10WjuOejLiez"
      },
      "execution_count": null,
      "outputs": []
    },
    {
      "cell_type": "markdown",
      "source": [
        "## Reto 579:"
      ],
      "metadata": {
        "id": "GkLinAg8Liky"
      }
    },
    {
      "cell_type": "code",
      "source": [
        "# Método 1\n",
        "def :\n",
        "    pass"
      ],
      "metadata": {
        "id": "NzErCS-oLiky"
      },
      "execution_count": null,
      "outputs": []
    },
    {
      "cell_type": "code",
      "source": [
        "print()\n",
        "print()\n",
        "print()\n",
        "print()"
      ],
      "metadata": {
        "id": "QASfCa0aLiky"
      },
      "execution_count": null,
      "outputs": []
    },
    {
      "cell_type": "markdown",
      "source": [
        "## Reto 580:"
      ],
      "metadata": {
        "id": "d-J7lYOULirf"
      }
    },
    {
      "cell_type": "code",
      "source": [
        "# Método 1\n",
        "def :\n",
        "    pass"
      ],
      "metadata": {
        "id": "yA18S0w4Lirf"
      },
      "execution_count": null,
      "outputs": []
    },
    {
      "cell_type": "code",
      "source": [
        "print()\n",
        "print()\n",
        "print()\n",
        "print()"
      ],
      "metadata": {
        "id": "Zw8myjqbLirf"
      },
      "execution_count": null,
      "outputs": []
    },
    {
      "cell_type": "markdown",
      "source": [
        "## Reto 581:"
      ],
      "metadata": {
        "id": "caTKyjSTL3a1"
      }
    },
    {
      "cell_type": "code",
      "source": [
        "# Método 1\n",
        "def :\n",
        "    pass"
      ],
      "metadata": {
        "id": "_ztXp-wgL3a1"
      },
      "execution_count": null,
      "outputs": []
    },
    {
      "cell_type": "code",
      "source": [
        "print()\n",
        "print()\n",
        "print()\n",
        "print()"
      ],
      "metadata": {
        "id": "tuwlQEk-L3a1"
      },
      "execution_count": null,
      "outputs": []
    },
    {
      "cell_type": "markdown",
      "source": [
        "## Reto 582:"
      ],
      "metadata": {
        "id": "7fiB0jv8L3hE"
      }
    },
    {
      "cell_type": "code",
      "source": [
        "# Método 1\n",
        "def :\n",
        "    pass"
      ],
      "metadata": {
        "id": "a7mOXJLPL3hF"
      },
      "execution_count": null,
      "outputs": []
    },
    {
      "cell_type": "code",
      "source": [
        "print()\n",
        "print()\n",
        "print()\n",
        "print()"
      ],
      "metadata": {
        "id": "rNJK48w9L3hF"
      },
      "execution_count": null,
      "outputs": []
    },
    {
      "cell_type": "markdown",
      "source": [
        "## Reto 583:"
      ],
      "metadata": {
        "id": "GKGE4HsJL3nW"
      }
    },
    {
      "cell_type": "code",
      "source": [
        "# Método 1\n",
        "def :\n",
        "    pass"
      ],
      "metadata": {
        "id": "EzEvRiJjL3nW"
      },
      "execution_count": null,
      "outputs": []
    },
    {
      "cell_type": "code",
      "source": [
        "print()\n",
        "print()\n",
        "print()\n",
        "print()"
      ],
      "metadata": {
        "id": "opmO9Yd8L3nW"
      },
      "execution_count": null,
      "outputs": []
    },
    {
      "cell_type": "markdown",
      "source": [
        "## Reto 584:"
      ],
      "metadata": {
        "id": "15rjwg1tL3tV"
      }
    },
    {
      "cell_type": "code",
      "source": [
        "# Método 1\n",
        "def :\n",
        "    pass"
      ],
      "metadata": {
        "id": "8WUz4w7aL3tV"
      },
      "execution_count": null,
      "outputs": []
    },
    {
      "cell_type": "code",
      "source": [
        "print()\n",
        "print()\n",
        "print()\n",
        "print()"
      ],
      "metadata": {
        "id": "VHrRCAUFL3tV"
      },
      "execution_count": null,
      "outputs": []
    },
    {
      "cell_type": "markdown",
      "source": [
        "## Reto 585:"
      ],
      "metadata": {
        "id": "waiNaoG1L3zp"
      }
    },
    {
      "cell_type": "code",
      "source": [
        "# Método 1\n",
        "def :\n",
        "    pass"
      ],
      "metadata": {
        "id": "H56FhgUnL3zp"
      },
      "execution_count": null,
      "outputs": []
    },
    {
      "cell_type": "code",
      "source": [
        "print()\n",
        "print()\n",
        "print()\n",
        "print()"
      ],
      "metadata": {
        "id": "cAZkIyvfL3zp"
      },
      "execution_count": null,
      "outputs": []
    },
    {
      "cell_type": "markdown",
      "source": [
        "## Reto 586:"
      ],
      "metadata": {
        "id": "t4yqCwAqL35p"
      }
    },
    {
      "cell_type": "code",
      "source": [
        "# Método 1\n",
        "def :\n",
        "    pass"
      ],
      "metadata": {
        "id": "pIiiWnaiL35p"
      },
      "execution_count": null,
      "outputs": []
    },
    {
      "cell_type": "code",
      "source": [
        "print()\n",
        "print()\n",
        "print()\n",
        "print()"
      ],
      "metadata": {
        "id": "a610MU9oL35p"
      },
      "execution_count": null,
      "outputs": []
    },
    {
      "cell_type": "markdown",
      "source": [
        "## Reto 587:"
      ],
      "metadata": {
        "id": "x6C1TjPaL3_-"
      }
    },
    {
      "cell_type": "code",
      "source": [
        "# Método 1\n",
        "def :\n",
        "    pass"
      ],
      "metadata": {
        "id": "XUQoZ9ReL3_-"
      },
      "execution_count": null,
      "outputs": []
    },
    {
      "cell_type": "code",
      "source": [
        "print()\n",
        "print()\n",
        "print()\n",
        "print()"
      ],
      "metadata": {
        "id": "TWyax5wnL3_-"
      },
      "execution_count": null,
      "outputs": []
    },
    {
      "cell_type": "markdown",
      "source": [
        "## Reto 588:"
      ],
      "metadata": {
        "id": "zBie26x6L4Gr"
      }
    },
    {
      "cell_type": "code",
      "source": [
        "# Método 1\n",
        "def :\n",
        "    pass"
      ],
      "metadata": {
        "id": "buUbN8SwL4Gr"
      },
      "execution_count": null,
      "outputs": []
    },
    {
      "cell_type": "code",
      "source": [
        "print()\n",
        "print()\n",
        "print()\n",
        "print()"
      ],
      "metadata": {
        "id": "r6qt-50EL4Gr"
      },
      "execution_count": null,
      "outputs": []
    },
    {
      "cell_type": "markdown",
      "source": [
        "## Reto 589:"
      ],
      "metadata": {
        "id": "u3S8YwmWL4Ns"
      }
    },
    {
      "cell_type": "code",
      "source": [
        "# Método 1\n",
        "def :\n",
        "    pass"
      ],
      "metadata": {
        "id": "kjHpn_3rL4Ns"
      },
      "execution_count": null,
      "outputs": []
    },
    {
      "cell_type": "code",
      "source": [
        "print()\n",
        "print()\n",
        "print()\n",
        "print()"
      ],
      "metadata": {
        "id": "lBLE97MwL4Ns"
      },
      "execution_count": null,
      "outputs": []
    },
    {
      "cell_type": "markdown",
      "source": [
        "## Reto 590:"
      ],
      "metadata": {
        "id": "c_paq_i4L4Uv"
      }
    },
    {
      "cell_type": "code",
      "source": [
        "# Método 1\n",
        "def :\n",
        "    pass"
      ],
      "metadata": {
        "id": "5eBRqnbEL4Uv"
      },
      "execution_count": null,
      "outputs": []
    },
    {
      "cell_type": "code",
      "source": [
        "print()\n",
        "print()\n",
        "print()\n",
        "print()"
      ],
      "metadata": {
        "id": "rUuQg2ZIL4Uv"
      },
      "execution_count": null,
      "outputs": []
    },
    {
      "cell_type": "markdown",
      "source": [
        "## Reto 591:"
      ],
      "metadata": {
        "id": "3w2wTJmWMJ-E"
      }
    },
    {
      "cell_type": "code",
      "source": [
        "# Método 1\n",
        "def :\n",
        "    pass"
      ],
      "metadata": {
        "id": "ajHrz-XxMJ-E"
      },
      "execution_count": null,
      "outputs": []
    },
    {
      "cell_type": "code",
      "source": [
        "print()\n",
        "print()\n",
        "print()\n",
        "print()"
      ],
      "metadata": {
        "id": "4RR98pcWMJ-E"
      },
      "execution_count": null,
      "outputs": []
    },
    {
      "cell_type": "markdown",
      "source": [
        "## Reto 592:"
      ],
      "metadata": {
        "id": "CtVXEJ_GMKEv"
      }
    },
    {
      "cell_type": "code",
      "source": [
        "# Método 1\n",
        "def :\n",
        "    pass"
      ],
      "metadata": {
        "id": "SV1DE57fMKEv"
      },
      "execution_count": null,
      "outputs": []
    },
    {
      "cell_type": "code",
      "source": [
        "print()\n",
        "print()\n",
        "print()\n",
        "print()"
      ],
      "metadata": {
        "id": "EbIacckFMKEv"
      },
      "execution_count": null,
      "outputs": []
    },
    {
      "cell_type": "markdown",
      "source": [
        "## Reto 593:"
      ],
      "metadata": {
        "id": "VZGtZ8s_MKK_"
      }
    },
    {
      "cell_type": "code",
      "source": [
        "# Método 1\n",
        "def :\n",
        "    pass"
      ],
      "metadata": {
        "id": "02-FMX0hMKLA"
      },
      "execution_count": null,
      "outputs": []
    },
    {
      "cell_type": "code",
      "source": [
        "print()\n",
        "print()\n",
        "print()\n",
        "print()"
      ],
      "metadata": {
        "id": "8S33i01kMKLA"
      },
      "execution_count": null,
      "outputs": []
    },
    {
      "cell_type": "markdown",
      "source": [
        "## Reto 594:"
      ],
      "metadata": {
        "id": "zNLzygsBMKRW"
      }
    },
    {
      "cell_type": "code",
      "source": [
        "# Método 1\n",
        "def :\n",
        "    pass"
      ],
      "metadata": {
        "id": "KeoLE6LyMKRW"
      },
      "execution_count": null,
      "outputs": []
    },
    {
      "cell_type": "code",
      "source": [
        "print()\n",
        "print()\n",
        "print()\n",
        "print()"
      ],
      "metadata": {
        "id": "M-f3lc_BMKRW"
      },
      "execution_count": null,
      "outputs": []
    },
    {
      "cell_type": "markdown",
      "source": [
        "## Reto 595:"
      ],
      "metadata": {
        "id": "IdhnocJpMKYC"
      }
    },
    {
      "cell_type": "code",
      "source": [
        "# Método 1\n",
        "def :\n",
        "    pass"
      ],
      "metadata": {
        "id": "LiajNLNhMKYC"
      },
      "execution_count": null,
      "outputs": []
    },
    {
      "cell_type": "code",
      "source": [
        "print()\n",
        "print()\n",
        "print()\n",
        "print()"
      ],
      "metadata": {
        "id": "d1yzMQbOMKYD"
      },
      "execution_count": null,
      "outputs": []
    },
    {
      "cell_type": "markdown",
      "source": [
        "## Reto 596:"
      ],
      "metadata": {
        "id": "M3Dg-qw6MKe2"
      }
    },
    {
      "cell_type": "code",
      "source": [
        "# Método 1\n",
        "def :\n",
        "    pass"
      ],
      "metadata": {
        "id": "h-QbzJJ1MKe2"
      },
      "execution_count": null,
      "outputs": []
    },
    {
      "cell_type": "code",
      "source": [
        "print()\n",
        "print()\n",
        "print()\n",
        "print()"
      ],
      "metadata": {
        "id": "oXwQiGaaMKe2"
      },
      "execution_count": null,
      "outputs": []
    },
    {
      "cell_type": "markdown",
      "source": [
        "## Reto 597:"
      ],
      "metadata": {
        "id": "Eiezcer_MKlv"
      }
    },
    {
      "cell_type": "code",
      "source": [
        "# Método 1\n",
        "def :\n",
        "    pass"
      ],
      "metadata": {
        "id": "3AhSpAG-MKlv"
      },
      "execution_count": null,
      "outputs": []
    },
    {
      "cell_type": "code",
      "source": [
        "print()\n",
        "print()\n",
        "print()\n",
        "print()"
      ],
      "metadata": {
        "id": "aBWYbZrZMKlv"
      },
      "execution_count": null,
      "outputs": []
    },
    {
      "cell_type": "markdown",
      "source": [
        "## Reto 598:"
      ],
      "metadata": {
        "id": "bkTxYt81MKsy"
      }
    },
    {
      "cell_type": "code",
      "source": [
        "# Método 1\n",
        "def :\n",
        "    pass"
      ],
      "metadata": {
        "id": "tA22AXAFMKsy"
      },
      "execution_count": null,
      "outputs": []
    },
    {
      "cell_type": "code",
      "source": [
        "print()\n",
        "print()\n",
        "print()\n",
        "print()"
      ],
      "metadata": {
        "id": "UVGu2kGHMKsy"
      },
      "execution_count": null,
      "outputs": []
    },
    {
      "cell_type": "markdown",
      "source": [
        "## Reto 599:"
      ],
      "metadata": {
        "id": "vVMdctYWMK0i"
      }
    },
    {
      "cell_type": "code",
      "source": [
        "# Método 1\n",
        "def :\n",
        "    pass"
      ],
      "metadata": {
        "id": "NsbwxY5KMK0i"
      },
      "execution_count": null,
      "outputs": []
    },
    {
      "cell_type": "code",
      "source": [
        "print()\n",
        "print()\n",
        "print()\n",
        "print()"
      ],
      "metadata": {
        "id": "-3OWKd6mMK0i"
      },
      "execution_count": null,
      "outputs": []
    },
    {
      "cell_type": "markdown",
      "source": [
        "## Reto 600:"
      ],
      "metadata": {
        "id": "z6Jwjp2UMK7L"
      }
    },
    {
      "cell_type": "code",
      "source": [
        "# Método 1\n",
        "def :\n",
        "    pass"
      ],
      "metadata": {
        "id": "6vtarPksMK7L"
      },
      "execution_count": null,
      "outputs": []
    },
    {
      "cell_type": "code",
      "source": [
        "print()\n",
        "print()\n",
        "print()\n",
        "print()"
      ],
      "metadata": {
        "id": "jk_KKqnbMK7L"
      },
      "execution_count": null,
      "outputs": []
    }
  ]
}