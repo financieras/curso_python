{
  "nbformat": 4,
  "nbformat_minor": 0,
  "metadata": {
    "colab": {
      "provenance": [],
      "authorship_tag": "ABX9TyPLz3u4F1KhDh0RDvN+kzdU",
      "include_colab_link": true
    },
    "kernelspec": {
      "name": "python3",
      "display_name": "Python 3"
    },
    "language_info": {
      "name": "python"
    }
  },
  "cells": [
    {
      "cell_type": "markdown",
      "metadata": {
        "id": "view-in-github",
        "colab_type": "text"
      },
      "source": [
        "<a href=\"https://colab.research.google.com/github/financieras/pySolutions/blob/main/retos/nivel03_soluciones.ipynb\" target=\"_parent\"><img src=\"https://colab.research.google.com/assets/colab-badge.svg\" alt=\"Open In Colab\"/></a>"
      ]
    },
    {
      "cell_type": "markdown",
      "source": [
        "## Reto 201: Moviendo hacia el final\n",
        "* Escriba una función que mueva todos los elementos de un tipo al final de la lista.\n",
        "* Mantenga el mismo orden de los elementos no movidos.\n",
        "* Ejemplos:\n",
        "    1. mover_al_final([1, 3, 2, 4, 4, 1], 1) ➞ [3, 2, 4, 4, 1, 1]\n",
        "    2. mover_al_final([7, 8, 9, 1, 2, 3, 4], 9) ➞ [7, 8, 1, 2, 3, 4, 9]\n",
        "    3. mover_al_final([\"a\", \"a\", \"a\", \"b\"], \"a\") ➞ [\"b\", \"a\", \"a\", \"a\"]"
      ],
      "metadata": {
        "id": "MsJfjrYxlM-z"
      }
    },
    {
      "cell_type": "code",
      "source": [
        "# Método 1\n",
        "def mover_al_final(lista, elemento):\n",
        "    for _ in range(lista.count(elemento)):\n",
        "        lista.remove(elemento)\n",
        "        lista.append(elemento)\n",
        "    return lista\n",
        "\n",
        "# Método 2\n",
        "def mover_al_final(lst, el):\n",
        "    inicio = []\n",
        "    final = []\n",
        "    for v in lst:\n",
        "        if v == el:\n",
        "            final.append(v)\n",
        "        else:\n",
        "            inicio.append(v)\n",
        "    return inicio + final\n",
        "\n",
        "# Método 3\n",
        "def mover_al_final(lst, el):\n",
        "    return [v for v in lst if v != el] + [v for v in lst if v == el]"
      ],
      "metadata": {
        "id": "epGgD5ZBlxbv"
      },
      "execution_count": null,
      "outputs": []
    },
    {
      "cell_type": "code",
      "source": [
        "print(mover_al_final([1, 3, 2, 4, 4, 1], 1))\n",
        "print(mover_al_final([7, 8, 9, 1, 2, 3, 4], 9))\n",
        "print(mover_al_final([\"a\", \"a\", \"a\", \"b\"], \"a\"))"
      ],
      "metadata": {
        "id": "g2h72saVmB4C",
        "outputId": "eb380dbb-a385-48a8-e6f0-6a24505d4fc7",
        "colab": {
          "base_uri": "https://localhost:8080/"
        }
      },
      "execution_count": null,
      "outputs": [
        {
          "output_type": "stream",
          "name": "stdout",
          "text": [
            "[3, 2, 4, 4, 1, 1]\n",
            "[7, 8, 1, 2, 3, 4, 9]\n",
            "['b', 'a', 'a', 'a']\n"
          ]
        }
      ]
    },
    {
      "cell_type": "markdown",
      "source": [
        "## Reto 202: Letras repetidas\n",
        "* Cree una función que tome una cadena y devuelva una cadena en la que cada carácter se repita una vez.\n",
        "* Ejemplos:\n",
        "    1. doble_caracter(\"String\") ➞ \"SSttrriinngg\"\n",
        "    2. doble_caracter(\"Hello World!\") ➞ \"HHeelllloo  WWoorrlldd!!\"\n",
        "    3. doble_caracter(\"1234!_ \") ➞ \"11223344!!__  \""
      ],
      "metadata": {
        "id": "uWeUMy9heiO8"
      }
    },
    {
      "cell_type": "code",
      "source": [
        "# Método 1\n",
        "def doble_caracter(cadena):\n",
        "    result = \"\"\n",
        "    for c in cadena:\n",
        "        result += c * 2\n",
        "    return result\n",
        "\n",
        "# Método 2\n",
        "def doble_caracter(cadena):\n",
        "    return ''.join(c * 2 for c in cadena)\n",
        "\n",
        "# Método 3\n",
        "def doble_caracter(cadena):\n",
        "    return ''.join(map(lambda c: c * 2, cadena))"
      ],
      "metadata": {
        "id": "7v_gwbtmel8e"
      },
      "execution_count": null,
      "outputs": []
    },
    {
      "cell_type": "code",
      "source": [
        "print(doble_caracter(\"String\"))\n",
        "print(doble_caracter(\"Hello World!\"))\n",
        "print(doble_caracter(\"1234!_ \"))"
      ],
      "metadata": {
        "id": "gXqg668qerfc",
        "outputId": "d3eee945-1b61-4230-dbf6-c12fbca3cf45",
        "colab": {
          "base_uri": "https://localhost:8080/"
        }
      },
      "execution_count": null,
      "outputs": [
        {
          "output_type": "stream",
          "name": "stdout",
          "text": [
            "SSttrriinngg\n",
            "HHeelllloo  WWoorrlldd!!\n",
            "11223344!!__  \n"
          ]
        }
      ]
    },
    {
      "cell_type": "markdown",
      "source": [
        "## Reto 203: Invertir el booleano\n",
        "* Cree una función que invierta un valor booleano.\n",
        "* Si se proporciona otro tipo de variable devolverá la cadena \"boolean expected\" (se esperaba un booleano).\n",
        "* Ejemplos:\n",
        "    1. inversa(True) ➞ False\n",
        "    2. inversa(False) ➞ True\n",
        "    3. inversa(0) ➞ \"boolean expected\"\n",
        "    4. inversa(None) ➞ \"boolean expected\""
      ],
      "metadata": {
        "id": "GPFhwTxdfBkH"
      }
    },
    {
      "cell_type": "code",
      "source": [
        "# Método 1\n",
        "def inversa(arg):\n",
        "    if type(arg) != bool:\n",
        "        return \"boolean expected\"\n",
        "    return not(arg)\n",
        "\n",
        "# Método 2\n",
        "def inversa(arg):\n",
        "    if isinstance(arg, bool):\n",
        "        return not arg\n",
        "    return \"boolean expected\"\n",
        "\n",
        "# Método 3\n",
        "def inversa(arg):\n",
        "    return not arg if isinstance(arg, bool) else \"boolean expected\""
      ],
      "metadata": {
        "id": "TuCwiPJwfBkR"
      },
      "execution_count": null,
      "outputs": []
    },
    {
      "cell_type": "code",
      "source": [
        "print(inversa(True))\n",
        "print(inversa(False))\n",
        "print(inversa(0))\n",
        "print(inversa(None))"
      ],
      "metadata": {
        "id": "aXZ7KZRdfBkR",
        "outputId": "8ef27194-ba18-4e9d-879f-9a743af04fa4",
        "colab": {
          "base_uri": "https://localhost:8080/"
        }
      },
      "execution_count": null,
      "outputs": [
        {
          "output_type": "stream",
          "name": "stdout",
          "text": [
            "False\n",
            "True\n",
            "boolean expected\n",
            "boolean expected\n"
          ]
        }
      ]
    },
    {
      "cell_type": "markdown",
      "source": [
        "## Reto 204: Doblar una hoja de papel\n",
        "* Cree una función que devuelva el grosor (en metros) de una hoja de papel después de doblarla `n` veces.\n",
        "* La variable `n` indica el número de dobleces o número de pliegues realizados en la hoja de papel.\n",
        "* El papel comienza con un espesor de 0,5 mm.\n",
        "* Ejemplos:\n",
        "    1. espesor(1) ➞ \"0.001m\"\n",
        "    2. espesor(4) ➞ \"0.008m\"\n",
        "    3. espesor(21) ➞ \"1048.576m\"\n",
        "* En un solo metro hay 1000mm.\n",
        "* No redondee las respuestas."
      ],
      "metadata": {
        "id": "U0-AbtqbfC7s"
      }
    },
    {
      "cell_type": "code",
      "source": [
        "# Método 1\n",
        "def espesor(n):\n",
        "    return str(2**n*.5/1_000) + 'm'"
      ],
      "metadata": {
        "id": "zQXFtNMofC7t"
      },
      "execution_count": null,
      "outputs": []
    },
    {
      "cell_type": "code",
      "source": [
        "print(espesor(1))\n",
        "print(espesor(4))\n",
        "print(espesor(21))"
      ],
      "metadata": {
        "id": "uWVc0T2TfC7t",
        "outputId": "913276ea-f21a-43f1-de4a-38f94691ce3b",
        "colab": {
          "base_uri": "https://localhost:8080/"
        }
      },
      "execution_count": null,
      "outputs": [
        {
          "output_type": "stream",
          "name": "stdout",
          "text": [
            "0.001m\n",
            "0.008m\n",
            "1048.576m\n"
          ]
        }
      ]
    },
    {
      "cell_type": "markdown",
      "source": [
        "## Reto 205: Retonar el índice de todas las letras mayúsculas\n",
        "* Cree una función que tome una sola cadena como argumento y devuelva una lista ordenada que contenga los índices de todas las letras mayúsculas de la cadena.\n",
        "* Ejemplos:\n",
        "    1. mayusculas_index(\"TroYa\") ➞ [0, 3]\n",
        "    2. mayusculas_index(\"QueVeDo\") ➞ [0, 3, 5]\n",
        "    3. mayusculas_index(\"anaximandro\") ➞ []\n",
        "    4. mayusculas_index(\"DELFOS\") ➞ [0, 1, 2, 3, 4, 5]\n",
        "    5. mayusculas_index(\"aNatema\") ➞ [1]"
      ],
      "metadata": {
        "id": "ElYl5LcdfIKd"
      }
    },
    {
      "cell_type": "code",
      "source": [
        "# Método 1\n",
        "def mayusculas_index(cadena):\n",
        "    lista = []\n",
        "    for i,c in enumerate(cadena):\n",
        "        if c == c.upper():\n",
        "            lista.append(i)\n",
        "    return lista\n",
        "\n",
        "# Método 2\n",
        "def mayusculas_index(cadena):\n",
        "    return [i for i,c in enumerate(cadena) if c.isupper()]"
      ],
      "metadata": {
        "id": "NqcbgS08fIKd"
      },
      "execution_count": null,
      "outputs": []
    },
    {
      "cell_type": "code",
      "source": [
        "print(mayusculas_index(\"TroYa\"))\n",
        "print(mayusculas_index(\"QueVeDo\"))\n",
        "print(mayusculas_index(\"anaximandro\"))\n",
        "print(mayusculas_index(\"DELFOS\"))\n",
        "print(mayusculas_index(\"aNatema\"))"
      ],
      "metadata": {
        "id": "KEBeM_PafIKe",
        "outputId": "3fdfff81-8478-4542-b868-b84b0116564c",
        "colab": {
          "base_uri": "https://localhost:8080/"
        }
      },
      "execution_count": null,
      "outputs": [
        {
          "output_type": "stream",
          "name": "stdout",
          "text": [
            "[0, 3]\n",
            "[0, 3, 5]\n",
            "[]\n",
            "[0, 1, 2, 3, 4, 5]\n",
            "[1]\n"
          ]
        }
      ]
    },
    {
      "cell_type": "markdown",
      "source": [
        "## Reto 206: Suma por recursión\n",
        "* Escriba una función que encuentre la suma de los primeros `n` números naturales.\n",
        "* Haga que su función sea recursiva.\n",
        "* Suponga que el número de entrada no es negativo.\n",
        "* Ejemplos:\n",
        "    1. suma(5) ➞ 15\n",
        "    2. suma(1) ➞ 1\n",
        "    3. suma(12) ➞ 78\n",
        "    4. suma(100) ➞ 5050"
      ],
      "metadata": {
        "id": "Ttj2ujRLfIWY"
      }
    },
    {
      "cell_type": "code",
      "source": [
        "# Método 1\n",
        "def suma(n):\n",
        "    if n == 0:\n",
        "        return 0\n",
        "    return n + suma(n-1)"
      ],
      "metadata": {
        "id": "v2MDmKaEfIWa"
      },
      "execution_count": null,
      "outputs": []
    },
    {
      "cell_type": "code",
      "source": [
        "print(suma(5))\n",
        "print(suma(1))\n",
        "print(suma(12))\n",
        "print(suma(100))"
      ],
      "metadata": {
        "id": "ZjqfaXcmfIWa",
        "outputId": "ec7b2cfc-84cc-42e7-a2c5-575e09c6cca1",
        "colab": {
          "base_uri": "https://localhost:8080/"
        }
      },
      "execution_count": null,
      "outputs": [
        {
          "output_type": "stream",
          "name": "stdout",
          "text": [
            "15\n",
            "1\n",
            "78\n",
            "5050\n"
          ]
        }
      ]
    },
    {
      "cell_type": "markdown",
      "source": [
        "## Reto 207: Generador de números pares\n",
        "* Usando *list comprehension*, cree una función que encuentre todos los números pares desde 1 hasta el número dado.\n",
        "* Ejemplos:\n",
        "    1. busca_pares(8) ➞ [2, 4, 6, 8]\n",
        "    2. busca_pares(5) ➞ [2, 4]\n",
        "    3. busca_pares(2) ➞ [2]\n",
        "    4. busca_pares(1) ➞ []"
      ],
      "metadata": {
        "id": "VQZtEbw9fIf5"
      }
    },
    {
      "cell_type": "code",
      "source": [
        "# Método 1\n",
        "def busca_pares(n):\n",
        "    return [i for i in range(1, n+1) if i % 2 == 0]\n",
        "\n",
        "# Método 2\n",
        "def busca_pares(n):\n",
        "    return [i+1 for i in range(n) if i % 2]"
      ],
      "metadata": {
        "id": "CRjBIdQWfIf5"
      },
      "execution_count": null,
      "outputs": []
    },
    {
      "cell_type": "code",
      "source": [
        "print(busca_pares(8))\n",
        "print(busca_pares(5))\n",
        "print(busca_pares(2))\n",
        "print(busca_pares(1))"
      ],
      "metadata": {
        "id": "0v-FjeQAfIf5",
        "colab": {
          "base_uri": "https://localhost:8080/"
        },
        "outputId": "2d1e55f1-889c-42cb-ef1f-e2aa97ff70c9"
      },
      "execution_count": null,
      "outputs": [
        {
          "output_type": "stream",
          "name": "stdout",
          "text": [
            "[2, 4, 6, 8]\n",
            "[2, 4]\n",
            "[2]\n",
            "[]\n"
          ]
        }
      ]
    },
    {
      "cell_type": "markdown",
      "source": [
        "## Reto 208: Filtrar las cadenas de un Array\n",
        "* Cree una función que tome una lista de cadenas y números enteros.\n",
        "* Filtre la lista para que devuelva solo una lista de números enteros.\n",
        "* Ejemplos:\n",
        "    1. filtrar_lista([1, 2, 3, \"a\", \"b\", 4]) ➞ [1, 2, 3, 4]\n",
        "    2. filtrar_lista([\"A\", 0, \"C++\", 1492, \"Python\", \"1787\"]) ➞ [0, 1787]\n",
        "    3. filtrar_lista([\"Nothing\", \"here\"]) ➞ []"
      ],
      "metadata": {
        "id": "NQFUHtjwfIpW"
      }
    },
    {
      "cell_type": "code",
      "source": [
        "# Método 1\n",
        "def filtrar_lista(lista):\n",
        "    return [e for e in lista if isinstance(e, int)]\n",
        "\n",
        "# Método 2\n",
        "def filtrar_lista(lista):\n",
        "    return [e for e in lista if type(e) != str]"
      ],
      "metadata": {
        "id": "DxYoCFjtfIpW"
      },
      "execution_count": null,
      "outputs": []
    },
    {
      "cell_type": "code",
      "source": [
        "print(filtrar_lista([1, 2, 3, \"a\", \"b\", 4]))\n",
        "print(filtrar_lista([\"A\", 0, \"C++\", 1492, \"Python\", \"1787\"]))\n",
        "print(filtrar_lista([\"Nothing\", \"here\"]))"
      ],
      "metadata": {
        "id": "F9PXOFFQfIpW",
        "colab": {
          "base_uri": "https://localhost:8080/"
        },
        "outputId": "605e6611-9e68-415a-abdc-27b9473b4a4b"
      },
      "execution_count": null,
      "outputs": [
        {
          "output_type": "stream",
          "name": "stdout",
          "text": [
            "[1, 2, 3, 4]\n",
            "[0, 1492]\n",
            "[]\n"
          ]
        }
      ]
    },
    {
      "cell_type": "markdown",
      "source": [
        "## Reto 209: Suma el índice\n",
        "* Dada una lista de números, cree una función que devuelva la lista pero con el índice de cada elemento de la lista agregado a sí mismo.\n",
        "* Esto significa que suma 0 al número en el índice 0, suma 1 al número en el índice 1, etc.\n",
        "* Ejemplos:\n",
        "    1. suma_indices([0, 0, 0, 0, 0]) ➞ [0, 1, 2, 3, 4]\n",
        "    2. suma_indices([1, 2, 3, 4, 5]) ➞ [1, 3, 5, 7, 9]\n",
        "    3. suma_indices([5, 4, 3, 2, 1]) ➞ [5, 5, 5, 5, 5]"
      ],
      "metadata": {
        "id": "ykRwKlIifI0Q"
      }
    },
    {
      "cell_type": "code",
      "source": [
        "# Método 1\n",
        "def suma_indices(lista):\n",
        "    return [i+v for i,v in enumerate(lista)]"
      ],
      "metadata": {
        "id": "Td5MKlIBfI0R"
      },
      "execution_count": null,
      "outputs": []
    },
    {
      "cell_type": "code",
      "source": [
        "print(suma_indices([0, 0, 0, 0, 0]))\n",
        "print(suma_indices([1, 2, 3, 4, 5]))\n",
        "print(suma_indices([5, 4, 3, 2, 1]))"
      ],
      "metadata": {
        "id": "l9b4KCFVfI0R",
        "colab": {
          "base_uri": "https://localhost:8080/"
        },
        "outputId": "d83f39a5-a6e6-43fe-ad58-d8f565e4d10a"
      },
      "execution_count": null,
      "outputs": [
        {
          "output_type": "stream",
          "name": "stdout",
          "text": [
            "[0, 1, 2, 3, 4]\n",
            "[1, 3, 5, 7, 9]\n",
            "[5, 5, 5, 5, 5]\n"
          ]
        }
      ]
    },
    {
      "cell_type": "markdown",
      "source": [
        "## Reto 210: Probabilidades\n",
        "* Dada una lista de números y un valor `n`, escriba una función que devuelva la probabilidad de elegir un número mayor o igual a `n` de la lista.\n",
        "* La probabilidad debe expresarse como porcentaje, redondeado a un decimal.\n",
        "* Probabilidad del evento = 100 * (número de resultados favorables) / (número total de resultados posibles)\n",
        "* Los números de la lista están distribuidos uniformemente y tienen las mismas posibilidades de ser elegidos.\n",
        "* Ejemplos:\n",
        "    1. probabilidad([5, 1, 8, 9], 6) ➞ 50.0%\n",
        "    2. probabilidad([7, 4, 17, 14, 12, 3], 16) ➞ 16.7%\n",
        "    3. probabilidad([4, 6, 2, 9, 15, 18, 8, 2, 10, 8], 6) ➞ 70.0%"
      ],
      "metadata": {
        "id": "8Aa9VkXUfI-H"
      }
    },
    {
      "cell_type": "code",
      "source": [
        "# Método 1\n",
        "def probabilidad(lista, n):\n",
        "    favorables = sum(1 for e in lista if e >= n)\n",
        "    posibles = len(lista)\n",
        "    probabilidad = 100 * favorables / posibles\n",
        "    return str(round(probabilidad, 1)) + \"%\"\n",
        "\n",
        "# Método 2. Usando map\n",
        "def probabilidad(lista, n):\n",
        "    resultados_favorables = sum(map(lambda x: x >= n, lista))\n",
        "    total_resultados = len(lista)\n",
        "    probabilidad = (resultados_favorables / total_resultados) * 100\n",
        "    return f\"{round(probabilidad, 1)}%\"\n",
        "\n",
        "# Método 3. Usando filter\n",
        "def probabilidad(lista, n):\n",
        "    favorables = len(list(filter(lambda x: x >= n, lista)))\n",
        "    posibles = len(lista)\n",
        "    probabilidad = favorables / posibles\n",
        "    return f\"{probabilidad:.1%}\""
      ],
      "metadata": {
        "id": "Bp7dYXS6fI-H"
      },
      "execution_count": null,
      "outputs": []
    },
    {
      "cell_type": "code",
      "source": [
        "print(probabilidad([5, 1, 8, 9], 6))\n",
        "print(probabilidad([7, 4, 17, 14, 12, 3], 16))\n",
        "print(probabilidad([4, 6, 2, 9, 15, 18, 8, 2, 10, 8], 6))"
      ],
      "metadata": {
        "id": "d1TY7wfhfI-H",
        "colab": {
          "base_uri": "https://localhost:8080/"
        },
        "outputId": "33de2852-c044-4d6b-df0f-eccd69f138d6"
      },
      "execution_count": null,
      "outputs": [
        {
          "output_type": "stream",
          "name": "stdout",
          "text": [
            "50.0%\n",
            "16.7%\n",
            "70.0%\n"
          ]
        }
      ]
    },
    {
      "cell_type": "markdown",
      "source": [
        "## Reto 211: Secuencia numérica triangular\n",
        "* Esta secuencia numérica triangular se genera a partir de un patrón de puntos que forman un triángulo.\n",
        "* Los primeros números de la secuencia, o puntos, son:\n",
        "    - 1, 3, 6, 10, 15, 21, 28, 36, 45, 55, 66, 78, 91, 105, 120, 136, 153, 171, 190, 210, 231, 253, 276, 300,, ...\n",
        "* Esto significa que el primer triángulo tiene solo un punto, el segundo tiene tres puntos, el tercero tiene 6 puntos y así sucesivamente.\n",
        "\n",
        "<img src='https://upload.wikimedia.org/wikipedia/commons/3/33/N%C3%BAmeros_triangulares.png' alt='image from wikipedia' height='350px'>\n",
        "\n",
        "* Escriba una función que devuelva el número de puntos cuando se le da el número de triángulo correspondiente de la secuencia.\n",
        "* [Triangular Number Sequence](https://www.mathsisfun.com/algebra/triangular-numbers.html)\n",
        "* [Triangular Numbers | Formula, List & Examples](https://study.com/learn/lesson/triangular-numbers-formula-list.html)\n",
        "* [Número triangular](https://es.wikipedia.org/wiki/N%C3%BAmero_triangular)\n",
        "* [Python | Handling recursion limit](https://www.geeksforgeeks.org/python-handling-recursion-limit/)\n",
        "* Ejemplos:\n",
        "    1. triangulo(1) ➞ 1\n",
        "    2. triangulo(6) ➞ 21\n",
        "    3. triangulo(215) ➞ 23220"
      ],
      "metadata": {
        "id": "wNYjZ3jGfJHO"
      }
    },
    {
      "cell_type": "code",
      "source": [
        "# Método 1. Fórmula\n",
        "def triangulo(n):\n",
        "    return int((n+1)*n/2)\n",
        "\n",
        "# Método 2. Acumulando\n",
        "def triangulo(n):\n",
        "    total = 0\n",
        "    for i in range(n):\n",
        "        total += i+1\n",
        "    return total\n",
        "\n",
        "# Método 3. Recursividad\n",
        "def triangulo(n):\n",
        "    if n == 1:\n",
        "        return 1\n",
        "    return n + triangulo(n-1)\n",
        "\n",
        "# Método 4. Recursividad y memoización\n",
        "def triangulo(n, memo=[0]):\n",
        "    if n < len(memo):\n",
        "        return memo[n]\n",
        "    else:\n",
        "        while len(memo) <= n:\n",
        "            memo.append(len(memo) + memo[-1])\n",
        "        return memo[n]"
      ],
      "metadata": {
        "id": "c4G61eI-fJHO"
      },
      "execution_count": null,
      "outputs": []
    },
    {
      "cell_type": "code",
      "source": [
        "print(triangulo(1))\n",
        "print(triangulo(6))\n",
        "print(triangulo(215))"
      ],
      "metadata": {
        "id": "f8btIu62fJHP",
        "outputId": "0d4f22f2-f3eb-4a61-daa1-4a659f358381",
        "colab": {
          "base_uri": "https://localhost:8080/"
        }
      },
      "execution_count": null,
      "outputs": [
        {
          "output_type": "stream",
          "name": "stdout",
          "text": [
            "1\n",
            "21\n",
            "23220\n"
          ]
        }
      ]
    },
    {
      "cell_type": "markdown",
      "source": [
        "## Reto 212: Buscar el número perdido\n",
        "* Cree una función que tome una lista de números entre 1 y 10 (excluyendo un número) y devuelva el número faltante.\n",
        "* La lista de números estará desordenada.\n",
        "* Sólo faltará un número.\n",
        "* Ejemplos:\n",
        "    1. numero_perdido([1, 2, 3, 4, 6, 7, 8, 9, 10]) ➞ 5\n",
        "    2. numero_perdido([7, 2, 3, 6, 5, 9, 1, 4, 8]) ➞ 10\n",
        "    3. numero_perdido([10, 5, 1, 2, 4, 6, 8, 3, 9]) ➞ 7"
      ],
      "metadata": {
        "id": "mn_6lWcDfJQC"
      }
    },
    {
      "cell_type": "code",
      "source": [
        "# Método 1\n",
        "def numero_perdido(lista):\n",
        "    for i in range(1, 11):\n",
        "        if i not in lista:\n",
        "            return i\n",
        "\n",
        "# Método 2\n",
        "def numero_perdido(lista):\n",
        "    numeros_completos = set(range(1, 11))  # Conjunto de números del 1 al 10\n",
        "    numeros_presentes = set(lista)  # Conjunto de números presentes en la lista\n",
        "    numero_faltante = numeros_completos - numeros_presentes  # Realiza la diferencia de conjuntos\n",
        "    return numero_faltante.pop()  # Devuelve el único elemento faltante\n",
        "\n",
        "# Método 3\n",
        "def numero_perdido(lista):\n",
        "    suma_total = sum(range(1, 11))  # Suma de los números del 1 al 10\n",
        "    suma_lista = sum(lista)  # Suma de los números presentes en la lista\n",
        "    numero_faltante = suma_total - suma_lista  # Encuentra el número faltante\n",
        "    return numero_faltante"
      ],
      "metadata": {
        "id": "1XEzshecfJQD"
      },
      "execution_count": null,
      "outputs": []
    },
    {
      "cell_type": "code",
      "source": [
        "print(numero_perdido([1, 2, 3, 4, 6, 7, 8, 9, 10]))\n",
        "print(numero_perdido([7, 2, 3, 6, 5, 9, 1, 4, 8]))\n",
        "print(numero_perdido([10, 5, 1, 2, 4, 6, 8, 3, 9]))"
      ],
      "metadata": {
        "id": "sTRtZnsbfJQD",
        "colab": {
          "base_uri": "https://localhost:8080/"
        },
        "outputId": "b777a40c-cd7f-497f-b483-dd53a5833cc8"
      },
      "execution_count": null,
      "outputs": [
        {
          "output_type": "stream",
          "name": "stdout",
          "text": [
            "5\n",
            "10\n",
            "7\n"
          ]
        }
      ]
    },
    {
      "cell_type": "markdown",
      "source": [
        "## Reto 213: Siguiente en la cola\n",
        "* Escribe una función que tome una lista y un número como argumentos.\n",
        "* Agregue el número al final de la lista, luego elimine el primer elemento de la lista.\n",
        "* La función debería entonces devolver la lista actualizada.\n",
        "* Ejemplos:\n",
        "    1. siguente_en_la_cola([0, 1, 2, 3, 4], 5) ➞ [1, 2, 3, 4, 5]\n",
        "    2. siguente_en_la_cola([10, 8, 6, 4], 2) ➞ [8, 6, 4, 2]\n",
        "    3. siguente_en_la_cola([1, 10, 20, 30 ], 40) ➞ [10, 20, 30, 40]\n",
        "    4. siguente_en_la_cola([], 6) ➞ \"No hay lista\"\n",
        "    5. siguente_en_la_cola([4], 6) ➞ [6]\n",
        "\n",
        "* Para una entrada de lista vacía, devuelva: \"No hay lista\""
      ],
      "metadata": {
        "id": "ij-2vckpfJZE"
      }
    },
    {
      "cell_type": "code",
      "source": [
        "# Método 1. Con append y pop(0)\n",
        "def siguente_en_la_cola(lista, num):\n",
        "    if lista:\n",
        "        lista.append(num)\n",
        "        lista.pop(0)        # usando pop\n",
        "        return lista\n",
        "    return \"No hay lista\"\n",
        "\n",
        "# Método 2. Usando: del lista[0]\n",
        "def siguente_en_la_cola(lista, num):\n",
        "    if lista:\n",
        "        lista.append(num)\n",
        "        del lista[0]        # usando del\n",
        "        return lista\n",
        "    return \"No hay lista\"\n",
        "\n",
        "# Método 3. Usando slicing y uniendo dos listas con +\n",
        "def siguiente_en_la_cola(lista, numero):\n",
        "    if not lista:\n",
        "        return \"No hay lista\"\n",
        "    return lista[1:] + [numero]\n",
        "\n",
        "# Método 4. Con filter\n",
        "def siguiente_en_la_cola(lista, numero):\n",
        "    if not lista:\n",
        "        return \"No hay lista\"\n",
        "    lista = list(filter(lambda x: lista.index(x) != 0, lista))\n",
        "    lista.append(numero)\n",
        "    return lista\n",
        "\n",
        "# Método 5. Con librería usando el método deque\n",
        "from collections import deque\n",
        "\n",
        "def siguiente_en_la_cola(lista, numero):\n",
        "    if not lista:\n",
        "        return \"No hay lista\"\n",
        "    cola = deque(lista)\n",
        "    cola.append(numero)\n",
        "    cola.popleft()\n",
        "    return list(cola)"
      ],
      "metadata": {
        "id": "XpqIVGtafJZF"
      },
      "execution_count": null,
      "outputs": []
    },
    {
      "cell_type": "code",
      "source": [
        "print(siguente_en_la_cola([0, 1, 2, 3, 4], 5))\n",
        "print(siguente_en_la_cola([10, 8, 6, 4], 2))\n",
        "print(siguente_en_la_cola([1, 10, 20, 30 ], 40))\n",
        "print(siguente_en_la_cola([], 6))\n",
        "print(siguente_en_la_cola([4], 6))"
      ],
      "metadata": {
        "id": "M8rZNexbfJZF",
        "colab": {
          "base_uri": "https://localhost:8080/"
        },
        "outputId": "fc255b0d-4067-4b82-b04c-8ac33dd340a0"
      },
      "execution_count": null,
      "outputs": [
        {
          "output_type": "stream",
          "name": "stdout",
          "text": [
            "[1, 2, 3, 4, 5]\n",
            "[8, 6, 4, 2]\n",
            "[10, 20, 30, 40]\n",
            "No hay lista\n",
            "[6]\n"
          ]
        }
      ]
    },
    {
      "cell_type": "markdown",
      "source": [
        "## Reto 214: Suma de los presupuestos de la gente\n",
        "* Crea la función que toma una lista de diccionarios y devuelve la suma de los presupuestos de las personas.\n",
        "* Ejemplos:\n",
        "    1. suma_presupuestos([\n",
        "  {\"name\": \"John\", \"age\": 21, \"budget\": 23000},\n",
        "  {\"name\": \"Steve\", \"age\": 32, \"budget\": 40000},\n",
        "  {\"name\": \"Martin\", \"age\": 16, \"budget\": 2700}\n",
        "]) ➞ 65700\n",
        "    2. suma_presupuestos([\n",
        "  {\"name\": \"John\", \"age\": 21, \"budget\": 29000},\n",
        "  {\"name\": \"Steve\", \"age\": 32, \"budget\": 32000},\n",
        "  {\"name\": \"Martin\", \"age\": 16, \"budget\": 1600}\n",
        "]) ➞ 62600"
      ],
      "metadata": {
        "id": "c-z1iyS2fJhk"
      }
    },
    {
      "cell_type": "code",
      "source": [
        "# Método 1\n",
        "def suma_presupuestos(lista):\n",
        "    total = 0\n",
        "    for d in lista:\n",
        "        total += d['budget']\n",
        "    return total\n",
        "\n",
        "# Método 2\n",
        "def suma_presupuestos(personas):\n",
        "    return sum(persona['budget'] for persona in personas)\n",
        "\n",
        "# Método 3\n",
        "def suma_presupuestos(lista):\n",
        "    return sum(map(lambda persona: persona['budget'], lista))\n",
        "\n",
        "# Método 4. Con librería usando el método reduce\n",
        "from functools import reduce\n",
        "\n",
        "def totaliza_presupuestos(total, persona):\n",
        "    return total + persona['budget']\n",
        "\n",
        "def suma_presupuestos(lista):\n",
        "    return reduce(totaliza_presupuestos, lista)"
      ],
      "metadata": {
        "id": "Bxo1PmQVfJhl"
      },
      "execution_count": null,
      "outputs": []
    },
    {
      "cell_type": "code",
      "source": [
        "lista1 = [{\"name\": \"John\", \"age\": 21, \"budget\": 23000}, {\"name\": \"Steve\", \"age\": 32, \"budget\": 40000}, {\"name\": \"Martin\", \"age\": 16, \"budget\": 2700}]\n",
        "lista2 = [{\"name\": \"John\", \"age\": 21, \"budget\": 29000}, {\"name\": \"Steve\", \"age\": 32, \"budget\": 32000}, {\"name\": \"Martin\", \"age\": 16, \"budget\": 1600}]\n",
        "print(suma_presupuestos(lista1))\n",
        "print(suma_presupuestos(lista2))"
      ],
      "metadata": {
        "id": "Zq3bDjnzfJhl",
        "colab": {
          "base_uri": "https://localhost:8080/"
        },
        "outputId": "31c61dc7-9154-42a3-8312-46942d20a396"
      },
      "execution_count": null,
      "outputs": [
        {
          "output_type": "stream",
          "name": "stdout",
          "text": [
            "65700\n",
            "62600\n"
          ]
        }
      ]
    },
    {
      "cell_type": "markdown",
      "source": [
        "## Reto 215: Sopa de letras\n",
        "* Cree una función que tome una cadena y devuelva una cadena con sus letras en orden alfabético.\n",
        "* Ejemplos:\n",
        "    1. sopa_de_letras(\"hello\") ➞ \"ehllo\"\n",
        "    2. sopa_de_letras(\"hacker\") ➞ \"acehkr\"\n",
        "    4. sopa_de_letras(\"geek\") ➞ \"eegk\"\n",
        "    5. sopa_de_letras(\"javascript\") ➞ \"aacijprstv\""
      ],
      "metadata": {
        "id": "DwNCH8TLfJqw"
      }
    },
    {
      "cell_type": "code",
      "source": [
        "# Método 1\n",
        "def sopa_de_letras(palabra):\n",
        "    lista = list(palabra)\n",
        "    lista.sort()\n",
        "    return ''.join(lista)\n",
        "\n",
        "# Método 2\n",
        "def sopa_de_letras(cadena):\n",
        "    return ''.join(sorted(cadena))"
      ],
      "metadata": {
        "id": "DKTCcdN9fJqx"
      },
      "execution_count": null,
      "outputs": []
    },
    {
      "cell_type": "code",
      "source": [
        "print(sopa_de_letras(\"hello\"))\n",
        "print(sopa_de_letras(\"hacker\"))\n",
        "print(sopa_de_letras(\"geek\"))\n",
        "print(sopa_de_letras(\"javascript\"))"
      ],
      "metadata": {
        "id": "yN8yi9cUfJqx",
        "outputId": "c9d0bdb1-91ba-4f41-b7b1-605946b20df3",
        "colab": {
          "base_uri": "https://localhost:8080/"
        }
      },
      "execution_count": null,
      "outputs": [
        {
          "output_type": "stream",
          "name": "stdout",
          "text": [
            "ehllo\n",
            "acehkr\n",
            "eegk\n",
            "aacijprstv\n"
          ]
        }
      ]
    },
    {
      "cell_type": "markdown",
      "source": [
        "## Reto 216: Clonar una Lista\n",
        "* Tenemos un código que intenta agregarse un clon de una lista a sí misma.\n",
        "* No aparece ningún mensaje de error, pero los resultados no son los esperados.\n",
        "* ¿Puede arreglar el código?\n",
        "* Este es el código que no logra el objetivo que pretendemos:\n",
        "\n",
        "```python\n",
        "def clonar(lista):\n",
        "\tlista.append(lista)\n",
        "\treturn lista\n",
        "```\n",
        "\n",
        "* Ejemplos:\n",
        "    1. clonar([1, 1]) ➞ [1, 1, [1, 1]]\n",
        "    2. clonar([1, 2, 3]) ➞ [1, 2, 3, [1, 2, 3]]\n",
        "    3. clonar([\"x\", \"y\"]) ➞ [\"x\", \"y\", [\"x\", \"y\"]]"
      ],
      "metadata": {
        "id": "uQhvkDszfJy5"
      }
    },
    {
      "cell_type": "code",
      "source": [
        "# Método 1\n",
        "def clonar(lista):\n",
        "\tlista.append(lista[:])\n",
        "\treturn lista\n",
        "\n",
        "# Método 2\n",
        "def clonar(lista):\n",
        "    copia_lista = lista.copy()\n",
        "    lista.append(copia_lista)\n",
        "    return lista"
      ],
      "metadata": {
        "id": "vGrqB1PWfJy5"
      },
      "execution_count": null,
      "outputs": []
    },
    {
      "cell_type": "code",
      "source": [
        "print(clonar([1, 1]))\n",
        "print(clonar([1, 2, 3]))\n",
        "print(clonar([\"x\", \"y\"]))"
      ],
      "metadata": {
        "id": "GeLlvRGJfJy6",
        "outputId": "5f8e5b56-3d8c-4b5a-d44b-60d76d492c47",
        "colab": {
          "base_uri": "https://localhost:8080/"
        }
      },
      "execution_count": null,
      "outputs": [
        {
          "output_type": "stream",
          "name": "stdout",
          "text": [
            "[1, 1, [1, 1]]\n",
            "[1, 2, 3, [1, 2, 3]]\n",
            "['x', 'y', ['x', 'y']]\n"
          ]
        }
      ]
    },
    {
      "cell_type": "markdown",
      "source": [
        "## Reto 217: Contar cartas en BlackJack\n",
        "* En algunos casinos te expulsan si se enteran que estás contando cartas en BlackJack.\n",
        "* En BlackJack, las cartas se cuentan con valores -1, 0, 1:\n",
        "    - 2, 3, 4, 5, 6 se cuentan como +1\n",
        "    - 7, 8, 9 se cuentan como 0\n",
        "    - 10, J, Q, K, A se cuentan como -1\n",
        "* Cree una función que cuente el número y lo devuelva de la lista de cartas proporcionada.\n",
        "* Ejemplos:\n",
        "    1. contar([5, 9, 10, 3, \"J\", \"A\", 4, 8, 5]) ➞ 1\n",
        "    2. contar([\"A\", \"A\", \"K\", \"Q\", \"Q\", \"J\"]) ➞ -6\n",
        "    3. contar([\"A\", 5, 5, 2, 6, 2, 3, 8, 9, 7]) ➞ 5"
      ],
      "metadata": {
        "id": "vbl_p8AGfJ8S"
      }
    },
    {
      "cell_type": "code",
      "source": [
        "# Método 1\n",
        "def contar(lista):\n",
        "    total = 0\n",
        "    for carta in lista:\n",
        "        if carta in [2,3,4,5,6]:\n",
        "            total += 1\n",
        "        elif carta in [10, 'J', 'Q', 'K', 'A']:\n",
        "            total -= 1\n",
        "    return total\n",
        "\n",
        "# Método 2\n",
        "def contar(lista):\n",
        "    positivos = [2, 3, 4, 5, 6]\n",
        "    negativos = [10, 'J', 'Q', 'K', 'A']\n",
        "    total = 0\n",
        "    for carta in lista:\n",
        "        total += 1 if carta in positivos else (-1 if carta in negativos else 0)\n",
        "    return total\n",
        "\n",
        "# Método 3\n",
        "def contar(cartas):\n",
        "    valores = {'2': 1, '3': 1, '4': 1, '5': 1, '6': 1, '7': 0, '8': 0, '9': 0, '10': -1, 'J': -1, 'Q': -1, 'K': -1, 'A': -1}\n",
        "    total = 0\n",
        "    for carta in cartas:\n",
        "        if isinstance(carta, int):\n",
        "            total += valores[str(carta)]\n",
        "        else:\n",
        "            total += valores[carta]\n",
        "    return total\n",
        "\n",
        "# Método 4\n",
        "def contar(cartas):\n",
        "    valores_positivos = ['2', '3', '4', '5', '6']\n",
        "    valores_neutros = ['7', '8', '9']\n",
        "    valores_negativos = ['10', 'J', 'Q', 'K', 'A']\n",
        "    total = 0\n",
        "    for carta in cartas:\n",
        "        if str(carta) in valores_positivos:\n",
        "            total += 1\n",
        "        elif str(carta) in valores_neutros:\n",
        "            total += 0\n",
        "        elif str(carta) in valores_negativos:\n",
        "            total -= 1\n",
        "    return total\n",
        "\n",
        "# Método 5\n",
        "def contar(cartas):\n",
        "    valores = {'2': 1, '3': 1, '4': 1, '5': 1, '6': 1, '7': 0, '8': 0, '9': 0, '10': -1, 'J': -1, 'Q': -1, 'K': -1, 'A': -1}\n",
        "    def asignar_valor(carta):\n",
        "        if isinstance(carta, int):\n",
        "            return valores[str(carta)]\n",
        "        else:\n",
        "            return valores[carta]\n",
        "    valores_cartas = map(asignar_valor, cartas)\n",
        "    return sum(valores_cartas)\n",
        "\n",
        "# Método 6\n",
        "def contar(cartas):\n",
        "    valores = {'2': 1, '3': 1, '4': 1, '5': 1, '6': 1, '7': 0, '8': 0, '9': 0, '10': -1, 'J': -1, 'Q': -1, 'K': -1, 'A': -1}\n",
        "    total = sum(valores.get(str(carta), 0) for carta in cartas)\n",
        "    return total\n",
        "\n",
        "# Método 7\n",
        "def contar(cartas):\n",
        "    valores = {'2': 1, '3': 1, '4': 1, '5': 1, '6': 1, '7': 0, '8': 0, '9': 0, '10': -1, 'J': -1, 'Q': -1, 'K': -1, 'A': -1}\n",
        "    total = 0\n",
        "    for carta in cartas:\n",
        "        valor_carta = valores.get(str(carta), 0)\n",
        "        total += valor_carta\n",
        "    return total"
      ],
      "metadata": {
        "id": "O-fAk2G1fJ8T"
      },
      "execution_count": null,
      "outputs": []
    },
    {
      "cell_type": "code",
      "source": [
        "print(contar([5, 9, 10, 3, \"J\", \"A\", 4, 8, 5]))\n",
        "print(contar([\"A\", \"A\", \"K\", \"Q\", \"Q\", \"J\"]))\n",
        "print(contar([\"A\", 5, 5, 2, 6, 2, 3, 8, 9, 7]))\n",
        "print(contar([]))"
      ],
      "metadata": {
        "id": "CR_b5BX8fJ8T",
        "outputId": "998b76c1-15bb-4ca5-d1f5-e99ac388ec37",
        "colab": {
          "base_uri": "https://localhost:8080/"
        }
      },
      "execution_count": null,
      "outputs": [
        {
          "output_type": "stream",
          "name": "stdout",
          "text": [
            "1\n",
            "-6\n",
            "5\n",
            "0\n"
          ]
        }
      ]
    },
    {
      "cell_type": "markdown",
      "source": [
        "## Reto 218: Validación del PIN del cajero automético\n",
        "* Los cajeros automáticos (ATM) permiten códigos PIN de 4 o 6 dígitos numéricos y los códigos PIN no pueden contener nada más que exactamente 4 dígitos o exactamente 6 dígitos.\n",
        "* Su tarea es crear una función que tome una cadena y devuelva `True` si el PIN es válido y `False` si no lo es.\n",
        "* Ejemplos:\n",
        "    1. pin_valido(\"1234\") ➞ True\n",
        "    2. pin_valido(\"123456\") ➞ True\n",
        "    3. pin_valido(\"12345\") ➞ False\n",
        "    4. pin_valido(\"a234\") ➞ False\n",
        "    5. pin_valido(\"\") ➞ False"
      ],
      "metadata": {
        "id": "4o5BZHydfKGM"
      }
    },
    {
      "cell_type": "code",
      "source": [
        "# Método 1\n",
        "def pin_valido(pin):\n",
        "    return (len(pin) == 4 or len(pin) == 6) and pin.isdigit()\n",
        "\n",
        "# Método 2\n",
        "def pin_valido(pin):\n",
        "    return (len(pin) in (4, 6)) and all(c.isdigit() for c in pin)\n",
        "\n",
        "# Método 3\n",
        "def pin_valido(pin):\n",
        "    if len(pin) == 4 or len(pin) == 6:\n",
        "        for char in pin:\n",
        "            if not ('0' <= char <= '9'):\n",
        "                return False\n",
        "        return True\n",
        "    return False"
      ],
      "metadata": {
        "id": "Wz8YrAidfKGN"
      },
      "execution_count": null,
      "outputs": []
    },
    {
      "cell_type": "code",
      "source": [
        "print(pin_valido(\"1234\"))\n",
        "print(pin_valido(\"123456\"))\n",
        "print(pin_valido(\"12345\"))\n",
        "print(pin_valido(\"a234\"))\n",
        "print(pin_valido(\"\"))"
      ],
      "metadata": {
        "id": "D8DtHr1XfKGN",
        "outputId": "daf87d8f-c1e9-4a03-c08c-c823d091d8fc",
        "colab": {
          "base_uri": "https://localhost:8080/"
        }
      },
      "execution_count": null,
      "outputs": [
        {
          "output_type": "stream",
          "name": "stdout",
          "text": [
            "True\n",
            "True\n",
            "False\n",
            "False\n",
            "False\n"
          ]
        }
      ]
    },
    {
      "cell_type": "markdown",
      "source": [
        "## Reto 219: Devolver solo los números enteros\n",
        "* Escriba una función que tome una lista de elementos y devuelva solo los números enteros.\n",
        "* Ejemplos:\n",
        "    1. solo_enteros([9, 2, \"luna\", \"tierra\", \"marte\", 16]) ➞ [9, 2, 16]\n",
        "    2. solo_enteros([\"Java\", 81, \"Python\", 123, \"C++\"]) ➞ [81, 123]\n",
        "    3. solo_enteros([10, \"121\", 56, 20, \"grafo\", 3, \"árbol\"]) ➞ [10, 56, 20, 3]\n",
        "    4. solo_enteros([\"string\",  True,  3.3,  1, -False]) ➞ [1, 0]"
      ],
      "metadata": {
        "id": "27XZlDqEfKOu"
      }
    },
    {
      "cell_type": "code",
      "source": [
        "# Método 1\n",
        "def solo_enteros(lista):\n",
        "    return [i for i in lista if type(i) == int]\n",
        "\n",
        "# Método 2\n",
        "def solo_enteros(lista):\n",
        "    return list(filter(lambda x: type(x) == int, lista))"
      ],
      "metadata": {
        "id": "loH7Kc46fKOu"
      },
      "execution_count": null,
      "outputs": []
    },
    {
      "cell_type": "code",
      "source": [
        "print(solo_enteros([9, 2, \"luna\", \"tierra\", \"marte\", 16]))\n",
        "print(solo_enteros([\"Java\", 81, \"Python\", 123, \"C++\"]))\n",
        "print(solo_enteros([10, \"121\", 56, 20, \"grafo\", 3, \"árbol\"]))\n",
        "print(solo_enteros([\"string\", True, 3.3, 1, -False]))"
      ],
      "metadata": {
        "id": "9AXF9H69fKOu",
        "outputId": "72bc7672-01cf-4997-91fd-dc7fc94d4510",
        "colab": {
          "base_uri": "https://localhost:8080/"
        }
      },
      "execution_count": null,
      "outputs": [
        {
          "output_type": "stream",
          "name": "stdout",
          "text": [
            "[9, 2, 16]\n",
            "[81, 123]\n",
            "[10, 56, 20, 3]\n",
            "[1, 0]\n"
          ]
        }
      ]
    },
    {
      "cell_type": "markdown",
      "source": [
        "## Reto 220: Usuarios en la Sala de Chat\n",
        "* Escriba una función que devuelva la cantidad de usuarios en una sala de chat según las siguientes reglas:\n",
        "    1. Si no hay nadie, devuelva \"nadie en línea\".\n",
        "    2. Si hay 1 persona, devuelva \"usuario1 en línea\".\n",
        "    3. Si hay 2 personas, devuelva \"usuario1 y usuario2 en línea\".\n",
        "    4. Si hay n>2 personas, devuelva los dos primeros nombres y agregue \"y n-2 más en línea\".\n",
        "        * Por ejemplo, si hay 5 usuarios, devuelve:\n",
        "            - \"usuario1, usuario2 y 3 más en línea\"\n",
        "* Ejemplos:\n",
        "    1. chatroom_status([]) ➞ nadie en línea\n",
        "    2. chatroom_status([\"Ant_on\"]) ➞ Ant_on en línea\n",
        "    3. chatroom_status([\"Momo\", \"Ruby\"]) ➞ Momo y Ruby en línea\n",
        "    4. chatroom_status([\"Sam14\", \"Tomi42\", \"pandax\", \"motora5\", \"reYna4\"])\n",
        "➞ Sam14, Tomi42 y 3 en línea"
      ],
      "metadata": {
        "id": "SrOM6sswfKXu"
      }
    },
    {
      "cell_type": "code",
      "source": [
        "# Método 1\n",
        "def chatroom_status(lista):\n",
        "    n = len(lista)\n",
        "    if not lista:\n",
        "        return \"nadie en línea\"\n",
        "    elif n == 1:\n",
        "        return lista[0] + \" en línea\"\n",
        "    elif n == 2:\n",
        "        return f\"{lista[0]} y {lista[1]} en línea\"\n",
        "    else:\n",
        "        return f\"{lista[0]}, {lista[1]} y {n -2} más en línea\"\n",
        "\n",
        "# Método 2\n",
        "def chatroom_status(lista):\n",
        "    if not lista:\n",
        "        return \"nadie en línea\"\n",
        "    elif len(lista) == 1:\n",
        "        return lista[0] + \" en línea\"\n",
        "    elif len(lista) == 2:\n",
        "        return f\"{lista[0]} y {lista[1]} en línea\"\n",
        "    else:\n",
        "        return f\"{', '.join(lista[:2])} y {len(lista[2:])} más en línea\"\n",
        "\n",
        "# Método 3\n",
        "def chatroom_status(lista):\n",
        "    if not lista:\n",
        "        return \"nadie en línea\"\n",
        "    elif len(lista) == 1:\n",
        "        return lista.pop(0) + \" en línea\"\n",
        "    elif len(lista) == 2:\n",
        "        return f\"{lista.pop(0)} y {lista.pop(0)} en línea\"\n",
        "    else:\n",
        "        return f\"{lista.pop(0)}, {lista.pop(0)} y {len(lista)} más en línea\""
      ],
      "metadata": {
        "id": "AjnmjdYefKXv"
      },
      "execution_count": null,
      "outputs": []
    },
    {
      "cell_type": "code",
      "source": [
        "print(chatroom_status([]))\n",
        "print(chatroom_status([\"Ant_on\"]))\n",
        "print(chatroom_status([\"Momo\", \"Ruby\"]))\n",
        "print(chatroom_status([\"Sam14\", \"Tomi42\", \"pandax\", \"motora5\", \"reYna4\"]))"
      ],
      "metadata": {
        "id": "rQ_eThbNfKXv",
        "outputId": "67ccd78b-33e8-460b-d07f-1343e4ae3a13",
        "colab": {
          "base_uri": "https://localhost:8080/"
        }
      },
      "execution_count": null,
      "outputs": [
        {
          "output_type": "stream",
          "name": "stdout",
          "text": [
            "nadie en línea\n",
            "Ant_on en línea\n",
            "Momo y Ruby en línea\n",
            "Sam14, Tomi42 y 3 más en línea\n"
          ]
        }
      ]
    },
    {
      "cell_type": "markdown",
      "source": [
        "## Reto 221: Duelo en el Salvaje Oeste\n",
        "* Asistimos a un Duelo en el Salvaje Oeste.\n",
        "* Gana el que saca y dispara su pistola más rápido que su oponente.\n",
        "* Dadas dos cadenas, `p1` y `p2`, diga quién disparó su arma más rápidamente.\n",
        "* Si ambos disparan al mismo tiempo, devuelva \"empate\".\n",
        "* Ejemplos:\n",
        "    1. <pre>duelo(\"   Bang!\", \"       Bang! \") ➞ p1</pre>\n",
        "    2. <pre>duelo(\"            Bang! \", \"          Bang!\") ➞ p2</pre>\n",
        "    3. <pre>duelo(\"     Bang! \", \"     Bang!   \") ➞ empate</pre>"
      ],
      "metadata": {
        "id": "ymuJ66BEfKhn"
      }
    },
    {
      "cell_type": "code",
      "source": [
        "# Método 1\n",
        "def duelo(p1, p2):\n",
        "    p1_index = p1.index('Bang!')\n",
        "    p2_index = p2.index('Bang!')\n",
        "    if p1_index < p2_index:\n",
        "        return \"p1\"\n",
        "    elif p2_index < p1_index:\n",
        "        return \"p2\"\n",
        "    else:\n",
        "        return \"empate\"\n",
        "\n",
        "# Método 2\n",
        "def duelo(p1, p2):\n",
        "    p1_index = p1.find('Bang!')\n",
        "    p2_index = p2.find('Bang!')\n",
        "    if p1_index < p2_index:\n",
        "        return \"p1\"\n",
        "    elif p2_index < p1_index:\n",
        "        return \"p2\"\n",
        "    else:\n",
        "        return \"empate\"\n",
        "\n",
        "# Método 3\n",
        "def duelo(p1, p2):\n",
        "    n1 = len(p1.rstrip())   # rstrip elimina los espacios por la derecha\n",
        "    n2 = len(p2.rstrip())\n",
        "    return 'p1' if n1 < n2 else (\"p2\" if n1 != n2 else \"empate\")"
      ],
      "metadata": {
        "id": "3mYRMebGfKhn"
      },
      "execution_count": null,
      "outputs": []
    },
    {
      "cell_type": "code",
      "source": [
        "print(duelo(\"   Bang!\", \"       Bang! \"))\n",
        "print(duelo(\"            Bang! \", \"          Bang!\"))\n",
        "print(duelo(\"     Bang! \", \"     Bang!   \"))"
      ],
      "metadata": {
        "id": "k0OZjeU4fKho",
        "outputId": "4f9d29c6-ef29-4954-ecc9-1b1215054ba9",
        "colab": {
          "base_uri": "https://localhost:8080/"
        }
      },
      "execution_count": null,
      "outputs": [
        {
          "output_type": "stream",
          "name": "stdout",
          "text": [
            "p1\n",
            "p2\n",
            "empate\n"
          ]
        }
      ]
    },
    {
      "cell_type": "markdown",
      "source": [
        "## Reto 222: Divisores en un rango\n",
        "* Cree una función que tome tres parámetros donde:\n",
        "    1. `x` es el inicio del rango (inclusive).\n",
        "    2. `y` es el final del rango (inclusive).\n",
        "    3. `n` es el divisor que se va a comparar.\n",
        "* Devuelva una lista ordenada con números en el rango que son divisibles por `n`.\n",
        "* Devuelve una lista vacía si no hay números divisibles por `n`.\n",
        "* Ejemplos:\n",
        "    1. divisores_en_el_rango(1, 10, 3) ➞ [3, 6, 9]\n",
        "    2. divisores_en_el_rango(7, 9, 2) ➞ [8]\n",
        "    3. divisores_en_el_rango(15, 20, 7) ➞ []"
      ],
      "metadata": {
        "id": "WSzgyyykfKqD"
      }
    },
    {
      "cell_type": "code",
      "source": [
        "# Método 1\n",
        "def divisores_en_el_rango(x, y, n):\n",
        "    resultado = []\n",
        "    for i in range(x, y+1):\n",
        "        if i % n == 0:\n",
        "            resultado.append(i)\n",
        "    return resultado\n",
        "\n",
        "# Método 2\n",
        "def divisores_en_el_rango(x, y, n):\n",
        "    return [i for i in range(x, y + 1) if i % n == 0]\n",
        "\n",
        "# Método 3\n",
        "def divisores_en_el_rango(x, y, n):\n",
        "    return list(filter(lambda i: i % n == 0, range(x, y + 1)))\n",
        "\n",
        "# Método 4\n",
        "def divisores_en_el_rango(x, y, n):\n",
        "    return list(range(x - (x % n) + n, y + 1, n))"
      ],
      "metadata": {
        "id": "XhR1oRqefKqE"
      },
      "execution_count": null,
      "outputs": []
    },
    {
      "cell_type": "code",
      "source": [
        "print(divisores_en_el_rango(1, 10, 3))\n",
        "print(divisores_en_el_rango(7, 9, 2))\n",
        "print(divisores_en_el_rango(15, 20, 7))"
      ],
      "metadata": {
        "id": "0ct5s7C5fKqE",
        "outputId": "0334d743-30d0-4a52-968a-3aead3234b36",
        "colab": {
          "base_uri": "https://localhost:8080/"
        }
      },
      "execution_count": null,
      "outputs": [
        {
          "output_type": "stream",
          "name": "stdout",
          "text": [
            "[3, 6, 9]\n",
            "[8]\n",
            "[]\n"
          ]
        }
      ]
    },
    {
      "cell_type": "markdown",
      "source": [
        "## Reto 223: Simon dice\n",
        "* Cree una función que tome dos listas y devuelva `True` si la segunda lista sigue a la primera lista por un elemento, y `False` en caso contrario.\n",
        "* En otras palabras, determine si la segunda lista es la primera lista desplazada 1 hacia la derecha.\n",
        "* Ejemplos:\n",
        "    1. simon_dice([1, 2, 3, 4, 5], [0, 1, 2, 3, 4]) ➞ True\n",
        "    2. simon_dice([4, 1, 6, 3, 8, 5], [9, 4, 1, 6, 3, 8]) ➞ True\n",
        "    3. simon_dice([1, 2], [5, 1]) ➞ True\n",
        "    4. simon_dice([1, 2], [5, 5]) ➞ False\n",
        "    5. simon_dice([1, 2, 3, 4, 5], [5, 5, 1, 2, 3]) ➞ False\n",
        "* Ambas listas de entrada tendrán la misma longitud y tendrán una longitud mínima de 2.\n",
        "* Los valores del elemento de index `0` en la segunda lista y del elemento de index `n-1` en la primera lista no importan."
      ],
      "metadata": {
        "id": "M7rmE9zCfKye"
      }
    },
    {
      "cell_type": "code",
      "source": [
        "# Método 1\n",
        "def simon_dice(l1, l2):\n",
        "    return l1[:-1] == l2[1:]\n",
        "\n",
        "# Método 2\n",
        "def simon_dice(l1, l2):\n",
        "    l1.pop()\n",
        "    l2.pop(0)\n",
        "    return l1 == l2\n",
        "\n",
        "# Método 3\n",
        "def simon_dice(lista1, lista2):\n",
        "    *l1, _ = lista1\n",
        "    _, *l2 = lista2\n",
        "    return l1 == l2"
      ],
      "metadata": {
        "id": "FTY73X-JfKyf"
      },
      "execution_count": null,
      "outputs": []
    },
    {
      "cell_type": "code",
      "source": [
        "print(simon_dice([1, 2, 3, 4, 5], [0, 1, 2, 3, 4]))\n",
        "print(simon_dice([4, 1, 6, 3, 8, 5], [9, 4, 1, 6, 3, 8]))\n",
        "print(simon_dice([1, 2], [5, 1]))\n",
        "print(simon_dice([1, 2], [5, 5]))\n",
        "print(simon_dice([1, 2, 3, 4, 5], [5, 5, 1, 2, 3]))"
      ],
      "metadata": {
        "id": "aH9riXRKfKyf",
        "outputId": "1e43213f-a793-4c30-f743-65e355ff5fba",
        "colab": {
          "base_uri": "https://localhost:8080/"
        }
      },
      "execution_count": null,
      "outputs": [
        {
          "output_type": "stream",
          "name": "stdout",
          "text": [
            "True\n",
            "True\n",
            "True\n",
            "False\n",
            "False\n"
          ]
        }
      ]
    },
    {
      "cell_type": "markdown",
      "source": [
        "## Reto 224: Creando una empresa entre amigos\n",
        "* Un grupo de amigos han decidido crear una empresa.\n",
        "* El nombre será la primera letra de cada uno de sus nombres, ordenados alfabéticamente.\n",
        "* Cree una función que tome una lista de nombres y devuelva el nombre de la sociedad añadiendo al final \"Co. Ltd\".\n",
        "* \"Co. Ltd.\" significa *Company Limited*, sociedad de responsabilidad limitada.\n",
        "* Ejemplos:\n",
        "    1. nombre_sociedad([\"Carla\", \"Bea\", \"Alan\"]) ➞ ABC Co. Ltd.\n",
        "    2. nombre_sociedad([\"Ulises\", \"Zoe\", \"LEO\"]) ➞ LUZ Co. Ltd.\n",
        "    3. nombre_sociedad([\"Lucía\", \"Fran\", \"Olivia\", \"Rebeca\"]) ➞ FLOR Co. Ltd.\n",
        "    3. nombre_sociedad([\"Olivia\", \"Ana\", \"Marta\", \"Rocio\"]) ➞ AMOR Co. Ltd."
      ],
      "metadata": {
        "id": "7ZvpmhfEfK6_"
      }
    },
    {
      "cell_type": "code",
      "source": [
        "# Método 1\n",
        "def nombre_sociedad(nombres):\n",
        "    sociedad = \"\"\n",
        "    for nombre in nombres:\n",
        "        sociedad += nombre[0].upper()\n",
        "        sociedad_lista = sorted(list(sociedad))\n",
        "    return ''.join(sociedad_lista) + \" Co. Ltd.\"\n",
        "\n",
        "# Método 2\n",
        "def nombre_sociedad(nombres):\n",
        "    letras = ''.join(sorted(list(nombre[0].upper() for nombre in nombres)))\n",
        "    return f\"{letras} Co. Ltd.\""
      ],
      "metadata": {
        "id": "hFdvUEPtfK7A"
      },
      "execution_count": null,
      "outputs": []
    },
    {
      "cell_type": "code",
      "source": [
        "print(nombre_sociedad([\"Carla\", \"Bea\", \"Alan\"]))\n",
        "print(nombre_sociedad([\"Ulises\", \"Zoe\", \"LEO\"]))\n",
        "print(nombre_sociedad([\"Lucía\", \"Fran\", \"Olivia\", \"Rebeca\"]))\n",
        "print(nombre_sociedad([\"Olivia\", \"Ana\", \"Marta\", \"Rocio\"]))"
      ],
      "metadata": {
        "id": "peSjCMsqfK7A",
        "colab": {
          "base_uri": "https://localhost:8080/"
        },
        "outputId": "449d333d-8db4-4713-c0e9-719159b71b28"
      },
      "execution_count": null,
      "outputs": [
        {
          "output_type": "stream",
          "name": "stdout",
          "text": [
            "ABC Co. Ltd.\n",
            "LUZ Co. Ltd.\n",
            "FLOR Co. Ltd.\n",
            "AMOR Co. Ltd.\n"
          ]
        }
      ]
    },
    {
      "cell_type": "markdown",
      "source": [
        "## Reto 225: ¿Esta palabra es un heterograma?\n",
        "* Un [heterograma](https://es.wikipedia.org/wiki/Heterograma) es una palabra que no tiene letras duplicadas.\n",
        "* Cree una función que tome una cadena y devuelva `True` o `False` dependiendo de si es o no un heterograma.\n",
        "* Ejemplos:\n",
        "    1. es_heterograma(\"Dulce\") ➞ True\n",
        "    2. es_heterograma(\"PasSword\") ➞ False\n",
        "    3. es_heterograma(\"luteranismo\") ➞ True\n",
        "\n",
        "* No debe distinguir entre mayúsculas y minúsculas."
      ],
      "metadata": {
        "id": "QdhoUeqCfLDp"
      }
    },
    {
      "cell_type": "code",
      "source": [
        "# Método 1\n",
        "def es_heterograma(palabra):\n",
        "    palabra = palabra.lower()\n",
        "    return len(palabra) == len(set(palabra))\n",
        "\n",
        "# Método 2\n",
        "def es_heterograma(palabra):\n",
        "    palabra = palabra.lower()\n",
        "    for caracter in palabra:\n",
        "        if palabra.count(caracter) > 1:\n",
        "            return False\n",
        "    return True # Si hay duplicados es un heterograma"
      ],
      "metadata": {
        "id": "j2pUp3qAfLDq"
      },
      "execution_count": null,
      "outputs": []
    },
    {
      "cell_type": "code",
      "source": [
        "print(es_heterograma(\"Dulce\"))\n",
        "print(es_heterograma(\"PasSword\"))\n",
        "print(es_heterograma(\"luteranismo\"))"
      ],
      "metadata": {
        "id": "sjwRw6IyfLDq",
        "colab": {
          "base_uri": "https://localhost:8080/"
        },
        "outputId": "08d9212f-96d2-4ff6-8aae-e9b702297d79"
      },
      "execution_count": null,
      "outputs": [
        {
          "output_type": "stream",
          "name": "stdout",
          "text": [
            "True\n",
            "False\n",
            "True\n"
          ]
        }
      ]
    },
    {
      "cell_type": "markdown",
      "source": [
        "## Reto 226: ¿Está la cadena en orden?\n",
        "* Cree una función que tome una cadena y devuelva `True` o `False`, dependiendo de si los caracteres están en orden o no.\n",
        "* La cadena que reciba la función no estará vacía y no contendrá mayúsculas.\n",
        "* Ejemplos:\n",
        "    1. esta_en_orden(\"coexistieron\") ➞ False\n",
        "    2. esta_en_orden(\"abc\") ➞ True\n",
        "    3. esta_en_orden(\"123\") ➞ True\n",
        "    4. esta_en_orden(\"xyzz\") ➞ True\n",
        "    5. esta_en_orden(\"himnos\") ➞ True"
      ],
      "metadata": {
        "id": "7DuUcQuifLMJ"
      }
    },
    {
      "cell_type": "code",
      "source": [
        "# Método 1\n",
        "def esta_en_orden(cadena):\n",
        "    return cadena == ''.join(sorted(cadena))\n",
        "\n",
        "# Método 2\n",
        "def esta_en_orden(cadena):\n",
        "    for i in range(len(cadena) - 1):\n",
        "        # Si el carácter actual es mayor que el siguiente, la cadena no está ordenada\n",
        "        if cadena[i] > cadena[i + 1]:\n",
        "            return False\n",
        "    return True"
      ],
      "metadata": {
        "id": "Iq06LMwXfLMK"
      },
      "execution_count": null,
      "outputs": []
    },
    {
      "cell_type": "code",
      "source": [
        "print(esta_en_orden(\"coexistieron\"))\n",
        "print(esta_en_orden(\"abc\"))\n",
        "print(esta_en_orden(\"123\"))\n",
        "print(esta_en_orden(\"xyzz\"))\n",
        "print(esta_en_orden(\"himnos\"))"
      ],
      "metadata": {
        "id": "hJWU3JVtfLMK",
        "colab": {
          "base_uri": "https://localhost:8080/"
        },
        "outputId": "752796b1-d64a-428f-c7e4-0950e57331a3"
      },
      "execution_count": null,
      "outputs": [
        {
          "output_type": "stream",
          "name": "stdout",
          "text": [
            "False\n",
            "True\n",
            "True\n",
            "True\n",
            "True\n"
          ]
        }
      ]
    },
    {
      "cell_type": "markdown",
      "source": [
        "## Reto 227: Convertir Porcentajes a Notación Decimal\n",
        "* Cree una función para convertir una lista de porcentajes a sus equivalentes decimales.\n",
        "* Ejemplos:\n",
        "    1. convertir_a_decimal([\"1%\", \"2%\", \"3%\"]) ➞ [0.01, 0.02, 0.03]\n",
        "    2. convertir_a_decimal([\"45%\", \"32%\", \"97%\", \"33%\"]) ➞ [0.45, 0.32, 0.97, 0.33]\n",
        "    3. convertir_a_decimal([\"33%\", \"98.1%\", \"56.44%\", \"100%\"]) ➞ [0.33, 0.981, 0.5644, 1]"
      ],
      "metadata": {
        "id": "Gt1AUpl5fLU6"
      }
    },
    {
      "cell_type": "code",
      "source": [
        "# Método 1\n",
        "def convertir_a_decimal(lista_porcentajes):\n",
        "    decimales = []\n",
        "    for porcentaje in lista_porcentajes:\n",
        "        valor_decimal = float(porcentaje.strip('%')) / 100\n",
        "        decimales.append(valor_decimal)\n",
        "    return decimales\n",
        "\n",
        "# Método 2\n",
        "def convertir_a_decimal(lista):\n",
        "    return [float(porcentaje.strip('%')) / 100 for porcentaje in lista]\n",
        "\n",
        "# Método 3. Sin strip\n",
        "def convertir_a_decimal(lista):\n",
        "    decimales = []\n",
        "    for porcentaje in lista:\n",
        "        # Reemplazar el signo de porcentaje por una cadena vacía y convertir a decimal\n",
        "        valor_decimal = float(porcentaje.replace('%', '')) / 100\n",
        "        decimales.append(valor_decimal)\n",
        "    return decimales\n",
        "\n",
        "# Método 4\n",
        "def convertir_a_decimal(lista):\n",
        "    return [float(n[:-1]) / 100 for n in lista]"
      ],
      "metadata": {
        "id": "RdmTlHDcfLU7"
      },
      "execution_count": null,
      "outputs": []
    },
    {
      "cell_type": "code",
      "source": [
        "print(convertir_a_decimal([\"1%\", \"2%\", \"3%\"]))\n",
        "print(convertir_a_decimal([\"45%\", \"32%\", \"97%\", \"33%\"]))\n",
        "print(convertir_a_decimal([\"33%\", \"98.1%\", \"56.44%\", \"100%\"]))"
      ],
      "metadata": {
        "id": "-NCl-UlefLU7",
        "colab": {
          "base_uri": "https://localhost:8080/"
        },
        "outputId": "048c12ed-c509-4fca-a7fa-b1f4483c0ef5"
      },
      "execution_count": null,
      "outputs": [
        {
          "output_type": "stream",
          "name": "stdout",
          "text": [
            "[0.01, 0.02, 0.03]\n",
            "[0.45, 0.32, 0.97, 0.33]\n",
            "[0.33, 0.981, 0.5644, 1.0]\n"
          ]
        }
      ]
    },
    {
      "cell_type": "markdown",
      "source": [
        "## Reto 228: Únicos y Ordenados\n",
        "* Dada una lista de números, escriba una función que devuelva una lista que...\n",
        "    1. Elimine todos los elementos duplicados.\n",
        "    2. Ordene de menor a mayor.\n",
        "* Ejemplos:\n",
        "    1. unicos_y_ordenados([1, 2, 4, 3]) ➞ [1, 2, 3, 4]\n",
        "    2. unicos_y_ordenados([1, 4, 4, 4, 4, 4, 3, 2, 1, 2]) ➞ [1, 2, 3, 4]\n",
        "    3. unicos_y_ordenados([6, 7, 3, 2, 1]) ➞ [1, 2, 3, 6, 7]"
      ],
      "metadata": {
        "id": "N7CTsYspfLcq"
      }
    },
    {
      "cell_type": "code",
      "source": [
        "# Método 1\n",
        "def unicos_y_ordenados(lista):\n",
        "     conjunto = set(lista)\n",
        "     return sorted(list(conjunto))\n",
        "#  sorted devuelve una nueva lista ordenada, deja la lista original sin cambios\n",
        "\n",
        "# Método 2\n",
        "def unicos_y_ordenados(lista):\n",
        "    lista_unicos = list(set(lista))\n",
        "    lista_unicos.sort() # sort ordenla la lista y realmente la modifica\n",
        "    return lista_unicos"
      ],
      "metadata": {
        "id": "ZzoVoqJBfLcr"
      },
      "execution_count": null,
      "outputs": []
    },
    {
      "cell_type": "code",
      "source": [
        "print(unicos_y_ordenados([1, 2, 4, 3]))\n",
        "print(unicos_y_ordenados([1, 4, 4, 4, 4, 4, 3, 2, 1, 2]) )\n",
        "print(unicos_y_ordenados([6, 7, 3, 2, 1]))"
      ],
      "metadata": {
        "id": "Om-q9KnqfLcr",
        "colab": {
          "base_uri": "https://localhost:8080/"
        },
        "outputId": "3e850895-e542-45a6-eb20-a32ae216f499"
      },
      "execution_count": null,
      "outputs": [
        {
          "output_type": "stream",
          "name": "stdout",
          "text": [
            "[1, 2, 3, 4]\n",
            "[1, 2, 3, 4]\n",
            "[1, 2, 3, 6, 7]\n"
          ]
        }
      ]
    },
    {
      "cell_type": "markdown",
      "source": [
        "## Reto 229: ¿Este Número es Capicúa?\n",
        "* Cree una función que tome un número como argumento y devuelva `True` o `False` dependiendo de si el número es simétrico o no.\n",
        "* Un número es simétrico cuando es igual a su reverso.\n",
        "* Un número de este tipo se conoce como número **capicúa**.\n",
        "* Ejemplos:\n",
        "    1. es_capicua(7227) ➞ True\n",
        "    2. es_capicua(12567) ➞ False\n",
        "    3. es_capicua(44444444) ➞ True\n",
        "    4. es_capicua(9939) ➞ False\n",
        "    5. es_capicua(1112111) ➞ True"
      ],
      "metadata": {
        "id": "J5Fjyz9NfLmk"
      }
    },
    {
      "cell_type": "code",
      "source": [
        "# Método 1\n",
        "def es_capicua(num):\n",
        "    mystr = str(num)\n",
        "    reverso = mystr[::-1]\n",
        "    mynum = int(reverso)\n",
        "    return num == mynum\n",
        "\n",
        "# Método 2\n",
        "def es_capicua(numero):\n",
        "    str_num = str(numero)\n",
        "    return str_num == str_num[::-1]\n",
        "\n",
        "# Método 3\n",
        "def es_capicua(numero):\n",
        "    num_original = numero\n",
        "    num_reverso = 0\n",
        "    while numero > 0:\n",
        "        digito = numero % 10\n",
        "        num_reverso = (num_reverso * 10) + digito\n",
        "        numero //= 10\n",
        "    return num_original == num_reverso"
      ],
      "metadata": {
        "id": "R4o91luKfLmk"
      },
      "execution_count": null,
      "outputs": []
    },
    {
      "cell_type": "code",
      "source": [
        "print(es_capicua(7227))\n",
        "print(es_capicua(12567))\n",
        "print(es_capicua(44444444))\n",
        "print(es_capicua(9939))\n",
        "print(es_capicua(1112111))"
      ],
      "metadata": {
        "id": "QBpDtYQafLmk",
        "colab": {
          "base_uri": "https://localhost:8080/"
        },
        "outputId": "69d6d2a1-78a2-44d4-adf6-e77760717a91"
      },
      "execution_count": null,
      "outputs": [
        {
          "output_type": "stream",
          "name": "stdout",
          "text": [
            "True\n",
            "False\n",
            "True\n",
            "False\n",
            "True\n"
          ]
        }
      ]
    },
    {
      "cell_type": "markdown",
      "source": [
        "## Reto 230: El Cuadrado de cada Dígito\n",
        "* Cree una función que eleve al cuadrado cada dígito de un número.\n",
        "* La función recibe un número entero y debe devolver un número entero.\n",
        "* Ejemplos:\n",
        "    1. cuadrado_de_digitos(9119) ➞ 811181\n",
        "    2. cuadrado_de_digitos(2483) ➞ 416649\n",
        "    3. cuadrado_de_digitos(3212) ➞ 9414"
      ],
      "metadata": {
        "id": "ZsJuVirdfL7R"
      }
    },
    {
      "cell_type": "code",
      "source": [
        "# Método 1\n",
        "def cuadrado_de_digitos(num):\n",
        "    srt_num = str(num)\n",
        "    result = \"\"\n",
        "    for digito in srt_num:\n",
        "        result += str(int(digito) ** 2)\n",
        "    return int(result)"
      ],
      "metadata": {
        "id": "As1gP5WNfL7S"
      },
      "execution_count": null,
      "outputs": []
    },
    {
      "cell_type": "code",
      "source": [
        "print(cuadrado_de_digitos(9119))\n",
        "print(cuadrado_de_digitos(2483))\n",
        "print(cuadrado_de_digitos(3212))"
      ],
      "metadata": {
        "id": "fPOE1PBGfL7S",
        "colab": {
          "base_uri": "https://localhost:8080/"
        },
        "outputId": "03ff0855-2f8e-4ab6-9649-0f11abe9b021"
      },
      "execution_count": null,
      "outputs": [
        {
          "output_type": "stream",
          "name": "stdout",
          "text": [
            "811181\n",
            "416649\n",
            "9414\n"
          ]
        }
      ]
    },
    {
      "cell_type": "markdown",
      "source": [
        "## Reto 231: El Problema del Viajante\n",
        "* Un vendedor tiene varias ciudades para visitar.\n",
        "* Quiere calcular el número total de caminos posibles que podría tomar, visitando cada ciudad una vez antes de regresar a casa.\n",
        "* Devuelva el número total de caminos posibles que puede recorrer un vendedor, dadas `n` ciudades.\n",
        "* Si tenemos las ciudades A, B y C, los caminos posibles serían:\n",
        "    1. A -> B -> C\n",
        "    1. A -> C -> B\n",
        "    1. B -> A -> C\n",
        "    1. B -> C -> A\n",
        "    1. C -> B -> A\n",
        "    1. C -> A -> B\n",
        "* lo que nos da 6 como número posible de caminos en este caso.\n",
        "* Ejemplos:\n",
        "    1. caminos(0) ➞ 1\n",
        "    2. caminos(1) ➞ 1\n",
        "    3. caminos(4) ➞ 24\n",
        "    4. caminos(5) ➞ 120\n",
        "    5. caminos(9) ➞ 362880\n",
        "    6. caminos(14) ➞ 87178291200\n",
        "\n",
        "* Este desafío consiste en programar un **factorial**.\n",
        "* El factorial de cero, por definición, es 1.\n",
        "* En realidad el [problema del viajante](https://es.wikipedia.org/wiki/Problema_del_viajante) es un problema de [grafos](https://es.wikipedia.org/wiki/Teor%C3%ADa_de_grafos) bastante más complejo que consiste en determinar el camino más corto para que el viajante visite todas las ciudades una vez y regrese al punto de partida."
      ],
      "metadata": {
        "id": "J27iDaFDfMFb"
      }
    },
    {
      "cell_type": "code",
      "source": [
        "# Método 1\n",
        "import math\n",
        "\n",
        "def caminos(n):\n",
        "    return math.factorial(n)"
      ],
      "metadata": {
        "id": "Eyw0mcmSfMFc"
      },
      "execution_count": null,
      "outputs": []
    },
    {
      "cell_type": "code",
      "source": [
        "print(caminos(0))\n",
        "print(caminos(1))\n",
        "print(caminos(4))\n",
        "print(caminos(5))\n",
        "print(caminos(9))\n",
        "print(caminos(14))"
      ],
      "metadata": {
        "id": "DKjaNBRyfMFc",
        "colab": {
          "base_uri": "https://localhost:8080/"
        },
        "outputId": "004864dc-ab8a-4e42-ef10-5a60e904c9e5"
      },
      "execution_count": null,
      "outputs": [
        {
          "output_type": "stream",
          "name": "stdout",
          "text": [
            "1\n",
            "1\n",
            "24\n",
            "120\n",
            "362880\n",
            "87178291200\n"
          ]
        }
      ]
    },
    {
      "cell_type": "markdown",
      "source": [
        "## Reto 232: Contar Capicúas en un rango\n",
        "* Cree una función que devuelva la cantidad de capicúas en un rango específico, incluidos ambos extremos.\n",
        "* Por ejemplo, entre 8 y 34, hay 5 capicúas: 8, 9, 11, 22 y 33.\n",
        "* Un número de un solo dígito se considera capicúa.\n",
        "* Entre 1550 y 1552 hay exactamente un capicúa: 1551.\n",
        "* Ejemplos:\n",
        "    1. contar_capicuas(1, 10) ➞ 9\n",
        "    2. contar_capicuas(555, 556) ➞ 1\n",
        "    3. contar_capicuas(878, 898) ➞ 3\n",
        "    4. contar_capicuas(8, 34) ➞ 5"
      ],
      "metadata": {
        "id": "dshaHSzSfMO5"
      }
    },
    {
      "cell_type": "code",
      "source": [
        "# Método 1\n",
        "def contar_capicuas(inicial, final):\n",
        "    contador = 0\n",
        "    for num in range(inicial, final + 1):\n",
        "        str_num = str(num)\n",
        "        if str_num == str_num[::-1]:\n",
        "            contador += 1\n",
        "    return contador\n",
        "\n",
        "# Método 2\n",
        "def contar_capicuas(inicial, final):\n",
        "    return sum(1 for num in range(inicial, final + 1) if str(num) == str(num)[::-1])\n"
      ],
      "metadata": {
        "id": "94uzQXuVfMO6"
      },
      "execution_count": null,
      "outputs": []
    },
    {
      "cell_type": "code",
      "source": [
        "print(contar_capicuas(1, 10))\n",
        "print(contar_capicuas(555, 556))\n",
        "print(contar_capicuas(878, 898))\n",
        "print(contar_capicuas(8, 34))"
      ],
      "metadata": {
        "id": "GcgD0XaNfMO6",
        "outputId": "285cff3b-f9a8-4356-88c6-c55c9bbbc845",
        "colab": {
          "base_uri": "https://localhost:8080/"
        }
      },
      "execution_count": null,
      "outputs": [
        {
          "output_type": "stream",
          "name": "stdout",
          "text": [
            "9\n",
            "1\n",
            "3\n",
            "5\n"
          ]
        }
      ]
    },
    {
      "cell_type": "markdown",
      "source": [
        "## Reto 233: Ordenar y eliminar duplicados en una Lista\n",
        "* Cree una función que ordene una lista y elimine todos los elementos duplicados.\n",
        "* Ejemplos:\n",
        "    1. ordenar_unicos([1, 3, 3, 5, 5]) ➞ [1, 3, 5]\n",
        "    2. ordenar_unicos([4, 4, 4, 4]) ➞ [4]\n",
        "    3. ordenar_unicos([5, 7, 8, 9, 10, 15]) ➞ [5, 7, 8, 9, 10, 15]\n",
        "    4. ordenar_unicos([3, 3, 3, 2, 1]) ➞ [1, 2, 3]"
      ],
      "metadata": {
        "id": "UfSqalqlfMg2"
      }
    },
    {
      "cell_type": "code",
      "source": [
        "# Método 1. Usando set\n",
        "def ordenar_unicos(lista):\n",
        "    return sorted(list(set(lista)))\n",
        "\n",
        "# Método 2. Sin usar set\n",
        "def ordenar_unicos(lista):\n",
        "    lista_unicos = []\n",
        "    for elemento in lista:\n",
        "        if elemento not in lista_unicos:\n",
        "            lista_unicos.append(elemento)\n",
        "    lista_unicos.sort()\n",
        "    return lista_unicos\n",
        "\n",
        "# Método 3. Ordenando con el método de la burbuja\n",
        "def ordenar_unicos(lista):\n",
        "    unicos = list(set(lista))\n",
        "\n",
        "    # Ordenar la lista manualmente sin utilizar sort o sorted\n",
        "    n = len(unicos)\n",
        "    for i in range(n - 1):\n",
        "        for j in range(i + 1, n):\n",
        "            if unicos[i] > unicos[j]:\n",
        "                unicos[i], unicos[j] = unicos[j], unicos[i]\n",
        "    return unicos"
      ],
      "metadata": {
        "id": "GVAHA88SfMg3"
      },
      "execution_count": null,
      "outputs": []
    },
    {
      "cell_type": "code",
      "source": [
        "print(ordenar_unicos([1, 3, 3, 5, 5]))\n",
        "print(ordenar_unicos([4, 4, 4, 4]) )\n",
        "print(ordenar_unicos([5, 7, 8, 9, 10, 15]))\n",
        "print(ordenar_unicos([3, 3, 3, 2, 1]))"
      ],
      "metadata": {
        "id": "ULLTqEnAfMg3",
        "outputId": "010d2432-9b92-49d1-9174-3e08c75c4ba2",
        "colab": {
          "base_uri": "https://localhost:8080/"
        }
      },
      "execution_count": null,
      "outputs": [
        {
          "output_type": "stream",
          "name": "stdout",
          "text": [
            "[1, 3, 5]\n",
            "[4]\n",
            "[5, 7, 8, 9, 10, 15]\n",
            "[1, 2, 3]\n"
          ]
        }
      ]
    },
    {
      "cell_type": "markdown",
      "source": [
        "## Reto 234: Obtener de un Diccionario los Nombres Ordenos\n",
        "* Cree una función que tome un diccionario de nombres de estudiantes y devuelva una lista de nombres de estudiantes en orden alfabético.\n",
        "* Ejemplos:\n",
        "    1. obtener_nombre_estudiantes({\n",
        "  \"Estudiante 1\" : \"Tom\",\n",
        "  \"Estudiante 2\" : \"Bea\",\n",
        "  \"Estudiante 3\" : \"Juan\"\n",
        "}) ➞ ['Bea', 'Juan', 'Tom']\n",
        "    2. obtener_nombre_estudiantes({\n",
        "  \"alumno1\" : \"Zoe\",\n",
        "  \"alumno2\" : \"Leo\",\n",
        "  \"alumno3\" : \"Ben\"\n",
        "}) ➞ [\"Ben\", \"Leo\", \"Zoe\"]"
      ],
      "metadata": {
        "id": "aJtpK52IfMp-"
      }
    },
    {
      "cell_type": "code",
      "source": [
        "# Método 1\n",
        "def obtener_nombre_estudiantes(diccionario):\n",
        "    return sorted(diccionario.values())\n",
        "\n",
        "# Método 2\n",
        "def obtener_nombre_estudiantes(diccionario):\n",
        "    return sorted((nombre for nombre in diccionario.values()))"
      ],
      "metadata": {
        "id": "OXdh64GVfMp_"
      },
      "execution_count": null,
      "outputs": []
    },
    {
      "cell_type": "code",
      "source": [
        "d1 = {\n",
        "  \"Estudiante 1\" : \"Tom\",\n",
        "  \"Estudiante 2\" : \"Bea\",\n",
        "  \"Estudiante 3\" : \"Juan\"\n",
        "}\n",
        "\n",
        "d2 = {\n",
        "  \"alumno1\" : \"Zoe\",\n",
        "  \"alumno2\" : \"Leo\",\n",
        "  \"alumno3\" : \"Ben\"\n",
        "}\n",
        "\n",
        "print(obtener_nombre_estudiantes(d1))\n",
        "print(obtener_nombre_estudiantes(d2))"
      ],
      "metadata": {
        "id": "IS7kBt_TfMp_",
        "outputId": "d9a7d7a1-b044-438e-b6fc-b5821e57ff91",
        "colab": {
          "base_uri": "https://localhost:8080/"
        }
      },
      "execution_count": null,
      "outputs": [
        {
          "output_type": "stream",
          "name": "stdout",
          "text": [
            "['Bea', 'Juan', 'Tom']\n",
            "['Ben', 'Leo', 'Zoe']\n"
          ]
        }
      ]
    },
    {
      "cell_type": "markdown",
      "source": [
        "## Reto 235: Saluda a todas las personas\n",
        "* Tome una lista de nombres.\n",
        "* Añade \"Hola\" a cada nombre.\n",
        "* Haga una cadena grande con todos los saludos.\n",
        "* La solución debería ser una cadena con una coma entre cada \"Hola (Nombre)\".\n",
        "* Ejemplos:\n",
        "    1. saludo_gente([\"Jose\"]) ➞ \"Hola Jose\"\n",
        "    2. saludo_gente([]) ➞\n",
        "    3. saludo_gente([\"Angela\", \"Jose\"]) ➞ \"Hola Angela, Hola Jose\"\n",
        "    4. saludo_gente([\"Fran\", \"Angela\", \"Jose\"]) ➞ \"Hola Fran, Hola Angela, Hola Jose\"\n",
        "\n",
        "* Cada saludo tiene que estar separado por una coma y un espacio.\n",
        "* Si recibe una lista vacía [], devuelva una cadena vacía \"\"."
      ],
      "metadata": {
        "id": "S0WJu9uDfMzg"
      }
    },
    {
      "cell_type": "code",
      "source": [
        "# Método 1\n",
        "def saludo_gente(nombres):\n",
        "    saludos = []\n",
        "    for nombre in nombres:\n",
        "        saludos.append(f\"Hola {nombre}\")\n",
        "    resultado = \", \".join(saludos)\n",
        "    return resultado\n",
        "\n",
        "# Método 2\n",
        "def saludo_gente(nombres):\n",
        "    return \", \".join(f\"Hola {nombre}\" for nombre in nombres)\n",
        "\n",
        "# Método 3\n",
        "def saludo_gente(nombres):\n",
        "    return \", \".join(map(lambda nombre: f\"Hola {nombre}\", nombres))\n",
        "\n",
        "# Método 4\n",
        "def saludo_gente(nombres):\n",
        "    saludos = \"\"\n",
        "    for nombre in nombres:\n",
        "        saludos += f\"Hola {nombre}, \"\n",
        "    return saludos.rstrip(\", \")  # Elimina la coma y el espacio al final, si los hay"
      ],
      "metadata": {
        "id": "CvjTwIDnfMzh"
      },
      "execution_count": null,
      "outputs": []
    },
    {
      "cell_type": "code",
      "source": [
        "print(saludo_gente([\"Jose\"]))\n",
        "print(saludo_gente([]))\n",
        "print(saludo_gente([\"Angela\", \"Jose\"]) )\n",
        "print(saludo_gente([\"Fran\", \"Angela\", \"Jose\"]))"
      ],
      "metadata": {
        "id": "pVvjcqtBfMzh",
        "outputId": "0859a1d4-0e57-42fc-aa7e-ed0ded87a69d",
        "colab": {
          "base_uri": "https://localhost:8080/"
        }
      },
      "execution_count": null,
      "outputs": [
        {
          "output_type": "stream",
          "name": "stdout",
          "text": [
            "Hola Jose\n",
            "\n",
            "Hola Angela, Hola Jose\n",
            "Hola Fran, Hola Angela, Hola Jose\n"
          ]
        }
      ]
    },
    {
      "cell_type": "markdown",
      "source": [
        "## Reto 236: Volumen total de las Cajas\n",
        "* Dada una lista de cajas, cree una función que devuelva el volumen total de todas esas cajas combinadas.\n",
        "* Una caja está representada por una lista con tres elementos: largo, ancho y alto.\n",
        "* Ejemplos:\n",
        "    1. total_volumen([4, 2, 4], [3, 3, 3], [1, 1, 2], [2, 1, 1]) ➞ 63\n",
        "    2. total_volumen([2, 2, 2], [2, 1, 1]) ➞ 10\n",
        "    3. total_volumen([1, 1, 1]) ➞ 1\n",
        "* Se le entregará al menos una caja.\n",
        "* Cada caja siempre tendrá tres dimensiones incluidas."
      ],
      "metadata": {
        "id": "psKn_PCHfMXu"
      }
    },
    {
      "cell_type": "code",
      "source": [
        "# Método 1\n",
        "def total_volumen(*cajas):\n",
        "    total = 0\n",
        "    for caja in cajas:\n",
        "        l, a, h = caja\n",
        "        total += l * a * h\n",
        "    return total\n",
        "\n",
        "# Método 2\n",
        "def total_volumen(*cajas):\n",
        "    return sum(dimensiones[0] * dimensiones[1] * dimensiones[2] for dimensiones in cajas)\n",
        "\n",
        "# Método 3\n",
        "def total_volumen(*cajas):\n",
        "    return sum(l * a * h for l, a, h in cajas)\n",
        "\n",
        "# Método 4\n",
        "def total_volumen(*cajas):\n",
        "    return sum(map(lambda caja: caja[0] * caja[1] * caja[2], cajas))"
      ],
      "metadata": {
        "id": "THWKnKeWfMXv"
      },
      "execution_count": null,
      "outputs": []
    },
    {
      "cell_type": "code",
      "source": [
        "print(total_volumen([4, 2, 4], [3, 3, 3], [1, 1, 2], [2, 1, 1]))\n",
        "print(total_volumen([2, 2, 2], [2, 1, 1]))\n",
        "print(total_volumen([1, 1, 1]))"
      ],
      "metadata": {
        "id": "krAUsAd7fMXv",
        "colab": {
          "base_uri": "https://localhost:8080/"
        },
        "outputId": "83c162f4-9edc-47fd-a841-534e468017b0"
      },
      "execution_count": null,
      "outputs": [
        {
          "output_type": "stream",
          "name": "stdout",
          "text": [
            "63\n",
            "10\n",
            "1\n"
          ]
        }
      ]
    },
    {
      "cell_type": "markdown",
      "source": [
        "## Reto 237: Encontrar la media de todos los dígitos\n",
        "* Encuentre la media de todos los dígitos.\n",
        "* Ejemplos:\n",
        "    1. media(42) ➞ 3\n",
        "    2. media(12345) ➞ 3\n",
        "    3. media(666) ➞ 6"
      ],
      "metadata": {
        "id": "4hebZL69fM9W"
      }
    },
    {
      "cell_type": "code",
      "source": [
        "# Método 1\n",
        "def media(n):\n",
        "    suma = 0\n",
        "    lista = list(str(n))\n",
        "    for num in lista:\n",
        "        suma += int(num)\n",
        "    return suma / len(lista)\n",
        "\n",
        "# Método 2\n",
        "def media(n):\n",
        "    digitos = str(n)\n",
        "    return sum(int(digito) for digito in digitos) / len(digitos)\n",
        "\n",
        "# Método 3\n",
        "def media(n):\n",
        "    suma = 0\n",
        "    contador = 0\n",
        "    while n != 0:\n",
        "        suma += n % 10  # Obtener el último dígito y sumarlo\n",
        "        contador += 1  # Contar el dígito agregado\n",
        "        n //= 10  # Eliminar el último dígito del número\n",
        "    return suma / contador"
      ],
      "metadata": {
        "id": "qJl_IKc_fM9X"
      },
      "execution_count": null,
      "outputs": []
    },
    {
      "cell_type": "code",
      "source": [
        "print(media(42))\n",
        "print(media(12345))\n",
        "print(media(666))"
      ],
      "metadata": {
        "id": "WNJvyRiVfM9X",
        "colab": {
          "base_uri": "https://localhost:8080/"
        },
        "outputId": "0fa17d2b-e680-48d6-ae5c-1fe1a8cbcae5"
      },
      "execution_count": null,
      "outputs": [
        {
          "output_type": "stream",
          "name": "stdout",
          "text": [
            "3.0\n",
            "3.0\n",
            "6.0\n"
          ]
        }
      ]
    },
    {
      "cell_type": "markdown",
      "source": [
        "## Reto 238: Juego de Mecanografía\n",
        "* Se encuentra haciendo un juego de mecanografía.\n",
        "* Cree una función que reciba dos listas: la lista de palabras escritas por el usuario y la lista de palabras escritas correctamente\n",
        "* Genere una lista que contenga 1, para palabras escritas correctamente, y -1, para palabras escritas incorrectamente.\n",
        "* Ejemplos:\n",
        "    1. comprobacion(\n",
        "  [\"mio\", \"es\", \"mundo\"],\n",
        "  [\"mio\", \"es\", \"mundi\"]\n",
        ") ➞ [1, 1, -1]\n",
        "    2. comprobacion(\n",
        "  [\"el\", \"garage\", \"tiene\", \"un\", \"cargador\"],\n",
        "  [\"el\", \"garaje\", \"tiene\", \"un\", \"cargador\"]\n",
        ") ➞ [1, -1, 1, 1, 1]\n",
        "\n",
        "* Las longitudes de las listas de entrada siempre serán las mismas."
      ],
      "metadata": {
        "id": "izF8DsSMfNHN"
      }
    },
    {
      "cell_type": "code",
      "source": [
        "# Método 1\n",
        "def comprobacion(lista_usuario, lista_correcta):\n",
        "    result = []\n",
        "    for i in range(len(lista_usuario)):\n",
        "        if lista_usuario[i] == lista_correcta[i]:\n",
        "            result.append(1)\n",
        "        else:\n",
        "            result.append(-1)\n",
        "    return result\n",
        "\n",
        "# Método 2\n",
        "def comprobacion(lista_usuario, lista_correcta):\n",
        "    result = []\n",
        "    for palabra_usuario, palabra_correcta in zip(lista_usuario, lista_correcta):\n",
        "        if palabra_usuario == palabra_correcta:\n",
        "            result.append(1)\n",
        "        else:\n",
        "            result.append(-1)\n",
        "    return result\n",
        "\n",
        "# Método 3\n",
        "def comprobacion(lista_usuario, lista_correcta):\n",
        "    return [1 if usuario == correcta else -1 for usuario, correcta in zip(lista_usuario, lista_correcta)]\n",
        "\n",
        "# Método 4\n",
        "def comprobacion(lista_usuario, lista_correcta):\n",
        "    return list(map(lambda x, y: 1 if x == y else -1, lista_usuario, lista_correcta))\n",
        "\n",
        "# Método 5\n",
        "import numpy as np\n",
        "\n",
        "def comprobacion(lista_usuario, lista_correcta):\n",
        "    return np.where(np.array(lista_usuario) == np.array(lista_correcta), 1, -1).tolist()"
      ],
      "metadata": {
        "id": "__c_XmTOfNHN"
      },
      "execution_count": null,
      "outputs": []
    },
    {
      "cell_type": "code",
      "source": [
        "print(comprobacion( [\"mio\", \"es\", \"mundo\"], [\"mio\", \"es\", \"mundi\"] ))\n",
        "print(comprobacion(\n",
        "  [\"el\", \"garage\", \"tiene\", \"un\", \"cargador\"],\n",
        "  [\"el\", \"garaje\", \"tiene\", \"un\", \"cargador\"]\n",
        "))"
      ],
      "metadata": {
        "id": "aK2owJQffNHN",
        "colab": {
          "base_uri": "https://localhost:8080/"
        },
        "outputId": "9099483b-e239-453d-f34f-5cd9f08f4e9b"
      },
      "execution_count": null,
      "outputs": [
        {
          "output_type": "stream",
          "name": "stdout",
          "text": [
            "[1, 1, -1]\n",
            "[1, -1, 1, 1, 1]\n"
          ]
        }
      ]
    },
    {
      "cell_type": "markdown",
      "source": [
        "## Reto 239: Eliminar todas las Vocales de un String\n",
        "* Cree una función que tome una cadena y devuelva una nueva cadena sin las vocales.\n",
        "* Ejemplos:\n",
        "    1. elimina_vocales(\"La cigüeña aún vive en Écija.\") ➞ \"L cgñ n vv n cj.\"\n",
        "    2. elimina_vocales(\"¿Álvaro es de Alcalá de Henares (Madrid) o de Avilés?\") ➞ \"¿lvr s d lcl d Hnrs (Mdrd)  d vls?\"\n",
        "    3. elimina_vocales(\"I'm a famous rock guitarist!\") ➞ \"'m  fms rck gtrst!\""
      ],
      "metadata": {
        "id": "MgvB1SlIfNSa"
      }
    },
    {
      "cell_type": "code",
      "source": [
        "# Método 1\n",
        "def elimina_vocales(frase):\n",
        "    texto = \"\"\n",
        "    for caracter in frase:\n",
        "        if caracter.lower() not in \"aeiouáéíóúü\":\n",
        "            texto += caracter\n",
        "    return texto\n",
        "\n",
        "# Método 2\n",
        "import re\n",
        "\n",
        "def elimina_vocales(cadena):\n",
        "    # Expresión regular para buscar vocales con o sin acentos o diéresis\n",
        "    patron = '[aeiouáéíóúüAEIOUÁÉÍÓÚÜ]'\n",
        "    # Sustituye las vocales con o sin acentos por una cadena vacía\n",
        "    return re.sub(patron, '', cadena)"
      ],
      "metadata": {
        "id": "WiL68JutfNSa"
      },
      "execution_count": null,
      "outputs": []
    },
    {
      "cell_type": "code",
      "source": [
        "# posiblemente sea necesario importar la librería en Colab\n",
        "!pip install unidecode"
      ],
      "metadata": {
        "id": "nWsHMujTkTUk",
        "outputId": "12adfb15-9b4b-4539-f038-51a6a2be8b2f",
        "colab": {
          "base_uri": "https://localhost:8080/"
        }
      },
      "execution_count": null,
      "outputs": [
        {
          "output_type": "stream",
          "name": "stdout",
          "text": [
            "Requirement already satisfied: unidecode in /usr/local/lib/python3.10/dist-packages (1.3.7)\n"
          ]
        }
      ]
    },
    {
      "cell_type": "code",
      "source": [
        "# Método 3\n",
        "from unidecode import unidecode\n",
        "\n",
        "def elimina_vocales(cadena):\n",
        "    # lleva cada caracter a su caracter base, elimina acentos y normaliza\n",
        "    base = unidecode(cadena)\n",
        "    return ''.join(letra for letra in base if letra.lower() not in \"aeiou\")"
      ],
      "metadata": {
        "id": "s3ds0nJ9jtH-"
      },
      "execution_count": null,
      "outputs": []
    },
    {
      "cell_type": "code",
      "source": [
        "print(elimina_vocales(\"La cigüeña aún vive en Écija.\"))\n",
        "print(elimina_vocales(\"¿Álvaro es de Alcalá de Henares (Madrid) o de Avilés?\"))\n",
        "print(elimina_vocales(\"I'm a famous rock guitarist!\"))"
      ],
      "metadata": {
        "id": "PkPnwwbafNSa",
        "colab": {
          "base_uri": "https://localhost:8080/"
        },
        "outputId": "ea3f602c-c874-4099-87d0-08ba86e61fbe"
      },
      "execution_count": null,
      "outputs": [
        {
          "output_type": "stream",
          "name": "stdout",
          "text": [
            "L cgn n vv n cj.\n",
            "?lvr s d lcl d Hnrs (Mdrd)  d vls?\n",
            "'m  fms rck gtrst!\n"
          ]
        }
      ]
    },
    {
      "cell_type": "markdown",
      "source": [
        "## Reto 240: Unos y Ceros a Booleanos\n",
        "* Cree una función que devuelva una lista de valores booleanos, a partir de un número determinado.\n",
        "* Iterando a través del número un dígito a la vez, agregue `True` si el dígito es 1 y `False` si es 0.\n",
        "* Ejemplos:\n",
        "    1. to_boolean(\"100101\") ➞ [True, False, False, True, False, True]\n",
        "    2. to_boolean(\"10\") ➞ [True, False]\n",
        "    3. to_boolean(\"001\") ➞ [False, False, True]"
      ],
      "metadata": {
        "id": "ttXowJvMfNeb"
      }
    },
    {
      "cell_type": "code",
      "source": [
        "# Método 1\n",
        "def to_boolean(cadena):\n",
        "    lista = []\n",
        "    for digito in cadena:\n",
        "        lista.append(bool(int(digito)))\n",
        "    return lista\n",
        "\n",
        "# Método 2\n",
        "def to_boolean(cadena):\n",
        "    return [bool(int(digito)) for digito in cadena]\n",
        "\n",
        "# Método 3\n",
        "def to_boolean(cadena):\n",
        "    return [digito == '1' for digito in cadena]\n",
        "\n",
        "# Método 4\n",
        "def to_boolean(cadena):\n",
        "    return list(map(lambda x: x == '1', cadena))\n",
        "\n",
        "# Método 5\n",
        "import numpy as np\n",
        "\n",
        "def to_boolean(cadena):\n",
        "    array_enteros = np.array(list(cadena), dtype=int)\n",
        "    return (array_enteros == 1).tolist()"
      ],
      "metadata": {
        "id": "BURYPCrsfNeb"
      },
      "execution_count": null,
      "outputs": []
    },
    {
      "cell_type": "code",
      "source": [
        "print(to_boolean(\"100101\"))\n",
        "print(to_boolean(\"10\"))\n",
        "print(to_boolean(\"001\"))"
      ],
      "metadata": {
        "id": "p0mQtNKIfNeb",
        "colab": {
          "base_uri": "https://localhost:8080/"
        },
        "outputId": "4876d6e1-4169-406d-b374-0d977c9cf89e"
      },
      "execution_count": null,
      "outputs": [
        {
          "output_type": "stream",
          "name": "stdout",
          "text": [
            "[True, False, False, True, False, True]\n",
            "[True, False]\n",
            "[False, False, True]\n"
          ]
        }
      ]
    },
    {
      "cell_type": "markdown",
      "source": [
        "## Reto 241: Comprobar Anagramas\n",
        "* Cree una función que tome dos cadenas y devuelva `True` o `False` dependiendo de si son anagramas o no.\n",
        "* Una pareja de palabras forman un [anagrama](https://es.wikipedia.org/wiki/Anagrama) cuando tienen las mismas letras, con la misma frecuencia y en distinto orden.\n",
        "* Ejemplos:\n",
        "    1. es_anagrama(\"cristian\", \"Cristina\") ➞ True\n",
        "    2. es_anagrama(\"Tema Roma\", \"Amor Mate\") ➞ True\n",
        "    3. es_anagrama(\"Nacionalista\", \"altisonancia\") ➞ True\n",
        "    4. es_anagrama(\"Calle\", \"valle\") ➞ False\n",
        "    5. es_anagrama(\"Rata\", \"Ratt\") ➞ False"
      ],
      "metadata": {
        "id": "etMQgALmfN5f"
      }
    },
    {
      "cell_type": "code",
      "source": [
        "# Método 1\n",
        "def es_anagrama(a, b):\n",
        "    a = a.lower().replace(\" \", \"\")\n",
        "    b = b.lower().replace(\" \", \"\")\n",
        "    return sorted(a) == sorted(b)"
      ],
      "metadata": {
        "id": "Vx1ORLXMfN5g"
      },
      "execution_count": null,
      "outputs": []
    },
    {
      "cell_type": "code",
      "source": [
        "print(es_anagrama(\"cristian\", \"Cristina\"))\n",
        "print(es_anagrama(\"Tema Roma\", \"Amor Mate\"))\n",
        "print(es_anagrama(\"Nacionalista\", \"altisonancia\"))\n",
        "print(es_anagrama(\"Calle\", \"valle\"))\n",
        "print(es_anagrama(\"Rata\", \"Ratt\"))"
      ],
      "metadata": {
        "id": "wuZpX5FbfN5g",
        "outputId": "d2889976-8a82-4d2e-e4d4-f9cc3dc82bb6",
        "colab": {
          "base_uri": "https://localhost:8080/"
        }
      },
      "execution_count": null,
      "outputs": [
        {
          "output_type": "stream",
          "name": "stdout",
          "text": [
            "True\n",
            "True\n",
            "True\n",
            "False\n",
            "False\n"
          ]
        }
      ]
    },
    {
      "cell_type": "markdown",
      "source": [
        "## Reto 242: ¿Es una lista un subconjunto de otra?\n",
        "* Cree una función que devuelva `True` si la primera lista es un subconjunto de la segunda.\n",
        "* Devuelve `False` en caso contrario.\n",
        "* Ambas listas contendrán sólo valores únicos\n",
        "* Ejemplos:\n",
        "    1. es_subconjunto([3, 2, 5], [5, 3, 7, 9, 2]) ➞ True\n",
        "    2. es_subconjunto([8, 9], [7, 1, 9, 8, 4, 5, 6]) ➞ True\n",
        "    3. es_subconjunto([1, 2], [3, 5, 9, 1]) ➞ False"
      ],
      "metadata": {
        "id": "_I9TnUVvfN_v"
      }
    },
    {
      "cell_type": "code",
      "source": [
        "# Método 1\n",
        "def es_subconjunto(l1, l2):\n",
        "    for e in l1:\n",
        "        if e not in l2:\n",
        "            return False\n",
        "    return True\n",
        "\n",
        "# Método 2\n",
        "def es_subconjunto(l1, l2):\n",
        "    return all(e in l2 for e in l1)\n",
        "\n",
        "# Método 3\n",
        "def es_subconjunto(lista1, lista2):\n",
        "    return set(lista1).issubset(set(lista2))"
      ],
      "metadata": {
        "id": "dmBxL9epfN_v"
      },
      "execution_count": null,
      "outputs": []
    },
    {
      "cell_type": "code",
      "source": [
        "print(es_subconjunto([3, 2, 5], [5, 3, 7, 9, 2]))\n",
        "print(es_subconjunto([8, 9], [7, 1, 9, 8, 4, 5, 6]))\n",
        "print(es_subconjunto([1, 2], [3, 5, 9, 1]))"
      ],
      "metadata": {
        "id": "oe30xCRAfN_v",
        "outputId": "f6e88b61-2eb4-4a5c-f5d6-a3622938f1d9",
        "colab": {
          "base_uri": "https://localhost:8080/"
        }
      },
      "execution_count": null,
      "outputs": [
        {
          "output_type": "stream",
          "name": "stdout",
          "text": [
            "True\n",
            "True\n",
            "False\n"
          ]
        }
      ]
    },
    {
      "cell_type": "markdown",
      "source": [
        "## Reto 243: Operador Ternario\n",
        "* Escriba una función que utilice el operador ternario para evaluar dos booleanos, `a` y `b`.\n",
        "* La función devolverá:\n",
        "    1. \"ambos\" si ambos booleanos `a` y `b` son `True`.\n",
        "    2. \"primero\" si solo `a` es `True`.\n",
        "    3. \"segundo\" si solo `b` es `True`.\n",
        "    4. \"ninguno\" si tanto `a` como `b` son `False`.\n",
        "* Tip: se pueden anidar varios operadores ternarios, aunque el exceso puede dificultar la lectura del código.\n",
        "* El objetivo es lograr una solución compacta y legible.\n",
        "* El siguiente código resuelve el caso pero no es eficiente y no está resuelto con operador ternario.\n",
        "```python\n",
        "def son_verdaderos(a, b):\n",
        "\tif a == True:\n",
        "\t\tif b == True:\n",
        "\t\t\treturn \"ambos\"\n",
        "\t\telse:\n",
        "\t\t\treturn \"primero\"\n",
        "\telif b == True:\n",
        "\t\treturn \"segundo\"\n",
        "\telse:\n",
        "\t\treturn \"ninguno\"\n",
        "```\n",
        "* Ejemplos:\n",
        "    1. son_verdaderos(True, True)\n",
        "    2. son_verdaderos(True, False)\n",
        "    3. son_verdaderos(False, True)\n",
        "    4. son_verdaderos(1, 1)\n",
        "    5. son_verdaderos(0, 0)"
      ],
      "metadata": {
        "id": "qw0O8P_OfOFa"
      }
    },
    {
      "cell_type": "code",
      "source": [
        "# Método 1\n",
        "def son_verdaderos(a, b):\n",
        "    if a and b:\n",
        "        return \"ambos\"\n",
        "    elif a:\n",
        "        return \"primero\"\n",
        "    elif b:\n",
        "        return \"segundo\"\n",
        "    else:\n",
        "        return \"ninguno\"\n",
        "\n",
        "# Método 2\n",
        "def son_verdaderos(a, b):\n",
        "    return \"ambos\" if a and b else \"primero\" if a else \"segundo\" if b else \"ninguno\""
      ],
      "metadata": {
        "id": "4bTh9dnRfOFb"
      },
      "execution_count": null,
      "outputs": []
    },
    {
      "cell_type": "code",
      "source": [
        "print(son_verdaderos(True, True))\n",
        "print(son_verdaderos(True, False))\n",
        "print(son_verdaderos(False, True))\n",
        "print(son_verdaderos(1, 1))\n",
        "print(son_verdaderos(0, 0))"
      ],
      "metadata": {
        "id": "_wVFz67TfOFb",
        "outputId": "911b3db2-c81e-4e9a-d2f1-ae01c7c3d51c",
        "colab": {
          "base_uri": "https://localhost:8080/"
        }
      },
      "execution_count": null,
      "outputs": [
        {
          "output_type": "stream",
          "name": "stdout",
          "text": [
            "ambos\n",
            "primero\n",
            "segundo\n",
            "ambos\n",
            "ninguno\n"
          ]
        }
      ]
    },
    {
      "cell_type": "markdown",
      "source": [
        "## Reto 244: Reducir a la mitad varias veces\n",
        "* Dados dos números enteros `a` y `b`, devuelva cuántas veces `a` se puede reducir a la mitad sin dejar de ser mayor que `b`.\n",
        "* El entero `a` siempre podrá reducirse a la mitad al menos una vez\n",
        "* Ejemplos:\n",
        "    1. cuenta_mitades(1324, 98) ➞ 3\n",
        "        * (1324 -> 662 -> 331 -> 165.5)\n",
        "    2. cuenta_mitades(624, 8) ➞ 6\n",
        "        *  (624 -> 312 -> 156 -> 78 -> 39 -> 19.5 -> 9.75)\n",
        "    3. cuenta_mitades(1000, 3) ➞ 8\n",
        "        * (1000 -> 500 -> 250 -> 125 -> 62.5 -> 31.25 -> 15.625 -> 7.8125 -> 3.90625)\n",
        "    4. cuenta_mitades(1024, 2) ➞ 8\n",
        "        * (1024 -> 512 -> 256 -> 128 -> 64 -> 32 -> 16 -> 8 -> 4)\n",
        "    5. cuenta_mitades(1048576, 1) ➞ 19\n",
        "        * (1048576 -> 524288 -> ... 1024 -> 512 -> 256 -> 128 -> 64 -> 32 -> 16 -> 8 -> 4 -> 2)\n"
      ],
      "metadata": {
        "id": "3dnZFrFtfOLq"
      }
    },
    {
      "cell_type": "code",
      "source": [
        "# Método 1. Bucle while\n",
        "def cuenta_mitades(a, b):\n",
        "    contador = 0\n",
        "    while a / 2 > b:\n",
        "        contador += 1\n",
        "        a /= 2\n",
        "    return contador\n",
        "\n",
        "# Método 2. Función recursiva\n",
        "def cuenta_mitades(a, b, count=0):\n",
        "    if a/2 <= b:\n",
        "        return count\n",
        "    else:\n",
        "        return cuenta_mitades(a / 2, b, count + 1)"
      ],
      "metadata": {
        "id": "jEm_Qkl7fOLr"
      },
      "execution_count": null,
      "outputs": []
    },
    {
      "cell_type": "code",
      "source": [
        "print(cuenta_mitades(1324, 98))\n",
        "print(cuenta_mitades(624, 8))\n",
        "print(cuenta_mitades(1000, 3))\n",
        "print(cuenta_mitades(1024, 2))\n",
        "print(cuenta_mitades(1048576, 1))"
      ],
      "metadata": {
        "id": "rD4fSpmRfOLr",
        "colab": {
          "base_uri": "https://localhost:8080/"
        },
        "outputId": "f42b314a-d6e4-42b5-dcbc-bc5429e33f14"
      },
      "execution_count": null,
      "outputs": [
        {
          "output_type": "stream",
          "name": "stdout",
          "text": [
            "3\n",
            "6\n",
            "8\n",
            "8\n",
            "19\n"
          ]
        }
      ]
    },
    {
      "cell_type": "markdown",
      "source": [
        "## Reto 245: Enésimo entero más pequeño\n",
        "* Dada una lista sin ordenar, cree una función que devuelva el enésimo entero más pequeño.\n",
        "* El entero más pequeño es el primero más pequeño, el segundo entero más pequeño es el segundo más pequeño, etc.\n",
        "* `n` siempre será >= 1.\n",
        "* Cada número en el array será distinto (habrá un orden claro).\n",
        "* Dado un parámetro fuera de límites devuelva `None`.\n",
        "* Ejemplos:\n",
        "    1. n_esimo_menor([1, 3, 5, 7], 1) ➞ 1\n",
        "    2. n_esimo_menor([1, 3, 5, 7], 3) ➞ 5\n",
        "    3. n_esimo_menor([7, 3, 5, 1], 2) ➞ 3\n",
        "    4. n_esimo_menor([1, 3, 5, 7], 5) ➞ `None`"
      ],
      "metadata": {
        "id": "TYy0sqo6fORX"
      }
    },
    {
      "cell_type": "code",
      "source": [
        "# Método 1\n",
        "def n_esimo_menor(lista, n):\n",
        "    if n > len(lista):\n",
        "        return None\n",
        "    else:\n",
        "        lista.sort()\n",
        "        return lista[n - 1]\n",
        "\n",
        "# Método 2\n",
        "def n_esimo_menor(lista, n):\n",
        "    if n > len(lista):\n",
        "        return None\n",
        "    for _ in range(n-1):\n",
        "        lista.remove(min(lista))\n",
        "    return min(lista)"
      ],
      "metadata": {
        "id": "GGYEI6-RfORX"
      },
      "execution_count": null,
      "outputs": []
    },
    {
      "cell_type": "code",
      "source": [
        "print(n_esimo_menor([1, 3, 5, 7], 1))\n",
        "print(n_esimo_menor([1, 3, 5, 7], 3))\n",
        "print(n_esimo_menor([7, 3, 5, 1], 2))\n",
        "print(n_esimo_menor([1, 3, 5, 7], 5))"
      ],
      "metadata": {
        "id": "rOfAmhb9fORX",
        "colab": {
          "base_uri": "https://localhost:8080/"
        },
        "outputId": "f3045fea-5704-40ee-dfa4-d3e2c91719c7"
      },
      "execution_count": null,
      "outputs": [
        {
          "output_type": "stream",
          "name": "stdout",
          "text": [
            "1\n",
            "5\n",
            "3\n",
            "None\n"
          ]
        }
      ]
    },
    {
      "cell_type": "markdown",
      "source": [
        "## Reto 246: Mano de Scrabble\n",
        "* Dada una lista de fichas de scrabble (como diccionarios), cree una función que genere la puntuación máxima posible que un jugador puede lograr sumando el número total de puntos de todas las fichas en su mano.\n",
        "* Cada mano contiene 7 fichas de scrabble.\n",
        "* Cada ficha se representa como un diccionario donde se indica la letra y sus puntos.\n",
        "* Ejemplos:\n",
        "    1. <pre>maxima_puntuacion([\n",
        "  { \"ficha\": \"N\", \"puntos\": 1 },\n",
        "  { \"ficha\": \"K\", \"puntos\": 5 },\n",
        "  { \"ficha\": \"Z\", \"puntos\": 10 },\n",
        "  { \"ficha\": \"X\", \"puntos\": 8 },\n",
        "  { \"ficha\": \"D\", \"puntos\": 2 },\n",
        "  { \"ficha\": \"A\", \"puntos\": 1 },\n",
        "  { \"ficha\": \"E\", \"puntos\": 1 }\n",
        "]) ➞ 28</pre>\n",
        "    2. <pre>maxima_puntuacion([\n",
        "  { \"ficha\": \"B\", \"puntos\": 2 },\n",
        "  { \"ficha\": \"V\", \"puntos\": 4 },\n",
        "  { \"ficha\": \"F\", \"puntos\": 4 },\n",
        "  { \"ficha\": \"U\", \"puntos\": 1 },\n",
        "  { \"ficha\": \"D\", \"puntos\": 2 },\n",
        "  { \"ficha\": \"O\", \"puntos\": 1 },\n",
        "  { \"ficha\": \"U\", \"puntos\": 1 }\n",
        "]) ➞ 15</pre>"
      ],
      "metadata": {
        "id": "Zf1J4v06fOXq"
      }
    },
    {
      "cell_type": "code",
      "source": [
        "# Método 1. Bucle for\n",
        "def maxima_puntuacion(mano):\n",
        "    total = 0\n",
        "    for ficha in mano:\n",
        "        total += ficha['puntos']\n",
        "    return total\n",
        "\n",
        "# Método 2. Usando un Generador por compresión *Generator Expressions*\n",
        "def maxima_puntuacion(mano):\n",
        "    return sum(ficha['puntos'] for ficha in mano)\n",
        "\n",
        "# Método 3. Usando el método get()\n",
        "def maxima_puntuacion(mano):\n",
        "    return sum(ficha.get('puntos') for ficha in mano)"
      ],
      "metadata": {
        "id": "Zn9n0D_GfOXr"
      },
      "execution_count": null,
      "outputs": []
    },
    {
      "cell_type": "code",
      "source": [
        "mano1 = [\n",
        "{ \"ficha\": \"N\", \"puntos\": 1 },\n",
        "{ \"ficha\": \"K\", \"puntos\": 5 },\n",
        "{ \"ficha\": \"Z\", \"puntos\": 10 },\n",
        "{ \"ficha\": \"X\", \"puntos\": 8 },\n",
        "{ \"ficha\": \"D\", \"puntos\": 2 },\n",
        "{ \"ficha\": \"A\", \"puntos\": 1 },\n",
        "{ \"ficha\": \"E\", \"puntos\": 1 }\n",
        "]\n",
        "\n",
        "mano2 = [\n",
        "{ \"ficha\": \"B\", \"puntos\": 2 },\n",
        "{ \"ficha\": \"V\", \"puntos\": 4 },\n",
        "{ \"ficha\": \"F\", \"puntos\": 4 },\n",
        "{ \"ficha\": \"U\", \"puntos\": 1 },\n",
        "{ \"ficha\": \"D\", \"puntos\": 2 },\n",
        "{ \"ficha\": \"O\", \"puntos\": 1 },\n",
        "{ \"ficha\": \"U\", \"puntos\": 1 }\n",
        "]\n",
        "\n",
        "print(maxima_puntuacion(mano1))\n",
        "print(maxima_puntuacion(mano2))"
      ],
      "metadata": {
        "id": "vnX0-I5SfOXr",
        "colab": {
          "base_uri": "https://localhost:8080/"
        },
        "outputId": "a732ae84-39c8-4949-c4e6-dbf75bce3c52"
      },
      "execution_count": null,
      "outputs": [
        {
          "output_type": "stream",
          "name": "stdout",
          "text": [
            "28\n",
            "15\n"
          ]
        }
      ]
    },
    {
      "cell_type": "markdown",
      "source": [
        "## Reto 247: Números automórficos\n",
        "* Un número `n` es automórfico si `n^2` termina en `n`.\n",
        "* Por ejemplo: n=5, n^2=25\n",
        "* Cree una función que tome un número y devuelva `True` si el número es automórfico, `False` si no lo es.\n",
        "* Ejemplos:\n",
        "    1. es_automorfico(8) ➞ False\n",
        "    2. es_automorfico(5) ➞ True\n",
        "    3. es_automorfico(6) ➞ True\n",
        "    4. es_automorfico(76) ➞ True\n",
        "    5. es_automorfico(625) ➞ True\n",
        "    6. es_automorfico(787_109_376) ➞ True"
      ],
      "metadata": {
        "id": "W0l9dhL-fOer"
      }
    },
    {
      "cell_type": "code",
      "source": [
        "# Método 1\n",
        "def es_automorfico(n):\n",
        "    cuadrado = str(n**2)\n",
        "    return cuadrado.endswith(str(n))\n",
        "\n",
        "# Método 2\n",
        "def es_automorfico(n):\n",
        "    cuadrado = str(n * n)\n",
        "    largo = len(str(n))\n",
        "    return cuadrado[-largo:] == str(n)\n",
        "\n",
        "# Método 3\n",
        "def es_automorfico(n):\n",
        "    cuadrado = n ** 2\n",
        "    largo = len(str(n))\n",
        "    ultimos_digitos = cuadrado % (10 ** largo)\n",
        "    if n == ultimos_digitos:\n",
        "        return True\n",
        "    return False"
      ],
      "metadata": {
        "id": "lS5KEYz7fOer"
      },
      "execution_count": null,
      "outputs": []
    },
    {
      "cell_type": "code",
      "source": [
        "print(es_automorfico(8))\n",
        "print(es_automorfico(5))\n",
        "print(es_automorfico(6))\n",
        "print(es_automorfico(76))\n",
        "print(es_automorfico(625))\n",
        "print(es_automorfico(787_109_376))"
      ],
      "metadata": {
        "id": "PT5SxGbefOes",
        "colab": {
          "base_uri": "https://localhost:8080/"
        },
        "outputId": "5a5c2478-248e-4847-a17d-dd87ed3d8501"
      },
      "execution_count": null,
      "outputs": [
        {
          "output_type": "stream",
          "name": "stdout",
          "text": [
            "False\n",
            "True\n",
            "True\n",
            "True\n",
            "True\n",
            "True\n"
          ]
        }
      ]
    },
    {
      "cell_type": "markdown",
      "source": [
        "## Reto 248: Ordenar las letras de una palabra\n",
        "* Cree una función que reciba una cadena y retorne una lista con dos palabras.\n",
        "* La primera palabra retornada estará formada por todas las letras de la palabra recibida pero ordenadas en orden alfabético creciente.\n",
        "* La segunda palabra retornada estará formada por todas las letras de la palabra recibida pero ordenadas en orden alfabético decreciente.\n",
        "* Ejemplos:\n",
        "    1. creciente_decreciente(\"casa\") ➞ [\"aacs\", \"scaa\"]\n",
        "    2. creciente_decreciente(\"animal\") ➞ ['aailmn', 'nmliaa']\n",
        "    3. creciente_decreciente(\"amor\") ➞ ['amor', 'roma']\n",
        "    4. creciente_decreciente(\"colinas\") ➞ ['acilnos', 'sonlica']\n",
        "\n",
        "\n"
      ],
      "metadata": {
        "id": "1mBthCBmfOlu"
      }
    },
    {
      "cell_type": "code",
      "source": [
        "# Método 1\n",
        "def creciente_decreciente(palabra):\n",
        "    creciente = ''.join(sorted(palabra))\n",
        "    decreciente = ''.join(sorted(palabra, reverse=True))\n",
        "    return [creciente, decreciente]"
      ],
      "metadata": {
        "id": "ebCF75AcfOlu"
      },
      "execution_count": null,
      "outputs": []
    },
    {
      "cell_type": "code",
      "source": [
        "print(creciente_decreciente(\"casa\"))\n",
        "print(creciente_decreciente(\"animal\"))\n",
        "print(creciente_decreciente(\"amor\"))\n",
        "print(creciente_decreciente(\"colinas\"))"
      ],
      "metadata": {
        "id": "xmHd0wArfOlv",
        "colab": {
          "base_uri": "https://localhost:8080/"
        },
        "outputId": "5ef8f957-bba2-4200-cef0-ecc777cb4f3d"
      },
      "execution_count": null,
      "outputs": [
        {
          "output_type": "stream",
          "name": "stdout",
          "text": [
            "['aacs', 'scaa']\n",
            "['aailmn', 'nmliaa']\n",
            "['amor', 'roma']\n",
            "['acilnos', 'sonlica']\n"
          ]
        }
      ]
    },
    {
      "cell_type": "markdown",
      "source": [
        "## Reto 249: Cuatro pasajeros y un conductor\n",
        "* Un automóvil típico tiene capacidad para cuatro pasajeros y un conductor, lo que permite viajar a cinco personas.\n",
        "* Dado un número `n` de personas, indique cuántos automóviles se necesitan para que todos se sienten cómodamente.\n",
        "* Ejemplos:\n",
        "    1. autos_necesarios(5) ➞ 1\n",
        "    2. autos_necesarios(11) ➞ 3\n",
        "    3. autos_necesarios(14) ➞ 3\n",
        "    4. autos_necesarios(15) ➞ 3\n",
        "    5. autos_necesarios(16) ➞ 4\n",
        "    6. autos_necesarios(0) ➞ 0"
      ],
      "metadata": {
        "id": "6a_ZJD6ofOse"
      }
    },
    {
      "cell_type": "code",
      "source": [
        "# Método 1\n",
        "def autos_necesarios(n):\n",
        "    return (n + 4) // 5\n",
        "\n",
        "# Método 2\n",
        "def autos_necesarios(n):\n",
        "    autos, resto = divmod(n, 5)\n",
        "    return autos + (resto > 0)\n",
        "\n",
        "# Método 3\n",
        "from math import ceil      # para redondear hacia arriba\n",
        "\n",
        "def cars_needed(people):\n",
        "    return ceil(people / 5)"
      ],
      "metadata": {
        "id": "XgEL8HiufOse"
      },
      "execution_count": null,
      "outputs": []
    },
    {
      "cell_type": "code",
      "source": [
        "print(autos_necesarios(5))\n",
        "print(autos_necesarios(11))\n",
        "print(autos_necesarios(14))\n",
        "print(autos_necesarios(15))\n",
        "print(autos_necesarios(16))\n",
        "print(autos_necesarios(0))"
      ],
      "metadata": {
        "id": "9dF8BfX_fOse",
        "colab": {
          "base_uri": "https://localhost:8080/"
        },
        "outputId": "a458ba72-997b-4658-aab7-1a134f944f4c"
      },
      "execution_count": null,
      "outputs": [
        {
          "output_type": "stream",
          "name": "stdout",
          "text": [
            "1\n",
            "3\n",
            "3\n",
            "3\n",
            "4\n",
            "0\n"
          ]
        }
      ]
    },
    {
      "cell_type": "markdown",
      "source": [
        "## Reto 250: Multiplicar por su índice\n",
        "* Devuelva la suma de todos los elementos de una lista, donde cada elemento se multiplica por su índice.\n",
        "* Recuerde que el index de un array comienza en cero.\n",
        "* Para listas vacías, devuelva 0.\n",
        "* Todos los elementos de la lista serán números enteros.\n",
        "* Ejemplos:\n",
        "    1. multiplicar_por_su_index([1, 2, 3, 4, 5]) ➞ 40\n",
        "        - (1\\*0 + 2\\*1 + 3\\*2 + 4\\*3 + 5\\*4)\n",
        "    2. multiplicar_por_su_index([-3, 0, 8, -6]) ➞ -2\n",
        "        - (-3\\*0 + 0\\*1 + 8\\*2 + -6\\*3)\n",
        "    3. multiplicar_por_su_index([]) ➞ 0"
      ],
      "metadata": {
        "id": "5d1vCSKAfOzc"
      }
    },
    {
      "cell_type": "code",
      "source": [
        "# Método 1\n",
        "def multiplicar_por_su_index(lista):\n",
        "    result = 0\n",
        "    for index, value in enumerate(lista):\n",
        "        result += index * value\n",
        "    return result\n",
        "\n",
        "# Método 2\n",
        "def multiplicar_por_su_index(lista):\n",
        "    return sum(i * v for i, v in enumerate(lista))\n",
        "\n",
        "# Método 3\n",
        "def multiplicar_por_su_index(lista):\n",
        "    return sum(i * lista[i] for i in range(len(lista)))\n",
        "\n",
        "# Método 4\n",
        "def multiplicar_por_su_index(lista):\n",
        "    return sum([a * b for a, b in zip(lista, range(len(lista)))])\n",
        "\n",
        "# Método 5\n",
        "def multiplicar_por_su_index(a):\n",
        "    b = range(len(a))\n",
        "    return sum([a[i] * b[i] for i in b])\n",
        "\n",
        "# Método 6\n",
        "def multiplicar_por_su_index(a):\n",
        "    b = range(len(a))\n",
        "    return sum(map(lambda x, y: x * y, a, b))\n",
        "\n",
        "# Método 7\n",
        "import numpy as np\n",
        "\n",
        "def multiplicar_por_su_index(lista):\n",
        "    arr = np.array(lista)\n",
        "    indices = np.arange(len(arr))\n",
        "    return sum(indices * arr)"
      ],
      "metadata": {
        "id": "zqgPSx3hfOzc"
      },
      "execution_count": null,
      "outputs": []
    },
    {
      "cell_type": "code",
      "source": [
        "print(multiplicar_por_su_index([1, 2, 3, 4, 5]))\n",
        "print(multiplicar_por_su_index([-3, 0, 8, -6]))\n",
        "print(multiplicar_por_su_index([]))"
      ],
      "metadata": {
        "id": "YLEPXRoAfOzd",
        "colab": {
          "base_uri": "https://localhost:8080/"
        },
        "outputId": "babde8ad-0d34-4fdd-83a1-20a7845dc193"
      },
      "execution_count": null,
      "outputs": [
        {
          "output_type": "stream",
          "name": "stdout",
          "text": [
            "40\n",
            "-2\n",
            "0\n"
          ]
        }
      ]
    },
    {
      "cell_type": "markdown",
      "source": [
        "## Reto 251: Amplifica los múltiplos de cuatro\n",
        "* Cree una función que tome un número entero `n` y devuelva una lista del 1 al número dado, donde:\n",
        "    - Si el número es divisible entre 4, amplificarlo por 10 (es decir, devolver 10 veces el número).\n",
        "    - Si el número no es divisible entre 4, simplemente devuelve el número.\n",
        "* Ejemplos:\n",
        "    1. amplifica(4) ➞ [1, 2, 3, 40]\n",
        "    2. amplifica(3) ➞ [1, 2, 3]\n",
        "    3. amplifica(17) ➞ [1, 2, 3, 40, 5, 6, 7, 80, 9, 10, 11, 120, 13, 14, 15, 160, 17]\n",
        "* Resolver usando *list comprehension*."
      ],
      "metadata": {
        "id": "l5zuGod8fPSF"
      }
    },
    {
      "cell_type": "code",
      "source": [
        "# Método 1\n",
        "def amplifica(n):\n",
        "    return [i * 10 if i % 4 == 0 else i for i in range(1, n + 1)]\n",
        "\n",
        "# Método 2\n",
        "def amplifica(n):\n",
        "    return [i if i % 4 else i * 10 for i in range(1, n + 1)]"
      ],
      "metadata": {
        "id": "yWttFoBHfPSG"
      },
      "execution_count": null,
      "outputs": []
    },
    {
      "cell_type": "code",
      "source": [
        "print(amplifica(4))\n",
        "print(amplifica(3))\n",
        "print(amplifica(17))"
      ],
      "metadata": {
        "id": "t-QsTC_HfPSG",
        "colab": {
          "base_uri": "https://localhost:8080/"
        },
        "outputId": "4f382a3b-d5af-49d9-8c9d-d30c655fa1b5"
      },
      "execution_count": null,
      "outputs": [
        {
          "output_type": "stream",
          "name": "stdout",
          "text": [
            "[1, 2, 3, 40]\n",
            "[1, 2, 3]\n",
            "[1, 2, 3, 40, 5, 6, 7, 80, 9, 10, 11, 120, 13, 14, 15, 160, 17]\n"
          ]
        }
      ]
    },
    {
      "cell_type": "markdown",
      "source": [
        "## Reto 252: Mayúsculas o minúsculas\n",
        "* Devuelva el menor número de pasos necesarios para convertir una cadena completamente en mayúsculas o completamente en minúsculas, lo que requiera menos pasos.\n",
        "* Un paso consiste en cambiar un carácter de minúscula a mayúscula, o viceversa.\n",
        "* Ejemplos:\n",
        "    1. pasos_necesarios(\"abC\") ➞ 1\n",
        "        * \"abC\" se convierte en \"abc\" en 1 paso\n",
        "    2. pasos_necesarios(\"abCBA\") ➞ 2\n",
        "        * \"abCBA\" se convierte en \"ABCBA\" en 2 pasos\n",
        "    3. pasos_necesarios(\"aba\") ➞ 0\n",
        "    4. pasos_necesarios(\"abaCCC\") ➞ 3\n",
        "    5. pasos_necesarios(\"\") ➞ 0\n",
        "    6. pasos_necesarios(\"XYZ\") ➞ 0\n",
        "\n",
        "* Devolver 0 si la cadena está vacía.\n",
        "* Devolver 0 si la cadena ya está completamente en un solo caso.\n",
        "* Solo se usan caracteres alfabéticos del inglés.\n",
        "* La entrada no tiene espacios."
      ],
      "metadata": {
        "id": "0E_4Tq_ZfPYA"
      }
    },
    {
      "cell_type": "code",
      "source": [
        "# Método 1\n",
        "def pasos_necesarios(s):\n",
        "    upper_count = 0\n",
        "    lower_count = 0\n",
        "    for char in s:\n",
        "        if char == char.upper():\n",
        "            upper_count += 1\n",
        "        elif char == char.lower():\n",
        "            lower_count += 1\n",
        "    return min(upper_count, lower_count)\n",
        "\n",
        "# Método 2\n",
        "def pasos_necesarios(s):\n",
        "    upper_count = sum(1 for char in s if char.isupper())\n",
        "    lower_count = len(s) - upper_count\n",
        "    return min(upper_count, lower_count)\n",
        "\n",
        "# Método 3\n",
        "def pasos_necesarios(s):\n",
        "    is_upper = lambda x: x in s.upper()     # función que detecta si un caracter del string s está en mayúsculas\n",
        "    upper_changes = sum(1 for char in s if not is_upper(char))\n",
        "    lower_changes = sum(1 for char in s if is_upper(char))\n",
        "    return min(upper_changes, lower_changes)\n",
        "\n",
        "# Método 4\n",
        "def pasos_necesarios(s):\n",
        "    is_upper = lambda x: x in s.upper()\n",
        "    upper_count = sum(1 for char in s if is_upper(char))\n",
        "    return min(upper_count, len(s) - upper_count)"
      ],
      "metadata": {
        "id": "A9MUEElBfPYA"
      },
      "execution_count": null,
      "outputs": []
    },
    {
      "cell_type": "code",
      "source": [
        "print(pasos_necesarios(\"abC\"))\n",
        "print(pasos_necesarios(\"abCBA\"))\n",
        "print(pasos_necesarios(\"aba\"))\n",
        "print(pasos_necesarios(\"abaCCC\"))\n",
        "print(pasos_necesarios(\"\"))\n",
        "print(pasos_necesarios(\"XYZ\"))"
      ],
      "metadata": {
        "id": "NeDVWg0CfPYA",
        "colab": {
          "base_uri": "https://localhost:8080/"
        },
        "outputId": "e7ecc05f-9381-4c29-b5ca-44bd5cd3c6ab"
      },
      "execution_count": null,
      "outputs": [
        {
          "output_type": "stream",
          "name": "stdout",
          "text": [
            "1\n",
            "2\n",
            "0\n",
            "3\n",
            "0\n",
            "0\n"
          ]
        }
      ]
    },
    {
      "cell_type": "markdown",
      "source": [
        "## Reto 253: ¿Qué número no es como los demás?\n",
        "* Cree una función que tome una lista de números y devuelva el número que es único.\n",
        "* Los casos de prueba siempre tendrán exactamente un número único, mientras que todos los demás serán iguales.\n",
        "* Ejemplos:\n",
        "    1. unico([3, 3, 3, 7, 3, 3]) ➞ 7\n",
        "    2. unico([0, 0, 0.77, 0, 0]) ➞ 0.77\n",
        "    3. unico([0, 1, 1, 1, 1, 1, 1, 1]) ➞ 0\n",
        "    4. unico([2, -9, 2]) ➞ -9"
      ],
      "metadata": {
        "id": "zh37u310fPd9"
      }
    },
    {
      "cell_type": "code",
      "source": [
        "# Método 1\n",
        "def unico(lista):\n",
        "    return sum(x if lista.count(x) == 1 else 0 for x in lista)\n",
        "\n",
        "# Método 2\n",
        "def unico(lista):\n",
        "    conjunto = set(lista)\n",
        "    for elemento in conjunto:\n",
        "        if lista.count(elemento) == 1:\n",
        "            return elemento\n",
        "\n",
        "# Método 3\n",
        "def unico(lista):\n",
        "    conjunto = set(lista)\n",
        "    return sum([elemento for elemento in conjunto if lista.count(elemento) == 1])\n",
        "\n",
        "# Método 4\n",
        "def unico(lista):\n",
        "    for num in lista:\n",
        "        if lista.count(num) == 1:\n",
        "            return\n",
        "\n",
        "# Método 5\n",
        "def unico(lista):\n",
        "    return next(num for num in lista if lista.count(num) == 1)\n",
        "# se utiliza una expresión generadora dentro de la función next()\n",
        "# para buscar y devolver el primer número en la lista que ocurre exactamente una vez"
      ],
      "metadata": {
        "id": "fKtMfFlzIiHq"
      },
      "execution_count": null,
      "outputs": []
    },
    {
      "cell_type": "code",
      "source": [
        "print(unico([3, 3, 3, 7, 3, 3]))\n",
        "print(unico([0, 0, 0.77, 0, 0]))\n",
        "print(unico([0, 1, 1, 1, 1, 1, 1, 1]))\n",
        "print(unico([2, -9, 2]))"
      ],
      "metadata": {
        "id": "32YqR_qXfPd-",
        "colab": {
          "base_uri": "https://localhost:8080/"
        },
        "outputId": "c2a76157-2633-4b13-b462-7734ff864e61"
      },
      "execution_count": null,
      "outputs": [
        {
          "output_type": "stream",
          "name": "stdout",
          "text": [
            "7\n",
            "0.77\n",
            "0\n",
            "-9\n"
          ]
        }
      ]
    },
    {
      "cell_type": "markdown",
      "source": [
        "## Reto 254: Dispositivo de mensajería con un solo botón\n",
        "* Imagine un dispositivo de mensajería con un solo botón.\n",
        "* Para la letra A, presionas el botón una vez, para E, lo presionas cinco veces, para G, se presiona siete veces y así hasta la z que requiere ser presionado el botón 26 veces.\n",
        "* Todas las letras van en minúsculas y se usa el alfabeto inglés y no hay espacios.\n",
        "* Escriba una función que tome una cadena (el mensaje) y devuelva el número total de veces que se presiona el botón.\n",
        "* Ejemplos:\n",
        "    1. cuantas_veces(\"abde\") ➞ 12\n",
        "    2. cuantas_veces(\"azy\") ➞ 52\n",
        "    3. cuantas_veces(\"hola\") ➞ 36\n",
        "    4. cuantas_veces(\"abcdefghijklmnopqrstuvwxyz\") ➞ 351"
      ],
      "metadata": {
        "id": "_Izlp08bfPj9"
      }
    },
    {
      "cell_type": "code",
      "source": [
        "# la letra 'a' minúscula en ASCII es el caracter 97\n",
        "# ord('a') # out: 97\n",
        "# chr(97)  # out: 'a'\n",
        "# la letra 'z' minúscula en ASCII es el caracter 122\n",
        "\n",
        "# Método 1\n",
        "def cuantas_veces(cadena):\n",
        "    total = 0\n",
        "    for letra in cadena:\n",
        "        total += ord(letra) - 96\n",
        "    return total\n",
        "\n",
        "# Método 2\n",
        "def cuantas_veces(cadena):\n",
        "    total = 0\n",
        "    for letra in cadena:\n",
        "        total += ord(letra) - ord('a') + 1\n",
        "    return total\n",
        "\n",
        "# Método 3\n",
        "def cuantas_veces(mensaje):\n",
        "    return sum(ord(letra) - 96 for letra in mensaje)\n",
        "\n",
        "# Método 4\n",
        "def cuantas_veces(mensaje):\n",
        "    presiones = {letra: i + 1 for i, letra in enumerate('abcdefghijklmnopqrstuvwxyz')}\n",
        "    return sum(presiones[letra] for letra in mensaje)"
      ],
      "metadata": {
        "id": "kPmYCA2MfPj-"
      },
      "execution_count": null,
      "outputs": []
    },
    {
      "cell_type": "code",
      "source": [
        "print(cuantas_veces(\"abde\"))\n",
        "print(cuantas_veces(\"azy\"))\n",
        "print(cuantas_veces(\"hola\"))\n",
        "print(cuantas_veces(\"abcdefghijklmnopqrstuvwxyz\"))"
      ],
      "metadata": {
        "id": "a0ZypY4ifPj-",
        "outputId": "d2a2f733-33a5-41f1-8d70-6ff887edbfd7",
        "colab": {
          "base_uri": "https://localhost:8080/"
        }
      },
      "execution_count": null,
      "outputs": [
        {
          "output_type": "stream",
          "name": "stdout",
          "text": [
            "12\n",
            "52\n",
            "36\n",
            "351\n"
          ]
        }
      ]
    },
    {
      "cell_type": "markdown",
      "source": [
        "## Reto 255: Ordenar una lista por longitud de cadena\n",
        "* Cree una función que tome una lista de cadenas y devuelva una lista, ordenada del más corto al más largo.\n",
        "* En la lista de palabras proporcionada todas las palabras tendrán una longitud diferente.\n",
        "* Ejemplos:\n",
        "    1. ordenar_por_longitud([\"Pasteur\", \"Hipócrates\", \"Cajal\", \"Galeno\"])\n",
        "➞ ['Cajal', 'Galeno', 'Pasteur', 'Hipócrates']\n",
        "    2. ordenar_por_longitud([\"Sócrates\", \"Arquímedes\", \"Anaximandro\", \"Demócrito\", \"Tales\"])\n",
        "➞ ['Tales', 'Sócrates', 'Demócrito', 'Arquímedes', 'Anaximandro']\n",
        "    3. ordenar_por_longitud([\"Turing\", \"Einstein\", \"Galileo\", \"Fermi\"])\n",
        "➞ ['Fermi', 'Turing', 'Galileo', 'Einstein']"
      ],
      "metadata": {
        "id": "TfXKBHU1fPp9"
      }
    },
    {
      "cell_type": "code",
      "source": [
        "# Método 1. Con una función lambda para la key de ordenación\n",
        "def ordenar_por_longitud(palabras):\n",
        "    return sorted(palabras, key=lambda x: len(x))\n",
        "\n",
        "# Método 2. No es necesaria la función lambda\n",
        "def ordenar_por_longitud(palabras):\n",
        "    return sorted(palabras, key=len)\n",
        "\n",
        "# Método 3. Con el método sort\n",
        "def ordenar_por_longitud(palabras):\n",
        "    palabras.sort(key=len)\n",
        "    return palabras\n",
        "\n",
        "# Método 4. Usando el método \"bubble sort\" de ordenación\n",
        "def ordenar_por_longitud(lista):\n",
        "    n = len(lista)\n",
        "    for i in range(n - 1):\n",
        "        for j in range(0, n - i - 1):\n",
        "            if len(lista[j]) > len(lista[j + 1]):\n",
        "                lista[j], lista[j + 1] = lista[j + 1], lista[j]\n",
        "    return lista"
      ],
      "metadata": {
        "id": "QLjNymqwfPp9"
      },
      "execution_count": null,
      "outputs": []
    },
    {
      "cell_type": "code",
      "source": [
        "print(ordenar_por_longitud([\"Pasteur\", \"Hipócrates\", \"Cajal\", \"Galeno\"]))\n",
        "print(ordenar_por_longitud([\"Sócrates\", \"Arquímedes\", \"Anaximandro\", \"Demócrito\", \"Tales\"]))\n",
        "print(ordenar_por_longitud([\"Turing\", \"Einstein\", \"Galileo\", \"Fermi\"]))"
      ],
      "metadata": {
        "id": "D3sCo8_lfPp-",
        "colab": {
          "base_uri": "https://localhost:8080/"
        },
        "outputId": "b04849d0-dc53-4b8b-ee91-17d2ed7f3840"
      },
      "execution_count": null,
      "outputs": [
        {
          "output_type": "stream",
          "name": "stdout",
          "text": [
            "['Cajal', 'Galeno', 'Pasteur', 'Hipócrates']\n",
            "['Tales', 'Sócrates', 'Demócrito', 'Arquímedes', 'Anaximandro']\n",
            "['Fermi', 'Turing', 'Galileo', 'Einstein']\n"
          ]
        }
      ]
    },
    {
      "cell_type": "markdown",
      "source": [
        "## Reto 256: Mover letras mayúsculas al frente\n",
        "* Cree una función que mueva todas las letras mayúsculas al principio de una palabra.\n",
        "* Mantenga igual el orden relativo original de las letras mayúsculas y minúsculas.\n",
        "* Ejemplos:\n",
        "    1. mayusculas_primero(\"asombrOSO\") ➞ \"OSOasombr\"\n",
        "    2. mayusculas_primero(\"buenosDÍAS\") ➞ \"DÍASbuenos\"\n",
        "    3. mayusculas_primero(\"termóPILAS\") ➞ \"PILAStermó\"\n",
        "    4. mayusculas_primero(\"aBcDeFgHiJk\") ➞ \"BDFHJacegik\""
      ],
      "metadata": {
        "id": "itFlu1gjfPwQ"
      }
    },
    {
      "cell_type": "code",
      "source": [
        "# Método 1\n",
        "def mayusculas_primero(palabra):\n",
        "    mayusculas = \"\"\n",
        "    for letra in palabra:\n",
        "        if letra.upper() == letra:\n",
        "            palabra = palabra.replace(letra, '')\n",
        "            mayusculas += letra\n",
        "    return mayusculas + palabra\n",
        "\n",
        "# Método 2\n",
        "def mayusculas_primero(palabra):\n",
        "    mayusculas = ''.join(letra for letra in palabra if letra.isupper())\n",
        "    minusculas = ''.join(letra for letra in palabra if letra.islower())\n",
        "    return mayusculas + minusculas\n",
        "\n",
        "# Método 3\n",
        "def mayusculas_primero(palabra):\n",
        "    mayusculas = []\n",
        "    minusculas = []\n",
        "    for letra in palabra:\n",
        "        if letra.isupper():\n",
        "            mayusculas.append(letra)\n",
        "        else:\n",
        "            minusculas.append(letra)\n",
        "    return ''.join(mayusculas + minusculas)\n",
        "\n",
        "# Método 4\n",
        "def mayusculas_primero(palabra):\n",
        "    mayusculas = [letra for letra in palabra if letra.isupper()]\n",
        "    minusculas = [letra for letra in palabra if letra.islower()]\n",
        "    return ''.join(mayusculas + minusculas)\n",
        "\n",
        "# Método 5\n",
        "def mayusculas_primero(palabra):\n",
        "    mayusculas = ''.join([letra for letra in palabra if 65 <= ord(letra) <= 90])\n",
        "    minusculas = ''.join([letra for letra in palabra if 97 <= ord(letra) <= 122])\n",
        "    return mayusculas + minusculas\n",
        "\n",
        "# Método 6\n",
        "def mayusculas_primero(palabra):\n",
        "    mayusculas = ''.join(filter(lambda x: x.isupper(), palabra))\n",
        "    minusculas = ''.join(filter(lambda x: x.islower(), palabra))\n",
        "    return mayusculas + minusculas"
      ],
      "metadata": {
        "id": "eQOIoyaYfPwR"
      },
      "execution_count": null,
      "outputs": []
    },
    {
      "cell_type": "code",
      "source": [
        "print(mayusculas_primero(\"asombrOSO\"))\n",
        "print(mayusculas_primero(\"buenosDÍAS\"))\n",
        "print(mayusculas_primero(\"termóPILAS\") )\n",
        "print(mayusculas_primero(\"aBcDeFgHiJk\"))"
      ],
      "metadata": {
        "id": "bNNxncqNfPwR",
        "colab": {
          "base_uri": "https://localhost:8080/"
        },
        "outputId": "dcd7002a-83d0-4058-ff43-3f85ba83f181"
      },
      "execution_count": null,
      "outputs": [
        {
          "output_type": "stream",
          "name": "stdout",
          "text": [
            "OSOasombr\n",
            "DÍASbuenos\n",
            "PILAStermó\n",
            "BDFHJacegik\n"
          ]
        }
      ]
    },
    {
      "cell_type": "markdown",
      "source": [
        "## Reto 257: Contar letras en una matriz\n",
        "* Cree una función que cuente el número de veces que aparece una letra en particular en una matriz de caracteres.\n",
        "* Ejemplos:\n",
        "    1. contador_letra([\n",
        "  [\"D\", \"E\", \"Y\", \"H\", \"A\", \"D\"],\n",
        "  [\"C\", \"B\", \"Z\", \"Y\", \"J\", \"K\"],\n",
        "  [\"D\", \"B\", \"C\", \"A\", \"M\", \"N\"],\n",
        "  [\"F\", \"G\", \"G\", \"R\", \"S\", \"R\"],\n",
        "  [\"V\", \"X\", \"H\", \"A\", \"S\", \"S\"]\n",
        "], \"D\") ➞ 3\n",
        "        * \"D\" aparece 3 veces: dos veces en la 1ª fila y una vez en la 3ª fila.\n",
        "    2. contador_letra([\n",
        "  [\"D\", \"E\", \"Y\", \"H\", \"A\", \"D\"],\n",
        "  [\"C\", \"B\", \"Z\", \"Y\", \"J\", \"K\"],\n",
        "  [\"D\", \"B\", \"C\", \"A\", \"M\", \"N\"],\n",
        "  [\"F\", \"G\", \"G\", \"R\", \"S\", \"R\"],\n",
        "  [\"V\", \"X\", \"H\", \"A\", \"S\", \"S\"]\n",
        "], \"H\") ➞ 2\n",
        "    3. 2. contador_letra([\n",
        "  [\"A\", \"B\", \"Z\"],\n",
        "  [\"A\", \"Z\", \"Z\"],\n",
        "  [\"Z\", \"Z\", \"Z\"]\n",
        "], \"Z\") ➞ 6"
      ],
      "metadata": {
        "id": "YB3n3AdjfP2r"
      }
    },
    {
      "cell_type": "code",
      "source": [
        "# Método 1\n",
        "def contador_letra(matriz, objetivo):\n",
        "    contador = 0\n",
        "    for fila in matriz:\n",
        "        for letra in fila:\n",
        "            if letra == objetivo:\n",
        "                contador += 1\n",
        "    return contador\n",
        "\n",
        "# Método 2\n",
        "def contador_letra(matriz, objetivo):\n",
        "    return sum(fila.count(objetivo) for fila in matriz)\n",
        "\n",
        "# Método 3\n",
        "def contador_letra(matriz, objetivo):\n",
        "    return sum(map(lambda fila: fila.count(objetivo), matriz))\n",
        "\n",
        "# Método 4\n",
        "from itertools import chain\n",
        "\n",
        "def contador_letra(matriz, objetivo):\n",
        "    return list(chain(*matriz)).count(objetivo)\n",
        "    # chain(*matriz) aplana la matriz en una sola lista y luego se usa count"
      ],
      "metadata": {
        "id": "s4GRVH6TfP2r"
      },
      "execution_count": null,
      "outputs": []
    },
    {
      "cell_type": "code",
      "source": [
        "matriz1 = [\n",
        "  [\"D\", \"E\", \"Y\", \"H\", \"A\", \"D\"],\n",
        "  [\"C\", \"B\", \"Z\", \"Y\", \"J\", \"K\"],\n",
        "  [\"D\", \"B\", \"C\", \"A\", \"M\", \"N\"],\n",
        "  [\"F\", \"G\", \"G\", \"R\", \"S\", \"R\"],\n",
        "  [\"V\", \"X\", \"H\", \"A\", \"S\", \"S\"]\n",
        "]\n",
        "\n",
        "matriz2 = [\n",
        "  [\"D\", \"E\", \"Y\", \"H\", \"A\", \"D\"],\n",
        "  [\"C\", \"B\", \"Z\", \"Y\", \"J\", \"K\"],\n",
        "  [\"D\", \"B\", \"C\", \"A\", \"M\", \"N\"],\n",
        "  [\"F\", \"G\", \"G\", \"R\", \"S\", \"R\"],\n",
        "  [\"V\", \"X\", \"H\", \"A\", \"S\", \"S\"]\n",
        "]\n",
        "\n",
        "matriz3 = [[\"A\", \"B\", \"Z\"], [\"A\", \"Z\", \"Z\"], [\"Z\", \"Z\", \"Z\"]]\n",
        "\n",
        "print(contador_letra(matriz1, \"D\"))\n",
        "print(contador_letra(matriz2, \"H\"))\n",
        "print(contador_letra(matriz3, \"Z\"))"
      ],
      "metadata": {
        "id": "QR3vj53LfP2r",
        "outputId": "72ee9203-9389-4b10-8cdf-e6618a0f3a25",
        "colab": {
          "base_uri": "https://localhost:8080/"
        }
      },
      "execution_count": null,
      "outputs": [
        {
          "output_type": "stream",
          "name": "stdout",
          "text": [
            "3\n",
            "2\n",
            "6\n"
          ]
        }
      ]
    },
    {
      "cell_type": "code",
      "source": [
        "list(chain(*matriz3))"
      ],
      "metadata": {
        "id": "Y5wK_Alxo-vq",
        "outputId": "86d8a5e3-010f-496a-a136-781d0846d508",
        "colab": {
          "base_uri": "https://localhost:8080/"
        }
      },
      "execution_count": null,
      "outputs": [
        {
          "output_type": "execute_result",
          "data": {
            "text/plain": [
              "['A', 'B', 'Z', 'A', 'Z', 'Z', 'Z', 'Z', 'Z']"
            ]
          },
          "metadata": {},
          "execution_count": 21
        }
      ]
    },
    {
      "cell_type": "markdown",
      "source": [
        "## Reto 258: Dígito más a la izquierda\n",
        "* Escriba una función que tome una cadena como argumento y devuelva el número entero más a la izquierda de la cadena.\n",
        "* Cada cadena tendrá al menos dos números.\n",
        "* Devuelve el resultado como un número entero.\n",
        "* Ejemplos:\n",
        "    1. digito_izquierda(\"TrAdE2W1n95!\") ➞ 2\n",
        "    2. digito_izquierda(\"V3r1ta$\") ➞ 3\n",
        "    3. digito_izquierda(\"U//DertHe1nflu3nC3\") ➞ 1\n",
        "    4. digito_izquierda(\"J@v@5cR1PT\") ➞ 5"
      ],
      "metadata": {
        "id": "UKHTH4qPfP9R"
      }
    },
    {
      "cell_type": "code",
      "source": [
        "# Método 1\n",
        "def digito_izquierda(cadena):\n",
        "    for caracter in cadena:\n",
        "        if caracter in '0123456789':\n",
        "            return int(caracter)\n",
        "\n",
        "# Método 2\n",
        "def digito_izquierda(cadena):\n",
        "    return next(int(caracter) for caracter in cadena if caracter.isdigit())\n",
        "    # next retorna el primer valor de un iterable que cumple una condición dada\n",
        "\n",
        "# Método 3\n",
        "def digito_izquierda(cadena):\n",
        "    return int(next((caracter for caracter in cadena if caracter.isdigit())))\n",
        "\n",
        "# Método 4\n",
        "def digito_izquierda(cadena):\n",
        "    return int([caracter for caracter in cadena if caracter.isdigit()][0])\n",
        "\n",
        "# Método 5\n",
        "def digito_izquierda(cadena):\n",
        "    return int(list(filter(str.isdigit, cadena))[0])"
      ],
      "metadata": {
        "id": "gb0W1-JgfP9R"
      },
      "execution_count": null,
      "outputs": []
    },
    {
      "cell_type": "code",
      "source": [
        "print(digito_izquierda(\"TrAdE2W1n95!\"))\n",
        "print(digito_izquierda(\"V3r1ta$\"))\n",
        "print(digito_izquierda(\"U//DertHe1nflu3nC3\"))\n",
        "print(digito_izquierda(\"J@v@5cR1PT\"))"
      ],
      "metadata": {
        "id": "5pFG9qi-fP9R",
        "outputId": "3f5179fc-fcbd-4734-e9db-6de6d8ff9741",
        "colab": {
          "base_uri": "https://localhost:8080/"
        }
      },
      "execution_count": null,
      "outputs": [
        {
          "output_type": "stream",
          "name": "stdout",
          "text": [
            "2\n",
            "3\n",
            "1\n",
            "5\n"
          ]
        }
      ]
    },
    {
      "cell_type": "markdown",
      "source": [
        "## Reto 259: Sólo letras\n",
        "* Escriba una función que elimine cualquier cosa que no sean letras de una cadena.\n",
        "* Ejemplos:\n",
        "    1. solo_letras(\"R!=:~0o0./c&}9k`60=y\") ➞ \"Rocky\"\n",
        "    2. solo_letras(\"^,]%4A|@56l!i[03e{2>n1&4\") ➞ \"Alien\"\n",
        "    3. solo_letras(\"^T)6$e2>s8i¡s).\") ➞ \"Tesis\""
      ],
      "metadata": {
        "id": "3gfLBFqifQEC"
      }
    },
    {
      "cell_type": "code",
      "source": [
        "# Método 1\n",
        "def solo_letras(cadena):\n",
        "    texto = \"\"\n",
        "    for caracter in cadena:\n",
        "        if caracter.isalpha():\n",
        "            texto += caracter\n",
        "    return texto\n",
        "\n",
        "# Método 2\n",
        "def solo_letras(cadena):\n",
        "    return ''.join(filter(str.isalpha, cadena))\n",
        "\n",
        "# Método 3\n",
        "def solo_letras(cadena):\n",
        "    return ''.join(caracter for caracter in cadena if caracter.isalpha())\n",
        "\n",
        "# Método 4\n",
        "def solo_letras(cadena):\n",
        "    return ''.join(filter(lambda x: x.isalpha(), cadena))"
      ],
      "metadata": {
        "id": "D8G29410fQEC"
      },
      "execution_count": null,
      "outputs": []
    },
    {
      "cell_type": "code",
      "source": [
        "print(solo_letras(\"R!=:~0o0./c&}9k`60=y\"))\n",
        "print(solo_letras(\"^,]%4A|@56l!i[03e{2>n1&4\"))\n",
        "print(solo_letras(\"^T)6$e2>s8i¡s).\"))"
      ],
      "metadata": {
        "id": "1pDJd_bufQEC",
        "outputId": "eed43ae7-90d2-4721-cf2d-843f94083c3c",
        "colab": {
          "base_uri": "https://localhost:8080/"
        }
      },
      "execution_count": null,
      "outputs": [
        {
          "output_type": "stream",
          "name": "stdout",
          "text": [
            "Rocky\n",
            "Alien\n",
            "Tesis\n"
          ]
        }
      ]
    },
    {
      "cell_type": "markdown",
      "source": [
        "## Reto 260: Margen de beneficio\n",
        "* Cree una función que calcule el margen de beneficio dado el `coste` y el `precio` de venta.\n",
        "* Devuelva el resultado como una cadena con formato de porcentaje y redondeado a un decimal.\n",
        "* Para calcular el margen de beneficio, reste el costo del precio de venta y luego divida por el precio de venta.\n",
        "* Recuerde devolver el resultado como una cadena con formato de porcentaje.\n",
        "* Sólo se debe incluir un decimal.\n",
        "* Ejemplos:\n",
        "    1. marge_de_beneficio(50, 50) ➞ \"0.0%\"\n",
        "    2. marge_de_beneficio(20, 200) ➞ \"90.0%\"\n",
        "    3. marge_de_beneficio(28, 39) ➞ \"28.2%\"\n",
        "    4. marge_de_beneficio(33, 84) ➞ \"60.7%\""
      ],
      "metadata": {
        "id": "WgOxiVTBfQKR"
      }
    },
    {
      "cell_type": "code",
      "source": [
        "# Método 1\n",
        "def marge_de_beneficio(coste, precio):\n",
        "    margen = 100 * (precio - coste) / precio\n",
        "    return str(round(margen, 1)) + \"%\"\n",
        "\n",
        "# Método 2\n",
        "def marge_de_beneficio(coste, precio):\n",
        "    margen = 100 * (precio - coste) / precio\n",
        "    return f\"{margen:.1f}%\"\n",
        "\n",
        "# Método 3\n",
        "def marge_de_beneficio(coste, precio):\n",
        "    margen = (precio - coste) / precio  # sin multiplicar por 100\n",
        "    return f\"{margen:.1%}\"\n",
        "\n",
        "# Método 4\n",
        "def profit_margin(coste, precio):\n",
        "    margen = 100 * (precio - coste) / precio\n",
        "    return \"{:.1f}%\".format(margen)\n",
        "\n",
        "# Método 5\n",
        "def profit_margin(coste, precio):\n",
        "    margen = (precio - coste) / precio  # sin multiplicar por 100\n",
        "    return \"{:.1%}\".format(margen)\n",
        "\n",
        "# Método 6\n",
        "def profit_margin(coste, precio):\n",
        "    return f\"{1 - coste / precio:.1%}\""
      ],
      "metadata": {
        "id": "H7RKDGyKfQKS"
      },
      "execution_count": null,
      "outputs": []
    },
    {
      "cell_type": "code",
      "source": [
        "print(marge_de_beneficio(50, 50))\n",
        "print(marge_de_beneficio(20, 200))\n",
        "print(marge_de_beneficio(28, 39))\n",
        "print(marge_de_beneficio(33, 84))"
      ],
      "metadata": {
        "id": "r6e8AtjGfQKS",
        "outputId": "593560ca-f2d1-4c59-c5a7-6975b33e0a9f",
        "colab": {
          "base_uri": "https://localhost:8080/"
        }
      },
      "execution_count": null,
      "outputs": [
        {
          "output_type": "stream",
          "name": "stdout",
          "text": [
            "0.0%\n",
            "90.0%\n",
            "28.2%\n",
            "60.7%\n"
          ]
        }
      ]
    },
    {
      "cell_type": "markdown",
      "source": [
        "## Reto 261: Eliminando el Elemento Menor\n",
        "* Cree una función que, dada una lista de números enteros, elimine el valor más pequeño de la misma.\n",
        "* Mantenienga el orden de los elementos no eliminados.\n",
        "* Ejemplos:\n",
        "    1. eliminar_menor([1, 2, 3, 4, 5]) ➞ [2, 3, 4, 5]\n",
        "    2. eliminar_menor([5, 3, 2, 1, 4]) ➞ [5, 3, 2, 4]\n",
        "    3. eliminar_menor([2, 2, 1, 2, 1]) ➞ [2, 2, 2, 1]\n",
        "    4. eliminar_menor([]) ➞ []\n",
        "\n",
        "* Si la lista ingresada está vacía, la función debe devolver una lista vacía.\n",
        "* Si hay varios elementos con el mismo valor que sean el menor, se elimina el elemento con el índice más bajo."
      ],
      "metadata": {
        "id": "-jJE6PodfQRs"
      }
    },
    {
      "cell_type": "code",
      "source": [
        "# Método 1\n",
        "def eliminar_menor(lista):\n",
        "    if not lista:   # si la lista está vacía\n",
        "        return []\n",
        "    objetivo = min(lista)\n",
        "    lista.remove(objetivo)\n",
        "    return lista\n",
        "\n",
        "# Método 2\n",
        "def eliminar_menor(lista):\n",
        "    if lista:       # si la lista está llena\n",
        "        objetivo = min(lista)\n",
        "        lista.remove(objetivo)\n",
        "        return lista\n",
        "    return []\n",
        "\n",
        "# Método 3\n",
        "def eliminar_menor(lista):\n",
        "    if lista:\n",
        "        lista.remove(min(lista))\n",
        "        return lista\n",
        "    return []\n",
        "\n",
        "# Método4. De forma comprimida\n",
        "def eliminar_menor(lista):\n",
        "    return lista.remove(min(lista)) if lista else []\n",
        "\n",
        "# Método 5. Sin usar remove\n",
        "def eliminar_menor(lista):\n",
        "    if lista:\n",
        "        minimo = min(lista)\n",
        "        i = lista.index(minimo)\n",
        "        return lista[:i] + lista[i+1:]\n",
        "    return []"
      ],
      "metadata": {
        "id": "RrfR0J-OfQRt"
      },
      "execution_count": null,
      "outputs": []
    },
    {
      "cell_type": "code",
      "source": [
        "print(eliminar_menor([1, 2, 3, 4, 5]))\n",
        "print(eliminar_menor([5, 3, 2, 1, 4]))\n",
        "print(eliminar_menor([2, 2, 1, 2, 1]))\n",
        "print(eliminar_menor([]))"
      ],
      "metadata": {
        "id": "RWnElWgWfQRt",
        "colab": {
          "base_uri": "https://localhost:8080/"
        },
        "outputId": "00666d6e-d8eb-470f-8c09-9732d4bf0edf"
      },
      "execution_count": null,
      "outputs": [
        {
          "output_type": "stream",
          "name": "stdout",
          "text": [
            "[2, 3, 4, 5]\n",
            "[5, 3, 2, 4]\n",
            "[2, 2, 2, 1]\n",
            "[]\n"
          ]
        }
      ]
    },
    {
      "cell_type": "markdown",
      "source": [
        "## Reto 262: Taller de coches de juguete\n",
        "* Trabajas en un taller de coches de juguete y tu trabajo consiste en construir coches de juguete a partir de una colección de piezas.\n",
        "* Cada coche de juguete necesita 4 ruedas, 1 carrocería y 2 figuras de personas para colocar en su interior.\n",
        "* Dada la cantidad total de ruedas, carrocerías y figuras disponibles, ¿cuántos autos de juguete completos puedes hacer?\n",
        "* Ejemplos:\n",
        "    1. autos(2, 48, 76) ➞ 0\n",
        "    2. autos(43, 15, 87) ➞ 10\n",
        "    3. autos(88, 37, 17) ➞ 8"
      ],
      "metadata": {
        "id": "eiyW_o-ZfQXo"
      }
    },
    {
      "cell_type": "code",
      "source": [
        "# Método 1\n",
        "def autos(ruedas, carrocerias, figuras):\n",
        "    autos_ruedas = ruedas // 4      # máx nº autos contruibles con esas ruedas\n",
        "    autos_carrocerias = carrocerias # máx nº autos contruibles con esas carrocerías\n",
        "    autos_figuras = figuras // 2    # máx nº autos contruibles con esas figuras\n",
        "    return min(autos_ruedas, autos_carrocerias, autos_figuras)\n",
        "\n",
        "# Método 2\n",
        "def autos(r, c, f):\n",
        "    return min(r // 4, c, f // 2)"
      ],
      "metadata": {
        "id": "B-jlbyMzfQXp"
      },
      "execution_count": null,
      "outputs": []
    },
    {
      "cell_type": "code",
      "source": [
        "print(autos(2, 48, 76))\n",
        "print(autos(43, 15, 87))\n",
        "print(autos(88, 37, 17))"
      ],
      "metadata": {
        "id": "F06KwtUVfQXp",
        "colab": {
          "base_uri": "https://localhost:8080/"
        },
        "outputId": "0030de74-4de7-41d7-e2c2-f8ebff1713c2"
      },
      "execution_count": null,
      "outputs": [
        {
          "output_type": "stream",
          "name": "stdout",
          "text": [
            "0\n",
            "10\n",
            "8\n"
          ]
        }
      ]
    },
    {
      "cell_type": "markdown",
      "source": [
        "## Reto 263: Evitando Tentaciones en la Tienda de Golosinas\n",
        "* Estoy tratando de resistir la tentación de comprar golosinas en la tienda, pero me resulta difícil resistirme a ciertos productos atractivos.\n",
        "* Por favor, crea una función que me ayude a revisar una cadena de texto en busca de ciertas palabras clave:\n",
        "    - \"chocolate\"\n",
        "    - \"gominolas\"\n",
        "    - \"helado\"\n",
        "    - \"pastel\"\n",
        "    - \"caramelos\"\n",
        "* Si encuentra alguna de estas palabras devuelve \"¡No compres!\"!\n",
        "* De lo contrario, devuelve \"¡Buen el autocontrol!\".\n",
        "* Ejemplos:\n",
        "    1. evitar_tentaciones(\"Selección de chocolate belga\") ➞ \"¡No compres!\"\n",
        "    2. evitar_tentaciones(\"Alternativas saludables para postres\") ➞ \"¡Buen autocontrol!\"\n",
        "    3. evitar_tentaciones(\"Helado con Gominolas de colores\") ➞ \"¡No compres!\""
      ],
      "metadata": {
        "id": "unuz6_THfQeT"
      }
    },
    {
      "cell_type": "code",
      "source": [
        "# Método 1\n",
        "def evitar_tentaciones(frase):\n",
        "    palabras_clave = [\"chocolate\", \"gominolas\", \"helado\", \"pastel\", \"caramelos\"]\n",
        "    for palabra in palabras_clave:\n",
        "        if palabra in frase.lower():\n",
        "            return \"¡No compres!\"\n",
        "    return \"¡Buen autocontrol!\"\n",
        "\n",
        "# Método 2\n",
        "def evitar_tentaciones(frase):\n",
        "    palabras_clave = [\"chocolate\", \"gominolas\", \"helado\", \"pastel\", \"caramelos\"]\n",
        "    contiene_palabra = any(palabra in frase.lower() for palabra in palabras_clave)\n",
        "    return \"¡No compres!\" if contiene_palabra else \"¡Buen autocontrol!\"\n",
        "\n",
        "# Método 3\n",
        "def evitar_tentaciones(frase):\n",
        "    palabras_clave = [\"chocolate\", \"gominolas\", \"helado\", \"pastel\", \"caramelos\"]\n",
        "    ocurrencias = sum(frase.lower().count(palabra) for palabra in palabras_clave)\n",
        "    return \"¡No compres!\" if ocurrencias > 0 else \"¡Buen autocontrol!\"\n",
        "\n",
        "# Método 4. Ahora 'in' busca en las palabras de la frase\n",
        "def evitar_tentaciones(frase):\n",
        "    palabras_clave = [\"chocolate\", \"gominolas\", \"helado\", \"pastel\", \"caramelos\"]\n",
        "    palabras_en_frase = frase.lower().split()\n",
        "    for palabra in palabras_en_frase:\n",
        "        if palabra in palabras_clave:\n",
        "            return \"¡No compres!\"\n",
        "    return \"¡Buen autocontrol!\"\n",
        "\n",
        "# Método5. Viendo la intersección entre dos conjuntos\n",
        "def evitar_tentaciones(frase):\n",
        "    palabras_clave = {\"chocolate\", \"gominolas\", \"helado\", \"pastel\", \"caramelos\"}\n",
        "    palabras = set(frase.lower().split())\n",
        "    if palabras.intersection(palabras_clave):\n",
        "        return \"¡No compres!\"\n",
        "    return \"¡Buen autocontrol!\"\n",
        "\n",
        "# Método 6. Sutituyendo intersection por &\n",
        "def evitar_tentaciones(frase):\n",
        "    palabras_clave = {\"chocolate\", \"gominolas\", \"helado\", \"pastel\", \"caramelos\"}\n",
        "    palabras = set(frase.lower().split())\n",
        "    if palabras & palabras_clave:\n",
        "        return \"¡No compres!\"\n",
        "    return \"¡Buen autocontrol!\""
      ],
      "metadata": {
        "id": "vd-98YYqfQeT"
      },
      "execution_count": null,
      "outputs": []
    },
    {
      "cell_type": "code",
      "source": [
        "print(evitar_tentaciones(\"Selección de chocolate belga\"))\n",
        "print(evitar_tentaciones(\"Alternativas saludables para postres\"))\n",
        "print(evitar_tentaciones(\"Helado con Gominolas de colores\"))"
      ],
      "metadata": {
        "id": "OxxWT7B7fQeT",
        "colab": {
          "base_uri": "https://localhost:8080/"
        },
        "outputId": "13681140-f73e-4474-aa58-ef73f6c660f8"
      },
      "execution_count": null,
      "outputs": [
        {
          "output_type": "stream",
          "name": "stdout",
          "text": [
            "¡No compres!\n",
            "¡Buen autocontrol!\n",
            "¡No compres!\n"
          ]
        }
      ]
    },
    {
      "cell_type": "markdown",
      "source": [
        "## Reto 264: Igualdad de tres valores\n",
        "* Cree una función que tome tres argumentos enteros `(a, b, c)` y devuelva la cantidad de números enteros que tienen el mismo valor.\n",
        "* Su función debe devolver 0, 2 o 3.\n",
        "* Ejemplos:\n",
        "    1. iguales(3, 4, 3) ➞ 2\n",
        "    2. iguales(1, 1, 1) ➞ 3\n",
        "    3. iguales(3, 4, 1) ➞ 0"
      ],
      "metadata": {
        "id": "9mxySs1ofQlU"
      }
    },
    {
      "cell_type": "code",
      "source": [
        "# Método 1\n",
        "def iguales(a, b, c):\n",
        "    if a == b == c:\n",
        "        return 3\n",
        "    elif a != b and b != c and a != c:\n",
        "        return 0\n",
        "    else:\n",
        "        return 2\n",
        "\n",
        "# Método 2\n",
        "def iguales(a, b, c):\n",
        "    if a == b == c:\n",
        "        return 3\n",
        "    elif a == b or a == c or b == c:\n",
        "        return 2\n",
        "    else:\n",
        "        return 0\n",
        "\n",
        "# Método 3\n",
        "def iguales(a, b, c):\n",
        "    valores_unicos = {a, b, c}\n",
        "    cantidad_valores_unicos = len(valores_unicos)\n",
        "    if cantidad_valores_unicos == 3:\n",
        "        return 0\n",
        "    elif cantidad_valores_unicos == 2:\n",
        "        return 2\n",
        "    else:\n",
        "        return 3\n",
        "\n",
        "# Método 4\n",
        "def iguales(a, b, c):\n",
        "    numeros = [a, b, c]\n",
        "    # contando cuantos duplicados hay\n",
        "    return sum(numeros.count(numero) > 1 for numero in numeros)"
      ],
      "metadata": {
        "id": "QjmTmdcRfQlV"
      },
      "execution_count": null,
      "outputs": []
    },
    {
      "cell_type": "code",
      "source": [
        "print(iguales(3, 4, 3))\n",
        "print(iguales(1, 1, 1))\n",
        "print(iguales(3, 4, 1))"
      ],
      "metadata": {
        "id": "t-bLpT9efQlV",
        "colab": {
          "base_uri": "https://localhost:8080/"
        },
        "outputId": "93dd969a-8714-474e-9f2e-9f3284e1030b"
      },
      "execution_count": null,
      "outputs": [
        {
          "output_type": "stream",
          "name": "stdout",
          "text": [
            "2\n",
            "3\n",
            "0\n"
          ]
        }
      ]
    },
    {
      "cell_type": "markdown",
      "source": [
        "## Reto 265: Magnitud de un vector\n",
        "* Se denomina Magnitud, Norma o Módulo de un Vector\n",
        "* Dado un vector almacenado como una lista de números enteros, encuentre la magnitud del vector.\n",
        "* Utilice la fórmula de distancia estándar para coordenadas cartesianas de `n` dimensiones.\n",
        "* Ejemplos:\n",
        "    1. magnitud_vector([3, 4]) ➞ 5\n",
        "    2. magnitud_vector([0, 0, -10]) ➞ 10\n",
        "    3. magnitud_vector([]) ➞ 0\n",
        "    4. magnitud_vector([2, 3, 6, 1, 8]) ➞ 10.677078252031311\n",
        "* La lista puede tener cualquier longitud.\n",
        "* La lista de entrada contendrá números enteros (excepto la lista vacía [] ➞ 0)."
      ],
      "metadata": {
        "id": "GtmCCXhzfQsY"
      }
    },
    {
      "cell_type": "code",
      "source": [
        "# Método 1\n",
        "def magnitud_vector(lista):\n",
        "    result = 0\n",
        "    for variable in lista:\n",
        "        result += variable ** 2\n",
        "    return result ** .5\n",
        "\n",
        "# Método 2\n",
        "import numpy as np\n",
        "\n",
        "def magnitud_vector(lista):\n",
        "    vector = np.array(lista)\n",
        "    return np.linalg.norm(vector)\n",
        "\n",
        "# Método 3\n",
        "def magnitud_vector(lista):\n",
        "    vector = np.array(lista)\n",
        "    return np.sqrt(vector.dot(vector))\n",
        "\n",
        "# vector.dot(vector)\n",
        "# Realiza el producto punto del vector consigo mismo.\n",
        "# Esto es, calcula la suma de los cuadrados de los elementos del vector.\n",
        "\n",
        "# Método 4\n",
        "from math import sqrt\n",
        "\n",
        "# Método 5. Calcular la magnitud del vector usando map-reduce\n",
        "def magnitud_vector(lista):\n",
        "    cuadrados = map(lambda x: x ** 2, lista)\n",
        "    return sqrt(sum(cuadrados))\n",
        "\n",
        "# Método 6\n",
        "def magnitud_vector(lista):\n",
        "    return sqrt(sum([x ** 2 for x in lista]))\n",
        "\n",
        "# Método 7\n",
        "from functools import reduce\n",
        "\n",
        "def magnitud_vector(lista):\n",
        "    suma_cuadrados = reduce(lambda x, y: x + y**2, lista, 0)\n",
        "    return sqrt(suma_cuadrados)"
      ],
      "metadata": {
        "id": "akc_hUgdfQsZ"
      },
      "execution_count": null,
      "outputs": []
    },
    {
      "cell_type": "code",
      "source": [
        "print(magnitud_vector([3, 4]))\n",
        "print(magnitud_vector([0, 0, -10]))\n",
        "print(magnitud_vector([]))\n",
        "print(magnitud_vector([2, 3, 6, 1, 8]))"
      ],
      "metadata": {
        "id": "AZ57-u2ufQsZ",
        "outputId": "23601103-248f-4788-a69c-c32c50474915",
        "colab": {
          "base_uri": "https://localhost:8080/"
        }
      },
      "execution_count": null,
      "outputs": [
        {
          "output_type": "stream",
          "name": "stdout",
          "text": [
            "5.0\n",
            "10.0\n",
            "0.0\n",
            "10.677078252031311\n"
          ]
        }
      ]
    },
    {
      "cell_type": "markdown",
      "source": [
        "## Reto 266: Eliminar Enemigos\n",
        "* Elimine enemigos de la lista de personas, incluso si el enemigo aparece dos veces.\n",
        "* Todos los nombres que se eliminarán estarán en la lista de enemigos.\n",
        "* Ejemplos:\n",
        "    1. eliminar_enemigos([\"Alejandro\", \"Marta\"], []) ➞ [\"Alejandro\", \"Marta\"]\n",
        "    2. eliminar_enemigos([\"Adam\", \"Voldemort\", \"Tanya\", \"Voldemort\"], [\"Voldemort\"]) ➞ [\"Adam\", \"Tanya\"]\n",
        "    3. eliminar_enemigos(    3. eliminar_enemigos([\"Gollum\", \"Sara\", \"Eva\", \"Palpatine\"], [\"Palpatine\", \"Gollum\"]\n",
        ") ➞ [\"Sara\", \"Eva\"]"
      ],
      "metadata": {
        "id": "67sNtaivfQ0J"
      }
    },
    {
      "cell_type": "code",
      "source": [
        "# Método 1. Recorriendo la lista de nombres con un for\n",
        "def eliminar_enemigos(personas, enemigos):\n",
        "    for persona in personas:\n",
        "        if persona in enemigos:\n",
        "            personas.remove(persona)\n",
        "    return personas\n",
        "\n",
        "# Método 2. Recorriendo la lista de enemigos con un for\n",
        "def eliminar_enemigos(personas, enemigos):\n",
        "    for enemigo in enemigos:\n",
        "        while enemigo in personas:   # aquí no basta con un if, se necesita un while\n",
        "            personas.remove(enemigo)\n",
        "    return personas\n",
        "\n",
        "# Método 3. Sin hacer remove, creando una lista nueva\n",
        "def eliminar_enemigos(personas, enemigos):\n",
        "    return [persona for persona in personas if persona not in enemigos]\n",
        "\n",
        "# Método 4. Con una función lambda y filter\n",
        "def eliminar_enemigos(personas, enemigos):\n",
        "    return list(filter(lambda persona: persona not in enemigos, personas))\n",
        "\n",
        "# Método 5. Creando una lista nueva con append\n",
        "def eliminar_enemigos(personas, enemigos):\n",
        "    personas_sin_enemigos = []\n",
        "    for persona in personas:\n",
        "        if persona not in enemigos:\n",
        "            personas_sin_enemigos.append(persona)\n",
        "    return personas_sin_enemigos\n",
        "\n",
        "# Método 6. Con set, no se garantiza el orden inicial.\n",
        "# Los conjuntos son estructuras de datos desordenadas en Python\n",
        "def eliminar_enemigos(personas, enemigos):\n",
        "    return list(set(personas) - set(enemigos))\n",
        "\n",
        "# Método 7. Diferencia de conjuntos\n",
        "def eliminar_enemigos(personas, enemigos):\n",
        "    return list(set(personas) - set(enemigos))"
      ],
      "metadata": {
        "id": "18QmXg4sfQ0K"
      },
      "execution_count": null,
      "outputs": []
    },
    {
      "cell_type": "code",
      "source": [
        "print(eliminar_enemigos([\"Alejandro\", \"Marta\"], []))\n",
        "print(eliminar_enemigos([\"Adam\", \"Voldemort\", \"Tanya\", \"Voldemort\"], [\"Voldemort\"]))\n",
        "print(eliminar_enemigos([\"Gollum\", \"Sara\", \"Eva\", \"Palpatine\"], [\"Palpatine\", \"Gollum\"]))"
      ],
      "metadata": {
        "id": "V1xrt-gsfQ0K",
        "outputId": "24e0ca45-b246-4616-bd51-f87b03e54d4f",
        "colab": {
          "base_uri": "https://localhost:8080/"
        }
      },
      "execution_count": null,
      "outputs": [
        {
          "output_type": "stream",
          "name": "stdout",
          "text": [
            "['Alejandro', 'Marta']\n",
            "['Tanya', 'Adam']\n",
            "['Eva', 'Sara']\n"
          ]
        }
      ]
    },
    {
      "cell_type": "markdown",
      "source": [
        "## Reto 267: Mapa de minúsculas y mayúsculas\n",
        "* Escriba una función que cree un diccionario en el que cada par (clave, valor) sea la versión (minúscula, mayúscula) de una letra, respectivamente.\n",
        "* Hablamos de mapa ya que en Java existe una estructura de datos llamada *HashMap* que es parecida a los diccionarios de Python.\n",
        "* Ejemplos:\n",
        "    1. mapping([\"p\", \"s\"]) ➞ { \"p\": \"P\", \"s\": \"S\" }\n",
        "    2. mapping([\"a\", \"b\", \"c\"]) ➞ { \"a\": \"A\", \"b\": \"B\", \"c\": \"C\" }\n",
        "    3. mapping([\"a\", \"v\", \"y\", \"z\"]) ➞ { \"a\": \"A\", \"v\": \"V\", \"y\": \"Y\", \"z\": \"Z\" }\n",
        "\n",
        "* Todas las letras de la lista de entrada siempre estarán en minúsculas.\n"
      ],
      "metadata": {
        "id": "PH3APGodfQ6y"
      }
    },
    {
      "cell_type": "code",
      "source": [
        "# Método 1\n",
        "def mapping(lista):\n",
        "    return {letra:letra.upper() for letra in lista}\n",
        "\n",
        "# Método 2\n",
        "def mapping(letras):\n",
        "    return dict(zip(letras, map(str.upper, letras)))\n",
        "\n",
        "# Método 3\n",
        "def mapping(letras):\n",
        "    return {letra: chr(ord(letra) - 32) for letra in letras}\n",
        "\n",
        "# Método 4\n",
        "def mapping(letras):\n",
        "    return dict(map(lambda letra: (letra, letra.upper()), letras))\n",
        "\n",
        "# Método 5\n",
        "def mapping(letras):\n",
        "    minus = 'abcdefghijklmnopqrstuvwxyz'\n",
        "    mayus = 'ABCDEFGHIJKLMNOPQRSTUVWXYZ'\n",
        "    return dict(zip(letras, (mayus[minus.index(letra)] for letra in letras)))"
      ],
      "metadata": {
        "id": "X0xdrM1dfQ6z"
      },
      "execution_count": null,
      "outputs": []
    },
    {
      "cell_type": "code",
      "source": [
        "print(mapping([\"p\", \"s\"]))\n",
        "print(mapping([\"a\", \"b\", \"c\"]))\n",
        "print(mapping([\"a\", \"v\", \"y\", \"z\"]))"
      ],
      "metadata": {
        "id": "26xvFMoafQ6z",
        "outputId": "9f2997ac-3cbc-483e-c7e1-b83ca25a6990",
        "colab": {
          "base_uri": "https://localhost:8080/"
        }
      },
      "execution_count": null,
      "outputs": [
        {
          "output_type": "stream",
          "name": "stdout",
          "text": [
            "{'p': 'P', 's': 'S'}\n",
            "{'a': 'A', 'b': 'B', 'c': 'C'}\n",
            "{'a': 'A', 'v': 'V', 'y': 'Y', 'z': 'Z'}\n"
          ]
        }
      ]
    },
    {
      "cell_type": "markdown",
      "source": [
        "## Reto 268: Unos y ceros alternos\n",
        "* Escriba una función que devuelva `True` si la cadena binaria se puede reorganizar para formar una cadena de `0`s y `1`s alternos.\n",
        "* Ejemplos:\n",
        "    1. pueden_alternar(\"0001111\") ➞ True\n",
        "        * Puede hacerse: \"1010101\"\n",
        "    2. pueden_alternar(\"00011101\") ➞ True\n",
        "        * Puede hacerse: \"10101010\"\n",
        "    3. pueden_alternar(\"01001\") ➞ True\n",
        "        * Puede hacerse: \"01010\"\n",
        "    4. pueden_alternar(\"010001\") ➞ False\n",
        "    5. pueden_alternar(\"1111\") ➞ False\n",
        "* Ninguna subcadena de la salida puede contener más de un carácter repetido consecutivo (por ejemplo, no se permiten `00` u `11`).\n",
        "* También devuelve `False` si una cadena solo contiene `0`s o solo contiene `1`s."
      ],
      "metadata": {
        "id": "QD4OXjBNfRB1"
      }
    },
    {
      "cell_type": "code",
      "source": [
        "# Método 1\n",
        "def pueden_alternar(s):\n",
        "    unos = s.count('1')\n",
        "    ceros = s.count('0')\n",
        "    if abs(unos - ceros) <= 1:\n",
        "        return True\n",
        "    else:\n",
        "        return False\n",
        "\n",
        "# Método 2. Con un Operador Ternario\n",
        "def pueden_alternar(s):\n",
        "    return True if abs(s.count('1') - s.count('0')) < 2 else False"
      ],
      "metadata": {
        "id": "xgGrRAupfRB1"
      },
      "execution_count": null,
      "outputs": []
    },
    {
      "cell_type": "code",
      "source": [
        "print(pueden_alternar(\"0001111\"))\n",
        "print(pueden_alternar(\"00011101\"))\n",
        "print(pueden_alternar(\"01001\"))\n",
        "print(pueden_alternar(\"010001\"))\n",
        "print(pueden_alternar(\"1111\"))"
      ],
      "metadata": {
        "id": "e2rMeUMQfRB2",
        "colab": {
          "base_uri": "https://localhost:8080/"
        },
        "outputId": "b6730cdf-9ff1-45d1-81ad-6e386be1b67d"
      },
      "execution_count": null,
      "outputs": [
        {
          "output_type": "stream",
          "name": "stdout",
          "text": [
            "True\n",
            "True\n",
            "True\n",
            "False\n",
            "False\n"
          ]
        }
      ]
    },
    {
      "cell_type": "markdown",
      "source": [
        "## Reto 269: Sandwich de vocales\n",
        "* Cree una función que valide si una cadena de 3 caracteres es un sandwich de vocales.\n",
        "* Para tener un sandwich válido, la cadena debe cumplir las siguientes reglas:\n",
        "    - El primer y último carácter deben ser una consonante.\n",
        "    - El carácter del medio debe ser una vocal.\n",
        "* Ejemplos:\n",
        "    1. sandwich_de_vocal(\"cat\") ➞ True\n",
        "    2. sandwich_de_vocal(\"ear\") ➞ False\n",
        "    3. sandwich_de_vocal(\"bake\") ➞ False\n",
        "    4. sandwich_de_vocal(\"try\") ➞ False\n",
        "\n",
        "* Devuelve `False` si la palabra no tiene 3 caracteres de longitud.\n",
        "* Todas las palabras se darán en minúsculas"
      ],
      "metadata": {
        "id": "2qUBOOyNfRHz"
      }
    },
    {
      "cell_type": "code",
      "source": [
        "# Método 1. vocales es un string\n",
        "def sandwich_de_vocal(s):\n",
        "    vocales = \"aeiou\"\n",
        "    if len(s) != 3:\n",
        "        return False\n",
        "    return s[0] not in vocales and s[1] in vocales and s[2] not in vocales\n",
        "\n",
        "# Método 2. vocales es una lista\n",
        "def sandwich_de_vocal(s):\n",
        "    vocales = ['a', 'e', 'i', 'o', 'u']\n",
        "    if len(s) != 3:\n",
        "        return False\n",
        "    return s[0] not in vocales and s[1] in vocales and s[2] not in vocales\n",
        "\n",
        "# vocales también puede ser un diccionario\n",
        "#    vocales = {'a', 'e', 'i', 'o', 'u'}\n",
        "# vocales también puede ser una tupla o un conjunto\n",
        "\n",
        "# Método 3\n",
        "import re\n",
        "\n",
        "def sandwich_de_vocal(palabra):\n",
        "    # Expresión regular para el patrón del sándwich de vocales\n",
        "    patron = r'^[^aeiou][aeiou][^aeiou]$'\n",
        "    # Verificar si la palabra cumple con el patrón\n",
        "    if re.match(patron, palabra):\n",
        "        return True\n",
        "    else:\n",
        "        return False"
      ],
      "metadata": {
        "id": "PUSWgPEnfRHz"
      },
      "execution_count": null,
      "outputs": []
    },
    {
      "cell_type": "code",
      "source": [
        "print(sandwich_de_vocal(\"cat\"))\n",
        "print(sandwich_de_vocal(\"ear\"))\n",
        "print(sandwich_de_vocal(\"bake\"))\n",
        "print(sandwich_de_vocal(\"try\"))"
      ],
      "metadata": {
        "id": "EDKbzuEzfRHz",
        "colab": {
          "base_uri": "https://localhost:8080/"
        },
        "outputId": "f41a9780-2907-4389-c46a-cff815a1d4f6"
      },
      "execution_count": null,
      "outputs": [
        {
          "output_type": "stream",
          "name": "stdout",
          "text": [
            "True\n",
            "False\n",
            "False\n",
            "False\n"
          ]
        }
      ]
    },
    {
      "cell_type": "markdown",
      "source": [
        "## Reto 270: Distancia de un Recorrido\n",
        "* María quiere calcular la longitud total de un recorrido.\n",
        "* Al intentar obtener la información sobre la longitud total directamente, se da cuenta de que la información está fragmentada en distintos tramos.\n",
        "* Ayude a María a determinar la longitud total del recorrido.\n",
        "* Devuelve `True` si la longitud total del recorrido es de 25 kilómetros, de lo contrario, devuelve `False`.\n",
        "* Ejemplos:\n",
        "    1. calcular_longitud([1, 2, 3, 4]) ➞ False\n",
        "    2. calcular_longitud([1, 9, 5, 8, 2]) ➞ True\n",
        "    3. calcular_longitud([-6, 15, 4]) ➞ True\n",
        "    4. calcular_longitud() ➞ False\n",
        "* Los elementos en la lista siempre serán enteros.\n",
        "* Los elementos en la lista pueden ser negativos o positivos, pero como una distancia negativa no es posible, encuentra una forma de convertir los enteros negativos en enteros positivos.\n",
        "* Devuelve `False` si no se proporcionan argumentos o si la lista está vacía."
      ],
      "metadata": {
        "id": "nlznwRHgfROe"
      }
    },
    {
      "cell_type": "code",
      "source": [
        "# Método 1\n",
        "def calcular_longitud(tramos=[]):\n",
        "    total = 0\n",
        "    for tramo in tramos:\n",
        "        total += abs(tramo)\n",
        "    if total == 25:\n",
        "        return True\n",
        "    return False\n",
        "\n",
        "# Método 2\n",
        "def calcular_longitud(tramos=None):\n",
        "    if tramos is None or not tramos:\n",
        "        return False\n",
        "    total = sum(abs(tramo) for tramo in tramos)\n",
        "    return total == 25\n",
        "\n",
        "# Método 3\n",
        "def calcular_longitud(tramos=None):\n",
        "    if tramos is None or not tramos:\n",
        "        return False\n",
        "    total = sum(map(abs, tramos))\n",
        "    return total == 25\n",
        "\n",
        "# Método 4\n",
        "from functools import reduce\n",
        "\n",
        "def calcular_longitud(tramos=None):\n",
        "    if tramos is None or not tramos:\n",
        "        return False\n",
        "    total = reduce(lambda x, y: x + y, map(abs, tramos))\n",
        "    return total == 25"
      ],
      "metadata": {
        "id": "dwXjbwGvfROe"
      },
      "execution_count": null,
      "outputs": []
    },
    {
      "cell_type": "code",
      "source": [
        "print(calcular_longitud([1, 2, 3, 4]))\n",
        "print(calcular_longitud([1, 9, 5, 8, 2]))\n",
        "print(calcular_longitud([-6, 15, 4]))\n",
        "print(calcular_longitud()) # daría error sin no ponemos el valor por defecto en el parámetro"
      ],
      "metadata": {
        "id": "hkz5akTFfROe",
        "colab": {
          "base_uri": "https://localhost:8080/"
        },
        "outputId": "83607ce4-0473-4630-b1eb-86664301fb88"
      },
      "execution_count": null,
      "outputs": [
        {
          "output_type": "stream",
          "name": "stdout",
          "text": [
            "False\n",
            "True\n",
            "True\n",
            "False\n"
          ]
        }
      ]
    },
    {
      "cell_type": "markdown",
      "source": [
        "## Reto 271: Mayúsculas y minúsculas según ASCII\n",
        "* Cree una función que tome una cadena como entrada y ponga en mayúscula una letra si su código ASCII es par y devuelva su versión en minúscula si su código ASCII es impar.\n",
        "* Ejemplos:\n",
        "    1. letras_mix(\"Alien, el octavo pasajero (1979)\") ➞ aLieN, eL ocTaVo PasaJeRo (1979)\n",
        "    2. letras_mix(\"Terminator (1984)\") ➞ TeRmiNaToR (1984)\n",
        "    3. letras_mix(\"Blade Runner (1999)\") ➞ BLaDe RuNNeR (1999)\n",
        "    4. letras_mix(\"MATRIX (1999).\") ➞ maTRiX (1999)."
      ],
      "metadata": {
        "id": "ryddgqUOfRVQ"
      }
    },
    {
      "cell_type": "code",
      "source": [
        "# Método 1\n",
        "def letras_mix(texto):\n",
        "    result = \"\"\n",
        "    for caracter in texto:\n",
        "        if ord(caracter) % 2 == 0:\n",
        "            result += caracter.upper()\n",
        "        elif ord(caracter) % 2 == 1:\n",
        "            result += caracter.lower()\n",
        "        else:\n",
        "            result += caracter\n",
        "    return result\n",
        "\n",
        "# Método 2\n",
        "def letras_mix(s):\n",
        "    return ''.join(c.lower() if ord(c) % 2 else c.upper() for c in s)"
      ],
      "metadata": {
        "id": "ASKMEaBIfRVR"
      },
      "execution_count": null,
      "outputs": []
    },
    {
      "cell_type": "code",
      "source": [
        "print(letras_mix(\"Alien, el octavo pasajero (1979)\"))\n",
        "print(letras_mix(\"Terminator (1984)\"))\n",
        "print(letras_mix(\"Blade Runner (1999)\"))\n",
        "print(letras_mix(\"MATRIX (1999).\"))"
      ],
      "metadata": {
        "id": "DBb97ENUfRVR",
        "colab": {
          "base_uri": "https://localhost:8080/"
        },
        "outputId": "d0b1bb7e-ff93-4c02-ce1a-d5bc30eb4a7f"
      },
      "execution_count": null,
      "outputs": [
        {
          "output_type": "stream",
          "name": "stdout",
          "text": [
            "aLieN, eL ocTaVo PasaJeRo (1979)\n",
            "TeRmiNaToR (1984)\n",
            "BLaDe RuNNeR (1999)\n",
            "maTRiX (1999).\n"
          ]
        }
      ]
    },
    {
      "cell_type": "markdown",
      "source": [
        "## Reto 272: Cantidad de Argumentos\n",
        "* Cree una función que devuelva la cantidad de argumentos con los que fue llamada.\n",
        "* Ejemplos:\n",
        "    1. num_args() ➞ 0\n",
        "    2. num_args(\"lunes\") ➞ 1\n",
        "    3. num_args(\"lunes\", \"martes\") ➞ 2\n",
        "    4. num_args(True, False) ➞ 2\n",
        "    5. num_args({}) ➞ 1\n",
        "    6. num_args(tuple([1, 2, 3] + [3, 4, 5]) ➞ 1"
      ],
      "metadata": {
        "id": "XEdl2xCdfRcK"
      }
    },
    {
      "cell_type": "code",
      "source": [
        "# Método 1\n",
        "def num_args(*args):\n",
        "    return len(args)"
      ],
      "metadata": {
        "id": "wGJ8b77VfRcL"
      },
      "execution_count": null,
      "outputs": []
    },
    {
      "cell_type": "code",
      "source": [
        "print(num_args())\n",
        "print(num_args(\"lunes\"))\n",
        "print(num_args(\"lunes\", \"martes\"))\n",
        "print(num_args(True, False))\n",
        "print(num_args({}))\n",
        "print(num_args(tuple([1, 2, 3] + [3, 4, 5])))"
      ],
      "metadata": {
        "id": "6G0eGpkdfRcL",
        "outputId": "14cc22e1-e088-41dd-d284-5c0721a50fd0",
        "colab": {
          "base_uri": "https://localhost:8080/"
        }
      },
      "execution_count": null,
      "outputs": [
        {
          "output_type": "stream",
          "name": "stdout",
          "text": [
            "0\n",
            "1\n",
            "2\n",
            "2\n",
            "1\n",
            "1\n"
          ]
        }
      ]
    },
    {
      "cell_type": "markdown",
      "source": [
        "## Reto 273: ¿Dónde está Bob?\n",
        "* Escriba una función que busque en una lista de nombres (sin ordenar) el nombre \"Bob\" y devuelva la ubicación en la lista.\n",
        "* Si Bob no está en la lista, devuelve -1.\n",
        "* Ejemplos:\n",
        "    1. buscar_bob([\"Jimmy\", \"Layla\", \"Bob\"]) ➞ 2\n",
        "    2. buscar_bob([\"Bob\", \"Layla\", \"Kaitlyn\", \"Patricia\"]) ➞ 0\n",
        "    3. buscar_bob([\"Jimmy\", \"Layla\", \"James\"]) ➞ -1\n",
        "\n",
        "* Suponga que todos los nombres comienzan con una letra mayúscula y luego están en minúscula (es decir, no se preocupe por encontrar \"BOB\" o \"bob\")."
      ],
      "metadata": {
        "id": "o98XGne9fRi4"
      }
    },
    {
      "cell_type": "code",
      "source": [
        "# Método 1. Con index\n",
        "def buscar_bob(nombres):\n",
        "    if \"Bob\" in nombres:\n",
        "        return nombres.index(\"Bob\")\n",
        "    else:\n",
        "        return -1\n",
        "# Método 2. Con un operador ternario\n",
        "def buscar_bob(nombres):\n",
        "    return nombres.index('Bob') if 'Bob' in nombres else -1\n",
        "\n",
        "# Método 3. Sin usar index. Con enumerate\n",
        "def buscar_bob(nombres):\n",
        "    for i, nombre in enumerate(nombres):\n",
        "        if nombre == \"Bob\":\n",
        "            return i\n",
        "    return -1\n",
        "\n",
        "# Método 4. Con un try...except\n",
        "# si \"Bob\" no se encuentra, se genera una excepción de tipo ValueError,\n",
        "# que es capturada por el bloque except y se devuelve -1\n",
        "\n",
        "def buscar_bob(nombres):\n",
        "    try:\n",
        "        return nombres.index(\"Bob\")\n",
        "    except ValueError:\n",
        "        return -1\n",
        "\n",
        "# Método 5. Usando next\n",
        "# Se usa la función next() para encontrar la primera ocurrencia de \"Bob\" en la lista de nombres\n",
        "# next actúa sobre un generador\n",
        "def buscar_bob(nombres):\n",
        "    try:\n",
        "        return next(i for i, nombre in enumerate(nombres) if nombre == \"Bob\")\n",
        "    except StopIteration:\n",
        "        return -1\n",
        "\n",
        "# Método 6. Usando count\n",
        "def buscar_bob(nombres):\n",
        "    count_bob = nombres.count(\"Bob\")\n",
        "    if count_bob > 0:\n",
        "        return nombres.index(\"Bob\")\n",
        "    else:\n",
        "        return -1\n",
        "\n",
        "# Método 7. Sin usar enumerate, usando el index\n",
        "def buscar_bob(a):\n",
        "    return next((i for i in range(len(a)) if a[i] == 'Bob'), -1)\n",
        "\n",
        "# Método 8. Con where de numpy\n",
        "# np.where() busca en el array de nombres\n",
        "# y devuelve un array de índices donde se encuentra \"Bob\"\n",
        "import numpy as np\n",
        "\n",
        "def buscar_bob(nombres):\n",
        "    indices = np.where(np.array(nombres) == \"Bob\")[0]\n",
        "    return indices[0] if indices.size > 0 else -1"
      ],
      "metadata": {
        "id": "RBSYj6KafRi4"
      },
      "execution_count": null,
      "outputs": []
    },
    {
      "cell_type": "code",
      "source": [
        "print(buscar_bob([\"Jimmy\", \"Layla\", \"Bob\"]))\n",
        "print(buscar_bob([\"Bob\", \"Layla\", \"Kaitlyn\", \"Patricia\"]))\n",
        "print(buscar_bob([\"Jimmy\", \"Layla\", \"James\"]))"
      ],
      "metadata": {
        "id": "ZwUYWL4AfRi4",
        "outputId": "275818c8-6765-4f7d-b35b-2cdfa162af8d",
        "colab": {
          "base_uri": "https://localhost:8080/"
        }
      },
      "execution_count": null,
      "outputs": [
        {
          "output_type": "stream",
          "name": "stdout",
          "text": [
            "2\n",
            "0\n",
            "-1\n"
          ]
        }
      ]
    },
    {
      "cell_type": "markdown",
      "source": [
        "## Reto 274: Exceso de espacios\n",
        "* Se han agregado espacios adicionales a una oración.\n",
        "* Devuelve la oración correcta eliminándolos.\n",
        "* Todas las palabras deben estar separadas por un espacio y no debe haber espacios al principio ni al final de la oración.\n",
        "* Ejemplos:\n",
        "    1. <pre>espaciado_correcto(\"Este es un pequeño paso para el hombre pero un gran salto para la  humanidad.\")\n",
        "➞ \"Este es un pequeño paso para el hombre pero un gran salto para la humanidad.\"</pre>\n",
        "    2. <pre>espaciado_correcto(\"  Si he visto más lejos,   es por haberme subido a hombros de    gigantes.   \")\n",
        "➞ \"Si he visto más lejos, es por haberme subido a hombros de gigantes.\"</pre>\n",
        "    3. <pre>espaciado_correcto(\"    Lo que te preocupa,    te esclaviza.  \")\n",
        "➞ \"Lo que te preocupa, te esclaviza.\"</pre>"
      ],
      "metadata": {
        "id": "Zkrm2LWzfRp5"
      }
    },
    {
      "cell_type": "code",
      "source": [
        "# Método 1\n",
        "def espaciado_correcto(s):\n",
        "    palabras = s.split()\n",
        "    return \" \".join(palabras)\n",
        "\n",
        "# Método 2\n",
        "def espaciado_correcto(s):\n",
        "    s = s.strip()  # quita los espacios del incio y del final de la cadena\n",
        "    while \"  \" in s:\n",
        "        s = s.replace(\"  \", \" \")    # Reemplaza espacios dobles por uno\n",
        "    return s"
      ],
      "metadata": {
        "id": "KxeuoeAKfRp6"
      },
      "execution_count": null,
      "outputs": []
    },
    {
      "cell_type": "code",
      "source": [
        "print(espaciado_correcto(\"Este es un pequeño paso para el hombre pero un gran salto para la  humanidad.\"))\n",
        "print(espaciado_correcto(\"  Si he visto más lejos,   es por haberme subido a hombros de    gigantes.   \"))\n",
        "print(espaciado_correcto(\"    Lo que te preocupa,    te esclaviza.  \"))"
      ],
      "metadata": {
        "id": "44ci95kTfRp6",
        "outputId": "ffe39d37-3bb4-4d6e-d87e-33e9923d3161",
        "colab": {
          "base_uri": "https://localhost:8080/"
        }
      },
      "execution_count": null,
      "outputs": [
        {
          "output_type": "stream",
          "name": "stdout",
          "text": [
            "Este es un pequeño paso para el hombre pero un gran salto para la humanidad.\n",
            "Si he visto más lejos, es por haberme subido a hombros de gigantes.\n",
            "Lo que te preocupa, te esclaviza.\n"
          ]
        }
      ]
    },
    {
      "cell_type": "markdown",
      "source": [
        "## Reto 275: Recuperar los últimos `n` elementos\n",
        "* Escriba una función que recupere los últimos `n` elementos de una lista.\n",
        "* Ejemplos:\n",
        "    1. ultimos([1, 2, 3, 4, 5], 1) ➞ [5]\n",
        "    2. ultimos([4, 3, 9, 9, 7, 6], 3) ➞ [9, 7, 6]\n",
        "    3. ultimos([1, 2, 3, 4, 5], 7) ➞ \"invalid\"\n",
        "    4. ultimos([1, 2, 3, 4, 5], 0) ➞ []"
      ],
      "metadata": {
        "id": "yZGd2hXWfRwq"
      }
    },
    {
      "cell_type": "code",
      "source": [
        "# Método 1\n",
        "def ultimos(lista, n):\n",
        "    if n > len(lista):\n",
        "        return 'invalid'\n",
        "    elif n <= 0:\n",
        "        return []\n",
        "    else:\n",
        "        return lista[-n:]\n",
        "\n",
        "# Método 2. Operador ternario anidado\n",
        "def ultimos(lista, n):\n",
        "    return \"invalid\" if n > len(lista) else [] if n <= 0 else lista[-n:]"
      ],
      "metadata": {
        "id": "CBpHguP6fRwr"
      },
      "execution_count": null,
      "outputs": []
    },
    {
      "cell_type": "code",
      "source": [
        "print(ultimos([1, 2, 3, 4, 5], 1))\n",
        "print(ultimos([4, 3, 9, 9, 7, 6], 3))\n",
        "print(ultimos([1, 2, 3, 4, 5], 7))\n",
        "print(ultimos([1, 2, 3, 4, 5], 0))"
      ],
      "metadata": {
        "id": "cEVM2wGgfRwr",
        "outputId": "86942bdd-06cb-4565-9d6a-dbccd13fb1aa",
        "colab": {
          "base_uri": "https://localhost:8080/"
        }
      },
      "execution_count": null,
      "outputs": [
        {
          "output_type": "stream",
          "name": "stdout",
          "text": [
            "[5]\n",
            "[9, 7, 6]\n",
            "invalid\n",
            "[]\n"
          ]
        }
      ]
    },
    {
      "cell_type": "markdown",
      "source": [
        "## Reto 276: Suma de todos los pares en una matriz\n",
        "* Cree una función que devuelva la suma de todos los elementos pares en una matriz 2D.\n",
        "* Ejemplos:\n",
        "    1. suma_pares([\n",
        "  [1, 0, 2],\n",
        "  [5, 5, 7],\n",
        "  [9, 4, 3]\n",
        "]) ➞ 6\n",
        "    2. suma_pares([\n",
        "  [1, 1],\n",
        "  [1, 1]\n",
        "]) ➞ 0\n",
        "    3. suma_pares([\n",
        "  [42, 9],\n",
        "  [16, 8]\n",
        "]) ➞ 66\n",
        "    4. suma_pares([\n",
        "  [],\n",
        "  [],\n",
        "  []\n",
        "]) ➞ 0"
      ],
      "metadata": {
        "id": "a67FFHBkfR25"
      }
    },
    {
      "cell_type": "code",
      "source": [
        "# Método 1\n",
        "def suma_pares(matriz):\n",
        "    total = 0\n",
        "    for fila in matriz:\n",
        "        for num in fila:\n",
        "            if num % 2 == 0:\n",
        "                total += num\n",
        "    return total\n",
        "\n",
        "# Método 2\n",
        "def suma_pares(matriz):\n",
        "    return sum(num for fila in matriz for num in fila if num % 2 == 0)\n",
        "\n",
        "# Método 3\n",
        "def suma_pares(matriz):\n",
        "    return sum(filter(lambda x: x % 2 == 0, [num for fila in matriz for num in fila]))\n",
        "\n",
        "# Método 4\n",
        "import numpy as np\n",
        "\n",
        "def suma_pares(matriz):\n",
        "    matriz_np = np.array(matriz)\n",
        "    pares = matriz_np[matriz_np % 2 == 0]  # Filtra los elementos pares\n",
        "    return np.sum(pares)\n",
        "\n",
        "# Método 5\n",
        "from functools import reduce\n",
        "\n",
        "def suma_pares(matriz):\n",
        "    return reduce(lambda x, y: x + y, [num for fila in matriz for num in fila if num % 2 == 0], 0)\n"
      ],
      "metadata": {
        "id": "fgHmNJ_gfR26"
      },
      "execution_count": null,
      "outputs": []
    },
    {
      "cell_type": "code",
      "source": [
        "print(suma_pares([[1, 0, 2], [5, 5, 7], [9, 4, 3]]))\n",
        "print(suma_pares([[1, 1], [1, 1]]))\n",
        "print(suma_pares([[42, 9], [16, 8]]))\n",
        "print(suma_pares([[], [], []]))"
      ],
      "metadata": {
        "id": "iAaiXoQgfR26",
        "outputId": "1766f1d5-027a-45a9-bb3f-3c28e4a0a1f8",
        "colab": {
          "base_uri": "https://localhost:8080/"
        }
      },
      "execution_count": null,
      "outputs": [
        {
          "output_type": "stream",
          "name": "stdout",
          "text": [
            "6\n",
            "0\n",
            "66\n",
            "0\n"
          ]
        }
      ]
    },
    {
      "cell_type": "markdown",
      "source": [
        "## Reto 277: Traza de una Matriz\n",
        "* Dada una matriz cuadrada, su traza es la suma de las entradas en la diagonal principal.\n",
        "* Una matriz cuadrada es aquella que tiene el mismo número de filas que de columnas.\n",
        "* La diagonal principal es la línea diagonal desde la parte superior izquierda hasta la inferior derecha.\n",
        "* En esta matriz la traza es 1 + 5 + 9 = 15.\n",
        "<pre>\n",
        "[ [1, 2, 3],\n",
        "    [4, 5, 6],\n",
        "    [7, 8, 9]]\n",
        "</pre>\n",
        "* Ejemplos:\n",
        "    1. calcula_traza([\n",
        "  [1, 4],\n",
        "  [4, 1]\n",
        "]) ➞ 2\n",
        "    2. calcula_traza([\n",
        "  [1, 2, 3],\n",
        "  [4, 5, 6],\n",
        "  [7, 8, 9]\n",
        "]) ➞ 15\n",
        "    3. calcula_traza([\n",
        "  [1, 0, 1, 0],\n",
        "  [0, 2, 0, 2],\n",
        "  [3, 0, 3, 0],\n",
        "  [0, 4, 0, 4]\n",
        "]) ➞ 10"
      ],
      "metadata": {
        "id": "q5D4hZwcfR9V"
      }
    },
    {
      "cell_type": "code",
      "source": [
        "# Método 1\n",
        "def calcula_traza(matriz):\n",
        "    traza = 0\n",
        "    for i in range(len(matriz)):\n",
        "        for j in range(len(matriz)):\n",
        "            if i == j:\n",
        "                traza += matriz[i][j]\n",
        "    return traza\n",
        "\n",
        "# Método 2\n",
        "def calcula_traza(matriz):\n",
        "    traza = 0\n",
        "    for i in range(len(matriz)):\n",
        "        traza += matriz[i][i]\n",
        "    return traza\n",
        "\n",
        "# Método 3\n",
        "def calcula_traza(matriz):\n",
        "    return sum(matriz[i][i] for i in range(len(matriz)))\n",
        "\n",
        "# Método 4\n",
        "import numpy as np\n",
        "\n",
        "def calcula_traza(matriz):\n",
        "    return np.trace(matriz)\n",
        "\n",
        "# Método 5\n",
        "def calcula_traza(matriz):\n",
        "    return sum(row[i] for i, row in enumerate(matriz))\n",
        "\n",
        "# Método 6\n",
        "def calcula_traza(matriz):\n",
        "    return sum(map(lambda x, y: x[y], matriz, range(len(matriz))))\n",
        "\n",
        "# Método 7\n",
        "from functools import reduce\n",
        "import operator\n",
        "\n",
        "def calcula_traza(matriz):\n",
        "    return reduce(operator.add, (fila[i] for i, fila in enumerate(matriz)))"
      ],
      "metadata": {
        "id": "_EE0PyiGfR9V"
      },
      "execution_count": null,
      "outputs": []
    },
    {
      "cell_type": "code",
      "source": [
        "print(calcula_traza([ [1, 4], [4, 1] ]))\n",
        "print(calcula_traza([ [1, 2, 3], [4, 5, 6], [7, 8, 9] ]))\n",
        "print(calcula_traza([ [1, 0, 1, 0], [0, 2, 0, 2], [3, 0, 3, 0], [0, 4, 0, 4] ]))"
      ],
      "metadata": {
        "id": "8ybKe18YfR9V",
        "outputId": "141400d9-dd49-41ce-aa4a-ba036ec296f7",
        "colab": {
          "base_uri": "https://localhost:8080/"
        }
      },
      "execution_count": null,
      "outputs": [
        {
          "output_type": "stream",
          "name": "stdout",
          "text": [
            "2\n",
            "15\n",
            "10\n"
          ]
        }
      ]
    },
    {
      "cell_type": "markdown",
      "source": [
        "## Reto 278: ¿A qué Siglo pertenece un Año?\n",
        "* Escriba una función que tome un año y devuelva su siglo correspondiente.\n",
        "* Ejemplos:\n",
        "    1. siglo(2005) ➞ 21\n",
        "    2. siglo(1950) ➞ 20\n",
        "    3. siglo(1900) ➞ 19\n",
        "    4. siglo(1901) ➞ 20\n",
        "    5. siglo(2000) ➞ 20\n",
        "    6. siglo(79) ➞ 1\n",
        "* El siglo XIX son los años comprendidos entre 1801 y 1900.\n",
        "* El siglo XX son los años comprendidos entre 1901 y 2000."
      ],
      "metadata": {
        "id": "YX2x_dGqfSDj"
      }
    },
    {
      "cell_type": "code",
      "source": [
        "# Método 1\n",
        "def siglo(n):\n",
        "    return (n-1) // 100 + 1\n",
        "\n",
        "# Método 2\n",
        "def siglo(n):\n",
        "    return -(-n // 100)\n",
        "\n",
        "# Método 3\n",
        "import math\n",
        "\n",
        "def siglo(n):\n",
        "    return math.ceil(n / 100)   # para redondear hacia arriba\n",
        "\n",
        "# Método 4\n",
        "def siglo(year):\n",
        "    century, resto = divmod(year - 1, 100)\n",
        "    return century + 1"
      ],
      "metadata": {
        "id": "jUt68v-1fSDk"
      },
      "execution_count": null,
      "outputs": []
    },
    {
      "cell_type": "code",
      "source": [
        "print(siglo(2005))\n",
        "print(siglo(1950))\n",
        "print(siglo(1900))\n",
        "print(siglo(1901))\n",
        "print(siglo(2000))\n",
        "print(siglo(79))"
      ],
      "metadata": {
        "id": "Cbtr6c2BfSDk",
        "outputId": "96890bab-cd3c-4a51-aeca-a55aafac4a7c",
        "colab": {
          "base_uri": "https://localhost:8080/"
        }
      },
      "execution_count": null,
      "outputs": [
        {
          "output_type": "stream",
          "name": "stdout",
          "text": [
            "21\n",
            "20\n",
            "19\n",
            "20\n",
            "20\n",
            "1\n"
          ]
        }
      ]
    },
    {
      "cell_type": "markdown",
      "source": [
        "## Reto 279: Coordenadas `(x, y)`\n",
        "* Nos dan dos listas de igual longitud que contienen números enteros.\n",
        "* La primera lista `x` contiene coordenadas de tipo X.\n",
        "* La segunda lista 'y' contiene coordenadas de tipo Y.\n",
        "* Cree una función que convierta dos listas en una lista de coordenadas `(x, y)`.\n",
        "* Ejemplos:\n",
        "    1. convertir_a_cartesianas([1, 5, 3, 3, 4], [5, 8, 9, 1, 0])\n",
        "➞ [[1, 5], [5, 8], [3, 9], [3, 1], [4, 0]]\n",
        "    2. convertir_a_cartesianas([9, 8, 3], [1, 1, 1])\n",
        "➞ [[9, 1], [8, 1], [3, 1]]\n",
        "* Cada coordenada es una lista, no una tupla."
      ],
      "metadata": {
        "id": "CQEFfW8FfSKV"
      }
    },
    {
      "cell_type": "code",
      "source": [
        "# Método 1\n",
        "def convertir_a_cartesianas(x, y):\n",
        "    coordenadas = []\n",
        "    for i in range(len(x)):\n",
        "        coordenadas.append([x[i], y[i]])\n",
        "    return coordenadas\n",
        "\n",
        "# Método 2\n",
        "def convertir_a_cartesianas(x, y):\n",
        "    return [[x[i], y[i]] for i in range(len(x))]\n",
        "\n",
        "# Método 3\n",
        "def convertir_a_cartesianas(x, y):\n",
        "    return list([i, j] for i, j in zip(x, y))\n",
        "\n",
        "# Método 4\n",
        "def convertir_a_cartesianas(x, y):\n",
        "    return [list(coord) for coord in zip(x, y)]\n",
        "\n",
        "# Método 5\n",
        "def convertir_a_cartesianas(x, y):\n",
        "    return list(map(lambda a, b: [a, b], x, y))\n",
        "\n",
        "# Método 6\n",
        "def convertir_a_cartesianas(x, y):\n",
        "    return list(map(list, zip(x, y)))"
      ],
      "metadata": {
        "id": "5Yn5atglfSKV"
      },
      "execution_count": null,
      "outputs": []
    },
    {
      "cell_type": "code",
      "source": [
        "print(convertir_a_cartesianas([1, 5, 3, 3, 4], [5, 8, 9, 1, 0]))\n",
        "print(convertir_a_cartesianas([9, 8, 3], [1, 1, 1]))"
      ],
      "metadata": {
        "id": "wXEQ48f1fSKV",
        "colab": {
          "base_uri": "https://localhost:8080/"
        },
        "outputId": "f6f26398-06e7-41d7-f262-3f26b4ccaccb"
      },
      "execution_count": null,
      "outputs": [
        {
          "output_type": "stream",
          "name": "stdout",
          "text": [
            "[[1, 5], [5, 8], [3, 9], [3, 1], [4, 0]]\n",
            "[[9, 1], [8, 1], [3, 1]]\n"
          ]
        }
      ]
    },
    {
      "cell_type": "markdown",
      "source": [
        "## Reto 280: Dividir una cadena según vocales y consonantes\n",
        "* Escriba una función que tome una cadena, la divida y la devuelva con las vocales primero y las consonantes después.\n",
        "* Para cualquier carácter que no sea una vocal (como caracteres especiales o espacios), trátelos como consonantes.\n",
        "* Ejemplos:\n",
        "    1. separar(\"abcde\") ➞ \"aebcd\"\n",
        "    2. separar(\"Hello!\") ➞ \"eoHll!\"\n",
        "    3. separar(\"What's the time?\") ➞ \"aeieWht's th tm?\"\n",
        "* Las vocales son a, e, i, o, u.\n",
        "* Recomendación: defina una función `es_vocal()` separada para facilitar la lectura del código."
      ],
      "metadata": {
        "id": "li0zBadYfSRr"
      }
    },
    {
      "cell_type": "code",
      "source": [
        "# Método 1\n",
        "def es_vocal(caracter):\n",
        "    vocales = \"aeiou\"\n",
        "    return caracter.lower() in vocales\n",
        "\n",
        "# Método 2\n",
        "def separar(cadena):\n",
        "    lista = list(cadena)\n",
        "    resto = []\n",
        "    index = 0\n",
        "    while index < len(lista):\n",
        "        if not es_vocal(lista[index]):\n",
        "            resto.append(lista.pop(index))\n",
        "        else:\n",
        "            index += 1\n",
        "    return ''.join(lista + resto)\n",
        "\n",
        "# Método 3\n",
        "def separar(cadena):\n",
        "    vocales = [caracter for caracter in cadena if es_vocal(caracter)]\n",
        "    consonantes = [caracter for caracter in cadena if not es_vocal(caracter)]\n",
        "    return ''.join(vocales + consonantes)"
      ],
      "metadata": {
        "id": "1BIPo8UJfSRs"
      },
      "execution_count": null,
      "outputs": []
    },
    {
      "cell_type": "code",
      "source": [
        "print(separar(\"abcde\"))\n",
        "print(separar(\"Hello!\"))\n",
        "print(separar(\"What's the time?\"))"
      ],
      "metadata": {
        "id": "NjZF2sBafSRs",
        "colab": {
          "base_uri": "https://localhost:8080/"
        },
        "outputId": "f46af21e-7ae8-432d-b96c-b5b50af7af9a"
      },
      "execution_count": null,
      "outputs": [
        {
          "output_type": "stream",
          "name": "stdout",
          "text": [
            "aebcd\n",
            "eoHll!\n",
            "aeieWht's th tm?\n"
          ]
        }
      ]
    },
    {
      "cell_type": "markdown",
      "source": [
        "## Reto 281: Halloween Day\n",
        "* Cree una función que tome la fecha en el formato aaaa/mm/dd como entrada y devuelva \"¡Truco o trato!\" si la fecha es el 31 de octubre; en caso contrario, devuelva \"caramelos\".\n",
        "* Ejemplos:\n",
        "    1. halloween(\"2024/10/31\") ➞ \"¡Truco o trato!\"\n",
        "    2. halloween(\"2025/07/31\") ➞ \"caramelos\"\n",
        "    3. halloween(\"2026/10/12\") ➞ \"caramelos\""
      ],
      "metadata": {
        "id": "lBPnqT7WfSX8"
      }
    },
    {
      "cell_type": "code",
      "source": [
        "# Método 1\n",
        "def halloween(s):\n",
        "    if s[-2:] == '31' and s[5:7] == '10':\n",
        "        return \"¡Truco o trato!\"\n",
        "    else:\n",
        "        return \"caramelos\"\n",
        "\n",
        "# Método 2\n",
        "def halloween(s):\n",
        "    mes_dia = s[5:]\n",
        "    if mes_dia == \"10/31\":\n",
        "        return \"¡Truco o trato!\"\n",
        "    else:\n",
        "        return \"caramelos\"\n",
        "\n",
        "# Método 3\n",
        "def halloween(s):\n",
        "    lista = s.split('/')\n",
        "    dia = lista[2]\n",
        "    mes = lista[1]\n",
        "    if dia == '31' and mes == '10':\n",
        "        return \"¡Truco o trato!\"\n",
        "    else:\n",
        "        return \"caramelos\"\n",
        "\n",
        "# Método 4\n",
        "import datetime\n",
        "\n",
        "def halloween(s):\n",
        "    format = '%Y/%m/%d'\n",
        "    fecha = datetime.datetime.strptime(s, format)\n",
        "    dia = fecha.strftime('%d')\n",
        "    mes = fecha.strftime('%m')\n",
        "    if dia == '31' and mes == '10':\n",
        "        return \"¡Truco o trato!\"\n",
        "    else:\n",
        "        return \"caramelos\"\n",
        "\n",
        "# Método 5\n",
        "from datetime import datetime\n",
        "\n",
        "def halloween(s):\n",
        "    # Convertir la cadena de fecha a un objeto datetime\n",
        "    date_obj = datetime.strptime(s, '%Y/%m/%d')\n",
        "\n",
        "    # Verificar si el mes es octubre (10) y el día es 31\n",
        "    if date_obj.month == 10 and date_obj.day == 31:\n",
        "        return \"¡Truco o trato!\"\n",
        "    else:\n",
        "        return \"caramelos\"\n",
        "\n",
        "# Método 6\n",
        "def halloween(s):\n",
        "    year, month, day = map(int, s.split('/'))\n",
        "    if month == 10 and day == 31:\n",
        "        return \"¡Truco o trato!\"\n",
        "    else:\n",
        "        return \"caramelos\""
      ],
      "metadata": {
        "id": "evjNCdiSfSX9"
      },
      "execution_count": null,
      "outputs": []
    },
    {
      "cell_type": "code",
      "source": [
        "print(halloween(\"2024/10/31\"))\n",
        "print(halloween(\"2025/07/31\"))\n",
        "print(halloween(\"2026/10/12\"))"
      ],
      "metadata": {
        "id": "KkvwpcaWfSX9",
        "colab": {
          "base_uri": "https://localhost:8080/"
        },
        "outputId": "e50f8ce4-7bdc-4e6c-85ae-0ff0386945c4"
      },
      "execution_count": null,
      "outputs": [
        {
          "output_type": "stream",
          "name": "stdout",
          "text": [
            "¡Truco o trato!\n",
            "caramelos\n",
            "caramelos\n"
          ]
        }
      ]
    },
    {
      "cell_type": "markdown",
      "source": [
        "## Reto 282: Contar las letras y los dígitos\n",
        "* Escriba una función que tome una cadena y calcule el número de letras y dígitos que contiene.\n",
        "* Devuelva el resultado en un diccionario.\n",
        "* Ejemplos:\n",
        "    1. contar_todo(\"Hello World\") ➞ { \"LETTERS\":  10, \"DIGITS\": 0 }\n",
        "    2. contar_todo(\"H3ll0 W0r1d\") ➞ { \"LETTERS\":  6, \"DIGITS\": 4 }\n",
        "    3. contar_todo(\"1969\") ➞ { \"LETTERS\": 0, \"DIGITS\": 4 }\n",
        "\n",
        "* Las pruebas contienen sólo caracteres alfanuméricos.\n",
        "* Los espacios no son letras.\n",
        "* Todas las pruebas contienen cadenas válidas."
      ],
      "metadata": {
        "id": "6nq_oZ5QfSeS"
      }
    },
    {
      "cell_type": "code",
      "source": [
        "# Método 1\n",
        "def contar_todo(string):\n",
        "    contar_num = 0\n",
        "    contar_letras = 0\n",
        "    for char in string:\n",
        "        if char.isnumeric():\n",
        "            contar_num += 1\n",
        "        elif char.isalpha():\n",
        "            contar_letras += 1\n",
        "    return {\"LETTERS\": contar_letras, \"DIGITS\": contar_num}\n",
        "\n",
        "# Método 2\n",
        "def contar_todo(cadena):\n",
        "    letras = 0\n",
        "    digitos = 0\n",
        "    for caracter in cadena:\n",
        "        if caracter.isalpha():\n",
        "            letras += 1\n",
        "        elif caracter.isdigit():\n",
        "            digitos += 1\n",
        "    return {\"LETTERS\": letras, \"DIGITS\": digitos}\n",
        "\n",
        "# Método 3\n",
        "def contar_todo(cadena):\n",
        "    letras = sum(1 for c in cadena if c.isalpha())\n",
        "    digitos = sum(1 for c in cadena if c.isdigit())\n",
        "    return {\"LETTERS\": letras, \"DIGITS\": digitos}\n",
        "\n",
        "# Método 4\n",
        "import re\n",
        "\n",
        "def contar_todo(cadena):\n",
        "    # Utilizar expresiones regulares para encontrar letras y dígitos\n",
        "    letras = len(re.findall(r'[a-zA-Z]', cadena))\n",
        "    digitos = len(re.findall(r'\\d', cadena))\n",
        "    return {\"LETTERS\": letras, \"DIGITS\": digitos}\n",
        "\n",
        "# Método 5\n",
        "from collections import Counter\n",
        "\n",
        "def contar_todo(cadena):\n",
        "    recuento = Counter({'LETTERS': 0, 'DIGITS': 0}) # inicializamos Counter en 0\n",
        "    for caracter in cadena:\n",
        "        if caracter.isalpha():\n",
        "            recuento['LETTERS'] += 1\n",
        "        elif caracter.isdigit():\n",
        "            recuento['DIGITS'] += 1\n",
        "    return {'LETTERS': recuento['LETTERS'], 'DIGITS': recuento['DIGITS']}"
      ],
      "metadata": {
        "id": "8XREovjkfSeT"
      },
      "execution_count": null,
      "outputs": []
    },
    {
      "cell_type": "code",
      "source": [
        "print(contar_todo(\"Hello World\"))\n",
        "print(contar_todo(\"H3ll0 W0r1d\"))\n",
        "print(contar_todo(\"1969\"))"
      ],
      "metadata": {
        "id": "tJEnknA6fSeT",
        "colab": {
          "base_uri": "https://localhost:8080/"
        },
        "outputId": "50cd6e0b-374a-44de-831a-3712dfde5d3d"
      },
      "execution_count": null,
      "outputs": [
        {
          "output_type": "stream",
          "name": "stdout",
          "text": [
            "{'LETTERS': 10, 'DIGITS': 0}\n",
            "{'LETTERS': 6, 'DIGITS': 4}\n",
            "{'LETTERS': 0, 'DIGITS': 4}\n"
          ]
        }
      ]
    },
    {
      "cell_type": "markdown",
      "source": [
        "## Reto 283: Números a Arrays y viceversa\n",
        "* Escriba dos funciones:\n",
        "    - `to_list()`, que convierte un número en una lista con sus dígitos.\n",
        "    - `to_number()`, que convierte una lista de números enteros a su número.\n",
        "* Ejemplos:\n",
        "    1. to_list(235) ➞ [2, 3, 5]\n",
        "    2. to_list(0) ➞ [0]\n",
        "    3. to_number([2, 3, 5]) ➞ 235\n",
        "    4. to_number([0]) ➞ 0\n",
        "\n",
        "* Todos los casos de prueba serán números no negativos `>= 0`"
      ],
      "metadata": {
        "id": "BsYS6rgsfSkQ"
      }
    },
    {
      "cell_type": "code",
      "source": [
        "# Método 1\n",
        "def to_list(num):\n",
        "    if num == 0:\n",
        "        return [0]\n",
        "    digits = []\n",
        "    while num > 0:\n",
        "        digits.append(num % 10)\n",
        "        num //= 10\n",
        "    return digits[::-1]\n",
        "\n",
        "# Método 2\n",
        "def to_list(num):\n",
        "    return [int(x) for x in str(num)]\n",
        "\n",
        "# Método 3\n",
        "def to_list(num):\n",
        "    return list(map(int, str(num)))\n",
        "\n",
        "# Método 4\n",
        "def to_list(num):\n",
        "    return list(filter(lambda i:(i), str(num)))\n",
        "\n",
        "# Método 5\n",
        "from functools import reduce\n",
        "\n",
        "def to_list(num):\n",
        "    return reduce(lambda acc, x: acc + [int(x)], str(num), [])\n",
        "# ============================================================\n",
        "\n",
        "# Método 6\n",
        "def to_number(lista):\n",
        "    if len(lista) == 1:\n",
        "        return lista[0]\n",
        "    number = 0\n",
        "    for digit in lista:\n",
        "        number = number * 10 + digit\n",
        "    return number\n",
        "\n",
        "# Método 7\n",
        "def to_number(lista):\n",
        "    return ''.join(str(x) for x in lista)\n",
        "\n",
        "# Método 8\n",
        "def to_number(lista):\n",
        "    return int(''.join(map(str, lista)))\n",
        "\n",
        "# Método 9\n",
        "def to_number(lista):\n",
        "    return sum(d * 10**i for i, d in enumerate(lista[::-1]))\n",
        "\n",
        "# Método 10\n",
        "import functools\n",
        "\n",
        "def to_number(lista):\n",
        "    return functools.reduce(lambda total, d: 10 * total + d, lista, 0)\n",
        "\n",
        "# Método 11\n",
        "from functools import reduce\n",
        "\n",
        "def to_number(lista):\n",
        "    str_list = [str(c) for c in lista]\n",
        "    res = reduce(lambda x, y: x + y, str_list)\n",
        "    return int(res)"
      ],
      "metadata": {
        "id": "--jqfkKXfSkR"
      },
      "execution_count": null,
      "outputs": []
    },
    {
      "cell_type": "code",
      "source": [
        "print(to_list(235))\n",
        "print(to_list(0) )\n",
        "print(to_number([2, 3, 5]))\n",
        "print(to_number([0]))"
      ],
      "metadata": {
        "id": "ARtL0CWtfSkR",
        "outputId": "5c7a0980-e2f5-4435-df00-c41a0e34393a",
        "colab": {
          "base_uri": "https://localhost:8080/"
        }
      },
      "execution_count": null,
      "outputs": [
        {
          "output_type": "stream",
          "name": "stdout",
          "text": [
            "[2, 3, 5]\n",
            "[0]\n",
            "235\n",
            "0\n"
          ]
        }
      ]
    },
    {
      "cell_type": "markdown",
      "source": [
        "## Reto 284: Devolver los argumentos primero y último\n",
        "* Una función puede recibir un número indetermidado de argumentos.\n",
        "* Escriba dos funciones:\n",
        "    - `first_arg()` debería devolver el primer argumento recibido.\n",
        "    - `last_arg()` debería devolver el último argumento recibido.\n",
        "* Ejemplos:\n",
        "    1. first_arg(1, 2, 3) ➞ 1\n",
        "    2. last_arg(1, 2, 3) ➞ 3\n",
        "    3. first_arg(8) ➞ 8\n",
        "    4. last_arg(8) ➞ 8\n",
        "    5. last_arg() ➞ `None`\n",
        "* Devuelva `None` si la función no toma argumentos.\n",
        "* Si la función solo toma un argumento, las funciones `first_arg` y `last_arg` deberían devolver el mismo valor."
      ],
      "metadata": {
        "id": "yYfeaNSHfSrS"
      }
    },
    {
      "cell_type": "code",
      "source": [
        "# Método 1\n",
        "def first_arg(*args):\n",
        "    if not args:\n",
        "        return None\n",
        "    return args[0]\n",
        "\n",
        "# Método 2\n",
        "def first_arg(*args):\n",
        "    return args[0] if args else None\n",
        "\n",
        "# Método 3\n",
        "def first_arg(a=None, *args):\n",
        "    return None if a is None else a\n",
        "\n",
        "# Método 4\n",
        "def first_arg(*args):\n",
        "    return next(iter(args), None)\n",
        "\n",
        "# Método 5\n",
        "def first_arg(*args):\n",
        "    try:\n",
        "        return args[0]\n",
        "    except IndexError:\n",
        "        return None\n",
        "\n",
        "# Método 6. Función recursiva\n",
        "def first_arg(*args):\n",
        "    if not args:\n",
        "        return None\n",
        "    elif len(args) == 1:\n",
        "        return args[0]\n",
        "    else:\n",
        "        return first_arg(args[0])\n",
        "\n",
        "# =============================================\n",
        "\n",
        "# Método 7\n",
        "def last_arg(*args):\n",
        "    if not args:\n",
        "        return None\n",
        "    return args[-1]\n",
        "\n",
        "# Método 8\n",
        "def last_arg(*args):\n",
        "    return args[-1] if args else None\n",
        "\n",
        "# Método 9\n",
        "def last_arg(*args):\n",
        "    return next(iter(args[::-1]), None)\n",
        "\n",
        "# Método 10\n",
        "def last_arg(*args):\n",
        "    try:\n",
        "        return args[-1]\n",
        "    except IndexError:\n",
        "        return None\n",
        "\n",
        "# Método 11. Función recursiva\n",
        "def last_arg(*args):\n",
        "    if not args:\n",
        "        return None\n",
        "    elif len(args) == 1:\n",
        "        return args[0]\n",
        "    else:\n",
        "        return last_arg(*args[1:])"
      ],
      "metadata": {
        "id": "UZeu_vLffSrT"
      },
      "execution_count": null,
      "outputs": []
    },
    {
      "cell_type": "code",
      "source": [
        "print(first_arg(1, 2, 3))\n",
        "print(last_arg(1, 2, 3))\n",
        "print(first_arg(8))\n",
        "print(last_arg(8))\n",
        "print(last_arg())"
      ],
      "metadata": {
        "id": "C9wXWZ0YfSrT",
        "outputId": "4fac956b-6f9b-4a46-f713-53e0401e90cb",
        "colab": {
          "base_uri": "https://localhost:8080/"
        }
      },
      "execution_count": null,
      "outputs": [
        {
          "output_type": "stream",
          "name": "stdout",
          "text": [
            "1\n",
            "3\n",
            "8\n",
            "8\n",
            "None\n"
          ]
        }
      ]
    },
    {
      "cell_type": "markdown",
      "source": [
        "## Reto 285: La cadena contiene al menos un dígito\n",
        "* Escriba una expresión regular que coincida con una cadena si contiene al menos un dígito.\n",
        "* Ejemplos:\n",
        "    1. tiene_digito(\"c8\") ➞ True\n",
        "    2. tiene_digito(\"23cc4\") ➞ True\n",
        "    3. tiene_digito(\"abwekz\") ➞ False\n",
        "    4. tiene_digito(\"sdfkxi\") ➞ False\n",
        "\n",
        "* Utilice expresiones regulares para resolverlo ([RegEx](https://www.w3schools.com/python/python_regex.asp))"
      ],
      "metadata": {
        "id": "UFMUgIdlfSxR"
      }
    },
    {
      "cell_type": "code",
      "source": [
        "# https://stackoverflow.com/questions/19859282/check-if-a-string-contains-a-number\n",
        "\n",
        "# Método 1\n",
        "import re\n",
        "\n",
        "def tiene_digito(cadena):\n",
        "    return bool(re.search(r'\\d', cadena))\n",
        "\n",
        "'''\n",
        "Explicación de la expresión regular r'\\d':\n",
        "\n",
        "\\d: Representa cualquier dígito (0-9).\n",
        "r'': Indica una cadena raw en Python, lo que permite interpretar los caracteres tal como están escritos.\n",
        "La función re.search() busca la presencia de la expresión regular \\d en la cadena proporcionada.\n",
        "Si se encuentra al menos un dígito, re.search() devuelve un objeto que es evaluado a True mediante bool();\n",
        "de lo contrario, si no se encuentra ningún dígito, devuelve False.\n",
        "'''\n",
        "\n",
        "# Método 2\n",
        "import re\n",
        "\n",
        "def tiene_digito(cadena):\n",
        "    return bool(re.match(r'^.*\\d.*$', cadena))\n",
        "\n",
        "'''\n",
        "Explicación de la expresión regular r'^.*\\d.*$':\n",
        "\n",
        "^: Representa el inicio de la cadena.\n",
        ".*: Coincide con cualquier carácter (.) cero o más veces (*).\n",
        "\\d: Representa cualquier dígito (0-9).\n",
        ".*: Coincide con cualquier carácter cero o más veces.\n",
        "$: Representa el final de la cadena.\n",
        "La función re.match() intenta hacer coincidir la expresión regular con la cadena completa.\n",
        "'''"
      ],
      "metadata": {
        "id": "CnC8xI9MfSxR"
      },
      "execution_count": null,
      "outputs": []
    },
    {
      "cell_type": "code",
      "source": [
        "print(tiene_digito(\"c8\"))\n",
        "print(tiene_digito(\"23cc4\"))\n",
        "print(tiene_digito(\"abwekz\"))\n",
        "print(tiene_digito(\"sdfkxi\"))"
      ],
      "metadata": {
        "id": "6Mb0BFM6fSxS",
        "outputId": "bd7cf80f-bfcf-4289-9b99-8dd7c73c03fe",
        "colab": {
          "base_uri": "https://localhost:8080/"
        }
      },
      "execution_count": null,
      "outputs": [
        {
          "output_type": "stream",
          "name": "stdout",
          "text": [
            "True\n",
            "True\n",
            "False\n",
            "False\n"
          ]
        }
      ]
    },
    {
      "cell_type": "markdown",
      "source": [
        "## Reto 286: Más impares que pares\n",
        "* Dada una lista, devuelva `True` si hay más números impares que pares; de lo contrario, devuelve `False`.\n",
        "* Ejemplos:\n",
        "    1. mas_impares([1]) ➞ True\n",
        "    2. mas_impares([1, 2, 3, 4, 5, 6, 7, 8, 9]) ➞ True\n",
        "    3. mas_impares([1, 2, 3, 4, 5, 6, 7, 8, 9, 0]) ➞ False\n",
        "    4. mas_impares([135394823795273847528572346]) ➞ False\n",
        "    5. mas_impares([]) ➞ False"
      ],
      "metadata": {
        "id": "__TvABf5fS36"
      }
    },
    {
      "cell_type": "code",
      "source": [
        "# Método 1\n",
        "def mas_impares(lista):\n",
        "    contador_impares = 0\n",
        "    for digito in lista:\n",
        "        if digito % 2:\n",
        "            contador_impares += 1\n",
        "    return contador_impares > len(lista) // 2"
      ],
      "metadata": {
        "id": "ZDM42lUwfS37"
      },
      "execution_count": null,
      "outputs": []
    },
    {
      "cell_type": "code",
      "source": [
        "print(mas_impares([1]))\n",
        "print(mas_impares([1, 2, 3, 4, 5, 6, 7, 8, 9]))\n",
        "print(mas_impares([1, 2, 3, 4, 5, 6, 7, 8, 9, 0]))\n",
        "print(mas_impares([135394823795273847528572346]))\n",
        "print(mas_impares([]))"
      ],
      "metadata": {
        "id": "D68fHzMgfS37",
        "outputId": "961e36a3-8665-44d1-dd31-b47605544f71",
        "colab": {
          "base_uri": "https://localhost:8080/"
        }
      },
      "execution_count": null,
      "outputs": [
        {
          "output_type": "stream",
          "name": "stdout",
          "text": [
            "True\n",
            "True\n",
            "False\n",
            "False\n",
            "False\n"
          ]
        }
      ]
    },
    {
      "cell_type": "markdown",
      "source": [
        "## Reto 287: Restricción alfanumérica\n",
        "* Cree una función que devuelva `True` si la cadena dada tiene en alguno de los siguientes casos:\n",
        "    - Sólo letras y no números.\n",
        "    - Sólo números y ninguna letra.\n",
        "* Si una cadena tiene números y letras, o contiene caracteres que no encajan en ninguna categoría, devuelve `False`.\n",
        "* Ejemplos:\n",
        "    1. restriccion_alfanumerica(\"Bold\") ➞ True\n",
        "    2. restriccion_alfanumerica(\"123454321\") ➞ True\n",
        "    3. restriccion_alfanumerica(\"H3LL0\") ➞ False\n",
        "    4. restriccion_alfanumerica(\"Los Ángeles\") ➞ False\n",
        "    5. restriccion_alfanumerica(\"ana@gmail.com\") ➞ False\n",
        "    6. restriccion_alfanumerica(\"\") ➞ False\n",
        "* Cualquier cadena que contenga espacios o esté vacía debe devolver `False`."
      ],
      "metadata": {
        "id": "8DaAKFT2fS-l"
      }
    },
    {
      "cell_type": "code",
      "source": [
        "# Método 1\n",
        "def restriccion_alfanumerica(cadena):\n",
        "    return cadena.isalpha() or cadena.isnumeric()\n",
        "\n",
        "# Método 2\n",
        "def restriccion_alfanumerica(cadena):\n",
        "    return cadena.isalpha() or cadena.isdigit()\n",
        "\n",
        "# Método 3\n",
        "import re\n",
        "\n",
        "def restriccion_alfanumerica(s):\n",
        "    if re.fullmatch(r'[a-zA-Z]+', s) or re.fullmatch(r'\\d+', s):\n",
        "        return True\n",
        "    else:\n",
        "        return False"
      ],
      "metadata": {
        "id": "jrQXC79tfS-l"
      },
      "execution_count": null,
      "outputs": []
    },
    {
      "cell_type": "code",
      "source": [
        "print(restriccion_alfanumerica(\"Bold\"))\n",
        "print(restriccion_alfanumerica(\"123454321\"))\n",
        "print(restriccion_alfanumerica(\"H3LL0\"))\n",
        "print(restriccion_alfanumerica(\"Los Ángeles\"))\n",
        "print(restriccion_alfanumerica(\"ana@gmail.com\"))\n",
        "print(restriccion_alfanumerica(\"\"))"
      ],
      "metadata": {
        "id": "w8bapCFufS-l",
        "outputId": "04dda1f6-c69b-42c0-a44d-dd1029953c4a",
        "colab": {
          "base_uri": "https://localhost:8080/"
        }
      },
      "execution_count": null,
      "outputs": [
        {
          "output_type": "stream",
          "name": "stdout",
          "text": [
            "True\n",
            "True\n",
            "False\n",
            "False\n",
            "False\n",
            "False\n"
          ]
        }
      ]
    },
    {
      "cell_type": "markdown",
      "source": [
        "## Reto 288: Cadena de factores\n",
        "* Una cadena de factores es una lista donde cada elemento anterior es un factor del siguiente elemento consecutivo.\n",
        "* La siguiente es una cadena de factores:\n",
        "<pre>\n",
        "[3, 6, 12, 36]\n",
        "    * 3 es un factor de 6\n",
        "    * 6 es un factor de 12\n",
        "    * 12 es un factor de 36\n",
        "</pre>\n",
        "* Cree una función que determine si una lista es o no una cadena de factores.\n",
        "* Ejemplos:\n",
        "    1. cadena_factores([1, 2, 4, 8, 16, 32]) ➞ True\n",
        "    2. cadena_factores([1, 1, 1, 1, 1, 1]) ➞ True\n",
        "    3. cadena_factores([2, 4, 6, 7, 12]) ➞ False\n",
        "    4. cadena_factores([10, 1]) ➞ False"
      ],
      "metadata": {
        "id": "yNso4ivofTE9"
      }
    },
    {
      "cell_type": "code",
      "source": [
        "# Método 1\n",
        "def cadena_factores(lista):\n",
        "    bandera = True\n",
        "    for i in range(len(lista) - 1):\n",
        "        if lista[i+1] % lista[i]:\n",
        "            bandera = False\n",
        "            break\n",
        "    return bandera\n",
        "\n",
        "# Método 2\n",
        "def cadena_factores(lista):\n",
        "    for i in range(1, len(lista)):\n",
        "        if lista[i] % lista[i - 1] != 0:\n",
        "            return False\n",
        "    return True\n",
        "\n",
        "# Método 3\n",
        "def cadena_factores(lista):\n",
        "    return all(lista[i] % lista[i - 1] == 0 for i in range(1, len(lista)))\n",
        "\n",
        "# Método 4\n",
        "def cadena_factores(lista):\n",
        "    return all(b % a == 0 for a, b in zip(lista, lista[1:]))\n",
        "\n",
        "# Método 5. Función recursiva\n",
        "\n",
        "def cadena_factores(lista):\n",
        "    if len(lista) < 2:\n",
        "        return True\n",
        "    if lista[1] % lista[0] == 0:\n",
        "        return cadena_factores(lista[1:])\n",
        "    else:\n",
        "        return False"
      ],
      "metadata": {
        "id": "4dDaVlOMfTE9"
      },
      "execution_count": null,
      "outputs": []
    },
    {
      "cell_type": "code",
      "source": [
        "print(cadena_factores([1, 2, 4, 8, 16, 32]))\n",
        "print(cadena_factores([1, 1, 1, 1, 1, 1]))\n",
        "print(cadena_factores([2, 4, 6, 7, 12]))\n",
        "print(cadena_factores([10, 1]))"
      ],
      "metadata": {
        "id": "tIOMucrEfTE9",
        "outputId": "bddc413b-b16c-48e7-f92e-9432f243d4f2",
        "colab": {
          "base_uri": "https://localhost:8080/"
        }
      },
      "execution_count": null,
      "outputs": [
        {
          "output_type": "stream",
          "name": "stdout",
          "text": [
            "True\n",
            "True\n",
            "False\n",
            "False\n"
          ]
        }
      ]
    },
    {
      "cell_type": "markdown",
      "source": [
        "## Reto 289: Multidivisión\n",
        "* Cree una función que, para `a`, `b`, `c` dados, haga lo siguiente:\n",
        "    - Suma `a` a sí mismo `b` veces.\n",
        "    - Comprueba si el resultado es divisible por `c`.\n",
        "* Ejemplos:\n",
        "    1. abcmath(42, 5, 10) ➞ False\n",
        "        * 42+42=84, 84+84=168, 168+168=336, 336+336=672, 672+672=1344\n",
        "        * 1344 is not divisible by 10\n",
        "    2. abcmath(5, 2, 1) ➞ True\n",
        "    3. abcmath(1, 2, 3) ➞ False"
      ],
      "metadata": {
        "id": "punyu45IfTK9"
      }
    },
    {
      "cell_type": "code",
      "source": [
        "# Método 1\n",
        "def abcmath(a, b, c):\n",
        "    result = a\n",
        "    for i in range(b):\n",
        "        result += result\n",
        "    return result % c == 0\n",
        "\n",
        "# Método 2\n",
        "def abcmath(a, b, c):\n",
        "    result = a * (2 ** b)\n",
        "    return result % c == 0\n",
        "\n",
        "# la expresión a * (2 ** b) calcula el resultado de sumar 'a' 'b' veces\n",
        "# ejemplo, si b es 3 entonces 2 ** 3 es 8 que equivale a sumar a 3 veces\n",
        "# [(a + a) + (a + a)] + [(a + a) + (a + a)] = 8 * a"
      ],
      "metadata": {
        "id": "f0dYi6YzfTK9"
      },
      "execution_count": null,
      "outputs": []
    },
    {
      "cell_type": "code",
      "source": [
        "print(abcmath(42, 5, 10))\n",
        "print(abcmath(5, 2, 1))\n",
        "print(abcmath(1, 2, 3))\n",
        "print()"
      ],
      "metadata": {
        "id": "pq6DvRmgfTK9",
        "outputId": "8a8c0e49-8c3e-4ac6-8844-0183b36848e2",
        "colab": {
          "base_uri": "https://localhost:8080/"
        }
      },
      "execution_count": null,
      "outputs": [
        {
          "output_type": "stream",
          "name": "stdout",
          "text": [
            "False\n",
            "True\n",
            "False\n",
            "\n"
          ]
        }
      ]
    },
    {
      "cell_type": "markdown",
      "source": [
        "## Reto 290: Transformar palabras en cadenas binarias\n",
        "* Transforming Words into Binary Strings\n",
        "* Escriba una función que transforme todas las letras de [a, m] a 0 y las letras de [n, z] a 1 en una cadena.\n",
        "* Ejemplos:\n",
        "    1. convertir_a_binario(\"tierra\") ➞ \"100110\"\n",
        "    2. convertir_a_binario(\"astroLABIO\") ➞ \"0111100001\"\n",
        "    3. convertir_a_binario(\"luna\") ➞ \"0110\"\n",
        "* La conversión no debe distinguir entre mayúsculas y minúsculas."
      ],
      "metadata": {
        "id": "UgeNCwKWfTRw"
      }
    },
    {
      "cell_type": "code",
      "source": [
        "# Método 1\n",
        "def convertir_a_binario(cadena):\n",
        "    result = \"\"\n",
        "    for char in cadena.lower():\n",
        "        if 'a' <= char <= 'm':\n",
        "            result += \"0\"\n",
        "        elif 'n' <= char <= 'z':\n",
        "            result += \"1\"\n",
        "    return result\n",
        "\n",
        "# Método 2\n",
        "def convertir_a_binario(cadena):\n",
        "    return ''.join('0' if 'a' <= char <= 'm' else '1' for char in cadena.lower())\n",
        "\n",
        "# Método 3\n",
        "def convertir_a_binario(cadena):\n",
        "    cadena = cadena.lower()\n",
        "    for char in cadena:\n",
        "        if char in \"abcdefghijklm\":\n",
        "            cadena = cadena.replace(char, \"0\")\n",
        "        elif char in \"nopqrstuvwxyz\":\n",
        "            cadena = cadena.replace(char, \"1\")\n",
        "    return cadena\n",
        "\n",
        "# Método 4\n",
        "def convertir_a_binario(cadena):\n",
        "    traduccion = str.maketrans('abcdefghijklm', '0'*13)\n",
        "    traduccion.update(str.maketrans('nopqrstuvwxyz', '1'*13))\n",
        "    return cadena.lower().translate(traduccion)\n",
        "\n",
        "# Método5. Expresión regular\n",
        "import re\n",
        "\n",
        "def convertir_a_binario(cadena):\n",
        "    return re.sub(r'[a-m]', '0', re.sub(r'[n-z]', '1', cadena.lower()))"
      ],
      "metadata": {
        "id": "2C2LY_mJfTRw"
      },
      "execution_count": null,
      "outputs": []
    },
    {
      "cell_type": "code",
      "source": [
        "print(convertir_a_binario(\"tierra\"))\n",
        "print(convertir_a_binario(\"astroLABIO\"))\n",
        "print(convertir_a_binario(\"luna\"))"
      ],
      "metadata": {
        "id": "q75yAld1fTRw",
        "outputId": "eb10bc84-0a09-40a2-f753-5efbe5abe61a",
        "colab": {
          "base_uri": "https://localhost:8080/"
        }
      },
      "execution_count": null,
      "outputs": [
        {
          "output_type": "stream",
          "name": "stdout",
          "text": [
            "100110\n",
            "0111100001\n",
            "0110\n"
          ]
        }
      ]
    },
    {
      "cell_type": "markdown",
      "source": [
        "## Reto 291: El Desafío de la Fusión Vectorial\n",
        "* En el vibrante reino de Pythonia, dos vectores encantados desean fusionarse y liberar su poder combinado.\n",
        "* El Vector `a`, guardián de la luz, alberga números mágicos de armonía.\n",
        "* Mientras tanto, el Vector `b`, envuelto en la energía misteriosa de la oscuridad, contiene valores enigmáticos.\n",
        "* Ambos vectores, guiados por el destino, se encontraron en el Valle de los Arrays, un lugar donde las dimensiones se entrelazaban y los números cobraban vida.\n",
        "* Tu misión es crear una función llamada `suma_vectores` que, con su hechizo programático, pueda combinar estos vectores componente por componente, revelando el vector resultado que equilibrará la luz y la oscuridad en el reino.\n",
        "* Los vectores proporcionados simpre tendrán la misma dimensión entre ellos, pero puedes recibir vectores de mayor o menor número de componentes.\n",
        "* ¡Adelante, héroe de la programación! Ayuda a estos vectores encantados a unirse y desatar su poder conjunto.\n",
        "* ¡Que la magia de Python guíe tu código en este emocionante desafío de la fusión vectorial!\n",
        "* Ejemplos:\n",
        "    1. suma_vectores([1, 2, 3], [9, 8, 7]) ➞ [10, 10, 10]\n",
        "    2. suma_vectores([-1, 20, -3], [-8, -11, -6]) ➞ [-9, -9, -9]\n",
        "    3. suma_vectores([1, 2], [5, -3]) ➞ [6, -1]\n",
        "    4. suma_vectores([1], [2]) ➞ [3]\n",
        "    5. suma_vectores([], []) ➞ []"
      ],
      "metadata": {
        "id": "EEW7UlbWfTYT"
      }
    },
    {
      "cell_type": "code",
      "source": [
        "# Método 1\n",
        "def suma_vectores(a, b):\n",
        "    result = []\n",
        "    for i in range(len(a)):\n",
        "        result.append(a[i] + b[i])\n",
        "    return result\n",
        "\n",
        "# Método 2\n",
        "def suma_vectores(a, b):\n",
        "    return list(map(sum, zip(a, b)))\n",
        "\n",
        "# Método 3\n",
        "def suma_vectores(a, b):\n",
        "    return [x + y for x, y in zip(a, b)]\n",
        "\n",
        "# Método 4\n",
        "def suma_vectores(a, b):\n",
        "    return list(map(lambda x, y: x + y, a, b))\n",
        "\n",
        "# Método 5\n",
        "def suma_vectores(a, b):\n",
        "    return list(map(lambda x: x[0] + x[1], zip(a, b)))\n",
        "\n",
        "# Método 6\n",
        "def suma_vectores(a, b):\n",
        "    return list(map(lambda x_y: sum(x_y), list(zip(a, b))))\n",
        "\n",
        "# Método 7\n",
        "import numpy as np\n",
        "\n",
        "def suma_vectores(a, b):\n",
        "    vector_a = np.array(a)\n",
        "    vector_b = np.array(b)\n",
        "    return list(vector_a + vector_b)"
      ],
      "metadata": {
        "id": "hP_waRnrfTYT"
      },
      "execution_count": null,
      "outputs": []
    },
    {
      "cell_type": "code",
      "source": [
        "print(suma_vectores([1, 2, 3], [9, 8, 7]))\n",
        "print(suma_vectores([-1, 20, -3], [-8, -11, -6]))\n",
        "print(suma_vectores([1, 2], [5, -3]))\n",
        "print(suma_vectores([1], [2]))\n",
        "print(suma_vectores([], []))"
      ],
      "metadata": {
        "id": "tUaHXIYgfTYT",
        "colab": {
          "base_uri": "https://localhost:8080/"
        },
        "outputId": "e0699f22-e67c-4ce4-d7d9-550c03b9c05b"
      },
      "execution_count": null,
      "outputs": [
        {
          "output_type": "stream",
          "name": "stdout",
          "text": [
            "[10, 10, 10]\n",
            "[-9, 9, -9]\n",
            "[6, -1]\n",
            "[3]\n",
            "[]\n"
          ]
        }
      ]
    },
    {
      "cell_type": "markdown",
      "source": [
        "## Reto 292: Palabras inversas que comienzan con una letra particular\n",
        "* Reverse Words Starting With a Particular Letter\n",
        "* Escribe una función que invierta todas las palabras de una oración que comiencen con una letra en particular.\n",
        "* Ejemplos:\n",
        "    1. reverso_especial(\"el sistema solar solo tiene un sol\", \"s\")\n",
        "➞ \"el ametsis ralos olos tiene un los\"\n",
        "    2. reverso_especial(\"marte no tiene mares ¿o si?\", \"m\")\n",
        "➞ \"etram no tiene seram ¿o si?\"\n",
        "    3. reverso_especial(\"pronto ire al pueblo de pablo\", \"p\")\n",
        "➞ \"otnorp ire al olbeup de olbap\"\n",
        "\n",
        "* Invierta las palabras en sí, no la oración completa.\n",
        "* Todos los caracteres de la oración estarán en minúsculas."
      ],
      "metadata": {
        "id": "ovYBox3AfTfs"
      }
    },
    {
      "cell_type": "code",
      "source": [
        "# Método 1\n",
        "def reverso_especial(frase, letra):\n",
        "    result = []\n",
        "    palabras = frase.split()  # Divide la frase en una lista de palabras\n",
        "    for palabra in palabras:\n",
        "        if palabra[0] == letra:\n",
        "            result.append(palabra[::-1])\n",
        "        else:\n",
        "            result.append(palabra)\n",
        "    return ' '.join(result)  # Une las palabras en una frase nuevamente\n",
        "\n",
        "# Método 2\n",
        "def reverso_especial(frase, letra):\n",
        "    return ' '.join(palabra[::-1] if palabra.startswith(letra) else palabra for palabra in frase.split())\n",
        "\n",
        "# Método 3\n",
        "def reverso_especial(frase, letra):\n",
        "    return ' '.join([palabra[::-1] if palabra[0] == letra else palabra for palabra in frase.split()])\n",
        "\n",
        "# Método 4\n",
        "def reverso_especial(frase, letra):\n",
        "    return ' '.join(map(lambda palabra: palabra[::-1] if palabra.startswith(letra) else palabra, frase.split()))"
      ],
      "metadata": {
        "id": "H5g11mXEfTft"
      },
      "execution_count": null,
      "outputs": []
    },
    {
      "cell_type": "code",
      "source": [
        "print(reverso_especial(\"el sistema solar solo tiene un sol\", \"s\"))\n",
        "print(reverso_especial(\"marte no tiene mares ¿o si?\", \"m\"))\n",
        "print(reverso_especial(\"pronto ire al pueblo de pablo\", \"p\"))"
      ],
      "metadata": {
        "id": "S_nTK-UjfTft",
        "outputId": "e5fc314a-9b49-407d-f0d5-73491e7a9d87",
        "colab": {
          "base_uri": "https://localhost:8080/"
        }
      },
      "execution_count": null,
      "outputs": [
        {
          "output_type": "stream",
          "name": "stdout",
          "text": [
            "el ametsis ralos olos tiene un los\n",
            "etram no tiene seram ¿o si?\n",
            "otnorp ire al olbeup de olbap\n"
          ]
        }
      ]
    },
    {
      "cell_type": "markdown",
      "source": [
        "## Reto 293: Rangos de lista inclusivos\n",
        "* Inclusive List Ranges\n",
        "* Escriba una función que, dados los valores `start_num` y `end_num`, devuelva una lista que contenga todos los números en ese rango incluidos los extremos.\n",
        "* Ejemplos:\n",
        "    1. lista_inclusiva(1, 5) ➞ [1, 2, 3, 4, 5]\n",
        "    2. lista_inclusiva(2, 8) ➞ [2, 3, 4, 5, 6, 7, 8]\n",
        "    3. lista_inclusiva(10, 20) ➞ [10, 11, 12, 13, 14, 15, 16, 17, 18, 19, 20]\n",
        "    4. lista_inclusiva(17, 5) ➞ [17]\n",
        "    \n",
        "* Los números de la lista están ordenados en orden ascendente.\n",
        "* Si `start_num` es mayor que `end_num`, devuelve una lista con el valor más alto. Vea el ejemplo n.° 4.\n",
        "* Se puede resolver mediante una versión recursiva."
      ],
      "metadata": {
        "id": "Vo6TL1HMfTlS"
      }
    },
    {
      "cell_type": "code",
      "source": [
        "# Método 1\n",
        "def lista_inclusiva(start_num, end_num):\n",
        "    if start_num > end_num:\n",
        "        return [start_num]\n",
        "    else:\n",
        "        return list(range(start_num, end_num + 1))\n",
        "\n",
        "# Método 2\n",
        "def lista_inclusiva(start_num, end_num):\n",
        "    if end_num < start_num:\n",
        "        return [start_num]\n",
        "    else:\n",
        "        return [x for x in range(start_num, end_num + 1)]\n",
        "\n",
        "# Método 3\n",
        "def lista_inclusiva(start_num, end_num):\n",
        "    return [i for i in range(start_num, end_num + 1)] if start_num <= end_num else [start_num]\n",
        "\n",
        "# Método 4\n",
        "def lista_inclusiva(start_num, end_num):\n",
        "    if start_num > end_num:\n",
        "        return [start_num]\n",
        "    result = []\n",
        "    while start_num <= end_num:\n",
        "        result.append(start_num)\n",
        "        start_num += 1\n",
        "    return result\n",
        "\n",
        "# Método 5. Función recursiva\n",
        "def lista_inclusiva(start_num, end_num):\n",
        "    if end_num < start_num:\n",
        "        return [start_num]\n",
        "    elif start_num == end_num:\n",
        "        return [start_num]\n",
        "    else:\n",
        "        return [start_num] + lista_inclusiva(start_num + 1, end_num)"
      ],
      "metadata": {
        "id": "pp9kf3M_fTlS"
      },
      "execution_count": null,
      "outputs": []
    },
    {
      "cell_type": "code",
      "source": [
        "print(lista_inclusiva(1, 5))\n",
        "print(lista_inclusiva(2, 8))\n",
        "print(lista_inclusiva(10, 20))\n",
        "print(lista_inclusiva(17, 5))"
      ],
      "metadata": {
        "id": "BaStndRIfTlT",
        "colab": {
          "base_uri": "https://localhost:8080/"
        },
        "outputId": "47d62dab-0231-42f4-d28e-9e0e57f9c236"
      },
      "execution_count": null,
      "outputs": [
        {
          "output_type": "stream",
          "name": "stdout",
          "text": [
            "[1, 2, 3, 4, 5]\n",
            "[2, 3, 4, 5, 6, 7, 8]\n",
            "[10, 11, 12, 13, 14, 15, 16, 17, 18, 19, 20]\n",
            "[17]\n"
          ]
        }
      ]
    },
    {
      "cell_type": "markdown",
      "source": [
        "## Reto 294: Devolver una lista de sublistas\n",
        "* Return a List of Sublists\n",
        "* Escriba una función que tome tres argumentos `(x, y, z)` y devuelva una lista que contenga `x` sublistas (por ejemplo, [[], [], []]), cada una con un número `y` del elemento `z`.\n",
        "    - `x` Número de sublistas contenidas dentro de la lista principal.\n",
        "    - `y` Número de elementos contenidos en cada sublista.\n",
        "    - `z` Elemento contenido dentro de cada sublista.\n",
        "* Ejemplos:\n",
        "    1. matrix(3, 2, 4) ➞ [[4, 4], [4, 4], [4, 4]]\n",
        "    2. matrix(2, 1, \"ab\") ➞ [[\"ab\"], [\"ab\"]]\n",
        "    3. matrix(2, 4, 5) ➞ [[5, 5, 5, 5], [5, 5, 5, 5]]\n",
        "    \n",
        "* Los dos primeros argumentos siempre serán números enteros.\n",
        "* El tercer argumento es una cadena o un número entero."
      ],
      "metadata": {
        "id": "6htGkBI4fTsY"
      }
    },
    {
      "cell_type": "code",
      "source": [
        "# Método 1\n",
        "def matrix(x, y, z):\n",
        "    matriz = []\n",
        "    for _ in range(x):\n",
        "        matriz.append([z] * y)\n",
        "    return matriz\n",
        "\n",
        "# Método 2\n",
        "def matrix(x, y, z):\n",
        "    matriz = [[0] * y for _ in range(x)] # inicializamos la matriz con ceros o podría ser con None\n",
        "    for i in range(x):\n",
        "        for j in range(y):\n",
        "            matriz[i][j] = z    # cambiamos los ceros por z\n",
        "    return matriz\n",
        "\n",
        "# el método anterior no es muy eficiente ya que podríamos haber inicializado\n",
        "# la matriz directamente con el valor de z\n",
        "\n",
        "# Método 3\n",
        "def matrix(x, y, z):\n",
        "    return [[z] * y for _ in range(x)]\n",
        "\n",
        "# Método 4\n",
        "import numpy as np\n",
        "\n",
        "def matrix(x, y, z):\n",
        "    return np.full((x, y), z).tolist()\n",
        "\n",
        "# Método 5\n",
        "from itertools import repeat\n",
        "\n",
        "def matrix(x, y, z):\n",
        "    return [list(repeat(z, y)) for _ in range(x)]\n",
        "\n",
        "# Método 6\n",
        "def matrix(x, y, z):\n",
        "    return list(map(lambda _: [z] * y, range(x)))"
      ],
      "metadata": {
        "id": "fbV_8vUqfTsZ"
      },
      "execution_count": null,
      "outputs": []
    },
    {
      "cell_type": "code",
      "source": [
        "print(matrix(3, 2, 4))\n",
        "print(matrix(2, 1, \"ab\"))\n",
        "print(matrix(2, 4, 5))"
      ],
      "metadata": {
        "id": "UPx_NahCfTsZ",
        "colab": {
          "base_uri": "https://localhost:8080/"
        },
        "outputId": "372990d6-790d-46be-b3d8-b0d0e1e68ab5"
      },
      "execution_count": null,
      "outputs": [
        {
          "output_type": "stream",
          "name": "stdout",
          "text": [
            "[[4, 4], [4, 4], [4, 4]]\n",
            "[['ab'], ['ab']]\n",
            "[[5, 5, 5, 5], [5, 5, 5, 5]]\n"
          ]
        }
      ]
    },
    {
      "cell_type": "markdown",
      "source": [
        "## Reto 295: Suma de elementos numéricos en una lista\n",
        "* Sum of Number Elements in a List\n",
        "* Las listas se pueden tener mezcla de varios tipos de datos.\n",
        "* Cree una función que sume todos los elementos numéricos en la lista dada.\n",
        "* Ejemplos:\n",
        "    1. suma_numeros([1, 2, \"13\", \"4\", \"645\"]) ➞ 3\n",
        "    2. suma_numeros([True, False, \"123\", \"75\"]) ➞ 0\n",
        "    3. suma_numeros([1, 2, 3, 4, 5, True]) ➞ 15"
      ],
      "metadata": {
        "id": "T5sGuTSSfTyS"
      }
    },
    {
      "cell_type": "code",
      "source": [
        "# Método 1\n",
        "def suma_numeros(lista):\n",
        "    total = 0\n",
        "    for x in lista:\n",
        "        if type(x) == int:\n",
        "            total += x\n",
        "    return total\n",
        "\n",
        "# Método 2\n",
        "def suma_numeros(lista):\n",
        "    return sum(x if isinstance(x, (int, float)) and not isinstance(x, bool) else 0 for x in lista)\n",
        "\n",
        "# Método 3\n",
        "def suma_numeros(lista):\n",
        "    return sum(x for x in lista if isinstance(x, (int, float)) and not isinstance(x, bool))\n",
        "\n",
        "# Método 4\n",
        "def suma_numeros(lista):\n",
        "    numeros = filter(lambda x: isinstance(x, (int, float)) and not isinstance(x, bool), lista)\n",
        "    return sum(numeros)"
      ],
      "metadata": {
        "id": "SSL5c1rhfTyS"
      },
      "execution_count": null,
      "outputs": []
    },
    {
      "cell_type": "code",
      "source": [
        "print(suma_numeros([1, 2, \"13\", \"4\", \"645\"]))\n",
        "print(suma_numeros([True, False, \"123\", \"75\"]))\n",
        "print(suma_numeros([1, 2, 3, 4, 5, True]))"
      ],
      "metadata": {
        "id": "C98toXzKfTyS",
        "colab": {
          "base_uri": "https://localhost:8080/"
        },
        "outputId": "3581e66f-b63a-4b72-90db-3181ff3cefe9"
      },
      "execution_count": null,
      "outputs": [
        {
          "output_type": "stream",
          "name": "stdout",
          "text": [
            "3\n",
            "0\n",
            "15\n"
          ]
        }
      ]
    },
    {
      "cell_type": "markdown",
      "source": [
        "## Reto 296: Guerra de números\n",
        "* War of Numbers\n",
        "* Hay una gran guerra entre los números pares e impares.\n",
        "* Muchas personas ya perdieron la vida en esta guerra y tu tarea es poner fin a esto.\n",
        "* Tienes que determinar qué grupo suma más: los pares o los impares.\n",
        "* El grupo más grande gana.\n",
        "* Cree una función que tome una lista de números enteros, sume los números pares e impares por separado y luego devuelva la diferencia entre las sumas de los números pares e impares.\n",
        "* Ejemplos:\n",
        "    1. guerra_de_numeros([2, 8, 7, 5]) ➞ 2\n",
        "        * 2 + 8 = 10\n",
        "        * 7 + 5 = 12\n",
        "        * 12 es mayor que 10\n",
        "        * Así que retornaremos 12 - 10 = 2\n",
        "    2. guerra_de_numeros([12, 90, 75]) ➞ 27\n",
        "    3. guerra_de_numeros([5, 9, 45, 6, 2, 7, 34, 8, 6, 90, 5, 243]) ➞ 168\n",
        "* La lista dada contiene sólo números enteros positivos."
      ],
      "metadata": {
        "id": "midO58UUfT50"
      }
    },
    {
      "cell_type": "code",
      "source": [
        "# Método 1. Usando funciones separadas\n",
        "\n",
        "def suma_pares(lista):\n",
        "    return sum(x for x in lista if x % 2 == 0)\n",
        "\n",
        "def suma_impares(lista):\n",
        "    return sum(x for x in lista if x % 2)\n",
        "\n",
        "def guerra_de_numeros(lista):\n",
        "    return abs(suma_pares(lista) - suma_impares(lista))\n",
        "\n",
        "# Método 2.\n",
        "def guerra_de_numeros(lista):\n",
        "    suma_pares = sum(x for x in lista if x % 2 == 0)\n",
        "    suma_impares = sum(x for x in lista if x % 2 != 0)\n",
        "    return abs(suma_pares - suma_impares)\n",
        "\n",
        "# Método 3. Usando reduce\n",
        "from functools import reduce\n",
        "\n",
        "def guerra_de_numeros(lista):\n",
        "    suma_pares = reduce(lambda x, y: x + y if y % 2 == 0 else x, lista, 0)\n",
        "    suma_impares = reduce(lambda x, y: x + y if y % 2 != 0 else x, lista, 0)\n",
        "    return abs(suma_pares - suma_impares)"
      ],
      "metadata": {
        "id": "cQAhadH7fT51"
      },
      "execution_count": null,
      "outputs": []
    },
    {
      "cell_type": "code",
      "source": [
        "print(guerra_de_numeros([2, 8, 7, 5]))\n",
        "print(guerra_de_numeros([12, 90, 75]))\n",
        "print(guerra_de_numeros([5, 9, 45, 6, 2, 7, 34, 8, 6, 90, 5, 243]))"
      ],
      "metadata": {
        "id": "VhnNJx51fT51",
        "colab": {
          "base_uri": "https://localhost:8080/"
        },
        "outputId": "f679abf3-4750-4783-ee29-ed600f5e61ef"
      },
      "execution_count": null,
      "outputs": [
        {
          "output_type": "stream",
          "name": "stdout",
          "text": [
            "2\n",
            "27\n",
            "168\n"
          ]
        }
      ]
    },
    {
      "cell_type": "markdown",
      "source": [
        "## Reto 297: Números apocalípticos\n",
        "* Apocalyptic Numbers\n",
        "* Un número `n` es apocalíptico si `2^n` contiene una cadena de tres 6 consecutivos (siendo 666 el presunto \"número de la bestia\").\n",
        "*Cree una función que tome un número `n` como entrada.\n",
        "* Si el número es apocalíptico, encuentra el índice de 666 en 2^n y devuelva \"¡Arrepiéntanse, X días hasta el Apocalipsis!\" (siendo X el índice).\n",
        "* Si no lo es, retorna \"¡Crisis evitada! Puede continuar pecando.\".\n",
        "* Si no, devuelva \"Crisis evitada. Reanudar el pecado\".\n",
        "* Ejemplos:\n",
        "    1. apocaliptico(109) ➞ \"¡Crisis evitada! Puede continuar pecando.\"\n",
        "    2. apocaliptico(157) ➞ \"¡Arrepiéntanse, 9 días hasta el Apocalipsis!\"\n",
        "        * 2^157 -> 182687704666362864775460604089535377456991567872\n",
        "        * 666 at 10th position (index 9)\n",
        "    3. apocaliptico(175) ➞ \"¡Crisis evitada! Puede continuar pecando.\"\n",
        "    4. apocaliptico(220) ➞ \"¡Arrepiéntanse, 6 días hasta el Apocalipsis!\""
      ],
      "metadata": {
        "id": "HSbLu4A7fUAF"
      }
    },
    {
      "cell_type": "code",
      "source": [
        "# Método 1. Usando index\n",
        "def apocaliptico(n):\n",
        "    cadena = str(2 ** n)\n",
        "    if \"666\" in cadena:\n",
        "        index = cadena.index('666')\n",
        "        return f\"¡Arrepiéntanse, {index} días hasta el Apocalipsis!\"\n",
        "    return \"¡Crisis evitada! Puede continuar pecando.\"\n",
        "\n",
        "# Método 2. Usando find. Si find no encuentra da -1\n",
        "def apocaliptico(n):\n",
        "    cadena = str(2 ** n)\n",
        "    index = cadena.find('666')\n",
        "    if index != -1:\n",
        "        return f\"¡Arrepiéntanse, {index} días hasta el Apocalipsis!\"\n",
        "    return \"¡Crisis evitada! Puede continuar pecando.\""
      ],
      "metadata": {
        "id": "u3QEDQs7fUAG"
      },
      "execution_count": null,
      "outputs": []
    },
    {
      "cell_type": "code",
      "source": [
        "print(apocaliptico(109))\n",
        "print(apocaliptico(157))\n",
        "print(apocaliptico(175))\n",
        "print(apocaliptico(220))"
      ],
      "metadata": {
        "id": "rWd9uqKBfUAG",
        "colab": {
          "base_uri": "https://localhost:8080/"
        },
        "outputId": "96b0498f-1c43-4630-9710-406f53d54c4e"
      },
      "execution_count": null,
      "outputs": [
        {
          "output_type": "stream",
          "name": "stdout",
          "text": [
            "¡Crisis evitada! Puede continuar pecando.\n",
            "¡Arrepiéntanse, 9 días hasta el Apocalipsis!\n",
            "¡Crisis evitada! Puede continuar pecando.\n",
            "¡Arrepiéntanse, 6 días hasta el Apocalipsis!\n"
          ]
        }
      ]
    },
    {
      "cell_type": "markdown",
      "source": [
        "## Reto 298: Combinación de Listas Anidadas en una Única Lista\n",
        "* Two Lists inside a List to One\n",
        "* Cree una función para combinar dos listas que se encuentran dentro de otra lista en una sola lista.\n",
        "* Se ha de mantener el orden original de los elementos y preservar el tipo de dato de los elementos individuales.\n",
        "* Ejemplos:\n",
        "    1. una_lista([[1, 2], [3, 4]]) ➞ [1, 2, 3, 4]\n",
        "    2. una_lista([[\"a\", \"b\"], [\"c\", \"d\"]]) ➞ [\"a\", \"b\", \"c\", \"d\"]\n",
        "    3. una_lista([[True, False], [False, False]]) ➞ [True, False, False, False]"
      ],
      "metadata": {
        "id": "nd6iUfOKfUGv"
      }
    },
    {
      "cell_type": "code",
      "source": [
        "# Método 1\n",
        "def una_lista(matriz):\n",
        "    return matriz[0] + matriz[1]\n",
        "\n",
        "# Método 2\n",
        "def una_lista(matriz):\n",
        "    result = []\n",
        "    for sublist in matriz:\n",
        "        result.extend(sublist)\n",
        "    return result\n",
        "\n",
        "# Método 3\n",
        "def una_lista(matriz):\n",
        "    return [elemento for sublist in matriz for elemento in sublist]\n",
        "\n",
        "# Método 4\n",
        "def una_lista(matriz):\n",
        "    return sum(matriz, [])\n",
        "\n",
        "# Método 5\n",
        "from itertools import chain\n",
        "\n",
        "def una_lista(matriz):\n",
        "    return list(chain.from_iterable(matriz))\n",
        "\n",
        "# Método 6\n",
        "from functools import reduce\n",
        "from operator import concat\n",
        "\n",
        "def una_lista(matriz):\n",
        "    return reduce(concat, matriz, [])\n",
        "\n",
        "# Método 7\n",
        "from more_itertools import flatten\n",
        "\n",
        "def una_lista(matriz):\n",
        "    return list(flatten(matriz))"
      ],
      "metadata": {
        "id": "_csn0kJbfUGv"
      },
      "execution_count": null,
      "outputs": []
    },
    {
      "cell_type": "code",
      "source": [
        "print(una_lista([[1, 2], [3, 4]]))\n",
        "print(una_lista([[\"a\", \"b\"], [\"c\", \"d\"]]))\n",
        "print(una_lista([[True, False], [False, False]]))"
      ],
      "metadata": {
        "id": "I4ABUIRnfUGv",
        "colab": {
          "base_uri": "https://localhost:8080/"
        },
        "outputId": "6a1ac87f-785a-4cd8-f8ed-bee77030dbd9"
      },
      "execution_count": null,
      "outputs": [
        {
          "output_type": "stream",
          "name": "stdout",
          "text": [
            "[1, 2, 3, 4]\n",
            "['a', 'b', 'c', 'd']\n",
            "[True, False, False, False]\n"
          ]
        }
      ]
    },
    {
      "cell_type": "markdown",
      "source": [
        "## Reto 299: Devolver los números más altos y más bajos\n",
        "* Return the Highest and Lowest Numbers\n",
        "* Cree una función que acepte una cadena de números enteros separados por espacios y devuelva los números enteros más altos y más bajos (como una cadena).\n",
        "Ejemplos:\n",
        "    1. high_low(\"1 2 3 4 5\") ➞ \"5 1\"\n",
        "    2. high_low(\"1 2 -3 4 5\") ➞ \"5 -3\"\n",
        "    3. high_low(\"1 9 3 4 -5\") ➞ \"9 -5\"\n",
        "    4. high_low(\"13\") ➞ \"13 13\"\n",
        "    5. high_low(\"3 2 15 111\") ➞ \"111 2\"\n",
        "\n",
        "* Todos los números enteros son válidos, no es necesario validarlos.\n",
        "* Siempre habrá al menos un número entero en la cadena de entrada.\n",
        "* La cadena de salida debe constar de dos números enteros separados por un solo espacio y el número más alto es el primero."
      ],
      "metadata": {
        "id": "KGrVRtcJfUNX"
      }
    },
    {
      "cell_type": "code",
      "source": [
        "# Método 1\n",
        "def mayor_menor(cadena):\n",
        "    numeros = [int(num) for num in cadena.split()]\n",
        "    return f\"{max(numeros)} {min(numeros)}\"\n",
        "\n",
        "# Método 2\n",
        "def mayor_menor(cadena):\n",
        "    numeros = list(map(int, cadena.split()))\n",
        "    return f\"{max(numeros)} {min(numeros)}\"\n",
        "\n",
        "# Método 3\n",
        "def mayor_menor(cadena):\n",
        "    numeros = list(map(int, cadena.split()))\n",
        "    sorted_nums = sorted(numeros)\n",
        "    return f\"{sorted_nums[-1]} {sorted_nums[0]}\"\n",
        "\n",
        "# Método 4\n",
        "def mayor_menor(cadena):\n",
        "    numeros = list(map(int, cadena.split()))\n",
        "    high = low = numeros[0]\n",
        "    for num in numeros[1:]:\n",
        "        high = num if num > high else high\n",
        "        low = num if num < low else low\n",
        "    return f\"{high} {low}\""
      ],
      "metadata": {
        "id": "jFUOqJ03fUNX"
      },
      "execution_count": null,
      "outputs": []
    },
    {
      "cell_type": "code",
      "source": [
        "print(mayor_menor(\"1 2 3 4 5\"))\n",
        "print(mayor_menor(\"1 2 -3 4 5\"))\n",
        "print(mayor_menor(\"1 9 3 4 -5\"))\n",
        "print(mayor_menor(\"13\"))\n",
        "print(mayor_menor(\"3 2 15 111\"))"
      ],
      "metadata": {
        "id": "NJVBAetsfUNX",
        "colab": {
          "base_uri": "https://localhost:8080/"
        },
        "outputId": "e38bae52-8be5-44c7-edee-4dbeafd1f016"
      },
      "execution_count": null,
      "outputs": [
        {
          "output_type": "stream",
          "name": "stdout",
          "text": [
            "5 1\n",
            "5 -3\n",
            "9 -5\n",
            "13 13\n",
            "111 2\n"
          ]
        }
      ]
    },
    {
      "cell_type": "markdown",
      "source": [
        "## Reto 300: Calcular la Diferencia para Reclarar un Seguro\n",
        "* Burglary Series (10): Calculate Difference\n",
        "* Estás lidiando con las consecuencias de un robo reciente y cuentas con cobertura de seguro para ayudar a recuperar tus pérdidas.\n",
        "* Sin embargo, hay un detalle: tu póliza de seguro tiene un límite máximo predefinido para la cobertura.\n",
        "* En consecuencia, necesitas calcular la diferencia entre el valor total de los artículos robados y el límite de cobertura del seguro.\n",
        "* Tu tarea es crear una función llamada `calcular_diferencia` que tome un diccionario que representa los artículos robados y el límite de cobertura del seguro, y devuelva la diferencia entre el valor total de los artículos robados y el límite de cobertura de la póliza.\n",
        "* Ejemplos:\n",
        "    1. calcular_diferencia({ \"laptop\": 1200 }, 500) ➞ 700\n",
        "    2. calcular_diferencia({\"reloj\": 300, \"joyas\": 800 }, 1000) ➞ 100\n",
        "    3. calcular_diferencia({\"cámara\": 500, \"bicicleta\": 750, \"guitarra\": 300 }, 1200) ➞ 350"
      ],
      "metadata": {
        "id": "cK832-05fUYq"
      }
    },
    {
      "cell_type": "code",
      "source": [
        "# Método 1\n",
        "def calcular_diferencia(diccionario, limite):\n",
        "    valor_total = sum(diccionario.values())\n",
        "    return valor_total - limite\n",
        "\n",
        "# Método 2\n",
        "def calcular_diferencia(diccionario, limite):\n",
        "    valor_total = sum(valor for clave, valor in diccionario.items())\n",
        "    return valor_total - limite"
      ],
      "metadata": {
        "id": "zr7Nr2pFfUYr"
      },
      "execution_count": null,
      "outputs": []
    },
    {
      "cell_type": "code",
      "source": [
        "print(calcular_diferencia({ \"laptop\": 1200 }, 500))\n",
        "print(calcular_diferencia({\"reloj\": 300, \"joyas\": 800 }, 1000) )\n",
        "print(calcular_diferencia({\"cámara\": 500, \"bicicleta\": 750, \"guitarra\": 300 }, 1200))"
      ],
      "metadata": {
        "id": "-9aAL8_CfUYr",
        "colab": {
          "base_uri": "https://localhost:8080/"
        },
        "outputId": "0c541a55-65e8-4a02-9b9a-f069b7a3c6e4"
      },
      "execution_count": null,
      "outputs": [
        {
          "output_type": "stream",
          "name": "stdout",
          "text": [
            "700\n",
            "100\n",
            "350\n"
          ]
        }
      ]
    }
  ]
}
