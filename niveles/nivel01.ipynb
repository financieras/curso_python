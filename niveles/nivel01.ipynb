{
  "nbformat": 4,
  "nbformat_minor": 0,
  "metadata": {
    "colab": {
      "provenance": [],
      "authorship_tag": "ABX9TyN4GLZ47DXq4jWi36kMjAPv",
      "include_colab_link": true
    },
    "kernelspec": {
      "name": "python3",
      "display_name": "Python 3"
    },
    "language_info": {
      "name": "python"
    }
  },
  "cells": [
    {
      "cell_type": "markdown",
      "metadata": {
        "id": "view-in-github",
        "colab_type": "text"
      },
      "source": [
        "<a href=\"https://colab.research.google.com/github/financieras/curso_python/blog /main/niveles/nivel01.ipynb\" target=\"_parent\"><img src=\"https://colab.research.google.com/assets/colab-badge.svg\" alt=\"Open In Colab\"/></a>"
      ]
    },
    {
      "cell_type": "markdown",
      "source": [
        "## Reto 1: Retornar la suma de dos números\n",
        "* Cree una función que tome dos números como argumentos y devuelva su suma.\n",
        "* Ejemplos:\n",
        "    1. sumar(3, 2) ➞ 5\n",
        "    2. sumar(-3, -6) ➞ -9\n",
        "    3. sumar(7, 3) ➞ 10"
      ],
      "metadata": {
        "id": "c1sQ-fIGDDs5"
      }
    },
    {
      "cell_type": "code",
      "source": [
        "def sumar(a, b):\n",
        "    return a + b\n",
        "\n",
        "def sumar(num1, num2):\n",
        "    total = num1 + num2\n",
        "    return total\n",
        "\n",
        "def sumar(a, b):\n",
        "    return sum((a, b))  # suma de una tupla\n",
        "                        # también podría ser la suma de una lista"
      ],
      "metadata": {
        "id": "PEhcTw9T0Fk8"
      },
      "execution_count": null,
      "outputs": []
    },
    {
      "cell_type": "code",
      "source": [
        "print(sumar(3, 2))\n",
        "print(sumar(-3, -6))\n",
        "print(sumar(7, 3))"
      ],
      "metadata": {
        "id": "GM1b90Me0f8d",
        "outputId": "344e938a-3e11-4b9f-b8de-298ae0f047f1",
        "colab": {
          "base_uri": "https://localhost:8080/"
        }
      },
      "execution_count": null,
      "outputs": [
        {
          "output_type": "stream",
          "name": "stdout",
          "text": [
            "5\n",
            "-9\n",
            "10\n"
          ]
        }
      ]
    },
    {
      "cell_type": "markdown",
      "source": [
        "## Reto 2: Convertir minutos a segundos\n",
        "* Escriba una función que tome un número entero de `minutos` y los convierta a segundos.\n",
        "* Ejemplos:\n",
        "    1. minutos_a_segundos(5) ➞ 300\n",
        "    2. minutos_a_segundos(3) ➞ 180\n",
        "    3. minutos_a_segundos(2) ➞ 120"
      ],
      "metadata": {
        "id": "hOLv-TIRDf6j"
      }
    },
    {
      "cell_type": "code",
      "source": [
        "def minutos_a_segundos(minutos):\n",
        "    return minutos * 60"
      ],
      "metadata": {
        "id": "tSrj_Q-w1KUA"
      },
      "execution_count": null,
      "outputs": []
    },
    {
      "cell_type": "code",
      "source": [
        "print(minutos_a_segundos(5))\n",
        "print(minutos_a_segundos(3))\n",
        "print(minutos_a_segundos(2))"
      ],
      "metadata": {
        "id": "vVxRFC8l1WhP",
        "outputId": "d6f47c44-5464-423d-8b61-99dba67bbbf9",
        "colab": {
          "base_uri": "https://localhost:8080/"
        }
      },
      "execution_count": null,
      "outputs": [
        {
          "output_type": "stream",
          "name": "stdout",
          "text": [
            "300\n",
            "180\n",
            "120\n"
          ]
        }
      ]
    },
    {
      "cell_type": "markdown",
      "source": [
        "## Reto 3: Retornar el siguiente número entero\n",
        "* Cree una función que tome un número como argumento, incremente el número en +1 y devuelva el resultado.\n",
        "* Ejemplos:\n",
        "    1. suma_uno(0) ➞ 1\n",
        "    2. suma_uno(9) ➞ 10\n",
        "    3. suma_uno(-3) ➞ -2"
      ],
      "metadata": {
        "id": "WTawBnD9EVuF"
      }
    },
    {
      "cell_type": "code",
      "source": [
        "def suma_uno(n):\n",
        "    return n + 1\n",
        "\n",
        "def suma_uno(numero):\n",
        "    numero = numero + 1\n",
        "    return numero\n",
        "\n",
        "def suma_uno(numero):\n",
        "    numero += 1\n",
        "    return numero"
      ],
      "metadata": {
        "id": "xwyrDFA916tx"
      },
      "execution_count": null,
      "outputs": []
    },
    {
      "cell_type": "code",
      "source": [
        "print(suma_uno(0))\n",
        "print(suma_uno(9))\n",
        "print(suma_uno(-3))"
      ],
      "metadata": {
        "id": "H9sdtJIC2FbZ",
        "outputId": "46b94e43-0990-420c-db53-d17d6c584959",
        "colab": {
          "base_uri": "https://localhost:8080/"
        }
      },
      "execution_count": null,
      "outputs": [
        {
          "output_type": "stream",
          "name": "stdout",
          "text": [
            "1\n",
            "10\n",
            "-2\n"
          ]
        }
      ]
    },
    {
      "cell_type": "markdown",
      "source": [
        "## Reto 4: Área de un triángulo\n",
        "* Escriba una función que tome la `base` y la `altura` de un triángulo y devuelva su área.\n",
        "* Ejemplos:\n",
        "    1. area_triangulo(3, 2) ➞ 3\n",
        "    2. area_triangulo(7, 4) ➞ 14\n",
        "    3. area_triangulo(10, 10) ➞ 50"
      ],
      "metadata": {
        "id": "bfTd-0bmFSBp"
      }
    },
    {
      "cell_type": "code",
      "source": [
        "def area_triangulo(base, altura):\n",
        "    return base * altura / 2\n",
        "\n",
        "def area_triangulo(base, altura):\n",
        "    area = base * altura / 2\n",
        "    return area"
      ],
      "metadata": {
        "id": "tqJW0PPN2dWU"
      },
      "execution_count": null,
      "outputs": []
    },
    {
      "cell_type": "code",
      "source": [
        "print(area_triangulo(3, 2))\n",
        "print(area_triangulo(7, 4))\n",
        "print(area_triangulo(10, 10))"
      ],
      "metadata": {
        "id": "B6sRcQRm2krj",
        "outputId": "5f821fee-0cfe-4893-8fa3-6a9419ee4eb0",
        "colab": {
          "base_uri": "https://localhost:8080/"
        }
      },
      "execution_count": null,
      "outputs": [
        {
          "output_type": "stream",
          "name": "stdout",
          "text": [
            "3.0\n",
            "14.0\n",
            "50.0\n"
          ]
        }
      ]
    },
    {
      "cell_type": "markdown",
      "source": [
        "## Reto 5: Retornar el primer elemento de un Array\n",
        "* Cree una función que reciba una lista y devuelva el primer elemento.\n",
        "* Ejemplos:\n",
        "    1. obtener_primer_valor(['a', 'e', 'i', 'o', 'u']) ➞ 'a'\n",
        "    2. obtener_primer_valor([80, 5, 100]) ➞ 80\n",
        "    3. obtener_primer_valor([-500, 0, 50]) ➞ -500"
      ],
      "metadata": {
        "id": "WJ_mA4xsGA-a"
      }
    },
    {
      "cell_type": "code",
      "source": [
        "def obtener_primer_valor(lista):\n",
        "    return lista[0]"
      ],
      "metadata": {
        "id": "G7tazpXX3HsA"
      },
      "execution_count": null,
      "outputs": []
    },
    {
      "cell_type": "code",
      "source": [
        "print(obtener_primer_valor(['a', 'e', 'i', 'o', 'u']))\n",
        "print(obtener_primer_valor([80, 5, 100]))\n",
        "print(obtener_primer_valor([-500, 0, 50]))"
      ],
      "metadata": {
        "id": "jMt9vEwd3cgL",
        "outputId": "008d5927-f836-4c00-c96b-33c55f460634",
        "colab": {
          "base_uri": "https://localhost:8080/"
        }
      },
      "execution_count": null,
      "outputs": [
        {
          "output_type": "stream",
          "name": "stdout",
          "text": [
            "a\n",
            "80\n",
            "-500\n"
          ]
        }
      ]
    },
    {
      "cell_type": "markdown",
      "source": [
        "## Reto 6: Calculadora de potencia eléctrica\n",
        "* Cree una función que tome `voltaje` y la `intensidad` de corriente y devuelva la `potencia` calculada.\n",
        "* Ejemplos:\n",
        "    1. potencia(230, 10) ➞ 2300\n",
        "    2. potencia(110, 3) ➞ 330\n",
        "    3. potencia(480, 20) ➞ 9600"
      ],
      "metadata": {
        "id": "lIodMfnfGeCi"
      }
    },
    {
      "cell_type": "code",
      "source": [
        "def potencia(voltaje, intensidad):\n",
        "    return voltaje * intensidad"
      ],
      "metadata": {
        "id": "hX_FR9B24bvk"
      },
      "execution_count": null,
      "outputs": []
    },
    {
      "cell_type": "code",
      "source": [
        "print(potencia(230, 10))\n",
        "print(potencia(110, 3))\n",
        "print(potencia(480, 20))"
      ],
      "metadata": {
        "id": "6_LVpn764qZX",
        "outputId": "48ce0f4a-b6e2-4028-f777-e51991b6c863",
        "colab": {
          "base_uri": "https://localhost:8080/"
        }
      },
      "execution_count": null,
      "outputs": [
        {
          "output_type": "stream",
          "name": "stdout",
          "text": [
            "2300\n",
            "330\n",
            "9600\n"
          ]
        }
      ]
    },
    {
      "cell_type": "markdown",
      "source": [
        "## Reto 7: Convertir horas a segundos\n",
        "* Escriba una función que convierta `horas` en segundos.\n",
        "* Ejemplos:\n",
        "    1. horas_a_segundos(2) ➞ 7200\n",
        "    2. horas_a_segundos(10) ➞ 36000\n",
        "    3. horas_a_segundos(24) ➞ 86400"
      ],
      "metadata": {
        "id": "Npptws5vGczF"
      }
    },
    {
      "cell_type": "code",
      "source": [
        "def horas_a_segundos(horas):\n",
        "    return horas * 60 * 60"
      ],
      "metadata": {
        "id": "B8nkjQe35PY2"
      },
      "execution_count": null,
      "outputs": []
    },
    {
      "cell_type": "code",
      "source": [
        "print(horas_a_segundos(2))\n",
        "print(horas_a_segundos(10))\n",
        "print(horas_a_segundos(24))"
      ],
      "metadata": {
        "id": "2DVvVhnh5epj",
        "outputId": "8d35f7ca-e51e-4924-f45f-904e837be81b",
        "colab": {
          "base_uri": "https://localhost:8080/"
        }
      },
      "execution_count": null,
      "outputs": [
        {
          "output_type": "stream",
          "name": "stdout",
          "text": [
            "7200\n",
            "36000\n",
            "86400\n"
          ]
        }
      ]
    },
    {
      "cell_type": "markdown",
      "source": [
        "## Reto 8: Retornar el resto\n",
        "* Cree una función que reciba como parámetros el `numerador` y el `denominador` de una división y retorne el resto, también llamado resíduo o módulo.\n",
        "* Ejemplos:\n",
        "    1. mod(24, 5) ➞ 4\n",
        "    2. mod(50, 10) ➞ 0\n",
        "    3. mod(3, 4) ➞ 3"
      ],
      "metadata": {
        "id": "huBmVKl0Gc8j"
      }
    },
    {
      "cell_type": "code",
      "source": [
        "def mod(numerador, denominador):\n",
        "    return numerador % denominador"
      ],
      "metadata": {
        "id": "Rjn3vhLC58v3"
      },
      "execution_count": null,
      "outputs": []
    },
    {
      "cell_type": "code",
      "source": [
        "print(mod(24, 5))\n",
        "print(mod(50, 10))\n",
        "print(mod(3, 4))"
      ],
      "metadata": {
        "id": "DrNewByi6MAg",
        "outputId": "afa64d14-0cdf-4194-c53a-03c0484d9a3a",
        "colab": {
          "base_uri": "https://localhost:8080/"
        }
      },
      "execution_count": null,
      "outputs": [
        {
          "output_type": "stream",
          "name": "stdout",
          "text": [
            "4\n",
            "0\n",
            "3\n"
          ]
        }
      ]
    },
    {
      "cell_type": "markdown",
      "source": [
        "## Reto 9: Retornar un string como integer\n",
        "* Cree una función que tome una cadena y la devuelva como un número entero.\n",
        "* Ejemplos:\n",
        "    1. string_to_int(\"6\") ➞ 6\n",
        "    2. string_to_int(\"1000\") ➞ 1000\n",
        "    3. string_to_int(\"12\") ➞ 12"
      ],
      "metadata": {
        "id": "qVN8HUR1aBF7"
      }
    },
    {
      "cell_type": "code",
      "source": [
        "def string_to_int(txt):\n",
        "    return int(txt)"
      ],
      "metadata": {
        "id": "uY3Tkiy966MO"
      },
      "execution_count": null,
      "outputs": []
    },
    {
      "cell_type": "code",
      "source": [
        "print(string_to_int(\"6\"))\n",
        "print(string_to_int(\"1000\"))\n",
        "print(string_to_int(\"12\"))"
      ],
      "metadata": {
        "id": "dQUdRhzl7Kv3",
        "outputId": "a93c458a-f276-451b-9963-700c68aac8d9",
        "colab": {
          "base_uri": "https://localhost:8080/"
        }
      },
      "execution_count": null,
      "outputs": [
        {
          "output_type": "stream",
          "name": "stdout",
          "text": [
            "6\n",
            "1000\n",
            "12\n"
          ]
        }
      ]
    },
    {
      "cell_type": "markdown",
      "source": [
        "## Reto 10: Encontrar el perímetro de un rectángulo\n",
        "* Cree una función que tome el `largo` y el `ancho` de un rectángulo y retorne su perímetro.\n",
        "* Ejemplos:\n",
        "    1. perimetro(6, 7) ➞ 26\n",
        "    2. perimetro(20, 10) ➞ 60\n",
        "    3. perimetro(2, 9) ➞ 22"
      ],
      "metadata": {
        "id": "SGsmTdRwGdET"
      }
    },
    {
      "cell_type": "code",
      "source": [
        "def perimetro(largo, ancho):\n",
        "    return 2 * (largo + ancho)"
      ],
      "metadata": {
        "id": "J4fL8cw07txS"
      },
      "execution_count": null,
      "outputs": []
    },
    {
      "cell_type": "code",
      "source": [
        "print(perimetro(6, 7))\n",
        "print(perimetro(20, 10))\n",
        "print(perimetro(2, 9))"
      ],
      "metadata": {
        "id": "LdDpQX5r735d",
        "outputId": "a93d990c-c70b-4014-c6ec-8c022e3981d4",
        "colab": {
          "base_uri": "https://localhost:8080/"
        }
      },
      "execution_count": null,
      "outputs": [
        {
          "output_type": "stream",
          "name": "stdout",
          "text": [
            "26\n",
            "60\n",
            "22\n"
          ]
        }
      ]
    },
    {
      "cell_type": "markdown",
      "source": [
        "## Reto 11: Es mío\n",
        "* Escriba una función que devuelva la cadena \"Mi\" unida con un espacio \" \" y el argumento dado.\n",
        "* Ejemplos:\n",
        "    1. algo_mio(\"coche\") ➞ \"Mi coche\"\n",
        "    2. algo_mio(\"verano mágico\") ➞ \"Mi verano mágico\"\n",
        "    3. algo_mio(\"camino\") ➞ \"Mi camino\""
      ],
      "metadata": {
        "id": "h_tb0PLbGdLr"
      }
    },
    {
      "cell_type": "code",
      "source": [
        "def algo_mio(txt):\n",
        "    return \"Mi \" + txt\n",
        "\n",
        "def algo_mio(palabra):\n",
        "    return f\"Mi {palabra}\""
      ],
      "metadata": {
        "id": "N18SC3PT9Itm"
      },
      "execution_count": null,
      "outputs": []
    },
    {
      "cell_type": "code",
      "source": [
        "print(algo_mio(\"coche\"))\n",
        "print(algo_mio(\"verano mágico\"))\n",
        "print(algo_mio(\"camino\"))"
      ],
      "metadata": {
        "id": "mCm8_tgZ9bsR",
        "outputId": "900969da-fdfc-448f-a80e-7605987d099c",
        "colab": {
          "base_uri": "https://localhost:8080/"
        }
      },
      "execution_count": null,
      "outputs": [
        {
          "output_type": "stream",
          "name": "stdout",
          "text": [
            "Mi coche\n",
            "Mi verano mágico\n",
            "Mi camino\n"
          ]
        }
      ]
    },
    {
      "cell_type": "markdown",
      "source": [
        "## Reto 12: ¿Es un número negativo?\n",
        "* Cree una función que tome un número como único argumento y devuelva `True` si es menor o igual a cero; de lo contrario, devuelva `False`.\n",
        "* Ejemplos:\n",
        "    1. menor_o_igual_a_cero(5) ➞ False\n",
        "    1. menor_o_igual_a_cero(0) ➞ True\n",
        "    1. menor_o_igual_a_cero(-2) ➞ True"
      ],
      "metadata": {
        "id": "rmZs31j9GdRp"
      }
    },
    {
      "cell_type": "code",
      "source": [
        "def menor_o_igual_a_cero(numero):\n",
        "    if numero <= 0:\n",
        "        return True\n",
        "    else:\n",
        "        return False\n",
        "\n",
        "def menor_o_igual_a_cero(num):\n",
        "    return num <= 0"
      ],
      "metadata": {
        "id": "Y3ZM0K8prKCw"
      },
      "execution_count": null,
      "outputs": []
    },
    {
      "cell_type": "code",
      "source": [
        "print(menor_o_igual_a_cero(5))\n",
        "print(menor_o_igual_a_cero(0))\n",
        "print(menor_o_igual_a_cero(-2))"
      ],
      "metadata": {
        "id": "jUCTj3cRrZWt",
        "outputId": "6797ca41-a05b-4c6f-e68c-ead4f2f871df",
        "colab": {
          "base_uri": "https://localhost:8080/"
        }
      },
      "execution_count": null,
      "outputs": [
        {
          "output_type": "stream",
          "name": "stdout",
          "text": [
            "False\n",
            "True\n",
            "True\n"
          ]
        }
      ]
    },
    {
      "cell_type": "markdown",
      "source": [
        "## Reto 13: Saludar con nombre\n",
        "* Cree una función que tome un nombre y devuelva un saludo en forma de cadena.\n",
        "* Ejemplos:\n",
        "    1. saludar(\"Gerardo\") ➞ \"Hola Gerardo!\"\n",
        "    2. saludar(\"Teresa\") ➞ \"Hola Teresa!\"\n",
        "    3. saludar(\"Edu\") ➞ \"Hola Edu!\"\n",
        "* ¡No olvide el signo de exclamación!"
      ],
      "metadata": {
        "id": "s46QzxEwsteU"
      }
    },
    {
      "cell_type": "code",
      "source": [
        "def saludar(nombre):\n",
        "    return f\"Hola {nombre}!\"\n",
        "\n",
        "def saludar(nombre):\n",
        "    return \"Hola \" + nombre + \"!\""
      ],
      "metadata": {
        "id": "s96zufV5sor7"
      },
      "execution_count": null,
      "outputs": []
    },
    {
      "cell_type": "code",
      "source": [
        "print(saludar(\"Gerardo\"))\n",
        "print(saludar(\"Teresa\"))\n",
        "print(saludar(\"Edu\"))"
      ],
      "metadata": {
        "id": "3BLYdj99s2xL",
        "outputId": "d16e1611-bb5d-4c8a-cbb2-edd9824a5782",
        "colab": {
          "base_uri": "https://localhost:8080/"
        }
      },
      "execution_count": null,
      "outputs": [
        {
          "output_type": "stream",
          "name": "stdout",
          "text": [
            "Hola Gerardo!\n",
            "Hola Teresa!\n",
            "Hola Edu!\n"
          ]
        }
      ]
    },
    {
      "cell_type": "markdown",
      "source": [
        "## Reto 14: Saludo especial\n",
        "* Yvonne ha escrito una función que devuelve un saludo a sus amigos.\n",
        "* Pero tiene un amigo especial, Ares, al que quiere saludar de una forma diferente.\n",
        "* Añadió un caso especial en su función, pero cometió un error.\n",
        "* ¿Puedes intentar solucionar el error para que la función trabaje correctamente?\n",
        "* Ejemplos:\n",
        "    1. greeting(\"Matt\") ➞ \"Hello, Matt!\"\n",
        "    2. greeting(\"Helen\") ➞ \"Hello, Helen!\"\n",
        "    3. greeting(\"Ares\") ➞ \"Hello, my Love!\"\n",
        "\n",
        "\n",
        "* Esta es la función que da problemas:\n",
        "\n",
        "```python\n",
        "def greeting(name):\n",
        "\treturn \"Hello, \" + name + \"!\"\n",
        "\tif name == \"Ares\":\n",
        "\t\treturn \"Hello, my Love!\"\n",
        "```"
      ],
      "metadata": {
        "id": "1pzgsdSjomf9"
      }
    },
    {
      "cell_type": "code",
      "source": [
        "def greeting(name):\n",
        "    if name == \"Ares\":\n",
        "        return \"Hello, my Love!\"\n",
        "    else:\n",
        "        return \"Hello, \" + name + \"!\"\n",
        "\n",
        "def greeting(name):\n",
        "    if name == \"Ares\":\n",
        "        return \"Hello, my Love!\"\n",
        "    return \"Hello, \" + name + \"!\"\n",
        "\n",
        "def greeting(name):\n",
        "    if name == \"Ares\":\n",
        "        return \"Hello, my Love!\"\n",
        "    return f\"Hello, {name}!\""
      ],
      "metadata": {
        "id": "M0OO25UpuNLX"
      },
      "execution_count": null,
      "outputs": []
    },
    {
      "cell_type": "code",
      "source": [
        "print(greeting(\"Matt\"))\n",
        "print(greeting(\"Helen\"))\n",
        "print(greeting(\"Ares\"))"
      ],
      "metadata": {
        "id": "GLMwmJaUucpy",
        "outputId": "72034ca5-c7e4-4d13-c9cd-791cef65fd55",
        "colab": {
          "base_uri": "https://localhost:8080/"
        }
      },
      "execution_count": null,
      "outputs": [
        {
          "output_type": "stream",
          "name": "stdout",
          "text": [
            "Hello, Matt!\n",
            "Hello, Helen!\n",
            "Hello, my Love!\n"
          ]
        }
      ]
    },
    {
      "cell_type": "markdown",
      "source": [
        "## Reto 15: Sumar los ángulos de un polígono\n",
        "* Dado un polígono regular de `n` lados, devuelve la suma total de los ángulos internos (en grados).\n",
        "* Ejemplos:\n",
        "    1. grados_poligono(3) ➞ 180\n",
        "    2. grados_poligono(4) ➞ 360\n",
        "    3. grados_poligono(6) ➞ 720\n",
        "* `n` siempre será mayor que 2\n",
        "* La fórmula `(n - 2) × 180` da la suma de los ángulos de un polígono de `n` lados."
      ],
      "metadata": {
        "id": "5A-5eV-vGdWk"
      }
    },
    {
      "cell_type": "code",
      "source": [
        "def grados_poligono(n):\n",
        "    return (n - 2) * 180"
      ],
      "metadata": {
        "id": "P6QM8aedvYW2"
      },
      "execution_count": null,
      "outputs": []
    },
    {
      "cell_type": "code",
      "source": [
        "print(grados_poligono(3))\n",
        "print(grados_poligono(4))\n",
        "print(grados_poligono(6))"
      ],
      "metadata": {
        "id": "jB0uLJSTvlMO",
        "outputId": "58d50ac3-d153-4603-cb27-b3814139b9de",
        "colab": {
          "base_uri": "https://localhost:8080/"
        }
      },
      "execution_count": null,
      "outputs": [
        {
          "output_type": "stream",
          "name": "stdout",
          "text": [
            "180\n",
            "360\n",
            "720\n"
          ]
        }
      ]
    },
    {
      "cell_type": "markdown",
      "source": [
        "## Reto 16: Calculando potencias\n",
        "* Cree una función que tome un número `base` y un número `exponente` y devuelva el cálculo.\n",
        "* Ejemplos:\n",
        "    1. calcular_potencias(5, 3) ➞ 125\n",
        "    2. calcular_potencias(10, 4) ➞ 10000\n",
        "    3. calcular_potencias(3, 3) ➞ 27"
      ],
      "metadata": {
        "id": "dQhx7Ytkbhd1"
      }
    },
    {
      "cell_type": "code",
      "source": [
        "def calcular_potencias(base, exponente):\n",
        "    return base ** exponente\n",
        "\n",
        "from math import pow\n",
        "\n",
        "def calcular_potencias(base, exponente):\n",
        "    return pow(base, exponente)"
      ],
      "metadata": {
        "id": "8QDW4YJuwCdA"
      },
      "execution_count": null,
      "outputs": []
    },
    {
      "cell_type": "code",
      "source": [
        "print(calcular_potencias(5, 3))\n",
        "print(calcular_potencias(10, 4))\n",
        "print(calcular_potencias(3, 3))"
      ],
      "metadata": {
        "id": "m-LZjcMywNzD",
        "outputId": "becc6893-8805-47eb-ba72-df38de9da5e0",
        "colab": {
          "base_uri": "https://localhost:8080/"
        }
      },
      "execution_count": null,
      "outputs": [
        {
          "output_type": "stream",
          "name": "stdout",
          "text": [
            "125\n",
            "10000\n",
            "27\n"
          ]
        }
      ]
    },
    {
      "cell_type": "markdown",
      "source": [
        "## Reto 17: Conversión de Booleano a String\n",
        "* Cree una función que tome una bandera booleana y la devuelva como una cadena.\n",
        "* Ejemplos:\n",
        "    1. bool_to_string(True) ➞ \"True\"\n",
        "    2. bool_to_string(False) ➞ \"False\"\n",
        "* La función puede comenzar así:\n",
        "\n",
        "```python\n",
        "def bool_to_string(flag):\n",
        "```"
      ],
      "metadata": {
        "id": "znXBQ4UOcUp_"
      }
    },
    {
      "cell_type": "code",
      "source": [
        "# Método 1\n",
        "def bool_to_string(flag):\n",
        "    if flag:\n",
        "        return \"True\"\n",
        "    else:\n",
        "        return \"False\"\n",
        "\n",
        "# Método 2. Operador ternario\n",
        "def bool_to_string(flag):\n",
        "    return \"True\" if flag else \"False\"\n",
        "\n",
        "# Método 3\n",
        "def bool_to_string(flag):\n",
        "    return str(flag)"
      ],
      "metadata": {
        "id": "_ZKKsHUZwmt-"
      },
      "execution_count": null,
      "outputs": []
    },
    {
      "cell_type": "code",
      "source": [
        "print(bool_to_string(True))\n",
        "print(bool_to_string(False))"
      ],
      "metadata": {
        "id": "_YYKy9x8wu8k",
        "outputId": "837198d1-1258-4ada-8790-9edc18b3587f",
        "colab": {
          "base_uri": "https://localhost:8080/"
        }
      },
      "execution_count": null,
      "outputs": [
        {
          "output_type": "stream",
          "name": "stdout",
          "text": [
            "True\n",
            "False\n"
          ]
        }
      ]
    },
    {
      "cell_type": "markdown",
      "source": [
        "## Reto 18: Puntos de baloncesto\n",
        "* Estamos contando puntos para un partido de baloncesto, dada la cantidad de tiros de dos puntos y tiros de tres puntos anotados.\n",
        "* Encuentra los puntos finales para el equipo y devuelve ese valor.\n",
        "* Ejemplos:\n",
        "    1. puntos(1, 1) ➞ 5\n",
        "    2. puntos(7, 5) ➞ 29\n",
        "    3. puntos(38, 8) ➞ 100\n",
        "* El primer parámetro de la función hace referencia a los `tiros_de_dos`.\n",
        "* El segundo parámetro de la función hace referencia a los `tiros_de_tres`."
      ],
      "metadata": {
        "id": "6kkb_cIDSuql"
      }
    },
    {
      "cell_type": "code",
      "source": [
        "def puntos(tiros_de_dos, tiros_de_tres):\n",
        "    return (2 * tiros_de_dos) + (3 * tiros_de_tres)"
      ],
      "metadata": {
        "id": "v-WIWHneqwIW"
      },
      "execution_count": null,
      "outputs": []
    },
    {
      "cell_type": "code",
      "source": [
        "print(puntos(1, 1))\n",
        "print(puntos(7, 5))\n",
        "print(puntos(38, 8))"
      ],
      "metadata": {
        "colab": {
          "base_uri": "https://localhost:8080/"
        },
        "id": "FjFNXeRCrDJf",
        "outputId": "6732a992-cd18-4221-9a83-e267fe70d003"
      },
      "execution_count": null,
      "outputs": [
        {
          "output_type": "stream",
          "name": "stdout",
          "text": [
            "5\n",
            "29\n",
            "100\n"
          ]
        }
      ]
    },
    {
      "cell_type": "markdown",
      "source": [
        "## Reto 19: ¿Menos de cien?\n",
        "* Dados dos números, devuelva `True` si la suma de ambos números es menor que 100, de lo contrario, devuelve `False`.\n",
        "* Ejemplos:\n",
        "    1. menor_que_cien(22, 15) ➞ True\n",
        "    2. menor_que_cien(93, 34) ➞ False\n",
        "    3. menor_que_cien(3, 17) ➞ True\n",
        "    4. menor_que_cien(25, 75) ➞ False"
      ],
      "metadata": {
        "id": "wkinIHpfSybR"
      }
    },
    {
      "cell_type": "code",
      "source": [
        "def menor_que_cien(num1, num2):\n",
        "    return (num1 + num2) < 100\n",
        "\n",
        "def menor_que_cien(num1, num2):\n",
        "    total = num1 + num2\n",
        "    if total < 100:\n",
        "        return True\n",
        "    else:\n",
        "        return False"
      ],
      "metadata": {
        "id": "vxTk5R-ksf9M"
      },
      "execution_count": null,
      "outputs": []
    },
    {
      "cell_type": "code",
      "source": [
        "print(menor_que_cien(22, 15))\n",
        "print(menor_que_cien(93, 34))\n",
        "print(menor_que_cien(3, 17))\n",
        "print(menor_que_cien(25, 75))"
      ],
      "metadata": {
        "colab": {
          "base_uri": "https://localhost:8080/"
        },
        "id": "yYE47asFtFXs",
        "outputId": "5add1abb-0a5e-420a-c5ab-88c06d51e2e4"
      },
      "execution_count": null,
      "outputs": [
        {
          "output_type": "stream",
          "name": "stdout",
          "text": [
            "True\n",
            "False\n",
            "True\n",
            "False\n"
          ]
        }
      ]
    },
    {
      "cell_type": "markdown",
      "source": [
        "## Reto 20: Máximo de una lista\n",
        "* Crea una función que tome una lista de números enteros no negativos.\n",
        "* Retornar el número más grande de la lista.\n",
        "* Ejemplos:\n",
        "    1. maximo([4, 5, 1, 3]) ➞ 5\n",
        "    2. maximo([300, 200, 600, 150]) ➞ 600\n",
        "    3. maximo([1000, 1001, 857, 0]) ➞ 1001"
      ],
      "metadata": {
        "id": "xgBq9J3vw8X2"
      }
    },
    {
      "cell_type": "code",
      "source": [
        "# Método 1. Usando max\n",
        "\n",
        "def maximo(lista):\n",
        "    return max(lista)\n",
        "\n",
        "# Método 2. Sin usar max\n",
        "\n",
        "def maximo(lista):\n",
        "    maximo = lista[0] # Inicializamos el máximo con el primer número de la lista\n",
        "    for num in lista:\n",
        "        if num > maximo:\n",
        "            maximo = num\n",
        "    return maximo\n",
        "\n",
        "# Método 3. Ordenando la lista\n",
        "\n",
        "def maximo(lista):\n",
        "    return sorted(lista)[-1]\n",
        "\n",
        "# Método 4. Usando reduce\n",
        "\n",
        "from functools import reduce\n",
        "\n",
        "def maximo(lista):\n",
        "    return reduce(lambda x, y: x if x > y else y, lista)\n",
        "\n",
        "# Método 5. Usando la librería numpy\n",
        "\n",
        "import numpy as np\n",
        "\n",
        "def maximo(lista):\n",
        "    return np.amax(lista)"
      ],
      "metadata": {
        "id": "tqAYksnkuZxA"
      },
      "execution_count": null,
      "outputs": []
    },
    {
      "cell_type": "code",
      "source": [
        "print(maximo([4, 5, 1, 3]))\n",
        "print(maximo([300, 200, 600, 150]))\n",
        "print(maximo([1000, 1001, 857, 0]))"
      ],
      "metadata": {
        "colab": {
          "base_uri": "https://localhost:8080/"
        },
        "id": "2qNLn_1ouoGO",
        "outputId": "ae469e74-bbbd-4b15-df07-5608d7105c44"
      },
      "execution_count": null,
      "outputs": [
        {
          "output_type": "stream",
          "name": "stdout",
          "text": [
            "5\n",
            "600\n",
            "1001\n"
          ]
        }
      ]
    },
    {
      "cell_type": "markdown",
      "source": [
        "## Reto 21: Mínimo de una lista\n",
        "* Cree una función que tome una lista de números y devuelva el número más pequeño de la lista.\n",
        "* Los números pueden contener decimales y ser negativos.\n",
        "* Ejemplos:\n",
        "    1. minimo([34, 15, 88, 2]) ➞ 2\n",
        "    2. minimo([34, -345, -1, 100]) ➞ -345\n",
        "    3. minimo([-76, 1.345, 1, 0]) ➞ -76\n",
        "    4. minimo([0.4356, 0.8795, 0.5435, -0.9999]) ➞ -0.9999\n",
        "    5. minimo([7, 7, 7]) ➞ 7"
      ],
      "metadata": {
        "id": "kttACsV1x3q6"
      }
    },
    {
      "cell_type": "code",
      "source": [
        "# Método 1\n",
        "\n",
        "def minimo(lista):\n",
        "    return min(lista)\n",
        "\n",
        "# Método 2. Usando  el concepto de infinito\n",
        "def minimo(lista):\n",
        "    menor = float('inf')  # Inicializamos la variable 'menor' con infinito\n",
        "    for numero in lista:\n",
        "        if numero < menor:  # Si encontramos un número más pequeño\n",
        "            menor = numero  # actualizamos 'menor'\n",
        "    return menor"
      ],
      "metadata": {
        "id": "qruxYiOIvWFE"
      },
      "execution_count": null,
      "outputs": []
    },
    {
      "cell_type": "code",
      "source": [
        "print(minimo([34, 15, 88, 2]))\n",
        "print(minimo([34, -345, -1, 100]))\n",
        "print(minimo([-76, 1.345, 1, 0]))\n",
        "print(minimo([0.4356, 0.8795, 0.5435, -0.9999]))\n",
        "print(minimo([7, 7, 7]))"
      ],
      "metadata": {
        "colab": {
          "base_uri": "https://localhost:8080/"
        },
        "id": "y-vDS-WTvhcG",
        "outputId": "8798d0c3-84aa-45c1-c573-a142c00edcf0"
      },
      "execution_count": null,
      "outputs": [
        {
          "output_type": "stream",
          "name": "stdout",
          "text": [
            "2\n",
            "-345\n",
            "-76\n",
            "-0.9999\n",
            "7\n"
          ]
        }
      ]
    },
    {
      "cell_type": "markdown",
      "source": [
        "## Reto 22: Diferencia entre el Max y el Min de una lista\n",
        "* Diferencia de números máximos y mínimos en la lista.\n",
        "* Ejemplos:\n",
        "    1. dif([10, 4, 1, 4, -50, 32, 21]) ➞ 82\n",
        "    2. dif([44, 32, 86, 19]) ➞ 67"
      ],
      "metadata": {
        "id": "jdFINvlIpjy_"
      }
    },
    {
      "cell_type": "code",
      "source": [
        "def dif(lista):\n",
        "    return max(lista) - min(lista)\n",
        "\n",
        "def dif(lista):\n",
        "    # Ordenamos la lista de forma ascendente\n",
        "    lista_ordenada = sorted(lista)\n",
        "    # Calculamos la diferencia entre el último y el primer elemento\n",
        "    diferencia = lista_ordenada[-1] - lista_ordenada[0]\n",
        "    return diferencia\n",
        "\n",
        "def dif(lista):\n",
        "    # Inicializar las variables para el máximo y el mínimo\n",
        "    maximo = float('-inf')  # menos infinito como punto de partida para el max\n",
        "    minimo = float('inf')   # infinito como punto de partida para el min\n",
        "    # buscamos el máximo y el mínimo\n",
        "    for num in lista:\n",
        "        if num > maximo:\n",
        "            maximo = num\n",
        "        if num < minimo:\n",
        "            minimo = num\n",
        "    return maximo - minimo"
      ],
      "metadata": {
        "id": "xtx05YqpwvCe"
      },
      "execution_count": null,
      "outputs": []
    },
    {
      "cell_type": "code",
      "source": [
        "print(dif([10, 4, 1, 4, -50, 32, 21]))\n",
        "print(dif([44, 32, 86, 19]))"
      ],
      "metadata": {
        "colab": {
          "base_uri": "https://localhost:8080/"
        },
        "id": "p3QV7P-LxAT5",
        "outputId": "93cf068e-b481-41bf-cc12-194c3361085d"
      },
      "execution_count": null,
      "outputs": [
        {
          "output_type": "stream",
          "name": "stdout",
          "text": [
            "82\n",
            "67\n"
          ]
        }
      ]
    },
    {
      "cell_type": "markdown",
      "source": [
        "## Reto 23: Concatenando dos listas de enteros\n",
        "* Cree una función para concatenar dos listas de enteros.\n",
        "* Ejemplos:\n",
        "    1. concat([1, 3, 5], [2, 6, 8]) ➞ [1, 3, 5, 2, 6, 8]\n",
        "    2. concat([7, 8], [10, 9, 1, 1, 2]) ➞ [7, 8, 10, 9, 1, 1, 2]\n",
        "    3. concat([4, 5, 1], [3, 3, 3, 3, 3]) ➞ [4, 5, 1, 3, 3, 3, 3, 3]"
      ],
      "metadata": {
        "id": "YIrcaGQPq1al"
      }
    },
    {
      "cell_type": "code",
      "source": [
        "# Método 1. Concatenando con +\n",
        "def concat(arr1, arr2):\n",
        "    return arr1 + arr2\n",
        "\n",
        "# Método 2. Usando extend\n",
        "def concat(lista1, lista2):\n",
        "    lista1.extend(lista2)\n",
        "    return lista1\n",
        "\n",
        "# Método 3. Usando append para cada elemento que añadir\n",
        "def concat(a, b):\n",
        "    for e in b:\n",
        "        a.append(e)\n",
        "    return a"
      ],
      "metadata": {
        "id": "pHgX6BEV4uCv"
      },
      "execution_count": null,
      "outputs": []
    },
    {
      "cell_type": "code",
      "source": [
        "print(concat([1, 3, 5], [2, 6, 8]))\n",
        "print(concat([7, 8], [10, 9, 1, 1, 2]))\n",
        "print(concat([4, 5, 1], [3, 3, 3, 3, 3]))"
      ],
      "metadata": {
        "colab": {
          "base_uri": "https://localhost:8080/"
        },
        "id": "nT2eUjEh60v4",
        "outputId": "d26d9f61-8b45-48fa-eb4e-5f89eedd9353"
      },
      "execution_count": null,
      "outputs": [
        {
          "output_type": "stream",
          "name": "stdout",
          "text": [
            "[1, 3, 5, 2, 6, 8]\n",
            "[7, 8, 10, 9, 1, 1, 2]\n",
            "[4, 5, 1, 3, 3, 3, 3, 3]\n"
          ]
        }
      ]
    },
    {
      "cell_type": "markdown",
      "source": [
        "## Reto 24: Retornar el último elemento de una lista\n",
        "* Cree una función que reciba una lista y devuelva el último elemento de la lista.\n",
        "* La lista puede contener diferentes tipos de datos.\n",
        "* Si la lista está vacía devolverá `None`\n",
        "* Ejemplos:\n",
        "    1. ultimo([1, 2, 3]) ➞ 3\n",
        "    2. ultimo([\"cat\", \"dog\", \"duck\"]) ➞ \"duck\"\n",
        "    3. ultimo([True, False, True]) ➞ True\n",
        "    4. ultimo([7, \"String\", False, [1, 2, 3]]) ➞ [1, 2, 3]\n",
        "    5. ultimo([]) ➞ None"
      ],
      "metadata": {
        "id": "uoA-bb5ErWmh"
      }
    },
    {
      "cell_type": "code",
      "source": [
        "def ultimo(lst):\n",
        "    return lst[-1] if lst else None     # operador ternario\n",
        "\n",
        "\n",
        "def ultimo(lista):\n",
        "    if lista:  # Verificar si la lista no está vacía\n",
        "        return lista.pop()  # Usar pop() para obtener y eliminar el último elemento de la lista\n",
        "    else:\n",
        "        return None  # Retornar None si la lista está vacía"
      ],
      "metadata": {
        "id": "8giKtUwS7Ze-"
      },
      "execution_count": null,
      "outputs": []
    },
    {
      "cell_type": "code",
      "source": [
        "print(ultimo([1, 2, 3]))\n",
        "print(ultimo([\"cat\", \"dog\", \"duck\"]))\n",
        "print(ultimo([True, False, True]))\n",
        "print(ultimo([7, \"String\", False, [1, 2, 3]]))\n",
        "print(ultimo([]))"
      ],
      "metadata": {
        "colab": {
          "base_uri": "https://localhost:8080/"
        },
        "id": "NY-JOjw47lmc",
        "outputId": "28a772b7-573e-4271-9f5d-ae2740984d94"
      },
      "execution_count": null,
      "outputs": [
        {
          "output_type": "stream",
          "name": "stdout",
          "text": [
            "3\n",
            "duck\n",
            "True\n",
            "[1, 2, 3]\n",
            "None\n"
          ]
        }
      ]
    },
    {
      "cell_type": "markdown",
      "source": [
        "## Reto 25: ¡Jorge creó un bucle infinito!\n",
        "* Ayúdale arreglando el código para que los ejemplos siguientes trabajen correctamente.\n",
        "* Ejemplos:\n",
        "    1. generar_array(1) ➞ [1]\n",
        "    2. generar_array(3) ➞ [1, 2, 3]\n",
        "    3. generar_array(6) ➞ [1, 2, 3, 4, 5, 6]\n",
        "\n",
        "* Este es el código que no funciona bien:\n",
        "\n",
        "```python\n",
        "def generar_array(n):\n",
        "    numeros = []\n",
        "    i = 0\n",
        "    while i <= n:\n",
        "        numeros.append(i)\n",
        "    return numeros\n",
        "```"
      ],
      "metadata": {
        "id": "vto4bc1xSygj"
      }
    },
    {
      "cell_type": "code",
      "source": [
        "# Método 1\n",
        "def generar_array(n):\n",
        "    numeros = []\n",
        "    i = 1       # Comenzar desde 1 para cumplir con el rango solicitado\n",
        "    while i <= n:\n",
        "        numeros.append(i)\n",
        "        i += 1  # Incrementar el valor de 'i' en cada iteración\n",
        "    return numeros\n",
        "\n",
        "# Método 2. Otra forma distinta de resolverlo, sin bucle\n",
        "def generar_array(n):\n",
        "    return list(range(1, n + 1))\n",
        "\n",
        "# Método 3. bucle For\n",
        "def generar_array(n):\n",
        "    numeros = []\n",
        "    for i in range(1, n+1):\n",
        "        numeros.append(i)\n",
        "    return numeros\n",
        "\n",
        "# Método 4. Con list comprehension\n",
        "def generar_array(n):\n",
        "    return [i for i in range(1, n + 1)]"
      ],
      "metadata": {
        "id": "gCj24j0O84wK"
      },
      "execution_count": null,
      "outputs": []
    },
    {
      "cell_type": "code",
      "source": [
        "print(generar_array(1))\n",
        "print(generar_array(3))\n",
        "print(generar_array(6))"
      ],
      "metadata": {
        "colab": {
          "base_uri": "https://localhost:8080/"
        },
        "id": "lYi93nYr8--z",
        "outputId": "85b08847-5bb6-4115-915a-0b10ed6132c0"
      },
      "execution_count": null,
      "outputs": [
        {
          "output_type": "stream",
          "name": "stdout",
          "text": [
            "[1]\n",
            "[1, 2, 3]\n",
            "[1, 2, 3, 4, 5, 6]\n"
          ]
        }
      ]
    },
    {
      "cell_type": "markdown",
      "source": [
        "## Reto 26: ¡Lucía quiere intercambiar dos números!\n",
        "* La función no está devolviendo los valores correctos.\n",
        "* ¿Puedes ayudarla solucionando los bugs?\n",
        "* Los valores retornados correctos deberían ser estos:\n",
        "* Ejemplos:\n",
        "    1. swap(100, 200) ➞ [200, 100]\n",
        "    2. swap(44, 33) ➞ [33, 44]\n",
        "    3. swap(0, -1) ➞ [-1, 0]\n",
        "\n",
        "* Este es el código que no está funcionando correctamente:\n",
        "\n",
        "<pre>\n",
        "del swap(a, b)\n",
        "\tb = a\n",
        "\ta = b\n",
        "\treturn [a, b]\n",
        "</pre>"
      ],
      "metadata": {
        "id": "Q4BQ1xfASykd"
      }
    },
    {
      "cell_type": "code",
      "source": [
        "def swap(a, b):\n",
        "    return [b, a]\n",
        "\n",
        "def swap(a, b):\n",
        "    temp = a  # Almacena el valor original de 'a' en una variable temporal 'temp'\n",
        "    a = b     # Asigna el valor de 'b' a 'a'\n",
        "    b = temp  # Asigna el valor original de 'a' (almacenado en 'temp') a 'b'\n",
        "    return [a, b]\n",
        "\n",
        "def swap(a, b):\n",
        "    a, b = b, a     # permutando a y b en una sola línea\n",
        "    return [a, b]"
      ],
      "metadata": {
        "id": "1d9q0TXK_-zl"
      },
      "execution_count": null,
      "outputs": []
    },
    {
      "cell_type": "code",
      "source": [
        "print(swap(100, 200))\n",
        "print(swap(44, 33))\n",
        "print(swap(0, -1))"
      ],
      "metadata": {
        "colab": {
          "base_uri": "https://localhost:8080/"
        },
        "id": "rsX_8-9kAUiO",
        "outputId": "7e90eb8b-982c-4c61-c00d-60f6233a710b"
      },
      "execution_count": null,
      "outputs": [
        {
          "output_type": "stream",
          "name": "stdout",
          "text": [
            "[200, 100]\n",
            "[33, 44]\n",
            "[-1, 0]\n"
          ]
        }
      ]
    },
    {
      "cell_type": "markdown",
      "source": [
        "## Reto 27: Recuento en la granja\n",
        "* Un granjero te pide que le ayudes a conocer cuántas patas puede contar entre todos sus animales.\n",
        "* El granjero cría tres especies: gallinas, vacas y cerdos.\n",
        "* El orden de los parámetros en la función ha de ser:\n",
        "    - 1º gallinas\n",
        "    - 2º vacas\n",
        "    - 3º cerdos\n",
        "* Recuerde que el granjero quiere saber el número total de patas y no el número total de animales.\n",
        "* Ejemplos:\n",
        "    1. patas(2, 3, 5) ➞ 36\n",
        "    2. patas(1, 2, 3) ➞ 22\n",
        "    3. patas(5, 2, 8) ➞ 50"
      ],
      "metadata": {
        "id": "TWj9zKymSynK"
      }
    },
    {
      "cell_type": "code",
      "source": [
        "def patas(gallinas, vacas, cerdos):\n",
        "    patas_gallinas = gallinas * 2\n",
        "    patas_vacas = vacas * 4\n",
        "    patas_cerdos = cerdos * 4\n",
        "    total_patas = patas_gallinas + patas_vacas + patas_cerdos\n",
        "    return total_patas\n",
        "\n",
        "def patas(gallinas, vacas, cerdos):\n",
        "    return 2 * gallinas + 4 * (vacas + cerdos)"
      ],
      "metadata": {
        "id": "EL_r7O6HBm-G"
      },
      "execution_count": null,
      "outputs": []
    },
    {
      "cell_type": "code",
      "source": [
        "print(patas(2, 3, 5))\n",
        "print(patas(1, 2, 3))\n",
        "print(patas(5, 2, 8))"
      ],
      "metadata": {
        "colab": {
          "base_uri": "https://localhost:8080/"
        },
        "id": "Ou22MunIBy4A",
        "outputId": "67ac8861-7ded-40f4-a72f-261e0d7e58d4"
      },
      "execution_count": null,
      "outputs": [
        {
          "output_type": "stream",
          "name": "stdout",
          "text": [
            "36\n",
            "22\n",
            "50\n"
          ]
        }
      ]
    },
    {
      "cell_type": "markdown",
      "source": [
        "## Reto 28: Operador lógico `and`\n",
        "* El operador `and` toma dos valores booleanos y devuelve `True` si ambos valores son verdaderos.\n",
        "* Devuelve `False` en cualquier otro caso.\n",
        "* Ejemplos:\n",
        "    1. funcion_and(True, True) ➞ True\n",
        "    2. funcion_and(True, False) ➞ False\n",
        "    3. funcion_and(False, True) ➞ False\n",
        "    4. funcion_and(False, False) ➞ False"
      ],
      "metadata": {
        "id": "1wnjDFgHSywE"
      }
    },
    {
      "cell_type": "code",
      "source": [
        "def funcion_and(a, b):\n",
        "    if a == True and b == True:\n",
        "        return True\n",
        "    else:\n",
        "        return False\n",
        "\n",
        "def funcion_and(a, b):\n",
        "    return a and b"
      ],
      "metadata": {
        "id": "oIuvPS8iCkK7"
      },
      "execution_count": null,
      "outputs": []
    },
    {
      "cell_type": "code",
      "source": [
        "print(funcion_and(True, True))\n",
        "print(funcion_and(True, False))\n",
        "print(funcion_and(False, True))\n",
        "print(funcion_and(False, False))"
      ],
      "metadata": {
        "colab": {
          "base_uri": "https://localhost:8080/"
        },
        "id": "Hxm-XceZCu6e",
        "outputId": "e350e5df-8214-4c0f-acbe-e968d37a1869"
      },
      "execution_count": null,
      "outputs": [
        {
          "output_type": "stream",
          "name": "stdout",
          "text": [
            "True\n",
            "False\n",
            "False\n",
            "False\n"
          ]
        }
      ]
    },
    {
      "cell_type": "markdown",
      "source": [
        "## Reto 29: ¿Son iguales los números?\n",
        "* Cree una función que devuelva `True` cuando `num1` sea igual a `num2`.\n",
        "* En caso contrario, devuelve `False`.\n",
        "* Ejemplos:\n",
        "    1. son_iguales(3, 3) ➞ True\n",
        "    2. son_iguales(3, 1+2) ➞ True\n",
        "    3. son_iguales(2, 6/3) ➞ True\n",
        "    4. son_iguales(4, -4) ➞ False\n",
        "    5. son_iguales(1, \"1\") ➞ False"
      ],
      "metadata": {
        "id": "55Q2ecLJSyz4"
      }
    },
    {
      "cell_type": "code",
      "source": [
        "def son_iguales(num1, num2):\n",
        "    return num1 == num2\n",
        "\n",
        "# el operador '=='  es diferente al operador 'is'"
      ],
      "metadata": {
        "id": "SY50U0jmDXZS"
      },
      "execution_count": null,
      "outputs": []
    },
    {
      "cell_type": "code",
      "source": [
        "print(son_iguales(3, 3))\n",
        "print(son_iguales(3, 1+2))\n",
        "print(son_iguales(2, 6/3))\n",
        "print(son_iguales(4, -4))\n",
        "print(son_iguales(1, \"1\"))"
      ],
      "metadata": {
        "colab": {
          "base_uri": "https://localhost:8080/"
        },
        "id": "lcMb2SqPDlkV",
        "outputId": "d56c54d4-f8de-4bdf-c00e-a8ba1bb4762a"
      },
      "execution_count": null,
      "outputs": [
        {
          "output_type": "stream",
          "name": "stdout",
          "text": [
            "True\n",
            "True\n",
            "True\n",
            "False\n",
            "False\n"
          ]
        }
      ]
    },
    {
      "cell_type": "markdown",
      "source": [
        "## Reto 30: Juego de mesa\n",
        "* En cierto juego de mesa cada ronda recibe unos puntos según este criterio:\n",
        "    - Las victorias dan 3 puntos\n",
        "    - Los empates dan 1 punto\n",
        "    - Las derrotas dan 0 puntos\n",
        "* Crear una función que dé los puntos alcanzados según el número de victorias, empates y derrotas obtenidas.\n",
        "* En ocasiones no se da el tercer argumento, las derrotas, ya que no proporcionan puntos.\n",
        "* Ejemplos:\n",
        "     1. puntos_obtenidos(3, 4, 2) ➞ 13\n",
        "     2. puntos_obtenidos(5, 0, 2) ➞ 15\n",
        "     3. puntos_obtenidos(0, 0, 1) ➞ 0\n",
        "     4. puntos_obtenidos(3, 4) ➞ 13\n",
        "\n",
        "* El orden de los parámetros en la función ha de ser:\n",
        "    - 1º victorias\n",
        "    - 2º empates\n",
        "    - 3º derrotas (argumento optativo)\n",
        "* Los argumentos de la función serán siempre números enteros mayores o iguales a 0."
      ],
      "metadata": {
        "id": "ndW_fwNOSy7W"
      }
    },
    {
      "cell_type": "code",
      "source": [
        "def puntos_obtenidos(victorias, empates, derrotas=0):   # valor por defecto = 0\n",
        "    return 3 * victorias + 1 * empates + 0 * derrotas\n",
        "\n",
        "def puntos_obtenidos(victorias, empates, derrotas=None):\n",
        "    if derrotas is None:\n",
        "        derrotas = 0\n",
        "    return victorias * 3 + empates * 1 + derrotas * 0"
      ],
      "metadata": {
        "id": "54MH-RwlFv7_"
      },
      "execution_count": null,
      "outputs": []
    },
    {
      "cell_type": "code",
      "source": [
        "print(puntos_obtenidos(3, 4, 2))\n",
        "print(puntos_obtenidos(5, 0, 2))\n",
        "print(puntos_obtenidos(0, 0, 1))\n",
        "print(puntos_obtenidos(3, 4))"
      ],
      "metadata": {
        "colab": {
          "base_uri": "https://localhost:8080/"
        },
        "id": "P-cvMprOGEXb",
        "outputId": "c227b141-252a-4e21-8a58-19d978292562"
      },
      "execution_count": null,
      "outputs": [
        {
          "output_type": "stream",
          "name": "stdout",
          "text": [
            "13\n",
            "15\n",
            "0\n",
            "13\n"
          ]
        }
      ]
    },
    {
      "cell_type": "markdown",
      "source": [
        "## Reto 31: Convertir horas y minutos en segundos\n",
        "* Escriba una función que tome dos números enteros (`horas`, `minutos`) y devuelva el número de segundos contenidos en ese tiempo.\n",
        "* Ejemplos:\n",
        "    1. convertir_a_segundos(1, 3) ➞ 3780\n",
        "    2. convertir_a_segundos(2, 0) ➞ 7200\n",
        "    3. convertir_a_segundos(0, 0) ➞ 0\n"
      ],
      "metadata": {
        "id": "lZj9FWGlykGc"
      }
    },
    {
      "cell_type": "code",
      "source": [
        "def convertir_a_segundos(horas, minutos):\n",
        "    return horas * 3600 + minutos * 60\n",
        "\n",
        "def convertir_a_segundos(horas, minutos):\n",
        "    return (horas * 60 + minutos) * 60"
      ],
      "metadata": {
        "id": "b6mylZdeG7-8"
      },
      "execution_count": null,
      "outputs": []
    },
    {
      "cell_type": "code",
      "source": [
        "print(convertir_a_segundos(1, 3))\n",
        "print(convertir_a_segundos(2, 0))\n",
        "print(convertir_a_segundos(0, 0))"
      ],
      "metadata": {
        "colab": {
          "base_uri": "https://localhost:8080/"
        },
        "id": "QhoQTqoMHFG3",
        "outputId": "de03491a-cfe0-40a7-c711-9ee3da32b393"
      },
      "execution_count": null,
      "outputs": [
        {
          "output_type": "stream",
          "name": "stdout",
          "text": [
            "3780\n",
            "7200\n",
            "0\n"
          ]
        }
      ]
    },
    {
      "cell_type": "markdown",
      "source": [
        "## Reto 32: Diccionario de colores\n",
        "* Vamos a una escuela infantil y preguntamos a varios niños por los colores que conocen en otros idiomas.\n",
        "* Cada respuesta la anotamos en un **diccionario** de Python.\n",
        "* Crear una función que retorne el número de respuestas contenidas en cada diccionario.\n",
        "* Ejemplos:\n",
        "    1. cantidad_colores({'rojo': 'red', 'azul': 'blue', 'amarillo': 'yellow', 'rosa': 'pink'}) ➞ 4\n",
        "    2. cantidad_colores({'azul': 'blue', 'rojo': 'red', 'negro': 'black'}) ➞ 3\n",
        "    3. cantidad_colores({'blanco': 'bianco', 'negro': 'nero', 'rojo': 'rosso'}) ➞ 3"
      ],
      "metadata": {
        "id": "EcMXJoZge1H6"
      }
    },
    {
      "cell_type": "code",
      "source": [
        "def cantidad_colores(diccionario):\n",
        "    return len(diccionario)\n",
        "\n",
        "def cantidad_colores(diccionario):\n",
        "    count = 0\n",
        "    for key in diccionario:\n",
        "        count += 1\n",
        "    return count\n",
        "\n",
        "def cantidad_colores(diccionario):\n",
        "    return len(diccionario.keys())      # contando las claves\n",
        "\n",
        "def cantidad_colores(diccionario):\n",
        "    return len(diccionario.values())    # contando los valores"
      ],
      "metadata": {
        "id": "CwaHYBJTH_Ii"
      },
      "execution_count": null,
      "outputs": []
    },
    {
      "cell_type": "code",
      "source": [
        "print(cantidad_colores({'rojo': 'red', 'azul': 'blue', 'amarillo': 'yellow', 'rosa': 'pink'}))\n",
        "print(cantidad_colores({'azul': 'blue', 'rojo': 'red', 'negro': 'black'}))\n",
        "print(cantidad_colores({'blanco': 'bianco', 'negro': 'nero', 'rojo': 'rosso'}))"
      ],
      "metadata": {
        "colab": {
          "base_uri": "https://localhost:8080/"
        },
        "id": "LzxlGz8fIOUt",
        "outputId": "a1e0b089-fea9-4a37-a879-50666d95d72e"
      },
      "execution_count": null,
      "outputs": [
        {
          "output_type": "stream",
          "name": "stdout",
          "text": [
            "4\n",
            "3\n",
            "3\n"
          ]
        }
      ]
    },
    {
      "cell_type": "markdown",
      "source": [
        "## Reto 33: De String a Integer y viceversa\n",
        "* Escribe dos funciones:\n",
        "    - `to_int()`: una función para convertir una cadena en un número entero.\n",
        "    - `to_str()`: una función para convertir un número entero en una cadena.\n",
        "    * Ejemplos:\n",
        "        1. to_int(\"77\") ➞ 77\n",
        "        2. to_int(\"532\") ➞ 532\n",
        "        3. to_str(77) ➞ \"77\"\n",
        "        4. to_str(532) ➞ \"532\""
      ],
      "metadata": {
        "id": "BFSsVGkRh54B"
      }
    },
    {
      "cell_type": "code",
      "source": [
        "def to_int(txt):\n",
        "    return int(txt)\n",
        "\n",
        "def to_str(num):\n",
        "    return str(num)"
      ],
      "metadata": {
        "id": "g7tXEQn4KdLt"
      },
      "execution_count": null,
      "outputs": []
    },
    {
      "cell_type": "code",
      "source": [
        "print(to_int(\"77\"))\n",
        "print(to_int(\"532\"))\n",
        "print(to_str(77))\n",
        "to_str(532)"
      ],
      "metadata": {
        "colab": {
          "base_uri": "https://localhost:8080/",
          "height": 87
        },
        "id": "suXZr_InKxML",
        "outputId": "12872afe-c38e-4269-9ead-39292789f8a8"
      },
      "execution_count": null,
      "outputs": [
        {
          "output_type": "stream",
          "name": "stdout",
          "text": [
            "77\n",
            "532\n",
            "77\n"
          ]
        },
        {
          "output_type": "execute_result",
          "data": {
            "text/plain": [
              "'532'"
            ],
            "application/vnd.google.colaboratory.intrinsic+json": {
              "type": "string"
            }
          },
          "metadata": {},
          "execution_count": 66
        }
      ]
    },
    {
      "cell_type": "markdown",
      "source": [
        "## Reto 34: Dos diccionarios iguales\n",
        "* Cree una función que verifique si los dos argumentos que pasamos a la función son iguales entre sí.\n",
        "* La función tiene dos parámetros de tipo diccionario.\n",
        "* Devuelve `True` si los objetos son iguales; de lo contrario, devuelve `False`.\n",
        "* Ejemplos:\n",
        "    1. Ejemplo 1. Alterando el orden de las parejas `clave:valor`\n",
        "\n",
        "    Este es el objeto 1:\n",
        "    <pre>\n",
        "obj_one = {\n",
        "    \"name\": \"Alex\",\n",
        "    \"phone\": \"687654321\",\n",
        "    \"email\": \"alex@gmail.com\"\n",
        "    }\n",
        "</pre>\n",
        "    \n",
        "    Este es el objeto 2:\n",
        "<pre>\n",
        "obj_two = {\n",
        "    \"name\": \"Alex\",\n",
        "    \"email\": \"alex@gmail.com\",\n",
        "    \"phone\": \"687654321\"\n",
        "    }\n",
        "</pre>\n",
        "\n",
        "    son_iguales(obj_one, obj_two) ➞ True\n",
        "\n",
        "    2. Ejemplo 2.\n",
        "\n",
        "    Este es el objeto 1:\n",
        "<pre>\n",
        "obj_one = {\n",
        "    \"name\": \"Julia\",\n",
        "    \"phone\": \"612345678\",\n",
        "    \"email\": \"julia@gmail.com\"\n",
        "    }\n",
        "</pre>\n",
        "    \n",
        "    Este es el objeto 2:\n",
        "<pre>\n",
        "obj_two = {\n",
        "    \"nombre\": \"Julia\",\n",
        "    \"telefono\": \"612345678\",\n",
        "    \"correo\": \"julia@gmail.com\"\n",
        "    }\n",
        "</pre>\n",
        "\n",
        "    son_iguales(obj_one, obj_two) ➞ False"
      ],
      "metadata": {
        "id": "AzEc5OxujTmX"
      }
    },
    {
      "cell_type": "code",
      "source": [
        "def son_iguales(objeto1, objeto2):\n",
        "    return objeto1 == objeto2"
      ],
      "metadata": {
        "id": "oz-Ne1a8Lwu4"
      },
      "execution_count": null,
      "outputs": []
    },
    {
      "cell_type": "code",
      "source": [
        "# The first object parameter.\n",
        "obj_one = {\n",
        "\"name\": \"Alex\",\n",
        "\"phone\": \"687654321\",\n",
        "\"email\": \"alex@gmail.com\"\n",
        "}\n",
        "\n",
        "# The second object parameter.\n",
        "obj_two = {\n",
        "\"name\": \"Alex\",\n",
        "\"email\": \"alex@gmail.com\",\n",
        "\"phone\": \"687654321\"\n",
        "}\n",
        "\n",
        "son_iguales(obj_one, obj_two)"
      ],
      "metadata": {
        "colab": {
          "base_uri": "https://localhost:8080/"
        },
        "id": "9ILlA13lMIQH",
        "outputId": "def3870a-c9b2-4f9c-fc52-224bf49458dc"
      },
      "execution_count": null,
      "outputs": [
        {
          "output_type": "execute_result",
          "data": {
            "text/plain": [
              "True"
            ]
          },
          "metadata": {},
          "execution_count": 68
        }
      ]
    },
    {
      "cell_type": "code",
      "source": [
        "# The first object parameter.\n",
        "obj_one = {\n",
        "\"name\": \"Julia\",\n",
        "\"phone\": \"612345678\",\n",
        "\"email\": \"julia@gmail.com\"\n",
        "}\n",
        "\n",
        "# The second object parameter.\n",
        "obj_two = {\n",
        "\"nombre\": \"Julia\",\n",
        "\"telefono\": \"612345678\",\n",
        "\"correo\": \"julia@gmail.com\"\n",
        "}\n",
        "\n",
        "son_iguales(obj_one, obj_two)"
      ],
      "metadata": {
        "colab": {
          "base_uri": "https://localhost:8080/"
        },
        "id": "Noihc1FzMiax",
        "outputId": "da2c133a-3744-4dff-f683-660f69797e29"
      },
      "execution_count": null,
      "outputs": [
        {
          "output_type": "execute_result",
          "data": {
            "text/plain": [
              "False"
            ]
          },
          "metadata": {},
          "execution_count": 69
        }
      ]
    },
    {
      "cell_type": "markdown",
      "source": [
        "## Reto 35: Operador Ternario\n",
        "* Corrija el código siguiente para que la función devuelva `True` si y solo si `x` es igual a 7.\n",
        "* Ejemplos:\n",
        "    1. es_siete(4) ➞ False\n",
        "    2. es_siete(9) ➞ False\n",
        "    3. es_siete(7) ➞ True\n",
        "* Consulte el **operador ternario** en Python\n",
        "* El código que no funciona correctamente es este:\n",
        "\n",
        "<pre>\n",
        "def es_siete(x):\n",
        "\tretur True if x=\"7\" else False\n",
        "</pre>\n"
      ],
      "metadata": {
        "id": "kIoWDOrDykTZ"
      }
    },
    {
      "cell_type": "code",
      "source": [
        "# Método 1. Con operador ternario\n",
        "def es_siete(x):\n",
        "\treturn True if x == 7 else False\n",
        "\n",
        "# Método 2. Sin operador ternario\n",
        "def es_siete(x):\n",
        "    return x == 7"
      ],
      "metadata": {
        "id": "pJEEgAqqPCvf"
      },
      "execution_count": null,
      "outputs": []
    },
    {
      "cell_type": "code",
      "source": [
        "print(es_siete(4))\n",
        "print(es_siete(9))\n",
        "print(es_siete(7))"
      ],
      "metadata": {
        "colab": {
          "base_uri": "https://localhost:8080/"
        },
        "id": "DwK-mVgnPOC3",
        "outputId": "756fc99a-2ac0-4c91-c878-a5ffe44263fa"
      },
      "execution_count": null,
      "outputs": [
        {
          "output_type": "stream",
          "name": "stdout",
          "text": [
            "False\n",
            "False\n",
            "True\n"
          ]
        }
      ]
    },
    {
      "cell_type": "markdown",
      "source": [
        "## Reto 36: Control de igualdad\n",
        "* Debe verificar la igualdad de dos valores diferentes dados los parámetros `a` y `b`.\n",
        "* Tanto el valor como el tipo de dato de los argumentos deben ser iguales.\n",
        "* Ejemplos:\n",
        "    1. check_igualdad(7, \"7\") ➞ False\n",
        "    2. check_igualdad(1, True) ➞ False\n",
        "    3. check_igualdad(0, 'False') ➞ False\n",
        "    4. check_igualdad(1, --1) ➞ True\n",
        "    5. check_igualdad(4, abs(-4)) ➞ True\n",
        "\n",
        "* La función `abs()` calcula el valor absoluto de un número"
      ],
      "metadata": {
        "id": "uBgvowa5ykdn"
      }
    },
    {
      "cell_type": "code",
      "source": [
        "# Método 1\n",
        "def check_igualdad(a, b):\n",
        "    return a == b and type(a) == type(b)\n",
        "\n",
        "# Método 2. Con listas iguales da False\n",
        "def check_igualdad(a, b):\n",
        "    return a is b"
      ],
      "metadata": {
        "id": "NjkdCUcu51SP"
      },
      "execution_count": null,
      "outputs": []
    },
    {
      "cell_type": "code",
      "source": [
        "print(check_igualdad(7, \"7\"))\n",
        "print(check_igualdad(1, True))\n",
        "print(check_igualdad(0, 'False'))\n",
        "print(check_igualdad(1, --1))\n",
        "print(check_igualdad(4, abs(-4)))"
      ],
      "metadata": {
        "id": "shEQK4bB6AsR",
        "outputId": "cbab4559-062d-411d-f369-8b8ab229522a",
        "colab": {
          "base_uri": "https://localhost:8080/"
        }
      },
      "execution_count": null,
      "outputs": [
        {
          "output_type": "stream",
          "name": "stdout",
          "text": [
            "False\n",
            "False\n",
            "False\n",
            "True\n",
            "True\n"
          ]
        }
      ]
    },
    {
      "cell_type": "markdown",
      "source": [
        "## Reto 37: Dos hacen Diez\n",
        "* Cree una función que tome dos argumentos.\n",
        "* Ambos argumentos son números enteros, `a` y `b`.\n",
        "* Devuelve `True` si uno de ellos es 10 o si su suma es 10.\n",
        "* Ejemplos:\n",
        "    1. es_diez(9, 10) ➞ True\n",
        "    2. es_diez(10, 9) ➞ True\n",
        "    3. es_diez(6, 4) ➞ True\n",
        "    4. es_diez(9, 9) ➞ False"
      ],
      "metadata": {
        "id": "iSVovXfZtz1E"
      }
    },
    {
      "cell_type": "code",
      "source": [
        "# Método 1\n",
        "def es_diez(a, b):\n",
        "    return a == 10 or b == 10 or a + b == 10\n",
        "\n",
        "# Método 2. Intersección de conjuntos\n",
        "def es_diez(a, b):\n",
        "    return bool({a, b, a + b} & {10})"
      ],
      "metadata": {
        "id": "jk6ujqXk7i_9"
      },
      "execution_count": null,
      "outputs": []
    },
    {
      "cell_type": "code",
      "source": [
        "print(es_diez(9, 10))\n",
        "print(es_diez(10, 9))\n",
        "print(es_diez(6, 4))\n",
        "print(es_diez(9, 9))"
      ],
      "metadata": {
        "id": "dyL34Bbe77kJ",
        "outputId": "471b6825-5e07-4a21-b93d-182c822d3c62",
        "colab": {
          "base_uri": "https://localhost:8080/"
        }
      },
      "execution_count": null,
      "outputs": [
        {
          "output_type": "stream",
          "name": "stdout",
          "text": [
            "True\n",
            "True\n",
            "True\n",
            "False\n"
          ]
        }
      ]
    },
    {
      "cell_type": "markdown",
      "source": [
        "## Reto 38: Divisible por cinco\n",
        "* Cree una función que devuelva `True` si un número entero es divisible por 5 y `False` en caso contrario.\n",
        "* Ejemplos:\n",
        "    1. divisible_por_cinco(5) ➞ True\n",
        "    2. divisible_por_cinco(-55) ➞ True\n",
        "    3. divisible_por_cinco(37) ➞ False\n",
        "    4. divisible_por_cinco(11) ➞ False"
      ],
      "metadata": {
        "id": "_3AbqOSluZXt"
      }
    },
    {
      "cell_type": "code",
      "source": [
        "def divisible_por_cinco(n):\n",
        "    return n % 5 == 0\n",
        "\n",
        "def divisible_por_cinco(n):\n",
        "    parte_fraccionaria = n / 5 - n // 5\n",
        "    return  parte_fraccionaria == 0\n",
        "\n",
        "def divisible_por_cinco(n):\n",
        "    return n // 5 == n / 5"
      ],
      "metadata": {
        "id": "7ZHb9EkH9P3p"
      },
      "execution_count": null,
      "outputs": []
    },
    {
      "cell_type": "code",
      "source": [
        "print(divisible_por_cinco(5))\n",
        "print(divisible_por_cinco(-55))\n",
        "print(divisible_por_cinco(37))\n",
        "print(divisible_por_cinco(11))"
      ],
      "metadata": {
        "id": "oyqspQkR90B-",
        "outputId": "28e3d489-f835-4336-b4aa-66ab91b32fad",
        "colab": {
          "base_uri": "https://localhost:8080/"
        }
      },
      "execution_count": null,
      "outputs": [
        {
          "output_type": "stream",
          "name": "stdout",
          "text": [
            "True\n",
            "True\n",
            "False\n",
            "False\n"
          ]
        }
      ]
    },
    {
      "cell_type": "markdown",
      "source": [
        "## Reto 39: Apuesta rentable\n",
        "* Cree una función que determine si una apuesta es rentable basada en tres parámetros: probabilidad, premio y pago.\n",
        "* La función debe devolver `True` si el producto de la probabilidad por el premio es mayor que el pago realizado; en caso contrario, debe devolver `False`.\n",
        "* Ejemplos:\n",
        "    1. apuesta_rentable(0.2, 50, 9) ➞ True\n",
        "    2. apuesta_rentable(0.9, 1, 2) ➞ False\n",
        "    3. apuesta_rentable(0.9, 3, 2) ➞ True\n",
        "    4. apuesta_rentable(0.01, 500, 5) ➞ False"
      ],
      "metadata": {
        "id": "hndooM_tymog"
      }
    },
    {
      "cell_type": "code",
      "source": [
        "def apuesta_rentable(probabilidad, premio, pago):\n",
        "    if probabilidad * premio > pago:\n",
        "        return True\n",
        "    else:\n",
        "        return False\n",
        "\n",
        "def apuesta_rentable(probabilidad, premio, pago):\n",
        "    return probabilidad * premio > pago"
      ],
      "metadata": {
        "id": "dY07easr9ZfE"
      },
      "execution_count": null,
      "outputs": []
    },
    {
      "cell_type": "code",
      "source": [
        "print(apuesta_rentable(0.2, 50, 9))\n",
        "print(apuesta_rentable(0.9, 1, 2))\n",
        "print(apuesta_rentable(0.9, 3, 2))\n",
        "print(apuesta_rentable(0.01, 500, 5))"
      ],
      "metadata": {
        "id": "1aaqZEbj-5B7",
        "outputId": "4b7353f9-eadb-48b6-eb6b-58dd59fbcd23",
        "colab": {
          "base_uri": "https://localhost:8080/"
        }
      },
      "execution_count": null,
      "outputs": [
        {
          "output_type": "stream",
          "name": "stdout",
          "text": [
            "True\n",
            "False\n",
            "True\n",
            "False\n"
          ]
        }
      ]
    },
    {
      "cell_type": "markdown",
      "source": [
        "## Reto 40: Suma de los elementos de una lista\n",
        "* Cree una función que tome una lista y devuelva la suma de todos los números de la lista.\n",
        "* Ejemplos:\n",
        "    1. suma_elementos([2, 7, 4]) ➞ 13\n",
        "    2. suma_elementos([45, 3, 0]) ➞ 48\n",
        "    3. suma_elementos([-2, 84, 23]) ➞ 105\n"
      ],
      "metadata": {
        "id": "uH0q2k3AymvL"
      }
    },
    {
      "cell_type": "code",
      "source": [
        "# Método 1\n",
        "def suma_elementos(lista):\n",
        "    return sum(lista)\n",
        "\n",
        "# Método 2\n",
        "def suma_elementos(lista):\n",
        "    total = 0\n",
        "    for elemento in lista:\n",
        "        total += elemento\n",
        "    return total\n",
        "\n",
        "# Método 3\n",
        "def suma_elementos(lista):\n",
        "    total = 0\n",
        "    for i in range(len(lista)):\n",
        "        total += lista[i]\n",
        "    return total\n",
        "\n",
        "# Método 4\n",
        "from functools import reduce\n",
        "\n",
        "def suma_elementos(lista):\n",
        "    return reduce(lambda x, y: x + y, lista)\n",
        "\n",
        "# Método 5. Con recursividad\n",
        "def suma_elementos(lista):\n",
        "    if len(lista) == 0:\n",
        "        return 0\n",
        "    else:\n",
        "        return lista[0] + suma_elementos(lista[1:])\n",
        "\n",
        "# Método 6. Recursividad con pop\n",
        "def suma_elementos(lista):\n",
        "    if len(lista) == 0:\n",
        "        return 0\n",
        "    else:\n",
        "        return lista.pop() + suma_elementos(lista)"
      ],
      "metadata": {
        "id": "xwjkMkTE9auf"
      },
      "execution_count": null,
      "outputs": []
    },
    {
      "cell_type": "code",
      "source": [
        "print(suma_elementos([2, 7, 4]))\n",
        "print(suma_elementos([45, 3, 0]))\n",
        "print(suma_elementos([-2, 84, 23]))"
      ],
      "metadata": {
        "id": "WyGkE9zk_jP1",
        "outputId": "f63cd911-a686-458f-ab7f-9d3d41457ad2",
        "colab": {
          "base_uri": "https://localhost:8080/"
        }
      },
      "execution_count": null,
      "outputs": [
        {
          "output_type": "stream",
          "name": "stdout",
          "text": [
            "13\n",
            "48\n",
            "105\n"
          ]
        }
      ]
    },
    {
      "cell_type": "markdown",
      "source": [
        "## Reto 41: Días del mes\n",
        "* Cree una función que reciba un número del 1 al 12 y devuelva el mes correspondiente y el número de días que tiene.\n",
        "* Use el siguiente diccionario para resolverlo.\n",
        "\n",
        "```python\n",
        "d = {1:['enero', 31],\n",
        "     2:['febrero', 28],\n",
        "     3:['marzo', 31],\n",
        "     4:['abril', 30],\n",
        "     5:['mayo', 31],\n",
        "     6:['junio', 30],\n",
        "     7:['julio', 31],\n",
        "     8:['agosto', 31],\n",
        "     9:['septiembre', 30],\n",
        "     10:['octubre', 31],\n",
        "     11:['noviembre', 30],\n",
        "     12:['diciembre', 31]}\n",
        "```\n",
        "* Ejemplos:\n",
        "    1. dias_mes(1) ➞ enero 31\n",
        "    2. dias_mes(4) ➞ abril 30\n",
        "    3. dias_mes(12) ➞ diciembre 31"
      ],
      "metadata": {
        "id": "sIkIwIhrym10"
      }
    },
    {
      "cell_type": "code",
      "source": [
        "d = {1:['enero', 31],\n",
        "     2:['febrero', 28],\n",
        "     3:['marzo', 31],\n",
        "     4:['abril', 30],\n",
        "     5:['mayo', 31],\n",
        "     6:['junio', 30],\n",
        "     7:['julio', 31],\n",
        "     8:['agosto', 31],\n",
        "     9:['septiembre', 30],\n",
        "     10:['octubre', 31],\n",
        "     11:['noviembre', 30],\n",
        "     12:['diciembre', 31]}\n",
        "\n",
        "def dias_mes(n):\n",
        "    return f'{d[n][0]} {d[n][1]}'"
      ],
      "metadata": {
        "id": "mDNVofHz9bhH"
      },
      "execution_count": null,
      "outputs": []
    },
    {
      "cell_type": "code",
      "source": [
        "print(dias_mes(1))\n",
        "print(dias_mes(4))\n",
        "print(dias_mes(12))"
      ],
      "metadata": {
        "id": "wktquVTCAitB",
        "outputId": "b5768556-db43-49ba-fa4c-06f29fdb29a5",
        "colab": {
          "base_uri": "https://localhost:8080/"
        }
      },
      "execution_count": null,
      "outputs": [
        {
          "output_type": "stream",
          "name": "stdout",
          "text": [
            "enero 31\n",
            "abril 30\n",
            "diciembre 31\n"
          ]
        }
      ]
    },
    {
      "cell_type": "markdown",
      "source": [
        "## Reto 42: Múltiplo de cien\n",
        "* Cree una función que tome un número entero y devuelva `True` si es divisible por 100; de lo contrario, devuelva `False`.\n",
        "* Ejemplos:\n",
        "    1. divisible(1) ➞ False\n",
        "    2. divisible(1000) ➞ True\n",
        "    3. divisible(100) ➞ True\n",
        "    4. divisible(400) ➞ True\n"
      ],
      "metadata": {
        "id": "ZtQLbKpvym7z"
      }
    },
    {
      "cell_type": "code",
      "source": [
        "def divisible(n):\n",
        "    return n % 100 == 0"
      ],
      "metadata": {
        "id": "vVHp8sAc9cOL"
      },
      "execution_count": null,
      "outputs": []
    },
    {
      "cell_type": "code",
      "source": [
        "print(divisible(1))\n",
        "print(divisible(1000))\n",
        "print(divisible(100))\n",
        "print(divisible(400))"
      ],
      "metadata": {
        "id": "Zqno7VoADEoA",
        "outputId": "be48111b-71f8-409b-f904-0fb81a178cf9",
        "colab": {
          "base_uri": "https://localhost:8080/"
        }
      },
      "execution_count": null,
      "outputs": [
        {
          "output_type": "stream",
          "name": "stdout",
          "text": [
            "False\n",
            "True\n",
            "True\n",
            "True\n"
          ]
        }
      ]
    },
    {
      "cell_type": "markdown",
      "source": [
        "## Reto 43: Comprobar si $k^k=n$\n",
        "* Escriba una función que devuelva `True` si $k^k = n$ para la entrada `(k, n)`\n",
        "* y devuelva `False` en caso contrario.\n",
        "* Ejemplos:\n",
        "    1. k_to_k(2, 4) ➞ True\n",
        "    2. k_to_k(9, 387420489) ➞ True  \n",
        "    3. k_to_k(5, 3124) ➞ False\n",
        "    4. k_to_k(3, 17) ➞ False\n",
        "* Nueve elevado a nueve es $9^{9} = 387420489$\n"
      ],
      "metadata": {
        "id": "9TtBcMbWynC5"
      }
    },
    {
      "cell_type": "code",
      "source": [
        "def k_to_k(k, n):\n",
        "    return k ** k == n\n",
        "\n",
        "def k_to_k(k, n):\n",
        "    return pow(k, k) == n\n",
        "\n",
        "def k_to_k(k, n):\n",
        "    result = 1\n",
        "    for i in range(k):\n",
        "        result *= k\n",
        "    return result == n"
      ],
      "metadata": {
        "id": "WfIQKBmC9cls"
      },
      "execution_count": null,
      "outputs": []
    },
    {
      "cell_type": "code",
      "source": [
        "print(k_to_k(2, 4))\n",
        "print(k_to_k(9, 387420489))\n",
        "print(k_to_k(5, 3124))\n",
        "print(k_to_k(3, 17))"
      ],
      "metadata": {
        "id": "ea9J5Bi7ECfd",
        "outputId": "856bfe92-2fc7-4651-ab45-e016a82ecba9",
        "colab": {
          "base_uri": "https://localhost:8080/"
        }
      },
      "execution_count": null,
      "outputs": [
        {
          "output_type": "stream",
          "name": "stdout",
          "text": [
            "True\n",
            "True\n",
            "False\n",
            "False\n"
          ]
        }
      ]
    },
    {
      "cell_type": "markdown",
      "source": [
        "## Reto 44: Despistes al programar\n",
        "* Disponemos de una función que no trabaja correctamente ya que estábamos algo despistados al programarla.\n",
        "* Mire los ejemplos siguientes para tener una idea de lo que debe hacer la función.\n",
        "* Ejemplos:\n",
        "    1. max_num(3, 7) ➞ 7\n",
        "    2. max_num(-1, -4) ➞ -1\n",
        "    2. max_num(10, 10) ➞ 10\n",
        "\n",
        "* El código que da problemas es el siguiente:\n",
        "\n",
        "```python\n",
        "def max_num(n1, n2):\n",
        "\tif n1 > n2:\n",
        "\t\treturn n2\n",
        "\telif:\n",
        "\t\treturn n1\n",
        "```"
      ],
      "metadata": {
        "id": "tJ6I-ImMynKm"
      }
    },
    {
      "cell_type": "code",
      "source": [
        "def max_num(n1, n2):\n",
        "    if n1 < n2:\n",
        "        return n2\n",
        "    else:\n",
        "        return n1\n",
        "\n",
        "def max_num(n1, n2):\n",
        "    if n1 > n2:\n",
        "        return n1\n",
        "    return n2\n",
        "\n",
        "def max_num(n1, n2):\n",
        "    return max(n1, n2)"
      ],
      "metadata": {
        "id": "VI-IY_YB9dHd"
      },
      "execution_count": null,
      "outputs": []
    },
    {
      "cell_type": "code",
      "source": [
        "print(max_num(3, 7))\n",
        "print(max_num(-1, -4))\n",
        "print(max_num(10, 10))"
      ],
      "metadata": {
        "id": "CXWsahXDE0N6",
        "outputId": "53636b02-998b-4f94-f893-5406a7c0cd0a",
        "colab": {
          "base_uri": "https://localhost:8080/"
        }
      },
      "execution_count": null,
      "outputs": [
        {
          "output_type": "stream",
          "name": "stdout",
          "text": [
            "7\n",
            "-1\n",
            "10\n"
          ]
        }
      ]
    },
    {
      "cell_type": "markdown",
      "source": [
        "## Reto 45: Comparar cadenas por número de caracteres\n",
        "* Cree una función que tome dos strings como argumentos y devuelva `True` o `False` dependiendo de si el número total de caracteres en la primera cadena es igual al número total de caracteres en la segunda cadena.\n",
        "* Ejemplos:\n",
        "    1. compare(\"AB\", \"cd\") ➞ True\n",
        "    2. compare(\"ABC\", \"DE\") ➞ False\n",
        "    3. compare(\"hello\", \"Madrid\") ➞ False\n",
        "    4. compare(\"XY\", \"42\") ➞ True"
      ],
      "metadata": {
        "id": "aHMUHOt_zlRT"
      }
    },
    {
      "cell_type": "code",
      "source": [
        "# Método 1. Usando len()\n",
        "\n",
        "def compare(str1, str2):\n",
        "    return len(str1) == len(str2)\n",
        "\n",
        "# Método 2. Contando elementos de cada cadena con bucles\n",
        "\n",
        "def compare(cadena1, cadena2):\n",
        "    count1 = count2 = 0\n",
        "    for char in cadena1:\n",
        "        count1 += 1\n",
        "    for char in cadena2:\n",
        "        count2 += 1\n",
        "    return count1 == count2"
      ],
      "metadata": {
        "id": "K9InmdMt9dtc"
      },
      "execution_count": null,
      "outputs": []
    },
    {
      "cell_type": "code",
      "source": [
        "print(compare(\"AB\", \"cd\"))\n",
        "print(compare(\"ABC\", \"DE\"))\n",
        "print(compare(\"hello\", \"Madrid\"))\n",
        "print(compare(\"XY\", \"42\"))"
      ],
      "metadata": {
        "id": "Ow-a2imJGxVX",
        "outputId": "91591ce2-3d87-49b2-846f-876231b07a18",
        "colab": {
          "base_uri": "https://localhost:8080/"
        }
      },
      "execution_count": null,
      "outputs": [
        {
          "output_type": "stream",
          "name": "stdout",
          "text": [
            "True\n",
            "False\n",
            "False\n",
            "True\n"
          ]
        }
      ]
    },
    {
      "cell_type": "markdown",
      "source": [
        "## Reto 46: Si hay un 3 ganas\n",
        "* Crea una función que genere un número aleatorio entero entre 100.000 y 200.000.\n",
        "* Si hay, al menos, un 3 ganas, en caso contrario pierdes.\n",
        "* La función imprime el número aleatorio generado, después un espacio y finalmente se indica si ganas o pierdes.\n",
        "* Ejemplos:\n",
        "    1. gana_el_tres() ➞ 140848 pierdes\n",
        "    2. gana_el_tres() ➞ 176385 ganas\n",
        "    3. gana_el_tres() ➞ 190833 ganas\n",
        "    4. gana_el_tres() ➞ 196202 pierdes\n"
      ],
      "metadata": {
        "id": "F8WNfl5szxTo"
      }
    },
    {
      "cell_type": "code",
      "source": [
        "import random\n",
        "\n",
        "# Método 1. Usando un condicional y str\n",
        "def gana_el_tres():\n",
        "    numero_aleatorio = random.randint(100000, 200000)\n",
        "    if '3' in str(numero_aleatorio):\n",
        "        return f\"{numero_aleatorio} ganas\"\n",
        "    else:\n",
        "        return f\"{numero_aleatorio} pierdes\"\n",
        "\n",
        "# Método 2. Usando un operador ternario y str\n",
        "def gana_el_tres():\n",
        "    r = random.randint(100_000, 200_000)\n",
        "    return f\"{r} {'ganas' if '3' in str(r) else 'pierdes'}\"\n",
        "\n",
        "# Método 3. Sin usar str\n",
        "def gana_el_tres():\n",
        "    numero_aleatorio = random.randint(100000, 200000)\n",
        "    original = numero_aleatorio\n",
        "    while numero_aleatorio > 0:\n",
        "        digito = numero_aleatorio % 10\n",
        "        if digito == 3:\n",
        "            return f\"{original} ganas\"\n",
        "        numero_aleatorio //= 10\n",
        "    return f\"{original} pierdes\""
      ],
      "metadata": {
        "id": "k2FPPi7u9eVK"
      },
      "execution_count": null,
      "outputs": []
    },
    {
      "cell_type": "code",
      "source": [
        "print(gana_el_tres())\n",
        "print(gana_el_tres())\n",
        "print(gana_el_tres())\n",
        "print(gana_el_tres())"
      ],
      "metadata": {
        "colab": {
          "base_uri": "https://localhost:8080/"
        },
        "id": "sB4UmsoGswjp",
        "outputId": "11bd60b9-2a70-466b-8a21-017da19d849b"
      },
      "execution_count": null,
      "outputs": [
        {
          "output_type": "stream",
          "name": "stdout",
          "text": [
            "131073 ganas\n",
            "0 pierdes\n",
            "101813 ganas\n",
            "0 pierdes\n"
          ]
        }
      ]
    },
    {
      "cell_type": "markdown",
      "source": [
        "## Reto 47: Recargando baterías\n",
        "* Para que un vehículo pueda funcionar, necesita una cantidad de carga que es diez veces mayor que la distancia que recorre.\n",
        "* No obstante, es importante asegurarse de que siempre lleve al menos 100 unidades de carga antes de iniciar su recorrido.\n",
        "* Cree una función que calcule la cantidad de carga necesaria en función de la `distancia` ingresada como parámetro.\n",
        "* Ejemplos:\n",
        "    1. calcula_carga(15) ➞ 150\n",
        "    2. calcula_carga(23.5) ➞ 235\n",
        "    3. calcula_carga(3) ➞ 100\n",
        "* La `distancia` proporcionada siempre será un número mayor que cero.\n",
        "* Si el cálculo de la carga resulta ser inferior a 100, la función debe devolver 100 como mínimo."
      ],
      "metadata": {
        "id": "KL8LNZmnzx_N"
      }
    },
    {
      "cell_type": "markdown",
      "source": [
        "### Comentario\n",
        "Veamos lo que es un [Operador Ternario](https://www.codigopiton.com/el-operador-ternario-condicional-en-python)."
      ],
      "metadata": {
        "id": "gXOfabdMHHt1"
      }
    },
    {
      "cell_type": "code",
      "source": [
        "# Condicional IF\n",
        "n = 5\n",
        "\n",
        "if n % 2 == 0:\n",
        "    print(\"Par\")\n",
        "else:\n",
        "    print(\"Impar\")"
      ],
      "metadata": {
        "id": "AijUlyufFfjG",
        "outputId": "7b8fc00a-b7e5-446e-a6f2-38b50b111787",
        "colab": {
          "base_uri": "https://localhost:8080/"
        }
      },
      "execution_count": null,
      "outputs": [
        {
          "output_type": "stream",
          "name": "stdout",
          "text": [
            "Impar\n"
          ]
        }
      ]
    },
    {
      "cell_type": "code",
      "source": [
        "# Operador Ternario\n",
        "n = 5\n",
        "\n",
        "print(\"Par\") if n % 2 == 0 else print(\"Impar\")"
      ],
      "metadata": {
        "id": "ixHKhdyNEseC",
        "outputId": "3409ec89-7498-4e90-ed20-2251ebb0de77",
        "colab": {
          "base_uri": "https://localhost:8080/"
        }
      },
      "execution_count": null,
      "outputs": [
        {
          "output_type": "stream",
          "name": "stdout",
          "text": [
            "Impar\n"
          ]
        }
      ]
    },
    {
      "cell_type": "code",
      "source": [
        "# Método 1\n",
        "def calcula_carga(distancia):\n",
        "    carga_necesaria = distancia * 10\n",
        "    if carga_necesaria < 100:\n",
        "        return 100\n",
        "    else:\n",
        "        return carga_necesaria\n",
        "\n",
        "# Método 2. Usando un operador ternario\n",
        "def calcula_carga(km):\n",
        "    return 100 if km < 10 else 10 * km"
      ],
      "metadata": {
        "id": "ArIiZmcr9e1h"
      },
      "execution_count": null,
      "outputs": []
    },
    {
      "cell_type": "code",
      "source": [
        "print(calcula_carga(15))\n",
        "print(calcula_carga(23.5))\n",
        "print(calcula_carga(3))"
      ],
      "metadata": {
        "colab": {
          "base_uri": "https://localhost:8080/"
        },
        "id": "wudZ7035vqPY",
        "outputId": "d433dbd3-f2dc-4f8a-8187-b023f1fab4f0"
      },
      "execution_count": null,
      "outputs": [
        {
          "output_type": "stream",
          "name": "stdout",
          "text": [
            "150\n",
            "235.0\n",
            "100\n"
          ]
        }
      ]
    },
    {
      "cell_type": "markdown",
      "source": [
        "## Reto 48: ¿Está vacía la cadena?\n",
        "* Cree una función que devuelva `True` si una cadena está vacía y `False` en caso contrario.\n",
        "* Ejemplos:\n",
        "    1. esta_vacia(\"\") ➞ True\n",
        "    2. esta_vacia(\" \") ➞ False\n",
        "    3. esta_vacia(\"a\") ➞ False\n",
        "* Un string que contiene algún espacio en blanco `\" \"` no cuenta como vacío."
      ],
      "metadata": {
        "id": "7woygAxxzyFh"
      }
    },
    {
      "cell_type": "code",
      "source": [
        "def esta_vacia(cadena):\n",
        "    if cadena == \"\":\n",
        "        return True\n",
        "    else:\n",
        "        return False\n",
        "\n",
        "def esta_vacia(cadena):\n",
        "    if not cadena:\n",
        "        return True\n",
        "    else:\n",
        "        return False\n",
        "\n",
        "def esta_vacia(cadena):\n",
        "    if cadena:\n",
        "        return False\n",
        "    else:\n",
        "        return True\n",
        "\n",
        "def esta_vacia(cadena):\n",
        "    return cadena == \"\"\n",
        "\n",
        "def esta_vacia(cadena):\n",
        "    return not cadena"
      ],
      "metadata": {
        "id": "mpNylrC-9fR-"
      },
      "execution_count": null,
      "outputs": []
    },
    {
      "cell_type": "code",
      "source": [
        "print(esta_vacia(\"\"))\n",
        "print(esta_vacia(\" \"))\n",
        "print(esta_vacia(\"a\"))"
      ],
      "metadata": {
        "colab": {
          "base_uri": "https://localhost:8080/"
        },
        "id": "tRqfo_TCwXn0",
        "outputId": "c6a0c2d0-e994-4d7b-b61e-b311d07e44d9"
      },
      "execution_count": null,
      "outputs": [
        {
          "output_type": "stream",
          "name": "stdout",
          "text": [
            "True\n",
            "False\n",
            "False\n"
          ]
        }
      ]
    },
    {
      "cell_type": "markdown",
      "source": [
        "## Reto 49: Devolver negativo\n",
        "* Escriba una función que tome un número como parámetro y lo devuelva como negativo.\n",
        "* Si el número es positivo se convertirá en negativo.\n",
        "* Si el número previamente ya es negativo permanecerán sin alteración.\n",
        "* Si el número es cero la función devolverá cero.\n",
        "* Ejemplos:\n",
        "    1. devuelve_negativo(4) ➞ -4\n",
        "    2. devuelve_negativo(15) ➞ -15\n",
        "    3. devuelve_negativo(-4) ➞ -4\n",
        "    4. devuelve_negativo(0) ➞ 0\n"
      ],
      "metadata": {
        "id": "YEjGoQpPzyRK"
      }
    },
    {
      "cell_type": "code",
      "source": [
        "# Método 1\n",
        "def devuelve_negativo(numero):\n",
        "    if numero > 0:\n",
        "        return -numero\n",
        "    else:\n",
        "        return numero\n",
        "\n",
        "# Método 2. Operador ternario\n",
        "def devuelve_negativo(numero):\n",
        "    return -numero if numero > 0 else numero\n",
        "\n",
        "# Método 3. Con la función abs de valor absoluto\n",
        "def devuelve_negativo(x):\n",
        "    return -abs(x)"
      ],
      "metadata": {
        "id": "dglxs40q9fw6"
      },
      "execution_count": null,
      "outputs": []
    },
    {
      "cell_type": "code",
      "source": [
        "print(devuelve_negativo(4))\n",
        "print(devuelve_negativo(15))\n",
        "print(devuelve_negativo(-4))\n",
        "print(devuelve_negativo(0))"
      ],
      "metadata": {
        "colab": {
          "base_uri": "https://localhost:8080/"
        },
        "id": "wrNMmqdRzDIj",
        "outputId": "0c4d0ac0-3ce4-481f-a562-bf8105e4149a"
      },
      "execution_count": null,
      "outputs": [
        {
          "output_type": "stream",
          "name": "stdout",
          "text": [
            "-4\n",
            "-15\n",
            "-4\n",
            "0\n"
          ]
        }
      ]
    },
    {
      "cell_type": "markdown",
      "source": [
        "## Reto 50: ¿Suma la lista menos de cien?\n",
        "* Cree una función que reciba una lista de números.\n",
        "* Se retorna `True` si la suma de los valores de la lista es menor estricto que 100, de lo contrario, se retorna `False`.\n",
        "* Ejemplos:\n",
        "    1. menos_de_cien([5, 57]) ➞ True\n",
        "    2. menos_de_cien([0]) ➞ True\n",
        "    3. menos_de_cien([7, 33, 15]) ➞ True\n",
        "    4. menos_de_cien([77, 30]) ➞ False\n",
        "    5. menos_de_cien([95, 1, 1, 1, 2]) ➞ False\n"
      ],
      "metadata": {
        "id": "emD22dC-zyWu"
      }
    },
    {
      "cell_type": "code",
      "source": [
        "def menos_de_cien(lista):\n",
        "    return sum(lista) < 100\n",
        "\n",
        "def menos_de_cien(lista):\n",
        "    total = 0\n",
        "    for elemento in lista:\n",
        "        total += elemento\n",
        "        if total >= 100:\n",
        "            return False\n",
        "    return True"
      ],
      "metadata": {
        "id": "qOiSp3Jm9gP3"
      },
      "execution_count": null,
      "outputs": []
    },
    {
      "cell_type": "code",
      "source": [
        "print(menos_de_cien([5, 57]))\n",
        "print(menos_de_cien([0]))\n",
        "print(menos_de_cien([7, 33, 15]))\n",
        "print(menos_de_cien([77, 30]))\n",
        "print(menos_de_cien([95, 1, 1, 1, 2]))"
      ],
      "metadata": {
        "colab": {
          "base_uri": "https://localhost:8080/"
        },
        "id": "jlZ6Jzbi0blt",
        "outputId": "448a00bd-03f7-4eb8-b7af-eaf828b387c4"
      },
      "execution_count": null,
      "outputs": [
        {
          "output_type": "stream",
          "name": "stdout",
          "text": [
            "True\n",
            "True\n",
            "True\n",
            "False\n",
            "False\n"
          ]
        }
      ]
    },
    {
      "cell_type": "markdown",
      "source": [
        "## Reto 51: Concatenar nombre y apellido\n",
        "* Una función recibe dos parámetros: `nombre` y `apellido`, en este orden.\n",
        "* La función retorna una cadena que contiene primero el `apellido` y luego el `nombre`, separados por coma y espacio.\n",
        "* Ejemplos:\n",
        "    1. concatenar_nombre(\"Jose\", \"Ruiz\") ➞ \"Ruiz, Jose\"\n",
        "    2. concatenar_nombre(\"Ana\", \"Díaz\") ➞ \"Díaz, Ana\"\n",
        "    3. concatenar_nombre(\"María\", \"Ortiz\") ➞ \"Ortiz, María\"\n"
      ],
      "metadata": {
        "id": "cx9UNV3Rzydb"
      }
    },
    {
      "cell_type": "code",
      "source": [
        "def concatenar_nombre(nombre, apellido):\n",
        "    return apellido + \", \" + nombre\n",
        "\n",
        "def concatenar_nombre(nombre, apellido):\n",
        "    return f'{apellido}, {nombre}'"
      ],
      "metadata": {
        "id": "VKAUViKm1jwJ"
      },
      "execution_count": null,
      "outputs": []
    },
    {
      "cell_type": "code",
      "source": [
        "print(concatenar_nombre(\"Jose\", \"Ruiz\"))\n",
        "print(concatenar_nombre(\"Ana\", \"Díaz\"))\n",
        "print(concatenar_nombre(\"María\", \"Ortiz\"))"
      ],
      "metadata": {
        "colab": {
          "base_uri": "https://localhost:8080/"
        },
        "id": "bryeAC5e1x2y",
        "outputId": "b75d0d96-db50-4a3a-9b1e-89808ee30dfc"
      },
      "execution_count": null,
      "outputs": [
        {
          "output_type": "stream",
          "name": "stdout",
          "text": [
            "Ruiz, Jose\n",
            "Díaz, Ana\n",
            "Ortiz, María\n"
          ]
        }
      ]
    },
    {
      "cell_type": "markdown",
      "source": [
        "## Reto 52: Calculadora de un string\n",
        "* Cree una función que maneje expresiones matemáticas simples.\n",
        "* La entrada es una expresión en forma de string.\n",
        "* Ejemplos:\n",
        "    1. calculadora(\"23+4\") ➞ 27\n",
        "    2. calculadora(\"45-15\") ➞ 30\n",
        "    3. calculadora(\"13+2-5*2\") ➞ 5\n",
        "    4. calculadora(\"49/7*2-3\") ➞ 11.0\n"
      ],
      "metadata": {
        "id": "rIJcTIllzykJ"
      }
    },
    {
      "cell_type": "code",
      "source": [
        "def calculadora(cadena):\n",
        "    return eval(cadena)"
      ],
      "metadata": {
        "id": "jgPtwUAR1tZh"
      },
      "execution_count": null,
      "outputs": []
    },
    {
      "cell_type": "code",
      "source": [
        "print(calculadora(\"23+4\"))\n",
        "print(calculadora(\"45-15\"))\n",
        "print(calculadora(\"13+2-5*2\"))\n",
        "print(calculadora(\"49/7*2-3\"))"
      ],
      "metadata": {
        "colab": {
          "base_uri": "https://localhost:8080/"
        },
        "id": "H-j3ounX1ux2",
        "outputId": "b3572492-db4f-404e-d20a-17440061b944"
      },
      "execution_count": null,
      "outputs": [
        {
          "output_type": "stream",
          "name": "stdout",
          "text": [
            "27\n",
            "30\n",
            "5\n",
            "11.0\n"
          ]
        }
      ]
    },
    {
      "cell_type": "markdown",
      "source": [
        "## Reto 53: Concatenar el primer y último carácter de un String\n",
        "* Cree una función que tome una cadena y devuelva el primer y último carácter concatenados.\n",
        "* Ejemplos:\n",
        "    1. primero_ultimo(\"hola\") ➞ \"ha\"\n",
        "    2. primero_ultimo(\"Hugo Martínez\") ➞ \"Hz\"\n",
        "    3. primero_ultimo(\"100%\") ➞ \"1%\""
      ],
      "metadata": {
        "id": "mciItVkzzyrJ"
      }
    },
    {
      "cell_type": "code",
      "source": [
        "def primero_ultimo(cadena):\n",
        "    return cadena[0] + cadena[-1]\n",
        "\n",
        "def primero_ultimo(cadena):\n",
        "    return cadena[:1] + cadena[-1:]\n",
        "\n",
        "def primero_ultimo(cadena):\n",
        "    return cadena[:1] + cadena[len(cadena)-1:]"
      ],
      "metadata": {
        "id": "MyTMb8Y812eJ"
      },
      "execution_count": null,
      "outputs": []
    },
    {
      "cell_type": "code",
      "source": [
        "print(primero_ultimo(\"Hola\"))\n",
        "print(primero_ultimo(\"Hugo Martínez\"))\n",
        "print(primero_ultimo(\"100%\"))"
      ],
      "metadata": {
        "colab": {
          "base_uri": "https://localhost:8080/"
        },
        "id": "HDIM4q7N12eK",
        "outputId": "9fe583d6-8e31-4dba-abc5-deaa72ee077e"
      },
      "execution_count": null,
      "outputs": [
        {
          "output_type": "stream",
          "name": "stdout",
          "text": [
            "Ha\n",
            "Hz\n",
            "1%\n"
          ]
        }
      ]
    },
    {
      "cell_type": "markdown",
      "source": [
        "## Reto 54: String de longitud impar\n",
        "* Dada una cadena, devuelva `True` si su longitud es impar o `False` si la longitud es par.\n",
        "* Ejemplos:\n",
        "    1. longitud_impar(\"Ana\") ➞ True\n",
        "    2. longitud_impar(\"Jose\") ➞ False\n",
        "    3. longitud_impar(\"aguacate\") ➞ False\n",
        "    4. longitud_impar(\"New York\") ➞ False\n"
      ],
      "metadata": {
        "id": "gnI8xq9wzlWP"
      }
    },
    {
      "cell_type": "code",
      "source": [
        "def longitud_impar(cadena):\n",
        "    return len(cadena) % 2 != 0\n",
        "\n",
        "def longitud_impar(cadena):\n",
        "    return bool(len(cadena) % 2)\n",
        "\n",
        "def longitud_impar(cadena):\n",
        "    return len(cadena) % 2 == 1\n",
        "\n",
        "def longitud_impar(cadena):\n",
        "    return bool(len(cadena) & 1)\n",
        "'''\n",
        "&  -->  operación bitwise AND entre la longitud de la cadena y el número 1.\n",
        "Si el último bit de la longitud es 1 (lo que ocurre solo cuando la longitud es impar),\n",
        "la función devuelve True\n",
        "'''\n",
        "\n",
        "# usando un Operador Ternario\n",
        "\n",
        "def longitud_impar(cadena):\n",
        "    return True if len(cadena) % 2 else False"
      ],
      "metadata": {
        "id": "N8H_u16a13bU"
      },
      "execution_count": null,
      "outputs": []
    },
    {
      "cell_type": "code",
      "source": [
        "print(longitud_impar(\"Ana\"))\n",
        "print(longitud_impar(\"Jose\"))\n",
        "print(longitud_impar(\"aguacate\"))\n",
        "print(longitud_impar(\"New York\"))"
      ],
      "metadata": {
        "colab": {
          "base_uri": "https://localhost:8080/"
        },
        "id": "r5HM4vmD13ba",
        "outputId": "54d799e5-1da3-45e6-c3e8-e1e788bc9a66"
      },
      "execution_count": null,
      "outputs": [
        {
          "output_type": "stream",
          "name": "stdout",
          "text": [
            "True\n",
            "False\n",
            "False\n",
            "False\n"
          ]
        }
      ]
    },
    {
      "cell_type": "markdown",
      "source": [
        "## Reto 55: Array de dos\n",
        "* Dados dos argumentos, devuelva una lista que contenga esos dos argumentos.\n",
        "* Ejemplos:\n",
        "    1. arr_de_dos(1, 2) ➞ [1, 2]\n",
        "    2. arr_de_dos(51, 21) ➞ [51, 21]\n",
        "    3. arr_de_dos(-4, 215) ➞ [-4, 215]\n"
      ],
      "metadata": {
        "id": "uYhifBO2z6KK"
      }
    },
    {
      "cell_type": "code",
      "source": [
        "def arr_de_dos(a, b):\n",
        "    return [a] + [b]\n",
        "\n",
        "def arr_de_dos(a, b):\n",
        "    return [a, b]\n",
        "\n",
        "def arr_de_dos(a, b):\n",
        "    return list((a, b))   # tupla a lista\n",
        "\n",
        "def arr_de_dos(a, b):\n",
        "    result = []\n",
        "    result.append(a)\n",
        "    result.append(b)\n",
        "    return result"
      ],
      "metadata": {
        "id": "MRC4iumr14NL"
      },
      "execution_count": null,
      "outputs": []
    },
    {
      "cell_type": "code",
      "source": [
        "print(arr_de_dos(1, 2))\n",
        "print(arr_de_dos(51, 21))\n",
        "print(arr_de_dos(-4, 215))"
      ],
      "metadata": {
        "colab": {
          "base_uri": "https://localhost:8080/"
        },
        "id": "8MDq-eqs14NL",
        "outputId": "d47dacf9-9468-4452-cd50-96227c83c786"
      },
      "execution_count": null,
      "outputs": [
        {
          "output_type": "stream",
          "name": "stdout",
          "text": [
            "[1, 2]\n",
            "[51, 21]\n",
            "[-4, 215]\n"
          ]
        }
      ]
    },
    {
      "cell_type": "markdown",
      "source": [
        "## Reto 56: Repetir caracteres\n",
        "* Cree una función que reciba una cadena.\n",
        "* Diremos que el `inicio` son los primeros tres caracteres de la cadena.\n",
        "* Si la longitud de la cadena es inferior a tres caracteres, el `inicio` será la propia cadena.\n",
        "* La función retorna una nueva cadena que consiste en tres repeticiones del `inicio`.\n",
        "* Ejemplos:\n",
        "    1. inicio_tres(\"Python\") ➞ \"PytPytPyt\"\n",
        "    2. inicio_tres(\"Cuchara\") ➞ \"CucCucCuc\"\n",
        "    3. inicio_tres(\"biofrutas\") ➞ \"biobiobio\"\n",
        "    4. inicio_tres(\"Hi\") ➞ \"HiHiHi\"\n"
      ],
      "metadata": {
        "id": "eJnHHpRnz6TI"
      }
    },
    {
      "cell_type": "code",
      "source": [
        "def inicio_tres(cadena):\n",
        "    return cadena[:3] * 3\n",
        "\n",
        "def inicio_tres(s):\n",
        "    n = len(s)\n",
        "    inicio = s if  n < 3 else s[0] + s[1] + s[2]\n",
        "    return inicio * 3"
      ],
      "metadata": {
        "id": "pInG5Uv414lv"
      },
      "execution_count": null,
      "outputs": []
    },
    {
      "cell_type": "code",
      "source": [
        "print(inicio_tres(\"Python\"))\n",
        "print(inicio_tres(\"Cuchara\"))\n",
        "print(inicio_tres(\"biofrutas\"))\n",
        "print(inicio_tres(\"Hi\"))"
      ],
      "metadata": {
        "colab": {
          "base_uri": "https://localhost:8080/"
        },
        "id": "ufIGl56f14lv",
        "outputId": "e0a9d079-ca76-4281-b286-23daae827e18"
      },
      "execution_count": null,
      "outputs": [
        {
          "output_type": "stream",
          "name": "stdout",
          "text": [
            "PytPytPyt\n",
            "CucCucCuc\n",
            "biobiobio\n",
            "HiHiHi\n"
          ]
        }
      ]
    },
    {
      "cell_type": "markdown",
      "source": [
        "## Reto 57: ¿Es Impar?\n",
        "* Escriba una función que devuelva `True` si el número entero recibido es impar y `False` si es par.\n",
        "* Tenemos una función que da error y además no funciona bien.\n",
        "* Trate de mejorar la función o refactorice el código resolviendo el reto por otro método.\n",
        "* Ejemplos:\n",
        "    1. es_impar(5) ➞ True\n",
        "    2. es_impar(8) ➞ False\n",
        "    3. es_impar(0) ➞ False\n",
        "    4. es_impar(-3) ➞ True\n",
        "* La función incorrecta es esta:\n",
        "\n",
        "```python\n",
        "def es_impar(n):\n",
        "\tif n % 2 == 0:\n",
        "\t\treturn True\n",
        "\telif n % 2 == 1\n",
        "\t\treturn False\n",
        "```"
      ],
      "metadata": {
        "id": "wWvRVfvSz6Yy"
      }
    },
    {
      "cell_type": "code",
      "source": [
        "def es_impar(n):\n",
        "    if n % 2 != 0:      # != 0\n",
        "        return True\n",
        "    else:               # else\n",
        "        return False\n",
        "\n",
        "def es_impar(n):\n",
        "    return n % 2 != 0\n",
        "\n",
        "def es_impar(n):\n",
        "    return bool(n % 2)\n",
        "\n",
        "def es_impar(n):\n",
        "    return n & 1 == 1   # operación bitwise AND"
      ],
      "metadata": {
        "id": "X8iuIe0b15l4"
      },
      "execution_count": null,
      "outputs": []
    },
    {
      "cell_type": "code",
      "source": [
        "print(es_impar(5))\n",
        "print(es_impar(8))\n",
        "print(es_impar(0))\n",
        "print(es_impar(-3))"
      ],
      "metadata": {
        "colab": {
          "base_uri": "https://localhost:8080/"
        },
        "id": "SElTbYI315l9",
        "outputId": "75b983d3-0e6e-4df8-c036-da58f1476877"
      },
      "execution_count": null,
      "outputs": [
        {
          "output_type": "stream",
          "name": "stdout",
          "text": [
            "True\n",
            "False\n",
            "False\n",
            "True\n"
          ]
        }
      ]
    },
    {
      "cell_type": "markdown",
      "source": [
        "## Reto 58: Cadena de guiones\n",
        "* Cree una función que tome un número `n` (entre 1 y 60) y devuelva una cadena de `n`guiones.\n",
        "* Ejemplos:\n",
        "    1. n_guiones(1) ➞ \"-\"\n",
        "    2. n_guiones(3) ➞ \"---\"\n",
        "    3. n_guiones(5) ➞ \"-----\"\n",
        "    4. n_guiones(60) ➞ \"------------------------------------------------------------\"\n"
      ],
      "metadata": {
        "id": "bafH9RmQz6eC"
      }
    },
    {
      "cell_type": "code",
      "source": [
        "def n_guiones(n):\n",
        "    return '-' * n\n",
        "\n",
        "def n_guiones(n):\n",
        "    texto = ''\n",
        "    for _ in range(n):\n",
        "        texto += '-'\n",
        "    return texto\n",
        "\n",
        "def n_guiones(n):\n",
        "    return ''.join(['-' for _ in range(n)])\n",
        "\n",
        "def n_guiones(n):\n",
        "    return ''.rjust(n, '-') #justifica una cadena, en este caso vacía, con n '_'\n",
        "\n",
        "def n_guiones(n):\n",
        "    return ''.ljust(n, '-') # justifica a la izquierda"
      ],
      "metadata": {
        "id": "tkZTXasH16zU"
      },
      "execution_count": null,
      "outputs": []
    },
    {
      "cell_type": "code",
      "source": [
        "print(n_guiones(1))\n",
        "print(n_guiones(3))\n",
        "print(n_guiones(5))\n",
        "print(n_guiones(60))"
      ],
      "metadata": {
        "colab": {
          "base_uri": "https://localhost:8080/"
        },
        "id": "ApY8dJLw16TK",
        "outputId": "3187cf6c-b9a5-4622-e714-df1a6b871fe4"
      },
      "execution_count": null,
      "outputs": [
        {
          "output_type": "stream",
          "name": "stdout",
          "text": [
            "-\n",
            "---\n",
            "-----\n",
            "------------------------------------------------------------\n"
          ]
        }
      ]
    },
    {
      "cell_type": "markdown",
      "source": [
        "## Reto 59: Área de un Rectángulo\n",
        "* Cree una función que calcule el área de un rectángulo.\n",
        "* Si los argumentos no son ambos estrictamente positivos la función retornará `None`.\n",
        "* Ejemplos:\n",
        "    1. area(3, 4) ➞ 12\n",
        "    2. area(10, 11) ➞ 110\n",
        "    3. area(-1, 5) ➞ None\n",
        "    4. area(4, -9) ➞ None\n",
        "    5. area(-2, -3) ➞ None\n",
        "    6. area(0, 2) ➞ None"
      ],
      "metadata": {
        "id": "88P3tWD8z6i-"
      }
    },
    {
      "cell_type": "code",
      "source": [
        "def area(base, altura):\n",
        "    if base <= 0 or altura <= 0:\n",
        "        return None\n",
        "    else:\n",
        "        return base * altura\n",
        "\n",
        "# usando un operador ternario\n",
        "def area(base, altura):\n",
        "    return base * altura if base > 0 and altura > 0 else None\n",
        "\n",
        "def area(b, h):\n",
        "    return b * h if (b>0) * (h>0) else None"
      ],
      "metadata": {
        "id": "0tSVkcli199U"
      },
      "execution_count": null,
      "outputs": []
    },
    {
      "cell_type": "code",
      "source": [
        "print(area(3, 4))\n",
        "print(area(10, 11))\n",
        "print(area(-1, 5))\n",
        "print(area(4, -9))\n",
        "print(area(-2, -3))\n",
        "print(area(0, 2))"
      ],
      "metadata": {
        "colab": {
          "base_uri": "https://localhost:8080/"
        },
        "id": "ZK06VeCm199Z",
        "outputId": "5f554edb-ebe2-4fe2-c822-c749355042a9"
      },
      "execution_count": null,
      "outputs": [
        {
          "output_type": "stream",
          "name": "stdout",
          "text": [
            "12\n",
            "110\n",
            "None\n",
            "None\n",
            "None\n",
            "None\n"
          ]
        }
      ]
    },
    {
      "cell_type": "markdown",
      "source": [
        "## Reto 60: Ver si una lista tiene cierto número\n",
        "* Escriba una función para verificar si una lista contiene el número dado.\n",
        "* Ejemplos:\n",
        "    1. check([1, 2, 3, 4, 5], 3) ➞ True\n",
        "    2. check([1, 1, 2, 1, 1], 3) ➞ False\n",
        "    3. check([5, 5, 5, 6], 5) ➞ True\n",
        "    4. check([], 5) ➞ False\n"
      ],
      "metadata": {
        "id": "AbBpdN1gz6n1"
      }
    },
    {
      "cell_type": "code",
      "source": [
        "def check(lista, num):\n",
        "    return num in lista\n",
        "\n",
        "def check(lista, numero):\n",
        "    for elemento in lista:\n",
        "        if elemento == numero:\n",
        "            return True\n",
        "    return False\n",
        "\n",
        "def check(lista, num):\n",
        "    return any(e == num for e in lista)\n",
        "\n",
        "# La función any() junto con una expresión generadora\n",
        "# compara cada elemento de la lista con el número dado.\n",
        "# Si algún elemento coincide, any() devuelve True; de lo contrario, devuelve False."
      ],
      "metadata": {
        "id": "3Ns5b2dH2_xH"
      },
      "execution_count": null,
      "outputs": []
    },
    {
      "cell_type": "code",
      "source": [
        "print(check([1, 2, 3, 4, 5], 3))\n",
        "print(check([1, 1, 2, 1, 1], 3))\n",
        "print(check([5, 5, 5, 6], 5))\n",
        "print(check([], 5))"
      ],
      "metadata": {
        "colab": {
          "base_uri": "https://localhost:8080/"
        },
        "id": "AQo234p22_xH",
        "outputId": "c077c47d-62a0-4c91-fe1d-190658fdb9a7"
      },
      "execution_count": null,
      "outputs": [
        {
          "output_type": "stream",
          "name": "stdout",
          "text": [
            "True\n",
            "False\n",
            "True\n",
            "False\n"
          ]
        }
      ]
    },
    {
      "cell_type": "markdown",
      "source": [
        "## Reto 61: ¿Es par o impar?\n",
        "* Cree una función que tome un número entero como argumento y devuelva \"par\" para números pares e \"impar\" para números impares.\n",
        "* Ejemplos:\n",
        "    1. par_impar(3) ➞ \"impar\"\n",
        "    2. par_impar(146) ➞ \"par\"\n",
        "    3. par_impar(-19) ➞ \"impar\"\n",
        "    4. par_impar(0) ➞ \"par\"\n"
      ],
      "metadata": {
        "id": "FRr7GkgBz6t5"
      }
    },
    {
      "cell_type": "code",
      "source": [
        "def par_impar(n):\n",
        "    if n % 2 == 0:\n",
        "        return \"par\"\n",
        "    else:\n",
        "        return \"impar\"\n",
        "\n",
        "def par_impar(n):\n",
        "    if n % 2:\n",
        "        return \"impar\"\n",
        "    return \"par\"\n",
        "\n",
        "# usando un operador ternario\n",
        "def par_impar(n):\n",
        "    return 'impar' if n % 2 else 'par'\n",
        "\n",
        "# usando un diccionario\n",
        "def par_impar(n):\n",
        "    paridad = {0: 'par', 1: 'impar'}\n",
        "    return paridad[n % 2]\n",
        "\n",
        "# divmod da el cociente y el resto\n",
        "def par_impar(n):\n",
        "    _, resto = divmod(n, 2)\n",
        "    return 'par' if resto == 0 else 'impar'"
      ],
      "metadata": {
        "id": "P2Rq2qQD2_V-"
      },
      "execution_count": null,
      "outputs": []
    },
    {
      "cell_type": "code",
      "source": [
        "print(par_impar(3))\n",
        "print(par_impar(146))\n",
        "print(par_impar(-19))\n",
        "print(par_impar(0))"
      ],
      "metadata": {
        "colab": {
          "base_uri": "https://localhost:8080/"
        },
        "id": "CsDyaIve2_V_",
        "outputId": "6083ab20-92bd-4e1d-8c06-ebfaded3d1fc"
      },
      "execution_count": null,
      "outputs": [
        {
          "output_type": "stream",
          "name": "stdout",
          "text": [
            "impar\n",
            "par\n",
            "impar\n",
            "par\n"
          ]
        }
      ]
    },
    {
      "cell_type": "markdown",
      "source": [
        "## Reto 62: Palabra plural o singular\n",
        "* Cree una función que tome una palabra y determine si es plural o no.\n",
        "* Para simplificar, consideraremos que una palabra es plural si termina en \"s\".\n",
        "* Ejemplos:\n",
        "    1. es_plural(\"cambios\") ➞ True\n",
        "    2. es_plural(\"cambio\") ➞ False\n",
        "    3. es_plural(\"dudas\") ➞ True\n",
        "    4. es_plural(\"camión\") ➞ False\n"
      ],
      "metadata": {
        "id": "DxN0UYoAz64b"
      }
    },
    {
      "cell_type": "code",
      "source": [
        "def es_plural(txt):\n",
        "    return txt[-1] == 's'\n",
        "\n",
        "# endswith()\n",
        "# verifica si la palabra termina con los caracteres especificados\n",
        "\n",
        "def es_plural(palabra):\n",
        "    return palabra.endswith('s')\n",
        "\n",
        "def es_plural(palabra):\n",
        "    return list(palabra).pop() == 's'"
      ],
      "metadata": {
        "id": "PKT6q_472_Ad"
      },
      "execution_count": null,
      "outputs": []
    },
    {
      "cell_type": "code",
      "source": [
        "print(es_plural(\"cambios\"))\n",
        "print(es_plural(\"dudas\"))\n",
        "print(es_plural(\"cambio\"))\n",
        "print(es_plural(\"camión\"))"
      ],
      "metadata": {
        "id": "O1uqhXPt2_Ad",
        "colab": {
          "base_uri": "https://localhost:8080/"
        },
        "outputId": "313ac2d1-f5b0-4d2b-8bff-e629dd866079"
      },
      "execution_count": null,
      "outputs": [
        {
          "output_type": "stream",
          "name": "stdout",
          "text": [
            "True\n",
            "True\n",
            "False\n",
            "False\n"
          ]
        }
      ]
    },
    {
      "cell_type": "markdown",
      "source": [
        "## Reto 63: Posiciones de conmutadores\n",
        "* Disponemos de `n` conmutadores de encendido/apagado (On/Off Switches).\n",
        "* Cree una función que devuelva cuántas disposiciones posibles pueden provenir de un determinado número de interruptores.\n",
        "* En otras palabras, para un número `n` de interruptores, ¿cuántos patrones diferentes de encendido y apagado podemos tener?\n",
        "* Ejemplos:\n",
        "    1. posiciones(1) ➞ 2\n",
        "    2. posiciones(3) ➞ 8\n",
        "    3. posiciones(10) ➞ 1024"
      ],
      "metadata": {
        "id": "Qr1u5eabzlbL"
      }
    },
    {
      "cell_type": "code",
      "source": [
        "def posiciones(n):\n",
        "    return 2 ** n\n",
        "\n",
        "def posiciones(n):\n",
        "    result = 1\n",
        "    for i in range(1, n+1):\n",
        "        result *= 2\n",
        "    return result\n",
        "\n",
        "# elevar con recursividad\n",
        "def posiciones(n):\n",
        "    if n == 0:\n",
        "        return 1\n",
        "    return 2 * posiciones(n - 1)"
      ],
      "metadata": {
        "id": "mSKKjr-V2-l8"
      },
      "execution_count": null,
      "outputs": []
    },
    {
      "cell_type": "code",
      "source": [
        "print(posiciones(1))\n",
        "print(posiciones(3))\n",
        "print(posiciones(10))"
      ],
      "metadata": {
        "id": "JqtW3Qxp2-l8",
        "colab": {
          "base_uri": "https://localhost:8080/"
        },
        "outputId": "67c1fccd-a71f-44b4-ecde-4051830c49d0"
      },
      "execution_count": null,
      "outputs": [
        {
          "output_type": "stream",
          "name": "stdout",
          "text": [
            "2\n",
            "8\n",
            "1024\n"
          ]
        }
      ]
    },
    {
      "cell_type": "markdown",
      "source": [
        "## Reto 64: ¿Es el último caracter una \"N\"?\n",
        "* Cree una función que tome una cadena (un nombre).\n",
        "* Si el último carácter del nombre es una \"n\", devuelve `True`; en caso contrario, devuelve `False`.\n",
        "* Ejemplos:\n",
        "    1. ultimo_caracter_n(\"Aaron\") ➞ True\n",
        "    2. ultimo_caracter_n(\"Pierre\") ➞ False\n",
        "    3. ultimo_caracter_n(\"Robert\") ➞ False\n",
        "    4. ultimo_caracter_n(\"Antón\") ➞ True\n",
        "    5. ultimo_caracter_n(\"CALVIN\") ➞ True\n"
      ],
      "metadata": {
        "id": "Yd1VWEmDz6zH"
      }
    },
    {
      "cell_type": "code",
      "source": [
        "def ultimo_caracter_n(nombre):\n",
        "    return nombre[-1].lower() == 'n'\n",
        "\n",
        "def ultimo_caracter_n(nombre):\n",
        "    return nombre.endswith('n') or nombre.endswith('N')\n",
        "\n",
        "def ultimo_caracter_n(nombre):\n",
        "    return nombre[-1] in {'n', 'N'}     # conjunto"
      ],
      "metadata": {
        "id": "vi4eW5r82-Ev"
      },
      "execution_count": null,
      "outputs": []
    },
    {
      "cell_type": "code",
      "source": [
        "print(ultimo_caracter_n(\"Aaron\"))\n",
        "print(ultimo_caracter_n(\"Antón\"))\n",
        "print(ultimo_caracter_n(\"CALVIN\"))\n",
        "print(ultimo_caracter_n(\"Pierre\"))\n",
        "print(ultimo_caracter_n(\"Robert\"))"
      ],
      "metadata": {
        "id": "1r7HmO9J2-Ev",
        "colab": {
          "base_uri": "https://localhost:8080/"
        },
        "outputId": "fb68e7f5-5117-4ae9-b775-2b98b942ced3"
      },
      "execution_count": null,
      "outputs": [
        {
          "output_type": "stream",
          "name": "stdout",
          "text": [
            "True\n",
            "True\n",
            "True\n",
            "False\n",
            "False\n"
          ]
        }
      ]
    },
    {
      "cell_type": "markdown",
      "source": [
        "## Reto 65: Descontrol en la empaquetadora\n",
        "* ¡El sistema de embalaje es un caos!\n",
        "* Los dulces se encuentran dispersos por todo el almacén, el cereal ha desaparecido y se ha colocado pan dentro de una botella.\n",
        "* ¿Qué está ocurriendo con esta máquina?\n",
        "* Los dulces deberían estar empaquetados en plástico, el pan dentro de una bolsa y las bebidas en botellas.\n",
        "* Sin embargo, la función de la máquina envasadora, `empaquetar()`, no está funcionando bien.\n",
        "* Cree correctamente la función para que se cumplan estos casos.\n",
        "* Ejemplos:\n",
        "    1. empaquetar(\"Pan\") ➞ \"bolsa\"\n",
        "    2. empaquetar(\"Cerveza\") ➞ \"botella\"\n",
        "    3. empaquetar(\"Caramelos\") ➞ \"plástico\"\n",
        "    4. empaquetar(\"Queso\") ➞ None"
      ],
      "metadata": {
        "id": "FoWAJyPBWeog"
      }
    },
    {
      "cell_type": "code",
      "source": [
        "def empaquetar(producto):\n",
        "    if producto == \"Pan\":\n",
        "        return 'bolsa'\n",
        "    elif producto == \"Cerveza\":\n",
        "        return 'botella'\n",
        "    elif producto == \"Caramelos\":\n",
        "        return 'plástico'\n",
        "    else:\n",
        "        return None\n",
        "\n",
        "# usando un Diccionario\n",
        "\n",
        "def empaquetar(producto):\n",
        "    contenedores = {\n",
        "        \"Pan\": \"bolsa\",\n",
        "        \"Cerveza\": \"botella\",\n",
        "        \"Caramelos\": \"plástico\"\n",
        "    }   # ventaja: se pueden añadir más productos aquí\n",
        "    if producto in contenedores:\n",
        "        return contenedores[producto]\n",
        "    else:\n",
        "        return None\n",
        "\n",
        "# usando get para ver si el producto está en el diccionario\n",
        "def empaquetar(producto):\n",
        "    # Diccionario que mapea productos a sus contenedores correspondientes\n",
        "    productos_contenedores = {\n",
        "        \"Pan\": \"bolsa\",\n",
        "        \"Cerveza\": \"botella\",\n",
        "        \"Caramelos\": \"plástico\"\n",
        "    }\n",
        "    return productos_contenedores.get(producto)\n",
        "\n",
        "# lista de tuplas\n",
        "def empaquetar(producto):\n",
        "    productos_contenedores = [\n",
        "        (\"Pan\", \"bolsa\"),\n",
        "        (\"Cerveza\", \"botella\"),\n",
        "        (\"Caramelos\", \"plástico\")\n",
        "    ]\n",
        "    for (prod, cont) in productos_contenedores:\n",
        "        if prod == producto:\n",
        "            return cont\n",
        "    return None\n",
        "\n",
        "# con dos listas y usando zip()\n",
        "def empaquetar(producto):\n",
        "    productos = [\"Caramelos\", \"Pan\", \"Cerveza\"]\n",
        "    envases = [\"plástico\", \"bolsa\", \"botella\"]\n",
        "    for p, e in zip(productos, envases):\n",
        "        if producto == p:\n",
        "            return e\n",
        "    return None\n",
        "\n",
        "# con dos listas relacionando elementos por su index\n",
        "def empaquetar(producto):\n",
        "    productos = [\"Caramelos\", \"Pan\", \"Cerveza\"]\n",
        "    envases = [\"plástico\", \"bolsa\", \"botella\"]\n",
        "    for i in range(len(productos)):\n",
        "        if producto == productos[i]:\n",
        "            return envases[i]\n",
        "    return None"
      ],
      "metadata": {
        "id": "_4ljoLl229jX"
      },
      "execution_count": null,
      "outputs": []
    },
    {
      "cell_type": "code",
      "source": [
        "print(empaquetar(\"Pan\"))\n",
        "print(empaquetar(\"Cerveza\"))\n",
        "print(empaquetar(\"Caramelos\"))\n",
        "print(empaquetar(\"Queso\"))"
      ],
      "metadata": {
        "id": "-AliezYY29jY",
        "colab": {
          "base_uri": "https://localhost:8080/"
        },
        "outputId": "e65cc2bb-0128-4795-e6a6-989e682adc54"
      },
      "execution_count": null,
      "outputs": [
        {
          "output_type": "stream",
          "name": "stdout",
          "text": [
            "bolsa\n",
            "botella\n",
            "plástico\n",
            "None\n"
          ]
        }
      ]
    },
    {
      "cell_type": "markdown",
      "source": [
        "## Reto 66: Sumar una lista sin `sum`\n",
        "* Tenemos una función que no trabaja correctamente.\n",
        "* Corrija el código para que la función se ajuste a los siguientes ejemplos.\n",
        "* Ejemplos:\n",
        "\t1. suma_lista([1, 2, 3, 4, 5]) ➞ 15\n",
        "\t2. suma_lista([-1, 0, 1]) ➞ 0\n",
        "\t3. suma_lista([0, 4, 8, 12]) ➞ 24\n",
        "\n",
        "\n",
        "* Esta es la función que da problemas:\n",
        "```python\n",
        "def suma_lista(lista):\n",
        "\ttotal\n",
        "\tfor i in range(0,lista):\n",
        "\t\ttotal += lista[i]\n",
        "  return total\n",
        "```\n"
      ],
      "metadata": {
        "id": "UTLb81S6We2L"
      }
    },
    {
      "cell_type": "code",
      "source": [
        "# Método 1. Si nos dejaran usar sum\n",
        "def suma_lista(lista):\n",
        "    return sum(lista)\n",
        "\n",
        "# Método 2. Corrigiendo la función que daba problemas\n",
        "def suma_lista(lista):\n",
        "    total = 0\n",
        "    for i in range(0, len(lista)):\n",
        "        total += lista[i]\n",
        "    return total\n",
        "\n",
        "# Método 3\n",
        "def suma_lista(lista):\n",
        "    total = 0\n",
        "    for elemento in lista:\n",
        "        total += elemento\n",
        "    return total\n",
        "\n",
        "# Método 4. Suma recursiva\n",
        "def suma_lista(lista):\n",
        "    if len(lista) == 1:\n",
        "        return lista[0]\n",
        "    else:\n",
        "        return lista[0] + suma_lista(lista[1:])\n",
        "\n",
        "# Método 5. Usando reduce de la librería\n",
        "\n",
        "from functools import reduce\n",
        "\n",
        "def suma(a, b):\n",
        "    return a + b\n",
        "\n",
        "def suma_lista(lista):\n",
        "    return reduce(suma, lista)\n",
        "\n",
        "# Método 6. Creando mi propio reduce\n",
        "def mi_reduce(func, lista):\n",
        "    acumulador = 0\n",
        "    for elemento in lista:\n",
        "        acumulador = func(acumulador, elemento)\n",
        "    return acumulador\n",
        "\n",
        "def suma(a, b):\n",
        "    return a + b\n",
        "\n",
        "def suma_lista(lista):\n",
        "    return mi_reduce(suma, lista)"
      ],
      "metadata": {
        "id": "SBmLc3JI28vq"
      },
      "execution_count": null,
      "outputs": []
    },
    {
      "cell_type": "code",
      "source": [
        "print(suma_lista([1, 2, 3, 4, 5]))\n",
        "print(suma_lista([-1, 0, 1]))\n",
        "print(suma_lista([0, 4, 8, 12]))"
      ],
      "metadata": {
        "id": "b1m1a3qY28vr",
        "colab": {
          "base_uri": "https://localhost:8080/"
        },
        "outputId": "1f316bc5-b417-4a05-d04b-9e47ab50679a"
      },
      "execution_count": null,
      "outputs": [
        {
          "output_type": "stream",
          "name": "stdout",
          "text": [
            "15\n",
            "0\n",
            "24\n"
          ]
        }
      ]
    },
    {
      "cell_type": "markdown",
      "source": [
        "## Reto 67: Suma condicional\n",
        "* Cree una función que devuelva la suma de los elementos estrictamente menores que 10.\n",
        "* Ejemplos:\n",
        "    1. suma_menores_diez([1, 5, 11]) ➞ 6\n",
        "    2. suma_menores_diez([0, 9, 10, 50]) ➞ 9\n",
        "    3. suma_menores_diez([-3, -5, -11, 4]) ➞ -15"
      ],
      "metadata": {
        "id": "iw1lGCGYWe6T"
      }
    },
    {
      "cell_type": "code",
      "source": [
        "def suma_menores_diez(lista):\n",
        "    total = 0\n",
        "    for elemento in lista:\n",
        "        if elemento < 10:\n",
        "            total += elemento\n",
        "    return total\n",
        "\n",
        "def suma_menores_diez(arr):\n",
        "    return sum(e for e in arr if e < 10)\n",
        "\n",
        "def suma_menores_diez(arr):\n",
        "    return sum(filter(lambda x: x < 10, arr))\n",
        "\n",
        "def suma_menores_diez(arr):\n",
        "    return sum(e * (e < 10) for e in arr)\n",
        "\n",
        "def suma_menores_diez(lista):\n",
        "    return sum(map(lambda x: x * (x < 10), lista))\n",
        "\n",
        "def suma_menores_diez(lista):\n",
        "    condicion = [1 if elemento < 10 else 0 for elemento in lista]   # Array de 0's y 1's\n",
        "    return sum(condicion[i] * lista[i] for i in range(len(lista)))"
      ],
      "metadata": {
        "id": "vVnmLCjz28ay"
      },
      "execution_count": null,
      "outputs": []
    },
    {
      "cell_type": "code",
      "source": [
        "print(suma_menores_diez([1, 5, 11]))\n",
        "print(suma_menores_diez([0, 9, 10, 50]))\n",
        "print(suma_menores_diez([-3, -5, -11, 4]))"
      ],
      "metadata": {
        "id": "IgCHxJPI28az",
        "colab": {
          "base_uri": "https://localhost:8080/"
        },
        "outputId": "9b2b330b-334b-4885-f0e9-3a53ada03029"
      },
      "execution_count": null,
      "outputs": [
        {
          "output_type": "stream",
          "name": "stdout",
          "text": [
            "6\n",
            "9\n",
            "-15\n"
          ]
        }
      ]
    },
    {
      "cell_type": "markdown",
      "source": [
        "## Reto 68: Char to ASCII\n",
        "* Cree una función que devuelva el valor ASCII del carácter pasado.\n",
        "* Ejemplos:\n",
        "    1. ctoa(\"A\") ➞ 65\n",
        "    2. ctoa(\"z\") ➞ 122\n",
        "    3. ctoa(\"*\") ➞ 42\n",
        "    4. ctoa(\" \") ➞ 32"
      ],
      "metadata": {
        "id": "-hnzsWZ5We9y"
      }
    },
    {
      "cell_type": "code",
      "source": [
        "def ctoa(caracter):\n",
        "    return ord(caracter)"
      ],
      "metadata": {
        "id": "2m5JUPXe27wE"
      },
      "execution_count": null,
      "outputs": []
    },
    {
      "cell_type": "code",
      "source": [
        "print(ctoa(\"A\"))\n",
        "print(ctoa(\"z\"))\n",
        "print(ctoa(\"*\"))\n",
        "print(ctoa(\" \"))"
      ],
      "metadata": {
        "id": "sJK0kEkn27wE",
        "colab": {
          "base_uri": "https://localhost:8080/"
        },
        "outputId": "bebe0b7e-b5c6-47cd-9199-de858c96dca7"
      },
      "execution_count": null,
      "outputs": [
        {
          "output_type": "stream",
          "name": "stdout",
          "text": [
            "65\n",
            "122\n",
            "42\n",
            "32\n"
          ]
        }
      ]
    },
    {
      "cell_type": "markdown",
      "source": [
        "## Reto 69:  Separar palabras\n",
        "* La función recibe un caracter y una cadena.\n",
        "* La función retorna las palabras de la cadena separadas por el caracter recibido.\n",
        "* Ejemplos:\n",
        "    1. separar_palabras(\"_\", \"Python is fun\") ➞ \"Python_is_fun\"\n",
        "    2. separar_palabras(\"#\", \"hello world!\") ➞ \"hello#world!\"\n",
        "    3. separar_palabras(\"@\", \" \") ➞ \"@\"\n",
        "\n",
        "* Asegúrese de que no haya espacios entre palabras al devolver la función."
      ],
      "metadata": {
        "id": "ahhg7AhsWfBk"
      }
    },
    {
      "cell_type": "code",
      "source": [
        "def separar_palabras(caracter, frase):\n",
        "    return frase.replace(\" \", caracter)\n",
        "\n",
        "def separar_palabras(caracter, cadena):\n",
        "    lista_palabras = cadena.split()\n",
        "    print(\"palabras:\", lista_palabras)\n",
        "    if not lista_palabras:    # si la lista está vacía\n",
        "        return caracter\n",
        "    return caracter.join(lista_palabras)\n",
        "\n",
        "def separar_palabras(c, s):\n",
        "    l = s.split()\n",
        "    return c.join(l) if len(l) else c"
      ],
      "metadata": {
        "id": "NB4gFE4727a6"
      },
      "execution_count": null,
      "outputs": []
    },
    {
      "cell_type": "code",
      "source": [
        "print(separar_palabras(\"_\", \"Python is fun\"))\n",
        "print(separar_palabras(\"#\", \"hello world!\"))\n",
        "print(separar_palabras(\"@\", \" \"))"
      ],
      "metadata": {
        "id": "XWmUOZBK27a7",
        "colab": {
          "base_uri": "https://localhost:8080/"
        },
        "outputId": "ac858d39-79e2-4dbf-971d-fec7b8309481"
      },
      "execution_count": null,
      "outputs": [
        {
          "output_type": "stream",
          "name": "stdout",
          "text": [
            "Python_is_fun\n",
            "hello#world!\n",
            "@\n"
          ]
        }
      ]
    },
    {
      "cell_type": "markdown",
      "source": [
        "## Reto 70: Cambios de residencia\n",
        "* He comprobado que hay personas que se cambian de casa con más frecuencia que otras.\n",
        "* Me gustaría calcular cuánto tiempo, en promedio, una persona vive en la misma casa.\n",
        "* Dada la edad de una persona y el número de veces que se ha mudado de casa, devuelva el número promedio de años que ha pasado viviendo en la misma casa.\n",
        "* Ejemplos:\n",
        "    1. years_in_one_house(30, 1) ➞ 15\n",
        "    2. years_in_one_house(15, 2) ➞ 5\n",
        "    3. years_in_one_house(80, 0) ➞ 80\n"
      ],
      "metadata": {
        "id": "SXm49HoIWfE3"
      }
    },
    {
      "cell_type": "code",
      "source": [
        "def years_in_one_house(edad, mudanzas):\n",
        "    return edad / (mudanzas + 1)\n",
        "\n",
        "# función lambda\n",
        "years_in_one_house = lambda edad, mudanzas: edad / (mudanzas + 1)"
      ],
      "metadata": {
        "id": "t26q2fx0265I"
      },
      "execution_count": null,
      "outputs": []
    },
    {
      "cell_type": "code",
      "source": [
        "print(years_in_one_house(30, 1))\n",
        "print(years_in_one_house(15, 2))\n",
        "print(years_in_one_house(80, 0))"
      ],
      "metadata": {
        "id": "ujgZYzTp265J",
        "colab": {
          "base_uri": "https://localhost:8080/"
        },
        "outputId": "9194fa61-52d3-43d3-85aa-b76a93cf3c30"
      },
      "execution_count": null,
      "outputs": [
        {
          "output_type": "stream",
          "name": "stdout",
          "text": [
            "30.0\n",
            "7.5\n",
            "80.0\n"
          ]
        }
      ]
    },
    {
      "cell_type": "markdown",
      "source": [
        "## Reto 71: El complementario de un booleano\n",
        "* En programación, ciertos valores pueden ser evaluados como booleanos, donde algunos valores son equivalentes a Verdadero (`True`) y otros a Falso (`False`).\n",
        "* Por ejemplo, en muchos lenguajes de programación, 1 (o cualquier valor diferente de 0) se considera `True`, mientras que el valor 0 se considera `False`.\n",
        "* Cree una función que devuelva el complemento del booleano dado.\n",
        "* El complemento de un booleano se refiere a la inversión del valor booleano.\n",
        "* Independientemente del tipo de dato de entrada (booleano o entero), la función debe devolver 1 si el valor dado es considerado `False` y 0 si es considerado `True`.\n",
        "* Ejemplos:\n",
        "    1. flip_bool(True) ➞ 0\n",
        "    2. flip_bool(False) ➞ 1\n",
        "    3. flip_bool(1) ➞ 0\n",
        "    4. flip_bool(0) ➞ 1\n",
        "    5. flip_bool(7) ➞ 0"
      ],
      "metadata": {
        "id": "Wx_mr5JjWfIX"
      }
    },
    {
      "cell_type": "code",
      "source": [
        "def flip_bool(valor):\n",
        "    if valor:           # si valor es True\n",
        "        return 0\n",
        "    else:\n",
        "        return 1\n",
        "\n",
        "def flip_bool(valor):\n",
        "    return int(not valor)"
      ],
      "metadata": {
        "id": "qiCmNvJD26U4"
      },
      "execution_count": null,
      "outputs": []
    },
    {
      "cell_type": "code",
      "source": [
        "print(flip_bool(True))\n",
        "print(flip_bool(False))\n",
        "print(flip_bool(1))\n",
        "print(flip_bool(0))\n",
        "print(flip_bool(7))"
      ],
      "metadata": {
        "id": "WJ72Yci-26U4",
        "colab": {
          "base_uri": "https://localhost:8080/"
        },
        "outputId": "46cce858-0787-44a6-bbdd-aba71d7228d7"
      },
      "execution_count": null,
      "outputs": [
        {
          "output_type": "stream",
          "name": "stdout",
          "text": [
            "0\n",
            "1\n",
            "0\n",
            "1\n",
            "0\n"
          ]
        }
      ]
    },
    {
      "cell_type": "markdown",
      "source": [
        "## Reto 72: Comparando Arrays\n",
        "* La programadora [Ada Lovelace](https://es.wikipedia.org/wiki/Ada_Lovelace), está intentando crear una función que devuelva `True` si dos listas comparten la misma longitud y tienen valores numéricos idénticos en cada índice; de ​​lo contrario, devolverá `False`.\n",
        "* Sin embargo, la solución que ofrece su función tiene un formato inesperado.\n",
        "* ¿Puede arreglar la función de Ada para que se comporte como se ve en los ejemplos siguientes?\n",
        "* Ejemplos:\n",
        "\t1. comprobar_iguales([4, 7, 6], [4, 5, 6]) ➞ False\n",
        "\t2. comprobar_iguales([1, 2], [1, 3]) ➞ False\n",
        "\t3. comprobar_iguales([1, 2], [1, 2]) ➞ True\n",
        "\t4. comprobar_iguales([4, 5, 6], [4, 5, 12/2]) ➞ True\n",
        "\t5. comprobar_iguales([\"*\"], [chr(42)]) ➞ True\n",
        "\n",
        "* La función incorrecta es la siguiente:\n",
        "\n",
        "```python\n",
        "def comprobar_iguales(lst1, lst2):\n",
        "\tif [lst1[::] = lst2[::]]:\n",
        "\t\tprint(true)\n",
        "\telse:\n",
        "\t\tprint(false)\n",
        "```"
      ],
      "metadata": {
        "id": "wtBc_7IpWfMG"
      }
    },
    {
      "cell_type": "code",
      "source": [
        "def comprobar_iguales(lst1, lst2):\n",
        "    if lst1 == lst2:\n",
        "        return True\n",
        "    else:\n",
        "        return False\n",
        "\n",
        "def comprobar_iguales(lst1, lst2):\n",
        "    return lst1 == lst2\n",
        "\n",
        "def comprobar_iguales(lst1, lst2):\n",
        "    return all(x == y for x, y in zip(lst1, lst2))"
      ],
      "metadata": {
        "id": "W9sgghc425um"
      },
      "execution_count": null,
      "outputs": []
    },
    {
      "cell_type": "code",
      "source": [
        "print(comprobar_iguales([4, 7, 6], [4, 5, 6]))\n",
        "print(comprobar_iguales([1, 2], [1, 3]))\n",
        "print(comprobar_iguales([1, 2], [1, 2]))\n",
        "print(comprobar_iguales([4, 5, 6], [4, 5, 12/2]))\n",
        "print(comprobar_iguales([\"*\"], [chr(42)]))"
      ],
      "metadata": {
        "id": "NZSl50lY25um",
        "colab": {
          "base_uri": "https://localhost:8080/"
        },
        "outputId": "83d2232b-5fe8-4886-b709-c9d3b8657bdd"
      },
      "execution_count": null,
      "outputs": [
        {
          "output_type": "stream",
          "name": "stdout",
          "text": [
            "False\n",
            "False\n",
            "True\n",
            "True\n",
            "True\n"
          ]
        }
      ]
    },
    {
      "cell_type": "markdown",
      "source": [
        "## Reto 73: Perdiendo el primer carácter\n",
        "* Cree una función que tome una palabra y devuelva la nueva palabra sin incluir el primer carácter.\n",
        "* Ejemplos:\n",
        "    1. nueva_palabra(\"cosa\") ➞ \"osa\"\n",
        "    2. nueva_palabra(\"Foca\") ➞ \"oca\"\n",
        "    3. nueva_palabra(\"Hola\") ➞ \"ola\""
      ],
      "metadata": {
        "id": "LzDEJWljWfPr"
      }
    },
    {
      "cell_type": "code",
      "source": [
        "# Método 1\n",
        "def nueva_palabra(palabra):\n",
        "    return palabra[1:]\n",
        "\n",
        "# Método 2. Usando un bucle\n",
        "def nueva_palabra(palabra):\n",
        "    result = ''\n",
        "    for i in range(1, len(palabra)):\n",
        "        result += palabra[i]\n",
        "    return result\n",
        "\n",
        "# Método 3. Con list comprehension\n",
        "def nueva_palabra(palabra):\n",
        "    return ''.join([letra for letra in palabra[1:]])\n",
        "\n",
        "# Método 4. Convirtiendo la palabra en una lista\n",
        "def nueva_palabra(palabra):\n",
        "    return ''.join(list(palabra)[1:])"
      ],
      "metadata": {
        "id": "nrwigeCU25WF"
      },
      "execution_count": null,
      "outputs": []
    },
    {
      "cell_type": "code",
      "source": [
        "print(nueva_palabra(\"cosa\"))\n",
        "print(nueva_palabra(\"Foca\"))\n",
        "print(nueva_palabra(\"Hola\"))"
      ],
      "metadata": {
        "id": "a78Cervh25WF",
        "colab": {
          "base_uri": "https://localhost:8080/"
        },
        "outputId": "27bf3331-cb6b-4853-cd03-6b554b1b3ee0"
      },
      "execution_count": null,
      "outputs": [
        {
          "output_type": "stream",
          "name": "stdout",
          "text": [
            "osa\n",
            "oca\n",
            "ola\n"
          ]
        }
      ]
    },
    {
      "cell_type": "markdown",
      "source": [
        "## Reto 74: Área de la figura\n",
        "* Escriba una función que acepte base, altura y forma (\"triángulo\", \"paralelogramo\") como entrada y calcule el área de esa figura.\n",
        "* La base y la altura pueden ser números que contengan decimales.\n",
        "* El área de un triángulo es `b * h / 2`.\n",
        "* El área de un paralelogramo es `b * h`.\n",
        "* Ejemplos:\n",
        "    1. area_figura(2, 3, \"triángulo\") ➞ 3\n",
        "    2. area_figura(8, 6, \"paralelogramo\") ➞ 48\n",
        "    3. area_figura(2.9, 1.3, \"paralelogramo\") ➞ 3.77\n",
        "    4. area_figura(2.8, 10.5, \"triángulo\") ➞ 14.7\n",
        "    5. area_figura(3, 7, \"elipse\") ➞ None\n",
        "\n",
        "* Observe que triángulo lleva tilde.\n",
        "* Para cualquier otra figura que no sea un triángulo o un paralelogramo la función retornará `None`."
      ],
      "metadata": {
        "id": "oWNqE80mWfTn"
      }
    },
    {
      "cell_type": "code",
      "source": [
        "# Método 1. Con condicional if\n",
        "def area_figura(b, h, figura):\n",
        "    if figura.lower() == 'triángulo':\n",
        "        return b * h / 2\n",
        "    elif figura.lower() == 'paralelogramo':\n",
        "        return b * h\n",
        "    else:\n",
        "        return None\n",
        "\n",
        "# Método 2. Con un diccionario y con get\n",
        "def area_figura(base, altura, forma):\n",
        "    formulas = {\n",
        "        \"triángulo\": lambda b, h: b * h / 2,\n",
        "        \"paralelogramo\": lambda b, h: b * h\n",
        "    }\n",
        "    area = formulas.get(forma.lower())\n",
        "    if area:\n",
        "        return area(base, altura)\n",
        "    else:\n",
        "        return None\n",
        "\n",
        "# Método 3. Con un diccionario y sin get\n",
        "def area_figura(base, altura, forma):\n",
        "    formulas = {\n",
        "        \"triángulo\": lambda b, h: b * h / 2,\n",
        "        \"paralelogramo\": lambda b, h: b * h\n",
        "    }\n",
        "    if forma.lower() in formulas:\n",
        "        return formulas[forma.lower()](base, altura)\n",
        "    else:\n",
        "        return None"
      ],
      "metadata": {
        "id": "vr3uuHxJ248I"
      },
      "execution_count": null,
      "outputs": []
    },
    {
      "cell_type": "code",
      "source": [
        "print(area_figura(2, 3, \"triángulo\"))\n",
        "print(area_figura(8, 6, \"paralelogramo\"))\n",
        "print(area_figura(2.9, 1.3, \"paralelogramo\"))\n",
        "print(area_figura(2.8, 10.5, \"triángulo\"))\n",
        "print(area_figura(3, 7, \"elipse\"))"
      ],
      "metadata": {
        "id": "MLUu_A-T248I",
        "colab": {
          "base_uri": "https://localhost:8080/"
        },
        "outputId": "8c194fd0-a93e-4a25-e7b7-6d6e9978a9f3"
      },
      "execution_count": null,
      "outputs": [
        {
          "output_type": "stream",
          "name": "stdout",
          "text": [
            "3.0\n",
            "48\n",
            "3.77\n",
            "14.7\n",
            "None\n"
          ]
        }
      ]
    },
    {
      "cell_type": "markdown",
      "source": [
        "## Reto 75: Mitad, cuarto y octavo\n",
        "* Cree una función que tome un número y devuelva una lista de tres números:\n",
        "    1. la mitad del número\n",
        "    2. un cuarto del número y\n",
        "    3. un octavo del número\n",
        "* Ejemplos:\n",
        "    1. en_partes(6) ➞ [3.0, 1.5, 0.75]\n",
        "    2. en_partes(22) ➞ [11, 5.5, 2.75]\n",
        "    3. en_partes(25) ➞ [12.5, 6.25, 3.125]\n",
        "    4. en_partes(400) ➞ [200.0, 100.0, 50.0]"
      ],
      "metadata": {
        "id": "f1wFUd3JWfWo"
      }
    },
    {
      "cell_type": "code",
      "source": [
        "def en_partes(n):\n",
        "    return [n/2, n/4, n/8]\n",
        "\n",
        "def en_partes(n):\n",
        "    return [n / 2**i for i in range(1, 4)]\n",
        "\n",
        "def en_partes(n):\n",
        "    return list(map(lambda x: n / x, [2, 4, 8]))\n",
        "\n",
        "def en_partes(numero):\n",
        "    partes = []\n",
        "    for divisor in [2, 4, 8]:\n",
        "        partes.append(numero / divisor)\n",
        "    return partes\n",
        "\n",
        "def calcular_partes(numero):\n",
        "    partes = []\n",
        "    divisores = [2, 4, 8]\n",
        "    for divisor in divisores:\n",
        "        partes += [numero / divisor]\n",
        "    return partes\n",
        "\n",
        "def en_partes(numero):\n",
        "    return [numero / divisor for divisor in [2, 4, 8]]"
      ],
      "metadata": {
        "id": "DIMqzRoj24ps"
      },
      "execution_count": null,
      "outputs": []
    },
    {
      "cell_type": "code",
      "source": [
        "print(en_partes(6))\n",
        "print(en_partes(22))\n",
        "print(en_partes(25))\n",
        "print(en_partes(400))"
      ],
      "metadata": {
        "id": "vq28K5NL24ps",
        "colab": {
          "base_uri": "https://localhost:8080/"
        },
        "outputId": "8c9007e2-bc68-46ac-e70c-bb7e2194d2ea"
      },
      "execution_count": null,
      "outputs": [
        {
          "output_type": "stream",
          "name": "stdout",
          "text": [
            "[3.0, 1.5, 0.75]\n",
            "[11.0, 5.5, 2.75]\n",
            "[12.5, 6.25, 3.125]\n",
            "[200.0, 100.0, 50.0]\n"
          ]
        }
      ]
    },
    {
      "cell_type": "markdown",
      "source": [
        "## Reto 76: Contador condicional\n",
        "* Dada una lista de números enteros decir cuantos son mayores o iguales a 10.\n",
        "* Ejemplos:\n",
        "    1. mayores_a_diez([7, 10, 24, 1, 50]) ➞ 3\n",
        "    2. mayores_a_diez([1, 2, 20]) ➞ 1\n",
        "    3. mayores_a_diez([-1, 12, 20, 30]) ➞ 3\n",
        "    4. mayores_a_diez([]) ➞ 0"
      ],
      "metadata": {
        "id": "ByAlOR_yWfaa"
      }
    },
    {
      "cell_type": "code",
      "source": [
        "def mayores_a_diez(lista):\n",
        "    contador = 0\n",
        "    for numero in lista:\n",
        "        if numero >= 10:\n",
        "            contador += 1\n",
        "    return contador\n",
        "\n",
        "def mayores_a_diez(lista):\n",
        "    return sum([1 for numero in lista if numero >= 10])\n",
        "\n",
        "def mayores_a_diez(lista):\n",
        "    return len([1 for numero in lista if numero >= 10])\n",
        "\n",
        "def mayores_a_diez(lista):\n",
        "    return len(list(filter(lambda x: x >= 10, lista)))\n",
        "\n",
        "def mayores_a_diez(lista):\n",
        "    return sum(map(lambda x: x >= 10, lista))"
      ],
      "metadata": {
        "id": "sNzO90p524I_"
      },
      "execution_count": null,
      "outputs": []
    },
    {
      "cell_type": "code",
      "source": [
        "print(mayores_a_diez([7, 10, 24, 1, 50]))\n",
        "print(mayores_a_diez([1, 2, 20]))\n",
        "print(mayores_a_diez([-1, 12, 20, 30]))\n",
        "print(mayores_a_diez([]))"
      ],
      "metadata": {
        "id": "kc6Ck63C24I_",
        "colab": {
          "base_uri": "https://localhost:8080/"
        },
        "outputId": "e4d0eab8-4117-489a-e44d-0d65e3bcb1f9"
      },
      "execution_count": null,
      "outputs": [
        {
          "output_type": "stream",
          "name": "stdout",
          "text": [
            "3\n",
            "1\n",
            "3\n",
            "0\n"
          ]
        }
      ]
    },
    {
      "cell_type": "markdown",
      "source": [
        "## Reto 77: Encontrar el número mayor y menor\n",
        "* Cree una función que acepte una lista de números y devuelva los números mínimo y máximo, en ese orden (como una lista).\n",
        "* Ejemplos:\n",
        "    1. min_max([1, 2, 3, 4, 5]) ➞ [1, 5]\n",
        "    2. min_max([200, 5]) ➞ [5, 200]\n",
        "    3. min_max([1]) ➞ [1, 1]"
      ],
      "metadata": {
        "id": "QNz6oOpOWfeJ"
      }
    },
    {
      "cell_type": "code",
      "source": [
        "# Método 1. Usando max, min\n",
        "def min_max(lista):\n",
        "    return [min(lista), max(lista)]\n",
        "\n",
        "# Método 2. Usando for in\n",
        "def min_max(lista):\n",
        "    mayor = menor = lista[0]\n",
        "    for num in lista:\n",
        "        if num > mayor:\n",
        "            mayor = num\n",
        "        elif num < menor:\n",
        "            menor = num\n",
        "    return [menor, mayor]\n",
        "\n",
        "# Método 3. Usando operadores ternarios\n",
        "def min_max(lista):\n",
        "    mayor = menor = lista[0]\n",
        "    for num in lista:\n",
        "        menor = num if num < menor else menor\n",
        "        mayor = num if num > mayor else mayor\n",
        "    return [menor, mayor]\n",
        "\n",
        "# Método 4. Usando for range\n",
        "def min_max(lista):\n",
        "    mayor = menor = lista[0]\n",
        "    for i in range(1, len(lista)):\n",
        "        if lista[i] < menor:\n",
        "            menor = lista[i]\n",
        "        elif lista[i] > mayor:\n",
        "            mayor = lista[i]\n",
        "    return [menor, mayor]\n",
        "\n",
        "# Método 5. Ordenando la lista\n",
        "def min_max(lista):\n",
        "    lista_ordenada = sorted(lista)\n",
        "    menor = lista_ordenada[0]\n",
        "    mayor = lista_ordenada[-1]\n",
        "    return [menor, mayor]\n",
        "\n",
        "# Método 6. Ordenando la lista y con list comprehension\n",
        "def min_max(lista):\n",
        "    return [sorted(lista)[i] for i in (0, -1)]"
      ],
      "metadata": {
        "id": "SOQHaV1R23w6"
      },
      "execution_count": null,
      "outputs": []
    },
    {
      "cell_type": "code",
      "source": [
        "print(min_max([1, 2, 3, 4, 5]))\n",
        "print(min_max([200, 5]))\n",
        "print(min_max([1]))"
      ],
      "metadata": {
        "id": "9dJ5OYap23w_",
        "colab": {
          "base_uri": "https://localhost:8080/"
        },
        "outputId": "993c11fb-20e2-46ba-d3b9-c7bcde238a46"
      },
      "execution_count": null,
      "outputs": [
        {
          "output_type": "stream",
          "name": "stdout",
          "text": [
            "[1, 5]\n",
            "[5, 200]\n",
            "[1, 1]\n"
          ]
        }
      ]
    },
    {
      "cell_type": "markdown",
      "source": [
        "## Reto 78: Comprobar espacios en una cadena\n",
        "* Cree una función que devuelva `True` si una cadena contiene espacios.\n",
        "* Ejemplos:\n",
        "    1. tiene_espacios(\"¿Qué tal estás?\") ➞ True\n",
        "    2. tiene_espacios(\" \") ➞ True\n",
        "    3. tiene_espacios(\"\") ➞ False\n",
        "    4. tiene_espacios(\"hello\") ➞ False\n",
        "    5. tiene_espacios(\",./!@#\") ➞ False\n",
        "* Una cadena vacía no contiene espacios."
      ],
      "metadata": {
        "id": "ls0gwknEWfhq"
      }
    },
    {
      "cell_type": "markdown",
      "source": [
        "### Comentario\n",
        "* La función any() devuelve True si algún elemento de un iterable es True.\n",
        "* Si no, devuelve Falso."
      ],
      "metadata": {
        "id": "R2cy8T7IDJRe"
      }
    },
    {
      "cell_type": "code",
      "source": [
        "any([False, False, False, False])"
      ],
      "metadata": {
        "colab": {
          "base_uri": "https://localhost:8080/"
        },
        "id": "aszf0R1GCeuL",
        "outputId": "486a161d-fde6-4a92-c369-6ffdb547d41a"
      },
      "execution_count": null,
      "outputs": [
        {
          "output_type": "execute_result",
          "data": {
            "text/plain": [
              "False"
            ]
          },
          "metadata": {},
          "execution_count": 14
        }
      ]
    },
    {
      "cell_type": "code",
      "source": [
        "any([False, False, True, False])"
      ],
      "metadata": {
        "colab": {
          "base_uri": "https://localhost:8080/"
        },
        "id": "-uzzvzK3C6OV",
        "outputId": "f95a719d-5ece-41ca-ebe0-8c0ad1cbae81"
      },
      "execution_count": null,
      "outputs": [
        {
          "output_type": "execute_result",
          "data": {
            "text/plain": [
              "True"
            ]
          },
          "metadata": {},
          "execution_count": 15
        }
      ]
    },
    {
      "cell_type": "code",
      "source": [
        "# Método 1\n",
        "def tiene_espacios(cadena):\n",
        "    return ' ' in cadena\n",
        "\n",
        "# Método 2. Con bucle for\n",
        "def tiene_espacios(cadena):\n",
        "    for caracter in cadena:\n",
        "        if caracter == ' ':\n",
        "            return True\n",
        "    return False\n",
        "\n",
        "# Método 3. Con any\n",
        "def tiene_espacios(cadena):\n",
        "    return any(caracter == ' ' for caracter in cadena)\n",
        "# any() verifica si al menos un carácter es un espacio en blanco\n",
        "\n",
        "# Método 4. Con any y con isspace\n",
        "def tiene_espacios(cadena):\n",
        "    return any(caracter.isspace() for caracter in cadena)\n",
        "\n",
        "# Método 5. Con un generador\n",
        "def tiene_espacios(cadena):\n",
        "    return bool(sum(caracter == ' ' for caracter in cadena))"
      ],
      "metadata": {
        "id": "RN9WPfic23HY"
      },
      "execution_count": null,
      "outputs": []
    },
    {
      "cell_type": "code",
      "source": [
        "print(tiene_espacios(\"¿Qué tal estás?\"))\n",
        "print(tiene_espacios(\" \"))\n",
        "print(tiene_espacios(\"\"))\n",
        "print(tiene_espacios(\"hola\"))\n",
        "print(tiene_espacios(\",./!@#\"))"
      ],
      "metadata": {
        "id": "DCDFn7WN23HY",
        "colab": {
          "base_uri": "https://localhost:8080/"
        },
        "outputId": "c65f734a-0ccd-4db7-8f37-6d075e2bdb8f"
      },
      "execution_count": null,
      "outputs": [
        {
          "output_type": "stream",
          "name": "stdout",
          "text": [
            "True\n",
            "True\n",
            "False\n",
            "False\n",
            "False\n"
          ]
        }
      ]
    },
    {
      "cell_type": "markdown",
      "source": [
        "## Reto 79: ¿Cuántas letras 'd' hay?\n",
        "* Crea una función que cuente cuántas 'D' hay en una oración.\n",
        "* En el cálculo computan tanto las letras D mayúsculas como las minúsculas.\n",
        "* Su función no debe distinguir entre mayúsculas y minúsculas.\n",
        "* Ejemplos:\n",
        "    1. cuenta_d(\"Defender la democracia es decisivo\") ➞ 4\n",
        "    2. cuenta_d(\"Olvidamos deberes pero no derechos\") ➞ 3\n",
        "    3. cuenta_d(\"Eduardo hizo una despedida el domingo\") ➞ 6\n"
      ],
      "metadata": {
        "id": "QuGX0yp5WflL"
      }
    },
    {
      "cell_type": "code",
      "source": [
        "# Método 1. Con la función count()\n",
        "def cuenta_d(frase):\n",
        "    return frase.lower().count('d')\n",
        "\n",
        "# Método 2. Con un bucle y un contador\n",
        "def cuenta_d(frase):\n",
        "    contador = 0\n",
        "    for letra in frase:\n",
        "        if letra.lower() == 'd':\n",
        "            contador += 1\n",
        "    return contador\n",
        "\n",
        "# Método 3. Sumando un generador de unos y sin usar lower()\n",
        "def cuenta_d(frase):\n",
        "    return sum(1 for letra in frase if letra == 'd' or letra == 'D')\n",
        "\n",
        "# Método 4. Con filter\n",
        "def cuenta_d(frase):\n",
        "    return len(list(filter(lambda x: x.lower() == 'd', frase)))\n",
        "\n",
        "# Método 5. Con map\n",
        "def cuenta_d(frase):\n",
        "    return sum(map(lambda x: x in 'dD', frase))"
      ],
      "metadata": {
        "id": "GHuIhBn-22wC"
      },
      "execution_count": null,
      "outputs": []
    },
    {
      "cell_type": "code",
      "source": [
        "print(cuenta_d(\"Defender la democracia es decisivo\"))\n",
        "print(cuenta_d(\"Olvidamos deberes pero no derechos\"))\n",
        "print(cuenta_d(\"Eduardo hizo una despedida el domingo\"))"
      ],
      "metadata": {
        "id": "YnesfOs222wC",
        "colab": {
          "base_uri": "https://localhost:8080/"
        },
        "outputId": "e6c6513f-7bcb-489c-f0b4-45be2fb4aa02"
      },
      "execution_count": null,
      "outputs": [
        {
          "output_type": "stream",
          "name": "stdout",
          "text": [
            "4\n",
            "3\n",
            "6\n"
          ]
        }
      ]
    },
    {
      "cell_type": "markdown",
      "source": [
        "## Reto 80: Crear ID\n",
        "* Muchos IDs (para darse de alta en páginas o aplicaciones) se crean utilizando el nombre de la persona.\n",
        "* Cree una función que devolverá una identificación de cuatro caracteres utilizando el nombre y apellido de la persona.\n",
        "* El primer carácter será la primera letra del nombre pero en minúsculas.\n",
        "* Los siguientes tres caracteres serán los primeros tres caracteres del apellido, donde la primera letra estará en mayúscula y las otras dos en minúsculas.\n",
        "* Ejemplos:\n",
        "    1. crear_id(\"maría\", \"ruiz\") ➞ \"mRui\"\n",
        "    2. crear_id(\"Juan\", \"Martín\") ➞ \"jMar\"\n",
        "    3. crear_id(\"Andrew\", \"McDonald\") ➞ \"aMcd\""
      ],
      "metadata": {
        "id": "-4yhXaL2Wfos"
      }
    },
    {
      "cell_type": "markdown",
      "source": [
        "### Comentario\n",
        "* `capitalize()` convierte en mayúscula solo la primera letra de la cadena.\n",
        "* `title()` convierte en mayúscula la primera letra de cada palabra en la cadena."
      ],
      "metadata": {
        "id": "l7PLEg8mT83u"
      }
    },
    {
      "cell_type": "code",
      "source": [
        "cadena = \"hola mundo planetaTierra\"\n",
        "cadena.capitalize()"
      ],
      "metadata": {
        "colab": {
          "base_uri": "https://localhost:8080/",
          "height": 35
        },
        "id": "zUSofmnlUaLT",
        "outputId": "1d341adc-abfa-45a5-8786-b58de93b2313"
      },
      "execution_count": null,
      "outputs": [
        {
          "output_type": "execute_result",
          "data": {
            "text/plain": [
              "'Hola mundo planetatierra'"
            ],
            "application/vnd.google.colaboratory.intrinsic+json": {
              "type": "string"
            }
          },
          "metadata": {},
          "execution_count": 2
        }
      ]
    },
    {
      "cell_type": "code",
      "source": [
        "cadena = \"hola mundo planetaTierra\"\n",
        "cadena.title()"
      ],
      "metadata": {
        "outputId": "172ea2f9-9e17-4167-9f59-fdb817004a68",
        "colab": {
          "base_uri": "https://localhost:8080/",
          "height": 35
        },
        "id": "IUn4-ewXUs9Q"
      },
      "execution_count": null,
      "outputs": [
        {
          "output_type": "execute_result",
          "data": {
            "text/plain": [
              "'Hola Mundo Planetatierra'"
            ],
            "application/vnd.google.colaboratory.intrinsic+json": {
              "type": "string"
            }
          },
          "metadata": {},
          "execution_count": 1
        }
      ]
    },
    {
      "cell_type": "code",
      "source": [
        "# Método 1\n",
        "def crear_id(nombre, apellido):\n",
        "    return nombre[0].lower() + apellido[0].upper() + apellido[1:3].lower()\n",
        "\n",
        "# Método 2\n",
        "def crear_id(nombre, apellido):\n",
        "    return nombre[0].lower() + apellido[:3].capitalize()\n",
        "\n",
        "# Método 3\n",
        "def crear_id(nombre, apellido):\n",
        "    return f\"{nombre[0].lower()}{apellido.title()[:3]}\""
      ],
      "metadata": {
        "id": "LzSG_QQi22SM"
      },
      "execution_count": null,
      "outputs": []
    },
    {
      "cell_type": "code",
      "source": [
        "print(crear_id(\"maría\", \"ruiz\"))\n",
        "print(crear_id(\"Juan\", \"Martín\"))\n",
        "print(crear_id(\"Andrew\", \"McDonald\"))"
      ],
      "metadata": {
        "id": "GduThGM722SR",
        "colab": {
          "base_uri": "https://localhost:8080/"
        },
        "outputId": "5d957f27-59e9-472b-bded-4a81b7771385"
      },
      "execution_count": null,
      "outputs": [
        {
          "output_type": "stream",
          "name": "stdout",
          "text": [
            "mRui\n",
            "jMar\n",
            "aMcd\n"
          ]
        }
      ]
    },
    {
      "cell_type": "markdown",
      "source": [
        "## Reto 81: Desempaquetando listas\n",
        "* Dada una lista de números como por ejemplo:\n",
        "    - lista = [10, 20, 30, 40, 50]\n",
        "* deseamos recoger el contenido de la lista en tres variables:  \n",
        "    - primero ➞ 10\n",
        "    - segundo ➞ 20\n",
        "    - resto ➞ [30, 40, 50]\n",
        "* La función devolverá el contenido de las tres variables separado por comas.\n",
        "* Ejemplos:\n",
        "    1. separa([10, 20, 30, 40, 50]) ➞ 10, 20, [30, 40, 50]\n",
        "    2. separa([7, 8, 9, 10, 11, 99]) ➞ 7, 8, [9, 10, 10, 99]\n"
      ],
      "metadata": {
        "id": "dARrW21OWfsd"
      }
    },
    {
      "cell_type": "code",
      "source": [
        "def separa(lista):\n",
        "    primero, segundo, *resto = lista\n",
        "    return f\"{primero}, {segundo}, {resto}\"\n",
        "\n",
        "def separa(lista):\n",
        "    return f\"{lista[0]}, {lista[1]}, {lista[2:]}\"\n",
        "\n",
        "def separa(lista):\n",
        "    primero = lista.pop(0)\n",
        "    segundo = lista.pop(0)\n",
        "    resto = lista\n",
        "    return f\"{primero}, {segundo}, {resto}\""
      ],
      "metadata": {
        "id": "i33fmZ9U21ho"
      },
      "execution_count": null,
      "outputs": []
    },
    {
      "cell_type": "code",
      "source": [
        "print(separa([10, 20, 30, 40, 50]))\n",
        "print(separa([7, 8, 9, 10, 11, 99]))"
      ],
      "metadata": {
        "id": "4GfX9iwP21ho",
        "colab": {
          "base_uri": "https://localhost:8080/"
        },
        "outputId": "5d0d5ab4-34db-4bba-d184-2134637f58ff"
      },
      "execution_count": null,
      "outputs": [
        {
          "output_type": "stream",
          "name": "stdout",
          "text": [
            "10, 20, [30, 40, 50]\n",
            "7, 8, [9, 10, 11, 99]\n"
          ]
        }
      ]
    },
    {
      "cell_type": "markdown",
      "source": [
        "## Reto 82: Lista con múltiplos de 3 y 5\n",
        "* Cree una función que, dada una secuencia de números enteros en forma de lista, identifique y devuelva una lista con aquellos números que son simultáneamente múltiplos de 3 y múltiplos de 5.\n",
        "* Ejemplos:\n",
        "    1. multiplos_de_3_y_5([1, 200, 300, 45, 500, 1000, 150, 600]) ➞ [300, 45, 150, 600]\n",
        "    2. multiplos_de_3_y_5([15, 20, 25, 30, 35, 40]) ➞ [15, 30]\n",
        "    3. multiplos_de_3_y_5([16, 17, 18]) ➞ []\n",
        "    4. multiplos_de_3_y_5([]) ➞ []\n"
      ],
      "metadata": {
        "id": "lC4sJKLmWfwP"
      }
    },
    {
      "cell_type": "code",
      "source": [
        "def multiplos_de_3_y_5(lista):\n",
        "    multiplos = []\n",
        "    for numero in lista:\n",
        "        if numero % 3 == 0 and numero % 5 == 0:\n",
        "            multiplos.append(numero)\n",
        "    return multiplos\n",
        "\n",
        "def multiplos_de_3_y_5(lista):\n",
        "    return [num for num in lista if num % 15 == 0]\n",
        "\n",
        "def multiplos_de_3_y_5(lista):\n",
        "    es_multiplo_de_15 = lambda x: x % 15 == 0\n",
        "    multiplos = list(filter(es_multiplo_de_15, lista))\n",
        "    return multiplos\n",
        "\n",
        "from itertools import filterfalse\n",
        "\n",
        "def multiplos_de_3_y_5(lista):\n",
        "    no_es_multiplo_de_15 = lambda x: x % 15\n",
        "    multiplos = list(filterfalse(no_es_multiplo_de_15, lista))\n",
        "    return multiplos"
      ],
      "metadata": {
        "id": "1-kx8N_221HU"
      },
      "execution_count": null,
      "outputs": []
    },
    {
      "cell_type": "code",
      "source": [
        "print(multiplos_de_3_y_5([1, 200, 300, 45, 500, 1000, 150, 600]))\n",
        "print(multiplos_de_3_y_5([15, 20, 25, 30, 35, 40]))\n",
        "print(multiplos_de_3_y_5([16, 17, 18]))\n",
        "print(multiplos_de_3_y_5([]))"
      ],
      "metadata": {
        "id": "E8tvGgcW21HU",
        "colab": {
          "base_uri": "https://localhost:8080/"
        },
        "outputId": "fd7eee9e-865a-4641-9243-581883d19061"
      },
      "execution_count": null,
      "outputs": [
        {
          "output_type": "stream",
          "name": "stdout",
          "text": [
            "[300, 45, 150, 600]\n",
            "[15, 30]\n",
            "[]\n",
            "[]\n"
          ]
        }
      ]
    },
    {
      "cell_type": "markdown",
      "source": [
        "## Reto 83: AND, OR, NOT\n",
        "* Crear tres funciones que trabajen como puertas lógicas.\n",
        "* Las tres puertas lógicas son: `AND`, `OR` y `NOT`.\n",
        "* Ejemplos:\n",
        "    1. funcion_AND(1, 1) ➞ 1\n",
        "    2. funcion_AND(1, 0) ➞ 0\n",
        "    3. funcion_AND(0, 0) ➞ 0\n",
        "    4. funcion_OR(1, 0) ➞ 1\n",
        "    5. funcion_OR(1, 1) ➞ 1\n",
        "    6. funcion_OR(0, 0) ➞ 0\n",
        "    7. funcion_NOT(0) ➞ 1\n",
        "    8. funcion_NOT(1) ➞ 0"
      ],
      "metadata": {
        "id": "KNcxW8fKWfz-"
      }
    },
    {
      "cell_type": "code",
      "source": [
        "def funcion_AND(a, b):\n",
        "    return a and b\n",
        "\n",
        "def funcion_OR(a, b):\n",
        "    return a or b\n",
        "\n",
        "def funcion_NOT(a):\n",
        "    return int(not a)"
      ],
      "metadata": {
        "id": "98TnFL_E20nE"
      },
      "execution_count": null,
      "outputs": []
    },
    {
      "cell_type": "code",
      "source": [
        "print(funcion_AND(1, 1))\n",
        "print(funcion_AND(1, 0))\n",
        "print(funcion_AND(0, 0))\n",
        "print(funcion_OR(1, 0))\n",
        "print(funcion_OR(1, 1))\n",
        "print(funcion_OR(0, 0))\n",
        "print(funcion_NOT(0))\n",
        "print(funcion_NOT(1))"
      ],
      "metadata": {
        "id": "3F-g8EcB20nE",
        "colab": {
          "base_uri": "https://localhost:8080/"
        },
        "outputId": "d014e62b-05ae-4fc0-9259-eb19e2882d72"
      },
      "execution_count": null,
      "outputs": [
        {
          "output_type": "stream",
          "name": "stdout",
          "text": [
            "1\n",
            "0\n",
            "0\n",
            "1\n",
            "1\n",
            "0\n",
            "1\n",
            "0\n"
          ]
        }
      ]
    },
    {
      "cell_type": "markdown",
      "source": [
        "## Reto 84: Comprobar si todos son verdaderos\n",
        "* Cree una función que devuelva `True` si todos los parámetros son verdaderos y `False` en caso contrario.\n",
        "* Ejemplos:\n",
        "    1. todos_verdaderos(True, True, True) ➞ True\n",
        "    2. todos_verdaderos(True, False, True) ➞ False\n",
        "    3. todos_verdaderos(5, 4, 3, 2, 1, 0) ➞ False\n",
        "    4. todos_verdaderos(1, 1, 1, 1, 1, 1, 1, 1) ➞ True\n",
        "    5. todos_verdaderos(1, 1, 1, 1, 1, 1, 1, 2) ➞ True\n"
      ],
      "metadata": {
        "id": "d-AfwJ7yWf3c"
      }
    },
    {
      "cell_type": "code",
      "source": [
        "def todos_verdaderos(*args):\n",
        "    return all(args)\n",
        "\n",
        "def todos_verdaderos(*args):\n",
        "    for elemento in args:\n",
        "        if not elemento:\n",
        "            return False\n",
        "    return True"
      ],
      "metadata": {
        "id": "OsmiM-Ql20OH"
      },
      "execution_count": null,
      "outputs": []
    },
    {
      "cell_type": "code",
      "source": [
        "print(todos_verdaderos(True, True, True))\n",
        "print(todos_verdaderos(True, False, True))\n",
        "print(todos_verdaderos(5, 4, 3, 2, 1, 0))\n",
        "print(todos_verdaderos(1, 1, 1, 1, 1, 1, 1, 1))\n",
        "print(todos_verdaderos(1, 1, 1, 1, 1, 1, 1, 2))"
      ],
      "metadata": {
        "id": "2xWWa1CH20OH",
        "colab": {
          "base_uri": "https://localhost:8080/"
        },
        "outputId": "09ab8bd9-c47f-4d14-86a1-94699488e442"
      },
      "execution_count": null,
      "outputs": [
        {
          "output_type": "stream",
          "name": "stdout",
          "text": [
            "True\n",
            "False\n",
            "False\n",
            "True\n",
            "True\n"
          ]
        }
      ]
    },
    {
      "cell_type": "markdown",
      "source": [
        "## Reto 85: Convertir Euros a USD\n",
        "* Cree una función que pueda convertir cierta cantidad de Euros en dólares estadounidenses (USD).\n",
        "* Se ha de tomar el cambio de 1 dolar equivalente a 0,9218 Euros.\n",
        "* El resultado se redondeará a dos decimales.\n",
        "* Ejemplos:\n",
        "    1. euro_a_usd(1) ➞ 1.08\n",
        "    2. euro_a_usd(500) ➞ 542.42\n",
        "    3. euro_a_usd(10_000) ➞ 10848.34"
      ],
      "metadata": {
        "id": "FH4XlC6OWf7c"
      }
    },
    {
      "cell_type": "code",
      "source": [
        "def euro_a_usd(euros):\n",
        "    return round(euros / 0.9218, 2)\n",
        "\n",
        "def euro_a_usd(euros):\n",
        "    cambio = euros / 0.9218\n",
        "    return f\"{cambio:.2f}\""
      ],
      "metadata": {
        "id": "3Qmz8HBC2zyg"
      },
      "execution_count": null,
      "outputs": []
    },
    {
      "cell_type": "code",
      "source": [
        "print(euro_a_usd(1))\n",
        "print(euro_a_usd(500))\n",
        "print(euro_a_usd(10_000))"
      ],
      "metadata": {
        "id": "Tjmri6rD2zyg",
        "colab": {
          "base_uri": "https://localhost:8080/"
        },
        "outputId": "c5377ddb-be4f-4dcc-9aa9-20eb7fc1ea88"
      },
      "execution_count": null,
      "outputs": [
        {
          "output_type": "stream",
          "name": "stdout",
          "text": [
            "1.08\n",
            "542.42\n",
            "10848.34\n"
          ]
        }
      ]
    },
    {
      "cell_type": "markdown",
      "source": [
        "## Reto 86: Seguridad en el puente\n",
        "* Cree una función que verifique si es seguro caminar sobre un puente, es decir, si no hay espacios que representen huecos por los que se pueda caer.\n",
        "* Ejemplos:\n",
        "    1. puente_seguro(\"####\") ➞ True\n",
        "    2. puente_seguro(\"## ####\") ➞ False\n",
        "    3. puente_seguro(\"#\") ➞ True\n",
        "    4. puente_seguro(\"## ##  ##\") ➞ False\n",
        "    5. puente_seguro(\"\") ➞ True\n",
        "    6. puente_seguro(\" ####\") ➞ False"
      ],
      "metadata": {
        "id": "ypJ7z7jGWf-x"
      }
    },
    {
      "cell_type": "code",
      "source": [
        "def puente_seguro(puente):\n",
        "    return ' ' not in puente\n",
        "\n",
        "def puente_seguro(puente):\n",
        "    return all(char != ' ' for char in puente)\n",
        "\n",
        "def puente_seguro(puente):\n",
        "    return len(puente) == len(puente.replace(' ', ''))"
      ],
      "metadata": {
        "id": "phPva79s2ziE"
      },
      "execution_count": null,
      "outputs": []
    },
    {
      "cell_type": "code",
      "source": [
        "print(puente_seguro(\"####\"))\n",
        "print(puente_seguro(\"## ####\"))\n",
        "print(puente_seguro(\"#\"))\n",
        "print(puente_seguro(\"## ##  ##\"))\n",
        "print(puente_seguro(\"\"))\n",
        "print(puente_seguro(\" ####\"))"
      ],
      "metadata": {
        "id": "lFjp9oD42ziE",
        "colab": {
          "base_uri": "https://localhost:8080/"
        },
        "outputId": "f02f6ae2-41d5-4a93-8fb6-7613b24d238f"
      },
      "execution_count": null,
      "outputs": [
        {
          "output_type": "stream",
          "name": "stdout",
          "text": [
            "True\n",
            "False\n",
            "True\n",
            "False\n",
            "True\n",
            "False\n"
          ]
        }
      ]
    },
    {
      "cell_type": "markdown",
      "source": [
        "## Reto 87: Recrear la función `abs()`\n",
        "* La función `abs()` devuelve el valor absoluto de un número.\n",
        "* Esto significa que devuelve el valor positivo de ese número sin importar el signo.\n",
        "* Puede entenderse como la distancia desde cero hasta ese valor.\n",
        "* Cree una función que emule esta funcionalidad.\n",
        "* Ejemplos:\n",
        "    1. absoluto(-5) ➞ 5\n",
        "    2. absoluto(-3.14) ➞ 3.14\n",
        "    3. absoluto(25) ➞ 25\n",
        "    4. absoluto(0) ➞ 0\n",
        "\n"
      ],
      "metadata": {
        "id": "Va493IkPWgCd"
      }
    },
    {
      "cell_type": "code",
      "source": [
        "def absoluto(numero):\n",
        "    if numero < 0:\n",
        "        return -numero\n",
        "    return numero\n",
        "\n",
        "# usando un operador ternario\n",
        "def absoluto(n):\n",
        "    return n if n >= 0 else -n\n",
        "\n",
        "def absoluto(numero):\n",
        "    return (numero ** 2) ** 0.5     # retorna un float\n",
        "\n",
        "def absoluto(numero):\n",
        "    return max(numero, -numero)"
      ],
      "metadata": {
        "id": "NbvXv6T02zBC"
      },
      "execution_count": null,
      "outputs": []
    },
    {
      "cell_type": "code",
      "source": [
        "print(absoluto(-5))\n",
        "print(absoluto(-3.14))\n",
        "print(absoluto(25))\n",
        "print(absoluto(0))"
      ],
      "metadata": {
        "id": "Hrc1QXOy2zBC",
        "colab": {
          "base_uri": "https://localhost:8080/"
        },
        "outputId": "27f2ffd6-0f66-4404-ee1f-12a0f69d312c"
      },
      "execution_count": null,
      "outputs": [
        {
          "output_type": "stream",
          "name": "stdout",
          "text": [
            "5\n",
            "3.14\n",
            "25\n",
            "0\n"
          ]
        }
      ]
    },
    {
      "cell_type": "markdown",
      "source": [
        "## Reto 88: Diferencia de velocidades\n",
        "* Estamos probando patinetes en tandas de tres, y viendo la velocidad que puede alcanzar cada uno.\n",
        "* Deseamos conocer la diferencia de velocidades entre el más rápido y el más lento.\n",
        "* Ejemplos:\n",
        "    1. diferencia_velocidades(14, 33, 40) ➞ 26\n",
        "    2. diferencia_velocidades(33, 63, 35) ➞ 30\n",
        "    3. diferencia_velocidades(10, 15, 10) ➞ 5\n"
      ],
      "metadata": {
        "id": "-9AOkI9nnvy5"
      }
    },
    {
      "cell_type": "code",
      "source": [
        "# Método 1\n",
        "def diferencia_velocidades(a, b, c):\n",
        "    return max(a, b, c) - min(a, b, c)\n",
        "\n",
        "# Método 2\n",
        "def diferencia_velocidades(a, b, c):\n",
        "    velocidades = [a, b, c]\n",
        "    max = min = velocidades[0]\n",
        "    for v in velocidades:\n",
        "        max = v if v > max else max\n",
        "        min = v if v < min else min\n",
        "    return max - min\n",
        "\n",
        "# Método 3. Con sorted\n",
        "def diferencia_velocidades(a, b, c):\n",
        "    ordenadas = sorted([a, b, c])\n",
        "    return ordenadas[-1] - ordenadas[0]\n",
        "\n",
        "# Método 4. Se comparan las velocidades dos a dos\n",
        "def diferencia_velocidades(a, b, c):\n",
        "    max = min = a\n",
        "    if b > max:\n",
        "        max = b\n",
        "    elif b < min:\n",
        "        min = b\n",
        "    if c > max:\n",
        "        max = c\n",
        "    elif c < min:\n",
        "        min = c\n",
        "    return max - min"
      ],
      "metadata": {
        "id": "NXepDOfC2ylL"
      },
      "execution_count": null,
      "outputs": []
    },
    {
      "cell_type": "code",
      "source": [
        "print(diferencia_velocidades(14, 33, 40))\n",
        "print(diferencia_velocidades(33, 63, 35))\n",
        "print(diferencia_velocidades(10, 15, 10))"
      ],
      "metadata": {
        "colab": {
          "base_uri": "https://localhost:8080/"
        },
        "id": "Qjv7qsaKQ9CZ",
        "outputId": "0f6531fe-5c01-4a0d-80f4-4eb3d5ece8b9"
      },
      "execution_count": null,
      "outputs": [
        {
          "output_type": "stream",
          "name": "stdout",
          "text": [
            "26\n",
            "30\n",
            "5\n"
          ]
        }
      ]
    },
    {
      "cell_type": "markdown",
      "source": [
        "## Reto 89: Calculadora con operadores\n",
        "* Cree una función que tome dos números y un operador matemático y devuelva el resultado.\n",
        "* Las únicas operaciones utilizadas son las de los ejemplos que se muestran.\n",
        "* Ejemplos:\n",
        "    1. calculate(4, 9, \"+\") ➞ 13\n",
        "    2. calculate(12, 5, \"-\") ➞ 7\n",
        "    3. calculate(6, 3, \"*\") ➞ 18\n",
        "    4. calculate(25, 5, \"//\") ➞ 5\n",
        "    5. calculate(14, 3, \"%\") ➞ 2\n",
        "    6. calculate(7, 2, \"/\") ➞ 3.5\n"
      ],
      "metadata": {
        "id": "uVs2hSEXns-K"
      }
    },
    {
      "cell_type": "code",
      "source": [
        "def calculate(a, b, operacion):\n",
        "    if operacion == '+':\n",
        "        return a + b\n",
        "    elif operacion == '-':\n",
        "        return a - b\n",
        "    elif operacion == '*':\n",
        "        return a * b\n",
        "    elif operacion == '//':\n",
        "        return a // b\n",
        "    elif operacion == '%':\n",
        "        return a % b\n",
        "    elif operacion == '/':\n",
        "        return a / b\n",
        "\n",
        "def calculate(num1, num2, operador):\n",
        "    operaciones = {\n",
        "        \"+\": lambda x, y: x + y,\n",
        "        \"-\": lambda x, y: x - y,\n",
        "        \"*\": lambda x, y: x * y,\n",
        "        \"//\": lambda x, y: x // y,\n",
        "        \"%\": lambda x, y: x % y,\n",
        "        \"/\": lambda x, y: x / y\n",
        "    }\n",
        "    if operador in operaciones:\n",
        "        return operaciones[operador](num1, num2)\n",
        "    else:\n",
        "        return \"Operador no válido\"\n",
        "\n",
        "def calculate(num1, num2, operador):\n",
        "    return eval(f\"{num1} {operador} {num2}\")"
      ],
      "metadata": {
        "id": "46w4TPyW2yKd"
      },
      "execution_count": null,
      "outputs": []
    },
    {
      "cell_type": "code",
      "source": [
        "print(calculate(4, 9, \"+\"))\n",
        "print(calculate(12, 5, \"-\"))\n",
        "print(calculate(6, 3, \"*\"))\n",
        "print(calculate(25, 5, \"//\"))\n",
        "print(calculate(14, 3, \"%\"))\n",
        "print(calculate(7, 2, \"/\"))"
      ],
      "metadata": {
        "id": "KXB2sLIV2yKd",
        "colab": {
          "base_uri": "https://localhost:8080/"
        },
        "outputId": "62f87824-28fc-4bc1-fcea-1f68be74b020"
      },
      "execution_count": null,
      "outputs": [
        {
          "output_type": "stream",
          "name": "stdout",
          "text": [
            "13\n",
            "7\n",
            "18\n",
            "5\n",
            "2\n",
            "3.5\n"
          ]
        }
      ]
    },
    {
      "cell_type": "markdown",
      "source": [
        "## Reto 90: División entera para acceder a la lista\n",
        "* Cree una función que reciba una lista y una división entera.\n",
        "* La división entera se utiliza para calcular el índice necesario que nos permitirá acceder a un elemento específico en una lista.\n",
        "* Los dos parámetros de la función van en el siguiente orden:\n",
        "    - `valor_en_posicion(lista, division_entera)`\n",
        "* Ejemplos:\n",
        "    1. valor_en_posicion([10, 20, 30, 40, 50], 8 // 2) ➞ 50\n",
        "    2. valor_en_posicion([1, 2, 3, 4, 5, 6], 8.0 // 2) ➞ 5\n",
        "    3. valor_en_posicion([1, 2, 3, 4], 6.5 // 2) ➞ 4\n"
      ],
      "metadata": {
        "id": "jPmaP5SwntHU"
      }
    },
    {
      "cell_type": "code",
      "source": [
        "def valor_en_posicion(lista, division_entera):\n",
        "    return lista[int(division_entera)]\n",
        "\n",
        "def valor_en_posicion(lista, division_entera):\n",
        "    indice = round(division_entera)\n",
        "    return lista[indice]"
      ],
      "metadata": {
        "id": "W_nYKh1i2xtq"
      },
      "execution_count": null,
      "outputs": []
    },
    {
      "cell_type": "code",
      "source": [
        "print(valor_en_posicion([10, 20, 30, 40, 50], 8 // 2))\n",
        "print(valor_en_posicion([1, 2, 3, 4, 5, 6], 8.0 // 2))\n",
        "print(valor_en_posicion([1, 2, 3, 4], 6.5 // 2))"
      ],
      "metadata": {
        "id": "kzBKzbX42xtq",
        "colab": {
          "base_uri": "https://localhost:8080/"
        },
        "outputId": "0f2a5f34-b89f-4699-b936-d89e41885a88"
      },
      "execution_count": null,
      "outputs": [
        {
          "output_type": "stream",
          "name": "stdout",
          "text": [
            "50\n",
            "5\n",
            "4\n"
          ]
        }
      ]
    },
    {
      "cell_type": "markdown",
      "source": [
        "## Reto 91: Retornar el único elemento de un conjunto\n",
        "* Cree una función que recibe un conjunto que contiene un único elemento.\n",
        "* La función debe devolver ese elemento.\n",
        "* Ejemplos:\n",
        "    1. elemento_del_conjunto({'margarita'}) ➞ 'margarita'\n",
        "    2. elemento_del_conjunto({True}) ➞ True\n",
        "    3. elemento_del_conjunto({42}) ➞ 42\n"
      ],
      "metadata": {
        "id": "KWP95xcFntRL"
      }
    },
    {
      "cell_type": "markdown",
      "source": [
        "### Comentario\n",
        "* En Python, los conjuntos (set) no admiten indexación directa como las listas o tuplas.\n",
        "* Los conjuntos son estructuras de datos desordenadas y no indexadas, lo que significa que no se puede acceder a sus elementos mediante un índice numérico.\n",
        "* `conjunto[0]` da Error"
      ],
      "metadata": {
        "id": "qg-HsdEET2Za"
      }
    },
    {
      "cell_type": "code",
      "source": [
        "# Método 1. Convirtiendo el conjunto en lista\n",
        "def elemento_del_conjunto(conjunto):\n",
        "    return (list(conjunto))[0]  # los paréntesis son optativos\n",
        "\n",
        "# Método 2. Sin convertirlo en lista, usando la función pop()\n",
        "def elemento_del_conjunto(conjunto):\n",
        "    return conjunto.pop()\n",
        "\n",
        "# Método 3. Iterar a través del conjunto\n",
        "def elemento_del_conjunto(conjunto):\n",
        "    for elemento in conjunto:\n",
        "        return elemento"
      ],
      "metadata": {
        "id": "PW5IGVuv2xNH"
      },
      "execution_count": null,
      "outputs": []
    },
    {
      "cell_type": "code",
      "source": [
        "print(elemento_del_conjunto({'margarita'}))\n",
        "print(elemento_del_conjunto({True}))\n",
        "print(elemento_del_conjunto({42}))"
      ],
      "metadata": {
        "id": "z0DigmCk2xNH",
        "colab": {
          "base_uri": "https://localhost:8080/"
        },
        "outputId": "e6d2bc24-9698-4844-f76d-aea217492315"
      },
      "execution_count": null,
      "outputs": [
        {
          "output_type": "stream",
          "name": "stdout",
          "text": [
            "margarita\n",
            "True\n",
            "42\n"
          ]
        }
      ]
    },
    {
      "cell_type": "markdown",
      "source": [
        "## Reto 92: Cambiar\n",
        "* Cree una función que cambie el valor de entrada, devolviendo 0 si se ingresa 1 y retornando 1 si se ingresa 0.\n",
        "* Ejemplos:\n",
        "    1. flip(1) ➞ 0\n",
        "    2. flip(0) ➞ 1\n"
      ],
      "metadata": {
        "id": "_BVuN2sEntU_"
      }
    },
    {
      "cell_type": "code",
      "source": [
        "def flip(numero):\n",
        "    if numero == 1:\n",
        "        return 0\n",
        "    else:\n",
        "        return 1\n",
        "\n",
        "def flip(n):\n",
        "    return int(not n)\n",
        "\n",
        "def flip(numero):\n",
        "    return --(not numero)\n",
        "\n",
        "def flip(numero):\n",
        "    return abs(not numero)\n",
        "\n",
        "def flip(n):\n",
        "    return abs(n - 1)\n",
        "\n",
        "def flip(numero):\n",
        "    return {0: 1, 1: 0}.get(numero)\n",
        "\n",
        "def flip(numero):\n",
        "    return numero ^ 1"
      ],
      "metadata": {
        "id": "Xi2xGeAA2wvS"
      },
      "execution_count": null,
      "outputs": []
    },
    {
      "cell_type": "code",
      "source": [
        "print(flip(1))\n",
        "print(flip(0))"
      ],
      "metadata": {
        "id": "duSIwwzH2wvS",
        "colab": {
          "base_uri": "https://localhost:8080/"
        },
        "outputId": "aff862c3-7742-4f09-9672-de244dec86b5"
      },
      "execution_count": null,
      "outputs": [
        {
          "output_type": "stream",
          "name": "stdout",
          "text": [
            "0\n",
            "1\n"
          ]
        }
      ]
    },
    {
      "cell_type": "markdown",
      "source": [
        "## Reto 93: Título de texto\n",
        "* Cree una función que determine si un texto dado es un título de texto (Title String).\n",
        "* Se considera que un texto es un título si todas las palabras comienzan con una letra mayúscula.\n",
        "* Ejemplos:\n",
        "    1. es_titulo(\"Ciudades: Londres París Roma\") ➞ True\n",
        "    2. es_titulo(\"Prefiero New York!\") ➞ True\n",
        "    3. es_titulo(\"Veranear en Málaga\") ➞ False\n"
      ],
      "metadata": {
        "id": "eQq4-mUcntV5"
      }
    },
    {
      "cell_type": "code",
      "source": [
        "def es_titulo(texto):\n",
        "    return texto.title() == texto\n",
        "\n",
        "def es_titulo_texto(texto):\n",
        "    palabras = texto.split()    # Dividir en palabras\n",
        "    # Verificar si todas las palabras comienzan con mayúscula\n",
        "    for palabra in palabras:\n",
        "        if not palabra.istitle():  # Comprueba si la palabra comienza con mayúscula\n",
        "            return False  # Si alguna palabra no cumple, retorna False\n",
        "    return True     # Si todas las palabras cumplen, retorna True\n",
        "\n",
        "def es_titulo(texto):\n",
        "    palabras = texto.split()\n",
        "    return all(palabra.istitle() for palabra in palabras)"
      ],
      "metadata": {
        "id": "WD04B0aD2waV"
      },
      "execution_count": null,
      "outputs": []
    },
    {
      "cell_type": "code",
      "source": [
        "print(es_titulo(\"Ciudades: Londres París Roma\"))\n",
        "print(es_titulo(\"Prefiero New York!\"))\n",
        "print(es_titulo(\"Veranear en Málaga\"))"
      ],
      "metadata": {
        "id": "ZB_KMJDx2waW",
        "colab": {
          "base_uri": "https://localhost:8080/"
        },
        "outputId": "7d91b397-238f-4ca1-9348-d0f0dc3007e7"
      },
      "execution_count": null,
      "outputs": [
        {
          "output_type": "stream",
          "name": "stdout",
          "text": [
            "True\n",
            "True\n",
            "False\n"
          ]
        }
      ]
    },
    {
      "cell_type": "markdown",
      "source": [
        "## Reto 94: Rango de números\n",
        "* Cree un función que devuelva una lista de todos los números enteros entre el inicio y el final de dos números dados, excluidos estos.\n",
        "* Ejemplos:\n",
        "    1. rango_de_numeros(2, 4) ➞ [3]\n",
        "    2. rango_de_numeros(5, 9) ➞ [6, 7, 8]\n",
        "    3. rango_de_numeros(2, 11) ➞ [3, 4, 5, 6, 7, 8, 9, 10]\n",
        "    4. rango_de_numeros(2, 2) ➞ []"
      ],
      "metadata": {
        "id": "SGBGw1efntW0"
      }
    },
    {
      "cell_type": "code",
      "source": [
        "def rango_de_numeros(inicio, final):\n",
        "    return list(range(inicio+1, final))\n",
        "\n",
        "def rango_de_numeros(inicio, final):\n",
        "    numeros = []\n",
        "    for i in range(inicio + 1, final):\n",
        "        numeros.append(i)\n",
        "    return numeros"
      ],
      "metadata": {
        "id": "tAqNCBLf2wDB"
      },
      "execution_count": null,
      "outputs": []
    },
    {
      "cell_type": "code",
      "source": [
        "print(rango_de_numeros(2, 4))\n",
        "print(rango_de_numeros(5, 9))\n",
        "print(rango_de_numeros(2, 11))\n",
        "print(rango_de_numeros(2, 2))"
      ],
      "metadata": {
        "id": "NMGdFicL2wDB",
        "colab": {
          "base_uri": "https://localhost:8080/"
        },
        "outputId": "4dad8ec8-a916-47ed-e092-3f4fb54f23a9"
      },
      "execution_count": null,
      "outputs": [
        {
          "output_type": "stream",
          "name": "stdout",
          "text": [
            "[3]\n",
            "[6, 7, 8]\n",
            "[3, 4, 5, 6, 7, 8, 9, 10]\n",
            "[]\n"
          ]
        }
      ]
    },
    {
      "cell_type": "markdown",
      "source": [
        "## Reto 95: Atracción emocionante\n",
        "* En el nuevo parque de atracciones, han inaugurado una atracción emocionante que solo está disponible para visitantes de 12 años en adelante. Sin embargo, esta atracción solo puede ser disfrutada cuando el operador no está en su periodo de descanso.\n",
        "* El objetivo es crear un programa que determine si un usuario puede subirse a esta atracción. Para ello, se deben considerar dos condiciones: la edad del usuario y el estado del operador (si está en periodo de descanso o no).\n",
        "* Crear una función llamada `permitido_subir` que tome como parámetros la `edad` del usuario y un valor booleano que indica si el operador está en periodo de `descanso` o no. Esta función debe devolver `True` si el usuario cumple con la edad mínima requerida (12 años o más) y si el operador no está en periodo de descanso. En caso contrario, debe devolver `False`.\n",
        "* Ejemplos:\n",
        "    1. permitido_subir(9, False) ➞ False\n",
        "    2. permitido_subir(11, True) ➞ False\n",
        "    3. permitido_subir(16, False) ➞ True\n",
        "    4. permitido_subir(24, True) ➞ False"
      ],
      "metadata": {
        "id": "gOc0ZAwxntYc"
      }
    },
    {
      "cell_type": "code",
      "source": [
        "def permitido_subir(edad_usuario, operador_descansando):\n",
        "    if edad_usuario >= 12 and not operador_descansando:\n",
        "        return True\n",
        "    else:\n",
        "        return False\n",
        "\n",
        "def permitido_subir(edad, descanso):\n",
        "    return edad >= 12 and not descanso"
      ],
      "metadata": {
        "id": "_v2sVEKY2vms"
      },
      "execution_count": null,
      "outputs": []
    },
    {
      "cell_type": "code",
      "source": [
        "print(permitido_subir(9, False))\n",
        "print(permitido_subir(11, True))\n",
        "print(permitido_subir(16, False))\n",
        "print(permitido_subir(24, True))"
      ],
      "metadata": {
        "id": "WKzL1pGg2vms",
        "colab": {
          "base_uri": "https://localhost:8080/"
        },
        "outputId": "2bdc5fec-fe6c-49c1-c13b-b392fe3adf2a"
      },
      "execution_count": null,
      "outputs": [
        {
          "output_type": "stream",
          "name": "stdout",
          "text": [
            "False\n",
            "False\n",
            "True\n",
            "False\n"
          ]
        }
      ]
    },
    {
      "cell_type": "markdown",
      "source": [
        "## Reto 96: Todos verdaderos\n",
        "* Escriba una función llamada `todos_verdaderos` que tome un número variable de argumentos y devuelva `True` solo si todos los argumentos son verdaderos.\n",
        "* De lo contrario, debe devolver `False`.\n",
        "* Los argumentos pueden ser cualquier tipo de dato en Python.\n",
        "* Cuando en Python hablamos de un número indeterminado de parámetros estamos hablando de la sintaxis **\\*args**.\n",
        "* Ejemplos:\n",
        "    1. todos_verdaderos(True, True, True, True) ➞ True\n",
        "    2. todos_verdaderos(33, \"Hello\", \"False\", (True, True, 3)) ➞ True\n",
        "    3. todos_verdaderos(True, True, True, False) ➞ False\n",
        "    4. todos_verdaderos(0, False, [], {}) ➞ False\n",
        "    5. todos_verdaderos(True, None) ➞ False\n",
        "* `None` representa la ausencia de un valor en Python."
      ],
      "metadata": {
        "id": "MwftNXTGntYw"
      }
    },
    {
      "cell_type": "code",
      "source": [
        "def todos_verdaderos(*args):\n",
        "    for arg in args:\n",
        "        if not arg:\n",
        "            return False\n",
        "    return True\n",
        "\n",
        "def todos_verdaderos(*args):\n",
        "    return all(args)"
      ],
      "metadata": {
        "id": "c9ly1-Nl2vSo"
      },
      "execution_count": null,
      "outputs": []
    },
    {
      "cell_type": "code",
      "source": [
        "print(todos_verdaderos(True, True, True, True))\n",
        "print(todos_verdaderos(33, \"Hello\", \"False\", (False, [], 3)))\n",
        "print(todos_verdaderos(True, True, True, False))\n",
        "print(todos_verdaderos(0, False, [], {}))\n",
        "print(todos_verdaderos(True, None))"
      ],
      "metadata": {
        "id": "u7XhcE422vSo",
        "colab": {
          "base_uri": "https://localhost:8080/"
        },
        "outputId": "5fd97259-361e-4397-d1c0-aa9e89ca9559"
      },
      "execution_count": null,
      "outputs": [
        {
          "output_type": "stream",
          "name": "stdout",
          "text": [
            "True\n",
            "True\n",
            "False\n",
            "False\n",
            "False\n"
          ]
        }
      ]
    },
    {
      "cell_type": "markdown",
      "source": [
        "## Reto 97: Solo los primeros positivos\n",
        "* Escriba una función llamada `primeros_positivos` que recibe como parámetro una lista.\n",
        "* La lista recibida contiene números positivos, negativos o cero.\n",
        "* La función ha de retornar una lista que contenga únicamente los primeros positivos.\n",
        "* Al llegar a un cero o un número negativo no se retorna y tampoco todo lo posterior.\n",
        "* Ejemplos:\n",
        "    1. primeros_positivos([4, 9, 5, 0, 2, 4]) ➞ [4, 9, 5]\n",
        "    2. primeros_positivos([-2, 1, 6, 0, 3]) ➞ []\n",
        "    3. primeros_positivos([1, 3, 7, 2, -1, 6]) ➞ [1, 3, 7, 2]\n",
        "\n"
      ],
      "metadata": {
        "id": "FcGQDvBJntaT"
      }
    },
    {
      "cell_type": "code",
      "source": [
        "def primeros_positivos(lista):\n",
        "    for i, v in enumerate(lista):\n",
        "        if v <= 0:\n",
        "            return lista[:i]\n",
        "\n",
        "def primeros_positivos(lista):\n",
        "    resultado = []\n",
        "    for num in lista:\n",
        "        if num > 0:\n",
        "            resultado.append(num)\n",
        "        else:\n",
        "            break\n",
        "    return resultado\n",
        "\n",
        "def primeros_positivos(lista):\n",
        "    resultado = []\n",
        "    for num in lista:\n",
        "        if num <= 0:\n",
        "            break\n",
        "        resultado.append(num)\n",
        "    return resultado\n",
        "\n",
        "def primeros_positivos(lista):\n",
        "    return [num for i, num in enumerate(lista) if num > 0 and all(x > 0 for x in lista[:i])]\n",
        "\n",
        "from itertools import takewhile\n",
        "\n",
        "def primeros_positivos(lista):\n",
        "    return list(takewhile(lambda x: x > 0, lista))"
      ],
      "metadata": {
        "id": "YqOqeq092u4u"
      },
      "execution_count": null,
      "outputs": []
    },
    {
      "cell_type": "code",
      "source": [
        "print(primeros_positivos([4, 9, 5, 0, 2, 4]))\n",
        "print(primeros_positivos([-2, 1, 6, 0, 3]))\n",
        "print(primeros_positivos([1, 3, 7, 2, -1, 6]))"
      ],
      "metadata": {
        "id": "Z7eO75Ad2u4v",
        "colab": {
          "base_uri": "https://localhost:8080/"
        },
        "outputId": "ab7ab863-ef1d-48ac-9dd8-51cf17116b5f"
      },
      "execution_count": null,
      "outputs": [
        {
          "output_type": "stream",
          "name": "stdout",
          "text": [
            "[4, 9, 5, 2, 4]\n",
            "[1, 6, 3]\n",
            "[1, 3, 7, 2, 6]\n"
          ]
        }
      ]
    },
    {
      "cell_type": "markdown",
      "source": [
        "## Reto 98: El último elemento\n",
        "* Cree una función que devuelva el último valor de una lista o de una cadena.\n",
        "* Ejemplos:\n",
        "    1. ultimo([0, 4, 19, 34, 50, -9, 2]) ➞ 2\n",
        "    2. ultimo(\"pensar antes de hablar\") ➞ r\n",
        "    3. ultimo([]) ➞ None\n",
        "    4. ultimo(\"\") ➞ None\n",
        "* Las listas o las cadenas pueden ser de diferentes tamaños.\n",
        "* Devuelva `None` si la lista o la cadena está vacía.\n"
      ],
      "metadata": {
        "id": "4WL8wbnIntbH"
      }
    },
    {
      "cell_type": "code",
      "source": [
        "def ultimo(objeto):\n",
        "    if not objeto:\n",
        "        return None\n",
        "    return objeto[-1]\n",
        "\n",
        "# usando un operador ternario\n",
        "def ultimo(objeto):\n",
        "    return objeto[-1] if objeto else None"
      ],
      "metadata": {
        "id": "gu6KsdER2uUf"
      },
      "execution_count": null,
      "outputs": []
    },
    {
      "cell_type": "code",
      "source": [
        "print(ultimo([0, 4, 19, 34, 50, -9, 2]))\n",
        "print(ultimo(\"pensar antes de hablar\"))\n",
        "print(ultimo([]))\n",
        "print(ultimo(\"\"))"
      ],
      "metadata": {
        "id": "O7e5d4YD2uUf",
        "colab": {
          "base_uri": "https://localhost:8080/"
        },
        "outputId": "09c79b67-d268-4b2a-c655-bf8d3d1dbc32"
      },
      "execution_count": null,
      "outputs": [
        {
          "output_type": "stream",
          "name": "stdout",
          "text": [
            "2\n",
            "r\n",
            "None\n",
            "None\n"
          ]
        }
      ]
    },
    {
      "cell_type": "markdown",
      "source": [
        "## Reto 99: Valoración de clientes\n",
        "* Usted es el guía turístico de un grupo de turistas a los que lleva a conocer Madrid.\n",
        "* Después de cada visita le puntúan en la aplicación dando entre 1 y 5 estrellas.\n",
        "* El número de turistas que lleva en cada grupo es variable.\n",
        "* Cree una función que al recibir las estrellas con las que le han puntuado los diferentes turistas, devuelva el número de turistas que le han dado la mayor puntuación en ese grupo.\n",
        "* Ejemplos:\n",
        "    1. mejores_estrellas([4, 4, 3]) ➞ 2\n",
        "    2. mejores_estrellas([5, 4, 1, 5]) ➞ 2\n",
        "    3. mejores_estrellas([5, 3, 4, 4, 4, 3]) ➞ 1\n",
        "    4. mejores_estrellas([4, 3, 4, 4, 2]) ➞ 3"
      ],
      "metadata": {
        "id": "exl2j4CBntb6"
      }
    },
    {
      "cell_type": "code",
      "source": [
        "def mejores_estrellas(lista):\n",
        "    return lista.count(max(lista))\n",
        "\n",
        "def mejores_estrellas(lista):\n",
        "    return sum(1 for valor in lista if valor == max(lista))\n",
        "\n",
        "def mejores_estrellas(lista):\n",
        "    return len([v for v in lista if v == max(lista)])"
      ],
      "metadata": {
        "id": "hm6t3FMi2uCv"
      },
      "execution_count": null,
      "outputs": []
    },
    {
      "cell_type": "code",
      "source": [
        "print(mejores_estrellas([4, 4, 3]))\n",
        "print(mejores_estrellas([5, 4, 1, 5]))\n",
        "print(mejores_estrellas([5, 3, 4, 4, 4, 3]))\n",
        "print(mejores_estrellas([4, 3, 4, 4, 2]))"
      ],
      "metadata": {
        "id": "8mfEGG1A2uC1",
        "colab": {
          "base_uri": "https://localhost:8080/"
        },
        "outputId": "b6d15a54-e5f5-4391-d5f7-33f651b9c1e3"
      },
      "execution_count": null,
      "outputs": [
        {
          "output_type": "stream",
          "name": "stdout",
          "text": [
            "2\n",
            "2\n",
            "1\n",
            "3\n"
          ]
        }
      ]
    },
    {
      "cell_type": "markdown",
      "source": [
        "## Reto 100: Cantidad de patatas\n",
        "* Cree una función para devolver la cantidad de patatas que hay en una cadena.\n",
        "* Ejemplos:\n",
        "    1. cuenta_patatas(\"patata\") ➞ 1\n",
        "    2. cuenta_patatas(\"patatapatata\") ➞ 2\n",
        "    3. cuenta_patatas(\"patatamanzanapata\") ➞ 1\n",
        "    4. cuenta_patatas(\"patatatuti\"*7+\"patata\") ➞ 8"
      ],
      "metadata": {
        "id": "FHd6vvtLntcw"
      }
    },
    {
      "cell_type": "code",
      "source": [
        "def cuenta_patatas(cadena):\n",
        "    return cadena.count(\"patata\")\n",
        "\n",
        "def cuenta_patatas(cadena):\n",
        "    n = len(\"patata\")\n",
        "    return sum([1 for i in range(len(cadena) - n + 1) if cadena[i:i+n] == \"patata\"])\n",
        "\n",
        "def cuenta_patatas(cadena):\n",
        "    n = len(\"patata\")\n",
        "    return sum([cadena[i:i+n] == \"patata\" for i in range(len(cadena) - n + 1)])"
      ],
      "metadata": {
        "id": "N9K_UfSs2rjr"
      },
      "execution_count": null,
      "outputs": []
    },
    {
      "cell_type": "code",
      "source": [
        "print(cuenta_patatas(\"patata\"))\n",
        "print(cuenta_patatas(\"patatapatata\"))\n",
        "print(cuenta_patatas(\"patatamanzanapata\"))\n",
        "print(cuenta_patatas(\"patatatuti\"*7+\"patata\"))"
      ],
      "metadata": {
        "id": "hagmNzPd2rjs",
        "colab": {
          "base_uri": "https://localhost:8080/"
        },
        "outputId": "41a8ee99-25ed-46ca-8b0c-43863e282228"
      },
      "execution_count": null,
      "outputs": [
        {
          "output_type": "stream",
          "name": "stdout",
          "text": [
            "1\n",
            "2\n",
            "1\n",
            "8\n"
          ]
        }
      ]
    }
  ]
}
