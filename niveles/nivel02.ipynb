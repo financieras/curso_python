{
  "nbformat": 4,
  "nbformat_minor": 0,
  "metadata": {
    "colab": {
      "provenance": [],
      "authorship_tag": "ABX9TyP27PKJNQRtWk2uhBQljxSk",
      "include_colab_link": true
    },
    "kernelspec": {
      "name": "python3",
      "display_name": "Python 3"
    },
    "language_info": {
      "name": "python"
    }
  },
  "cells": [
    {
      "cell_type": "markdown",
      "metadata": {
        "id": "view-in-github",
        "colab_type": "text"
      },
      "source": [
        "<a href=\"https://colab.research.google.com/github/financieras/curso_python/blob/main/niveles/nivel02.ipynb\" target=\"_parent\"><img src=\"https://colab.research.google.com/assets/colab-badge.svg\" alt=\"Open In Colab\"/></a>"
      ]
    },
    {
      "cell_type": "markdown",
      "source": [
        "## Reto 101: Funciones Lambda\n",
        "* Using Lambda Functions\n",
        "* En una tienda en línea, necesitan desarrollar un programa para calcular el precio total de una compra, teniendo en cuenta el precio unitario de un producto y la cantidad de unidades adquiridas por el cliente.\n",
        "* Además, se debe aplicar un impuesto del 10% sobre el subtotal de la compra.\n",
        "* Escriba una función llamada `calcular_precio_total` que tome dos argumentos: `precio_unitario` y `cantidad`.\n",
        "* Esta función debe calcular el precio total de la compra, mostrar el subtotal, el monto de impuestos y el precio total con impuestos incluidos.\n",
        "* Ejemplo:\n",
        "    - calcular_precio_total(20, 3)\n",
        "    - Salida impresa:\n",
        "<pre>Subtotal:                    60.00 €\n",
        "    Impuestos:                    6.00 €\n",
        "    Precio total con impuestos:  66.00 €</pre>\n",
        "\n",
        "* Usar como función principal la función `calcular_precio_total(precio_unitario, cantidad)` y dentro de ella llamar a la función `calcular_impuestos(subtotal, impuesto)`.\n",
        "* En el Método 1 de resolución usar dos funciones, donde la principal llame a la secundaria.\n",
        "* En el Método 2 de resolución usar una función lambda dentro de la función principal."
      ],
      "metadata": {
        "id": "8NSafWBlntgA"
      }
    },
    {
      "cell_type": "code",
      "source": [
        "# Método 1. Usando dos funciones\n",
        "def calcular_impuestos(subtotal, impuesto):\n",
        "    return subtotal * impuesto\n",
        "\n",
        "def calcular_precio_total(precio_unitario, cantidad):\n",
        "    impuesto = 0.1  # 10% de impuesto sobre el precio\n",
        "    subtotal = precio_unitario * cantidad\n",
        "    total_impuestos = calcular_impuestos(subtotal, impuesto)\n",
        "    precio_con_impuestos = subtotal + total_impuestos\n",
        "    return subtotal, total_impuestos, precio_con_impuestos\n",
        "\n",
        "# Método 2. La función llamada es una función interna de tipo lambda\n",
        "def calcular_precio_total(precio_unitario, cantidad):\n",
        "    impuesto = 0.1  # 10% de impuesto sobre el precio\n",
        "    subtotal = precio_unitario * cantidad\n",
        "    calcular_impuestos = lambda subtotal, impuesto: subtotal * impuesto\n",
        "    total_impuestos = calcular_impuestos(subtotal, impuesto)\n",
        "    precio_con_impuestos = subtotal + total_impuestos\n",
        "    return subtotal, total_impuestos, precio_con_impuestos"
      ],
      "metadata": {
        "id": "NJ9nLr1g2qC1"
      },
      "execution_count": null,
      "outputs": []
    },
    {
      "cell_type": "code",
      "source": [
        "# Ejemplo de uso\n",
        "precio_unitario = 20\n",
        "cantidad = 3\n",
        "subtotal, total_impuestos, precio_total = calcular_precio_total(precio_unitario, cantidad)\n",
        "\n",
        "print(f\"Subtotal: {subtotal:>24.2f} €\")\n",
        "print(f\"Impuestos: {total_impuestos:>23.2f} €\")\n",
        "print(f\"Precio total con impuestos: {precio_total:>6.2f} €\")"
      ],
      "metadata": {
        "id": "bw3BvT1x2qC1",
        "outputId": "6f7c0289-b51c-4604-9245-a674f1d0ccf3",
        "colab": {
          "base_uri": "https://localhost:8080/"
        }
      },
      "execution_count": null,
      "outputs": [
        {
          "output_type": "stream",
          "name": "stdout",
          "text": [
            "Subtotal:                    60.00 €\n",
            "Impuestos:                    6.00 €\n",
            "Precio total con impuestos:  66.00 €\n"
          ]
        }
      ]
    },
    {
      "cell_type": "markdown",
      "source": [
        "## Reto 102: Generando enteros aleatorios\n",
        "* Random Integer Generator\n",
        "* Devuelva un número entero aleatorio `n` tal que `a <= n <= b`.\n",
        "* Ejemplos:\n",
        "    1. random_int(5, 9) ➞ 7\n",
        "    2. random_int(5, 9) ➞ 9\n",
        "    3. random_int(5, 9) ➞ 5"
      ],
      "metadata": {
        "id": "Tvfro9montfN"
      }
    },
    {
      "cell_type": "code",
      "source": [
        "# Método 1. Con randint\n",
        "import random\n",
        "\n",
        "def random_int(a, b):\n",
        "    return random.randint(a, b)\n",
        "\n",
        "# Método 2. Con randint y usando una función Lambda\n",
        "import random\n",
        "\n",
        "random_int = lambda a, b: random.randint(a, b)\n",
        "\n",
        "# Método 3. Con randrange\n",
        "import random\n",
        "\n",
        "random_int = lambda a, b: random.randrange(a, b + 1)"
      ],
      "metadata": {
        "id": "-43cJVAQ2qgu"
      },
      "execution_count": null,
      "outputs": []
    },
    {
      "cell_type": "code",
      "source": [
        "print(random_int(5, 9))\n",
        "print(random_int(5, 9))\n",
        "print(random_int(5, 9))\n",
        "print(random_int(5, 9))"
      ],
      "metadata": {
        "id": "ocXI3ipp2qgu",
        "outputId": "ead03320-52f3-4e5b-8a11-f94904126ac4",
        "colab": {
          "base_uri": "https://localhost:8080/"
        }
      },
      "execution_count": null,
      "outputs": [
        {
          "output_type": "stream",
          "name": "stdout",
          "text": [
            "6\n",
            "5\n",
            "7\n",
            "9\n"
          ]
        }
      ]
    },
    {
      "cell_type": "markdown",
      "source": [
        "## Reto 103: Rebanadas de un pastel\n",
        "* Slice of Pie\n",
        "* Cree una función que determine si es posible o no dividir un pastel de manera justa dados estos tres parámetros:\n",
        "    - Número total de rebanadas disponibles.\n",
        "    - Número de personas comensales.\n",
        "    - ¿Cuántas porciones recibe cada persona?\n",
        "* La función quedará de esta forma:\n",
        "    - rebanadas_iguales(rebanadas_disponibles, num_personas, rebanadas_por_persona)\n",
        "* Ejemplos:\n",
        "    1. rebanadas_iguales(11, 5, 2) ➞ True\n",
        "        * 5 personas x 2 rebanadas_por_persona = 10 rebanadas <= 11 rebanadas_disponibles\n",
        "    2. rebanadas_iguales(11, 5, 3) ➞ False\n",
        "        * 5 personas x 3 rebanadas_por_persona = 15 rebanadas > 11 rebanadas_disponibles\n",
        "    3. rebanadas_iguales(8, 3, 2) ➞ True\n",
        "    4. rebanadas_iguales(8, 3, 3) ➞ False\n",
        "    5. rebanadas_iguales(24, 12, 2) ➞ True"
      ],
      "metadata": {
        "id": "GP-E0baxntdj"
      }
    },
    {
      "cell_type": "code",
      "source": [
        "# Método 1\n",
        "def rebanadas_iguales(rebanadas_disponibles, num_personas, rebanadas_por_persona):\n",
        "    return num_personas * rebanadas_por_persona <= rebanadas_disponibles\n",
        "\n",
        "# Método 2. Función Lambda. x son las rebanadas por persona\n",
        "rebanadas_iguales = lambda disponibles, personas, x: personas * x <= disponibles"
      ],
      "metadata": {
        "id": "9ZuOqT2w2qz6"
      },
      "execution_count": null,
      "outputs": []
    },
    {
      "cell_type": "code",
      "source": [
        "print(rebanadas_iguales(8, 3, 2))\n",
        "print(rebanadas_iguales(8, 3, 3))\n",
        "print(rebanadas_iguales(24, 12, 2))"
      ],
      "metadata": {
        "id": "1XpRf9s22qz7",
        "outputId": "8b6bd398-1166-499f-ef76-9d5255b05c7f",
        "colab": {
          "base_uri": "https://localhost:8080/"
        }
      },
      "execution_count": null,
      "outputs": [
        {
          "output_type": "stream",
          "name": "stdout",
          "text": [
            "True\n",
            "False\n",
            "True\n"
          ]
        }
      ]
    },
    {
      "cell_type": "markdown",
      "source": [
        "## Reto 104: ¿El diccionario contiene la clave especificada?\n",
        "* Escriba una función que devuelva `True` si un diccionario contiene la clave especificada y `False` en caso contrario.\n",
        "* Ejemplos:\n",
        "    1. tiene_clave({ \"a\": 44, \"b\": 45, \"c\": 46 }, \"d\") ➞ False\n",
        "    2. tiene_clave({ \"rojo\": True, \"azul\": True, \"verde\": True }, \"rosa\") ➞ False\n",
        "    3. tiene_clave({ \"ene\": 1, \"feb\": 2, \"mar\": 3 }, \"feb\") ➞ True"
      ],
      "metadata": {
        "id": "y6GXjHrantgQ"
      }
    },
    {
      "cell_type": "code",
      "source": [
        "# Método 1\n",
        "def tiene_clave(diccionario, key):\n",
        "    return key in diccionario\n",
        "\n",
        "# Método 2\n",
        "def tiene_clave(diccionario, clave):\n",
        "    return diccionario.get(clave) is not None\n",
        "\n",
        "# Método 3\n",
        "def tiene_clave(diccionario, clave):\n",
        "    try:\n",
        "        valor = diccionario[clave]\n",
        "        return True\n",
        "    except KeyError:\n",
        "        return False\n",
        "\n",
        "# Método 4\n",
        "def tiene_clave(diccionario, clave):\n",
        "    return clave in diccionario.keys()\n",
        "\n",
        "# Método 5\n",
        "tiene_clave = lambda diccionario, clave: clave in diccionario.keys()"
      ],
      "metadata": {
        "id": "lUtSpTkm2pyo"
      },
      "execution_count": 35,
      "outputs": []
    },
    {
      "cell_type": "code",
      "source": [
        "print(tiene_clave({ \"a\": 44, \"b\": 45, \"c\": 46 }, \"d\"))\n",
        "print(tiene_clave({ \"rojo\": True, \"azul\": True, \"verde\": True }, \"rosa\"))\n",
        "print(tiene_clave({ \"ene\": 1, \"feb\": 2, \"mar\": 3 }, \"feb\"))"
      ],
      "metadata": {
        "id": "4Id-nUBn2pyu",
        "outputId": "edfb827a-24f3-4913-b8f6-bc8f062fc37a",
        "colab": {
          "base_uri": "https://localhost:8080/"
        }
      },
      "execution_count": 36,
      "outputs": [
        {
          "output_type": "stream",
          "name": "stdout",
          "text": [
            "False\n",
            "False\n",
            "True\n"
          ]
        }
      ]
    },
    {
      "cell_type": "markdown",
      "source": [
        "## Reto 105: Aplausos acalorados\n",
        "* Después de una actuación increíble, ¡el público enloquece!\n",
        "* La gente aplaude con entusiasmo y la mayoría de los aplausos se superponen entre sí para crear un sonido homogéneo.\n",
        "* Un aplauso superpuesto es un aplauso que comienza pero no termina, como en \"ClaClap\" (el primer aplauso se corta y en total hay 2 aplausos).\n",
        "* Dada una serie de cómo sonaron los aplausos superpuestos, indica cuántos aplausos se dieron en total.\n",
        "* Ejemplos:\n",
        "    1. count_claps(\"ClaClaClaClap!\") ➞ 4\n",
        "    2. count_claps(\"ClClClaClaClaClap!\") ➞ 6\n",
        "    3. count_claps(\"CCClaClClap!Clap!ClClClap!\") ➞ 9"
      ],
      "metadata": {
        "id": "w5FLCMCPnthv"
      }
    },
    {
      "cell_type": "code",
      "source": [
        "# Método 1\n",
        "def count_claps(cadena):\n",
        "    return cadena.count(\"C\")\n",
        "\n",
        "# Método 2\n",
        "count_claps = lambda cadena: cadena.count(\"C\")\n",
        "\n",
        "# Método 3\n",
        "def count_claps(sound):\n",
        "    return sum(1 for char in sound if char == 'C')"
      ],
      "metadata": {
        "id": "KlPp-5152pLp"
      },
      "execution_count": 42,
      "outputs": []
    },
    {
      "cell_type": "code",
      "source": [
        "print(count_claps(\"ClaClaClaClap!\"))\n",
        "print(count_claps(\"ClClClaClaClaClap!\"))\n",
        "print(count_claps(\"CCClaClClap!Clap!ClClClap!\"))"
      ],
      "metadata": {
        "id": "PWTY0I-o2pLq",
        "outputId": "97c02640-f56f-4c00-a14b-5cac55d7b63d",
        "colab": {
          "base_uri": "https://localhost:8080/"
        }
      },
      "execution_count": 43,
      "outputs": [
        {
          "output_type": "stream",
          "name": "stdout",
          "text": [
            "4\n",
            "6\n",
            "9\n"
          ]
        }
      ]
    },
    {
      "cell_type": "markdown",
      "source": [
        "## Reto 106: Palancas\n",
        "* Las palancas son máquinas simples compuestas de una barra rígida y un punto de apoyo.\n",
        "* Hay 3 tipos de palancas: primera clase, segunda clase y tercera clase.\n",
        "1. En una palanca de primera clase o primer grado, el punto de apoyo (pa) está situado en el medio, con el esfuerzo (o fuerza o potencia) (f) y la carga (o resistencia) (r) colocados uno frente al otro.\n",
        "2. En una palanca de segunda clase o segundo grado, el punto de apoyo está situado frente al esfuerzo y la carga en el medio.\n",
        "3. En una palanca de tercera clase o tercer grado, el punto de apoyo está situado frente a la carga y el esfuerzo en el medio.\n",
        "* Dada una lista que contiene el punto de apoyo \"pa\", el esfuerzo \"f\" y la carga \"r\", escriba una función que determine si la lista muestra o no una palanca de primera clase, una palanca de segunda clase o una palanca de tercera clase.\n",
        "* Ejemplos:\n",
        "    1. tipo_palanca([\"f\", \"pa\", \"r\"]) ➞ \"palanca de primera clase\"\n",
        "    2. tipo_palanca([\"f\", \"r\", \"pa\"]) ➞ \"palanca de segunda clase\"\n",
        "    3. tipo_palanca([\"pa\", \"f\", \"r\"]) ➞ \"palanca de tercera clase\""
      ],
      "metadata": {
        "id": "qI01PB12ntjb"
      }
    },
    {
      "cell_type": "code",
      "source": [
        "# Método 1\n",
        "def tipo_palanca(lista):\n",
        "    _, c, _ = lista\n",
        "    if c == \"pa\":\n",
        "        return \"palanca de primera clase\"\n",
        "    elif c == \"r\":\n",
        "        return \"palanca de segunda clase\"\n",
        "    elif c == \"f\":\n",
        "        return \"palanca de tercera clase\"\n",
        "\n",
        "# Método 2\n",
        "def tipo_palanca(lista):\n",
        "    # Diccionario que mapea la posición central de la lista al tipo de palanca\n",
        "    dic = {1: \"primera\", 2: \"segunda\", 3: \"tercera\"}\n",
        "    # Busca la posición del elemento central en la lista (\"pa\", \"r\", o \"f\")\n",
        "    elemento_central = lista[1]\n",
        "    indice_tipo = [\"pa\", \"r\", \"f\"].index(elemento_central)\n",
        "    # Incrementa el índice para que coincida con los tipos de palanca (1, 2, 3)\n",
        "    tipo = indice_tipo + 1\n",
        "    # Devuelve el tipo de palanca utilizando el diccionario y formateando la cadena de salida\n",
        "    return f\"palanca de {dic[tipo]} clase\""
      ],
      "metadata": {
        "id": "b5a9oJDA2os3"
      },
      "execution_count": 46,
      "outputs": []
    },
    {
      "cell_type": "code",
      "source": [
        "print(tipo_palanca([\"f\", \"pa\", \"r\"]))\n",
        "print(tipo_palanca([\"f\", \"r\", \"pa\"]))\n",
        "print(tipo_palanca([\"pa\", \"f\", \"r\"]))"
      ],
      "metadata": {
        "id": "XjGfanib2os3",
        "outputId": "e28d1a11-dfb8-43d0-d706-450609cd85af",
        "colab": {
          "base_uri": "https://localhost:8080/"
        }
      },
      "execution_count": 47,
      "outputs": [
        {
          "output_type": "stream",
          "name": "stdout",
          "text": [
            "palanca de primera clase\n",
            "palanca de segunda clase\n",
            "palanca de tercera clase\n"
          ]
        }
      ]
    },
    {
      "cell_type": "markdown",
      "source": [
        "## Reto 107: Redundancia booleana\n",
        "* Disponemos de un código con algún pequeño error.\n",
        "* Su objetivo es presentar una función lo más minimalista posible.\n",
        "* Escriba una función que devuelva la palabra \"par\" si el número entero dado es par y la palabra \"impar\" si es impar.\n",
        "* Tip: Convertir un booleano, o algo que finalmente se interpretará como booleano, en booleano es redundante.\n",
        "* Una comparación con <, <=, ==, !=, >=, > siempre dará como resultado un booleano, por lo tanto, usar la función bool() es totalmente innecesario.\n",
        "* boolean == True es redundante, ya que siempre devolverá booleano.\n",
        "* Para obtener el opuesto de un booleano podríamos usar booleano == False. pero ...\n",
        "* Sin embargo, una forma mucho más limpia de hacer esto es simplemente no comparar la condición con un booleano, ya que la condición en si misma ya es `True` o `False`.\n",
        "* Para preservar la legibilidad, evite declarar variables innecesarias.\n",
        "\n",
        "<pre>\n",
        "def paridad(n):\n",
        "\tresp = bool(n % 2)\n",
        "\tif res == False:\n",
        "\t\treturn \"par\"\n",
        "\tif res == True:\n",
        "\t\treturn \"impar\"\n",
        "</pre>\n",
        "\n",
        "* Ejemplos:\n",
        "\t1. paridad(4) ➞ par\n",
        "\t2. paridad(7) ➞ impar\n",
        "\t3. paridad(0) ➞ par"
      ],
      "metadata": {
        "id": "5LXqHRmbntkP"
      }
    },
    {
      "cell_type": "code",
      "source": [
        "# Método 1\n",
        "def paridad(n):\n",
        "\tif n % 2:\n",
        "\t\treturn \"impar\"\n",
        "\treturn \"par\"\n",
        "\n",
        "# Método 2. Usando un operador ternario\n",
        "def paridad(n):\n",
        "\treturn \"impar\" if n % 2 else \"par\""
      ],
      "metadata": {
        "id": "GPI4S25W2oHv"
      },
      "execution_count": null,
      "outputs": []
    },
    {
      "cell_type": "code",
      "source": [
        "print(paridad(4))\n",
        "print(paridad(7))\n",
        "print(paridad(0))"
      ],
      "metadata": {
        "id": "Art2XB5J2oHw",
        "outputId": "5d8cc94d-9054-4dc6-8fcb-2a8fc94f4982",
        "colab": {
          "base_uri": "https://localhost:8080/"
        }
      },
      "execution_count": null,
      "outputs": [
        {
          "output_type": "stream",
          "name": "stdout",
          "text": [
            "par\n",
            "impar\n",
            "par\n"
          ]
        }
      ]
    },
    {
      "cell_type": "markdown",
      "source": [
        "## Reto 108: Asignación destructiva\n",
        "* Dada una lista como por ejemplo esta:\n",
        "<pre>\n",
        "lista = [10, 20, 30]\n",
        "</pre>\n",
        "podemos recoger el primer elemento con la variable `primero` de esta forma:\n",
        "\n",
        "<pre>primero = lista[0]</pre>\n",
        "\n",
        "podemos recoger el último elemento con la variable `ultimo` así:\n",
        "<pre>ultimo = lista[-1]</pre>\n",
        "\n",
        "* Otra forma de conseguirlo es asignar variables\n",
        "\n",
        "<pre>primero, -, ultimo = [10, 20, 30]</pre>\n",
        "\n",
        "La variable `_` se usa habitualmente cuando se recogen valores que posteriormente no se usarán.\n",
        "\n",
        "* Cree una función que recoja los elementos centrales de un array, siendo la lista de longitud mayor o igual a tres.\n",
        "* Tip: explore el operador asterisco `*` que se utiliza para desempaquetar iterables.\n",
        "* Ejemplos:\n",
        "    1. centrales([10, 20, 30]) ➞ [20]\n",
        "    2. centrales([1, 2, 3, 4, 5, 6]) ➞ [2, 3, 4, 5]\n",
        "    3. centrales(['lun', 'mar', 'mie', 'jue', 'vie']) ➞ ['mar', 'mie', 'jue']"
      ],
      "metadata": {
        "id": "PI8eQe5EntlC"
      }
    },
    {
      "cell_type": "code",
      "source": [
        "# Método 1. Usando el operador asterisco\n",
        "def centrales(lista):\n",
        "    _, *nucleo, _ = lista\n",
        "    return nucleo\n",
        "\n",
        "# Método 2. Sin usar el operador asterisco\n",
        "def centrales(lista):\n",
        "    length = len(lista)\n",
        "    if length < 3:  # Si la lista tiene menos de tres elementos, no hay elementos centrales\n",
        "        return []\n",
        "    return lista[1: -1]"
      ],
      "metadata": {
        "id": "ylVC5c622nRb"
      },
      "execution_count": 54,
      "outputs": []
    },
    {
      "cell_type": "code",
      "source": [
        "print(centrales([10, 20, 30]))\n",
        "print(centrales([1, 2, 3, 4, 5, 6]))\n",
        "print(centrales(['lun', 'mar', 'mie', 'jue', 'vie']))"
      ],
      "metadata": {
        "id": "keliQ0bw2nRh",
        "outputId": "1fbffa8d-9aa8-45cc-d14b-7028c734a5e6",
        "colab": {
          "base_uri": "https://localhost:8080/"
        }
      },
      "execution_count": 55,
      "outputs": [
        {
          "output_type": "stream",
          "name": "stdout",
          "text": [
            "[20]\n",
            "[2, 3, 4, 5]\n",
            "['mar', 'mie', 'jue']\n"
          ]
        }
      ]
    },
    {
      "cell_type": "markdown",
      "source": [
        "## Reto 109: Corregir código con Bugs\n",
        "* El desafío consiste en corregir este código defectuoso, dadas las entradas `True` y `False`.\n",
        "* Consulte los ejemplos siguientes para conocer el resultado esperado.\n",
        "* Ejemplos:\n",
        "    1. contiene_bugs(True) ➞ \"A depurar código\"\n",
        "    2. contiene_bugs(False) ➞ \"Hoy es un buen día\"\n",
        "\n",
        "<pre>\n",
        "def contiene_bugs(buggy_code):\n",
        "\tif buggyCode:\n",
        "\t\treturn 'A depurar código'\n",
        "\telif:\n",
        "\t\treturn 'Hoy es un buen día'\n",
        "</pre>\n"
      ],
      "metadata": {
        "id": "QODO-ZEuntlT"
      }
    },
    {
      "cell_type": "code",
      "source": [
        "# Método 1\n",
        "def contiene_bugs(buggy_code):\n",
        "\tif buggy_code:\n",
        "\t\treturn 'A depurar código'\n",
        "\telse:\n",
        "\t\treturn 'Hoy es un buen día'\n",
        "\n",
        "# Método 2\n",
        "def contiene_bugs(buggy_code):\n",
        "\tif buggy_code:\n",
        "\t\treturn 'A depurar código'\n",
        "\treturn 'Hoy es un buen día'"
      ],
      "metadata": {
        "id": "jemQ0nAC2miq"
      },
      "execution_count": null,
      "outputs": []
    },
    {
      "cell_type": "code",
      "source": [
        "print(contiene_bugs(True))\n",
        "print(contiene_bugs(False))"
      ],
      "metadata": {
        "id": "5LhI2Pra2mir",
        "outputId": "deef269e-3ae8-4ec0-ebb4-e9f9dcf8b624",
        "colab": {
          "base_uri": "https://localhost:8080/"
        }
      },
      "execution_count": null,
      "outputs": [
        {
          "output_type": "stream",
          "name": "stdout",
          "text": [
            "A depurar código\n",
            "Hoy es un buen día\n"
          ]
        }
      ]
    },
    {
      "cell_type": "markdown",
      "source": [
        "## Reto 110: Peso máximo permitido\n",
        "* Cree una función que devuelva `True` si el peso combinado de un automóvil `peso_auto` y el peso de los pasajeros `p` en el automóvil es menor que el peso máximo `peso_maximo` que el automóvil puede transportar. De lo contrario, devuelve `False`.\n",
        "* El peso del automóvil y el peso de los pasajeros se dan en libras.\n",
        "* El peso máximo se indica en kilogramos.\n",
        "* Nota: 1 libra = 0,453592 kilogramo\n",
        "* El orden de los argumentos en la función son:\n",
        "    - `peso_permitido(peso_auto, p, peso_maximo)`\n",
        "* Ejemplos:\n",
        "    1. peso_permitido(3000, [150, 201, 75, 88, 195], 1700) ➞ True\n",
        "    2. peso_permitido(3200, [220, 101, 115, 228, 15], 1700) ➞ False\n",
        "    3. peso_permitido(2900, [225, 171, 300, 274, 191], 1850) ➞ True"
      ],
      "metadata": {
        "id": "czeqq4Pentm0"
      }
    },
    {
      "cell_type": "code",
      "source": [
        "# Método 1\n",
        "def peso_permitido(peso_auto, lista_p, peso_maximo):\n",
        "    peso_total = peso_auto\n",
        "    for elemento in lista_p:\n",
        "        peso_total += elemento\n",
        "    peso_total_kg = peso_total * 0.453592\n",
        "    return peso_total_kg <= peso_maximo\n",
        "\n",
        "# Método 2\n",
        "def peso_permitido(peso_auto, p, peso_maximo):\n",
        "    return 0.453592 * (peso_auto + sum(p)) <= peso_maximo\n",
        "\n",
        "# Método 3. Función Lambda\n",
        "peso_permitido = lambda peso_auto, p, peso_maximo: 0.453592 * (peso_auto + sum(p)) <= peso_maximo"
      ],
      "metadata": {
        "id": "0TsgTz6N2mIA"
      },
      "execution_count": 58,
      "outputs": []
    },
    {
      "cell_type": "code",
      "source": [
        "print(peso_permitido(3000, [150, 201, 75, 88, 195], 1700))\n",
        "print(peso_permitido(3200, [220, 101, 115, 228, 15], 1700))\n",
        "print(peso_permitido(2900, [225, 171, 300, 274, 191], 1850))"
      ],
      "metadata": {
        "id": "TW1drakF2mIB",
        "colab": {
          "base_uri": "https://localhost:8080/"
        },
        "outputId": "a4c42584-cccc-4487-dcaa-e3573cf33e5a"
      },
      "execution_count": 59,
      "outputs": [
        {
          "output_type": "stream",
          "name": "stdout",
          "text": [
            "True\n",
            "False\n",
            "True\n"
          ]
        }
      ]
    },
    {
      "cell_type": "markdown",
      "source": [
        "## Reto 111: Imprimir con formato\n",
        "* Para imprimir podemos utilizar el sistema de formato `f`.\n",
        "* Ejemplo:\n",
        "    - nombre = \"Pedro\"\n",
        "    - ciudad = \"Madrid\"\n",
        "    - print(f\"Soy {nombre} y vivo en {ciudad}.\")\n",
        "* Lo que se imprime es:\n",
        "    - `\"Soy Pedro y vivo en Madrid.\"`\n",
        "* Utilizando este sistema de formateo cree una función que retorne los siguientes casos.\n",
        "* Ejemplos:\n",
        "    1. biografia(\"Ana\", 15, \"Málaga\") ➞ \"Soy Ana, tego 15 años, vivo en Málaga y mañana cumpliré 16 años.\"\n",
        "    2. biografia(\"Jose\", 16, \"Ávila\") ➞ \"Soy Jose, tego 16 años, vivo en Ávila y mañana cumpliré 17 años.\"\n",
        "    3. biografia(\"Mar\", 17, \"Cádiz\") ➞ \"Soy Mar, tego 17 años, vivo en Cádiz y mañana cumpliré 18 años.\"\n"
      ],
      "metadata": {
        "id": "bGRMENljntno"
      }
    },
    {
      "cell_type": "code",
      "source": [
        "def biografia(nombre, edad, ciudad):\n",
        "    return f\"Soy {nombre}, tego {edad} años, vivo en {ciudad} y mañana cumpliré {edad + 1} años.\""
      ],
      "metadata": {
        "id": "k2comgkK2lb6"
      },
      "execution_count": null,
      "outputs": []
    },
    {
      "cell_type": "code",
      "source": [
        "print(biografia(\"Ana\", 15, \"Málaga\"))\n",
        "print(biografia(\"Jose\", 16, \"Ávila\"))\n",
        "print(biografia(\"Mar\", 17, \"Cádiz\"))"
      ],
      "metadata": {
        "id": "jF6-JEzK2lb7",
        "colab": {
          "base_uri": "https://localhost:8080/"
        },
        "outputId": "10d85a1e-a074-4535-b0c9-608ecae4b614"
      },
      "execution_count": null,
      "outputs": [
        {
          "output_type": "stream",
          "name": "stdout",
          "text": [
            "Soy Ana, tego 15 años, vivo en Málaga y mañana cumpliré 16 años.\n",
            "Soy Jose, tego 16 años, vivo en Ávila y mañana cumpliré 17 años.\n",
            "Soy Mar, tego 17 años, vivo en Cádiz y mañana cumpliré 18 años.\n"
          ]
        }
      ]
    },
    {
      "cell_type": "markdown",
      "source": [
        "## Reto 112: Maravillosa canción\n",
        "* Crea una función que tome una cadena y cambie la palabra `maravillosa` por `aburrida`.\n",
        "* Devuelva la cadena sin ningún cambio si la palabra 'canción' es parte de la cadena.\n",
        "* Ejemplos:\n",
        "    1. maravillosa_canción(\"Esta canción es maravillosa.\") ➞ \"Esta canción es maravillosa.\"\n",
        "    2. maravillosa_canción(\"La ruta fué maravillosa.\") ➞ \"La ruta fué aburrida.\"\n",
        "    3. maravillosa_canción(\"Fué una cena maravillosa.\") ➞ \"Fué una cena aburrida.\"\n",
        "    4.  maravillosa_canción(\"Tu maravillosa canción ganó.\") ➞ \"Tu maravillosa canción ganó.\"\n"
      ],
      "metadata": {
        "id": "1Qgl2wxlntn4"
      }
    },
    {
      "cell_type": "code",
      "source": [
        "def maravillosa_canción(frase):\n",
        "    if 'canción' not in frase:\n",
        "        frase = frase.replace(\"maravillosa\", \"aburrida\")\n",
        "    return frase\n"
      ],
      "metadata": {
        "id": "J_amLZSH2lCa"
      },
      "execution_count": null,
      "outputs": []
    },
    {
      "cell_type": "code",
      "source": [
        "print(maravillosa_canción(\"Esta canción es maravillosa.\"))\n",
        "print(maravillosa_canción(\"La ruta fué maravillosa.\"))\n",
        "print(maravillosa_canción(\"Fué una cena maravillosa.\"))\n",
        "print(maravillosa_canción(\"Tu maravillosa canción ganó.\"))"
      ],
      "metadata": {
        "id": "EeLWogkI2lCg",
        "colab": {
          "base_uri": "https://localhost:8080/"
        },
        "outputId": "122b4e80-f4b5-424d-9573-4ee8be434a11"
      },
      "execution_count": null,
      "outputs": [
        {
          "output_type": "stream",
          "name": "stdout",
          "text": [
            "Esta canción es maravillosa.\n",
            "La ruta fué aburrida.\n",
            "Fué una cena aburrida.\n",
            "Tu maravillosa canción ganó.\n"
          ]
        }
      ]
    },
    {
      "cell_type": "markdown",
      "source": [
        "## Reto 113: Ligeramente superior\n",
        "* Se le darán dos listas muy parecidas o exactamente iguales\n",
        "* Si son exactamente iguales la función debe devolver como resultado 'False'.\n",
        "* Si difieren en un único elemento y éste es mayor en la primera lista se retornará 'True' y si es mayor el de la segunda lista se retornará 'False'\n",
        "* Nunca se recibirán dos listas en las que puedan diferir más de un elemento.\n",
        "* Ejemplos:\n",
        "    1. es_mayor_el_primero([1, 2, 4], [1, 2, 3]) ➞ True\n",
        "    2. es_mayor_el_primero([\"a\", \"d\", \"c\"], [\"a\", \"b\", \"c\"]) ➞ True\n",
        "    3. es_mayor_el_primero([\"zumo\", \"col\", \"pan\"], [\"atún\", \"col\", \"pan\"]) ➞ True\n",
        "    4. es_mayor_el_primero([1, 2, 5, 4], [1, 2, 3, 4]) ➞ True\n",
        "    5. es_mayor_el_primero([1, 2, 3, 4], [1, 2, 4, 4]) ➞ False\n",
        "    6. es_mayor_el_primero([True, 10, \"Roma\"], [True, 10, \"Roma\"]) ➞ False\n",
        "* Ambas listas tendrán la misma longitud, aunque ésta puede ser variable.\n",
        "* Todos los valores y sus contrapartes siempre serán del mismo tipo de dato."
      ],
      "metadata": {
        "id": "TVDPcAuHntoF"
      }
    },
    {
      "cell_type": "code",
      "source": [
        "def es_mayor_el_primero(lst1, lst2):\n",
        "    for i in range(len(lst1)):\n",
        "        if lst1[i] > lst2[i]:\n",
        "            return True\n",
        "    return False"
      ],
      "metadata": {
        "id": "JtEMn6cm2kJJ"
      },
      "execution_count": null,
      "outputs": []
    },
    {
      "cell_type": "code",
      "source": [
        "print(es_mayor_el_primero([\"a\", \"d\", \"c\"], [\"a\", \"b\", \"c\"]))\n",
        "print(es_mayor_el_primero([\"a\", \"d\", \"c\"], [\"a\", \"b\", \"c\"]))\n",
        "print(es_mayor_el_primero([\"zumo\", \"col\", \"pan\"], [\"atún\", \"col\", \"pan\"]))\n",
        "print(es_mayor_el_primero([1, 2, 5, 4], [1, 2, 3, 4]))\n",
        "print(es_mayor_el_primero([1, 2, 3, 4], [1, 2, 4, 4]))\n",
        "print(es_mayor_el_primero([True, 10, \"Roma\"], [True, 10, \"Roma\"]))"
      ],
      "metadata": {
        "id": "tejBS3F32kJK",
        "colab": {
          "base_uri": "https://localhost:8080/"
        },
        "outputId": "26ee81c3-1c2a-472d-f32c-d58118d94cd0"
      },
      "execution_count": null,
      "outputs": [
        {
          "output_type": "stream",
          "name": "stdout",
          "text": [
            "True\n",
            "True\n",
            "True\n",
            "True\n",
            "False\n",
            "False\n"
          ]
        }
      ]
    },
    {
      "cell_type": "markdown",
      "source": [
        "## Reto 114: Diccionario vacío\n",
        "* Escriba una función que devuelva `True` si un diccionario está vacío y `False` en caso contrario.\n",
        "* Ejemplos:\n",
        "    1. is_empty({}) ➞ True\n",
        "    1. is_empty({ }) ➞ True\n",
        "    2. is_empty({ \"a\": 1 }) ➞ False\n",
        "    3. is_empty(dict()) ➞ True\n",
        "    4. is_empty({'': []} ➞ False\n"
      ],
      "metadata": {
        "id": "mpfdl2aXntoU"
      }
    },
    {
      "cell_type": "code",
      "source": [
        "def is_empty(d):\n",
        "    return len(d) == 0"
      ],
      "metadata": {
        "id": "0fG6lO2U2ju1"
      },
      "execution_count": null,
      "outputs": []
    },
    {
      "cell_type": "code",
      "source": [
        "print(is_empty({}))\n",
        "print(is_empty({ }))\n",
        "print(is_empty({ \"a\": 1 }))\n",
        "print(is_empty(dict()))\n",
        "print(is_empty({'': []}))"
      ],
      "metadata": {
        "id": "iz8Lk9XD2ju2",
        "colab": {
          "base_uri": "https://localhost:8080/"
        },
        "outputId": "56bcccc6-f5f5-492d-8705-d50874617196"
      },
      "execution_count": null,
      "outputs": [
        {
          "output_type": "stream",
          "name": "stdout",
          "text": [
            "True\n",
            "True\n",
            "False\n",
            "True\n",
            "False\n"
          ]
        }
      ]
    },
    {
      "cell_type": "markdown",
      "source": [
        "## Reto 115: Opuestos en una lista\n",
        "* Cree una función que tome una lista de números enteros y devuelva otra lista formada por sus opuestos.\n",
        "* Ejemplos:\n",
        "    1. opuestos([1, 2, 3, 4, 5]) ➞ [-1, -2, -3, -4, -5]\n",
        "    2. opuestos([1, -2, 3, -4, 0]) ➞ [-1, 2, -3, 4, 0]\n",
        "    3. opuestos([]) ➞ []\n"
      ],
      "metadata": {
        "id": "fizQ3Vu-z82T"
      }
    },
    {
      "cell_type": "code",
      "source": [
        "def opuestos(lst):\n",
        "    lst_opuestos = []\n",
        "    for num in lst:\n",
        "        lst_opuestos.append(-num)\n",
        "    return lst_opuestos\n",
        "\n",
        "# utilizando list comprehension\n",
        "def opuestos(lst):\n",
        "    return [-n for n in lst]"
      ],
      "metadata": {
        "id": "zBVsj_-t2jO-"
      },
      "execution_count": null,
      "outputs": []
    },
    {
      "cell_type": "code",
      "source": [
        "print(opuestos([1, 2, 3, 4, 5]))\n",
        "print(opuestos([1, -2, 3, -4, 0]))\n",
        "print(opuestos([]))"
      ],
      "metadata": {
        "id": "gE8lSFnI2jO-",
        "colab": {
          "base_uri": "https://localhost:8080/"
        },
        "outputId": "2fa0833a-e2d2-45e0-bb3b-3be338978cd8"
      },
      "execution_count": null,
      "outputs": [
        {
          "output_type": "stream",
          "name": "stdout",
          "text": [
            "[-1, -2, -3, -4, -5]\n",
            "[-1, 2, -3, 4, 0]\n",
            "[]\n"
          ]
        }
      ]
    },
    {
      "cell_type": "markdown",
      "source": [
        "## Reto 116: Parsear números\n",
        "* Cree una función que tome una lista formada por números enteros y cadenas.\n",
        "* La función convierte los números enteros en cadenas y devuelve la nueva lista.\n",
        "* Ejemplos:\n",
        "    1. parse_list([1, 2, \"a\", \"b\"]) ➞ [\"1\", \"2\", \"a\", \"b\"]\n",
        "    2. parse_list([\"abc\", 123, \"def\", 456]) ➞ [\"abc\", \"123\", \"def\", \"456\"]\n",
        "    3. parse_list([1, 2, 3, 17, 24, 3, \"a\", \"123b\"]) ➞ [\"1\", \"2\", \"3\", \"17\", \"24\", \"3\", \"a\", \"123b\"]\n",
        "    4. parse_list([]) ➞ []"
      ],
      "metadata": {
        "id": "yD4DFPzZz88Q"
      }
    },
    {
      "cell_type": "code",
      "source": [
        "def parse_list(lst):\n",
        "    return [str(i) for i in lst]"
      ],
      "metadata": {
        "id": "KmWelebx2ivv"
      },
      "execution_count": null,
      "outputs": []
    },
    {
      "cell_type": "code",
      "source": [
        "print(parse_list([1, 2, \"a\", \"b\"]))\n",
        "print(parse_list([\"abc\", 123, \"def\", 456]))\n",
        "print(parse_list([1, 2, 3, 17, 24, 3, \"a\", \"123b\"]))\n",
        "print(parse_list([]))"
      ],
      "metadata": {
        "id": "kQkhbTaN2ivw",
        "colab": {
          "base_uri": "https://localhost:8080/"
        },
        "outputId": "94b07b18-368f-4cc1-fc0d-9dcfe8351470"
      },
      "execution_count": null,
      "outputs": [
        {
          "output_type": "stream",
          "name": "stdout",
          "text": [
            "['1', '2', 'a', 'b']\n",
            "['abc', '123', 'def', '456']\n",
            "['1', '2', '3', '17', '24', '3', 'a', '123b']\n",
            "[]\n"
          ]
        }
      ]
    },
    {
      "cell_type": "markdown",
      "source": [
        "## Reto 117: Números en texto\n",
        "* Cree una función que devuelva un número, según la cadena proporcionada.\n",
        "* Aquí hay una lista de todos los dígitos.\n",
        "* Ejemplos:\n",
        "    1. text_to_int(\"one\") ➞ 1\n",
        "    2. text_to_int(\"two\") ➞ 2\n",
        "    3. text_to_int(\"three\") ➞ 3\n",
        "    4. text_to_int(\"four\") ➞ 4\n",
        "    5. text_to_int(\"five\") ➞ 5\n",
        "    6. text_to_int(\"six\") ➞ 6\n",
        "    7. text_to_int(\"seven\") ➞ 7\n",
        "    8. text_to_int(\"eight\") ➞ 8\n",
        "    9. text_to_int(\"nine\") ➞ 9\n",
        "    10. text_to_int(\"zero\") ➞ 0"
      ],
      "metadata": {
        "id": "jSpetAOOz9Ax"
      }
    },
    {
      "cell_type": "code",
      "source": [
        "def text_to_int(txt):\n",
        "    if txt == \"one\":\n",
        "        return 1\n",
        "    elif txt == \"two\":\n",
        "        return 2\n",
        "    elif txt == \"three\":\n",
        "        return 3\n",
        "    elif txt == \"four\":\n",
        "        return 4\n",
        "    elif txt == \"five\":\n",
        "        return 5\n",
        "    elif txt == \"six\":\n",
        "        return 6\n",
        "    elif txt == \"seven\":\n",
        "        return 7\n",
        "    elif txt == \"eight\":\n",
        "        return 8\n",
        "    elif txt == \"nine\":\n",
        "        return 9\n",
        "    elif txt == \"zero\":\n",
        "        return 0\n",
        "\n",
        "def text_to_int(txt):\n",
        "    return [\"zero\",\"one\",\"two\",\"three\",\"four\",\"five\",\"six\",\"seven\",\"eight\",\"nine\"].index(txt)\n",
        "\n",
        "def text_to_int(txt):\n",
        "    numbers = {\n",
        "        \"zero\": 0,\n",
        "        \"one\": 1,\n",
        "        \"two\": 2,\n",
        "        \"three\": 3,\n",
        "        \"four\": 4,\n",
        "        \"five\": 5,\n",
        "        \"six\": 6,\n",
        "        \"seven\": 7,\n",
        "        \"eight\": 8,\n",
        "        \"nine\": 9\n",
        "    }\n",
        "    return numbers[txt]"
      ],
      "metadata": {
        "id": "agSvxKJR2iVY"
      },
      "execution_count": null,
      "outputs": []
    },
    {
      "cell_type": "code",
      "source": [
        "print(text_to_int(\"one\"))\n",
        "print(text_to_int(\"two\"))\n",
        "print(text_to_int(\"three\"))\n",
        "print(text_to_int(\"four\"))\n",
        "print(text_to_int(\"five\"))\n",
        "print(text_to_int(\"six\"))\n",
        "print(text_to_int(\"seven\"))\n",
        "print(text_to_int(\"eight\"))\n",
        "print(text_to_int(\"nine\"))\n",
        "print(text_to_int(\"zero\"))"
      ],
      "metadata": {
        "id": "glH91xa52iVZ",
        "colab": {
          "base_uri": "https://localhost:8080/"
        },
        "outputId": "9b3e3d6c-de3b-465a-94cb-068f0c7344d6"
      },
      "execution_count": null,
      "outputs": [
        {
          "output_type": "stream",
          "name": "stdout",
          "text": [
            "1\n",
            "2\n",
            "3\n",
            "4\n",
            "5\n",
            "6\n",
            "7\n",
            "8\n",
            "9\n",
            "0\n"
          ]
        }
      ]
    },
    {
      "cell_type": "markdown",
      "source": [
        "## Reto 118: La estrategia 50-30-20\n",
        "* La estrategia 50-30-20 es una forma sencilla de presupuestar, que implica gastar el 50% de los ingresos después de impuestos en necesidades, el 30% de los ingresos después de impuestos en deseos y el 20% de los ingresos después de impuestos en ahorros o pago de deudas.\n",
        "* Cree una función que reciba el ingreso después de impuestos y lo que devuelva sea un diccionario que muestre cuánto necesita gastar una persona en necesidades, deseos y ahorros.\n",
        "* Ejemplos:\n",
        "    1. estrategia(10000) ➞ {'Necesidades': 5000, 'Deseos': 3000, 'Ahorros': 2000}\n",
        "    2. estrategia(50000) ➞ {'Necesidades': 25000, 'Deseos': 15000, 'Ahorros': 10000}\n",
        "    3. estrategia(13450) ➞ {'Necesidades': 6725, 'Deseos': 4035, 'Ahorros': 2690}"
      ],
      "metadata": {
        "id": "0Xh9QeBRz9GH"
      }
    },
    {
      "cell_type": "code",
      "source": [
        "def estrategia(ing):\n",
        "    return {\"Necesidades\": ing*.5, \"Deseos\": ing*.3, \"Ahorros\": ing*.2}\n",
        "\n",
        "def estrategia(ing):\n",
        "    d = {'Necesidades': 0.5, 'Deseos': 0.3, 'Ahorros': 0.2}\n",
        "    gastos = {k: ing * v for k,v in d.items()}\n",
        "    # para mostrar los números enteros sin \".0\"\n",
        "    gastos_formateados = {k: v if v % 1 != 0 else int(v) for k, v in gastos.items()}\n",
        "    return gastos_formateados"
      ],
      "metadata": {
        "id": "J-dOY6vL2h0C"
      },
      "execution_count": null,
      "outputs": []
    },
    {
      "cell_type": "code",
      "source": [
        "print(estrategia(10000))\n",
        "print(estrategia(50000))\n",
        "print(estrategia(13450))"
      ],
      "metadata": {
        "id": "SC9EkUUR2h0D",
        "colab": {
          "base_uri": "https://localhost:8080/"
        },
        "outputId": "39f09378-29e7-4ece-942d-b50722a1bf7a"
      },
      "execution_count": null,
      "outputs": [
        {
          "output_type": "stream",
          "name": "stdout",
          "text": [
            "{'Necesidades': 5000, 'Deseos': 3000, 'Ahorros': 2000}\n",
            "{'Necesidades': 25000, 'Deseos': 15000, 'Ahorros': 10000}\n",
            "{'Necesidades': 6725, 'Deseos': 4035, 'Ahorros': 2690}\n"
          ]
        }
      ]
    },
    {
      "cell_type": "markdown",
      "source": [
        "## Reto 119: Operador ternario\n",
        "* El operador ternario es una alternativa a la clásica declaración `if... else...`\n",
        "* Está escrito en el formato:\n",
        "<pre>\n",
        "resultado_si_true if condición else resultado_si_false\n",
        "</pre>\n",
        "* Los operadores ternarios son más compactos que las declaraciones `if` de varias líneas y son útiles para pruebas condicionales simples.\n",
        "\n",
        "Un código clásico puede ser este:\n",
        "<pre>\n",
        "edad = 17\n",
        "if edad >= 18:\n",
        "    print(\"Tengo\", edad, \"años y SI puedo votar.\")\n",
        "else:\n",
        "    print(\"Tengo\", edad, \"años y NO puedo votar.\")\n",
        "</pre>\n",
        "\n",
        "Este código escrito con un operador ternario sería más corto, así:\n",
        "\n",
        "<pre>\n",
        "edad = 17\n",
        "print(f\"Tengo {edad} años y {'NO' if edad < 18 else 'SI'} puedo votar.\")\n",
        "</pre>\n",
        "\n",
        "* Cee una función que use el operador ternario y el sistema de formato `f` para realizar los siguientes casos.\n",
        "* Ejemplos:\n",
        "    1. par_impar(5) ➞ El número 5 es impar.\n",
        "    2. par_impar(8) ➞ El número 8 es par.\n",
        "    3. par_impar(0) ➞ El número 0 es par.\n",
        "    4. par_impar(-3) ➞ El número -3 es impar.\n"
      ],
      "metadata": {
        "id": "WOb5Nogiz9K_"
      }
    },
    {
      "cell_type": "code",
      "source": [
        "def par_impar(n):\n",
        "    return f\"El número {n} es {'impar' if n%2 else 'par'}.\""
      ],
      "metadata": {
        "id": "7hEEsjim2hBs"
      },
      "execution_count": null,
      "outputs": []
    },
    {
      "cell_type": "code",
      "source": [
        "print(par_impar(5))\n",
        "print(par_impar(8))\n",
        "print(par_impar(0))\n",
        "print(par_impar(-3))"
      ],
      "metadata": {
        "id": "GgoW1piF2hBs",
        "colab": {
          "base_uri": "https://localhost:8080/"
        },
        "outputId": "79a0884a-b500-4824-d7f0-a449de25df70"
      },
      "execution_count": null,
      "outputs": [
        {
          "output_type": "stream",
          "name": "stdout",
          "text": [
            "El número 5 es impar.\n",
            "El número 8 es par.\n",
            "El número 0 es par.\n",
            "El número -3 es impar.\n"
          ]
        }
      ]
    },
    {
      "cell_type": "markdown",
      "source": [
        "## Reto 120: El mismo pan\n",
        "* Dadas dos listas, que representan dos sándwiches, indique si ambos sandwiches usan el mismo tipo de pan.\n",
        "* En un mismo sandwiche los dos panes siempre son iguales.\n",
        "* En los elementos intermedios nunca encontraremos pan.\n",
        "* Ejemplos:\n",
        "    1. tienen_el_mismo_pan(\n",
        "  [\"pan blanco\", \"lechuga\", \"pan blanco\"],\n",
        "  [\"pan blanco\", \"tomate\", \"pan blanco\"]\n",
        ") ➞ True\n",
        "    2. tienen_el_mismo_pan(\n",
        "  [\"pan integral\", \"pollo\", \"pan integral\"],\n",
        "  [\"pan blanco\", \"pollo\", \"pan blanco\"]\n",
        ") ➞ False\n",
        "    3. tienen_el_mismo_pan(\n",
        "  [\"berenjena\", \"queso\", \"berenjena\"],\n",
        "  [\"berenjena\", \"queso\", \"berenjena\"]\n",
        ") ➞ False\n",
        "    4. tienen_el_mismo_pan(\n",
        "  [\"pan tostado\", \"queso\", \"pan tostado\"],\n",
        "  [\"pan tostado\", \"queso\", \"pan tostado\"]\n",
        ") ➞ True\n",
        "    5. tienen_el_mismo_pan(\n",
        "  [\"pan tostado\", \"queso\", \"huevo\", \"pan tostado\"],\n",
        "  [\"pan tostado\", \"queso\", \"huevo\", \"pan tostado\"]\n",
        ") ➞ True"
      ],
      "metadata": {
        "id": "rjHsjH3Mz9QP"
      }
    },
    {
      "cell_type": "code",
      "source": [
        "def tienen_el_mismo_pan(lst1, lst2):\n",
        "    return (\"pan\" in lst1[0]) and (lst1[0] == lst2[0])"
      ],
      "metadata": {
        "id": "KnExKfBw2gjx"
      },
      "execution_count": null,
      "outputs": []
    },
    {
      "cell_type": "code",
      "source": [
        "print(tienen_el_mismo_pan([\"pan blanco\", \"lechuga\", \"pan blanco\"], [\"pan blanco\", \"tomate\", \"pan blanco\"]))\n",
        "print(tienen_el_mismo_pan([\"pan integral\", \"pollo\", \"pan integral\"], [\"pan blanco\", \"pollo\", \"pan blanco\"]))\n",
        "print(tienen_el_mismo_pan([\"berenjena\", \"queso\", \"berenjena\"], [\"berenjena\", \"queso\", \"berenjena\"]))\n",
        "print(tienen_el_mismo_pan([\"pan tostado\", \"queso\", \"pan tostado\"], [\"pan tostado\", \"queso\", \"pan tostado\"]))\n",
        "print(tienen_el_mismo_pan([\"pan tostado\", \"queso\", \"huevo\", \"pan tostado\"], [\"pan tostado\", \"queso\", \"huevo\", \"pan tostado\"]))"
      ],
      "metadata": {
        "id": "gBtJ9jtK2gjy",
        "colab": {
          "base_uri": "https://localhost:8080/"
        },
        "outputId": "c5605724-e46d-4c45-d688-dc4a5c9d8d34"
      },
      "execution_count": null,
      "outputs": [
        {
          "output_type": "stream",
          "name": "stdout",
          "text": [
            "True\n",
            "False\n",
            "False\n",
            "True\n",
            "True\n"
          ]
        }
      ]
    },
    {
      "cell_type": "markdown",
      "source": [
        "## Reto 121: Array de caracteres\n",
        "* En el lenguaje de programación C un string se trata como un array de caracteres que siempre termina con el caracter \"\\0\".\n",
        "* Cree una función que devuelva una cadena combinando la lista de caracteres dada, excluyendo el carácter final no deseado '\\0'.\n",
        "* Ejemplos:\n",
        "    1. c_to_python([\"H\", \"i\", \"!\", \"\\0\"]) ➞ \"Hi!\"\n",
        "    2. c_to_python([\"H\", \"e\", \"l\", \"l\", \"o\", \"!\", \"\\0\"]) ➞ \"Hello!\"\n",
        "    3. c_to_python([\"J\", \"a\", \"v\", \"a\", \"S\", \"c\", \"r\", \"i\", \"p\", \"t\", \"\\0\"]) ➞ \"JavaScript\""
      ],
      "metadata": {
        "id": "8OtKBQRfz9Vi"
      }
    },
    {
      "cell_type": "code",
      "source": [
        "def c_to_python(l):\n",
        "    return ''.join(l[:-1])\n",
        "\n",
        "def c_to_python(lista):\n",
        "    resultado = ''\n",
        "    for i in range(0, len(lista)-1):\n",
        "        resultado += str(lista[i])\n",
        "    return resultado"
      ],
      "metadata": {
        "id": "fAZOvff92f_j"
      },
      "execution_count": null,
      "outputs": []
    },
    {
      "cell_type": "code",
      "source": [
        "print(c_to_python([\"H\", \"i\", \"!\", \"\\0\"]))\n",
        "print(c_to_python([\"H\", \"e\", \"l\", \"l\", \"o\", \"!\", \"\\0\"]))\n",
        "print(c_to_python([\"J\", \"a\", \"v\", \"a\", \"S\", \"c\", \"r\", \"i\", \"p\", \"t\", \"\\0\"]))"
      ],
      "metadata": {
        "id": "c2mb4zSG2f_j",
        "colab": {
          "base_uri": "https://localhost:8080/"
        },
        "outputId": "f2ee5a9f-71fe-48a1-dc6e-8399baa0374a"
      },
      "execution_count": null,
      "outputs": [
        {
          "output_type": "stream",
          "name": "stdout",
          "text": [
            "Hi!\n",
            "Hello!\n",
            "JavaScript\n"
          ]
        }
      ]
    },
    {
      "cell_type": "markdown",
      "source": [
        "## Reto 122: Votos a favor y votos en contra\n",
        "* Recibimos un diccionario que contiene el resultado de una votación.\n",
        "* El diccionario contien el recuentos de votos a favor y en contra.\n",
        "* Cree una función que devuelva el resultado de la votación que se obtiene restando el número de votos negativos de los votos positivos.\n",
        "* Ejemplos:\n",
        "    1. votos_netos({ \"positivos\": 13, \"negativos\": 0 }) ➞ 13\n",
        "    2. votos_netos({ \"positivos\": 2, \"negativos\": 33 }) ➞ -31\n",
        "    3. votos_netos({ \"positivos\": 32, \"negativos\": 32 }) ➞ 0\n"
      ],
      "metadata": {
        "id": "t3EoMcciz9a1"
      }
    },
    {
      "cell_type": "code",
      "source": [
        "def votos_netos(d):\n",
        "    return d.get(\"positivos\")- d.get(\"negativos\")"
      ],
      "metadata": {
        "id": "HBQyQls92fcw"
      },
      "execution_count": null,
      "outputs": []
    },
    {
      "cell_type": "code",
      "source": [
        "print(votos_netos({ \"positivos\": 13, \"negativos\": 0 }))\n",
        "print(votos_netos({ \"positivos\": 2, \"negativos\": 33 }))\n",
        "print(votos_netos({ \"positivos\": 32, \"negativos\": 32 }))"
      ],
      "metadata": {
        "id": "V9s2SunY2fcw",
        "colab": {
          "base_uri": "https://localhost:8080/"
        },
        "outputId": "47c49ea0-5621-485d-b272-faedd4c1cbad"
      },
      "execution_count": null,
      "outputs": [
        {
          "output_type": "stream",
          "name": "stdout",
          "text": [
            "13\n",
            "-31\n",
            "0\n"
          ]
        }
      ]
    },
    {
      "cell_type": "markdown",
      "source": [
        "## Reto 123: Case Insensitive Comparison\n",
        "* Comparación que no distingue entre mayúsculas y minúsculas\n",
        "* Escriba una función que valide si dos cadenas son idénticas.\n",
        "* Hágalo sin distinguir entre mayúsculas y minúsculas.\n",
        "* Ejemplos:\n",
        "    1. match(\"hello\", \"hELLo\") ➞ True\n",
        "    2. match(\"motivo\", \"emotivo\") ➞ False\n",
        "    3. match(\"master\", \"Master\") ➞ True\n",
        "    4. match(\"New York\", \"NewYork\") ➞ False"
      ],
      "metadata": {
        "id": "gt5ZkXFRmGeN"
      }
    },
    {
      "cell_type": "code",
      "source": [
        "def match(a, b):\n",
        "    return a.lower() == b.lower()"
      ],
      "metadata": {
        "id": "-xvczj7d2fGw"
      },
      "execution_count": null,
      "outputs": []
    },
    {
      "cell_type": "code",
      "source": [
        "print(match(\"hello\", \"hELLo\"))\n",
        "print(match(\"motivo\", \"emotivo\"))\n",
        "print(match(\"master\", \"Master\"))\n",
        "print(match(\"New York\", \"NewYork\"))"
      ],
      "metadata": {
        "id": "lCFB8JnK2fGw",
        "colab": {
          "base_uri": "https://localhost:8080/"
        },
        "outputId": "1f7a56a2-f375-4efd-dab5-ef135fd85d9d"
      },
      "execution_count": null,
      "outputs": [
        {
          "output_type": "stream",
          "name": "stdout",
          "text": [
            "True\n",
            "False\n",
            "True\n",
            "False\n"
          ]
        }
      ]
    },
    {
      "cell_type": "markdown",
      "source": [
        "## Reto 124: Funciones anónimas\n",
        "* Una función clásica que doble un número podría ser esta:\n",
        "\n",
        "<pre>\n",
        "def dobla_numero(n):\n",
        "    return 2*n\n",
        "</pre>\n",
        "\n",
        "Para funciones sencillas podemos utilizar las funciones anónimas que en Python se llaman **funciones lambda**.\n",
        "\n",
        "El ejemplo anterior con una función lambda sería así:\n",
        "\n",
        "<pre>\n",
        "dobla = lambda n: 2*n\n",
        "</pre>\n",
        "\n",
        "Para invocar la función escribiríamos lo siguiente:\n",
        "\n",
        "<pre>\n",
        "dobla(7)    # output: 14\n",
        "</pre>\n",
        "\n",
        "También pueden existir funciones lambda con varios parámetros, como por ejemplo esta que suma dos números:\n",
        "\n",
        "<pre>\n",
        "suma = lambda a,b: a+b\n",
        "</pre>\n",
        "\n",
        "Se puede invocar así:\n",
        "\n",
        "<pre>\n",
        "suma(4, 3)    # output: 7\n",
        "</pre>\n",
        "\n",
        "* En este reto se pide programar tres funciones anónimas para resolver estos tres casos.\n",
        "* Ejemplos:\n",
        "    1. triplica(5) ➞ 15\n",
        "    2. suma_uno(10) ➞ 11\n",
        "    4. resta_dos_numeros(10, 7) ➞ 3"
      ],
      "metadata": {
        "id": "0tXWqqfamNgC"
      }
    },
    {
      "cell_type": "code",
      "source": [
        "triplica = lambda a: 3 * a\n",
        "suma_uno = lambda a: a + 1\n",
        "resta_dos_numeros = lambda a, b: a - b"
      ],
      "metadata": {
        "id": "5HMp3lKY2eXZ"
      },
      "execution_count": null,
      "outputs": []
    },
    {
      "cell_type": "code",
      "source": [
        "print(triplica(5))\n",
        "print(suma_uno(10))\n",
        "print(resta_dos_numeros(10, 7) )"
      ],
      "metadata": {
        "id": "-ppAz6T02eXZ",
        "colab": {
          "base_uri": "https://localhost:8080/"
        },
        "outputId": "9d413abf-c769-4640-fb35-18a2f15263d1"
      },
      "execution_count": null,
      "outputs": [
        {
          "output_type": "stream",
          "name": "stdout",
          "text": [
            "15\n",
            "11\n",
            "3\n"
          ]
        }
      ]
    },
    {
      "cell_type": "markdown",
      "source": [
        "## Reto 125: Sumar y convertir a binario\n",
        "* Cree una función que tome dos números y devuelva su suma como una cadena binaria.\n",
        "* Ejemplos:\n",
        "    1. convertir_suma(1, 1) ➞ \"10\"\n",
        "    2. convertir_suma(1, 2) ➞ \"11\"\n",
        "    3. convertir_suma(4, 5) ➞ \"1001\""
      ],
      "metadata": {
        "id": "6WEwM3nwmUOs"
      }
    },
    {
      "cell_type": "code",
      "source": [
        "def convertir_suma(a, b):\n",
        "    return bin(a+b)[2:]"
      ],
      "metadata": {
        "id": "zr959QQ-2d5v"
      },
      "execution_count": null,
      "outputs": []
    },
    {
      "cell_type": "code",
      "source": [
        "print(convertir_suma(1, 1))\n",
        "print(convertir_suma(1, 2))\n",
        "print(convertir_suma(4, 5))"
      ],
      "metadata": {
        "id": "vwDlT1VQ2d5w",
        "colab": {
          "base_uri": "https://localhost:8080/"
        },
        "outputId": "41738a98-f1b0-44cb-e887-10d4096b4216"
      },
      "execution_count": null,
      "outputs": [
        {
          "output_type": "stream",
          "name": "stdout",
          "text": [
            "10\n",
            "11\n",
            "1001\n"
          ]
        }
      ]
    },
    {
      "cell_type": "markdown",
      "source": [
        "## Reto 126: Lista filtrada\n",
        "* Cree la función:\n",
        "    - `lista_filtrada(n1, n2, lst)`\n",
        "* La función toma dos números `n1`, `n2` y una lista `lst` y devuelva otra lista que contenga todos los números en `lst` mayores que `n1` y menores que `n2`.\n",
        "* Ejemplos:\n",
        "    1. lista_filtrada(3, 8, [1, 5, 95, 0, 4, 7]) ➞ [5, 4, 7]\n",
        "    2. lista_filtrada(1, 10, [1, 10, 25, 8, 11, 6]) ➞ [8, 6]\n",
        "    3. lista_filtrada(7, 32, [1, 2, 3, 78]) ➞ []"
      ],
      "metadata": {
        "id": "6LLs980ImUYN"
      }
    },
    {
      "cell_type": "code",
      "source": [
        "def lista_filtrada(n1, n2, lst):\n",
        "    nueva_lista = []\n",
        "    for i in lst:\n",
        "        if n1 < i < n2:\n",
        "            nueva_lista.append(i)\n",
        "    return nueva_lista\n",
        "\n",
        "# usando list comprehension\n",
        "def lista_filtrada(n1, n2, lst):\n",
        "    return [i for i in lst if n1 < i < n2]"
      ],
      "metadata": {
        "id": "zBtQ66Ul2djA"
      },
      "execution_count": null,
      "outputs": []
    },
    {
      "cell_type": "code",
      "source": [
        "print(lista_filtrada(3, 8, [1, 5, 95, 0, 4, 7]))\n",
        "print(lista_filtrada(1, 10, [1, 10, 25, 8, 11, 6]))\n",
        "print(lista_filtrada(7, 32, [1, 2, 3, 78]))"
      ],
      "metadata": {
        "id": "91PtvAEv2djF",
        "colab": {
          "base_uri": "https://localhost:8080/"
        },
        "outputId": "799665f3-80e1-4fd7-9c96-594abd433d0f"
      },
      "execution_count": null,
      "outputs": [
        {
          "output_type": "stream",
          "name": "stdout",
          "text": [
            "[5, 4, 7]\n",
            "[8, 6]\n",
            "[]\n"
          ]
        }
      ]
    },
    {
      "cell_type": "markdown",
      "source": [
        "## Reto 127: Métodos Is...\n",
        "* Queremos eliminar números de una cadena determinada.\n",
        "* Tenemos un código que no funciona correctamente para superar este desafío.\n",
        "* Mire los ejemplos siguientes para tener una idea de lo que debe hacer la función.\n",
        "* Ejemplos:\n",
        "    1. eliminar_numeros(\"Madrid2025\") ➞ \"Madrid\"\n",
        "    2. eliminar_numeros(\"verano100Playas\") ➞ \"veranoPlayas\"\n",
        "    3. eliminar_numeros(\"M1a2r3í4a\") ➞ \"María\"\n",
        "\n",
        "* Este es el código que no logra su objetivo:\n",
        "<pre>\n",
        "def eliminar_numeros(string):\n",
        "    return \"\".join(i for i in string if int(i))\n",
        "</pre>"
      ],
      "metadata": {
        "id": "mMGOfOevmUel"
      }
    },
    {
      "cell_type": "code",
      "source": [
        "def eliminar_numeros(string):\n",
        "  return \"\".join(i for i in string if not i.isnumeric())\n",
        "\n",
        "def eliminar_numeros(string):\n",
        "  return \"\".join(i for i in string if not i.isdigit())\n",
        "\n",
        "def eliminar_numeros(string):\n",
        "  return \"\".join(i for i in string if i.isalpha())"
      ],
      "metadata": {
        "id": "NSjCInLW2c5J"
      },
      "execution_count": null,
      "outputs": []
    },
    {
      "cell_type": "code",
      "source": [
        "print(eliminar_numeros(\"Madrid2025\"))\n",
        "print(eliminar_numeros(\"verano100Playas\"))\n",
        "print(eliminar_numeros(\"M1a2r3í4a\"))"
      ],
      "metadata": {
        "id": "y2GS7-c52c5J",
        "outputId": "1241cec6-4d97-4e51-e88e-f40bcf0691f7",
        "colab": {
          "base_uri": "https://localhost:8080/"
        }
      },
      "execution_count": null,
      "outputs": [
        {
          "output_type": "stream",
          "name": "stdout",
          "text": [
            "Madrid\n",
            "veranoPlayas\n",
            "María\n"
          ]
        }
      ]
    },
    {
      "cell_type": "markdown",
      "source": [
        "## Reto 128: Rellenos de sandwich\n",
        "* Dado un sandwich (como lista), retorne una lista con los rellenos que hay dentro del sándwich.\n",
        "* Esto implica ignorar el primer y el último elemento.\n",
        "* Ejemplos:\n",
        "    1. obtener_relleno([\"pan\", \"jamón\", \"queso\", \"jamón\", \"pan\"]) ➞ ['jamón', 'queso', 'jamón']\n",
        "    2. obtener_relleno([\"pan\", \"embutido\", \"tomate\", \"pan\"]) ➞ ['embutido', 'tomate']\n",
        "    3. obtener_relleno([\"pan\", \"lechuga\", \"bacon\", \"tomate\", \"pan\"]) ➞ ['lechuga', 'bacon', 'tomate']"
      ],
      "metadata": {
        "id": "jcxGJ6zZmUll"
      }
    },
    {
      "cell_type": "code",
      "source": [
        "def obtener_relleno(lista):\n",
        "    return lista[1:-1]"
      ],
      "metadata": {
        "id": "5T7yO_iT2cg_"
      },
      "execution_count": null,
      "outputs": []
    },
    {
      "cell_type": "code",
      "source": [
        "print(obtener_relleno([\"pan\", \"jamón\", \"queso\", \"jamón\", \"pan\"]))\n",
        "print(obtener_relleno([\"pan\", \"embutido\", \"tomate\", \"pan\"]))\n",
        "print(obtener_relleno([\"pan\", \"lechuga\", \"bacon\", \"tomate\", \"pan\"]))"
      ],
      "metadata": {
        "id": "lGZlUuQS2cg_",
        "outputId": "af00f160-aaad-49cc-a1d2-898d81798da8",
        "colab": {
          "base_uri": "https://localhost:8080/"
        }
      },
      "execution_count": null,
      "outputs": [
        {
          "output_type": "stream",
          "name": "stdout",
          "text": [
            "['jamón', 'queso', 'jamón']\n",
            "['embutido', 'tomate']\n",
            "['lechuga', 'bacon', 'tomate']\n"
          ]
        }
      ]
    },
    {
      "cell_type": "markdown",
      "source": [
        "## Reto 129: Una sola letra cambia todo\n",
        "* Cree una función que reciba como parámetros dos letras y un frase.\n",
        "* La primera letra que se recibe como parámetro se reemplaza por la segunda letra recibida como parámetro y esto altera la frase.\n",
        "* Ejemplos:\n",
        "    1. cambiando('g', 'p', 'El gato en el tejado') ➞ \"El pato en el tejado\"\n",
        "    2. cambiando('s', 'n', 'Vivo en el quinto piso') ➞ \"Vivo en el quinto pino\"\n",
        "    3. cambiando('h', 'm', 'hola Madrid') ➞ \"mola Madrid\""
      ],
      "metadata": {
        "id": "F38bt7BfmUrK"
      }
    },
    {
      "cell_type": "code",
      "source": [
        "def cambiando(char1, char2, string):\n",
        "    return string.replace(char1, char2)"
      ],
      "metadata": {
        "id": "K45QIrCp2b7s"
      },
      "execution_count": null,
      "outputs": []
    },
    {
      "cell_type": "code",
      "source": [
        "print(cambiando('g', 'p', 'El gato en el tejado'))\n",
        "print(cambiando('s', 'n', 'Vivo en el quinto piso'))\n",
        "print(cambiando('h', 'm', 'hola Madrid'))"
      ],
      "metadata": {
        "id": "qdDaLFOL2b7t",
        "outputId": "9b3e4409-9c16-4fe6-f0ad-e0d1062bd8bc",
        "colab": {
          "base_uri": "https://localhost:8080/"
        }
      },
      "execution_count": null,
      "outputs": [
        {
          "output_type": "stream",
          "name": "stdout",
          "text": [
            "El pato en el tejado\n",
            "Vivo en el quinto pino\n",
            "mola Madrid\n"
          ]
        }
      ]
    },
    {
      "cell_type": "markdown",
      "source": [
        "## Reto 130: Suma los mayores a cinco\n",
        "* Escribe una función que devuelva la suma de elementos estrictamente mayores que 5, en la lista dada.\n",
        "* Ejemplos:\n",
        "    1. suma_mayores_a_cinco([1, 5, 20, 30, 4, 9, 18]) ➞ 77\n",
        "    2. suma_mayores_a_cinco([1, 2, 3, 4]) ➞ 0\n",
        "    3. suma_mayores_a_cinco([10, 12, 28, 47, 55, 100]) ➞ 252"
      ],
      "metadata": {
        "id": "HfzOcsTSmUxK"
      }
    },
    {
      "cell_type": "code",
      "source": [
        "def suma_mayores_a_cinco(lst):\n",
        "    return sum([i for i in lst if i > 5])"
      ],
      "metadata": {
        "id": "diRYFu8m2bSL"
      },
      "execution_count": null,
      "outputs": []
    },
    {
      "cell_type": "code",
      "source": [
        "print(suma_mayores_a_cinco([1, 5, 20, 30, 4, 9, 18]))\n",
        "print(suma_mayores_a_cinco([1, 2, 3, 4]))\n",
        "print(suma_mayores_a_cinco([10, 12, 28, 47, 55, 100]))"
      ],
      "metadata": {
        "id": "xEUSFGBt2bSL",
        "outputId": "18cb226e-11e8-4d68-f586-4b38a99b6c07",
        "colab": {
          "base_uri": "https://localhost:8080/"
        }
      },
      "execution_count": null,
      "outputs": [
        {
          "output_type": "stream",
          "name": "stdout",
          "text": [
            "77\n",
            "0\n",
            "252\n"
          ]
        }
      ]
    },
    {
      "cell_type": "markdown",
      "source": [
        "## Reto 131: Probabilidad de ser un impostor\n",
        "* Cree una función que calcule la probabilidad de ser un impostor.\n",
        "* La fórmula para las posibilidades de ser un impostor es `100 × (i / p)` donde `i` es el recuento de impostores y `p` es el recuento de jugadores.\n",
        "* Asegúrese de redondear el valor al número entero más cercano y devolver el valor como porcentaje.\n",
        "* Ejemplos:\n",
        "    1. porcentaje_impostores(1, 10) ➞ \"10%\"\n",
        "    2. porcentaje_impostores(2, 5) ➞ \"40%\"\n",
        "    3. porcentaje_impostores(1, 8) ➞ \"12%\""
      ],
      "metadata": {
        "id": "tMzdScmLmU2z"
      }
    },
    {
      "cell_type": "code",
      "source": [
        "def porcentaje_impostores(i, p):\n",
        "    return str(round(100 * i / p)) + \"%\"\n",
        "\n",
        "def porcentaje_impostores(i, p):\n",
        "    return f\"{round(100 * i / p)}%\"\n",
        "\n",
        "def porcentaje_impostores(i, p):\n",
        "    return f\"{i / p:.0%}\""
      ],
      "metadata": {
        "id": "J8-dffVf2a0k"
      },
      "execution_count": null,
      "outputs": []
    },
    {
      "cell_type": "code",
      "source": [
        "print(porcentaje_impostores(1, 10))\n",
        "print(porcentaje_impostores(2, 5))\n",
        "print(porcentaje_impostores(1, 8))"
      ],
      "metadata": {
        "id": "_pvxzdXY2a0k",
        "outputId": "dcd9836c-bb02-4559-a1b1-5e8f33897fa9",
        "colab": {
          "base_uri": "https://localhost:8080/"
        }
      },
      "execution_count": null,
      "outputs": [
        {
          "output_type": "stream",
          "name": "stdout",
          "text": [
            "10%\n",
            "40%\n",
            "12%\n"
          ]
        }
      ]
    },
    {
      "cell_type": "markdown",
      "source": [
        "## Reto 132: Replicando la función módulo\n",
        "* Cree una función que actúe como el operador de módulo `%` sin utilizar el operador de módulo.\n",
        "* El operador de módulo es una forma de determinar el resto o resíduo de una operación de división.\n",
        "* No utilice el operador `%` para devolver los resultados.\n",
        "* Ejemplos:\n",
        "    1. mod(5, 2) ➞ 1\n",
        "    2. mod(218, 5) ➞ 3\n",
        "    3. mod(6, 3) ➞ 0\n"
      ],
      "metadata": {
        "id": "XPVxTo33mU8D"
      }
    },
    {
      "cell_type": "code",
      "source": [
        "def mod(a, b):\n",
        "    return a - (b * (a // b))"
      ],
      "metadata": {
        "id": "XIQ95Cu82aWg"
      },
      "execution_count": null,
      "outputs": []
    },
    {
      "cell_type": "code",
      "source": [
        "print(mod(5, 2))\n",
        "print(mod(218, 5))\n",
        "print(mod(6, 3))"
      ],
      "metadata": {
        "id": "npY4eCKP2aWg",
        "outputId": "62c88063-3b4a-4d6f-d58f-576846883cf0",
        "colab": {
          "base_uri": "https://localhost:8080/"
        }
      },
      "execution_count": null,
      "outputs": [
        {
          "output_type": "stream",
          "name": "stdout",
          "text": [
            "1\n",
            "3\n",
            "0\n"
          ]
        }
      ]
    },
    {
      "cell_type": "markdown",
      "source": [
        "## Reto 133: Encontrar `None` en una lista\n",
        "* Cree una función para encontrar `None` en una lista de números.\n",
        "* El valor de retorno debe ser el índice donde se encuentre `None`.\n",
        "* Si no se encuentra `None` en la lista, la función devolverá -1.\n",
        "* Ejemplos:\n",
        "    1. encontrar_None([1, 2, None]) ➞ 2\n",
        "    2. encontrar_None([None, 1, 2, 3, 4]) ➞ 0\n",
        "    3. encontrar_None([0, 1, 2, 3, 4]) ➞ -1\n",
        "    4. encontrar_None(['none', \"None\"]) ➞ -1\n",
        "\n",
        "* `None` aparecerá en la lista como máximo una vez.\n",
        "* `None` no es lo mismo que la cadena \"None\". Se puede comprobar con `type()`."
      ],
      "metadata": {
        "id": "iVYlgvgUmVCY"
      }
    },
    {
      "cell_type": "code",
      "source": [
        "def encontrar_None(lista):\n",
        "    if None in lista:\n",
        "        return lista.index(None)\n",
        "    return -1\n",
        "\n",
        "def encontrar_None(lista):\n",
        "    return lista.index(None) if None in lista else -1"
      ],
      "metadata": {
        "id": "zWYHUrjO2Z9R"
      },
      "execution_count": null,
      "outputs": []
    },
    {
      "cell_type": "code",
      "source": [
        "print(encontrar_None([1, 2, None]))\n",
        "print(encontrar_None([None, 1, 2, 3, 4]))\n",
        "print(encontrar_None([0, 1, 2, 3, 4]))\n",
        "print(encontrar_None(['none', \"None\"]))"
      ],
      "metadata": {
        "id": "GzlKI43e2Z9R",
        "outputId": "826b6072-6fdc-4dea-c42d-8b004b416c74",
        "colab": {
          "base_uri": "https://localhost:8080/"
        }
      },
      "execution_count": null,
      "outputs": [
        {
          "output_type": "stream",
          "name": "stdout",
          "text": [
            "2\n",
            "0\n",
            "-1\n",
            "-1\n"
          ]
        }
      ]
    },
    {
      "cell_type": "markdown",
      "source": [
        "## Reto 134: ¿Cuántos dígitos tiene un número?\n",
        "* Cree una función que tiene un número como parámetro y devuelve la cantidad de dígitos que contiene.\n",
        "* Ejemplos:\n",
        "    1. cantidad_de_digitos(123) ➞ 3\n",
        "    2. cantidad_de_digitos(56) ➞ 2\n",
        "    3. cantidad_de_digitos(7154) ➞ 4\n",
        "    4. cantidad_de_digitos(61217311514) ➞ 11\n",
        "    5. cantidad_de_digitos(0) ➞ 1"
      ],
      "metadata": {
        "id": "UlRIWxQXmVIB"
      }
    },
    {
      "cell_type": "code",
      "source": [
        "def cantidad_de_digitos(n):\n",
        "    return len(str(abs(n)))"
      ],
      "metadata": {
        "id": "qJdiAk8p2Zlx"
      },
      "execution_count": null,
      "outputs": []
    },
    {
      "cell_type": "code",
      "source": [
        "print(cantidad_de_digitos(123))\n",
        "print(cantidad_de_digitos(56))\n",
        "print(cantidad_de_digitos(7154))\n",
        "print(cantidad_de_digitos(61217311514) )\n",
        "print(cantidad_de_digitos(0))"
      ],
      "metadata": {
        "id": "4ZFrCiMg2Zlx",
        "outputId": "b3eb42cf-664d-4d4a-bc26-08d0f3854507",
        "colab": {
          "base_uri": "https://localhost:8080/"
        }
      },
      "execution_count": null,
      "outputs": [
        {
          "output_type": "stream",
          "name": "stdout",
          "text": [
            "3\n",
            "2\n",
            "4\n",
            "11\n",
            "1\n"
          ]
        }
      ]
    },
    {
      "cell_type": "markdown",
      "source": [
        "## Reto 135: Encuentre la bomba\n",
        "* Cree una función que encuentre la palabra \"bomba\" en la cadena dada (no distingue entre mayúsculas y minúsculas).\n",
        "* Si la encuentra, devuelva `\"¡Corre!\"`, de lo contrario, devuelva `\"No hay bomba, relax.\"`.\n",
        "* Ejemplos:\n",
        "    1. comprobacion(\"Hay una bomba.\") ➞ \"!Corre!\"\n",
        "    2. comprobacion(\"¿Crees que hay una Bomba?\") ➞ \"!Corre!\"\n",
        "    3. comprobacion(\"Solo es una Boa.\") ➞ \"No hay bomba, relax.\""
      ],
      "metadata": {
        "id": "Ika_USkdmVN_"
      }
    },
    {
      "cell_type": "code",
      "source": [
        "def comprobacion(frase):\n",
        "    if \"bomba\" in frase.lower():\n",
        "        return \"¡Corre!\"\n",
        "    return \"No hay bomba, relax.\"\n",
        "\n",
        "def comprobacion(frase):\n",
        "    return \"¡Corre!\" if \"bomba\" in frase.lower() else \"No hay bomba, relax.\""
      ],
      "metadata": {
        "id": "XELAU0nJ2ZMS"
      },
      "execution_count": null,
      "outputs": []
    },
    {
      "cell_type": "code",
      "source": [
        "print(comprobacion(\"Hay una bomba.\"))\n",
        "print(comprobacion(\"¿Crees que hay una Bomba?\"))\n",
        "print(comprobacion(\"Solo es una Boa.\"))"
      ],
      "metadata": {
        "id": "LyTXP1C02ZMS",
        "outputId": "30df150d-5646-46ee-bd4f-86deabe76230",
        "colab": {
          "base_uri": "https://localhost:8080/"
        }
      },
      "execution_count": null,
      "outputs": [
        {
          "output_type": "stream",
          "name": "stdout",
          "text": [
            "¡Corre!\n",
            "¡Corre!\n",
            "No hay bomba, relax.\n"
          ]
        }
      ]
    },
    {
      "cell_type": "markdown",
      "source": [
        "## Reto 136: Contar cierto caracter en un String\n",
        "* Cree una función que tome dos cadenas como argumentos y devuelva el número de veces que la primera cadena (el carácter único) se encuentra en la segunda cadena.\n",
        "* La función debe distinguir entre mayúsculas y minúsculas.\n",
        "* Ejemplos:\n",
        "    1. contar_caracter(\"a\", \"Sorpresa\") ➞ 1\n",
        "    2. contar_caracter(\"c\", \"Cáceres ciudad histórica\") ➞ 3\n",
        "    3. contar_caracter(\"C\", \"Cáceres ciudad histórica\") ➞ 1"
      ],
      "metadata": {
        "id": "YjoLKJzSmVUS"
      }
    },
    {
      "cell_type": "code",
      "source": [
        "def contar_caracter(caracter, palabra) :\n",
        "    return palabra.count(caracter)"
      ],
      "metadata": {
        "id": "Xn_obscm2YyB"
      },
      "execution_count": null,
      "outputs": []
    },
    {
      "cell_type": "code",
      "source": [
        "print(contar_caracter(\"a\", \"Sorpresa\") )\n",
        "print(contar_caracter(\"c\", \"Cáceres ciudad histórica\"))\n",
        "print(contar_caracter(\"C\", \"Cáceres ciudad histórica\"))"
      ],
      "metadata": {
        "id": "UU2G4lXc2YyB",
        "outputId": "4f991b44-8670-4d93-a03c-61af699c8d0e",
        "colab": {
          "base_uri": "https://localhost:8080/"
        }
      },
      "execution_count": null,
      "outputs": [
        {
          "output_type": "stream",
          "name": "stdout",
          "text": [
            "1\n",
            "3\n",
            "1\n"
          ]
        }
      ]
    },
    {
      "cell_type": "markdown",
      "source": [
        "## Reto 137: Palabras compuestas\n",
        "* Una palabra se ha dividido en una parte izquierda y una parte derecha.\n",
        "* Vuelva a formar la palabra uniendo ambas mitades y haciendo que el primer caracter sea una letra mayúscula.\n",
        "* Ejemplos:\n",
        "    1. obtener_palabra(\"java\", \"script\") ➞ \"Javascript\"\n",
        "    2. obtener_palabra(\"data\", \"base\") ➞ \"Database\"\n",
        "    3. obtener_palabra(\"cyber\", \"space\") ➞ \"Cyberspace\"\n",
        "    4. obtener_palabra(\"net\", \"working\") ➞ \"Networking\""
      ],
      "metadata": {
        "id": "P79QqyJcmVaQ"
      }
    },
    {
      "cell_type": "code",
      "source": [
        "def obtener_palabra(a, b):\n",
        "    return a.title() + b"
      ],
      "metadata": {
        "id": "R5VcTrpu2YTm"
      },
      "execution_count": null,
      "outputs": []
    },
    {
      "cell_type": "code",
      "source": [
        "print(obtener_palabra(\"java\", \"script\"))\n",
        "print(obtener_palabra(\"data\", \"base\"))\n",
        "print(obtener_palabra(\"cyber\", \"space\"))\n",
        "print(obtener_palabra(\"net\", \"working\"))"
      ],
      "metadata": {
        "id": "SsisDVhq2YTm",
        "outputId": "9b0c8175-a956-4d2b-c46c-ea92cb1969c5",
        "colab": {
          "base_uri": "https://localhost:8080/"
        }
      },
      "execution_count": null,
      "outputs": [
        {
          "output_type": "stream",
          "name": "stdout",
          "text": [
            "Javascript\n",
            "Database\n",
            "Cyberspace\n",
            "Networking\n"
          ]
        }
      ]
    },
    {
      "cell_type": "markdown",
      "source": [
        "## Reto 138: Cada persona con su ocupación\n",
        "* Tienes dos listas.\n",
        "    >- Una muestra los nombres de las personas: `names`\n",
        "    >- La otra muestra sus ocupaciones: `jobs`\n",
        "* Su tarea consiste en crear un diccionario que muestre a cada persona en su respectiva ocupación.\n",
        "* Las personas y ocupaciones siguen el mismo orden en sus listas.\n",
        "* Ejemplo:\n",
        "    - `names = [\"Leo\", \"Vega\", \"Jana\", \"Alex\", \"Eva\"]`\n",
        "    - `jobs = [\"Lawyer\", \"Teacher\", \"Doctor\", \"Programmer\", \"Chef\"]`\n",
        "\n",
        "    - `asignar(names, jobs) ➞ {'Leo': 'Lawyer', 'Vega': 'Teacher', 'Jana': 'Doctor', 'Alex': 'Programmer', 'Eva': 'Chef'}`"
      ],
      "metadata": {
        "id": "bhmE6XhYmVf8"
      }
    },
    {
      "cell_type": "code",
      "source": [
        "def asignar(lst1, lst2):\n",
        "    return dict(zip(lst1, lst2))"
      ],
      "metadata": {
        "id": "uBUHlCaD2X5h"
      },
      "execution_count": null,
      "outputs": []
    },
    {
      "cell_type": "code",
      "source": [
        "names = [\"Leo\", \"Vega\", \"Jana\", \"Alex\", \"Eva\"]\n",
        "jobs = [\"Lawyer\", \"Teacher\", \"Doctor\", \"Programmer\", \"Chef\"]\n",
        "print(asignar(names, jobs))"
      ],
      "metadata": {
        "id": "-lxkas2l2X5h",
        "outputId": "f355c886-1933-4cff-c739-1dc45d01059b",
        "colab": {
          "base_uri": "https://localhost:8080/"
        }
      },
      "execution_count": null,
      "outputs": [
        {
          "output_type": "stream",
          "name": "stdout",
          "text": [
            "{'Leo': 'Lawyer', 'Vega': 'Teacher', 'Jana': 'Doctor', 'Alex': 'Programmer', 'Eva': 'Chef'}\n"
          ]
        }
      ]
    },
    {
      "cell_type": "markdown",
      "source": [
        "## Reto 139: Comprobar si un array cabe dentro de otro\n",
        "* Cree una función que devuelva `True` si la primera lista se puede anidar dentro de la segunda y `False` en caso contrario.\n",
        "* Ejemplos:\n",
        "    1. puede_anidarse([1, 2, 3, 4], [0, 6]) ➞ True\n",
        "    2. puede_anidarse([3, 1], [4, 2, 0]) ➞ True\n",
        "    3. puede_anidarse([2, -1], [-3, 5]) ➞ True\n",
        "    3. puede_anidarse([9, 9, 8], [8, 9]) ➞ False\n",
        "    4. puede_anidarse([1, 2, 3, 4], [2, 3]) ➞ False\n",
        "    5. puede_anidarse([1, 2, 4, 5, 6], [0, 6]) ➞ False\n",
        "    6. puede_anidarse([0, 1, 2, 3, 5], [0, 6]) ➞ False"
      ],
      "metadata": {
        "id": "oFfB679qmVl6"
      }
    },
    {
      "cell_type": "code",
      "source": [
        "def puede_anidarse(lst1, lst2):\n",
        "    return min(lst1) > min(lst2) and max(lst1) < max(lst2)"
      ],
      "metadata": {
        "id": "Vkw7_Qg-2Xes"
      },
      "execution_count": null,
      "outputs": []
    },
    {
      "cell_type": "code",
      "source": [
        "print(puede_anidarse([1, 2, 3, 4], [0, 6]))\n",
        "print(puede_anidarse([3, 1], [4, 2, 0]))\n",
        "print(puede_anidarse([2, -1], [-3, 5]))\n",
        "print(puede_anidarse([9, 9, 8], [8, 9]))\n",
        "print(puede_anidarse([1, 2, 3, 4], [2, 3]))\n",
        "print(puede_anidarse([1, 2, 4, 5, 6], [0, 6]))\n",
        "print(puede_anidarse([0, 1, 2, 3, 5], [0, 6]))"
      ],
      "metadata": {
        "id": "MTwONeIP2Xes",
        "colab": {
          "base_uri": "https://localhost:8080/"
        },
        "outputId": "9a230f62-6a12-449e-fbc1-c9744ae1b95a"
      },
      "execution_count": null,
      "outputs": [
        {
          "output_type": "stream",
          "name": "stdout",
          "text": [
            "True\n",
            "True\n",
            "True\n",
            "False\n",
            "False\n",
            "False\n",
            "False\n"
          ]
        }
      ]
    },
    {
      "cell_type": "markdown",
      "source": [
        "## Reto 140: Obtener el nombre de fichero\n",
        "* Cree una función que devuelva el nombre de archivo seleccionado de una ruta.\n",
        "* La función debe retornar el fichero y debe incluir la extensión.\n",
        "* Ejemplos:\n",
        "    1. get_filename(\"C:/Projects/tests/ascii/prueba.txt\") ➞ \"prueba.txt\"\n",
        "    2. get_filename(\"C:/Users/marta/Music/Beethoven_5.mp3\") ➞ \"Beethoven_5.mp3\"\n",
        "    3. get_filename(\"editor.exe\") ➞ \"editor.exe\""
      ],
      "metadata": {
        "id": "AhoT4oM5mVrK"
      }
    },
    {
      "cell_type": "code",
      "source": [
        "def get_filename(ruta):\n",
        "    if '/' in ruta:\n",
        "        return ruta.split('/')[-1]\n",
        "    else:\n",
        "        return ruta"
      ],
      "metadata": {
        "id": "rWqqKFF72XAh"
      },
      "execution_count": null,
      "outputs": []
    },
    {
      "cell_type": "code",
      "source": [
        "print(get_filename(\"C:/Projects/tests/ascii/prueba.txt\"))\n",
        "print(get_filename(\"C:/Users/marta/Music/Beethoven_5.mp3\"))\n",
        "print(get_filename(\"editor.exe\"))"
      ],
      "metadata": {
        "id": "bYUZCRDh2XAh",
        "colab": {
          "base_uri": "https://localhost:8080/"
        },
        "outputId": "17dcebbd-31f9-494f-83e5-758eb3c9cfdd"
      },
      "execution_count": null,
      "outputs": [
        {
          "output_type": "stream",
          "name": "stdout",
          "text": [
            "prueba.txt\n",
            "Beethoven_5.mp3\n",
            "editor.exe\n"
          ]
        }
      ]
    },
    {
      "cell_type": "markdown",
      "source": [
        "## Reto 141: Recrear la función `max`\n",
        "* Dada una lista de números enteros de tamaño variable.\n",
        "* Crear una función que retorne el mayor de todos los valores de la lista.\n",
        "* No debe utilizar las funciones `max` o `min`.\n",
        "* Ejemplos:\n",
        "    1. maximo([1, 3, 5, 7]) ➞ 7\n",
        "    2. maximo([5, 9, 1, 0]) ➞ 9\n",
        "    3. maximo([-9, -7, -3, -5, -18]) ➞ -3"
      ],
      "metadata": {
        "id": "B03XPRVYfQZo"
      }
    },
    {
      "cell_type": "code",
      "source": [
        "def maximo(lst):\n",
        "    candidato_max = lst[0]\n",
        "    for i in lst:\n",
        "        if i > candidato_max:\n",
        "            candidato_max = i\n",
        "    return candidato_max"
      ],
      "metadata": {
        "id": "ki1yxMoggfam"
      },
      "execution_count": null,
      "outputs": []
    },
    {
      "cell_type": "code",
      "source": [
        "print(maximo([1, 3, 5, 7]))\n",
        "print(maximo([5, 9, 1, 0]))\n",
        "print(maximo([-9, -7, -3, -5, -18]))"
      ],
      "metadata": {
        "id": "CVABQkPZhSXS",
        "outputId": "41bddd96-174f-4eef-d9a5-411991a98b14",
        "colab": {
          "base_uri": "https://localhost:8080/"
        }
      },
      "execution_count": null,
      "outputs": [
        {
          "output_type": "stream",
          "name": "stdout",
          "text": [
            "7\n",
            "9\n",
            "-3\n"
          ]
        }
      ]
    },
    {
      "cell_type": "markdown",
      "source": [
        "## Reto 142: Rotar una posición en la lista\n",
        "* Dada una lista, gire los valores una posición en el sentido de las agujas del reloj (el último valor se envía a la primera posición).\n",
        "* Ejemplos:\n",
        "    1. rotar([1, 2, 3, 4, 5]) ➞ [5, 1, 2, 3, 4]\n",
        "    2. rotar([6, 5, 8, 9, 7]) ➞ [7, 6, 5, 8, 9]\n",
        "    3. rotar([20, 15, 26, 8, 4]) ➞ [4, 20, 15, 26, 8]"
      ],
      "metadata": {
        "id": "S_dnkAPMmV8G"
      }
    },
    {
      "cell_type": "code",
      "source": [
        "def rotar(lst):\n",
        "    return [lst.pop()] + lst\n",
        "\n",
        "def rotar(lst):\n",
        "    return [lst[-1]] + lst[:-1]"
      ],
      "metadata": {
        "id": "P2oH_Fhf2Vu4"
      },
      "execution_count": null,
      "outputs": []
    },
    {
      "cell_type": "code",
      "source": [
        "print(rotar([1, 2, 3, 4, 5]))\n",
        "print(rotar([6, 5, 8, 9, 7]))\n",
        "print(rotar([20, 15, 26, 8, 4]))"
      ],
      "metadata": {
        "id": "GJMd1V-Y2Vu9",
        "colab": {
          "base_uri": "https://localhost:8080/"
        },
        "outputId": "5194917f-6572-436e-fa38-62212af3c655"
      },
      "execution_count": null,
      "outputs": [
        {
          "output_type": "stream",
          "name": "stdout",
          "text": [
            "[5, 1, 2, 3, 4]\n",
            "[7, 6, 5, 8, 9]\n",
            "[4, 20, 15, 26, 8]\n"
          ]
        }
      ]
    },
    {
      "cell_type": "markdown",
      "source": [
        "## Reto 143: Diferencia de volumen entre cubos\n",
        "* Cree un programa que tome dos listas de números enteros, `a` y `b`.\n",
        "* Cada lista constará de 3 números enteros positivos, que representan las dimensiones de los cubos `a` y `b`.\n",
        "* Encuentra la diferencia de volúmenes de los cubos.\n",
        "* Por ejemplo, si los parámetros pasados son:\n",
        "    - `([2, 2, 3], [5, 4, 1])`\n",
        "* el volumen de `a` es 12 y el volumen de `b` es 20.\n",
        "* Por lo tanto, la función debería devolver 8, en este caso.\n",
        "* Ejemplos:\n",
        "    1. calcular_diferencia([ 28, 16, 29 ], [ 7, 8, 17 ]) ➞ 12040\n",
        "    2. calcular_diferencia([ 9, 22, 18 ], [ 16, 24, 10 ]) ➞ 276\n",
        "    3. calcular_diferencia([ 1, 9, 25 ], [ 10, 7, 9 ]) ➞ 405\n",
        "    4. calcular_diferencia([ 7, 6, 16 ], [ 26, 9, 26 ]) ➞ 5412"
      ],
      "metadata": {
        "id": "ZbsKL9NWmWBT"
      }
    },
    {
      "cell_type": "code",
      "source": [
        "# Método 1: Usando librería\n",
        "from numpy import prod\n",
        "\n",
        "def calcular_diferencia(a, b):\n",
        "    return abs(prod(a) - prod(b))\n",
        "\n",
        "# Método 2: Creando una función auxiliar que multiplica\n",
        "def multi(a):\n",
        "    result = 1\n",
        "    for x in a:\n",
        "        result *= x\n",
        "    return result\n",
        "\n",
        "def calcular_diferencia(a, b):\n",
        "    return abs(multi(a) - multi(b))\n",
        "\n",
        "# Método 3: La función lambda solo es válida para listas de 3 elementos\n",
        "product = lambda a: a[0] * a[1] * a[2]\n",
        "\n",
        "def calcular_diferencia(a, b):\n",
        "    return abs(product(a) - product(b))\n"
      ],
      "metadata": {
        "id": "BNPwV2v_2Ucv"
      },
      "execution_count": null,
      "outputs": []
    },
    {
      "cell_type": "code",
      "source": [
        "print(calcular_diferencia([ 28, 16, 29 ], [ 7, 8, 17 ]))\n",
        "print(calcular_diferencia([ 9, 22, 18 ], [ 16, 24, 10 ]))\n",
        "print(calcular_diferencia([ 1, 9, 25 ], [ 10, 7, 9 ]))\n",
        "print(calcular_diferencia([ 7, 6, 16 ], [ 26, 9, 26 ]))"
      ],
      "metadata": {
        "id": "NIxqcR-e2Ucv",
        "outputId": "5e384031-3cd6-4fcb-9342-f85155451b4e",
        "colab": {
          "base_uri": "https://localhost:8080/"
        }
      },
      "execution_count": null,
      "outputs": [
        {
          "output_type": "stream",
          "name": "stdout",
          "text": [
            "12040\n",
            "276\n",
            "405\n",
            "5412\n"
          ]
        }
      ]
    },
    {
      "cell_type": "markdown",
      "source": [
        "## Reto 144: Ordenar números en orden ascendente\n",
        "* Cree una función que tome una lista de números y devuelva una nueva lista, ordenada en orden ascendente (de menor a mayor).\n",
        "* Si el argumento de la función es `None` o una lista vacía, devuelve una lista vacía.\n",
        "* Ejemplos:\n",
        "    1. ordenar_ascendente([]) ➞ []\n",
        "    2. ordenar_ascendente([1, 2, 10, 50, 5]) ➞ [1, 2, 5, 10, 50]\n",
        "    3. ordenar_ascendente([80, 29, 4, -95, -24, 85]) ➞ [-95, -24, 4, 29, 80, 85]"
      ],
      "metadata": {
        "id": "sIQRdBtMmWG-"
      }
    },
    {
      "cell_type": "code",
      "source": [
        "def ordenar_ascendente(lista):\n",
        "    if lista == None or lista == []:\n",
        "        return []\n",
        "    lista.sort()  # la lista queda realmente ordenada, queda alterada\n",
        "    return lista\n",
        "\n",
        "def ordenar_ascendente(lista):\n",
        "    if lista == None or lista == []:\n",
        "        return []\n",
        "    return sorted(lista)  # la lista no se altera, sigue desordenada"
      ],
      "metadata": {
        "id": "WrpEZw_E2UC4"
      },
      "execution_count": null,
      "outputs": []
    },
    {
      "cell_type": "code",
      "source": [
        "print(ordenar_ascendente([]))\n",
        "print(ordenar_ascendente([1, 2, 10, 50, 5]))\n",
        "print(ordenar_ascendente([80, 29, 4, -95, -24, 85]))"
      ],
      "metadata": {
        "id": "PCaq_n8R2UC4",
        "outputId": "6cca06d9-5daf-4fda-9b88-787bbd275047",
        "colab": {
          "base_uri": "https://localhost:8080/"
        }
      },
      "execution_count": null,
      "outputs": [
        {
          "output_type": "stream",
          "name": "stdout",
          "text": [
            "[]\n",
            "[1, 2, 5, 10, 50]\n",
            "[-95, -24, 4, 29, 80, 85]\n"
          ]
        }
      ]
    },
    {
      "cell_type": "markdown",
      "source": [
        "## Reto 145: Encuentre el Index\n",
        "* Cree una función que tome una lista y un valor como argumentos\n",
        "* La función devolverá el índice que ocupa ese valor en la lista.\n",
        "* Ejemplos:\n",
        "    1. busca_indice([\"hi\", \"bye\", \"xyz\", \"abc\"], \"xyz\") ➞ 2\n",
        "    2. busca_indice([\"Red\", \"blue\", \"Blue\", \"Green\"], \"blue\") ➞ 1\n",
        "    3. busca_indice([\"a\", \"g\", \"y\", \"d\"], \"d\") ➞ 3\n",
        "    4. busca_indice([\"Kiwi\", \"Orange\", \"Grape\", \"Apple\"], \"Kiwi\") ➞ 0\n",
        "    5. busca_indice([10, 11, 12, 13, 14], 13) ➞ 3"
      ],
      "metadata": {
        "id": "aOicNPy_mWMS"
      }
    },
    {
      "cell_type": "code",
      "source": [
        "def busca_indice(lista, valor):\n",
        "    return lista.index(valor)"
      ],
      "metadata": {
        "id": "RuJ06_SI2Tq_"
      },
      "execution_count": null,
      "outputs": []
    },
    {
      "cell_type": "code",
      "source": [
        "print(busca_indice([\"hi\", \"bye\", \"xyz\", \"abc\"], \"xyz\"))\n",
        "print(busca_indice([\"Red\", \"blue\", \"Blue\", \"Green\"], \"blue\"))\n",
        "print(busca_indice([\"a\", \"g\", \"y\", \"d\"], \"d\"))\n",
        "print(busca_indice([\"Kiwi\", \"Orange\", \"Grape\", \"Apple\"], \"Kiwi\"))\n",
        "print(busca_indice([10, 11, 12, 13, 14], 13))"
      ],
      "metadata": {
        "id": "CC5IT89w2TrE",
        "outputId": "5f6986dd-424c-42ec-bc08-6aa1dbe337d2",
        "colab": {
          "base_uri": "https://localhost:8080/"
        }
      },
      "execution_count": null,
      "outputs": [
        {
          "output_type": "stream",
          "name": "stdout",
          "text": [
            "2\n",
            "1\n",
            "3\n",
            "0\n",
            "3\n"
          ]
        }
      ]
    },
    {
      "cell_type": "markdown",
      "source": [
        "## Reto 146: Suma de mínimos en una matriz\n",
        "* Cree una función que tome una matriz y devuelva la suma del valor mínimo en cada fila.\n",
        "* Una matriz es una lista de listas, esto es, una lista donde los elementos son otras listas.\n",
        "* Ejemplos:\n",
        "    1. suma_minimos([[1, 2, 3, 4], [5, 6, 7, 8], [20, 21, 34, 10]]) ➞ 16\n",
        "    2. suma_minimos([[8, 9, -3], [3, 8, 4], [0, -2, 4]]) ➞ -2\n"
      ],
      "metadata": {
        "id": "faQ0Lgb3mWSM"
      }
    },
    {
      "cell_type": "code",
      "source": [
        "def suma_minimos(matriz):\n",
        "    total = 0\n",
        "    for fila in matriz:\n",
        "        total += min(fila)\n",
        "    return total\n",
        "\n",
        "# usando list comprehension\n",
        "def suma_minimos(matrix):\n",
        "    return sum([min(row) for row in matrix])"
      ],
      "metadata": {
        "id": "a9FGFHrF2Svt"
      },
      "execution_count": null,
      "outputs": []
    },
    {
      "cell_type": "code",
      "source": [
        "print(suma_minimos([[1, 2, 3, 4], [5, 6, 7, 8], [20, 21, 34, 10]]))\n",
        "print(suma_minimos([[8, 9, -3], [3, 8, 4], [0, -2, 4]]))"
      ],
      "metadata": {
        "id": "pmw9P32y2Svy",
        "outputId": "2e36159e-88c5-44cf-baad-3ab2c12c894d",
        "colab": {
          "base_uri": "https://localhost:8080/"
        }
      },
      "execution_count": null,
      "outputs": [
        {
          "output_type": "stream",
          "name": "stdout",
          "text": [
            "16\n",
            "-2\n"
          ]
        }
      ]
    },
    {
      "cell_type": "markdown",
      "source": [
        "## Reto 147: Python List Slicing\n",
        "* Dada una lista y un número entero `n`, devuelva la suma de los primeros `n` números de la lista.\n",
        "* Si `n` es mayor que la longitud de la lista, devuelve la suma de toda la lista.\n",
        "* La *list slicing* es una técnica común en Python que permite dividir las listas en porciones, en tramos, en rebanadas.\n",
        "* Ejemplos:\n",
        "    1. sumar_los_primeros([1, 3, 2], 2) ➞ 4\n",
        "    2. sumar_los_primeros([4, 2, 5, 7], 4) ➞ 18\n",
        "    3. sumar_los_primeros([3, 6, 2], 0) ➞ 0\n",
        "    4. sumar_los_primeros([3, 6, 2], 7) ➞ 11"
      ],
      "metadata": {
        "id": "XjwB1tLymWYj"
      }
    },
    {
      "cell_type": "code",
      "source": [
        "def sumar_los_primeros(lista, n):\n",
        "    return sum(lista[:n])"
      ],
      "metadata": {
        "id": "hgsMeTzf2RHL"
      },
      "execution_count": null,
      "outputs": []
    },
    {
      "cell_type": "code",
      "source": [
        "print(sumar_los_primeros([1, 3, 2], 2))\n",
        "print(sumar_los_primeros([4, 2, 5, 7], 4))\n",
        "print(sumar_los_primeros([3, 6, 2], 0))\n",
        "print(sumar_los_primeros([3, 6, 2], 7))"
      ],
      "metadata": {
        "id": "EFVnL_bb2RHQ",
        "outputId": "e044ae78-0293-497a-a7b2-cba88a5e35d3",
        "colab": {
          "base_uri": "https://localhost:8080/"
        }
      },
      "execution_count": null,
      "outputs": [
        {
          "output_type": "stream",
          "name": "stdout",
          "text": [
            "4\n",
            "18\n",
            "0\n",
            "11\n"
          ]
        }
      ]
    },
    {
      "cell_type": "markdown",
      "source": [
        "## Reto 148: Evitando `else` en algunos casos\n",
        "* El siguiente código pretende identificar un número como positivo, negativo o cero.\n",
        "* Tenemos este código:\n",
        "<pre>\n",
        "def analiza(x):\n",
        "\tif x > 0:\n",
        "\t\treturn \"positivo\"\n",
        "\telif x < 0:\n",
        "\t\treturn \"negativo\"\n",
        "\telse:\n",
        "\t\treturn \"cero\"\n",
        "</pre>\n",
        "\n",
        "* Nos gustaría eliminar la intrucción `else` del código y comprobar que todo funciona bien.\n",
        "* Ejemplos:\n",
        "    1. analiza(4) ➞ \"positivo\"\n",
        "    2. analiza(-4) ➞ \"negativo\"\n",
        "    3. analiza(0) ➞ \"cero\""
      ],
      "metadata": {
        "id": "9WVlhv7-mWef"
      }
    },
    {
      "cell_type": "code",
      "source": [
        "def analiza(x):\n",
        "    if x > 0:\n",
        "        return \"positivo\"\n",
        "    elif x < 0:\n",
        "        return \"negativo\"\n",
        "    return \"cero\"\n",
        "\n",
        "def analiza(x):\n",
        "    return 'positivo' if x > 0 else 'negativo' if x < 0 else 'cero'"
      ],
      "metadata": {
        "id": "qK0W0-zD2QCj"
      },
      "execution_count": null,
      "outputs": []
    },
    {
      "cell_type": "code",
      "source": [
        "print(analiza(4))\n",
        "print(analiza(-4))\n",
        "print(analiza(0))"
      ],
      "metadata": {
        "id": "hOKsrBiX2QCv",
        "outputId": "ac3bdd21-15e1-4fac-ee06-67ad4802f09f",
        "colab": {
          "base_uri": "https://localhost:8080/"
        }
      },
      "execution_count": null,
      "outputs": [
        {
          "output_type": "stream",
          "name": "stdout",
          "text": [
            "positivo\n",
            "negativo\n",
            "cero\n"
          ]
        }
      ]
    },
    {
      "cell_type": "markdown",
      "source": [
        "## Reto 149: La letra prohibida\n",
        "* Dada una letra y una lista de palabras, indique si la letra no aparece en ninguna de las palabras.\n",
        "* Todas las entradas proporcionadas estarán en minúsculas.\n",
        "* Ejemplos:\n",
        "    1. letra_prohibida(\"r\", [\"rock\", \"paper\", \"scissors\"]) ➞ False\n",
        "    2. letra_prohibida(\"a\", [\"spoon\", \"fork\", \"knife\"]) ➞ True\n",
        "    3. letra_prohibida(\"m\", []) ➞ True"
      ],
      "metadata": {
        "id": "_6MLjRP9mWlf"
      }
    },
    {
      "cell_type": "code",
      "source": [
        "def letra_prohibida(letra, lista):\n",
        "    for palabra in lista:\n",
        "        if letra in palabra:\n",
        "            return False\n",
        "    return True\n",
        "\n",
        "# usando una expresión generadora dentro de la función all()\n",
        "def letra_prohibida(letra, lista):\n",
        "    return all(letra not in palabra for palabra in lista)"
      ],
      "metadata": {
        "id": "ECgG_5Sj2Nrw"
      },
      "execution_count": null,
      "outputs": []
    },
    {
      "cell_type": "code",
      "source": [
        "print(letra_prohibida(\"r\", [\"rock\", \"paper\", \"scissors\"]))\n",
        "print(letra_prohibida(\"a\", [\"spoon\", \"fork\", \"knife\"]))\n",
        "print(letra_prohibida(\"m\", []))"
      ],
      "metadata": {
        "id": "q34_8YEU2Nrw",
        "outputId": "e9cc248f-4199-4335-a8ea-98bb3766a357",
        "colab": {
          "base_uri": "https://localhost:8080/"
        }
      },
      "execution_count": null,
      "outputs": [
        {
          "output_type": "stream",
          "name": "stdout",
          "text": [
            "False\n",
            "True\n",
            "True\n"
          ]
        }
      ]
    },
    {
      "cell_type": "markdown",
      "source": [
        "## Reto 150: Promedios recortados\n",
        "* Dada una lista de números, elimine los números más grandes y más pequeños y calcule el promedio de los números restantes.\n",
        "* Redondea al número entero más próximo.\n",
        "* El tamaño de la lista es mayor que 2.\n",
        "* Ejemplos:\n",
        "    1. promedios_recortados([4, 5, 7, 100]) ➞ 6\n",
        "    2. promedios_recortados([10, 25, 5, 15, 20]) ➞ 15\n",
        "    3. promedios_recortados([1, 1, 1]) ➞ 1\n",
        "    4. promedios_recortados([-2, -1, 7, 2, 10]) ➞ 3"
      ],
      "metadata": {
        "id": "oYAck1PBmWr0"
      }
    },
    {
      "cell_type": "code",
      "source": [
        "def promedios_recortados(lista):\n",
        "    lista.sort()\n",
        "    lista_recortada = lista[1:-1]\n",
        "    return round(sum(lista_recortada) / len(lista_recortada))"
      ],
      "metadata": {
        "id": "tHcGOhr-2M0a"
      },
      "execution_count": null,
      "outputs": []
    },
    {
      "cell_type": "code",
      "source": [
        "print(promedios_recortados([4, 5, 7, 100]))\n",
        "print(promedios_recortados([10, 25, 5, 15, 20]))\n",
        "print(promedios_recortados([1, 1, 1]))\n",
        "print(promedios_recortados([-2, -1, 7, 2, 10]))"
      ],
      "metadata": {
        "id": "T9QcZgKB2M0b",
        "outputId": "1f0810ec-71a1-4e88-bfc1-f2e0ab3664da",
        "colab": {
          "base_uri": "https://localhost:8080/"
        }
      },
      "execution_count": null,
      "outputs": [
        {
          "output_type": "stream",
          "name": "stdout",
          "text": [
            "6\n",
            "15\n",
            "1\n",
            "3\n"
          ]
        }
      ]
    },
    {
      "cell_type": "markdown",
      "source": [
        "## Reto 151: Recreando la función `len()`\n",
        "* Cree una función que devuelva la longitud de una cadena o de una lista, sin usar len().\n",
        "* Ejemplos:\n",
        "    1. length(\"Hello World\") ➞ 11\n",
        "    2. length([2,3,4,-7]) ➞ 4\n",
        "    3. length(\"Learn by Doing\") ➞ 14\n",
        "    4. length({'list':[], 'set':{}, 'str':\"\", 'int':0, 'float':0.0}) ➞ 5\n",
        "    5. length({1, '1', \"1\"}) ➞ 2"
      ],
      "metadata": {
        "id": "TKCDa5k2mWyf"
      }
    },
    {
      "cell_type": "code",
      "source": [
        "def length(objeto):\n",
        "    contador = 0\n",
        "    for item in objeto:\n",
        "        contador += 1\n",
        "    return contador\n",
        "\n",
        "# usando list comprehension\n",
        "def length(obj):\n",
        "    return sum([1 for i in obj])"
      ],
      "metadata": {
        "id": "1p0fpenk2MYz"
      },
      "execution_count": null,
      "outputs": []
    },
    {
      "cell_type": "code",
      "source": [
        "print(length(\"Hello World\"))\n",
        "print(length([2,3,4,-7]))\n",
        "print(length(\"Learn by Doing\"))\n",
        "print(length({'list':[], 'set':{}, 'str':\"\", 'int':0, 'float':0.0}))\n",
        "print(length({1, '1', \"1\"}))"
      ],
      "metadata": {
        "id": "6t_6qVuf2MY4",
        "outputId": "c473de58-91ae-4f79-bb59-d9aaca559ec0",
        "colab": {
          "base_uri": "https://localhost:8080/"
        }
      },
      "execution_count": null,
      "outputs": [
        {
          "output_type": "stream",
          "name": "stdout",
          "text": [
            "11\n",
            "4\n",
            "14\n",
            "5\n",
            "2\n"
          ]
        }
      ]
    },
    {
      "cell_type": "markdown",
      "source": [
        "## Reto 152: Evite los alimentos con demasiada grasa\n",
        "* Escriba una función que tome una lista de alimentos y devuelva una lista sin alimentos con alto contenido de grasa.\n",
        "* Los alimentos que contienen demasiada grasa (en este desafío) son: pizza y hamburguesa.\n",
        "* Ejemplos:\n",
        "    1. evite_grasa([\"pizza\", \"hamburguesa\", \"ensalada\"]) ➞ [\"ensalada\"]\n",
        "    2. evite_grasa([\"pizza\", \"hamburguesa\"]) ➞ []\n",
        "    3. evite_grasa([\"gazpacho\", \"pasta\", \"ensalada\"]) ➞ [\"gazpacho\", \"pasta\", \"ensalada\"]"
      ],
      "metadata": {
        "id": "g88irJihmW4g"
      }
    },
    {
      "cell_type": "code",
      "source": [
        "def evite_grasa(lst):\n",
        "    if 'pizza' in lst:\n",
        "        lst.remove('pizza')\n",
        "    if 'hamburguesa' in lst:\n",
        "        lst.remove('hamburguesa')\n",
        "    return lst\n",
        "\n",
        "# usando list comprehension\n",
        "def evite_grasa(lst):\n",
        "    return [comida for comida in lst if comida not in ['pizza', 'hamburguesa']]"
      ],
      "metadata": {
        "id": "XO8RPTuq2Ln2"
      },
      "execution_count": null,
      "outputs": []
    },
    {
      "cell_type": "code",
      "source": [
        "print(evite_grasa([\"pizza\", \"hamburguesa\", \"ensalada\"]))\n",
        "print(evite_grasa([\"pizza\", \"hamburguesa\"]))\n",
        "print(evite_grasa([\"gazpacho\", \"pasta\", \"ensalada\"]))"
      ],
      "metadata": {
        "id": "NQYEHN4t2Ln8",
        "outputId": "640fa7ab-327a-4493-d23f-eca0e3510cf1",
        "colab": {
          "base_uri": "https://localhost:8080/"
        }
      },
      "execution_count": null,
      "outputs": [
        {
          "output_type": "stream",
          "name": "stdout",
          "text": [
            "['ensalada']\n",
            "[]\n",
            "['gazpacho', 'pasta', 'ensalada']\n"
          ]
        }
      ]
    },
    {
      "cell_type": "markdown",
      "source": [
        "## Reto 153: Un día en el mercado\n",
        "* Bill y Will partirán hacia la feria anual.\n",
        "* Mientras se acercan a los puestos, Bill dice que podrá llevar a casa más cosas que Will.\n",
        "* Will lo toma como un desafío, Will lo refuta y comienza la competición.\n",
        "* Bill tiene un espacio de inventario infinito, pero una cantidad limitada de monedas.\n",
        "* Will tiene una cantidad infinita de monedas, pero un espacio de inventario limitado.\n",
        "* Los argumentos de la función que debe crear van en este orden:\n",
        "    - `who_wins_tonight(coins, space, price, size)``\n",
        "    1. Primero: La camtodad de monedas de Bill.\n",
        "    2. Segundo: La cantidad de espacio de inventario de Will.\n",
        "    3. Tercero: El precio del artículo.\n",
        "    4. Cuarto: El tamaño del artículo.\n",
        "* Ejemplo resuelto:\n",
        "    - `who_wins_tonight(40, 96, 5, 10) ➞ \"Will\"`\n",
        "    - Cada prodcuto cuesta 5 monedas y ocupa un espacio de inventario de 10.\n",
        "    - Bill puede comprar un máximo de 8 productos (40 coins DIV 5 = 8).\n",
        "    - Will sólo podrá llevar a casa un máximo de 9 artículos. (96 inventory spaces DIV 10 = 9). En realidad 96/5 es 9.6 pero se toma la parte entera, redondeando por defecto.\n",
        "    - Will es el ganador en este caso.\n",
        "* Ejemplos:\n",
        "    1. who_wins_tonight(20, 20, 5, 10) ➞ \"Bill\"\n",
        "    2. who_wins_tonight(10, 2, 20, 1) ➞ \"Will\"\n",
        "    3. who_wins_tonight(3, 7, 2, 5) ➞ \"Tie\"\n",
        "    4. who_wins_tonight(40, 96, 5, 10) ➞ \"Will\"\n",
        "* DIV significa división entera. Eso significa que redondeas hacia abajo después de dividir.\n",
        "* Devuelve \"Tie\" (Empate) si ambos contendientes pueden permitirse la misma cantidad de cosas.\n",
        "* Todos los números serán números enteros positivos."
      ],
      "metadata": {
        "id": "NDwjfe7amW-g"
      }
    },
    {
      "cell_type": "code",
      "source": [
        "def who_wins_tonight(coins, space, price, size):\n",
        "    items_bill = coins // price\n",
        "    items_will = space // size\n",
        "    if items_bill > items_will:\n",
        "        return 'Bill'\n",
        "    elif items_will > items_bill:\n",
        "        return 'Will'\n",
        "    return 'Tie'"
      ],
      "metadata": {
        "id": "smNiNTe32KlU"
      },
      "execution_count": null,
      "outputs": []
    },
    {
      "cell_type": "code",
      "source": [
        "print(who_wins_tonight(20, 20, 5, 10))\n",
        "print(who_wins_tonight(10, 2, 20, 1))\n",
        "print(who_wins_tonight(3, 7, 2, 5))\n",
        "print(who_wins_tonight(40, 96, 5, 10))"
      ],
      "metadata": {
        "id": "upeKBXjC2KlU",
        "outputId": "762c7cd1-18cc-4a96-8a9b-7937c2d8f9eb",
        "colab": {
          "base_uri": "https://localhost:8080/"
        }
      },
      "execution_count": null,
      "outputs": [
        {
          "output_type": "stream",
          "name": "stdout",
          "text": [
            "Bill\n",
            "Will\n",
            "Tie\n",
            "Will\n"
          ]
        }
      ]
    },
    {
      "cell_type": "markdown",
      "source": [
        "## Reto 154: Encuentra las letras únicas\n",
        "* Cree una función que tome una cadena y devuelva las letras que aparecen solo una vez.\n",
        "* Ejemplos:\n",
        "    1. letras_unicas(\"monopoly\") ➞ [\"m\", \"n\", \"p\", \"l\", \"y\"]\n",
        "    2. letras_unicas(\"balloon\") ➞ [\"b\", \"a\", \"n\"]\n",
        "    3. letras_unicas(\"analysis\") ➞ [\"n\", \"l\", \"y\", \"i\"]\n",
        "    4. letras_unicas(\"banana\") ➞ [\"b\"]\n",
        "    5. letras_unicas(\"reappear\") ➞ []\n",
        "* La lista final no debe incluir letras que aparezcan más de una vez en la cadena.\n",
        "* Devuelve las letras en la secuencia en la que estaban originalmente, no las ordene.\n",
        "* Todas las letras estarán en minúsculas."
      ],
      "metadata": {
        "id": "TK0bYgaymXEe"
      }
    },
    {
      "cell_type": "code",
      "source": [
        "def letras_unicas(palabra):\n",
        "    result = []\n",
        "    for letra in palabra:\n",
        "        if palabra.count(letra) == 1:\n",
        "            result.append(letra)\n",
        "    return result"
      ],
      "metadata": {
        "id": "otVTvowZ2KKb"
      },
      "execution_count": null,
      "outputs": []
    },
    {
      "cell_type": "code",
      "source": [
        "print(letras_unicas(\"monopoly\") )\n",
        "print(letras_unicas(\"balloon\") )\n",
        "print(letras_unicas(\"analysis\"))\n",
        "print(letras_unicas(\"banana\"))\n",
        "print(letras_unicas(\"reappear\"))"
      ],
      "metadata": {
        "id": "73yvl4fx2KKc",
        "outputId": "a01277c2-46c0-4584-c19a-ed174a6a36ca",
        "colab": {
          "base_uri": "https://localhost:8080/"
        }
      },
      "execution_count": null,
      "outputs": [
        {
          "output_type": "stream",
          "name": "stdout",
          "text": [
            "['m', 'n', 'p', 'l', 'y']\n",
            "['b', 'a', 'n']\n",
            "['n', 'l', 'y', 'i']\n",
            "['b']\n",
            "[]\n"
          ]
        }
      ]
    },
    {
      "cell_type": "markdown",
      "source": [
        "## Reto 155: Lista de strings a lista de números\n",
        "* Cree una función que tome como parámetro una lista de números en forma de strings y devuelva una lista de números.\n",
        "* Algunos elementos son de tipo `float`\n",
        "* Ejemplos:\n",
        "    1. convertir_a_numeros([\"99\", \"20\"]) ➞ [99, 20]\n",
        "    2. convertir_a_numeros([\"9.4\", \"4.2\"]) ➞ [9.4, 4.2]\n",
        "    3. convertir_a_numeros([\"1\", \"3\", \"3.6\"] ➞ [1, 3, 3.6]"
      ],
      "metadata": {
        "id": "6uj_RrlkmXKE"
      }
    },
    {
      "cell_type": "code",
      "source": [
        "def convertir_a_numeros(lista):\n",
        "    return [float(elemento) if \".\" in elemento else int(elemento) for elemento in lista]\n",
        "\n",
        "def convertir_a_numeros(lista):\n",
        "    return list(map(lambda x: float(x) if '.' in x else int(x), lista))\n",
        "\n",
        "def convertir_a_numeros(lista):\n",
        "    numeros = []\n",
        "    for elemento in lista:\n",
        "        numero = float(elemento)\n",
        "        numeros.append(int(numero) if numero.is_integer() else numero)\n",
        "    return numeros\n",
        "\n",
        "# Método similar al anterior pero con list comprehension\n",
        "def convertir_a_numeros(lista):\n",
        "    return [int(float(e)) if float(e) == int(float(e)) else float(e) for e in lista]"
      ],
      "metadata": {
        "id": "8lPdlgA22Jp7"
      },
      "execution_count": null,
      "outputs": []
    },
    {
      "cell_type": "code",
      "source": [
        "print(convertir_a_numeros([\"99\", \"20\"]))\n",
        "print(convertir_a_numeros([\"9.4\", \"4.2\"]))\n",
        "print(convertir_a_numeros([\"1\", \"3\", \"3.6\"]))"
      ],
      "metadata": {
        "id": "iqrT72fw2Jp8",
        "colab": {
          "base_uri": "https://localhost:8080/"
        },
        "outputId": "c63057a9-7cbf-42ab-b870-f1e6407a521e"
      },
      "execution_count": null,
      "outputs": [
        {
          "output_type": "stream",
          "name": "stdout",
          "text": [
            "[99, 20]\n",
            "[9.4, 4.2]\n",
            "[1, 3, 3.6]\n"
          ]
        }
      ]
    },
    {
      "cell_type": "markdown",
      "source": [
        "## Reto 156: Errores al escanear un documento\n",
        "* El software de reconocimiento de caracteres a menudo comete errores cuando se digitalizan documentos (especialmente los antiguos escritos con una máquina de escribir).\n",
        "* Su tarea es corregir los errores en el texto digitalizado. Sólo tienes que manejar los siguientes errores:\n",
        "    1. A se malinterpreta como 4\n",
        "    2. S se malinterpreta como 5\n",
        "    3. O se malinterpreta como 0\n",
        "    4. I se malinterpreta como 1\n",
        "* Los casos de prueba contienen números sólo por error.\n",
        "* Ejemplos:\n",
        "    1. corregir_errores(\"DUBL1N\") ➞ \"DUBLIN\"\n",
        "    2. corregir_errores(\"51NG4P0RE\") ➞ \"SINGAPORE\"\n",
        "    3. corregir_errores(\"4514\") ➞ \"ASIA\""
      ],
      "metadata": {
        "id": "SpGVJVCJmXQC"
      }
    },
    {
      "cell_type": "code",
      "source": [
        "def corregir_errores(mystr):\n",
        "    result = \"\"\n",
        "    for letra in mystr:\n",
        "        if letra == '4':\n",
        "            result += \"A\"\n",
        "        elif letra == '5':\n",
        "            result += \"S\"\n",
        "        elif letra == '0':\n",
        "            result += \"O\"\n",
        "        elif letra == '1':\n",
        "            result += \"I\"\n",
        "        else:\n",
        "            result += letra\n",
        "    return result\n",
        "\n",
        "def corregir_errores(txt):\n",
        "    txt = txt.replace(\"4\", \"A\")\n",
        "    txt = txt.replace(\"5\", \"S\")\n",
        "    txt = txt.replace(\"0\", \"O\")\n",
        "    txt = txt.replace(\"1\", \"I\")\n",
        "    return txt"
      ],
      "metadata": {
        "id": "8jdYwdtc2JEi"
      },
      "execution_count": null,
      "outputs": []
    },
    {
      "cell_type": "code",
      "source": [
        "print(corregir_errores(\"DUBL1N\"))\n",
        "print(corregir_errores(\"51NG4P0RE\"))\n",
        "print(corregir_errores(\"4514\"))"
      ],
      "metadata": {
        "id": "zB1jDIsR2JEi",
        "colab": {
          "base_uri": "https://localhost:8080/"
        },
        "outputId": "845105ea-efb8-4d3e-80dc-478e6155a5b0"
      },
      "execution_count": null,
      "outputs": [
        {
          "output_type": "stream",
          "name": "stdout",
          "text": [
            "DUBLIN\n",
            "SINGAPORE\n",
            "ASIA\n"
          ]
        }
      ]
    },
    {
      "cell_type": "markdown",
      "source": [
        "## Reto 157: Repetir el último caracter\n",
        "* Cree una función que haga que el último carácter de una cadena se repita `n` veces.\n",
        "* Ejemplos:\n",
        "    1. repetir_ultimo(\"Hello\", 3) ➞ \"Hellooo\"\n",
        "    2. repetir_ultimo(\"hey\", 6) ➞ \"heyyyyyy\"\n",
        "    3. repetir_ultimo(\"y sin embargo se mueve!\", 5) ➞ \"y sin embargo se mueve!!!!!\""
      ],
      "metadata": {
        "id": "0JyFn9G4mXVs"
      }
    },
    {
      "cell_type": "code",
      "source": [
        "def repetir_ultimo(txt, n):\n",
        "    return txt[:-1] + ''.join([txt[-1]*n])"
      ],
      "metadata": {
        "id": "gvew9pDb2Io7"
      },
      "execution_count": null,
      "outputs": []
    },
    {
      "cell_type": "code",
      "source": [
        "print(repetir_ultimo(\"Hello\", 3))\n",
        "print(repetir_ultimo(\"hey\", 6))\n",
        "print(repetir_ultimo(\"y sin embargo se mueve!\", 5))"
      ],
      "metadata": {
        "id": "GrhX2E432Io8",
        "colab": {
          "base_uri": "https://localhost:8080/"
        },
        "outputId": "5961dd22-027d-4f5d-e7b0-0241ba7b692c"
      },
      "execution_count": null,
      "outputs": [
        {
          "output_type": "stream",
          "name": "stdout",
          "text": [
            "Hellooo\n",
            "heyyyyyy\n",
            "y sin embargo se mueve!!!!!\n"
          ]
        }
      ]
    },
    {
      "cell_type": "markdown",
      "source": [
        "## Reto 158: Comprobar si son iguales\n",
        "* En este desafío, debe verificar la igualdad de dos valores, `a` y `b`, dados a la función como parámetros.\n",
        "* Tanto el valor como el tipo de los parámetros deben ser iguales.\n",
        "* Los posibles tipos de parámetros dados son:\n",
        "    1. Números\n",
        "    2. Strings\n",
        "    3. Booleans (False o True)\n",
        "    4. Valores especiales: None\n",
        "* Implemente una función que devuelva `True` si los parámetros son iguales y `False` si no lo son.\n",
        "* Ejemplos:\n",
        "    1. comprobar_igualdad(1,  1) ➞ True\n",
        "    2. comprobar_igualdad(1, True) ➞ False\n",
        "    3. comprobar_igualdad(0, \"0\") ➞ False\n",
        "    4. comprobar_igualdad(0.0, False) ➞ False\n",
        "    5. comprobar_igualdad(7, 7.) ➞ False\n",
        "    6. comprobar_igualdad(bool(7), True) ➞ True\n",
        "    7. comprobar_igualdad(bool(7), bool(8)) ➞ True\n",
        "\n",
        "* Para que la función retorne `True` ambos valores deben ser iguales y ambos tipos deben ser iguales."
      ],
      "metadata": {
        "id": "t0NY31pRmXbq"
      }
    },
    {
      "cell_type": "code",
      "source": [
        "def comprobar_igualdad(a, b):\n",
        "    return a == b and type(a) == type(b)\n",
        "\n",
        "def comprobar_igualdad(a, b):\n",
        "    return a is b"
      ],
      "metadata": {
        "id": "PPfNQPKH2IF9"
      },
      "execution_count": null,
      "outputs": []
    },
    {
      "cell_type": "code",
      "source": [
        "print(comprobar_igualdad(1, 1))\n",
        "print(comprobar_igualdad(1, True))\n",
        "print(comprobar_igualdad(0, \"0\"))\n",
        "print(comprobar_igualdad(0.0, False))\n",
        "print(comprobar_igualdad(7, 7.))\n",
        "print(comprobar_igualdad(bool(7), True))\n",
        "print(comprobar_igualdad(bool(7), bool(8)))"
      ],
      "metadata": {
        "id": "3-rnPukr2IF-",
        "colab": {
          "base_uri": "https://localhost:8080/"
        },
        "outputId": "8c5aa466-c91f-46cd-cc46-6f6994cd3c5b"
      },
      "execution_count": null,
      "outputs": [
        {
          "output_type": "stream",
          "name": "stdout",
          "text": [
            "True\n",
            "False\n",
            "False\n",
            "False\n",
            "False\n",
            "True\n",
            "True\n"
          ]
        }
      ]
    },
    {
      "cell_type": "markdown",
      "source": [
        "## Reto 159: Convertir una Lista en un String\n",
        "* Cree una función que tome una lista de números o letras y devuelva una cadena.\n",
        "* Ejemplos:\n",
        "    1. list_to_string([1, 2, 3, 4, 5, 6]) ➞ \"123456\"\n",
        "    2. list_to_string([\"a\", \"b\", \"c\", \"d\", \"e\", \"f\"]) ➞ \"abcdef\"\n",
        "    3. list_to_string([1, 2, 3, \"a\", \"s\", \"dAAAA\"]) ➞ \"123asdAAAA\"\n"
      ],
      "metadata": {
        "id": "S3R6TrvamXtp"
      }
    },
    {
      "cell_type": "code",
      "source": [
        "def list_to_string(lst):\n",
        "    return ''.join(str(elemento) for elemento in lst)\n",
        "\n",
        "def list_to_string(lst):\n",
        "    return ''.join(map(str, lst))"
      ],
      "metadata": {
        "id": "rLNUOMP52HoN"
      },
      "execution_count": null,
      "outputs": []
    },
    {
      "cell_type": "code",
      "source": [
        "print(list_to_string([1, 2, 3, 4, 5, 6]))\n",
        "print(list_to_string([\"a\", \"b\", \"c\", \"d\", \"e\", \"f\"]))\n",
        "print(list_to_string([1, 2, 3, \"a\", \"s\", \"dAAAA\"]))"
      ],
      "metadata": {
        "id": "OqLpEg1y2HoO",
        "colab": {
          "base_uri": "https://localhost:8080/"
        },
        "outputId": "14999bc0-7291-4189-e87e-5e84251529c3"
      },
      "execution_count": null,
      "outputs": [
        {
          "output_type": "stream",
          "name": "stdout",
          "text": [
            "123456\n",
            "abcdef\n",
            "123asdAAAA\n"
          ]
        }
      ]
    },
    {
      "cell_type": "markdown",
      "source": [
        "## Reto 160: Suma de cubos\n",
        "* Cree una función que tome un número entero positivo `n` y devuelva la suma de todos los valores al cubo de 1 a `n`.\n",
        "* Por ejemplo, si `n` es 3:  \n",
        "$1^3 + 2^3 + 3^3 = 36$\n",
        "* Ejemplos:\n",
        "    1. suma_cubos(3) ➞ 36\n",
        "    2. suma_cubos(7) ➞ 784\n",
        "    3. suma_cubos(8) ➞ 1296\n",
        "    4. suma_cubos(9) ➞ 2025"
      ],
      "metadata": {
        "id": "7152ZdXMmXnm"
      }
    },
    {
      "cell_type": "code",
      "source": [
        "def suma_cubos(n):\n",
        "    total = 0\n",
        "    for i in range(1, n+1):\n",
        "        total += i ** 3\n",
        "    return total\n",
        "\n",
        "# usando list comprehension\n",
        "def suma_cubos(n):\n",
        "    return sum([i ** 3 for i in range(1, n + 1)])"
      ],
      "metadata": {
        "id": "oBgpIIFg2G_S"
      },
      "execution_count": null,
      "outputs": []
    },
    {
      "cell_type": "code",
      "source": [
        "print(suma_cubos(3))\n",
        "print(suma_cubos(7))\n",
        "print(suma_cubos(8))\n",
        "print(suma_cubos(9))"
      ],
      "metadata": {
        "id": "P4M1pgCL2G_T",
        "colab": {
          "base_uri": "https://localhost:8080/"
        },
        "outputId": "d4d68f72-5b2b-43af-e4dc-350a31b771c3"
      },
      "execution_count": null,
      "outputs": [
        {
          "output_type": "stream",
          "name": "stdout",
          "text": [
            "36\n",
            "784\n",
            "1296\n",
            "2025\n"
          ]
        }
      ]
    },
    {
      "cell_type": "markdown",
      "source": [
        "## Reto 161: Entero dentro de rango\n",
        "* Cree una función que valide si un número `n` está dentro de los límites `inferior` y `superior`.\n",
        "* Devuelve `False` si `n` no es un número entero.\n",
        "* Los argumentos de la función van en este orden:  \n",
        "    - `en_rango(n, inferior, superior)`\n",
        "* Ejemplos:\n",
        "    1. en_rango(3, 1, 9) ➞ True\n",
        "    2. en_rango(6, 1, 6) ➞ False\n",
        "    3. en_rango(4.5, 3, 8) ➞ False\n",
        "    4. en_rango(1, 1, 9) ➞ False\n",
        "    5. en_rango(3., 1, 9) ➞ False\n",
        "* El término \"dentro de límites\" significa que un número `n` ha de estar dentro del intervalo sin que puede sar igual a ninguno de los extremos\n",
        "* Los límites siempre se dan como números enteros."
      ],
      "metadata": {
        "id": "E4ETC0CqlQHb"
      }
    },
    {
      "cell_type": "code",
      "source": [
        "# Método 1\n",
        "def en_rango(n, inferior, superior):\n",
        "    if type(n) != int:\n",
        "        return False\n",
        "    return inferior < n < superior\n",
        "\n",
        "# Método 2\n",
        "def en_rango(n, inferior, superior):\n",
        "    return type(n) == int and inferior < n < superior\n",
        "\n",
        "# Método 3\n",
        "def en_rango(n, inferior, superior):\n",
        "    return isinstance(n, int) and inferior < n < superior"
      ],
      "metadata": {
        "id": "aoB-Qk6C2Ge_"
      },
      "execution_count": null,
      "outputs": []
    },
    {
      "cell_type": "code",
      "source": [
        "print(en_rango(3, 1, 9))\n",
        "print(en_rango(6, 1, 6))\n",
        "print(en_rango(4.5, 3, 8))\n",
        "print(en_rango(1, 1, 9))\n",
        "print(en_rango(3., 1, 9))"
      ],
      "metadata": {
        "id": "iWRFqAGw2Ge_",
        "colab": {
          "base_uri": "https://localhost:8080/"
        },
        "outputId": "89665c29-c898-492d-ccd2-f293dd555dfe"
      },
      "execution_count": null,
      "outputs": [
        {
          "output_type": "stream",
          "name": "stdout",
          "text": [
            "True\n",
            "False\n",
            "False\n",
            "False\n",
            "False\n"
          ]
        }
      ]
    },
    {
      "cell_type": "markdown",
      "source": [
        "## Reto 162: La longitud total de Google\n",
        "* La palabra `Google` se escribe con 2 letras `o`.\n",
        "* Cree una función que reciba el parámetro `n` que diga cuantas letras `o` tendremos que escribir.\n",
        "* `n` será mayor o igual a 2 y en caso contrario se imprimirá \"invalid\"\n",
        "    1. googlear(10) ➞ \"Goooooooooogle\"\n",
        "    2. googlear(23) ➞ \"Gooooooooooooooooooooooogle\"\n",
        "    3. googlear(2) ➞ \"Google\"\n",
        "    4. googlear(-2) ➞ \"invalid\""
      ],
      "metadata": {
        "id": "4LUdiuZ1lQPZ"
      }
    },
    {
      "cell_type": "code",
      "source": [
        "def googlear(n):\n",
        "    if n < 2:\n",
        "        return \"invalid\"\n",
        "    return 'G' + 'o' * n + 'gle'"
      ],
      "metadata": {
        "id": "_38Nbzqu2F95"
      },
      "execution_count": null,
      "outputs": []
    },
    {
      "cell_type": "code",
      "source": [
        "print(googlear(10))\n",
        "print(googlear(23))\n",
        "print(googlear(2))\n",
        "print(googlear(-2))"
      ],
      "metadata": {
        "id": "WmNlIe482F96",
        "outputId": "d0b3a635-2667-47ea-880c-9bc6e1fcd0bd",
        "colab": {
          "base_uri": "https://localhost:8080/"
        }
      },
      "execution_count": null,
      "outputs": [
        {
          "output_type": "stream",
          "name": "stdout",
          "text": [
            "Goooooooooogle\n",
            "Gooooooooooooooooooooooogle\n",
            "Google\n",
            "invalid\n"
          ]
        }
      ]
    },
    {
      "cell_type": "markdown",
      "source": [
        "## Reto 163: Total Maximo condicional\n",
        "* Dada una lista de 10 números, devuelva el total máximo posible obtenido sumando solo 5 de los 10 números.\n",
        "\n",
        "    1. max_total([1, 1, 0, 1, 3, 10, 10, 10, 10, 1]) ➞ 43\n",
        "    2. max_total([0, 0, 0, 0, 0, 0, 0, 0, 0, 100]) ➞ 100\n",
        "    3. max_total([1, 2, 3, 4, 5, 6, 7, 8, 9, 10]) ➞ 40"
      ],
      "metadata": {
        "id": "qplEi5EblQV9"
      }
    },
    {
      "cell_type": "code",
      "source": [
        "def max_total(lista):\n",
        "    lista.sort(reverse=True)\n",
        "    return sum(lista[:5])"
      ],
      "metadata": {
        "id": "fS8NG1A92Fh2"
      },
      "execution_count": null,
      "outputs": []
    },
    {
      "cell_type": "code",
      "source": [
        "print(max_total([1, 1, 0, 1, 3, 10, 10, 10, 10, 1]))\n",
        "print(max_total([0, 0, 0, 0, 0, 0, 0, 0, 0, 100]))\n",
        "print(max_total([1, 2, 3, 4, 5, 6, 7, 8, 9, 10]))"
      ],
      "metadata": {
        "id": "0iRG66ps2Fh3",
        "outputId": "7eddf223-8349-4be2-a515-ceda5c241c13",
        "colab": {
          "base_uri": "https://localhost:8080/"
        }
      },
      "execution_count": null,
      "outputs": [
        {
          "output_type": "stream",
          "name": "stdout",
          "text": [
            "43\n",
            "100\n",
            "40\n"
          ]
        }
      ]
    },
    {
      "cell_type": "markdown",
      "source": [
        "## Reto 164: Compruebe si es el mismo caso\n",
        "* Cree una función que devuelva `True` si una cadena de entrada contiene solo letras mayúsculas o solo letras minúsculas.\n",
        "    1. mismo_caso(\"hello\") ➞ True\n",
        "    2. mismo_caso(\"HELLO\") ➞ True\n",
        "    3. mismo_caso(\"Hello\") ➞ False\n",
        "    4. mismo_caso(\"ketchUp\") ➞ False"
      ],
      "metadata": {
        "id": "z4pVG9qmlQcU"
      }
    },
    {
      "cell_type": "code",
      "source": [
        "def mismo_caso(txt):\n",
        "    return txt == txt.upper() or txt == txt.lower()"
      ],
      "metadata": {
        "id": "Ypu0scJ22FHJ"
      },
      "execution_count": null,
      "outputs": []
    },
    {
      "cell_type": "code",
      "source": [
        "print(mismo_caso(\"hello\"))\n",
        "print(mismo_caso(\"HELLO\"))\n",
        "print(mismo_caso(\"Hello\"))\n",
        "print(mismo_caso(\"ketchUp\"))"
      ],
      "metadata": {
        "id": "ubBo09vs2FHK",
        "outputId": "de7177a8-6166-46b4-ccfe-1baa1e54c20c",
        "colab": {
          "base_uri": "https://localhost:8080/"
        }
      },
      "execution_count": null,
      "outputs": [
        {
          "output_type": "stream",
          "name": "stdout",
          "text": [
            "True\n",
            "True\n",
            "False\n",
            "False\n"
          ]
        }
      ]
    },
    {
      "cell_type": "markdown",
      "source": [
        "## Reto 165: Los mayores números de una lista\n",
        "* Cree una función que tiene dos parámetros: un número entero y una lista:\n",
        "    - `numeros_mayores(n, lista)`\n",
        "* La función retorna una lista con los `n` números más grandes de la lista dada.\n",
        "* Ejemplos:\n",
        "    1. numeros_mayores(2, [4, 3, 2, 1]) ➞ [3, 4]\n",
        "    2. numeros_mayores(1, [7, 19, 4, 2]) ➞ [19]\n",
        "    3. numeros_mayores(3, [14, 12, 57, 11, 18, 16]) ➞ [16, 18, 57]\n",
        "    4. numeros_mayores(0, [1, 3, 4, 2]) ➞ []"
      ],
      "metadata": {
        "id": "iPNIxTbflQjI"
      }
    },
    {
      "cell_type": "code",
      "source": [
        "def numeros_mayores(n, lista):\n",
        "    lista.sort()\n",
        "    return lista[len(lista) - n:]"
      ],
      "metadata": {
        "id": "5MWYz1zS2EnU"
      },
      "execution_count": null,
      "outputs": []
    },
    {
      "cell_type": "code",
      "source": [
        "print(numeros_mayores(2, [4, 3, 2, 1]))\n",
        "print(numeros_mayores(1, [7, 19, 4, 2]))\n",
        "print(numeros_mayores(3, [14, 12, 57, 11, 18, 16]))\n",
        "print(numeros_mayores(0, [1, 3, 4, 2]))"
      ],
      "metadata": {
        "id": "zYRr_Rln2EnV",
        "outputId": "01e91ba8-98d2-4e4b-abcd-8528c4636397",
        "colab": {
          "base_uri": "https://localhost:8080/"
        }
      },
      "execution_count": null,
      "outputs": [
        {
          "output_type": "stream",
          "name": "stdout",
          "text": [
            "[3, 4]\n",
            "[19]\n",
            "[16, 18, 57]\n",
            "[]\n"
          ]
        }
      ]
    },
    {
      "cell_type": "markdown",
      "source": [
        "## Reto 166: Contar las sílabas\n",
        "* Cree una función que devuelva el número de sílabas en una cadena simple.\n",
        "* La cadena se compone de palabras cortas repetidas como \"Lalalalalalala\" (que tendría 7 sílabas).\n",
        "* Para simplificar, tenga en cuenta que cada sílaba constará de dos letras únicamente.\n",
        "* Su código debe aceptar cadenas mayúsculas, minúsculas y mixtas.\n",
        "* Ejemplos:\n",
        "    1. contar_sílabas(\"Hehehehehehe\") ➞ 6\n",
        "    2. contar_sílabas(\"totototototototo\") ➞ 8\n",
        "    3. contar_sílabas(\"NANANA\") ➞ 3"
      ],
      "metadata": {
        "id": "WApfPkljlQql"
      }
    },
    {
      "cell_type": "code",
      "source": [
        "def contar_sílabas(txt):\n",
        "    txt = txt.lower()\n",
        "    return txt.count(txt[:2])"
      ],
      "metadata": {
        "id": "cH_w9A8-2EOf"
      },
      "execution_count": null,
      "outputs": []
    },
    {
      "cell_type": "code",
      "source": [
        "print(contar_sílabas(\"Hehehehehehe\"))\n",
        "print(contar_sílabas(\"totototototototo\"))\n",
        "print(contar_sílabas(\"NANANA\"))"
      ],
      "metadata": {
        "id": "tVweBCtG2EOf",
        "outputId": "05d9785c-96fb-48fa-faed-5b7208372346",
        "colab": {
          "base_uri": "https://localhost:8080/"
        }
      },
      "execution_count": null,
      "outputs": [
        {
          "output_type": "stream",
          "name": "stdout",
          "text": [
            "6\n",
            "8\n",
            "3\n"
          ]
        }
      ]
    },
    {
      "cell_type": "markdown",
      "source": [
        "## Reto 167: Factores de un número\n",
        "* Cree una función que encuentre cada factor de un número dado `n`.\n",
        "* Su solución debería devolver una lista de los números que cumplen con este criterio.\n",
        "* Devuelve una lista vacía si el número dado es menor que 1.\n",
        "* Ejemplos:\n",
        "    1. buscar_factores(9) ➞ [1, 3, 9]\n",
        "    2. buscar_factores(12) ➞ [1, 2, 3, 4, 6, 12]\n",
        "    3. buscar_factores(20) ➞ [1, 2, 4, 5, 10, 20]\n",
        "    4. buscar_factores(0) ➞ []"
      ],
      "metadata": {
        "id": "r6UTACqGlQyi"
      }
    },
    {
      "cell_type": "code",
      "source": [
        "def buscar_factores(n):\n",
        "    if n < 1:\n",
        "        return []\n",
        "    factores = []\n",
        "    for i in range(1, n+1):\n",
        "        if n % i == 0:\n",
        "            factores.append(i)\n",
        "    return factores\n",
        "\n",
        "# usando una list  comprehension\n",
        "def buscar_factores(n):\n",
        "    return [i for i in range(1, n + 1) if n % i == 0] if n > 0 else []"
      ],
      "metadata": {
        "id": "AeAoW2v-2Dqw"
      },
      "execution_count": null,
      "outputs": []
    },
    {
      "cell_type": "code",
      "source": [
        "print(buscar_factores(9))\n",
        "print(buscar_factores(12))\n",
        "print(buscar_factores(20))\n",
        "print(buscar_factores(0))"
      ],
      "metadata": {
        "id": "UmPAdJaw2Dq1",
        "outputId": "eaa4e9a8-beff-43fd-d134-e0a1a93eb457",
        "colab": {
          "base_uri": "https://localhost:8080/"
        }
      },
      "execution_count": null,
      "outputs": [
        {
          "output_type": "stream",
          "name": "stdout",
          "text": [
            "[1, 3, 9]\n",
            "[1, 2, 3, 4, 6, 12]\n",
            "[1, 2, 4, 5, 10, 20]\n",
            "[]\n"
          ]
        }
      ]
    },
    {
      "cell_type": "markdown",
      "source": [
        "## Reto 168: Agua hirviendo\n",
        "* Cree una función que determine si la temperatura del agua se considera que está hirviendo o no.\n",
        "* La temperatura se medirá en Fahrenheit y Celsius.\n",
        "* El punto de ebullición del agua es 212 °F en Fahrenheit y 100 °C en Celsius.\n",
        "* Ejemplos:\n",
        "    1. esta_hirviendo(\"212F\") ➞ True\n",
        "    2. esta_hirviendo(\"100C\") ➞ True\n",
        "    3. esta_hirviendo(\"0F\") ➞ False\n"
      ],
      "metadata": {
        "id": "EsIMxQuZlRnp"
      }
    },
    {
      "cell_type": "code",
      "source": [
        "def esta_hirviendo(txt):\n",
        "    return (txt[-1] == \"C\" and int(txt[:-1]) >= 100) or (txt[-1] == \"F\" and int(txt[:-1]) >= 212)\n"
      ],
      "metadata": {
        "id": "4DtXaL8G2Ca5"
      },
      "execution_count": null,
      "outputs": []
    },
    {
      "cell_type": "code",
      "source": [
        "print(esta_hirviendo(\"212F\"))\n",
        "print(esta_hirviendo(\"100C\"))\n",
        "print(esta_hirviendo(\"0F\"))"
      ],
      "metadata": {
        "id": "mwExN-oT2Ca5",
        "outputId": "ab6daafa-2c42-40c6-b928-cea1d87c76f2",
        "colab": {
          "base_uri": "https://localhost:8080/"
        }
      },
      "execution_count": null,
      "outputs": [
        {
          "output_type": "stream",
          "name": "stdout",
          "text": [
            "True\n",
            "True\n",
            "False\n"
          ]
        }
      ]
    },
    {
      "cell_type": "markdown",
      "source": [
        "## Reto 169: Tiroteo de vaqueros\n",
        "* Wild Roger tiene la tarea de derribar 6 botellas con 6 disparos lo más rápido posible.\n",
        "* Estos son los diferentes tipos de tiros que podría realizar:\n",
        "    - Podría usar una pistola para dispararle a una botella con un \"Bang!\" en 0,5 segundos.\n",
        "    - o bien, podría usar ambas pistolas a la vez con un \"BangBang!\". De esta forma estaría disparano dos botellas en 0,5 segundos.\n",
        "* Dada una lista de Bangs y BangBangs, se devuelve el tiempo (en segundos) que tomó derribar las 6 botellas.\n",
        "* Asegúrate de contar solo Bangs y BangBangs. Cualquier otra cosa no cuenta.\n",
        "* Todas las botellas serán derribadas en todas las pruebas.\n",
        "* Ejemplos:\n",
        "    1. disparos_de_roger([\"Bang!\", \"Bang!\", \"Bang!\", \"Bang!\", \"Bang!\", \"Bang!\"]) ➞ 3\n",
        "    2. disparos_de_roger([\"Bang!\", \"Bang!\", \"Bang!\", \"Bang!\", \"BangBang!\"]) ➞ 2.5\n",
        "    3. disparos_de_roger([\"Bang!\", \"BangBangBang!\", \"Boom!\", \"Bang!\", \"BangBang!\", \"BangBang!\"]) ➞ 2"
      ],
      "metadata": {
        "id": "zDlZHPKJlSfT"
      }
    },
    {
      "cell_type": "code",
      "source": [
        "# Método 1: usando or\n",
        "def disparos_de_roger(lista):\n",
        "    tiempo = 0\n",
        "    for disparo in lista:\n",
        "        if disparo == \"Bang!\" or disparo == \"BangBang!\":\n",
        "            tiempo += 0.5\n",
        "    return tiempo\n",
        "\n",
        "# Método 2: usando in\n",
        "def disparos_de_roger(lista):\n",
        "    tiempo = 0\n",
        "    for disparo in lista:\n",
        "        if disparo in [\"Bang!\", \"BangBang!\"]:\n",
        "            tiempo += 0.5\n",
        "    return tiempo\n",
        "\n",
        "# Método 3: usando list comprehension\n",
        "def disparos_de_roger(lista):\n",
        "    return sum([.5 for i in lista if i in (\"Bang!\", \"BangBang!\")])"
      ],
      "metadata": {
        "id": "zfb2azlB2B4O"
      },
      "execution_count": null,
      "outputs": []
    },
    {
      "cell_type": "code",
      "source": [
        "print(disparos_de_roger([\"Bang!\", \"Bang!\", \"Bang!\", \"Bang!\", \"Bang!\", \"Bang!\"]))\n",
        "print(disparos_de_roger([\"Bang!\", \"Bang!\", \"Bang!\", \"Bang!\", \"BangBang!\"]))\n",
        "print(disparos_de_roger([\"Bang!\", \"BangBangBang!\", \"Boom!\", \"Bang!\", \"BangBang!\", \"BangBang!\"]))"
      ],
      "metadata": {
        "id": "VGMmNkiV2B4P",
        "outputId": "d87a848a-89da-46cb-bf77-5394d2106005",
        "colab": {
          "base_uri": "https://localhost:8080/"
        }
      },
      "execution_count": null,
      "outputs": [
        {
          "output_type": "stream",
          "name": "stdout",
          "text": [
            "3.0\n",
            "2.5\n",
            "2.0\n"
          ]
        }
      ]
    },
    {
      "cell_type": "markdown",
      "source": [
        "## Reto 170: Revertir mayúsculas y minúsculas\n",
        "* Dada una cadena, cree una función para invertir las mayúsculas por minúsculas y viceversa.\n",
        "* Todas las letras minúsculas deben tornar en mayúsculas y viceversa.\n",
        "* Ejemplos:\n",
        "    1. caso_inverso(\"Happy Birthday\") ➞ \"hAPPY bIRTHDAY\"\n",
        "    2. caso_inverso(\"MANY THANKS\") ➞ \"many thanks\"\n",
        "    3. caso_inverso(\"ChOcOlAtE\") ➞ \"cHoCoLaTe\""
      ],
      "metadata": {
        "id": "vLIV6k5-xhVe"
      }
    },
    {
      "cell_type": "code",
      "source": [
        "def caso_inverso(txt):\n",
        "    result = \"\"\n",
        "    for caracter in txt:\n",
        "        if caracter.isupper():\n",
        "            result += caracter.lower()\n",
        "        elif caracter.islower():\n",
        "            result += caracter.upper()\n",
        "        else:\n",
        "            result += caracter\n",
        "    return result\n",
        "\n",
        "def caso_inverso(cadena):\n",
        "    return cadena.swapcase()"
      ],
      "metadata": {
        "id": "B0vLHBRx2BXp"
      },
      "execution_count": null,
      "outputs": []
    },
    {
      "cell_type": "code",
      "source": [
        "print(caso_inverso(\"Happy Birthday\"))\n",
        "print(caso_inverso(\"MANY THANKS\"))\n",
        "print(caso_inverso(\"ChOcOlAtE\"))"
      ],
      "metadata": {
        "id": "6YYkN-EA2BXp",
        "outputId": "ed4e0414-400b-4555-db6d-f2cfa3d8b919",
        "colab": {
          "base_uri": "https://localhost:8080/"
        }
      },
      "execution_count": null,
      "outputs": [
        {
          "output_type": "stream",
          "name": "stdout",
          "text": [
            "hAPPY bIRTHDAY\n",
            "many thanks\n",
            "cHoCoLaTe\n"
          ]
        }
      ]
    },
    {
      "cell_type": "markdown",
      "source": [
        "## Reto 171: ¿Cuántos Verdadero hay?\n",
        "* Cree una función que devuelva el número de valores `True` en una lista.\n",
        "* Ejemplos:\n",
        "    1. cuenta_true([True, False, False, True, False]) ➞ 2\n",
        "    2. cuenta_true([False, False, False, False]) ➞ 0\n",
        "    3. cuenta_true([]) ➞ 0\n",
        "* Devuelve 0 si el argumentos es una lista vacía.\n",
        "* Todos los elementos de la lista son del tipo bool (`True` o `False`)."
      ],
      "metadata": {
        "id": "QDocEv54xl0t"
      }
    },
    {
      "cell_type": "code",
      "source": [
        "def cuenta_true(lista):\n",
        "    return sum(1 for i in lista if i == True)\n",
        "\n",
        "def cuenta_true(lista):\n",
        "    return lista.count(True)"
      ],
      "metadata": {
        "id": "FNAPzluG2A2e"
      },
      "execution_count": null,
      "outputs": []
    },
    {
      "cell_type": "code",
      "source": [
        "print(cuenta_true([True, False, False, True, False]))\n",
        "print(cuenta_true([False, False, False, False]))\n",
        "print(cuenta_true([]))"
      ],
      "metadata": {
        "id": "F4Xlg2VI2A2f",
        "colab": {
          "base_uri": "https://localhost:8080/"
        },
        "outputId": "75820bc9-45b7-47c5-c87d-a46038c33401"
      },
      "execution_count": null,
      "outputs": [
        {
          "output_type": "stream",
          "name": "stdout",
          "text": [
            "2\n",
            "0\n",
            "0\n"
          ]
        }
      ]
    },
    {
      "cell_type": "markdown",
      "source": [
        "## Reto 172: Buscando un login válido\n",
        "* Un usuario está intentando crear su login en una web juntando su nickname y su edad.\n",
        "* La edad se proporciona como un número entero.\n",
        "* Cree una función que retorne este login y así podrá ayudar a los usuarios sugiriéndoles una alterternativa.\n",
        "* Ejemplos:\n",
        "    1. login_sugerido(\"Anna\", 16) ➞ \"Anna16\"\n",
        "    2. login_sugerido(\"Luix\", 17) ➞ \"Luix17\"\n",
        "    3. login_sugerido(\"mari@\", 18) ➞ \"mari@18\"\n"
      ],
      "metadata": {
        "id": "isZKqb-XSyT6"
      }
    },
    {
      "cell_type": "code",
      "source": [
        "def login_sugerido(nickname, edad):\n",
        "    return nickname + str(edad)\n",
        "\n",
        "def login_sugerido(nickname, edad):\n",
        "    return f\"{nickname}{edad}\""
      ],
      "metadata": {
        "id": "uJM3j1ef2AVX"
      },
      "execution_count": null,
      "outputs": []
    },
    {
      "cell_type": "code",
      "source": [
        "print(login_sugerido(\"Anna\", 16))\n",
        "print(login_sugerido(\"Luix\", 17))\n",
        "print(login_sugerido(\"mari@\", 18))"
      ],
      "metadata": {
        "id": "5GwcIFZB2AVc",
        "colab": {
          "base_uri": "https://localhost:8080/"
        },
        "outputId": "cdfe4892-a48f-46f2-9e1a-b3a837727fa5"
      },
      "execution_count": null,
      "outputs": [
        {
          "output_type": "stream",
          "name": "stdout",
          "text": [
            "Anna16\n",
            "Luix17\n",
            "mari@18\n"
          ]
        }
      ]
    },
    {
      "cell_type": "markdown",
      "source": [
        "## Reto 173: Recursividad aplicada a repetir un String `n` veces\n",
        "* Cree una función recursiva que tome dos parámetros y repita la cadena `n` veces.\n",
        "* El primer parámetro es la cadena que se repetirá\n",
        "* El segundo parámetro es el número de veces que se repetirá la cadena.\n",
        "* Ejemplos:\n",
        "    1. repeticion(\"ab\", 3) ➞ \"ababab\"\n",
        "    2. repeticion(\"kiwi\", 1) ➞ \"kiwi\"\n",
        "    3. repeticion(\"Cherry\", 2) ➞ \"CherryCherry\""
      ],
      "metadata": {
        "id": "5vA_iDMVzyLM"
      }
    },
    {
      "cell_type": "code",
      "source": [
        "def repeticion(txt, n):\n",
        "    if n == 1:\n",
        "        return txt\n",
        "    else:\n",
        "        return txt + repeticion(txt, n-1)\n",
        "\n",
        "# utilizando un operador ternario\n",
        "def repeticion(txt, n):\n",
        "    return txt if n <= 1 else txt + repeticion(txt, n - 1)"
      ],
      "metadata": {
        "id": "Fwt6_epj5Ydo"
      },
      "execution_count": null,
      "outputs": []
    },
    {
      "cell_type": "code",
      "source": [
        "print(repeticion(\"ab\", 3))\n",
        "print(repeticion(\"kiwi\", 1))\n",
        "print(repeticion(\"Cherry\", 2))"
      ],
      "metadata": {
        "id": "sVvXFcKMWYT5",
        "colab": {
          "base_uri": "https://localhost:8080/"
        },
        "outputId": "dc0a951a-27ce-4168-8d0d-36df0c07b9c4"
      },
      "execution_count": null,
      "outputs": [
        {
          "output_type": "stream",
          "name": "stdout",
          "text": [
            "ababab\n",
            "kiwi\n",
            "CherryCherry\n"
          ]
        }
      ]
    },
    {
      "cell_type": "markdown",
      "source": [
        "## Reto 174: ¿De qué generación eres?\n",
        "* Intente encontrar a sus antepasados ​​y descendencia con código.\n",
        "* Cree una función que tome un número `nivel` y un carácter `genero` (\"m\" para hombre, \"f\" para mujer) y devuelva el nombre de un antepasado (m/f) o descendiente (m/f).\n",
        "* Si el número es negativo, devuelve el antepasado relacionado.\n",
        "* Si es positivo, devuelve el descendiente relacionado.\n",
        "* Tu eres la generación 0. En el caso de 0 (masculino o femenino), devuelve \"me!\".\n",
        "* Ejemplos:\n",
        "    1. generation(2, \"f\") ➞ \"granddaughter\"\n",
        "    2. generation(-3, \"m\") ➞ \"great grandfather\"\n",
        "    3. generation(1, \"f\") ➞ \"daughter\"\n",
        "    4. generation(0, \"f\") ➞ \"me!\"\n",
        "    5. generation(3, \"m\") ➞ \"great grandson\"\n",
        "    6. generation(-2, \"f\") ➞ \"grandmother\"\n",
        "    7. generation(-1, \"m\") ➞ \"father\"\n",
        "\n",
        "\n",
        "| Generation | Male              | Female                |\n",
        "|------------|-------------------|-----------------------|\n",
        "| -3         | great grandfather | great grandmother     |\n",
        "| -2         | grandfather       | grandmother           |\n",
        "| -1         | father            | mother                |\n",
        "| 0          | me!               | me!                   |\n",
        "| 1          | son               | daughter              |\n",
        "| 2          | grandson          | granddaughter         |\n",
        "| 3          | great grandson    | great granddaughter   |"
      ],
      "metadata": {
        "id": "0gimJd0SmVw2"
      }
    },
    {
      "cell_type": "code",
      "source": [
        "def generation(nivel, genero):\n",
        "    prefijo = [\"\", \"grand\", \"great grand\"]\n",
        "    relaciones = { \"m\": [\"father\", \"son\"], \"f\": [\"mother\", \"daughter\"] }\n",
        "    if nivel == 0:\n",
        "        return \"me!\"\n",
        "    return prefijo[abs(nivel)-1] + relaciones[genero][int(nivel>0)]\n"
      ],
      "metadata": {
        "id": "W9yYA-oE2Wlz"
      },
      "execution_count": null,
      "outputs": []
    },
    {
      "cell_type": "code",
      "source": [
        "print(generation(2, \"f\"))\n",
        "print(generation(-3, \"m\"))\n",
        "print(generation(1, \"f\"))\n",
        "print(generation(0, \"f\"))\n",
        "print(generation(3, \"m\"))\n",
        "print(generation(-2, \"f\"))\n",
        "print(generation(-1, \"m\"))"
      ],
      "metadata": {
        "id": "uOOhPjsl2Wlz",
        "colab": {
          "base_uri": "https://localhost:8080/"
        },
        "outputId": "60c9bef3-0e78-4c76-d160-dd4aeeb10f26"
      },
      "execution_count": null,
      "outputs": [
        {
          "output_type": "stream",
          "name": "stdout",
          "text": [
            "granddaughter\n",
            "great grandfather\n",
            "daughter\n",
            "me!\n",
            "great grandson\n",
            "grandmother\n",
            "father\n"
          ]
        }
      ]
    },
    {
      "cell_type": "markdown",
      "source": [
        "## Reto 175: Atleta corriendo\n",
        "* Para este desafío no se da enunciado.\n",
        "* Cree una función que responda a los casos de uso con la salida que se indica.\n",
        "* Ejemplos:\n",
        "    1. atleta_corriendo([\"run\", \"jump\", \"run\", \"jump\", \"run\"])) ➞ \"\\_|\\_|\\_\"\n",
        "    2. atleta_corriendo([\"run\", \"jump\", \"run\", \"run\", \"run\"]) ➞ \"\\_|\\_/\\_\"\n",
        "    3. atleta_corriendo([\"jump\", \"jump\", \"jump\", \"jump\", \"jump\"]) ➞ \"x|x|x\"\n",
        "    4. atleta_corriendo([\"run\", \"run\", \"run\", \"run\", \"run\"]) ➞ \"\\_/\\_/\\_\""
      ],
      "metadata": {
        "id": "0L1L3iGfHiuG"
      }
    },
    {
      "cell_type": "code",
      "source": [
        "def atleta_corriendo(acciones):\n",
        "    result = \"\"\n",
        "    for i, accion in enumerate(acciones):\n",
        "        if accion == 'run':\n",
        "            if i % 2: # index impar\n",
        "                result += '/'\n",
        "            else:\n",
        "                result += '_'\n",
        "        elif accion == 'jump':\n",
        "            if i % 2: # index impar\n",
        "                result += '|'\n",
        "            else:\n",
        "                result += 'x'\n",
        "    return result\n",
        "\n",
        "def atleta_corriendo(acciones):\n",
        "    result = list(\"_|_|_\")\n",
        "    for i, v in enumerate(acciones):\n",
        "        if i % 2 and v == \"run\":\n",
        "            result[i] = \"/\"\n",
        "        elif not(i % 2) and v == \"jump\":\n",
        "            result[i] = \"x\"\n",
        "    return ''.join(result)"
      ],
      "metadata": {
        "id": "YkSU0c_uJk-p"
      },
      "execution_count": null,
      "outputs": []
    },
    {
      "cell_type": "code",
      "source": [
        "print(atleta_corriendo([\"run\", \"jump\", \"run\", \"jump\", \"run\"]))\n",
        "print(atleta_corriendo([\"run\", \"jump\", \"run\", \"run\", \"run\"]))\n",
        "print(atleta_corriendo([\"jump\", \"jump\", \"jump\", \"jump\", \"jump\"]))\n",
        "print(atleta_corriendo([\"run\", \"run\", \"run\", \"run\", \"run\"]))"
      ],
      "metadata": {
        "colab": {
          "base_uri": "https://localhost:8080/"
        },
        "id": "fZ1g0mPtJ3T-",
        "outputId": "2c5c2097-50ad-4748-fe5e-7f4ada74b4da"
      },
      "execution_count": null,
      "outputs": [
        {
          "output_type": "stream",
          "name": "stdout",
          "text": [
            "_|_|_\n",
            "_|_/_\n",
            "x|x|x\n",
            "_/_/_\n"
          ]
        }
      ]
    },
    {
      "cell_type": "markdown",
      "source": [
        "## Reto 176: Función tartamuda\n",
        "* Escriba una función que tartamudee una palabra como si alguien tuviera dificultades para leerla.\n",
        "* Las dos primeras letras se repiten dos veces con puntos suspensivos `...` y un espacio después de cada una, y luego la palabra se pronuncia con un signo de interrogación `?` al final.\n",
        "* Ejemplos:\n",
        "    1. tartamudear(\"increible\") ➞ \"in... in... increible?\"\n",
        "    2. tartamudear(\"entusiasta\") ➞ \"en... en... entusiasta?\"\n",
        "    3. tartamudear(\"excepcional\") ➞ \"ou... ou... excepcional?\""
      ],
      "metadata": {
        "id": "6P37uHGLLI1P"
      }
    },
    {
      "cell_type": "code",
      "source": [
        "def tartamudear(palabra):\n",
        "    return (palabra[:2] + \"... \") * 2 + palabra + \"?\""
      ],
      "metadata": {
        "id": "WIx3GdqqL2dv"
      },
      "execution_count": null,
      "outputs": []
    },
    {
      "cell_type": "code",
      "source": [
        "print(tartamudear(\"increible\"))\n",
        "print(tartamudear(\"entusiasta\"))\n",
        "print(tartamudear(\"excepcional\"))"
      ],
      "metadata": {
        "colab": {
          "base_uri": "https://localhost:8080/"
        },
        "id": "87gQLggmMANy",
        "outputId": "f8ea2669-e41d-4d25-e4c2-374038468b43"
      },
      "execution_count": null,
      "outputs": [
        {
          "output_type": "stream",
          "name": "stdout",
          "text": [
            "in... in... increible?\n",
            "en... en... entusiasta?\n",
            "ex... ex... excepcional?\n"
          ]
        }
      ]
    },
    {
      "cell_type": "markdown",
      "source": [
        "## Reto 177: Luke, I Am Your ...\n",
        "* Luke Skywalker tiene familiares y amigos.\n",
        "* Ayúdalo a recordar quién es quién.\n",
        "* Dada una cadena con un nombre, devuelve la relación de esa persona con Luke.\n",
        "\n",
        "| Person      | Relation       |\n",
        "|-------------|----------------|\n",
        "| Darth Vader | father         |\n",
        "| Leia        | sister         |\n",
        "| Han         | brother in law |\n",
        "| R2D2        | droid          |\n",
        "\n",
        "* Tip: Podría ser una buena idea crear un diccionario.\n",
        "* Ejemplos:\n",
        "    1. relacion_con_luke(\"Darth Vader\") ➞ \"Luke, I am your father.\"\n",
        "    2. relacion_con_luke(\"Leia\") ➞ \"Luke, I am your sister.\"\n",
        "    3. relacion_con_luke(\"Han\") ➞ \"Luke, I am your brother in law.\"\n",
        "    4. relacion_con_luke(\"R2D2\") ➞ \"Luke, I am your droid.\""
      ],
      "metadata": {
        "id": "SjwA439mQ0E9"
      }
    },
    {
      "cell_type": "code",
      "source": [
        "def relacion_con_luke(name):\n",
        "    d = {'Darth Vader':'father',\n",
        "         'Leia': 'sister',\n",
        "         'Han': 'brother in law',\n",
        "         'R2D2': 'droid'}\n",
        "    return f\"Luke, I am your {d[name]}.\""
      ],
      "metadata": {
        "id": "bM60G_PHSBnP"
      },
      "execution_count": null,
      "outputs": []
    },
    {
      "cell_type": "code",
      "source": [
        "print(relacion_con_luke(\"Darth Vader\"))\n",
        "print(relacion_con_luke(\"Leia\"))\n",
        "print(relacion_con_luke(\"Han\"))\n",
        "print(relacion_con_luke(\"R2D2\"))"
      ],
      "metadata": {
        "id": "VnLjkXZTS_Uc",
        "outputId": "e8c81da4-e6fa-4c40-978e-8f22da689801",
        "colab": {
          "base_uri": "https://localhost:8080/"
        }
      },
      "execution_count": null,
      "outputs": [
        {
          "output_type": "stream",
          "name": "stdout",
          "text": [
            "Luke, I am your father.\n",
            "Luke, I am your sister.\n",
            "Luke, I am your brother in law.\n",
            "Luke, I am your droid.\n"
          ]
        }
      ]
    },
    {
      "cell_type": "markdown",
      "source": [
        "## Reto 178: Par o impar: ¿cuál es mayor?\n",
        "* Cree una función que reciba una cadena de números y devuelva el resultado de calcular la suma de todos los dígitos pares individuales y la suma de todos los dígitos impares individuales.\n",
        "* Lo que se retorna es una tupla con la suma de los pares y la suma de los impares, en este orden: `(par, impar)`.\n",
        "    - número par = even number\n",
        "    - número impar = odd number\n",
        "* Ejemplos:\n",
        "    1. suma_par_impar(\"22471\") ➞ (8, 8)\n",
        "    2. suma_par_impar(\"213613\") ➞ (8, 8)\n",
        "    3. suma_par_impar(\"23456\") ➞ (12, 8)\n",
        "    4. suma_par_impar(\"23574\") ➞ (6, 15)"
      ],
      "metadata": {
        "id": "uj74HJIndSu4"
      }
    },
    {
      "cell_type": "code",
      "source": [
        "def suma_par_impar(cadena):\n",
        "    impar = 0   # inicializamos el contador de impares\n",
        "    par = 0     # inicializamos el contador de pares\n",
        "    for d in cadena:        # para cada digito de la cadena\n",
        "        if int(d) % 2:      # si es impar\n",
        "            impar += int(d) # aumenta el contador de impares\n",
        "        else:\n",
        "            par += int(d)   # aumenta el contador de pares\n",
        "    return (par, impar)     # retorna una tupla de (pares, impares)\n",
        "\n",
        "def suma_par_impar(cadena):\n",
        "    total = sum(map(int, cadena))\n",
        "    impares = sum(int(d) for d in cadena if int(d) % 2)\n",
        "    pares = total - impares\n",
        "    return pares, impares   # retorna una tupla"
      ],
      "metadata": {
        "id": "fGVKVZBAef2h"
      },
      "execution_count": null,
      "outputs": []
    },
    {
      "cell_type": "code",
      "source": [
        "print(suma_par_impar(\"22471\"))\n",
        "print(suma_par_impar(\"213613\"))\n",
        "print(suma_par_impar(\"23456\"))\n",
        "print(suma_par_impar(\"23574\"))"
      ],
      "metadata": {
        "id": "DkBWAF8feom2",
        "outputId": "a1625922-74bf-4e4f-d7ea-ea6fa87b7737",
        "colab": {
          "base_uri": "https://localhost:8080/"
        }
      },
      "execution_count": null,
      "outputs": [
        {
          "output_type": "stream",
          "name": "stdout",
          "text": [
            "(8, 8)\n",
            "(8, 8)\n",
            "(12, 8)\n",
            "(6, 15)\n"
          ]
        }
      ]
    },
    {
      "cell_type": "markdown",
      "source": [
        "## Reto 179: Calculando el daño recibido\n",
        "* Cree una función que reciba daño y velocidad (ataques por segundo) y devuelva la cantidad de daño después de un tiempo determinado.\n",
        "* Retorne \"invalid\" si el daño o la velocidad son negativos.\n",
        "* Ejemplos:\n",
        "    1. destruccion(40, 5, \"second\") ➞ 200\n",
        "    2. destruccion(100, 1, \"minute\") ➞ 6000\n",
        "    3. destruccion(2, 100, \"hour\") ➞ 720000\n",
        "    4. destruccion(5, -5, \"minute\") ➞ \"invalid\""
      ],
      "metadata": {
        "id": "gwp8-VOHGZpV"
      }
    },
    {
      "cell_type": "code",
      "source": [
        "def destruccion(damage, speed, time):\n",
        "    if damage < 0 or speed < 0:\n",
        "        return 'invalid'\n",
        "    total = 0\n",
        "    if time == 'second':\n",
        "        total += damage * speed\n",
        "    elif time == 'minute':\n",
        "        total += damage * speed * 60\n",
        "    elif time == 'hour':\n",
        "        total += damage * speed * 3600\n",
        "    return total"
      ],
      "metadata": {
        "id": "XTBSadeHHXdP"
      },
      "execution_count": null,
      "outputs": []
    },
    {
      "cell_type": "code",
      "source": [
        "print(destruccion(40, 5, \"second\"))\n",
        "print(destruccion(100, 1, \"minute\"))\n",
        "print(destruccion(2, 100, \"hour\"))\n",
        "print(destruccion(5, -5, \"minute\"))"
      ],
      "metadata": {
        "id": "YQJPupH6JF_7",
        "outputId": "8583c8fe-cc41-4a0e-a4c0-6eb431ca7d11",
        "colab": {
          "base_uri": "https://localhost:8080/"
        }
      },
      "execution_count": null,
      "outputs": [
        {
          "output_type": "stream",
          "name": "stdout",
          "text": [
            "200\n",
            "6000\n",
            "720000\n",
            "invalid\n"
          ]
        }
      ]
    },
    {
      "cell_type": "markdown",
      "source": [
        "## Reto 180: Vamos a ordenar esta lista\n",
        "* Cree una función que tome una `lista` de números, una cadena `tipo` y devuelva una lista de números según las siguientes reglas:\n",
        "    1. \"Asc\" devuelve una lista ordenada en orden ascendente.\n",
        "    2. \"Des\" devuelve una lista ordenada en orden descendente.\n",
        "    3. \"None\" devuelve una lista sin ninguna modificación.\n",
        "* Ejemplos:\n",
        "    1. ordenar([4, 3, 2, 1], \"Asc\") ➞ [1, 2, 3, 4]\n",
        "    2. ordenar([7, 8, 11, 66], \"Des\") ➞ [66, 11, 8, 7]\n",
        "    3. ordenar([4, 3, 5, 2, 1], \"None\") ➞ [4, 3, 5, 2, 1]"
      ],
      "metadata": {
        "id": "uTvGD3bl3Py2"
      }
    },
    {
      "cell_type": "code",
      "source": [
        "# Método 1: usando sorted\n",
        "\n",
        "def ordenar(lista, tipo):\n",
        "    if tipo == \"Asc\":\n",
        "        return sorted(lista)\n",
        "    elif tipo == \"Des\":\n",
        "        return sorted(lista, reverse=True)\n",
        "    elif tipo == \"None\" or tipo == None:\n",
        "        return lista\n",
        "\n",
        "# Método 2: usando sort\n",
        "\n",
        "def ordenar(lista, tipo):\n",
        "    if tipo == \"Asc\":\n",
        "        lista.sort()\n",
        "        return lista\n",
        "    elif tipo == \"Des\":\n",
        "        lista.sort(reverse=True)\n",
        "        return lista\n",
        "    elif tipo == \"None\" or tipo == None:\n",
        "        return lista"
      ],
      "metadata": {
        "id": "0i1WMmMl4X77"
      },
      "execution_count": null,
      "outputs": []
    },
    {
      "cell_type": "code",
      "source": [
        "print(ordenar([4, 3, 2, 1], \"Asc\"))\n",
        "print(ordenar([7, 8, 11, 66], \"Des\"))\n",
        "print(ordenar([4, 3, 5, 2, 1], \"None\"))"
      ],
      "metadata": {
        "id": "E9BlJpQe4jTc",
        "outputId": "03dfa70d-99fd-4a51-d3b7-aa4dd7d6a622",
        "colab": {
          "base_uri": "https://localhost:8080/"
        }
      },
      "execution_count": null,
      "outputs": [
        {
          "output_type": "stream",
          "name": "stdout",
          "text": [
            "[1, 2, 3, 4]\n",
            "[66, 11, 8, 7]\n",
            "[4, 3, 5, 2, 1]\n"
          ]
        }
      ]
    },
    {
      "cell_type": "markdown",
      "source": [
        "## Reto 181: Obtener el Factorial\n",
        "* Cree una función que tome un número entero, no negativo `n` y devuelva el factorial de ese número.\n",
        "* El factorial de un número entero es el número multiplicado por todos los números enteros inferiores positivos.\n",
        "* El factorial de 5 es 5*4*3*2*1 = 120\n",
        "* El factorial de cero es 1, por definición.\n",
        "* Suponga que todas las entradas son mayores o iguales a 0.\n",
        "* Ejemplos:\n",
        "    1. factorial(3) ➞ 6\n",
        "    2. factorial(5) ➞ 120\n",
        "    3. factorial(13) ➞ 6227020800\n",
        "    4. factorial(0) ➞ 1"
      ],
      "metadata": {
        "id": "B5rvoAli8yIt"
      }
    },
    {
      "cell_type": "code",
      "source": [
        "def factorial(n):\n",
        "    if n == 0:\n",
        "        return 1\n",
        "    else:\n",
        "        result = 1\n",
        "        for i in range(1, n+1):\n",
        "            result *= i\n",
        "        return result"
      ],
      "metadata": {
        "id": "ev55LvpW9lbI"
      },
      "execution_count": null,
      "outputs": []
    },
    {
      "cell_type": "code",
      "source": [
        "print(factorial(3))\n",
        "print(factorial(5))\n",
        "print(factorial(13))\n",
        "print(factorial(0))"
      ],
      "metadata": {
        "id": "kB8GqcvH-n0X",
        "outputId": "525efc48-5b35-4ada-dd4b-78b3695d4381",
        "colab": {
          "base_uri": "https://localhost:8080/"
        }
      },
      "execution_count": null,
      "outputs": [
        {
          "output_type": "stream",
          "name": "stdout",
          "text": [
            "6\n",
            "120\n",
            "6227020800\n",
            "1\n"
          ]
        }
      ]
    },
    {
      "cell_type": "markdown",
      "source": [
        "## Reto 182 Separar un número en dos partes\n",
        "* Dado un número `n`, devuelva una lista que contenga las dos mitades del número.\n",
        "* Si el número es impar, haga que el mayor se el que está más a la derecha.\n",
        "* El número `n` siempre será un número entero.\n",
        "* El número `n` puede ser negativo.\n",
        "* Ejemplos:\n",
        "    1. separar_numero(4) ➞ [2, 2]\n",
        "    2. separar_numero(10) ➞ [5, 5]\n",
        "    3. separar_numero(11) ➞ [5, 6]\n",
        "    4. separar_numero(-9) ➞ [-5, -4]\n",
        "    5. separar_numero(0) ➞ [0, 0]"
      ],
      "metadata": {
        "id": "ltxtlwi5AFZt"
      }
    },
    {
      "cell_type": "code",
      "source": [
        "def separar_numero(n):\n",
        "    if n % 2 == 0:\n",
        "        return [int(n/2), int(n/2)]\n",
        "    else:\n",
        "        x = int((n-1)/2)\n",
        "        return [x, n-x]"
      ],
      "metadata": {
        "id": "WX4YXqa2BLBM"
      },
      "execution_count": null,
      "outputs": []
    },
    {
      "cell_type": "code",
      "source": [
        "print(separar_numero(4))\n",
        "print(separar_numero(10))\n",
        "print(separar_numero(11))\n",
        "print(separar_numero(-9))\n",
        "print(separar_numero(0))"
      ],
      "metadata": {
        "id": "cQms7DobBea-",
        "outputId": "0cec33fa-33d4-46f0-ad95-e1bd2a39070b",
        "colab": {
          "base_uri": "https://localhost:8080/"
        }
      },
      "execution_count": null,
      "outputs": [
        {
          "output_type": "stream",
          "name": "stdout",
          "text": [
            "[2, 2]\n",
            "[5, 5]\n",
            "[5, 6]\n",
            "[-5, -4]\n",
            "[0, 0]\n"
          ]
        }
      ]
    },
    {
      "cell_type": "markdown",
      "source": [
        "## Reto 183: La misma paridad\n",
        "* Cree una función que tome un número como entrada y devuelva `True` si la suma de sus dígitos tiene la misma paridad que el número completo.\n",
        "* De lo contrario, devuelve `False`.\n",
        "* La paridad consiste en ver si un número es par o impar.\n",
        "* Si la suma de los dígitos es par y el número en sí es par, devuelve `True`.\n",
        "* También devuelve `True` si el número es impar y también lo es la suma de sus dígitos.\n",
        "* Los números de un solo dígito obviamente tendrán la misma paridad.\n",
        "* Ejemplos:\n",
        "    1. analisis_de_paridad(243) ➞ True\n",
        "    2. analisis_de_paridad(444) ➞ True\n",
        "    3. analisis_de_paridad(1243) ➞ False\n",
        "    4. analisis_de_paridad(344) ➞ False\n",
        "    5. analisis_de_paridad(12) ➞ False\n",
        "    6. analisis_de_paridad(3) ➞ True"
      ],
      "metadata": {
        "id": "ZH1qXQr0EIrt"
      }
    },
    {
      "cell_type": "code",
      "source": [
        "def analisis_de_paridad(n):\n",
        "    suma = sum([int(d) for d in str(n)])\n",
        "    return n % 2 == suma % 2"
      ],
      "metadata": {
        "id": "2pSrnGbME4gA"
      },
      "execution_count": null,
      "outputs": []
    },
    {
      "cell_type": "code",
      "source": [
        "print(analisis_de_paridad(243))\n",
        "print(analisis_de_paridad(444))\n",
        "print(analisis_de_paridad(1243))\n",
        "print(analisis_de_paridad(344))\n",
        "print(analisis_de_paridad(12))\n",
        "print(analisis_de_paridad(3))"
      ],
      "metadata": {
        "id": "NG_O_yCTFC7X",
        "outputId": "7f996f72-2613-4247-b3a7-d596b4c9f439",
        "colab": {
          "base_uri": "https://localhost:8080/"
        }
      },
      "execution_count": null,
      "outputs": [
        {
          "output_type": "stream",
          "name": "stdout",
          "text": [
            "True\n",
            "True\n",
            "False\n",
            "False\n",
            "False\n",
            "True\n"
          ]
        }
      ]
    },
    {
      "cell_type": "markdown",
      "source": [
        "## Reto 184: Acordes de JAZZ\n",
        "* Cree una función que concatene el número 7 al final de cada acorde en una lista.\n",
        "* Ignore todos los acordes que ya terminan en 7.\n",
        "* Devuelva una lista vacía si la lista dada está vacía.\n",
        "* Ejemplos:\n",
        "    1. jazzificar([\"G\", \"F\", \"C\"]) ➞ [\"G7\", \"F7\", \"C7\"]\n",
        "    2. jazzificar([\"Dm\", \"G\", \"E\", \"A\"]) ➞ [\"Dm7\", \"G7\", \"E7\", \"A7\"]\n",
        "    3. jazzificar([\"F7\", \"E7\", \"A7\", \"Ab7\", \"Gm7\", \"C7\"]) ➞ [\"F7\", \"E7\", \"A7\", \"Ab7\", \"Gm7\", \"C7\"]\n",
        "    4. jazzificar([\"A\", \"E\", \"A7\", \"Ab7\", \"F\"]) ➞ ['A7', 'E7', 'A7', 'Ab7', 'F7']\n",
        "    5. jazzificar([]) ➞ []"
      ],
      "metadata": {
        "id": "nUV8AM8D3Le3"
      }
    },
    {
      "cell_type": "code",
      "source": [
        "def jazzificar(lst):\n",
        "    new_list = []\n",
        "    for chord in lst:\n",
        "        if chord[-1] == \"7\":\n",
        "            new_list.append(chord)\n",
        "        else:\n",
        "            new_list.append(chord + '7')\n",
        "    return new_list\n",
        "\n",
        "# usando list comprehension\n",
        "def jazzificar(lst):\n",
        "    return [chord if chord[-1] == \"7\" else chord + '7' for chord in lst]"
      ],
      "metadata": {
        "id": "hwsGVqvP5PaV"
      },
      "execution_count": null,
      "outputs": []
    },
    {
      "cell_type": "code",
      "source": [
        "print(jazzificar([\"G\", \"F\", \"C\"]))\n",
        "print(jazzificar([\"Dm\", \"G\", \"E\", \"A\"]))\n",
        "print(jazzificar([\"F7\", \"E7\", \"A7\", \"Ab7\", \"Gm7\", \"C7\"]))\n",
        "print(jazzificar([\"A\", \"E\", \"A7\", \"Ab7\", \"F\"]))\n",
        "print([])"
      ],
      "metadata": {
        "colab": {
          "base_uri": "https://localhost:8080/"
        },
        "id": "yd0ufoUU5Wkp",
        "outputId": "7f90b42a-966d-407d-a3ba-79a020337981"
      },
      "execution_count": null,
      "outputs": [
        {
          "output_type": "stream",
          "name": "stdout",
          "text": [
            "['G7', 'F7', 'C7']\n",
            "['Dm7', 'G7', 'E7', 'A7']\n",
            "['F7', 'E7', 'A7', 'Ab7', 'Gm7', 'C7']\n",
            "['A7', 'E7', 'A7', 'Ab7', 'F7']\n",
            "[]\n"
          ]
        }
      ]
    },
    {
      "cell_type": "markdown",
      "source": [
        "## Reto 185: Estado de ánimo predeterminado\n",
        "* Cree una función que tome su estado de ánimo actual y devuelva una oración en el siguiente formato:\n",
        "    - `\"Hoy me siento {estado de ánimo}.\"`\n",
        "* Sin embargo, si no se pasa ningún argumento, devuelva:\n",
        "    - `\"Hoy me siento neutral.\"`\n",
        "\n",
        "* Compruebe que todas las frases terminan en punto.\n",
        "* Ejemplos:\n",
        "    1. estado_de_animo(\"feliz\") ➞ \"Hoy me siento feliz.\"\n",
        "    2. estado_de_animo(\"triste\") ➞ \"Hoy me siento triste.\"\n",
        "    3. estado_de_animo() ➞ \"Hoy me siento neutral.\""
      ],
      "metadata": {
        "id": "Z3XP5FLP5vGa"
      }
    },
    {
      "cell_type": "code",
      "source": [
        "# valor por defecto en un parámetro\n",
        "\n",
        "def estado_de_animo(estado=\"neutral\"):\n",
        "    return f'Hoy me siento {estado}.'"
      ],
      "metadata": {
        "id": "gY1SN3325gOe"
      },
      "execution_count": null,
      "outputs": []
    },
    {
      "cell_type": "code",
      "source": [
        "print(estado_de_animo(\"feliz\"))\n",
        "print(estado_de_animo(\"triste\"))\n",
        "print(estado_de_animo())"
      ],
      "metadata": {
        "colab": {
          "base_uri": "https://localhost:8080/"
        },
        "id": "b2RtGyUa5b0V",
        "outputId": "a0311387-115b-42aa-f308-64a30a27b3fa"
      },
      "execution_count": null,
      "outputs": [
        {
          "output_type": "stream",
          "name": "stdout",
          "text": [
            "Hoy me siento feliz.\n",
            "Hoy me siento triste.\n",
            "Hoy me siento neutral.\n"
          ]
        }
      ]
    },
    {
      "cell_type": "markdown",
      "source": [
        "## Reto 186: ¿Es hora de tomar leche y galletas?\n",
        "* La Nochebuena ya casi está aquí, así que, naturalmente, ¡necesitamos preparar un poco de leche y galletas para Papá Noel!\n",
        "* Cree una función que acepte un objeto Fecha y devuelva `True` si es Nochebuena (24 de diciembre) y `False` en caso contrario.\n",
        "* Ejemplos:\n",
        "    1. nochebuena(datetime.date(2024, 12, 24)) ➞ True\n",
        "    2. nochebuena(datetime.date(2028, 1, 23)) ➞ False\n",
        "    3. nochebuena(datetime.date(2100, 12, 24)) ➞ True"
      ],
      "metadata": {
        "id": "rHBI03sL50x3"
      }
    },
    {
      "cell_type": "code",
      "source": [
        "import datetime\n",
        "\n",
        "def nochebuena(d):\n",
        "    return d.day == 24 and d.month == 12"
      ],
      "metadata": {
        "id": "UaXVksbn5o0I"
      },
      "execution_count": null,
      "outputs": []
    },
    {
      "cell_type": "code",
      "source": [
        "print(nochebuena(datetime.date(2024, 12, 24)))\n",
        "print(nochebuena(datetime.date(2028, 1, 23)))\n",
        "print(nochebuena(datetime.date(2100, 12, 24)))"
      ],
      "metadata": {
        "colab": {
          "base_uri": "https://localhost:8080/"
        },
        "id": "AreLvrhq5o0Q",
        "outputId": "593d2b02-713a-4c2b-db69-aeefb49d2d58"
      },
      "execution_count": null,
      "outputs": [
        {
          "output_type": "stream",
          "name": "stdout",
          "text": [
            "True\n",
            "False\n",
            "True\n"
          ]
        }
      ]
    },
    {
      "cell_type": "markdown",
      "source": [
        "## Reto 187: Terna pitagórica\n",
        "* Cree una función que valide si tres números enteros dados forman un [terna pitagórica](https://es.wikipedia.org/wiki/Terna_pitagórica).\n",
        "* La suma de los cuadrados de los dos números enteros más pequeños debe ser igual al cuadrado del número mayor.\n",
        "* Ejemplos:\n",
        "    1. es_terna(3, 4, 5) ➞ True\n",
        "        * 3² + 4² = 5²\n",
        "    2. es_terna(13, 5, 12) ➞ True\n",
        "        * 5² + 12² = 13²\n",
        "    3. es_terna(8, 17, 15) ➞ True\n",
        "        * 8² + 15² = 17²\n",
        "    4. es_terna(1, 2, 3) ➞ False\n",
        "        * 1² + 2² ≠ 3²"
      ],
      "metadata": {
        "id": "CXanfA8E54vu"
      }
    },
    {
      "cell_type": "code",
      "source": [
        "# la clave de este reto reside en\n",
        "# localizar los dos menores y el mayor\n",
        "\n",
        "def es_terna(a, b, c):\n",
        "    lista = [a, b, c]   # creamos una lista\n",
        "    lista.sort()        # ordenamos la lista\n",
        "    a, b, c = lista     # así sabemos que el mayor es c\n",
        "    return a ** 2 + b ** 2 == c ** 2"
      ],
      "metadata": {
        "id": "D9XTEYkC54v2"
      },
      "execution_count": null,
      "outputs": []
    },
    {
      "cell_type": "code",
      "source": [
        "print(es_terna(3, 4, 5))\n",
        "print(es_terna(13, 5, 12))\n",
        "print(es_terna(8, 17, 15))\n",
        "print(es_terna(1, 2, 3))"
      ],
      "metadata": {
        "colab": {
          "base_uri": "https://localhost:8080/"
        },
        "id": "xy4uawbY54v2",
        "outputId": "65a512e3-6839-4495-9fbe-122e22e4fc22"
      },
      "execution_count": null,
      "outputs": [
        {
          "output_type": "stream",
          "name": "stdout",
          "text": [
            "True\n",
            "True\n",
            "True\n",
            "False\n"
          ]
        }
      ]
    },
    {
      "cell_type": "markdown",
      "source": [
        "## Reto 188: ¿Cuántas vocales?\n",
        "* Cree una función que tome una palabra y devuelva el número de vocales que contiene.\n",
        "* La palabra que se envía a la función como argumento no llevarán tildes o diéresis.\n",
        "* Ejemplos:\n",
        "    1. contar_vocales(\"Argos\") ➞ 2\n",
        "    2. contar_vocales(\"Atenas\") ➞ 3\n",
        "    3. contar_vocales(\"Esparta\") ➞ 3\n",
        "    4. contar_vocales(\"Olimpia\") ➞ 4"
      ],
      "metadata": {
        "id": "pT4bUsjG54_C"
      }
    },
    {
      "cell_type": "code",
      "source": [
        "def contar_vocales(palabra):\n",
        "    vocales = 'aeiou'\n",
        "    contador = 0\n",
        "    for letra in palabra:\n",
        "        if letra.lower() in vocales:\n",
        "            contador += 1\n",
        "    return contador"
      ],
      "metadata": {
        "id": "20zbgKEC54_D"
      },
      "execution_count": null,
      "outputs": []
    },
    {
      "cell_type": "code",
      "source": [
        "print(contar_vocales(\"Argos\"))\n",
        "print(contar_vocales(\"Atenas\"))\n",
        "print(contar_vocales(\"Esparta\"))\n",
        "print(contar_vocales(\"Olimpia\"))"
      ],
      "metadata": {
        "colab": {
          "base_uri": "https://localhost:8080/"
        },
        "id": "cGfDYXcy54_D",
        "outputId": "e8aa86f1-af58-49b9-9132-f047e62fd103"
      },
      "execution_count": null,
      "outputs": [
        {
          "output_type": "stream",
          "name": "stdout",
          "text": [
            "2\n",
            "3\n",
            "3\n",
            "4\n"
          ]
        }
      ]
    },
    {
      "cell_type": "markdown",
      "source": [
        "## Reto 189: Código ASCII del carácter inverso\n",
        "* Encuentre el código de caracteres ASCII del carácter de caso inverso.\n",
        "* El argumento siempre será de un solo carácter.\n",
        "* No todas las entradas tendrán una contraparte (por ejemplo, números), en cuyo caso devolverá el código del caractere de la entrada.\n",
        "* Ejemplos:\n",
        "    1. contraparte(\"A\") ➞ 97\n",
        "    2. contraparte(\"a\") ➞ 65\n",
        "    3. contraparte(\"*\") ➞ 42\n",
        "    4. contraparte(\"Z\") ➞ 122\n",
        "\n",
        "* Dado que:\n",
        "    - El código de carácter \"A\" es: 65\n",
        "    - El código de carácter \"a\" es: 97"
      ],
      "metadata": {
        "id": "Oo9SqqXq55Pw"
      }
    },
    {
      "cell_type": "code",
      "source": [
        "def contraparte(caracter):\n",
        "    if 'a' <= caracter <= 'z':\n",
        "        return ord(caracter) - 32   # 97-65=32\n",
        "    elif 'A' <= caracter <= 'Z':\n",
        "        return ord(caracter) + 32\n",
        "    return ord(caracter)\n",
        "\n",
        "def contraparte(caracter):\n",
        "    if caracter.isupper():\n",
        "        return ord(caracter.lower())\n",
        "    elif caracter.islower():\n",
        "        return ord(caracter.upper())\n",
        "    return ord(caracter)"
      ],
      "metadata": {
        "id": "1UDdhriq55Px"
      },
      "execution_count": null,
      "outputs": []
    },
    {
      "cell_type": "code",
      "source": [
        "print(contraparte(\"A\"))\n",
        "print(contraparte(\"a\"))\n",
        "print(contraparte(\"*\"))\n",
        "print(contraparte(\"Z\"))"
      ],
      "metadata": {
        "colab": {
          "base_uri": "https://localhost:8080/"
        },
        "id": "pI047PMx55Px",
        "outputId": "1770ba3e-230d-467a-8a77-bd909e6c0a95"
      },
      "execution_count": null,
      "outputs": [
        {
          "output_type": "stream",
          "name": "stdout",
          "text": [
            "97\n",
            "65\n",
            "42\n",
            "122\n"
          ]
        }
      ]
    },
    {
      "cell_type": "markdown",
      "source": [
        "## Reto 190: Suma de divisores en un rango\n",
        "* Cree una función que tome tres argumentos `a`, `b`, `c` y devuelva la suma de los números divisibles entre `c` del rango `a`, `b`, ambos inclusive.\n",
        "* Ejemplos:\n",
        "    1. suma_divisibles(1, 10, 20) ➞ 0\n",
        "        * No hay números entre 1 y 10 divisibles entre 20.\n",
        "    2. suma_divisibles(1, 10, 2) ➞ 30\n",
        "        * 2 + 4 + 6 + 8 + 10 = 30\n",
        "    3. suma_divisibles(1, 10, 3) ➞ 18\n",
        "        * 3 + 6 + 9 = 18\n",
        "    4. suma_divisibles(1, 100, 1) ➞ 5050"
      ],
      "metadata": {
        "id": "rEd41wdF55rd"
      }
    },
    {
      "cell_type": "code",
      "source": [
        "def suma_divisibles(a, b, c):\n",
        "    suma = 0\n",
        "    for i in range(a, b + 1):\n",
        "        if i % c == 0:\n",
        "            suma += i\n",
        "    return suma"
      ],
      "metadata": {
        "id": "r8-ZQ3I255rd"
      },
      "execution_count": null,
      "outputs": []
    },
    {
      "cell_type": "code",
      "source": [
        "print(suma_divisibles(1, 10, 20))\n",
        "print(suma_divisibles(1, 10, 2))\n",
        "print(suma_divisibles(1, 10, 3))\n",
        "print(suma_divisibles(1, 100, 1))"
      ],
      "metadata": {
        "colab": {
          "base_uri": "https://localhost:8080/"
        },
        "id": "tUECjU1155re",
        "outputId": "3ca25144-7c4e-4ada-8993-935218c3b80a"
      },
      "execution_count": null,
      "outputs": [
        {
          "output_type": "stream",
          "name": "stdout",
          "text": [
            "0\n",
            "30\n",
            "18\n",
            "5050\n"
          ]
        }
      ]
    },
    {
      "cell_type": "markdown",
      "source": [
        "## Reto 191: Reemplazar vocales\n",
        "* Cree una función que reemplace todas las vocales de una cadena con un carácter específico.\n",
        "* Todos los caracteres estarán en minúsculas.\n",
        "* Ejemplos:\n",
        "    1. reemplazar_vocales(\"beethoven\", \"@\") ➞ \"b@@th@v@n\"\n",
        "    2. reemplazar_vocales(\"amazing spiderman\", \"?\") ➞ \"?m?z?ng sp?d?rm?n\"\n",
        "    3. reemplazar_vocales(\"shakespeare\", \"*\") ➞ \"sh\\*k\\*sp\\*\\*r\\*\""
      ],
      "metadata": {
        "id": "kEQsXmxQ595J"
      }
    },
    {
      "cell_type": "code",
      "source": [
        "def reemplazar_vocales(string, caracter):\n",
        "    vocales = 'aeiou'\n",
        "    for vocal in vocales:\n",
        "        string = string.replace(vocal, caracter)\n",
        "    return string"
      ],
      "metadata": {
        "id": "G7ag7b8_595R"
      },
      "execution_count": null,
      "outputs": []
    },
    {
      "cell_type": "code",
      "source": [
        "print(reemplazar_vocales(\"beethoven\", \"@\"))\n",
        "print(reemplazar_vocales(\"amazing spiderman\", \"?\"))\n",
        "print(reemplazar_vocales(\"shakespeare\", \"*\"))"
      ],
      "metadata": {
        "colab": {
          "base_uri": "https://localhost:8080/"
        },
        "id": "qWpXY7K8595R",
        "outputId": "93d1b84f-f0e7-4f3a-cff5-b7dcd48d34fc"
      },
      "execution_count": null,
      "outputs": [
        {
          "output_type": "stream",
          "name": "stdout",
          "text": [
            "b@@th@v@n\n",
            "?m?z?ng sp?d?rm?n\n",
            "sh*k*sp**r*\n"
          ]
        }
      ]
    },
    {
      "cell_type": "markdown",
      "source": [
        "## Reto 192: Ocultar dígitos de la tarjeta de crédito\n",
        "* Escriba una función que tome un número de tarjeta de crédito y solo muestre los últimos cuatro caracteres.\n",
        "* El resto de dígitos de la tarjeta deberán sustituirse por asteriscos.\n",
        "* Asegúrese de devolver una cadena.\n",
        "* La longitud de la cadena retornada debe seguir siendo la misma que la de entrada.\n",
        "* Ejemplos:\n",
        "    1. ocultar_tarjeta(\"1234123456785678\") ➞ \"\\*\\*\\*\\*\\*\\*\\*\\*\\*\\*\\*\\*5678\"\n",
        "    2. ocultar_tarjeta(\"8754456321113213\") ➞ \"\\*\\*\\*\\*\\*\\*\\*\\*\\*\\*\\*\\*3213\"\n",
        "    3. ocultar_tarjeta(\"35123413355523\") ➞ \"\\*\\*\\*\\*\\*\\*\\*\\*\\*\\*5523\""
      ],
      "metadata": {
        "id": "AaJJ5Csf5-Ex"
      }
    },
    {
      "cell_type": "code",
      "source": [
        "def ocultar_tarjeta(tarjeta):\n",
        "    n = len(tarjeta)\n",
        "    return '*' * (n - 4) + tarjeta[-4:]"
      ],
      "metadata": {
        "id": "-tJXDlYt5-Ex"
      },
      "execution_count": null,
      "outputs": []
    },
    {
      "cell_type": "code",
      "source": [
        "print(ocultar_tarjeta(\"1234123456785678\"))\n",
        "print(ocultar_tarjeta(\"8754456321113213\"))\n",
        "print(ocultar_tarjeta(\"35123413355523\"))"
      ],
      "metadata": {
        "id": "o68dycle5-Ex",
        "outputId": "defbd742-f3bc-4300-e1a9-f93cc076bbb3",
        "colab": {
          "base_uri": "https://localhost:8080/"
        }
      },
      "execution_count": null,
      "outputs": [
        {
          "output_type": "stream",
          "name": "stdout",
          "text": [
            "************5678\n",
            "************3213\n",
            "**********5523\n"
          ]
        }
      ]
    },
    {
      "cell_type": "markdown",
      "source": [
        "## Reto 193: Xs y Os iguales\n",
        "* Cree una función que tome una cadena, verifique si tiene el mismo número de \"x\" y \"o\" y devuelva `True` o `False`.\n",
        "* Devuelve un valor booleano (`True` o `False`).\n",
        "    1. Devuelve `True` si la cantidad de \"x\" y \"o\" son iguales.\n",
        "    2. Devuelve `False` si no son la misma cantidad.\n",
        "* La cadena puede contener cualquier carácter.\n",
        "* Cuando \"x\" y \"o\" no están en la cadena, devuelve `True`.\n",
        "* Recuerde devolver `True` si no hay \"x\" ni \"o\".\n",
        "* No debe distinguir entre mayúsculas y minúsculas.\n",
        "* Ejemplos:\n",
        "    1. funcion_xo(\"ooxx\") ➞ True\n",
        "        - XO(\"xooxx\") ➞ False\n",
        "    2. funcion_xo(\"ooxXm\") ➞ True\n",
        "        - Case insensitive.\n",
        "    3. funcion_xo(\"zpzpzpp\") ➞ True\n",
        "        - Returns True if no x and o.\n",
        "    4. funcion_xo(\"zzoo\") ➞ False\n",
        "    5. funcion_xo(\"Xo\") ➞ True\n",
        "    6. funcion_xo(\"X\") ➞ False\n",
        "    7. funcion_xo(\"O\") ➞ False\n",
        "    8. funcion_xo(\"xxOoX\") ➞ False\n",
        "    9. funcion_xo(\"\") ➞ True"
      ],
      "metadata": {
        "id": "wZfvp58u5-MX"
      }
    },
    {
      "cell_type": "code",
      "source": [
        "def funcion_xo(txt):\n",
        "    txt = txt.lower()\n",
        "    os = txt.count('o')\n",
        "    xs = txt.count('x')\n",
        "    if os + xs == 0 or os == xs:\n",
        "        return True\n",
        "    return False\n"
      ],
      "metadata": {
        "id": "Rb88vBiw5-MX"
      },
      "execution_count": null,
      "outputs": []
    },
    {
      "cell_type": "code",
      "source": [
        "print(funcion_xo(\"ooxx\"))\n",
        "print(funcion_xo(\"ooxXm\"))\n",
        "print(funcion_xo(\"zpzpzpp\"))\n",
        "print(funcion_xo(\"zzoo\"))\n",
        "print(funcion_xo(\"Xo\"))\n",
        "print(funcion_xo(\"X\"))\n",
        "print(funcion_xo(\"O\"))\n",
        "print(funcion_xo(\"xxOoX\"))\n",
        "print(funcion_xo(\"\"))"
      ],
      "metadata": {
        "id": "6jcD42kV5-MX",
        "outputId": "dc7ebc7b-4d47-4e85-b129-4f4b141b2ab1",
        "colab": {
          "base_uri": "https://localhost:8080/"
        }
      },
      "execution_count": null,
      "outputs": [
        {
          "output_type": "stream",
          "name": "stdout",
          "text": [
            "True\n",
            "True\n",
            "True\n",
            "False\n",
            "True\n",
            "False\n",
            "False\n",
            "False\n",
            "True\n"
          ]
        }
      ]
    },
    {
      "cell_type": "markdown",
      "source": [
        "## Reto 194: Elimiar espacios al inicio y al final\n",
        "* Cree una función que reciba una cadena y retorne esa misma cadena pero habiendo eliminado los espacios al inicio y al final.\n",
        "* Consiga esto sin utilizar la función `strip`\n",
        "* Ejemplos:\n",
        "    1. eliminar_espacios(\" &nbsp; Hola, mundo! &nbsp; \") ➞ \"Hola, mundo!\"\n",
        "    2. eliminar_espacios(\" &nbsp; Hey... &nbsp; &nbsp; Mark!!! &nbsp; &nbsp; &nbsp; \") ➞ \"Hey... &nbsp; &nbsp; Mark!!!\""
      ],
      "metadata": {
        "id": "MA-O3_735-TE"
      }
    },
    {
      "cell_type": "code",
      "source": [
        "def eliminar_espacios(cadena):\n",
        "    while cadena[0] == ' ':\n",
        "        cadena = cadena[1:]\n",
        "    while cadena[-1] == ' ':\n",
        "        cadena = cadena[:-1]\n",
        "    return cadena"
      ],
      "metadata": {
        "id": "wQSXcnio5-TE"
      },
      "execution_count": null,
      "outputs": []
    },
    {
      "cell_type": "code",
      "source": [
        "print(eliminar_espacios(\"   Hola, mundo!   \"))\n",
        "print(eliminar_espacios(\"   Hey...     Mark!!!       \"))"
      ],
      "metadata": {
        "id": "dIMYqdcw5-TE",
        "outputId": "ab368453-503a-435d-ce8c-9a4865dee3b1",
        "colab": {
          "base_uri": "https://localhost:8080/"
        }
      },
      "execution_count": null,
      "outputs": [
        {
          "output_type": "stream",
          "name": "stdout",
          "text": [
            "Hola, mundo!\n",
            "Hey...     Mark!!!\n"
          ]
        }
      ]
    },
    {
      "cell_type": "markdown",
      "source": [
        "## Reto 195: Intercambiar nombre y apellido\n",
        "* Cree una función que tome una cadena (será el nombre y apellido de una persona) y devuelva una cadena con el nombre y apellido intercambiados.\n",
        "* Habrá exactamente un espacio entre el nombre y el apellido.\n",
        "* Solo contiene un nombre y un apellido.\n",
        "* Ejemplos:\n",
        "    1. intercambiar_nombre(\"Albert Einstein\") ➞ \"Einstein Albert\"\n",
        "    2. intercambiar_nombre(\"Marie Curie\") ➞ \"Curie Marie\"\n",
        "    3. intercambiar_nombre(\"Nikola Tesla\") ➞ \"Tesla Nikola\"\n",
        "    4. intercambiar_nombre(\"Margaret Hamilton\") ➞ \"Hamilton Margaret\""
      ],
      "metadata": {
        "id": "frfv_p-W5-az"
      }
    },
    {
      "cell_type": "code",
      "source": [
        "def intercambiar_nombre(persona):\n",
        "    i = persona.index(' ')\n",
        "    return persona[i:] + ' ' +persona[:i]"
      ],
      "metadata": {
        "id": "FmtZOODC5-az"
      },
      "execution_count": null,
      "outputs": []
    },
    {
      "cell_type": "code",
      "source": [
        "print(intercambiar_nombre(\"Albert Einstein\"))\n",
        "print(intercambiar_nombre(\"Marie Curie\"))\n",
        "print(intercambiar_nombre(\"Nikola Tesla\"))\n",
        "print(intercambiar_nombre(\"Margaret Hamilton\"))"
      ],
      "metadata": {
        "id": "SmrraRjj5-az",
        "outputId": "69258c36-4f77-46be-855f-66ade0d98f5f",
        "colab": {
          "base_uri": "https://localhost:8080/"
        }
      },
      "execution_count": null,
      "outputs": [
        {
          "output_type": "stream",
          "name": "stdout",
          "text": [
            " Einstein Albert\n",
            " Curie Marie\n",
            " Tesla Nikola\n",
            " Hamilton Margaret\n"
          ]
        }
      ]
    },
    {
      "cell_type": "markdown",
      "source": [
        "## Reto 196: Entero que aparece un número impar de veces\n",
        "* Cree una función que tome una lista y encuentre el número entero que aparece un número impar de veces.\n",
        "* Siempre habrá un solo número entero que aparezca un número impar de veces.\n",
        "* Ejemplos:\n",
        "    1. veces_impar([1, 1, 2, -2, 5, 2, 4, 4, -1, -2, 5]) ➞ -1\n",
        "    2. veces_impar([20, 1, 1, 2, 2, 3, 3, 5, 5, 4, 20, 4, 5]) ➞ 5\n",
        "    3. veces_impar([10]) ➞ 10"
      ],
      "metadata": {
        "id": "GqUHnn6L5-hG"
      }
    },
    {
      "cell_type": "code",
      "source": [
        "def veces_impar(lista):\n",
        "    for i in lista:\n",
        "        if lista.count(i) % 2:\n",
        "            return i"
      ],
      "metadata": {
        "id": "TmmZLPRM5-hG"
      },
      "execution_count": null,
      "outputs": []
    },
    {
      "cell_type": "code",
      "source": [
        "print(veces_impar([1, 1, 2, -2, 5, 2, 4, 4, -1, -2, 5]))\n",
        "print(veces_impar([20, 1, 1, 2, 2, 3, 3, 5, 5, 4, 20, 4, 5]))\n",
        "print(veces_impar([10]))"
      ],
      "metadata": {
        "id": "YeSgIa_j5-hG",
        "outputId": "27c1aea3-3b44-4da6-9bb6-249bcacebd30",
        "colab": {
          "base_uri": "https://localhost:8080/"
        }
      },
      "execution_count": null,
      "outputs": [
        {
          "output_type": "stream",
          "name": "stdout",
          "text": [
            "-1\n",
            "5\n",
            "10\n"
          ]
        }
      ]
    },
    {
      "cell_type": "markdown",
      "source": [
        "## Reto 197: Filtrar cadenas de un Array\n",
        "* Cree una función que tome una lista de cadenas y números y devuelva una nueva lista sin las cadenas y sin los números negativos.\n",
        "* Ejemplos:\n",
        "    1. filtrar_lista([1, 2, \"a\", \"b\"]) ➞ [1, 2]\n",
        "    2. filtrar_lista([1, \"a\", \"b\", 0, 15, 1]) ➞ [1, 0, 15]\n",
        "    3. filtrar_lista([1, 2, \"aasf\", \"1\", \"123\", 123]) ➞ [1, 2, 123]\n",
        "    4. filtrar_lista([-5, \"5\", \"bye\", \"7\", \"77\"]) ➞ []\n",
        "* El cero es un número entero no negativo.\n",
        "* Los números de la lista no deben repetirse.\n",
        "* Se debe mantener el orden original."
      ],
      "metadata": {
        "id": "NpRvAtIV5-o4"
      }
    },
    {
      "cell_type": "code",
      "source": [
        "def filtrar_lista(lst):\n",
        "    new_lst = []\n",
        "    for i in lst:\n",
        "        if i not in new_lst and isinstance(i, int) and i >= 0:\n",
        "            new_lst.append(i)\n",
        "    return new_lst"
      ],
      "metadata": {
        "id": "EojQ8vA75-o4"
      },
      "execution_count": null,
      "outputs": []
    },
    {
      "cell_type": "code",
      "source": [
        "print(filtrar_lista([1, 2, \"a\", \"b\"]))\n",
        "print(filtrar_lista([1, \"a\", \"b\", 0, 15, 1]))\n",
        "print(filtrar_lista([1, 2, \"aasf\", \"1\", \"123\", 123]))\n",
        "print(filtrar_lista([-5, \"5\", \"bye\", \"7\", \"77\"]))"
      ],
      "metadata": {
        "id": "3dRWN_tA5-o5",
        "colab": {
          "base_uri": "https://localhost:8080/"
        },
        "outputId": "3133112d-1449-4743-95ba-20f2a731fe7e"
      },
      "execution_count": null,
      "outputs": [
        {
          "output_type": "stream",
          "name": "stdout",
          "text": [
            "[1, 2]\n",
            "[1, 0, 15]\n",
            "[1, 2, 123]\n",
            "[]\n"
          ]
        }
      ]
    },
    {
      "cell_type": "markdown",
      "source": [
        "## Reto 198: El reverso\n",
        "* La función toma una cadena como entrada y devuelve esa cadena en orden inverso, con el caso opuesto de mayúsculas y minúsculas.\n",
        "* Ejemplos:\n",
        "    1. reverso(\"Hello World\") ➞ \"DLROw OLLEh\"\n",
        "    2. reverso(\"ReVeRsE\") ➞ \"eSrEvEr\"\n",
        "    3. reverso(\"Radar\") ➞ \"RADAr\""
      ],
      "metadata": {
        "id": "O26WYjpW5-wm"
      }
    },
    {
      "cell_type": "code",
      "source": [
        "def reverso(txt):\n",
        "    return txt[::-1].swapcase()\n"
      ],
      "metadata": {
        "id": "jhPqNEvI5-wm"
      },
      "execution_count": null,
      "outputs": []
    },
    {
      "cell_type": "code",
      "source": [
        "print(reverso(\"Hello World\"))\n",
        "print(reverso(\"ReVeRsE\"))\n",
        "print(reverso(\"Radar\"))"
      ],
      "metadata": {
        "id": "bhBs4Im45-wn",
        "colab": {
          "base_uri": "https://localhost:8080/"
        },
        "outputId": "6b856da1-3f43-4e3e-fd6b-4bcde0e3c0fd"
      },
      "execution_count": null,
      "outputs": [
        {
          "output_type": "stream",
          "name": "stdout",
          "text": [
            "DLROw OLLEh\n",
            "eSrEvEr\n",
            "RADAr\n"
          ]
        }
      ]
    },
    {
      "cell_type": "markdown",
      "source": [
        "## Reto 199: Contar caracteres en un array\n",
        "* Cree una función para calcular cuántos caracteres hay en un array de strings.\n",
        "* Devuelve 0 si la lista dada no contiene caracteres.\n",
        "* Ejemplos:\n",
        "    1. contar_caracteres([\"###\", \"###\", \"###\"]) ➞ 9\n",
        "    2. contar_caracteres([\"22222222\", \"22222222\"]) ➞ 16\n",
        "    3. contar_caracteres([\"------------------\"]) ➞ 18\n",
        "    4. contar_caracteres([]) ➞ 0\n",
        "    5. contar_caracteres([\"\", \"\"]) ➞ 0"
      ],
      "metadata": {
        "id": "fVegZSsk5_Ai"
      }
    },
    {
      "cell_type": "code",
      "source": [
        "def contar_caracteres(arr):\n",
        "    total = 0\n",
        "    for s in arr:\n",
        "        total += len(s)\n",
        "    return total\n",
        "\n",
        "# usando list comprehension\n",
        "def contar_caracteres(arr):\n",
        "    return sum(len(s) for s in arr)"
      ],
      "metadata": {
        "id": "Hks8hilO5_Aj"
      },
      "execution_count": null,
      "outputs": []
    },
    {
      "cell_type": "code",
      "source": [
        "print(contar_caracteres([\"###\", \"###\", \"###\"]))\n",
        "print(contar_caracteres([\"22222222\", \"22222222\"]))\n",
        "print(contar_caracteres([\"------------------\"]))\n",
        "print(contar_caracteres([]))\n",
        "print(contar_caracteres([\"\", \"\"]))"
      ],
      "metadata": {
        "id": "_7dmpODh5_Aj",
        "colab": {
          "base_uri": "https://localhost:8080/"
        },
        "outputId": "50e355c5-55f2-449f-a41c-34fa68c26d15"
      },
      "execution_count": null,
      "outputs": [
        {
          "output_type": "stream",
          "name": "stdout",
          "text": [
            "9\n",
            "16\n",
            "18\n",
            "0\n",
            "0\n"
          ]
        }
      ]
    },
    {
      "cell_type": "markdown",
      "source": [
        "## Reto 200: Factorial por recursión\n",
        "* Escriba una función que calcule el factorial de un número de forma recursiva.\n",
        "* El factorial de cero, por definición, es uno.\n",
        "* Ejemplos:\n",
        "    1. factorial(5) ➞ 120\n",
        "    2. factorial(3) ➞ 6\n",
        "    3. factorial(1) ➞ 1\n",
        "    4. factorial(0) ➞ 1\n",
        "\n",
        "* Una **función recursiva** es aquella que se llama a si misma y tiene una condición de parada (o caso base), momento en el cual la función deja de llamarse a sí misma y comienza a retornar valores hacia atrás en la cadena de llamadas.\n",
        "* La **condición de parada** es esencial en las funciones recursivas para evitar que la función se llame infinitamente y cause un desbordamiento de la pila (stack overflow)."
      ],
      "metadata": {
        "id": "JlJS8B9I5_N4"
      }
    },
    {
      "cell_type": "code",
      "source": [
        "def factorial(n):\n",
        "    if n == 0:\n",
        "        return 1\n",
        "    else:\n",
        "        return n * factorial(n-1)"
      ],
      "metadata": {
        "id": "DgcPsjGy5_N5"
      },
      "execution_count": null,
      "outputs": []
    },
    {
      "cell_type": "code",
      "source": [
        "print(factorial(5))\n",
        "print(factorial(3))\n",
        "print(factorial(1))\n",
        "print(factorial(0))"
      ],
      "metadata": {
        "id": "gVbceOZB5_N5",
        "outputId": "a0ac75b1-670e-44ca-eb61-a7e92a6c4012",
        "colab": {
          "base_uri": "https://localhost:8080/"
        }
      },
      "execution_count": null,
      "outputs": [
        {
          "output_type": "stream",
          "name": "stdout",
          "text": [
            "120\n",
            "6\n",
            "1\n",
            "1\n"
          ]
        }
      ]
    }
  ]
}
