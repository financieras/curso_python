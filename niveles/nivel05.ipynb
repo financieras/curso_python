{
  "nbformat": 4,
  "nbformat_minor": 0,
  "metadata": {
    "colab": {
      "provenance": [],
      "authorship_tag": "ABX9TyPS6tPHY0ey1JckaEAv5xb7",
      "include_colab_link": true
    },
    "kernelspec": {
      "name": "python3",
      "display_name": "Python 3"
    },
    "language_info": {
      "name": "python"
    }
  },
  "cells": [
    {
      "cell_type": "markdown",
      "metadata": {
        "id": "view-in-github",
        "colab_type": "text"
      },
      "source": [
        "<a href=\"https://colab.research.google.com/github/financieras/curso_python/blob/main/niveles/nivel05.ipynb\" target=\"_parent\"><img src=\"https://colab.research.google.com/assets/colab-badge.svg\" alt=\"Open In Colab\"/></a>"
      ]
    },
    {
      "cell_type": "markdown",
      "source": [
        "## Reto 401: Relleno\n",
        "* Format VI: Padding\n",
        "* Para este reto no necesitas crear una función.\n",
        "* En su lugar, necesitas elaborar una cadena de plantilla que pueda ser formateada para obtener un cierto resultado.\n",
        "* Escribe tres cadenas de plantilla de acuerdo con el siguiente ejemplo.\n",
        "* Todas las cadenas finales deben tener una longitud de 20 caracteres:\n",
        "* Ejemplo:\n",
        "```python\n",
        "estrellado = \"tucadenadeplantillaaquí\"\n",
        "guiones = \"tucadenadeplantillaaquí\"\n",
        "money = \"tucadenadeplantillaaquí\"\n",
        "estrellado.format(\"Estrella\") # \"******Estrella******\"\n",
        "guiones.format(\"Guión\")       # \"---------------Guión\"\n",
        "money.format(\"Money\")         # \"Money$$$$$$$$$$$$$$$\"\n",
        "```\n",
        "* Consejo:\n",
        "* Puedes rellenar una cadena con un marcador de posición en el formato {:cdx} donde c es el carácter de relleno, d es una de tres direcciones (<, ^ o >), y x es el ancho.\n",
        "* Por ejemplo:\n",
        "```python\n",
        "\"Mejor puntuación{:->15}\".format('AAA') #➞ \"Mejor puntuación------------AAA\"\n",
        "```\n",
        "* Envía una cadena, no una función."
      ],
      "metadata": {
        "id": "c1sQ-fIGDDs5"
      }
    },
    {
      "cell_type": "markdown",
      "source": [
        "### Comentario\n",
        "* El formato `{:cdx}` es un formato estándar en Python, donde:\n",
        "    - `c` es el carácter de relleno,\n",
        "    - `d` es una de las tres direcciones (`<`, `^`, o `>`), y\n",
        "    - `x` es el ancho\n",
        "* Es parte de la sintaxis de formateo de cadenas que se usa con el método `format()` en Python para formatear cadenas según ciertos criterios.\n",
        "\n",
        "    1. `<` indica alineación a la izquierda.\n",
        "    2. `^` indica alineación centrada.\n",
        "    3. `>` indica alineación a la derecha.\n",
        "* El carácter `c` se coloca antes del símbolo de dirección y se usa para especificar el carácter de relleno.\n",
        "* El carácter `c` puede ser cualquier carácter, no solo *, - o $."
      ],
      "metadata": {
        "id": "DZ-lzxHmIzcP"
      }
    },
    {
      "cell_type": "code",
      "source": [
        "#  Estas son las tres plantillas de cadena que cumplen con los requisitos:\n",
        "estrellado = \"{:*^20}\"\n",
        "guiones = \"{:->20}\"\n",
        "money = \"{:$<20}\""
      ],
      "metadata": {
        "id": "PEhcTw9T0Fk8"
      },
      "execution_count": null,
      "outputs": []
    },
    {
      "cell_type": "code",
      "source": [
        "print(estrellado.format(\"Estrella\"))    # Salida: ******Estrella******\n",
        "print(guiones.format(\"Guión\"))          # Salida: ---------------Guión\n",
        "print(money.format(\"Money\"))            # Salida: Money$$$$$$$$$$$$$$$"
      ],
      "metadata": {
        "id": "GM1b90Me0f8d",
        "outputId": "4e28f9c8-fb2d-4a23-f69e-fc74a0d01acb",
        "colab": {
          "base_uri": "https://localhost:8080/"
        }
      },
      "execution_count": null,
      "outputs": [
        {
          "output_type": "stream",
          "name": "stdout",
          "text": [
            "******Estrella******\n",
            "---------------Guión\n",
            "Money$$$$$$$$$$$$$$$\n"
          ]
        }
      ]
    },
    {
      "cell_type": "markdown",
      "source": [
        "## Reto 402: Gira Alrededor\n",
        "* Spin Around, Touch the Ground\n",
        "* Dada una lista de direcciones para girar, \"izquierda\" o \"derecha\", devuelve un número entero que representa cuántas rotaciones completas de 360° se realizaron.\n",
        "* Tenga en cuenta que cada palabra en la lista cuenta como una rotación de 90° en esa dirección.\n",
        "* Ejemplos:\n",
        "    1. girar_360([\"derecha\", \"derecha\", \"derecha\", \"derecha\", \"izquierda\", \"derecha\"]) ➞ 1\n",
        "        - Giraste a la derecha 4 veces (90 * 4 = 360)\n",
        "        - Giraste a la izquierda una vez (360 - 90 = 270)\n",
        "        - Pero giraste a la derecha una vez más para completar una rotación completa (270 + 90 = 360)\n",
        "    2. girar_360([\"izquierda\", \"derecha\", \"izquierda\", \"derecha\"]) ➞ 0\n",
        "    3. girar_360([\"derecha\", \"derecha\", \"derecha\", \"derecha\", \"derecha\", \"derecha\", \"derecha\", \"derecha\"]) ➞ 2\n",
        "    4. girar_360([\"izquierda\", \"izquierda\", \"izquierda\", \"izquierda\"]) ➞ 1\n",
        "    5. girar_360([\"derecha\", \"derecha\", \"derecha\", \"derecha\", \"derecha\", \"izquierda\", \"izquierda\"]) ➞ 0\n",
        "\n",
        "* Devuelva un número entero, no negativo.\n",
        "* Todas las pruebas solo incluirán las palabras \"derecha\" e \"izquierda\"."
      ],
      "metadata": {
        "id": "6FHTxNcFJNkT"
      }
    },
    {
      "cell_type": "code",
      "source": [
        "# Método 1\n",
        "def girar_360(direcciones):\n",
        "    giros_derecha = direcciones.count(\"derecha\")\n",
        "    giros_izquierda = direcciones.count(\"izquierda\")\n",
        "    total_giros = giros_derecha - giros_izquierda\n",
        "    giros_completos = abs(total_giros) // 4  # 4 giros = 360 grados\n",
        "    return giros_completos\n",
        "\n",
        "# Método 2. Usando una list comprhension\n",
        "def girar_360(lista):\n",
        "    giros = [1 if direccion == \"derecha\" else -1 for direccion in lista]\n",
        "    return abs(sum(giros) // 4)"
      ],
      "metadata": {
        "id": "7KeRwvXXJNkT"
      },
      "execution_count": null,
      "outputs": []
    },
    {
      "cell_type": "code",
      "source": [
        "print(girar_360([\"derecha\", \"derecha\", \"derecha\", \"derecha\", \"izquierda\", \"derecha\"]))\n",
        "print(girar_360([\"izquierda\", \"derecha\", \"izquierda\", \"derecha\"]))\n",
        "print(girar_360([\"derecha\", \"derecha\", \"derecha\", \"derecha\", \"derecha\", \"derecha\", \"derecha\", \"derecha\"]))\n",
        "print(girar_360([\"izquierda\", \"izquierda\", \"izquierda\", \"izquierda\"]))\n",
        "print(girar_360([\"derecha\", \"derecha\", \"derecha\", \"derecha\", \"derecha\", \"izquierda\", \"izquierda\"]))"
      ],
      "metadata": {
        "id": "usA6n1T2JNkU",
        "outputId": "772b7de5-73ca-46da-ccba-2a39a4be2392",
        "colab": {
          "base_uri": "https://localhost:8080/"
        }
      },
      "execution_count": null,
      "outputs": [
        {
          "output_type": "stream",
          "name": "stdout",
          "text": [
            "1\n",
            "0\n",
            "2\n",
            "1\n",
            "0\n"
          ]
        }
      ]
    },
    {
      "cell_type": "markdown",
      "source": [
        "## Reto 403: Cambiar Tipos Mixtos\n",
        "* Changing Mixed Types\n",
        "* Cree una función que cambie todos los elementos en una lista de la siguiente manera:\n",
        "    1. Agrega 1 a todos los enteros pares, no hace nada con los enteros impares.\n",
        "    2. Concatena \"!\" a todas las cadenas y convierte la primera letra de la palabra en mayúscula.\n",
        "    3. Cambia todos los valores booleanos por su opuesto.\n",
        "* Ejemplos:\n",
        "    1. change_types([\"a\", 12, True]) ➞ [\"A!\", 13, False]\n",
        "    2. change_types([13, \"13\", \"12\", \"twelve\"]) ➞ [13, \"13!\", \"12!\", \"Twelve!\"]\n",
        "    3. change_types([False, \"False\", \"true\"]) ➞ [True, \"False!\", \"True!\"]\n",
        "\n",
        "* No habrá valores flotantes.\n",
        "* No obtendrás cadenas con números y letras al mismo tiempo."
      ],
      "metadata": {
        "id": "dYBYqChYJOBj"
      }
    },
    {
      "cell_type": "code",
      "source": [
        "# Método 1\n",
        "def change_types(lista):\n",
        "    result = []\n",
        "    for elemento in lista:\n",
        "        if type(elemento) == bool:\n",
        "            result.append(not(elemento))\n",
        "        elif type(elemento) == int and elemento % 2 == 0:\n",
        "            result.append(elemento + 1)\n",
        "        elif type(elemento) == str:\n",
        "            result.append(elemento.title() + \"!\")\n",
        "        elif type(elemento) == int:\n",
        "            result.append(elemento)\n",
        "    return result\n",
        "\n",
        "# Método 2\n",
        "def change_types(lst):\n",
        "    result = []\n",
        "    for item in lst:\n",
        "        if isinstance(item, bool):\n",
        "            result.append(not item)\n",
        "        elif isinstance(item, str):\n",
        "            result.append(item.capitalize() + \"!\")\n",
        "        elif isinstance(item, int) and item % 2 == 0:\n",
        "            result.append(item + 1)\n",
        "        else:\n",
        "            result.append(item)\n",
        "    return result"
      ],
      "metadata": {
        "id": "F9oxj5R9JOBj"
      },
      "execution_count": null,
      "outputs": []
    },
    {
      "cell_type": "code",
      "source": [
        "print(change_types([\"a\", 12, True]))            # ➞ ['A!', 13, False]\n",
        "print(change_types([13, \"13\", \"12\", \"twelve\"])) # ➞ [13, '13!', '12!', 'Twelve!']\n",
        "print(change_types([False, \"False\", \"true\"]))   # ➞ [True, 'False!', 'True!']"
      ],
      "metadata": {
        "id": "b5PeMQ08JOBj",
        "outputId": "d13217ee-a9a0-464d-8557-79851d59bbcd",
        "colab": {
          "base_uri": "https://localhost:8080/"
        }
      },
      "execution_count": null,
      "outputs": [
        {
          "output_type": "stream",
          "name": "stdout",
          "text": [
            "['A!', 13, False]\n",
            "[13, '13!', '12!', 'Twelve!']\n",
            "[True, 'False!', 'True!']\n"
          ]
        }
      ]
    },
    {
      "cell_type": "markdown",
      "source": [
        "## Reto 404: Busca el caracter, si existe\n",
        "* Minimal VIII: This and That\n",
        "* Al siguiente código le falta un solo carácter para ser correcto.\n",
        "* Sin embargo, su objetivo es crear una función lo más minimalista posible.\n",
        "\n",
        "```python\n",
        "def thirdthird(lst):\n",
        "\tfor idx, i in enumerate(lst):\n",
        "\t\tif idx = 2:\n",
        "\t\t\tif len(i) >= 3:\n",
        "\t\t\t\treturn i[2]\n",
        "\treturn False\n",
        "```\n",
        "\n",
        "* Escriba una función que devuelva el tercer carácter de la tercera cadena en una lista dada de cadenas.\n",
        "* Devuelve `False` si no se puede encontrar.\n",
        "\n",
        "* Ejemplos:\n",
        "    1. third_char_third_string([\"abc\", \"def\", \"ghi\"]) ➞ 'i'\n",
        "    2. third_char_third_string([\"abc\", \"def\"]) ➞ False\n",
        "    3. third_char_third_string([]) ➞ False"
      ],
      "metadata": {
        "id": "nxs9UpUxJOIh"
      }
    },
    {
      "cell_type": "code",
      "source": [
        "# Método 1\n",
        "def third_char_third_string(lst):\n",
        "    return lst[2][2] if len(lst) > 2 and len(lst[2]) > 2 else False\n",
        "\n",
        "# Método 2\n",
        "def thirdthird(lst):\n",
        "    for idx, i in enumerate(lst):\n",
        "        if idx == 2:    # faltaba un =\n",
        "            if len(i) >= 3:\n",
        "                return i[2]\n",
        "    return False"
      ],
      "metadata": {
        "id": "d3qkcCz0JOIh"
      },
      "execution_count": null,
      "outputs": []
    },
    {
      "cell_type": "code",
      "source": [
        "print(third_char_third_string([\"abc\", \"def\", \"ghi\"]))   # 'i'\n",
        "print(third_char_third_string([\"abc\", \"def\"]))          # False\n",
        "print(third_char_third_string([]))                      # False"
      ],
      "metadata": {
        "id": "9V925k8DJOIh",
        "outputId": "bfa2228b-2823-45f6-9c42-b53e71afcb2c",
        "colab": {
          "base_uri": "https://localhost:8080/"
        }
      },
      "execution_count": null,
      "outputs": [
        {
          "output_type": "stream",
          "name": "stdout",
          "text": [
            "i\n",
            "False\n",
            "False\n"
          ]
        }
      ]
    },
    {
      "cell_type": "markdown",
      "source": [
        "## Reto 405: Formatear número con coma(s) separando los miles\n",
        "* Format Number with Comma(s) Separating Thousands\n",
        "* Crea una función que tome un número como argumento y devuelva una cadena formateada para separar los miles.\n",
        "* Ejemplos:\n",
        "    1. format_num(1000) ➞ \"1,000\"\n",
        "    2. format_num(100000) ➞ \"100,000\"\n",
        "    3. format_num(20) ➞ \"20\"\n",
        "\n",
        "* Puedes esperar un número válido para todos los casos de prueba."
      ],
      "metadata": {
        "id": "BCiJB5lAJOPj"
      }
    },
    {
      "cell_type": "code",
      "source": [
        "# Método 1. Usa como separador de miles la coma\n",
        "def format_num(numero):\n",
        "    return '{:,}'.format(numero)\n",
        "\n",
        "# Método 2. Usa como separador de miles la coma\n",
        "def format_num(numero):\n",
        "    return f\"{numero:,}\"\n",
        "\n",
        "# Método 3. Usa como separador de miles la coma\n",
        "import locale\n",
        "\n",
        "def format_num(numero):\n",
        "    locale.setlocale(locale.LC_ALL, '')  # Establece la configuración regional del sistema\n",
        "    return locale.format_string(\"%d\", numero, grouping=True)\n",
        "\n",
        "# Método 4. Usa como separador de miles el punto\n",
        "# Igual que el Método 1 y luego usando replace para cambiar comas por puntos\n",
        "def format_num(numero):\n",
        "    return \"{:,}\".format(numero).replace(',', '.')"
      ],
      "metadata": {
        "id": "i2bofIVIJOPj"
      },
      "execution_count": null,
      "outputs": []
    },
    {
      "cell_type": "code",
      "source": [
        "print(format_num(1000))\n",
        "print(format_num(100000))\n",
        "print(format_num(20))"
      ],
      "metadata": {
        "id": "HZMXrQn6JOPj",
        "outputId": "820ad227-c841-4e5e-b8a7-8012d94c2e8a",
        "colab": {
          "base_uri": "https://localhost:8080/"
        }
      },
      "execution_count": null,
      "outputs": [
        {
          "output_type": "stream",
          "name": "stdout",
          "text": [
            "1.000\n",
            "100.000\n",
            "20\n"
          ]
        }
      ]
    },
    {
      "cell_type": "markdown",
      "source": [
        "### Separador de miles con punto y separador de decimales con coma\n",
        "* En muchos paises, incluido España, se usa este sistema para separar miles y decimales.\n",
        "* Si un número entra sin decimales se imprime sin decimales.\n",
        "* Si un número entra con n decimales se imprime con n decimales y sin redondear y sin truncar."
      ],
      "metadata": {
        "id": "IDHyyYRTO4wL"
      }
    },
    {
      "cell_type": "code",
      "source": [
        "def format_num(numero):\n",
        "    # Si el número es un entero, formatearlo con el separador de miles como punto y sin decimales\n",
        "    if isinstance(numero, int):\n",
        "        return \"{:,}\".format(numero).replace(',', '.')\n",
        "    else:\n",
        "        # Si el número tiene decimales, obtener el número de decimales\n",
        "        num_decimales = len(str(numero).split('.')[1])\n",
        "        # Formatear el número con el separador de miles como punto y el separador decimal como coma\n",
        "        formato_decimal = \"{:,.{}f}\".format(numero, num_decimales)\n",
        "        # Dividir el número formateado en sus partes (parte entera y parte decimal)\n",
        "        partes = formato_decimal.split('.')\n",
        "        # Reemplazar el separador de miles en la parte entera por un punto\n",
        "        partes[0] = partes[0].replace(',', '.')\n",
        "        # Unir las partes nuevamente con el separador decimal como coma\n",
        "        return ','.join(partes)\n",
        "\n",
        "# Ejemplos de uso\n",
        "print(format_num(1000))    # ➞ \"1.000\"\n",
        "print(format_num(100000))  # ➞ \"100.000\"\n",
        "print(format_num(20))      # ➞ \"20\"\n",
        "print(format_num(20.75))   # ➞ \"20,75\"\n",
        "print(format_num(12345.6789))  # ➞ \"12.345,6789\""
      ],
      "metadata": {
        "id": "UKEAVV9SpuNs",
        "outputId": "57dcde39-459c-4514-9789-2e49028254a5",
        "colab": {
          "base_uri": "https://localhost:8080/"
        }
      },
      "execution_count": null,
      "outputs": [
        {
          "output_type": "stream",
          "name": "stdout",
          "text": [
            "1.000\n",
            "100.000\n",
            "20\n",
            "20,75\n",
            "12.345,6789\n"
          ]
        }
      ]
    },
    {
      "cell_type": "markdown",
      "source": [
        "## Reto 406: Deshacer la mutación de una lista\n",
        "* Fix the Code: Un-Mutating a List\n",
        "* Tu amiga está tratando de escribir una función para lograr las siguientes transformaciones:\n",
        "\n",
        "`x = [3, 3, 3, 3, 3, 3, 3]`\n",
        "\n",
        "Cada vez que se llama a `x`, se muestran los siguientes resultados:\n",
        "\n",
        "1. change(x, 0) #[3, 3, 3, 3, 3, 3, 3]\n",
        "2. change(x, 1) #[3, 2, 2, 2, 2, 2, 3]\n",
        "3. change(x, 2) #[3, 2, 1, 1, 1, 2, 3]\n",
        "4. change(x, 3) #[3, 2, 1, 0, 1, 2, 3]\n",
        "\n",
        "* Nota: La función change() no debería mutar la lista original.\n",
        "* Después de cada llamada a la función, el valor original de x debería seguir siendo [3, 3, 3, 3, 3, 3, 3].\n",
        "\n",
        "Ella propone el siguiente código:\n",
        "```python\n",
        "def change(x, times):\n",
        "    for i in range(len(x)):\n",
        "        j = 1\n",
        "        while j <= times:\n",
        "            if i >= j and i < len(x)-j:\n",
        "                x[i] -= 1\n",
        "            j += 1\n",
        "    return x\n",
        "```\n",
        "* ¡Ups! El código parece mutar la lista original.\n",
        "* Arregla este código incorrecto para que la función ya no mute la lista original.\n",
        "\n",
        "* Ejemplo\n",
        "`x = [3, 3, 3, 3, 3, 3, 3]`\n",
        "\n",
        "- Lo que queremos:\n",
        "    1. change(x, 2) ➞ [3, 2, 1, 1, 1, 2, 3]\n",
        "    2. change(x, 2) ➞ [3, 2, 1, 1, 1, 2, 3]\n",
        "\n",
        "- Lo que obtenemos:\n",
        "    1. change(x, 2) ➞ [3, 2, 1, 1, 1, 2, 3] #Hasta aquí bien...\n",
        "    2. change(x, 2) ➞ [3, 1, -1, -1, -1, 1, 3] #La lista está mutada :(\n",
        "\n",
        "* Pista: Intenta hacer una copia de la lista de entrada."
      ],
      "metadata": {
        "id": "zUp9tcI5JOWV"
      }
    },
    {
      "cell_type": "code",
      "source": [
        "# Método 1. En Excel se ve bien, haciedo dos tablas una para s y otra para el resultado\n",
        "def change(x, n):\n",
        "    posicion = [min(i,len(x)-i-1) for i in range(len(x))] # [0, 1, 2, 3, 2, 1, 0]\n",
        "    s = [min(n, p) for p in posicion] # vector sustraendo. Si n=3, s=[0,1,2,3,2,1,0]\n",
        "    return [xi - si for xi, si in zip(x, s)] # restamos los vectores x-s\n",
        "\n",
        "# Método 2. En este método es necesario hacer una copia de x\n",
        "def change(x, n):\n",
        "    # Hacemos una copia de la lista original\n",
        "    x_copy = x[:]\n",
        "    for i in range(len(x_copy)):\n",
        "        j = 1\n",
        "        while j <= n:\n",
        "            # Si el índice actual está dentro del rango de modificación\n",
        "            if i >= j and i < len(x_copy)-j:\n",
        "                # Decrementamos el valor en la posición actual\n",
        "                x_copy[i] -= 1\n",
        "            j += 1\n",
        "    return x_copy\n",
        "\n",
        "# Método 3. Usando la librería copy\n",
        "import copy\n",
        "\n",
        "def change(x, n):\n",
        "    # Hacemos una copia de la lista original\n",
        "    x_copy = copy.copy(x)\n",
        "    for i in range(len(x_copy)):\n",
        "        j = 1\n",
        "        while j <= n:\n",
        "            if i >= j and i < len(x_copy)-j:\n",
        "                x_copy[i] -= 1\n",
        "            j += 1\n",
        "    return x_copy\n",
        "\n",
        "# Método 4\n",
        "def change(x, n):\n",
        "    x_copy = x[:]  # Hacemos una copia de la lista original\n",
        "    for i in range(len(x)):\n",
        "        x_copy[i] -= min(n, i, len(x) - 1 - i)\n",
        "    return x_copy\n",
        "\n",
        "# Método 5. Sin hacer copia de x, creando una nueva lista que luego se retorna\n",
        "#Iteramos sobre los índices de la lista original x y restamos el mínimo\n",
        "#entre el índice i, la distancia desde el extremo opuesto (len(x)-1-i), y n\n",
        "#al valor original en cada posición. Esto garantiza que solo se realicen\n",
        "#cambios en el rango deseado sin modificar la lista original.\n",
        "\n",
        "def change(x, n):\n",
        "    # Creamos una lista vacía para almacenar los nuevos valores\n",
        "    result = []\n",
        "    # Iteramos sobre los índices de la lista x\n",
        "    for i in range(len(x)):\n",
        "        # Calculamos el valor mínimo entre la distancia al borde izquierdo, al borde derecho y n\n",
        "        min_value = min(i, len(x) - 1 - i, n) # mínimo de tres valores\n",
        "        # Restamos el valor mínimo al elemento correspondiente de x y lo agregamos a result\n",
        "        new_value = x[i] - min_value\n",
        "        result.append(new_value)\n",
        "    # Devolvemos la lista resultante\n",
        "    return result\n",
        "\n",
        "# Método 6. Igual al método anterior pero condensado en una list comprehension\n",
        "def change(x, n):\n",
        "    return [x[i] - min(i, len(x)-1-i, n) for i in range(len(x))]"
      ],
      "metadata": {
        "id": "ajCazVdlJOWV"
      },
      "execution_count": null,
      "outputs": []
    },
    {
      "cell_type": "code",
      "source": [
        "x = [3, 3, 3, 3, 3, 3, 3]\n",
        "print(change(x, 0))  # [3, 3, 3, 3, 3, 3, 3]\n",
        "print(change(x, 1))  # [3, 2, 2, 2, 2, 2, 3]\n",
        "print(change(x, 2))  # [3, 2, 1, 1, 1, 2, 3]\n",
        "print(change(x, 3))  # [3, 2, 1, 0, 1, 2, 3]"
      ],
      "metadata": {
        "id": "pf6VXg-6JOWV",
        "outputId": "3b66d386-9c62-4371-aec2-7414e367cc7b",
        "colab": {
          "base_uri": "https://localhost:8080/"
        }
      },
      "execution_count": null,
      "outputs": [
        {
          "output_type": "stream",
          "name": "stdout",
          "text": [
            "[3, 3, 3, 3, 3, 3, 3]\n",
            "[3, 2, 2, 2, 2, 2, 3]\n",
            "[3, 2, 1, 1, 1, 2, 3]\n",
            "[3, 2, 1, 0, 1, 2, 3]\n"
          ]
        }
      ]
    },
    {
      "cell_type": "code",
      "source": [
        "x = [4, 4, 4, 4, 4, 4, 4, 4, 4]\n",
        "print(change(x, 0))  # [4, 4, 4, 4, 4, 4, 4, 4, 4]\n",
        "print(change(x, 1))  # [4, 3, 3, 3, 3, 3, 3, 3, 4]\n",
        "print(change(x, 2))  # [4, 3, 2, 2, 2, 2, 2, 3, 4]\n",
        "print(change(x, 3))  # [4, 3, 2, 1, 1, 1, 2, 3, 4]\n",
        "print(change(x, 4))  # [4, 3, 2, 1, 0, 1, 2, 3, 4]"
      ],
      "metadata": {
        "colab": {
          "base_uri": "https://localhost:8080/"
        },
        "id": "tsY2BpIILL6k",
        "outputId": "948fb3f4-9052-4449-8793-c90854fd5871"
      },
      "execution_count": null,
      "outputs": [
        {
          "output_type": "stream",
          "name": "stdout",
          "text": [
            "[4, 4, 4, 4, 4, 4, 4, 4, 4]\n",
            "[4, 3, 3, 3, 3, 3, 3, 3, 4]\n",
            "[4, 3, 2, 2, 2, 2, 2, 3, 4]\n",
            "[4, 3, 2, 1, 1, 1, 2, 3, 4]\n",
            "[4, 3, 2, 1, 0, 1, 2, 3, 4]\n"
          ]
        }
      ]
    },
    {
      "cell_type": "markdown",
      "source": [
        "## Reto 407: Suma de Resistencias en Circuitos en Paralelo\n",
        "* Sum of Resistance in Parallel Circuits\n",
        "* Si dos o más resistencias están conectadas en paralelo, la resistencia total del circuito se reduce.\n",
        "* Es posible calcular la resistencia total de un circuito en paralelo usando esta fórmula:\n",
        "\n",
        "$${1 \\over R_{Total}} = {1 \\over R_1} + {1 \\over R_2} + ... + {1 \\over R_n}$$\n",
        "\n",
        "* Cree una función que tome una lista de valores de resistencias en paralelo, y calcule la resistencia total del circuito.\n",
        "\n",
        "* Ejemplos:\n",
        "    1. parallel_resistance([6, 3, 6]) ➞ 1.5\n",
        "    2. parallel_resistance([6, 3]) ➞ 2\n",
        "    3. parallel_resistance([10, 20, 10]) ➞ 4\n",
        "    4. parallel_resistance([500, 500, 500]) ➞ 166.7\n",
        "\n",
        "* Redondea al lugar decimal más cercano"
      ],
      "metadata": {
        "id": "oMtHyBHmJOdt"
      }
    },
    {
      "cell_type": "code",
      "source": [
        "def parallel_resistance(resistances):\n",
        "    suma = sum(1 / resistance for resistance in resistances)\n",
        "    return round(1 / suma, 1)"
      ],
      "metadata": {
        "id": "G99sWim1JOdt"
      },
      "execution_count": null,
      "outputs": []
    },
    {
      "cell_type": "code",
      "source": [
        "print(parallel_resistance([6, 3, 6]))       # 1.5\n",
        "print(parallel_resistance([6, 3]))          # 2\n",
        "print(parallel_resistance([10, 20, 10]))    # 4\n",
        "print(parallel_resistance([500, 500, 500])) # 166.7"
      ],
      "metadata": {
        "id": "59MTFDAXJOdt",
        "colab": {
          "base_uri": "https://localhost:8080/"
        },
        "outputId": "d05ca096-f866-4587-88cc-6aaf1e377dd2"
      },
      "execution_count": null,
      "outputs": [
        {
          "output_type": "stream",
          "name": "stdout",
          "text": [
            "1.5\n",
            "2.0\n",
            "4.0\n",
            "166.7\n"
          ]
        }
      ]
    },
    {
      "cell_type": "markdown",
      "source": [
        "## Reto 408: Cadena Parcialmente Oculta\n",
        "* Partially Hidden String\n",
        "* Crea una función que tome una frase y transforme cada palabra utilizando las siguientes reglas:\n",
        "1. Mantén el primer y último carácter igual.\n",
        "2. Transforma los caracteres intermedios en un guion medio -.\n",
        "* Ejemplos:\n",
        "    1. partially_hide(\"Aprender Python\") ➞ A------r P----n\n",
        "    2. partially_hide(\"La masa es energía\") ➞ La m--a es e-----a\n",
        "    3. partially_hide(\"Saltar el charco\") ➞ S----r el c----o\n",
        "    4. partially_hide(\"La cara oculta de la luna\") ➞ La c--a o----a de la l--a\n",
        "\n",
        "* Las palabras con dos o menos letras no deben ser ocultadas en absoluto."
      ],
      "metadata": {
        "id": "oGXPe_YvW0by"
      }
    },
    {
      "cell_type": "code",
      "source": [
        "# Método 1\n",
        "def partially_hide(phrase):\n",
        "    words = phrase.split()\n",
        "    result = []\n",
        "    for word in words:\n",
        "        if len(word) <= 2:\n",
        "            result.append(word)\n",
        "        else:\n",
        "            hidden = word[0] + '-' * (len(word) - 2) + word[-1]\n",
        "            result.append(hidden)\n",
        "    return ' '.join(result)"
      ],
      "metadata": {
        "id": "pOPSYc5tJiBU"
      },
      "execution_count": null,
      "outputs": []
    },
    {
      "cell_type": "code",
      "source": [
        "print(partially_hide(\"Aprender Python\"))            # A------r P----n\n",
        "print(partially_hide(\"La masa es energía\"))         # La m--a es e-----a\n",
        "print(partially_hide(\"Saltar el charco\"))           # S----r el c----o\n",
        "print(partially_hide(\"La cara oculta de la luna\"))  # La c--a o----a de la l--a"
      ],
      "metadata": {
        "id": "2xOS8D2WJiBU",
        "colab": {
          "base_uri": "https://localhost:8080/"
        },
        "outputId": "0ad5eb0b-a841-49b2-c096-ab21ba1f7930"
      },
      "execution_count": null,
      "outputs": [
        {
          "output_type": "stream",
          "name": "stdout",
          "text": [
            "A------r P----n\n",
            "La m--a es e-----a\n",
            "S----r el c----o\n",
            "La c--a o----a de la l--a\n"
          ]
        }
      ]
    },
    {
      "cell_type": "markdown",
      "source": [
        "## Reto 409: Inversiones de Cadenas\n",
        "* String Flips\n",
        "* Cree una función que tome una cadena como primer argumento y una cadena adjuntoa como segundo argumento.\n",
        "* Si el adjunto es \"palabra\", devuelve una cadena con cada palabra invertida manteniendo su orden original.\n",
        "* Si el adjunto es \"frase\", invierte el orden de las palabras en la cadena manteniendo las palabras intactas.\n",
        "* Ejemplos:\n",
        "    - txt = \"Me gustaría que el día tuviera 25 horas\"\n",
        "    1. flip(\"Hola\", \"palabra\") ➞ aloH\n",
        "    2. flip(\"Hola\", \"frase\") ➞ Hola\n",
        "    3. flip(txt, \"palabra\") ➞ eM aíratsug euq le aíd areivut 52 saroh\n",
        "    4. flip(txt, \"frase\") ➞ horas 25 tuviera día el que gustaría Me"
      ],
      "metadata": {
        "id": "qetlzAkIJOlC"
      }
    },
    {
      "cell_type": "code",
      "source": [
        "# Método 1\n",
        "def flip(string, adjunto):\n",
        "    if adjunto == \"palabra\":\n",
        "        palabras = string.split()\n",
        "        palabras_invertidas = [palabra[::-1] for palabra in palabras]\n",
        "        return ' '.join(palabras_invertidas)\n",
        "    elif adjunto == \"frase\":\n",
        "        palabras = string.split()\n",
        "        frase_invertida = ' '.join(reversed(palabras))\n",
        "        return frase_invertida\n",
        "    else:\n",
        "        return \"Especificación no válida\""
      ],
      "metadata": {
        "id": "SH3YyLc9JOlD"
      },
      "execution_count": null,
      "outputs": []
    },
    {
      "cell_type": "code",
      "source": [
        "txt = \"Me gustaría que el día tuviera 25 horas\"\n",
        "print(flip(\"Hola\", \"palabra\"))  # aloH\n",
        "print(flip(\"Hola\", \"frase\"))    # Hola\n",
        "print(flip(txt, \"palabra\"))     # eM aíratsug euq le aíd areivut 52 saroh\n",
        "print(flip(txt, \"frase\"))       # horas 25 tuviera día el que gustaría Me"
      ],
      "metadata": {
        "id": "co4VzDbPJOlD",
        "colab": {
          "base_uri": "https://localhost:8080/"
        },
        "outputId": "2eeab666-367c-43f2-84be-d6556a23e9f6"
      },
      "execution_count": null,
      "outputs": [
        {
          "output_type": "stream",
          "name": "stdout",
          "text": [
            "aloH\n",
            "Hola\n",
            "eM aíratsug euq le aíd areivut 52 saroh\n",
            "horas 25 tuviera día el que gustaría Me\n"
          ]
        }
      ]
    },
    {
      "cell_type": "markdown",
      "source": [
        "## Reto 410: Función Secreta html\n",
        "* Secret Function 2.0\n",
        "* Crea una función basada en la entrada y la salida.\n",
        "* Observa los ejemplos, hay un patrón.\n",
        "* Ejemplos:\n",
        "    1. secret(\"div*2\") ➞ \\<div>\\</div>\\<div>\\</div>\n",
        "    2. secret(\"p*1\") ➞ \\<p>\\</p>\n",
        "    3. secret(\"li*3\") ➞ \\<li>\\</li>\\<li>\\</li>\\<li>\\</li>\n",
        "    4. secret(\"h1*1\") ➞ \\<h1>\\</h1>\n",
        "\n",
        "* La entrada es una cadena de texto."
      ],
      "metadata": {
        "id": "X9aSGCSiJOsc"
      }
    },
    {
      "cell_type": "code",
      "source": [
        "# Método 1\n",
        "def secret(s):\n",
        "    tag, multiplier = s.split('*')\n",
        "    output = '<{}></{}>'.format(tag, tag)\n",
        "    return output * int(multiplier)\n",
        "\n",
        "# Método 2\n",
        "def secret(s):\n",
        "    tag, multiplier = s.split('*')\n",
        "    output = f'<{tag}></{tag}>'\n",
        "    return output * int(multiplier)"
      ],
      "metadata": {
        "id": "lc9N5sDrJOsc"
      },
      "execution_count": null,
      "outputs": []
    },
    {
      "cell_type": "code",
      "source": [
        "print(secret(\"div*2\"))  # <div></div><div></div>\n",
        "print(secret(\"p*1\"))    # <p></p>\n",
        "print(secret(\"li*3\"))   # <li></li><li></li><li></li>\n",
        "print(secret(\"h1*1\"))   # <h1></h1>"
      ],
      "metadata": {
        "id": "hs94gqG-JOsc",
        "colab": {
          "base_uri": "https://localhost:8080/"
        },
        "outputId": "520ff7ad-87ff-4a45-a751-10195e824f24"
      },
      "execution_count": null,
      "outputs": [
        {
          "output_type": "stream",
          "name": "stdout",
          "text": [
            "<div></div><div></div>\n",
            "<p></p>\n",
            "<li></li><li></li><li></li>\n",
            "<h1></h1>\n"
          ]
        }
      ]
    },
    {
      "cell_type": "markdown",
      "source": [
        "## Reto 411: Seno, Coseno y Tangente\n",
        "* Cosine and Tangent\n",
        "* Crea tres funciones que hagan tres cosas:\n",
        "    1. Multiplicar un número por el seno de otro número.\n",
        "    2. Multiplicar un número por el coseno de otro número.\n",
        "    3. Multiplicar un número por la tangente de otro número.\n",
        "* En cada función, se te darán 2 números: x e y.\n",
        "* Otra cosa importante a tener en cuenta es que los números estarán en grados, no en radianes.\n",
        "* Recuerda redondear el resultado a 2 lugares decimales.\n",
        "* Ejemplos:\n",
        "    1. sine(8, 27) ➞ 8 × sin(27°) ➞ 3.63\n",
        "    2. cosine(10, 4) ➞ 10 × cos(4°) ➞ 9.98\n",
        "    3. tangent(4, 39) ➞ 4 × tan(39°) ➞ 3.24"
      ],
      "metadata": {
        "id": "TLGNJaT5JO0k"
      }
    },
    {
      "cell_type": "code",
      "source": [
        "import math\n",
        "\n",
        "def sine(x, y):\n",
        "    result = x * math.sin(math.radians(y))\n",
        "    return round(result, 2)\n",
        "\n",
        "def cosine(x, y):\n",
        "    result = x * math.cos(math.radians(y))\n",
        "    return round(result, 2)\n",
        "\n",
        "def tangent(x, y):\n",
        "    result = x * math.tan(math.radians(y))\n",
        "    return round(result, 2)"
      ],
      "metadata": {
        "id": "KIxuH6oLJO0k"
      },
      "execution_count": null,
      "outputs": []
    },
    {
      "cell_type": "code",
      "source": [
        "print(sine(8, 27))     # 3.63\n",
        "print(cosine(10, 4))   # 9.98\n",
        "print(tangent(4, 39))  # 3.24"
      ],
      "metadata": {
        "id": "J0ScKxGjJO0k",
        "colab": {
          "base_uri": "https://localhost:8080/"
        },
        "outputId": "13f15d47-88a3-44df-ad30-3995f9736941"
      },
      "execution_count": null,
      "outputs": [
        {
          "output_type": "stream",
          "name": "stdout",
          "text": [
            "3.63\n",
            "9.98\n",
            "3.24\n"
          ]
        }
      ]
    },
    {
      "cell_type": "markdown",
      "source": [
        "## Reto 412: Extremadamente Sobreanidado\n",
        "* Extremely Over-Nested\n",
        "* Cree una función que devuelva el valor original de una lista con una gran cantidad de sub-listas.\n",
        "* Ejemplos:\n",
        "    1. de_nest([[[[[[[[[[[[3]]]]]]]]]]]]) ➞ 3\n",
        "    2. de_nest([[[[[[[True]]]]]]]) ➞ True\n",
        "    3. de_nest([[[[[[[[[[[[[[[[[\"bit\"]]]]]]]]]]]]]]]]]) ➞ \"bit\"\n",
        "\n",
        "* Solo necesita recuperar un elemento."
      ],
      "metadata": {
        "id": "X4vxbYsuJiJb"
      }
    },
    {
      "cell_type": "code",
      "source": [
        "# Método 1\n",
        "def de_nest(lista):\n",
        "    while type(lista[0]) == list:\n",
        "        lista = lista[0]\n",
        "    return lista[0]\n",
        "\n",
        "# Método 2\n",
        "def de_nest(lst):\n",
        "    while isinstance(lst, list):\n",
        "        lst = lst[0]\n",
        "    return lst\n",
        "\n",
        "# Método 3. Versión recursiva\n",
        "def de_nest(lst):\n",
        "    if isinstance(lst, list):\n",
        "        return de_nest(lst[0])\n",
        "    return lst\n",
        "\n",
        "# Método 4\n",
        "def de_nest(lst):\n",
        "    return eval(str(lst).replace('[','').replace(']',''))\n",
        "\n",
        "# Método 5\n",
        "def de_nest(lst):\n",
        "    return eval(str(lst).strip('[]'))\n",
        "\n",
        "# Método 6\n",
        "import numpy as np\n",
        "\n",
        "def de_nest(lst):\n",
        "    return np.squeeze(lst).item()"
      ],
      "metadata": {
        "id": "IAyE-y9hJiJb"
      },
      "execution_count": null,
      "outputs": []
    },
    {
      "cell_type": "code",
      "source": [
        "print(de_nest([[[[[[[[[[[[3]]]]]]]]]]]]))\n",
        "print(de_nest([[[[[[[True]]]]]]]))\n",
        "print(de_nest([[[[[[[[[[[[[[[[[\"bit\"]]]]]]]]]]]]]]]]]))"
      ],
      "metadata": {
        "id": "YK1L8pNhJiJb",
        "colab": {
          "base_uri": "https://localhost:8080/"
        },
        "outputId": "acfe78a8-7275-40b7-9262-770e258b6c20"
      },
      "execution_count": null,
      "outputs": [
        {
          "output_type": "stream",
          "name": "stdout",
          "text": [
            "3\n",
            "True\n",
            "bit\n"
          ]
        }
      ]
    },
    {
      "cell_type": "markdown",
      "source": [
        "## Reto 413: Letras compuestas\n",
        "* Compounding Letters\n",
        "* Crear una función que tome una cadena y devuelva una nueva cadena con cada nuevo carácter acumulándose en +1.\n",
        "* Separar cada conjunto con un guión.\n",
        "* Ejemplos:\n",
        "    1. accum(\"abcd\") ➞ \"A-Bb-Ccc-Dddd\"\n",
        "    2. accum(\"RqaEzty\") ➞ \"R-Qq-Aaa-Eeee-Zzzzz-Tttttt-Yyyyyyy\"\n",
        "    3. accum(\"cwAt\") ➞ \"C-Ww-Aaa-Tttt\"\n",
        "\n",
        "* Capitalizar la primera letra de cada conjunto.\n",
        "* Todas las pruebas contienen cadenas válidas con caracteres alfabéticos (a-z, A-Z)."
      ],
      "metadata": {
        "id": "qixk6TO7JiQY"
      }
    },
    {
      "cell_type": "code",
      "source": [
        "# Método 1\n",
        "def accum(txt):\n",
        "    lista = list(txt)\n",
        "    for i,letra in enumerate(lista):\n",
        "        lista[i] = (letra * (i+1)).capitalize()\n",
        "    return '-'.join(lista)\n",
        "\n",
        "# Método 2\n",
        "def accum(s):\n",
        "    result = \"\"\n",
        "    for i, char in enumerate(s):\n",
        "        result += char.upper() + char.lower() * i\n",
        "        if i < len(s) - 1:\n",
        "            result += \"-\"\n",
        "    return result\n",
        "\n",
        "# Método 3\n",
        "def accum(s):\n",
        "    return '-'.join((char.upper() + char.lower() * i) for i, char in enumerate(s))"
      ],
      "metadata": {
        "id": "sXUw2d4OJiQY"
      },
      "execution_count": null,
      "outputs": []
    },
    {
      "cell_type": "code",
      "source": [
        "print(accum(\"abcd\"))\n",
        "print(accum(\"RqaEzty\"))\n",
        "print(accum(\"cwAt\"))"
      ],
      "metadata": {
        "id": "Vw1jIBSaJiQY",
        "colab": {
          "base_uri": "https://localhost:8080/"
        },
        "outputId": "2ef4df35-b7f1-42e9-fd69-9562269e3e90"
      },
      "execution_count": null,
      "outputs": [
        {
          "output_type": "stream",
          "name": "stdout",
          "text": [
            "A-Bb-Ccc-Dddd\n",
            "R-Qq-Aaa-Eeee-Zzzzz-Tttttt-Yyyyyyy\n",
            "C-Ww-Aaa-Tttt\n"
          ]
        }
      ]
    },
    {
      "cell_type": "markdown",
      "source": [
        "## Reto 414: Listas especiales\n",
        "* Special Lists\n",
        "* Una lista es especial si cada índice par contiene un número par y cada índice impar contiene un número impar.\n",
        "* Crea una función que devuelva `True` si un arreglo es especial, y `False` en caso contrario.\n",
        "* Ejemplos:\n",
        "    1. is_special_array([2, 7, 4, 9, 6, 1, 6, 3]) ➞ True\n",
        "        - Índices pares: [2, 4, 6, 6]\n",
        "        - Índices impares: [7, 9, 1, 3]\n",
        "    3. is_special_array([2, 7, 9, 1, 6, 1, 6, 3]) ➞ False\n",
        "        - El índice 2 tiene un número impar 9.\n",
        "    4. is_special_array([2, 7, 8, 8, 6, 1, 6, 3]) ➞ False\n",
        "        - El índice 3 tiene un número par 8."
      ],
      "metadata": {
        "id": "lrNNOlP-JiXa"
      }
    },
    {
      "cell_type": "code",
      "source": [
        "# Método 1. Nos piden que (i+v) sea par para todos\n",
        "def is_special_array(lista):\n",
        "    for i, v in enumerate(lista):\n",
        "        if (i+v) % 2 != 0:\n",
        "            return False\n",
        "    return True\n",
        "\n",
        "# Método 2. Similar al anterior pero comprimido\n",
        "def is_special_array(lista):\n",
        "    return all((i+v) % 2 == 0 for i, v in enumerate(lista))\n",
        "\n",
        "# Método 3\n",
        "def is_special_array(lista):\n",
        "    return all((i + lista[i]) % 2 == 0 for i in range(len(lista)))\n",
        "\n",
        "# Método 4\n",
        "def is_special_array(arr):\n",
        "    for i in range(len(arr)):\n",
        "        if i % 2 == 0 and arr[i] % 2 != 0:  # Comprueba índices pares y números impares\n",
        "            return False\n",
        "        elif i % 2 != 0 and arr[i] % 2 == 0:  # Comprueba índices impares y números pares\n",
        "            return False\n",
        "    return True"
      ],
      "metadata": {
        "id": "VO3qvfbFJiXa"
      },
      "execution_count": null,
      "outputs": []
    },
    {
      "cell_type": "code",
      "source": [
        "print(is_special_array([2, 7, 4, 9, 6, 1, 6, 3]))\n",
        "print(is_special_array([2, 7, 9, 1, 6, 1, 6, 3]))\n",
        "print(is_special_array([2, 7, 8, 8, 6, 1, 6, 3]))"
      ],
      "metadata": {
        "id": "z78D6PDZJiXb",
        "colab": {
          "base_uri": "https://localhost:8080/"
        },
        "outputId": "42ad42c7-5b49-4e29-f4f4-2a4439880a59"
      },
      "execution_count": null,
      "outputs": [
        {
          "output_type": "stream",
          "name": "stdout",
          "text": [
            "True\n",
            "False\n",
            "False\n"
          ]
        }
      ]
    },
    {
      "cell_type": "markdown",
      "source": [
        "## Reto 415: Transformar Upvotes\n",
        "* Transform Upvotes\n",
        "* Los \"upvotes\" son votos positivos o aprobaciones que se dan a un contenido en plataformas como Reddit, donde los usuarios pueden votar hacia arriba (upvote) o hacia abajo (downvote) para indicar si les gusta o no el contenido publicado.\n",
        "* Cree una función que transforme una cadena de recuentos de votos en una lista de números.\n",
        "* Cada \"k\" representa mil.\n",
        "* Ejemplos:\n",
        "    1. transform_upvotes(\"6.8k 13.5k\") ➞ [6800, 13500]\n",
        "    2. transform_upvotes(\"5.5k 8.9k 32\") ➞ [5500, 8900, 32]\n",
        "    3. transform_upvotes(\"20.3k 3.8k 7.7k 992\") ➞ [20300, 3800, 7700, 992]\n",
        "    4. transform_upvotes(\"12k 3.45k 999\") ➞ [12000, 3450, 999]\n",
        "\n",
        "* Devuelve los votos como una lista."
      ],
      "metadata": {
        "id": "ycO-Ex-YJidx"
      }
    },
    {
      "cell_type": "code",
      "source": [
        "# Método 1\n",
        "def transform_upvotes(cadena):\n",
        "    lista = cadena.split()\n",
        "    return [int(eval(x.replace('k','*1000'))) for x in lista]\n",
        "\n",
        "# Método 2\n",
        "def transform_upvotes(cadena):\n",
        "    lista = cadena.split()\n",
        "    return [int(float(vote[:-1]) * 1000) if 'k' in vote else int(vote) for vote in lista]"
      ],
      "metadata": {
        "id": "MRpSbTHNJidx"
      },
      "execution_count": null,
      "outputs": []
    },
    {
      "cell_type": "code",
      "source": [
        "print(transform_upvotes(\"6.8k 13.5k\"))\n",
        "print(transform_upvotes(\"5.5k 8.9k 32\"))\n",
        "print(transform_upvotes(\"20.3k 3.8k 7.7k 992\"))\n",
        "print(transform_upvotes(\"12k 3.45k 999\"))"
      ],
      "metadata": {
        "id": "DFQylYc9Jidx",
        "colab": {
          "base_uri": "https://localhost:8080/"
        },
        "outputId": "6c90a788-f668-4932-abdb-f747ac18596c"
      },
      "execution_count": null,
      "outputs": [
        {
          "output_type": "stream",
          "name": "stdout",
          "text": [
            "[6800, 13500]\n",
            "[5500, 8900, 32]\n",
            "[20300, 3800, 7700, 992]\n",
            "[12000, 3450, 999]\n"
          ]
        }
      ]
    },
    {
      "cell_type": "markdown",
      "source": [
        "## Reto 416: Máximo Común Divisor de Dos Números\n",
        "* GCD of Two Numbers\n",
        "* Escriba una función que devuelva el máximo común divisor (MCD) de dos enteros.\n",
        "*Ejemplos:\n",
        "    1. mcd(32, 8) ➞ 8\n",
        "    2. mcd(8, 12) ➞ 4\n",
        "    3. mcd(17, 13) ➞ 1\n",
        "    4. mcd(180, 1032) ➞ 12\n",
        "    5. mcd(300,33880) ➞ 20\n",
        "\n",
        "* Ambos valores serán positivos.\n",
        "* El MCD es el mayor factor que divide ambos números."
      ],
      "metadata": {
        "id": "ehhGeKWDJikh"
      }
    },
    {
      "cell_type": "code",
      "source": [
        "# Método 1\n",
        "from math import gcd\n",
        "\n",
        "def mcd(a, b):\n",
        "    return gcd(a, b)\n",
        "\n",
        "# Método 2. Buscando el MCD hacia atras\n",
        "def mcd(a, b):\n",
        "    for i in range(min(a, b), 0, -1):\n",
        "        if a % i == 0 and b % i == 0:\n",
        "            return i\n",
        "\n",
        "# Método 3. Buscando los divisores comunes\n",
        "def mcd(a,b):\n",
        "    maximo = 1\n",
        "    for i in range(1, min(a, b) + 1): #dividiendo entre todos los números anteriores al mínimo de los dos números a y b\n",
        "        # si al dividir ambos a y b entre i la división es exacta indicará que ese i es un divisor común a ambos\n",
        "        if a % i == 0 and b % i == 0:\n",
        "            maximo = i   #buscamos el máximo común divisor de ambos\n",
        "    return maximo\n",
        "\n",
        "# Método 4. Algoritmo de Euclides\n",
        "def mcd(a,b):\n",
        "    if b > a:\n",
        "        a, b = b, a  # para que a sea el mayor\n",
        "    while a % b != 0:\n",
        "        b, a = a % b, b\n",
        "    return b"
      ],
      "metadata": {
        "id": "OfPkm7hhJikh"
      },
      "execution_count": null,
      "outputs": []
    },
    {
      "cell_type": "code",
      "source": [
        "print(mcd(32, 8))\n",
        "print(mcd(8, 12))\n",
        "print(mcd(17, 13))\n",
        "print(mcd(180, 1032))\n",
        "print(mcd(300,33880))"
      ],
      "metadata": {
        "id": "HwIGf1QRJikh",
        "colab": {
          "base_uri": "https://localhost:8080/"
        },
        "outputId": "5892493d-1c95-4a1b-e4ae-c4e0051e8f3e"
      },
      "execution_count": null,
      "outputs": [
        {
          "output_type": "stream",
          "name": "stdout",
          "text": [
            "8\n",
            "4\n",
            "1\n",
            "12\n",
            "20\n"
          ]
        }
      ]
    },
    {
      "cell_type": "markdown",
      "source": [
        "## Reto 417: Recursión: Números Fibonacci\n",
        "* Recursion: Fibonacci Numbers\n",
        "* Los números Fibonacci se crean de la siguiente manera:\n",
        "    - F(0) = 0\n",
        "    - (1) = 1\n",
        "    - ...\n",
        "    - F(n) = F(n-2) + F(n-1)\n",
        "* Escriba una función que calcule el n-ésimo número Fibonacci.\n",
        "* Ejemplos:\n",
        "    1. fib(0) ➞ 0\n",
        "    2. fib(1) ➞ 1\n",
        "    3. fib(2) ➞ 1\n",
        "    4. fib(8) ➞ 21\n",
        "    5. fib(20) ➞ 6765\n",
        "    6. fib(36) ➞ 14930352"
      ],
      "metadata": {
        "id": "0GDmptduJire"
      }
    },
    {
      "cell_type": "code",
      "source": [
        "# Método 1\n",
        "def fib(n):\n",
        "    if n <= 1:\n",
        "        return n\n",
        "    return fib(n-1) + fib(n-2)\n",
        "\n",
        "# Método 2. Con  memoización\n",
        "def fib(n, memo={}):\n",
        "    if n in memo:\n",
        "        return memo[n]\n",
        "    if n <= 1:\n",
        "        return n\n",
        "    memo[n] = fib(n-1, memo) + fib(n-2, memo)\n",
        "    return memo[n]"
      ],
      "metadata": {
        "id": "rKvCpyIyJirf"
      },
      "execution_count": null,
      "outputs": []
    },
    {
      "cell_type": "code",
      "source": [
        "print(fib(0))\n",
        "print(fib(1))\n",
        "print(fib(2))\n",
        "print(fib(8))\n",
        "print(fib(20))\n",
        "print(fib(36))  # 7 segundos por el método 1"
      ],
      "metadata": {
        "id": "6TTBafGzJirf",
        "colab": {
          "base_uri": "https://localhost:8080/"
        },
        "outputId": "65e3a6f0-f377-4d9e-bb01-fcccf71f628b"
      },
      "execution_count": null,
      "outputs": [
        {
          "output_type": "stream",
          "name": "stdout",
          "text": [
            "0\n",
            "1\n",
            "1\n",
            "21\n",
            "6765\n",
            "14930352\n"
          ]
        }
      ]
    },
    {
      "cell_type": "markdown",
      "source": [
        "## Reto 418: Posición en el Alfabeto\n",
        "* Position in the Alphabet\n",
        "* Dado un número entre 1 y 26, indica qué letra está en esa posición en el alfabeto.\n",
        "* Devuelve \"no válido\" si el número proporcionado no está dentro de ese rango o no es un número entero.\n",
        "* Ejemplos:\n",
        "    1. letter_at_position(1) ➞ \"a\"\n",
        "    2. letter_at_position(26.0) ➞ \"z\"\n",
        "    3. letter_at_position(0) ➞ \"invalid\"\n",
        "    4. letter_at_position(4.5) ➞ \"invalid\"\n",
        "\n",
        "* Devuelva una letra minúscula.\n",
        "* Los números que terminan en \".0\" son válidos."
      ],
      "metadata": {
        "id": "OREc2pvsJizQ"
      }
    },
    {
      "cell_type": "code",
      "source": [
        "# Método 1\n",
        "def letter_at_position(n):\n",
        "    if isinstance(n, int) and 1 <= n <= 26:\n",
        "        return chr(96 + n)  # 96 es el código ASCII de 'a', por lo que sumando n, obtenemos la letra correspondiente\n",
        "    elif isinstance(n, float) and 1 <= n <= 26 and int(n) == n:\n",
        "        return chr(96 + int(n))\n",
        "    else:\n",
        "        return \"invalid\"\n",
        "\n",
        "# Método 2\n",
        "def letter_at_position(number):\n",
        "    # Crear un diccionario que mapea números a letras\n",
        "    alphabet_dict = {\n",
        "        1: 'a', 2: 'b', 3: 'c', 4: 'd', 5: 'e',\n",
        "        6: 'f', 7: 'g', 8: 'h', 9: 'i', 10: 'j',\n",
        "        11: 'k', 12: 'l', 13: 'm', 14: 'n', 15: 'o',\n",
        "        16: 'p', 17: 'q', 18: 'r', 19: 's', 20: 't',\n",
        "        21: 'u', 22: 'v', 23: 'w', 24: 'x', 25: 'y', 26: 'z'\n",
        "    }\n",
        "    # Verificar si el número es un entero y está dentro del rango\n",
        "    if isinstance(number, int) and 1 <= number <= 26:\n",
        "        return alphabet_dict[number]\n",
        "    elif isinstance(number, float) and number.is_integer() and 1 <= int(number) <= 26:\n",
        "        return alphabet_dict[int(number)]\n",
        "    else:\n",
        "        return \"invalid\""
      ],
      "metadata": {
        "id": "ji6pXwB_JizQ"
      },
      "execution_count": null,
      "outputs": []
    },
    {
      "cell_type": "code",
      "source": [
        "print(letter_at_position(1))   # a\n",
        "print(letter_at_position(26.0))  # z\n",
        "print(letter_at_position(0))   # invalid\n",
        "print(letter_at_position(4.5)) # invalid"
      ],
      "metadata": {
        "id": "MandhIWDJizQ",
        "colab": {
          "base_uri": "https://localhost:8080/"
        },
        "outputId": "f18b5765-74c7-4a98-8d74-f29cc683dad6"
      },
      "execution_count": null,
      "outputs": [
        {
          "output_type": "stream",
          "name": "stdout",
          "text": [
            "a\n",
            "z\n",
            "invalid\n",
            "invalid\n"
          ]
        }
      ]
    },
    {
      "cell_type": "markdown",
      "source": [
        "## Reto 419: Calcule el valor faltante con la ley de Ohm\n",
        "* Calculate the Missing Value with Ohm's Law\n",
        "* Cree una función que calcule el valor faltante de 3 entradas usando la ley de Ohm.\n",
        "* Las entradas son `v`, `r` o `i` (también conocidas como voltaje, resistencia y corriente).\n",
        "* Ley de Ohm: $I = \\frac{V}{R}$\n",
        "* Devuelve el valor faltante redondeado a dos decimales.\n",
        "* Ejemplos:\n",
        "    1. ohms_law(12, 220, None) ➞ 0.05\n",
        "    2. ohms_law(230, None, 2) ➞ 115\n",
        "    3. ohms_law(None, 220, 0.02) ➞ 4.4\n",
        "    4. ohms_law(None, None, 10) ➞ \"Invalid\"\n",
        "    5. ohms_law(500, 50, 10) ➞ \"Invalid\"\n",
        "    6. ohms_law(None, None, None)) ➞ \"Invalid\"\n",
        "\n",
        "* Los valores faltantes serán `None`.\n",
        "* Si falta más de un valor o no falta ningún valor, devuelve \"Invalid\".\n",
        "* Solo se proporcionarán números."
      ],
      "metadata": {
        "id": "Oi9n-QcnJi6p"
      }
    },
    {
      "cell_type": "code",
      "source": [
        "# Método 1\n",
        "def ohms_law(v, r, i):\n",
        "    if [v, r, i].count(None) != 1:  # si solo hay una variable que es None se podrá calcular una fórmula\n",
        "        return \"Invalid\"\n",
        "    if v is None:\n",
        "        return round(r * i, 2)\n",
        "    elif r is None:\n",
        "        return round(v / i, 2)\n",
        "    else:\n",
        "        return round(v / r, 2)\n",
        "\n",
        "# Método 2. List Comprehension\n",
        "def ohms_law_list(v, r, i):\n",
        "    if [v, r, i].count(None) != 1:\n",
        "        return \"Invalid\"\n",
        "    return round(r * i, 2) if v is None else round(v / i, 2) if r is None else round(v / r, 2)\n",
        "\n",
        "# Método 3\n",
        "def ohms_law(v, r, i):\n",
        "    if v and r and i:   # si me dan todo es Invalid\n",
        "        return \"Invalid\"\n",
        "    elif v and r:   # si me dan solo v y r\n",
        "        return round(v/r, 2) # calcula I\n",
        "    elif v and i:   # si me dan solo v e i\n",
        "        return round(v/i, 2) # calcula R\n",
        "    elif r and i:   # si me dan solo r e i\n",
        "        return round(i*r, 2) # calcula V\n",
        "    else:\n",
        "        return \"Invalid\"    # si me dan menos de dos variables\n",
        "\n",
        "# Método 4. Usando un diccionario de funciones Lambda\n",
        "def ohms_law(v, r, i):\n",
        "    # Diccionario con funciones lambda para la ley de Ohm\n",
        "    ohms_dict = {\n",
        "        'I': lambda V, R: V / R,\n",
        "        'V': lambda I, R: I * R,\n",
        "        'R': lambda V, I: V / I\n",
        "    }\n",
        "    if (v, r, i).count(None) != 1:  # si el número de None es distinto de 1\n",
        "        return \"Invalid\"            # entonces estamos en un caso Invalid\n",
        "    if i is None:   # Calculamos la corriente (I) si no se proporciona\n",
        "        formula_I = ohms_dict['I']\n",
        "        return f\"{formula_I(v, r):.2f} A\"\n",
        "    elif v is None: # Calculamos la tensión (V) si no se proporciona\n",
        "        formula_V = ohms_dict['V']\n",
        "        return f\"{formula_V(i, r):.2f} V\"\n",
        "    elif r is None: # Calculamos la resistencia (R) si no se proporciona\n",
        "        formula_R = ohms_dict['R']\n",
        "        return f\"{formula_R(v, i):.2f} Ω\""
      ],
      "metadata": {
        "id": "bCqNGG_CJi6p"
      },
      "execution_count": null,
      "outputs": []
    },
    {
      "cell_type": "code",
      "source": [
        "print(ohms_law(12, 220, None))    # 0.05\n",
        "print(ohms_law(230, None, 2))     # 115\n",
        "print(ohms_law(None, 220, 0.02))  # 4.4\n",
        "print(ohms_law(None, None, 10))   # Invalid\n",
        "print(ohms_law(500, 50, 10))      # Invalid\n",
        "print(ohms_law(None, None, None)) # Invalid"
      ],
      "metadata": {
        "id": "cSYaASFsJi6p",
        "colab": {
          "base_uri": "https://localhost:8080/"
        },
        "outputId": "495237b8-147d-45b2-ef93-49cf89eb6317"
      },
      "execution_count": null,
      "outputs": [
        {
          "output_type": "stream",
          "name": "stdout",
          "text": [
            "0.05 A\n",
            "115.00 Ω\n",
            "4.40 V\n",
            "Invalid\n",
            "Invalid\n",
            "Invalid\n"
          ]
        }
      ]
    },
    {
      "cell_type": "markdown",
      "source": [
        "## Reto 420: Encuentra la Segunda Ocurrencia de \"zip\" en una Cadena\n",
        "* Find the Second Occurrence of \"zip\" in a String\n",
        "* Escriba una función que devuelva la posición de la segunda ocurrencia de \"zip\" en una cadena, o -1 si no ocurre al menos dos veces.\n",
        "* Ejemplos:\n",
        "    1. find_zip(\"all zip files are zipped\") ➞ 18\n",
        "    2. find_zip(\"all zip files are compressed\") ➞ -1\n",
        "    3. find_zip(\"en linux se comprime con tar\") ➞ -1\n",
        "    4. find_zip(\"zip zipped \" * 3) ➞ 4\n",
        "\n",
        "* \"Zip\" en mayúsculas no es lo mismo que \"zip\" en minúsculas.\n",
        "\n",
        "\n",
        "\n",
        "\n",
        "\n"
      ],
      "metadata": {
        "id": "VqOAz1qjJjCA"
      }
    },
    {
      "cell_type": "code",
      "source": [
        "# Método 1\n",
        "def find_zip(s):\n",
        "    first_zip = s.find(\"zip\")\n",
        "    if first_zip != -1:\n",
        "        second_zip = s.find(\"zip\", first_zip + 1)\n",
        "        if second_zip != -1:\n",
        "            return second_zip\n",
        "    return -1\n",
        "\n",
        "# Método 2\n",
        "def find_zip(s):\n",
        "    n1 = s.find(\"zip\")\n",
        "    s = s[n1+1:]\n",
        "    n2 = s.find(\"zip\")\n",
        "    return -1 if n2 == -1 else n1 + n2 + 1\n",
        "\n",
        "# Método 3\n",
        "def find_zip(s):\n",
        "    if s.count(\"zip\") < 2:\n",
        "        return -1\n",
        "    n = s.find(\"zip\")\n",
        "    return n + s[n+1:].find(\"zip\") + 1\n",
        "\n",
        "# Método 4. Buscamos la segunda ocurrencia de “zip” a partir de la posición siguiente a la primera.\n",
        "def find_zip(s):\n",
        "    return s.find(\"zip\", s.find(\"zip\") + 1)\n",
        "\n",
        "# Método 5. Separamos la cadena con split cortando por los \"zip\"\n",
        "def find_zip(s):\n",
        "    parts = s.split(\"zip\")\n",
        "    if len(parts) >= 3:\n",
        "        # Si hay al menos dos ocurrencias de \"zip\", devuelve la posición de la segunda\n",
        "        return len(parts[0]) + len(\"zip\") + len(parts[1])\n",
        "    else:\n",
        "        return -1"
      ],
      "metadata": {
        "id": "BNAqtMkcJjCA"
      },
      "execution_count": null,
      "outputs": []
    },
    {
      "cell_type": "code",
      "source": [
        "print(find_zip(\"all zip files are zipped\"))     # 18\n",
        "print(find_zip(\"all zip files are compressed\")) # -1\n",
        "print(find_zip(\"en linux se comprime con tar\")) # -1\n",
        "print(find_zip(\"zip zipped \" * 3))              # 4"
      ],
      "metadata": {
        "id": "bJXQH_CLJjCB",
        "colab": {
          "base_uri": "https://localhost:8080/"
        },
        "outputId": "dac905c5-c483-456a-e19d-24f70d083a7a"
      },
      "execution_count": null,
      "outputs": [
        {
          "output_type": "stream",
          "name": "stdout",
          "text": [
            "18\n",
            "-1\n",
            "-1\n",
            "4\n"
          ]
        }
      ]
    },
    {
      "cell_type": "markdown",
      "source": [
        "## Reto 421: Algoritmo de Intercambio XOR\n",
        "* XOR Swap Algorithm\n",
        "* Esto es más informativo que un reto.\n",
        "* Puedes cambiar realmente 2 variables con la operación XOR ^.\n",
        "* XOR funciona con dos argumentos.\n",
        "* Convierte ambos argumentos en sus representaciones binarias y, para cada bit, devuelve 1 si son diferentes, 0 en caso contrario.\n",
        "* El valor de retorno es la representación decimal de la nueva cadena binaria.\n",
        "* Tu trabajo es intercambiar 2 variables usando el operador XOR, lo que significa que tu declaración de retorno debería ser return[a, b], pero los valores almacenados en las variables deben ser intercambiados.\n",
        "* Ejemplos:\n",
        "    1. XOR(10, 41) ➞ (41, 10)\n",
        "    2. XOR(69, 420) ➞ (420, 69)\n",
        "    3. XOR(12345, 890412) ➞ (890412, 12345)\n",
        "\n",
        "* Para este desafío, evita hacer lo siguiente:\n",
        "```python\n",
        "def XOR(a, b):\n",
        "    return[b, a]\n",
        "def XOR(a, b):\n",
        "    temp = a\n",
        "    a = b\n",
        "    b = temp\n",
        "    return[a, b]\n",
        "```"
      ],
      "metadata": {
        "id": "PNPUFnt8J3hD"
      }
    },
    {
      "cell_type": "code",
      "source": [
        "def XOR_swap(a, b):\n",
        "    a = a ^ b\n",
        "    b = a ^ b\n",
        "    a = a ^ b\n",
        "    return a, b"
      ],
      "metadata": {
        "id": "Ti8YQt1xJ3hE"
      },
      "execution_count": null,
      "outputs": []
    },
    {
      "cell_type": "code",
      "source": [
        "print(XOR_swap(10, 41))         # (41, 10)\n",
        "print(XOR_swap(69, 420))        # (420, 69)\n",
        "print(XOR_swap(12345, 890412))  # (890412, 12345)"
      ],
      "metadata": {
        "id": "N__ZeOW6J3hE",
        "colab": {
          "base_uri": "https://localhost:8080/"
        },
        "outputId": "0f815245-c836-4393-d1c4-f7f93a611c3f"
      },
      "execution_count": null,
      "outputs": [
        {
          "output_type": "stream",
          "name": "stdout",
          "text": [
            "(41, 10)\n",
            "(420, 69)\n",
            "(890412, 12345)\n"
          ]
        }
      ]
    },
    {
      "cell_type": "markdown",
      "source": [
        "### Comentario\n",
        "* [XOR swap algorithm](https://en.wikipedia.org/wiki/XOR_swap_algorithm)\n",
        "* [Swap two variables using XOR](https://betterexplained.com/articles/swap-two-variables-using-xor/)\n",
        "* [Python Program to Swap Two Variables](https://www.geeksforgeeks.org/python-program-to-swap-two-variables/)\n",
        "\n",
        "El ejercicio plantea el desafío de intercambiar los valores de dos variables utilizando solo la operación XOR. La operación XOR (también conocida como \"o exclusivo\") devuelve 1 si y solo si los bits comparados son diferentes, y 0 si son iguales.\n",
        "\n",
        "La solución propuesta consiste en tres pasos:\n",
        "\n",
        "1. Se aplica XOR entre el valor de a y b y se guarda en a. Esto resulta en a conteniendo la combinación de ambos valores.\n",
        "2. Se aplica XOR entre el nuevo valor de a (que ahora contiene la combinación de a y b) y el valor original de b. Esto resulta en b conteniendo el valor original de a.\n",
        "3. Finalmente, se aplica XOR entre el nuevo valor de a (que ahora contiene la combinación de a y b) y el nuevo valor de b (que ahora contiene el valor original de a). Esto resulta en a conteniendo el valor original de b.\n",
        "Al final de estos pasos, a contendrá el valor original de b y b contendrá el valor original de a, logrando así el intercambio de valores sin necesidad de una variable temporal.\n",
        "\n",
        "Esencialmente, este algoritmo aprovecha las propiedades del XOR para manipular los bits de los valores y lograr el intercambio sin necesidad de una variable adicional para almacenar temporalmente uno de los valores."
      ],
      "metadata": {
        "id": "xBzaBKqN6MA0"
      }
    },
    {
      "cell_type": "markdown",
      "source": [
        "## Reto 422: Superhéroes\n",
        "* Superheroes\n",
        "* Cree una función que tome una lista de nombres de superhéroes y superheroínas, y devuelva una lista solo con los nombres de superhéroes que terminan en “man”, ordenados alfabéticamente.\n",
        "* Ejemplos:\n",
        "    1. superheroes([\"Batman\", \"Superman\", \"Spider-man\", \"Hulk\", \"Wolverine\", \"Wonder-Woman\"]) ➞ [\"Batman\", \"Spider-man\", \"Superman\"]\n",
        "    2. superheroes([\"Catwoman\", \"Deadpool\", \"Dr.Strange\", \"Captain-America\", \"Aquaman\", \"Hawkeye\"]) ➞ [\"Aquaman\"]\n",
        "    3. superheroes([\"Wonder-Woman\", \"Catwoman\", \"Invisible-Woman\"]) ➞ []\n",
        "\n",
        "* Wonder-Woman, Catwoman e Invisible-Woman son superheroínas"
      ],
      "metadata": {
        "id": "XWjJweTLJ38J"
      }
    },
    {
      "cell_type": "code",
      "source": [
        "# Método 1\n",
        "def superheroes(names):\n",
        "    superhero_names = []\n",
        "    for name in names:\n",
        "        if name.lower().endswith(\"man\") and \"woman\" not in name.lower():\n",
        "            superhero_names.append(name)\n",
        "    return sorted(superhero_names)\n",
        "\n",
        "# Método 2\n",
        "def superheroes(names):\n",
        "    return sorted([name for name in names if name.lower().endswith(\"man\") and \"woman\" not in name.lower()])\n",
        "\n",
        "# Método 3\n",
        "def superheroes(names):\n",
        "    filtered_names = filter(lambda name: name.lower().endswith(\"man\") and \"woman\" not in name.lower(), names)\n",
        "    return sorted(filtered_names)"
      ],
      "metadata": {
        "id": "7QTbKucHJ38K"
      },
      "execution_count": null,
      "outputs": []
    },
    {
      "cell_type": "code",
      "source": [
        "print(superheroes([\"Batman\", \"Superman\", \"Spider-man\", \"Hulk\", \"Wolverine\", \"Wonder-Woman\"])) # [\"Batman\", \"Spider-man\", \"Superman\"]\n",
        "print(superheroes([\"Catwoman\", \"Deadpool\", \"Dr.Strange\", \"Captain-America\", \"Aquaman\", \"Hawkeye\"])) # [\"Aquaman\"]\n",
        "print(superheroes([\"Wonder-Woman\", \"Catwoman\", \"Invisible-Woman\"]))  # []"
      ],
      "metadata": {
        "id": "-er8xjzyJ38K",
        "colab": {
          "base_uri": "https://localhost:8080/"
        },
        "outputId": "ca943885-af10-4844-922b-bcc5345b6a52"
      },
      "execution_count": null,
      "outputs": [
        {
          "output_type": "stream",
          "name": "stdout",
          "text": [
            "['Batman', 'Spider-man', 'Superman']\n",
            "['Aquaman']\n",
            "[]\n"
          ]
        }
      ]
    },
    {
      "cell_type": "markdown",
      "source": [
        "## Reto 423: Número de Manzanas Restantes\n",
        "* Number of Apples Left\n",
        "* Un hombre tiene `n` manzanas.\n",
        "* Si se come un porcentaje `p` de las manzanas (si hay manzanas disponibles), sus hijos compartirán el resto de las manzanas.\n",
        "* Crea una función para determinar la cantidad de manzanas enteras que recibieron sus hijos.\n",
        "* Si sus hijos no recibieron ninguna manzana, devuelve “Los niños no recibieron ninguna manzana”.\n",
        "* Ejemplos:\n",
        "    1. get_number_of_apples(10, \"90%\") ➞ 1\n",
        "    2. get_number_of_apples(25, \"10%\") ➞ 22\n",
        "    3. get_number_of_apples(0, \"10%\") ➞ \"Los niños no recibieron ninguna manzana\"\n",
        "\n",
        "* Siempre se proporcionará el valor de `p`."
      ],
      "metadata": {
        "id": "cNH9ZpeOJ4DH"
      }
    },
    {
      "cell_type": "code",
      "source": [
        "# Método 1\n",
        "def get_number_of_apples(n, p):\n",
        "    resultado = round(n * (1-(float(p[:-1]) / 100)))\n",
        "    return \"Los niños no recibieron ninguna manzana\" if resultado == 0 else resultado\n",
        "\n",
        "# Método 2\n",
        "import math\n",
        "def get_number_of_apples(n, p):\n",
        "    try:\n",
        "        # Elimina el signo de porcentaje y conviértelo a decimal\n",
        "        p_decimal = float(p.strip('%')) / 100\n",
        "        # Calcula el número de manzanas comidas\n",
        "        manzanas_comidas = math.ceil(n * p_decimal)\n",
        "        # Calcula el número de manzanas enteras restantes\n",
        "        manzanas_restantes = n - manzanas_comidas\n",
        "        if manzanas_restantes > 0:\n",
        "            return manzanas_restantes\n",
        "        else:\n",
        "            return \"Los niños no recibieron ninguna manzana\"\n",
        "    except ValueError:\n",
        "        return \"Por favor, ingrese un porcentaje válido.\"\n",
        "\n",
        "def get_number_of_apples(n, p):\n",
        "    p_decimal = float(p.strip('%')) / 100\n",
        "    manzanas_comidas = (n * p_decimal)\n",
        "    manzanas_para_hijos = int((n - manzanas_comidas) // 1)\n",
        "    if manzanas_para_hijos == 0:\n",
        "        return \"Los niños no recibieron ninguna manzana\"\n",
        "    return manzanas_para_hijos"
      ],
      "metadata": {
        "id": "Y2rDnQu6J4DH"
      },
      "execution_count": null,
      "outputs": []
    },
    {
      "cell_type": "code",
      "source": [
        "print(get_number_of_apples(10, \"90%\"))\n",
        "print(get_number_of_apples(25, \"10%\"))\n",
        "print(get_number_of_apples(0, \"10%\"))"
      ],
      "metadata": {
        "id": "icsPyDetJ4DH",
        "colab": {
          "base_uri": "https://localhost:8080/"
        },
        "outputId": "4276513f-0c85-4648-a51c-69b02dbcd75a"
      },
      "execution_count": null,
      "outputs": [
        {
          "output_type": "stream",
          "name": "stdout",
          "text": [
            "1\n",
            "22\n",
            "Los niños no recibieron ninguna manzana\n"
          ]
        }
      ]
    },
    {
      "cell_type": "markdown",
      "source": [
        "## Reto 424: Frases Suaves\n",
        "* Smooth Sentences\n",
        "* Carlos es un gran admirador de lo que él llama frases suaves.\n",
        "* Una frase suave es aquella en la que la última letra de cada palabra es idéntica a la primera letra de la palabra siguiente (y no distingue entre mayúsculas y minúsculas, por lo que “A” sería igual que “a”).\n",
        "* La siguiente sería una frase suave: “Carlos nadó magistralmente”, porque “Carlos” termina con una “s” y “nadó” comienza con una “s”, y “nadó” termina con una “m” y “magistralmente” comienza con una “m”.\n",
        "* Crea una función que determine si la frase de entrada es una frase suave, devolviendo un valor booleano `True` si lo es, y `False` si no lo es.\n",
        "* Ejemplos:\n",
        "    1. is_smooth(\"Amanece en Noruega\") ➞ True\n",
        "    2. is_smooth(\"El lado oscuro\") ➞ True\n",
        "    3. is_smooth(\"Poder romano del imperio\") ➞ False\n",
        "\n",
        "* Las últimas y primeras letras no distinguen entre mayúsculas y minúsculas.\n",
        "* No habrá puntuación o tildes en cada frase."
      ],
      "metadata": {
        "id": "T5RJifTGJ4KH"
      }
    },
    {
      "cell_type": "code",
      "source": [
        "# Método 1\n",
        "def is_smooth(sentence: str) -> bool:\n",
        "    # Convierte todo a minúsculas y hace un split de palabras\n",
        "    words = sentence.lower().split()\n",
        "    # Comprueba si la úlitma letra de una palabra coincide con la primera de la siguiente\n",
        "    for i in range(len(words) - 1):\n",
        "        if words[i][-1] != words[i + 1][0]:\n",
        "            return False\n",
        "    return True\n",
        "\n",
        "# Método 2. Usando zip y all\n",
        "def is_smooth(sentence: str) -> bool:\n",
        "    words = sentence.lower().split()\n",
        "    return all(w1[-1] == w2[0] for w1, w2 in zip(words, words[1:]))\n",
        "\n",
        "# Método 3. Función recursiva\n",
        "def is_smooth(sentence: str) -> bool:\n",
        "    # Base case: If the sentence has only one word or is empty, it's smooth\n",
        "    if len(sentence.split()) <= 1:\n",
        "        return True\n",
        "\n",
        "    # Split the sentence into words and convert to lowercase\n",
        "    words = sentence.lower().split()\n",
        "\n",
        "    # Check if the last letter of the first word matches the first letter of the second word\n",
        "    if words[0][-1] != words[1][0]:\n",
        "        return False\n",
        "\n",
        "    # Recur with the remaining part of the sentence\n",
        "    return is_smooth(\" \".join(words[1:]))"
      ],
      "metadata": {
        "id": "dH3WyMViJ4KH"
      },
      "execution_count": null,
      "outputs": []
    },
    {
      "cell_type": "code",
      "source": [
        "print(is_smooth(\"Amanece en Noruega\"))\n",
        "print(is_smooth(\"El lado oscuro\"))\n",
        "print(is_smooth(\"Poder romano del imperio\"))"
      ],
      "metadata": {
        "id": "gYM_q5FvJ4KH",
        "colab": {
          "base_uri": "https://localhost:8080/"
        },
        "outputId": "6cb0fc6c-56dd-49bc-a432-8e655f2eb26e"
      },
      "execution_count": null,
      "outputs": [
        {
          "output_type": "stream",
          "name": "stdout",
          "text": [
            "True\n",
            "True\n",
            "False\n"
          ]
        }
      ]
    },
    {
      "cell_type": "markdown",
      "source": [
        "## Reto 425: Obtener el Siglo\n",
        "* Get the Century\n",
        "* Cree una función que tome un año y devuelva el siglo correcto.\n",
        "* Ejemplos:\n",
        "    1. century(1756) ➞ \"Siglo 18\"\n",
        "    2. century(1555) ➞ \"Siglo 16\"\n",
        "    3. century(1000) ➞ \"Siglo 10\"\n",
        "    4. century(1001) ➞ \"Siglo 11\"\n",
        "    5. century(2050) ➞ \"Siglo 21\"\n",
        "\n",
        "* Todos los años estarán entre 1000 y 2050.\n",
        "* El siglo 11 está entre 1001 y 1100.\n",
        "* El siglo 18 está entre 1701 y 1800.\n",
        "\n",
        "\n",
        "\n",
        "\n",
        "\n"
      ],
      "metadata": {
        "id": "9btS9f_jJ4Rk"
      }
    },
    {
      "cell_type": "code",
      "source": [
        "# Método 1\n",
        "def century(year):\n",
        "    if year % 100 == 0:\n",
        "        century = year // 100\n",
        "    else:\n",
        "        century = year // 100 + 1\n",
        "    return f\"Siglo {century}\"\n",
        "\n",
        "# Método 2. Función Lambda\n",
        "century = lambda y: f\"Siglo {y // 100 if y % 100 == 0 else y // 100 + 1}\"\n",
        "\n",
        "# Método 3\n",
        "import math\n",
        "\n",
        "century_lambda = lambda year: f\"Siglo {math.ceil(year / 100)}\""
      ],
      "metadata": {
        "id": "E6J3pCYOJ4Rk"
      },
      "execution_count": null,
      "outputs": []
    },
    {
      "cell_type": "code",
      "source": [
        "print(century(1756))\n",
        "print(century(1555))\n",
        "print(century(1000))\n",
        "print(century(1001))\n",
        "print(century(2050))"
      ],
      "metadata": {
        "id": "tknb1UNEJ4Rk",
        "colab": {
          "base_uri": "https://localhost:8080/"
        },
        "outputId": "dcccf77e-8eb8-421c-b6e9-22405022fba7"
      },
      "execution_count": null,
      "outputs": [
        {
          "output_type": "stream",
          "name": "stdout",
          "text": [
            "Siglo 18\n",
            "Siglo 16\n",
            "Siglo 10\n",
            "Siglo 11\n",
            "Siglo 21\n"
          ]
        }
      ]
    },
    {
      "cell_type": "markdown",
      "source": [
        "## Reto 426: Código de caracteres matemáticos\n",
        "* Character Code Math\n",
        "* Convierta cada carácter en un string `s` en su código de carácter ASCII y únelos para crear un número.\n",
        "* Por ejemplo, para la cadena \"abc\", el número es 979899. Llamaremos a este número \"num1\".\n",
        "\n",
        "\"abc\" ➞ \"a\" = 97, \"b\" = 98, \"c\" = 99 ➞ 979899\n",
        "\n",
        "* Luego, reemplaza cualquier ocurrencia del número 7 con el número 1, y llamamos a este número \"num2\":\n",
        "\n",
        "    - num1 = 979899\n",
        "    - num2 = 919899\n",
        "\n",
        "* Devuelve la diferencia entre la suma de los dígitos en num1 y num2:\n",
        "\n",
        "<pre>  (9 + 7 + 9 + 8 + 9 + 9)\n",
        "- (9 + 1 + 9 + 8 + 9 + 9)\n",
        "-------------------------\n",
        "         ➞  6</pre>\n",
        "\n",
        "* Ejemplos:\n",
        "    1. calc(\"ABCDabcd\") ➞ 12\n",
        "    2. calc(\"cdefgh\") ➞ 0\n",
        "    3. calc(\"ifkhchlhfde\") ➞ 6\n",
        "\n",
        "* Los caracteres en minúsculas y mayúsculas tienen diferentes códigos de caracteres ASCII."
      ],
      "metadata": {
        "id": "2-Et9sGhJ4Yk"
      }
    },
    {
      "cell_type": "code",
      "source": [
        "# Método 1\n",
        "def calc(s):\n",
        "    # Convertir cada carácter en su código ASCII y unirlos para formar un número\n",
        "    num1 = ''.join(str(ord(char)) for char in s)\n",
        "    # Reemplazar cualquier ocurrencia del número 7 con el número 1\n",
        "    num2 = num1.replace('7', '1')\n",
        "    # Calcular la diferencia entre la suma de los dígitos de num1 y num2\n",
        "    return sum(int(digit) for digit in num1) - sum(int(digit) for digit in num2)\n",
        "\n",
        "# Método 2. Usando map\n",
        "def calc(s):\n",
        "    # Convertir cada carácter en su código ASCII y unirlos para formar un número\n",
        "    num1 = int(''.join(map(str, map(ord, s))))\n",
        "    # Reemplazar cualquier ocurrencia del número 7 con el número 1 y convertirlo de nuevo a entero\n",
        "    num2 = int(str(num1).replace('7', '1'))\n",
        "    # Calcular la diferencia entre la suma de los dígitos de num1 y num2\n",
        "    return sum(map(int, str(num1))) - sum(map(int, str(num2)))\n",
        "\n",
        "# Método 3\n",
        "def calc(s):\n",
        "    # Convertir cada carácter en su código ASCII y unirlos para formar un número\n",
        "    num1 = ''.join(str(ord(char)) for char in s)\n",
        "    # Reemplazar '7' con '1' en num1 y calcular su longitud\n",
        "    num2 = int(num1.replace('7', '1'))\n",
        "    # Calcular la suma de los dígitos de num1 y num2\n",
        "    sum_num1 = sum(map(int, str(num1)))\n",
        "    sum_num2 = sum(map(int, str(num2)))\n",
        "    # Calcular la diferencia entre las sumas de los dígitos de num1 y num2\n",
        "    return sum_num1 - sum_num2"
      ],
      "metadata": {
        "id": "NUZheGy3J4Yk"
      },
      "execution_count": null,
      "outputs": []
    },
    {
      "cell_type": "code",
      "source": [
        "print(calc(\"ABCDabcd\"))    # ➞ 12\n",
        "print(calc(\"cdefgh\"))      # ➞ 0\n",
        "print(calc(\"ifkhchlhfde\")) # ➞ 6"
      ],
      "metadata": {
        "id": "OsMIsl4xJ4Yk",
        "colab": {
          "base_uri": "https://localhost:8080/"
        },
        "outputId": "0dfd9ca3-5650-4197-cacb-36cee3add4cc"
      },
      "execution_count": null,
      "outputs": [
        {
          "output_type": "stream",
          "name": "stdout",
          "text": [
            "12\n",
            "0\n",
            "6\n"
          ]
        }
      ]
    },
    {
      "cell_type": "markdown",
      "source": [
        "## Reto 427: La Conjetura de Collatz\n",
        "* The Collatz Conjecture\n",
        "* Considere la siguiente operación en un número entero positivo arbitrario:\n",
        "\n",
        "    - Si n es par -> n / 2\n",
        "    - Si n es impar -> n * 3 + 1\n",
        "* Cree una función para evaluar repetidamente estas operaciones, hasta alcanzar 1.\n",
        "* Retorne el número de pasos que tomó.\n",
        "* Mire el siguiente ejemplo, usando 10 como entrada, con 6 pasos:\n",
        "    1. 10 es par - 10 / 2 = 5\n",
        "    2. 5 es impar - 5 * 3 + 1 = 16\n",
        "    3. 16 es par - 16 / 2 = 8\n",
        "    4. 8 es par - 8 / 2 = 4\n",
        "    5. 4 es par - 4 / 2 = 2\n",
        "    6. 2 es par - 2 / 2 = 1 -> Alcanzó 1, así que retorna 6\n",
        "* Ejemplos:\n",
        "    1. collatz(2) ➞ 1\n",
        "    2. collatz(3) ➞ 7\n",
        "    3. collatz(10) ➞ 6"
      ],
      "metadata": {
        "id": "cklCP4WwJ4f_"
      }
    },
    {
      "cell_type": "code",
      "source": [
        "# Método 1\n",
        "def collatz(n):\n",
        "    contador = 0\n",
        "    while n > 1:\n",
        "        if n % 2 == 0:\n",
        "            n /= 2\n",
        "        else:\n",
        "            n = 3 * n + 1\n",
        "        contador += 1\n",
        "    return contador\n",
        "\n",
        "# Método 2. Función recursiva\n",
        "def collatz(n, steps=0):\n",
        "    if n == 1:\n",
        "        return steps\n",
        "    elif n % 2 == 0:\n",
        "        return collatz(n // 2, steps + 1)\n",
        "    else:\n",
        "        return collatz(n * 3 + 1, steps + 1)\n",
        "\n",
        "# Método 3. Función recursiva con memoización con un diccionario\n",
        "memo = {1: 0}\n",
        "\n",
        "def collatz(n):\n",
        "    if n not in memo:\n",
        "        if n % 2 == 0:\n",
        "            memo[n] = 1 + collatz(n // 2)\n",
        "        else:\n",
        "            memo[n] = 1 + collatz(n * 3 + 1)\n",
        "    return memo[n]\n",
        "\n",
        "# Método 4. Función recursiva con memoización con una lista\n",
        "def collatz(n):\n",
        "    # Inicializamos una lista para almacenar las longitudes de las secuencias de Collatz.\n",
        "    memo = [0] * (n + 1)  # La posición 0 no se usará, solo para hacer coincidir los índices con los números.\n",
        "    memo[1] = 0  # Establecemos la longitud de la secuencia para el número 1 como 0.\n",
        "    # Iteramos sobre cada número en el rango de 2 a n para calcular su secuencia de Collatz.\n",
        "    for num in range(2, n + 1):\n",
        "        current_num = num  # Inicializamos el número actual en la secuencia.\n",
        "        steps = 0  # Inicializamos el contador de pasos para esta secuencia.\n",
        "        # Iteramos hasta que el número actual llegue a 1.\n",
        "        while current_num != 1:\n",
        "            # Verificamos si la longitud de la secuencia para el número actual ya está calculada.\n",
        "            if current_num < len(memo) and memo[current_num] > 0:\n",
        "                steps += memo[current_num]  # Agregamos la longitud de la secuencia ya calculada.\n",
        "                break  # Salimos del bucle while.\n",
        "            # Aplicamos las reglas de la conjetura de Collatz para obtener el siguiente número en la secuencia.\n",
        "            if current_num % 2 == 0:\n",
        "                current_num //= 2  # Si es par, dividimos por 2.\n",
        "            else:\n",
        "                current_num = current_num * 3 + 1  # Si es impar, multiplicamos por 3 y sumamos 1.\n",
        "            steps += 1  # Incrementamos el contador de pasos.\n",
        "        memo[num] = steps  # Almacenamos la longitud de la secuencia para el número actual en la lista memo.\n",
        "    return memo[n]  # Retornamos la longitud de la secuencia para el número n."
      ],
      "metadata": {
        "id": "CfK4xyRhJ4f_"
      },
      "execution_count": null,
      "outputs": []
    },
    {
      "cell_type": "code",
      "source": [
        "print(collatz(2))    # 1\n",
        "print(collatz(3))    # 7\n",
        "print(collatz(10))   # 6\n",
        "print(collatz(6171)) # 261"
      ],
      "metadata": {
        "id": "nGBYgdmWJ4f_",
        "outputId": "a5d6cddc-b21d-4f42-bfb4-f37260681db8",
        "colab": {
          "base_uri": "https://localhost:8080/"
        }
      },
      "execution_count": null,
      "outputs": [
        {
          "output_type": "stream",
          "name": "stdout",
          "text": [
            "1\n",
            "7\n",
            "6\n",
            "261\n"
          ]
        }
      ]
    },
    {
      "cell_type": "markdown",
      "source": [
        "## Reto 428: Expresión regular para código postal de 5 dígitos:\n",
        "* Regex Series: 5-Digit Zip Code\n",
        "* Escriba una expresión regular que coincida con una cadena si y solo si es un código postal válido.\n",
        "* Ejemplos:\n",
        "    1. \"32554\" ➞ True\n",
        "    2. \"92 342\" ➞ False\n",
        "        - Inválido: contiene un espacio en blanco\n",
        "    3. \"9@342\" ➞ False\n",
        "        - Inválido: contiene un carácter no numérico\n",
        "    4. \"923444\" ➞ False\n",
        "        - Inválido: la longitud no es 5\n",
        "\n",
        "* Los códigos postales deben tener exactamente 5 dígitos de longitud y solo contener números.\n",
        "* No se permiten: caracteres no numéricos o espacios en blanco."
      ],
      "metadata": {
        "id": "h_FCdlipJ4na"
      }
    },
    {
      "cell_type": "code",
      "source": [
        "# Método 1\n",
        "import re\n",
        "\n",
        "def validar_codigo_postal(codigo):\n",
        "    # Expresión regular para validar código postal de 5 dígitos\n",
        "    patron = r'^\\d{5}$'\n",
        "    return bool(re.match(patron, codigo))\n",
        "\n",
        "# Método 2\n",
        "def validar_codigo_postal(codigo):\n",
        "    # Verificar si la longitud del código postal es 5\n",
        "    if len(codigo) != 5:\n",
        "        return False\n",
        "    # Verificar si todos los caracteres son dígitos\n",
        "    for caracter in codigo:\n",
        "        if not caracter.isdigit():\n",
        "            return False\n",
        "    # Si todas las condiciones son verdaderas, el código postal es válido\n",
        "    return True\n",
        "\n",
        "# Método 3\n",
        "def validar_codigo_postal(codigo):\n",
        "    # Verificar si la longitud del código postal es 5\n",
        "    if len(codigo) != 5:\n",
        "        return False\n",
        "    # Verificar si todos los caracteres son dígitos\n",
        "    for caracter in codigo:\n",
        "        if not caracter.isdigit():\n",
        "            return False\n",
        "    # Si todas las condiciones son verdaderas, el código postal es válido\n",
        "    return True\n",
        "\n",
        "# Método 4\n",
        "def validar_codigo_postal(codigo):\n",
        "    return len(codigo) == 5 and codigo.isdigit()"
      ],
      "metadata": {
        "id": "6izl31Y2J4uu"
      },
      "execution_count": null,
      "outputs": []
    },
    {
      "cell_type": "code",
      "source": [
        "print(validar_codigo_postal(\"32554\"))   # True\n",
        "print(validar_codigo_postal(\"92 342\"))  # False\n",
        "print(validar_codigo_postal(\"9@342\"))   # False\n",
        "print(validar_codigo_postal(\"923444\"))  # False"
      ],
      "metadata": {
        "id": "JjSVAuUTJ4uu",
        "outputId": "26214725-896c-4a0b-f04a-260cdcdd64f5",
        "colab": {
          "base_uri": "https://localhost:8080/"
        }
      },
      "execution_count": null,
      "outputs": [
        {
          "output_type": "stream",
          "name": "stdout",
          "text": [
            "True\n",
            "False\n",
            "False\n",
            "False\n"
          ]
        }
      ]
    },
    {
      "cell_type": "markdown",
      "source": [
        "## Reto 429: Asombrosa aliteración\n",
        "* Amazing Alliteration\n",
        "* La aliteración se refiere a una secuencia de palabras que comienzan con la misma letra.\n",
        "* Para este ejercicio, una oración está correctamente aliterada si todas las palabras estrictamente mayores que 3 caracteres comienzan con la misma letra.\n",
        "* Ejemplos:\n",
        "    1. alliteration_correct(\"Ella nadó hasta la orilla.\") ➞ True\n",
        "        - Todas las palabras >= 4 letras comienzan con \"s\"\n",
        "    2. alliteration_correct(\"Maybel maneja dinero bien.\") ➞ False\n",
        "        - \"bien\" no comienza con \"m\"\n",
        "    3. alliteration_correct(\"Él ayuda a aprovechar la felicidad.\") ➞ True\n",
        "    4. alliteration_correct(\"Hay muchos animales.\") ➞ False\n",
        "\n",
        "* Esto permite palabras de relleno como \"el\", \"a\", \"de\", etc. - por lo que las palabras con tres o menos caracteres no se cuentan.\n",
        "* La puntuación no cuenta como parte de la longitud de una palabra."
      ],
      "metadata": {
        "id": "qrAew1HVJ4uu"
      }
    },
    {
      "cell_type": "code",
      "source": [
        "# Método 1\n",
        "def alliteration_correct(sentence):\n",
        "    words = sentence.split()  # Divide la oración en palabras\n",
        "    if len(words) == 0:\n",
        "        return False  # Si no hay palabras, no hay aliteración\n",
        "    first_letter = None  # Inicializa la primera letra como nula\n",
        "    for word in words:\n",
        "        if len(word) > 3:  # Solo considera palabras de más de 3 caracteres\n",
        "            if first_letter is None:  # Si es la primera palabra considerada\n",
        "                first_letter = word[0].lower()  # Obtiene la primera letra y la convierte a minúscula\n",
        "            elif word[0].lower() != first_letter:  # Si la primera letra no coincide con las anteriores\n",
        "                return False  # No cumple con la condición de aliteración\n",
        "    return True  # Si todas las palabras cumplen con la condición, retorna verdadero\n",
        "\n",
        "# Método 2\n",
        "def alliteration_correct(sentence):\n",
        "    words = [word.lower() for word in sentence.split() if len(word) > 3]  # Filtra y convierte a minúsculas las palabras de más de 3 caracteres\n",
        "    return len(set(word[0] for word in words)) == 1 if words else False  # Verifica si todas las primeras letras son iguales, si hay palabras\n",
        "\n",
        "# Método 3. Regular Expressions\n",
        "import re\n",
        "\n",
        "def alliteration_correct(sentence):\n",
        "    words = re.findall(r'\\b\\w{4,}\\b', sentence.lower())  # Encuentra palabras de más de 3 caracteres y las convierte a minúsculas\n",
        "    return len(set(word[0] for word in words)) == 1 if words else False  # Verifica si todas las primeras letras son iguales, si hay palabras\n",
        "\n",
        "# Método 4.\n",
        "def alliteration_correct(sentence):\n",
        "    words = sentence.split()  # Divide la oración en palabras\n",
        "    valid_words = [word.lower() for word in words if len(word) > 3]  # Filtra palabras de más de 3 caracteres y las convierte a minúsculas\n",
        "    if not valid_words:\n",
        "        return False  # Si no hay palabras válidas, retorna False\n",
        "    first_letter = valid_words[0][0]  # Obtiene la primera letra de la primera palabra válida\n",
        "    # Verifica si todas las palabras comienzan con la misma letra que la primera palabra válida\n",
        "    return all(word[0] == first_letter for word in valid_words[1:])"
      ],
      "metadata": {
        "id": "rirzzGxdJ4na"
      },
      "execution_count": null,
      "outputs": []
    },
    {
      "cell_type": "code",
      "source": [
        "print(alliteration_correct(\"Ella y Eduardo entrenaron estupendamente a sus empleados\"))\n",
        "print(alliteration_correct(\"Los medios multimedia son mediocres\"))\n",
        "print(alliteration_correct(\"Mi mamá me mima\"))\n",
        "print(alliteration_correct(\"Tres tristes tigres tragaban trigo en un trigal\"))\n",
        "print(alliteration_correct(\"Tres tristes tigres comen trigo en un trigal\"))"
      ],
      "metadata": {
        "id": "TdKhyFKRJ4na",
        "outputId": "14e01a7e-ed39-4bda-ce99-3e30e5fe787e",
        "colab": {
          "base_uri": "https://localhost:8080/"
        }
      },
      "execution_count": null,
      "outputs": [
        {
          "output_type": "stream",
          "name": "stdout",
          "text": [
            "True\n",
            "True\n",
            "True\n",
            "True\n",
            "False\n"
          ]
        }
      ]
    },
    {
      "cell_type": "markdown",
      "source": [
        "## Reto 430: ¿Cuántos rectángulos?\n",
        "* How Many Rectangles?\n",
        "* Imagine una matriz cuadrada, donde cada cuadrado es un rectángulo, y la combinación de varios cuadrados también forma rectángulos.\n",
        "* Para encontrar el número de rectángulos, Pete se sentó y comenzó a contar... pero eso es altamente ineficiente.\n",
        "* Cree una función que tome el orden de la matriz como entrada y devuelva el número de rectángulos en ella.\n",
        "* Ejemplos:\n",
        "    1. rectangles(1) ➞ 1\n",
        "    2. rectangles(2) ➞ 9\n",
        "    3. rectangles(3) ➞ 36\n",
        "\n",
        "* La entrada siempre será un número entero.\n",
        "* El número de rectángulos se da por: ((n(n+1))/2)^2"
      ],
      "metadata": {
        "id": "JgzXD5JvJ42h"
      }
    },
    {
      "cell_type": "code",
      "source": [
        "# Método 1\n",
        "def rectangles(n):\n",
        "    return ((n * (n + 1)) // 2) ** 2\n",
        "\n",
        "# Método 2. Función Lambda\n",
        "rectangles = lambda n: ((n * (n + 1)) // 2) ** 2"
      ],
      "metadata": {
        "id": "uJN9E-afJ42h"
      },
      "execution_count": null,
      "outputs": []
    },
    {
      "cell_type": "code",
      "source": [
        "print(rectangles(1))  # Salida: 1\n",
        "print(rectangles(2))  # Salida: 9\n",
        "print(rectangles(3))  # Salida: 36"
      ],
      "metadata": {
        "id": "ZeE6TLYBJ42h",
        "colab": {
          "base_uri": "https://localhost:8080/"
        },
        "outputId": "c03b2e70-8f00-4617-fcdf-891c6e489f95"
      },
      "execution_count": null,
      "outputs": [
        {
          "output_type": "stream",
          "name": "stdout",
          "text": [
            "1\n",
            "9\n",
            "36\n"
          ]
        }
      ]
    },
    {
      "cell_type": "markdown",
      "source": [
        "## Reto 431: Ahora eres un booleano\n",
        "* Minimal III: You're a Boolean Now\n",
        "* El siguiente código da error ya que le falta un fragmento de un solo carácter para pasar funcionar correctamente.\n",
        "* Sin embargo, su objetivo es crear una función lo más minimalista posible.\n",
        "\n",
        "```python\n",
        "def is_prime(n):\n",
        "\tif n == 0:\n",
        "\t\treturn False\n",
        "\tif n == 1:\n",
        "\t\treturn False\n",
        "\ti = 2\n",
        "\twhile i < n:\n",
        "\t\tif n %  == 0:\n",
        "\t\t\treturn False\n",
        "\t\ti += 1\n",
        "\treturn True\n",
        "```\n",
        "* Escribe una función que devuelva `True` si el número entero positivo dado es un número primo y `False` si no lo es.\n",
        "\n",
        "**Consejos:**\n",
        "- Todo lo que escribas después de `if`, `not`, `while` o alrededor de `and`, `or`, `is`, `in` se interpreta como un booleano.\n",
        "- Un ejemplo de función que imprime una cuenta regresiva desde el valor absoluto de `x` y también imprime \"hey\" si el número es múltiplo de 3 y contiene el dígito \"3\" podría escribirse así:\n",
        "\n",
        "```python\n",
        "def cuenta_regresiva(x):\n",
        "    if x < 0:\n",
        "        x = x * -1\n",
        "    while x > 0:\n",
        "        if x % 3 == 0:\n",
        "            if \"3\" in str(x):\n",
        "                print(x)\n",
        "                print(\"hey\")\n",
        "        else:\n",
        "            print(x)\n",
        "        x = x - 1\n",
        "```\n",
        "\n",
        "Esto se puede simplificar a:\n",
        "\n",
        "```python\n",
        "def cuenta_regresiva(x):\n",
        "    x = abs(x)\n",
        "    while x:\n",
        "        print(x)\n",
        "        if not x % 3 and \"3\" in str(x):\n",
        "            print(\"hey\")\n",
        "        x -= 1\n",
        "```\n",
        "\n",
        "- `abs()` obtiene el valor absoluto de un número.\n",
        "- `while` interpretará `x` como un booleano, saliendo del bucle cuando llegue a cero.\n",
        "- `print(x)` debe llamarse tanto si `x` es un \"número hey\" como si no lo es. Esto se puede hacer fuera de cualquier declaración `if`, en lugar de dentro de ambas.\n",
        "- Ambas condiciones `x % 3 == 0` y `\"3\" in str(x)` deben ser verdaderas, por lo que se pueden combinar con un `and`.\n",
        "\n",
        "**Bonus:**\n",
        "Un enfoque más \"pythonista\":\n",
        "\n",
        "```python\n",
        "def cuenta_regresiva(x):\n",
        "    for i in range(abs(x), -1, -1):\n",
        "        print(x)\n",
        "        if not x % 3 and \"3\" in str(x):\n",
        "            print(\"hey\")\n",
        "```"
      ],
      "metadata": {
        "id": "MpNyY2GRKKQy"
      }
    },
    {
      "cell_type": "code",
      "source": [
        "# Método 1 Código inicial añadiendo una i en: if n % i == 0:\n",
        "# No es una buena forma de determinar si un número es primo\n",
        "def is_prime(n):\n",
        "\tif n == 0:\n",
        "\t\treturn False\n",
        "\tif n == 1:\n",
        "\t\treturn False\n",
        "\ti = 2\n",
        "\twhile i < n:\n",
        "\t\tif n % i == 0:\n",
        "\t\t\treturn False\n",
        "\t\ti += 1\n",
        "\treturn True\n",
        "\n",
        "# Método 2. Solo hasta la raiz cuadrada\n",
        "def is_prime(n):\n",
        "    if n <= 1:\n",
        "        return False\n",
        "    for i in range(2, int(n**0.5) + 1):\n",
        "        if n % i == 0:\n",
        "            return False\n",
        "    return True\n",
        "\n",
        "# Método 3. En el rango se analizan solo los impares\n",
        "def is_prime(n):\n",
        "    if n < 2:\n",
        "        return False\n",
        "    elif n == 2:\n",
        "        return True\n",
        "    elif n % 2 == 0:\n",
        "        return False\n",
        "    for i in range(3, int(n**0.5) + 1, 2):\n",
        "        if n % i == 0:\n",
        "            return False\n",
        "    return True\n",
        "\n",
        "# Método 4. Código condensado con all\n",
        "def is_prime(n):\n",
        "    return n > 1 and all(n % i != 0 for i in range(2, int(n**0.5) + 1))\n",
        "\n",
        "# Método 5. Analiza el 2 y luego solo los impares\n",
        "def is_prime(n):\n",
        "    return n == 2 or all(n % i != 0 for i in range(3, int(n**0.5) + 1, 2))"
      ],
      "metadata": {
        "id": "N3VTCQFmKKQy"
      },
      "execution_count": null,
      "outputs": []
    },
    {
      "cell_type": "code",
      "source": [
        "print(is_prime(2))\n",
        "print(is_prime(101))\n",
        "print(is_prime(1_000_003))\n",
        "print(is_prime(2 ** 31 - 1))\n",
        "print(is_prime(99))\n",
        "print(is_prime(42))"
      ],
      "metadata": {
        "id": "HHvQKALwKKQy",
        "colab": {
          "base_uri": "https://localhost:8080/"
        },
        "outputId": "bbc1a5b1-6b48-4eb9-fef4-45b92f20bfaf"
      },
      "execution_count": null,
      "outputs": [
        {
          "output_type": "stream",
          "name": "stdout",
          "text": [
            "True\n",
            "True\n",
            "True\n",
            "True\n",
            "False\n",
            "False\n"
          ]
        }
      ]
    },
    {
      "cell_type": "markdown",
      "source": [
        "## Reto 432: Contando adverbios\n",
        "* Counting Adverbs\n",
        "* Los adverbios más fáciles de reconocer en español son los que terminan en -mente.\n",
        "* Cree una función que cuente las palabras que terminan en \"mente\".\n",
        "* Ejemplos:\n",
        "    1. contar_adverbios(\"Lo hizo de forma sencilla.\") ➞ 0\n",
        "    2. contar_adverbios(\"Sigilosamente se colo en su casa y le llamó mentecato.\") ➞ 1\n",
        "    3. contar_adverbios(\"Se levantó ruidosamente y habló atropelladamente.\") ➞ 2\n",
        "    4. contar_adverbios(\"El león se acercó lentamente a su presa y, nuevamente, se avalanzó tranquilamente.\") ➞ 3"
      ],
      "metadata": {
        "id": "ltitQmDRKKZa"
      }
    },
    {
      "cell_type": "code",
      "source": [
        "# Método 1\n",
        "def contar_adverbios(frase):\n",
        "    frase = frase.replace(\",\", \"\").replace(\".\", \"\")\n",
        "    palabras = frase.split()\n",
        "    return sum(1 for palabra in palabras if palabra.endswith(\"mente\"))\n",
        "\n",
        "# Método 2\n",
        "def contar_adverbios(frase):\n",
        "    # Eliminamos comas y puntos de la frase\n",
        "    frase = frase.replace(\",\", \"\").replace(\".\", \"\")\n",
        "\n",
        "    # Dividimos la frase en palabras\n",
        "    palabras = frase.split()\n",
        "\n",
        "    # Inicializamos un contador para las palabras que terminan en \"mente\"\n",
        "    contador = 0\n",
        "\n",
        "    # Recorremos cada palabra\n",
        "    for palabra in palabras:\n",
        "        # Si la palabra termina en \"mente\", incrementamos el contador\n",
        "        if palabra.lower().endswith(\"mente\"):\n",
        "            contador += 1\n",
        "\n",
        "    return contador"
      ],
      "metadata": {
        "id": "yOxHyMbxKKZa"
      },
      "execution_count": null,
      "outputs": []
    },
    {
      "cell_type": "code",
      "source": [
        "print(contar_adverbios(\"Lo hizo de forma sencilla.\"))                                                           # 0\n",
        "print(contar_adverbios(\"Sigilosamente se colo en su casa y le llamó mentecato.\"))                               # 1\n",
        "print(contar_adverbios(\"Se levantó ruidosamente y habló atropelladamente.\"))                                    # 2\n",
        "print(contar_adverbios(\"El león se acercó lentamente a su presa y, nuevamente, se avalanzó tranquilamente.\"))   # 3"
      ],
      "metadata": {
        "id": "q7bgTLszKKZa",
        "colab": {
          "base_uri": "https://localhost:8080/"
        },
        "outputId": "94347ee5-7ad8-4a16-a59a-5b89e30a28c5"
      },
      "execution_count": null,
      "outputs": [
        {
          "output_type": "stream",
          "name": "stdout",
          "text": [
            "0\n",
            "1\n",
            "2\n",
            "3\n"
          ]
        }
      ]
    },
    {
      "cell_type": "markdown",
      "source": [
        "## Reto 433: Gráficos ASCII (Parte 1: Barra de Progreso)\n",
        "* ASCII Charts (Part 1: Progress Bar)\n",
        "* Dado un carácter y un valor entre 0 y 100, devuelve una cadena que representa una barra de progreso simple.\n",
        "* El valor representa un porcentaje.\n",
        "* La barra debe comenzar y terminar con \"|\".\n",
        "* Repite el carácter para llenar la barra, con cada carácter equivalente al 10%.\n",
        "* Utilice espacios para rellenar la barra hasta una longitud de 10 caracteres.\n",
        "* Un solo espacio viene después de la barra, luego un mensaje con el % de completado (por ejemplo, \"Progreso: 60%\").\n",
        "* Si el valor es 100, el mensaje debe ser \"¡Completado!\".\n",
        "* Ejemplos:\n",
        "    1. progress_bar(\"#\", 0) ➞ \"| | Progreso: 0%\"\n",
        "    2. progress_bar(\"=\", 40) ➞ \"|==== | Progreso: 40%\"\n",
        "    3. progress_bar(\"#\", 60) ➞ \"|###### | Progreso: 60%\"\n",
        "    4. progress_bar(\">\", 100) ➞ \"|>>>>>>>>>>| ¡Completado!\""
      ],
      "metadata": {
        "id": "a42FhwZTKKgy"
      }
    },
    {
      "cell_type": "code",
      "source": [
        "# Método 1\n",
        "def progress_bar(character, value):\n",
        "    # Calcula la cantidad de caracteres a imprimir en la barra de progreso\n",
        "    filled_chars = value // 10\n",
        "    # Crea la barra de progreso con el carácter dado\n",
        "    progress = character * filled_chars + ' ' * (10 - filled_chars)\n",
        "    # Crea el mensaje de progreso\n",
        "    if value == 100:\n",
        "        message = \"¡Completado!\"\n",
        "    else:\n",
        "        message = f\"Progreso: {value}%\"\n",
        "    # Retorna la barra de progreso y el mensaje\n",
        "    return f\"|{progress}| {message}\"\n",
        "\n",
        "# Método 2\n",
        "def progress_bar(character, value):\n",
        "    # Calcula la cantidad de caracteres a imprimir en la barra de progreso\n",
        "    filled_chars = value // 10\n",
        "    # Crea la barra de progreso con el carácter dado y espacios\n",
        "    progress = f\"{character * filled_chars: <10}\"\n",
        "    # Crea el mensaje de progreso\n",
        "    message = \"Completed!\" if value == 100 else f\"Progress: {value}%\"\n",
        "    # Retorna la barra de progreso y el mensaje\n",
        "    return f\"|{progress}| {message}\"\n",
        "\n",
        "# Método 3\n",
        "def progress_bar(character, value):\n",
        "    # Calcula la cantidad de caracteres a imprimir en la barra de progreso\n",
        "    filled_chars = value // 10\n",
        "    # Crea la barra de progreso con el carácter dado y espacios\n",
        "    progress = character * filled_chars\n",
        "    # Completa la barra de progreso con espacios hasta una longitud de 10 caracteres\n",
        "    progress = progress.ljust(10)\n",
        "    # Crea el mensaje de progreso\n",
        "    message = \"Completed!\" if value == 100 else f\"Progress: {value}%\"\n",
        "    # Retorna la barra de progreso y el mensaje\n",
        "    return f\"|{progress}| {message}\"\n",
        "\n",
        "# Método 4\n",
        "def progress_bar(character, value):\n",
        "    # Crea la barra de progreso con el carácter dado y espacios\n",
        "    progress = character * (value // 10) + ' ' * (10 - value // 10)\n",
        "    # Crea el mensaje de progreso\n",
        "    message = \"Completed!\" if value == 100 else f\"Progress: {value}%\"\n",
        "    # Retorna la barra de progreso y el mensaje\n",
        "    return f\"|{progress}| {message}\""
      ],
      "metadata": {
        "id": "weROzSbxKKgy"
      },
      "execution_count": null,
      "outputs": []
    },
    {
      "cell_type": "code",
      "source": [
        "print(progress_bar(\"#\", 0))      # \"|          | Progreso: 0%\"\n",
        "print(progress_bar(\"=\", 40))     # \"|====      | Progreso: 40%\"\n",
        "print(progress_bar(\"#\", 60))     # \"|######    | Progreso: 60%\"\n",
        "print(progress_bar(\">\", 100))    # \"|>>>>>>>>>>| ¡Completado!\""
      ],
      "metadata": {
        "id": "XeJ_yYXsKKgy",
        "colab": {
          "base_uri": "https://localhost:8080/"
        },
        "outputId": "1f963562-0b43-4611-c494-63b068bcdeb6"
      },
      "execution_count": null,
      "outputs": [
        {
          "output_type": "stream",
          "name": "stdout",
          "text": [
            "|          | Progress: 0%\n",
            "|====      | Progress: 40%\n",
            "|######    | Progress: 60%\n",
            "|>>>>>>>>>>| Completed!\n"
          ]
        }
      ]
    },
    {
      "cell_type": "markdown",
      "source": [
        "## Reto 434: Ocurrencias de letras por palabra\n",
        "* Letter Occurrences Per Word\n",
        "* Crear una función que tome una oración y un carácter a encontrar.\n",
        "* Devolver un diccionario de cada palabra en la oración, con el número del carácter especificado como el valor.\n",
        "* Ejemplos:\n",
        "    1. find_occurrences(\"Hello World\", \"o\") ➞\n",
        "        - {\n",
        "\"hello\" : 1,\n",
        "\"world\" : 1\n",
        "}\n",
        "    2. find_occurrences(\"Create a nice JUICY function\", \"c\") ➞\n",
        "        - {\n",
        "\"create\" : 1,\n",
        "\"a\" : 0,\n",
        "\"nice\" : 1,\n",
        "\"juicy\" : 1,\n",
        "\"function\" : 1\n",
        "}\n",
        "    3. find_occurrences(\"An APPLE a day keeps an Archeologist AWAY...\", \"A\") ➞\n",
        "        - {\n",
        "\"an\" : 1,\n",
        "\"apple\" : 1,\n",
        "\"a\" : 1,\n",
        "\"day\" : 1,\n",
        "\"keeps\" : 0,\n",
        "\"archeologist\" : 1,\n",
        "\"away...\" : 2\n",
        "}\n",
        "\n",
        "* La función no debe ser sensible a mayúsculas y minúsculas.\n",
        "* Las palabras en el diccionario deben estar en minúsculas.\n",
        "* Es posible que se necesite encontrar puntuación.\n",
        "* Las palabras duplicadas deben ser ignoradas."
      ],
      "metadata": {
        "id": "PW3dG2GVKKnj"
      }
    },
    {
      "cell_type": "code",
      "source": [
        "# Método 1\n",
        "def find_occurrences(sentence, char):\n",
        "    # Convertir la oración a minúsculas y dividirla en palabras\n",
        "    words = sentence.lower().split()\n",
        "\n",
        "    # Crear un diccionario para almacenar las ocurrencias\n",
        "    occurrences = {}\n",
        "\n",
        "    # Iterar sobre cada palabra en la lista de palabras\n",
        "    for word in words:\n",
        "        # Contar las ocurrencias del carácter en la palabra y almacenarlas en el diccionario\n",
        "        occurrences[word] = word.count(char.lower())\n",
        "\n",
        "    # Retornar el diccionario de ocurrencias\n",
        "    return occurrences"
      ],
      "metadata": {
        "id": "Xa8nKq5aKKnj"
      },
      "execution_count": null,
      "outputs": []
    },
    {
      "cell_type": "code",
      "source": [
        "print(find_occurrences(\"Hello World\", \"o\"))\n",
        "print(find_occurrences(\"Create a nice JUICY function\", \"c\"))\n",
        "print(find_occurrences(\"An APPLE a day keeps an Archeologist AWAY...\", \"A\"))"
      ],
      "metadata": {
        "id": "mrkDblQcKKnj",
        "colab": {
          "base_uri": "https://localhost:8080/"
        },
        "outputId": "3e3f14e8-f9d4-47fe-c658-430acae47e4b"
      },
      "execution_count": null,
      "outputs": [
        {
          "output_type": "stream",
          "name": "stdout",
          "text": [
            "{'hello': 1, 'world': 1}\n",
            "{'create': 1, 'a': 0, 'nice': 1, 'juicy': 1, 'function': 1}\n",
            "{'an': 1, 'apple': 1, 'a': 1, 'day': 1, 'keeps': 0, 'archeologist': 1, 'away...': 2}\n"
          ]
        }
      ]
    },
    {
      "cell_type": "markdown",
      "source": [
        "## Reto 435: Factorial Doble\n",
        "* Double Factorial\n",
        "* Cree una función que tome un número num y devuelva su factorial doble.\n",
        "* Matemáticamente, las fórmulas para el factorial doble son las siguientes.\n",
        "    1. Si num es par:\n",
        "        - num !! = num (num - 2)(num - 4)(num - 6) ... (4)(2)\n",
        "    2. Si num es impar:\n",
        "        - num !! = num (num - 2)(num - 4)(num - 6) ... (3)(1)\n",
        "    3. Si num = 0 o num = -1, entonces num !! = 1 por convención.\n",
        "\n",
        "* Ejemplos:\n",
        "    1. double_factorial(0) ➞ 1\n",
        "    2. double_factorial(2) ➞ 2\n",
        "    3. double_factorial(9) ➞ 945\n",
        "    4. double_factorial(14) ➞ 645120\n",
        "\n",
        "* Supón que todos los valores de entrada son mayores o iguales a -1.\n",
        "* Intenta resolverlo con recursión.\n",
        "* El factorial doble no es lo mismo que el factorial * 2."
      ],
      "metadata": {
        "id": "s4LZ29zOKKtx"
      }
    },
    {
      "cell_type": "code",
      "source": [
        "# Método 1. Función iterativa\n",
        "def double_factorial(n):\n",
        "    if n <= 1:\n",
        "        return 1    # por definición es 1\n",
        "    else:\n",
        "        fact = 1\n",
        "        for i in range(n, 1, -2):\n",
        "            fact *= i\n",
        "        return fact\n",
        "\n",
        "# Método 2. Función recursiva\n",
        "def double_factorial(n):\n",
        "     if n <= 0:                 # Caso base: factorial doble de 0 o -1 es 1\n",
        "         return 1\n",
        "     else:\n",
        "         return n * double_factorial(n-2)\n",
        "\n",
        "# Método 3. Con librerías\n",
        "from functools import reduce\n",
        "import operator\n",
        "\n",
        "def double_factorial(num):\n",
        "    if num == 0 or num == -1:  # Caso base: factorial doble de 0 o -1 es 1\n",
        "        return 1\n",
        "    else:\n",
        "        return reduce(operator.mul, range(num, 0, -2))\n",
        "\n",
        "# Método 4\n",
        "def double_factorial(num):\n",
        "    if num == 0 or num == -1:  # Caso base: factorial doble de 0 o -1 es 1\n",
        "        return 1\n",
        "    else:\n",
        "        return reduce(lambda x, y: x * y, range(num, 0, -2))\n",
        "\n",
        "# Método 5. Función Lambda recursiva\n",
        "double_factorial = lambda n: --(n <= 0) or n * double_factorial(n-2)"
      ],
      "metadata": {
        "id": "khpCuV6QKKtx"
      },
      "execution_count": null,
      "outputs": []
    },
    {
      "cell_type": "code",
      "source": [
        "print(double_factorial(-1))  # 1\n",
        "print(double_factorial(0))   # 1\n",
        "print(double_factorial(1))   # 1\n",
        "print(double_factorial(2))   # 2\n",
        "print(double_factorial(3))   # 3\n",
        "print(double_factorial(4))   # 8\n",
        "print(double_factorial(9))   # 945\n",
        "print(double_factorial(14))  # 645120\n",
        "print(double_factorial(100)) # 34243224702511976248246432895208185975118675053719198827915654463488000000000000"
      ],
      "metadata": {
        "id": "HqqVth6vKKtx",
        "colab": {
          "base_uri": "https://localhost:8080/"
        },
        "outputId": "f41e0842-396b-4921-b70b-b8196f55362b"
      },
      "execution_count": null,
      "outputs": [
        {
          "output_type": "stream",
          "name": "stdout",
          "text": [
            "1\n",
            "1\n",
            "1\n",
            "2\n",
            "3\n",
            "8\n",
            "945\n",
            "645120\n",
            "34243224702511976248246432895208185975118675053719198827915654463488000000000000\n"
          ]
        }
      ]
    },
    {
      "cell_type": "markdown",
      "source": [
        "## Reto 436: Equivalentes Enarmónicos\n",
        "* Enharmonic Equivalents\n",
        "* En música, las notas pueden escribirse de múltiples maneras (especialmente para las notas en los teclados negros).\n",
        "* Aunque estas notas se deletrean de manera diferente, siguen siendo la misma nota físicamente.\n",
        "\n",
        "<img src=\"https://github.com/financieras/curso_python/blob/main/niveles/img/piano.png?raw=1\" alt=\"Tres vasos\" width=\"250\"/>\n",
        "\n",
        "\n",
        "C# = Db, D# = Eb, F# = Gb, G# = Ab, A# = Bb\n",
        "\n",
        "* Dada una nota musical, crea una función que devuelva su equivalente enarmónico.\n",
        "* Ejemplos:\n",
        "    1. get_equivalent(\"D#\") ➞ \"Eb\"\n",
        "    2. get_equivalent(\"Gb\") ➞ \"F#\"\n",
        "    3. get_equivalent(\"Bb\") ➞ \"A#\"\n",
        "\n",
        "* Los nombres de las notas siempre serán una letra mayúscula seguida de # o b.\n",
        "* Recuerda que la nota después de G es A y viceversa."
      ],
      "metadata": {
        "id": "VFFIzH2dKK0H"
      }
    },
    {
      "cell_type": "code",
      "source": [
        "# Método 1\n",
        "def get_equivalent(note):\n",
        "    enharmonic_equivalents = {\n",
        "        \"C#\": \"Db\",\n",
        "        \"D#\": \"Eb\",\n",
        "        \"F#\": \"Gb\",\n",
        "        \"G#\": \"Ab\",\n",
        "        \"A#\": \"Bb\",\n",
        "        \"Db\": \"C#\",\n",
        "        \"Eb\": \"D#\",\n",
        "        \"Gb\": \"F#\",\n",
        "        \"Ab\": \"G#\",\n",
        "        \"Bb\": \"A#\"\n",
        "    }\n",
        "    return enharmonic_equivalents.get(note, \"Nota no válida\")\n",
        "\n",
        "# Método 2\n",
        "def get_equivalent(note):\n",
        "    # Diccionario de equivalencias enarmónicas\n",
        "    enharmonic_equivalents = {\n",
        "        \"C#\": \"Db\",\n",
        "        \"D#\": \"Eb\",\n",
        "        \"F#\": \"Gb\",\n",
        "        \"G#\": \"Ab\",\n",
        "        \"A#\": \"Bb\",\n",
        "        \"Db\": \"C#\",\n",
        "        \"Eb\": \"D#\",\n",
        "        \"Gb\": \"F#\",\n",
        "        \"Ab\": \"G#\",\n",
        "        \"Bb\": \"A#\"\n",
        "    }\n",
        "    # Busca la nota en el diccionario de equivalencias\n",
        "    if note in enharmonic_equivalents:\n",
        "        return enharmonic_equivalents[note]\n",
        "    else:\n",
        "        return \"Nota no válida\"\n",
        "\n",
        "# Método 3\n",
        "def get_equivalent(note):\n",
        "    # Lista de notas enarmónicas\n",
        "    enharmonic_equivalents = [\n",
        "        (\"C#\", \"Db\"),\n",
        "        (\"D#\", \"Eb\"),\n",
        "        (\"F#\", \"Gb\"),\n",
        "        (\"G#\", \"Ab\"),\n",
        "        (\"A#\", \"Bb\")\n",
        "    ]\n",
        "    # Comprueba si la nota es sostenida (#) o bemol (b)\n",
        "    if '#' in note:\n",
        "        for sharp, flat in enharmonic_equivalents:\n",
        "            if sharp == note:\n",
        "                return flat\n",
        "    elif 'b' in note:\n",
        "        for sharp, flat in enharmonic_equivalents:\n",
        "            if flat == note:\n",
        "                return sharp\n",
        "    return \"Nota no válida\""
      ],
      "metadata": {
        "id": "W1LYOLY-KK0H"
      },
      "execution_count": null,
      "outputs": []
    },
    {
      "cell_type": "code",
      "source": [
        "print(get_equivalent(\"D#\"))  # Eb\n",
        "print(get_equivalent(\"Gb\"))  # F#\n",
        "print(get_equivalent(\"Bb\"))  # A#"
      ],
      "metadata": {
        "id": "-V3auLj3KK0H",
        "colab": {
          "base_uri": "https://localhost:8080/"
        },
        "outputId": "81392835-99a2-4a9a-98ff-e9540f4601b2"
      },
      "execution_count": null,
      "outputs": [
        {
          "output_type": "stream",
          "name": "stdout",
          "text": [
            "Eb\n",
            "F#\n",
            "A#\n"
          ]
        }
      ]
    },
    {
      "cell_type": "markdown",
      "source": [
        "## Reto 437: ¿Quién es el más viejo?\n",
        "* Who's The Oldest?\n",
        "* Dado un diccionario que contiene los nombres y edades de un grupo de personas, devuelva el nombre de la persona más vieja.\n",
        "* Ejemplos:\n",
        "    1. oldest({\n",
        "\"Emma\": 71,\n",
        "\"Jack\": 45,\n",
        "\"Amy\": 15,\n",
        "\"Ben\": 29\n",
        "}) ➞ \"Emma\"\n",
        "    2. oldest({\n",
        "\"Max\": 9,\n",
        "\"Josh\": 13,\n",
        "\"Sam\": 48,\n",
        "\"Anne\": 33\n",
        "}) ➞ \"Sam\"\n",
        "\n",
        "* Todas las edades serán diferentes."
      ],
      "metadata": {
        "id": "w5B5Xs4dKK6d"
      }
    },
    {
      "cell_type": "code",
      "source": [
        "# Método 1\n",
        "def oldest(d):\n",
        "    nombre = \"\"\n",
        "    max_edad = 0\n",
        "    for clave in d:\n",
        "        if d[clave] > max_edad:\n",
        "            max_edad = d[clave]\n",
        "            nombre = clave\n",
        "    return nombre\n",
        "\n",
        "# Método 2\n",
        "def oldest(d):\n",
        "    return max(d, key=d.get)\n",
        "\n",
        "# Método 3. Creando una copia ordenada del diccionario\n",
        "def oldest(d):\n",
        "    # Ordena el diccionario por valores (edades) de forma descendente\n",
        "    sorted_people = sorted(d.items(), key=lambda x: x[1], reverse=True)\n",
        "    # Devuelve el nombre de la persona más vieja (primer elemento de la lista ordenada)\n",
        "    return sorted_people[0][0]\n",
        "\n",
        "# Desde la versión 3.7 de Python los diccionarios conservan el orden de inserción\n",
        "# La función sorted() aplicada a un diccionario no ordena el diccionario original\n",
        "# lo que hace es crear una copia ordenada del diccionario original\n",
        "\n",
        "# Método 4\n",
        "def oldest(people):\n",
        "    # Utiliza max() con una expresión generadora para obtener el nombre de la persona más vieja\n",
        "    oldest_person = max(people, key=lambda x: people[x])\n",
        "    return oldest_person\n",
        "\n",
        "# Método 5\n",
        "def oldest(people):\n",
        "    oldest_person = None\n",
        "    max_age = float(\"-inf\")  # Inicializa la edad máxima como el valor negativo más grande posible\n",
        "    # Itera sobre el diccionario de personas\n",
        "    for name, age in people.items():\n",
        "        # Si la edad actual es mayor que la edad máxima encontrada hasta ahora\n",
        "        if age > max_age:\n",
        "            max_age = age  # Actualiza la edad máxima\n",
        "            oldest_person = name  # Actualiza el nombre de la persona más vieja\n",
        "    return oldest_person"
      ],
      "metadata": {
        "id": "uv9pl1aFKK6d"
      },
      "execution_count": null,
      "outputs": []
    },
    {
      "cell_type": "code",
      "source": [
        "people1 = {\n",
        "  \"Emma\": 71,\n",
        "  \"Jack\": 45,\n",
        "  \"Amy\": 15,\n",
        "  \"Ben\": 29\n",
        "}\n",
        "\n",
        "people2 = {\n",
        "  \"Max\": 9,\n",
        "  \"Josh\": 13,\n",
        "  \"Sam\": 48,\n",
        "  \"Anne\": 33\n",
        "}\n",
        "\n",
        "print(oldest(people1))  # Emma\n",
        "print(oldest(people2))  # Sam"
      ],
      "metadata": {
        "id": "mYErrFgIKK6e",
        "colab": {
          "base_uri": "https://localhost:8080/"
        },
        "outputId": "6f00e820-095f-4dda-eb45-90247788ab70"
      },
      "execution_count": null,
      "outputs": [
        {
          "output_type": "stream",
          "name": "stdout",
          "text": [
            "Emma\n",
            "Sam\n"
          ]
        }
      ]
    },
    {
      "cell_type": "markdown",
      "source": [
        "## Reto 438: MCD (máximo común divisor) por recursión\n",
        "* Recursion: GCD\n",
        "* Escriba una función que calcule el MCD (Máximo Común Divisor) de dos números de manera recursiva.\n",
        "* Ejemplos:\n",
        "    1. gcd(10, 20) ➞ 10\n",
        "    2. gcd(1, 3) ➞ 1\n",
        "    3. gcd(5, 7) ➞ 1\n",
        "    4. gcd(2, 6) ➞ 2\n",
        "    5. gcd(180, 1032) ➞ 12\n",
        "    6. gcd(300, 33880) ➞ 20\n",
        "* Nota\n",
        "- gcd = greatest common divisor\n",
        "- El máximo común divisor de dos números x e y es el mayor número capaz de dividir a ambos de forma exacta."
      ],
      "metadata": {
        "id": "YqPFE6tBKLAz"
      }
    },
    {
      "cell_type": "code",
      "source": [
        "# Método 1. Usando librería\n",
        "from math import gcd\n",
        "\n",
        "# Método 2. Por recursión\n",
        "def gcd(x , y):\n",
        "    if y == 0:\n",
        "        return x\n",
        "    else:\n",
        "        return gcd(y, x % y)\n",
        "\n",
        "# Método 3. Algoritmo de Euclides\n",
        "def gcd(a, b):\n",
        "    if b == 0:\n",
        "        return a\n",
        "    else:\n",
        "        return gcd(b, a % b)\n",
        "\n",
        "# Método 4. Función Lambda recursiva con operador ternario\n",
        "gcd = lambda a, b: a if b == 0 else gcd(b, a % b)\n",
        "\n",
        "# Método 5. Función recursiva. Método de la resta\n",
        "def gcd(a, b):\n",
        "    # Caso base: Si los números son iguales, el MCD es ese número.\n",
        "    if a == b:\n",
        "        return a\n",
        "    # Si 'a' es mayor que 'b', resta 'b' de 'a' y llama recursivamente a la función.\n",
        "    if a > b:\n",
        "        return gcd(a - b, b)\n",
        "    # Si 'b' es mayor que 'a', resta 'a' de 'b' y llama recursivamente a la función.\n",
        "    return gcd(a, b - a)\n",
        "\n",
        "# Este método funciona al restar el número más pequeño del más grande repetidamente\n",
        "# hasta que ambos números sean iguales, lo que indica que ese número es el MCD."
      ],
      "metadata": {
        "id": "QKWCLjZDKLAz"
      },
      "execution_count": null,
      "outputs": []
    },
    {
      "cell_type": "code",
      "source": [
        "print(gcd(10, 20))     # 10\n",
        "print(gcd(1, 3))       # 1\n",
        "print(gcd(5, 7))       # 1\n",
        "print(gcd(2, 6))       # 2\n",
        "print(gcd(180, 1032))  # 12\n",
        "print(gcd(300, 33880)) # 20"
      ],
      "metadata": {
        "id": "P2h7syGAKLAz",
        "colab": {
          "base_uri": "https://localhost:8080/"
        },
        "outputId": "54f569c4-62c9-4558-f003-04939a863752"
      },
      "execution_count": null,
      "outputs": [
        {
          "output_type": "stream",
          "name": "stdout",
          "text": [
            "10\n",
            "1\n",
            "1\n",
            "2\n",
            "12\n",
            "20\n"
          ]
        }
      ]
    },
    {
      "cell_type": "markdown",
      "source": [
        "## Reto 439: Eliminar elementos duplicados circundantes\n",
        "* Remove Surrounding Duplicate Items\n",
        "* Cree una función que tome una secuencia de cadenas o enteros, elimine los duplicados circundantes y devuelva una lista de elementos sin ningún elemento con el mismo valor al lado y preserve el orden original de los elementos.\n",
        "* Ejemplos:\n",
        "    1. unique_in_order(\"AAAABBBCCDAABBB\") ➞ [\"A\", \"B\", \"C\", \"D\", \"A\", \"B\"]\n",
        "    2. unique_in_order(\"ABBCcAD\") ➞ [\"A\", \"B\", \"C\", \"c\", \"A\", \"D\"]\n",
        "    3. unique_in_order([1, 2, 2, 3, 3]) ➞ [1, 2, 3]\n",
        "\n",
        "* La secuencia inicial de elementos puede ser una cadena o una lista.\n",
        "* Las pruebas distinguen entre mayúsculas y minúsculas."
      ],
      "metadata": {
        "id": "6Wn7DnokKLIM"
      }
    },
    {
      "cell_type": "code",
      "source": [
        "# Método 1\n",
        "def unique_in_order(sequence):\n",
        "    lista = [sequence[0]]             # Inicializamos la lista con el primer elemento\n",
        "    for i in range(1, len(sequence)):\n",
        "        if sequence[i] != lista[-1]:  # Comparamos el elemento actual con el último de la lista\n",
        "            lista.append(sequence[i]) # # Si son diferentes, lo agregamos a la lista\n",
        "    return lista\n",
        "\n",
        "# Método 2\n",
        "def unique_in_order(sequence):\n",
        "    if not sequence:\n",
        "        return []\n",
        "    lista = [sequence[0]]                # Inicializamos la lista con el primer elemento\n",
        "    for i in range(1, len(sequence)):\n",
        "        if sequence[i] != sequence[i-1]: # Comparamos el elemento actual con el anterior\n",
        "            lista.append(sequence[i])    # Si son diferentes, lo agregamos a la lista\n",
        "    return lista\n",
        "\n",
        "# Método 3\n",
        "def unique_in_order(sequence):\n",
        "    return [sequence[i] for i in range(len(sequence)) if i == 0 or sequence[i] != sequence[i - 1]]\n",
        "\n",
        "# Método 4\n",
        "\n",
        "from itertools import groupby\n",
        "\n",
        "def unique_in_order(sequence):\n",
        "    return [key for key, _ in groupby(sequence)]\n",
        "\n",
        "# Método 5\n",
        "def unique_in_order(sequence):\n",
        "    if isinstance(sequence, str):\n",
        "        sequence = list(sequence)  # Convertir la cadena en una lista\n",
        "    return [x for x, y in zip(sequence, sequence[1:] + [None]) if x != y]\n",
        "\n",
        "# Método 6. Función recursiva\n",
        "def unique_in_order(sequence):\n",
        "    if isinstance(sequence, str):\n",
        "        sequence = list(sequence)  # Convertir la cadena en una lista si es necesario\n",
        "    if not sequence:\n",
        "        return []\n",
        "    if len(sequence) == 1:\n",
        "        return sequence\n",
        "    if sequence[0] == sequence[1]:\n",
        "        return unique_in_order(sequence[1:])\n",
        "    else:\n",
        "        return [sequence[0]] + unique_in_order(sequence[1:])\n",
        "\n",
        "# Método 7. Solución eficiente y concisa\n",
        "def unique_in_order(sequence):\n",
        "    if isinstance(sequence, str):\n",
        "        sequence = list(sequence)  # Convertir la cadena en una lista si es necesario\n",
        "    if not sequence:\n",
        "        return []\n",
        "    return [sequence[0]] + [sequence[i] for i in range(1, len(sequence)) if sequence[i] != sequence[i-1]]"
      ],
      "metadata": {
        "id": "nmM2H56-KLIN"
      },
      "execution_count": null,
      "outputs": []
    },
    {
      "cell_type": "code",
      "source": [
        "print(unique_in_order(\"AAAABBBCCDAABBB\"))  # [\"A\", \"B\", \"C\", \"D\", \"A\", \"B\"]\n",
        "print(unique_in_order(\"ABBCcAD\"))         # [\"A\", \"B\", \"C\", \"c\", \"A\", \"D\"]\n",
        "print(unique_in_order([1, 2, 2, 3, 3]))   # [1, 2, 3]"
      ],
      "metadata": {
        "id": "ER1D-sOMKLIN",
        "colab": {
          "base_uri": "https://localhost:8080/"
        },
        "outputId": "15492d58-52a3-4d3b-9c4d-0c7860fb9bcd"
      },
      "execution_count": null,
      "outputs": [
        {
          "output_type": "stream",
          "name": "stdout",
          "text": [
            "['A', 'B', 'C', 'D', 'A', 'B']\n",
            "['A', 'B', 'C', 'c', 'A', 'D']\n",
            "[1, 2, 3]\n"
          ]
        }
      ]
    },
    {
      "cell_type": "markdown",
      "source": [
        "## Reto 440: Interruptor Alternante\n",
        "* Flick Switch\n",
        "* Cree una función que siempre devuelva `True` para cada elemento en una lista dada.\n",
        "* Sin embargo, si un elemento es la palabra \"flick\", cambia para devolver siempre el valor booleano opuesto.\n",
        "* Ejemplos:\n",
        "    1. flick_switch([\"agua\", \"flick\", \"cafe\", \"té\"]) ➞ [True, False, False, False]\n",
        "    2. flick_switch([\"flick\", 12, 3.14, -1]) ➞ [False, False, False, False]\n",
        "    3.flick_switch([False, False, \"flick\", \"duck\", \"flick\"]) ➞ [True, True, False, False, True]\n",
        "\n",
        "* \"flick\" siempre se dará en minúsculas.\n",
        "* Una lista puede contener múltiples \"flicks\".\n",
        "* Cambia el valor booleano en el mismo elemento que el \"flick\" mismo."
      ],
      "metadata": {
        "id": "OIidk6MOKLPk"
      }
    },
    {
      "cell_type": "code",
      "source": [
        "# Método 1\n",
        "def flick_switch(lista):\n",
        "    result = []\n",
        "    flag = True  # Empezamos con True\n",
        "    for elemento in lista:\n",
        "        if elemento == \"flick\":\n",
        "            flag = not(flag)  # Cambiamos el estado\n",
        "        result.append(flag)\n",
        "    return result\n",
        "\n",
        "# Método 2. Usando el operador Morsa introducido en Python 3.8.\n",
        "def flick_switch(lista):\n",
        "    flag = False\n",
        "    return [flag := not flag if item == \"flick\" else flag for item in lista]"
      ],
      "metadata": {
        "id": "FDDJ9fSOKLPk"
      },
      "execution_count": null,
      "outputs": []
    },
    {
      "cell_type": "code",
      "source": [
        "print(flick_switch([\"agua\", \"flick\", \"cafe\", \"té\"]))\n",
        "print(flick_switch([\"flick\", 12, 3.14, -1]))\n",
        "print(flick_switch([False, False, \"flick\", \"duck\", \"flick\"]))"
      ],
      "metadata": {
        "id": "yrQw27_PKLPk",
        "colab": {
          "base_uri": "https://localhost:8080/"
        },
        "outputId": "fa451c79-85bf-4098-9b67-6f4bba549cf5"
      },
      "execution_count": null,
      "outputs": [
        {
          "output_type": "stream",
          "name": "stdout",
          "text": [
            "[False, True, True, True]\n",
            "[True, True, True, True]\n",
            "[False, False, True, True, False]\n"
          ]
        }
      ]
    },
    {
      "cell_type": "markdown",
      "source": [
        " ## Reto 441: Derivada de una Función\n",
        "* Derivative of a Function\n",
        "* Cree una función que tome los números $b$ y $m$ como argumentos y devuelva la derivada de la función $f(x) = x^b$ con respecto a $x$ evaluada en $x = m$, donde $b$ y $m$ son constantes.\n",
        "* La fórmula utilizada para calcular la derivada es $f'(x) = b \\cdot m^{(b-1)}$.\n",
        "* Ejemplos:\n",
        "    1. derivative(1, 4) ➞ 1\n",
        "    2. derivative(3, -2) ➞ 12\n",
        "    3. derivative(4, -3) ➞ -108"
      ],
      "metadata": {
        "id": "zBwUd6u1Kda2"
      }
    },
    {
      "cell_type": "code",
      "source": [
        "# Método 1\n",
        "def derivative(b, m):\n",
        "    return b * m ** (b-1)"
      ],
      "metadata": {
        "id": "w0XM8KGMKda2"
      },
      "execution_count": null,
      "outputs": []
    },
    {
      "cell_type": "code",
      "source": [
        "print(derivative(1, 4))  # 1\n",
        "print(derivative(3, -2)) # 12\n",
        "print(derivative(4, -3)) # -108"
      ],
      "metadata": {
        "id": "PL9FDFyUKda2",
        "colab": {
          "base_uri": "https://localhost:8080/"
        },
        "outputId": "cdc47a1e-a77c-4a7a-f096-dcc270c72ed1"
      },
      "execution_count": null,
      "outputs": [
        {
          "output_type": "stream",
          "name": "stdout",
          "text": [
            "1\n",
            "12\n",
            "-108\n"
          ]
        }
      ]
    },
    {
      "cell_type": "markdown",
      "source": [
        "## Reto 442: Encontrar Nodos Adyacentes\n",
        "* Finding Adjacent Nodes\n",
        "* Un grafo es un conjunto de nodos y aristas que conectan esos nodos.\n",
        "* Hay dos tipos de grafos: dirigidos y no dirigidos.\n",
        "* En un grafo no dirigido, las aristas entre nodos no tienen una dirección particular (como una calle de doble sentido), mientras que en un grafo dirigido, cada arista tiene una dirección asociada (como una calle de un solo sentido).\n",
        "* Para que dos nodos en un grafo sean considerados adyacentes entre sí, debe haber una arista entre ellos. En el ejemplo dado anteriormente, los nodos 0 y 1 son adyacentes, pero los nodos 0 y 2 no lo son.\n",
        "* Podemos codificar grafos usando una matriz de adyacencia.\n",
        "* Una matriz de adyacencia para un grafo con \"n\" nodos es una matriz \"n * n\" donde la entrada en la fila \"i\" y la columna \"j\" es un 0 si los nodos \"i\" y \"j\" no son adyacentes, y 1 si los nodos \"i\" y \"j\" son adyacentes.\n",
        "\n",
        "<img src=\"https://drive.google.com/uc?export=view&id=1Z5_UGVTFoWscvqTaRlSq0yI5wSj20-Hf\" alt=\"raspberry pi\" width=\"300\">\n",
        "\n",
        "* Para el ejemplo anterior, la matriz de adyacencia sería la siguiente:\n",
        "```python\n",
        "[\n",
        "[ 0, 1, 0, 0 ],\n",
        "[ 1, 0, 1, 1 ],\n",
        "[ 0, 1, 0, 1 ],\n",
        "[ 0, 1, 1, 0 ]\n",
        "]\n",
        "```\n",
        "* Un 1 indica que una conexión es verdadera y un 0 indica que una conexión es falsa.\n",
        "* Así es como el modelo anterior podría escribirse:\n",
        "    1. En la primera fila, el nodo 0 no se conecta consigo mismo, pero sí se conecta al nodo 1. No se conecta al nodo 2 o al nodo 3. La fila se escribe como 0, 1, 0, 0.\n",
        "    2. En la segunda fila, el nodo 1 se conecta al nodo 0, al nodo 2 y al nodo 3, pero no se conecta consigo mismo. La fila se escribe como 1, 0, 1, 1.\n",
        "    3. En la tercera fila, el nodo 2 no se conecta al nodo 0, pero sí se conecta al nodo 1, no se conecta consigo mismo y sí se conecta al nodo 3. La fila se escribe como 0, 1, 0, 1.\n",
        "    4. En la cuarta fila, el nodo 3 no se conecta al nodo 0, pero sí se conecta al nodo 1 y al nodo 2. No se conecta consigo mismo. La fila se escribe como 0, 1, 1, 0.\n",
        "* Su tarea es determinar si dos nodos son adyacentes en un grafo no dirigido cuando se proporciona la matriz de adyacencia y los dos nodos.\n",
        "* Ejemplos:\n",
        "    1. Ejemplo de Grafo 1\n",
        "\n",
        "<img src=\"https://drive.google.com/uc?export=view&id=1Z5_UGVTFoWscvqTaRlSq0yI5wSj20-Hf\" alt=\"raspberry pi\" width=\"300\">\n",
        "\n",
        "* Matriz de Adyacencia:\n",
        "```python\n",
        "[\n",
        "[ 0, 1, 0, 0 ],\n",
        "[ 1, 0, 1, 1 ],\n",
        "[ 0, 1, 0, 1 ],\n",
        "[ 0, 1, 1, 0 ]\n",
        "]\n",
        "```\n",
        "    - Los nodos 0,1 deberían devolver `True`.\n",
        "    - Los nodos 0,2 deberían devolver `False`.\n",
        "\n",
        "    2. Ejemplo de Grafo 2\n",
        "\n",
        "<img src=\"https://drive.google.com/uc?export=view&id=1kULuy8BQcUj_-vnbpIbvYYMCdxq2zALH\" alt=\"raspberry pi\" width=\"400\">\n",
        "\n",
        "* Matriz de Adyacencia:\n",
        "```python\n",
        "[\n",
        "[ 0, 1, 0, 1, 1 ],\n",
        "[ 1, 0, 1, 0, 0 ],\n",
        "[ 0, 1, 0, 1, 0 ],\n",
        "[ 1, 0, 1, 0, 1 ],\n",
        "[ 1, 0, 0, 1, 0 ]\n",
        "]\n",
        "```\n",
        "    - Los nodos 0,3 deberían devolver `True`.\n",
        "    - Los nodos 1,4 deberían devolver `False`."
      ],
      "metadata": {
        "id": "IkMLgN0uKdjd"
      }
    },
    {
      "cell_type": "code",
      "source": [
        "# Método 1\n",
        "def son_adyacentes(matriz, nodo1, nodo2):\n",
        "    return bool(matriz[nodo1][nodo2])\n",
        "\n",
        "# Método 2\n",
        "def son_adyacentes(matriz, nodo1, nodo2):\n",
        "    return matriz[nodo1][nodo2] == 1"
      ],
      "metadata": {
        "id": "Kwa_K7Z9Kdje"
      },
      "execution_count": null,
      "outputs": []
    },
    {
      "cell_type": "code",
      "source": [
        "# Ejemplo 1 de matriz de adyacencia\n",
        "matriz1 = [\n",
        "    [0, 1, 0, 0],\n",
        "    [1, 0, 1, 1],\n",
        "    [0, 1, 0, 1],\n",
        "    [0, 1, 1, 0]\n",
        "]\n",
        "\n",
        "# Casos del Ejemplo 1 de comprobación de adyacencia\n",
        "print(son_adyacentes(matriz1, 0, 1))  # True\n",
        "print(son_adyacentes(matriz1, 0, 2))  # False\n",
        "\n",
        "# Ejemplo 2 de matriz de adyacencia\n",
        "matriz2 = [\n",
        "[ 0, 1, 0, 1, 1 ],\n",
        "[ 1, 0, 1, 0, 0 ],\n",
        "[ 0, 1, 0, 1, 0 ],\n",
        "[ 1, 0, 1, 0, 1 ],\n",
        "[ 1, 0, 0, 1, 0 ]\n",
        "]\n",
        "\n",
        "# Casos del Ejemplo 2 de comprobación de adyacencia\n",
        "print(son_adyacentes(matriz2, 0, 3))  # True\n",
        "print(son_adyacentes(matriz2, 1, 4))  # False"
      ],
      "metadata": {
        "id": "gfNwHXVyKdje",
        "colab": {
          "base_uri": "https://localhost:8080/"
        },
        "outputId": "3a27a34d-3714-47be-8332-6078099b2db1"
      },
      "execution_count": null,
      "outputs": [
        {
          "output_type": "stream",
          "name": "stdout",
          "text": [
            "True\n",
            "False\n",
            "True\n",
            "False\n"
          ]
        }
      ]
    },
    {
      "cell_type": "markdown",
      "source": [
        "## Reto 443: Virtual DAC\n",
        "* Virtual DAC\n",
        "* En electrónica, un convertidor digital-analógico (DAC, D/A o D-a\n",
        "to-A) es un sistema que convierte una representación binaria de una señal en una salida analógica.\n",
        "* Un convertidor de 8 bits puede representar un máximo de 2^8 valores diferentes, con cada valor sucesivo diferenciándose en 1/256 del valor de escala completa, lo que se convierte en la resolución del sistema.\n",
        "* Cree una función que tome una representación decimal de un número de señal y devuelva el nivel de voltaje analógico que se crearía mediante un DAC si se le diera el mismo número en binario.\n",
        "* Mientras que el rango de valor es de 0 a 1023, el rango de referencia es de 0 a 5.00 voltios. El valor y la referencia son directamente proporcionales.\n",
        "* Este DAC tiene 10 bits de resolución y la referencia del DAC está configurada en 5.00 voltios.\n",
        "* Ejemplos:\n",
        "    1. v_DAC(0) ➞ 0\n",
        "    2. v_DAC(1023) ➞ 5\n",
        "    3. v_DAC(400) ➞ 1.96\n",
        "    4. v_DAC(512) ➞ 2.5\n",
        "\n",
        "* Debes devolver tu valor redondeado a dos decimales."
      ],
      "metadata": {
        "id": "wpBtuBE_KdrQ"
      }
    },
    {
      "cell_type": "code",
      "source": [
        "# Método 1\n",
        "def v_DAC(value):\n",
        "    if 0 <= value < 1024:\n",
        "        return round(value / 1023 * 5, 2)\n",
        "    return \"valor fuera de rango\"\n",
        "\n",
        "# Método 2\n",
        "def v_DAC(value):\n",
        "    a = (value / 1023 * 5)\n",
        "    return f\"{a:.2f}\"\n",
        "\n",
        "# Método 3\n",
        "def v_DAC(n):\n",
        "    return f'{n * 5 / 1023:.2f}'\n",
        "\n",
        "# Método 4\n",
        "def v_DAC(n):\n",
        "    return round(n * 5 / (2 ** 10 - 1), 2)"
      ],
      "metadata": {
        "id": "pPkoQMDjKdrR"
      },
      "execution_count": null,
      "outputs": []
    },
    {
      "cell_type": "code",
      "source": [
        "print(v_DAC(0))\n",
        "print(v_DAC(1023))\n",
        "print(v_DAC(400))\n",
        "print(v_DAC(512))"
      ],
      "metadata": {
        "id": "wW60bcRwKdrR",
        "outputId": "ffd1db8c-c141-4ee1-c2a2-c59eceb76641",
        "colab": {
          "base_uri": "https://localhost:8080/"
        }
      },
      "execution_count": null,
      "outputs": [
        {
          "output_type": "stream",
          "name": "stdout",
          "text": [
            "0.0\n",
            "5.0\n",
            "1.96\n",
            "2.5\n"
          ]
        }
      ]
    },
    {
      "cell_type": "markdown",
      "source": [
        "## Reto 444: Python Ebrio\n",
        "* Drunken Python\n",
        "* Python se emborrachó y las funciones integradas str() e int() están actuando de manera extraña:\n",
        "    - str(4) ➞ 4\n",
        "    - str(\"4\") ➞ 4\n",
        "    - int(\"4\") ➞ \"4\"\n",
        "    - int(4) ➞ \"4\"\n",
        "* Necesita crear dos funciones para sustituir `str()` e `int()`.\n",
        "* Una función llamada `int_to_str()` que convierte enteros en cadenas y una función llamada `str_to_int()` que convierte cadenas en enteros.\n",
        "* Ejemplos:\n",
        "    1. int_to_str(4) ➞ \"4\"\n",
        "    2. int_to_str(29348) ➞ \"29348\"\n",
        "    3. str_to_int(\"4\") ➞ 4\n",
        "    4. str_to_int(\"29348\") ➞ 29348\n",
        "\n",
        "* Esto pretende ilustrar los peligros de usar nombres de funciones ya existentes."
      ],
      "metadata": {
        "id": "_7YpcfgHKdyO"
      }
    },
    {
      "cell_type": "code",
      "source": [
        "######################### FUNCIÓN str_to_int #########################\n",
        "\n",
        "# Método 1\n",
        "def str_to_int(string):\n",
        "    return int(string)\n",
        "\n",
        "# Método 2\n",
        "str_to_int = lambda string: int(string)\n",
        "\n",
        "# Método 3. Si usar int\n",
        "def str_to_int(string):\n",
        "    return eval(string)\n",
        "\n",
        "# Método 4\n",
        "def str_to_int(num_str):\n",
        "    dec_places = {11: 10000000000, 10: 1000000000, 9: 100000000, 8: 10000000, 7: 1000000, 6: 100000, 5: 10000, 4: 1000,\n",
        "                  3: 100, 2: 10, 1: 1}\n",
        "    char_digit = {'0': 0, '1': 1, '2': 2, '3': 3, '4': 4, '5': 5, '6': 6, '7': 7, '8': 8, '9': 9}\n",
        "    num = 0\n",
        "    length = len(num_str)\n",
        "    for i in range(length):\n",
        "        x = char_digit[num_str[0 - (i + 1)]] * dec_places[i + 1]\n",
        "        num = num + x\n",
        "    return num\n",
        "\n",
        "# Método 5\n",
        "def str_to_int(num_str):\n",
        "    is_negative = False\n",
        "    result = 0\n",
        "    # Verificar si el número es negativo\n",
        "    if num_str[0] == '-':\n",
        "        is_negative = True\n",
        "        num_str = num_str[1:]\n",
        "    # Convertir cada carácter a su valor numérico y sumarlo al resultado\n",
        "    for digit in num_str:\n",
        "        digit_value = ord(digit) - ord('0')  # Convertir carácter a valor numérico\n",
        "        result = result * 10 + digit_value\n",
        "    # Aplicar signo negativo si es necesario\n",
        "    if is_negative:\n",
        "        result *= -1\n",
        "    return result\n",
        "\n",
        "# Método 6\n",
        "def str_to_int(s):\n",
        "    # Manejar números negativos\n",
        "    negative = False\n",
        "    if s[0] == \"-\":\n",
        "        negative = True\n",
        "        s = s[1:]\n",
        "    result = 0\n",
        "    for char in s:\n",
        "        digit = ord(char) - 48  # 48 es el valor ASCII de '0'\n",
        "        result = result * 10 + digit\n",
        "    if negative:\n",
        "        result = -result\n",
        "    return result\n",
        "\n",
        "# Método 7\n",
        "def str_to_int(s):\n",
        "    digits = \"0123456789\"\n",
        "    result = 0\n",
        "    for char in s:\n",
        "        result = result * 10 + digits.index(char)\n",
        "    return result\n",
        "\n",
        "# Método 8\n",
        "def str_to_int(s):\n",
        "    digits = ['0', '1', '2', '3', '4', '5', '6', '7', '8', '9']\n",
        "    result = 0\n",
        "    for char in s:\n",
        "        for i in range(10):\n",
        "            if digits[i] == char:\n",
        "                result = result * 10 + i\n",
        "                break\n",
        "    return result\n",
        "\n",
        "######################### FUNCIÓN int_to_str #########################\n",
        "\n",
        "# Método 1\n",
        "def int_to_str(num):\n",
        "    return str(num)\n",
        "\n",
        "# Método 2\n",
        "int_to_str = lambda num: str(num)\n",
        "\n",
        "# Método 3\n",
        "def int_to_str(n):\n",
        "    d = {0:'0', 1:'1', 2:'2', 3:'3', 4:'4', 5:'5', 6:'6', 7:'7', 8:'8', 9:'9'}\n",
        "    result = \"\"\n",
        "    while n > 0:\n",
        "        result = d.get(n % 10) + result\n",
        "        n //= 10\n",
        "    return result\n",
        "\n",
        "# Método 4. Sin usar str\n",
        "def int_to_str(num):\n",
        "    if num == 0:\n",
        "        return \"0\"  # Manejar caso especial de 0\n",
        "    is_negative = num < 0\n",
        "    num = abs(num)\n",
        "    result = \"\"\n",
        "    while num > 0:\n",
        "        digit = num % 10\n",
        "        result = chr(ord('0') + digit) + result\n",
        "        num //= 10\n",
        "    if is_negative:\n",
        "        result = \"-\" + result\n",
        "    return result\n",
        "\n",
        "# Método 5.\n",
        "def int_to_str(num):\n",
        "    if num == 0:\n",
        "        return '0'\n",
        "    diccionario = {0: '0', 1: '1', 2: '2', 3: '3', 4: '4', 5: '5', 6: '6', 7: '7', 8: '8', 9: '9'}\n",
        "    result = \"\"\n",
        "    while True:\n",
        "        d = num % 10                # comienza por el último dígito\n",
        "        char_d = diccionario[d]     # pasa ese dígito a string\n",
        "        result = char_d + result    # concatena ese dígito al inicio de result\n",
        "        num //= 10                  # determina el resto de dígitos que faltan\n",
        "        if num == 0:\n",
        "            break\n",
        "    return result\n",
        "\n",
        "# Método 6\n",
        "def int_to_str(n):\n",
        "    # Manejar el caso de 0 directamente\n",
        "    if n == 0:\n",
        "        return \"0\"\n",
        "    # Manejar números negativos\n",
        "    negative = False\n",
        "    if n < 0:\n",
        "        negative = True\n",
        "        n = -n\n",
        "    result = \"\"\n",
        "    while n > 0:\n",
        "        digit = n % 10\n",
        "        result = chr(digit + 48) + result  # 48 es el valor ASCII de '0'\n",
        "        n = n // 10\n",
        "    if negative:\n",
        "        result = \"-\" + result\n",
        "    return result\n",
        "\n",
        "# Método 7\n",
        "def int_to_str(n):\n",
        "    if n == 0:\n",
        "        return \"0\"\n",
        "    digits = \"0123456789\"\n",
        "    result = []\n",
        "    while n > 0:\n",
        "        result.append(digits[n % 10])\n",
        "        n //= 10\n",
        "    return ''.join(result[::-1])\n",
        "\n",
        "# Método 8\n",
        "def int_to_str(n):\n",
        "    if n == 0:\n",
        "        return \"0\"\n",
        "    digits = ['0', '1', '2', '3', '4', '5', '6', '7', '8', '9']\n",
        "    result = []\n",
        "    while n > 0:\n",
        "        digit = n % 10\n",
        "        result.append(digits[digit])\n",
        "        n //= 10\n",
        "    return ''.join(result[::-1])"
      ],
      "metadata": {
        "id": "SkDQw4svKdyO"
      },
      "execution_count": null,
      "outputs": []
    },
    {
      "cell_type": "code",
      "source": [
        "print(str_to_int(\"0\"), type(str_to_int(\"0\")).__name__)      # 0 int\n",
        "print(str_to_int(\"4\"), type(str_to_int(\"4\")).__name__)      # 4 int\n",
        "print()\n",
        "print(int_to_str(0), type(int_to_str(0)).__name__)          # \"0\" str\n",
        "print(int_to_str(5), type(int_to_str(5)).__name__)          # \"5\" str\n",
        "print(int_to_str(1234), type(int_to_str(1234)).__name__)    # \"1234\" str\n",
        "print(int_to_str(12034), type(int_to_str(12034)).__name__)  # \"12034\" str"
      ],
      "metadata": {
        "id": "r4eaiLE6KdyO",
        "outputId": "24673d11-6592-4455-9036-18dae0c1f97e",
        "colab": {
          "base_uri": "https://localhost:8080/"
        }
      },
      "execution_count": null,
      "outputs": [
        {
          "output_type": "stream",
          "name": "stdout",
          "text": [
            "0 int\n",
            "4 int\n",
            "\n",
            "0 str\n",
            "5 str\n",
            "1234 str\n",
            "12034 str\n"
          ]
        }
      ]
    },
    {
      "cell_type": "markdown",
      "source": [
        "## Reto 445: Desplazamiento a la derecha mediante división\n",
        "* Right Shift by Division\n",
        "* La operación de desplazamiento a la derecha es similar a la división entera por potencias de dos.\n",
        "* Cálculo de muestra usando el operador de desplazamiento a la derecha ( >> ):\n",
        "    - 80 >> 3 = floor(80/2^3) = floor(80/8) = 10\n",
        "    - -24 >> 2 = floor(-24/2^2) = floor(-24/4) = -6\n",
        "    - -5 >> 1 = floor(-5/2^1) = floor(-5/2) = -3\n",
        "* Escriba una función que imite (sin usar >>) el operador de desplazamiento a la derecha y devuelva el resultado de los dos enteros dados.\n",
        "* Ejemplos:\n",
        "    1. shift_to_right(80, 3) ➞ 10\n",
        "    2. shift_to_right(-24, 2) ➞ -6\n",
        "    3. shift_to_right(-5, 1) ➞ -3\n",
        "    4. shift_to_right(4666, 6) ➞ 72\n",
        "    5. shift_to_right(3777, 6) ➞ 59\n",
        "    6. shift_to_right(-512, 10) ➞ -1\n",
        "\n",
        "* No habrá valores negativos para el segundo parámetro.\n",
        "* Este desafío se parece a la recreación de la operación de desplazamiento a la derecha, por lo tanto, el uso del operador directamente está prohibido."
      ],
      "metadata": {
        "id": "w04A7HtQKd5o"
      }
    },
    {
      "cell_type": "markdown",
      "source": [
        "### Comentario\n",
        "* El operador de desplazamiento a la derecha bitwise (>>) es una operación que mueve los bits de un número hacia la derecha una cierta cantidad de posiciones. * Es útil para dividir un número entre potencias de dos y es una forma eficiente de realizar esta operación en términos de velocidad de ejecución en lenguajes de programación de bajo nivel como C o C++.\n",
        "* Cada desplazamiento a la derecha divide el número por 2 (aproximadamente, ya que se trunca el resultado hacia abajo).\n",
        "* Por ejemplo, si tenemos el número 8 en binario (1000) y aplicamos un desplazamiento a la derecha por 1 posición (>> 1), obtenemos 4 (0100). Si lo desplazamos a la derecha por 2 posiciones (>> 2), obtenemos 2 (0010).\n",
        "* Cuando realizas un desplazamiento a la derecha en números negativos, se mantiene el signo del número y se rellena con unos a la izquierda (si el número es negativo). Por ejemplo, si tenemos -8 (representado como complemento a dos) en binario (1111111111111000) y aplicamos un desplazamiento a la derecha por 1 posición (>> 1), obtenemos -4 (1111111111111100)."
      ],
      "metadata": {
        "id": "yQPxpaZtT11W"
      }
    },
    {
      "cell_type": "code",
      "source": [
        "# Método 1. Usando directamente el operador de desplazamiento a la derecha (Bitwise right shift)\n",
        "def shift_to_right(x, y):\n",
        "    return x >> y\n",
        "\n",
        "# Método 2\n",
        "def shift_to_right(x, y):\n",
        "    return x // 2 ** y\n",
        "\n",
        "# Método 3. Iterativamente\n",
        "def shift_to_right(x, y):\n",
        "    # Iterativamente dividimos x por 2 'y' veces\n",
        "    for _ in range(y):\n",
        "        x //= 2\n",
        "    return x\n",
        "\n",
        "# Método 4. Función recursiva\n",
        "def shift_to_right(x, y):\n",
        "    # Caso base: cuando y es 0, retornamos x\n",
        "    if y == 0:\n",
        "        return x\n",
        "    # Caso recursivo: dividimos x por 2 y llamamos a la función con y - 1\n",
        "    return shift_to_right(x // 2, y - 1)\n",
        "\n",
        "# Método 5. Con la librería NumPy\n",
        "import numpy as np\n",
        "\n",
        "def shift_to_right(x, y):\n",
        "    return np.right_shift(x, y)"
      ],
      "metadata": {
        "id": "zl3MweNdKd5o"
      },
      "execution_count": null,
      "outputs": []
    },
    {
      "cell_type": "code",
      "source": [
        "print(shift_to_right(80, 3))     # 10\n",
        "print(shift_to_right(-24, 2))    # -6\n",
        "print(shift_to_right(-5, 1))     # -3\n",
        "print(shift_to_right(4666, 6))   # 72\n",
        "print(shift_to_right(3777, 6))   # 59\n",
        "print(shift_to_right(-512, 10))  # -1"
      ],
      "metadata": {
        "id": "0UpUWFGMKd5o",
        "colab": {
          "base_uri": "https://localhost:8080/"
        },
        "outputId": "a1543bb1-4ba8-4270-c97d-f27468afe327"
      },
      "execution_count": null,
      "outputs": [
        {
          "output_type": "stream",
          "name": "stdout",
          "text": [
            "10\n",
            "-6\n",
            "-3\n",
            "72\n",
            "59\n",
            "-1\n"
          ]
        }
      ]
    },
    {
      "cell_type": "markdown",
      "source": [
        "## Reto 446: Encuentra el entero más alto en la lista usando recursión\n",
        "* Find the Highest Integer in the List Using Recursion\n",
        "* Cree una función que encuentre el entero más alto en la lista usando recursión.\n",
        "* Ejemplos:\n",
        "    1. find_highest([-1, 3, 5, 6, 99, 12, 2]) ➞ 99\n",
        "    2. find_highest([0, 12, 4, 87]) ➞ 87\n",
        "    3. find_highest([8]) ➞ 8\n",
        "* Notas:\n",
        "    - Por favor, usa la recursión para resolver esto (no el método ```max()```).\n"
      ],
      "metadata": {
        "id": "Zh9UFyL-KeAt"
      }
    },
    {
      "cell_type": "code",
      "source": [
        "# Método 1\n",
        "def find_highest(lst):\n",
        "    if len(lst) == 1:\n",
        "        return lst[0]\n",
        "    else:\n",
        "        m = find_highest(lst[1:])\n",
        "        return m if m > lst[0] else lst[0]\n",
        "\n",
        "# Método 2\n",
        "def find_highest(lst):\n",
        "    if len(lst) == 1:\n",
        "        return lst[0]\n",
        "    else:\n",
        "        return max(lst[0], find_highest(lst[1:]))\n",
        "\n",
        "# Método 3\n",
        "def find_highest(lista):\n",
        "    # Caso base: si la lista tiene solo un elemento, ese es el más alto\n",
        "    if len(lista) == 1:\n",
        "        return lista[0]\n",
        "\n",
        "    # Remover el último elemento de la lista\n",
        "    last_element = lista.pop()\n",
        "\n",
        "    # Llamada recursiva para encontrar el mayor en el resto de la lista\n",
        "    max_of_rest = find_highest(lista)\n",
        "\n",
        "    # Comparar el último elemento con el mayor del resto de la lista\n",
        "    return last_element if last_element > max_of_rest else max_of_rest\n",
        "\n",
        "# Método 4\n",
        "def find_highest(lst):\n",
        "    # Caso base: si la lista tiene solo un elemento, ese es el más alto\n",
        "    if len(lst) == 1:\n",
        "        return lst[0]\n",
        "\n",
        "    # Dividir la lista en dos partes\n",
        "    mid = len(lst) // 2\n",
        "    left_half = lst[:mid]\n",
        "    right_half = lst[mid:]\n",
        "\n",
        "    # Llamada recursiva para encontrar el mayor en cada mitad\n",
        "    left_highest = find_highest(left_half)\n",
        "    right_highest = find_highest(right_half)\n",
        "\n",
        "    # Comparar los mayores de cada mitad y retornar el mayor de los dos\n",
        "    return left_highest if left_highest > right_highest else right_highest\n",
        "\n",
        "# Método 5\n",
        "def find_highest(lst):\n",
        "    # Caso base: si la lista tiene solo un elemento, ese es el más alto\n",
        "    if len(lst) == 1:\n",
        "        return lst[0]\n",
        "\n",
        "    # Caso recursivo: comparar el primer elemento con el máximo del resto de la lista\n",
        "    else:\n",
        "        highest_of_rest = find_highest(lst[1:])\n",
        "        return lst[0] if lst[0] > highest_of_rest else highest_of_rest\n",
        "\n",
        "# Método 6\n",
        "def number_length(num):\n",
        "    if num == 0:\n",
        "        return 1  # Si el número es 0, su longitud es 1\n",
        "    length = 0\n",
        "    while num != 0:\n",
        "        length += 1\n",
        "        num //= 10  # Dividimos el número por 10 para eliminar el último dígito\n",
        "    return length"
      ],
      "metadata": {
        "id": "i-jJn26qKeAu"
      },
      "execution_count": null,
      "outputs": []
    },
    {
      "cell_type": "code",
      "source": [
        "print(find_highest([-1, 3, 5, 6, 99, 12, 2]))  # 99\n",
        "print(find_highest([0, 12, 4, 87]))            # 87\n",
        "print(find_highest([8]))                       # 8"
      ],
      "metadata": {
        "id": "rw7UwO5ZKeAu",
        "colab": {
          "base_uri": "https://localhost:8080/"
        },
        "outputId": "72f05936-c102-4c3b-a39d-3bd0c7d90dcc"
      },
      "execution_count": null,
      "outputs": [
        {
          "output_type": "stream",
          "name": "stdout",
          "text": [
            "99\n",
            "87\n",
            "8\n"
          ]
        }
      ]
    },
    {
      "cell_type": "markdown",
      "source": [
        "## Reto 447: Longitud del número\n",
        "* Length of Number\n",
        "* Cree una función que tome un número `num` y devuelva su longitud.\n",
        "* Ejemplos:\n",
        "    1. number_length(0) ➞ 1\n",
        "    2. number_length(10) ➞ 2\n",
        "    2. number_length(5000) ➞ 4\n",
        "    3. number_length(2_000_000) ➞ 7\n",
        "\n",
        "* El uso de la función len() está prohibido."
      ],
      "metadata": {
        "id": "t4jr2BK1KeID"
      }
    },
    {
      "cell_type": "code",
      "source": [
        "# Método 1\n",
        "def number_length(num):\n",
        "    return len(str(num))\n",
        "\n",
        "# Método 2. Usando una while True\n",
        "def number_length(num):\n",
        "    contador = 0\n",
        "    while True:\n",
        "        num //= 10\n",
        "        contador += 1\n",
        "        if num == 0:\n",
        "            break\n",
        "    return contador\n",
        "\n",
        "# Método 3\n",
        "def number_length(num):\n",
        "    if num == 0:     # Caso especial para el número 0\n",
        "        return 1\n",
        "    length = 0\n",
        "    while num != 0:  # Iterar hasta que el número sea 0\n",
        "        length += 1  # Incrementar la longitud en 1 en cada iteración\n",
        "        num //= 10   # Dividir el número entre 10 para eliminar el último dígito\n",
        "    return length\n",
        "\n",
        "# Método 4\n",
        "def number_length(num):\n",
        "    if num == 0:  # Caso especial para el número 0\n",
        "        return 1\n",
        "    length = 0\n",
        "    # Incrementar el contador multiplicándolo por 10 hasta que sea mayor que el número original\n",
        "    while num >= (10 ** length):\n",
        "        length += 1\n",
        "    return length\n",
        "\n",
        "# Método 5.  Convertir el número en una lista de dígitos y luego devolver la longitud de la lista\n",
        "def number_length(num):\n",
        "    contador = 0\n",
        "    for _ in str(num):\n",
        "        contador += 1\n",
        "    return contador\n",
        "\n",
        "# Método 6. Similar al método anterior pero en una línea\n",
        "def number_length(num):\n",
        "    return sum(1 for _ in str(num))\n",
        "\n",
        "# Método 7\n",
        "def number_length(num):\n",
        "    return sum(map(lambda x:1, str(num)))\n",
        "\n",
        "# Método 8. Usando una función Lambda recursiva\n",
        "number_length = lambda num: 1 if num < 10 else 1 + number_length(num/10)\n",
        "\n",
        "# Método 9. Usando rfind\n",
        "def number_length(num):\n",
        "    if num == 0:  # Caso especial para el número 0\n",
        "        return 1\n",
        "    # Convertir el número a una cadena de caracteres y encontrar la posición del último dígito\n",
        "    last_digit_index = str(num).rfind(str(num)[-1])\n",
        "    # La longitud del número será la posición del último dígito más 1\n",
        "    return last_digit_index + 1\n",
        "\n",
        "# Método 10. Función recursiva, recortando un elemento cada vez que se llama\n",
        "def number_length(num):\n",
        "    # Convertir el número en una cadena de caracteres\n",
        "    s = str(num)\n",
        "    # Si la cadena es vacía, el número tiene longitud 0, por lo que devolvemos 0\n",
        "    if not s:\n",
        "        return 0\n",
        "    # Si la cadena no es vacía, quitamos el primer dígito y llamamos recursivamente a la función\n",
        "    # Luego sumamos 1 al resultado, ya que hemos quitado un dígito\n",
        "    return 1 + number_length(s[1:])\n",
        "\n",
        "# Método 10. Igual que el anterior método pero usando un operador ternario\n",
        "def number_length(num):\n",
        "    s = str(num)\n",
        "    return 1 + number_length(s[1:]) if s else 0\n",
        "\n",
        "# Método 11. rindex encuentra la última ocurrencia del último dígito en la cadena\n",
        "def number_length(num):\n",
        "    s = str(num)\n",
        "    return s.rindex(s[-1]) + 1\n",
        "\n",
        "# Método 12. Usando logaritmos en base 10\n",
        "import math\n",
        "\n",
        "def number_length(num):\n",
        "    if num == 0:  # Caso especial para el número 0 ya que el log de 0 no existe\n",
        "        return 1\n",
        "    # Calcular el logaritmo en base 10 del número y sumarle 1\n",
        "    num = abs(num)\n",
        "    return math.floor(math.log10(num)) + 1"
      ],
      "metadata": {
        "id": "aQTPn36yKeID"
      },
      "execution_count": null,
      "outputs": []
    },
    {
      "cell_type": "code",
      "source": [
        "print(number_length(0))         # 1\n",
        "print(number_length(10))        # 2\n",
        "print(number_length(5000))      # 4\n",
        "print(number_length(2_000_000)) # 7"
      ],
      "metadata": {
        "id": "H3M6VhGxKeID",
        "colab": {
          "base_uri": "https://localhost:8080/"
        },
        "outputId": "fa57d4e5-071a-43dd-cdf0-2cae7faf9485"
      },
      "execution_count": null,
      "outputs": [
        {
          "output_type": "stream",
          "name": "stdout",
          "text": [
            "1\n",
            "2\n",
            "4\n",
            "7\n"
          ]
        }
      ]
    },
    {
      "cell_type": "markdown",
      "source": [
        "## Reto 448: El Desafío FizzBuzz de Entrevista\n",
        "* FizzBuzz Interview Question\n",
        "* El problema FizzBuzz consiste en crear una función que tome un número como argumento y devuelva \"Fizz\", \"Buzz\" o \"FizzBuzz\" según ciertas condiciones.\n",
        "* Si el número es un múltiplo de 3, la salida debe ser \"Fizz\".\n",
        "* Si es un múltiplo de 5, la salida debe ser \"Buzz\".\n",
        "* Si es un múltiplo de ambos 3 y 5, la salida debe ser \"FizzBuzz\".\n",
        "* Si no es un múltiplo ni de 3 ni de 5, el número debe ser devuelto como una cadena.\n",
        "* El resultado siempre debe ser una cadena, incluso si no es múltiplo de 3 o 5. * Ejemplos:\n",
        "    1. fizz_buzz(3) ➞ \"Fizz\"\n",
        "    2. fizz_buzz(5) ➞ \"Buzz\"\n",
        "    3. fizz_buzz(15) ➞ \"FizzBuzz\"\n",
        "    4. fizz_buzz(30) ➞ \"FizzBuzz\"\n",
        "    5. fizz_buzz(4) ➞ \"4\""
      ],
      "metadata": {
        "id": "5ZGuh-FMEDvJ"
      }
    },
    {
      "cell_type": "code",
      "source": [
        "# Método 1\n",
        "def fizz_buzz(n):\n",
        "    if n % 15 == 0:     # analizar si es múltiplo de 15 debe ir primero\n",
        "        return \"FizzBuzz\"\n",
        "    elif n % 3 == 0:\n",
        "        return \"Fizz\"\n",
        "    elif n % 5 == 0:\n",
        "        return \"Buzz\"\n",
        "    else:\n",
        "        return str(n)\n",
        "\n",
        "# Método 2. Original con operador ternario\n",
        "def fizz_buzz(n):\n",
        "    result = \"\"\n",
        "    if n % 3 == 0:\n",
        "        result = \"Fizz\"\n",
        "    if n % 5 == 0:\n",
        "        result += \"Buzz\"\n",
        "    return result if result else str(n)"
      ],
      "metadata": {
        "id": "EivS3aktEDvQ"
      },
      "execution_count": null,
      "outputs": []
    },
    {
      "cell_type": "code",
      "source": [
        "print(fizz_buzz(3))\n",
        "print(fizz_buzz(5))\n",
        "print(fizz_buzz(15))\n",
        "print(fizz_buzz(30))\n",
        "print(fizz_buzz(4))"
      ],
      "metadata": {
        "colab": {
          "base_uri": "https://localhost:8080/"
        },
        "outputId": "cfe34f1d-b1c5-4953-8c78-b4e360393e89",
        "id": "siaskEUiEDvR"
      },
      "execution_count": null,
      "outputs": [
        {
          "output_type": "stream",
          "name": "stdout",
          "text": [
            "Fizz\n",
            "Buzz\n",
            "FizzBuzz\n",
            "FizzBuzz\n",
            "4\n"
          ]
        }
      ]
    },
    {
      "cell_type": "markdown",
      "source": [
        "## Reto 449: Longitud de un Segmento de Línea\n",
        "* Geometry 1: Length of Line Segment\n",
        "* Escribe una función que tome las coordenadas de dos puntos en un plano bidimensional y devuelva la longitud del segmento de línea que conecta esos dos puntos.\n",
        "* Ejemplos:\n",
        "    1. line_length([15, 7], [22, 11]) ➞ 8.06\n",
        "    2. line_length([0, 0], [0, 0]) ➞ 0\n",
        "    3. line_length([0, 0], [1, 1]) ➞ 1.41\n",
        "* Notas:\n",
        "    - El orden de los números dados es X, Y.\n",
        "    - Redondea tu resultado a dos lugares decimales."
      ],
      "metadata": {
        "id": "Wy4WDTYzKePa"
      }
    },
    {
      "cell_type": "code",
      "source": [
        "# Método 1\n",
        "def line_length(pa, pb):\n",
        "    distancia = ((pa[0] - pb[0]) ** 2 + (pa[1] - pb[1]) ** 2) ** .5\n",
        "    return round(distancia ,2)\n",
        "\n",
        "# Método 2\n",
        "from math import sqrt\n",
        "\n",
        "def line_length(pa, pb):\n",
        "    distancia = sqrt((pa[0] - pb[0]) ** 2 + (pa[1] - pb[1]) ** 2)\n",
        "    return f'{distancia:.2f}'"
      ],
      "metadata": {
        "id": "wKWIdoIWKePa"
      },
      "execution_count": null,
      "outputs": []
    },
    {
      "cell_type": "code",
      "source": [
        "print(line_length([15, 7], [22, 11]))\n",
        "print(line_length([0, 0], [0, 0]))\n",
        "print(line_length([0, 0], [1, 1]))"
      ],
      "metadata": {
        "id": "46HKwituKePa",
        "colab": {
          "base_uri": "https://localhost:8080/"
        },
        "outputId": "42643abe-2a68-489f-ee8a-324393f28c6c"
      },
      "execution_count": null,
      "outputs": [
        {
          "output_type": "stream",
          "name": "stdout",
          "text": [
            "8.06\n",
            "0.00\n",
            "1.41\n"
          ]
        }
      ]
    },
    {
      "cell_type": "markdown",
      "source": [
        "## Reto 450: Suma de números pares e impares\n",
        "* Sum of Odd and Even Numbers\n",
        "* Escribe una función que tome una lista de números y devuelva una lista con dos elementos:\n",
        "    1. El primer elemento debe ser la suma de todos los números pares de la lista.\n",
        "    2. El segundo elemento debe ser la suma de todos los números impares de la lista.\n",
        "* Ejemplos:\n",
        "    1. sum_odd_and_even([1, 2, 3, 4, 5, 6]) ➞ [12, 9]\n",
        "        - 2 + 4 + 6 = 12 y 1 + 3 + 5 = 9\n",
        "    2. sum_odd_and_even([-1, -2, -3, -4, -5, -6]) ➞ [-12, -9])\n",
        "    3. sum_odd_and_even([0, 0]) ➞ [0, 0])\n",
        "* Nota:\n",
        "    - El cero se considera un número par."
      ],
      "metadata": {
        "id": "BBLM9G9ZKeWa"
      }
    },
    {
      "cell_type": "code",
      "source": [
        "# Método 1\n",
        "def sum_odd_and_even(lista):\n",
        "    pares = impares = 0\n",
        "    for n in lista:\n",
        "        if n % 2:\n",
        "            impares += n\n",
        "        else:\n",
        "            pares += n\n",
        "    return [pares, impares]\n",
        "\n",
        "# Método 2\n",
        "def sum_odd_and_even(lista):\n",
        "    pares = sum(n for n in lista if n % 2 == 0)\n",
        "    impares = sum(n for n in lista if n % 2)\n",
        "    return [pares, impares]\n",
        "\n",
        "# Método 3\n",
        "def sum_odd_and_even(lista):\n",
        "    pares = sum(filter(lambda x: x % 2 == 0, lista))\n",
        "    impares = sum(filter(lambda x: x % 2 != 0, lista))\n",
        "    return [pares, impares]"
      ],
      "metadata": {
        "id": "9oKulg3HKeWa"
      },
      "execution_count": null,
      "outputs": []
    },
    {
      "cell_type": "code",
      "source": [
        "print(sum_odd_and_even([1, 2, 3, 4, 5, 6]))\n",
        "print(sum_odd_and_even([-1, -2, -3, -4, -5, -6]))\n",
        "print(sum_odd_and_even([0, 0]))"
      ],
      "metadata": {
        "id": "7YONpao8KeWa",
        "colab": {
          "base_uri": "https://localhost:8080/"
        },
        "outputId": "b2c88fd2-6706-4c11-bc16-f6918b430145"
      },
      "execution_count": null,
      "outputs": [
        {
          "output_type": "stream",
          "name": "stdout",
          "text": [
            "[12, 9]\n",
            "[-12, -9]\n",
            "[0, 0]\n"
          ]
        }
      ]
    },
    {
      "cell_type": "markdown",
      "source": [
        "## Reto 451: Bolas de cricket a overs!\n",
        "* Cricket Balls to Overs!\n",
        "* En cricket, un over consiste en seis lanzamientos que un lanzador hace desde un extremo.\n",
        "* Crea una función que tome el número de bolas lanzadas por un lanzador y calcule el número de overs y bolas lanzadas por él.\n",
        "* Devuelve el valor como un flotante, en el formato overs.bolas.\n",
        "* Ejemplos:\n",
        "    1. total_overs(2400) ➞ 400\n",
        "    2. total_overs(164) ➞ 27.2\n",
        "        - Se lanzaron 27 overs y 2 bolas por el lanzador.\n",
        "    3. total_overs(945) ➞ 157.3\n",
        "        - Se lanzaron 157 overs y 3 bolas por el lanzador.\n",
        "    4. total_overs(5) ➞ 0.5\n",
        "* Notas:\n",
        "    - El número que sigue al punto decimal representa las bolas restantes después del último over. Por lo tanto, solo tendrá un valor de 1-5."
      ],
      "metadata": {
        "id": "ea-Jcz4RKeen"
      }
    },
    {
      "cell_type": "code",
      "source": [
        "# Método 1\n",
        "def total_overs(n):\n",
        "    o, b = divmod(n,6)\n",
        "    return o + b/10\n",
        "\n",
        "# Método 2\n",
        "def total_overs(n):\n",
        "    o = n // 6  # Calcula el número de overs completos\n",
        "    b = n % 6   # Calcula el número de bolas restantes\n",
        "    return float(f'{o}.{b}')"
      ],
      "metadata": {
        "id": "5wsx0eKPKeen"
      },
      "execution_count": null,
      "outputs": []
    },
    {
      "cell_type": "code",
      "source": [
        "print(total_overs(2400))\n",
        "print(total_overs(164))\n",
        "print(total_overs(945))\n",
        "print(total_overs(5))"
      ],
      "metadata": {
        "id": "CXA2SPAbKeen",
        "colab": {
          "base_uri": "https://localhost:8080/"
        },
        "outputId": "78404b9b-fea0-4167-eecd-09e063e13037"
      },
      "execution_count": null,
      "outputs": [
        {
          "output_type": "stream",
          "name": "stdout",
          "text": [
            "400.0\n",
            "27.2\n",
            "157.3\n",
            "0.5\n"
          ]
        }
      ]
    },
    {
      "cell_type": "markdown",
      "source": [
        "## Reto 452: Robo en Serie (03): ¿Se ha ido?\n",
        "* Burglary Series (03): Is It Gone?\n",
        "* A tu cónyuge no le preocupa la pérdida de posesiones materiales, sino más bien de su mascota favorita. ¿Se ha ido?\n",
        "* Dado un diccionario de los objetos robados y una cadena en minúsculas que representa el nombre de la mascota (por ejemplo, \"rambo\"), devuelve:\n",
        "    - \"Rambo se ha ido...\" si el nombre está en la lista.\n",
        "    - \"Rambo está aquí!\" si el nombre no está en la lista.\n",
        "* Ten en cuenta que la primera letra del nombre en la declaración devuelta está en mayúscula.\n",
        "* Ejemplos:\n",
        "```python\n",
        "items = {\n",
        "  \"tv\": 30,\n",
        "  \"timmy\": 20,\n",
        "  \"stereo\": 50,\n",
        "} ➞ \"Timmy se ha ido...\"\n",
        "# Timmy está en el diccionario.\n",
        "```\n",
        "\n",
        "```python\n",
        "items = {\n",
        "  \"tv\": 30,\n",
        "  \"stereo\": 50,\n",
        "} ➞ \"Timmy está aquí!\"\n",
        "# Timmy no está en el diccionario.\n",
        "```\n",
        "\n",
        "```python\n",
        "items = { } ➞ \"Timmy está aquí!\"\n",
        "# Timmy no está en el diccionario.\n",
        "```"
      ],
      "metadata": {
        "id": "etQJUnIzK5S2"
      }
    },
    {
      "cell_type": "code",
      "source": [
        "# Método 1\n",
        "def is_pet_gone(items, name):\n",
        "    if name in items:\n",
        "        return f\"{name.capitalize()} se ha ido...\"\n",
        "    else:\n",
        "        return f\"{name.capitalize()} está aquí!\"\n",
        "\n",
        "# Método 2\n",
        "def find_it(items, name):\n",
        "    si_esta = f\"{name.capitalize()} está aquí!\"\n",
        "    no_esta = f\"{name.capitalize()} se ha ido...\"\n",
        "    return no_esta if items.get(name) else si_esta\n",
        "\n",
        "# Método 3\n",
        "def find_it(items, name):\n",
        "    nombre = name.capitalize()\n",
        "    return f\"{nombre} se ha ido...\" if name in items else f\"{nombre} está aquí!\"\n"
      ],
      "metadata": {
        "id": "A1AHdwnoK5S2"
      },
      "execution_count": null,
      "outputs": []
    },
    {
      "cell_type": "code",
      "source": [
        "items1 = {\n",
        "\"tv\": 30,\n",
        "\"timmy\": 20,\n",
        "\"stereo\": 50,\n",
        "}\n",
        "print(find_it(items1, \"timmy\"))\n",
        "\n",
        "items2 = {\n",
        "  \"tv\": 30,\n",
        "  \"stereo\": 50,\n",
        "}\n",
        "print(find_it(items2, \"timmy\"))\n",
        "\n",
        "items3 = { }\n",
        "print(find_it(items3, \"timmy\"))"
      ],
      "metadata": {
        "id": "Ki5WX6dwK5S2",
        "colab": {
          "base_uri": "https://localhost:8080/"
        },
        "outputId": "5a6684e1-0cbe-4f03-98bd-d2b1a087dd5a"
      },
      "execution_count": null,
      "outputs": [
        {
          "output_type": "stream",
          "name": "stdout",
          "text": [
            "Timmy se ha ido...\n",
            "Timmy está aquí!\n",
            "Timmy está aquí!\n"
          ]
        }
      ]
    },
    {
      "cell_type": "markdown",
      "source": [
        "## Reto 453: Un círculo y dos cuadrados\n",
        "* A Circle and Two Squares\n",
        "* Imagina un círculo y dos cuadrados: uno más pequeño y otro más grande.\n",
        "* Para el cuadrado más pequeño, el círculo es una circunferencia circunscrita y para el más grande, una circunferencia inscrita.\n",
        "* Crea una función que tome un número entero (el radio del círculo) y devuelva la diferencia de las áreas de los dos cuadrados.\n",
        "* Ejemplos:\n",
        "    1. square_areas_difference(5) ➞ 50\n",
        "    2. square_areas_difference(6) ➞ 72\n",
        "    3. square_areas_difference(7) ➞ 98\n",
        "* Notas\n",
        "    - Usa solo parámetros enteros positivos."
      ],
      "metadata": {
        "id": "psCWW_F_K5aa"
      }
    },
    {
      "cell_type": "code",
      "source": [
        "# Método 1\n",
        "def square_areas_difference(r):\n",
        "    return 2 * r ** 2"
      ],
      "metadata": {
        "id": "bTYis95NK5aa"
      },
      "execution_count": null,
      "outputs": []
    },
    {
      "cell_type": "code",
      "source": [
        "print(square_areas_difference(5))\n",
        "print(square_areas_difference(6))\n",
        "print(square_areas_difference(7))"
      ],
      "metadata": {
        "id": "EpqZc6YEK5aa",
        "colab": {
          "base_uri": "https://localhost:8080/"
        },
        "outputId": "45f2d621-f903-45f3-c47b-7f300938c9eb"
      },
      "execution_count": null,
      "outputs": [
        {
          "output_type": "stream",
          "name": "stdout",
          "text": [
            "50\n",
            "72\n",
            "98\n"
          ]
        }
      ]
    },
    {
      "cell_type": "markdown",
      "source": [
        "## Reto 454: Obtén Estudiantes con Nombres y Notas Más Altas\n",
        "* Get Students with Names and Top Notes\n",
        "* Crea una función que tome un diccionario de objetos como { \"name\": \"John\", \"notes\": [3, 5, 4] } y devuelva un diccionario de objetos como { \"name\": \"John\", \"top_note\": 5 }.\n",
        "* Ejemplos:\n",
        "    1. top_note({ \"name\": \"John\", \"notes\": [3, 5, 4] }) ➞ { \"name\": \"John\", \"top_note\": 5 }\n",
        "    2. top_note({ \"name\": \"Max\", \"notes\": [1, 4, 6] }) ➞ { \"name\": \"Max\", \"top_note\": 6 }\n",
        "    3. top_note({ \"name\": \"Zygmund\", \"notes\": [1, 2, 3] }) ➞ { \"name\": \"Zygmund\", \"top_note\": 3 }"
      ],
      "metadata": {
        "id": "obEjA9nDK5hM"
      }
    },
    {
      "cell_type": "code",
      "source": [
        "# Método 1\n",
        "def top_note(student):\n",
        "    return {\"name\":student['name'], \"top_note\": max(student['notes'])}"
      ],
      "metadata": {
        "id": "aEx0aesJK5hM"
      },
      "execution_count": null,
      "outputs": []
    },
    {
      "cell_type": "code",
      "source": [
        "print(top_note({ \"name\": \"John\", \"notes\": [3, 5, 4] }))\n",
        "print(top_note({ \"name\": \"Max\", \"notes\": [1, 4, 6] }))\n",
        "print(top_note({ \"name\": \"Zygmund\", \"notes\": [1, 2, 3] }))"
      ],
      "metadata": {
        "id": "O_8uRNSRK5hM",
        "colab": {
          "base_uri": "https://localhost:8080/"
        },
        "outputId": "2740fa36-b38b-4bd6-b172-d5e5fe2305c6"
      },
      "execution_count": null,
      "outputs": [
        {
          "output_type": "stream",
          "name": "stdout",
          "text": [
            "{'name': 'John', 'top_note': 5}\n",
            "{'name': 'Max', 'top_note': 6}\n",
            "{'name': 'Zygmund', 'top_note': 3}\n"
          ]
        }
      ]
    },
    {
      "cell_type": "markdown",
      "source": [
        "## Reto 455: Calcula la ganancia\n",
        "* Calculate the Profit\n",
        "* Trabajas para un fabricante y te han pedido que calcules la ganancia total obtenida en la venta de un producto.\n",
        "* Te proporcionan un diccionario que contiene el precio de costo por unidad (en euros), el precio de venta por unidad (en euros) y el inventario inicial.\n",
        "* Devuelve la ganancia total obtenida, redondeada al euro más cercano.\n",
        "* Ejemplos:\n",
        "    1. profit({\n",
        "  \"precio_costo\": 32.67,\n",
        "  \"precio_venta\": 45.00,\n",
        "  \"inventario\": 1200\n",
        "}) ➞ 14796\n",
        "    2. profit({\n",
        "  \"precio_costo\": 225.89,\n",
        "  \"precio_venta\": 550.00,\n",
        "  \"inventario\": 100\n",
        "}) ➞ 32411\n",
        "    3. profit({\n",
        "  \"precio_costo\": 2.77,\n",
        "  \"precio_venta\": 7.95,\n",
        "  \"inventario\": 8500\n",
        "}) ➞ 44030\n",
        "* Notas\n",
        "    - Supón que todo el inventario ha sido vendido.\n",
        "    - Ganancia = Ventas Totales - Costo Total"
      ],
      "metadata": {
        "id": "Bn2BcxITK5nY"
      }
    },
    {
      "cell_type": "code",
      "source": [
        "# Método 1\n",
        "def profit(info):\n",
        "    return round(info['inventario'] * (info['precio_venta'] - info['precio_costo']))"
      ],
      "metadata": {
        "id": "K3jYRS0LK5nY"
      },
      "execution_count": null,
      "outputs": []
    },
    {
      "cell_type": "code",
      "source": [
        "print(profit({ \"precio_costo\": 32.67, \"precio_venta\": 45.00, \"inventario\": 1200 }))\n",
        "print(profit({ \"precio_costo\": 225.89, \"precio_venta\": 550.00, \"inventario\": 100 }))\n",
        "print(profit({ \"precio_costo\": 2.77, \"precio_venta\": 7.95, \"inventario\": 8500 }))"
      ],
      "metadata": {
        "id": "afoX9yTtK5nY",
        "outputId": "957a63d4-be84-4d90-b60d-775c1401c565",
        "colab": {
          "base_uri": "https://localhost:8080/"
        }
      },
      "execution_count": null,
      "outputs": [
        {
          "output_type": "stream",
          "name": "stdout",
          "text": [
            "14796\n",
            "32411\n",
            "44030\n"
          ]
        }
      ]
    },
    {
      "cell_type": "markdown",
      "source": [
        "## Reto 456: Obtener el Área de un País\n",
        "* Get the Area of a Country\n",
        "* Crea una función que tome el nombre de un país y su área como argumentos y devuelva el área del país en proporción al total de la superficie terrestre mundial.\n",
        "* Ejemplos:\n",
        "    1. area_of_country(\"Rusia\", 17098242) ➞ \"Rusia es el 11.48% de la superficie terrestre mundial\"\n",
        "    2. area_of_country(\"EE.UU.\", 9372610) ➞ \"EE.UU. es el 6.29% de la superficie terrestre mundial\"\n",
        "    3. area_of_country(\"Irán\", 1648195) ➞ \"Irán es el 1.11% de la superficie terrestre mundial\"\n",
        "* Notas:\n",
        "    - La superficie total de la tierra es de 148,940,000 [Km^2]\n",
        "    - Redondea el resultado a dos decimales.\n",
        "    -  Si te quedas atascado en un desafío, busca ayuda en la pestaña de Recursos."
      ],
      "metadata": {
        "id": "j84aufrmK5ts"
      }
    },
    {
      "cell_type": "code",
      "source": [
        "# Método 1\n",
        "\n",
        "total = 148_940_000\n",
        "\n",
        "def area_of_country(name, area):\n",
        "    return f\"{name} es el {area/total:.2%} de la superficie terrestre mundial\""
      ],
      "metadata": {
        "id": "dTXK0w7wK5ts"
      },
      "execution_count": null,
      "outputs": []
    },
    {
      "cell_type": "code",
      "source": [
        "print(area_of_country(\"Rusia\", 17098242))\n",
        "print(area_of_country(\"EE.UU.\", 9372610))\n",
        "print(area_of_country(\"Irán\", 1648195))"
      ],
      "metadata": {
        "id": "ZeAsCh73K5ts",
        "outputId": "9099a849-1ae5-4488-b4b7-e4bee3805705",
        "colab": {
          "base_uri": "https://localhost:8080/"
        }
      },
      "execution_count": null,
      "outputs": [
        {
          "output_type": "stream",
          "name": "stdout",
          "text": [
            "Rusia es el 11.48% de la superficie terrestre mundial\n",
            "EE.UU. es el 6.29% de la superficie terrestre mundial\n",
            "Irán es el 1.11% de la superficie terrestre mundial\n"
          ]
        }
      ]
    },
    {
      "cell_type": "markdown",
      "source": [
        "## Reto 457: Número siguiente mayor que A y B y divisible por B\n",
        "* Next Number Greater Than A and B and Divisible by B\n",
        "* Se te dan dos números a y b. Crea una función que devuelva el siguiente número mayor que a y b y divisible por b.\n",
        "* Ejemplos:\n",
        "    1. divisible_by_b(17, 8) ➞ 24\n",
        "    2. divisible_by_b(98, 3) ➞ 99\n",
        "    3. divisible_by_b(14, 11) ➞ 22\n",
        "* Notas:\n",
        "    - a siempre será mayor que b."
      ],
      "metadata": {
        "id": "3a-vhA3gK50H"
      }
    },
    {
      "cell_type": "code",
      "source": [
        "# Método 1\n",
        "def divisible_by_b(a, b):\n",
        "    i = max(a, b) + 1\n",
        "    while i % b:\n",
        "        i += 1\n",
        "    return i\n",
        "\n",
        "# Método 2\n",
        "def divisible_by_b(a, b):\n",
        "    return ((a // b) + 1) * b"
      ],
      "metadata": {
        "id": "JQJhoPODK50H"
      },
      "execution_count": null,
      "outputs": []
    },
    {
      "cell_type": "code",
      "source": [
        "print(divisible_by_b(17, 8))\n",
        "print(divisible_by_b(98, 3))\n",
        "print(divisible_by_b(14, 11))"
      ],
      "metadata": {
        "id": "oy9CI_OGK50H",
        "outputId": "c7b6a9eb-ad6e-4426-a16f-420f0d79959e",
        "colab": {
          "base_uri": "https://localhost:8080/"
        }
      },
      "execution_count": null,
      "outputs": [
        {
          "output_type": "stream",
          "name": "stdout",
          "text": [
            "24\n",
            "99\n",
            "22\n"
          ]
        }
      ]
    },
    {
      "cell_type": "markdown",
      "source": [
        "## Reto 458: ¿Cuántas Soluciones Tiene Esta Cuadrática?\n",
        "* How Many Solutions Does This Quadratic Have?\n",
        "* Una ecuación cuadrática ax² + bx + c = 0 tiene 0, 1 o 2 soluciones distintas para valores reales de x.\n",
        "* Dados a, b y c, debes devolver el número de soluciones de la ecuación.\n",
        "* Ejemplos:\n",
        "    1. solutions(1, 0, -1) ➞ 2\n",
        "        - x² - 1 = 0 tiene dos soluciones (x = 1 y x = -1).\n",
        "    2. solutions(1, 0, 0) ➞ 1\n",
        "        - x² = 0 tiene una solución (x = 0).\n",
        "    3. solutions(1, 0, 1) ➞ 0\n",
        "        - x² + 1 = 0 no tiene soluciones reales.\n",
        "* Notas:\n",
        "    - No tienes que calcular las soluciones, solo devolver cuántas hay.\n",
        "    - ```a``` siempre será distinto de cero."
      ],
      "metadata": {
        "id": "LTm036CpK56Y"
      }
    },
    {
      "cell_type": "code",
      "source": [
        "# Método 1\n",
        "def solutions(a, b, c):\n",
        "    discriminante = b ** 2 - 4 * a * c\n",
        "    if discriminante > 0:\n",
        "        return 2\n",
        "    elif discriminante == 0:\n",
        "        return 1\n",
        "    else:\n",
        "        return 0"
      ],
      "metadata": {
        "id": "3NRCqqU0K56Y"
      },
      "execution_count": null,
      "outputs": []
    },
    {
      "cell_type": "code",
      "source": [
        "print(solutions(1, 0, -1))\n",
        "print(solutions(1, 0, 0))\n",
        "print(solutions(1, 0, 1))"
      ],
      "metadata": {
        "id": "CWRWKElXK56Y",
        "outputId": "e0be32cd-aec5-4faa-fdea-e41ac739cc17",
        "colab": {
          "base_uri": "https://localhost:8080/"
        }
      },
      "execution_count": null,
      "outputs": [
        {
          "output_type": "stream",
          "name": "stdout",
          "text": [
            "2\n",
            "1\n",
            "0\n"
          ]
        }
      ]
    },
    {
      "cell_type": "markdown",
      "source": [
        "## Reto 459: Formato de Fecha\n",
        "* Date Format\n",
        "* Crea una función que convierta una fecha con el formato MM/DD/YYYY a YYYYDDMM.\n",
        "* Ejemplos:\n",
        "    1. format_date(\"11/12/2019\") ➞ \"20191211\"\n",
        "    2. format_date(\"12/31/2019\") ➞ \"20193112\"\n",
        "    3. format_date(\"01/15/2019\") ➞ \"20191501\"\n",
        "* Notas:\n",
        "    - El valor de retorno debe ser una cadena."
      ],
      "metadata": {
        "id": "VXfhvFLAK6BL"
      }
    },
    {
      "cell_type": "code",
      "source": [
        "# Método 1\n",
        "def format_date(s):\n",
        "    m = s[:2]\n",
        "    d = s[3:5]\n",
        "    a = s[6:]\n",
        "    return a + d + m"
      ],
      "metadata": {
        "id": "Vs6GDKDMK6BL"
      },
      "execution_count": null,
      "outputs": []
    },
    {
      "cell_type": "code",
      "source": [
        "print(format_date(\"11/12/2019\"))\n",
        "print(format_date(\"12/31/2019\"))\n",
        "print(format_date(\"01/15/2019\"))"
      ],
      "metadata": {
        "id": "sGPKHDQrK6BL",
        "outputId": "035f58a9-0a51-477d-9ad9-15340f108cc4",
        "colab": {
          "base_uri": "https://localhost:8080/"
        }
      },
      "execution_count": null,
      "outputs": [
        {
          "output_type": "stream",
          "name": "stdout",
          "text": [
            "20191211\n",
            "20193112\n",
            "20191501\n"
          ]
        }
      ]
    },
    {
      "cell_type": "markdown",
      "source": [
        "## Reto 460: Añadir Números\n",
        "* Adding Numbers\n",
        "* Crea una función que tome dos cadenas de números y devuelva su suma como una cadena.\n",
        "* Ejemplos\n",
        "    1. add(\"111\", \"111\") ➞ \"222\"\n",
        "    2. add(\"10\", \"80\") ➞ \"90\"\n",
        "    3. add(\"\", \"20\") ➞ \"Operación Inválida\"\n",
        "    4. add(\"20\", None) ➞ \"Operación Inválida\"\n",
        "* Notas\n",
        "    - Si alguna entrada es \"\" o None, devuelve \"Operación Inválida\"."
      ],
      "metadata": {
        "id": "ihYQFfWmK6Hv"
      }
    },
    {
      "cell_type": "code",
      "source": [
        "# Método 1\n",
        "def add(n1, n2):\n",
        "    if n1 in [\"\", None] or n2 in [\"\", None]:\n",
        "        return \"Operación Inválida\"\n",
        "    return str(int(n1) + int(n2))"
      ],
      "metadata": {
        "id": "PlTymfYrK6Hw"
      },
      "execution_count": null,
      "outputs": []
    },
    {
      "cell_type": "code",
      "source": [
        "print(add(\"111\", \"111\"))\n",
        "print(add(\"10\", \"80\"))\n",
        "print(add(\"\", \"20\"))\n",
        "print(add(\"20\", None))"
      ],
      "metadata": {
        "id": "6SW9KhA1K6Hw",
        "outputId": "fd5719fd-fcc9-490f-be0d-f2186bd5d4ca",
        "colab": {
          "base_uri": "https://localhost:8080/"
        }
      },
      "execution_count": null,
      "outputs": [
        {
          "output_type": "stream",
          "name": "stdout",
          "text": [
            "222\n",
            "90\n",
            "Operación Inválida\n",
            "Operación Inválida\n"
          ]
        }
      ]
    },
    {
      "cell_type": "markdown",
      "source": [
        "## Reto 461: Lista de Múltiplos\n",
        "* List of Multiples\n",
        "* Crea una función que tome dos números como argumentos (num, length) y devuelva una lista de múltiplos de num hasta que la longitud de la lista alcance length.\n",
        "* Ejemplos:\n",
        "    1. list_of_multiples(7, 5) ➞ [7, 14, 21, 28, 35]\n",
        "    2. list_of_multiples(12, 10) ➞ [12, 24, 36, 48, 60, 72, 84, 96, 108, 120]\n",
        "    3. list_of_multiples(17, 6) ➞ [17, 34, 51, 68, 85, 102]\n",
        "* Notas\n",
        "    - Observa que num también se incluye en la lista devuelta."
      ],
      "metadata": {
        "id": "4Zr_cUZdK6OG"
      }
    },
    {
      "cell_type": "code",
      "source": [
        "# Método 1\n",
        "def list_of_multiples (num, length):\n",
        "    return list(range(num, length * num + 1, num))\n",
        "\n",
        "# Método 2\n",
        "def list_of_multiples(num, length):\n",
        "    multiples = []\n",
        "    for i in range(1, length + 1):\n",
        "        multiples.append(num * i)\n",
        "    return multiples\n",
        "\n",
        "# Método 3\n",
        "def list_of_multiples(num, length):\n",
        "    return [num * i for i in range(1, length + 1)]"
      ],
      "metadata": {
        "id": "SjLK9-nnK6OG"
      },
      "execution_count": null,
      "outputs": []
    },
    {
      "cell_type": "code",
      "source": [
        "print(list_of_multiples(7, 5))\n",
        "print(list_of_multiples(12, 10))\n",
        "print(list_of_multiples(17, 6))"
      ],
      "metadata": {
        "id": "31bfdRi1K6OH",
        "outputId": "c470524a-67ec-4d4d-bc40-339b06cf9c7b",
        "colab": {
          "base_uri": "https://localhost:8080/"
        }
      },
      "execution_count": null,
      "outputs": [
        {
          "output_type": "stream",
          "name": "stdout",
          "text": [
            "[7, 14, 21, 28, 35]\n",
            "[12, 24, 36, 48, 60, 72, 84, 96, 108, 120]\n",
            "[17, 34, 51, 68, 85, 102]\n"
          ]
        }
      ]
    },
    {
      "cell_type": "markdown",
      "source": [
        "## Reto 462: Ecuación cuadrática\n",
        "* Quadratic Equation\n",
        "* Crea una función para encontrar solo el valor de la raíz de x en cualquier ecuación cuadrática ax^2 + bx + c. La función tomará tres argumentos:\n",
        "    - a como el coeficiente de x^2\n",
        "    - b como el coeficiente de x\n",
        "    - c como el término constante\n",
        "* Ejemplos:\n",
        "    1. quadratic_equation(1, 2, -3) ➞ 1\n",
        "    2. quadratic_equation(2, -7, 3) ➞ 3\n",
        "    3. quadratic_equation(1, -12, -28) ➞ 14\n",
        "* Notas\n",
        "    - La ecuación cuadrática siempre está garantizada de tener una raíz.\n",
        "    - Calcula solo la raíz que suma la raíz cuadrada del discriminante, no la que la resta.\n",
        "    - Redondea el valor / devuelve solo el valor entero."
      ],
      "metadata": {
        "id": "61iV19v3LMiA"
      }
    },
    {
      "cell_type": "code",
      "source": [
        "# Método 1\n",
        "def quadratic_equation(a, b, c):\n",
        "    solucion = (-b + (b ** 2 - 4 * a * c) ** .5) / (2 * a)\n",
        "    return f'{solucion:.0f}'\n",
        "\n",
        "# Método 2\n",
        "def quadratic_equation(a, b, c):\n",
        "    solucion = (-b + (b ** 2 - 4 * a * c) ** .5) / (2 * a)\n",
        "    return round(solucion)"
      ],
      "metadata": {
        "id": "APrJ0KyLLMiA"
      },
      "execution_count": null,
      "outputs": []
    },
    {
      "cell_type": "code",
      "source": [
        "print(quadratic_equation(1, 2, -3))\n",
        "print(quadratic_equation(2, -7, 3))\n",
        "print(quadratic_equation(1, -12, -28))"
      ],
      "metadata": {
        "id": "e-mBlXAzLMiA",
        "colab": {
          "base_uri": "https://localhost:8080/"
        },
        "outputId": "95036b04-d007-4a98-ac3d-ea364f6d5a76"
      },
      "execution_count": null,
      "outputs": [
        {
          "output_type": "stream",
          "name": "stdout",
          "text": [
            "1\n",
            "3\n",
            "14\n"
          ]
        }
      ]
    },
    {
      "cell_type": "markdown",
      "source": [
        "## Reto 463: Calculadora simple con POO\n",
        "* Simple OOP Calculator\n",
        "* Cree métodos para la clase Calculadora que puedan hacer lo siguiente:\n",
        "    - Suma dos números.\n",
        "    - Resta dos números.\n",
        "    - Multiplica dos números.\n",
        "    - Divide dos números.\n",
        "* Ejemplos:\n",
        "    - calculator = Calculator()\n",
        "    1. calculator.add(10, 5) ➞ 15\n",
        "    2. calculator.subtract(10, 5) ➞ 5\n",
        "    3. calculator.multiply(10, 5) ➞ 50\n",
        "    4. calculator.divide(5, 2) ➞ 2.5\n",
        "    4. calculator.divide(5, 0) ➞ \"Error: No se puede dividir entre cero.\""
      ],
      "metadata": {
        "id": "Q3wgEONiLMoN"
      }
    },
    {
      "cell_type": "code",
      "source": [
        "class Calculator:\n",
        "    def __init__(self):\n",
        "        # Este constructor actualmente no inicializa ningún atributo,\n",
        "        # pero está preparado para futuras extensiones.\n",
        "        pass\n",
        "\n",
        "    def add(self, a, b):\n",
        "        return a + b\n",
        "\n",
        "    def subtract(self, a, b):\n",
        "        return a - b\n",
        "\n",
        "    def multiply(self, a, b):\n",
        "        return a * b\n",
        "\n",
        "    def divide(self, a, b):\n",
        "        if b != 0:\n",
        "            return a / b\n",
        "        else:\n",
        "            return \"Error: No se puede dividir entre cero.\""
      ],
      "metadata": {
        "id": "nCT72IuULMoN"
      },
      "execution_count": null,
      "outputs": []
    },
    {
      "cell_type": "code",
      "source": [
        "calculator = Calculator()\n",
        "print(calculator.add(10, 5))\n",
        "print(calculator.subtract(10, 5))\n",
        "print(calculator.multiply(10, 5))\n",
        "print(calculator.divide(5, 2))\n",
        "print(calculator.divide(5, 0))"
      ],
      "metadata": {
        "id": "6EDB8fUILMoN",
        "colab": {
          "base_uri": "https://localhost:8080/"
        },
        "outputId": "9c3246cf-e78c-400a-85c8-147f8f6b2d1b"
      },
      "execution_count": null,
      "outputs": [
        {
          "output_type": "stream",
          "name": "stdout",
          "text": [
            "15\n",
            "5\n",
            "50\n",
            "2.5\n",
            "Error: No se puede dividir entre cero.\n"
          ]
        }
      ]
    },
    {
      "cell_type": "markdown",
      "source": [
        "## Reto 464: Recuperar el tiempo ahorrado por el exceso de velocidad\n",
        "* Return the Time Saved by Speeding\n",
        "* Una de las causas del exceso de velocidad es el deseo de acortar el tiempo de viaje. En viajes de larga distancia, el exceso de velocidad ahorra una cantidad apreciable de tiempo. Sin embargo, no se puede decir lo mismo de los viajes de corta distancia.\n",
        "* Cree una función que calcule la cantidad de tiempo ahorrado si viaja con una velocidad promedio superior al límite de velocidad en comparación con viajar con una velocidad promedio exactamente al límite de velocidad.\n",
        "* Ejemplos\n",
        "    - El formato del parámetro es el siguiente:\n",
        "    - (límite de velocidad, velocidad promedio, distancia recorrida a velocidad promedio)\n",
        "    1. time_saved(80, 90, 40) ➞ 3.3\n",
        "    2. time_saved(80, 90, 4000) ➞ 333.3\n",
        "    3. time_saved(80, 100, 40) ➞ 6.0\n",
        "    4. time_saved(80, 100, 10) ➞ 1.5\n",
        "* Notas\n",
        "    - Speed = distance/time\n",
        "    - El tiempo devuelto debe estar en minutos, no en horas.\n",
        "    - Redondea la respuesta a un decimal.\n",
        "    - El límite de velocidad y la velocidad promedio se dan en mi/hr."
      ],
      "metadata": {
        "id": "spC8vL2CLMuM"
      }
    },
    {
      "cell_type": "code",
      "source": [
        "# Método 1\n",
        "\n",
        "def time_saved(speed_limit, avg_speed, distance):\n",
        "    # Tiempo a velocidad límite (en horas)\n",
        "    time_limit = distance / speed_limit\n",
        "\n",
        "    # Tiempo a velocidad promedio (en horas)\n",
        "    time_avg = distance / avg_speed\n",
        "\n",
        "    # Tiempo ahorrado (en horas)\n",
        "    time_saved_hours = time_limit - time_avg\n",
        "\n",
        "    # Convertir el tiempo ahorrado a minutos\n",
        "    time_saved_minutes = time_saved_hours * 60\n",
        "\n",
        "    # Redondear a un decimal\n",
        "    return round(time_saved_minutes, 1)\n",
        "\n",
        "def time_saved(s_lim, s_avg, d):\n",
        "    return f'{(d/s_lim - d/s_avg) * 60:.1f}'\n"
      ],
      "metadata": {
        "id": "TddezJz3LMuM"
      },
      "execution_count": null,
      "outputs": []
    },
    {
      "cell_type": "code",
      "source": [
        "print(time_saved(80, 90, 40))\n",
        "print(time_saved(80, 90, 4000))\n",
        "print(time_saved(80, 100, 40))\n",
        "print(time_saved(80, 100, 10))"
      ],
      "metadata": {
        "id": "DTGUrFS_LMuM",
        "colab": {
          "base_uri": "https://localhost:8080/"
        },
        "outputId": "51039f21-372d-4e78-b80a-a5b1f7b6fdee"
      },
      "execution_count": null,
      "outputs": [
        {
          "output_type": "stream",
          "name": "stdout",
          "text": [
            "3.3\n",
            "333.3\n",
            "6.0\n",
            "1.5\n"
          ]
        }
      ]
    },
    {
      "cell_type": "markdown",
      "source": [
        "## Reto 465: Unos, treses y nueves\n",
        "* Ones, Threes and Nines (Version #1)\n",
        "* Dado un int, calcula cuántos unos, treses y nueves caben en el número.\n",
        "* Debes crear una clase.\n",
        "* Crearás variables (self.one, self.tres, self.nines) para hacer esto.\n",
        "Ejemplos:\n",
        "    - n1 = ones_threes_nines(5)\n",
        "    1. n1.nines ➞ 0\n",
        "    2. n1.ones ➞ 5\n",
        "    3. n1.threes ➞ 1\n",
        "* Nota\n",
        "    - No use la librería math.\n"
      ],
      "metadata": {
        "id": "A1ntmuTcLM0k"
      }
    },
    {
      "cell_type": "code",
      "source": [
        "# Método 1\n",
        "class ones_threes_nines:\n",
        "    def __init__(self, n):\n",
        "        self.ones = n\n",
        "        self.threes = n // 3\n",
        "        self.nines = n // 9\n",
        "\n",
        "# Método 2\n",
        "class OnesThreesNines:\n",
        "    def __init__(self, number):\n",
        "        self.number = number\n",
        "        self.ones = self.calculate_ones()\n",
        "        self.threes = self.calculate_threes()\n",
        "        self.nines = self.calculate_nines()\n",
        "\n",
        "    def calculate_ones(self):\n",
        "        return self.number\n",
        "\n",
        "    def calculate_threes(self):\n",
        "        return self.number // 3\n",
        "\n",
        "    def calculate_nines(self):\n",
        "        return self.number // 9"
      ],
      "metadata": {
        "id": "_9a-z09FLM0k"
      },
      "execution_count": null,
      "outputs": []
    },
    {
      "cell_type": "code",
      "source": [
        "n1 = ones_threes_nines(5)\n",
        "print(n1.nines)     # 0\n",
        "print(n1.ones)      # 5\n",
        "print(n1.threes)    # 1\n",
        "print()\n",
        "n2 = ones_threes_nines(29)\n",
        "print(n2.nines)     # 3\n",
        "print(n2.ones)      # 29\n",
        "print(n2.threes)    # 9"
      ],
      "metadata": {
        "id": "jSIiQqtbLM0k",
        "outputId": "f428af5a-ce25-40d1-9b30-e612a29c766a",
        "colab": {
          "base_uri": "https://localhost:8080/"
        }
      },
      "execution_count": null,
      "outputs": [
        {
          "output_type": "stream",
          "name": "stdout",
          "text": [
            "0\n",
            "5\n",
            "1\n",
            "\n",
            "3\n",
            "29\n",
            "9\n"
          ]
        }
      ]
    },
    {
      "cell_type": "markdown",
      "source": [
        "## Reto 466: Invertir claves y valores\n",
        "* Invert Keys and Values\n",
        "* Escribe una función que invierta las claves y valores de un diccionario.\n",
        "* Ejemplos:\n",
        "    1. invert({ \"a\": 1, \"b\": 2, \"c\": 3 }) ➞ { 1: \"a\", 2: \"b\", 3: \"c\" }\n",
        "    2. invert({ \"red\": \"rojo\", \"green\": \"verde\" }) ➞ { \"rojo\": \"red\", \"verde\": \"green\" }\n",
        "    3. invert({ \"París\": \"Francia\", \"Roma\": \"Italia\"}) ➞ { \"Francia\": \"París\", \"Italia\": \"Roma\" }"
      ],
      "metadata": {
        "id": "skyyiwalLM63"
      }
    },
    {
      "cell_type": "code",
      "source": [
        "# Método 1\n",
        "def invert(d):\n",
        "    result = dict()\n",
        "    for key, value in d.items():\n",
        "        result[value] = key\n",
        "    return result\n",
        "\n",
        "# Método 2\n",
        "def invert(d):\n",
        "    return dict(map(reversed, d.items()))\n",
        "\n",
        "# Método 3\n",
        "def invert(d):\n",
        "    return dict(zip(d.values(), d.keys()))\n",
        "\n",
        "# Método 4\n",
        "def invert(d):\n",
        "    return {v: k for k, v in d.items()}\n",
        "    return dict((v, k) for k, v in d.items())"
      ],
      "metadata": {
        "id": "vYDysMfrLM64"
      },
      "execution_count": null,
      "outputs": []
    },
    {
      "cell_type": "code",
      "source": [
        "print(invert({ \"a\": 1, \"b\": 2, \"c\": 3 }))\n",
        "print(invert({ \"red\": \"rojo\", \"green\": \"verde\" }))\n",
        "print(invert({ \"París\": \"Francia\", \"Roma\": \"Italia\"}))"
      ],
      "metadata": {
        "id": "VZnOmYkVLM64",
        "outputId": "3c7c08d2-0649-4cca-b53c-57263fd433f4",
        "colab": {
          "base_uri": "https://localhost:8080/"
        }
      },
      "execution_count": null,
      "outputs": [
        {
          "output_type": "stream",
          "name": "stdout",
          "text": [
            "{1: 'a', 2: 'b', 3: 'c'}\n",
            "{'rojo': 'red', 'verde': 'green'}\n",
            "{'Francia': 'París', 'Italia': 'Roma'}\n"
          ]
        }
      ]
    },
    {
      "cell_type": "markdown",
      "source": [
        "### Invertir un diccionario con valores repetidos\n",
        "Se usa defaultdict de la librería collections."
      ],
      "metadata": {
        "id": "ojJIIGW4w84V"
      }
    },
    {
      "cell_type": "code",
      "source": [
        "from collections import defaultdict\n",
        "\n",
        "def invert(d):\n",
        "    inverted_dict = defaultdict(list)\n",
        "    for k, v in d.items():\n",
        "        inverted_dict[v].append(k)\n",
        "    return dict(inverted_dict)\n",
        "\n",
        "d = {'winter':'invierno', 'spring': 'primavera', 'summer':'verano', 'autumn':'otoño', 'fall':'otoño'}\n",
        "\n",
        "invert(d)"
      ],
      "metadata": {
        "id": "e5R-Hb2kxQsK",
        "outputId": "21602848-4243-4b9c-8551-4ab0634b12cd",
        "colab": {
          "base_uri": "https://localhost:8080/"
        }
      },
      "execution_count": null,
      "outputs": [
        {
          "output_type": "execute_result",
          "data": {
            "text/plain": [
              "{'invierno': ['winter'],\n",
              " 'primavera': ['spring'],\n",
              " 'verano': ['summer'],\n",
              " 'otoño': ['autumn', 'fall']}"
            ]
          },
          "metadata": {},
          "execution_count": 135
        }
      ]
    },
    {
      "cell_type": "markdown",
      "source": [
        "## Reto 467: Clases para obtener información de un jugador de deportes\n",
        "* Classes For Fetching Information on a Sports Player\n",
        "* Crea una clase que tome los siguientes cuatro argumentos para un jugador de fútbol en particular:\n",
        "    - nombre\n",
        "    - edad\n",
        "    - altura\n",
        "    - peso\n",
        "* Además, crea tres funciones para la clase que devuelvan las siguientes cadenas:\n",
        "    1. get_age() devuelve \"nombre tiene edad años\"\n",
        "    2. get_height() devuelve \"nombre mide alturacm\"\n",
        "    3. get_weight() devuelve \"nombre pesa pesokg\"\n",
        "* Ejemplos:\n",
        "    - p1 = player(\"David\", 25, 175, 75)\n",
        "    1. p1.get_age() ➞ \"David tiene 25 años\"\n",
        "    2. p1.get_height() ➞ \"David mide 175 cm\"\n",
        "    3. p1.get_weight() ➞ \"David pesa 75 kg\"\n",
        "* Nota\n",
        "    - nombre se pasará como una cadena de texto y edad, altura, peso serán enteros."
      ],
      "metadata": {
        "id": "rjg7iNPbLNBK"
      }
    },
    {
      "cell_type": "code",
      "source": [
        "# Método 1\n",
        "class player():\n",
        "\n",
        "\tdef __init__(self, nombre, edad, altura, peso):\n",
        "\t\tself.nombre = nombre\n",
        "\t\tself.edad = edad\n",
        "\t\tself.altura = altura\n",
        "\t\tself.peso = peso\n",
        "\n",
        "\tdef get_edad(self):\n",
        "\t\treturn f'{self.nombre} tiene {self.edad} años'\n",
        "\n",
        "\tdef get_altura(self):\n",
        "\t\treturn f'{self.nombre} mide {self.altura} cm'\n",
        "\n",
        "\tdef get_peso(self):\n",
        "\t\treturn f'{self.nombre} pesa {self.peso} kg'"
      ],
      "metadata": {
        "id": "DLlmx8xGLNBL"
      },
      "execution_count": null,
      "outputs": []
    },
    {
      "cell_type": "code",
      "source": [
        "p1 = player(\"David\", 25, 175, 75)\n",
        "print(p1.get_edad())\n",
        "print(p1.get_altura())\n",
        "print(p1.get_peso())\n",
        "print()\n",
        "p2 = player(\"Julia\", 24, 170, 65)\n",
        "print(p2.get_edad())\n",
        "print(p2.get_altura())\n",
        "print(p2.get_peso())"
      ],
      "metadata": {
        "id": "sl2Nh-3ELNBL",
        "outputId": "80d61e16-7f2b-407f-b592-37c724a7d0db",
        "colab": {
          "base_uri": "https://localhost:8080/"
        }
      },
      "execution_count": null,
      "outputs": [
        {
          "output_type": "stream",
          "name": "stdout",
          "text": [
            "David tiene 25 años\n",
            "David mide 175 cm\n",
            "David pesa 75 kg\n",
            "\n",
            "Julia tiene 24 años\n",
            "Julia mide 170 cm\n",
            "Julia pesa 65 kg\n"
          ]
        }
      ]
    },
    {
      "cell_type": "markdown",
      "source": [
        "### Método 2\n",
        "* Uso de @property: Utilizamos el decorador @property para definir métodos que actúan como propiedades. Esto permite acceder a estos métodos como si fueran atributos, sin necesidad de paréntesis.\n",
        "    1. get_age: Devuelve una cadena con el nombre y la edad del jugador.\n",
        "    2. get_height: Devuelve una cadena con el nombre y la altura del jugador.\n",
        "    3. get_weight: Devuelve una cadena con el nombre y el peso del jugador."
      ],
      "metadata": {
        "id": "88oPt3FI2BAb"
      }
    },
    {
      "cell_type": "code",
      "source": [
        "# Método 2. Usando el decorador @property\n",
        "class Player:\n",
        "    def __init__(self, nombre, edad, altura, peso):\n",
        "        self.nombre = nombre\n",
        "        self.edad = edad\n",
        "        self.altura = altura\n",
        "        self.peso = peso\n",
        "\n",
        "    @property\n",
        "    def get_edad(self):\n",
        "        return f\"{self.nombre} tiene {self.edad} años\"\n",
        "\n",
        "    @property\n",
        "    def get_altura(self):\n",
        "        return f\"{self.nombre} mide {self.altura} cm\"\n",
        "\n",
        "    @property\n",
        "    def get_peso(self):\n",
        "        return f\"{self.nombre} pesa {self.peso} kg\"\n",
        "\n",
        "# Ejemplo de uso\n",
        "p1 = Player(\"David\", 25, 175, 75)\n",
        "print(p1.get_edad)    # \"David tiene 25 años\"\n",
        "print(p1.get_altura) # \"David mide 175 cm\"\n",
        "print(p1.get_peso) # \"David pesa 75 kg\""
      ],
      "metadata": {
        "id": "QI4CLHKq1rfK",
        "outputId": "30e56583-cdda-4f09-fccc-bcf0abf32428",
        "colab": {
          "base_uri": "https://localhost:8080/"
        }
      },
      "execution_count": null,
      "outputs": [
        {
          "output_type": "stream",
          "name": "stdout",
          "text": [
            "David tiene 25 años\n",
            "David mide 175 cm\n",
            "David pesa 75 kg\n"
          ]
        }
      ]
    },
    {
      "cell_type": "markdown",
      "source": [
        "## Reto 468: Nombre completo y Correo Electrónico\n",
        "* Fullname and Email\n",
        "* Crea los atributos de instancia fullname y email en la clase Employee.\n",
        "* Dados los nombres y apellidos de una persona:\n",
        "    - Forma el nombre completo simplemente uniendo el nombre y el apellido, separados por un espacio.\n",
        "    - Forma el correo electrónico uniendo el nombre y el apellido con un punto en medio, y sigue con @company.com al final. Asegúrate de que todo el correo electrónico esté en minúsculas.\n",
        "* Ejemplos:\n",
        "    - emp_1 = Employee(\"John\", \"Smith\")\n",
        "    - emp_2 = Employee(\"Mary\", \"Sue\")\n",
        "    - emp_3 = Employee(\"Antony\", \"Walker\")\n",
        "    1. emp_1.fullname ➞ \"John Smith\"\n",
        "    2. emp_2.email ➞ \"mary.sue@company.com\"\n",
        "    3. emp_3.firstname ➞ \"Antony\""
      ],
      "metadata": {
        "id": "yzgkeQHcLNHJ"
      }
    },
    {
      "cell_type": "code",
      "source": [
        "class Employee:\n",
        "    def __init__(self, firstname, lastname):\n",
        "        self.firstname = firstname\n",
        "        self.lastname = lastname\n",
        "        self.fullname = f'{self.firstname} {self.lastname}'\n",
        "        self.email = f'{self.firstname.lower()}.{self.lastname.lower()}@company.com'"
      ],
      "metadata": {
        "id": "kLI_QC9gLNHJ"
      },
      "execution_count": null,
      "outputs": []
    },
    {
      "cell_type": "code",
      "source": [
        "emp_1 = Employee(\"John\", \"Smith\")\n",
        "emp_2 = Employee(\"Mary\", \"Sue\")\n",
        "emp_3 = Employee(\"Antony\", \"Walker\")\n",
        "\n",
        "print(emp_1.fullname)\n",
        "print(emp_2.email)\n",
        "print(emp_3.firstname)\n",
        "print()"
      ],
      "metadata": {
        "id": "EYukYgtgLNHJ",
        "outputId": "6e31890b-5861-4a4f-f141-1e4251d31f27",
        "colab": {
          "base_uri": "https://localhost:8080/"
        }
      },
      "execution_count": null,
      "outputs": [
        {
          "output_type": "stream",
          "name": "stdout",
          "text": [
            "John Smith\n",
            "mary.sue@company.com\n",
            "Antony\n",
            "\n"
          ]
        }
      ]
    },
    {
      "cell_type": "code",
      "source": [
        "# una forma simple de obtener un atributo\n",
        "class Persona:\n",
        "    def __init__(self, nombre):\n",
        "        self.nombre = nombre\n",
        "\n",
        "p1 = Persona(\"Isabel\")\n",
        "p1.nombre"
      ],
      "metadata": {
        "id": "O4dlxC9M8aJY",
        "outputId": "56e57263-9f73-42c0-ca7b-109c8fd1d96e",
        "colab": {
          "base_uri": "https://localhost:8080/",
          "height": 35
        }
      },
      "execution_count": null,
      "outputs": [
        {
          "output_type": "execute_result",
          "data": {
            "text/plain": [
              "'Isabel'"
            ],
            "application/vnd.google.colaboratory.intrinsic+json": {
              "type": "string"
            }
          },
          "metadata": {},
          "execution_count": 141
        }
      ]
    },
    {
      "cell_type": "markdown",
      "source": [
        "## Reto 469: Diseñando Alfombras\n",
        "* Designing Rugs\n",
        "* Escribe una función que acepte la altura y el ancho (m, n) y un proc opcional s, y genere una lista con m elementos. Cada elemento es una cadena que consiste en:\n",
        "    - El carácter predeterminado (almohadilla #) repitiéndose n veces (si no se da un proc).\n",
        "    - El carácter pasado a través del proc repitiéndose n veces.\n",
        "* Ejemplos:\n",
        "    1. make_rug(3, 5, '#') ➞ [\n",
        "  \"#####\",\n",
        "  \"#####\",\n",
        "  \"#####\"]\n",
        "    2. make_rug(3, 5, '$')  ➞ [\n",
        "  \"\\$\\$\\$\\$\\$\",\n",
        "  \"\\$\\$\\$\\$\\$\",\n",
        "  \"\\$\\$\\$\\$\\$\"]\n",
        "    3. make_rug(2, 2, 'A')  ➞ [\"AA\", \"AA\"]\n",
        "    4. make_rug(2, 2)  ➞ [\"AA\", \"AA\"]\n",
        "    5. make_rug(4, 2, '@.')  ➞ [\n",
        "  \"@.@.\", \"@.@.\", \"@.@.\", \"@.@.\"]\n",
        "* Nota\n",
        "    - Puedes establecer un valor para el parámetro al crear la función, por ejemplo, `def func(x = 3)`."
      ],
      "metadata": {
        "id": "eahEzmzyLNNG"
      }
    },
    {
      "cell_type": "code",
      "source": [
        "# Método 1\n",
        "def make_rug(m, n, s='A'):\n",
        "    return [s*n for _ in range(m)]\n",
        "\n",
        "# Método 2\n",
        "def make_rug(m, n, s='A'):\n",
        "    return [s*n] * m"
      ],
      "metadata": {
        "id": "bt1kAeH8LNNH"
      },
      "execution_count": null,
      "outputs": []
    },
    {
      "cell_type": "code",
      "source": [
        "print(make_rug(3, 5, '#'))\n",
        "print(make_rug(3, 5, '$'))\n",
        "print(make_rug(2, 2, 'A'))\n",
        "print(make_rug(2, 2))\n",
        "print(make_rug(4, 2, '@.') )"
      ],
      "metadata": {
        "id": "lk_T2N1oLNNH",
        "colab": {
          "base_uri": "https://localhost:8080/"
        },
        "outputId": "e3a356f2-f55f-4b8a-de21-f57c044afba9"
      },
      "execution_count": null,
      "outputs": [
        {
          "output_type": "stream",
          "name": "stdout",
          "text": [
            "['#####', '#####', '#####']\n",
            "['$$$$$', '$$$$$', '$$$$$']\n",
            "['AA', 'AA']\n",
            "['AA', 'AA']\n",
            "['@.@.', '@.@.', '@.@.', '@.@.']\n"
          ]
        }
      ]
    },
    {
      "cell_type": "markdown",
      "source": [
        "## Reto 470: Verificar si las Líneas Son Paralelas\n",
        "* Check If Lines Are Parallel\n",
        "* Dadas dos líneas, determina si son paralelas o no.\n",
        "* Las líneas se representan mediante una lista [a, b, c], que corresponde a la ecuación de la línea $ax+by=c$.\n",
        "* Ejemplos:\n",
        "    1. lines_are_parallel([1, 2, 3], [1, 2, 4]) ➞ True\n",
        "        - x+2y=3 y x+2y=4 son paralelas.\n",
        "    2. lines_are_parallel([2, 4, 1], [4, 2, 1]) ➞ False\n",
        "        - 2x+4y=1 y 4x+2y=1 no son paralelas.\n",
        "    3. lines_are_parallel([0, 1, 5], [0, 1, 5]) ➞ True\n",
        "        - Las líneas son paralelas a sí mismas.\n",
        "* Notas:\n",
        "    - Dos líneas son paralelas si tienen la misma pendiente. Si las pendientes son diferentes, las líneas no son paralelas.\n",
        "    - Todos los casos de prueba usan entradas válidas (por ejemplo, no hay listas con tamaño incorrecto).\n",
        "    - Todos los coeficientes serán números enteros."
      ],
      "metadata": {
        "id": "LyBHsamYLNTi"
      }
    },
    {
      "cell_type": "code",
      "source": [
        "def lines_are_parallel(line1, line2):\n",
        "    # Descomponemos las líneas en sus coeficientes a, b y c\n",
        "    a1, b1, _ = line1\n",
        "    a2, b2, _ = line2\n",
        "\n",
        "    # Dos líneas son paralelas si sus pendientes son iguales\n",
        "    # La pendiente de una línea ax + by = c es -a/b\n",
        "    # Las líneas son paralelas si -a1/b1 == -a2/b2, que es equivalente a a1*b2 == a2*b1\n",
        "\n",
        "    return a1 * b2 == a2 * b1"
      ],
      "metadata": {
        "id": "Uo4ZObcALNTj"
      },
      "execution_count": null,
      "outputs": []
    },
    {
      "cell_type": "code",
      "source": [
        "print(lines_are_parallel([1, 2, 3], [1, 2, 4]))\n",
        "print(lines_are_parallel([2, 4, 1], [4, 2, 1]))\n",
        "print(lines_are_parallel([0, 1, 5], [0, 1, 5]))"
      ],
      "metadata": {
        "id": "5sQe_lqeLNTj",
        "colab": {
          "base_uri": "https://localhost:8080/"
        },
        "outputId": "44bf1a8c-049a-4b8e-e052-40c24614ba14"
      },
      "execution_count": null,
      "outputs": [
        {
          "output_type": "stream",
          "name": "stdout",
          "text": [
            "True\n",
            "False\n",
            "True\n"
          ]
        }
      ]
    },
    {
      "cell_type": "markdown",
      "source": [
        "## Reto 471: Hexadecimal a Binario\n",
        "* Hex to Binary\n",
        "* Crea una función que tomará un número HEX y devolverá el equivalente binario (como una cadena).\n",
        "* Ejemplos:\n",
        "    1. to_binary(0xFF) ➞ \"11111111\"\n",
        "    2. to_binary(0xAA) ➞ \"10101010\"\n",
        "    3. to_binary(0xFA) ➞ \"11111010\"\n",
        "    4. to_binary(0x03) ➞ \"00000011\"\n",
        "* Notas:\n",
        "    - El número siempre será un número de 8 bits."
      ],
      "metadata": {
        "id": "SQWyZ6-ALNZx"
      }
    },
    {
      "cell_type": "code",
      "source": [
        "# Método 1\n",
        "def to_binary(hex_number):\n",
        "    # Convertir el número hexadecimal a binario y quitar el prefijo '0b'\n",
        "    binary_string = bin(hex_number)[2:]\n",
        "    # Asegurarse de que el resultado tenga 8 bits rellenando con ceros a la izquierda si es necesario\n",
        "    return binary_string.zfill(8)\n",
        "\n",
        "# Método 2. Usando formato\n",
        "def to_binary(hex_number):\n",
        "    # Utilizar formateo de cadenas para convertir el número hexadecimal a binario\n",
        "    binary_string = format(hex_number, '08b')\n",
        "    return binary_string\n",
        "\n",
        "# Método 3. Usando la f de format\n",
        "def to_binary(hex_number):\n",
        "    # Utilizar una f-string para convertir el número hexadecimal a binario\n",
        "    binary_string = f'{hex_number:08b}'\n",
        "    return binary_string\n",
        "\n",
        "# Método 4. Método manual\n",
        "def to_binary(hex_number):\n",
        "    # Diccionario para la conversión de cada dígito hexadecimal a binario\n",
        "    hex_to_bin = {\n",
        "        '0': '0000', '1': '0001', '2': '0010', '3': '0011',\n",
        "        '4': '0100', '5': '0101', '6': '0110', '7': '0111',\n",
        "        '8': '1000', '9': '1001', 'A': '1010', 'B': '1011',\n",
        "        'C': '1100', 'D': '1101', 'E': '1110', 'F': '1111'\n",
        "    }\n",
        "\n",
        "    # Convertir el número hexadecimal a una cadena y eliminar el prefijo '0x'\n",
        "    hex_string = hex(hex_number)[2:].upper()\n",
        "\n",
        "    # Convertir cada dígito hexadecimal a su equivalente binario y concatenar los resultados\n",
        "    binary_string = ''.join(hex_to_bin[digit] for digit in hex_string)\n",
        "\n",
        "    # Asegurarse de que el resultado tenga 8 bits rellenando con ceros a la izquierda si es necesario\n",
        "    return binary_string.zfill(8)"
      ],
      "metadata": {
        "id": "92mwwCgALNZy"
      },
      "execution_count": null,
      "outputs": []
    },
    {
      "cell_type": "code",
      "source": [
        "print(to_binary(0xFF))\n",
        "print(to_binary(0xAA))\n",
        "print(to_binary(0xFA))\n",
        "print(to_binary(0x03))"
      ],
      "metadata": {
        "id": "3mS_3YvwLNZy",
        "colab": {
          "base_uri": "https://localhost:8080/"
        },
        "outputId": "e247b84e-ba41-494b-c223-548f51af7d4a"
      },
      "execution_count": null,
      "outputs": [
        {
          "output_type": "stream",
          "name": "stdout",
          "text": [
            "11111111\n",
            "10101010\n",
            "11111010\n",
            "00000011\n"
          ]
        }
      ]
    },
    {
      "cell_type": "markdown",
      "source": [
        "## Reto 472: Volumen de una Cáscara Esférica\n",
        "* Volume of a Spherical Shell\n",
        "* Crea una función que reciba dos argumentos: el radio interno `r1` y el radio externo `r2` de una cáscara esférica.\n",
        "* La función debe devolver el volumen de un caparazón esférico redondeado a la milésima más cercana.\n",
        "* La fórmula para el volumen de una cáscara esférica es:\n",
        "\n",
        "$$ V = \\frac{4}{3} \\pi (r_2^3 - r_1^3) $$\n",
        "\n",
        "* Ejemplos:\n",
        "    1. vol_shell(3, 3) ➞ 0\n",
        "    2. vol_shell(7, 2) ➞ 1403.245\n",
        "    3. vol_shell(3, 800) ➞ 2144660471.753\n",
        "* Notas\n",
        "    - Los radios serán siempre números positivos.\n",
        "    - `r1` podría ser el radio interior o el radio exterior, no devuelva un número negativo."
      ],
      "metadata": {
        "id": "2owkhItHLhyB"
      }
    },
    {
      "cell_type": "code",
      "source": [
        "# Método 1\n",
        "import math\n",
        "\n",
        "def vol_shell(r1, r2):\n",
        "    return abs(round((4/3) * math.pi * (r2 ** 3 - r1 ** 3), 3))"
      ],
      "metadata": {
        "id": "RXDX_haSLhyB"
      },
      "execution_count": null,
      "outputs": []
    },
    {
      "cell_type": "code",
      "source": [
        "print(vol_shell(3, 3))\n",
        "print(vol_shell(7, 2))\n",
        "print(vol_shell(3, 800))"
      ],
      "metadata": {
        "id": "c7qRbfyqLhyB",
        "colab": {
          "base_uri": "https://localhost:8080/"
        },
        "outputId": "d20c8160-0fc0-4b38-99ba-2eecf435799c"
      },
      "execution_count": null,
      "outputs": [
        {
          "output_type": "stream",
          "name": "stdout",
          "text": [
            "0.0\n",
            "1403.245\n",
            "2144660471.753\n"
          ]
        }
      ]
    },
    {
      "cell_type": "markdown",
      "source": [
        "## Reto 473:Algoritmos I: Introducción a la\n",
        "* Algorithms I: Introduction to Recursion\n",
        "* Recursión: en ciencias de la computación, la \"recursión\" es el acto de escribir una función que se llama a sí misma desde su propio código.\n",
        "* Al usar funciones recursivas se necesita un \"**Caso Base**\". Un caso base detendrá la función una vez que alcance su objetivo previsto. En ausencia de un caso base, el programa puede colapsar debido a un \"Desbordamiento de Pila\" o iniciar un \"Bucle Infinito\".\n",
        "* Posible problema: inicializar variables en funciones recursivas puede ser problemático porque cuando la función se ejecuta nuevamente, restablecerá el valor de esa variable. Para esta función recursiva específica, la variable funciona bien porque el número objetivo que estamos tratando de alcanzar es consistentemente cero.\n",
        "* Instrucciones: La función recursiva para este desafío debe devolver el factorial de un entero ingresado. Si alguien necesita un repaso, los factoriales en matemáticas están representados por un signo de exclamación colocado a la derecha de un número: 4! = 4 x 3 x 2 x 1 = 24\n",
        "* Ejemplos:\n",
        "    1. factorial(0) ➞ 1\n",
        "    2. factorial(2) ➞ 2\n",
        "    3. factorial(3) ➞ 6\n",
        "    4. factorial(4) ➞ 24\n",
        "    5. factorial(5) ➞ 120\n",
        "    6. factorial(30) ➞ 265252859812191058636308480000000\n",
        "* Nota\n",
        "    - Por definición el factorial de cero es uno."
      ],
      "metadata": {
        "id": "CDLt9UxgLh4J"
      }
    },
    {
      "cell_type": "code",
      "source": [
        "# Método 1. Método iterativo\n",
        "def factorial(n):\n",
        "    if n == 0:\n",
        "        return 1\n",
        "    fac = 1\n",
        "    for i in range(1, n+1):\n",
        "        fac *= i\n",
        "    return fac\n",
        "\n",
        "# Método 2. Método recursivo\n",
        "def factorial(n):\n",
        "    if n == 0:\n",
        "        return 1\n",
        "    else:\n",
        "        return n * factorial(n - 1)\n",
        "\n",
        "# Método 3. También es recursivo pero con un resultado parcial\n",
        "def factorial(n, result=1):\n",
        "    # Caso base: si n es 0, retornar el resultado parcial\n",
        "    if n == 0:\n",
        "        return result\n",
        "    # Caso recursivo: multiplicar n por el resultado parcial y llamar recursivamente con n-1\n",
        "    return factorial(n - 1, n * result)"
      ],
      "metadata": {
        "id": "8vdcf6vQLh4J"
      },
      "execution_count": null,
      "outputs": []
    },
    {
      "cell_type": "code",
      "source": [
        "print(factorial(0))\n",
        "print(factorial(2))\n",
        "print(factorial(3))\n",
        "print(factorial(4))\n",
        "print(factorial(5))\n",
        "print(factorial(30))"
      ],
      "metadata": {
        "id": "5ZUHKvfgLh4J",
        "colab": {
          "base_uri": "https://localhost:8080/"
        },
        "outputId": "196b24d6-6c2a-4cfc-ca3c-ca144356673a"
      },
      "execution_count": null,
      "outputs": [
        {
          "output_type": "stream",
          "name": "stdout",
          "text": [
            "1\n",
            "2\n",
            "6\n",
            "24\n",
            "120\n",
            "265252859812191058636308480000000\n"
          ]
        }
      ]
    },
    {
      "cell_type": "markdown",
      "source": [
        "## Reto 474: Diccionario de caracteres y códigos ASCII\n",
        "* Characters and ASCII Code Dictionary\n",
        "* Escribe una función que transforme una lista de caracteres en una lista de diccionarios, donde:\n",
        "    - Las claves son los propios personajes.\n",
        "    - Los valores son los códigos ASCII de esos caracteres.\n",
        "* Ejemplos:\n",
        "    1. to_dict([\"a\", \"b\", \"c\"]) ➞ [{\"a\": 97}, {\"b\": 98}, {\"c\": 99}]\n",
        "    2. to_dict([\"*\"]) ➞ [{\"^\": 42}]\n",
        "    3. to_dict([]) ➞ []"
      ],
      "metadata": {
        "id": "P7ziK0i7Lh-G"
      }
    },
    {
      "cell_type": "code",
      "source": [
        "# Método 1\n",
        "def to_dict(characters):\n",
        "    # Lista para almacenar los diccionarios resultantes\n",
        "    result = []\n",
        "\n",
        "    # Iterar sobre cada carácter en la lista de caracteres\n",
        "    for char in characters:\n",
        "        # Crear un diccionario con el carácter como clave y su código ASCII como valor\n",
        "        char_dict = {char: ord(char)}\n",
        "        # Agregar el diccionario a la lista de resultados\n",
        "        result.append(char_dict)\n",
        "\n",
        "    return result"
      ],
      "metadata": {
        "id": "uqXYW16-Lh-G"
      },
      "execution_count": null,
      "outputs": []
    },
    {
      "cell_type": "code",
      "source": [
        "print(to_dict([\"a\", \"b\", \"c\"]))\n",
        "print(to_dict([\"*\"]))\n",
        "print(to_dict([]) )"
      ],
      "metadata": {
        "id": "qDWhkknZLh-G",
        "colab": {
          "base_uri": "https://localhost:8080/"
        },
        "outputId": "e8f4c889-e865-481a-8efc-1e116f9f8b2c"
      },
      "execution_count": null,
      "outputs": [
        {
          "output_type": "stream",
          "name": "stdout",
          "text": [
            "[{'a': 97}, {'b': 98}, {'c': 99}]\n",
            "[{'*': 42}]\n",
            "[]\n"
          ]
        }
      ]
    },
    {
      "cell_type": "markdown",
      "source": [
        "## Reto 475: ¡El DÍA DEL BLOQ MAYÚS ha terminado!\n",
        "* CAPS LOCK DAY is over!\n",
        "* Crea una función que reciba una cadena de texto. Si la cadena está completamente en mayúsculas, conviértela a minúsculas y añade un signo de exclamación al final.\n",
        "* Ejemplos:\n",
        "    1. normalize(\"CAPS LOCK DAY IS OVER\") ➞ \"Caps lock day is over!\"\n",
        "    2. normalize(\"Today is not caps lock day.\") ➞ \"Today is not caps lock day.\"\n",
        "    3. normalize(\"Let us stay calm, no need to panic.\") ➞ \"Let us stay calm, no need to panic.\"\n",
        "    4. normalize(\"NO TODAS SON MAYUSCULAs\") ➞ \"NO TODAS SON MAYUSCULAs\"\n",
        "* Notas\n",
        "    - Cada cadena es una oración y debe comenzar con un carácter en mayúscula."
      ],
      "metadata": {
        "id": "5GsbhwnNLiFJ"
      }
    },
    {
      "cell_type": "code",
      "source": [
        "# Método 1\n",
        "def normalize(s):\n",
        "    return s.capitalize()+'!' if s.isupper() else s\n",
        "\n",
        "# Método 2\n",
        "def normalize(s):\n",
        "    if s.isupper():\n",
        "        # Convertir a minúsculas y añadir un signo de exclamación al final\n",
        "        return s.lower().capitalize() + \"!\"\n",
        "    else:\n",
        "        # Devolver la cadena tal como está\n",
        "        return s"
      ],
      "metadata": {
        "id": "nxMhqeUJLiFJ"
      },
      "execution_count": null,
      "outputs": []
    },
    {
      "cell_type": "code",
      "source": [
        "print(normalize(\"CAPS LOCK DAY IS OVER\"))\n",
        "print(normalize(\"Today is not caps lock day.\"))\n",
        "print(normalize(\"Let us stay calm, no need to panic.\"))\n",
        "print(normalize(\"NO TODAS SON MAYUSCULAs\"))"
      ],
      "metadata": {
        "id": "sQbzrz9OLiFJ",
        "colab": {
          "base_uri": "https://localhost:8080/"
        },
        "outputId": "4917dc57-4a11-4912-ffcd-76c29d5dae61"
      },
      "execution_count": null,
      "outputs": [
        {
          "output_type": "stream",
          "name": "stdout",
          "text": [
            "Caps lock day is over!\n",
            "Today is not caps lock day.\n",
            "Let us stay calm, no need to panic.\n",
            "NO TODAS SON MAYUSCULAs\n"
          ]
        }
      ]
    },
    {
      "cell_type": "markdown",
      "source": [
        "## Reto 476: Suma Fracciones\n",
        "* Sum Fractions\n",
        "* Crea una función que tome una lista que contiene listas anidadas como argumento.\n",
        "* Cada sublista tiene 2 elementos. El primer elemento es el numerador y el segundo elemento es el denominador. Devuelve la suma de las fracciones redondeada al número entero más cercano.\n",
        "* Ejemplos:\n",
        "    1. sum_fractions([[18, 13], [4, 5]]) ➞ 2\n",
        "    2. sum_fractions([[36, 4], [22, 60]]) ➞ 9\n",
        "    3. sum_fractions([[11, 2], [3, 4], [5, 4], [21, 11], [12, 6]]) ➞ 11\n",
        "* Notas\n",
        "    - Tu resultado debe ser un número, no una cadena."
      ],
      "metadata": {
        "id": "kMC9MQDfLiLH"
      }
    },
    {
      "cell_type": "code",
      "source": [
        "# Método 1\n",
        "def sum_fractions(lst):\n",
        "    result = 0\n",
        "    for pareja in lst:\n",
        "        result += pareja[0] / pareja[1]\n",
        "    return round(result)\n",
        "\n",
        "# Método 2\n",
        "def sum_fractions(lst):\n",
        "    return round(sum(pareja[0]/pareja[1] for pareja in lst))"
      ],
      "metadata": {
        "id": "nvEc58pxLiLH"
      },
      "execution_count": null,
      "outputs": []
    },
    {
      "cell_type": "code",
      "source": [
        "print(sum_fractions([[18, 13], [4, 5]]))\n",
        "print(sum_fractions([[36, 4], [22, 60]]))\n",
        "print(sum_fractions([[11, 2], [3, 4], [5, 4], [21, 11], [12, 6]]))"
      ],
      "metadata": {
        "id": "-wmRV9t5LiLH",
        "colab": {
          "base_uri": "https://localhost:8080/"
        },
        "outputId": "58cdbb0b-cf10-4803-83dd-54ed80f55b40"
      },
      "execution_count": null,
      "outputs": [
        {
          "output_type": "stream",
          "name": "stdout",
          "text": [
            "2\n",
            "9\n",
            "11\n"
          ]
        }
      ]
    },
    {
      "cell_type": "markdown",
      "source": [
        "## Reto 477: ¿Qué función devuelve el número más grande?\n",
        "*  Which Function Returns the Larger Number?\n",
        "* A tu función se le pasarán dos funciones, `f` y `g`, que no toman ningún parámetro.\n",
        "* Tu función debe llamarlas y devolver una cadena que indique qué función devolvió el número más grande.\n",
        "    1. Si `f` devuelve el número más grande, devuelve la cadena `\"f\"`.\n",
        "    2. Si `g` devuelve el número más grande, devuelve la cadena `\"g\"`.\n",
        "    3. Si las funciones devuelven el mismo número, devuelve la cadena `\"neither\"`.\n",
        "* Ejemplos:\n",
        "    1. which_is_larger(lambda: 99, lambda: 50) ➞ \"f\"\n",
        "    2. which_is_larger(lambda: 5, lambda: 10) ➞ \"g\"\n",
        "    3. which_is_larger(lambda: 25,  lambda: 25) ➞ \"neither\"\n",
        "* Notas\n",
        "    - Este ejercicio está diseñado como una introducción a funciones de orden superior (funciones que usan otras funciones para hacer su trabajo)."
      ],
      "metadata": {
        "id": "xSImdk9BLiRc"
      }
    },
    {
      "cell_type": "code",
      "source": [
        "# Método 1\n",
        "def which_is_larger(f, g):\n",
        "    result_f = f()\n",
        "    result_g = g()\n",
        "\n",
        "    if result_f > result_g:\n",
        "        return \"f\"\n",
        "    elif result_g > result_f:\n",
        "        return \"g\"\n",
        "    else:\n",
        "        return \"neither\"\n",
        "\n",
        "'''La función which_is_larger toma dos funciones f y g como argumentos, las llama, y compara los resultados.\n",
        "Luego, devuelve la cadena correspondiente dependiendo de cuál resultado es mayor, o si son iguales.'''\n",
        "\n",
        "# Método 2\n",
        "def which_is_larger(f, g):\n",
        "    return \"f\" if f() > g() else \"g\" if g() > f() else \"neither\""
      ],
      "metadata": {
        "id": "aT7l5TEpLiRc"
      },
      "execution_count": null,
      "outputs": []
    },
    {
      "cell_type": "code",
      "source": [
        "print(which_is_larger(lambda: 99, lambda: 50))  # ➞ \"f\"\n",
        "print(which_is_larger(lambda: 5, lambda: 10))  # ➞ \"g\"\n",
        "print(which_is_larger(lambda: 25, lambda: 25))  # ➞ \"neither\""
      ],
      "metadata": {
        "id": "BqaNoXNXLiRc",
        "colab": {
          "base_uri": "https://localhost:8080/"
        },
        "outputId": "bdc19c1f-9710-4513-9dbe-ae7f9bb98065"
      },
      "execution_count": null,
      "outputs": [
        {
          "output_type": "stream",
          "name": "stdout",
          "text": [
            "f\n",
            "g\n",
            "neither\n"
          ]
        }
      ]
    },
    {
      "cell_type": "markdown",
      "source": [
        "### Funciones de orden superior\n",
        "[Passing a function as an argument to another function in Python](https://treyhunner.com/2020/01/passing-functions-as-arguments/)\n",
        "*  Higher order functions\n",
        "* Las funciones de orden superior en Python son funciones que pueden tomar otras funciones como argumentos o devolver funciones como resultados. Este concepto es fundamental en la programación funcional y permite escribir código más modular y reutilizable.\n",
        "\n",
        "#### Características de las funciones de orden superior:\n",
        "\n",
        "1. **Tomar funciones como argumentos:**\n",
        "    - Una función de orden superior puede recibir una o más funciones como parámetros.\n",
        "    - Esto permite que la función de orden superior aplique las funciones recibidas sobre datos o utilice las funciones para controlar el flujo del programa.\n",
        "\n",
        "2. **Devolver funciones:**\n",
        "    - Una función de orden superior puede devolver una nueva función como resultado.\n",
        "    - Esto es útil para crear funciones personalizadas en tiempo de ejecución o para crear funciones que retienen contexto (closures).\n",
        "\n",
        "#### Ejemplos:\n",
        "\n",
        "1. **Funciones que toman otras funciones como argumentos:**\n",
        "\n",
        "   ```python\n",
        "   def apply_function(f, value):\n",
        "       return f(value)\n",
        "\n",
        "   def square(x):\n",
        "       return x * x\n",
        "\n",
        "   def cube(x):\n",
        "       return x * x * x\n",
        "\n",
        "   print(apply_function(square, 5))  # ➞ 25\n",
        "   print(apply_function(cube, 3))    # ➞ 27\n",
        "   ```\n",
        "\n",
        "   En este ejemplo, `apply_function` es una función de orden superior porque toma otra función `f` como argumento y la aplica al valor dado.\n",
        "\n",
        "2. **Funciones que devuelven otras funciones:**\n",
        "\n",
        "   ```python\n",
        "   def make_multiplier(n):\n",
        "       def multiplier(x):\n",
        "           return x * n\n",
        "       return multiplier\n",
        "\n",
        "   times3 = make_multiplier(3)\n",
        "   times5 = make_multiplier(5)\n",
        "\n",
        "   print(times3(10))  # ➞ 30\n",
        "   print(times5(10))  # ➞ 50\n",
        "   ```\n",
        "\n",
        "   Aquí, `make_multiplier` es una función de orden superior que devuelve una nueva función `multiplier`, la cual multiplica su argumento por `n`.\n",
        "\n",
        "#### Ventajas de las funciones de orden superior\n",
        "\n",
        "    1. Reutilización del código\n",
        "        - Permiten escribir funciones genéricas que pueden ser reutilizadas con diferentes comportamientos.\n",
        "    2. Modularidad\n",
        "        - Facilitan la creación de código modular y limpio, separando las preocupaciones en diferentes funciones.\n",
        "    3. Flexibilidad\n",
        "        - Permiten cambiar el comportamiento de las funciones en tiempo de ejecución.\n",
        "\n",
        "* Las funciones de orden superior son una herramienta poderosa en Python, especialmente útil en programación funcional, para manipular y transformar funciones y datos de manera eficiente."
      ],
      "metadata": {
        "id": "qV9Jn709tX05"
      }
    },
    {
      "cell_type": "markdown",
      "source": [
        "## Reto 478: Dos Elementos Distintos\n",
        "* Two Distinct Elements\n",
        "* En cada lista de entrada, cada número se repite al menos una vez, excepto dos. Escribe una función que devuelva los dos números únicos.\n",
        "* Ejemplos\n",
        "  1. return_unique([1, 9, 8, 8, 7, 6, 1, 6]) ➞ [9, 7]\n",
        "  2. return_unique([5, 5, 2, 4, 4, 4, 9, 9, 9, 1]) ➞ [2, 1]\n",
        "  3. return_unique([9, 5, 6, 8, 7, 7, 1, 1, 1, 1, 1, 9, 8]) ➞ [5, 6]\n",
        "* Notas\n",
        "  - Mantén el mismo orden en la salida."
      ],
      "metadata": {
        "id": "06neNEk8LiX5"
      }
    },
    {
      "cell_type": "code",
      "source": [
        "# Método 1\n",
        "def return_unique(lst):\n",
        "    result = []\n",
        "    for e in lst:\n",
        "        if lst.count(e) == 1:\n",
        "            result.append(e)\n",
        "    return result\n",
        "\n",
        "# Método 2\n",
        "def return_unique(lst):\n",
        "    return [e for e in lst if lst.count(e) == 1]\n",
        "\n",
        "# Método 3\n",
        "def return_unique(lst):\n",
        "    # Crear un diccionario para contar las ocurrencias de cada número\n",
        "    count_dict = {}\n",
        "\n",
        "    # Contar las ocurrencias de cada número en la lista\n",
        "    for num in lst:\n",
        "        if num in count_dict:\n",
        "            count_dict[num] += 1\n",
        "        else:\n",
        "            count_dict[num] = 1\n",
        "\n",
        "    # Filtrar los números que aparecen exactamente una vez\n",
        "    unique_numbers = [num for num, count in count_dict.items() if count == 1]\n",
        "\n",
        "    return unique_numbers\n",
        "\n",
        "# Método 4\n",
        "from collections import Counter\n",
        "\n",
        "def return_unique(lst):\n",
        "    # Contar las ocurrencias de cada número en la lista\n",
        "    count = Counter(lst)\n",
        "\n",
        "    # Filtrar los números que aparecen exactamente una vez\n",
        "    unique_numbers = [num for num, cnt in count.items() if cnt == 1]\n",
        "\n",
        "    return unique_numbers\n",
        "\n",
        "# Método 5\n",
        "def return_unique(lst):\n",
        "    result = []\n",
        "    seen = set()  # Para rastrear los números que ya hemos visto\n",
        "    duplicates = set()  # Para rastrear los números duplicados\n",
        "\n",
        "    while lst:\n",
        "        eliminado = lst.pop(0)\n",
        "        if eliminado in seen:\n",
        "            duplicates.add(eliminado)\n",
        "        else:\n",
        "            seen.add(eliminado)\n",
        "\n",
        "    for num in seen:\n",
        "        if num not in duplicates:\n",
        "            result.append(num)\n",
        "\n",
        "    return result\n",
        "\n",
        "# Método 6\n",
        "from collections import Counter\n",
        "\n",
        "def return_unique(lst):\n",
        "    # Contar las ocurrencias de cada número en la lista\n",
        "    count = Counter(lst)\n",
        "\n",
        "    # Filtrar los números que aparecen exactamente una vez utilizando filter y lambda\n",
        "    unique_numbers = list(filter(lambda x: count[x] == 1, lst))\n",
        "\n",
        "    # Eliminar duplicados mientras se mantiene el orden original\n",
        "    seen = set()\n",
        "    result = []\n",
        "    for num in unique_numbers:\n",
        "        if num not in seen:\n",
        "            result.append(num)\n",
        "            seen.add(num)\n",
        "\n",
        "    return result\n",
        "\n",
        "# Método 7\n",
        "def return_unique(lst):\n",
        "    # Contar las ocurrencias de cada número en la lista\n",
        "    count = {num: lst.count(num) for num in lst}\n",
        "\n",
        "    # Filtrar los números que aparecen exactamente una vez utilizando list comprehension\n",
        "    unique_numbers = [num for num in lst if count[num] == 1]\n",
        "\n",
        "    # Eliminar duplicados mientras se mantiene el orden original\n",
        "    result = []\n",
        "    for num in unique_numbers:\n",
        "        if num not in result:\n",
        "            result.append(num)\n",
        "\n",
        "    return result\n",
        "\n",
        "# Método 8\n",
        "def return_unique(lst):\n",
        "    # Contar las ocurrencias de cada número en la lista\n",
        "    counts = list(map(lambda x: lst.count(x), lst))\n",
        "\n",
        "    # Combinar los números con sus conteos\n",
        "    numbers_with_counts = list(zip(lst, counts))\n",
        "\n",
        "    # Filtrar los números que aparecen exactamente una vez\n",
        "    unique_numbers = list(filter(lambda x: x[1] == 1, numbers_with_counts))\n",
        "\n",
        "    # Extraer solo los números\n",
        "    result = list(map(lambda x: x[0], unique_numbers))\n",
        "\n",
        "    return result"
      ],
      "metadata": {
        "id": "kaT8iASjLiX5"
      },
      "execution_count": null,
      "outputs": []
    },
    {
      "cell_type": "code",
      "source": [
        "print(return_unique([1, 9, 8, 8, 7, 6, 1, 6]))  # ➞ [9, 7]\n",
        "print(return_unique([5, 5, 2, 4, 4, 4, 9, 9, 9, 1]))  # ➞ [2, 1]\n",
        "print(return_unique([9, 5, 6, 8, 7, 7, 1, 1, 1, 1, 1, 9, 8]))  # ➞ [5, 6]"
      ],
      "metadata": {
        "id": "SHkZrpu8LiX5",
        "colab": {
          "base_uri": "https://localhost:8080/"
        },
        "outputId": "a2e7a5fd-1e4e-4b39-bc14-d940ba7507e7"
      },
      "execution_count": null,
      "outputs": [
        {
          "output_type": "stream",
          "name": "stdout",
          "text": [
            "[9, 7]\n",
            "[2, 1]\n",
            "[5, 6]\n"
          ]
        }
      ]
    },
    {
      "cell_type": "markdown",
      "source": [
        "## Reto 479: Secuencia Algebraica - Cajas\n",
        "* Algebra Sequence — Boxes\n",
        "* Crea una función que tome un número (step) como argumento y devuelva la cantidad de cajas en ese paso de la secuencia.\n",
        "    - Paso 0: Comienza con 0\n",
        "    - Paso 1: Suma 3\n",
        "    - Paso 2: Resta 1\n",
        "    - Repetir Paso 1 y Paso 2 ...\n",
        "* Ejemplos\n",
        "    1. box_seq(0) ➞ 0\n",
        "    2. box_seq(1) ➞ 3\n",
        "    3. box_seq(2) ➞ 2\n",
        "* Notas\n",
        "    - El paso (el valor de entrada) siempre es un entero positivo (o cero).\n",
        "    - Para un paso impar, suma 3; para un paso par, resta 1."
      ],
      "metadata": {
        "id": "YYzjcI17Liez"
      }
    },
    {
      "cell_type": "code",
      "source": [
        "# Método 1\n",
        "def box_seq(step):\n",
        "    if step == 0:\n",
        "        return 0\n",
        "\n",
        "    boxes = 0\n",
        "    for i in range(1, step + 1):\n",
        "        if i % 2 == 1:  # Para pasos impares (1, 3, 5, ...)\n",
        "            boxes += 3\n",
        "        else:  # Para pasos pares (2, 4, 6, ...)\n",
        "            boxes -= 1\n",
        "\n",
        "    return boxes\n",
        "\n",
        "# Método 2. Con recursividad\n",
        "def box_seq(step):\n",
        "    if step == 0:\n",
        "        return 0\n",
        "    elif step % 2 == 1:  # Para pasos impares (1, 3, 5, ...)\n",
        "        return box_seq(step - 1) + 3\n",
        "    else:  # Para pasos pares (2, 4, 6, ...)\n",
        "        return box_seq(step - 1) - 1"
      ],
      "metadata": {
        "id": "it3KGvclLiez"
      },
      "execution_count": null,
      "outputs": []
    },
    {
      "cell_type": "code",
      "source": [
        "print(box_seq(0))\n",
        "print(box_seq(1))\n",
        "print(box_seq(2))"
      ],
      "metadata": {
        "id": "10WjuOejLiez",
        "colab": {
          "base_uri": "https://localhost:8080/"
        },
        "outputId": "fe195c25-d3c8-4bbf-8434-18e3d9568af8"
      },
      "execution_count": null,
      "outputs": [
        {
          "output_type": "stream",
          "name": "stdout",
          "text": [
            "0\n",
            "3\n",
            "2\n"
          ]
        }
      ]
    },
    {
      "cell_type": "markdown",
      "source": [
        "## Reto 480: Suma de los primeros positivos\n",
        "* Dada una lista de números enteros calcular la suma de los primeros positivos.\n",
        "* Se sumaran los números de la lista hasta llegar a primer número que sea cero o negativo.\n",
        "* Considerar que en el caso de una lista vacía la suma es cero.\n",
        "* Si el primer número de la lista no es positivo la suma será cero."
      ],
      "metadata": {
        "id": "GkLinAg8Liky"
      }
    },
    {
      "cell_type": "code",
      "source": [
        "# Método 1\n",
        "from itertools import takewhile\n",
        "\n",
        "def suma_primeros_positivos(lista):\n",
        "    return sum(takewhile(lambda x: x > 0, lista))"
      ],
      "metadata": {
        "id": "NzErCS-oLiky"
      },
      "execution_count": null,
      "outputs": []
    },
    {
      "cell_type": "code",
      "source": [
        "# Método 2\n",
        "def suma_primeros_positivos(lista):\n",
        "    return sum(filter(lambda x: x > 0, take_while(lambda x: x > 0, lista)))\n",
        "\n",
        "def take_while(predicado, iterable):\n",
        "    for x in iterable:\n",
        "        if predicado(x):\n",
        "            yield x\n",
        "        else:\n",
        "            break"
      ],
      "metadata": {
        "id": "3djaSvnUvkcV"
      },
      "execution_count": null,
      "outputs": []
    },
    {
      "cell_type": "code",
      "source": [
        "# Método 3\n",
        "def take_while(predicado, iterable):\n",
        "    resultado = []\n",
        "    for x in iterable:\n",
        "        if predicado(x):\n",
        "            resultado.append(x)\n",
        "        else:\n",
        "            break\n",
        "    return resultado\n",
        "\n",
        "def suma_primeros_positivos(lista):\n",
        "    return sum(filter(lambda x: x > 0, take_while(lambda x: x > 0, lista)))"
      ],
      "metadata": {
        "id": "L4YR7F9_vwX6"
      },
      "execution_count": null,
      "outputs": []
    },
    {
      "cell_type": "code",
      "source": [
        "# Método 4. Solución imperativa\n",
        "# Recorre la lista una sola vez hasta encontrar un número no positivo.\n",
        "def suma_primeros_positivos(lista):\n",
        "    suma = 0\n",
        "    for num in lista:\n",
        "        if num <= 0:\n",
        "            break\n",
        "        suma += num\n",
        "    return suma"
      ],
      "metadata": {
        "id": "YwMtNSObzwB1"
      },
      "execution_count": null,
      "outputs": []
    },
    {
      "cell_type": "code",
      "source": [
        "print(suma_primeros_positivos([3, 5, -1, 2, 7, -3, 1, 4]))  # 8\n",
        "print(suma_primeros_positivos([3, 5, 1, 2, 7, -3, 1, 4]))   # 18\n",
        "print(suma_primeros_positivos([-1, 2, 7, -3, 1, 4]))        # 0\n",
        "print(suma_primeros_positivos([]))                          # 0"
      ],
      "metadata": {
        "id": "QASfCa0aLiky",
        "outputId": "2493dd82-20d9-4b43-fafb-30eb998bc24c",
        "colab": {
          "base_uri": "https://localhost:8080/"
        }
      },
      "execution_count": null,
      "outputs": [
        {
          "output_type": "stream",
          "name": "stdout",
          "text": [
            "8\n",
            "18\n",
            "0\n",
            "0\n"
          ]
        }
      ]
    },
    {
      "cell_type": "markdown",
      "source": [
        "## Reto 481: Formato IV: Escapando Llaves Curvas\n",
        "* Format IV: Escaping Curly Braces\n",
        "* Para este desafío **no** es necesario crear una función. En su lugar, se requiere crear una **cadena de plantilla** que pueda ser formateada para obtener un cierto resultado.\n",
        "* Escribe una cadena de plantilla de acuerdo al siguiente ejemplo. Ten en cuenta que la plantilla será **formateada dos veces**:\n",
        "* **Ejemplo:**\n",
        "\n",
        "```\n",
        "a = \"John\"\n",
        "b = \"Joe\"\n",
        "template = \"tucadenadeplatillaaquí\"\n",
        "\n",
        "template.format(1).format(a, b) ➞ \"Mi mejor amigo es Joe.\"\n",
        "```\n",
        "\n",
        "* **Consejos**\n",
        "Las llaves curvas pueden ser escapadas duplicándolas. En una cadena de formato, `{{` y `}}` son literalmente `{` y `}` respectivamente.\n",
        "Por ejemplo:\n",
        "\n",
        "```\n",
        "\"{} estas, no estas {{}}\".format(\"Sustituye\") ➞ \"Sustituye estas, no estas {}\"\n",
        "```\n",
        "\n",
        "* **Notas**\n",
        "    -  Envía una cadena, no una función.\n",
        "    -  No cambies el nombre de la variable `template`."
      ],
      "metadata": {
        "id": "d-J7lYOULirf"
      }
    },
    {
      "cell_type": "markdown",
      "source": [
        "* **Solución**\n",
        "\n",
        "* Para resolver este desafío, necesitas crear una cadena de plantilla que, cuando sea formateada dos veces, produzca el resultado \"Mi mejor amigo es Joe.\" usando las variables `a` y `b`.\n",
        "\n",
        "La clave aquí es entender cómo escapar las llaves curvas y cómo se comporta el método `format` en Python.\n",
        "\n",
        "Primero, vamos a ver cómo se debe estructurar la cadena de plantilla:\n",
        "\n",
        "1. Necesitamos una cadena que cuando se formatee con un argumento, produzca otra cadena de plantilla.\n",
        "2. Esa nueva cadena de plantilla debe poder formatearse con dos argumentos (los valores de `a` y `b`) para producir el resultado final.\n",
        "\n",
        "Vamos a desglosar esto paso a paso:\n",
        "\n",
        "1. Queremos que después del primer formateo, la cadena resultante sea algo como `\"Mi mejor amigo es {1}.\"`. Así, al formatear nuevamente con `a` y `b`, `b` reemplazará `{1}`.\n",
        "2. Para conseguirlo, usaremos llaves dobles `{{` y `}}` para que sean interpretadas como literales `{` y `}` en el primer formateo.\n",
        "\n",
        "La cadena de plantilla debería ser algo así:\n",
        "\n",
        "```python\n",
        "template = \"Mi mejor amigo es {1}.\"\n",
        "```\n",
        "\n",
        "Vamos a probarlo con un ejemplo en Python:\n",
        "\n",
        "```python\n",
        "a = \"John\"\n",
        "b = \"Joe\"\n",
        "template = \"Mi mejor amigo es {1}.\"\n",
        "resultado = template.format(1).format(a, b)\n",
        "print(resultado)  # Debería imprimir \"Mi mejor amigo es Joe.\"\n",
        "```\n",
        "\n",
        "Sin embargo, la clave es entender que el primer `format` debe resultar en una cadena que contenga `{1}` para que el segundo `format` lo reemplace correctamente con `b`.\n",
        "\n",
        "Aquí está la solución final:"
      ],
      "metadata": {
        "id": "DUl9VUMyRz9m"
      }
    },
    {
      "cell_type": "code",
      "source": [
        "a = \"John\"\n",
        "b = \"Joe\"\n",
        "template = \"Mi mejor amigo es {{{}}}.\"\n",
        "resultado = template.format(1).format(a, b)\n",
        "print(resultado)  # Debería imprimir \"Mi mejor amigo es Joe.\""
      ],
      "metadata": {
        "colab": {
          "base_uri": "https://localhost:8080/"
        },
        "id": "rlMtjBiRBQTw",
        "outputId": "7eda999e-842b-4f9e-f581-288dd8db85cb"
      },
      "execution_count": null,
      "outputs": [
        {
          "output_type": "stream",
          "name": "stdout",
          "text": [
            "Mi mejor amigo es Joe.\n"
          ]
        }
      ]
    },
    {
      "cell_type": "markdown",
      "source": [
        "## Reto 482: Suma de vocales\n",
        "* Sum of v0w3ls\n",
        "* Crea una función que tome una cadena y devuelva la **suma de las vocales**, donde algunas vocales se consideran números.\n",
        "\n",
        "| Vocal | Número |\n",
        "|:-----:|:------:|\n",
        "|   A   |   4    |\n",
        "|   E   |   3    |\n",
        "|   I   |   1    |\n",
        "|   O   |   0    |\n",
        "|   U   |   0    |\n",
        "\n",
        "**Ejemplos**\n",
        "\n",
        "```\n",
        "sum_of_vowels(\"Aaá\") ➞ 8\n",
        "\n",
        "sum_of_vowels(\"Solo vocales.\") ➞ 7\n",
        "\n",
        "sum_of_vowels(\"¿Obtengo la salida correcta?\") ➞ 23\n",
        "\n",
        "sum_of_vowels(\"¡Me encanta Python!\") ➞ 14\n",
        "```\n",
        "\n",
        "**Notas**\n",
        "- Las vocales no distinguen entre mayúsculas y minúsculas (*por ejemplo, A = 4 y a = 4*)."
      ],
      "metadata": {
        "id": "7fiB0jv8L3hE"
      }
    },
    {
      "cell_type": "code",
      "source": [
        "# Método 1\n",
        "def sum_of_vowels(string):\n",
        "    vowel_values = {'a': 4, 'e': 3, 'i': 1, 'o': 0, 'u': 0}\n",
        "    return sum(vowel_values.get(char.lower(), 0) for char in string)\n",
        "\n",
        "# Método 2\n",
        "def sum_of_vowels(string):\n",
        "    vowel_values = {'a': 4, 'e': 3, 'i': 1, 'o': 0, 'u': 0}\n",
        "    total = 0\n",
        "    for char in string.lower():\n",
        "        if char in vowel_values:\n",
        "            total += vowel_values[char]\n",
        "    return total\n",
        "\n",
        "# Método 3\n",
        "def sum_of_vowels(string):\n",
        "    vowel_values = {'a': 4, 'e': 3, 'i': 1, 'o': 0, 'u': 0}\n",
        "    return sum(vowel_values[char] for char in string.lower() if char in {'a', 'e', 'i', 'o', 'u'})\n",
        "\n",
        "# Método 4\n",
        "def sum_of_vowels(string):\n",
        "    vowel_values = {'a': 4, 'e': 3, 'i': 1, 'o': 0, 'u': 0}\n",
        "    return sum(vowel_values[char] for char in string.lower() if char in 'aeiou')"
      ],
      "metadata": {
        "id": "a7mOXJLPL3hF"
      },
      "execution_count": null,
      "outputs": []
    },
    {
      "cell_type": "markdown",
      "source": [
        "El 0 en la última línea de código se usa como valor predeterminado en el método .get() del diccionario. Específicamente, este 0 cumple dos funciones importantes:\n",
        "\n",
        "Manejo de caracteres no vocales: Si el carácter no es una vocal (no está en el diccionario vowel_values), .get() devolverá 0 en lugar de lanzar un error. Esto permite que la función procese todos los caracteres sin interrupciones.\n",
        "Contribución neutra a la suma: Para cualquier carácter que no sea una vocal, se suma 0, lo que efectivamente lo ignora en la suma total."
      ],
      "metadata": {
        "id": "BE8mOeVSU-c9"
      }
    },
    {
      "cell_type": "code",
      "source": [
        "print(sum_of_vowels(\"Aarón\"))  # Las vocales acentuadas no están en el diccionario de vocales\n",
        "print(sum_of_vowels(\"Solo vocales.\"))\n",
        "print(sum_of_vowels(\"¿Obtengo la salida correcta?\"))\n",
        "print(sum_of_vowels(\"¡Me encanta Python!\"))"
      ],
      "metadata": {
        "id": "rNJK48w9L3hF",
        "colab": {
          "base_uri": "https://localhost:8080/"
        },
        "outputId": "2f097306-6247-4906-f22f-7be101a42aff"
      },
      "execution_count": null,
      "outputs": [
        {
          "output_type": "stream",
          "name": "stdout",
          "text": [
            "8\n",
            "7\n",
            "23\n",
            "14\n"
          ]
        }
      ]
    },
    {
      "cell_type": "markdown",
      "source": [
        "## Reto 483: Emoticonos smiley y angry para analizar intervalos\n",
        "* Face Interval\n",
        "* En matemáticas, el intervalo es la diferencia entre el número más grande y el número más pequeño en una lista.\n",
        "\n",
        "Para ilustrar:\n",
        "\n",
        "A = (3, 5, 7, 23, 11, 42, 80)\n",
        "\n",
        "Intervalo de A = 80 - 3 = 77\n",
        "\n",
        "Crea una función que tome una lista y devuelva \":)\" si el intervalo de la lista es igual a cualquier otro elemento; de lo contrario, devuelve \":(\".\n",
        "\n",
        "* Ejemplos:\n",
        "    1. face_interval([1, 2, 5, 8, 3, 9]) ➞ \":)\"\n",
        "        - El intervalo de la lista es igual a uno de los otros elementos.\n",
        "    2. face_interval([5, 2, 8, 3, 11]) ➞ \":(\"\n",
        "        - El intervalo de la lista no está entre los otros elementos.\n",
        "    3. face_interval(\"bruh\") ➞ \":/\"\n",
        "        - \"bruh\" no es una lista. Es una cadena de caracteres (string).\n",
        "\n",
        "* Notas:\n",
        "    - Las listas no contendrán números duplicados.\n",
        "    - Si no se te da una lista, devuelve \":/\""
      ],
      "metadata": {
        "id": "GKGE4HsJL3nW"
      }
    },
    {
      "cell_type": "code",
      "source": [
        "# Método 1\n",
        "def face_interval(lst):\n",
        "    if not isinstance(lst, list):\n",
        "        return \":/\"\n",
        "    max_num = max(lst)\n",
        "    min_num = min(lst)\n",
        "    interval = max_num - min_num\n",
        "    if interval in lst:\n",
        "        return \":)\"\n",
        "    else:\n",
        "        return \":(\"\n",
        "\n",
        "# Método 2\n",
        "def face_interval(lst):\n",
        "    if type(lst) != list:\n",
        "        return \":/\"\n",
        "    # Encontrar el max y min manualmente\n",
        "    largest = smallest = lst[0]\n",
        "    for num in lst:\n",
        "        if num > largest:\n",
        "            largest = num\n",
        "        if num < smallest:\n",
        "            smallest = num\n",
        "    interval = largest - smallest\n",
        "    return ':)' if interval in lst else ':('\n",
        "\n",
        "# Método 3\n",
        "def face_interval(lst):\n",
        "    # Verifica si la entrada es una lista utilizando el tipo de comparación\n",
        "    # lst.__class__ == list es equivalente a type(lst) == list\n",
        "    return \":/\" if lst.__class__ != list else (lambda largest, smallest, interval:\n",
        "        \":)\" if interval in lst else \":(\"\n",
        "    )(\n",
        "        # Encuentra el número más grande\n",
        "        sorted(lst)[-1],\n",
        "        # Encuentra el número más pequeño\n",
        "        sorted(lst)[0],\n",
        "        # Calcula el intervalo\n",
        "        sorted(lst)[-1] - sorted(lst)[0]\n",
        "    )"
      ],
      "metadata": {
        "id": "EzEvRiJjL3nW"
      },
      "execution_count": null,
      "outputs": []
    },
    {
      "cell_type": "markdown",
      "source": [
        "#### Explicación de método 3\n",
        "* Este método pretende aplicar a la resolución de este caso lo visto en la página:\n",
        "    - [Implementación de operador ternario sin ninguna declaración condicional](https://www.geeksforgeeks.org/implementing-ternary-operator-without-conditional-statement/)\n",
        "\n",
        "* Es una solución sin usar sentencias condicionales estándar como `if`.\n",
        "* Es una implementación que utiliza el concepto del operador ternario sin las típicas sentencias `if`:\n",
        "\n",
        "1. **Verificación del tipo**: `lst.__class__ != list` se utiliza para verificar si `lst` es una lista. Esto es equivalente a `type(lst) != list`.\n",
        "\n",
        "2. **Uso de `sorted`**: Para encontrar el número más grande y el más pequeño, la lista se ordena usando `sorted(lst)`.\n",
        "   - `sorted(lst)[-1]` obtiene el mayor número.\n",
        "   - `sorted(lst)[0]` obtiene el menor número.\n",
        "   - `interval` se calcula restando el menor número del mayor número.\n",
        "\n",
        "3. **Operador ternario**: Se utiliza una forma anidada del operador ternario para decidir el resultado sin usar `if`.\n",
        "   - Primero, verifica si la entrada es una lista.\n",
        "   - Luego, calcula `largest`, `smallest` e `interval` dentro de una función `lambda`.\n",
        "   - Finalmente, verifica si `interval` está en la lista para devolver `\":)\"` o `\":(\"`.\n",
        "\n",
        "Este enfoque aplica el concepto de evitar las sentencias condicionales estándar, utilizando operadores y funciones anidadas para lograr la lógica deseada."
      ],
      "metadata": {
        "id": "rOI1XQLieSl5"
      }
    },
    {
      "cell_type": "code",
      "source": [
        "print(face_interval([1, 2, 5, 8, 3, 9]))  # ➞ \":)\"\n",
        "print(face_interval([5, 2, 8, 3, 11]))    # ➞ \":(\"\n",
        "print(face_interval(\"bruh\"))              # ➞ \":/\""
      ],
      "metadata": {
        "id": "opmO9Yd8L3nW",
        "colab": {
          "base_uri": "https://localhost:8080/"
        },
        "outputId": "ea97d6e4-1e82-4570-c4ef-848e3a76bf98"
      },
      "execution_count": null,
      "outputs": [
        {
          "output_type": "stream",
          "name": "stdout",
          "text": [
            ":)\n",
            ":(\n",
            ":/\n"
          ]
        }
      ]
    },
    {
      "cell_type": "markdown",
      "source": [
        "## Reto 484: Serie Armónica\n",
        "* Harmonic Series\n",
        "* En matemáticas, la serie armónica es la serie infinita divergente:\n",
        "* Una serie es divergente cuando al sumar sus infinitos términos la suma es igual a infinito.\n",
        "\n",
        "$$\\sum_{n=1}^{\\infty} \\frac{1}{n} = 1 + \\frac{1}{2} + \\frac{1}{3} + \\frac{1}{4} + \\frac{1}{5} + \\cdots$$\n",
        "\n",
        "* Su nombre deriva del concepto de sobretonos, o armónicos en música.\n",
        "* Crea una función que, dado un parámetro de precisión `n`, devuelva el valor de la suma parcial de la serie armónica hasta `n` términos.\n",
        "\n",
        "* Ejemplos:\n",
        "\n",
        "```\n",
        "harmonic(1) ➞ 1.0\n",
        "harmonic(2) ➞ 1.5\n",
        "harmonic(3) ➞ 1.833\n",
        "harmonic(7) ➞ 2.593\n",
        "```\n",
        "\n",
        "* Nota\n",
        "    - Redondea el resultado a la tercera cifra decimal."
      ],
      "metadata": {
        "id": "15rjwg1tL3tV"
      }
    },
    {
      "cell_type": "code",
      "source": [
        "# Método 1\n",
        "def harmonic(n):\n",
        "    suma = 0\n",
        "    for i in range(1, n+1):\n",
        "        suma += 1/i\n",
        "    return round(suma, 3)\n",
        "\n",
        "# Método 2\n",
        "def harmonic(n):\n",
        "    return f\"{sum(1/(i+1) for i in range(n)):.3f}\"\n",
        "\n",
        "# Método 3\n",
        "def harmonic(n):\n",
        "    return float('{:.3f}'.format(sum(1/i for i in range(1, n+1))))\n",
        "\n",
        "# Método 4. Método recursivo\n",
        "def harmonic_sum(n):\n",
        "    if n == 1:\n",
        "        return 1\n",
        "    return 1/n + harmonic_sum(n-1)\n",
        "\n",
        "def harmonic(n):\n",
        "    return round(harmonic_sum(n), 3)"
      ],
      "metadata": {
        "id": "8WUz4w7aL3tV"
      },
      "execution_count": null,
      "outputs": []
    },
    {
      "cell_type": "markdown",
      "source": [
        "**** Explicación de método 4\n",
        "* La función ```harmonic_sum(n)``` calcula por recursión el valor de la serie armónica.\n",
        "* La función ```harmonic(n)``` es un un *wrapper* (una envoltura) que llama a ```harmonic_sum(n)``` y redondea el resultado a 3 decimales."
      ],
      "metadata": {
        "id": "_DPGJKmyAkVl"
      }
    },
    {
      "cell_type": "code",
      "source": [
        "print(harmonic(1))\n",
        "print(harmonic(2))\n",
        "print(harmonic(3))\n",
        "print(harmonic(7))"
      ],
      "metadata": {
        "id": "VHrRCAUFL3tV",
        "colab": {
          "base_uri": "https://localhost:8080/"
        },
        "outputId": "c6c2f697-4d0f-4985-8f1c-5c7c619980b4"
      },
      "execution_count": null,
      "outputs": [
        {
          "output_type": "stream",
          "name": "stdout",
          "text": [
            "1\n",
            "1.5\n",
            "1.833\n",
            "2.593\n"
          ]
        }
      ]
    },
    {
      "cell_type": "markdown",
      "source": [
        "## Reto 485: Suma Estúpida\n",
        "* Stupid Addition\n",
        "*Crea una función que tome dos parámetros y, si ambos parámetros son cadenas, súmalos como si fueran enteros o si los dos parámetros son enteros, concaténalos.\n",
        "* Ejemplos\n",
        "\n",
        "```\n",
        "stupid_addition(1, 2) ➞ \"12\"\n",
        "stupid_addition(\"1\", \"2\") ➞ 3\n",
        "stupid_addition(\"1\", 2) ➞ None\n",
        "```\n",
        "\n",
        "* Notas\n",
        "    - Si los dos parámetros son de diferentes tipos de datos, devuelve `None`.\n",
        "    - Todos los parámetros serán cadenas o enteros."
      ],
      "metadata": {
        "id": "waiNaoG1L3zp"
      }
    },
    {
      "cell_type": "code",
      "source": [
        "# Método 1\n",
        "def stupid_addition(a, b):\n",
        "    if type(a) == int and type(b) == int:\n",
        "        return str(a) + str(b)\n",
        "    if type(a) == str and type(b) == str:\n",
        "        return int(a) + int(b)\n",
        "    else:\n",
        "        return None\n",
        "\n",
        "# Método 2. Cambiamos == por is\n",
        "def stupid_addition(a, b):\n",
        "    if type(a) is int and type(b) is int:\n",
        "        return str(a) + str(b)\n",
        "    if type(a) is str and type(b) is str:\n",
        "        return int(a) + int(b)\n",
        "    else:\n",
        "        return None\n",
        "\n",
        "# Método 3\n",
        "def stupid_addition(a, b):\n",
        "    if isinstance(a, str) and isinstance(b, str):\n",
        "        return int(a) + int(b)\n",
        "    elif isinstance(a, int) and isinstance(b, int):\n",
        "        return str(a) + str(b)\n",
        "    else:\n",
        "        return None\n",
        "\n",
        "# Método 4\n",
        "def stupid_addition(a, b):\n",
        "    try:\n",
        "        if type(a) != type(b):\n",
        "            return None\n",
        "        if isinstance(a, str):\n",
        "            return int(a) + int(b)\n",
        "        else:\n",
        "            return str(a) + str(b)\n",
        "    except ValueError:\n",
        "        return None"
      ],
      "metadata": {
        "id": "H56FhgUnL3zp"
      },
      "execution_count": null,
      "outputs": []
    },
    {
      "cell_type": "code",
      "source": [
        "print(stupid_addition(1, 2))\n",
        "print(stupid_addition(\"1\", \"2\"))\n",
        "print(stupid_addition(\"1\", 2))"
      ],
      "metadata": {
        "id": "cAZkIyvfL3zp",
        "colab": {
          "base_uri": "https://localhost:8080/"
        },
        "outputId": "d508d664-593a-45ee-a515-5f4f144af03e"
      },
      "execution_count": null,
      "outputs": [
        {
          "output_type": "stream",
          "name": "stdout",
          "text": [
            "12\n",
            "3\n",
            "None\n"
          ]
        }
      ]
    },
    {
      "cell_type": "markdown",
      "source": [
        "## Reto 486: Validar PIN\n",
        "* Validate Pin\n",
        "* Crea una función para comprobar si una cadena es un PIN válido o no.\n",
        "* Un PIN válido tiene:\n",
        "    1. Exactamente 4 o 6 caracteres.\n",
        "    2. Solo caracteres numéricos (0-9).\n",
        "    3. Sin espacios en blanco.\n",
        "* Ejemplos:\n",
        "\n",
        "```\n",
        "valid(\"1234\") ➞ True\n",
        "valid(\"900876\") ➞ True\n",
        "valid(\"45135\") ➞ False\n",
        "valid(\"89abc1\") ➞ False\n",
        "valid(\" 4983\") ➞ False\n",
        "valid(\"\") ➞ False\n",
        "```\n",
        "\n",
        "* Nota\n",
        "    - Las cadenas vacías deben devolver `False` al ser probadas."
      ],
      "metadata": {
        "id": "t4yqCwAqL35p"
      }
    },
    {
      "cell_type": "code",
      "source": [
        "# Método 1\n",
        "def valid(s):\n",
        "    if \" \" in s:\n",
        "        return False\n",
        "    if s.isnumeric() and (len(s) == 4 or len(s) == 6):\n",
        "        return True\n",
        "    else:\n",
        "        return False\n",
        "\n",
        "# Método 2\n",
        "def valid(pin):\n",
        "    if len(pin) not in (4, 6):\n",
        "        return False\n",
        "    return pin.isdigit()\n",
        "\n",
        "# Método 3\n",
        "def valid(pin):\n",
        "    return pin.isnumeric() and len(pin) in (4, 6)"
      ],
      "metadata": {
        "id": "pIiiWnaiL35p"
      },
      "execution_count": null,
      "outputs": []
    },
    {
      "cell_type": "code",
      "source": [
        "print(valid(\"1234\"))\n",
        "print(valid(\"900876\"))\n",
        "print(valid(\"45135\"))\n",
        "print(valid(\"89abc1\"))\n",
        "print(valid(\" 4983\"))\n",
        "print(valid(\"\"))"
      ],
      "metadata": {
        "id": "a610MU9oL35p",
        "colab": {
          "base_uri": "https://localhost:8080/"
        },
        "outputId": "633b894b-c558-483d-d555-0042a4ecf956"
      },
      "execution_count": null,
      "outputs": [
        {
          "output_type": "stream",
          "name": "stdout",
          "text": [
            "True\n",
            "True\n",
            "False\n",
            "False\n",
            "False\n",
            "False\n"
          ]
        }
      ]
    },
    {
      "cell_type": "markdown",
      "source": [
        "## Reto 487: Número Harshad\n",
        "* Harshad Number\n",
        "* Un número se considera Harshad si es exactamente divisible por la suma de sus dígitos.\n",
        "* Crea una función que determine si un número es Harshad o no.\n",
        "* Ejemplos:\n",
        "\n",
        "```\n",
        "is_harshad(75) ➞ False\n",
        "    # 7 + 5 = 12\n",
        "    # 75 no es divisible por 12\n",
        "is_harshad(89) ➞ False\n",
        "is_harshad(171) ➞ True\n",
        "    # 1 + 7 + 1 = 9\n",
        "    # 171 si es divisible por 9\n",
        "is_harshad(481) ➞ True\n",
        "is_harshad(516) ➞ True\n",
        "is_harshad(200) ➞ True\n",
        "```"
      ],
      "metadata": {
        "id": "x6C1TjPaL3_-"
      }
    },
    {
      "cell_type": "code",
      "source": [
        "# Método 1\n",
        "def is_harshad(n):\n",
        "    suma_digitos = sum(int(str(n)[i]) for i in range(len(str(n))))\n",
        "    return n % suma_digitos == 0\n",
        "\n",
        "# Método 2. Mejor sin usar range\n",
        "def is_harshad(n):\n",
        "    suma = sum(int(i) for i in str(n))\n",
        "    return n % suma == 0\n",
        "\n",
        "# Método 3\n",
        "def is_harshad(num):\n",
        "    # Calcula la suma de los dígitos\n",
        "    digit_sum = sum(int(digit) for digit in str(num))\n",
        "\n",
        "    # Verifica si el número es divisible por la suma de sus dígitos\n",
        "    return num % digit_sum == 0\n",
        "\n",
        "# Método 4\n",
        "def is_harshad(num):\n",
        "    original_num = num\n",
        "    digit_sum = 0\n",
        "\n",
        "    # Calcula la suma de los dígitos usando división y módulo\n",
        "    while num > 0:\n",
        "        digit_sum += num % 10\n",
        "        num //= 10\n",
        "\n",
        "    # Verifica si el número original es divisible por la suma de sus dígitos\n",
        "    return original_num % digit_sum == 0\n",
        "\n",
        "# Método 5. Resuelto de forma recursiva\n",
        "def is_harshad(num):\n",
        "    def sum_digits(n):  # sumamos los dígitos con una función recursiva\n",
        "        if n < 10:  # si n es de un solo dígito\n",
        "            return n\n",
        "        return n % 10 + sum_digits(n // 10)\n",
        "\n",
        "    digit_sum = sum_digits(num)\n",
        "    return num % digit_sum == 0"
      ],
      "metadata": {
        "id": "XUQoZ9ReL3_-"
      },
      "execution_count": null,
      "outputs": []
    },
    {
      "cell_type": "code",
      "source": [
        "print(is_harshad(75))\n",
        "print(is_harshad(89))\n",
        "print(is_harshad(171))\n",
        "print(is_harshad(481))\n",
        "print(is_harshad(516))\n",
        "print(is_harshad(200))"
      ],
      "metadata": {
        "id": "TWyax5wnL3_-",
        "colab": {
          "base_uri": "https://localhost:8080/"
        },
        "outputId": "7d45bc54-0974-44f5-e38d-0f212063508c"
      },
      "execution_count": null,
      "outputs": [
        {
          "output_type": "stream",
          "name": "stdout",
          "text": [
            "False\n",
            "False\n",
            "True\n",
            "True\n",
            "True\n",
            "True\n"
          ]
        }
      ]
    },
    {
      "cell_type": "markdown",
      "source": [
        "## Reto 488: Todo sobre las expresiones Lambda: Suma\n",
        "* All About Lambda Expressions: Adding\n",
        "* Escribe una función que devuelva una expresión lambda, que sume `n` a su entrada.\n",
        "\n",
        "Este reto pide crear una función llamada `adds_n` que hace lo siguiente:\n",
        "\n",
        "1. Recibe un número `n` como argumento.\n",
        "2. Devuelve una expresión lambda (una función anónima).\n",
        "3. Esta expresión lambda toma un número como entrada y le suma el valor `n` original.\n",
        "\n",
        "En esencia, `adds_n` es una función que crea otras funciones. Cada función creada suma un número específico a cualquier valor que se le pase.\n",
        "\n",
        "* Ejemplos:\n",
        "\n",
        "```\n",
        "adds1 = adds_n(1)\n",
        "\n",
        "adds1(3) ➞ 4\n",
        "adds1(5.7) ➞ 6.7\n",
        "\n",
        "adds10 = adds_n(10)\n",
        "\n",
        "adds10(44) ➞ 54\n",
        "adds10(20) ➞ 30\n",
        "```\n",
        "\n",
        "Los ejemplos muestran cómo se usaría:\n",
        "\n",
        "1. `adds1 = adds_n(1)` crea una función que suma 1 a cualquier número.\n",
        "2. `adds10 = adds_n(10)` crea una función que suma 10 a cualquier número.\n",
        "\n",
        "Luego se pueden usar estas funciones creadas:\n",
        "- `adds1(3)` suma 1 a 3, dando 4.\n",
        "- `adds10(44)` suma 10 a 44, dando 54.\n"
      ],
      "metadata": {
        "id": "zBie26x6L4Gr"
      }
    },
    {
      "cell_type": "code",
      "source": [
        "# Método 1\n",
        "def adds_n(n):\n",
        "    return lambda x: x + n"
      ],
      "metadata": {
        "id": "buUbN8SwL4Gr"
      },
      "execution_count": null,
      "outputs": []
    },
    {
      "cell_type": "code",
      "source": [
        "adds1 = adds_n(1)\n",
        "print(adds1(3))  # Imprime: 4\n",
        "print(adds1(5.7))  # Imprime: 6.7\n",
        "\n",
        "adds10 = adds_n(10)\n",
        "print(adds10(44))  # Imprime: 54\n",
        "print(adds10(20))  # Imprime: 30"
      ],
      "metadata": {
        "id": "r6qt-50EL4Gr",
        "colab": {
          "base_uri": "https://localhost:8080/"
        },
        "outputId": "76355078-6930-4730-a1d1-a8c434e44cc9"
      },
      "execution_count": null,
      "outputs": [
        {
          "output_type": "stream",
          "name": "stdout",
          "text": [
            "4\n",
            "6.7\n",
            "54\n",
            "30\n"
          ]
        }
      ]
    },
    {
      "cell_type": "markdown",
      "source": [
        "#### Explicación\n",
        "- [Python Lambda](https://www.w3schools.com/python/python_lambda.asp)\n",
        "- [Lambda Operator, filter, reduce and map](https://python-course.eu/advanced-python/lambda-filter-reduce-map.php)\n",
        "* Las funciones que retornan funciones lambda son un ejemplo de **programación funcional** y se utilizan para crear funciones de manera dinámica.\n",
        "* Se conocen como **\"funciones de orden superior\"** o \"higher-order functions\" en inglés.\n",
        "* Permiten una gran flexibilidad y pueden ser muy útiles para crear código más modular y reutilizable.\n",
        "\n",
        "* Características principales:\n",
        "\n",
        "1. Crean y devuelven una nueva función (en este caso, una lambda) cada vez que se llaman.\n",
        "2. Pueden \"recordar\" valores del entorno en el que fueron creadas (esto se llama \"closure\").\n",
        "3. Permiten personalizar comportamientos de funciones de manera dinámica.\n",
        "\n",
        "Otro ejemplo sencillo podría ser una función que crea multiplicadores:\n",
        "\n",
        "```python\n",
        "def crear_multiplicador(factor):\n",
        "    return lambda x: x * factor\n",
        "\n",
        "duplicar = crear_multiplicador(2)\n",
        "triplicar = crear_multiplicador(3)\n",
        "\n",
        "print(duplicar(5))  # Imprime: 10\n",
        "print(triplicar(5))  # Imprime: 15\n",
        "```\n",
        "\n",
        "En este ejemplo:\n",
        "\n",
        "1. `crear_multiplicador` es una función que retorna una lambda.\n",
        "2. La lambda creada multiplica su entrada por el `factor` especificado.\n",
        "3. `duplicar` y `triplicar` son funciones creadas dinámicamente que multiplican por 2 y 3 respectivamente.\n",
        "\n",
        "Este patrón es útil cuando quieres crear una familia de funciones relacionadas pero con comportamientos ligeramente diferentes.\n",
        "\n",
        "Otro ejemplo para elevar una base a un exponente:\n",
        "\n",
        "```python\n",
        "def crear_potencia(exponente):\n",
        "    return lambda a: a ** exponente # a ➞ base a la que elevaremos el exponente\n",
        "\n",
        "al_cuadrado = crear_potencia(2)\n",
        "al_cubo =crear_potencia(3)\n",
        "\n",
        "print(al_cuadrado(4))   # 16\n",
        "print(al_cubo(3))       # 27\n",
        "```"
      ],
      "metadata": {
        "id": "8lMNPcmHOMSG"
      }
    },
    {
      "cell_type": "markdown",
      "source": [
        "## Reto 489: Filtrar diferentes tipos de listas\n",
        "* En este reto desemos combinar funciones lambda con operaciones sobre listas.\n",
        "* Crea una función llamada `crear_filtro_ordenador` que tome dos argumentos:\n",
        "1. Una función de criterio (que devolverá True o False)\n",
        "2. Un orden ('ascendente' o 'descendente')\n",
        "\n",
        "* Esta función debe devolver una función lambda que, cuando se aplique a una lista:\n",
        "1. Filtre la lista según el criterio dado\n",
        "2. Ordene la lista resultante según el orden especificado\n",
        "\n",
        "* Luego, usa esta función para:\n",
        "\n",
        "1. Crear un filtro que seleccione números pares y los ordene de forma ascendente.\n",
        "2. Crear un filtro que seleccione palabras que empiecen con vocal y las ordene alfabéticamente de forma descendente.\n",
        "\n",
        "Finalmente, aplica estas funciones a:\n",
        "- Una lista de números: [1, 4, 7, 2, 9, 3, 8, 5, 6]\n",
        "- Una lista de palabras: [\"hola\", \"adiós\", \"elefante\", \"casa\", \"iglú\", \"oso\", \"árbol\"]\n"
      ],
      "metadata": {
        "id": "u3S8YwmWL4Ns"
      }
    },
    {
      "cell_type": "code",
      "source": [
        "def crear_filtro_ordenador(funcion_criterio, orden='ascendente'):\n",
        "    return lambda lista: sorted(\n",
        "        filter(funcion_criterio, lista),\n",
        "        reverse=(orden == 'descendente')\n",
        "    )\n",
        "\n",
        "# Función criterio para números pares\n",
        "es_par = lambda x: x % 2 == 0\n",
        "\n",
        "numeros = [1, 4, 7, 2, 9, 3, 8, 5, 6]\n",
        "pares_ascendentes = crear_filtro_ordenador(es_par, 'ascendente')\n",
        "resultado_numeros = pares_ascendentes(numeros)\n",
        "\n",
        "\n",
        "# Función criterio para palabras que comienzan con vocal\n",
        "empieza_con_vocal = lambda palabra: palabra[0].lower() in 'aeiouáéíóú'\n",
        "\n",
        "palabras = [\"hola\", \"adiós\", \"elefante\", \"casa\", \"iglú\", \"oso\", \"árbol\"]\n",
        "vocales_descendentes = crear_filtro_ordenador(empieza_con_vocal, 'descendente')\n",
        "resultado_palabras = vocales_descendentes(palabras)"
      ],
      "metadata": {
        "id": "kjHpn_3rL4Ns"
      },
      "execution_count": null,
      "outputs": []
    },
    {
      "cell_type": "code",
      "source": [
        "print(resultado_numeros)    # [2, 4, 6, 8]\n",
        "print(resultado_palabras)   # ['árbol', 'oso', 'iglú', 'elefante', 'adiós']"
      ],
      "metadata": {
        "id": "lBLE97MwL4Ns",
        "colab": {
          "base_uri": "https://localhost:8080/"
        },
        "outputId": "787f786a-cb19-4dae-f581-67eef8625ba1"
      },
      "execution_count": null,
      "outputs": [
        {
          "output_type": "stream",
          "name": "stdout",
          "text": [
            "[2, 4, 6, 8]\n",
            "['árbol', 'oso', 'iglú', 'elefante', 'adiós']\n"
          ]
        }
      ]
    },
    {
      "cell_type": "markdown",
      "source": [
        "## Reto 490: Último Dígito Definitivo\n",
        "* Last Digit Ultimate\n",
        "* Tu trabajo es crear una función que tome 3 números: `a, b, c` y devuelva `True` si el último dígito de `a * b` = el último dígito de `c`.\n",
        "* Ejemplos\n",
        "\n",
        "```\n",
        "last_dig(25, 21, 125) ➞ True\n",
        "    - El último dígito de 25 es 5, el último dígito de 21 es 1, y el último\n",
        "    - dígito de 125 es 5, y el último dígito de 5*1 = 5, que es igual\n",
        "    - al último dígito de 125(5).\n",
        "\n",
        "last_dig(55, 226, 5190) ➞ True\n",
        "    - El último dígito de 55 es 5, el último dígito de 226 es 6, y el último\n",
        "    - dígito de 5190 es 0, y el último dígito de 5*6 = 30 es 0, que es\n",
        "    - igual al último dígito de 5190(0).\n",
        "\n",
        "last_dig(12, 215, 2142) ➞ False\n",
        "    - El último dígito de 12 es 2, el último dígito de 215 es 5, y el último\n",
        "    - dígito de 2142 es 2, y el último dígito de 2*5 = 10 es 0, que no es\n",
        "    - igual al último dígito de 2142(2).\n",
        "```\n",
        "* Nota\n",
        "    - Los números pueden ser negativos."
      ],
      "metadata": {
        "id": "c_paq_i4L4Uv"
      }
    },
    {
      "cell_type": "code",
      "source": [
        "# Método 1\n",
        "def last_dig(a, b, c):\n",
        "    a = str(a)[-1]\n",
        "    b = str(b)[-1]\n",
        "    c = str(c)[-1]\n",
        "    return str(int(a) * int(b))[-1] == c\n",
        "\n",
        "# Método 2\n",
        "def last_dig(a, b, c):\n",
        "    return abs(a * b) % 10 == abs(c) % 10"
      ],
      "metadata": {
        "id": "5eBRqnbEL4Uv"
      },
      "execution_count": null,
      "outputs": []
    },
    {
      "cell_type": "code",
      "source": [
        "print(last_dig(25, 21, 125))\n",
        "print(last_dig(55, 226, 5190))\n",
        "print(last_dig(12, 215, 2142))\n",
        "print(last_dig(25, 21, -5))"
      ],
      "metadata": {
        "id": "rUuQg2ZIL4Uv",
        "outputId": "6e6e22d1-e85e-41be-e4ba-db26c67b6ca7",
        "colab": {
          "base_uri": "https://localhost:8080/"
        }
      },
      "execution_count": null,
      "outputs": [
        {
          "output_type": "stream",
          "name": "stdout",
          "text": [
            "True\n",
            "True\n",
            "False\n",
            "True\n"
          ]
        }
      ]
    },
    {
      "cell_type": "markdown",
      "source": [
        "## Reto 491: Todas las Ocurrencias de un Elemento en una Lista\n",
        "* All Occurrences of an Element in a List\n",
        "* Crea una función que devuelva los índices de todas las ocurrencias de un elemento en la lista.\n",
        "* Ejemplos\n",
        "\n",
        "```\n",
        "get_indices([\"a\", \"a\", \"b\", \"a\", \"b\", \"a\"], \"a\") ➞ [0, 1, 3, 5]\n",
        "\n",
        "get_indices([1, 5, 5, 2, 7], 7) ➞ [4]\n",
        "\n",
        "get_indices([1, 5, 5, 2, 7], 5) ➞ [1, 2]\n",
        "\n",
        "get_indices([1, 5, 5, 2, 7], 8) ➞ []\n",
        "```\n",
        "* Notas\n",
        "- Si un elemento no existe en una lista, devuelve `[]`.\n",
        "- Las listas están indexadas desde cero.\n",
        "- Los valores en la lista serán tipos de valor (no hay que preocuparse por listas anidadas)."
      ],
      "metadata": {
        "id": "3w2wTJmWMJ-E"
      }
    },
    {
      "cell_type": "code",
      "source": [
        "# Método 1\n",
        "def get_indices(lista, el):\n",
        "    return [i for i in range(len(lista)) if lista[i] == el]\n",
        "\n",
        "# Método 2. Usando enumerate\n",
        "def get_indices(lista, el):\n",
        "    my_enumerate_object = enumerate(lista)\n",
        "    parejas = list(my_enumerate_object)        # [(0, 'a'), (1, 'a'), (2, 'b'), (3, 'a'), (4, 'b'), (5, 'a')]\n",
        "    return [pareja[0] for pareja in parejas if pareja[1] == el]\n",
        "\n",
        "# Método 3. Usando enumerate de forma apropiada, sin una variable intermedia\n",
        "def get_indices(lista, el):\n",
        "    return [i for i, v in enumerate(lista) if v == el]\n",
        "\n",
        "# Método 4. Usando numpy\n",
        "import numpy as np\n",
        "\n",
        "def get_indices(lista, el):\n",
        "    # Convertir la lista a un array de NumPy\n",
        "    arr = np.array(lista)\n",
        "\n",
        "    # Usar np.where para encontrar los índices donde el elemento es igual a 'el'\n",
        "    indices = np.where(arr == el)[0]\n",
        "\n",
        "    # Convertir el resultado a una lista de Python y devolverlo\n",
        "    return indices.tolist()\n",
        "\n",
        "# Método 5\n",
        "def get_indices(lista, el):\n",
        "    result = []\n",
        "    for item in lista:\n",
        "        if item == el:\n",
        "            result.append(lista.index(item))\n",
        "    return result\n",
        "\n",
        "# Método 6. Con index y try...except\n",
        "def get_indices(lista, el):\n",
        "    result = []\n",
        "    start = 0\n",
        "    while True:\n",
        "        try:\n",
        "            index = lista.index(el, start)\n",
        "            result.append(index)\n",
        "            start = index + 1   # index comienza a analizar la lista cada vez uno más\n",
        "        except ValueError:\n",
        "            break\n",
        "    return result\n",
        "\n",
        "# Método 7. Similar al anterior pero usando while\n",
        "def get_indices(lst, el):\n",
        "    result = []\n",
        "    offset = -1\n",
        "    while True:\n",
        "        try:\n",
        "            offset = lst.index(el, offset+1)\n",
        "        except ValueError:\n",
        "            return result\n",
        "        result.append(offset)"
      ],
      "metadata": {
        "id": "ajHrz-XxMJ-E"
      },
      "execution_count": null,
      "outputs": []
    },
    {
      "cell_type": "code",
      "source": [
        "print(get_indices([\"a\", \"a\", \"b\", \"a\", \"b\", \"a\"], \"a\"))     # [0, 1, 3, 5]\n",
        "print(get_indices([1, 5, 5, 2, 7], 7))                      # [4]\n",
        "print(get_indices([1, 5, 5, 2, 7], 5))                      # [1, 2]\n",
        "print(get_indices([1, 5, 5, 2, 7], 8))                      # []"
      ],
      "metadata": {
        "id": "4RR98pcWMJ-E",
        "outputId": "1f9d376b-a0b3-48b6-b00e-1088442ca164",
        "colab": {
          "base_uri": "https://localhost:8080/"
        }
      },
      "execution_count": null,
      "outputs": [
        {
          "output_type": "stream",
          "name": "stdout",
          "text": [
            "[0, 1, 3, 5]\n",
            "[4]\n",
            "[1, 2]\n",
            "[]\n"
          ]
        }
      ]
    },
    {
      "cell_type": "markdown",
      "source": [
        "## Reto 492: Saludos Internacionales\n",
        "* International Greetings\n",
        "* Supongamos que tienes una lista de invitados de estudiantes y el país del que proceden, almacenados como pares clave-valor en un diccionario.\n",
        "\n",
        "```\n",
        "GUEST_LIST = {\n",
        "\"Randy\": \"Alemania\",\n",
        "\"Karla\": \"Francia\",\n",
        "\"Wendy\": \"Japón\",\n",
        "\"Norman\": \"Inglaterra\",\n",
        "\"Sam\": \"Argentina\"\n",
        "}\n",
        "```\n",
        "\n",
        "Escribe una función que reciba un nombre y devuelva una **etiqueta de nombre**, que debe decir:\n",
        "\n",
        "```\n",
        "\"¡Hola! Soy [nombre] y soy de [país].\"\n",
        "```\n",
        "\n",
        "Si el nombre no está en el diccionario, devuelve:\n",
        "\n",
        "```\n",
        "\"¡Hola! Soy [nombre] un invitado.\"\n",
        "```\n",
        "\n",
        "**Ejemplos**\n",
        "\n",
        "```\n",
        "greeting(\"Randy\") ➞ \"¡Hola! Soy Randy y soy de Alemania.\"\n",
        "\n",
        "greeting(\"Sam\") ➞ \"¡Hola! Soy Sam y soy de Argentina.\"\n",
        "\n",
        "greeting(\"Monti\") ➞ \"¡Hola! Soy Monti y soy un invitado.\"\n",
        "```"
      ],
      "metadata": {
        "id": "CtVXEJ_GMKEv"
      }
    },
    {
      "cell_type": "code",
      "source": [
        "# Método 1\n",
        "def greeting(name):\n",
        "    if name in GUEST_LIST:\n",
        "        return f\"¡Hola! Soy {name} y soy de {GUEST_LIST[name]}.\"\n",
        "    return f\"¡Hola! Soy {name} y soy un invitado.\"\n",
        "\n",
        "# Método 2. Usando get\n",
        "def greeting(name):\n",
        "    country = GUEST_LIST.get(name)\n",
        "    if country:\n",
        "        return f\"¡Hola! Soy {name}, y soy de {country}.\"\n",
        "    else:\n",
        "        return f\"¡Hola! Soy {name} y soy un invitado.\"\n",
        "\n",
        "# Método 3.\n",
        "def greeting(name):\n",
        "    if name in GUEST_LIST:\n",
        "        return f'¡Hola! Soy {name}, y soy de {GUEST_LIST[name]}'"
      ],
      "metadata": {
        "id": "SV1DE57fMKEv"
      },
      "execution_count": null,
      "outputs": []
    },
    {
      "cell_type": "code",
      "source": [
        "GUEST_LIST = {\n",
        "\"Randy\": \"Alemania\",\n",
        "\"Karla\": \"Francia\",\n",
        "\"Wendy\": \"Japón\",\n",
        "\"Norman\": \"Inglaterra\",\n",
        "\"Sam\": \"Argentina\"\n",
        "}\n",
        "\n",
        "print(greeting(\"Randy\"))\n",
        "print(greeting(\"Sam\"))\n",
        "print(greeting(\"Monti\"))"
      ],
      "metadata": {
        "id": "EbIacckFMKEv",
        "colab": {
          "base_uri": "https://localhost:8080/"
        },
        "outputId": "bcf3c5d3-b868-4d00-9ec2-21bdcc09ed48"
      },
      "execution_count": null,
      "outputs": [
        {
          "output_type": "stream",
          "name": "stdout",
          "text": [
            "¡Hola! Soy Randy, y soy de Alemania.\n",
            "¡Hola! Soy Sam, y soy de Argentina.\n",
            "¡Hola! Soy Monti y soy un invitado.\n"
          ]
        }
      ]
    },
    {
      "cell_type": "markdown",
      "source": [
        "## Reto 493: Palabras inversas en una cadena\n",
        "* Reverse Words in a String\n",
        "* Dada una cadena de entrada, invierta la cadena palabra por palabra.\n",
        "* Ejemplos\n",
        "    1. reverse_words(\"the sky is blue\") ➞ \"blue is sky the\"\n",
        "    2. reverse_words(\"  hello world!  \") ➞ \"world! hello\"\n",
        "    3. reverse_words(\"a good   example\") ➞ \"example good a\"\n",
        "    4. reverse_words(\"  The  Future Is     Here   \") ➞ \"Here Is Future The\"\n",
        "* Notas\n",
        "    - Una palabra se define como una secuencia de caracteres que no son espacios.\n",
        "    - La cadena de entrada puede contener espacios iniciales o finales. Sin embargo, su cadena invertida no debe contener espacios iniciales o finales.\n",
        "    - Intente resolver esto en tiempo lineal."
      ],
      "metadata": {
        "id": "VZGtZ8s_MKK_"
      }
    },
    {
      "cell_type": "code",
      "source": [
        "def reverse_words(words):\n",
        "    words = words.split()\n",
        "    return ' '.join(words[::-1])"
      ],
      "metadata": {
        "id": "02-FMX0hMKLA"
      },
      "execution_count": null,
      "outputs": []
    },
    {
      "cell_type": "code",
      "source": [
        "print(reverse_words(\"the sky is blue\"))\n",
        "print(reverse_words(\"a good example\"))\n",
        "print(reverse_words(\" hello world! \"))\n",
        "print(reverse_words(\"  The  Future Is     Here   \"))"
      ],
      "metadata": {
        "id": "8S33i01kMKLA",
        "colab": {
          "base_uri": "https://localhost:8080/"
        },
        "outputId": "1ef245a5-6056-4097-ef87-169f865ffed7"
      },
      "execution_count": null,
      "outputs": [
        {
          "output_type": "stream",
          "name": "stdout",
          "text": [
            "blue is sky the\n",
            "example good a\n",
            "world! hello\n",
            "Here Is Future The\n"
          ]
        }
      ]
    },
    {
      "cell_type": "markdown",
      "source": [
        "## Reto 494: Clases de Nombres\n",
        "* Name Classes\n",
        "* Escribe una clase llamada `Nombre` y crea los siguientes atributos dados un nombre y un apellido (como `nombre` y `apellido`):\n",
        "\n",
        "- Un atributo llamado `nombre_completo` que devuelva el nombre y el apellido.\n",
        "- Un atributo llamado `iniciales` que devuelva las primeras letras del nombre y el apellido. Pon un `.` entre las dos letras.\n",
        "- Recuerda permitir que los atributos `nombre` y `apellido` sean accesibles individualmente también.\n",
        "\n",
        "* Ejemplos\n",
        "```python\n",
        "a1 = Nombre(\"john\", \"SMITH\")\n",
        "a1.nombre ➞ \"John\"\n",
        "\n",
        "a1.apellido ➞ \"Smith\"\n",
        "\n",
        "a1.nombre_completo ➞ \"John Smith\"\n",
        "\n",
        "a1.iniciales ➞ \"J.S\"\n",
        "```\n",
        "\n",
        "* Notas\n",
        "    - Asegúrate de que solo la primera letra de cada nombre esté en mayúsculas."
      ],
      "metadata": {
        "id": "zNLzygsBMKRW"
      }
    },
    {
      "cell_type": "code",
      "source": [
        "class Nombre:\n",
        "    def __init__(self, nombre, apellido):\n",
        "        self._nombre = nombre.capitalize()\n",
        "        self._apellido = apellido.capitalize()\n",
        "\n",
        "    @property\n",
        "    def nombre(self):\n",
        "        return self._nombre\n",
        "\n",
        "    @property\n",
        "    def apellido(self):\n",
        "        return self._apellido\n",
        "\n",
        "    @property\n",
        "    def nombre_completo(self):\n",
        "        return f\"{self._nombre} {self._apellido}\"\n",
        "\n",
        "    @property\n",
        "    def iniciales(self):\n",
        "        return f\"{self._nombre[0]}.{self._apellido[0]}\"\n"
      ],
      "metadata": {
        "id": "KeoLE6LyMKRW"
      },
      "execution_count": null,
      "outputs": []
    },
    {
      "cell_type": "code",
      "source": [
        "a1 = Nombre(\"john\", \"SMITH\")\n",
        "print(a1.nombre)  # ➞ \"John\"\n",
        "print(a1.apellido)  # ➞ \"Smith\"\n",
        "print(a1.nombre_completo)  # ➞ \"John Smith\"\n",
        "print(a1.iniciales)  # ➞ \"J.S\""
      ],
      "metadata": {
        "id": "M-f3lc_BMKRW",
        "colab": {
          "base_uri": "https://localhost:8080/"
        },
        "outputId": "12855d27-bf67-4704-ce2c-335bc6eb3732"
      },
      "execution_count": null,
      "outputs": [
        {
          "output_type": "stream",
          "name": "stdout",
          "text": [
            "John\n",
            "Smith\n",
            "John Smith\n",
            "J.S\n"
          ]
        }
      ]
    },
    {
      "cell_type": "markdown",
      "source": [
        "### Explicación del código:\n",
        "\n",
        "1. **Inicialización**:\n",
        "   - `__init__(self, nombre, apellido)`: El constructor de la clase, que toma `nombre` y `apellido` y los capitaliza usando `capitalize()`.\n",
        "   - `self._nombre` y `self._apellido` almacenan el nombre y el apellido capitalizados internamente.\n",
        "\n",
        "2. **Propiedades**:\n",
        "   - `@property def nombre(self)`: Devuelve el nombre capitalizado.\n",
        "   - `@property def apellido(self)`: Devuelve el apellido capitalizado.\n",
        "   - `@property def nombre_completo(self)`: Devuelve el nombre completo en formato \"Nombre Apellido\".\n",
        "   - `@property def iniciales(self)`: Devuelve las iniciales en el formato \"N.A\".\n",
        "\n",
        "Estas propiedades permiten acceder a los atributos individuales (`nombre` y `apellido`) y los atributos derivados (`nombre_completo` e `iniciales`)."
      ],
      "metadata": {
        "id": "6xRLi1fNN4rd"
      }
    },
    {
      "cell_type": "markdown",
      "source": [
        "El decorador `@property` en Python permite definir métodos que se comportan como atributos. Esto significa que puedes acceder a los métodos como si fueran atributos, sin necesidad de llamarlos como funciones. Es útil para definir atributos calculados que dependen de otros atributos de la clase, manteniendo una interfaz de acceso limpia y intuitiva.\n",
        "\n",
        "### Ventajas de usar `@property`:\n",
        "1. **Encapsulación**: Permite encapsular la lógica de acceso a los atributos, lo que facilita la modificación de la implementación interna sin cambiar la interfaz pública.\n",
        "2. **Validación**: Puedes agregar lógica de validación o procesamiento adicional cuando se accede a un atributo.\n",
        "3. **Cálculo bajo demanda**: Los valores de los atributos se pueden calcular cuando se solicitan, lo que puede ser útil para atributos que dependen de otros valores.\n",
        "\n",
        "### Implementación sin `@property`\n",
        "\n",
        "Aunque `@property` tiene sus ventajas, también se puede resolver el problema sin usar decoradores, simplemente accediendo a los atributos directamente y proporcionando métodos para obtener los valores deseados. Aquí tienes una versión sin usar `@property`:\n",
        "\n",
        "```python\n",
        "class Nombre:\n",
        "    def __init__(self, nombre, apellido):\n",
        "        self.nombre = nombre.capitalize()\n",
        "        self.apellido = apellido.capitalize()\n",
        "    \n",
        "    def get_nombre_completo(self):\n",
        "        return f\"{self.nombre} {self.apellido}\"\n",
        "    \n",
        "    def get_iniciales(self):\n",
        "        return f\"{self.nombre[0]}.{self.apellido[0]}\"\n",
        "\n",
        "# Ejemplos\n",
        "a1 = Nombre(\"john\", \"SMITH\")\n",
        "print(a1.nombre)                # ➞ \"John\"\n",
        "print(a1.apellido)              # ➞ \"Smith\"\n",
        "print(a1.get_nombre_completo()) # ➞ \"John Smith\"\n",
        "print(a1.get_iniciales())       # ➞ \"J.S\"\n",
        "```\n",
        "\n",
        "### Explicación del código:\n",
        "1. **Inicialización**: El método `__init__` inicializa los atributos `nombre` y `apellido`, asegurándose de que solo la primera letra esté en mayúscula utilizando `capitalize()`.\n",
        "2. **Métodos**:\n",
        "   - `get_nombre_completo()`: Devuelve el nombre completo en el formato \"Nombre Apellido\".\n",
        "   - `get_iniciales()`: Devuelve las iniciales del nombre y el apellido con un punto entre ellas.\n",
        "\n",
        "En esta versión, en lugar de usar propiedades, proporcionamos métodos `get_nombre_completo` y `get_iniciales` para acceder a los atributos calculados. Esto hace el código un poco más explícito y quizás menos elegante, pero aún así completamente funcional."
      ],
      "metadata": {
        "id": "A56W1r5ROmc9"
      }
    },
    {
      "cell_type": "markdown",
      "source": [
        "## Reto 495: Convertir a Número\n",
        "* Burglary Series (06): Convert to Number\n",
        "* Preparas una lista para enviar a la compañía de seguros. Al terminar, notas que la has formateado incorrectamente.\n",
        "* Dado un diccionario con al menos un par clave/valor, convierte todos los valores a números.\n",
        "* Ejemplos\n",
        "\n",
        "```\n",
        "convertir_a_numero({ \"piano\": \"200\" }) ➞ { \"piano\": 200 }\n",
        "\n",
        "convertir_a_numero({ \"piano\": \"200\", \"tv\": \"300\" }) ➞ { \"piano\": 200, \"tv\": 300 }\n",
        "\n",
        "convertir_a_numero({ \"piano\": \"200\", \"tv\": \"300\", \"estéreo\": \"400\" }) ➞ { \"piano\": 200, \"tv\": 300, \"estéreo\": 400 }\n",
        "\n",
        "convertir_a_numero({}) ➞ {}\n",
        "```\n",
        "\n",
        "* Notas\n",
        "    - Solo se te evaluará con números (enteros), no con cadenas o números de punto flotante."
      ],
      "metadata": {
        "id": "IdhnocJpMKYC"
      }
    },
    {
      "cell_type": "code",
      "source": [
        "# Método 1: Usando un bucle for y actualizando el diccionario\n",
        "def convertir_a_numero(diccionario):\n",
        "    for clave in diccionario:\n",
        "        diccionario[clave] = int(diccionario[clave])\n",
        "    return diccionario\n",
        "\n",
        "# Método 2: Usando comprensión de diccionarios\n",
        "def convertir_a_numero(diccionario):\n",
        "    return {clave: int(valor) for clave, valor in diccionario.items()}\n",
        "\n",
        "# Método 3: Usando map() y dict()\n",
        "def convertir_a_numero(diccionario):\n",
        "    return dict(map(lambda item: (item[0], int(item[1])), diccionario.items()))\n",
        "\n",
        "# Método 4: Usando un diccionario por comprensión con enumerate()\n",
        "def convertir_a_numero(d):\n",
        "    return {k: v for k, v in zip(d.keys(), map(int, d.values()))}"
      ],
      "metadata": {
        "id": "LiajNLNhMKYC"
      },
      "execution_count": null,
      "outputs": []
    },
    {
      "cell_type": "code",
      "source": [
        "print(convertir_a_numero({ \"piano\": \"200\" }))\n",
        "print(convertir_a_numero({ \"piano\": \"200\", \"tv\": \"300\" }))\n",
        "print(convertir_a_numero({ \"piano\": \"200\", \"tv\": \"300\", \"estéreo\": \"400\" }))\n",
        "print(convertir_a_numero({}))"
      ],
      "metadata": {
        "id": "d1yzMQbOMKYD",
        "colab": {
          "base_uri": "https://localhost:8080/"
        },
        "outputId": "fea73f51-3cb2-4708-e00c-9bd81003f831"
      },
      "execution_count": null,
      "outputs": [
        {
          "output_type": "stream",
          "name": "stdout",
          "text": [
            "{'piano': 200}\n",
            "{'piano': 200, 'tv': 300}\n",
            "{'piano': 200, 'tv': 300, 'estéreo': 400}\n",
            "{}\n"
          ]
        }
      ]
    },
    {
      "cell_type": "markdown",
      "source": [
        "## Reto 496: Constructor de Nuevas Palabras\n",
        "* New Word Builder\n",
        "* Crea una función que construya una palabra a partir de las **letras desordenadas** contenidas en la primera lista.\n",
        "* Usa la segunda lista para establecer cada **posición** de las letras en la primera lista.\n",
        "* Devuelve una cadena de texto con las letras ordenadas (que forman la **palabra**).\n",
        "* Ejemplos\n",
        "\n",
        "```\n",
        "word_builder([\"g\", \"e\", \"o\"], [1, 0, 2]) ➞ \"ego\"\n",
        "word_builder([\"e\", \"t\", \"s\", \"t\"], [3, 0, 2, 1]) ➞ \"test\"\n",
        "word_builder(['z', 'a', 'g', 'a', 'm', 'i', 'n'], [1,4,3,0,5,6,2])  ➞ \"amazing\"\n",
        "```\n",
        "\n",
        "* Notas\n",
        "    - Los elementos en la segunda lista son índices de los elementos en la primera lista."
      ],
      "metadata": {
        "id": "M3Dg-qw6MKe2"
      }
    },
    {
      "cell_type": "code",
      "source": [
        "# Método 1\n",
        "def word_builder(letters, positions):\n",
        "    # Creamos una lista del mismo tamaño que letters, llena de strings vacíos\n",
        "    result = [''] * len(letters)\n",
        "    # Recorremos las posiciones y colocamos las letras en la posición correspondiente\n",
        "    for i, pos in enumerate(positions):\n",
        "        result[pos] = letters[i]\n",
        "    # Unimos las letras para formar la palabra final\n",
        "    return ''.join(result)\n",
        "\n",
        "# Método 2\n",
        "def word_builder(letters, positions):\n",
        "    # Crear una lista temporal de la misma longitud que letters\n",
        "    temp = [''] * len(letters)\n",
        "\n",
        "    # Colocar cada letra en su posición correcta\n",
        "    for i in range(len(letters)):\n",
        "        temp[positions[i]] = letters[i]\n",
        "\n",
        "    # Unir la lista temporal en una cadena\n",
        "    return ''.join(temp)\n",
        "\n",
        "# Método 3\n",
        "def word_builder(letters, positions):\n",
        "    # Combinar letras y posiciones y ordenar por posiciones\n",
        "    sorted_pairs = sorted(zip(positions, letters))\n",
        "\n",
        "    # Extraer las letras ordenadas por posiciones\n",
        "    sorted_letters = [letter for _, letter in sorted_pairs]\n",
        "\n",
        "    # Unir las letras ordenadas en una cadena\n",
        "    return ''.join(sorted_letters)\n",
        "\n",
        "# Método 4. Similar al método 3, desglosando más\n",
        "def word_builder(letters, positions):\n",
        "    # Combinar letras y posiciones en una lista de tuplas\n",
        "    combined = list(zip(positions, letters))\n",
        "\n",
        "    # Ordenar la lista de tuplas por las posiciones\n",
        "    combined_sorted = sorted(combined)\n",
        "\n",
        "    # Extraer las letras ordenadas por posiciones\n",
        "    sorted_letters = [letter for pos, letter in combined_sorted]\n",
        "\n",
        "    # Unir las letras ordenadas en una cadena\n",
        "    return ''.join(sorted_letters)\n",
        "\n",
        "# Método 5. Similar al método 3, expresado de forma sintética\n",
        "def word_builder(letters, positions):\n",
        "    return ''.join(letter for _, letter in sorted(zip(positions, letters)))"
      ],
      "metadata": {
        "id": "VksGlf3lpJlk"
      },
      "execution_count": null,
      "outputs": []
    },
    {
      "cell_type": "code",
      "source": [
        "print(word_builder([\"g\", \"e\", \"o\"], [1, 0, 2]))                            # \"ego\"\n",
        "print(word_builder([\"e\", \"t\", \"s\", \"t\"], [1, 0, 2, 3]))                    # \"test\"\n",
        "print(word_builder(['z', 'a', 'g', 'a', 'm', 'i', 'n'], [3,2,6,0,1,4,5]))  # \"amazing\""
      ],
      "metadata": {
        "colab": {
          "base_uri": "https://localhost:8080/"
        },
        "id": "Riii7-3VsZjW",
        "outputId": "026959d8-fe35-4a20-ba34-4fa34ce1caf6"
      },
      "execution_count": null,
      "outputs": [
        {
          "output_type": "stream",
          "name": "stdout",
          "text": [
            "ego\n",
            "test\n",
            "amazing\n"
          ]
        }
      ]
    },
    {
      "cell_type": "markdown",
      "source": [
        "## Reto 497: Cambia Cada Letra a la Siguiente Letra\n",
        "* Change Every Letter to the Next Letter\n",
        "* Escribe una función que cambie cada letra a la siguiente letra:\n",
        "    1. \"a\" se convierte en \"b\"\n",
        "    2. \"b\" se convierte en \"c\"\n",
        "    3. \"d\" se convierte en \"e\"\n",
        "    4. y así sucesivamente...\n",
        "\n",
        "* Ejemplos\n",
        "\n",
        "```\n",
        "mover(\"hello\") ➞ \"ifmmp\"\n",
        "\n",
        "mover(\"bye\") ➞ \"czf\"\n",
        "\n",
        "mover(\"welcome\") ➞ \"xfmdpnf\"\n",
        "```\n",
        "\n",
        "* Notas\n",
        "No habrá z's en las pruebas."
      ],
      "metadata": {
        "id": "Eiezcer_MKlv"
      }
    },
    {
      "cell_type": "code",
      "source": [
        "# Método 1\n",
        "def mover(texto):\n",
        "    return ''.join(chr(ord(letra) + 1) for letra in texto)\n",
        "\n",
        "# Método 2. Si nos dan un caracter no alfabético no se desplaza y se deja igual\n",
        "def mover(texto):\n",
        "    return ''.join(chr(ord(c) + 1) if c.isalpha() else c for c in texto)\n",
        "\n",
        "# Método 3. Si hay una 'z' la convierte en 'a', usando el módulo (%)\n",
        "def mover(texto):\n",
        "    resultado = \"\"\n",
        "    for char in texto:\n",
        "        if char.isalpha():\n",
        "            # Obtiene el código ASCII del carácter y le suma 1\n",
        "            nuevo_char = chr((ord(char) - 97 + 1) % 26 + 97)\n",
        "            resultado += nuevo_char\n",
        "        else:\n",
        "            resultado += char\n",
        "    return resultado\n"
      ],
      "metadata": {
        "id": "3AhSpAG-MKlv"
      },
      "execution_count": null,
      "outputs": []
    },
    {
      "cell_type": "code",
      "source": [
        "print(mover(\"hello\"))   # ifmmp\n",
        "print(mover(\"bye\"))     # czf\n",
        "print(mover(\"welcome\")) # xfmdpnf"
      ],
      "metadata": {
        "id": "aBWYbZrZMKlv",
        "outputId": "ea1945bb-21aa-4ff7-82c6-41b2429a5226",
        "colab": {
          "base_uri": "https://localhost:8080/"
        }
      },
      "execution_count": null,
      "outputs": [
        {
          "output_type": "stream",
          "name": "stdout",
          "text": [
            "ifmmp\n",
            "czf\n",
            "xfmdpnf\n"
          ]
        }
      ]
    },
    {
      "cell_type": "markdown",
      "source": [
        "## Reto 498: Enfatizar las Palabras\n",
        "* Emphasise the Words\n",
        "* El desafío es recrear la funcionalidad del método `title()` en una función llamada `emphasise()`.\n",
        "* El método `title()` capitaliza la primera letra de *cada palabra* y convierte a minúsculas todas las demás letras de la palabra.\n",
        "* Ejemplos\n",
        "\n",
        "```\n",
        "emphasise(\"hello world\") ➞ \"Hello World\"\n",
        "emphasise(\"GOOD MORNING\") ➞ \"Good Morning\"\n",
        "emphasise(\"99 red balloons!\") ➞ \"99 Red Balloons!\"\n",
        "```\n",
        "\n",
        "* Notas\n",
        "    - No tendrás problemas al tratar con números en las cadenas.\n",
        "    - Por favor, no uses directamente el método `title()` :("
      ],
      "metadata": {
        "id": "bkTxYt81MKsy"
      }
    },
    {
      "cell_type": "code",
      "source": [
        "# Método 1\n",
        "def emphasise(string):\n",
        "    return ' '.join(word.capitalize() for word in string.split())\n",
        "\n",
        "# Método 2\n",
        "def emphasise(string):\n",
        "    return ' '.join(word[0].upper() + word[1:].lower() for word in string.split())\n",
        "\n",
        "# Método 3. Usando una expresión regular\n",
        "import re\n",
        "\n",
        "def emphasise(string):\n",
        "    return re.sub(r'\\b\\w+\\b', lambda match: match.group(0).capitalize(), string)"
      ],
      "metadata": {
        "id": "CaebWUsKffq2"
      },
      "execution_count": null,
      "outputs": []
    },
    {
      "cell_type": "code",
      "source": [
        "print(emphasise(\"hello world\"))         # Hello World\n",
        "print(emphasise(\"GOOD MORNING\"))        # Good Morning\n",
        "print(emphasise(\"99 red balloons!\"))    # 99 Red Balloons!"
      ],
      "metadata": {
        "id": "UVGu2kGHMKsy",
        "outputId": "d8928274-4264-465b-ad82-9d7f0ce002c9",
        "colab": {
          "base_uri": "https://localhost:8080/"
        }
      },
      "execution_count": null,
      "outputs": [
        {
          "output_type": "stream",
          "name": "stdout",
          "text": [
            "Hello World\n",
            "Good Morning\n",
            "99 Red Balloons!\n"
          ]
        }
      ]
    },
    {
      "cell_type": "markdown",
      "source": [
        "## Reto 499: Camino del Robot 🤖\n",
        "* Robot Path 🤖\n",
        "* Tenemos un robot simple que se navega mediante una serie de comandos Norte, Este, Sur y Oeste `[n, e, s, w]`.\n",
        "* Cada comando mueve al robot un paso en la dirección dada.\n",
        "* El robot está diseñado para solo dos destinos:\n",
        "    1. Destino No. 1: e, n, e, e, n\n",
        "    2. Destino No. 2: w, n, w, n, w, w, n\n",
        "\n",
        "* Crea una función que tome una lista de `comandos` y devuelva `True` si el robot llega a cualquiera de los destinos, `False` en caso contrario.\n",
        "\n",
        "* Ejemplos:\n",
        "\n",
        "```\n",
        "camino_robot([\"s\", \"e\", \"e\", \"n\", \"n\", \"e\", \"n\"]) ➞ True\n",
        "    - El robot terminará en el destino no. 1\n",
        "\n",
        "camino_robot([\"n\", \"e\", \"s\", \"w\", \"n\", \"e\", \"s\", \"w\", \"w\", \"s\", \"n\", \"e\"]) ➞ False\n",
        "    - El robot se perderá en algún lugar\n",
        "\n",
        "camino_robot([\"n\", \"s\", \"n\", \"n\", \"e\", \"n\", \"w\", \"w\", \"s\", \"w\", \"w\", \"w\", \"n\"]) ➞ True\n",
        "    - - El robot terminará en el destino no. 2\n",
        "```"
      ],
      "metadata": {
        "id": "vVMdctYWMK0i"
      }
    },
    {
      "cell_type": "code",
      "source": [
        "# Método 1\n",
        "def camino_robot(comandos):\n",
        "    # Definimos los puntos finales de los destinos\n",
        "    destino1 = (3, 2)  # e, n, e, e, n\n",
        "    destino2 = (-4, 3)  # w, n, w, n, w, w, n\n",
        "\n",
        "    # Inicializamos la posición del robot\n",
        "    x, y = 0, 0\n",
        "\n",
        "    # Procesamos cada comando\n",
        "    for comando in comandos:\n",
        "        if comando == \"n\":\n",
        "            y += 1\n",
        "        elif comando == \"s\":\n",
        "            y -= 1\n",
        "        elif comando == \"e\":\n",
        "            x += 1\n",
        "        elif comando == \"w\":\n",
        "            x -= 1\n",
        "\n",
        "        # Verificamos si el robot ha llegado a alguno de los destinos finales\n",
        "        if (x, y) == destino1 or (x, y) == destino2:\n",
        "            return True\n",
        "\n",
        "    # Si el robot no llegó a ningún destino final, devolvemos False\n",
        "    return False\n",
        "\n",
        "# Método 2. Usando dos funciones\n",
        "def obtener_destino(comandos):  # función auxiliar\n",
        "    x, y = 0, 0\n",
        "    for comando in comandos:\n",
        "        if comando == \"n\":\n",
        "            y += 1\n",
        "        elif comando == \"s\":\n",
        "            y -= 1\n",
        "        elif comando == \"e\":\n",
        "            x += 1\n",
        "        elif comando == \"w\":\n",
        "            x -= 1\n",
        "    return (x, y)               # Da la posición incluso de los destinos 1 y 2\n",
        "\n",
        "def camino_robot(comandos):\n",
        "    # Definimos los comandos para los destinos\n",
        "    destino1 = [\"e\", \"n\", \"e\", \"e\", \"n\"]\n",
        "    destino2 = [\"w\", \"n\", \"w\", \"n\", \"w\", \"w\", \"n\"]\n",
        "\n",
        "    # Obtenemos los destinos finales\n",
        "    posicion_destino1 = obtener_destino(destino1)   # llamamos a la función aux.\n",
        "    posicion_destino2 = obtener_destino(destino2)   # llamamos a la función aux.\n",
        "\n",
        "    # Obtenemos el destino final de los comandos dados\n",
        "    posicion_comandos = obtener_destino(comandos)   # llamamos a la función aux.\n",
        "\n",
        "    # Comparamos si el destino final de los comandos coincide con alguno de los destinos\n",
        "    return posicion_comandos == posicion_destino1 or posicion_comandos == posicion_destino2\n",
        "\n",
        "# Método 3. Una solución más condensada\n",
        "def camino_robot(comandos):\n",
        "    def destino(ruta):\n",
        "        return sum((1 if c == 'e' else -1 if c == 'w' else 0 for c in ruta)), \\\n",
        "               sum((1 if c == 'n' else -1 if c == 's' else 0 for c in ruta))\n",
        "\n",
        "    destinos = [destino(\"eneen\"), destino(\"wnwnwwn\")]\n",
        "    return destino(comandos) in destinos\n",
        "\n",
        "# Método 4. Con una función axiliar lambda que calcula la posición final\n",
        "def camino_robot(path):\n",
        "    destino = lambda ruta: (ruta.count('e') - ruta.count('w'), ruta.count('n') - ruta.count('s'))\n",
        "    return destino(path) in [destino(\"eneen\"), destino(\"wnwnwwn\")]"
      ],
      "metadata": {
        "id": "M2N7YVuIfY1q"
      },
      "execution_count": 21,
      "outputs": []
    },
    {
      "cell_type": "code",
      "source": [
        "print(camino_robot([\"s\", \"e\", \"e\", \"n\", \"n\", \"e\", \"n\"]))                                # True\n",
        "print(camino_robot([\"n\", \"e\", \"s\", \"w\", \"n\", \"e\", \"s\", \"w\", \"w\", \"s\", \"n\", \"e\"]))       # False\n",
        "print(camino_robot([\"n\", \"s\", \"n\", \"n\", \"e\", \"n\", \"w\", \"w\", \"s\", \"w\", \"w\", \"w\", \"n\"]))  # True"
      ],
      "metadata": {
        "id": "-3OWKd6mMK0i",
        "colab": {
          "base_uri": "https://localhost:8080/"
        },
        "outputId": "b1d0a32e-b7e7-4295-ba82-169e9b7537e2"
      },
      "execution_count": 22,
      "outputs": [
        {
          "output_type": "stream",
          "name": "stdout",
          "text": [
            "True\n",
            "False\n",
            "True\n"
          ]
        }
      ]
    },
    {
      "cell_type": "markdown",
      "source": [
        "## Reto 500: Mucho, mucho tiempo\n",
        "* A Long Long Time\n",
        "* Crea una función que tome tres valores:\n",
        "    1. `h` horas\n",
        "    2. `m` minutos\n",
        "    3. `s` segundos\n",
        "Devuelve el valor que tenga la **duración más larga**.\n",
        "* Ejemplos:\n",
        "\n",
        "```\n",
        "longest_time(1, 59, 3598) ➞ 1\n",
        "longest_time(2, 300, 15000) ➞ 300\n",
        "longest_time(15, 955, 59400) ➞ 59400\n",
        "```\n",
        "\n",
        "* Notas:\n",
        "    - No habrá dos duraciones iguales."
      ],
      "metadata": {
        "id": "z6Jwjp2UMK7L"
      }
    },
    {
      "cell_type": "code",
      "source": [
        "# Método 1\n",
        "def longest_time(h, m, s):\n",
        "    if h*3600 > m*60 and h*3600 > s:\n",
        "        return h\n",
        "    elif m*60 > h*3600 and m*60 > s:\n",
        "        return m\n",
        "    elif s > h*3600 and s > m*60:\n",
        "        return s\n",
        "    else:\n",
        "        return \"Caso no previsto\"\n",
        "\n",
        "# Método 2\n",
        "def longest_time(h, m, s):\n",
        "    # Lista de duraciones en segundos y sus valores originales\n",
        "    durations = [(h * 3600, h), (m * 60, m), (s, s)]\n",
        "    # Devolver el valor original de la mayor duración en segundos\n",
        "    return max(durations)[1]"
      ],
      "metadata": {
        "id": "3L69P8OqyFzv"
      },
      "execution_count": 27,
      "outputs": []
    },
    {
      "cell_type": "code",
      "source": [
        "print(longest_time(1, 59, 3598))\n",
        "print(longest_time(2, 300, 15000))\n",
        "print(longest_time(15, 955, 59400))"
      ],
      "metadata": {
        "id": "jk_KKqnbMK7L",
        "colab": {
          "base_uri": "https://localhost:8080/"
        },
        "outputId": "b55dcd44-a3c8-4217-d0c0-c51f79a55632"
      },
      "execution_count": 28,
      "outputs": [
        {
          "output_type": "stream",
          "name": "stdout",
          "text": [
            "1\n",
            "300\n",
            "59400\n"
          ]
        }
      ]
    }
  ]
}