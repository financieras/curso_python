{
  "nbformat": 4,
  "nbformat_minor": 0,
  "metadata": {
    "colab": {
      "provenance": [],
      "authorship_tag": "ABX9TyOvnA7DwDrFQgqvH6Cpjw5f",
      "include_colab_link": true
    },
    "kernelspec": {
      "name": "python3",
      "display_name": "Python 3"
    },
    "language_info": {
      "name": "python"
    }
  },
  "cells": [
    {
      "cell_type": "markdown",
      "metadata": {
        "id": "view-in-github",
        "colab_type": "text"
      },
      "source": [
        "<a href=\"https://colab.research.google.com/github/financieras/curso_python/blob/main/niveles/nivel05.ipynb\" target=\"_parent\"><img src=\"https://colab.research.google.com/assets/colab-badge.svg\" alt=\"Open In Colab\"/></a>"
      ]
    },
    {
      "cell_type": "markdown",
      "source": [
        "## Reto 401: Relleno\n",
        "* Format VI: Padding\n",
        "* Para este reto no necesitas crear una función.\n",
        "* En su lugar, necesitas elaborar una cadena de plantilla que pueda ser formateada para obtener un cierto resultado.\n",
        "* Escribe tres cadenas de plantilla de acuerdo con el siguiente ejemplo.\n",
        "* Todas las cadenas finales deben tener una longitud de 20 caracteres:\n",
        "* Ejemplo:\n",
        "```python\n",
        "estrellado = \"tucadenadeplantillaaquí\"\n",
        "guiones = \"tucadenadeplantillaaquí\"\n",
        "money = \"tucadenadeplantillaaquí\"\n",
        "estrellado.format(\"Estrella\") # \"******Estrella******\"\n",
        "guiones.format(\"Guión\")       # \"---------------Guión\"\n",
        "money.format(\"Money\")         # \"Money$$$$$$$$$$$$$$$\"\n",
        "```\n",
        "* Consejo:\n",
        "* Puedes rellenar una cadena con un marcador de posición en el formato {:cdx} donde c es el carácter de relleno, d es una de tres direcciones (<, ^ o >), y x es el ancho.\n",
        "* Por ejemplo:\n",
        "```python\n",
        "\"Mejor puntuación{:->15}\".format('AAA') #➞ \"Mejor puntuación------------AAA\"\n",
        "```\n",
        "* Envía una cadena, no una función."
      ],
      "metadata": {
        "id": "c1sQ-fIGDDs5"
      }
    },
    {
      "cell_type": "markdown",
      "source": [
        "### Comentario\n",
        "* El formato `{:cdx}` es un formato estándar en Python, donde:\n",
        "    - `c` es el carácter de relleno,\n",
        "    - `d` es una de las tres direcciones (`<`, `^`, o `>`), y\n",
        "    - `x` es el ancho\n",
        "* Es parte de la sintaxis de formateo de cadenas que se usa con el método `format()` en Python para formatear cadenas según ciertos criterios.\n",
        "\n",
        "    1. `<` indica alineación a la izquierda.\n",
        "    2. `^` indica alineación centrada.\n",
        "    3. `>` indica alineación a la derecha.\n",
        "* El carácter `c` se coloca antes del símbolo de dirección y se usa para especificar el carácter de relleno.\n",
        "* El carácter `c` puede ser cualquier carácter, no solo *, - o $."
      ],
      "metadata": {
        "id": "DZ-lzxHmIzcP"
      }
    },
    {
      "cell_type": "code",
      "source": [
        "#  Estas son las tres plantillas de cadena que cumplen con los requisitos:\n",
        "estrellado = \"{:*^20}\"\n",
        "guiones = \"{:->20}\"\n",
        "money = \"{:$<20}\""
      ],
      "metadata": {
        "id": "PEhcTw9T0Fk8"
      },
      "execution_count": null,
      "outputs": []
    },
    {
      "cell_type": "code",
      "source": [
        "print(estrellado.format(\"Estrella\"))    # Salida: ******Estrella******\n",
        "print(guiones.format(\"Guión\"))          # Salida: ---------------Guión\n",
        "print(money.format(\"Money\"))            # Salida: Money$$$$$$$$$$$$$$$"
      ],
      "metadata": {
        "id": "GM1b90Me0f8d",
        "outputId": "297b2cde-dc63-476e-aebd-515d6bd6ce71",
        "colab": {
          "base_uri": "https://localhost:8080/"
        }
      },
      "execution_count": null,
      "outputs": [
        {
          "output_type": "stream",
          "name": "stdout",
          "text": [
            "******Estrella******\n",
            "---------------Guión\n",
            "Money$$$$$$$$$$$$$$$\n"
          ]
        }
      ]
    },
    {
      "cell_type": "markdown",
      "source": [
        "## Reto 402: Gira Alrededor\n",
        "* Spin Around, Touch the Ground\n",
        "* Dada una lista de direcciones para girar, \"izquierda\" o \"derecha\", devuelve un número entero que representa cuántas rotaciones completas de 360° se realizaron.\n",
        "* Tenga en cuenta que cada palabra en la lista cuenta como una rotación de 90° en esa dirección.\n",
        "* Ejemplos:\n",
        "    1. girar_360([\"derecha\", \"derecha\", \"derecha\", \"derecha\", \"izquierda\", \"derecha\"]) ➞ 1\n",
        "        - Giraste a la derecha 4 veces (90 * 4 = 360)\n",
        "        - Giraste a la izquierda una vez (360 - 90 = 270)\n",
        "        - Pero giraste a la derecha una vez más para completar una rotación completa (270 + 90 = 360)\n",
        "    2. girar_360([\"izquierda\", \"derecha\", \"izquierda\", \"derecha\"]) ➞ 0\n",
        "    3. girar_360([\"derecha\", \"derecha\", \"derecha\", \"derecha\", \"derecha\", \"derecha\", \"derecha\", \"derecha\"]) ➞ 2\n",
        "    4. girar_360([\"izquierda\", \"izquierda\", \"izquierda\", \"izquierda\"]) ➞ 1\n",
        "    5. girar_360([\"derecha\", \"derecha\", \"derecha\", \"derecha\", \"derecha\", \"izquierda\", \"izquierda\"]) ➞ 0\n",
        "\n",
        "* Devuelva un número entero, no negativo.\n",
        "* Todas las pruebas solo incluirán las palabras \"derecha\" e \"izquierda\"."
      ],
      "metadata": {
        "id": "6FHTxNcFJNkT"
      }
    },
    {
      "cell_type": "code",
      "source": [
        "# Método 1\n",
        "def girar_360(direcciones):\n",
        "    giros_derecha = direcciones.count(\"derecha\")\n",
        "    giros_izquierda = direcciones.count(\"izquierda\")\n",
        "    total_giros = giros_derecha - giros_izquierda\n",
        "    giros_completos = abs(total_giros) // 4  # 4 giros = 360 grados\n",
        "    return giros_completos\n",
        "\n",
        "# Método 2. Usando una list comprhension\n",
        "def girar_360(lista):\n",
        "    giros = [1 if direccion == \"derecha\" else -1 for direccion in lista]\n",
        "    return abs(sum(giros) // 4)"
      ],
      "metadata": {
        "id": "7KeRwvXXJNkT"
      },
      "execution_count": null,
      "outputs": []
    },
    {
      "cell_type": "code",
      "source": [
        "print(girar_360([\"derecha\", \"derecha\", \"derecha\", \"derecha\", \"izquierda\", \"derecha\"]))\n",
        "print(girar_360([\"izquierda\", \"derecha\", \"izquierda\", \"derecha\"]))\n",
        "print(girar_360([\"derecha\", \"derecha\", \"derecha\", \"derecha\", \"derecha\", \"derecha\", \"derecha\", \"derecha\"]))\n",
        "print(girar_360([\"izquierda\", \"izquierda\", \"izquierda\", \"izquierda\"]))\n",
        "print(girar_360([\"derecha\", \"derecha\", \"derecha\", \"derecha\", \"derecha\", \"izquierda\", \"izquierda\"]))"
      ],
      "metadata": {
        "id": "usA6n1T2JNkU",
        "outputId": "d3aef622-0cd3-4c92-ab15-4518762cab13",
        "colab": {
          "base_uri": "https://localhost:8080/"
        }
      },
      "execution_count": null,
      "outputs": [
        {
          "output_type": "stream",
          "name": "stdout",
          "text": [
            "1\n",
            "0\n",
            "2\n",
            "1\n",
            "0\n"
          ]
        }
      ]
    },
    {
      "cell_type": "markdown",
      "source": [
        "## Reto 403: Cambiar Tipos Mixtos\n",
        "* Changing Mixed Types\n",
        "* Cree una función que cambie todos los elementos en una lista de la siguiente manera:\n",
        "    1. Agrega 1 a todos los enteros pares, no hace nada con los enteros impares.\n",
        "    2. Concatena \"!\" a todas las cadenas y convierte la primera letra de la palabra en mayúscula.\n",
        "    3. Cambia todos los valores booleanos por su opuesto.\n",
        "* Ejemplos:\n",
        "    1. change_types([\"a\", 12, True]) ➞ [\"A!\", 13, False]\n",
        "    2. change_types([13, \"13\", \"12\", \"twelve\"]) ➞ [13, \"13!\", \"12!\", \"Twelve!\"]\n",
        "    3. change_types([False, \"False\", \"true\"]) ➞ [True, \"False!\", \"True!\"]\n",
        "\n",
        "* No habrá valores flotantes.\n",
        "* No obtendrás cadenas con números y letras al mismo tiempo."
      ],
      "metadata": {
        "id": "dYBYqChYJOBj"
      }
    },
    {
      "cell_type": "code",
      "source": [
        "# Método 1\n",
        "def change_types(lista):\n",
        "    result = []\n",
        "    for elemento in lista:\n",
        "        if type(elemento) == bool:\n",
        "            result.append(not(elemento))\n",
        "        elif type(elemento) == int and elemento % 2 == 0:\n",
        "            result.append(elemento + 1)\n",
        "        elif type(elemento) == str:\n",
        "            result.append(elemento.title() + \"!\")\n",
        "        elif type(elemento) == int:\n",
        "            result.append(elemento)\n",
        "    return result\n",
        "\n",
        "# Método 2\n",
        "def change_types(lst):\n",
        "    result = []\n",
        "    for item in lst:\n",
        "        if isinstance(item, bool):\n",
        "            result.append(not item)\n",
        "        elif isinstance(item, str):\n",
        "            result.append(item.capitalize() + \"!\")\n",
        "        elif isinstance(item, int) and item % 2 == 0:\n",
        "            result.append(item + 1)\n",
        "        else:\n",
        "            result.append(item)\n",
        "    return result"
      ],
      "metadata": {
        "id": "F9oxj5R9JOBj"
      },
      "execution_count": null,
      "outputs": []
    },
    {
      "cell_type": "code",
      "source": [
        "print(change_types([\"a\", 12, True]))            # ➞ ['A!', 13, False]\n",
        "print(change_types([13, \"13\", \"12\", \"twelve\"])) # ➞ [13, '13!', '12!', 'Twelve!']\n",
        "print(change_types([False, \"False\", \"true\"]))   # ➞ [True, 'False!', 'True!']"
      ],
      "metadata": {
        "id": "b5PeMQ08JOBj",
        "outputId": "ab10be0a-b017-4a5f-b457-ec235ced928e",
        "colab": {
          "base_uri": "https://localhost:8080/"
        }
      },
      "execution_count": null,
      "outputs": [
        {
          "output_type": "stream",
          "name": "stdout",
          "text": [
            "['A!', 13, False]\n",
            "[13, '13!', '12!', 'Twelve!']\n",
            "[True, 'False!', 'True!']\n"
          ]
        }
      ]
    },
    {
      "cell_type": "markdown",
      "source": [
        "## Reto 404: Busca el caracter, si existe\n",
        "* Minimal VIII: This and That\n",
        "* Al siguiente código le falta un solo carácter para ser correcto.\n",
        "* Sin embargo, su objetivo es crear una función lo más minimalista posible.\n",
        "\n",
        "```python\n",
        "def thirdthird(lst):\n",
        "\tfor idx, i in enumerate(lst):\n",
        "\t\tif idx = 2:\n",
        "\t\t\tif len(i) >= 3:\n",
        "\t\t\t\treturn i[2]\n",
        "\treturn False\n",
        "```\n",
        "\n",
        "* Escriba una función que devuelva el tercer carácter de la tercera cadena en una lista dada de cadenas.\n",
        "* Devuelve `False` si no se puede encontrar.\n",
        "\n",
        "* Ejemplos:\n",
        "    1. third_char_third_string([\"abc\", \"def\", \"ghi\"]) ➞ 'i'\n",
        "    2. third_char_third_string([\"abc\", \"def\"]) ➞ False\n",
        "    3. third_char_third_string([]) ➞ False"
      ],
      "metadata": {
        "id": "nxs9UpUxJOIh"
      }
    },
    {
      "cell_type": "code",
      "source": [
        "# Método 1\n",
        "def third_char_third_string(lst):\n",
        "    return lst[2][2] if len(lst) > 2 and len(lst[2]) > 2 else False\n",
        "\n",
        "# Método 2\n",
        "def thirdthird(lst):\n",
        "    for idx, i in enumerate(lst):\n",
        "        if idx == 2:    # faltaba un =\n",
        "            if len(i) >= 3:\n",
        "                return i[2]\n",
        "    return False"
      ],
      "metadata": {
        "id": "d3qkcCz0JOIh"
      },
      "execution_count": null,
      "outputs": []
    },
    {
      "cell_type": "code",
      "source": [
        "print(third_char_third_string([\"abc\", \"def\", \"ghi\"]))   # 'i'\n",
        "print(third_char_third_string([\"abc\", \"def\"]))          # False\n",
        "print(third_char_third_string([]))                      # False"
      ],
      "metadata": {
        "id": "9V925k8DJOIh",
        "outputId": "56165bc5-8090-44bf-caa4-ba9df3b263fc",
        "colab": {
          "base_uri": "https://localhost:8080/"
        }
      },
      "execution_count": null,
      "outputs": [
        {
          "output_type": "stream",
          "name": "stdout",
          "text": [
            "i\n",
            "False\n",
            "False\n"
          ]
        }
      ]
    },
    {
      "cell_type": "markdown",
      "source": [
        "## Reto 405: Formatear número con coma(s) separando los miles\n",
        "* Format Number with Comma(s) Separating Thousands\n",
        "* Crea una función que tome un número como argumento y devuelva una cadena formateada para separar los miles.\n",
        "* Ejemplos:\n",
        "    1. format_num(1000) ➞ \"1,000\"\n",
        "    2. format_num(100000) ➞ \"100,000\"\n",
        "    3. format_num(20) ➞ \"20\"\n",
        "\n",
        "* Puedes esperar un número válido para todos los casos de prueba."
      ],
      "metadata": {
        "id": "BCiJB5lAJOPj"
      }
    },
    {
      "cell_type": "code",
      "source": [
        "# Método 1. Usa como separador de miles la coma\n",
        "def format_num(numero):\n",
        "    return '{:,}'.format(numero)\n",
        "\n",
        "# Método 2. Usa como separador de miles la coma\n",
        "def format_num(numero):\n",
        "    return f\"{numero:,}\"\n",
        "\n",
        "# Método 3. Usa como separador de miles la coma\n",
        "import locale\n",
        "\n",
        "def format_num(numero):\n",
        "    locale.setlocale(locale.LC_ALL, '')  # Establece la configuración regional del sistema\n",
        "    return locale.format_string(\"%d\", numero, grouping=True)\n",
        "\n",
        "# Método 4. Usa como separador de miles el punto\n",
        "# Igual que el Método 1 y luego usando replace para cambiar comas por puntos\n",
        "def format_num(numero):\n",
        "    return \"{:,}\".format(numero).replace(',', '.')"
      ],
      "metadata": {
        "id": "i2bofIVIJOPj"
      },
      "execution_count": null,
      "outputs": []
    },
    {
      "cell_type": "code",
      "source": [
        "print(format_num(1000))\n",
        "print(format_num(100000))\n",
        "print(format_num(20))"
      ],
      "metadata": {
        "id": "HZMXrQn6JOPj",
        "outputId": "56c9cb71-abc8-43b4-f953-57f9f85be76a",
        "colab": {
          "base_uri": "https://localhost:8080/"
        }
      },
      "execution_count": null,
      "outputs": [
        {
          "output_type": "stream",
          "name": "stdout",
          "text": [
            "1.000\n",
            "100.000\n",
            "20\n"
          ]
        }
      ]
    },
    {
      "cell_type": "markdown",
      "source": [
        "### Separador de miles con punto y separador de decimales con coma\n",
        "* En muchos paises, incluido España, se usa este sistema para separar miles y decimales.\n",
        "* Si un número entra sin decimales se imprime sin decimales.\n",
        "* Si un número entra con n decimales se imprime con n decimales y sin redondear y sin truncar."
      ],
      "metadata": {
        "id": "IDHyyYRTO4wL"
      }
    },
    {
      "cell_type": "code",
      "source": [
        "def format_num(numero):\n",
        "    # Si el número es un entero, formatearlo con el separador de miles como punto y sin decimales\n",
        "    if isinstance(numero, int):\n",
        "        return \"{:,}\".format(numero).replace(',', '.')\n",
        "    else:\n",
        "        # Si el número tiene decimales, obtener el número de decimales\n",
        "        num_decimales = len(str(numero).split('.')[1])\n",
        "        # Formatear el número con el separador de miles como punto y el separador decimal como coma\n",
        "        formato_decimal = \"{:,.{}f}\".format(numero, num_decimales)\n",
        "        # Dividir el número formateado en sus partes (parte entera y parte decimal)\n",
        "        partes = formato_decimal.split('.')\n",
        "        # Reemplazar el separador de miles en la parte entera por un punto\n",
        "        partes[0] = partes[0].replace(',', '.')\n",
        "        # Unir las partes nuevamente con el separador decimal como coma\n",
        "        return ','.join(partes)\n",
        "\n",
        "# Ejemplos de uso\n",
        "print(format_num(1000))    # ➞ \"1.000\"\n",
        "print(format_num(100000))  # ➞ \"100.000\"\n",
        "print(format_num(20))      # ➞ \"20\"\n",
        "print(format_num(20.75))   # ➞ \"20,75\"\n",
        "print(format_num(12345.6789))  # ➞ \"12.345,6789\""
      ],
      "metadata": {
        "id": "UKEAVV9SpuNs",
        "outputId": "4255af9e-cb77-4567-8e18-62c26e82ff61",
        "colab": {
          "base_uri": "https://localhost:8080/"
        }
      },
      "execution_count": null,
      "outputs": [
        {
          "output_type": "stream",
          "name": "stdout",
          "text": [
            "1.000\n",
            "100.000\n",
            "20\n",
            "20,75\n",
            "12.345,6789\n"
          ]
        }
      ]
    },
    {
      "cell_type": "markdown",
      "source": [
        "## Reto 406: Deshacer la mutación de una lista\n",
        "* Fix the Code: Un-Mutating a List\n",
        "* Tu amiga está tratando de escribir una función para lograr las siguientes transformaciones:\n",
        "\n",
        "`x = [3, 3, 3, 3, 3, 3, 3]`\n",
        "\n",
        "Cada vez que se llama a `x`, se muestran los siguientes resultados:\n",
        "\n",
        "1. change(x, 0) #[3, 3, 3, 3, 3, 3, 3]\n",
        "2. change(x, 1) #[3, 2, 2, 2, 2, 2, 3]\n",
        "3. change(x, 2) #[3, 2, 1, 1, 1, 2, 3]\n",
        "4. change(x, 3) #[3, 2, 1, 0, 1, 2, 3]\n",
        "\n",
        "* Nota: La función change() no debería mutar la lista original.\n",
        "* Después de cada llamada a la función, el valor original de x debería seguir siendo [3, 3, 3, 3, 3, 3, 3].\n",
        "\n",
        "Ella propone el siguiente código:\n",
        "```python\n",
        "def change(x, times):\n",
        "    for i in range(len(x)):\n",
        "        j = 1\n",
        "        while j <= times:\n",
        "            if i >= j and i < len(x)-j:\n",
        "                x[i] -= 1\n",
        "            j += 1\n",
        "    return x\n",
        "```\n",
        "* ¡Ups! El código parece mutar la lista original.\n",
        "* Arregla este código incorrecto para que la función ya no mute la lista original.\n",
        "\n",
        "* Ejemplo\n",
        "`x = [3, 3, 3, 3, 3, 3, 3]`\n",
        "\n",
        "- Lo que queremos:\n",
        "    1. change(x, 2) ➞ [3, 2, 1, 1, 1, 2, 3]\n",
        "    2. change(x, 2) ➞ [3, 2, 1, 1, 1, 2, 3]\n",
        "\n",
        "- Lo que obtenemos:\n",
        "    1. change(x, 2) ➞ [3, 2, 1, 1, 1, 2, 3] #Hasta aquí bien...\n",
        "    2. change(x, 2) ➞ [3, 1, -1, -1, -1, 1, 3] #La lista está mutada :(\n",
        "\n",
        "* Pista: Intenta hacer una copia de la lista de entrada."
      ],
      "metadata": {
        "id": "zUp9tcI5JOWV"
      }
    },
    {
      "cell_type": "code",
      "source": [
        "# Método 1. En Excel se ve bien, haciedo dos tablas una para s y otra para el resultado\n",
        "def change(x, n):\n",
        "    posicion = [min(i,len(x)-i-1) for i in range(len(x))] # [0, 1, 2, 3, 2, 1, 0]\n",
        "    s = [min(n, p) for p in posicion] # vector sustraendo. Si n=3, s=[0,1,2,3,2,1,0]\n",
        "    return [xi - si for xi, si in zip(x, s)] # restamos los vectores x-s\n",
        "\n",
        "# Método 2. En este método es necesario hacer una copia de x\n",
        "def change(x, n):\n",
        "    # Hacemos una copia de la lista original\n",
        "    x_copy = x[:]\n",
        "    for i in range(len(x_copy)):\n",
        "        j = 1\n",
        "        while j <= n:\n",
        "            # Si el índice actual está dentro del rango de modificación\n",
        "            if i >= j and i < len(x_copy)-j:\n",
        "                # Decrementamos el valor en la posición actual\n",
        "                x_copy[i] -= 1\n",
        "            j += 1\n",
        "    return x_copy\n",
        "\n",
        "# Método 3. Usando la librería copy\n",
        "import copy\n",
        "\n",
        "def change(x, n):\n",
        "    # Hacemos una copia de la lista original\n",
        "    x_copy = copy.copy(x)\n",
        "    for i in range(len(x_copy)):\n",
        "        j = 1\n",
        "        while j <= n:\n",
        "            if i >= j and i < len(x_copy)-j:\n",
        "                x_copy[i] -= 1\n",
        "            j += 1\n",
        "    return x_copy\n",
        "\n",
        "# Método 4\n",
        "def change(x, n):\n",
        "    x_copy = x[:]  # Hacemos una copia de la lista original\n",
        "    for i in range(len(x)):\n",
        "        x_copy[i] -= min(n, i, len(x) - 1 - i)\n",
        "    return x_copy\n",
        "\n",
        "# Método 5. Sin hacer copia de x, creando una nueva lista que luego se retorna\n",
        "#Iteramos sobre los índices de la lista original x y restamos el mínimo\n",
        "#entre el índice i, la distancia desde el extremo opuesto (len(x)-1-i), y n\n",
        "#al valor original en cada posición. Esto garantiza que solo se realicen\n",
        "#cambios en el rango deseado sin modificar la lista original.\n",
        "\n",
        "def change(x, n):\n",
        "    # Creamos una lista vacía para almacenar los nuevos valores\n",
        "    result = []\n",
        "    # Iteramos sobre los índices de la lista x\n",
        "    for i in range(len(x)):\n",
        "        # Calculamos el valor mínimo entre la distancia al borde izquierdo, al borde derecho y n\n",
        "        min_value = min(i, len(x) - 1 - i, n) # mínimo de tres valores\n",
        "        # Restamos el valor mínimo al elemento correspondiente de x y lo agregamos a result\n",
        "        new_value = x[i] - min_value\n",
        "        result.append(new_value)\n",
        "    # Devolvemos la lista resultante\n",
        "    return result\n",
        "\n",
        "# Método 6. Igual al método anterior pero condensado en una list comprehension\n",
        "def change(x, n):\n",
        "    return [x[i] - min(i, len(x)-1-i, n) for i in range(len(x))]"
      ],
      "metadata": {
        "id": "ajCazVdlJOWV"
      },
      "execution_count": null,
      "outputs": []
    },
    {
      "cell_type": "code",
      "source": [
        "x = [3, 3, 3, 3, 3, 3, 3]\n",
        "print(change(x, 0))  # [3, 3, 3, 3, 3, 3, 3]\n",
        "print(change(x, 1))  # [3, 2, 2, 2, 2, 2, 3]\n",
        "print(change(x, 2))  # [3, 2, 1, 1, 1, 2, 3]\n",
        "print(change(x, 3))  # [3, 2, 1, 0, 1, 2, 3]"
      ],
      "metadata": {
        "id": "pf6VXg-6JOWV",
        "outputId": "513a2680-7ebc-4904-e1e4-c5e7aca98492",
        "colab": {
          "base_uri": "https://localhost:8080/"
        }
      },
      "execution_count": null,
      "outputs": [
        {
          "output_type": "stream",
          "name": "stdout",
          "text": [
            "[3, 3, 3, 3, 3, 3, 3]\n",
            "[3, 2, 2, 2, 2, 2, 3]\n",
            "[3, 2, 1, 1, 1, 2, 3]\n",
            "[3, 2, 1, 0, 1, 2, 3]\n"
          ]
        }
      ]
    },
    {
      "cell_type": "code",
      "source": [
        "x = [4, 4, 4, 4, 4, 4, 4, 4, 4]\n",
        "print(change(x, 0))  # [4, 4, 4, 4, 4, 4, 4, 4, 4]\n",
        "print(change(x, 1))  # [4, 3, 3, 3, 3, 3, 3, 3, 4]\n",
        "print(change(x, 2))  # [4, 3, 2, 2, 2, 2, 2, 3, 4]\n",
        "print(change(x, 3))  # [4, 3, 2, 1, 1, 1, 2, 3, 4]\n",
        "print(change(x, 4))  # [4, 3, 2, 1, 0, 1, 2, 3, 4]"
      ],
      "metadata": {
        "colab": {
          "base_uri": "https://localhost:8080/"
        },
        "id": "tsY2BpIILL6k",
        "outputId": "cb136b3f-873b-4f35-a2c7-ffe1224b9402"
      },
      "execution_count": null,
      "outputs": [
        {
          "output_type": "stream",
          "name": "stdout",
          "text": [
            "[4, 4, 4, 4, 4, 4, 4, 4, 4]\n",
            "[4, 3, 3, 3, 3, 3, 3, 3, 4]\n",
            "[4, 3, 2, 2, 2, 2, 2, 3, 4]\n",
            "[4, 3, 2, 1, 1, 1, 2, 3, 4]\n",
            "[4, 3, 2, 1, 0, 1, 2, 3, 4]\n"
          ]
        }
      ]
    },
    {
      "cell_type": "markdown",
      "source": [
        "## Reto 407: Suma de Resistencias en Circuitos en Paralelo\n",
        "* Sum of Resistance in Parallel Circuits\n",
        "* Si dos o más resistencias están conectadas en paralelo, la resistencia total del circuito se reduce.\n",
        "* Es posible calcular la resistencia total de un circuito en paralelo usando esta fórmula:\n",
        "\n",
        "$${1 \\over R_{Total}} = {1 \\over R_1} + {1 \\over R_2} + ... + {1 \\over R_n}$$\n",
        "\n",
        "* Cree una función que tome una lista de valores de resistencias en paralelo, y calcule la resistencia total del circuito.\n",
        "\n",
        "* Ejemplos:\n",
        "    1. parallel_resistance([6, 3, 6]) ➞ 1.5\n",
        "    2. parallel_resistance([6, 3]) ➞ 2\n",
        "    3. parallel_resistance([10, 20, 10]) ➞ 4\n",
        "    4. parallel_resistance([500, 500, 500]) ➞ 166.7\n",
        "\n",
        "* Redondea al lugar decimal más cercano"
      ],
      "metadata": {
        "id": "oMtHyBHmJOdt"
      }
    },
    {
      "cell_type": "code",
      "source": [
        "def parallel_resistance(resistances):\n",
        "    suma = sum(1 / resistance for resistance in resistances)\n",
        "    return round(1 / suma, 1)"
      ],
      "metadata": {
        "id": "G99sWim1JOdt"
      },
      "execution_count": null,
      "outputs": []
    },
    {
      "cell_type": "code",
      "source": [
        "print(parallel_resistance([6, 3, 6]))       # 1.5\n",
        "print(parallel_resistance([6, 3]))          # 2\n",
        "print(parallel_resistance([10, 20, 10]))    # 4\n",
        "print(parallel_resistance([500, 500, 500])) # 166.7"
      ],
      "metadata": {
        "id": "59MTFDAXJOdt",
        "colab": {
          "base_uri": "https://localhost:8080/"
        },
        "outputId": "5e2cc5f7-3ac7-48e6-ef94-94bfb585c32a"
      },
      "execution_count": null,
      "outputs": [
        {
          "output_type": "stream",
          "name": "stdout",
          "text": [
            "1.5\n",
            "2.0\n",
            "4.0\n",
            "166.7\n"
          ]
        }
      ]
    },
    {
      "cell_type": "markdown",
      "source": [
        "## Reto 408: Cadena Parcialmente Oculta\n",
        "* Partially Hidden String\n",
        "* Crea una función que tome una frase y transforme cada palabra utilizando las siguientes reglas:\n",
        "1. Mantén el primer y último carácter igual.\n",
        "2. Transforma los caracteres intermedios en un guion medio -.\n",
        "* Ejemplos:\n",
        "    1. partially_hide(\"Aprender Python\") ➞ A------r P----n\n",
        "    2. partially_hide(\"La masa es energía\") ➞ La m--a es e-----a\n",
        "    3. partially_hide(\"Saltar el charco\") ➞ S----r el c----o\n",
        "    4. partially_hide(\"La cara oculta de la luna\") ➞ La c--a o----a de la l--a\n",
        "\n",
        "* Las palabras con dos o menos letras no deben ser ocultadas en absoluto."
      ],
      "metadata": {
        "id": "oGXPe_YvW0by"
      }
    },
    {
      "cell_type": "code",
      "source": [
        "# Método 1\n",
        "def partially_hide(phrase):\n",
        "    words = phrase.split()\n",
        "    result = []\n",
        "    for word in words:\n",
        "        if len(word) <= 2:\n",
        "            result.append(word)\n",
        "        else:\n",
        "            hidden = word[0] + '-' * (len(word) - 2) + word[-1]\n",
        "            result.append(hidden)\n",
        "    return ' '.join(result)"
      ],
      "metadata": {
        "id": "pOPSYc5tJiBU"
      },
      "execution_count": null,
      "outputs": []
    },
    {
      "cell_type": "code",
      "source": [
        "print(partially_hide(\"Aprender Python\"))            # A------r P----n\n",
        "print(partially_hide(\"La masa es energía\"))         # La m--a es e-----a\n",
        "print(partially_hide(\"Saltar el charco\"))           # S----r el c----o\n",
        "print(partially_hide(\"La cara oculta de la luna\"))  # La c--a o----a de la l--a"
      ],
      "metadata": {
        "id": "2xOS8D2WJiBU",
        "colab": {
          "base_uri": "https://localhost:8080/"
        },
        "outputId": "0ff9418e-8823-4ddf-e9f4-55958de815b1"
      },
      "execution_count": null,
      "outputs": [
        {
          "output_type": "stream",
          "name": "stdout",
          "text": [
            "A------r P----n\n",
            "La m--a es e-----a\n",
            "S----r el c----o\n",
            "La c--a o----a de la l--a\n"
          ]
        }
      ]
    },
    {
      "cell_type": "markdown",
      "source": [
        "## Reto 409: Inversiones de Cadenas\n",
        "* String Flips\n",
        "* Cree una función que tome una cadena como primer argumento y una cadena adjuntoa como segundo argumento.\n",
        "* Si el adjunto es \"palabra\", devuelve una cadena con cada palabra invertida manteniendo su orden original.\n",
        "* Si el adjunto es \"frase\", invierte el orden de las palabras en la cadena manteniendo las palabras intactas.\n",
        "* Ejemplos:\n",
        "    - txt = \"Me gustaría que el día tuviera 25 horas\"\n",
        "    1. flip(\"Hola\", \"palabra\") ➞ aloH\n",
        "    2. flip(\"Hola\", \"frase\") ➞ Hola\n",
        "    3. flip(txt, \"palabra\") ➞ eM aíratsug euq le aíd areivut 52 saroh\n",
        "    4. flip(txt, \"frase\") ➞ horas 25 tuviera día el que gustaría Me"
      ],
      "metadata": {
        "id": "qetlzAkIJOlC"
      }
    },
    {
      "cell_type": "code",
      "source": [
        "# Método 1\n",
        "def flip(string, adjunto):\n",
        "    if adjunto == \"palabra\":\n",
        "        palabras = string.split()\n",
        "        palabras_invertidas = [palabra[::-1] for palabra in palabras]\n",
        "        return ' '.join(palabras_invertidas)\n",
        "    elif adjunto == \"frase\":\n",
        "        palabras = string.split()\n",
        "        frase_invertida = ' '.join(reversed(palabras))\n",
        "        return frase_invertida\n",
        "    else:\n",
        "        return \"Especificación no válida\""
      ],
      "metadata": {
        "id": "SH3YyLc9JOlD"
      },
      "execution_count": null,
      "outputs": []
    },
    {
      "cell_type": "code",
      "source": [
        "txt = \"Me gustaría que el día tuviera 25 horas\"\n",
        "print(flip(\"Hola\", \"palabra\"))  # aloH\n",
        "print(flip(\"Hola\", \"frase\"))    # Hola\n",
        "print(flip(txt, \"palabra\"))     # eM aíratsug euq le aíd areivut 52 saroh\n",
        "print(flip(txt, \"frase\"))       # horas 25 tuviera día el que gustaría Me"
      ],
      "metadata": {
        "id": "co4VzDbPJOlD",
        "colab": {
          "base_uri": "https://localhost:8080/"
        },
        "outputId": "9a095a24-a5d3-46e0-b72f-900e720ebd45"
      },
      "execution_count": null,
      "outputs": [
        {
          "output_type": "stream",
          "name": "stdout",
          "text": [
            "aloH\n",
            "Hola\n",
            "eM aíratsug euq le aíd areivut 52 saroh\n",
            "horas 25 tuviera día el que gustaría Me\n"
          ]
        }
      ]
    },
    {
      "cell_type": "markdown",
      "source": [
        "## Reto 410: Función Secreta html\n",
        "* Secret Function 2.0\n",
        "* Crea una función basada en la entrada y la salida.\n",
        "* Observa los ejemplos, hay un patrón.\n",
        "* Ejemplos:\n",
        "    1. secret(\"div*2\") ➞ \\<div>\\</div>\\<div>\\</div>\n",
        "    2. secret(\"p*1\") ➞ \\<p>\\</p>\n",
        "    3. secret(\"li*3\") ➞ \\<li>\\</li>\\<li>\\</li>\\<li>\\</li>\n",
        "    4. secret(\"h1*1\") ➞ \\<h1>\\</h1>\n",
        "\n",
        "* La entrada es una cadena de texto."
      ],
      "metadata": {
        "id": "X9aSGCSiJOsc"
      }
    },
    {
      "cell_type": "code",
      "source": [
        "# Método 1\n",
        "def secret(s):\n",
        "    tag, multiplier = s.split('*')\n",
        "    output = '<{}></{}>'.format(tag, tag)\n",
        "    return output * int(multiplier)\n",
        "\n",
        "# Método 2\n",
        "def secret(s):\n",
        "    tag, multiplier = s.split('*')\n",
        "    output = f'<{tag}></{tag}>'\n",
        "    return output * int(multiplier)"
      ],
      "metadata": {
        "id": "lc9N5sDrJOsc"
      },
      "execution_count": null,
      "outputs": []
    },
    {
      "cell_type": "code",
      "source": [
        "print(secret(\"div*2\"))  # <div></div><div></div>\n",
        "print(secret(\"p*1\"))    # <p></p>\n",
        "print(secret(\"li*3\"))   # <li></li><li></li><li></li>\n",
        "print(secret(\"h1*1\"))   # <h1></h1>"
      ],
      "metadata": {
        "id": "hs94gqG-JOsc",
        "colab": {
          "base_uri": "https://localhost:8080/"
        },
        "outputId": "9423b29c-8de2-4de2-d4a0-0de41d63a216"
      },
      "execution_count": null,
      "outputs": [
        {
          "output_type": "stream",
          "name": "stdout",
          "text": [
            "<div></div><div></div>\n",
            "<p></p>\n",
            "<li></li><li></li><li></li>\n",
            "<h1></h1>\n"
          ]
        }
      ]
    },
    {
      "cell_type": "markdown",
      "source": [
        "## Reto 411: Seno, Coseno y Tangente\n",
        "* Cosine and Tangent\n",
        "* Crea tres funciones que hagan tres cosas:\n",
        "    1. Multiplicar un número por el seno de otro número.\n",
        "    2. Multiplicar un número por el coseno de otro número.\n",
        "    3. Multiplicar un número por la tangente de otro número.\n",
        "* En cada función, se te darán 2 números: x e y.\n",
        "* Otra cosa importante a tener en cuenta es que los números estarán en grados, no en radianes.\n",
        "* Recuerda redondear el resultado a 2 lugares decimales.\n",
        "* Ejemplos:\n",
        "    1. sine(8, 27) ➞ 8 × sin(27°) ➞ 3.63\n",
        "    2. cosine(10, 4) ➞ 10 × cos(4°) ➞ 9.98\n",
        "    3. tangent(4, 39) ➞ 4 × tan(39°) ➞ 3.24"
      ],
      "metadata": {
        "id": "TLGNJaT5JO0k"
      }
    },
    {
      "cell_type": "code",
      "source": [
        "import math\n",
        "\n",
        "def sine(x, y):\n",
        "    result = x * math.sin(math.radians(y))\n",
        "    return round(result, 2)\n",
        "\n",
        "def cosine(x, y):\n",
        "    result = x * math.cos(math.radians(y))\n",
        "    return round(result, 2)\n",
        "\n",
        "def tangent(x, y):\n",
        "    result = x * math.tan(math.radians(y))\n",
        "    return round(result, 2)"
      ],
      "metadata": {
        "id": "KIxuH6oLJO0k"
      },
      "execution_count": null,
      "outputs": []
    },
    {
      "cell_type": "code",
      "source": [
        "print(sine(8, 27))     # 3.63\n",
        "print(cosine(10, 4))   # 9.98\n",
        "print(tangent(4, 39))  # 3.24"
      ],
      "metadata": {
        "id": "J0ScKxGjJO0k",
        "colab": {
          "base_uri": "https://localhost:8080/"
        },
        "outputId": "c2d221ae-1fcf-416b-f2bd-555a7e854e7a"
      },
      "execution_count": null,
      "outputs": [
        {
          "output_type": "stream",
          "name": "stdout",
          "text": [
            "3.63\n",
            "9.98\n",
            "3.24\n"
          ]
        }
      ]
    },
    {
      "cell_type": "markdown",
      "source": [
        "## Reto 412: Extremadamente Sobreanidado\n",
        "* Extremely Over-Nested\n",
        "* Cree una función que devuelva el valor original de una lista con una gran cantidad de sub-listas.\n",
        "* Ejemplos:\n",
        "    1. de_nest([[[[[[[[[[[[3]]]]]]]]]]]]) ➞ 3\n",
        "    2. de_nest([[[[[[[True]]]]]]]) ➞ True\n",
        "    3. de_nest([[[[[[[[[[[[[[[[[\"bit\"]]]]]]]]]]]]]]]]]) ➞ \"bit\"\n",
        "\n",
        "* Solo necesita recuperar un elemento."
      ],
      "metadata": {
        "id": "X4vxbYsuJiJb"
      }
    },
    {
      "cell_type": "code",
      "source": [
        "# Método 1\n",
        "def de_nest(lista):\n",
        "    while type(lista[0]) == list:\n",
        "        lista = lista[0]\n",
        "    return lista[0]\n",
        "\n",
        "# Método 2\n",
        "def de_nest(lst):\n",
        "    while isinstance(lst, list):\n",
        "        lst = lst[0]\n",
        "    return lst\n",
        "\n",
        "# Método 3. Versión recursiva\n",
        "def de_nest(lst):\n",
        "    if isinstance(lst, list):\n",
        "        return de_nest(lst[0])\n",
        "    return lst\n",
        "\n",
        "# Método 4\n",
        "def de_nest(lst):\n",
        "    return eval(str(lst).replace('[','').replace(']',''))\n",
        "\n",
        "# Método 5\n",
        "def de_nest(lst):\n",
        "    return eval(str(lst).strip('[]'))\n",
        "\n",
        "# Método 6\n",
        "import numpy as np\n",
        "\n",
        "def de_nest(lst):\n",
        "    return np.squeeze(lst).item()"
      ],
      "metadata": {
        "id": "IAyE-y9hJiJb"
      },
      "execution_count": null,
      "outputs": []
    },
    {
      "cell_type": "code",
      "source": [
        "print(de_nest([[[[[[[[[[[[3]]]]]]]]]]]]))\n",
        "print(de_nest([[[[[[[True]]]]]]]))\n",
        "print(de_nest([[[[[[[[[[[[[[[[[\"bit\"]]]]]]]]]]]]]]]]]))"
      ],
      "metadata": {
        "id": "YK1L8pNhJiJb",
        "colab": {
          "base_uri": "https://localhost:8080/"
        },
        "outputId": "5eb004d0-00f9-4d28-8f30-b11a70e48729"
      },
      "execution_count": null,
      "outputs": [
        {
          "output_type": "stream",
          "name": "stdout",
          "text": [
            "3\n",
            "True\n",
            "bit\n"
          ]
        }
      ]
    },
    {
      "cell_type": "markdown",
      "source": [
        "## Reto 413: Letras compuestas\n",
        "* Compounding Letters\n",
        "* Crear una función que tome una cadena y devuelva una nueva cadena con cada nuevo carácter acumulándose en +1.\n",
        "* Separar cada conjunto con un guión.\n",
        "* Ejemplos:\n",
        "    1. accum(\"abcd\") ➞ \"A-Bb-Ccc-Dddd\"\n",
        "    2. accum(\"RqaEzty\") ➞ \"R-Qq-Aaa-Eeee-Zzzzz-Tttttt-Yyyyyyy\"\n",
        "    3. accum(\"cwAt\") ➞ \"C-Ww-Aaa-Tttt\"\n",
        "\n",
        "* Capitalizar la primera letra de cada conjunto.\n",
        "* Todas las pruebas contienen cadenas válidas con caracteres alfabéticos (a-z, A-Z)."
      ],
      "metadata": {
        "id": "qixk6TO7JiQY"
      }
    },
    {
      "cell_type": "code",
      "source": [
        "# Método 1\n",
        "def accum(txt):\n",
        "    lista = list(txt)\n",
        "    for i,letra in enumerate(lista):\n",
        "        lista[i] = (letra * (i+1)).capitalize()\n",
        "    return '-'.join(lista)\n",
        "\n",
        "# Método 2\n",
        "def accum(s):\n",
        "    result = \"\"\n",
        "    for i, char in enumerate(s):\n",
        "        result += char.upper() + char.lower() * i\n",
        "        if i < len(s) - 1:\n",
        "            result += \"-\"\n",
        "    return result\n",
        "\n",
        "# Método 3\n",
        "def accum(s):\n",
        "    return '-'.join((char.upper() + char.lower() * i) for i, char in enumerate(s))"
      ],
      "metadata": {
        "id": "sXUw2d4OJiQY"
      },
      "execution_count": null,
      "outputs": []
    },
    {
      "cell_type": "code",
      "source": [
        "print(accum(\"abcd\"))\n",
        "print(accum(\"RqaEzty\"))\n",
        "print(accum(\"cwAt\"))"
      ],
      "metadata": {
        "id": "Vw1jIBSaJiQY",
        "colab": {
          "base_uri": "https://localhost:8080/"
        },
        "outputId": "13310af9-8b48-4735-e033-be018f59e0bd"
      },
      "execution_count": null,
      "outputs": [
        {
          "output_type": "stream",
          "name": "stdout",
          "text": [
            "A-Bb-Ccc-Dddd\n",
            "R-Qq-Aaa-Eeee-Zzzzz-Tttttt-Yyyyyyy\n",
            "C-Ww-Aaa-Tttt\n"
          ]
        }
      ]
    },
    {
      "cell_type": "markdown",
      "source": [
        "## Reto 414: Listas especiales\n",
        "* Special Lists\n",
        "* Una lista es especial si cada índice par contiene un número par y cada índice impar contiene un número impar.\n",
        "* Crea una función que devuelva `True` si un arreglo es especial, y `False` en caso contrario.\n",
        "* Ejemplos:\n",
        "    1. is_special_array([2, 7, 4, 9, 6, 1, 6, 3]) ➞ True\n",
        "        - Índices pares: [2, 4, 6, 6]\n",
        "        - Índices impares: [7, 9, 1, 3]\n",
        "    3. is_special_array([2, 7, 9, 1, 6, 1, 6, 3]) ➞ False\n",
        "        - El índice 2 tiene un número impar 9.\n",
        "    4. is_special_array([2, 7, 8, 8, 6, 1, 6, 3]) ➞ False\n",
        "        - El índice 3 tiene un número par 8."
      ],
      "metadata": {
        "id": "lrNNOlP-JiXa"
      }
    },
    {
      "cell_type": "code",
      "source": [
        "# Método 1. Nos piden que (i+v) sea par para todos\n",
        "def is_special_array(lista):\n",
        "    for i, v in enumerate(lista):\n",
        "        if (i+v) % 2 != 0:\n",
        "            return False\n",
        "    return True\n",
        "\n",
        "# Método 2. Similar al anterior pero comprimido\n",
        "def is_special_array(lista):\n",
        "    return all((i+v) % 2 == 0 for i, v in enumerate(lista))\n",
        "\n",
        "# Método 3\n",
        "def is_special_array(lista):\n",
        "    return all((i + lista[i]) % 2 == 0 for i in range(len(lista)))\n",
        "\n",
        "# Método 4\n",
        "def is_special_array(arr):\n",
        "    for i in range(len(arr)):\n",
        "        if i % 2 == 0 and arr[i] % 2 != 0:  # Comprueba índices pares y números impares\n",
        "            return False\n",
        "        elif i % 2 != 0 and arr[i] % 2 == 0:  # Comprueba índices impares y números pares\n",
        "            return False\n",
        "    return True"
      ],
      "metadata": {
        "id": "VO3qvfbFJiXa"
      },
      "execution_count": null,
      "outputs": []
    },
    {
      "cell_type": "code",
      "source": [
        "print(is_special_array([2, 7, 4, 9, 6, 1, 6, 3]))\n",
        "print(is_special_array([2, 7, 9, 1, 6, 1, 6, 3]))\n",
        "print(is_special_array([2, 7, 8, 8, 6, 1, 6, 3]))"
      ],
      "metadata": {
        "id": "z78D6PDZJiXb",
        "colab": {
          "base_uri": "https://localhost:8080/"
        },
        "outputId": "3d4b6916-1a4c-45ab-f75c-ecd895f1464b"
      },
      "execution_count": null,
      "outputs": [
        {
          "output_type": "stream",
          "name": "stdout",
          "text": [
            "True\n",
            "False\n",
            "False\n"
          ]
        }
      ]
    },
    {
      "cell_type": "markdown",
      "source": [
        "## Reto 415: Transformar Upvotes\n",
        "* Transform Upvotes\n",
        "* Los \"upvotes\" son votos positivos o aprobaciones que se dan a un contenido en plataformas como Reddit, donde los usuarios pueden votar hacia arriba (upvote) o hacia abajo (downvote) para indicar si les gusta o no el contenido publicado.\n",
        "* Cree una función que transforme una cadena de recuentos de votos en una lista de números.\n",
        "* Cada \"k\" representa mil.\n",
        "* Ejemplos:\n",
        "    1. transform_upvotes(\"6.8k 13.5k\") ➞ [6800, 13500]\n",
        "    2. transform_upvotes(\"5.5k 8.9k 32\") ➞ [5500, 8900, 32]\n",
        "    3. transform_upvotes(\"20.3k 3.8k 7.7k 992\") ➞ [20300, 3800, 7700, 992]\n",
        "    4. transform_upvotes(\"12k 3.45k 999\") ➞ [12000, 3450, 999]\n",
        "\n",
        "* Devuelve los votos como una lista."
      ],
      "metadata": {
        "id": "ycO-Ex-YJidx"
      }
    },
    {
      "cell_type": "code",
      "source": [
        "# Método 1\n",
        "def transform_upvotes(cadena):\n",
        "    lista = cadena.split()\n",
        "    return [int(eval(x.replace('k','*1000'))) for x in lista]\n",
        "\n",
        "# Método 2\n",
        "def transform_upvotes(cadena):\n",
        "    lista = cadena.split()\n",
        "    return [int(float(vote[:-1]) * 1000) if 'k' in vote else int(vote) for vote in lista]"
      ],
      "metadata": {
        "id": "MRpSbTHNJidx"
      },
      "execution_count": null,
      "outputs": []
    },
    {
      "cell_type": "code",
      "source": [
        "print(transform_upvotes(\"6.8k 13.5k\"))\n",
        "print(transform_upvotes(\"5.5k 8.9k 32\"))\n",
        "print(transform_upvotes(\"20.3k 3.8k 7.7k 992\"))\n",
        "print(transform_upvotes(\"12k 3.45k 999\"))"
      ],
      "metadata": {
        "id": "DFQylYc9Jidx",
        "colab": {
          "base_uri": "https://localhost:8080/"
        },
        "outputId": "42ec3b9d-431a-4b39-d7d6-8475d7cce4f4"
      },
      "execution_count": null,
      "outputs": [
        {
          "output_type": "stream",
          "name": "stdout",
          "text": [
            "[6800, 13500]\n",
            "[5500, 8900, 32]\n",
            "[20300, 3800, 7700, 992]\n",
            "[12000, 3450, 999]\n"
          ]
        }
      ]
    },
    {
      "cell_type": "markdown",
      "source": [
        "## Reto 416: Máximo Común Divisor de Dos Números\n",
        "* GCD of Two Numbers\n",
        "* Escriba una función que devuelva el máximo común divisor (MCD) de dos enteros.\n",
        "*Ejemplos:\n",
        "    1. mcd(32, 8) ➞ 8\n",
        "    2. mcd(8, 12) ➞ 4\n",
        "    3. mcd(17, 13) ➞ 1\n",
        "    4. mcd(180, 1032) ➞ 12\n",
        "    5. mcd(300,33880) ➞ 20\n",
        "\n",
        "* Ambos valores serán positivos.\n",
        "* El MCD es el mayor factor que divide ambos números."
      ],
      "metadata": {
        "id": "ehhGeKWDJikh"
      }
    },
    {
      "cell_type": "code",
      "source": [
        "# Método 1\n",
        "from math import gcd\n",
        "\n",
        "def mcd(a, b):\n",
        "    return gcd(a, b)\n",
        "\n",
        "# Método 2. Buscando el MCD hacia atras\n",
        "def mcd(a, b):\n",
        "    for i in range(min(a, b), 0, -1):\n",
        "        if a % i == 0 and b % i == 0:\n",
        "            return i\n",
        "\n",
        "# Método 3. Buscando los divisores comunes\n",
        "def mcd(a,b):\n",
        "    maximo = 1\n",
        "    for i in range(1, min(a, b) + 1): #dividiendo entre todos los números anteriores al mínimo de los dos números a y b\n",
        "        # si al dividir ambos a y b entre i la división es exacta indicará que ese i es un divisor común a ambos\n",
        "        if a % i == 0 and b % i == 0:\n",
        "            maximo = i   #buscamos el máximo común divisor de ambos\n",
        "    return maximo\n",
        "\n",
        "# Método 4. Algoritmo de Euclides\n",
        "def mcd(a,b):\n",
        "    if b > a:\n",
        "        a, b = b, a  # para que a sea el mayor\n",
        "    while a % b != 0:\n",
        "        b, a = a % b, b\n",
        "    return b"
      ],
      "metadata": {
        "id": "OfPkm7hhJikh"
      },
      "execution_count": null,
      "outputs": []
    },
    {
      "cell_type": "code",
      "source": [
        "print(mcd(32, 8))\n",
        "print(mcd(8, 12))\n",
        "print(mcd(17, 13))\n",
        "print(mcd(180, 1032))\n",
        "print(mcd(300,33880))"
      ],
      "metadata": {
        "id": "HwIGf1QRJikh",
        "colab": {
          "base_uri": "https://localhost:8080/"
        },
        "outputId": "410a0941-2282-4421-b14d-404c64fc452c"
      },
      "execution_count": null,
      "outputs": [
        {
          "output_type": "stream",
          "name": "stdout",
          "text": [
            "8\n",
            "4\n",
            "1\n",
            "12\n",
            "20\n"
          ]
        }
      ]
    },
    {
      "cell_type": "markdown",
      "source": [
        "## Reto 417: Recursión: Números Fibonacci\n",
        "* Recursion: Fibonacci Numbers\n",
        "* Los números Fibonacci se crean de la siguiente manera:\n",
        "    - F(0) = 0\n",
        "    - (1) = 1\n",
        "    - ...\n",
        "    - F(n) = F(n-2) + F(n-1)\n",
        "* Escriba una función que calcule el n-ésimo número Fibonacci.\n",
        "* Ejemplos:\n",
        "    1. fib(0) ➞ 0\n",
        "    2. fib(1) ➞ 1\n",
        "    3. fib(2) ➞ 1\n",
        "    4. fib(8) ➞ 21\n",
        "    5. fib(20) ➞ 6765\n",
        "    6. fib(36) ➞ 14930352"
      ],
      "metadata": {
        "id": "0GDmptduJire"
      }
    },
    {
      "cell_type": "code",
      "source": [
        "# Método 1\n",
        "def fib(n):\n",
        "    if n <= 1:\n",
        "        return n\n",
        "    return fib(n-1) + fib(n-2)\n",
        "\n",
        "# Método 2. Con  memoización\n",
        "def fib(n, memo={}):\n",
        "    if n in memo:\n",
        "        return memo[n]\n",
        "    if n <= 1:\n",
        "        return n\n",
        "    memo[n] = fib(n-1, memo) + fib(n-2, memo)\n",
        "    return memo[n]"
      ],
      "metadata": {
        "id": "rKvCpyIyJirf"
      },
      "execution_count": null,
      "outputs": []
    },
    {
      "cell_type": "code",
      "source": [
        "print(fib(0))\n",
        "print(fib(1))\n",
        "print(fib(2))\n",
        "print(fib(8))\n",
        "print(fib(20))\n",
        "print(fib(36))  # 7 segundos por el método 1"
      ],
      "metadata": {
        "id": "6TTBafGzJirf",
        "colab": {
          "base_uri": "https://localhost:8080/"
        },
        "outputId": "d1faa230-eabe-4e0c-a007-798526409883"
      },
      "execution_count": null,
      "outputs": [
        {
          "output_type": "stream",
          "name": "stdout",
          "text": [
            "0\n",
            "1\n",
            "1\n",
            "21\n",
            "6765\n",
            "14930352\n"
          ]
        }
      ]
    },
    {
      "cell_type": "markdown",
      "source": [
        "## Reto 418: Posición en el Alfabeto\n",
        "* Position in the Alphabet\n",
        "* Dado un número entre 1 y 26, indica qué letra está en esa posición en el alfabeto.\n",
        "* Devuelve \"no válido\" si el número proporcionado no está dentro de ese rango o no es un número entero.\n",
        "* Ejemplos:\n",
        "    1. letter_at_position(1) ➞ \"a\"\n",
        "    2. letter_at_position(26.0) ➞ \"z\"\n",
        "    3. letter_at_position(0) ➞ \"invalid\"\n",
        "    4. letter_at_position(4.5) ➞ \"invalid\"\n",
        "\n",
        "* Devuelva una letra minúscula.\n",
        "* Los números que terminan en \".0\" son válidos."
      ],
      "metadata": {
        "id": "OREc2pvsJizQ"
      }
    },
    {
      "cell_type": "code",
      "source": [
        "# Método 1\n",
        "def letter_at_position(n):\n",
        "    if isinstance(n, int) and 1 <= n <= 26:\n",
        "        return chr(96 + n)  # 96 es el código ASCII de 'a', por lo que sumando n, obtenemos la letra correspondiente\n",
        "    elif isinstance(n, float) and 1 <= n <= 26 and int(n) == n:\n",
        "        return chr(96 + int(n))\n",
        "    else:\n",
        "        return \"invalid\"\n",
        "\n",
        "# Método 2\n",
        "def letter_at_position(number):\n",
        "    # Crear un diccionario que mapea números a letras\n",
        "    alphabet_dict = {\n",
        "        1: 'a', 2: 'b', 3: 'c', 4: 'd', 5: 'e',\n",
        "        6: 'f', 7: 'g', 8: 'h', 9: 'i', 10: 'j',\n",
        "        11: 'k', 12: 'l', 13: 'm', 14: 'n', 15: 'o',\n",
        "        16: 'p', 17: 'q', 18: 'r', 19: 's', 20: 't',\n",
        "        21: 'u', 22: 'v', 23: 'w', 24: 'x', 25: 'y', 26: 'z'\n",
        "    }\n",
        "    # Verificar si el número es un entero y está dentro del rango\n",
        "    if isinstance(number, int) and 1 <= number <= 26:\n",
        "        return alphabet_dict[number]\n",
        "    elif isinstance(number, float) and number.is_integer() and 1 <= int(number) <= 26:\n",
        "        return alphabet_dict[int(number)]\n",
        "    else:\n",
        "        return \"invalid\""
      ],
      "metadata": {
        "id": "ji6pXwB_JizQ"
      },
      "execution_count": null,
      "outputs": []
    },
    {
      "cell_type": "code",
      "source": [
        "print(letter_at_position(1))   # a\n",
        "print(letter_at_position(26.0))  # z\n",
        "print(letter_at_position(0))   # invalid\n",
        "print(letter_at_position(4.5)) # invalid"
      ],
      "metadata": {
        "id": "MandhIWDJizQ",
        "colab": {
          "base_uri": "https://localhost:8080/"
        },
        "outputId": "3f27f11c-a49e-4791-9c08-71f49ab62db8"
      },
      "execution_count": null,
      "outputs": [
        {
          "output_type": "stream",
          "name": "stdout",
          "text": [
            "a\n",
            "z\n",
            "invalid\n",
            "invalid\n"
          ]
        }
      ]
    },
    {
      "cell_type": "markdown",
      "source": [
        "## Reto 419: Calcule el valor faltante con la ley de Ohm\n",
        "* Calculate the Missing Value with Ohm's Law\n",
        "* Cree una función que calcule el valor faltante de 3 entradas usando la ley de Ohm.\n",
        "* Las entradas son `v`, `r` o `i` (también conocidas como voltaje, resistencia y corriente).\n",
        "* Ley de Ohm: $I = \\frac{V}{R}$\n",
        "* Devuelve el valor faltante redondeado a dos decimales.\n",
        "* Ejemplos:\n",
        "    1. ohms_law(12, 220, None) ➞ 0.05\n",
        "    2. ohms_law(230, None, 2) ➞ 115\n",
        "    3. ohms_law(None, 220, 0.02) ➞ 4.4\n",
        "    4. ohms_law(None, None, 10) ➞ \"Invalid\"\n",
        "    5. ohms_law(500, 50, 10) ➞ \"Invalid\"\n",
        "    6. ohms_law(None, None, None)) ➞ \"Invalid\"\n",
        "\n",
        "* Los valores faltantes serán `None`.\n",
        "* Si falta más de un valor o no falta ningún valor, devuelve \"Invalid\".\n",
        "* Solo se proporcionarán números."
      ],
      "metadata": {
        "id": "Oi9n-QcnJi6p"
      }
    },
    {
      "cell_type": "code",
      "source": [
        "# Método 1\n",
        "def ohms_law(v, r, i):\n",
        "    if [v, r, i].count(None) != 1:  # si solo hay una variable que es None se podrá calcular una fórmula\n",
        "        return \"Invalid\"\n",
        "    if v is None:\n",
        "        return round(r * i, 2)\n",
        "    elif r is None:\n",
        "        return round(v / i, 2)\n",
        "    else:\n",
        "        return round(v / r, 2)\n",
        "\n",
        "# Método 2. List Comprehension\n",
        "def ohms_law_list(v, r, i):\n",
        "    if [v, r, i].count(None) != 1:\n",
        "        return \"Invalid\"\n",
        "    return round(r * i, 2) if v is None else round(v / i, 2) if r is None else round(v / r, 2)\n",
        "\n",
        "# Método 3\n",
        "def ohms_law(v, r, i):\n",
        "    if v and r and i:   # si me dan todo es Invalid\n",
        "        return \"Invalid\"\n",
        "    elif v and r:   # si me dan solo v y r\n",
        "        return round(v/r, 2) # calcula I\n",
        "    elif v and i:   # si me dan solo v e i\n",
        "        return round(v/i, 2) # calcula R\n",
        "    elif r and i:   # si me dan solo r e i\n",
        "        return round(i*r, 2) # calcula V\n",
        "    else:\n",
        "        return \"Invalid\"    # si me dan menos de dos variables\n",
        "\n",
        "# Método 4. Usando un diccionario de funciones Lambda\n",
        "def ohms_law(v, r, i):\n",
        "    # Diccionario con funciones lambda para la ley de Ohm\n",
        "    ohms_dict = {\n",
        "        'I': lambda V, R: V / R,\n",
        "        'V': lambda I, R: I * R,\n",
        "        'R': lambda V, I: V / I\n",
        "    }\n",
        "    if (v, r, i).count(None) != 1:  # si el número de None es distinto de 1\n",
        "        return \"Invalid\"            # entonces estamos en un caso Invalid\n",
        "    if i is None:   # Calculamos la corriente (I) si no se proporciona\n",
        "        formula_I = ohms_dict['I']\n",
        "        return f\"{formula_I(v, r):.2f} A\"\n",
        "    elif v is None: # Calculamos la tensión (V) si no se proporciona\n",
        "        formula_V = ohms_dict['V']\n",
        "        return f\"{formula_V(i, r):.2f} V\"\n",
        "    elif r is None: # Calculamos la resistencia (R) si no se proporciona\n",
        "        formula_R = ohms_dict['R']\n",
        "        return f\"{formula_R(v, i):.2f} Ω\""
      ],
      "metadata": {
        "id": "bCqNGG_CJi6p"
      },
      "execution_count": null,
      "outputs": []
    },
    {
      "cell_type": "code",
      "source": [
        "print(ohms_law(12, 220, None))    # 0.05\n",
        "print(ohms_law(230, None, 2))     # 115\n",
        "print(ohms_law(None, 220, 0.02))  # 4.4\n",
        "print(ohms_law(None, None, 10))   # Invalid\n",
        "print(ohms_law(500, 50, 10))      # Invalid\n",
        "print(ohms_law(None, None, None)) # Invalid"
      ],
      "metadata": {
        "id": "cSYaASFsJi6p",
        "colab": {
          "base_uri": "https://localhost:8080/"
        },
        "outputId": "464678bc-1778-4ea9-a8fd-e635266612df"
      },
      "execution_count": null,
      "outputs": [
        {
          "output_type": "stream",
          "name": "stdout",
          "text": [
            "0.05 A\n",
            "115.00 Ω\n",
            "4.40 V\n",
            "Invalid\n",
            "Invalid\n",
            "Invalid\n"
          ]
        }
      ]
    },
    {
      "cell_type": "markdown",
      "source": [
        "## Reto 420: Encuentra la Segunda Ocurrencia de \"zip\" en una Cadena\n",
        "* Find the Second Occurrence of \"zip\" in a String\n",
        "* Escriba una función que devuelva la posición de la segunda ocurrencia de \"zip\" en una cadena, o -1 si no ocurre al menos dos veces.\n",
        "* Ejemplos:\n",
        "    1. find_zip(\"all zip files are zipped\") ➞ 18\n",
        "    2. find_zip(\"all zip files are compressed\") ➞ -1\n",
        "    3. find_zip(\"en linux se comprime con tar\") ➞ -1\n",
        "    4. find_zip(\"zip zipped \" * 3) ➞ 4\n",
        "\n",
        "* \"Zip\" en mayúsculas no es lo mismo que \"zip\" en minúsculas.\n",
        "\n",
        "\n",
        "\n",
        "\n",
        "\n"
      ],
      "metadata": {
        "id": "VqOAz1qjJjCA"
      }
    },
    {
      "cell_type": "code",
      "source": [
        "# Método 1\n",
        "def find_zip(s):\n",
        "    first_zip = s.find(\"zip\")\n",
        "    if first_zip != -1:\n",
        "        second_zip = s.find(\"zip\", first_zip + 1)\n",
        "        if second_zip != -1:\n",
        "            return second_zip\n",
        "    return -1\n",
        "\n",
        "# Método 2\n",
        "def find_zip(s):\n",
        "    n1 = s.find(\"zip\")\n",
        "    s = s[n1+1:]\n",
        "    n2 = s.find(\"zip\")\n",
        "    return -1 if n2 == -1 else n1 + n2 + 1\n",
        "\n",
        "# Método 3\n",
        "def find_zip(s):\n",
        "    if s.count(\"zip\") < 2:\n",
        "        return -1\n",
        "    n = s.find(\"zip\")\n",
        "    return n + s[n+1:].find(\"zip\") + 1\n",
        "\n",
        "# Método 4. Buscamos la segunda ocurrencia de “zip” a partir de la posición siguiente a la primera.\n",
        "def find_zip(s):\n",
        "    return s.find(\"zip\", s.find(\"zip\") + 1)\n",
        "\n",
        "# Método 5. Separamos la cadena con split cortando por los \"zip\"\n",
        "def find_zip(s):\n",
        "    parts = s.split(\"zip\")\n",
        "    if len(parts) >= 3:\n",
        "        # Si hay al menos dos ocurrencias de \"zip\", devuelve la posición de la segunda\n",
        "        return len(parts[0]) + len(\"zip\") + len(parts[1])\n",
        "    else:\n",
        "        return -1"
      ],
      "metadata": {
        "id": "BNAqtMkcJjCA"
      },
      "execution_count": null,
      "outputs": []
    },
    {
      "cell_type": "code",
      "source": [
        "print(find_zip(\"all zip files are zipped\"))     # 18\n",
        "print(find_zip(\"all zip files are compressed\")) # -1\n",
        "print(find_zip(\"en linux se comprime con tar\")) # -1\n",
        "print(find_zip(\"zip zipped \" * 3))              # 4"
      ],
      "metadata": {
        "id": "bJXQH_CLJjCB",
        "colab": {
          "base_uri": "https://localhost:8080/"
        },
        "outputId": "e19de44d-598c-487c-f001-3144f584e2b1"
      },
      "execution_count": null,
      "outputs": [
        {
          "output_type": "stream",
          "name": "stdout",
          "text": [
            "18\n",
            "-1\n",
            "-1\n",
            "4\n"
          ]
        }
      ]
    },
    {
      "cell_type": "markdown",
      "source": [
        "## Reto 421: Algoritmo de Intercambio XOR\n",
        "* XOR Swap Algorithm\n",
        "* Esto es más informativo que un reto.\n",
        "* Puedes cambiar realmente 2 variables con la operación XOR ^.\n",
        "* XOR funciona con dos argumentos.\n",
        "* Convierte ambos argumentos en sus representaciones binarias y, para cada bit, devuelve 1 si son diferentes, 0 en caso contrario.\n",
        "* El valor de retorno es la representación decimal de la nueva cadena binaria.\n",
        "* Tu trabajo es intercambiar 2 variables usando el operador XOR, lo que significa que tu declaración de retorno debería ser return[a, b], pero los valores almacenados en las variables deben ser intercambiados.\n",
        "* Ejemplos:\n",
        "    1. XOR(10, 41) ➞ (41, 10)\n",
        "    2. XOR(69, 420) ➞ (420, 69)\n",
        "    3. XOR(12345, 890412) ➞ (890412, 12345)\n",
        "\n",
        "* Para este desafío, evita hacer lo siguiente:\n",
        "```python\n",
        "def XOR(a, b):\n",
        "    return[b, a]\n",
        "def XOR(a, b):\n",
        "    temp = a\n",
        "    a = b\n",
        "    b = temp\n",
        "    return[a, b]\n",
        "```"
      ],
      "metadata": {
        "id": "PNPUFnt8J3hD"
      }
    },
    {
      "cell_type": "code",
      "source": [
        "def XOR_swap(a, b):\n",
        "    a = a ^ b\n",
        "    b = a ^ b\n",
        "    a = a ^ b\n",
        "    return a, b"
      ],
      "metadata": {
        "id": "Ti8YQt1xJ3hE"
      },
      "execution_count": null,
      "outputs": []
    },
    {
      "cell_type": "code",
      "source": [
        "print(XOR_swap(10, 41))         # (41, 10)\n",
        "print(XOR_swap(69, 420))        # (420, 69)\n",
        "print(XOR_swap(12345, 890412))  # (890412, 12345)"
      ],
      "metadata": {
        "id": "N__ZeOW6J3hE",
        "colab": {
          "base_uri": "https://localhost:8080/"
        },
        "outputId": "17d09896-ea24-49cb-ee34-75578dea7ac2"
      },
      "execution_count": null,
      "outputs": [
        {
          "output_type": "stream",
          "name": "stdout",
          "text": [
            "(41, 10)\n",
            "(420, 69)\n",
            "(890412, 12345)\n"
          ]
        }
      ]
    },
    {
      "cell_type": "markdown",
      "source": [
        "### Comentario\n",
        "* [XOR swap algorithm](https://en.wikipedia.org/wiki/XOR_swap_algorithm)\n",
        "* [Swap two variables using XOR](https://betterexplained.com/articles/swap-two-variables-using-xor/)\n",
        "* [Python Program to Swap Two Variables](https://www.geeksforgeeks.org/python-program-to-swap-two-variables/)\n",
        "\n",
        "El ejercicio plantea el desafío de intercambiar los valores de dos variables utilizando solo la operación XOR. La operación XOR (también conocida como \"o exclusivo\") devuelve 1 si y solo si los bits comparados son diferentes, y 0 si son iguales.\n",
        "\n",
        "La solución propuesta consiste en tres pasos:\n",
        "\n",
        "1. Se aplica XOR entre el valor de a y b y se guarda en a. Esto resulta en a conteniendo la combinación de ambos valores.\n",
        "2. Se aplica XOR entre el nuevo valor de a (que ahora contiene la combinación de a y b) y el valor original de b. Esto resulta en b conteniendo el valor original de a.\n",
        "3. Finalmente, se aplica XOR entre el nuevo valor de a (que ahora contiene la combinación de a y b) y el nuevo valor de b (que ahora contiene el valor original de a). Esto resulta en a conteniendo el valor original de b.\n",
        "Al final de estos pasos, a contendrá el valor original de b y b contendrá el valor original de a, logrando así el intercambio de valores sin necesidad de una variable temporal.\n",
        "\n",
        "Esencialmente, este algoritmo aprovecha las propiedades del XOR para manipular los bits de los valores y lograr el intercambio sin necesidad de una variable adicional para almacenar temporalmente uno de los valores."
      ],
      "metadata": {
        "id": "xBzaBKqN6MA0"
      }
    },
    {
      "cell_type": "markdown",
      "source": [
        "## Reto 422: Superhéroes\n",
        "* Superheroes\n",
        "* Cree una función que tome una lista de nombres de superhéroes y superheroínas, y devuelva una lista solo con los nombres de superhéroes que terminan en “man”, ordenados alfabéticamente.\n",
        "* Ejemplos:\n",
        "    1. superheroes([\"Batman\", \"Superman\", \"Spider-man\", \"Hulk\", \"Wolverine\", \"Wonder-Woman\"]) ➞ [\"Batman\", \"Spider-man\", \"Superman\"]\n",
        "    2. superheroes([\"Catwoman\", \"Deadpool\", \"Dr.Strange\", \"Captain-America\", \"Aquaman\", \"Hawkeye\"]) ➞ [\"Aquaman\"]\n",
        "    3. superheroes([\"Wonder-Woman\", \"Catwoman\", \"Invisible-Woman\"]) ➞ []\n",
        "\n",
        "* Wonder-Woman, Catwoman e Invisible-Woman son superheroínas"
      ],
      "metadata": {
        "id": "XWjJweTLJ38J"
      }
    },
    {
      "cell_type": "code",
      "source": [
        "# Método 1\n",
        "def superheroes(names):\n",
        "    superhero_names = []\n",
        "    for name in names:\n",
        "        if name.lower().endswith(\"man\") and \"woman\" not in name.lower():\n",
        "            superhero_names.append(name)\n",
        "    return sorted(superhero_names)\n",
        "\n",
        "# Método 2\n",
        "def superheroes(names):\n",
        "    return sorted([name for name in names if name.lower().endswith(\"man\") and \"woman\" not in name.lower()])\n",
        "\n",
        "# Método 3\n",
        "def superheroes(names):\n",
        "    filtered_names = filter(lambda name: name.lower().endswith(\"man\") and \"woman\" not in name.lower(), names)\n",
        "    return sorted(filtered_names)"
      ],
      "metadata": {
        "id": "7QTbKucHJ38K"
      },
      "execution_count": null,
      "outputs": []
    },
    {
      "cell_type": "code",
      "source": [
        "print(superheroes([\"Batman\", \"Superman\", \"Spider-man\", \"Hulk\", \"Wolverine\", \"Wonder-Woman\"])) # [\"Batman\", \"Spider-man\", \"Superman\"]\n",
        "print(superheroes([\"Catwoman\", \"Deadpool\", \"Dr.Strange\", \"Captain-America\", \"Aquaman\", \"Hawkeye\"])) # [\"Aquaman\"]\n",
        "print(superheroes([\"Wonder-Woman\", \"Catwoman\", \"Invisible-Woman\"]))  # []"
      ],
      "metadata": {
        "id": "-er8xjzyJ38K",
        "colab": {
          "base_uri": "https://localhost:8080/"
        },
        "outputId": "aebf25b0-c999-41d3-97eb-1656d675b514"
      },
      "execution_count": null,
      "outputs": [
        {
          "output_type": "stream",
          "name": "stdout",
          "text": [
            "['Batman', 'Spider-man', 'Superman']\n",
            "['Aquaman']\n",
            "[]\n"
          ]
        }
      ]
    },
    {
      "cell_type": "markdown",
      "source": [
        "## Reto 423: Número de Manzanas Restantes\n",
        "* Number of Apples Left\n",
        "* Un hombre tiene `n` manzanas.\n",
        "* Si se come un porcentaje `p` de las manzanas (si hay manzanas disponibles), sus hijos compartirán el resto de las manzanas.\n",
        "* Crea una función para determinar la cantidad de manzanas enteras que recibieron sus hijos.\n",
        "* Si sus hijos no recibieron ninguna manzana, devuelve “Los niños no recibieron ninguna manzana”.\n",
        "* Ejemplos:\n",
        "    1. get_number_of_apples(10, \"90%\") ➞ 1\n",
        "    2. get_number_of_apples(25, \"10%\") ➞ 22\n",
        "    3. get_number_of_apples(0, \"10%\") ➞ \"Los niños no recibieron ninguna manzana\"\n",
        "\n",
        "* Siempre se proporcionará el valor de `p`."
      ],
      "metadata": {
        "id": "cNH9ZpeOJ4DH"
      }
    },
    {
      "cell_type": "code",
      "source": [
        "# Método 1\n",
        "def get_number_of_apples(n, p):\n",
        "    resultado = round(n * (1-(float(p[:-1]) / 100)))\n",
        "    return \"Los niños no recibieron ninguna manzana\" if resultado == 0 else resultado\n",
        "\n",
        "# Método 2\n",
        "import math\n",
        "def get_number_of_apples(n, p):\n",
        "    try:\n",
        "        # Elimina el signo de porcentaje y conviértelo a decimal\n",
        "        p_decimal = float(p.strip('%')) / 100\n",
        "        # Calcula el número de manzanas comidas\n",
        "        manzanas_comidas = math.ceil(n * p_decimal)\n",
        "        # Calcula el número de manzanas enteras restantes\n",
        "        manzanas_restantes = n - manzanas_comidas\n",
        "        if manzanas_restantes > 0:\n",
        "            return manzanas_restantes\n",
        "        else:\n",
        "            return \"Los niños no recibieron ninguna manzana\"\n",
        "    except ValueError:\n",
        "        return \"Por favor, ingrese un porcentaje válido.\"\n",
        "\n",
        "def get_number_of_apples(n, p):\n",
        "    p_decimal = float(p.strip('%')) / 100\n",
        "    manzanas_comidas = (n * p_decimal)\n",
        "    manzanas_para_hijos = int((n - manzanas_comidas) // 1)\n",
        "    if manzanas_para_hijos == 0:\n",
        "        return \"Los niños no recibieron ninguna manzana\"\n",
        "    return manzanas_para_hijos"
      ],
      "metadata": {
        "id": "Y2rDnQu6J4DH"
      },
      "execution_count": null,
      "outputs": []
    },
    {
      "cell_type": "code",
      "source": [
        "print(get_number_of_apples(10, \"90%\"))\n",
        "print(get_number_of_apples(25, \"10%\"))\n",
        "print(get_number_of_apples(0, \"10%\"))"
      ],
      "metadata": {
        "id": "icsPyDetJ4DH",
        "colab": {
          "base_uri": "https://localhost:8080/"
        },
        "outputId": "74c75f2c-8985-406a-fb31-2b5e1620202f"
      },
      "execution_count": null,
      "outputs": [
        {
          "output_type": "stream",
          "name": "stdout",
          "text": [
            "1\n",
            "22\n",
            "Los niños no recibieron ninguna manzana\n"
          ]
        }
      ]
    },
    {
      "cell_type": "markdown",
      "source": [
        "## Reto 424: Frases Suaves\n",
        "* Smooth Sentences\n",
        "* Carlos es un gran admirador de lo que él llama frases suaves.\n",
        "* Una frase suave es aquella en la que la última letra de cada palabra es idéntica a la primera letra de la palabra siguiente (y no distingue entre mayúsculas y minúsculas, por lo que “A” sería igual que “a”).\n",
        "* La siguiente sería una frase suave: “Carlos nadó magistralmente”, porque “Carlos” termina con una “s” y “nadó” comienza con una “s”, y “nadó” termina con una “m” y “magistralmente” comienza con una “m”.\n",
        "* Crea una función que determine si la frase de entrada es una frase suave, devolviendo un valor booleano `True` si lo es, y `False` si no lo es.\n",
        "* Ejemplos:\n",
        "    1. is_smooth(\"Amanece en Noruega\") ➞ True\n",
        "    2. is_smooth(\"El lado oscuro\") ➞ True\n",
        "    3. is_smooth(\"Poder romano del imperio\") ➞ False\n",
        "\n",
        "* Las últimas y primeras letras no distinguen entre mayúsculas y minúsculas.\n",
        "* No habrá puntuación o tildes en cada frase."
      ],
      "metadata": {
        "id": "T5RJifTGJ4KH"
      }
    },
    {
      "cell_type": "code",
      "source": [
        "# Método 1\n",
        "def is_smooth(sentence: str) -> bool:\n",
        "    # Convierte todo a minúsculas y hace un split de palabras\n",
        "    words = sentence.lower().split()\n",
        "    # Comprueba si la úlitma letra de una palabra coincide con la primera de la siguiente\n",
        "    for i in range(len(words) - 1):\n",
        "        if words[i][-1] != words[i + 1][0]:\n",
        "            return False\n",
        "    return True\n",
        "\n",
        "# Método 2. Usando zip y all\n",
        "def is_smooth(sentence: str) -> bool:\n",
        "    words = sentence.lower().split()\n",
        "    return all(w1[-1] == w2[0] for w1, w2 in zip(words, words[1:]))\n",
        "\n",
        "# Método 3. Función recursiva\n",
        "def is_smooth(sentence: str) -> bool:\n",
        "    # Base case: If the sentence has only one word or is empty, it's smooth\n",
        "    if len(sentence.split()) <= 1:\n",
        "        return True\n",
        "\n",
        "    # Split the sentence into words and convert to lowercase\n",
        "    words = sentence.lower().split()\n",
        "\n",
        "    # Check if the last letter of the first word matches the first letter of the second word\n",
        "    if words[0][-1] != words[1][0]:\n",
        "        return False\n",
        "\n",
        "    # Recur with the remaining part of the sentence\n",
        "    return is_smooth(\" \".join(words[1:]))"
      ],
      "metadata": {
        "id": "dH3WyMViJ4KH"
      },
      "execution_count": null,
      "outputs": []
    },
    {
      "cell_type": "code",
      "source": [
        "print(is_smooth(\"Amanece en Noruega\"))\n",
        "print(is_smooth(\"El lado oscuro\"))\n",
        "print(is_smooth(\"Poder romano del imperio\"))"
      ],
      "metadata": {
        "id": "gYM_q5FvJ4KH",
        "colab": {
          "base_uri": "https://localhost:8080/"
        },
        "outputId": "76daeabc-0040-44f8-a2ce-32a0a0bcf789"
      },
      "execution_count": null,
      "outputs": [
        {
          "output_type": "stream",
          "name": "stdout",
          "text": [
            "True\n",
            "True\n",
            "False\n"
          ]
        }
      ]
    },
    {
      "cell_type": "markdown",
      "source": [
        "## Reto 425: Obtener el Siglo\n",
        "* Get the Century\n",
        "* Cree una función que tome un año y devuelva el siglo correcto.\n",
        "* Ejemplos:\n",
        "    1. century(1756) ➞ \"Siglo 18\"\n",
        "    2. century(1555) ➞ \"Siglo 16\"\n",
        "    3. century(1000) ➞ \"Siglo 10\"\n",
        "    4. century(1001) ➞ \"Siglo 11\"\n",
        "    5. century(2050) ➞ \"Siglo 21\"\n",
        "\n",
        "* Todos los años estarán entre 1000 y 2050.\n",
        "* El siglo 11 está entre 1001 y 1100.\n",
        "* El siglo 18 está entre 1701 y 1800.\n",
        "\n",
        "\n",
        "\n",
        "\n",
        "\n"
      ],
      "metadata": {
        "id": "9btS9f_jJ4Rk"
      }
    },
    {
      "cell_type": "code",
      "source": [
        "# Método 1\n",
        "def century(year):\n",
        "    if year % 100 == 0:\n",
        "        century = year // 100\n",
        "    else:\n",
        "        century = year // 100 + 1\n",
        "    return f\"Siglo {century}\"\n",
        "\n",
        "# Método 2. Función Lambda\n",
        "century = lambda y: f\"Siglo {y // 100 if y % 100 == 0 else y // 100 + 1}\"\n",
        "\n",
        "# Método 3\n",
        "import math\n",
        "\n",
        "century_lambda = lambda year: f\"Siglo {math.ceil(year / 100)}\""
      ],
      "metadata": {
        "id": "E6J3pCYOJ4Rk"
      },
      "execution_count": null,
      "outputs": []
    },
    {
      "cell_type": "code",
      "source": [
        "print(century(1756))\n",
        "print(century(1555))\n",
        "print(century(1000))\n",
        "print(century(1001))\n",
        "print(century(2050))"
      ],
      "metadata": {
        "id": "tknb1UNEJ4Rk",
        "colab": {
          "base_uri": "https://localhost:8080/"
        },
        "outputId": "d919a89c-04a9-40ac-de54-c8aa4854f953"
      },
      "execution_count": null,
      "outputs": [
        {
          "output_type": "stream",
          "name": "stdout",
          "text": [
            "Siglo 18\n",
            "Siglo 16\n",
            "Siglo 10\n",
            "Siglo 11\n",
            "Siglo 21\n"
          ]
        }
      ]
    },
    {
      "cell_type": "markdown",
      "source": [
        "## Reto 426: Código de caracteres matemáticos\n",
        "* Character Code Math\n",
        "* Convierta cada carácter en un string `s` en su código de carácter ASCII y únelos para crear un número.\n",
        "* Por ejemplo, para la cadena \"abc\", el número es 979899. Llamaremos a este número \"num1\".\n",
        "\n",
        "\"abc\" ➞ \"a\" = 97, \"b\" = 98, \"c\" = 99 ➞ 979899\n",
        "\n",
        "* Luego, reemplaza cualquier ocurrencia del número 7 con el número 1, y llamamos a este número \"num2\":\n",
        "\n",
        "    - num1 = 979899\n",
        "    - num2 = 919899\n",
        "\n",
        "* Devuelve la diferencia entre la suma de los dígitos en num1 y num2:\n",
        "\n",
        "<pre>  (9 + 7 + 9 + 8 + 9 + 9)\n",
        "- (9 + 1 + 9 + 8 + 9 + 9)\n",
        "-------------------------\n",
        "         ➞  6</pre>\n",
        "\n",
        "* Ejemplos:\n",
        "    1. calc(\"ABCDabcd\") ➞ 12\n",
        "    2. calc(\"cdefgh\") ➞ 0\n",
        "    3. calc(\"ifkhchlhfde\") ➞ 6\n",
        "\n",
        "* Los caracteres en minúsculas y mayúsculas tienen diferentes códigos de caracteres ASCII."
      ],
      "metadata": {
        "id": "2-Et9sGhJ4Yk"
      }
    },
    {
      "cell_type": "code",
      "source": [
        "# Método 1\n",
        "def calc(s):\n",
        "    # Convertir cada carácter en su código ASCII y unirlos para formar un número\n",
        "    num1 = ''.join(str(ord(char)) for char in s)\n",
        "    # Reemplazar cualquier ocurrencia del número 7 con el número 1\n",
        "    num2 = num1.replace('7', '1')\n",
        "    # Calcular la diferencia entre la suma de los dígitos de num1 y num2\n",
        "    return sum(int(digit) for digit in num1) - sum(int(digit) for digit in num2)\n",
        "\n",
        "# Método 2. Usando map\n",
        "def calc(s):\n",
        "    # Convertir cada carácter en su código ASCII y unirlos para formar un número\n",
        "    num1 = int(''.join(map(str, map(ord, s))))\n",
        "    # Reemplazar cualquier ocurrencia del número 7 con el número 1 y convertirlo de nuevo a entero\n",
        "    num2 = int(str(num1).replace('7', '1'))\n",
        "    # Calcular la diferencia entre la suma de los dígitos de num1 y num2\n",
        "    return sum(map(int, str(num1))) - sum(map(int, str(num2)))\n",
        "\n",
        "# Método 3\n",
        "def calc(s):\n",
        "    # Convertir cada carácter en su código ASCII y unirlos para formar un número\n",
        "    num1 = ''.join(str(ord(char)) for char in s)\n",
        "    # Reemplazar '7' con '1' en num1 y calcular su longitud\n",
        "    num2 = int(num1.replace('7', '1'))\n",
        "    # Calcular la suma de los dígitos de num1 y num2\n",
        "    sum_num1 = sum(map(int, str(num1)))\n",
        "    sum_num2 = sum(map(int, str(num2)))\n",
        "    # Calcular la diferencia entre las sumas de los dígitos de num1 y num2\n",
        "    return sum_num1 - sum_num2"
      ],
      "metadata": {
        "id": "NUZheGy3J4Yk"
      },
      "execution_count": null,
      "outputs": []
    },
    {
      "cell_type": "code",
      "source": [
        "print(calc(\"ABCDabcd\"))    # ➞ 12\n",
        "print(calc(\"cdefgh\"))      # ➞ 0\n",
        "print(calc(\"ifkhchlhfde\")) # ➞ 6"
      ],
      "metadata": {
        "id": "OsMIsl4xJ4Yk",
        "colab": {
          "base_uri": "https://localhost:8080/"
        },
        "outputId": "b639c8ad-57e0-4991-e842-20d5b28edb2c"
      },
      "execution_count": null,
      "outputs": [
        {
          "output_type": "stream",
          "name": "stdout",
          "text": [
            "12\n",
            "0\n",
            "6\n"
          ]
        }
      ]
    },
    {
      "cell_type": "markdown",
      "source": [
        "## Reto 427: La Conjetura de Collatz\n",
        "* The Collatz Conjecture\n",
        "* Considere la siguiente operación en un número entero positivo arbitrario:\n",
        "\n",
        "    - Si n es par -> n / 2\n",
        "    - Si n es impar -> n * 3 + 1\n",
        "* Cree una función para evaluar repetidamente estas operaciones, hasta alcanzar 1.\n",
        "* Retorne el número de pasos que tomó.\n",
        "* Mire el siguiente ejemplo, usando 10 como entrada, con 6 pasos:\n",
        "    1. 10 es par - 10 / 2 = 5\n",
        "    2. 5 es impar - 5 * 3 + 1 = 16\n",
        "    3. 16 es par - 16 / 2 = 8\n",
        "    4. 8 es par - 8 / 2 = 4\n",
        "    5. 4 es par - 4 / 2 = 2\n",
        "    6. 2 es par - 2 / 2 = 1 -> Alcanzó 1, así que retorna 6\n",
        "* Ejemplos:\n",
        "    1. collatz(2) ➞ 1\n",
        "    2. collatz(3) ➞ 7\n",
        "    3. collatz(10) ➞ 6"
      ],
      "metadata": {
        "id": "cklCP4WwJ4f_"
      }
    },
    {
      "cell_type": "code",
      "source": [
        "# Método 1\n",
        "def collatz(n):\n",
        "    contador = 0\n",
        "    while n > 1:\n",
        "        if n % 2 == 0:\n",
        "            n /= 2\n",
        "        else:\n",
        "            n = 3 * n + 1\n",
        "        contador += 1\n",
        "    return contador\n",
        "\n",
        "# Método 2. Función recursiva\n",
        "def collatz(n, steps=0):\n",
        "    if n == 1:\n",
        "        return steps\n",
        "    elif n % 2 == 0:\n",
        "        return collatz(n // 2, steps + 1)\n",
        "    else:\n",
        "        return collatz(n * 3 + 1, steps + 1)\n",
        "\n",
        "# Método 3. Función recursiva con memoización con un diccionario\n",
        "memo = {1: 0}\n",
        "\n",
        "def collatz(n):\n",
        "    if n not in memo:\n",
        "        if n % 2 == 0:\n",
        "            memo[n] = 1 + collatz(n // 2)\n",
        "        else:\n",
        "            memo[n] = 1 + collatz(n * 3 + 1)\n",
        "    return memo[n]\n",
        "\n",
        "# Método 4. Función recursiva con memoización con una lista\n",
        "def collatz(n):\n",
        "    # Inicializamos una lista para almacenar las longitudes de las secuencias de Collatz.\n",
        "    memo = [0] * (n + 1)  # La posición 0 no se usará, solo para hacer coincidir los índices con los números.\n",
        "    memo[1] = 0  # Establecemos la longitud de la secuencia para el número 1 como 0.\n",
        "    # Iteramos sobre cada número en el rango de 2 a n para calcular su secuencia de Collatz.\n",
        "    for num in range(2, n + 1):\n",
        "        current_num = num  # Inicializamos el número actual en la secuencia.\n",
        "        steps = 0  # Inicializamos el contador de pasos para esta secuencia.\n",
        "        # Iteramos hasta que el número actual llegue a 1.\n",
        "        while current_num != 1:\n",
        "            # Verificamos si la longitud de la secuencia para el número actual ya está calculada.\n",
        "            if current_num < len(memo) and memo[current_num] > 0:\n",
        "                steps += memo[current_num]  # Agregamos la longitud de la secuencia ya calculada.\n",
        "                break  # Salimos del bucle while.\n",
        "            # Aplicamos las reglas de la conjetura de Collatz para obtener el siguiente número en la secuencia.\n",
        "            if current_num % 2 == 0:\n",
        "                current_num //= 2  # Si es par, dividimos por 2.\n",
        "            else:\n",
        "                current_num = current_num * 3 + 1  # Si es impar, multiplicamos por 3 y sumamos 1.\n",
        "            steps += 1  # Incrementamos el contador de pasos.\n",
        "        memo[num] = steps  # Almacenamos la longitud de la secuencia para el número actual en la lista memo.\n",
        "    return memo[n]  # Retornamos la longitud de la secuencia para el número n."
      ],
      "metadata": {
        "id": "CfK4xyRhJ4f_"
      },
      "execution_count": null,
      "outputs": []
    },
    {
      "cell_type": "code",
      "source": [
        "print(collatz(2))    # 1\n",
        "print(collatz(3))    # 7\n",
        "print(collatz(10))   # 6\n",
        "print(collatz(6171)) # 261"
      ],
      "metadata": {
        "id": "nGBYgdmWJ4f_",
        "outputId": "a7b67d40-793a-48c3-db7f-a126f4d0271d",
        "colab": {
          "base_uri": "https://localhost:8080/"
        }
      },
      "execution_count": null,
      "outputs": [
        {
          "output_type": "stream",
          "name": "stdout",
          "text": [
            "1\n",
            "7\n",
            "6\n",
            "261\n"
          ]
        }
      ]
    },
    {
      "cell_type": "markdown",
      "source": [
        "## Reto 428: Expresión regular para código postal de 5 dígitos:\n",
        "* Regex Series: 5-Digit Zip Code\n",
        "* Escriba una expresión regular que coincida con una cadena si y solo si es un código postal válido.\n",
        "* Ejemplos:\n",
        "    1. \"32554\" ➞ True\n",
        "    2. \"92 342\" ➞ False\n",
        "        - Inválido: contiene un espacio en blanco\n",
        "    3. \"9@342\" ➞ False\n",
        "        - Inválido: contiene un carácter no numérico\n",
        "    4. \"923444\" ➞ False\n",
        "        - Inválido: la longitud no es 5\n",
        "\n",
        "* Los códigos postales deben tener exactamente 5 dígitos de longitud y solo contener números.\n",
        "* No se permiten: caracteres no numéricos o espacios en blanco."
      ],
      "metadata": {
        "id": "h_FCdlipJ4na"
      }
    },
    {
      "cell_type": "code",
      "source": [
        "# Método 1\n",
        "import re\n",
        "\n",
        "def validar_codigo_postal(codigo):\n",
        "    # Expresión regular para validar código postal de 5 dígitos\n",
        "    patron = r'^\\d{5}$'\n",
        "    return bool(re.match(patron, codigo))\n",
        "\n",
        "# Método 2\n",
        "def validar_codigo_postal(codigo):\n",
        "    # Verificar si la longitud del código postal es 5\n",
        "    if len(codigo) != 5:\n",
        "        return False\n",
        "    # Verificar si todos los caracteres son dígitos\n",
        "    for caracter in codigo:\n",
        "        if not caracter.isdigit():\n",
        "            return False\n",
        "    # Si todas las condiciones son verdaderas, el código postal es válido\n",
        "    return True\n",
        "\n",
        "# Método 3\n",
        "def validar_codigo_postal(codigo):\n",
        "    # Verificar si la longitud del código postal es 5\n",
        "    if len(codigo) != 5:\n",
        "        return False\n",
        "    # Verificar si todos los caracteres son dígitos\n",
        "    for caracter in codigo:\n",
        "        if not caracter.isdigit():\n",
        "            return False\n",
        "    # Si todas las condiciones son verdaderas, el código postal es válido\n",
        "    return True\n",
        "\n",
        "# Método 4\n",
        "def validar_codigo_postal(codigo):\n",
        "    return len(codigo) == 5 and codigo.isdigit()"
      ],
      "metadata": {
        "id": "6izl31Y2J4uu"
      },
      "execution_count": null,
      "outputs": []
    },
    {
      "cell_type": "code",
      "source": [
        "print(validar_codigo_postal(\"32554\"))   # True\n",
        "print(validar_codigo_postal(\"92 342\"))  # False\n",
        "print(validar_codigo_postal(\"9@342\"))   # False\n",
        "print(validar_codigo_postal(\"923444\"))  # False"
      ],
      "metadata": {
        "id": "JjSVAuUTJ4uu",
        "outputId": "fb768471-1353-4103-e2dd-33b8babd50fb",
        "colab": {
          "base_uri": "https://localhost:8080/"
        }
      },
      "execution_count": null,
      "outputs": [
        {
          "output_type": "stream",
          "name": "stdout",
          "text": [
            "True\n",
            "False\n",
            "False\n",
            "False\n"
          ]
        }
      ]
    },
    {
      "cell_type": "markdown",
      "source": [
        "## Reto 429: Asombrosa aliteración\n",
        "* Amazing Alliteration\n",
        "* La aliteración se refiere a una secuencia de palabras que comienzan con la misma letra.\n",
        "* Para este ejercicio, una oración está correctamente aliterada si todas las palabras estrictamente mayores que 3 caracteres comienzan con la misma letra.\n",
        "* Ejemplos:\n",
        "    1. alliteration_correct(\"Ella nadó hasta la orilla.\") ➞ True\n",
        "        - Todas las palabras >= 4 letras comienzan con \"s\"\n",
        "    2. alliteration_correct(\"Maybel maneja dinero bien.\") ➞ False\n",
        "        - \"bien\" no comienza con \"m\"\n",
        "    3. alliteration_correct(\"Él ayuda a aprovechar la felicidad.\") ➞ True\n",
        "    4. alliteration_correct(\"Hay muchos animales.\") ➞ False\n",
        "\n",
        "* Esto permite palabras de relleno como \"el\", \"a\", \"de\", etc. - por lo que las palabras con tres o menos caracteres no se cuentan.\n",
        "* La puntuación no cuenta como parte de la longitud de una palabra."
      ],
      "metadata": {
        "id": "qrAew1HVJ4uu"
      }
    },
    {
      "cell_type": "code",
      "source": [
        "# Método 1\n",
        "def alliteration_correct(sentence):\n",
        "    words = sentence.split()  # Divide la oración en palabras\n",
        "    if len(words) == 0:\n",
        "        return False  # Si no hay palabras, no hay aliteración\n",
        "    first_letter = None  # Inicializa la primera letra como nula\n",
        "    for word in words:\n",
        "        if len(word) > 3:  # Solo considera palabras de más de 3 caracteres\n",
        "            if first_letter is None:  # Si es la primera palabra considerada\n",
        "                first_letter = word[0].lower()  # Obtiene la primera letra y la convierte a minúscula\n",
        "            elif word[0].lower() != first_letter:  # Si la primera letra no coincide con las anteriores\n",
        "                return False  # No cumple con la condición de aliteración\n",
        "    return True  # Si todas las palabras cumplen con la condición, retorna verdadero\n",
        "\n",
        "# Método 2\n",
        "def alliteration_correct(sentence):\n",
        "    words = [word.lower() for word in sentence.split() if len(word) > 3]  # Filtra y convierte a minúsculas las palabras de más de 3 caracteres\n",
        "    return len(set(word[0] for word in words)) == 1 if words else False  # Verifica si todas las primeras letras son iguales, si hay palabras\n",
        "\n",
        "# Método 3. Regular Expressions\n",
        "import re\n",
        "\n",
        "def alliteration_correct(sentence):\n",
        "    words = re.findall(r'\\b\\w{4,}\\b', sentence.lower())  # Encuentra palabras de más de 3 caracteres y las convierte a minúsculas\n",
        "    return len(set(word[0] for word in words)) == 1 if words else False  # Verifica si todas las primeras letras son iguales, si hay palabras\n",
        "\n",
        "# Método 4.\n",
        "def alliteration_correct(sentence):\n",
        "    words = sentence.split()  # Divide la oración en palabras\n",
        "    valid_words = [word.lower() for word in words if len(word) > 3]  # Filtra palabras de más de 3 caracteres y las convierte a minúsculas\n",
        "    if not valid_words:\n",
        "        return False  # Si no hay palabras válidas, retorna False\n",
        "    first_letter = valid_words[0][0]  # Obtiene la primera letra de la primera palabra válida\n",
        "    # Verifica si todas las palabras comienzan con la misma letra que la primera palabra válida\n",
        "    return all(word[0] == first_letter for word in valid_words[1:])"
      ],
      "metadata": {
        "id": "rirzzGxdJ4na"
      },
      "execution_count": null,
      "outputs": []
    },
    {
      "cell_type": "code",
      "source": [
        "print(alliteration_correct(\"Ella y Eduardo entrenaron estupendamente a sus empleados\"))\n",
        "print(alliteration_correct(\"Los medios multimedia son mediocres\"))\n",
        "print(alliteration_correct(\"Mi mamá me mima\"))\n",
        "print(alliteration_correct(\"Tres tristes tigres tragaban trigo en un trigal\"))\n",
        "print(alliteration_correct(\"Tres tristes tigres comen trigo en un trigal\"))"
      ],
      "metadata": {
        "id": "TdKhyFKRJ4na",
        "outputId": "19c88183-4f8c-4f55-eb25-98548eaaca02",
        "colab": {
          "base_uri": "https://localhost:8080/"
        }
      },
      "execution_count": null,
      "outputs": [
        {
          "output_type": "stream",
          "name": "stdout",
          "text": [
            "True\n",
            "True\n",
            "True\n",
            "True\n",
            "False\n"
          ]
        }
      ]
    },
    {
      "cell_type": "markdown",
      "source": [
        "## Reto 430: ¿Cuántos rectángulos?\n",
        "* How Many Rectangles?\n",
        "* Imagine una matriz cuadrada, donde cada cuadrado es un rectángulo, y la combinación de varios cuadrados también forma rectángulos.\n",
        "* Para encontrar el número de rectángulos, Pete se sentó y comenzó a contar... pero eso es altamente ineficiente.\n",
        "* Cree una función que tome el orden de la matriz como entrada y devuelva el número de rectángulos en ella.\n",
        "* Ejemplos:\n",
        "    1. rectangles(1) ➞ 1\n",
        "    2. rectangles(2) ➞ 9\n",
        "    3. rectangles(3) ➞ 36\n",
        "\n",
        "* La entrada siempre será un número entero.\n",
        "* El número de rectángulos se da por: ((n(n+1))/2)^2"
      ],
      "metadata": {
        "id": "JgzXD5JvJ42h"
      }
    },
    {
      "cell_type": "code",
      "source": [
        "# Método 1\n",
        "def rectangles(n):\n",
        "    return ((n * (n + 1)) // 2) ** 2\n",
        "\n",
        "# Método 2. Función Lambda\n",
        "rectangles = lambda n: ((n * (n + 1)) // 2) ** 2"
      ],
      "metadata": {
        "id": "uJN9E-afJ42h"
      },
      "execution_count": null,
      "outputs": []
    },
    {
      "cell_type": "code",
      "source": [
        "print(rectangles(1))  # Salida: 1\n",
        "print(rectangles(2))  # Salida: 9\n",
        "print(rectangles(3))  # Salida: 36"
      ],
      "metadata": {
        "id": "ZeE6TLYBJ42h",
        "colab": {
          "base_uri": "https://localhost:8080/"
        },
        "outputId": "c2f81377-e7ea-4f43-a6ce-2204acdbc159"
      },
      "execution_count": null,
      "outputs": [
        {
          "output_type": "stream",
          "name": "stdout",
          "text": [
            "1\n",
            "9\n",
            "36\n"
          ]
        }
      ]
    },
    {
      "cell_type": "markdown",
      "source": [
        "## Reto 431: Ahora eres un booleano\n",
        "* Minimal III: You're a Boolean Now\n",
        "* El siguiente código da error ya que le falta un fragmento de un solo carácter para pasar funcionar correctamente.\n",
        "* Sin embargo, su objetivo es crear una función lo más minimalista posible.\n",
        "\n",
        "```python\n",
        "def is_prime(n):\n",
        "\tif n == 0:\n",
        "\t\treturn False\n",
        "\tif n == 1:\n",
        "\t\treturn False\n",
        "\ti = 2\n",
        "\twhile i < n:\n",
        "\t\tif n %  == 0:\n",
        "\t\t\treturn False\n",
        "\t\ti += 1\n",
        "\treturn True\n",
        "```\n",
        "* Escribe una función que devuelva `True` si el número entero positivo dado es un número primo y `False` si no lo es.\n",
        "\n",
        "**Consejos:**\n",
        "- Todo lo que escribas después de `if`, `not`, `while` o alrededor de `and`, `or`, `is`, `in` se interpreta como un booleano.\n",
        "- Un ejemplo de función que imprime una cuenta regresiva desde el valor absoluto de `x` y también imprime \"hey\" si el número es múltiplo de 3 y contiene el dígito \"3\" podría escribirse así:\n",
        "\n",
        "```python\n",
        "def cuenta_regresiva(x):\n",
        "    if x < 0:\n",
        "        x = x * -1\n",
        "    while x > 0:\n",
        "        if x % 3 == 0:\n",
        "            if \"3\" in str(x):\n",
        "                print(x)\n",
        "                print(\"hey\")\n",
        "        else:\n",
        "            print(x)\n",
        "        x = x - 1\n",
        "```\n",
        "\n",
        "Esto se puede simplificar a:\n",
        "\n",
        "```python\n",
        "def cuenta_regresiva(x):\n",
        "    x = abs(x)\n",
        "    while x:\n",
        "        print(x)\n",
        "        if not x % 3 and \"3\" in str(x):\n",
        "            print(\"hey\")\n",
        "        x -= 1\n",
        "```\n",
        "\n",
        "- `abs()` obtiene el valor absoluto de un número.\n",
        "- `while` interpretará `x` como un booleano, saliendo del bucle cuando llegue a cero.\n",
        "- `print(x)` debe llamarse tanto si `x` es un \"número hey\" como si no lo es. Esto se puede hacer fuera de cualquier declaración `if`, en lugar de dentro de ambas.\n",
        "- Ambas condiciones `x % 3 == 0` y `\"3\" in str(x)` deben ser verdaderas, por lo que se pueden combinar con un `and`.\n",
        "\n",
        "**Bonus:**\n",
        "Un enfoque más \"pythonista\":\n",
        "\n",
        "```python\n",
        "def cuenta_regresiva(x):\n",
        "    for i in range(abs(x), -1, -1):\n",
        "        print(x)\n",
        "        if not x % 3 and \"3\" in str(x):\n",
        "            print(\"hey\")\n",
        "```"
      ],
      "metadata": {
        "id": "MpNyY2GRKKQy"
      }
    },
    {
      "cell_type": "code",
      "source": [
        "# Método 1 Código inicial añadiendo una i en: if n % i == 0:\n",
        "# No es una buena forma de determinar si un número es primo\n",
        "def is_prime(n):\n",
        "\tif n == 0:\n",
        "\t\treturn False\n",
        "\tif n == 1:\n",
        "\t\treturn False\n",
        "\ti = 2\n",
        "\twhile i < n:\n",
        "\t\tif n % i == 0:\n",
        "\t\t\treturn False\n",
        "\t\ti += 1\n",
        "\treturn True\n",
        "\n",
        "# Método 2. Solo hasta la raiz cuadrada\n",
        "def is_prime(n):\n",
        "    if n <= 1:\n",
        "        return False\n",
        "    for i in range(2, int(n**0.5) + 1):\n",
        "        if n % i == 0:\n",
        "            return False\n",
        "    return True\n",
        "\n",
        "# Método 3. En el rango se analizan solo los impares\n",
        "def is_prime(n):\n",
        "    if n < 2:\n",
        "        return False\n",
        "    elif n == 2:\n",
        "        return True\n",
        "    elif n % 2 == 0:\n",
        "        return False\n",
        "    for i in range(3, int(n**0.5) + 1, 2):\n",
        "        if n % i == 0:\n",
        "            return False\n",
        "    return True\n",
        "\n",
        "# Método 4. Código condensado con all\n",
        "def is_prime(n):\n",
        "    return n > 1 and all(n % i != 0 for i in range(2, int(n**0.5) + 1))\n",
        "\n",
        "# Método 5. Analiza el 2 y luego solo los impares\n",
        "def is_prime(n):\n",
        "    return n == 2 or all(n % i != 0 for i in range(3, int(n**0.5) + 1, 2))"
      ],
      "metadata": {
        "id": "N3VTCQFmKKQy"
      },
      "execution_count": null,
      "outputs": []
    },
    {
      "cell_type": "code",
      "source": [
        "print(is_prime(2))\n",
        "print(is_prime(101))\n",
        "print(is_prime(1_000_003))\n",
        "print(is_prime(2 ** 31 - 1))\n",
        "print(is_prime(99))\n",
        "print(is_prime(42))"
      ],
      "metadata": {
        "id": "HHvQKALwKKQy",
        "colab": {
          "base_uri": "https://localhost:8080/"
        },
        "outputId": "6b1f9b9e-0ac0-483d-957e-c8e1948a790a"
      },
      "execution_count": null,
      "outputs": [
        {
          "output_type": "stream",
          "name": "stdout",
          "text": [
            "True\n",
            "True\n",
            "True\n",
            "True\n",
            "False\n",
            "False\n"
          ]
        }
      ]
    },
    {
      "cell_type": "markdown",
      "source": [
        "## Reto 432: Contando adverbios\n",
        "* Counting Adverbs\n",
        "* Los adverbios más fáciles de reconocer en español son los que terminan en -mente.\n",
        "* Cree una función que cuente las palabras que terminan en \"mente\".\n",
        "* Ejemplos:\n",
        "    1. contar_adverbios(\"Lo hizo de forma sencilla.\") ➞ 0\n",
        "    2. contar_adverbios(\"Sigilosamente se colo en su casa y le llamó mentecato.\") ➞ 1\n",
        "    3. contar_adverbios(\"Se levantó ruidosamente y habló atropelladamente.\") ➞ 2\n",
        "    4. contar_adverbios(\"El león se acercó lentamente a su presa y, nuevamente, se avalanzó tranquilamente.\") ➞ 3"
      ],
      "metadata": {
        "id": "ltitQmDRKKZa"
      }
    },
    {
      "cell_type": "code",
      "source": [
        "# Método 1\n",
        "def contar_adverbios(frase):\n",
        "    frase = frase.replace(\",\", \"\").replace(\".\", \"\")\n",
        "    palabras = frase.split()\n",
        "    return sum(1 for palabra in palabras if palabra.endswith(\"mente\"))\n",
        "\n",
        "# Método 2\n",
        "def contar_adverbios(frase):\n",
        "    # Eliminamos comas y puntos de la frase\n",
        "    frase = frase.replace(\",\", \"\").replace(\".\", \"\")\n",
        "\n",
        "    # Dividimos la frase en palabras\n",
        "    palabras = frase.split()\n",
        "\n",
        "    # Inicializamos un contador para las palabras que terminan en \"mente\"\n",
        "    contador = 0\n",
        "\n",
        "    # Recorremos cada palabra\n",
        "    for palabra in palabras:\n",
        "        # Si la palabra termina en \"mente\", incrementamos el contador\n",
        "        if palabra.lower().endswith(\"mente\"):\n",
        "            contador += 1\n",
        "\n",
        "    return contador"
      ],
      "metadata": {
        "id": "yOxHyMbxKKZa"
      },
      "execution_count": null,
      "outputs": []
    },
    {
      "cell_type": "code",
      "source": [
        "print(contar_adverbios(\"Lo hizo de forma sencilla.\"))                                                           # 0\n",
        "print(contar_adverbios(\"Sigilosamente se colo en su casa y le llamó mentecato.\"))                               # 1\n",
        "print(contar_adverbios(\"Se levantó ruidosamente y habló atropelladamente.\"))                                    # 2\n",
        "print(contar_adverbios(\"El león se acercó lentamente a su presa y, nuevamente, se avalanzó tranquilamente.\"))   # 3"
      ],
      "metadata": {
        "id": "q7bgTLszKKZa",
        "colab": {
          "base_uri": "https://localhost:8080/"
        },
        "outputId": "2aa97e80-a4c3-48ff-ebd2-864c655bc244"
      },
      "execution_count": null,
      "outputs": [
        {
          "output_type": "stream",
          "name": "stdout",
          "text": [
            "0\n",
            "1\n",
            "2\n",
            "3\n"
          ]
        }
      ]
    },
    {
      "cell_type": "markdown",
      "source": [
        "## Reto 433: Gráficos ASCII (Parte 1: Barra de Progreso)\n",
        "* ASCII Charts (Part 1: Progress Bar)\n",
        "* Dado un carácter y un valor entre 0 y 100, devuelve una cadena que representa una barra de progreso simple.\n",
        "* El valor representa un porcentaje.\n",
        "* La barra debe comenzar y terminar con \"|\".\n",
        "* Repite el carácter para llenar la barra, con cada carácter equivalente al 10%.\n",
        "* Utilice espacios para rellenar la barra hasta una longitud de 10 caracteres.\n",
        "* Un solo espacio viene después de la barra, luego un mensaje con el % de completado (por ejemplo, \"Progreso: 60%\").\n",
        "* Si el valor es 100, el mensaje debe ser \"¡Completado!\".\n",
        "* Ejemplos:\n",
        "    1. progress_bar(\"#\", 0) ➞ \"| | Progreso: 0%\"\n",
        "    2. progress_bar(\"=\", 40) ➞ \"|==== | Progreso: 40%\"\n",
        "    3. progress_bar(\"#\", 60) ➞ \"|###### | Progreso: 60%\"\n",
        "    4. progress_bar(\">\", 100) ➞ \"|>>>>>>>>>>| ¡Completado!\""
      ],
      "metadata": {
        "id": "a42FhwZTKKgy"
      }
    },
    {
      "cell_type": "code",
      "source": [
        "# Método 1\n",
        "def progress_bar(character, value):\n",
        "    # Calcula la cantidad de caracteres a imprimir en la barra de progreso\n",
        "    filled_chars = value // 10\n",
        "    # Crea la barra de progreso con el carácter dado\n",
        "    progress = character * filled_chars + ' ' * (10 - filled_chars)\n",
        "    # Crea el mensaje de progreso\n",
        "    if value == 100:\n",
        "        message = \"¡Completado!\"\n",
        "    else:\n",
        "        message = f\"Progreso: {value}%\"\n",
        "    # Retorna la barra de progreso y el mensaje\n",
        "    return f\"|{progress}| {message}\"\n",
        "\n",
        "# Método 2\n",
        "def progress_bar(character, value):\n",
        "    # Calcula la cantidad de caracteres a imprimir en la barra de progreso\n",
        "    filled_chars = value // 10\n",
        "    # Crea la barra de progreso con el carácter dado y espacios\n",
        "    progress = f\"{character * filled_chars: <10}\"\n",
        "    # Crea el mensaje de progreso\n",
        "    message = \"Completed!\" if value == 100 else f\"Progress: {value}%\"\n",
        "    # Retorna la barra de progreso y el mensaje\n",
        "    return f\"|{progress}| {message}\"\n",
        "\n",
        "# Método 3\n",
        "def progress_bar(character, value):\n",
        "    # Calcula la cantidad de caracteres a imprimir en la barra de progreso\n",
        "    filled_chars = value // 10\n",
        "    # Crea la barra de progreso con el carácter dado y espacios\n",
        "    progress = character * filled_chars\n",
        "    # Completa la barra de progreso con espacios hasta una longitud de 10 caracteres\n",
        "    progress = progress.ljust(10)\n",
        "    # Crea el mensaje de progreso\n",
        "    message = \"Completed!\" if value == 100 else f\"Progress: {value}%\"\n",
        "    # Retorna la barra de progreso y el mensaje\n",
        "    return f\"|{progress}| {message}\"\n",
        "\n",
        "# Método 4\n",
        "def progress_bar(character, value):\n",
        "    # Crea la barra de progreso con el carácter dado y espacios\n",
        "    progress = character * (value // 10) + ' ' * (10 - value // 10)\n",
        "    # Crea el mensaje de progreso\n",
        "    message = \"Completed!\" if value == 100 else f\"Progress: {value}%\"\n",
        "    # Retorna la barra de progreso y el mensaje\n",
        "    return f\"|{progress}| {message}\""
      ],
      "metadata": {
        "id": "weROzSbxKKgy"
      },
      "execution_count": null,
      "outputs": []
    },
    {
      "cell_type": "code",
      "source": [
        "print(progress_bar(\"#\", 0))      # \"|          | Progreso: 0%\"\n",
        "print(progress_bar(\"=\", 40))     # \"|====      | Progreso: 40%\"\n",
        "print(progress_bar(\"#\", 60))     # \"|######    | Progreso: 60%\"\n",
        "print(progress_bar(\">\", 100))    # \"|>>>>>>>>>>| ¡Completado!\""
      ],
      "metadata": {
        "id": "XeJ_yYXsKKgy",
        "colab": {
          "base_uri": "https://localhost:8080/"
        },
        "outputId": "1e99bf82-0c47-4594-bdf2-cede6ce328b9"
      },
      "execution_count": null,
      "outputs": [
        {
          "output_type": "stream",
          "name": "stdout",
          "text": [
            "|          | Progress: 0%\n",
            "|====      | Progress: 40%\n",
            "|######    | Progress: 60%\n",
            "|>>>>>>>>>>| Completed!\n"
          ]
        }
      ]
    },
    {
      "cell_type": "markdown",
      "source": [
        "## Reto 434: Ocurrencias de letras por palabra\n",
        "* Letter Occurrences Per Word\n",
        "* Crear una función que tome una oración y un carácter a encontrar.\n",
        "* Devolver un diccionario de cada palabra en la oración, con el número del carácter especificado como el valor.\n",
        "* Ejemplos:\n",
        "    1. find_occurrences(\"Hello World\", \"o\") ➞\n",
        "        - {\n",
        "\"hello\" : 1,\n",
        "\"world\" : 1\n",
        "}\n",
        "    2. find_occurrences(\"Create a nice JUICY function\", \"c\") ➞\n",
        "        - {\n",
        "\"create\" : 1,\n",
        "\"a\" : 0,\n",
        "\"nice\" : 1,\n",
        "\"juicy\" : 1,\n",
        "\"function\" : 1\n",
        "}\n",
        "    3. find_occurrences(\"An APPLE a day keeps an Archeologist AWAY...\", \"A\") ➞\n",
        "        - {\n",
        "\"an\" : 1,\n",
        "\"apple\" : 1,\n",
        "\"a\" : 1,\n",
        "\"day\" : 1,\n",
        "\"keeps\" : 0,\n",
        "\"archeologist\" : 1,\n",
        "\"away...\" : 2\n",
        "}\n",
        "\n",
        "* La función no debe ser sensible a mayúsculas y minúsculas.\n",
        "* Las palabras en el diccionario deben estar en minúsculas.\n",
        "* Es posible que se necesite encontrar puntuación.\n",
        "* Las palabras duplicadas deben ser ignoradas."
      ],
      "metadata": {
        "id": "PW3dG2GVKKnj"
      }
    },
    {
      "cell_type": "code",
      "source": [
        "# Método 1\n",
        "def find_occurrences(sentence, char):\n",
        "    # Convertir la oración a minúsculas y dividirla en palabras\n",
        "    words = sentence.lower().split()\n",
        "\n",
        "    # Crear un diccionario para almacenar las ocurrencias\n",
        "    occurrences = {}\n",
        "\n",
        "    # Iterar sobre cada palabra en la lista de palabras\n",
        "    for word in words:\n",
        "        # Contar las ocurrencias del carácter en la palabra y almacenarlas en el diccionario\n",
        "        occurrences[word] = word.count(char.lower())\n",
        "\n",
        "    # Retornar el diccionario de ocurrencias\n",
        "    return occurrences"
      ],
      "metadata": {
        "id": "Xa8nKq5aKKnj"
      },
      "execution_count": null,
      "outputs": []
    },
    {
      "cell_type": "code",
      "source": [
        "print(find_occurrences(\"Hello World\", \"o\"))\n",
        "print(find_occurrences(\"Create a nice JUICY function\", \"c\"))\n",
        "print(find_occurrences(\"An APPLE a day keeps an Archeologist AWAY...\", \"A\"))"
      ],
      "metadata": {
        "id": "mrkDblQcKKnj",
        "colab": {
          "base_uri": "https://localhost:8080/"
        },
        "outputId": "352bc094-4ddd-4e98-e39a-616c6ab025f6"
      },
      "execution_count": null,
      "outputs": [
        {
          "output_type": "stream",
          "name": "stdout",
          "text": [
            "{'hello': 1, 'world': 1}\n",
            "{'create': 1, 'a': 0, 'nice': 1, 'juicy': 1, 'function': 1}\n",
            "{'an': 1, 'apple': 1, 'a': 1, 'day': 1, 'keeps': 0, 'archeologist': 1, 'away...': 2}\n"
          ]
        }
      ]
    },
    {
      "cell_type": "markdown",
      "source": [
        "## Reto 435: Factorial Doble\n",
        "* Double Factorial\n",
        "* Cree una función que tome un número num y devuelva su factorial doble.\n",
        "* Matemáticamente, las fórmulas para el factorial doble son las siguientes.\n",
        "    1. Si num es par:\n",
        "        - num !! = num (num - 2)(num - 4)(num - 6) ... (4)(2)\n",
        "    2. Si num es impar:\n",
        "        - num !! = num (num - 2)(num - 4)(num - 6) ... (3)(1)\n",
        "    3. Si num = 0 o num = -1, entonces num !! = 1 por convención.\n",
        "\n",
        "* Ejemplos:\n",
        "    1. double_factorial(0) ➞ 1\n",
        "    2. double_factorial(2) ➞ 2\n",
        "    3. double_factorial(9) ➞ 945\n",
        "    4. double_factorial(14) ➞ 645120\n",
        "\n",
        "* Supón que todos los valores de entrada son mayores o iguales a -1.\n",
        "* Intenta resolverlo con recursión.\n",
        "* El factorial doble no es lo mismo que el factorial * 2."
      ],
      "metadata": {
        "id": "s4LZ29zOKKtx"
      }
    },
    {
      "cell_type": "code",
      "source": [
        "# Método 1. Función iterativa\n",
        "def double_factorial(n):\n",
        "    if n <= 1:\n",
        "        return 1    # por definición es 1\n",
        "    else:\n",
        "        fact = 1\n",
        "        for i in range(n, 1, -2):\n",
        "            fact *= i\n",
        "        return fact\n",
        "\n",
        "# Método 2. Función recursiva\n",
        "def double_factorial(n):\n",
        "     if n <= 0:                 # Caso base: factorial doble de 0 o -1 es 1\n",
        "         return 1\n",
        "     else:\n",
        "         return n * double_factorial(n-2)\n",
        "\n",
        "# Método 3. Con librerías\n",
        "from functools import reduce\n",
        "import operator\n",
        "\n",
        "def double_factorial(num):\n",
        "    if num == 0 or num == -1:  # Caso base: factorial doble de 0 o -1 es 1\n",
        "        return 1\n",
        "    else:\n",
        "        return reduce(operator.mul, range(num, 0, -2))\n",
        "\n",
        "# Método 4\n",
        "def double_factorial(num):\n",
        "    if num == 0 or num == -1:  # Caso base: factorial doble de 0 o -1 es 1\n",
        "        return 1\n",
        "    else:\n",
        "        return reduce(lambda x, y: x * y, range(num, 0, -2))\n",
        "\n",
        "# Método 5. Función Lambda recursiva\n",
        "double_factorial = lambda n: --(n <= 0) or n * double_factorial(n-2)"
      ],
      "metadata": {
        "id": "khpCuV6QKKtx"
      },
      "execution_count": null,
      "outputs": []
    },
    {
      "cell_type": "code",
      "source": [
        "print(double_factorial(-1))  # 1\n",
        "print(double_factorial(0))   # 1\n",
        "print(double_factorial(1))   # 1\n",
        "print(double_factorial(2))   # 2\n",
        "print(double_factorial(3))   # 3\n",
        "print(double_factorial(4))   # 8\n",
        "print(double_factorial(9))   # 945\n",
        "print(double_factorial(14))  # 645120\n",
        "print(double_factorial(100)) # 34243224702511976248246432895208185975118675053719198827915654463488000000000000"
      ],
      "metadata": {
        "id": "HqqVth6vKKtx",
        "colab": {
          "base_uri": "https://localhost:8080/"
        },
        "outputId": "75530c57-eabb-4195-c7b0-37b0f5165cef"
      },
      "execution_count": null,
      "outputs": [
        {
          "output_type": "stream",
          "name": "stdout",
          "text": [
            "1\n",
            "2\n",
            "945\n",
            "645120\n",
            "34243224702511976248246432895208185975118675053719198827915654463488000000000000\n"
          ]
        }
      ]
    },
    {
      "cell_type": "markdown",
      "source": [
        "## Reto 436: Equivalentes Enarmónicos\n",
        "* Enharmonic Equivalents\n",
        "* En música, las notas pueden escribirse de múltiples maneras (especialmente para las notas en los teclados negros).\n",
        "* Aunque estas notas se deletrean de manera diferente, siguen siendo la misma nota físicamente.\n",
        "\n",
        "<img src=\"https://github.com/financieras/curso_python/blob/main/niveles/img/piano.png?raw=1\" alt=\"Tres vasos\" width=\"250\"/>\n",
        "\n",
        "\n",
        "C# = Db, D# = Eb, F# = Gb, G# = Ab, A# = Bb\n",
        "\n",
        "* Dada una nota musical, crea una función que devuelva su equivalente enarmónico.\n",
        "* Ejemplos:\n",
        "    1. get_equivalent(\"D#\") ➞ \"Eb\"\n",
        "    2. get_equivalent(\"Gb\") ➞ \"F#\"\n",
        "    3. get_equivalent(\"Bb\") ➞ \"A#\"\n",
        "\n",
        "* Los nombres de las notas siempre serán una letra mayúscula seguida de # o b.\n",
        "* Recuerda que la nota después de G es A y viceversa."
      ],
      "metadata": {
        "id": "VFFIzH2dKK0H"
      }
    },
    {
      "cell_type": "code",
      "source": [
        "# Método 1\n",
        "def get_equivalent(note):\n",
        "    enharmonic_equivalents = {\n",
        "        \"C#\": \"Db\",\n",
        "        \"D#\": \"Eb\",\n",
        "        \"F#\": \"Gb\",\n",
        "        \"G#\": \"Ab\",\n",
        "        \"A#\": \"Bb\",\n",
        "        \"Db\": \"C#\",\n",
        "        \"Eb\": \"D#\",\n",
        "        \"Gb\": \"F#\",\n",
        "        \"Ab\": \"G#\",\n",
        "        \"Bb\": \"A#\"\n",
        "    }\n",
        "    return enharmonic_equivalents.get(note, \"Nota no válida\")\n",
        "\n",
        "# Método 2\n",
        "def get_equivalent(note):\n",
        "    # Diccionario de equivalencias enarmónicas\n",
        "    enharmonic_equivalents = {\n",
        "        \"C#\": \"Db\",\n",
        "        \"D#\": \"Eb\",\n",
        "        \"F#\": \"Gb\",\n",
        "        \"G#\": \"Ab\",\n",
        "        \"A#\": \"Bb\",\n",
        "        \"Db\": \"C#\",\n",
        "        \"Eb\": \"D#\",\n",
        "        \"Gb\": \"F#\",\n",
        "        \"Ab\": \"G#\",\n",
        "        \"Bb\": \"A#\"\n",
        "    }\n",
        "    # Busca la nota en el diccionario de equivalencias\n",
        "    if note in enharmonic_equivalents:\n",
        "        return enharmonic_equivalents[note]\n",
        "    else:\n",
        "        return \"Nota no válida\"\n",
        "\n",
        "# Método 3\n",
        "def get_equivalent(note):\n",
        "    # Lista de notas enarmónicas\n",
        "    enharmonic_equivalents = [\n",
        "        (\"C#\", \"Db\"),\n",
        "        (\"D#\", \"Eb\"),\n",
        "        (\"F#\", \"Gb\"),\n",
        "        (\"G#\", \"Ab\"),\n",
        "        (\"A#\", \"Bb\")\n",
        "    ]\n",
        "    # Comprueba si la nota es sostenida (#) o bemol (b)\n",
        "    if '#' in note:\n",
        "        for sharp, flat in enharmonic_equivalents:\n",
        "            if sharp == note:\n",
        "                return flat\n",
        "    elif 'b' in note:\n",
        "        for sharp, flat in enharmonic_equivalents:\n",
        "            if flat == note:\n",
        "                return sharp\n",
        "    return \"Nota no válida\""
      ],
      "metadata": {
        "id": "W1LYOLY-KK0H"
      },
      "execution_count": null,
      "outputs": []
    },
    {
      "cell_type": "code",
      "source": [
        "print(get_equivalent(\"D#\"))  # Eb\n",
        "print(get_equivalent(\"Gb\"))  # F#\n",
        "print(get_equivalent(\"Bb\"))  # A#"
      ],
      "metadata": {
        "id": "-V3auLj3KK0H",
        "colab": {
          "base_uri": "https://localhost:8080/"
        },
        "outputId": "49fff81a-d3ca-4c78-a09f-fe46165d20dc"
      },
      "execution_count": null,
      "outputs": [
        {
          "output_type": "stream",
          "name": "stdout",
          "text": [
            "Eb\n",
            "F#\n",
            "A#\n"
          ]
        }
      ]
    },
    {
      "cell_type": "markdown",
      "source": [
        "## Reto 437: ¿Quién es el más viejo?\n",
        "* Who's The Oldest?\n",
        "* Dado un diccionario que contiene los nombres y edades de un grupo de personas, devuelva el nombre de la persona más vieja.\n",
        "* Ejemplos:\n",
        "    1. oldest({\n",
        "\"Emma\": 71,\n",
        "\"Jack\": 45,\n",
        "\"Amy\": 15,\n",
        "\"Ben\": 29\n",
        "}) ➞ \"Emma\"\n",
        "    2. oldest({\n",
        "\"Max\": 9,\n",
        "\"Josh\": 13,\n",
        "\"Sam\": 48,\n",
        "\"Anne\": 33\n",
        "}) ➞ \"Sam\"\n",
        "\n",
        "* Todas las edades serán diferentes."
      ],
      "metadata": {
        "id": "w5B5Xs4dKK6d"
      }
    },
    {
      "cell_type": "code",
      "source": [
        "# Método 1\n",
        "def oldest(people):\n",
        "    return max(people, key=people.get)\n",
        "\n",
        "# Método 2\n",
        "def oldest(people):\n",
        "    # Ordena el diccionario por valores (edades) de forma descendente\n",
        "    sorted_people = sorted(people.items(), key=lambda x: x[1], reverse=True)\n",
        "    # Devuelve el nombre de la persona más vieja (primer elemento de la lista ordenada)\n",
        "    return sorted_people[0][0]\n",
        "\n",
        "# Método 3\n",
        "def oldest(people):\n",
        "    # Utiliza max() con una expresión generadora para obtener el nombre de la persona más vieja\n",
        "    oldest_person = max(people, key=lambda x: people[x])\n",
        "    return oldest_person\n",
        "\n",
        "# Método 4\n",
        "def oldest(people):\n",
        "    oldest_person = None\n",
        "    max_age = float(\"-inf\")  # Inicializa la edad máxima como el valor negativo más grande posible\n",
        "    # Itera sobre el diccionario de personas\n",
        "    for name, age in people.items():\n",
        "        # Si la edad actual es mayor que la edad máxima encontrada hasta ahora\n",
        "        if age > max_age:\n",
        "            max_age = age  # Actualiza la edad máxima\n",
        "            oldest_person = name  # Actualiza el nombre de la persona más vieja\n",
        "    return oldest_person"
      ],
      "metadata": {
        "id": "uv9pl1aFKK6d"
      },
      "execution_count": null,
      "outputs": []
    },
    {
      "cell_type": "code",
      "source": [
        "people1 = {\n",
        "  \"Emma\": 71,\n",
        "  \"Jack\": 45,\n",
        "  \"Amy\": 15,\n",
        "  \"Ben\": 29\n",
        "}\n",
        "\n",
        "people2 = {\n",
        "  \"Max\": 9,\n",
        "  \"Josh\": 13,\n",
        "  \"Sam\": 48,\n",
        "  \"Anne\": 33\n",
        "}\n",
        "\n",
        "print(oldest(people1))  # Emma\n",
        "print(oldest(people2))  # Sam"
      ],
      "metadata": {
        "id": "mYErrFgIKK6e",
        "colab": {
          "base_uri": "https://localhost:8080/"
        },
        "outputId": "42ff6987-df0f-4716-81c7-0483a71bf82a"
      },
      "execution_count": null,
      "outputs": [
        {
          "output_type": "stream",
          "name": "stdout",
          "text": [
            "Emma\n",
            "Sam\n"
          ]
        }
      ]
    },
    {
      "cell_type": "markdown",
      "source": [
        "## Reto 438: Recursión: MCD\n",
        "* Recursion: GCD\n",
        "* Escriba una función que calcule el MCD (Máximo Común Divisor) de dos números de manera recursiva.\n",
        "* Ejemplos:\n",
        "    1. gcd(10, 20) ➞ 10\n",
        "    2. gcd(1, 3) ➞ 1\n",
        "    3. gcd(5, 7) ➞ 1\n",
        "    4. gcd(2, 6) ➞ 2\n",
        "    5. gcd(180, 1032) ➞ 12\n",
        "    6. gcd(300, 33880) ➞ 20"
      ],
      "metadata": {
        "id": "YqPFE6tBKLAz"
      }
    },
    {
      "cell_type": "code",
      "source": [
        "# Método 1. Algoritmo de Euclides\n",
        "def gcd(a, b):\n",
        "    if b == 0:\n",
        "        return a\n",
        "    else:\n",
        "        return gcd(b, a % b)\n",
        "\n",
        "# Método 2. Función Lambda recursiva con operador ternario\n",
        "gcd = lambda a, b: a if b == 0 else gcd(b, a % b)\n",
        "\n",
        "# Método 3. Función recursiva. Método de la resta\n",
        "def gcd(a, b):\n",
        "    # Caso base: Si los números son iguales, el MCD es ese número.\n",
        "    if a == b:\n",
        "        return a\n",
        "    # Si 'a' es mayor que 'b', resta 'b' de 'a' y llama recursivamente a la función.\n",
        "    if a > b:\n",
        "        return gcd(a - b, b)\n",
        "    # Si 'b' es mayor que 'a', resta 'a' de 'b' y llama recursivamente a la función.\n",
        "    return gcd(a, b - a)\n",
        "\n",
        "# Este método funciona al restar el número más pequeño del más grande repetidamente\n",
        "# hasta que ambos números sean iguales, lo que indica que ese número es el MCD."
      ],
      "metadata": {
        "id": "QKWCLjZDKLAz"
      },
      "execution_count": null,
      "outputs": []
    },
    {
      "cell_type": "code",
      "source": [
        "print(gcd(10, 20))     # 10\n",
        "print(gcd(1, 3))       # 1\n",
        "print(gcd(5, 7))       # 1\n",
        "print(gcd(2, 6))       # 2\n",
        "print(gcd(180, 1032))  # 12\n",
        "print(gcd(300, 33880)) # 20"
      ],
      "metadata": {
        "id": "P2h7syGAKLAz",
        "colab": {
          "base_uri": "https://localhost:8080/"
        },
        "outputId": "ad28de70-9aa1-458c-8b1b-736a38d27489"
      },
      "execution_count": null,
      "outputs": [
        {
          "output_type": "stream",
          "name": "stdout",
          "text": [
            "10\n",
            "1\n",
            "1\n",
            "2\n",
            "12\n",
            "20\n"
          ]
        }
      ]
    },
    {
      "cell_type": "markdown",
      "source": [
        "## Reto 439: Eliminar elementos duplicados circundantes\n",
        "* Remove Surrounding Duplicate Items\n",
        "* Cree una función que tome una secuencia de cadenas o enteros, elimine los duplicados circundantes y devuelva una lista de elementos sin ningún elemento con el mismo valor al lado y preserve el orden original de los elementos.\n",
        "* Ejemplos:\n",
        "    1. unique_in_order(\"AAAABBBCCDAABBB\") ➞ [\"A\", \"B\", \"C\", \"D\", \"A\", \"B\"]\n",
        "    2. unique_in_order(\"ABBCcAD\") ➞ [\"A\", \"B\", \"C\", \"c\", \"A\", \"D\"]\n",
        "    3. unique_in_order([1, 2, 2, 3, 3]) ➞ [1, 2, 3]\n",
        "\n",
        "* La secuencia inicial de elementos puede ser una cadena o una lista.\n",
        "* Las pruebas distinguen entre mayúsculas y minúsculas."
      ],
      "metadata": {
        "id": "6Wn7DnokKLIM"
      }
    },
    {
      "cell_type": "code",
      "source": [
        "# Método 1\n",
        "def unique_in_order(sequence):\n",
        "    lista = [sequence[0]]             # Inicializamos la lista con el primer elemento\n",
        "    for i in range(1, len(sequence)):\n",
        "        if sequence[i] != lista[-1]:  # Comparamos el elemento actual con el último de la lista\n",
        "            lista.append(sequence[i]) # # Si son diferentes, lo agregamos a la lista\n",
        "    return lista\n",
        "\n",
        "# Método 2\n",
        "def unique_in_order(sequence):\n",
        "    if not sequence:\n",
        "        return []\n",
        "    lista = [sequence[0]]                # Inicializamos la lista con el primer elemento\n",
        "    for i in range(1, len(sequence)):\n",
        "        if sequence[i] != sequence[i-1]: # Comparamos el elemento actual con el anterior\n",
        "            lista.append(sequence[i])    # Si son diferentes, lo agregamos a la lista\n",
        "    return lista\n",
        "\n",
        "# Método 3.\n",
        "def unique_in_order(sequence):\n",
        "    if isinstance(sequence, str):\n",
        "        sequence = list(sequence)  # Convertir la cadena en una lista\n",
        "    return [x for x, y in zip(sequence, sequence[1:] + [None]) if x != y]\n",
        "\n",
        "# Método 4. Función recursiva\n",
        "def unique_in_order(sequence):\n",
        "    if isinstance(sequence, str):\n",
        "        sequence = list(sequence)  # Convertir la cadena en una lista si es necesario\n",
        "    if not sequence:\n",
        "        return []\n",
        "    if len(sequence) == 1:\n",
        "        return sequence\n",
        "    if sequence[0] == sequence[1]:\n",
        "        return unique_in_order(sequence[1:])\n",
        "    else:\n",
        "        return [sequence[0]] + unique_in_order(sequence[1:])\n",
        "\n",
        "# Método 5. Solución eficiente y concisa\n",
        "def unique_in_order(sequence):\n",
        "    if isinstance(sequence, str):\n",
        "        sequence = list(sequence)  # Convertir la cadena en una lista si es necesario\n",
        "    if not sequence:\n",
        "        return []\n",
        "    return [sequence[0]] + [sequence[i] for i in range(1, len(sequence)) if sequence[i] != sequence[i-1]]"
      ],
      "metadata": {
        "id": "nmM2H56-KLIN"
      },
      "execution_count": null,
      "outputs": []
    },
    {
      "cell_type": "code",
      "source": [
        "print(unique_in_order(\"AAAABBBCCDAABBB\"))  # [\"A\", \"B\", \"C\", \"D\", \"A\", \"B\"]\n",
        "print(unique_in_order(\"ABBCcAD\"))         # [\"A\", \"B\", \"C\", \"c\", \"A\", \"D\"]\n",
        "print(unique_in_order([1, 2, 2, 3, 3]))   # [1, 2, 3]"
      ],
      "metadata": {
        "id": "ER1D-sOMKLIN",
        "colab": {
          "base_uri": "https://localhost:8080/"
        },
        "outputId": "02a0c818-00a7-49f3-cb87-25473302d937"
      },
      "execution_count": null,
      "outputs": [
        {
          "output_type": "stream",
          "name": "stdout",
          "text": [
            "['A', 'B', 'C', 'D', 'A', 'B']\n",
            "['A', 'B', 'C', 'c', 'A', 'D']\n",
            "[1, 2, 3]\n"
          ]
        }
      ]
    },
    {
      "cell_type": "markdown",
      "source": [
        "## Reto 440: Interruptor Alternante\n",
        "* Flick Switch\n",
        "* Cree una función que siempre devuelva `True` para cada elemento en una lista dada.\n",
        "* Sin embargo, si un elemento es la palabra \"flick\", cambia para devolver siempre el valor booleano opuesto.\n",
        "* Ejemplos:\n",
        "    1. flick_switch([\"agua\", \"flick\", \"cafe\", \"té\"]) ➞ [True, False, False, False]\n",
        "    2. flick_switch([\"flick\", 12, 3.14, -1]) ➞ [False, False, False, False]\n",
        "    3.flick_switch([False, False, \"flick\", \"duck\", \"flick\"]) ➞ [True, True, False, False, True]\n",
        "\n",
        "* \"flick\" siempre se dará en minúsculas.\n",
        "* Una lista puede contener múltiples \"flicks\".\n",
        "* Cambia el valor booleano en el mismo elemento que el \"flick\" mismo."
      ],
      "metadata": {
        "id": "OIidk6MOKLPk"
      }
    },
    {
      "cell_type": "code",
      "source": [
        "# Método 1\n",
        "def flick_switch(lista):\n",
        "    flag = True\n",
        "    result = []\n",
        "    for item in lista:\n",
        "        if item == \"flick\":\n",
        "            flag = not flag\n",
        "        result.append(flag)\n",
        "    return result\n",
        "\n",
        "# Método 2. Usando el operador Morsa introducido en Python 3.8.\n",
        "def flick_switch(lista):\n",
        "    flag = False\n",
        "    return [flag := not flag if item == \"flick\" else flag for item in lista]"
      ],
      "metadata": {
        "id": "FDDJ9fSOKLPk"
      },
      "execution_count": null,
      "outputs": []
    },
    {
      "cell_type": "code",
      "source": [
        "print(flick_switch([\"agua\", \"flick\", \"cafe\", \"té\"]))\n",
        "print(flick_switch([\"flick\", 12, 3.14, -1]))\n",
        "print(flick_switch([False, False, \"flick\", \"duck\", \"flick\"]))"
      ],
      "metadata": {
        "id": "yrQw27_PKLPk",
        "colab": {
          "base_uri": "https://localhost:8080/"
        },
        "outputId": "459ad4e8-4d14-4cd1-be31-b4bc81c241a4"
      },
      "execution_count": null,
      "outputs": [
        {
          "output_type": "stream",
          "name": "stdout",
          "text": [
            "[False, True, True, True]\n",
            "[True, True, True, True]\n",
            "[False, False, True, True, False]\n"
          ]
        }
      ]
    },
    {
      "cell_type": "markdown",
      "source": [
        " ## Reto 441: Derivada de una Función\n",
        "* Derivative of a Function\n",
        "* Cree una función que tome los números $b$ y $m$ como argumentos y devuelva la derivada de la función $f(x) = x^b$ con respecto a $x$ evaluada en $x = m$, donde $b$ y $m$ son constantes.\n",
        "* La fórmula utilizada para calcular la derivada es $f'(x) = b \\cdot m^{(b-1)}$.\n",
        "* Ejemplos:\n",
        "    1. derivative(1, 4) ➞ 1\n",
        "    2. derivative(3, -2) ➞ 12\n",
        "    3. derivative(4, -3) ➞ -108"
      ],
      "metadata": {
        "id": "zBwUd6u1Kda2"
      }
    },
    {
      "cell_type": "code",
      "source": [
        "# Método 1\n",
        "def derivative(b, m):\n",
        "    return b * m ** (b-1)"
      ],
      "metadata": {
        "id": "w0XM8KGMKda2"
      },
      "execution_count": null,
      "outputs": []
    },
    {
      "cell_type": "code",
      "source": [
        "print(derivative(1, 4))  # 1\n",
        "print(derivative(3, -2)) # 12\n",
        "print(derivative(4, -3)) # -108"
      ],
      "metadata": {
        "id": "PL9FDFyUKda2",
        "colab": {
          "base_uri": "https://localhost:8080/"
        },
        "outputId": "97040460-4e0a-4463-a0e5-139aaf77847c"
      },
      "execution_count": null,
      "outputs": [
        {
          "output_type": "stream",
          "name": "stdout",
          "text": [
            "1\n",
            "12\n",
            "-108\n"
          ]
        }
      ]
    },
    {
      "cell_type": "markdown",
      "source": [
        "## Reto 442: Encontrar Nodos Adyacentes\n",
        "* Finding Adjacent Nodes\n",
        "* Un grafo es un conjunto de nodos y aristas que conectan esos nodos.\n",
        "* Hay dos tipos de grafos: dirigidos y no dirigidos.\n",
        "* En un grafo no dirigido, las aristas entre nodos no tienen una dirección particular (como una calle de doble sentido), mientras que en un grafo dirigido, cada arista tiene una dirección asociada (como una calle de un solo sentido).\n",
        "* Para que dos nodos en un grafo sean considerados adyacentes entre sí, debe haber una arista entre ellos. En el ejemplo dado anteriormente, los nodos 0 y 1 son adyacentes, pero los nodos 0 y 2 no lo son.\n",
        "* Podemos codificar grafos usando una matriz de adyacencia.\n",
        "* Una matriz de adyacencia para un grafo con \"n\" nodos es una matriz \"n * n\" donde la entrada en la fila \"i\" y la columna \"j\" es un 0 si los nodos \"i\" y \"j\" no son adyacentes, y 1 si los nodos \"i\" y \"j\" son adyacentes.\n",
        "\n",
        "<img src=\"https://github.com/financieras/curso_python/blob/main/niveles/img/adjacent_nodes_1.png?raw=1\" alt=\"Tres vasos\" width=\"250\"/>\n",
        "\n",
        "* Para el ejemplo anterior, la matriz de adyacencia sería la siguiente:\n",
        "```python\n",
        "[\n",
        "[ 0, 1, 0, 0 ],\n",
        "[ 1, 0, 1, 1 ],\n",
        "[ 0, 1, 0, 1 ],\n",
        "[ 0, 1, 1, 0 ]\n",
        "]\n",
        "```\n",
        "* Un 1 indica que una conexión es verdadera y un 0 indica que una conexión es falsa.\n",
        "* Así es como el modelo anterior podría escribirse:\n",
        "    1. En la primera fila, el nodo 0 no se conecta consigo mismo, pero sí se conecta al nodo 1. No se conecta al nodo 2 o al nodo 3. La fila se escribe como 0, 1, 0, 0.\n",
        "    2. En la segunda fila, el nodo 1 se conecta al nodo 0, al nodo 2 y al nodo 3, pero no se conecta consigo mismo. La fila se escribe como 1, 0, 1, 1.\n",
        "    3. En la tercera fila, el nodo 2 no se conecta al nodo 0, pero sí se conecta al nodo 1, no se conecta consigo mismo y sí se conecta al nodo 3. La fila se escribe como 0, 1, 0, 1.\n",
        "    4. En la cuarta fila, el nodo 3 no se conecta al nodo 0, pero sí se conecta al nodo 1 y al nodo 2. No se conecta consigo mismo. La fila se escribe como 0, 1, 1, 0.\n",
        "* Su tarea es determinar si dos nodos son adyacentes en un grafo no dirigido cuando se proporciona la matriz de adyacencia y los dos nodos.\n",
        "* Ejemplos:\n",
        "    1. Ejemplo de Grafo 1\n",
        "\n",
        "<img src=\"https://github.com/financieras/curso_python/blob/main/niveles/img/adjacent_nodes_1.png?raw=1\" alt=\"Tres vasos\" width=\"250\"/>\n",
        "\n",
        "* Matriz de Adyacencia:\n",
        "```python\n",
        "[\n",
        "[ 0, 1, 0, 0 ],\n",
        "[ 1, 0, 1, 1 ],\n",
        "[ 0, 1, 0, 1 ],\n",
        "[ 0, 1, 1, 0 ]\n",
        "]\n",
        "```\n",
        "    - Los nodos 0,1 deberían devolver `True`.\n",
        "    - Los nodos 0,2 deberían devolver `False`.\n",
        "\n",
        "    2. Ejemplo de Grafo 2\n",
        "\n",
        "<img src=\"https://github.com/financieras/curso_python/blob/main/niveles/img/adjacent_nodes_2.png?raw=1\" alt=\"Tres vasos\" width=\"250\"/>\n",
        "\n",
        "* Matriz de Adyacencia:\n",
        "```python\n",
        "[\n",
        "[ 0, 1, 0, 1, 1 ],\n",
        "[ 1, 0, 1, 0, 0 ],\n",
        "[ 0, 1, 0, 1, 0 ],\n",
        "[ 1, 0, 1, 0, 1 ],\n",
        "[ 1, 0, 0, 1, 0 ]\n",
        "]\n",
        "```\n",
        "    - Los nodos 0,3 deberían devolver `True`.\n",
        "    - Los nodos 1,4 deberían devolver `False`."
      ],
      "metadata": {
        "id": "IkMLgN0uKdjd"
      }
    },
    {
      "cell_type": "code",
      "source": [
        "# Método 1\n",
        "def are_adjacent(adj_matrix, node1, node2):\n",
        "    return adj_matrix[node1][node2] == 1\n",
        "\n",
        "# Método 2\n",
        "def are_adjacent(adj_matrix, node1, node2):\n",
        "    return bool(adj_matrix[node1][node2])"
      ],
      "metadata": {
        "id": "Kwa_K7Z9Kdje"
      },
      "execution_count": null,
      "outputs": []
    },
    {
      "cell_type": "code",
      "source": [
        "# Ejemplo 1 de matriz de adyacencia\n",
        "adjacency_matrix = [\n",
        "    [0, 1, 0, 0],\n",
        "    [1, 0, 1, 1],\n",
        "    [0, 1, 0, 1],\n",
        "    [0, 1, 1, 0]\n",
        "]\n",
        "\n",
        "# Casos del Ejemplo 1 de comprobación de adyacencia\n",
        "print(are_adjacent(adjacency_matrix, 0, 1))  # True\n",
        "print(are_adjacent(adjacency_matrix, 0, 2))  # False\n",
        "\n",
        "# Ejemplo 2 de matriz de adyacencia\n",
        "adjacency_matrix = [\n",
        "[ 0, 1, 0, 1, 1 ],\n",
        "[ 1, 0, 1, 0, 0 ],\n",
        "[ 0, 1, 0, 1, 0 ],\n",
        "[ 1, 0, 1, 0, 1 ],\n",
        "[ 1, 0, 0, 1, 0 ]\n",
        "]\n",
        "\n",
        "# Casos del Ejemplo 2 de comprobación de adyacencia\n",
        "print(are_adjacent(adjacency_matrix, 0, 3))  # True\n",
        "print(are_adjacent(adjacency_matrix, 1, 4))  # False"
      ],
      "metadata": {
        "id": "gfNwHXVyKdje",
        "colab": {
          "base_uri": "https://localhost:8080/"
        },
        "outputId": "8ba7db34-869c-4680-b84f-b0c9b78133dc"
      },
      "execution_count": null,
      "outputs": [
        {
          "output_type": "stream",
          "name": "stdout",
          "text": [
            "True\n",
            "False\n",
            "True\n",
            "False\n"
          ]
        }
      ]
    },
    {
      "cell_type": "markdown",
      "source": [
        "## Reto 443: Virtual DAC\n",
        "* Virtual DAC\n",
        "* En electrónica, un convertidor digital-analógico (DAC, D/A o D-a-A) es un sistema que convierte una representación binaria de una señal en una salida analógica.\n",
        "* Un convertidor de 8 bits puede representar un máximo de 2^8 valores diferentes, con cada valor sucesivo diferenciándose en 1/256 del valor de escala completa, lo que se convierte en la resolución del sistema.\n",
        "* Cree una función que tome una representación decimal de un número de señal y devuelva el nivel de voltaje analógico que se crearía mediante un DAC si se le diera el mismo número en binario.\n",
        "* Mientras que el rango de valor es de 0 a 1023, el rango de referencia es de 0 a 5.00 voltios. El valor y la referencia son directamente proporcionales.\n",
        "* Este DAC tiene 10 bits de resolución y la referencia del DAC está configurada en 5.00 voltios.\n",
        "* Ejemplos:\n",
        "    1. v_DAC(0) ➞ 0\n",
        "    2. v_DAC(1023) ➞ 5\n",
        "    3. v_DAC(400) ➞ 1.96\n",
        "\n",
        "* Deberías devolver tu valor redondeado a dos decimales."
      ],
      "metadata": {
        "id": "wpBtuBE_KdrQ"
      }
    },
    {
      "cell_type": "code",
      "source": [
        "# Método 1\n",
        "def v_DAC(value):\n",
        "    if 0 <= value < 1024:\n",
        "        return round(value / 1023 * 5, 2)\n",
        "    return \"valor fuera de rango\"\n",
        "\n",
        "# Método 2\n",
        "def v_DAC(value):\n",
        "    a = (value / 1023 * 5)\n",
        "    return f\"{a:.2f}\""
      ],
      "metadata": {
        "id": "pPkoQMDjKdrR"
      },
      "execution_count": null,
      "outputs": []
    },
    {
      "cell_type": "code",
      "source": [
        "print(v_DAC(0))\n",
        "print(v_DAC(1023))\n",
        "print(v_DAC(400))"
      ],
      "metadata": {
        "id": "wW60bcRwKdrR",
        "outputId": "b82ca22d-0298-4454-c5f6-bb9a6908c524",
        "colab": {
          "base_uri": "https://localhost:8080/"
        }
      },
      "execution_count": null,
      "outputs": [
        {
          "output_type": "stream",
          "name": "stdout",
          "text": [
            "0.00\n",
            "5.00\n",
            "1.96\n"
          ]
        }
      ]
    },
    {
      "cell_type": "markdown",
      "source": [
        "## Reto 444: Python Ebrio\n",
        "* Drunken Python\n",
        "* Python se emborrachó y las funciones integradas str() e int() están actuando de manera extraña:\n",
        "    - str(4) ➞ 4\n",
        "    - str(\"4\") ➞ 4\n",
        "    - int(\"4\") ➞ \"4\"\n",
        "    - int(4) ➞ \"4\"\n",
        "* Necesita crear dos funciones para sustituir `str()` e `int()`.\n",
        "* Una función llamada `int_to_str()` que convierte enteros en cadenas y una función llamada `str_to_int()` que convierte cadenas en enteros.\n",
        "* Ejemplos:\n",
        "    1. int_to_str(4) ➞ \"4\"\n",
        "    2. str_to_int(\"4\") ➞ 4\n",
        "    3. int_to_str(29348) ➞ \"29348\"\n",
        "\n",
        "* Esto pretende ilustrar los peligros de usar nombres de funciones ya existentes."
      ],
      "metadata": {
        "id": "_7YpcfgHKdyO"
      }
    },
    {
      "cell_type": "code",
      "source": [
        "# FUNCIÓN str_to_int\n",
        "\n",
        "# Método 1\n",
        "def str_to_int(string):\n",
        "    return int(string)\n",
        "\n",
        "# Método 2\n",
        "str_to_int = lambda string: int(string)\n",
        "\n",
        "# Método 3. Si usar int\n",
        "def str_to_int(string):\n",
        "    return eval(string)\n",
        "\n",
        "# Método 4\n",
        "def str_to_int(num_str):\n",
        "    dec_places = {11: 10000000000, 10: 1000000000, 9: 100000000, 8: 10000000, 7: 1000000, 6: 100000, 5: 10000, 4: 1000,\n",
        "                  3: 100, 2: 10, 1: 1}\n",
        "    char_digit = {'0': 0, '1': 1, '2': 2, '3': 3, '4': 4, '5': 5, '6': 6, '7': 7, '8': 8, '9': 9}\n",
        "    num = 0\n",
        "    length = len(num_str)\n",
        "    for i in range(length):\n",
        "        x = char_digit[num_str[0 - (i + 1)]] * dec_places[i + 1]\n",
        "        num = num + x\n",
        "    return num\n",
        "\n",
        "# Método 5\n",
        "def str_to_int(num_str):\n",
        "    is_negative = False\n",
        "    result = 0\n",
        "    # Verificar si el número es negativo\n",
        "    if num_str[0] == '-':\n",
        "        is_negative = True\n",
        "        num_str = num_str[1:]\n",
        "    # Convertir cada carácter a su valor numérico y sumarlo al resultado\n",
        "    for digit in num_str:\n",
        "        digit_value = ord(digit) - ord('0')  # Convertir carácter a valor numérico\n",
        "        result = result * 10 + digit_value\n",
        "    # Aplicar signo negativo si es necesario\n",
        "    if is_negative:\n",
        "        result *= -1\n",
        "    return result\n",
        "\n",
        "\n",
        "# FUNCIÓN int_to_str\n",
        "\n",
        "# Método 1\n",
        "def int_to_str(num):\n",
        "    return str(num)\n",
        "\n",
        "# Método 2\n",
        "int_to_str = lambda num: str(num)\n",
        "\n",
        "# Método 3. Sin usar str\n",
        "def int_to_str(num):\n",
        "    if num == 0:\n",
        "        return \"0\"  # Manejar caso especial de 0\n",
        "    is_negative = num < 0\n",
        "    num = abs(num)\n",
        "    result = \"\"\n",
        "    while num > 0:\n",
        "        digit = num % 10\n",
        "        result = chr(ord('0') + digit) + result\n",
        "        num //= 10\n",
        "    if is_negative:\n",
        "        result = \"-\" + result\n",
        "    return result\n",
        "\n",
        "# Método 4.\n",
        "def int_to_str(num):\n",
        "    if num == 0:\n",
        "        return '0'\n",
        "    diccionario = {0: '0', 1: '1', 2: '2', 3: '3', 4: '4', 5: '5', 6: '6', 7: '7', 8: '8', 9: '9'}\n",
        "    result = \"\"\n",
        "    while True:\n",
        "        d = num % 10                # comienza por el último dígito\n",
        "        char_d = diccionario[d]     # pasa ese dígito a string\n",
        "        result = char_d + result    # concatena ese dígito al inicio de result\n",
        "        num //= 10                  # determina el resto de dígitos que faltan\n",
        "        if num == 0:\n",
        "            break\n",
        "    return result"
      ],
      "metadata": {
        "id": "SkDQw4svKdyO"
      },
      "execution_count": 18,
      "outputs": []
    },
    {
      "cell_type": "code",
      "source": [
        "print(str_to_int(\"0\"), type(str_to_int(\"0\")).__name__)      # 0 int\n",
        "print(str_to_int(\"4\"), type(str_to_int(\"4\")).__name__)      # 4 int\n",
        "print()\n",
        "print(int_to_str(0), type(int_to_str(0)).__name__)          # \"0\" str\n",
        "print(int_to_str(5), type(int_to_str(5)).__name__)          # \"5\" str\n",
        "print(int_to_str(1234), type(int_to_str(1234)).__name__)    # \"1234\" str\n",
        "print(int_to_str(12034), type(int_to_str(12034)).__name__)  # \"12034\" str"
      ],
      "metadata": {
        "id": "r4eaiLE6KdyO",
        "outputId": "7ac03481-7f4e-496c-adc1-3856da77092b",
        "colab": {
          "base_uri": "https://localhost:8080/"
        }
      },
      "execution_count": 17,
      "outputs": [
        {
          "output_type": "stream",
          "name": "stdout",
          "text": [
            "0 int\n",
            "4 int\n",
            "\n",
            "0 str\n",
            "5 str\n",
            "1234 str\n",
            "12034 str\n"
          ]
        }
      ]
    },
    {
      "cell_type": "markdown",
      "source": [
        "## Reto 445:"
      ],
      "metadata": {
        "id": "w04A7HtQKd5o"
      }
    },
    {
      "cell_type": "code",
      "source": [
        "# Método 1\n",
        "def :\n",
        "    pass"
      ],
      "metadata": {
        "id": "zl3MweNdKd5o"
      },
      "execution_count": null,
      "outputs": []
    },
    {
      "cell_type": "code",
      "source": [
        "print()\n",
        "print()\n",
        "print()\n",
        "print()"
      ],
      "metadata": {
        "id": "0UpUWFGMKd5o"
      },
      "execution_count": null,
      "outputs": []
    },
    {
      "cell_type": "markdown",
      "source": [
        "## Reto 446:"
      ],
      "metadata": {
        "id": "Zh9UFyL-KeAt"
      }
    },
    {
      "cell_type": "code",
      "source": [
        "# Método 1\n",
        "def :\n",
        "    pass"
      ],
      "metadata": {
        "id": "i-jJn26qKeAu"
      },
      "execution_count": null,
      "outputs": []
    },
    {
      "cell_type": "code",
      "source": [
        "print()\n",
        "print()\n",
        "print()\n",
        "print()"
      ],
      "metadata": {
        "id": "rw7UwO5ZKeAu"
      },
      "execution_count": null,
      "outputs": []
    },
    {
      "cell_type": "markdown",
      "source": [
        "## Reto 447:"
      ],
      "metadata": {
        "id": "t4jr2BK1KeID"
      }
    },
    {
      "cell_type": "code",
      "source": [
        "# Método 1\n",
        "def :\n",
        "    pass"
      ],
      "metadata": {
        "id": "aQTPn36yKeID"
      },
      "execution_count": null,
      "outputs": []
    },
    {
      "cell_type": "code",
      "source": [
        "print()\n",
        "print()\n",
        "print()\n",
        "print()"
      ],
      "metadata": {
        "id": "H3M6VhGxKeID"
      },
      "execution_count": null,
      "outputs": []
    },
    {
      "cell_type": "markdown",
      "source": [
        "## Reto 448:"
      ],
      "metadata": {
        "id": "Wy4WDTYzKePa"
      }
    },
    {
      "cell_type": "code",
      "source": [
        "# Método 1\n",
        "def :\n",
        "    pass"
      ],
      "metadata": {
        "id": "wKWIdoIWKePa"
      },
      "execution_count": null,
      "outputs": []
    },
    {
      "cell_type": "code",
      "source": [
        "print()\n",
        "print()\n",
        "print()\n",
        "print()"
      ],
      "metadata": {
        "id": "46HKwituKePa"
      },
      "execution_count": null,
      "outputs": []
    },
    {
      "cell_type": "markdown",
      "source": [
        "## Reto 449:"
      ],
      "metadata": {
        "id": "BBLM9G9ZKeWa"
      }
    },
    {
      "cell_type": "code",
      "source": [
        "# Método 1\n",
        "def :\n",
        "    pass"
      ],
      "metadata": {
        "id": "9oKulg3HKeWa"
      },
      "execution_count": null,
      "outputs": []
    },
    {
      "cell_type": "code",
      "source": [
        "print()\n",
        "print()\n",
        "print()\n",
        "print()"
      ],
      "metadata": {
        "id": "7YONpao8KeWa"
      },
      "execution_count": null,
      "outputs": []
    },
    {
      "cell_type": "markdown",
      "source": [
        "## Reto 450:"
      ],
      "metadata": {
        "id": "ea-Jcz4RKeen"
      }
    },
    {
      "cell_type": "code",
      "source": [
        "# Método 1\n",
        "def :\n",
        "    pass"
      ],
      "metadata": {
        "id": "5wsx0eKPKeen"
      },
      "execution_count": null,
      "outputs": []
    },
    {
      "cell_type": "code",
      "source": [
        "print()\n",
        "print()\n",
        "print()\n",
        "print()"
      ],
      "metadata": {
        "id": "CXA2SPAbKeen"
      },
      "execution_count": null,
      "outputs": []
    },
    {
      "cell_type": "markdown",
      "source": [
        "## Reto 451:"
      ],
      "metadata": {
        "id": "etQJUnIzK5S2"
      }
    },
    {
      "cell_type": "code",
      "source": [
        "# Método 1\n",
        "def :\n",
        "    pass"
      ],
      "metadata": {
        "id": "A1AHdwnoK5S2"
      },
      "execution_count": null,
      "outputs": []
    },
    {
      "cell_type": "code",
      "source": [
        "print()\n",
        "print()\n",
        "print()\n",
        "print()"
      ],
      "metadata": {
        "id": "Ki5WX6dwK5S2"
      },
      "execution_count": null,
      "outputs": []
    },
    {
      "cell_type": "markdown",
      "source": [
        "## Reto 452:"
      ],
      "metadata": {
        "id": "psCWW_F_K5aa"
      }
    },
    {
      "cell_type": "code",
      "source": [
        "# Método 1\n",
        "def :\n",
        "    pass"
      ],
      "metadata": {
        "id": "bTYis95NK5aa"
      },
      "execution_count": null,
      "outputs": []
    },
    {
      "cell_type": "code",
      "source": [
        "print()\n",
        "print()\n",
        "print()\n",
        "print()"
      ],
      "metadata": {
        "id": "EpqZc6YEK5aa"
      },
      "execution_count": null,
      "outputs": []
    },
    {
      "cell_type": "markdown",
      "source": [
        "## Reto 453:"
      ],
      "metadata": {
        "id": "obEjA9nDK5hM"
      }
    },
    {
      "cell_type": "code",
      "source": [
        "# Método 1\n",
        "def :\n",
        "    pass"
      ],
      "metadata": {
        "id": "aEx0aesJK5hM"
      },
      "execution_count": null,
      "outputs": []
    },
    {
      "cell_type": "code",
      "source": [
        "print()\n",
        "print()\n",
        "print()\n",
        "print()"
      ],
      "metadata": {
        "id": "O_8uRNSRK5hM"
      },
      "execution_count": null,
      "outputs": []
    },
    {
      "cell_type": "markdown",
      "source": [
        "## Reto 454:"
      ],
      "metadata": {
        "id": "Bn2BcxITK5nY"
      }
    },
    {
      "cell_type": "code",
      "source": [
        "# Método 1\n",
        "def :\n",
        "    pass"
      ],
      "metadata": {
        "id": "K3jYRS0LK5nY"
      },
      "execution_count": null,
      "outputs": []
    },
    {
      "cell_type": "code",
      "source": [
        "print()\n",
        "print()\n",
        "print()\n",
        "print()"
      ],
      "metadata": {
        "id": "afoX9yTtK5nY"
      },
      "execution_count": null,
      "outputs": []
    },
    {
      "cell_type": "markdown",
      "source": [
        "## Reto 455:"
      ],
      "metadata": {
        "id": "j84aufrmK5ts"
      }
    },
    {
      "cell_type": "code",
      "source": [
        "# Método 1\n",
        "def :\n",
        "    pass"
      ],
      "metadata": {
        "id": "dTXK0w7wK5ts"
      },
      "execution_count": null,
      "outputs": []
    },
    {
      "cell_type": "code",
      "source": [
        "print()\n",
        "print()\n",
        "print()\n",
        "print()"
      ],
      "metadata": {
        "id": "ZeAsCh73K5ts"
      },
      "execution_count": null,
      "outputs": []
    },
    {
      "cell_type": "markdown",
      "source": [
        "## Reto 456:"
      ],
      "metadata": {
        "id": "3a-vhA3gK50H"
      }
    },
    {
      "cell_type": "code",
      "source": [
        "# Método 1\n",
        "def :\n",
        "    pass"
      ],
      "metadata": {
        "id": "JQJhoPODK50H"
      },
      "execution_count": null,
      "outputs": []
    },
    {
      "cell_type": "code",
      "source": [
        "print()\n",
        "print()\n",
        "print()\n",
        "print()"
      ],
      "metadata": {
        "id": "oy9CI_OGK50H"
      },
      "execution_count": null,
      "outputs": []
    },
    {
      "cell_type": "markdown",
      "source": [
        "## Reto 457:"
      ],
      "metadata": {
        "id": "LTm036CpK56Y"
      }
    },
    {
      "cell_type": "code",
      "source": [
        "# Método 1\n",
        "def :\n",
        "    pass"
      ],
      "metadata": {
        "id": "3NRCqqU0K56Y"
      },
      "execution_count": null,
      "outputs": []
    },
    {
      "cell_type": "code",
      "source": [
        "print()\n",
        "print()\n",
        "print()\n",
        "print()"
      ],
      "metadata": {
        "id": "CWRWKElXK56Y"
      },
      "execution_count": null,
      "outputs": []
    },
    {
      "cell_type": "markdown",
      "source": [
        "## Reto 458:"
      ],
      "metadata": {
        "id": "VXfhvFLAK6BL"
      }
    },
    {
      "cell_type": "code",
      "source": [
        "# Método 1\n",
        "def :\n",
        "    pass"
      ],
      "metadata": {
        "id": "Vs6GDKDMK6BL"
      },
      "execution_count": null,
      "outputs": []
    },
    {
      "cell_type": "code",
      "source": [
        "print()\n",
        "print()\n",
        "print()\n",
        "print()"
      ],
      "metadata": {
        "id": "sGPKHDQrK6BL"
      },
      "execution_count": null,
      "outputs": []
    },
    {
      "cell_type": "markdown",
      "source": [
        "## Reto 459:"
      ],
      "metadata": {
        "id": "ihYQFfWmK6Hv"
      }
    },
    {
      "cell_type": "code",
      "source": [
        "# Método 1\n",
        "def :\n",
        "    pass"
      ],
      "metadata": {
        "id": "PlTymfYrK6Hw"
      },
      "execution_count": null,
      "outputs": []
    },
    {
      "cell_type": "code",
      "source": [
        "print()\n",
        "print()\n",
        "print()\n",
        "print()"
      ],
      "metadata": {
        "id": "6SW9KhA1K6Hw"
      },
      "execution_count": null,
      "outputs": []
    },
    {
      "cell_type": "markdown",
      "source": [
        "## Reto 460:"
      ],
      "metadata": {
        "id": "4Zr_cUZdK6OG"
      }
    },
    {
      "cell_type": "code",
      "source": [
        "# Método 1\n",
        "def :\n",
        "    pass"
      ],
      "metadata": {
        "id": "SjLK9-nnK6OG"
      },
      "execution_count": null,
      "outputs": []
    },
    {
      "cell_type": "code",
      "source": [
        "print()\n",
        "print()\n",
        "print()\n",
        "print()"
      ],
      "metadata": {
        "id": "31bfdRi1K6OH"
      },
      "execution_count": null,
      "outputs": []
    },
    {
      "cell_type": "markdown",
      "source": [
        "## Reto 461:"
      ],
      "metadata": {
        "id": "61iV19v3LMiA"
      }
    },
    {
      "cell_type": "code",
      "source": [
        "# Método 1\n",
        "def :\n",
        "    pass"
      ],
      "metadata": {
        "id": "APrJ0KyLLMiA"
      },
      "execution_count": null,
      "outputs": []
    },
    {
      "cell_type": "code",
      "source": [
        "print()\n",
        "print()\n",
        "print()\n",
        "print()"
      ],
      "metadata": {
        "id": "e-mBlXAzLMiA"
      },
      "execution_count": null,
      "outputs": []
    },
    {
      "cell_type": "markdown",
      "source": [
        "## Reto 462:"
      ],
      "metadata": {
        "id": "Q3wgEONiLMoN"
      }
    },
    {
      "cell_type": "code",
      "source": [
        "# Método 1\n",
        "def :\n",
        "    pass"
      ],
      "metadata": {
        "id": "nCT72IuULMoN"
      },
      "execution_count": null,
      "outputs": []
    },
    {
      "cell_type": "code",
      "source": [
        "print()\n",
        "print()\n",
        "print()\n",
        "print()"
      ],
      "metadata": {
        "id": "6EDB8fUILMoN"
      },
      "execution_count": null,
      "outputs": []
    },
    {
      "cell_type": "markdown",
      "source": [
        "## Reto 463:"
      ],
      "metadata": {
        "id": "spC8vL2CLMuM"
      }
    },
    {
      "cell_type": "code",
      "source": [
        "# Método 1\n",
        "def :\n",
        "    pass"
      ],
      "metadata": {
        "id": "TddezJz3LMuM"
      },
      "execution_count": null,
      "outputs": []
    },
    {
      "cell_type": "code",
      "source": [
        "print()\n",
        "print()\n",
        "print()\n",
        "print()"
      ],
      "metadata": {
        "id": "DTGUrFS_LMuM"
      },
      "execution_count": null,
      "outputs": []
    },
    {
      "cell_type": "markdown",
      "source": [
        "## Reto 464:"
      ],
      "metadata": {
        "id": "A1ntmuTcLM0k"
      }
    },
    {
      "cell_type": "code",
      "source": [
        "# Método 1\n",
        "def :\n",
        "    pass"
      ],
      "metadata": {
        "id": "_9a-z09FLM0k"
      },
      "execution_count": null,
      "outputs": []
    },
    {
      "cell_type": "code",
      "source": [
        "print()\n",
        "print()\n",
        "print()\n",
        "print()"
      ],
      "metadata": {
        "id": "jSIiQqtbLM0k"
      },
      "execution_count": null,
      "outputs": []
    },
    {
      "cell_type": "markdown",
      "source": [
        "## Reto 465:"
      ],
      "metadata": {
        "id": "skyyiwalLM63"
      }
    },
    {
      "cell_type": "code",
      "source": [
        "# Método 1\n",
        "def :\n",
        "    pass"
      ],
      "metadata": {
        "id": "vYDysMfrLM64"
      },
      "execution_count": null,
      "outputs": []
    },
    {
      "cell_type": "code",
      "source": [
        "print()\n",
        "print()\n",
        "print()\n",
        "print()"
      ],
      "metadata": {
        "id": "VZnOmYkVLM64"
      },
      "execution_count": null,
      "outputs": []
    },
    {
      "cell_type": "markdown",
      "source": [
        "## Reto 466:"
      ],
      "metadata": {
        "id": "rjg7iNPbLNBK"
      }
    },
    {
      "cell_type": "code",
      "source": [
        "# Método 1\n",
        "def :\n",
        "    pass"
      ],
      "metadata": {
        "id": "DLlmx8xGLNBL"
      },
      "execution_count": null,
      "outputs": []
    },
    {
      "cell_type": "code",
      "source": [
        "print()\n",
        "print()\n",
        "print()\n",
        "print()"
      ],
      "metadata": {
        "id": "sl2Nh-3ELNBL"
      },
      "execution_count": null,
      "outputs": []
    },
    {
      "cell_type": "markdown",
      "source": [
        "## Reto 467:"
      ],
      "metadata": {
        "id": "yzgkeQHcLNHJ"
      }
    },
    {
      "cell_type": "code",
      "source": [
        "# Método 1\n",
        "def :\n",
        "    pass"
      ],
      "metadata": {
        "id": "kLI_QC9gLNHJ"
      },
      "execution_count": null,
      "outputs": []
    },
    {
      "cell_type": "code",
      "source": [
        "print()\n",
        "print()\n",
        "print()\n",
        "print()"
      ],
      "metadata": {
        "id": "EYukYgtgLNHJ"
      },
      "execution_count": null,
      "outputs": []
    },
    {
      "cell_type": "markdown",
      "source": [
        "## Reto 468:"
      ],
      "metadata": {
        "id": "eahEzmzyLNNG"
      }
    },
    {
      "cell_type": "code",
      "source": [
        "# Método 1\n",
        "def :\n",
        "    pass"
      ],
      "metadata": {
        "id": "bt1kAeH8LNNH"
      },
      "execution_count": null,
      "outputs": []
    },
    {
      "cell_type": "code",
      "source": [
        "print()\n",
        "print()\n",
        "print()\n",
        "print()"
      ],
      "metadata": {
        "id": "lk_T2N1oLNNH"
      },
      "execution_count": null,
      "outputs": []
    },
    {
      "cell_type": "markdown",
      "source": [
        "## Reto 469:"
      ],
      "metadata": {
        "id": "LyBHsamYLNTi"
      }
    },
    {
      "cell_type": "code",
      "source": [
        "# Método 1\n",
        "def :\n",
        "    pass"
      ],
      "metadata": {
        "id": "Uo4ZObcALNTj"
      },
      "execution_count": null,
      "outputs": []
    },
    {
      "cell_type": "code",
      "source": [
        "print()\n",
        "print()\n",
        "print()\n",
        "print()"
      ],
      "metadata": {
        "id": "5sQe_lqeLNTj"
      },
      "execution_count": null,
      "outputs": []
    },
    {
      "cell_type": "markdown",
      "source": [
        "## Reto 470:"
      ],
      "metadata": {
        "id": "SQWyZ6-ALNZx"
      }
    },
    {
      "cell_type": "code",
      "source": [
        "# Método 1\n",
        "def :\n",
        "    pass"
      ],
      "metadata": {
        "id": "92mwwCgALNZy"
      },
      "execution_count": null,
      "outputs": []
    },
    {
      "cell_type": "code",
      "source": [
        "print()\n",
        "print()\n",
        "print()\n",
        "print()"
      ],
      "metadata": {
        "id": "3mS_3YvwLNZy"
      },
      "execution_count": null,
      "outputs": []
    },
    {
      "cell_type": "markdown",
      "source": [
        "## Reto 471:"
      ],
      "metadata": {
        "id": "2owkhItHLhyB"
      }
    },
    {
      "cell_type": "code",
      "source": [
        "# Método 1\n",
        "def :\n",
        "    pass"
      ],
      "metadata": {
        "id": "RXDX_haSLhyB"
      },
      "execution_count": null,
      "outputs": []
    },
    {
      "cell_type": "code",
      "source": [
        "print()\n",
        "print()\n",
        "print()\n",
        "print()"
      ],
      "metadata": {
        "id": "c7qRbfyqLhyB"
      },
      "execution_count": null,
      "outputs": []
    },
    {
      "cell_type": "markdown",
      "source": [
        "## Reto 472:"
      ],
      "metadata": {
        "id": "CDLt9UxgLh4J"
      }
    },
    {
      "cell_type": "code",
      "source": [
        "# Método 1\n",
        "def :\n",
        "    pass"
      ],
      "metadata": {
        "id": "8vdcf6vQLh4J"
      },
      "execution_count": null,
      "outputs": []
    },
    {
      "cell_type": "code",
      "source": [
        "print()\n",
        "print()\n",
        "print()\n",
        "print()"
      ],
      "metadata": {
        "id": "5ZUHKvfgLh4J"
      },
      "execution_count": null,
      "outputs": []
    },
    {
      "cell_type": "markdown",
      "source": [
        "## Reto 473:"
      ],
      "metadata": {
        "id": "P7ziK0i7Lh-G"
      }
    },
    {
      "cell_type": "code",
      "source": [
        "# Método 1\n",
        "def :\n",
        "    pass"
      ],
      "metadata": {
        "id": "uqXYW16-Lh-G"
      },
      "execution_count": null,
      "outputs": []
    },
    {
      "cell_type": "code",
      "source": [
        "print()\n",
        "print()\n",
        "print()\n",
        "print()"
      ],
      "metadata": {
        "id": "qDWhkknZLh-G"
      },
      "execution_count": null,
      "outputs": []
    },
    {
      "cell_type": "markdown",
      "source": [
        "## Reto 474:"
      ],
      "metadata": {
        "id": "5GsbhwnNLiFJ"
      }
    },
    {
      "cell_type": "code",
      "source": [
        "# Método 1\n",
        "def :\n",
        "    pass"
      ],
      "metadata": {
        "id": "nxMhqeUJLiFJ"
      },
      "execution_count": null,
      "outputs": []
    },
    {
      "cell_type": "code",
      "source": [
        "print()\n",
        "print()\n",
        "print()\n",
        "print()"
      ],
      "metadata": {
        "id": "sQbzrz9OLiFJ"
      },
      "execution_count": null,
      "outputs": []
    },
    {
      "cell_type": "markdown",
      "source": [
        "## Reto 475:"
      ],
      "metadata": {
        "id": "kMC9MQDfLiLH"
      }
    },
    {
      "cell_type": "code",
      "source": [
        "# Método 1\n",
        "def :\n",
        "    pass"
      ],
      "metadata": {
        "id": "nvEc58pxLiLH"
      },
      "execution_count": null,
      "outputs": []
    },
    {
      "cell_type": "code",
      "source": [
        "print()\n",
        "print()\n",
        "print()\n",
        "print()"
      ],
      "metadata": {
        "id": "-wmRV9t5LiLH"
      },
      "execution_count": null,
      "outputs": []
    },
    {
      "cell_type": "markdown",
      "source": [
        "## Reto 476:"
      ],
      "metadata": {
        "id": "xSImdk9BLiRc"
      }
    },
    {
      "cell_type": "code",
      "source": [
        "# Método 1\n",
        "def :\n",
        "    pass"
      ],
      "metadata": {
        "id": "aT7l5TEpLiRc"
      },
      "execution_count": null,
      "outputs": []
    },
    {
      "cell_type": "code",
      "source": [
        "print()\n",
        "print()\n",
        "print()\n",
        "print()"
      ],
      "metadata": {
        "id": "BqaNoXNXLiRc"
      },
      "execution_count": null,
      "outputs": []
    },
    {
      "cell_type": "markdown",
      "source": [
        "## Reto 477:"
      ],
      "metadata": {
        "id": "06neNEk8LiX5"
      }
    },
    {
      "cell_type": "code",
      "source": [
        "# Método 1\n",
        "def :\n",
        "    pass"
      ],
      "metadata": {
        "id": "kaT8iASjLiX5"
      },
      "execution_count": null,
      "outputs": []
    },
    {
      "cell_type": "code",
      "source": [
        "print()\n",
        "print()\n",
        "print()\n",
        "print()"
      ],
      "metadata": {
        "id": "SHkZrpu8LiX5"
      },
      "execution_count": null,
      "outputs": []
    },
    {
      "cell_type": "markdown",
      "source": [
        "## Reto 478:"
      ],
      "metadata": {
        "id": "YYzjcI17Liez"
      }
    },
    {
      "cell_type": "code",
      "source": [
        "# Método 1\n",
        "def :\n",
        "    pass"
      ],
      "metadata": {
        "id": "it3KGvclLiez"
      },
      "execution_count": null,
      "outputs": []
    },
    {
      "cell_type": "code",
      "source": [
        "print()\n",
        "print()\n",
        "print()\n",
        "print()"
      ],
      "metadata": {
        "id": "10WjuOejLiez"
      },
      "execution_count": null,
      "outputs": []
    },
    {
      "cell_type": "markdown",
      "source": [
        "## Reto 479:"
      ],
      "metadata": {
        "id": "GkLinAg8Liky"
      }
    },
    {
      "cell_type": "code",
      "source": [
        "# Método 1\n",
        "def :\n",
        "    pass"
      ],
      "metadata": {
        "id": "NzErCS-oLiky"
      },
      "execution_count": null,
      "outputs": []
    },
    {
      "cell_type": "code",
      "source": [
        "print()\n",
        "print()\n",
        "print()\n",
        "print()"
      ],
      "metadata": {
        "id": "QASfCa0aLiky"
      },
      "execution_count": null,
      "outputs": []
    },
    {
      "cell_type": "markdown",
      "source": [
        "## Reto 480:"
      ],
      "metadata": {
        "id": "d-J7lYOULirf"
      }
    },
    {
      "cell_type": "code",
      "source": [
        "# Método 1\n",
        "def :\n",
        "    pass"
      ],
      "metadata": {
        "id": "yA18S0w4Lirf"
      },
      "execution_count": null,
      "outputs": []
    },
    {
      "cell_type": "code",
      "source": [
        "print()\n",
        "print()\n",
        "print()\n",
        "print()"
      ],
      "metadata": {
        "id": "Zw8myjqbLirf"
      },
      "execution_count": null,
      "outputs": []
    },
    {
      "cell_type": "markdown",
      "source": [
        "## Reto 481:"
      ],
      "metadata": {
        "id": "caTKyjSTL3a1"
      }
    },
    {
      "cell_type": "code",
      "source": [
        "# Método 1\n",
        "def :\n",
        "    pass"
      ],
      "metadata": {
        "id": "_ztXp-wgL3a1"
      },
      "execution_count": null,
      "outputs": []
    },
    {
      "cell_type": "code",
      "source": [
        "print()\n",
        "print()\n",
        "print()\n",
        "print()"
      ],
      "metadata": {
        "id": "tuwlQEk-L3a1"
      },
      "execution_count": null,
      "outputs": []
    },
    {
      "cell_type": "markdown",
      "source": [
        "## Reto 482:"
      ],
      "metadata": {
        "id": "7fiB0jv8L3hE"
      }
    },
    {
      "cell_type": "code",
      "source": [
        "# Método 1\n",
        "def :\n",
        "    pass"
      ],
      "metadata": {
        "id": "a7mOXJLPL3hF"
      },
      "execution_count": null,
      "outputs": []
    },
    {
      "cell_type": "code",
      "source": [
        "print()\n",
        "print()\n",
        "print()\n",
        "print()"
      ],
      "metadata": {
        "id": "rNJK48w9L3hF"
      },
      "execution_count": null,
      "outputs": []
    },
    {
      "cell_type": "markdown",
      "source": [
        "## Reto 483:"
      ],
      "metadata": {
        "id": "GKGE4HsJL3nW"
      }
    },
    {
      "cell_type": "code",
      "source": [
        "# Método 1\n",
        "def :\n",
        "    pass"
      ],
      "metadata": {
        "id": "EzEvRiJjL3nW"
      },
      "execution_count": null,
      "outputs": []
    },
    {
      "cell_type": "code",
      "source": [
        "print()\n",
        "print()\n",
        "print()\n",
        "print()"
      ],
      "metadata": {
        "id": "opmO9Yd8L3nW"
      },
      "execution_count": null,
      "outputs": []
    },
    {
      "cell_type": "markdown",
      "source": [
        "## Reto 484:"
      ],
      "metadata": {
        "id": "15rjwg1tL3tV"
      }
    },
    {
      "cell_type": "code",
      "source": [
        "# Método 1\n",
        "def :\n",
        "    pass"
      ],
      "metadata": {
        "id": "8WUz4w7aL3tV"
      },
      "execution_count": null,
      "outputs": []
    },
    {
      "cell_type": "code",
      "source": [
        "print()\n",
        "print()\n",
        "print()\n",
        "print()"
      ],
      "metadata": {
        "id": "VHrRCAUFL3tV"
      },
      "execution_count": null,
      "outputs": []
    },
    {
      "cell_type": "markdown",
      "source": [
        "## Reto 485:"
      ],
      "metadata": {
        "id": "waiNaoG1L3zp"
      }
    },
    {
      "cell_type": "code",
      "source": [
        "# Método 1\n",
        "def :\n",
        "    pass"
      ],
      "metadata": {
        "id": "H56FhgUnL3zp"
      },
      "execution_count": null,
      "outputs": []
    },
    {
      "cell_type": "code",
      "source": [
        "print()\n",
        "print()\n",
        "print()\n",
        "print()"
      ],
      "metadata": {
        "id": "cAZkIyvfL3zp"
      },
      "execution_count": null,
      "outputs": []
    },
    {
      "cell_type": "markdown",
      "source": [
        "## Reto 486:"
      ],
      "metadata": {
        "id": "t4yqCwAqL35p"
      }
    },
    {
      "cell_type": "code",
      "source": [
        "# Método 1\n",
        "def :\n",
        "    pass"
      ],
      "metadata": {
        "id": "pIiiWnaiL35p"
      },
      "execution_count": null,
      "outputs": []
    },
    {
      "cell_type": "code",
      "source": [
        "print()\n",
        "print()\n",
        "print()\n",
        "print()"
      ],
      "metadata": {
        "id": "a610MU9oL35p"
      },
      "execution_count": null,
      "outputs": []
    },
    {
      "cell_type": "markdown",
      "source": [
        "## Reto 487:"
      ],
      "metadata": {
        "id": "x6C1TjPaL3_-"
      }
    },
    {
      "cell_type": "code",
      "source": [
        "# Método 1\n",
        "def :\n",
        "    pass"
      ],
      "metadata": {
        "id": "XUQoZ9ReL3_-"
      },
      "execution_count": null,
      "outputs": []
    },
    {
      "cell_type": "code",
      "source": [
        "print()\n",
        "print()\n",
        "print()\n",
        "print()"
      ],
      "metadata": {
        "id": "TWyax5wnL3_-"
      },
      "execution_count": null,
      "outputs": []
    },
    {
      "cell_type": "markdown",
      "source": [
        "## Reto 488:"
      ],
      "metadata": {
        "id": "zBie26x6L4Gr"
      }
    },
    {
      "cell_type": "code",
      "source": [
        "# Método 1\n",
        "def :\n",
        "    pass"
      ],
      "metadata": {
        "id": "buUbN8SwL4Gr"
      },
      "execution_count": null,
      "outputs": []
    },
    {
      "cell_type": "code",
      "source": [
        "print()\n",
        "print()\n",
        "print()\n",
        "print()"
      ],
      "metadata": {
        "id": "r6qt-50EL4Gr"
      },
      "execution_count": null,
      "outputs": []
    },
    {
      "cell_type": "markdown",
      "source": [
        "## Reto 489:"
      ],
      "metadata": {
        "id": "u3S8YwmWL4Ns"
      }
    },
    {
      "cell_type": "code",
      "source": [
        "# Método 1\n",
        "def :\n",
        "    pass"
      ],
      "metadata": {
        "id": "kjHpn_3rL4Ns"
      },
      "execution_count": null,
      "outputs": []
    },
    {
      "cell_type": "code",
      "source": [
        "print()\n",
        "print()\n",
        "print()\n",
        "print()"
      ],
      "metadata": {
        "id": "lBLE97MwL4Ns"
      },
      "execution_count": null,
      "outputs": []
    },
    {
      "cell_type": "markdown",
      "source": [
        "## Reto 490:"
      ],
      "metadata": {
        "id": "c_paq_i4L4Uv"
      }
    },
    {
      "cell_type": "code",
      "source": [
        "# Método 1\n",
        "def :\n",
        "    pass"
      ],
      "metadata": {
        "id": "5eBRqnbEL4Uv"
      },
      "execution_count": null,
      "outputs": []
    },
    {
      "cell_type": "code",
      "source": [
        "print()\n",
        "print()\n",
        "print()\n",
        "print()"
      ],
      "metadata": {
        "id": "rUuQg2ZIL4Uv"
      },
      "execution_count": null,
      "outputs": []
    },
    {
      "cell_type": "markdown",
      "source": [
        "## Reto 491:"
      ],
      "metadata": {
        "id": "3w2wTJmWMJ-E"
      }
    },
    {
      "cell_type": "code",
      "source": [
        "# Método 1\n",
        "def :\n",
        "    pass"
      ],
      "metadata": {
        "id": "ajHrz-XxMJ-E"
      },
      "execution_count": null,
      "outputs": []
    },
    {
      "cell_type": "code",
      "source": [
        "print()\n",
        "print()\n",
        "print()\n",
        "print()"
      ],
      "metadata": {
        "id": "4RR98pcWMJ-E"
      },
      "execution_count": null,
      "outputs": []
    },
    {
      "cell_type": "markdown",
      "source": [
        "## Reto 492:"
      ],
      "metadata": {
        "id": "CtVXEJ_GMKEv"
      }
    },
    {
      "cell_type": "code",
      "source": [
        "# Método 1\n",
        "def :\n",
        "    pass"
      ],
      "metadata": {
        "id": "SV1DE57fMKEv"
      },
      "execution_count": null,
      "outputs": []
    },
    {
      "cell_type": "code",
      "source": [
        "print()\n",
        "print()\n",
        "print()\n",
        "print()"
      ],
      "metadata": {
        "id": "EbIacckFMKEv"
      },
      "execution_count": null,
      "outputs": []
    },
    {
      "cell_type": "markdown",
      "source": [
        "## Reto 493:"
      ],
      "metadata": {
        "id": "VZGtZ8s_MKK_"
      }
    },
    {
      "cell_type": "code",
      "source": [
        "# Método 1\n",
        "def :\n",
        "    pass"
      ],
      "metadata": {
        "id": "02-FMX0hMKLA"
      },
      "execution_count": null,
      "outputs": []
    },
    {
      "cell_type": "code",
      "source": [
        "print()\n",
        "print()\n",
        "print()\n",
        "print()"
      ],
      "metadata": {
        "id": "8S33i01kMKLA"
      },
      "execution_count": null,
      "outputs": []
    },
    {
      "cell_type": "markdown",
      "source": [
        "## Reto 494:"
      ],
      "metadata": {
        "id": "zNLzygsBMKRW"
      }
    },
    {
      "cell_type": "code",
      "source": [
        "# Método 1\n",
        "def :\n",
        "    pass"
      ],
      "metadata": {
        "id": "KeoLE6LyMKRW"
      },
      "execution_count": null,
      "outputs": []
    },
    {
      "cell_type": "code",
      "source": [
        "print()\n",
        "print()\n",
        "print()\n",
        "print()"
      ],
      "metadata": {
        "id": "M-f3lc_BMKRW"
      },
      "execution_count": null,
      "outputs": []
    },
    {
      "cell_type": "markdown",
      "source": [
        "## Reto 495:"
      ],
      "metadata": {
        "id": "IdhnocJpMKYC"
      }
    },
    {
      "cell_type": "code",
      "source": [
        "# Método 1\n",
        "def :\n",
        "    pass"
      ],
      "metadata": {
        "id": "LiajNLNhMKYC"
      },
      "execution_count": null,
      "outputs": []
    },
    {
      "cell_type": "code",
      "source": [
        "print()\n",
        "print()\n",
        "print()\n",
        "print()"
      ],
      "metadata": {
        "id": "d1yzMQbOMKYD"
      },
      "execution_count": null,
      "outputs": []
    },
    {
      "cell_type": "markdown",
      "source": [
        "## Reto 496:"
      ],
      "metadata": {
        "id": "M3Dg-qw6MKe2"
      }
    },
    {
      "cell_type": "code",
      "source": [
        "# Método 1\n",
        "def :\n",
        "    pass"
      ],
      "metadata": {
        "id": "h-QbzJJ1MKe2"
      },
      "execution_count": null,
      "outputs": []
    },
    {
      "cell_type": "code",
      "source": [
        "print()\n",
        "print()\n",
        "print()\n",
        "print()"
      ],
      "metadata": {
        "id": "oXwQiGaaMKe2"
      },
      "execution_count": null,
      "outputs": []
    },
    {
      "cell_type": "markdown",
      "source": [
        "## Reto 497:"
      ],
      "metadata": {
        "id": "Eiezcer_MKlv"
      }
    },
    {
      "cell_type": "code",
      "source": [
        "# Método 1\n",
        "def :\n",
        "    pass"
      ],
      "metadata": {
        "id": "3AhSpAG-MKlv"
      },
      "execution_count": null,
      "outputs": []
    },
    {
      "cell_type": "code",
      "source": [
        "print()\n",
        "print()\n",
        "print()\n",
        "print()"
      ],
      "metadata": {
        "id": "aBWYbZrZMKlv"
      },
      "execution_count": null,
      "outputs": []
    },
    {
      "cell_type": "markdown",
      "source": [
        "## Reto 498:"
      ],
      "metadata": {
        "id": "bkTxYt81MKsy"
      }
    },
    {
      "cell_type": "code",
      "source": [
        "# Método 1\n",
        "def :\n",
        "    pass"
      ],
      "metadata": {
        "id": "tA22AXAFMKsy"
      },
      "execution_count": null,
      "outputs": []
    },
    {
      "cell_type": "code",
      "source": [
        "print()\n",
        "print()\n",
        "print()\n",
        "print()"
      ],
      "metadata": {
        "id": "UVGu2kGHMKsy"
      },
      "execution_count": null,
      "outputs": []
    },
    {
      "cell_type": "markdown",
      "source": [
        "## Reto 499:"
      ],
      "metadata": {
        "id": "vVMdctYWMK0i"
      }
    },
    {
      "cell_type": "code",
      "source": [
        "# Método 1\n",
        "def :\n",
        "    pass"
      ],
      "metadata": {
        "id": "NsbwxY5KMK0i"
      },
      "execution_count": null,
      "outputs": []
    },
    {
      "cell_type": "code",
      "source": [
        "print()\n",
        "print()\n",
        "print()\n",
        "print()"
      ],
      "metadata": {
        "id": "-3OWKd6mMK0i"
      },
      "execution_count": null,
      "outputs": []
    },
    {
      "cell_type": "markdown",
      "source": [
        "## Reto 500:"
      ],
      "metadata": {
        "id": "z6Jwjp2UMK7L"
      }
    },
    {
      "cell_type": "code",
      "source": [
        "# Método 1\n",
        "def :\n",
        "    pass"
      ],
      "metadata": {
        "id": "6vtarPksMK7L"
      },
      "execution_count": null,
      "outputs": []
    },
    {
      "cell_type": "code",
      "source": [
        "print()\n",
        "print()\n",
        "print()\n",
        "print()"
      ],
      "metadata": {
        "id": "jk_KKqnbMK7L"
      },
      "execution_count": null,
      "outputs": []
    }
  ]
}