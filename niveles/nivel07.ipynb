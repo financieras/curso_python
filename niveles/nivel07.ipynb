{
  "nbformat": 4,
  "nbformat_minor": 0,
  "metadata": {
    "colab": {
      "provenance": [],
      "authorship_tag": "ABX9TyMCAVfPeEkD/a/pn2fb2Has",
      "include_colab_link": true
    },
    "kernelspec": {
      "name": "python3",
      "display_name": "Python 3"
    },
    "language_info": {
      "name": "python"
    }
  },
  "cells": [
    {
      "cell_type": "markdown",
      "metadata": {
        "id": "view-in-github",
        "colab_type": "text"
      },
      "source": [
        "<a href=\"https://colab.research.google.com/github/financieras/curso_python/blob/main/niveles/nivel07.ipynb\" target=\"_parent\"><img src=\"https://colab.research.google.com/assets/colab-badge.svg\" alt=\"Open In Colab\"/></a>"
      ]
    },
    {
      "cell_type": "markdown",
      "source": [
        "## Reto 601: Validación de Subconjuntos\n",
        "* Subset Validation\n",
        "* Escribe una función que devuelva `True` si todos los subconjuntos en una lista pertenecen a un conjunto dado.\n",
        "\n",
        "* **Ejemplos**\n",
        "\n",
        "```\n",
        "validate_subsets([[1, 2], [2, 3], [1, 3]], [1, 2, 3]) ➞ True\n",
        "validate_subsets([[1, 2, 3], [2], [3], []], [1, 2, 3]) ➞ True\n",
        "validate_subsets([[1, 2], [2, 3], [1, 4]], [1, 2, 3]) ➞ False\n",
        "validate_subsets([[1, 2, 3, 4]], [1, 2, 3]) ➞ False\n",
        "```\n",
        "\n",
        "* **Notas**\n",
        "    - El **conjunto vacío** y el **conjunto** mismo son **ambos** subconjuntos válidos de un conjunto (no estamos hablando de subconjuntos propios aquí).\n",
        "    - El conjunto y el subconjunto tendrán cada uno elementos únicos.\n"
      ],
      "metadata": {
        "id": "TLaRISU7pD_o"
      }
    },
    {
      "cell_type": "code",
      "source": [
        "# Método 1\n",
        "def validate_subsets(subsets, full_set):\n",
        "    return all(num in full_set for subset in subsets for num in subset)\n",
        "\n",
        "# Método 2\n",
        "def validate_subsets(subsets, full_set):\n",
        "    full_set = set(full_set)  # Convertimos la lista a un conjunto para operaciones más eficientes\n",
        "\n",
        "    for subset in subsets:\n",
        "        if not set(subset).issubset(full_set):\n",
        "            return False\n",
        "\n",
        "    return True\n",
        "\n",
        "# Método 3\n",
        "def validate_subsets(subsets, full_set):\n",
        "    full_set = set(full_set)\n",
        "    return all(set(subset) - full_set == set() for subset in subsets)"
      ],
      "metadata": {
        "id": "YotxikVXpD_t"
      },
      "execution_count": null,
      "outputs": []
    },
    {
      "cell_type": "code",
      "source": [
        "print(validate_subsets([[1, 2], [2, 3], [1, 3]], [1, 2, 3]))    # True\n",
        "print(validate_subsets([[1, 2, 3], [2], [3], []], [1, 2, 3]))   # True\n",
        "print(validate_subsets([], [1, 2, 3]))                          # True\n",
        "print(validate_subsets([[]], []))                               # True\n",
        "print(validate_subsets([[1]], []))                              # False\n",
        "print(validate_subsets([[1, 2], [2, 3], [1, 4]], [1, 2, 3]))    # False\n",
        "print(validate_subsets([[1, 2, 3, 4]], [1, 2, 3]))              # False"
      ],
      "metadata": {
        "colab": {
          "base_uri": "https://localhost:8080/"
        },
        "outputId": "9792c01a-b91c-49e4-950c-1909f8687ad0",
        "id": "MAzw8K_qpD_u"
      },
      "execution_count": null,
      "outputs": [
        {
          "output_type": "stream",
          "name": "stdout",
          "text": [
            "True\n",
            "True\n",
            "True\n",
            "True\n",
            "False\n",
            "False\n",
            "False\n"
          ]
        }
      ]
    },
    {
      "cell_type": "markdown",
      "source": [
        "## Reto 602: Eliminar Caracteres Repetidos\n",
        "* Remove Repeated Characters\n",
        "* Crea una función que elimine cualquier carácter repetido en una palabra pasada a la función.\n",
        "* No solo caracteres consecutivos, sino caracteres que se repitan en cualquier parte de la entrada.\n",
        "\n",
        "* **Ejemplos**\n",
        "\n",
        "```\n",
        "unrepeated(\"banana\") ➞ \"ban\"\n",
        "unrepeated(\"aaaaa\") ➞ \"a\"\n",
        "unrepeated(\"WWE!!!\") ➞ \"WE!\"\n",
        "unrepeated(\"llama 112\") ➞ \"lama 12\"\n",
        "```\n",
        "\n",
        "* **Notas**\n",
        "    - No se pasarán más de dos palabras en las pruebas.\n",
        "    - La entrada incluye caracteres especiales y números."
      ],
      "metadata": {
        "id": "x08SyoMppD_u"
      }
    },
    {
      "cell_type": "code",
      "source": [
        "# Método 1\n",
        "def unrepeated(s):\n",
        "    result = \"\"\n",
        "    for c in s:\n",
        "        if c not in result:\n",
        "            result += c\n",
        "    return result\n",
        "\n",
        "# Método 2\n",
        "def unrepeated(s):\n",
        "    return ''.join(c for i, c in enumerate(s) if c not in s[:i])\n",
        "\n",
        "# Método 3. Usando un diccionario\n",
        "# a partir de Python 3.7, los diccionarios mantienen el orden de inserción por defecto.\n",
        "def sin_repetir(texto):\n",
        "    return ''.join(dict.fromkeys(texto))\n",
        "\n",
        "# Método 4\n",
        "def unrepeated(word):\n",
        "    # Crear un conjunto para almacenar los caracteres únicos\n",
        "    seen = set()\n",
        "    # Crear una lista para almacenar los caracteres que se agregarán a la palabra final\n",
        "    result = []\n",
        "\n",
        "    # Iterar sobre cada carácter en la palabra\n",
        "    for char in word:\n",
        "        # Si el carácter no ha sido visto antes, agregarlo al resultado y marcarlo como visto\n",
        "        if char not in seen:\n",
        "            result.append(char)\n",
        "            seen.add(char)\n",
        "\n",
        "    # Convertir la lista de caracteres en una cadena y devolverla\n",
        "    return ''.join(result)\n",
        "\n",
        "# Método 5\n",
        "def unrepeated(word):\n",
        "    # Crear un conjunto para rastrear los caracteres ya vistos\n",
        "    seen = set()\n",
        "    # Crear una lista para almacenar el resultado final\n",
        "    result = []\n",
        "\n",
        "    # Iterar sobre cada carácter en la palabra\n",
        "    for char in word:\n",
        "        # Si el carácter no ha sido visto antes, agregarlo al resultado\n",
        "        if char not in seen:\n",
        "            result.append(char)\n",
        "            seen.add(char)\n",
        "\n",
        "    # Convertir la lista de caracteres en una cadena y devolverla\n",
        "    return ''.join(result)\n",
        "\n",
        "# Método 6. Enfoque de programación funcional\n",
        "def unrepeated(word):\n",
        "    return ''.join(filter(lambda x, seen=set(): not (x in seen or seen.add(x)), word))\n",
        "\n",
        "# Método 7.\n",
        "def unrepeated(s):\n",
        "    seen = set()\n",
        "    return ''.join(c for c in s if not (c in seen or seen.add(c)))\n",
        "\n",
        "# Método 8\n",
        "def unrepeated(s):\n",
        "    return ''.join(sorted(set(s), key=s.index))"
      ],
      "metadata": {
        "id": "5gZbry93pD_u"
      },
      "execution_count": null,
      "outputs": []
    },
    {
      "cell_type": "code",
      "source": [
        "print(unrepeated(\"banana\"))     # ban\n",
        "print(unrepeated(\"aaaaa\"))      # a\n",
        "print(unrepeated(\"WWE!!!\"))     # WE!\n",
        "print(unrepeated(\"llama 112\"))  # lam 12"
      ],
      "metadata": {
        "outputId": "488d7157-d893-4885-ac2f-240201adcd29",
        "colab": {
          "base_uri": "https://localhost:8080/"
        },
        "id": "8oZFGyIYpD_u"
      },
      "execution_count": null,
      "outputs": [
        {
          "output_type": "stream",
          "name": "stdout",
          "text": [
            "ban\n",
            "a\n",
            "WE!\n",
            "lam 12\n"
          ]
        }
      ]
    },
    {
      "cell_type": "markdown",
      "source": [
        "#### Explicación del Método 6\n",
        "- **`filter`**: Esta función aplica una condición a cada elemento en `word`. Solo los elementos que cumplen la condición se mantienen.\n",
        "- **`lambda x, seen=set(): not (x in seen or seen.add(x))`**:\n",
        "  - **`seen=set()`**: Se utiliza un conjunto `seen` para rastrear los caracteres que ya han aparecido.\n",
        "  - **`x in seen or seen.add(x)`**: Este truco inteligente agrega el carácter a `seen` si no está presente y devuelve `True` si el carácter ya estaba, lo que causa que `filter` lo excluya.\n",
        "  - **`not (x in seen or seen.add(x))`**: Negamos la expresión para incluir solo caracteres que no han sido vistos antes."
      ],
      "metadata": {
        "id": "fI8xBd0eIOJT"
      }
    },
    {
      "cell_type": "code",
      "source": [
        "def first_unique_letters(words):\n",
        "    seen = set()\n",
        "    return [word[0] for word in words if not (word[0] in seen or seen.add(word[0]))]\n",
        "\n",
        "# Ejemplo de uso\n",
        "words = [\"apple\", \"banana\", \"cherry\", \"avocado\", \"blueberry\", \"carrot\"]\n",
        "print(first_unique_letters(words))  # ➞ ['a', 'b', 'c']"
      ],
      "metadata": {
        "colab": {
          "base_uri": "https://localhost:8080/"
        },
        "id": "tZA4JfTWKJ8S",
        "outputId": "fc4d2a7b-abee-401f-cff5-3bcc5997c3b2"
      },
      "execution_count": null,
      "outputs": [
        {
          "output_type": "stream",
          "name": "stdout",
          "text": [
            "['a', 'b', 'c']\n"
          ]
        }
      ]
    },
    {
      "cell_type": "markdown",
      "source": [
        "##### Otro ejemplo de este \"truco\" usando una lista de números"
      ],
      "metadata": {
        "id": "_h3IJ3LVNmmt"
      }
    },
    {
      "cell_type": "code",
      "source": [
        "def first_unique_numbers(numbers):\n",
        "    seen = set()\n",
        "    return [x for x in numbers if not (x in seen or seen.add(x))]\n",
        "\n",
        "# Ejemplo de uso\n",
        "numbers = [4, 9, 6, 4, 7, 5, 8, 6, 9, 5]\n",
        "print(first_unique_numbers(numbers))        # 4, 9, 6, 7, 5, 8]"
      ],
      "metadata": {
        "colab": {
          "base_uri": "https://localhost:8080/"
        },
        "id": "1LhqZCHLMAWX",
        "outputId": "e0546756-2320-476a-b21a-096bb1a3ee67"
      },
      "execution_count": null,
      "outputs": [
        {
          "output_type": "stream",
          "name": "stdout",
          "text": [
            "[4, 9, 6, 7, 5, 8]\n"
          ]
        }
      ]
    },
    {
      "cell_type": "markdown",
      "source": [
        "## Reto 603: Formato X: Desempaquetando Diccionarios*\n",
        "* Format X: Unpacking Dictionaries\n",
        "* Para cada desafío de esta serie **no** necesitas enviar una función. En su lugar, debes enviar una **cadena de plantilla** que pueda ser formateada para obtener un resultado determinado.\n",
        "\n",
        "* Escribe **tres diccionarios** y una cadena de plantilla de acuerdo con el siguiente ejemplo. Nota el artículo \"un\" en el tercer ejemplo:\n",
        "\n",
        "* **Ejemplo**\n",
        "\n",
        "```\n",
        "dic1 = {\"tusclaves\": \"tusvalores\"}\n",
        "dic2 = {\"tusclaves\": \"tusvalores\"}\n",
        "dic3 = {\"tusclaves\": \"tusvalores\"}\n",
        "plantilla = \"tucadenadeplantillaaquí\"\n",
        "\n",
        "plantilla.format(**dic1) ➞ \"Me gusta María, no me gusta Mayo.\"\n",
        "plantilla.format(**dic2) ➞ \"Amo Python, no amo Cobol.\"\n",
        "plantilla.format(**dic3) ➞ \"Tengo un Pidgey, no tengo un Rattata.\"\n",
        "```\n",
        "\n",
        "* **Consejos**\n",
        "Los elementos de un diccionario pueden ser desempaquetados y pasados a `.format()` como argumentos de palabras clave usando un operador de doble asterisco `**`:\n",
        "\n",
        "```\n",
        "producto = {\"nombre\": \"pokebola\", \"precio\": 20}\n",
        "\"Una {nombre} cuesta ${precio:.2f}\".format(**producto) ➞ \"Una pokebola cuesta $20.00\"\n",
        "```\n",
        "\n",
        "* **Notas**\n",
        "    - Envía una cadena, no una función."
      ],
      "metadata": {
        "id": "Ox7QKRCKpD_v"
      }
    },
    {
      "cell_type": "code",
      "source": [
        "# Método 1\n",
        "dic1 = {\"like\": \"Mary\", \"dont_like\": \"May\"}\n",
        "dic2 = {\"love\": \"Python\", \"dont_love\": \"Cobol\"}\n",
        "dic3 = {\"have\": \"Pidgey\", \"dont_have\": \"Rattata\"}\n",
        "\n",
        "template = \"I {action1} {name1}, I don't {action2} {name2}.\"\n",
        "\n",
        "print(template.format(action1=\"like\", name1=dic1[\"like\"], action2=\"like\", name2=dic1[\"dont_like\"]))\n",
        "print(template.format(action1=\"love\", name1=dic2[\"love\"], action2=\"love\", name2=dic2[\"dont_love\"]))\n",
        "print(template.format(action1=\"have a\", name1=dic3[\"have\"], action2=\"have a\", name2=dic3[\"dont_have\"]))"
      ],
      "metadata": {
        "colab": {
          "base_uri": "https://localhost:8080/"
        },
        "outputId": "e7742713-2a4b-47ca-f205-d956156ca3b6",
        "id": "mWx2K-SspD_v"
      },
      "execution_count": null,
      "outputs": [
        {
          "output_type": "stream",
          "name": "stdout",
          "text": [
            "I like Mary, I don't like May.\n",
            "I love Python, I don't love Cobol.\n",
            "I have a Pidgey, I don't have a Rattata.\n"
          ]
        }
      ]
    },
    {
      "cell_type": "code",
      "source": [
        "# Método 2\n",
        "dic1 = {\"action\": \"like\", \"person\": \"Mary\", \"neg_person\": \"May\"}\n",
        "dic2 = {\"action\": \"love\", \"person\": \"Python\", \"neg_person\": \"Cobol\"}\n",
        "dic3 = {\"action\": \"have a\", \"person\": \"Pidgey\", \"neg_person\": \"Rattata\"}\n",
        "\n",
        "template = \"I {action} {person}, I don't {action} {neg_person}.\"\n",
        "\n",
        "print(template.format(**dic1))\n",
        "print(template.format(**dic2))\n",
        "print(template.format(**dic3))"
      ],
      "metadata": {
        "colab": {
          "base_uri": "https://localhost:8080/"
        },
        "outputId": "22d80436-05a5-494f-9cd7-a3013a15558c",
        "id": "twqJYTkGpD_v"
      },
      "execution_count": null,
      "outputs": [
        {
          "output_type": "stream",
          "name": "stdout",
          "text": [
            "I like Mary, I don't like May.\n",
            "I love Python, I don't love Cobol.\n",
            "I have a Pidgey, I don't have a Rattata.\n"
          ]
        }
      ]
    },
    {
      "cell_type": "code",
      "source": [
        "# Método 3\n",
        "dic1 = {\"like\": \"Mary\", \"dislike\": \"May\"}\n",
        "dic2 = {\"like\": \"Python\", \"dislike\": \"Cobol\"}\n",
        "dic3 = {\"have\": \"Pidgey\", \"dont_have\": \"Rattata\"}\n",
        "\n",
        "# Plantilla ajustada para todos los diccionarios\n",
        "template1 = \"I like {like}, I don't like {dislike}.\"\n",
        "template2 = \"I love {like}, I don't love {dislike}.\"\n",
        "template3 = \"I have a {have}, I don't have a {dont_have}.\"\n",
        "\n",
        "# Pruebas para ver los resultados\n",
        "print(template1.format(**dic1))  # \"I like Mary, I don't like May.\"\n",
        "print(template2.format(**dic2))  # \"I love Python, I don't love Cobol.\"\n",
        "print(template3.format(**dic3))  # \"I have a Pidgey, I don't have a Rattata.\""
      ],
      "metadata": {
        "colab": {
          "base_uri": "https://localhost:8080/"
        },
        "id": "t8T8z9IPXnmh",
        "outputId": "324877d6-37c8-4df5-f0cb-28fc07a99f79"
      },
      "execution_count": null,
      "outputs": [
        {
          "output_type": "stream",
          "name": "stdout",
          "text": [
            "I like Mary, I don't like May.\n",
            "I love Python, I don't love Cobol.\n",
            "I have a Pidgey, I don't have a Rattata.\n"
          ]
        }
      ]
    },
    {
      "cell_type": "code",
      "source": [
        "# Método 4\n",
        "dic1 = {\"like\": \"Mary\", \"dont_like\": \"May\"}\n",
        "dic2 = {\"love\": \"Python\", \"dont_love\": \"Cobol\"}\n",
        "dic3 = {\"have\": \"Pidgey\", \"dont_have\": \"Rattata\"}\n",
        "\n",
        "template = \"I {action} {pos}, I don't {action} {neg}.\"\n",
        "\n",
        "def format_template(d):\n",
        "    action = list(d.keys())[0]\n",
        "    return template.format(action=action, pos=d[action], neg=d[f\"dont_{action}\"])\n",
        "\n",
        "print(format_template(dic1))\n",
        "print(format_template(dic2))\n",
        "print(format_template(dic3))"
      ],
      "metadata": {
        "colab": {
          "base_uri": "https://localhost:8080/"
        },
        "id": "3CigcKLMatLa",
        "outputId": "05f63f15-a66c-4928-8b4b-d1f40dfcf6d9"
      },
      "execution_count": null,
      "outputs": [
        {
          "output_type": "stream",
          "name": "stdout",
          "text": [
            "I like Mary, I don't like May.\n",
            "I love Python, I don't love Cobol.\n",
            "I have Pidgey, I don't have Rattata.\n"
          ]
        }
      ]
    },
    {
      "cell_type": "code",
      "source": [
        "# Método 5\n",
        "dic1 = {\"like\": \"Mary\", \"dont_like\": \"May\"}\n",
        "dic2 = {\"love\": \"Python\", \"dont_love\": \"Cobol\"}\n",
        "dic3 = {\"have\": \"Pidgey\", \"dont_have\": \"Rattata\"}\n",
        "\n",
        "template = \"I {action} {positive}, I don't {action} {negative}.\"\n",
        "\n",
        "def format_with_kwargs(d):\n",
        "    action = list(d.keys())[0]\n",
        "    kwargs = {\n",
        "        \"action\": action,\n",
        "        \"positive\": d[action],\n",
        "        \"negative\": d[f\"dont_{action}\"]\n",
        "    }\n",
        "    return template.format(**kwargs)\n",
        "\n",
        "print(format_with_kwargs(dic1))\n",
        "print(format_with_kwargs(dic2))\n",
        "print(format_with_kwargs(dic3))"
      ],
      "metadata": {
        "colab": {
          "base_uri": "https://localhost:8080/"
        },
        "id": "wYvgYlz2cAlH",
        "outputId": "9f1b18cc-1bf9-489b-c020-3f7c0648db3d"
      },
      "execution_count": null,
      "outputs": [
        {
          "output_type": "stream",
          "name": "stdout",
          "text": [
            "I like Mary, I don't like May.\n",
            "I love Python, I don't love Cobol.\n",
            "I have Pidgey, I don't have Rattata.\n"
          ]
        }
      ]
    },
    {
      "cell_type": "markdown",
      "source": [
        "## Reto 604: Palabras Estiradas\n",
        "* Stretched Words\n",
        "* Escribe una función que tome una cadena y devuelva una nueva cadena con cualquier letra duplicada *consecutiva* eliminada.\n",
        "\n",
        "* **Ejemplos**\n",
        "\n",
        "```\n",
        "desestira(\"ppoeemm\") ➞ \"poem\"\n",
        "desestira(\"wiiiinnnnd\") ➞ \"wind\"\n",
        "desestira(\"ttiiitllleeee\") ➞ \"title\"\n",
        "desestira(\"cccccaaarrrbbonnnnn\") ➞ \"carbon\"\n",
        "```\n",
        "\n",
        "* **Notas**\n",
        "    - Las cadenas finales *no* incluirán palabras con letras dobles (por ejemplo, \"passing\", \"lottery\")."
      ],
      "metadata": {
        "id": "M7QMRRvspD_v"
      }
    },
    {
      "cell_type": "code",
      "source": [
        "# Método 1\n",
        "def desestira(s):\n",
        "    if len(s) <= 1:\n",
        "        return s\n",
        "    result = s[0]\n",
        "    for i in range(1, len(s)):\n",
        "        if s[i-1] != s[i]:\n",
        "            result += s[i]\n",
        "    return result\n",
        "\n",
        "# Método 2\n",
        "def desestira(palabra):\n",
        "    resultado = palabra[0]  # Comenzamos con la primera letra\n",
        "    for letra in palabra[1:]:  # Iteramos desde la segunda letra\n",
        "        if letra != resultado[-1]:  # Si la letra actual es diferente a la última en el resultado\n",
        "            resultado += letra  # La añadimos al resultado\n",
        "    return resultado\n",
        "\n",
        "# Método 3\n",
        "import re\n",
        "\n",
        "def desestira(palabra):\n",
        "    return re.sub(r'(.)\\1+', r'\\1', palabra)\n",
        "\n",
        "# Método 4\n",
        "from itertools import groupby\n",
        "\n",
        "def desestira(palabra):\n",
        "    return ''.join(char for char, _ in groupby(palabra))\n",
        "\n",
        "# Método 5\n",
        "def desestira(palabra):\n",
        "    return ''.join(letra for i, letra in enumerate(palabra) if i == 0 or letra != palabra[i-1])\n"
      ],
      "metadata": {
        "id": "nAiCxTEapD_w"
      },
      "execution_count": null,
      "outputs": []
    },
    {
      "cell_type": "code",
      "source": [
        "print(desestira(\"ppoeemm\"))             # \"poem\"\n",
        "print(desestira(\"wiiiinnnnd\"))          # \"wind\"\n",
        "print(desestira(\"ttiiitllleeee\"))       # \"title\"\n",
        "print(desestira(\"cccccaaarrrbbonnnnn\")) # \"carbon\""
      ],
      "metadata": {
        "colab": {
          "base_uri": "https://localhost:8080/"
        },
        "outputId": "3a12b901-5cad-432b-c9b7-b39e9dda53d5",
        "id": "Ak2p03K0pD_w"
      },
      "execution_count": null,
      "outputs": [
        {
          "output_type": "stream",
          "name": "stdout",
          "text": [
            "poem\n",
            "wind\n",
            "title\n",
            "carbon\n"
          ]
        }
      ]
    },
    {
      "cell_type": "markdown",
      "source": [
        "## Reto 605: Evaluando Factoriales\n",
        "* Evaluating Factorials\n",
        "* Crea una función que tome una lista de expresiones factoriales y devuelva la suma.\n",
        "\n",
        "* **Ejemplos**\n",
        "\n",
        "```\n",
        "eval_factorial([\"2!\", \"3!\"]) ➞ 8\n",
        "\n",
        "eval_factorial([\"5!\", \"4!\", \"2!\"]) ➞ 146\n",
        "\n",
        "eval_factorial([\"0!\", \"1!\"]) ➞ 2\n",
        "```\n",
        "\n",
        "* **Notas**\n",
        "    - 0! y 1! ambos son iguales a 1."
      ],
      "metadata": {
        "id": "guwJfnLWbSfi"
      }
    },
    {
      "cell_type": "code",
      "source": [
        "# Método 1\n",
        "import math\n",
        "\n",
        "def eval_factorial(lst):\n",
        "    return sum(math.factorial(int(num[:-1])) for num in lst)\n",
        "\n",
        "# Método 2\n",
        "def eval_factorial(lst):\n",
        "    def factorial(n):\n",
        "        if n == 0 or n == 1:\n",
        "            return 1\n",
        "        return n * factorial(n - 1)\n",
        "\n",
        "    total = 0\n",
        "    for expr in lst:\n",
        "        num = int(expr[:-1])  # Elimina el '!' y convierte a entero\n",
        "        total += factorial(num)\n",
        "\n",
        "    return total\n",
        "\n",
        "# Método 3. Usando replace y un bucle for para calcular el factorial\n",
        "def eval_factorial(lst):\n",
        "    def factorial(n):\n",
        "        if n == 0 or n == 1:\n",
        "            return 1\n",
        "        result = 1\n",
        "        for i in range(2, n + 1):\n",
        "            result *= i\n",
        "        return result\n",
        "\n",
        "    total = 0\n",
        "    for expr in lst:\n",
        "        num = int(expr.replace('!', ''))\n",
        "        total += factorial(num)\n",
        "\n",
        "    return total"
      ],
      "metadata": {
        "id": "QRAZmtEPbSfn"
      },
      "execution_count": null,
      "outputs": []
    },
    {
      "cell_type": "code",
      "source": [
        "print(eval_factorial([\"2!\", \"3!\"]))         # 8\n",
        "print(eval_factorial([\"5!\", \"4!\", \"2!\"]))   # 146\n",
        "print(eval_factorial([\"0!\", \"1!\"]))         # 2"
      ],
      "metadata": {
        "colab": {
          "base_uri": "https://localhost:8080/"
        },
        "id": "XWUWk0P0bSfp",
        "outputId": "d6712c66-cbc3-487b-dd33-a9018f2ce969"
      },
      "execution_count": null,
      "outputs": [
        {
          "output_type": "stream",
          "name": "stdout",
          "text": [
            "8\n",
            "146\n",
            "2\n"
          ]
        }
      ]
    },
    {
      "cell_type": "markdown",
      "source": [
        "## Reto 606: Lista Balanceada\n",
        "* Balanced List\n",
        "* Dada una lista de longitud **par**, copia la mitad con la suma más alta de números a la otra mitad de la lista.\n",
        "* Si la suma de la primera mitad es igual a la suma de la segunda mitad, devuelve la lista original.\n",
        "* **Ejemplos**\n",
        "\n",
        "```\n",
        "balanced([1, 2, 4, 6, 3, 1]) ➞ [6, 3, 1, 6, 3, 1]\n",
        "#1 + 2 + 4 < 6 + 3 + 1\n",
        "\n",
        "balanced([88, 3, 27, 5, 9, 0, 13, 10]) ➞ [88, 3, 27, 5, 88, 3, 27, 5]\n",
        "#88 + 3 + 27 + 5 > 9 + 0 + 13 + 10\n",
        "\n",
        "balanced([7, 5, 2, 6, 1, 0, 1, 5, 2, 7, 0, 6]) ➞ [7, 5, 2, 6, 1, 0, 1, 5, 2, 7, 0, 6]\n",
        "#7 + 5 + 2 + 6 + 1 + 0 = 1 + 5 + 2 + 7 + 0 + 6\n",
        "```\n",
        "\n",
        "* **Notas**\n",
        "    - La longitud de la lista es **par**."
      ],
      "metadata": {
        "id": "_h0bEzgObdmY"
      }
    },
    {
      "cell_type": "code",
      "source": [
        "# Método 1\n",
        "def balanced(lst):\n",
        "    n = len(lst)\n",
        "    mid = n // 2\n",
        "\n",
        "    first_half = lst[:mid]\n",
        "    second_half = lst[mid:]\n",
        "\n",
        "    sum_first = sum(first_half)\n",
        "    sum_second = sum(second_half)\n",
        "\n",
        "    if sum_first > sum_second:\n",
        "        return first_half * 2\n",
        "    elif sum_second > sum_first:\n",
        "        return second_half * 2\n",
        "    else:\n",
        "        return lst\n",
        "\n",
        "# Método 2\n",
        "def balanced(lst):\n",
        "    mid = len(lst)//2\n",
        "    izquierda = lst[:mid]\n",
        "    derecha = lst[mid:]\n",
        "    if sum(izquierda) > sum(derecha):\n",
        "        return izquierda *2\n",
        "    elif sum(derecha) > sum(izquierda):\n",
        "        return derecha * 2\n",
        "    else:\n",
        "        return lst\n",
        "\n",
        "# Método 3\n",
        "def balanced(lst):\n",
        "    mid = len(lst) // 2\n",
        "    left, right = lst[:mid], lst[mid:]\n",
        "    return lst if sum(left) == sum(right) else (right * 2 if sum(right) > sum(left) else left * 2)"
      ],
      "metadata": {
        "id": "YDz3HU8gbdmb"
      },
      "execution_count": null,
      "outputs": []
    },
    {
      "cell_type": "code",
      "source": [
        "print(balanced([1, 2, 4, 6, 3, 1]))                     # [6, 3, 1, 6, 3, 1]\n",
        "print(balanced([88, 3, 27, 5, 9, 0, 13, 10]))           # [88, 3, 27, 5, 88, 3, 27, 5]\n",
        "print(balanced([7, 5, 2, 6, 1, 0, 1, 5, 2, 7, 0, 6]))   # [7, 5, 2, 6, 1, 0, 1, 5, 2, 7, 0, 6]\n",
        "print(balanced([10, 5, 15, 20]))                        # [15, 20, 15, 20]\n",
        "print(balanced([3, 2, 1, 1, 2, 3]))                     # [3, 2, 1, 1, 2, 3]\n",
        "print(balanced([10, 20, 30, 6, 7, 8]))                  # [10, 20, 30, 10, 20, 30]"
      ],
      "metadata": {
        "colab": {
          "base_uri": "https://localhost:8080/"
        },
        "id": "5ARoX3aqbdmd",
        "outputId": "90505173-8008-47a7-8113-80f2b19be071"
      },
      "execution_count": null,
      "outputs": [
        {
          "output_type": "stream",
          "name": "stdout",
          "text": [
            "[6, 3, 1, 6, 3, 1]\n",
            "[88, 3, 27, 5, 88, 3, 27, 5]\n",
            "[7, 5, 2, 6, 1, 0, 1, 5, 2, 7, 0, 6]\n",
            "[15, 20, 15, 20]\n",
            "[3, 2, 1, 1, 2, 3]\n",
            "[10, 20, 30, 10, 20, 30]\n"
          ]
        }
      ]
    },
    {
      "cell_type": "markdown",
      "source": [
        "## Reto 607: Rangos de Lista Inclusivos Reversibles\n",
        "* Reversible Inclusive List Ranges\n",
        "* Escribe una función que, dados los valores `start_of_range` y `end_of_range`, devuelva un array que contenga todos los números **inclusivos** en ese rango.\n",
        "\n",
        "* **Ejemplos**\n",
        "\n",
        "```\n",
        "reversible_inclusive_list(1, 5) ➞ [1, 2, 3, 4, 5]\n",
        "reversible_inclusive_list(2, 8) ➞ [2, 3, 4, 5, 6, 7, 8]\n",
        "reversible_inclusive_list(10, 20) ➞ [10, 11, 12, 13, 14, 15, 16, 17, 18, 19, 20]\n",
        "reversible_inclusive_list(24, 17) ➞ [24, 23, 22, 21, 20, 19, 18, 17]\n",
        "```\n",
        "\n",
        "* **Notas**\n",
        "    - El orden de clasificación del array resultante depende de los valores de entrada.\n",
        "    - Todas las entradas proporcionadas en los escenarios de prueba son válidas.\n",
        "    - Si `start_of_range` es mayor que `end_of_range`, devuelve un array ordenado en orden **descendente**, de lo contrario, ordenado en orden **ascendente**."
      ],
      "metadata": {
        "id": "23Ly33e9pD_w"
      }
    },
    {
      "cell_type": "code",
      "source": [
        "# Método 1\n",
        "def reversible_inclusive_list(start_of_range, end_of_range):\n",
        "    if start_of_range <= end_of_range:\n",
        "        return list(range(start_of_range, end_of_range + 1))\n",
        "    else:\n",
        "        return list(range(start_of_range, end_of_range - 1, -1))\n",
        "\n",
        "# Método 2\n",
        "def reversible_inclusive_list(start_of_range, end_of_range):\n",
        "    step = 1 if start_of_range < end_of_range else -1\n",
        "    return [x for x in range(start_of_range, end_of_range + 1, step)]\n",
        "\n",
        "# Método 3. Usando range\n",
        "def reversible_inclusive_list(start_of_range, end_of_range):\n",
        "    step = 1 if start_of_range <= end_of_range else -1\n",
        "    return list(range(start_of_range, end_of_range + step, step))\n",
        "\n",
        "# Método 4. Usando el operador * para desempaquetar el range en una lista\n",
        "def reversible_inclusive_list(start_of_range, end_of_range):\n",
        "    step = 1 if start_of_range <= end_of_range else -1\n",
        "    return [*range(start_of_range, end_of_range + step, step)]\n",
        "\n",
        "# Método 5. Función recursiva\n",
        "def reversible_inclusive_list(start_of_range, end_of_range):\n",
        "    if start_of_range == end_of_range:\n",
        "        return [start_of_range]\n",
        "    elif start_of_range < end_of_range:\n",
        "        return [start_of_range] + reversible_inclusive_list(start_of_range + 1, end_of_range)\n",
        "    else:\n",
        "        return [start_of_range] + reversible_inclusive_list(start_of_range - 1, end_of_range)"
      ],
      "metadata": {
        "id": "tbPx07xApD_w"
      },
      "execution_count": null,
      "outputs": []
    },
    {
      "cell_type": "code",
      "source": [
        "print(reversible_inclusive_list(1, 5))    # [1, 2, 3, 4, 5]\n",
        "print(reversible_inclusive_list(2, 8))    # [2, 3, 4, 5, 6, 7, 8]\n",
        "print(reversible_inclusive_list(10, 20))  # [10, 11, 12, 13, 14, 15, 16, 17, 18, 19, 20]\n",
        "print(reversible_inclusive_list(24, 17))  # [24, 23, 22, 21, 20, 19, 18, 17]"
      ],
      "metadata": {
        "colab": {
          "base_uri": "https://localhost:8080/"
        },
        "outputId": "a807d0db-f8ea-410c-8a6c-4a86fae90f4b",
        "id": "Oiua3yBZpD_w"
      },
      "execution_count": null,
      "outputs": [
        {
          "output_type": "stream",
          "name": "stdout",
          "text": [
            "[1, 2, 3, 4, 5]\n",
            "[2, 3, 4, 5, 6, 7, 8]\n",
            "[10, 11, 12, 13, 14, 15, 16, 17, 18, 19, 20]\n",
            "[24, 23, 22, 21, 20, 19, 18, 17]\n"
          ]
        }
      ]
    },
    {
      "cell_type": "markdown",
      "source": [
        "## Reto 608: Mini Sudoku\n",
        "* Mini Sudoku\n",
        "* Un Sudoku es una cuadrícula de 9x9 que se completa cuando cada cuadrado de 3x3, fila y columna contiene los números del 1 al 9.\n",
        "* Para esta tarea, se te dará un cuadrado de 3x3 completo, en forma de una lista bidimensional. Crea una función que verifique que este cuadrado de 3x3 contiene cada número del 1 al 9 exactamente una vez. Asegúrate de que no haya duplicados ni números fuera de este rango.\n",
        "\n",
        "* **Ejemplos**\n",
        "\n",
        "```\n",
        "es_mini_sudoku([[1, 3, 2], [9, 7, 8], [4, 5, 6]]) ➞ True\n",
        "\n",
        "es_mini_sudoku([[8, 9, 2], [5, 6, 1], [3, 7, 4]]) ➞ True\n",
        "\n",
        "es_mini_sudoku([[1, 1, 3], [6, 5, 4], [8, 7, 9]]) ➞ False\n",
        "#El 1 se repite dos veces\n",
        "\n",
        "es_mini_sudoku([[0, 1, 2], [6, 4, 5], [9, 8, 7]]) ➞ False\n",
        "#El 0 está incluido (fuera del rango)\n",
        "```"
      ],
      "metadata": {
        "id": "RPtg0r5gpD_w"
      }
    },
    {
      "cell_type": "code",
      "source": [
        "# Método 1\n",
        "def es_mini_sudoku(matrix):\n",
        "    lista = [n for row in matrix for n in row]\n",
        "    return sorted(lista) == list(range(1, 10))\n",
        "\n",
        "# Método 2\n",
        "def es_mini_sudoku(cuadrado):\n",
        "    # Aplanar la lista bidimensional\n",
        "    numeros = [num for fila in cuadrado for num in fila]\n",
        "\n",
        "    # Verificar si hay 9 números únicos en el rango 1-9\n",
        "    return set(numeros) == set(range(1, 10))\n",
        "\n",
        "# Método 3\n",
        "def es_mini_sudoku(cuadrado):\n",
        "    # Convertir la lista de listas en una lista plana usando el operador *\n",
        "    numeros = [*sum(cuadrado, [])]\n",
        "\n",
        "    # Verificar que todos los números estén en el rango 1-9\n",
        "    if not all(1 <= num <= 9 for num in numeros):\n",
        "        return False\n",
        "\n",
        "    # Verificar que no haya duplicados\n",
        "    return len(numeros) == len(set(numeros)) == 9\n",
        "\n",
        "# Método 4. Usando NumPy\n",
        "import numpy as np\n",
        "\n",
        "def es_mini_sudoku(cuadrado):\n",
        "    # Convertir la lista de listas a un array NumPy\n",
        "    arr = np.array(cuadrado)\n",
        "\n",
        "    # Verificar si todos los números están en el rango 1-9\n",
        "    if not np.all((arr >= 1) & (arr <= 9)):\n",
        "        return False\n",
        "\n",
        "    # Verificar si hay 9 números únicos\n",
        "    return np.unique(arr).size == 9\n",
        "\n",
        "# Método 5. Usando Pandas\n",
        "# el método .stack() de Pandas \"apila\" el DataFrame, convirtiendo la estructura 2D en una serie 1D\n",
        "import pandas as pd\n",
        "\n",
        "def es_mini_sudoku(cuadrado):\n",
        "    # Convertir la lista de listas a un DataFrame de Pandas\n",
        "    df = pd.DataFrame(cuadrado)\n",
        "\n",
        "    # Aplanar el DataFrame a una serie\n",
        "    serie = df.stack()\n",
        "\n",
        "    # Verificar si todos los números están en el rango 1-9\n",
        "    if not serie.between(1, 9).all():\n",
        "        return False\n",
        "\n",
        "    # Verificar si hay 9 números únicos\n",
        "    return serie.nunique() == 9\n"
      ],
      "metadata": {
        "id": "qi2xvMsGpD_w"
      },
      "execution_count": null,
      "outputs": []
    },
    {
      "cell_type": "code",
      "source": [
        "print(es_mini_sudoku([[1, 3, 2], [9, 7, 8], [4, 5, 6]]))    # True\n",
        "print(es_mini_sudoku([[8, 9, 2], [5, 6, 1], [3, 7, 4]]))    # True\n",
        "print(es_mini_sudoku([[1, 1, 3], [6, 5, 4], [8, 7, 9]]))    # False\n",
        "print(es_mini_sudoku([[0, 1, 2], [6, 4, 5], [9, 8, 7]]))    # False"
      ],
      "metadata": {
        "colab": {
          "base_uri": "https://localhost:8080/"
        },
        "outputId": "aa2cd18a-baf3-4ca9-85be-0ff73a118137",
        "id": "W1cTcoSxpD_w"
      },
      "execution_count": null,
      "outputs": [
        {
          "output_type": "stream",
          "name": "stdout",
          "text": [
            "True\n",
            "True\n",
            "False\n",
            "False\n"
          ]
        }
      ]
    },
    {
      "cell_type": "markdown",
      "source": [
        "## Reto 609: Temperaturas Récord\n",
        "* Record Temperatures\n",
        "* Se te proporcionan dos listas que contienen datos que representan las temperaturas mínimas y máximas del clima para cada día de la semana.\n",
        "* La lista de récords contiene las temperaturas récord más bajas/altas de todos los tiempos para ese día de la semana.\n",
        "\n",
        "```\n",
        "[[récord mínimo, récord máximo], ...]\n",
        "```\n",
        "\n",
        "* La lista de la semana actual contiene las temperaturas mínimas/máximas diarias para cada día de la semana actual.\n",
        "\n",
        "```\n",
        "[[mínima diaria, máxima diaria], ...]\n",
        "```\n",
        "\n",
        "* Se considera que una temperatura máxima diaria es un nuevo récord máximo si es superior al récord máximo para ese día de la semana. Se considera que una temperatura mínima diaria es un nuevo récord mínimo si es inferior al récord mínimo para ese día de la semana.\n",
        "* Compara las temperaturas mínimas/máximas diarias de la semana actual con los récords mínimos/máximos y devuelve una lista con las temperaturas récord actualizadas.\n",
        "* Puede haber múltiples temperaturas récord en una semana.\n",
        "* Si no se rompen récords, devuelve la lista de récords original.\n",
        "\n",
        "* **Ejemplo**\n",
        "\n",
        "```\n",
        "#             dom       lun      mar        mié      jue       vie       sáb\n",
        "record_temps([[34, 82], [24, 82], [20, 89],  [5, 88],  [9, 88], [26, 89], [27, 83]],\n",
        "            [[44, 72], [19, 70], [40, 69], [39, 68], [33, 64], [36, 70], [38, 69]])\n",
        "\n",
        "➞           [[34, 82], [19, 82], [20, 89], [5, 88], [9, 88], [26, 89], [27, 83]]\n",
        "```\n",
        "\n",
        "El récord mínimo anterior para el lunes era 24. La mínima de la semana actual para el lunes fue 19. Por lo tanto, 19 reemplaza a 24 como el nuevo récord mínimo del lunes.\n",
        "\n",
        "* **Notas**\n",
        "    - El índice 0 siempre será el mínimo y el índice 1 siempre será el máximo `[mínimo, máximo]`.\n",
        "    - Como referencia, estas temperaturas están en °F, pero no necesitas convertir ninguna temperatura."
      ],
      "metadata": {
        "id": "BJTg2V4KpD_w"
      }
    },
    {
      "cell_type": "code",
      "source": [
        "# Método 1\n",
        "def record_temps(records, current_week):\n",
        "    # Iteramos sobre los días de la semana (0-6)\n",
        "    for i in range(7):\n",
        "        # Comparamos la temperatura mínima actual con el récord mínimo\n",
        "        if current_week[i][0] < records[i][0]:\n",
        "            records[i][0] = current_week[i][0]\n",
        "\n",
        "        # Comparamos la temperatura máxima actual con el récord máximo\n",
        "        if current_week[i][1] > records[i][1]:\n",
        "            records[i][1] = current_week[i][1]\n",
        "\n",
        "    return records\n",
        "\n",
        "# Método 2. Usando min y max.\n",
        "def record_temps(records, current_week):\n",
        "    new_records = []\n",
        "    for i in range(len(records)):\n",
        "        new_min = min(records[i][0], current_week[i][0])\n",
        "        new_max = max(records[i][1], current_week[i][1])\n",
        "        new_records.append([new_min, new_max])\n",
        "    return new_records\n",
        "\n",
        "# Método 3. No es necesario crear una nueva lista para los nuevos records\n",
        "def record_temps(records, current_week):\n",
        "    for i in range(len(records)):\n",
        "        records[i][0] = min(records[i][0], current_week[i][0])\n",
        "        records[i][1] = max(records[i][1], current_week[i][1])\n",
        "    return records\n",
        "\n",
        "# Método 4. Usando zip\n",
        "def record_temps(records, current_week):\n",
        "    return [\n",
        "        [min(r[0], c[0]), max(r[1], c[1])]\n",
        "        for r, c in zip(records, current_week)\n",
        "    ]\n",
        "\n",
        "# Método 5. Con un bucle for y operadores ternarios\n",
        "def record_temps(records, current_week):\n",
        "    for i in range(7):\n",
        "        records[i][0] = current_week[i][0] if current_week[i][0] < records[i][0] else records[i][0]\n",
        "        records[i][1] = current_week[i][1] if current_week[i][1] > records[i][1] else records[i][1]\n",
        "    return records"
      ],
      "metadata": {
        "id": "-AWuKx9opD_x"
      },
      "execution_count": null,
      "outputs": []
    },
    {
      "cell_type": "code",
      "source": [
        "# Caso de uso 1\n",
        "records = [[34, 82], [24, 82], [20, 89], [5, 88], [9, 88], [26, 89], [27, 83]]\n",
        "current_week = [[44, 72], [19, 70], [40, 69], [39, 68], [33, 64], [36, 70], [38, 69]]\n",
        "\n",
        "result = record_temps(records, current_week)\n",
        "print(result)   # [[34, 82], [19, 82], [20, 89], [5, 88], [9, 88], [26, 89], [27, 83]]\n",
        "\n",
        "\n",
        "# Caso de uso 2\n",
        "records = [[10, 78], [12, 80], [15, 82], [8, 79], [14, 81], [13, 75], [9, 76]]\n",
        "current_week = [[11, 79], [9, 83], [16, 80], [7, 82], [12, 84], [14, 73], [8, 77]]\n",
        "\n",
        "result = record_temps(records, current_week)\n",
        "print(result)   # [[10, 79], [9, 83], [15, 82], [7, 82], [12, 84], [13, 75], [8, 77]]"
      ],
      "metadata": {
        "colab": {
          "base_uri": "https://localhost:8080/"
        },
        "outputId": "7c4ad2af-35cf-4476-b033-69c8d09d8b28",
        "id": "aDHoapXLpD_x"
      },
      "execution_count": null,
      "outputs": [
        {
          "output_type": "stream",
          "name": "stdout",
          "text": [
            "[[34, 82], [19, 82], [20, 89], [5, 88], [9, 88], [26, 89], [27, 83]]\n",
            "[[10, 79], [9, 83], [15, 82], [7, 82], [12, 84], [13, 75], [8, 77]]\n"
          ]
        }
      ]
    },
    {
      "cell_type": "markdown",
      "source": [
        "## Reto 610: Encuentra las Letras Compartidas entre Dos Cadenas\n",
        "* Find the Shared Letters between Two Strings\n",
        "* Dadas dos cadenas, devuelve una `cadena` que contenga solo las letras compartidas entre las dos.\n",
        "* **Ejemplos**\n",
        "\n",
        "```\n",
        "shared_letters(\"house\", \"home\") ➞ \"eho\"\n",
        "shared_letters(\"Micky\", \"mouse\") ➞ \"m\"\n",
        "shared_letters(\"house\", \"villa\") ➞ \"\"\n",
        "```\n",
        "\n",
        "* **Notas**\n",
        "    - Si ninguna de las letras es compartida, devuelve una cadena vacía.\n",
        "    - La función debe ser **insensible a mayúsculas y minúsculas**, por ejemplo, comparar `A` y `a` debe devolver `a`.\n",
        "    - Ordena la cadena resultante alfabéticamente antes de devolverla.\n"
      ],
      "metadata": {
        "id": "UwFr1z3JpD_x"
      }
    },
    {
      "cell_type": "code",
      "source": [
        "# Método 1\n",
        "def shared_letters(a, b):\n",
        "    conjunto_a = set(a.lower())\n",
        "    conjunto_b = set(b.lower())\n",
        "    return ''.join(sorted(list(conjunto_a.intersection(conjunto_b))))\n",
        "\n",
        "# Método 2\n",
        "def shared_letters(a, b):\n",
        "    # Convertir ambas cadenas a minúsculas y crear conjuntos de caracteres\n",
        "    set_a = set(a.lower())\n",
        "    set_b = set(b.lower())\n",
        "\n",
        "    # Encontrar la intersección de los conjuntos\n",
        "    common_letters = set_a & set_b\n",
        "\n",
        "    # Convertir el conjunto resultante a una lista, ordenarla y unirla en una cadena\n",
        "    return ''.join(sorted(common_letters))\n",
        "\n",
        "# Método 3\n",
        "def shared_letters(a, b):\n",
        "    return ''.join(sorted(set(a.lower()) & set(b.lower())))\n",
        "\n",
        "# Método 4\n",
        "def shared_letters(a, b):\n",
        "    # Convertir ambas cadenas a minúsculas\n",
        "    a, b = a.lower(), b.lower()\n",
        "\n",
        "    # Usar comprensión de listas para encontrar letras comunes\n",
        "    common = [char for char in set(a) if char in b]\n",
        "\n",
        "    # Ordenar y unir las letras comunes\n",
        "    return ''.join(sorted(common))\n",
        "\n",
        "# Método 5\n",
        "def shared_letters(a, b):\n",
        "    # Convertir ambas cadenas a minúsculas\n",
        "    a, b = a.lower(), b.lower()\n",
        "\n",
        "    # Usar comprensión de lista para encontrar letras compartidas\n",
        "    shared = [w for w in set(a) if w in b]\n",
        "\n",
        "    # Ordenar y unir las letras compartidas\n",
        "    return ''.join(sorted(shared))\n"
      ],
      "metadata": {
        "id": "xuFuP47BpD_x"
      },
      "execution_count": null,
      "outputs": []
    },
    {
      "cell_type": "code",
      "source": [
        "print(shared_letters(\"house\", \"home\"))          # eho\n",
        "print(shared_letters(\"Micky\", \"mouse\"))         # m\n",
        "print(shared_letters(\"house\", \"villa\"))         # \"\"\n",
        "print(shared_letters(\"Python\", \"JavaScript\"))   # pt\n",
        "print(shared_letters(\"Algoritmo\", \"Logaritmo\")) # agilmort"
      ],
      "metadata": {
        "colab": {
          "base_uri": "https://localhost:8080/"
        },
        "outputId": "469d306c-23e1-4563-fa94-2d783c21626b",
        "id": "bxXJhg6TpD_x"
      },
      "execution_count": null,
      "outputs": [
        {
          "output_type": "stream",
          "name": "stdout",
          "text": [
            "eho\n",
            "m\n",
            "\n",
            "pt\n",
            "agilmort\n"
          ]
        }
      ]
    },
    {
      "cell_type": "markdown",
      "source": [
        "## Reto 611: Encontrando Elementos Comunes\n",
        "* Finding Common Elements\n",
        "* Crea una función que tome dos listas de números ordenadas de forma ascendente y devuelva una lista de números que sean comunes a ambas listas de entrada.\n",
        "\n",
        "* **Ejemplos**\n",
        "\n",
        "```\n",
        "common_elements([-1, 3, 4, 6, 7, 9], [1, 3]) ➞ [3]\n",
        "common_elements([1, 3, 4, 6, 7, 9], [1, 2, 3, 4, 7, 10]) ➞ [1, 3, 4, 7]\n",
        "common_elements([1, 2, 2, 2, 3, 4, 5], [1, 2, 4, 5]) ➞ [1, 2, 4, 5]\n",
        "common_elements([1, 2, 3, 4, 5], [10, 12, 13, 15]) ➞ []\n",
        "```\n",
        "\n",
        "* **Notas**\n",
        "    - Las listas están ordenadas.\n",
        "    - Intenta resolver este problema con una complejidad temporal de O(n + m)."
      ],
      "metadata": {
        "id": "e1BDuBpfpD_x"
      }
    },
    {
      "cell_type": "code",
      "source": [
        "# Método 1. Al usar un for y al usar un in la complejidad temporal es O(n * m)\n",
        "def common_elements(lst1, lst2):\n",
        "    return [item for item in set(lst1) if item in lst2]\n",
        "\n",
        "# Método 2. Complejidad O(n + m)\n",
        "def common_elements(lst1, lst2):\n",
        "    result = []\n",
        "    i, j = 0, 0\n",
        "\n",
        "    while i < len(lst1) and j < len(lst2):\n",
        "        if lst1[i] == lst2[j]:\n",
        "            # Si los elementos son iguales, añadimos a la lista resultado\n",
        "            if not result or result[-1] != lst1[i]:  # Evitamos duplicados\n",
        "                result.append(lst1[i])\n",
        "            i += 1\n",
        "            j += 1\n",
        "        elif lst1[i] < lst2[j]:\n",
        "            i += 1\n",
        "        else:\n",
        "            j += 1\n",
        "\n",
        "    return result\n",
        "\n",
        "# Método 3. Complejidad O(n + m + k log k)\n",
        "def common_elements(list1, list2):\n",
        "    # Convertir las listas en conjuntos y luego encontrar la intersección\n",
        "    common_set = set(list1) & set(list2)\n",
        "    # Convertir el conjunto resultante en una lista ordenada\n",
        "    return sorted(common_set)"
      ],
      "metadata": {
        "id": "AuMQkK_9pD_x"
      },
      "execution_count": null,
      "outputs": []
    },
    {
      "cell_type": "code",
      "source": [
        "print(common_elements([-1, 3, 4, 6, 7, 9], [1, 3]))             # [3]\n",
        "print(common_elements([1, 3, 4, 6, 7, 9], [1, 2, 3, 4, 7, 10])) # [1, 3, 4, 7]\n",
        "print(common_elements([1, 2, 2, 2, 3, 4, 5], [1, 2, 4, 5]))     # [1, 2, 4, 5]\n",
        "print(common_elements([1, 2, 3, 4, 5], [10, 12, 13, 15]))       # []\n",
        "print(common_elements([-9223372036854775808, 1, 2, 4, 6, 7, 9, 9223372036854775807], [1, 3, 9223372036854775807]))  # [[1, 9223372036854775807]"
      ],
      "metadata": {
        "colab": {
          "base_uri": "https://localhost:8080/"
        },
        "outputId": "6eafdc35-2e03-4235-acab-25da58288b92",
        "id": "Xv7C2WGrpD_x"
      },
      "execution_count": null,
      "outputs": [
        {
          "output_type": "stream",
          "name": "stdout",
          "text": [
            "[3]\n",
            "[1, 3, 4, 7]\n",
            "[1, 2, 4, 5]\n",
            "[]\n",
            "[1, 9223372036854775807]\n"
          ]
        }
      ]
    },
    {
      "cell_type": "markdown",
      "source": [
        "## Reto 612: Piedra, Papel, Tijeras\n",
        "* Rock, Paper, Scissors\n",
        "* Crea una función que tome dos cadenas (`p1` y `p2` ⁠— que representan al jugador 1 y 2) como argumentos y devuelva una cadena indicando el ganador en un juego de *Piedra, Papel, Tijeras*.\n",
        "* Cada argumento contendrá una sola cadena: `\"Rock\"`, `\"Paper\"`, o `\"Scissors\"`. Devuelve el ganador según las siguientes reglas:\n",
        "1. **Piedra** vence a **Tijeras**\n",
        "2. **Tijeras** vence a **Papel**\n",
        "3. **Papel** vence a **Piedra**\n",
        "Si `p1` gana, devuelve la cadena `\"The winner is p1\"`. Si `p2` gana, devuelve la cadena `\"The winner is p2\"` y si `p1` y `p2` son iguales, devuelve `\"It's a draw\"`.\n",
        "* **Ejemplos**\n",
        "\n",
        "```\n",
        "rps(\"Rock\", \"Paper\") ➞ \"The winner is p2\"\n",
        "rps(\"Scissors\", \"Paper\") ➞ \"The winner is p1\"\n",
        "rps(\"Paper\", \"Paper\") ➞ \"It's a draw\"\n",
        "```\n",
        "\n",
        "* **Notas**\n",
        "    - Todas las entradas serán cadenas válidas."
      ],
      "metadata": {
        "id": "NiottulIpD_x"
      }
    },
    {
      "cell_type": "code",
      "source": [
        "# Método 1\n",
        "def rps(p1, p2):\n",
        "    if p1 == p2:\n",
        "        return \"It's a draw\"\n",
        "\n",
        "    wins = {\n",
        "        \"Rock\": \"Scissors\",\n",
        "        \"Scissors\": \"Paper\",\n",
        "        \"Paper\": \"Rock\"\n",
        "    }\n",
        "\n",
        "    if wins[p1] == p2:\n",
        "        return \"The winner is p1\"\n",
        "    else:\n",
        "        return \"The winner is p2\"\n",
        "\n",
        "# Método 2\n",
        "def rps(p1, p2):\n",
        "    if p1 == p2:\n",
        "        return \"It's a draw\"\n",
        "\n",
        "    gana = ['Rock', 'Paper', 'Scissors']\n",
        "    pierde = ['Scissors', 'Rock', 'Paper']\n",
        "\n",
        "    for x, y in zip(gana, pierde):\n",
        "        if p1 == x and p2 == y:\n",
        "            return \"The winner is p1\"\n",
        "        elif p2 == x and p1 == y:\n",
        "            return \"The winner is p2\"\n",
        "\n",
        "# Método 3. Utiliza un conjunto para las combinaciones ganadoras\n",
        "def rps(p1, p2):\n",
        "    wins = {('Rock', 'Scissors'), ('Paper', 'Rock'), ('Scissors', 'Paper')} # set\n",
        "    if p1 == p2:\n",
        "        return \"It's a draw\"\n",
        "    return f\"The winner is {'p1' if (p1, p2) in wins else 'p2'}\""
      ],
      "metadata": {
        "id": "CfdSDfmYpD_x"
      },
      "execution_count": null,
      "outputs": []
    },
    {
      "cell_type": "code",
      "source": [
        "print(rps(\"Paper\", \"Paper\"))        # It's a draw\n",
        "print(rps(\"Paper\", \"Rock\"))         # The winner is p1\n",
        "print(rps(\"Paper\", \"Scissors\"))     # The winner is p2\n",
        "print()\n",
        "print(rps(\"Rock\", \"Rock\"))          # It's a draw\n",
        "print(rps(\"Rock\", \"Scissors\"))      # The winner is p1\n",
        "print(rps(\"Rock\", \"Paper\" ))        # The winner is p2\n",
        "print()\n",
        "print(rps(\"Scissors\", \"Scissors\"))  # It's a draw\n",
        "print(rps(\"Scissors\", \"Paper\"))     # The winner is p1\n",
        "print(rps(\"Scissors\", \"Rock\"))      # The winner is p2"
      ],
      "metadata": {
        "colab": {
          "base_uri": "https://localhost:8080/"
        },
        "outputId": "04ae547c-ad2e-4a9f-b8ec-a5acaf556a06",
        "id": "30zkAgn8pD_x"
      },
      "execution_count": null,
      "outputs": [
        {
          "output_type": "stream",
          "name": "stdout",
          "text": [
            "It's a draw\n",
            "The winner is p1\n",
            "The winner is p2\n",
            "\n",
            "It's a draw\n",
            "The winner is p1\n",
            "The winner is p2\n",
            "\n",
            "It's a draw\n",
            "The winner is p1\n",
            "The winner is p2\n"
          ]
        }
      ]
    },
    {
      "cell_type": "markdown",
      "source": [
        "## Reto 613: Solo letras\n",
        "* Letters Only\n",
        "* Comprueba si la cadena dada consta solo de letras y espacios y si cada letra está en minúsculas.\n",
        "\n",
        "* **Ejemplos**\n",
        "\n",
        "````\n",
        "letters_only(\"PYTHON\") ➞ False\n",
        "\n",
        "letters_only(\"python\") ➞ True\n",
        "\n",
        "letters_only(\"12321313\") ➞ False\n",
        "\n",
        "letters_only(\"i have spaces\") ➞ True\n",
        "\n",
        "letters_only(\"i have numbers(1-10)\") ➞ False\n",
        "\n",
        "letters_only(\"\") ➞ False\n",
        "````\n",
        "* **Notas**\n",
        "    - Los argumentos vacíos siempre devolverán `False`.\n",
        "    - Los valores de entrada se mezclarán (símbolos, letras, números)."
      ],
      "metadata": {
        "id": "8aQ5yO0apD_x"
      }
    },
    {
      "cell_type": "code",
      "source": [
        "# Método 1\n",
        "def letters_only(s):\n",
        "    if not s:\n",
        "        return False\n",
        "    return all(c.islower() or c == \" \" for c in s)\n",
        "\n",
        "# Método 2\n",
        "def letters_only(s):\n",
        "    return bool(s) and set(s).issubset(set(\"abcdefghijklmnopqrstuvwxyz \"))\n",
        "    # bool(s) se asegura de que la cadena no esté vacía\n",
        "\n",
        "# Método 3.\n",
        "def letters_only(s):\n",
        "    return bool(s) and all(c.islower() or c.isspace() for c in s)\n",
        "\n",
        "# Método 4. Usando una expresión regular\n",
        "import re\n",
        "\n",
        "def letters_only(s):\n",
        "    return bool(re.fullmatch(r\"[a-z ]+\", s))"
      ],
      "metadata": {
        "id": "AasNfmTApD_x"
      },
      "execution_count": null,
      "outputs": []
    },
    {
      "cell_type": "code",
      "source": [
        "print(letters_only(\"python\"))               # True\n",
        "print(letters_only(\"i have spaces\"))        # True\n",
        "print(letters_only(\"PYTHON\"))               # False\n",
        "print(letters_only(\"12321313\"))             # False\n",
        "print(letters_only(\"i have numbers(1-10)\")) # False\n",
        "print(letters_only(\"\"))                     # False"
      ],
      "metadata": {
        "id": "uT1iUJo0pD_x",
        "colab": {
          "base_uri": "https://localhost:8080/"
        },
        "outputId": "9cf5b264-70ab-4d5f-aff1-c3d52f0fed9e"
      },
      "execution_count": null,
      "outputs": [
        {
          "output_type": "stream",
          "name": "stdout",
          "text": [
            "True\n",
            "True\n",
            "False\n",
            "False\n",
            "False\n",
            "False\n"
          ]
        }
      ]
    },
    {
      "cell_type": "markdown",
      "source": [
        "## Reto 614: Capacidad de transporte lleno de gente\n",
        "* Crowded Carriage Capacity\n",
        "* Un tren tiene una capacidad máxima de `n` pasajeros en total, lo que significa que la capacidad de cada vagón compartirá una proporción igual de la capacidad máxima.\n",
        "* Cree una función que devuelva el índice del primer vagón que tenga el 50% o menos de su capacidad máxima. Si no existe tal transporte, devuelve -1.\n",
        "* Ejemplo resuelto:\n",
        "\n",
        "```\n",
        "find_a_seat(200, [35, 23, 18, 10, 40]) ➞ 2\n",
        "\n",
        "#Hay 5 vagones y cada uno tiene una capacidad máxima de 40 personas (200/5 = 40).\n",
        "#El vagón del índice 0 está demasiado lleno (35 es el 87,5% del máximo).\n",
        "#El vagón del índice 1 está demasiado lleno (23 es el 57,5% del máximo).\n",
        "#El vagón del índice 2 es adecuado (18 es el 45% del máximo).\n",
        "#Retorna 2.\n",
        "```\n",
        "\n",
        "* **Ejemplos**\n",
        "\n",
        "````\n",
        "find_a_seat(20, [3, 5, 4, 2]) ➞ 3\n",
        "\n",
        "find_a_seat(1000, [50, 20, 80, 90, 100, 60, 30, 50, 80, 60]) ➞ 0\n",
        "\n",
        "find_a_seat(200, [35, 23, 40, 21, 38]) ➞ -1\n",
        "````\n",
        "\n",
        "* **Notas**\n",
        "    - Esto significa que si un tren tiene capacidad para 200 pasajeros y tiene 5 vagones, entonces eso significa que cada vagón puede albergar un máximo de 40 pasajeros cada uno.\n",
        "    - Todos los números de tren serán números enteros positivos, que podrán dividirse uniformemente.\n",
        "    - Recuerde devolver -1 si ningún vagón está lo suficientemente vacío.\n"
      ],
      "metadata": {
        "id": "lrNNOlP-JiXa"
      }
    },
    {
      "cell_type": "code",
      "source": [
        "# Método 1\n",
        "def find_a_seat(n, tren):\n",
        "    capacidad = n / len(tren)\n",
        "    for i, vagon in enumerate(tren):\n",
        "        if vagon <= capacidad / 2:\n",
        "            return i\n",
        "    return -1\n",
        "\n",
        "# Método 2\n",
        "def find_a_seat(n, tren):\n",
        "    capacidad = n // len(tren)\n",
        "    return next((i for i, vagon in enumerate(tren) if vagon <= 0.5 * capacidad), -1)\n",
        "\n",
        "# next() aplicado a un generador retorna el primer índice que cumple la condición.\n",
        "# Si no se encuentra, next() retorna -1.\n",
        "\n",
        "# Método 3. Usando index primero necesitamos filtrar la lista\n",
        "def find_a_seat(n, tren):\n",
        "    capacidad = n // len(tren)\n",
        "\n",
        "    # Crear una lista con los valores que cumplen la condición\n",
        "    filtered = [count for count in tren if count <= 0.5 * capacidad]\n",
        "\n",
        "    # Si no hay ningún valor que cumpla la condición, devolvemos -1\n",
        "    if not filtered:\n",
        "        return -1\n",
        "\n",
        "    # Usar index para encontrar la primera ocurrencia\n",
        "    return tren.index(filtered[0])"
      ],
      "metadata": {
        "id": "VO3qvfbFJiXa"
      },
      "execution_count": null,
      "outputs": []
    },
    {
      "cell_type": "code",
      "source": [
        "print(find_a_seat(20, [3, 5, 4, 2]))                                # 3\n",
        "print(find_a_seat(1000, [50, 20, 80, 90, 100, 60, 30, 50, 80, 60])) # 0\n",
        "print(find_a_seat(200, [35, 23, 40, 21, 38]))                       # -1\n",
        "print(find_a_seat(200, [35, 23, 18, 10, 40]))                       # 2"
      ],
      "metadata": {
        "id": "z78D6PDZJiXb",
        "colab": {
          "base_uri": "https://localhost:8080/"
        },
        "outputId": "48bc3af2-12a2-40a6-e9a4-936e1f14cb65"
      },
      "execution_count": null,
      "outputs": [
        {
          "output_type": "stream",
          "name": "stdout",
          "text": [
            "3\n",
            "0\n",
            "-1\n",
            "2\n"
          ]
        }
      ]
    },
    {
      "cell_type": "markdown",
      "source": [
        "## Reto 615: Detección de colisión circular simple\n",
        "* Simple Circle Collision Detection\n",
        "* Cree una función que devuelva `True` si los círculos dados se cruzan; de lo contrario, devuelva `False`.\n",
        "* Los círculos se presentan como dos listas que contienen los valores en el siguiente orden:\n",
        "    1. Radio del círculo.\n",
        "    2. Posición central en el eje x.\n",
        "    3. Posición central en el eje y.\n",
        "\n",
        "* **Ejemplos**\n",
        "\n",
        "````\n",
        "is_circle_collision([10, 0, 0], [10, 10, 10]) ➞ True\n",
        "\n",
        "is_circle_collision([1, 0, 0], [1, 10, 10]) ➞ False\n",
        "````\n",
        "\n",
        "* **Notas**\n",
        "    - Puede esperar entradas utilizables y radios positivos.\n",
        "    - Las coordenadas dadas son los centros de los círculos.\n",
        "    - Buscamos áreas de intersección, no contornos de intersección.\n"
      ],
      "metadata": {
        "id": "ycO-Ex-YJidx"
      }
    },
    {
      "cell_type": "code",
      "source": [
        "# Método 1\n",
        "def is_circle_collision(circle1, circle2):\n",
        "    r1, x1, y1 = circle1\n",
        "    r2, x2, y2 = circle2\n",
        "    distancia = ((x1 - x2) ** 2 + (y1 - y2) ** 2 ) ** .5\n",
        "    return r1 + r2 > distancia\n",
        "\n",
        "# Método 2\n",
        "import math\n",
        "\n",
        "def is_circle_collision(circle1, circle2):\n",
        "    radius1, x1, y1 = circle1\n",
        "    radius2, x2, y2 = circle2\n",
        "\n",
        "    # Calcula la distancia entre los dos centros de los círculos\n",
        "    distance_between_centers = math.sqrt((x2 - x1)**2 + (y2 - y1)**2)\n",
        "\n",
        "    # Compara la distancia con la suma de los radios\n",
        "    return distance_between_centers < (radius1 + radius2)"
      ],
      "metadata": {
        "id": "MRpSbTHNJidx"
      },
      "execution_count": null,
      "outputs": []
    },
    {
      "cell_type": "code",
      "source": [
        "print(is_circle_collision([10, 0, 0], [10, 10, 10]))  # True\n",
        "print(is_circle_collision([1, 0, 0], [1, 10, 10]))    # False\n",
        "print(is_circle_collision([4, 0, 0], [6, 0, 10]))     # False (círculos tangentes)"
      ],
      "metadata": {
        "id": "DFQylYc9Jidx",
        "colab": {
          "base_uri": "https://localhost:8080/"
        },
        "outputId": "439fa0aa-eb75-426b-caec-668ace923ea2"
      },
      "execution_count": null,
      "outputs": [
        {
          "output_type": "stream",
          "name": "stdout",
          "text": [
            "True\n",
            "False\n",
            "True\n"
          ]
        }
      ]
    },
    {
      "cell_type": "markdown",
      "source": [
        "## Reto 616: Intensidad de Explosión\n",
        "* Explosion Intensity\n",
        "* Dado un número, devuelve una cadena de la palabra `\"Boom\"`, que varía de las siguientes maneras:\n",
        "\n",
        "    1. La cadena debe incluir `n` número de \"o\"s, a menos que `n` sea menor que 2 (en ese caso, devuelve `\"boom\"`).\n",
        "    2. Si `n` es *divisible por 2*, añade un signo de exclamación al final.\n",
        "    3. Si `n` es *divisible por 5*, devuelve la cadena en *MAYÚSCULAS*.\n",
        "\n",
        "* **Ejemplos**\n",
        "\n",
        "```\n",
        "boom_intensity(4) ➞ \"Boooom!\"\n",
        "# Hay 4 \"o\"s y 4 es divisible por 2 (signo de exclamación incluido)\n",
        "\n",
        "boom_intensity(1) ➞ \"boom\"\n",
        "# 1 es menor que 2, así que devolvemos \"boom\"\n",
        "\n",
        "boom_intensity(5) ➞ \"BOOOOOM\"\n",
        "# Hay 5 \"o\"s y 5 es divisible por 5 (todo en mayúsculas)\n",
        "\n",
        "boom_intensity(10) ➞ \"BOOOOOOOOOOM!\"\n",
        "# Hay 10 \"o\"s y 10 es divisible por 2 y 5 (todo en mayúsculas y signo de exclamación incluido)\n",
        "```\n",
        "\n",
        "* **Notas**\n",
        "    - Un número que es divisible por 2 **y** 5 tendrá ambos efectos aplicados (ver ejemplo #4).\n",
        "    - `\"Boom\"` siempre comenzará con una \"B\" mayúscula, excepto cuando `n` es *menor que 2*, entonces devuelve una explosión en miniatura como `\"boom\"`."
      ],
      "metadata": {
        "id": "ehhGeKWDJikh"
      }
    },
    {
      "cell_type": "code",
      "source": [
        "# Método 1\n",
        "def boom_intensity(n):\n",
        "    if n < 2:\n",
        "        return \"boom\"\n",
        "    texto = \"B\" + \"o\" * n + \"m\"\n",
        "    if n % 2 == 0:\n",
        "        texto += \"!\"\n",
        "    if n % 5 == 0:\n",
        "        texto = texto.upper()\n",
        "    return texto\n",
        "\n",
        "# Método 2\n",
        "def boom_intensity(n):\n",
        "    if n < 2:\n",
        "        return \"boom\"\n",
        "\n",
        "    boom = \"B\" + \"o\" * n + \"m\"\n",
        "\n",
        "    if n % 5 == 0:\n",
        "        boom = boom.upper()\n",
        "\n",
        "    if n % 2 == 0:\n",
        "        boom += \"!\"\n",
        "\n",
        "    return boom\n",
        "\n",
        "# Método 3\n",
        "def boom_intensity(n):\n",
        "    # Caso especial cuando n es menor que 2\n",
        "    if n < 2:\n",
        "        return \"boom\"\n",
        "\n",
        "    # Construcción básica de la palabra \"Boom\" con n 'o's\n",
        "    boom = f\"B{'o' * n}m\"\n",
        "\n",
        "    # Si es divisible entre 5, convertir a mayúsculas\n",
        "    if n % 5 == 0:\n",
        "        boom = boom.upper()\n",
        "\n",
        "    # Si es divisible entre 2, añadir el signo de exclamación\n",
        "    if n % 2 == 0:\n",
        "        boom += \"!\"\n",
        "\n",
        "    return boom"
      ],
      "metadata": {
        "id": "OfPkm7hhJikh"
      },
      "execution_count": null,
      "outputs": []
    },
    {
      "cell_type": "code",
      "source": [
        "print(boom_intensity(4))    # Boooom!\n",
        "print(boom_intensity(1))    # boom\n",
        "print(boom_intensity(5))    # BOOOOOM\n",
        "print(boom_intensity(10))   # BOOOOOOOOOOM!\n",
        "print(boom_intensity(3))    # Booom"
      ],
      "metadata": {
        "id": "HwIGf1QRJikh",
        "colab": {
          "base_uri": "https://localhost:8080/"
        },
        "outputId": "f933622d-35ce-4cb3-e989-2c3fc322e0af"
      },
      "execution_count": null,
      "outputs": [
        {
          "output_type": "stream",
          "name": "stdout",
          "text": [
            "Boooom!\n",
            "boom\n",
            "BOOOOOM\n",
            "BOOOOOOOOOOM!\n",
            "Booom\n"
          ]
        }
      ]
    },
    {
      "cell_type": "markdown",
      "source": [
        "## Reto 617: Porcentaje Cambiado\n",
        "* Percentage Changed\n",
        "* Crea una función que tome un precio antiguo `old`, un precio nuevo `new`, y devuelva en qué porcentaje el precio disminuyó o aumentó.\n",
        "* Redondea el porcentaje al porcentaje entero más cercano.\n",
        "\n",
        "* **Ejemplos**\n",
        "\n",
        "```\n",
        "percentage_changed(\"$800\", \"$600\") ➞ \"25% decrease\"\n",
        "percentage_changed(\"$1000\", \"$840\") ➞ \"16% decrease\"\n",
        "percentage_changed(\"$100\", \"$950\") ➞ \"850% increase\"\n",
        "percentage_changed(\"$100\", \"$100\") ➞ \"0% no change\"\n",
        "```"
      ],
      "metadata": {
        "id": "0GDmptduJire"
      }
    },
    {
      "cell_type": "code",
      "source": [
        "# Método 1\n",
        "def percentage_changed(old, new):\n",
        "    old = int(old[1:])\n",
        "    new = int(new[1:])\n",
        "    var = new / old - 1     # variación en tanto por uno\n",
        "    return f'{var:.0%} increase' if var > 0 else f'{-var:.0%} decrease' if var != 0 else '0% no change'\n",
        "\n",
        "# Método 2\n",
        "def percentage_changed(old, new):\n",
        "    # Elimina los símbolos de dólar y convierte a enteros\n",
        "    old_price = int(old.replace('$', ''))\n",
        "    new_price = int(new.replace('$', ''))\n",
        "\n",
        "    # Si los precios son iguales, no hay cambio\n",
        "    if old_price == new_price:\n",
        "        return \"0% no change\"\n",
        "\n",
        "    # Calcula el porcentaje de cambio\n",
        "    change = ((new_price - old_price) / old_price) * 100\n",
        "\n",
        "    # Redondea al entero más cercano\n",
        "    change = round(change)\n",
        "\n",
        "    # Determina si es un aumento o una disminución\n",
        "    if change > 0:\n",
        "        return f\"{change}% increase\"\n",
        "    else:\n",
        "        return f\"{abs(change)}% decrease\""
      ],
      "metadata": {
        "id": "rKvCpyIyJirf"
      },
      "execution_count": 21,
      "outputs": []
    },
    {
      "cell_type": "code",
      "source": [
        "print(percentage_changed(\"$800\", \"$600\"))\n",
        "print(percentage_changed(\"$1000\", \"$840\"))\n",
        "print(percentage_changed(\"$100\", \"$950\"))\n",
        "print(percentage_changed(\"$100\", \"$100\"))"
      ],
      "metadata": {
        "id": "6TTBafGzJirf",
        "colab": {
          "base_uri": "https://localhost:8080/"
        },
        "outputId": "0feb42c6-ea73-4ecb-bc97-c9abeb9b9e5e"
      },
      "execution_count": 22,
      "outputs": [
        {
          "output_type": "stream",
          "name": "stdout",
          "text": [
            "25% decrease\n",
            "16% decrease\n",
            "850% increase\n",
            "0% no change\n"
          ]
        }
      ]
    },
    {
      "cell_type": "markdown",
      "source": [
        "## Reto 618: Extender las Vocales\n",
        "* Extend the Vowels\n",
        "* Crea una función que tome una palabra `word` y extienda todas las vocales por un número `num`.\n",
        "\n",
        "* **Ejemplos**\n",
        "\n",
        "```\n",
        "extend_vowels(\"Hola\", 5) ➞ \"Hoooooolaaaaaa\"\n",
        "\n",
        "extend_vowels(\"Eva\", 3) ➞ \"EEEEvaaaa\"\n",
        "\n",
        "extend_vowels(\"Extender\", 0) ➞ \"Extender\"\n",
        "\n",
        "extend_vowels(\"Hola\", 1.5) ➞ \"invalid\"\n",
        "```\n",
        "\n",
        "* **Notas**\n",
        "    - Devuelve `\"invalid\"` si `num` no es un entero positivo o 0."
      ],
      "metadata": {
        "id": "OREc2pvsJizQ"
      }
    },
    {
      "cell_type": "code",
      "source": [
        "# Método 1\n",
        "def extend_vowels(word, num):\n",
        "    vocales = 'AEIOUaeiou'\n",
        "    if type(num) is not int or num < 0:\n",
        "        return \"invalid\"\n",
        "    lista = ''.join(c*(num+1) if c in vocales else c for c in word)\n",
        "    return lista\n",
        "\n",
        "# Método 2\n",
        "def extend_vowels(word, num):\n",
        "    # Verificar si num es un entero no negativo\n",
        "    if not isinstance(num, int) or num < 0:\n",
        "        return \"invalid\"\n",
        "\n",
        "    # Definir las vocales\n",
        "    vowels = 'aeiouAEIOU'\n",
        "\n",
        "    # Función auxiliar para extender una letra si es vocal\n",
        "    def extend(letter):\n",
        "        return letter + letter * num if letter in vowels else letter\n",
        "\n",
        "    # Aplicar la extensión a cada letra y unir el resultado\n",
        "    return ''.join(extend(letter) for letter in word)\n",
        "\n",
        "# Método 3\n",
        "def extend_vowels(word, num):\n",
        "    # Verifica si 'num' es un entero no negativo\n",
        "    if not isinstance(num, int) or num < 0:\n",
        "        return \"invalid\"\n",
        "\n",
        "    # Define las vocales\n",
        "    vowels = \"aeiou\"\n",
        "\n",
        "    # Resultado donde se irá construyendo la palabra\n",
        "    result = \"\"\n",
        "\n",
        "    # Itera a través de cada letra de la palabra\n",
        "    for char in word:\n",
        "        if char.lower() in vowels:  # Si la letra es una vocal\n",
        "            result += char * (num + 1)  # Extiende la vocal\n",
        "        else:\n",
        "            result += char  # No es vocal, se deja como está\n",
        "\n",
        "    return result\n",
        "\n",
        "# Método 4. Usando programación funcional con map\n",
        "def extend_vowels(word, num):\n",
        "    # Verifica si 'num' es un entero no negativo\n",
        "    if not isinstance(num, int) or num < 0:\n",
        "        return \"invalid\"\n",
        "\n",
        "    # Define las vocales\n",
        "    vowels = \"AEIOUaeiou\"\n",
        "\n",
        "    # Usamos map para aplicar una función a cada carácter de la palabra\n",
        "    extended_word = map(lambda char: char * (num + 1) if char in vowels else char, word)\n",
        "\n",
        "    # Unimos el resultado en una cadena\n",
        "    return ''.join(extended_word)"
      ],
      "metadata": {
        "id": "ji6pXwB_JizQ"
      },
      "execution_count": 54,
      "outputs": []
    },
    {
      "cell_type": "code",
      "source": [
        "print(extend_vowels(\"Hola\", 5))     # Hoooooolaaaaaa\n",
        "print(extend_vowels(\"Eva\", 3))      # EEEEvaaaa\n",
        "print(extend_vowels(\"Extender\", 0)) # Extender\n",
        "print(extend_vowels(\"Hola\", 1.5))    # invalid"
      ],
      "metadata": {
        "id": "MandhIWDJizQ",
        "colab": {
          "base_uri": "https://localhost:8080/"
        },
        "outputId": "811abcdd-9306-4d01-b770-eaae2affe6a2"
      },
      "execution_count": 53,
      "outputs": [
        {
          "output_type": "stream",
          "name": "stdout",
          "text": [
            "Hoooooolaaaaaa\n",
            "EEEEvaaaa\n",
            "Extender\n",
            "invalid\n"
          ]
        }
      ]
    },
    {
      "cell_type": "markdown",
      "source": [
        "## Reto 619: Reemplazar Letras Con su Posición En El Alfabeto\n",
        "* Replace Letters With Position In Alphabet\n",
        "* Crea una función que tome una cadena y reemplace cada letra con su posición correspondiente en el alfabeto. \"a\" es 1, \"b\" es 2, \"c\" es 3, etc, etc.\n",
        "\n",
        "* **Ejemplos**\n",
        "\n",
        "```\n",
        "alphabet_index(\"Wow, does that work?\")\n",
        "➞ \"23 15 23 4 15 5 19 20 8 1 20 23 15 18 11\"\n",
        "\n",
        "alphabet_index(\"The river stole the gods.\")\n",
        "➞ \"20 8 5 18 9 22 5 18 19 20 15 12 5 20 8 5 7 15 4 19\"\n",
        "\n",
        "alphabet_index(\"We have a lot of rain in June.\")\n",
        "➞ \"23 5 8 1 22 5 1 12 15 20 15 6 18 1 9 14 9 14 10 21 14 5\"\n",
        "```\n",
        "\n",
        "* **Notas**\n",
        "    - Si algún carácter en la cadena no es una letra, ignóralo.\n",
        "    - Devuelve los números como una cadena separada por espacios simples."
      ],
      "metadata": {
        "id": "Oi9n-QcnJi6p"
      }
    },
    {
      "cell_type": "code",
      "source": [
        "# Método 1\n",
        "def alphabet_index(txt):"
      ],
      "metadata": {
        "id": "bCqNGG_CJi6p"
      },
      "execution_count": null,
      "outputs": []
    },
    {
      "cell_type": "code",
      "source": [
        "print()\n",
        "print()\n",
        "print()\n",
        "print()"
      ],
      "metadata": {
        "id": "cSYaASFsJi6p"
      },
      "execution_count": null,
      "outputs": []
    },
    {
      "cell_type": "markdown",
      "source": [
        "## Reto 620:"
      ],
      "metadata": {
        "id": "VqOAz1qjJjCA"
      }
    },
    {
      "cell_type": "code",
      "source": [
        "# Método 1\n",
        "def :\n",
        "    pass"
      ],
      "metadata": {
        "id": "BNAqtMkcJjCA"
      },
      "execution_count": null,
      "outputs": []
    },
    {
      "cell_type": "code",
      "source": [
        "print()\n",
        "print()\n",
        "print()\n",
        "print()"
      ],
      "metadata": {
        "id": "bJXQH_CLJjCB"
      },
      "execution_count": null,
      "outputs": []
    },
    {
      "cell_type": "markdown",
      "source": [
        "## Reto 621:"
      ],
      "metadata": {
        "id": "PNPUFnt8J3hD"
      }
    },
    {
      "cell_type": "code",
      "source": [
        "# Método 1\n",
        "def :\n",
        "    pass"
      ],
      "metadata": {
        "id": "Ti8YQt1xJ3hE"
      },
      "execution_count": null,
      "outputs": []
    },
    {
      "cell_type": "code",
      "source": [
        "print()\n",
        "print()\n",
        "print()\n",
        "print()"
      ],
      "metadata": {
        "id": "N__ZeOW6J3hE"
      },
      "execution_count": null,
      "outputs": []
    },
    {
      "cell_type": "markdown",
      "source": [
        "## Reto 622:"
      ],
      "metadata": {
        "id": "XWjJweTLJ38J"
      }
    },
    {
      "cell_type": "code",
      "source": [
        "# Método 1\n",
        "def :\n",
        "    pass"
      ],
      "metadata": {
        "id": "7QTbKucHJ38K"
      },
      "execution_count": null,
      "outputs": []
    },
    {
      "cell_type": "code",
      "source": [
        "print()\n",
        "print()\n",
        "print()\n",
        "print()"
      ],
      "metadata": {
        "id": "-er8xjzyJ38K"
      },
      "execution_count": null,
      "outputs": []
    },
    {
      "cell_type": "markdown",
      "source": [
        "## Reto 623:"
      ],
      "metadata": {
        "id": "cNH9ZpeOJ4DH"
      }
    },
    {
      "cell_type": "code",
      "source": [
        "# Método 1\n",
        "def :\n",
        "    pass"
      ],
      "metadata": {
        "id": "Y2rDnQu6J4DH"
      },
      "execution_count": null,
      "outputs": []
    },
    {
      "cell_type": "code",
      "source": [
        "print()\n",
        "print()\n",
        "print()\n",
        "print()"
      ],
      "metadata": {
        "id": "icsPyDetJ4DH"
      },
      "execution_count": null,
      "outputs": []
    },
    {
      "cell_type": "markdown",
      "source": [
        "## Reto 624:"
      ],
      "metadata": {
        "id": "T5RJifTGJ4KH"
      }
    },
    {
      "cell_type": "code",
      "source": [
        "# Método 1\n",
        "def :\n",
        "    pass"
      ],
      "metadata": {
        "id": "dH3WyMViJ4KH"
      },
      "execution_count": null,
      "outputs": []
    },
    {
      "cell_type": "code",
      "source": [
        "print()\n",
        "print()\n",
        "print()\n",
        "print()"
      ],
      "metadata": {
        "id": "gYM_q5FvJ4KH"
      },
      "execution_count": null,
      "outputs": []
    },
    {
      "cell_type": "markdown",
      "source": [
        "## Reto 625:"
      ],
      "metadata": {
        "id": "9btS9f_jJ4Rk"
      }
    },
    {
      "cell_type": "code",
      "source": [
        "# Método 1\n",
        "def :\n",
        "    pass"
      ],
      "metadata": {
        "id": "E6J3pCYOJ4Rk"
      },
      "execution_count": null,
      "outputs": []
    },
    {
      "cell_type": "code",
      "source": [
        "print()\n",
        "print()\n",
        "print()\n",
        "print()"
      ],
      "metadata": {
        "id": "tknb1UNEJ4Rk"
      },
      "execution_count": null,
      "outputs": []
    },
    {
      "cell_type": "markdown",
      "source": [
        "## Reto 626:"
      ],
      "metadata": {
        "id": "2-Et9sGhJ4Yk"
      }
    },
    {
      "cell_type": "code",
      "source": [
        "# Método 1\n",
        "def :\n",
        "    pass"
      ],
      "metadata": {
        "id": "NUZheGy3J4Yk"
      },
      "execution_count": null,
      "outputs": []
    },
    {
      "cell_type": "code",
      "source": [
        "print()\n",
        "print()\n",
        "print()\n",
        "print()"
      ],
      "metadata": {
        "id": "OsMIsl4xJ4Yk"
      },
      "execution_count": null,
      "outputs": []
    },
    {
      "cell_type": "markdown",
      "source": [
        "## Reto 627:"
      ],
      "metadata": {
        "id": "cklCP4WwJ4f_"
      }
    },
    {
      "cell_type": "code",
      "source": [
        "# Método 1\n",
        "def :\n",
        "    pass"
      ],
      "metadata": {
        "id": "CfK4xyRhJ4f_"
      },
      "execution_count": null,
      "outputs": []
    },
    {
      "cell_type": "code",
      "source": [
        "print()\n",
        "print()\n",
        "print()\n",
        "print()"
      ],
      "metadata": {
        "id": "nGBYgdmWJ4f_"
      },
      "execution_count": null,
      "outputs": []
    },
    {
      "cell_type": "markdown",
      "source": [
        "## Reto 628:"
      ],
      "metadata": {
        "id": "h_FCdlipJ4na"
      }
    },
    {
      "cell_type": "code",
      "source": [
        "# Método 1\n",
        "def :\n",
        "    pass"
      ],
      "metadata": {
        "id": "rirzzGxdJ4na"
      },
      "execution_count": null,
      "outputs": []
    },
    {
      "cell_type": "code",
      "source": [
        "print()\n",
        "print()\n",
        "print()\n",
        "print()"
      ],
      "metadata": {
        "id": "TdKhyFKRJ4na"
      },
      "execution_count": null,
      "outputs": []
    },
    {
      "cell_type": "markdown",
      "source": [
        "## Reto 629:"
      ],
      "metadata": {
        "id": "qrAew1HVJ4uu"
      }
    },
    {
      "cell_type": "code",
      "source": [
        "# Método 1\n",
        "def :\n",
        "    pass"
      ],
      "metadata": {
        "id": "6izl31Y2J4uu"
      },
      "execution_count": null,
      "outputs": []
    },
    {
      "cell_type": "code",
      "source": [
        "print()\n",
        "print()\n",
        "print()\n",
        "print()"
      ],
      "metadata": {
        "id": "JjSVAuUTJ4uu"
      },
      "execution_count": null,
      "outputs": []
    },
    {
      "cell_type": "markdown",
      "source": [
        "## Reto 630:"
      ],
      "metadata": {
        "id": "JgzXD5JvJ42h"
      }
    },
    {
      "cell_type": "code",
      "source": [
        "# Método 1\n",
        "def :\n",
        "    pass"
      ],
      "metadata": {
        "id": "uJN9E-afJ42h"
      },
      "execution_count": null,
      "outputs": []
    },
    {
      "cell_type": "code",
      "source": [
        "print()\n",
        "print()\n",
        "print()\n",
        "print()"
      ],
      "metadata": {
        "id": "ZeE6TLYBJ42h"
      },
      "execution_count": null,
      "outputs": []
    },
    {
      "cell_type": "markdown",
      "source": [
        "## Reto 631:"
      ],
      "metadata": {
        "id": "MpNyY2GRKKQy"
      }
    },
    {
      "cell_type": "code",
      "source": [
        "# Método 1\n",
        "def :\n",
        "    pass"
      ],
      "metadata": {
        "id": "N3VTCQFmKKQy"
      },
      "execution_count": null,
      "outputs": []
    },
    {
      "cell_type": "code",
      "source": [
        "print()\n",
        "print()\n",
        "print()\n",
        "print()"
      ],
      "metadata": {
        "id": "HHvQKALwKKQy"
      },
      "execution_count": null,
      "outputs": []
    },
    {
      "cell_type": "markdown",
      "source": [
        "## Reto 632:"
      ],
      "metadata": {
        "id": "ltitQmDRKKZa"
      }
    },
    {
      "cell_type": "code",
      "source": [
        "# Método 1\n",
        "def :\n",
        "    pass"
      ],
      "metadata": {
        "id": "yOxHyMbxKKZa"
      },
      "execution_count": null,
      "outputs": []
    },
    {
      "cell_type": "code",
      "source": [
        "print()\n",
        "print()\n",
        "print()\n",
        "print()"
      ],
      "metadata": {
        "id": "q7bgTLszKKZa"
      },
      "execution_count": null,
      "outputs": []
    },
    {
      "cell_type": "markdown",
      "source": [
        "## Reto 633:"
      ],
      "metadata": {
        "id": "a42FhwZTKKgy"
      }
    },
    {
      "cell_type": "code",
      "source": [
        "# Método 1\n",
        "def :\n",
        "    pass"
      ],
      "metadata": {
        "id": "weROzSbxKKgy"
      },
      "execution_count": null,
      "outputs": []
    },
    {
      "cell_type": "code",
      "source": [
        "print()\n",
        "print()\n",
        "print()\n",
        "print()"
      ],
      "metadata": {
        "id": "XeJ_yYXsKKgy"
      },
      "execution_count": null,
      "outputs": []
    },
    {
      "cell_type": "markdown",
      "source": [
        "## Reto 634:"
      ],
      "metadata": {
        "id": "PW3dG2GVKKnj"
      }
    },
    {
      "cell_type": "code",
      "source": [
        "# Método 1\n",
        "def :\n",
        "    pass"
      ],
      "metadata": {
        "id": "Xa8nKq5aKKnj"
      },
      "execution_count": null,
      "outputs": []
    },
    {
      "cell_type": "code",
      "source": [
        "print()\n",
        "print()\n",
        "print()\n",
        "print()"
      ],
      "metadata": {
        "id": "mrkDblQcKKnj"
      },
      "execution_count": null,
      "outputs": []
    },
    {
      "cell_type": "markdown",
      "source": [
        "## Reto 635:"
      ],
      "metadata": {
        "id": "s4LZ29zOKKtx"
      }
    },
    {
      "cell_type": "code",
      "source": [
        "# Método 1\n",
        "def :\n",
        "    pass"
      ],
      "metadata": {
        "id": "khpCuV6QKKtx"
      },
      "execution_count": null,
      "outputs": []
    },
    {
      "cell_type": "code",
      "source": [
        "print()\n",
        "print()\n",
        "print()\n",
        "print()"
      ],
      "metadata": {
        "id": "HqqVth6vKKtx"
      },
      "execution_count": null,
      "outputs": []
    },
    {
      "cell_type": "markdown",
      "source": [
        "## Reto 636:"
      ],
      "metadata": {
        "id": "VFFIzH2dKK0H"
      }
    },
    {
      "cell_type": "code",
      "source": [
        "# Método 1\n",
        "def :\n",
        "    pass"
      ],
      "metadata": {
        "id": "W1LYOLY-KK0H"
      },
      "execution_count": null,
      "outputs": []
    },
    {
      "cell_type": "code",
      "source": [
        "print()\n",
        "print()\n",
        "print()\n",
        "print()"
      ],
      "metadata": {
        "id": "-V3auLj3KK0H"
      },
      "execution_count": null,
      "outputs": []
    },
    {
      "cell_type": "markdown",
      "source": [
        "## Reto 637:"
      ],
      "metadata": {
        "id": "w5B5Xs4dKK6d"
      }
    },
    {
      "cell_type": "code",
      "source": [
        "# Método 1\n",
        "def :\n",
        "    pass"
      ],
      "metadata": {
        "id": "uv9pl1aFKK6d"
      },
      "execution_count": null,
      "outputs": []
    },
    {
      "cell_type": "code",
      "source": [
        "print()\n",
        "print()\n",
        "print()\n",
        "print()"
      ],
      "metadata": {
        "id": "mYErrFgIKK6e"
      },
      "execution_count": null,
      "outputs": []
    },
    {
      "cell_type": "markdown",
      "source": [
        "## Reto 638:"
      ],
      "metadata": {
        "id": "YqPFE6tBKLAz"
      }
    },
    {
      "cell_type": "code",
      "source": [
        "# Método 1\n",
        "def :\n",
        "    pass"
      ],
      "metadata": {
        "id": "QKWCLjZDKLAz"
      },
      "execution_count": null,
      "outputs": []
    },
    {
      "cell_type": "code",
      "source": [
        "print()\n",
        "print()\n",
        "print()\n",
        "print()"
      ],
      "metadata": {
        "id": "P2h7syGAKLAz"
      },
      "execution_count": null,
      "outputs": []
    },
    {
      "cell_type": "markdown",
      "source": [
        "## Reto 639:"
      ],
      "metadata": {
        "id": "6Wn7DnokKLIM"
      }
    },
    {
      "cell_type": "code",
      "source": [
        "# Método 1\n",
        "def :\n",
        "    pass"
      ],
      "metadata": {
        "id": "nmM2H56-KLIN"
      },
      "execution_count": null,
      "outputs": []
    },
    {
      "cell_type": "code",
      "source": [
        "print()\n",
        "print()\n",
        "print()\n",
        "print()"
      ],
      "metadata": {
        "id": "ER1D-sOMKLIN"
      },
      "execution_count": null,
      "outputs": []
    },
    {
      "cell_type": "markdown",
      "source": [
        "## Reto 640:"
      ],
      "metadata": {
        "id": "OIidk6MOKLPk"
      }
    },
    {
      "cell_type": "code",
      "source": [
        "# Método 1\n",
        "def :\n",
        "    pass"
      ],
      "metadata": {
        "id": "FDDJ9fSOKLPk"
      },
      "execution_count": null,
      "outputs": []
    },
    {
      "cell_type": "code",
      "source": [
        "print()\n",
        "print()\n",
        "print()\n",
        "print()"
      ],
      "metadata": {
        "id": "yrQw27_PKLPk"
      },
      "execution_count": null,
      "outputs": []
    },
    {
      "cell_type": "markdown",
      "source": [
        "## Reto 641:"
      ],
      "metadata": {
        "id": "zBwUd6u1Kda2"
      }
    },
    {
      "cell_type": "code",
      "source": [
        "# Método 1\n",
        "def :\n",
        "    pass"
      ],
      "metadata": {
        "id": "w0XM8KGMKda2"
      },
      "execution_count": null,
      "outputs": []
    },
    {
      "cell_type": "code",
      "source": [
        "print()\n",
        "print()\n",
        "print()\n",
        "print()"
      ],
      "metadata": {
        "id": "PL9FDFyUKda2"
      },
      "execution_count": null,
      "outputs": []
    },
    {
      "cell_type": "markdown",
      "source": [
        "## Reto 642:"
      ],
      "metadata": {
        "id": "IkMLgN0uKdjd"
      }
    },
    {
      "cell_type": "code",
      "source": [
        "# Método 1\n",
        "def :\n",
        "    pass"
      ],
      "metadata": {
        "id": "Kwa_K7Z9Kdje"
      },
      "execution_count": null,
      "outputs": []
    },
    {
      "cell_type": "code",
      "source": [
        "print()\n",
        "print()\n",
        "print()\n",
        "print()"
      ],
      "metadata": {
        "id": "gfNwHXVyKdje"
      },
      "execution_count": null,
      "outputs": []
    },
    {
      "cell_type": "markdown",
      "source": [
        "## Reto 643:"
      ],
      "metadata": {
        "id": "wpBtuBE_KdrQ"
      }
    },
    {
      "cell_type": "code",
      "source": [
        "# Método 1\n",
        "def :\n",
        "    pass"
      ],
      "metadata": {
        "id": "pPkoQMDjKdrR"
      },
      "execution_count": null,
      "outputs": []
    },
    {
      "cell_type": "code",
      "source": [
        "print()\n",
        "print()\n",
        "print()\n",
        "print()"
      ],
      "metadata": {
        "id": "wW60bcRwKdrR"
      },
      "execution_count": null,
      "outputs": []
    },
    {
      "cell_type": "markdown",
      "source": [
        "## Reto 644:"
      ],
      "metadata": {
        "id": "_7YpcfgHKdyO"
      }
    },
    {
      "cell_type": "code",
      "source": [
        "# Método 1\n",
        "def :\n",
        "    pass"
      ],
      "metadata": {
        "id": "SkDQw4svKdyO"
      },
      "execution_count": null,
      "outputs": []
    },
    {
      "cell_type": "code",
      "source": [
        "print()\n",
        "print()\n",
        "print()\n",
        "print()"
      ],
      "metadata": {
        "id": "r4eaiLE6KdyO"
      },
      "execution_count": null,
      "outputs": []
    },
    {
      "cell_type": "markdown",
      "source": [
        "## Reto 645:"
      ],
      "metadata": {
        "id": "w04A7HtQKd5o"
      }
    },
    {
      "cell_type": "code",
      "source": [
        "# Método 1\n",
        "def :\n",
        "    pass"
      ],
      "metadata": {
        "id": "zl3MweNdKd5o"
      },
      "execution_count": null,
      "outputs": []
    },
    {
      "cell_type": "code",
      "source": [
        "print()\n",
        "print()\n",
        "print()\n",
        "print()"
      ],
      "metadata": {
        "id": "0UpUWFGMKd5o"
      },
      "execution_count": null,
      "outputs": []
    },
    {
      "cell_type": "markdown",
      "source": [
        "## Reto 646:"
      ],
      "metadata": {
        "id": "Zh9UFyL-KeAt"
      }
    },
    {
      "cell_type": "code",
      "source": [
        "# Método 1\n",
        "def :\n",
        "    pass"
      ],
      "metadata": {
        "id": "i-jJn26qKeAu"
      },
      "execution_count": null,
      "outputs": []
    },
    {
      "cell_type": "code",
      "source": [
        "print()\n",
        "print()\n",
        "print()\n",
        "print()"
      ],
      "metadata": {
        "id": "rw7UwO5ZKeAu"
      },
      "execution_count": null,
      "outputs": []
    },
    {
      "cell_type": "markdown",
      "source": [
        "## Reto 647:"
      ],
      "metadata": {
        "id": "t4jr2BK1KeID"
      }
    },
    {
      "cell_type": "code",
      "source": [
        "# Método 1\n",
        "def :\n",
        "    pass"
      ],
      "metadata": {
        "id": "aQTPn36yKeID"
      },
      "execution_count": null,
      "outputs": []
    },
    {
      "cell_type": "code",
      "source": [
        "print()\n",
        "print()\n",
        "print()\n",
        "print()"
      ],
      "metadata": {
        "id": "H3M6VhGxKeID"
      },
      "execution_count": null,
      "outputs": []
    },
    {
      "cell_type": "markdown",
      "source": [
        "## Reto 648:"
      ],
      "metadata": {
        "id": "Wy4WDTYzKePa"
      }
    },
    {
      "cell_type": "code",
      "source": [
        "# Método 1\n",
        "def :\n",
        "    pass"
      ],
      "metadata": {
        "id": "wKWIdoIWKePa"
      },
      "execution_count": null,
      "outputs": []
    },
    {
      "cell_type": "code",
      "source": [
        "print()\n",
        "print()\n",
        "print()\n",
        "print()"
      ],
      "metadata": {
        "id": "46HKwituKePa"
      },
      "execution_count": null,
      "outputs": []
    },
    {
      "cell_type": "markdown",
      "source": [
        "## Reto 649:"
      ],
      "metadata": {
        "id": "BBLM9G9ZKeWa"
      }
    },
    {
      "cell_type": "code",
      "source": [
        "# Método 1\n",
        "def :\n",
        "    pass"
      ],
      "metadata": {
        "id": "9oKulg3HKeWa"
      },
      "execution_count": null,
      "outputs": []
    },
    {
      "cell_type": "code",
      "source": [
        "print()\n",
        "print()\n",
        "print()\n",
        "print()"
      ],
      "metadata": {
        "id": "7YONpao8KeWa"
      },
      "execution_count": null,
      "outputs": []
    },
    {
      "cell_type": "markdown",
      "source": [
        "## Reto 650:"
      ],
      "metadata": {
        "id": "ea-Jcz4RKeen"
      }
    },
    {
      "cell_type": "code",
      "source": [
        "# Método 1\n",
        "def :\n",
        "    pass"
      ],
      "metadata": {
        "id": "5wsx0eKPKeen"
      },
      "execution_count": null,
      "outputs": []
    },
    {
      "cell_type": "code",
      "source": [
        "print()\n",
        "print()\n",
        "print()\n",
        "print()"
      ],
      "metadata": {
        "id": "CXA2SPAbKeen"
      },
      "execution_count": null,
      "outputs": []
    },
    {
      "cell_type": "markdown",
      "source": [
        "## Reto 651:"
      ],
      "metadata": {
        "id": "etQJUnIzK5S2"
      }
    },
    {
      "cell_type": "code",
      "source": [
        "# Método 1\n",
        "def :\n",
        "    pass"
      ],
      "metadata": {
        "id": "A1AHdwnoK5S2"
      },
      "execution_count": null,
      "outputs": []
    },
    {
      "cell_type": "code",
      "source": [
        "print()\n",
        "print()\n",
        "print()\n",
        "print()"
      ],
      "metadata": {
        "id": "Ki5WX6dwK5S2"
      },
      "execution_count": null,
      "outputs": []
    },
    {
      "cell_type": "markdown",
      "source": [
        "## Reto 652:"
      ],
      "metadata": {
        "id": "psCWW_F_K5aa"
      }
    },
    {
      "cell_type": "code",
      "source": [
        "# Método 1\n",
        "def :\n",
        "    pass"
      ],
      "metadata": {
        "id": "bTYis95NK5aa"
      },
      "execution_count": null,
      "outputs": []
    },
    {
      "cell_type": "code",
      "source": [
        "print()\n",
        "print()\n",
        "print()\n",
        "print()"
      ],
      "metadata": {
        "id": "EpqZc6YEK5aa"
      },
      "execution_count": null,
      "outputs": []
    },
    {
      "cell_type": "markdown",
      "source": [
        "## Reto 653:"
      ],
      "metadata": {
        "id": "obEjA9nDK5hM"
      }
    },
    {
      "cell_type": "code",
      "source": [
        "# Método 1\n",
        "def :\n",
        "    pass"
      ],
      "metadata": {
        "id": "aEx0aesJK5hM"
      },
      "execution_count": null,
      "outputs": []
    },
    {
      "cell_type": "code",
      "source": [
        "print()\n",
        "print()\n",
        "print()\n",
        "print()"
      ],
      "metadata": {
        "id": "O_8uRNSRK5hM"
      },
      "execution_count": null,
      "outputs": []
    },
    {
      "cell_type": "markdown",
      "source": [
        "## Reto 654:"
      ],
      "metadata": {
        "id": "Bn2BcxITK5nY"
      }
    },
    {
      "cell_type": "code",
      "source": [
        "# Método 1\n",
        "def :\n",
        "    pass"
      ],
      "metadata": {
        "id": "K3jYRS0LK5nY"
      },
      "execution_count": null,
      "outputs": []
    },
    {
      "cell_type": "code",
      "source": [
        "print()\n",
        "print()\n",
        "print()\n",
        "print()"
      ],
      "metadata": {
        "id": "afoX9yTtK5nY"
      },
      "execution_count": null,
      "outputs": []
    },
    {
      "cell_type": "markdown",
      "source": [
        "## Reto 655:"
      ],
      "metadata": {
        "id": "j84aufrmK5ts"
      }
    },
    {
      "cell_type": "code",
      "source": [
        "# Método 1\n",
        "def :\n",
        "    pass"
      ],
      "metadata": {
        "id": "dTXK0w7wK5ts"
      },
      "execution_count": null,
      "outputs": []
    },
    {
      "cell_type": "code",
      "source": [
        "print()\n",
        "print()\n",
        "print()\n",
        "print()"
      ],
      "metadata": {
        "id": "ZeAsCh73K5ts"
      },
      "execution_count": null,
      "outputs": []
    },
    {
      "cell_type": "markdown",
      "source": [
        "## Reto 656:"
      ],
      "metadata": {
        "id": "3a-vhA3gK50H"
      }
    },
    {
      "cell_type": "code",
      "source": [
        "# Método 1\n",
        "def :\n",
        "    pass"
      ],
      "metadata": {
        "id": "JQJhoPODK50H"
      },
      "execution_count": null,
      "outputs": []
    },
    {
      "cell_type": "code",
      "source": [
        "print()\n",
        "print()\n",
        "print()\n",
        "print()"
      ],
      "metadata": {
        "id": "oy9CI_OGK50H"
      },
      "execution_count": null,
      "outputs": []
    },
    {
      "cell_type": "markdown",
      "source": [
        "## Reto 657:"
      ],
      "metadata": {
        "id": "LTm036CpK56Y"
      }
    },
    {
      "cell_type": "code",
      "source": [
        "# Método 1\n",
        "def :\n",
        "    pass"
      ],
      "metadata": {
        "id": "3NRCqqU0K56Y"
      },
      "execution_count": null,
      "outputs": []
    },
    {
      "cell_type": "code",
      "source": [
        "print()\n",
        "print()\n",
        "print()\n",
        "print()"
      ],
      "metadata": {
        "id": "CWRWKElXK56Y"
      },
      "execution_count": null,
      "outputs": []
    },
    {
      "cell_type": "markdown",
      "source": [
        "## Reto 658:"
      ],
      "metadata": {
        "id": "VXfhvFLAK6BL"
      }
    },
    {
      "cell_type": "code",
      "source": [
        "# Método 1\n",
        "def :\n",
        "    pass"
      ],
      "metadata": {
        "id": "Vs6GDKDMK6BL"
      },
      "execution_count": null,
      "outputs": []
    },
    {
      "cell_type": "code",
      "source": [
        "print()\n",
        "print()\n",
        "print()\n",
        "print()"
      ],
      "metadata": {
        "id": "sGPKHDQrK6BL"
      },
      "execution_count": null,
      "outputs": []
    },
    {
      "cell_type": "markdown",
      "source": [
        "## Reto 659:"
      ],
      "metadata": {
        "id": "ihYQFfWmK6Hv"
      }
    },
    {
      "cell_type": "code",
      "source": [
        "# Método 1\n",
        "def :\n",
        "    pass"
      ],
      "metadata": {
        "id": "PlTymfYrK6Hw"
      },
      "execution_count": null,
      "outputs": []
    },
    {
      "cell_type": "code",
      "source": [
        "print()\n",
        "print()\n",
        "print()\n",
        "print()"
      ],
      "metadata": {
        "id": "6SW9KhA1K6Hw"
      },
      "execution_count": null,
      "outputs": []
    },
    {
      "cell_type": "markdown",
      "source": [
        "## Reto 660:"
      ],
      "metadata": {
        "id": "4Zr_cUZdK6OG"
      }
    },
    {
      "cell_type": "code",
      "source": [
        "# Método 1\n",
        "def :\n",
        "    pass"
      ],
      "metadata": {
        "id": "SjLK9-nnK6OG"
      },
      "execution_count": null,
      "outputs": []
    },
    {
      "cell_type": "code",
      "source": [
        "print()\n",
        "print()\n",
        "print()\n",
        "print()"
      ],
      "metadata": {
        "id": "31bfdRi1K6OH"
      },
      "execution_count": null,
      "outputs": []
    },
    {
      "cell_type": "markdown",
      "source": [
        "## Reto 661:"
      ],
      "metadata": {
        "id": "61iV19v3LMiA"
      }
    },
    {
      "cell_type": "code",
      "source": [
        "# Método 1\n",
        "def :\n",
        "    pass"
      ],
      "metadata": {
        "id": "APrJ0KyLLMiA"
      },
      "execution_count": null,
      "outputs": []
    },
    {
      "cell_type": "code",
      "source": [
        "print()\n",
        "print()\n",
        "print()\n",
        "print()"
      ],
      "metadata": {
        "id": "e-mBlXAzLMiA"
      },
      "execution_count": null,
      "outputs": []
    },
    {
      "cell_type": "markdown",
      "source": [
        "## Reto 662:"
      ],
      "metadata": {
        "id": "Q3wgEONiLMoN"
      }
    },
    {
      "cell_type": "code",
      "source": [
        "# Método 1\n",
        "def :\n",
        "    pass"
      ],
      "metadata": {
        "id": "nCT72IuULMoN"
      },
      "execution_count": null,
      "outputs": []
    },
    {
      "cell_type": "code",
      "source": [
        "print()\n",
        "print()\n",
        "print()\n",
        "print()"
      ],
      "metadata": {
        "id": "6EDB8fUILMoN"
      },
      "execution_count": null,
      "outputs": []
    },
    {
      "cell_type": "markdown",
      "source": [
        "## Reto 663:"
      ],
      "metadata": {
        "id": "spC8vL2CLMuM"
      }
    },
    {
      "cell_type": "code",
      "source": [
        "# Método 1\n",
        "def :\n",
        "    pass"
      ],
      "metadata": {
        "id": "TddezJz3LMuM"
      },
      "execution_count": null,
      "outputs": []
    },
    {
      "cell_type": "code",
      "source": [
        "print()\n",
        "print()\n",
        "print()\n",
        "print()"
      ],
      "metadata": {
        "id": "DTGUrFS_LMuM"
      },
      "execution_count": null,
      "outputs": []
    },
    {
      "cell_type": "markdown",
      "source": [
        "## Reto 664:"
      ],
      "metadata": {
        "id": "A1ntmuTcLM0k"
      }
    },
    {
      "cell_type": "code",
      "source": [
        "# Método 1\n",
        "def :\n",
        "    pass"
      ],
      "metadata": {
        "id": "_9a-z09FLM0k"
      },
      "execution_count": null,
      "outputs": []
    },
    {
      "cell_type": "code",
      "source": [
        "print()\n",
        "print()\n",
        "print()\n",
        "print()"
      ],
      "metadata": {
        "id": "jSIiQqtbLM0k"
      },
      "execution_count": null,
      "outputs": []
    },
    {
      "cell_type": "markdown",
      "source": [
        "## Reto 665:"
      ],
      "metadata": {
        "id": "skyyiwalLM63"
      }
    },
    {
      "cell_type": "code",
      "source": [
        "# Método 1\n",
        "def :\n",
        "    pass"
      ],
      "metadata": {
        "id": "vYDysMfrLM64"
      },
      "execution_count": null,
      "outputs": []
    },
    {
      "cell_type": "code",
      "source": [
        "print()\n",
        "print()\n",
        "print()\n",
        "print()"
      ],
      "metadata": {
        "id": "VZnOmYkVLM64"
      },
      "execution_count": null,
      "outputs": []
    },
    {
      "cell_type": "markdown",
      "source": [
        "## Reto 666:"
      ],
      "metadata": {
        "id": "rjg7iNPbLNBK"
      }
    },
    {
      "cell_type": "code",
      "source": [
        "# Método 1\n",
        "def :\n",
        "    pass"
      ],
      "metadata": {
        "id": "DLlmx8xGLNBL"
      },
      "execution_count": null,
      "outputs": []
    },
    {
      "cell_type": "code",
      "source": [
        "print()\n",
        "print()\n",
        "print()\n",
        "print()"
      ],
      "metadata": {
        "id": "sl2Nh-3ELNBL"
      },
      "execution_count": null,
      "outputs": []
    },
    {
      "cell_type": "markdown",
      "source": [
        "## Reto 667:"
      ],
      "metadata": {
        "id": "yzgkeQHcLNHJ"
      }
    },
    {
      "cell_type": "code",
      "source": [
        "# Método 1\n",
        "def :\n",
        "    pass"
      ],
      "metadata": {
        "id": "kLI_QC9gLNHJ"
      },
      "execution_count": null,
      "outputs": []
    },
    {
      "cell_type": "code",
      "source": [
        "print()\n",
        "print()\n",
        "print()\n",
        "print()"
      ],
      "metadata": {
        "id": "EYukYgtgLNHJ"
      },
      "execution_count": null,
      "outputs": []
    },
    {
      "cell_type": "markdown",
      "source": [
        "## Reto 668:"
      ],
      "metadata": {
        "id": "eahEzmzyLNNG"
      }
    },
    {
      "cell_type": "code",
      "source": [
        "# Método 1\n",
        "def :\n",
        "    pass"
      ],
      "metadata": {
        "id": "bt1kAeH8LNNH"
      },
      "execution_count": null,
      "outputs": []
    },
    {
      "cell_type": "code",
      "source": [
        "print()\n",
        "print()\n",
        "print()\n",
        "print()"
      ],
      "metadata": {
        "id": "lk_T2N1oLNNH"
      },
      "execution_count": null,
      "outputs": []
    },
    {
      "cell_type": "markdown",
      "source": [
        "## Reto 669:"
      ],
      "metadata": {
        "id": "LyBHsamYLNTi"
      }
    },
    {
      "cell_type": "code",
      "source": [
        "# Método 1\n",
        "def :\n",
        "    pass"
      ],
      "metadata": {
        "id": "Uo4ZObcALNTj"
      },
      "execution_count": null,
      "outputs": []
    },
    {
      "cell_type": "code",
      "source": [
        "print()\n",
        "print()\n",
        "print()\n",
        "print()"
      ],
      "metadata": {
        "id": "5sQe_lqeLNTj"
      },
      "execution_count": null,
      "outputs": []
    },
    {
      "cell_type": "markdown",
      "source": [
        "## Reto 670:"
      ],
      "metadata": {
        "id": "SQWyZ6-ALNZx"
      }
    },
    {
      "cell_type": "code",
      "source": [
        "# Método 1\n",
        "def :\n",
        "    pass"
      ],
      "metadata": {
        "id": "92mwwCgALNZy"
      },
      "execution_count": null,
      "outputs": []
    },
    {
      "cell_type": "code",
      "source": [
        "print()\n",
        "print()\n",
        "print()\n",
        "print()"
      ],
      "metadata": {
        "id": "3mS_3YvwLNZy"
      },
      "execution_count": null,
      "outputs": []
    },
    {
      "cell_type": "markdown",
      "source": [
        "## Reto 671:"
      ],
      "metadata": {
        "id": "2owkhItHLhyB"
      }
    },
    {
      "cell_type": "code",
      "source": [
        "# Método 1\n",
        "def :\n",
        "    pass"
      ],
      "metadata": {
        "id": "RXDX_haSLhyB"
      },
      "execution_count": null,
      "outputs": []
    },
    {
      "cell_type": "code",
      "source": [
        "print()\n",
        "print()\n",
        "print()\n",
        "print()"
      ],
      "metadata": {
        "id": "c7qRbfyqLhyB"
      },
      "execution_count": null,
      "outputs": []
    },
    {
      "cell_type": "markdown",
      "source": [
        "## Reto 672:"
      ],
      "metadata": {
        "id": "CDLt9UxgLh4J"
      }
    },
    {
      "cell_type": "code",
      "source": [
        "# Método 1\n",
        "def :\n",
        "    pass"
      ],
      "metadata": {
        "id": "8vdcf6vQLh4J"
      },
      "execution_count": null,
      "outputs": []
    },
    {
      "cell_type": "code",
      "source": [
        "print()\n",
        "print()\n",
        "print()\n",
        "print()"
      ],
      "metadata": {
        "id": "5ZUHKvfgLh4J"
      },
      "execution_count": null,
      "outputs": []
    },
    {
      "cell_type": "markdown",
      "source": [
        "## Reto 673:"
      ],
      "metadata": {
        "id": "P7ziK0i7Lh-G"
      }
    },
    {
      "cell_type": "code",
      "source": [
        "# Método 1\n",
        "def :\n",
        "    pass"
      ],
      "metadata": {
        "id": "uqXYW16-Lh-G"
      },
      "execution_count": null,
      "outputs": []
    },
    {
      "cell_type": "code",
      "source": [
        "print()\n",
        "print()\n",
        "print()\n",
        "print()"
      ],
      "metadata": {
        "id": "qDWhkknZLh-G"
      },
      "execution_count": null,
      "outputs": []
    },
    {
      "cell_type": "markdown",
      "source": [
        "## Reto 674:"
      ],
      "metadata": {
        "id": "5GsbhwnNLiFJ"
      }
    },
    {
      "cell_type": "code",
      "source": [
        "# Método 1\n",
        "def :\n",
        "    pass"
      ],
      "metadata": {
        "id": "nxMhqeUJLiFJ"
      },
      "execution_count": null,
      "outputs": []
    },
    {
      "cell_type": "code",
      "source": [
        "print()\n",
        "print()\n",
        "print()\n",
        "print()"
      ],
      "metadata": {
        "id": "sQbzrz9OLiFJ"
      },
      "execution_count": null,
      "outputs": []
    },
    {
      "cell_type": "markdown",
      "source": [
        "## Reto 675:"
      ],
      "metadata": {
        "id": "kMC9MQDfLiLH"
      }
    },
    {
      "cell_type": "code",
      "source": [
        "# Método 1\n",
        "def :\n",
        "    pass"
      ],
      "metadata": {
        "id": "nvEc58pxLiLH"
      },
      "execution_count": null,
      "outputs": []
    },
    {
      "cell_type": "code",
      "source": [
        "print()\n",
        "print()\n",
        "print()\n",
        "print()"
      ],
      "metadata": {
        "id": "-wmRV9t5LiLH"
      },
      "execution_count": null,
      "outputs": []
    },
    {
      "cell_type": "markdown",
      "source": [
        "## Reto 676:"
      ],
      "metadata": {
        "id": "xSImdk9BLiRc"
      }
    },
    {
      "cell_type": "code",
      "source": [
        "# Método 1\n",
        "def :\n",
        "    pass"
      ],
      "metadata": {
        "id": "aT7l5TEpLiRc"
      },
      "execution_count": null,
      "outputs": []
    },
    {
      "cell_type": "code",
      "source": [
        "print()\n",
        "print()\n",
        "print()\n",
        "print()"
      ],
      "metadata": {
        "id": "BqaNoXNXLiRc"
      },
      "execution_count": null,
      "outputs": []
    },
    {
      "cell_type": "markdown",
      "source": [
        "## Reto 677:"
      ],
      "metadata": {
        "id": "06neNEk8LiX5"
      }
    },
    {
      "cell_type": "code",
      "source": [
        "# Método 1\n",
        "def :\n",
        "    pass"
      ],
      "metadata": {
        "id": "kaT8iASjLiX5"
      },
      "execution_count": null,
      "outputs": []
    },
    {
      "cell_type": "code",
      "source": [
        "print()\n",
        "print()\n",
        "print()\n",
        "print()"
      ],
      "metadata": {
        "id": "SHkZrpu8LiX5"
      },
      "execution_count": null,
      "outputs": []
    },
    {
      "cell_type": "markdown",
      "source": [
        "## Reto 678:"
      ],
      "metadata": {
        "id": "YYzjcI17Liez"
      }
    },
    {
      "cell_type": "code",
      "source": [
        "# Método 1\n",
        "def :\n",
        "    pass"
      ],
      "metadata": {
        "id": "it3KGvclLiez"
      },
      "execution_count": null,
      "outputs": []
    },
    {
      "cell_type": "code",
      "source": [
        "print()\n",
        "print()\n",
        "print()\n",
        "print()"
      ],
      "metadata": {
        "id": "10WjuOejLiez"
      },
      "execution_count": null,
      "outputs": []
    },
    {
      "cell_type": "markdown",
      "source": [
        "## Reto 679:"
      ],
      "metadata": {
        "id": "GkLinAg8Liky"
      }
    },
    {
      "cell_type": "code",
      "source": [
        "# Método 1\n",
        "def :\n",
        "    pass"
      ],
      "metadata": {
        "id": "NzErCS-oLiky"
      },
      "execution_count": null,
      "outputs": []
    },
    {
      "cell_type": "code",
      "source": [
        "print()\n",
        "print()\n",
        "print()\n",
        "print()"
      ],
      "metadata": {
        "id": "QASfCa0aLiky"
      },
      "execution_count": null,
      "outputs": []
    },
    {
      "cell_type": "markdown",
      "source": [
        "## Reto 680:"
      ],
      "metadata": {
        "id": "d-J7lYOULirf"
      }
    },
    {
      "cell_type": "code",
      "source": [
        "# Método 1\n",
        "def :\n",
        "    pass"
      ],
      "metadata": {
        "id": "yA18S0w4Lirf"
      },
      "execution_count": null,
      "outputs": []
    },
    {
      "cell_type": "code",
      "source": [
        "print()\n",
        "print()\n",
        "print()\n",
        "print()"
      ],
      "metadata": {
        "id": "Zw8myjqbLirf"
      },
      "execution_count": null,
      "outputs": []
    },
    {
      "cell_type": "markdown",
      "source": [
        "## Reto 681:"
      ],
      "metadata": {
        "id": "caTKyjSTL3a1"
      }
    },
    {
      "cell_type": "code",
      "source": [
        "# Método 1\n",
        "def :\n",
        "    pass"
      ],
      "metadata": {
        "id": "_ztXp-wgL3a1"
      },
      "execution_count": null,
      "outputs": []
    },
    {
      "cell_type": "code",
      "source": [
        "print()\n",
        "print()\n",
        "print()\n",
        "print()"
      ],
      "metadata": {
        "id": "tuwlQEk-L3a1"
      },
      "execution_count": null,
      "outputs": []
    },
    {
      "cell_type": "markdown",
      "source": [
        "## Reto 682:"
      ],
      "metadata": {
        "id": "7fiB0jv8L3hE"
      }
    },
    {
      "cell_type": "code",
      "source": [
        "# Método 1\n",
        "def :\n",
        "    pass"
      ],
      "metadata": {
        "id": "a7mOXJLPL3hF"
      },
      "execution_count": null,
      "outputs": []
    },
    {
      "cell_type": "code",
      "source": [
        "print()\n",
        "print()\n",
        "print()\n",
        "print()"
      ],
      "metadata": {
        "id": "rNJK48w9L3hF"
      },
      "execution_count": null,
      "outputs": []
    },
    {
      "cell_type": "markdown",
      "source": [
        "## Reto 683:"
      ],
      "metadata": {
        "id": "GKGE4HsJL3nW"
      }
    },
    {
      "cell_type": "code",
      "source": [
        "# Método 1\n",
        "def :\n",
        "    pass"
      ],
      "metadata": {
        "id": "EzEvRiJjL3nW"
      },
      "execution_count": null,
      "outputs": []
    },
    {
      "cell_type": "code",
      "source": [
        "print()\n",
        "print()\n",
        "print()\n",
        "print()"
      ],
      "metadata": {
        "id": "opmO9Yd8L3nW"
      },
      "execution_count": null,
      "outputs": []
    },
    {
      "cell_type": "markdown",
      "source": [
        "## Reto 684:"
      ],
      "metadata": {
        "id": "15rjwg1tL3tV"
      }
    },
    {
      "cell_type": "code",
      "source": [
        "# Método 1\n",
        "def :\n",
        "    pass"
      ],
      "metadata": {
        "id": "8WUz4w7aL3tV"
      },
      "execution_count": null,
      "outputs": []
    },
    {
      "cell_type": "code",
      "source": [
        "print()\n",
        "print()\n",
        "print()\n",
        "print()"
      ],
      "metadata": {
        "id": "VHrRCAUFL3tV"
      },
      "execution_count": null,
      "outputs": []
    },
    {
      "cell_type": "markdown",
      "source": [
        "## Reto 685:"
      ],
      "metadata": {
        "id": "waiNaoG1L3zp"
      }
    },
    {
      "cell_type": "code",
      "source": [
        "# Método 1\n",
        "def :\n",
        "    pass"
      ],
      "metadata": {
        "id": "H56FhgUnL3zp"
      },
      "execution_count": null,
      "outputs": []
    },
    {
      "cell_type": "code",
      "source": [
        "print()\n",
        "print()\n",
        "print()\n",
        "print()"
      ],
      "metadata": {
        "id": "cAZkIyvfL3zp"
      },
      "execution_count": null,
      "outputs": []
    },
    {
      "cell_type": "markdown",
      "source": [
        "## Reto 686:"
      ],
      "metadata": {
        "id": "t4yqCwAqL35p"
      }
    },
    {
      "cell_type": "code",
      "source": [
        "# Método 1\n",
        "def :\n",
        "    pass"
      ],
      "metadata": {
        "id": "pIiiWnaiL35p"
      },
      "execution_count": null,
      "outputs": []
    },
    {
      "cell_type": "code",
      "source": [
        "print()\n",
        "print()\n",
        "print()\n",
        "print()"
      ],
      "metadata": {
        "id": "a610MU9oL35p"
      },
      "execution_count": null,
      "outputs": []
    },
    {
      "cell_type": "markdown",
      "source": [
        "## Reto 687:"
      ],
      "metadata": {
        "id": "x6C1TjPaL3_-"
      }
    },
    {
      "cell_type": "code",
      "source": [
        "# Método 1\n",
        "def :\n",
        "    pass"
      ],
      "metadata": {
        "id": "XUQoZ9ReL3_-"
      },
      "execution_count": null,
      "outputs": []
    },
    {
      "cell_type": "code",
      "source": [
        "print()\n",
        "print()\n",
        "print()\n",
        "print()"
      ],
      "metadata": {
        "id": "TWyax5wnL3_-"
      },
      "execution_count": null,
      "outputs": []
    },
    {
      "cell_type": "markdown",
      "source": [
        "## Reto 688:"
      ],
      "metadata": {
        "id": "zBie26x6L4Gr"
      }
    },
    {
      "cell_type": "code",
      "source": [
        "# Método 1\n",
        "def :\n",
        "    pass"
      ],
      "metadata": {
        "id": "buUbN8SwL4Gr"
      },
      "execution_count": null,
      "outputs": []
    },
    {
      "cell_type": "code",
      "source": [
        "print()\n",
        "print()\n",
        "print()\n",
        "print()"
      ],
      "metadata": {
        "id": "r6qt-50EL4Gr"
      },
      "execution_count": null,
      "outputs": []
    },
    {
      "cell_type": "markdown",
      "source": [
        "## Reto 689:"
      ],
      "metadata": {
        "id": "u3S8YwmWL4Ns"
      }
    },
    {
      "cell_type": "code",
      "source": [
        "# Método 1\n",
        "def :\n",
        "    pass"
      ],
      "metadata": {
        "id": "kjHpn_3rL4Ns"
      },
      "execution_count": null,
      "outputs": []
    },
    {
      "cell_type": "code",
      "source": [
        "print()\n",
        "print()\n",
        "print()\n",
        "print()"
      ],
      "metadata": {
        "id": "lBLE97MwL4Ns"
      },
      "execution_count": null,
      "outputs": []
    },
    {
      "cell_type": "markdown",
      "source": [
        "## Reto 690:"
      ],
      "metadata": {
        "id": "c_paq_i4L4Uv"
      }
    },
    {
      "cell_type": "code",
      "source": [
        "# Método 1\n",
        "def :\n",
        "    pass"
      ],
      "metadata": {
        "id": "5eBRqnbEL4Uv"
      },
      "execution_count": null,
      "outputs": []
    },
    {
      "cell_type": "code",
      "source": [
        "print()\n",
        "print()\n",
        "print()\n",
        "print()"
      ],
      "metadata": {
        "id": "rUuQg2ZIL4Uv"
      },
      "execution_count": null,
      "outputs": []
    },
    {
      "cell_type": "markdown",
      "source": [
        "## Reto 691:"
      ],
      "metadata": {
        "id": "3w2wTJmWMJ-E"
      }
    },
    {
      "cell_type": "code",
      "source": [
        "# Método 1\n",
        "def :\n",
        "    pass"
      ],
      "metadata": {
        "id": "ajHrz-XxMJ-E"
      },
      "execution_count": null,
      "outputs": []
    },
    {
      "cell_type": "code",
      "source": [
        "print()\n",
        "print()\n",
        "print()\n",
        "print()"
      ],
      "metadata": {
        "id": "4RR98pcWMJ-E"
      },
      "execution_count": null,
      "outputs": []
    },
    {
      "cell_type": "markdown",
      "source": [
        "## Reto 692:"
      ],
      "metadata": {
        "id": "CtVXEJ_GMKEv"
      }
    },
    {
      "cell_type": "code",
      "source": [
        "# Método 1\n",
        "def :\n",
        "    pass"
      ],
      "metadata": {
        "id": "SV1DE57fMKEv"
      },
      "execution_count": null,
      "outputs": []
    },
    {
      "cell_type": "code",
      "source": [
        "print()\n",
        "print()\n",
        "print()\n",
        "print()"
      ],
      "metadata": {
        "id": "EbIacckFMKEv"
      },
      "execution_count": null,
      "outputs": []
    },
    {
      "cell_type": "markdown",
      "source": [
        "## Reto 693:"
      ],
      "metadata": {
        "id": "VZGtZ8s_MKK_"
      }
    },
    {
      "cell_type": "code",
      "source": [
        "# Método 1\n",
        "def :\n",
        "    pass"
      ],
      "metadata": {
        "id": "02-FMX0hMKLA"
      },
      "execution_count": null,
      "outputs": []
    },
    {
      "cell_type": "code",
      "source": [
        "print()\n",
        "print()\n",
        "print()\n",
        "print()"
      ],
      "metadata": {
        "id": "8S33i01kMKLA"
      },
      "execution_count": null,
      "outputs": []
    },
    {
      "cell_type": "markdown",
      "source": [
        "## Reto 694:"
      ],
      "metadata": {
        "id": "zNLzygsBMKRW"
      }
    },
    {
      "cell_type": "code",
      "source": [
        "# Método 1\n",
        "def :\n",
        "    pass"
      ],
      "metadata": {
        "id": "KeoLE6LyMKRW"
      },
      "execution_count": null,
      "outputs": []
    },
    {
      "cell_type": "code",
      "source": [
        "print()\n",
        "print()\n",
        "print()\n",
        "print()"
      ],
      "metadata": {
        "id": "M-f3lc_BMKRW"
      },
      "execution_count": null,
      "outputs": []
    },
    {
      "cell_type": "markdown",
      "source": [
        "## Reto 695:"
      ],
      "metadata": {
        "id": "IdhnocJpMKYC"
      }
    },
    {
      "cell_type": "code",
      "source": [
        "# Método 1\n",
        "def :\n",
        "    pass"
      ],
      "metadata": {
        "id": "LiajNLNhMKYC"
      },
      "execution_count": null,
      "outputs": []
    },
    {
      "cell_type": "code",
      "source": [
        "print()\n",
        "print()\n",
        "print()\n",
        "print()"
      ],
      "metadata": {
        "id": "d1yzMQbOMKYD"
      },
      "execution_count": null,
      "outputs": []
    },
    {
      "cell_type": "markdown",
      "source": [
        "## Reto 696:"
      ],
      "metadata": {
        "id": "M3Dg-qw6MKe2"
      }
    },
    {
      "cell_type": "code",
      "source": [
        "# Método 1\n",
        "def :\n",
        "    pass"
      ],
      "metadata": {
        "id": "h-QbzJJ1MKe2"
      },
      "execution_count": null,
      "outputs": []
    },
    {
      "cell_type": "code",
      "source": [
        "print()\n",
        "print()\n",
        "print()\n",
        "print()"
      ],
      "metadata": {
        "id": "oXwQiGaaMKe2"
      },
      "execution_count": null,
      "outputs": []
    },
    {
      "cell_type": "markdown",
      "source": [
        "## Reto 697:"
      ],
      "metadata": {
        "id": "Eiezcer_MKlv"
      }
    },
    {
      "cell_type": "code",
      "source": [
        "# Método 1\n",
        "def :\n",
        "    pass"
      ],
      "metadata": {
        "id": "3AhSpAG-MKlv"
      },
      "execution_count": null,
      "outputs": []
    },
    {
      "cell_type": "code",
      "source": [
        "print()\n",
        "print()\n",
        "print()\n",
        "print()"
      ],
      "metadata": {
        "id": "aBWYbZrZMKlv"
      },
      "execution_count": null,
      "outputs": []
    },
    {
      "cell_type": "markdown",
      "source": [
        "## Reto 698:"
      ],
      "metadata": {
        "id": "bkTxYt81MKsy"
      }
    },
    {
      "cell_type": "code",
      "source": [
        "# Método 1\n",
        "def :\n",
        "    pass"
      ],
      "metadata": {
        "id": "tA22AXAFMKsy"
      },
      "execution_count": null,
      "outputs": []
    },
    {
      "cell_type": "code",
      "source": [
        "print()\n",
        "print()\n",
        "print()\n",
        "print()"
      ],
      "metadata": {
        "id": "UVGu2kGHMKsy"
      },
      "execution_count": null,
      "outputs": []
    },
    {
      "cell_type": "markdown",
      "source": [
        "## Reto 699:"
      ],
      "metadata": {
        "id": "vVMdctYWMK0i"
      }
    },
    {
      "cell_type": "code",
      "source": [
        "# Método 1\n",
        "def :\n",
        "    pass"
      ],
      "metadata": {
        "id": "NsbwxY5KMK0i"
      },
      "execution_count": null,
      "outputs": []
    },
    {
      "cell_type": "code",
      "source": [
        "print()\n",
        "print()\n",
        "print()\n",
        "print()"
      ],
      "metadata": {
        "id": "-3OWKd6mMK0i"
      },
      "execution_count": null,
      "outputs": []
    },
    {
      "cell_type": "markdown",
      "source": [
        "## Reto 700:"
      ],
      "metadata": {
        "id": "z6Jwjp2UMK7L"
      }
    },
    {
      "cell_type": "code",
      "source": [
        "# Método 1\n",
        "def :\n",
        "    pass"
      ],
      "metadata": {
        "id": "6vtarPksMK7L"
      },
      "execution_count": null,
      "outputs": []
    },
    {
      "cell_type": "code",
      "source": [
        "print()\n",
        "print()\n",
        "print()\n",
        "print()"
      ],
      "metadata": {
        "id": "jk_KKqnbMK7L"
      },
      "execution_count": null,
      "outputs": []
    }
  ]
}