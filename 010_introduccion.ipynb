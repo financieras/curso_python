{
  "cells": [
    {
      "cell_type": "markdown",
      "metadata": {
        "id": "view-in-github",
        "colab_type": "text"
      },
      "source": [
        "<a href=\"https://colab.research.google.com/github/financieras/curso_python/blob/main/010_introduccion.ipynb\" target=\"_parent\"><img src=\"https://colab.research.google.com/assets/colab-badge.svg\" alt=\"Open In Colab\"/></a>"
      ]
    },
    {
      "cell_type": "markdown",
      "metadata": {
        "id": "1CyFpHgOvrbp"
      },
      "source": [
        "# ¿Qué es Python?\n",
        "\n",
        "<img src=\"https://github.com/financieras/curso_python/blob/main/img/logo.png?raw=1\" alt=\"molde\" width=\"250\">\n",
        "\n",
        "1. Python es un lenguaje de programación de alto nivel (cercano al lenguaje humano)\n",
        "2. Actualmente es uno de los más usados a nivel profesional:\n",
        "  - ciencia de datos\n",
        "  - ia (inteligencia artifical)\n",
        "  - iot (internet of things)\n",
        "  - web (web pages, web scraping)\n",
        "  - bots, ...\n",
        "3. Es multiplataforma\n",
        "  - Windows\n",
        "  - Linux\n",
        "  - Mac\n",
        "  - [Raspberry Pi](https://www.google.com/search?q=raspberry+pi)\n",
        "  - [placas de microcontroladores](https://www.google.com/search?q=microcontrolador+python)\n",
        "  - calculadoras como la TI-84 Plus CE-T Python Edition\n",
        "\n",
        "<img src=\"https://github.com/financieras/curso_python/blob/main/img/raspberry_pi_4_modelo_b.jpg?raw=1\" alt=\"raspberry pi\" width=\"250\">"
      ]
    },
    {
      "cell_type": "markdown",
      "metadata": {
        "id": "fMW2nDhS3Z35"
      },
      "source": [
        "## ¿Quién creó Python?\n",
        "* Python fué creado por el programador holandés [Guido van Rossum](https://es.wikipedia.org/wiki/Guido_van_Rossum)."
      ]
    },
    {
      "cell_type": "markdown",
      "metadata": {
        "id": "yXV0Ky-E8SHU"
      },
      "source": [
        "## El intérprete de Python\n",
        "* Python es un lenguaje interpretado, no compilado.\n",
        "\n",
        "<img src=\"https://github.com/financieras/curso_python/blob/main/img/interprete_python.png?raw=1\" alt=\"molde\" width=\"500\">\n"
      ]
    },
    {
      "cell_type": "markdown",
      "metadata": {
        "id": "xpJQpiv4475c"
      },
      "source": [
        "## Posibles formas de ejecutar Python\n",
        "1. La instalación oficial trae su propio entorno de desarrollo: el `IDLE`\n",
        "2. Existen multitud de editores:\n",
        "    - [Visual Studio Code](https://code.visualstudio.com) → acepta múltiples lenguajes, muy profesional y es el más usado actualmente\n",
        "    - [PyCharm](https://www.jetbrains.com/pycharm) → editor específico para Python. Va bajando su cuota de mercado\n",
        "    - [Thonny](https://thonny.org) → sencillo y destinado a principiantes\n",
        "3. Se puede ejecutar de forma online:\n",
        "    - [replit](https://replit.com)\n",
        "    - [onlineGDB](https://www.onlinegdb.com/online_python_compiler)\n",
        "    - [OneCompiler](https://onecompiler.com/python)\n",
        "    - [JDoodle](https://www.jdoodle.com/python3-programming-online)\n",
        "    - ... / ...\n",
        "4. Usar [Google Colaboratory](https://colab.research.google.com/?hl=es) comocido como Colab\n",
        "    1. Muy usado en Ciendia de Datos y en Machine Learning\n",
        "    2. Se trabaja con un cuaderno de notas denominado [Jupyter Notebook](https://jupyter.org) que nos permiter hacer nuestros propios apuntes, alternando:\n",
        "        * Celdas de texto escritas en [Markdown](https://markdown.es) y\n",
        "        * Celdas de código Python\n",
        "5. Editor puro + Terminal\n",
        "    1. Se puede editar en un bloc de notas de texto puro (pero nadie trabaja así).\n",
        "        * En Windows ese editor de texto puro puede ser `Notepad`, no vale usar Word o similares\n",
        "    2. Para ejecutarlo se puede hacer directamente en la terminal\n",
        "        * En Windows usando la `CMD` o usando `Power Shell`\n",
        "        * En Mac usando la `Terminal` o `iTerm` con `zsh`\n",
        "        * En Linux con la terminal habitual"
      ]
    },
    {
      "cell_type": "markdown",
      "metadata": {
        "id": "As4AVgVw5SkY"
      },
      "source": [
        "## Descarga oficial\n",
        "1. Podemos ir a la página oficial [python.org](https://www.python.org) y descargar Python para nuestro sistema operativo.\n",
        "2. En Windows existe un paso en la instalación que nos pregunta si queremos añadirlo al PATH, debemos marcar esa opción.\n",
        "\n",
        "\n",
        "<img src=\"https://github.com/financieras/curso_python/blob/main/img/add_to_path.png?raw=1\" alt=\"molde\" width=\"400\">"
      ]
    },
    {
      "cell_type": "markdown",
      "metadata": {
        "id": "VxhW5xgjUyBS"
      },
      "source": [
        "### IDLE\n",
        "1. Si hemos instalado la versión oficial tendremos la posibilidad de usar el `IDLE` que también se habrá instalado.\n",
        "  * el `IDLE` es un IDE de Python\n",
        "    - IDE → Integrated Development Environment\n",
        "    - IDLE → Integrated Development and Learning Environment\n",
        "2. se compone de dos elementos principales:\n",
        "    1. el Editor → donde escribiremos nuestro código\n",
        "    2. la `Shell` → donde el intérprete ejecutará nuestro código\n",
        "\n",
        "  * La `Shell` se obtiene en Windows eligiendo entre tus programa el denominado `IDLE`\n",
        "\n",
        "<img src=\"https://github.com/financieras/curso_python/blob/main/img/python_windows.png?raw=1\" alt=\"molde\" width=\"250\">\n",
        "\n",
        "  * El editor se obtiene en el IDLE haciendo: `File / New File`\n",
        "\n",
        "<img src=\"https://github.com/financieras/curso_python/blob/main/img/editor_shell.png?raw=1\" alt=\"molde\" width=\"800\">"
      ]
    },
    {
      "cell_type": "markdown",
      "metadata": {
        "id": "y2DvO7pr3uFq"
      },
      "source": [
        "## Ejercicios"
      ]
    },
    {
      "cell_type": "markdown",
      "metadata": {
        "id": "2D4ZrGcnvyMr"
      },
      "source": [
        "#### *Ejercicio 1*\n",
        "1. Averigua si existen videojuegos programados en Python\n",
        "2. ¿Cómo se llama la librería que se usa?"
      ]
    },
    {
      "cell_type": "markdown",
      "metadata": {
        "id": "zvHTwEtt4BOg"
      },
      "source": [
        "#### *Ejercicio 2*\n",
        "1. ¿Por qué Guido van Rossum llamó a su lenguaje Python?"
      ]
    },
    {
      "cell_type": "markdown",
      "metadata": {
        "id": "wojor55a6vj3"
      },
      "source": [
        "#### *Ejercicio 3*\n",
        "1. Existe un ranking de lenguajes de programación que se llama *TIOBE Index*.\n",
        "2. ¿Qué lugar ocupa Python actualmente en el índice?\n"
      ]
    },
    {
      "cell_type": "markdown",
      "source": [
        "#### *Ejercicio 4*\n",
        "Mira en alguna página de empleo, por ejemplo Infojobs, los términos:\n",
        "1. Python → ¿Hay más de 500 ofertas?\n",
        "2. JavaScript → ¿Hay más de 500 ofertas?\n",
        "3. Excel → ¿Hay más de 4000 ofertas?"
      ],
      "metadata": {
        "id": "V6B7od1bP75P"
      }
    },
    {
      "cell_type": "markdown",
      "metadata": {
        "id": "uOZLQbQGnGLL"
      },
      "source": [
        "#### *Ejercicio 5*\n",
        "1. Ejecuta el código de la imagen de arriba en un editor online\n",
        "2. Ejecuta el código en un editor, por ejemplo en Thonny\n",
        "3. Ejecuta el código en el IDLE oficial\n",
        "4. Ejecuta el código en Colab\n",
        "5. Crea el código en un editor de texto básico como `Notepad` y ejecuta en la terminal"
      ]
    }
  ],
  "metadata": {
    "colab": {
      "provenance": [],
      "include_colab_link": true
    },
    "kernelspec": {
      "display_name": "Python 3",
      "name": "python3"
    },
    "language_info": {
      "name": "python"
    }
  },
  "nbformat": 4,
  "nbformat_minor": 0
}