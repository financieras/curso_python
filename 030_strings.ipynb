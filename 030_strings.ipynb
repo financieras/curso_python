{
  "nbformat": 4,
  "nbformat_minor": 0,
  "metadata": {
    "colab": {
      "provenance": [],
      "authorship_tag": "ABX9TyNHgvd3hPSeQ2/08sMqvrv5",
      "include_colab_link": true
    },
    "kernelspec": {
      "name": "python3",
      "display_name": "Python 3"
    },
    "language_info": {
      "name": "python"
    }
  },
  "cells": [
    {
      "cell_type": "markdown",
      "metadata": {
        "id": "view-in-github",
        "colab_type": "text"
      },
      "source": [
        "<a href=\"https://colab.research.google.com/github/financieras/curso_python/blob/main/030_strings.ipynb\" target=\"_parent\"><img src=\"https://colab.research.google.com/assets/colab-badge.svg\" alt=\"Open In Colab\"/></a>"
      ]
    },
    {
      "cell_type": "markdown",
      "source": [
        "# Strings"
      ],
      "metadata": {
        "id": "mngZa0hJnKAr"
      }
    },
    {
      "cell_type": "markdown",
      "source": [
        "## Python es case-sensitive\n",
        "* Python es un lenguaje de programación que distingue entre mayúsculas y minúsculas."
      ],
      "metadata": {
        "id": "JiLhmotPnRpH"
      }
    },
    {
      "cell_type": "code",
      "source": [
        "'Hola' == 'hola'   # False. El doble igual == compara, no confundir con solo uno"
      ],
      "metadata": {
        "colab": {
          "base_uri": "https://localhost:8080/"
        },
        "id": "UqMk3U6Yn0E6",
        "outputId": "0e170efc-58b9-46d9-9485-beb8b8a2caf9"
      },
      "execution_count": null,
      "outputs": [
        {
          "output_type": "execute_result",
          "data": {
            "text/plain": [
              "False"
            ]
          },
          "metadata": {},
          "execution_count": 15
        }
      ]
    },
    {
      "cell_type": "markdown",
      "source": [
        "### Funciones `lower()` y `upper()`\n",
        "* Podemos convertir todo a mayúsculas o a minúsuclas."
      ],
      "metadata": {
        "id": "MpuB1ksroSqS"
      }
    },
    {
      "cell_type": "code",
      "source": [
        "\"Buenos Aires\".lower()"
      ],
      "metadata": {
        "colab": {
          "base_uri": "https://localhost:8080/",
          "height": 36
        },
        "id": "ehUuTvLgotfY",
        "outputId": "f12821ad-8fb5-4f50-aeaf-fc6b3e09bad6"
      },
      "execution_count": null,
      "outputs": [
        {
          "output_type": "execute_result",
          "data": {
            "text/plain": [
              "'buenos aires'"
            ],
            "application/vnd.google.colaboratory.intrinsic+json": {
              "type": "string"
            }
          },
          "metadata": {},
          "execution_count": 18
        }
      ]
    },
    {
      "cell_type": "markdown",
      "source": [
        "* Esto permite comparar strings sin importar como van escritos."
      ],
      "metadata": {
        "id": "tLUhdtKAxr6N"
      }
    },
    {
      "cell_type": "code",
      "source": [
        "# Parándolo todo a mayúsculas\n",
        "'buenos aires'.upper() == \"Buenos Aires\".upper()    # True"
      ],
      "metadata": {
        "colab": {
          "base_uri": "https://localhost:8080/"
        },
        "id": "WccfsoQjpMKN",
        "outputId": "b1264ae1-5766-4dd0-f99d-aa21a1129109"
      },
      "execution_count": null,
      "outputs": [
        {
          "output_type": "execute_result",
          "data": {
            "text/plain": [
              "True"
            ]
          },
          "metadata": {},
          "execution_count": 20
        }
      ]
    },
    {
      "cell_type": "markdown",
      "source": [
        "## Concatenar con `+`"
      ],
      "metadata": {
        "id": "f9063i8Sy8Sn"
      }
    },
    {
      "cell_type": "code",
      "source": [
        "2 + 3               # el signo + con números suma"
      ],
      "metadata": {
        "colab": {
          "base_uri": "https://localhost:8080/"
        },
        "id": "m9CEBCYBz8kN",
        "outputId": "a1ab41bd-a938-4eee-fb7c-475fe1989686"
      },
      "execution_count": null,
      "outputs": [
        {
          "output_type": "execute_result",
          "data": {
            "text/plain": [
              "5"
            ]
          },
          "metadata": {},
          "execution_count": 27
        }
      ]
    },
    {
      "cell_type": "code",
      "source": [
        "\"Villa\" + \"nueva\"   # el signo + con strings concatena"
      ],
      "metadata": {
        "colab": {
          "base_uri": "https://localhost:8080/",
          "height": 36
        },
        "id": "EwrcqT61zBk6",
        "outputId": "05e0defc-eef4-4541-d89e-74bdfd8f7871"
      },
      "execution_count": null,
      "outputs": [
        {
          "output_type": "execute_result",
          "data": {
            "text/plain": [
              "'Villanueva'"
            ],
            "application/vnd.google.colaboratory.intrinsic+json": {
              "type": "string"
            }
          },
          "metadata": {},
          "execution_count": 26
        }
      ]
    },
    {
      "cell_type": "markdown",
      "source": [
        "# Números"
      ],
      "metadata": {
        "id": "eO9VxKph2Y-S"
      }
    },
    {
      "cell_type": "markdown",
      "source": [
        "# Listas"
      ],
      "metadata": {
        "id": "sPweE3UU7N7t"
      }
    },
    {
      "cell_type": "markdown",
      "source": [
        "## Lista vacía"
      ],
      "metadata": {
        "id": "UQRarF8u7rB3"
      }
    },
    {
      "cell_type": "code",
      "source": [
        "mylist = []\n",
        "mylist"
      ],
      "metadata": {
        "colab": {
          "base_uri": "https://localhost:8080/"
        },
        "id": "cG3TJnig7vyu",
        "outputId": "e004181c-27ac-4c23-bdb8-b1e5b80a18bd"
      },
      "execution_count": null,
      "outputs": [
        {
          "output_type": "execute_result",
          "data": {
            "text/plain": [
              "[]"
            ]
          },
          "metadata": {},
          "execution_count": 39
        }
      ]
    },
    {
      "cell_type": "markdown",
      "source": [
        "Las listas pueden contener diferentes tipos de datos."
      ],
      "metadata": {
        "id": "CDQ_5W8f3ZMT"
      }
    },
    {
      "cell_type": "code",
      "source": [
        "deportista = [\"Ana\", 18, 1.78, True]\n",
        "print(deportista)"
      ],
      "metadata": {
        "colab": {
          "base_uri": "https://localhost:8080/"
        },
        "id": "IYtuceAA3dYI",
        "outputId": "d52a6bb2-964e-4619-e365-90206c356900"
      },
      "execution_count": null,
      "outputs": [
        {
          "output_type": "stream",
          "name": "stdout",
          "text": [
            "['Ana', 18, 1.78, True]\n"
          ]
        }
      ]
    },
    {
      "cell_type": "markdown",
      "source": [
        "El index de los elementos comienza por cero."
      ],
      "metadata": {
        "id": "rma6uyrH5AYk"
      }
    },
    {
      "cell_type": "code",
      "source": [
        "deportista[0]       # el primer elementos tiene index 0"
      ],
      "metadata": {
        "colab": {
          "base_uri": "https://localhost:8080/",
          "height": 36
        },
        "id": "ItV6mIjJ40Qu",
        "outputId": "e235e86f-5c8a-4f54-c0cf-f1e96892454c"
      },
      "execution_count": null,
      "outputs": [
        {
          "output_type": "execute_result",
          "data": {
            "text/plain": [
              "'Ana'"
            ],
            "application/vnd.google.colaboratory.intrinsic+json": {
              "type": "string"
            }
          },
          "metadata": {},
          "execution_count": 33
        }
      ]
    },
    {
      "cell_type": "markdown",
      "source": [
        "Caracteres de escape:\n",
        "\n",
        "* `\\t` es un tabulador\n",
        "* `\\n` es una nueva línea, es la abreviatura de *new line*"
      ],
      "metadata": {
        "id": "3cU5B5hY5EHd"
      }
    },
    {
      "cell_type": "code",
      "source": [
        "print(\"Datos de la deportista\".upper())\n",
        "print(\"\\tNombre:\", deportista[0])\n",
        "print(\"\\tEdad:\", deportista[1])\n",
        "print(\"\\tAltura:\", deportista[2])\n",
        "print(\"\\tFederada:\", deportista[3])"
      ],
      "metadata": {
        "colab": {
          "base_uri": "https://localhost:8080/"
        },
        "id": "dUjy_aLl4DW0",
        "outputId": "4519c30c-401f-4f24-ed74-7e8b25044a13"
      },
      "execution_count": null,
      "outputs": [
        {
          "output_type": "stream",
          "name": "stdout",
          "text": [
            "DATOS DE LA DEPORTISTA\n",
            "\tNombre: Ana\n",
            "\tEdad: 18\n",
            "\tAltura: 1.78\n",
            "\tFederada: True\n"
          ]
        }
      ]
    },
    {
      "cell_type": "markdown",
      "source": [
        "# Tuplas"
      ],
      "metadata": {
        "id": "SoZZtPrL7cXm"
      }
    },
    {
      "cell_type": "markdown",
      "source": [
        "## Tupla vacía"
      ],
      "metadata": {
        "id": "P3O7atNR76ld"
      }
    },
    {
      "cell_type": "code",
      "source": [
        "mytuple = ()\n",
        "mytuple\n",
        "type(mytuple)"
      ],
      "metadata": {
        "colab": {
          "base_uri": "https://localhost:8080/"
        },
        "id": "hMz12BA179J6",
        "outputId": "02a03bff-33c3-4bc1-d9ae-b2c2198161f7"
      },
      "execution_count": null,
      "outputs": [
        {
          "output_type": "execute_result",
          "data": {
            "text/plain": [
              "tuple"
            ]
          },
          "metadata": {},
          "execution_count": 41
        }
      ]
    },
    {
      "cell_type": "markdown",
      "source": [
        "## Tupla con un solo elemento\n",
        "* Es importante poner la coma"
      ],
      "metadata": {
        "id": "0K9FF5t18IQy"
      }
    },
    {
      "cell_type": "code",
      "source": [
        "dias = (5,)\n",
        "print(dias)\n",
        "type(dias)"
      ],
      "metadata": {
        "colab": {
          "base_uri": "https://localhost:8080/"
        },
        "id": "9zvS-_Yf8Pki",
        "outputId": "de579ba5-7b0b-4070-fd81-ff4d4ac26644"
      },
      "execution_count": null,
      "outputs": [
        {
          "output_type": "stream",
          "name": "stdout",
          "text": [
            "(5,)\n"
          ]
        },
        {
          "output_type": "execute_result",
          "data": {
            "text/plain": [
              "tuple"
            ]
          },
          "metadata": {},
          "execution_count": 45
        }
      ]
    }
  ]
}