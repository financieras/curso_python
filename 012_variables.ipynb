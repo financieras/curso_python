{
  "cells": [
    {
      "cell_type": "markdown",
      "metadata": {
        "id": "view-in-github",
        "colab_type": "text"
      },
      "source": [
        "<a href=\"https://colab.research.google.com/github/financieras/curso_python/blob/main/012_variables.ipynb\" target=\"_parent\"><img src=\"https://colab.research.google.com/assets/colab-badge.svg\" alt=\"Open In Colab\"/></a>"
      ]
    },
    {
      "cell_type": "markdown",
      "metadata": {
        "id": "ZdEH0lp-wL97"
      },
      "source": [
        "# Variables\n",
        "* Una variable es un espacio en memoria que recoge un dato.\n",
        "* Podemos entender una variable como si fuera una caja donde guardamos algún tipo de dato.\n",
        "* Esa caja o variable ha de tener un nombre de variable.  \n",
        "\n",
        "\n",
        "<img src=\"https://github.com/financieras/curso_python/blob/main/img/variable.jpg?raw=1\" alt=\"raspberry pi\" width=\"400\">"
      ]
    },
    {
      "cell_type": "code",
      "execution_count": null,
      "metadata": {
        "colab": {
          "base_uri": "https://localhost:8080/"
        },
        "id": "uGyehxOaww7F",
        "outputId": "bc2a3cd6-fcc8-488a-b408-071810d40550"
      },
      "outputs": [
        {
          "output_type": "stream",
          "name": "stdout",
          "text": [
            "5\n"
          ]
        }
      ],
      "source": [
        "x = 5       # asignamos el valor a la variable\n",
        "print(x)    # imprimimos la variable"
      ]
    },
    {
      "cell_type": "code",
      "execution_count": null,
      "metadata": {
        "id": "AjkdcXAcqj7m",
        "outputId": "be9c5561-ddc3-4b93-e9df-92fc521b65d5",
        "colab": {
          "base_uri": "https://localhost:8080/"
        }
      },
      "outputs": [
        {
          "output_type": "execute_result",
          "data": {
            "text/plain": [
              "int"
            ]
          },
          "metadata": {},
          "execution_count": 2
        }
      ],
      "source": [
        "type(x)    #  es un número entero int"
      ]
    },
    {
      "cell_type": "code",
      "execution_count": null,
      "metadata": {
        "colab": {
          "base_uri": "https://localhost:8080/"
        },
        "id": "3EaA4DMzw2fb",
        "outputId": "c44982ad-b5b6-43a3-c4dd-1ce18a087b87"
      },
      "outputs": [
        {
          "output_type": "stream",
          "name": "stdout",
          "text": [
            "Hola mundo\n"
          ]
        }
      ],
      "source": [
        "saludo = \"Hola mundo\"   # la variable es una cadena alfanumérica\n",
        "print(saludo)"
      ]
    },
    {
      "cell_type": "code",
      "execution_count": null,
      "metadata": {
        "id": "zc1kjEOpqj7o",
        "outputId": "8129b3df-b3ec-49df-ed81-de0f9e8c4b46",
        "colab": {
          "base_uri": "https://localhost:8080/"
        }
      },
      "outputs": [
        {
          "output_type": "execute_result",
          "data": {
            "text/plain": [
              "str"
            ]
          },
          "metadata": {},
          "execution_count": 4
        }
      ],
      "source": [
        "type(saludo)            # string"
      ]
    },
    {
      "cell_type": "code",
      "execution_count": null,
      "metadata": {
        "id": "_yPkjRDgqj7o",
        "outputId": "9762484f-fae3-4b95-bf48-9fa6fa833882",
        "colab": {
          "base_uri": "https://localhost:8080/"
        }
      },
      "outputs": [
        {
          "output_type": "stream",
          "name": "stdout",
          "text": [
            "4.17\n"
          ]
        },
        {
          "output_type": "execute_result",
          "data": {
            "text/plain": [
              "float"
            ]
          },
          "metadata": {},
          "execution_count": 5
        }
      ],
      "source": [
        "peso = 4.17   # es un número de coma flotante → float\n",
        "print(peso)\n",
        "type(peso)"
      ]
    },
    {
      "cell_type": "markdown",
      "metadata": {
        "id": "7XGtlOVrqj7p"
      },
      "source": [
        "### Usar `print` con coma\n",
        "Al imprimir elementos separados por coma se muestra un espacio entre ellos."
      ]
    },
    {
      "cell_type": "code",
      "execution_count": null,
      "metadata": {
        "id": "iv_QNo9Uqj7p",
        "outputId": "56e7d791-67bc-4b17-ae72-941100dac006",
        "colab": {
          "base_uri": "https://localhost:8080/"
        }
      },
      "outputs": [
        {
          "output_type": "stream",
          "name": "stdout",
          "text": [
            "Hola Ana\n"
          ]
        }
      ],
      "source": [
        "nombre = \"Ana\"\n",
        "print(\"Hola\", nombre)"
      ]
    },
    {
      "cell_type": "code",
      "execution_count": null,
      "metadata": {
        "id": "e10YHiVQqj7q",
        "outputId": "367fc6fd-5deb-43b4-9e34-0b18636450c6",
        "colab": {
          "base_uri": "https://localhost:8080/"
        }
      },
      "outputs": [
        {
          "output_type": "stream",
          "name": "stdout",
          "text": [
            "Me llamo Ana y tengo 15 años\n"
          ]
        }
      ],
      "source": [
        "edad = 15\n",
        "print(\"Me llamo\", nombre, \"y tengo\", edad, \"años\")"
      ]
    },
    {
      "cell_type": "markdown",
      "metadata": {
        "id": "x-DCOnlQ1Dni"
      },
      "source": [
        "## Operar con variables"
      ]
    },
    {
      "cell_type": "code",
      "execution_count": null,
      "metadata": {
        "colab": {
          "base_uri": "https://localhost:8080/"
        },
        "id": "YsNnoHnl1JSg",
        "outputId": "7c0ff40c-a89a-4895-f36b-2050c262d045"
      },
      "outputs": [
        {
          "output_type": "stream",
          "name": "stdout",
          "text": [
            "Al dividir 10 entre 4 obtenemos 2.5\n",
            "Al dividir 10 entre 4 obtenemos 2.5\n"
          ]
        }
      ],
      "source": [
        "a = 10\n",
        "b = 4\n",
        "c = a / b       # c es un número de coma flotante, con decimales: float\n",
        "print(\"Al dividir\", a, \"entre\", b, \"obtenemos\", c)\n",
        "print(f'Al dividir {a} entre {b} obtenemos {a / b}')    # imprimir con formato f"
      ]
    },
    {
      "cell_type": "markdown",
      "source": [
        "## Inicializar variables y asignar variables\n",
        "1. Llamamos **inicializar** a la primera vez que igualamos una variable a un valor\n",
        "2. Llamamos **asignar** cuando igualamos un valor a una variable\n",
        "\n",
        "* En otros lenguajes existe la *declaración* de la variable que consiste en indicar previamente de que tipo es la variable.\n",
        "* En Python esto no es obligatorio."
      ],
      "metadata": {
        "id": "D0nunLT0B4-4"
      }
    },
    {
      "cell_type": "code",
      "source": [
        "edad = 17                               # inicialización de la variable\n",
        "print(\"Mi edad es\", edad)\n",
        "\n",
        "edad = 18                               # asignación de la variable\n",
        "print(\"Próximamente cumpliré\", edad)\n",
        "\n",
        "edad += 1                               # equivale a poner  edad = edad + 1\n",
        "print(\"El próximo año cumpliré\", edad)"
      ],
      "metadata": {
        "id": "9ggUlRAaCTtR",
        "outputId": "53870f56-74e5-430c-f954-068df14ff29d",
        "colab": {
          "base_uri": "https://localhost:8080/"
        }
      },
      "execution_count": null,
      "outputs": [
        {
          "output_type": "stream",
          "name": "stdout",
          "text": [
            "Mi edad es 17\n",
            "Próximamente cumpliré 18\n",
            "El próximo año cumpliré 19\n"
          ]
        }
      ]
    },
    {
      "cell_type": "markdown",
      "metadata": {
        "id": "kTRl4Q8mwWf5"
      },
      "source": [
        "## Variables múltiples"
      ]
    },
    {
      "cell_type": "code",
      "execution_count": null,
      "metadata": {
        "colab": {
          "base_uri": "https://localhost:8080/"
        },
        "id": "Awzzthq0wbqc",
        "outputId": "39adcbe8-938a-4a6a-f800-81bf6d2c903f"
      },
      "outputs": [
        {
          "output_type": "stream",
          "name": "stdout",
          "text": [
            "3 4\n"
          ]
        }
      ],
      "source": [
        "a, b = 3, 4\n",
        "print(a, b)"
      ]
    },
    {
      "cell_type": "code",
      "execution_count": null,
      "metadata": {
        "colab": {
          "base_uri": "https://localhost:8080/"
        },
        "id": "Dg1gunRIwfIy",
        "outputId": "934552ca-61a5-456d-d5f9-9326fef26e0c"
      },
      "outputs": [
        {
          "output_type": "stream",
          "name": "stdout",
          "text": [
            "1 1 1\n"
          ]
        }
      ],
      "source": [
        "p = q =r = 1\n",
        "print(p, q, r)"
      ]
    },
    {
      "cell_type": "markdown",
      "metadata": {
        "id": "N1O2gNw52NDR"
      },
      "source": [
        "# Constantes\n",
        "* Una constante es una variable que no cambiará durante la ejecución del programa.\n",
        "* En Python no se declaran las constantes de forma específica  \n",
        "* Por convención una constante es una variable que se escribe completamente en mayúsculas."
      ]
    },
    {
      "cell_type": "code",
      "execution_count": null,
      "metadata": {
        "id": "eEeLaK672ey6"
      },
      "outputs": [],
      "source": [
        "PI = 3.14159\n",
        "LUZ = 300_000   # de forma optativa podemos usar _ como separador de miles"
      ]
    },
    {
      "cell_type": "markdown",
      "metadata": {
        "id": "bq9Qkd5w2-c4"
      },
      "source": [
        "## Tipado dinámico\n",
        "* Tipado dinámico vs tipado estático\n",
        "* Python es un lenguaje de programación de tipado dinámico.\n",
        "* El tipado dinámico supone que la variable puede cambiar de tipo"
      ]
    },
    {
      "cell_type": "code",
      "execution_count": null,
      "metadata": {
        "id": "W3eEDAhm3Kbw",
        "outputId": "048a87e3-fe0a-45c8-aaa7-3a98bc740bd5",
        "colab": {
          "base_uri": "https://localhost:8080/"
        }
      },
      "outputs": [
        {
          "output_type": "stream",
          "name": "stdout",
          "text": [
            "0.18\n"
          ]
        }
      ],
      "source": [
        "fondo = \"gris\"      # puede ser un string (una cadena de texto)\n",
        "fondo = 100         # puede ser un número de tipo int (entero)\n",
        "fondo = .18         # puede ser un número de tipo float (con decimales)\n",
        "\n",
        "print(fondo)        # prevalece el último valor dado a la variable"
      ]
    },
    {
      "cell_type": "markdown",
      "metadata": {
        "id": "xPw-OWznjMRB"
      },
      "source": [
        "## Tipado fuerte\n",
        "* Tipado fuerte vs tipado débil\n",
        "* Tipado fuerte: cuando arroja un error ante una operación entre dos tipos de datos incompatibles, en lugar de convertir implícitamente alguno de los dos tipos."
      ]
    },
    {
      "cell_type": "code",
      "execution_count": null,
      "metadata": {
        "colab": {
          "base_uri": "https://localhost:8080/"
        },
        "id": "SAL4tGkxjrmD",
        "outputId": "4138c940-2240-48a3-8275-25b5cb7bada1"
      },
      "outputs": [
        {
          "output_type": "stream",
          "name": "stdout",
          "text": [
            "23\n",
            "5\n"
          ]
        }
      ],
      "source": [
        "a = 2\n",
        "b = \"3\"\n",
        "#print(a + b)       # ¡Error!\n",
        "\n",
        "print(str(a) + b)   # casteando con str para convertir el número a string\n",
        "print(a + int(b))   # casteando con int para convertir el string a entero"
      ]
    },
    {
      "cell_type": "markdown",
      "source": [
        "#### JavaScript tiene tipado débil\n",
        "\n",
        " &nbsp;&nbsp;&nbsp;&nbsp; &nbsp;&nbsp;&nbsp;&nbsp;<img src=\"https://github.com/financieras/curso_python/blob/main/img/javascript_tipado_debil.png?raw=1\" alt=\"javascript con tipado débil\" width=\"150\">\n",
        "\n",
        "#### Lenguajes de programación según tipado\n",
        "\n",
        "<img src=\"https://github.com/financieras/curso_python/blob/main/img/dinamic_strong.png?raw=1\" alt=\"molde\" width=\"300\">"
      ],
      "metadata": {
        "id": "WjfgFO9qxj8z"
      }
    },
    {
      "cell_type": "markdown",
      "metadata": {
        "id": "11020dc7"
      },
      "source": [
        "## Error al concatenar con un número"
      ]
    },
    {
      "cell_type": "code",
      "execution_count": null,
      "metadata": {
        "id": "5f4a6df6"
      },
      "outputs": [],
      "source": [
        "#\"Vuelo \" + 505               # TypeError: can only concatenate str (not \"int\") to str"
      ]
    },
    {
      "cell_type": "code",
      "execution_count": null,
      "metadata": {
        "id": "86e3504e",
        "outputId": "d9eeb372-360b-43da-a43c-ac875e55cd04",
        "colab": {
          "base_uri": "https://localhost:8080/",
          "height": 35
        }
      },
      "outputs": [
        {
          "output_type": "execute_result",
          "data": {
            "text/plain": [
              "'Vuelo 505'"
            ],
            "application/vnd.google.colaboratory.intrinsic+json": {
              "type": "string"
            }
          },
          "metadata": {},
          "execution_count": 9
        }
      ],
      "source": [
        "\"Vuelo \" + str(505)           # la función str() convierte un número en cadena"
      ]
    },
    {
      "cell_type": "markdown",
      "source": [
        "### Mi nombre y mi edad\n",
        "A la edad la tenemos que añadir la función `str()` que convierte un número en cadena (string)."
      ],
      "metadata": {
        "id": "A4n4DBvZK02x"
      }
    },
    {
      "cell_type": "code",
      "source": [
        "nombre = \"Alex\"\n",
        "edad = 30\n",
        "print(\"Me llamo \" + nombre + \" y tengo \" + str(edad) + \" años.\")"
      ],
      "metadata": {
        "id": "MfL3KJ6mLOjz",
        "outputId": "c871a45b-cc84-4d9c-9989-6f47961d74f7",
        "colab": {
          "base_uri": "https://localhost:8080/"
        }
      },
      "execution_count": null,
      "outputs": [
        {
          "output_type": "stream",
          "name": "stdout",
          "text": [
            "Me llamo Alex y tengo 30 años.\n"
          ]
        }
      ]
    },
    {
      "cell_type": "markdown",
      "source": [
        "#### Otra forma de escribirlo más moderna, con formato `f`"
      ],
      "metadata": {
        "id": "OTx36JOWLlrt"
      }
    },
    {
      "cell_type": "code",
      "source": [
        "print(f\"Me llamo {nombre} y tengo {edad} años.\")"
      ],
      "metadata": {
        "id": "djkwBfKBLr0F",
        "outputId": "f1c07e62-5ed1-46d2-b3c2-e376449b05b6",
        "colab": {
          "base_uri": "https://localhost:8080/"
        }
      },
      "execution_count": null,
      "outputs": [
        {
          "output_type": "stream",
          "name": "stdout",
          "text": [
            "Me llamo Alex y tengo 30 años.\n"
          ]
        }
      ]
    },
    {
      "cell_type": "markdown",
      "metadata": {
        "id": "25a6156f"
      },
      "source": [
        "# Permutar valores  \n",
        "## Utilizando una variable auxiliar\n",
        "<img src=\"https://github.com/financieras/pyCourse/blob/main/jupyter/img/rojo_amarillo_azul_.jpg?raw=1\" alt=\"Tres vasos\" width=\"250\"/>"
      ]
    },
    {
      "cell_type": "code",
      "execution_count": null,
      "metadata": {
        "colab": {
          "base_uri": "https://localhost:8080/"
        },
        "id": "bcb071e5",
        "outputId": "110c669c-e9f0-42f7-ea64-e613cc66bafb"
      },
      "outputs": [
        {
          "output_type": "stream",
          "name": "stdout",
          "text": [
            "a=10, b=5\n"
          ]
        }
      ],
      "source": [
        "a = 5\n",
        "b = 10\n",
        "\n",
        "aux = a                          # creamos una variable auxiliar, se suele llamar aux o temp\n",
        "a = b\n",
        "b = aux\n",
        "\n",
        "print(f'a={a}, b={b}')"
      ]
    },
    {
      "cell_type": "markdown",
      "metadata": {
        "id": "113b1dee"
      },
      "source": [
        "## Python permite permutar en una sola línea"
      ]
    },
    {
      "cell_type": "code",
      "execution_count": null,
      "metadata": {
        "colab": {
          "base_uri": "https://localhost:8080/"
        },
        "id": "ba95b435",
        "outputId": "553349b1-e4f7-4c5d-e7aa-1c03ad9bd482"
      },
      "outputs": [
        {
          "output_type": "stream",
          "name": "stdout",
          "text": [
            "a=10, b=5\n"
          ]
        }
      ],
      "source": [
        "a, b = 5, 10\n",
        "\n",
        "a, b = b, a                      # otra forma maravillosa de permutar valores\n",
        "\n",
        "print(f'a={a}, b={b}')"
      ]
    },
    {
      "cell_type": "markdown",
      "metadata": {
        "id": "Qy9f-w9Nqj7s"
      },
      "source": [
        "## Ejercicios"
      ]
    },
    {
      "cell_type": "markdown",
      "metadata": {
        "id": "LCSw0ihQqj7t"
      },
      "source": [
        "#### *Ejercicio 1*\n",
        "Imprime dos frases, una debajo de la otra."
      ]
    },
    {
      "cell_type": "markdown",
      "metadata": {
        "id": "4rqqleZlqj7t"
      },
      "source": [
        "#### *Ejercicio 2*\n",
        "Usa las variables `lugar` y `nombre` para llegar a imprimir la frase:\n",
        "```\n",
        "Prefiero ir de vacaciones a Málaga con Julia.\n",
        "```\n",
        "Consigue que al cambiar el valor de las variables la frase cambie.\n",
        "\n",
        "Por ejemplo, la frase podría cambiar a esta:\n",
        "\n",
        "```\n",
        "Prefiero ir de vacaciones a Galicia con Pablo.\n",
        "```"
      ]
    }
  ],
  "metadata": {
    "colab": {
      "provenance": [],
      "include_colab_link": true
    },
    "kernelspec": {
      "display_name": "Python 3",
      "name": "python3"
    },
    "language_info": {
      "name": "python",
      "version": "3.9.6"
    }
  },
  "nbformat": 4,
  "nbformat_minor": 0
}