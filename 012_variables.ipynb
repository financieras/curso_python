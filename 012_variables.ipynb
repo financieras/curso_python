{
  "cells": [
    {
      "cell_type": "markdown",
      "metadata": {
        "id": "view-in-github",
        "colab_type": "text"
      },
      "source": [
        "<a href=\"https://colab.research.google.com/github/financieras/curso_python/blob/main/012_variables.ipynb\" target=\"_parent\"><img src=\"https://colab.research.google.com/assets/colab-badge.svg\" alt=\"Open In Colab\"/></a>"
      ]
    },
    {
      "cell_type": "markdown",
      "metadata": {
        "id": "ZdEH0lp-wL97"
      },
      "source": [
        "# Variables\n",
        "Una variable es un espacio en memoria que recoge un dato."
      ]
    },
    {
      "cell_type": "code",
      "execution_count": 1,
      "metadata": {
        "colab": {
          "base_uri": "https://localhost:8080/"
        },
        "id": "uGyehxOaww7F",
        "outputId": "77b85362-99a3-4df4-9314-aac1a5bc372f"
      },
      "outputs": [
        {
          "output_type": "stream",
          "name": "stdout",
          "text": [
            "5\n"
          ]
        }
      ],
      "source": [
        "x = 5       # asignamos el valor a la variable\n",
        "print(x)    # imprimimos la variable"
      ]
    },
    {
      "cell_type": "code",
      "execution_count": 2,
      "metadata": {
        "id": "AjkdcXAcqj7m",
        "outputId": "b6b06c2c-27db-43e3-d154-0b54f3d96374",
        "colab": {
          "base_uri": "https://localhost:8080/"
        }
      },
      "outputs": [
        {
          "output_type": "execute_result",
          "data": {
            "text/plain": [
              "int"
            ]
          },
          "metadata": {},
          "execution_count": 2
        }
      ],
      "source": [
        "type(x)    #  es un número entero int"
      ]
    },
    {
      "cell_type": "code",
      "execution_count": 3,
      "metadata": {
        "colab": {
          "base_uri": "https://localhost:8080/"
        },
        "id": "3EaA4DMzw2fb",
        "outputId": "32bcba65-ed64-4102-9a30-a4810fbb94a1"
      },
      "outputs": [
        {
          "output_type": "stream",
          "name": "stdout",
          "text": [
            "Hola mundo\n"
          ]
        }
      ],
      "source": [
        "saludo = \"Hola mundo\"   # la variable es una cadena alfanumérica\n",
        "print(saludo)"
      ]
    },
    {
      "cell_type": "code",
      "execution_count": 4,
      "metadata": {
        "id": "zc1kjEOpqj7o",
        "outputId": "013eb217-9502-4e46-f73c-683402abbcb5",
        "colab": {
          "base_uri": "https://localhost:8080/"
        }
      },
      "outputs": [
        {
          "output_type": "execute_result",
          "data": {
            "text/plain": [
              "str"
            ]
          },
          "metadata": {},
          "execution_count": 4
        }
      ],
      "source": [
        "type(saludo)            # string"
      ]
    },
    {
      "cell_type": "code",
      "execution_count": 5,
      "metadata": {
        "id": "_yPkjRDgqj7o",
        "outputId": "3d760e5c-8e01-4594-fade-3958321ef835",
        "colab": {
          "base_uri": "https://localhost:8080/"
        }
      },
      "outputs": [
        {
          "output_type": "stream",
          "name": "stdout",
          "text": [
            "4.17\n"
          ]
        },
        {
          "output_type": "execute_result",
          "data": {
            "text/plain": [
              "float"
            ]
          },
          "metadata": {},
          "execution_count": 5
        }
      ],
      "source": [
        "peso = 4.17   # es un número de coma flotante → float\n",
        "print(peso)\n",
        "type(peso)"
      ]
    },
    {
      "cell_type": "markdown",
      "metadata": {
        "id": "7XGtlOVrqj7p"
      },
      "source": [
        "### Usar `print` con coma\n",
        "Al imprimir elementos separados por coma se muestra un espacio entre ellos."
      ]
    },
    {
      "cell_type": "code",
      "execution_count": 6,
      "metadata": {
        "id": "iv_QNo9Uqj7p",
        "outputId": "f7583752-d9c5-4fa6-8744-63cd3fe27c28",
        "colab": {
          "base_uri": "https://localhost:8080/"
        }
      },
      "outputs": [
        {
          "output_type": "stream",
          "name": "stdout",
          "text": [
            "Hola Ana\n"
          ]
        }
      ],
      "source": [
        "nombre = \"Ana\"\n",
        "print(\"Hola\", nombre)"
      ]
    },
    {
      "cell_type": "code",
      "execution_count": 7,
      "metadata": {
        "id": "e10YHiVQqj7q",
        "outputId": "39b06c27-eccd-4f00-9318-9432e875f265",
        "colab": {
          "base_uri": "https://localhost:8080/"
        }
      },
      "outputs": [
        {
          "output_type": "stream",
          "name": "stdout",
          "text": [
            "Me llamo Ana y tengo 15 años\n"
          ]
        }
      ],
      "source": [
        "edad = 15\n",
        "print(\"Me llamo\", nombre, \"y tengo\", edad, \"años\")"
      ]
    },
    {
      "cell_type": "markdown",
      "metadata": {
        "id": "x-DCOnlQ1Dni"
      },
      "source": [
        "## Operar con variables"
      ]
    },
    {
      "cell_type": "code",
      "execution_count": 8,
      "metadata": {
        "colab": {
          "base_uri": "https://localhost:8080/"
        },
        "id": "YsNnoHnl1JSg",
        "outputId": "5ddf7b6a-f595-4ae4-cfed-06c46b2945ea"
      },
      "outputs": [
        {
          "output_type": "stream",
          "name": "stdout",
          "text": [
            "Al dividir 10 entre 4 obtenemos 2.5\n",
            "Al dividir 10 entre 4 obtenemos 2.5\n"
          ]
        }
      ],
      "source": [
        "a = 10\n",
        "b = 4\n",
        "c = a / b       # c es un número de coma flotante, con decimales: float\n",
        "print(\"Al dividir\", a, \"entre\", b, \"obtenemos\", c)\n",
        "print(f'Al dividir {a} entre {b} obtenemos {a / b}')    # imprimir con formato f"
      ]
    },
    {
      "cell_type": "markdown",
      "metadata": {
        "id": "zNwpx8XOxGRc"
      },
      "source": [
        "## Nombres de variables\n",
        "* Las variables tienen un nombre que:\n",
        " 1. no puede llevar espacios\n",
        " 2. no puede llevar simbolos (ç, @, ...)\n",
        " 3. si puede llevar barra baja (`_`)\n",
        " 4. si puede llevar números pero no al inicio\n",
        " 5. no puede llevar palabras reservadas (class, def, if, import, in, is, ...)\n",
        " 6. no se aconseja usar acentos y letra ñ\n",
        " 7. no se aconseja usar mayúsculas"
      ]
    },
    {
      "cell_type": "code",
      "execution_count": 9,
      "metadata": {
        "id": "PPxwDTqPxVZO"
      },
      "outputs": [],
      "source": [
        "# VARIABLES PERMITIDAS\n",
        "my_import = 1000\n",
        "europa2030 = \"objetivo\"\n",
        "equipoVisitante = 2\n",
        "altura_permitida = 3.85\n",
        "unionEuropea = 27\n",
        "\n",
        "\n",
        "# VARIABLES NO PERMITIDAS\n",
        "#7millas = \"distancia\"              # Error, comienza por número\n",
        "#video editado = \"vacaciones\"       # Error, lleva espacio\n",
        "#nombre@dominio = \"join@nasa.gov\"   # Error, lleva un símbolo no permitido\n",
        "#import = 1000                      # Error, es una palabra reservada\n",
        "#mi-nombre = \"Ana\"                  # Error, no acepta guion ni otros símbolos\n",
        "\n",
        "# VARIABLES NO ACONSEJABLES\n",
        "día = 1                             # acentos\n",
        "años = 16                           # letra ñ\n",
        "SEMANA = 7                          # mayúsculas"
      ]
    },
    {
      "cell_type": "markdown",
      "metadata": {
        "id": "A0XbPevVqj7r"
      },
      "source": [
        "### Estilos para nombrar variables\n",
        "Dos estilos:\n",
        "- [camelCase](https://www.google.com/search?q=camelCase)\n",
        "- [snake_case](https://www.google.com/search?q=snake_case)"
      ]
    },
    {
      "cell_type": "code",
      "execution_count": 10,
      "metadata": {
        "id": "FJ9e2y8Iqj7r",
        "outputId": "231c534f-1c07-462e-f32c-d1d9f95b8e7f",
        "colab": {
          "base_uri": "https://localhost:8080/",
          "height": 35
        }
      },
      "outputs": [
        {
          "output_type": "execute_result",
          "data": {
            "text/plain": [
              "'Juan Ruiz'"
            ],
            "application/vnd.google.colaboratory.intrinsic+json": {
              "type": "string"
            }
          },
          "metadata": {},
          "execution_count": 10
        }
      ],
      "source": [
        "nombreApellidos = \"Juan Ruiz\"    # lower camel style\n",
        "NombreApellidos = \"Pablo Díez\"   # upper camel style (este estilo no se recomienda en Python)\n",
        "nombreApellidos"
      ]
    },
    {
      "cell_type": "code",
      "execution_count": 11,
      "metadata": {
        "id": "DiNgaN4Vqj7r",
        "outputId": "bdc7ddc6-9561-4cce-a716-ce1f809029de",
        "colab": {
          "base_uri": "https://localhost:8080/",
          "height": 35
        }
      },
      "outputs": [
        {
          "output_type": "execute_result",
          "data": {
            "text/plain": [
              "'Andrés'"
            ],
            "application/vnd.google.colaboratory.intrinsic+json": {
              "type": "string"
            }
          },
          "metadata": {},
          "execution_count": 11
        }
      ],
      "source": [
        "nombre_del_padre = \"Andrés\"      # sanke style\n",
        "nombre_del_padre"
      ]
    },
    {
      "cell_type": "markdown",
      "metadata": {
        "id": "gHhQsxnVAJbZ"
      },
      "source": [
        "## Case sensitive\n",
        "* Los nombres de variables en Python son *case-sensitive*, se diferencia entre mayúsculas y minúsculas."
      ]
    },
    {
      "cell_type": "code",
      "execution_count": 12,
      "metadata": {
        "colab": {
          "base_uri": "https://localhost:8080/"
        },
        "id": "z3vhEc7pAhUV",
        "outputId": "297edf8d-f384-4e66-efbe-a314d3fbf399"
      },
      "outputs": [
        {
          "output_type": "stream",
          "name": "stdout",
          "text": [
            "Marta\n"
          ]
        }
      ],
      "source": [
        "User = \"Santiago\"\n",
        "user = \"Marta\"\n",
        "\n",
        "print(user)"
      ]
    },
    {
      "cell_type": "code",
      "source": [
        "User == user        # False, case sensitive"
      ],
      "metadata": {
        "id": "vEJK4AktrrEt",
        "outputId": "3a232a5e-a155-4a70-cea4-1ee5273dc659",
        "colab": {
          "base_uri": "https://localhost:8080/"
        }
      },
      "execution_count": 13,
      "outputs": [
        {
          "output_type": "execute_result",
          "data": {
            "text/plain": [
              "False"
            ]
          },
          "metadata": {},
          "execution_count": 13
        }
      ]
    },
    {
      "cell_type": "markdown",
      "metadata": {
        "id": "eu4EYBYF1Ak1"
      },
      "source": [
        "## Convenciones"
      ]
    },
    {
      "cell_type": "code",
      "execution_count": 14,
      "metadata": {
        "id": "--nEgDNV1GGi"
      },
      "outputs": [],
      "source": [
        "# Snake Case\n",
        "numero_vidas = 3    # mejor separar con barra baja que todo junto: numerovidas\n",
        "\n",
        "# Camel Case\n",
        "numeroVidas = 3     # mejor que comenzar por mayúscula: NumeroVidas"
      ]
    },
    {
      "cell_type": "markdown",
      "metadata": {
        "id": "rs-DZpTCDi2z"
      },
      "source": [
        "## Palabras reservadas  \n",
        "Existen ciertos nombres reservamos que no se pueden usar como nombres de variables."
      ]
    },
    {
      "cell_type": "markdown",
      "metadata": {
        "id": "ipomhOa6DpaF"
      },
      "source": [
        "### Todas las `keywords` o palabras reservadas en Python"
      ]
    },
    {
      "cell_type": "code",
      "execution_count": 15,
      "metadata": {
        "colab": {
          "base_uri": "https://localhost:8080/"
        },
        "id": "iM9zJVIKDNjj",
        "outputId": "a2fef35c-a19c-4e91-b690-7d9997584e1c"
      },
      "outputs": [
        {
          "output_type": "stream",
          "name": "stdout",
          "text": [
            "['False', 'None', 'True', 'and', 'as', 'assert', 'async', 'await', 'break', 'class', 'continue', 'def', 'del', 'elif', 'else', 'except', 'finally', 'for', 'from', 'global', 'if', 'import', 'in', 'is', 'lambda', 'nonlocal', 'not', 'or', 'pass', 'raise', 'return', 'try', 'while', 'with', 'yield']\n"
          ]
        }
      ],
      "source": [
        "import keyword        # aquí importamos una librería que esta llena de funciones\n",
        "print(keyword.kwlist) # una de esas funciones es kwlist que listas las keywords"
      ]
    },
    {
      "cell_type": "code",
      "execution_count": 16,
      "metadata": {
        "id": "4P7yb7QnXYy0"
      },
      "outputs": [],
      "source": [
        "# Ejemplo que da error\n",
        "#class = \"Business Class\""
      ]
    },
    {
      "cell_type": "code",
      "execution_count": 17,
      "metadata": {
        "colab": {
          "base_uri": "https://localhost:8080/",
          "height": 35
        },
        "id": "_gzDFs0hXZe6",
        "outputId": "dcb45cad-e8fd-4d6d-8f22-3cb159d286d6"
      },
      "outputs": [
        {
          "output_type": "execute_result",
          "data": {
            "text/plain": [
              "'Business Class'"
            ],
            "application/vnd.google.colaboratory.intrinsic+json": {
              "type": "string"
            }
          },
          "metadata": {},
          "execution_count": 17
        }
      ],
      "source": [
        "# class es una palabra reservada del lenguaje\n",
        "# (Python Keywords)\n",
        "# Mejor usar myclass o user_class\n",
        "user_class = \"Business Class\"\n",
        "user_class"
      ]
    },
    {
      "cell_type": "markdown",
      "metadata": {
        "id": "kTRl4Q8mwWf5"
      },
      "source": [
        "## Variables múltiples"
      ]
    },
    {
      "cell_type": "code",
      "execution_count": 18,
      "metadata": {
        "colab": {
          "base_uri": "https://localhost:8080/"
        },
        "id": "Awzzthq0wbqc",
        "outputId": "5358d9c7-3298-44b5-f6cd-cf46d6af5db2"
      },
      "outputs": [
        {
          "output_type": "stream",
          "name": "stdout",
          "text": [
            "3 4\n"
          ]
        }
      ],
      "source": [
        "a, b = 3, 4\n",
        "print(a, b)"
      ]
    },
    {
      "cell_type": "code",
      "execution_count": 19,
      "metadata": {
        "colab": {
          "base_uri": "https://localhost:8080/"
        },
        "id": "Dg1gunRIwfIy",
        "outputId": "ecdc5466-e01e-451e-e38c-5ea5e5bb64e7"
      },
      "outputs": [
        {
          "output_type": "stream",
          "name": "stdout",
          "text": [
            "1 1 1\n"
          ]
        }
      ],
      "source": [
        "p = q =r = 1\n",
        "print(p, q, r)"
      ]
    },
    {
      "cell_type": "markdown",
      "metadata": {
        "id": "N1O2gNw52NDR"
      },
      "source": [
        "# Constantes\n",
        "* Una constante es una variable que no cambiará durante la ejecución del programa.\n",
        "* En Python no se declaran las constantes de forma específica  \n",
        "* Por convención una constante es una variable que se escribe completamente en mayúsculas."
      ]
    },
    {
      "cell_type": "code",
      "execution_count": 20,
      "metadata": {
        "id": "eEeLaK672ey6"
      },
      "outputs": [],
      "source": [
        "PI = 3.14159\n",
        "LUZ = 300_000   # de forma optativa podemos usar _ como separador de miles"
      ]
    },
    {
      "cell_type": "markdown",
      "metadata": {
        "id": "bq9Qkd5w2-c4"
      },
      "source": [
        "## Tipado dinámico\n",
        "* Tipado dinámico vs tipado estático\n",
        "* Python es un lenguaje de programación de tipado dinámico.\n",
        "* El tipado dinámico supone que la variable puede cambiar de tipo"
      ]
    },
    {
      "cell_type": "code",
      "execution_count": 23,
      "metadata": {
        "id": "W3eEDAhm3Kbw",
        "outputId": "ea67e094-171a-4898-8fc0-f01921189e3b",
        "colab": {
          "base_uri": "https://localhost:8080/"
        }
      },
      "outputs": [
        {
          "output_type": "stream",
          "name": "stdout",
          "text": [
            "0.18\n"
          ]
        }
      ],
      "source": [
        "fondo = \"gris\"      # puede ser un string (una cadena de texto)\n",
        "fondo = 100         # puede ser un número de tipo int (entero)\n",
        "fondo = .18         # puede ser un número de tipo float (con decimales)\n",
        "\n",
        "print(fondo)        # prevalece el último valor dado a la variable"
      ]
    },
    {
      "cell_type": "markdown",
      "metadata": {
        "id": "xPw-OWznjMRB"
      },
      "source": [
        "## Tipado fuerte\n",
        "* Tipado fuerte vs tipado débil\n",
        "* Tipado fuerte: cuando arroja un error ante una operación entre dos tipos de datos incompatibles, en lugar de convertir implícitamente alguno de los dos tipos."
      ]
    },
    {
      "cell_type": "code",
      "execution_count": null,
      "metadata": {
        "colab": {
          "base_uri": "https://localhost:8080/"
        },
        "id": "SAL4tGkxjrmD",
        "outputId": "7bd93c56-a93f-487c-d491-3e5ef449668e"
      },
      "outputs": [
        {
          "name": "stdout",
          "output_type": "stream",
          "text": [
            "23\n",
            "5\n"
          ]
        }
      ],
      "source": [
        "a = 2\n",
        "b = \"3\"\n",
        "#print(a + b)       # ¡Error!\n",
        "\n",
        "print(str(a) + b)   # casteando con str para convertir el número a string\n",
        "print(a + int(b))   # casteando con int para convertir el string a entero"
      ]
    },
    {
      "cell_type": "markdown",
      "source": [
        "#### JavaScript tiene tipado débil\n",
        "\n",
        " &nbsp;&nbsp;&nbsp;&nbsp; &nbsp;&nbsp;&nbsp;&nbsp;<img src=\"https://github.com/financieras/curso_python/blob/main/img/javascript_tipado_debil.png?raw=1\" alt=\"javascript con tipado débil\" width=\"150\">\n",
        "\n",
        "#### Lenguajes de programación según tipado\n",
        "\n",
        "<img src=\"https://github.com/financieras/curso_python/blob/main/img/dinamic_strong.png?raw=1\" alt=\"molde\" width=\"300\">"
      ],
      "metadata": {
        "id": "WjfgFO9qxj8z"
      }
    },
    {
      "cell_type": "markdown",
      "metadata": {
        "id": "25a6156f"
      },
      "source": [
        "# Permutar valores  \n",
        "## Utilizando una variable auxiliar\n",
        "<img src=\"https://github.com/financieras/pyCourse/blob/main/jupyter/img/rojo_amarillo_azul_.jpg?raw=1\" alt=\"Tres vasos\" width=\"250\"/>"
      ]
    },
    {
      "cell_type": "code",
      "execution_count": null,
      "metadata": {
        "colab": {
          "base_uri": "https://localhost:8080/"
        },
        "id": "bcb071e5",
        "outputId": "47af7cef-0c9f-4001-f6da-c9d4a96aa7aa"
      },
      "outputs": [
        {
          "name": "stdout",
          "output_type": "stream",
          "text": [
            "a=10, b=5\n"
          ]
        }
      ],
      "source": [
        "a = 5\n",
        "b = 10\n",
        "\n",
        "aux = a                          # creamos una variable auxiliar, se suele llamar aux o temp\n",
        "a = b\n",
        "b = aux\n",
        "\n",
        "print(f'a={a}, b={b}')"
      ]
    },
    {
      "cell_type": "markdown",
      "metadata": {
        "id": "113b1dee"
      },
      "source": [
        "## Python permite permutar en una sola línea"
      ]
    },
    {
      "cell_type": "code",
      "execution_count": null,
      "metadata": {
        "colab": {
          "base_uri": "https://localhost:8080/"
        },
        "id": "ba95b435",
        "outputId": "faff6f54-cfac-4c4e-ed51-09e50345827e"
      },
      "outputs": [
        {
          "name": "stdout",
          "output_type": "stream",
          "text": [
            "a=10, b=5\n"
          ]
        }
      ],
      "source": [
        "a, b = 5, 10\n",
        "\n",
        "a, b = b, a                      # otra forma maravillosa de permutar valores\n",
        "\n",
        "print(f'a={a}, b={b}')"
      ]
    },
    {
      "cell_type": "markdown",
      "metadata": {
        "id": "Qy9f-w9Nqj7s"
      },
      "source": [
        "## Ejercicios"
      ]
    },
    {
      "cell_type": "markdown",
      "metadata": {
        "id": "LCSw0ihQqj7t"
      },
      "source": [
        "#### *Ejercicio 1*\n",
        "Imprime dos frases, una debajo de la otra."
      ]
    },
    {
      "cell_type": "markdown",
      "metadata": {
        "id": "4rqqleZlqj7t"
      },
      "source": [
        "#### *Ejercicio 2*\n",
        "Usa las variables `lugar` y `nombre` para llegar a imprimir la frase:\n",
        "```\n",
        "Prefiero ir de vacaciones a Málaga con Julia.\n",
        "```\n",
        "Consigue que al cambiar el valor de las variables la frase cambie.\n",
        "\n",
        "Por ejemplo, la frase podría cambiar a esta:\n",
        "\n",
        "```\n",
        "Prefiero ir de vacaciones a Galicia con Pablo.\n",
        "```"
      ]
    }
  ],
  "metadata": {
    "colab": {
      "provenance": [],
      "include_colab_link": true
    },
    "kernelspec": {
      "display_name": "Python 3",
      "name": "python3"
    },
    "language_info": {
      "name": "python",
      "version": "3.9.6"
    }
  },
  "nbformat": 4,
  "nbformat_minor": 0
}