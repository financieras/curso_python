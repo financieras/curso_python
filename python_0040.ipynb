{
  "nbformat": 4,
  "nbformat_minor": 0,
  "metadata": {
    "colab": {
      "provenance": [],
      "authorship_tag": "ABX9TyOBF/+UAejXUAOsGDSgv4NR",
      "include_colab_link": true
    },
    "kernelspec": {
      "name": "python3",
      "display_name": "Python 3"
    },
    "language_info": {
      "name": "python"
    }
  },
  "cells": [
    {
      "cell_type": "markdown",
      "metadata": {
        "id": "view-in-github",
        "colab_type": "text"
      },
      "source": [
        "<a href=\"https://colab.research.google.com/github/financieras/curso_python/blob/main/python_0040.ipynb\" target=\"_parent\"><img src=\"https://colab.research.google.com/assets/colab-badge.svg\" alt=\"Open In Colab\"/></a>"
      ]
    },
    {
      "cell_type": "markdown",
      "source": [
        "# Listas\n",
        "Arrays (arreglos)  \n",
        "Una lista es un conjunto iterable de datos ordenados que van entre corchetes []\n"
      ],
      "metadata": {
        "id": "qJyPn-1n4m6b"
      }
    },
    {
      "cell_type": "code",
      "execution_count": null,
      "metadata": {
        "colab": {
          "base_uri": "https://localhost:8080/"
        },
        "id": "bE7XyEpy4fsF",
        "outputId": "8295726a-ac0d-409f-9b11-ff866544b465"
      },
      "outputs": [
        {
          "output_type": "execute_result",
          "data": {
            "text/plain": [
              "[]"
            ]
          },
          "metadata": {},
          "execution_count": 1
        }
      ],
      "source": [
        "[]           # lista vacía"
      ]
    },
    {
      "cell_type": "code",
      "source": [
        "[10 , 15, 12]           # lista de números enteros"
      ],
      "metadata": {
        "colab": {
          "base_uri": "https://localhost:8080/"
        },
        "id": "LVCVtn9-5GWt",
        "outputId": "b35e8649-e6bc-431d-b1d3-80e160b0616a"
      },
      "execution_count": null,
      "outputs": [
        {
          "output_type": "execute_result",
          "data": {
            "text/plain": [
              "[10, 15, 12]"
            ]
          },
          "metadata": {},
          "execution_count": 2
        }
      ]
    },
    {
      "cell_type": "code",
      "source": [
        "estaciones = ['primavera', 'verano', 'otoño', 'invierno']\n",
        "print(estaciones)"
      ],
      "metadata": {
        "colab": {
          "base_uri": "https://localhost:8080/"
        },
        "id": "dqdIflpG5RMh",
        "outputId": "098b8c59-8e68-4980-9d8b-dfec7635ea36"
      },
      "execution_count": null,
      "outputs": [
        {
          "output_type": "stream",
          "name": "stdout",
          "text": [
            "['primavera', 'verano', 'otoño', 'invierno']\n"
          ]
        }
      ]
    },
    {
      "cell_type": "markdown",
      "source": [
        "## Índices de una lista\n",
        "El index comienza por cero."
      ],
      "metadata": {
        "id": "WEd4M3bX5o9O"
      }
    },
    {
      "cell_type": "code",
      "source": [
        "print(estaciones[0])\n",
        "print(estaciones[1])\n",
        "print(estaciones[2])\n",
        "print(estaciones[3])\n",
        "print(estaciones[-1])"
      ],
      "metadata": {
        "colab": {
          "base_uri": "https://localhost:8080/"
        },
        "id": "5p4hCiUB5vEJ",
        "outputId": "d5aec469-5875-407f-cc36-0f6d2345e38c"
      },
      "execution_count": null,
      "outputs": [
        {
          "output_type": "stream",
          "name": "stdout",
          "text": [
            "primavera\n",
            "verano\n",
            "otoño\n",
            "invierno\n",
            "invierno\n"
          ]
        }
      ]
    },
    {
      "cell_type": "markdown",
      "source": [
        "## Longitud de una lista"
      ],
      "metadata": {
        "id": "ZlAB1Z7s6U4g"
      }
    },
    {
      "cell_type": "code",
      "source": [
        "colores = ['rojo', 'azul', 'amarillo', 'verde', 'naranja', 'rosa']\n",
        "len(colores)"
      ],
      "metadata": {
        "colab": {
          "base_uri": "https://localhost:8080/"
        },
        "id": "an-WxKpx6Z5T",
        "outputId": "77c3448c-13e8-4a26-9a5b-d58e7d6f9847"
      },
      "execution_count": null,
      "outputs": [
        {
          "output_type": "execute_result",
          "data": {
            "text/plain": [
              "6"
            ]
          },
          "metadata": {},
          "execution_count": 9
        }
      ]
    },
    {
      "cell_type": "markdown",
      "source": [
        "## Tipo de dato"
      ],
      "metadata": {
        "id": "VEfJTPTG6x5B"
      }
    },
    {
      "cell_type": "code",
      "source": [
        "print(type(colores))"
      ],
      "metadata": {
        "colab": {
          "base_uri": "https://localhost:8080/"
        },
        "id": "yeQVw38T60JJ",
        "outputId": "0b06de7f-5a98-4c0c-8312-f7306e268934"
      },
      "execution_count": null,
      "outputs": [
        {
          "output_type": "stream",
          "name": "stdout",
          "text": [
            "<class 'list'>\n"
          ]
        }
      ]
    },
    {
      "cell_type": "markdown",
      "source": [
        "## Las cadenas admiten slicing"
      ],
      "metadata": {
        "id": "lBojms2w68cL"
      }
    },
    {
      "cell_type": "code",
      "source": [
        "colores[2:5]"
      ],
      "metadata": {
        "colab": {
          "base_uri": "https://localhost:8080/"
        },
        "id": "xL2XdZ2D7DaF",
        "outputId": "fd53a5bc-073f-487e-da6a-a2f5af5613e7"
      },
      "execution_count": null,
      "outputs": [
        {
          "output_type": "execute_result",
          "data": {
            "text/plain": [
              "['amarillo', 'verde', 'naranja']"
            ]
          },
          "metadata": {},
          "execution_count": 12
        }
      ]
    },
    {
      "cell_type": "code",
      "source": [
        "colores[:3]"
      ],
      "metadata": {
        "colab": {
          "base_uri": "https://localhost:8080/"
        },
        "id": "nNvwbVXW7epR",
        "outputId": "cd2dbbc5-efc5-4b0a-d951-448f31e39fe0"
      },
      "execution_count": null,
      "outputs": [
        {
          "output_type": "execute_result",
          "data": {
            "text/plain": [
              "['rojo', 'azul', 'amarillo']"
            ]
          },
          "metadata": {},
          "execution_count": 13
        }
      ]
    },
    {
      "cell_type": "code",
      "source": [
        "colores[3:]"
      ],
      "metadata": {
        "colab": {
          "base_uri": "https://localhost:8080/"
        },
        "id": "PqF54OxC7p79",
        "outputId": "53083f26-ba4c-4a2e-be51-23fb02634090"
      },
      "execution_count": null,
      "outputs": [
        {
          "output_type": "execute_result",
          "data": {
            "text/plain": [
              "['verde', 'naranja', 'rosa']"
            ]
          },
          "metadata": {},
          "execution_count": 14
        }
      ]
    },
    {
      "cell_type": "code",
      "source": [
        "colores[:]"
      ],
      "metadata": {
        "colab": {
          "base_uri": "https://localhost:8080/"
        },
        "id": "EKBvV5_X76Os",
        "outputId": "153c4831-d70b-4f55-e716-451b2aef00ee"
      },
      "execution_count": null,
      "outputs": [
        {
          "output_type": "execute_result",
          "data": {
            "text/plain": [
              "['rojo', 'azul', 'amarillo', 'verde', 'naranja', 'rosa']"
            ]
          },
          "metadata": {},
          "execution_count": 15
        }
      ]
    },
    {
      "cell_type": "markdown",
      "source": [
        "## Matriz: Array 2D\n",
        "Matriz de dos dimensiones\n",
        "\n",
        "Tres filas y cuatro columnas, 3x4"
      ],
      "metadata": {
        "id": "06alFDYF8FBA"
      }
    },
    {
      "cell_type": "code",
      "source": [
        "m = [[11, 12, 13, 14],\n",
        "     [21, 22, 23, 24],\n",
        "     [31, 32, 33, 34]]\n",
        "m"
      ],
      "metadata": {
        "colab": {
          "base_uri": "https://localhost:8080/"
        },
        "id": "DRMGhoi38LbN",
        "outputId": "16644856-d2cc-43f7-8c17-00846c021c51"
      },
      "execution_count": null,
      "outputs": [
        {
          "output_type": "execute_result",
          "data": {
            "text/plain": [
              "[[11, 12, 13, 14], [21, 22, 23, 24], [31, 32, 33, 34]]"
            ]
          },
          "metadata": {},
          "execution_count": 18
        }
      ]
    },
    {
      "cell_type": "code",
      "source": [
        "print(*m)"
      ],
      "metadata": {
        "colab": {
          "base_uri": "https://localhost:8080/"
        },
        "id": "3qBCADqT86sn",
        "outputId": "29d7893b-46dc-4c25-c027-084fb3352396"
      },
      "execution_count": null,
      "outputs": [
        {
          "output_type": "stream",
          "name": "stdout",
          "text": [
            "[11, 12, 13, 14] [21, 22, 23, 24] [31, 32, 33, 34]\n"
          ]
        }
      ]
    },
    {
      "cell_type": "code",
      "source": [
        "print(*m[0])\n",
        "print(*m[1])\n",
        "print(*m[2])"
      ],
      "metadata": {
        "colab": {
          "base_uri": "https://localhost:8080/"
        },
        "id": "mBQ6Vy6f9FYk",
        "outputId": "d47e050f-dbf2-43f7-93a1-272ff00d621b"
      },
      "execution_count": null,
      "outputs": [
        {
          "output_type": "stream",
          "name": "stdout",
          "text": [
            "11 12 13 14\n",
            "21 22 23 24\n",
            "31 32 33 34\n"
          ]
        }
      ]
    },
    {
      "cell_type": "markdown",
      "source": [
        "## Unir dos listas"
      ],
      "metadata": {
        "id": "2qAggxsO9Vi5"
      }
    },
    {
      "cell_type": "code",
      "source": [
        "uno = [11, 12, 13]\n",
        "dos = [21, 22, 23]\n",
        "todo = uno + dos\n",
        "todo"
      ],
      "metadata": {
        "colab": {
          "base_uri": "https://localhost:8080/"
        },
        "id": "MIoqlUUN9Yc7",
        "outputId": "34bcaac0-f127-4b4c-aa18-572f7d9ca120"
      },
      "execution_count": null,
      "outputs": [
        {
          "output_type": "execute_result",
          "data": {
            "text/plain": [
              "[11, 12, 13, 21, 22, 23]"
            ]
          },
          "metadata": {},
          "execution_count": 23
        }
      ]
    },
    {
      "cell_type": "markdown",
      "source": [
        "## Borrar un elemento de una lista"
      ],
      "metadata": {
        "id": "Ebh3mxKE9osd"
      }
    },
    {
      "cell_type": "code",
      "source": [
        "del todo[-1]\n",
        "todo"
      ],
      "metadata": {
        "colab": {
          "base_uri": "https://localhost:8080/"
        },
        "id": "YKI73TMc9tkt",
        "outputId": "5ab51db9-6bc2-4760-cb97-dfa35c798715"
      },
      "execution_count": null,
      "outputs": [
        {
          "output_type": "execute_result",
          "data": {
            "text/plain": [
              "[11, 12, 13, 21, 22]"
            ]
          },
          "metadata": {},
          "execution_count": 24
        }
      ]
    },
    {
      "cell_type": "markdown",
      "source": [
        "## Anexar un elemento a una lista\n",
        "Añadir un elemento en la última posición."
      ],
      "metadata": {
        "id": "7Z209UAm9_ct"
      }
    },
    {
      "cell_type": "code",
      "source": [
        "todo.append(100)\n",
        "todo"
      ],
      "metadata": {
        "colab": {
          "base_uri": "https://localhost:8080/"
        },
        "id": "I5iz2BVO-HrI",
        "outputId": "f935742e-566c-4dae-afb3-12e4536e5f43"
      },
      "execution_count": null,
      "outputs": [
        {
          "output_type": "execute_result",
          "data": {
            "text/plain": [
              "[11, 12, 13, 21, 22, 100]"
            ]
          },
          "metadata": {},
          "execution_count": 25
        }
      ]
    },
    {
      "cell_type": "markdown",
      "source": [
        "## Comprobar si un elemento está en la lista"
      ],
      "metadata": {
        "id": "WNHsdbD_-Q4L"
      }
    },
    {
      "cell_type": "code",
      "source": [
        "print(100 in todo)\n",
        "print(101 in todo)\n",
        "print(100 not in todo)"
      ],
      "metadata": {
        "colab": {
          "base_uri": "https://localhost:8080/"
        },
        "id": "pNnRn9ZX-T3X",
        "outputId": "e1ce2219-81d7-4fce-8a44-82d394b8215d"
      },
      "execution_count": null,
      "outputs": [
        {
          "output_type": "stream",
          "name": "stdout",
          "text": [
            "True\n",
            "False\n",
            "False\n"
          ]
        }
      ]
    },
    {
      "cell_type": "markdown",
      "source": [
        "## Índice de un elemento en la listaaaaaaaaa"
      ],
      "metadata": {
        "id": "vkWb2CBB-pm3"
      }
    },
    {
      "cell_type": "code",
      "source": [
        "todo.index(100)"
      ],
      "metadata": {
        "colab": {
          "base_uri": "https://localhost:8080/"
        },
        "id": "3E1l9DmN-tv9",
        "outputId": "5c157c31-d25a-43dc-9f3f-a40bfb852400"
      },
      "execution_count": null,
      "outputs": [
        {
          "output_type": "execute_result",
          "data": {
            "text/plain": [
              "5"
            ]
          },
          "metadata": {},
          "execution_count": 29
        }
      ]
    },
    {
      "cell_type": "markdown",
      "source": [
        "## Remover un elemento de una lista"
      ],
      "metadata": {
        "id": "wZ0v9UkO-6iG"
      }
    },
    {
      "cell_type": "code",
      "source": [
        "print(todo)\n",
        "todo.remove(13)\n",
        "todo"
      ],
      "metadata": {
        "colab": {
          "base_uri": "https://localhost:8080/"
        },
        "id": "MtVmN4bE_VDX",
        "outputId": "abf254c0-66fc-4f17-90b4-443d60d75ebe"
      },
      "execution_count": null,
      "outputs": [
        {
          "output_type": "stream",
          "name": "stdout",
          "text": [
            "[11, 12, 13, 21, 22, 100]\n"
          ]
        },
        {
          "output_type": "execute_result",
          "data": {
            "text/plain": [
              "[11, 12, 21, 22, 100]"
            ]
          },
          "metadata": {},
          "execution_count": 32
        }
      ]
    },
    {
      "cell_type": "markdown",
      "source": [
        "## Eliminar el último elemento con ```pop```"
      ],
      "metadata": {
        "id": "Xo7KdlPu_gTD"
      }
    },
    {
      "cell_type": "code",
      "source": [
        "todo.pop()\n",
        "todo"
      ],
      "metadata": {
        "colab": {
          "base_uri": "https://localhost:8080/"
        },
        "id": "gNlKpGHB_qn5",
        "outputId": "236ce17b-4b0d-49d0-c1a4-43a32be2cf9b"
      },
      "execution_count": null,
      "outputs": [
        {
          "output_type": "execute_result",
          "data": {
            "text/plain": [
              "[11, 12, 21, 22]"
            ]
          },
          "metadata": {},
          "execution_count": 33
        }
      ]
    },
    {
      "cell_type": "markdown",
      "source": [
        "## Insertamos un elemento en una posición"
      ],
      "metadata": {
        "id": "OYPFO5Qn_1nL"
      }
    },
    {
      "cell_type": "code",
      "source": [
        "todo.insert(0, 99)\n",
        "todo"
      ],
      "metadata": {
        "colab": {
          "base_uri": "https://localhost:8080/"
        },
        "id": "JGSXAg0R_5HL",
        "outputId": "4269c4a7-84af-4599-d424-920142d4b60e"
      },
      "execution_count": null,
      "outputs": [
        {
          "output_type": "execute_result",
          "data": {
            "text/plain": [
              "[99, 11, 12, 21, 22]"
            ]
          },
          "metadata": {},
          "execution_count": 34
        }
      ]
    },
    {
      "cell_type": "markdown",
      "source": [
        "## Inicializar una lista con ceros"
      ],
      "metadata": {
        "id": "diS3AE0jADx6"
      }
    },
    {
      "cell_type": "code",
      "source": [
        "ceros = [0] * 10\n",
        "ceros"
      ],
      "metadata": {
        "colab": {
          "base_uri": "https://localhost:8080/"
        },
        "id": "xRkFI4uiAHT0",
        "outputId": "7d2c94d3-4ce0-4199-a725-175251b0575e"
      },
      "execution_count": null,
      "outputs": [
        {
          "output_type": "execute_result",
          "data": {
            "text/plain": [
              "[0, 0, 0, 0, 0, 0, 0, 0, 0, 0]"
            ]
          },
          "metadata": {},
          "execution_count": 37
        }
      ]
    },
    {
      "cell_type": "markdown",
      "source": [
        "## Problema al copiar listas"
      ],
      "metadata": {
        "id": "KMVShi7BAViw"
      }
    },
    {
      "cell_type": "code",
      "source": [
        "helados_Luis = ['nata', 'chocolate', 'fresa']\n",
        "helados_Sara = helados_Luis\n",
        "print(helados_Luis)\n",
        "print(helados_Sara)"
      ],
      "metadata": {
        "colab": {
          "base_uri": "https://localhost:8080/"
        },
        "id": "mZSAxgqSAb3E",
        "outputId": "af6bb629-ba23-4daf-fe51-82f7f82f300c"
      },
      "execution_count": null,
      "outputs": [
        {
          "output_type": "stream",
          "name": "stdout",
          "text": [
            "['nata', 'chocolate', 'fresa']\n",
            "['nata', 'chocolate', 'fresa']\n"
          ]
        }
      ]
    },
    {
      "cell_type": "markdown",
      "source": [
        "Al modificar un elemento de una lista también cambia en la otra ya que en realidad se trata de la misma lista pero con dos nombres diferentes."
      ],
      "metadata": {
        "id": "A3kwTkhEA1ka"
      }
    },
    {
      "cell_type": "code",
      "source": [
        "helados_Sara[0] = 'pasas'\n",
        "\n",
        "print(helados_Luis)\n",
        "print(helados_Sara)"
      ],
      "metadata": {
        "colab": {
          "base_uri": "https://localhost:8080/"
        },
        "id": "eGnDLK7ABQCL",
        "outputId": "a9585b52-fa70-442c-e758-6592773b1893"
      },
      "execution_count": null,
      "outputs": [
        {
          "output_type": "stream",
          "name": "stdout",
          "text": [
            "['pasas', 'chocolate', 'fresa']\n",
            "['pasas', 'chocolate', 'fresa']\n"
          ]
        }
      ]
    },
    {
      "cell_type": "code",
      "source": [
        "print(id(helados_Luis))\n",
        "print(id(helados_Sara))"
      ],
      "metadata": {
        "colab": {
          "base_uri": "https://localhost:8080/"
        },
        "id": "rGK3325yD8Zh",
        "outputId": "6fb3dcfe-d8de-4cd8-aa36-bc7e70ce4fa0"
      },
      "execution_count": null,
      "outputs": [
        {
          "output_type": "stream",
          "name": "stdout",
          "text": [
            "140162061633344\n",
            "140162061633344\n"
          ]
        }
      ]
    },
    {
      "cell_type": "markdown",
      "source": [
        "## Haciendo una copia independiente de una lista"
      ],
      "metadata": {
        "id": "_OQgmSv6CFtG"
      }
    },
    {
      "cell_type": "code",
      "source": [
        "favoritos_Luis = [3, 7, 15]\n",
        "favoritos_Sara = favoritos_Luis[:]        # hacemos una copia elemento a elemento"
      ],
      "metadata": {
        "id": "YghuJUNBDedv"
      },
      "execution_count": null,
      "outputs": []
    },
    {
      "cell_type": "code",
      "source": [
        "favoritos_Sara[0] = 2\n",
        "\n",
        "print(favoritos_Luis)\n",
        "print(favoritos_Sara)"
      ],
      "metadata": {
        "colab": {
          "base_uri": "https://localhost:8080/"
        },
        "id": "pGmJuyqnDaio",
        "outputId": "c5d06d57-6efc-4bbe-b65b-9a0d65228190"
      },
      "execution_count": null,
      "outputs": [
        {
          "output_type": "stream",
          "name": "stdout",
          "text": [
            "[3, 7, 15]\n",
            "[2, 7, 15]\n"
          ]
        }
      ]
    },
    {
      "cell_type": "code",
      "source": [
        "print(id(favoritos_Luis))\n",
        "print(id(favoritos_Sara))"
      ],
      "metadata": {
        "colab": {
          "base_uri": "https://localhost:8080/"
        },
        "id": "DXTworClDt1j",
        "outputId": "a2921e9c-2f87-4d2e-fa6c-10fc3541fc92"
      },
      "execution_count": null,
      "outputs": [
        {
          "output_type": "stream",
          "name": "stdout",
          "text": [
            "140162280088832\n",
            "140162061818688\n"
          ]
        }
      ]
    },
    {
      "cell_type": "markdown",
      "source": [
        "## Copiando una matriz con ```deepcopy```\n",
        "Creamos un nuevo objeto matriz usando ```deepcopy``` de la librería ```copy```"
      ],
      "metadata": {
        "id": "wKX4uUr9EMzL"
      }
    },
    {
      "cell_type": "code",
      "source": [
        "from copy import deepcopy\n",
        "x = [[1, 2], [3, 4]]\n",
        "y = deepcopy(x)\n",
        "print(x)\n",
        "print(y)"
      ],
      "metadata": {
        "colab": {
          "base_uri": "https://localhost:8080/"
        },
        "id": "PG3GedG7Eb02",
        "outputId": "56331f6f-f0f2-4177-87e3-c92640e7945e"
      },
      "execution_count": null,
      "outputs": [
        {
          "output_type": "stream",
          "name": "stdout",
          "text": [
            "[[1, 2], [3, 4]]\n",
            "[[1, 2], [3, 4]]\n"
          ]
        }
      ]
    },
    {
      "cell_type": "markdown",
      "source": [
        "Comprobación"
      ],
      "metadata": {
        "id": "EO9YgbpVE7Tt"
      }
    },
    {
      "cell_type": "code",
      "source": [
        "x[0][0] = 88\n",
        "y.append([9, 9])\n",
        "print(x)\n",
        "print(y)"
      ],
      "metadata": {
        "colab": {
          "base_uri": "https://localhost:8080/"
        },
        "id": "qsV1ufIrE88T",
        "outputId": "0be9997e-1af5-4fa2-d96c-3c3c59cb43a0"
      },
      "execution_count": null,
      "outputs": [
        {
          "output_type": "stream",
          "name": "stdout",
          "text": [
            "[[88, 2], [3, 4]]\n",
            "[[1, 2], [3, 4], [9, 9]]\n"
          ]
        }
      ]
    },
    {
      "cell_type": "markdown",
      "source": [
        "## ```sort``` y ```sorted```"
      ],
      "metadata": {
        "id": "SP3HAf4yFSVB"
      }
    },
    {
      "cell_type": "code",
      "source": [
        "l = [5,2,6,1,9,0,-3]\n",
        "print(\"lista inicial\", l)\n",
        "l.sort()                        # l.sort() realmente ordena la lista pero se ha de poner antes del print\n",
        "print(\"lista ordenada\", l)"
      ],
      "metadata": {
        "colab": {
          "base_uri": "https://localhost:8080/"
        },
        "id": "ZtoYUt4MFY7F",
        "outputId": "fca17556-5559-4df1-a0b0-188136de8571"
      },
      "execution_count": null,
      "outputs": [
        {
          "output_type": "stream",
          "name": "stdout",
          "text": [
            "lista inicial [5, 2, 6, 1, 9, 0, -3]\n",
            "lista ordenada [-3, 0, 1, 2, 5, 6, 9]\n"
          ]
        }
      ]
    },
    {
      "cell_type": "code",
      "source": [
        "l = [5,2,6,1,9,0,-3]\n",
        "print(\"lista inicial\", l)\n",
        "print(\"lista ordenada\", sorted(l))     # realmente no ordena la lista pero si la imprime ordenada\n",
        "print(\"lista final\", l)"
      ],
      "metadata": {
        "colab": {
          "base_uri": "https://localhost:8080/"
        },
        "id": "jOww6XMuF7aF",
        "outputId": "5b437446-7b0b-4889-b6fb-e568897a6f54"
      },
      "execution_count": null,
      "outputs": [
        {
          "output_type": "stream",
          "name": "stdout",
          "text": [
            "lista inicial [5, 2, 6, 1, 9, 0, -3]\n",
            "lista ordenada [-3, 0, 1, 2, 5, 6, 9]\n",
            "lista final [5, 2, 6, 1, 9, 0, -3]\n"
          ]
        }
      ]
    }
  ]
}