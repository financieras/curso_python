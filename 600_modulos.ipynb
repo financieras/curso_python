{
  "nbformat": 4,
  "nbformat_minor": 0,
  "metadata": {
    "colab": {
      "provenance": [],
      "authorship_tag": "ABX9TyO1S5Bk7ZkrUxsrza7y9hFm",
      "include_colab_link": true
    },
    "kernelspec": {
      "name": "python3",
      "display_name": "Python 3"
    },
    "language_info": {
      "name": "python"
    }
  },
  "cells": [
    {
      "cell_type": "markdown",
      "metadata": {
        "id": "view-in-github",
        "colab_type": "text"
      },
      "source": [
        "<a href=\"https://colab.research.google.com/github/financieras/curso_python/blob/main/600_modulos.ipynb\" target=\"_parent\"><img src=\"https://colab.research.google.com/assets/colab-badge.svg\" alt=\"Open In Colab\"/></a>"
      ]
    },
    {
      "cell_type": "markdown",
      "source": [
        "# Módulos\n",
        "Un móduclo también es conocidos como biblioteca (*library*) o librería\n",
        "\n",
        "Lo módulos son de tres tipos:\n",
        "1. Los internos de Python, descargables desde las propias bibliotecas de Python [Python Module Index](https://docs.python.org/3/py-modindex.html)\n",
        "2. Los creados por la comunidad, descargables desde internet, por ejemplo, con pip: [pip list](https://pypi.org)\n",
        "3. Los que podemos crear nosotros para programar cierta funcionalidad que no está ya programada o para dividir nuestro código en partes más pequeñas"
      ],
      "metadata": {
        "id": "727RsNzPxYtU"
      }
    },
    {
      "cell_type": "markdown",
      "source": [
        "### Versiones instaladas"
      ],
      "metadata": {
        "id": "XP75PgaAnFgG"
      }
    },
    {
      "cell_type": "code",
      "source": [
        "!python --version"
      ],
      "metadata": {
        "id": "gCIuvfzbmj0M",
        "outputId": "0d7986d6-c007-4a00-c746-19663af66de5",
        "colab": {
          "base_uri": "https://localhost:8080/"
        }
      },
      "execution_count": 1,
      "outputs": [
        {
          "output_type": "stream",
          "name": "stdout",
          "text": [
            "Python 3.10.12\n"
          ]
        }
      ]
    },
    {
      "cell_type": "code",
      "source": [
        "!pip --version"
      ],
      "metadata": {
        "id": "wIxNIzysmrtD",
        "outputId": "e0211c82-2a82-4cf6-ea89-700f4f33db99",
        "colab": {
          "base_uri": "https://localhost:8080/"
        }
      },
      "execution_count": 2,
      "outputs": [
        {
          "output_type": "stream",
          "name": "stdout",
          "text": [
            "pip 23.1.2 from /usr/local/lib/python3.10/dist-packages/pip (python 3.10)\n"
          ]
        }
      ]
    },
    {
      "cell_type": "markdown",
      "source": [
        "## `datetime`\n",
        "[Documentación](https://docs.python.org/3/library/datetime.html)"
      ],
      "metadata": {
        "id": "_sv0gn-16Z4J"
      }
    },
    {
      "cell_type": "markdown",
      "source": [
        "#### *Ejemplo 1*\n",
        "Imprimir la fecha actual."
      ],
      "metadata": {
        "id": "2-cZgOuf8CsZ"
      }
    },
    {
      "cell_type": "code",
      "source": [
        "import datetime\n",
        "\n",
        "hoy = datetime.date.today()\n",
        "\n",
        "print(hoy)"
      ],
      "metadata": {
        "colab": {
          "base_uri": "https://localhost:8080/"
        },
        "id": "QEAntb9s7mUt",
        "outputId": "f119e8a9-e751-4725-a2ec-3c9347dc227a"
      },
      "execution_count": 3,
      "outputs": [
        {
          "output_type": "stream",
          "name": "stdout",
          "text": [
            "2023-10-21\n"
          ]
        }
      ]
    },
    {
      "cell_type": "markdown",
      "source": [
        "#### *Ejemplo 2*\n",
        "Cuántos días han transcurridos desde que una persona nació."
      ],
      "metadata": {
        "id": "4eC5IdT88Kxq"
      }
    },
    {
      "cell_type": "code",
      "source": [
        "from datetime import date\n",
        "\n",
        "fecha_nacimiento = date(2004, 1, 16)\n",
        "hoy = date.today()\n",
        "\n",
        "intervalo = hoy - fecha_nacimiento\n",
        "\n",
        "print(\"Usted vive en este planeta desde hace:\")\n",
        "print(intervalo.days, \"días\")"
      ],
      "metadata": {
        "colab": {
          "base_uri": "https://localhost:8080/"
        },
        "id": "3Oa8SnJvyloa",
        "outputId": "4a66de39-1ecb-41fb-87a0-55007cec7150"
      },
      "execution_count": 4,
      "outputs": [
        {
          "output_type": "stream",
          "name": "stdout",
          "text": [
            "Usted vive en este planeta desde hace:\n",
            "7218 días\n"
          ]
        }
      ]
    },
    {
      "cell_type": "markdown",
      "source": [
        "#### *Ejemplo 3*\n",
        "Pasar de minutos a horas."
      ],
      "metadata": {
        "id": "I0c21RXJA87k"
      }
    },
    {
      "cell_type": "code",
      "source": [
        "from datetime import timedelta\n",
        "\n",
        "print(timedelta(minutes = 70))  # 70 minutos son 1 hora y 10 minutos"
      ],
      "metadata": {
        "colab": {
          "base_uri": "https://localhost:8080/"
        },
        "id": "p_qzXRCl9aAR",
        "outputId": "10363607-a6e7-492b-ffce-9ee5d1420949"
      },
      "execution_count": 5,
      "outputs": [
        {
          "output_type": "stream",
          "name": "stdout",
          "text": [
            "1:10:00\n"
          ]
        }
      ]
    },
    {
      "cell_type": "markdown",
      "source": [
        "## Creando nuestros propios módulos\n",
        "Usando un editor de código en nuestro propio ordenador.\n"
      ],
      "metadata": {
        "id": "dI4oVe9vnT8Q"
      }
    },
    {
      "cell_type": "markdown",
      "source": [
        "Primero clonamos el repositorio."
      ],
      "metadata": {
        "id": "VwT-5M1pAvNW"
      }
    },
    {
      "cell_type": "code",
      "source": [
        "!git clone https://github.com/financieras/curso_python.git"
      ],
      "metadata": {
        "id": "fNVPW_4NAzOZ",
        "outputId": "fe3ac1ae-c356-4503-dd62-1d765c318cf8",
        "colab": {
          "base_uri": "https://localhost:8080/"
        }
      },
      "execution_count": 6,
      "outputs": [
        {
          "output_type": "stream",
          "name": "stdout",
          "text": [
            "Cloning into 'curso_python'...\n",
            "remote: Enumerating objects: 803, done.\u001b[K\n",
            "remote: Counting objects: 100% (410/410), done.\u001b[K\n",
            "remote: Compressing objects: 100% (203/203), done.\u001b[K\n",
            "remote: Total 803 (delta 266), reused 302 (delta 198), pack-reused 393\u001b[K\n",
            "Receiving objects: 100% (803/803), 1.17 MiB | 14.56 MiB/s, done.\n",
            "Resolving deltas: 100% (482/482), done.\n"
          ]
        }
      ]
    },
    {
      "cell_type": "markdown",
      "source": [
        "Miramos en qué directorio estamos."
      ],
      "metadata": {
        "id": "E6XktlKVA97y"
      }
    },
    {
      "cell_type": "code",
      "source": [
        "%pwd"
      ],
      "metadata": {
        "id": "2X9WanEqBBf5",
        "outputId": "51454039-ebb5-4cf9-863c-19df6e6af67f",
        "colab": {
          "base_uri": "https://localhost:8080/",
          "height": 35
        }
      },
      "execution_count": 7,
      "outputs": [
        {
          "output_type": "execute_result",
          "data": {
            "text/plain": [
              "'/content'"
            ],
            "application/vnd.google.colaboratory.intrinsic+json": {
              "type": "string"
            }
          },
          "metadata": {},
          "execution_count": 7
        }
      ]
    },
    {
      "cell_type": "code",
      "source": [
        "%cd curso_python/mypy"
      ],
      "metadata": {
        "id": "sOAzZjIMBxxj",
        "outputId": "bc1572a6-74de-4cfa-96a4-125ae26703b6",
        "colab": {
          "base_uri": "https://localhost:8080/"
        }
      },
      "execution_count": 8,
      "outputs": [
        {
          "output_type": "stream",
          "name": "stdout",
          "text": [
            "/content/curso_python/mypy\n"
          ]
        }
      ]
    },
    {
      "cell_type": "code",
      "source": [
        "import myfunctions as mymath\n",
        "mymath.sumar(2,3)"
      ],
      "metadata": {
        "id": "dWyREsEABKYq",
        "outputId": "5932f46a-bdda-4b6a-9860-26452ae6cba9",
        "colab": {
          "base_uri": "https://localhost:8080/"
        }
      },
      "execution_count": 9,
      "outputs": [
        {
          "output_type": "stream",
          "name": "stdout",
          "text": [
            "El resultado de la suma es 5\n"
          ]
        }
      ]
    },
    {
      "cell_type": "code",
      "source": [
        "mymath.sumar.__doc__"
      ],
      "metadata": {
        "id": "C2M1LVZioTlT",
        "outputId": "fb833426-29b3-431c-eff3-f5f14dbe16d2",
        "colab": {
          "base_uri": "https://localhost:8080/",
          "height": 35
        }
      },
      "execution_count": 10,
      "outputs": [
        {
          "output_type": "execute_result",
          "data": {
            "text/plain": [
              "'Permite sumar dos números.'"
            ],
            "application/vnd.google.colaboratory.intrinsic+json": {
              "type": "string"
            }
          },
          "metadata": {},
          "execution_count": 10
        }
      ]
    },
    {
      "cell_type": "code",
      "source": [
        "mymath.restar.__doc__"
      ],
      "metadata": {
        "id": "TzS1CXMjo_74",
        "outputId": "9d9841fb-3fe2-4238-8faf-8429f073e743",
        "colab": {
          "base_uri": "https://localhost:8080/",
          "height": 35
        }
      },
      "execution_count": 11,
      "outputs": [
        {
          "output_type": "execute_result",
          "data": {
            "text/plain": [
              "'Permite restar dos números.'"
            ],
            "application/vnd.google.colaboratory.intrinsic+json": {
              "type": "string"
            }
          },
          "metadata": {},
          "execution_count": 11
        }
      ]
    },
    {
      "cell_type": "code",
      "source": [
        "mymath.multiplicar.__doc__"
      ],
      "metadata": {
        "id": "zMR5JolfpEkC",
        "outputId": "f40924da-e2e8-40fc-8074-32e08a78ed74",
        "colab": {
          "base_uri": "https://localhost:8080/",
          "height": 35
        }
      },
      "execution_count": 12,
      "outputs": [
        {
          "output_type": "execute_result",
          "data": {
            "text/plain": [
              "'Permite multiplicar dos números.'"
            ],
            "application/vnd.google.colaboratory.intrinsic+json": {
              "type": "string"
            }
          },
          "metadata": {},
          "execution_count": 12
        }
      ]
    },
    {
      "cell_type": "code",
      "source": [
        "print(mymath.dividir.__doc__)"
      ],
      "metadata": {
        "id": "gE9W1v65pIb0",
        "outputId": "a6691e76-5bb1-4421-b103-05cc38627c7e",
        "colab": {
          "base_uri": "https://localhost:8080/"
        }
      },
      "execution_count": 16,
      "outputs": [
        {
          "output_type": "stream",
          "name": "stdout",
          "text": [
            "Permite dividir dos números.\n",
            "\tSi el denominador es cero se avisa.\n"
          ]
        }
      ]
    },
    {
      "cell_type": "code",
      "source": [
        "mymath.dividir(12, 0)"
      ],
      "metadata": {
        "id": "jyRfuJc4pbVI",
        "outputId": "c3ca3741-f989-4dcb-fbfa-6af709c0d7d4",
        "colab": {
          "base_uri": "https://localhost:8080/"
        }
      },
      "execution_count": 17,
      "outputs": [
        {
          "output_type": "stream",
          "name": "stdout",
          "text": [
            "División por Cero\n"
          ]
        }
      ]
    }
  ]
}