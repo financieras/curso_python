{
  "nbformat": 4,
  "nbformat_minor": 0,
  "metadata": {
    "colab": {
      "provenance": [],
      "authorship_tag": "ABX9TyPl2sCcImhu9S7hOxJ3QlWU",
      "include_colab_link": true
    },
    "kernelspec": {
      "name": "python3",
      "display_name": "Python 3"
    },
    "language_info": {
      "name": "python"
    }
  },
  "cells": [
    {
      "cell_type": "markdown",
      "metadata": {
        "id": "view-in-github",
        "colab_type": "text"
      },
      "source": [
        "<a href=\"https://colab.research.google.com/github/financieras/curso_python/blob/main/600_modulos.ipynb\" target=\"_parent\"><img src=\"https://colab.research.google.com/assets/colab-badge.svg\" alt=\"Open In Colab\"/></a>"
      ]
    },
    {
      "cell_type": "markdown",
      "source": [
        "# Módulos\n",
        "Un móduclo también es conocidos como biblioteca (*library*) o librería\n",
        "\n",
        "Lo módulos son de tres tipos:\n",
        "1. Los internos de Python, descargables desde las propias bibliotecas de Python [Python Module Index](https://docs.python.org/3/py-modindex.html)\n",
        "2. Los creados por la comunidad, descargables desde internet, por ejemplo, con pip: [pip list](https://pypi.org)\n",
        "3. Los que podemos crear nosotros para programar cierta funcionalidad que no está ya programada o para dividir nuestro código en partes más pequeñas"
      ],
      "metadata": {
        "id": "727RsNzPxYtU"
      }
    },
    {
      "cell_type": "markdown",
      "source": [
        "### Versiones instaladas"
      ],
      "metadata": {
        "id": "XP75PgaAnFgG"
      }
    },
    {
      "cell_type": "code",
      "source": [
        "!python --version"
      ],
      "metadata": {
        "id": "gCIuvfzbmj0M",
        "outputId": "a0d2a407-0e68-4965-b3e9-922997d00859",
        "colab": {
          "base_uri": "https://localhost:8080/"
        }
      },
      "execution_count": 1,
      "outputs": [
        {
          "output_type": "stream",
          "name": "stdout",
          "text": [
            "Python 3.10.12\n"
          ]
        }
      ]
    },
    {
      "cell_type": "code",
      "source": [
        "!pip --version"
      ],
      "metadata": {
        "id": "wIxNIzysmrtD",
        "outputId": "4da8913e-ed23-422c-8807-9105068b3b2c",
        "colab": {
          "base_uri": "https://localhost:8080/"
        }
      },
      "execution_count": 2,
      "outputs": [
        {
          "output_type": "stream",
          "name": "stdout",
          "text": [
            "pip 23.1.2 from /usr/local/lib/python3.10/dist-packages/pip (python 3.10)\n"
          ]
        }
      ]
    },
    {
      "cell_type": "markdown",
      "source": [
        "## `datetime`\n",
        "[Documentación](https://docs.python.org/3/library/datetime.html)"
      ],
      "metadata": {
        "id": "_sv0gn-16Z4J"
      }
    },
    {
      "cell_type": "markdown",
      "source": [
        "#### *Ejemplo 1*\n",
        "Imprimir la fecha actual."
      ],
      "metadata": {
        "id": "2-cZgOuf8CsZ"
      }
    },
    {
      "cell_type": "code",
      "source": [
        "import datetime\n",
        "\n",
        "hoy = datetime.date.today()\n",
        "\n",
        "print(hoy)"
      ],
      "metadata": {
        "colab": {
          "base_uri": "https://localhost:8080/"
        },
        "id": "QEAntb9s7mUt",
        "outputId": "494826b0-150d-4a27-a759-a38e4f58a6fa"
      },
      "execution_count": 3,
      "outputs": [
        {
          "output_type": "stream",
          "name": "stdout",
          "text": [
            "2023-10-21\n"
          ]
        }
      ]
    },
    {
      "cell_type": "markdown",
      "source": [
        "#### *Ejemplo 2*\n",
        "Cuántos días han transcurridos desde que una persona nació."
      ],
      "metadata": {
        "id": "4eC5IdT88Kxq"
      }
    },
    {
      "cell_type": "code",
      "source": [
        "from datetime import date\n",
        "\n",
        "fecha_nacimiento = date(2004, 1, 16)\n",
        "hoy = date.today()\n",
        "\n",
        "intervalo = hoy - fecha_nacimiento\n",
        "\n",
        "print(\"Usted vive en este planeta desde hace:\")\n",
        "print(intervalo.days, \"días\")"
      ],
      "metadata": {
        "colab": {
          "base_uri": "https://localhost:8080/"
        },
        "id": "3Oa8SnJvyloa",
        "outputId": "f28b6b65-8d9f-44af-d69b-2cfec4d7621b"
      },
      "execution_count": 4,
      "outputs": [
        {
          "output_type": "stream",
          "name": "stdout",
          "text": [
            "Usted vive en este planeta desde hace:\n",
            "7218 días\n"
          ]
        }
      ]
    },
    {
      "cell_type": "markdown",
      "source": [
        "#### *Ejemplo 3*\n",
        "Pasar de minutos a horas."
      ],
      "metadata": {
        "id": "I0c21RXJA87k"
      }
    },
    {
      "cell_type": "code",
      "source": [
        "from datetime import timedelta\n",
        "\n",
        "print(timedelta(minutes = 70))  # 70 minutos son 1 hora y 10 minutos"
      ],
      "metadata": {
        "colab": {
          "base_uri": "https://localhost:8080/"
        },
        "id": "p_qzXRCl9aAR",
        "outputId": "1f2b7a51-3f07-4ada-8bc1-4568d59039cd"
      },
      "execution_count": 5,
      "outputs": [
        {
          "output_type": "stream",
          "name": "stdout",
          "text": [
            "1:10:00\n"
          ]
        }
      ]
    },
    {
      "cell_type": "markdown",
      "source": [
        "## Creando nuestros propios módulos\n",
        "Usando un editor de código en nuestro propio ordenador.\n"
      ],
      "metadata": {
        "id": "dI4oVe9vnT8Q"
      }
    },
    {
      "cell_type": "markdown",
      "source": [
        "Primero clonamos el repositorio."
      ],
      "metadata": {
        "id": "VwT-5M1pAvNW"
      }
    },
    {
      "cell_type": "code",
      "source": [
        "!git clone https://github.com/financieras/curso_python.git"
      ],
      "metadata": {
        "id": "fNVPW_4NAzOZ",
        "outputId": "fe597585-f5ce-45c4-8475-82a2064232cd",
        "colab": {
          "base_uri": "https://localhost:8080/"
        }
      },
      "execution_count": 6,
      "outputs": [
        {
          "output_type": "stream",
          "name": "stdout",
          "text": [
            "Cloning into 'curso_python'...\n",
            "remote: Enumerating objects: 787, done.\u001b[K\n",
            "remote: Counting objects: 100% (394/394), done.\u001b[K\n",
            "remote: Compressing objects: 100% (189/189), done.\u001b[K\n",
            "remote: Total 787 (delta 259), reused 302 (delta 198), pack-reused 393\u001b[K\n",
            "Receiving objects: 100% (787/787), 1.16 MiB | 11.44 MiB/s, done.\n",
            "Resolving deltas: 100% (475/475), done.\n"
          ]
        }
      ]
    },
    {
      "cell_type": "markdown",
      "source": [
        "Miramos en qué directorio estamos."
      ],
      "metadata": {
        "id": "E6XktlKVA97y"
      }
    },
    {
      "cell_type": "code",
      "source": [
        "%pwd"
      ],
      "metadata": {
        "id": "2X9WanEqBBf5",
        "outputId": "aba1fa6c-6dcc-44c9-eeb5-97fcf1294a74",
        "colab": {
          "base_uri": "https://localhost:8080/",
          "height": 35
        }
      },
      "execution_count": 7,
      "outputs": [
        {
          "output_type": "execute_result",
          "data": {
            "text/plain": [
              "'/content'"
            ],
            "application/vnd.google.colaboratory.intrinsic+json": {
              "type": "string"
            }
          },
          "metadata": {},
          "execution_count": 7
        }
      ]
    },
    {
      "cell_type": "code",
      "source": [
        "%cd curso_python/mypy"
      ],
      "metadata": {
        "id": "sOAzZjIMBxxj",
        "outputId": "764a6750-d0d5-4913-968c-ff2a14c3c5b7",
        "colab": {
          "base_uri": "https://localhost:8080/"
        }
      },
      "execution_count": 8,
      "outputs": [
        {
          "output_type": "stream",
          "name": "stdout",
          "text": [
            "/content/curso_python/mypy\n"
          ]
        }
      ]
    },
    {
      "cell_type": "code",
      "source": [
        "import myfunctions as mymath\n",
        "mymath.sumar(2,3)"
      ],
      "metadata": {
        "id": "dWyREsEABKYq",
        "outputId": "9e4d4415-1f84-4406-a1fb-0b6fbd7405e1",
        "colab": {
          "base_uri": "https://localhost:8080/",
          "height": 280
        }
      },
      "execution_count": 9,
      "outputs": [
        {
          "output_type": "error",
          "ename": "IndentationError",
          "evalue": "ignored",
          "traceback": [
            "Traceback \u001b[0;36m(most recent call last)\u001b[0m:\n",
            "  File \u001b[1;32m\"/usr/local/lib/python3.10/dist-packages/IPython/core/interactiveshell.py\"\u001b[0m, line \u001b[1;32m3553\u001b[0m, in \u001b[1;35mrun_code\u001b[0m\n    exec(code_obj, self.user_global_ns, self.user_ns)\n",
            "\u001b[0;36m  File \u001b[0;32m\"<ipython-input-9-2e874b1c0894>\"\u001b[0;36m, line \u001b[0;32m1\u001b[0;36m, in \u001b[0;35m<cell line: 1>\u001b[0;36m\u001b[0m\n\u001b[0;31m    import myfunctions as mymath\u001b[0m\n",
            "\u001b[0;36m  File \u001b[0;32m\"/content/curso_python/mypy/myfunctions.py\"\u001b[0;36m, line \u001b[0;32m7\u001b[0m\n\u001b[0;31m    print(f\"El resultado de la resta es {n1-n2}\")\u001b[0m\n\u001b[0m                                                 ^\u001b[0m\n\u001b[0;31mIndentationError\u001b[0m\u001b[0;31m:\u001b[0m unindent does not match any outer indentation level\n"
          ]
        }
      ]
    }
  ]
}