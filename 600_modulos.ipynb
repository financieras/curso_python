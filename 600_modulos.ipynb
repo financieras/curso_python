{
  "nbformat": 4,
  "nbformat_minor": 0,
  "metadata": {
    "colab": {
      "provenance": [],
      "authorship_tag": "ABX9TyMMg/GYZ9WGUozO+lX8/aa7",
      "include_colab_link": true
    },
    "kernelspec": {
      "name": "python3",
      "display_name": "Python 3"
    },
    "language_info": {
      "name": "python"
    }
  },
  "cells": [
    {
      "cell_type": "markdown",
      "metadata": {
        "id": "view-in-github",
        "colab_type": "text"
      },
      "source": [
        "<a href=\"https://colab.research.google.com/github/financieras/curso_python/blob/main/600_modulos.ipynb\" target=\"_parent\"><img src=\"https://colab.research.google.com/assets/colab-badge.svg\" alt=\"Open In Colab\"/></a>"
      ]
    },
    {
      "cell_type": "markdown",
      "source": [
        "# Módulos\n",
        "Un móduclo también es conocidos como biblioteca (*library*) o librería\n",
        "\n",
        "Lo módulos son de tres tipos:\n",
        "1. Los internos de Python, descargables desde las propias bibliotecas de Python [Python Module Index](https://docs.python.org/3/py-modindex.html)\n",
        "2. Los creados por la comunidad, descargables desde internet, por ejemplo, con PIP [pip list](https://pypi.org)\n",
        "3. Los que podemos crear nosotros para programar cierta funcionalidad que no está ya programada o para dividir nuestro código en partes más pequeñas"
      ],
      "metadata": {
        "id": "727RsNzPxYtU"
      }
    },
    {
      "cell_type": "markdown",
      "source": [
        "## `datetime`\n",
        "[Documentación](https://docs.python.org/3/library/datetime.html)"
      ],
      "metadata": {
        "id": "_sv0gn-16Z4J"
      }
    },
    {
      "cell_type": "markdown",
      "source": [
        "#### *Ejemplo 1*\n",
        "Imprimir la fecha actual."
      ],
      "metadata": {
        "id": "2-cZgOuf8CsZ"
      }
    },
    {
      "cell_type": "code",
      "source": [
        "import datetime\n",
        "\n",
        "hoy = datetime.date.today()\n",
        "\n",
        "print(hoy)"
      ],
      "metadata": {
        "colab": {
          "base_uri": "https://localhost:8080/"
        },
        "id": "QEAntb9s7mUt",
        "outputId": "3d1aea83-3cb1-451d-c2e8-440295994597"
      },
      "execution_count": 7,
      "outputs": [
        {
          "output_type": "stream",
          "name": "stdout",
          "text": [
            "2023-10-13\n"
          ]
        }
      ]
    },
    {
      "cell_type": "markdown",
      "source": [
        "#### *Ejemplo 2*\n",
        "Cuántos días han transcurridos desde que una persona nació."
      ],
      "metadata": {
        "id": "4eC5IdT88Kxq"
      }
    },
    {
      "cell_type": "code",
      "source": [
        "from datetime import date\n",
        "\n",
        "fecha_nacimiento = date(2004, 1, 16)\n",
        "hoy = date.today()\n",
        "\n",
        "intervalo = hoy - fecha_nacimiento\n",
        "\n",
        "print(\"Usted vive en este planeta desde hace:\")\n",
        "print(intervalo.days, \"días\")"
      ],
      "metadata": {
        "colab": {
          "base_uri": "https://localhost:8080/"
        },
        "id": "3Oa8SnJvyloa",
        "outputId": "d1785624-ae99-4064-fedf-755140023685"
      },
      "execution_count": 8,
      "outputs": [
        {
          "output_type": "stream",
          "name": "stdout",
          "text": [
            "Usted vive en este planeta desde hace:\n",
            "7210 días\n"
          ]
        }
      ]
    },
    {
      "cell_type": "markdown",
      "source": [
        "#### *Ejemplo 3*\n",
        "Pasar de minutos a horas."
      ],
      "metadata": {
        "id": "I0c21RXJA87k"
      }
    },
    {
      "cell_type": "code",
      "source": [
        "from datetime import timedelta\n",
        "\n",
        "print(timedelta(minutes = 70))  # 70 minutos son 1 hora y 10 minutos"
      ],
      "metadata": {
        "colab": {
          "base_uri": "https://localhost:8080/"
        },
        "id": "p_qzXRCl9aAR",
        "outputId": "739ed7cd-73b7-4797-a863-3008715b208e"
      },
      "execution_count": 12,
      "outputs": [
        {
          "output_type": "stream",
          "name": "stdout",
          "text": [
            "1:10:00\n"
          ]
        }
      ]
    }
  ]
}