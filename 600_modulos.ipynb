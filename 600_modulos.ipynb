{
  "nbformat": 4,
  "nbformat_minor": 0,
  "metadata": {
    "colab": {
      "provenance": [],
      "authorship_tag": "ABX9TyNDupRp3sr34eZ48joX3ldF",
      "include_colab_link": true
    },
    "kernelspec": {
      "name": "python3",
      "display_name": "Python 3"
    },
    "language_info": {
      "name": "python"
    }
  },
  "cells": [
    {
      "cell_type": "markdown",
      "metadata": {
        "id": "view-in-github",
        "colab_type": "text"
      },
      "source": [
        "<a href=\"https://colab.research.google.com/github/financieras/curso_python/blob/main/600_modulos.ipynb\" target=\"_parent\"><img src=\"https://colab.research.google.com/assets/colab-badge.svg\" alt=\"Open In Colab\"/></a>"
      ]
    },
    {
      "cell_type": "markdown",
      "source": [
        "# Módulos\n",
        "Un móduclo también es conocidos como biblioteca (*library*) o librería\n",
        "\n",
        "Lo módulos son de tres tipos:\n",
        "1. Los internos de Python, descargables desde las propias bibliotecas de Python [Python Module Index](https://docs.python.org/3/py-modindex.html)\n",
        "2. Los creados por la comunidad, descargables desde internet, por ejemplo, con pip: [pip list](https://pypi.org)\n",
        "3. Los que podemos crear nosotros para programar cierta funcionalidad que no está ya programada o para dividir nuestro código en partes más pequeñas"
      ],
      "metadata": {
        "id": "727RsNzPxYtU"
      }
    },
    {
      "cell_type": "markdown",
      "source": [
        "### Versiones instaladas"
      ],
      "metadata": {
        "id": "XP75PgaAnFgG"
      }
    },
    {
      "cell_type": "code",
      "source": [
        "!python --version"
      ],
      "metadata": {
        "id": "gCIuvfzbmj0M",
        "outputId": "6e08e654-48cc-4818-e465-3501ec0398d0",
        "colab": {
          "base_uri": "https://localhost:8080/"
        }
      },
      "execution_count": 1,
      "outputs": [
        {
          "output_type": "stream",
          "name": "stdout",
          "text": [
            "Python 3.10.12\n"
          ]
        }
      ]
    },
    {
      "cell_type": "code",
      "source": [
        "!pip --version"
      ],
      "metadata": {
        "id": "wIxNIzysmrtD",
        "outputId": "f17ec2d9-df45-4108-a4c5-5fd3ba9ff9b3",
        "colab": {
          "base_uri": "https://localhost:8080/"
        }
      },
      "execution_count": 2,
      "outputs": [
        {
          "output_type": "stream",
          "name": "stdout",
          "text": [
            "pip 23.1.2 from /usr/local/lib/python3.10/dist-packages/pip (python 3.10)\n"
          ]
        }
      ]
    },
    {
      "cell_type": "markdown",
      "source": [
        "## `datetime`\n",
        "[Documentación](https://docs.python.org/3/library/datetime.html)"
      ],
      "metadata": {
        "id": "_sv0gn-16Z4J"
      }
    },
    {
      "cell_type": "markdown",
      "source": [
        "#### *Ejemplo 1*\n",
        "Imprimir la fecha actual."
      ],
      "metadata": {
        "id": "2-cZgOuf8CsZ"
      }
    },
    {
      "cell_type": "code",
      "source": [
        "import datetime\n",
        "\n",
        "hoy = datetime.date.today()\n",
        "\n",
        "print(hoy)"
      ],
      "metadata": {
        "colab": {
          "base_uri": "https://localhost:8080/"
        },
        "id": "QEAntb9s7mUt",
        "outputId": "eb5c85e5-5cba-432a-d72f-2de74c9cf70a"
      },
      "execution_count": 3,
      "outputs": [
        {
          "output_type": "stream",
          "name": "stdout",
          "text": [
            "2023-10-21\n"
          ]
        }
      ]
    },
    {
      "cell_type": "markdown",
      "source": [
        "#### *Ejemplo 2*\n",
        "Cuántos días han transcurridos desde que una persona nació."
      ],
      "metadata": {
        "id": "4eC5IdT88Kxq"
      }
    },
    {
      "cell_type": "code",
      "source": [
        "from datetime import date\n",
        "\n",
        "fecha_nacimiento = date(2004, 1, 16)\n",
        "hoy = date.today()\n",
        "\n",
        "intervalo = hoy - fecha_nacimiento\n",
        "\n",
        "print(\"Usted vive en este planeta desde hace:\")\n",
        "print(intervalo.days, \"días\")"
      ],
      "metadata": {
        "colab": {
          "base_uri": "https://localhost:8080/"
        },
        "id": "3Oa8SnJvyloa",
        "outputId": "926a7761-9622-4ca5-910f-16363954d4ee"
      },
      "execution_count": 4,
      "outputs": [
        {
          "output_type": "stream",
          "name": "stdout",
          "text": [
            "Usted vive en este planeta desde hace:\n",
            "7218 días\n"
          ]
        }
      ]
    },
    {
      "cell_type": "markdown",
      "source": [
        "#### *Ejemplo 3*\n",
        "Pasar de minutos a horas."
      ],
      "metadata": {
        "id": "I0c21RXJA87k"
      }
    },
    {
      "cell_type": "code",
      "source": [
        "from datetime import timedelta\n",
        "\n",
        "print(timedelta(minutes = 70))  # 70 minutos son 1 hora y 10 minutos"
      ],
      "metadata": {
        "colab": {
          "base_uri": "https://localhost:8080/"
        },
        "id": "p_qzXRCl9aAR",
        "outputId": "7feee90e-3256-4b3d-ed27-295677fac404"
      },
      "execution_count": 5,
      "outputs": [
        {
          "output_type": "stream",
          "name": "stdout",
          "text": [
            "1:10:00\n"
          ]
        }
      ]
    },
    {
      "cell_type": "markdown",
      "source": [
        "## Creando nuestros propios módulos\n",
        "Usando un editor de código en nuestro propio ordenador.\n"
      ],
      "metadata": {
        "id": "dI4oVe9vnT8Q"
      }
    },
    {
      "cell_type": "markdown",
      "source": [
        "Primero clonamos el repositorio."
      ],
      "metadata": {
        "id": "VwT-5M1pAvNW"
      }
    },
    {
      "cell_type": "code",
      "source": [
        "!git clone https://github.com/financieras/curso_python.git"
      ],
      "metadata": {
        "id": "fNVPW_4NAzOZ",
        "outputId": "45898978-b424-45a4-bdd9-42ed12bb94ec",
        "colab": {
          "base_uri": "https://localhost:8080/"
        }
      },
      "execution_count": 6,
      "outputs": [
        {
          "output_type": "stream",
          "name": "stdout",
          "text": [
            "fatal: destination path 'curso_python' already exists and is not an empty directory.\n"
          ]
        }
      ]
    },
    {
      "cell_type": "markdown",
      "source": [
        "Miramos en qué directorio estamos."
      ],
      "metadata": {
        "id": "E6XktlKVA97y"
      }
    },
    {
      "cell_type": "code",
      "source": [
        "%pwd"
      ],
      "metadata": {
        "id": "2X9WanEqBBf5",
        "outputId": "95aa3593-44eb-49b8-ad34-e91d00b09a95",
        "colab": {
          "base_uri": "https://localhost:8080/",
          "height": 35
        }
      },
      "execution_count": 7,
      "outputs": [
        {
          "output_type": "execute_result",
          "data": {
            "text/plain": [
              "'/content'"
            ],
            "application/vnd.google.colaboratory.intrinsic+json": {
              "type": "string"
            }
          },
          "metadata": {},
          "execution_count": 7
        }
      ]
    },
    {
      "cell_type": "code",
      "source": [
        "%cd curso_python\n",
        "%pwd"
      ],
      "metadata": {
        "id": "sOAzZjIMBxxj",
        "outputId": "ea418a2f-5397-4af7-e91b-3a40c7af52f5",
        "colab": {
          "base_uri": "https://localhost:8080/",
          "height": 53
        }
      },
      "execution_count": 8,
      "outputs": [
        {
          "output_type": "stream",
          "name": "stdout",
          "text": [
            "/content/curso_python\n"
          ]
        },
        {
          "output_type": "execute_result",
          "data": {
            "text/plain": [
              "'/content/curso_python'"
            ],
            "application/vnd.google.colaboratory.intrinsic+json": {
              "type": "string"
            }
          },
          "metadata": {},
          "execution_count": 8
        }
      ]
    },
    {
      "cell_type": "code",
      "source": [
        "import mypy_funciones_matematicas as mymath\n",
        "mymath.suma(2,3)"
      ],
      "metadata": {
        "id": "dWyREsEABKYq",
        "outputId": "fabea915-05b6-4eb3-df74-a4ac4d845d63",
        "colab": {
          "base_uri": "https://localhost:8080/",
          "height": 332
        }
      },
      "execution_count": 9,
      "outputs": [
        {
          "output_type": "error",
          "ename": "ModuleNotFoundError",
          "evalue": "ignored",
          "traceback": [
            "\u001b[0;31m---------------------------------------------------------------------------\u001b[0m",
            "\u001b[0;31mModuleNotFoundError\u001b[0m                       Traceback (most recent call last)",
            "\u001b[0;32m<ipython-input-9-9b995f491b23>\u001b[0m in \u001b[0;36m<cell line: 1>\u001b[0;34m()\u001b[0m\n\u001b[0;32m----> 1\u001b[0;31m \u001b[0;32mimport\u001b[0m \u001b[0mmypy_funciones_matematicas\u001b[0m \u001b[0;32mas\u001b[0m \u001b[0mmymath\u001b[0m\u001b[0;34m\u001b[0m\u001b[0;34m\u001b[0m\u001b[0m\n\u001b[0m\u001b[1;32m      2\u001b[0m \u001b[0mmymath\u001b[0m\u001b[0;34m.\u001b[0m\u001b[0msuma\u001b[0m\u001b[0;34m(\u001b[0m\u001b[0;36m2\u001b[0m\u001b[0;34m,\u001b[0m\u001b[0;36m3\u001b[0m\u001b[0;34m)\u001b[0m\u001b[0;34m\u001b[0m\u001b[0;34m\u001b[0m\u001b[0m\n",
            "\u001b[0;31mModuleNotFoundError\u001b[0m: No module named 'mypy_funciones_matematicas'",
            "",
            "\u001b[0;31m---------------------------------------------------------------------------\u001b[0;32m\nNOTE: If your import is failing due to a missing package, you can\nmanually install dependencies using either !pip or !apt.\n\nTo view examples of installing some common dependencies, click the\n\"Open Examples\" button below.\n\u001b[0;31m---------------------------------------------------------------------------\u001b[0m\n"
          ],
          "errorDetails": {
            "actions": [
              {
                "action": "open_url",
                "actionText": "Open Examples",
                "url": "/notebooks/snippets/importing_libraries.ipynb"
              }
            ]
          }
        }
      ]
    }
  ]
}