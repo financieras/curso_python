{
  "nbformat": 4,
  "nbformat_minor": 0,
  "metadata": {
    "colab": {
      "provenance": [],
      "include_colab_link": true
    },
    "kernelspec": {
      "name": "python3",
      "display_name": "Python 3"
    },
    "language_info": {
      "name": "python"
    }
  },
  "cells": [
    {
      "cell_type": "markdown",
      "metadata": {
        "id": "view-in-github",
        "colab_type": "text"
      },
      "source": [
        "<a href=\"https://colab.research.google.com/github/financieras/curso_python/blob/main/python_0010.ipynb\" target=\"_parent\"><img src=\"https://colab.research.google.com/assets/colab-badge.svg\" alt=\"Open In Colab\"/></a>"
      ]
    },
    {
      "cell_type": "markdown",
      "source": [
        "# ¿Qué es Python?\n",
        "\n",
        "<img src=\"https://github.com/financieras/curso_python/blob/main/img/logo.png?raw=1\" alt=\"molde\" width=\"250\">\n",
        "\n",
        "1. Python es un lenguaje de programación de alto nivel (cercano al lenguaje humano)\n",
        "2. Actualmente es uno de los más usados a nivel profesional:\n",
        "  - ciencia de datos\n",
        "  - ia (inteligencia artifical)\n",
        "  - iot (internet of things)\n",
        "  - web (web pages, web scraping)\n",
        "  - bots, ...\n",
        "3. Es multiplataforma\n",
        "  - Windows\n",
        "  - Linux\n",
        "  - Mac\n",
        "  - [Raspberry Pi](https://www.google.com/search?q=raspberry+pi)\n",
        "  - [placas de microcontroladores](https://www.google.com/search?q=microcontrolador+python)\n",
        "  - calculadoras como la TI-84 Plus CE-T Python Edition\n",
        "\n",
        "<img src=\"https://github.com/financieras/curso_python/blob/main/img/raspberry_pi_4_modelo_b.jpg?raw=1\" alt=\"raspberry pi\" width=\"250\">"
      ],
      "metadata": {
        "id": "1CyFpHgOvrbp"
      }
    },
    {
      "cell_type": "markdown",
      "source": [
        "## ¿Quién creó Python?\n",
        "Python fué creado por el programador holandés [Guido van Rossum](https://es.wikipedia.org/wiki/Guido_van_Rossum)."
      ],
      "metadata": {
        "id": "fMW2nDhS3Z35"
      }
    },
    {
      "cell_type": "markdown",
      "source": [
        "## El intérprete de Python\n",
        "Python es un lenguaje interpretado, no compilado.\n",
        "\n",
        "<img src=\"https://github.com/financieras/curso_python/blob/main/img/interprete_python.png?raw=1\" alt=\"molde\" width=\"500\">\n"
      ],
      "metadata": {
        "id": "yXV0Ky-E8SHU"
      }
    },
    {
      "cell_type": "markdown",
      "source": [
        "## Posibles formas de ejecutarlo\n",
        "1. La instalación oficial trae su propio entorno de desarrollo: el IDLE\n",
        "2. Existen multitud de editores:\n",
        "  - [Visual Studio Code](https://code.visualstudio.com) → acepta múltiples lenguajes, muy profesiona y es el más usado actualmente\n",
        "  - [PyCharm](https://www.jetbrains.com/pycharm) → editor específico para Python\n",
        "  - [Thonny](https://thonny.org) → sencillo y destinado a principiantes\n",
        "3. Se puede ejecutar de forma online:\n",
        "  - [replit](https://replit.com)\n",
        "  - [onlineGDB](https://www.onlinegdb.com/online_python_compiler)\n",
        "  - [OneCompiler](https://onecompiler.com/python)\n",
        "  - [JDoodle](https://www.jdoodle.com/python3-programming-online)\n",
        "  - ... / ...\n",
        "4. Usar [Google Colaboratory](https://colab.research.google.com/?hl=es) comocido como Colab\n",
        "  - Muy usado en Ciendia de Datos y en Machine Learning\n",
        "  - Permite trabajar con cuadernos de notas denominados [Jupyter Notebook](https://jupyter.org) que nos permiter hacer nuestros propios apuntes, alternando:\n",
        "    1. celdas de texto escritas en [Markdown](https://markdown.es) y\n",
        "    2. celdas de código Python"
      ],
      "metadata": {
        "id": "xpJQpiv4475c"
      }
    },
    {
      "cell_type": "markdown",
      "source": [
        "## Descarga oficial\n",
        "Podemos ir a la página oficial [python.org](https://www.python.org) y descargar Python para nuestro sistema operativo.\n",
        "\n",
        "  - en Windows existe un paso en la instalación que nos pregunta si queremos añadirlo al PATH, debemos marcar esa opción.\n",
        "\n",
        "\n",
        "<img src=\"https://github.com/financieras/curso_python/blob/main/img/add_to_path.png?raw=1\" alt=\"molde\" width=\"400\">"
      ],
      "metadata": {
        "id": "As4AVgVw5SkY"
      }
    },
    {
      "cell_type": "markdown",
      "source": [
        "### IDLE\n",
        "1. Si hemos instalado la versión oficial tendremos la posibilidad de usar el IDLE que también se habrá instalado.\n",
        "  * el IDLE es un IDE de Python\n",
        "    - IDE → Integrated Development Environment\n",
        "    - IDLE → Integrated Development and Learning Environment\n",
        "2. se compone de dos elementos principales:\n",
        "    1. el editor → donde escribiremos nuestro código\n",
        "    2. la shell → donde el intérprete ejecutará nuestro código\n",
        "\n",
        "  * La Shell se obtiene en Windows eligiendo en tus programa el que pone IDLE\n",
        "\n",
        "<img src=\"https://github.com/financieras/curso_python/blob/main/img/python_windows.png?raw=1\" alt=\"molde\" width=\"250\">\n",
        "\n",
        "  * El editor se obtiene en el IDLE haciendo: `File / New File`\n",
        "\n",
        "<img src=\"https://github.com/financieras/curso_python/blob/main/img/editor_shell.png?raw=1\" alt=\"molde\" width=\"720\">"
      ],
      "metadata": {
        "id": "VxhW5xgjUyBS"
      }
    },
    {
      "cell_type": "markdown",
      "source": [
        "## Ejercicios"
      ],
      "metadata": {
        "id": "y2DvO7pr3uFq"
      }
    },
    {
      "cell_type": "markdown",
      "source": [
        "#### *Ejercicio 1*\n",
        "1. Averigua si existen videojuegos programados en Python\n",
        "2. ¿Cómo se llama la librería que se usa?"
      ],
      "metadata": {
        "id": "2D4ZrGcnvyMr"
      }
    },
    {
      "cell_type": "markdown",
      "source": [
        "#### *Ejercicio 2*\n",
        "1. ¿En qué año se creó Python?\n",
        "2. ¿Por qué Guido van Rossum llamó a su lenguaje Python?"
      ],
      "metadata": {
        "id": "zvHTwEtt4BOg"
      }
    },
    {
      "cell_type": "markdown",
      "source": [
        "#### *Ejercicio 3*\n",
        "1. Existe un ranking de lenguajes de programación que se llama *TIOBE Index*.\n",
        "2. ¿Qué lugar ocupa Python actualmente en el índice?\n"
      ],
      "metadata": {
        "id": "wojor55a6vj3"
      }
    }
  ]
}