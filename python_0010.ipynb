{
  "nbformat": 4,
  "nbformat_minor": 0,
  "metadata": {
    "colab": {
      "provenance": [],
      "toc_visible": true,
      "include_colab_link": true
    },
    "kernelspec": {
      "name": "python3",
      "display_name": "Python 3"
    },
    "language_info": {
      "name": "python"
    }
  },
  "cells": [
    {
      "cell_type": "markdown",
      "metadata": {
        "id": "view-in-github",
        "colab_type": "text"
      },
      "source": [
        "<a href=\"https://colab.research.google.com/github/financieras/curso_python/blob/main/python_0010.ipynb\" target=\"_parent\"><img src=\"https://colab.research.google.com/assets/colab-badge.svg\" alt=\"Open In Colab\"/></a>"
      ]
    },
    {
      "cell_type": "markdown",
      "source": [
        "# ¿Qué es Python?\n",
        "\n",
        "<img src=\"https://github.com/financieras/curso_python/blob/main/img/logo.png?raw=1\" alt=\"molde\" width=\"250\">\n",
        "\n",
        "1. Python es un lenguaje de programación de alto nivel (cercano al lenguaje humano)\n",
        "2. Actualmente es uno de los más usados a nivel profesional:\n",
        "  - ciencia de datos\n",
        "  - ia (inteligencia artifical)\n",
        "  - iot (internet of things)\n",
        "  - web (web pages, web scraping)\n",
        "  - bots, ...\n",
        "3. Es multiplataforma\n",
        "  - Windows\n",
        "  - Linux\n",
        "  - Mac\n",
        "  - [Raspberry Pi](https://www.google.com/search?q=raspberry+pi)\n",
        "  - [placas de microcontroladores](https://www.google.com/search?q=microcontrolador+python)\n",
        "  - calculadoras como la TI-84 Plus CE-T Python Edition\n",
        "\n",
        "<img src=\"https://github.com/financieras/curso_python/blob/main/img/raspberry_pi_4_modelo_b.jpg?raw=1\" alt=\"raspberry pi\" width=\"250\">"
      ],
      "metadata": {
        "id": "1CyFpHgOvrbp"
      }
    },
    {
      "cell_type": "markdown",
      "source": [
        "#### *Ejercicio 1*\n",
        "1. Averigua si existen videojuegos programados en Python\n",
        "2. ¿Cómo se llama la librería que se usa?\n",
        "3. Inserta aquí alguna imagen sobre este tema. Pon la foto a un tamaño pequeño."
      ],
      "metadata": {
        "id": "2D4ZrGcnvyMr"
      }
    },
    {
      "cell_type": "markdown",
      "source": [
        "## ¿Quién creó Python?\n",
        "Python fué creado por el programador holandés [Guido van Rossum](https://es.wikipedia.org/wiki/Guido_van_Rossum)."
      ],
      "metadata": {
        "id": "fMW2nDhS3Z35"
      }
    },
    {
      "cell_type": "markdown",
      "source": [
        "#### *Ejercicio 2*\n",
        "1. ¿En qué año se creó Python?\n",
        "2. ¿Por qué Guido van Rossum llamó a su lenguaje Python?\n",
        "3. Inserta aquí debajo la foto de Guido que hay en la Wikipedia. Pon un tamaño pequeño."
      ],
      "metadata": {
        "id": "zvHTwEtt4BOg"
      }
    },
    {
      "cell_type": "markdown",
      "source": [
        "#### *Ejercicio 3*\n",
        "1. Existe un ranking de lenguajes de programación que se llama *TIOBE Index*.\n",
        "2. Mira a ver qué lugar ocupa actualmente Python en este índice y ponlo aquí.\n"
      ],
      "metadata": {
        "id": "wojor55a6vj3"
      }
    },
    {
      "cell_type": "markdown",
      "source": [
        "## El intérprete de Python\n",
        "<img src=\"https://github.com/financieras/curso_python/blob/main/img/interprete_python.png?raw=1\" alt=\"molde\" width=\"500\">\n"
      ],
      "metadata": {
        "id": "yXV0Ky-E8SHU"
      }
    }
  ]
}