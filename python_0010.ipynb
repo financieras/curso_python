{
  "nbformat": 4,
  "nbformat_minor": 0,
  "metadata": {
    "colab": {
      "provenance": [],
      "authorship_tag": "ABX9TyNmMhsd/z4csSf4SOvpt2Xo",
      "include_colab_link": true
    },
    "kernelspec": {
      "name": "python3",
      "display_name": "Python 3"
    },
    "language_info": {
      "name": "python"
    }
  },
  "cells": [
    {
      "cell_type": "markdown",
      "metadata": {
        "id": "view-in-github",
        "colab_type": "text"
      },
      "source": [
        "<a href=\"https://colab.research.google.com/github/valorar/curso_python/blob/main/python_0010.ipynb\" target=\"_parent\"><img src=\"https://colab.research.google.com/assets/colab-badge.svg\" alt=\"Open In Colab\"/></a>"
      ]
    },
    {
      "cell_type": "markdown",
      "source": [
        "# Comenzando a programar con Python\n",
        "## Hola mundo"
      ],
      "metadata": {
        "id": "CLhzSyoGFYzI"
      }
    },
    {
      "cell_type": "code",
      "source": [
        "print('Hola mundo')"
      ],
      "metadata": {
        "colab": {
          "base_uri": "https://localhost:8080/"
        },
        "id": "epjxiKu7Feca",
        "outputId": "68d6d9c8-0129-4802-b7a9-1e82250e0935"
      },
      "execution_count": 1,
      "outputs": [
        {
          "output_type": "stream",
          "name": "stdout",
          "text": [
            "Hola mundo\n"
          ]
        }
      ]
    },
    {
      "cell_type": "markdown",
      "source": [
        "## Variables"
      ],
      "metadata": {
        "id": "VPw0ml4xFoRF"
      }
    },
    {
      "cell_type": "code",
      "source": [
        "# Asignamos el valor a la variable\n",
        "x = 5   # int Entero"
      ],
      "metadata": {
        "id": "9iloF8GKFlEV"
      },
      "execution_count": 2,
      "outputs": []
    },
    {
      "cell_type": "code",
      "source": [
        "print(type(x))\n",
        "print(x)"
      ],
      "metadata": {
        "colab": {
          "base_uri": "https://localhost:8080/"
        },
        "id": "MT6odx7KFxqd",
        "outputId": "807ddb30-d113-42bd-c3d5-cbc2ffcc884b"
      },
      "execution_count": 3,
      "outputs": [
        {
          "output_type": "stream",
          "name": "stdout",
          "text": [
            "<class 'int'>\n",
            "5\n"
          ]
        }
      ]
    },
    {
      "cell_type": "code",
      "source": [
        "nombre = \"Ana\"   # cadena alfanumérica \"string\"\n",
        "print(nombre)\n",
        "print(type(nombre))"
      ],
      "metadata": {
        "colab": {
          "base_uri": "https://localhost:8080/"
        },
        "id": "p-P2RqwMF0nD",
        "outputId": "5dff0603-7729-41b0-b98a-c672b7db3762"
      },
      "execution_count": 4,
      "outputs": [
        {
          "output_type": "stream",
          "name": "stdout",
          "text": [
            "Ana\n",
            "<class 'str'>\n"
          ]
        }
      ]
    },
    {
      "cell_type": "code",
      "source": [
        "peso = 4.17   # número de coma flotante \"float\"\n",
        "print(peso)\n",
        "type(peso)"
      ],
      "metadata": {
        "colab": {
          "base_uri": "https://localhost:8080/"
        },
        "id": "Zz471fzYF3fN",
        "outputId": "8906b046-4986-4d37-a6da-f3a7e1d87a55"
      },
      "execution_count": 5,
      "outputs": [
        {
          "output_type": "stream",
          "name": "stdout",
          "text": [
            "4.17\n"
          ]
        },
        {
          "output_type": "execute_result",
          "data": {
            "text/plain": [
              "float"
            ]
          },
          "metadata": {},
          "execution_count": 5
        }
      ]
    },
    {
      "cell_type": "markdown",
      "source": [
        "## Operaciones algebraicas básicas"
      ],
      "metadata": {
        "id": "8YogD3zHF6HN"
      }
    },
    {
      "cell_type": "code",
      "source": [
        "x = 2\n",
        "y = 3\n",
        "print(x+y)\n",
        "print(x*y)\n",
        "z= (x+4)/y\n",
        "print(z)\n",
        "type(z)"
      ],
      "metadata": {
        "colab": {
          "base_uri": "https://localhost:8080/"
        },
        "id": "mYXJrsd4F7Df",
        "outputId": "f5ca96aa-f58a-4131-8c7c-a20c7a66211a"
      },
      "execution_count": 6,
      "outputs": [
        {
          "output_type": "stream",
          "name": "stdout",
          "text": [
            "5\n",
            "6\n",
            "2.0\n"
          ]
        },
        {
          "output_type": "execute_result",
          "data": {
            "text/plain": [
              "float"
            ]
          },
          "metadata": {},
          "execution_count": 6
        }
      ]
    },
    {
      "cell_type": "code",
      "source": [
        "a, b = 2, 3\n",
        "print(a**b)   # elevar, potencias: 2^3 = 8"
      ],
      "metadata": {
        "colab": {
          "base_uri": "https://localhost:8080/"
        },
        "id": "fIoORuoFF_2j",
        "outputId": "97b5df47-e468-4b12-c03c-600006290ac3"
      },
      "execution_count": 7,
      "outputs": [
        {
          "output_type": "stream",
          "name": "stdout",
          "text": [
            "8\n"
          ]
        }
      ]
    },
    {
      "cell_type": "code",
      "execution_count": 8,
      "metadata": {
        "colab": {
          "base_uri": "https://localhost:8080/"
        },
        "id": "NFQ_ZFeEE3hx",
        "outputId": "a80dbe4c-0611-4d4e-cf30-4cd3e2e6e9ed"
      },
      "outputs": [
        {
          "output_type": "stream",
          "name": "stdout",
          "text": [
            "4.0\n",
            "modulo:  0\n"
          ]
        }
      ],
      "source": [
        "p = 20\n",
        "q = 5\n",
        "print(p/q)\n",
        "print(\"modulo: \", p % q)   # módulo, resto, resíduo"
      ]
    }
  ]
}