{
  "nbformat": 4,
  "nbformat_minor": 0,
  "metadata": {
    "colab": {
      "provenance": [],
      "include_colab_link": true
    },
    "kernelspec": {
      "name": "python3",
      "display_name": "Python 3"
    },
    "language_info": {
      "name": "python"
    }
  },
  "cells": [
    {
      "cell_type": "markdown",
      "metadata": {
        "id": "view-in-github",
        "colab_type": "text"
      },
      "source": [
        "<a href=\"https://colab.research.google.com/github/financieras/curso_python/blob/main/python_0010.ipynb\" target=\"_parent\"><img src=\"https://colab.research.google.com/assets/colab-badge.svg\" alt=\"Open In Colab\"/></a>"
      ]
    },
    {
      "cell_type": "markdown",
      "source": [
        "# ¿Qué es Python?\n",
        "1. Python es un lenguaje de programación de alto nivel (cercano al lenguaje humano)\n",
        "2. Actualmente es uno de los más usados a nivel profesional:\n",
        "ciencia de datos\n",
        "  - ia (inteligencia artifical)\n",
        "  - iot (internet of things)\n",
        "  - web (web pages, web scraping)\n",
        "  - bots, ...\n",
        "3. Es multiplataforma\n",
        "  - Windows\n",
        "  - Linux\n",
        "  - Mac\n",
        "  - [Raspberry Pi](https://www.google.com/search?q=raspberry+pi)\n",
        "  - [placas de microcontroladores](https://www.google.com/search?q=microcontrolador+python)\n",
        "  - calculadoras como la TI-84 Plus CE-T Python Edition\n"
      ],
      "metadata": {
        "id": "1CyFpHgOvrbp"
      }
    },
    {
      "cell_type": "markdown",
      "source": [
        "#### *Ejercicio 1*\n",
        "1. Averigua si existen videojuegos programados en Python\n",
        "2. ¿Cómo se llama la librería que se usa?\n",
        "3. Inserta aquí alguna imagen sobre este tema."
      ],
      "metadata": {
        "id": "2D4ZrGcnvyMr"
      }
    },
    {
      "cell_type": "markdown",
      "source": [
        "## ¿Quién creó Python?\n",
        "Python fué creado por el programador holandés [Guido van Rossum](https://es.wikipedia.org/wiki/Guido_van_Rossum)"
      ],
      "metadata": {
        "id": "fMW2nDhS3Z35"
      }
    },
    {
      "cell_type": "markdown",
      "source": [
        "#### *Ejercicio 2*\n",
        "1. ¿En qué año se creó Python?\n",
        "2. ¿Por qué Guido van Rossum llamó a su lenguaje Python?\n",
        "3. Inserta aquí debajo la foto de Guido que hay en la Wikipedia. Pon un tamaño pequeño."
      ],
      "metadata": {
        "id": "zvHTwEtt4BOg"
      }
    }
  ]
}