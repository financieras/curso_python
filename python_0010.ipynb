{
  "nbformat": 4,
  "nbformat_minor": 0,
  "metadata": {
    "colab": {
      "provenance": [],
      "toc_visible": true,
      "include_colab_link": true
    },
    "kernelspec": {
      "name": "python3",
      "display_name": "Python 3"
    },
    "language_info": {
      "name": "python"
    }
  },
  "cells": [
    {
      "cell_type": "markdown",
      "metadata": {
        "id": "view-in-github",
        "colab_type": "text"
      },
      "source": [
        "<a href=\"https://colab.research.google.com/github/financieras/curso_python/blob/main/python_0010.ipynb\" target=\"_parent\"><img src=\"https://colab.research.google.com/assets/colab-badge.svg\" alt=\"Open In Colab\"/></a>"
      ]
    },
    {
      "cell_type": "markdown",
      "source": [
        "# ¿Qué es Python?\n",
        "\n",
        "<img src=\"https://github.com/financieras/curso_python/blob/main/img/logo.png?raw=1\" alt=\"molde\" width=\"250\">\n",
        "\n",
        "1. Python es un lenguaje de programación de alto nivel (cercano al lenguaje humano)\n",
        "2. Actualmente es uno de los más usados a nivel profesional:\n",
        "  - ciencia de datos\n",
        "  - ia (inteligencia artifical)\n",
        "  - iot (internet of things)\n",
        "  - web (web pages, web scraping)\n",
        "  - bots, ...\n",
        "3. Es multiplataforma\n",
        "  - Windows\n",
        "  - Linux\n",
        "  - Mac\n",
        "  - [Raspberry Pi](https://www.google.com/search?q=raspberry+pi)\n",
        "  - [placas de microcontroladores](https://www.google.com/search?q=microcontrolador+python)\n",
        "  - calculadoras como la TI-84 Plus CE-T Python Edition\n",
        "\n",
        "<img src=\"https://github.com/financieras/curso_python/blob/main/img/raspberry_pi_4_modelo_b.jpg?raw=1\" alt=\"raspberry pi\" width=\"250\">"
      ],
      "metadata": {
        "id": "1CyFpHgOvrbp"
      }
    },
    {
      "cell_type": "markdown",
      "source": [
        "## ¿Quién creó Python?\n",
        "Python fué creado por el programador holandés [Guido van Rossum](https://es.wikipedia.org/wiki/Guido_van_Rossum)."
      ],
      "metadata": {
        "id": "fMW2nDhS3Z35"
      }
    },
    {
      "cell_type": "markdown",
      "source": [
        "## El intérprete de Python\n",
        "Python es un lenguaje interpretado, no compilado.\n",
        "\n",
        "<img src=\"https://github.com/financieras/curso_python/blob/main/img/interprete_python.png?raw=1\" alt=\"molde\" width=\"500\">\n"
      ],
      "metadata": {
        "id": "yXV0Ky-E8SHU"
      }
    },
    {
      "cell_type": "markdown",
      "source": [
        "## Posibles formas de ejecutarlo\n",
        "Se puede hacer la instalación oficial que trae su propio entorno de desarrollo, pero existen muchas más formas y existen multitud de editores."
      ],
      "metadata": {
        "id": "xpJQpiv4475c"
      }
    },
    {
      "cell_type": "markdown",
      "source": [
        "## Descarga oficial\n",
        "Podemos ir a la página oficial de y descargar Python para nuestro sistema operativo: [python.org](https://www.python.org)\n",
        "  - para Windows existe un paso en la instalación que nos pregunta si queremos añadirlo al PATH, debemos marcar esa opción.\n",
        "\n",
        "<img src=\"https://github.com/financieras/curso_python/blob/main/img/add_to_path.png?raw=1\" alt=\"molde\" width=\"400\">"
      ],
      "metadata": {
        "id": "As4AVgVw5SkY"
      }
    },
    {
      "cell_type": "markdown",
      "source": [
        "## Ejercicios"
      ],
      "metadata": {
        "id": "y2DvO7pr3uFq"
      }
    },
    {
      "cell_type": "markdown",
      "source": [
        "#### *Ejercicio 1*\n",
        "1. Averigua si existen videojuegos programados en Python\n",
        "2. ¿Cómo se llama la librería que se usa?"
      ],
      "metadata": {
        "id": "2D4ZrGcnvyMr"
      }
    },
    {
      "cell_type": "markdown",
      "source": [
        "#### *Ejercicio 2*\n",
        "1. ¿En qué año se creó Python?\n",
        "2. ¿Por qué Guido van Rossum llamó a su lenguaje Python?"
      ],
      "metadata": {
        "id": "zvHTwEtt4BOg"
      }
    },
    {
      "cell_type": "markdown",
      "source": [
        "#### *Ejercicio 3*\n",
        "1. Existe un ranking de lenguajes de programación que se llama *TIOBE Index*.\n",
        "2. ¿Qué lugar ocupa Python actualmente en el índice?\n"
      ],
      "metadata": {
        "id": "wojor55a6vj3"
      }
    }
  ]
}