{
  "nbformat": 4,
  "nbformat_minor": 0,
  "metadata": {
    "colab": {
      "provenance": [],
      "authorship_tag": "ABX9TyMaP6K/ha8InsPGsfboTlRl",
      "include_colab_link": true
    },
    "kernelspec": {
      "name": "python3",
      "display_name": "Python 3"
    },
    "language_info": {
      "name": "python"
    }
  },
  "cells": [
    {
      "cell_type": "markdown",
      "metadata": {
        "id": "view-in-github",
        "colab_type": "text"
      },
      "source": [
        "<a href=\"https://colab.research.google.com/github/financieras/curso_python/blob/main/020_hola_mundo.ipynb\" target=\"_parent\"><img src=\"https://colab.research.google.com/assets/colab-badge.svg\" alt=\"Open In Colab\"/></a>"
      ]
    },
    {
      "cell_type": "markdown",
      "source": [
        "# Comenzando a programar con Python"
      ],
      "metadata": {
        "id": "CLhzSyoGFYzI"
      }
    },
    {
      "cell_type": "markdown",
      "source": [
        "## Hola mundo"
      ],
      "metadata": {
        "id": "L5mQMDMmwjMU"
      }
    },
    {
      "cell_type": "code",
      "source": [
        "print(\"Hola mundo\")"
      ],
      "metadata": {
        "colab": {
          "base_uri": "https://localhost:8080/"
        },
        "id": "epjxiKu7Feca",
        "outputId": "797419a6-1111-4d3e-d56d-32b077517703"
      },
      "execution_count": null,
      "outputs": [
        {
          "output_type": "stream",
          "name": "stdout",
          "text": [
            "Hola mundo\n"
          ]
        }
      ]
    },
    {
      "cell_type": "markdown",
      "source": [
        "## Comentarios"
      ],
      "metadata": {
        "id": "mpbW--jGukS2"
      }
    },
    {
      "cell_type": "code",
      "source": [
        "# Esto es un comentario\n",
        "print('Hola mundo')     # string con comillas simples"
      ],
      "metadata": {
        "id": "kJEZJE4QuoPS",
        "outputId": "62fe8628-5904-4ccc-eedb-b9f863b284f4",
        "colab": {
          "base_uri": "https://localhost:8080/"
        }
      },
      "execution_count": null,
      "outputs": [
        {
          "output_type": "stream",
          "name": "stdout",
          "text": [
            "Hola mundo\n"
          ]
        }
      ]
    },
    {
      "cell_type": "markdown",
      "source": [
        "## Calculadora\n",
        "Podemos trabajar directamente haciendo operaciones como si fuera una calculadora."
      ],
      "metadata": {
        "id": "nMnlJGSH1Mf0"
      }
    },
    {
      "cell_type": "code",
      "source": [
        "2+3"
      ],
      "metadata": {
        "id": "eIjPJ_-Q1Wyb",
        "outputId": "c1300e7b-d77c-4b21-e37f-1599cd23db67",
        "colab": {
          "base_uri": "https://localhost:8080/"
        }
      },
      "execution_count": null,
      "outputs": [
        {
          "output_type": "execute_result",
          "data": {
            "text/plain": [
              "5"
            ]
          },
          "metadata": {},
          "execution_count": 14
        }
      ]
    },
    {
      "cell_type": "markdown",
      "source": [
        "### Paréntesis y prelación de operaciones"
      ],
      "metadata": {
        "id": "VbPrFbJX1fue"
      }
    },
    {
      "cell_type": "code",
      "source": [
        "5 + 3 * 2       # el producto se hace antes que la suma, tiene prioridad"
      ],
      "metadata": {
        "id": "925VRCSG1ke_",
        "outputId": "171f70a8-813a-40f9-f805-2a1697289ccc",
        "colab": {
          "base_uri": "https://localhost:8080/"
        }
      },
      "execution_count": null,
      "outputs": [
        {
          "output_type": "execute_result",
          "data": {
            "text/plain": [
              "11"
            ]
          },
          "metadata": {},
          "execution_count": 18
        }
      ]
    },
    {
      "cell_type": "code",
      "source": [
        "print(5+(3*2))\n",
        "print((5+3)*2)  # los paréntesis tienen prioridad sobre las operaciones"
      ],
      "metadata": {
        "id": "gRdTyqJI12Dk",
        "outputId": "0618292f-db7a-45d3-dd7b-4902b5968c07",
        "colab": {
          "base_uri": "https://localhost:8080/"
        }
      },
      "execution_count": null,
      "outputs": [
        {
          "output_type": "stream",
          "name": "stdout",
          "text": [
            "11\n",
            "16\n"
          ]
        }
      ]
    },
    {
      "cell_type": "markdown",
      "source": [
        "## Variables\n",
        "Los nombres de variables permitidos son los que:\n",
        "1. comienzan con letra, no deben comenzar por número\n",
        "2. no tienen espacios\n",
        "3. no tienen símbolos, salvo barra baja `_`\n",
        "4. no usar palabras reservadas como: print, and, global, in, while, pass, ...\n",
        "5. es práctica habitual que se escriban en minúsculas\n",
        "6. procurar evitar la letra ñ y los acentos áéíóú, â, ü, ç"
      ],
      "metadata": {
        "id": "VPw0ml4xFoRF"
      }
    },
    {
      "cell_type": "code",
      "source": [
        "# Asignamos el valor a la variable\n",
        "x = 5   # es un número Entero → int\n",
        "x"
      ],
      "metadata": {
        "id": "9iloF8GKFlEV",
        "outputId": "90487a67-7c60-4168-84b4-c1c56aa26c76",
        "colab": {
          "base_uri": "https://localhost:8080/"
        }
      },
      "execution_count": null,
      "outputs": [
        {
          "output_type": "execute_result",
          "data": {
            "text/plain": [
              "5"
            ]
          },
          "metadata": {},
          "execution_count": 9
        }
      ]
    },
    {
      "cell_type": "code",
      "source": [
        "print(type(x))\n",
        "print(x)"
      ],
      "metadata": {
        "colab": {
          "base_uri": "https://localhost:8080/"
        },
        "id": "MT6odx7KFxqd",
        "outputId": "ee30f16f-7a96-4ef6-80d8-da4d402d02b3"
      },
      "execution_count": null,
      "outputs": [
        {
          "output_type": "stream",
          "name": "stdout",
          "text": [
            "<class 'int'>\n",
            "5\n"
          ]
        }
      ]
    },
    {
      "cell_type": "code",
      "source": [
        "nombre = \"Ana\"   # es una cadena alfanumérica → string\n",
        "print(nombre)\n",
        "print(type(nombre))"
      ],
      "metadata": {
        "colab": {
          "base_uri": "https://localhost:8080/"
        },
        "id": "p-P2RqwMF0nD",
        "outputId": "0d219cbc-e3f0-4048-937f-b9af21a317c1"
      },
      "execution_count": null,
      "outputs": [
        {
          "output_type": "stream",
          "name": "stdout",
          "text": [
            "Ana\n",
            "<class 'str'>\n"
          ]
        }
      ]
    },
    {
      "cell_type": "code",
      "source": [
        "peso = 4.17   # es un número de coma flotante → float\n",
        "print(peso)\n",
        "type(peso)"
      ],
      "metadata": {
        "colab": {
          "base_uri": "https://localhost:8080/"
        },
        "id": "Zz471fzYF3fN",
        "outputId": "9a97e82a-1c14-48a6-d75e-e0a59a5def82"
      },
      "execution_count": null,
      "outputs": [
        {
          "output_type": "stream",
          "name": "stdout",
          "text": [
            "4.17\n"
          ]
        },
        {
          "output_type": "execute_result",
          "data": {
            "text/plain": [
              "float"
            ]
          },
          "metadata": {},
          "execution_count": 6
        }
      ]
    },
    {
      "cell_type": "markdown",
      "source": [
        "## Tipado dinámico y fuerte\n",
        "* Python es un lenguaje de tipado dinámico y de tipado fuerte.\n",
        "    1. Tipado dinámico vs tipado estático\n",
        "        - Tipado Dinámico: cuando el tipo de dato de una variable puede cambiar\n",
        "        <pre>\n",
        "        a = 5\n",
        "        print(a)    # imprime 5\n",
        "        a = \"Hola\"\n",
        "        print(a)    # imprime Hola y no da error\n",
        "        </pre>\n",
        "    2. Tipado fuerte vs tipado débil\n",
        "        - Tipado fuerte: cuando arroja un error ante una operación entre dos tipos de datos incompatibles, en lugar de convertir implícitamente alguno de los dos tipos.\n",
        "        <pre>\n",
        "        a = 2\n",
        "        b = \"3\"\n",
        "        print(a + b)  # ¡Error!\n",
        "        </pre>\n",
        "        - JavaScript tiene tipado débil\n",
        "\n",
        " &nbsp;&nbsp;&nbsp;&nbsp; &nbsp;&nbsp;&nbsp;&nbsp;<img src=\"https://github.com/financieras/curso_python/blob/main/img/javascript_tipado_debil.png?raw=1\" alt=\"javascript con tipado débil\" width=\"150\">\n",
        "\n",
        "<center><img src=\"https://github.com/financieras/curso_python/blob/main/img/dinamic_strong.png?raw=1\" alt=\"molde\" width=\"300\"></center>"
      ],
      "metadata": {
        "id": "xPw-OWznjMRB"
      }
    },
    {
      "cell_type": "code",
      "source": [
        "a = 5\n",
        "print(a)    # imprime 5\n",
        "\n",
        "a = \"Hola\"\n",
        "print(a)    # imprime Hola y no da error"
      ],
      "metadata": {
        "colab": {
          "base_uri": "https://localhost:8080/"
        },
        "id": "1zrhmyyRjeld",
        "outputId": "e86a05a6-592e-4675-a50f-748e2eee90d5"
      },
      "execution_count": null,
      "outputs": [
        {
          "output_type": "stream",
          "name": "stdout",
          "text": [
            "5\n",
            "Hola\n"
          ]
        }
      ]
    },
    {
      "cell_type": "code",
      "source": [
        "a = 2\n",
        "b = \"3\"\n",
        "#print(a + b)       # ¡Error!\n",
        "print(str(a) + b)   # casteando con str para convertir el número a string\n",
        "print(a + int(b))   # casteando con int para convertir el string a entero"
      ],
      "metadata": {
        "colab": {
          "base_uri": "https://localhost:8080/"
        },
        "id": "SAL4tGkxjrmD",
        "outputId": "7bd93c56-a93f-487c-d491-3e5ef449668e"
      },
      "execution_count": null,
      "outputs": [
        {
          "output_type": "stream",
          "name": "stdout",
          "text": [
            "23\n",
            "5\n"
          ]
        }
      ]
    },
    {
      "cell_type": "markdown",
      "source": [
        "## Usar `print` con coma\n",
        "Al imprimir elementos separados por coma se muestra un espacio entre ellos."
      ],
      "metadata": {
        "id": "ZM-y7K_Ivx0K"
      }
    },
    {
      "cell_type": "code",
      "source": [
        "nombre = \"Ana\"\n",
        "print(\"Hola\", nombre)"
      ],
      "metadata": {
        "id": "btxXI086v8lt",
        "outputId": "52165da1-8fc9-4924-f02e-97c464fc181c",
        "colab": {
          "base_uri": "https://localhost:8080/"
        }
      },
      "execution_count": 2,
      "outputs": [
        {
          "output_type": "stream",
          "name": "stdout",
          "text": [
            "Hola Ana\n"
          ]
        }
      ]
    },
    {
      "cell_type": "code",
      "source": [
        "edad = 15\n",
        "print(\"Me llamo\", nombre, \"y tengo\", edad, \"años\")"
      ],
      "metadata": {
        "colab": {
          "base_uri": "https://localhost:8080/"
        },
        "id": "0u7fjtMXsVr7",
        "outputId": "c09577ac-200a-4b6f-9b3e-318048e5cb42"
      },
      "execution_count": 3,
      "outputs": [
        {
          "output_type": "stream",
          "name": "stdout",
          "text": [
            "Me llamo Ana y tengo 15 años\n"
          ]
        }
      ]
    },
    {
      "cell_type": "markdown",
      "source": [
        "## Ejercicios"
      ],
      "metadata": {
        "id": "LoxTtEYe_7qe"
      }
    },
    {
      "cell_type": "markdown",
      "source": [
        "#### *Ejercicio 1*\n",
        "Imprime dos frases, una debajo de la otra."
      ],
      "metadata": {
        "id": "jWZExMr6DHbi"
      }
    },
    {
      "cell_type": "markdown",
      "source": [
        "#### *Ejercicio 2*\n",
        "Crea una variable con un nombre de variable no permitido y observa el error que se produce."
      ],
      "metadata": {
        "id": "2FPEzyc1Sx8J"
      }
    },
    {
      "cell_type": "markdown",
      "source": [
        "#### *Ejercicio 3*\n",
        "Usa las variables `lugar` y `nombre` para llegar a imprimir la frase:\n",
        "```\n",
        "Prefiero ir de vacaciones a Málaga con Julia.\n",
        "```\n",
        "Consigue que al cambiar el valor de las variables la frase cambie.\n",
        "\n",
        "Por ejemplo, la frase podría cambiar a esta:\n",
        "\n",
        "```\n",
        "Prefiero ir de vacaciones a Galicia con Pablo.\n",
        "```"
      ],
      "metadata": {
        "id": "4Ax4j29RyGR3"
      }
    },
    {
      "cell_type": "markdown",
      "source": [
        "#### *Ejercicio 4*\n",
        "* Usa la variable `edad` para indicar tu edad.\n",
        "* Usa la variable `nombre` para indicar tu nombre.\n",
        "* Si tu edad es de 16 años ¿qué código tendrías que poner para que se imprima la frase siguiente?\n",
        "\n",
        "```\n",
        "Me llamao Sonia y en mi próximo cumpleaños celebraré los 17 años\n",
        "```"
      ],
      "metadata": {
        "id": "a1l4SJAt2kWH"
      }
    },
    {
      "cell_type": "markdown",
      "source": [
        "## Nota"
      ],
      "metadata": {
        "id": "rs-DZpTCDi2z"
      }
    },
    {
      "cell_type": "markdown",
      "source": [
        "### Todas las `keywords` o palabras reservadas en Python"
      ],
      "metadata": {
        "id": "ipomhOa6DpaF"
      }
    },
    {
      "cell_type": "code",
      "source": [
        "import keyword        # aquí importamos una librería que esta llena de funciones\n",
        "print(keyword.kwlist) # una de esas funciones es kwlist que listas las keywords"
      ],
      "metadata": {
        "id": "iM9zJVIKDNjj",
        "outputId": "452e4601-b2cd-4059-e823-f247609a5262",
        "colab": {
          "base_uri": "https://localhost:8080/"
        }
      },
      "execution_count": null,
      "outputs": [
        {
          "output_type": "stream",
          "name": "stdout",
          "text": [
            "['False', 'None', 'True', 'and', 'as', 'assert', 'async', 'await', 'break', 'class', 'continue', 'def', 'del', 'elif', 'else', 'except', 'finally', 'for', 'from', 'global', 'if', 'import', 'in', 'is', 'lambda', 'nonlocal', 'not', 'or', 'pass', 'raise', 'return', 'try', 'while', 'with', 'yield']\n"
          ]
        }
      ]
    }
  ]
}