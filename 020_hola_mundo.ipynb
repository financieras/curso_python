{
  "nbformat": 4,
  "nbformat_minor": 0,
  "metadata": {
    "colab": {
      "provenance": [],
      "authorship_tag": "ABX9TyMZObI7UMWUOwd1mwSZ8s6b",
      "include_colab_link": true
    },
    "kernelspec": {
      "name": "python3",
      "display_name": "Python 3"
    },
    "language_info": {
      "name": "python"
    }
  },
  "cells": [
    {
      "cell_type": "markdown",
      "metadata": {
        "id": "view-in-github",
        "colab_type": "text"
      },
      "source": [
        "<a href=\"https://colab.research.google.com/github/financieras/curso_python/blob/main/020_hola_mundo.ipynb\" target=\"_parent\"><img src=\"https://colab.research.google.com/assets/colab-badge.svg\" alt=\"Open In Colab\"/></a>"
      ]
    },
    {
      "cell_type": "markdown",
      "source": [
        "# Comenzando a programar con Python"
      ],
      "metadata": {
        "id": "CLhzSyoGFYzI"
      }
    },
    {
      "cell_type": "markdown",
      "source": [
        "## Hola mundo"
      ],
      "metadata": {
        "id": "L5mQMDMmwjMU"
      }
    },
    {
      "cell_type": "code",
      "source": [
        "print(\"Hola mundo\")"
      ],
      "metadata": {
        "colab": {
          "base_uri": "https://localhost:8080/"
        },
        "id": "epjxiKu7Feca",
        "outputId": "797419a6-1111-4d3e-d56d-32b077517703"
      },
      "execution_count": null,
      "outputs": [
        {
          "output_type": "stream",
          "name": "stdout",
          "text": [
            "Hola mundo\n"
          ]
        }
      ]
    },
    {
      "cell_type": "markdown",
      "source": [
        "## Comentarios"
      ],
      "metadata": {
        "id": "mpbW--jGukS2"
      }
    },
    {
      "cell_type": "code",
      "source": [
        "# Esto es un comentario\n",
        "print('Hola mundo')     # string con comillas simples"
      ],
      "metadata": {
        "id": "kJEZJE4QuoPS",
        "outputId": "62fe8628-5904-4ccc-eedb-b9f863b284f4",
        "colab": {
          "base_uri": "https://localhost:8080/"
        }
      },
      "execution_count": null,
      "outputs": [
        {
          "output_type": "stream",
          "name": "stdout",
          "text": [
            "Hola mundo\n"
          ]
        }
      ]
    },
    {
      "cell_type": "markdown",
      "source": [
        "## Calculadora\n",
        "Podemos trabajar directamente haciendo operaciones como si fuera una calculadora."
      ],
      "metadata": {
        "id": "nMnlJGSH1Mf0"
      }
    },
    {
      "cell_type": "code",
      "source": [
        "2+3"
      ],
      "metadata": {
        "id": "eIjPJ_-Q1Wyb",
        "outputId": "c1300e7b-d77c-4b21-e37f-1599cd23db67",
        "colab": {
          "base_uri": "https://localhost:8080/"
        }
      },
      "execution_count": null,
      "outputs": [
        {
          "output_type": "execute_result",
          "data": {
            "text/plain": [
              "5"
            ]
          },
          "metadata": {},
          "execution_count": 14
        }
      ]
    },
    {
      "cell_type": "markdown",
      "source": [
        "### Paréntesis y prelación de operaciones"
      ],
      "metadata": {
        "id": "VbPrFbJX1fue"
      }
    },
    {
      "cell_type": "code",
      "source": [
        "5 + 3 * 2       # el producto se hace antes que la suma, tiene prioridad"
      ],
      "metadata": {
        "id": "925VRCSG1ke_",
        "outputId": "171f70a8-813a-40f9-f805-2a1697289ccc",
        "colab": {
          "base_uri": "https://localhost:8080/"
        }
      },
      "execution_count": null,
      "outputs": [
        {
          "output_type": "execute_result",
          "data": {
            "text/plain": [
              "11"
            ]
          },
          "metadata": {},
          "execution_count": 18
        }
      ]
    },
    {
      "cell_type": "code",
      "source": [
        "print(5+(3*2))\n",
        "print((5+3)*2)  # los paréntesis tienen prioridad sobre las operaciones"
      ],
      "metadata": {
        "id": "gRdTyqJI12Dk",
        "outputId": "0618292f-db7a-45d3-dd7b-4902b5968c07",
        "colab": {
          "base_uri": "https://localhost:8080/"
        }
      },
      "execution_count": null,
      "outputs": [
        {
          "output_type": "stream",
          "name": "stdout",
          "text": [
            "11\n",
            "16\n"
          ]
        }
      ]
    },
    {
      "cell_type": "markdown",
      "source": [
        "## Variables\n",
        "Los nombres de variables permitidos son los que:\n",
        "1. comienzan con letra, no deben comenzar por número\n",
        "2. no tienen espacios\n",
        "3. no tienen símbolos, salvo barra baja `_`\n",
        "4. no usar palabras reservadas como: print, and, global, in, while, pass, ...\n",
        "5. es práctica habitual que se escriban en minúsculas\n",
        "6. procurar evitar la letra ñ y los acentos áéíóú, â, ü, ç"
      ],
      "metadata": {
        "id": "VPw0ml4xFoRF"
      }
    },
    {
      "cell_type": "code",
      "source": [
        "# Asignamos el valor a la variable\n",
        "x = 5   # es un número Entero → int\n",
        "x"
      ],
      "metadata": {
        "id": "9iloF8GKFlEV",
        "outputId": "90487a67-7c60-4168-84b4-c1c56aa26c76",
        "colab": {
          "base_uri": "https://localhost:8080/"
        }
      },
      "execution_count": null,
      "outputs": [
        {
          "output_type": "execute_result",
          "data": {
            "text/plain": [
              "5"
            ]
          },
          "metadata": {},
          "execution_count": 9
        }
      ]
    },
    {
      "cell_type": "code",
      "source": [
        "print(type(x))\n",
        "print(x)"
      ],
      "metadata": {
        "colab": {
          "base_uri": "https://localhost:8080/"
        },
        "id": "MT6odx7KFxqd",
        "outputId": "ee30f16f-7a96-4ef6-80d8-da4d402d02b3"
      },
      "execution_count": null,
      "outputs": [
        {
          "output_type": "stream",
          "name": "stdout",
          "text": [
            "<class 'int'>\n",
            "5\n"
          ]
        }
      ]
    },
    {
      "cell_type": "code",
      "source": [
        "nombre = \"Ana\"   # es una cadena alfanumérica → string\n",
        "print(nombre)\n",
        "print(type(nombre))"
      ],
      "metadata": {
        "colab": {
          "base_uri": "https://localhost:8080/"
        },
        "id": "p-P2RqwMF0nD",
        "outputId": "0d219cbc-e3f0-4048-937f-b9af21a317c1"
      },
      "execution_count": null,
      "outputs": [
        {
          "output_type": "stream",
          "name": "stdout",
          "text": [
            "Ana\n",
            "<class 'str'>\n"
          ]
        }
      ]
    },
    {
      "cell_type": "code",
      "source": [
        "peso = 4.17   # es un número de coma flotante → float\n",
        "print(peso)\n",
        "type(peso)"
      ],
      "metadata": {
        "colab": {
          "base_uri": "https://localhost:8080/"
        },
        "id": "Zz471fzYF3fN",
        "outputId": "9a97e82a-1c14-48a6-d75e-e0a59a5def82"
      },
      "execution_count": null,
      "outputs": [
        {
          "output_type": "stream",
          "name": "stdout",
          "text": [
            "4.17\n"
          ]
        },
        {
          "output_type": "execute_result",
          "data": {
            "text/plain": [
              "float"
            ]
          },
          "metadata": {},
          "execution_count": 6
        }
      ]
    },
    {
      "cell_type": "markdown",
      "source": [
        "## Operaciones aritméticas básicas"
      ],
      "metadata": {
        "id": "8YogD3zHF6HN"
      }
    },
    {
      "cell_type": "markdown",
      "source": [
        "### Sumar, restar, multiplicar, dividir"
      ],
      "metadata": {
        "id": "vxaiTuOSq_uV"
      }
    },
    {
      "cell_type": "code",
      "source": [
        "x = 2\n",
        "y = 3\n",
        "print(x + y)\n",
        "print(x - y)\n",
        "print(x * y)\n",
        "z = (x + 4) / y\n",
        "print(z)\n",
        "type(z)             # al dividir siempre obtenemos un float"
      ],
      "metadata": {
        "colab": {
          "base_uri": "https://localhost:8080/"
        },
        "id": "mYXJrsd4F7Df",
        "outputId": "aea59064-9fed-4409-926a-1238ae2cd835"
      },
      "execution_count": null,
      "outputs": [
        {
          "output_type": "stream",
          "name": "stdout",
          "text": [
            "5\n",
            "-1\n",
            "6\n",
            "2.0\n"
          ]
        },
        {
          "output_type": "execute_result",
          "data": {
            "text/plain": [
              "float"
            ]
          },
          "metadata": {},
          "execution_count": 7
        }
      ]
    },
    {
      "cell_type": "markdown",
      "source": [
        "### Potencias"
      ],
      "metadata": {
        "id": "60s2R5SGrZdZ"
      }
    },
    {
      "cell_type": "code",
      "source": [
        "a = 2\n",
        "b = 3\n",
        "# las dos líneas de código anteriores se podrían poner en uan sola:  a, b = 2, 3\n",
        "print(a ** b)   # elevar, potencias: 2^3 = 8"
      ],
      "metadata": {
        "colab": {
          "base_uri": "https://localhost:8080/"
        },
        "id": "fIoORuoFF_2j",
        "outputId": "22321365-a219-412f-c988-1b01f4d5370c"
      },
      "execution_count": null,
      "outputs": [
        {
          "output_type": "stream",
          "name": "stdout",
          "text": [
            "8\n"
          ]
        }
      ]
    },
    {
      "cell_type": "markdown",
      "source": [
        "### Módulo\n",
        "El módulo es el resíduo o resto de una división"
      ],
      "metadata": {
        "id": "_qwSxgjQreAj"
      }
    },
    {
      "cell_type": "code",
      "execution_count": null,
      "metadata": {
        "colab": {
          "base_uri": "https://localhost:8080/"
        },
        "id": "NFQ_ZFeEE3hx",
        "outputId": "5461a8f6-3d20-49cc-e11f-74972a997bab"
      },
      "outputs": [
        {
          "output_type": "stream",
          "name": "stdout",
          "text": [
            "4.0\n",
            "modulo:  0\n"
          ]
        }
      ],
      "source": [
        "p = 20\n",
        "q = 5\n",
        "print(p / q)\n",
        "print(\"modulo: \", p % q)   # módulo, resto, resíduo"
      ]
    },
    {
      "cell_type": "markdown",
      "source": [
        "### División entera\n",
        "La división entera desprecia decimales. No redondea."
      ],
      "metadata": {
        "id": "C3V8me-br66v"
      }
    },
    {
      "cell_type": "code",
      "source": [
        "p = 20\n",
        "q = 7\n",
        "print(p / q)    # división normal\n",
        "print(p // q)   # división entera"
      ],
      "metadata": {
        "id": "3JSWF2f2sE89",
        "outputId": "fc6b6561-abcc-4b00-e83b-5468d1149f30",
        "colab": {
          "base_uri": "https://localhost:8080/"
        }
      },
      "execution_count": null,
      "outputs": [
        {
          "output_type": "stream",
          "name": "stdout",
          "text": [
            "2.857142857142857\n",
            "2\n"
          ]
        }
      ]
    },
    {
      "cell_type": "markdown",
      "source": [
        "### Redondear\n",
        "Usando la función `round`"
      ],
      "metadata": {
        "id": "ReUHbkyxt7R4"
      }
    },
    {
      "cell_type": "code",
      "source": [
        "round(p / q)    # redondeando a cero decimales"
      ],
      "metadata": {
        "id": "8Tn27mO9s12Q",
        "outputId": "5f4344b9-eeb3-4ba3-fec3-1a966d707def",
        "colab": {
          "base_uri": "https://localhost:8080/"
        }
      },
      "execution_count": null,
      "outputs": [
        {
          "output_type": "execute_result",
          "data": {
            "text/plain": [
              "3"
            ]
          },
          "metadata": {},
          "execution_count": 11
        }
      ]
    },
    {
      "cell_type": "code",
      "source": [
        "round(p/q, 2)   # redondeando a 2 decimales"
      ],
      "metadata": {
        "id": "Xmloazdktr7T",
        "outputId": "b8711000-2a51-497f-aa5a-b3beac308b78",
        "colab": {
          "base_uri": "https://localhost:8080/"
        }
      },
      "execution_count": null,
      "outputs": [
        {
          "output_type": "execute_result",
          "data": {
            "text/plain": [
              "2.86"
            ]
          },
          "metadata": {},
          "execution_count": 12
        }
      ]
    },
    {
      "cell_type": "markdown",
      "source": [
        "## Usar `print` con coma\n",
        "Al imprimir elementos separados por coma se muestra un espacio entre ellos."
      ],
      "metadata": {
        "id": "ZM-y7K_Ivx0K"
      }
    },
    {
      "cell_type": "code",
      "source": [
        "nombre = \"Ana\"\n",
        "print(\"Hola\", nombre)"
      ],
      "metadata": {
        "id": "btxXI086v8lt",
        "outputId": "01d41a10-fdcf-485f-da68-9f8e5ba2a00f",
        "colab": {
          "base_uri": "https://localhost:8080/"
        }
      },
      "execution_count": null,
      "outputs": [
        {
          "output_type": "stream",
          "name": "stdout",
          "text": [
            "Hola Ana\n"
          ]
        }
      ]
    },
    {
      "cell_type": "markdown",
      "source": [
        "## Ejercicios"
      ],
      "metadata": {
        "id": "LoxTtEYe_7qe"
      }
    },
    {
      "cell_type": "markdown",
      "source": [
        "#### *Ejercicio 1*\n",
        "Imprime dos frases, una debajo de la otra."
      ],
      "metadata": {
        "id": "jWZExMr6DHbi"
      }
    },
    {
      "cell_type": "markdown",
      "source": [
        "#### *Ejercicio 2*\n",
        "1. Crea una expresión matemática con varios paréntesis que tenga un poco de todo: sumas, restas, ... y que al final de cero.\n",
        "2. Añade algún comentario a tu código"
      ],
      "metadata": {
        "id": "R39GWFp8HhYX"
      }
    },
    {
      "cell_type": "markdown",
      "source": [
        "#### *Ejercicio 3*\n",
        "Crea una variable con un nombre de variable no permitido y observa el error que se produce."
      ],
      "metadata": {
        "id": "2FPEzyc1Sx8J"
      }
    },
    {
      "cell_type": "markdown",
      "source": [
        "#### *Ejercicio 4*\n",
        "1. Cuatro amigos reparten 15 comic a partes iguales y si la división no es exacta, el resto lo dejarán en la biblioteca.\n",
        "    - ¿Cómo ha quedado el reparto?\n",
        "    - ¿Cuánto vale la variable `biblioteca`?\n",
        "2. Explica el caso usando un *comentario de varias líneas* en Python.\n",
        "    - Como aquí no hemos contado cómo se hacen este tipo de comentarios que ocupan varias líneas busca algún recurso que lo explique."
      ],
      "metadata": {
        "id": "F5pcqd6ZUVUN"
      }
    },
    {
      "cell_type": "markdown",
      "source": [
        "#### *Ejercicio 5*\n",
        "Usa las variables `lugar` y `nombre` para llegar a imprimir la frase:\n",
        "```\n",
        "Prefiero ir de vacaciones a Málaga con Julia.\n",
        "```\n",
        "Consigue que al cambiar el valor de las variables la frase cambie.\n",
        "\n",
        "Por ejemplo, la frase podría cambiar a esta:\n",
        "\n",
        "```\n",
        "Prefiero ir de vacaciones a Galicia con Pablo.\n",
        "```"
      ],
      "metadata": {
        "id": "4Ax4j29RyGR3"
      }
    },
    {
      "cell_type": "markdown",
      "source": [
        "#### *Ejercicio 6*\n",
        "* Usa la variable `edad` para indicar tu edad.\n",
        "* Usa la variable `nombre` para indicar tu nombre.\n",
        "* Si tu edad es de 16 años ¿qué código tendrías que poner para que se imprima la frase siguiente?\n",
        "\n",
        "```\n",
        "Me llamao Sonia y en mi próximo cumpleaños celebraré los 17 años\n",
        "```"
      ],
      "metadata": {
        "id": "a1l4SJAt2kWH"
      }
    },
    {
      "cell_type": "markdown",
      "source": [
        "#### *Ejercicio 7*\n",
        "* He realizado tres exámenes y me gustaría obtener la nota media.\n",
        "    1. la nota1 ha sido de 7\n",
        "    2. la nota2 ha sido de 7\n",
        "    3. la nota3 ha sido de 9\n",
        "* Me gustaría calcular mi nota media redondeada\n",
        "* Deja tu código preparado para que si las notas de los exámenes cambian se calcule la media automáticamente"
      ],
      "metadata": {
        "id": "Aqw5mvHv38_l"
      }
    },
    {
      "cell_type": "markdown",
      "source": [
        "## Nota"
      ],
      "metadata": {
        "id": "rs-DZpTCDi2z"
      }
    },
    {
      "cell_type": "markdown",
      "source": [
        "### Todas las `keywords` o palabras reservadas en Python"
      ],
      "metadata": {
        "id": "ipomhOa6DpaF"
      }
    },
    {
      "cell_type": "code",
      "source": [
        "import keyword        # aquí importamos una librería que esta llena de funciones\n",
        "print(keyword.kwlist) # una de esas funciones es kwlist que listas las keywords"
      ],
      "metadata": {
        "id": "iM9zJVIKDNjj",
        "outputId": "452e4601-b2cd-4059-e823-f247609a5262",
        "colab": {
          "base_uri": "https://localhost:8080/"
        }
      },
      "execution_count": null,
      "outputs": [
        {
          "output_type": "stream",
          "name": "stdout",
          "text": [
            "['False', 'None', 'True', 'and', 'as', 'assert', 'async', 'await', 'break', 'class', 'continue', 'def', 'del', 'elif', 'else', 'except', 'finally', 'for', 'from', 'global', 'if', 'import', 'in', 'is', 'lambda', 'nonlocal', 'not', 'or', 'pass', 'raise', 'return', 'try', 'while', 'with', 'yield']\n"
          ]
        }
      ]
    }
  ]
}