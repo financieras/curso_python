{
  "nbformat": 4,
  "nbformat_minor": 0,
  "metadata": {
    "colab": {
      "provenance": [],
      "authorship_tag": "ABX9TyPZ9uSBp7w2GnsKJwHBpZK4",
      "include_colab_link": true
    },
    "kernelspec": {
      "name": "python3",
      "display_name": "Python 3"
    },
    "language_info": {
      "name": "python"
    }
  },
  "cells": [
    {
      "cell_type": "markdown",
      "metadata": {
        "id": "view-in-github",
        "colab_type": "text"
      },
      "source": [
        "<a href=\"https://colab.research.google.com/github/financieras/curso_python/blob/main/110_listas_metodos.ipynb\" target=\"_parent\"><img src=\"https://colab.research.google.com/assets/colab-badge.svg\" alt=\"Open In Colab\"/></a>"
      ]
    },
    {
      "cell_type": "markdown",
      "source": [
        "## Funciones y Métodos"
      ],
      "metadata": {
        "id": "ze2ZpsykuGu2"
      }
    },
    {
      "cell_type": "markdown",
      "source": [
        "### CRUD (Create, Read, Update, Delete)\n",
        "Estas son las operaciones básicas que se usan en cualquier aplicación programada en cualquier lenguaje."
      ],
      "metadata": {
        "id": "RcTJn_fwuNPP"
      }
    },
    {
      "cell_type": "code",
      "source": [
        "numeros = [10, 20, 30, 40, 50]      # creamos una lista\n",
        "print(numeros)                      # leemos la lista\n",
        "print(numeros[1])                   # leemos un elemento"
      ],
      "metadata": {
        "colab": {
          "base_uri": "https://localhost:8080/"
        },
        "id": "7vx5TuInvH5w",
        "outputId": "4c23053f-79c7-4894-a374-25a860697998"
      },
      "execution_count": 1,
      "outputs": [
        {
          "output_type": "stream",
          "name": "stdout",
          "text": [
            "[10, 20, 30, 40, 50]\n",
            "20\n"
          ]
        }
      ]
    },
    {
      "cell_type": "code",
      "source": [
        "numeros[-1] = 90                    # actualizamos el último elemento\n",
        "numeros"
      ],
      "metadata": {
        "colab": {
          "base_uri": "https://localhost:8080/"
        },
        "id": "sjmNXU7MvmTS",
        "outputId": "fe65c073-5d7a-4424-93b2-e19d2e6990e9"
      },
      "execution_count": 2,
      "outputs": [
        {
          "output_type": "execute_result",
          "data": {
            "text/plain": [
              "[10, 20, 30, 40, 90]"
            ]
          },
          "metadata": {},
          "execution_count": 2
        }
      ]
    },
    {
      "cell_type": "markdown",
      "source": [
        "### `append`\n",
        "Añade un elemento al final de la lista."
      ],
      "metadata": {
        "id": "FoY9xTl_A7kf"
      }
    },
    {
      "cell_type": "code",
      "source": [
        "lista = [1,2,3]\n",
        "lista.append(4)\n",
        "lista"
      ],
      "metadata": {
        "colab": {
          "base_uri": "https://localhost:8080/"
        },
        "id": "UmHyumr7BCIn",
        "outputId": "b49f88bc-a86c-4a46-8163-cb610c216346"
      },
      "execution_count": 3,
      "outputs": [
        {
          "output_type": "execute_result",
          "data": {
            "text/plain": [
              "[1, 2, 3, 4]"
            ]
          },
          "metadata": {},
          "execution_count": 3
        }
      ]
    },
    {
      "cell_type": "markdown",
      "source": [
        "### Unir dos listas con `+`\n"
      ],
      "metadata": {
        "id": "FywiH43oDSJK"
      }
    },
    {
      "cell_type": "code",
      "source": [
        "lista_1 = [1, 2, 3]\n",
        "lista_2 = [4, 5, 6]\n",
        "total_lista = lista_1 + lista_2\n",
        "total_lista"
      ],
      "metadata": {
        "colab": {
          "base_uri": "https://localhost:8080/"
        },
        "id": "QObhnDUpDl9v",
        "outputId": "ae9b39cc-eb27-427a-a87e-38c8a4a81fb8"
      },
      "execution_count": 4,
      "outputs": [
        {
          "output_type": "execute_result",
          "data": {
            "text/plain": [
              "[1, 2, 3, 4, 5, 6]"
            ]
          },
          "metadata": {},
          "execution_count": 4
        }
      ]
    },
    {
      "cell_type": "markdown",
      "source": [
        "### `pop`\n",
        "Elimina el último elemento."
      ],
      "metadata": {
        "id": "3nNAzkh4E5iI"
      }
    },
    {
      "cell_type": "code",
      "source": [
        "total_lista.pop()       # por defecto se elimina el último elemento\n",
        "total_lista"
      ],
      "metadata": {
        "colab": {
          "base_uri": "https://localhost:8080/"
        },
        "id": "Gc4O8FPjFByE",
        "outputId": "0708d558-f139-4b75-dade-8bdb18adda6b"
      },
      "execution_count": 5,
      "outputs": [
        {
          "output_type": "execute_result",
          "data": {
            "text/plain": [
              "[1, 2, 3, 4, 5]"
            ]
          },
          "metadata": {},
          "execution_count": 5
        }
      ]
    },
    {
      "cell_type": "code",
      "source": [
        "total_lista.pop(0)      # podemos indicar el index a eliminar\n",
        "total_lista"
      ],
      "metadata": {
        "colab": {
          "base_uri": "https://localhost:8080/"
        },
        "id": "kh0iAP3aIZKG",
        "outputId": "b7523d3b-8d75-45e3-a171-6b39d0cd0c52"
      },
      "execution_count": 6,
      "outputs": [
        {
          "output_type": "execute_result",
          "data": {
            "text/plain": [
              "[2, 3, 4, 5]"
            ]
          },
          "metadata": {},
          "execution_count": 6
        }
      ]
    },
    {
      "cell_type": "code",
      "source": [
        "del total_lista[-1]     # otra forma de eliminar un elemento\n",
        "total_lista"
      ],
      "metadata": {
        "id": "DjPoerQneh5v",
        "outputId": "8e236cbb-6c21-4cfa-9da6-52a11fb4b140",
        "colab": {
          "base_uri": "https://localhost:8080/"
        }
      },
      "execution_count": 7,
      "outputs": [
        {
          "output_type": "execute_result",
          "data": {
            "text/plain": [
              "[2, 3, 4]"
            ]
          },
          "metadata": {},
          "execution_count": 7
        }
      ]
    },
    {
      "cell_type": "markdown",
      "source": [
        "### `len`"
      ],
      "metadata": {
        "id": "4pGAvPTm-ibV"
      }
    },
    {
      "cell_type": "code",
      "source": [
        "colores = ['rojo', 'verde', 'azul']\n",
        "len(colores)                            # longitud de la lista"
      ],
      "metadata": {
        "colab": {
          "base_uri": "https://localhost:8080/"
        },
        "id": "4y9qU3ly8yyw",
        "outputId": "7b9abb6e-9f17-405e-8edc-5aae26017c3e"
      },
      "execution_count": 8,
      "outputs": [
        {
          "output_type": "execute_result",
          "data": {
            "text/plain": [
              "3"
            ]
          },
          "metadata": {},
          "execution_count": 8
        }
      ]
    },
    {
      "cell_type": "code",
      "source": [
        "len(colores)"
      ],
      "metadata": {
        "colab": {
          "base_uri": "https://localhost:8080/"
        },
        "id": "jgqzLpU-9GtN",
        "outputId": "cb492612-5167-43c7-9440-7ccef143072a"
      },
      "execution_count": 9,
      "outputs": [
        {
          "output_type": "execute_result",
          "data": {
            "text/plain": [
              "3"
            ]
          },
          "metadata": {},
          "execution_count": 9
        }
      ]
    },
    {
      "cell_type": "markdown",
      "source": [
        "### `in`\n",
        "* Es un operador de pertenencia.\n",
        "* Permite saber si un elemento está en la lista\n",
        "* Da `True` si el valor especificado se encuentra en la secuencia\n",
        "* Tambíen existe `not in`"
      ],
      "metadata": {
        "id": "W2xEhh1_-lOi"
      }
    },
    {
      "cell_type": "code",
      "source": [
        "'rojo' in colores"
      ],
      "metadata": {
        "colab": {
          "base_uri": "https://localhost:8080/"
        },
        "id": "895dp0kt-VRW",
        "outputId": "e4e04824-e8f6-4438-d904-e7db285fe735"
      },
      "execution_count": 10,
      "outputs": [
        {
          "output_type": "execute_result",
          "data": {
            "text/plain": [
              "True"
            ]
          },
          "metadata": {},
          "execution_count": 10
        }
      ]
    },
    {
      "cell_type": "markdown",
      "source": [
        "### `insert`\n",
        "Insertamos un elemento en una posición"
      ],
      "metadata": {
        "id": "PJS01z-gETXr"
      }
    },
    {
      "cell_type": "code",
      "source": [
        "colores = ['rojo', 'verde', 'azul']\n",
        "colores.insert(1, \"naranja\")        # indicamos la posición a insertar\n",
        "colores"
      ],
      "metadata": {
        "colab": {
          "base_uri": "https://localhost:8080/"
        },
        "id": "N25vVCpBEWhe",
        "outputId": "7beb35eb-4777-4442-ed0c-49b79806ef3f"
      },
      "execution_count": 11,
      "outputs": [
        {
          "output_type": "execute_result",
          "data": {
            "text/plain": [
              "['rojo', 'naranja', 'verde', 'azul']"
            ]
          },
          "metadata": {},
          "execution_count": 11
        }
      ]
    },
    {
      "cell_type": "markdown",
      "source": [
        "### `remove`"
      ],
      "metadata": {
        "id": "7hc9UeGiIBzM"
      }
    },
    {
      "cell_type": "code",
      "source": [
        "colores.remove('naranja')\n",
        "colores"
      ],
      "metadata": {
        "colab": {
          "base_uri": "https://localhost:8080/"
        },
        "id": "FSeJYu7MIE7a",
        "outputId": "f8540ce0-e756-49f3-81a3-abe88167cb72"
      },
      "execution_count": 12,
      "outputs": [
        {
          "output_type": "execute_result",
          "data": {
            "text/plain": [
              "['rojo', 'verde', 'azul']"
            ]
          },
          "metadata": {},
          "execution_count": 12
        }
      ]
    },
    {
      "cell_type": "markdown",
      "source": [
        "### `clear`\n",
        "Elimina todos los elementos de la lista."
      ],
      "metadata": {
        "id": "iUeA-RbnI4g1"
      }
    },
    {
      "cell_type": "code",
      "source": [
        "colores.clear()\n",
        "colores"
      ],
      "metadata": {
        "colab": {
          "base_uri": "https://localhost:8080/"
        },
        "id": "v1QRJWVVI_tH",
        "outputId": "0a27fac8-ae42-4e44-a182-55bfec51c49d"
      },
      "execution_count": 13,
      "outputs": [
        {
          "output_type": "execute_result",
          "data": {
            "text/plain": [
              "[]"
            ]
          },
          "metadata": {},
          "execution_count": 13
        }
      ]
    },
    {
      "cell_type": "markdown",
      "source": [
        "### `index`\n",
        "¿Qué index ocupa un elemento dentro de una lista?"
      ],
      "metadata": {
        "id": "6sQ6Jc9nJ58S"
      }
    },
    {
      "cell_type": "code",
      "source": [
        "colores = ['rojo', 'verde', 'azul']\n",
        "colores.index('azul')                   # da el index de un elemento"
      ],
      "metadata": {
        "colab": {
          "base_uri": "https://localhost:8080/"
        },
        "id": "Uh3ewjBCJ-JZ",
        "outputId": "851af7de-b5e5-4dbc-b0b7-5a9e6649abc8"
      },
      "execution_count": 14,
      "outputs": [
        {
          "output_type": "execute_result",
          "data": {
            "text/plain": [
              "2"
            ]
          },
          "metadata": {},
          "execution_count": 14
        }
      ]
    },
    {
      "cell_type": "markdown",
      "source": [
        "### `count`"
      ],
      "metadata": {
        "id": "tQO__2bXKXEd"
      }
    },
    {
      "cell_type": "code",
      "source": [
        "num = [5, 8, 9, 5, 2, 5, 9]\n",
        "num.count(5)"
      ],
      "metadata": {
        "colab": {
          "base_uri": "https://localhost:8080/"
        },
        "id": "FQ62ykHqKr08",
        "outputId": "79719b7a-9a70-40f2-f246-a5672f20410e"
      },
      "execution_count": 15,
      "outputs": [
        {
          "output_type": "execute_result",
          "data": {
            "text/plain": [
              "3"
            ]
          },
          "metadata": {},
          "execution_count": 15
        }
      ]
    },
    {
      "cell_type": "markdown",
      "source": [
        "### Operar con elementos de la lista"
      ],
      "metadata": {
        "id": "JXWIb8qdZOQE"
      }
    },
    {
      "cell_type": "code",
      "source": [
        "num[0] += 1     # incrementamos en 1 el primer elemento de la lista\n",
        "num"
      ],
      "metadata": {
        "id": "bGyWSOoGY9Ab",
        "outputId": "f42b41b9-6bb4-422a-d83e-df1beabb406d",
        "colab": {
          "base_uri": "https://localhost:8080/"
        }
      },
      "execution_count": 16,
      "outputs": [
        {
          "output_type": "execute_result",
          "data": {
            "text/plain": [
              "[6, 8, 9, 5, 2, 5, 9]"
            ]
          },
          "metadata": {},
          "execution_count": 16
        }
      ]
    },
    {
      "cell_type": "markdown",
      "source": [
        "### `reverse`"
      ],
      "metadata": {
        "id": "DWda8vc5Z5EN"
      }
    },
    {
      "cell_type": "code",
      "source": [
        "lista = [1,2,3,4]\n",
        "lista.reverse()\n",
        "lista"
      ],
      "metadata": {
        "colab": {
          "base_uri": "https://localhost:8080/"
        },
        "id": "tQh73KmTzf28",
        "outputId": "cab595fa-afd6-46a6-fc2c-90e785753cf1"
      },
      "execution_count": 17,
      "outputs": [
        {
          "output_type": "execute_result",
          "data": {
            "text/plain": [
              "[4, 3, 2, 1]"
            ]
          },
          "metadata": {},
          "execution_count": 17
        }
      ]
    },
    {
      "cell_type": "markdown",
      "source": [
        "#### Ejemplo\n",
        "Podemos crear el reverso de una palabra para ver si son palíndromos."
      ],
      "metadata": {
        "id": "r6cEDNS5Z_jb"
      }
    },
    {
      "cell_type": "code",
      "source": [
        "array_letras = list(\"amor\")\n",
        "print(array_letras)\n",
        "reverso = array_letras[::-1]\n",
        "print(reverso)\n",
        "ciudad = ''.join(reverso)\n",
        "print(ciudad.capitalize())"
      ],
      "metadata": {
        "colab": {
          "base_uri": "https://localhost:8080/"
        },
        "id": "lz5sA8qRyThA",
        "outputId": "81304ad9-f55e-4823-93e6-208511578a58"
      },
      "execution_count": 18,
      "outputs": [
        {
          "output_type": "stream",
          "name": "stdout",
          "text": [
            "['a', 'm', 'o', 'r']\n",
            "['r', 'o', 'm', 'a']\n",
            "Roma\n"
          ]
        }
      ]
    },
    {
      "cell_type": "code",
      "source": [
        "palabra1 = \"Roma\"\n",
        "palabra2 = \"amor\"\n",
        "\n",
        "print(f\"Las palabras {palabra1} y {palabra2} ¿son palíndromos?\")\n",
        "\n",
        "palabra1_lista = list(palabra1.lower())\n",
        "palabra2_lista = list(palabra2.lower())\n",
        "\n",
        "palabra1_lista == palabra2_lista[::-1]"
      ],
      "metadata": {
        "id": "LNgV_uAAaTO8",
        "outputId": "0ebae3b4-0e4a-4896-d753-0b6a744ad6ea",
        "colab": {
          "base_uri": "https://localhost:8080/"
        }
      },
      "execution_count": 19,
      "outputs": [
        {
          "output_type": "stream",
          "name": "stdout",
          "text": [
            "Las palabras Roma y amor ¿son palíndromos?\n"
          ]
        },
        {
          "output_type": "execute_result",
          "data": {
            "text/plain": [
              "True"
            ]
          },
          "metadata": {},
          "execution_count": 19
        }
      ]
    },
    {
      "cell_type": "markdown",
      "source": [
        "### `sort`"
      ],
      "metadata": {
        "id": "RcFdHZeZJRes"
      }
    },
    {
      "cell_type": "code",
      "source": [
        "colores = ['rojo', 'verde', 'azul']\n",
        "colores.sort()                          # orden alfabético\n",
        "colores"
      ],
      "metadata": {
        "colab": {
          "base_uri": "https://localhost:8080/"
        },
        "id": "VdeCZrScJUYM",
        "outputId": "6cd09649-bb9d-43b1-8967-ca9be93fe53c"
      },
      "execution_count": 20,
      "outputs": [
        {
          "output_type": "execute_result",
          "data": {
            "text/plain": [
              "['azul', 'rojo', 'verde']"
            ]
          },
          "metadata": {},
          "execution_count": 20
        }
      ]
    },
    {
      "cell_type": "code",
      "source": [
        "colores = ['rojo', 'verde', 'azul']\n",
        "colores.sort(reverse = True)            # orden alfabético inverso\n",
        "colores"
      ],
      "metadata": {
        "colab": {
          "base_uri": "https://localhost:8080/"
        },
        "id": "k79gQOhXJlP7",
        "outputId": "a6fdef27-4aae-4c63-dc31-071479861851"
      },
      "execution_count": 21,
      "outputs": [
        {
          "output_type": "execute_result",
          "data": {
            "text/plain": [
              "['verde', 'rojo', 'azul']"
            ]
          },
          "metadata": {},
          "execution_count": 21
        }
      ]
    },
    {
      "cell_type": "markdown",
      "source": [
        "###  `sorted` vs `sort`"
      ],
      "metadata": {
        "id": "SP3HAf4yFSVB"
      }
    },
    {
      "cell_type": "code",
      "source": [
        "l = [5,2,6,1,9,0,-3]\n",
        "print(\"lista inicial\", l)\n",
        "l.sort()                        # l.sort() realmente ordena la lista pero se ha de poner antes del print\n",
        "print(\"lista ordenada\", l)"
      ],
      "metadata": {
        "colab": {
          "base_uri": "https://localhost:8080/"
        },
        "id": "ZtoYUt4MFY7F",
        "outputId": "54671b33-821c-4f39-fc56-64b272332398"
      },
      "execution_count": 22,
      "outputs": [
        {
          "output_type": "stream",
          "name": "stdout",
          "text": [
            "lista inicial [5, 2, 6, 1, 9, 0, -3]\n",
            "lista ordenada [-3, 0, 1, 2, 5, 6, 9]\n"
          ]
        }
      ]
    },
    {
      "cell_type": "code",
      "source": [
        "l = [5,2,6,1,9,0,-3]\n",
        "print(\"lista inicial\", l)\n",
        "print(\"lista ordenada\", sorted(l))     # realmente no ordena la lista pero si la imprime ordenada\n",
        "print(\"lista final\", l)"
      ],
      "metadata": {
        "colab": {
          "base_uri": "https://localhost:8080/"
        },
        "id": "jOww6XMuF7aF",
        "outputId": "9afe9dad-b831-48bf-ac23-98a0d8c95735"
      },
      "execution_count": 23,
      "outputs": [
        {
          "output_type": "stream",
          "name": "stdout",
          "text": [
            "lista inicial [5, 2, 6, 1, 9, 0, -3]\n",
            "lista ordenada [-3, 0, 1, 2, 5, 6, 9]\n",
            "lista final [5, 2, 6, 1, 9, 0, -3]\n"
          ]
        }
      ]
    }
  ]
}