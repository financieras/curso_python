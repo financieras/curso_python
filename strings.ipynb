{
  "nbformat": 4,
  "nbformat_minor": 0,
  "metadata": {
    "colab": {
      "provenance": [],
      "authorship_tag": "ABX9TyNwA3jvbPhseDbg41rKGlfS",
      "include_colab_link": true
    },
    "kernelspec": {
      "name": "python3",
      "display_name": "Python 3"
    },
    "language_info": {
      "name": "python"
    }
  },
  "cells": [
    {
      "cell_type": "markdown",
      "metadata": {
        "id": "view-in-github",
        "colab_type": "text"
      },
      "source": [
        "<a href=\"https://colab.research.google.com/github/financieras/curso_python/blob/main/strings.ipynb\" target=\"_parent\"><img src=\"https://colab.research.google.com/assets/colab-badge.svg\" alt=\"Open In Colab\"/></a>"
      ]
    },
    {
      "cell_type": "markdown",
      "source": [
        "# Strings"
      ],
      "metadata": {
        "id": "BUIg_tuy5rYC"
      }
    },
    {
      "cell_type": "code",
      "source": [
        "\"Hola\"  == 'Hola'       # en Python podemos usar \" \" o ' '"
      ],
      "metadata": {
        "id": "xZD6QAh35udq",
        "outputId": "500b71ff-25fc-49e7-8f0c-ab7561eab901",
        "colab": {
          "base_uri": "https://localhost:8080/"
        }
      },
      "execution_count": null,
      "outputs": [
        {
          "output_type": "execute_result",
          "data": {
            "text/plain": [
              "True"
            ]
          },
          "metadata": {},
          "execution_count": 1
        }
      ]
    },
    {
      "cell_type": "markdown",
      "source": [
        "Python is a case-sensitive programming language."
      ],
      "metadata": {
        "id": "_pi3IWsA6Ge3"
      }
    },
    {
      "cell_type": "code",
      "source": [
        "\"Hola\" == \"hola\"        # Python es sensible a mayúsculas"
      ],
      "metadata": {
        "id": "TvdszByN50SQ",
        "outputId": "62ab9109-a24c-45b6-8ee3-dd6eaaec50e0",
        "colab": {
          "base_uri": "https://localhost:8080/"
        }
      },
      "execution_count": null,
      "outputs": [
        {
          "output_type": "execute_result",
          "data": {
            "text/plain": [
              "False"
            ]
          },
          "metadata": {},
          "execution_count": 2
        }
      ]
    },
    {
      "cell_type": "markdown",
      "source": [
        "## String de varias líneas\n",
        "Asignar un string de varias líneas a una variable"
      ],
      "metadata": {
        "id": "VSnnes0G6WBu"
      }
    },
    {
      "cell_type": "code",
      "source": [
        "poema = \"\"\"¿Qué es poesía?, dices mientras clavas\n",
        "en mi pupila tu pupila azul.\n",
        "¡Qué es poesía!, ¿Y tú me lo preguntas?\n",
        "Poesía... eres tú.\"\"\"\n",
        "\n",
        "print(poema)"
      ],
      "metadata": {
        "id": "GdtqFX0w6VKq",
        "outputId": "312b45ae-661a-41b1-8552-521d2f0cdbad",
        "colab": {
          "base_uri": "https://localhost:8080/"
        }
      },
      "execution_count": null,
      "outputs": [
        {
          "output_type": "stream",
          "name": "stdout",
          "text": [
            "¿Qué es poesía?, dices mientras clavas\n",
            "en mi pupila tu pupila azul.\n",
            "¡Qué es poesía!, ¿Y tú me lo preguntas?\n",
            "Poesía... eres tú.\n"
          ]
        }
      ]
    },
    {
      "cell_type": "markdown",
      "source": [
        "## Longitud de un string\n",
        "* Usando la función `len`\n",
        "* que hace referencia a longitud *length*"
      ],
      "metadata": {
        "id": "jeSxzicg7gtG"
      }
    },
    {
      "cell_type": "code",
      "source": [
        "frase = \"Hola mundo\"\n",
        "print(len(frase))       # también cuenta el espacio"
      ],
      "metadata": {
        "id": "mp8hVFeB74Y_",
        "outputId": "bfb5185e-20e8-4f8d-9113-6e96a0e3c753",
        "colab": {
          "base_uri": "https://localhost:8080/"
        }
      },
      "execution_count": null,
      "outputs": [
        {
          "output_type": "stream",
          "name": "stdout",
          "text": [
            "10\n"
          ]
        }
      ]
    },
    {
      "cell_type": "markdown",
      "source": [
        "## Comprobación en un string\n",
        "* Podemos comprobar si un caracter está en un string usando `in`\n",
        "* También existe `not in`"
      ],
      "metadata": {
        "id": "r00v5vmvASHx"
      }
    },
    {
      "cell_type": "code",
      "source": [
        "'a' in 'Hola'"
      ],
      "metadata": {
        "id": "MXEo-l8rAdXq",
        "outputId": "135c8ccf-9d17-47cb-f5bd-30d17ad59118",
        "colab": {
          "base_uri": "https://localhost:8080/"
        }
      },
      "execution_count": null,
      "outputs": [
        {
          "output_type": "execute_result",
          "data": {
            "text/plain": [
              "True"
            ]
          },
          "metadata": {},
          "execution_count": 11
        }
      ]
    },
    {
      "cell_type": "code",
      "source": [
        "frase = \"Me gusta viajar a Londres\"\n",
        "ciudad = \"Roma\"\n",
        "ciudad not in frase"
      ],
      "metadata": {
        "id": "1Ag8_awOAi1l",
        "outputId": "3926419c-d30d-44ba-8078-9139b1017b41",
        "colab": {
          "base_uri": "https://localhost:8080/"
        }
      },
      "execution_count": null,
      "outputs": [
        {
          "output_type": "execute_result",
          "data": {
            "text/plain": [
              "True"
            ]
          },
          "metadata": {},
          "execution_count": 15
        }
      ]
    },
    {
      "cell_type": "markdown",
      "source": [],
      "metadata": {
        "id": "0KiMY__A3nbO"
      }
    }
  ]
}