{
  "nbformat": 4,
  "nbformat_minor": 0,
  "metadata": {
    "colab": {
      "provenance": [],
      "authorship_tag": "ABX9TyONVG7tE2drVCD9RVALmTTq",
      "include_colab_link": true
    },
    "kernelspec": {
      "name": "python3",
      "display_name": "Python 3"
    },
    "language_info": {
      "name": "python"
    }
  },
  "cells": [
    {
      "cell_type": "markdown",
      "metadata": {
        "id": "view-in-github",
        "colab_type": "text"
      },
      "source": [
        "<a href=\"https://colab.research.google.com/github/financieras/curso_python/blob/main/resumen/033_input.ipynb\" target=\"_parent\"><img src=\"https://colab.research.google.com/assets/colab-badge.svg\" alt=\"Open In Colab\"/></a>"
      ]
    },
    {
      "cell_type": "markdown",
      "metadata": {
        "id": "18593590"
      },
      "source": [
        "# Input  \n",
        "* Introducir datos por teclado usando `input`\n",
        "* Con `input` siempre se captura un *string* aunque se escriba un número."
      ]
    },
    {
      "cell_type": "code",
      "execution_count": null,
      "metadata": {
        "id": "995b0da2",
        "outputId": "c1c02fc0-4260-4278-d3d0-231da17c0898",
        "colab": {
          "base_uri": "https://localhost:8080/",
          "height": 53
        }
      },
      "outputs": [
        {
          "name": "stdout",
          "output_type": "stream",
          "text": [
            "15\n"
          ]
        },
        {
          "output_type": "execute_result",
          "data": {
            "text/plain": [
              "'15'"
            ],
            "application/vnd.google.colaboratory.intrinsic+json": {
              "type": "string"
            }
          },
          "metadata": {},
          "execution_count": 3
        }
      ],
      "source": [
        "input()     # Introduciendo un número lo toma como string. Pulse ENTER después de introducir el valor"
      ]
    },
    {
      "cell_type": "code",
      "execution_count": null,
      "metadata": {
        "id": "8a528dbb",
        "outputId": "b66a01e3-e4d8-48a7-fba7-9174b44a2e52",
        "colab": {
          "base_uri": "https://localhost:8080/"
        }
      },
      "outputs": [
        {
          "output_type": "stream",
          "name": "stdout",
          "text": [
            "¿Cómo se llama?\n",
            "Alberto\n",
            "Me alegro de conocerle Alberto\n"
          ]
        }
      ],
      "source": [
        "print(\"¿Cómo se llama?\")\n",
        "nombre = input()\n",
        "print(\"Me alegro de conocerle\", nombre)"
      ]
    },
    {
      "cell_type": "code",
      "execution_count": null,
      "metadata": {
        "id": "645e10cd",
        "outputId": "407f596f-0f55-4a97-9458-e785230bf61f",
        "colab": {
          "base_uri": "https://localhost:8080/",
          "height": 53
        }
      },
      "outputs": [
        {
          "name": "stdout",
          "output_type": "stream",
          "text": [
            "¿Cuántos años tiene?: 15\n"
          ]
        },
        {
          "output_type": "execute_result",
          "data": {
            "text/plain": [
              "'15'"
            ],
            "application/vnd.google.colaboratory.intrinsic+json": {
              "type": "string"
            }
          },
          "metadata": {},
          "execution_count": 6
        }
      ],
      "source": [
        "input(\"¿Cuántos años tiene?: \")  # Añadiendo texto dentro del paréntesis"
      ]
    },
    {
      "cell_type": "code",
      "execution_count": null,
      "metadata": {
        "id": "11a51f57",
        "outputId": "48b1afe1-bc68-43c0-b797-536e8b8989ee",
        "colab": {
          "base_uri": "https://localhost:8080/"
        }
      },
      "outputs": [
        {
          "output_type": "stream",
          "name": "stdout",
          "text": [
            "¿Cuántos años tiene?: 15\n",
            "15\n"
          ]
        },
        {
          "output_type": "execute_result",
          "data": {
            "text/plain": [
              "str"
            ]
          },
          "metadata": {},
          "execution_count": 7
        }
      ],
      "source": [
        "edad = input(\"¿Cuántos años tiene?: \")  # usamos una variable para capturar el dato\n",
        "print(edad)\n",
        "type(edad)                              # str, es un string"
      ]
    },
    {
      "cell_type": "code",
      "source": [
        "edad = int(input(\"¿Cuántos años tienes?: \"))     # se pone int para convertir\n",
        "print(f\"Tengo {edad} años\")\n",
        "print(f\"Y el próximo año tendré {edad+1}\")      # da Error si no se pone int"
      ],
      "metadata": {
        "id": "sB6BZPyTbSUH",
        "outputId": "ccf0037b-3d4c-4f13-9aee-18c5ca211188",
        "colab": {
          "base_uri": "https://localhost:8080/"
        }
      },
      "execution_count": null,
      "outputs": [
        {
          "output_type": "stream",
          "name": "stdout",
          "text": [
            "¿Cuántos años tienes?: 15\n",
            "Tengo 15 años\n",
            "Y el próximo año tendré 16\n"
          ]
        }
      ]
    },
    {
      "cell_type": "markdown",
      "metadata": {
        "id": "02b8b59d"
      },
      "source": [
        "### Convirtiendo el string en un int"
      ]
    },
    {
      "cell_type": "code",
      "execution_count": null,
      "metadata": {
        "id": "1871bb12",
        "outputId": "9e4edc4b-367e-48e9-a66d-3eb26fead93e",
        "colab": {
          "base_uri": "https://localhost:8080/"
        }
      },
      "outputs": [
        {
          "name": "stdout",
          "output_type": "stream",
          "text": [
            "Introduzca un número entero: 5\n"
          ]
        },
        {
          "output_type": "execute_result",
          "data": {
            "text/plain": [
              "5"
            ]
          },
          "metadata": {},
          "execution_count": 9
        }
      ],
      "source": [
        "num = int(input(\"Introduzca un número entero: \"))         # int convierte el string a entero\n",
        "num"
      ]
    },
    {
      "cell_type": "code",
      "execution_count": null,
      "metadata": {
        "id": "05d9bd9d",
        "outputId": "7c192a48-1bad-4832-9f6e-8daf108d4fdb",
        "colab": {
          "base_uri": "https://localhost:8080/"
        }
      },
      "outputs": [
        {
          "output_type": "stream",
          "name": "stdout",
          "text": [
            "Introduzca el primer número: 1\n",
            "Introduzca el segundo número: 2\n",
            "La suma es:  3\n"
          ]
        }
      ],
      "source": [
        "# Sumando dos enteros\n",
        "num1 = int(input(\"Introduzca el primer número: \"))\n",
        "num2 = int(input(\"Introduzca el segundo número: \"))\n",
        "print(\"La suma es: \", num1 + num2)"
      ]
    },
    {
      "cell_type": "code",
      "execution_count": null,
      "metadata": {
        "id": "078d704f",
        "outputId": "1a3d077b-b5ee-45de-d05a-7e1c41d6c1ef",
        "colab": {
          "base_uri": "https://localhost:8080/"
        }
      },
      "outputs": [
        {
          "output_type": "stream",
          "name": "stdout",
          "text": [
            "Introduzca el primer número: 1\n",
            "Introduzca el segundo número: 2\n",
            "Ahora no suma, da:  12\n"
          ]
        }
      ],
      "source": [
        "# Concatenando dos números\n",
        "num1 = input(\"Introduzca el primer número: \")\n",
        "num2 = input(\"Introduzca el segundo número: \")\n",
        "print(\"Ahora no suma, da: \", num1 + num2)                # observe que ahora no suma, concatena"
      ]
    },
    {
      "cell_type": "code",
      "execution_count": null,
      "metadata": {
        "id": "85c1626a",
        "outputId": "d1d3fd77-704b-4242-d7d1-29406a432bca",
        "colab": {
          "base_uri": "https://localhost:8080/"
        }
      },
      "outputs": [
        {
          "output_type": "stream",
          "name": "stdout",
          "text": [
            "Introduzca el primer número: 5\n",
            "Introduzca el segundo número: 3\n",
            "El producto de 5 por 3 es igual a 15\n",
            "El producto de 5 por 3 es igual a 15\n",
            "El producto de 5 por 3 es igual a 15\n"
          ]
        }
      ],
      "source": [
        "# Multiplicando dos enteros\n",
        "num1 = int(input(\"Introduzca el primer número: \"))\n",
        "num2 = int(input(\"Introduzca el segundo número: \"))\n",
        "print(\"El producto de\", num1 , \"por\", num2, \"es igual a\", num1*num2)\n",
        "print(\"El producto de {} por {} es igual a {}\".format(num1, num2, num1*num2))\n",
        "print(f\"El producto de {num1} por {num2} es igual a {num1*num2}\")"
      ]
    },
    {
      "cell_type": "markdown",
      "metadata": {
        "id": "522f8c89"
      },
      "source": [
        "### Convirtiendo el string en un float\n",
        "El separador de decimales es el punto."
      ]
    },
    {
      "cell_type": "code",
      "execution_count": null,
      "metadata": {
        "id": "67636000",
        "outputId": "c603d282-aceb-4962-f2e4-cc43304febbc",
        "colab": {
          "base_uri": "https://localhost:8080/"
        }
      },
      "outputs": [
        {
          "name": "stdout",
          "output_type": "stream",
          "text": [
            "Introduzca un número con decimales: 12.75\n"
          ]
        },
        {
          "output_type": "execute_result",
          "data": {
            "text/plain": [
              "12.75"
            ]
          },
          "metadata": {},
          "execution_count": 16
        }
      ],
      "source": [
        "num = float(input(\"Introduzca un número con decimales: \")) # float convierte el string a flotante\n",
        "num"
      ]
    },
    {
      "cell_type": "code",
      "execution_count": null,
      "metadata": {
        "id": "f1d3ba3e",
        "outputId": "c7705ef5-947e-4940-d688-3bb4fe338e70",
        "colab": {
          "base_uri": "https://localhost:8080/"
        }
      },
      "outputs": [
        {
          "output_type": "stream",
          "name": "stdout",
          "text": [
            "Introduzca el primer número: 5.5\n",
            "Introduzca el segundo número: 2.5\n",
            "El cociente de 5.5 entre 2.5 es igual a 2.2\n",
            "El cociente de 5.5 entre 2.5 es igual a 2.2\n"
          ]
        }
      ],
      "source": [
        "# Dividiendo dos flotantes\n",
        "num1 = float(input(\"Introduzca el primer número: \"))\n",
        "num2 = float(input(\"Introduzca el segundo número: \"))\n",
        "print(\"El cociente de \" + str(num1) + \" entre \" + str(num2) + \" es igual a \" + str(num1 / num2))\n",
        "print(f\"El cociente de {num1} entre {num2} es igual a {num1/num2}\")"
      ]
    },
    {
      "cell_type": "markdown",
      "metadata": {
        "id": "3a5bec00"
      },
      "source": [
        "## Variable como argumento de la función input()"
      ]
    },
    {
      "cell_type": "code",
      "execution_count": null,
      "metadata": {
        "id": "d39cda10",
        "outputId": "0528d952-4928-475d-bd0e-9d659f48791d",
        "colab": {
          "base_uri": "https://localhost:8080/"
        }
      },
      "outputs": [
        {
          "output_type": "stream",
          "name": "stdout",
          "text": [
            "Dígame su nombre: Ana\n",
            "Dígame su apellido, Ana: Ruiz\n",
            "Al final nos conocemos en persona, Ana Ruiz.\n"
          ]
        }
      ],
      "source": [
        "nombre = input(\"Dígame su nombre: \")\n",
        "apellido = input(f\"Dígame su apellido, {nombre}: \")\n",
        "print(f\"Al final nos conocemos en persona, {nombre} {apellido}.\")"
      ]
    },
    {
      "cell_type": "markdown",
      "metadata": {
        "id": "e19af35f"
      },
      "source": [
        "## Valor por defecto en un input()\n",
        "Si ponemos un ```or``` podemos incluir un valor por defecto.\n",
        "Si el usuario pulsa ENTER cuando se le pregunta, la repuesta será el valor por defecto."
      ]
    },
    {
      "cell_type": "code",
      "execution_count": null,
      "metadata": {
        "id": "0477b04d",
        "outputId": "235c233e-1add-45e5-a071-7bcc33d4d317",
        "colab": {
          "base_uri": "https://localhost:8080/"
        }
      },
      "outputs": [
        {
          "output_type": "stream",
          "name": "stdout",
          "text": [
            "Indique su Hoja de Calculo favorita: \n",
            "Excel\n"
          ]
        }
      ],
      "source": [
        "hojaCalculo = input(\"Indique su Hoja de Calculo favorita: \") or \"Excel\"\n",
        "print(hojaCalculo)"
      ]
    },
    {
      "cell_type": "markdown",
      "source": [
        "## Ejercicios"
      ],
      "metadata": {
        "id": "kVhzvwqPfqNh"
      }
    },
    {
      "cell_type": "markdown",
      "source": [
        "#### *Ejercicio 1*\n",
        "* Pide por teclado dos números, primero el num1 y luego vuelve a pedir por teclado el num2.\n",
        "* Finalmente imprime los dos números concatenados, no los sumes."
      ],
      "metadata": {
        "id": "tffkYRdffs2g"
      }
    },
    {
      "cell_type": "markdown",
      "source": [
        "#### *Ejercicio 2*\n",
        "1. Pregunta al usuario por el número de coches que tiene su familia.\n",
        "2. Si tiene 1 coche, usando el sistema de formato `f` debe imprimir la frase:\n",
        "<pre>No me gusta nada estar revisando la presión de las 4 ruedas.</pre>\n",
        "3. Si tiene 2 coches debe imprimir la frase:\n",
        "<pre>No me gusta nada estar revisando la presión de las 8 ruedas.</pre>\n",
        "4. Al introducir el usuario el número de coches que hay en su familia la frase debe adaptarse a cada caso."
      ],
      "metadata": {
        "id": "Q-0jBA04oGwB"
      }
    },
    {
      "cell_type": "markdown",
      "source": [
        "#### *Ejercicio 3*\n",
        "1. Crea un programa que pida al usuario que indique un producto y su precio que contenga unos euros y unos céntimos de euro.\n",
        "2. Por ejemplo, producto = \"café\", precio = 2.50.\n",
        "3. El programa ha de imprimir la frase:\n",
        "    <pre>Esta mañana he pagado 2 euros y 50 céntimos por un café.</pre>\n",
        "5. Usa el sistema `f` de *format* para imprimir la frase.\n",
        "6. Prueba con otros productos y precios."
      ],
      "metadata": {
        "id": "yZh3EAJqrudC"
      }
    }
  ]
}