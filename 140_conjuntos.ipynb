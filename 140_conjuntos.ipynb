{
  "nbformat": 4,
  "nbformat_minor": 0,
  "metadata": {
    "colab": {
      "provenance": [],
      "authorship_tag": "ABX9TyNGLko6CAbz3u7xxEH496JA",
      "include_colab_link": true
    },
    "kernelspec": {
      "name": "python3",
      "display_name": "Python 3"
    },
    "language_info": {
      "name": "python"
    }
  },
  "cells": [
    {
      "cell_type": "markdown",
      "metadata": {
        "id": "view-in-github",
        "colab_type": "text"
      },
      "source": [
        "<a href=\"https://colab.research.google.com/github/financieras/curso_python/blob/main/140_conjuntos.ipynb\" target=\"_parent\"><img src=\"https://colab.research.google.com/assets/colab-badge.svg\" alt=\"Open In Colab\"/></a>"
      ]
    },
    {
      "cell_type": "markdown",
      "source": [
        "# Conjuntos\n",
        "* Los conjuntos van entre llaves `{}`\n",
        "* Se pueden modificar\n",
        "* El orden no importa\n",
        "* No puede haber elementos repetidos"
      ],
      "metadata": {
        "id": "BQ-SLjpv-r2X"
      }
    },
    {
      "cell_type": "code",
      "execution_count": 1,
      "metadata": {
        "colab": {
          "base_uri": "https://localhost:8080/"
        },
        "id": "xs7rkEKt6fBz",
        "outputId": "f4ea094e-46d3-4db6-c981-21bc19339805"
      },
      "outputs": [
        {
          "output_type": "stream",
          "name": "stdout",
          "text": [
            "{'e', 'u', 'a', 'i', 'o'}\n"
          ]
        },
        {
          "output_type": "execute_result",
          "data": {
            "text/plain": [
              "set"
            ]
          },
          "metadata": {},
          "execution_count": 1
        }
      ],
      "source": [
        "vocales = {'a', 'e', 'i', 'o', 'u'}\n",
        "print(vocales)\n",
        "type(vocales)"
      ]
    },
    {
      "cell_type": "markdown",
      "source": [
        "## Creación de un conjunto\n",
        "* Existen varias formas de crear un conjunto:\n",
        "    1. Con las llaves `{}`, como hemos visto antes\n",
        "    2. Con la palabra `set` partiendo de una lista o tupla\n",
        "    3. Con la palabra `set` partiendo de un string"
      ],
      "metadata": {
        "id": "5FgSiEYJ_rmA"
      }
    },
    {
      "cell_type": "markdown",
      "source": [
        "### Partiendo de una lista o tupla"
      ],
      "metadata": {
        "id": "qSBl_WNiDURB"
      }
    },
    {
      "cell_type": "code",
      "source": [
        "sabores = set(['fresa', 'chocolate', 'vainilla', 'fresa'])\n",
        "sabores     # se elimina la repetición de elementos"
      ],
      "metadata": {
        "colab": {
          "base_uri": "https://localhost:8080/"
        },
        "id": "fIw_iSn3__rx",
        "outputId": "5e3c1ab4-275d-48c0-a7dd-68d9dac7d0d4"
      },
      "execution_count": 2,
      "outputs": [
        {
          "output_type": "execute_result",
          "data": {
            "text/plain": [
              "{'chocolate', 'fresa', 'vainilla'}"
            ]
          },
          "metadata": {},
          "execution_count": 2
        }
      ]
    },
    {
      "cell_type": "markdown",
      "source": [
        "### Partiendo de un string"
      ],
      "metadata": {
        "id": "zuof-p0rDYdP"
      }
    },
    {
      "cell_type": "code",
      "source": [
        "texto = 'banana'\n",
        "conjunto = set(texto)\n",
        "conjunto"
      ],
      "metadata": {
        "colab": {
          "base_uri": "https://localhost:8080/"
        },
        "id": "desQVYrgDcjM",
        "outputId": "693ee0c6-37d8-46bd-e3a7-79eca8436e47"
      },
      "execution_count": 3,
      "outputs": [
        {
          "output_type": "execute_result",
          "data": {
            "text/plain": [
              "{'a', 'b', 'n'}"
            ]
          },
          "metadata": {},
          "execution_count": 3
        }
      ]
    },
    {
      "cell_type": "markdown",
      "source": [
        "### Aleatorios sin repetición"
      ],
      "metadata": {
        "id": "BTknvPYCBJSz"
      }
    },
    {
      "cell_type": "code",
      "source": [
        "from random import randint\n",
        "\n",
        "lista = [randint(1,5), randint(1,5), randint(1,5), randint(1,5), randint(1,5)]\n",
        "print(\"Lista:    \", lista)\n",
        "\n",
        "conjunto = set(lista)\n",
        "print(\"Conjunto: \", conjunto)\n",
        "\n",
        "lista_sin_repetidos = list(conjunto)\n",
        "print(\"Sin repes:\", lista_sin_repetidos)"
      ],
      "metadata": {
        "colab": {
          "base_uri": "https://localhost:8080/"
        },
        "id": "EREInWIuBSDy",
        "outputId": "629856e3-08f7-44a5-f7ba-30c4b7f67338"
      },
      "execution_count": 4,
      "outputs": [
        {
          "output_type": "stream",
          "name": "stdout",
          "text": [
            "Lista:     [5, 2, 2, 1, 5]\n",
            "Conjunto:  {1, 2, 5}\n",
            "Sin repes: [1, 2, 5]\n"
          ]
        }
      ]
    },
    {
      "cell_type": "markdown",
      "source": [
        "## Tamaño de un conjunto con `len`"
      ],
      "metadata": {
        "id": "P2mHIUqBEgdY"
      }
    },
    {
      "cell_type": "code",
      "source": [
        "paises = {'es', 'fr', 'it', 'gb'}\n",
        "len(conjunto)"
      ],
      "metadata": {
        "colab": {
          "base_uri": "https://localhost:8080/"
        },
        "id": "wuHrXBJaEmoh",
        "outputId": "c33a6487-f1ab-454b-b3ed-423973ed8f1d"
      },
      "execution_count": 5,
      "outputs": [
        {
          "output_type": "execute_result",
          "data": {
            "text/plain": [
              "3"
            ]
          },
          "metadata": {},
          "execution_count": 5
        }
      ]
    },
    {
      "cell_type": "code",
      "source": [
        "'it' in paises"
      ],
      "metadata": {
        "colab": {
          "base_uri": "https://localhost:8080/"
        },
        "id": "c6klVgz7FINn",
        "outputId": "ca302bb0-dbd7-4760-86a4-4eb5bf13c702"
      },
      "execution_count": 6,
      "outputs": [
        {
          "output_type": "execute_result",
          "data": {
            "text/plain": [
              "True"
            ]
          },
          "metadata": {},
          "execution_count": 6
        }
      ]
    },
    {
      "cell_type": "markdown",
      "source": [
        "## Añadir elementos a un conjunto\n",
        "* Se añaden elementos con `add()`\n",
        "* Si se intenta añadir un elemento que ya existe, no da error, pero no lo añade ya que no se aceptan duplicados"
      ],
      "metadata": {
        "id": "bbPM4DmBFU3x"
      }
    },
    {
      "cell_type": "code",
      "source": [
        "paises.add('pt')\n",
        "paises"
      ],
      "metadata": {
        "colab": {
          "base_uri": "https://localhost:8080/"
        },
        "id": "Q_NIjRPTFZHE",
        "outputId": "68c58f24-ef1f-4bdd-9290-9290d8e1e207"
      },
      "execution_count": 7,
      "outputs": [
        {
          "output_type": "execute_result",
          "data": {
            "text/plain": [
              "{'es', 'fr', 'gb', 'it', 'pt'}"
            ]
          },
          "metadata": {},
          "execution_count": 7
        }
      ]
    },
    {
      "cell_type": "markdown",
      "source": [
        "## Añadir un conjunto de elementos\n",
        "* Usando `update()`\n",
        "* Añadimos\n",
        "    1. Suiza ch\n",
        "    2. Suecia se\n",
        "    3. Alemania de\n",
        "    4. Austria at\n",
        "\n",
        "https://www.sanidad.gob.es/ciudadanos/saludAmbLaboral/docs/codigoIsoPai.pdf"
      ],
      "metadata": {
        "id": "XchXO-4PF0t3"
      }
    },
    {
      "cell_type": "code",
      "source": [
        "paises.update({'ch', 'se', 'de', 'at'})\n",
        "paises"
      ],
      "metadata": {
        "colab": {
          "base_uri": "https://localhost:8080/"
        },
        "id": "krbhL1ZkGIbI",
        "outputId": "67d8b14e-c770-4aa6-e99e-99c7107ca933"
      },
      "execution_count": 8,
      "outputs": [
        {
          "output_type": "execute_result",
          "data": {
            "text/plain": [
              "{'at', 'ch', 'de', 'es', 'fr', 'gb', 'it', 'pt', 'se'}"
            ]
          },
          "metadata": {},
          "execution_count": 8
        }
      ]
    },
    {
      "cell_type": "markdown",
      "source": [
        "## Eliminar elementos con `remove`\n",
        "* Si el elemento no existe da error"
      ],
      "metadata": {
        "id": "oWEYMNWYH_2p"
      }
    },
    {
      "cell_type": "code",
      "source": [
        "paises.remove('gb')\n",
        "paises"
      ],
      "metadata": {
        "colab": {
          "base_uri": "https://localhost:8080/"
        },
        "id": "wQwkEA7uIE0s",
        "outputId": "364b632b-464d-4dfa-e17f-b27314dacd66"
      },
      "execution_count": 12,
      "outputs": [
        {
          "output_type": "execute_result",
          "data": {
            "text/plain": [
              "{'at', 'ch', 'de', 'es', 'fr', 'it', 'pt', 'se'}"
            ]
          },
          "metadata": {},
          "execution_count": 12
        }
      ]
    },
    {
      "cell_type": "code",
      "source": [
        "#paises.remove('jp')        # ¡¡¡ ERROR !!! al eliminar Japón que no existe"
      ],
      "metadata": {
        "id": "CrWE8Y-NIuVq"
      },
      "execution_count": 14,
      "outputs": []
    },
    {
      "cell_type": "markdown",
      "source": [
        "## Eliminar elementos con `discard`\n",
        "Si usamos `discard` para eliminar un elemento que no exite no da error"
      ],
      "metadata": {
        "id": "bpQ4m2lGJCpy"
      }
    },
    {
      "cell_type": "code",
      "source": [
        "paises.discard('jp')"
      ],
      "metadata": {
        "id": "9B4S221IJN3i"
      },
      "execution_count": 16,
      "outputs": []
    },
    {
      "cell_type": "markdown",
      "source": [
        "## Eliminar todo el conjunto con `clear()`"
      ],
      "metadata": {
        "id": "qnwkxbycJiCY"
      }
    },
    {
      "cell_type": "code",
      "source": [
        "paises.clear()\n",
        "paises"
      ],
      "metadata": {
        "colab": {
          "base_uri": "https://localhost:8080/"
        },
        "id": "GPz8XA0gJnqK",
        "outputId": "6ae7ac82-c97d-47f8-b7a0-6dd3ccaea4a4"
      },
      "execution_count": 17,
      "outputs": [
        {
          "output_type": "execute_result",
          "data": {
            "text/plain": [
              "set()"
            ]
          },
          "metadata": {},
          "execution_count": 17
        }
      ]
    },
    {
      "cell_type": "markdown",
      "source": [
        "## Unión de conjuntos"
      ],
      "metadata": {
        "id": "rI1EEFHSKDP8"
      }
    },
    {
      "cell_type": "code",
      "source": [
        "paises_A = {'es', 'fr', 'it'}\n",
        "paises_B = {'de', 'it'}\n",
        "todos = paises_A.union(paises_B)\n",
        "todos"
      ],
      "metadata": {
        "colab": {
          "base_uri": "https://localhost:8080/"
        },
        "id": "mwNcYpRpKHeQ",
        "outputId": "e1d90fdf-b47d-48a9-9b09-a660d5575878"
      },
      "execution_count": 20,
      "outputs": [
        {
          "output_type": "execute_result",
          "data": {
            "text/plain": [
              "{'de', 'es', 'fr', 'it'}"
            ]
          },
          "metadata": {},
          "execution_count": 20
        }
      ]
    }
  ]
}