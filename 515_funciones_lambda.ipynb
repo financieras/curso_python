{
  "nbformat": 4,
  "nbformat_minor": 0,
  "metadata": {
    "colab": {
      "provenance": [],
      "authorship_tag": "ABX9TyP/q6+MVb7KlIbw3PcuSfiV",
      "include_colab_link": true
    },
    "kernelspec": {
      "name": "python3",
      "display_name": "Python 3"
    },
    "language_info": {
      "name": "python"
    }
  },
  "cells": [
    {
      "cell_type": "markdown",
      "metadata": {
        "id": "view-in-github",
        "colab_type": "text"
      },
      "source": [
        "<a href=\"https://colab.research.google.com/github/financieras/curso_python/blob/main/515_funciones_lambda.ipynb\" target=\"_parent\"><img src=\"https://colab.research.google.com/assets/colab-badge.svg\" alt=\"Open In Colab\"/></a>"
      ]
    },
    {
      "cell_type": "markdown",
      "source": [
        "# Funciones Lambda\n",
        "1. También conocidas como **funciones anónimas** porque se definen sin un nombre\n",
        "2. No se usa ```def``` se usa ```lambda```\n",
        "3. Sintaxis ```lambda parámetros: expresión```\n",
        "    1. Parámetros: se admiten múltiples parámetros\n",
        "    2. Expresión:\n",
        "        - se admite una única expresión\n",
        "        - la expresión es evaluada y devuelta\n",
        "4. Se suelen usar en combinación con otras funciones, como argumento de otra función"
      ],
      "metadata": {
        "id": "a9DqsmcAs809"
      }
    },
    {
      "cell_type": "markdown",
      "source": [
        "### Ejemplo 1: suma"
      ],
      "metadata": {
        "id": "9V2KZ3mwvibH"
      }
    },
    {
      "cell_type": "markdown",
      "source": [
        "Función clásica:"
      ],
      "metadata": {
        "id": "MHKJRdNDwKZH"
      }
    },
    {
      "cell_type": "code",
      "source": [
        "def add(n1, n2):\n",
        "    return n1 + n2\n",
        "\n",
        "print(add(2, 3))"
      ],
      "metadata": {
        "colab": {
          "base_uri": "https://localhost:8080/"
        },
        "id": "Y4KcVDsftHra",
        "outputId": "0a79b854-bc46-41cc-a63d-c3b618d0943f"
      },
      "execution_count": 2,
      "outputs": [
        {
          "output_type": "stream",
          "name": "stdout",
          "text": [
            "5\n"
          ]
        }
      ]
    },
    {
      "cell_type": "markdown",
      "source": [
        "Función Lambda:"
      ],
      "metadata": {
        "id": "kpGXYBs8wODk"
      }
    },
    {
      "cell_type": "code",
      "source": [
        "add = lambda n1, n2: n1 + n2\n",
        "\n",
        "print(add(2, 3))"
      ],
      "metadata": {
        "colab": {
          "base_uri": "https://localhost:8080/"
        },
        "id": "2JC4grAotYbg",
        "outputId": "4140c455-fa50-4bf7-dab1-7f8ca1444ad4"
      },
      "execution_count": 4,
      "outputs": [
        {
          "output_type": "stream",
          "name": "stdout",
          "text": [
            "5\n"
          ]
        }
      ]
    },
    {
      "cell_type": "markdown",
      "source": [
        "### Ejemplo 2: elevar al cuadrado"
      ],
      "metadata": {
        "id": "jmNpSxygvouG"
      }
    },
    {
      "cell_type": "markdown",
      "source": [
        "Función clásica:"
      ],
      "metadata": {
        "id": "SCtjgeYKwUxP"
      }
    },
    {
      "cell_type": "code",
      "source": [
        "def cuadrado(x):\n",
        "    resultado = x ** 2\n",
        "    return resultado\n",
        "\n",
        "print(cuadrado(3))"
      ],
      "metadata": {
        "colab": {
          "base_uri": "https://localhost:8080/"
        },
        "id": "SEdJW5KDvssW",
        "outputId": "98f47e1e-dc83-4906-b70d-ce33e4d8a68f"
      },
      "execution_count": 7,
      "outputs": [
        {
          "output_type": "stream",
          "name": "stdout",
          "text": [
            "9\n"
          ]
        }
      ]
    },
    {
      "cell_type": "markdown",
      "source": [
        "Función Lambda:"
      ],
      "metadata": {
        "id": "iNSDGIYuwSZg"
      }
    },
    {
      "cell_type": "code",
      "source": [
        "cuadrado = lambda x: x**2\n",
        "\n",
        "print(cuadrado(3))"
      ],
      "metadata": {
        "colab": {
          "base_uri": "https://localhost:8080/"
        },
        "id": "-QV9PlVmv18Y",
        "outputId": "ddb96e9d-33d3-440c-8de3-e02bd8b3106d"
      },
      "execution_count": 8,
      "outputs": [
        {
          "output_type": "stream",
          "name": "stdout",
          "text": [
            "9\n"
          ]
        }
      ]
    },
    {
      "cell_type": "markdown",
      "source": [
        "### Ejemplo 3: revertir una cadena"
      ],
      "metadata": {
        "id": "8hLTkjQCwiZ-"
      }
    },
    {
      "cell_type": "markdown",
      "source": [
        "Función clásica:"
      ],
      "metadata": {
        "id": "BtSSa1SjwiZ-"
      }
    },
    {
      "cell_type": "code",
      "source": [
        "def reverso(palabra):\n",
        "    return palabra[::-1]\n",
        "\n",
        "print(reverso(\"sogima\"))"
      ],
      "metadata": {
        "colab": {
          "base_uri": "https://localhost:8080/"
        },
        "outputId": "324f02cc-78c6-42b7-f49f-3cf05a5d2cb1",
        "id": "ZkakxEiqwiZ-"
      },
      "execution_count": 17,
      "outputs": [
        {
          "output_type": "stream",
          "name": "stdout",
          "text": [
            "amigos\n"
          ]
        }
      ]
    },
    {
      "cell_type": "markdown",
      "source": [
        "Función Lambda:"
      ],
      "metadata": {
        "id": "ePyQ8Uy_wiZ-"
      }
    },
    {
      "cell_type": "code",
      "source": [
        "reverso = lambda palabra: palabra[::-1]\n",
        "\n",
        "print(reverso(\"sogima\"))"
      ],
      "metadata": {
        "colab": {
          "base_uri": "https://localhost:8080/"
        },
        "outputId": "bc2ce1a9-d03a-4795-b777-e00a3bdb776c",
        "id": "RMbuLEh9wiZ-"
      },
      "execution_count": 18,
      "outputs": [
        {
          "output_type": "stream",
          "name": "stdout",
          "text": [
            "amigos\n"
          ]
        }
      ]
    },
    {
      "cell_type": "markdown",
      "source": [
        "### Ejemplo 4: detectar si un número es impar"
      ],
      "metadata": {
        "id": "fG_dK-gXxvxT"
      }
    },
    {
      "cell_type": "markdown",
      "source": [
        "Función clásica:"
      ],
      "metadata": {
        "id": "9TM-vutnxvxU"
      }
    },
    {
      "cell_type": "code",
      "source": [
        "def impar(n):\n",
        "    return bool(n % 2)\n",
        "\n",
        "print(impar(3))"
      ],
      "metadata": {
        "colab": {
          "base_uri": "https://localhost:8080/"
        },
        "outputId": "eb540513-4aad-4786-cb10-79d16cd90ba3",
        "id": "0aEwhrFbxvxU"
      },
      "execution_count": null,
      "outputs": [
        {
          "output_type": "stream",
          "name": "stdout",
          "text": [
            "True\n"
          ]
        }
      ]
    },
    {
      "cell_type": "markdown",
      "source": [
        "Función Lambda:"
      ],
      "metadata": {
        "id": "h-DcfCx0xvxU"
      }
    },
    {
      "cell_type": "code",
      "source": [
        "impar = lambda x: bool(x % 2)\n",
        "\n",
        "print(impar(3))"
      ],
      "metadata": {
        "colab": {
          "base_uri": "https://localhost:8080/"
        },
        "outputId": "21019461-b1b2-48b7-90e6-e78d1e2becc9",
        "id": "MtxbonPbxvxU"
      },
      "execution_count": null,
      "outputs": [
        {
          "output_type": "stream",
          "name": "stdout",
          "text": [
            "True\n"
          ]
        }
      ]
    },
    {
      "cell_type": "markdown",
      "source": [
        "### Ejemplo 5: área de un triángulo\n",
        "Usando dos parámetros."
      ],
      "metadata": {
        "id": "3C4Yl7alyWeF"
      }
    },
    {
      "cell_type": "markdown",
      "source": [
        "Función clásica:"
      ],
      "metadata": {
        "id": "ci4ewmlsyWeG"
      }
    },
    {
      "cell_type": "code",
      "source": [
        "def area(base, altura):\n",
        "    return base * altura / 2\n",
        "\n",
        "print(area(12, 10))"
      ],
      "metadata": {
        "colab": {
          "base_uri": "https://localhost:8080/"
        },
        "outputId": "9174510c-a140-48c5-c67d-377cbac26c1d",
        "id": "cB-sjSL_yWeG"
      },
      "execution_count": 19,
      "outputs": [
        {
          "output_type": "stream",
          "name": "stdout",
          "text": [
            "60.0\n"
          ]
        }
      ]
    },
    {
      "cell_type": "markdown",
      "source": [
        "Función Lambda:"
      ],
      "metadata": {
        "id": "kHvzd9sByWeG"
      }
    },
    {
      "cell_type": "code",
      "source": [
        "area = lambda base, altura: base * altura / 2\n",
        "\n",
        "print(area(12, 10))"
      ],
      "metadata": {
        "colab": {
          "base_uri": "https://localhost:8080/"
        },
        "outputId": "66489263-0667-4179-e0d2-182557c147e8",
        "id": "J8W7VKgryWeG"
      },
      "execution_count": 20,
      "outputs": [
        {
          "output_type": "stream",
          "name": "stdout",
          "text": [
            "60.0\n"
          ]
        }
      ]
    },
    {
      "cell_type": "markdown",
      "source": [
        "## Funciones ```lambda``` usadas junto a otras funciones\n",
        "### Uso de ```lambda``` con ```map()```\n",
        "* La función ```map()``` aplica una función a cada uno de los elementos de una lista.\n",
        "* Sintaxis:  map(función, lista)\n",
        "* Ejemplo: dada una lista de números obtener otra lista con sus cuadrados"
      ],
      "metadata": {
        "id": "j619PIEutkat"
      }
    },
    {
      "cell_type": "markdown",
      "source": [
        "#### Método largo sin `map()`"
      ],
      "metadata": {
        "id": "xP02g5SUvIBW"
      }
    },
    {
      "cell_type": "code",
      "source": [
        "l = list(range(1,10))               # lista con los números del 1 al 9\n",
        "c = []                              # lista con los cuadrados\n",
        "\n",
        "for i in l:\n",
        "    c.append(i**2)\n",
        "\n",
        "print(c)"
      ],
      "metadata": {
        "colab": {
          "base_uri": "https://localhost:8080/"
        },
        "id": "kYh29ULvulC3",
        "outputId": "911b0bbf-c599-42e5-8747-64a98c274a0a"
      },
      "execution_count": null,
      "outputs": [
        {
          "output_type": "stream",
          "name": "stdout",
          "text": [
            "[1, 4, 9, 16, 25, 36, 49, 64, 81]\n"
          ]
        }
      ]
    },
    {
      "cell_type": "markdown",
      "source": [
        "#### Método largo con `map()`\n",
        "* La sintaxis de `map`es:\n",
        "  - `map(función, iter)`\n",
        "  - Lo que hace `map` es pasar por la función cada uno de los elementos de ìter` que es un iterable, por ejemplo una lista, tupla, diccionario, range.\n",
        "  - Los objetos iterables son aquellos que podemos recorrer usando un ciclo, entre ellos, las cadenas de texto o estructuras de datos como las listas, las tuplas o los diccionarios\n",
        "* Para imprimir el objeto `map` es necesario anteponer `print`."
      ],
      "metadata": {
        "id": "M0szncem5-5b"
      }
    },
    {
      "cell_type": "code",
      "source": [
        "def cuadrado(n):\n",
        "    return n**2\n",
        "\n",
        "list(map(cuadrado, range(1,10)))"
      ],
      "metadata": {
        "id": "zq9wTYeF4yCx",
        "outputId": "6af72a3b-56d8-4060-fa2d-6f4b01f2e639",
        "colab": {
          "base_uri": "https://localhost:8080/"
        }
      },
      "execution_count": null,
      "outputs": [
        {
          "output_type": "execute_result",
          "data": {
            "text/plain": [
              "[1, 4, 9, 16, 25, 36, 49, 64, 81]"
            ]
          },
          "metadata": {},
          "execution_count": 5
        }
      ]
    },
    {
      "cell_type": "markdown",
      "source": [
        "#### Método con función ```lambda```"
      ],
      "metadata": {
        "id": "IatYgmE8vMmc"
      }
    },
    {
      "cell_type": "code",
      "source": [
        "l = list(range(1,10))               # lista con los números del 1 al 9\n",
        "\n",
        "c = list(map(lambda x : x**2, l))   # lista con los cuadrados\n",
        "\n",
        "print(c)"
      ],
      "metadata": {
        "colab": {
          "base_uri": "https://localhost:8080/"
        },
        "id": "UhKG1RtsvQQ0",
        "outputId": "42b2ef72-5ca9-483a-86ad-90eb94e50d67"
      },
      "execution_count": null,
      "outputs": [
        {
          "output_type": "stream",
          "name": "stdout",
          "text": [
            "[1, 4, 9, 16, 25, 36, 49, 64, 81]\n"
          ]
        }
      ]
    },
    {
      "cell_type": "markdown",
      "source": [
        "### Uso de ```lambda``` con ```filter```\n",
        "* La función `filter()` filtra una lista de elementos para los que una función devuelve `True`\n",
        "* Sintaxis:  `filter(función, lista)`\n",
        "* Ejemplo: dada una lista de números filtrarla para obtener una lista con los pares"
      ],
      "metadata": {
        "id": "c_9EfoTitzk2"
      }
    },
    {
      "cell_type": "markdown",
      "source": [
        "#### Método largo"
      ],
      "metadata": {
        "id": "0fwg8o36xESY"
      }
    },
    {
      "cell_type": "code",
      "source": [
        "valores = [1, 2, 3, 4, 5, 6, 7, 8, 9]\n",
        "pares = []\n",
        "\n",
        "for valor in valores:\n",
        "    if valor%2 == 0:\n",
        "        pares.append(valor)\n",
        "\n",
        "print(pares)"
      ],
      "metadata": {
        "colab": {
          "base_uri": "https://localhost:8080/"
        },
        "id": "lcYH_z6CxFhu",
        "outputId": "b897b836-1e9a-4c35-cc02-5d0c8fcb193d"
      },
      "execution_count": null,
      "outputs": [
        {
          "output_type": "stream",
          "name": "stdout",
          "text": [
            "[2, 4, 6, 8]\n"
          ]
        }
      ]
    },
    {
      "cell_type": "markdown",
      "source": [
        "#### Método con función ```lambda```"
      ],
      "metadata": {
        "id": "7XxwOCouxT-a"
      }
    },
    {
      "cell_type": "code",
      "source": [
        "valores = [1, 2, 3, 4, 5, 6, 7, 8, 9]\n",
        "\n",
        "pares = list(filter(lambda x : x%2==0, valores))\n",
        "\n",
        "print(pares)"
      ],
      "metadata": {
        "colab": {
          "base_uri": "https://localhost:8080/"
        },
        "id": "Hd2R5aADxZ6X",
        "outputId": "b60fe3b0-7e04-4c3d-df7f-ce826174467c"
      },
      "execution_count": null,
      "outputs": [
        {
          "output_type": "stream",
          "name": "stdout",
          "text": [
            "[2, 4, 6, 8]\n"
          ]
        }
      ]
    },
    {
      "cell_type": "markdown",
      "source": [
        "### Uso de ```lambda``` con ```reduce```\n",
        "* Permite un cálculo acumulado de una lista de valores\n",
        "* Ejemplo: sumar los números del 1 al 100"
      ],
      "metadata": {
        "id": "T1FbfZQzt8Y1"
      }
    },
    {
      "cell_type": "markdown",
      "source": [
        "#### Método largo"
      ],
      "metadata": {
        "id": "yfT_-IFYym0l"
      }
    },
    {
      "cell_type": "code",
      "source": [
        "numeros = list(range(1,101))\n",
        "suma = 0\n",
        "\n",
        "for i in numeros:\n",
        "    suma += i\n",
        "\n",
        "print(suma)"
      ],
      "metadata": {
        "colab": {
          "base_uri": "https://localhost:8080/"
        },
        "id": "guopjobuyn-2",
        "outputId": "79bd765a-b9fa-425d-c566-9c6d5118fa70"
      },
      "execution_count": null,
      "outputs": [
        {
          "output_type": "stream",
          "name": "stdout",
          "text": [
            "5050\n"
          ]
        }
      ]
    },
    {
      "cell_type": "markdown",
      "source": [
        "#### Método con función ```lambda```\n",
        "<img src=\"https://github.com/financieras/pyCourse/blob/main/jupyter/img/reduce.png?raw=1\" alt=\"Cómo funciona la función reduce\" width=\"400\">\n",
        "\n",
        "* Se va realizado la suma acumulativa\n",
        "* (((((1 + 2) + 3) + 4) + 5) + 6) + 7 = 28"
      ],
      "metadata": {
        "id": "HoRZ0ejny9qz"
      }
    },
    {
      "cell_type": "code",
      "source": [
        "from functools import reduce          # la función reduce pertenece a la librería functools\n",
        "numeros = list(range(1,101))\n",
        "\n",
        "suma = reduce(lambda x, y:x+y, numeros)\n",
        "\n",
        "print(suma)"
      ],
      "metadata": {
        "colab": {
          "base_uri": "https://localhost:8080/"
        },
        "id": "rEUrwu2ozBMZ",
        "outputId": "cea12950-cf05-453d-c7b3-7904206ffba1"
      },
      "execution_count": null,
      "outputs": [
        {
          "output_type": "stream",
          "name": "stdout",
          "text": [
            "5050\n"
          ]
        }
      ]
    }
  ]
}