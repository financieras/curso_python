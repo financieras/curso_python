{
  "nbformat": 4,
  "nbformat_minor": 0,
  "metadata": {
    "colab": {
      "provenance": [],
      "authorship_tag": "ABX9TyPups5Q2sY70WUHJqxKsbfK",
      "include_colab_link": true
    },
    "kernelspec": {
      "name": "python3",
      "display_name": "Python 3"
    },
    "language_info": {
      "name": "python"
    }
  },
  "cells": [
    {
      "cell_type": "markdown",
      "metadata": {
        "id": "view-in-github",
        "colab_type": "text"
      },
      "source": [
        "<a href=\"https://colab.research.google.com/github/financieras/curso_python/blob/main/025_operaciones_aritmeticas.ipynb\" target=\"_parent\"><img src=\"https://colab.research.google.com/assets/colab-badge.svg\" alt=\"Open In Colab\"/></a>"
      ]
    },
    {
      "cell_type": "markdown",
      "source": [
        "# Operaciones aritméticas\n",
        "\\+   &nbsp;&nbsp;&nbsp;&nbsp;&nbsp; Suma, también concatena  \n",
        "\\-   &nbsp;&nbsp;&nbsp;&nbsp;&nbsp;&nbsp; Resta  \n",
        "\\*   &nbsp;&nbsp;&nbsp;&nbsp;&nbsp;&nbsp; Producto  \n",
        "**   &nbsp;&nbsp;&nbsp;&nbsp;&nbsp; Potencias, elevar, también con una librería matemática  \n",
        "/    &nbsp;&nbsp;&nbsp;&nbsp;&nbsp;&nbsp; Dividir. Siempre da como resultado un número de coma flotante  \n",
        "//   &nbsp;&nbsp;&nbsp;&nbsp;&nbsp; División entera  \n",
        "%    &nbsp;&nbsp;&nbsp;&nbsp; Resto, Residuo, Módulo\n"
      ],
      "metadata": {
        "id": "84NbsD-ql3ax"
      }
    },
    {
      "cell_type": "code",
      "source": [
        "2 + 3           # suma"
      ],
      "metadata": {
        "id": "d5U1pxtJl-7e",
        "outputId": "ad1fabcf-5a91-4972-8ecd-02ab657f2e62",
        "colab": {
          "base_uri": "https://localhost:8080/"
        }
      },
      "execution_count": null,
      "outputs": [
        {
          "output_type": "execute_result",
          "data": {
            "text/plain": [
              "5"
            ]
          },
          "metadata": {},
          "execution_count": 43
        }
      ]
    },
    {
      "cell_type": "code",
      "source": [
        "2 - 10          # resta"
      ],
      "metadata": {
        "id": "aR7klY5XmXiq",
        "outputId": "6fd7d486-b45c-427e-d44b-384e28911bb5",
        "colab": {
          "base_uri": "https://localhost:8080/"
        }
      },
      "execution_count": null,
      "outputs": [
        {
          "output_type": "execute_result",
          "data": {
            "text/plain": [
              "-8"
            ]
          },
          "metadata": {},
          "execution_count": 44
        }
      ]
    },
    {
      "cell_type": "code",
      "source": [
        "2 * -15         # producto"
      ],
      "metadata": {
        "id": "f7TOqO2mmgo-",
        "outputId": "405ea765-1294-4712-acaa-bc737a8bde3d",
        "colab": {
          "base_uri": "https://localhost:8080/"
        }
      },
      "execution_count": null,
      "outputs": [
        {
          "output_type": "execute_result",
          "data": {
            "text/plain": [
              "-30"
            ]
          },
          "metadata": {},
          "execution_count": 45
        }
      ]
    },
    {
      "cell_type": "code",
      "source": [
        "18 / 5          # división"
      ],
      "metadata": {
        "id": "_z3B6px5mp3T",
        "outputId": "18ca5fb6-c005-40e0-8002-1d142533039b",
        "colab": {
          "base_uri": "https://localhost:8080/"
        }
      },
      "execution_count": null,
      "outputs": [
        {
          "output_type": "execute_result",
          "data": {
            "text/plain": [
              "3.6"
            ]
          },
          "metadata": {},
          "execution_count": 46
        }
      ]
    },
    {
      "cell_type": "code",
      "source": [
        "10 / 2          # división, siempre da un float"
      ],
      "metadata": {
        "id": "QGjXAtknm6EG",
        "outputId": "5de34938-d9b2-49fa-9098-38442840d6cf",
        "colab": {
          "base_uri": "https://localhost:8080/"
        }
      },
      "execution_count": null,
      "outputs": [
        {
          "output_type": "execute_result",
          "data": {
            "text/plain": [
              "5.0"
            ]
          },
          "metadata": {},
          "execution_count": 47
        }
      ]
    },
    {
      "cell_type": "code",
      "source": [
        "18 // 5         # división entera, no redondea, trunca decimales"
      ],
      "metadata": {
        "id": "00G2Z14ZnAY7",
        "outputId": "1c3ef8e4-bee1-444b-e8e9-0abb00170975",
        "colab": {
          "base_uri": "https://localhost:8080/"
        }
      },
      "execution_count": null,
      "outputs": [
        {
          "output_type": "execute_result",
          "data": {
            "text/plain": [
              "3"
            ]
          },
          "metadata": {},
          "execution_count": 48
        }
      ]
    },
    {
      "cell_type": "code",
      "source": [
        "18 % 5          # resto, resíduo o módulo"
      ],
      "metadata": {
        "id": "GA2_kQKwnJzA",
        "outputId": "54e3613c-1e32-4f00-d831-6309b7d0c318",
        "colab": {
          "base_uri": "https://localhost:8080/"
        }
      },
      "execution_count": null,
      "outputs": [
        {
          "output_type": "execute_result",
          "data": {
            "text/plain": [
              "3"
            ]
          },
          "metadata": {},
          "execution_count": 49
        }
      ]
    },
    {
      "cell_type": "code",
      "source": [
        "2 ** 3          # potencias, 2^3 = 2*2*2 = 8. Dos elevado al cubo es ocho"
      ],
      "metadata": {
        "id": "9CSdOQI6nQXt",
        "outputId": "22159023-65c0-4c2d-e7ee-96f3c66cc4e8",
        "colab": {
          "base_uri": "https://localhost:8080/"
        }
      },
      "execution_count": null,
      "outputs": [
        {
          "output_type": "execute_result",
          "data": {
            "text/plain": [
              "8"
            ]
          },
          "metadata": {},
          "execution_count": 50
        }
      ]
    },
    {
      "cell_type": "code",
      "source": [
        "9 ** .5         # raíz cuadrada"
      ],
      "metadata": {
        "id": "6T6KITO2JKk6",
        "outputId": "08ae0d0d-a660-42f3-f3c3-7800b60d292a",
        "colab": {
          "base_uri": "https://localhost:8080/"
        }
      },
      "execution_count": null,
      "outputs": [
        {
          "output_type": "execute_result",
          "data": {
            "text/plain": [
              "3.0"
            ]
          },
          "metadata": {},
          "execution_count": 68
        }
      ]
    },
    {
      "cell_type": "markdown",
      "source": [
        "## Prioridad de las operaciones\n",
        "En matemáticas se debe empezar resolviendo los paréntesis; luego, van los exponentes; después, las multiplicaciones y divisiones; y por último, las sumas y restas.\n",
        "\n",
        "De mayor a menor prioridad:\n",
        "1. Potencias: `**`\n",
        "2. Multiplicaciones, divisiones y resto: `*`, `/` y `%`\n",
        "3. Sumas y restas: `+` y `-`\n",
        "\n",
        "Pero siempre podemos utilizar paréntesis para determinar el orden en el que queremos que se apliquen los operadores."
      ],
      "metadata": {
        "id": "m1F5Qm5moH7P"
      }
    },
    {
      "cell_type": "code",
      "source": [
        "2 + 3 * 5"
      ],
      "metadata": {
        "id": "yLdiSUOHpqyH",
        "outputId": "f2e73915-817d-4618-87ad-7d4d01c74b2b",
        "colab": {
          "base_uri": "https://localhost:8080/"
        }
      },
      "execution_count": null,
      "outputs": [
        {
          "output_type": "execute_result",
          "data": {
            "text/plain": [
              "17"
            ]
          },
          "metadata": {},
          "execution_count": 51
        }
      ]
    },
    {
      "cell_type": "code",
      "source": [
        "1+((10+5*3)*2)/10"
      ],
      "metadata": {
        "id": "CYJbbcquJcZB",
        "outputId": "4e5a89b0-29ce-422b-def5-023ba6765998",
        "colab": {
          "base_uri": "https://localhost:8080/"
        }
      },
      "execution_count": null,
      "outputs": [
        {
          "output_type": "execute_result",
          "data": {
            "text/plain": [
              "6.0"
            ]
          },
          "metadata": {},
          "execution_count": 69
        }
      ]
    },
    {
      "cell_type": "code",
      "source": [
        "(2 + 3) * 5"
      ],
      "metadata": {
        "id": "f8UxRMErp0TB",
        "outputId": "73093306-1bff-4135-e612-1e5453fd7aa5",
        "colab": {
          "base_uri": "https://localhost:8080/"
        }
      },
      "execution_count": null,
      "outputs": [
        {
          "output_type": "execute_result",
          "data": {
            "text/plain": [
              "25"
            ]
          },
          "metadata": {},
          "execution_count": 52
        }
      ]
    },
    {
      "cell_type": "markdown",
      "source": [
        "### Redondear\n",
        "Usando la función `round`"
      ],
      "metadata": {
        "id": "ReUHbkyxt7R4"
      }
    },
    {
      "cell_type": "code",
      "source": [
        "p = 69\n",
        "q = 7\n",
        "\n",
        "resultado = p / q\n",
        "print(\"Resultado:\", resultado)\n",
        "\n",
        "redondeado0 = round(resultado)    # redondeando a cero decimales\n",
        "print(\"Redondeando a cero decimales:\", redondeado0)"
      ],
      "metadata": {
        "id": "8Tn27mO9s12Q",
        "outputId": "36b8c61c-644f-4c50-9895-89fadcdc086a",
        "colab": {
          "base_uri": "https://localhost:8080/"
        }
      },
      "execution_count": null,
      "outputs": [
        {
          "output_type": "stream",
          "name": "stdout",
          "text": [
            "Resultado: 9.857142857142858\n",
            "Redondeando a cero decimales: 10\n"
          ]
        }
      ]
    },
    {
      "cell_type": "code",
      "source": [
        "redondeado2 = round(resultado, 2)   # redondeando a 2 decimales\n",
        "print(\"Redondeando a dos decimales:\", redondeado2)"
      ],
      "metadata": {
        "id": "Xmloazdktr7T",
        "outputId": "ff6d9aa8-9d14-4012-a4e0-bf67824cadfb",
        "colab": {
          "base_uri": "https://localhost:8080/"
        }
      },
      "execution_count": null,
      "outputs": [
        {
          "output_type": "stream",
          "name": "stdout",
          "text": [
            "Redondeando a dos decimales: 9.86\n"
          ]
        }
      ]
    },
    {
      "cell_type": "markdown",
      "source": [
        "### Maquetando decimales al imprimir\n",
        "* Podemos imprimir un resultado numérico `float` mostrando un cierto número de decimales\n",
        "* Al imprimir también redondea"
      ],
      "metadata": {
        "id": "AmopsX2W9h-F"
      }
    },
    {
      "cell_type": "code",
      "source": [
        "print(f\"Mostrando dos decimales: {resultado:.2f}\")   # maquetando texto"
      ],
      "metadata": {
        "id": "X2uSRz_W88ru",
        "outputId": "225cf684-51b9-4794-800d-e05fbd6892f7",
        "colab": {
          "base_uri": "https://localhost:8080/"
        }
      },
      "execution_count": null,
      "outputs": [
        {
          "output_type": "stream",
          "name": "stdout",
          "text": [
            "Mostrando dos decimales: 9.86\n"
          ]
        }
      ]
    },
    {
      "cell_type": "markdown",
      "source": [
        "## Contador\n",
        "1. Una variable actúa como contador cuando nos permite ir sumando 1 u otra cifra.\n",
        "2. La cifra que sumamos no siempre ha de ser 1, podríamos ir sumando de 5 en 5, por ejemplo\n",
        "3. En lugar de sumar también podríamos ir restando y el contador sería descendente"
      ],
      "metadata": {
        "id": "MR-_l4Ic8IKT"
      }
    },
    {
      "cell_type": "code",
      "source": [
        "vidas = vidas + 1\n",
        "print(vidas)\n",
        "\n",
        "vidas += 1              # forma abreviada de sumar 1 a la variable. Se usa mucho\n",
        "print(vidas)"
      ],
      "metadata": {
        "id": "rqgEP4OX7D57",
        "outputId": "b5a5edcc-2e1d-42f9-f024-c795babf70e1",
        "colab": {
          "base_uri": "https://localhost:8080/"
        }
      },
      "execution_count": null,
      "outputs": [
        {
          "output_type": "stream",
          "name": "stdout",
          "text": [
            "9\n",
            "10\n"
          ]
        }
      ]
    },
    {
      "cell_type": "code",
      "source": [
        "vidas += 5              # aquí sumamos 5 a la variable\n",
        "print(vidas)\n",
        "\n",
        "vidas -= 5              # ahora restamos 5 a la variable\n",
        "print(vidas)"
      ],
      "metadata": {
        "id": "ptE7K3iv7Nt6",
        "outputId": "8b7142af-c7a1-483f-d63e-c3d95424c892",
        "colab": {
          "base_uri": "https://localhost:8080/"
        }
      },
      "execution_count": null,
      "outputs": [
        {
          "output_type": "stream",
          "name": "stdout",
          "text": [
            "15\n",
            "10\n"
          ]
        }
      ]
    }
  ]
}