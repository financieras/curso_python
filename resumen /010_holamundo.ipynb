{
  "nbformat": 4,
  "nbformat_minor": 0,
  "metadata": {
    "colab": {
      "provenance": [],
      "authorship_tag": "ABX9TyO7dXg9omXMyM9xHf01Z5c1",
      "include_colab_link": true
    },
    "kernelspec": {
      "name": "python3",
      "display_name": "Python 3"
    },
    "language_info": {
      "name": "python"
    }
  },
  "cells": [
    {
      "cell_type": "markdown",
      "metadata": {
        "id": "view-in-github",
        "colab_type": "text"
      },
      "source": [
        "<a href=\"https://colab.research.google.com/github/financieras/curso_python/blob/main/resumen%20/010_holamundo.ipynb\" target=\"_parent\"><img src=\"https://colab.research.google.com/assets/colab-badge.svg\" alt=\"Open In Colab\"/></a>"
      ]
    },
    {
      "cell_type": "markdown",
      "source": [
        "# Hola mundo"
      ],
      "metadata": {
        "id": "SNTHfP-NelaS"
      }
    },
    {
      "cell_type": "code",
      "execution_count": 1,
      "metadata": {
        "colab": {
          "base_uri": "https://localhost:8080/"
        },
        "id": "7xsVynfiehVn",
        "outputId": "1024df49-01bf-46ee-d069-ea7a7db51ade"
      },
      "outputs": [
        {
          "output_type": "stream",
          "name": "stdout",
          "text": [
            "Hola mundo\n"
          ]
        }
      ],
      "source": [
        "print(\"Hola mundo\")"
      ]
    },
    {
      "cell_type": "markdown",
      "source": [
        "## Comentarios del programador"
      ],
      "metadata": {
        "id": "8AZRFw8HezD-"
      }
    },
    {
      "cell_type": "code",
      "source": [
        "# Esto es un comentario\n",
        "print('Hello World')     # usando comillas simples"
      ],
      "metadata": {
        "colab": {
          "base_uri": "https://localhost:8080/"
        },
        "id": "wz4Fdh9Zet-v",
        "outputId": "3ac7e02c-aac7-4b7f-de7e-23620f7397b6"
      },
      "execution_count": 21,
      "outputs": [
        {
          "output_type": "stream",
          "name": "stdout",
          "text": [
            "Hello World\n"
          ]
        }
      ]
    },
    {
      "cell_type": "markdown",
      "source": [
        "### Comentario de varias líneas\n",
        "Va entre 3 comillas al inicio y 3 comillas al final que pueden ser simples o dobles"
      ],
      "metadata": {
        "id": "I9FNg4P4foG0"
      }
    },
    {
      "cell_type": "code",
      "source": [
        "'''Se puede escribir un print\n",
        "con varios elementos separados\n",
        "por comas'''\n",
        "\n",
        "print(\"Hola\", \"mundo\", \"del siglo\", 21)"
      ],
      "metadata": {
        "colab": {
          "base_uri": "https://localhost:8080/"
        },
        "id": "Nq9z5ZuufHUQ",
        "outputId": "834fcadb-21cb-4da8-ad25-7b24fd492a98"
      },
      "execution_count": 4,
      "outputs": [
        {
          "output_type": "stream",
          "name": "stdout",
          "text": [
            "Hola mundo del siglo 21\n"
          ]
        }
      ]
    },
    {
      "cell_type": "markdown",
      "source": [
        "# Variables y tipo de datos\n",
        "1. Una variable es un espacio en memoria que recoge un dato.\n",
        "2. Las variables tienen un nombre que:\n",
        " - no puede llevar espacios\n",
        " - no puede llevar simbolos (ñ, á, ç, @)\n",
        " - si puede llevar barra baja (`_`)\n",
        " - si puede llevar números pero no al inicio\n",
        " - no puede llevar palabras reservadas (class, def, if, import, in, is, ...)"
      ],
      "metadata": {
        "id": "ElPwX54tg3IK"
      }
    },
    {
      "cell_type": "markdown",
      "source": [
        "## Enteros `int`\n",
        "* Los enteros son números sin decimales como 5, 0, -7\n",
        "* La abreviatura `int` viene de *integer*"
      ],
      "metadata": {
        "id": "Ep0efS94jOFj"
      }
    },
    {
      "cell_type": "code",
      "source": [
        "x = 5       # int, 5 es un número entero"
      ],
      "metadata": {
        "id": "3twOlMLJg6F8"
      },
      "execution_count": 5,
      "outputs": []
    },
    {
      "cell_type": "code",
      "source": [
        "print(x)    # print es una función que imprime mi variable x"
      ],
      "metadata": {
        "colab": {
          "base_uri": "https://localhost:8080/"
        },
        "id": "8eACAl6vhVIG",
        "outputId": "3c89278f-e318-488e-8cea-cae6f673a25f"
      },
      "execution_count": 7,
      "outputs": [
        {
          "output_type": "stream",
          "name": "stdout",
          "text": [
            "5\n"
          ]
        }
      ]
    },
    {
      "cell_type": "code",
      "source": [
        "type(x)     # type es otra función que me da el tipo"
      ],
      "metadata": {
        "colab": {
          "base_uri": "https://localhost:8080/"
        },
        "id": "Tsp53Tz_hPBH",
        "outputId": "55cc2cef-c3f4-4dc8-828e-f1c9f2237028"
      },
      "execution_count": 6,
      "outputs": [
        {
          "output_type": "execute_result",
          "data": {
            "text/plain": [
              "int"
            ]
          },
          "metadata": {},
          "execution_count": 6
        }
      ]
    },
    {
      "cell_type": "markdown",
      "source": [
        "## Flotantes `float`\n",
        "* Son números con decimales.\n",
        "* El tipo `float` hace referencia a que son [números de coma flotante](https://docs.python.org/es/3/tutorial/floatingpoint.html)"
      ],
      "metadata": {
        "id": "RacP3pWtjTrY"
      }
    },
    {
      "cell_type": "code",
      "source": [
        "temperatura = 21.8      # usan el punto para separar los decimales\n",
        "print(\"Estamos a\", temperatura, \"grados\")\n",
        "type(temperatura)"
      ],
      "metadata": {
        "colab": {
          "base_uri": "https://localhost:8080/"
        },
        "id": "sDPcv914jbc3",
        "outputId": "3adf5b42-7610-44c4-e6a5-985edf2042e4"
      },
      "execution_count": 9,
      "outputs": [
        {
          "output_type": "stream",
          "name": "stdout",
          "text": [
            "Estamos a 21.8 grados\n"
          ]
        },
        {
          "output_type": "execute_result",
          "data": {
            "text/plain": [
              "float"
            ]
          },
          "metadata": {},
          "execution_count": 9
        }
      ]
    },
    {
      "cell_type": "markdown",
      "source": [
        "## Cadenas `str`\n",
        "* Las cadenas alfanuméricas van entre comillas simples o dobles.\n",
        "* El tipo `str` es la abreviatura de *string*"
      ],
      "metadata": {
        "id": "fVbSaLXfkDtq"
      }
    },
    {
      "cell_type": "code",
      "source": [
        "ciudad = \"Londres\"      # string\n",
        "print(\"Este verano quiero ir a\", ciudad)\n",
        "type(ciudad)"
      ],
      "metadata": {
        "colab": {
          "base_uri": "https://localhost:8080/"
        },
        "id": "TbQdOklOkR5A",
        "outputId": "2be81f79-f297-4b4b-f1f0-40f3c19185eb"
      },
      "execution_count": 10,
      "outputs": [
        {
          "output_type": "stream",
          "name": "stdout",
          "text": [
            "Este verano quiero ir a Londres\n"
          ]
        },
        {
          "output_type": "execute_result",
          "data": {
            "text/plain": [
              "str"
            ]
          },
          "metadata": {},
          "execution_count": 10
        }
      ]
    },
    {
      "cell_type": "markdown",
      "source": [
        "## Booleanos `bool`\n",
        "* Son de dos tipos `True` o `False`\n",
        "* Se escribe la primera letra con mayúsculas"
      ],
      "metadata": {
        "id": "3aFYLO7QkxfI"
      }
    },
    {
      "cell_type": "code",
      "source": [
        "led_on = True\n",
        "print(\"¿El LED está encendido?\", led_on)\n",
        "type(led_on)"
      ],
      "metadata": {
        "colab": {
          "base_uri": "https://localhost:8080/"
        },
        "id": "U-3VQzSAlEjS",
        "outputId": "d19380ed-74de-45f4-97b2-12d399a82c66"
      },
      "execution_count": 28,
      "outputs": [
        {
          "output_type": "stream",
          "name": "stdout",
          "text": [
            "¿El LED está encendido? True\n"
          ]
        },
        {
          "output_type": "execute_result",
          "data": {
            "text/plain": [
              "bool"
            ]
          },
          "metadata": {},
          "execution_count": 28
        }
      ]
    },
    {
      "cell_type": "markdown",
      "source": [
        "## Listas `list`\n",
        "* Son una secuencia de datos separados por comas\n",
        "* Van entre corchetes `[ ]`\n",
        "* El orden importa"
      ],
      "metadata": {
        "id": "LOkkOjupmJzp"
      }
    },
    {
      "cell_type": "code",
      "source": [
        "my_list = [1, 2, 3]\n",
        "print(my_list)\n",
        "type(my_list)"
      ],
      "metadata": {
        "colab": {
          "base_uri": "https://localhost:8080/"
        },
        "id": "mesIMXgZma4M",
        "outputId": "6f2d731d-32ec-4dea-c462-c31f63ac2395"
      },
      "execution_count": 14,
      "outputs": [
        {
          "output_type": "stream",
          "name": "stdout",
          "text": [
            "[1, 2, 3]\n"
          ]
        },
        {
          "output_type": "execute_result",
          "data": {
            "text/plain": [
              "list"
            ]
          },
          "metadata": {},
          "execution_count": 14
        }
      ]
    },
    {
      "cell_type": "code",
      "source": [
        "print(type(my_list))    # función dentro de función"
      ],
      "metadata": {
        "colab": {
          "base_uri": "https://localhost:8080/"
        },
        "id": "hkMDfKiFyjue",
        "outputId": "d32f3147-8c18-4f92-84d1-87576066cd51"
      },
      "execution_count": 22,
      "outputs": [
        {
          "output_type": "stream",
          "name": "stdout",
          "text": [
            "<class 'list'>\n"
          ]
        }
      ]
    },
    {
      "cell_type": "markdown",
      "source": [
        "## Tuplas `tuple`\n",
        "* Los elementos van entre paréntesis `( )`\n",
        "* Son inmutables, se usan para datos que no cambian"
      ],
      "metadata": {
        "id": "td-wozqb6P1n"
      }
    },
    {
      "cell_type": "code",
      "source": [
        "vocales = ('a', 'e', 'i', 'o', 'u')\n",
        "print(vocales)\n",
        "print(type(vocales))"
      ],
      "metadata": {
        "colab": {
          "base_uri": "https://localhost:8080/"
        },
        "id": "LVBbnQAF6gp0",
        "outputId": "5194c9f3-4ac8-44f6-b453-6ff9f858b1e1"
      },
      "execution_count": 38,
      "outputs": [
        {
          "output_type": "stream",
          "name": "stdout",
          "text": [
            "('a', 'e', 'i', 'o', 'u')\n",
            "<class 'tuple'>\n"
          ]
        }
      ]
    },
    {
      "cell_type": "markdown",
      "source": [
        "# Strings"
      ],
      "metadata": {
        "id": "mngZa0hJnKAr"
      }
    },
    {
      "cell_type": "markdown",
      "source": [
        "## Python es case-sensitive\n",
        "* Python es un lenguaje de programación que distingue entre mayúsculas y minúsculas."
      ],
      "metadata": {
        "id": "JiLhmotPnRpH"
      }
    },
    {
      "cell_type": "code",
      "source": [
        "'Hola' == 'hola'   # False. El doble igual == compara, no confundir con solo uno"
      ],
      "metadata": {
        "colab": {
          "base_uri": "https://localhost:8080/"
        },
        "id": "UqMk3U6Yn0E6",
        "outputId": "0e170efc-58b9-46d9-9485-beb8b8a2caf9"
      },
      "execution_count": 15,
      "outputs": [
        {
          "output_type": "execute_result",
          "data": {
            "text/plain": [
              "False"
            ]
          },
          "metadata": {},
          "execution_count": 15
        }
      ]
    },
    {
      "cell_type": "markdown",
      "source": [
        "### Funciones `lower()` y `upper()`\n",
        "* Podemos convertir todo a mayúsculas o a minúsuclas."
      ],
      "metadata": {
        "id": "MpuB1ksroSqS"
      }
    },
    {
      "cell_type": "code",
      "source": [
        "\"Buenos Aires\".lower()"
      ],
      "metadata": {
        "colab": {
          "base_uri": "https://localhost:8080/",
          "height": 36
        },
        "id": "ehUuTvLgotfY",
        "outputId": "f12821ad-8fb5-4f50-aeaf-fc6b3e09bad6"
      },
      "execution_count": 18,
      "outputs": [
        {
          "output_type": "execute_result",
          "data": {
            "text/plain": [
              "'buenos aires'"
            ],
            "application/vnd.google.colaboratory.intrinsic+json": {
              "type": "string"
            }
          },
          "metadata": {},
          "execution_count": 18
        }
      ]
    },
    {
      "cell_type": "markdown",
      "source": [
        "* Esto permite comparar strings sin importar como van escritos."
      ],
      "metadata": {
        "id": "tLUhdtKAxr6N"
      }
    },
    {
      "cell_type": "code",
      "source": [
        "# Parándolo todo a mayúsculas\n",
        "'buenos aires'.upper() == \"Buenos Aires\".upper()    # True"
      ],
      "metadata": {
        "colab": {
          "base_uri": "https://localhost:8080/"
        },
        "id": "WccfsoQjpMKN",
        "outputId": "b1264ae1-5766-4dd0-f99d-aa21a1129109"
      },
      "execution_count": 20,
      "outputs": [
        {
          "output_type": "execute_result",
          "data": {
            "text/plain": [
              "True"
            ]
          },
          "metadata": {},
          "execution_count": 20
        }
      ]
    },
    {
      "cell_type": "markdown",
      "source": [
        "## Concatenar con `+`"
      ],
      "metadata": {
        "id": "f9063i8Sy8Sn"
      }
    },
    {
      "cell_type": "code",
      "source": [
        "2 + 3               # el signo + con números suma"
      ],
      "metadata": {
        "colab": {
          "base_uri": "https://localhost:8080/"
        },
        "id": "m9CEBCYBz8kN",
        "outputId": "a1ab41bd-a938-4eee-fb7c-475fe1989686"
      },
      "execution_count": 27,
      "outputs": [
        {
          "output_type": "execute_result",
          "data": {
            "text/plain": [
              "5"
            ]
          },
          "metadata": {},
          "execution_count": 27
        }
      ]
    },
    {
      "cell_type": "code",
      "source": [
        "\"Villa\" + \"nueva\"   # el signo + con strings concatena"
      ],
      "metadata": {
        "colab": {
          "base_uri": "https://localhost:8080/",
          "height": 36
        },
        "id": "EwrcqT61zBk6",
        "outputId": "05e0defc-eef4-4541-d89e-74bdfd8f7871"
      },
      "execution_count": 26,
      "outputs": [
        {
          "output_type": "execute_result",
          "data": {
            "text/plain": [
              "'Villanueva'"
            ],
            "application/vnd.google.colaboratory.intrinsic+json": {
              "type": "string"
            }
          },
          "metadata": {},
          "execution_count": 26
        }
      ]
    },
    {
      "cell_type": "markdown",
      "source": [
        "# Números"
      ],
      "metadata": {
        "id": "eO9VxKph2Y-S"
      }
    },
    {
      "cell_type": "markdown",
      "source": [
        "# Listas"
      ],
      "metadata": {
        "id": "sPweE3UU7N7t"
      }
    },
    {
      "cell_type": "markdown",
      "source": [
        "## Lista vacía"
      ],
      "metadata": {
        "id": "UQRarF8u7rB3"
      }
    },
    {
      "cell_type": "code",
      "source": [
        "mylist = []\n",
        "mylist"
      ],
      "metadata": {
        "colab": {
          "base_uri": "https://localhost:8080/"
        },
        "id": "cG3TJnig7vyu",
        "outputId": "e004181c-27ac-4c23-bdb8-b1e5b80a18bd"
      },
      "execution_count": 39,
      "outputs": [
        {
          "output_type": "execute_result",
          "data": {
            "text/plain": [
              "[]"
            ]
          },
          "metadata": {},
          "execution_count": 39
        }
      ]
    },
    {
      "cell_type": "markdown",
      "source": [
        "Las listas pueden contener diferentes tipos de datos."
      ],
      "metadata": {
        "id": "CDQ_5W8f3ZMT"
      }
    },
    {
      "cell_type": "code",
      "source": [
        "deportista = [\"Ana\", 18, 1.78, True]\n",
        "print(deportista)"
      ],
      "metadata": {
        "colab": {
          "base_uri": "https://localhost:8080/"
        },
        "id": "IYtuceAA3dYI",
        "outputId": "d52a6bb2-964e-4619-e365-90206c356900"
      },
      "execution_count": 36,
      "outputs": [
        {
          "output_type": "stream",
          "name": "stdout",
          "text": [
            "['Ana', 18, 1.78, True]\n"
          ]
        }
      ]
    },
    {
      "cell_type": "markdown",
      "source": [
        "El index de los elementos comienza por cero."
      ],
      "metadata": {
        "id": "rma6uyrH5AYk"
      }
    },
    {
      "cell_type": "code",
      "source": [
        "deportista[0]       # el primer elementos tiene index 0"
      ],
      "metadata": {
        "colab": {
          "base_uri": "https://localhost:8080/",
          "height": 36
        },
        "id": "ItV6mIjJ40Qu",
        "outputId": "e235e86f-5c8a-4f54-c0cf-f1e96892454c"
      },
      "execution_count": 33,
      "outputs": [
        {
          "output_type": "execute_result",
          "data": {
            "text/plain": [
              "'Ana'"
            ],
            "application/vnd.google.colaboratory.intrinsic+json": {
              "type": "string"
            }
          },
          "metadata": {},
          "execution_count": 33
        }
      ]
    },
    {
      "cell_type": "markdown",
      "source": [
        "Caracteres de escape:\n",
        "\n",
        "* `\\t` es un tabulador\n",
        "* `\\n` es una nueva línea, es la abreviatura de *new line*"
      ],
      "metadata": {
        "id": "3cU5B5hY5EHd"
      }
    },
    {
      "cell_type": "code",
      "source": [
        "print(\"Datos de la deportista\".upper())\n",
        "print(\"\\tNombre:\", deportista[0])\n",
        "print(\"\\tEdad:\", deportista[1])\n",
        "print(\"\\tAltura:\", deportista[2])\n",
        "print(\"\\tFederada:\", deportista[3])"
      ],
      "metadata": {
        "colab": {
          "base_uri": "https://localhost:8080/"
        },
        "id": "dUjy_aLl4DW0",
        "outputId": "4519c30c-401f-4f24-ed74-7e8b25044a13"
      },
      "execution_count": 37,
      "outputs": [
        {
          "output_type": "stream",
          "name": "stdout",
          "text": [
            "DATOS DE LA DEPORTISTA\n",
            "\tNombre: Ana\n",
            "\tEdad: 18\n",
            "\tAltura: 1.78\n",
            "\tFederada: True\n"
          ]
        }
      ]
    },
    {
      "cell_type": "markdown",
      "source": [
        "# Tuplas"
      ],
      "metadata": {
        "id": "SoZZtPrL7cXm"
      }
    },
    {
      "cell_type": "markdown",
      "source": [
        "## Tupla vacía"
      ],
      "metadata": {
        "id": "P3O7atNR76ld"
      }
    },
    {
      "cell_type": "code",
      "source": [
        "mytuple = ()\n",
        "mytuple\n",
        "type(mytuple)"
      ],
      "metadata": {
        "colab": {
          "base_uri": "https://localhost:8080/"
        },
        "id": "hMz12BA179J6",
        "outputId": "02a03bff-33c3-4bc1-d9ae-b2c2198161f7"
      },
      "execution_count": 41,
      "outputs": [
        {
          "output_type": "execute_result",
          "data": {
            "text/plain": [
              "tuple"
            ]
          },
          "metadata": {},
          "execution_count": 41
        }
      ]
    },
    {
      "cell_type": "markdown",
      "source": [
        "## Tupla con un solo elemento\n",
        "* Es importante poner la coma"
      ],
      "metadata": {
        "id": "0K9FF5t18IQy"
      }
    },
    {
      "cell_type": "code",
      "source": [
        "dias = (5,)\n",
        "print(dias)\n",
        "type(dias)"
      ],
      "metadata": {
        "colab": {
          "base_uri": "https://localhost:8080/"
        },
        "id": "9zvS-_Yf8Pki",
        "outputId": "de579ba5-7b0b-4070-fd81-ff4d4ac26644"
      },
      "execution_count": 45,
      "outputs": [
        {
          "output_type": "stream",
          "name": "stdout",
          "text": [
            "(5,)\n"
          ]
        },
        {
          "output_type": "execute_result",
          "data": {
            "text/plain": [
              "tuple"
            ]
          },
          "metadata": {},
          "execution_count": 45
        }
      ]
    }
  ]
}