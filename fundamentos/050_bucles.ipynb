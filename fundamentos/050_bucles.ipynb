{
  "nbformat": 4,
  "nbformat_minor": 0,
  "metadata": {
    "colab": {
      "provenance": [],
      "authorship_tag": "ABX9TyNOrE0Z7TabZ4jOI6K7Nzzf",
      "include_colab_link": true
    },
    "kernelspec": {
      "name": "python3",
      "display_name": "Python 3"
    },
    "language_info": {
      "name": "python"
    }
  },
  "cells": [
    {
      "cell_type": "markdown",
      "metadata": {
        "id": "view-in-github",
        "colab_type": "text"
      },
      "source": [
        "<a href=\"https://colab.research.google.com/github/financieras/curso_python/blob/main/fundamentos/050_bucles.ipynb\" target=\"_parent\"><img src=\"https://colab.research.google.com/assets/colab-badge.svg\" alt=\"Open In Colab\"/></a>"
      ]
    },
    {
      "cell_type": "markdown",
      "source": [
        "# Bucles\n",
        "* Permiten ejecutar código que se repite.\n",
        "* Veremos dos tipos:\n",
        "    1. bucle `while`\n",
        "    2. bucle `for`"
      ],
      "metadata": {
        "id": "u9z8zHFsO36t"
      }
    },
    {
      "cell_type": "markdown",
      "source": [
        "# Bucle `while`\n",
        "\n",
        "<pre>\n",
        "while condición:\n",
        "    instrucciones\n",
        "</pre>\n",
        "\n",
        "* El tabulador es importante.\n",
        "* Las estructuras en Python requieren indentación."
      ],
      "metadata": {
        "id": "4CinPjXaII1N"
      }
    },
    {
      "cell_type": "code",
      "source": [
        "i = 0\n",
        "\n",
        "while i < 5:\n",
        "    print(i, \"Hola\")\n",
        "    i += 1              # equivale a poner: i = i + 1"
      ],
      "metadata": {
        "id": "Uu-1btI_IOss"
      },
      "execution_count": null,
      "outputs": []
    },
    {
      "cell_type": "markdown",
      "source": [
        "## Imprimir los elemento de una lista"
      ],
      "metadata": {
        "id": "O1vs3Nh0Hw7-"
      }
    },
    {
      "cell_type": "code",
      "source": [
        "dias = ['lun', 'mar', 'mie', 'jue', 'vie', 'sáb', 'dom']\n",
        "\n",
        "n = len(dias)       # la función len da la longitud de la lista\n",
        "i = 0               # contador. Los index comienzan en cero\n",
        "\n",
        "while i < n:\n",
        "    print(dias[i])\n",
        "    i += 1          # incrementamos el valor del contador de 1 en 1"
      ],
      "metadata": {
        "id": "Ql-yk5kbH2oT"
      },
      "execution_count": null,
      "outputs": []
    },
    {
      "cell_type": "markdown",
      "source": [
        "# Bucle `for`\n",
        "* El bucle `for` se usa cuando ya sabemos cuantos cíclos son necesarios.\n",
        "* En el bucle `while` no sabemos inicialmente cuantos ciclos se darán ya que se itera mientras se cumpla la condición."
      ],
      "metadata": {
        "id": "aB6CrE7bN1-t"
      }
    },
    {
      "cell_type": "code",
      "source": [
        "for i in range(5):\n",
        "    print(i)"
      ],
      "metadata": {
        "id": "eScOA3soN_IH"
      },
      "execution_count": null,
      "outputs": []
    },
    {
      "cell_type": "code",
      "source": [
        "for i in range(1, 6):\n",
        "    print(i)"
      ],
      "metadata": {
        "id": "f-j_shZ4OJMj"
      },
      "execution_count": null,
      "outputs": []
    },
    {
      "cell_type": "markdown",
      "source": [
        "## Iterar una lista"
      ],
      "metadata": {
        "id": "EpjWjEJaOhpT"
      }
    },
    {
      "cell_type": "code",
      "source": [
        "ciudades = ['Londres', 'Paris', 'Roma', 'Berlín', 'Madrid']\n",
        "\n",
        "for ciudad in ciudades:\n",
        "    print(ciudad)"
      ],
      "metadata": {
        "id": "PvgQV9m2Okdf"
      },
      "execution_count": null,
      "outputs": []
    },
    {
      "cell_type": "code",
      "source": [
        "ciudades = ['Londres', 'Paris', 'Roma', 'Berlín', 'Madrid']\n",
        "\n",
        "for i in range(len(ciudades)):\n",
        "    print(i+1, ciudades[i])"
      ],
      "metadata": {
        "id": "yphThz-tOUqt"
      },
      "execution_count": null,
      "outputs": []
    }
  ]
}