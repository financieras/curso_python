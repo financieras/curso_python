{
  "nbformat": 4,
  "nbformat_minor": 0,
  "metadata": {
    "colab": {
      "provenance": [],
      "authorship_tag": "ABX9TyNacYNgBMUfhmzvWMWJ/uwd",
      "include_colab_link": true
    },
    "kernelspec": {
      "name": "python3",
      "display_name": "Python 3"
    },
    "language_info": {
      "name": "python"
    }
  },
  "cells": [
    {
      "cell_type": "markdown",
      "metadata": {
        "id": "view-in-github",
        "colab_type": "text"
      },
      "source": [
        "<a href=\"https://colab.research.google.com/github/financieras/curso_python/blob/main/fundamentos/020_variables.ipynb\" target=\"_parent\"><img src=\"https://colab.research.google.com/assets/colab-badge.svg\" alt=\"Open In Colab\"/></a>"
      ]
    },
    {
      "cell_type": "markdown",
      "source": [
        "# Hola mundo"
      ],
      "metadata": {
        "id": "518y5vTNWS0_"
      }
    },
    {
      "cell_type": "code",
      "source": [
        "print(\"Hola mundo\")"
      ],
      "metadata": {
        "id": "q8fBVS7ZXcfc"
      },
      "execution_count": null,
      "outputs": []
    },
    {
      "cell_type": "markdown",
      "source": [
        "# Variables"
      ],
      "metadata": {
        "id": "XY9EIzMRXeia"
      }
    },
    {
      "cell_type": "code",
      "source": [
        "a = 12\n",
        "b = 5"
      ],
      "metadata": {
        "id": "tk_s4Qx1XM7n"
      },
      "execution_count": null,
      "outputs": []
    },
    {
      "cell_type": "markdown",
      "source": [
        "# Operaciones aritméticas"
      ],
      "metadata": {
        "id": "35O48HLPKfzr"
      }
    },
    {
      "cell_type": "code",
      "source": [
        "\n",
        "print(\"Suma:\", a + b)\n",
        "print(\"Resta:\", a - b)\n",
        "print(\"Producto:\", a * b)\n",
        "print(\"División:\", a / b)   # da un float\n",
        "print(\"División entera:\", a // b)\n",
        "print(\"Módulo:\", a % b)     # Resto\n"
      ],
      "metadata": {
        "id": "-835CKMcKZdY"
      },
      "execution_count": null,
      "outputs": []
    },
    {
      "cell_type": "markdown",
      "source": [
        "# Tipo de datos"
      ],
      "metadata": {
        "id": "eoctOMlhKr0H"
      }
    },
    {
      "cell_type": "code",
      "source": [
        "print(type(5))          # int -> entero\n",
        "print(type(4.3))        # float -> número de coma flotante\n",
        "print(type(\"Hola\"))     # str -> string = cadena alfanumérica\n",
        "print(type(True))       # bool -> booleanos = True o False\n",
        "print(type([1, 2, 3]))  # list -> listas\n",
        "print(type((1, 2, 3)))  # tuple -> tuplas"
      ],
      "metadata": {
        "id": "ES7sLjF_KbmI"
      },
      "execution_count": null,
      "outputs": []
    }
  ]
}