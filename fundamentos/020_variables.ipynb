{
  "nbformat": 4,
  "nbformat_minor": 0,
  "metadata": {
    "colab": {
      "provenance": [],
      "authorship_tag": "ABX9TyPSvbNyugqkXTVcSTi3gR/W",
      "include_colab_link": true
    },
    "kernelspec": {
      "name": "python3",
      "display_name": "Python 3"
    },
    "language_info": {
      "name": "python"
    }
  },
  "cells": [
    {
      "cell_type": "markdown",
      "metadata": {
        "id": "view-in-github",
        "colab_type": "text"
      },
      "source": [
        "<a href=\"https://colab.research.google.com/github/financieras/curso_python/blob/main/fundamentos/020_variables.ipynb\" target=\"_parent\"><img src=\"https://colab.research.google.com/assets/colab-badge.svg\" alt=\"Open In Colab\"/></a>"
      ]
    },
    {
      "cell_type": "markdown",
      "source": [
        "# Hola mundo"
      ],
      "metadata": {
        "id": "518y5vTNWS0_"
      }
    },
    {
      "cell_type": "code",
      "source": [
        "print(\"Hola mundo\")"
      ],
      "metadata": {
        "id": "q8fBVS7ZXcfc",
        "outputId": "fe856b0f-a186-4caa-cbb0-09da1b631185",
        "colab": {
          "base_uri": "https://localhost:8080/"
        }
      },
      "execution_count": null,
      "outputs": [
        {
          "output_type": "stream",
          "name": "stdout",
          "text": [
            "Hola mundo\n"
          ]
        }
      ]
    },
    {
      "cell_type": "markdown",
      "metadata": {
        "id": "8AZRFw8HezD-"
      },
      "source": [
        "## Comentarios del programador"
      ]
    },
    {
      "cell_type": "code",
      "execution_count": null,
      "metadata": {
        "colab": {
          "base_uri": "https://localhost:8080/"
        },
        "id": "wz4Fdh9Zet-v",
        "outputId": "fc13e0e9-1d08-46d3-eb81-0d85a01c151e"
      },
      "outputs": [
        {
          "output_type": "stream",
          "name": "stdout",
          "text": [
            "Hello World\n"
          ]
        }
      ],
      "source": [
        "# Esto es un comentario\n",
        "print('Hello World')     # usando comillas simples"
      ]
    },
    {
      "cell_type": "markdown",
      "source": [
        "## Operar como calculadora"
      ],
      "metadata": {
        "id": "mlp6j5MkSRnj"
      }
    },
    {
      "cell_type": "code",
      "execution_count": null,
      "metadata": {
        "colab": {
          "base_uri": "https://localhost:8080/"
        },
        "id": "CJXDyN6esFNu",
        "outputId": "6b8e7c87-d1d4-44e0-fb9a-0fa123f76153"
      },
      "outputs": [
        {
          "output_type": "execute_result",
          "data": {
            "text/plain": [
              "5"
            ]
          },
          "metadata": {},
          "execution_count": 4
        }
      ],
      "source": [
        "2 + 3       # suma"
      ]
    },
    {
      "cell_type": "code",
      "source": [
        "2 - 3       # resta"
      ],
      "metadata": {
        "id": "1hjK0n4RSwR_",
        "outputId": "6b26e80e-b69f-4187-d447-9ef5e7975169",
        "colab": {
          "base_uri": "https://localhost:8080/"
        }
      },
      "execution_count": null,
      "outputs": [
        {
          "output_type": "execute_result",
          "data": {
            "text/plain": [
              "-1"
            ]
          },
          "metadata": {},
          "execution_count": 1
        }
      ]
    },
    {
      "cell_type": "code",
      "source": [
        "5 * 3       # producto"
      ],
      "metadata": {
        "id": "frhBf7FiS-Nl",
        "outputId": "674bebbb-143d-464c-e885-41dae4926439",
        "colab": {
          "base_uri": "https://localhost:8080/"
        }
      },
      "execution_count": null,
      "outputs": [
        {
          "output_type": "execute_result",
          "data": {
            "text/plain": [
              "15"
            ]
          },
          "metadata": {},
          "execution_count": 2
        }
      ]
    },
    {
      "cell_type": "code",
      "source": [
        "12 / 5      # división"
      ],
      "metadata": {
        "id": "CpHedkgfTEjv",
        "outputId": "f5c08f0b-3a69-4db1-bd74-2ec1fc52b858",
        "colab": {
          "base_uri": "https://localhost:8080/"
        }
      },
      "execution_count": null,
      "outputs": [
        {
          "output_type": "execute_result",
          "data": {
            "text/plain": [
              "2.4"
            ]
          },
          "metadata": {},
          "execution_count": 3
        }
      ]
    },
    {
      "cell_type": "code",
      "source": [
        "12 // 5     # división entera"
      ],
      "metadata": {
        "id": "82GpRCwXTQ2N",
        "outputId": "281439dc-2a95-44e1-8820-3e51e9404eae",
        "colab": {
          "base_uri": "https://localhost:8080/"
        }
      },
      "execution_count": null,
      "outputs": [
        {
          "output_type": "execute_result",
          "data": {
            "text/plain": [
              "2"
            ]
          },
          "metadata": {},
          "execution_count": 4
        }
      ]
    },
    {
      "cell_type": "code",
      "source": [
        "12 % 5      # resto, módulo"
      ],
      "metadata": {
        "id": "NUiPFTMQTY83",
        "outputId": "27f550d3-467b-48b6-bc34-02e5080d2b59",
        "colab": {
          "base_uri": "https://localhost:8080/"
        }
      },
      "execution_count": null,
      "outputs": [
        {
          "output_type": "execute_result",
          "data": {
            "text/plain": [
              "2"
            ]
          },
          "metadata": {},
          "execution_count": 5
        }
      ]
    },
    {
      "cell_type": "markdown",
      "metadata": {
        "id": "ZdEH0lp-wL97"
      },
      "source": [
        "# Variables\n",
        "* Una variable es un espacio en memoria que recoge un dato.\n",
        "* Podemos entender una variable como si fuera una caja donde guardamos algún tipo de dato.\n",
        "* Esa caja o variable ha de tener un nombre de variable.  \n",
        "\n",
        "\n",
        "<img src=\"https://github.com/financieras/curso_python/blob/main/img/variable.jpg?raw=1\" alt=\"raspberry pi\" width=\"400\">"
      ]
    },
    {
      "cell_type": "markdown",
      "metadata": {
        "id": "38653a89"
      },
      "source": [
        "### Nombres de variables\n",
        "* Las variables tienen un nombre que:\n",
        " 1. no puede llevar espacios\n",
        " 2. no puede llevar simbolos (ç, @, ...)\n",
        " 3. si puede llevar barra baja (`_`)\n",
        " 4. si puede llevar números pero no al inicio\n",
        " 5. no puede llevar palabras reservadas (class, def, if, import, in, is, ...)\n",
        " 6. no se aconseja usar acentos y letra ñ\n",
        " 7. no se aconseja usar mayúsculas"
      ]
    },
    {
      "cell_type": "code",
      "execution_count": null,
      "metadata": {
        "id": "PPxwDTqPxVZO"
      },
      "outputs": [],
      "source": [
        "# VARIABLES PERMITIDAS\n",
        "my_import = 1000\n",
        "europa2030 = \"objetivo\"\n",
        "equipoVisitante = 2\n",
        "altura_permitida = 3.85\n",
        "unionEuropea = 27\n",
        "\n",
        "# VARIABLES NO PERMITIDAS\n",
        "#7millas = \"distancia\"              # Error, comienza por número\n",
        "#video editado = \"vacaciones\"       # Error, lleva espacio\n",
        "#nombre@dominio = \"join@nasa.gov\"   # Error, lleva un símbolo no permitido\n",
        "#import = 1000                      # Error, es una palabra reservada\n",
        "#mi-nombre = \"Ana\"                  # Error, no acepta guion ni otros símbolos\n",
        "\n",
        "# VARIABLES NO ACONSEJABLES\n",
        "día = 1                             # acentos\n",
        "años = 16                           # letra ñ\n",
        "SEMANA = 7                          # mayúsculas"
      ]
    },
    {
      "cell_type": "markdown",
      "metadata": {
        "id": "A0XbPevVqj7r"
      },
      "source": [
        "### Estilo [snake_case](https://www.google.com/search?q=snake_case)\n",
        "* Estilo aconsejado al usar varias palabras:\n",
        "    1. todo minúsculas y\n",
        "    2. uniendo las palabras con guión bajo: `_`"
      ]
    },
    {
      "cell_type": "code",
      "execution_count": null,
      "metadata": {
        "id": "DiNgaN4Vqj7r",
        "outputId": "0cd609cc-3596-4fc9-a365-a06ab75df03d",
        "colab": {
          "base_uri": "https://localhost:8080/",
          "height": 35
        }
      },
      "outputs": [
        {
          "output_type": "execute_result",
          "data": {
            "text/plain": [
              "'Andrés'"
            ],
            "application/vnd.google.colaboratory.intrinsic+json": {
              "type": "string"
            }
          },
          "metadata": {},
          "execution_count": 11
        }
      ],
      "source": [
        "nombre_del_padre = \"Andrés\"      # sanke style\n",
        "nombre_del_padre"
      ]
    },
    {
      "cell_type": "markdown",
      "metadata": {
        "id": "gHhQsxnVAJbZ"
      },
      "source": [
        "## Case sensitive\n",
        "* Los nombres de variables en Python son *case-sensitive*, se diferencia entre mayúsculas y minúsculas."
      ]
    },
    {
      "cell_type": "code",
      "execution_count": null,
      "metadata": {
        "colab": {
          "base_uri": "https://localhost:8080/"
        },
        "id": "z3vhEc7pAhUV",
        "outputId": "993ee980-100d-40d2-e8a8-d0e6e10d4f41"
      },
      "outputs": [
        {
          "output_type": "stream",
          "name": "stdout",
          "text": [
            "Marta\n"
          ]
        }
      ],
      "source": [
        "User = \"Santiago\"\n",
        "user = \"Marta\"\n",
        "\n",
        "print(user)"
      ]
    },
    {
      "cell_type": "markdown",
      "source": [
        "### Ejemplos usando variables"
      ],
      "metadata": {
        "id": "j7gdFN2vYPvm"
      }
    },
    {
      "cell_type": "code",
      "execution_count": null,
      "metadata": {
        "colab": {
          "base_uri": "https://localhost:8080/"
        },
        "id": "uGyehxOaww7F",
        "outputId": "bc2a3cd6-fcc8-488a-b408-071810d40550"
      },
      "outputs": [
        {
          "output_type": "stream",
          "name": "stdout",
          "text": [
            "5\n"
          ]
        }
      ],
      "source": [
        "x = 5       # asignamos el valor a la variable\n",
        "print(x)    # imprimimos la variable"
      ]
    },
    {
      "cell_type": "code",
      "execution_count": null,
      "metadata": {
        "id": "AjkdcXAcqj7m",
        "outputId": "be9c5561-ddc3-4b93-e9df-92fc521b65d5",
        "colab": {
          "base_uri": "https://localhost:8080/"
        }
      },
      "outputs": [
        {
          "output_type": "execute_result",
          "data": {
            "text/plain": [
              "int"
            ]
          },
          "metadata": {},
          "execution_count": 2
        }
      ],
      "source": [
        "type(x)    #  es un número entero int"
      ]
    },
    {
      "cell_type": "code",
      "execution_count": null,
      "metadata": {
        "colab": {
          "base_uri": "https://localhost:8080/"
        },
        "id": "3EaA4DMzw2fb",
        "outputId": "c44982ad-b5b6-43a3-c4dd-1ce18a087b87"
      },
      "outputs": [
        {
          "output_type": "stream",
          "name": "stdout",
          "text": [
            "Hola mundo\n"
          ]
        }
      ],
      "source": [
        "saludo = \"Hola mundo\"   # la variable es una cadena alfanumérica\n",
        "print(saludo)"
      ]
    },
    {
      "cell_type": "code",
      "execution_count": null,
      "metadata": {
        "id": "zc1kjEOpqj7o",
        "outputId": "8129b3df-b3ec-49df-ed81-de0f9e8c4b46",
        "colab": {
          "base_uri": "https://localhost:8080/"
        }
      },
      "outputs": [
        {
          "output_type": "execute_result",
          "data": {
            "text/plain": [
              "str"
            ]
          },
          "metadata": {},
          "execution_count": 4
        }
      ],
      "source": [
        "type(saludo)            # string"
      ]
    },
    {
      "cell_type": "code",
      "execution_count": null,
      "metadata": {
        "id": "_yPkjRDgqj7o",
        "outputId": "f4e06567-dc4c-4bc9-ba69-72b12e2ead20",
        "colab": {
          "base_uri": "https://localhost:8080/"
        }
      },
      "outputs": [
        {
          "output_type": "stream",
          "name": "stdout",
          "text": [
            "14.75\n"
          ]
        },
        {
          "output_type": "execute_result",
          "data": {
            "text/plain": [
              "float"
            ]
          },
          "metadata": {},
          "execution_count": 1
        }
      ],
      "source": [
        "precio = 14.75   # es un número de coma flotante → float\n",
        "print(precio)\n",
        "type(precio)"
      ]
    },
    {
      "cell_type": "markdown",
      "metadata": {
        "id": "7XGtlOVrqj7p"
      },
      "source": [
        "### Usar `print` con coma\n",
        "Al imprimir elementos separados por coma se muestra un espacio entre ellos."
      ]
    },
    {
      "cell_type": "code",
      "execution_count": null,
      "metadata": {
        "id": "iv_QNo9Uqj7p",
        "outputId": "56e7d791-67bc-4b17-ae72-941100dac006",
        "colab": {
          "base_uri": "https://localhost:8080/"
        }
      },
      "outputs": [
        {
          "output_type": "stream",
          "name": "stdout",
          "text": [
            "Hola Ana\n"
          ]
        }
      ],
      "source": [
        "nombre = \"Ana\"\n",
        "print(\"Hola\", nombre)"
      ]
    },
    {
      "cell_type": "code",
      "execution_count": null,
      "metadata": {
        "id": "e10YHiVQqj7q",
        "outputId": "367fc6fd-5deb-43b4-9e34-0b18636450c6",
        "colab": {
          "base_uri": "https://localhost:8080/"
        }
      },
      "outputs": [
        {
          "output_type": "stream",
          "name": "stdout",
          "text": [
            "Me llamo Ana y tengo 15 años\n"
          ]
        }
      ],
      "source": [
        "edad = 15\n",
        "print(\"Me llamo\", nombre, \"y tengo\", edad, \"años\")"
      ]
    },
    {
      "cell_type": "markdown",
      "metadata": {
        "id": "x-DCOnlQ1Dni"
      },
      "source": [
        "## Operar con variables"
      ]
    },
    {
      "cell_type": "code",
      "execution_count": null,
      "metadata": {
        "colab": {
          "base_uri": "https://localhost:8080/"
        },
        "id": "YsNnoHnl1JSg",
        "outputId": "cb8c1cbe-ff40-46a1-a568-e302b7b080c4"
      },
      "outputs": [
        {
          "output_type": "stream",
          "name": "stdout",
          "text": [
            "Al dividir 10 entre 4 obtenemos 2.5\n"
          ]
        }
      ],
      "source": [
        "a = 10\n",
        "b = 4\n",
        "c = a / b       # c es un número de coma flotante, con decimales: float\n",
        "print(\"Al dividir\", a, \"entre\", b, \"obtenemos\", c)"
      ]
    },
    {
      "cell_type": "markdown",
      "source": [
        "## Inicializar variables y asignar variables\n",
        "1. Llamamos **inicializar** a la primera vez que igualamos una variable a un valor\n",
        "2. Llamamos **asignar** cuando igualamos un valor a una variable\n",
        "\n",
        "* En otros lenguajes existe la *declaración* de la variable que consiste en indicar previamente de que tipo es la variable. En Python esto no es obligatorio."
      ],
      "metadata": {
        "id": "D0nunLT0B4-4"
      }
    },
    {
      "cell_type": "code",
      "source": [
        "edad = 17                               # inicialización de la variable\n",
        "print(\"Mi edad es\", edad)\n",
        "\n",
        "edad = 18                               # asignación de la variable\n",
        "print(\"Próximamente cumpliré\", edad)\n",
        "\n",
        "edad += 1                               # equivale a poner  edad = edad + 1\n",
        "print(\"El próximo año cumpliré\", edad)"
      ],
      "metadata": {
        "id": "9ggUlRAaCTtR",
        "outputId": "53870f56-74e5-430c-f954-068df14ff29d",
        "colab": {
          "base_uri": "https://localhost:8080/"
        }
      },
      "execution_count": null,
      "outputs": [
        {
          "output_type": "stream",
          "name": "stdout",
          "text": [
            "Mi edad es 17\n",
            "Próximamente cumpliré 18\n",
            "El próximo año cumpliré 19\n"
          ]
        }
      ]
    },
    {
      "cell_type": "markdown",
      "metadata": {
        "id": "kTRl4Q8mwWf5"
      },
      "source": [
        "## Variables múltiples"
      ]
    },
    {
      "cell_type": "code",
      "execution_count": null,
      "metadata": {
        "colab": {
          "base_uri": "https://localhost:8080/"
        },
        "id": "Awzzthq0wbqc",
        "outputId": "39adcbe8-938a-4a6a-f800-81bf6d2c903f"
      },
      "outputs": [
        {
          "output_type": "stream",
          "name": "stdout",
          "text": [
            "3 4\n"
          ]
        }
      ],
      "source": [
        "a, b = 3, 4\n",
        "print(a, b)"
      ]
    },
    {
      "cell_type": "markdown",
      "source": [
        "# Operaciones aritméticas"
      ],
      "metadata": {
        "id": "35O48HLPKfzr"
      }
    },
    {
      "cell_type": "code",
      "source": [
        "# creamos dos variables\n",
        "\n",
        "a = 12\n",
        "b = 5"
      ],
      "metadata": {
        "id": "tk_s4Qx1XM7n"
      },
      "execution_count": null,
      "outputs": []
    },
    {
      "cell_type": "code",
      "source": [
        "\n",
        "print(\"Suma:\", a + b)\n",
        "print(\"Resta:\", a - b)\n",
        "print(\"Producto:\", a * b)\n",
        "print(\"División:\", a / b)   # da un float\n",
        "print(\"División entera:\", a // b)\n",
        "print(\"Módulo:\", a % b)     # Resto\n"
      ],
      "metadata": {
        "id": "-835CKMcKZdY",
        "outputId": "f3837b21-52ab-4cb5-9ae6-ceb2c2120b74",
        "colab": {
          "base_uri": "https://localhost:8080/"
        }
      },
      "execution_count": null,
      "outputs": [
        {
          "output_type": "stream",
          "name": "stdout",
          "text": [
            "Suma: 17\n",
            "Resta: 7\n",
            "Producto: 60\n",
            "División: 2.4\n",
            "División entera: 2\n",
            "Módulo: 2\n"
          ]
        }
      ]
    }
  ]
}