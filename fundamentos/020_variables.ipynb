{
  "nbformat": 4,
  "nbformat_minor": 0,
  "metadata": {
    "colab": {
      "provenance": [],
      "authorship_tag": "ABX9TyMk2TaQLo99C/QIq5jtel08",
      "include_colab_link": true
    },
    "kernelspec": {
      "name": "python3",
      "display_name": "Python 3"
    },
    "language_info": {
      "name": "python"
    }
  },
  "cells": [
    {
      "cell_type": "markdown",
      "metadata": {
        "id": "view-in-github",
        "colab_type": "text"
      },
      "source": [
        "<a href=\"https://colab.research.google.com/github/financieras/curso_python/blob/main/fundamentos/020_variables.ipynb\" target=\"_parent\"><img src=\"https://colab.research.google.com/assets/colab-badge.svg\" alt=\"Open In Colab\"/></a>"
      ]
    },
    {
      "cell_type": "markdown",
      "source": [
        "# Hola mundo"
      ],
      "metadata": {
        "id": "518y5vTNWS0_"
      }
    },
    {
      "cell_type": "code",
      "source": [
        "print(\"Hola mundo\")"
      ],
      "metadata": {
        "id": "q8fBVS7ZXcfc"
      },
      "execution_count": null,
      "outputs": []
    },
    {
      "cell_type": "markdown",
      "metadata": {
        "id": "8AZRFw8HezD-"
      },
      "source": [
        "## Comentarios del programador"
      ]
    },
    {
      "cell_type": "code",
      "execution_count": null,
      "metadata": {
        "id": "wz4Fdh9Zet-v"
      },
      "outputs": [],
      "source": [
        "# Esto es un comentario\n",
        "print('Hello World')     # usando comillas simples"
      ]
    },
    {
      "cell_type": "markdown",
      "source": [
        "## Operar como calculadora"
      ],
      "metadata": {
        "id": "mlp6j5MkSRnj"
      }
    },
    {
      "cell_type": "code",
      "execution_count": null,
      "metadata": {
        "id": "CJXDyN6esFNu"
      },
      "outputs": [],
      "source": [
        "2 + 3       # suma"
      ]
    },
    {
      "cell_type": "code",
      "source": [
        "2 - 3       # resta"
      ],
      "metadata": {
        "id": "1hjK0n4RSwR_"
      },
      "execution_count": null,
      "outputs": []
    },
    {
      "cell_type": "code",
      "source": [
        "5 * 3       # producto"
      ],
      "metadata": {
        "id": "frhBf7FiS-Nl"
      },
      "execution_count": null,
      "outputs": []
    },
    {
      "cell_type": "code",
      "source": [
        "5 ** 3      # potencias: elevar 5 al cubo = 5 * 5 * 5 = 125"
      ],
      "metadata": {
        "id": "YZSGgBJlHZa7"
      },
      "execution_count": null,
      "outputs": []
    },
    {
      "cell_type": "code",
      "source": [
        "14 / 5      # división"
      ],
      "metadata": {
        "id": "CpHedkgfTEjv"
      },
      "execution_count": null,
      "outputs": []
    },
    {
      "cell_type": "code",
      "source": [
        "14 // 5     # división entera"
      ],
      "metadata": {
        "id": "82GpRCwXTQ2N"
      },
      "execution_count": null,
      "outputs": []
    },
    {
      "cell_type": "code",
      "source": [
        "15 % 5      # resto, módulo"
      ],
      "metadata": {
        "id": "NUiPFTMQTY83"
      },
      "execution_count": null,
      "outputs": []
    },
    {
      "cell_type": "markdown",
      "metadata": {
        "id": "ZdEH0lp-wL97"
      },
      "source": [
        "# Variables\n",
        "* Una variable es un espacio en memoria que recoge un dato.\n",
        "* Podemos entender una variable como si fuera una caja donde guardamos algún tipo de dato.\n",
        "* Esa caja o variable ha de tener un nombre de variable.  \n",
        "\n",
        "\n",
        "<img src=\"https://github.com/financieras/curso_python/blob/main/img/variable.jpg?raw=1\" alt=\"raspberry pi\" width=\"400\">"
      ]
    },
    {
      "cell_type": "markdown",
      "metadata": {
        "id": "38653a89"
      },
      "source": [
        "### Nombres de variables\n",
        "* Las variables tienen un nombre que:\n",
        " 1. no puede llevar espacios\n",
        " 2. no puede llevar simbolos (ç, @, ...)\n",
        " 3. si puede llevar barra baja (`_`)\n",
        " 4. si puede llevar números pero no al inicio\n",
        " 5. no puede llevar palabras reservadas (class, def, if, import, in, is, ...)\n",
        " 6. no se aconseja usar acentos y letra ñ\n",
        " 7. no se aconseja usar mayúsculas"
      ]
    },
    {
      "cell_type": "code",
      "execution_count": null,
      "metadata": {
        "id": "PPxwDTqPxVZO"
      },
      "outputs": [],
      "source": [
        "# VARIABLES PERMITIDAS\n",
        "my_import = 1000\n",
        "europa2030 = \"objetivo\"\n",
        "equipoVisitante = 2\n",
        "altura_permitida = 3.85\n",
        "unionEuropea = 27\n",
        "\n",
        "# VARIABLES NO PERMITIDAS\n",
        "#7millas = \"distancia\"              # Error, comienza por número\n",
        "#video editado = \"vacaciones\"       # Error, lleva espacio\n",
        "#nombre@dominio = \"join@nasa.gov\"   # Error, lleva un símbolo no permitido\n",
        "#import = 1000                      # Error, es una palabra reservada\n",
        "#mi-nombre = \"Ana\"                  # Error, no acepta guion ni otros símbolos\n",
        "\n",
        "# VARIABLES NO ACONSEJABLES\n",
        "día = 1                             # acentos\n",
        "años = 16                           # letra ñ\n",
        "SEMANA = 7                          # mayúsculas"
      ]
    },
    {
      "cell_type": "markdown",
      "metadata": {
        "id": "A0XbPevVqj7r"
      },
      "source": [
        "### Estilo [snake_case](https://www.google.com/search?q=snake_case)\n",
        "* Estilo aconsejado al usar varias palabras:\n",
        "    1. todo minúsculas y\n",
        "    2. uniendo las palabras con guión bajo: `_`"
      ]
    },
    {
      "cell_type": "code",
      "execution_count": null,
      "metadata": {
        "id": "DiNgaN4Vqj7r"
      },
      "outputs": [],
      "source": [
        "nombre_del_padre = \"Andrés\"      # sanke style\n",
        "nombre_del_padre"
      ]
    },
    {
      "cell_type": "markdown",
      "metadata": {
        "id": "gHhQsxnVAJbZ"
      },
      "source": [
        "## Case sensitive\n",
        "* Los nombres de variables en Python son *case-sensitive*, se diferencia entre mayúsculas y minúsculas."
      ]
    },
    {
      "cell_type": "code",
      "execution_count": null,
      "metadata": {
        "id": "z3vhEc7pAhUV"
      },
      "outputs": [],
      "source": [
        "User = \"Santiago\"\n",
        "user = \"Marta\"\n",
        "\n",
        "print(user)"
      ]
    },
    {
      "cell_type": "markdown",
      "source": [
        "### Ejemplos usando variables"
      ],
      "metadata": {
        "id": "j7gdFN2vYPvm"
      }
    },
    {
      "cell_type": "code",
      "execution_count": null,
      "metadata": {
        "id": "uGyehxOaww7F"
      },
      "outputs": [],
      "source": [
        "x = 5       # asignamos el valor a la variable\n",
        "print(x)    # imprimimos la variable"
      ]
    },
    {
      "cell_type": "code",
      "execution_count": null,
      "metadata": {
        "id": "AjkdcXAcqj7m"
      },
      "outputs": [],
      "source": [
        "type(x)    #  es un número entero int"
      ]
    },
    {
      "cell_type": "code",
      "execution_count": null,
      "metadata": {
        "id": "3EaA4DMzw2fb"
      },
      "outputs": [],
      "source": [
        "saludo = \"Hola mundo\"   # la variable es una cadena alfanumérica\n",
        "print(saludo)"
      ]
    },
    {
      "cell_type": "code",
      "execution_count": null,
      "metadata": {
        "id": "zc1kjEOpqj7o"
      },
      "outputs": [],
      "source": [
        "type(saludo)            # string"
      ]
    },
    {
      "cell_type": "code",
      "execution_count": null,
      "metadata": {
        "id": "_yPkjRDgqj7o"
      },
      "outputs": [],
      "source": [
        "precio = 14.75   # es un número de coma flotante → float\n",
        "print(precio)\n",
        "type(precio)"
      ]
    },
    {
      "cell_type": "markdown",
      "metadata": {
        "id": "7XGtlOVrqj7p"
      },
      "source": [
        "### Usar `print` con coma\n",
        "Al imprimir elementos separados por coma se muestra un espacio entre ellos."
      ]
    },
    {
      "cell_type": "code",
      "execution_count": null,
      "metadata": {
        "id": "iv_QNo9Uqj7p"
      },
      "outputs": [],
      "source": [
        "nombre = \"Ana\"\n",
        "print(\"Hola\", nombre)"
      ]
    },
    {
      "cell_type": "code",
      "execution_count": null,
      "metadata": {
        "id": "e10YHiVQqj7q"
      },
      "outputs": [],
      "source": [
        "edad = 15\n",
        "print(\"Me llamo\", nombre, \"y tengo\", edad, \"años\")"
      ]
    },
    {
      "cell_type": "markdown",
      "metadata": {
        "id": "x-DCOnlQ1Dni"
      },
      "source": [
        "## Operar con variables"
      ]
    },
    {
      "cell_type": "code",
      "execution_count": null,
      "metadata": {
        "id": "YsNnoHnl1JSg"
      },
      "outputs": [],
      "source": [
        "a = 10\n",
        "b = 4\n",
        "c = a / b       # c es un número de coma flotante, con decimales: float\n",
        "print(\"Al dividir\", a, \"entre\", b, \"obtenemos\", c)"
      ]
    },
    {
      "cell_type": "markdown",
      "source": [
        "## Inicializar variables y asignar variables\n",
        "1. Llamamos **inicializar** a la primera vez que igualamos una variable a un valor\n",
        "2. Llamamos **asignar** cuando igualamos un valor a una variable\n",
        "\n",
        "* En otros lenguajes existe la *declaración* de la variable que consiste en indicar previamente de que tipo es la variable. En Python esto no es obligatorio."
      ],
      "metadata": {
        "id": "D0nunLT0B4-4"
      }
    },
    {
      "cell_type": "code",
      "source": [
        "edad = 17                               # inicialización de la variable\n",
        "print(\"Mi edad es\", edad)\n",
        "\n",
        "edad = 18                               # asignación de la variable\n",
        "print(\"Próximamente cumpliré\", edad)\n",
        "\n",
        "edad = edad + 1                         # equivale a poner edad += 1\n",
        "print(\"El próximo año cumpliré\", edad)"
      ],
      "metadata": {
        "id": "9ggUlRAaCTtR"
      },
      "execution_count": null,
      "outputs": []
    },
    {
      "cell_type": "markdown",
      "metadata": {
        "id": "kTRl4Q8mwWf5"
      },
      "source": [
        "## Variables múltiples"
      ]
    },
    {
      "cell_type": "code",
      "execution_count": null,
      "metadata": {
        "id": "Awzzthq0wbqc"
      },
      "outputs": [],
      "source": [
        "a, b = 3, 4\n",
        "print(a, b)"
      ]
    },
    {
      "cell_type": "markdown",
      "source": [
        "# Operaciones aritméticas"
      ],
      "metadata": {
        "id": "35O48HLPKfzr"
      }
    },
    {
      "cell_type": "code",
      "source": [
        "# creamos dos variables\n",
        "\n",
        "a = 12\n",
        "b = 5"
      ],
      "metadata": {
        "id": "tk_s4Qx1XM7n"
      },
      "execution_count": null,
      "outputs": []
    },
    {
      "cell_type": "code",
      "source": [
        "\n",
        "print(\"Suma:\", a + b)\n",
        "print(\"Resta:\", a - b)\n",
        "print(\"Producto:\", a * b)\n",
        "print(\"Potencias:\", a ** b)\n",
        "print(\"División:\", a / b)   # da un float\n",
        "print(\"División entera:\", a // b)\n",
        "print(\"Módulo:\", a % b)     # Resto\n"
      ],
      "metadata": {
        "id": "-835CKMcKZdY"
      },
      "execution_count": null,
      "outputs": []
    }
  ]
}