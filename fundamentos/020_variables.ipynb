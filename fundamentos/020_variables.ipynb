{
  "nbformat": 4,
  "nbformat_minor": 0,
  "metadata": {
    "colab": {
      "provenance": [],
      "authorship_tag": "ABX9TyOaornx5caZ5IJVTucH8AJg",
      "include_colab_link": true
    },
    "kernelspec": {
      "name": "python3",
      "display_name": "Python 3"
    },
    "language_info": {
      "name": "python"
    }
  },
  "cells": [
    {
      "cell_type": "markdown",
      "metadata": {
        "id": "view-in-github",
        "colab_type": "text"
      },
      "source": [
        "<a href=\"https://colab.research.google.com/github/financieras/curso_python/blob/main/fundamentos/020_variables.ipynb\" target=\"_parent\"><img src=\"https://colab.research.google.com/assets/colab-badge.svg\" alt=\"Open In Colab\"/></a>"
      ]
    },
    {
      "cell_type": "markdown",
      "source": [
        "# Hola mundo"
      ],
      "metadata": {
        "id": "518y5vTNWS0_"
      }
    },
    {
      "cell_type": "code",
      "source": [
        "print(\"Hola mundo\")"
      ],
      "metadata": {
        "id": "q8fBVS7ZXcfc",
        "outputId": "fe856b0f-a186-4caa-cbb0-09da1b631185",
        "colab": {
          "base_uri": "https://localhost:8080/"
        }
      },
      "execution_count": null,
      "outputs": [
        {
          "output_type": "stream",
          "name": "stdout",
          "text": [
            "Hola mundo\n"
          ]
        }
      ]
    },
    {
      "cell_type": "markdown",
      "source": [
        "# Variables"
      ],
      "metadata": {
        "id": "XY9EIzMRXeia"
      }
    },
    {
      "cell_type": "code",
      "source": [
        "# creamos dos variables\n",
        "\n",
        "a = 12\n",
        "b = 5"
      ],
      "metadata": {
        "id": "tk_s4Qx1XM7n"
      },
      "execution_count": null,
      "outputs": []
    },
    {
      "cell_type": "markdown",
      "source": [
        "# Operaciones aritméticas"
      ],
      "metadata": {
        "id": "35O48HLPKfzr"
      }
    },
    {
      "cell_type": "code",
      "source": [
        "\n",
        "print(\"Suma:\", a + b)\n",
        "print(\"Resta:\", a - b)\n",
        "print(\"Producto:\", a * b)\n",
        "print(\"División:\", a / b)   # da un float\n",
        "print(\"División entera:\", a // b)\n",
        "print(\"Módulo:\", a % b)     # Resto\n"
      ],
      "metadata": {
        "id": "-835CKMcKZdY",
        "outputId": "f3837b21-52ab-4cb5-9ae6-ceb2c2120b74",
        "colab": {
          "base_uri": "https://localhost:8080/"
        }
      },
      "execution_count": null,
      "outputs": [
        {
          "output_type": "stream",
          "name": "stdout",
          "text": [
            "Suma: 17\n",
            "Resta: 7\n",
            "Producto: 60\n",
            "División: 2.4\n",
            "División entera: 2\n",
            "Módulo: 2\n"
          ]
        }
      ]
    },
    {
      "cell_type": "markdown",
      "source": [
        "# Tipo de datos"
      ],
      "metadata": {
        "id": "eoctOMlhKr0H"
      }
    },
    {
      "cell_type": "code",
      "source": [
        "print(type(5))          # int -> entero\n",
        "print(type(4.3))        # float -> número de coma flotante\n",
        "print(type(\"Hola\"))     # str -> string = cadena alfanumérica\n",
        "print(type(True))       # bool -> booleanos = True o False\n",
        "print(type([1, 2, 3]))  # list -> listas\n",
        "print(type((1, 2, 3)))  # tuple -> tuplas"
      ],
      "metadata": {
        "id": "ES7sLjF_KbmI",
        "outputId": "e52006fc-1430-4ba7-a816-9a40ae63439d",
        "colab": {
          "base_uri": "https://localhost:8080/"
        }
      },
      "execution_count": null,
      "outputs": [
        {
          "output_type": "stream",
          "name": "stdout",
          "text": [
            "<class 'int'>\n",
            "<class 'float'>\n",
            "<class 'str'>\n",
            "<class 'bool'>\n",
            "<class 'list'>\n",
            "<class 'tuple'>\n"
          ]
        }
      ]
    },
    {
      "cell_type": "markdown",
      "source": [
        "## Función `len`\n",
        "* Determina la longitud de una lista o de un string."
      ],
      "metadata": {
        "id": "C8v2BoehZxQI"
      }
    },
    {
      "cell_type": "markdown",
      "source": [
        "### Con cadenas: `len(string)`"
      ],
      "metadata": {
        "id": "mB6aqr4VZ5Ei"
      }
    },
    {
      "cell_type": "code",
      "source": [
        "nombre = \"Ana Laura\"\n",
        "len(nombre)                 # cuenta también el espacio"
      ],
      "metadata": {
        "id": "GlWNtZV4aAzI",
        "outputId": "7baa6ce4-d88c-4d43-b53e-8a9826f12887",
        "colab": {
          "base_uri": "https://localhost:8080/"
        }
      },
      "execution_count": null,
      "outputs": [
        {
          "output_type": "execute_result",
          "data": {
            "text/plain": [
              "9"
            ]
          },
          "metadata": {},
          "execution_count": 5
        }
      ]
    },
    {
      "cell_type": "markdown",
      "source": [
        "### Con listas: `len(list)`"
      ],
      "metadata": {
        "id": "Bd07vT8HawGk"
      }
    },
    {
      "cell_type": "code",
      "source": [
        "vocales = ['a', 'e', 'i', 'o', 'u']\n",
        "len(vocales)"
      ],
      "metadata": {
        "id": "MpYq8PUxayao",
        "outputId": "da0d390d-88fc-4e2e-bddb-ee3a8016d527",
        "colab": {
          "base_uri": "https://localhost:8080/"
        }
      },
      "execution_count": null,
      "outputs": [
        {
          "output_type": "execute_result",
          "data": {
            "text/plain": [
              "5"
            ]
          },
          "metadata": {},
          "execution_count": 6
        }
      ]
    },
    {
      "cell_type": "markdown",
      "source": [
        "## Indexing\n",
        "* Podemos acceder a los elementos de una lista o a los caracteres de un string."
      ],
      "metadata": {
        "id": "do8uCiKpbMmx"
      }
    },
    {
      "cell_type": "markdown",
      "source": [
        "### Con cadenas\n",
        "* Se comienza por el Index cero.\n",
        "\n",
        "| H | o | l | a |\n",
        "|---|---|---|---|\n",
        "| 0 | 1 | 2 | 3 |"
      ],
      "metadata": {
        "id": "R079kSD5bvys"
      }
    },
    {
      "cell_type": "code",
      "source": [
        "saludo = \"Hola\"\n",
        "print(saludo[0])\n",
        "print(saludo[1])\n",
        "print(saludo[2])\n",
        "print(saludo[3])"
      ],
      "metadata": {
        "id": "wvimHvaYb5Si",
        "outputId": "30f518d2-3b81-4fe3-e0ce-a09e15b52468",
        "colab": {
          "base_uri": "https://localhost:8080/"
        }
      },
      "execution_count": null,
      "outputs": [
        {
          "output_type": "stream",
          "name": "stdout",
          "text": [
            "H\n",
            "o\n",
            "l\n",
            "a\n"
          ]
        }
      ]
    },
    {
      "cell_type": "code",
      "source": [
        "print(saludo[-1])"
      ],
      "metadata": {
        "id": "cvlVdXTYcFJ_",
        "outputId": "4b7e267f-769d-4cdb-a5b8-a9ecc453a9a6",
        "colab": {
          "base_uri": "https://localhost:8080/"
        }
      },
      "execution_count": null,
      "outputs": [
        {
          "output_type": "stream",
          "name": "stdout",
          "text": [
            "a\n"
          ]
        }
      ]
    },
    {
      "cell_type": "markdown",
      "source": [
        "### Con listas"
      ],
      "metadata": {
        "id": "zNNZdJdVcqPO"
      }
    },
    {
      "cell_type": "code",
      "source": [
        "seasons = ['spring', 'summer', 'autumn', 'winter']\n",
        "print(seasons[0])\n",
        "print(seasons[1])\n",
        "print(seasons[2])\n",
        "print(seasons[3])"
      ],
      "metadata": {
        "id": "UUKsfRuQctd5",
        "outputId": "b29fe242-8af5-4012-b82c-e9bdaea2cfcc",
        "colab": {
          "base_uri": "https://localhost:8080/"
        }
      },
      "execution_count": null,
      "outputs": [
        {
          "output_type": "stream",
          "name": "stdout",
          "text": [
            "spring\n",
            "summer\n",
            "autumn\n",
            "winter\n"
          ]
        }
      ]
    },
    {
      "cell_type": "code",
      "source": [
        "print(seasons[-1])"
      ],
      "metadata": {
        "id": "qyRy4DYJda-W",
        "outputId": "5f6781ff-93e2-417e-8ee3-5e60aca4ca29",
        "colab": {
          "base_uri": "https://localhost:8080/"
        }
      },
      "execution_count": null,
      "outputs": [
        {
          "output_type": "stream",
          "name": "stdout",
          "text": [
            "winter\n"
          ]
        }
      ]
    },
    {
      "cell_type": "markdown",
      "source": [
        "#### Modificar un valor de una lista"
      ],
      "metadata": {
        "id": "xe9qf3WqeGip"
      }
    },
    {
      "cell_type": "code",
      "source": [
        "seasons[2] = 'fall'\n",
        "seasons"
      ],
      "metadata": {
        "id": "vpn34EWZdeYe",
        "outputId": "5698951c-90ba-4238-cc8e-e55c3acbfb10",
        "colab": {
          "base_uri": "https://localhost:8080/"
        }
      },
      "execution_count": null,
      "outputs": [
        {
          "output_type": "execute_result",
          "data": {
            "text/plain": [
              "['spring', 'summer', 'fall', 'winter']"
            ]
          },
          "metadata": {},
          "execution_count": 11
        }
      ]
    },
    {
      "cell_type": "markdown",
      "source": [
        "## Slicing\n",
        "* Podemos cortar en rebanadas una cadena o una lista."
      ],
      "metadata": {
        "id": "t6ZsDru6ebYc"
      }
    },
    {
      "cell_type": "markdown",
      "source": [
        "### Con listas\n",
        "\n",
        "| ene | feb | mar | abr | may | jun | jul | ago | sep | oct | nov | dic |\n",
        "|:---:|:---:|:---:|:---:|:---:|:---:|:---:|:---:|:---:|:---:|:---:|:---:|\n",
        "|  0  |  1  |  2  |  3  |  4  |  5  |  6  |  7  |  8  |  9  | 10  | 11  |"
      ],
      "metadata": {
        "id": "wR7iFjHgeo-W"
      }
    },
    {
      "cell_type": "code",
      "source": [
        "meses = ['ene', 'feb', 'mar', 'abr', 'may', 'jun', 'jul', 'ago', 'sep', 'oct', 'nov', 'dic']\n",
        "\n",
        "meses[1:5]  # el mes de Index 5 es jun y no aparece"
      ],
      "metadata": {
        "id": "_jFW8GTZerPq",
        "outputId": "8e1cf18a-6a22-4c34-9787-7d2e81e47592",
        "colab": {
          "base_uri": "https://localhost:8080/"
        }
      },
      "execution_count": null,
      "outputs": [
        {
          "output_type": "execute_result",
          "data": {
            "text/plain": [
              "['feb', 'mar', 'abr', 'may']"
            ]
          },
          "metadata": {},
          "execution_count": 12
        }
      ]
    },
    {
      "cell_type": "code",
      "source": [
        "meses[:3]   # el mes de Index 3 es abr y no aparece"
      ],
      "metadata": {
        "id": "9yfWV44xgcZL",
        "outputId": "a69f208d-89d7-4fa2-e2aa-873790d8c9f5",
        "colab": {
          "base_uri": "https://localhost:8080/"
        }
      },
      "execution_count": null,
      "outputs": [
        {
          "output_type": "execute_result",
          "data": {
            "text/plain": [
              "['ene', 'feb', 'mar']"
            ]
          },
          "metadata": {},
          "execution_count": 13
        }
      ]
    },
    {
      "cell_type": "code",
      "source": [
        "meses[10:]"
      ],
      "metadata": {
        "id": "2ch0yi_EgsXZ",
        "outputId": "3940e752-4efb-4518-bb82-bcb8c50a59fe",
        "colab": {
          "base_uri": "https://localhost:8080/"
        }
      },
      "execution_count": null,
      "outputs": [
        {
          "output_type": "execute_result",
          "data": {
            "text/plain": [
              "['nov', 'dic']"
            ]
          },
          "metadata": {},
          "execution_count": 15
        }
      ]
    },
    {
      "cell_type": "markdown",
      "source": [
        "### Con strings\n",
        "\n",
        "| L   | o   |  s  |     |  Á  |  n  |  g  |  e  |  l  |  e  |  s  |\n",
        "|:---:|:---:|:---:|:---:|:---:|:---:|:---:|:---:|:---:|:---:|:---:|\n",
        "|  0  |  1  |  2  |  3  |  4  |  5  |  6  |  7  |  8  |  9  | 10  |"
      ],
      "metadata": {
        "id": "L6F1OYzWhH7K"
      }
    },
    {
      "cell_type": "code",
      "source": [
        "ciudad = \"Los Ángeles\"\n",
        "\n",
        "ciudad[1:5]"
      ],
      "metadata": {
        "id": "yAK8Q0UohqVk",
        "outputId": "4cf72d89-4f2b-4c32-d167-f519ec858be0",
        "colab": {
          "base_uri": "https://localhost:8080/",
          "height": 35
        }
      },
      "execution_count": null,
      "outputs": [
        {
          "output_type": "execute_result",
          "data": {
            "text/plain": [
              "'os Á'"
            ],
            "application/vnd.google.colaboratory.intrinsic+json": {
              "type": "string"
            }
          },
          "metadata": {},
          "execution_count": 17
        }
      ]
    },
    {
      "cell_type": "code",
      "source": [
        "ciudad[:3]"
      ],
      "metadata": {
        "id": "AOSuTOSFhyvY",
        "outputId": "28c33770-3333-4f35-ade7-921cd2eb2a3a",
        "colab": {
          "base_uri": "https://localhost:8080/",
          "height": 35
        }
      },
      "execution_count": null,
      "outputs": [
        {
          "output_type": "execute_result",
          "data": {
            "text/plain": [
              "'Los'"
            ],
            "application/vnd.google.colaboratory.intrinsic+json": {
              "type": "string"
            }
          },
          "metadata": {},
          "execution_count": 18
        }
      ]
    },
    {
      "cell_type": "code",
      "source": [
        "ciudad[4:]"
      ],
      "metadata": {
        "id": "lMeyGzAIh436",
        "outputId": "f3f5ab2e-7602-44d4-9e41-1124b20c4513",
        "colab": {
          "base_uri": "https://localhost:8080/",
          "height": 35
        }
      },
      "execution_count": null,
      "outputs": [
        {
          "output_type": "execute_result",
          "data": {
            "text/plain": [
              "'Ángeles'"
            ],
            "application/vnd.google.colaboratory.intrinsic+json": {
              "type": "string"
            }
          },
          "metadata": {},
          "execution_count": 20
        }
      ]
    },
    {
      "cell_type": "markdown",
      "source": [
        "## Concatenar cadenas"
      ],
      "metadata": {
        "id": "RvDcp8RJmyqF"
      }
    },
    {
      "cell_type": "code",
      "source": [
        "ciudad = \"Londres\"\n",
        "nombre = \"Sandra\"\n",
        "\n",
        "ciudad + nombre"
      ],
      "metadata": {
        "id": "zLqoJ_Cwm3WB",
        "outputId": "9de4c338-0470-4b18-b8cc-73144c25d070",
        "colab": {
          "base_uri": "https://localhost:8080/",
          "height": 35
        }
      },
      "execution_count": 22,
      "outputs": [
        {
          "output_type": "execute_result",
          "data": {
            "text/plain": [
              "'LondresSandra'"
            ],
            "application/vnd.google.colaboratory.intrinsic+json": {
              "type": "string"
            }
          },
          "metadata": {},
          "execution_count": 22
        }
      ]
    },
    {
      "cell_type": "code",
      "source": [
        "print(\"Me llamo \" + nombre + \" y vivo en \" + ciudad)"
      ],
      "metadata": {
        "id": "-5jWXvpWnL2A",
        "outputId": "8d792cc0-0d54-4031-f941-f63dca78b381",
        "colab": {
          "base_uri": "https://localhost:8080/"
        }
      },
      "execution_count": 24,
      "outputs": [
        {
          "output_type": "stream",
          "name": "stdout",
          "text": [
            "Me llamo Sandra y vivo en Londres\n"
          ]
        }
      ]
    },
    {
      "cell_type": "markdown",
      "source": [
        "## Imprimir con formato"
      ],
      "metadata": {
        "id": "GKVY1OAwmcMq"
      }
    },
    {
      "cell_type": "code",
      "source": [
        "edad = 17\n",
        "nombre = 'Ana'\n",
        "\n",
        "print(\"Me llamo\", nombre, \"y tengo\", edad, \"años.\")"
      ],
      "metadata": {
        "id": "lpg9kRUrmbkI",
        "outputId": "a971a61b-d8f0-4ccc-8ef5-984f11c6540b",
        "colab": {
          "base_uri": "https://localhost:8080/"
        }
      },
      "execution_count": 26,
      "outputs": [
        {
          "output_type": "stream",
          "name": "stdout",
          "text": [
            "Me llamo Ana y tengo 17 años.\n"
          ]
        }
      ]
    },
    {
      "cell_type": "code",
      "source": [
        "print(f\"Me llamo {nombre}, y tengo {edad} años.\")"
      ],
      "metadata": {
        "id": "KkdHyDMYnnhY",
        "outputId": "ab5ed60e-8466-451f-9296-df331e3880b7",
        "colab": {
          "base_uri": "https://localhost:8080/"
        }
      },
      "execution_count": 27,
      "outputs": [
        {
          "output_type": "stream",
          "name": "stdout",
          "text": [
            "Me llamo Ana, y tengo 17 años.\n"
          ]
        }
      ]
    }
  ]
}