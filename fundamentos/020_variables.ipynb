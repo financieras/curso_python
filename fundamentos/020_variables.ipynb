{
  "nbformat": 4,
  "nbformat_minor": 0,
  "metadata": {
    "colab": {
      "provenance": [],
      "authorship_tag": "ABX9TyNRe7AoN5xlkw0DVgb30hFM",
      "include_colab_link": true
    },
    "kernelspec": {
      "name": "python3",
      "display_name": "Python 3"
    },
    "language_info": {
      "name": "python"
    }
  },
  "cells": [
    {
      "cell_type": "markdown",
      "metadata": {
        "id": "view-in-github",
        "colab_type": "text"
      },
      "source": [
        "<a href=\"https://colab.research.google.com/github/financieras/curso_python/blob/main/fundamentos/020_variables.ipynb\" target=\"_parent\"><img src=\"https://colab.research.google.com/assets/colab-badge.svg\" alt=\"Open In Colab\"/></a>"
      ]
    },
    {
      "cell_type": "markdown",
      "source": [
        "# Hola mundo"
      ],
      "metadata": {
        "id": "518y5vTNWS0_"
      }
    },
    {
      "cell_type": "code",
      "source": [
        "print(\"Hola mundo\")"
      ],
      "metadata": {
        "id": "q8fBVS7ZXcfc"
      },
      "execution_count": null,
      "outputs": []
    },
    {
      "cell_type": "markdown",
      "source": [
        "# Variables"
      ],
      "metadata": {
        "id": "XY9EIzMRXeia"
      }
    },
    {
      "cell_type": "code",
      "source": [
        "# variables\n",
        "a = 12\n",
        "b = 5\n",
        "\n",
        "# operaciones aritméticas\n",
        "\n",
        "print(\"Suma:\", a + b)\n",
        "print(\"Resta:\", a - b)\n",
        "print(\"Producto:\", a * b)\n",
        "print(\"División:\", a / b)\n",
        "print(\"División entera:\", a // b)\n",
        "print(\"Módulo:\", a % b)     # Resto\n",
        "\n",
        "# Tipos de datos\n",
        "\n",
        "print(type(5))          # int -> entero\n",
        "print(type(4.3))        # float -> número de coma flotante\n",
        "print(type(\"Hola\"))     # str -> string = cadena alfanumérica\n",
        "print(type(True))       # bool -> booleanos = True o False\n",
        "print(type([1, 2, 3]))  # list -> listas\n",
        "print(type((1, 2, 3)))  # tuple -> tuplas\n"
      ],
      "metadata": {
        "id": "tk_s4Qx1XM7n"
      },
      "execution_count": null,
      "outputs": []
    }
  ]
}