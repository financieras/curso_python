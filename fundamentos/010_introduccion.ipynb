{
  "nbformat": 4,
  "nbformat_minor": 0,
  "metadata": {
    "colab": {
      "provenance": [],
      "authorship_tag": "ABX9TyPpMAm23RPyekH6uT6TTZOV",
      "include_colab_link": true
    },
    "kernelspec": {
      "name": "python3",
      "display_name": "Python 3"
    },
    "language_info": {
      "name": "python"
    }
  },
  "cells": [
    {
      "cell_type": "markdown",
      "metadata": {
        "id": "view-in-github",
        "colab_type": "text"
      },
      "source": [
        "<a href=\"https://colab.research.google.com/github/financieras/curso_python/blob/main/fundamentos/010_introduccion.ipynb\" target=\"_parent\"><img src=\"https://colab.research.google.com/assets/colab-badge.svg\" alt=\"Open In Colab\"/></a>"
      ]
    },
    {
      "cell_type": "markdown",
      "source": [
        "# Introducción a Python\n",
        "1. Python es un lenguaje de programación de alto nivel (cercano al lenguaje humano)\n",
        "2. Amigable\n",
        "3. Con una gran comunidad ([stackoverflow](https://stackoverflow.com/questions/tagged/python))\n",
        "4. Con gran demanda en:\n",
        "    - ciencia de datos\n",
        "    - ia\n",
        "    - desarrollo web (django)\n",
        "    - iot (internet de las cosas)\n",
        "5. Ver el [índice TIOBE](https://www.tiobe.com/tiobe-index)"
      ],
      "metadata": {
        "id": "HGlC7BuIIRNN"
      }
    },
    {
      "cell_type": "markdown",
      "source": [
        "## Ejecutar Python\n",
        "Existen varias posibles formas de trabajar con Python.\n",
        "\n",
        "\n",
        "1. Descargar e instalar la última versión de Python desde su página oficial ([python.org](https://www.python.org)) y usar un editor como por ejemplo [Visual Studio Code](https://code.visualstudio.com) que actualmente es el más utilizado.\n",
        "2. Usar un editor online como por ejemplo:\n",
        "    1. [online-python.com](https://www.online-python.com)\n",
        "    2. [programiz](https://programiz.pro/ide/python)\n",
        "    3. [onlinegdb.com](https://www.onlinegdb.com/online_python_compiler)\n",
        "    4. [onecompiler](https://onecompiler.com/python)\n",
        "    5. [tutorialspoint](https://www.tutorialspoint.com/online_python_compiler.php)\n",
        "    6. [trinket](https://trinket.io/embed/python3/a5bd54189b)\n",
        "    7. [jdoodle](https://www.jdoodle.com/python3-programming-online)\n",
        "    8. [replit.com](https://replit.com)\n",
        "3. Usar un bloc de notas de tipo [Jupyter Notebook](https://jupyter.org) como por ejemplo [Google Colab](https://colab.research.google.com/?hl=es). Esta opción es muy usada por los profesionales de [Data science](https://es.wikipedia.org/wiki/Ciencia_de_datos)\n",
        "4. Usar un editor de código sencillo, enfocado a principiantes, como por ejemplo [Thonny](https://thonny.org)\n",
        "\n"
      ],
      "metadata": {
        "id": "lsoJa07zLy0Y"
      }
    },
    {
      "cell_type": "markdown",
      "source": [
        "## Recursos Python\n",
        "[Recursos Python](https://altocodigo.blogspot.com/2020/05/recursos-python.html)"
      ],
      "metadata": {
        "id": "hiOi3F6qLAwI"
      }
    }
  ]
}