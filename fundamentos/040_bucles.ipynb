{
  "nbformat": 4,
  "nbformat_minor": 0,
  "metadata": {
    "colab": {
      "provenance": [],
      "authorship_tag": "ABX9TyPZ8yqcNsEhdAAKLBe85J5m",
      "include_colab_link": true
    },
    "kernelspec": {
      "name": "python3",
      "display_name": "Python 3"
    },
    "language_info": {
      "name": "python"
    }
  },
  "cells": [
    {
      "cell_type": "markdown",
      "metadata": {
        "id": "view-in-github",
        "colab_type": "text"
      },
      "source": [
        "<a href=\"https://colab.research.google.com/github/financieras/curso_python/blob/main/fundamentos/040_bucles.ipynb\" target=\"_parent\"><img src=\"https://colab.research.google.com/assets/colab-badge.svg\" alt=\"Open In Colab\"/></a>"
      ]
    },
    {
      "cell_type": "markdown",
      "source": [
        "# Bucles\n",
        "* Permiten ejecutar código que se repite.\n",
        "* Veremos dos tipos:\n",
        "    1. bucle `while`\n",
        "    2. bucle `for`"
      ],
      "metadata": {
        "id": "u9z8zHFsO36t"
      }
    },
    {
      "cell_type": "markdown",
      "source": [
        "# Bucle `while`\n",
        "\n",
        "<pre>\n",
        "while condición:\n",
        "    instrucciones\n",
        "</pre>\n",
        "\n",
        "* El tabulador es importante.\n",
        "* Las estructuras en Python requieren indentación"
      ],
      "metadata": {
        "id": "4CinPjXaII1N"
      }
    },
    {
      "cell_type": "code",
      "source": [
        "i = 0\n",
        "\n",
        "while i < 5:\n",
        "    print(i, \"Hola\")\n",
        "    i += 1              # equivale a poner: i = i + 1"
      ],
      "metadata": {
        "colab": {
          "base_uri": "https://localhost:8080/"
        },
        "id": "Uu-1btI_IOss",
        "outputId": "19cc5fbf-5f5e-4957-fd56-71789e5490af"
      },
      "execution_count": null,
      "outputs": [
        {
          "output_type": "stream",
          "name": "stdout",
          "text": [
            "0 Hola\n",
            "1 Hola\n",
            "2 Hola\n",
            "3 Hola\n",
            "4 Hola\n"
          ]
        }
      ]
    },
    {
      "cell_type": "markdown",
      "source": [
        "## Imprimir los elemento de una lista"
      ],
      "metadata": {
        "id": "O1vs3Nh0Hw7-"
      }
    },
    {
      "cell_type": "code",
      "source": [
        "dias = ['lun', 'mar', 'mie', 'jue', 'vie', 'sáb', 'dom']\n",
        "\n",
        "n = len(dias)       # la función len da la longitud de la lista\n",
        "i = 0               # contador. Los index comienzan en cero\n",
        "\n",
        "while i < n:\n",
        "    print(dias[i])\n",
        "    i += 1          # incrementamos el valor del contador de 1 en 1"
      ],
      "metadata": {
        "id": "Ql-yk5kbH2oT",
        "outputId": "387094df-0a63-4f4c-979b-54fd63dd0940",
        "colab": {
          "base_uri": "https://localhost:8080/"
        }
      },
      "execution_count": 2,
      "outputs": [
        {
          "output_type": "stream",
          "name": "stdout",
          "text": [
            "lun\n",
            "mar\n",
            "mie\n",
            "jue\n",
            "vie\n",
            "sáb\n",
            "dom\n"
          ]
        }
      ]
    },
    {
      "cell_type": "markdown",
      "source": [
        "# Bucle `for`"
      ],
      "metadata": {
        "id": "BgWytnlBZFII"
      }
    }
  ]
}