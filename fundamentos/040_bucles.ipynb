{
  "nbformat": 4,
  "nbformat_minor": 0,
  "metadata": {
    "colab": {
      "provenance": [],
      "authorship_tag": "ABX9TyNoXUvZDLG4AxEGfWJ23N2G",
      "include_colab_link": true
    },
    "kernelspec": {
      "name": "python3",
      "display_name": "Python 3"
    },
    "language_info": {
      "name": "python"
    }
  },
  "cells": [
    {
      "cell_type": "markdown",
      "metadata": {
        "id": "view-in-github",
        "colab_type": "text"
      },
      "source": [
        "<a href=\"https://colab.research.google.com/github/financieras/curso_python/blob/main/fundamentos/040_bucles.ipynb\" target=\"_parent\"><img src=\"https://colab.research.google.com/assets/colab-badge.svg\" alt=\"Open In Colab\"/></a>"
      ]
    },
    {
      "cell_type": "markdown",
      "source": [
        "# Bucles\n",
        "* Permiten ejecutar código que se repite.\n",
        "* Veremos dos tipos:\n",
        "    1. bucle `while`\n",
        "    2. bucle `for`"
      ],
      "metadata": {
        "id": "u9z8zHFsO36t"
      }
    },
    {
      "cell_type": "markdown",
      "source": [
        "# Bucle `while`\n",
        "\n",
        "<pre>\n",
        "while condición:\n",
        "    instrucciones\n",
        "</pre>\n",
        "\n",
        "* El tabulador es importante.\n",
        "* Las estructuras en Python requieren indentación"
      ],
      "metadata": {
        "id": "4CinPjXaII1N"
      }
    },
    {
      "cell_type": "code",
      "source": [
        "i = 0\n",
        "\n",
        "while i < 5:\n",
        "    print(i, \"Hola\")\n",
        "    i += 1              # equivale a poner: i = i + 1"
      ],
      "metadata": {
        "colab": {
          "base_uri": "https://localhost:8080/"
        },
        "id": "Uu-1btI_IOss",
        "outputId": "19cc5fbf-5f5e-4957-fd56-71789e5490af"
      },
      "execution_count": null,
      "outputs": [
        {
          "output_type": "stream",
          "name": "stdout",
          "text": [
            "0 Hola\n",
            "1 Hola\n",
            "2 Hola\n",
            "3 Hola\n",
            "4 Hola\n"
          ]
        }
      ]
    },
    {
      "cell_type": "markdown",
      "source": [
        "## Imprimir los elemento de una lista"
      ],
      "metadata": {
        "id": "O1vs3Nh0Hw7-"
      }
    },
    {
      "cell_type": "code",
      "source": [
        "dias = ['lun', 'mar', 'mie', 'jue', 'vie', 'sáb', 'dom']\n",
        "\n",
        "n = len(dias)       # la función len da la longitud de la lista\n",
        "i = 0               # contador. Los index comienzan en cero\n",
        "\n",
        "while i < n:\n",
        "    print(dias[i])\n",
        "    i += 1          # incrementamos el valor del contador de 1 en 1"
      ],
      "metadata": {
        "id": "Ql-yk5kbH2oT",
        "outputId": "387094df-0a63-4f4c-979b-54fd63dd0940",
        "colab": {
          "base_uri": "https://localhost:8080/"
        }
      },
      "execution_count": 2,
      "outputs": [
        {
          "output_type": "stream",
          "name": "stdout",
          "text": [
            "lun\n",
            "mar\n",
            "mie\n",
            "jue\n",
            "vie\n",
            "sáb\n",
            "dom\n"
          ]
        }
      ]
    },
    {
      "cell_type": "markdown",
      "source": [
        "# Bucle `for`\n",
        "* El bucle `for` se usa cuando ya sabemos cuantos cíclos son necesarios.\n",
        "* En el bucle `while` no sabemos inicialmente cuantos ciclos se darán ya que se itera mientras se cumpla la condición."
      ],
      "metadata": {
        "id": "aB6CrE7bN1-t"
      }
    },
    {
      "cell_type": "code",
      "source": [
        "for i in range(5):\n",
        "    print(i)"
      ],
      "metadata": {
        "colab": {
          "base_uri": "https://localhost:8080/"
        },
        "id": "eScOA3soN_IH",
        "outputId": "166597ec-576c-4778-a06d-6980daaf7b19"
      },
      "execution_count": null,
      "outputs": [
        {
          "output_type": "stream",
          "name": "stdout",
          "text": [
            "0\n",
            "1\n",
            "2\n",
            "3\n",
            "4\n"
          ]
        }
      ]
    },
    {
      "cell_type": "code",
      "source": [
        "for i in range(1, 6):\n",
        "    print(i)"
      ],
      "metadata": {
        "colab": {
          "base_uri": "https://localhost:8080/"
        },
        "id": "f-j_shZ4OJMj",
        "outputId": "1938ecc0-31c3-494a-ec2c-ec088efbc127"
      },
      "execution_count": null,
      "outputs": [
        {
          "output_type": "stream",
          "name": "stdout",
          "text": [
            "1\n",
            "2\n",
            "3\n",
            "4\n",
            "5\n"
          ]
        }
      ]
    },
    {
      "cell_type": "markdown",
      "source": [
        "## Iterar una lista"
      ],
      "metadata": {
        "id": "EpjWjEJaOhpT"
      }
    },
    {
      "cell_type": "code",
      "source": [
        "ciudades = ['Londres', 'Paris', 'Roma', 'Berlín', 'Madrid']\n",
        "\n",
        "for ciudad in ciudades:\n",
        "    print(ciudad)"
      ],
      "metadata": {
        "colab": {
          "base_uri": "https://localhost:8080/"
        },
        "id": "PvgQV9m2Okdf",
        "outputId": "bb8372b3-8bfc-4d16-9e40-d37054ede19a"
      },
      "execution_count": null,
      "outputs": [
        {
          "output_type": "stream",
          "name": "stdout",
          "text": [
            "Londres\n",
            "Paris\n",
            "Roma\n",
            "Berlín\n",
            "Madrid\n"
          ]
        }
      ]
    },
    {
      "cell_type": "code",
      "source": [
        "ciudades = ['Londres', 'Paris', 'Roma', 'Berlín', 'Madrid']\n",
        "\n",
        "for i in range(len(ciudades)):\n",
        "    print(i+1, ciudades[i])"
      ],
      "metadata": {
        "colab": {
          "base_uri": "https://localhost:8080/"
        },
        "id": "yphThz-tOUqt",
        "outputId": "86b01583-950c-4ec9-830a-6dff1cd0ce6d"
      },
      "execution_count": null,
      "outputs": [
        {
          "output_type": "stream",
          "name": "stdout",
          "text": [
            "1 Londres\n",
            "2 Paris\n",
            "3 Roma\n",
            "4 Berlín\n",
            "5 Madrid\n"
          ]
        }
      ]
    }
  ]
}