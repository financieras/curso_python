{
  "nbformat": 4,
  "nbformat_minor": 0,
  "metadata": {
    "colab": {
      "provenance": [],
      "authorship_tag": "ABX9TyPOIEiMc+cemI1UmMceK4wE",
      "include_colab_link": true
    },
    "kernelspec": {
      "name": "python3",
      "display_name": "Python 3"
    },
    "language_info": {
      "name": "python"
    }
  },
  "cells": [
    {
      "cell_type": "markdown",
      "metadata": {
        "id": "view-in-github",
        "colab_type": "text"
      },
      "source": [
        "<a href=\"https://colab.research.google.com/github/financieras/curso_python/blob/main/fundamentos/030_tipos_de_datos.ipynb\" target=\"_parent\"><img src=\"https://colab.research.google.com/assets/colab-badge.svg\" alt=\"Open In Colab\"/></a>"
      ]
    },
    {
      "cell_type": "markdown",
      "source": [
        "# Tipos de datos"
      ],
      "metadata": {
        "id": "eoctOMlhKr0H"
      }
    },
    {
      "cell_type": "code",
      "source": [
        "print(type(5))                  # int -> entero\n",
        "print(type(4.3))                # float -> número de coma flotante\n",
        "print(type(\"Hola\"))             # str -> string = cadena alfanumérica\n",
        "print(type(True))               # bool -> booleanos = True o False\n",
        "print(type([1, 2, 3]))          # list -> listas\n",
        "print(type((1, 2, 3)))          # tuple -> tuplas\n",
        "print(type({1:'one', 2:'two'})) # dict -> diccionario. Pares de:  clave: valor\n",
        "print(type({1, 2, 3}))          # set -> conjunto\n",
        "print(type(None))               # NoneType -> indica que no hay dato"
      ],
      "metadata": {
        "id": "ES7sLjF_KbmI",
        "outputId": "18a86748-9a17-4b5c-ce01-7580dbed2080",
        "colab": {
          "base_uri": "https://localhost:8080/"
        }
      },
      "execution_count": 3,
      "outputs": [
        {
          "output_type": "stream",
          "name": "stdout",
          "text": [
            "<class 'int'>\n",
            "<class 'float'>\n",
            "<class 'str'>\n",
            "<class 'bool'>\n",
            "<class 'list'>\n",
            "<class 'tuple'>\n",
            "<class 'dict'>\n",
            "<class 'set'>\n",
            "<class 'NoneType'>\n"
          ]
        }
      ]
    },
    {
      "cell_type": "markdown",
      "source": [
        "## Función `len`\n",
        "* Determina la longitud de una lista o de un string."
      ],
      "metadata": {
        "id": "C8v2BoehZxQI"
      }
    },
    {
      "cell_type": "markdown",
      "source": [
        "### Con cadenas: `len(string)`"
      ],
      "metadata": {
        "id": "mB6aqr4VZ5Ei"
      }
    },
    {
      "cell_type": "code",
      "source": [
        "nombre = \"Ana Laura\"\n",
        "len(nombre)                 # cuenta también el espacio"
      ],
      "metadata": {
        "id": "GlWNtZV4aAzI",
        "outputId": "7baa6ce4-d88c-4d43-b53e-8a9826f12887",
        "colab": {
          "base_uri": "https://localhost:8080/"
        }
      },
      "execution_count": null,
      "outputs": [
        {
          "output_type": "execute_result",
          "data": {
            "text/plain": [
              "9"
            ]
          },
          "metadata": {},
          "execution_count": 5
        }
      ]
    },
    {
      "cell_type": "markdown",
      "source": [
        "### Con listas: `len(list)`"
      ],
      "metadata": {
        "id": "Bd07vT8HawGk"
      }
    },
    {
      "cell_type": "code",
      "source": [
        "vocales = ['a', 'e', 'i', 'o', 'u']\n",
        "len(vocales)"
      ],
      "metadata": {
        "id": "MpYq8PUxayao",
        "outputId": "da0d390d-88fc-4e2e-bddb-ee3a8016d527",
        "colab": {
          "base_uri": "https://localhost:8080/"
        }
      },
      "execution_count": null,
      "outputs": [
        {
          "output_type": "execute_result",
          "data": {
            "text/plain": [
              "5"
            ]
          },
          "metadata": {},
          "execution_count": 6
        }
      ]
    },
    {
      "cell_type": "markdown",
      "source": [
        "## Indexing\n",
        "* Podemos acceder a los elementos de una lista o a los caracteres de un string."
      ],
      "metadata": {
        "id": "do8uCiKpbMmx"
      }
    },
    {
      "cell_type": "markdown",
      "source": [
        "### Con cadenas\n",
        "* Se comienza por el Index cero.\n",
        "\n",
        "| H | o | l | a |\n",
        "|---|---|---|---|\n",
        "| 0 | 1 | 2 | 3 |"
      ],
      "metadata": {
        "id": "R079kSD5bvys"
      }
    },
    {
      "cell_type": "code",
      "source": [
        "saludo = \"Hola\"\n",
        "print(saludo[0])\n",
        "print(saludo[1])\n",
        "print(saludo[2])\n",
        "print(saludo[3])"
      ],
      "metadata": {
        "id": "wvimHvaYb5Si",
        "outputId": "30f518d2-3b81-4fe3-e0ce-a09e15b52468",
        "colab": {
          "base_uri": "https://localhost:8080/"
        }
      },
      "execution_count": null,
      "outputs": [
        {
          "output_type": "stream",
          "name": "stdout",
          "text": [
            "H\n",
            "o\n",
            "l\n",
            "a\n"
          ]
        }
      ]
    },
    {
      "cell_type": "code",
      "source": [
        "print(saludo[-1])"
      ],
      "metadata": {
        "id": "cvlVdXTYcFJ_",
        "outputId": "4b7e267f-769d-4cdb-a5b8-a9ecc453a9a6",
        "colab": {
          "base_uri": "https://localhost:8080/"
        }
      },
      "execution_count": null,
      "outputs": [
        {
          "output_type": "stream",
          "name": "stdout",
          "text": [
            "a\n"
          ]
        }
      ]
    },
    {
      "cell_type": "markdown",
      "source": [
        "### Con listas"
      ],
      "metadata": {
        "id": "zNNZdJdVcqPO"
      }
    },
    {
      "cell_type": "code",
      "source": [
        "seasons = ['spring', 'summer', 'autumn', 'winter']\n",
        "print(seasons[0])\n",
        "print(seasons[1])\n",
        "print(seasons[2])\n",
        "print(seasons[3])"
      ],
      "metadata": {
        "id": "UUKsfRuQctd5",
        "outputId": "b29fe242-8af5-4012-b82c-e9bdaea2cfcc",
        "colab": {
          "base_uri": "https://localhost:8080/"
        }
      },
      "execution_count": null,
      "outputs": [
        {
          "output_type": "stream",
          "name": "stdout",
          "text": [
            "spring\n",
            "summer\n",
            "autumn\n",
            "winter\n"
          ]
        }
      ]
    },
    {
      "cell_type": "code",
      "source": [
        "print(seasons[-1])"
      ],
      "metadata": {
        "id": "qyRy4DYJda-W",
        "outputId": "5f6781ff-93e2-417e-8ee3-5e60aca4ca29",
        "colab": {
          "base_uri": "https://localhost:8080/"
        }
      },
      "execution_count": null,
      "outputs": [
        {
          "output_type": "stream",
          "name": "stdout",
          "text": [
            "winter\n"
          ]
        }
      ]
    },
    {
      "cell_type": "markdown",
      "source": [
        "#### Modificar un valor de una lista"
      ],
      "metadata": {
        "id": "xe9qf3WqeGip"
      }
    },
    {
      "cell_type": "code",
      "source": [
        "seasons[2] = 'fall'\n",
        "seasons"
      ],
      "metadata": {
        "id": "vpn34EWZdeYe",
        "outputId": "5698951c-90ba-4238-cc8e-e55c3acbfb10",
        "colab": {
          "base_uri": "https://localhost:8080/"
        }
      },
      "execution_count": null,
      "outputs": [
        {
          "output_type": "execute_result",
          "data": {
            "text/plain": [
              "['spring', 'summer', 'fall', 'winter']"
            ]
          },
          "metadata": {},
          "execution_count": 11
        }
      ]
    },
    {
      "cell_type": "markdown",
      "source": [
        "## Slicing\n",
        "* Podemos cortar en rebanadas una cadena o una lista."
      ],
      "metadata": {
        "id": "t6ZsDru6ebYc"
      }
    },
    {
      "cell_type": "markdown",
      "source": [
        "### Con listas\n",
        "\n",
        "| ene | feb | mar | abr | may | jun | jul | ago | sep | oct | nov | dic |\n",
        "|:---:|:---:|:---:|:---:|:---:|:---:|:---:|:---:|:---:|:---:|:---:|:---:|\n",
        "|  0  |  1  |  2  |  3  |  4  |  5  |  6  |  7  |  8  |  9  | 10  | 11  |"
      ],
      "metadata": {
        "id": "wR7iFjHgeo-W"
      }
    },
    {
      "cell_type": "code",
      "source": [
        "meses = ['ene', 'feb', 'mar', 'abr', 'may', 'jun', 'jul', 'ago', 'sep', 'oct', 'nov', 'dic']\n",
        "\n",
        "meses[1:5]  # el mes de Index 5 es jun y no aparece"
      ],
      "metadata": {
        "id": "_jFW8GTZerPq",
        "outputId": "8e1cf18a-6a22-4c34-9787-7d2e81e47592",
        "colab": {
          "base_uri": "https://localhost:8080/"
        }
      },
      "execution_count": null,
      "outputs": [
        {
          "output_type": "execute_result",
          "data": {
            "text/plain": [
              "['feb', 'mar', 'abr', 'may']"
            ]
          },
          "metadata": {},
          "execution_count": 12
        }
      ]
    },
    {
      "cell_type": "code",
      "source": [
        "meses[:3]   # el mes de Index 3 es abr y no aparece"
      ],
      "metadata": {
        "id": "9yfWV44xgcZL",
        "outputId": "a69f208d-89d7-4fa2-e2aa-873790d8c9f5",
        "colab": {
          "base_uri": "https://localhost:8080/"
        }
      },
      "execution_count": null,
      "outputs": [
        {
          "output_type": "execute_result",
          "data": {
            "text/plain": [
              "['ene', 'feb', 'mar']"
            ]
          },
          "metadata": {},
          "execution_count": 13
        }
      ]
    },
    {
      "cell_type": "code",
      "source": [
        "meses[10:]"
      ],
      "metadata": {
        "id": "2ch0yi_EgsXZ",
        "outputId": "3940e752-4efb-4518-bb82-bcb8c50a59fe",
        "colab": {
          "base_uri": "https://localhost:8080/"
        }
      },
      "execution_count": null,
      "outputs": [
        {
          "output_type": "execute_result",
          "data": {
            "text/plain": [
              "['nov', 'dic']"
            ]
          },
          "metadata": {},
          "execution_count": 15
        }
      ]
    },
    {
      "cell_type": "markdown",
      "source": [
        "### Con strings\n",
        "\n",
        "| L   | o   |  s  |     |  Á  |  n  |  g  |  e  |  l  |  e  |  s  |\n",
        "|:---:|:---:|:---:|:---:|:---:|:---:|:---:|:---:|:---:|:---:|:---:|\n",
        "|  0  |  1  |  2  |  3  |  4  |  5  |  6  |  7  |  8  |  9  | 10  |"
      ],
      "metadata": {
        "id": "L6F1OYzWhH7K"
      }
    },
    {
      "cell_type": "code",
      "source": [
        "ciudad = \"Los Ángeles\"\n",
        "\n",
        "ciudad[1:5]"
      ],
      "metadata": {
        "id": "yAK8Q0UohqVk",
        "outputId": "4cf72d89-4f2b-4c32-d167-f519ec858be0",
        "colab": {
          "base_uri": "https://localhost:8080/",
          "height": 35
        }
      },
      "execution_count": null,
      "outputs": [
        {
          "output_type": "execute_result",
          "data": {
            "text/plain": [
              "'os Á'"
            ],
            "application/vnd.google.colaboratory.intrinsic+json": {
              "type": "string"
            }
          },
          "metadata": {},
          "execution_count": 17
        }
      ]
    },
    {
      "cell_type": "code",
      "source": [
        "ciudad[:3]"
      ],
      "metadata": {
        "id": "AOSuTOSFhyvY",
        "outputId": "28c33770-3333-4f35-ade7-921cd2eb2a3a",
        "colab": {
          "base_uri": "https://localhost:8080/",
          "height": 35
        }
      },
      "execution_count": null,
      "outputs": [
        {
          "output_type": "execute_result",
          "data": {
            "text/plain": [
              "'Los'"
            ],
            "application/vnd.google.colaboratory.intrinsic+json": {
              "type": "string"
            }
          },
          "metadata": {},
          "execution_count": 18
        }
      ]
    },
    {
      "cell_type": "code",
      "source": [
        "ciudad[4:]"
      ],
      "metadata": {
        "id": "lMeyGzAIh436",
        "outputId": "f3f5ab2e-7602-44d4-9e41-1124b20c4513",
        "colab": {
          "base_uri": "https://localhost:8080/",
          "height": 35
        }
      },
      "execution_count": null,
      "outputs": [
        {
          "output_type": "execute_result",
          "data": {
            "text/plain": [
              "'Ángeles'"
            ],
            "application/vnd.google.colaboratory.intrinsic+json": {
              "type": "string"
            }
          },
          "metadata": {},
          "execution_count": 20
        }
      ]
    },
    {
      "cell_type": "markdown",
      "source": [
        "## Concatenar cadenas"
      ],
      "metadata": {
        "id": "RvDcp8RJmyqF"
      }
    },
    {
      "cell_type": "code",
      "source": [
        "ciudad = \"Londres\"\n",
        "nombre = \"Sandra\"\n",
        "\n",
        "ciudad + nombre"
      ],
      "metadata": {
        "id": "zLqoJ_Cwm3WB",
        "outputId": "9de4c338-0470-4b18-b8cc-73144c25d070",
        "colab": {
          "base_uri": "https://localhost:8080/",
          "height": 35
        }
      },
      "execution_count": null,
      "outputs": [
        {
          "output_type": "execute_result",
          "data": {
            "text/plain": [
              "'LondresSandra'"
            ],
            "application/vnd.google.colaboratory.intrinsic+json": {
              "type": "string"
            }
          },
          "metadata": {},
          "execution_count": 22
        }
      ]
    },
    {
      "cell_type": "code",
      "source": [
        "print(\"Me llamo \" + nombre + \" y vivo en \" + ciudad)"
      ],
      "metadata": {
        "id": "-5jWXvpWnL2A",
        "outputId": "8d792cc0-0d54-4031-f941-f63dca78b381",
        "colab": {
          "base_uri": "https://localhost:8080/"
        }
      },
      "execution_count": null,
      "outputs": [
        {
          "output_type": "stream",
          "name": "stdout",
          "text": [
            "Me llamo Sandra y vivo en Londres\n"
          ]
        }
      ]
    },
    {
      "cell_type": "markdown",
      "source": [
        "## Imprimir con formato"
      ],
      "metadata": {
        "id": "GKVY1OAwmcMq"
      }
    },
    {
      "cell_type": "markdown",
      "source": [
        "#### Separando con comas en el `print`"
      ],
      "metadata": {
        "id": "u4-e0S7pdvLQ"
      }
    },
    {
      "cell_type": "code",
      "source": [
        "edad = 17\n",
        "nombre = 'Ana'\n",
        "\n",
        "print(\"Me llamo\", nombre, \"y tengo\", edad, \"años.\")"
      ],
      "metadata": {
        "id": "lpg9kRUrmbkI",
        "outputId": "a971a61b-d8f0-4ccc-8ef5-984f11c6540b",
        "colab": {
          "base_uri": "https://localhost:8080/"
        }
      },
      "execution_count": null,
      "outputs": [
        {
          "output_type": "stream",
          "name": "stdout",
          "text": [
            "Me llamo Ana y tengo 17 años.\n"
          ]
        }
      ]
    },
    {
      "cell_type": "markdown",
      "source": [
        "#### Concatenando\n",
        "* Tenemos que usar la función `str()` para convertir un número en un string."
      ],
      "metadata": {
        "id": "zP3h3onydebT"
      }
    },
    {
      "cell_type": "code",
      "source": [
        "print(\"Me llamo \" + nombre + \" y tengo \" + str(edad) + \" años\")"
      ],
      "metadata": {
        "id": "xPgv_NxudcYS"
      },
      "execution_count": null,
      "outputs": []
    },
    {
      "cell_type": "markdown",
      "source": [
        "#### Otra forma de escribirlo más moderna, con formato `f`"
      ],
      "metadata": {
        "id": "JTSGrMWmVxTz"
      }
    },
    {
      "cell_type": "code",
      "source": [
        "print(f\"Me llamo {nombre}, y tengo {edad} años.\")"
      ],
      "metadata": {
        "id": "KkdHyDMYnnhY",
        "outputId": "ab5ed60e-8466-451f-9296-df331e3880b7",
        "colab": {
          "base_uri": "https://localhost:8080/"
        }
      },
      "execution_count": null,
      "outputs": [
        {
          "output_type": "stream",
          "name": "stdout",
          "text": [
            "Me llamo Ana, y tengo 17 años.\n"
          ]
        }
      ]
    },
    {
      "cell_type": "markdown",
      "source": [
        "## Números y literales\n",
        "¿ `5 == '5'` ?\n"
      ],
      "metadata": {
        "id": "50QFJvbj4VNt"
      }
    },
    {
      "cell_type": "code",
      "source": [
        "x = 5       # un solo igual se usa para asignar un valor a una variable\n",
        "y = '5'\n",
        "x == y      # un doble igual es un operador de comparación"
      ],
      "metadata": {
        "colab": {
          "base_uri": "https://localhost:8080/"
        },
        "id": "h8d51zHcMh5c",
        "outputId": "42833272-a58f-4a3e-edba-4fb624b420c0"
      },
      "execution_count": null,
      "outputs": [
        {
          "output_type": "execute_result",
          "data": {
            "text/plain": [
              "False"
            ]
          },
          "metadata": {},
          "execution_count": 1
        }
      ]
    },
    {
      "cell_type": "markdown",
      "source": [
        "### Conversión de tipos"
      ],
      "metadata": {
        "id": "sqaEZij8eELV"
      }
    },
    {
      "cell_type": "code",
      "source": [
        "str(x) == y       # str convierte un número en un string"
      ],
      "metadata": {
        "colab": {
          "base_uri": "https://localhost:8080/"
        },
        "id": "Dt7QdXlnMrHU",
        "outputId": "b08a53c8-aa50-4c9e-a930-71f6bccbd500"
      },
      "execution_count": null,
      "outputs": [
        {
          "output_type": "execute_result",
          "data": {
            "text/plain": [
              "True"
            ]
          },
          "metadata": {},
          "execution_count": 2
        }
      ]
    },
    {
      "cell_type": "code",
      "source": [
        "x == int(y)         # convierte un string en un int"
      ],
      "metadata": {
        "colab": {
          "base_uri": "https://localhost:8080/"
        },
        "id": "GTwYF4UuM4Xp",
        "outputId": "400d9827-7fe7-4be4-d7c7-a933ef7d37af"
      },
      "execution_count": null,
      "outputs": [
        {
          "output_type": "execute_result",
          "data": {
            "text/plain": [
              "True"
            ]
          },
          "metadata": {},
          "execution_count": 9
        }
      ]
    },
    {
      "cell_type": "code",
      "source": [
        "print(float(x))     # float convierte un número en un número de coma flotante\n",
        "print(float(y))"
      ],
      "metadata": {
        "colab": {
          "base_uri": "https://localhost:8080/"
        },
        "id": "IH6l1CgpNLpF",
        "outputId": "581c633e-d6b3-40d6-870f-2fa30c1175e5"
      },
      "execution_count": null,
      "outputs": [
        {
          "output_type": "stream",
          "name": "stdout",
          "text": [
            "5.0\n",
            "5.0\n"
          ]
        }
      ]
    },
    {
      "cell_type": "code",
      "source": [
        "bool(1)             # convierte en un bool\n",
        "# 1 es True\n",
        "# 0 es False"
      ],
      "metadata": {
        "colab": {
          "base_uri": "https://localhost:8080/"
        },
        "id": "_hKMvcNENkds",
        "outputId": "fce58256-25f6-47de-c1e5-7ef87b2f88f8"
      },
      "execution_count": null,
      "outputs": [
        {
          "output_type": "execute_result",
          "data": {
            "text/plain": [
              "True"
            ]
          },
          "metadata": {},
          "execution_count": 16
        }
      ]
    },
    {
      "cell_type": "code",
      "source": [
        "True == 1       # True"
      ],
      "metadata": {
        "id": "FiWe78OveCYK",
        "outputId": "a474197e-f359-4a46-a2d5-c86aadd923c6",
        "colab": {
          "base_uri": "https://localhost:8080/"
        }
      },
      "execution_count": null,
      "outputs": [
        {
          "output_type": "execute_result",
          "data": {
            "text/plain": [
              "True"
            ]
          },
          "metadata": {},
          "execution_count": 20
        }
      ]
    },
    {
      "cell_type": "code",
      "source": [
        "False == 0      # True"
      ],
      "metadata": {
        "id": "14FOttSBeLES",
        "outputId": "d25c0c07-3845-454d-c514-54e138a9c9df",
        "colab": {
          "base_uri": "https://localhost:8080/"
        }
      },
      "execution_count": null,
      "outputs": [
        {
          "output_type": "execute_result",
          "data": {
            "text/plain": [
              "True"
            ]
          },
          "metadata": {},
          "execution_count": 18
        }
      ]
    }
  ]
}