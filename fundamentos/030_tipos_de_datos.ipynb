{
  "nbformat": 4,
  "nbformat_minor": 0,
  "metadata": {
    "colab": {
      "provenance": [],
      "authorship_tag": "ABX9TyMu77iY4N3vpCGJXwvu4tAB",
      "include_colab_link": true
    },
    "kernelspec": {
      "name": "python3",
      "display_name": "Python 3"
    },
    "language_info": {
      "name": "python"
    }
  },
  "cells": [
    {
      "cell_type": "markdown",
      "metadata": {
        "id": "view-in-github",
        "colab_type": "text"
      },
      "source": [
        "<a href=\"https://colab.research.google.com/github/financieras/curso_python/blob/main/fundamentos/030_tipos_de_datos.ipynb\" target=\"_parent\"><img src=\"https://colab.research.google.com/assets/colab-badge.svg\" alt=\"Open In Colab\"/></a>"
      ]
    },
    {
      "cell_type": "markdown",
      "source": [
        "# Tipos de datos"
      ],
      "metadata": {
        "id": "eoctOMlhKr0H"
      }
    },
    {
      "cell_type": "code",
      "source": [
        "print(type(5))                  # int -> entero\n",
        "print(type(4.3))                # float -> número de coma flotante\n",
        "print(type(\"Hola\"))             # str -> string = cadena alfanumérica\n",
        "print(type(True))               # bool -> booleanos = True o False\n",
        "print(type([1, 2, 3]))          # list -> listas\n",
        "print(type((1, 2, 3)))          # tuple -> tuplas\n",
        "print(type({1:'one', 2:'two'})) # dict -> diccionario. Pares de:  clave: valor\n",
        "print(type({1, 2, 3}))          # set -> conjunto\n",
        "print(type(None))               # NoneType -> indica que no hay dato"
      ],
      "metadata": {
        "id": "ES7sLjF_KbmI"
      },
      "execution_count": null,
      "outputs": []
    },
    {
      "cell_type": "markdown",
      "source": [
        "## Función `len`\n",
        "* Determina la longitud de una lista o de un string."
      ],
      "metadata": {
        "id": "C8v2BoehZxQI"
      }
    },
    {
      "cell_type": "markdown",
      "source": [
        "### Con cadenas: `len(string)`"
      ],
      "metadata": {
        "id": "mB6aqr4VZ5Ei"
      }
    },
    {
      "cell_type": "code",
      "source": [
        "nombre = \"Ana Laura\"\n",
        "len(nombre)                 # cuenta también el espacio"
      ],
      "metadata": {
        "id": "GlWNtZV4aAzI"
      },
      "execution_count": null,
      "outputs": []
    },
    {
      "cell_type": "markdown",
      "source": [
        "### Con listas: `len(list)`"
      ],
      "metadata": {
        "id": "Bd07vT8HawGk"
      }
    },
    {
      "cell_type": "code",
      "source": [
        "vocales = ['a', 'e', 'i', 'o', 'u']\n",
        "len(vocales)"
      ],
      "metadata": {
        "id": "MpYq8PUxayao"
      },
      "execution_count": null,
      "outputs": []
    },
    {
      "cell_type": "markdown",
      "source": [
        "## Indexing\n",
        "* Podemos acceder a los elementos de una lista o a los caracteres de un string."
      ],
      "metadata": {
        "id": "do8uCiKpbMmx"
      }
    },
    {
      "cell_type": "markdown",
      "source": [
        "### Con cadenas\n",
        "* Se comienza por el Index cero.\n",
        "\n",
        "| H | o | l | a |\n",
        "|---|---|---|---|\n",
        "| 0 | 1 | 2 | 3 |"
      ],
      "metadata": {
        "id": "R079kSD5bvys"
      }
    },
    {
      "cell_type": "code",
      "source": [
        "saludo = \"Hola\"\n",
        "print(saludo[0])\n",
        "print(saludo[1])\n",
        "print(saludo[2])\n",
        "print(saludo[3])"
      ],
      "metadata": {
        "id": "wvimHvaYb5Si"
      },
      "execution_count": null,
      "outputs": []
    },
    {
      "cell_type": "code",
      "source": [
        "print(saludo[-1])"
      ],
      "metadata": {
        "id": "cvlVdXTYcFJ_"
      },
      "execution_count": null,
      "outputs": []
    },
    {
      "cell_type": "markdown",
      "source": [
        "### Con listas"
      ],
      "metadata": {
        "id": "zNNZdJdVcqPO"
      }
    },
    {
      "cell_type": "code",
      "source": [
        "seasons = ['spring', 'summer', 'autumn', 'winter']\n",
        "print(seasons[0])\n",
        "print(seasons[1])\n",
        "print(seasons[2])\n",
        "print(seasons[3])"
      ],
      "metadata": {
        "id": "UUKsfRuQctd5"
      },
      "execution_count": null,
      "outputs": []
    },
    {
      "cell_type": "code",
      "source": [
        "print(seasons[-1])"
      ],
      "metadata": {
        "id": "qyRy4DYJda-W"
      },
      "execution_count": null,
      "outputs": []
    },
    {
      "cell_type": "markdown",
      "source": [
        "#### Modificar un valor de una lista"
      ],
      "metadata": {
        "id": "xe9qf3WqeGip"
      }
    },
    {
      "cell_type": "code",
      "source": [
        "seasons[2] = 'fall'\n",
        "seasons"
      ],
      "metadata": {
        "id": "vpn34EWZdeYe"
      },
      "execution_count": null,
      "outputs": []
    },
    {
      "cell_type": "markdown",
      "source": [
        "## Slicing\n",
        "* Podemos cortar en rebanadas una cadena o una lista."
      ],
      "metadata": {
        "id": "t6ZsDru6ebYc"
      }
    },
    {
      "cell_type": "markdown",
      "source": [
        "### Con listas\n",
        "\n",
        "| ene | feb | mar | abr | may | jun | jul | ago | sep | oct | nov | dic |\n",
        "|:---:|:---:|:---:|:---:|:---:|:---:|:---:|:---:|:---:|:---:|:---:|:---:|\n",
        "|  0  |  1  |  2  |  3  |  4  |  5  |  6  |  7  |  8  |  9  | 10  | 11  |"
      ],
      "metadata": {
        "id": "wR7iFjHgeo-W"
      }
    },
    {
      "cell_type": "code",
      "source": [
        "meses = ['ene', 'feb', 'mar', 'abr', 'may', 'jun', 'jul', 'ago', 'sep', 'oct', 'nov', 'dic']\n",
        "\n",
        "meses[1:5]  # el mes de Index 5 es jun y no aparece"
      ],
      "metadata": {
        "id": "_jFW8GTZerPq"
      },
      "execution_count": null,
      "outputs": []
    },
    {
      "cell_type": "code",
      "source": [
        "meses[:3]   # el mes de Index 3 es abr y no aparece"
      ],
      "metadata": {
        "id": "9yfWV44xgcZL"
      },
      "execution_count": null,
      "outputs": []
    },
    {
      "cell_type": "code",
      "source": [
        "meses[10:]"
      ],
      "metadata": {
        "id": "2ch0yi_EgsXZ"
      },
      "execution_count": null,
      "outputs": []
    },
    {
      "cell_type": "markdown",
      "source": [
        "### Con strings\n",
        "\n",
        "| L   | o   |  s  |     |  Á  |  n  |  g  |  e  |  l  |  e  |  s  |\n",
        "|:---:|:---:|:---:|:---:|:---:|:---:|:---:|:---:|:---:|:---:|:---:|\n",
        "|  0  |  1  |  2  |  3  |  4  |  5  |  6  |  7  |  8  |  9  | 10  |"
      ],
      "metadata": {
        "id": "L6F1OYzWhH7K"
      }
    },
    {
      "cell_type": "code",
      "source": [
        "ciudad = \"Los Ángeles\"\n",
        "\n",
        "ciudad[1:5]"
      ],
      "metadata": {
        "id": "yAK8Q0UohqVk"
      },
      "execution_count": null,
      "outputs": []
    },
    {
      "cell_type": "code",
      "source": [
        "ciudad[:3]"
      ],
      "metadata": {
        "id": "AOSuTOSFhyvY"
      },
      "execution_count": null,
      "outputs": []
    },
    {
      "cell_type": "code",
      "source": [
        "ciudad[4:]"
      ],
      "metadata": {
        "id": "lMeyGzAIh436"
      },
      "execution_count": null,
      "outputs": []
    },
    {
      "cell_type": "markdown",
      "source": [
        "## Concatenar cadenas"
      ],
      "metadata": {
        "id": "RvDcp8RJmyqF"
      }
    },
    {
      "cell_type": "code",
      "source": [
        "ciudad = \"Londres\"\n",
        "nombre = \"Sandra\"\n",
        "\n",
        "ciudad + nombre"
      ],
      "metadata": {
        "id": "zLqoJ_Cwm3WB"
      },
      "execution_count": null,
      "outputs": []
    },
    {
      "cell_type": "code",
      "source": [
        "print(\"Me llamo \" + nombre + \" y vivo en \" + ciudad)"
      ],
      "metadata": {
        "id": "-5jWXvpWnL2A"
      },
      "execution_count": null,
      "outputs": []
    },
    {
      "cell_type": "markdown",
      "source": [
        "## Imprimir con formato"
      ],
      "metadata": {
        "id": "GKVY1OAwmcMq"
      }
    },
    {
      "cell_type": "markdown",
      "source": [
        "#### Separando con comas en el `print`"
      ],
      "metadata": {
        "id": "u4-e0S7pdvLQ"
      }
    },
    {
      "cell_type": "code",
      "source": [
        "edad = 17\n",
        "nombre = 'Ana'\n",
        "\n",
        "print(\"Me llamo\", nombre, \"y tengo\", edad, \"años.\")"
      ],
      "metadata": {
        "id": "lpg9kRUrmbkI"
      },
      "execution_count": null,
      "outputs": []
    },
    {
      "cell_type": "markdown",
      "source": [
        "#### Concatenando\n",
        "* Tenemos que usar la función `str()` para convertir un número en un string."
      ],
      "metadata": {
        "id": "zP3h3onydebT"
      }
    },
    {
      "cell_type": "code",
      "source": [
        "print(\"Me llamo \" + nombre + \" y tengo \" + str(edad) + \" años.\")"
      ],
      "metadata": {
        "id": "xPgv_NxudcYS"
      },
      "execution_count": null,
      "outputs": []
    },
    {
      "cell_type": "markdown",
      "source": [
        "#### Otra forma de escribirlo más moderna, con formato `f`"
      ],
      "metadata": {
        "id": "JTSGrMWmVxTz"
      }
    },
    {
      "cell_type": "code",
      "source": [
        "print(f\"Me llamo {nombre}, y tengo {edad} años.\")"
      ],
      "metadata": {
        "id": "KkdHyDMYnnhY"
      },
      "execution_count": null,
      "outputs": []
    },
    {
      "cell_type": "markdown",
      "source": [
        "## Números y literales\n",
        "¿ `5 == '5'` ?\n"
      ],
      "metadata": {
        "id": "50QFJvbj4VNt"
      }
    },
    {
      "cell_type": "code",
      "source": [
        "x = 5       # un solo igual se usa para asignar un valor a una variable\n",
        "y = '5'\n",
        "x == y      # un doble igual es un operador de comparación"
      ],
      "metadata": {
        "id": "h8d51zHcMh5c"
      },
      "execution_count": null,
      "outputs": []
    },
    {
      "cell_type": "markdown",
      "source": [
        "### Conversión de tipos"
      ],
      "metadata": {
        "id": "sqaEZij8eELV"
      }
    },
    {
      "cell_type": "code",
      "source": [
        "# str convierte un número en un string\n",
        "\n",
        "str(5) == \"5\"       # True"
      ],
      "metadata": {
        "id": "Dt7QdXlnMrHU"
      },
      "execution_count": null,
      "outputs": []
    },
    {
      "cell_type": "code",
      "source": [
        "# int convierte un string en un número entero\n",
        "\n",
        "5 == int(\"5\")       # True"
      ],
      "metadata": {
        "id": "GTwYF4UuM4Xp"
      },
      "execution_count": null,
      "outputs": []
    },
    {
      "cell_type": "code",
      "source": [
        "# convertir a número flotante con float\n",
        "\n",
        "print(float(5))     # 5.0\n",
        "print(float(\"5\"))   # 5.0"
      ],
      "metadata": {
        "id": "IH6l1CgpNLpF"
      },
      "execution_count": null,
      "outputs": []
    },
    {
      "cell_type": "code",
      "source": [
        "# convertir número a booleano\n",
        "\n",
        "print(bool(1))     # 1 es True\n",
        "print(bool(0))     # 0 es False"
      ],
      "metadata": {
        "id": "_hKMvcNENkds"
      },
      "execution_count": null,
      "outputs": []
    },
    {
      "cell_type": "code",
      "source": [
        "True == 1       # True"
      ],
      "metadata": {
        "id": "FiWe78OveCYK"
      },
      "execution_count": null,
      "outputs": []
    },
    {
      "cell_type": "code",
      "source": [
        "False == 0      # True"
      ],
      "metadata": {
        "id": "14FOttSBeLES"
      },
      "execution_count": null,
      "outputs": []
    }
  ]
}