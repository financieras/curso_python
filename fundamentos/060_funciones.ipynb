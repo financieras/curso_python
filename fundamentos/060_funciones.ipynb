{
  "nbformat": 4,
  "nbformat_minor": 0,
  "metadata": {
    "colab": {
      "provenance": [],
      "authorship_tag": "ABX9TyMMd8J20jsSocunfmR4Tw8W",
      "include_colab_link": true
    },
    "kernelspec": {
      "name": "python3",
      "display_name": "Python 3"
    },
    "language_info": {
      "name": "python"
    }
  },
  "cells": [
    {
      "cell_type": "markdown",
      "metadata": {
        "id": "view-in-github",
        "colab_type": "text"
      },
      "source": [
        "<a href=\"https://colab.research.google.com/github/financieras/curso_python/blob/main/fundamentos/060_funciones.ipynb\" target=\"_parent\"><img src=\"https://colab.research.google.com/assets/colab-badge.svg\" alt=\"Open In Colab\"/></a>"
      ]
    },
    {
      "cell_type": "markdown",
      "source": [
        "# Funciones"
      ],
      "metadata": {
        "id": "FnIH8gJB8KXq"
      }
    },
    {
      "cell_type": "markdown",
      "source": [
        "## ¿Qué es una función?\n",
        "* Una función es un bloque de código reutilizable que realiza una tarea específica.\n",
        "* Las funciones permiten evitar repetición de código.\n",
        "* Se define con la palabra clave `def` seguida del nombre de la función y paréntesis.\n",
        "\n",
        "```python\n",
        "def funcion(<parámetros>):\n",
        "    <código>\n",
        "    return <dato>\n",
        "```"
      ],
      "metadata": {
        "id": "_EfatJMWmf12"
      }
    },
    {
      "cell_type": "markdown",
      "source": [
        "## Principio DRY\n",
        "* Las funciones nos ayudan a cumplir con el principio DRY (don't repeat yourself) o (no te repitas)."
      ],
      "metadata": {
        "id": "EoC1uBIF9orJ"
      }
    },
    {
      "cell_type": "markdown",
      "source": [
        "## Funciones sin `return`"
      ],
      "metadata": {
        "id": "zraNriHMsYsC"
      }
    },
    {
      "cell_type": "code",
      "metadata": {
        "colab": {
          "base_uri": "https://localhost:8080/"
        },
        "id": "cQU7-IT3C-bJ",
        "outputId": "efffbc03-ab17-4b08-e55e-4f52a991c38e"
      },
      "source": [
        "def saluda():       # Declaración de la función\n",
        "    print(\"Hola\")   # Cuerpo\n",
        "\n",
        "saluda()            # Ejecución: invocamos o llamamos a la función\n",
        "                    # si no se invoca la función la función no hace nada"
      ],
      "execution_count": null,
      "outputs": [
        {
          "output_type": "stream",
          "name": "stdout",
          "text": [
            "Hola\n"
          ]
        }
      ]
    },
    {
      "cell_type": "markdown",
      "source": [
        "### Otro ejemplo de función sin return"
      ],
      "metadata": {
        "id": "6b1VtX0pVfhw"
      }
    },
    {
      "cell_type": "code",
      "source": [
        "print(\"Destino turístico elegido:\")           # Código previo a la función\n",
        "print()\n",
        "\n",
        "def destino_elegido():\n",
        "    print(\"Ha elegido un destino cultural de ciudad.\")\n",
        "    print(\"Se ha reservado su billete y hotel a Roma.\")\n",
        "    print()\n",
        "\n",
        "destino_elegido()                               # invocamos la función\n",
        "\n",
        "print(\"Puede anular su viaje 15 días antes\")    # Código posteriror"
      ],
      "metadata": {
        "id": "b_NsQmo2ViFP",
        "outputId": "af1f5df4-3e0c-44e7-fe1e-11a96102005a",
        "colab": {
          "base_uri": "https://localhost:8080/"
        }
      },
      "execution_count": null,
      "outputs": [
        {
          "output_type": "stream",
          "name": "stdout",
          "text": [
            "Destino turístico elegido:\n",
            "\n",
            "Ha elegido un destino cultural de ciudad.\n",
            "Se ha reservado su billete y hotel a Roma.\n",
            "\n",
            "Puede anular su viaje 15 días antes\n"
          ]
        }
      ]
    },
    {
      "cell_type": "markdown",
      "metadata": {
        "id": "pcQUOke9DHcP"
      },
      "source": [
        "## Función con ```return```"
      ]
    },
    {
      "cell_type": "code",
      "metadata": {
        "colab": {
          "base_uri": "https://localhost:8080/"
        },
        "id": "0ouSvzHGDLLr",
        "outputId": "e02fa01f-1462-4537-ce9b-4946cddf8a5c"
      },
      "source": [
        "def buenos_dias():         # el nombre de la función se elige como las variables (minúsculas, sin espacios, ...)\n",
        "    return \"Buenos días\"   # función que devuelve (retorna) un string\n",
        "\n",
        "print(buenos_dias())       # invocamos la función dentro de un print puesto que queremos imprimir lo retornado por la función"
      ],
      "execution_count": null,
      "outputs": [
        {
          "output_type": "stream",
          "name": "stdout",
          "text": [
            "Buenos días\n"
          ]
        }
      ]
    },
    {
      "cell_type": "markdown",
      "source": [
        "### Otro ejemplo de función con return"
      ],
      "metadata": {
        "id": "9Ng7vwJ9VxGy"
      }
    },
    {
      "cell_type": "code",
      "source": [
        "def gente():\n",
        "    return \"Isabel\"             # el return es optativo\n",
        "\n",
        "print(\"Buenos días\", gente())   # imprimimos lo retornado por la función"
      ],
      "metadata": {
        "id": "g2aHsPHIVyem"
      },
      "execution_count": null,
      "outputs": []
    },
    {
      "cell_type": "markdown",
      "metadata": {
        "id": "QkveYFkfBqx_"
      },
      "source": [
        "### Después de ejecutar un return se sale de la función\n",
        "* Veamos función anterior pero ahora añadimos una línea de código después del `return` y dentro de la función.  \n",
        "* Después de ejecutarse un `return` se sale de la función y se devuelve el control al flujo principal."
      ]
    },
    {
      "cell_type": "code",
      "execution_count": null,
      "metadata": {
        "id": "2-bdNJiuBqyA"
      },
      "outputs": [],
      "source": [
        "def gente():\n",
        "    return \"Isabel\"\n",
        "    print(\"Buenas tardes\")      # esto no se ejecutará nunca\n",
        "\n",
        "print(\"Buenos días\", gente())"
      ]
    },
    {
      "cell_type": "markdown",
      "metadata": {
        "id": "TRnl21H_Dbvn"
      },
      "source": [
        "## Función con un parámetro\n",
        "* Las funciones pueden aceptar **argumentos** que son valores o variables que se pasan a la función para que las utilice en su operación.\n",
        "* Los **parámetros** son los nombres utilizados en la definición de la función, mientras que los **argumentos** son los valores reales que se pasan cuando se llama a la función."
      ]
    },
    {
      "cell_type": "markdown",
      "source": [
        "### Ejemplo 1\n",
        "Función que dobla el valor pasado como parámetro"
      ],
      "metadata": {
        "id": "NMXe6Ew7jrhM"
      }
    },
    {
      "cell_type": "code",
      "source": [
        "def doble(x):       # Definición de la función. x es el parámetro\n",
        "    return 2*x\n",
        "\n",
        "doble(5)            # Invocación. Pasamos un argumento. 5 es el argumento"
      ],
      "metadata": {
        "id": "DnV2XhEXjV3y"
      },
      "execution_count": null,
      "outputs": []
    },
    {
      "cell_type": "markdown",
      "source": [
        "### Ejemplo 2"
      ],
      "metadata": {
        "id": "76mPvI58jOCy"
      }
    },
    {
      "cell_type": "code",
      "metadata": {
        "colab": {
          "base_uri": "https://localhost:8080/"
        },
        "id": "2GUs3mH0Dfpt",
        "outputId": "773e4dd3-f4c9-4680-936e-ce3c319d7cd2"
      },
      "source": [
        "def buenas_tardes(nombre):             # el parámetro es 'nombre'\n",
        "    return f\"Buenas tardes {nombre}.\"\n",
        "\n",
        "print(buenas_tardes(\"Laura\"))          # el argumento es \"Laura\""
      ],
      "execution_count": null,
      "outputs": [
        {
          "output_type": "stream",
          "name": "stdout",
          "text": [
            "Buenas tardes Laura.\n"
          ]
        }
      ]
    },
    {
      "cell_type": "markdown",
      "source": [
        "### Ejemplo 3\n",
        "* Función a la que pasamos el nombre de una persona.  \n",
        "* La función pone el nombre en mayúsculas y nos dice cómo se llama esa persona."
      ],
      "metadata": {
        "id": "m6v-rUuxj6Gv"
      }
    },
    {
      "cell_type": "code",
      "source": [
        "def di_nombre(persona):                 # función con un parámetro\n",
        "    persona = persona.upper()           # convertimos a mayúsculas\n",
        "    return \"Se llama \" + persona        # el return es optativo\n",
        "\n",
        "print(di_nombre(\"Luis\"))                # pasamos un parámetro a la función\n",
        "print(\"¿Quién es? \" + di_nombre(\"Ana\")) # llamamos nuevamente a la función\n",
        "print(\"¿Quién es?\", di_nombre(\"María\")) # otra llamada a la función"
      ],
      "metadata": {
        "colab": {
          "base_uri": "https://localhost:8080/"
        },
        "id": "XtyWBfDtkDS6",
        "outputId": "394ea0d8-f986-497a-962f-a90b4dae39d5"
      },
      "execution_count": null,
      "outputs": [
        {
          "output_type": "stream",
          "name": "stdout",
          "text": [
            "Se llama LUIS\n",
            "¿Quién es? Se llama ANA\n",
            "¿Quién es? Se llama MARÍA\n"
          ]
        }
      ]
    },
    {
      "cell_type": "markdown",
      "source": [
        "### Ejemplo 4\n",
        "* La invocación a la función debe ir antes de la definición de la propia función."
      ],
      "metadata": {
        "id": "rCqKRBL7luYj"
      }
    },
    {
      "cell_type": "code",
      "source": [
        "nombre = input(\"Di tu nombre: \")\n",
        "\n",
        "#saludar(nombre)     # ERROR, ya que la función debe ir antes de la invocación\n",
        "\n",
        "def saludar(nombre):\n",
        "    return f\"Hola {nombre} gracias por venir.\"\n",
        "\n"
      ],
      "metadata": {
        "id": "qhtd48xJlxvG",
        "outputId": "d71a4a46-9da5-48c9-eeab-571ea3d47039",
        "colab": {
          "base_uri": "https://localhost:8080/"
        }
      },
      "execution_count": null,
      "outputs": [
        {
          "name": "stdout",
          "output_type": "stream",
          "text": [
            "Di tu nombre: Jose\n"
          ]
        }
      ]
    },
    {
      "cell_type": "markdown",
      "source": [
        "## Invocar reiteradamente una función"
      ],
      "metadata": {
        "id": "GpoKRuvfuuvT"
      }
    },
    {
      "cell_type": "code",
      "source": [
        "def hello(name):\n",
        "    print(f\"HELLO {name}, good morning.\")\n",
        "\n",
        "hello(\"Victoria\")\n",
        "hello(\"Oscar\")\n",
        "hello(\"Isabella\")\n",
        "hello(\"James\")\n",
        "hello(\"Olivia\")\n",
        "hello(\"Peter\")"
      ],
      "metadata": {
        "id": "CUSjPWc-oWlf",
        "outputId": "dd77a0f4-061c-468b-86dc-44d058e3eb4c",
        "colab": {
          "base_uri": "https://localhost:8080/"
        }
      },
      "execution_count": null,
      "outputs": [
        {
          "output_type": "stream",
          "name": "stdout",
          "text": [
            "HELLO Victoria, good morning.\n",
            "HELLO Oscar, good morning.\n",
            "HELLO Isabella, good morning.\n",
            "HELLO James, good morning.\n",
            "HELLO Olivia, good morning.\n",
            "HELLO Peter, good morning.\n"
          ]
        }
      ]
    },
    {
      "cell_type": "markdown",
      "source": [
        "### Invocar reiteradamente una función con bucle"
      ],
      "metadata": {
        "id": "rLIta8wiqBK-"
      }
    },
    {
      "cell_type": "code",
      "metadata": {
        "colab": {
          "base_uri": "https://localhost:8080/"
        },
        "id": "vp5UcRCoEBpe",
        "outputId": "e4297c56-9967-4809-afab-6ad0aa7e8ed2"
      },
      "source": [
        "def doblar(n):\n",
        "    return 2 * n\n",
        "\n",
        "for i in range(1, 6):\n",
        "    print(f\"El doble de {i} es {doblar(i)}.\")"
      ],
      "execution_count": null,
      "outputs": [
        {
          "output_type": "stream",
          "name": "stdout",
          "text": [
            "El doble de 1 es 2.\n",
            "El doble de 2 es 4.\n",
            "El doble de 3 es 6.\n",
            "El doble de 4 es 8.\n",
            "El doble de 5 es 10.\n"
          ]
        }
      ]
    },
    {
      "cell_type": "markdown",
      "metadata": {
        "id": "Te6eZIGIAi7h"
      },
      "source": [
        "## Función con dos parámetros\n",
        "- Al definir la función hablamos de **parámetros**.\n",
        "- Al invocar la función hablamos de **argumentos**."
      ]
    },
    {
      "cell_type": "markdown",
      "source": [
        "### Ejemplo 1"
      ],
      "metadata": {
        "id": "Bg6ADIgmlwMy"
      }
    },
    {
      "cell_type": "code",
      "source": [
        "def elevar(x, y):   # el orden de los parámetros importa\n",
        "    return x ** y\n",
        "\n",
        "print(elevar(2, 3)) # si la función espera 2 argumentos se han de enviar 2"
      ],
      "metadata": {
        "id": "NwO-8chwlzH3"
      },
      "execution_count": null,
      "outputs": []
    },
    {
      "cell_type": "markdown",
      "source": [
        "### Ejemplo 2\n",
        "* Los argumentos se asocian unívocamente a los parámetros por el orden.  \n",
        "* El orden importa."
      ],
      "metadata": {
        "id": "Uv3FybTCmDAx"
      }
    },
    {
      "cell_type": "code",
      "source": [
        "def resta(a, b):\n",
        "    return a - b\n",
        "\n",
        "resta(5, 3)         # 2\n",
        "#resta(3, 5)        # -2"
      ],
      "metadata": {
        "id": "dBZaF5cimOcU"
      },
      "execution_count": null,
      "outputs": []
    },
    {
      "cell_type": "markdown",
      "source": [
        "### Ejemplo 3"
      ],
      "metadata": {
        "id": "X6bOqji5mVHV"
      }
    },
    {
      "cell_type": "code",
      "metadata": {
        "colab": {
          "base_uri": "https://localhost:8080/"
        },
        "id": "uODVs2qVApKK",
        "outputId": "00d23293-cd38-4903-dd06-bbedaff93fc2"
      },
      "source": [
        "def area_triangulo(base, altura):\n",
        "    return base * altura / 2\n",
        "\n",
        "b = 100\n",
        "h = 50\n",
        "\n",
        "superficie = area_triangulo(b, h)   # invocamos la función con las variables b y h\n",
        "                                    # que son diferentes a los parámetros base y altura\n",
        "\n",
        "print(f\"El área del triángulo de base {b} y altura {h} es {superficie}.\")"
      ],
      "execution_count": 1,
      "outputs": [
        {
          "output_type": "stream",
          "name": "stdout",
          "text": [
            "El área del triángulo de base 100 y altura 50 es 2500.0.\n"
          ]
        }
      ]
    }
  ]
}
