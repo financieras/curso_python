{
  "nbformat": 4,
  "nbformat_minor": 0,
  "metadata": {
    "colab": {
      "provenance": [],
      "authorship_tag": "ABX9TyOO9Z2qvQXMFvwUr8Lq7WWU",
      "include_colab_link": true
    },
    "kernelspec": {
      "name": "python3",
      "display_name": "Python 3"
    },
    "language_info": {
      "name": "python"
    }
  },
  "cells": [
    {
      "cell_type": "markdown",
      "metadata": {
        "id": "view-in-github",
        "colab_type": "text"
      },
      "source": [
        "<a href=\"https://colab.research.google.com/github/financieras/curso_python/blob/main/fundamentos/040_condicionales.ipynb\" target=\"_parent\"><img src=\"https://colab.research.google.com/assets/colab-badge.svg\" alt=\"Open In Colab\"/></a>"
      ]
    },
    {
      "cell_type": "markdown",
      "source": [
        "# Operadores Relacionales\n",
        "* Se usan para comparar.\n",
        "* Devuelve un valor booleano (True o False).\n",
        "\n",
        "\n",
        "1. &nbsp;&nbsp; \\>   &nbsp;&nbsp;&nbsp;&nbsp;&nbsp;&nbsp; Mayor que\n",
        "1. &nbsp;&nbsp; \\<   &nbsp;&nbsp;&nbsp;&nbsp;&nbsp;&nbsp; Menor que\n",
        "1. &nbsp;&nbsp; \\==  &nbsp;&nbsp;&nbsp;&nbsp; Igual a\n",
        "1. &nbsp;&nbsp; \\>=  &nbsp;&nbsp;&nbsp;&nbsp; Mayor o igual a\n",
        "1. &nbsp;&nbsp; \\<=  &nbsp;&nbsp;&nbsp;&nbsp; Menor o igual a\n",
        "1. &nbsp;&nbsp; !=   &nbsp;&nbsp;&nbsp;&nbsp;&nbsp; Distinto de"
      ],
      "metadata": {
        "id": "ufOy_4g5lIbY"
      }
    },
    {
      "cell_type": "code",
      "execution_count": null,
      "metadata": {
        "id": "df8694c5"
      },
      "outputs": [],
      "source": [
        "5 == 5              # True       Operador de comparación: 'Igual a'"
      ]
    },
    {
      "cell_type": "code",
      "execution_count": null,
      "metadata": {
        "id": "2528485c"
      },
      "outputs": [],
      "source": [
        "5 >= 7              # False      Mayor o igual que"
      ]
    },
    {
      "cell_type": "code",
      "execution_count": null,
      "metadata": {
        "id": "57fc1da5"
      },
      "outputs": [],
      "source": [
        "9 == '9'            # False"
      ]
    },
    {
      "cell_type": "code",
      "execution_count": null,
      "metadata": {
        "id": "db50c39e"
      },
      "outputs": [],
      "source": [
        "'Roma' > 'Atenas'   # True"
      ]
    },
    {
      "cell_type": "code",
      "execution_count": null,
      "metadata": {
        "id": "232a68ba"
      },
      "outputs": [],
      "source": [
        "4 != 4              # False    Operador de comparación: Distinto o 'no es igual a'"
      ]
    },
    {
      "cell_type": "markdown",
      "metadata": {
        "id": "f53d11a1"
      },
      "source": [
        "## Verdadero es 1 y Falso es 0"
      ]
    },
    {
      "cell_type": "code",
      "execution_count": null,
      "metadata": {
        "id": "c971002f"
      },
      "outputs": [],
      "source": [
        "True == 1              # True"
      ]
    },
    {
      "cell_type": "code",
      "execution_count": null,
      "metadata": {
        "id": "1b8e0cdc"
      },
      "outputs": [],
      "source": [
        "False == 0             # True"
      ]
    },
    {
      "cell_type": "markdown",
      "source": [
        "# Condicionales"
      ],
      "metadata": {
        "id": "Mz1l8h4WQ7bi"
      }
    },
    {
      "cell_type": "markdown",
      "source": [
        "## Condicional `if`\n",
        "* Redirigen el flujo del programa según se cumpla o no una condición.\n",
        "* El tabulador es importante."
      ],
      "metadata": {
        "id": "zNk4kDg2RJpX"
      }
    },
    {
      "cell_type": "code",
      "source": [
        "edad = 19\n",
        "\n",
        "if edad >= 18:\n",
        "    print(\"Eres mayor de edad\")\n",
        "\n",
        "print(\"Fin del programa\")"
      ],
      "metadata": {
        "id": "iDcGOFwVRdWy"
      },
      "execution_count": null,
      "outputs": []
    },
    {
      "cell_type": "code",
      "source": [
        "num_hermanos = 1\n",
        "\n",
        "print(\"Información personal\")\n",
        "\n",
        "if num_hermanos == 2:\n",
        "    print(\"Tienes dos hermanos\")    # si no se cumple la condición esto nunca se imprimirá\n",
        "\n",
        "print(\"Fin del programa\")"
      ],
      "metadata": {
        "id": "PwZI73jxRW4_"
      },
      "execution_count": null,
      "outputs": []
    },
    {
      "cell_type": "markdown",
      "source": [
        "## Condicional `if...else`"
      ],
      "metadata": {
        "id": "bXoUbTc4R6dd"
      }
    },
    {
      "cell_type": "code",
      "source": [
        "edad = 16\n",
        "\n",
        "if edad >= 18:\n",
        "    print(\"Eres mayor de edad\")\n",
        "else:\n",
        "    print(\"Aún no eres mayor de edad\")"
      ],
      "metadata": {
        "id": "EaXDp49GRoRG"
      },
      "execution_count": null,
      "outputs": []
    },
    {
      "cell_type": "markdown",
      "source": [
        "## Condicional `if...elif...else`\n",
        "La palabra reservada `elif` es una abreviatura de *else if*."
      ],
      "metadata": {
        "id": "FQaFxf0tSB1k"
      }
    },
    {
      "cell_type": "code",
      "source": [
        "edad = 17\n",
        "\n",
        "if edad >= 18:\n",
        "    print(\"Eres mayor de edad\")\n",
        "elif edad == 17:\n",
        "    print(\"Ya falta poco para que seas mayor de edad\")\n",
        "else:\n",
        "    print(\"Aún no eres mayor de edad\")"
      ],
      "metadata": {
        "id": "550JYtgKSJBL"
      },
      "execution_count": null,
      "outputs": []
    }
  ]
}