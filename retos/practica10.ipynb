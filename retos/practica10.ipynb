{
  "nbformat": 4,
  "nbformat_minor": 0,
  "metadata": {
    "colab": {
      "provenance": [],
      "authorship_tag": "ABX9TyMy6Ca2yOEPH/sqB+ZD+9pR",
      "include_colab_link": true
    },
    "kernelspec": {
      "name": "python3",
      "display_name": "Python 3"
    },
    "language_info": {
      "name": "python"
    }
  },
  "cells": [
    {
      "cell_type": "markdown",
      "metadata": {
        "id": "view-in-github",
        "colab_type": "text"
      },
      "source": [
        "<a href=\"https://colab.research.google.com/github/financieras/curso_python/blob/main/retos/practica10.ipynb\" target=\"_parent\"><img src=\"https://colab.research.google.com/assets/colab-badge.svg\" alt=\"Open In Colab\"/></a>"
      ]
    },
    {
      "cell_type": "markdown",
      "source": [
        "## Reto 91: Retornar el único elemento de un conjunto\n",
        "* Cree una función que recibe un conjunto que contiene un único elemento\n",
        "* La función debe devolver ese elemento.\n",
        "* Ejemplos:\n",
        "    1. elemento_del_conjunto({'margarita'}) ➞ 'margarita'\n",
        "    2. elemento_del_conjunto({True}) ➞ True\n",
        "    3. elemento_del_conjunto({42}) ➞ 42\n"
      ],
      "metadata": {
        "id": "KWP95xcFntRL"
      }
    },
    {
      "cell_type": "code",
      "source": [
        " def elemento_del_conjunto(conjunto):\n",
        "    pass"
      ],
      "metadata": {
        "id": "PW5IGVuv2xNH"
      },
      "execution_count": null,
      "outputs": []
    },
    {
      "cell_type": "code",
      "source": [
        "print(elemento_del_conjunto({'margarita'}))\n",
        "print(elemento_del_conjunto({True}))\n",
        "print(elemento_del_conjunto({42}))"
      ],
      "metadata": {
        "id": "z0DigmCk2xNH"
      },
      "execution_count": null,
      "outputs": []
    },
    {
      "cell_type": "markdown",
      "source": [
        "## Reto 92: Cambiar\n",
        "* Escriba una función que devuelva 0 si la entrada es 1 y devuelva 1 si la entrada es 0.\n",
        "* Ejemplos:\n",
        "    1. flip(1) ➞ 0\n",
        "    2. flip(0) ➞ 1\n"
      ],
      "metadata": {
        "id": "_BVuN2sEntU_"
      }
    },
    {
      "cell_type": "code",
      "source": [
        "def flip(n):\n",
        "    pass"
      ],
      "metadata": {
        "id": "Xi2xGeAA2wvS"
      },
      "execution_count": null,
      "outputs": []
    },
    {
      "cell_type": "code",
      "source": [
        "print(flip(1))\n",
        "print(flip(0))"
      ],
      "metadata": {
        "id": "duSIwwzH2wvS"
      },
      "execution_count": null,
      "outputs": []
    },
    {
      "cell_type": "markdown",
      "source": [
        "## Reto 93: Title String\n",
        "* Compruebe si un texto de cadena (Title String) es un texto de título o no.\n",
        "* Un texto de título es aquel en el que todas las palabras del texto comienzan con una letra mayúscula.\n",
        "* Ejemplos:\n",
        "    1. check_title(\"Ciudades Londres París Roma\") ➞ True\n",
        "    2. check_title(\"Prefiero: New York!\") ➞ True\n",
        "    3. check_title(\"Veranear en Málaga\") ➞ False\n"
      ],
      "metadata": {
        "id": "eQq4-mUcntV5"
      }
    },
    {
      "cell_type": "code",
      "source": [
        "def check_title(txt):\n",
        "    pass"
      ],
      "metadata": {
        "id": "WD04B0aD2waV"
      },
      "execution_count": null,
      "outputs": []
    },
    {
      "cell_type": "code",
      "source": [
        "print(check_title(\"Ciudades Londres París Roma\"))\n",
        "print(check_title(\"Prefiero: New York!\"))\n",
        "print(check_title(\"Veranear en Málaga\"))"
      ],
      "metadata": {
        "id": "ZB_KMJDx2waW"
      },
      "execution_count": null,
      "outputs": []
    },
    {
      "cell_type": "markdown",
      "source": [
        "## Reto 94: Rango de números\n",
        "* Cree una función que devuelva una lista de todos los números enteros entre el inicio y el final de dos números dados.\n",
        "* Ejemplos:\n",
        "    1. range_of_num(2, 4) ➞ [3]\n",
        "    2. range_of_num(5, 9) ➞ [6, 7, 8]\n",
        "    3. range_of_num(2, 11) ➞ [3, 4, 5, 6, 7, 8, 9, 10]\n",
        "    4. range_of_num(2, 2) ➞ []"
      ],
      "metadata": {
        "id": "SGBGw1efntW0"
      }
    },
    {
      "cell_type": "code",
      "source": [
        "def range_of_num(inicio, fin):\n",
        "    pass"
      ],
      "metadata": {
        "id": "tAqNCBLf2wDB"
      },
      "execution_count": null,
      "outputs": []
    },
    {
      "cell_type": "code",
      "source": [
        "print(range_of_num(2, 4))\n",
        "print(range_of_num(5, 9))\n",
        "print(range_of_num(2, 11))\n",
        "print(range_of_num(2, 2))"
      ],
      "metadata": {
        "id": "NMGdFicL2wDB"
      },
      "execution_count": null,
      "outputs": []
    },
    {
      "cell_type": "markdown",
      "source": [
        "## Reto 95: Atracción emocionante\n",
        "* En el nuevo parque de atracciones, han inaugurado una emocionante atracción.\n",
        "* Sin embargo, solo los visitantes de 12 años o más pueden disfrutarla.\n",
        "* Hay un único operador para la atracción, y ocasionalmente se toma descansos.\n",
        "* Escriba un programa que determine si un usuario puede subirse a la atracción.\n",
        "* Para poder subir, el usuario debe tener al menos 12 años y el operador no debe estar en periodo de descanso.\n",
        "* Cree una función llamada `permitido_subir` que tome la edad del usuario y un valor booleano que indica si el operador está en periodo de descanso.\n",
        "* La función debe devolver `True` si el usuario puede subirse y `False` en caso contrario.\n",
        "* Ejemplos:\n",
        "    1. permitido_subir(9, False) ➞ False\n",
        "    2. permitido_subir(11, True) ➞ False\n",
        "    3. permitido_subir(16, False) ➞ True\n",
        "    4. permitido_subir(24, True) ➞ False\n"
      ],
      "metadata": {
        "id": "gOc0ZAwxntYc"
      }
    },
    {
      "cell_type": "code",
      "source": [
        "def permitido_subir(edad, descanso):\n",
        "    pass"
      ],
      "metadata": {
        "id": "_v2sVEKY2vms"
      },
      "execution_count": null,
      "outputs": []
    },
    {
      "cell_type": "code",
      "source": [
        "print(permitido_subir(9, False))\n",
        "print(permitido_subir(11, True))\n",
        "print(permitido_subir(16, False))\n",
        "print(permitido_subir(24, True))"
      ],
      "metadata": {
        "id": "WKzL1pGg2vms"
      },
      "execution_count": null,
      "outputs": []
    },
    {
      "cell_type": "markdown",
      "source": [
        "## Reto 96: Todos verdaderos\n",
        "* Escriba una función llamada `todos_verdaderos` que tome un número variable de argumentos y devuelva `True` solo si todos los argumentos son verdaderos.\n",
        "* De lo contrario, debe devolver `False`.\n",
        "* Los argumentos pueden ser cualquier tipo de dato en Python.\n",
        "* Cuando en Python hablamos de un número indeterminado de parámetros estamos hablando de la sintaxis **\\*args**\n",
        "* Ejemplos:\n",
        "    1. todos_verdaderos(0, False, [], {}) ➞ False\n",
        "    2. todos_verdaderos(33, \"Hello\", (True, True, 3)) ➞ True\n",
        "    3. todos_verdaderos(True, None) ➞ False\n",
        "* `None` se considera falso o vacío en Python,"
      ],
      "metadata": {
        "id": "MwftNXTGntYw"
      }
    },
    {
      "cell_type": "code",
      "source": [
        "def todos_verdaderos(*args):\n",
        "    pass"
      ],
      "metadata": {
        "id": "c9ly1-Nl2vSo"
      },
      "execution_count": null,
      "outputs": []
    },
    {
      "cell_type": "code",
      "source": [
        "print(todos_verdaderos(0, False, [], {}))\n",
        "print(todos_verdaderos(33, \"Hello\", (True, [], 3)))\n",
        "print(todos_verdaderos(True, None))"
      ],
      "metadata": {
        "id": "u7XhcE422vSo"
      },
      "execution_count": null,
      "outputs": []
    },
    {
      "cell_type": "markdown",
      "source": [
        "## Reto 97: Solo los primeros positivos\n",
        "* Escriba una función llamada `primeros_positivos` que recibe como parámetro una lista.\n",
        "* La lista recibida contiene números positivos, negativos o cero.\n",
        "* La función ha de retornar una lista que contenga únicamente los primeros positivos.\n",
        "* Al llegar a un cero o un número negativo no se retorna y tampoco todo lo posterior.\n",
        "* Ejemplos:\n",
        "    1. primeros_positivos([4, 9, 5, 0, 2, 4]) ➞ [4, 9, 5]\n",
        "    2. primeros_positivos([-2, 1, 6, 0, 3]) ➞ []\n",
        "    3. primeros_positivos([1, 3, 7, 2, -1, 6]) ➞ [1, 3, 7, 2]\n",
        "\n"
      ],
      "metadata": {
        "id": "FcGQDvBJntaT"
      }
    },
    {
      "cell_type": "code",
      "source": [
        "def primeros_positivos(lista):\n",
        "    pass"
      ],
      "metadata": {
        "id": "YqOqeq092u4u"
      },
      "execution_count": null,
      "outputs": []
    },
    {
      "cell_type": "code",
      "source": [
        "print(primeros_positivos([4, 9, 5, 0, 2, 4]))\n",
        "print(primeros_positivos([-2, 1, 6, 0, 3]))\n",
        "print(primeros_positivos([1, 3, 7, 2, -1, 6]))"
      ],
      "metadata": {
        "id": "Z7eO75Ad2u4v"
      },
      "execution_count": null,
      "outputs": []
    },
    {
      "cell_type": "markdown",
      "source": [
        "## Reto 98: El último elemento\n",
        "* Cree una función que devuelva el último valor de una lista o de una cadena.\n",
        "* Ejemplos:\n",
        "    1. last_item([0, 4, 19, 34, 50, -9, 2]) ➞ 2\n",
        "    2. last_item(\"piensa antes de hablar\") ➞ \"g\"\n",
        "    3. last_item([]) ➞ None\n",
        "    4. last_item(\"\") ➞ None\n",
        "* Las listas/cadenas pueden ser de diferentes tamaños.\n",
        "* Devuelva `None` si la lista/cadena está vacía.\n"
      ],
      "metadata": {
        "id": "4WL8wbnIntbH"
      }
    },
    {
      "cell_type": "code",
      "source": [
        "def last_item(objeto):\n",
        "    pass"
      ],
      "metadata": {
        "id": "gu6KsdER2uUf"
      },
      "execution_count": null,
      "outputs": []
    },
    {
      "cell_type": "code",
      "source": [
        "print(last_item([0, 4, 19, 34, 50, -9, 2]))\n",
        "print(last_item(\"piensa antes de hablar\"))\n",
        "print(last_item([]))\n",
        "print(last_item(\"\"))"
      ],
      "metadata": {
        "id": "O7e5d4YD2uUf"
      },
      "execution_count": null,
      "outputs": []
    },
    {
      "cell_type": "markdown",
      "source": [
        "## Reto 99: Valoración de clientes\n",
        "* Usted es el guía turístico de un grupo de turistas a los que lleva a conocer las tapas de Madrid.\n",
        "* Después de cada visita le puntúan en la aplicación dando entre 1 y 5 estrellas.\n",
        "* El número de turistas que lleva en cada grupo es variable.\n",
        "* Cree una función que al recibir las estrellas con las que le han puntuado los diferentes turistas, devuelva el número de turistas que le han dado la mayor puntuación en ese grupo.\n",
        "* Ejemplos:\n",
        "    1. mejores_estrellas([4, 4, 3]) ➞ 2\n",
        "    2. mejores_estrellas([5, 4, 1, 5]) ➞ 2\n",
        "    3. mejores_estrellas([5, 3, 4, 4, 4, 3]) ➞ 1\n",
        "    4. mejores_estrellas([4, 3, 4, 4, 2]) ➞ 3"
      ],
      "metadata": {
        "id": "exl2j4CBntb6"
      }
    },
    {
      "cell_type": "code",
      "source": [
        "def mejores_estrellas(lista):\n",
        "    pass"
      ],
      "metadata": {
        "id": "hm6t3FMi2uCv"
      },
      "execution_count": null,
      "outputs": []
    },
    {
      "cell_type": "code",
      "source": [
        "print(mejores_estrellas([4, 4, 3]))\n",
        "print(mejores_estrellas([5, 4, 1, 5]))\n",
        "print(mejores_estrellas([5, 3, 4, 4, 4, 3]))\n",
        "print(mejores_estrellas([4, 3, 4, 4, 2]))"
      ],
      "metadata": {
        "id": "8mfEGG1A2uC1"
      },
      "execution_count": null,
      "outputs": []
    },
    {
      "cell_type": "markdown",
      "source": [
        "## Reto 100: Cantidad de patatas\n",
        "* Cree una función para devolver la cantidad de patatas que hay en una cadena.\n",
        "* Ejemplos:\n",
        "    1. cuenta_patatas(\"patata\") ➞ 1\n",
        "    2. cuenta_patatas(\"patatapatata\") ➞ 2\n",
        "    3. cuenta_patatas(\"patatamanzanapata\") ➞ 1\n",
        "    4. cuenta_patatas(\"patatatuti\"*7+\"patata\") ➞ 8"
      ],
      "metadata": {
        "id": "FHd6vvtLntcw"
      }
    },
    {
      "cell_type": "code",
      "source": [
        "def cuenta_patatas(cadena):\n",
        "    pass"
      ],
      "metadata": {
        "id": "N9K_UfSs2rjr"
      },
      "execution_count": null,
      "outputs": []
    },
    {
      "cell_type": "code",
      "source": [
        "print(cuenta_patatas(\"patata\"))\n",
        "print(cuenta_patatas(\"patatapatata\"))\n",
        "print(cuenta_patatas(\"patatamanzanapata\"))\n",
        "print(cuenta_patatas(\"patatatuti\"*7+\"patata\"))"
      ],
      "metadata": {
        "id": "hagmNzPd2rjs"
      },
      "execution_count": null,
      "outputs": []
    }
  ]
}