{
  "nbformat": 4,
  "nbformat_minor": 0,
  "metadata": {
    "colab": {
      "provenance": [],
      "authorship_tag": "ABX9TyPWpw63q8SSqXUaNGTz8ZXH",
      "include_colab_link": true
    },
    "kernelspec": {
      "name": "python3",
      "display_name": "Python 3"
    },
    "language_info": {
      "name": "python"
    }
  },
  "cells": [
    {
      "cell_type": "markdown",
      "metadata": {
        "id": "view-in-github",
        "colab_type": "text"
      },
      "source": [
        "<a href=\"https://colab.research.google.com/github/financieras/curso_python/blob/main/retos/reto164.ipynb\" target=\"_parent\"><img src=\"https://colab.research.google.com/assets/colab-badge.svg\" alt=\"Open In Colab\"/></a>"
      ]
    },
    {
      "cell_type": "markdown",
      "source": [
        "## Reto 164: Compruebe si es el mismo caso\n",
        "* Cree una función que devuelva `True` si una cadena de entrada contiene solo letras mayúsculas o solo letras minúsculas.\n",
        "    1. same_case(\"hello\") ➞ True\n",
        "    2. same_case(\"HELLO\") ➞ True\n",
        "    3. same_case(\"Hello\") ➞ False\n",
        "    4. same_case(\"ketchUp\") ➞ False"
      ],
      "metadata": {
        "id": "z4pVG9qmlQcU"
      }
    },
    {
      "cell_type": "code",
      "source": [
        "def same_case(txt):\n",
        "    pass"
      ],
      "metadata": {
        "id": "Ypu0scJ22FHJ"
      },
      "execution_count": null,
      "outputs": []
    },
    {
      "cell_type": "code",
      "source": [
        "print(same_case(\"hello\"))\n",
        "print(same_case(\"HELLO\"))\n",
        "print(same_case(\"Hello\"))\n",
        "print(same_case(\"ketchUp\"))"
      ],
      "metadata": {
        "id": "ubBo09vs2FHK"
      },
      "execution_count": null,
      "outputs": []
    }
  ]
}