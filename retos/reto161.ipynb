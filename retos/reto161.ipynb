{
  "nbformat": 4,
  "nbformat_minor": 0,
  "metadata": {
    "colab": {
      "provenance": [],
      "authorship_tag": "ABX9TyNCdhzi9fMQhQL3y0WWuZSF",
      "include_colab_link": true
    },
    "kernelspec": {
      "name": "python3",
      "display_name": "Python 3"
    },
    "language_info": {
      "name": "python"
    }
  },
  "cells": [
    {
      "cell_type": "markdown",
      "metadata": {
        "id": "view-in-github",
        "colab_type": "text"
      },
      "source": [
        "<a href=\"https://colab.research.google.com/github/financieras/curso_python/blob/main/retos/reto161.ipynb\" target=\"_parent\"><img src=\"https://colab.research.google.com/assets/colab-badge.svg\" alt=\"Open In Colab\"/></a>"
      ]
    },
    {
      "cell_type": "markdown",
      "source": [
        "## Reto 161: Entero dentro de rango\n",
        "* Cree una función que valide si un número `n` está dentro de los límites `inferior` y `superior`.\n",
        "* Devuelve `False` si `n` no es un número entero.\n",
        "* Los argumentos de la función van en este orden:  \n",
        "    - `int_within_bounds(n, lower, upper)`\n",
        "* Ejemplos:\n",
        "    1. int_within_bounds(3, 1, 9) ➞ True\n",
        "    2. int_within_bounds(6, 1, 6) ➞ False\n",
        "    3. int_within_bounds(4.5, 3, 8) ➞ False\n",
        "    4. int_within_bounds(1, 1, 9) ➞ False\n",
        "    5. int_within_bounds(3., 1, 9) ➞ False\n",
        "* El término \"dentro de límites\" significa que un número `n` ha de estar dentro del intervalo sin que puede sar igual a ninguno de los extremos\n",
        "* Los límites siempre se dan como números enteros."
      ],
      "metadata": {
        "id": "E4ETC0CqlQHb"
      }
    },
    {
      "cell_type": "code",
      "source": [
        "def int_within_bounds(n, lower, upper):\n",
        "    pass"
      ],
      "metadata": {
        "id": "aoB-Qk6C2Ge_"
      },
      "execution_count": null,
      "outputs": []
    },
    {
      "cell_type": "code",
      "source": [
        "print(int_within_bounds(3, 1, 9))\n",
        "print(int_within_bounds(6, 1, 6))\n",
        "print(int_within_bounds(4.5, 3, 8))\n",
        "print(int_within_bounds(1, 1, 9))\n",
        "print(int_within_bounds(3., 1, 9))"
      ],
      "metadata": {
        "id": "iWRFqAGw2Ge_"
      },
      "execution_count": null,
      "outputs": []
    }
  ]
}