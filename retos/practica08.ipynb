{
  "nbformat": 4,
  "nbformat_minor": 0,
  "metadata": {
    "colab": {
      "provenance": [],
      "authorship_tag": "ABX9TyOUSQbA2t4k2/a2h/gBsmDx",
      "include_colab_link": true
    },
    "kernelspec": {
      "name": "python3",
      "display_name": "Python 3"
    },
    "language_info": {
      "name": "python"
    }
  },
  "cells": [
    {
      "cell_type": "markdown",
      "metadata": {
        "id": "view-in-github",
        "colab_type": "text"
      },
      "source": [
        "<a href=\"https://colab.research.google.com/github/financieras/curso_python/blob/main/retos/practica08.ipynb\" target=\"_parent\"><img src=\"https://colab.research.google.com/assets/colab-badge.svg\" alt=\"Open In Colab\"/></a>"
      ]
    },
    {
      "cell_type": "markdown",
      "source": [
        "## Reto 71: El complementario de un booleano\n",
        "* Debido a un concepto de programación conocido como veracidad, ciertos valores pueden evaluarse (es decir, tomar el lugar de) booleanos.\n",
        "* Por ejemplo, 1 (o cualquier número distinto de 0) suele ser equivalente a Verdadero y 0 suele ser equivalente a Falso.\n",
        "* En programación, el concepto de \"veracidad\" se refiere a la capacidad de ciertos valores de ser evaluados como booleanos (`True` o `False`).\n",
        "* En muchos lenguajes de programación, cualquier valor diferente de 0 se considera `True`, mientras que el valor 0 se considera `False`.\n",
        "* Cree una función que devuelva el complementario del booleano dado\n",
        "* Lo que retorne la función siempre ha de ser un número 0 o 1, según el caso.\n",
        "* Ejemplos:\n",
        "    1. flip_bool(True) ➞ 0\n",
        "    2. flip_bool(False) ➞ 1\n",
        "    3. flip_bool(1) ➞ 0\n",
        "    4. flip_bool(0) ➞ 1\n",
        "    5. flip_bool(7) ➞ 0"
      ],
      "metadata": {
        "id": "Wx_mr5JjWfIX"
      }
    },
    {
      "cell_type": "code",
      "source": [
        "def flip_bool(condicion):\n",
        "    pass"
      ],
      "metadata": {
        "id": "qiCmNvJD26U4"
      },
      "execution_count": null,
      "outputs": []
    },
    {
      "cell_type": "code",
      "source": [
        "print(flip_bool(True))\n",
        "print(flip_bool(False))\n",
        "print(flip_bool(1))\n",
        "print(flip_bool(0))\n",
        "print(flip_bool(7))"
      ],
      "metadata": {
        "id": "WJ72Yci-26U4",
        "colab": {
          "base_uri": "https://localhost:8080/"
        },
        "outputId": "0bf58695-943a-4c7d-f0bd-1318f41d4337"
      },
      "execution_count": null,
      "outputs": [
        {
          "output_type": "stream",
          "name": "stdout",
          "text": [
            "0\n",
            "1\n",
            "0\n",
            "1\n",
            "0\n"
          ]
        }
      ]
    },
    {
      "cell_type": "markdown",
      "source": [
        "## Reto 72: Comparing Arrays\n",
        "* La programadora Ada Lovelace, está intentando crear una función que devuelva `True` si dos listas comparten la misma longitud y tienen valores numéricos idénticos en cada índice; de ​​lo contrario, devolverá `False`.\n",
        "* Sin embargo, la solución que ofrece su función tiene un formato inesperado.\n",
        "* ¿Puede arreglar la función de Ada para que se comporte como se ve en los ejemplos siguientes?\n",
        "* Ejemplos:\n",
        "\t1. check_equals([1, 2], [1, 3]) ➞ False\n",
        "\t2. check_equals([1, 2], [1, 2]) ➞ True\n",
        "\t3. check_equals([4, 5, 6], [4, 5, 6]) ➞ True\n",
        "\t4. check_equals([4, 7, 6], [4, 5, 6]) ➞ False\n",
        "\t5. check_equals([\"*\"], [chr(42)]) ➞ True\n",
        "\n",
        "* La función incorrecta es la siguiente:\n",
        "\n",
        "<pre>\n",
        "def check_equals(lst1, lst2):\n",
        "\tif [lst1[::] = lst2[::]]:\n",
        "\t\tprint(true)\n",
        "\telse:\n",
        "\t\tprint(false)\n",
        "</pre>\n"
      ],
      "metadata": {
        "id": "wtBc_7IpWfMG"
      }
    },
    {
      "cell_type": "code",
      "source": [
        "def check_equals(lst1, lst2):\n",
        "    pass"
      ],
      "metadata": {
        "id": "W9sgghc425um"
      },
      "execution_count": null,
      "outputs": []
    },
    {
      "cell_type": "code",
      "source": [
        "print(check_equals([1, 2], [1, 3]))\n",
        "print(check_equals([1, 2], [1, 2]))\n",
        "print(check_equals([4, 5, 6], [4, 5, 6]))\n",
        "print(check_equals([4, 7, 6], [4, 5, 6]))\n",
        "print(check_equals([\"*\"], [chr(42)]))"
      ],
      "metadata": {
        "id": "NZSl50lY25um",
        "colab": {
          "base_uri": "https://localhost:8080/"
        },
        "outputId": "59d352cf-9104-4e2f-e34b-2b9f75ecd603"
      },
      "execution_count": null,
      "outputs": [
        {
          "output_type": "stream",
          "name": "stdout",
          "text": [
            "False\n",
            "True\n",
            "True\n",
            "False\n",
            "True\n"
          ]
        }
      ]
    },
    {
      "cell_type": "markdown",
      "source": [
        "## Reto 73: Perdiendo el primer carácter\n",
        "* Cree una función que tome una palabra y devuelva la nueva palabra sin incluir el primer carácter.\n",
        "* Ejemplos:\n",
        "    1. new_word(\"cosa\") ➞ \"osa\"\n",
        "    2. new_word(\"Foca\") ➞ \"oca\"\n",
        "    3. new_word(\"Hola\") ➞ \"ola\""
      ],
      "metadata": {
        "id": "LzDEJWljWfPr"
      }
    },
    {
      "cell_type": "code",
      "source": [
        "def new_word(txt):\n",
        "    pass"
      ],
      "metadata": {
        "id": "nrwigeCU25WF"
      },
      "execution_count": null,
      "outputs": []
    },
    {
      "cell_type": "code",
      "source": [
        "print(new_word(\"cosa\"))\n",
        "print(new_word(\"Foca\"))\n",
        "print(new_word(\"Hola\"))"
      ],
      "metadata": {
        "id": "a78Cervh25WF",
        "colab": {
          "base_uri": "https://localhost:8080/"
        },
        "outputId": "3a7321f2-f00a-44fa-c588-7b38b08543df"
      },
      "execution_count": null,
      "outputs": [
        {
          "output_type": "stream",
          "name": "stdout",
          "text": [
            "osa\n",
            "oca\n",
            "ola\n"
          ]
        }
      ]
    },
    {
      "cell_type": "markdown",
      "source": [
        "## Reto 74: Área de la figura\n",
        "* Escribe una función que acepte base , altura y forma (\"triángulo\", \"paralelogramo\") como entrada y calcule el área de esa figura.\n",
        "* La base y la altura pueden ser números que contengan decimales.\n",
        "* El área de un triángulo es b * h / 2\n",
        "* El área de un paralelogramo es b * h\n",
        "* Ejemplos:\n",
        "    1. area_figura(2, 3, \"triángulo\") ➞ 3\n",
        "    2. area_figura(8, 6, \"paralelogramo\") ➞ 48\n",
        "    3. area_figura(2.9, 1.3, \"paralelogramo\") ➞ 3.77\n",
        "    4. area_figura(2.8, 10.5, \"triángulo\") ➞ 14.7\n",
        "    5. area_figura(3, 7, \"elipse\") ➞ None\n",
        "\n",
        "* Observe que triángulo lleva tilde.\n",
        "* Para cualquier otra figura que no sea un triángulo o un paralelogramo el función retornará `None`."
      ],
      "metadata": {
        "id": "oWNqE80mWfTn"
      }
    },
    {
      "cell_type": "code",
      "source": [
        "def area_figura(b, h, figura):\n",
        "    pass"
      ],
      "metadata": {
        "id": "vr3uuHxJ248I"
      },
      "execution_count": null,
      "outputs": []
    },
    {
      "cell_type": "code",
      "source": [
        "print(area_figura(2, 3, \"triángulo\"))\n",
        "print(area_figura(8, 6, \"paralelogramo\"))\n",
        "print(area_figura(2.9, 1.3, \"paralelogramo\"))\n",
        "print(area_figura(2.8, 10.5, \"triángulo\"))\n",
        "print(area_figura(3, 7, \"elipse\"))"
      ],
      "metadata": {
        "id": "MLUu_A-T248I",
        "colab": {
          "base_uri": "https://localhost:8080/"
        },
        "outputId": "a191141d-142c-475d-e68f-0a988e55b6db"
      },
      "execution_count": null,
      "outputs": [
        {
          "output_type": "stream",
          "name": "stdout",
          "text": [
            "3.0\n",
            "48\n",
            "3.77\n",
            "14.7\n",
            "None\n"
          ]
        }
      ]
    },
    {
      "cell_type": "markdown",
      "source": [
        "## Reto 75: Mitad, cuarto y octavo\n",
        "* Cree una función que tome un número y devuelva una lista de tres números:\n",
        "    - la mitad del número\n",
        "    - un cuarto del número y\n",
        "    - un octavo del número\n",
        "* Ejemplos:\n",
        "    1. en_partes(6) ➞ [3, 1.5, 0.75]\n",
        "    2. en_partes(22) ➞ [11, 5.5, 2.75]\n",
        "    3. en_partes(25) ➞ [12.5, 6.25, 3.125]\n"
      ],
      "metadata": {
        "id": "f1wFUd3JWfWo"
      }
    },
    {
      "cell_type": "code",
      "source": [
        "def en_partes(n):\n",
        "    pass"
      ],
      "metadata": {
        "id": "DIMqzRoj24ps"
      },
      "execution_count": null,
      "outputs": []
    },
    {
      "cell_type": "code",
      "source": [
        "print(en_partes(6))\n",
        "print(en_partes(22))\n",
        "print(en_partes(25))"
      ],
      "metadata": {
        "id": "vq28K5NL24ps",
        "colab": {
          "base_uri": "https://localhost:8080/"
        },
        "outputId": "685f4062-fb52-4f1f-ff42-ada6f6d507a1"
      },
      "execution_count": null,
      "outputs": [
        {
          "output_type": "stream",
          "name": "stdout",
          "text": [
            "[3.0, 1.5, 0.75]\n",
            "[11.0, 5.5, 2.75]\n",
            "[12.5, 6.25, 3.125]\n"
          ]
        }
      ]
    },
    {
      "cell_type": "markdown",
      "source": [
        "## Reto 76: Contador condicional\n",
        "* Dada una lista de números enteros decir cuantos son mayores o iguales a 10.\n",
        "* Ejemplos:\n",
        "    1. mayores_a_diez([7, 10, 24, 1, 50]) ➞ 3\n",
        "    2. mayores_a_diez([1, 2, 20]) ➞ 1\n",
        "    3. mayores_a_diez([-1, 12, 20, 30]) ➞ 3\n",
        "    4. mayores_a_diez([]) ➞ 0"
      ],
      "metadata": {
        "id": "ByAlOR_yWfaa"
      }
    },
    {
      "cell_type": "code",
      "source": [
        "def mayores_a_diez(lst):\n",
        "    pass"
      ],
      "metadata": {
        "id": "sNzO90p524I_"
      },
      "execution_count": null,
      "outputs": []
    },
    {
      "cell_type": "code",
      "source": [
        "print(mayores_a_diez([7, 10, 24, 1, 50]))\n",
        "print(mayores_a_diez([1, 2, 20]))\n",
        "print(mayores_a_diez([-1, 12, 20, 30]))\n",
        "print(mayores_a_diez([]))"
      ],
      "metadata": {
        "id": "kc6Ck63C24I_",
        "colab": {
          "base_uri": "https://localhost:8080/"
        },
        "outputId": "e0b44971-4b78-4abf-e612-0c6e8dda172c"
      },
      "execution_count": null,
      "outputs": [
        {
          "output_type": "stream",
          "name": "stdout",
          "text": [
            "3\n",
            "1\n",
            "3\n",
            "0\n"
          ]
        }
      ]
    },
    {
      "cell_type": "markdown",
      "source": [
        "## Reto 77: Encontrar el número mayor y menor\n",
        "* Cree una función que acepte una lista de números y devuelva los números mínimo y máximo, en ese orden (como una lista).\n",
        "* Ejemplos:\n",
        "    1. min_max([1, 2, 3, 4, 5]) ➞ [1, 5]\n",
        "    2. min_max([200, 5]) ➞ [5, 200]\n",
        "    3. min_max([1]) ➞ [1, 1]"
      ],
      "metadata": {
        "id": "QNz6oOpOWfeJ"
      }
    },
    {
      "cell_type": "code",
      "source": [
        "def min_max(lst):\n",
        "    pass"
      ],
      "metadata": {
        "id": "SOQHaV1R23w6"
      },
      "execution_count": null,
      "outputs": []
    },
    {
      "cell_type": "code",
      "source": [
        "print(min_max([1, 2, 3, 4, 5]))\n",
        "print(min_max([200, 5]))\n",
        "print(min_max([1]))"
      ],
      "metadata": {
        "id": "9dJ5OYap23w_",
        "colab": {
          "base_uri": "https://localhost:8080/"
        },
        "outputId": "f4594781-e09d-4eff-c223-97d467846dfb"
      },
      "execution_count": null,
      "outputs": [
        {
          "output_type": "stream",
          "name": "stdout",
          "text": [
            "[1, 5]\n",
            "[5, 200]\n",
            "[1, 1]\n"
          ]
        }
      ]
    },
    {
      "cell_type": "markdown",
      "source": [
        "## Reto 78: Comprobar espacios en una cadena\n",
        "* Cree una función que devuelva `True` si un string contiene espacios.\n",
        "* Una cadena vacía no contiene espacios.\n",
        "* Ejemplos:\n",
        "    1. has_spaces(\"hello\") ➞ False\n",
        "    2. has_spaces(\"hello, world\") ➞ True\n",
        "    3. has_spaces(\" \") ➞ True\n",
        "    4. has_spaces(\"\") ➞ False\n",
        "    5. has_spaces(\",./!@#\") ➞ False\n"
      ],
      "metadata": {
        "id": "ls0gwknEWfhq"
      }
    },
    {
      "cell_type": "code",
      "source": [
        "def has_spaces(txt):\n",
        "    pass"
      ],
      "metadata": {
        "id": "RN9WPfic23HY"
      },
      "execution_count": null,
      "outputs": []
    },
    {
      "cell_type": "code",
      "source": [
        "print(has_spaces(\"hello\"))\n",
        "print(has_spaces(\"hello, world\"))\n",
        "print(has_spaces(\" \"))\n",
        "print(has_spaces(\"\"))\n",
        "print(has_spaces(\",./!@#\"))"
      ],
      "metadata": {
        "id": "DCDFn7WN23HY",
        "colab": {
          "base_uri": "https://localhost:8080/"
        },
        "outputId": "00ea0099-c108-4460-e28e-d025ef16c5ba"
      },
      "execution_count": null,
      "outputs": [
        {
          "output_type": "stream",
          "name": "stdout",
          "text": [
            "False\n",
            "True\n",
            "True\n",
            "False\n",
            "False\n"
          ]
        }
      ]
    },
    {
      "cell_type": "markdown",
      "source": [
        "## Reto 79: ¿Cuántas letras 'd' hay?\n",
        "* Crea una función que cuente cuántas 'D' hay en una oración.\n",
        "* En el cálculo computan tanto las letras D mayúsculas como las minúsculas.\n",
        "* Su función no debe distinguir entre mayúsculas y minúsculas.\n",
        "* Ejemplos:\n",
        "    1. count_d(\"Defender la democracia es decisivo\") ➞ 4\n",
        "    2. count_d(\"Olvidamos deberes pero no derechos\") ➞ 3\n",
        "    3. count_d(\"Eduardo hizo una despedida el domingo\") ➞ 6\n"
      ],
      "metadata": {
        "id": "QuGX0yp5WflL"
      }
    },
    {
      "cell_type": "code",
      "source": [
        "def count_d(frase):\n",
        "    pass"
      ],
      "metadata": {
        "id": "GHuIhBn-22wC"
      },
      "execution_count": null,
      "outputs": []
    },
    {
      "cell_type": "code",
      "source": [
        "print(count_d(\"Defender la democracia es decisivo\"))\n",
        "print(count_d(\"Olvidamos deberes pero no derechos\"))\n",
        "print(count_d(\"Eduardo hizo una despedida el domingo\"))"
      ],
      "metadata": {
        "id": "YnesfOs222wC",
        "colab": {
          "base_uri": "https://localhost:8080/"
        },
        "outputId": "d4e743b4-c947-4b4f-fcc1-276e00edbb19"
      },
      "execution_count": null,
      "outputs": [
        {
          "output_type": "stream",
          "name": "stdout",
          "text": [
            "4\n",
            "3\n",
            "6\n"
          ]
        }
      ]
    },
    {
      "cell_type": "markdown",
      "source": [
        "## Reto 80: Creando IDs\n",
        "* Muchos IDs (para correos electrónicos o ID de Google) se crean utilizando el nombre de la persona.\n",
        "* Cree una función que devolverá una identificación de cuatro caracteres utilizando el nombre y apellido de la persona.\n",
        "* El primer carácter será la primera letra del nombre pero en minúsculas.\n",
        "* Los siguientes tres caracteres serán los primeros tres caracteres del apellido, donde la primera letra estará en mayúscula y las otras dos en minúsculas.\n",
        "* Ejemplos:\n",
        "    1. create_id(\"maría\", \"ruiz\") ➞ \"mRui\"\n",
        "    2. create_id(\"Juan\", \"Martín\") ➞ \"jMar\"\n",
        "    3. create_id(\"Andrew\", \"McDonald\") ➞ \"aMcd\"\n"
      ],
      "metadata": {
        "id": "-4yhXaL2Wfos"
      }
    },
    {
      "cell_type": "code",
      "source": [
        "def create_id(a, b):\n",
        "    pass"
      ],
      "metadata": {
        "id": "LzSG_QQi22SM"
      },
      "execution_count": null,
      "outputs": []
    },
    {
      "cell_type": "code",
      "source": [
        "print(create_id(\"maría\", \"ruiz\"))\n",
        "print(create_id(\"Juan\", \"Martín\"))\n",
        "print(create_id(\"Andrew\", \"McDonald\"))"
      ],
      "metadata": {
        "id": "GduThGM722SR",
        "colab": {
          "base_uri": "https://localhost:8080/"
        },
        "outputId": "3d582943-3ab3-465d-9fdd-452df2a6c8a7"
      },
      "execution_count": null,
      "outputs": [
        {
          "output_type": "stream",
          "name": "stdout",
          "text": [
            "mRui\n",
            "jMar\n",
            "aMcd\n"
          ]
        }
      ]
    }
  ]
}