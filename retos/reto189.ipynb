{
  "nbformat": 4,
  "nbformat_minor": 0,
  "metadata": {
    "colab": {
      "provenance": [],
      "authorship_tag": "ABX9TyO7YTSG8/xCuSrI5DWZpu5P",
      "include_colab_link": true
    },
    "kernelspec": {
      "name": "python3",
      "display_name": "Python 3"
    },
    "language_info": {
      "name": "python"
    }
  },
  "cells": [
    {
      "cell_type": "markdown",
      "metadata": {
        "id": "view-in-github",
        "colab_type": "text"
      },
      "source": [
        "<a href=\"https://colab.research.google.com/github/financieras/curso_python/blob/main/retos/reto189.ipynb\" target=\"_parent\"><img src=\"https://colab.research.google.com/assets/colab-badge.svg\" alt=\"Open In Colab\"/></a>"
      ]
    },
    {
      "cell_type": "markdown",
      "source": [
        "## Reto 189: Código ASCII del carácter inverso\n",
        "* Encuentre el código de caracteres ASCII del carácter de caso inverso.\n",
        "* El argumento siempre será de un solo carácter.\n",
        "* No todas las entradas tendrán una contraparte (por ejemplo, números), en cuyo caso devolverá el código del caractere de la entrada.\n",
        "* Ejemplos:\n",
        "    1. counterpartCharCode(\"A\") ➞ 97\n",
        "    2. counterpartCharCode(\"a\") ➞ 65\n",
        "    3. counterpartCharCode(\"*\") ➞ 42\n",
        "    4. counterpartCharCode(\"Z\") ➞ 122\n",
        "\n",
        "* Dado que:\n",
        "    - El código de carácter \"A\" es: 65\n",
        "    - El código de carácter \"a\" es: 97"
      ],
      "metadata": {
        "id": "Oo9SqqXq55Pw"
      }
    },
    {
      "cell_type": "code",
      "source": [
        "def counterpartCharCode(caracter):\n",
        "    pass"
      ],
      "metadata": {
        "id": "1UDdhriq55Px"
      },
      "execution_count": null,
      "outputs": []
    },
    {
      "cell_type": "code",
      "source": [
        "print(counterpartCharCode(\"A\"))\n",
        "print(counterpartCharCode(\"a\"))\n",
        "print(counterpartCharCode(\"*\"))\n",
        "print(counterpartCharCode(\"Z\"))"
      ],
      "metadata": {
        "id": "pI047PMx55Px"
      },
      "execution_count": null,
      "outputs": []
    }
  ]
}