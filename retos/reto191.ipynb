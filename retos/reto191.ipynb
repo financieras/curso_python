{
  "nbformat": 4,
  "nbformat_minor": 0,
  "metadata": {
    "colab": {
      "provenance": [],
      "authorship_tag": "ABX9TyOPTTauYC5Rm833IC2VZ+ri",
      "include_colab_link": true
    },
    "kernelspec": {
      "name": "python3",
      "display_name": "Python 3"
    },
    "language_info": {
      "name": "python"
    }
  },
  "cells": [
    {
      "cell_type": "markdown",
      "metadata": {
        "id": "view-in-github",
        "colab_type": "text"
      },
      "source": [
        "<a href=\"https://colab.research.google.com/github/financieras/curso_python/blob/main/retos/reto191.ipynb\" target=\"_parent\"><img src=\"https://colab.research.google.com/assets/colab-badge.svg\" alt=\"Open In Colab\"/></a>"
      ]
    },
    {
      "cell_type": "markdown",
      "source": [
        "## Reto 191: Reemplazar vocales\n",
        "* Cree una función que reemplace todas las vocales de una cadena con un carácter específico.\n",
        "* Todos los caracteres estarán en minúsculas.\n",
        "* Ejemplos:\n",
        "    1. replace_vowels(\"beethoven\", \"@\") ➞ \"b@@th@v@n\"\n",
        "    2. replace_vowels(\"amazing spiderman\", \"?\") ➞ \"?m?z?ng sp?d?rm?n\"\n",
        "    3. replace_vowels(\"shakespeare\", \"*\") ➞ \"sh*k*sp**r*\""
      ],
      "metadata": {
        "id": "kEQsXmxQ595J"
      }
    },
    {
      "cell_type": "code",
      "source": [
        "def replace_vowels(string, caracter):\n",
        "    pass"
      ],
      "metadata": {
        "id": "G7ag7b8_595R"
      },
      "execution_count": null,
      "outputs": []
    },
    {
      "cell_type": "code",
      "source": [
        "print(replace_vowels(\"beethoven\", \"@\"))\n",
        "print(replace_vowels(\"amazing spiderman\", \"?\"))\n",
        "print(replace_vowels(\"shakespeare\", \"*\"))"
      ],
      "metadata": {
        "id": "qWpXY7K8595R"
      },
      "execution_count": null,
      "outputs": []
    }
  ]
}