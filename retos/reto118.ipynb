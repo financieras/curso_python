{
  "nbformat": 4,
  "nbformat_minor": 0,
  "metadata": {
    "colab": {
      "provenance": [],
      "authorship_tag": "ABX9TyPf1+MQLbfhcZtkhnryRk9Y",
      "include_colab_link": true
    },
    "kernelspec": {
      "name": "python3",
      "display_name": "Python 3"
    },
    "language_info": {
      "name": "python"
    }
  },
  "cells": [
    {
      "cell_type": "markdown",
      "metadata": {
        "id": "view-in-github",
        "colab_type": "text"
      },
      "source": [
        "<a href=\"https://colab.research.google.com/github/financieras/curso_python/blob/main/retos/reto118.ipynb\" target=\"_parent\"><img src=\"https://colab.research.google.com/assets/colab-badge.svg\" alt=\"Open In Colab\"/></a>"
      ]
    },
    {
      "cell_type": "markdown",
      "source": [
        "## Reto 118: La estrategia 50-30-20\n",
        "* La estrategia 50-30-20 es una forma sencilla de presupuestar, que implica gastar el 50% de los ingresos después de impuestos en necesidades, el 30% de los ingresos después de impuestos en deseos y el 20% de los ingresos después de impuestos en ahorros o pago de deudas.\n",
        "* Cree una función que reciba el ingreso después de impuestos y lo que devuelve es un diccionario que muestre cuánto necesita gastar una persona en necesidades, deseos y ahorros.\n",
        "* Ejemplos:\n",
        "    1. estrategia(10000) ➞ { \"Needs\": 5000, \"Wants\": 3000, \"Savings\": 2000 }\n",
        "    2. estrategia(50000) ➞ { \"Needs\": 25000, \"Wants\": 15000, \"Savings\": 10000 }\n",
        "    3. estrategia(13450) ➞ { \"Needs\": 6725, \"Wants\": 4035, \"Savings\": 2690 }"
      ],
      "metadata": {
        "id": "0Xh9QeBRz9GH"
      }
    },
    {
      "cell_type": "code",
      "source": [
        "def estrategia(ing):\n",
        "    pass"
      ],
      "metadata": {
        "id": "J-dOY6vL2h0C"
      },
      "execution_count": null,
      "outputs": []
    },
    {
      "cell_type": "code",
      "source": [
        "print(estrategia(10000))\n",
        "print(estrategia(50000))\n",
        "print(estrategia(13450))"
      ],
      "metadata": {
        "id": "SC9EkUUR2h0D"
      },
      "execution_count": null,
      "outputs": []
    }
  ]
}