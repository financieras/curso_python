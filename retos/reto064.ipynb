{
  "nbformat": 4,
  "nbformat_minor": 0,
  "metadata": {
    "colab": {
      "provenance": [],
      "authorship_tag": "ABX9TyOWpd5UQ5KiOh2reclvFuZP",
      "include_colab_link": true
    },
    "kernelspec": {
      "name": "python3",
      "display_name": "Python 3"
    },
    "language_info": {
      "name": "python"
    }
  },
  "cells": [
    {
      "cell_type": "markdown",
      "metadata": {
        "id": "view-in-github",
        "colab_type": "text"
      },
      "source": [
        "<a href=\"https://colab.research.google.com/github/financieras/curso_python/blob/main/retos/reto064.ipynb\" target=\"_parent\"><img src=\"https://colab.research.google.com/assets/colab-badge.svg\" alt=\"Open In Colab\"/></a>"
      ]
    },
    {
      "cell_type": "markdown",
      "source": [
        "## Reto 64: Is the Last Character an \"N\"?\n",
        "* Cree una función que tome una cadena (un nombre).\n",
        "* Si el último carácter del nombre es una \"n\", devuelve `True`; en caso contrario, devuelve `False`.\n",
        "* Ejemplos:\n",
        "    1. is_last_character_n(\"Aaron\") ➞ True\n",
        "    2. is_last_character_n(\"Pierre\") ➞ False\n",
        "    3. is_last_character_n(\"Robert\") ➞ False\n",
        "    4. is_last_character_n(\"Antón\") ➞ True\n"
      ],
      "metadata": {
        "id": "Yd1VWEmDz6zH"
      }
    },
    {
      "cell_type": "code",
      "source": [
        "def is_last_character_n(txt):\n",
        "    pass"
      ],
      "metadata": {
        "id": "vi4eW5r82-Ev"
      },
      "execution_count": null,
      "outputs": []
    },
    {
      "cell_type": "code",
      "source": [
        "print(is_last_character_n(\"Aaron\"))\n",
        "print(is_last_character_n(\"Pierre\"))\n",
        "print(is_last_character_n(\"Robert\"))\n",
        "print(is_last_character_n(\"Antón\"))"
      ],
      "metadata": {
        "id": "1r7HmO9J2-Ev"
      },
      "execution_count": null,
      "outputs": []
    }
  ]
}