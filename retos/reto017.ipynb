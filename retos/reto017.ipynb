{
  "nbformat": 4,
  "nbformat_minor": 0,
  "metadata": {
    "colab": {
      "provenance": [],
      "authorship_tag": "ABX9TyNKKoRT+L+XNKIbXE0fAyv+",
      "include_colab_link": true
    },
    "kernelspec": {
      "name": "python3",
      "display_name": "Python 3"
    },
    "language_info": {
      "name": "python"
    }
  },
  "cells": [
    {
      "cell_type": "markdown",
      "metadata": {
        "id": "view-in-github",
        "colab_type": "text"
      },
      "source": [
        "<a href=\"https://colab.research.google.com/github/financieras/curso_python/blob/main/retos/reto017.ipynb\" target=\"_parent\"><img src=\"https://colab.research.google.com/assets/colab-badge.svg\" alt=\"Open In Colab\"/></a>"
      ]
    },
    {
      "cell_type": "markdown",
      "source": [
        "## Reto 17: Conversión de Booleano a String\n",
        "* Cree una función que tome una bandera booleana y la devuelva como una cadena.\n",
        "* Ejemplos:\n",
        "    1. bool_to_string(True) ➞ \"True\"\n",
        "    2. bool_to_string(False) ➞ \"False\"\n",
        "* La función puede comenzar así:\n",
        "\n",
        "<pre>\n",
        "def bool_to_string(flag):\n",
        "</pre>"
      ],
      "metadata": {
        "id": "znXBQ4UOcUp_"
      }
    },
    {
      "cell_type": "code",
      "source": [
        "def bool_to_string(flag):\n",
        "    pass"
      ],
      "metadata": {
        "id": "_ZKKsHUZwmt-"
      },
      "execution_count": null,
      "outputs": []
    },
    {
      "cell_type": "code",
      "source": [
        "print(bool_to_string(True))\n",
        "print(bool_to_string(False))"
      ],
      "metadata": {
        "id": "_YYKy9x8wu8k"
      },
      "execution_count": null,
      "outputs": []
    }
  ]
}