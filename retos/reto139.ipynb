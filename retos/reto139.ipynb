{
  "nbformat": 4,
  "nbformat_minor": 0,
  "metadata": {
    "colab": {
      "provenance": [],
      "authorship_tag": "ABX9TyO1n88KLwC857BFGAB+dVGy",
      "include_colab_link": true
    },
    "kernelspec": {
      "name": "python3",
      "display_name": "Python 3"
    },
    "language_info": {
      "name": "python"
    }
  },
  "cells": [
    {
      "cell_type": "markdown",
      "metadata": {
        "id": "view-in-github",
        "colab_type": "text"
      },
      "source": [
        "<a href=\"https://colab.research.google.com/github/financieras/curso_python/blob/main/retos/reto139.ipynb\" target=\"_parent\"><img src=\"https://colab.research.google.com/assets/colab-badge.svg\" alt=\"Open In Colab\"/></a>"
      ]
    },
    {
      "cell_type": "markdown",
      "source": [
        "## Reto 139: Comprobar si un array cabe dentro de otro\n",
        "* Cree una función que devuelva `True` si la primera lista se puede anidar dentro de la segunda y `False` en caso contrario.\n",
        "* Ejemplos:\n",
        "    1. can_nest([1, 2, 3, 4], [0, 6]) ➞ True\n",
        "    2. can_nest([3, 1], [4, 2, 0]) ➞ True\n",
        "    3. can_nest([2, -1], [-3, 5]) ➞ True\n",
        "    3. can_nest([9, 9, 8], [8, 9]) ➞ False\n",
        "    4. can_nest([1, 2, 3, 4], [2, 3]) ➞ False\n",
        "    5. can_nest([1, 2, 4, 5, 6], [0, 6]) ➞ False\n",
        "    6. can_nest([0, 1, 2, 3, 5], [0, 6]) ➞ False"
      ],
      "metadata": {
        "id": "oFfB679qmVl6"
      }
    },
    {
      "cell_type": "code",
      "source": [
        "def can_nest(lst1, lst2):\n",
        "    pass"
      ],
      "metadata": {
        "id": "Vkw7_Qg-2Xes"
      },
      "execution_count": null,
      "outputs": []
    },
    {
      "cell_type": "code",
      "source": [
        "print(can_nest([1, 2, 3, 4], [0, 6]))\n",
        "print(can_nest([3, 1], [4, 2, 0]))\n",
        "print(can_nest([2, -1], [-3, 5]))\n",
        "print(can_nest([9, 9, 8], [8, 9]))\n",
        "print(can_nest([1, 2, 3, 4], [2, 3]))\n",
        "print(can_nest([1, 2, 4, 5, 6], [0, 6]))\n",
        "print(can_nest([0, 1, 2, 3, 5], [0, 6]))"
      ],
      "metadata": {
        "id": "MTwONeIP2Xes"
      },
      "execution_count": null,
      "outputs": []
    }
  ]
}