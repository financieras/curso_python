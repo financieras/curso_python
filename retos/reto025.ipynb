{
  "nbformat": 4,
  "nbformat_minor": 0,
  "metadata": {
    "colab": {
      "provenance": [],
      "authorship_tag": "ABX9TyM7XywucC6M893cPWq+HiaM",
      "include_colab_link": true
    },
    "kernelspec": {
      "name": "python3",
      "display_name": "Python 3"
    },
    "language_info": {
      "name": "python"
    }
  },
  "cells": [
    {
      "cell_type": "markdown",
      "metadata": {
        "id": "view-in-github",
        "colab_type": "text"
      },
      "source": [
        "<a href=\"https://colab.research.google.com/github/financieras/curso_python/blob/main/retos/reto025.ipynb\" target=\"_parent\"><img src=\"https://colab.research.google.com/assets/colab-badge.svg\" alt=\"Open In Colab\"/></a>"
      ]
    },
    {
      "cell_type": "markdown",
      "source": [
        "## Reto 25: ¡Jorge creó un bucle infinito!\n",
        "* Ayúdale arreglando el código para que los ejemplos siguientes trabajen correctamente.\n",
        "* Ejemplos:\n",
        "    1. generar_array(1) ➞ [1]\n",
        "    2. generar_array(3) ➞ [1, 2, 3]\n",
        "    3. generar_array(6) ➞ [1, 2, 3, 4, 5, 6]\n",
        "\n",
        "\n",
        "* Este es el código que no funciona bien:\n",
        "\n",
        "```python\n",
        "def generar_array(n):\n",
        "    numeros = []\n",
        "    i = 0\n",
        "    while i <= n:\n",
        "        numeros.append(i)\n",
        "    return numeros\n",
        "```"
      ],
      "metadata": {
        "id": "vto4bc1xSygj"
      }
    },
    {
      "cell_type": "code",
      "source": [
        "def generar_array(n):\n",
        "    pass"
      ],
      "metadata": {
        "id": "gCj24j0O84wK"
      },
      "execution_count": null,
      "outputs": []
    },
    {
      "cell_type": "code",
      "source": [
        "print(generar_array(1))\n",
        "print(generar_array(3))\n",
        "print(generar_array(6))"
      ],
      "metadata": {
        "id": "lYi93nYr8--z"
      },
      "execution_count": null,
      "outputs": []
    }
  ]
}