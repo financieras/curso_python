{
  "nbformat": 4,
  "nbformat_minor": 0,
  "metadata": {
    "colab": {
      "provenance": [],
      "authorship_tag": "ABX9TyOsax1WSfAgyVklDgYRaXfA",
      "include_colab_link": true
    },
    "kernelspec": {
      "name": "python3",
      "display_name": "Python 3"
    },
    "language_info": {
      "name": "python"
    }
  },
  "cells": [
    {
      "cell_type": "markdown",
      "metadata": {
        "id": "view-in-github",
        "colab_type": "text"
      },
      "source": [
        "<a href=\"https://colab.research.google.com/github/financieras/curso_python/blob/main/retos/reto001.ipynb\" target=\"_parent\"><img src=\"https://colab.research.google.com/assets/colab-badge.svg\" alt=\"Open In Colab\"/></a>"
      ]
    },
    {
      "cell_type": "markdown",
      "source": [
        "## Reto 1: Retornar la suma de dos números\n",
        "* Cree una función que tome dos números como argumentos y devuelva su suma.\n",
        "* Ejemplos:\n",
        "    1. sumar(3, 2) ➞ 5\n",
        "    2. sumar(-3, -6) ➞ -9\n",
        "    3. sumar(7, 3) ➞ 10"
      ],
      "metadata": {
        "id": "c1sQ-fIGDDs5"
      }
    },
    {
      "cell_type": "code",
      "source": [
        "def sumar(a, b):\n",
        "    pass"
      ],
      "metadata": {
        "id": "PEhcTw9T0Fk8"
      },
      "execution_count": null,
      "outputs": []
    },
    {
      "cell_type": "code",
      "source": [
        "print(sumar(3, 2))\n",
        "print(sumar(-3, -6))\n",
        "print(sumar(7, 3))"
      ],
      "metadata": {
        "id": "GM1b90Me0f8d"
      },
      "execution_count": null,
      "outputs": []
    }
  ]
}