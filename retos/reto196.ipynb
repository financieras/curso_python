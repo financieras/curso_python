{
  "nbformat": 4,
  "nbformat_minor": 0,
  "metadata": {
    "colab": {
      "provenance": [],
      "authorship_tag": "ABX9TyNNMNZRVJQ7NSEL7BpPaLCH",
      "include_colab_link": true
    },
    "kernelspec": {
      "name": "python3",
      "display_name": "Python 3"
    },
    "language_info": {
      "name": "python"
    }
  },
  "cells": [
    {
      "cell_type": "markdown",
      "metadata": {
        "id": "view-in-github",
        "colab_type": "text"
      },
      "source": [
        "<a href=\"https://colab.research.google.com/github/financieras/curso_python/blob/main/retos/reto196.ipynb\" target=\"_parent\"><img src=\"https://colab.research.google.com/assets/colab-badge.svg\" alt=\"Open In Colab\"/></a>"
      ]
    },
    {
      "cell_type": "markdown",
      "source": [
        "## Reto 196: Entero que aparece un número impar de veces\n",
        "* Cree una función que tome una lista y encuentre el número entero que aparece un número impar de veces.\n",
        "* Siempre habrá un solo número entero que aparezca un número impar de veces.\n",
        "* Ejemplos:\n",
        "    1. find_odd([1, 1, 2, -2, 5, 2, 4, 4, -1, -2, 5]) ➞ -1\n",
        "    2. find_odd([20, 1, 1, 2, 2, 3, 3, 5, 5, 4, 20, 4, 5]) ➞ 5\n",
        "    3. find_odd([10]) ➞ 10"
      ],
      "metadata": {
        "id": "GqUHnn6L5-hG"
      }
    },
    {
      "cell_type": "code",
      "source": [
        "def find_odd(lista):\n",
        "    pass"
      ],
      "metadata": {
        "id": "TmmZLPRM5-hG"
      },
      "execution_count": null,
      "outputs": []
    },
    {
      "cell_type": "code",
      "source": [
        "print(find_odd([1, 1, 2, -2, 5, 2, 4, 4, -1, -2, 5]))\n",
        "print(find_odd([20, 1, 1, 2, 2, 3, 3, 5, 5, 4, 20, 4, 5]))\n",
        "print(find_odd([10]))"
      ],
      "metadata": {
        "id": "YeSgIa_j5-hG"
      },
      "execution_count": null,
      "outputs": []
    }
  ]
}