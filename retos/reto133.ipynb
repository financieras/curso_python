{
  "nbformat": 4,
  "nbformat_minor": 0,
  "metadata": {
    "colab": {
      "provenance": [],
      "authorship_tag": "ABX9TyPAG5gW5cZoIckBrc7AaKAR",
      "include_colab_link": true
    },
    "kernelspec": {
      "name": "python3",
      "display_name": "Python 3"
    },
    "language_info": {
      "name": "python"
    }
  },
  "cells": [
    {
      "cell_type": "markdown",
      "metadata": {
        "id": "view-in-github",
        "colab_type": "text"
      },
      "source": [
        "<a href=\"https://colab.research.google.com/github/financieras/curso_python/blob/main/retos/reto133.ipynb\" target=\"_parent\"><img src=\"https://colab.research.google.com/assets/colab-badge.svg\" alt=\"Open In Colab\"/></a>"
      ]
    },
    {
      "cell_type": "markdown",
      "source": [
        "## Reto 133: Encontrar `None` en una lista\n",
        "* Cree una función para encontrar `None` en una lista de números.\n",
        "* El valor de retorno debe ser el índice donde se encuentra `None`.\n",
        "* Si no se encuentra `None` en la lista, devuelva -1.\n",
        "* `None` aparecerá en la lista como máximo una vez.\n",
        "* Ejemplos:\n",
        "    1. find_none([1, 2, None]) ➞ 2\n",
        "    2. find_none([None, 1, 2, 3, 4]) ➞ 0\n",
        "    3. find_none([0, 1, 2, 3, 4]) ➞ -1"
      ],
      "metadata": {
        "id": "iVYlgvgUmVCY"
      }
    },
    {
      "cell_type": "code",
      "source": [
        "def find_none(lst):\n",
        "    pass"
      ],
      "metadata": {
        "id": "zWYHUrjO2Z9R"
      },
      "execution_count": null,
      "outputs": []
    },
    {
      "cell_type": "code",
      "source": [
        "print(find_none([1, 2, None]))\n",
        "print(find_none([None, 1, 2, 3, 4]))\n",
        "print(find_none([0, 1, 2, 3, 4]))"
      ],
      "metadata": {
        "id": "GzlKI43e2Z9R"
      },
      "execution_count": null,
      "outputs": []
    }
  ]
}