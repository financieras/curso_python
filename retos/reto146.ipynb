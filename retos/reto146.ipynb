{
  "nbformat": 4,
  "nbformat_minor": 0,
  "metadata": {
    "colab": {
      "provenance": [],
      "authorship_tag": "ABX9TyMqzQZXado+TZCY6e6s2w+p",
      "include_colab_link": true
    },
    "kernelspec": {
      "name": "python3",
      "display_name": "Python 3"
    },
    "language_info": {
      "name": "python"
    }
  },
  "cells": [
    {
      "cell_type": "markdown",
      "metadata": {
        "id": "view-in-github",
        "colab_type": "text"
      },
      "source": [
        "<a href=\"https://colab.research.google.com/github/financieras/curso_python/blob/main/retos/reto146.ipynb\" target=\"_parent\"><img src=\"https://colab.research.google.com/assets/colab-badge.svg\" alt=\"Open In Colab\"/></a>"
      ]
    },
    {
      "cell_type": "markdown",
      "source": [
        "## Reto 146: Suma de mínimos en una matriz\n",
        "* Cree una función que tome una matriz y devuelva la suma del valor mínimo en cada fila.\n",
        "* Una matriz es una lista de listas, esto es, una lista donde los elementos son otras listas.\n",
        "* Ejemplos:\n",
        "    1. sum_minimums([[1, 2, 3, 4], [5, 6, 7, 8], [20, 21, 34, 10]]) ➞ 16\n",
        "    2. sum_minimums([[8, 9, -3], [3, 8, 4], [0, -2, 4]]) ➞ -2\n"
      ],
      "metadata": {
        "id": "faQ0Lgb3mWSM"
      }
    },
    {
      "cell_type": "code",
      "source": [
        "def sum_minimums(matrix):\n",
        "    pass"
      ],
      "metadata": {
        "id": "a9FGFHrF2Svt"
      },
      "execution_count": null,
      "outputs": []
    },
    {
      "cell_type": "code",
      "source": [
        "print(sum_minimums([[1, 2, 3, 4], [5, 6, 7, 8], [20, 21, 34, 10]]))\n",
        "print(sum_minimums([[8, 9, -3], [3, 8, 4], [0, -2, 4]]))"
      ],
      "metadata": {
        "id": "pmw9P32y2Svy"
      },
      "execution_count": null,
      "outputs": []
    }
  ]
}