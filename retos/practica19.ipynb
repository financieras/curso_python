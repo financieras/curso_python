{
  "nbformat": 4,
  "nbformat_minor": 0,
  "metadata": {
    "colab": {
      "provenance": [],
      "authorship_tag": "ABX9TyPaizPvA/MFG8NPLtIA/5/l",
      "include_colab_link": true
    },
    "kernelspec": {
      "name": "python3",
      "display_name": "Python 3"
    },
    "language_info": {
      "name": "python"
    }
  },
  "cells": [
    {
      "cell_type": "markdown",
      "metadata": {
        "id": "view-in-github",
        "colab_type": "text"
      },
      "source": [
        "<a href=\"https://colab.research.google.com/github/financieras/curso_python/blob/main/retos/practica19.ipynb\" target=\"_parent\"><img src=\"https://colab.research.google.com/assets/colab-badge.svg\" alt=\"Open In Colab\"/></a>"
      ]
    },
    {
      "cell_type": "markdown",
      "source": [
        "## Reto 181: Obtener el Factorial\n",
        "* Cree una función que tome un número entero, no negativo y devuelva el factorial de ese número.\n",
        "* El factorial de un número entero es el número multiplicado por todos los números enteros inferiores positivos.\n",
        "* El factorial de 5 es 5*4*3*2*1\n",
        "* El factorial de cero es 1, por definición.\n",
        "* Suponga que todas las entradas son mayores o iguales a 0.\n",
        "* Ejemplos:\n",
        "    1. factorial(3) ➞ 6\n",
        "    2. factorial(5) ➞ 120\n",
        "    3. factorial(13) ➞ 6227020800\n",
        "    4. factorial(0) ➞ 1"
      ],
      "metadata": {
        "id": "B5rvoAli8yIt"
      }
    },
    {
      "cell_type": "code",
      "source": [
        "def factorial(n):\n",
        "    pass"
      ],
      "metadata": {
        "id": "ev55LvpW9lbI"
      },
      "execution_count": null,
      "outputs": []
    },
    {
      "cell_type": "code",
      "source": [
        "print(factorial(3))\n",
        "print(factorial(5))\n",
        "print(factorial(13))\n",
        "print(factorial(0))"
      ],
      "metadata": {
        "id": "kB8GqcvH-n0X"
      },
      "execution_count": null,
      "outputs": []
    },
    {
      "cell_type": "markdown",
      "source": [
        "## Reto 182 Separar un número en dos partes\n",
        "* Dado un número `n`, devuelva una lista que contenga las dos mitades del número.\n",
        "* Si el número es impar, haga que el mayor se el que está más a la derecha.\n",
        "* El número `n` siempre será un número entero.\n",
        "* El número `n` puede ser negativo.\n",
        "* Ejemplos:\n",
        "    1. number_split(4) ➞ [2, 2]\n",
        "    2. number_split(10) ➞ [5, 5]\n",
        "    3. number_split(11) ➞ [5, 6]\n",
        "    4. number_split(-9) ➞ [-5, -4]\n",
        "    5. number_split(0) ➞ [0, 0]"
      ],
      "metadata": {
        "id": "ltxtlwi5AFZt"
      }
    },
    {
      "cell_type": "code",
      "source": [
        "def number_split(n):\n",
        "    pass"
      ],
      "metadata": {
        "id": "WX4YXqa2BLBM"
      },
      "execution_count": null,
      "outputs": []
    },
    {
      "cell_type": "code",
      "source": [
        "print(number_split(4))\n",
        "print(number_split(10))\n",
        "print(number_split(11))\n",
        "print(number_split(-9))\n",
        "print(number_split(0))"
      ],
      "metadata": {
        "id": "cQms7DobBea-"
      },
      "execution_count": null,
      "outputs": []
    },
    {
      "cell_type": "markdown",
      "source": [
        "## Reto 183: La misma paridad\n",
        "* Cree una función que tome un número como entrada y devuelva `True' si la suma de sus dígitos tiene la misma paridad que el número completo.\n",
        "* De lo contrario, devuelve `False`.\n",
        "* La paridad consiste en ver si un número es par o impar.\n",
        "* Si la suma de los dígitos es par y el número en sí es par, devuelve 'True`.\n",
        "* También devuelve 'True' si el número es impar y también lo es la suma de sus dígitos.\n",
        "* Los números de un solo dígito obviamente tendrán la misma paridad.\n",
        "* Ejemplos:\n",
        "    1. parity_analysis(243) ➞ True\n",
        "    2. parity_analysis(444) ➞ True\n",
        "    3. parity_analysis(1243) ➞ False\n",
        "    4. parity_analysis(344) ➞ False\n",
        "    5. parity_analysis(12) ➞ False\n",
        "    6. parity_analysis(3) ➞ True"
      ],
      "metadata": {
        "id": "ZH1qXQr0EIrt"
      }
    },
    {
      "cell_type": "code",
      "source": [
        "def parity_analysis(n):\n",
        "    pass"
      ],
      "metadata": {
        "id": "2pSrnGbME4gA"
      },
      "execution_count": null,
      "outputs": []
    },
    {
      "cell_type": "code",
      "source": [
        "print(parity_analysis(243))\n",
        "print(parity_analysis(444))\n",
        "print(parity_analysis(1243))\n",
        "print(parity_analysis(344))\n",
        "print(parity_analysis(12))\n",
        "print(parity_analysis(3))"
      ],
      "metadata": {
        "id": "NG_O_yCTFC7X"
      },
      "execution_count": null,
      "outputs": []
    },
    {
      "cell_type": "markdown",
      "source": [
        "## Reto 184: Acordes de JAZZ\n",
        "* Cree una función que concatene el número 7 al final de cada acorde en una lista.\n",
        "* Ignore todos los acordes que ya terminan en 7.\n",
        "* Devuelva una lista vacía si la lista dada está vacía.\n",
        "* Ejemplos:\n",
        "    1. jazzify([\"G\", \"F\", \"C\"]) ➞ [\"G7\", \"F7\", \"C7\"]\n",
        "    2. jazzify([\"Dm\", \"G\", \"E\", \"A\"]) ➞ [\"Dm7\", \"G7\", \"E7\", \"A7\"]\n",
        "    3. jazzify([\"F7\", \"E7\", \"A7\", \"Ab7\", \"Gm7\", \"C7\"]) ➞ [\"F7\", \"E7\", \"A7\", \"Ab7\", \"Gm7\", \"C7\"]\n",
        "    4. jazzify([\"A\", \"E\", \"A7\", \"Ab7\", \"F\"]) ➞ ['A7', 'E7', 'A7', 'Ab7', 'F7']\n",
        "    5. jazzify([]) ➞ []"
      ],
      "metadata": {
        "id": "nUV8AM8D3Le3"
      }
    },
    {
      "cell_type": "code",
      "source": [
        "def jazzify(lst):\n",
        "    pass"
      ],
      "metadata": {
        "id": "hwsGVqvP5PaV"
      },
      "execution_count": null,
      "outputs": []
    },
    {
      "cell_type": "code",
      "source": [
        "print(jazzify([\"G\", \"F\", \"C\"]))\n",
        "print(jazzify([\"Dm\", \"G\", \"E\", \"A\"]))\n",
        "print(jazzify([\"F7\", \"E7\", \"A7\", \"Ab7\", \"Gm7\", \"C7\"]))\n",
        "print(jazzify([\"A\", \"E\", \"A7\", \"Ab7\", \"F\"]))\n",
        "print([])"
      ],
      "metadata": {
        "id": "yd0ufoUU5Wkp"
      },
      "execution_count": null,
      "outputs": []
    },
    {
      "cell_type": "markdown",
      "source": [
        "## Reto 185: Estado de ánimo predeterminado\n",
        "* Cree una función que tome su estado de ánimo actual y devuelva una oración en el siguiente formato:\n",
        "    - `\"Hoy me siento {estado de ánimo}.\"`\n",
        "* Sin embargo, si no se pasa ningún argumento, devuelva:\n",
        "    - `\"Hoy me siento neutral.\"`\n",
        "\n",
        "* Compruebe que todas las frases terminan en punto.\n",
        "* Ejemplos:\n",
        "    1. mood_today(\"feliz\") ➞ \"Hoy me siento feliz.\"\n",
        "    2. mood_today(\"triste\") ➞ \"Hoy me siento triste.\"\n",
        "    3. mood_today() ➞ \"Hoy me siento neutral.\""
      ],
      "metadata": {
        "id": "Z3XP5FLP5vGa"
      }
    },
    {
      "cell_type": "code",
      "source": [
        "def mood_today(estado=\"neutral\"):\n",
        "    pass"
      ],
      "metadata": {
        "id": "gY1SN3325gOe"
      },
      "execution_count": null,
      "outputs": []
    },
    {
      "cell_type": "code",
      "source": [
        "print(mood_today(\"feliz\"))\n",
        "print(mood_today(\"triste\"))\n",
        "print(mood_today())"
      ],
      "metadata": {
        "id": "b2RtGyUa5b0V"
      },
      "execution_count": null,
      "outputs": []
    },
    {
      "cell_type": "markdown",
      "source": [
        "## Reto 186: ¿Es hora de tomar leche y galletas?\n",
        "* La Nochebuena ya casi está aquí, así que, naturalmente, ¡necesitamos preparar un poco de leche y galletas para Papá Noel!\n",
        "* Cree una función que acepte un objeto Fecha y devuelva `True` si es Nochebuena (24 de diciembre) y `False' en caso contrario.\n",
        "* Ejemplos:\n",
        "    1. time_for_milk_and_cookies(datetime.date(2024, 12, 24)) ➞ True\n",
        "    2. time_for_milk_and_cookies(datetime.date(2028, 1, 23)) ➞ False\n",
        "    3. time_for_milk_and_cookies(datetime.date(2100, 12, 24)) ➞ True"
      ],
      "metadata": {
        "id": "rHBI03sL50x3"
      }
    },
    {
      "cell_type": "code",
      "source": [
        "def time_for_milk_and_cookies(d):\n",
        "    pass"
      ],
      "metadata": {
        "id": "UaXVksbn5o0I"
      },
      "execution_count": null,
      "outputs": []
    },
    {
      "cell_type": "code",
      "source": [
        "print(time_for_milk_and_cookies(datetime.date(2024, 12, 24)))\n",
        "print(time_for_milk_and_cookies(datetime.date(2028, 1, 23)))\n",
        "print(time_for_milk_and_cookies(datetime.date(2100, 12, 24)))"
      ],
      "metadata": {
        "id": "AreLvrhq5o0Q"
      },
      "execution_count": null,
      "outputs": []
    },
    {
      "cell_type": "markdown",
      "source": [
        "## Reto 187: Terna pitagórica\n",
        "* Cree una función que valide si tres números enteros dados forman un [terna pitagórica](https://es.wikipedia.org/wiki/Terna_pitagórica).\n",
        "* La suma de los cuadrados de los dos números enteros más pequeños debe ser igual al cuadrado del número mayor.\n",
        "* Ejemplos:\n",
        "    1. is_triplet(3, 4, 5) ➞ True\n",
        "        * 3² + 4² = 5²\n",
        "    2. is_triplet(13, 5, 12) ➞ True\n",
        "        * 5² + 12² = 13²\n",
        "    3. is_triplet(8, 17, 15) ➞ True\n",
        "        * 8² + 15² = 17²\n",
        "    4. is_triplet(1, 2, 3) ➞ False\n",
        "        * 1² + 2² ≠ 3²"
      ],
      "metadata": {
        "id": "CXanfA8E54vu"
      }
    },
    {
      "cell_type": "code",
      "source": [
        "def is_triplet(a, b, c):\n",
        "    pass"
      ],
      "metadata": {
        "id": "D9XTEYkC54v2"
      },
      "execution_count": null,
      "outputs": []
    },
    {
      "cell_type": "code",
      "source": [
        "print(is_triplet(3, 4, 5))\n",
        "print(is_triplet(13, 5, 12))\n",
        "print(is_triplet(8, 17, 15))\n",
        "print(is_triplet(1, 2, 3))"
      ],
      "metadata": {
        "id": "xy4uawbY54v2"
      },
      "execution_count": null,
      "outputs": []
    },
    {
      "cell_type": "markdown",
      "source": [
        "## Reto 188: ¿Cuántas vocales?\n",
        "* Cree una función que tome una palabra y devuelva el número de vocales que contiene.\n",
        "* La palabra que se se envía a la función como argumento va en inglés para evitar caso de tildes y diéresis.\n",
        "* Ejemplos:\n",
        "    1. count_vowels(\"Celebration\") ➞ 5\n",
        "    2. count_vowels(\"Palm\") ➞ 1\n",
        "    3. count_vowels(\"Prediction\") ➞ 4\n",
        "    4. count_vowels(\"Atlanta\") ➞ 3"
      ],
      "metadata": {
        "id": "pT4bUsjG54_C"
      }
    },
    {
      "cell_type": "code",
      "source": [
        "def count_vowels(palabra):\n",
        "    pass"
      ],
      "metadata": {
        "id": "20zbgKEC54_D"
      },
      "execution_count": null,
      "outputs": []
    },
    {
      "cell_type": "code",
      "source": [
        "print(count_vowels(\"Celebration\"))\n",
        "print(count_vowels(\"Palm\"))\n",
        "print(count_vowels(\"Prediction\"))\n",
        "print(count_vowels(\"Atlanta\"))"
      ],
      "metadata": {
        "id": "cGfDYXcy54_D"
      },
      "execution_count": null,
      "outputs": []
    },
    {
      "cell_type": "markdown",
      "source": [
        "## Reto 189: Código ASCII del carácter inverso\n",
        "* Encuentre el código de caracteres ASCII del carácter de caso inverso.\n",
        "* El argumento siempre será de un solo carácter.\n",
        "* No todas las entradas tendrán una contraparte (por ejemplo, números), en cuyo caso devolverá el código del caractere de la entrada.\n",
        "* Ejemplos:\n",
        "    1. counterpartCharCode(\"A\") ➞ 97\n",
        "    2. counterpartCharCode(\"a\") ➞ 65\n",
        "    3. counterpartCharCode(\"*\") ➞ 42\n",
        "    4. counterpartCharCode(\"Z\") ➞ 122\n",
        "\n",
        "* Dado que:\n",
        "    - El código de carácter \"A\" es: 65\n",
        "    - El código de carácter \"a\" es: 97"
      ],
      "metadata": {
        "id": "Oo9SqqXq55Pw"
      }
    },
    {
      "cell_type": "code",
      "source": [
        "def counterpartCharCode(caracter):\n",
        "    pass"
      ],
      "metadata": {
        "id": "1UDdhriq55Px"
      },
      "execution_count": null,
      "outputs": []
    },
    {
      "cell_type": "code",
      "source": [
        "print(counterpartCharCode(\"A\"))\n",
        "print(counterpartCharCode(\"a\"))\n",
        "print(counterpartCharCode(\"*\"))\n",
        "print(counterpartCharCode(\"Z\"))"
      ],
      "metadata": {
        "id": "pI047PMx55Px"
      },
      "execution_count": null,
      "outputs": []
    },
    {
      "cell_type": "markdown",
      "source": [
        "## Reto 190: Suma de divisores en un rango\n",
        "* Cree una función que tome tres argumentos a, b, c y devuelva la suma de los números divisibles ebtre c del rango a, b, ambos inclusive.\n",
        "* Ejemplos:\n",
        "    1. evenly_divisible(1, 10, 20) ➞ 0\n",
        "        * No hay números entre 1 y 10 divisibles entre 20.\n",
        "    2. evenly_divisible(1, 10, 2) ➞ 30\n",
        "        * 2 + 4 + 6 + 8 + 10 = 30\n",
        "    3. evenly_divisible(1, 10, 3) ➞ 18\n",
        "        * 3 + 6 + 9 = 18\n",
        "    4. evenly_divisible(1, 100, 1) ➞ 5050"
      ],
      "metadata": {
        "id": "rEd41wdF55rd"
      }
    },
    {
      "cell_type": "code",
      "source": [
        "def evenly_divisible(a, b, c):\n",
        "    pass"
      ],
      "metadata": {
        "id": "r8-ZQ3I255rd"
      },
      "execution_count": null,
      "outputs": []
    },
    {
      "cell_type": "code",
      "source": [
        "print(evenly_divisible(1, 10, 20))\n",
        "print(evenly_divisible(1, 10, 2))\n",
        "print(evenly_divisible(1, 10, 3))\n",
        "print(evenly_divisible(1, 100, 1))"
      ],
      "metadata": {
        "id": "tUECjU1155re"
      },
      "execution_count": null,
      "outputs": []
    }
  ]
}