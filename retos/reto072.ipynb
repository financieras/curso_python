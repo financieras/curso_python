{
  "nbformat": 4,
  "nbformat_minor": 0,
  "metadata": {
    "colab": {
      "provenance": [],
      "authorship_tag": "ABX9TyMmk/kXkHghRtobcR2Cna5H",
      "include_colab_link": true
    },
    "kernelspec": {
      "name": "python3",
      "display_name": "Python 3"
    },
    "language_info": {
      "name": "python"
    }
  },
  "cells": [
    {
      "cell_type": "markdown",
      "metadata": {
        "id": "view-in-github",
        "colab_type": "text"
      },
      "source": [
        "<a href=\"https://colab.research.google.com/github/financieras/curso_python/blob/main/retos/reto072.ipynb\" target=\"_parent\"><img src=\"https://colab.research.google.com/assets/colab-badge.svg\" alt=\"Open In Colab\"/></a>"
      ]
    },
    {
      "cell_type": "markdown",
      "source": [
        "## Reto 72: Comparing Arrays\n",
        "* La programadora Ada Lovelace, está intentando crear una función que devuelva `True` si dos listas comparten la misma longitud y tienen valores numéricos idénticos en cada índice; de ​​lo contrario, devolverá `False`.\n",
        "* Sin embargo, la solución que ofrece su función tiene un formato inesperado.\n",
        "* ¿Puede arreglar la función de Ada para que se comporte como se ve en los ejemplos siguientes?\n",
        "* Ejemplos:\n",
        "\t1. check_equals([1, 2], [1, 3]) ➞ False\n",
        "\t2. check_equals([1, 2], [1, 2]) ➞ True\n",
        "\t3. check_equals([4, 5, 6], [4, 5, 6]) ➞ True\n",
        "\t4. check_equals([4, 7, 6], [4, 5, 6]) ➞ False\n",
        "\t5. check_equals([\"*\"], [chr(42)]) ➞ True\n",
        "\n",
        "* La función incorrecta es la siguiente:\n",
        "\n",
        "<pre>\n",
        "def check_equals(lst1, lst2):\n",
        "\tif [lst1[::] = lst2[::]]:\n",
        "\t\tprint(true)\n",
        "\telse:\n",
        "\t\tprint(false)\n",
        "</pre>\n"
      ],
      "metadata": {
        "id": "wtBc_7IpWfMG"
      }
    },
    {
      "cell_type": "code",
      "source": [
        "def check_equals(lst1, lst2):\n",
        "    pass"
      ],
      "metadata": {
        "id": "W9sgghc425um"
      },
      "execution_count": null,
      "outputs": []
    },
    {
      "cell_type": "code",
      "source": [
        "print(check_equals([1, 2], [1, 3]))\n",
        "print(check_equals([1, 2], [1, 2]))\n",
        "print(check_equals([4, 5, 6], [4, 5, 6]))\n",
        "print(check_equals([4, 7, 6], [4, 5, 6]))\n",
        "print(check_equals([\"*\"], [chr(42)]))"
      ],
      "metadata": {
        "id": "NZSl50lY25um"
      },
      "execution_count": null,
      "outputs": []
    }
  ]
}