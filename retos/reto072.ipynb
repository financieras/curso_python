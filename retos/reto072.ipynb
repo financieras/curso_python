{
  "nbformat": 4,
  "nbformat_minor": 0,
  "metadata": {
    "colab": {
      "provenance": [],
      "authorship_tag": "ABX9TyMeT3OPeeh3sQdbdgKklKd3",
      "include_colab_link": true
    },
    "kernelspec": {
      "name": "python3",
      "display_name": "Python 3"
    },
    "language_info": {
      "name": "python"
    }
  },
  "cells": [
    {
      "cell_type": "markdown",
      "metadata": {
        "id": "view-in-github",
        "colab_type": "text"
      },
      "source": [
        "<a href=\"https://colab.research.google.com/github/financieras/curso_python/blob/main/retos/reto072.ipynb\" target=\"_parent\"><img src=\"https://colab.research.google.com/assets/colab-badge.svg\" alt=\"Open In Colab\"/></a>"
      ]
    },
    {
      "cell_type": "markdown",
      "source": [
        "## Reto 72: Comparando Arrays\n",
        "* La programadora [Ada Lovelace](https://en.wikipedia.org/wiki/Ada_Lovelace), está intentando crear una función que devuelva `True` si dos listas comparten la misma longitud y tienen valores numéricos idénticos en cada índice; de ​​lo contrario, devolverá `False`.\n",
        "* Sin embargo, la solución que ofrece su función tiene un formato inesperado.\n",
        "* ¿Puede arreglar la función de Ada para que se comporte como se ve en los ejemplos siguientes?\n",
        "* Ejemplos:\n",
        "\t1. comprobar_iguales([4, 7, 6], [4, 5, 6]) ➞ False\n",
        "\t2. comprobar_iguales([1, 2], [1, 3]) ➞ False\n",
        "\t3. comprobar_iguales([1, 2], [1, 2]) ➞ True\n",
        "\t4. comprobar_iguales([4, 5, 6], [4, 5, 12/2]) ➞ True\n",
        "\t5. comprobar_iguales([\"*\"], [chr(42)]) ➞ True\n",
        "\n",
        "* La función incorrecta es la siguiente:\n",
        "\n",
        "```python\n",
        "def comprobar_iguales(lst1, lst2):\n",
        "\tif [lst1[::] = lst2[::]]:\n",
        "\t\tprint(true)\n",
        "\telse:\n",
        "\t\tprint(false)\n",
        "```"
      ],
      "metadata": {
        "id": "ifR3HoqLjHXL"
      }
    },
    {
      "cell_type": "code",
      "execution_count": null,
      "metadata": {
        "id": "MNg5vzVZjGkJ"
      },
      "outputs": [],
      "source": [
        "def comprobar_iguales(lst1, lst2):\n",
        "    pass"
      ]
    },
    {
      "cell_type": "code",
      "source": [
        "print(comprobar_iguales([4, 7, 6], [4, 5, 6]))\n",
        "print(comprobar_iguales([1, 2], [1, 3]))\n",
        "print(comprobar_iguales([1, 2], [1, 2]))\n",
        "print(comprobar_iguales([4, 5, 6], [4, 5, 12/2]))\n",
        "print(comprobar_iguales([\"*\"], [chr(42)]))"
      ],
      "metadata": {
        "id": "330zXbxojPcJ"
      },
      "execution_count": null,
      "outputs": []
    }
  ]
}