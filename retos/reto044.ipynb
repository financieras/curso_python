{
  "nbformat": 4,
  "nbformat_minor": 0,
  "metadata": {
    "colab": {
      "provenance": [],
      "authorship_tag": "ABX9TyOLIHmxlhm5avkFK1DZ+abt",
      "include_colab_link": true
    },
    "kernelspec": {
      "name": "python3",
      "display_name": "Python 3"
    },
    "language_info": {
      "name": "python"
    }
  },
  "cells": [
    {
      "cell_type": "markdown",
      "metadata": {
        "id": "view-in-github",
        "colab_type": "text"
      },
      "source": [
        "<a href=\"https://colab.research.google.com/github/financieras/curso_python/blob/main/retos/reto044.ipynb\" target=\"_parent\"><img src=\"https://colab.research.google.com/assets/colab-badge.svg\" alt=\"Open In Colab\"/></a>"
      ]
    },
    {
      "cell_type": "markdown",
      "source": [
        "## Reto 44: Despistes al programar\n",
        "* Disponemos de una función que no trabaja correctamente ya que estábamos algo despistados al programarla.\n",
        "* Mire los ejemplos siguientes para tener una idea de lo que debe hacer la función.\n",
        "* Ejemplos:\n",
        "    1. max_num(3, 7) ➞ 7\n",
        "    2. max_num(-1, -4) ➞ -1\n",
        "    2. max_num(10, 10) ➞ 10\n",
        "\n",
        "* El código que da problemas es el siguiente:\n",
        "\n",
        "<pre>\n",
        "def max_num(n1, n2):\n",
        "\tif n1 > n2:\n",
        "\t\treturn n2\n",
        "\telif:\n",
        "\t\treturn n1\n",
        "</pre>\n"
      ],
      "metadata": {
        "id": "tJ6I-ImMynKm"
      }
    },
    {
      "cell_type": "code",
      "source": [
        "def max_num(n1, n2):\n",
        "    pass"
      ],
      "metadata": {
        "id": "VI-IY_YB9dHd"
      },
      "execution_count": null,
      "outputs": []
    },
    {
      "cell_type": "code",
      "source": [
        "print(max_num(3, 7))\n",
        "print(max_num(-1, -4))\n",
        "print(max_num(10, 10))"
      ],
      "metadata": {
        "id": "CXWsahXDE0N6"
      },
      "execution_count": null,
      "outputs": []
    }
  ]
}