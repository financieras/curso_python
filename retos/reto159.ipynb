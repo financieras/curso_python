{
  "nbformat": 4,
  "nbformat_minor": 0,
  "metadata": {
    "colab": {
      "provenance": [],
      "authorship_tag": "ABX9TyP7P4uR/hyzygV4/RuP+Ye1",
      "include_colab_link": true
    },
    "kernelspec": {
      "name": "python3",
      "display_name": "Python 3"
    },
    "language_info": {
      "name": "python"
    }
  },
  "cells": [
    {
      "cell_type": "markdown",
      "metadata": {
        "id": "view-in-github",
        "colab_type": "text"
      },
      "source": [
        "<a href=\"https://colab.research.google.com/github/financieras/curso_python/blob/main/retos/reto159.ipynb\" target=\"_parent\"><img src=\"https://colab.research.google.com/assets/colab-badge.svg\" alt=\"Open In Colab\"/></a>"
      ]
    },
    {
      "cell_type": "markdown",
      "source": [
        "## Reto 159: Convertir una Lista en un String\n",
        "* Cree una función que tome una lista de números o letras y devuelva una cadena.\n",
        "* Ejemplos:\n",
        "    1. list_to_string([1, 2, 3, 4, 5, 6]) ➞ \"123456\"\n",
        "    2. list_to_string([\"a\", \"b\", \"c\", \"d\", \"e\", \"f\"]) ➞ \"abcdef\"\n",
        "    3. list_to_string([1, 2, 3, \"a\", \"s\", \"dAAAA\"]) ➞ \"123asdAAAA\"\n"
      ],
      "metadata": {
        "id": "S3R6TrvamXtp"
      }
    },
    {
      "cell_type": "code",
      "source": [
        "def list_to_string(lst):\n",
        "    pass"
      ],
      "metadata": {
        "id": "rLNUOMP52HoN"
      },
      "execution_count": null,
      "outputs": []
    },
    {
      "cell_type": "code",
      "source": [
        "print(list_to_string([1, 2, 3, 4, 5, 6]))\n",
        "print(list_to_string([\"a\", \"b\", \"c\", \"d\", \"e\", \"f\"]))\n",
        "print(list_to_string([1, 2, 3, \"a\", \"s\", \"dAAAA\"]))"
      ],
      "metadata": {
        "id": "OqLpEg1y2HoO"
      },
      "execution_count": null,
      "outputs": []
    }
  ]
}