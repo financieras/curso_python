{
  "nbformat": 4,
  "nbformat_minor": 0,
  "metadata": {
    "colab": {
      "provenance": [],
      "authorship_tag": "ABX9TyMlauXjSNDUGbgndI628Y0j",
      "include_colab_link": true
    },
    "kernelspec": {
      "name": "python3",
      "display_name": "Python 3"
    },
    "language_info": {
      "name": "python"
    }
  },
  "cells": [
    {
      "cell_type": "markdown",
      "metadata": {
        "id": "view-in-github",
        "colab_type": "text"
      },
      "source": [
        "<a href=\"https://colab.research.google.com/github/financieras/curso_python/blob/main/retos/reto166.ipynb\" target=\"_parent\"><img src=\"https://colab.research.google.com/assets/colab-badge.svg\" alt=\"Open In Colab\"/></a>"
      ]
    },
    {
      "cell_type": "markdown",
      "source": [
        "## Reto 166: Contar las sílabas\n",
        "* Cree una función que devuelva el número de sílabas en una cadena simple.\n",
        "* La cadena se compone de palabras cortas repetidas como \"Lalalalalalala\" (que tendría 7 sílabas).\n",
        "* Para simplificar, tenga en cuenta que cada sílaba constará de dos letras únicamente.\n",
        "* Su código debe aceptar cadenas mayúsculas, minúsculas y mixtas.\n",
        "* Ejemplos:\n",
        "    1. count_syllables(\"Hehehehehehe\") ➞ 6\n",
        "    2. count_syllables(\"totototototototo\") ➞ 8\n",
        "    3. count_syllables(\"NANANA\") ➞ 3"
      ],
      "metadata": {
        "id": "WApfPkljlQql"
      }
    },
    {
      "cell_type": "code",
      "source": [
        "def count_syllables(txt):\n",
        "    pass"
      ],
      "metadata": {
        "id": "cH_w9A8-2EOf"
      },
      "execution_count": null,
      "outputs": []
    },
    {
      "cell_type": "code",
      "source": [
        "print(count_syllables(\"Hehehehehehe\"))\n",
        "print(count_syllables(\"totototototototo\"))\n",
        "print(count_syllables(\"NANANA\"))"
      ],
      "metadata": {
        "id": "tVweBCtG2EOf"
      },
      "execution_count": null,
      "outputs": []
    }
  ]
}