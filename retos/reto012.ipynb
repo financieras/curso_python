{
  "nbformat": 4,
  "nbformat_minor": 0,
  "metadata": {
    "colab": {
      "provenance": [],
      "authorship_tag": "ABX9TyM2HN4U+4k4xIajmri6avuN",
      "include_colab_link": true
    },
    "kernelspec": {
      "name": "python3",
      "display_name": "Python 3"
    },
    "language_info": {
      "name": "python"
    }
  },
  "cells": [
    {
      "cell_type": "markdown",
      "metadata": {
        "id": "view-in-github",
        "colab_type": "text"
      },
      "source": [
        "<a href=\"https://colab.research.google.com/github/financieras/curso_python/blob/main/retos/reto012.ipynb\" target=\"_parent\"><img src=\"https://colab.research.google.com/assets/colab-badge.svg\" alt=\"Open In Colab\"/></a>"
      ]
    },
    {
      "cell_type": "markdown",
      "source": [
        "## Reto 12: ¿Es un número negativo?\n",
        "* Cree una función que tome un número como único argumento y devuelva 'True' si es menor o igual a cero; de lo contrario, devuelva `False`.\n",
        "* Ejemplos:\n",
        "    1. menor_o_igual_a_cero(5) ➞ False\n",
        "    1. menor_o_igual_a_cero(0) ➞ True\n",
        "    1. menor_o_igual_a_cero(-2) ➞ True"
      ],
      "metadata": {
        "id": "rmZs31j9GdRp"
      }
    },
    {
      "cell_type": "code",
      "source": [
        "def menor_o_igual_a_cero(num):\n",
        "    pass"
      ],
      "metadata": {
        "id": "Y3ZM0K8prKCw"
      },
      "execution_count": null,
      "outputs": []
    },
    {
      "cell_type": "code",
      "source": [
        "print(menor_o_igual_a_cero(5))\n",
        "print(menor_o_igual_a_cero(0))\n",
        "print(menor_o_igual_a_cero(-2))"
      ],
      "metadata": {
        "id": "jUCTj3cRrZWt"
      },
      "execution_count": null,
      "outputs": []
    }
  ]
}