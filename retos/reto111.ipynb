{
  "nbformat": 4,
  "nbformat_minor": 0,
  "metadata": {
    "colab": {
      "provenance": [],
      "authorship_tag": "ABX9TyNBSnb5Gti/15tsVDMMr9rT",
      "include_colab_link": true
    },
    "kernelspec": {
      "name": "python3",
      "display_name": "Python 3"
    },
    "language_info": {
      "name": "python"
    }
  },
  "cells": [
    {
      "cell_type": "markdown",
      "metadata": {
        "id": "view-in-github",
        "colab_type": "text"
      },
      "source": [
        "<a href=\"https://colab.research.google.com/github/financieras/curso_python/blob/main/retos/reto111.ipynb\" target=\"_parent\"><img src=\"https://colab.research.google.com/assets/colab-badge.svg\" alt=\"Open In Colab\"/></a>"
      ]
    },
    {
      "cell_type": "markdown",
      "source": [
        "## Reto 111: Imprimir con formato\n",
        "* Para imprimir podemos utilizar el sistema de formato `f`.\n",
        "* Ejemplo:\n",
        "    - nombre = \"Pedro\"\n",
        "    - ciudad = \"Madrid\"\n",
        "    - print(f\"Soy {nombre} y vivo en {ciudad}.\")\n",
        "* Lo que se imprime es:\n",
        "    - `\"Soy Pedro y vivo en Madrid.\"`\n",
        "* Utilizando este sistema de formateo cree una función que retorne los siguientes casos.\n",
        "* Ejemplos:\n",
        "    1. biografia(\"Ana\", 15, \"Málaga\") ➞ \"Soy Ana, tego 15 años, vivo en Málaga y mañana cumpliré 16 años.\"\n",
        "    2. biografia(\"Jose\", 16, \"Ávila\") ➞ \"Soy Jose, tego 16 años, vivo en Ávila y mañana cumpliré 17 años.\"\n",
        "    3. biografia(\"Mar\", 17, \"Cádiz\") ➞ \"Soy Mar, tego 17 años, vivo en Cádiz y mañana cumpliré 18 años.\"\n"
      ],
      "metadata": {
        "id": "bGRMENljntno"
      }
    },
    {
      "cell_type": "code",
      "source": [
        "def biografia(nombre, edad, ciudad):\n",
        "    pass"
      ],
      "metadata": {
        "id": "k2comgkK2lb6"
      },
      "execution_count": null,
      "outputs": []
    },
    {
      "cell_type": "code",
      "source": [
        "print(biografia(\"Ana\", 15, \"Málaga\"))\n",
        "print(biografia(\"Jose\", 16, \"Ávila\"))\n",
        "print(biografia(\"Mar\", 17, \"Cádiz\"))"
      ],
      "metadata": {
        "id": "jF6-JEzK2lb7"
      },
      "execution_count": null,
      "outputs": []
    }
  ]
}