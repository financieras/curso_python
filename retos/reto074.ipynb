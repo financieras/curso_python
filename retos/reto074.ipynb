{
  "nbformat": 4,
  "nbformat_minor": 0,
  "metadata": {
    "colab": {
      "provenance": [],
      "authorship_tag": "ABX9TyPl5VAPgxtbFBD8OUoKg3KK",
      "include_colab_link": true
    },
    "kernelspec": {
      "name": "python3",
      "display_name": "Python 3"
    },
    "language_info": {
      "name": "python"
    }
  },
  "cells": [
    {
      "cell_type": "markdown",
      "metadata": {
        "id": "view-in-github",
        "colab_type": "text"
      },
      "source": [
        "<a href=\"https://colab.research.google.com/github/financieras/curso_python/blob/main/retos/reto074.ipynb\" target=\"_parent\"><img src=\"https://colab.research.google.com/assets/colab-badge.svg\" alt=\"Open In Colab\"/></a>"
      ]
    },
    {
      "cell_type": "markdown",
      "source": [
        "## Reto 74: Área de la figura\n",
        "* Escriba una función que acepte base, altura y forma (\"triángulo\", \"paralelogramo\") como entrada y calcule el área de esa figura.\n",
        "* La base y la altura pueden ser números que contengan decimales.\n",
        "* El área de un triángulo es `b * h / 2`.\n",
        "* El área de un paralelogramo es `b * h`.\n",
        "* Ejemplos:\n",
        "    1. area_figura(2, 3, \"triángulo\") ➞ 3\n",
        "    2. area_figura(8, 6, \"paralelogramo\") ➞ 48\n",
        "    3. area_figura(2.9, 1.3, \"paralelogramo\") ➞ 3.77\n",
        "    4. area_figura(2.8, 10.5, \"triángulo\") ➞ 14.7\n",
        "    5. area_figura(3, 7, \"elipse\") ➞ None\n",
        "\n",
        "* Observe que triángulo lleva tilde.\n",
        "* Para cualquier otra figura que no sea un triángulo o un paralelogramo la función retornará `None`."
      ],
      "metadata": {
        "id": "Bx5oVxN0grAu"
      }
    },
    {
      "cell_type": "code",
      "execution_count": null,
      "metadata": {
        "id": "0GLiR5blgpwm"
      },
      "outputs": [],
      "source": [
        "def area_figura(base, altura, figura):\n",
        "    pass"
      ]
    },
    {
      "cell_type": "code",
      "source": [
        "print(area_figura(2, 3, \"triángulo\"))\n",
        "print(area_figura(8, 6, \"paralelogramo\"))\n",
        "print(area_figura(2.9, 1.3, \"paralelogramo\"))\n",
        "print(area_figura(2.8, 10.5, \"triángulo\"))\n",
        "print(area_figura(3, 7, \"elipse\"))"
      ],
      "metadata": {
        "id": "HEPJn3stg5zf"
      },
      "execution_count": null,
      "outputs": []
    }
  ]
}