{
  "nbformat": 4,
  "nbformat_minor": 0,
  "metadata": {
    "colab": {
      "provenance": [],
      "authorship_tag": "ABX9TyMOUz0qYm6h5X1b5z+kerE1",
      "include_colab_link": true
    },
    "kernelspec": {
      "name": "python3",
      "display_name": "Python 3"
    },
    "language_info": {
      "name": "python"
    }
  },
  "cells": [
    {
      "cell_type": "markdown",
      "metadata": {
        "id": "view-in-github",
        "colab_type": "text"
      },
      "source": [
        "<a href=\"https://colab.research.google.com/github/financieras/curso_python/blob/main/retos/reto074.ipynb\" target=\"_parent\"><img src=\"https://colab.research.google.com/assets/colab-badge.svg\" alt=\"Open In Colab\"/></a>"
      ]
    },
    {
      "cell_type": "markdown",
      "source": [
        "## Reto 74: Área de la figura\n",
        "* Escribe una función que acepte base , altura y forma (\"triángulo\", \"paralelogramo\") como entrada y calcule el área de esa figura.\n",
        "* La base y la altura pueden ser números que contengan decimales.\n",
        "* El área de un triángulo es b * h / 2\n",
        "* El área de un paralelogramo es b * h\n",
        "* Ejemplos:\n",
        "    1. area_figura(2, 3, \"triángulo\") ➞ 3\n",
        "    2. area_figura(8, 6, \"paralelogramo\") ➞ 48\n",
        "    3. area_figura(2.9, 1.3, \"paralelogramo\") ➞ 3.77\n",
        "    4. area_figura(2.8, 10.5, \"triángulo\") ➞ 14.7\n",
        "    5. area_figura(3, 7, \"elipse\") ➞ None\n",
        "\n",
        "* Observe que triángulo lleva tilde.\n",
        "* Para cualquier otra figura que no sea un triángulo o un paralelogramo el función retornará `None`."
      ],
      "metadata": {
        "id": "oWNqE80mWfTn"
      }
    },
    {
      "cell_type": "code",
      "source": [
        "def area_figura(b, h, figura):\n",
        "    pass"
      ],
      "metadata": {
        "id": "vr3uuHxJ248I"
      },
      "execution_count": null,
      "outputs": []
    },
    {
      "cell_type": "code",
      "source": [
        "print(area_figura(2, 3, \"triángulo\"))\n",
        "print(area_figura(8, 6, \"paralelogramo\"))\n",
        "print(area_figura(2.9, 1.3, \"paralelogramo\"))\n",
        "print(area_figura(2.8, 10.5, \"triángulo\"))\n",
        "print(area_figura(3, 7, \"elipse\"))"
      ],
      "metadata": {
        "id": "MLUu_A-T248I"
      },
      "execution_count": null,
      "outputs": []
    }
  ]
}