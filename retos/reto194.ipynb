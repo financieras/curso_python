{
  "nbformat": 4,
  "nbformat_minor": 0,
  "metadata": {
    "colab": {
      "provenance": [],
      "authorship_tag": "ABX9TyMav6i45lxOt/PPULGRTuBx",
      "include_colab_link": true
    },
    "kernelspec": {
      "name": "python3",
      "display_name": "Python 3"
    },
    "language_info": {
      "name": "python"
    }
  },
  "cells": [
    {
      "cell_type": "markdown",
      "metadata": {
        "id": "view-in-github",
        "colab_type": "text"
      },
      "source": [
        "<a href=\"https://colab.research.google.com/github/financieras/curso_python/blob/main/retos/reto194.ipynb\" target=\"_parent\"><img src=\"https://colab.research.google.com/assets/colab-badge.svg\" alt=\"Open In Colab\"/></a>"
      ]
    },
    {
      "cell_type": "markdown",
      "source": [
        "## Reto 194: Elimiar espacios al inicio y al final\n",
        "* Cree una función que reciba una cadena y retorne esa misma cadena pero habiendo eliminado los espacios al inicio y al final.\n",
        "* Consiga esto sin utilizar la función `strip`\n",
        "* Ejemplos:\n",
        "    1. eliminar_espacios(\" &nbsp; Hola, mundo! &nbsp; \") ➞ \"Hola, mundo!\"\n",
        "    2. eliminar_espacios(\" &nbsp; Hey... &nbsp; &nbsp; Mark!!! &nbsp; &nbsp; &nbsp; \") ➞ \"Hey... &nbsp; &nbsp; Mark!!!\""
      ],
      "metadata": {
        "id": "MA-O3_735-TE"
      }
    },
    {
      "cell_type": "code",
      "source": [
        "def eliminar_espacios(cadena):\n",
        "    pass"
      ],
      "metadata": {
        "id": "wQSXcnio5-TE"
      },
      "execution_count": null,
      "outputs": []
    },
    {
      "cell_type": "code",
      "source": [
        "print(eliminar_espacios(\"   Hola, mundo!   \"))\n",
        "print(eliminar_espacios(\"   Hey...     Mark!!!       \"))"
      ],
      "metadata": {
        "id": "dIMYqdcw5-TE"
      },
      "execution_count": null,
      "outputs": []
    }
  ]
}