{
  "nbformat": 4,
  "nbformat_minor": 0,
  "metadata": {
    "colab": {
      "provenance": [],
      "authorship_tag": "ABX9TyMy0P6+AEhu5u5uO601MvIV",
      "include_colab_link": true
    },
    "kernelspec": {
      "name": "python3",
      "display_name": "Python 3"
    },
    "language_info": {
      "name": "python"
    }
  },
  "cells": [
    {
      "cell_type": "markdown",
      "metadata": {
        "id": "view-in-github",
        "colab_type": "text"
      },
      "source": [
        "<a href=\"https://colab.research.google.com/github/financieras/curso_python/blob/main/retos/ejercicios_listas2.ipynb\" target=\"_parent\"><img src=\"https://colab.research.google.com/assets/colab-badge.svg\" alt=\"Open In Colab\"/></a>"
      ]
    },
    {
      "cell_type": "markdown",
      "source": [
        "# Ejercicios de listas"
      ],
      "metadata": {
        "id": "c4VSy5cDvdw3"
      }
    },
    {
      "cell_type": "markdown",
      "source": [
        "## Ejercicio 1\n",
        "* Dada una lista de palabras, crear una función que retorne la de mayor longitud.\n",
        "* Si hay varias palabras con la máxima longitud retornar la primera."
      ],
      "metadata": {
        "id": "vTbYum-HpWa4"
      }
    },
    {
      "cell_type": "code",
      "execution_count": 9,
      "metadata": {
        "colab": {
          "base_uri": "https://localhost:8080/"
        },
        "id": "r3Fe7h1DpUUf",
        "outputId": "baa99575-8ede-4eea-8de5-e02b60dfccb5"
      },
      "outputs": [
        {
          "output_type": "stream",
          "name": "stdout",
          "text": [
            "La 1ª palabra más larga es: elefante\n"
          ]
        }
      ],
      "source": [
        "def palabra_mas_larga(lista):\n",
        "    if not lista_palabras:  # Si la lista está vacía, retornar None\n",
        "        return None\n",
        "\n",
        "    mayor_longitud = 0  # Inicializar la mayor longitud\n",
        "    resp = \"\"           # Inicializar la palabra más larga\n",
        "    for palabra in lista:\n",
        "        longitud_palabra = len(palabra)\n",
        "        if longitud_palabra > mayor_longitud:\n",
        "            mayor_longitud = longitud_palabra\n",
        "            resp = palabra     # Actualizar si encontramos una palabra más larga\n",
        "    return resp\n",
        "\n",
        "if __name__ == \"__main__\":\n",
        "    lista_palabras = [\"perro\", \"gato\", \"elefante\", \"tigre\", \"langosta\"]\n",
        "    resultado = palabra_mas_larga(lista_palabras)\n",
        "    print(\"La 1ª palabra más larga es:\", resultado)"
      ]
    }
  ]
}