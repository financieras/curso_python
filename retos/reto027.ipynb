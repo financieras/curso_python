{
  "nbformat": 4,
  "nbformat_minor": 0,
  "metadata": {
    "colab": {
      "provenance": [],
      "authorship_tag": "ABX9TyNJeDR1jrxXHXgB3alxWfif",
      "include_colab_link": true
    },
    "kernelspec": {
      "name": "python3",
      "display_name": "Python 3"
    },
    "language_info": {
      "name": "python"
    }
  },
  "cells": [
    {
      "cell_type": "markdown",
      "metadata": {
        "id": "view-in-github",
        "colab_type": "text"
      },
      "source": [
        "<a href=\"https://colab.research.google.com/github/financieras/curso_python/blob/main/retos/reto027.ipynb\" target=\"_parent\"><img src=\"https://colab.research.google.com/assets/colab-badge.svg\" alt=\"Open In Colab\"/></a>"
      ]
    },
    {
      "cell_type": "markdown",
      "source": [
        "## Reto 27: The Farm Problem\n",
        "* Un granjero te pide que le ayudes a conocer cuántas patas puede contar entre todos sus animales.\n",
        "* El granjero cría tres especies: gallinas, vacas y cerdos.\n",
        "* El orden de los parámetros en la función ha de ser:\n",
        "    - 1º gallinas\n",
        "    - 2º vacas\n",
        "    - 3º cerdos\n",
        "* Recuerde que el granjero quiere saber el número total de patas y no el número total de animales.\n",
        "* Ejemplos:\n",
        "    1. patas(2, 3, 5) ➞ 36\n",
        "    2. patas(1, 2, 3) ➞ 22\n",
        "    3. patas(5, 2, 8) ➞ 50"
      ],
      "metadata": {
        "id": "TWj9zKymSynK"
      }
    },
    {
      "cell_type": "code",
      "source": [
        "def patas(gallinas, vacas, cerdos):\n",
        "    pass"
      ],
      "metadata": {
        "id": "EL_r7O6HBm-G"
      },
      "execution_count": null,
      "outputs": []
    },
    {
      "cell_type": "code",
      "source": [
        "print(patas(2, 3, 5))\n",
        "print(patas(1, 2, 3))\n",
        "print(patas(5, 2, 8))"
      ],
      "metadata": {
        "id": "Ou22MunIBy4A"
      },
      "execution_count": null,
      "outputs": []
    }
  ]
}