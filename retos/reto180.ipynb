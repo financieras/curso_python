{
  "nbformat": 4,
  "nbformat_minor": 0,
  "metadata": {
    "colab": {
      "provenance": [],
      "authorship_tag": "ABX9TyMl5/pe2ic7elWAEwj6wGP4",
      "include_colab_link": true
    },
    "kernelspec": {
      "name": "python3",
      "display_name": "Python 3"
    },
    "language_info": {
      "name": "python"
    }
  },
  "cells": [
    {
      "cell_type": "markdown",
      "metadata": {
        "id": "view-in-github",
        "colab_type": "text"
      },
      "source": [
        "<a href=\"https://colab.research.google.com/github/financieras/curso_python/blob/main/retos/reto180.ipynb\" target=\"_parent\"><img src=\"https://colab.research.google.com/assets/colab-badge.svg\" alt=\"Open In Colab\"/></a>"
      ]
    },
    {
      "cell_type": "markdown",
      "source": [
        "## Reto 180: Vamos a ordenar esta lista\n",
        "* Cree una función que tome una lista de números primero, una cadena s y devuelva una lista de números según las siguientes reglas:\n",
        "    1. \"Asc\" devuelve una lista ordenada en orden ascendente.\n",
        "    2. \"Des\" devuelve una lista ordenada en orden descendente.\n",
        "    3. \"None\" devuelve una lista sin ninguna modificación.\n",
        "* Ejemplos:\n",
        "    1. asc_des_none([4, 3, 2, 1], \"Asc\") ➞ [1, 2, 3, 4]\n",
        "    2. asc_des_none([7, 8, 11, 66], \"Des\") ➞ [66, 11, 8, 7]\n",
        "    3. asc_des_none([4, 3, 5, 2, 1], \"None\") ➞ [4, 3, 5, 2, 1]"
      ],
      "metadata": {
        "id": "uTvGD3bl3Py2"
      }
    },
    {
      "cell_type": "code",
      "source": [
        "def asc_des_none(lista, tipo):\n",
        "    pass"
      ],
      "metadata": {
        "id": "0i1WMmMl4X77"
      },
      "execution_count": null,
      "outputs": []
    },
    {
      "cell_type": "code",
      "source": [
        "print(asc_des_none([4, 3, 2, 1], \"Asc\"))\n",
        "print(asc_des_none([7, 8, 11, 66], \"Des\"))\n",
        "print(asc_des_none([4, 3, 5, 2, 1], \"None\"))"
      ],
      "metadata": {
        "id": "E9BlJpQe4jTc"
      },
      "execution_count": null,
      "outputs": []
    }
  ]
}