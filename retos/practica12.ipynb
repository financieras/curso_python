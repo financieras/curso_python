{
  "nbformat": 4,
  "nbformat_minor": 0,
  "metadata": {
    "colab": {
      "provenance": [],
      "authorship_tag": "ABX9TyPWPF2QjRqsFKQOUWRCNDQT",
      "include_colab_link": true
    },
    "kernelspec": {
      "name": "python3",
      "display_name": "Python 3"
    },
    "language_info": {
      "name": "python"
    }
  },
  "cells": [
    {
      "cell_type": "markdown",
      "metadata": {
        "id": "view-in-github",
        "colab_type": "text"
      },
      "source": [
        "<a href=\"https://colab.research.google.com/github/financieras/curso_python/blob/main/retos/practica12.ipynb\" target=\"_parent\"><img src=\"https://colab.research.google.com/assets/colab-badge.svg\" alt=\"Open In Colab\"/></a>"
      ]
    },
    {
      "cell_type": "markdown",
      "source": [
        "## Reto 111: Imprimir con formato\n",
        "* Para imprimir podemos utilizar el sistema de formato `f`.\n",
        "* Ejemplo:\n",
        "    - nombre = \"Pedro\"\n",
        "    - ciudad = \"Madrid\"\n",
        "    - print(f\"Soy {nombre} y vivo en {ciudad}.\")\n",
        "* Lo que se imprime es:\n",
        "    - `\"Soy Pedro y vivo en Madrid.\"`\n",
        "* Utilizando este sistema de formateo cree una función que retorne los siguientes casos.\n",
        "* Ejemplos:\n",
        "    1. biografia(\"Ana\", 15, \"Málaga\") ➞ \"Soy Ana, tego 15 años, vivo en Málaga y mañana cumpliré 16 años.\"\n",
        "    2. biografia(\"Jose\", 16, \"Ávila\") ➞ \"Soy Jose, tego 16 años, vivo en Ávila y mañana cumpliré 17 años.\"\n",
        "    3. biografia(\"Mar\", 17, \"Cádiz\") ➞ \"Soy Mar, tego 17 años, vivo en Cádiz y mañana cumpliré 18 años.\"\n"
      ],
      "metadata": {
        "id": "bGRMENljntno"
      }
    },
    {
      "cell_type": "code",
      "source": [
        "def biografia(nombre, edad, ciudad):\n",
        "    pass"
      ],
      "metadata": {
        "id": "k2comgkK2lb6"
      },
      "execution_count": null,
      "outputs": []
    },
    {
      "cell_type": "code",
      "source": [
        "print(biografia(\"Ana\", 15, \"Málaga\"))\n",
        "print(biografia(\"Jose\", 16, \"Ávila\"))\n",
        "print(biografia(\"Mar\", 17, \"Cádiz\"))"
      ],
      "metadata": {
        "id": "jF6-JEzK2lb7"
      },
      "execution_count": null,
      "outputs": []
    },
    {
      "cell_type": "markdown",
      "source": [
        "## Reto 112: Maravillosa canción\n",
        "* Crea una función que tome una cadena y cambie la palabra `maravillosa` por `aburrida`.\n",
        "* Devuelve la cadena sin ningún cambio si la palabra 'canción' es parte de la cadena.\n",
        "* Ejemplos:\n",
        "    1. maravillosa_canción(\"Esta canción es maravillosa.\") ➞ \"Esta canción es maravillosa.\"\n",
        "    2. maravillosa_canción(\"La ruta fué maravillosa.\") ➞ \"La ruta fué aburrida.\"\n",
        "    3. maravillosa_canción(\"Fué una cena maravillosa.\") ➞ \"Fué una cena aburrida.\"\n",
        "    4.  maravillosa_canción(\"Tu maravillosa canción ganó.\") ➞ \"Tu maravillosa canción ganó.\"\n"
      ],
      "metadata": {
        "id": "1Qgl2wxlntn4"
      }
    },
    {
      "cell_type": "code",
      "source": [
        "def maravillosa_canción(frase):\n",
        "    pass"
      ],
      "metadata": {
        "id": "J_amLZSH2lCa"
      },
      "execution_count": null,
      "outputs": []
    },
    {
      "cell_type": "code",
      "source": [
        "print(maravillosa_canción(\"Esta canción es maravillosa.\"))\n",
        "print(maravillosa_canción(\"La ruta fué maravillosa.\"))\n",
        "print(maravillosa_canción(\"Fué una cena maravillosa.\"))\n",
        "print(maravillosa_canción(\"Tu maravillosa canción ganó.\"))"
      ],
      "metadata": {
        "id": "EeLWogkI2lCg"
      },
      "execution_count": null,
      "outputs": []
    },
    {
      "cell_type": "markdown",
      "source": [
        "## Reto 113: Ligeramente superior\n",
        "* Se le darán dos listas muy parecidas o exactamente iguales\n",
        "* Si son exactamente iguales la función debe devolver como resultado 'False'.\n",
        "* Si difieren en un único elemento y éste es mayor en la primera lista se retornará 'True' y si es mayor el de la segunda lista se retornará 'False'\n",
        "* Nunca se recibirán dos listas en las que puedan diferir más de un elemento.\n",
        "* Ejemplos:\n",
        "    1. is_first_superior([1, 2, 4], [1, 2, 3]) ➞ True\n",
        "    2. is_first_superior([\"a\", \"d\", \"c\"], [\"a\", \"b\", \"c\"]) ➞ True\n",
        "    3. is_first_superior([\"zumo\", \"col\", \"pan\"], [\"atún\", \"col\", \"pan\"]) ➞ True\n",
        "    4. is_first_superior([1, 2, 5, 4], [1, 2, 3, 4]) ➞ True\n",
        "    5. is_first_superior([1, 2, 3, 4], [1, 2, 4, 4]) ➞ False\n",
        "    6. is_first_superior([True, 10, \"Roma\"], [True, 10, \"Roma\"]) ➞ False\n",
        "* Ambas listas tendrán la misma longitud, aunque ésta puede ser variable.\n",
        "* Todos los valores y sus contrapartes siempre serán del mismo tipo de dato."
      ],
      "metadata": {
        "id": "TVDPcAuHntoF"
      }
    },
    {
      "cell_type": "code",
      "source": [
        "def is_first_superior(lst1, lst2):\n",
        "    pass"
      ],
      "metadata": {
        "id": "JtEMn6cm2kJJ"
      },
      "execution_count": null,
      "outputs": []
    },
    {
      "cell_type": "code",
      "source": [
        "print(is_first_superior([\"a\", \"d\", \"c\"], [\"a\", \"b\", \"c\"]))\n",
        "print(is_first_superior([\"a\", \"d\", \"c\"], [\"a\", \"b\", \"c\"]))\n",
        "print(is_first_superior([\"zumo\", \"col\", \"pan\"], [\"atún\", \"col\", \"pan\"]))\n",
        "print(is_first_superior([1, 2, 5, 4], [1, 2, 3, 4]))\n",
        "print(is_first_superior([1, 2, 3, 4], [1, 2, 4, 4]))\n",
        "print(is_first_superior([True, 10, \"Roma\"], [True, 10, \"Roma\"]))"
      ],
      "metadata": {
        "id": "tejBS3F32kJK"
      },
      "execution_count": null,
      "outputs": []
    },
    {
      "cell_type": "markdown",
      "source": [
        "## Reto 114: Diccionario vacío\n",
        "* Escriba una función que devuelva Verdadero si un diccionario está vacío y Falso en caso contrario.\n",
        "* Ejemplos:\n",
        "    1. is_empty({}) ➞ True\n",
        "    1. is_empty({ }) ➞ True\n",
        "    2. is_empty({ \"a\": 1 }) ➞ False\n",
        "    3. is_empty(dict()) ➞ True\n",
        "    4. is_empty({'': []} ➞ False\n"
      ],
      "metadata": {
        "id": "mpfdl2aXntoU"
      }
    },
    {
      "cell_type": "code",
      "source": [
        "def is_empty(d):\n",
        "    pass"
      ],
      "metadata": {
        "id": "0fG6lO2U2ju1"
      },
      "execution_count": null,
      "outputs": []
    },
    {
      "cell_type": "code",
      "source": [
        "print(is_empty({}))\n",
        "print(is_empty({ }))\n",
        "print(is_empty({ \"a\": 1 }))\n",
        "print(is_empty(dict()))\n",
        "print(is_empty({'': []}))"
      ],
      "metadata": {
        "id": "iz8Lk9XD2ju2"
      },
      "execution_count": null,
      "outputs": []
    },
    {
      "cell_type": "markdown",
      "source": [
        "## Reto 115: Opuestos en una lista\n",
        "* Cree una función que tome una lista de números enteros y devuelva otra lista formada por sus opuestos.\n",
        "* Ejemplos:\n",
        "    1. opuestos([1, 2, 3, 4, 5]) ➞ [-1, -2, -3, -4, -5]\n",
        "    2. opuestos([1, -2, 3, -4, 5]) ➞ [-1, 2, -3, 4, -5]\n",
        "    3. opuestos([]) ➞ []\n"
      ],
      "metadata": {
        "id": "fizQ3Vu-z82T"
      }
    },
    {
      "cell_type": "code",
      "source": [
        "def opuestos(lst):\n",
        "    pass"
      ],
      "metadata": {
        "id": "zBVsj_-t2jO-"
      },
      "execution_count": null,
      "outputs": []
    },
    {
      "cell_type": "code",
      "source": [
        "print(opuestos([1, 2, 3, 4, 5]))\n",
        "print(opuestos([1, -2, 3, -4, 5]))\n",
        "print(opuestos([]))"
      ],
      "metadata": {
        "id": "gE8lSFnI2jO-"
      },
      "execution_count": null,
      "outputs": []
    },
    {
      "cell_type": "markdown",
      "source": [
        "## Reto 116: Parsear números\n",
        "* Cree una función que tome una lista formada por números enteros y cadenas.\n",
        "* La función convierte los números enteros en cadenas y devuelve la nueva lista.\n",
        "* Ejemplos:\n",
        "    1. parse_list([1, 2, \"a\", \"b\"]) ➞ [\"1\", \"2\", \"a\", \"b\"]\n",
        "    2. parse_list([\"abc\", 123, \"def\", 456]) ➞ [\"abc\", \"123\", \"def\", \"456\"]\n",
        "    3. parse_list([1, 2, 3, 17, 24, 3, \"a\", \"123b\"]) ➞ [\"1\", \"2\", \"3\", \"17\", \"24\", \"3\", \"a\", \"123b\"]\n",
        "    4. parse_list([]) ➞ []"
      ],
      "metadata": {
        "id": "yD4DFPzZz88Q"
      }
    },
    {
      "cell_type": "code",
      "source": [
        "def parse_list(lst):\n",
        "    pass"
      ],
      "metadata": {
        "id": "KmWelebx2ivv"
      },
      "execution_count": null,
      "outputs": []
    },
    {
      "cell_type": "code",
      "source": [
        "print(parse_list([1, 2, \"a\", \"b\"]))\n",
        "print(parse_list([\"abc\", 123, \"def\", 456]))\n",
        "print(parse_list([1, 2, 3, 17, 24, 3, \"a\", \"123b\"]))\n",
        "print(parse_list([]))"
      ],
      "metadata": {
        "id": "kQkhbTaN2ivw"
      },
      "execution_count": null,
      "outputs": []
    },
    {
      "cell_type": "markdown",
      "source": [
        "## Reto 117: Números en texto\n",
        "* Cree una función que devuelva un número, según la cadena proporcionada.\n",
        "* Aquí hay una lista de todos los dígitos.\n",
        "* Ejemplos:\n",
        "    1. word(\"one\") ➞ 1\n",
        "    2. word(\"two\") ➞ 2\n",
        "    3. word(\"three\") ➞ 3\n",
        "    4. word(\"four\") ➞ 4\n",
        "    5. word(\"five\") ➞ 5\n",
        "    6. word(\"six\") ➞ 6\n",
        "    7. word(\"seven\") ➞ 7\n",
        "    8. word(\"eight\") ➞ 8\n",
        "    9. word(\"nine\") ➞ 9\n",
        "    10. word(\"zero\") ➞ 0"
      ],
      "metadata": {
        "id": "jSpetAOOz9Ax"
      }
    },
    {
      "cell_type": "code",
      "source": [
        "def word(txt):\n",
        "    pass"
      ],
      "metadata": {
        "id": "agSvxKJR2iVY"
      },
      "execution_count": null,
      "outputs": []
    },
    {
      "cell_type": "code",
      "source": [
        "print(word(\"one\"))\n",
        "print(word(\"two\"))\n",
        "print(word(\"three\"))\n",
        "print(word(\"four\"))\n",
        "print(word(\"five\"))\n",
        "print(word(\"six\"))\n",
        "print(word(\"seven\"))\n",
        "print(word(\"eight\"))\n",
        "print(word(\"nine\"))\n",
        "print(word(\"zero\"))"
      ],
      "metadata": {
        "id": "glH91xa52iVZ"
      },
      "execution_count": null,
      "outputs": []
    },
    {
      "cell_type": "markdown",
      "source": [
        "## Reto 118: La estrategia 50-30-20\n",
        "* La estrategia 50-30-20 es una forma sencilla de presupuestar, que implica gastar el 50% de los ingresos después de impuestos en necesidades, el 30% de los ingresos después de impuestos en deseos y el 20% de los ingresos después de impuestos en ahorros o pago de deudas.\n",
        "* Cree una función que reciba el ingreso después de impuestos y lo que devuelve es un diccionario que muestre cuánto necesita gastar una persona en necesidades, deseos y ahorros.\n",
        "* Ejemplos:\n",
        "    1. estrategia(10000) ➞ { \"Needs\": 5000, \"Wants\": 3000, \"Savings\": 2000 }\n",
        "    2. estrategia(50000) ➞ { \"Needs\": 25000, \"Wants\": 15000, \"Savings\": 10000 }\n",
        "    3. estrategia(13450) ➞ { \"Needs\": 6725, \"Wants\": 4035, \"Savings\": 2690 }"
      ],
      "metadata": {
        "id": "0Xh9QeBRz9GH"
      }
    },
    {
      "cell_type": "code",
      "source": [
        "def estrategia(ing):\n",
        "    pass"
      ],
      "metadata": {
        "id": "J-dOY6vL2h0C"
      },
      "execution_count": null,
      "outputs": []
    },
    {
      "cell_type": "code",
      "source": [
        "print(estrategia(10000))\n",
        "print(estrategia(50000))\n",
        "print(estrategia(13450))"
      ],
      "metadata": {
        "id": "SC9EkUUR2h0D"
      },
      "execution_count": null,
      "outputs": []
    },
    {
      "cell_type": "markdown",
      "source": [
        "## Reto 119: Operador ternario\n",
        "* El operador ternario es una alternativa a la clásica declaración `if... else...`\n",
        "* Está escrito en el formato:\n",
        "<pre>\n",
        "result_if_true if condition else result_if_false\n",
        "</pre>\n",
        "* Los operadores ternarios suelen ser más compactos que las declaraciones `if` de varias líneas y son útiles para pruebas condicionales simples.\n",
        "\n",
        "Un código clásico puede ser este:\n",
        "<pre>\n",
        "edad = 17\n",
        "if edad >= 18:\n",
        "    print(\"Tengo\", edad, \"años y SI puedo votar.\")\n",
        "else:\n",
        "    print(\"Tengo\", edad, \"años y NO puedo votar.\")\n",
        "</pre>\n",
        "\n",
        "Este código escrito con un operador ternario sería más corto, así:\n",
        "\n",
        "<pre>\n",
        "edad = 17\n",
        "print(f\"Tengo {edad} años y {'NO' if edad < 18 else 'SI'} puedo votar.\")\n",
        "</pre>\n",
        "\n",
        "* Cee una función que use el operador ternario y el sistema de formato `f` para realizar los siguientes casos.\n",
        "* Ejemplos:\n",
        "    1. par_impar(5) ➞ El número 5 es impar.\n",
        "    2. par_impar(8) ➞ El número 8 es par.\n",
        "    3. par_impar(0) ➞ El número 0 es par.\n",
        "    4. par_impar(-3) ➞ El número -3 es impar.\n"
      ],
      "metadata": {
        "id": "WOb5Nogiz9K_"
      }
    },
    {
      "cell_type": "code",
      "source": [
        "def par_impar(n):\n",
        "    pass"
      ],
      "metadata": {
        "id": "7hEEsjim2hBs"
      },
      "execution_count": null,
      "outputs": []
    },
    {
      "cell_type": "code",
      "source": [
        "print(par_impar(5))\n",
        "print(par_impar(8))\n",
        "print(par_impar(0))\n",
        "print(par_impar(-3))"
      ],
      "metadata": {
        "id": "GgoW1piF2hBs"
      },
      "execution_count": null,
      "outputs": []
    },
    {
      "cell_type": "markdown",
      "source": [
        "## Reto 120: El mismo pan\n",
        "* Dadas dos listas, que representan dos sándwiches, indique si ambos sandwiches usan el mismo tipo de pan.\n",
        "* En un mismo sandwiche los dos panes siempre son iguales.\n",
        "* En los elementos intermedios nunca encontraremos pan.\n",
        "* Ejemplos:\n",
        "    1. tiene_el_mismo_pan(\n",
        "  [\"pan blanco\", \"lechuga\", \"pan blanco\"],\n",
        "  [\"pan blanco\", \"tomate\", \"pan blanco\"]\n",
        ") ➞ True\n",
        "    2. tiene_el_mismo_pan(\n",
        "  [\"pan integral\", \"pollo\", \"pan integral\"],\n",
        "  [\"pan blanco\", \"pollo\", \"pan blanco\"]\n",
        ") ➞ False\n",
        "    3. tiene_el_mismo_pan(\n",
        "  [\"berenjena\", \"queso\", \"berenjena\"],\n",
        "  [\"berenjena\", \"queso\", \"berenjena\"]\n",
        ") ➞ False\n",
        "    4. tiene_el_mismo_pan(\n",
        "  [\"pan tostado\", \"queso\", \"pan tostado\"],\n",
        "  [\"pan tostado\", \"queso\", \"pan tostado\"]\n",
        ") ➞ True\n",
        "    5. tiene_el_mismo_pan(\n",
        "  [\"pan tostado\", \"queso\", \"huevo\", \"pan tostado\"],\n",
        "  [\"pan tostado\", \"queso\", \"huevo\", \"pan tostado\"]\n",
        ") ➞ True"
      ],
      "metadata": {
        "id": "rjHsjH3Mz9QP"
      }
    },
    {
      "cell_type": "code",
      "source": [
        "def tiene_el_mismo_pan(lst1, lst2):\n",
        "    pass"
      ],
      "metadata": {
        "id": "KnExKfBw2gjx"
      },
      "execution_count": null,
      "outputs": []
    },
    {
      "cell_type": "code",
      "source": [
        "print(tiene_el_mismo_pan([\"pan blanco\", \"lechuga\", \"pan blanco\"], [\"pan blanco\", \"tomate\", \"pan blanco\"]))\n",
        "print(tiene_el_mismo_pan([\"pan integral\", \"pollo\", \"pan integral\"], [\"pan blanco\", \"pollo\", \"pan blanco\"]))\n",
        "print(tiene_el_mismo_pan([\"berenjena\", \"queso\", \"berenjena\"], [\"berenjena\", \"queso\", \"berenjena\"]))\n",
        "print(tiene_el_mismo_pan([\"pan tostado\", \"queso\", \"pan tostado\"], [\"pan tostado\", \"queso\", \"pan tostado\"]))\n",
        "print(tiene_el_mismo_pan([\"pan tostado\", \"queso\", \"huevo\", \"pan tostado\"], [\"pan tostado\", \"queso\", \"huevo\", \"pan tostado\"]))"
      ],
      "metadata": {
        "id": "gBtJ9jtK2gjy"
      },
      "execution_count": null,
      "outputs": []
    }
  ]
}