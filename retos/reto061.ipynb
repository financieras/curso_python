{
  "nbformat": 4,
  "nbformat_minor": 0,
  "metadata": {
    "colab": {
      "provenance": [],
      "authorship_tag": "ABX9TyOrS8gmSnnHcipo49+9r1ym",
      "include_colab_link": true
    },
    "kernelspec": {
      "name": "python3",
      "display_name": "Python 3"
    },
    "language_info": {
      "name": "python"
    }
  },
  "cells": [
    {
      "cell_type": "markdown",
      "metadata": {
        "id": "view-in-github",
        "colab_type": "text"
      },
      "source": [
        "<a href=\"https://colab.research.google.com/github/financieras/curso_python/blob/main/retos/reto061.ipynb\" target=\"_parent\"><img src=\"https://colab.research.google.com/assets/colab-badge.svg\" alt=\"Open In Colab\"/></a>"
      ]
    },
    {
      "cell_type": "markdown",
      "source": [
        "## Reto 61: ¿Es par o impar?\n",
        "* Cree una función que tome un número entero como argumento y devuelva \"par\" para números pares e \"impar\" para números impares.\n",
        "* Ejemplos:\n",
        "    1. es_par_impar(3) ➞ \"impar\"\n",
        "    2. es_par_impar(146) ➞ \"par\"\n",
        "    3. es_par_impar(-19) ➞ \"impar\"\n"
      ],
      "metadata": {
        "id": "FRr7GkgBz6t5"
      }
    },
    {
      "cell_type": "code",
      "source": [
        "def es_par_impar(n):\n",
        "    pass"
      ],
      "metadata": {
        "id": "P2Rq2qQD2_V-"
      },
      "execution_count": null,
      "outputs": []
    },
    {
      "cell_type": "code",
      "source": [
        "print(es_par_impar(3))\n",
        "print(es_par_impar(146))\n",
        "print(es_par_impar(-19))"
      ],
      "metadata": {
        "id": "CsDyaIve2_V_"
      },
      "execution_count": null,
      "outputs": []
    }
  ]
}