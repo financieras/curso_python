{
  "nbformat": 4,
  "nbformat_minor": 0,
  "metadata": {
    "colab": {
      "provenance": [],
      "authorship_tag": "ABX9TyPfj/ZoQiO7oSF+pBjRGq2A",
      "include_colab_link": true
    },
    "kernelspec": {
      "name": "python3",
      "display_name": "Python 3"
    },
    "language_info": {
      "name": "python"
    }
  },
  "cells": [
    {
      "cell_type": "markdown",
      "metadata": {
        "id": "view-in-github",
        "colab_type": "text"
      },
      "source": [
        "<a href=\"https://colab.research.google.com/github/financieras/curso_python/blob/main/retos/reto049.ipynb\" target=\"_parent\"><img src=\"https://colab.research.google.com/assets/colab-badge.svg\" alt=\"Open In Colab\"/></a>"
      ]
    },
    {
      "cell_type": "markdown",
      "source": [
        "## Reto 49: Retorna negativo\n",
        "* Cree una función que tome un número como argumento y devuelva un negativo de ese número.\n",
        "* Si el número previamente ya es negativo lo devuelve sin ningún cambio.\n",
        "* Ejemplos:\n",
        "    1. return_negative(4) ➞ -4\n",
        "    2. return_negative(15) ➞ -15\n",
        "    3. return_negative(-4) ➞ -4\n",
        "    4. return_negative(0) ➞ 0\n"
      ],
      "metadata": {
        "id": "YEjGoQpPzyRK"
      }
    },
    {
      "cell_type": "code",
      "source": [
        "def return_negative(x):\n",
        "    pass"
      ],
      "metadata": {
        "id": "dglxs40q9fw6"
      },
      "execution_count": null,
      "outputs": []
    },
    {
      "cell_type": "code",
      "source": [
        "print(return_negative(4))\n",
        "print(return_negative(15))\n",
        "print(return_negative(-4))\n",
        "print(return_negative(0))"
      ],
      "metadata": {
        "id": "wrNMmqdRzDIj"
      },
      "execution_count": null,
      "outputs": []
    }
  ]
}