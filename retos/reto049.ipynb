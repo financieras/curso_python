{
  "nbformat": 4,
  "nbformat_minor": 0,
  "metadata": {
    "colab": {
      "provenance": [],
      "authorship_tag": "ABX9TyOz0aLG8uxuo0cWh4mq/n9E",
      "include_colab_link": true
    },
    "kernelspec": {
      "name": "python3",
      "display_name": "Python 3"
    },
    "language_info": {
      "name": "python"
    }
  },
  "cells": [
    {
      "cell_type": "markdown",
      "metadata": {
        "id": "view-in-github",
        "colab_type": "text"
      },
      "source": [
        "<a href=\"https://colab.research.google.com/github/financieras/curso_python/blob/main/retos/reto049.ipynb\" target=\"_parent\"><img src=\"https://colab.research.google.com/assets/colab-badge.svg\" alt=\"Open In Colab\"/></a>"
      ]
    },
    {
      "cell_type": "markdown",
      "source": [
        "## Reto 49: Devolver negativo\n",
        "* Escriba una función que tome un número como parámetro y lo devuelva como negativo.\n",
        "* Si el número es positivo se convertirá en en negativos.\n",
        "* Si el número previamente ya es negativo permanecerán sin alteración.\n",
        "* Si el número es cero la función devolverá cero.\n",
        "* Ejemplos:\n",
        "    1. devuelve_negativo(4) ➞ -4\n",
        "    2. devuelve_negativo(15) ➞ -15\n",
        "    3. devuelve_negativo(-4) ➞ -4\n",
        "    4. devuelve_negativo(0) ➞ 0"
      ],
      "metadata": {
        "id": "YEjGoQpPzyRK"
      }
    },
    {
      "cell_type": "code",
      "source": [
        "def devuelve_negativo(numero):\n",
        "    pass"
      ],
      "metadata": {
        "id": "dglxs40q9fw6"
      },
      "execution_count": null,
      "outputs": []
    },
    {
      "cell_type": "code",
      "source": [
        "print(devuelve_negativo(4))\n",
        "print(devuelve_negativo(15))\n",
        "print(devuelve_negativo(-4))\n",
        "print(devuelve_negativo(0))"
      ],
      "metadata": {
        "id": "wrNMmqdRzDIj"
      },
      "execution_count": null,
      "outputs": []
    }
  ]
}