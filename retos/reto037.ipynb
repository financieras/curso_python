{
  "nbformat": 4,
  "nbformat_minor": 0,
  "metadata": {
    "colab": {
      "provenance": [],
      "authorship_tag": "ABX9TyPSJ612wjeTJv47rDKyehIj",
      "include_colab_link": true
    },
    "kernelspec": {
      "name": "python3",
      "display_name": "Python 3"
    },
    "language_info": {
      "name": "python"
    }
  },
  "cells": [
    {
      "cell_type": "markdown",
      "metadata": {
        "id": "view-in-github",
        "colab_type": "text"
      },
      "source": [
        "<a href=\"https://colab.research.google.com/github/financieras/curso_python/blob/main/retos/reto037.ipynb\" target=\"_parent\"><img src=\"https://colab.research.google.com/assets/colab-badge.svg\" alt=\"Open In Colab\"/></a>"
      ]
    },
    {
      "cell_type": "markdown",
      "source": [
        "## Reto 37: Dos hacen Diez\n",
        "* Crea una función que tome dos argumentos.\n",
        "* Ambos argumentos son números enteros, `a` y `b`.\n",
        "* Devuelve `True` si uno de ellos es 10 o si su suma es 10.\n",
        "* Ejemplos:\n",
        "    1. makes_ten(9, 10) ➞ True\n",
        "    2. makes_ten(10, 9) ➞ True\n",
        "    2. makes_ten(9, 9) ➞ False\n",
        "    3. makes_ten(6, 4) ➞ True"
      ],
      "metadata": {
        "id": "iSVovXfZtz1E"
      }
    },
    {
      "cell_type": "code",
      "source": [
        "def makes_ten(a, b):\n",
        "    pass"
      ],
      "metadata": {
        "id": "jk6ujqXk7i_9"
      },
      "execution_count": null,
      "outputs": []
    },
    {
      "cell_type": "code",
      "source": [
        "print(makes_ten(9, 10))\n",
        "print(makes_ten(10, 9))\n",
        "print(makes_ten(9, 9))\n",
        "print(makes_ten(6, 4))"
      ],
      "metadata": {
        "id": "dyL34Bbe77kJ"
      },
      "execution_count": null,
      "outputs": []
    }
  ]
}