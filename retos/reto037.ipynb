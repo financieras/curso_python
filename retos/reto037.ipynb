{
  "nbformat": 4,
  "nbformat_minor": 0,
  "metadata": {
    "colab": {
      "provenance": [],
      "authorship_tag": "ABX9TyMGL1w6v434yQ7L71XCvkKW",
      "include_colab_link": true
    },
    "kernelspec": {
      "name": "python3",
      "display_name": "Python 3"
    },
    "language_info": {
      "name": "python"
    }
  },
  "cells": [
    {
      "cell_type": "markdown",
      "metadata": {
        "id": "view-in-github",
        "colab_type": "text"
      },
      "source": [
        "<a href=\"https://colab.research.google.com/github/financieras/curso_python/blob/main/retos/reto037.ipynb\" target=\"_parent\"><img src=\"https://colab.research.google.com/assets/colab-badge.svg\" alt=\"Open In Colab\"/></a>"
      ]
    },
    {
      "cell_type": "markdown",
      "source": [
        "## Reto 37: Dos hacen Diez\n",
        "* Cree una función que tome dos argumentos.\n",
        "* Ambos argumentos son números enteros, `a` y `b`.\n",
        "* Devuelve `True` si uno de ellos es 10 o si su suma es 10.\n",
        "* Ejemplos:\n",
        "    1. es_diez(9, 10) ➞ True\n",
        "    2. es_diez(10, 9) ➞ True\n",
        "    3. es_diez(6, 4) ➞ True\n",
        "    4. es_diez(9, 9) ➞ False"
      ],
      "metadata": {
        "id": "iSVovXfZtz1E"
      }
    },
    {
      "cell_type": "code",
      "source": [
        "def es_diez(a, b):\n",
        "    pass"
      ],
      "metadata": {
        "id": "jk6ujqXk7i_9"
      },
      "execution_count": null,
      "outputs": []
    },
    {
      "cell_type": "code",
      "source": [
        "print(es_diez(9, 10))\n",
        "print(es_diez(10, 9))\n",
        "print(es_diez(6, 4))\n",
        "print(es_diez(9, 9))"
      ],
      "metadata": {
        "id": "dyL34Bbe77kJ"
      },
      "execution_count": null,
      "outputs": []
    }
  ]
}