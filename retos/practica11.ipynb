{
  "nbformat": 4,
  "nbformat_minor": 0,
  "metadata": {
    "colab": {
      "provenance": [],
      "authorship_tag": "ABX9TyOEP/0zhZyf7OnSiz7SjlW7",
      "include_colab_link": true
    },
    "kernelspec": {
      "name": "python3",
      "display_name": "Python 3"
    },
    "language_info": {
      "name": "python"
    }
  },
  "cells": [
    {
      "cell_type": "markdown",
      "metadata": {
        "id": "view-in-github",
        "colab_type": "text"
      },
      "source": [
        "<a href=\"https://colab.research.google.com/github/financieras/curso_python/blob/main/retos/practica11.ipynb\" target=\"_parent\"><img src=\"https://colab.research.google.com/assets/colab-badge.svg\" alt=\"Open In Colab\"/></a>"
      ]
    },
    {
      "cell_type": "markdown",
      "source": [
        "## Reto 101: Slice of Pie\n",
        "* Rebanadas de un pastel\n",
        "* Cree una función que determine si es posible o no dividir un pastel de manera justa dados estos tres parámetros:\n",
        "    - Número total de rebanadas.\n",
        "    - Número de destinatarios.\n",
        "    - ¿Cuántas porciones recibe cada persona?\n",
        "* La función quedará de esta forma:\n",
        "\n",
        "\n",
        "<pre>\n",
        "equal_slices(total_slices, num_recipients, slices_each)\n",
        "</pre>\n",
        "\n",
        "\n",
        "<pre>\n",
        "equal_slices(11, 5, 2) ➞ True # 5 people x 2 slices each = 10 slices <= 11 slices\n",
        "</pre>\n",
        "\n",
        "\n",
        "<pre>\n",
        "equal_slices(11, 5, 3) ➞ False # 5 people x 3 slices each = 15 slices > 11 slices\n",
        "</pre>\n",
        "* Ejemplos:\n",
        "    1. equal_slices(8, 3, 2) ➞ True\n",
        "    2. equal_slices(8, 3, 3) ➞ False\n",
        "    3. equal_slices(24, 12, 2) ➞ True"
      ],
      "metadata": {
        "id": "GP-E0baxntdj"
      }
    },
    {
      "cell_type": "code",
      "source": [
        "def equal_slices(total_slices, num_recipients, slices_each):\n",
        "    pass"
      ],
      "metadata": {
        "id": "9ZuOqT2w2qz6"
      },
      "execution_count": null,
      "outputs": []
    },
    {
      "cell_type": "code",
      "source": [
        "print(equal_slices(8, 3, 2))\n",
        "print(equal_slices(8, 3, 3))\n",
        "print(equal_slices(24, 12, 2))"
      ],
      "metadata": {
        "id": "1XpRf9s22qz7"
      },
      "execution_count": null,
      "outputs": []
    },
    {
      "cell_type": "markdown",
      "source": [
        "## Reto 102: Random Integer Generator\n",
        "* Devuelve un número entero aleatorio `n` tal que `a <= n <= b`.\n",
        "* Ejemplos:\n",
        "    1. random_int(5, 9) ➞ 7\n",
        "    2. random_int(5, 9) ➞ 9\n",
        "    3. random_int(5, 9) ➞ 5"
      ],
      "metadata": {
        "id": "Tvfro9montfN"
      }
    },
    {
      "cell_type": "code",
      "source": [
        "def random_int(a, b):\n",
        "    pass"
      ],
      "metadata": {
        "id": "-43cJVAQ2qgu"
      },
      "execution_count": null,
      "outputs": []
    },
    {
      "cell_type": "code",
      "source": [
        "print(random.randint(5, 9))\n",
        "print(random.randint(5, 9))\n",
        "print(random.randint(5, 9))\n",
        "print(random.randint(5, 9))"
      ],
      "metadata": {
        "id": "ocXI3ipp2qgu"
      },
      "execution_count": null,
      "outputs": []
    },
    {
      "cell_type": "markdown",
      "source": [
        "## Reto 103: Lambda Functions\n",
        "* Cree una función que devuelva el argumento dado, pero utilizando una función lambda.\n",
        "* Ejemplos:\n",
        "    1. lambda_func(3) ➞ 3\n",
        "    2. lambda_func(\"4\") ➞ \"4\"\n",
        "    3. lambda_func(True) ➞ True\n",
        "    4. lambda_func([1, 2, 3]) ➞ [1, 2, 3]"
      ],
      "metadata": {
        "id": "8NSafWBlntgA"
      }
    },
    {
      "cell_type": "code",
      "source": [
        "# usando una función lambda"
      ],
      "metadata": {
        "id": "NJ9nLr1g2qC1"
      },
      "execution_count": null,
      "outputs": []
    },
    {
      "cell_type": "code",
      "source": [
        "print(lambda_func(3))\n",
        "print(lambda_func(\"4\"))\n",
        "print(lambda_func(True))\n",
        "print(lambda_func([1, 2, 3]))"
      ],
      "metadata": {
        "id": "bw3BvT1x2qC1"
      },
      "execution_count": null,
      "outputs": []
    },
    {
      "cell_type": "markdown",
      "source": [
        "## Reto 104: ¿El diccionario contiene la clave especificada?\n",
        "* Escriba una función que devuelva `True` si un diccionario contiene la clave especificada y `False` en caso contrario.\n",
        "* Ejemplos:\n",
        "    1. has_key({ \"a\": 44, \"b\": 45, \"c\": 46 }, \"d\") ➞ False\n",
        "    2. has_key({ \"rojo\": True, \"azul\": True, \"verde\": True }, \"rosa\") ➞ False\n",
        "    3. has_key({ \"ene\": 1, \"feb\": 2, \"mar\": 3 }, \"feb\") ➞ True"
      ],
      "metadata": {
        "id": "y6GXjHrantgQ"
      }
    },
    {
      "cell_type": "code",
      "source": [
        "def has_key(diccionario, key):\n",
        "    pass"
      ],
      "metadata": {
        "id": "lUtSpTkm2pyo"
      },
      "execution_count": null,
      "outputs": []
    },
    {
      "cell_type": "code",
      "source": [
        "print(has_key({ \"a\": 44, \"b\": 45, \"c\": 46 }, \"d\"))\n",
        "print(has_key({ \"rojo\": True, \"azul\": True, \"verde\": True }, \"rosa\"))\n",
        "print(has_key({ \"ene\": 1, \"feb\": 2, \"mar\": 3 }, \"feb\"))"
      ],
      "metadata": {
        "id": "4Id-nUBn2pyu"
      },
      "execution_count": null,
      "outputs": []
    },
    {
      "cell_type": "markdown",
      "source": [
        "## Reto 105: Aplausos acalorados\n",
        "* Después de una actuación increíble, ¡el público enloquece!\n",
        "* La gente aplaude con entusiasmo y la mayoría de los aplausos se superponen entre sí para crear un sonido homogéneo.\n",
        "* Un aplauso superpuesto es un aplauso que comienza pero no termina, como en \"ClaClap\" (el primer aplauso se corta y en total hay 2 aplausos).\n",
        "* Dada una serie de cómo sonaron los aplausos superpuestos, indica cuántos aplausos se dieron en total.\n",
        "* Ejemplos:\n",
        "    1. count_claps(\"ClaClaClaClap!\") ➞ 4\n",
        "    2. count_claps(\"ClClClaClaClaClap!\") ➞ 6\n",
        "    3. count_claps(\"CCClaClClap!Clap!ClClClap!\") ➞ 9"
      ],
      "metadata": {
        "id": "w5FLCMCPnthv"
      }
    },
    {
      "cell_type": "code",
      "source": [
        "def count_claps(cadena):\n",
        "    pass"
      ],
      "metadata": {
        "id": "KlPp-5152pLp"
      },
      "execution_count": null,
      "outputs": []
    },
    {
      "cell_type": "code",
      "source": [
        "print(count_claps(\"ClaClaClaClap!\"))\n",
        "print(count_claps(\"ClClClaClaClaClap!\"))\n",
        "print(count_claps(\"CCClaClClap!Clap!ClClClap!\"))"
      ],
      "metadata": {
        "id": "PWTY0I-o2pLq"
      },
      "execution_count": null,
      "outputs": []
    },
    {
      "cell_type": "markdown",
      "source": [
        "## Reto 106: Palancas\n",
        "* Las palancas son máquinas simples compuestas de una barra rígida y un punto de apoyo.\n",
        "* Hay 3 tipos de palancas: primera clase, segunda clase y tercera clase.\n",
        "* En una palanca de primera clase, el punto de apoyo está situado en el medio, con el esfuerzo y la carga colocados uno frente al otro.\n",
        "* En una palanca de segunda clase, el punto de apoyo está situado frente al esfuerzo y la carga en el medio.\n",
        "* En una palanca de tercera clase, el punto de apoyo está situado frente a la carga y el esfuerzo en el medio.\n",
        "* Dada una lista que contiene el punto de apoyo \"f\", el esfuerzo \"e\" y la carga \"l\", escriba una función que determine si la lista muestra o no una palanca de primera clase, una palanca de segunda clase o una palanca de tercera clase.\n",
        "* Ejemplos:\n",
        "    1. determine_lever([\"e\", \"f\", \"l\"]) ➞ \"first class lever\"\n",
        "    2. determine_lever([\"e\", \"l\", \"f\"]) ➞ \"second class lever\"\n",
        "    3. determine_lever([\"f\", \"e\", \"l\"]) ➞ \"third class lever\""
      ],
      "metadata": {
        "id": "qI01PB12ntjb"
      }
    },
    {
      "cell_type": "code",
      "source": [
        "def determine_lever(lista):\n",
        "    pass"
      ],
      "metadata": {
        "id": "b5a9oJDA2os3"
      },
      "execution_count": null,
      "outputs": []
    },
    {
      "cell_type": "code",
      "source": [
        "print(determine_lever([\"e\", \"f\", \"l\"]))\n",
        "print(determine_lever([\"e\", \"l\", \"f\"]))\n",
        "print(determine_lever([\"f\", \"e\", \"l\"]))"
      ],
      "metadata": {
        "id": "XjGfanib2os3"
      },
      "execution_count": null,
      "outputs": []
    },
    {
      "cell_type": "markdown",
      "source": [
        "## Reto 107: Redundancia booleana\n",
        "* Disponemos de un código un algún pequeño error.\n",
        "* Sin embargo, su objetivo es presentar una función lo más minimalista posible.\n",
        "* Escriba una función que devuelva la palabra \"par\" si el número entero dado es par y la palabra \"impar\" si es impar.\n",
        "* Tip: Convertir un booleano, o algo que finalmente se interpretará como booleano, en booleano es redundante.\n",
        "* Una comparación con <, <=, ==, !=, >=, > siempre dará como resultado un booleano, por lo tanto, usar la función bool() es totalmente innecesario.\n",
        "* boolean == True es redundante, ya que siempre devolverá booleano.\n",
        "* Para obtener el opuesto de un booleano podríamos usar booleano == False. pero ...\n",
        "* Sin embargo, una forma mucho más limpia de hacer esto simplemente no comparar la condición con un booleano, ya que la condición en si misma ya es `True` o `False`.\n",
        "* Mientras preserva la legibilidad, evite declarar variables innecesarias.\n",
        "\n",
        "<pre>\n",
        "def parity(n):\n",
        "\tresp = bool(n % 2)\n",
        "\tif res == False:\n",
        "\t\treturn \"par\"\n",
        "\tif res == True:\n",
        "\t\treturn \"impar\"\n",
        "</pre>\n",
        "\n",
        "* Ejemplos:\n",
        "\t1. parity(4) ➞ par\n",
        "\t2. parity(7) ➞ impar\n",
        "\t3. parity(0) ➞ par"
      ],
      "metadata": {
        "id": "5LXqHRmbntkP"
      }
    },
    {
      "cell_type": "code",
      "source": [
        "def parity(n):\n",
        "\tpass"
      ],
      "metadata": {
        "id": "GPI4S25W2oHv"
      },
      "execution_count": null,
      "outputs": []
    },
    {
      "cell_type": "code",
      "source": [
        "print(parity(4))\n",
        "print(parity(7))\n",
        "print(parity(0))"
      ],
      "metadata": {
        "id": "Art2XB5J2oHw"
      },
      "execution_count": null,
      "outputs": []
    },
    {
      "cell_type": "markdown",
      "source": [
        "## Reto 108: Asignación destructiva\n",
        "* Dada una lista como por ejemplo esta:\n",
        "<pre>\n",
        "lista = [10, 20, 30]\n",
        "</pre>\n",
        "podemos recoger el primer elemento con la variable `primero` de esta forma:\n",
        "\n",
        "<pre>primero = lista[0]</pre>\n",
        "\n",
        "podemos recoger el último elemento con la variable `ultimo` así:\n",
        "<pre>ultimo = lista[-1]</pre>\n",
        "\n",
        "* Otra forma de conseguirlo es asignar variables\n",
        "\n",
        "<pre>primero, -, ultimo = [10, 20, 30]</pre>\n",
        "\n",
        "La variable `_` se usa habitualmente cuando se recogen valores que posteriormente no se usarán.\n",
        "\n",
        "* Cree una función que recoja los elementos centrales de un array, siendo la lista de longitud mayor o igual a tres.\n",
        "* Tip: explore el operador asterisco `*` que se utiliza para desempaquetar iterables.\n",
        "* Ejemplos:\n",
        "    1. centrales([10, 20, 30]) ➞ [20]\n",
        "    2. centrales([1, 2, 3, 4, 5, 6]) ➞ [2, 3, 4, 5]\n",
        "    3. centrales(['lun', 'mar', 'mie', 'jue', 'vie']) ➞ ['mar', 'mie', 'jue']"
      ],
      "metadata": {
        "id": "PI8eQe5EntlC"
      }
    },
    {
      "cell_type": "code",
      "source": [
        "def centrales(lista):\n",
        "    pass"
      ],
      "metadata": {
        "id": "ylVC5c622nRb"
      },
      "execution_count": null,
      "outputs": []
    },
    {
      "cell_type": "code",
      "source": [
        "print(centrales([10, 20, 30]))\n",
        "print(centrales([1, 2, 3, 4, 5, 6]))\n",
        "print(centrales(['lun', 'mar', 'mie', 'jue', 'vie']))"
      ],
      "metadata": {
        "id": "keliQ0bw2nRh"
      },
      "execution_count": null,
      "outputs": []
    },
    {
      "cell_type": "markdown",
      "source": [
        "## Reto 109: Corregir código con Bugs\n",
        "* El desafío es intentar corregir este código defectuoso, dadas las entradas `True` y `False`.\n",
        "* Consulte los ejemplos siguientes para conocer el resultado esperado.\n",
        "* Ejemplos:\n",
        "    1. has_bugs(True) ➞ \"A depurar código\"\n",
        "    2. has_bugs(False) ➞ \"Hoy es un buen día\"\n",
        "\n",
        "<pre>\n",
        "def has_bugs(buggy_code):\n",
        "\tif buggyCode:\n",
        "\t\treturn 'A depurar código'\n",
        "\telif:\n",
        "\t\treturn 'Hoy es un buen día'\n",
        "</pre>\n"
      ],
      "metadata": {
        "id": "QODO-ZEuntlT"
      }
    },
    {
      "cell_type": "code",
      "source": [
        "def has_bugs(buggy_code):\n",
        "\tpass"
      ],
      "metadata": {
        "id": "jemQ0nAC2miq"
      },
      "execution_count": null,
      "outputs": []
    },
    {
      "cell_type": "code",
      "source": [
        "print(has_bugs(True))\n",
        "print(has_bugs(False))"
      ],
      "metadata": {
        "id": "5LhI2Pra2mir"
      },
      "execution_count": null,
      "outputs": []
    },
    {
      "cell_type": "markdown",
      "source": [
        "## Reto 110: Peso máximo permitido\n",
        "* Cree una función que devuelva `True` si el peso combinado de un automóvil y el peso de los pasajeros p en el automóvil es menor que el peso máximo `max_weight` que el automóvil puede transportar. De lo contrario, devuelve Falso.\n",
        "* El peso del automóvil y el peso de los pasajeros se dan en libras.\n",
        "* El peso máximo se indica en kilogramos.\n",
        "* Nota: 1 libra = 0,453592 kilogramo\n",
        "* El orden de los argumentos en la función son:\n",
        "    - `weight_allowed(car, p, max_weight)`\n",
        "* Ejemplos:\n",
        "    1. weight_allowed(3000, [150, 201, 75, 88, 195], 1700) ➞ True\n",
        "    2. weight_allowed(3200, [220, 101, 115, 228, 15], 1700) ➞ False\n",
        "    3. weight_allowed(2900, [225, 171, 300, 274, 191], 1850) ➞ True"
      ],
      "metadata": {
        "id": "czeqq4Pentm0"
      }
    },
    {
      "cell_type": "code",
      "source": [
        "def weight_allowed(car, p, max_weight):\n",
        "    pass"
      ],
      "metadata": {
        "id": "0TsgTz6N2mIA"
      },
      "execution_count": null,
      "outputs": []
    },
    {
      "cell_type": "code",
      "source": [
        "print(weight_allowed(3000, [150, 201, 75, 88, 195], 1700))\n",
        "print(weight_allowed(3200, [220, 101, 115, 228, 15], 1700))\n",
        "print(weight_allowed(2900, [225, 171, 300, 274, 191], 1850))"
      ],
      "metadata": {
        "id": "TW1drakF2mIB"
      },
      "execution_count": null,
      "outputs": []
    }
  ]
}