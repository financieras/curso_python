{
  "nbformat": 4,
  "nbformat_minor": 0,
  "metadata": {
    "colab": {
      "provenance": [],
      "authorship_tag": "ABX9TyPIQnD7HPv1aU9bF4T2jJQ9",
      "include_colab_link": true
    },
    "kernelspec": {
      "name": "python3",
      "display_name": "Python 3"
    },
    "language_info": {
      "name": "python"
    }
  },
  "cells": [
    {
      "cell_type": "markdown",
      "metadata": {
        "id": "view-in-github",
        "colab_type": "text"
      },
      "source": [
        "<a href=\"https://colab.research.google.com/github/financieras/curso_python/blob/main/retos/reto170.ipynb\" target=\"_parent\"><img src=\"https://colab.research.google.com/assets/colab-badge.svg\" alt=\"Open In Colab\"/></a>"
      ]
    },
    {
      "cell_type": "markdown",
      "source": [
        "## Reto 170: Revertir mayúsculas y minúsculas\n",
        "* Dada una cadena, cree una función para invertir las mayúsculas por minúsculas y viceversa.\n",
        "* Todas las letras minúsculas deben tornar en mayúsculas y viceversa.\n",
        "* Ejemplos:\n",
        "    1. reverse_case(\"Happy Birthday\") ➞ \"hAPPY bIRTHDAY\"\n",
        "    2. reverse_case(\"MANY THANKS\") ➞ \"many thanks\"\n",
        "    3. reverse_case(\"ChOcOlAtE\") ➞ \"cHoCoLaTe\""
      ],
      "metadata": {
        "id": "vLIV6k5-xhVe"
      }
    },
    {
      "cell_type": "code",
      "source": [
        "def reverse_case(cadena):\n",
        "    pass"
      ],
      "metadata": {
        "id": "B0vLHBRx2BXp"
      },
      "execution_count": null,
      "outputs": []
    },
    {
      "cell_type": "code",
      "source": [
        "print(reverse_case(\"Happy Birthday\"))\n",
        "print(reverse_case(\"MANY THANKS\"))\n",
        "print(reverse_case(\"ChOcOlAtE\"))"
      ],
      "metadata": {
        "id": "6YYkN-EA2BXp"
      },
      "execution_count": null,
      "outputs": []
    }
  ]
}