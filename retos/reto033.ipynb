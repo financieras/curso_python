{
  "nbformat": 4,
  "nbformat_minor": 0,
  "metadata": {
    "colab": {
      "provenance": [],
      "authorship_tag": "ABX9TyMi4/UA38JlZnhCDFrQhxgn",
      "include_colab_link": true
    },
    "kernelspec": {
      "name": "python3",
      "display_name": "Python 3"
    },
    "language_info": {
      "name": "python"
    }
  },
  "cells": [
    {
      "cell_type": "markdown",
      "metadata": {
        "id": "view-in-github",
        "colab_type": "text"
      },
      "source": [
        "<a href=\"https://colab.research.google.com/github/financieras/curso_python/blob/main/retos/reto033.ipynb\" target=\"_parent\"><img src=\"https://colab.research.google.com/assets/colab-badge.svg\" alt=\"Open In Colab\"/></a>"
      ]
    },
    {
      "cell_type": "markdown",
      "source": [
        "## Reto 33: String a Integer y viceversa\n",
        "* Escribe dos funciones:\n",
        "    - `to_int()`: una función para convertir una cadena en un número entero.\n",
        "    - `to_str()`: una función para convertir un número entero en una cadena.\n",
        "    * Ejemplos:\n",
        "        1. to_int(\"77\") ➞ 77\n",
        "        2. to_int(\"532\") ➞ 532\n",
        "        3. to_str(77) ➞ \"77\"\n",
        "        4. to_str(532) ➞ \"532\""
      ],
      "metadata": {
        "id": "BFSsVGkRh54B"
      }
    },
    {
      "cell_type": "code",
      "source": [
        "def to_int(txt):\n",
        "    pass\n",
        "\n",
        "def to_str(num):\n",
        "    pass"
      ],
      "metadata": {
        "id": "g7tXEQn4KdLt"
      },
      "execution_count": null,
      "outputs": []
    },
    {
      "cell_type": "code",
      "source": [
        "print(to_int(\"77\"))\n",
        "print(to_int(\"532\"))\n",
        "print(to_str(77))\n",
        "to_str(532)"
      ],
      "metadata": {
        "id": "suXZr_InKxML"
      },
      "execution_count": null,
      "outputs": []
    }
  ]
}