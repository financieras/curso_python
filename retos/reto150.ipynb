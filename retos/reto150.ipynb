{
  "nbformat": 4,
  "nbformat_minor": 0,
  "metadata": {
    "colab": {
      "provenance": [],
      "authorship_tag": "ABX9TyPyT4d3tYNoEa/sLuy6tbln",
      "include_colab_link": true
    },
    "kernelspec": {
      "name": "python3",
      "display_name": "Python 3"
    },
    "language_info": {
      "name": "python"
    }
  },
  "cells": [
    {
      "cell_type": "markdown",
      "metadata": {
        "id": "view-in-github",
        "colab_type": "text"
      },
      "source": [
        "<a href=\"https://colab.research.google.com/github/financieras/curso_python/blob/main/retos/reto150.ipynb\" target=\"_parent\"><img src=\"https://colab.research.google.com/assets/colab-badge.svg\" alt=\"Open In Colab\"/></a>"
      ]
    },
    {
      "cell_type": "markdown",
      "source": [
        "## Reto 150: Promedios recortados\n",
        "* Dada una lista de números, elimine los números más grandes y más pequeños y calcule el promedio de los números restantes.\n",
        "* Redondea al número entero más próximo.\n",
        "* El tamaño de la lista es mayor que 2.\n",
        "* Ejemplos:\n",
        "    1. trimmed_averages([4, 5, 7, 100]) ➞ 6\n",
        "    2. trimmed_averages([10, 25, 5, 15, 20]) ➞ 15\n",
        "    3. trimmed_averages([1, 1, 1]) ➞ 1\n",
        "    4. trimmed_averages([-2, -1, 7, 2, 10]) ➞ 3"
      ],
      "metadata": {
        "id": "oYAck1PBmWr0"
      }
    },
    {
      "cell_type": "code",
      "source": [
        "def trimmed_averages(lista):\n",
        "    pass"
      ],
      "metadata": {
        "id": "tHcGOhr-2M0a"
      },
      "execution_count": null,
      "outputs": []
    },
    {
      "cell_type": "code",
      "source": [
        "print(trimmed_averages([4, 5, 7, 100]))\n",
        "print(trimmed_averages([10, 25, 5, 15, 20]))\n",
        "print(trimmed_averages([1, 1, 1]))\n",
        "print(trimmed_averages([-2, -1, 7, 2, 10]))"
      ],
      "metadata": {
        "id": "T9QcZgKB2M0b"
      },
      "execution_count": null,
      "outputs": []
    }
  ]
}