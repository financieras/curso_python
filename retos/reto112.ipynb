{
  "nbformat": 4,
  "nbformat_minor": 0,
  "metadata": {
    "colab": {
      "provenance": [],
      "authorship_tag": "ABX9TyN2lq8pibaHa9yBGOoJ2yhr",
      "include_colab_link": true
    },
    "kernelspec": {
      "name": "python3",
      "display_name": "Python 3"
    },
    "language_info": {
      "name": "python"
    }
  },
  "cells": [
    {
      "cell_type": "markdown",
      "metadata": {
        "id": "view-in-github",
        "colab_type": "text"
      },
      "source": [
        "<a href=\"https://colab.research.google.com/github/financieras/curso_python/blob/main/retos/reto112.ipynb\" target=\"_parent\"><img src=\"https://colab.research.google.com/assets/colab-badge.svg\" alt=\"Open In Colab\"/></a>"
      ]
    },
    {
      "cell_type": "markdown",
      "source": [
        "## Reto 112: Maravillosa canción\n",
        "* Crea una función que tome una cadena y cambie la palabra `maravillosa` por `aburrida`.\n",
        "* Devuelve la cadena sin ningún cambio si la palabra 'canción' es parte de la cadena.\n",
        "* Ejemplos:\n",
        "    1. maravillosa_canción(\"Esta canción es maravillosa.\") ➞ \"Esta canción es maravillosa.\"\n",
        "    2. maravillosa_canción(\"La ruta fué maravillosa.\") ➞ \"La ruta fué aburrida.\"\n",
        "    3. maravillosa_canción(\"Fué una cena maravillosa.\") ➞ \"Fué una cena aburrida.\"\n",
        "    4.  maravillosa_canción(\"Tu maravillosa canción ganó.\") ➞ \"Tu maravillosa canción ganó.\"\n"
      ],
      "metadata": {
        "id": "1Qgl2wxlntn4"
      }
    },
    {
      "cell_type": "code",
      "source": [
        "def maravillosa_canción(frase):\n",
        "    pass"
      ],
      "metadata": {
        "id": "J_amLZSH2lCa"
      },
      "execution_count": null,
      "outputs": []
    },
    {
      "cell_type": "code",
      "source": [
        "print(maravillosa_canción(\"Esta canción es maravillosa.\"))\n",
        "print(maravillosa_canción(\"La ruta fué maravillosa.\"))\n",
        "print(maravillosa_canción(\"Fué una cena maravillosa.\"))\n",
        "print(maravillosa_canción(\"Tu maravillosa canción ganó.\"))"
      ],
      "metadata": {
        "id": "EeLWogkI2lCg"
      },
      "execution_count": null,
      "outputs": []
    }
  ]
}