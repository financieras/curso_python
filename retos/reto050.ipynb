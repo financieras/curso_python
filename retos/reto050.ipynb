{
  "nbformat": 4,
  "nbformat_minor": 0,
  "metadata": {
    "colab": {
      "provenance": [],
      "authorship_tag": "ABX9TyPHDBnZTS/Gi1EcZz5Xl1iJ",
      "include_colab_link": true
    },
    "kernelspec": {
      "name": "python3",
      "display_name": "Python 3"
    },
    "language_info": {
      "name": "python"
    }
  },
  "cells": [
    {
      "cell_type": "markdown",
      "metadata": {
        "id": "view-in-github",
        "colab_type": "text"
      },
      "source": [
        "<a href=\"https://colab.research.google.com/github/financieras/curso_python/blob/main/retos/reto050.ipynb\" target=\"_parent\"><img src=\"https://colab.research.google.com/assets/colab-badge.svg\" alt=\"Open In Colab\"/></a>"
      ]
    },
    {
      "cell_type": "markdown",
      "source": [
        "## Reto 50: ¿Suma la lista menos de cien?\n",
        "* Cree una función que reciba una lista de números\n",
        "* Se retorna `True` si la suma de los valores de la lista es menor estricto que 100, de lo contrario, se retorna `False`.\n",
        "* Ejemplos:\n",
        "    1. menos_que_cien([5, 57]) ➞ True\n",
        "    2. menos_que_cien([77, 30]) ➞ False\n",
        "    3. menos_que_cien([0]) ➞ True\n",
        "    4. menos_que_cien([7, 33, 15]) ➞ True\n",
        "    5. menos_que_cien([95, 1, 1, 1, 2]) ➞ False\n"
      ],
      "metadata": {
        "id": "emD22dC-zyWu"
      }
    },
    {
      "cell_type": "code",
      "source": [
        "def menos_que_cien(lista):\n",
        "    pass"
      ],
      "metadata": {
        "id": "qOiSp3Jm9gP3"
      },
      "execution_count": null,
      "outputs": []
    },
    {
      "cell_type": "code",
      "source": [
        "print(menos_que_cien([5, 57]))\n",
        "print(menos_que_cien([77, 30]))\n",
        "print(menos_que_cien([0]))\n",
        "print(menos_que_cien([7, 33, 15]))\n",
        "print(menos_que_cien([95, 1, 1, 1, 2]))"
      ],
      "metadata": {
        "id": "jlZ6Jzbi0blt"
      },
      "execution_count": null,
      "outputs": []
    }
  ]
}