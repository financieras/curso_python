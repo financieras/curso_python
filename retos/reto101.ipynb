{
  "nbformat": 4,
  "nbformat_minor": 0,
  "metadata": {
    "colab": {
      "provenance": [],
      "authorship_tag": "ABX9TyP1Ce4QKN/KFVzAVXJXtw7/",
      "include_colab_link": true
    },
    "kernelspec": {
      "name": "python3",
      "display_name": "Python 3"
    },
    "language_info": {
      "name": "python"
    }
  },
  "cells": [
    {
      "cell_type": "markdown",
      "metadata": {
        "id": "view-in-github",
        "colab_type": "text"
      },
      "source": [
        "<a href=\"https://colab.research.google.com/github/financieras/curso_python/blob/main/retos/reto101.ipynb\" target=\"_parent\"><img src=\"https://colab.research.google.com/assets/colab-badge.svg\" alt=\"Open In Colab\"/></a>"
      ]
    },
    {
      "cell_type": "markdown",
      "source": [
        "## Reto 101: Slice of Pie\n",
        "* Rebanadas de un pastel\n",
        "* Cree una función que determine si es posible o no dividir un pastel de manera justa dados estos tres parámetros:\n",
        "    - Número total de rebanadas.\n",
        "    - Número de destinatarios.\n",
        "    - ¿Cuántas porciones recibe cada persona?\n",
        "* La función quedará de esta forma:\n",
        "\n",
        "\n",
        "<pre>\n",
        "equal_slices(total_slices, num_recipients, slices_each)\n",
        "</pre>\n",
        "\n",
        "\n",
        "<pre>\n",
        "equal_slices(11, 5, 2) ➞ True # 5 people x 2 slices each = 10 slices <= 11 slices\n",
        "</pre>\n",
        "\n",
        "\n",
        "<pre>\n",
        "equal_slices(11, 5, 3) ➞ False # 5 people x 3 slices each = 15 slices > 11 slices\n",
        "</pre>\n",
        "* Ejemplos:\n",
        "    1. equal_slices(8, 3, 2) ➞ True\n",
        "    2. equal_slices(8, 3, 3) ➞ False\n",
        "    3. equal_slices(24, 12, 2) ➞ True"
      ],
      "metadata": {
        "id": "GP-E0baxntdj"
      }
    },
    {
      "cell_type": "code",
      "source": [
        "def equal_slices(total_slices, num_recipients, slices_each):\n",
        "    pass"
      ],
      "metadata": {
        "id": "9ZuOqT2w2qz6"
      },
      "execution_count": null,
      "outputs": []
    },
    {
      "cell_type": "code",
      "source": [
        "print(equal_slices(8, 3, 2))\n",
        "print(equal_slices(8, 3, 3))\n",
        "print(equal_slices(24, 12, 2))"
      ],
      "metadata": {
        "id": "1XpRf9s22qz7"
      },
      "execution_count": null,
      "outputs": []
    }
  ]
}