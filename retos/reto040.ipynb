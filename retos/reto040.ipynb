{
  "nbformat": 4,
  "nbformat_minor": 0,
  "metadata": {
    "colab": {
      "provenance": [],
      "authorship_tag": "ABX9TyN4/bYw32WqsEMzCWV8kJTU",
      "include_colab_link": true
    },
    "kernelspec": {
      "name": "python3",
      "display_name": "Python 3"
    },
    "language_info": {
      "name": "python"
    }
  },
  "cells": [
    {
      "cell_type": "markdown",
      "metadata": {
        "id": "view-in-github",
        "colab_type": "text"
      },
      "source": [
        "<a href=\"https://colab.research.google.com/github/financieras/curso_python/blob/main/retos/reto040.ipynb\" target=\"_parent\"><img src=\"https://colab.research.google.com/assets/colab-badge.svg\" alt=\"Open In Colab\"/></a>"
      ]
    },
    {
      "cell_type": "markdown",
      "source": [
        "## Reto 40: Suma de los elementos de una lista\n",
        "* Cree una función que tome una lista y devuelva la suma de todos los números de la lista.\n",
        "* Ejemplos:\n",
        "    1. sum_elements([2, 7, 4]) ➞ 13\n",
        "    2. sum_elements([45, 3, 0]) ➞ 48\n",
        "    3. sum_elements([-2, 84, 23]) ➞ 105\n"
      ],
      "metadata": {
        "id": "uH0q2k3AymvL"
      }
    },
    {
      "cell_type": "code",
      "source": [
        "def sum_elements(lista):\n",
        "    pass"
      ],
      "metadata": {
        "id": "xwjkMkTE9auf"
      },
      "execution_count": null,
      "outputs": []
    },
    {
      "cell_type": "code",
      "source": [
        "print(sum_elements([2, 7, 4]))\n",
        "print(sum_elements([45, 3, 0]))\n",
        "print(sum_elements([-2, 84, 23]))"
      ],
      "metadata": {
        "id": "WyGkE9zk_jP1"
      },
      "execution_count": null,
      "outputs": []
    }
  ]
}