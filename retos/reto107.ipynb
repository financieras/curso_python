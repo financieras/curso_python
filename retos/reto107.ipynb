{
  "nbformat": 4,
  "nbformat_minor": 0,
  "metadata": {
    "colab": {
      "provenance": [],
      "authorship_tag": "ABX9TyMJPMVb8tFf5i5Cjy4RX4AS",
      "include_colab_link": true
    },
    "kernelspec": {
      "name": "python3",
      "display_name": "Python 3"
    },
    "language_info": {
      "name": "python"
    }
  },
  "cells": [
    {
      "cell_type": "markdown",
      "metadata": {
        "id": "view-in-github",
        "colab_type": "text"
      },
      "source": [
        "<a href=\"https://colab.research.google.com/github/financieras/curso_python/blob/main/retos/reto107.ipynb\" target=\"_parent\"><img src=\"https://colab.research.google.com/assets/colab-badge.svg\" alt=\"Open In Colab\"/></a>"
      ]
    },
    {
      "cell_type": "markdown",
      "source": [
        "## Reto 107: Redundancia booleana\n",
        "* Disponemos de un código un algún pequeño error.\n",
        "* Sin embargo, su objetivo es presentar una función lo más minimalista posible.\n",
        "* Escriba una función que devuelva la palabra \"par\" si el número entero dado es par y la palabra \"impar\" si es impar.\n",
        "* Tip: Convertir un booleano, o algo que finalmente se interpretará como booleano, en booleano es redundante.\n",
        "* Una comparación con <, <=, ==, !=, >=, > siempre dará como resultado un booleano, por lo tanto, usar la función bool() es totalmente innecesario.\n",
        "* boolean == True es redundante, ya que siempre devolverá booleano.\n",
        "* Para obtener el opuesto de un booleano podríamos usar booleano == False. pero ...\n",
        "* Sin embargo, una forma mucho más limpia de hacer esto simplemente no comparar la condición con un booleano, ya que la condición en si misma ya es `True` o `False`.\n",
        "* Mientras preserva la legibilidad, evite declarar variables innecesarias.\n",
        "\n",
        "<pre>\n",
        "def parity(n):\n",
        "\tresp = bool(n % 2)\n",
        "\tif res == False:\n",
        "\t\treturn \"par\"\n",
        "\tif res == True:\n",
        "\t\treturn \"impar\"\n",
        "</pre>\n",
        "\n",
        "* Ejemplos:\n",
        "\t1. parity(4) ➞ par\n",
        "\t2. parity(7) ➞ impar\n",
        "\t3. parity(0) ➞ par"
      ],
      "metadata": {
        "id": "5LXqHRmbntkP"
      }
    },
    {
      "cell_type": "code",
      "source": [
        "def parity(n):\n",
        "\tpass"
      ],
      "metadata": {
        "id": "GPI4S25W2oHv"
      },
      "execution_count": null,
      "outputs": []
    },
    {
      "cell_type": "code",
      "source": [
        "print(parity(4))\n",
        "print(parity(7))\n",
        "print(parity(0))"
      ],
      "metadata": {
        "id": "Art2XB5J2oHw"
      },
      "execution_count": null,
      "outputs": []
    }
  ]
}