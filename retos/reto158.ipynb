{
  "nbformat": 4,
  "nbformat_minor": 0,
  "metadata": {
    "colab": {
      "provenance": [],
      "authorship_tag": "ABX9TyOvDZJACF4pRQJVD8W/XeAO",
      "include_colab_link": true
    },
    "kernelspec": {
      "name": "python3",
      "display_name": "Python 3"
    },
    "language_info": {
      "name": "python"
    }
  },
  "cells": [
    {
      "cell_type": "markdown",
      "metadata": {
        "id": "view-in-github",
        "colab_type": "text"
      },
      "source": [
        "<a href=\"https://colab.research.google.com/github/financieras/curso_python/blob/main/retos/reto158.ipynb\" target=\"_parent\"><img src=\"https://colab.research.google.com/assets/colab-badge.svg\" alt=\"Open In Colab\"/></a>"
      ]
    },
    {
      "cell_type": "markdown",
      "source": [
        "## Reto 158: Comprobar si son iguales\n",
        "* En este desafío, debe verificar la igualdad de dos valores, `a` y `b`, dados a la función como parámetros.\n",
        "* Tanto el valor como el tipo de los parámetros deben ser iguales.\n",
        "* Los posibles tipos de parámetros dados son:\n",
        "    - Números\n",
        "    - Strings\n",
        "    - Booleans (False o True)\n",
        "    - Valores especiales: None\n",
        "* ¿Qué ha aprendido hasta ahora que le permitirá realizar dos comprobaciones diferentes (valor y tipo) con una sola declaración?\n",
        "* Implemente una función que devuelva `True` si los parámetros son iguales y `False` si no lo son.\n",
        "* Ejemplos:\n",
        "    1. check_equality(1,  1) ➞ True\n",
        "    2. check_equality(1, True) ➞ False\n",
        "    3. check_equality(0, \"0\") ➞ False\n",
        "    4. check_equality(0.0, False) ➞ False\n",
        "    5. check_equality(7, 7.) ➞ False\n",
        "    6. check_equality(bool(7), True) ➞ False\n",
        "\n",
        "* Para que la función retorne 'True' ambos valores deben ser iguales y ambos tipos deben ser iguales."
      ],
      "metadata": {
        "id": "t0NY31pRmXbq"
      }
    },
    {
      "cell_type": "code",
      "source": [
        "def check_equality(a, b):\n",
        "    pass"
      ],
      "metadata": {
        "id": "PPfNQPKH2IF9"
      },
      "execution_count": null,
      "outputs": []
    },
    {
      "cell_type": "code",
      "source": [
        "print(check_equality(1, 1))\n",
        "print(check_equality(1, True))\n",
        "print(check_equality(0, \"0\"))\n",
        "print(check_equality(0.0, False))\n",
        "print(check_equality(7, 7.))\n",
        "print(check_equality(bool(7), True))"
      ],
      "metadata": {
        "id": "3-rnPukr2IF-"
      },
      "execution_count": null,
      "outputs": []
    }
  ]
}