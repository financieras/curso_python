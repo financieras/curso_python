{
  "nbformat": 4,
  "nbformat_minor": 0,
  "metadata": {
    "colab": {
      "provenance": [],
      "authorship_tag": "ABX9TyOc6Jhj4IADiUle1GVAUPGA",
      "include_colab_link": true
    },
    "kernelspec": {
      "name": "python3",
      "display_name": "Python 3"
    },
    "language_info": {
      "name": "python"
    }
  },
  "cells": [
    {
      "cell_type": "markdown",
      "metadata": {
        "id": "view-in-github",
        "colab_type": "text"
      },
      "source": [
        "<a href=\"https://colab.research.google.com/github/financieras/curso_python/blob/main/retos/reto090.ipynb\" target=\"_parent\"><img src=\"https://colab.research.google.com/assets/colab-badge.svg\" alt=\"Open In Colab\"/></a>"
      ]
    },
    {
      "cell_type": "markdown",
      "source": [
        "## Reto 90: División entera para acceder a la lista\n",
        "* Realizar la división entera y luego usar ese resultado como índice para acceder a la lista.\n",
        "* Los parámetros de la función son estos y en este orden:\n",
        "    - `valor_en_posicion(lista, division_entera)`\n",
        "* Ejemplos:\n",
        "    1. valor_en_posicion([10, 20, 30, 40, 50], 8 // 2) ➞ 50\n",
        "    2. valor_en_posicion([1, 2, 3, 4, 5, 6], 8.0 // 2) ➞ 5\n",
        "    3. valor_en_posicion([1, 2, 3, 4], 6.5 // 2) ➞ 4\n"
      ],
      "metadata": {
        "id": "jPmaP5SwntHU"
      }
    },
    {
      "cell_type": "code",
      "source": [
        "def valor_en_posicion(lista, division_entera):\n",
        "    pass"
      ],
      "metadata": {
        "id": "W_nYKh1i2xtq"
      },
      "execution_count": null,
      "outputs": []
    },
    {
      "cell_type": "code",
      "source": [
        "print(valor_en_posicion([10, 20, 30, 40, 50], 8 // 2))\n",
        "print(valor_en_posicion([1, 2, 3, 4, 5, 6], 8.0 // 2))\n",
        "print(valor_en_posicion([1, 2, 3, 4], 6.5 // 2))"
      ],
      "metadata": {
        "id": "kzBKzbX42xtq"
      },
      "execution_count": null,
      "outputs": []
    }
  ]
}