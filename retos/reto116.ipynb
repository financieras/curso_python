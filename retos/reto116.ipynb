{
  "nbformat": 4,
  "nbformat_minor": 0,
  "metadata": {
    "colab": {
      "provenance": [],
      "authorship_tag": "ABX9TyP88DfbksaTz0ZKCAE5HXDQ",
      "include_colab_link": true
    },
    "kernelspec": {
      "name": "python3",
      "display_name": "Python 3"
    },
    "language_info": {
      "name": "python"
    }
  },
  "cells": [
    {
      "cell_type": "markdown",
      "metadata": {
        "id": "view-in-github",
        "colab_type": "text"
      },
      "source": [
        "<a href=\"https://colab.research.google.com/github/financieras/curso_python/blob/main/retos/reto116.ipynb\" target=\"_parent\"><img src=\"https://colab.research.google.com/assets/colab-badge.svg\" alt=\"Open In Colab\"/></a>"
      ]
    },
    {
      "cell_type": "markdown",
      "source": [
        "## Reto 116: Parsear números\n",
        "* Cree una función que tome una lista formada por números enteros y cadenas.\n",
        "* La función convierte los números enteros en cadenas y devuelve la nueva lista.\n",
        "* Ejemplos:\n",
        "    1. parse_list([1, 2, \"a\", \"b\"]) ➞ [\"1\", \"2\", \"a\", \"b\"]\n",
        "    2. parse_list([\"abc\", 123, \"def\", 456]) ➞ [\"abc\", \"123\", \"def\", \"456\"]\n",
        "    3. parse_list([1, 2, 3, 17, 24, 3, \"a\", \"123b\"]) ➞ [\"1\", \"2\", \"3\", \"17\", \"24\", \"3\", \"a\", \"123b\"]\n",
        "    4. parse_list([]) ➞ []"
      ],
      "metadata": {
        "id": "yD4DFPzZz88Q"
      }
    },
    {
      "cell_type": "code",
      "source": [
        "def parse_list(lst):\n",
        "    pass"
      ],
      "metadata": {
        "id": "KmWelebx2ivv"
      },
      "execution_count": null,
      "outputs": []
    },
    {
      "cell_type": "code",
      "source": [
        "print(parse_list([1, 2, \"a\", \"b\"]))\n",
        "print(parse_list([\"abc\", 123, \"def\", 456]))\n",
        "print(parse_list([1, 2, 3, 17, 24, 3, \"a\", \"123b\"]))\n",
        "print(parse_list([]))"
      ],
      "metadata": {
        "id": "kQkhbTaN2ivw"
      },
      "execution_count": null,
      "outputs": []
    }
  ]
}