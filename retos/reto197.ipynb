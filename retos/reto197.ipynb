{
  "nbformat": 4,
  "nbformat_minor": 0,
  "metadata": {
    "colab": {
      "provenance": [],
      "authorship_tag": "ABX9TyPZS8SKyAoyN02l5vDOz1vo",
      "include_colab_link": true
    },
    "kernelspec": {
      "name": "python3",
      "display_name": "Python 3"
    },
    "language_info": {
      "name": "python"
    }
  },
  "cells": [
    {
      "cell_type": "markdown",
      "metadata": {
        "id": "view-in-github",
        "colab_type": "text"
      },
      "source": [
        "<a href=\"https://colab.research.google.com/github/financieras/curso_python/blob/main/retos/reto197.ipynb\" target=\"_parent\"><img src=\"https://colab.research.google.com/assets/colab-badge.svg\" alt=\"Open In Colab\"/></a>"
      ]
    },
    {
      "cell_type": "markdown",
      "source": [
        "## Reto 197: Filtrar cadenas de un Array\n",
        "* Cree una función que tome una lista de cadenas y números y devuelva una nueva lista sin las cadenas y sin los números negativos.\n",
        "* Ejemplos:\n",
        "    1. filter_list([1, 2, \"a\", \"b\"]) ➞ [1, 2]\n",
        "    2. filter_list([1, \"a\", \"b\", 0, 15, 1]) ➞ [1, 0, 15]\n",
        "    3. filter_list([1, 2, \"aasf\", \"1\", \"123\", 123]) ➞ [1, 2, 123]\n",
        "    4. filter_list([-5, \"5\", \"bye\", \"7\", \"77\"]) ➞ []\n",
        "* El cero es un número entero no negativo.\n",
        "* Los números de la lista no deben repetirse.\n",
        "* Se debe mantener el orden original."
      ],
      "metadata": {
        "id": "NpRvAtIV5-o4"
      }
    },
    {
      "cell_type": "code",
      "source": [
        "def filter_list(lst):\n",
        "    pass"
      ],
      "metadata": {
        "id": "EojQ8vA75-o4"
      },
      "execution_count": null,
      "outputs": []
    },
    {
      "cell_type": "code",
      "source": [
        "print(filter_list([1, 2, \"a\", \"b\"]))\n",
        "print(filter_list([1, \"a\", \"b\", 0, 15, 1]))\n",
        "print(filter_list([1, 2, \"aasf\", \"1\", \"123\", 123]))\n",
        "print(filter_list([-5, \"5\", \"bye\", \"7\", \"77\"]))"
      ],
      "metadata": {
        "id": "3dRWN_tA5-o5"
      },
      "execution_count": null,
      "outputs": []
    }
  ]
}