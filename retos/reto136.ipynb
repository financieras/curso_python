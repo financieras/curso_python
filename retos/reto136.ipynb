{
  "nbformat": 4,
  "nbformat_minor": 0,
  "metadata": {
    "colab": {
      "provenance": [],
      "authorship_tag": "ABX9TyPTOZUwC1LOht2BUkU5vO9J",
      "include_colab_link": true
    },
    "kernelspec": {
      "name": "python3",
      "display_name": "Python 3"
    },
    "language_info": {
      "name": "python"
    }
  },
  "cells": [
    {
      "cell_type": "markdown",
      "metadata": {
        "id": "view-in-github",
        "colab_type": "text"
      },
      "source": [
        "<a href=\"https://colab.research.google.com/github/financieras/curso_python/blob/main/retos/reto136.ipynb\" target=\"_parent\"><img src=\"https://colab.research.google.com/assets/colab-badge.svg\" alt=\"Open In Colab\"/></a>"
      ]
    },
    {
      "cell_type": "markdown",
      "source": [
        "## Reto 136: Contar cierto caracter en un String\n",
        "* Cree una función que tome dos cadenas como argumentos y devuelva el número de veces que la primera cadena (el carácter único) se encuentra en la segunda cadena.\n",
        "* La función debe distinguir entre mayúsculas y minúsculas.\n",
        "* Ejemplos:\n",
        "    1. char_count(\"a\", \"Sorpresa\") ➞ 1\n",
        "    2. char_count(\"c\", \"Cáceres ciudad histórica\") ➞ 3\n",
        "    3. char_count(\"C\", \"Cáceres ciudad histórica\") ➞ 1"
      ],
      "metadata": {
        "id": "YjoLKJzSmVUS"
      }
    },
    {
      "cell_type": "code",
      "source": [
        "def char_count(caracter, palabra) :\n",
        "    pass"
      ],
      "metadata": {
        "id": "Xn_obscm2YyB"
      },
      "execution_count": null,
      "outputs": []
    },
    {
      "cell_type": "code",
      "source": [
        "print(char_count(\"a\", \"Sorpresa\") )\n",
        "print(char_count(\"c\", \"Cáceres ciudad histórica\"))\n",
        "print(char_count(\"C\", \"Cáceres ciudad histórica\"))"
      ],
      "metadata": {
        "id": "UU2G4lXc2YyB"
      },
      "execution_count": null,
      "outputs": []
    }
  ]
}