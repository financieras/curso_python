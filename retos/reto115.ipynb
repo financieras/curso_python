{
  "nbformat": 4,
  "nbformat_minor": 0,
  "metadata": {
    "colab": {
      "provenance": [],
      "authorship_tag": "ABX9TyO+xGWS1lrulsinirVszFUg",
      "include_colab_link": true
    },
    "kernelspec": {
      "name": "python3",
      "display_name": "Python 3"
    },
    "language_info": {
      "name": "python"
    }
  },
  "cells": [
    {
      "cell_type": "markdown",
      "metadata": {
        "id": "view-in-github",
        "colab_type": "text"
      },
      "source": [
        "<a href=\"https://colab.research.google.com/github/financieras/curso_python/blob/main/retos/reto115.ipynb\" target=\"_parent\"><img src=\"https://colab.research.google.com/assets/colab-badge.svg\" alt=\"Open In Colab\"/></a>"
      ]
    },
    {
      "cell_type": "markdown",
      "source": [
        "## Reto 115: Opuestos en una lista\n",
        "* Cree una función que tome una lista de números enteros y devuelva otra lista formada por sus opuestos.\n",
        "* Ejemplos:\n",
        "    1. opuestos([1, 2, 3, 4, 5]) ➞ [-1, -2, -3, -4, -5]\n",
        "    2. opuestos([1, -2, 3, -4, 5]) ➞ [-1, 2, -3, 4, -5]\n",
        "    3. opuestos([]) ➞ []\n"
      ],
      "metadata": {
        "id": "fizQ3Vu-z82T"
      }
    },
    {
      "cell_type": "code",
      "source": [
        "def opuestos(lst):\n",
        "    pass"
      ],
      "metadata": {
        "id": "zBVsj_-t2jO-"
      },
      "execution_count": null,
      "outputs": []
    },
    {
      "cell_type": "code",
      "source": [
        "print(opuestos([1, 2, 3, 4, 5]))\n",
        "print(opuestos([1, -2, 3, -4, 5]))\n",
        "print(opuestos([]))"
      ],
      "metadata": {
        "id": "gE8lSFnI2jO-"
      },
      "execution_count": null,
      "outputs": []
    }
  ]
}