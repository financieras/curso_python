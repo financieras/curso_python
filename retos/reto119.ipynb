{
  "nbformat": 4,
  "nbformat_minor": 0,
  "metadata": {
    "colab": {
      "provenance": [],
      "authorship_tag": "ABX9TyPS+tp0BrZxqtzqFFyA8fRa",
      "include_colab_link": true
    },
    "kernelspec": {
      "name": "python3",
      "display_name": "Python 3"
    },
    "language_info": {
      "name": "python"
    }
  },
  "cells": [
    {
      "cell_type": "markdown",
      "metadata": {
        "id": "view-in-github",
        "colab_type": "text"
      },
      "source": [
        "<a href=\"https://colab.research.google.com/github/financieras/curso_python/blob/main/retos/reto119.ipynb\" target=\"_parent\"><img src=\"https://colab.research.google.com/assets/colab-badge.svg\" alt=\"Open In Colab\"/></a>"
      ]
    },
    {
      "cell_type": "markdown",
      "source": [
        "## Reto 119: Operador ternario\n",
        "* El operador ternario es una alternativa a la clásica declaración `if... else...`\n",
        "* Está escrito en el formato:\n",
        "<pre>\n",
        "result_if_true if condition else result_if_false\n",
        "</pre>\n",
        "* Los operadores ternarios suelen ser más compactos que las declaraciones `if` de varias líneas y son útiles para pruebas condicionales simples.\n",
        "\n",
        "Un código clásico puede ser este:\n",
        "<pre>\n",
        "edad = 17\n",
        "if edad >= 18:\n",
        "    print(\"Tengo\", edad, \"años y SI puedo votar.\")\n",
        "else:\n",
        "    print(\"Tengo\", edad, \"años y NO puedo votar.\")\n",
        "</pre>\n",
        "\n",
        "Este código escrito con un operador ternario sería más corto, así:\n",
        "\n",
        "<pre>\n",
        "edad = 17\n",
        "print(f\"Tengo {edad} años y {'NO' if edad < 18 else 'SI'} puedo votar.\")\n",
        "</pre>\n",
        "\n",
        "* Cee una función que use el operador ternario y el sistema de formato `f` para realizar los siguientes casos.\n",
        "* Ejemplos:\n",
        "    1. par_impar(5) ➞ El número 5 es impar.\n",
        "    2. par_impar(8) ➞ El número 8 es par.\n",
        "    3. par_impar(0) ➞ El número 0 es par.\n",
        "    4. par_impar(-3) ➞ El número -3 es impar.\n"
      ],
      "metadata": {
        "id": "WOb5Nogiz9K_"
      }
    },
    {
      "cell_type": "code",
      "source": [
        "def par_impar(n):\n",
        "    pass"
      ],
      "metadata": {
        "id": "7hEEsjim2hBs"
      },
      "execution_count": null,
      "outputs": []
    },
    {
      "cell_type": "code",
      "source": [
        "print(par_impar(5))\n",
        "print(par_impar(8))\n",
        "print(par_impar(0))\n",
        "print(par_impar(-3))"
      ],
      "metadata": {
        "id": "GgoW1piF2hBs"
      },
      "execution_count": null,
      "outputs": []
    }
  ]
}