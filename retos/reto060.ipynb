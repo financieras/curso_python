{
  "nbformat": 4,
  "nbformat_minor": 0,
  "metadata": {
    "colab": {
      "provenance": [],
      "authorship_tag": "ABX9TyMrqPJMPKt+d2y4CKi9tQ11",
      "include_colab_link": true
    },
    "kernelspec": {
      "name": "python3",
      "display_name": "Python 3"
    },
    "language_info": {
      "name": "python"
    }
  },
  "cells": [
    {
      "cell_type": "markdown",
      "metadata": {
        "id": "view-in-github",
        "colab_type": "text"
      },
      "source": [
        "<a href=\"https://colab.research.google.com/github/financieras/curso_python/blob/main/retos/reto060.ipynb\" target=\"_parent\"><img src=\"https://colab.research.google.com/assets/colab-badge.svg\" alt=\"Open In Colab\"/></a>"
      ]
    },
    {
      "cell_type": "markdown",
      "source": [
        "## Reto 60: Ver si una lista tiene cierto número\n",
        "* Escriba una función para verificar si una lista contiene el número dado.\n",
        "* Ejemplos:\n",
        "    1. check([1, 2, 3, 4, 5], 3) ➞ True\n",
        "    2. check([1, 1, 2, 1, 1], 3) ➞ False\n",
        "    3. check([5, 5, 5, 6], 5) ➞ True\n",
        "    4. check([], 5) ➞ False\n"
      ],
      "metadata": {
        "id": "AbBpdN1gz6n1"
      }
    },
    {
      "cell_type": "code",
      "source": [
        "def check(lista, num):\n",
        "    pass"
      ],
      "metadata": {
        "id": "3Ns5b2dH2_xH"
      },
      "execution_count": null,
      "outputs": []
    },
    {
      "cell_type": "code",
      "source": [
        "print(check([1, 2, 3, 4, 5], 3))\n",
        "print(check([1, 1, 2, 1, 1], 3))\n",
        "print(check([5, 5, 5, 6], 5))\n",
        "print(check([], 5))"
      ],
      "metadata": {
        "id": "AQo234p22_xH"
      },
      "execution_count": null,
      "outputs": []
    }
  ]
}