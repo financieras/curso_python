{
  "nbformat": 4,
  "nbformat_minor": 0,
  "metadata": {
    "colab": {
      "provenance": [],
      "authorship_tag": "ABX9TyNL4PdFwulNFEV8PexNjdpR",
      "include_colab_link": true
    },
    "kernelspec": {
      "name": "python3",
      "display_name": "Python 3"
    },
    "language_info": {
      "name": "python"
    }
  },
  "cells": [
    {
      "cell_type": "markdown",
      "metadata": {
        "id": "view-in-github",
        "colab_type": "text"
      },
      "source": [
        "<a href=\"https://colab.research.google.com/github/financieras/curso_python/blob/main/retos/reto103.ipynb\" target=\"_parent\"><img src=\"https://colab.research.google.com/assets/colab-badge.svg\" alt=\"Open In Colab\"/></a>"
      ]
    },
    {
      "cell_type": "markdown",
      "source": [
        "## Reto 103: Lambda Functions\n",
        "* Cree una función que devuelva el argumento dado, pero utilizando una función lambda.\n",
        "* Ejemplos:\n",
        "    1. lambda_func(3) ➞ 3\n",
        "    2. lambda_func(\"4\") ➞ \"4\"\n",
        "    3. lambda_func(True) ➞ True\n",
        "    4. lambda_func([1, 2, 3]) ➞ [1, 2, 3]"
      ],
      "metadata": {
        "id": "8NSafWBlntgA"
      }
    },
    {
      "cell_type": "code",
      "source": [
        "# usando una función lambda"
      ],
      "metadata": {
        "id": "NJ9nLr1g2qC1"
      },
      "execution_count": null,
      "outputs": []
    },
    {
      "cell_type": "code",
      "source": [
        "print(lambda_func(3))\n",
        "print(lambda_func(\"4\"))\n",
        "print(lambda_func(True))\n",
        "print(lambda_func([1, 2, 3]))"
      ],
      "metadata": {
        "id": "bw3BvT1x2qC1"
      },
      "execution_count": null,
      "outputs": []
    }
  ]
}