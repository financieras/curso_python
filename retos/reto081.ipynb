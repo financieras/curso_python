{
  "nbformat": 4,
  "nbformat_minor": 0,
  "metadata": {
    "colab": {
      "provenance": [],
      "authorship_tag": "ABX9TyMJx3JPtirQojqxqgUDrn0D",
      "include_colab_link": true
    },
    "kernelspec": {
      "name": "python3",
      "display_name": "Python 3"
    },
    "language_info": {
      "name": "python"
    }
  },
  "cells": [
    {
      "cell_type": "markdown",
      "metadata": {
        "id": "view-in-github",
        "colab_type": "text"
      },
      "source": [
        "<a href=\"https://colab.research.google.com/github/financieras/curso_python/blob/main/retos/reto081.ipynb\" target=\"_parent\"><img src=\"https://colab.research.google.com/assets/colab-badge.svg\" alt=\"Open In Colab\"/></a>"
      ]
    },
    {
      "cell_type": "markdown",
      "source": [
        "## Reto 81: Desempaquetando listas\n",
        "* Dada una lista de números como por ejemplo:\n",
        "    - lista = [10, 20, 30, 40, 50]\n",
        "* deseamos recoger el contenido de la lista en tres variables:  \n",
        "    - primero ➞ 10\n",
        "    - segundo ➞ 20\n",
        "    - resto ➞ [30, 40, 50]\n",
        "* La función devolverá el contenido de las tres variables separado por comas.\n",
        "* Ejemplos:\n",
        "    1. separa([10, 20, 30, 40, 50]) ➞ 10, 20, [30, 40, 50]\n",
        "    2. separa([7, 8, 9, 10, 11, 99]) ➞ 7, 8, [9, 10, 10, 99]\n"
      ],
      "metadata": {
        "id": "0NimhB-Ima_a"
      }
    },
    {
      "cell_type": "code",
      "execution_count": null,
      "metadata": {
        "id": "cZL1m9oJmYkr"
      },
      "outputs": [],
      "source": [
        "def separa(lista):\n",
        "    pass"
      ]
    },
    {
      "cell_type": "code",
      "source": [
        "print(separa([10, 20, 30, 40, 50]))\n",
        "print(separa([7, 8, 9, 10, 11, 99]))"
      ],
      "metadata": {
        "id": "kfoTBx0pmkV4"
      },
      "execution_count": null,
      "outputs": []
    }
  ]
}