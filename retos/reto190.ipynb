{
  "nbformat": 4,
  "nbformat_minor": 0,
  "metadata": {
    "colab": {
      "provenance": [],
      "authorship_tag": "ABX9TyM0T8ioya90Xq99Dc+AS/+w",
      "include_colab_link": true
    },
    "kernelspec": {
      "name": "python3",
      "display_name": "Python 3"
    },
    "language_info": {
      "name": "python"
    }
  },
  "cells": [
    {
      "cell_type": "markdown",
      "metadata": {
        "id": "view-in-github",
        "colab_type": "text"
      },
      "source": [
        "<a href=\"https://colab.research.google.com/github/financieras/curso_python/blob/main/retos/reto190.ipynb\" target=\"_parent\"><img src=\"https://colab.research.google.com/assets/colab-badge.svg\" alt=\"Open In Colab\"/></a>"
      ]
    },
    {
      "cell_type": "markdown",
      "source": [
        "## Reto 190: Suma de divisores en un rango\n",
        "* Cree una función que tome tres argumentos a, b, c y devuelva la suma de los números divisibles ebtre c del rango a, b, ambos inclusive.\n",
        "* Ejemplos:\n",
        "    1. evenly_divisible(1, 10, 20) ➞ 0\n",
        "        * No hay números entre 1 y 10 divisibles entre 20.\n",
        "    2. evenly_divisible(1, 10, 2) ➞ 30\n",
        "        * 2 + 4 + 6 + 8 + 10 = 30\n",
        "    3. evenly_divisible(1, 10, 3) ➞ 18\n",
        "        * 3 + 6 + 9 = 18\n",
        "    4. evenly_divisible(1, 100, 1) ➞ 5050"
      ],
      "metadata": {
        "id": "rEd41wdF55rd"
      }
    },
    {
      "cell_type": "code",
      "source": [
        "def evenly_divisible(a, b, c):\n",
        "    pass"
      ],
      "metadata": {
        "id": "r8-ZQ3I255rd"
      },
      "execution_count": null,
      "outputs": []
    },
    {
      "cell_type": "code",
      "source": [
        "print(evenly_divisible(1, 10, 20))\n",
        "print(evenly_divisible(1, 10, 2))\n",
        "print(evenly_divisible(1, 10, 3))\n",
        "print(evenly_divisible(1, 100, 1))"
      ],
      "metadata": {
        "id": "tUECjU1155re"
      },
      "execution_count": null,
      "outputs": []
    }
  ]
}