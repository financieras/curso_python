{
  "nbformat": 4,
  "nbformat_minor": 0,
  "metadata": {
    "colab": {
      "provenance": [],
      "authorship_tag": "ABX9TyPjYwQHN6M4LoW5/B2r1EuQ",
      "include_colab_link": true
    },
    "kernelspec": {
      "name": "python3",
      "display_name": "Python 3"
    },
    "language_info": {
      "name": "python"
    }
  },
  "cells": [
    {
      "cell_type": "markdown",
      "metadata": {
        "id": "view-in-github",
        "colab_type": "text"
      },
      "source": [
        "<a href=\"https://colab.research.google.com/github/financieras/curso_python/blob/main/retos/reto043.ipynb\" target=\"_parent\"><img src=\"https://colab.research.google.com/assets/colab-badge.svg\" alt=\"Open In Colab\"/></a>"
      ]
    },
    {
      "cell_type": "markdown",
      "source": [
        "## Reto 43: Comprobar si $k^k=n$\n",
        "* Escriba una función que devuelva `True` si $k^k = n$ para la entrada `(k, n)`\n",
        "* y devuelva `False` en caso contrario.\n",
        "* Ejemplos:\n",
        "    1. k_to_k(2, 4) ➞ True\n",
        "    2. k_to_k(9, 387420489) ➞ True  \n",
        "    3. k_to_k(5, 3124) ➞ False\n",
        "    4. k_to_k(3, 17) ➞ False\n",
        "* Nueve elevado a nueve es $9^{9} = 387420489$\n"
      ],
      "metadata": {
        "id": "9TtBcMbWynC5"
      }
    },
    {
      "cell_type": "code",
      "source": [
        "def k_to_k(k, n):\n",
        "    pass"
      ],
      "metadata": {
        "id": "WfIQKBmC9cls"
      },
      "execution_count": null,
      "outputs": []
    },
    {
      "cell_type": "code",
      "source": [
        "print(k_to_k(2, 4))\n",
        "print(k_to_k(9, 387420489))\n",
        "print(k_to_k(5, 3124))\n",
        "print(k_to_k(3, 17))"
      ],
      "metadata": {
        "id": "ea9J5Bi7ECfd"
      },
      "execution_count": null,
      "outputs": []
    }
  ]
}