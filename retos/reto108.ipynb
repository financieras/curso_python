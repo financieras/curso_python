{
  "nbformat": 4,
  "nbformat_minor": 0,
  "metadata": {
    "colab": {
      "provenance": [],
      "authorship_tag": "ABX9TyNpzJ3InTT9YfGorKg09K6E",
      "include_colab_link": true
    },
    "kernelspec": {
      "name": "python3",
      "display_name": "Python 3"
    },
    "language_info": {
      "name": "python"
    }
  },
  "cells": [
    {
      "cell_type": "markdown",
      "metadata": {
        "id": "view-in-github",
        "colab_type": "text"
      },
      "source": [
        "<a href=\"https://colab.research.google.com/github/financieras/curso_python/blob/main/retos/reto108.ipynb\" target=\"_parent\"><img src=\"https://colab.research.google.com/assets/colab-badge.svg\" alt=\"Open In Colab\"/></a>"
      ]
    },
    {
      "cell_type": "markdown",
      "source": [
        "## Reto 108: Asignación destructiva\n",
        "* Dada una lista como por ejemplo esta:\n",
        "<pre>\n",
        "lista = [10, 20, 30]\n",
        "</pre>\n",
        "podemos recoger el primer elemento con la variable `primero` de esta forma:\n",
        "\n",
        "<pre>primero = lista[0]</pre>\n",
        "\n",
        "podemos recoger el último elemento con la variable `ultimo` así:\n",
        "<pre>ultimo = lista[-1]</pre>\n",
        "\n",
        "* Otra forma de conseguirlo es asignar variables\n",
        "\n",
        "<pre>primero, -, ultimo = [10, 20, 30]</pre>\n",
        "\n",
        "La variable `_` se usa habitualmente cuando se recogen valores que posteriormente no se usarán.\n",
        "\n",
        "* Cree una función que recoja los elementos centrales de un array, siendo la lista de longitud mayor o igual a tres.\n",
        "* Tip: explore el operador asterisco `*` que se utiliza para desempaquetar iterables.\n",
        "* Ejemplos:\n",
        "    1. centrales([10, 20, 30]) ➞ [20]\n",
        "    2. centrales([1, 2, 3, 4, 5, 6]) ➞ [2, 3, 4, 5]\n",
        "    3. centrales(['lun', 'mar', 'mie', 'jue', 'vie']) ➞ ['mar', 'mie', 'jue']"
      ],
      "metadata": {
        "id": "PI8eQe5EntlC"
      }
    },
    {
      "cell_type": "code",
      "source": [
        "def centrales(lista):\n",
        "    pass"
      ],
      "metadata": {
        "id": "ylVC5c622nRb"
      },
      "execution_count": null,
      "outputs": []
    },
    {
      "cell_type": "code",
      "source": [
        "print(centrales([10, 20, 30]))\n",
        "print(centrales([1, 2, 3, 4, 5, 6]))\n",
        "print(centrales(['lun', 'mar', 'mie', 'jue', 'vie']))"
      ],
      "metadata": {
        "id": "keliQ0bw2nRh"
      },
      "execution_count": null,
      "outputs": []
    }
  ]
}