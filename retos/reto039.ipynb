{
  "nbformat": 4,
  "nbformat_minor": 0,
  "metadata": {
    "colab": {
      "provenance": [],
      "authorship_tag": "ABX9TyOGpwobTJ6+0hb79M5F7JEY",
      "include_colab_link": true
    },
    "kernelspec": {
      "name": "python3",
      "display_name": "Python 3"
    },
    "language_info": {
      "name": "python"
    }
  },
  "cells": [
    {
      "cell_type": "markdown",
      "metadata": {
        "id": "view-in-github",
        "colab_type": "text"
      },
      "source": [
        "<a href=\"https://colab.research.google.com/github/financieras/curso_python/blob/main/retos/reto039.ipynb\" target=\"_parent\"><img src=\"https://colab.research.google.com/assets/colab-badge.svg\" alt=\"Open In Colab\"/></a>"
      ]
    },
    {
      "cell_type": "markdown",
      "source": [
        "## Reto 39: Apuesta rentable\n",
        "* Cree una función que determine si una apuesta es rentable basada en tres parámetros: probabilidad, premio y pago.\n",
        "* La función debe devolver `True` si el producto de la probabilidad por el premio es mayor que el pago realizado; en caso contrario, debe devolver `False`.\n",
        "* Ejemplos:\n",
        "    1. apuesta_rentable(0.2, 50, 9) ➞ True\n",
        "    2. apuesta_rentable(0.9, 1, 2) ➞ False\n",
        "    3. apuesta_rentable(0.9, 3, 2) ➞ True\n",
        "    4. apuesta_rentable(0.01, 500, 5) ➞ False"
      ],
      "metadata": {
        "id": "hndooM_tymog"
      }
    },
    {
      "cell_type": "code",
      "source": [
        "def apuesta_rentable(probabilidad, premio, pago):\n",
        "    pass"
      ],
      "metadata": {
        "id": "dY07easr9ZfE"
      },
      "execution_count": null,
      "outputs": []
    },
    {
      "cell_type": "code",
      "source": [
        "print(apuesta_rentable(0.2, 50, 9))\n",
        "print(apuesta_rentable(0.9, 1, 2))\n",
        "print(apuesta_rentable(0.9, 3, 2))\n",
        "print(apuesta_rentable(0.01, 500, 5))"
      ],
      "metadata": {
        "id": "1aaqZEbj-5B7"
      },
      "execution_count": null,
      "outputs": []
    }
  ]
}