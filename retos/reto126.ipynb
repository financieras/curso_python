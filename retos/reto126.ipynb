{
  "nbformat": 4,
  "nbformat_minor": 0,
  "metadata": {
    "colab": {
      "provenance": [],
      "authorship_tag": "ABX9TyO/9/udOseFiY7LxB9831YT",
      "include_colab_link": true
    },
    "kernelspec": {
      "name": "python3",
      "display_name": "Python 3"
    },
    "language_info": {
      "name": "python"
    }
  },
  "cells": [
    {
      "cell_type": "markdown",
      "metadata": {
        "id": "view-in-github",
        "colab_type": "text"
      },
      "source": [
        "<a href=\"https://colab.research.google.com/github/financieras/curso_python/blob/main/retos/reto126.ipynb\" target=\"_parent\"><img src=\"https://colab.research.google.com/assets/colab-badge.svg\" alt=\"Open In Colab\"/></a>"
      ]
    },
    {
      "cell_type": "markdown",
      "source": [
        "## Reto 126: Lista filtrada\n",
        "* Cree la función:\n",
        "    - `list_between(n1, n2, lst)`\n",
        "* La función toma dos números `n1`, `n2` y una lista `lst` y devuelva otra lista que contenga todos los números en lst mayores que `n1` y menores que `n2`.\n",
        "* Ejemplos:\n",
        "    1. list_between(3, 8, [1, 5, 95, 0, 4, 7]) ➞ [5, 4, 7]\n",
        "    2. list_between(1, 10, [1, 10, 25, 8, 11, 6]) ➞ [8, 6]\n",
        "    3. list_between(7, 32, [1, 2, 3, 78]) ➞ []"
      ],
      "metadata": {
        "id": "6LLs980ImUYN"
      }
    },
    {
      "cell_type": "code",
      "source": [
        "def list_between(n1, n2, lst):\n",
        "    pass"
      ],
      "metadata": {
        "id": "zBtQ66Ul2djA"
      },
      "execution_count": null,
      "outputs": []
    },
    {
      "cell_type": "code",
      "source": [
        "print(list_between(3, 8, [1, 5, 95, 0, 4, 7]))\n",
        "print(list_between(1, 10, [1, 10, 25, 8, 11, 6]))\n",
        "print(list_between(7, 32, [1, 2, 3, 78]))"
      ],
      "metadata": {
        "id": "91PtvAEv2djF"
      },
      "execution_count": null,
      "outputs": []
    }
  ]
}