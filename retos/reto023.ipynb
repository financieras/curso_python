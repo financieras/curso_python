{
  "nbformat": 4,
  "nbformat_minor": 0,
  "metadata": {
    "colab": {
      "provenance": [],
      "authorship_tag": "ABX9TyOYJSmQJ7t/1UvJENm2Hl0N",
      "include_colab_link": true
    },
    "kernelspec": {
      "name": "python3",
      "display_name": "Python 3"
    },
    "language_info": {
      "name": "python"
    }
  },
  "cells": [
    {
      "cell_type": "markdown",
      "metadata": {
        "id": "view-in-github",
        "colab_type": "text"
      },
      "source": [
        "<a href=\"https://colab.research.google.com/github/financieras/curso_python/blob/main/retos/reto023.ipynb\" target=\"_parent\"><img src=\"https://colab.research.google.com/assets/colab-badge.svg\" alt=\"Open In Colab\"/></a>"
      ]
    },
    {
      "cell_type": "markdown",
      "source": [
        "## Reto 23: Concatenando dos listas de enteros\n",
        "* Cree una función para concatenar dos listas de enteros.\n",
        "* Ejemplos:\n",
        "    1. concat([1, 3, 5], [2, 6, 8]) ➞ [1, 3, 5, 2, 6, 8]\n",
        "    2. concat([7, 8], [10, 9, 1, 1, 2]) ➞ [7, 8, 10, 9, 1, 1, 2]\n",
        "    3. concat([4, 5, 1], [3, 3, 3, 3, 3]) ➞ [4, 5, 1, 3, 3, 3, 3, 3]"
      ],
      "metadata": {
        "id": "YIrcaGQPq1al"
      }
    },
    {
      "cell_type": "code",
      "source": [
        "def concat(arr1, arr2):\n",
        "    pass"
      ],
      "metadata": {
        "id": "pHgX6BEV4uCv"
      },
      "execution_count": null,
      "outputs": []
    },
    {
      "cell_type": "code",
      "source": [
        "print(concat([1, 3, 5], [2, 6, 8]))\n",
        "print(concat([7, 8], [10, 9, 1, 1, 2]))\n",
        "print(concat([4, 5, 1], [3, 3, 3, 3, 3]))"
      ],
      "metadata": {
        "id": "nT2eUjEh60v4"
      },
      "execution_count": null,
      "outputs": []
    }
  ]
}