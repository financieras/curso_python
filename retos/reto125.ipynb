{
  "nbformat": 4,
  "nbformat_minor": 0,
  "metadata": {
    "colab": {
      "provenance": [],
      "authorship_tag": "ABX9TyNcIFwIB3oRULjfl2w8WaVN",
      "include_colab_link": true
    },
    "kernelspec": {
      "name": "python3",
      "display_name": "Python 3"
    },
    "language_info": {
      "name": "python"
    }
  },
  "cells": [
    {
      "cell_type": "markdown",
      "metadata": {
        "id": "view-in-github",
        "colab_type": "text"
      },
      "source": [
        "<a href=\"https://colab.research.google.com/github/financieras/curso_python/blob/main/retos/reto125.ipynb\" target=\"_parent\"><img src=\"https://colab.research.google.com/assets/colab-badge.svg\" alt=\"Open In Colab\"/></a>"
      ]
    },
    {
      "cell_type": "markdown",
      "source": [
        "## Reto 125: Sumar y convertir a binario\n",
        "* Cree una función que tome dos números y devuelva su suma como una cadena binaria.\n",
        "* Ejemplos:\n",
        "    1. add_binary(1, 1) ➞ \"10\"\n",
        "    2. add_binary(1, 2) ➞ \"11\"\n",
        "    3. add_binary(4, 5) ➞ \"1001\""
      ],
      "metadata": {
        "id": "6WEwM3nwmUOs"
      }
    },
    {
      "cell_type": "code",
      "source": [
        "def add_binary(a, b):\n",
        "    pass"
      ],
      "metadata": {
        "id": "zr959QQ-2d5v"
      },
      "execution_count": null,
      "outputs": []
    },
    {
      "cell_type": "code",
      "source": [
        "print(add_binary(1, 1))\n",
        "print(add_binary(1, 2))\n",
        "print(add_binary(4, 5))"
      ],
      "metadata": {
        "id": "vwDlT1VQ2d5w"
      },
      "execution_count": null,
      "outputs": []
    }
  ]
}