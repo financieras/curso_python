{
  "nbformat": 4,
  "nbformat_minor": 0,
  "metadata": {
    "colab": {
      "provenance": [],
      "authorship_tag": "ABX9TyOXSCNtWigt5uxXCHdwleJI",
      "include_colab_link": true
    },
    "kernelspec": {
      "name": "python3",
      "display_name": "Python 3"
    },
    "language_info": {
      "name": "python"
    }
  },
  "cells": [
    {
      "cell_type": "markdown",
      "metadata": {
        "id": "view-in-github",
        "colab_type": "text"
      },
      "source": [
        "<a href=\"https://colab.research.google.com/github/financieras/curso_python/blob/main/retos/reto094.ipynb\" target=\"_parent\"><img src=\"https://colab.research.google.com/assets/colab-badge.svg\" alt=\"Open In Colab\"/></a>"
      ]
    },
    {
      "cell_type": "markdown",
      "source": [
        "## Reto 94: Rango de números\n",
        "* Cree una función que devuelva una lista de todos los números enteros entre el inicio y el final de dos números dados.\n",
        "* Ejemplos:\n",
        "    1. range_of_num(2, 4) ➞ [3]\n",
        "    2. range_of_num(5, 9) ➞ [6, 7, 8]\n",
        "    3. range_of_num(2, 11) ➞ [3, 4, 5, 6, 7, 8, 9, 10]\n",
        "    4. range_of_num(2, 2) ➞ []"
      ],
      "metadata": {
        "id": "SGBGw1efntW0"
      }
    },
    {
      "cell_type": "code",
      "source": [
        "def range_of_num(inicio, fin):\n",
        "    pass"
      ],
      "metadata": {
        "id": "tAqNCBLf2wDB"
      },
      "execution_count": null,
      "outputs": []
    },
    {
      "cell_type": "code",
      "source": [
        "print(range_of_num(2, 4))\n",
        "print(range_of_num(5, 9))\n",
        "print(range_of_num(2, 11))\n",
        "print(range_of_num(2, 2))"
      ],
      "metadata": {
        "id": "NMGdFicL2wDB"
      },
      "execution_count": null,
      "outputs": []
    }
  ]
}