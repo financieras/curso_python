{
  "nbformat": 4,
  "nbformat_minor": 0,
  "metadata": {
    "colab": {
      "provenance": [],
      "authorship_tag": "ABX9TyPKEsJzZuNcQp/fMfC/j0b8",
      "include_colab_link": true
    },
    "kernelspec": {
      "name": "python3",
      "display_name": "Python 3"
    },
    "language_info": {
      "name": "python"
    }
  },
  "cells": [
    {
      "cell_type": "markdown",
      "metadata": {
        "id": "view-in-github",
        "colab_type": "text"
      },
      "source": [
        "<a href=\"https://colab.research.google.com/github/financieras/curso_python/blob/main/retos/reto177.ipynb\" target=\"_parent\"><img src=\"https://colab.research.google.com/assets/colab-badge.svg\" alt=\"Open In Colab\"/></a>"
      ]
    },
    {
      "cell_type": "markdown",
      "source": [
        "## Reto 177: Luke, I Am Your ...\n",
        "* Luke Skywalker tiene familiares y amigos.\n",
        "* Ayúdalo a recordarles quién es quién.\n",
        "* Dada una cadena con un nombre, devuelve la relación de esa persona con Luke.\n",
        "\n",
        "| Person      | Relation       |\n",
        "|-------------|----------------|\n",
        "| Darth Vader | father         |\n",
        "| Leia        | sister         |\n",
        "| Han         | brother in law |\n",
        "| R2D2        | droid          |\n",
        "\n",
        "* Tip: Podría ser una buena idea crear un diccionario.\n",
        "* Ejemplos:\n",
        "    1. relation_to_luke(\"Darth Vader\") ➞ \"Luke, I am your father.\"\n",
        "    2. relation_to_luke(\"Leia\") ➞ \"Luke, I am your sister.\"\n",
        "    3. relation_to_luke(\"Han\") ➞ \"Luke, I am your brother in law.\"\n",
        "    4. relation_to_luke(\"R2D2\") ➞ \"Luke, I am your droid.\""
      ],
      "metadata": {
        "id": "SjwA439mQ0E9"
      }
    },
    {
      "cell_type": "code",
      "source": [
        "def relation_to_luke(name):\n",
        "    pass"
      ],
      "metadata": {
        "id": "bM60G_PHSBnP"
      },
      "execution_count": null,
      "outputs": []
    },
    {
      "cell_type": "code",
      "source": [
        "print(relation_to_luke(\"Darth Vader\"))\n",
        "print(relation_to_luke(\"Leia\"))\n",
        "print(relation_to_luke(\"Han\"))\n",
        "print(relation_to_luke(\"R2D2\"))"
      ],
      "metadata": {
        "id": "VnLjkXZTS_Uc"
      },
      "execution_count": null,
      "outputs": []
    }
  ]
}