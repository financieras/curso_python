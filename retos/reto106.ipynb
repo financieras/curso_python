{
  "nbformat": 4,
  "nbformat_minor": 0,
  "metadata": {
    "colab": {
      "provenance": [],
      "authorship_tag": "ABX9TyOkHhQvDkWLp++Rnw0+M2cY",
      "include_colab_link": true
    },
    "kernelspec": {
      "name": "python3",
      "display_name": "Python 3"
    },
    "language_info": {
      "name": "python"
    }
  },
  "cells": [
    {
      "cell_type": "markdown",
      "metadata": {
        "id": "view-in-github",
        "colab_type": "text"
      },
      "source": [
        "<a href=\"https://colab.research.google.com/github/financieras/curso_python/blob/main/retos/reto106.ipynb\" target=\"_parent\"><img src=\"https://colab.research.google.com/assets/colab-badge.svg\" alt=\"Open In Colab\"/></a>"
      ]
    },
    {
      "cell_type": "markdown",
      "source": [
        "## Reto 106: Palancas\n",
        "* Las palancas son máquinas simples compuestas de una barra rígida y un punto de apoyo.\n",
        "* Hay 3 tipos de palancas: primera clase, segunda clase y tercera clase.\n",
        "* En una palanca de primera clase, el punto de apoyo está situado en el medio, con el esfuerzo y la carga colocados uno frente al otro.\n",
        "* En una palanca de segunda clase, el punto de apoyo está situado frente al esfuerzo y la carga en el medio.\n",
        "* En una palanca de tercera clase, el punto de apoyo está situado frente a la carga y el esfuerzo en el medio.\n",
        "* Dada una lista que contiene el punto de apoyo \"f\", el esfuerzo \"e\" y la carga \"l\", escriba una función que determine si la lista muestra o no una palanca de primera clase, una palanca de segunda clase o una palanca de tercera clase.\n",
        "* Ejemplos:\n",
        "    1. determine_lever([\"e\", \"f\", \"l\"]) ➞ \"first class lever\"\n",
        "    2. determine_lever([\"e\", \"l\", \"f\"]) ➞ \"second class lever\"\n",
        "    3. determine_lever([\"f\", \"e\", \"l\"]) ➞ \"third class lever\""
      ],
      "metadata": {
        "id": "qI01PB12ntjb"
      }
    },
    {
      "cell_type": "code",
      "source": [
        "def determine_lever(lista):\n",
        "    pass"
      ],
      "metadata": {
        "id": "b5a9oJDA2os3"
      },
      "execution_count": null,
      "outputs": []
    },
    {
      "cell_type": "code",
      "source": [
        "print(determine_lever([\"e\", \"f\", \"l\"]))\n",
        "print(determine_lever([\"e\", \"l\", \"f\"]))\n",
        "print(determine_lever([\"f\", \"e\", \"l\"]))"
      ],
      "metadata": {
        "id": "XjGfanib2os3"
      },
      "execution_count": null,
      "outputs": []
    }
  ]
}