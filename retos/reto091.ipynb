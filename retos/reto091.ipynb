{
  "nbformat": 4,
  "nbformat_minor": 0,
  "metadata": {
    "colab": {
      "provenance": [],
      "authorship_tag": "ABX9TyNV5YSXp2SLj109cBdfSt6B",
      "include_colab_link": true
    },
    "kernelspec": {
      "name": "python3",
      "display_name": "Python 3"
    },
    "language_info": {
      "name": "python"
    }
  },
  "cells": [
    {
      "cell_type": "markdown",
      "metadata": {
        "id": "view-in-github",
        "colab_type": "text"
      },
      "source": [
        "<a href=\"https://colab.research.google.com/github/financieras/curso_python/blob/main/retos/reto091.ipynb\" target=\"_parent\"><img src=\"https://colab.research.google.com/assets/colab-badge.svg\" alt=\"Open In Colab\"/></a>"
      ]
    },
    {
      "cell_type": "markdown",
      "source": [
        "## Reto 91: Retornar el único elemento de un conjunto\n",
        "* Cree una función que recibe un conjunto que contiene un único elemento\n",
        "* La función debe devolver ese elemento.\n",
        "* Ejemplos:\n",
        "    1. elemento_del_conjunto({'margarita'}) ➞ 'margarita'\n",
        "    2. elemento_del_conjunto({True}) ➞ True\n",
        "    3. elemento_del_conjunto({42}) ➞ 42\n"
      ],
      "metadata": {
        "id": "KWP95xcFntRL"
      }
    },
    {
      "cell_type": "code",
      "source": [
        " def elemento_del_conjunto(conjunto):\n",
        "    pass"
      ],
      "metadata": {
        "id": "PW5IGVuv2xNH"
      },
      "execution_count": null,
      "outputs": []
    },
    {
      "cell_type": "code",
      "source": [
        "print(elemento_del_conjunto({'margarita'}))\n",
        "print(elemento_del_conjunto({True}))\n",
        "print(elemento_del_conjunto({42}))"
      ],
      "metadata": {
        "id": "z0DigmCk2xNH"
      },
      "execution_count": null,
      "outputs": []
    }
  ]
}