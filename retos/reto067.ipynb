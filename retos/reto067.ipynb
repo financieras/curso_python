{
  "nbformat": 4,
  "nbformat_minor": 0,
  "metadata": {
    "colab": {
      "provenance": [],
      "authorship_tag": "ABX9TyPxplcTxCMCjPauDYdfoUos",
      "include_colab_link": true
    },
    "kernelspec": {
      "name": "python3",
      "display_name": "Python 3"
    },
    "language_info": {
      "name": "python"
    }
  },
  "cells": [
    {
      "cell_type": "markdown",
      "metadata": {
        "id": "view-in-github",
        "colab_type": "text"
      },
      "source": [
        "<a href=\"https://colab.research.google.com/github/financieras/curso_python/blob/main/retos/reto067.ipynb\" target=\"_parent\"><img src=\"https://colab.research.google.com/assets/colab-badge.svg\" alt=\"Open In Colab\"/></a>"
      ]
    },
    {
      "cell_type": "markdown",
      "source": [
        "## Reto 67: Suma condicional\n",
        "* Cree una función que devuelva la suma de los elementos estrictamente menores que 10.\n",
        "* Ejemplos:\n",
        "    1. suma_menores_diez([1, 5, 11]) ➞ 6\n",
        "    2. suma_menores_diez([0, 9, 10, 50]) ➞ 9\n",
        "    3. suma_menores_diez([-3, -5, -11, 4]) ➞ -15"
      ],
      "metadata": {
        "id": "iw1lGCGYWe6T"
      }
    },
    {
      "cell_type": "code",
      "source": [
        "def suma_menores_diez(arr):\n",
        "    pass"
      ],
      "metadata": {
        "id": "vVnmLCjz28ay"
      },
      "execution_count": null,
      "outputs": []
    },
    {
      "cell_type": "code",
      "source": [
        "print(suma_menores_diez([1, 5, 11]))\n",
        "print(suma_menores_diez([0, 9, 10, 50]))\n",
        "print(suma_menores_diez([-3, -5, -11, 4]))"
      ],
      "metadata": {
        "id": "IgCHxJPI28az"
      },
      "execution_count": null,
      "outputs": []
    }
  ]
}