{
  "nbformat": 4,
  "nbformat_minor": 0,
  "metadata": {
    "colab": {
      "provenance": [],
      "authorship_tag": "ABX9TyN9kARIVrdyPHSLSJGd4a3Z",
      "include_colab_link": true
    },
    "kernelspec": {
      "name": "python3",
      "display_name": "Python 3"
    },
    "language_info": {
      "name": "python"
    }
  },
  "cells": [
    {
      "cell_type": "markdown",
      "metadata": {
        "id": "view-in-github",
        "colab_type": "text"
      },
      "source": [
        "<a href=\"https://colab.research.google.com/github/financieras/curso_python/blob/main/retos/reto020.ipynb\" target=\"_parent\"><img src=\"https://colab.research.google.com/assets/colab-badge.svg\" alt=\"Open In Colab\"/></a>"
      ]
    },
    {
      "cell_type": "markdown",
      "source": [
        "## Reto 20: Máximo de una lista\n",
        "* Crea una función que tome una lista de números enteros no negativos.\n",
        "* Retorna el número más grande de la lista.\n",
        "* Ejemplos:\n",
        "    1. maximo([4, 5, 1, 3]) ➞ 5\n",
        "    2. maximo([300, 200, 600, 150]) ➞ 600\n",
        "    3. maximo([1000, 1001, 857, 0]) ➞ 1001"
      ],
      "metadata": {
        "id": "xgBq9J3vw8X2"
      }
    },
    {
      "cell_type": "code",
      "source": [
        "def maximo(lista):\n",
        "    pass"
      ],
      "metadata": {
        "id": "tqAYksnkuZxA"
      },
      "execution_count": null,
      "outputs": []
    },
    {
      "cell_type": "code",
      "source": [
        "print(maximo([4, 5, 1, 3]))\n",
        "print(maximo([300, 200, 600, 150]))\n",
        "print(maximo([1000, 1001, 857, 0]))"
      ],
      "metadata": {
        "id": "2qNLn_1ouoGO"
      },
      "execution_count": null,
      "outputs": []
    }
  ]
}