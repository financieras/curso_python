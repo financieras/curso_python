{
  "nbformat": 4,
  "nbformat_minor": 0,
  "metadata": {
    "colab": {
      "provenance": [],
      "authorship_tag": "ABX9TyNi6dSDEATpfUIXyi9EEh3H",
      "include_colab_link": true
    },
    "kernelspec": {
      "name": "python3",
      "display_name": "Python 3"
    },
    "language_info": {
      "name": "python"
    }
  },
  "cells": [
    {
      "cell_type": "markdown",
      "metadata": {
        "id": "view-in-github",
        "colab_type": "text"
      },
      "source": [
        "<a href=\"https://colab.research.google.com/github/financieras/curso_python/blob/main/retos/reto020.ipynb\" target=\"_parent\"><img src=\"https://colab.research.google.com/assets/colab-badge.svg\" alt=\"Open In Colab\"/></a>"
      ]
    },
    {
      "cell_type": "markdown",
      "source": [
        "## Reto 20: Máximo de una lista\n",
        "* Cree una función que tome una lista de números enteros no negativos.\n",
        "* Retornar el número más grande de la lista.\n",
        "* Ejemplos:\n",
        "    1. maximo([4, 5, 1, 3]) ➞ 5\n",
        "    2. maximo([300, 200, 600, 150]) ➞ 600\n",
        "    3. maximo([1000, 1001, 857, 0]) ➞ 1001"
      ],
      "metadata": {
        "id": "xgBq9J3vw8X2"
      }
    },
    {
      "cell_type": "code",
      "source": [
        "def maximo(lista):\n",
        "    return max(lista)\n",
        "\n",
        "def maximo(lista):\n",
        "    maximo = lista[0]   # inicializamos la variable maximo\n",
        "    for num in lista:\n",
        "        if num >maximo:\n",
        "            maximo = num\n",
        "    return maximo\n",
        "\n",
        "def maximo(lista):\n",
        "    return sorted(lista)[-1]"
      ],
      "metadata": {
        "id": "tqAYksnkuZxA"
      },
      "execution_count": 7,
      "outputs": []
    },
    {
      "cell_type": "code",
      "source": [
        "print(maximo([4, 5, 1, 3]))\n",
        "print(maximo([300, 200, 600, 150]))\n",
        "print(maximo([1000, 1001, 857, 0]))"
      ],
      "metadata": {
        "id": "2qNLn_1ouoGO",
        "outputId": "5795d263-e296-4258-8923-16ea07387da9",
        "colab": {
          "base_uri": "https://localhost:8080/"
        }
      },
      "execution_count": 8,
      "outputs": [
        {
          "output_type": "stream",
          "name": "stdout",
          "text": [
            "5\n",
            "600\n",
            "1001\n"
          ]
        }
      ]
    }
  ]
}