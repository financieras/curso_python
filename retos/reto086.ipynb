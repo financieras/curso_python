{
  "nbformat": 4,
  "nbformat_minor": 0,
  "metadata": {
    "colab": {
      "provenance": [],
      "authorship_tag": "ABX9TyPEYwEicETKKkieCj1PIw7F",
      "include_colab_link": true
    },
    "kernelspec": {
      "name": "python3",
      "display_name": "Python 3"
    },
    "language_info": {
      "name": "python"
    }
  },
  "cells": [
    {
      "cell_type": "markdown",
      "metadata": {
        "id": "view-in-github",
        "colab_type": "text"
      },
      "source": [
        "<a href=\"https://colab.research.google.com/github/financieras/curso_python/blob/main/retos/reto086.ipynb\" target=\"_parent\"><img src=\"https://colab.research.google.com/assets/colab-badge.svg\" alt=\"Open In Colab\"/></a>"
      ]
    },
    {
      "cell_type": "markdown",
      "source": [
        "## Reto 86: Broken Bridge\n",
        "* Cree una función que valide si es seguro caminar sobre un puente (es decir, si no tiene espacios por los que caerse).\n",
        "* Ejemplos:\n",
        "    1. is_safe_bridge(\"####\") ➞ True\n",
        "    2. is_safe_bridge(\"## ####\") ➞ False\n",
        "    3. is_safe_bridge(\"#\") ➞ True\n",
        "    4. is_safe_bridge(\"## ##  ##\")\n",
        "    5. is_safe_bridge(\"\") ➞ True\n",
        "    6. is_safe_bridge(\" ####\") ➞ False"
      ],
      "metadata": {
        "id": "ypJ7z7jGWf-x"
      }
    },
    {
      "cell_type": "code",
      "source": [
        "def is_safe_bridge(txt):\n",
        "    pass"
      ],
      "metadata": {
        "id": "phPva79s2ziE"
      },
      "execution_count": null,
      "outputs": []
    },
    {
      "cell_type": "code",
      "source": [
        "print(is_safe_bridge(\"####\"))\n",
        "print(is_safe_bridge(\"## ####\"))\n",
        "print(is_safe_bridge(\"#\"))\n",
        "print(is_safe_bridge(\"## ##  ##\"))\n",
        "print(is_safe_bridge(\"\"))\n",
        "print(is_safe_bridge(\" ####\"))"
      ],
      "metadata": {
        "id": "lFjp9oD42ziE"
      },
      "execution_count": null,
      "outputs": []
    }
  ]
}