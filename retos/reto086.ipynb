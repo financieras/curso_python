{
  "nbformat": 4,
  "nbformat_minor": 0,
  "metadata": {
    "colab": {
      "provenance": [],
      "authorship_tag": "ABX9TyOqeLLkpa5wyR/772V9ZwZn",
      "include_colab_link": true
    },
    "kernelspec": {
      "name": "python3",
      "display_name": "Python 3"
    },
    "language_info": {
      "name": "python"
    }
  },
  "cells": [
    {
      "cell_type": "markdown",
      "metadata": {
        "id": "view-in-github",
        "colab_type": "text"
      },
      "source": [
        "<a href=\"https://colab.research.google.com/github/financieras/curso_python/blob/main/retos/reto086.ipynb\" target=\"_parent\"><img src=\"https://colab.research.google.com/assets/colab-badge.svg\" alt=\"Open In Colab\"/></a>"
      ]
    },
    {
      "cell_type": "markdown",
      "source": [
        "## Reto 86: Seguridad en el puente\n",
        "* Cree una función que verifique si es seguro caminar sobre un puente, es decir, si no hay espacios que representen huecos por los que se pueda caer.\n",
        "* Ejemplos:\n",
        "    1. puente_seguro(\"####\") ➞ True\n",
        "    2. puente_seguro(\"## ####\") ➞ False\n",
        "    3. puente_seguro(\"#\") ➞ True\n",
        "    4. puente_seguro(\"## ##  ##\") ➞ False\n",
        "    5. puente_seguro(\"\") ➞ True\n",
        "    6. puente_seguro(\" ####\") ➞ False"
      ],
      "metadata": {
        "id": "6RBbKId_oDm6"
      }
    },
    {
      "cell_type": "code",
      "execution_count": null,
      "metadata": {
        "id": "cc4CkuUwoCGG"
      },
      "outputs": [],
      "source": [
        "def puente_seguro(puente):\n",
        "    pass"
      ]
    },
    {
      "cell_type": "code",
      "source": [
        "print(puente_seguro(\"####\"))\n",
        "print(puente_seguro(\"## ####\"))\n",
        "print(puente_seguro(\"#\"))\n",
        "print(puente_seguro(\"## ##  ##\"))\n",
        "print(puente_seguro(\"\"))\n",
        "print(puente_seguro(\" ####\"))"
      ],
      "metadata": {
        "id": "Z1sglfSsoNnj"
      },
      "execution_count": null,
      "outputs": []
    }
  ]
}