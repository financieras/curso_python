{
  "nbformat": 4,
  "nbformat_minor": 0,
  "metadata": {
    "colab": {
      "provenance": [],
      "authorship_tag": "ABX9TyN0c97Jt9+DiuDbuCzj3sHG",
      "include_colab_link": true
    },
    "kernelspec": {
      "name": "python3",
      "display_name": "Python 3"
    },
    "language_info": {
      "name": "python"
    }
  },
  "cells": [
    {
      "cell_type": "markdown",
      "metadata": {
        "id": "view-in-github",
        "colab_type": "text"
      },
      "source": [
        "<a href=\"https://colab.research.google.com/github/financieras/curso_python/blob/main/retos/reto121.ipynb\" target=\"_parent\"><img src=\"https://colab.research.google.com/assets/colab-badge.svg\" alt=\"Open In Colab\"/></a>"
      ]
    },
    {
      "cell_type": "markdown",
      "source": [
        "## Reto 121: Array de caracteres\n",
        "* En el lenguaje de programación C un string se trata como un array de caracteres que siempre termina con el caracter \"\\0\".\n",
        "* Cree una función que devolverá una cadena combinando la lista de caracteres dada, sin incluir el carácter final no deseado \"\\0\".\n",
        "* Ejemplos:\n",
        "    1. c_to_python([\"H\", \"i\", \"!\", \"\\0\"]) ➞ \"Hi!\"\n",
        "    2. c_to_python([\"H\", \"e\", \"l\", \"l\", \"o\", \"!\", \"\\0\"]) ➞ \"Hello!\"\n",
        "    3. c_to_python([\"J\", \"a\", \"v\", \"a\", \"S\", \"c\", \"r\", \"i\", \"p\", \"t\", \"\\0\"]) ➞ \"JavaScript\""
      ],
      "metadata": {
        "id": "8OtKBQRfz9Vi"
      }
    },
    {
      "cell_type": "code",
      "source": [
        "def c_to_python(lista):\n",
        "    pass"
      ],
      "metadata": {
        "id": "fAZOvff92f_j"
      },
      "execution_count": null,
      "outputs": []
    },
    {
      "cell_type": "code",
      "source": [
        "print(c_to_python([\"H\", \"i\", \"!\", \"\\0\"]))\n",
        "print(c_to_python([\"H\", \"e\", \"l\", \"l\", \"o\", \"!\", \"\\0\"]))\n",
        "print(c_to_python([\"J\", \"a\", \"v\", \"a\", \"S\", \"c\", \"r\", \"i\", \"p\", \"t\", \"\\0\"]))"
      ],
      "metadata": {
        "id": "c2mb4zSG2f_j"
      },
      "execution_count": null,
      "outputs": []
    }
  ]
}
