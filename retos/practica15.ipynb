{
  "nbformat": 4,
  "nbformat_minor": 0,
  "metadata": {
    "colab": {
      "provenance": [],
      "authorship_tag": "ABX9TyNeWO8W/PovwOzMJjuBkqFX",
      "include_colab_link": true
    },
    "kernelspec": {
      "name": "python3",
      "display_name": "Python 3"
    },
    "language_info": {
      "name": "python"
    }
  },
  "cells": [
    {
      "cell_type": "markdown",
      "metadata": {
        "id": "view-in-github",
        "colab_type": "text"
      },
      "source": [
        "<a href=\"https://colab.research.google.com/github/financieras/curso_python/blob/main/retos/practica15.ipynb\" target=\"_parent\"><img src=\"https://colab.research.google.com/assets/colab-badge.svg\" alt=\"Open In Colab\"/></a>"
      ]
    },
    {
      "cell_type": "markdown",
      "source": [
        "## Reto 141: Recrear la función `max`\n",
        "* Dada una lista de números enteros de tamaño variable.\n",
        "* Crear una función que retorne el mayor de todos los valores de la lista.\n",
        "* No debe utilizar las funciones `max` o `min`.\n",
        "* Ejemplos:\n",
        "    1. maximo([1, 3, 5, 7]) ➞ 7\n",
        "    2. maximo([5, 9, 1, 0]) ➞ 9\n",
        "    3. maximo([-9, -7, -3, -5, -18]) ➞ -3"
      ],
      "metadata": {
        "id": "B03XPRVYfQZo"
      }
    },
    {
      "cell_type": "code",
      "source": [
        "def maximo(lst):\n",
        "    pass"
      ],
      "metadata": {
        "id": "ki1yxMoggfam"
      },
      "execution_count": null,
      "outputs": []
    },
    {
      "cell_type": "code",
      "source": [
        "print(maximo([1, 3, 5, 7]))\n",
        "print(maximo([5, 9, 1, 0]))\n",
        "print(maximo([-9, -7, -3, -5, -18]))"
      ],
      "metadata": {
        "id": "CVABQkPZhSXS"
      },
      "execution_count": null,
      "outputs": []
    },
    {
      "cell_type": "markdown",
      "source": [
        "## Reto 142: Rotar una posición en la lista\n",
        "* Dada una lista, gire los valores uno en el sentido de las agujas del reloj (el último valor se envía a la primera posición).\n",
        "* Ejemplos:\n",
        "    1. rotate_by_one([1, 2, 3, 4, 5]) ➞ [5, 1, 2, 3, 4]\n",
        "    2. rotate_by_one([6, 5, 8, 9, 7]) ➞ [7, 6, 5, 8, 9]\n",
        "    3. rotate_by_one([20, 15, 26, 8, 4]) ➞ [4, 20, 15, 26, 8]"
      ],
      "metadata": {
        "id": "S_dnkAPMmV8G"
      }
    },
    {
      "cell_type": "code",
      "source": [
        "def rotate_by_one(lst):\n",
        "    pass"
      ],
      "metadata": {
        "id": "P2oH_Fhf2Vu4"
      },
      "execution_count": null,
      "outputs": []
    },
    {
      "cell_type": "code",
      "source": [
        "print(rotate_by_one([1, 2, 3, 4, 5]))\n",
        "print(rotate_by_one([6, 5, 8, 9, 7]))\n",
        "print(rotate_by_one([20, 15, 26, 8, 4]))"
      ],
      "metadata": {
        "id": "GJMd1V-Y2Vu9"
      },
      "execution_count": null,
      "outputs": []
    },
    {
      "cell_type": "markdown",
      "source": [
        "## Reto 143: Diferencia de volumen entre cubos\n",
        "* Cree un programa que tome dos listas de números enteros, a y b.\n",
        "* Cada lista constará de 3 números enteros positivos, que representan las dimensiones de los cubos a y b.\n",
        "* Encuentra la diferencia de volúmenes de los cubos.\n",
        "* Por ejemplo, si los parámetros pasados ​​son:\n",
        "    - `([2, 2, 3], [5, 4, 1])`\n",
        "* el volumen de `a` es 12 y el volumen de `b` es 20.\n",
        "* Por lo tanto, la función debería devolver 8, en este caso.\n",
        "* Ejemplos:\n",
        "    1. find_difference([ 28, 16, 29 ], [ 7, 8, 17 ]) ➞ 12040\n",
        "    2. find_difference([ 9, 22, 18 ], [ 16, 24, 10 ]) ➞ 276\n",
        "    3. find_difference([ 1, 9, 25 ], [ 10, 7, 9 ]) ➞ 405\n",
        "    4. find_difference([ 7, 6, 16 ], [ 26, 9, 26 ]) ➞ 5412"
      ],
      "metadata": {
        "id": "ZbsKL9NWmWBT"
      }
    },
    {
      "cell_type": "code",
      "source": [
        "def find_difference(a, b):\n",
        "    pass"
      ],
      "metadata": {
        "id": "BNPwV2v_2Ucv"
      },
      "execution_count": null,
      "outputs": []
    },
    {
      "cell_type": "code",
      "source": [
        "print(find_difference([ 28, 16, 29 ], [ 7, 8, 17 ]))\n",
        "print(find_difference([ 9, 22, 18 ], [ 16, 24, 10 ]))\n",
        "print(find_difference([ 1, 9, 25 ], [ 10, 7, 9 ]))\n",
        "print(find_difference([ 7, 6, 16 ], [ 26, 9, 26 ]))"
      ],
      "metadata": {
        "id": "NIxqcR-e2Ucv"
      },
      "execution_count": null,
      "outputs": []
    },
    {
      "cell_type": "markdown",
      "source": [
        "## Reto 144: Ordenar números en orden ascendente\n",
        "* Cree una función que tome una lista de números y devuelva una nueva lista, ordenada en orden ascendente (de menor a mayor).\n",
        "* Si el argumento de la función es `None` o una lista vacía, devuelve una lista vacía.\n",
        "* Ejemplos:\n",
        "    1. sort_nums_ascending([]) ➞ []\n",
        "    2. sort_nums_ascending([1, 2, 10, 50, 5]) ➞ [1, 2, 5, 10, 50]\n",
        "    3. sort_nums_ascending([80, 29, 4, -95, -24, 85]) ➞ [-95, -24, 4, 29, 80, 85]"
      ],
      "metadata": {
        "id": "sIQRdBtMmWG-"
      }
    },
    {
      "cell_type": "code",
      "source": [
        "def sort_nums_ascending(lista):\n",
        "    pass"
      ],
      "metadata": {
        "id": "WrpEZw_E2UC4"
      },
      "execution_count": null,
      "outputs": []
    },
    {
      "cell_type": "code",
      "source": [
        "print(sort_nums_ascending([]))\n",
        "print(sort_nums_ascending([1, 2, 10, 50, 5]))\n",
        "print(sort_nums_ascending([80, 29, 4, -95, -24, 85]))"
      ],
      "metadata": {
        "id": "PCaq_n8R2UC4"
      },
      "execution_count": null,
      "outputs": []
    },
    {
      "cell_type": "markdown",
      "source": [
        "## Reto 145: Encuentre el Index\n",
        "* Cree una función que tome una lista y una valor como argumentos\n",
        "* La función devolverá el índice que ocupa ese valor en la lista.\n",
        "* Ejemplos:\n",
        "    1. find_index([\"hi\", \"bye\", \"xyz\", \"abc\"], \"xyz\") ➞ 2\n",
        "    2. find_index([\"Red\", \"blue\", \"Blue\", \"Green\"], \"blue\") ➞ 1\n",
        "    3. find_index([\"a\", \"g\", \"y\", \"d\"], \"d\") ➞ 3\n",
        "    4. find_index([\"Kiwi\", \"Orange\", \"Grape\", \"Apple\"], \"Kiwi\") ➞ 0\n",
        "    5. find_index([10, 11, 12, 13, 14], 13) ➞ 3"
      ],
      "metadata": {
        "id": "aOicNPy_mWMS"
      }
    },
    {
      "cell_type": "code",
      "source": [
        "def find_index(lista, valor):\n",
        "    pass"
      ],
      "metadata": {
        "id": "RuJ06_SI2Tq_"
      },
      "execution_count": null,
      "outputs": []
    },
    {
      "cell_type": "code",
      "source": [
        "print(find_index([\"hi\", \"bye\", \"xyz\", \"abc\"], \"xyz\"))\n",
        "print(find_index([\"Red\", \"blue\", \"Blue\", \"Green\"], \"blue\"))\n",
        "print(find_index([\"a\", \"g\", \"y\", \"d\"], \"d\"))\n",
        "print(find_index([\"Kiwi\", \"Orange\", \"Grape\", \"Apple\"], \"Kiwi\"))\n",
        "print(find_index([10, 11, 12, 13, 14], 13))"
      ],
      "metadata": {
        "id": "CC5IT89w2TrE"
      },
      "execution_count": null,
      "outputs": []
    },
    {
      "cell_type": "markdown",
      "source": [
        "## Reto 146: Suma de mínimos en una matriz\n",
        "* Cree una función que tome una matriz y devuelva la suma del valor mínimo en cada fila.\n",
        "* Una matriz es una lista de listas, esto es, una lista donde los elementos son otras listas.\n",
        "* Ejemplos:\n",
        "    1. sum_minimums([[1, 2, 3, 4], [5, 6, 7, 8], [20, 21, 34, 10]]) ➞ 16\n",
        "    2. sum_minimums([[8, 9, -3], [3, 8, 4], [0, -2, 4]]) ➞ -2\n"
      ],
      "metadata": {
        "id": "faQ0Lgb3mWSM"
      }
    },
    {
      "cell_type": "code",
      "source": [
        "def sum_minimums(matrix):\n",
        "    pass"
      ],
      "metadata": {
        "id": "a9FGFHrF2Svt"
      },
      "execution_count": null,
      "outputs": []
    },
    {
      "cell_type": "code",
      "source": [
        "print(sum_minimums([[1, 2, 3, 4], [5, 6, 7, 8], [20, 21, 34, 10]]))\n",
        "print(sum_minimums([[8, 9, -3], [3, 8, 4], [0, -2, 4]]))"
      ],
      "metadata": {
        "id": "pmw9P32y2Svy"
      },
      "execution_count": null,
      "outputs": []
    },
    {
      "cell_type": "markdown",
      "source": [
        "## Reto 147: Python List Slicing\n",
        "* Dada una lista y un número entero `n`, devuelva la suma de los primeros `n` números de la lista.\n",
        "* Si `n` es mayor que la longitud de la lista, devuelve la suma de toda la lista.\n",
        "* La *list slicing* es una técnica común en Python que permite dividir las listas en porciones, en tramos, en rebanadas.\n",
        "* Ejemplos:\n",
        "    1. sum_first_n_nums([1, 3, 2], 2) ➞ 4\n",
        "    2. sum_first_n_nums([4, 2, 5, 7], 4) ➞ 18\n",
        "    3. sum_first_n_nums([3, 6, 2], 0) ➞ 0\n",
        "    4. sum_first_n_nums([3, 6, 2], 7) ➞ 11"
      ],
      "metadata": {
        "id": "XjwB1tLymWYj"
      }
    },
    {
      "cell_type": "code",
      "source": [
        "def sum_first_n_nums(lst, n):\n",
        "    pass"
      ],
      "metadata": {
        "id": "hgsMeTzf2RHL"
      },
      "execution_count": null,
      "outputs": []
    },
    {
      "cell_type": "code",
      "source": [
        "print(sum_first_n_nums([1, 3, 2], 2))\n",
        "print(sum_first_n_nums([4, 2, 5, 7], 4))\n",
        "print(sum_first_n_nums([3, 6, 2], 0))\n",
        "print(sum_first_n_nums([3, 6, 2], 7))"
      ],
      "metadata": {
        "id": "EFVnL_bb2RHQ"
      },
      "execution_count": null,
      "outputs": []
    },
    {
      "cell_type": "markdown",
      "source": [
        "## Reto 148: Evitando `else` en algunos casos\n",
        "* El siguiente código pretende identificar un número como positivo, negativo o cero.\n",
        "* Tenemos este código:\n",
        "<pre>\n",
        "def analiza(x):\n",
        "\tif x > 0:\n",
        "\t\treturn \"positivo\"\n",
        "\telif x < 0:\n",
        "\t\treturn \"negativo\"\n",
        "\telse:\n",
        "\t\treturn \"cero\"\n",
        "</pre>\n",
        "\n",
        "* Nos gustaría eliminar la intrucción `else` del código y comprobar que todo funciona bien.\n",
        "* Ejemplos:\n",
        "    1. analiza(4) ➞ \"positivo\"\n",
        "    2. analiza(-4) ➞ \"negativo\"\n",
        "    3. analiza(0) ➞ \"cero\""
      ],
      "metadata": {
        "id": "9WVlhv7-mWef"
      }
    },
    {
      "cell_type": "code",
      "source": [
        "def analiza(x):\n",
        "    pass"
      ],
      "metadata": {
        "id": "qK0W0-zD2QCj"
      },
      "execution_count": null,
      "outputs": []
    },
    {
      "cell_type": "code",
      "source": [
        "print(analiza(4))\n",
        "print(analiza(-4))\n",
        "print(analiza(0))"
      ],
      "metadata": {
        "id": "hOKsrBiX2QCv"
      },
      "execution_count": null,
      "outputs": []
    },
    {
      "cell_type": "markdown",
      "source": [
        "## Reto 149: La letra prohibida\n",
        "* Dada una letra y una lista de palabras, indique si la letra no aparece en ninguna de las palabras.\n",
        "* Todas las entradas proporcionadas estarán en minúsculas.\n",
        "* Ejemplos:\n",
        "    1. forbidden_letter(\"r\", [\"rock\", \"paper\", \"scissors\"]) ➞ False\n",
        "    2. forbidden_letter(\"a\", [\"spoon\", \"fork\", \"knife\"]) ➞ True\n",
        "    3. forbidden_letter(\"m\", []) ➞ True"
      ],
      "metadata": {
        "id": "_6MLjRP9mWlf"
      }
    },
    {
      "cell_type": "code",
      "source": [
        "def forbidden_letter(letra, lista):\n",
        "    pass"
      ],
      "metadata": {
        "id": "ECgG_5Sj2Nrw"
      },
      "execution_count": null,
      "outputs": []
    },
    {
      "cell_type": "code",
      "source": [
        "print(forbidden_letter(\"r\", [\"rock\", \"paper\", \"scissors\"]))\n",
        "print(forbidden_letter(\"a\", [\"spoon\", \"fork\", \"knife\"]))\n",
        "print(forbidden_letter(\"m\", []))"
      ],
      "metadata": {
        "id": "q34_8YEU2Nrw"
      },
      "execution_count": null,
      "outputs": []
    },
    {
      "cell_type": "markdown",
      "source": [
        "## Reto 150: Promedios recortados\n",
        "* Dada una lista de números, elimine los números más grandes y más pequeños y calcule el promedio de los números restantes.\n",
        "* Redondea al número entero más próximo.\n",
        "* El tamaño de la lista es mayor que 2.\n",
        "* Ejemplos:\n",
        "    1. trimmed_averages([4, 5, 7, 100]) ➞ 6\n",
        "    2. trimmed_averages([10, 25, 5, 15, 20]) ➞ 15\n",
        "    3. trimmed_averages([1, 1, 1]) ➞ 1\n",
        "    4. trimmed_averages([-2, -1, 7, 2, 10]) ➞ 3"
      ],
      "metadata": {
        "id": "oYAck1PBmWr0"
      }
    },
    {
      "cell_type": "code",
      "source": [
        "def trimmed_averages(lista):\n",
        "    pass"
      ],
      "metadata": {
        "id": "tHcGOhr-2M0a"
      },
      "execution_count": null,
      "outputs": []
    },
    {
      "cell_type": "code",
      "source": [
        "print(trimmed_averages([4, 5, 7, 100]))\n",
        "print(trimmed_averages([10, 25, 5, 15, 20]))\n",
        "print(trimmed_averages([1, 1, 1]))\n",
        "print(trimmed_averages([-2, -1, 7, 2, 10]))"
      ],
      "metadata": {
        "id": "T9QcZgKB2M0b"
      },
      "execution_count": null,
      "outputs": []
    }
  ]
}