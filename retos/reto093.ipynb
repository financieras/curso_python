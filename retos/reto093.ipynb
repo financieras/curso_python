{
  "nbformat": 4,
  "nbformat_minor": 0,
  "metadata": {
    "colab": {
      "provenance": [],
      "authorship_tag": "ABX9TyNzLvUL/b556UI6QswVSYwp",
      "include_colab_link": true
    },
    "kernelspec": {
      "name": "python3",
      "display_name": "Python 3"
    },
    "language_info": {
      "name": "python"
    }
  },
  "cells": [
    {
      "cell_type": "markdown",
      "metadata": {
        "id": "view-in-github",
        "colab_type": "text"
      },
      "source": [
        "<a href=\"https://colab.research.google.com/github/financieras/curso_python/blob/main/retos/reto093.ipynb\" target=\"_parent\"><img src=\"https://colab.research.google.com/assets/colab-badge.svg\" alt=\"Open In Colab\"/></a>"
      ]
    },
    {
      "cell_type": "markdown",
      "source": [
        "## Reto 93: Title String\n",
        "* Compruebe si un texto de cadena (Title String) es un texto de título o no.\n",
        "* Un texto de título es aquel en el que todas las palabras del texto comienzan con una letra mayúscula.\n",
        "* Ejemplos:\n",
        "    1. check_title(\"Ciudades Londres París Roma\") ➞ True\n",
        "    2. check_title(\"Prefiero: New York!\") ➞ True\n",
        "    3. check_title(\"Veranear en Málaga\") ➞ False\n"
      ],
      "metadata": {
        "id": "eQq4-mUcntV5"
      }
    },
    {
      "cell_type": "code",
      "source": [
        "def check_title(txt):\n",
        "    pass"
      ],
      "metadata": {
        "id": "WD04B0aD2waV"
      },
      "execution_count": null,
      "outputs": []
    },
    {
      "cell_type": "code",
      "source": [
        "print(check_title(\"Ciudades Londres París Roma\"))\n",
        "print(check_title(\"Prefiero: New York!\"))\n",
        "print(check_title(\"Veranear en Málaga\"))"
      ],
      "metadata": {
        "id": "ZB_KMJDx2waW"
      },
      "execution_count": null,
      "outputs": []
    }
  ]
}