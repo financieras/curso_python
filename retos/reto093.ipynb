{
  "nbformat": 4,
  "nbformat_minor": 0,
  "metadata": {
    "colab": {
      "provenance": [],
      "authorship_tag": "ABX9TyMbDp7NJN9PiV1gVzkSBPG2",
      "include_colab_link": true
    },
    "kernelspec": {
      "name": "python3",
      "display_name": "Python 3"
    },
    "language_info": {
      "name": "python"
    }
  },
  "cells": [
    {
      "cell_type": "markdown",
      "metadata": {
        "id": "view-in-github",
        "colab_type": "text"
      },
      "source": [
        "<a href=\"https://colab.research.google.com/github/financieras/curso_python/blob/main/retos/reto093.ipynb\" target=\"_parent\"><img src=\"https://colab.research.google.com/assets/colab-badge.svg\" alt=\"Open In Colab\"/></a>"
      ]
    },
    {
      "cell_type": "markdown",
      "source": [
        "## Reto 93: Título de texto\n",
        "* Cree una función que determine si un texto dado es un título de texto (Title String).\n",
        "* Se considera que un texto es un título si todas las palabras comienzan con una letra mayúscula.\n",
        "* Ejemplos:\n",
        "    1. es_titulo(\"Ciudades: Londres París Roma\") ➞ True\n",
        "    2. es_titulo(\"Prefiero New York!\") ➞ True\n",
        "    3. es_titulo(\"Veranear en Málaga\") ➞ False\n"
      ],
      "metadata": {
        "id": "eQq4-mUcntV5"
      }
    },
    {
      "cell_type": "code",
      "source": [
        "# @title Reto 93\n",
        "\n",
        "def es_titulo(texto):\n",
        "    pass"
      ],
      "metadata": {
        "id": "WD04B0aD2waV"
      },
      "execution_count": null,
      "outputs": []
    },
    {
      "cell_type": "code",
      "source": [
        "print(es_titulo(\"Ciudades: Londres París Roma\"))\n",
        "print(es_titulo(\"Prefiero New York!\"))\n",
        "print(es_titulo(\"Veranear en Málaga\"))"
      ],
      "metadata": {
        "id": "ZB_KMJDx2waW"
      },
      "execution_count": null,
      "outputs": []
    }
  ]
}