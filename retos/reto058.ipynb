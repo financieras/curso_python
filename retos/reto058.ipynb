{
  "nbformat": 4,
  "nbformat_minor": 0,
  "metadata": {
    "colab": {
      "provenance": [],
      "authorship_tag": "ABX9TyMxjNebRut0H2rJvD2sEDNZ",
      "include_colab_link": true
    },
    "kernelspec": {
      "name": "python3",
      "display_name": "Python 3"
    },
    "language_info": {
      "name": "python"
    }
  },
  "cells": [
    {
      "cell_type": "markdown",
      "metadata": {
        "id": "view-in-github",
        "colab_type": "text"
      },
      "source": [
        "<a href=\"https://colab.research.google.com/github/financieras/curso_python/blob/main/retos/reto058.ipynb\" target=\"_parent\"><img src=\"https://colab.research.google.com/assets/colab-badge.svg\" alt=\"Open In Colab\"/></a>"
      ]
    },
    {
      "cell_type": "markdown",
      "source": [
        "## Reto 58: Cadena de guiones\n",
        "* Cree una función que tome un número `n` (entre 1 y 60) y devuelva una cadena de `n`guiones.\n",
        "* Ejemplos:\n",
        "    1. n_guiones(1) ➞ \"-\"\n",
        "    2. n_guiones(5) ➞ \"-----\"\n",
        "    3. n_guiones(3) ➞ \"---\"\n",
        "    4. n_guiones(60) ➞ \"------------------------------------------------------------\"\n"
      ],
      "metadata": {
        "id": "bafH9RmQz6eC"
      }
    },
    {
      "cell_type": "code",
      "source": [
        "def n_guiones(n):\n",
        "    pass"
      ],
      "metadata": {
        "id": "tkZTXasH16zU"
      },
      "execution_count": null,
      "outputs": []
    },
    {
      "cell_type": "code",
      "source": [
        "print(n_guiones(1))\n",
        "print(n_guiones(5))\n",
        "print(n_guiones(3))\n",
        "print(n_guiones(60))"
      ],
      "metadata": {
        "id": "ApY8dJLw16TK"
      },
      "execution_count": null,
      "outputs": []
    }
  ]
}