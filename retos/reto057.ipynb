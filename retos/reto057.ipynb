{
  "nbformat": 4,
  "nbformat_minor": 0,
  "metadata": {
    "colab": {
      "provenance": [],
      "authorship_tag": "ABX9TyMgzcjgLFRVAEV8p4ZXE5KB",
      "include_colab_link": true
    },
    "kernelspec": {
      "name": "python3",
      "display_name": "Python 3"
    },
    "language_info": {
      "name": "python"
    }
  },
  "cells": [
    {
      "cell_type": "markdown",
      "metadata": {
        "id": "view-in-github",
        "colab_type": "text"
      },
      "source": [
        "<a href=\"https://colab.research.google.com/github/financieras/curso_python/blob/main/retos/reto057.ipynb\" target=\"_parent\"><img src=\"https://colab.research.google.com/assets/colab-badge.svg\" alt=\"Open In Colab\"/></a>"
      ]
    },
    {
      "cell_type": "markdown",
      "source": [
        "## Reto 57: ¿Es Impar?\n",
        "* Escriba una función que devuelva `True` si el número entero recibido es impar y `False` si es par.\n",
        "* Tenemos una función que da error y además no funciona bien.\n",
        "* Trate de mejorar la función o refactorice el código resolviendo el reto por otro método.\n",
        "* Ejemplos:\n",
        "    1. es_impar(5) ➞ True\n",
        "    2. es_impar(8) ➞ False\n",
        "    3. es_impar(0) ➞ False\n",
        "    4. es_impar(-3) ➞ True\n",
        "* La función incorrecta es esta:\n",
        "\n",
        "<pre>\n",
        "def es_impar(n):\n",
        "\tif n % 2 == 0:\n",
        "\t\treturn True\n",
        "\telif n % 2 == 1\n",
        "\t\treturn False\n",
        "</pre>\n",
        "\n"
      ],
      "metadata": {
        "id": "wWvRVfvSz6Yy"
      }
    },
    {
      "cell_type": "code",
      "source": [
        "def es_impar(n):\n",
        "    pass"
      ],
      "metadata": {
        "id": "X8iuIe0b15l4"
      },
      "execution_count": null,
      "outputs": []
    },
    {
      "cell_type": "code",
      "source": [
        "print(es_impar(5))\n",
        "print(es_impar(8))\n",
        "print(es_impar(0))\n",
        "print(es_impar(-3))"
      ],
      "metadata": {
        "id": "SElTbYI315l9"
      },
      "execution_count": null,
      "outputs": []
    }
  ]
}