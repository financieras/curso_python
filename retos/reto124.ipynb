{
  "nbformat": 4,
  "nbformat_minor": 0,
  "metadata": {
    "colab": {
      "provenance": [],
      "authorship_tag": "ABX9TyMODxbwPwWmR8Rboy4B4Te2",
      "include_colab_link": true
    },
    "kernelspec": {
      "name": "python3",
      "display_name": "Python 3"
    },
    "language_info": {
      "name": "python"
    }
  },
  "cells": [
    {
      "cell_type": "markdown",
      "metadata": {
        "id": "view-in-github",
        "colab_type": "text"
      },
      "source": [
        "<a href=\"https://colab.research.google.com/github/financieras/curso_python/blob/main/retos/reto124.ipynb\" target=\"_parent\"><img src=\"https://colab.research.google.com/assets/colab-badge.svg\" alt=\"Open In Colab\"/></a>"
      ]
    },
    {
      "cell_type": "markdown",
      "source": [
        "## Reto 124: Funciones anónimas\n",
        "* Una función clásica que doble un número podría ser esta:\n",
        "\n",
        "<pre>\n",
        "def dobla_numero(n):\n",
        "    return 2*n\n",
        "</pre>\n",
        "\n",
        "Para funciones sencillas podemos utilizar las funciones anónimas que en Python se llaman **funciones lambda**. Este ejemplo, para doblar un número con una función lambda sería así:\n",
        "\n",
        "<pre>\n",
        "dobla = lambda n: 2*n\n",
        "</pre>\n",
        "\n",
        "Para invocar la función escribiríamos lo siguiente:\n",
        "\n",
        "<pre>\n",
        "dobla(7)    # output: 14\n",
        "</pre>\n",
        "\n",
        "También pueden existir funciones lambda con varios parámetros, como por ejemplo esta que suma dos números:\n",
        "\n",
        "<pre>\n",
        "suma = lambda a,b: a+b\n",
        "</pre>\n",
        "\n",
        "Se puede invocar así:\n",
        "\n",
        "<pre>\n",
        "suma(4, 3)    # output: 7\n",
        "</pre>\n",
        "\n",
        "* En este reto se pide programar tres funciones anónimas para resolver estos tres casos.\n",
        "* Ejemplos:\n",
        "    1. triplica(5) ➞ 15\n",
        "    2. suma_uno(10) ➞ 11\n",
        "    4. resta_dos_numeros(10, 7) ➞ 3"
      ],
      "metadata": {
        "id": "0tXWqqfamNgC"
      }
    },
    {
      "cell_type": "code",
      "source": [
        "# usando funciones lambda"
      ],
      "metadata": {
        "id": "5HMp3lKY2eXZ"
      },
      "execution_count": null,
      "outputs": []
    },
    {
      "cell_type": "code",
      "source": [
        "print(triplica(5))\n",
        "print(suma_uno(10))\n",
        "print(resta_dos_numeros(10, 7) )"
      ],
      "metadata": {
        "id": "-ppAz6T02eXZ"
      },
      "execution_count": null,
      "outputs": []
    }
  ]
}