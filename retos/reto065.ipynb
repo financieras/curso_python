{
  "nbformat": 4,
  "nbformat_minor": 0,
  "metadata": {
    "colab": {
      "provenance": [],
      "authorship_tag": "ABX9TyNzoYCFtP8Ufean09diK/Qq",
      "include_colab_link": true
    },
    "kernelspec": {
      "name": "python3",
      "display_name": "Python 3"
    },
    "language_info": {
      "name": "python"
    }
  },
  "cells": [
    {
      "cell_type": "markdown",
      "metadata": {
        "id": "view-in-github",
        "colab_type": "text"
      },
      "source": [
        "<a href=\"https://colab.research.google.com/github/financieras/curso_python/blob/main/retos/reto065.ipynb\" target=\"_parent\"><img src=\"https://colab.research.google.com/assets/colab-badge.svg\" alt=\"Open In Colab\"/></a>"
      ]
    },
    {
      "cell_type": "markdown",
      "source": [
        "## Reto 65: Descontrol en la empaquetadora\n",
        "* ¡El sistema de embalaje es un caos!\n",
        "* Los dulces se encuentran dispersos por todo el almacén, el cereal ha desaparecido y se ha colocado pan dentro de una botella.\n",
        "* ¿Qué está ocurriendo con esta máquina?\n",
        "* Los dulces deberían estar empaquetados en plástico, el pan dentro de una bolsa y las bebidas en botellas.\n",
        "* Sin embargo, la función de la máquina envasadora, `empaquetar()`, no está funcionando bien.\n",
        "* Cree correctamente la función para que se cumplan estos casos.\n",
        "* Ejemplos:\n",
        "    1. empaquetar(\"Pan\") ➞ \"bolsa\"\n",
        "    2. empaquetar(\"Cerveza\") ➞ \"botella\"\n",
        "    3. empaquetar(\"Caramelos\") ➞ \"plástico\"\n",
        "    4. empaquetar(\"Queso\") ➞ None"
      ],
      "metadata": {
        "id": "FoWAJyPBWeog"
      }
    },
    {
      "cell_type": "code",
      "source": [
        "def empaquetar(producto):\n",
        "    pass"
      ],
      "metadata": {
        "id": "_4ljoLl229jX"
      },
      "execution_count": null,
      "outputs": []
    },
    {
      "cell_type": "code",
      "source": [
        "print(empaquetar(\"Pan\"))\n",
        "print(empaquetar(\"Cerveza\"))\n",
        "print(empaquetar(\"Caramelos\"))\n",
        "print(empaquetar(\"Queso\"))"
      ],
      "metadata": {
        "id": "-AliezYY29jY"
      },
      "execution_count": null,
      "outputs": []
    }
  ]
}