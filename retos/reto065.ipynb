{
  "nbformat": 4,
  "nbformat_minor": 0,
  "metadata": {
    "colab": {
      "provenance": [],
      "authorship_tag": "ABX9TyMjOonJU8wav1wgfHpCdpPg",
      "include_colab_link": true
    },
    "kernelspec": {
      "name": "python3",
      "display_name": "Python 3"
    },
    "language_info": {
      "name": "python"
    }
  },
  "cells": [
    {
      "cell_type": "markdown",
      "metadata": {
        "id": "view-in-github",
        "colab_type": "text"
      },
      "source": [
        "<a href=\"https://colab.research.google.com/github/financieras/curso_python/blob/main/retos/reto065.ipynb\" target=\"_parent\"><img src=\"https://colab.research.google.com/assets/colab-badge.svg\" alt=\"Open In Colab\"/></a>"
      ]
    },
    {
      "cell_type": "markdown",
      "source": [
        "## Reto 65: La empaquetadora loca\n",
        "* ¡El sistema de embalaje se está volviendo loco!\n",
        "* Los dulces están sueltos por todo el almacén, falta el cereal y hay pan metido en una botella.\n",
        "* ¿Que esta pasando aqui con esta máquina?\n",
        "* Los dulces deben estar en plástico, el pan en una bolsa y la bebida en botella.\n",
        "* La máquina envasadora ejecuta la función `get_container()` para recuperar el contenedor de un producto. Pero algo no está bien...\n",
        "* Cree correctamente la función para que se cumplan estos casos.\n",
        "* Ejemplos:\n",
        "    1. get_container(\"Pan\") ➞ \"bolsa\"\n",
        "    2. get_container(\"Cerveza\") ➞ \"botella\"\n",
        "    3. get_container(\"Caramelos\") ➞ \"plástico\"\n",
        "    4. get_container(\"Queso\") ➞ None"
      ],
      "metadata": {
        "id": "FoWAJyPBWeog"
      }
    },
    {
      "cell_type": "code",
      "source": [
        "def get_container(producto):\n",
        "    pass"
      ],
      "metadata": {
        "id": "_4ljoLl229jX"
      },
      "execution_count": null,
      "outputs": []
    },
    {
      "cell_type": "code",
      "source": [
        "print(get_container(\"Pan\"))\n",
        "print(get_container(\"Cerveza\"))\n",
        "print(get_container(\"Caramelos\"))\n",
        "print(get_container(\"Queso\"))"
      ],
      "metadata": {
        "id": "-AliezYY29jY"
      },
      "execution_count": null,
      "outputs": []
    }
  ]
}