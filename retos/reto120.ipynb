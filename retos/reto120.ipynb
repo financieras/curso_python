{
  "nbformat": 4,
  "nbformat_minor": 0,
  "metadata": {
    "colab": {
      "provenance": [],
      "authorship_tag": "ABX9TyMEvkBbVccwHpbnFFOSBOCt",
      "include_colab_link": true
    },
    "kernelspec": {
      "name": "python3",
      "display_name": "Python 3"
    },
    "language_info": {
      "name": "python"
    }
  },
  "cells": [
    {
      "cell_type": "markdown",
      "metadata": {
        "id": "view-in-github",
        "colab_type": "text"
      },
      "source": [
        "<a href=\"https://colab.research.google.com/github/financieras/curso_python/blob/main/retos/reto120.ipynb\" target=\"_parent\"><img src=\"https://colab.research.google.com/assets/colab-badge.svg\" alt=\"Open In Colab\"/></a>"
      ]
    },
    {
      "cell_type": "markdown",
      "source": [
        "## Reto 120: El mismo pan\n",
        "* Dadas dos listas, que representan dos sándwiches, indique si ambos sandwiches usan el mismo tipo de pan.\n",
        "* En un mismo sandwiche los dos panes siempre son iguales.\n",
        "* En los elementos intermedios nunca encontraremos pan.\n",
        "* Ejemplos:\n",
        "    1. tiene_el_mismo_pan(\n",
        "  [\"pan blanco\", \"lechuga\", \"pan blanco\"],\n",
        "  [\"pan blanco\", \"tomate\", \"pan blanco\"]\n",
        ") ➞ True\n",
        "    2. tiene_el_mismo_pan(\n",
        "  [\"pan integral\", \"pollo\", \"pan integral\"],\n",
        "  [\"pan blanco\", \"pollo\", \"pan blanco\"]\n",
        ") ➞ False\n",
        "    3. tiene_el_mismo_pan(\n",
        "  [\"berenjena\", \"queso\", \"berenjena\"],\n",
        "  [\"berenjena\", \"queso\", \"berenjena\"]\n",
        ") ➞ False\n",
        "    4. tiene_el_mismo_pan(\n",
        "  [\"pan tostado\", \"queso\", \"pan tostado\"],\n",
        "  [\"pan tostado\", \"queso\", \"pan tostado\"]\n",
        ") ➞ True\n",
        "    5. tiene_el_mismo_pan(\n",
        "  [\"pan tostado\", \"queso\", \"huevo\", \"pan tostado\"],\n",
        "  [\"pan tostado\", \"queso\", \"huevo\", \"pan tostado\"]\n",
        ") ➞ True"
      ],
      "metadata": {
        "id": "rjHsjH3Mz9QP"
      }
    },
    {
      "cell_type": "code",
      "source": [
        "def tiene_el_mismo_pan(lst1, lst2):\n",
        "    pass"
      ],
      "metadata": {
        "id": "KnExKfBw2gjx"
      },
      "execution_count": null,
      "outputs": []
    },
    {
      "cell_type": "code",
      "source": [
        "print(tiene_el_mismo_pan([\"pan blanco\", \"lechuga\", \"pan blanco\"], [\"pan blanco\", \"tomate\", \"pan blanco\"]))\n",
        "print(tiene_el_mismo_pan([\"pan integral\", \"pollo\", \"pan integral\"], [\"pan blanco\", \"pollo\", \"pan blanco\"]))\n",
        "print(tiene_el_mismo_pan([\"berenjena\", \"queso\", \"berenjena\"], [\"berenjena\", \"queso\", \"berenjena\"]))\n",
        "print(tiene_el_mismo_pan([\"pan tostado\", \"queso\", \"pan tostado\"], [\"pan tostado\", \"queso\", \"pan tostado\"]))\n",
        "print(tiene_el_mismo_pan([\"pan tostado\", \"queso\", \"huevo\", \"pan tostado\"], [\"pan tostado\", \"queso\", \"huevo\", \"pan tostado\"]))"
      ],
      "metadata": {
        "id": "gBtJ9jtK2gjy"
      },
      "execution_count": null,
      "outputs": []
    }
  ]
}