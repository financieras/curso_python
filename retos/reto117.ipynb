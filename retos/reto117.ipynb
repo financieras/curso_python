{
  "nbformat": 4,
  "nbformat_minor": 0,
  "metadata": {
    "colab": {
      "provenance": [],
      "authorship_tag": "ABX9TyOgRwEK4EaRMxhPv1NfaEj2",
      "include_colab_link": true
    },
    "kernelspec": {
      "name": "python3",
      "display_name": "Python 3"
    },
    "language_info": {
      "name": "python"
    }
  },
  "cells": [
    {
      "cell_type": "markdown",
      "metadata": {
        "id": "view-in-github",
        "colab_type": "text"
      },
      "source": [
        "<a href=\"https://colab.research.google.com/github/financieras/curso_python/blob/main/retos/reto117.ipynb\" target=\"_parent\"><img src=\"https://colab.research.google.com/assets/colab-badge.svg\" alt=\"Open In Colab\"/></a>"
      ]
    },
    {
      "cell_type": "markdown",
      "source": [
        "## Reto 117: Números en texto\n",
        "* Cree una función que devuelva un número, según la cadena proporcionada.\n",
        "* Aquí hay una lista de todos los dígitos.\n",
        "* Ejemplos:\n",
        "    1. word(\"one\") ➞ 1\n",
        "    2. word(\"two\") ➞ 2\n",
        "    3. word(\"three\") ➞ 3\n",
        "    4. word(\"four\") ➞ 4\n",
        "    5. word(\"five\") ➞ 5\n",
        "    6. word(\"six\") ➞ 6\n",
        "    7. word(\"seven\") ➞ 7\n",
        "    8. word(\"eight\") ➞ 8\n",
        "    9. word(\"nine\") ➞ 9\n",
        "    10. word(\"zero\") ➞ 0"
      ],
      "metadata": {
        "id": "jSpetAOOz9Ax"
      }
    },
    {
      "cell_type": "code",
      "source": [
        "def word(txt):\n",
        "    pass"
      ],
      "metadata": {
        "id": "agSvxKJR2iVY"
      },
      "execution_count": null,
      "outputs": []
    },
    {
      "cell_type": "code",
      "source": [
        "print(word(\"one\"))\n",
        "print(word(\"two\"))\n",
        "print(word(\"three\"))\n",
        "print(word(\"four\"))\n",
        "print(word(\"five\"))\n",
        "print(word(\"six\"))\n",
        "print(word(\"seven\"))\n",
        "print(word(\"eight\"))\n",
        "print(word(\"nine\"))\n",
        "print(word(\"zero\"))"
      ],
      "metadata": {
        "id": "glH91xa52iVZ"
      },
      "execution_count": null,
      "outputs": []
    }
  ]
}