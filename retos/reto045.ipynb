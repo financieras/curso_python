{
  "nbformat": 4,
  "nbformat_minor": 0,
  "metadata": {
    "colab": {
      "provenance": [],
      "authorship_tag": "ABX9TyPMXriKZcFib8skVYMcSIun",
      "include_colab_link": true
    },
    "kernelspec": {
      "name": "python3",
      "display_name": "Python 3"
    },
    "language_info": {
      "name": "python"
    }
  },
  "cells": [
    {
      "cell_type": "markdown",
      "metadata": {
        "id": "view-in-github",
        "colab_type": "text"
      },
      "source": [
        "<a href=\"https://colab.research.google.com/github/financieras/curso_python/blob/main/retos/reto045.ipynb\" target=\"_parent\"><img src=\"https://colab.research.google.com/assets/colab-badge.svg\" alt=\"Open In Colab\"/></a>"
      ]
    },
    {
      "cell_type": "markdown",
      "source": [
        "## Reto 45: Comparar cadenas por número de caracteres\n",
        "* Cree una función que tome dos strings como argumentos y devuelva `True` o `False` dependiendo de si el número total de caracteres en la primera cadena es igual al número total de caracteres en la segunda cadena.\n",
        "* Ejemplos:\n",
        "    1. compare(\"AB\", \"cd\") ➞ True\n",
        "    2. compare(\"ABC\", \"DE\") ➞ False\n",
        "    3. compare(\"hello\", \"Madrid\") ➞ False\n",
        "    4. compare(\"XY\", \"42\") ➞ True"
      ],
      "metadata": {
        "id": "aHMUHOt_zlRT"
      }
    },
    {
      "cell_type": "code",
      "source": [
        "def compare(str1, str2):\n",
        "    pass"
      ],
      "metadata": {
        "id": "K9InmdMt9dtc"
      },
      "execution_count": null,
      "outputs": []
    },
    {
      "cell_type": "code",
      "source": [
        "print(compare(\"AB\", \"cd\"))\n",
        "print(compare(\"ABC\", \"DE\"))\n",
        "print(compare(\"hello\", \"Madrid\"))\n",
        "print(compare(\"XY\", \"42\"))"
      ],
      "metadata": {
        "id": "Ow-a2imJGxVX"
      },
      "execution_count": null,
      "outputs": []
    }
  ]
}