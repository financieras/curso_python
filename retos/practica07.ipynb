{
  "nbformat": 4,
  "nbformat_minor": 0,
  "metadata": {
    "colab": {
      "provenance": [],
      "authorship_tag": "ABX9TyPB5zZQIJOrKSpS5234sl7L",
      "include_colab_link": true
    },
    "kernelspec": {
      "name": "python3",
      "display_name": "Python 3"
    },
    "language_info": {
      "name": "python"
    }
  },
  "cells": [
    {
      "cell_type": "markdown",
      "metadata": {
        "id": "view-in-github",
        "colab_type": "text"
      },
      "source": [
        "<a href=\"https://colab.research.google.com/github/financieras/curso_python/blob/main/retos/practica07.ipynb\" target=\"_parent\"><img src=\"https://colab.research.google.com/assets/colab-badge.svg\" alt=\"Open In Colab\"/></a>"
      ]
    },
    {
      "cell_type": "markdown",
      "source": [
        "## Reto 61: ¿Es par o impar?\n",
        "* Cree una función que tome un número entero como argumento y devuelva \"par\" para números pares e \"impar\" para números impares.\n",
        "* Ejemplos:\n",
        "    1. es_par_impar(3) ➞ \"impar\"\n",
        "    2. es_par_impar(146) ➞ \"par\"\n",
        "    3. es_par_impar(-19) ➞ \"impar\"\n"
      ],
      "metadata": {
        "id": "FRr7GkgBz6t5"
      }
    },
    {
      "cell_type": "code",
      "source": [
        "def es_par_impar(n):\n",
        "    pass"
      ],
      "metadata": {
        "id": "P2Rq2qQD2_V-"
      },
      "execution_count": null,
      "outputs": []
    },
    {
      "cell_type": "code",
      "source": [
        "print(es_par_impar(3))\n",
        "print(es_par_impar(146))\n",
        "print(es_par_impar(-19))"
      ],
      "metadata": {
        "id": "CsDyaIve2_V_"
      },
      "execution_count": null,
      "outputs": []
    },
    {
      "cell_type": "markdown",
      "source": [
        "## Reto 62: Is the Word Singular or Plural?\n",
        "* Cree una función que tome una palabra y determine si es plural o no.\n",
        "* Consideraremos una palabra plural a aquella que termina en \"s\".\n",
        "* Ejemplos:\n",
        "    1. es_plural(\"cambios\") ➞ True\n",
        "    2. es_plural(\"cambio\") ➞ False\n",
        "    3. es_plural(\"dudas\") ➞ True\n",
        "    4. es_plural(\"camión\") ➞ False\n"
      ],
      "metadata": {
        "id": "DxN0UYoAz64b"
      }
    },
    {
      "cell_type": "code",
      "source": [
        "def es_plural(txt):\n",
        "    pass"
      ],
      "metadata": {
        "id": "PKT6q_472_Ad"
      },
      "execution_count": null,
      "outputs": []
    },
    {
      "cell_type": "code",
      "source": [
        "print(es_plural(\"cambios\"))\n",
        "print(es_plural(\"cambio\"))\n",
        "print(es_plural(\"dedas\"))\n",
        "print(es_plural(\"camión\"))"
      ],
      "metadata": {
        "id": "O1uqhXPt2_Ad"
      },
      "execution_count": null,
      "outputs": []
    },
    {
      "cell_type": "markdown",
      "source": [
        "## Reto 63: On/Off Switches\n",
        "* Cree una función que devuelva cuántas disposiciones posibles pueden provenir de un determinado número de interruptores (encendido/apagado).\n",
        "* En otras palabras, para un número determinado de interruptores, ¿cuántos patrones diferentes de encendido y apagado podemos tener?\n",
        "* Ejemplos:\n",
        "    1. pos_com(1) ➞ 2\n",
        "    2. pos_com(3) ➞ 8\n",
        "    3. pos_com(10) ➞ 1024"
      ],
      "metadata": {
        "id": "Qr1u5eabzlbL"
      }
    },
    {
      "cell_type": "code",
      "source": [
        "def pos_com(n):\n",
        "    pass"
      ],
      "metadata": {
        "id": "mSKKjr-V2-l8"
      },
      "execution_count": null,
      "outputs": []
    },
    {
      "cell_type": "code",
      "source": [
        "print(pos_com(1))\n",
        "print(pos_com(3))\n",
        "print(pos_com(10))"
      ],
      "metadata": {
        "id": "JqtW3Qxp2-l8"
      },
      "execution_count": null,
      "outputs": []
    },
    {
      "cell_type": "markdown",
      "source": [
        "## Reto 64: Is the Last Character an \"N\"?\n",
        "* Cree una función que tome una cadena (un nombre).\n",
        "* Si el último carácter del nombre es una \"n\", devuelve `True`; en caso contrario, devuelve `False`.\n",
        "* Ejemplos:\n",
        "    1. is_last_character_n(\"Aaron\") ➞ True\n",
        "    2. is_last_character_n(\"Pierre\") ➞ False\n",
        "    3. is_last_character_n(\"Robert\") ➞ False\n",
        "    4. is_last_character_n(\"Antón\") ➞ True\n"
      ],
      "metadata": {
        "id": "Yd1VWEmDz6zH"
      }
    },
    {
      "cell_type": "code",
      "source": [
        "def is_last_character_n(txt):\n",
        "    pass"
      ],
      "metadata": {
        "id": "vi4eW5r82-Ev"
      },
      "execution_count": null,
      "outputs": []
    },
    {
      "cell_type": "code",
      "source": [
        "print(is_last_character_n(\"Aaron\"))\n",
        "print(is_last_character_n(\"Pierre\"))\n",
        "print(is_last_character_n(\"Robert\"))\n",
        "print(is_last_character_n(\"Antón\"))"
      ],
      "metadata": {
        "id": "1r7HmO9J2-Ev"
      },
      "execution_count": null,
      "outputs": []
    },
    {
      "cell_type": "markdown",
      "source": [
        "## Reto 65: La empaquetadora loca\n",
        "* ¡El sistema de embalaje se está volviendo loco!\n",
        "* Los dulces están sueltos por todo el almacén, falta el cereal y hay pan metido en una botella.\n",
        "* ¿Que esta pasando aqui con esta máquina?\n",
        "* Los dulces deben estar en plástico, el pan en una bolsa y la bebida en botella.\n",
        "* La máquina envasadora ejecuta la función `get_container()` para recuperar el contenedor de un producto. Pero algo no está bien...\n",
        "* Cree correctamente la función para que se cumplan estos casos.\n",
        "* Ejemplos:\n",
        "    1. get_container(\"Pan\") ➞ \"bolsa\"\n",
        "    2. get_container(\"Cerveza\") ➞ \"botella\"\n",
        "    3. get_container(\"Caramelos\") ➞ \"plástico\"\n",
        "    4. get_container(\"Queso\") ➞ None"
      ],
      "metadata": {
        "id": "FoWAJyPBWeog"
      }
    },
    {
      "cell_type": "code",
      "source": [
        "def get_container(producto):\n",
        "    pass"
      ],
      "metadata": {
        "id": "_4ljoLl229jX"
      },
      "execution_count": null,
      "outputs": []
    },
    {
      "cell_type": "code",
      "source": [
        "print(get_container(\"Pan\"))\n",
        "print(get_container(\"Cerveza\"))\n",
        "print(get_container(\"Caramelos\"))\n",
        "print(get_container(\"Queso\"))"
      ],
      "metadata": {
        "id": "-AliezYY29jY"
      },
      "execution_count": null,
      "outputs": []
    },
    {
      "cell_type": "markdown",
      "source": [
        "## Reto 66: Sumar una lista sin `sum`\n",
        "* Tenemos una función que no trabaja correctamente.\n",
        "* Corrija el código para que la función se ajuste a los siguientes ejemplos.\n",
        "* Ejemplos:\n",
        "\t1. sum_lst([1, 2, 3, 4, 5]) ➞ 15\n",
        "\t2. sum_lst([-1, 0, 1]) ➞ 0\n",
        "\t3. sum_lst([0, 4, 8, 12]) ➞ 24\n",
        "\n",
        "Esta es la función que da problemas:\n",
        "<pre>\n",
        "def sum_lst(lst):\n",
        "\ttotal\n",
        "\tfor i in range(0,lst):\n",
        "\t\ttotal += lst[i]\n",
        "  return total\n",
        "</pre>\n"
      ],
      "metadata": {
        "id": "UTLb81S6We2L"
      }
    },
    {
      "cell_type": "code",
      "source": [
        "def sum_lst(lst):\n",
        "    pass"
      ],
      "metadata": {
        "id": "SBmLc3JI28vq"
      },
      "execution_count": null,
      "outputs": []
    },
    {
      "cell_type": "code",
      "source": [
        "print(sum_lst([1, 2, 3, 4, 5]))\n",
        "print(sum_lst([-1, 0, 1]))\n",
        "print(sum_lst([0, 4, 8, 12]))"
      ],
      "metadata": {
        "id": "b1m1a3qY28vr"
      },
      "execution_count": null,
      "outputs": []
    },
    {
      "cell_type": "markdown",
      "source": [
        "## Reto 67: Suma condicional\n",
        "* Cree una función que devuelva la suma de los elementos estrictamente menores que 10.\n",
        "* Ejemplos:\n",
        "    1. suma_menores_diez([1, 5, 11]) ➞ 6\n",
        "    2. suma_menores_diez([0, 9, 10, 50]) ➞ 9\n",
        "    3. suma_menores_diez([-3, -5, -11, 4]) ➞ -15"
      ],
      "metadata": {
        "id": "iw1lGCGYWe6T"
      }
    },
    {
      "cell_type": "code",
      "source": [
        "def suma_menores_diez(arr):\n",
        "    pass"
      ],
      "metadata": {
        "id": "vVnmLCjz28ay"
      },
      "execution_count": null,
      "outputs": []
    },
    {
      "cell_type": "code",
      "source": [
        "print(suma_menores_diez([1, 5, 11]))\n",
        "print(suma_menores_diez([0, 9, 10, 50]))\n",
        "print(suma_menores_diez([-3, -5, -11, 4]))"
      ],
      "metadata": {
        "id": "IgCHxJPI28az"
      },
      "execution_count": null,
      "outputs": []
    },
    {
      "cell_type": "markdown",
      "source": [
        "## Reto 68: Char to ASCII\n",
        "* Cree una función que devuelva el valor ASCII del carácter pasado.\n",
        "* Ejemplos:\n",
        "    1. ctoa(\"A\") ➞ 65\n",
        "    2. ctoa(\"z\") ➞ 122\n",
        "    3. ctoa(\"*\") ➞ 42\n",
        "    4. ctoa(\" \") ➞ 32"
      ],
      "metadata": {
        "id": "-hnzsWZ5We9y"
      }
    },
    {
      "cell_type": "code",
      "source": [
        "def ctoa(caracter):\n",
        "    pass"
      ],
      "metadata": {
        "id": "2m5JUPXe27wE"
      },
      "execution_count": null,
      "outputs": []
    },
    {
      "cell_type": "code",
      "source": [
        "print(ctoa(\"A\"))\n",
        "print(ctoa(\"z\"))\n",
        "print(ctoa(\"*\"))\n",
        "print(ctoa(\" \"))"
      ],
      "metadata": {
        "id": "sJK0kEkn27wE"
      },
      "execution_count": null,
      "outputs": []
    },
    {
      "cell_type": "markdown",
      "source": [
        "## Reto 69: WordCharWord\n",
        "* Cree una función que coloque el primer argumento, un carácter, entre cada palabra del segundo argumento, una cadena.\n",
        "* Ejemplos:\n",
        "    1. add_char(\"_\", \"Python is fun\") ➞ \"Python_is_fun\"\n",
        "    2. add_char(\"#\", \"hello world!\") ➞ \"hello#world!\"\n",
        "    3. add_char(\"@\", \" \") ➞ \"@\""
      ],
      "metadata": {
        "id": "ahhg7AhsWfBk"
      }
    },
    {
      "cell_type": "code",
      "source": [
        "def add_char(caracter, frase):\n",
        "    pass"
      ],
      "metadata": {
        "id": "NB4gFE4727a6"
      },
      "execution_count": null,
      "outputs": []
    },
    {
      "cell_type": "code",
      "source": [
        "print(add_char(\"_\", \"Python is fun\"))\n",
        "print(add_char(\"#\", \"hello world!\"))\n",
        "print(add_char(\"@\", \" \"))"
      ],
      "metadata": {
        "id": "XWmUOZBK27a7"
      },
      "execution_count": null,
      "outputs": []
    },
    {
      "cell_type": "markdown",
      "source": [
        "## Reto 70: Casa movil\n",
        "* Me gustaría calcular cuánto tiempo en promedio he vivido en la misma casa.\n",
        "* Dada la edad de una persona y el número de veces que se ha mudado de casa, devuelva el número promedio de años que ha pasado viviendo en la misma casa.\n",
        "* Ejemplos:\n",
        "    1. years_in_one_house(30, 1) ➞ 15\n",
        "    2. years_in_one_house(15, 2) ➞ 5\n",
        "    3. years_in_one_house(80, 0) ➞ 80\n"
      ],
      "metadata": {
        "id": "SXm49HoIWfE3"
      }
    },
    {
      "cell_type": "code",
      "source": [
        "def years_in_one_house(years, times):\n",
        "    pass"
      ],
      "metadata": {
        "id": "t26q2fx0265I"
      },
      "execution_count": null,
      "outputs": []
    },
    {
      "cell_type": "code",
      "source": [
        "print(years_in_one_house(30, 1))\n",
        "print(years_in_one_house(15, 2))\n",
        "print(years_in_one_house(80, 0))"
      ],
      "metadata": {
        "id": "ujgZYzTp265J"
      },
      "execution_count": null,
      "outputs": []
    }
  ]
}