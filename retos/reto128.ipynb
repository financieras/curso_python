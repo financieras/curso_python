{
  "nbformat": 4,
  "nbformat_minor": 0,
  "metadata": {
    "colab": {
      "provenance": [],
      "authorship_tag": "ABX9TyOXRhxTIvbAxrjCyqqStxPG",
      "include_colab_link": true
    },
    "kernelspec": {
      "name": "python3",
      "display_name": "Python 3"
    },
    "language_info": {
      "name": "python"
    }
  },
  "cells": [
    {
      "cell_type": "markdown",
      "metadata": {
        "id": "view-in-github",
        "colab_type": "text"
      },
      "source": [
        "<a href=\"https://colab.research.google.com/github/financieras/curso_python/blob/main/retos/reto128.ipynb\" target=\"_parent\"><img src=\"https://colab.research.google.com/assets/colab-badge.svg\" alt=\"Open In Colab\"/></a>"
      ]
    },
    {
      "cell_type": "markdown",
      "source": [
        "## Reto 128: Rellenos de sandwich\n",
        "* Dado un sandwich (como lista), retorne una lista con los rellenos que hay dentro del sándwich.\n",
        "* Esto implica ignorar el primer y el último elemento.\n",
        "* Ejemplos:\n",
        "    1. obtener_relleno([\"pan\", \"jamón\", \"queso\", \"jamón\", \"pan\"]) ➞ ['jamón', 'queso', 'jamón']\n",
        "    2. obtener_relleno([\"pan\", \"embutido\", \"tomate\", \"pan\"]) ➞ ['embutido', 'tomate']\n",
        "    3. obtener_relleno([\"pan\", \"lechuga\", \"bacon\", \"tomate\", \"pan\"]) ➞ ['lechuga', 'bacon', 'tomate']"
      ],
      "metadata": {
        "id": "jcxGJ6zZmUll"
      }
    },
    {
      "cell_type": "code",
      "source": [
        "def obtener_relleno(lista):\n",
        "    pass"
      ],
      "metadata": {
        "id": "5T7yO_iT2cg_"
      },
      "execution_count": null,
      "outputs": []
    },
    {
      "cell_type": "code",
      "source": [
        "print(obtener_relleno([\"pan\", \"jamón\", \"queso\", \"jamón\", \"pan\"]))\n",
        "print(obtener_relleno([\"pan\", \"embutido\", \"tomate\", \"pan\"]))\n",
        "print(obtener_relleno([\"pan\", \"lechuga\", \"bacon\", \"tomate\", \"pan\"]))"
      ],
      "metadata": {
        "id": "lGZlUuQS2cg_"
      },
      "execution_count": null,
      "outputs": []
    }
  ]
}