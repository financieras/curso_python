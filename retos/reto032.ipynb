{
  "nbformat": 4,
  "nbformat_minor": 0,
  "metadata": {
    "colab": {
      "provenance": [],
      "authorship_tag": "ABX9TyOZui59p4u9u3nh/PEmAkMf",
      "include_colab_link": true
    },
    "kernelspec": {
      "name": "python3",
      "display_name": "Python 3"
    },
    "language_info": {
      "name": "python"
    }
  },
  "cells": [
    {
      "cell_type": "markdown",
      "metadata": {
        "id": "view-in-github",
        "colab_type": "text"
      },
      "source": [
        "<a href=\"https://colab.research.google.com/github/financieras/curso_python/blob/main/retos/reto032.ipynb\" target=\"_parent\"><img src=\"https://colab.research.google.com/assets/colab-badge.svg\" alt=\"Open In Colab\"/></a>"
      ]
    },
    {
      "cell_type": "markdown",
      "source": [
        "## Reto 32: Diccionario de colores\n",
        "* Vamos a una escuela infantil y preguntamos a varios niños por los colores que conocen en otros idiomas.\n",
        "* Cada respuesta la anotamos en un **diccionario** de Python.\n",
        "* Crear una función que retorne el número de respuestas contenidas en cada diccionario.\n",
        "* Ejemplos:\n",
        "    1. cantidad_colores({'rojo': 'red', 'azul': 'blue', 'amarillo': 'yellow', 'rosa': 'pink'}) ➞ 4\n",
        "    2. cantidad_colores({'azul': 'blue', 'rojo': 'red', 'negro': 'black'}) ➞ 3\n",
        "    3. cantidad_colores({'blanco': 'bianco', 'negro': 'nero', 'rojo': 'rosso'}) ➞ 3"
      ],
      "metadata": {
        "id": "EcMXJoZge1H6"
      }
    },
    {
      "cell_type": "code",
      "source": [
        "def cantidad_colores(diccionario):\n",
        "    pass"
      ],
      "metadata": {
        "id": "CwaHYBJTH_Ii"
      },
      "execution_count": null,
      "outputs": []
    },
    {
      "cell_type": "code",
      "source": [
        "print(cantidad_colores({'rojo': 'red', 'azul': 'blue', 'amarillo': 'yellow', 'rosa': 'pink'}))\n",
        "print(cantidad_colores({'azul': 'blue', 'rojo': 'red', 'negro': 'black'}))\n",
        "print(cantidad_colores({'blanco': 'bianco', 'negro': 'nero', 'rojo': 'rosso'}))"
      ],
      "metadata": {
        "id": "LzxlGz8fIOUt"
      },
      "execution_count": null,
      "outputs": []
    }
  ]
}