{
  "nbformat": 4,
  "nbformat_minor": 0,
  "metadata": {
    "colab": {
      "provenance": [],
      "authorship_tag": "ABX9TyMNtw2tnhWGXuP9jE0fDihp",
      "include_colab_link": true
    },
    "kernelspec": {
      "name": "python3",
      "display_name": "Python 3"
    },
    "language_info": {
      "name": "python"
    }
  },
  "cells": [
    {
      "cell_type": "markdown",
      "metadata": {
        "id": "view-in-github",
        "colab_type": "text"
      },
      "source": [
        "<a href=\"https://colab.research.google.com/github/financieras/curso_python/blob/main/retos/reto014.ipynb\" target=\"_parent\"><img src=\"https://colab.research.google.com/assets/colab-badge.svg\" alt=\"Open In Colab\"/></a>"
      ]
    },
    {
      "cell_type": "markdown",
      "source": [
        "## Reto 14: Saludo especial\n",
        "* Yvonne ha escrito una función que devuelve un saludo a sus amigos.\n",
        "* Pero tiene un amigo especial, Ares, al que quiere saludar de una forma diferente.\n",
        "* Añadió un caso especial en su función, pero cometió un error.\n",
        "* ¿Puedes intentar solucionar el error para que la función trabaje correctamente?\n",
        "* Ejemplos:\n",
        "    1. greeting(\"Matt\") ➞ \"Hello, Matt!\"\n",
        "    2. greeting(\"Helen\") ➞ \"Hello, Helen!\"\n",
        "    3. greeting(\"Ares\") ➞ \"Hello, my Love!\"\n",
        "\n",
        "\n",
        "* Esta es la función que da problemas:\n",
        "\n",
        "```python\n",
        "def greeting(name):\n",
        "\treturn \"Hello, \" + name + \"!\"\n",
        "\tif name == \"Ares\":\n",
        "\t\treturn \"Hello, my Love!\"\n",
        "```"
      ],
      "metadata": {
        "id": "1pzgsdSjomf9"
      }
    },
    {
      "cell_type": "code",
      "source": [
        "def greeting(name):\n",
        "    pass"
      ],
      "metadata": {
        "id": "M0OO25UpuNLX"
      },
      "execution_count": null,
      "outputs": []
    },
    {
      "cell_type": "code",
      "source": [
        "print(greeting(\"Matt\"))\n",
        "print(greeting(\"Helen\"))\n",
        "print(greeting(\"Ares\"))"
      ],
      "metadata": {
        "id": "GLMwmJaUucpy"
      },
      "execution_count": null,
      "outputs": []
    }
  ]
}