{
  "nbformat": 4,
  "nbformat_minor": 0,
  "metadata": {
    "colab": {
      "provenance": [],
      "authorship_tag": "ABX9TyMRd2yKUDxGlmld4va70keP",
      "include_colab_link": true
    },
    "kernelspec": {
      "name": "python3",
      "display_name": "Python 3"
    },
    "language_info": {
      "name": "python"
    }
  },
  "cells": [
    {
      "cell_type": "markdown",
      "metadata": {
        "id": "view-in-github",
        "colab_type": "text"
      },
      "source": [
        "<a href=\"https://colab.research.google.com/github/financieras/curso_python/blob/main/retos/reto011.ipynb\" target=\"_parent\"><img src=\"https://colab.research.google.com/assets/colab-badge.svg\" alt=\"Open In Colab\"/></a>"
      ]
    },
    {
      "cell_type": "markdown",
      "source": [
        "## Reto 11: Es mío\n",
        "* Escriba una función que devuelva la cadena \"Mi\" unida con un espacio \" \" y el argumento dado.\n",
        "* Ejemplos:\n",
        "    1. algo_mio(\"coche\") ➞ \"Mi coche\"\n",
        "    2. algo_mio(\"verano mágico\") ➞ \"Mi verano mágico\"\n",
        "    3. algo_mio(\"Mi\") ➞ \"Mi Mi\""
      ],
      "metadata": {
        "id": "h_tb0PLbGdLr"
      }
    },
    {
      "cell_type": "code",
      "source": [
        "def algo_mio(txt):\n",
        "    pass"
      ],
      "metadata": {
        "id": "N18SC3PT9Itm"
      },
      "execution_count": null,
      "outputs": []
    },
    {
      "cell_type": "code",
      "source": [
        "print(algo_mio(\"coche\"))\n",
        "print(algo_mio(\"verano mágico\"))\n",
        "print(algo_mio(\"camino\"))"
      ],
      "metadata": {
        "id": "mCm8_tgZ9bsR"
      },
      "execution_count": null,
      "outputs": []
    }
  ]
}