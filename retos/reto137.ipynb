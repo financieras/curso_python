{
  "nbformat": 4,
  "nbformat_minor": 0,
  "metadata": {
    "colab": {
      "provenance": [],
      "authorship_tag": "ABX9TyMpuTapsIpqYyXcuIBY7Viv",
      "include_colab_link": true
    },
    "kernelspec": {
      "name": "python3",
      "display_name": "Python 3"
    },
    "language_info": {
      "name": "python"
    }
  },
  "cells": [
    {
      "cell_type": "markdown",
      "metadata": {
        "id": "view-in-github",
        "colab_type": "text"
      },
      "source": [
        "<a href=\"https://colab.research.google.com/github/financieras/curso_python/blob/main/retos/reto137.ipynb\" target=\"_parent\"><img src=\"https://colab.research.google.com/assets/colab-badge.svg\" alt=\"Open In Colab\"/></a>"
      ]
    },
    {
      "cell_type": "markdown",
      "source": [
        "## Reto 137: Palabras compuestas\n",
        "* Una palabra se ha dividido en una parte izquierda y una parte derecha.\n",
        "* Vuelva a formar la palabra uniendo ambas mitades y haciendo que el primer caracter sea una letra mayúscula.\n",
        "* Ejemplos:\n",
        "    1. get_word(\"java\", \"script\") ➞ \"Javascript\"\n",
        "    2. get_word(\"data\", \"base\") ➞ \"Database\"\n",
        "    3. get_word(\"cyber\", \"space\") ➞ \"Cyberspace\"\n",
        "    4. get_word(\"net\", \"working\") ➞ \"Networking\""
      ],
      "metadata": {
        "id": "P79QqyJcmVaQ"
      }
    },
    {
      "cell_type": "code",
      "source": [
        "def get_word(a, b):\n",
        "    pass"
      ],
      "metadata": {
        "id": "R5VcTrpu2YTm"
      },
      "execution_count": null,
      "outputs": []
    },
    {
      "cell_type": "code",
      "source": [
        "print(get_word(\"java\", \"script\"))\n",
        "print(get_word(\"data\", \"base\"))\n",
        "print(get_word(\"cyber\", \"space\"))\n",
        "print(get_word(\"net\", \"working\"))"
      ],
      "metadata": {
        "id": "SsisDVhq2YTm"
      },
      "execution_count": null,
      "outputs": []
    }
  ]
}