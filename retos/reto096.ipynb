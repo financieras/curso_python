{
  "nbformat": 4,
  "nbformat_minor": 0,
  "metadata": {
    "colab": {
      "provenance": [],
      "authorship_tag": "ABX9TyMnfhgCnZlUid4wCwmzFsOW",
      "include_colab_link": true
    },
    "kernelspec": {
      "name": "python3",
      "display_name": "Python 3"
    },
    "language_info": {
      "name": "python"
    }
  },
  "cells": [
    {
      "cell_type": "markdown",
      "metadata": {
        "id": "view-in-github",
        "colab_type": "text"
      },
      "source": [
        "<a href=\"https://colab.research.google.com/github/financieras/curso_python/blob/main/retos/reto096.ipynb\" target=\"_parent\"><img src=\"https://colab.research.google.com/assets/colab-badge.svg\" alt=\"Open In Colab\"/></a>"
      ]
    },
    {
      "cell_type": "markdown",
      "source": [
        "## Reto 96: Todos verdaderos\n",
        "* Escriba una función llamada `todos_verdaderos` que tome un número variable de argumentos y devuelva `True` solo si todos los argumentos son verdaderos.\n",
        "* De lo contrario, debe devolver `False`.\n",
        "* Los argumentos pueden ser cualquier tipo de dato en Python.\n",
        "* Cuando en Python hablamos de un número indeterminado de parámetros estamos hablando de la sintaxis **\\*args**\n",
        "* Ejemplos:\n",
        "    1. todos_verdaderos(0, False, [], {}) ➞ False\n",
        "    2. todos_verdaderos(33, \"Hello\", (True, True, 3)) ➞ True\n",
        "    3. todos_verdaderos(True, None) ➞ False\n",
        "* `None` se considera falso o vacío en Python,"
      ],
      "metadata": {
        "id": "MwftNXTGntYw"
      }
    },
    {
      "cell_type": "code",
      "source": [
        "def todos_verdaderos(*args):\n",
        "    pass"
      ],
      "metadata": {
        "id": "c9ly1-Nl2vSo"
      },
      "execution_count": null,
      "outputs": []
    },
    {
      "cell_type": "code",
      "source": [
        "print(todos_verdaderos(0, False, [], {}))\n",
        "print(todos_verdaderos(33, \"Hello\", (True, [], 3)))\n",
        "print(todos_verdaderos(True, None))"
      ],
      "metadata": {
        "id": "u7XhcE422vSo"
      },
      "execution_count": null,
      "outputs": []
    }
  ]
}