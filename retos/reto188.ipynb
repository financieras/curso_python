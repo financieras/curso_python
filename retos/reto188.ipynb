{
  "nbformat": 4,
  "nbformat_minor": 0,
  "metadata": {
    "colab": {
      "provenance": [],
      "authorship_tag": "ABX9TyNorN9ReS/DD0Ve5TDi52cu",
      "include_colab_link": true
    },
    "kernelspec": {
      "name": "python3",
      "display_name": "Python 3"
    },
    "language_info": {
      "name": "python"
    }
  },
  "cells": [
    {
      "cell_type": "markdown",
      "metadata": {
        "id": "view-in-github",
        "colab_type": "text"
      },
      "source": [
        "<a href=\"https://colab.research.google.com/github/financieras/curso_python/blob/main/retos/reto188.ipynb\" target=\"_parent\"><img src=\"https://colab.research.google.com/assets/colab-badge.svg\" alt=\"Open In Colab\"/></a>"
      ]
    },
    {
      "cell_type": "markdown",
      "source": [
        "## Reto 188: ¿Cuántas vocales?\n",
        "* Cree una función que tome una palabra y devuelva el número de vocales que contiene.\n",
        "* La palabra que se se envía a la función como argumento va en inglés para evitar caso de tildes y diéresis.\n",
        "* Ejemplos:\n",
        "    1. count_vowels(\"Celebration\") ➞ 5\n",
        "    2. count_vowels(\"Palm\") ➞ 1\n",
        "    3. count_vowels(\"Prediction\") ➞ 4\n",
        "    4. count_vowels(\"Atlanta\") ➞ 3"
      ],
      "metadata": {
        "id": "pT4bUsjG54_C"
      }
    },
    {
      "cell_type": "code",
      "source": [
        "def count_vowels(palabra):\n",
        "    pass"
      ],
      "metadata": {
        "id": "20zbgKEC54_D"
      },
      "execution_count": null,
      "outputs": []
    },
    {
      "cell_type": "code",
      "source": [
        "print(count_vowels(\"Celebration\"))\n",
        "print(count_vowels(\"Palm\"))\n",
        "print(count_vowels(\"Prediction\"))\n",
        "print(count_vowels(\"Atlanta\"))"
      ],
      "metadata": {
        "id": "cGfDYXcy54_D"
      },
      "execution_count": null,
      "outputs": []
    }
  ]
}