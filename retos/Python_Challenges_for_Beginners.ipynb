{
  "nbformat": 4,
  "nbformat_minor": 0,
  "metadata": {
    "colab": {
      "provenance": [],
      "authorship_tag": "ABX9TyMm1eXIvzxCIgQ320xVw6FB",
      "include_colab_link": true
    },
    "kernelspec": {
      "name": "python3",
      "display_name": "Python 3"
    },
    "language_info": {
      "name": "python"
    }
  },
  "cells": [
    {
      "cell_type": "markdown",
      "metadata": {
        "id": "view-in-github",
        "colab_type": "text"
      },
      "source": [
        "<a href=\"https://colab.research.google.com/github/financieras/curso_python/blob/main/retos/Python_Challenges_for_Beginners.ipynb\" target=\"_parent\"><img src=\"https://colab.research.google.com/assets/colab-badge.svg\" alt=\"Open In Colab\"/></a>"
      ]
    },
    {
      "cell_type": "markdown",
      "source": [
        "# Python Challenges for Beginners\n",
        "Aprende Python resolviendo retos."
      ],
      "metadata": {
        "id": "CKR9Yr8Istzp"
      }
    },
    {
      "cell_type": "markdown",
      "source": [
        "## Reto 1 \"Hello, World!\"\n",
        "* Imprime tres líneas:\n",
        "    1. En la primera pone \"Hello, World!\"\n",
        "    2. En la segunda pone \"Me llamo `<nombre>` y tengo `<edad>` años.\"\n",
        "        - Donde `<nombre>` es una variable que puede cambiar.\n",
        "        - Donde `<edad>` es una variable con un número entero.\n",
        "    3. En la tercera línea pone \"El próximo año tendré `<edad2>` años.\"\n",
        "        - Donde `<edad2>` es un entero que recoje la edad que tendrás sumando 1 a tu edad actual.\n",
        "\n"
      ],
      "metadata": {
        "id": "f8ukzxJ6s2c4"
      }
    },
    {
      "cell_type": "markdown",
      "source": [
        "## Reto 2 Imprime series de números\n",
        "Imprime tres series de números:\n",
        "1. Usa un bucle `for` para imprimir en horizontal los números entre -10 y 10 de uno en uno y separados por espacio\n",
        "2. Usa un bucle `while` para imprimir en horizontal, de forma descendente los números entre 100 y 0 de cinco en cinco"
      ],
      "metadata": {
        "id": "gZ5BfDTc3zYj"
      }
    }
  ]
}