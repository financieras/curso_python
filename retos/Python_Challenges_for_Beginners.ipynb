{
  "nbformat": 4,
  "nbformat_minor": 0,
  "metadata": {
    "colab": {
      "provenance": [],
      "authorship_tag": "ABX9TyPEfmoSVfFuHpc/NMEyDRlx",
      "include_colab_link": true
    },
    "kernelspec": {
      "name": "python3",
      "display_name": "Python 3"
    },
    "language_info": {
      "name": "python"
    }
  },
  "cells": [
    {
      "cell_type": "markdown",
      "metadata": {
        "id": "view-in-github",
        "colab_type": "text"
      },
      "source": [
        "<a href=\"https://colab.research.google.com/github/financieras/curso_python/blob/main/retos/Python_Challenges_for_Beginners.ipynb\" target=\"_parent\"><img src=\"https://colab.research.google.com/assets/colab-badge.svg\" alt=\"Open In Colab\"/></a>"
      ]
    },
    {
      "cell_type": "markdown",
      "source": [
        "# Python Challenges for Beginners\n",
        "Aprende Python resolviendo retos."
      ],
      "metadata": {
        "id": "CKR9Yr8Istzp"
      }
    },
    {
      "cell_type": "markdown",
      "source": [
        "## Reto 1: \"Hello, World!\"\n",
        "* Con los siguientes tres ejercicios vamos a imprimir unas frases y haremos uso de variables tanto de tipo texto (strings) como de números enteros (integers).\n",
        "\n"
      ],
      "metadata": {
        "id": "f8ukzxJ6s2c4"
      }
    },
    {
      "cell_type": "markdown",
      "source": [
        "### Reto 1.1\n",
        "* Imprime en la primera línea \"Hello, World!\"\n",
        "* En la segunda línea imprime tu nombre y edad."
      ],
      "metadata": {
        "id": "uT4Ba4MEQ6OX"
      }
    },
    {
      "cell_type": "markdown",
      "source": [
        "### Reto 1.2\n",
        "* Imprime \"Me llamo `<nombre>` y tengo `<edad>` años.\"\n",
        "    1. Donde `<nombre>` es una variable que puede cambiar.\n",
        "    2. Donde `<edad>` es una variable con un número entero."
      ],
      "metadata": {
        "id": "AtfRHKeIRIW7"
      }
    },
    {
      "cell_type": "markdown",
      "source": [
        "### Reto 1.3\n",
        "* Imprime \"El próximo año tendré `<edad_proxima>` años.\"\n",
        "* Donde `<edad_proxima>` es un entero que recoje la edad que tendrás sumando 1 a tu edad actual."
      ],
      "metadata": {
        "id": "wDEKTpF1SHuk"
      }
    },
    {
      "cell_type": "markdown",
      "source": [
        "## Reto 2: Series de números\n",
        "Imprime tres series de números.\n"
      ],
      "metadata": {
        "id": "gZ5BfDTc3zYj"
      }
    },
    {
      "cell_type": "markdown",
      "source": [
        "### Reto 2.1\n",
        "* Sin usar bucles, imprima una lista con los números pares entre 2 y 40."
      ],
      "metadata": {
        "id": "R7VpUsFrPuF9"
      }
    },
    {
      "cell_type": "markdown",
      "source": [
        "### Reto 2.2\n",
        "* Use un bucle `for` para imprimir en horizontal los números entre -10 y 10 de uno en uno y separados por espacio."
      ],
      "metadata": {
        "id": "MI6ZGLCfQAPB"
      }
    },
    {
      "cell_type": "markdown",
      "source": [
        "### Reto 2.3\n",
        "* Use un bucle `while` para imprimir en horizontal, los números entre 100 y 0 de cinco en cinco, separados por coma.\n",
        "* Observe que los números comienzan en 100 y van de forma descendente hasta llegar a 0, en intervalos de 5 en 5."
      ],
      "metadata": {
        "id": "xxyxtCkDQMN1"
      }
    },
    {
      "cell_type": "markdown",
      "source": [
        "## Reto 3: Elevar al cubo\n",
        "* Elevar un número al cubo de tres formas diferentes.\n",
        "* Crear la variable `n` con el número que queremos elevar."
      ],
      "metadata": {
        "id": "OxxHszM7hKyZ"
      }
    },
    {
      "cell_type": "markdown",
      "source": [
        "### Reto 3.1\n",
        "* Elevar `n` sin usar ninguna librería."
      ],
      "metadata": {
        "id": "30FBS_5oUbdM"
      }
    },
    {
      "cell_type": "markdown",
      "source": [
        "### Reto 3.2\n",
        "* Elevar `n` usando la librería `math`."
      ],
      "metadata": {
        "id": "FRSKh78-UigY"
      }
    },
    {
      "cell_type": "markdown",
      "source": [
        "### Reto 3.3\n",
        "* Crear una función que reciba `n` como parámetro y retorne el cubo de `n`.  \n",
        "* Invocar la función e imprimir el resultado."
      ],
      "metadata": {
        "id": "VVwhMP0_UiSU"
      }
    },
    {
      "cell_type": "markdown",
      "source": [
        "## Reto 4: Número par o impar\n",
        "Queremos detectar si un número es par o impar de tres formas diferentes."
      ],
      "metadata": {
        "id": "wLOeqSYyj7JE"
      }
    },
    {
      "cell_type": "markdown",
      "source": [
        "### Reto 4.1\n",
        "Pedir al usuario que introduzca un número entero por teclado y decir si es par o impar."
      ],
      "metadata": {
        "id": "jcUPAfllVdKD"
      }
    },
    {
      "cell_type": "markdown",
      "source": [
        "### Reto 4.2\n",
        "* Crear una función que dado un número entero diga si es par o impar.\n",
        "* Invocar la función 10 veces usando un bucle.\n",
        "* La función se invocará con números aleatorios enteros entre 1 y 100."
      ],
      "metadata": {
        "id": "uw6Sxw40VcYf"
      }
    },
    {
      "cell_type": "markdown",
      "source": [
        "### Reto 4.3\n",
        "* Generar 200 números aleatorio enteros entre 1 y 10, sin imprimirlos en pantalla.\n",
        "* Decir que porcentaje de pares e impares se han producido."
      ],
      "metadata": {
        "id": "AouXQSgZVcFv"
      }
    },
    {
      "cell_type": "markdown",
      "source": [
        "## Reto 5: Sumar números y hacer media\n",
        "Aprenderemos lo que es un acumulador y un contador."
      ],
      "metadata": {
        "id": "rdUS3aIEIat4"
      }
    },
    {
      "cell_type": "markdown",
      "source": [
        "### Reto 5.1\n",
        "* Sumar los números del 1 al 100.\n",
        "* Comprueba que el resultado sea 5.050\n"
      ],
      "metadata": {
        "id": "zD4o5KY5WQkw"
      }
    },
    {
      "cell_type": "markdown",
      "source": [
        "### Reto 5.2\n",
        "* Genera aleatoriamente dos números `n1` y `n2` entre 1 y 200 donde `n2` siempre sea mayor estricto que `n1`.  \n",
        "* Crear una función que de la suma de todos los números comprendidos entre `n1` y `n2`, ambos incluidos."
      ],
      "metadata": {
        "id": "6IyAR3eaWQbZ"
      }
    },
    {
      "cell_type": "markdown",
      "source": [
        "### Reto 5.3\n",
        "* Calcular la media de los números impares que hay entre dos números `n1` y `n2`.\n",
        "* Los números `n1` y `n2` son números enteros que se generan de forma aleatoria entre 1 y 200."
      ],
      "metadata": {
        "id": "hhEkVdrDWQRY"
      }
    },
    {
      "cell_type": "markdown",
      "source": [
        "## Reto 6: Contar vocales"
      ],
      "metadata": {
        "id": "npdZW_wp87A7"
      }
    },
    {
      "cell_type": "markdown",
      "source": [
        "### Reto 6.1\n",
        "* Crear una función que cuente el número de letras 'a' que hay en una palabra.\n",
        "* Probar con 'abracadabra' y también probar con otras palabras."
      ],
      "metadata": {
        "id": "fZr0muCCVY91"
      }
    },
    {
      "cell_type": "markdown",
      "source": [
        "### Reto 6.2\n",
        "* Dadas dos ciudades decir cuál tiene más vocales en su nombre, o bien si hay empate.\n",
        "* Cree una función llamada `cuenta_vocales(frase)` que al recibir una palabra o frase retorne cuántas vocales contiene.\n",
        "* Considere como vocales también las acentuadas y las mayúsculas.\n",
        "* Pruebe con `Fuengirola` y con `Ciudad Juárez`.\n",
        "* Pruebe con otras parejas de palabras."
      ],
      "metadata": {
        "id": "XFwg4zZuVdER"
      }
    },
    {
      "cell_type": "markdown",
      "source": [
        "### Reto 6.3\n",
        "* Dada una frase contar cuantas vocales hay de cada tipo.\n",
        "* Por ejemplo, la frase \"Admiro Ámsterdam y Los Ángeles\" tiene las siguientes vocales:\n",
        "    1. Existen 4 vocales de tipo 'a'.\n",
        "    2. Existen 3 vocales de tipo 'e'.\n",
        "    3. Existen 1 vocales de tipo 'i'.\n",
        "    4. Existen 2 vocales de tipo 'o'.\n",
        "    5. Existen 0 vocales de tipo 'u'."
      ],
      "metadata": {
        "id": "jArJvDL_Vd-Q"
      }
    },
    {
      "cell_type": "markdown",
      "source": [
        "## Reto 7: Ordenar números"
      ],
      "metadata": {
        "id": "ZLWu3r7QVEIk"
      }
    },
    {
      "cell_type": "markdown",
      "source": [
        "### Reto 7.1\n",
        "* Generar tres números aleatorios entre 10 y 99.\n",
        "* No se exige que los tres números aleatorios sean sin repetición, por lo que pudieran repetirse.\n",
        "* Imprimir los tres números ordenados, en orden ascendente.\n",
        "* Por ejemplo: 15 ≤ 42 ≤ 97"
      ],
      "metadata": {
        "id": "4xr3r1FAWUsy"
      }
    },
    {
      "cell_type": "markdown",
      "source": [
        "### Reto 7.2\n",
        "* Elegir aleatoriamente 10 parejas de letras del alfabeto\n",
        "* En cada pareja la primera letra debe ser una consonante y la segundo una vocal\n",
        "* Las consonantes deben ir en mayúsculas y las vocales en minúsculas\n",
        "* Imprimir las 10 parejas generadas aleatoriamente\n",
        "* Ordenar las parejas en orden descendente e imprimirlas"
      ],
      "metadata": {
        "id": "MsyX9qrQWg6F"
      }
    },
    {
      "cell_type": "markdown",
      "source": [
        "### Reto 7.3\n",
        "* Generar 10 números aleatorios sin repetición entre 10 y 99.\n",
        "* Ordenarlos usando el método de la burbuja"
      ],
      "metadata": {
        "id": "_aDX5TIJWgv5"
      }
    },
    {
      "cell_type": "markdown",
      "source": [
        "## Reto 8: Sumar números condicionales"
      ],
      "metadata": {
        "id": "AKWSbmge8A3T"
      }
    },
    {
      "cell_type": "markdown",
      "source": [
        "### Reto 8.1\n",
        "* Generar una lista de 10 números aleatorios comprendidos entre -10 y 10.\n",
        "* Imprimir la lista generada\n",
        "* Mostrar la suma de los números positivos"
      ],
      "metadata": {
        "id": "fghXCznV8JF4"
      }
    },
    {
      "cell_type": "markdown",
      "source": [
        "### Reto 8.2\n",
        "* Generar una lista de 50 números aleatorios sin repetición comprendidos entre 1 y 100. No imprima esta lista.\n",
        "* Obtener una sublista de la anterior que contenga solo los números que sean múltiplos de 10 o de 15.\n",
        "* Imprimir la sublista generada.\n",
        "* Dar la suma de la sublita anterior."
      ],
      "metadata": {
        "id": "vlMfqkAyOiws"
      }
    },
    {
      "cell_type": "markdown",
      "source": [
        "### Reto 8.3\n",
        "* Genera una lista de 50 números aleatorios entre 1 y 100.\n",
        "* Pide al usuario ingresar un número `n` entre 2 y 100.\n",
        "* Si el número introducido no está en ese rango, seguir pidiendo el valor de `n` hasta que se cumpla lo pedido.\n",
        "* Encuentre todos los múltiplos del número `n` introducido en la lista. Imprima esos números.\n",
        "* Da la suma de esos números."
      ],
      "metadata": {
        "id": "GFqDQG3WV6Ws"
      }
    }
  ]
}