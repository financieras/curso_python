{
  "nbformat": 4,
  "nbformat_minor": 0,
  "metadata": {
    "colab": {
      "provenance": [],
      "authorship_tag": "ABX9TyO80BEoTz0cAwDuNHw5JW/L",
      "include_colab_link": true
    },
    "kernelspec": {
      "name": "python3",
      "display_name": "Python 3"
    },
    "language_info": {
      "name": "python"
    }
  },
  "cells": [
    {
      "cell_type": "markdown",
      "metadata": {
        "id": "view-in-github",
        "colab_type": "text"
      },
      "source": [
        "<a href=\"https://colab.research.google.com/github/financieras/curso_python/blob/main/retos/Python_Challenges_for_Beginners.ipynb\" target=\"_parent\"><img src=\"https://colab.research.google.com/assets/colab-badge.svg\" alt=\"Open In Colab\"/></a>"
      ]
    },
    {
      "cell_type": "markdown",
      "source": [
        "# Python Challenges for Beginners\n",
        "Aprende Python resolviendo retos."
      ],
      "metadata": {
        "id": "CKR9Yr8Istzp"
      }
    },
    {
      "cell_type": "markdown",
      "source": [
        "## Reto 1 \"Hello, World!\"\n",
        "* Imprime tres líneas:\n",
        "    1. En la primera escribir \"Hello, World!\"\n",
        "    2. En la segunda escribir \"Me llamo `<nombre>` y tengo `<edad>` años.\"\n",
        "        - Donde `<nombre>` es una variable que puede cambiar.\n",
        "        - Donde `<edad>` es una variable con un número entero.\n",
        "    3. En la tercera línea escribir \"El próximo año tendré `<edad2>` años.\"\n",
        "        - Donde `<edad2>` es un entero que recoje la edad que tendrás sumando 1 a tu edad actual.\n",
        "\n"
      ],
      "metadata": {
        "id": "f8ukzxJ6s2c4"
      }
    },
    {
      "cell_type": "markdown",
      "source": [
        "## Reto 2 Series de números\n",
        "Imprime tres series de números:\n",
        "1. Sin usar bucles, imprimer una lista con los números pares entre 2 y 40.\n",
        "2. Usa un bucle `for` para imprimir en horizontal los números entre -10 y 10 de uno en uno y separados por espacio\n",
        "3. Usa un bucle `while` para imprimir en horizontal, los números entre 100 y 0 de cinco en cinco, separados por coma.  \n",
        "    Observa que los números comienzan en 100 y van de forma descendente hasta llegar a 0, en intervalos de 5 en 5.\n"
      ],
      "metadata": {
        "id": "gZ5BfDTc3zYj"
      }
    },
    {
      "cell_type": "markdown",
      "source": [
        "## Reto 3 Elevar al cubo\n",
        "Elevar un número al cubo de tres formas diferentes. Crear la variable `n` con el número que queremos elevar:\n",
        "1. Elevar `n` sin usar ninguna librería\n",
        "2. Elevar `n` usando la librería `math`\n",
        "3. Crear una función que reciba `n` como parámetro y retorne el cubo de `n`.  \n",
        "    Invocar la función en imprimir el resultado.\n"
      ],
      "metadata": {
        "id": "OxxHszM7hKyZ"
      }
    },
    {
      "cell_type": "markdown",
      "source": [
        "## Reto 4 Número par o impar\n",
        "Queremos detectar si un número es par o impar de tres formas diferentes.\n",
        "1. Pedir al usuario que introduzca un número entero por teclado y decir si es par o impar.\n",
        "2. Crear una función que dado un número entero diga si es par o impar.  \n",
        "    Invocar la función 10 veces usando un bucle.  \n",
        "    La función se invocará con números entre 1 y 100, obtenidos de forma aleatoria.\n",
        "3. Generar 200 números aleatorio enteros entre 1 y 10 y decir que porcentaje de pares e impares se han producido."
      ],
      "metadata": {
        "id": "wLOeqSYyj7JE"
      }
    },
    {
      "cell_type": "markdown",
      "source": [
        "## Reto 5 Operar con números\n",
        "1. Sumar los números del 1 al 100. Comprueba que el resultado sea 5.050\n",
        "2. Genera aleatoriamente dos números n1 y n2 entre 1 y 200 donde n2 siempre sea mayor estricto que n1. Crear una función que de la suma de todos los números comprendidos entre n1 y n2, ambos incluidos."
      ],
      "metadata": {
        "id": "rdUS3aIEIat4"
      }
    }
  ]
}