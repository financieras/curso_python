{
  "nbformat": 4,
  "nbformat_minor": 0,
  "metadata": {
    "colab": {
      "provenance": [],
      "authorship_tag": "ABX9TyOgbZKhTOPxqKgz5MpsdW99",
      "include_colab_link": true
    },
    "kernelspec": {
      "name": "python3",
      "display_name": "Python 3"
    },
    "language_info": {
      "name": "python"
    }
  },
  "cells": [
    {
      "cell_type": "markdown",
      "metadata": {
        "id": "view-in-github",
        "colab_type": "text"
      },
      "source": [
        "<a href=\"https://colab.research.google.com/github/financieras/curso_python/blob/main/retos/Python_Challenges_for_Beginners.ipynb\" target=\"_parent\"><img src=\"https://colab.research.google.com/assets/colab-badge.svg\" alt=\"Open In Colab\"/></a>"
      ]
    },
    {
      "cell_type": "markdown",
      "source": [
        "# Python Challenges for Beginners\n",
        "Aprende Python resolviendo retos."
      ],
      "metadata": {
        "id": "CKR9Yr8Istzp"
      }
    },
    {
      "cell_type": "markdown",
      "source": [
        "## Reto 1: \"Hello, World!\"\n",
        "* Imprime tres líneas:\n",
        "    1. En la primera escribir \"Hello, World!\"\n",
        "    2. En la segunda escribir \"Me llamo `<nombre>` y tengo `<edad>` años.\"\n",
        "        - Donde `<nombre>` es una variable que puede cambiar.\n",
        "        - Donde `<edad>` es una variable con un número entero.\n",
        "    3. En la tercera línea escribir \"El próximo año tendré `<edad2>` años.\"\n",
        "        - Donde `<edad2>` es un entero que recoje la edad que tendrás sumando 1 a tu edad actual.\n",
        "\n"
      ],
      "metadata": {
        "id": "f8ukzxJ6s2c4"
      }
    },
    {
      "cell_type": "markdown",
      "source": [
        "## Reto 2: Series de números\n",
        "Imprime tres series de números.\n"
      ],
      "metadata": {
        "id": "gZ5BfDTc3zYj"
      }
    },
    {
      "cell_type": "markdown",
      "source": [
        "### Reto 2.1\n",
        "* Sin usar bucles, imprimer una lista con los números pares entre 2 y 40."
      ],
      "metadata": {
        "id": "R7VpUsFrPuF9"
      }
    },
    {
      "cell_type": "markdown",
      "source": [
        "### Reto 2.2\n",
        "* Usa un bucle `for` para imprimir en horizontal los números entre -10 y 10 de uno en uno y separados por espacio"
      ],
      "metadata": {
        "id": "MI6ZGLCfQAPB"
      }
    },
    {
      "cell_type": "markdown",
      "source": [
        "### Reto 3.3\n",
        "* Usa un bucle `while` para imprimir en horizontal, los números entre 100 y 0 de cinco en cinco, separados por coma.\n",
        "* Observe que los números comienzan en 100 y van de forma descendente hasta llegar a 0, en intervalos de 5 en 5."
      ],
      "metadata": {
        "id": "xxyxtCkDQMN1"
      }
    },
    {
      "cell_type": "markdown",
      "source": [
        "## Reto 3: Elevar al cubo\n",
        "* Elevar un número al cubo de tres formas diferentes.\n",
        "* Crear la variable `n` con el número que queremos elevar.\n",
        "### Reto 3.1\n",
        "* Elevar `n` sin usar ninguna librería\n",
        "### Reto 3.2\n",
        "* Elevar `n` usando la librería `math`\n",
        "### Reto 3.3\n",
        "* Crear una función que reciba `n` como parámetro y retorne el cubo de `n`.  \n",
        "* Invocar la función en imprimir el resultado.\n"
      ],
      "metadata": {
        "id": "OxxHszM7hKyZ"
      }
    },
    {
      "cell_type": "markdown",
      "source": [
        "## Reto 4: Número par o impar\n",
        "Queremos detectar si un número es par o impar de tres formas diferentes.\n",
        "1. Pedir al usuario que introduzca un número entero por teclado y decir si es par o impar.\n",
        "2. Crear una función que dado un número entero diga si es par o impar.  \n",
        "    Invocar la función 10 veces usando un bucle.  \n",
        "    La función se invocará con números entre 1 y 100, obtenidos de forma aleatoria.\n",
        "3. Generar 200 números aleatorio enteros entre 1 y 10 y decir que porcentaje de pares e impares se han producido."
      ],
      "metadata": {
        "id": "wLOeqSYyj7JE"
      }
    },
    {
      "cell_type": "markdown",
      "source": [
        "## Reto 5: Sumar números y hacer media\n",
        "1. Sumar los números del 1 al 100. Comprueba que el resultado sea 5.050\n",
        "\n",
        "2. Genera aleatoriamente dos números n1 y n2 entre 1 y 200 donde n2 siempre sea mayor estricto que n1.  \n",
        "    * Crear una función que de la suma de todos los números comprendidos entre n1 y n2, ambos incluidos.\n",
        "\n",
        "3. Calcular la media de los números impares que hay entre dos números n1 y n2.  \n",
        "Los números n1 y n2 son números enteros que se generan de forma aleatoria entre 1 y 200."
      ],
      "metadata": {
        "id": "rdUS3aIEIat4"
      }
    },
    {
      "cell_type": "markdown",
      "source": [
        "## Reto 6: Contar vocales\n",
        "1. Crear una función que cuente el número de letras 'a' que hay en una palabra.\n",
        "    * Probar con 'abracadabra' y también probar con otras palabras.\n",
        "2. Dadas dos ciudades decir cuál tiene más vocales en su nombre, o bien si hay empate.\n",
        "    * Cree una función llamada `cuenta_vocales(frase)` que al recibir una palabra o frase retorne cuántas vocales contiene.\n",
        "    * Considere como vocales también las acentuadas y las mayúsculas.\n",
        "    * Pruebe con `Fuengirola` y con `Ciudad Juárez`.\n",
        "    * Pruebe con otras parejas de palabras.\n",
        "3.  Dada una frase contar cuantas vocales hay de cada tipo.\n",
        "    * Por ejemplo, la frase \"Admiro Ámsterdam y Los Ángeles\" tiene las siguientes vocales:\n",
        "    - Existen 4 vocales de tipo 'a'.\n",
        "    - Existen 3 vocales de tipo 'e'.\n",
        "    - Existen 1 vocales de tipo 'i'.\n",
        "    - Existen 2 vocales de tipo 'o'.\n",
        "    - Existen 0 vocales de tipo 'u'."
      ],
      "metadata": {
        "id": "npdZW_wp87A7"
      }
    }
  ]
}