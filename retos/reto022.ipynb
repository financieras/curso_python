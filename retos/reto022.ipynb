{
  "nbformat": 4,
  "nbformat_minor": 0,
  "metadata": {
    "colab": {
      "provenance": [],
      "authorship_tag": "ABX9TyNf2wOCuzYlPIY5EAWf9pGR",
      "include_colab_link": true
    },
    "kernelspec": {
      "name": "python3",
      "display_name": "Python 3"
    },
    "language_info": {
      "name": "python"
    }
  },
  "cells": [
    {
      "cell_type": "markdown",
      "metadata": {
        "id": "view-in-github",
        "colab_type": "text"
      },
      "source": [
        "<a href=\"https://colab.research.google.com/github/financieras/curso_python/blob/main/retos/reto022.ipynb\" target=\"_parent\"><img src=\"https://colab.research.google.com/assets/colab-badge.svg\" alt=\"Open In Colab\"/></a>"
      ]
    },
    {
      "cell_type": "markdown",
      "source": [
        "## Reto 22: Diferencia entre el Max y el Min de una lista\n",
        "* Diferencia de números máximos y mínimos en la lista.\n",
        "* Ejemplos:\n",
        "    1. dif([10, 4, 1, 4, -50, 32, 21]) ➞ 82\n",
        "    2. dif([44, 32, 86, 19]) ➞ 67"
      ],
      "metadata": {
        "id": "jdFINvlIpjy_"
      }
    },
    {
      "cell_type": "code",
      "source": [
        "def dif(lista):\n",
        "    pass"
      ],
      "metadata": {
        "id": "xtx05YqpwvCe"
      },
      "execution_count": null,
      "outputs": []
    },
    {
      "cell_type": "code",
      "source": [
        "print(dif([10, 4, 1, 4, -50, 32, 21]))\n",
        "print(dif([44, 32, 86, 19]))"
      ],
      "metadata": {
        "id": "p3QV7P-LxAT5"
      },
      "execution_count": null,
      "outputs": []
    }
  ]
}