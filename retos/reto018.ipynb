{
  "nbformat": 4,
  "nbformat_minor": 0,
  "metadata": {
    "colab": {
      "provenance": [],
      "authorship_tag": "ABX9TyM2Rf5L/P+eL61tjUh4Rlm6",
      "include_colab_link": true
    },
    "kernelspec": {
      "name": "python3",
      "display_name": "Python 3"
    },
    "language_info": {
      "name": "python"
    }
  },
  "cells": [
    {
      "cell_type": "markdown",
      "metadata": {
        "id": "view-in-github",
        "colab_type": "text"
      },
      "source": [
        "<a href=\"https://colab.research.google.com/github/financieras/curso_python/blob/main/retos/reto018.ipynb\" target=\"_parent\"><img src=\"https://colab.research.google.com/assets/colab-badge.svg\" alt=\"Open In Colab\"/></a>"
      ]
    },
    {
      "cell_type": "markdown",
      "source": [
        "## Reto 18: Puntos de baloncesto\n",
        "* Estamos contando puntos para un partido de baloncesto, dada la cantidad de tiros de dos puntos y tiros de tres puntos anotados.\n",
        "* Encuentra los puntos finales para el equipo y devuelve ese valor.\n",
        "* Ejemplos:\n",
        "    1. puntos(1, 1) ➞ 5\n",
        "    2. puntos(7, 5) ➞ 29\n",
        "    3. puntos(38, 8) ➞ 100\n",
        "* El primer parámetro de la función hace referencia a los `tiros_de_dos`.\n",
        "* El segundo parámetro de la función hace referencia a los `tiros_de_tres`."
      ],
      "metadata": {
        "id": "6kkb_cIDSuql"
      }
    },
    {
      "cell_type": "code",
      "source": [
        "def puntos(tiros_de_dos, tiros_de_tres):\n",
        "    pass"
      ],
      "metadata": {
        "id": "v-WIWHneqwIW"
      },
      "execution_count": null,
      "outputs": []
    },
    {
      "cell_type": "code",
      "source": [
        "print(puntos(1, 1))\n",
        "print(puntos(7, 5))\n",
        "print(puntos(38, 8))"
      ],
      "metadata": {
        "id": "FjFNXeRCrDJf"
      },
      "execution_count": null,
      "outputs": []
    }
  ]
}