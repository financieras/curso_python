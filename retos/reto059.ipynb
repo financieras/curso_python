{
  "nbformat": 4,
  "nbformat_minor": 0,
  "metadata": {
    "colab": {
      "provenance": [],
      "authorship_tag": "ABX9TyNy/KnTpX1i4ArQutJw44u3",
      "include_colab_link": true
    },
    "kernelspec": {
      "name": "python3",
      "display_name": "Python 3"
    },
    "language_info": {
      "name": "python"
    }
  },
  "cells": [
    {
      "cell_type": "markdown",
      "metadata": {
        "id": "view-in-github",
        "colab_type": "text"
      },
      "source": [
        "<a href=\"https://colab.research.google.com/github/financieras/curso_python/blob/main/retos/reto059.ipynb\" target=\"_parent\"><img src=\"https://colab.research.google.com/assets/colab-badge.svg\" alt=\"Open In Colab\"/></a>"
      ]
    },
    {
      "cell_type": "markdown",
      "source": [
        "## Reto 59: Área de un Rectángulo\n",
        "* Cree una función que calcule el área de un rectángulo.\n",
        "* Si los argumentos no son ambos estrictamente positivos la función retornará `None`.\n",
        "* Ejemplos:\n",
        "    1. area(3, 4) ➞ 12\n",
        "    2. area(10, 11) ➞ 110\n",
        "    3. area(-1, 5) ➞ None\n",
        "    4. area(4, -9) ➞ None\n",
        "    5. area(-2, -3) ➞ None\n",
        "    6. area(0, 2) ➞ None"
      ],
      "metadata": {
        "id": "88P3tWD8z6i-"
      }
    },
    {
      "cell_type": "code",
      "source": [
        "def area(base, altura):\n",
        "    pass"
      ],
      "metadata": {
        "id": "0tSVkcli199U"
      },
      "execution_count": null,
      "outputs": []
    },
    {
      "cell_type": "code",
      "source": [
        "print(area(3, 4))\n",
        "print(area(10, 11))\n",
        "print(area(-1, 5))\n",
        "print(area(4, -9))\n",
        "print(area(-2, -3))\n",
        "print(area(0, 2))"
      ],
      "metadata": {
        "id": "ZK06VeCm199Z"
      },
      "execution_count": null,
      "outputs": []
    }
  ]
}