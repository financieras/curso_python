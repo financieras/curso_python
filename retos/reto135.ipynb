{
  "nbformat": 4,
  "nbformat_minor": 0,
  "metadata": {
    "colab": {
      "provenance": [],
      "authorship_tag": "ABX9TyNlE8sdvT81Ko6EnUeS+LwA",
      "include_colab_link": true
    },
    "kernelspec": {
      "name": "python3",
      "display_name": "Python 3"
    },
    "language_info": {
      "name": "python"
    }
  },
  "cells": [
    {
      "cell_type": "markdown",
      "metadata": {
        "id": "view-in-github",
        "colab_type": "text"
      },
      "source": [
        "<a href=\"https://colab.research.google.com/github/financieras/curso_python/blob/main/retos/reto135.ipynb\" target=\"_parent\"><img src=\"https://colab.research.google.com/assets/colab-badge.svg\" alt=\"Open In Colab\"/></a>"
      ]
    },
    {
      "cell_type": "markdown",
      "source": [
        "## Reto 135: Encuentra la bomba\n",
        "* Cree una función que encuentre la palabra \"bomba\" en la cadena dada (no distingue entre mayúsculas y minúsculas).\n",
        "* Si la encuentra, devuelva `\"¡Corre!\"`, de lo contrario, devuelva `\"No hay bomba, relax.\"`.\n",
        "* Ejemplos:\n",
        "    1. bomb(\"Hay una bomba.\") ➞ \"!Corre!\"\n",
        "    2. bomb(\"¿Crees que hay una Bomba?\") ➞ \"!Corre!\"\n",
        "    3. bomb(\"Solo es una Boa.\") ➞ \"No hay bomba, relax.\""
      ],
      "metadata": {
        "id": "Ika_USkdmVN_"
      }
    },
    {
      "cell_type": "code",
      "source": [
        "def bomb(frase):\n",
        "    pass"
      ],
      "metadata": {
        "id": "XELAU0nJ2ZMS"
      },
      "execution_count": null,
      "outputs": []
    },
    {
      "cell_type": "code",
      "source": [
        "print(bomb(\"Hay una bomba.\"))\n",
        "print(bomb(\"¿Crees que hay una Bomba?\"))\n",
        "print(bomb(\"Solo es una Boa.\"))"
      ],
      "metadata": {
        "id": "LyTXP1C02ZMS"
      },
      "execution_count": null,
      "outputs": []
    }
  ]
}