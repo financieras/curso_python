{
  "nbformat": 4,
  "nbformat_minor": 0,
  "metadata": {
    "colab": {
      "provenance": [],
      "authorship_tag": "ABX9TyPpxZQrpmWl3CePoTM7EsWi",
      "include_colab_link": true
    },
    "kernelspec": {
      "name": "python3",
      "display_name": "Python 3"
    },
    "language_info": {
      "name": "python"
    }
  },
  "cells": [
    {
      "cell_type": "markdown",
      "metadata": {
        "id": "view-in-github",
        "colab_type": "text"
      },
      "source": [
        "<a href=\"https://colab.research.google.com/github/financieras/curso_python/blob/main/retos/reto076.ipynb\" target=\"_parent\"><img src=\"https://colab.research.google.com/assets/colab-badge.svg\" alt=\"Open In Colab\"/></a>"
      ]
    },
    {
      "cell_type": "markdown",
      "source": [
        "## Reto 76: Contador condicional\n",
        "* Dada una lista de números enteros decir cuantos son mayores o iguales a 10.\n",
        "* Ejemplos:\n",
        "    1. mayores_a_diez([7, 10, 24, 1, 50]) ➞ 3\n",
        "    2. mayores_a_diez([1, 2, 20]) ➞ 1\n",
        "    3. mayores_a_diez([-1, 12, 20, 30]) ➞ 3\n",
        "    4. mayores_a_diez([]) ➞ 0"
      ],
      "metadata": {
        "id": "ByAlOR_yWfaa"
      }
    },
    {
      "cell_type": "code",
      "source": [
        "def mayores_a_diez(lista):\n",
        "    pass"
      ],
      "metadata": {
        "id": "sNzO90p524I_"
      },
      "execution_count": null,
      "outputs": []
    },
    {
      "cell_type": "code",
      "source": [
        "print(mayores_a_diez([7, 10, 24, 1, 50]))\n",
        "print(mayores_a_diez([1, 2, 20]))\n",
        "print(mayores_a_diez([-1, 12, 20, 30]))\n",
        "print(mayores_a_diez([]))"
      ],
      "metadata": {
        "id": "kc6Ck63C24I_"
      },
      "execution_count": null,
      "outputs": []
    }
  ]
}