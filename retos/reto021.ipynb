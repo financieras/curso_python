{
  "nbformat": 4,
  "nbformat_minor": 0,
  "metadata": {
    "colab": {
      "provenance": [],
      "authorship_tag": "ABX9TyPAM14UhH9q2H6/RE+hKZ4m",
      "include_colab_link": true
    },
    "kernelspec": {
      "name": "python3",
      "display_name": "Python 3"
    },
    "language_info": {
      "name": "python"
    }
  },
  "cells": [
    {
      "cell_type": "markdown",
      "metadata": {
        "id": "view-in-github",
        "colab_type": "text"
      },
      "source": [
        "<a href=\"https://colab.research.google.com/github/financieras/curso_python/blob/main/retos/reto021.ipynb\" target=\"_parent\"><img src=\"https://colab.research.google.com/assets/colab-badge.svg\" alt=\"Open In Colab\"/></a>"
      ]
    },
    {
      "cell_type": "markdown",
      "source": [
        "## Reto 21: Mínimo una lista\n",
        "* Cree una función que tome una lista de números y devuelva el número más pequeño de la lista.\n",
        "* Los números pueden contener decimales y ser negativos.\n",
        "* Ejemplos:\n",
        "    1. minimo([34, 15, 88, 2]) ➞ 2\n",
        "    2. minimo([34, -345, -1, 100]) ➞ -345\n",
        "    3. minimo([-76, 1.345, 1, 0]) ➞ -76\n",
        "    4. minimo([0.4356, 0.8795, 0.5435, -0.9999]) ➞ -0.9999\n",
        "    5. minimo([7, 7, 7]) ➞ 7"
      ],
      "metadata": {
        "id": "kttACsV1x3q6"
      }
    },
    {
      "cell_type": "code",
      "source": [
        "def minimo(lista):\n",
        "    pass"
      ],
      "metadata": {
        "id": "qruxYiOIvWFE"
      },
      "execution_count": null,
      "outputs": []
    },
    {
      "cell_type": "code",
      "source": [
        "print(minimo([34, 15, 88, 2]))\n",
        "print(minimo([34, -345, -1, 100]))\n",
        "print(minimo([-76, 1.345, 1, 0]))\n",
        "print(minimo([0.4356, 0.8795, 0.5435, -0.9999]))\n",
        "print(minimo([7, 7, 7]))"
      ],
      "metadata": {
        "id": "y-vDS-WTvhcG"
      },
      "execution_count": null,
      "outputs": []
    }
  ]
}