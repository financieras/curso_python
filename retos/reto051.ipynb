{
  "nbformat": 4,
  "nbformat_minor": 0,
  "metadata": {
    "colab": {
      "provenance": [],
      "authorship_tag": "ABX9TyPV97dtOq3/0fZy2nNOc8C7",
      "include_colab_link": true
    },
    "kernelspec": {
      "name": "python3",
      "display_name": "Python 3"
    },
    "language_info": {
      "name": "python"
    }
  },
  "cells": [
    {
      "cell_type": "markdown",
      "metadata": {
        "id": "view-in-github",
        "colab_type": "text"
      },
      "source": [
        "<a href=\"https://colab.research.google.com/github/financieras/curso_python/blob/main/retos/reto051.ipynb\" target=\"_parent\"><img src=\"https://colab.research.google.com/assets/colab-badge.svg\" alt=\"Open In Colab\"/></a>"
      ]
    },
    {
      "cell_type": "markdown",
      "source": [
        "## Reto 51: Concatenar nombre y apellido\n",
        "* Una función recibe dos parámetros: `nombre` y `apellido`, en este orden.\n",
        "* La función retorna una cadena que contiene primero el `apellido` y luego el `nombre`, separados por coma y espacio.\n",
        "* Ejemplos:\n",
        "    1. concatenar_nombre(\"Jose\", \"Ruiz\") ➞ \"Ruiz, Jose\"\n",
        "    2. concatenar_nombre(\"Ana\", \"Díaz\") ➞ \"Díaz, Ana\"\n",
        "    3. concatenar_nombre(\"María\", \"Ortiz\") ➞ \"Ortiz, María\"\n"
      ],
      "metadata": {
        "id": "cx9UNV3Rzydb"
      }
    },
    {
      "cell_type": "code",
      "source": [
        "def concatenar_nombre(nombre, apellido):\n",
        "    pass"
      ],
      "metadata": {
        "id": "VKAUViKm1jwJ"
      },
      "execution_count": null,
      "outputs": []
    },
    {
      "cell_type": "code",
      "source": [
        "print(concatenar_nombre(\"Jose\", \"Ruiz\"))\n",
        "print(concatenar_nombre(\"Ana\", \"Díaz\"))\n",
        "print(concatenar_nombre(\"María\", \"Ortiz\"))"
      ],
      "metadata": {
        "id": "bryeAC5e1x2y"
      },
      "execution_count": null,
      "outputs": []
    }
  ]
}