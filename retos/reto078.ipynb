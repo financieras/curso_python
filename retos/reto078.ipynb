{
  "nbformat": 4,
  "nbformat_minor": 0,
  "metadata": {
    "colab": {
      "provenance": [],
      "authorship_tag": "ABX9TyMyBrqGYBR0BOTc6lx9Ctpd",
      "include_colab_link": true
    },
    "kernelspec": {
      "name": "python3",
      "display_name": "Python 3"
    },
    "language_info": {
      "name": "python"
    }
  },
  "cells": [
    {
      "cell_type": "markdown",
      "metadata": {
        "id": "view-in-github",
        "colab_type": "text"
      },
      "source": [
        "<a href=\"https://colab.research.google.com/github/financieras/curso_python/blob/main/retos/reto078.ipynb\" target=\"_parent\"><img src=\"https://colab.research.google.com/assets/colab-badge.svg\" alt=\"Open In Colab\"/></a>"
      ]
    },
    {
      "cell_type": "markdown",
      "source": [
        "## Reto 78: Comprobar espacios en una cadena\n",
        "* Cree una función que devuelva `True` si una cadena contiene espacios.\n",
        "* Ejemplos:\n",
        "    1. tiene_espacios(\"¿Qué tal estás?\") ➞ True\n",
        "    2. tiene_espacios(\" \") ➞ True\n",
        "    3. tiene_espacios(\"\") ➞ False\n",
        "    4. tiene_espacios(\"hello\") ➞ False\n",
        "    5. tiene_espacios(\",./!@#\") ➞ False\n",
        "* Una cadena vacía no contiene espacios."
      ],
      "metadata": {
        "id": "xjUPrJNzAku8"
      }
    },
    {
      "cell_type": "code",
      "execution_count": 22,
      "metadata": {
        "id": "OYNZLT9q_1Vg"
      },
      "outputs": [],
      "source": [
        "def tiene_espacios(cadena):\n",
        "    pass"
      ]
    },
    {
      "cell_type": "code",
      "source": [
        "print(tiene_espacios(\"¿Qué tal estás?\"))\n",
        "print(tiene_espacios(\" \"))\n",
        "print(tiene_espacios(\"\"))\n",
        "print(tiene_espacios(\"hola\"))\n",
        "print(tiene_espacios(\",./!@#\"))"
      ],
      "metadata": {
        "id": "kt6DH8ayA6Gs"
      },
      "execution_count": null,
      "outputs": []
    }
  ]
}