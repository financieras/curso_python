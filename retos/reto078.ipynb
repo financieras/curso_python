{
  "nbformat": 4,
  "nbformat_minor": 0,
  "metadata": {
    "colab": {
      "provenance": [],
      "authorship_tag": "ABX9TyPNisj1E2vwfvAnXfzB0JGF",
      "include_colab_link": true
    },
    "kernelspec": {
      "name": "python3",
      "display_name": "Python 3"
    },
    "language_info": {
      "name": "python"
    }
  },
  "cells": [
    {
      "cell_type": "markdown",
      "metadata": {
        "id": "view-in-github",
        "colab_type": "text"
      },
      "source": [
        "<a href=\"https://colab.research.google.com/github/financieras/curso_python/blob/main/retos/reto078.ipynb\" target=\"_parent\"><img src=\"https://colab.research.google.com/assets/colab-badge.svg\" alt=\"Open In Colab\"/></a>"
      ]
    },
    {
      "cell_type": "markdown",
      "source": [
        "## Reto 78: Comprobar espacios en una cadena\n",
        "* Cree una función que devuelva `True` si un string contiene espacios.\n",
        "* Una cadena vacía no contiene espacios.\n",
        "* Ejemplos:\n",
        "    1. has_spaces(\"hello\") ➞ False\n",
        "    2. has_spaces(\"hello, world\") ➞ True\n",
        "    3. has_spaces(\" \") ➞ True\n",
        "    4. has_spaces(\"\") ➞ False\n",
        "    5. has_spaces(\",./!@#\") ➞ False\n"
      ],
      "metadata": {
        "id": "ls0gwknEWfhq"
      }
    },
    {
      "cell_type": "code",
      "source": [
        "def has_spaces(txt):\n",
        "    pass"
      ],
      "metadata": {
        "id": "RN9WPfic23HY"
      },
      "execution_count": null,
      "outputs": []
    },
    {
      "cell_type": "code",
      "source": [
        "print(has_spaces(\"hello\"))\n",
        "print(has_spaces(\"hello, world\"))\n",
        "print(has_spaces(\" \"))\n",
        "print(has_spaces(\"\"))\n",
        "print(has_spaces(\",./!@#\"))"
      ],
      "metadata": {
        "id": "DCDFn7WN23HY"
      },
      "execution_count": null,
      "outputs": []
    }
  ]
}