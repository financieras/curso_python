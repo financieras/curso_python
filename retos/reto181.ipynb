{
  "nbformat": 4,
  "nbformat_minor": 0,
  "metadata": {
    "colab": {
      "provenance": [],
      "authorship_tag": "ABX9TyP2w3PtjM6JN3BEFRI+h97D",
      "include_colab_link": true
    },
    "kernelspec": {
      "name": "python3",
      "display_name": "Python 3"
    },
    "language_info": {
      "name": "python"
    }
  },
  "cells": [
    {
      "cell_type": "markdown",
      "metadata": {
        "id": "view-in-github",
        "colab_type": "text"
      },
      "source": [
        "<a href=\"https://colab.research.google.com/github/financieras/curso_python/blob/main/retos/reto181.ipynb\" target=\"_parent\"><img src=\"https://colab.research.google.com/assets/colab-badge.svg\" alt=\"Open In Colab\"/></a>"
      ]
    },
    {
      "cell_type": "markdown",
      "source": [
        "## Reto 181: Obtener el Factorial\n",
        "* Cree una función que tome un número entero, no negativo y devuelva el factorial de ese número.\n",
        "* El factorial de un número entero es el número multiplicado por todos los números enteros inferiores positivos.\n",
        "* El factorial de 5 es 5*4*3*2*1\n",
        "* El factorial de cero es 1, por definición.\n",
        "* Suponga que todas las entradas son mayores o iguales a 0.\n",
        "* Ejemplos:\n",
        "    1. factorial(3) ➞ 6\n",
        "    2. factorial(5) ➞ 120\n",
        "    3. factorial(13) ➞ 6227020800\n",
        "    4. factorial(0) ➞ 1"
      ],
      "metadata": {
        "id": "B5rvoAli8yIt"
      }
    },
    {
      "cell_type": "code",
      "source": [
        "def factorial(n):\n",
        "    pass"
      ],
      "metadata": {
        "id": "ev55LvpW9lbI"
      },
      "execution_count": null,
      "outputs": []
    },
    {
      "cell_type": "code",
      "source": [
        "print(factorial(3))\n",
        "print(factorial(5))\n",
        "print(factorial(13))\n",
        "print(factorial(0))"
      ],
      "metadata": {
        "id": "kB8GqcvH-n0X"
      },
      "execution_count": null,
      "outputs": []
    }
  ]
}