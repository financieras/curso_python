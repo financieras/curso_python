{
  "nbformat": 4,
  "nbformat_minor": 0,
  "metadata": {
    "colab": {
      "provenance": [],
      "authorship_tag": "ABX9TyMPbvRGdASZC74dBbuy4yS7",
      "include_colab_link": true
    },
    "kernelspec": {
      "name": "python3",
      "display_name": "Python 3"
    },
    "language_info": {
      "name": "python"
    }
  },
  "cells": [
    {
      "cell_type": "markdown",
      "metadata": {
        "id": "view-in-github",
        "colab_type": "text"
      },
      "source": [
        "<a href=\"https://colab.research.google.com/github/financieras/curso_python/blob/main/retos/practica13.ipynb\" target=\"_parent\"><img src=\"https://colab.research.google.com/assets/colab-badge.svg\" alt=\"Open In Colab\"/></a>"
      ]
    },
    {
      "cell_type": "markdown",
      "source": [
        "## Reto 121: Array de caracteres\n",
        "* En el lenguaje de programación C un string se trata como un array de caracteres que siempre termina con el caracter \"\\0\".\n",
        "* Cree una función que devolverá una cadena combinando la lista de caracteres dada, sin incluir el carácter final no deseado \"\\0\".\n",
        "* Ejemplos:\n",
        "    1. c_to_python([\"H\", \"i\", \"!\", \"\\0\"]) ➞ \"Hi!\"\n",
        "    2. c_to_python([\"H\", \"e\", \"l\", \"l\", \"o\", \"!\", \"\\0\"]) ➞ \"Hello!\"\n",
        "    3. c_to_python([\"J\", \"a\", \"v\", \"a\", \"S\", \"c\", \"r\", \"i\", \"p\", \"t\", \"\\0\"]) ➞ \"JavaScript\""
      ],
      "metadata": {
        "id": "8OtKBQRfz9Vi"
      }
    },
    {
      "cell_type": "code",
      "source": [
        "def c_to_python(lista):\n",
        "    pass"
      ],
      "metadata": {
        "id": "fAZOvff92f_j"
      },
      "execution_count": null,
      "outputs": []
    },
    {
      "cell_type": "code",
      "source": [
        "print(c_to_python([\"H\", \"i\", \"!\", \"\\0\"]))\n",
        "print(c_to_python([\"H\", \"e\", \"l\", \"l\", \"o\", \"!\", \"\\0\"]))\n",
        "print(c_to_python([\"J\", \"a\", \"v\", \"a\", \"S\", \"c\", \"r\", \"i\", \"p\", \"t\", \"\\0\"]))"
      ],
      "metadata": {
        "id": "c2mb4zSG2f_j"
      },
      "execution_count": null,
      "outputs": []
    },
    {
      "cell_type": "markdown",
      "source": [
        "## Reto 122: Votos a favor y votos en contra\n",
        "* Dado un diccionario que contiene recuentos de votos a favor y en contra, devuelva qué recuento de votos que debe mostrarse.\n",
        "* Se calcula restando el número de votos negativos de los votos positivos.\n",
        "* Ejemplos:\n",
        "    1. votos_netos({ \"positivos\": 13, \"negativos\": 0 }) ➞ 13\n",
        "    2. votos_netos({ \"positivos\": 2, \"negativos\": 33 }) ➞ -31\n",
        "    3. votos_netos({ \"positivos\": 32, \"negativos\": 32 }) ➞ 0\n"
      ],
      "metadata": {
        "id": "t3EoMcciz9a1"
      }
    },
    {
      "cell_type": "code",
      "source": [
        "def votos_netos(d):\n",
        "    pass"
      ],
      "metadata": {
        "id": "HBQyQls92fcw"
      },
      "execution_count": null,
      "outputs": []
    },
    {
      "cell_type": "code",
      "source": [
        "print(votos_netos({ \"positivos\": 13, \"negativos\": 0 }))\n",
        "print(votos_netos({ \"positivos\": 2, \"negativos\": 33 }))\n",
        "print(votos_netos({ \"positivos\": 32, \"negativos\": 32 }))"
      ],
      "metadata": {
        "id": "V9s2SunY2fcw"
      },
      "execution_count": null,
      "outputs": []
    },
    {
      "cell_type": "markdown",
      "source": [
        "## Reto 123: Case Insensitive Comparison\n",
        "* Comparación que no distingue entre mayúsculas y minúsculas\n",
        "* Escribe una función que valide si dos cadenas son idénticas.\n",
        "* Hágalo sin distinguir entre mayúsculas y minúsculas.\n",
        "* Ejemplos:\n",
        "    1. match(\"hello\", \"hELLo\") ➞ True\n",
        "    2. match(\"motivo\", \"emotivo\") ➞ False\n",
        "    3. match(\"master\", \"Master\") ➞ True\n",
        "    4. match(\"New York\", \"NewYork\") ➞ False"
      ],
      "metadata": {
        "id": "gt5ZkXFRmGeN"
      }
    },
    {
      "cell_type": "code",
      "source": [
        "def match(a, b):\n",
        "    pass"
      ],
      "metadata": {
        "id": "-xvczj7d2fGw"
      },
      "execution_count": null,
      "outputs": []
    },
    {
      "cell_type": "code",
      "source": [
        "print(match(\"hello\", \"hELLo\"))\n",
        "print(match(\"motivo\", \"emotivo\"))\n",
        "print(match(\"master\", \"Master\"))\n",
        "print(match(\"New York\", \"NewYork\"))"
      ],
      "metadata": {
        "id": "lCFB8JnK2fGw"
      },
      "execution_count": null,
      "outputs": []
    },
    {
      "cell_type": "markdown",
      "source": [
        "## Reto 124: Funciones anónimas\n",
        "* Una función clásica que doble un número podría ser esta:\n",
        "\n",
        "<pre>\n",
        "def dobla_numero(n):\n",
        "    return 2*n\n",
        "</pre>\n",
        "\n",
        "Para funciones sencillas podemos utilizar las funciones anónimas que en Python se llaman **funciones lambda**. Este ejemplo, para doblar un número con una función lambda sería así:\n",
        "\n",
        "<pre>\n",
        "dobla = lambda n: 2*n\n",
        "</pre>\n",
        "\n",
        "Para invocar la función escribiríamos lo siguiente:\n",
        "\n",
        "<pre>\n",
        "dobla(7)    # output: 14\n",
        "</pre>\n",
        "\n",
        "También pueden existir funciones lambda con varios parámetros, como por ejemplo esta que suma dos números:\n",
        "\n",
        "<pre>\n",
        "suma = lambda a,b: a+b\n",
        "</pre>\n",
        "\n",
        "Se puede invocar así:\n",
        "\n",
        "<pre>\n",
        "suma(4, 3)    # output: 7\n",
        "</pre>\n",
        "\n",
        "* En este reto se pide programar tres funciones anónimas para resolver estos tres casos.\n",
        "* Ejemplos:\n",
        "    1. triplica(5) ➞ 15\n",
        "    2. suma_uno(10) ➞ 11\n",
        "    4. resta_dos_numeros(10, 7) ➞ 3"
      ],
      "metadata": {
        "id": "0tXWqqfamNgC"
      }
    },
    {
      "cell_type": "code",
      "source": [
        "# usando funciones lambda"
      ],
      "metadata": {
        "id": "5HMp3lKY2eXZ"
      },
      "execution_count": null,
      "outputs": []
    },
    {
      "cell_type": "code",
      "source": [
        "print(triplica(5))\n",
        "print(suma_uno(10))\n",
        "print(resta_dos_numeros(10, 7) )"
      ],
      "metadata": {
        "id": "-ppAz6T02eXZ"
      },
      "execution_count": null,
      "outputs": []
    },
    {
      "cell_type": "markdown",
      "source": [
        "## Reto 125: Sumar y convertir a binario\n",
        "* Cree una función que tome dos números y devuelva su suma como una cadena binaria.\n",
        "* Ejemplos:\n",
        "    1. add_binary(1, 1) ➞ \"10\"\n",
        "    2. add_binary(1, 2) ➞ \"11\"\n",
        "    3. add_binary(4, 5) ➞ \"1001\""
      ],
      "metadata": {
        "id": "6WEwM3nwmUOs"
      }
    },
    {
      "cell_type": "code",
      "source": [
        "def add_binary(a, b):\n",
        "    pass"
      ],
      "metadata": {
        "id": "zr959QQ-2d5v"
      },
      "execution_count": null,
      "outputs": []
    },
    {
      "cell_type": "code",
      "source": [
        "print(add_binary(1, 1))\n",
        "print(add_binary(1, 2))\n",
        "print(add_binary(4, 5))"
      ],
      "metadata": {
        "id": "vwDlT1VQ2d5w"
      },
      "execution_count": null,
      "outputs": []
    },
    {
      "cell_type": "markdown",
      "source": [
        "## Reto 126: Lista filtrada\n",
        "* Cree la función:\n",
        "    - `list_between(n1, n2, lst)`\n",
        "* La función toma dos números `n1`, `n2` y una lista `lst` y devuelva otra lista que contenga todos los números en lst mayores que `n1` y menores que `n2`.\n",
        "* Ejemplos:\n",
        "    1. list_between(3, 8, [1, 5, 95, 0, 4, 7]) ➞ [5, 4, 7]\n",
        "    2. list_between(1, 10, [1, 10, 25, 8, 11, 6]) ➞ [8, 6]\n",
        "    3. list_between(7, 32, [1, 2, 3, 78]) ➞ []"
      ],
      "metadata": {
        "id": "6LLs980ImUYN"
      }
    },
    {
      "cell_type": "code",
      "source": [
        "def list_between(n1, n2, lst):\n",
        "    pass"
      ],
      "metadata": {
        "id": "zBtQ66Ul2djA"
      },
      "execution_count": null,
      "outputs": []
    },
    {
      "cell_type": "code",
      "source": [
        "print(list_between(3, 8, [1, 5, 95, 0, 4, 7]))\n",
        "print(list_between(1, 10, [1, 10, 25, 8, 11, 6]))\n",
        "print(list_between(7, 32, [1, 2, 3, 78]))"
      ],
      "metadata": {
        "id": "91PtvAEv2djF"
      },
      "execution_count": null,
      "outputs": []
    },
    {
      "cell_type": "markdown",
      "source": [
        "## Reto 127: Métodos Is...\n",
        "* Queremos eliminar números de una cadena determinada.\n",
        "* Tenemos un código que no funciona correctamente para superar este desafío.\n",
        "* Mire los ejemplos siguientes para tener una idea de lo que debe hacer la función.\n",
        "* Ejemplos:\n",
        "    1. remove_numbers(\"Madrid2025\") ➞ \"Madrid\"\n",
        "    2. remove_numbers(\"verano100Playas\") ➞ \"veranoPlayas\"\n",
        "    3. remove_numbers(\"M1a2r3í4a\") ➞ \"María\"\n",
        "\n",
        "* Este es el código que no logra su objetivo:\n",
        "<pre>\n",
        "def remove_numbers(string):\n",
        "    return \"\".join(i for i in string if int(i))\n",
        "</pre>"
      ],
      "metadata": {
        "id": "mMGOfOevmUel"
      }
    },
    {
      "cell_type": "code",
      "source": [
        "def remove_numbers(string):\n",
        "    pass"
      ],
      "metadata": {
        "id": "NSjCInLW2c5J"
      },
      "execution_count": null,
      "outputs": []
    },
    {
      "cell_type": "code",
      "source": [
        "print(remove_numbers(\"Madrid2025\"))\n",
        "print(remove_numbers(\"verano100Playas\"))\n",
        "print(remove_numbers(\"M1a2r3í4a\"))"
      ],
      "metadata": {
        "id": "y2GS7-c52c5J"
      },
      "execution_count": null,
      "outputs": []
    },
    {
      "cell_type": "markdown",
      "source": [
        "## Reto 128: Rellenos de sandwich\n",
        "* Dado un sandwich (como lista), retorne una lista con los rellenos que hay dentro del sándwich.\n",
        "* Esto implica ignorar el primer y el último elemento.\n",
        "* Ejemplos:\n",
        "    1. obtener_relleno([\"pan\", \"jamón\", \"queso\", \"jamón\", \"pan\"]) ➞ ['jamón', 'queso', 'jamón']\n",
        "    2. obtener_relleno([\"pan\", \"embutido\", \"tomate\", \"pan\"]) ➞ ['embutido', 'tomate']\n",
        "    3. obtener_relleno([\"pan\", \"lechuga\", \"bacon\", \"tomate\", \"pan\"]) ➞ ['lechuga', 'bacon', 'tomate']"
      ],
      "metadata": {
        "id": "jcxGJ6zZmUll"
      }
    },
    {
      "cell_type": "code",
      "source": [
        "def obtener_relleno(lista):\n",
        "    pass"
      ],
      "metadata": {
        "id": "5T7yO_iT2cg_"
      },
      "execution_count": null,
      "outputs": []
    },
    {
      "cell_type": "code",
      "source": [
        "print(obtener_relleno([\"pan\", \"jamón\", \"queso\", \"jamón\", \"pan\"]))\n",
        "print(obtener_relleno([\"pan\", \"embutido\", \"tomate\", \"pan\"]))\n",
        "print(obtener_relleno([\"pan\", \"lechuga\", \"bacon\", \"tomate\", \"pan\"]))"
      ],
      "metadata": {
        "id": "lGZlUuQS2cg_"
      },
      "execution_count": null,
      "outputs": []
    },
    {
      "cell_type": "markdown",
      "source": [
        "## Reto 129: Una sola letra cambia todo\n",
        "* Cree una función que reciba como parámetros dos letras y un frase.\n",
        "* La primera letra que se recibe como parámetro se reemplaza por la segunda letra recibida como parámetro y esto altera la frase.\n",
        "* Ejemplos:\n",
        "    1. cambiando('g', 'p', 'El gato en el tejado') ➞ \"El pato en el tejado\"\n",
        "    2. cambiando('s', 'n', 'Vivo en el quinto piso') ➞ \"Vivo en el quinto pino\"\n",
        "    3. cambiando('h', 'm', 'hola Madrid') ➞ \"mola Madrid\""
      ],
      "metadata": {
        "id": "F38bt7BfmUrK"
      }
    },
    {
      "cell_type": "code",
      "source": [
        "def cambiando(char1, char2, string):\n",
        "    pass"
      ],
      "metadata": {
        "id": "K45QIrCp2b7s"
      },
      "execution_count": null,
      "outputs": []
    },
    {
      "cell_type": "code",
      "source": [
        "print(cambiando('g', 'p', 'El gato en el tejado'))\n",
        "print(cambiando('s', 'n', 'Vivo en el quinto piso'))\n",
        "print(cambiando('h', 'm', 'hola Madrid'))"
      ],
      "metadata": {
        "id": "qdDaLFOL2b7t"
      },
      "execution_count": null,
      "outputs": []
    },
    {
      "cell_type": "markdown",
      "source": [
        "## Reto 130: Suma los mayores a cinco\n",
        "* Escribe una función que devuelva la suma de elementos estrictamente mayores que 5, en la lista dada.\n",
        "* Ejemplos:\n",
        "    1. sum_five([1, 5, 20, 30, 4, 9, 18]) ➞ 77\n",
        "    2. sum_five([1, 2, 3, 4]) ➞ 0\n",
        "    3. sum_five([10, 12, 28, 47, 55, 100]) ➞ 252"
      ],
      "metadata": {
        "id": "HfzOcsTSmUxK"
      }
    },
    {
      "cell_type": "code",
      "source": [
        "def sum_five(lst):\n",
        "    pass"
      ],
      "metadata": {
        "id": "diRYFu8m2bSL"
      },
      "execution_count": null,
      "outputs": []
    },
    {
      "cell_type": "code",
      "source": [
        "print(sum_five([1, 5, 20, 30, 4, 9, 18]))\n",
        "print(sum_five([1, 2, 3, 4]))\n",
        "print(sum_five([10, 12, 28, 47, 55, 100]))"
      ],
      "metadata": {
        "id": "xEUSFGBt2bSL"
      },
      "execution_count": null,
      "outputs": []
    }
  ]
}