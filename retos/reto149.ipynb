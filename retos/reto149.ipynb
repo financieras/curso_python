{
  "nbformat": 4,
  "nbformat_minor": 0,
  "metadata": {
    "colab": {
      "provenance": [],
      "authorship_tag": "ABX9TyMoFlxLrhtQcW0XZoU8v2Uo",
      "include_colab_link": true
    },
    "kernelspec": {
      "name": "python3",
      "display_name": "Python 3"
    },
    "language_info": {
      "name": "python"
    }
  },
  "cells": [
    {
      "cell_type": "markdown",
      "metadata": {
        "id": "view-in-github",
        "colab_type": "text"
      },
      "source": [
        "<a href=\"https://colab.research.google.com/github/financieras/curso_python/blob/main/retos/reto149.ipynb\" target=\"_parent\"><img src=\"https://colab.research.google.com/assets/colab-badge.svg\" alt=\"Open In Colab\"/></a>"
      ]
    },
    {
      "cell_type": "markdown",
      "source": [
        "## Reto 149: La letra prohibida\n",
        "* Dada una letra y una lista de palabras, indique si la letra no aparece en ninguna de las palabras.\n",
        "* Todas las entradas proporcionadas estarán en minúsculas.\n",
        "* Ejemplos:\n",
        "    1. forbidden_letter(\"r\", [\"rock\", \"paper\", \"scissors\"]) ➞ False\n",
        "    2. forbidden_letter(\"a\", [\"spoon\", \"fork\", \"knife\"]) ➞ True\n",
        "    3. forbidden_letter(\"m\", []) ➞ True"
      ],
      "metadata": {
        "id": "_6MLjRP9mWlf"
      }
    },
    {
      "cell_type": "code",
      "source": [
        "def forbidden_letter(letra, lista):\n",
        "    pass"
      ],
      "metadata": {
        "id": "ECgG_5Sj2Nrw"
      },
      "execution_count": null,
      "outputs": []
    },
    {
      "cell_type": "code",
      "source": [
        "print(forbidden_letter(\"r\", [\"rock\", \"paper\", \"scissors\"]))\n",
        "print(forbidden_letter(\"a\", [\"spoon\", \"fork\", \"knife\"]))\n",
        "print(forbidden_letter(\"m\", []))"
      ],
      "metadata": {
        "id": "q34_8YEU2Nrw"
      },
      "execution_count": null,
      "outputs": []
    }
  ]
}