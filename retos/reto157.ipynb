{
  "nbformat": 4,
  "nbformat_minor": 0,
  "metadata": {
    "colab": {
      "provenance": [],
      "authorship_tag": "ABX9TyNiU4cxNAOVpm64igeAMt3+",
      "include_colab_link": true
    },
    "kernelspec": {
      "name": "python3",
      "display_name": "Python 3"
    },
    "language_info": {
      "name": "python"
    }
  },
  "cells": [
    {
      "cell_type": "markdown",
      "metadata": {
        "id": "view-in-github",
        "colab_type": "text"
      },
      "source": [
        "<a href=\"https://colab.research.google.com/github/financieras/curso_python/blob/main/retos/reto157.ipynb\" target=\"_parent\"><img src=\"https://colab.research.google.com/assets/colab-badge.svg\" alt=\"Open In Colab\"/></a>"
      ]
    },
    {
      "cell_type": "markdown",
      "source": [
        "## Reto 157: Repetir el último caracter\n",
        "* Cree una función que haga que el último carácter de una cadena se repita n veces.\n",
        "* Ejemplos:\n",
        "    1. modify_last(\"Hello\", 3) ➞ \"Hellooo\"\n",
        "    2. modify_last(\"hey\", 6) ➞ \"heyyyyyy\"\n",
        "    3.modify_last(\"y sin embargo se mueve!\", 5) ➞ \"y sin embargo se mueve!!!!!\""
      ],
      "metadata": {
        "id": "0JyFn9G4mXVs"
      }
    },
    {
      "cell_type": "code",
      "source": [
        "def modify_last(txt, n):\n",
        "    pass"
      ],
      "metadata": {
        "id": "gvew9pDb2Io7"
      },
      "execution_count": null,
      "outputs": []
    },
    {
      "cell_type": "code",
      "source": [
        "print(modify_last(\"Hello\", 3))\n",
        "print(modify_last(\"hey\", 6))\n",
        "print(modify_last(\"y sin embargo se mueve!\", 5))"
      ],
      "metadata": {
        "id": "GrhX2E432Io8"
      },
      "execution_count": null,
      "outputs": []
    }
  ]
}