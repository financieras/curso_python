{
  "nbformat": 4,
  "nbformat_minor": 0,
  "metadata": {
    "colab": {
      "provenance": [],
      "authorship_tag": "ABX9TyOa58txK8lia4cLirFhRn1k",
      "include_colab_link": true
    },
    "kernelspec": {
      "name": "python3",
      "display_name": "Python 3"
    },
    "language_info": {
      "name": "python"
    }
  },
  "cells": [
    {
      "cell_type": "markdown",
      "metadata": {
        "id": "view-in-github",
        "colab_type": "text"
      },
      "source": [
        "<a href=\"https://colab.research.google.com/github/financieras/curso_python/blob/main/retos/reto114.ipynb\" target=\"_parent\"><img src=\"https://colab.research.google.com/assets/colab-badge.svg\" alt=\"Open In Colab\"/></a>"
      ]
    },
    {
      "cell_type": "markdown",
      "source": [
        "## Reto 114: Diccionario vacío\n",
        "* Escriba una función que devuelva Verdadero si un diccionario está vacío y Falso en caso contrario.\n",
        "* Ejemplos:\n",
        "    1. is_empty({}) ➞ True\n",
        "    1. is_empty({ }) ➞ True\n",
        "    2. is_empty({ \"a\": 1 }) ➞ False\n",
        "    3. is_empty(dict()) ➞ True\n",
        "    4. is_empty({'': []} ➞ False\n"
      ],
      "metadata": {
        "id": "mpfdl2aXntoU"
      }
    },
    {
      "cell_type": "code",
      "source": [
        "def is_empty(d):\n",
        "    pass"
      ],
      "metadata": {
        "id": "0fG6lO2U2ju1"
      },
      "execution_count": null,
      "outputs": []
    },
    {
      "cell_type": "code",
      "source": [
        "print(is_empty({}))\n",
        "print(is_empty({ }))\n",
        "print(is_empty({ \"a\": 1 }))\n",
        "print(is_empty(dict()))\n",
        "print(is_empty({'': []}))"
      ],
      "metadata": {
        "id": "iz8Lk9XD2ju2"
      },
      "execution_count": null,
      "outputs": []
    }
  ]
}