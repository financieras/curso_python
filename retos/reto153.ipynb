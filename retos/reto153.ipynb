{
  "nbformat": 4,
  "nbformat_minor": 0,
  "metadata": {
    "colab": {
      "provenance": [],
      "authorship_tag": "ABX9TyObgpWXa3aE19Ob5B8pl4mS",
      "include_colab_link": true
    },
    "kernelspec": {
      "name": "python3",
      "display_name": "Python 3"
    },
    "language_info": {
      "name": "python"
    }
  },
  "cells": [
    {
      "cell_type": "markdown",
      "metadata": {
        "id": "view-in-github",
        "colab_type": "text"
      },
      "source": [
        "<a href=\"https://colab.research.google.com/github/financieras/curso_python/blob/main/retos/reto153.ipynb\" target=\"_parent\"><img src=\"https://colab.research.google.com/assets/colab-badge.svg\" alt=\"Open In Colab\"/></a>"
      ]
    },
    {
      "cell_type": "markdown",
      "source": [
        "## Reto 153: Un día en el mercado\n",
        "* Bill y Will partirán hacia la feria anual.\n",
        "* Mientras se acercan a los puestos, Bill dice que podrá llevar a casa más cosas que Will.\n",
        "* Will lo toma como un desafío, Will lo refuta y comienza la competición.\n",
        "* Bill tiene un espacio de inventario infinito, pero una cantidad limitada de monedas.\n",
        "* Will tiene una cantidad infinita de monedas, pero un espacio de inventario limitado.\n",
        "* Los argumentos de la función que debe crear van en este orden:\n",
        "    - `who_wins_tonight(coins, space, price, size)``\n",
        "    - Primero: La camtodad de monedas de Bill.\n",
        "    - Segundo: La cantidad de espacio de inventario de Will.\n",
        "    - Tercero: El precio del artículo.\n",
        "    - Cuarto: El tamaño del artículo.\n",
        "* Ejemplo resuelto:\n",
        "    - `who_wins_tonight(40, 96, 5, 10) ➞ \"Will\"`\n",
        "    - Cada prodcuto cursta 5 monedas y ocupa un espacio de inventario de 10.\n",
        "    - Bill puede comprar un máximo de 8 productos (40 coins DIV 5 = 8).\n",
        "    - Will sólo podrá llevar a casa un máximo de 9 artículos. (96 inventory spaces DIV 10 = 9). En realidad 96/5 es 9.6 pero se toma la parte entera, redondeando por defecto.\n",
        "    - Will es el ganador en este caso.\n",
        "* Ejemplos:\n",
        "    1. who_wins_tonight(20, 20, 5, 10) ➞ \"Bill\"\n",
        "    2. who_wins_tonight(10, 2, 20, 1) ➞ \"Will\"\n",
        "    3. who_wins_tonight(3, 7, 2, 5) ➞ \"Tie\"\n",
        "    4. who_wins_tonight(40, 96, 5, 10) ➞ \"Will\"\n",
        "* DIV significa división entera. Eso significa que redondeas hacia abajo después de dividir.\n",
        "* Devuelve \"Tie\" (Empate) si ambos contendientes pueden permitirse la misma cantidad de cosas.\n",
        "* Todos los números serán números enteros positivos."
      ],
      "metadata": {
        "id": "NDwjfe7amW-g"
      }
    },
    {
      "cell_type": "code",
      "source": [
        "def who_wins_tonight(coins, space, price, size):\n",
        "    pass"
      ],
      "metadata": {
        "id": "smNiNTe32KlU"
      },
      "execution_count": null,
      "outputs": []
    },
    {
      "cell_type": "code",
      "source": [
        "print(who_wins_tonight(20, 20, 5, 10))\n",
        "print(who_wins_tonight(10, 2, 20, 1))\n",
        "print(who_wins_tonight(3, 7, 2, 5))\n",
        "print(who_wins_tonight(40, 96, 5, 10))"
      ],
      "metadata": {
        "id": "upeKBXjC2KlU"
      },
      "execution_count": null,
      "outputs": []
    }
  ]
}