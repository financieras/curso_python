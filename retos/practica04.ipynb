{
  "nbformat": 4,
  "nbformat_minor": 0,
  "metadata": {
    "colab": {
      "provenance": [],
      "authorship_tag": "ABX9TyMlK9a0AwIJuaUvQPq1JAZD",
      "include_colab_link": true
    },
    "kernelspec": {
      "name": "python3",
      "display_name": "Python 3"
    },
    "language_info": {
      "name": "python"
    }
  },
  "cells": [
    {
      "cell_type": "markdown",
      "metadata": {
        "id": "view-in-github",
        "colab_type": "text"
      },
      "source": [
        "<a href=\"https://colab.research.google.com/github/financieras/curso_python/blob/main/retos/practica04.ipynb\" target=\"_parent\"><img src=\"https://colab.research.google.com/assets/colab-badge.svg\" alt=\"Open In Colab\"/></a>"
      ]
    },
    {
      "cell_type": "markdown",
      "source": [
        "## Reto 31: Convertir horas y minutos en segundos\n",
        "* Escribe una función que tome dos números enteros (horas, minutos) y devuelva el número de segundos contenidos en ese tiempo.\n",
        "* Ejemplos:\n",
        "    1. convert_to_seconds(1, 3) ➞ 3780\n",
        "    2. convert_to_seconds(2, 0) ➞ 7200\n",
        "    3. convert_to_seconds(0, 0) ➞ 0\n"
      ],
      "metadata": {
        "id": "lZj9FWGlykGc"
      }
    },
    {
      "cell_type": "code",
      "source": [
        "def convert_to_seconds(hours, minutes):\n",
        "    pass"
      ],
      "metadata": {
        "id": "b6mylZdeG7-8"
      },
      "execution_count": null,
      "outputs": []
    },
    {
      "cell_type": "code",
      "source": [
        "print(convert_to_seconds(1, 3))\n",
        "print(convert_to_seconds(2, 0))\n",
        "print(convert_to_seconds(0, 0))"
      ],
      "metadata": {
        "id": "QhoQTqoMHFG3"
      },
      "execution_count": null,
      "outputs": []
    },
    {
      "cell_type": "markdown",
      "source": [
        "## Reto 32: Diccionario de colores\n",
        "* Vamos a una escuela infantil y preguntamos a varios niños por los colores que conocen en otros idiomas.\n",
        "* Cada respuesta la anotamos en un **diccionario** de Python.\n",
        "* Crear una función que retorne el número de respuestas contenidas en cada diccionario.\n",
        "* Ejemplos:\n",
        "    1. cantidad_colores({'rojo': 'red', 'azul': 'blue', 'amarillo': 'yellow', 'rosa': 'pink'}) ➞ 4\n",
        "    2. cantidad_colores({'azul': 'blue', 'rojo': 'red', 'negro': 'black'}) ➞ 3\n",
        "    3. cantidad_colores({'blanco': 'bianco', 'negro': 'nero', 'rojo': 'rosso'}) ➞ 3"
      ],
      "metadata": {
        "id": "EcMXJoZge1H6"
      }
    },
    {
      "cell_type": "code",
      "source": [
        "def cantidad_colores(diccionario):\n",
        "    pass"
      ],
      "metadata": {
        "id": "CwaHYBJTH_Ii"
      },
      "execution_count": null,
      "outputs": []
    },
    {
      "cell_type": "code",
      "source": [
        "print(cantidad_colores({'rojo': 'red', 'azul': 'blue', 'amarillo': 'yellow', 'rosa': 'pink'}))\n",
        "print(cantidad_colores({'azul': 'blue', 'rojo': 'red', 'negro': 'black'}))\n",
        "print(cantidad_colores({'blanco': 'bianco', 'negro': 'nero', 'rojo': 'rosso'}))"
      ],
      "metadata": {
        "id": "LzxlGz8fIOUt"
      },
      "execution_count": null,
      "outputs": []
    },
    {
      "cell_type": "markdown",
      "source": [
        "## Reto 33: String a Integer y viceversa\n",
        "* Escribe dos funciones:\n",
        "    - `to_int()`: una función para convertir una cadena en un número entero.\n",
        "    - `to_str()`: una función para convertir un número entero en una cadena.\n",
        "    * Ejemplos:\n",
        "        1. to_int(\"77\") ➞ 77\n",
        "        2. to_int(\"532\") ➞ 532\n",
        "        3. to_str(77) ➞ \"77\"\n",
        "        4. to_str(532) ➞ \"532\""
      ],
      "metadata": {
        "id": "BFSsVGkRh54B"
      }
    },
    {
      "cell_type": "code",
      "source": [
        "def to_int(txt):\n",
        "    pass\n",
        "\n",
        "def to_str(num):\n",
        "    pass"
      ],
      "metadata": {
        "id": "g7tXEQn4KdLt"
      },
      "execution_count": null,
      "outputs": []
    },
    {
      "cell_type": "code",
      "source": [
        "print(to_int(\"77\"))\n",
        "print(to_int(\"532\"))\n",
        "print(to_str(77))\n",
        "to_str(532)"
      ],
      "metadata": {
        "id": "suXZr_InKxML"
      },
      "execution_count": null,
      "outputs": []
    },
    {
      "cell_type": "markdown",
      "source": [
        "## Reto 34: Compruebe si dos diccionarios son iguales\n",
        "* Cree una función que verifique si los dos argumentos que pasamos a la función son iguales entre sí.\n",
        "* La función tiene dos parámetros de tipo diccionario.\n",
        "* Devuelve `True` si los objetos son iguales; de lo contrario, devuelve `False`.\n",
        "* Ejemplos:\n",
        "    1. Ejemplo 1. Alterando el orden de las parejas `clave:valor`\n",
        "\n",
        "    Este es el objeto 1:\n",
        "    <pre>\n",
        "obj_one = {\n",
        "    \"name\": \"Alex\",\n",
        "    \"phone\": \"687654321\",\n",
        "    \"email\": \"alex@gmail.com\"\n",
        "    }\n",
        "</pre>\n",
        "    \n",
        "    Este es el objeto 2:\n",
        "<pre>\n",
        "obj_two = {\n",
        "    \"name\": \"Alex\",\n",
        "    \"email\": \"alex@gmail.com\",\n",
        "    \"phone\": \"687654321\"\n",
        "    }\n",
        "</pre>\n",
        "\n",
        "    is_equal(obj_one, obj_two) ➞ True\n",
        "\n",
        "    2. Ejemplo 2.\n",
        "\n",
        "    Este es el objeto 1:\n",
        "    <pre>\n",
        "obj_one = {\n",
        "    \"name\": \"Julia\",\n",
        "    \"phone\": \"612345678\",\n",
        "    \"email\": \"julia@gmail.com\"\n",
        "    }\n",
        "</pre>\n",
        "    \n",
        "    Este es el objeto 2:\n",
        "<pre>\n",
        "obj_two = {\n",
        "    \"nombre\": \"Julia\",\n",
        "    \"telefono\": \"612345678\",\n",
        "    \"correo\": \"julia@gmail.com\"\n",
        "    }\n",
        "</pre>\n",
        "\n",
        "    is_equal(obj_one, obj_two) ➞ False"
      ],
      "metadata": {
        "id": "AzEc5OxujTmX"
      }
    },
    {
      "cell_type": "code",
      "source": [
        "def is_equal(objeto1, objeto2):\n",
        "    pass"
      ],
      "metadata": {
        "id": "oz-Ne1a8Lwu4"
      },
      "execution_count": null,
      "outputs": []
    },
    {
      "cell_type": "code",
      "source": [
        "# The first object parameter.\n",
        "obj_one = {\n",
        "\"name\": \"Alex\",\n",
        "\"phone\": \"687654321\",\n",
        "\"email\": \"alex@gmail.com\"\n",
        "}\n",
        "\n",
        "# The second object parameter.\n",
        "obj_two = {\n",
        "\"name\": \"Alex\",\n",
        "\"email\": \"alex@gmail.com\",\n",
        "\"phone\": \"687654321\"\n",
        "}\n",
        "\n",
        "is_equal(obj_one, obj_two)"
      ],
      "metadata": {
        "id": "9ILlA13lMIQH"
      },
      "execution_count": null,
      "outputs": []
    },
    {
      "cell_type": "code",
      "source": [
        "# The first object parameter.\n",
        "obj_one = {\n",
        "\"name\": \"Julia\",\n",
        "\"phone\": \"612345678\",\n",
        "\"email\": \"julia@gmail.com\"\n",
        "}\n",
        "\n",
        "# The second object parameter.\n",
        "obj_two = {\n",
        "\"nombre\": \"Julia\",\n",
        "\"telefono\": \"612345678\",\n",
        "\"correo\": \"julia@gmail.com\"\n",
        "}\n",
        "\n",
        "is_equal(obj_one, obj_two)"
      ],
      "metadata": {
        "id": "Noihc1FzMiax"
      },
      "execution_count": null,
      "outputs": []
    },
    {
      "cell_type": "markdown",
      "source": [
        "## Reto 35: Fix the Expression\n",
        "* Corrija el código siguiente para que la función devuelva `True` si y solo si `x` es igual a 7.\n",
        "* Ejemplos:\n",
        "    1. es_siete(4) ➞ False\n",
        "    2. es_siete(9) ➞ False\n",
        "    3. es_siete(7) ➞ True\n",
        "* Consulte el **operador ternario** en Python\n",
        "* El código que no funciona correctamente es este:\n",
        "\n",
        "<pre>\n",
        "def es_siete(x):\n",
        "\tretur True if x=\"7\" else False\n",
        "</pre>\n"
      ],
      "metadata": {
        "id": "kIoWDOrDykTZ"
      }
    },
    {
      "cell_type": "code",
      "source": [
        "def es_siete(x):\n",
        "\tpass"
      ],
      "metadata": {
        "id": "pJEEgAqqPCvf"
      },
      "execution_count": null,
      "outputs": []
    },
    {
      "cell_type": "code",
      "source": [
        "print(es_siete(4))\n",
        "print(es_siete(9))\n",
        "print(es_siete(7))"
      ],
      "metadata": {
        "id": "DwK-mVgnPOC3"
      },
      "execution_count": null,
      "outputs": []
    },
    {
      "cell_type": "markdown",
      "source": [
        "## Reto 36: Control de igualdad\n",
        "* Debe verificar la igualdad de dos valores diferentes dados los parámetros `a` y `b`.\n",
        "* Tanto el valor como el tipo de dato de los argumentos deben ser iguales.\n",
        "* Ejemplos:\n",
        "    1. check_igualdad(7, \"7\") ➞ False\n",
        "    2. check_igualdad(1, True) ➞ False\n",
        "    3. check_igualdad(1, --1) ➞ True\n",
        "    4. check_igualdad(0, 'False') ➞ False\n",
        "    5. check_igualdad(4, abs(-4)) ➞ True\n",
        "\n",
        "* La función `abs()` calcula el valor absoluto de un número"
      ],
      "metadata": {
        "id": "uBgvowa5ykdn"
      }
    },
    {
      "cell_type": "code",
      "source": [
        "def check_igualdad(a, b):\n",
        "    pass"
      ],
      "metadata": {
        "id": "NjkdCUcu51SP"
      },
      "execution_count": null,
      "outputs": []
    },
    {
      "cell_type": "code",
      "source": [
        "print(check_igualdad(7, \"7\"))\n",
        "print(check_igualdad(1, True))\n",
        "print(check_igualdad(1, --1))\n",
        "print(check_igualdad(0, 'False'))\n",
        "print(check_igualdad(4, abs(-4)))"
      ],
      "metadata": {
        "id": "shEQK4bB6AsR"
      },
      "execution_count": null,
      "outputs": []
    },
    {
      "cell_type": "markdown",
      "source": [
        "## Reto 37: Dos hacen Diez\n",
        "* Crea una función que tome dos argumentos.\n",
        "* Ambos argumentos son números enteros, `a` y `b`.\n",
        "* Devuelve `True` si uno de ellos es 10 o si su suma es 10.\n",
        "* Ejemplos:\n",
        "    1. makes_ten(9, 10) ➞ True\n",
        "    2. makes_ten(10, 9) ➞ True\n",
        "    2. makes_ten(9, 9) ➞ False\n",
        "    3. makes_ten(6, 4) ➞ True"
      ],
      "metadata": {
        "id": "iSVovXfZtz1E"
      }
    },
    {
      "cell_type": "code",
      "source": [
        "def makes_ten(a, b):\n",
        "    pass"
      ],
      "metadata": {
        "id": "jk6ujqXk7i_9"
      },
      "execution_count": null,
      "outputs": []
    },
    {
      "cell_type": "code",
      "source": [
        "print(makes_ten(9, 10))\n",
        "print(makes_ten(10, 9))\n",
        "print(makes_ten(9, 9))\n",
        "print(makes_ten(6, 4))"
      ],
      "metadata": {
        "id": "dyL34Bbe77kJ"
      },
      "execution_count": null,
      "outputs": []
    },
    {
      "cell_type": "markdown",
      "source": [
        "## Reto 38: Comprobar si un entero es divisible por cinco\n",
        "* Cree una función que devuelva `True` si un número entero es divisible por 5 y `False` en caso contrario.\n",
        "* Ejemplos:\n",
        "    1. divisible_by_five(5) ➞ True\n",
        "    2. divisible_by_five(-55) ➞ True\n",
        "    3. divisible_by_five(37) ➞ False"
      ],
      "metadata": {
        "id": "_3AbqOSluZXt"
      }
    },
    {
      "cell_type": "code",
      "source": [
        "def divisible_by_five(n):\n",
        "    pass"
      ],
      "metadata": {
        "id": "7ZHb9EkH9P3p"
      },
      "execution_count": null,
      "outputs": []
    },
    {
      "cell_type": "code",
      "source": [
        "print(divisible_by_five(5))\n",
        "print(divisible_by_five(-55))\n",
        "print(divisible_by_five(37))"
      ],
      "metadata": {
        "id": "oyqspQkR90B-"
      },
      "execution_count": null,
      "outputs": []
    },
    {
      "cell_type": "markdown",
      "source": [
        "## Reto 39: Apuesta rentable\n",
        "* Cree una función que tome tres argumentos `probabilidad`, `premio`, `pago` y devuelva `True` si `probabilidad * premio > pago`; de lo contrario, devuelva `False`.\n",
        "* Ejemplos:\n",
        "    1. apuesta_rentable(0.2, 50, 9) ➞ True\n",
        "        - debería ser `True`, ya que el beneficio neto es 1\n",
        "        - (0.2 * 50 - 9) es 1 y se cumple que 1 > 0.\n",
        "    2. apuesta_rentable(0.9, 1, 2) ➞ False\n",
        "    3. apuesta_rentable(0.9, 3, 2) ➞ True"
      ],
      "metadata": {
        "id": "hndooM_tymog"
      }
    },
    {
      "cell_type": "code",
      "source": [
        "def apuesta_rentable(probabilidad, premio, pago):\n",
        "    pass"
      ],
      "metadata": {
        "id": "dY07easr9ZfE"
      },
      "execution_count": null,
      "outputs": []
    },
    {
      "cell_type": "code",
      "source": [
        "print(apuesta_rentable(0.2, 50, 9))\n",
        "print(apuesta_rentable(0.9, 1, 2))\n",
        "print(apuesta_rentable(0.9, 3, 2))"
      ],
      "metadata": {
        "id": "1aaqZEbj-5B7"
      },
      "execution_count": null,
      "outputs": []
    },
    {
      "cell_type": "markdown",
      "source": [
        "## Reto 40: Suma de los elementos de una lista\n",
        "* Cree una función que tome una lista y devuelva la suma de todos los números de la lista.\n",
        "* Ejemplos:\n",
        "    1. sum_elements([2, 7, 4]) ➞ 13\n",
        "    2. sum_elements([45, 3, 0]) ➞ 48\n",
        "    3. sum_elements([-2, 84, 23]) ➞ 105\n"
      ],
      "metadata": {
        "id": "uH0q2k3AymvL"
      }
    },
    {
      "cell_type": "code",
      "source": [
        "def sum_elements(lista):\n",
        "    pass"
      ],
      "metadata": {
        "id": "xwjkMkTE9auf"
      },
      "execution_count": null,
      "outputs": []
    },
    {
      "cell_type": "code",
      "source": [
        "print(sum_elements([2, 7, 4]))\n",
        "print(sum_elements([45, 3, 0]))\n",
        "print(sum_elements([-2, 84, 23]))"
      ],
      "metadata": {
        "id": "WyGkE9zk_jP1"
      },
      "execution_count": null,
      "outputs": []
    }
  ]
}