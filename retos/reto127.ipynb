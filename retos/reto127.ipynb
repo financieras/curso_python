{
  "nbformat": 4,
  "nbformat_minor": 0,
  "metadata": {
    "colab": {
      "provenance": [],
      "authorship_tag": "ABX9TyPSOd59dt7caSrahj8urYQK",
      "include_colab_link": true
    },
    "kernelspec": {
      "name": "python3",
      "display_name": "Python 3"
    },
    "language_info": {
      "name": "python"
    }
  },
  "cells": [
    {
      "cell_type": "markdown",
      "metadata": {
        "id": "view-in-github",
        "colab_type": "text"
      },
      "source": [
        "<a href=\"https://colab.research.google.com/github/financieras/curso_python/blob/main/retos/reto127.ipynb\" target=\"_parent\"><img src=\"https://colab.research.google.com/assets/colab-badge.svg\" alt=\"Open In Colab\"/></a>"
      ]
    },
    {
      "cell_type": "markdown",
      "source": [
        "## Reto 127: Métodos Is...\n",
        "* Queremos eliminar números de una cadena determinada.\n",
        "* Tenemos un código que no funciona correctamente para superar este desafío.\n",
        "* Mire los ejemplos siguientes para tener una idea de lo que debe hacer la función.\n",
        "* Ejemplos:\n",
        "    1. remove_numbers(\"Madrid2025\") ➞ \"Madrid\"\n",
        "    2. remove_numbers(\"verano100Playas\") ➞ \"veranoPlayas\"\n",
        "    3. remove_numbers(\"M1a2r3í4a\") ➞ \"María\"\n",
        "\n",
        "* Este es el código que no logra su objetivo:\n",
        "<pre>\n",
        "def remove_numbers(string):\n",
        "    return \"\".join(i for i in string if int(i))\n",
        "</pre>"
      ],
      "metadata": {
        "id": "mMGOfOevmUel"
      }
    },
    {
      "cell_type": "code",
      "source": [
        "def remove_numbers(string):\n",
        "    pass"
      ],
      "metadata": {
        "id": "NSjCInLW2c5J"
      },
      "execution_count": null,
      "outputs": []
    },
    {
      "cell_type": "code",
      "source": [
        "print(remove_numbers(\"Madrid2025\"))\n",
        "print(remove_numbers(\"verano100Playas\"))\n",
        "print(remove_numbers(\"M1a2r3í4a\"))"
      ],
      "metadata": {
        "id": "y2GS7-c52c5J"
      },
      "execution_count": null,
      "outputs": []
    }
  ]
}