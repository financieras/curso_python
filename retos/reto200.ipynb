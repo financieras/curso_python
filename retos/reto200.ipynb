{
  "nbformat": 4,
  "nbformat_minor": 0,
  "metadata": {
    "colab": {
      "provenance": [],
      "authorship_tag": "ABX9TyOLewlHogRhmxeMeYP94kRV",
      "include_colab_link": true
    },
    "kernelspec": {
      "name": "python3",
      "display_name": "Python 3"
    },
    "language_info": {
      "name": "python"
    }
  },
  "cells": [
    {
      "cell_type": "markdown",
      "metadata": {
        "id": "view-in-github",
        "colab_type": "text"
      },
      "source": [
        "<a href=\"https://colab.research.google.com/github/financieras/curso_python/blob/main/retos/reto200.ipynb\" target=\"_parent\"><img src=\"https://colab.research.google.com/assets/colab-badge.svg\" alt=\"Open In Colab\"/></a>"
      ]
    },
    {
      "cell_type": "markdown",
      "source": [
        "## Reto 200: Factorial por recursión\n",
        "* Escriba una función que calcule el factorial de un número de forma recursiva.\n",
        "* El factorial de cero, por definición, es uno.\n",
        "* Ejemplos:\n",
        "    1. factorial(5) ➞ 120\n",
        "    2. factorial(3) ➞ 6\n",
        "    3. factorial(1) ➞ 1\n",
        "    4. factorial(0) ➞ 1"
      ],
      "metadata": {
        "id": "JlJS8B9I5_N4"
      }
    },
    {
      "cell_type": "code",
      "source": [
        "def factorial(n):\n",
        "    pass"
      ],
      "metadata": {
        "id": "DgcPsjGy5_N5"
      },
      "execution_count": null,
      "outputs": []
    },
    {
      "cell_type": "code",
      "source": [
        "print(factorial(5))\n",
        "print(factorial(3))\n",
        "print(factorial(1))\n",
        "print(factorial(0))"
      ],
      "metadata": {
        "id": "gVbceOZB5_N5"
      },
      "execution_count": null,
      "outputs": []
    }
  ]
}