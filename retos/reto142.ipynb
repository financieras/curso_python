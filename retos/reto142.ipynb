{
  "nbformat": 4,
  "nbformat_minor": 0,
  "metadata": {
    "colab": {
      "provenance": [],
      "authorship_tag": "ABX9TyONgoqed1NofeDKcScnvX3F",
      "include_colab_link": true
    },
    "kernelspec": {
      "name": "python3",
      "display_name": "Python 3"
    },
    "language_info": {
      "name": "python"
    }
  },
  "cells": [
    {
      "cell_type": "markdown",
      "metadata": {
        "id": "view-in-github",
        "colab_type": "text"
      },
      "source": [
        "<a href=\"https://colab.research.google.com/github/financieras/curso_python/blob/main/retos/reto142.ipynb\" target=\"_parent\"><img src=\"https://colab.research.google.com/assets/colab-badge.svg\" alt=\"Open In Colab\"/></a>"
      ]
    },
    {
      "cell_type": "markdown",
      "source": [
        "## Reto 142: Rotar una posición en la lista\n",
        "* Dada una lista, gire los valores uno en el sentido de las agujas del reloj (el último valor se envía a la primera posición).\n",
        "* Ejemplos:\n",
        "    1. rotate_by_one([1, 2, 3, 4, 5]) ➞ [5, 1, 2, 3, 4]\n",
        "    2. rotate_by_one([6, 5, 8, 9, 7]) ➞ [7, 6, 5, 8, 9]\n",
        "    3. rotate_by_one([20, 15, 26, 8, 4]) ➞ [4, 20, 15, 26, 8]"
      ],
      "metadata": {
        "id": "S_dnkAPMmV8G"
      }
    },
    {
      "cell_type": "code",
      "source": [
        "def rotate_by_one(lst):\n",
        "    pass"
      ],
      "metadata": {
        "id": "P2oH_Fhf2Vu4"
      },
      "execution_count": null,
      "outputs": []
    },
    {
      "cell_type": "code",
      "source": [
        "print(rotate_by_one([1, 2, 3, 4, 5]))\n",
        "print(rotate_by_one([6, 5, 8, 9, 7]))\n",
        "print(rotate_by_one([20, 15, 26, 8, 4]))"
      ],
      "metadata": {
        "id": "GJMd1V-Y2Vu9"
      },
      "execution_count": null,
      "outputs": []
    }
  ]
}