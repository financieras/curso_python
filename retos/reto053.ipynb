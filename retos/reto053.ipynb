{
  "nbformat": 4,
  "nbformat_minor": 0,
  "metadata": {
    "colab": {
      "provenance": [],
      "authorship_tag": "ABX9TyObolh5FlstwynyLeCf3ZTd",
      "include_colab_link": true
    },
    "kernelspec": {
      "name": "python3",
      "display_name": "Python 3"
    },
    "language_info": {
      "name": "python"
    }
  },
  "cells": [
    {
      "cell_type": "markdown",
      "metadata": {
        "id": "view-in-github",
        "colab_type": "text"
      },
      "source": [
        "<a href=\"https://colab.research.google.com/github/financieras/curso_python/blob/main/retos/reto053.ipynb\" target=\"_parent\"><img src=\"https://colab.research.google.com/assets/colab-badge.svg\" alt=\"Open In Colab\"/></a>"
      ]
    },
    {
      "cell_type": "markdown",
      "source": [
        "## Reto 53: Concatenar el primer y último carácter de un String\n",
        "* Cree una función que tome una cadena y devuelva el primer y último carácter concatenados.\n",
        "* Ejemplos:\n",
        "    1. primero_ultimo(\"hola\") ➞ \"ha\"\n",
        "    2. primero_ultimo(\"Hugo Martínez\") ➞ \"Hz\"\n",
        "    3. primero_ultimo(\"100%\") ➞ \"1%\""
      ],
      "metadata": {
        "id": "mciItVkzzyrJ"
      }
    },
    {
      "cell_type": "code",
      "source": [
        "def primero_ultimo(cadena):\n",
        "    pass"
      ],
      "metadata": {
        "id": "MyTMb8Y812eJ"
      },
      "execution_count": null,
      "outputs": []
    },
    {
      "cell_type": "code",
      "source": [
        "print(primero_ultimo(\"Hola\"))\n",
        "print(primero_ultimo(\"Hugo Martínez\"))\n",
        "print(primero_ultimo(\"100%\"))"
      ],
      "metadata": {
        "id": "HDIM4q7N12eK"
      },
      "execution_count": null,
      "outputs": []
    }
  ]
}