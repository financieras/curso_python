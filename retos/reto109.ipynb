{
  "nbformat": 4,
  "nbformat_minor": 0,
  "metadata": {
    "colab": {
      "provenance": [],
      "authorship_tag": "ABX9TyNfu0s79awwZmKM1u/4xKQF",
      "include_colab_link": true
    },
    "kernelspec": {
      "name": "python3",
      "display_name": "Python 3"
    },
    "language_info": {
      "name": "python"
    }
  },
  "cells": [
    {
      "cell_type": "markdown",
      "metadata": {
        "id": "view-in-github",
        "colab_type": "text"
      },
      "source": [
        "<a href=\"https://colab.research.google.com/github/financieras/curso_python/blob/main/retos/reto109.ipynb\" target=\"_parent\"><img src=\"https://colab.research.google.com/assets/colab-badge.svg\" alt=\"Open In Colab\"/></a>"
      ]
    },
    {
      "cell_type": "markdown",
      "source": [
        "## Reto 109: Corregir código con Bugs\n",
        "* El desafío es intentar corregir este código defectuoso, dadas las entradas `True` y `False`.\n",
        "* Consulte los ejemplos siguientes para conocer el resultado esperado.\n",
        "* Ejemplos:\n",
        "    1. has_bugs(True) ➞ \"A depurar código\"\n",
        "    2. has_bugs(False) ➞ \"Hoy es un buen día\"\n",
        "\n",
        "<pre>\n",
        "def has_bugs(buggy_code):\n",
        "\tif buggyCode:\n",
        "\t\treturn 'A depurar código'\n",
        "\telif:\n",
        "\t\treturn 'Hoy es un buen día'\n",
        "</pre>\n"
      ],
      "metadata": {
        "id": "QODO-ZEuntlT"
      }
    },
    {
      "cell_type": "code",
      "source": [
        "def has_bugs(buggy_code):\n",
        "\tpass"
      ],
      "metadata": {
        "id": "jemQ0nAC2miq"
      },
      "execution_count": null,
      "outputs": []
    },
    {
      "cell_type": "code",
      "source": [
        "print(has_bugs(True))\n",
        "print(has_bugs(False))"
      ],
      "metadata": {
        "id": "5LhI2Pra2mir"
      },
      "execution_count": null,
      "outputs": []
    }
  ]
}