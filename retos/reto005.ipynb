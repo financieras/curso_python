{
  "nbformat": 4,
  "nbformat_minor": 0,
  "metadata": {
    "colab": {
      "provenance": [],
      "authorship_tag": "ABX9TyNQlWX2Qu3P/ZfJr3KmRjYm",
      "include_colab_link": true
    },
    "kernelspec": {
      "name": "python3",
      "display_name": "Python 3"
    },
    "language_info": {
      "name": "python"
    }
  },
  "cells": [
    {
      "cell_type": "markdown",
      "metadata": {
        "id": "view-in-github",
        "colab_type": "text"
      },
      "source": [
        "<a href=\"https://colab.research.google.com/github/financieras/curso_python/blob/main/retos/reto005.ipynb\" target=\"_parent\"><img src=\"https://colab.research.google.com/assets/colab-badge.svg\" alt=\"Open In Colab\"/></a>"
      ]
    },
    {
      "cell_type": "markdown",
      "source": [
        "## Reto 5: Retornar el primer elemento de un Array\n",
        "* Cree una función que reciba una lista y devuelva el primer elemento.\n",
        "* Ejemplos:\n",
        "    1. obtener_primer_valor(['a', 'e', 'i', 'o', 'u']) ➞ 'a'\n",
        "    2. obtener_primer_valor([80, 5, 100]) ➞ 80\n",
        "    3. obtener_primer_valor([-500, 0, 50]) ➞ -500"
      ],
      "metadata": {
        "id": "WJ_mA4xsGA-a"
      }
    },
    {
      "cell_type": "code",
      "source": [
        "def obtener_primer_valor(lista):\n",
        "    pass"
      ],
      "metadata": {
        "id": "G7tazpXX3HsA"
      },
      "execution_count": null,
      "outputs": []
    },
    {
      "cell_type": "code",
      "source": [
        "print(obtener_primer_valor(['a', 'e', 'i', 'o', 'u']))\n",
        "print(obtener_primer_valor([80, 5, 100]))\n",
        "print(obtener_primer_valor([-500, 0, 50]))"
      ],
      "metadata": {
        "id": "jMt9vEwd3cgL"
      },
      "execution_count": null,
      "outputs": []
    }
  ]
}