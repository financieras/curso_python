{
  "nbformat": 4,
  "nbformat_minor": 0,
  "metadata": {
    "colab": {
      "provenance": [],
      "authorship_tag": "ABX9TyNYXw4pdnhz3L6yOqacFAC3",
      "include_colab_link": true
    },
    "kernelspec": {
      "name": "python3",
      "display_name": "Python 3"
    },
    "language_info": {
      "name": "python"
    }
  },
  "cells": [
    {
      "cell_type": "markdown",
      "metadata": {
        "id": "view-in-github",
        "colab_type": "text"
      },
      "source": [
        "<a href=\"https://colab.research.google.com/github/financieras/curso_python/blob/main/retos/reto148.ipynb\" target=\"_parent\"><img src=\"https://colab.research.google.com/assets/colab-badge.svg\" alt=\"Open In Colab\"/></a>"
      ]
    },
    {
      "cell_type": "markdown",
      "source": [
        "## Reto 148: Evitando `else` en algunos casos\n",
        "* El siguiente código pretende identificar un número como positivo, negativo o cero.\n",
        "* Tenemos este código:\n",
        "<pre>\n",
        "def analiza(x):\n",
        "\tif x > 0:\n",
        "\t\treturn \"positivo\"\n",
        "\telif x < 0:\n",
        "\t\treturn \"negativo\"\n",
        "\telse:\n",
        "\t\treturn \"cero\"\n",
        "</pre>\n",
        "\n",
        "* Nos gustaría eliminar la intrucción `else` del código y comprobar que todo funciona bien.\n",
        "* Ejemplos:\n",
        "    1. analiza(4) ➞ \"positivo\"\n",
        "    2. analiza(-4) ➞ \"negativo\"\n",
        "    3. analiza(0) ➞ \"cero\""
      ],
      "metadata": {
        "id": "9WVlhv7-mWef"
      }
    },
    {
      "cell_type": "code",
      "source": [
        "def analiza(x):\n",
        "    pass"
      ],
      "metadata": {
        "id": "qK0W0-zD2QCj"
      },
      "execution_count": null,
      "outputs": []
    },
    {
      "cell_type": "code",
      "source": [
        "print(analiza(4))\n",
        "print(analiza(-4))\n",
        "print(analiza(0))"
      ],
      "metadata": {
        "id": "hOKsrBiX2QCv"
      },
      "execution_count": null,
      "outputs": []
    }
  ]
}