{
  "nbformat": 4,
  "nbformat_minor": 0,
  "metadata": {
    "colab": {
      "provenance": [],
      "authorship_tag": "ABX9TyMf9KI+CAkjmCO36jNlyISJ",
      "include_colab_link": true
    },
    "kernelspec": {
      "name": "python3",
      "display_name": "Python 3"
    },
    "language_info": {
      "name": "python"
    }
  },
  "cells": [
    {
      "cell_type": "markdown",
      "metadata": {
        "id": "view-in-github",
        "colab_type": "text"
      },
      "source": [
        "<a href=\"https://colab.research.google.com/github/financieras/curso_python/blob/main/retos/reto083.ipynb\" target=\"_parent\"><img src=\"https://colab.research.google.com/assets/colab-badge.svg\" alt=\"Open In Colab\"/></a>"
      ]
    },
    {
      "cell_type": "markdown",
      "source": [
        "## Reto 83: AND, OR, NOT\n",
        "* Crear tres funciones que trabajen como puertas lógicas.\n",
        "* Las tres puertas lógicas son: `AND`, `OR` y `NO`.\n",
        "* Ejemplos:\n",
        "    1. funcion_AND(1, 1) ➞ 1\n",
        "    2. funcion_AND(1, 0) ➞ 0\n",
        "    3. funcion_AND(0, 0) ➞ 0\n",
        "    4. funcion_OR(1, 0) ➞ 1\n",
        "    5. funcion_OR(1, 1) ➞ 1\n",
        "    6. funcion_OR(0, 0) ➞ 0\n",
        "    7. funcion_NOT(0) ➞ 1\n",
        "    8. funcion_NOT(1) ➞ 0"
      ],
      "metadata": {
        "id": "TDLmjUtke-Z2"
      }
    },
    {
      "cell_type": "code",
      "execution_count": null,
      "metadata": {
        "id": "yFqrftXPe9mk"
      },
      "outputs": [],
      "source": [
        "def funcion_AND(a, b):\n",
        "    pass\n",
        "\n",
        "def funcion_OR(a, b):\n",
        "    pass\n",
        "\n",
        "def funcion_NOT(a):\n",
        "    pass"
      ]
    },
    {
      "cell_type": "code",
      "source": [
        "print(funcion_AND(1, 1))\n",
        "print(funcion_AND(1, 0))\n",
        "print(funcion_AND(0, 0))\n",
        "print(funcion_OR(1, 0))\n",
        "print(funcion_OR(1, 1))\n",
        "print(funcion_OR(0, 0))\n",
        "print(funcion_NOT(0))\n",
        "print(funcion_NOT(1))"
      ],
      "metadata": {
        "id": "f0tTTdxUfEuk"
      },
      "execution_count": null,
      "outputs": []
    }
  ]
}