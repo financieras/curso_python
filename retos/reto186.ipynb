{
  "nbformat": 4,
  "nbformat_minor": 0,
  "metadata": {
    "colab": {
      "provenance": [],
      "authorship_tag": "ABX9TyNjjrly2Rr7TBEIHqGJLn/z",
      "include_colab_link": true
    },
    "kernelspec": {
      "name": "python3",
      "display_name": "Python 3"
    },
    "language_info": {
      "name": "python"
    }
  },
  "cells": [
    {
      "cell_type": "markdown",
      "metadata": {
        "id": "view-in-github",
        "colab_type": "text"
      },
      "source": [
        "<a href=\"https://colab.research.google.com/github/financieras/curso_python/blob/main/retos/reto186.ipynb\" target=\"_parent\"><img src=\"https://colab.research.google.com/assets/colab-badge.svg\" alt=\"Open In Colab\"/></a>"
      ]
    },
    {
      "cell_type": "markdown",
      "source": [
        "## Reto 186: ¿Es hora de tomar leche y galletas?\n",
        "* La Nochebuena ya casi está aquí, así que, naturalmente, ¡necesitamos preparar un poco de leche y galletas para Papá Noel!\n",
        "* Cree una función que acepte un objeto Fecha y devuelva `True` si es Nochebuena (24 de diciembre) y `False' en caso contrario.\n",
        "* Ejemplos:\n",
        "    1. time_for_milk_and_cookies(datetime.date(2024, 12, 24)) ➞ True\n",
        "    2. time_for_milk_and_cookies(datetime.date(2028, 1, 23)) ➞ False\n",
        "    3. time_for_milk_and_cookies(datetime.date(2100, 12, 24)) ➞ True"
      ],
      "metadata": {
        "id": "rHBI03sL50x3"
      }
    },
    {
      "cell_type": "code",
      "source": [
        "def time_for_milk_and_cookies(d):\n",
        "    pass"
      ],
      "metadata": {
        "id": "UaXVksbn5o0I"
      },
      "execution_count": null,
      "outputs": []
    },
    {
      "cell_type": "code",
      "source": [
        "print(time_for_milk_and_cookies(datetime.date(2024, 12, 24)))\n",
        "print(time_for_milk_and_cookies(datetime.date(2028, 1, 23)))\n",
        "print(time_for_milk_and_cookies(datetime.date(2100, 12, 24)))"
      ],
      "metadata": {
        "id": "AreLvrhq5o0Q"
      },
      "execution_count": null,
      "outputs": []
    }
  ]
}