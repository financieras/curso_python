{
  "nbformat": 4,
  "nbformat_minor": 0,
  "metadata": {
    "colab": {
      "provenance": [],
      "authorship_tag": "ABX9TyOfjbqy1cEBFwSKBeuaLuSR",
      "include_colab_link": true
    },
    "kernelspec": {
      "name": "python3",
      "display_name": "Python 3"
    },
    "language_info": {
      "name": "python"
    }
  },
  "cells": [
    {
      "cell_type": "markdown",
      "metadata": {
        "id": "view-in-github",
        "colab_type": "text"
      },
      "source": [
        "<a href=\"https://colab.research.google.com/github/financieras/curso_python/blob/main/retos/reto192.ipynb\" target=\"_parent\"><img src=\"https://colab.research.google.com/assets/colab-badge.svg\" alt=\"Open In Colab\"/></a>"
      ]
    },
    {
      "cell_type": "markdown",
      "source": [
        "## Reto 192: Ocultar dígitos de la tarjeta de crédito\n",
        "* Escriba una función que tome un número de tarjeta de crédito y solo muestre los últimos cuatro caracteres.\n",
        "* El resto de dígitos de la tarjeta deberán sustituirse por asteriscos.\n",
        "* Asegúrese de devolver una cadena.\n",
        "* La longitud de la cadena retornada debe seguir siendo la misma que la de entrada.\n",
        "* Ejemplos:\n",
        "    1. card_hide(\"1234123456785678\") ➞ \"\\*\\*\\*\\*\\*\\*\\*\\*\\*\\*\\*\\*5678\"\n",
        "    2. card_hide(\"8754456321113213\") ➞ \"\\*\\*\\*\\*\\*\\*\\*\\*\\*\\*\\*\\*3213\"\n",
        "    3. card_hide(\"35123413355523\") ➞ \"\\*\\*\\*\\*\\*\\*\\*\\*\\*\\*5523\""
      ],
      "metadata": {
        "id": "AaJJ5Csf5-Ex"
      }
    },
    {
      "cell_type": "code",
      "source": [
        "def card_hide(tarjeta):\n",
        "    pass"
      ],
      "metadata": {
        "id": "-tJXDlYt5-Ex"
      },
      "execution_count": null,
      "outputs": []
    },
    {
      "cell_type": "code",
      "source": [
        "print(card_hide(\"1234123456785678\"))\n",
        "print(card_hide(\"8754456321113213\"))\n",
        "print(card_hide(\"35123413355523\"))"
      ],
      "metadata": {
        "id": "o68dycle5-Ex"
      },
      "execution_count": null,
      "outputs": []
    }
  ]
}