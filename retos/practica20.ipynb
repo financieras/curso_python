{
  "nbformat": 4,
  "nbformat_minor": 0,
  "metadata": {
    "colab": {
      "provenance": [],
      "authorship_tag": "ABX9TyOuP+tCx0NUdruC/vWDUAFl",
      "include_colab_link": true
    },
    "kernelspec": {
      "name": "python3",
      "display_name": "Python 3"
    },
    "language_info": {
      "name": "python"
    }
  },
  "cells": [
    {
      "cell_type": "markdown",
      "metadata": {
        "id": "view-in-github",
        "colab_type": "text"
      },
      "source": [
        "<a href=\"https://colab.research.google.com/github/financieras/curso_python/blob/main/retos/practica20.ipynb\" target=\"_parent\"><img src=\"https://colab.research.google.com/assets/colab-badge.svg\" alt=\"Open In Colab\"/></a>"
      ]
    },
    {
      "cell_type": "markdown",
      "source": [
        "## Reto 191: Reemplazar vocales\n",
        "* Cree una función que reemplace todas las vocales de una cadena con un carácter específico.\n",
        "* Todos los caracteres estarán en minúsculas.\n",
        "* Ejemplos:\n",
        "    1. replace_vowels(\"beethoven\", \"@\") ➞ \"b@@th@v@n\"\n",
        "    2. replace_vowels(\"amazing spiderman\", \"?\") ➞ \"?m?z?ng sp?d?rm?n\"\n",
        "    3. replace_vowels(\"shakespeare\", \"*\") ➞ \"sh*k*sp**r*\""
      ],
      "metadata": {
        "id": "kEQsXmxQ595J"
      }
    },
    {
      "cell_type": "code",
      "source": [
        "def replace_vowels(string, caracter):\n",
        "    pass"
      ],
      "metadata": {
        "id": "G7ag7b8_595R"
      },
      "execution_count": null,
      "outputs": []
    },
    {
      "cell_type": "code",
      "source": [
        "print(replace_vowels(\"beethoven\", \"@\"))\n",
        "print(replace_vowels(\"amazing spiderman\", \"?\"))\n",
        "print(replace_vowels(\"shakespeare\", \"*\"))"
      ],
      "metadata": {
        "id": "qWpXY7K8595R"
      },
      "execution_count": null,
      "outputs": []
    },
    {
      "cell_type": "markdown",
      "source": [
        "## Reto 192: Ocultar dígitos de la tarjeta de crédito\n",
        "* Escriba una función que tome un número de tarjeta de crédito y solo muestre los últimos cuatro caracteres.\n",
        "* El resto de dígitos de la tarjeta deberán sustituirse por asteriscos.\n",
        "* Asegúrese de devolver una cadena.\n",
        "* La longitud de la cadena retornada debe seguir siendo la misma que la de entrada.\n",
        "* Ejemplos:\n",
        "    1. card_hide(\"1234123456785678\") ➞ \"\\*\\*\\*\\*\\*\\*\\*\\*\\*\\*\\*\\*5678\"\n",
        "    2. card_hide(\"8754456321113213\") ➞ \"\\*\\*\\*\\*\\*\\*\\*\\*\\*\\*\\*\\*3213\"\n",
        "    3. card_hide(\"35123413355523\") ➞ \"\\*\\*\\*\\*\\*\\*\\*\\*\\*\\*5523\""
      ],
      "metadata": {
        "id": "AaJJ5Csf5-Ex"
      }
    },
    {
      "cell_type": "code",
      "source": [
        "def card_hide(tarjeta):\n",
        "    pass"
      ],
      "metadata": {
        "id": "-tJXDlYt5-Ex"
      },
      "execution_count": null,
      "outputs": []
    },
    {
      "cell_type": "code",
      "source": [
        "print(card_hide(\"1234123456785678\"))\n",
        "print(card_hide(\"8754456321113213\"))\n",
        "print(card_hide(\"35123413355523\"))"
      ],
      "metadata": {
        "id": "o68dycle5-Ex"
      },
      "execution_count": null,
      "outputs": []
    },
    {
      "cell_type": "markdown",
      "source": [
        "## Reto 193: Xs y Os iguales\n",
        "* Cree una función que tome una cadena, verifique si tiene el mismo número de \"x\" y \"o\" y devuelva `True` o `False`.\n",
        "* Devuelve un valor booleano (`True` o `False`).\n",
        "* Devuelve `True` si la cantidad de x y o son iguales.\n",
        "* Devuelve `False` si no son la misma cantidad.\n",
        "* La cadena puede contener cualquier carácter.\n",
        "* Cuando \"x\" y \"o\" no están en la cadena, devuelve `True`.\n",
        "* Recuerde devolver `True` si no hay x ni o.\n",
        "* No debe distinguir entre mayúsculas y minúsculas.\n",
        "* Ejemplos:\n",
        "    1. xo_function(\"ooxx\") ➞ True\n",
        "        - XO(\"xooxx\") ➞ False\n",
        "    2. xo_function(\"ooxXm\") ➞ True\n",
        "        - Case insensitive.\n",
        "    3. xo_function(\"zpzpzpp\") ➞ True\n",
        "        - Returns True if no x and o.\n",
        "    4. xo_function(\"zzoo\") ➞ False"
      ],
      "metadata": {
        "id": "wZfvp58u5-MX"
      }
    },
    {
      "cell_type": "code",
      "source": [
        "def xo_function(txt):\n",
        "    pass"
      ],
      "metadata": {
        "id": "Rb88vBiw5-MX"
      },
      "execution_count": null,
      "outputs": []
    },
    {
      "cell_type": "code",
      "source": [
        "print(xo_function(\"ooxx\"))\n",
        "print(xo_function(\"ooxXm\"))\n",
        "print(xo_function(\"zpzpzpp\"))\n",
        "print(xo_function(\"zzoo\"))\n",
        "print(xo_function(\"Xo\"))\n",
        "print(xo_function(\"X\"))\n",
        "print(xo_function(\"O\"))\n",
        "print(xo_function(\"xxOoX\"))\n",
        "print(xo_function(\"\"))"
      ],
      "metadata": {
        "id": "6jcD42kV5-MX"
      },
      "execution_count": null,
      "outputs": []
    },
    {
      "cell_type": "markdown",
      "source": [
        "## Reto 194: Elimiar espacios al inicio y al final\n",
        "* Cree una función que reciba una cadena y retorne esa misma cadena pero habiendo eliminado los espacios al inicio y al final.\n",
        "* Consiga esto sin utilizar la función `strip`\n",
        "* Ejemplos:\n",
        "    1. eliminar_espacios(\" &nbsp; Hola, mundo! &nbsp; \") ➞ \"Hola, mundo!\"\n",
        "    2. eliminar_espacios(\" &nbsp; Hey... &nbsp; &nbsp; Mark!!! &nbsp; &nbsp; &nbsp; \") ➞ \"Hey... &nbsp; &nbsp; Mark!!!\""
      ],
      "metadata": {
        "id": "MA-O3_735-TE"
      }
    },
    {
      "cell_type": "code",
      "source": [
        "def eliminar_espacios(cadena):\n",
        "    pass"
      ],
      "metadata": {
        "id": "wQSXcnio5-TE"
      },
      "execution_count": null,
      "outputs": []
    },
    {
      "cell_type": "code",
      "source": [
        "print(eliminar_espacios(\"   Hola, mundo!   \"))\n",
        "print(eliminar_espacios(\"   Hey...     Mark!!!       \"))"
      ],
      "metadata": {
        "id": "dIMYqdcw5-TE"
      },
      "execution_count": null,
      "outputs": []
    },
    {
      "cell_type": "markdown",
      "source": [
        "## Reto 195: Intercambiar nombre y apellido\n",
        "* Cree una función que tome una cadena (será el nombre y apellido de una persona) y devuelva una cadena con el nombre y apellido intercambiados.\n",
        "* Habrá exactamente un espacio entre el nombre y el apellido.\n",
        "* Solo contiene un nombre y un apellido.\n",
        "* Ejemplos:\n",
        "    1. name_shuffle(\"Albert Einstein\") ➞ \"Einstein Albert\"\n",
        "    2. name_shuffle(\"Marie Curie\") ➞ \"Curie Marie\"\n",
        "    3. name_shuffle(\"Nikola Tesla\") ➞ \"Tesla Nikola\"\n",
        "    4. name_shuffle(\"Margaret Hamilton\") ➞ \"Hamilton Margaret\""
      ],
      "metadata": {
        "id": "frfv_p-W5-az"
      }
    },
    {
      "cell_type": "code",
      "source": [
        "def name_shuffle(persona):\n",
        "    pass"
      ],
      "metadata": {
        "id": "FmtZOODC5-az"
      },
      "execution_count": null,
      "outputs": []
    },
    {
      "cell_type": "code",
      "source": [
        "print(name_shuffle(\"Albert Einstein\"))\n",
        "print(name_shuffle(\"Marie Curie\"))\n",
        "print(name_shuffle(\"Nikola Tesla\"))\n",
        "print(name_shuffle(\"Margaret Hamilton\"))"
      ],
      "metadata": {
        "id": "SmrraRjj5-az"
      },
      "execution_count": null,
      "outputs": []
    },
    {
      "cell_type": "markdown",
      "source": [
        "## Reto 196: Entero que aparece un número impar de veces\n",
        "* Cree una función que tome una lista y encuentre el número entero que aparece un número impar de veces.\n",
        "* Siempre habrá un solo número entero que aparezca un número impar de veces.\n",
        "* Ejemplos:\n",
        "    1. find_odd([1, 1, 2, -2, 5, 2, 4, 4, -1, -2, 5]) ➞ -1\n",
        "    2. find_odd([20, 1, 1, 2, 2, 3, 3, 5, 5, 4, 20, 4, 5]) ➞ 5\n",
        "    3. find_odd([10]) ➞ 10"
      ],
      "metadata": {
        "id": "GqUHnn6L5-hG"
      }
    },
    {
      "cell_type": "code",
      "source": [
        "def find_odd(lista):\n",
        "    pass"
      ],
      "metadata": {
        "id": "TmmZLPRM5-hG"
      },
      "execution_count": null,
      "outputs": []
    },
    {
      "cell_type": "code",
      "source": [
        "print(find_odd([1, 1, 2, -2, 5, 2, 4, 4, -1, -2, 5]))\n",
        "print(find_odd([20, 1, 1, 2, 2, 3, 3, 5, 5, 4, 20, 4, 5]))\n",
        "print(find_odd([10]))"
      ],
      "metadata": {
        "id": "YeSgIa_j5-hG"
      },
      "execution_count": null,
      "outputs": []
    },
    {
      "cell_type": "markdown",
      "source": [
        "## Reto 197: Filtrar cadenas de un Array\n",
        "* Cree una función que tome una lista de cadenas y números y devuelva una nueva lista sin las cadenas y sin los números negativos.\n",
        "* Ejemplos:\n",
        "    1. filter_list([1, 2, \"a\", \"b\"]) ➞ [1, 2]\n",
        "    2. filter_list([1, \"a\", \"b\", 0, 15, 1]) ➞ [1, 0, 15]\n",
        "    3. filter_list([1, 2, \"aasf\", \"1\", \"123\", 123]) ➞ [1, 2, 123]\n",
        "    4. filter_list([-5, \"5\", \"bye\", \"7\", \"77\"]) ➞ []\n",
        "* El cero es un número entero no negativo.\n",
        "* Los números de la lista no deben repetirse.\n",
        "* Se debe mantener el orden original."
      ],
      "metadata": {
        "id": "NpRvAtIV5-o4"
      }
    },
    {
      "cell_type": "code",
      "source": [
        "def filter_list(lst):\n",
        "    pass"
      ],
      "metadata": {
        "id": "EojQ8vA75-o4"
      },
      "execution_count": null,
      "outputs": []
    },
    {
      "cell_type": "code",
      "source": [
        "print(filter_list([1, 2, \"a\", \"b\"]))\n",
        "print(filter_list([1, \"a\", \"b\", 0, 15, 1]))\n",
        "print(filter_list([1, 2, \"aasf\", \"1\", \"123\", 123]))\n",
        "print(filter_list([-5, \"5\", \"bye\", \"7\", \"77\"]))"
      ],
      "metadata": {
        "id": "3dRWN_tA5-o5"
      },
      "execution_count": null,
      "outputs": []
    },
    {
      "cell_type": "markdown",
      "source": [
        "## Reto 198: El reverso\n",
        "* La función toma una cadena como entrada y devuelve esa cadena en orden inverso, con el caso opuesto de mayúsculas y minúsculas.\n",
        "* Ejemplos:\n",
        "    1. reverse(\"Hello World\") ➞ \"DLROw OLLEh\"\n",
        "    2. reverse(\"ReVeRsE\") ➞ \"eSrEvEr\"\n",
        "    3. reverse(\"Radar\") ➞ \"RADAr\""
      ],
      "metadata": {
        "id": "O26WYjpW5-wm"
      }
    },
    {
      "cell_type": "code",
      "source": [
        "def reverse(txt):\n",
        "    pass"
      ],
      "metadata": {
        "id": "jhPqNEvI5-wm"
      },
      "execution_count": null,
      "outputs": []
    },
    {
      "cell_type": "code",
      "source": [
        "print(reverse(\"Hello World\"))\n",
        "print(reverse(\"ReVeRsE\"))\n",
        "print(reverse(\"Radar\"))"
      ],
      "metadata": {
        "id": "bhBs4Im45-wn"
      },
      "execution_count": null,
      "outputs": []
    },
    {
      "cell_type": "markdown",
      "source": [
        "## Reto 199: Contar caracteres en un array\n",
        "* Cree una función para calcular cuántos caracteres hay en un array de strings.\n",
        "* Devuelve 0 si la lista dada no contiene caracteres.\n",
        "* Ejemplos:\n",
        "    1. count_characters([\"###\", \"###\", \"###\"]) ➞ 9\n",
        "    2. count_characters([\"22222222\", \"22222222\"]) ➞ 16\n",
        "    3. count_characters([\"------------------\"]) ➞ 18\n",
        "    4. count_characters([]) ➞ 0\n",
        "    5. count_characters([\"\", \"\"]) ➞ 0"
      ],
      "metadata": {
        "id": "fVegZSsk5_Ai"
      }
    },
    {
      "cell_type": "code",
      "source": [
        "def count_characters(arr):\n",
        "    pass"
      ],
      "metadata": {
        "id": "Hks8hilO5_Aj"
      },
      "execution_count": null,
      "outputs": []
    },
    {
      "cell_type": "code",
      "source": [
        "print(count_characters([\"###\", \"###\", \"###\"]))\n",
        "print(count_characters([\"22222222\", \"22222222\"]))\n",
        "print(count_characters([\"------------------\"]))\n",
        "print(count_characters([]))\n",
        "print(count_characters([\"\", \"\"]))"
      ],
      "metadata": {
        "id": "_7dmpODh5_Aj"
      },
      "execution_count": null,
      "outputs": []
    },
    {
      "cell_type": "markdown",
      "source": [
        "## Reto 200: Factorial por recursión\n",
        "* Escriba una función que calcule el factorial de un número de forma recursiva.\n",
        "* El factorial de cero, por definición, es uno.\n",
        "* Ejemplos:\n",
        "    1. factorial(5) ➞ 120\n",
        "    2. factorial(3) ➞ 6\n",
        "    3. factorial(1) ➞ 1\n",
        "    4. factorial(0) ➞ 1"
      ],
      "metadata": {
        "id": "JlJS8B9I5_N4"
      }
    },
    {
      "cell_type": "code",
      "source": [
        "def factorial(n):\n",
        "    pass"
      ],
      "metadata": {
        "id": "DgcPsjGy5_N5"
      },
      "execution_count": null,
      "outputs": []
    },
    {
      "cell_type": "code",
      "source": [
        "print(factorial(5))\n",
        "print(factorial(3))\n",
        "print(factorial(1))\n",
        "print(factorial(0))"
      ],
      "metadata": {
        "id": "gVbceOZB5_N5"
      },
      "execution_count": null,
      "outputs": []
    }
  ]
}