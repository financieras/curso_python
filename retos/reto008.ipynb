{
  "nbformat": 4,
  "nbformat_minor": 0,
  "metadata": {
    "colab": {
      "provenance": [],
      "authorship_tag": "ABX9TyOP/z1854pzwueZnjKK+kin",
      "include_colab_link": true
    },
    "kernelspec": {
      "name": "python3",
      "display_name": "Python 3"
    },
    "language_info": {
      "name": "python"
    }
  },
  "cells": [
    {
      "cell_type": "markdown",
      "metadata": {
        "id": "view-in-github",
        "colab_type": "text"
      },
      "source": [
        "<a href=\"https://colab.research.google.com/github/financieras/curso_python/blob/main/retos/reto008.ipynb\" target=\"_parent\"><img src=\"https://colab.research.google.com/assets/colab-badge.svg\" alt=\"Open In Colab\"/></a>"
      ]
    },
    {
      "cell_type": "markdown",
      "source": [
        "## Reto 8: Retornar el resto\n",
        "* Cree una función que reciba como parámetros el `numerador` y el `denominador` de una división y retorne el resto, también llamado resíduo o módulo.\n",
        "* Ejemplos:\n",
        "    1. mod(24, 5) ➞ 4\n",
        "    2. mod(50, 10) ➞ 0\n",
        "    3. mod(3, 4) ➞ 3"
      ],
      "metadata": {
        "id": "huBmVKl0Gc8j"
      }
    },
    {
      "cell_type": "code",
      "source": [
        "def mod(numerador, denominador):\n",
        "    pass"
      ],
      "metadata": {
        "id": "Rjn3vhLC58v3"
      },
      "execution_count": null,
      "outputs": []
    },
    {
      "cell_type": "code",
      "source": [
        "print(mod(24, 5))\n",
        "print(mod(50, 10))\n",
        "print(mod(3, 4))"
      ],
      "metadata": {
        "id": "DrNewByi6MAg"
      },
      "execution_count": null,
      "outputs": []
    }
  ]
}