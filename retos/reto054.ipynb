{
  "nbformat": 4,
  "nbformat_minor": 0,
  "metadata": {
    "colab": {
      "provenance": [],
      "authorship_tag": "ABX9TyNUJsbl5KH64r6eEx/umBSq",
      "include_colab_link": true
    },
    "kernelspec": {
      "name": "python3",
      "display_name": "Python 3"
    },
    "language_info": {
      "name": "python"
    }
  },
  "cells": [
    {
      "cell_type": "markdown",
      "metadata": {
        "id": "view-in-github",
        "colab_type": "text"
      },
      "source": [
        "<a href=\"https://colab.research.google.com/github/financieras/curso_python/blob/main/retos/reto054.ipynb\" target=\"_parent\"><img src=\"https://colab.research.google.com/assets/colab-badge.svg\" alt=\"Open In Colab\"/></a>"
      ]
    },
    {
      "cell_type": "markdown",
      "source": [
        "## Reto 54: String de logitud impar\n",
        "* Dada una cadena, devuelve `True` si su longitud es impar o `False` si la longitud es par.\n",
        "* Ejemplos:\n",
        "    1. longitud_impar(\"Ana\") ➞ True\n",
        "    2. longitud_impar(\"Anna\") ➞ False\n",
        "    3. longitud_impar(\"aguacate\") ➞ False\n",
        "    4. longitud_impar(\"New York\") ➞ False\n"
      ],
      "metadata": {
        "id": "gnI8xq9wzlWP"
      }
    },
    {
      "cell_type": "code",
      "source": [
        "def longitud_impar(cadena):\n",
        "    pass"
      ],
      "metadata": {
        "id": "N8H_u16a13bU"
      },
      "execution_count": null,
      "outputs": []
    },
    {
      "cell_type": "code",
      "source": [
        "print(longitud_impar(\"Ana\"))\n",
        "print(longitud_impar(\"Anna\"))\n",
        "print(longitud_impar(\"aguacate\"))\n",
        "print(longitud_impar(\"New York\"))"
      ],
      "metadata": {
        "id": "r5HM4vmD13ba"
      },
      "execution_count": null,
      "outputs": []
    }
  ]
}