{
  "nbformat": 4,
  "nbformat_minor": 0,
  "metadata": {
    "colab": {
      "provenance": [],
      "authorship_tag": "ABX9TyMdei+lHp8pkDaPl4PCKBXq",
      "include_colab_link": true
    },
    "kernelspec": {
      "name": "python3",
      "display_name": "Python 3"
    },
    "language_info": {
      "name": "python"
    }
  },
  "cells": [
    {
      "cell_type": "markdown",
      "metadata": {
        "id": "view-in-github",
        "colab_type": "text"
      },
      "source": [
        "<a href=\"https://colab.research.google.com/github/financieras/curso_python/blob/main/retos/reto098.ipynb\" target=\"_parent\"><img src=\"https://colab.research.google.com/assets/colab-badge.svg\" alt=\"Open In Colab\"/></a>"
      ]
    },
    {
      "cell_type": "markdown",
      "source": [
        "## Reto 98: El último elemento\n",
        "* Cree una función que devuelva el último valor de una lista o de una cadena.\n",
        "* Ejemplos:\n",
        "    1. ultimo([0, 4, 19, 34, 50, -9, 2]) ➞ 2\n",
        "    2. ultimo(\"pensar antes de hablar\") ➞ r\n",
        "    3. ultimo([]) ➞ None\n",
        "    4. ultimo(\"\") ➞ None\n",
        "* Las listas o las cadenas pueden ser de diferentes tamaños.\n",
        "* Devuelva `None` si la lista o la cadena está vacía.\n"
      ],
      "metadata": {
        "id": "4WL8wbnIntbH"
      }
    },
    {
      "cell_type": "code",
      "source": [
        "def ultimo(objeto):\n",
        "    pass"
      ],
      "metadata": {
        "id": "gu6KsdER2uUf"
      },
      "execution_count": null,
      "outputs": []
    },
    {
      "cell_type": "code",
      "source": [
        "print(ultimo([0, 4, 19, 34, 50, -9, 2]))\n",
        "print(ultimo(\"pensar antes de hablar\"))\n",
        "print(ultimo([]))\n",
        "print(ultimo(\"\"))"
      ],
      "metadata": {
        "id": "O7e5d4YD2uUf"
      },
      "execution_count": null,
      "outputs": []
    }
  ]
}