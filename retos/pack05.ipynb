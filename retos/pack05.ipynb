{
  "nbformat": 4,
  "nbformat_minor": 0,
  "metadata": {
    "colab": {
      "provenance": [],
      "authorship_tag": "ABX9TyNV9iv4v3l/mEn78fAPehKH",
      "include_colab_link": true
    },
    "kernelspec": {
      "name": "python3",
      "display_name": "Python 3"
    },
    "language_info": {
      "name": "python"
    }
  },
  "cells": [
    {
      "cell_type": "markdown",
      "metadata": {
        "id": "view-in-github",
        "colab_type": "text"
      },
      "source": [
        "<a href=\"https://colab.research.google.com/github/financieras/curso_python/blob/main/retos/pack05.ipynb\" target=\"_parent\"><img src=\"https://colab.research.google.com/assets/colab-badge.svg\" alt=\"Open In Colab\"/></a>"
      ]
    },
    {
      "cell_type": "markdown",
      "source": [
        "## Reto 41: Fotogramas por segundo\n",
        "* Cree una función que devuelva el número de fotogramas mostrados en un número determinado de minutos para una determinada catidad de FPS.\n",
        "* FPS significa \"fotogramas por segundo\" y es la cantidad de fotogramas que muestra la pantalla cada segundo.\n",
        "* Ejemplos:\n",
        "    1. frames(1, 1) ➞ 60\n",
        "    2. frames(10, 1) ➞ 600\n",
        "    3. frames(10, 25) ➞ 15000\n",
        "    4. frames(100, 24) ➞ 144000\n",
        "\n",
        "* Ejemplo:  \n",
        "    - Una película de 100 minutos grabada a 24 fps, ratio habitual en el cine clásico, está formada por 144.000 fotogramas."
      ],
      "metadata": {
        "id": "sIkIwIhrym10"
      }
    },
    {
      "cell_type": "code",
      "source": [
        "def frames(minutos, fps):\n",
        "    pass"
      ],
      "metadata": {
        "id": "mDNVofHz9bhH"
      },
      "execution_count": null,
      "outputs": []
    },
    {
      "cell_type": "code",
      "source": [
        "print(frames(1, 1))\n",
        "print(frames(10, 1))\n",
        "print(frames(10, 25))\n",
        "print(frames(100, 24))"
      ],
      "metadata": {
        "id": "wktquVTCAitB"
      },
      "execution_count": null,
      "outputs": []
    },
    {
      "cell_type": "markdown",
      "source": [
        "## Reto 42: Multiplo de cien\n",
        "* Cree una función que tome un número entero y devuelva `True` si es divisible por 100; de lo contrario, devuelva `False`.\n",
        "* Ejemplos:\n",
        "    1. divisible(1) ➞ False\n",
        "    2. divisible(1000) ➞ True\n",
        "    3. divisible(100) ➞ True\n"
      ],
      "metadata": {
        "id": "ZtQLbKpvym7z"
      }
    },
    {
      "cell_type": "code",
      "source": [
        "def divisible(n):\n",
        "    pass"
      ],
      "metadata": {
        "id": "vVHp8sAc9cOL"
      },
      "execution_count": null,
      "outputs": []
    },
    {
      "cell_type": "code",
      "source": [
        "print(divisible(1))\n",
        "print(divisible(1000))\n",
        "print(divisible(100))"
      ],
      "metadata": {
        "id": "Zqno7VoADEoA"
      },
      "execution_count": null,
      "outputs": []
    },
    {
      "cell_type": "markdown",
      "source": [
        "## Reto 43: Comprobar si $k^k=n$\n",
        "* Escriba una función que devuelva `True` si $k^k = n$ para la entrada `(k, n)`\n",
        "* y devuelva `False` en caso contrario.\n",
        "* Ejemplos:\n",
        "    1. k_to_k(2, 4) ➞ True\n",
        "    2. k_to_k(9, 387420489) ➞ True  \n",
        "    3. k_to_k(5, 3124) ➞ False\n",
        "    4. k_to_k(3, 17) ➞ False\n",
        "* Nueve elevado a nueve es $9^{9} = 387420489$\n"
      ],
      "metadata": {
        "id": "9TtBcMbWynC5"
      }
    },
    {
      "cell_type": "code",
      "source": [
        "def k_to_k(k, n):\n",
        "    pass"
      ],
      "metadata": {
        "id": "WfIQKBmC9cls"
      },
      "execution_count": null,
      "outputs": []
    },
    {
      "cell_type": "code",
      "source": [
        "print(k_to_k(2, 4))\n",
        "print(k_to_k(9, 387420489))\n",
        "print(k_to_k(5, 3124))\n",
        "print(k_to_k(3, 17))"
      ],
      "metadata": {
        "id": "ea9J5Bi7ECfd"
      },
      "execution_count": null,
      "outputs": []
    },
    {
      "cell_type": "markdown",
      "source": [
        "## Reto 44: Despistes al programar\n",
        "* Disponemos de una función que no trabaja correctamente ya estábamos algo despistados al programarla.\n",
        "* Mire los ejemplos siguientes para tener una idea de lo que debe hacer la función.\n",
        "* Ejemplos:\n",
        "    1. max_num(3, 7) ➞ 7\n",
        "    2. max_num(-1, -4) ➞ -1\n",
        "    2. max_num(10, 10) ➞ 10\n",
        "\n",
        "* El código que da problemas es el siguiente:\n",
        "\n",
        "<pre>\n",
        "def max_num(n1, n2):\n",
        "\tif n1 > n2:\n",
        "\t\treturn n2\n",
        "\telif:\n",
        "\t\treturn n1\n",
        "</pre>\n"
      ],
      "metadata": {
        "id": "tJ6I-ImMynKm"
      }
    },
    {
      "cell_type": "code",
      "source": [
        "def max_num(n1, n2):\n",
        "    pass"
      ],
      "metadata": {
        "id": "VI-IY_YB9dHd"
      },
      "execution_count": null,
      "outputs": []
    },
    {
      "cell_type": "code",
      "source": [
        "print(max_num(3, 7))\n",
        "print(max_num(-1, -4))\n",
        "print(max_num(10, 10))"
      ],
      "metadata": {
        "id": "CXWsahXDE0N6"
      },
      "execution_count": null,
      "outputs": []
    },
    {
      "cell_type": "markdown",
      "source": [
        "## Reto 45: Comparar cadenas por número de caracteres\n",
        "* Cree una función que tome dos strings como argumentos y devuelva `True` o `False` dependiendo de si el número total de caracteres en la primera cadena es igual al número total de caracteres en la segunda cadena.\n",
        "* Ejemplos:\n",
        "    1. compare(\"AB\", \"cd\") ➞ True\n",
        "    2. compare(\"ABC\", \"DE\") ➞ False\n",
        "    3. compare(\"hello\", \"Madrid\") ➞ False\n",
        "    4. compare(\"XY\", \"42\") ➞ True"
      ],
      "metadata": {
        "id": "aHMUHOt_zlRT"
      }
    },
    {
      "cell_type": "code",
      "source": [
        "def compare(str1, str2):\n",
        "    pass"
      ],
      "metadata": {
        "id": "K9InmdMt9dtc"
      },
      "execution_count": null,
      "outputs": []
    },
    {
      "cell_type": "code",
      "source": [
        "print(compare(\"AB\", \"cd\"))\n",
        "print(compare(\"ABC\", \"DE\"))\n",
        "print(compare(\"hello\", \"Madrid\"))\n",
        "print(compare(\"XY\", \"42\"))"
      ],
      "metadata": {
        "id": "Ow-a2imJGxVX"
      },
      "execution_count": null,
      "outputs": []
    },
    {
      "cell_type": "markdown",
      "source": [
        "## Reto 46: División exacta\n",
        "* Dados dos números enteros, `a` y `b`, devuelve `True` si `a` se puede dividir entre `b` y el resultado no arroja decimales.\n",
        "* Devuelve `False` en caso contrario.\n",
        "* Ejemplos:\n",
        "    1. division_exacata(15, 5) ➞ True\n",
        "    2. division_exacata(16, 5) ➞ False\n",
        "    3. division_exacata(12, 2) ➞ True\n"
      ],
      "metadata": {
        "id": "F8WNfl5szxTo"
      }
    },
    {
      "cell_type": "code",
      "source": [
        "def division_exacata(a, b):\n",
        "    pass"
      ],
      "metadata": {
        "id": "k2FPPi7u9eVK"
      },
      "execution_count": null,
      "outputs": []
    },
    {
      "cell_type": "code",
      "source": [
        "print(division_exacata(15, 5))\n",
        "print(division_exacata(16, 5))\n",
        "print(division_exacata(12, 2))"
      ],
      "metadata": {
        "id": "sB4UmsoGswjp"
      },
      "execution_count": null,
      "outputs": []
    },
    {
      "cell_type": "markdown",
      "source": [
        "## Reto 47: Cargando baterías\n",
        "* Un vehículo necesita 10 veces más carga que la distancia que recorre.\n",
        "* Sin embargo, siempre debe llevar un mínimo de 100 de combustible antes de partir.\n",
        "* Cree una función que calcule la cantidad de carga que necesita, dada la distancia.\n",
        "* Ejemplos:\n",
        "    1. calcula_carga(15) ➞ 150\n",
        "    2. calcula_carga(23.5) ➞ 235\n",
        "    3. calcula_carga(3) ➞ 100\n",
        "* La distancia será un número mayor que cero.\n",
        "* Devuelve 100 si la carga calculada resulta ser inferior a 100."
      ],
      "metadata": {
        "id": "KL8LNZmnzx_N"
      }
    },
    {
      "cell_type": "code",
      "source": [
        "def calcula_carga(km):\n",
        "    pass"
      ],
      "metadata": {
        "id": "ArIiZmcr9e1h"
      },
      "execution_count": null,
      "outputs": []
    },
    {
      "cell_type": "code",
      "source": [
        "print(calcula_carga(15))\n",
        "print(calcula_carga(23.5))\n",
        "print(calcula_carga(3))"
      ],
      "metadata": {
        "id": "wudZ7035vqPY"
      },
      "execution_count": null,
      "outputs": []
    },
    {
      "cell_type": "markdown",
      "source": [
        "## Reto 48: ¿Está vacía la cadena?\n",
        "* Cree una función que devuelva `True` si una cadena está vacía y `False` en caso contrario.\n",
        "* Ejemplos:\n",
        "    1. is_empty(\"\") ➞ True\n",
        "    2. is_empty(\" \") ➞ False\n",
        "    3. is_empty(\"a\") ➞ False\n",
        "* Un string que contiene algún espacio en blanco `\" \"` no cuenta como vacío."
      ],
      "metadata": {
        "id": "7woygAxxzyFh"
      }
    },
    {
      "cell_type": "code",
      "source": [
        "def is_empty(cadena):\n",
        "    pass"
      ],
      "metadata": {
        "id": "mpNylrC-9fR-"
      },
      "execution_count": null,
      "outputs": []
    },
    {
      "cell_type": "code",
      "source": [
        "print(is_empty(\"\"))\n",
        "print(is_empty(\" \"))\n",
        "print(is_empty(\"a\"))"
      ],
      "metadata": {
        "id": "tRqfo_TCwXn0"
      },
      "execution_count": null,
      "outputs": []
    },
    {
      "cell_type": "markdown",
      "source": [
        "## Reto 49: Retorna negativo\n",
        "* Cree una función que tome un número como argumento y devuelva un negativo de ese número.\n",
        "* Si el número previamente ya es negativo lo devuelve sin ningún cambio.\n",
        "* Ejemplos:\n",
        "    1. return_negative(4) ➞ -4\n",
        "    2. return_negative(15) ➞ -15\n",
        "    3. return_negative(-4) ➞ -4\n",
        "    4. return_negative(0) ➞ 0\n"
      ],
      "metadata": {
        "id": "YEjGoQpPzyRK"
      }
    },
    {
      "cell_type": "code",
      "source": [
        "def return_negative(x):\n",
        "    pass"
      ],
      "metadata": {
        "id": "dglxs40q9fw6"
      },
      "execution_count": null,
      "outputs": []
    },
    {
      "cell_type": "code",
      "source": [
        "print(return_negative(4))\n",
        "print(return_negative(15))\n",
        "print(return_negative(-4))\n",
        "print(return_negative(0))"
      ],
      "metadata": {
        "id": "wrNMmqdRzDIj"
      },
      "execution_count": null,
      "outputs": []
    },
    {
      "cell_type": "markdown",
      "source": [
        "## Reto 50: ¿Suma la lista menos de cien?\n",
        "* Cree una función que reciba una lista de números\n",
        "* Se retorna `True` si la suma de los valores de la lista es menor estricto que 100, de lo contrario, se retorna `False`.\n",
        "* Ejemplos:\n",
        "    1. menos_que_cien([5, 57]) ➞ True\n",
        "    2. menos_que_cien([77, 30]) ➞ False\n",
        "    3. menos_que_cien([0]) ➞ True\n",
        "    4. menos_que_cien([7, 33, 15]) ➞ True\n",
        "    5. menos_que_cien([95, 1, 1, 1, 2]) ➞ False\n"
      ],
      "metadata": {
        "id": "emD22dC-zyWu"
      }
    },
    {
      "cell_type": "code",
      "source": [
        "def menos_que_cien(lista):\n",
        "    pass"
      ],
      "metadata": {
        "id": "qOiSp3Jm9gP3"
      },
      "execution_count": null,
      "outputs": []
    },
    {
      "cell_type": "code",
      "source": [
        "print(menos_que_cien([5, 57]))\n",
        "print(menos_que_cien([77, 30]))\n",
        "print(menos_que_cien([0]))\n",
        "print(menos_que_cien([7, 33, 15]))\n",
        "print(menos_que_cien([95, 1, 1, 1, 2]))"
      ],
      "metadata": {
        "id": "jlZ6Jzbi0blt"
      },
      "execution_count": null,
      "outputs": []
    }
  ]
}