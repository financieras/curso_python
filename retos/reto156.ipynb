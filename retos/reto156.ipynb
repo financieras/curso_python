{
  "nbformat": 4,
  "nbformat_minor": 0,
  "metadata": {
    "colab": {
      "provenance": [],
      "authorship_tag": "ABX9TyOGG22G5jNHRuyvm9XLR3VH",
      "include_colab_link": true
    },
    "kernelspec": {
      "name": "python3",
      "display_name": "Python 3"
    },
    "language_info": {
      "name": "python"
    }
  },
  "cells": [
    {
      "cell_type": "markdown",
      "metadata": {
        "id": "view-in-github",
        "colab_type": "text"
      },
      "source": [
        "<a href=\"https://colab.research.google.com/github/financieras/curso_python/blob/main/retos/reto156.ipynb\" target=\"_parent\"><img src=\"https://colab.research.google.com/assets/colab-badge.svg\" alt=\"Open In Colab\"/></a>"
      ]
    },
    {
      "cell_type": "markdown",
      "source": [
        "## Reto 156: Errores al escanear un documento\n",
        "* El software de reconocimiento de caracteres a menudo comete errores cuando se digitalizan documentos (especialmente los antiguos escritos con una máquina de escribir).\n",
        "* Su tarea es corregir los errores en el texto digitalizado. Sólo tienes que manejar los siguientes errores:\n",
        "    - A se malinterpreta como 4\n",
        "    - S se malinterpreta como 5\n",
        "    - O se malinterpreta como 0\n",
        "    - I se malinterpreta como 1\n",
        "* Los casos de prueba contienen números sólo por error.\n",
        "* Ejemplos:\n",
        "    1. keyboard_mistakes(\"DUBL1N\") ➞ \"DUBLIN\"\n",
        "    2. keyboard_mistakes(\"51NG4P0RE\") ➞ \"SINGAPORE\"\n",
        "    3. keyboard_mistakes(\"4514\") ➞ \"ASIA\""
      ],
      "metadata": {
        "id": "SpGVJVCJmXQC"
      }
    },
    {
      "cell_type": "code",
      "source": [
        "def keyboard_mistakes(txt):\n",
        "    pass"
      ],
      "metadata": {
        "id": "8jdYwdtc2JEi"
      },
      "execution_count": null,
      "outputs": []
    },
    {
      "cell_type": "code",
      "source": [
        "print(keyboard_mistakes(\"DUBL1N\"))\n",
        "print(keyboard_mistakes(\"51NG4P0RE\"))\n",
        "print(keyboard_mistakes(\"4514\"))"
      ],
      "metadata": {
        "id": "zB1jDIsR2JEi"
      },
      "execution_count": null,
      "outputs": []
    }
  ]
}