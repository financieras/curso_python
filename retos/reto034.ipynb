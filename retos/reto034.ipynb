{
  "nbformat": 4,
  "nbformat_minor": 0,
  "metadata": {
    "colab": {
      "provenance": [],
      "authorship_tag": "ABX9TyOPV8Lz+SPgL8NEq60gFgb0",
      "include_colab_link": true
    },
    "kernelspec": {
      "name": "python3",
      "display_name": "Python 3"
    },
    "language_info": {
      "name": "python"
    }
  },
  "cells": [
    {
      "cell_type": "markdown",
      "metadata": {
        "id": "view-in-github",
        "colab_type": "text"
      },
      "source": [
        "<a href=\"https://colab.research.google.com/github/financieras/curso_python/blob/main/retos/reto034.ipynb\" target=\"_parent\"><img src=\"https://colab.research.google.com/assets/colab-badge.svg\" alt=\"Open In Colab\"/></a>"
      ]
    },
    {
      "cell_type": "markdown",
      "source": [
        "## Reto 34: Compruebe si dos diccionarios son iguales\n",
        "* Cree una función que verifique si los dos argumentos que pasamos a la función son iguales entre sí.\n",
        "* La función tiene dos parámetros de tipo diccionario.\n",
        "* Devuelve `True` si los objetos son iguales; de lo contrario, devuelve `False`.\n",
        "* Ejemplos:\n",
        "    1. Ejemplo 1. Alterando el orden de las parejas `clave:valor`\n",
        "\n",
        "    Este es el objeto 1:\n",
        "    ```python\n",
        "obj_one = {\n",
        "    \"name\": \"Alex\",\n",
        "    \"phone\": \"687654321\",\n",
        "    \"email\": \"alex@gmail.com\"\n",
        "    }\n",
        "```\n",
        "    \n",
        "    Este es el objeto 2:\n",
        "```python\n",
        "obj_two = {\n",
        "    \"name\": \"Alex\",\n",
        "    \"email\": \"alex@gmail.com\",\n",
        "    \"phone\": \"687654321\"\n",
        "    }\n",
        "```\n",
        "\n",
        "    is_equal(obj_one, obj_two) ➞ True\n",
        "\n",
        "    2. Ejemplo 2.\n",
        "\n",
        "    Este es el objeto 1:\n",
        "    ```python\n",
        "obj_one = {\n",
        "    \"name\": \"Julia\",\n",
        "    \"phone\": \"612345678\",\n",
        "    \"email\": \"julia@gmail.com\"\n",
        "    }\n",
        "```\n",
        "    \n",
        "    Este es el objeto 2:\n",
        "```python\n",
        "obj_two = {\n",
        "    \"nombre\": \"Julia\",\n",
        "    \"telefono\": \"612345678\",\n",
        "    \"correo\": \"julia@gmail.com\"\n",
        "    }\n",
        "```\n",
        "\n",
        "    is_equal(obj_one, obj_two) ➞ False"
      ],
      "metadata": {
        "id": "AzEc5OxujTmX"
      }
    },
    {
      "cell_type": "code",
      "source": [
        "def is_equal(objeto1, objeto2):\n",
        "    pass"
      ],
      "metadata": {
        "id": "oz-Ne1a8Lwu4"
      },
      "execution_count": null,
      "outputs": []
    },
    {
      "cell_type": "code",
      "source": [
        "# The first object parameter.\n",
        "obj_one = {\n",
        "\"name\": \"Alex\",\n",
        "\"phone\": \"687654321\",\n",
        "\"email\": \"alex@gmail.com\"\n",
        "}\n",
        "\n",
        "# The second object parameter.\n",
        "obj_two = {\n",
        "\"name\": \"Alex\",\n",
        "\"email\": \"alex@gmail.com\",\n",
        "\"phone\": \"687654321\"\n",
        "}\n",
        "\n",
        "is_equal(obj_one, obj_two)"
      ],
      "metadata": {
        "id": "9ILlA13lMIQH"
      },
      "execution_count": null,
      "outputs": []
    },
    {
      "cell_type": "code",
      "source": [
        "# The first object parameter.\n",
        "obj_one = {\n",
        "\"name\": \"Julia\",\n",
        "\"phone\": \"612345678\",\n",
        "\"email\": \"julia@gmail.com\"\n",
        "}\n",
        "\n",
        "# The second object parameter.\n",
        "obj_two = {\n",
        "\"nombre\": \"Julia\",\n",
        "\"telefono\": \"612345678\",\n",
        "\"correo\": \"julia@gmail.com\"\n",
        "}\n",
        "\n",
        "is_equal(obj_one, obj_two)"
      ],
      "metadata": {
        "id": "Noihc1FzMiax"
      },
      "execution_count": null,
      "outputs": []
    }
  ]
}