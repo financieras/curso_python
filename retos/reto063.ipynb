{
  "nbformat": 4,
  "nbformat_minor": 0,
  "metadata": {
    "colab": {
      "provenance": [],
      "authorship_tag": "ABX9TyMyJI6MyTtCxp59eqZvumbC",
      "include_colab_link": true
    },
    "kernelspec": {
      "name": "python3",
      "display_name": "Python 3"
    },
    "language_info": {
      "name": "python"
    }
  },
  "cells": [
    {
      "cell_type": "markdown",
      "metadata": {
        "id": "view-in-github",
        "colab_type": "text"
      },
      "source": [
        "<a href=\"https://colab.research.google.com/github/financieras/curso_python/blob/main/retos/reto063.ipynb\" target=\"_parent\"><img src=\"https://colab.research.google.com/assets/colab-badge.svg\" alt=\"Open In Colab\"/></a>"
      ]
    },
    {
      "cell_type": "markdown",
      "source": [
        "## Reto 63: Posiciones de conmutadores\n",
        "* Disponemos de 'n' conmutadores de encendido/apagado (On/Off Switches)\n",
        "* Cree una función que devuelva cuántas disposiciones posibles pueden provenir de un determinado número de interruptores.\n",
        "* En otras palabras, para un número determinado `n` de interruptores, ¿cuántos patrones diferentes de encendido y apagado podemos tener?\n",
        "* Ejemplos:\n",
        "    1. posiciones(1) ➞ 2\n",
        "    2. posiciones(3) ➞ 8\n",
        "    3. posiciones(10) ➞ 1024"
      ],
      "metadata": {
        "id": "Qr1u5eabzlbL"
      }
    },
    {
      "cell_type": "code",
      "source": [
        "def posiciones(n):\n",
        "    pass"
      ],
      "metadata": {
        "id": "mSKKjr-V2-l8"
      },
      "execution_count": null,
      "outputs": []
    },
    {
      "cell_type": "code",
      "source": [
        "print(posiciones(1))\n",
        "print(posiciones(3))\n",
        "print(posiciones(10))"
      ],
      "metadata": {
        "id": "JqtW3Qxp2-l8"
      },
      "execution_count": null,
      "outputs": []
    }
  ]
}