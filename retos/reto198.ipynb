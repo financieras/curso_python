{
  "nbformat": 4,
  "nbformat_minor": 0,
  "metadata": {
    "colab": {
      "provenance": [],
      "authorship_tag": "ABX9TyOCWhAJIPD5Wx/+tO1mzUFz",
      "include_colab_link": true
    },
    "kernelspec": {
      "name": "python3",
      "display_name": "Python 3"
    },
    "language_info": {
      "name": "python"
    }
  },
  "cells": [
    {
      "cell_type": "markdown",
      "metadata": {
        "id": "view-in-github",
        "colab_type": "text"
      },
      "source": [
        "<a href=\"https://colab.research.google.com/github/financieras/curso_python/blob/main/retos/reto198.ipynb\" target=\"_parent\"><img src=\"https://colab.research.google.com/assets/colab-badge.svg\" alt=\"Open In Colab\"/></a>"
      ]
    },
    {
      "cell_type": "markdown",
      "source": [
        "## Reto 198: El reverso\n",
        "* La función toma una cadena como entrada y devuelve esa cadena en orden inverso, con el caso opuesto de mayúsculas y minúsculas.\n",
        "* Ejemplos:\n",
        "    1. reverse(\"Hello World\") ➞ \"DLROw OLLEh\"\n",
        "    2. reverse(\"ReVeRsE\") ➞ \"eSrEvEr\"\n",
        "    3. reverse(\"Radar\") ➞ \"RADAr\""
      ],
      "metadata": {
        "id": "O26WYjpW5-wm"
      }
    },
    {
      "cell_type": "code",
      "source": [
        "def reverse(txt):\n",
        "    pass"
      ],
      "metadata": {
        "id": "jhPqNEvI5-wm"
      },
      "execution_count": null,
      "outputs": []
    },
    {
      "cell_type": "code",
      "source": [
        "print(reverse(\"Hello World\"))\n",
        "print(reverse(\"ReVeRsE\"))\n",
        "print(reverse(\"Radar\"))"
      ],
      "metadata": {
        "id": "bhBs4Im45-wn"
      },
      "execution_count": null,
      "outputs": []
    }
  ]
}