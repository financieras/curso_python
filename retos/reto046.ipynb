{
  "nbformat": 4,
  "nbformat_minor": 0,
  "metadata": {
    "colab": {
      "provenance": [],
      "authorship_tag": "ABX9TyPWMcDiMLL3Iho9Lida0MWX",
      "include_colab_link": true
    },
    "kernelspec": {
      "name": "python3",
      "display_name": "Python 3"
    },
    "language_info": {
      "name": "python"
    }
  },
  "cells": [
    {
      "cell_type": "markdown",
      "metadata": {
        "id": "view-in-github",
        "colab_type": "text"
      },
      "source": [
        "<a href=\"https://colab.research.google.com/github/financieras/curso_python/blob/main/retos/reto046.ipynb\" target=\"_parent\"><img src=\"https://colab.research.google.com/assets/colab-badge.svg\" alt=\"Open In Colab\"/></a>"
      ]
    },
    {
      "cell_type": "markdown",
      "source": [
        "## Reto 46: División exacta\n",
        "* Dados dos números enteros, `a` y `b`, devuelve `True` si `a` se puede dividir entre `b` y el resultado no arroja decimales.\n",
        "* Devuelve `False` en caso contrario.\n",
        "* Ejemplos:\n",
        "    1. division_exacata(15, 5) ➞ True\n",
        "    2. division_exacata(16, 5) ➞ False\n",
        "    3. division_exacata(12, 2) ➞ True\n"
      ],
      "metadata": {
        "id": "F8WNfl5szxTo"
      }
    },
    {
      "cell_type": "code",
      "source": [
        "def division_exacata(a, b):\n",
        "    pass"
      ],
      "metadata": {
        "id": "k2FPPi7u9eVK"
      },
      "execution_count": null,
      "outputs": []
    },
    {
      "cell_type": "code",
      "source": [
        "print(division_exacata(15, 5))\n",
        "print(division_exacata(16, 5))\n",
        "print(division_exacata(12, 2))"
      ],
      "metadata": {
        "id": "sB4UmsoGswjp"
      },
      "execution_count": null,
      "outputs": []
    }
  ]
}