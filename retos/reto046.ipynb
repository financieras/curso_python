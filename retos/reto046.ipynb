{
  "nbformat": 4,
  "nbformat_minor": 0,
  "metadata": {
    "colab": {
      "provenance": [],
      "authorship_tag": "ABX9TyPTMKqtSj9YwwNVEOtd3Y2u",
      "include_colab_link": true
    },
    "kernelspec": {
      "name": "python3",
      "display_name": "Python 3"
    },
    "language_info": {
      "name": "python"
    }
  },
  "cells": [
    {
      "cell_type": "markdown",
      "metadata": {
        "id": "view-in-github",
        "colab_type": "text"
      },
      "source": [
        "<a href=\"https://colab.research.google.com/github/financieras/curso_python/blob/main/retos/reto046.ipynb\" target=\"_parent\"><img src=\"https://colab.research.google.com/assets/colab-badge.svg\" alt=\"Open In Colab\"/></a>"
      ]
    },
    {
      "cell_type": "markdown",
      "source": [
        "## Reto 46: Si hay un 3 ganas\n",
        "* Crea una función que genere un número aleatorio entero entre 100.000 y 200.000.\n",
        "* Si hay al menos hay un 3 ganas, en caso contrario pierdes.\n",
        "* La función imprime el número aleatorio generado, después un espacio y finalmente se indica si ganas o pierdes.\n",
        "* Ejemplos:\n",
        "    1. gana_el_tres() ➞ 140848 pierdes\n",
        "    2. gana_el_tres() ➞ 176385 ganas\n",
        "    3. gana_el_tres() ➞ 190833 ganas\n",
        "    4. gana_el_tres() ➞ 196202 pierdes\n"
      ],
      "metadata": {
        "id": "F8WNfl5szxTo"
      }
    },
    {
      "cell_type": "code",
      "source": [
        "def gana_el_tres():\n",
        "    pass"
      ],
      "metadata": {
        "id": "k2FPPi7u9eVK"
      },
      "execution_count": null,
      "outputs": []
    },
    {
      "cell_type": "code",
      "source": [
        "print(gana_el_tres())\n",
        "print(gana_el_tres())\n",
        "print(gana_el_tres())\n",
        "print(gana_el_tres())"
      ],
      "metadata": {
        "id": "sB4UmsoGswjp"
      },
      "execution_count": null,
      "outputs": []
    }
  ]
}