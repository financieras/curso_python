{
  "nbformat": 4,
  "nbformat_minor": 0,
  "metadata": {
    "colab": {
      "provenance": [],
      "authorship_tag": "ABX9TyMBnBKJGl9Sgb12dmrbkigV",
      "include_colab_link": true
    },
    "kernelspec": {
      "name": "python3",
      "display_name": "Python 3"
    },
    "language_info": {
      "name": "python"
    }
  },
  "cells": [
    {
      "cell_type": "markdown",
      "metadata": {
        "id": "view-in-github",
        "colab_type": "text"
      },
      "source": [
        "<a href=\"https://colab.research.google.com/github/financieras/curso_python/blob/main/retos/reto199.ipynb\" target=\"_parent\"><img src=\"https://colab.research.google.com/assets/colab-badge.svg\" alt=\"Open In Colab\"/></a>"
      ]
    },
    {
      "cell_type": "markdown",
      "source": [
        "## Reto 199: Contar caracteres en un array\n",
        "* Cree una función para calcular cuántos caracteres hay en un array de strings.\n",
        "* Devuelve 0 si la lista dada no contiene caracteres.\n",
        "* Ejemplos:\n",
        "    1. count_characters([\"###\", \"###\", \"###\"]) ➞ 9\n",
        "    2. count_characters([\"22222222\", \"22222222\"]) ➞ 16\n",
        "    3. count_characters([\"------------------\"]) ➞ 18\n",
        "    4. count_characters([]) ➞ 0\n",
        "    5. count_characters([\"\", \"\"]) ➞ 0"
      ],
      "metadata": {
        "id": "fVegZSsk5_Ai"
      }
    },
    {
      "cell_type": "code",
      "source": [
        "def count_characters(arr):\n",
        "    pass"
      ],
      "metadata": {
        "id": "Hks8hilO5_Aj"
      },
      "execution_count": null,
      "outputs": []
    },
    {
      "cell_type": "code",
      "source": [
        "print(count_characters([\"###\", \"###\", \"###\"]))\n",
        "print(count_characters([\"22222222\", \"22222222\"]))\n",
        "print(count_characters([\"------------------\"]))\n",
        "print(count_characters([]))\n",
        "print(count_characters([\"\", \"\"]))"
      ],
      "metadata": {
        "id": "_7dmpODh5_Aj"
      },
      "execution_count": null,
      "outputs": []
    }
  ]
}