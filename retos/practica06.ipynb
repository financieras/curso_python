{
  "nbformat": 4,
  "nbformat_minor": 0,
  "metadata": {
    "colab": {
      "provenance": [],
      "authorship_tag": "ABX9TyOPCKRQZERRvwnQUpUcMFXl",
      "include_colab_link": true
    },
    "kernelspec": {
      "name": "python3",
      "display_name": "Python 3"
    },
    "language_info": {
      "name": "python"
    }
  },
  "cells": [
    {
      "cell_type": "markdown",
      "metadata": {
        "id": "view-in-github",
        "colab_type": "text"
      },
      "source": [
        "<a href=\"https://colab.research.google.com/github/financieras/curso_python/blob/main/retos/practica06.ipynb\" target=\"_parent\"><img src=\"https://colab.research.google.com/assets/colab-badge.svg\" alt=\"Open In Colab\"/></a>"
      ]
    },
    {
      "cell_type": "markdown",
      "source": [
        "## Reto 51: Concatenar nombre y apellido\n",
        "* Una función recibe dos parámetros: `nombre` y `apellido`, en este orden.\n",
        "* La función retorna una cadena que contiene primero el `apellido` y luego el `nombre`, separados por coma y espacio.\n",
        "* Ejemplos:\n",
        "    1. concatenar_nombre(\"Jose\", \"Ruiz\") ➞ \"Ruiz, Jose\"\n",
        "    2. concatenar_nombre(\"Ana\", \"Díaz\") ➞ \"Díaz, Ana\"\n",
        "    3. concatenar_nombre(\"María\", \"Ortiz\") ➞ \"Ortiz, María\"\n"
      ],
      "metadata": {
        "id": "cx9UNV3Rzydb"
      }
    },
    {
      "cell_type": "code",
      "source": [
        "def concatenar_nombre(nombre, apellido):\n",
        "    pass"
      ],
      "metadata": {
        "id": "VKAUViKm1jwJ"
      },
      "execution_count": null,
      "outputs": []
    },
    {
      "cell_type": "code",
      "source": [
        "print(concatenar_nombre(\"Jose\", \"Ruiz\"))\n",
        "print(concatenar_nombre(\"Ana\", \"Díaz\"))\n",
        "print(concatenar_nombre(\"María\", \"Ortiz\"))"
      ],
      "metadata": {
        "id": "bryeAC5e1x2y"
      },
      "execution_count": null,
      "outputs": []
    },
    {
      "cell_type": "markdown",
      "source": [
        "## Reto 52: Calculadora de un string\n",
        "* Cree una función que maneje expresiones matemáticas simples.\n",
        "* La entrada es una expresión en forma de string.\n",
        "* Ejemplos:\n",
        "    1. calculadora(\"23+4\") ➞ 27\n",
        "    2. calculadora(\"45-15\") ➞ 30\n",
        "    3. calculadora(\"13+2-5*2\") ➞ 5\n",
        "    4. calculadora(\"49/7*2-3\") ➞ 11.0\n"
      ],
      "metadata": {
        "id": "rIJcTIllzykJ"
      }
    },
    {
      "cell_type": "code",
      "source": [
        "def calculadora(cadena):\n",
        "    pass"
      ],
      "metadata": {
        "id": "jgPtwUAR1tZh"
      },
      "execution_count": null,
      "outputs": []
    },
    {
      "cell_type": "code",
      "source": [
        "print(calculadora(\"23+4\"))\n",
        "print(calculadora(\"45-15\"))\n",
        "print(calculadora(\"13+2-5*2\"))\n",
        "print(calculadora(\"49/7*2-3\"))"
      ],
      "metadata": {
        "id": "H-j3ounX1ux2"
      },
      "execution_count": null,
      "outputs": []
    },
    {
      "cell_type": "markdown",
      "source": [
        "## Reto 53: Concatenar el primer y último carácter de un String\n",
        "* Cree una función que tome una cadena y devuelva el primer y último carácter concatenados.\n",
        "* Ejemplos:\n",
        "    1. primero_ultimo(\"hola\") ➞ \"ha\"\n",
        "    2. primero_ultimo(\"Hugo Martínez\") ➞ \"Hz\"\n",
        "    3. primero_ultimo(\"100%\") ➞ \"1%\""
      ],
      "metadata": {
        "id": "mciItVkzzyrJ"
      }
    },
    {
      "cell_type": "code",
      "source": [
        "def primero_ultimo(cadena):\n",
        "    pass"
      ],
      "metadata": {
        "id": "MyTMb8Y812eJ"
      },
      "execution_count": null,
      "outputs": []
    },
    {
      "cell_type": "code",
      "source": [
        "print(primero_ultimo(\"Hola\"))\n",
        "print(primero_ultimo(\"Hugo Martínez\"))\n",
        "print(primero_ultimo(\"100%\"))"
      ],
      "metadata": {
        "id": "HDIM4q7N12eK"
      },
      "execution_count": null,
      "outputs": []
    },
    {
      "cell_type": "markdown",
      "source": [
        "## Reto 54: String de longitud impar\n",
        "* Dada una cadena, devuelva `True` si su longitud es impar o `False` si la longitud es par.\n",
        "* Ejemplos:\n",
        "    1. longitud_impar(\"Ana\") ➞ True\n",
        "    2. longitud_impar(\"Jose\") ➞ False\n",
        "    3. longitud_impar(\"aguacate\") ➞ False\n",
        "    4. longitud_impar(\"New York\") ➞ False\n"
      ],
      "metadata": {
        "id": "gnI8xq9wzlWP"
      }
    },
    {
      "cell_type": "code",
      "source": [
        "def longitud_impar(cadena):\n",
        "    pass"
      ],
      "metadata": {
        "id": "N8H_u16a13bU"
      },
      "execution_count": null,
      "outputs": []
    },
    {
      "cell_type": "code",
      "source": [
        "print(longitud_impar(\"Ana\"))\n",
        "print(longitud_impar(\"Anna\"))\n",
        "print(longitud_impar(\"aguacate\"))\n",
        "print(longitud_impar(\"New York\"))"
      ],
      "metadata": {
        "id": "r5HM4vmD13ba"
      },
      "execution_count": null,
      "outputs": []
    },
    {
      "cell_type": "markdown",
      "source": [
        "## Reto 55: Array de dos\n",
        "* Dados dos argumentos, devuelva una lista que contenga esos dos argumentos.\n",
        "* Ejemplos:\n",
        "    1. arr_de_dos(1, 2) ➞ [1, 2]\n",
        "    2. arr_de_dos(51, 21) ➞ [51, 21]\n",
        "    3. arr_de_dos(-4, 215) ➞ [-4, 215]\n"
      ],
      "metadata": {
        "id": "uYhifBO2z6KK"
      }
    },
    {
      "cell_type": "code",
      "source": [
        "def arr_de_dos(a, b):\n",
        "    pass"
      ],
      "metadata": {
        "id": "MRC4iumr14NL"
      },
      "execution_count": null,
      "outputs": []
    },
    {
      "cell_type": "code",
      "source": [
        "print(arr_de_dos(1, 2))\n",
        "print(arr_de_dos(51, 21))\n",
        "print(arr_de_dos(-4, 215))"
      ],
      "metadata": {
        "id": "8MDq-eqs14NL"
      },
      "execution_count": null,
      "outputs": []
    },
    {
      "cell_type": "markdown",
      "source": [
        "## Reto 56: Repetir caracteres\n",
        "* Cree una función que reciba una cadena.\n",
        "* Diremos que el `inicio` son los primeros tres caracteres de la cadena.\n",
        "* Si la longitud de la cadena es inferior a tres caracteres, el `inicio` será la propia cadena.\n",
        "* La función retorna una nueva cadena que consiste en tres repeticiones del `inicio`.\n",
        "* Ejemplos:\n",
        "    1. inicio_tres(\"Python\") ➞ \"PytPytPyt\"\n",
        "    2. inicio_tres(\"Cuchara\") ➞ \"CucCucCuc\"\n",
        "    3. inicio_tres(\"biofrutas\") ➞ \"biobiobio\"\n",
        "    4. inicio_tres(\"Hi\") ➞ \"HiHiHi\"\n"
      ],
      "metadata": {
        "id": "eJnHHpRnz6TI"
      }
    },
    {
      "cell_type": "code",
      "source": [
        "def inicio_tres(cadena):\n",
        "    pass"
      ],
      "metadata": {
        "id": "pInG5Uv414lv"
      },
      "execution_count": null,
      "outputs": []
    },
    {
      "cell_type": "code",
      "source": [
        "print(inicio_tres(\"Python\"))\n",
        "print(inicio_tres(\"Cuchara\"))\n",
        "print(inicio_tres(\"biofrutas\"))\n",
        "print(inicio_tres(\"Hi\"))"
      ],
      "metadata": {
        "id": "ufIGl56f14lv"
      },
      "execution_count": null,
      "outputs": []
    },
    {
      "cell_type": "markdown",
      "source": [
        "## Reto 57: ¿Es Impar?\n",
        "* Escriba una función que devuelva `True` si el número entero recibido es impar y `False` si es par.\n",
        "* Tenemos una función que da error y además no funciona bien.\n",
        "* Trate de mejorar la función o refactorice el código resolviendo el reto por otro método.\n",
        "* Ejemplos:\n",
        "    1. es_impar(5) ➞ True\n",
        "    2. es_impar(8) ➞ False\n",
        "    3. es_impar(0) ➞ False\n",
        "    4. es_impar(-3) ➞ True\n",
        "* La función incorrecta es esta:\n",
        "\n",
        "```python\n",
        "def es_impar(n):\n",
        "\tif n % 2 == 0:\n",
        "\t\treturn True\n",
        "\telif n % 2 == 1\n",
        "\t\treturn False\n",
        "```"
      ],
      "metadata": {
        "id": "wWvRVfvSz6Yy"
      }
    },
    {
      "cell_type": "code",
      "source": [
        "def es_impar(n):\n",
        "    pass"
      ],
      "metadata": {
        "id": "X8iuIe0b15l4"
      },
      "execution_count": null,
      "outputs": []
    },
    {
      "cell_type": "code",
      "source": [
        "print(es_impar(5))\n",
        "print(es_impar(8))\n",
        "print(es_impar(0))\n",
        "print(es_impar(-3))"
      ],
      "metadata": {
        "id": "SElTbYI315l9"
      },
      "execution_count": null,
      "outputs": []
    },
    {
      "cell_type": "markdown",
      "source": [
        "## Reto 58: Cadena de guiones\n",
        "* Cree una función que tome un número `n` (entre 1 y 60) y devuelva una cadena de `n`guiones.\n",
        "* Ejemplos:\n",
        "    1. n_guiones(1) ➞ \"-\"\n",
        "    2. n_guiones(3) ➞ \"---\"\n",
        "    3. n_guiones(5) ➞ \"-----\"\n",
        "    4. n_guiones(60) ➞ \"------------------------------------------------------------\"\n"
      ],
      "metadata": {
        "id": "bafH9RmQz6eC"
      }
    },
    {
      "cell_type": "code",
      "source": [
        "def n_guiones(n):\n",
        "    pass"
      ],
      "metadata": {
        "id": "tkZTXasH16zU"
      },
      "execution_count": null,
      "outputs": []
    },
    {
      "cell_type": "code",
      "source": [
        "print(n_guiones(1))\n",
        "print(n_guiones(3))\n",
        "print(n_guiones(5))\n",
        "print(n_guiones(60))"
      ],
      "metadata": {
        "id": "ApY8dJLw16TK"
      },
      "execution_count": null,
      "outputs": []
    },
    {
      "cell_type": "markdown",
      "source": [
        "## Reto 59: Área de un Rectángulo\n",
        "* Cree una función que calcule el área de un rectángulo.\n",
        "* Si los argumentos no son ambos estrictamente positivos la función retornará `None`.\n",
        "* Ejemplos:\n",
        "    1. area(3, 4) ➞ 12\n",
        "    2. area(10, 11) ➞ 110\n",
        "    3. area(-1, 5) ➞ None\n",
        "    4. area(4, -9) ➞ None\n",
        "    5. area(-2, -3) ➞ None\n",
        "    6. area(0, 2) ➞ None"
      ],
      "metadata": {
        "id": "88P3tWD8z6i-"
      }
    },
    {
      "cell_type": "code",
      "source": [
        "def area(base, altura):\n",
        "    pass"
      ],
      "metadata": {
        "id": "0tSVkcli199U"
      },
      "execution_count": null,
      "outputs": []
    },
    {
      "cell_type": "code",
      "source": [
        "print(area(3, 4))\n",
        "print(area(10, 11))\n",
        "print(area(-1, 5))\n",
        "print(area(4, -9))\n",
        "print(area(-2, -3))\n",
        "print(area(0, 2))"
      ],
      "metadata": {
        "id": "ZK06VeCm199Z"
      },
      "execution_count": null,
      "outputs": []
    },
    {
      "cell_type": "markdown",
      "source": [
        "## Reto 60: Ver si una lista tiene cierto número\n",
        "* Escriba una función para verificar si una lista contiene el número dado.\n",
        "* Ejemplos:\n",
        "    1. check([1, 2, 3, 4, 5], 3) ➞ True\n",
        "    2. check([1, 1, 2, 1, 1], 3) ➞ False\n",
        "    3. check([5, 5, 5, 6], 5) ➞ True\n",
        "    4. check([], 5) ➞ False\n"
      ],
      "metadata": {
        "id": "AbBpdN1gz6n1"
      }
    },
    {
      "cell_type": "code",
      "source": [
        "def check(lista, num):\n",
        "    pass"
      ],
      "metadata": {
        "id": "3Ns5b2dH2_xH"
      },
      "execution_count": null,
      "outputs": []
    },
    {
      "cell_type": "code",
      "source": [
        "print(check([1, 2, 3, 4, 5], 3))\n",
        "print(check([1, 1, 2, 1, 1], 3))\n",
        "print(check([5, 5, 5, 6], 5))\n",
        "print(check([], 5))"
      ],
      "metadata": {
        "id": "AQo234p22_xH"
      },
      "execution_count": null,
      "outputs": []
    }
  ]
}