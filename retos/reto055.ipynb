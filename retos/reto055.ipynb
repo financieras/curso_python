{
  "nbformat": 4,
  "nbformat_minor": 0,
  "metadata": {
    "colab": {
      "provenance": [],
      "authorship_tag": "ABX9TyOofTOxcGAhEH6Z01eGYWk3",
      "include_colab_link": true
    },
    "kernelspec": {
      "name": "python3",
      "display_name": "Python 3"
    },
    "language_info": {
      "name": "python"
    }
  },
  "cells": [
    {
      "cell_type": "markdown",
      "metadata": {
        "id": "view-in-github",
        "colab_type": "text"
      },
      "source": [
        "<a href=\"https://colab.research.google.com/github/financieras/curso_python/blob/main/retos/reto055.ipynb\" target=\"_parent\"><img src=\"https://colab.research.google.com/assets/colab-badge.svg\" alt=\"Open In Colab\"/></a>"
      ]
    },
    {
      "cell_type": "markdown",
      "source": [
        "## Reto 55: Array de dos\n",
        "* Dados dos argumentos, devuelva una lista que contenga esos dos argumentos.\n",
        "* Ejemplos:\n",
        "    1. arr_de_dos(1, 2) ➞ [1, 2]\n",
        "    2. arr_de_dos(51, 21) ➞ [51, 21]\n",
        "    3. arr_de_dos(-4, 215) ➞ [-4, 215]\n"
      ],
      "metadata": {
        "id": "uYhifBO2z6KK"
      }
    },
    {
      "cell_type": "code",
      "source": [
        "def arr_de_dos(a, b):\n",
        "    pass"
      ],
      "metadata": {
        "id": "MRC4iumr14NL"
      },
      "execution_count": null,
      "outputs": []
    },
    {
      "cell_type": "code",
      "source": [
        "print(arr_de_dos(1, 2))\n",
        "print(arr_de_dos(51, 21))\n",
        "print(arr_de_dos(-4, 215))"
      ],
      "metadata": {
        "id": "8MDq-eqs14NL"
      },
      "execution_count": null,
      "outputs": []
    }
  ]
}