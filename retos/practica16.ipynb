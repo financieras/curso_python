{
  "nbformat": 4,
  "nbformat_minor": 0,
  "metadata": {
    "colab": {
      "provenance": [],
      "authorship_tag": "ABX9TyOpVfNSO+NS8FKJlWqhGMCZ",
      "include_colab_link": true
    },
    "kernelspec": {
      "name": "python3",
      "display_name": "Python 3"
    },
    "language_info": {
      "name": "python"
    }
  },
  "cells": [
    {
      "cell_type": "markdown",
      "metadata": {
        "id": "view-in-github",
        "colab_type": "text"
      },
      "source": [
        "<a href=\"https://colab.research.google.com/github/financieras/curso_python/blob/main/retos/practica16.ipynb\" target=\"_parent\"><img src=\"https://colab.research.google.com/assets/colab-badge.svg\" alt=\"Open In Colab\"/></a>"
      ]
    },
    {
      "cell_type": "markdown",
      "source": [
        "## Reto 151: Recreando la función `len()`\n",
        "* Cree una función que devuelva la longitud de una cadena o de una lista, sin usar len().\n",
        "* Ejemplos:\n",
        "    1. length(\"Hello World\") ➞ 11\n",
        "    2. length([2,3,4,-7]) ➞ 4\n",
        "    3. length(\"Learn by Doing\") ➞ 14"
      ],
      "metadata": {
        "id": "TKCDa5k2mWyf"
      }
    },
    {
      "cell_type": "code",
      "source": [
        "def length(obj):\n",
        "    pass"
      ],
      "metadata": {
        "id": "1p0fpenk2MYz"
      },
      "execution_count": null,
      "outputs": []
    },
    {
      "cell_type": "code",
      "source": [
        "print(length(\"Hello World\"))\n",
        "print(length([2,3,4,-7]))\n",
        "print(length(\"Learn by Doing\"))"
      ],
      "metadata": {
        "id": "6t_6qVuf2MY4"
      },
      "execution_count": null,
      "outputs": []
    },
    {
      "cell_type": "markdown",
      "source": [
        "## Reto 152: Evite los alimentos con demasiada grasa\n",
        "* Escribe una función que tome una lista de alimentos y devuelva una lista sin alimentos con alto contenido de grasa.\n",
        "* Los alimentos que contienen demasiada grasa (en este desafío) son: pizza y hamburguesa.\n",
        "* Ejemplos:\n",
        "    1. skip_fat([\"pizza\", \"hamburguesa\", \"ensalada\"]) ➞ [\"ensalada\"]\n",
        "    2. skip_fat([\"pizza\", \"hamburguesa\"]) ➞ []\n",
        "    3. skip_fat([\"gazpacho\", \"pasta\", \"ensalada\"]) ➞ [\"gazpacho\", \"pasta\", \"ensalada\"]"
      ],
      "metadata": {
        "id": "g88irJihmW4g"
      }
    },
    {
      "cell_type": "code",
      "source": [
        "def skip_fat(lst):\n",
        "    pass"
      ],
      "metadata": {
        "id": "XO8RPTuq2Ln2"
      },
      "execution_count": null,
      "outputs": []
    },
    {
      "cell_type": "code",
      "source": [
        "print(skip_fat([\"pizza\", \"hamburguesa\", \"ensalada\"]))\n",
        "print(skip_fat([\"pizza\", \"hamburguesa\"]))\n",
        "print(skip_fat([\"gazpacho\", \"pasta\", \"ensalada\"]))"
      ],
      "metadata": {
        "id": "NQYEHN4t2Ln8"
      },
      "execution_count": null,
      "outputs": []
    },
    {
      "cell_type": "markdown",
      "source": [
        "## Reto 153: Un día en el mercado\n",
        "* Bill y Will partirán hacia la feria anual.\n",
        "* Mientras se acercan a los puestos, Bill dice que podrá llevar a casa más cosas que Will.\n",
        "* Will lo toma como un desafío, Will lo refuta y comienza la competición.\n",
        "* Bill tiene un espacio de inventario infinito, pero una cantidad limitada de monedas.\n",
        "* Will tiene una cantidad infinita de monedas, pero un espacio de inventario limitado.\n",
        "* Los argumentos de la función que debe crear van en este orden:\n",
        "    - `who_wins_tonight(coins, space, price, size)``\n",
        "    - Primero: La camtodad de monedas de Bill.\n",
        "    - Segundo: La cantidad de espacio de inventario de Will.\n",
        "    - Tercero: El precio del artículo.\n",
        "    - Cuarto: El tamaño del artículo.\n",
        "* Ejemplo resuelto:\n",
        "    - `who_wins_tonight(40, 96, 5, 10) ➞ \"Will\"`\n",
        "    - Cada prodcuto cursta 5 monedas y ocupa un espacio de inventario de 10.\n",
        "    - Bill puede comprar un máximo de 8 productos (40 coins DIV 5 = 8).\n",
        "    - Will sólo podrá llevar a casa un máximo de 9 artículos. (96 inventory spaces DIV 10 = 9). En realidad 96/5 es 9.6 pero se toma la parte entera, redondeando por defecto.\n",
        "    - Will es el ganador en este caso.\n",
        "* Ejemplos:\n",
        "    1. who_wins_tonight(20, 20, 5, 10) ➞ \"Bill\"\n",
        "    2. who_wins_tonight(10, 2, 20, 1) ➞ \"Will\"\n",
        "    3. who_wins_tonight(3, 7, 2, 5) ➞ \"Tie\"\n",
        "    4. who_wins_tonight(40, 96, 5, 10) ➞ \"Will\"\n",
        "* DIV significa división entera. Eso significa que redondeas hacia abajo después de dividir.\n",
        "* Devuelve \"Tie\" (Empate) si ambos contendientes pueden permitirse la misma cantidad de cosas.\n",
        "* Todos los números serán números enteros positivos."
      ],
      "metadata": {
        "id": "NDwjfe7amW-g"
      }
    },
    {
      "cell_type": "code",
      "source": [
        "def who_wins_tonight(coins, space, price, size):\n",
        "    pass"
      ],
      "metadata": {
        "id": "smNiNTe32KlU"
      },
      "execution_count": null,
      "outputs": []
    },
    {
      "cell_type": "code",
      "source": [
        "print(who_wins_tonight(20, 20, 5, 10))\n",
        "print(who_wins_tonight(10, 2, 20, 1))\n",
        "print(who_wins_tonight(3, 7, 2, 5))\n",
        "print(who_wins_tonight(40, 96, 5, 10))"
      ],
      "metadata": {
        "id": "upeKBXjC2KlU"
      },
      "execution_count": null,
      "outputs": []
    },
    {
      "cell_type": "markdown",
      "source": [
        "## Reto 154: Encuentra las letras únicas\n",
        "* Cree una función que tome una cadena y devuelva las letras que aparecen solo una vez.\n",
        "* Ejemplos:\n",
        "    1. find_letters(\"monopoly\") ➞ [\"m\", \"n\", \"p\", \"l\", \"y\"]\n",
        "    2. find_letters(\"balloon\") ➞ [\"b\", \"a\", \"n\"]\n",
        "    3. find_letters(\"analysis\") ➞ [\"n\", \"l\", \"y\", \"i\"]\n",
        "    4. find_letters(\"banana\") ➞ [\"b\"]\n",
        "    5. find_letters(\"reappear\") ➞ []\n",
        "* La lista final no debe incluir letras que aparezcan más de una vez en la cadena.\n",
        "* Devuelve las letras en la secuencia en la que estaban originalmente, no las ordene.\n",
        "* Todas las letras estarán en minúsculas."
      ],
      "metadata": {
        "id": "TK0bYgaymXEe"
      }
    },
    {
      "cell_type": "code",
      "source": [
        "def find_letters(palabra):\n",
        "    pass"
      ],
      "metadata": {
        "id": "otVTvowZ2KKb"
      },
      "execution_count": null,
      "outputs": []
    },
    {
      "cell_type": "code",
      "source": [
        "print(find_letters(\"monopoly\") )\n",
        "print(find_letters(\"balloon\") )\n",
        "print(find_letters(\"analysis\"))\n",
        "print(find_letters(\"banana\"))\n",
        "print(find_letters(\"reappear\"))"
      ],
      "metadata": {
        "id": "73yvl4fx2KKc"
      },
      "execution_count": null,
      "outputs": []
    },
    {
      "cell_type": "markdown",
      "source": [
        "## Reto 155: Lista de strings a lista de números\n",
        "* Cree una función que tome como parámetro una lista de números en forma de strings y devuelva una lista de números.\n",
        "* Algunos elementos son de tipo `float`\n",
        "* Ejemplos:\n",
        "    1. to_number_list([\"99\", \"20\"]) ➞ [99, 20]\n",
        "    2. to_number_list([\"9.4\", \"4.2\"]) ➞ [9.4, 4.2]\n",
        "    3. to_number_list([\"1\", \"3\", \"3.6\"] ➞ [1, 3, 3.6]"
      ],
      "metadata": {
        "id": "6uj_RrlkmXKE"
      }
    },
    {
      "cell_type": "code",
      "source": [
        "def to_number_list(lst):\n",
        "    pass"
      ],
      "metadata": {
        "id": "8lPdlgA22Jp7"
      },
      "execution_count": null,
      "outputs": []
    },
    {
      "cell_type": "code",
      "source": [
        "print(to_number_list([\"99\", \"20\"]))\n",
        "print(to_number_list([\"9.4\", \"4.2\"]))\n",
        "print(to_number_list([\"1\", \"3\", \"3.6\"]))"
      ],
      "metadata": {
        "id": "iqrT72fw2Jp8"
      },
      "execution_count": null,
      "outputs": []
    },
    {
      "cell_type": "markdown",
      "source": [
        "## Reto 156: Errores al escanear un documento\n",
        "* El software de reconocimiento de caracteres a menudo comete errores cuando se digitalizan documentos (especialmente los antiguos escritos con una máquina de escribir).\n",
        "* Su tarea es corregir los errores en el texto digitalizado. Sólo tienes que manejar los siguientes errores:\n",
        "    - A se malinterpreta como 4\n",
        "    - S se malinterpreta como 5\n",
        "    - O se malinterpreta como 0\n",
        "    - I se malinterpreta como 1\n",
        "* Los casos de prueba contienen números sólo por error.\n",
        "* Ejemplos:\n",
        "    1. keyboard_mistakes(\"DUBL1N\") ➞ \"DUBLIN\"\n",
        "    2. keyboard_mistakes(\"51NG4P0RE\") ➞ \"SINGAPORE\"\n",
        "    3. keyboard_mistakes(\"4514\") ➞ \"ASIA\""
      ],
      "metadata": {
        "id": "SpGVJVCJmXQC"
      }
    },
    {
      "cell_type": "code",
      "source": [
        "def keyboard_mistakes(txt):\n",
        "    pass"
      ],
      "metadata": {
        "id": "8jdYwdtc2JEi"
      },
      "execution_count": null,
      "outputs": []
    },
    {
      "cell_type": "code",
      "source": [
        "print(keyboard_mistakes(\"DUBL1N\"))\n",
        "print(keyboard_mistakes(\"51NG4P0RE\"))\n",
        "print(keyboard_mistakes(\"4514\"))"
      ],
      "metadata": {
        "id": "zB1jDIsR2JEi"
      },
      "execution_count": null,
      "outputs": []
    },
    {
      "cell_type": "markdown",
      "source": [
        "## Reto 157: Repetir el último caracter\n",
        "* Cree una función que haga que el último carácter de una cadena se repita n veces.\n",
        "* Ejemplos:\n",
        "    1. modify_last(\"Hello\", 3) ➞ \"Hellooo\"\n",
        "    2. modify_last(\"hey\", 6) ➞ \"heyyyyyy\"\n",
        "    3.modify_last(\"y sin embargo se mueve!\", 5) ➞ \"y sin embargo se mueve!!!!!\""
      ],
      "metadata": {
        "id": "0JyFn9G4mXVs"
      }
    },
    {
      "cell_type": "code",
      "source": [
        "def modify_last(txt, n):\n",
        "    pass"
      ],
      "metadata": {
        "id": "gvew9pDb2Io7"
      },
      "execution_count": null,
      "outputs": []
    },
    {
      "cell_type": "code",
      "source": [
        "print(modify_last(\"Hello\", 3))\n",
        "print(modify_last(\"hey\", 6))\n",
        "print(modify_last(\"y sin embargo se mueve!\", 5))"
      ],
      "metadata": {
        "id": "GrhX2E432Io8"
      },
      "execution_count": null,
      "outputs": []
    },
    {
      "cell_type": "markdown",
      "source": [
        "## Reto 158: Comprobar si son iguales\n",
        "* En este desafío, debe verificar la igualdad de dos valores, `a` y `b`, dados a la función como parámetros.\n",
        "* Tanto el valor como el tipo de los parámetros deben ser iguales.\n",
        "* Los posibles tipos de parámetros dados son:\n",
        "    - Números\n",
        "    - Strings\n",
        "    - Booleans (False o True)\n",
        "    - Valores especiales: None\n",
        "* ¿Qué ha aprendido hasta ahora que le permitirá realizar dos comprobaciones diferentes (valor y tipo) con una sola declaración?\n",
        "* Implemente una función que devuelva `True` si los parámetros son iguales y `False` si no lo son.\n",
        "* Ejemplos:\n",
        "    1. check_equality(1,  1) ➞ True\n",
        "    2. check_equality(1, True) ➞ False\n",
        "    3. check_equality(0, \"0\") ➞ False\n",
        "    4. check_equality(0.0, False) ➞ False\n",
        "    5. check_equality(7, 7.) ➞ False\n",
        "    6. check_equality(bool(7), True) ➞ False\n",
        "\n",
        "* Para que la función retorne 'True' ambos valores deben ser iguales y ambos tipos deben ser iguales."
      ],
      "metadata": {
        "id": "t0NY31pRmXbq"
      }
    },
    {
      "cell_type": "code",
      "source": [
        "def check_equality(a, b):\n",
        "    pass"
      ],
      "metadata": {
        "id": "PPfNQPKH2IF9"
      },
      "execution_count": null,
      "outputs": []
    },
    {
      "cell_type": "code",
      "source": [
        "print(check_equality(1, 1))\n",
        "print(check_equality(1, True))\n",
        "print(check_equality(0, \"0\"))\n",
        "print(check_equality(0.0, False))\n",
        "print(check_equality(7, 7.))\n",
        "print(check_equality(bool(7), True))"
      ],
      "metadata": {
        "id": "3-rnPukr2IF-"
      },
      "execution_count": null,
      "outputs": []
    },
    {
      "cell_type": "markdown",
      "source": [
        "## Reto 159: Convertir una Lista en un String\n",
        "* Cree una función que tome una lista de números o letras y devuelva una cadena.\n",
        "* Ejemplos:\n",
        "    1. list_to_string([1, 2, 3, 4, 5, 6]) ➞ \"123456\"\n",
        "    2. list_to_string([\"a\", \"b\", \"c\", \"d\", \"e\", \"f\"]) ➞ \"abcdef\"\n",
        "    3. list_to_string([1, 2, 3, \"a\", \"s\", \"dAAAA\"]) ➞ \"123asdAAAA\"\n"
      ],
      "metadata": {
        "id": "S3R6TrvamXtp"
      }
    },
    {
      "cell_type": "code",
      "source": [
        "def list_to_string(lst):\n",
        "    pass"
      ],
      "metadata": {
        "id": "rLNUOMP52HoN"
      },
      "execution_count": null,
      "outputs": []
    },
    {
      "cell_type": "code",
      "source": [
        "print(list_to_string([1, 2, 3, 4, 5, 6]))\n",
        "print(list_to_string([\"a\", \"b\", \"c\", \"d\", \"e\", \"f\"]))\n",
        "print(list_to_string([1, 2, 3, \"a\", \"s\", \"dAAAA\"]))"
      ],
      "metadata": {
        "id": "OqLpEg1y2HoO"
      },
      "execution_count": null,
      "outputs": []
    },
    {
      "cell_type": "markdown",
      "source": [
        "## Reto 160: Suma de cubos\n",
        "* Cree una función que tome un número entero positivo `n` y devuelva la suma de todos los valores al cubo de 1 a `n`.\n",
        "* Por ejemplo, si `n` es 3:  \n",
        "$1^3 + 2^3 + 3^3 = 36$\n",
        "* Ejemplos:\n",
        "    1. sum_cubes(3) ➞ 36\n",
        "    2. sum_cubes(7) ➞ 784\n",
        "    3. sum_cubes(8) ➞ 1296\n",
        "    4. sum_cubes(9) ➞ 2025"
      ],
      "metadata": {
        "id": "7152ZdXMmXnm"
      }
    },
    {
      "cell_type": "code",
      "source": [
        "def sum_cubes(n):\n",
        "    pass"
      ],
      "metadata": {
        "id": "oBgpIIFg2G_S"
      },
      "execution_count": null,
      "outputs": []
    },
    {
      "cell_type": "code",
      "source": [
        "print(sum_cubes(3))\n",
        "print(sum_cubes(7))\n",
        "print(sum_cubes(8))\n",
        "print(sum_cubes(9))"
      ],
      "metadata": {
        "id": "P4M1pgCL2G_T"
      },
      "execution_count": null,
      "outputs": []
    }
  ]
}