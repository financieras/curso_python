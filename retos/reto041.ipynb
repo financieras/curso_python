{
  "nbformat": 4,
  "nbformat_minor": 0,
  "metadata": {
    "colab": {
      "provenance": [],
      "authorship_tag": "ABX9TyOOHqWMrm3ebgNZfwe/OOb+",
      "include_colab_link": true
    },
    "kernelspec": {
      "name": "python3",
      "display_name": "Python 3"
    },
    "language_info": {
      "name": "python"
    }
  },
  "cells": [
    {
      "cell_type": "markdown",
      "metadata": {
        "id": "view-in-github",
        "colab_type": "text"
      },
      "source": [
        "<a href=\"https://colab.research.google.com/github/financieras/curso_python/blob/main/retos/reto041.ipynb\" target=\"_parent\"><img src=\"https://colab.research.google.com/assets/colab-badge.svg\" alt=\"Open In Colab\"/></a>"
      ]
    },
    {
      "cell_type": "markdown",
      "source": [
        "## Reto 41: Días del mes\n",
        "* Cree una función que reciba un número del 1 al 12 y devuelva el mes correspondiente y el número de días que tiene.\n",
        "* Use el siguiente diccionario para resolverlo.\n",
        "\n",
        "```python\n",
        "d = {1:['enero', 31],\n",
        "     2:['febrero', 28],\n",
        "     3:['marzo', 31],\n",
        "     4:['abril', 30],\n",
        "     5:['mayo', 31],\n",
        "     6:['junio', 30],\n",
        "     7:['julio', 31],\n",
        "     8:['agosto', 31],\n",
        "     9:['septiembre', 30],\n",
        "     10:['octubre', 31],\n",
        "     11:['noviembre', 30],\n",
        "     12:['diciembre', 31]}\n",
        "```\n",
        "* Ejemplos:\n",
        "    1. dias_mes(1) ➞ enero 31\n",
        "    2. dias_mes(4) ➞ abril 30\n",
        "    3. dias_mes(12) ➞ diciembre 31"
      ],
      "metadata": {
        "id": "sIkIwIhrym10"
      }
    },
    {
      "cell_type": "code",
      "source": [
        "def dias_mes(n):\n",
        "    pass"
      ],
      "metadata": {
        "id": "mDNVofHz9bhH"
      },
      "execution_count": null,
      "outputs": []
    },
    {
      "cell_type": "code",
      "source": [
        "print(dias_mes(1))\n",
        "print(dias_mes(4))\n",
        "print(dias_mes(12))"
      ],
      "metadata": {
        "id": "wktquVTCAitB"
      },
      "execution_count": null,
      "outputs": []
    }
  ]
}