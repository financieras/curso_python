{
  "nbformat": 4,
  "nbformat_minor": 0,
  "metadata": {
    "colab": {
      "provenance": [],
      "authorship_tag": "ABX9TyM7Xbmy8TgfQa5mZLhVrg/y",
      "include_colab_link": true
    },
    "kernelspec": {
      "name": "python3",
      "display_name": "Python 3"
    },
    "language_info": {
      "name": "python"
    }
  },
  "cells": [
    {
      "cell_type": "markdown",
      "metadata": {
        "id": "view-in-github",
        "colab_type": "text"
      },
      "source": [
        "<a href=\"https://colab.research.google.com/github/financieras/curso_python/blob/main/retos/reto041.ipynb\" target=\"_parent\"><img src=\"https://colab.research.google.com/assets/colab-badge.svg\" alt=\"Open In Colab\"/></a>"
      ]
    },
    {
      "cell_type": "markdown",
      "source": [
        "## Reto 41: Fotogramas por segundo\n",
        "* Cree una función que devuelva el número de fotogramas mostrados en un número determinado de minutos para una determinada catidad de FPS.\n",
        "* FPS significa \"fotogramas por segundo\" y es la cantidad de fotogramas que muestra la pantalla cada segundo.\n",
        "* Ejemplos:\n",
        "    1. frames(1, 1) ➞ 60\n",
        "    2. frames(10, 1) ➞ 600\n",
        "    3. frames(10, 25) ➞ 15000\n",
        "    4. frames(100, 24) ➞ 144000\n",
        "\n",
        "* Ejemplo:  \n",
        "    - Una película de 100 minutos grabada a 24 fps, ratio habitual en el cine clásico, está formada por 144.000 fotogramas."
      ],
      "metadata": {
        "id": "sIkIwIhrym10"
      }
    },
    {
      "cell_type": "code",
      "source": [
        "def frames(minutos, fps):\n",
        "    pass"
      ],
      "metadata": {
        "id": "mDNVofHz9bhH"
      },
      "execution_count": null,
      "outputs": []
    },
    {
      "cell_type": "code",
      "source": [
        "print(frames(1, 1))\n",
        "print(frames(10, 1))\n",
        "print(frames(10, 25))\n",
        "print(frames(100, 24))"
      ],
      "metadata": {
        "id": "wktquVTCAitB"
      },
      "execution_count": null,
      "outputs": []
    }
  ]
}