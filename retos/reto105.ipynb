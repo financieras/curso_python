{
  "nbformat": 4,
  "nbformat_minor": 0,
  "metadata": {
    "colab": {
      "provenance": [],
      "authorship_tag": "ABX9TyNomalbXz2fvOJMwLbqZYTx",
      "include_colab_link": true
    },
    "kernelspec": {
      "name": "python3",
      "display_name": "Python 3"
    },
    "language_info": {
      "name": "python"
    }
  },
  "cells": [
    {
      "cell_type": "markdown",
      "metadata": {
        "id": "view-in-github",
        "colab_type": "text"
      },
      "source": [
        "<a href=\"https://colab.research.google.com/github/financieras/curso_python/blob/main/retos/reto105.ipynb\" target=\"_parent\"><img src=\"https://colab.research.google.com/assets/colab-badge.svg\" alt=\"Open In Colab\"/></a>"
      ]
    },
    {
      "cell_type": "markdown",
      "source": [
        "## Reto 105: Aplausos acalorados\n",
        "* Después de una actuación increíble, ¡el público enloquece!\n",
        "* La gente aplaude con entusiasmo y la mayoría de los aplausos se superponen entre sí para crear un sonido homogéneo.\n",
        "* Un aplauso superpuesto es un aplauso que comienza pero no termina, como en \"ClaClap\" (el primer aplauso se corta y en total hay 2 aplausos).\n",
        "* Dada una serie de cómo sonaron los aplausos superpuestos, indica cuántos aplausos se dieron en total.\n",
        "* Ejemplos:\n",
        "    1. count_claps(\"ClaClaClaClap!\") ➞ 4\n",
        "    2. count_claps(\"ClClClaClaClaClap!\") ➞ 6\n",
        "    3. count_claps(\"CCClaClClap!Clap!ClClClap!\") ➞ 9"
      ],
      "metadata": {
        "id": "w5FLCMCPnthv"
      }
    },
    {
      "cell_type": "code",
      "source": [
        "def count_claps(cadena):\n",
        "    pass"
      ],
      "metadata": {
        "id": "KlPp-5152pLp"
      },
      "execution_count": null,
      "outputs": []
    },
    {
      "cell_type": "code",
      "source": [
        "print(count_claps(\"ClaClaClaClap!\"))\n",
        "print(count_claps(\"ClClClaClaClaClap!\"))\n",
        "print(count_claps(\"CCClaClClap!Clap!ClClClap!\"))"
      ],
      "metadata": {
        "id": "PWTY0I-o2pLq"
      },
      "execution_count": null,
      "outputs": []
    }
  ]
}