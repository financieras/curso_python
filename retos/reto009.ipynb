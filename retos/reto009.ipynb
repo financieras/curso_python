{
  "nbformat": 4,
  "nbformat_minor": 0,
  "metadata": {
    "colab": {
      "provenance": [],
      "authorship_tag": "ABX9TyMQaldzLyiUlTAyyxAI/yrp",
      "include_colab_link": true
    },
    "kernelspec": {
      "name": "python3",
      "display_name": "Python 3"
    },
    "language_info": {
      "name": "python"
    }
  },
  "cells": [
    {
      "cell_type": "markdown",
      "metadata": {
        "id": "view-in-github",
        "colab_type": "text"
      },
      "source": [
        "<a href=\"https://colab.research.google.com/github/financieras/curso_python/blob/main/retos/reto009.ipynb\" target=\"_parent\"><img src=\"https://colab.research.google.com/assets/colab-badge.svg\" alt=\"Open In Colab\"/></a>"
      ]
    },
    {
      "cell_type": "markdown",
      "source": [
        "## Reto 9: Retornar un string como integer\n",
        "* Cree una función que tome una cadena y la devuelva como un número entero.\n",
        "* Ejemplos:\n",
        "    1. string_to_int(\"6\") ➞ 6\n",
        "    2. string_to_int(\"1000\") ➞ 1000\n",
        "    3. string_to_int(\"12\") ➞ 12"
      ],
      "metadata": {
        "id": "qVN8HUR1aBF7"
      }
    },
    {
      "cell_type": "code",
      "source": [
        "def string_to_int(txt):\n",
        "    pass"
      ],
      "metadata": {
        "id": "uY3Tkiy966MO"
      },
      "execution_count": null,
      "outputs": []
    },
    {
      "cell_type": "code",
      "source": [
        "print(string_to_int(\"6\"))\n",
        "print(string_to_int(\"1000\"))\n",
        "print(string_to_int(\"12\"))"
      ],
      "metadata": {
        "id": "dQUdRhzl7Kv3"
      },
      "execution_count": null,
      "outputs": []
    }
  ]
}