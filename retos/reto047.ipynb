{
  "nbformat": 4,
  "nbformat_minor": 0,
  "metadata": {
    "colab": {
      "provenance": [],
      "authorship_tag": "ABX9TyOjmSvXpdXO9a+EjdCLTGaN",
      "include_colab_link": true
    },
    "kernelspec": {
      "name": "python3",
      "display_name": "Python 3"
    },
    "language_info": {
      "name": "python"
    }
  },
  "cells": [
    {
      "cell_type": "markdown",
      "metadata": {
        "id": "view-in-github",
        "colab_type": "text"
      },
      "source": [
        "<a href=\"https://colab.research.google.com/github/financieras/curso_python/blob/main/retos/reto047.ipynb\" target=\"_parent\"><img src=\"https://colab.research.google.com/assets/colab-badge.svg\" alt=\"Open In Colab\"/></a>"
      ]
    },
    {
      "cell_type": "markdown",
      "source": [
        "## Reto 47: Recargando baterías\n",
        "* Para que un vehículo pueda funcionar, necesita una cantidad de carga que es diez veces mayor que la distancia que recorre.\n",
        "* No obstante, es importante asegurarse de que siempre lleve al menos 100 unidades de carga antes de iniciar su recorrido.\n",
        "* Cree una función que calcule la cantidad de carga necesaria en función de la `distancia` ingresada como parámetro.\n",
        "* Ejemplos:\n",
        "    1. calcula_carga(15) ➞ 150\n",
        "    2. calcula_carga(23.5) ➞ 235\n",
        "    3. calcula_carga(3) ➞ 100\n",
        "* La `distancia` proporcionada siempre será un número mayor que cero.\n",
        "* Si el cálculo de la carga resulta ser inferior a 100, la función debe devolver 100 como mínimo."
      ],
      "metadata": {
        "id": "KL8LNZmnzx_N"
      }
    },
    {
      "cell_type": "code",
      "source": [
        "def calcula_carga(distancia):\n",
        "    pass"
      ],
      "metadata": {
        "id": "ArIiZmcr9e1h"
      },
      "execution_count": null,
      "outputs": []
    },
    {
      "cell_type": "code",
      "source": [
        "print(calcula_carga(15))\n",
        "print(calcula_carga(23.5))\n",
        "print(calcula_carga(3))"
      ],
      "metadata": {
        "id": "wudZ7035vqPY"
      },
      "execution_count": null,
      "outputs": []
    }
  ]
}