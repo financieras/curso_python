{
  "nbformat": 4,
  "nbformat_minor": 0,
  "metadata": {
    "colab": {
      "provenance": [],
      "authorship_tag": "ABX9TyMpG98gUKfck0fyMyxRkA2m",
      "include_colab_link": true
    },
    "kernelspec": {
      "name": "python3",
      "display_name": "Python 3"
    },
    "language_info": {
      "name": "python"
    }
  },
  "cells": [
    {
      "cell_type": "markdown",
      "metadata": {
        "id": "view-in-github",
        "colab_type": "text"
      },
      "source": [
        "<a href=\"https://colab.research.google.com/github/financieras/curso_python/blob/main/retos/reto047.ipynb\" target=\"_parent\"><img src=\"https://colab.research.google.com/assets/colab-badge.svg\" alt=\"Open In Colab\"/></a>"
      ]
    },
    {
      "cell_type": "markdown",
      "source": [
        "## Reto 47: Cargando baterías\n",
        "* Un vehículo necesita 10 veces más carga que la distancia que recorre.\n",
        "* Sin embargo, siempre debe llevar un mínimo de 100 de combustible antes de partir.\n",
        "* Cree una función que calcule la cantidad de carga que necesita, dada la distancia.\n",
        "* Ejemplos:\n",
        "    1. calcula_carga(15) ➞ 150\n",
        "    2. calcula_carga(23.5) ➞ 235\n",
        "    3. calcula_carga(3) ➞ 100\n",
        "* La distancia será un número mayor que cero.\n",
        "* Devuelve 100 si la carga calculada resulta ser inferior a 100."
      ],
      "metadata": {
        "id": "KL8LNZmnzx_N"
      }
    },
    {
      "cell_type": "code",
      "source": [
        "def calcula_carga(km):\n",
        "    pass"
      ],
      "metadata": {
        "id": "ArIiZmcr9e1h"
      },
      "execution_count": null,
      "outputs": []
    },
    {
      "cell_type": "code",
      "source": [
        "print(calcula_carga(15))\n",
        "print(calcula_carga(23.5))\n",
        "print(calcula_carga(3))"
      ],
      "metadata": {
        "id": "wudZ7035vqPY"
      },
      "execution_count": null,
      "outputs": []
    }
  ]
}