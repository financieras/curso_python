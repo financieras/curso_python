{
  "nbformat": 4,
  "nbformat_minor": 0,
  "metadata": {
    "colab": {
      "provenance": [],
      "authorship_tag": "ABX9TyPNaUAg/ZMcXFejDZrZpTv2",
      "include_colab_link": true
    },
    "kernelspec": {
      "name": "python3",
      "display_name": "Python 3"
    },
    "language_info": {
      "name": "python"
    }
  },
  "cells": [
    {
      "cell_type": "markdown",
      "metadata": {
        "id": "view-in-github",
        "colab_type": "text"
      },
      "source": [
        "<a href=\"https://colab.research.google.com/github/financieras/curso_python/blob/main/retos/reto102.ipynb\" target=\"_parent\"><img src=\"https://colab.research.google.com/assets/colab-badge.svg\" alt=\"Open In Colab\"/></a>"
      ]
    },
    {
      "cell_type": "markdown",
      "source": [
        "## Reto 102: Random Integer Generator\n",
        "* Devuelve un número entero aleatorio `n` tal que `a <= n <= b`.\n",
        "* Ejemplos:\n",
        "    1. random_int(5, 9) ➞ 7\n",
        "    2. random_int(5, 9) ➞ 9\n",
        "    3. random_int(5, 9) ➞ 5"
      ],
      "metadata": {
        "id": "Tvfro9montfN"
      }
    },
    {
      "cell_type": "code",
      "source": [
        "def random_int(a, b):\n",
        "    pass"
      ],
      "metadata": {
        "id": "-43cJVAQ2qgu"
      },
      "execution_count": null,
      "outputs": []
    },
    {
      "cell_type": "code",
      "source": [
        "print(random.randint(5, 9))\n",
        "print(random.randint(5, 9))\n",
        "print(random.randint(5, 9))\n",
        "print(random.randint(5, 9))"
      ],
      "metadata": {
        "id": "ocXI3ipp2qgu"
      },
      "execution_count": null,
      "outputs": []
    }
  ]
}