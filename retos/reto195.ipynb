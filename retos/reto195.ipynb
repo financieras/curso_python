{
  "nbformat": 4,
  "nbformat_minor": 0,
  "metadata": {
    "colab": {
      "provenance": [],
      "authorship_tag": "ABX9TyOoA5KusLX0i/uAkgHTVe4J",
      "include_colab_link": true
    },
    "kernelspec": {
      "name": "python3",
      "display_name": "Python 3"
    },
    "language_info": {
      "name": "python"
    }
  },
  "cells": [
    {
      "cell_type": "markdown",
      "metadata": {
        "id": "view-in-github",
        "colab_type": "text"
      },
      "source": [
        "<a href=\"https://colab.research.google.com/github/financieras/curso_python/blob/main/retos/reto195.ipynb\" target=\"_parent\"><img src=\"https://colab.research.google.com/assets/colab-badge.svg\" alt=\"Open In Colab\"/></a>"
      ]
    },
    {
      "cell_type": "markdown",
      "source": [
        "## Reto 195: Intercambiar nombre y apellido\n",
        "* Cree una función que tome una cadena (será el nombre y apellido de una persona) y devuelva una cadena con el nombre y apellido intercambiados.\n",
        "* Habrá exactamente un espacio entre el nombre y el apellido.\n",
        "* Solo contiene un nombre y un apellido.\n",
        "* Ejemplos:\n",
        "    1. name_shuffle(\"Albert Einstein\") ➞ \"Einstein Albert\"\n",
        "    2. name_shuffle(\"Marie Curie\") ➞ \"Curie Marie\"\n",
        "    3. name_shuffle(\"Nikola Tesla\") ➞ \"Tesla Nikola\"\n",
        "    4. name_shuffle(\"Margaret Hamilton\") ➞ \"Hamilton Margaret\""
      ],
      "metadata": {
        "id": "frfv_p-W5-az"
      }
    },
    {
      "cell_type": "code",
      "source": [
        "def name_shuffle(persona):\n",
        "    pass"
      ],
      "metadata": {
        "id": "FmtZOODC5-az"
      },
      "execution_count": null,
      "outputs": []
    },
    {
      "cell_type": "code",
      "source": [
        "print(name_shuffle(\"Albert Einstein\"))\n",
        "print(name_shuffle(\"Marie Curie\"))\n",
        "print(name_shuffle(\"Nikola Tesla\"))\n",
        "print(name_shuffle(\"Margaret Hamilton\"))"
      ],
      "metadata": {
        "id": "SmrraRjj5-az"
      },
      "execution_count": null,
      "outputs": []
    }
  ]
}