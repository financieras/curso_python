{
  "nbformat": 4,
  "nbformat_minor": 0,
  "metadata": {
    "colab": {
      "provenance": [],
      "authorship_tag": "ABX9TyOfYL1mBoRGZZRHeFfBSbRd",
      "include_colab_link": true
    },
    "kernelspec": {
      "name": "python3",
      "display_name": "Python 3"
    },
    "language_info": {
      "name": "python"
    }
  },
  "cells": [
    {
      "cell_type": "markdown",
      "metadata": {
        "id": "view-in-github",
        "colab_type": "text"
      },
      "source": [
        "<a href=\"https://colab.research.google.com/github/financieras/curso_python/blob/main/retos/reto013.ipynb\" target=\"_parent\"><img src=\"https://colab.research.google.com/assets/colab-badge.svg\" alt=\"Open In Colab\"/></a>"
      ]
    },
    {
      "cell_type": "markdown",
      "source": [
        "## Reto 13: Saludar con nombre\n",
        "* Cree una función que tome un nombre y devuelva un saludo en forma de cadena.\n",
        "* Ejemplos:\n",
        "    1. saludar(\"Gerardo\") ➞ \"Hola Gerardo!\"\n",
        "    2. saludar(\"Teresa\") ➞ \"Hola Teresa!\"\n",
        "    3. saludar(\"Edu\") ➞ \"Hola Edu!\"\n",
        "* ¡No olvide el signo de exclamación!"
      ],
      "metadata": {
        "id": "s46QzxEwsteU"
      }
    },
    {
      "cell_type": "code",
      "source": [
        "def saludar(nombre):\n",
        "    pass"
      ],
      "metadata": {
        "id": "s96zufV5sor7"
      },
      "execution_count": null,
      "outputs": []
    },
    {
      "cell_type": "code",
      "source": [
        "print(saludar(\"Gerardo\"))\n",
        "print(saludar(\"Teresa\"))\n",
        "print(saludar(\"Edu\"))"
      ],
      "metadata": {
        "id": "3BLYdj99s2xL"
      },
      "execution_count": null,
      "outputs": []
    }
  ]
}