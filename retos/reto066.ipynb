{
  "nbformat": 4,
  "nbformat_minor": 0,
  "metadata": {
    "colab": {
      "provenance": [],
      "authorship_tag": "ABX9TyP9aI2dGr/1XA9QtEmjsXQy",
      "include_colab_link": true
    },
    "kernelspec": {
      "name": "python3",
      "display_name": "Python 3"
    },
    "language_info": {
      "name": "python"
    }
  },
  "cells": [
    {
      "cell_type": "markdown",
      "metadata": {
        "id": "view-in-github",
        "colab_type": "text"
      },
      "source": [
        "<a href=\"https://colab.research.google.com/github/financieras/curso_python/blob/main/retos/reto066.ipynb\" target=\"_parent\"><img src=\"https://colab.research.google.com/assets/colab-badge.svg\" alt=\"Open In Colab\"/></a>"
      ]
    },
    {
      "cell_type": "markdown",
      "source": [
        "## Reto 66: Sumar una lista sin `sum`\n",
        "* Tenemos una función que no trabaja correctamente.\n",
        "* Corrija el código para que la función se ajuste a los siguientes ejemplos.\n",
        "* Ejemplos:\n",
        "\t1. sum_lst([1, 2, 3, 4, 5]) ➞ 15\n",
        "\t2. sum_lst([-1, 0, 1]) ➞ 0\n",
        "\t3. sum_lst([0, 4, 8, 12]) ➞ 24\n",
        "\n",
        "Esta es la función que da problemas:\n",
        "<pre>\n",
        "def sum_lst(lst):\n",
        "\ttotal\n",
        "\tfor i in range(0,lst):\n",
        "\t\ttotal += lst[i]\n",
        "  return total\n",
        "</pre>\n"
      ],
      "metadata": {
        "id": "UTLb81S6We2L"
      }
    },
    {
      "cell_type": "code",
      "source": [
        "def sum_lst(lst):\n",
        "    pass"
      ],
      "metadata": {
        "id": "SBmLc3JI28vq"
      },
      "execution_count": null,
      "outputs": []
    },
    {
      "cell_type": "code",
      "source": [
        "print(sum_lst([1, 2, 3, 4, 5]))\n",
        "print(sum_lst([-1, 0, 1]))\n",
        "print(sum_lst([0, 4, 8, 12]))"
      ],
      "metadata": {
        "id": "b1m1a3qY28vr"
      },
      "execution_count": null,
      "outputs": []
    }
  ]
}