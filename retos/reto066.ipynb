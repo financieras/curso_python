{
  "nbformat": 4,
  "nbformat_minor": 0,
  "metadata": {
    "colab": {
      "provenance": [],
      "authorship_tag": "ABX9TyP7KoqAz2LpTJby3sz3xZYG",
      "include_colab_link": true
    },
    "kernelspec": {
      "name": "python3",
      "display_name": "Python 3"
    },
    "language_info": {
      "name": "python"
    }
  },
  "cells": [
    {
      "cell_type": "markdown",
      "metadata": {
        "id": "view-in-github",
        "colab_type": "text"
      },
      "source": [
        "<a href=\"https://colab.research.google.com/github/financieras/curso_python/blob/main/retos/reto066.ipynb\" target=\"_parent\"><img src=\"https://colab.research.google.com/assets/colab-badge.svg\" alt=\"Open In Colab\"/></a>"
      ]
    },
    {
      "cell_type": "markdown",
      "source": [
        "## Reto 66: Sumar una lista sin `sum`\n",
        "* Tenemos una función que no trabaja correctamente.\n",
        "* Corrija el código para que la función se ajuste a los siguientes ejemplos.\n",
        "* Ejemplos:\n",
        "\t1. suma_lista([1, 2, 3, 4, 5]) ➞ 15\n",
        "\t2. suma_lista([-1, 0, 1]) ➞ 0\n",
        "\t3. suma_lista([0, 4, 8, 12]) ➞ 24\n",
        "\n",
        "\n",
        "* Esta es la función que da problemas:\n",
        "```python\n",
        "def suma_lista(lista):\n",
        "\ttotal\n",
        "\tfor i in range(0,lista):\n",
        "\t\ttotal += lista[i]\n",
        "  return total\n",
        "```"
      ],
      "metadata": {
        "id": "UTLb81S6We2L"
      }
    },
    {
      "cell_type": "code",
      "source": [
        "def suma_lista(lista):\n",
        "    pass"
      ],
      "metadata": {
        "id": "SBmLc3JI28vq"
      },
      "execution_count": null,
      "outputs": []
    },
    {
      "cell_type": "code",
      "source": [
        "print(suma_lista([1, 2, 3, 4, 5]))\n",
        "print(suma_lista([-1, 0, 1]))\n",
        "print(suma_lista([0, 4, 8, 12]))"
      ],
      "metadata": {
        "id": "b1m1a3qY28vr"
      },
      "execution_count": null,
      "outputs": []
    }
  ]
}