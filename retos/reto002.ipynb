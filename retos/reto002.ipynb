{
  "nbformat": 4,
  "nbformat_minor": 0,
  "metadata": {
    "colab": {
      "provenance": [],
      "authorship_tag": "ABX9TyOW3phln7l2jZ+9IWf3VXes",
      "include_colab_link": true
    },
    "kernelspec": {
      "name": "python3",
      "display_name": "Python 3"
    },
    "language_info": {
      "name": "python"
    }
  },
  "cells": [
    {
      "cell_type": "markdown",
      "metadata": {
        "id": "view-in-github",
        "colab_type": "text"
      },
      "source": [
        "<a href=\"https://colab.research.google.com/github/financieras/curso_python/blob/main/retos/reto002.ipynb\" target=\"_parent\"><img src=\"https://colab.research.google.com/assets/colab-badge.svg\" alt=\"Open In Colab\"/></a>"
      ]
    },
    {
      "cell_type": "markdown",
      "source": [
        "## Reto 2: Convertir minutos a segundos\n",
        "* Escriba una función que tome un número entero de `minutos` y los convierta a segundos.\n",
        "* Ejemplos:\n",
        "    1. minutos_a_segundos(5) ➞ 300\n",
        "    2. minutos_a_segundos(3) ➞ 180\n",
        "    3. minutos_a_segundos(2) ➞ 120"
      ],
      "metadata": {
        "id": "hOLv-TIRDf6j"
      }
    },
    {
      "cell_type": "code",
      "source": [
        "def minutos_a_segundos(minutos):\n",
        "    pass"
      ],
      "metadata": {
        "id": "tSrj_Q-w1KUA"
      },
      "execution_count": null,
      "outputs": []
    },
    {
      "cell_type": "code",
      "source": [
        "print(minutos_a_segundos(5))\n",
        "print(minutos_a_segundos(3))\n",
        "print(minutos_a_segundos(2))"
      ],
      "metadata": {
        "id": "vVxRFC8l1WhP"
      },
      "execution_count": null,
      "outputs": []
    }
  ]
}