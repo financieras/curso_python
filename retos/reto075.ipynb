{
  "nbformat": 4,
  "nbformat_minor": 0,
  "metadata": {
    "colab": {
      "provenance": [],
      "authorship_tag": "ABX9TyOl67Ik8bioOXLJfQ1RqqxM",
      "include_colab_link": true
    },
    "kernelspec": {
      "name": "python3",
      "display_name": "Python 3"
    },
    "language_info": {
      "name": "python"
    }
  },
  "cells": [
    {
      "cell_type": "markdown",
      "metadata": {
        "id": "view-in-github",
        "colab_type": "text"
      },
      "source": [
        "<a href=\"https://colab.research.google.com/github/financieras/curso_python/blob/main/retos/reto075.ipynb\" target=\"_parent\"><img src=\"https://colab.research.google.com/assets/colab-badge.svg\" alt=\"Open In Colab\"/></a>"
      ]
    },
    {
      "cell_type": "markdown",
      "source": [
        "## Reto 75: Mitad, cuarto y octavo\n",
        "* Cree una función que tome un número y devuelva una lista de tres números:\n",
        "    1. la mitad del número\n",
        "    2. un cuarto del número y\n",
        "    3. un octavo del número\n",
        "* Ejemplos:\n",
        "    1. en_partes(6) ➞ [3.0, 1.5, 0.75]\n",
        "    2. en_partes(22) ➞ [11, 5.5, 2.75]\n",
        "    3. en_partes(25) ➞ [12.5, 6.25, 3.125]\n",
        "    4. en_partes(400) ➞ [200.0, 100.0, 50.0]"
      ],
      "metadata": {
        "id": "xFKf1EbPriVG"
      }
    },
    {
      "cell_type": "code",
      "execution_count": 1,
      "metadata": {
        "id": "j_auH8zPrfA9"
      },
      "outputs": [],
      "source": [
        "def en_partes(n):\n",
        "    pass"
      ]
    },
    {
      "cell_type": "code",
      "source": [
        "print(en_partes(6))\n",
        "print(en_partes(22))\n",
        "print(en_partes(25))\n",
        "print(en_partes(400))"
      ],
      "metadata": {
        "id": "7te8a6o0rnY_"
      },
      "execution_count": null,
      "outputs": []
    }
  ]
}