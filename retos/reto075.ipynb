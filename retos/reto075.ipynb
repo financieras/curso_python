{
  "nbformat": 4,
  "nbformat_minor": 0,
  "metadata": {
    "colab": {
      "provenance": [],
      "authorship_tag": "ABX9TyNVKuQdZfL5afUaVwAuv4cM",
      "include_colab_link": true
    },
    "kernelspec": {
      "name": "python3",
      "display_name": "Python 3"
    },
    "language_info": {
      "name": "python"
    }
  },
  "cells": [
    {
      "cell_type": "markdown",
      "metadata": {
        "id": "view-in-github",
        "colab_type": "text"
      },
      "source": [
        "<a href=\"https://colab.research.google.com/github/financieras/curso_python/blob/main/retos/reto075.ipynb\" target=\"_parent\"><img src=\"https://colab.research.google.com/assets/colab-badge.svg\" alt=\"Open In Colab\"/></a>"
      ]
    },
    {
      "cell_type": "markdown",
      "source": [
        "## Reto 75: Mitad, cuarto y octavo\n",
        "* Cree una función que tome un número y devuelva una lista de tres números:\n",
        "    - la mitad del número\n",
        "    - un cuarto del número y\n",
        "    - un octavo del número\n",
        "* Ejemplos:\n",
        "    1. en_partes(6) ➞ [3, 1.5, 0.75]\n",
        "    2. en_partes(22) ➞ [11, 5.5, 2.75]\n",
        "    3. en_partes(25) ➞ [12.5, 6.25, 3.125]\n"
      ],
      "metadata": {
        "id": "f1wFUd3JWfWo"
      }
    },
    {
      "cell_type": "code",
      "source": [
        "def en_partes(n):\n",
        "    pass"
      ],
      "metadata": {
        "id": "DIMqzRoj24ps"
      },
      "execution_count": null,
      "outputs": []
    },
    {
      "cell_type": "code",
      "source": [
        "print(en_partes(6))\n",
        "print(en_partes(22))\n",
        "print(en_partes(25))"
      ],
      "metadata": {
        "id": "vq28K5NL24ps"
      },
      "execution_count": null,
      "outputs": []
    }
  ]
}