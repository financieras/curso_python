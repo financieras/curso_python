{
  "nbformat": 4,
  "nbformat_minor": 0,
  "metadata": {
    "colab": {
      "provenance": [],
      "authorship_tag": "ABX9TyMMxfs6UuyjDvd8HrpT/kT2",
      "include_colab_link": true
    },
    "kernelspec": {
      "name": "python3",
      "display_name": "Python 3"
    },
    "language_info": {
      "name": "python"
    }
  },
  "cells": [
    {
      "cell_type": "markdown",
      "metadata": {
        "id": "view-in-github",
        "colab_type": "text"
      },
      "source": [
        "<a href=\"https://colab.research.google.com/github/financieras/curso_python/blob/main/retos/reto141.ipynb\" target=\"_parent\"><img src=\"https://colab.research.google.com/assets/colab-badge.svg\" alt=\"Open In Colab\"/></a>"
      ]
    },
    {
      "cell_type": "markdown",
      "source": [
        "## Reto 141: Recrear la función `max`\n",
        "* Dada una lista de números enteros de tamaño variable.\n",
        "* Crear una función que retorne el mayor de todos los valores de la lista.\n",
        "* No debe utilizar las funciones `max` o `min`.\n",
        "* Ejemplos:\n",
        "    1. maximo([1, 3, 5, 7]) ➞ 7\n",
        "    2. maximo([5, 9, 1, 0]) ➞ 9\n",
        "    3. maximo([-9, -7, -3, -5, -18]) ➞ -3"
      ],
      "metadata": {
        "id": "B03XPRVYfQZo"
      }
    },
    {
      "cell_type": "code",
      "source": [
        "def maximo(lst):\n",
        "    pass"
      ],
      "metadata": {
        "id": "ki1yxMoggfam"
      },
      "execution_count": null,
      "outputs": []
    },
    {
      "cell_type": "code",
      "source": [
        "print(maximo([1, 3, 5, 7]))\n",
        "print(maximo([5, 9, 1, 0]))\n",
        "print(maximo([-9, -7, -3, -5, -18]))"
      ],
      "metadata": {
        "id": "CVABQkPZhSXS"
      },
      "execution_count": null,
      "outputs": []
    }
  ]
}