{
  "nbformat": 4,
  "nbformat_minor": 0,
  "metadata": {
    "colab": {
      "provenance": [],
      "authorship_tag": "ABX9TyPlx+PZEZx5fYHONo4n808k",
      "include_colab_link": true
    },
    "kernelspec": {
      "name": "python3",
      "display_name": "Python 3"
    },
    "language_info": {
      "name": "python"
    }
  },
  "cells": [
    {
      "cell_type": "markdown",
      "metadata": {
        "id": "view-in-github",
        "colab_type": "text"
      },
      "source": [
        "<a href=\"https://colab.research.google.com/github/financieras/curso_python/blob/main/retos/reto088.ipynb\" target=\"_parent\"><img src=\"https://colab.research.google.com/assets/colab-badge.svg\" alt=\"Open In Colab\"/></a>"
      ]
    },
    {
      "cell_type": "markdown",
      "source": [
        "## Reto 88: Diferencia de velocidades\n",
        "* Estamos probando patinetes en tandas de tres, y viendo la velocidad que puede alcanzar cada uno.\n",
        "* Deseamos conocer la diferencia de velocidades entre el más rápido y el más lento.\n",
        "* Ejemplos:\n",
        "    1. diferencia_velocidades(14, 33, 40) ➞ 26\n",
        "    2. diferencia_velocidades(33, 63, 35) ➞ 30\n",
        "    3. diferencia_velocidades(10, 15, 10) ➞ 5\n"
      ],
      "metadata": {
        "id": "-9AOkI9nnvy5"
      }
    },
    {
      "cell_type": "code",
      "source": [
        "# @title Reto 88\n",
        "\n",
        "def diferencia_velocidades(a, b, c):\n",
        "    pass"
      ],
      "metadata": {
        "id": "NXepDOfC2ylL"
      },
      "execution_count": null,
      "outputs": []
    },
    {
      "cell_type": "code",
      "source": [
        "print(diferencia_velocidades(14, 33, 40))\n",
        "print(diferencia_velocidades(33, 63, 35))\n",
        "print(diferencia_velocidades(10, 15, 10))"
      ],
      "metadata": {
        "id": "Qjv7qsaKQ9CZ"
      },
      "execution_count": null,
      "outputs": []
    }
  ]
}