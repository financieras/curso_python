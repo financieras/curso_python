{
  "nbformat": 4,
  "nbformat_minor": 0,
  "metadata": {
    "colab": {
      "provenance": [],
      "authorship_tag": "ABX9TyPGS62DWhw9bWoPcGKcGr0z",
      "include_colab_link": true
    },
    "kernelspec": {
      "name": "python3",
      "display_name": "Python 3"
    },
    "language_info": {
      "name": "python"
    }
  },
  "cells": [
    {
      "cell_type": "markdown",
      "metadata": {
        "id": "view-in-github",
        "colab_type": "text"
      },
      "source": [
        "<a href=\"https://colab.research.google.com/github/financieras/curso_python/blob/main/retos/reto073.ipynb\" target=\"_parent\"><img src=\"https://colab.research.google.com/assets/colab-badge.svg\" alt=\"Open In Colab\"/></a>"
      ]
    },
    {
      "cell_type": "markdown",
      "source": [
        "## Reto 73: Perdiendo el primer carácter\n",
        "* Cree una función que tome una palabra y devuelva la nueva palabra sin incluir el primer carácter.\n",
        "* Ejemplos:\n",
        "    1. new_word(\"cosa\") ➞ \"osa\"\n",
        "    2. new_word(\"Foca\") ➞ \"oca\"\n",
        "    3. new_word(\"Hola\") ➞ \"ola\""
      ],
      "metadata": {
        "id": "LzDEJWljWfPr"
      }
    },
    {
      "cell_type": "code",
      "source": [
        "def new_word(txt):\n",
        "    pass"
      ],
      "metadata": {
        "id": "nrwigeCU25WF"
      },
      "execution_count": null,
      "outputs": []
    },
    {
      "cell_type": "code",
      "source": [
        "print(new_word(\"cosa\"))\n",
        "print(new_word(\"Foca\"))\n",
        "print(new_word(\"Hola\"))"
      ],
      "metadata": {
        "id": "a78Cervh25WF"
      },
      "execution_count": null,
      "outputs": []
    }
  ]
}