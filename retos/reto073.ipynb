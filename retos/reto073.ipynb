{
  "nbformat": 4,
  "nbformat_minor": 0,
  "metadata": {
    "colab": {
      "provenance": [],
      "authorship_tag": "ABX9TyM3T1P+JL4DDFaUBVWmUH6S",
      "include_colab_link": true
    },
    "kernelspec": {
      "name": "python3",
      "display_name": "Python 3"
    },
    "language_info": {
      "name": "python"
    }
  },
  "cells": [
    {
      "cell_type": "markdown",
      "metadata": {
        "id": "view-in-github",
        "colab_type": "text"
      },
      "source": [
        "<a href=\"https://colab.research.google.com/github/financieras/curso_python/blob/main/retos/reto073.ipynb\" target=\"_parent\"><img src=\"https://colab.research.google.com/assets/colab-badge.svg\" alt=\"Open In Colab\"/></a>"
      ]
    },
    {
      "cell_type": "markdown",
      "source": [
        "## Reto 73: Perdiendo el primer carácter\n",
        "* Cree una función que tome una palabra y devuelva la nueva palabra sin incluir el primer carácter.\n",
        "* Ejemplos:\n",
        "    1. nueva_palabra(\"cosa\") ➞ \"osa\"\n",
        "    2. nueva_palabra(\"Foca\") ➞ \"oca\"\n",
        "    3. nueva_palabra(\"Hola\") ➞ \"ola\""
      ],
      "metadata": {
        "id": "AhrB2HOwLXCc"
      }
    },
    {
      "cell_type": "code",
      "execution_count": null,
      "metadata": {
        "id": "yhxCTRdmLKh2"
      },
      "outputs": [],
      "source": [
        "def nueva_palabra(palabra):\n",
        "     pass"
      ]
    },
    {
      "cell_type": "code",
      "source": [
        "print(nueva_palabra(\"cosa\"))\n",
        "print(nueva_palabra(\"Foca\"))\n",
        "print(nueva_palabra(\"Hola\"))"
      ],
      "metadata": {
        "id": "hgFt7KHeL3Bh"
      },
      "execution_count": null,
      "outputs": []
    }
  ]
}