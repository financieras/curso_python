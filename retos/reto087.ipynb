{
  "nbformat": 4,
  "nbformat_minor": 0,
  "metadata": {
    "colab": {
      "provenance": [],
      "authorship_tag": "ABX9TyMStZgQYdk4nnIPWHweu3Gu",
      "include_colab_link": true
    },
    "kernelspec": {
      "name": "python3",
      "display_name": "Python 3"
    },
    "language_info": {
      "name": "python"
    }
  },
  "cells": [
    {
      "cell_type": "markdown",
      "metadata": {
        "id": "view-in-github",
        "colab_type": "text"
      },
      "source": [
        "<a href=\"https://colab.research.google.com/github/financieras/curso_python/blob/main/retos/reto087.ipynb\" target=\"_parent\"><img src=\"https://colab.research.google.com/assets/colab-badge.svg\" alt=\"Open In Colab\"/></a>"
      ]
    },
    {
      "cell_type": "markdown",
      "source": [
        "## Reto 87: Recrear la función abs `abs()`\n",
        "* La función `abs()` devuelve el valor absoluto de un número.\n",
        "* Esto significa que devuelve el valor positivo de un número.\n",
        "* Puede pensar en ello como la distancia desde cero.\n",
        "* Cree una función que recree esta funcionalidad.\n",
        "* Ejemplos:\n",
        "    1. absoluto(-5) ➞ 5\n",
        "    2. absoluto(-3.14) ➞ 3.14\n",
        "    3. absoluto(25) ➞ 25\n"
      ],
      "metadata": {
        "id": "Va493IkPWgCd"
      }
    },
    {
      "cell_type": "code",
      "source": [
        "def absoluto(n):\n",
        "    pass"
      ],
      "metadata": {
        "id": "NbvXv6T02zBC"
      },
      "execution_count": null,
      "outputs": []
    },
    {
      "cell_type": "code",
      "source": [
        "print(absoluto(-5))\n",
        "print(absoluto(-3.14))\n",
        "print(absoluto(25))"
      ],
      "metadata": {
        "id": "Hrc1QXOy2zBC"
      },
      "execution_count": null,
      "outputs": []
    }
  ]
}