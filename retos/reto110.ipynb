{
  "nbformat": 4,
  "nbformat_minor": 0,
  "metadata": {
    "colab": {
      "provenance": [],
      "authorship_tag": "ABX9TyPg/Z+2yAbbFneZ+plVpHf5",
      "include_colab_link": true
    },
    "kernelspec": {
      "name": "python3",
      "display_name": "Python 3"
    },
    "language_info": {
      "name": "python"
    }
  },
  "cells": [
    {
      "cell_type": "markdown",
      "metadata": {
        "id": "view-in-github",
        "colab_type": "text"
      },
      "source": [
        "<a href=\"https://colab.research.google.com/github/financieras/curso_python/blob/main/retos/reto110.ipynb\" target=\"_parent\"><img src=\"https://colab.research.google.com/assets/colab-badge.svg\" alt=\"Open In Colab\"/></a>"
      ]
    },
    {
      "cell_type": "markdown",
      "source": [
        "## Reto 110: Peso máximo permitido\n",
        "* Cree una función que devuelva `True` si el peso combinado de un automóvil y el peso de los pasajeros p en el automóvil es menor que el peso máximo `max_weight` que el automóvil puede transportar. De lo contrario, devuelve Falso.\n",
        "* El peso del automóvil y el peso de los pasajeros se dan en libras.\n",
        "* El peso máximo se indica en kilogramos.\n",
        "* Nota: 1 libra = 0,453592 kilogramo\n",
        "* El orden de los argumentos en la función son:\n",
        "    - `weight_allowed(car, p, max_weight)`\n",
        "* Ejemplos:\n",
        "    1. weight_allowed(3000, [150, 201, 75, 88, 195], 1700) ➞ True\n",
        "    2. weight_allowed(3200, [220, 101, 115, 228, 15], 1700) ➞ False\n",
        "    3. weight_allowed(2900, [225, 171, 300, 274, 191], 1850) ➞ True"
      ],
      "metadata": {
        "id": "czeqq4Pentm0"
      }
    },
    {
      "cell_type": "code",
      "source": [
        "def weight_allowed(car, p, max_weight):\n",
        "    pass"
      ],
      "metadata": {
        "id": "0TsgTz6N2mIA"
      },
      "execution_count": null,
      "outputs": []
    },
    {
      "cell_type": "code",
      "source": [
        "print(weight_allowed(3000, [150, 201, 75, 88, 195], 1700))\n",
        "print(weight_allowed(3200, [220, 101, 115, 228, 15], 1700))\n",
        "print(weight_allowed(2900, [225, 171, 300, 274, 191], 1850))"
      ],
      "metadata": {
        "id": "TW1drakF2mIB"
      },
      "execution_count": null,
      "outputs": []
    }
  ]
}