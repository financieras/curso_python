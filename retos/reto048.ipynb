{
  "nbformat": 4,
  "nbformat_minor": 0,
  "metadata": {
    "colab": {
      "provenance": [],
      "authorship_tag": "ABX9TyMZSJ/eCr/UHsIVukDzI0RA",
      "include_colab_link": true
    },
    "kernelspec": {
      "name": "python3",
      "display_name": "Python 3"
    },
    "language_info": {
      "name": "python"
    }
  },
  "cells": [
    {
      "cell_type": "markdown",
      "metadata": {
        "id": "view-in-github",
        "colab_type": "text"
      },
      "source": [
        "<a href=\"https://colab.research.google.com/github/financieras/curso_python/blob/main/retos/reto048.ipynb\" target=\"_parent\"><img src=\"https://colab.research.google.com/assets/colab-badge.svg\" alt=\"Open In Colab\"/></a>"
      ]
    },
    {
      "cell_type": "markdown",
      "source": [
        "## Reto 48: ¿Está vacía la cadena?\n",
        "* Cree una función que devuelva `True` si una cadena está vacía y `False` en caso contrario.\n",
        "* Ejemplos:\n",
        "    1. is_empty(\"\") ➞ True\n",
        "    2. is_empty(\" \") ➞ False\n",
        "    3. is_empty(\"a\") ➞ False\n",
        "* Un string que contiene algún espacio en blanco `\" \"` no cuenta como vacío."
      ],
      "metadata": {
        "id": "7woygAxxzyFh"
      }
    },
    {
      "cell_type": "code",
      "source": [
        "def is_empty(cadena):\n",
        "    pass"
      ],
      "metadata": {
        "id": "mpNylrC-9fR-"
      },
      "execution_count": null,
      "outputs": []
    },
    {
      "cell_type": "code",
      "source": [
        "print(is_empty(\"\"))\n",
        "print(is_empty(\" \"))\n",
        "print(is_empty(\"a\"))"
      ],
      "metadata": {
        "id": "tRqfo_TCwXn0"
      },
      "execution_count": null,
      "outputs": []
    }
  ]
}