{
  "nbformat": 4,
  "nbformat_minor": 0,
  "metadata": {
    "colab": {
      "provenance": [],
      "authorship_tag": "ABX9TyO20/28Bzb63h1yW4zLZY0z",
      "include_colab_link": true
    },
    "kernelspec": {
      "name": "python3",
      "display_name": "Python 3"
    },
    "language_info": {
      "name": "python"
    }
  },
  "cells": [
    {
      "cell_type": "markdown",
      "metadata": {
        "id": "view-in-github",
        "colab_type": "text"
      },
      "source": [
        "<a href=\"https://colab.research.google.com/github/financieras/curso_python/blob/main/retos/reto113.ipynb\" target=\"_parent\"><img src=\"https://colab.research.google.com/assets/colab-badge.svg\" alt=\"Open In Colab\"/></a>"
      ]
    },
    {
      "cell_type": "markdown",
      "source": [
        "## Reto 113: Ligeramente superior\n",
        "* Se le darán dos listas muy parecidas o exactamente iguales\n",
        "* Si son exactamente iguales la función debe devolver como resultado 'False'.\n",
        "* Si difieren en un único elemento y éste es mayor en la primera lista se retornará 'True' y si es mayor el de la segunda lista se retornará 'False'\n",
        "* Nunca se recibirán dos listas en las que puedan diferir más de un elemento.\n",
        "* Ejemplos:\n",
        "    1. is_first_superior([1, 2, 4], [1, 2, 3]) ➞ True\n",
        "    2. is_first_superior([\"a\", \"d\", \"c\"], [\"a\", \"b\", \"c\"]) ➞ True\n",
        "    3. is_first_superior([\"zumo\", \"col\", \"pan\"], [\"atún\", \"col\", \"pan\"]) ➞ True\n",
        "    4. is_first_superior([1, 2, 5, 4], [1, 2, 3, 4]) ➞ True\n",
        "    5. is_first_superior([1, 2, 3, 4], [1, 2, 4, 4]) ➞ False\n",
        "    6. is_first_superior([True, 10, \"Roma\"], [True, 10, \"Roma\"]) ➞ False\n",
        "* Ambas listas tendrán la misma longitud, aunque ésta puede ser variable.\n",
        "* Todos los valores y sus contrapartes siempre serán del mismo tipo de dato."
      ],
      "metadata": {
        "id": "TVDPcAuHntoF"
      }
    },
    {
      "cell_type": "code",
      "source": [
        "def is_first_superior(lst1, lst2):\n",
        "    pass"
      ],
      "metadata": {
        "id": "JtEMn6cm2kJJ"
      },
      "execution_count": null,
      "outputs": []
    },
    {
      "cell_type": "code",
      "source": [
        "print(is_first_superior([\"a\", \"d\", \"c\"], [\"a\", \"b\", \"c\"]))\n",
        "print(is_first_superior([\"a\", \"d\", \"c\"], [\"a\", \"b\", \"c\"]))\n",
        "print(is_first_superior([\"zumo\", \"col\", \"pan\"], [\"atún\", \"col\", \"pan\"]))\n",
        "print(is_first_superior([1, 2, 5, 4], [1, 2, 3, 4]))\n",
        "print(is_first_superior([1, 2, 3, 4], [1, 2, 4, 4]))\n",
        "print(is_first_superior([True, 10, \"Roma\"], [True, 10, \"Roma\"]))"
      ],
      "metadata": {
        "id": "tejBS3F32kJK"
      },
      "execution_count": null,
      "outputs": []
    }
  ]
}