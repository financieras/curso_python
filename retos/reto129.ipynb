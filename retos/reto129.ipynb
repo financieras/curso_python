{
  "nbformat": 4,
  "nbformat_minor": 0,
  "metadata": {
    "colab": {
      "provenance": [],
      "authorship_tag": "ABX9TyPeQv0EX5+ylKaS9LeC5ugi",
      "include_colab_link": true
    },
    "kernelspec": {
      "name": "python3",
      "display_name": "Python 3"
    },
    "language_info": {
      "name": "python"
    }
  },
  "cells": [
    {
      "cell_type": "markdown",
      "metadata": {
        "id": "view-in-github",
        "colab_type": "text"
      },
      "source": [
        "<a href=\"https://colab.research.google.com/github/financieras/curso_python/blob/main/retos/reto129.ipynb\" target=\"_parent\"><img src=\"https://colab.research.google.com/assets/colab-badge.svg\" alt=\"Open In Colab\"/></a>"
      ]
    },
    {
      "cell_type": "markdown",
      "source": [
        "## Reto 129: Una sola letra cambia todo\n",
        "* Cree una función que reciba como parámetros dos letras y un frase.\n",
        "* La primera letra que se recibe como parámetro se reemplaza por la segunda letra recibida como parámetro y esto altera la frase.\n",
        "* Ejemplos:\n",
        "    1. cambiando('g', 'p', 'El gato en el tejado') ➞ \"El pato en el tejado\"\n",
        "    2. cambiando('s', 'n', 'Vivo en el quinto piso') ➞ \"Vivo en el quinto pino\"\n",
        "    3. cambiando('h', 'm', 'hola Madrid') ➞ \"mola Madrid\""
      ],
      "metadata": {
        "id": "F38bt7BfmUrK"
      }
    },
    {
      "cell_type": "code",
      "source": [
        "def cambiando(char1, char2, string):\n",
        "    pass"
      ],
      "metadata": {
        "id": "K45QIrCp2b7s"
      },
      "execution_count": null,
      "outputs": []
    },
    {
      "cell_type": "code",
      "source": [
        "print(cambiando('g', 'p', 'El gato en el tejado'))\n",
        "print(cambiando('s', 'n', 'Vivo en el quinto piso'))\n",
        "print(cambiando('h', 'm', 'hola Madrid'))"
      ],
      "metadata": {
        "id": "qdDaLFOL2b7t"
      },
      "execution_count": null,
      "outputs": []
    }
  ]
}