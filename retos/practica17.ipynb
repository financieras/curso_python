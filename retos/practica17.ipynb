{
  "nbformat": 4,
  "nbformat_minor": 0,
  "metadata": {
    "colab": {
      "provenance": [],
      "authorship_tag": "ABX9TyO5LU1Uo5jQ6B1PuXe7WwxK",
      "include_colab_link": true
    },
    "kernelspec": {
      "name": "python3",
      "display_name": "Python 3"
    },
    "language_info": {
      "name": "python"
    }
  },
  "cells": [
    {
      "cell_type": "markdown",
      "metadata": {
        "id": "view-in-github",
        "colab_type": "text"
      },
      "source": [
        "<a href=\"https://colab.research.google.com/github/financieras/curso_python/blob/main/retos/practica17.ipynb\" target=\"_parent\"><img src=\"https://colab.research.google.com/assets/colab-badge.svg\" alt=\"Open In Colab\"/></a>"
      ]
    },
    {
      "cell_type": "markdown",
      "source": [
        "## Reto 161: Entero dentro de rango\n",
        "* Cree una función que valide si un número `n` está dentro de los límites `inferior` y `superior`.\n",
        "* Devuelve `False` si `n` no es un número entero.\n",
        "* Los argumentos de la función van en este orden:  \n",
        "    - `int_within_bounds(n, lower, upper)`\n",
        "* Ejemplos:\n",
        "    1. int_within_bounds(3, 1, 9) ➞ True\n",
        "    2. int_within_bounds(6, 1, 6) ➞ False\n",
        "    3. int_within_bounds(4.5, 3, 8) ➞ False\n",
        "    4. int_within_bounds(1, 1, 9) ➞ False\n",
        "    5. int_within_bounds(3., 1, 9) ➞ False\n",
        "* El término \"dentro de límites\" significa que un número `n` ha de estar dentro del intervalo sin que puede sar igual a ninguno de los extremos\n",
        "* Los límites siempre se dan como números enteros."
      ],
      "metadata": {
        "id": "E4ETC0CqlQHb"
      }
    },
    {
      "cell_type": "code",
      "source": [
        "def int_within_bounds(n, lower, upper):\n",
        "    pass"
      ],
      "metadata": {
        "id": "aoB-Qk6C2Ge_"
      },
      "execution_count": null,
      "outputs": []
    },
    {
      "cell_type": "code",
      "source": [
        "print(int_within_bounds(3, 1, 9))\n",
        "print(int_within_bounds(6, 1, 6))\n",
        "print(int_within_bounds(4.5, 3, 8))\n",
        "print(int_within_bounds(1, 1, 9))\n",
        "print(int_within_bounds(3., 1, 9))"
      ],
      "metadata": {
        "id": "iWRFqAGw2Ge_"
      },
      "execution_count": null,
      "outputs": []
    },
    {
      "cell_type": "markdown",
      "source": [
        "## Reto 162: La longitud total de Google\n",
        "* La palabra `Google` se escribe con 2 letras `o`\n",
        "* Cree una función que reciba el parámetro `n` que diga cuantas letrs `o` tendremos que escribir.\n",
        "* n será mayor o igual a 2 y en caso contrario se imprimirá \"invalid\"\n",
        "    1. googlify(10) ➞ \"Goooooooooogle\"\n",
        "    2. googlify(23) ➞ \"Gooooooooooooooooooooooogle\"\n",
        "    3. googlify(2) ➞ \"Google\"\n",
        "    4. googlify(-2) ➞ \"invalid\""
      ],
      "metadata": {
        "id": "4LUdiuZ1lQPZ"
      }
    },
    {
      "cell_type": "code",
      "source": [
        "def googlify(n):\n",
        "    pass"
      ],
      "metadata": {
        "id": "_38Nbzqu2F95"
      },
      "execution_count": null,
      "outputs": []
    },
    {
      "cell_type": "code",
      "source": [
        "print(googlify(10))\n",
        "print(googlify(23))\n",
        "print(googlify(2))\n",
        "print(googlify(-2))"
      ],
      "metadata": {
        "id": "WmNlIe482F96"
      },
      "execution_count": null,
      "outputs": []
    },
    {
      "cell_type": "markdown",
      "source": [
        "## Reto 163: Total Maximo condicional\n",
        "* Dada una lista de 10 números, devuelve el total máximo posible obtenido sumando solo 5 de los 10 números.\n",
        "\n",
        "    1. max_total([1, 1, 0, 1, 3, 10, 10, 10, 10, 1]) ➞ 43\n",
        "    2. max_total([0, 0, 0, 0, 0, 0, 0, 0, 0, 100]) ➞ 100\n",
        "    3. max_total([1, 2, 3, 4, 5, 6, 7, 8, 9, 10]) ➞ 40"
      ],
      "metadata": {
        "id": "qplEi5EblQV9"
      }
    },
    {
      "cell_type": "code",
      "source": [
        "def max_total(lista):\n",
        "    pass"
      ],
      "metadata": {
        "id": "fS8NG1A92Fh2"
      },
      "execution_count": null,
      "outputs": []
    },
    {
      "cell_type": "code",
      "source": [
        "print(max_total([1, 1, 0, 1, 3, 10, 10, 10, 10, 1]))\n",
        "print(max_total([0, 0, 0, 0, 0, 0, 0, 0, 0, 100]))\n",
        "print(max_total([1, 2, 3, 4, 5, 6, 7, 8, 9, 10]))"
      ],
      "metadata": {
        "id": "0iRG66ps2Fh3"
      },
      "execution_count": null,
      "outputs": []
    },
    {
      "cell_type": "markdown",
      "source": [
        "## Reto 164: Compruebe si es el mismo caso\n",
        "* Cree una función que devuelva `True` si una cadena de entrada contiene solo letras mayúsculas o solo letras minúsculas.\n",
        "    1. same_case(\"hello\") ➞ True\n",
        "    2. same_case(\"HELLO\") ➞ True\n",
        "    3. same_case(\"Hello\") ➞ False\n",
        "    4. same_case(\"ketchUp\") ➞ False"
      ],
      "metadata": {
        "id": "z4pVG9qmlQcU"
      }
    },
    {
      "cell_type": "code",
      "source": [
        "def same_case(txt):\n",
        "    pass"
      ],
      "metadata": {
        "id": "Ypu0scJ22FHJ"
      },
      "execution_count": null,
      "outputs": []
    },
    {
      "cell_type": "code",
      "source": [
        "print(same_case(\"hello\"))\n",
        "print(same_case(\"HELLO\"))\n",
        "print(same_case(\"Hello\"))\n",
        "print(same_case(\"ketchUp\"))"
      ],
      "metadata": {
        "id": "ubBo09vs2FHK"
      },
      "execution_count": null,
      "outputs": []
    },
    {
      "cell_type": "markdown",
      "source": [
        "## Reto 165: Los mayores números de una lista\n",
        "* Cree una función que tiene dos parámetros: un número entero y una lista:\n",
        "    - `largest_numbers(n, lst)`\n",
        "* La función retorna los `n` números más grandes de la lista dada.\n",
        "* Ejemplos:\n",
        "    1. largest_numbers(2, [4, 3, 2, 1]) ➞ [3, 4]\n",
        "    2. largest_numbers(1, [7, 19, 4, 2]) ➞ [19]\n",
        "    3. largest_numbers(3, [14, 12, 57, 11, 18, 16]) ➞ [16, 18, 57]\n",
        "    4. largest_numbers(0, [1, 3, 4, 2]) ➞ []"
      ],
      "metadata": {
        "id": "iPNIxTbflQjI"
      }
    },
    {
      "cell_type": "code",
      "source": [
        "def largest_numbers(n, lst):\n",
        "    pass"
      ],
      "metadata": {
        "id": "5MWYz1zS2EnU"
      },
      "execution_count": null,
      "outputs": []
    },
    {
      "cell_type": "code",
      "source": [
        "print(largest_numbers(2, [4, 3, 2, 1]))\n",
        "print(largest_numbers(1, [7, 19, 4, 2]))\n",
        "print(largest_numbers(3, [14, 12, 57, 11, 18, 16]))\n",
        "print(largest_numbers(0, [1, 3, 4, 2]))"
      ],
      "metadata": {
        "id": "zYRr_Rln2EnV"
      },
      "execution_count": null,
      "outputs": []
    },
    {
      "cell_type": "markdown",
      "source": [
        "## Reto 166: Contar las sílabas\n",
        "* Cree una función que devuelva el número de sílabas en una cadena simple.\n",
        "* La cadena se compone de palabras cortas repetidas como \"Lalalalalalala\" (que tendría 7 sílabas).\n",
        "* Para simplificar, tenga en cuenta que cada sílaba constará de dos letras únicamente.\n",
        "* Su código debe aceptar cadenas mayúsculas, minúsculas y mixtas.\n",
        "* Ejemplos:\n",
        "    1. count_syllables(\"Hehehehehehe\") ➞ 6\n",
        "    2. count_syllables(\"totototototototo\") ➞ 8\n",
        "    3. count_syllables(\"NANANA\") ➞ 3"
      ],
      "metadata": {
        "id": "WApfPkljlQql"
      }
    },
    {
      "cell_type": "code",
      "source": [
        "def count_syllables(txt):\n",
        "    pass"
      ],
      "metadata": {
        "id": "cH_w9A8-2EOf"
      },
      "execution_count": null,
      "outputs": []
    },
    {
      "cell_type": "code",
      "source": [
        "print(count_syllables(\"Hehehehehehe\"))\n",
        "print(count_syllables(\"totototototototo\"))\n",
        "print(count_syllables(\"NANANA\"))"
      ],
      "metadata": {
        "id": "tVweBCtG2EOf"
      },
      "execution_count": null,
      "outputs": []
    },
    {
      "cell_type": "markdown",
      "source": [
        "## Reto 167: Factores de un número\n",
        "* Cree una función que encuentre cada factor de un número dado `n`.\n",
        "* Su solución debería devolver una lista de los números que cumplen con este criterio.\n",
        "* Devuelve una lista vacía si el número dado es menor que 1.\n",
        "* Ejemplos:\n",
        "    1. find_factors(9) ➞ [1, 3, 9]\n",
        "    2. find_factors(12) ➞ [1, 2, 3, 4, 6, 12]\n",
        "    3. find_factors(20) ➞ [1, 2, 4, 5, 10, 20]\n",
        "    4. find_factors(0) ➞ []"
      ],
      "metadata": {
        "id": "r6UTACqGlQyi"
      }
    },
    {
      "cell_type": "code",
      "source": [
        "def find_factors(n):\n",
        "    pass"
      ],
      "metadata": {
        "id": "AeAoW2v-2Dqw"
      },
      "execution_count": null,
      "outputs": []
    },
    {
      "cell_type": "code",
      "source": [
        "print(find_factors(9))\n",
        "print(find_factors(12))\n",
        "print(find_factors(20))\n",
        "print(find_factors(0))"
      ],
      "metadata": {
        "id": "UmPAdJaw2Dq1"
      },
      "execution_count": null,
      "outputs": []
    },
    {
      "cell_type": "markdown",
      "source": [
        "## Reto 168: Agua hirviendo\n",
        "* Cree una función que determine si la temperatura del agua se considera que está hirviendo o no.\n",
        "* La temperatura se medirá en Fahrenheit y Celsius.\n",
        "* El punto de ebullición del agua es 212 °F en Fahrenheit y 100 °C en Celsius.\n",
        "* Ejemplos:\n",
        "    1. is_boiling(\"212F\") ➞ True\n",
        "    2. is_boiling(\"100C\") ➞ True\n",
        "    3. is_boiling(\"0F\") ➞ False\n"
      ],
      "metadata": {
        "id": "EsIMxQuZlRnp"
      }
    },
    {
      "cell_type": "code",
      "source": [
        "def is_boiling(txt):\n",
        "    pass"
      ],
      "metadata": {
        "id": "4DtXaL8G2Ca5"
      },
      "execution_count": null,
      "outputs": []
    },
    {
      "cell_type": "code",
      "source": [
        "print(is_boiling(\"212F\"))\n",
        "print(is_boiling(\"100C\"))\n",
        "print(is_boiling(\"0F\"))"
      ],
      "metadata": {
        "id": "mwExN-oT2Ca5"
      },
      "execution_count": null,
      "outputs": []
    },
    {
      "cell_type": "markdown",
      "source": [
        "## Reto 169: Tiroteo de vaqueros\n",
        "* Wild Roger tiene la tarea de derribar 6 botellas con 6 disparos lo más rápido posible.\n",
        "* Estos son los diferentes tipos de tiros que podría realizar:\n",
        "    - Podría usar una pistola para dispararle a una botella con un \"Bang!\" en 0,5 segundos.\n",
        "    - O podría usar ambas pistolas a la vez con un \"BangBang!\". De esta forma estaría disparano dos botellas en 0,5 segundos.\n",
        "* Dada una lista de Bangs y BangBangs, se devuelve el tiempo (en segundos) que tomó derribar las 6 botellas.\n",
        "* Asegúrate de contar solo Bangs y BangBangs. Cualquier otra cosa no cuenta.\n",
        "* Todas las botellas serán derribadas en todas las pruebas.\n",
        "* Ejemplos:\n",
        "    1. roger_shots([\"Bang!\", \"Bang!\", \"Bang!\", \"Bang!\", \"Bang!\", \"Bang!\"]) ➞ 3\n",
        "    2. roger_shots([\"Bang!\", \"Bang!\", \"Bang!\", \"Bang!\", \"BangBang!\"]) ➞ 2.5\n",
        "    3. roger_shots([\"Bang!\", \"BangBangBang!\", \"Boom!\", \"Bang!\", \"BangBang!\", \"BangBang!\"]) ➞ 2"
      ],
      "metadata": {
        "id": "zDlZHPKJlSfT"
      }
    },
    {
      "cell_type": "code",
      "source": [
        "def roger_shots(lst):\n",
        "    pass"
      ],
      "metadata": {
        "id": "zfb2azlB2B4O"
      },
      "execution_count": null,
      "outputs": []
    },
    {
      "cell_type": "code",
      "source": [
        "print(roger_shots([\"Bang!\", \"Bang!\", \"Bang!\", \"Bang!\", \"Bang!\", \"Bang!\"]))\n",
        "print(roger_shots([\"Bang!\", \"Bang!\", \"Bang!\", \"Bang!\", \"BangBang!\"]))\n",
        "print(roger_shots([\"Bang!\", \"BangBangBang!\", \"Boom!\", \"Bang!\", \"BangBang!\", \"BangBang!\"]))"
      ],
      "metadata": {
        "id": "VGMmNkiV2B4P"
      },
      "execution_count": null,
      "outputs": []
    },
    {
      "cell_type": "markdown",
      "source": [
        "## Reto 170: Revertir mayúsculas y minúsculas\n",
        "* Dada una cadena, cree una función para invertir las mayúsculas por minúsculas y viceversa.\n",
        "* Todas las letras minúsculas deben tornar en mayúsculas y viceversa.\n",
        "* Ejemplos:\n",
        "    1. reverse_case(\"Happy Birthday\") ➞ \"hAPPY bIRTHDAY\"\n",
        "    2. reverse_case(\"MANY THANKS\") ➞ \"many thanks\"\n",
        "    3. reverse_case(\"ChOcOlAtE\") ➞ \"cHoCoLaTe\""
      ],
      "metadata": {
        "id": "vLIV6k5-xhVe"
      }
    },
    {
      "cell_type": "code",
      "source": [
        "def reverse_case(cadena):\n",
        "    pass"
      ],
      "metadata": {
        "id": "B0vLHBRx2BXp"
      },
      "execution_count": null,
      "outputs": []
    },
    {
      "cell_type": "code",
      "source": [
        "print(reverse_case(\"Happy Birthday\"))\n",
        "print(reverse_case(\"MANY THANKS\"))\n",
        "print(reverse_case(\"ChOcOlAtE\"))"
      ],
      "metadata": {
        "id": "6YYkN-EA2BXp"
      },
      "execution_count": null,
      "outputs": []
    }
  ]
}