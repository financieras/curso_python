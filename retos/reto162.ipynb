{
  "nbformat": 4,
  "nbformat_minor": 0,
  "metadata": {
    "colab": {
      "provenance": [],
      "authorship_tag": "ABX9TyNcnsWEW5ZcP3WEGvVkzOwW",
      "include_colab_link": true
    },
    "kernelspec": {
      "name": "python3",
      "display_name": "Python 3"
    },
    "language_info": {
      "name": "python"
    }
  },
  "cells": [
    {
      "cell_type": "markdown",
      "metadata": {
        "id": "view-in-github",
        "colab_type": "text"
      },
      "source": [
        "<a href=\"https://colab.research.google.com/github/financieras/curso_python/blob/main/retos/reto162.ipynb\" target=\"_parent\"><img src=\"https://colab.research.google.com/assets/colab-badge.svg\" alt=\"Open In Colab\"/></a>"
      ]
    },
    {
      "cell_type": "markdown",
      "source": [
        "## Reto 162: La longitud total de Google\n",
        "* La palabra `Google` se escribe con 2 letras `o`\n",
        "* Cree una función que reciba el parámetro `n` que diga cuantas letrs `o` tendremos que escribir.\n",
        "* n será mayor o igual a 2 y en caso contrario se imprimirá \"invalid\"\n",
        "    1. googlify(10) ➞ \"Goooooooooogle\"\n",
        "    2. googlify(23) ➞ \"Gooooooooooooooooooooooogle\"\n",
        "    3. googlify(2) ➞ \"Google\"\n",
        "    4. googlify(-2) ➞ \"invalid\""
      ],
      "metadata": {
        "id": "4LUdiuZ1lQPZ"
      }
    },
    {
      "cell_type": "code",
      "source": [
        "def googlify(n):\n",
        "    pass"
      ],
      "metadata": {
        "id": "_38Nbzqu2F95"
      },
      "execution_count": null,
      "outputs": []
    },
    {
      "cell_type": "code",
      "source": [
        "print(googlify(10))\n",
        "print(googlify(23))\n",
        "print(googlify(2))\n",
        "print(googlify(-2))"
      ],
      "metadata": {
        "id": "WmNlIe482F96"
      },
      "execution_count": null,
      "outputs": []
    }
  ]
}