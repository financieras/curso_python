{
  "nbformat": 4,
  "nbformat_minor": 0,
  "metadata": {
    "colab": {
      "provenance": [],
      "authorship_tag": "ABX9TyOUEMvtS0W8QG12eHhv21Ux",
      "include_colab_link": true
    },
    "kernelspec": {
      "name": "python3",
      "display_name": "Python 3"
    },
    "language_info": {
      "name": "python"
    }
  },
  "cells": [
    {
      "cell_type": "markdown",
      "metadata": {
        "id": "view-in-github",
        "colab_type": "text"
      },
      "source": [
        "<a href=\"https://colab.research.google.com/github/financieras/curso_python/blob/main/retos/reto104.ipynb\" target=\"_parent\"><img src=\"https://colab.research.google.com/assets/colab-badge.svg\" alt=\"Open In Colab\"/></a>"
      ]
    },
    {
      "cell_type": "markdown",
      "source": [
        "## Reto 104: ¿El diccionario contiene la clave especificada?\n",
        "* Escriba una función que devuelva `True` si un diccionario contiene la clave especificada y `False` en caso contrario.\n",
        "* Ejemplos:\n",
        "    1. has_key({ \"a\": 44, \"b\": 45, \"c\": 46 }, \"d\") ➞ False\n",
        "    2. has_key({ \"rojo\": True, \"azul\": True, \"verde\": True }, \"rosa\") ➞ False\n",
        "    3. has_key({ \"ene\": 1, \"feb\": 2, \"mar\": 3 }, \"feb\") ➞ True"
      ],
      "metadata": {
        "id": "y6GXjHrantgQ"
      }
    },
    {
      "cell_type": "code",
      "source": [
        "def has_key(diccionario, key):\n",
        "    pass"
      ],
      "metadata": {
        "id": "lUtSpTkm2pyo"
      },
      "execution_count": null,
      "outputs": []
    },
    {
      "cell_type": "code",
      "source": [
        "print(has_key({ \"a\": 44, \"b\": 45, \"c\": 46 }, \"d\"))\n",
        "print(has_key({ \"rojo\": True, \"azul\": True, \"verde\": True }, \"rosa\"))\n",
        "print(has_key({ \"ene\": 1, \"feb\": 2, \"mar\": 3 }, \"feb\"))"
      ],
      "metadata": {
        "id": "4Id-nUBn2pyu"
      },
      "execution_count": null,
      "outputs": []
    }
  ]
}