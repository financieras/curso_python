{
  "nbformat": 4,
  "nbformat_minor": 0,
  "metadata": {
    "colab": {
      "provenance": [],
      "authorship_tag": "ABX9TyNNC9ItGbhVuMcn8we002fc",
      "include_colab_link": true
    },
    "kernelspec": {
      "name": "python3",
      "display_name": "Python 3"
    },
    "language_info": {
      "name": "python"
    }
  },
  "cells": [
    {
      "cell_type": "markdown",
      "metadata": {
        "id": "view-in-github",
        "colab_type": "text"
      },
      "source": [
        "<a href=\"https://colab.research.google.com/github/financieras/curso_python/blob/main/retos/reto147.ipynb\" target=\"_parent\"><img src=\"https://colab.research.google.com/assets/colab-badge.svg\" alt=\"Open In Colab\"/></a>"
      ]
    },
    {
      "cell_type": "markdown",
      "source": [
        "## Reto 147: Python List Slicing\n",
        "* Dada una lista y un número entero `n`, devuelva la suma de los primeros `n` números de la lista.\n",
        "* Si `n` es mayor que la longitud de la lista, devuelve la suma de toda la lista.\n",
        "* La *list slicing* es una técnica común en Python que permite dividir las listas en porciones, en tramos, en rebanadas.\n",
        "* Ejemplos:\n",
        "    1. sum_first_n_nums([1, 3, 2], 2) ➞ 4\n",
        "    2. sum_first_n_nums([4, 2, 5, 7], 4) ➞ 18\n",
        "    3. sum_first_n_nums([3, 6, 2], 0) ➞ 0\n",
        "    4. sum_first_n_nums([3, 6, 2], 7) ➞ 11"
      ],
      "metadata": {
        "id": "XjwB1tLymWYj"
      }
    },
    {
      "cell_type": "code",
      "source": [
        "def sum_first_n_nums(lst, n):\n",
        "    pass"
      ],
      "metadata": {
        "id": "hgsMeTzf2RHL"
      },
      "execution_count": null,
      "outputs": []
    },
    {
      "cell_type": "code",
      "source": [
        "print(sum_first_n_nums([1, 3, 2], 2))\n",
        "print(sum_first_n_nums([4, 2, 5, 7], 4))\n",
        "print(sum_first_n_nums([3, 6, 2], 0))\n",
        "print(sum_first_n_nums([3, 6, 2], 7))"
      ],
      "metadata": {
        "id": "EFVnL_bb2RHQ"
      },
      "execution_count": null,
      "outputs": []
    }
  ]
}