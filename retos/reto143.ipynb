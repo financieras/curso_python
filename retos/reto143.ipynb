{
  "nbformat": 4,
  "nbformat_minor": 0,
  "metadata": {
    "colab": {
      "provenance": [],
      "authorship_tag": "ABX9TyOoD7MtFptM5D63flLC3D3o",
      "include_colab_link": true
    },
    "kernelspec": {
      "name": "python3",
      "display_name": "Python 3"
    },
    "language_info": {
      "name": "python"
    }
  },
  "cells": [
    {
      "cell_type": "markdown",
      "metadata": {
        "id": "view-in-github",
        "colab_type": "text"
      },
      "source": [
        "<a href=\"https://colab.research.google.com/github/financieras/curso_python/blob/main/retos/reto143.ipynb\" target=\"_parent\"><img src=\"https://colab.research.google.com/assets/colab-badge.svg\" alt=\"Open In Colab\"/></a>"
      ]
    },
    {
      "cell_type": "markdown",
      "source": [
        "## Reto 143: Diferencia de volumen entre cubos\n",
        "* Cree un programa que tome dos listas de números enteros, a y b.\n",
        "* Cada lista constará de 3 números enteros positivos, que representan las dimensiones de los cubos a y b.\n",
        "* Encuentra la diferencia de volúmenes de los cubos.\n",
        "* Por ejemplo, si los parámetros pasados ​​son:\n",
        "    - `([2, 2, 3], [5, 4, 1])`\n",
        "* el volumen de `a` es 12 y el volumen de `b` es 20.\n",
        "* Por lo tanto, la función debería devolver 8, en este caso.\n",
        "* Ejemplos:\n",
        "    1. find_difference([ 28, 16, 29 ], [ 7, 8, 17 ]) ➞ 12040\n",
        "    2. find_difference([ 9, 22, 18 ], [ 16, 24, 10 ]) ➞ 276\n",
        "    3. find_difference([ 1, 9, 25 ], [ 10, 7, 9 ]) ➞ 405\n",
        "    4. find_difference([ 7, 6, 16 ], [ 26, 9, 26 ]) ➞ 5412"
      ],
      "metadata": {
        "id": "ZbsKL9NWmWBT"
      }
    },
    {
      "cell_type": "code",
      "source": [
        "def find_difference(a, b):\n",
        "    pass"
      ],
      "metadata": {
        "id": "BNPwV2v_2Ucv"
      },
      "execution_count": null,
      "outputs": []
    },
    {
      "cell_type": "code",
      "source": [
        "print(find_difference([ 28, 16, 29 ], [ 7, 8, 17 ]))\n",
        "print(find_difference([ 9, 22, 18 ], [ 16, 24, 10 ]))\n",
        "print(find_difference([ 1, 9, 25 ], [ 10, 7, 9 ]))\n",
        "print(find_difference([ 7, 6, 16 ], [ 26, 9, 26 ]))"
      ],
      "metadata": {
        "id": "NIxqcR-e2Ucv"
      },
      "execution_count": null,
      "outputs": []
    }
  ]
}