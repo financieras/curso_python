{
  "nbformat": 4,
  "nbformat_minor": 0,
  "metadata": {
    "colab": {
      "provenance": [],
      "authorship_tag": "ABX9TyOM4cR0c/mpWpvQFoFUBBi2",
      "include_colab_link": true
    },
    "kernelspec": {
      "name": "python3",
      "display_name": "Python 3"
    },
    "language_info": {
      "name": "python"
    }
  },
  "cells": [
    {
      "cell_type": "markdown",
      "metadata": {
        "id": "view-in-github",
        "colab_type": "text"
      },
      "source": [
        "<a href=\"https://colab.research.google.com/github/financieras/curso_python/blob/main/retos/reto176.ipynb\" target=\"_parent\"><img src=\"https://colab.research.google.com/assets/colab-badge.svg\" alt=\"Open In Colab\"/></a>"
      ]
    },
    {
      "cell_type": "markdown",
      "source": [
        "## Reto 176: Función tartamuda\n",
        "* Escriba una función que tartamudee una palabra como si alguien tuviera dificultades para leerla.\n",
        "* Las dos primeras letras se repiten dos veces con puntos suspensivos `...` y un espacio después de cada una, y luego la palabra se pronuncia con un signo de interrogación `?` al final.\n",
        "* Ejemplos:\n",
        "    1. stutter(\"incredible\") ➞ \"in... in... incredible?\"\n",
        "    2. stutter(\"enthusiastic\") ➞ \"en... en... enthusiastic?\"\n",
        "    3. stutter(\"outstanding\") ➞ \"ou... ou... outstanding?\""
      ],
      "metadata": {
        "id": "6P37uHGLLI1P"
      }
    },
    {
      "cell_type": "code",
      "source": [
        "def stutter(word):\n",
        "    pass"
      ],
      "metadata": {
        "id": "WIx3GdqqL2dv"
      },
      "execution_count": null,
      "outputs": []
    },
    {
      "cell_type": "code",
      "source": [
        "print(stutter(\"incredible\"))\n",
        "print(stutter(\"enthusiastic\"))\n",
        "print(stutter(\"outstanding\"))"
      ],
      "metadata": {
        "id": "87gQLggmMANy"
      },
      "execution_count": null,
      "outputs": []
    }
  ]
}