{
  "nbformat": 4,
  "nbformat_minor": 0,
  "metadata": {
    "colab": {
      "provenance": [],
      "authorship_tag": "ABX9TyOIDLc3rAjsOAs2eV6zifVl",
      "include_colab_link": true
    },
    "kernelspec": {
      "name": "python3",
      "display_name": "Python 3"
    },
    "language_info": {
      "name": "python"
    }
  },
  "cells": [
    {
      "cell_type": "markdown",
      "metadata": {
        "id": "view-in-github",
        "colab_type": "text"
      },
      "source": [
        "<a href=\"https://colab.research.google.com/github/financieras/curso_python/blob/main/retos/reto030.ipynb\" target=\"_parent\"><img src=\"https://colab.research.google.com/assets/colab-badge.svg\" alt=\"Open In Colab\"/></a>"
      ]
    },
    {
      "cell_type": "markdown",
      "source": [
        "## Reto 30: Juego de mesa\n",
        "* En cierto juego de mesa cada ronda recibe unos puntos según este criterio:\n",
        "    - Las victorias dan 3 puntos\n",
        "    - Los empates dan 1 punto\n",
        "    - Las derrotas dan 0 puntos\n",
        "* Crear una función que de los puntos alcanzados según el número de victorias, empates y derrotas obtenidas.\n",
        "* Ejemplos:\n",
        "     1. puntos_obtenidos(3, 4, 2) ➞ 13\n",
        "     2. puntos_obtenidos(5, 0, 2) ➞ 15\n",
        "     3. puntos_obtenidos(0, 0, 1) ➞ 0\n",
        "\n",
        "* El orden de los argumentos ha de ser:\n",
        "    - `puntos_obtenidos(victorias, empates, derrotas)`\n",
        "* Los argumentos de la función serán siempre números enteros mayores o iguales a 0."
      ],
      "metadata": {
        "id": "ndW_fwNOSy7W"
      }
    },
    {
      "cell_type": "code",
      "source": [
        "def puntos_obtenidos(victorias, empates, derrotas):\n",
        "    pass"
      ],
      "metadata": {
        "id": "54MH-RwlFv7_"
      },
      "execution_count": null,
      "outputs": []
    },
    {
      "cell_type": "code",
      "source": [
        "print(puntos_obtenidos(3, 4, 2))\n",
        "print(puntos_obtenidos(5, 0, 2))\n",
        "print(puntos_obtenidos(0, 0, 1))"
      ],
      "metadata": {
        "id": "P-cvMprOGEXb"
      },
      "execution_count": null,
      "outputs": []
    }
  ]
}