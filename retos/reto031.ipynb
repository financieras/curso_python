{
  "nbformat": 4,
  "nbformat_minor": 0,
  "metadata": {
    "colab": {
      "provenance": [],
      "authorship_tag": "ABX9TyMtNdCsDpfUriil/1SOl0BZ",
      "include_colab_link": true
    },
    "kernelspec": {
      "name": "python3",
      "display_name": "Python 3"
    },
    "language_info": {
      "name": "python"
    }
  },
  "cells": [
    {
      "cell_type": "markdown",
      "metadata": {
        "id": "view-in-github",
        "colab_type": "text"
      },
      "source": [
        "<a href=\"https://colab.research.google.com/github/financieras/curso_python/blob/main/retos/reto031.ipynb\" target=\"_parent\"><img src=\"https://colab.research.google.com/assets/colab-badge.svg\" alt=\"Open In Colab\"/></a>"
      ]
    },
    {
      "cell_type": "markdown",
      "source": [
        "## Reto 31: Convertir horas y minutos en segundos\n",
        "* Escribe una función que tome dos números enteros (horas, minutos) y devuelva el número de segundos contenidos en ese tiempo.\n",
        "* Ejemplos:\n",
        "    1. convert_to_seconds(1, 3) ➞ 3780\n",
        "    2. convert_to_seconds(2, 0) ➞ 7200\n",
        "    3. convert_to_seconds(0, 0) ➞ 0\n"
      ],
      "metadata": {
        "id": "lZj9FWGlykGc"
      }
    },
    {
      "cell_type": "code",
      "source": [
        "def convert_to_seconds(hours, minutes):\n",
        "    pass"
      ],
      "metadata": {
        "id": "b6mylZdeG7-8"
      },
      "execution_count": null,
      "outputs": []
    },
    {
      "cell_type": "code",
      "source": [
        "print(convert_to_seconds(1, 3))\n",
        "print(convert_to_seconds(2, 0))\n",
        "print(convert_to_seconds(0, 0))"
      ],
      "metadata": {
        "id": "QhoQTqoMHFG3"
      },
      "execution_count": null,
      "outputs": []
    }
  ]
}