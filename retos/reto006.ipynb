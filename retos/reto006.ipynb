{
  "nbformat": 4,
  "nbformat_minor": 0,
  "metadata": {
    "colab": {
      "provenance": [],
      "authorship_tag": "ABX9TyOvMUxyZqAPWv/9Yk40daA9",
      "include_colab_link": true
    },
    "kernelspec": {
      "name": "python3",
      "display_name": "Python 3"
    },
    "language_info": {
      "name": "python"
    }
  },
  "cells": [
    {
      "cell_type": "markdown",
      "metadata": {
        "id": "view-in-github",
        "colab_type": "text"
      },
      "source": [
        "<a href=\"https://colab.research.google.com/github/financieras/curso_python/blob/main/retos/reto006.ipynb\" target=\"_parent\"><img src=\"https://colab.research.google.com/assets/colab-badge.svg\" alt=\"Open In Colab\"/></a>"
      ]
    },
    {
      "cell_type": "markdown",
      "source": [
        "## Reto 6: Calculadora de potencia eléctrica\n",
        "* Cree una función que tome `voltaje` y la `intensidad` de corriente y devuelva la `potencia` calculada.\n",
        "* Ejemplos:\n",
        "    1. potencia(230, 10) ➞ 2300\n",
        "    2. potencia(110, 3) ➞ 330\n",
        "    3. potencia(480, 20) ➞ 9600"
      ],
      "metadata": {
        "id": "lIodMfnfGeCi"
      }
    },
    {
      "cell_type": "code",
      "source": [
        "def potencia(voltaje, intensidad):\n",
        "    pass"
      ],
      "metadata": {
        "id": "hX_FR9B24bvk"
      },
      "execution_count": null,
      "outputs": []
    },
    {
      "cell_type": "code",
      "source": [
        "print(potencia(230, 10))\n",
        "print(potencia(110, 3))\n",
        "print(potencia(480, 20))"
      ],
      "metadata": {
        "id": "6_LVpn764qZX"
      },
      "execution_count": null,
      "outputs": []
    }
  ]
}