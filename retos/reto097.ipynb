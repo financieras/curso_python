{
  "nbformat": 4,
  "nbformat_minor": 0,
  "metadata": {
    "colab": {
      "provenance": [],
      "authorship_tag": "ABX9TyMDekz7sWLnibUIOdzOp1w4",
      "include_colab_link": true
    },
    "kernelspec": {
      "name": "python3",
      "display_name": "Python 3"
    },
    "language_info": {
      "name": "python"
    }
  },
  "cells": [
    {
      "cell_type": "markdown",
      "metadata": {
        "id": "view-in-github",
        "colab_type": "text"
      },
      "source": [
        "<a href=\"https://colab.research.google.com/github/financieras/curso_python/blob/main/retos/reto097.ipynb\" target=\"_parent\"><img src=\"https://colab.research.google.com/assets/colab-badge.svg\" alt=\"Open In Colab\"/></a>"
      ]
    },
    {
      "cell_type": "markdown",
      "source": [
        "## Reto 97: Solo los primeros positivos\n",
        "* Escriba una función llamada `primeros_positivos` que recibe como parámetro una lista.\n",
        "* La lista recibida contiene números positivos, negativos o cero.\n",
        "* La función ha de retornar una lista que contenga únicamente los primeros positivos.\n",
        "* Al llegar a un cero o un número negativo no se retorna y tampoco todo lo posterior.\n",
        "* Ejemplos:\n",
        "    1. primeros_positivos([4, 9, 5, 0, 2, 4]) ➞ [4, 9, 5]\n",
        "    2. primeros_positivos([-2, 1, 6, 0, 3]) ➞ []\n",
        "    3. primeros_positivos([1, 3, 7, 2, -1, 6]) ➞ [1, 3, 7, 2]\n",
        "\n"
      ],
      "metadata": {
        "id": "FcGQDvBJntaT"
      }
    },
    {
      "cell_type": "code",
      "source": [
        "def primeros_positivos(lista):\n",
        "    pass"
      ],
      "metadata": {
        "id": "YqOqeq092u4u"
      },
      "execution_count": null,
      "outputs": []
    },
    {
      "cell_type": "code",
      "source": [
        "print(primeros_positivos([4, 9, 5, 0, 2, 4]))\n",
        "print(primeros_positivos([-2, 1, 6, 0, 3]))\n",
        "print(primeros_positivos([1, 3, 7, 2, -1, 6]))"
      ],
      "metadata": {
        "id": "Z7eO75Ad2u4v"
      },
      "execution_count": null,
      "outputs": []
    }
  ]
}