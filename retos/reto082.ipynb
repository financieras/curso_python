{
  "nbformat": 4,
  "nbformat_minor": 0,
  "metadata": {
    "colab": {
      "provenance": [],
      "authorship_tag": "ABX9TyOxA2V7mUP0h4X9H/6YCn1d",
      "include_colab_link": true
    },
    "kernelspec": {
      "name": "python3",
      "display_name": "Python 3"
    },
    "language_info": {
      "name": "python"
    }
  },
  "cells": [
    {
      "cell_type": "markdown",
      "metadata": {
        "id": "view-in-github",
        "colab_type": "text"
      },
      "source": [
        "<a href=\"https://colab.research.google.com/github/financieras/curso_python/blob/main/retos/reto082.ipynb\" target=\"_parent\"><img src=\"https://colab.research.google.com/assets/colab-badge.svg\" alt=\"Open In Colab\"/></a>"
      ]
    },
    {
      "cell_type": "markdown",
      "source": [
        "## Reto 82: Smash Factor\n",
        "* El factor Smash es un término en golf que se relaciona con la cantidad de energía transferida desde la cabeza del palo a la pelota de golf.\n",
        "* La fórmula para calcular el factor smash es la velocidad de la pelota dividida por la velocidad del palo.\n",
        "* Cree una función que tome la velocidad de la pelota y la velocidad del palo como argumentos y devuelva el factor de smash a la centésima más cercana.\n",
        "* Ejemplos:\n",
        "    1. smash_factor(139.4, 93.8) ➞ 1.49\n",
        "    2. smash_factor(181.2, 124.5) ➞ 1.46\n",
        "    3. smash_factor(154.7, 104.3) ➞ 1.48\n"
      ],
      "metadata": {
        "id": "lC4sJKLmWfwP"
      }
    },
    {
      "cell_type": "code",
      "source": [
        "def smash_factor(bs, cs):\n",
        "    pass"
      ],
      "metadata": {
        "id": "1-kx8N_221HU"
      },
      "execution_count": null,
      "outputs": []
    },
    {
      "cell_type": "code",
      "source": [
        "print(smash_factor(139.4, 93.8))\n",
        "print(smash_factor(181.2, 124.5))\n",
        "print(smash_factor(154.7, 104.3))"
      ],
      "metadata": {
        "id": "E8tvGgcW21HU"
      },
      "execution_count": null,
      "outputs": []
    }
  ]
}