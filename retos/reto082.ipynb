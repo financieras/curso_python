{
  "nbformat": 4,
  "nbformat_minor": 0,
  "metadata": {
    "colab": {
      "provenance": [],
      "authorship_tag": "ABX9TyPTFJIa7FLD4zzYR0nOhNuG",
      "include_colab_link": true
    },
    "kernelspec": {
      "name": "python3",
      "display_name": "Python 3"
    },
    "language_info": {
      "name": "python"
    }
  },
  "cells": [
    {
      "cell_type": "markdown",
      "metadata": {
        "id": "view-in-github",
        "colab_type": "text"
      },
      "source": [
        "<a href=\"https://colab.research.google.com/github/financieras/curso_python/blob/main/retos/reto082.ipynb\" target=\"_parent\"><img src=\"https://colab.research.google.com/assets/colab-badge.svg\" alt=\"Open In Colab\"/></a>"
      ]
    },
    {
      "cell_type": "markdown",
      "source": [
        "## Reto 82: Lista con múltiplos de 3 y 5\n",
        "* Cree una función que, dada una secuencia de números enteros en forma de lista, identifique y devuelva una lista con aquellos números que son simultáneamente múltiplos de 3 y múltiplos de 5.\n",
        "* Ejemplos:\n",
        "    1. multiplos_de_3_y_5([1, 200, 300, 45, 500, 1000, 150, 600]) ➞ [300, 45, 150, 600]\n",
        "    2. multiplos_de_3_y_5([15, 20, 25, 30, 35, 40]) ➞ [15, 30]\n",
        "    3. multiplos_de_3_y_5([16, 17, 18]) ➞ []\n",
        "    4. multiplos_de_3_y_5([]) ➞ []\n"
      ],
      "metadata": {
        "id": "Faz9bdSkbV7h"
      }
    },
    {
      "cell_type": "code",
      "execution_count": null,
      "metadata": {
        "id": "5PHLQYBdaXmj"
      },
      "outputs": [],
      "source": [
        "def multiplos_de_3_y_5(lista):\n",
        "    pass"
      ]
    },
    {
      "cell_type": "code",
      "source": [
        "print(multiplos_de_3_y_5([1, 200, 300, 45, 500, 1000, 150, 600]))\n",
        "print(multiplos_de_3_y_5([15, 20, 25, 30, 35, 40]))\n",
        "print(multiplos_de_3_y_5([16, 17, 18]))\n",
        "print(multiplos_de_3_y_5([]))"
      ],
      "metadata": {
        "id": "hoh-sF4ybhwF"
      },
      "execution_count": null,
      "outputs": []
    }
  ]
}