{
  "nbformat": 4,
  "nbformat_minor": 0,
  "metadata": {
    "colab": {
      "provenance": [],
      "authorship_tag": "ABX9TyOcYFUPsH/m9EvC8kOnaumX",
      "include_colab_link": true
    },
    "kernelspec": {
      "name": "python3",
      "display_name": "Python 3"
    },
    "language_info": {
      "name": "python"
    }
  },
  "cells": [
    {
      "cell_type": "markdown",
      "metadata": {
        "id": "view-in-github",
        "colab_type": "text"
      },
      "source": [
        "<a href=\"https://colab.research.google.com/github/financieras/curso_python/blob/main/retos/reto131.ipynb\" target=\"_parent\"><img src=\"https://colab.research.google.com/assets/colab-badge.svg\" alt=\"Open In Colab\"/></a>"
      ]
    },
    {
      "cell_type": "markdown",
      "source": [
        "## Reto 131: Probabilidad de ser un impostor\n",
        "* Crea una función que calcule la probabilidad de ser un impostor.\n",
        "* La fórmula para las posibilidades de ser un impostor es `100 × (i / p)` donde `i` es el recuento de impostores y `p` es el recuento de jugadores.\n",
        "* Asegúrese de redondear el valor al número entero más cercano y devolver el valor como porcentaje.\n",
        "* Ejemplos:\n",
        "    1. imposter_formula(1, 10) ➞ \"10%\"\n",
        "    2. imposter_formula(2, 5) ➞ \"40%\"\n",
        "    3. imposter_formula(1, 8) ➞ \"12%\""
      ],
      "metadata": {
        "id": "tMzdScmLmU2z"
      }
    },
    {
      "cell_type": "code",
      "source": [
        "def imposter_formula(i, p):\n",
        "    pass"
      ],
      "metadata": {
        "id": "J8-dffVf2a0k"
      },
      "execution_count": null,
      "outputs": []
    },
    {
      "cell_type": "code",
      "source": [
        "print(imposter_formula(1, 10))\n",
        "print(imposter_formula(2, 5))\n",
        "print(imposter_formula(1, 8))"
      ],
      "metadata": {
        "id": "_pvxzdXY2a0k"
      },
      "execution_count": null,
      "outputs": []
    }
  ]
}