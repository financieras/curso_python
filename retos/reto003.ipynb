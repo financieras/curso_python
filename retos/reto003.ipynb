{
  "nbformat": 4,
  "nbformat_minor": 0,
  "metadata": {
    "colab": {
      "provenance": [],
      "authorship_tag": "ABX9TyOESpvRCl0F/LD1JH1OpFdZ",
      "include_colab_link": true
    },
    "kernelspec": {
      "name": "python3",
      "display_name": "Python 3"
    },
    "language_info": {
      "name": "python"
    }
  },
  "cells": [
    {
      "cell_type": "markdown",
      "metadata": {
        "id": "view-in-github",
        "colab_type": "text"
      },
      "source": [
        "<a href=\"https://colab.research.google.com/github/financieras/curso_python/blob/main/retos/reto003.ipynb\" target=\"_parent\"><img src=\"https://colab.research.google.com/assets/colab-badge.svg\" alt=\"Open In Colab\"/></a>"
      ]
    },
    {
      "cell_type": "markdown",
      "source": [
        "## Reto 3: Retornar el siguiente número entero\n",
        "* Cree una función que tome un número como argumento, incremente el número en +1 y devuelva el resultado.\n",
        "* Ejemplos:\n",
        "    1. suma_uno(0) ➞ 1\n",
        "    2. suma_uno(9) ➞ 10\n",
        "    3. suma_uno(-3) ➞ -2"
      ],
      "metadata": {
        "id": "WTawBnD9EVuF"
      }
    },
    {
      "cell_type": "code",
      "source": [
        "def suma_uno(n):\n",
        "    pass"
      ],
      "metadata": {
        "id": "xwyrDFA916tx"
      },
      "execution_count": null,
      "outputs": []
    },
    {
      "cell_type": "code",
      "source": [
        "print(suma_uno(0))\n",
        "print(suma_uno(9))\n",
        "print(suma_uno(-3))"
      ],
      "metadata": {
        "id": "H9sdtJIC2FbZ"
      },
      "execution_count": null,
      "outputs": []
    }
  ]
}