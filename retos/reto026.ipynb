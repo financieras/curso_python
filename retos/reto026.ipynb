{
  "nbformat": 4,
  "nbformat_minor": 0,
  "metadata": {
    "colab": {
      "provenance": [],
      "authorship_tag": "ABX9TyPsV1z3P8ftuxV80I5WxV8f",
      "include_colab_link": true
    },
    "kernelspec": {
      "name": "python3",
      "display_name": "Python 3"
    },
    "language_info": {
      "name": "python"
    }
  },
  "cells": [
    {
      "cell_type": "markdown",
      "metadata": {
        "id": "view-in-github",
        "colab_type": "text"
      },
      "source": [
        "<a href=\"https://colab.research.google.com/github/financieras/curso_python/blob/main/retos/reto026.ipynb\" target=\"_parent\"><img src=\"https://colab.research.google.com/assets/colab-badge.svg\" alt=\"Open In Colab\"/></a>"
      ]
    },
    {
      "cell_type": "markdown",
      "source": [
        "## Reto 26: ¡Lucía quiere intercambiar dos números!\n",
        "* La función no está devolviendo los valores correctos.\n",
        "* ¿Puedes ayudarla solucionando los bugs?\n",
        "* Los valores retornados correctos deberían ser estos:\n",
        "* Ejemplos:\n",
        "    1. swap(100, 200) ➞ [200, 100]\n",
        "    2. swap(44, 33) ➞ [33, 44]\n",
        "    3. swap(0, -1) ➞ [-1, 0]\n",
        "\n",
        "\n",
        "* Este es el código que no está funcionando correctamente:\n",
        "\n",
        "```python\n",
        "del swap(a, b)\n",
        "\tb = a\n",
        "\ta = b\n",
        "\treturn [a, b]\n",
        "```"
      ],
      "metadata": {
        "id": "Q4BQ1xfASykd"
      }
    },
    {
      "cell_type": "code",
      "source": [
        "def swap(a, b):\n",
        "    pass"
      ],
      "metadata": {
        "id": "1d9q0TXK_-zl"
      },
      "execution_count": null,
      "outputs": []
    },
    {
      "cell_type": "code",
      "source": [
        "print(swap(100, 200))\n",
        "print(swap(44, 33))\n",
        "print(swap(0, -1))"
      ],
      "metadata": {
        "id": "rsX_8-9kAUiO"
      },
      "execution_count": null,
      "outputs": []
    }
  ]
}