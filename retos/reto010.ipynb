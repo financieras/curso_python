{
  "nbformat": 4,
  "nbformat_minor": 0,
  "metadata": {
    "colab": {
      "provenance": [],
      "authorship_tag": "ABX9TyMql8n7xsgLdI2aRn8BQb6/",
      "include_colab_link": true
    },
    "kernelspec": {
      "name": "python3",
      "display_name": "Python 3"
    },
    "language_info": {
      "name": "python"
    }
  },
  "cells": [
    {
      "cell_type": "markdown",
      "metadata": {
        "id": "view-in-github",
        "colab_type": "text"
      },
      "source": [
        "<a href=\"https://colab.research.google.com/github/financieras/curso_python/blob/main/retos/reto010.ipynb\" target=\"_parent\"><img src=\"https://colab.research.google.com/assets/colab-badge.svg\" alt=\"Open In Colab\"/></a>"
      ]
    },
    {
      "cell_type": "markdown",
      "source": [
        "## Reto 10: Encontrar el perímetro de un rectángulo\n",
        "* Cree una función que tome el `largo` y el `ancho` de un rectángulo y retorne su perímetro.\n",
        "* Ejemplos:\n",
        "    1. perimetro(6, 7) ➞ 26\n",
        "    2. perimetro(20, 10) ➞ 60\n",
        "    3. perimetro(2, 9) ➞ 22"
      ],
      "metadata": {
        "id": "SGsmTdRwGdET"
      }
    },
    {
      "cell_type": "code",
      "source": [
        "def perimetro(largo, ancho):\n",
        "    pass"
      ],
      "metadata": {
        "id": "J4fL8cw07txS"
      },
      "execution_count": null,
      "outputs": []
    },
    {
      "cell_type": "code",
      "source": [
        "print(perimetro(6, 7))\n",
        "print(perimetro(20, 10))\n",
        "print(perimetro(2, 9))"
      ],
      "metadata": {
        "id": "LdDpQX5r735d"
      },
      "execution_count": null,
      "outputs": []
    }
  ]
}