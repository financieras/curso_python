{
  "nbformat": 4,
  "nbformat_minor": 0,
  "metadata": {
    "colab": {
      "provenance": [],
      "authorship_tag": "ABX9TyOjj6vpCcJr9EksjG85lCJE",
      "include_colab_link": true
    },
    "kernelspec": {
      "name": "python3",
      "display_name": "Python 3"
    },
    "language_info": {
      "name": "python"
    }
  },
  "cells": [
    {
      "cell_type": "markdown",
      "metadata": {
        "id": "view-in-github",
        "colab_type": "text"
      },
      "source": [
        "<a href=\"https://colab.research.google.com/github/financieras/curso_python/blob/main/retos/reto028.ipynb\" target=\"_parent\"><img src=\"https://colab.research.google.com/assets/colab-badge.svg\" alt=\"Open In Colab\"/></a>"
      ]
    },
    {
      "cell_type": "markdown",
      "source": [
        "## Reto 28: Operador lógico `and`\n",
        "* El operador `and` toma dos valores booleanos y devuelve `True` si ambos valores son verdaderos.\n",
        "* Devuelve `False` en cualquier otro caso.\n",
        "* Ejemplos:\n",
        "    1. funcion_and(True, True) ➞ True\n",
        "    2. funcion_and(True, False) ➞ False\n",
        "    3. funcion_and(False, True) ➞ False\n",
        "    4. funcion_and(False, False) ➞ False"
      ],
      "metadata": {
        "id": "1wnjDFgHSywE"
      }
    },
    {
      "cell_type": "code",
      "source": [
        "def funcion_and(condicion1, condicion2):\n",
        "    pass"
      ],
      "metadata": {
        "id": "oIuvPS8iCkK7"
      },
      "execution_count": null,
      "outputs": []
    },
    {
      "cell_type": "code",
      "source": [
        "print(funcion_and(True, True))\n",
        "print(funcion_and(True, False))\n",
        "print(funcion_and(False, True))\n",
        "print(funcion_and(False, False))"
      ],
      "metadata": {
        "id": "Hxm-XceZCu6e"
      },
      "execution_count": null,
      "outputs": []
    }
  ]
}