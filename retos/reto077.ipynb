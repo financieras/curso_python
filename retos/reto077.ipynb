{
  "nbformat": 4,
  "nbformat_minor": 0,
  "metadata": {
    "colab": {
      "provenance": [],
      "authorship_tag": "ABX9TyOxRD6hXEJ57LJ80S1rp86G",
      "include_colab_link": true
    },
    "kernelspec": {
      "name": "python3",
      "display_name": "Python 3"
    },
    "language_info": {
      "name": "python"
    }
  },
  "cells": [
    {
      "cell_type": "markdown",
      "metadata": {
        "id": "view-in-github",
        "colab_type": "text"
      },
      "source": [
        "<a href=\"https://colab.research.google.com/github/financieras/curso_python/blob/main/retos/reto077.ipynb\" target=\"_parent\"><img src=\"https://colab.research.google.com/assets/colab-badge.svg\" alt=\"Open In Colab\"/></a>"
      ]
    },
    {
      "cell_type": "markdown",
      "source": [
        "## Reto 77: Encontrar el número mayor y menor\n",
        "* Cree una función que acepte una lista de números y devuelva los números mínimo y máximo, en ese orden (como una lista).\n",
        "* Ejemplos:\n",
        "    1. min_max([1, 2, 3, 4, 5]) ➞ [1, 5]\n",
        "    2. min_max([200, 5]) ➞ [5, 200]\n",
        "    3. min_max([1]) ➞ [1, 1]"
      ],
      "metadata": {
        "id": "Mw4qzlKHUD7f"
      }
    },
    {
      "cell_type": "code",
      "execution_count": null,
      "metadata": {
        "id": "fctkbWwYUDGh"
      },
      "outputs": [],
      "source": [
        "def min_max(lista):\n",
        "    pass"
      ]
    },
    {
      "cell_type": "code",
      "source": [
        "print(min_max([1, 2, 3, 4, 5]))\n",
        "print(min_max([200, 5]))\n",
        "print(min_max([1]))"
      ],
      "metadata": {
        "id": "uaJuPYwnUUK2"
      },
      "execution_count": null,
      "outputs": []
    }
  ]
}