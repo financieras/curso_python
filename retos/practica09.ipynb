{
  "nbformat": 4,
  "nbformat_minor": 0,
  "metadata": {
    "colab": {
      "provenance": [],
      "authorship_tag": "ABX9TyOy/xpbycpd1Mk25LcmySza",
      "include_colab_link": true
    },
    "kernelspec": {
      "name": "python3",
      "display_name": "Python 3"
    },
    "language_info": {
      "name": "python"
    }
  },
  "cells": [
    {
      "cell_type": "markdown",
      "metadata": {
        "id": "view-in-github",
        "colab_type": "text"
      },
      "source": [
        "<a href=\"https://colab.research.google.com/github/financieras/curso_python/blob/main/retos/practica09.ipynb\" target=\"_parent\"><img src=\"https://colab.research.google.com/assets/colab-badge.svg\" alt=\"Open In Colab\"/></a>"
      ]
    },
    {
      "cell_type": "markdown",
      "source": [
        "## Reto 81: Desempaquetando listas\n",
        "* Dada una lista de números como por ejemplo:\n",
        "lst = [10, 20, 30, 40, 50]\n",
        "* deseamos recoger el contenido de la lista en tres variables:  \n",
        "    - primero ➞ 10\n",
        "    - segundo ➞ 20\n",
        "    - resto ➞ [30, 40, 50]\n",
        "* La función devolverá el contenido de las tres variables separado por comas.\n",
        "* Ejemplos:\n",
        "    1. separa([10, 20, 30, 40, 50]) ➞ 10, 20, [30, 40, 50]\n",
        "    2. separa([7, 8, 9, 10, 11, 99]) ➞ 7, 8, [9, 10, 10, 99]\n"
      ],
      "metadata": {
        "id": "dARrW21OWfsd"
      }
    },
    {
      "cell_type": "code",
      "source": [
        "def separa(lst):\n",
        "    pass"
      ],
      "metadata": {
        "id": "i33fmZ9U21ho"
      },
      "execution_count": null,
      "outputs": []
    },
    {
      "cell_type": "code",
      "source": [
        "print(separa([10, 20, 30, 40, 50]))\n",
        "print(separa([7, 8, 9, 10, 11, 99]))\n"
      ],
      "metadata": {
        "id": "4GfX9iwP21ho",
        "colab": {
          "base_uri": "https://localhost:8080/"
        },
        "outputId": "398bf408-98b6-484f-c2a8-3f07dcee2e97"
      },
      "execution_count": null,
      "outputs": [
        {
          "output_type": "stream",
          "name": "stdout",
          "text": [
            "(10, 20, [30, 40, 50])\n",
            "(7, 8, [9, 10, 11, 99])\n"
          ]
        }
      ]
    },
    {
      "cell_type": "markdown",
      "source": [
        "## Reto 82: Smash Factor\n",
        "* El factor Smash es un término en golf que se relaciona con la cantidad de energía transferida desde la cabeza del palo a la pelota de golf.\n",
        "* La fórmula para calcular el factor smash es la velocidad de la pelota dividida por la velocidad del palo.\n",
        "* Cree una función que tome la velocidad de la pelota y la velocidad del palo como argumentos y devuelva el factor de smash a la centésima más cercana.\n",
        "* Ejemplos:\n",
        "    1. smash_factor(139.4, 93.8) ➞ 1.49\n",
        "    2. smash_factor(181.2, 124.5) ➞ 1.46\n",
        "    3. smash_factor(154.7, 104.3) ➞ 1.48\n"
      ],
      "metadata": {
        "id": "lC4sJKLmWfwP"
      }
    },
    {
      "cell_type": "code",
      "source": [
        "def smash_factor(bs, cs):\n",
        "    pass"
      ],
      "metadata": {
        "id": "1-kx8N_221HU"
      },
      "execution_count": null,
      "outputs": []
    },
    {
      "cell_type": "code",
      "source": [
        "print(smash_factor(139.4, 93.8))\n",
        "print(smash_factor(181.2, 124.5))\n",
        "print(smash_factor(154.7, 104.3))"
      ],
      "metadata": {
        "id": "E8tvGgcW21HU",
        "colab": {
          "base_uri": "https://localhost:8080/"
        },
        "outputId": "f9b5603a-e636-4ae7-83f1-dbdd80150042"
      },
      "execution_count": null,
      "outputs": [
        {
          "output_type": "stream",
          "name": "stdout",
          "text": [
            "1.49\n",
            "1.46\n",
            "1.48\n"
          ]
        }
      ]
    },
    {
      "cell_type": "markdown",
      "source": [
        "## Reto 83: AND, OR, NOT\n",
        "* Crear tres funciones que trabajen como puertas lógicas.\n",
        "* Las tres puertas lógicas son: AND, OR y NO.\n",
        "* Ejemplos:\n",
        "    1. funcion_AND(1, 1) ➞ 1\n",
        "    2. funcion_AND(1, 0) ➞ 0\n",
        "    3. funcion_AND(0, 0) ➞ 0\n",
        "    4. funcion_OR(1, 0) ➞ 1\n",
        "    5. funcion_OR(1, 1) ➞ 1\n",
        "    6. funcion_OR(0, 0) ➞ 0\n",
        "    7. funcion_NOT(0) ➞ 1\n",
        "    8. funcion_NOT(1) ➞ 0"
      ],
      "metadata": {
        "id": "KNcxW8fKWfz-"
      }
    },
    {
      "cell_type": "code",
      "source": [
        "def funcion_AND(a, b):\n",
        "    pass\n",
        "\n",
        "def funcion_OR(a, b):\n",
        "    pass\n",
        "\n",
        "def funcion_NOT(a):\n",
        "    pass"
      ],
      "metadata": {
        "id": "98TnFL_E20nE"
      },
      "execution_count": null,
      "outputs": []
    },
    {
      "cell_type": "code",
      "source": [
        "print(funcion_AND(1, 1))\n",
        "print(funcion_AND(1, 0))\n",
        "print(funcion_AND(0, 0))\n",
        "print(funcion_OR(1, 0))\n",
        "print(funcion_OR(1, 1))\n",
        "print(funcion_OR(0, 0))\n",
        "print(funcion_NOT(0))\n",
        "print(funcion_NOT(1))"
      ],
      "metadata": {
        "id": "3F-g8EcB20nE",
        "colab": {
          "base_uri": "https://localhost:8080/"
        },
        "outputId": "3cd2ac65-d758-45de-91f4-39109f5a1a1c"
      },
      "execution_count": null,
      "outputs": [
        {
          "output_type": "stream",
          "name": "stdout",
          "text": [
            "1\n",
            "0\n",
            "0\n",
            "1\n",
            "1\n",
            "0\n",
            "1\n",
            "0\n"
          ]
        }
      ]
    },
    {
      "cell_type": "markdown",
      "source": [
        "## Reto 84: Check if All Values Are True\n",
        "* Cree una función que devuelva `True` todos los parámetros son verdaderos y `False`o en caso contrario.\n",
        "* Ejemplos:\n",
        "    1. all_truthy(True, True, True) ➞ True\n",
        "    2. all_truthy(True, False, True) ➞ False\n",
        "    3. all_truthy(5, 4, 3, 2, 1, 0) ➞ False\n",
        "    4. all_truthy(1, 1, 1, 1, 1, 1, 1, 1) ➞ True\n"
      ],
      "metadata": {
        "id": "d-AfwJ7yWf3c"
      }
    },
    {
      "cell_type": "code",
      "source": [
        "def all_truthy(*args):\n",
        "    pass"
      ],
      "metadata": {
        "id": "OsmiM-Ql20OH"
      },
      "execution_count": null,
      "outputs": []
    },
    {
      "cell_type": "code",
      "source": [
        "print(all_truthy(True, True, True))\n",
        "print(all_truthy(True, False, True))\n",
        "print(all_truthy(5, 4, 3, 2, 1, 0))\n",
        "print(all_truthy(1, 1, 1, 1, 1, 1, 1, 1))"
      ],
      "metadata": {
        "id": "2xWWa1CH20OH",
        "colab": {
          "base_uri": "https://localhost:8080/"
        },
        "outputId": "323e0739-5e7c-4d6c-f388-a19ff0dad963"
      },
      "execution_count": null,
      "outputs": [
        {
          "output_type": "stream",
          "name": "stdout",
          "text": [
            "True\n",
            "False\n",
            "False\n",
            "True\n"
          ]
        }
      ]
    },
    {
      "cell_type": "markdown",
      "source": [
        "## Reto 85: Convert Yen to USD\n",
        "* Cree una función que pueda convertir JPY (yen japonés) en USD (dólar estadounidense).\n",
        "* Cada conversión de JPY a USD es JPY / 151,1\n",
        "* Redondea el resultado a dos decimales.\n",
        "* Ejemplos:\n",
        "    1. yen_to_usd(1) ➞ 0.01\n",
        "    2. yen_to_usd(500) ➞ 3.31\n",
        "    3. yen_to_usd(10_000) ➞ 66.18\n",
        "\n",
        "\n"
      ],
      "metadata": {
        "id": "FH4XlC6OWf7c"
      }
    },
    {
      "cell_type": "code",
      "source": [
        "def yen_to_usd(jpn):\n",
        "    pass"
      ],
      "metadata": {
        "id": "3Qmz8HBC2zyg"
      },
      "execution_count": null,
      "outputs": []
    },
    {
      "cell_type": "code",
      "source": [
        "print(yen_to_usd(1))\n",
        "print(yen_to_usd(500))\n",
        "print(yen_to_usd(10_000))"
      ],
      "metadata": {
        "id": "Tjmri6rD2zyg",
        "colab": {
          "base_uri": "https://localhost:8080/"
        },
        "outputId": "e40dda9e-c528-47b1-eea3-fb3c2b384e4d"
      },
      "execution_count": null,
      "outputs": [
        {
          "output_type": "stream",
          "name": "stdout",
          "text": [
            "0.01\n",
            "3.31\n",
            "66.18\n"
          ]
        }
      ]
    },
    {
      "cell_type": "markdown",
      "source": [
        "## Reto 86: Broken Bridge\n",
        "* Cree una función que valide si es seguro caminar sobre un puente (es decir, si no tiene espacios por los que caerse).\n",
        "* Ejemplos:\n",
        "    1. is_safe_bridge(\"####\") ➞ True\n",
        "    2. is_safe_bridge(\"## ####\") ➞ False\n",
        "    3. is_safe_bridge(\"#\") ➞ True\n",
        "    4. is_safe_bridge(\"## ##  ##\")\n",
        "    5. is_safe_bridge(\"\") ➞ True\n",
        "    6. is_safe_bridge(\" ####\") ➞ False"
      ],
      "metadata": {
        "id": "ypJ7z7jGWf-x"
      }
    },
    {
      "cell_type": "code",
      "source": [
        "def is_safe_bridge(txt):\n",
        "    pass"
      ],
      "metadata": {
        "id": "phPva79s2ziE"
      },
      "execution_count": null,
      "outputs": []
    },
    {
      "cell_type": "code",
      "source": [
        "print(is_safe_bridge(\"####\"))\n",
        "print(is_safe_bridge(\"## ####\"))\n",
        "print(is_safe_bridge(\"#\"))\n",
        "print(is_safe_bridge(\"## ##  ##\"))\n",
        "print(is_safe_bridge(\"\"))\n",
        "print(is_safe_bridge(\" ####\"))"
      ],
      "metadata": {
        "id": "lFjp9oD42ziE",
        "colab": {
          "base_uri": "https://localhost:8080/"
        },
        "outputId": "50996e17-c7d5-4fd2-c5ce-06274a690d74"
      },
      "execution_count": null,
      "outputs": [
        {
          "output_type": "stream",
          "name": "stdout",
          "text": [
            "True\n",
            "False\n",
            "True\n",
            "False\n",
            "True\n",
            "False\n"
          ]
        }
      ]
    },
    {
      "cell_type": "markdown",
      "source": [
        "## Reto 87: Recrear la función abs `abs()`\n",
        "* La función `abs()` devuelve el valor absoluto de un número.\n",
        "* Esto significa que devuelve el valor positivo de un número.\n",
        "* Puede pensar en ello como la distancia desde cero.\n",
        "* Cree una función que recree esta funcionalidad.\n",
        "* Ejemplos:\n",
        "    1. absoluto(-5) ➞ 5\n",
        "    2. absoluto(-3.14) ➞ 3.14\n",
        "    3. absoluto(25) ➞ 25\n"
      ],
      "metadata": {
        "id": "Va493IkPWgCd"
      }
    },
    {
      "cell_type": "code",
      "source": [
        "def absoluto(n):\n",
        "    pass"
      ],
      "metadata": {
        "id": "NbvXv6T02zBC"
      },
      "execution_count": null,
      "outputs": []
    },
    {
      "cell_type": "code",
      "source": [
        "print(absoluto(-5))\n",
        "print(absoluto(-3.14))\n",
        "print(absoluto(25))"
      ],
      "metadata": {
        "id": "Hrc1QXOy2zBC",
        "colab": {
          "base_uri": "https://localhost:8080/"
        },
        "outputId": "c816058e-c1d2-4668-c0e6-b6a1b292f641"
      },
      "execution_count": null,
      "outputs": [
        {
          "output_type": "stream",
          "name": "stdout",
          "text": [
            "5\n",
            "3.14\n",
            "25\n"
          ]
        }
      ]
    },
    {
      "cell_type": "markdown",
      "source": [
        "## Reto 88: Diferencia de velocidades\n",
        "* Estamos probando potinetes en tandas de tres, y viendo la velocidad que puede alcanzar cada uno.\n",
        "* Deseamos conocer la diferencia de velocidades entre el más rápido y el más lento.\n",
        "* Ejemplos:\n",
        "    1. diferencia_velocidades(14, 33, 40) ➞ 26\n",
        "    2. diferencia_velocidades(33, 63, 35) ➞ 30\n",
        "    3. diferencia_velocidades(10, 15, 10) ➞ 5\n"
      ],
      "metadata": {
        "id": "-9AOkI9nnvy5"
      }
    },
    {
      "cell_type": "code",
      "source": [
        "def diferencia_velocidades(a, b, c):\n",
        "    pass"
      ],
      "metadata": {
        "id": "NXepDOfC2ylL"
      },
      "execution_count": null,
      "outputs": []
    },
    {
      "cell_type": "code",
      "source": [
        "print(diferencia_velocidades(14, 33, 40))\n",
        "print(diferencia_velocidades(33, 63, 35))\n",
        "print(diferencia_velocidades(10, 15, 10))"
      ],
      "metadata": {
        "colab": {
          "base_uri": "https://localhost:8080/"
        },
        "id": "Qjv7qsaKQ9CZ",
        "outputId": "9fa1c9eb-1f0f-4e36-c36d-d763acd4557c"
      },
      "execution_count": null,
      "outputs": [
        {
          "output_type": "stream",
          "name": "stdout",
          "text": [
            "26\n",
            "30\n",
            "5\n"
          ]
        }
      ]
    },
    {
      "cell_type": "markdown",
      "source": [
        "## Reto 89: Calculadora con operadores\n",
        "* Cree una función que tome dos números y un operador matemático y devuelva el resultado.\n",
        "* Las únicas operaciones utilizadas son las de los ejemplos que se muestran.\n",
        "* Ejemplos:\n",
        "    1. calculate(4, 9, \"+\") ➞ 13\n",
        "    2. calculate(12, 5, \"-\") ➞ 7\n",
        "    3. calculate(6, 3, \"*\") ➞ 18\n",
        "    4. calculate(25, 5, \"//\") ➞ 5\n",
        "    5. calculate(14, 3, \"%\") ➞ 2\n",
        "    6. calculate(7, 2, \"/\") ➞ 3.5\n"
      ],
      "metadata": {
        "id": "uVs2hSEXns-K"
      }
    },
    {
      "cell_type": "code",
      "source": [
        "def calculate(a, b, operacion):\n",
        "    pass"
      ],
      "metadata": {
        "id": "46w4TPyW2yKd"
      },
      "execution_count": null,
      "outputs": []
    },
    {
      "cell_type": "code",
      "source": [
        "print(calculate(4, 9, \"+\"))\n",
        "print(calculate(12, 5, \"-\"))\n",
        "print(calculate(6, 3, \"*\"))\n",
        "print(calculate(25, 5, \"//\"))\n",
        "print(calculate(14, 3, \"%\"))\n",
        "print(calculate(7, 2, \"/\"))"
      ],
      "metadata": {
        "id": "KXB2sLIV2yKd",
        "colab": {
          "base_uri": "https://localhost:8080/"
        },
        "outputId": "d225e991-9458-46cb-b103-9087a2970a30"
      },
      "execution_count": null,
      "outputs": [
        {
          "output_type": "stream",
          "name": "stdout",
          "text": [
            "13\n",
            "7\n",
            "18\n",
            "5\n",
            "2\n",
            "3.5\n"
          ]
        }
      ]
    },
    {
      "cell_type": "markdown",
      "source": [
        "## Reto 90: División entera para acceder a la lista\n",
        "* Realizar la división entera y luego usar ese resultado como índice para acceder a la lista.\n",
        "* Los parámetros de la función son estos y en este orden:\n",
        "    - `valor_en_posicion(lista, division_entera)`\n",
        "* Ejemplos:\n",
        "    1. valor_en_posicion([10, 20, 30, 40, 50], 8 // 2) ➞ 50\n",
        "    2. valor_en_posicion([1, 2, 3, 4, 5, 6], 8.0 // 2) ➞ 5\n",
        "    3. valor_en_posicion([1, 2, 3, 4], 6.5 // 2) ➞ 4\n"
      ],
      "metadata": {
        "id": "jPmaP5SwntHU"
      }
    },
    {
      "cell_type": "code",
      "source": [
        "def valor_en_posicion(lista, division_entera):\n",
        "    pass"
      ],
      "metadata": {
        "id": "W_nYKh1i2xtq"
      },
      "execution_count": null,
      "outputs": []
    },
    {
      "cell_type": "code",
      "source": [
        "print(valor_en_posicion([10, 20, 30, 40, 50], 8 // 2))\n",
        "print(valor_en_posicion([1, 2, 3, 4, 5, 6], 8.0 // 2))\n",
        "print(valor_en_posicion([1, 2, 3, 4], 6.5 // 2))"
      ],
      "metadata": {
        "id": "kzBKzbX42xtq",
        "colab": {
          "base_uri": "https://localhost:8080/"
        },
        "outputId": "1aa200ba-1cc4-4342-8195-913e1d2f59cf"
      },
      "execution_count": null,
      "outputs": [
        {
          "output_type": "stream",
          "name": "stdout",
          "text": [
            "50\n",
            "5\n",
            "4\n"
          ]
        }
      ]
    }
  ]
}