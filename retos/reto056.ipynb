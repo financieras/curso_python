{
  "nbformat": 4,
  "nbformat_minor": 0,
  "metadata": {
    "colab": {
      "provenance": [],
      "authorship_tag": "ABX9TyO9lHJBMotkMXZCnFJxcqdC",
      "include_colab_link": true
    },
    "kernelspec": {
      "name": "python3",
      "display_name": "Python 3"
    },
    "language_info": {
      "name": "python"
    }
  },
  "cells": [
    {
      "cell_type": "markdown",
      "metadata": {
        "id": "view-in-github",
        "colab_type": "text"
      },
      "source": [
        "<a href=\"https://colab.research.google.com/github/financieras/curso_python/blob/main/retos/reto056.ipynb\" target=\"_parent\"><img src=\"https://colab.research.google.com/assets/colab-badge.svg\" alt=\"Open In Colab\"/></a>"
      ]
    },
    {
      "cell_type": "markdown",
      "source": [
        "## Reto 56: Front 3 - Repetir caracteres\n",
        "* Cree una función que reciba una cadena\n",
        "* Diremos que el `inicio` son los primeros tres caracteres de la cadena.\n",
        "* Si la longitud de la cadena es inferior a tres caracteres, el `inicio` es lo que esté allí.\n",
        "* La función retorna una nueva cadena, que son tres copias del `inicio`.\n",
        "* Ejemplos:\n",
        "    1. inicio_tres(\"Python\") ➞ \"PytPytPyt\"\n",
        "    2. inicio_tres(\"Cuchara\") ➞ \"CucCucCuc\"\n",
        "    3. inicio_tres(\"biofrutas\") ➞ \"biobiobio\"\n",
        "    4. inicio_tres(\"Hi\") ➞ \"HiHiHi\"\n"
      ],
      "metadata": {
        "id": "eJnHHpRnz6TI"
      }
    },
    {
      "cell_type": "code",
      "source": [
        "def inicio_tres(cadena):\n",
        "    pass"
      ],
      "metadata": {
        "id": "pInG5Uv414lv"
      },
      "execution_count": null,
      "outputs": []
    },
    {
      "cell_type": "code",
      "source": [
        "print(inicio_tres(\"Python\"))\n",
        "print(inicio_tres(\"Cuchara\"))\n",
        "print(inicio_tres(\"biofrutas\"))\n",
        "print(inicio_tres(\"Hi\"))"
      ],
      "metadata": {
        "id": "ufIGl56f14lv"
      },
      "execution_count": null,
      "outputs": []
    }
  ]
}