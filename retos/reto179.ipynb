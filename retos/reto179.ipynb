{
  "nbformat": 4,
  "nbformat_minor": 0,
  "metadata": {
    "colab": {
      "provenance": [],
      "authorship_tag": "ABX9TyP31U/AbsnxuzD0YhggJjED",
      "include_colab_link": true
    },
    "kernelspec": {
      "name": "python3",
      "display_name": "Python 3"
    },
    "language_info": {
      "name": "python"
    }
  },
  "cells": [
    {
      "cell_type": "markdown",
      "metadata": {
        "id": "view-in-github",
        "colab_type": "text"
      },
      "source": [
        "<a href=\"https://colab.research.google.com/github/financieras/curso_python/blob/main/retos/reto179.ipynb\" target=\"_parent\"><img src=\"https://colab.research.google.com/assets/colab-badge.svg\" alt=\"Open In Colab\"/></a>"
      ]
    },
    {
      "cell_type": "markdown",
      "source": [
        "## Reto 179: Calculando el daño recibido\n",
        "* Cree una función que reciba daño y velocidad (ataques por segundo) y devuelva la cantidad de daño después de un tiempo determinado.\n",
        "* Retorne \"invalid\" si el daño o la velocidad son negativos.\n",
        "* Ejemplos:\n",
        "    1. destruction(40, 5, \"second\") ➞ 200\n",
        "    2. destruction(100, 1, \"minute\") ➞ 6000\n",
        "    3. destruction(2, 100, \"hour\") ➞ 720000\n",
        "    4. destruction(5, -5, \"minute\") ➞ \"invalid\""
      ],
      "metadata": {
        "id": "gwp8-VOHGZpV"
      }
    },
    {
      "cell_type": "code",
      "source": [
        "def destruction(damage, speed, time):\n",
        "    pass"
      ],
      "metadata": {
        "id": "XTBSadeHHXdP"
      },
      "execution_count": null,
      "outputs": []
    },
    {
      "cell_type": "code",
      "source": [
        "print(destruction(40, 5, \"second\"))\n",
        "print(destruction(100, 1, \"minute\"))\n",
        "print(destruction(2, 100, \"hour\"))\n",
        "print(destruction(5, -5, \"minute\"))"
      ],
      "metadata": {
        "id": "YQJPupH6JF_7"
      },
      "execution_count": null,
      "outputs": []
    }
  ]
}