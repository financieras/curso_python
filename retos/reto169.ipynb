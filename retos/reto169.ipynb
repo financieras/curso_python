{
  "nbformat": 4,
  "nbformat_minor": 0,
  "metadata": {
    "colab": {
      "provenance": [],
      "authorship_tag": "ABX9TyPbkjqh5FUBgtBGb0bvy31C",
      "include_colab_link": true
    },
    "kernelspec": {
      "name": "python3",
      "display_name": "Python 3"
    },
    "language_info": {
      "name": "python"
    }
  },
  "cells": [
    {
      "cell_type": "markdown",
      "metadata": {
        "id": "view-in-github",
        "colab_type": "text"
      },
      "source": [
        "<a href=\"https://colab.research.google.com/github/financieras/curso_python/blob/main/retos/reto169.ipynb\" target=\"_parent\"><img src=\"https://colab.research.google.com/assets/colab-badge.svg\" alt=\"Open In Colab\"/></a>"
      ]
    },
    {
      "cell_type": "markdown",
      "source": [
        "## Reto 169: Tiroteo de vaqueros\n",
        "* Wild Roger tiene la tarea de derribar 6 botellas con 6 disparos lo más rápido posible.\n",
        "* Estos son los diferentes tipos de tiros que podría realizar:\n",
        "    - Podría usar una pistola para dispararle a una botella con un \"Bang!\" en 0,5 segundos.\n",
        "    - O podría usar ambas pistolas a la vez con un \"BangBang!\". De esta forma estaría disparano dos botellas en 0,5 segundos.\n",
        "* Dada una lista de Bangs y BangBangs, se devuelve el tiempo (en segundos) que tomó derribar las 6 botellas.\n",
        "* Asegúrate de contar solo Bangs y BangBangs. Cualquier otra cosa no cuenta.\n",
        "* Todas las botellas serán derribadas en todas las pruebas.\n",
        "* Ejemplos:\n",
        "    1. roger_shots([\"Bang!\", \"Bang!\", \"Bang!\", \"Bang!\", \"Bang!\", \"Bang!\"]) ➞ 3\n",
        "    2. roger_shots([\"Bang!\", \"Bang!\", \"Bang!\", \"Bang!\", \"BangBang!\"]) ➞ 2.5\n",
        "    3. roger_shots([\"Bang!\", \"BangBangBang!\", \"Boom!\", \"Bang!\", \"BangBang!\", \"BangBang!\"]) ➞ 2"
      ],
      "metadata": {
        "id": "zDlZHPKJlSfT"
      }
    },
    {
      "cell_type": "code",
      "source": [
        "def roger_shots(lst):\n",
        "    pass"
      ],
      "metadata": {
        "id": "zfb2azlB2B4O"
      },
      "execution_count": null,
      "outputs": []
    },
    {
      "cell_type": "code",
      "source": [
        "print(roger_shots([\"Bang!\", \"Bang!\", \"Bang!\", \"Bang!\", \"Bang!\", \"Bang!\"]))\n",
        "print(roger_shots([\"Bang!\", \"Bang!\", \"Bang!\", \"Bang!\", \"BangBang!\"]))\n",
        "print(roger_shots([\"Bang!\", \"BangBangBang!\", \"Boom!\", \"Bang!\", \"BangBang!\", \"BangBang!\"]))"
      ],
      "metadata": {
        "id": "VGMmNkiV2B4P"
      },
      "execution_count": null,
      "outputs": []
    }
  ]
}