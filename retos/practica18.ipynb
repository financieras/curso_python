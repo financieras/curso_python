{
  "nbformat": 4,
  "nbformat_minor": 0,
  "metadata": {
    "colab": {
      "provenance": [],
      "authorship_tag": "ABX9TyNJ+8z2T4GqTUy5FCZ+YLk0",
      "include_colab_link": true
    },
    "kernelspec": {
      "name": "python3",
      "display_name": "Python 3"
    },
    "language_info": {
      "name": "python"
    }
  },
  "cells": [
    {
      "cell_type": "markdown",
      "metadata": {
        "id": "view-in-github",
        "colab_type": "text"
      },
      "source": [
        "<a href=\"https://colab.research.google.com/github/financieras/curso_python/blob/main/retos/practica18.ipynb\" target=\"_parent\"><img src=\"https://colab.research.google.com/assets/colab-badge.svg\" alt=\"Open In Colab\"/></a>"
      ]
    },
    {
      "cell_type": "markdown",
      "source": [
        "## Reto 171: ¿Cuántos Verdadero hay?\n",
        "* Cree una función que devuelva el número de valores 'True' en una lista.\n",
        "* Ejemplos:\n",
        "    1. count_true([True, False, False, True, False]) ➞ 2\n",
        "    2. count_true([False, False, False, False]) ➞ 0\n",
        "    3. count_true([]) ➞ 0\n",
        "* Devuelve 0 si el argumentos es una lista vacía.\n",
        "* Todos los elementos de la lista son del tipo bool (`True` o `False`)."
      ],
      "metadata": {
        "id": "QDocEv54xl0t"
      }
    },
    {
      "cell_type": "code",
      "source": [
        "def count_true(lista):\n",
        "    pass"
      ],
      "metadata": {
        "id": "FNAPzluG2A2e"
      },
      "execution_count": null,
      "outputs": []
    },
    {
      "cell_type": "code",
      "source": [
        "print(count_true([True, False, False, True, False]))\n",
        "print(count_true([False, False, False, False]))\n",
        "print(count_true([]))"
      ],
      "metadata": {
        "id": "F4Xlg2VI2A2f"
      },
      "execution_count": null,
      "outputs": []
    },
    {
      "cell_type": "markdown",
      "source": [
        "## Reto 172: Buscando un login válido\n",
        "* Un usuario está intentando crear su login en una web juntando su nickname y su edad.\n",
        "* La edad se proporciona como un número entero.\n",
        "* Cree una función que retorne este login y así podrá ayudar a los usuarios sugiriéndoles una alterternativa.\n",
        "* Ejemplos:\n",
        "    1. login_sugerido(\"Anna\", 16) ➞ \"Anna16\"\n",
        "    2. login_sugerido(\"Luis2010\", 17) ➞ \"Luis201017\"\n",
        "    3. login_sugerido(\"mari@\", 18) ➞ \"mari@18\"\n"
      ],
      "metadata": {
        "id": "isZKqb-XSyT6"
      }
    },
    {
      "cell_type": "code",
      "source": [
        "def login_sugerido(nickname, edad):\n",
        "    pass"
      ],
      "metadata": {
        "id": "uJM3j1ef2AVX"
      },
      "execution_count": null,
      "outputs": []
    },
    {
      "cell_type": "code",
      "source": [
        "print(login_sugerido(\"Anna\", 16))\n",
        "print(login_sugerido(\"Luis2010\", 17))\n",
        "print(login_sugerido(\"mari@\", 18))"
      ],
      "metadata": {
        "id": "5GwcIFZB2AVc"
      },
      "execution_count": null,
      "outputs": []
    },
    {
      "cell_type": "markdown",
      "source": [
        "## Reto 173: Recursividad aplicada a repetir un String n veces\n",
        "* Cree una función recursiva que tome dos parámetros y repita la cadena `n` veces.\n",
        "* El primer parámetro es la cadena que se repetirá\n",
        "* El segundo parámetro es el número de veces que se repetirá la cadena.\n",
        "* Ejemplos:\n",
        "    1. repetition(\"ab\", 3) ➞ \"ababab\"\n",
        "    2. repetition(\"kiwi\", 1) ➞ \"kiwi\"\n",
        "    3. repetition(\"Cherry\", 2) ➞ \"CherryCherry\""
      ],
      "metadata": {
        "id": "5vA_iDMVzyLM"
      }
    },
    {
      "cell_type": "code",
      "source": [
        "def repetition(txt, n):\n",
        "    pass"
      ],
      "metadata": {
        "id": "Fwt6_epj5Ydo"
      },
      "execution_count": null,
      "outputs": []
    },
    {
      "cell_type": "code",
      "source": [
        "print(repetition(\"ab\", 3))\n",
        "print(repetition(\"kiwi\", 1))\n",
        "print(repetition(\"Cherry\", 2))"
      ],
      "metadata": {
        "id": "sVvXFcKMWYT5"
      },
      "execution_count": null,
      "outputs": []
    },
    {
      "cell_type": "markdown",
      "source": [
        "## Reto 174: ¿De qué generación eres?\n",
        "* Intente encontrar a sus antepasados ​​y descendencia con código.\n",
        "* Cree una función que tome un número x y un carácter y (\"m\" para hombre, \"f\" para mujer) y devuelva el nombre de un antepasado (m/f) o descendiente (m/f).\n",
        "* Si el número es negativo, devuelve el antepasado relacionado.\n",
        "* Si es positivo, devuelve el descendiente relacionado.\n",
        "* Tu eres la generación 0. En el caso de 0 (masculino o femenino), devuelve \"me!\".\n",
        "* Ejemplos:\n",
        "    1. generation(2, \"f\") ➞ \"granddaughter\"\n",
        "    2. generation(-3, \"m\") ➞ \"great grandfather\"\n",
        "    3. generation(1, \"f\") ➞ \"daughter\"\n",
        "    4. generation(0, \"f\") ➞ \"me!\"\n",
        "    5. generation(3, \"m\") ➞ \"great grandson\"\n",
        "    6. generation(-2, \"f\") ➞ \"grandmother\"\n",
        "    7. generation(-1, \"m\") ➞ \"father\"\n",
        "\n",
        "\n",
        "| Generation | Male              | Female                |\n",
        "|------------|-------------------|-----------------------|\n",
        "| -3         | great grandfather | great grandmother     |\n",
        "| -2         | grandfather       | grandmother           |\n",
        "| -1         | father            | mother                |\n",
        "| 0          | me!               | me!                   |\n",
        "| 1          | son               | daughter              |\n",
        "| 2          | grandson          | granddaughter         |\n",
        "| 3          | great grandson    | great granddaughter   |"
      ],
      "metadata": {
        "id": "0gimJd0SmVw2"
      }
    },
    {
      "cell_type": "code",
      "source": [
        "def generation(nivel, genero):\n",
        "    pass"
      ],
      "metadata": {
        "id": "W9yYA-oE2Wlz"
      },
      "execution_count": null,
      "outputs": []
    },
    {
      "cell_type": "code",
      "source": [
        "print(generation(2, \"f\"))\n",
        "print(generation(-3, \"m\"))\n",
        "print(generation(1, \"f\"))\n",
        "print(generation(0, \"f\"))\n",
        "print(generation(3, \"m\"))\n",
        "print(generation(-2, \"f\"))\n",
        "print(generation(-1, \"m\"))"
      ],
      "metadata": {
        "id": "uOOhPjsl2Wlz"
      },
      "execution_count": null,
      "outputs": []
    },
    {
      "cell_type": "markdown",
      "source": [
        "## Reto 175: Atleta corriendo\n",
        "* Para este desafío no se da enunciado.\n",
        "* Cree una función que responda a los casos de uso con la salida que se indica.\n",
        "* Ejemplos:\n",
        "    1. running_athlete([\"run\", \"jump\", \"run\", \"jump\", \"run\"])) ➞ \"\\_|\\_|\\_\"\n",
        "    2. running_athlete([\"run\", \"jump\", \"run\", \"run\", \"run\"]) ➞ \"\\_|\\_/\\_\"\n",
        "    3. running_athlete([\"jump\", \"jump\", \"jump\", \"jump\", \"jump\"]) ➞ \"x|x|x\"\n",
        "    4. running_athlete([\"run\", \"run\", \"run\", \"run\", \"run\"]) ➞ \"\\_/\\_/\\_\""
      ],
      "metadata": {
        "id": "0L1L3iGfHiuG"
      }
    },
    {
      "cell_type": "code",
      "source": [
        "def running_athlete(acciones):\n",
        "    pass"
      ],
      "metadata": {
        "id": "YkSU0c_uJk-p"
      },
      "execution_count": null,
      "outputs": []
    },
    {
      "cell_type": "code",
      "source": [
        "print(running_athlete([\"run\", \"jump\", \"run\", \"jump\", \"run\"]))\n",
        "print(running_athlete([\"run\", \"jump\", \"run\", \"run\", \"run\"]))\n",
        "print(running_athlete([\"jump\", \"jump\", \"jump\", \"jump\", \"jump\"]))\n",
        "print(running_athlete([\"run\", \"run\", \"run\", \"run\", \"run\"]))"
      ],
      "metadata": {
        "id": "fZ1g0mPtJ3T-"
      },
      "execution_count": null,
      "outputs": []
    },
    {
      "cell_type": "markdown",
      "source": [
        "## Reto 176: Función tartamuda\n",
        "* Escriba una función que tartamudee una palabra como si alguien tuviera dificultades para leerla.\n",
        "* Las dos primeras letras se repiten dos veces con puntos suspensivos `...` y un espacio después de cada una, y luego la palabra se pronuncia con un signo de interrogación `?` al final.\n",
        "* Ejemplos:\n",
        "    1. stutter(\"incredible\") ➞ \"in... in... incredible?\"\n",
        "    2. stutter(\"enthusiastic\") ➞ \"en... en... enthusiastic?\"\n",
        "    3. stutter(\"outstanding\") ➞ \"ou... ou... outstanding?\""
      ],
      "metadata": {
        "id": "6P37uHGLLI1P"
      }
    },
    {
      "cell_type": "code",
      "source": [
        "def stutter(word):\n",
        "    pass"
      ],
      "metadata": {
        "id": "WIx3GdqqL2dv"
      },
      "execution_count": null,
      "outputs": []
    },
    {
      "cell_type": "code",
      "source": [
        "print(stutter(\"incredible\"))\n",
        "print(stutter(\"enthusiastic\"))\n",
        "print(stutter(\"outstanding\"))"
      ],
      "metadata": {
        "id": "87gQLggmMANy"
      },
      "execution_count": null,
      "outputs": []
    },
    {
      "cell_type": "markdown",
      "source": [
        "## Reto 177: Luke, I Am Your ...\n",
        "* Luke Skywalker tiene familiares y amigos.\n",
        "* Ayúdalo a recordarles quién es quién.\n",
        "* Dada una cadena con un nombre, devuelve la relación de esa persona con Luke.\n",
        "\n",
        "| Person      | Relation       |\n",
        "|-------------|----------------|\n",
        "| Darth Vader | father         |\n",
        "| Leia        | sister         |\n",
        "| Han         | brother in law |\n",
        "| R2D2        | droid          |\n",
        "\n",
        "* Tip: Podría ser una buena idea crear un diccionario.\n",
        "* Ejemplos:\n",
        "    1. relation_to_luke(\"Darth Vader\") ➞ \"Luke, I am your father.\"\n",
        "    2. relation_to_luke(\"Leia\") ➞ \"Luke, I am your sister.\"\n",
        "    3. relation_to_luke(\"Han\") ➞ \"Luke, I am your brother in law.\"\n",
        "    4. relation_to_luke(\"R2D2\") ➞ \"Luke, I am your droid.\""
      ],
      "metadata": {
        "id": "SjwA439mQ0E9"
      }
    },
    {
      "cell_type": "code",
      "source": [
        "def relation_to_luke(name):\n",
        "    pass"
      ],
      "metadata": {
        "id": "bM60G_PHSBnP"
      },
      "execution_count": null,
      "outputs": []
    },
    {
      "cell_type": "code",
      "source": [
        "print(relation_to_luke(\"Darth Vader\"))\n",
        "print(relation_to_luke(\"Leia\"))\n",
        "print(relation_to_luke(\"Han\"))\n",
        "print(relation_to_luke(\"R2D2\"))"
      ],
      "metadata": {
        "id": "VnLjkXZTS_Uc"
      },
      "execution_count": null,
      "outputs": []
    },
    {
      "cell_type": "markdown",
      "source": [
        "## Reto 178: Par o impar: ¿cuál es mayor?\n",
        "* Cree una función que reciba una cadena de números y devuelva el resultado de calcular la suma de todos los dígitos pares individuales y la suma de todos los dígitos impares individuales.\n",
        "* Lo que se retorna es una tupla con la suma de los pares y la suma de los impares, en este orden: `(par, impar)`.\n",
        "    - número par = even number\n",
        "    - número impar = odd number\n",
        "* Ejemplos:\n",
        "    1. even_or_odd(\"22471\") ➞ (8,8)\n",
        "    2. even_or_odd(\"213613\") ➞ (8,8)\n",
        "    3. even_or_odd(\"23456\") ➞ (12,8)"
      ],
      "metadata": {
        "id": "uj74HJIndSu4"
      }
    },
    {
      "cell_type": "code",
      "source": [
        "def odd_and_even(cadena):\n",
        "    pass"
      ],
      "metadata": {
        "id": "fGVKVZBAef2h"
      },
      "execution_count": null,
      "outputs": []
    },
    {
      "cell_type": "code",
      "source": [
        "print(odd_and_even(\"22471\"))\n",
        "print(odd_and_even(\"213613\"))\n",
        "print(odd_and_even(\"23456\"))\n",
        "print(odd_and_even(\"23574\"))"
      ],
      "metadata": {
        "id": "DkBWAF8feom2"
      },
      "execution_count": null,
      "outputs": []
    },
    {
      "cell_type": "markdown",
      "source": [
        "## Reto 179: Calculando el daño recibido\n",
        "* Cree una función que reciba daño y velocidad (ataques por segundo) y devuelva la cantidad de daño después de un tiempo determinado.\n",
        "* Retorne \"invalid\" si el daño o la velocidad son negativos.\n",
        "* Ejemplos:\n",
        "    1. destruction(40, 5, \"second\") ➞ 200\n",
        "    2. destruction(100, 1, \"minute\") ➞ 6000\n",
        "    3. destruction(2, 100, \"hour\") ➞ 720000\n",
        "    4. destruction(5, -5, \"minute\") ➞ \"invalid\""
      ],
      "metadata": {
        "id": "gwp8-VOHGZpV"
      }
    },
    {
      "cell_type": "code",
      "source": [
        "def destruction(damage, speed, time):\n",
        "    pass"
      ],
      "metadata": {
        "id": "XTBSadeHHXdP"
      },
      "execution_count": null,
      "outputs": []
    },
    {
      "cell_type": "code",
      "source": [
        "print(destruction(40, 5, \"second\"))\n",
        "print(destruction(100, 1, \"minute\"))\n",
        "print(destruction(2, 100, \"hour\"))\n",
        "print(destruction(5, -5, \"minute\"))"
      ],
      "metadata": {
        "id": "YQJPupH6JF_7"
      },
      "execution_count": null,
      "outputs": []
    },
    {
      "cell_type": "markdown",
      "source": [
        "## Reto 180: Vamos a ordenar esta lista\n",
        "* Cree una función que tome una lista de números primero, una cadena s y devuelva una lista de números según las siguientes reglas:\n",
        "    1. \"Asc\" devuelve una lista ordenada en orden ascendente.\n",
        "    2. \"Des\" devuelve una lista ordenada en orden descendente.\n",
        "    3. \"None\" devuelve una lista sin ninguna modificación.\n",
        "* Ejemplos:\n",
        "    1. asc_des_none([4, 3, 2, 1], \"Asc\") ➞ [1, 2, 3, 4]\n",
        "    2. asc_des_none([7, 8, 11, 66], \"Des\") ➞ [66, 11, 8, 7]\n",
        "    3. asc_des_none([4, 3, 5, 2, 1], \"None\") ➞ [4, 3, 5, 2, 1]"
      ],
      "metadata": {
        "id": "uTvGD3bl3Py2"
      }
    },
    {
      "cell_type": "code",
      "source": [
        "def asc_des_none(lista, tipo):\n",
        "    pass"
      ],
      "metadata": {
        "id": "0i1WMmMl4X77"
      },
      "execution_count": null,
      "outputs": []
    },
    {
      "cell_type": "code",
      "source": [
        "print(asc_des_none([4, 3, 2, 1], \"Asc\"))\n",
        "print(asc_des_none([7, 8, 11, 66], \"Des\"))\n",
        "print(asc_des_none([4, 3, 5, 2, 1], \"None\"))"
      ],
      "metadata": {
        "id": "E9BlJpQe4jTc"
      },
      "execution_count": null,
      "outputs": []
    }
  ]
}