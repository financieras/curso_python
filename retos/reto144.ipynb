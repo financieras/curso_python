{
  "nbformat": 4,
  "nbformat_minor": 0,
  "metadata": {
    "colab": {
      "provenance": [],
      "authorship_tag": "ABX9TyO95d5V+/bcPts2taC8rw0i",
      "include_colab_link": true
    },
    "kernelspec": {
      "name": "python3",
      "display_name": "Python 3"
    },
    "language_info": {
      "name": "python"
    }
  },
  "cells": [
    {
      "cell_type": "markdown",
      "metadata": {
        "id": "view-in-github",
        "colab_type": "text"
      },
      "source": [
        "<a href=\"https://colab.research.google.com/github/financieras/curso_python/blob/main/retos/reto144.ipynb\" target=\"_parent\"><img src=\"https://colab.research.google.com/assets/colab-badge.svg\" alt=\"Open In Colab\"/></a>"
      ]
    },
    {
      "cell_type": "markdown",
      "source": [
        "## Reto 144: Ordenar números en orden ascendente\n",
        "* Cree una función que tome una lista de números y devuelva una nueva lista, ordenada en orden ascendente (de menor a mayor).\n",
        "* Si el argumento de la función es `None` o una lista vacía, devuelve una lista vacía.\n",
        "* Ejemplos:\n",
        "    1. sort_nums_ascending([]) ➞ []\n",
        "    2. sort_nums_ascending([1, 2, 10, 50, 5]) ➞ [1, 2, 5, 10, 50]\n",
        "    3. sort_nums_ascending([80, 29, 4, -95, -24, 85]) ➞ [-95, -24, 4, 29, 80, 85]"
      ],
      "metadata": {
        "id": "sIQRdBtMmWG-"
      }
    },
    {
      "cell_type": "code",
      "source": [
        "def sort_nums_ascending(lista):\n",
        "    pass"
      ],
      "metadata": {
        "id": "WrpEZw_E2UC4"
      },
      "execution_count": null,
      "outputs": []
    },
    {
      "cell_type": "code",
      "source": [
        "print(sort_nums_ascending([]))\n",
        "print(sort_nums_ascending([1, 2, 10, 50, 5]))\n",
        "print(sort_nums_ascending([80, 29, 4, -95, -24, 85]))"
      ],
      "metadata": {
        "id": "PCaq_n8R2UC4"
      },
      "execution_count": null,
      "outputs": []
    }
  ]
}