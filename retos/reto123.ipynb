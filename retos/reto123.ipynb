{
  "nbformat": 4,
  "nbformat_minor": 0,
  "metadata": {
    "colab": {
      "provenance": [],
      "authorship_tag": "ABX9TyM92j+xydnHm9yldK47fX6p",
      "include_colab_link": true
    },
    "kernelspec": {
      "name": "python3",
      "display_name": "Python 3"
    },
    "language_info": {
      "name": "python"
    }
  },
  "cells": [
    {
      "cell_type": "markdown",
      "metadata": {
        "id": "view-in-github",
        "colab_type": "text"
      },
      "source": [
        "<a href=\"https://colab.research.google.com/github/financieras/curso_python/blob/main/retos/reto123.ipynb\" target=\"_parent\"><img src=\"https://colab.research.google.com/assets/colab-badge.svg\" alt=\"Open In Colab\"/></a>"
      ]
    },
    {
      "cell_type": "markdown",
      "source": [
        "## Reto 123: Case Insensitive Comparison\n",
        "* Comparación que no distingue entre mayúsculas y minúsculas\n",
        "* Escribe una función que valide si dos cadenas son idénticas.\n",
        "* Hágalo sin distinguir entre mayúsculas y minúsculas.\n",
        "* Ejemplos:\n",
        "    1. match(\"hello\", \"hELLo\") ➞ True\n",
        "    2. match(\"motivo\", \"emotivo\") ➞ False\n",
        "    3. match(\"master\", \"Master\") ➞ True\n",
        "    4. match(\"New York\", \"NewYork\") ➞ False"
      ],
      "metadata": {
        "id": "gt5ZkXFRmGeN"
      }
    },
    {
      "cell_type": "code",
      "source": [
        "def match(a, b):\n",
        "    pass"
      ],
      "metadata": {
        "id": "-xvczj7d2fGw"
      },
      "execution_count": null,
      "outputs": []
    },
    {
      "cell_type": "code",
      "source": [
        "print(match(\"hello\", \"hELLo\"))\n",
        "print(match(\"motivo\", \"emotivo\"))\n",
        "print(match(\"master\", \"Master\"))\n",
        "print(match(\"New York\", \"NewYork\"))"
      ],
      "metadata": {
        "id": "lCFB8JnK2fGw"
      },
      "execution_count": null,
      "outputs": []
    }
  ]
}