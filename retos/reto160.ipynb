{
  "nbformat": 4,
  "nbformat_minor": 0,
  "metadata": {
    "colab": {
      "provenance": [],
      "authorship_tag": "ABX9TyPD9V6cnq+kX5VUgeFeAm/C",
      "include_colab_link": true
    },
    "kernelspec": {
      "name": "python3",
      "display_name": "Python 3"
    },
    "language_info": {
      "name": "python"
    }
  },
  "cells": [
    {
      "cell_type": "markdown",
      "metadata": {
        "id": "view-in-github",
        "colab_type": "text"
      },
      "source": [
        "<a href=\"https://colab.research.google.com/github/financieras/curso_python/blob/main/retos/reto160.ipynb\" target=\"_parent\"><img src=\"https://colab.research.google.com/assets/colab-badge.svg\" alt=\"Open In Colab\"/></a>"
      ]
    },
    {
      "cell_type": "markdown",
      "source": [
        "## Reto 160: Suma de cubos\n",
        "* Cree una función que tome un número entero positivo `n` y devuelva la suma de todos los valores al cubo de 1 a `n`.\n",
        "* Por ejemplo, si `n` es 3:  \n",
        "$1^3 + 2^3 + 3^3 = 36$\n",
        "* Ejemplos:\n",
        "    1. sum_cubes(3) ➞ 36\n",
        "    2. sum_cubes(7) ➞ 784\n",
        "    3. sum_cubes(8) ➞ 1296\n",
        "    4. sum_cubes(9) ➞ 2025"
      ],
      "metadata": {
        "id": "7152ZdXMmXnm"
      }
    },
    {
      "cell_type": "code",
      "source": [
        "def sum_cubes(n):\n",
        "    pass"
      ],
      "metadata": {
        "id": "oBgpIIFg2G_S"
      },
      "execution_count": null,
      "outputs": []
    },
    {
      "cell_type": "code",
      "source": [
        "print(sum_cubes(3))\n",
        "print(sum_cubes(7))\n",
        "print(sum_cubes(8))\n",
        "print(sum_cubes(9))"
      ],
      "metadata": {
        "id": "P4M1pgCL2G_T"
      },
      "execution_count": null,
      "outputs": []
    }
  ]
}