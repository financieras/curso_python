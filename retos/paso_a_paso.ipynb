{
  "nbformat": 4,
  "nbformat_minor": 0,
  "metadata": {
    "colab": {
      "provenance": [],
      "authorship_tag": "ABX9TyOcxGsq+pQCn6GbRtcL+Jnw",
      "include_colab_link": true
    },
    "kernelspec": {
      "name": "python3",
      "display_name": "Python 3"
    },
    "language_info": {
      "name": "python"
    }
  },
  "cells": [
    {
      "cell_type": "markdown",
      "metadata": {
        "id": "view-in-github",
        "colab_type": "text"
      },
      "source": [
        "<a href=\"https://colab.research.google.com/github/financieras/curso_python/blob/main/retos/paso_a_paso.ipynb\" target=\"_parent\"><img src=\"https://colab.research.google.com/assets/colab-badge.svg\" alt=\"Open In Colab\"/></a>"
      ]
    },
    {
      "cell_type": "markdown",
      "source": [
        "## Reto 1: Return the Sum of Two Numbers\n",
        "* Crea una función que tome dos números como argumentos y devuelva su suma.\n",
        "    1. sumar(3, 2) ➞ 5\n",
        "    1. sumar(-3, -6) ➞ -9\n",
        "    1. sumar(7, 3) ➞ 10"
      ],
      "metadata": {
        "id": "c1sQ-fIGDDs5"
      }
    },
    {
      "cell_type": "markdown",
      "source": [
        "## Reto 2: Convert Minutes into Seconds\n",
        "* Escribe una función que tome un número entero de `minutos` y lo convierta a segundos.\n",
        "    1. minutos_a_segundos(5) ➞ 300\n",
        "    1. minutos_a_segundos(3) ➞ 180\n",
        "    1. minutos_a_segundos(2) ➞ 120"
      ],
      "metadata": {
        "id": "hOLv-TIRDf6j"
      }
    },
    {
      "cell_type": "markdown",
      "source": [
        "## Reto 3: Return the Next Number from the Integer Passed\n",
        "* Cree una función que tome un número como argumento, incremente el número en +1 y devuelva el resultado.\n",
        "    1. suma_uno(0) ➞ 1\n",
        "    1. suma_uno(9) ➞ 10\n",
        "    1. suma_uno(-3) ➞ -2"
      ],
      "metadata": {
        "id": "WTawBnD9EVuF"
      }
    },
    {
      "cell_type": "markdown",
      "source": [
        "## Reto 4: Area of a Triangle\n",
        "* Escribe una función que tome la `base` y la `altura` de un triángulo y devuelva su área.\n",
        "    1. area_triangulo(3, 2) ➞ 3\n",
        "    1. area_triangulo(7, 4) ➞ 14\n",
        "    1. area_triangulo(10, 10) ➞ 50"
      ],
      "metadata": {
        "id": "bfTd-0bmFSBp"
      }
    },
    {
      "cell_type": "markdown",
      "source": [
        "## Reto 5: Return the First Element in an Array\n",
        "* Cree una función que reciba una lista y devuelva el primer elemento.\n",
        "    1. obtener_primer_valor(['a', 'e', 'i', 'o', 'u']) ➞ 'a'\n",
        "    1. obtener_primer_valor([80, 5, 100]) ➞ 80\n",
        "    1. obtener_primer_valor([-500, 0, 50]) ➞ -500"
      ],
      "metadata": {
        "id": "WJ_mA4xsGA-a"
      }
    },
    {
      "cell_type": "markdown",
      "source": [
        "## Reto 6: Power Calculator\n",
        "* Cree una función que tome `voltaje` y la `intensidad` de corriente y devuelva la `potencia` calculada.\n",
        "    1. potencia(230, 10) ➞ 2300\n",
        "    1. potencia(110, 3) ➞ 330\n",
        "    1. potencia(480, 20) ➞ 9600"
      ],
      "metadata": {
        "id": "lIodMfnfGeCi"
      }
    },
    {
      "cell_type": "markdown",
      "source": [
        "## Reto 7: Convert Hours into Seconds\n",
        "* Escribe una función que convierta `horas` en segundos.\n",
        "    1. horas_a_segundos(2) ➞ 7200\n",
        "    1. horas_a_segundos(10) ➞ 36000\n",
        "    1. horas_a_segundos(24) ➞ 86400"
      ],
      "metadata": {
        "id": "Npptws5vGczF"
      }
    },
    {
      "cell_type": "markdown",
      "source": [
        "## Reto 8: Return the Remainder from Two Numbers\n",
        "* Crea una función que reciba como parámetros el `numerador` y el `denominador` de una división y retorne el resto también llamado resíduo o módulo.\n",
        "    1. mod(24, 5) ➞ 4\n",
        "    1. mod(50, 10) ➞ 0\n",
        "    1. mod(3, 4) ➞ 3"
      ],
      "metadata": {
        "id": "huBmVKl0Gc8j"
      }
    },
    {
      "cell_type": "markdown",
      "source": [
        "## Reto 9: Return a String as an Integer\n",
        "* Cree una función que tome una cadena y la devuelva como un número entero.\n",
        "    1. string_to_int(\"6\") ➞ 6\n",
        "    2. string_to_int(\"1000\") ➞ 1000\n",
        "    3. string_to_int(\"12\") ➞ 12"
      ],
      "metadata": {
        "id": "qVN8HUR1aBF7"
      }
    },
    {
      "cell_type": "markdown",
      "source": [
        "## Reto 10: Find the Perimeter of a Rectangle\n",
        "* Crea una función que tome el `largo` y el `ancho` de un rectángulo y retorne su perímetro.\n",
        "    1. perimetro(6, 7) ➞ 26\n",
        "    1. perimetro(20, 10) ➞ 60\n",
        "    1. perimetro(2, 9) ➞ 22"
      ],
      "metadata": {
        "id": "SGsmTdRwGdET"
      }
    },
    {
      "cell_type": "markdown",
      "source": [
        "## Reto 11: Return Something to Me!\n",
        "* Escribe una función que devuelva la cadena \"Mi\" unida con un espacio \" \" y el argumento dado.\n",
        "    1. algo_mio(\"coche\") ➞ \"Mi coche\"\n",
        "    1. algo_mio(\"verano mágico\") ➞ \"Mi verano mágico\"\n",
        "    1. algo_mio(\"Mi\") ➞ \"Mi Mi\""
      ],
      "metadata": {
        "id": "h_tb0PLbGdLr"
      }
    },
    {
      "cell_type": "markdown",
      "source": [
        "## Reto 12: Is the Number Less than or Equal to Zero?\n",
        "* Cree una función que tome un número como único argumento y devuelva verdadero si es menor o igual a cero; de lo contrario, devuelva falso.\n",
        "    1. menor_o_igual_a_cero(5) ➞ False\n",
        "    1. menor_o_igual_a_cero(0) ➞ True\n",
        "    1. menor_o_igual_a_cero(-2) ➞ True"
      ],
      "metadata": {
        "id": "rmZs31j9GdRp"
      }
    },
    {
      "cell_type": "markdown",
      "source": [
        "## Reto 13: Name Greeting!\n",
        "* Cree una función que tome un nombre y devuelva un saludo en forma de cadena.\n",
        "    1. hello_name(\"Gerardo\") ➞ \"Hola Gerardo!\"\n",
        "    2. hello_name(\"Teresa\") ➞ \"Hola Teresa!\"\n",
        "    3. hello_name(\"Edu\") ➞ \"Hola Edu!\"\n",
        "* ¡No olvides el signo de exclamación!"
      ],
      "metadata": {
        "id": "s46QzxEwsteU"
      }
    },
    {
      "cell_type": "markdown",
      "source": [
        "## Reto 14: Buggy Code (Part 4)\n",
        "* Yvonne ha escrito una función que devuelve un saludo a sus amigos.\n",
        "* Pero tiene un amigo especial, Ares, al que quiere saludar de una forma diferente.\n",
        "* Añadió un caso especial en su función, pero cometió un error.\n",
        "* ¿Puedes intentar solucionar el error para que la función trabaje correctamente?\n",
        "    1. greeting(\"Matt\") ➞ \"Hello, Matt!\"\n",
        "    2. greeting(\"Helen\") ➞ \"Hello, Helen!\"\n",
        "    3. greeting(\"Ares\") ➞ \"Hello, my Love!\"\n",
        "* Esta es la función que da problemas:\n",
        "\n",
        "<pre>\n",
        "def greeting(name):\n",
        "\treturn \"Hello, \" + name + \"!\"\n",
        "\tif name == \"Ares\":\n",
        "\t\treturn \"Hello, my Love!\"\n",
        "</pre>"
      ],
      "metadata": {
        "id": "1pzgsdSjomf9"
      }
    },
    {
      "cell_type": "markdown",
      "source": [
        "## Reto 15: Sum of Polygon Angles\n",
        "* Dado un polígono regular de `n` lados, devuelve la suma total de los ángulos internos (en grados).\n",
        "    1. grados_poligono(3) ➞ 180\n",
        "    2. grados_poligono(4) ➞ 360\n",
        "    3. grados_poligono(6) ➞ 720\n",
        "* `n` siempre será mayor que 2\n",
        "* La fórmula `(n - 2) × 180` da la suma de los ángulos de un polígono de `n` lados."
      ],
      "metadata": {
        "id": "5A-5eV-vGdWk"
      }
    },
    {
      "cell_type": "markdown",
      "source": [
        "## Reto 16: To the Power of _____\n",
        "* Cree una función que tome un número base y un número exponente y devuelva el cálculo.\n",
        "    1. calcular_potencias(5, 3) ➞ 125\n",
        "    2. calcular_potencias(10, 4) ➞ 10000\n",
        "    3. calcular_potencias(3, 3) ➞ 27"
      ],
      "metadata": {
        "id": "dQhx7Ytkbhd1"
      }
    },
    {
      "cell_type": "markdown",
      "source": [
        "## Reto 17: Boolean to String Conversion\n",
        "* Cree una función que tome una bandera booleana y lo devuelva como una cadena.\n",
        "    1. bool_to_string(True) ➞ \"True\"\n",
        "    2. bool_to_string(False) ➞ \"False\"\n",
        "* La función puede comenzar así:\n",
        "\n",
        "<pre>\n",
        "def bool_to_string(flag):\n",
        "</pre>"
      ],
      "metadata": {
        "id": "znXBQ4UOcUp_"
      }
    },
    {
      "cell_type": "markdown",
      "source": [
        "## Reto 18: Basketball Points\n",
        "* Estás contando puntos para un partido de baloncesto, dada la cantidad de tiros de 2 y 3 puntos anotados.\n",
        "* Encuentra los puntos finales para el equipo y devuelve ese valor.\n",
        "    1. puntos(1, 1) ➞ 5\n",
        "    2. puntos(7, 5) ➞ 29\n",
        "    3. puntos(38, 8) ➞ 100"
      ],
      "metadata": {
        "id": "6kkb_cIDSuql"
      }
    },
    {
      "cell_type": "markdown",
      "source": [
        "## Reto 19: Less Than 100?\n",
        "* Dados dos números, devuelve verdadero si la suma de ambos números es menor que 100.\n",
        "* De lo contrario, devuelve falso.\n",
        "    1. menor_que_cien(22, 15) ➞ True\n",
        "    2. menor_que_cien(93, 34) ➞ False\n",
        "    3. menor_que_cien(3, 17) ➞ True"
      ],
      "metadata": {
        "id": "wkinIHpfSybR"
      }
    },
    {
      "cell_type": "markdown",
      "source": [
        "## Reto 20: Find the Largest Number in a List\n",
        "* Crea una función que tome una lista de números enteros no negativos.\n",
        "* Retorna el número más grande de la lista.\n",
        "    1. findLargestNum([4, 5, 1, 3]) ➞ 5\n",
        "    2. findLargestNum([300, 200, 600, 150]) ➞ 600\n",
        "    3. findLargestNum([1000, 1001, 857, 1]) ➞ 1001"
      ],
      "metadata": {
        "id": "xgBq9J3vw8X2"
      }
    },
    {
      "cell_type": "markdown",
      "source": [
        "## Reto 21: Find the Smallest Number in a List\n",
        "* Cree una función que tome una lista de números y devuelva el número más pequeño de la lista.\n",
        "* Los números pueden contener decimales y ser negativos.\n",
        "    1. find_smallest_num([34, 15, 88, 2]) ➞ 2\n",
        "    2. find_smallest_num([34, -345, -1, 100]) ➞ -345\n",
        "    3. find_smallest_num([-76, 1.345, 1, 0]) ➞ -76\n",
        "    4. find_smallest_num([0.4356, 0.8795, 0.5435, -0.9999]) ➞ -0.9999\n",
        "    5. find_smallest_num([7, 7, 7]) ➞ 7"
      ],
      "metadata": {
        "id": "kttACsV1x3q6"
      }
    },
    {
      "cell_type": "markdown",
      "source": [
        "## Reto 22: Difference of Max and Min Numbers in List\n",
        "* Diferencia de números máximos y mínimos en la lista\n",
        "    1. difference_max_min([10, 4, 1, 4, -10, -50, 32, 21]) ➞ 82  \n",
        "    \\# El número más pequeño es -50 y el mayor 32.\n",
        "\n",
        "    2. difference_max_min([44, 32, 86, 19]) ➞ 67  \n",
        "    \\# El número más pequeño es 19 y el más grande 86."
      ],
      "metadata": {
        "id": "jdFINvlIpjy_"
      }
    },
    {
      "cell_type": "markdown",
      "source": [
        "## Reto 23: Concatenating Two Integer Lists\n",
        "* Cree una función para concatenar dos listas de enteros.\n",
        "    1. concat([1, 3, 5], [2, 6, 8]) ➞ [1, 3, 5, 2, 6, 8]\n",
        "    2. concat([7, 8], [10, 9, 1, 1, 2]) ➞ [7, 8, 10, 9, 1, 1, 2]\n",
        "    3. concat([4, 5, 1], [3, 3, 3, 3, 3]) ➞ [4, 5, 1, 3, 3, 3, 3, 3]"
      ],
      "metadata": {
        "id": "YIrcaGQPq1al"
      }
    },
    {
      "cell_type": "markdown",
      "source": [
        "## Reto 24: Return the Last Element in a List\n",
        "* Cree una función que acepte una lista y devuelva el último elemento de la lista.\n",
        "* La lista puede contener diferentes tipos de datos.\n",
        "    1. get_last_item([1, 2, 3]) ➞ 3\n",
        "    2. get_last_item([\"cat\", \"dog\", \"duck\"]) ➞ \"duck\"\n",
        "    3. get_last_item([True, False, True]) ➞ True\n",
        "    4. get_last_item([7, \"String\", False]) ➞ False"
      ],
      "metadata": {
        "id": "uoA-bb5ErWmh"
      }
    },
    {
      "cell_type": "markdown",
      "source": [
        "## Reto 25: Buggy Code (Part 5)\n",
        "* ¡Jorge creó un bucle infinito!\n",
        "* Ayúdale arreglando el código para que los ejemplos siguientes trabajen correctamente.\n",
        "    1. generar_array(1) ➞ [1]\n",
        "    2. generar_array(3) ➞ [1, 2, 3]\n",
        "    3. generar_array(6) ➞ [1, 2, 3, 4, 5, 6]\n",
        "\n",
        "* Este es el código que no funciona bien:\n",
        "\n",
        "<pre>\n",
        "def generar_array(number):\n",
        "    numeros = []\n",
        "    i = 0\n",
        "    while i <= n:\n",
        "        numeros.append(i)\n",
        "    return numeros\n",
        "\n",
        "generar_array(1)\n",
        "generar_array(3)\n",
        "generar_array(6)\n",
        "</pre>"
      ],
      "metadata": {
        "id": "vto4bc1xSygj"
      }
    },
    {
      "cell_type": "markdown",
      "source": [
        "## Reto 26: Buggy Code (Part 7)\n",
        "* ¡Lucía quiere intercambiar dos números dados!\n",
        "* La función no está devolviendo los valores correctos.\n",
        "* ¿Puedes ayudarla solucionando los bugs?\n",
        "* Los valores retornados correctos deberían ser estos:\n",
        "    1. swap(100, 200) ➞ [200, 100]\n",
        "    2. swap(44, 33) ➞ [33, 44]\n",
        "    3. swap(0, -1) ➞ [-1, 0]\n",
        "\n",
        "* Este es el código que no está funcionando correctamente:\n",
        "\n",
        "<pre>\n",
        "del swap(a, b)\n",
        "\tb = a\n",
        "\ta = b\n",
        "\treturn [a, b]\n",
        "\n",
        "a = 100\n",
        "b = 200\n",
        "print(swap(a, b))\n",
        "\n",
        "a, b = 33, 44\n",
        "print(swap(a, b))\n",
        "\n",
        "print(swap(0, -1))\n",
        "</pre>"
      ],
      "metadata": {
        "id": "Q4BQ1xfASykd"
      }
    },
    {
      "cell_type": "markdown",
      "source": [
        "## Reto 27: The Farm Problem\n",
        "* Un granjero te pide que le digas cuántas patas pueden contar entre todos sus animales.\n",
        "* El granjero cría tres especies: gallinas, vacas y cerdos.\n",
        "* El orden de los animales pasados ​​es animales (gallinas, vacas, cerdos).\n",
        "* Recuerde que el granjero quiere saber el número total de patas y no el número total de animales.\n",
        "    1. patas(2, 3, 5) ➞ 36\n",
        "    2. patas(1, 2, 3) ➞ 22\n",
        "    3. patas(5, 2, 8) ➞ 50"
      ],
      "metadata": {
        "id": "TWj9zKymSynK"
      }
    },
    {
      "cell_type": "markdown",
      "source": [
        "## Reto 28: Using the \"&&\" Operator\n",
        "* Python tiene el operador lógico `and`.\n",
        "* El operador `and` toma dos valores booleanos y devuelve verdadero si ambos valores son verdaderos.\n",
        "* Devuelve falso en cualquier otro caso.\n",
        "    1. funcion_and(True, True) ➞ True\n",
        "    2. funcion_and(True, False) ➞ False\n",
        "    3. funcion_and(False, False) ➞ False\n",
        "    4. funcion_and(False, False) ➞ False"
      ],
      "metadata": {
        "id": "1wnjDFgHSywE"
      }
    },
    {
      "cell_type": "markdown",
      "source": [
        "## Reto 29: Are the Numbers Equal?\n",
        "* Cree una función que devuelva verdadero cuando num1 sea igual a num2\n",
        "* En caso contrario, devuelve falso.\n",
        "    1. son_iguales(4, -4) ➞ False\n",
        "    2. son_iguales(3, 4) ➞ True\n",
        "    3. son_iguales(1, \"1\") ➞ False"
      ],
      "metadata": {
        "id": "55Q2ecLJSyz4"
      }
    },
    {
      "cell_type": "markdown",
      "source": [
        "## Reto 30: Football Points\n",
        "* En cierto juego de mesa cada ronda recibe unos puntos según este criterio:\n",
        "    - Las victorias dan 3 puntos\n",
        "    - Los empates dan 1 punto\n",
        "    - Las derrotas dan 0 puntos\n",
        "* Crear una función que de los puntos obtenidos según el número de victorias, empates y derrotas obtenidas.\n",
        "     1. puntos_obtenidos(3, 4, 2) ➞ 13\n",
        "     2. puntos_obtenidos(5, 0, 2) ➞ 15\n",
        "     3. puntos_obtenidos(0, 0, 1) ➞ 0\n",
        "* El orden de los argumentos ha de ser:\n",
        "    - `puntos_obtenidos(victorias, empates, derrotas)`\n",
        "* Los argumentos de la función serán siempre números enteros mayores o iguales a 0."
      ],
      "metadata": {
        "id": "ndW_fwNOSy7W"
      }
    },
    {
      "cell_type": "markdown",
      "source": [
        "## Reto 31: Convert Hours and Minutes into Seconds\n",
        "* Escribe una función que tome dos números enteros (horas, minutos) y devuelva el número de segundos contenidos en ese tiempo.\n",
        "    1. convert_a_segundos(1, 3) ➞ 3780\n",
        "    2. convert_a_segundos(2, 0) ➞ 7200\n",
        "    3. convert_a_segundos(0, 0) ➞ 0\n"
      ],
      "metadata": {
        "id": "lZj9FWGlykGc"
      }
    },
    {
      "cell_type": "markdown",
      "source": [
        "## Reto 32: Burglary Series (14): Adjectives Total\n",
        "* Vamos a una escuela infantil y preguntamos a varios niños por los colores que conocen en otros idiomas.\n",
        "* Cada respuesta la anotamos en un **diccionario** de Python.\n",
        "* Crear una función que retorne el número de respuestas contenidas en cada diccionario.\n",
        "    1. cantidad_colores({'rojo': 'red', 'azul': 'blue', 'amarillo': 'yellow', 'rosa': 'pink'}) ➞ 4\n",
        "    2. cantidad_colores({'azul': 'blue', 'rojo': 'red', 'negro': 'black'}) ➞ 3\n",
        "    3. cantidad_colores({'blanco': 'bianco', 'negro': 'nero', 'rojo': 'rosso'}) ➞ 3"
      ],
      "metadata": {
        "id": "EcMXJoZge1H6"
      }
    },
    {
      "cell_type": "markdown",
      "source": [
        "## Reto 33: String to Integer and Vice Versa\n",
        "* Escribe dos funciones:\n",
        "    - `to_int()`: una función para convertir una cadena en un número entero.\n",
        "    - `to_str()`: una función para convertir un número entero en una cadena.\n",
        "    1. to_int(\"77\") ➞ 77\n",
        "    2. to_int(\"532\") ➞ 532\n",
        "    3. to_str(77) ➞ \"77\"\n",
        "    4. to_str(532) ➞ \"532\""
      ],
      "metadata": {
        "id": "BFSsVGkRh54B"
      }
    },
    {
      "cell_type": "markdown",
      "source": [
        "## Reto 34: Check if objOne Is Equal to objTwo\n",
        "* Cree una función que verifique si dos argumentos de objeto son iguales entre sí.\n",
        "* Devuelve True si los objetos son iguales; de lo contrario, devuelve False.\n",
        "    1. Ejemplo 1. Aterando el orden de las parejas `clave:valor`\n",
        "    <pre>\n",
        "    # The first object parameter.\n",
        "obj_one = {\n",
        "  \"name\": \"Alex\",\n",
        "  \"phone\": \"687654321\",\n",
        "  \"email\": \"alex@gmail.com\"\n",
        "}\n",
        "    </pre>\n",
        "\n",
        "    <pre>\n",
        "# The second object parameter.\n",
        "obj_two = {\n",
        "  \"name\": \"Alex\",\n",
        "  \"email\": \"alex@gmail.com\",\n",
        "  \"phone\": \"687654321\"\n",
        "}\n",
        "</pre>\n",
        "\n",
        "    is_equal(obj_one, obj_two) ➞ True\n",
        "\n",
        "2. Ejemplo 2.\n",
        "    <pre>\n",
        "    # The first object parameter.\n",
        "obj_one = {\n",
        "  \"name\": \"Julia\",\n",
        "  \"phone\": \"612345678\",\n",
        "  \"email\": \"julia@gmail.com\"\n",
        "}\n",
        "    </pre>\n",
        "\n",
        "    <pre>\n",
        "# The second object parameter.\n",
        "obj_two = {\n",
        "  \"nombre\": \"Julia\",\n",
        "  \"telefono\": \"612345678\",\n",
        "  \"correo\": \"julia@gmail.com\"\n",
        "}\n",
        "</pre>\n",
        "\n",
        "    is_equal(obj_one, obj_two) ➞ False\n",
        "\n"
      ],
      "metadata": {
        "id": "AzEc5OxujTmX"
      }
    },
    {
      "cell_type": "markdown",
      "source": [
        "## Reto 35: Fix the Expression\n",
        "* Corrija el código siguiente para que la función devuelva verdadero si y solo si x es igual a 7.\n",
        "    1. es_siete(4) ➞ False\n",
        "    2. es_siete(9) ➞ False\n",
        "    3. es_siete(7) ➞ True\n",
        "* Consulta el **operador ternario** en Python\n",
        "* El código que no funciona correctamente es este:\n",
        "\n",
        "<pre>\n",
        "def es_siete(x):\n",
        "\tretur True if x=\"7\" else False\n",
        "</pre>\n"
      ],
      "metadata": {
        "id": "kIoWDOrDykTZ"
      }
    },
    {
      "cell_type": "markdown",
      "source": [
        "## Reto 36: Equality Check\n",
        "* Debe verificar la igualdad de dos valores diferentes dados los parámetros `a` y `b`.\n",
        "* Tanto el valor como el tipo de dato de los argumentos deben ser iguales.\n",
        "    1. check_igualdad(7, \"7\") ➞ False\n",
        "    2. check_igualdad(1, True) ➞ False\n",
        "    3. check_igualdad(1, --1) ➞ True\n",
        "    4. check_igualdad(0, 'False') ➞ False\n",
        "    5. check_igualdad(4, abs(-4)) ➞ True\n",
        "* Para el tipo de dato use la función interna `type()`\n",
        "* La función `abs()` calcula el valor absoluto de un número"
      ],
      "metadata": {
        "id": "uBgvowa5ykdn"
      }
    },
    {
      "cell_type": "markdown",
      "source": [
        "## Reto 37: Two Makes Ten\n",
        "* Crea una función que tome dos argumentos. Ambos argumentos son números enteros, a y b. Devuelve Verdadero si uno de ellos es 10 o si su suma es 10.\n",
        "    1. makes10(9, 10) ➞ True\n",
        "    2. makes10(9, 9) ➞ False\n",
        "    3. makes10(1, 9) ➞ True"
      ],
      "metadata": {
        "id": "iSVovXfZtz1E"
      }
    },
    {
      "cell_type": "markdown",
      "source": [
        "## Reto 38: Check if an Integer is Divisible By Five\n",
        "* Create a function that returns True if an integer is evenly divisible by 5, and False otherwise.\n",
        "    1. divisible_by_five(5) ➞ True\n",
        "    2. divisible_by_five(-55) ➞ True\n",
        "    3. divisible_by_five(37) ➞ False"
      ],
      "metadata": {
        "id": "_3AbqOSluZXt"
      }
    },
    {
      "cell_type": "markdown",
      "source": [
        "## Reto 39: Profitable Gamble\n",
        "* Cree una función que tome tres argumentos `probabilidad`, `premio`, `pago` y devuelva verdadero si `probabilidad * premio > pago`; de lo contrario, devuelve falso.\n",
        "* Ejemplo\n",
        "    - `apuesta_rentable(0.2, 50, 9)`\n",
        "    - debería ser verdadero, ya que el beneficio neto es 1\n",
        "    - (0.2 * 50 - 9) es 1 y se cumple que 1 > 0.\n",
        "    1. apuesta_rentable(0.2, 50, 9) ➞ True\n",
        "    2. apuesta_rentable(0.9, 1, 2) ➞ False\n",
        "    3. apuesta_rentable(0.9, 3, 2) ➞ True"
      ],
      "metadata": {
        "id": "hndooM_tymog"
      }
    },
    {
      "cell_type": "markdown",
      "source": [
        "## Reto 40: Get the Sum of All List Elements\n",
        "* Cree una función que tome una lista y devuelva la suma de todos los números de la lista.\n",
        "    1. get_sum_of_elements([2, 7, 4]) ➞ 13\n",
        "    2. get_sum_of_elements([45, 3, 0]) ➞ 48\n",
        "    3. get_sum_of_elements([-2, 84, 23]) ➞ 105\n"
      ],
      "metadata": {
        "id": "uH0q2k3AymvL"
      }
    },
    {
      "cell_type": "markdown",
      "source": [
        "## Reto 41: Frames Per Second\n",
        "* Cree una función que devuelva el número de fotogramas mostrados en un número determinado de minutos para un determinado FPS.\n",
        "* FPS significa \"fotogramas por segundo\" y es la cantidad de fotogramas que muestra la pantalla de una computadora cada segundo.\n",
        "    1. frames(1, 1) ➞ 60\n",
        "    2. frames(10, 1) ➞ 600\n",
        "    3. frames(10, 25) ➞ 15000\n"
      ],
      "metadata": {
        "id": "sIkIwIhrym10"
      }
    },
    {
      "cell_type": "markdown",
      "source": [
        "## Reto 42: Multiple of 100\n",
        "* Cree una función que tome un número entero y devuelva Verdadero si es divisible por 100; de lo contrario, devuelva Falso.\n",
        "    1. divisible(1) ➞ False\n",
        "    2. divisible(1000) ➞ True\n",
        "    3. divisible(100) ➞ True\n"
      ],
      "metadata": {
        "id": "ZtQLbKpvym7z"
      }
    },
    {
      "cell_type": "markdown",
      "source": [
        "## Reto 43: Testing K^K == N?\n",
        "* Escriba una función que devuelva True si k^k == n para la entrada (k, n)\n",
        "* y devuelva False en caso contrario.\n",
        "    1. k_to_k(2, 4) ➞ True\n",
        "    2. k_to_k(9, 387420489) ➞ True  \n",
        "    3. k_to_k(5, 3124) ➞ False\n",
        "    4. k_to_k(3, 17) ➞ False\n",
        "* Nueve elevado a nueve es $9^{9} = 387420489$\n"
      ],
      "metadata": {
        "id": "9TtBcMbWynC5"
      }
    },
    {
      "cell_type": "markdown",
      "source": [
        "## Reto 44: Buggy Code (Part 2)\n",
        "* Corrija el código en la pestaña de código para superar este desafío (solo errores de sintaxis). Mire los ejemplos siguientes para tener una idea de lo que debe hacer la función.\n",
        "    1. max_num(3, 7) ➞ 7\n",
        "    2. max_num(-1, -4) ➞ -1\n",
        "    2. max_num(10, 10) ➞ 10\n",
        "* El código que da problemas es el siguiente:\n",
        "\n",
        "<pre>\n",
        "def max_num(n1, n2):\n",
        "\tif n1 > n2:\n",
        "\t\treturn n2\n",
        "\telif:\n",
        "\t\treturn n1\n",
        "</pre>\n"
      ],
      "metadata": {
        "id": "tJ6I-ImMynKm"
      }
    },
    {
      "cell_type": "markdown",
      "source": [
        "## Reto 45: Compare Strings by Count of Characters\n",
        "* Cree una función que tome dos cadenas como argumentos y devuelva `True` o `False` dependiendo de si el número total de caracteres en la primera cadena es igual al número total de caracteres en la segunda cadena.\n",
        "    1. comp(\"AB\", \"cd\") ➞ True\n",
        "    2. comp(\"ABC\", \"DE\") ➞ False\n",
        "    3. comp(\"hello\", \"Madrid\") ➞ False\n",
        "    4. comp(\"XY\", \"42\") ➞ True"
      ],
      "metadata": {
        "id": "aHMUHOt_zlRT"
      }
    },
    {
      "cell_type": "markdown",
      "source": [
        "## Reto 46: Divides Evenly\n",
        "* Dados dos números enteros, `a` y `b`, devuelve `True` si a se puede dividir uniformemente entre `b`.\n",
        "* Devuelve `False` en caso contrario.\n",
        "    1. divides_evenly(98, 7) ➞ True  \n",
        "    \\# 98/7 = 14\n",
        "    2. divides_evenly(85, 4) ➞ False  \n",
        "    \\# 85/4 = 21.25\n"
      ],
      "metadata": {
        "id": "F8WNfl5szxTo"
      }
    },
    {
      "cell_type": "markdown",
      "source": [
        "## Reto 47: Let's Fuel Up!\n",
        "* Un vehículo necesita 10 veces más combustible que la distancia que recorre.\n",
        "* Sin embargo, siempre debe llevar un mínimo de 100 de combustible antes de partir.\n",
        "* Cree una función que calcule la cantidad de combustible que necesita, dada la distancia.\n",
        "    1. calculate_fuel(15) ➞ 150\n",
        "    2. calculate_fuel(23.5) ➞ 235\n",
        "    3. calculate_fuel(3) ➞ 100\n",
        "* La distancia será un número mayor que cero.\n",
        "* Devuelve 100 si el combustible calculado resulta ser inferior a 100."
      ],
      "metadata": {
        "id": "KL8LNZmnzx_N"
      }
    },
    {
      "cell_type": "markdown",
      "source": [
        "## Reto 48: Is the String Empty?\n",
        "* Cree una función que devuelva `True` si una cadena está vacía y `False` en caso contrario.\n",
        "    1. is_empty(\"\") ➞ True\n",
        "    2. is_empty(\" \") ➞ False\n",
        "    3. is_empty(\"a\") ➞ False\n",
        "* Una cadena que contiene algún espacio en blanco `\" \"` no cuenta como vacía."
      ],
      "metadata": {
        "id": "7woygAxxzyFh"
      }
    },
    {
      "cell_type": "markdown",
      "source": [
        "## Reto 49: Return Negative\n",
        "* Cree una función que tome un número como argumento y devuelva un negativo de ese número. * Si el número previamente ya es negativo lo devuelve sin ningún cambio.\n",
        "    1. return_negative(4) ➞ -4\n",
        "    2. return_negative(15) ➞ -15\n",
        "    3. return_negative(-4) ➞ -4\n",
        "    4. return_negative(0) ➞ 0\n"
      ],
      "metadata": {
        "id": "YEjGoQpPzyRK"
      }
    },
    {
      "cell_type": "markdown",
      "source": [
        "## Reto 50: Sum of List Less Than 100 List Remix\n",
        "* Crear una función que reciba una lista de números\n",
        "* Se retorna `True` si la suma de los valores de la lista es menor que 100\n",
        "* de lo contrario, se retorna `False`\n",
        "    1. menos_que_100([5, 57]) ➞ True\n",
        "    2. menos_que_100([77, 30]) ➞ False\n",
        "    3. menos_que_100([0]) ➞ True\n",
        "    4. menos_que_100([7, 33, 15]) ➞ True\n",
        "\n"
      ],
      "metadata": {
        "id": "emD22dC-zyWu"
      }
    },
    {
      "cell_type": "markdown",
      "source": [
        "## Reto 51: Concatenate First and Last Name into One String\n",
        "* Una función recibe dos parámetros: nombre y apellido, en este orden.\n",
        "* La función retorna una cadena que contiene primero el apellido y luego el nombre, separados por coma y espacio.\n",
        "    1. concatenar_nombre(\"Jose\", \"Ruiz\") ➞ \"Ruiz, Jose\"\n",
        "    2. concatenar_nombre(\"Ana\", \"Díaz\") ➞ \"Díaz, Ana\"\n",
        "    3. concatenar_nombre(\"Maria\", \"Ortiz\") ➞ \"Ortiz, Maria\"\n"
      ],
      "metadata": {
        "id": "cx9UNV3Rzydb"
      }
    },
    {
      "cell_type": "markdown",
      "source": [
        "## Reto 52: Miserable Parody of a Calculator\n",
        "* Cree una función que maneje expresiones matemáticas simples.\n",
        "* La entrada es una expresión en forma de string.\n",
        "    1. calculadora(\"23+4\") ➞ 27\n",
        "    2. calculadora(\"45-15\") ➞ 30\n",
        "    3. calculadora(\"13+2-5*2\") ➞ 5\n",
        "    4. calculadora(\"49/7*2-3\") ➞ 11\n"
      ],
      "metadata": {
        "id": "rIJcTIllzykJ"
      }
    },
    {
      "cell_type": "markdown",
      "source": [
        "## Reto 53: Concatenating First and Last Character of a String\n",
        "* Cree una función que tome una cadena y devuelva el primer y último carácter concatenados.\n",
        "    1. primero_ultimo(\"Martinez\") ➞ \"Mz\"\n",
        "    2. primero_ultimo(\"hola\") ➞ \"ha\"\n",
        "    3. primero_ultimo(\"verano 2025\") ➞ \"v5\""
      ],
      "metadata": {
        "id": "mciItVkzzyrJ"
      }
    },
    {
      "cell_type": "markdown",
      "source": [
        "## Reto 54: Is the String Odd or Even?\n",
        "* Dada una cadena, devuelve `True` si su longitud es par o `False` si la longitud es impar.\n",
        "    1. longitud_par(\"Ana\") ➞ False\n",
        "    2. longitud_par(\"Anna\") ➞ True\n",
        "    3. longitud_par(\"aguacate\") ➞ True\n",
        "    3. longitud_par(\"New York\") ➞ True\n"
      ],
      "metadata": {
        "id": "gnI8xq9wzlWP"
      }
    },
    {
      "cell_type": "markdown",
      "source": [
        "## Reto 55: Pair Management\n",
        "* Dados dos argumentos, devuelve una lista que contiene estos dos argumentos.\n",
        "    1. listar_dos(1, 2) ➞ [1, 2]\n",
        "    2. listar_dos(51, 21) ➞ [51, 21]\n",
        "    3. listar_dos(-4, 215) ➞ [-4, 215]\n"
      ],
      "metadata": {
        "id": "uYhifBO2z6KK"
      }
    },
    {
      "cell_type": "markdown",
      "source": [
        "## Reto 56: Front 3 - Slice Check Repeat Concatenate\n",
        "* Cree una función que reciba una cadena\n",
        "* Diremos que el `inicio` son los primeros tres caracteres de la cadena.\n",
        "* Si la longitud de la cadena es inferior a tres caracteres, el `inicio` es lo que esté allí.\n",
        "* La función retorna una nueva cadena, que son tres copias del `inicio`.\n",
        "    1. inicio_tres(\"Python\") ➞ \"PytPytPyt\"\n",
        "    2. inicio_tres(\"Cuchara\") ➞ \"CucCucCuc\"\n",
        "    3. inicio_tres(\"biofrutas\") ➞ \"biobiobio\"\n"
      ],
      "metadata": {
        "id": "eJnHHpRnz6TI"
      }
    },
    {
      "cell_type": "markdown",
      "source": [
        "## Reto 57: Fix the Error: Value vs. Reference Types\n",
        "* Escribe una función que devuelva `True` si el número entero recibido es impar y `False` si es par.\n",
        "* Tenemos una función que da error y además no funciona bien.\n",
        "* Trate de mejorar la función, o aún mejor, refactorice el código para hacer una función mejor.\n",
        "    1. es_impar(5) ➞ True\n",
        "    2. es_impar(8) ➞ False\n",
        "    3. es_impar(0) ➞ False\n",
        "    4. es_impar(-3) ➞ True\n",
        "* La función incorrecta es esta:\n",
        "\n",
        "<pre>\n",
        "def es_impar(n):\n",
        "\tif n % 2 == 0:\n",
        "\t\treturn True\n",
        "\telif n % 2 == 1\n",
        "\t\treturn False\n",
        "</pre>\n",
        "\n"
      ],
      "metadata": {
        "id": "wWvRVfvSz6Yy"
      }
    },
    {
      "cell_type": "markdown",
      "source": [
        "## Reto 58: Convert Number to String of Dashes\n",
        "* Cree una función que tome un número `n` (entre 1 y 30) y devuelva una cadena de `n`guiones.\n",
        "    1. n_guiones(1) ➞ \"-\"\n",
        "    2. n_guiones(5) ➞ \"-----\"\n",
        "    3. n_guiones(3) ➞ \"---\"\n"
      ],
      "metadata": {
        "id": "bafH9RmQz6eC"
      }
    },
    {
      "cell_type": "markdown",
      "source": [
        "## Reto 59: Area of a Rectangle\n",
        "* Crea una función que calcule el área de un rectángulo.\n",
        "* Si los argumentos no son válidos, su función debe devolver -1.\n",
        "        1. area(3, 4) ➞ 12\n",
        "        2. area(10, 11) ➞ 110\n",
        "        3. area(-1, 5) ➞ -1\n",
        "        4. area(0, 2) ➞ -1"
      ],
      "metadata": {
        "id": "88P3tWD8z6i-"
      }
    },
    {
      "cell_type": "markdown",
      "source": [
        "## Reto 60: Check if a List Contains a Given Number\n",
        "* Escriba una función para verificar si una lista contiene el número dado.\n",
        "check([1, 2, 3, 4, 5], 3) ➞ True\n",
        "\n",
        "check([1, 1, 2, 1, 1], 3) ➞ False\n",
        "\n",
        "check([5, 5, 5, 6], 5) ➞ True\n",
        "\n",
        "check([], 5) ➞ False\n"
      ],
      "metadata": {
        "id": "AbBpdN1gz6n1"
      }
    },
    {
      "cell_type": "markdown",
      "source": [
        "## Reto 61: Is the Number Even or Odd?\n",
        "* Cree una función que tome un número como argumento y devuelva \"par\" para números pares e \"impar\" para números impares.\n",
        "isEvenOrOdd(3) ➞ \"odd\"\n",
        "\n",
        "isEvenOrOdd(146) ➞ \"even\"\n",
        "\n",
        "isEvenOrOdd(-19) ➞ \"odd\"\n"
      ],
      "metadata": {
        "id": "FRr7GkgBz6t5"
      }
    },
    {
      "cell_type": "markdown",
      "source": [
        "## Reto 62: Is the Word Singular or Plural?\n",
        "* Cree una función que tome una palabra y determine si es plural o no. Una palabra plural es aquella que termina en \"s\".\n",
        "is_plural(\"changes\") ➞ True\n",
        "\n",
        "is_plural(\"change\") ➞ False\n",
        "\n",
        "is_plural(\"dudes\") ➞ True\n",
        "\n",
        "is_plural(\"magic\") ➞ False\n"
      ],
      "metadata": {
        "id": "DxN0UYoAz64b"
      }
    },
    {
      "cell_type": "markdown",
      "source": [
        "## Reto 63: On/Off Switches\n",
        "Cree una función que devuelva cuántas disposiciones posibles pueden provenir de un determinado número de interruptores (encendido/apagado). En otras palabras, para un número determinado de interruptores, ¿cuántos patrones diferentes de encendido y apagado podemos tener?\n",
        "pos_com(1) ➞ 2\n",
        "\n",
        "pos_com(3) ➞ 8\n",
        "\n",
        "pos_com(10) ➞ 1024\n"
      ],
      "metadata": {
        "id": "Qr1u5eabzlbL"
      }
    },
    {
      "cell_type": "markdown",
      "source": [
        "## Reto 40: Is the Last Character an \"N\"?\n",
        "Cree una función que tome una cadena (un nombre aleatorio). Si el último carácter del nombre es una \"n\", devuelve Verdadero; en caso contrario, devuelve Falso.\n",
        "is_last_character_n(\"Aiden\") ➞ True\n",
        "\n",
        "is_last_character_n(\"Piet\") ➞ False\n",
        "\n",
        "is_last_character_n(\"Bert\") ➞ False\n",
        "\n",
        "is_last_character_n(\"Dean\") ➞ True\n"
      ],
      "metadata": {
        "id": "Yd1VWEmDz6zH"
      }
    },
    {
      "cell_type": "markdown",
      "source": [
        "## Reto 40: Find the Bug: Returning the Container\n",
        "¡El sistema de embalaje se está volviendo loco! Los dulces están sueltos por todo el almacén, falta el cereal y hay pan metido en una botella. ¿Que esta pasando aqui? Los dulces deben estar en plástico y el pan en una bolsa.\n",
        "\n",
        "La máquina envasadora ejecuta la función get_container() para recuperar el contenedor de un producto. Pero algo no está bien...\n",
        "\n",
        "get_container(\"Bread\") ➞ \"bag\"\n",
        "\n",
        "get_container(\"Beer\") ➞ \"bottle\"\n",
        "\n",
        "get_container(\"Candy\") ➞ \"plastic\"\n",
        "\n",
        "get_container(\"Cheese\") ➞ None\n"
      ],
      "metadata": {
        "id": "FoWAJyPBWeog"
      }
    },
    {
      "cell_type": "markdown",
      "source": [
        "## Reto 40: Buggy Code (Part 3)\n",
        "Corrija el código en la pestaña de código para superar este desafío (solo errores de sintaxis). Mire los ejemplos siguientes para tener una idea de lo que debe hacer la función.\n",
        "\n",
        "sum_lst([1, 2, 3, 4, 5]) ➞ 15\n",
        "\n",
        "sum_lst([-1, 0, 1]) ➞ 0\n",
        "\n",
        "sum_lst([0, 4, 8, 12]) ➞ 24\n",
        "\n",
        "def sum_lst(lst):\n",
        "\ttotal\n",
        "\tfor i in range(0,lst):\n",
        "\t\ttotal += lst[i]\n",
        "  return total\n"
      ],
      "metadata": {
        "id": "UTLb81S6We2L"
      }
    },
    {
      "cell_type": "markdown",
      "source": [
        "## Reto 40: Burrrrrrrp\n",
        "Cree una función que devuelva la cadena \"Burp\" con la cantidad de \"r\" determinada por los parámetros de entrada de la función.\n",
        "\n",
        "long_burp(3) ➞ \"Burrrp\"\n",
        "\n",
        "long_burp(5) ➞ \"Burrrrrp\"\n",
        "\n",
        "long_burp(9) ➞ \"Burrrrrrrrrp\"\n"
      ],
      "metadata": {
        "id": "iw1lGCGYWe6T"
      }
    },
    {
      "cell_type": "markdown",
      "source": [
        "## Reto 40: Char-to-ASCII\n",
        "Cree una función que devuelva el valor ASCII del carácter pasado.\n",
        "\n",
        "ctoa(\"A\") ➞ 65\n",
        "\n",
        "ctoa(\"m\") ➞ 109\n",
        "\n",
        "ctoa(\"[\") ➞ 91\n",
        "\n",
        "ctoa(\"\\\") ➞ 92"
      ],
      "metadata": {
        "id": "-hnzsWZ5We9y"
      }
    },
    {
      "cell_type": "markdown",
      "source": [
        "## Reto 40: WordCharWord\n",
        "Cree una función que coloque el primer argumento, un carácter, entre cada palabra del segundo argumento, una cadena.\n",
        "\n",
        "add(\"R\", \"python is fun\") ➞ \"pythonRisRfun\"\n",
        "\n",
        "add(\"#\", \"hello world!\") ➞ \"hello#world!\"\n",
        "\n",
        "add(\"#\", \" \") ➞ \"#\""
      ],
      "metadata": {
        "id": "ahhg7AhsWfBk"
      }
    },
    {
      "cell_type": "markdown",
      "source": [
        "## Reto 40: Moving House\n",
        "Me gustaría calcular cuánto tiempo en promedio he vivido en la misma casa. Dada la edad de una persona y el número de veces que se ha mudado de casa, devuelva el número promedio de años que ha pasado viviendo en la misma casa.\n",
        "\n",
        "years_in_one_house(30, 1) ➞ 15\n",
        "\n",
        "years_in_one_house(15, 2) ➞ 5\n",
        "\n",
        "years_in_one_house(80, 0) ➞ 80\n"
      ],
      "metadata": {
        "id": "SXm49HoIWfE3"
      }
    },
    {
      "cell_type": "markdown",
      "source": [
        "## Reto 40:\n",
        "Debido a un concepto de programación conocido como veracidad, ciertos valores pueden evaluarse (es decir, tomar el lugar de) booleanos. Por ejemplo, 1 (o cualquier número distinto de 0) suele ser equivalente a Verdadero y 0 suele ser equivalente a Falso.\n",
        "\n",
        "Cree una función que devuelva el opuesto del booleano dado, como un número.\n",
        "\n",
        "flip_bool(True) ➞ 0\n",
        "\n",
        "flip_bool(False) ➞ 1\n",
        "\n",
        "flip_bool(1) ➞ 0\n",
        "\n",
        "flip_bool(0) ➞ 1"
      ],
      "metadata": {
        "id": "Wx_mr5JjWfIX"
      }
    },
    {
      "cell_type": "markdown",
      "source": [
        "## Reto 40: Fix the Errors / Comparing Arrays\n",
        "El programador Pete está intentando crear una función que devuelva Verdadero si dos listas comparten la misma longitud y tienen valores numéricos idénticos en cada índice; de ​​lo contrario, devolverá Falso.\n",
        "\n",
        "Sin embargo, la solución que ofrece su función tiene un formato inesperado. ¿Puedes arreglar la función de Pete para que se comporte como se ve en los ejemplos siguientes?\n",
        "\n",
        "check_equals([1, 2], [1, 3]) ➞ False\n",
        "\n",
        "check_equals([1, 2], [1, 2]) ➞ True\n",
        "\n",
        "check_equals([4, 5, 6], [4, 5, 6]) ➞ True\n",
        "\n",
        "check_equals([4, 7, 6], [4, 5, 6]) ➞ False\n",
        "\n",
        "check_equals([1, 12], [11, 2]) ➞ False\n",
        "\n",
        "def check_equals(lst1, lst2):\n",
        "\tif [lst1[::] === lst2[::]]:\n",
        "\t\tprint(true)\n",
        "\telse:\n",
        "\t\tprint(false)\n",
        "\n"
      ],
      "metadata": {
        "id": "wtBc_7IpWfMG"
      }
    },
    {
      "cell_type": "markdown",
      "source": [
        "## Reto 40: Word without First Character\n",
        "Cree una función que tome una palabra y devuelva la nueva palabra sin incluir el primer carácter.\n",
        "\n",
        "new_word(\"apple\") ➞ \"pple\"\n",
        "\n",
        "new_word(\"cherry\") ➞ \"herry\"\n",
        "\n",
        "new_word(\"plum\") ➞ \"lum\""
      ],
      "metadata": {
        "id": "LzDEJWljWfPr"
      }
    },
    {
      "cell_type": "markdown",
      "source": [
        "## Reto 40: Triangle and Parallelogram Area Finder\n",
        "* Escribe una función que acepte base (decimal), altura (decimal) y forma (\"triángulo\", \"paralelogramo\") como entrada y calcule el área de esa forma.\n",
        "* El área de un triángulo es b * h / 2\n",
        "* El área de un paralelogramo es b * h\n",
        "\n",
        "area_shape(2, 3, \"triangle\") ➞ 3\n",
        "\n",
        "area_shape(8, 6, \"parallelogram\") ➞ 48\n",
        "\n",
        "area_shape(2.9, 1.3, \"parallelogram\") ➞ 3.77"
      ],
      "metadata": {
        "id": "oWNqE80mWfTn"
      }
    },
    {
      "cell_type": "markdown",
      "source": [
        "## Reto 40: Half, Quarter and Eighth\n",
        "Crea una función que tome un número y devuelva una lista de tres números: la mitad del número, un cuarto del número y un octavo del número.\n",
        "\n",
        "half_quarter_eighth(6) ➞ [3, 1.5, 0.75]\n",
        "\n",
        "half_quarter_eighth(22) ➞ [11, 5.5, 2.75]\n",
        "\n",
        "half_quarter_eighth(25) ➞ [12.5, 6.25, 3.125]\n"
      ],
      "metadata": {
        "id": "f1wFUd3JWfWo"
      }
    },
    {
      "cell_type": "markdown",
      "source": [
        "## Reto 40: Edaaaaabit\n",
        "Escriba una función que tome un número entero y devuelva una cadena con el número dado de \"a\" en Edabit.\n",
        "\n",
        "how_many_times(5) ➞ \"Edaaaaabit\"\n",
        "\n",
        "how_many_times(0) ➞ \"Edbit\"\n",
        "\n",
        "how_many_times(12) ➞ \"Edaaaaaaaaaaaabit\"\n"
      ],
      "metadata": {
        "id": "ByAlOR_yWfaa"
      }
    },
    {
      "cell_type": "markdown",
      "source": [
        "## Reto 40: Find the Smallest and Biggest Numbers\n",
        "Cree una función que acepte una lista de números y devuelva los números mínimo y máximo, en ese orden (como una lista).\n",
        "\n",
        "min_max([1, 2, 3, 4, 5]) ➞ [1, 5]\n",
        "\n",
        "min_max([2334454, 5]) ➞ [5, 2334454]\n",
        "\n",
        "min_max([1]) ➞ [1, 1]\n"
      ],
      "metadata": {
        "id": "QNz6oOpOWfeJ"
      }
    },
    {
      "cell_type": "markdown",
      "source": [
        "## Reto 40: Check String for Spaces\n",
        "Cree una función que devuelva True si una cadena contiene espacios.\n",
        "\n",
        "Una cadena vacía no contiene espacios.\n",
        "\n",
        "has_spaces(\"hello\") ➞ False\n",
        "\n",
        "has_spaces(\"hello, world\") ➞ True\n",
        "\n",
        "has_spaces(\" \") ➞ True\n",
        "\n",
        "has_spaces(\"\") ➞ False\n",
        "\n",
        "has_spaces(\",./!@#\") ➞ False\n"
      ],
      "metadata": {
        "id": "ls0gwknEWfhq"
      }
    },
    {
      "cell_type": "markdown",
      "source": [
        "## Reto 40: How Many D's Are There?\n",
        "* Crea una función que cuente cuántas D hay en una oración.\n",
        "* Su función no debe distinguir entre mayúsculas y minúsculas.\n",
        "\n",
        "count_d(\"My friend Dylan got distracted in school.\") ➞ 4\n",
        "\n",
        "count_d(\"Debris was scattered all over the yard.\") ➞ 3\n",
        "\n",
        "count_d(\"The rodents hibernated in their den.\") ➞ 3\n"
      ],
      "metadata": {
        "id": "QuGX0yp5WflL"
      }
    },
    {
      "cell_type": "markdown",
      "source": [
        "## Reto 40: City School Creating IDS\n",
        "Muchos IDS (para correos electrónicos o ID de Google) se crean utilizando el nombre de la persona.\n",
        "\n",
        "Cree una función que devolverá una identificación de cuatro caracteres utilizando el nombre y apellido de la persona. El primer carácter será la primera letra del nombre pero en minúsculas.\n",
        "\n",
        "Los siguientes tres caracteres serán los primeros tres caracteres del apellido, pero la primera letra estará en mayúscula y las otras dos en minúscula.\n",
        "\n",
        "create_id(\"mary\", \"lamb\") ➞ \"mLam\"\n",
        "\n",
        "create_id(\"John\", \"SMITH\") ➞ \"jSmi\"\n",
        "\n",
        "create_id(\"mary\", \"smith\") ➞ \"mSmi\"\n"
      ],
      "metadata": {
        "id": "-4yhXaL2Wfos"
      }
    },
    {
      "cell_type": "markdown",
      "source": [
        "## Reto 40: Destructuring Assignment\n",
        "* Dada una lista de números como por ejemplo:\n",
        "lst = [10, 20, 30, 40, 50]\n",
        "* deseamos recoger el contenido de la lista en tres variables:  \n",
        "    - primero ➞ 10\n",
        "    - segundo ➞ 20\n",
        "    - resto ➞ [30, 40, 50]\n",
        "* La función devolverá el contenido de las tres variables separado por comas.\n",
        "\n",
        "    1. separa([10, 20, 30, 40, 50]) ➞ 10, 20, [30, 40, 50]\n",
        "    2. separa([7, 8, 9, 10, 11, 99]) ➞ 7, 8, [9, 10, 10, 99]\n"
      ],
      "metadata": {
        "id": "dARrW21OWfsd"
      }
    },
    {
      "cell_type": "markdown",
      "source": [
        "## Reto 40: Smash Factor\n",
        "El factor Smash es un término en golf que se relaciona con la cantidad de energía transferida desde la cabeza del palo a la pelota de golf. La fórmula para calcular el factor smash es la velocidad de la pelota dividida por la velocidad del palo.\n",
        "\n",
        "Create a function that takes ball speed bs and club speed cs as arguments and returns the smash factor to the nearest hundredth.\n",
        "\n",
        "\n",
        "smash_factor(139.4, 93.8) ➞ 1.49\n",
        "\n",
        "smash_factor(181.2, 124.5) ➞ 1.46\n",
        "\n",
        "smash_factor(154.7, 104.3) ➞ 1.48\n"
      ],
      "metadata": {
        "id": "lC4sJKLmWfwP"
      }
    },
    {
      "cell_type": "markdown",
      "source": [
        "## Reto 40: AND, OR and NOT\n",
        "* Crear tres funciones que trabajen como puertas lógicas.\n",
        "* Las tres puertas lógicas son: AND, OR y NO.\n",
        "\n",
        "    1. funcion_AND(1, 1) ➞ 1\n",
        "    2. funcion_AND(1, 0) ➞ 0\n",
        "    3. funcion_AND(0, 0) ➞ 0\n",
        "    4. funcion_OR(1, 0) ➞ 1\n",
        "    5. funcion_OR(1, 1) ➞ 1\n",
        "    6. funcion_OR(0, 0) ➞ 0\n",
        "    7. funcion_NOT(0) ➞ 1\n",
        "    8. funcion_NOT(1) ➞ 0"
      ],
      "metadata": {
        "id": "KNcxW8fKWfz-"
      }
    },
    {
      "cell_type": "markdown",
      "source": [
        "## Reto 40: Check if All Values Are True\n",
        "Cree una función que devuelva Verdadero si todos los parámetros son verdaderos y Falso en caso contrario.\n",
        "\n",
        "all_truthy(True, True, True) ➞ True\n",
        "\n",
        "all_truthy(True, False, True) ➞ False\n",
        "\n",
        "all_truthy(5, 4, 3, 2, 1, 0) ➞ False\n"
      ],
      "metadata": {
        "id": "d-AfwJ7yWf3c"
      }
    },
    {
      "cell_type": "markdown",
      "source": [
        "## Reto 40: Convert Yen to USD\n",
        "* Cree una función que pueda convertir JPY (yen japonés) en USD (dólar estadounidense).\n",
        "* Cada conversión de JPY a USD es JPY / 107,5\n",
        "* Redondea el resultado a dos decimales.\n",
        "\n",
        "yen_to_usd(1) ➞ 0.01\n",
        "\n",
        "yen_to_usd(500) ➞ 4.65\n",
        "\n",
        "yen_to_usd(649) ➞ 6.04\n",
        "\n",
        "\n"
      ],
      "metadata": {
        "id": "FH4XlC6OWf7c"
      }
    },
    {
      "cell_type": "markdown",
      "source": [
        "## Reto 40: Broken Bridge\n",
        "Cree una función que valide si es seguro caminar sobre un puente (es decir, si no tiene espacios por los que caerse).\n",
        "\n",
        "is_safe_bridge(\"####\") ➞ True\n",
        "\n",
        "is_safe_bridge(\"## ####\") ➞ False\n",
        "\n",
        "is_safe_bridge(\"#\") ➞ True"
      ],
      "metadata": {
        "id": "ypJ7z7jGWf-x"
      }
    },
    {
      "cell_type": "markdown",
      "source": [
        "## Reto 40: Recreating the abs() Function\n",
        "La función abs() devuelve el valor absoluto de un número. Esto significa que devuelve el valor positivo de un número. Puedes pensar en ello como la distancia desde cero. Cree una función que recree esta funcionalidad.\n",
        "\n",
        "absolute(-5) ➞ 5\n",
        "\n",
        "absolute(-3.14) ➞ 3.14\n",
        "\n",
        "absolute(250) ➞ 250\n"
      ],
      "metadata": {
        "id": "Va493IkPWgCd"
      }
    },
    {
      "cell_type": "markdown",
      "source": [
        "## Reto 40: The 3 Programmers Problem\n",
        "Contrataste a tres programadores y (con suerte) les pagas. Cree una función que tome tres números (los salarios por hora de cada programador) y devuelva la diferencia entre el programador mejor pagado y el peor pagado.\n",
        "\n",
        "programmers(147, 33, 526) ➞ 493\n",
        "\n",
        "programmers(33, 72, 74) ➞ 41\n",
        "\n",
        "programmers(1, 5, 9) ➞ 8\n"
      ],
      "metadata": {
        "id": "-9AOkI9nnvy5"
      }
    },
    {
      "cell_type": "markdown",
      "source": [
        "## Reto 40: Calculate Using String Operation\n",
        "Cree una función que tome dos números y un operador matemático y devuelva el resultado.\n",
        "\n",
        "Las únicas operaciones utilizadas son las de los ejemplos que se muestran.\n",
        "\n",
        "calculate(4, 9, \"+\") ➞ 13\n",
        "\n",
        "calculate(12, 5, \"-\") ➞ 7\n",
        "\n",
        "calculate(6, 3, \"*\") ➞ 18\n",
        "\n",
        "calculate(25, 5, \"//\") ➞ 5\n",
        "\n",
        "calculate(14, 3, \"%\") ➞ 2\n",
        "\n",
        "calculate(7, 2, \"/\") ➞ 3.5\n"
      ],
      "metadata": {
        "id": "uVs2hSEXns-K"
      }
    },
    {
      "cell_type": "markdown",
      "source": [
        "## Reto 40: Indexing with Integer Division\n",
        "Dado un índice que usa división INTEGER y una lista, devuelve el valor de la lista con el índice dado.\n",
        "\n",
        "value_at([1, 2, 3, 4, 5, 6], 10 // 2) ➞ 6\n",
        "\n",
        "value_at([1, 2, 3, 4, 5, 6], 8.0 // 2) ➞ 5\n",
        "\n",
        "value_at([1, 2, 3, 4], 6.535355314 // 2) ➞ 4\n"
      ],
      "metadata": {
        "id": "jPmaP5SwntHU"
      }
    },
    {
      "cell_type": "markdown",
      "source": [
        "## Reto 40: Return Sole Element in a Set\n",
        "Dado un conjunto que contiene un elemento, devuelve el elemento.\n",
        "\n",
        "element_from_set({\"edabit\"}) ➞ \"edabit\"\n",
        "\n",
        "element_from_set({True}) ➞ True\n",
        "\n",
        "element_from_set({11037}) ➞ 11037\n"
      ],
      "metadata": {
        "id": "KWP95xcFntRL"
      }
    },
    {
      "cell_type": "markdown",
      "source": [
        "## Reto 40: No Conditionals?\n",
        "Escriba una función que devuelva 0 si la entrada es 1 y devuelva 1 si la entrada es 0.\n",
        "\n",
        "flip(1) ➞ 0\n",
        "\n",
        "flip(0) ➞ 1\n"
      ],
      "metadata": {
        "id": "_BVuN2sEntU_"
      }
    },
    {
      "cell_type": "markdown",
      "source": [
        "## Reto 40: Check If It's a Title String\n",
        "Compruebe si un texto de cadena es un texto de título o no. Un texto de título es aquel en el que todas las palabras del texto comienzan con una letra mayúscula.\n",
        "\n",
        "check_title(\"A Mind Boggling Achievement\") ➞ True\n",
        "\n",
        "check_title(\"A Simple Python Program!\") ➞ True\n",
        "\n",
        "check_title(\"Water is transparent\") ➞ False\n"
      ],
      "metadata": {
        "id": "eQq4-mUcntV5"
      }
    },
    {
      "cell_type": "markdown",
      "source": [
        "## Reto 40: List From a Range of Numbers\n",
        "Create a function that returns a list of all the integers between two given numbers start and end.\n",
        "range_of_num(2, 4) ➞ [3]\n",
        "\n",
        "range_of_num(5, 9) ➞ [6, 7, 8]\n",
        "\n",
        "range_of_num(2, 11) ➞ [3, 4, 5, 6, 7, 8, 9, 10]\n",
        "range_of_num(2, 2) ➞ []"
      ],
      "metadata": {
        "id": "SGBGw1efntW0"
      }
    },
    {
      "cell_type": "markdown",
      "source": [
        "## Reto 40: Drinks Allowed?\n",
        "Un barman está escribiendo un programa simple para determinar si debe servirle bebidas a alguien. Sólo sirve bebidas a personas mayores de 18 años y cuando no está de descanso.\n",
        "\n",
        "Dada la edad de la persona y si hay tiempo de descanso en sesión, cree una función que indique si debe servir bebidas.\n",
        "\n",
        "should_serve_drinks(17, True) ➞ False\n",
        "\n",
        "should_serve_drinks(19, False) ➞ True\n",
        "\n",
        "should_serve_drinks(30, True) ➞ False\n"
      ],
      "metadata": {
        "id": "gOc0ZAwxntYc"
      }
    },
    {
      "cell_type": "markdown",
      "source": [
        "## Reto 40: Nothing is Nothing?\n",
        "Dado cualquier número de parámetros (lo que se indica mediante la sintaxis *args), devuelve True si ninguna de las variables es falsa/vacía.\n",
        "\n",
        "*args permite que una función tome cualquier número de parámetros.\n",
        "\n",
        "nothing_is_nothing(0, False, [], {}) ➞ False\n",
        "\n",
        "nothing_is_nothing(33, \"Hello\", (True, True, 3)) ➞ True\n",
        "\n",
        "nothing_is_nothing(True, None) ➞ False\n"
      ],
      "metadata": {
        "id": "MwftNXTGntYw"
      }
    },
    {
      "cell_type": "markdown",
      "source": [
        "## Reto 40: Movie Theatre Admittance\n",
        "Escriba una función que verifique si una persona puede ver una película con clasificación MA15+. Para la admisión se requiere una de las dos condiciones siguientes:\n",
        "\n",
        "La persona tiene al menos 15 años. Tienen supervisión parental. La función acepta dos parámetros, edad y está_supervisado. Devuelve un booleano.\n",
        "\n",
        "accept_into_movie(14, True) ➞ True\n",
        "\n",
        "accept_into_movie(14, False) ➞ False\n",
        "\n",
        "accept_into_movie(16, False) ➞ True\n",
        "\n"
      ],
      "metadata": {
        "id": "FcGQDvBJntaT"
      }
    },
    {
      "cell_type": "markdown",
      "source": [
        "## Reto 40: Return Last Item\n",
        "Cree una función que devuelva el último valor del último elemento de una lista o cadena.\n",
        "\n",
        "last_ind([0, 4, 19, 34, 50, -9, 2]) ➞ 2\n",
        "\n",
        "last_ind(\"The quick brown fox jumped over the lazy dog\") ➞ \"g\"\n",
        "\n",
        "last_ind([]) ➞ None\n",
        "\n",
        "Las listas/cadenas serán de diferentes tamaños.\n",
        "\n",
        "Devuelve None si la lista/cadena está vacía.\n"
      ],
      "metadata": {
        "id": "4WL8wbnIntbH"
      }
    },
    {
      "cell_type": "markdown",
      "source": [
        "## Reto 40: Tallest Birthday Cake Candles\n",
        "Tú estás a cargo de la tarta para el cumpleaños de un niño. Has decidido que el pastel tendrá una vela por cada año de su edad total. Sólo podrán apagar la vela más alta. Cuente cuántas velas son las más altas.\n",
        "\n",
        "birthday_cake_candles([4, 4, 1, 3]) ➞ 2\n",
        "# The maximum height candles are four units high.\n",
        "# There are two of them, so you return 2.\n",
        "\n",
        "birthday_cake_candles([3, 2, 1, 3]) ➞ 2\n",
        "\n",
        "birthday_cake_candles([82, 49, 82, 82, 41, 82, 15, 63, 38, 25]) ➞ 4\n"
      ],
      "metadata": {
        "id": "exl2j4CBntb6"
      }
    },
    {
      "cell_type": "markdown",
      "source": [
        "## Reto 40: Find the Amount of Potatoes\n",
        "Crea una función para devolver la cantidad de patatas que hay en una cadena.\n",
        "\n",
        "potatoes(\"potato\") ➞ 1\n",
        "\n",
        "potatoes(\"potatopotato\") ➞ 2\n",
        "\n",
        "potatoes(\"potatoapple\") ➞ 1\n"
      ],
      "metadata": {
        "id": "FHd6vvtLntcw"
      }
    },
    {
      "cell_type": "markdown",
      "source": [
        "## Reto 40: Slice of Pie\n",
        "Cree una función que determine si es posible o no dividir un pastel de manera justa dados estos tres parámetros:\n",
        "\n",
        "Número total de rebanadas. Número de destinatarios. ¿Cuántas porciones recibe cada persona?\n",
        "\n",
        "La función quedará de esta forma:\n",
        "\n",
        "<pre>\n",
        "equal_slices(total slices, no. recipients, slices each)\n",
        "\n",
        "equal_slices(11, 5, 2) ➞ True\n",
        "# 5 people x 2 slices each = 10 slices < 11 slices\n",
        "\n",
        "equal_slices(11, 5, 3) ➞ False\n",
        "# 5 people x 3 slices each = 15 slices > 11 slices\n",
        "</pre>\n",
        "\n",
        "equal_slices(8, 3, 2) ➞ True\n",
        "\n",
        "equal_slices(8, 3, 3) ➞ False\n",
        "\n",
        "equal_slices(24, 12, 2) ➞ True"
      ],
      "metadata": {
        "id": "GP-E0baxntdj"
      }
    },
    {
      "cell_type": "markdown",
      "source": [
        "## Reto 40: Random Integer Generator\n",
        "Devuelve un número entero aleatorio N tal que a <= N <= b.\n",
        "\n",
        "random_int(5, 9) ➞ 7\n",
        "\n",
        "random_int(5, 9) ➞ 9\n",
        "\n",
        "random_int(5, 9) ➞ 5"
      ],
      "metadata": {
        "id": "Tvfro9montfN"
      }
    },
    {
      "cell_type": "markdown",
      "source": [
        "## Reto 40: Using Lambda Functions\n",
        "Cree una función que devuelva el argumento dado, pero utilizando una función lambda.\n",
        "\n",
        "lambda_func(3) ➞ 3\n",
        "\n",
        "lambda_func(\"3\") ➞ \"3\"\n",
        "\n",
        "lambda_func(True) ➞ True\n"
      ],
      "metadata": {
        "id": "8NSafWBlntgA"
      }
    },
    {
      "cell_type": "markdown",
      "source": [
        "## Reto 40: Does the Dictionary Contain a Given Key?\n",
        "Escriba una función que devuelva Verdadero si un diccionario contiene la clave especificada y Falso en caso contrario.\n",
        "\n",
        "has_key({ \"a\": 44, \"b\": 45, \"c\": 46 }, \"d\") ➞ False\n",
        "\n",
        "has_key({ \"craves\": True, \"midnight\": True, \"snack\": True }, \"morning\") ➞ False\n",
        "\n",
        "has_key({ \"pot\": 1, \"tot\": 2, \"not\": 3 }, \"not\") ➞ True"
      ],
      "metadata": {
        "id": "y6GXjHrantgQ"
      }
    },
    {
      "cell_type": "markdown",
      "source": [
        "## Reto 40: Raucous Applause\n",
        "Después de una actuación increíble, ¡el público enloquece! La gente aplaude con entusiasmo y la mayoría de los aplausos se superponen entre sí para crear un sonido homogéneo.\n",
        "\n",
        "Un aplauso superpuesto es un aplauso que comienza pero no termina, como en \"ClaClap\" (el primer aplauso se corta y en total hay 2 aplausos).\n",
        "\n",
        "Given a string of what the overlapping claps sounded like, return how many claps were made in total.\n",
        "\n",
        "count_claps(\"ClaClaClaClap!\") ➞ 4\n",
        "\n",
        "count_claps(\"ClClClaClaClaClap!\") ➞ 6\n",
        "\n",
        "count_claps(\"CCClaClClap!Clap!ClClClap!\") ➞ 9\n"
      ],
      "metadata": {
        "id": "w5FLCMCPnthv"
      }
    },
    {
      "cell_type": "markdown",
      "source": [
        "## Reto 40: First Class, Second Class and Third Class Levers\n",
        "Las palancas son máquinas simples con una viga rígida y un punto de apoyo. En la imagen siguiente, puedes ver que hay 3 tipos de palancas: primera clase, segunda clase y tercera clase.\n",
        "\n",
        "En una palanca de primera clase, el punto de apoyo está situado en el medio, con el esfuerzo y la carga colocados uno frente al otro.\n",
        "\n",
        "En una palanca de segunda clase, el punto de apoyo está situado a la derecha con el esfuerzo a la izquierda y la carga en el medio.\n",
        "\n",
        "En una palanca de tercera clase, el punto de apoyo está situado a la izquierda, con el esfuerzo en el medio y la carga a la derecha.\n",
        "\n",
        "Dada una lista que contiene el punto de apoyo \"f\", el esfuerzo \"e\" y la carga \"l\", escriba una función que determine si la lista muestra o no una palanca de primera clase, una palanca de segunda clase o una palanca de tercera clase.\n",
        "\n",
        "determine_lever([\"e\", \"f\", \"l\"]) ➞ \"first class lever\"\n",
        "\n",
        "determine_lever([\"e\", \"l\", \"f\"]) ➞ \"second class lever\"\n",
        "\n",
        "determine_lever([\"f\", \"e\", \"l\"]) ➞ \"third class lever\"\n",
        "\n",
        "Un par de tijeras es una palanca de primera clase, un cascanueces es una palanca de segunda clase y una escoba es una palanca de tercera clase.\n",
        "\n"
      ],
      "metadata": {
        "id": "qI01PB12ntjb"
      }
    },
    {
      "cell_type": "markdown",
      "source": [
        "## Reto 40: Minimal II: Boolean Redundancy\n",
        "En la pestaña Código encontrarás un código al que le falta un solo carácter para poder pasar las pruebas. Sin embargo, su objetivo es presentar una función lo más minimalista posible. Utilice los consejos de la sección de consejos a continuación.\n",
        "\n",
        "Escriba una función que devuelva la cadena \"par\" si el número entero dado es par y la cadena \"impar\" si es impar.\n",
        "\n",
        "Tip: Convertir un booleano, o algo que finalmente se interpretará como booleano, en booleano es redundante.\n",
        "\n",
        "Una comparación con <, <=, ==, !=, >=, > siempre dará como resultado un booleano, por lo tanto, usar la función bool() es totalmente innecesario.\n",
        "\n",
        "boolean == True es redundante, ya que siempre devolverá booleano.\n",
        "\n",
        "Para obtener el opuesto de booleano podríamos usar booleano == False. Sin embargo, una forma mucho más limpia de hacer esto simplemente no es booleana. Mientras preserva la legibilidad, evite declarar variables innecesarias.\n",
        "\n",
        "<pre>\n",
        "def parity(n):\n",
        "\tremander = bool(n % 2)\n",
        "\tif remainder == False:\n",
        "\t\treturn \"even\"\n",
        "\tif remainder == True:\n",
        "\t\treturn \"odd\"\n",
        "</pre>\n"
      ],
      "metadata": {
        "id": "5LXqHRmbntkP"
      }
    },
    {
      "cell_type": "markdown",
      "source": [
        "## Reto 40: Destructuring Assignment (Ignoring Values)\n",
        "* Dada una lista como por ejemplo esta:\n",
        "<pre>\n",
        "lista = [10, 20, 30]\n",
        "</pre>\n",
        "podemos recoger el primer elemento con la variable `primero` de esta forma:\n",
        "\n",
        "<pre>primero = lista[0]</pre>\n",
        "\n",
        "podemos recoger el último elemento con la variable `ultimo` así:\n",
        "<pre>ultimo = lista[-1]</pre>\n",
        "\n",
        "* Otra forma de conseguirlo es asignar variables\n",
        "\n",
        "<pre>primero, -, ultimo = [10, 20, 30]</pre>\n",
        "\n",
        "La variable `_` se usa habitualmente cuando se recogen valores que posteriormente no se usarán.\n",
        "\n",
        "* Cree una función que recoja los elementos centrales de un array, siendo la lista de longitud mayor o igual a tres.\n",
        "* Tip: explore el operador asterisco `*` que se utiliza para desempaquetar iterables.\n",
        "\n",
        "    1. centrales[10, 20, 30] ➞ [20]\n",
        "    2. centrales[1, 2, 3, 4, 5, 6] ➞ [2, 3, 4, 5]\n",
        "    3. centrales['lun', 'mar', 'mie', 'jue', 'vie'] ➞ ['mar', 'mie', 'jue']"
      ],
      "metadata": {
        "id": "PI8eQe5EntlC"
      }
    },
    {
      "cell_type": "markdown",
      "source": [
        "## Reto 40: Buggy Code\n",
        "El desafío es intentar corregir este código defectuoso, dadas las entradas Verdadero y Falso. Consulte los ejemplos siguientes para conocer el resultado esperado.\n",
        "\n",
        "    1. has_bugs(True) ➞ \"sad days\"\n",
        "    2. has_bugs(False) ➞ \"it's a good day\"\n",
        "\n",
        "<pre>\n",
        "def has_bugs(buggy_code):\n",
        "\tif buggyCode:\n",
        "\t\treturn 'sad days'\n",
        "\telif:\n",
        "\t\treturn 'it's a good day'\n",
        "</pre>\n"
      ],
      "metadata": {
        "id": "QODO-ZEuntlT"
      }
    },
    {
      "cell_type": "markdown",
      "source": [
        "## Reto 40: Maximum Weight Allowed\n",
        "* Cree una función que devuelva True si el peso combinado de un automóvil y el peso de los pasajeros p en el automóvil es menor que el peso máximo max_weight que el automóvil puede transportar. De lo contrario, devuelve Falso.\n",
        "* El peso del automóvil y el peso de los pasajeros se dan en libras. El peso máximo se indica en kilogramos.\n",
        "\n",
        "* Nota: 1 libra = 0,453592 kilogramo\n",
        "\n",
        "El orden de los argumentos en la función son:\n",
        "\n",
        "weight_allowed(car, p, max_weight)\n",
        "\n",
        "    1. weight_allowed(3000, [150, 201, 75, 88, 195], 1700) ➞ True\n",
        "    2. weight_allowed(3200, [220, 101, 115, 228, 15], 1700) ➞ False\n",
        "    3. weight_allowed(2900, [225, 171, 300, 274, 191], 1850) ➞ True\n"
      ],
      "metadata": {
        "id": "czeqq4Pentm0"
      }
    },
    {
      "cell_type": "markdown",
      "source": [
        "## Reto 40: Format II: Argument Indices\n",
        "Para imprimir podemos utilizar el sistema de formato `f`. Ejemplo:\n",
        "nombre = \"Pedro\"\n",
        "ciudad = \"Madrid\"\n",
        "print(f\"Soy {nombre} y vivo en {ciudad}.\")\n",
        "\n",
        "Lo que se imprime es:\n",
        "\n",
        "\"Soy Pedro y vivo en Madrid.\"\n",
        "\n",
        "Utilizando este sisteme de formateo cree una función que retorne los siguientes casos:\n",
        "\n",
        "    1. biografia(\"Ana\", 15, \"Málaga\") ➞ \"Soy Ana tego 15 años, vivo en Málaga y mañana cumplo 16 años\"\n",
        "    1. biografia(\"Jose\", 16, \"Ávila\") ➞ \"Soy Jose tego 16 años, vivo en Ávila y mañana cumplo 17 años\"\n",
        "    1. biografia(\"Mar\", 17, \"Cádiz\") ➞ \"Soy Mar tego 17 años, vivo en Cádiz y mañana cumplo 18 años\"\n"
      ],
      "metadata": {
        "id": "bGRMENljntno"
      }
    },
    {
      "cell_type": "markdown",
      "source": [
        "## Reto 40:\n"
      ],
      "metadata": {
        "id": "1Qgl2wxlntn4"
      }
    },
    {
      "cell_type": "markdown",
      "source": [
        "## Reto 40:\n"
      ],
      "metadata": {
        "id": "TVDPcAuHntoF"
      }
    },
    {
      "cell_type": "markdown",
      "source": [
        "## Reto 40:\n"
      ],
      "metadata": {
        "id": "mpfdl2aXntoU"
      }
    },
    {
      "cell_type": "markdown",
      "source": [
        "## Reto 50:\n"
      ],
      "metadata": {
        "id": "fizQ3Vu-z82T"
      }
    },
    {
      "cell_type": "markdown",
      "source": [
        "## Reto 50:\n"
      ],
      "metadata": {
        "id": "yD4DFPzZz88Q"
      }
    },
    {
      "cell_type": "markdown",
      "source": [
        "## Reto 50:\n"
      ],
      "metadata": {
        "id": "jSpetAOOz9Ax"
      }
    },
    {
      "cell_type": "markdown",
      "source": [
        "## Reto 50:\n"
      ],
      "metadata": {
        "id": "0Xh9QeBRz9GH"
      }
    },
    {
      "cell_type": "markdown",
      "source": [
        "## Reto 50:\n"
      ],
      "metadata": {
        "id": "WOb5Nogiz9K_"
      }
    },
    {
      "cell_type": "markdown",
      "source": [
        "## Reto 50:\n"
      ],
      "metadata": {
        "id": "rjHsjH3Mz9QP"
      }
    },
    {
      "cell_type": "markdown",
      "source": [
        "## Reto 50:\n"
      ],
      "metadata": {
        "id": "8OtKBQRfz9Vi"
      }
    },
    {
      "cell_type": "markdown",
      "source": [
        "## Reto 50:\n"
      ],
      "metadata": {
        "id": "t3EoMcciz9a1"
      }
    },
    {
      "cell_type": "markdown",
      "source": [
        "## Reto 50:\n"
      ],
      "metadata": {
        "id": "MfM6eDgYz9g1"
      }
    },
    {
      "cell_type": "markdown",
      "source": [
        "## Reto: Basic Variable Assignment\n",
        "* Un usuario está intentando crear su login en una web juntando su nombre y su edad.\n",
        "* Cree una función que retorne este login y así ayudarás a los usuarios sugiriéndoles una alterternativa.\n",
        "    1. login_sugerido(\"Ana\", 16) ➞ \"Ana16\"\n",
        "    2. login_sugerido(\"Luis2010\", 17) ➞ \"Luis201017\"\n",
        "    3. login_sugerido(\"mari@\", 18) ➞ \"mari@18\"\n"
      ],
      "metadata": {
        "id": "isZKqb-XSyT6"
      }
    },
    {
      "cell_type": "markdown",
      "source": [
        "## Reto : Recursion to Repeat a String n Number of Times\n",
        "* Cree una función recursiva que tome dos parámetros y repita la cadena n veces.\n",
        "* El primer parámetro es la cadena que se repetirá\n",
        "* El segundo parámetro es el número de veces que se repetirá la cadena.\n",
        "    1. repetition(\"ab\", 3) ➞ \"ababab\"\n",
        "    2. repetition(\"kiwi\", 1) ➞ \"kiwi\"\n",
        "    3. repetition(\"Cherry\", 2) ➞ \"CherryCherry\"\n",
        "\n"
      ],
      "metadata": {
        "id": "5vA_iDMVzyLM"
      }
    },
    {
      "cell_type": "code",
      "source": [
        "def repetition(txt, n):\n",
        "    if n == 1:\n",
        "        return txt\n",
        "    else:\n",
        "        return txt + repetition(txt, n-1)\n",
        "\n",
        "print(repetition(\"Cherry\", 3))"
      ],
      "metadata": {
        "colab": {
          "base_uri": "https://localhost:8080/"
        },
        "id": "Fwt6_epj5Ydo",
        "outputId": "667387ba-52ec-4ebe-b862-9e121330ec6f"
      },
      "execution_count": null,
      "outputs": [
        {
          "output_type": "stream",
          "name": "stdout",
          "text": [
            "CherryCherryCherry\n"
          ]
        }
      ]
    }
  ]
}