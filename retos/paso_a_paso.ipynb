{
  "nbformat": 4,
  "nbformat_minor": 0,
  "metadata": {
    "colab": {
      "provenance": [],
      "authorship_tag": "ABX9TyNJQS5rI8zVng23FiYkG/6C",
      "include_colab_link": true
    },
    "kernelspec": {
      "name": "python3",
      "display_name": "Python 3"
    },
    "language_info": {
      "name": "python"
    }
  },
  "cells": [
    {
      "cell_type": "markdown",
      "metadata": {
        "id": "view-in-github",
        "colab_type": "text"
      },
      "source": [
        "<a href=\"https://colab.research.google.com/github/financieras/curso_python/blob/main/retos/paso_a_paso.ipynb\" target=\"_parent\"><img src=\"https://colab.research.google.com/assets/colab-badge.svg\" alt=\"Open In Colab\"/></a>"
      ]
    },
    {
      "cell_type": "markdown",
      "source": [
        "## Reto 1: Return the Sum of Two Numbers\n",
        "* Crea una función que tome dos números como argumentos y devuelva su suma.\n",
        "    1. sumar(3, 2) ➞ 5\n",
        "    1. sumar(-3, -6) ➞ -9\n",
        "    1. sumar(7, 3) ➞ 10"
      ],
      "metadata": {
        "id": "c1sQ-fIGDDs5"
      }
    },
    {
      "cell_type": "markdown",
      "source": [
        "## Reto 2: Convert Minutes into Seconds\n",
        "* Escribe una función que tome un número entero de minutos y lo convierta a segundos.\n",
        "    1. minutos_a_segundos(5) ➞ 300\n",
        "    1. minutos_a_segundos(3) ➞ 180\n",
        "    1. minutos_a_segundos(2) ➞ 120"
      ],
      "metadata": {
        "id": "hOLv-TIRDf6j"
      }
    },
    {
      "cell_type": "markdown",
      "source": [
        "## Reto 3: Return the Next Number from the Integer Passed\n",
        "* Cree una función que tome un número como argumento, incremente el número en +1 y devuelva el resultado.\n",
        "    1. suma_uno(0) ➞ 1\n",
        "    1. suma_uno(9) ➞ 10\n",
        "    1. suma_uno(-3) ➞ -2"
      ],
      "metadata": {
        "id": "WTawBnD9EVuF"
      }
    },
    {
      "cell_type": "markdown",
      "source": [
        "## Reto 4: Area of a Triangle\n",
        "* Escribe una función que tome la base y la altura de un triángulo y devuelva su área.\n",
        "    1. area_triangulo(3, 2) ➞ 3\n",
        "    1. area_triangulo(7, 4) ➞ 14\n",
        "    1. area_triangulo(10, 10) ➞ 50"
      ],
      "metadata": {
        "id": "bfTd-0bmFSBp"
      }
    },
    {
      "cell_type": "markdown",
      "source": [
        "## Reto 5: Return the First Element in an Array\n",
        "* Cree una función que reciba una lista y devuelva el primer elemento.\n",
        "    1. obtener_primer_valor(['a', 'e', 'i', 'o', 'u']) ➞ 'a'\n",
        "    1. obtener_primer_valor([80, 5, 100]) ➞ 80\n",
        "    1. obtener_primer_valor([-500, 0, 50]) ➞ -500"
      ],
      "metadata": {
        "id": "WJ_mA4xsGA-a"
      }
    },
    {
      "cell_type": "markdown",
      "source": [
        "## Reto 6: Power Calculator\n",
        "* Cree una función que tome `voltaje` y la `intensidad` de corriente y devuelva la `potencia` calculada.\n",
        "    1. potencia(230, 10) ➞ 2300\n",
        "    1. potencia(110, 3) ➞ 330\n",
        "    1. potencia(480, 20) ➞ 9600"
      ],
      "metadata": {
        "id": "lIodMfnfGeCi"
      }
    },
    {
      "cell_type": "markdown",
      "source": [
        "## Reto 7: Convert Hours into Seconds\n",
        "* Escribe una función que convierta `horas` en segundos.\n",
        "    1. horas_a_segundos(2) ➞ 7200\n",
        "    1. horas_a_segundos(10) ➞ 36000\n",
        "    1. horas_a_segundos(24) ➞ 86400"
      ],
      "metadata": {
        "id": "Npptws5vGczF"
      }
    },
    {
      "cell_type": "markdown",
      "source": [
        "## Reto 8: Return the Remainder from Two Numbers\n",
        "* Crea una función que reciba como parámetros el `numerador` y el `denominador` de una división y retorne el resto también llamado resíduo o módulo.\n",
        "    1. modulo(24, 5) ➞ 4\n",
        "    1. modulo(50, 10) ➞ 0\n",
        "    1. modulo(3, 4) ➞ 3"
      ],
      "metadata": {
        "id": "huBmVKl0Gc8j"
      }
    },
    {
      "cell_type": "markdown",
      "source": [
        "## Reto 9: Find the Perimeter of a Rectangle\n",
        "* Crea una función que tome el `largo` y el `ancho` de un rectángulo y retorne su perímetro.\n",
        "    1. perimetro(6, 7) ➞ 26\n",
        "    1. perimetro(20, 10) ➞ 60\n",
        "    1. perimetro(2, 9) ➞ 22"
      ],
      "metadata": {
        "id": "SGsmTdRwGdET"
      }
    },
    {
      "cell_type": "markdown",
      "source": [
        "## Reto 10: Return Something to Me!\n",
        "* Escribe una función que devuelva la cadena \"Mi\" unida con un espacio \" \" y el argumento dado.\n",
        "    1. algo_mio(\"coche\") ➞ \"Mi coche\"\n",
        "    1. algo_mio(\"verano mágico\") ➞ \"Mi verano mágico\"\n",
        "    1. algo_mio(\"Mi\") ➞ \"Mi Mi\""
      ],
      "metadata": {
        "id": "h_tb0PLbGdLr"
      }
    },
    {
      "cell_type": "markdown",
      "source": [
        "## Reto 11: Is the Number Less than or Equal to Zero?\n",
        "* Cree una función que tome un número como único argumento y devuelva verdadero si es menor o igual a cero; de lo contrario, devuelva falso.\n",
        "    1. menor_o_igual_a_cero(5) ➞ False\n",
        "    1. menor_o_igual_a_cero(0) ➞ True\n",
        "    1. menor_o_igual_a_cero(-2) ➞ True"
      ],
      "metadata": {
        "id": "rmZs31j9GdRp"
      }
    },
    {
      "cell_type": "markdown",
      "source": [
        "## Reto 12: Sum of Polygon Angles\n",
        "* Dado un polígono regular de `n` lados, devuelve la suma total de los ángulos internos (en grados).\n",
        "    1. grados_poligono(3) ➞ 180\n",
        "    2. grados_poligono(4) ➞ 360\n",
        "    3. grados_poligono(6) ➞ 720\n",
        "* `n` siempre será mayor que 2\n",
        "* La fórmula `(n - 2) * 180` da la suma de los ángulos de un polígono de `n` lados."
      ],
      "metadata": {
        "id": "5A-5eV-vGdWk"
      }
    },
    {
      "cell_type": "markdown",
      "source": [
        "## Reto 13: Basketball Points\n",
        "* Estás contando puntos para un partido de baloncesto, dada la cantidad de tiros de 2 y 3 puntos anotados, encuentra los puntos finales para el equipo y devuelve ese valor.\n",
        "    1. puntos(1, 1) ➞ 5\n",
        "    2. puntos(7, 5) ➞ 29\n",
        "    3. puntos(38, 8) ➞ 100"
      ],
      "metadata": {
        "id": "6kkb_cIDSuql"
      }
    },
    {
      "cell_type": "markdown",
      "source": [
        "## Reto 14: Less Than 100?\n",
        "* Dados dos números, devuelve verdadero si la suma de ambos números es menor que 100. De lo contrario, devuelve falso.\n",
        "    1. menor_que_cien(22, 15) ➞ True\n",
        "    2. menor_que_cien(93, 34) ➞ False\n",
        "    3. menor_que_cien(3, 17) ➞ True"
      ],
      "metadata": {
        "id": "wkinIHpfSybR"
      }
    },
    {
      "cell_type": "markdown",
      "source": [
        "## Reto: Buggy Code (Part 5)\n",
        "* ¡Jorge creó un bucle infinito!\n",
        "* Ayúdale arreglando el código para que los ejemplos siguientes trabajen correctamente.\n",
        "    1. generar_array(1) ➞ [1]\n",
        "    2. generar_array(3) ➞ [1, 2, 3]\n",
        "    3. generar_array(6) ➞ [1, 2, 3, 4, 5, 6]\n",
        "\n",
        "* Este es el código que no funciona bien:\n",
        "\n",
        "<pre>\n",
        "def generar_array(number):\n",
        "    numeros = []\n",
        "    i = 0\n",
        "    while i <= n:\n",
        "        numeros.append(i)\n",
        "    return numeros\n",
        "\n",
        "generar_array(1)\n",
        "generar_array(3)\n",
        "generar_array(6)\n",
        "</pre>"
      ],
      "metadata": {
        "id": "vto4bc1xSygj"
      }
    },
    {
      "cell_type": "markdown",
      "source": [
        "## Reto:\n"
      ],
      "metadata": {
        "id": "Q4BQ1xfASykd"
      }
    },
    {
      "cell_type": "markdown",
      "source": [
        "## Reto:\n"
      ],
      "metadata": {
        "id": "TWj9zKymSynK"
      }
    },
    {
      "cell_type": "markdown",
      "source": [
        "## Reto:\n"
      ],
      "metadata": {
        "id": "1wnjDFgHSywE"
      }
    },
    {
      "cell_type": "markdown",
      "source": [
        "## Reto:\n"
      ],
      "metadata": {
        "id": "55Q2ecLJSyz4"
      }
    },
    {
      "cell_type": "markdown",
      "source": [
        "## Reto:\n"
      ],
      "metadata": {
        "id": "ndW_fwNOSy7W"
      }
    },
    {
      "cell_type": "markdown",
      "source": [
        "## Reto:\n"
      ],
      "metadata": {
        "id": "jUbTfcSvSy-z"
      }
    },
    {
      "cell_type": "markdown",
      "source": [
        "## Reto: Basic Variable Assignment\n",
        "* Un usuario está intentando crear su login en una web juntando su nombre y su edad. Crea una función que retorne éste y así ayudarás a los usuarios.\n",
        "    1. login_sugerido(\"Ana\", 16) ➞ \"Ana16\"\n",
        "    2. login_sugerido(\"Luis2010\", 17) ➞ \"Luis201017\"\n",
        "    3. login_sugerido(\"mari@\", 18) ➞ \"mari@18\"\n"
      ],
      "metadata": {
        "id": "isZKqb-XSyT6"
      }
    }
  ]
}