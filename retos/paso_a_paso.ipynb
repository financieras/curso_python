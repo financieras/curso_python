{
  "nbformat": 4,
  "nbformat_minor": 0,
  "metadata": {
    "colab": {
      "provenance": [],
      "authorship_tag": "ABX9TyMmgOlQTDFq4vKvMdA6k75t",
      "include_colab_link": true
    },
    "kernelspec": {
      "name": "python3",
      "display_name": "Python 3"
    },
    "language_info": {
      "name": "python"
    }
  },
  "cells": [
    {
      "cell_type": "markdown",
      "metadata": {
        "id": "view-in-github",
        "colab_type": "text"
      },
      "source": [
        "<a href=\"https://colab.research.google.com/github/financieras/curso_python/blob/main/retos/paso_a_paso.ipynb\" target=\"_parent\"><img src=\"https://colab.research.google.com/assets/colab-badge.svg\" alt=\"Open In Colab\"/></a>"
      ]
    },
    {
      "cell_type": "markdown",
      "source": [
        "## Reto 1: Return the Sum of Two Numbers\n",
        "* Crea una función que tome dos números como argumentos y devuelva su suma.\n",
        "    1. sumar(3, 2) ➞ 5\n",
        "    1. sumar(-3, -6) ➞ -9\n",
        "    1. sumar(7, 3) ➞ 10"
      ],
      "metadata": {
        "id": "c1sQ-fIGDDs5"
      }
    },
    {
      "cell_type": "markdown",
      "source": [
        "## Reto 2: Convert Minutes into Seconds\n",
        "* Escribe una función que tome un número entero de `minutos` y lo convierta a segundos.\n",
        "    1. minutos_a_segundos(5) ➞ 300\n",
        "    1. minutos_a_segundos(3) ➞ 180\n",
        "    1. minutos_a_segundos(2) ➞ 120"
      ],
      "metadata": {
        "id": "hOLv-TIRDf6j"
      }
    },
    {
      "cell_type": "markdown",
      "source": [
        "## Reto 3: Return the Next Number from the Integer Passed\n",
        "* Cree una función que tome un número como argumento, incremente el número en +1 y devuelva el resultado.\n",
        "    1. suma_uno(0) ➞ 1\n",
        "    1. suma_uno(9) ➞ 10\n",
        "    1. suma_uno(-3) ➞ -2"
      ],
      "metadata": {
        "id": "WTawBnD9EVuF"
      }
    },
    {
      "cell_type": "markdown",
      "source": [
        "## Reto 4: Area of a Triangle\n",
        "* Escribe una función que tome la `base` y la `altura` de un triángulo y devuelva su área.\n",
        "    1. area_triangulo(3, 2) ➞ 3\n",
        "    1. area_triangulo(7, 4) ➞ 14\n",
        "    1. area_triangulo(10, 10) ➞ 50"
      ],
      "metadata": {
        "id": "bfTd-0bmFSBp"
      }
    },
    {
      "cell_type": "markdown",
      "source": [
        "## Reto 5: Return the First Element in an Array\n",
        "* Cree una función que reciba una lista y devuelva el primer elemento.\n",
        "    1. obtener_primer_valor(['a', 'e', 'i', 'o', 'u']) ➞ 'a'\n",
        "    1. obtener_primer_valor([80, 5, 100]) ➞ 80\n",
        "    1. obtener_primer_valor([-500, 0, 50]) ➞ -500"
      ],
      "metadata": {
        "id": "WJ_mA4xsGA-a"
      }
    },
    {
      "cell_type": "markdown",
      "source": [
        "## Reto 6: Power Calculator\n",
        "* Cree una función que tome `voltaje` y la `intensidad` de corriente y devuelva la `potencia` calculada.\n",
        "    1. potencia(230, 10) ➞ 2300\n",
        "    1. potencia(110, 3) ➞ 330\n",
        "    1. potencia(480, 20) ➞ 9600"
      ],
      "metadata": {
        "id": "lIodMfnfGeCi"
      }
    },
    {
      "cell_type": "markdown",
      "source": [
        "## Reto 7: Convert Hours into Seconds\n",
        "* Escribe una función que convierta `horas` en segundos.\n",
        "    1. horas_a_segundos(2) ➞ 7200\n",
        "    1. horas_a_segundos(10) ➞ 36000\n",
        "    1. horas_a_segundos(24) ➞ 86400"
      ],
      "metadata": {
        "id": "Npptws5vGczF"
      }
    },
    {
      "cell_type": "markdown",
      "source": [
        "## Reto 8: Return the Remainder from Two Numbers\n",
        "* Crea una función que reciba como parámetros el `numerador` y el `denominador` de una división y retorne el resto también llamado resíduo o módulo.\n",
        "    1. mod(24, 5) ➞ 4\n",
        "    1. mod(50, 10) ➞ 0\n",
        "    1. mod(3, 4) ➞ 3"
      ],
      "metadata": {
        "id": "huBmVKl0Gc8j"
      }
    },
    {
      "cell_type": "markdown",
      "source": [
        "## Reto 9: Return a String as an Integer\n",
        "* Cree una función que tome una cadena y la devuelva como un número entero.\n",
        "    1. string_to_int(\"6\") ➞ 6\n",
        "    2. string_to_int(\"1000\") ➞ 1000\n",
        "    3. string_to_int(\"12\") ➞ 12"
      ],
      "metadata": {
        "id": "qVN8HUR1aBF7"
      }
    },
    {
      "cell_type": "markdown",
      "source": [
        "## Reto 10: Find the Perimeter of a Rectangle\n",
        "* Crea una función que tome el `largo` y el `ancho` de un rectángulo y retorne su perímetro.\n",
        "    1. perimetro(6, 7) ➞ 26\n",
        "    1. perimetro(20, 10) ➞ 60\n",
        "    1. perimetro(2, 9) ➞ 22"
      ],
      "metadata": {
        "id": "SGsmTdRwGdET"
      }
    },
    {
      "cell_type": "markdown",
      "source": [
        "## Reto 11: Return Something to Me!\n",
        "* Escribe una función que devuelva la cadena \"Mi\" unida con un espacio \" \" y el argumento dado.\n",
        "    1. algo_mio(\"coche\") ➞ \"Mi coche\"\n",
        "    1. algo_mio(\"verano mágico\") ➞ \"Mi verano mágico\"\n",
        "    1. algo_mio(\"Mi\") ➞ \"Mi Mi\""
      ],
      "metadata": {
        "id": "h_tb0PLbGdLr"
      }
    },
    {
      "cell_type": "markdown",
      "source": [
        "## Reto 12: Is the Number Less than or Equal to Zero?\n",
        "* Cree una función que tome un número como único argumento y devuelva verdadero si es menor o igual a cero; de lo contrario, devuelva falso.\n",
        "    1. menor_o_igual_a_cero(5) ➞ False\n",
        "    1. menor_o_igual_a_cero(0) ➞ True\n",
        "    1. menor_o_igual_a_cero(-2) ➞ True"
      ],
      "metadata": {
        "id": "rmZs31j9GdRp"
      }
    },
    {
      "cell_type": "markdown",
      "source": [
        "## Reto 13: Name Greeting!\n",
        "* Cree una función que tome un nombre y devuelva un saludo en forma de cadena.\n",
        "    1. hello_name(\"Gerardo\") ➞ \"Hola Gerardo!\"\n",
        "    2. hello_name(\"Teresa\") ➞ \"Hola Teresa!\"\n",
        "    3. hello_name(\"Edu\") ➞ \"Hola Edu!\"\n",
        "* ¡No olvides el signo de exclamación!"
      ],
      "metadata": {
        "id": "s46QzxEwsteU"
      }
    },
    {
      "cell_type": "markdown",
      "source": [
        "## Reto 14: Buggy Code (Part 4)\n",
        "* Yvonne ha escrito una función que devuelve un saludo a sus amigos.\n",
        "* Pero tiene un amigo especial, Ares, al que quiere saludar de una forma diferente.\n",
        "* Añadió un caso especial en su función, pero cometió un error.\n",
        "* ¿Puedes intentar solucionar el error para que la función trabaje correctamente?\n",
        "    1. greeting(\"Matt\") ➞ \"Hello, Matt!\"\n",
        "    2. greeting(\"Helen\") ➞ \"Hello, Helen!\"\n",
        "    3. greeting(\"Ares\") ➞ \"Hello, my Love!\"\n",
        "* Esta es la función que da problemas:\n",
        "\n",
        "<pre>\n",
        "def greeting(name):\n",
        "\treturn \"Hello, \" + name + \"!\"\n",
        "\tif name == \"Ares\":\n",
        "\t\treturn \"Hello, my Love!\"\n",
        "</pre>"
      ],
      "metadata": {
        "id": "1pzgsdSjomf9"
      }
    },
    {
      "cell_type": "markdown",
      "source": [
        "## Reto 15: Sum of Polygon Angles\n",
        "* Dado un polígono regular de `n` lados, devuelve la suma total de los ángulos internos (en grados).\n",
        "    1. grados_poligono(3) ➞ 180\n",
        "    2. grados_poligono(4) ➞ 360\n",
        "    3. grados_poligono(6) ➞ 720\n",
        "* `n` siempre será mayor que 2\n",
        "* La fórmula `(n - 2) × 180` da la suma de los ángulos de un polígono de `n` lados."
      ],
      "metadata": {
        "id": "5A-5eV-vGdWk"
      }
    },
    {
      "cell_type": "markdown",
      "source": [
        "## Reto 16: To the Power of _____\n",
        "* Cree una función que tome un número base y un número exponente y devuelva el cálculo.\n",
        "    1. calcular_potencias(5, 3) ➞ 125\n",
        "    2. calcular_potencias(10, 4) ➞ 10000\n",
        "    3. calcular_potencias(3, 3) ➞ 27"
      ],
      "metadata": {
        "id": "dQhx7Ytkbhd1"
      }
    },
    {
      "cell_type": "markdown",
      "source": [
        "## Reto 17: Boolean to String Conversion\n",
        "* Cree una función que tome una bandera booleana y lo devuelva como una cadena.\n",
        "    1. bool_to_string(True) ➞ \"True\"\n",
        "    2. bool_to_string(False) ➞ \"False\"\n",
        "* La función puede comenzar así:\n",
        "\n",
        "<pre>\n",
        "def bool_to_string(flag):\n",
        "</pre>"
      ],
      "metadata": {
        "id": "znXBQ4UOcUp_"
      }
    },
    {
      "cell_type": "markdown",
      "source": [
        "## Reto 18: Basketball Points\n",
        "* Estás contando puntos para un partido de baloncesto, dada la cantidad de tiros de 2 y 3 puntos anotados.\n",
        "* Encuentra los puntos finales para el equipo y devuelve ese valor.\n",
        "    1. puntos(1, 1) ➞ 5\n",
        "    2. puntos(7, 5) ➞ 29\n",
        "    3. puntos(38, 8) ➞ 100"
      ],
      "metadata": {
        "id": "6kkb_cIDSuql"
      }
    },
    {
      "cell_type": "markdown",
      "source": [
        "## Reto 19: Less Than 100?\n",
        "* Dados dos números, devuelve verdadero si la suma de ambos números es menor que 100.\n",
        "* De lo contrario, devuelve falso.\n",
        "    1. menor_que_cien(22, 15) ➞ True\n",
        "    2. menor_que_cien(93, 34) ➞ False\n",
        "    3. menor_que_cien(3, 17) ➞ True"
      ],
      "metadata": {
        "id": "wkinIHpfSybR"
      }
    },
    {
      "cell_type": "markdown",
      "source": [
        "## Reto 20: Find the Largest Number in a List\n",
        "* Crea una función que tome una lista de números enteros no negativos.\n",
        "* Retorna el número más grande de la lista.\n",
        "    1. findLargestNum([4, 5, 1, 3]) ➞ 5\n",
        "    2. findLargestNum([300, 200, 600, 150]) ➞ 600\n",
        "    3. findLargestNum([1000, 1001, 857, 1]) ➞ 1001"
      ],
      "metadata": {
        "id": "xgBq9J3vw8X2"
      }
    },
    {
      "cell_type": "markdown",
      "source": [
        "## Reto 21: Find the Smallest Number in a List\n",
        "* Cree una función que tome una lista de números y devuelva el número más pequeño de la lista.\n",
        "* Los números pueden contener decimales y ser negativos.\n",
        "    1. find_smallest_num([34, 15, 88, 2]) ➞ 2\n",
        "    2. find_smallest_num([34, -345, -1, 100]) ➞ -345\n",
        "    3. find_smallest_num([-76, 1.345, 1, 0]) ➞ -76\n",
        "    4. find_smallest_num([0.4356, 0.8795, 0.5435, -0.9999]) ➞ -0.9999\n",
        "    5. find_smallest_num([7, 7, 7]) ➞ 7"
      ],
      "metadata": {
        "id": "kttACsV1x3q6"
      }
    },
    {
      "cell_type": "markdown",
      "source": [
        "## Reto 22: Difference of Max and Min Numbers in List\n",
        "* Diferencia de números máximos y mínimos en la lista\n",
        "    1. difference_max_min([10, 4, 1, 4, -10, -50, 32, 21]) ➞ 82  \n",
        "    \\# El número más pequeño es -50 y el mayor 32.\n",
        "\n",
        "    2. difference_max_min([44, 32, 86, 19]) ➞ 67  \n",
        "    \\# El número más pequeño es 19 y el más grande 86."
      ],
      "metadata": {
        "id": "jdFINvlIpjy_"
      }
    },
    {
      "cell_type": "markdown",
      "source": [
        "## Reto 23: Concatenating Two Integer Lists\n",
        "* Cree una función para concatenar dos listas de enteros.\n",
        "    1. concat([1, 3, 5], [2, 6, 8]) ➞ [1, 3, 5, 2, 6, 8]\n",
        "    2. concat([7, 8], [10, 9, 1, 1, 2]) ➞ [7, 8, 10, 9, 1, 1, 2]\n",
        "    3. concat([4, 5, 1], [3, 3, 3, 3, 3]) ➞ [4, 5, 1, 3, 3, 3, 3, 3]"
      ],
      "metadata": {
        "id": "YIrcaGQPq1al"
      }
    },
    {
      "cell_type": "markdown",
      "source": [
        "## Reto 24: Return the Last Element in a List\n",
        "* Cree una función que acepte una lista y devuelva el último elemento de la lista.\n",
        "* La lista puede contener diferentes tipos de datos.\n",
        "    1. get_last_item([1, 2, 3]) ➞ 3\n",
        "    2. get_last_item([\"cat\", \"dog\", \"duck\"]) ➞ \"duck\"\n",
        "    3. get_last_item([True, False, True]) ➞ True\n",
        "    4. get_last_item([7, \"String\", False]) ➞ False"
      ],
      "metadata": {
        "id": "uoA-bb5ErWmh"
      }
    },
    {
      "cell_type": "markdown",
      "source": [
        "## Reto 25: Buggy Code (Part 5)\n",
        "* ¡Jorge creó un bucle infinito!\n",
        "* Ayúdale arreglando el código para que los ejemplos siguientes trabajen correctamente.\n",
        "    1. generar_array(1) ➞ [1]\n",
        "    2. generar_array(3) ➞ [1, 2, 3]\n",
        "    3. generar_array(6) ➞ [1, 2, 3, 4, 5, 6]\n",
        "\n",
        "* Este es el código que no funciona bien:\n",
        "\n",
        "<pre>\n",
        "def generar_array(number):\n",
        "    numeros = []\n",
        "    i = 0\n",
        "    while i <= n:\n",
        "        numeros.append(i)\n",
        "    return numeros\n",
        "\n",
        "generar_array(1)\n",
        "generar_array(3)\n",
        "generar_array(6)\n",
        "</pre>"
      ],
      "metadata": {
        "id": "vto4bc1xSygj"
      }
    },
    {
      "cell_type": "markdown",
      "source": [
        "## Reto 26: Buggy Code (Part 7)\n",
        "* ¡Lucía quiere intercambiar dos números dados!\n",
        "* La función no está devolviendo los valores correctos.\n",
        "* ¿Puedes ayudarla solucionando los bugs?\n",
        "* Los valores retornados correctos deberían ser estos:\n",
        "    1. swap(100, 200) ➞ [200, 100]\n",
        "    2. swap(44, 33) ➞ [33, 44]\n",
        "    3. swap(0, -1) ➞ [-1, 0]\n",
        "\n",
        "* Este es el código que no está funcionando correctamente:\n",
        "\n",
        "<pre>\n",
        "del swap(a, b)\n",
        "\tb = a\n",
        "\ta = b\n",
        "\treturn [a, b]\n",
        "\n",
        "a = 100\n",
        "b = 200\n",
        "print(swap(a, b))\n",
        "\n",
        "a, b = 33, 44\n",
        "print(swap(a, b))\n",
        "\n",
        "print(swap(0, -1))\n",
        "</pre>"
      ],
      "metadata": {
        "id": "Q4BQ1xfASykd"
      }
    },
    {
      "cell_type": "markdown",
      "source": [
        "## Reto 27: The Farm Problem\n",
        "* Un granjero te pide que le digas cuántas patas pueden contar entre todos sus animales.\n",
        "* El granjero cría tres especies: gallinas, vacas y cerdos.\n",
        "* El orden de los animales pasados ​​es animales (gallinas, vacas, cerdos).\n",
        "* Recuerde que el granjero quiere saber el número total de patas y no el número total de animales.\n",
        "    1. patas(2, 3, 5) ➞ 36\n",
        "    2. patas(1, 2, 3) ➞ 22\n",
        "    3. patas(5, 2, 8) ➞ 50"
      ],
      "metadata": {
        "id": "TWj9zKymSynK"
      }
    },
    {
      "cell_type": "markdown",
      "source": [
        "## Reto 28: Using the \"&&\" Operator\n",
        "* Python tiene el operador lógico `and`.\n",
        "* El operador `and` toma dos valores booleanos y devuelve verdadero si ambos valores son verdaderos.\n",
        "* Devuelve falso en cualquier otro caso.\n",
        "    1. funcion_and(True, True) ➞ True\n",
        "    2. funcion_and(True, False) ➞ False\n",
        "    3. funcion_and(False, False) ➞ False\n",
        "    4. funcion_and(False, False) ➞ False"
      ],
      "metadata": {
        "id": "1wnjDFgHSywE"
      }
    },
    {
      "cell_type": "markdown",
      "source": [
        "## Reto 29: Are the Numbers Equal?\n",
        "* Cree una función que devuelva verdadero cuando num1 sea igual a num2\n",
        "* En caso contrario, devuelve falso.\n",
        "    1. son_iguales(4, -4) ➞ False\n",
        "    2. son_iguales(3, 4) ➞ True\n",
        "    3. son_iguales(1, \"1\") ➞ False"
      ],
      "metadata": {
        "id": "55Q2ecLJSyz4"
      }
    },
    {
      "cell_type": "markdown",
      "source": [
        "## Reto 30: Football Points\n",
        "* En cierto juego de mesa cada ronda recibe unos puntos según este criterio:\n",
        "    - Las victorias dan 3 puntos\n",
        "    - Los empates dan 1 punto\n",
        "    - Las derrotas dan 0 puntos\n",
        "* Crear una función que de los puntos obtenidos según el número de victorias, empates y derrotas obtenidas.\n",
        "     1. puntos_obtenidos(3, 4, 2) ➞ 13\n",
        "     2. puntos_obtenidos(5, 0, 2) ➞ 15\n",
        "     3. puntos_obtenidos(0, 0, 1) ➞ 0\n",
        "* El orden de los argumentos ha de ser:\n",
        "    - `puntos_obtenidos(victorias, empates, derrotas)`\n",
        "* Los argumentos de la función serán siempre números enteros mayores o iguales a 0."
      ],
      "metadata": {
        "id": "ndW_fwNOSy7W"
      }
    },
    {
      "cell_type": "markdown",
      "source": [
        "## Reto 31: Convert Hours and Minutes into Seconds\n",
        "* Escribe una función que tome dos números enteros (horas, minutos) y devuelva el número de segundos contenidos en ese tiempo.\n",
        "    1. convert_a_segundos(1, 3) ➞ 3780\n",
        "    2. convert_a_segundos(2, 0) ➞ 7200\n",
        "    3. convert_a_segundos(0, 0) ➞ 0\n"
      ],
      "metadata": {
        "id": "lZj9FWGlykGc"
      }
    },
    {
      "cell_type": "markdown",
      "source": [
        "## Reto 32: Burglary Series (14): Adjectives Total\n",
        "* Vamos a una escuela infantil y preguntamos a varios niños por los colores que conocen en otros idiomas.\n",
        "* Cada respuesta la anotamos en un **diccionario** de Python.\n",
        "* Crear una función que retorne el número de respuestas contenidas en cada diccionario.\n",
        "    1. cantidad_colores({'rojo': 'red', 'azul': 'blue', 'amarillo': 'yellow', 'rosa': 'pink'}) ➞ 4\n",
        "    2. cantidad_colores({'azul': 'blue', 'rojo': 'red', 'negro': 'black'}) ➞ 3\n",
        "    3. cantidad_colores({'blanco': 'bianco', 'negro': 'nero', 'rojo': 'rosso'}) ➞ 3"
      ],
      "metadata": {
        "id": "EcMXJoZge1H6"
      }
    },
    {
      "cell_type": "markdown",
      "source": [
        "## Reto 33: String to Integer and Vice Versa\n",
        "* Escribe dos funciones:\n",
        "    - `to_int()`: una función para convertir una cadena en un número entero.\n",
        "    - `to_str()`: una función para convertir un número entero en una cadena.\n",
        "    1. to_int(\"77\") ➞ 77\n",
        "    2. to_int(\"532\") ➞ 532\n",
        "    3. to_str(77) ➞ \"77\"\n",
        "    4. to_str(532) ➞ \"532\""
      ],
      "metadata": {
        "id": "BFSsVGkRh54B"
      }
    },
    {
      "cell_type": "markdown",
      "source": [
        "## Reto 34: Check if objOne Is Equal to objTwo\n",
        "* Cree una función que verifique si dos argumentos de objeto son iguales entre sí.\n",
        "* Devuelve True si los objetos son iguales; de lo contrario, devuelve False.\n",
        "    1. Ejemplo 1. Aterando el orden de las parejas `clave:valor`\n",
        "    <pre>\n",
        "    # The first object parameter.\n",
        "obj_one = {\n",
        "  \"name\": \"Alex\",\n",
        "  \"phone\": \"687654321\",\n",
        "  \"email\": \"alex@gmail.com\"\n",
        "}\n",
        "    </pre>\n",
        "\n",
        "    <pre>\n",
        "# The second object parameter.\n",
        "obj_two = {\n",
        "  \"name\": \"Alex\",\n",
        "  \"email\": \"alex@gmail.com\",\n",
        "  \"phone\": \"687654321\"\n",
        "}\n",
        "</pre>\n",
        "\n",
        "    is_equal(obj_one, obj_two) ➞ True\n",
        "\n",
        "2. Ejemplo 2.\n",
        "    <pre>\n",
        "    # The first object parameter.\n",
        "obj_one = {\n",
        "  \"name\": \"Julia\",\n",
        "  \"phone\": \"612345678\",\n",
        "  \"email\": \"julia@gmail.com\"\n",
        "}\n",
        "    </pre>\n",
        "\n",
        "    <pre>\n",
        "# The second object parameter.\n",
        "obj_two = {\n",
        "  \"nombre\": \"Julia\",\n",
        "  \"telefono\": \"612345678\",\n",
        "  \"correo\": \"julia@gmail.com\"\n",
        "}\n",
        "</pre>\n",
        "\n",
        "    is_equal(obj_one, obj_two) ➞ False\n",
        "\n"
      ],
      "metadata": {
        "id": "AzEc5OxujTmX"
      }
    },
    {
      "cell_type": "markdown",
      "source": [
        "## Reto 35: Fix the Expression\n",
        "* Corrija el código siguiente para que la función devuelva verdadero si y solo si x es igual a 7.\n",
        "    1. es_siete(4) ➞ False\n",
        "    2. es_siete(9) ➞ False\n",
        "    3. es_siete(7) ➞ True\n",
        "* Consulta el **operador ternario** en Python\n",
        "* El código que no funciona correctamente es este:\n",
        "\n",
        "<pre>\n",
        "def es_siete(x):\n",
        "\tretur True if x=\"7\" else False\n",
        "</pre>\n"
      ],
      "metadata": {
        "id": "kIoWDOrDykTZ"
      }
    },
    {
      "cell_type": "markdown",
      "source": [
        "## Reto 36: Equality Check\n",
        "* Debe verificar la igualdad de dos valores diferentes dados los parámetros `a` y `b`.\n",
        "* Tanto el valor como el tipo de dato de los argumentos deben ser iguales.\n",
        "    1. check_igualdad(7, \"7\") ➞ False\n",
        "    2. check_igualdad(1, True) ➞ False\n",
        "    3. check_igualdad(1, --1) ➞ True\n",
        "    4. check_igualdad(0, 'False') ➞ False\n",
        "    5. check_igualdad(4, abs(-4)) ➞ True\n",
        "* Para el tipo de dato use la función interna `type()`\n",
        "* La función `abs()` calcula el valor absoluto de un número"
      ],
      "metadata": {
        "id": "uBgvowa5ykdn"
      }
    },
    {
      "cell_type": "markdown",
      "source": [
        "## Reto 37: Two Makes Ten\n",
        "* Crea una función que tome dos argumentos. Ambos argumentos son números enteros, a y b. Devuelve Verdadero si uno de ellos es 10 o si su suma es 10.\n",
        "    1. makes10(9, 10) ➞ True\n",
        "    2. makes10(9, 9) ➞ False\n",
        "    3. makes10(1, 9) ➞ True"
      ],
      "metadata": {
        "id": "iSVovXfZtz1E"
      }
    },
    {
      "cell_type": "markdown",
      "source": [
        "## Reto 38: Check if an Integer is Divisible By Five\n",
        "* Create a function that returns True if an integer is evenly divisible by 5, and False otherwise.\n",
        "    1. divisible_by_five(5) ➞ True\n",
        "    2. divisible_by_five(-55) ➞ True\n",
        "    3. divisible_by_five(37) ➞ False"
      ],
      "metadata": {
        "id": "_3AbqOSluZXt"
      }
    },
    {
      "cell_type": "markdown",
      "source": [
        "## Reto 39: Profitable Gamble\n",
        "* Cree una función que tome tres argumentos `probabilidad`, `premio`, `pago` y devuelva verdadero si `probabilidad * premio > pago`; de lo contrario, devuelve falso.\n",
        "* Ejemplo\n",
        "    - `apuesta_rentable(0.2, 50, 9)`\n",
        "    - debería ser verdadero, ya que el beneficio neto es 1\n",
        "    - (0.2 * 50 - 9) es 1 y se cumple que 1 > 0.\n",
        "    1. apuesta_rentable(0.2, 50, 9) ➞ True\n",
        "    2. apuesta_rentable(0.9, 1, 2) ➞ False\n",
        "    3. apuesta_rentable(0.9, 3, 2) ➞ True"
      ],
      "metadata": {
        "id": "hndooM_tymog"
      }
    },
    {
      "cell_type": "markdown",
      "source": [
        "## Reto 40: Get the Sum of All List Elements\n",
        "* Cree una función que tome una lista y devuelva la suma de todos los números de la lista.\n",
        "    1. get_sum_of_elements([2, 7, 4]) ➞ 13\n",
        "    2. get_sum_of_elements([45, 3, 0]) ➞ 48\n",
        "    3. get_sum_of_elements([-2, 84, 23]) ➞ 105\n"
      ],
      "metadata": {
        "id": "uH0q2k3AymvL"
      }
    },
    {
      "cell_type": "markdown",
      "source": [
        "## Reto 41: Frames Per Second\n",
        "* Cree una función que devuelva el número de fotogramas mostrados en un número determinado de minutos para un determinado FPS.\n",
        "* FPS significa \"fotogramas por segundo\" y es la cantidad de fotogramas que muestra la pantalla de una computadora cada segundo.\n",
        "    1. frames(1, 1) ➞ 60\n",
        "    2. frames(10, 1) ➞ 600\n",
        "    3. frames(10, 25) ➞ 15000\n"
      ],
      "metadata": {
        "id": "sIkIwIhrym10"
      }
    },
    {
      "cell_type": "markdown",
      "source": [
        "## Reto 42: Multiple of 100\n",
        "* Cree una función que tome un número entero y devuelva Verdadero si es divisible por 100; de lo contrario, devuelva Falso.\n",
        "    1. divisible(1) ➞ False\n",
        "    2. divisible(1000) ➞ True\n",
        "    3. divisible(100) ➞ True\n"
      ],
      "metadata": {
        "id": "ZtQLbKpvym7z"
      }
    },
    {
      "cell_type": "markdown",
      "source": [
        "## Reto 43: Testing K^K == N?\n",
        "* Escriba una función que devuelva True si k^k == n para la entrada (k, n)\n",
        "* y devuelva False en caso contrario.\n",
        "    1. k_to_k(2, 4) ➞ True\n",
        "    2. k_to_k(9, 387420489) ➞ True  \n",
        "    3. k_to_k(5, 3124) ➞ False\n",
        "    4. k_to_k(3, 17) ➞ False\n",
        "* Nueve elevado a nueve es $9^{9} = 387420489$\n"
      ],
      "metadata": {
        "id": "9TtBcMbWynC5"
      }
    },
    {
      "cell_type": "markdown",
      "source": [
        "## Reto 44: Buggy Code (Part 2)\n",
        "* Corrija el código en la pestaña de código para superar este desafío (solo errores de sintaxis). Mire los ejemplos siguientes para tener una idea de lo que debe hacer la función.\n",
        "    1. max_num(3, 7) ➞ 7\n",
        "    2. max_num(-1, -4) ➞ -1\n",
        "    2. max_num(10, 10) ➞ 10\n",
        "* El código que da problemas es el siguiente:\n",
        "\n",
        "<pre>\n",
        "def max_num(n1, n2):\n",
        "\tif n1 > n2:\n",
        "\t\treturn n2\n",
        "\telif:\n",
        "\t\treturn n1\n",
        "</pre>\n"
      ],
      "metadata": {
        "id": "tJ6I-ImMynKm"
      }
    },
    {
      "cell_type": "markdown",
      "source": [
        "## Reto 45: Compare Strings by Count of Characters\n",
        "* Cree una función que tome dos cadenas como argumentos y devuelva `True` o `False` dependiendo de si el número total de caracteres en la primera cadena es igual al número total de caracteres en la segunda cadena.\n",
        "    1. comp(\"AB\", \"cd\") ➞ True\n",
        "    2. comp(\"ABC\", \"DE\") ➞ False\n",
        "    3. comp(\"hello\", \"Madrid\") ➞ False\n",
        "    4. comp(\"XY\", \"42\") ➞ True"
      ],
      "metadata": {
        "id": "aHMUHOt_zlRT"
      }
    },
    {
      "cell_type": "markdown",
      "source": [
        "## Reto 46: Divides Evenly\n",
        "* Dados dos números enteros, `a` y `b`, devuelve `True` si a se puede dividir uniformemente entre `b`.\n",
        "* Devuelve `False` en caso contrario.\n",
        "    1. divides_evenly(98, 7) ➞ True  \n",
        "    \\# 98/7 = 14\n",
        "    2. divides_evenly(85, 4) ➞ False  \n",
        "    \\# 85/4 = 21.25\n"
      ],
      "metadata": {
        "id": "F8WNfl5szxTo"
      }
    },
    {
      "cell_type": "markdown",
      "source": [
        "## Reto 47: Let's Fuel Up!\n",
        "* Un vehículo necesita 10 veces más combustible que la distancia que recorre.\n",
        "* Sin embargo, siempre debe llevar un mínimo de 100 de combustible antes de partir.\n",
        "* Cree una función que calcule la cantidad de combustible que necesita, dada la distancia.\n",
        "    1. calculate_fuel(15) ➞ 150\n",
        "    2. calculate_fuel(23.5) ➞ 235\n",
        "    3. calculate_fuel(3) ➞ 100\n",
        "* La distancia será un número mayor que cero.\n",
        "* Devuelve 100 si el combustible calculado resulta ser inferior a 100."
      ],
      "metadata": {
        "id": "KL8LNZmnzx_N"
      }
    },
    {
      "cell_type": "markdown",
      "source": [
        "## Reto 48: Is the String Empty?\n",
        "* Cree una función que devuelva `True` si una cadena está vacía y `False` en caso contrario.\n",
        "    1. is_empty(\"\") ➞ True\n",
        "    2. is_empty(\" \") ➞ False\n",
        "    3. is_empty(\"a\") ➞ False\n",
        "* Una cadena que contiene algún espacio en blanco `\" \"` no cuenta como vacía."
      ],
      "metadata": {
        "id": "7woygAxxzyFh"
      }
    },
    {
      "cell_type": "markdown",
      "source": [
        "## Reto 49: Return Negative\n",
        "* Cree una función que tome un número como argumento y devuelva un negativo de ese número. * Si el número previamente ya es negativo lo devuelve sin ningún cambio.\n",
        "    1. return_negative(4) ➞ -4\n",
        "    2. return_negative(15) ➞ -15\n",
        "    3. return_negative(-4) ➞ -4\n",
        "    4. return_negative(0) ➞ 0\n"
      ],
      "metadata": {
        "id": "YEjGoQpPzyRK"
      }
    },
    {
      "cell_type": "markdown",
      "source": [
        "## Reto 50: Sum of List Less Than 100 List Remix\n",
        "* Crear una función que reciba una lista de números\n",
        "* Se retorna `True` si la suma de los valores de la lista es menor que 100\n",
        "* de lo contrario, se retorna `False`\n",
        "    1. menos_que_100([5, 57]) ➞ True\n",
        "    2. menos_que_100([77, 30]) ➞ False\n",
        "    3. menos_que_100([0]) ➞ True\n",
        "    4. menos_que_100([7, 33, 15]) ➞ True\n",
        "\n"
      ],
      "metadata": {
        "id": "emD22dC-zyWu"
      }
    },
    {
      "cell_type": "markdown",
      "source": [
        "## Reto 51: Concatenate First and Last Name into One String\n",
        "* Una función recibe dos parámetros: nombre y apellido, en este orden.\n",
        "* La función retorna una cadena que contiene primero el apellido y luego el nombre, separados por coma y espacio.\n",
        "    1. concatenar_nombre(\"Jose\", \"Ruiz\") ➞ \"Ruiz, Jose\"\n",
        "    2. concatenar_nombre(\"Ana\", \"Díaz\") ➞ \"Díaz, Ana\"\n",
        "    3. concatenar_nombre(\"Maria\", \"Ortiz\") ➞ \"Ortiz, Maria\"\n"
      ],
      "metadata": {
        "id": "cx9UNV3Rzydb"
      }
    },
    {
      "cell_type": "markdown",
      "source": [
        "## Reto 52: Miserable Parody of a Calculator\n",
        "* Cree una función que maneje expresiones matemáticas simples.\n",
        "* La entrada es una expresión en forma de string.\n",
        "    1. calculadora(\"23+4\") ➞ 27\n",
        "    2. calculadora(\"45-15\") ➞ 30\n",
        "    3. calculadora(\"13+2-5*2\") ➞ 5\n",
        "    4. calculadora(\"49/7*2-3\") ➞ 11\n"
      ],
      "metadata": {
        "id": "rIJcTIllzykJ"
      }
    },
    {
      "cell_type": "markdown",
      "source": [
        "## Reto 53: Concatenating First and Last Character of a String\n",
        "* Cree una función que tome una cadena y devuelva el primer y último carácter concatenados.\n",
        "    1. primero_ultimo(\"Martinez\") ➞ \"Mz\"\n",
        "    2. primero_ultimo(\"hola\") ➞ \"ha\"\n",
        "    3. primero_ultimo(\"verano 2025\") ➞ \"v5\""
      ],
      "metadata": {
        "id": "mciItVkzzyrJ"
      }
    },
    {
      "cell_type": "markdown",
      "source": [
        "## Reto 54: Is the String Odd or Even?\n",
        "* Dada una cadena, devuelve `True` si su longitud es par o `False` si la longitud es impar.\n",
        "    1. longitud_par(\"Ana\") ➞ False\n",
        "    2. longitud_par(\"Anna\") ➞ True\n",
        "    3. longitud_par(\"aguacate\") ➞ True\n",
        "    3. longitud_par(\"New York\") ➞ True\n"
      ],
      "metadata": {
        "id": "gnI8xq9wzlWP"
      }
    },
    {
      "cell_type": "markdown",
      "source": [
        "## Reto 55: Pair Management\n",
        "* Dados dos argumentos, devuelve una lista que contiene estos dos argumentos.\n",
        "    1. listar_dos(1, 2) ➞ [1, 2]\n",
        "    2. listar_dos(51, 21) ➞ [51, 21]\n",
        "    3. listar_dos(-4, 215) ➞ [-4, 215]\n"
      ],
      "metadata": {
        "id": "uYhifBO2z6KK"
      }
    },
    {
      "cell_type": "markdown",
      "source": [
        "## Reto 56: Front 3 - Slice Check Repeat Concatenate\n",
        "* Cree una función que reciba una cadena\n",
        "* Diremos que el `inicio` son los primeros tres caracteres de la cadena.\n",
        "* Si la longitud de la cadena es inferior a tres caracteres, el `inicio` es lo que esté allí.\n",
        "* La función retorna una nueva cadena, que son tres copias del `inicio`.\n",
        "    1. inicio_tres(\"Python\") ➞ \"PytPytPyt\"\n",
        "    2. inicio_tres(\"Cuchara\") ➞ \"CucCucCuc\"\n",
        "    3. inicio_tres(\"biofrutas\") ➞ \"biobiobio\"\n"
      ],
      "metadata": {
        "id": "eJnHHpRnz6TI"
      }
    },
    {
      "cell_type": "markdown",
      "source": [
        "## Reto 57: Fix the Error: Value vs. Reference Types\n",
        "* Escribe una función que devuelva `True` si el número entero recibido es impar y `False` si es par.\n",
        "* Tenemos una función que da error y además no funciona bien.\n",
        "* Trate de mejorar la función, o aún mejor, refactorice el código para hacer una función mejor.\n",
        "    1. es_impar(5) ➞ True\n",
        "    2. es_impar(8) ➞ False\n",
        "    3. es_impar(0) ➞ False\n",
        "    4. es_impar(-3) ➞ True\n",
        "* La función incorrecta es esta:\n",
        "\n",
        "<pre>\n",
        "def es_impar(n):\n",
        "\tif n % 2 == 0:\n",
        "\t\treturn True\n",
        "\telif n % 2 == 1\n",
        "\t\treturn False\n",
        "</pre>\n",
        "\n"
      ],
      "metadata": {
        "id": "wWvRVfvSz6Yy"
      }
    },
    {
      "cell_type": "markdown",
      "source": [
        "## Reto 58: Convert Number to String of Dashes\n",
        "* Cree una función que tome un número `n` (entre 1 y 30) y devuelva una cadena de `n`guiones.\n",
        "    1. n_guiones(1) ➞ \"-\"\n",
        "    2. n_guiones(5) ➞ \"-----\"\n",
        "    3. n_guiones(3) ➞ \"---\"\n"
      ],
      "metadata": {
        "id": "bafH9RmQz6eC"
      }
    },
    {
      "cell_type": "markdown",
      "source": [
        "## Reto 59: Area of a Rectangle\n",
        "* Crea una función que calcule el área de un rectángulo.\n",
        "* Si los argumentos no son válidos, su función debe devolver -1.\n",
        "        1. area(3, 4) ➞ 12\n",
        "        2. area(10, 11) ➞ 110\n",
        "        3. area(-1, 5) ➞ -1\n",
        "        4. area(0, 2) ➞ -1"
      ],
      "metadata": {
        "id": "88P3tWD8z6i-"
      }
    },
    {
      "cell_type": "markdown",
      "source": [
        "## Reto 60: Check if a List Contains a Given Number\n",
        "* Escriba una función para verificar si una lista contiene el número dado.\n",
        "check([1, 2, 3, 4, 5], 3) ➞ True\n",
        "\n",
        "check([1, 1, 2, 1, 1], 3) ➞ False\n",
        "\n",
        "check([5, 5, 5, 6], 5) ➞ True\n",
        "\n",
        "check([], 5) ➞ False\n"
      ],
      "metadata": {
        "id": "AbBpdN1gz6n1"
      }
    },
    {
      "cell_type": "markdown",
      "source": [
        "## Reto 61: Is the Number Even or Odd?\n",
        "* Cree una función que tome un número como argumento y devuelva \"par\" para números pares e \"impar\" para números impares.\n",
        "isEvenOrOdd(3) ➞ \"odd\"\n",
        "\n",
        "isEvenOrOdd(146) ➞ \"even\"\n",
        "\n",
        "isEvenOrOdd(-19) ➞ \"odd\"\n"
      ],
      "metadata": {
        "id": "FRr7GkgBz6t5"
      }
    },
    {
      "cell_type": "markdown",
      "source": [
        "## Reto 62: Is the Word Singular or Plural?\n",
        "* Cree una función que tome una palabra y determine si es plural o no. Una palabra plural es aquella que termina en \"s\".\n",
        "is_plural(\"changes\") ➞ True\n",
        "\n",
        "is_plural(\"change\") ➞ False\n",
        "\n",
        "is_plural(\"dudes\") ➞ True\n",
        "\n",
        "is_plural(\"magic\") ➞ False\n"
      ],
      "metadata": {
        "id": "DxN0UYoAz64b"
      }
    },
    {
      "cell_type": "markdown",
      "source": [
        "## Reto 63: On/Off Switches\n",
        "Cree una función que devuelva cuántas disposiciones posibles pueden provenir de un determinado número de interruptores (encendido/apagado). En otras palabras, para un número determinado de interruptores, ¿cuántos patrones diferentes de encendido y apagado podemos tener?\n",
        "pos_com(1) ➞ 2\n",
        "\n",
        "pos_com(3) ➞ 8\n",
        "\n",
        "pos_com(10) ➞ 1024\n"
      ],
      "metadata": {
        "id": "Qr1u5eabzlbL"
      }
    },
    {
      "cell_type": "markdown",
      "source": [
        "## Reto 64: Is the Last Character an \"N\"?\n",
        "Cree una función que tome una cadena (un nombre aleatorio). Si el último carácter del nombre es una \"n\", devuelve Verdadero; en caso contrario, devuelve Falso.\n",
        "is_last_character_n(\"Aiden\") ➞ True\n",
        "\n",
        "is_last_character_n(\"Piet\") ➞ False\n",
        "\n",
        "is_last_character_n(\"Bert\") ➞ False\n",
        "\n",
        "is_last_character_n(\"Dean\") ➞ True\n"
      ],
      "metadata": {
        "id": "Yd1VWEmDz6zH"
      }
    },
    {
      "cell_type": "markdown",
      "source": [
        "## Reto 65: Find the Bug: Returning the Container\n",
        "¡El sistema de embalaje se está volviendo loco! Los dulces están sueltos por todo el almacén, falta el cereal y hay pan metido en una botella. ¿Que esta pasando aqui? Los dulces deben estar en plástico y el pan en una bolsa.\n",
        "\n",
        "La máquina envasadora ejecuta la función get_container() para recuperar el contenedor de un producto. Pero algo no está bien...\n",
        "\n",
        "get_container(\"Bread\") ➞ \"bag\"\n",
        "\n",
        "get_container(\"Beer\") ➞ \"bottle\"\n",
        "\n",
        "get_container(\"Candy\") ➞ \"plastic\"\n",
        "\n",
        "get_container(\"Cheese\") ➞ None\n"
      ],
      "metadata": {
        "id": "FoWAJyPBWeog"
      }
    },
    {
      "cell_type": "markdown",
      "source": [
        "## Reto 66: Buggy Code (Part 3)\n",
        "Corrija el código en la pestaña de código para superar este desafío (solo errores de sintaxis). Mire los ejemplos siguientes para tener una idea de lo que debe hacer la función.\n",
        "\n",
        "sum_lst([1, 2, 3, 4, 5]) ➞ 15\n",
        "\n",
        "sum_lst([-1, 0, 1]) ➞ 0\n",
        "\n",
        "sum_lst([0, 4, 8, 12]) ➞ 24\n",
        "\n",
        "def sum_lst(lst):\n",
        "\ttotal\n",
        "\tfor i in range(0,lst):\n",
        "\t\ttotal += lst[i]\n",
        "  return total\n"
      ],
      "metadata": {
        "id": "UTLb81S6We2L"
      }
    },
    {
      "cell_type": "markdown",
      "source": [
        "## Reto 67: Burrrrrrrp\n",
        "Cree una función que devuelva la cadena \"Burp\" con la cantidad de \"r\" determinada por los parámetros de entrada de la función.\n",
        "\n",
        "long_burp(3) ➞ \"Burrrp\"\n",
        "\n",
        "long_burp(5) ➞ \"Burrrrrp\"\n",
        "\n",
        "long_burp(9) ➞ \"Burrrrrrrrrp\"\n"
      ],
      "metadata": {
        "id": "iw1lGCGYWe6T"
      }
    },
    {
      "cell_type": "markdown",
      "source": [
        "## Reto 68: Char-to-ASCII\n",
        "Cree una función que devuelva el valor ASCII del carácter pasado.\n",
        "\n",
        "ctoa(\"A\") ➞ 65\n",
        "\n",
        "ctoa(\"m\") ➞ 109\n",
        "\n",
        "ctoa(\"[\") ➞ 91\n",
        "\n",
        "ctoa(\"\\\") ➞ 92"
      ],
      "metadata": {
        "id": "-hnzsWZ5We9y"
      }
    },
    {
      "cell_type": "markdown",
      "source": [
        "## Reto 69: WordCharWord\n",
        "Cree una función que coloque el primer argumento, un carácter, entre cada palabra del segundo argumento, una cadena.\n",
        "\n",
        "add(\"R\", \"python is fun\") ➞ \"pythonRisRfun\"\n",
        "\n",
        "add(\"#\", \"hello world!\") ➞ \"hello#world!\"\n",
        "\n",
        "add(\"#\", \" \") ➞ \"#\""
      ],
      "metadata": {
        "id": "ahhg7AhsWfBk"
      }
    },
    {
      "cell_type": "markdown",
      "source": [
        "## Reto 70: Moving House\n",
        "Me gustaría calcular cuánto tiempo en promedio he vivido en la misma casa. Dada la edad de una persona y el número de veces que se ha mudado de casa, devuelva el número promedio de años que ha pasado viviendo en la misma casa.\n",
        "\n",
        "years_in_one_house(30, 1) ➞ 15\n",
        "\n",
        "years_in_one_house(15, 2) ➞ 5\n",
        "\n",
        "years_in_one_house(80, 0) ➞ 80\n"
      ],
      "metadata": {
        "id": "SXm49HoIWfE3"
      }
    },
    {
      "cell_type": "markdown",
      "source": [
        "## Reto 71:\n",
        "Debido a un concepto de programación conocido como veracidad, ciertos valores pueden evaluarse (es decir, tomar el lugar de) booleanos. Por ejemplo, 1 (o cualquier número distinto de 0) suele ser equivalente a Verdadero y 0 suele ser equivalente a Falso.\n",
        "\n",
        "Cree una función que devuelva el opuesto del booleano dado, como un número.\n",
        "\n",
        "flip_bool(True) ➞ 0\n",
        "\n",
        "flip_bool(False) ➞ 1\n",
        "\n",
        "flip_bool(1) ➞ 0\n",
        "\n",
        "flip_bool(0) ➞ 1"
      ],
      "metadata": {
        "id": "Wx_mr5JjWfIX"
      }
    },
    {
      "cell_type": "markdown",
      "source": [
        "## Reto 72: Fix the Errors / Comparing Arrays\n",
        "El programador Pete está intentando crear una función que devuelva Verdadero si dos listas comparten la misma longitud y tienen valores numéricos idénticos en cada índice; de ​​lo contrario, devolverá Falso.\n",
        "\n",
        "Sin embargo, la solución que ofrece su función tiene un formato inesperado. ¿Puedes arreglar la función de Pete para que se comporte como se ve en los ejemplos siguientes?\n",
        "\n",
        "check_equals([1, 2], [1, 3]) ➞ False\n",
        "\n",
        "check_equals([1, 2], [1, 2]) ➞ True\n",
        "\n",
        "check_equals([4, 5, 6], [4, 5, 6]) ➞ True\n",
        "\n",
        "check_equals([4, 7, 6], [4, 5, 6]) ➞ False\n",
        "\n",
        "check_equals([1, 12], [11, 2]) ➞ False\n",
        "\n",
        "def check_equals(lst1, lst2):\n",
        "\tif [lst1[::] === lst2[::]]:\n",
        "\t\tprint(true)\n",
        "\telse:\n",
        "\t\tprint(false)\n",
        "\n"
      ],
      "metadata": {
        "id": "wtBc_7IpWfMG"
      }
    },
    {
      "cell_type": "markdown",
      "source": [
        "## Reto 73: Word without First Character\n",
        "Cree una función que tome una palabra y devuelva la nueva palabra sin incluir el primer carácter.\n",
        "\n",
        "new_word(\"apple\") ➞ \"pple\"\n",
        "\n",
        "new_word(\"cherry\") ➞ \"herry\"\n",
        "\n",
        "new_word(\"plum\") ➞ \"lum\""
      ],
      "metadata": {
        "id": "LzDEJWljWfPr"
      }
    },
    {
      "cell_type": "markdown",
      "source": [
        "## Reto 74: Triangle and Parallelogram Area Finder\n",
        "* Escribe una función que acepte base (decimal), altura (decimal) y forma (\"triángulo\", \"paralelogramo\") como entrada y calcule el área de esa forma.\n",
        "* El área de un triángulo es b * h / 2\n",
        "* El área de un paralelogramo es b * h\n",
        "\n",
        "area_shape(2, 3, \"triangle\") ➞ 3\n",
        "\n",
        "area_shape(8, 6, \"parallelogram\") ➞ 48\n",
        "\n",
        "area_shape(2.9, 1.3, \"parallelogram\") ➞ 3.77"
      ],
      "metadata": {
        "id": "oWNqE80mWfTn"
      }
    },
    {
      "cell_type": "markdown",
      "source": [
        "## Reto 75: Half, Quarter and Eighth\n",
        "Crea una función que tome un número y devuelva una lista de tres números: la mitad del número, un cuarto del número y un octavo del número.\n",
        "\n",
        "half_quarter_eighth(6) ➞ [3, 1.5, 0.75]\n",
        "\n",
        "half_quarter_eighth(22) ➞ [11, 5.5, 2.75]\n",
        "\n",
        "half_quarter_eighth(25) ➞ [12.5, 6.25, 3.125]\n"
      ],
      "metadata": {
        "id": "f1wFUd3JWfWo"
      }
    },
    {
      "cell_type": "markdown",
      "source": [
        "## Reto 76: Edaaaaabit\n",
        "Escriba una función que tome un número entero y devuelva una cadena con el número dado de \"a\" en Edabit.\n",
        "\n",
        "how_many_times(5) ➞ \"Edaaaaabit\"\n",
        "\n",
        "how_many_times(0) ➞ \"Edbit\"\n",
        "\n",
        "how_many_times(12) ➞ \"Edaaaaaaaaaaaabit\"\n"
      ],
      "metadata": {
        "id": "ByAlOR_yWfaa"
      }
    },
    {
      "cell_type": "markdown",
      "source": [
        "## Reto 77: Find the Smallest and Biggest Numbers\n",
        "Cree una función que acepte una lista de números y devuelva los números mínimo y máximo, en ese orden (como una lista).\n",
        "\n",
        "min_max([1, 2, 3, 4, 5]) ➞ [1, 5]\n",
        "\n",
        "min_max([2334454, 5]) ➞ [5, 2334454]\n",
        "\n",
        "min_max([1]) ➞ [1, 1]\n"
      ],
      "metadata": {
        "id": "QNz6oOpOWfeJ"
      }
    },
    {
      "cell_type": "markdown",
      "source": [
        "## Reto 78: Check String for Spaces\n",
        "Cree una función que devuelva True si una cadena contiene espacios.\n",
        "\n",
        "Una cadena vacía no contiene espacios.\n",
        "\n",
        "has_spaces(\"hello\") ➞ False\n",
        "\n",
        "has_spaces(\"hello, world\") ➞ True\n",
        "\n",
        "has_spaces(\" \") ➞ True\n",
        "\n",
        "has_spaces(\"\") ➞ False\n",
        "\n",
        "has_spaces(\",./!@#\") ➞ False\n"
      ],
      "metadata": {
        "id": "ls0gwknEWfhq"
      }
    },
    {
      "cell_type": "markdown",
      "source": [
        "## Reto 79: How Many D's Are There?\n",
        "* Crea una función que cuente cuántas D hay en una oración.\n",
        "* Su función no debe distinguir entre mayúsculas y minúsculas.\n",
        "\n",
        "count_d(\"My friend Dylan got distracted in school.\") ➞ 4\n",
        "\n",
        "count_d(\"Debris was scattered all over the yard.\") ➞ 3\n",
        "\n",
        "count_d(\"The rodents hibernated in their den.\") ➞ 3\n"
      ],
      "metadata": {
        "id": "QuGX0yp5WflL"
      }
    },
    {
      "cell_type": "markdown",
      "source": [
        "## Reto 80: City School Creating IDS\n",
        "Muchos IDS (para correos electrónicos o ID de Google) se crean utilizando el nombre de la persona.\n",
        "\n",
        "Cree una función que devolverá una identificación de cuatro caracteres utilizando el nombre y apellido de la persona. El primer carácter será la primera letra del nombre pero en minúsculas.\n",
        "\n",
        "Los siguientes tres caracteres serán los primeros tres caracteres del apellido, pero la primera letra estará en mayúscula y las otras dos en minúscula.\n",
        "\n",
        "create_id(\"mary\", \"lamb\") ➞ \"mLam\"\n",
        "\n",
        "create_id(\"John\", \"SMITH\") ➞ \"jSmi\"\n",
        "\n",
        "create_id(\"mary\", \"smith\") ➞ \"mSmi\"\n"
      ],
      "metadata": {
        "id": "-4yhXaL2Wfos"
      }
    },
    {
      "cell_type": "markdown",
      "source": [
        "## Reto 81: Destructuring Assignment\n",
        "* Dada una lista de números como por ejemplo:\n",
        "lst = [10, 20, 30, 40, 50]\n",
        "* deseamos recoger el contenido de la lista en tres variables:  \n",
        "    - primero ➞ 10\n",
        "    - segundo ➞ 20\n",
        "    - resto ➞ [30, 40, 50]\n",
        "* La función devolverá el contenido de las tres variables separado por comas.\n",
        "\n",
        "    1. separa([10, 20, 30, 40, 50]) ➞ 10, 20, [30, 40, 50]\n",
        "    2. separa([7, 8, 9, 10, 11, 99]) ➞ 7, 8, [9, 10, 10, 99]\n"
      ],
      "metadata": {
        "id": "dARrW21OWfsd"
      }
    },
    {
      "cell_type": "markdown",
      "source": [
        "## Reto 82: Smash Factor\n",
        "El factor Smash es un término en golf que se relaciona con la cantidad de energía transferida desde la cabeza del palo a la pelota de golf. La fórmula para calcular el factor smash es la velocidad de la pelota dividida por la velocidad del palo.\n",
        "\n",
        "Create a function that takes ball speed bs and club speed cs as arguments and returns the smash factor to the nearest hundredth.\n",
        "\n",
        "\n",
        "smash_factor(139.4, 93.8) ➞ 1.49\n",
        "\n",
        "smash_factor(181.2, 124.5) ➞ 1.46\n",
        "\n",
        "smash_factor(154.7, 104.3) ➞ 1.48\n"
      ],
      "metadata": {
        "id": "lC4sJKLmWfwP"
      }
    },
    {
      "cell_type": "markdown",
      "source": [
        "## Reto 83: AND, OR and NOT\n",
        "* Crear tres funciones que trabajen como puertas lógicas.\n",
        "* Las tres puertas lógicas son: AND, OR y NO.\n",
        "\n",
        "    1. funcion_AND(1, 1) ➞ 1\n",
        "    2. funcion_AND(1, 0) ➞ 0\n",
        "    3. funcion_AND(0, 0) ➞ 0\n",
        "    4. funcion_OR(1, 0) ➞ 1\n",
        "    5. funcion_OR(1, 1) ➞ 1\n",
        "    6. funcion_OR(0, 0) ➞ 0\n",
        "    7. funcion_NOT(0) ➞ 1\n",
        "    8. funcion_NOT(1) ➞ 0"
      ],
      "metadata": {
        "id": "KNcxW8fKWfz-"
      }
    },
    {
      "cell_type": "markdown",
      "source": [
        "## Reto 84: Check if All Values Are True\n",
        "Cree una función que devuelva Verdadero si todos los parámetros son verdaderos y Falso en caso contrario.\n",
        "\n",
        "all_truthy(True, True, True) ➞ True\n",
        "\n",
        "all_truthy(True, False, True) ➞ False\n",
        "\n",
        "all_truthy(5, 4, 3, 2, 1, 0) ➞ False\n"
      ],
      "metadata": {
        "id": "d-AfwJ7yWf3c"
      }
    },
    {
      "cell_type": "markdown",
      "source": [
        "## Reto 85: Convert Yen to USD\n",
        "* Cree una función que pueda convertir JPY (yen japonés) en USD (dólar estadounidense).\n",
        "* Cada conversión de JPY a USD es JPY / 107,5\n",
        "* Redondea el resultado a dos decimales.\n",
        "\n",
        "yen_to_usd(1) ➞ 0.01\n",
        "\n",
        "yen_to_usd(500) ➞ 4.65\n",
        "\n",
        "yen_to_usd(649) ➞ 6.04\n",
        "\n",
        "\n"
      ],
      "metadata": {
        "id": "FH4XlC6OWf7c"
      }
    },
    {
      "cell_type": "markdown",
      "source": [
        "## Reto 86: Broken Bridge\n",
        "Cree una función que valide si es seguro caminar sobre un puente (es decir, si no tiene espacios por los que caerse).\n",
        "\n",
        "is_safe_bridge(\"####\") ➞ True\n",
        "\n",
        "is_safe_bridge(\"## ####\") ➞ False\n",
        "\n",
        "is_safe_bridge(\"#\") ➞ True"
      ],
      "metadata": {
        "id": "ypJ7z7jGWf-x"
      }
    },
    {
      "cell_type": "markdown",
      "source": [
        "## Reto 87: Recreating the abs() Function\n",
        "La función abs() devuelve el valor absoluto de un número. Esto significa que devuelve el valor positivo de un número. Puedes pensar en ello como la distancia desde cero. Cree una función que recree esta funcionalidad.\n",
        "\n",
        "absolute(-5) ➞ 5\n",
        "\n",
        "absolute(-3.14) ➞ 3.14\n",
        "\n",
        "absolute(250) ➞ 250\n"
      ],
      "metadata": {
        "id": "Va493IkPWgCd"
      }
    },
    {
      "cell_type": "markdown",
      "source": [
        "## Reto 88: The 3 Programmers Problem\n",
        "Contrataste a tres programadores y (con suerte) les pagas. Cree una función que tome tres números (los salarios por hora de cada programador) y devuelva la diferencia entre el programador mejor pagado y el peor pagado.\n",
        "\n",
        "programmers(147, 33, 526) ➞ 493\n",
        "\n",
        "programmers(33, 72, 74) ➞ 41\n",
        "\n",
        "programmers(1, 5, 9) ➞ 8\n"
      ],
      "metadata": {
        "id": "-9AOkI9nnvy5"
      }
    },
    {
      "cell_type": "markdown",
      "source": [
        "## Reto 89: Calculate Using String Operation\n",
        "Cree una función que tome dos números y un operador matemático y devuelva el resultado.\n",
        "\n",
        "Las únicas operaciones utilizadas son las de los ejemplos que se muestran.\n",
        "\n",
        "calculate(4, 9, \"+\") ➞ 13\n",
        "\n",
        "calculate(12, 5, \"-\") ➞ 7\n",
        "\n",
        "calculate(6, 3, \"*\") ➞ 18\n",
        "\n",
        "calculate(25, 5, \"//\") ➞ 5\n",
        "\n",
        "calculate(14, 3, \"%\") ➞ 2\n",
        "\n",
        "calculate(7, 2, \"/\") ➞ 3.5\n"
      ],
      "metadata": {
        "id": "uVs2hSEXns-K"
      }
    },
    {
      "cell_type": "markdown",
      "source": [
        "## Reto 90: Indexing with Integer Division\n",
        "Dado un índice que usa división INTEGER y una lista, devuelve el valor de la lista con el índice dado.\n",
        "\n",
        "value_at([1, 2, 3, 4, 5, 6], 10 // 2) ➞ 6\n",
        "\n",
        "value_at([1, 2, 3, 4, 5, 6], 8.0 // 2) ➞ 5\n",
        "\n",
        "value_at([1, 2, 3, 4], 6.535355314 // 2) ➞ 4\n"
      ],
      "metadata": {
        "id": "jPmaP5SwntHU"
      }
    },
    {
      "cell_type": "markdown",
      "source": [
        "## Reto 91: Return Sole Element in a Set\n",
        "Dado un conjunto que contiene un elemento, devuelve el elemento.\n",
        "\n",
        "element_from_set({\"edabit\"}) ➞ \"edabit\"\n",
        "\n",
        "element_from_set({True}) ➞ True\n",
        "\n",
        "element_from_set({11037}) ➞ 11037\n"
      ],
      "metadata": {
        "id": "KWP95xcFntRL"
      }
    },
    {
      "cell_type": "markdown",
      "source": [
        "## Reto 92: No Conditionals?\n",
        "Escriba una función que devuelva 0 si la entrada es 1 y devuelva 1 si la entrada es 0.\n",
        "\n",
        "flip(1) ➞ 0\n",
        "\n",
        "flip(0) ➞ 1\n"
      ],
      "metadata": {
        "id": "_BVuN2sEntU_"
      }
    },
    {
      "cell_type": "markdown",
      "source": [
        "## Reto 93: Check If It's a Title String\n",
        "Compruebe si un texto de cadena es un texto de título o no. Un texto de título es aquel en el que todas las palabras del texto comienzan con una letra mayúscula.\n",
        "\n",
        "check_title(\"A Mind Boggling Achievement\") ➞ True\n",
        "\n",
        "check_title(\"A Simple Python Program!\") ➞ True\n",
        "\n",
        "check_title(\"Water is transparent\") ➞ False\n"
      ],
      "metadata": {
        "id": "eQq4-mUcntV5"
      }
    },
    {
      "cell_type": "markdown",
      "source": [
        "## Reto 94: List From a Range of Numbers\n",
        "Create a function that returns a list of all the integers between two given numbers start and end.\n",
        "range_of_num(2, 4) ➞ [3]\n",
        "\n",
        "range_of_num(5, 9) ➞ [6, 7, 8]\n",
        "\n",
        "range_of_num(2, 11) ➞ [3, 4, 5, 6, 7, 8, 9, 10]\n",
        "range_of_num(2, 2) ➞ []"
      ],
      "metadata": {
        "id": "SGBGw1efntW0"
      }
    },
    {
      "cell_type": "markdown",
      "source": [
        "## Reto 95: Drinks Allowed?\n",
        "Un barman está escribiendo un programa simple para determinar si debe servirle bebidas a alguien. Sólo sirve bebidas a personas mayores de 18 años y cuando no está de descanso.\n",
        "\n",
        "Dada la edad de la persona y si hay tiempo de descanso en sesión, cree una función que indique si debe servir bebidas.\n",
        "\n",
        "should_serve_drinks(17, True) ➞ False\n",
        "\n",
        "should_serve_drinks(19, False) ➞ True\n",
        "\n",
        "should_serve_drinks(30, True) ➞ False\n"
      ],
      "metadata": {
        "id": "gOc0ZAwxntYc"
      }
    },
    {
      "cell_type": "markdown",
      "source": [
        "## Reto 96: Nothing is Nothing?\n",
        "Dado cualquier número de parámetros (lo que se indica mediante la sintaxis *args), devuelve True si ninguna de las variables es falsa/vacía.\n",
        "\n",
        "*args permite que una función tome cualquier número de parámetros.\n",
        "\n",
        "nothing_is_nothing(0, False, [], {}) ➞ False\n",
        "\n",
        "nothing_is_nothing(33, \"Hello\", (True, True, 3)) ➞ True\n",
        "\n",
        "nothing_is_nothing(True, None) ➞ False\n"
      ],
      "metadata": {
        "id": "MwftNXTGntYw"
      }
    },
    {
      "cell_type": "markdown",
      "source": [
        "## Reto 97: Movie Theatre Admittance\n",
        "Escriba una función que verifique si una persona puede ver una película con clasificación MA15+. Para la admisión se requiere una de las dos condiciones siguientes:\n",
        "\n",
        "La persona tiene al menos 15 años. Tienen supervisión parental. La función acepta dos parámetros, edad y está_supervisado. Devuelve un booleano.\n",
        "\n",
        "accept_into_movie(14, True) ➞ True\n",
        "\n",
        "accept_into_movie(14, False) ➞ False\n",
        "\n",
        "accept_into_movie(16, False) ➞ True\n",
        "\n"
      ],
      "metadata": {
        "id": "FcGQDvBJntaT"
      }
    },
    {
      "cell_type": "markdown",
      "source": [
        "## Reto 98: Return Last Item\n",
        "Cree una función que devuelva el último valor del último elemento de una lista o cadena.\n",
        "\n",
        "last_ind([0, 4, 19, 34, 50, -9, 2]) ➞ 2\n",
        "\n",
        "last_ind(\"The quick brown fox jumped over the lazy dog\") ➞ \"g\"\n",
        "\n",
        "last_ind([]) ➞ None\n",
        "\n",
        "Las listas/cadenas serán de diferentes tamaños.\n",
        "\n",
        "Devuelve None si la lista/cadena está vacía.\n"
      ],
      "metadata": {
        "id": "4WL8wbnIntbH"
      }
    },
    {
      "cell_type": "markdown",
      "source": [
        "## Reto 99: Tallest Birthday Cake Candles\n",
        "Tú estás a cargo de la tarta para el cumpleaños de un niño. Has decidido que el pastel tendrá una vela por cada año de su edad total. Sólo podrán apagar la vela más alta. Cuente cuántas velas son las más altas.\n",
        "\n",
        "birthday_cake_candles([4, 4, 1, 3]) ➞ 2\n",
        "# The maximum height candles are four units high.\n",
        "# There are two of them, so you return 2.\n",
        "\n",
        "birthday_cake_candles([3, 2, 1, 3]) ➞ 2\n",
        "\n",
        "birthday_cake_candles([82, 49, 82, 82, 41, 82, 15, 63, 38, 25]) ➞ 4\n"
      ],
      "metadata": {
        "id": "exl2j4CBntb6"
      }
    },
    {
      "cell_type": "markdown",
      "source": [
        "## Reto 100: Find the Amount of Potatoes\n",
        "Crea una función para devolver la cantidad de patatas que hay en una cadena.\n",
        "\n",
        "potatoes(\"potato\") ➞ 1\n",
        "\n",
        "potatoes(\"potatopotato\") ➞ 2\n",
        "\n",
        "potatoes(\"potatoapple\") ➞ 1\n"
      ],
      "metadata": {
        "id": "FHd6vvtLntcw"
      }
    },
    {
      "cell_type": "markdown",
      "source": [
        "## Reto 101: Slice of Pie\n",
        "Cree una función que determine si es posible o no dividir un pastel de manera justa dados estos tres parámetros:\n",
        "\n",
        "Número total de rebanadas. Número de destinatarios. ¿Cuántas porciones recibe cada persona?\n",
        "\n",
        "La función quedará de esta forma:\n",
        "\n",
        "<pre>\n",
        "equal_slices(total slices, no. recipients, slices each)\n",
        "\n",
        "equal_slices(11, 5, 2) ➞ True\n",
        "# 5 people x 2 slices each = 10 slices < 11 slices\n",
        "\n",
        "equal_slices(11, 5, 3) ➞ False\n",
        "# 5 people x 3 slices each = 15 slices > 11 slices\n",
        "</pre>\n",
        "\n",
        "equal_slices(8, 3, 2) ➞ True\n",
        "\n",
        "equal_slices(8, 3, 3) ➞ False\n",
        "\n",
        "equal_slices(24, 12, 2) ➞ True"
      ],
      "metadata": {
        "id": "GP-E0baxntdj"
      }
    },
    {
      "cell_type": "markdown",
      "source": [
        "## Reto 102: Random Integer Generator\n",
        "Devuelve un número entero aleatorio N tal que a <= N <= b.\n",
        "\n",
        "random_int(5, 9) ➞ 7\n",
        "\n",
        "random_int(5, 9) ➞ 9\n",
        "\n",
        "random_int(5, 9) ➞ 5"
      ],
      "metadata": {
        "id": "Tvfro9montfN"
      }
    },
    {
      "cell_type": "markdown",
      "source": [
        "## Reto 103: Using Lambda Functions\n",
        "Cree una función que devuelva el argumento dado, pero utilizando una función lambda.\n",
        "\n",
        "lambda_func(3) ➞ 3\n",
        "\n",
        "lambda_func(\"3\") ➞ \"3\"\n",
        "\n",
        "lambda_func(True) ➞ True\n"
      ],
      "metadata": {
        "id": "8NSafWBlntgA"
      }
    },
    {
      "cell_type": "markdown",
      "source": [
        "## Reto 104: Does the Dictionary Contain a Given Key?\n",
        "Escriba una función que devuelva Verdadero si un diccionario contiene la clave especificada y Falso en caso contrario.\n",
        "\n",
        "has_key({ \"a\": 44, \"b\": 45, \"c\": 46 }, \"d\") ➞ False\n",
        "\n",
        "has_key({ \"craves\": True, \"midnight\": True, \"snack\": True }, \"morning\") ➞ False\n",
        "\n",
        "has_key({ \"pot\": 1, \"tot\": 2, \"not\": 3 }, \"not\") ➞ True"
      ],
      "metadata": {
        "id": "y6GXjHrantgQ"
      }
    },
    {
      "cell_type": "markdown",
      "source": [
        "## Reto 105: Raucous Applause\n",
        "Después de una actuación increíble, ¡el público enloquece! La gente aplaude con entusiasmo y la mayoría de los aplausos se superponen entre sí para crear un sonido homogéneo.\n",
        "\n",
        "Un aplauso superpuesto es un aplauso que comienza pero no termina, como en \"ClaClap\" (el primer aplauso se corta y en total hay 2 aplausos).\n",
        "\n",
        "Given a string of what the overlapping claps sounded like, return how many claps were made in total.\n",
        "\n",
        "count_claps(\"ClaClaClaClap!\") ➞ 4\n",
        "\n",
        "count_claps(\"ClClClaClaClaClap!\") ➞ 6\n",
        "\n",
        "count_claps(\"CCClaClClap!Clap!ClClClap!\") ➞ 9\n"
      ],
      "metadata": {
        "id": "w5FLCMCPnthv"
      }
    },
    {
      "cell_type": "markdown",
      "source": [
        "## Reto 106: First Class, Second Class and Third Class Levers\n",
        "Las palancas son máquinas simples con una viga rígida y un punto de apoyo. En la imagen siguiente, puedes ver que hay 3 tipos de palancas: primera clase, segunda clase y tercera clase.\n",
        "\n",
        "En una palanca de primera clase, el punto de apoyo está situado en el medio, con el esfuerzo y la carga colocados uno frente al otro.\n",
        "\n",
        "En una palanca de segunda clase, el punto de apoyo está situado a la derecha con el esfuerzo a la izquierda y la carga en el medio.\n",
        "\n",
        "En una palanca de tercera clase, el punto de apoyo está situado a la izquierda, con el esfuerzo en el medio y la carga a la derecha.\n",
        "\n",
        "Dada una lista que contiene el punto de apoyo \"f\", el esfuerzo \"e\" y la carga \"l\", escriba una función que determine si la lista muestra o no una palanca de primera clase, una palanca de segunda clase o una palanca de tercera clase.\n",
        "\n",
        "determine_lever([\"e\", \"f\", \"l\"]) ➞ \"first class lever\"\n",
        "\n",
        "determine_lever([\"e\", \"l\", \"f\"]) ➞ \"second class lever\"\n",
        "\n",
        "determine_lever([\"f\", \"e\", \"l\"]) ➞ \"third class lever\"\n",
        "\n",
        "Un par de tijeras es una palanca de primera clase, un cascanueces es una palanca de segunda clase y una escoba es una palanca de tercera clase.\n",
        "\n"
      ],
      "metadata": {
        "id": "qI01PB12ntjb"
      }
    },
    {
      "cell_type": "markdown",
      "source": [
        "## Reto 107: Minimal II: Boolean Redundancy\n",
        "En la pestaña Código encontrarás un código al que le falta un solo carácter para poder pasar las pruebas. Sin embargo, su objetivo es presentar una función lo más minimalista posible. Utilice los consejos de la sección de consejos a continuación.\n",
        "\n",
        "Escriba una función que devuelva la cadena \"par\" si el número entero dado es par y la cadena \"impar\" si es impar.\n",
        "\n",
        "Tip: Convertir un booleano, o algo que finalmente se interpretará como booleano, en booleano es redundante.\n",
        "\n",
        "Una comparación con <, <=, ==, !=, >=, > siempre dará como resultado un booleano, por lo tanto, usar la función bool() es totalmente innecesario.\n",
        "\n",
        "boolean == True es redundante, ya que siempre devolverá booleano.\n",
        "\n",
        "Para obtener el opuesto de booleano podríamos usar booleano == False. Sin embargo, una forma mucho más limpia de hacer esto simplemente no es booleana. Mientras preserva la legibilidad, evite declarar variables innecesarias.\n",
        "\n",
        "<pre>\n",
        "def parity(n):\n",
        "\tremander = bool(n % 2)\n",
        "\tif remainder == False:\n",
        "\t\treturn \"even\"\n",
        "\tif remainder == True:\n",
        "\t\treturn \"odd\"\n",
        "</pre>\n"
      ],
      "metadata": {
        "id": "5LXqHRmbntkP"
      }
    },
    {
      "cell_type": "markdown",
      "source": [
        "## Reto 108: Destructuring Assignment (Ignoring Values)\n",
        "* Dada una lista como por ejemplo esta:\n",
        "<pre>\n",
        "lista = [10, 20, 30]\n",
        "</pre>\n",
        "podemos recoger el primer elemento con la variable `primero` de esta forma:\n",
        "\n",
        "<pre>primero = lista[0]</pre>\n",
        "\n",
        "podemos recoger el último elemento con la variable `ultimo` así:\n",
        "<pre>ultimo = lista[-1]</pre>\n",
        "\n",
        "* Otra forma de conseguirlo es asignar variables\n",
        "\n",
        "<pre>primero, -, ultimo = [10, 20, 30]</pre>\n",
        "\n",
        "La variable `_` se usa habitualmente cuando se recogen valores que posteriormente no se usarán.\n",
        "\n",
        "* Cree una función que recoja los elementos centrales de un array, siendo la lista de longitud mayor o igual a tres.\n",
        "* Tip: explore el operador asterisco `*` que se utiliza para desempaquetar iterables.\n",
        "\n",
        "    1. centrales[10, 20, 30] ➞ [20]\n",
        "    2. centrales[1, 2, 3, 4, 5, 6] ➞ [2, 3, 4, 5]\n",
        "    3. centrales['lun', 'mar', 'mie', 'jue', 'vie'] ➞ ['mar', 'mie', 'jue']"
      ],
      "metadata": {
        "id": "PI8eQe5EntlC"
      }
    },
    {
      "cell_type": "markdown",
      "source": [
        "## Reto 109: Buggy Code\n",
        "El desafío es intentar corregir este código defectuoso, dadas las entradas Verdadero y Falso. Consulte los ejemplos siguientes para conocer el resultado esperado.\n",
        "\n",
        "    1. has_bugs(True) ➞ \"sad days\"\n",
        "    2. has_bugs(False) ➞ \"it's a good day\"\n",
        "\n",
        "<pre>\n",
        "def has_bugs(buggy_code):\n",
        "\tif buggyCode:\n",
        "\t\treturn 'sad days'\n",
        "\telif:\n",
        "\t\treturn 'it's a good day'\n",
        "</pre>\n"
      ],
      "metadata": {
        "id": "QODO-ZEuntlT"
      }
    },
    {
      "cell_type": "markdown",
      "source": [
        "## Reto 110: Maximum Weight Allowed\n",
        "* Cree una función que devuelva True si el peso combinado de un automóvil y el peso de los pasajeros p en el automóvil es menor que el peso máximo max_weight que el automóvil puede transportar. De lo contrario, devuelve Falso.\n",
        "* El peso del automóvil y el peso de los pasajeros se dan en libras. El peso máximo se indica en kilogramos.\n",
        "\n",
        "* Nota: 1 libra = 0,453592 kilogramo\n",
        "\n",
        "El orden de los argumentos en la función son:\n",
        "\n",
        "weight_allowed(car, p, max_weight)\n",
        "\n",
        "    1. weight_allowed(3000, [150, 201, 75, 88, 195], 1700) ➞ True\n",
        "    2. weight_allowed(3200, [220, 101, 115, 228, 15], 1700) ➞ False\n",
        "    3. weight_allowed(2900, [225, 171, 300, 274, 191], 1850) ➞ True\n"
      ],
      "metadata": {
        "id": "czeqq4Pentm0"
      }
    },
    {
      "cell_type": "markdown",
      "source": [
        "## Reto 111: Format II: Argument Indices\n",
        "Para imprimir podemos utilizar el sistema de formato `f`. Ejemplo:\n",
        "nombre = \"Pedro\"\n",
        "ciudad = \"Madrid\"\n",
        "print(f\"Soy {nombre} y vivo en {ciudad}.\")\n",
        "\n",
        "Lo que se imprime es:\n",
        "\n",
        "\"Soy Pedro y vivo en Madrid.\"\n",
        "\n",
        "Utilizando este sisteme de formateo cree una función que retorne los siguientes casos:\n",
        "\n",
        "    1. biografia(\"Ana\", 15, \"Málaga\") ➞ \"Soy Ana tego 15 años, vivo en Málaga y mañana cumplo 16 años\"\n",
        "    1. biografia(\"Jose\", 16, \"Ávila\") ➞ \"Soy Jose tego 16 años, vivo en Ávila y mañana cumplo 17 años\"\n",
        "    1. biografia(\"Mar\", 17, \"Cádiz\") ➞ \"Soy Mar tego 17 años, vivo en Cádiz y mañana cumplo 18 años\"\n"
      ],
      "metadata": {
        "id": "bGRMENljntno"
      }
    },
    {
      "cell_type": "markdown",
      "source": [
        "## Reto 112: Amazing Edabit!\n",
        "Crea una función que tome una cadena y cambie la palabra sorprendente a no sorprendente. Devuelve la cadena sin ningún cambio si la palabra edabit es parte de la cadena.\n",
        "\n",
        "amazing_edabit(\"edabit is amazing.\") ➞ \"edabit is amazing.\"\n",
        "\n",
        "amazing_edabit(\"Mubashir is amazing.\") ➞ \"Mubashir is not amazing.\"\n",
        "\n",
        "amazing_edabit(\"Infinity is amazing.\") ➞ \"Infinity is not amazing.\"\n"
      ],
      "metadata": {
        "id": "1Qgl2wxlntn4"
      }
    },
    {
      "cell_type": "markdown",
      "source": [
        "## Reto 113: Slightly Superior\n",
        "Se le darán dos listas extremadamente similares, pero exactamente uno de los elementos de una lista tendrá un valor ligeramente mayor que su contraparte (lo que significa que al evaluar el valor > el otro valor se devolverá Verdadero).\n",
        "\n",
        "Create a function that returns whether the first list is slightly superior to the second list.\n",
        "\n",
        "is_first_superior([1, 2, 4], [1, 2, 3]) ➞ True\n",
        "\\# The pair of items at each index are compared in turn.\n",
        "\\# 1 from the first list is the same as 1 from the second list.\n",
        "\\# 2 is the same as 2.\n",
        "\\# However, 4 is greater than 3, so list one is superior.\n",
        "\n",
        "is_first_superior([\"a\", \"d\", \"c\"], [\"a\", \"b\", \"c\"]) ➞ True\n",
        "\n",
        "is_first_superior([\"zebra\", \"ostrich\", \"whale\"], [\"ant\", \"ostrich\", \"whale\"]) ➞ True\n",
        "\n",
        "is_first_superior([1, 2, 3, 4], [1, 2, 4, 4]) ➞ False\n",
        "\n",
        "is_first_superior([True, 10, \"zebra\"], [True, 10, \"zebra\"]) ➞ False\n",
        "\n",
        "\n",
        "* Ambas listas tendrán la misma longitud.\n",
        "* Todos los valores y sus contrapartes siempre serán del mismo tipo de datos.\n",
        "* Las listas sólo se diferenciarán por un elemento.\n",
        "* Si las dos listas son iguales, devuelve False.\n",
        "\n"
      ],
      "metadata": {
        "id": "TVDPcAuHntoF"
      }
    },
    {
      "cell_type": "markdown",
      "source": [
        "## Reto 114: Is the Dictionary Empty?\n",
        "* Escriba una función que devuelva Verdadero si un diccionario está vacío y Falso en caso contrario.\n",
        "    1. is_empty({}) ➞ True\n",
        "    1. is_empty({ }) ➞ True\n",
        "    2. is_empty({ \"a\": 1 }) ➞ False\n",
        "    3. is_empty(dict()) ➞ True\n",
        "    4. is_empyt({' ': []} ➞ False\n"
      ],
      "metadata": {
        "id": "mpfdl2aXntoU"
      }
    },
    {
      "cell_type": "markdown",
      "source": [
        "## Reto 115: Invert a List\n",
        "* Cree una función que tome una lista de números primero y devuelva una lista invertida.\n",
        "    1. invert_list([1, 2, 3, 4, 5]) ➞ [-1, -2, -3, -4, -5]\n",
        "    2. invert_list([1, -2, 3, -4, 5]) ➞ [-1, 2, -3, 4, -5]\n",
        "    3. invert_list([]) ➞ []\n"
      ],
      "metadata": {
        "id": "fizQ3Vu-z82T"
      }
    },
    {
      "cell_type": "markdown",
      "source": [
        "## Reto 116: Convert All List Items to String\n",
        "* Cree una función que tome una lista de números enteros y cadenas. Convierte números enteros en cadenas y devuelve la nueva lista.\n",
        "    1. parse_list([1, 2, \"a\", \"b\"]) ➞ [\"1\", \"2\", \"a\", \"b\"]\n",
        "    2. parse_list([\"abc\", 123, \"def\", 456]) ➞ [\"abc\", \"123\", \"def\", \"456\"]\n",
        "    3. parse_list([1, 2, 3, 17, 24, 3, \"a\", \"123b\"]) ➞ [\"1\", \"2\", \"3\", \"17\", \"24\", \"3\", \"a\", \"123b\"]\n",
        "    4. parse_list([]) ➞ []\n"
      ],
      "metadata": {
        "id": "yD4DFPzZz88Q"
      }
    },
    {
      "cell_type": "markdown",
      "source": [
        "## Reto 117: Word Numbers!\n",
        "* Cree una función que devuelva un número, según la cadena proporcionada. Aquí hay una lista de todos los dígitos:\n",
        "    1. word(\"one\") ➞ 1\n",
        "    2. word(\"two\") ➞ 2\n",
        "    3. word(\"nine\") ➞ 9\n",
        "\n",
        "String\tNumber\n",
        "\"one\"\t1\n",
        "\"two\"\t2\n",
        "\"three\"\t3\n",
        "\"four\"\t4\n",
        "\"five\"\t5\n",
        "\"six\"\t6\n",
        "\"seven\"\t7\n",
        "\"eight\"\t8\n",
        "\"nine\"\t9\n",
        "\"zero\"\t0"
      ],
      "metadata": {
        "id": "jSpetAOOz9Ax"
      }
    },
    {
      "cell_type": "markdown",
      "source": [
        "## Reto 118: 50-30-20 Strategy\n",
        "* La estrategia 50-30-20 es una forma sencilla de presupuestar, que implica gastar el 50% de los ingresos después de impuestos en necesidades, el 30% de los ingresos después de impuestos en deseos y el 20% de los ingresos después de impuestos en ahorros o pago de deudas.\n",
        "* Dado el ingreso después de impuestos como ati, lo que se supone que debe hacer es crear una función que devuelva un diccionario que muestre cuánto necesita gastar una persona en necesidades, deseos y ahorros.\n",
        "\n",
        "fifty_thirty_twenty(10000) ➞ { \"Needs\": 5000, \"Wants\": 3000, \"Savings\": 2000 }\n",
        "\n",
        "fifty_thirty_twenty(50000) ➞ { \"Needs\": 25000, \"Wants\": 15000, \"Savings\": 10000 }\n",
        "\n",
        "fifty_thirty_twenty(13450) ➞ { \"Needs\": 6725, \"Wants\": 4035, \"Savings\": 2690 }\n",
        "\n",
        "* La función es: fifty_thirty_twenty(ati)"
      ],
      "metadata": {
        "id": "0Xh9QeBRz9GH"
      }
    },
    {
      "cell_type": "markdown",
      "source": [
        "## Reto 119: Using Ternary Operators\n",
        "* El operador ternario es una alternativa a la clásica declaración `if... else...`\n",
        "* Está escrito en el formato:\n",
        "<pre>\n",
        "result_if_true if condition else result_if_false\n",
        "</pre>\n",
        "\n",
        "* Los operadores ternarios suelen ser más compactos que las declaraciones `if` de varias líneas y son útiles para pruebas condicionales simples.\n",
        "\n",
        "Un código clásico puede ser este:\n",
        "\n",
        "<pre>\n",
        "edad = 17\n",
        "if edad >= 18:\n",
        "    print(\"Tengo\", edad, \"años y SI puedo votar.\")\n",
        "else:\n",
        "    print(\"Tengo\", edad, \"años y NO puedo votar.\")\n",
        "</pre>\n",
        "\n",
        "Este código escrito con un operador ternario sería más corto, así:\n",
        "\n",
        "<pre>\n",
        "edad = 17\n",
        "print(f\"Tengo {edad} años y {'NO' if edad < 18 else 'SI'} puedo votar.\")\n",
        "</pre>\n",
        "\n",
        "* Cee una función que use operador ternario y sistema de formato `f` para realizar los siguientes casos:\n",
        "    1. par_impar(5) ➞ El número 5 es impar.\n",
        "    2. par_impar(8) ➞ El número 8 es par.\n",
        "    3. par_impar(0) ➞ El número 0 es par.\n",
        "    4. par_impar(-3) ➞ El número -3 es impar.\n"
      ],
      "metadata": {
        "id": "WOb5Nogiz9K_"
      }
    },
    {
      "cell_type": "markdown",
      "source": [
        "## Reto 120: Similar Bread\n",
        "* Dadas dos listas, que representan dos sándwiches, indique si ambos sándwiches usan el mismo tipo de pan.\n",
        "* En los elementos intermedios nunca encontraremos pan.\n",
        "    1. tiene_el_mismo_pan(\n",
        "  [\"pan blanco\", \"lechuga\", \"pan blanco\"],\n",
        "  [\"pan blanco\", \"tomate\", \"pan blanco\"]\n",
        ") ➞ True\n",
        "    2. tiene_el_mismo_pan(\n",
        "  [\"pan integral\", \"pollo\", \"pan integral\"],\n",
        "  [\"pan blanco\", \"pollo\", \"pan blanco\"]\n",
        ") ➞ False\n",
        "    3. tiene_el_mismo_pan(\n",
        "  [\"berenjena\", \"queso\", \"berenjena\"],\n",
        "  [\"berenjena\", \"queso\", \"berenjena\"]\n",
        ") ➞ False\n",
        "    4. tiene_el_mismo_pan(\n",
        "  [\"pan tostado\", \"queso\", \"pan tostado\"],\n",
        "  [\"pan tostado\", \"queso\", \"huevo\"]\n",
        ") ➞ False\n",
        "    5. tiene_el_mismo_pan(\n",
        "  [\"pan tostado\", \"queso\", \"huevo\", \"pan tostado\"],\n",
        "  [\"pan tostado\", \"queso\", \"huevo\", \"pan tostado\"]\n",
        ") ➞ True"
      ],
      "metadata": {
        "id": "rjHsjH3Mz9QP"
      }
    },
    {
      "cell_type": "markdown",
      "source": [
        "## Reto 121: C String to C++ String (in Python)\n",
        "* Esta es una lista de caracteres individuales con un carácter no deseado al final:\n",
        "<pre>\n",
        "[\"H\", \"e\", \"l\", \"l\", \"o\", \"!\", \"\\0\"]\n",
        "</pre>\n",
        "\n",
        "* También puedes simplemente escribir \"¡Hola!\" al inicializar una variable, crear la cadena \"¡Hola!\" Cree una función que devolverá una cadena combinando la lista de caracteres dada, sin incluir el carácter final no deseado.\n",
        "    1. cpp_txt([\"H\", \"i\", \"!\", \"\\0\"]) ➞ \"Hi!\"\n",
        "    2. cpp_txt([\"H\", \"e\", \"l\", \"l\", \"o\", \"!\", \"\\0\"]) ➞ \"Hello!\"\n",
        "    3. cpp_txt([\"J\", \"A\", \"V\", \"A\", \"\\0\"]) ➞ \"JAVA\""
      ],
      "metadata": {
        "id": "8OtKBQRfz9Vi"
      }
    },
    {
      "cell_type": "markdown",
      "source": [
        "## Reto 122: Upvotes vs Downvotes\n",
        "* Dado un diccionario que contiene recuentos de votos a favor y en contra, devuelva qué recuento de votos debe mostrarse. Esto se calcula restando el número de votos negativos de los votos positivos.\n",
        "    1. get_vote_count({ \"upvotes\": 13, \"downvotes\": 0 }) ➞ 13\n",
        "    2. get_vote_count({ \"upvotes\": 2, \"downvotes\": 33 }) ➞ -31\n",
        "    3. get_vote_count({ \"upvotes\": 132, \"downvotes\": 132 }) ➞ 0\n"
      ],
      "metadata": {
        "id": "t3EoMcciz9a1"
      }
    },
    {
      "cell_type": "markdown",
      "source": [
        "## Reto 123: Case Insensitive Comparison\n",
        "* Escribe una función que valide si dos cadenas son idénticas. Hágalo sin distinguir entre mayúsculas y minúsculas.\n",
        "    1. match(\"hello\", \"hELLo\") ➞ True\n",
        "    2. match(\"motive\", \"emotive\") ➞ False\n",
        "    3. match(\"venom\", \"VENOM\") ➞ True\n",
        "    4. match(\"mask\", \"mAskinG\") ➞ False"
      ],
      "metadata": {
        "id": "gt5ZkXFRmGeN"
      }
    },
    {
      "cell_type": "markdown",
      "source": [
        "## Reto 124: Minimal VII: Lambda Functions\n",
        "* Una función clásica que doble un número podría ser esta:\n",
        "\n",
        "<pre>\n",
        "def dobla_numero(n):\n",
        "    return 2*n\n",
        "</pre>\n",
        "\n",
        "Para funciones sencillas podemos utilizar las funciones anónimas que en Python se llaman **funciones lambda**. Este ejemplo, para doblar un número con una función lambda sería así:\n",
        "\n",
        "<pre>\n",
        "dobla = lambda n: 2*n\n",
        "</pre>\n",
        "\n",
        "Para invocar la función escribiríamos lo siguiente:\n",
        "\n",
        "<pre>\n",
        "dobla(7)    # output: 14\n",
        "</pre>\n",
        "\n",
        "También pueden existir funciones lambda con varios parámetros, como por ejemplo esta que suma dos números:\n",
        "\n",
        "<pre>\n",
        "suma = lambda a,b: a+b\n",
        "</pre>\n",
        "\n",
        "Se puede invocar así:\n",
        "\n",
        "<pre>\n",
        "suma(4, 3)    # output: 7\n",
        "</pre>\n",
        "\n",
        "* En este reto se pide programar tres funciones anónimas para resolver estos tres casos:\n",
        "    1. triplica(5) ➞ 15\n",
        "    2. suma_uno(10) ➞ 11\n",
        "    4. resta_dos_numeros(10, 7) ➞ 3"
      ],
      "metadata": {
        "id": "0tXWqqfamNgC"
      }
    },
    {
      "cell_type": "markdown",
      "source": [
        "## Reto 125: Binary Addition + 0 1 0 1\n",
        "* Cree una función que tome dos números y devuelva su suma como una cadena binaria.\n",
        "    1. add_binary(1, 1) ➞ \"10\"\n",
        "    2. add_binary(1, 2) ➞ \"11\"\n",
        "    3. add_binary(4, 5) ➞ \"1001\""
      ],
      "metadata": {
        "id": "6WEwM3nwmUOs"
      }
    },
    {
      "cell_type": "markdown",
      "source": [
        "## Reto 126: Less Than, Greater Than\n",
        "* Cree una función que tome dos números num1, num2 y una lista lst y devuelva una lista que contenga todos los números en lst mayores que num1 y menores que num2.\n",
        "    1. list_between(3, 8, [1, 5, 95, 0, 4, 7]) ➞ [5, 4, 7]\n",
        "    2. list_between(1, 10, [1, 10, 25, 8, 11, 6]) ➞ [8, 6]\n",
        "    3. list_between(7, 32, [1, 2, 3, 78]) ➞ []"
      ],
      "metadata": {
        "id": "6LLs980ImUYN"
      }
    },
    {
      "cell_type": "markdown",
      "source": [
        "## Reto 127: Buggy Code (Part 6)\n",
        "* Queremos eliminar números de una cadena determinada.\n",
        "* Tenemos un código que no funciona correctamente para superar este desafío.\n",
        "* Mire los ejemplos siguientes para tener una idea de lo que debe hacer la función.\n",
        "    1. remove_numbers(\"mubashir1\") ➞ \"mubashir\"\n",
        "    2. remove_numbers(\"12ma23tt\") ➞ \"matt\"\n",
        "    3. remove_numbers(\"e1d2a3b4i5t6\") ➞ \"edabit\"\n",
        "\n",
        "* Este es el código que no logra su objetivo:\n",
        "\n",
        "<pre>\n",
        "def remove_numbers(string):\n",
        "    return \"\".join(i for i in string if int(i))\n",
        "</pre>"
      ],
      "metadata": {
        "id": "mMGOfOevmUel"
      }
    },
    {
      "cell_type": "markdown",
      "source": [
        "## Reto 128: Sandwich Fillings\n",
        "* Dado un sándwich (como lista), devuelve una lista de rellenos dentro del sándwich. Esto implica ignorar el primer y el último elemento.\n",
        "    1. get_fillings([\"bread\", \"ham\", \"cheese\", \"ham\", \"bread\"]) ➞ [\"ham\", \"cheese\", \"ham\"]\n",
        "    2. get_fillings([\"bread\", \"sausage\", \"tomato\", \"bread\"]) ➞ [\"sausage\", \"tomato\"]\n",
        "    3. get_fillings([\"bread\", \"lettuce\", \"bacon\", \"tomato\", \"bread\"]) ➞ [\"lettuce\", \"bacon\", \"tomato\"]"
      ],
      "metadata": {
        "id": "jcxGJ6zZmUll"
      }
    },
    {
      "cell_type": "markdown",
      "source": [
        "## Reto 129: The Study of Wumbology\n",
        "* Cree una función que reciba como parámetros dos letras y un frase.\n",
        "* La primera letra que se recibe como parámetro se reemplaza por la segunda letra recibida como parámetro y esto altera la frase.\n",
        "    1. cambiando('g', 'p', 'El gato en el tejado') ➞ \"El pato en el tejado\"\n",
        "    2. cambiando('s', 'n', 'Vivo en el quinto piso') ➞ \"Vivo en el quinto pino\"\n",
        "    3. cambiando('h', 'm', 'hola Madrid') ➞ \"mola Madrid\""
      ],
      "metadata": {
        "id": "F38bt7BfmUrK"
      }
    },
    {
      "cell_type": "markdown",
      "source": [
        "## Reto 130: Sum Greater Than Five\n",
        "* Escribe una función que devuelva la suma de elementos estrictamente mayores que 5, en la lista dada.\n",
        "    1. sum_five([1, 5, 20, 30, 4, 9, 18]) ➞ 77\n",
        "    2. sum_five([1, 2, 3, 4]) ➞ 0\n",
        "    3. sum_five([10, 12, 28, 47, 55, 100]) ➞ 252"
      ],
      "metadata": {
        "id": "HfzOcsTSmUxK"
      }
    },
    {
      "cell_type": "markdown",
      "source": [
        "## Reto 131: Among Us Imposter Formula\n",
        "* Crea una función que calcule la probabilidad de ser un impostor. La fórmula para las posibilidades de ser un impostor es `100 × (i / p)` donde `i` es el recuento de impostores y `p` es el recuento de jugadores.\n",
        "* Asegúrese de redondear el valor al número entero más cercano y devolver el valor como porcentaje.\n",
        "    1. imposter_formula(1, 10) ➞ \"10%\"\n",
        "    2. imposter_formula(2, 5) ➞ \"40%\"\n",
        "    3. imposter_formula(1, 8) ➞ \"13%\""
      ],
      "metadata": {
        "id": "tMzdScmLmU2z"
      }
    },
    {
      "cell_type": "markdown",
      "source": [
        "## Reto 132: The Modulus Operator Function\n",
        "* Cree una función que funcione como el operador de módulo `%` sin utilizar el operador de módulo.\n",
        "* El operador de módulo es una forma de determinar el resto de una operación de división. En lugar de devolver el resultado de la división, la operación de módulo devuelve el resto del número entero.\n",
        "* No utilice el operador `%` para devolver los resultados.\n",
        "    1. mod(5, 2) ➞ 1\n",
        "    2. mod(218, 5) ➞ 3\n",
        "    3. mod(6, 3) ➞ 0\n"
      ],
      "metadata": {
        "id": "XPVxTo33mU8D"
      }
    },
    {
      "cell_type": "markdown",
      "source": [
        "## Reto 133: Find None in a List\n",
        "* Cree una función para encontrar `None` en una lista de números.\n",
        "* El valor de retorno debe ser el índice donde se encuentra `None`.\n",
        "* Si no se encuentra `None` en la lista, devuelva -1.\n",
        "* `None` aparecerá en la lista de entrada solo una vez.\n",
        "    1. find_none([1, 2, None]) ➞ 2\n",
        "    2. find_none([None, 1, 2, 3, 4]) ➞ 0\n",
        "    3. find_none([0, 1, 2, 3, 4]) ➞ -1"
      ],
      "metadata": {
        "id": "iVYlgvgUmVCY"
      }
    },
    {
      "cell_type": "markdown",
      "source": [
        "## Reto 134: Find the Total Number of Digits the Given Number Has\n",
        "* Cree una función que tome un número como argumento y devuelva la cantidad de dígitos que tiene.\n",
        "    1. find_digit_amount(123) ➞ 3\n",
        "    2. find_digit_amount(56) ➞ 2\n",
        "    3. find_digit_amount(7154) ➞ 4\n",
        "    4. find_digit_amount(61217311514) ➞ 11\n",
        "    5. find_digit_amount(0) ➞ 1"
      ],
      "metadata": {
        "id": "UlRIWxQXmVIB"
      }
    },
    {
      "cell_type": "markdown",
      "source": [
        "## Reto 135: Find the Bomb\n",
        "* Cree una función que encuentre la palabra \"bomb\" en la cadena dada (no distingue entre mayúsculas y minúsculas).\n",
        "* Si la encuentra, devuelva `\"¡¡¡Pato!!!\"`, de lo contrario, devuelva `\"No hay bomba, relájese\"`.\n",
        "    1. bomb(\"There is a bomb.\") ➞ \"Duck!!!\"\n",
        "    2. bomb(\"Hey, did you think there is a Bomb?\") ➞ \"Duck!!!\"\n",
        "    3. bomb(\"This goes boom!!!\") ➞ \"There is no bomb, relax.\""
      ],
      "metadata": {
        "id": "Ika_USkdmVN_"
      }
    },
    {
      "cell_type": "markdown",
      "source": [
        "## Reto 136: Count Instances of a Character in a String\n",
        "* Cree una función que tome dos cadenas como argumentos y devuelva el número de veces que la primera cadena (el carácter único) se encuentra en la segunda cadena.\n",
        "* La función debe distinguir entre mayúsculas y minúsculas\n",
        "    1. char_count(\"a\", \"Sorpresa\") ➞ 1\n",
        "    2. char_count(\"c\", \"Cáceres ciudad histórica\") ➞ 2\n",
        "    3. char_count(\"C\", \"Cáceres ciudad histórica\") ➞ 1"
      ],
      "metadata": {
        "id": "YjoLKJzSmVUS"
      }
    },
    {
      "cell_type": "markdown",
      "source": [
        "## Reto 137: Re-Form the Word\n",
        "* Una palabra se ha dividido en una parte izquierda y una parte derecha. Vuelva a formar la palabra sumando ambas mitades y cambiando el primer carácter a una letra mayúscula.\n",
        "    1. get_word(\"seas\", \"onal\") ➞ \"Seasonal\"\n",
        "    2. get_word(\"comp\", \"lete\") ➞ \"Complete\"\n",
        "    3. get_word(\"lang\", \"uage\") ➞ \"Language\""
      ],
      "metadata": {
        "id": "P79QqyJcmVaQ"
      }
    },
    {
      "cell_type": "markdown",
      "source": [
        "## Reto 138: Assign Person to Occupation\n",
        "* Tienes dos listas. Uno muestra los nombres de las personas, mientras que el otro muestra sus trabajos de ocupación. Su tarea es crear un diccionario que muestre a cada persona en su respectiva ocupación.\n",
        "\n",
        "\n",
        "Person\tJob\n",
        "Annie\tTeacher\n",
        "Steven\tEngineer\n",
        "Lisa\tDoctor\n",
        "Osman\tCashier\n",
        "\n",
        "* El índice de un nombre en la lista de nombres es el mismo que el índice del trabajo de la persona en la lista de trabajos, como se muestra en la tabla anterior.\n",
        "\n",
        "names = [\"Dennis\", \"Vera\", \"Mabel\", \"Annette\", \"Sussan\"]\n",
        "jobs = [\"Butcher\", \"Programmer\", \"Doctor\", \"Teacher\", \"Lecturer\"]\n",
        "\n",
        "assign_person_to_job(names, jobs) ➞ {\n",
        "  \"Dennis\": \"Butcher\",\n",
        "  \"Vera\": \"Programmer\",\n",
        "  \"Mabel\": \"Doctor\",\n",
        "  \"Annette\": \"Teacher\",\n",
        "  \"Sussan\": \"Lecturer\"\n",
        "}"
      ],
      "metadata": {
        "id": "bhmE6XhYmVf8"
      }
    },
    {
      "cell_type": "markdown",
      "source": [
        "## Reto 139: Check if One Array can be Nested in Another\n",
        "* Cree una función que devuelva Verdadero si la primera lista se puede anidar dentro de la segunda y Falso en caso contrario.\n",
        "* list1 se puede anidar dentro de list2 si:\n",
        "    - El mínimo de list1 es mayor estricto que el mínimo de list2.\n",
        "    - El máximo de list1 es menor estricto que el máximo de list2.\n",
        "\n",
        "    1. can_nest([1, 2, 3, 4], [0, 6]) ➞ True\n",
        "    2. can_nest([3, 1], [4, 0]) ➞ True\n",
        "    3. can_nest([9, 9, 8], [8, 9]) ➞ False\n",
        "    4. can_nest([1, 2, 3, 4], [2, 3]) ➞ False"
      ],
      "metadata": {
        "id": "oFfB679qmVl6"
      }
    },
    {
      "cell_type": "markdown",
      "source": [
        "## Reto 140: Get the File Name\n",
        "* Cree una función que devuelva el nombre de archivo seleccionado de una ruta. Incluye la extensión en tu respuesta.\n",
        "\n",
        "get_filename(\"C:/Projects/pil_tests/ascii/edabit.txt\") ➞ \"edabit.txt\"\n",
        "\n",
        "get_filename(\"C:/Users/johnsmith/Music/Beethoven_5.mp3\") ➞ \"Beethoven_5.mp3\"\n",
        "\n",
        "get_filename(\"ffprobe.exe\") ➞ \"ffprobe.exe\""
      ],
      "metadata": {
        "id": "AhoT4oM5mVrK"
      }
    },
    {
      "cell_type": "markdown",
      "source": [
        "## Reto 141: Which Generation Are You?\n",
        "* Intente encontrar a sus antepasados ​​y descendencia con código. Cree una función que tome un número x y un carácter y (\"m\" para hombre, \"f\" para mujer) y devuelva el nombre de un antepasado (m/f) o descendiente (m/f).\n",
        "\n",
        "Si el número es negativo, devuelve el antepasado relacionado. Si es positivo, devuelve el descendiente relacionado. Eres la generación 0. En el caso de 0 (masculino o femenino), devuelve \"¡yo!\".\n",
        "\n",
        "generation(2, \"f\") ➞ \"granddaughter\"\n",
        "\n",
        "generation(-3, \"m\") ➞ \"great grandfather\"\n",
        "\n",
        "generation(1, \"f\") ➞ \"daughter\"\n",
        "\n",
        "\n",
        "Generation\tMale\tFemale\n",
        "-3\tgreat grandfather\tgreat grandmother\n",
        "-2\tgrandfather\tgrandmother\n",
        "-1\tfather\tmother\n",
        "0\tme!\tme!\n",
        "1\tson\tdaughter\n",
        "2\tgrandson\tgranddaughter\n",
        "3\tgreat grandson\tgreat granddaughter\n"
      ],
      "metadata": {
        "id": "0gimJd0SmVw2"
      }
    },
    {
      "cell_type": "markdown",
      "source": [
        "## Reto 142: Count Syllables\n",
        "* Crea una función que cuente el número de sílabas que tiene una palabra. Cada sílaba está separada por un guión -.\n",
        "\n",
        "number_syllables(\"buf-fet\") ➞ 2\n",
        "\n",
        "number_syllables(\"beau-ti-ful\") ➞ 3\n",
        "\n",
        "number_syllables(\"mon-u-men-tal\") ➞ 4\n",
        "\n",
        "number_syllables(\"on-o-mat-o-poe-ia\") ➞ 6"
      ],
      "metadata": {
        "id": "JeFjbdwlmV2x"
      }
    },
    {
      "cell_type": "markdown",
      "source": [
        "## Reto 143: Rotate the List by One\n",
        "* Dada una lista, gire los valores uno en el sentido de las agujas del reloj (el último valor se envía a la primera posición). Consulte los ejemplos para una mejor comprensión.\n",
        "\n",
        "Todas las listas tienen el mismo tamaño, por lo que no es necesario utilizar bucles ni pensar mucho en soluciones complejas.\n",
        "\n",
        "rotate_by_one([1, 2, 3, 4, 5]) ➞ [5, 1, 2, 3, 4]\n",
        "\n",
        "rotate_by_one([6, 5, 8, 9, 7]) ➞ [7, 6, 5, 8, 9]\n",
        "\n",
        "rotate_by_one([20, 15, 26, 8, 4]) ➞ [4, 20, 15, 26, 8]"
      ],
      "metadata": {
        "id": "S_dnkAPMmV8G"
      }
    },
    {
      "cell_type": "markdown",
      "source": [
        "## Reto 144: Difference of Volumes of Cuboids\n",
        "* Cree un programa que tome dos listas de números enteros, a y b. Cada lista constará de 3 números enteros positivos, que representan las dimensiones de los cuboides a y b. Encuentra la diferencia de volúmenes de los cuboides.\n",
        "\n",
        "* Por ejemplo, si los parámetros pasados ​​son `([2, 2, 3], [5, 4, 1])`, el volumen de `a` es 12 y el volumen de `b` es 20. Por lo tanto, la función debería devolver 8.\n",
        "\n",
        "find_difference([ 28, 16, 29 ], [ 7, 8, 17 ]) ➞ 12040\n",
        "\n",
        "find_difference([ 9, 22, 18 ], [ 16, 24, 10 ]) ➞ 276\n",
        "\n",
        "find_difference([ 1, 9, 25 ], [ 10, 7, 9 ]) ➞ 405\n",
        "\n",
        "find_difference([ 7, 6, 16 ], [ 26, 9, 26 ]) ➞ 5412"
      ],
      "metadata": {
        "id": "ZbsKL9NWmWBT"
      }
    },
    {
      "cell_type": "markdown",
      "source": [
        "## Reto 145: Sort Numbers in Ascending Order\n",
        "* Cree una función que tome una lista de números y devuelva una nueva lista, ordenada en orden ascendente (de menor a mayor).\n",
        "* Ordenar la lista de números en orden ascendente.\n",
        "* Si el argumento de la función es `None` o una lista vacía, devuelve una lista vacía. Devuelve una nueva matriz de números ordenados.\n",
        "\n",
        "sort_nums_ascending([1, 2, 10, 50, 5]) ➞ [1, 2, 5, 10, 50]\n",
        "\n",
        "sort_nums_ascending([80, 29, 4, -95, -24, 85]) ➞ [-95, -24, 4, 29, 80, 85]\n",
        "\n",
        "sort_nums_ascending([]) ➞ []"
      ],
      "metadata": {
        "id": "sIQRdBtMmWG-"
      }
    },
    {
      "cell_type": "markdown",
      "source": [
        "## Reto 146: Find the Index\n",
        "* Cree una función que tome una lista y una cadena como argumentos y devuelva el índice de la cadena.\n",
        "\n",
        "find_index([\"hi\", \"edabit\", \"fgh\", \"abc\"], \"fgh\") ➞ 2\n",
        "\n",
        "find_index([\"Red\", \"blue\", \"Blue\", \"Green\"], \"blue\") ➞ 1\n",
        "\n",
        "find_index([\"a\", \"g\", \"y\", \"d\"], \"d\") ➞ 3\n",
        "\n",
        "find_index([\"Pineapple\", \"Orange\", \"Grape\", \"Apple\"], \"Pineapple\") ➞ 0"
      ],
      "metadata": {
        "id": "aOicNPy_mWMS"
      }
    },
    {
      "cell_type": "markdown",
      "source": [
        "## Reto 147: Sum of Minimums\n",
        "* Cree una función que tome una matriz y devuelva la suma del valor mínimo en cada fila.\n",
        "* Una matriz es una lista de listas, esto es, una lista donde los elementos son otras listas.\n",
        "\n",
        "sum_minimums([\n",
        "  [1, 2, 3, 4, 5],\n",
        "  [5, 6, 7, 8, 9],\n",
        "  [20, 21, 34, 56, 100]\n",
        "]) ➞ 26\n",
        "\n",
        "\\# minimum value of the first row is 1\n",
        "\\# minimum value of the second row is 5\n",
        "\\# minimum value of the third row is 20"
      ],
      "metadata": {
        "id": "faQ0Lgb3mWSM"
      }
    },
    {
      "cell_type": "markdown",
      "source": [
        "## Reto 147: Summing a Slice\n",
        "* Dada una lista y un número entero n, devuelve la suma de los primeros n números de la lista.\n",
        "* Si n es mayor que la longitud de la lista, devuelve la suma de toda la lista.\n",
        "\n",
        "sum_first_n_nums([1, 3, 2], 2) ➞ 4\n",
        "\n",
        "sum_first_n_nums([4, 2, 5, 7], 4) ➞ 18\n",
        "\n",
        "sum_first_n_nums([3, 6, 2], 0) ➞ 0"
      ],
      "metadata": {
        "id": "XjwB1tLymWYj"
      }
    },
    {
      "cell_type": "markdown",
      "source": [
        "## Reto 148: Minimal IV: if-elif-else Inferno\n",
        "* El siguiente código pretende identificar un número como positivo, negativo o cero.\n",
        "\n",
        "<pre>\n",
        "def analiza(x):\n",
        "\tif x > 0:\n",
        "\t\treturn \"positivo\"\n",
        "\telif x < 0:\n",
        "\t\treturn \"negativo\"\n",
        "\telse:\n",
        "\t\treturn \"cero\"\n",
        "</pre>\n",
        "\n",
        "* Nos gustaría eliminar la intrucción else del código y comprobar que todo funciona bien.\n",
        "\n",
        "    1. analiza(4) ➞ \"positivo\"\n",
        "    2. analiza(-4) ➞ \"negativo\"\n",
        "    3. analiza(0) ➞ \"cero\""
      ],
      "metadata": {
        "id": "9WVlhv7-mWef"
      }
    },
    {
      "cell_type": "code",
      "source": [
        "def equilbrium(x):\n",
        "\tif x > 0:\n",
        "\t\treturn \"positive\"\n",
        "\telif x < 0:\n",
        "\t\treturn \"negative\"\n",
        "\treturn True\n",
        "\n",
        "equilbrium(0)"
      ],
      "metadata": {
        "id": "PYcprcQNLsOf",
        "outputId": "1358588e-5892-41de-9bea-21d2e1acd6c6",
        "colab": {
          "base_uri": "https://localhost:8080/"
        }
      },
      "execution_count": 36,
      "outputs": [
        {
          "output_type": "execute_result",
          "data": {
            "text/plain": [
              "True"
            ]
          },
          "metadata": {},
          "execution_count": 36
        }
      ]
    },
    {
      "cell_type": "markdown",
      "source": [
        "## Reto 149: The Forbidden Letter\n",
        "* Dada una letra y una lista de palabras, indique si la letra no aparece en ninguna de las palabras.\n",
        "* Todas las entradas proporcionadas estarán en minúsculas.\n",
        "\n",
        "forbidden_letter(\"r\", [\"rock\", \"paper\", \"scissors\"]) ➞ False\n",
        "\n",
        "forbidden_letter(\"a\", [\"spoon\", \"fork\", \"knife\"]) ➞ True\n",
        "\n",
        "forbidden_letter(\"m\", []) ➞ True"
      ],
      "metadata": {
        "id": "_6MLjRP9mWlf"
      }
    },
    {
      "cell_type": "markdown",
      "source": [
        "## Reto 150: Trimmed Averages\n",
        "* Dada una lista de números, elimine los números más grandes y más pequeños y calcule el promedio de los números restantes.\n",
        "* Redondea al número entero más próximo.\n",
        "* El tamaño de la lista es mayor que 2.\n",
        "\n",
        "trimmed_averages([4, 5, 7, 100]) ➞ 6\n",
        "\\# Average of 5 and 7\n",
        "\n",
        "trimmed_averages([10, 25, 5, 15, 20]) ➞ 15\n",
        "\\# Average of 10, 15 and 20\n",
        "\n",
        "trimmed_averages([1, 1, 1]) ➞ 1\n",
        "\\# 1"
      ],
      "metadata": {
        "id": "oYAck1PBmWr0"
      }
    },
    {
      "cell_type": "markdown",
      "source": [
        "## Reto 123:\n",
        "*"
      ],
      "metadata": {
        "id": "TKCDa5k2mWyf"
      }
    },
    {
      "cell_type": "markdown",
      "source": [
        "## Reto 123:\n",
        "*"
      ],
      "metadata": {
        "id": "g88irJihmW4g"
      }
    },
    {
      "cell_type": "markdown",
      "source": [
        "## Reto 123:\n",
        "*"
      ],
      "metadata": {
        "id": "NDwjfe7amW-g"
      }
    },
    {
      "cell_type": "markdown",
      "source": [
        "## Reto 123:\n",
        "*"
      ],
      "metadata": {
        "id": "TK0bYgaymXEe"
      }
    },
    {
      "cell_type": "markdown",
      "source": [
        "## Reto 123:\n",
        "*"
      ],
      "metadata": {
        "id": "6uj_RrlkmXKE"
      }
    },
    {
      "cell_type": "markdown",
      "source": [
        "## Reto 123:\n",
        "*"
      ],
      "metadata": {
        "id": "SpGVJVCJmXQC"
      }
    },
    {
      "cell_type": "markdown",
      "source": [
        "## Reto 123:\n",
        "*"
      ],
      "metadata": {
        "id": "0JyFn9G4mXVs"
      }
    },
    {
      "cell_type": "markdown",
      "source": [
        "## Reto 123:\n",
        "*"
      ],
      "metadata": {
        "id": "t0NY31pRmXbq"
      }
    },
    {
      "cell_type": "markdown",
      "source": [
        "## Reto 123:\n",
        "*"
      ],
      "metadata": {
        "id": "QhWWZmP9mXhq"
      }
    },
    {
      "cell_type": "markdown",
      "source": [
        "## Reto 123:\n",
        "*"
      ],
      "metadata": {
        "id": "7152ZdXMmXnm"
      }
    },
    {
      "cell_type": "markdown",
      "source": [
        "## Reto 123:\n",
        "*"
      ],
      "metadata": {
        "id": "S3R6TrvamXtp"
      }
    },
    {
      "cell_type": "markdown",
      "source": [
        "## Reto 123: Basic Variable Assignment\n",
        "* Un usuario está intentando crear su login en una web juntando su nombre y su edad.\n",
        "* Cree una función que retorne este login y así ayudarás a los usuarios sugiriéndoles una alterternativa.\n",
        "    1. login_sugerido(\"Ana\", 16) ➞ \"Ana16\"\n",
        "    2. login_sugerido(\"Luis2010\", 17) ➞ \"Luis201017\"\n",
        "    3. login_sugerido(\"mari@\", 18) ➞ \"mari@18\"\n"
      ],
      "metadata": {
        "id": "isZKqb-XSyT6"
      }
    },
    {
      "cell_type": "markdown",
      "source": [
        "## Reto 124: Recursion to Repeat a String n Number of Times\n",
        "* Cree una función recursiva que tome dos parámetros y repita la cadena n veces.\n",
        "* El primer parámetro es la cadena que se repetirá\n",
        "* El segundo parámetro es el número de veces que se repetirá la cadena.\n",
        "    1. repetition(\"ab\", 3) ➞ \"ababab\"\n",
        "    2. repetition(\"kiwi\", 1) ➞ \"kiwi\"\n",
        "    3. repetition(\"Cherry\", 2) ➞ \"CherryCherry\"\n",
        "\n"
      ],
      "metadata": {
        "id": "5vA_iDMVzyLM"
      }
    },
    {
      "cell_type": "code",
      "source": [
        "def repetition(txt, n):\n",
        "    if n == 1:\n",
        "        return txt\n",
        "    else:\n",
        "        return txt + repetition(txt, n-1)\n",
        "\n",
        "print(repetition(\"Cherry\", 3))"
      ],
      "metadata": {
        "colab": {
          "base_uri": "https://localhost:8080/"
        },
        "id": "Fwt6_epj5Ydo",
        "outputId": "667387ba-52ec-4ebe-b862-9e121330ec6f"
      },
      "execution_count": null,
      "outputs": [
        {
          "output_type": "stream",
          "name": "stdout",
          "text": [
            "CherryCherryCherry\n"
          ]
        }
      ]
    }
  ]
}