{
  "nbformat": 4,
  "nbformat_minor": 0,
  "metadata": {
    "colab": {
      "provenance": [],
      "authorship_tag": "ABX9TyO4uaoNB/iccJf8oRlLmY3i",
      "include_colab_link": true
    },
    "kernelspec": {
      "name": "python3",
      "display_name": "Python 3"
    },
    "language_info": {
      "name": "python"
    }
  },
  "cells": [
    {
      "cell_type": "markdown",
      "metadata": {
        "id": "view-in-github",
        "colab_type": "text"
      },
      "source": [
        "<a href=\"https://colab.research.google.com/github/financieras/curso_python/blob/main/retos/paso_a_paso.ipynb\" target=\"_parent\"><img src=\"https://colab.research.google.com/assets/colab-badge.svg\" alt=\"Open In Colab\"/></a>"
      ]
    },
    {
      "cell_type": "markdown",
      "source": [
        "## Reto 1: Return the Sum of Two Numbers\n",
        "* Crea una función que tome dos números como argumentos y devuelva su suma.\n",
        "    1. sumar(3, 2) ➞ 5\n",
        "    1. sumar(-3, -6) ➞ -9\n",
        "    1. sumar(7, 3) ➞ 10"
      ],
      "metadata": {
        "id": "c1sQ-fIGDDs5"
      }
    },
    {
      "cell_type": "markdown",
      "source": [
        "## Reto 2: Convert Minutes into Seconds\n",
        "* Escribe una función que tome un número entero de `minutos` y lo convierta a segundos.\n",
        "    1. minutos_a_segundos(5) ➞ 300\n",
        "    1. minutos_a_segundos(3) ➞ 180\n",
        "    1. minutos_a_segundos(2) ➞ 120"
      ],
      "metadata": {
        "id": "hOLv-TIRDf6j"
      }
    },
    {
      "cell_type": "markdown",
      "source": [
        "## Reto 3: Return the Next Number from the Integer Passed\n",
        "* Cree una función que tome un número como argumento, incremente el número en +1 y devuelva el resultado.\n",
        "    1. suma_uno(0) ➞ 1\n",
        "    1. suma_uno(9) ➞ 10\n",
        "    1. suma_uno(-3) ➞ -2"
      ],
      "metadata": {
        "id": "WTawBnD9EVuF"
      }
    },
    {
      "cell_type": "markdown",
      "source": [
        "## Reto 4: Area of a Triangle\n",
        "* Escribe una función que tome la `base` y la `altura` de un triángulo y devuelva su área.\n",
        "    1. area_triangulo(3, 2) ➞ 3\n",
        "    1. area_triangulo(7, 4) ➞ 14\n",
        "    1. area_triangulo(10, 10) ➞ 50"
      ],
      "metadata": {
        "id": "bfTd-0bmFSBp"
      }
    },
    {
      "cell_type": "markdown",
      "source": [
        "## Reto 5: Return the First Element in an Array\n",
        "* Cree una función que reciba una lista y devuelva el primer elemento.\n",
        "    1. obtener_primer_valor(['a', 'e', 'i', 'o', 'u']) ➞ 'a'\n",
        "    1. obtener_primer_valor([80, 5, 100]) ➞ 80\n",
        "    1. obtener_primer_valor([-500, 0, 50]) ➞ -500"
      ],
      "metadata": {
        "id": "WJ_mA4xsGA-a"
      }
    },
    {
      "cell_type": "markdown",
      "source": [
        "## Reto 6: Power Calculator\n",
        "* Cree una función que tome `voltaje` y la `intensidad` de corriente y devuelva la `potencia` calculada.\n",
        "    1. potencia(230, 10) ➞ 2300\n",
        "    1. potencia(110, 3) ➞ 330\n",
        "    1. potencia(480, 20) ➞ 9600"
      ],
      "metadata": {
        "id": "lIodMfnfGeCi"
      }
    },
    {
      "cell_type": "markdown",
      "source": [
        "## Reto 7: Convert Hours into Seconds\n",
        "* Escribe una función que convierta `horas` en segundos.\n",
        "    1. horas_a_segundos(2) ➞ 7200\n",
        "    1. horas_a_segundos(10) ➞ 36000\n",
        "    1. horas_a_segundos(24) ➞ 86400"
      ],
      "metadata": {
        "id": "Npptws5vGczF"
      }
    },
    {
      "cell_type": "markdown",
      "source": [
        "## Reto 8: Return the Remainder from Two Numbers\n",
        "* Crea una función que reciba como parámetros el `numerador` y el `denominador` de una división y retorne el resto también llamado resíduo o módulo.\n",
        "    1. mod(24, 5) ➞ 4\n",
        "    1. mod(50, 10) ➞ 0\n",
        "    1. mod(3, 4) ➞ 3"
      ],
      "metadata": {
        "id": "huBmVKl0Gc8j"
      }
    },
    {
      "cell_type": "markdown",
      "source": [
        "## Reto 8.5: Return a String as an Integer\n",
        "* Cree una función que tome una cadena y la devuelva como un número entero.\n",
        "    1. string_to_int(\"6\") ➞ 6\n",
        "    2. string_to_int(\"1000\") ➞ 1000\n",
        "    3. string_to_int(\"12\") ➞ 12"
      ],
      "metadata": {
        "id": "qVN8HUR1aBF7"
      }
    },
    {
      "cell_type": "markdown",
      "source": [
        "## Reto 9: Find the Perimeter of a Rectangle\n",
        "* Crea una función que tome el `largo` y el `ancho` de un rectángulo y retorne su perímetro.\n",
        "    1. perimetro(6, 7) ➞ 26\n",
        "    1. perimetro(20, 10) ➞ 60\n",
        "    1. perimetro(2, 9) ➞ 22"
      ],
      "metadata": {
        "id": "SGsmTdRwGdET"
      }
    },
    {
      "cell_type": "markdown",
      "source": [
        "## Reto 10: Return Something to Me!\n",
        "* Escribe una función que devuelva la cadena \"Mi\" unida con un espacio \" \" y el argumento dado.\n",
        "    1. algo_mio(\"coche\") ➞ \"Mi coche\"\n",
        "    1. algo_mio(\"verano mágico\") ➞ \"Mi verano mágico\"\n",
        "    1. algo_mio(\"Mi\") ➞ \"Mi Mi\""
      ],
      "metadata": {
        "id": "h_tb0PLbGdLr"
      }
    },
    {
      "cell_type": "markdown",
      "source": [
        "## Reto 11: Is the Number Less than or Equal to Zero?\n",
        "* Cree una función que tome un número como único argumento y devuelva verdadero si es menor o igual a cero; de lo contrario, devuelva falso.\n",
        "    1. menor_o_igual_a_cero(5) ➞ False\n",
        "    1. menor_o_igual_a_cero(0) ➞ True\n",
        "    1. menor_o_igual_a_cero(-2) ➞ True"
      ],
      "metadata": {
        "id": "rmZs31j9GdRp"
      }
    },
    {
      "cell_type": "markdown",
      "source": [
        "## Reto 11.1: Buggy Code (Part 4)\n",
        "* Yvonne ha escrito una función que devuelve un saludo a sus amigos.\n",
        "* Pero tiene un amigo especial, Ares, al que quiere saludar de una forma diferente.\n",
        "* Añadió un caso especial en su función, pero cometió un error.\n",
        "* ¿Puedes intentar solucionar el error para que la función trabaje correctamente?\n",
        "    1. greeting(\"Matt\") ➞ \"Hello, Matt!\"\n",
        "    2. greeting(\"Helen\") ➞ \"Hello, Helen!\"\n",
        "    3. greeting(\"Ares\") ➞ \"Hello, my Love!\"\n",
        "* Esta es la función que da problemas:\n",
        "\n",
        "<pre>\n",
        "def greeting(name):\n",
        "\treturn \"Hello, \" + name + \"!\"\n",
        "\tif name == \"Ares\":\n",
        "\t\treturn \"Hello, my Love!\"\n",
        "</pre>"
      ],
      "metadata": {
        "id": "1pzgsdSjomf9"
      }
    },
    {
      "cell_type": "markdown",
      "source": [
        "## Reto 12: Sum of Polygon Angles\n",
        "* Dado un polígono regular de `n` lados, devuelve la suma total de los ángulos internos (en grados).\n",
        "    1. grados_poligono(3) ➞ 180\n",
        "    2. grados_poligono(4) ➞ 360\n",
        "    3. grados_poligono(6) ➞ 720\n",
        "* `n` siempre será mayor que 2\n",
        "* La fórmula `(n - 2) × 180` da la suma de los ángulos de un polígono de `n` lados."
      ],
      "metadata": {
        "id": "5A-5eV-vGdWk"
      }
    },
    {
      "cell_type": "markdown",
      "source": [
        "## Reto 12.5: To the Power of _____\n",
        "* Cree una función que tome un número base y un número exponente y devuelva el cálculo.\n",
        "    1. calcular_potencias(5, 3) ➞ 125\n",
        "    2. calcular_potencias(10, 4) ➞ 10000\n",
        "    3. calcular_potencias(3, 3) ➞ 27"
      ],
      "metadata": {
        "id": "dQhx7Ytkbhd1"
      }
    },
    {
      "cell_type": "markdown",
      "source": [
        "## Reto 12.6: Boolean to String Conversion\n",
        "* Cree una función que tome una bandera booleana y lo devuelva como una cadena.\n",
        "    1. bool_to_string(True) ➞ \"True\"\n",
        "    2. bool_to_string(False) ➞ \"False\"\n",
        "* La función puede comenzar así:\n",
        "\n",
        "<pre>\n",
        "def bool_to_string(flag):\n",
        "</pre>"
      ],
      "metadata": {
        "id": "znXBQ4UOcUp_"
      }
    },
    {
      "cell_type": "markdown",
      "source": [
        "## Reto 13: Basketball Points\n",
        "* Estás contando puntos para un partido de baloncesto, dada la cantidad de tiros de 2 y 3 puntos anotados.\n",
        "* Encuentra los puntos finales para el equipo y devuelve ese valor.\n",
        "    1. puntos(1, 1) ➞ 5\n",
        "    2. puntos(7, 5) ➞ 29\n",
        "    3. puntos(38, 8) ➞ 100"
      ],
      "metadata": {
        "id": "6kkb_cIDSuql"
      }
    },
    {
      "cell_type": "markdown",
      "source": [
        "## Reto 14: Less Than 100?\n",
        "* Dados dos números, devuelve verdadero si la suma de ambos números es menor que 100.\n",
        "* De lo contrario, devuelve falso.\n",
        "    1. menor_que_cien(22, 15) ➞ True\n",
        "    2. menor_que_cien(93, 34) ➞ False\n",
        "    3. menor_que_cien(3, 17) ➞ True"
      ],
      "metadata": {
        "id": "wkinIHpfSybR"
      }
    },
    {
      "cell_type": "markdown",
      "source": [
        "## Reto 14.1: Find the Largest Number in a List\n",
        "* Crea una función que tome una lista de números enteros no negativos.\n",
        "* Retorna el número más grande de la lista.\n",
        "    1. findLargestNum([4, 5, 1, 3]) ➞ 5\n",
        "    2. findLargestNum([300, 200, 600, 150]) ➞ 600\n",
        "    3. findLargestNum([1000, 1001, 857, 1]) ➞ 1001"
      ],
      "metadata": {
        "id": "xgBq9J3vw8X2"
      }
    },
    {
      "cell_type": "markdown",
      "source": [
        "## Reto 14.2: Find the Smallest Number in a List\n",
        "* Cree una función que tome una lista de números y devuelva el número más pequeño de la lista.\n",
        "* Los números pueden contener decimales y ser negativos.\n",
        "    1. find_smallest_num([34, 15, 88, 2]) ➞ 2\n",
        "    2. find_smallest_num([34, -345, -1, 100]) ➞ -345\n",
        "    3. find_smallest_num([-76, 1.345, 1, 0]) ➞ -76\n",
        "    4. find_smallest_num([0.4356, 0.8795, 0.5435, -0.9999]) ➞ -0.9999\n",
        "    5. find_smallest_num([7, 7, 7]) ➞ 7"
      ],
      "metadata": {
        "id": "kttACsV1x3q6"
      }
    },
    {
      "cell_type": "markdown",
      "source": [
        "## Reto 15: Buggy Code (Part 5)\n",
        "* ¡Jorge creó un bucle infinito!\n",
        "* Ayúdale arreglando el código para que los ejemplos siguientes trabajen correctamente.\n",
        "    1. generar_array(1) ➞ [1]\n",
        "    2. generar_array(3) ➞ [1, 2, 3]\n",
        "    3. generar_array(6) ➞ [1, 2, 3, 4, 5, 6]\n",
        "\n",
        "* Este es el código que no funciona bien:\n",
        "\n",
        "<pre>\n",
        "def generar_array(number):\n",
        "    numeros = []\n",
        "    i = 0\n",
        "    while i <= n:\n",
        "        numeros.append(i)\n",
        "    return numeros\n",
        "\n",
        "generar_array(1)\n",
        "generar_array(3)\n",
        "generar_array(6)\n",
        "</pre>"
      ],
      "metadata": {
        "id": "vto4bc1xSygj"
      }
    },
    {
      "cell_type": "markdown",
      "source": [
        "## Reto 16: Buggy Code (Part 7)\n",
        "* ¡Lucía quiere intercambiar dos números dados!\n",
        "* La función no está devolviendo los valores correctos.\n",
        "* ¿Puedes ayudarla solucionando los bugs?\n",
        "* Los valores retornados correctos deberían ser estos:\n",
        "    1. swap(100, 200) ➞ [200, 100]\n",
        "    2. swap(44, 33) ➞ [33, 44]\n",
        "    3. swap(0, -1) ➞ [-1, 0]\n",
        "\n",
        "* Este es el código que no está funcionando correctamente:\n",
        "\n",
        "<pre>\n",
        "del swap(a, b)\n",
        "\tb = a\n",
        "\ta = b\n",
        "\treturn [a, b]\n",
        "\n",
        "a = 100\n",
        "b = 200\n",
        "print(swap(a, b))\n",
        "\n",
        "a, b = 33, 44\n",
        "print(swap(a, b))\n",
        "\n",
        "print(swap(0, -1))\n",
        "</pre>"
      ],
      "metadata": {
        "id": "Q4BQ1xfASykd"
      }
    },
    {
      "cell_type": "markdown",
      "source": [
        "## Reto 17: The Farm Problem\n",
        "* Un granjero te pide que le digas cuántas patas pueden contar entre todos sus animales.\n",
        "* El granjero cría tres especies: gallinas, vacas y cerdos.\n",
        "* El orden de los animales pasados ​​es animales (gallinas, vacas, cerdos).\n",
        "* Recuerde que el granjero quiere saber el número total de patas y no el número total de animales.\n",
        "    1. patas(2, 3, 5) ➞ 36\n",
        "    2. patas(1, 2, 3) ➞ 22\n",
        "    3. patas(5, 2, 8) ➞ 50"
      ],
      "metadata": {
        "id": "TWj9zKymSynK"
      }
    },
    {
      "cell_type": "markdown",
      "source": [
        "## Reto 18: Using the \"&&\" Operator\n",
        "* Python tiene el operador lógico `and`.\n",
        "* El operador `and` toma dos valores booleanos y devuelve verdadero si ambos valores son verdaderos.\n",
        "* Devuelve falso en cualquier otro caso.\n",
        "    1. funcion_and(True, True) ➞ True\n",
        "    2. funcion_and(True, False) ➞ False\n",
        "    3. funcion_and(False, False) ➞ False\n",
        "    4. funcion_and(False, False) ➞ False"
      ],
      "metadata": {
        "id": "1wnjDFgHSywE"
      }
    },
    {
      "cell_type": "markdown",
      "source": [
        "## Reto 19: Are the Numbers Equal?\n",
        "* Cree una función que devuelva verdadero cuando num1 sea igual a num2\n",
        "* En caso contrario, devuelve falso.\n",
        "    1. son_iguales(4, -4) ➞ False\n",
        "    2. son_iguales(3, 4) ➞ True\n",
        "    3. son_iguales(1, \"1\") ➞ False"
      ],
      "metadata": {
        "id": "55Q2ecLJSyz4"
      }
    },
    {
      "cell_type": "markdown",
      "source": [
        "## Reto 20: Football Points\n",
        "* En cierto juego de mesa cada ronda recibe unos puntos según este criterio:\n",
        "    - Las victorias dan 3 puntos\n",
        "    - Los empates dan 1 punto\n",
        "    - Las derrotas dan 0 puntos\n",
        "* Crear una función que de los puntos obtenidos según el número de victorias, empates y derrotas obtenidas.\n",
        "     1. puntos_obtenidos(3, 4, 2) ➞ 13\n",
        "     2. puntos_obtenidos(5, 0, 2) ➞ 15\n",
        "     3. puntos_obtenidos(0, 0, 1) ➞ 0\n",
        "* El orden de los argumentos ha de ser:\n",
        "    - `puntos_obtenidos(victorias, empates, derrotas)`\n",
        "* Los argumentos de la función serán siempre números enteros mayores o iguales a 0."
      ],
      "metadata": {
        "id": "ndW_fwNOSy7W"
      }
    },
    {
      "cell_type": "markdown",
      "source": [
        "## Reto 21: Convert Hours and Minutes into Seconds\n",
        "* Escribe una función que tome dos números enteros (horas, minutos) y devuelva el número de segundos contenidos en ese tiempo.\n",
        "    1. convert_a_segundos(1, 3) ➞ 3780\n",
        "    2. convert_a_segundos(2, 0) ➞ 7200\n",
        "    3. convert_a_segundos(0, 0) ➞ 0\n"
      ],
      "metadata": {
        "id": "lZj9FWGlykGc"
      }
    },
    {
      "cell_type": "markdown",
      "source": [
        "## Reto 21.1: Burglary Series (14): Adjectives Total\n",
        "* Vamos a una escuela infantil y preguntamos a varios niños por los colores que conocen en otros idiomas.\n",
        "* Cada respuesta la anotamos en un **diccionario** de Python.\n",
        "* Crear una función que retorne el número de respuestas contenidas en cada diccionario.\n",
        "    1. cantidad_colores({'rojo': 'red', 'azul': 'blue', 'amarillo': 'yellow', 'rosa': 'pink'}) ➞ 4\n",
        "    2. cantidad_colores({'azul': 'blue', 'rojo': 'red', 'negro': 'black'}) ➞ 3\n",
        "    3. cantidad_colores({'blanco': 'bianco', 'negro': 'nero', 'rojo': 'rosso'}) ➞ 3"
      ],
      "metadata": {
        "id": "EcMXJoZge1H6"
      }
    },
    {
      "cell_type": "markdown",
      "source": [
        "## Reto 21.2: String to Integer and Vice Versa\n",
        "* Escribe dos funciones:\n",
        "    - `to_int()`: una función para convertir una cadena en un número entero.\n",
        "    - `to_str()`: una función para convertir un número entero en una cadena.\n",
        "    1. to_int(\"77\") ➞ 77\n",
        "    2. to_int(\"532\") ➞ 532\n",
        "    3. to_str(77) ➞ \"77\"\n",
        "    4. to_str(532) ➞ \"532\""
      ],
      "metadata": {
        "id": "BFSsVGkRh54B"
      }
    },
    {
      "cell_type": "markdown",
      "source": [
        "## Reto 21.3: Check if objOne Is Equal to objTwo\n",
        "* Cree una función que verifique si dos argumentos de objeto son iguales entre sí.\n",
        "* Devuelve True si los objetos son iguales; de lo contrario, devuelve False.\n",
        "    1. Ejemplo 1. Aterando el orden de las parejas `clave:valor`\n",
        "    <pre>\n",
        "    # The first object parameter.\n",
        "obj_one = {\n",
        "  \"name\": \"Alex\",\n",
        "  \"phone\": \"687654321\",\n",
        "  \"email\": \"alex@gmail.com\"\n",
        "}\n",
        "    </pre>\n",
        "\n",
        "    <pre>\n",
        "# The second object parameter.\n",
        "obj_two = {\n",
        "  \"name\": \"Alex\",\n",
        "  \"email\": \"alex@gmail.com\",\n",
        "  \"phone\": \"687654321\"\n",
        "}\n",
        "</pre>\n",
        "\n",
        "    is_equal(obj_one, obj_two) ➞ True\n",
        "\n",
        "2. Ejemplo 2.\n",
        "    <pre>\n",
        "    # The first object parameter.\n",
        "obj_one = {\n",
        "  \"name\": \"Julia\",\n",
        "  \"phone\": \"612345678\",\n",
        "  \"email\": \"julia@gmail.com\"\n",
        "}\n",
        "    </pre>\n",
        "\n",
        "    <pre>\n",
        "# The second object parameter.\n",
        "obj_two = {\n",
        "  \"nombre\": \"Julia\",\n",
        "  \"telefono\": \"612345678\",\n",
        "  \"correo\": \"julia@gmail.com\"\n",
        "}\n",
        "</pre>\n",
        "\n",
        "    is_equal(obj_one, obj_two) ➞ False\n",
        "\n"
      ],
      "metadata": {
        "id": "AzEc5OxujTmX"
      }
    },
    {
      "cell_type": "markdown",
      "source": [
        "## Reto 22: Fix the Expression\n",
        "* Corrija el código siguiente para que la función devuelva verdadero si y solo si x es igual a 7.\n",
        "    1. es_siete(4) ➞ False\n",
        "    2. es_siete(9) ➞ False\n",
        "    3. es_siete(7) ➞ True\n",
        "* Consulta el **operador ternario** en Python\n",
        "* El código que no funciona correctamente es este:\n",
        "\n",
        "<pre>\n",
        "def es_siete(x):\n",
        "\tretur True if x=\"7\" else False\n",
        "</pre>\n"
      ],
      "metadata": {
        "id": "kIoWDOrDykTZ"
      }
    },
    {
      "cell_type": "markdown",
      "source": [
        "## Reto 23: Equality Check\n",
        "* Debe verificar la igualdad de dos valores diferentes dados los parámetros `a` y `b`.\n",
        "* Tanto el valor como el tipo de dato de los argumentos deben ser iguales.\n",
        "    1. check_igualdad(7, \"7\") ➞ False\n",
        "    2. check_igualdad(1, True) ➞ False\n",
        "    3. check_igualdad(1, --1) ➞ True\n",
        "    4. check_igualdad(0, 'False') ➞ False\n",
        "    5. check_igualdad(4, abs(-4)) ➞ True\n",
        "* Para el tipo de dato use la función interna `type()`\n",
        "* La función `abs()` calcula el valor absoluto de un número"
      ],
      "metadata": {
        "id": "uBgvowa5ykdn"
      }
    },
    {
      "cell_type": "markdown",
      "source": [
        "## Reto 24: Profitable Gamble\n",
        "* Cree una función que tome tres argumentos `probabilidad`, `premio`, `pago` y devuelva verdadero si `probabilidad * premio > pago`; de lo contrario, devuelve falso.\n",
        "* Ejemplo\n",
        "    - `apuesta_rentable(0.2, 50, 9)`\n",
        "    - debería ser verdadero, ya que el beneficio neto es 1\n",
        "    - (0.2 * 50 - 9) es 1 y se cumple que 1 > 0.\n",
        "    1. apuesta_rentable(0.2, 50, 9) ➞ True\n",
        "    2. apuesta_rentable(0.9, 1, 2) ➞ False\n",
        "    3. apuesta_rentable(0.9, 3, 2) ➞ True"
      ],
      "metadata": {
        "id": "hndooM_tymog"
      }
    },
    {
      "cell_type": "markdown",
      "source": [
        "## Reto 20:\n"
      ],
      "metadata": {
        "id": "uH0q2k3AymvL"
      }
    },
    {
      "cell_type": "markdown",
      "source": [
        "## Reto 20:\n"
      ],
      "metadata": {
        "id": "sIkIwIhrym10"
      }
    },
    {
      "cell_type": "markdown",
      "source": [
        "## Reto 20:\n"
      ],
      "metadata": {
        "id": "ZtQLbKpvym7z"
      }
    },
    {
      "cell_type": "markdown",
      "source": [
        "## Reto 20:\n"
      ],
      "metadata": {
        "id": "9TtBcMbWynC5"
      }
    },
    {
      "cell_type": "markdown",
      "source": [
        "## Reto 20:\n"
      ],
      "metadata": {
        "id": "tJ6I-ImMynKm"
      }
    },
    {
      "cell_type": "markdown",
      "source": [
        "## Reto: Basic Variable Assignment\n",
        "* Un usuario está intentando crear su login en una web juntando su nombre y su edad. Crea una función que retorne éste y así ayudarás a los usuarios.\n",
        "    1. login_sugerido(\"Ana\", 16) ➞ \"Ana16\"\n",
        "    2. login_sugerido(\"Luis2010\", 17) ➞ \"Luis201017\"\n",
        "    3. login_sugerido(\"mari@\", 18) ➞ \"mari@18\"\n"
      ],
      "metadata": {
        "id": "isZKqb-XSyT6"
      }
    }
  ]
}