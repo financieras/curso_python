{
  "nbformat": 4,
  "nbformat_minor": 0,
  "metadata": {
    "colab": {
      "provenance": [],
      "authorship_tag": "ABX9TyOcCqEtLlnGAc7uf8H62D72",
      "include_colab_link": true
    },
    "kernelspec": {
      "name": "python3",
      "display_name": "Python 3"
    },
    "language_info": {
      "name": "python"
    }
  },
  "cells": [
    {
      "cell_type": "markdown",
      "metadata": {
        "id": "view-in-github",
        "colab_type": "text"
      },
      "source": [
        "<a href=\"https://colab.research.google.com/github/financieras/curso_python/blob/main/retos/reto184.ipynb\" target=\"_parent\"><img src=\"https://colab.research.google.com/assets/colab-badge.svg\" alt=\"Open In Colab\"/></a>"
      ]
    },
    {
      "cell_type": "markdown",
      "source": [
        "## Reto 184: Acordes de JAZZ\n",
        "* Cree una función que concatene el número 7 al final de cada acorde en una lista.\n",
        "* Ignore todos los acordes que ya terminan en 7.\n",
        "* Devuelva una lista vacía si la lista dada está vacía.\n",
        "* Ejemplos:\n",
        "    1. jazzify([\"G\", \"F\", \"C\"]) ➞ [\"G7\", \"F7\", \"C7\"]\n",
        "    2. jazzify([\"Dm\", \"G\", \"E\", \"A\"]) ➞ [\"Dm7\", \"G7\", \"E7\", \"A7\"]\n",
        "    3. jazzify([\"F7\", \"E7\", \"A7\", \"Ab7\", \"Gm7\", \"C7\"]) ➞ [\"F7\", \"E7\", \"A7\", \"Ab7\", \"Gm7\", \"C7\"]\n",
        "    4. jazzify([\"A\", \"E\", \"A7\", \"Ab7\", \"F\"]) ➞ ['A7', 'E7', 'A7', 'Ab7', 'F7']\n",
        "    5. jazzify([]) ➞ []"
      ],
      "metadata": {
        "id": "nUV8AM8D3Le3"
      }
    },
    {
      "cell_type": "code",
      "source": [
        "def jazzify(lst):\n",
        "    pass"
      ],
      "metadata": {
        "id": "hwsGVqvP5PaV"
      },
      "execution_count": null,
      "outputs": []
    },
    {
      "cell_type": "code",
      "source": [
        "print(jazzify([\"G\", \"F\", \"C\"]))\n",
        "print(jazzify([\"Dm\", \"G\", \"E\", \"A\"]))\n",
        "print(jazzify([\"F7\", \"E7\", \"A7\", \"Ab7\", \"Gm7\", \"C7\"]))\n",
        "print(jazzify([\"A\", \"E\", \"A7\", \"Ab7\", \"F\"]))\n",
        "print([])"
      ],
      "metadata": {
        "id": "yd0ufoUU5Wkp"
      },
      "execution_count": null,
      "outputs": []
    }
  ]
}