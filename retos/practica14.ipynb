{
  "nbformat": 4,
  "nbformat_minor": 0,
  "metadata": {
    "colab": {
      "provenance": [],
      "authorship_tag": "ABX9TyNFVaueukzx+L7SaY7GoQ2M",
      "include_colab_link": true
    },
    "kernelspec": {
      "name": "python3",
      "display_name": "Python 3"
    },
    "language_info": {
      "name": "python"
    }
  },
  "cells": [
    {
      "cell_type": "markdown",
      "metadata": {
        "id": "view-in-github",
        "colab_type": "text"
      },
      "source": [
        "<a href=\"https://colab.research.google.com/github/financieras/curso_python/blob/main/retos/practica14.ipynb\" target=\"_parent\"><img src=\"https://colab.research.google.com/assets/colab-badge.svg\" alt=\"Open In Colab\"/></a>"
      ]
    },
    {
      "cell_type": "markdown",
      "source": [
        "## Reto 131: Probabilidad de ser un impostor\n",
        "* Crea una función que calcule la probabilidad de ser un impostor.\n",
        "* La fórmula para las posibilidades de ser un impostor es `100 × (i / p)` donde `i` es el recuento de impostores y `p` es el recuento de jugadores.\n",
        "* Asegúrese de redondear el valor al número entero más cercano y devolver el valor como porcentaje.\n",
        "* Ejemplos:\n",
        "    1. imposter_formula(1, 10) ➞ \"10%\"\n",
        "    2. imposter_formula(2, 5) ➞ \"40%\"\n",
        "    3. imposter_formula(1, 8) ➞ \"12%\""
      ],
      "metadata": {
        "id": "tMzdScmLmU2z"
      }
    },
    {
      "cell_type": "code",
      "source": [
        "def imposter_formula(i, p):\n",
        "    pass"
      ],
      "metadata": {
        "id": "J8-dffVf2a0k"
      },
      "execution_count": null,
      "outputs": []
    },
    {
      "cell_type": "code",
      "source": [
        "print(imposter_formula(1, 10))\n",
        "print(imposter_formula(2, 5))\n",
        "print(imposter_formula(1, 8))"
      ],
      "metadata": {
        "id": "_pvxzdXY2a0k"
      },
      "execution_count": null,
      "outputs": []
    },
    {
      "cell_type": "markdown",
      "source": [
        "## Reto 132: Replicando la función módulo\n",
        "* Cree una función que actúe como el operador de módulo `%` sin utilizar el operador de módulo.\n",
        "* El operador de módulo es una forma de determinar el resto o resíduo de una operación de división.\n",
        "* No utilice el operador `%` para devolver los resultados.\n",
        "* Ejemplos:\n",
        "    1. mod(5, 2) ➞ 1\n",
        "    2. mod(218, 5) ➞ 3\n",
        "    3. mod(6, 3) ➞ 0\n"
      ],
      "metadata": {
        "id": "XPVxTo33mU8D"
      }
    },
    {
      "cell_type": "code",
      "source": [
        "def mod(a, b):\n",
        "    pass"
      ],
      "metadata": {
        "id": "XIQ95Cu82aWg"
      },
      "execution_count": null,
      "outputs": []
    },
    {
      "cell_type": "code",
      "source": [
        "print(mod(5, 2))\n",
        "print(mod(218, 5))\n",
        "print(mod(6, 3))"
      ],
      "metadata": {
        "id": "npY4eCKP2aWg"
      },
      "execution_count": null,
      "outputs": []
    },
    {
      "cell_type": "markdown",
      "source": [
        "## Reto 133: Encontrar `None` en una lista\n",
        "* Cree una función para encontrar `None` en una lista de números.\n",
        "* El valor de retorno debe ser el índice donde se encuentra `None`.\n",
        "* Si no se encuentra `None` en la lista, devuelva -1.\n",
        "* `None` aparecerá en la lista como máximo una vez.\n",
        "* Ejemplos:\n",
        "    1. find_none([1, 2, None]) ➞ 2\n",
        "    2. find_none([None, 1, 2, 3, 4]) ➞ 0\n",
        "    3. find_none([0, 1, 2, 3, 4]) ➞ -1"
      ],
      "metadata": {
        "id": "iVYlgvgUmVCY"
      }
    },
    {
      "cell_type": "code",
      "source": [
        "def find_none(lst):\n",
        "    pass"
      ],
      "metadata": {
        "id": "zWYHUrjO2Z9R"
      },
      "execution_count": null,
      "outputs": []
    },
    {
      "cell_type": "code",
      "source": [
        "print(find_none([1, 2, None]))\n",
        "print(find_none([None, 1, 2, 3, 4]))\n",
        "print(find_none([0, 1, 2, 3, 4]))"
      ],
      "metadata": {
        "id": "GzlKI43e2Z9R"
      },
      "execution_count": null,
      "outputs": []
    },
    {
      "cell_type": "markdown",
      "source": [
        "## Reto 134: ¿Cuántos dígitos tiene un número?\n",
        "* Cree una función que tiene un número como parámetro y devuelve la cantidad de dígitos que contiene.\n",
        "* Ejemplos:\n",
        "    1. find_digit_amount(123) ➞ 3\n",
        "    2. find_digit_amount(56) ➞ 2\n",
        "    3. find_digit_amount(7154) ➞ 4\n",
        "    4. find_digit_amount(61217311514) ➞ 11\n",
        "    5. find_digit_amount(0) ➞ 1"
      ],
      "metadata": {
        "id": "UlRIWxQXmVIB"
      }
    },
    {
      "cell_type": "code",
      "source": [
        "def find_digit_amount(n):\n",
        "    pass"
      ],
      "metadata": {
        "id": "qJdiAk8p2Zlx"
      },
      "execution_count": null,
      "outputs": []
    },
    {
      "cell_type": "code",
      "source": [
        "print(find_digit_amount(123))\n",
        "print(find_digit_amount(56))\n",
        "print(find_digit_amount(7154))\n",
        "print(find_digit_amount(61217311514) )\n",
        "print(find_digit_amount(0) )"
      ],
      "metadata": {
        "id": "4ZFrCiMg2Zlx"
      },
      "execution_count": null,
      "outputs": []
    },
    {
      "cell_type": "markdown",
      "source": [
        "## Reto 135: Encuentra la bomba\n",
        "* Cree una función que encuentre la palabra \"bomba\" en la cadena dada (no distingue entre mayúsculas y minúsculas).\n",
        "* Si la encuentra, devuelva `\"¡Corre!\"`, de lo contrario, devuelva `\"No hay bomba, relax.\"`.\n",
        "* Ejemplos:\n",
        "    1. bomb(\"Hay una bomba.\") ➞ \"!Corre!\"\n",
        "    2. bomb(\"¿Crees que hay una Bomba?\") ➞ \"!Corre!\"\n",
        "    3. bomb(\"Solo es una Boa.\") ➞ \"No hay bomba, relax.\""
      ],
      "metadata": {
        "id": "Ika_USkdmVN_"
      }
    },
    {
      "cell_type": "code",
      "source": [
        "def bomb(frase):\n",
        "    pass"
      ],
      "metadata": {
        "id": "XELAU0nJ2ZMS"
      },
      "execution_count": null,
      "outputs": []
    },
    {
      "cell_type": "code",
      "source": [
        "print(bomb(\"Hay una bomba.\"))\n",
        "print(bomb(\"¿Crees que hay una Bomba?\"))\n",
        "print(bomb(\"Solo es una Boa.\"))"
      ],
      "metadata": {
        "id": "LyTXP1C02ZMS"
      },
      "execution_count": null,
      "outputs": []
    },
    {
      "cell_type": "markdown",
      "source": [
        "## Reto 136: Contar cierto caracter en un String\n",
        "* Cree una función que tome dos cadenas como argumentos y devuelva el número de veces que la primera cadena (el carácter único) se encuentra en la segunda cadena.\n",
        "* La función debe distinguir entre mayúsculas y minúsculas.\n",
        "* Ejemplos:\n",
        "    1. char_count(\"a\", \"Sorpresa\") ➞ 1\n",
        "    2. char_count(\"c\", \"Cáceres ciudad histórica\") ➞ 3\n",
        "    3. char_count(\"C\", \"Cáceres ciudad histórica\") ➞ 1"
      ],
      "metadata": {
        "id": "YjoLKJzSmVUS"
      }
    },
    {
      "cell_type": "code",
      "source": [
        "def char_count(caracter, palabra) :\n",
        "    pass"
      ],
      "metadata": {
        "id": "Xn_obscm2YyB"
      },
      "execution_count": null,
      "outputs": []
    },
    {
      "cell_type": "code",
      "source": [
        "print(char_count(\"a\", \"Sorpresa\") )\n",
        "print(char_count(\"c\", \"Cáceres ciudad histórica\"))\n",
        "print(char_count(\"C\", \"Cáceres ciudad histórica\"))"
      ],
      "metadata": {
        "id": "UU2G4lXc2YyB"
      },
      "execution_count": null,
      "outputs": []
    },
    {
      "cell_type": "markdown",
      "source": [
        "## Reto 137: Palabras compuestas\n",
        "* Una palabra se ha dividido en una parte izquierda y una parte derecha.\n",
        "* Vuelva a formar la palabra uniendo ambas mitades y haciendo que el primer caracter sea una letra mayúscula.\n",
        "* Ejemplos:\n",
        "    1. get_word(\"java\", \"script\") ➞ \"Javascript\"\n",
        "    2. get_word(\"data\", \"base\") ➞ \"Database\"\n",
        "    3. get_word(\"cyber\", \"space\") ➞ \"Cyberspace\"\n",
        "    4. get_word(\"net\", \"working\") ➞ \"Networking\""
      ],
      "metadata": {
        "id": "P79QqyJcmVaQ"
      }
    },
    {
      "cell_type": "code",
      "source": [
        "def get_word(a, b):\n",
        "    pass"
      ],
      "metadata": {
        "id": "R5VcTrpu2YTm"
      },
      "execution_count": null,
      "outputs": []
    },
    {
      "cell_type": "code",
      "source": [
        "print(get_word(\"java\", \"script\"))\n",
        "print(get_word(\"data\", \"base\"))\n",
        "print(get_word(\"cyber\", \"space\"))\n",
        "print(get_word(\"net\", \"working\"))"
      ],
      "metadata": {
        "id": "SsisDVhq2YTm"
      },
      "execution_count": null,
      "outputs": []
    },
    {
      "cell_type": "markdown",
      "source": [
        "## Reto 138: Cada persona con su ocupación\n",
        "* Tienes dos listas.\n",
        "    >- Una muestra los nombres de las personas: `names`\n",
        "    >- La otra muestra sus ocupación: `jobs`\n",
        "* Su tarea consiste en crear un diccionario que muestre a cada persona en su respectiva ocupación.\n",
        "* Las personas y ocupaciones siguen el mismo orden en sus listas.\n",
        "* Ejemplo:\n",
        "    - `names = [\"Leo\", \"Vega\", \"Jana\", \"Alex\", \"Eva\"]`\n",
        "    - `jobs = [\"Lawyer\", \"Teacher\", \"Doctor\", \"Programmer\", \"Chef\"]`\n",
        "\n",
        "    - `asignar(names, jobs) ➞ {'Leo': 'Lawyer', 'Vega': 'Teacher', 'Jana': 'Doctor', 'Alex': 'Programmer', 'Eva': 'Chef'}`"
      ],
      "metadata": {
        "id": "bhmE6XhYmVf8"
      }
    },
    {
      "cell_type": "code",
      "source": [
        "def asignar(lst1, lst2):\n",
        "    pass"
      ],
      "metadata": {
        "id": "uBUHlCaD2X5h"
      },
      "execution_count": null,
      "outputs": []
    },
    {
      "cell_type": "code",
      "source": [
        "names = [\"Leo\", \"Vega\", \"Jana\", \"Alex\", \"Eva\"]\n",
        "jobs = [\"Lawyer\", \"Teacher\", \"Doctor\", \"Programmer\", \"Chef\"]\n",
        "print(asignar(names, jobs))"
      ],
      "metadata": {
        "id": "-lxkas2l2X5h"
      },
      "execution_count": null,
      "outputs": []
    },
    {
      "cell_type": "markdown",
      "source": [
        "## Reto 139: Comprobar si un array cabe dentro de otro\n",
        "* Cree una función que devuelva `True` si la primera lista se puede anidar dentro de la segunda y `False` en caso contrario.\n",
        "* Ejemplos:\n",
        "    1. can_nest([1, 2, 3, 4], [0, 6]) ➞ True\n",
        "    2. can_nest([3, 1], [4, 2, 0]) ➞ True\n",
        "    3. can_nest([2, -1], [-3, 5]) ➞ True\n",
        "    3. can_nest([9, 9, 8], [8, 9]) ➞ False\n",
        "    4. can_nest([1, 2, 3, 4], [2, 3]) ➞ False\n",
        "    5. can_nest([1, 2, 4, 5, 6], [0, 6]) ➞ False\n",
        "    6. can_nest([0, 1, 2, 3, 5], [0, 6]) ➞ False"
      ],
      "metadata": {
        "id": "oFfB679qmVl6"
      }
    },
    {
      "cell_type": "code",
      "source": [
        "def can_nest(lst1, lst2):\n",
        "    pass"
      ],
      "metadata": {
        "id": "Vkw7_Qg-2Xes"
      },
      "execution_count": null,
      "outputs": []
    },
    {
      "cell_type": "code",
      "source": [
        "print(can_nest([1, 2, 3, 4], [0, 6]))\n",
        "print(can_nest([3, 1], [4, 2, 0]))\n",
        "print(can_nest([2, -1], [-3, 5]))\n",
        "print(can_nest([9, 9, 8], [8, 9]))\n",
        "print(can_nest([1, 2, 3, 4], [2, 3]))\n",
        "print(can_nest([1, 2, 4, 5, 6], [0, 6]))\n",
        "print(can_nest([0, 1, 2, 3, 5], [0, 6]))"
      ],
      "metadata": {
        "id": "MTwONeIP2Xes"
      },
      "execution_count": null,
      "outputs": []
    },
    {
      "cell_type": "markdown",
      "source": [
        "## Reto 140: Obtener el nombre de fichero\n",
        "* Cree una función que devuelva el nombre de archivo seleccionado de una ruta.\n",
        "* La función debe retornar el fichero y debe incluir la extensión.\n",
        "* Ejemplos:\n",
        "    1. get_filename(\"C:/Projects/tests/ascii/prueba.txt\") ➞ \"prueba.txt\"\n",
        "    2. get_filename(\"C:/Users/marta/Music/Beethoven_5.mp3\") ➞ \"Beethoven_5.mp3\"\n",
        "    3. get_filename(\"editor.exe\") ➞ \"editor.exe\""
      ],
      "metadata": {
        "id": "AhoT4oM5mVrK"
      }
    },
    {
      "cell_type": "code",
      "source": [
        "def get_filename(ruta):\n",
        "    pass"
      ],
      "metadata": {
        "id": "rWqqKFF72XAh"
      },
      "execution_count": null,
      "outputs": []
    },
    {
      "cell_type": "code",
      "source": [
        "print(get_filename(\"C:/Projects/tests/ascii/prueba.txt\"))\n",
        "print(get_filename(\"C:/Users/marta/Music/Beethoven_5.mp3\"))\n",
        "print(get_filename(\"editor.exe\"))"
      ],
      "metadata": {
        "id": "bYUZCRDh2XAh"
      },
      "execution_count": null,
      "outputs": []
    }
  ]
}