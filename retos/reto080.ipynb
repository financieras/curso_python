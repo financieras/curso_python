{
  "nbformat": 4,
  "nbformat_minor": 0,
  "metadata": {
    "colab": {
      "provenance": [],
      "authorship_tag": "ABX9TyNfuv0RVllEKLQLN4Mu+495",
      "include_colab_link": true
    },
    "kernelspec": {
      "name": "python3",
      "display_name": "Python 3"
    },
    "language_info": {
      "name": "python"
    }
  },
  "cells": [
    {
      "cell_type": "markdown",
      "metadata": {
        "id": "view-in-github",
        "colab_type": "text"
      },
      "source": [
        "<a href=\"https://colab.research.google.com/github/financieras/curso_python/blob/main/retos/reto080.ipynb\" target=\"_parent\"><img src=\"https://colab.research.google.com/assets/colab-badge.svg\" alt=\"Open In Colab\"/></a>"
      ]
    },
    {
      "cell_type": "markdown",
      "source": [
        "## Reto 80: Crear ID\n",
        "* Muchos IDs (para darse de alta en páginas o aplicaciones) se crean utilizando el nombre de la persona.\n",
        "* Cree una función que devolverá una identificación de cuatro caracteres utilizando el nombre y apellido de la persona.\n",
        "* El primer carácter será la primera letra del nombre pero en minúsculas.\n",
        "* Los siguientes tres caracteres serán los primeros tres caracteres del apellido, donde la primera letra estará en mayúscula y las otras dos en minúsculas.\n",
        "* Ejemplos:\n",
        "    1. crear_id(\"maría\", \"ruiz\") ➞ \"mRui\"\n",
        "    2. crear_id(\"Juan\", \"Martín\") ➞ \"jMar\"\n",
        "    3. crear_id(\"Andrew\", \"McDonald\") ➞ \"aMcd\""
      ],
      "metadata": {
        "id": "bQXSmfJGb63c"
      }
    },
    {
      "cell_type": "code",
      "execution_count": null,
      "metadata": {
        "id": "2rdpyi54b2JG"
      },
      "outputs": [],
      "source": [
        "def crear_id(nombre, apellido):\n",
        "    pass"
      ]
    },
    {
      "cell_type": "code",
      "source": [
        "print(crear_id(\"maría\", \"ruiz\"))\n",
        "print(crear_id(\"Juan\", \"Martín\"))\n",
        "print(crear_id(\"Andrew\", \"McDonald\"))"
      ],
      "metadata": {
        "id": "glSOQ3qmcCMq"
      },
      "execution_count": null,
      "outputs": []
    }
  ]
}