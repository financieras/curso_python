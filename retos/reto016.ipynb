{
  "nbformat": 4,
  "nbformat_minor": 0,
  "metadata": {
    "colab": {
      "provenance": [],
      "authorship_tag": "ABX9TyN0O/b4hQemAuIlUNqODec2",
      "include_colab_link": true
    },
    "kernelspec": {
      "name": "python3",
      "display_name": "Python 3"
    },
    "language_info": {
      "name": "python"
    }
  },
  "cells": [
    {
      "cell_type": "markdown",
      "metadata": {
        "id": "view-in-github",
        "colab_type": "text"
      },
      "source": [
        "<a href=\"https://colab.research.google.com/github/financieras/curso_python/blob/main/retos/reto016.ipynb\" target=\"_parent\"><img src=\"https://colab.research.google.com/assets/colab-badge.svg\" alt=\"Open In Colab\"/></a>"
      ]
    },
    {
      "cell_type": "markdown",
      "source": [
        "## Reto 16: Calculando potencias\n",
        "* Cree una función que tome un número `base` y un número `exponente` y devuelva el cálculo.\n",
        "* Ejemplos:\n",
        "    1. calcular_potencias(5, 3) ➞ 125\n",
        "    2. calcular_potencias(10, 4) ➞ 10000\n",
        "    3. calcular_potencias(3, 3) ➞ 27"
      ],
      "metadata": {
        "id": "dQhx7Ytkbhd1"
      }
    },
    {
      "cell_type": "code",
      "source": [
        "def calcular_potencias(base, exponente):\n",
        "    pass"
      ],
      "metadata": {
        "id": "8QDW4YJuwCdA"
      },
      "execution_count": null,
      "outputs": []
    },
    {
      "cell_type": "code",
      "source": [
        "print(calcular_potencias(5, 3))\n",
        "print(calcular_potencias(10, 4))\n",
        "print(calcular_potencias(3, 3))"
      ],
      "metadata": {
        "id": "m-LZjcMywNzD"
      },
      "execution_count": null,
      "outputs": []
    }
  ]
}