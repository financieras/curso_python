{
  "nbformat": 4,
  "nbformat_minor": 0,
  "metadata": {
    "colab": {
      "provenance": [],
      "authorship_tag": "ABX9TyPxJSlH0qTGtBWSZHvkt2eo",
      "include_colab_link": true
    },
    "kernelspec": {
      "name": "python3",
      "display_name": "Python 3"
    },
    "language_info": {
      "name": "python"
    }
  },
  "cells": [
    {
      "cell_type": "markdown",
      "metadata": {
        "id": "view-in-github",
        "colab_type": "text"
      },
      "source": [
        "<a href=\"https://colab.research.google.com/github/financieras/curso_python/blob/main/retos/reto122.ipynb\" target=\"_parent\"><img src=\"https://colab.research.google.com/assets/colab-badge.svg\" alt=\"Open In Colab\"/></a>"
      ]
    },
    {
      "cell_type": "markdown",
      "source": [
        "## Reto 122: Votos a favor y votos en contra\n",
        "* Dado un diccionario que contiene recuentos de votos a favor y en contra, devuelva qué recuento de votos que debe mostrarse.\n",
        "* Se calcula restando el número de votos negativos de los votos positivos.\n",
        "* Ejemplos:\n",
        "    1. votos_netos({ \"positivos\": 13, \"negativos\": 0 }) ➞ 13\n",
        "    2. votos_netos({ \"positivos\": 2, \"negativos\": 33 }) ➞ -31\n",
        "    3. votos_netos({ \"positivos\": 32, \"negativos\": 32 }) ➞ 0\n"
      ],
      "metadata": {
        "id": "t3EoMcciz9a1"
      }
    },
    {
      "cell_type": "code",
      "source": [
        "def votos_netos(d):\n",
        "    pass"
      ],
      "metadata": {
        "id": "HBQyQls92fcw"
      },
      "execution_count": null,
      "outputs": []
    },
    {
      "cell_type": "code",
      "source": [
        "print(votos_netos({ \"positivos\": 13, \"negativos\": 0 }))\n",
        "print(votos_netos({ \"positivos\": 2, \"negativos\": 33 }))\n",
        "print(votos_netos({ \"positivos\": 32, \"negativos\": 32 }))"
      ],
      "metadata": {
        "id": "V9s2SunY2fcw"
      },
      "execution_count": null,
      "outputs": []
    }
  ]
}