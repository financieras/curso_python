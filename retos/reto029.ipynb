{
  "nbformat": 4,
  "nbformat_minor": 0,
  "metadata": {
    "colab": {
      "provenance": [],
      "authorship_tag": "ABX9TyPt3SegaMHsl7DaskgIXdXE",
      "include_colab_link": true
    },
    "kernelspec": {
      "name": "python3",
      "display_name": "Python 3"
    },
    "language_info": {
      "name": "python"
    }
  },
  "cells": [
    {
      "cell_type": "markdown",
      "metadata": {
        "id": "view-in-github",
        "colab_type": "text"
      },
      "source": [
        "<a href=\"https://colab.research.google.com/github/financieras/curso_python/blob/main/retos/reto029.ipynb\" target=\"_parent\"><img src=\"https://colab.research.google.com/assets/colab-badge.svg\" alt=\"Open In Colab\"/></a>"
      ]
    },
    {
      "cell_type": "markdown",
      "source": [
        "## Reto 29: ¿Son iguales los números?\n",
        "* Cree una función que devuelva `True` cuando `num1` sea igual a `num2`.\n",
        "* En caso contrario, devuelve `False`.\n",
        "* Ejemplos:\n",
        "    1. son_iguales(3, 3) ➞ True\n",
        "    2. son_iguales(3, 1+2) ➞ True\n",
        "    3. son_iguales(2, 6/3) ➞ True\n",
        "    4. son_iguales(4, -4) ➞ False\n",
        "    5. son_iguales(1, \"1\") ➞ False"
      ],
      "metadata": {
        "id": "55Q2ecLJSyz4"
      }
    },
    {
      "cell_type": "code",
      "source": [
        "def son_iguales(num1, num2):\n",
        "    pass"
      ],
      "metadata": {
        "id": "SY50U0jmDXZS"
      },
      "execution_count": null,
      "outputs": []
    },
    {
      "cell_type": "code",
      "source": [
        "print(son_iguales(3, 3))\n",
        "print(son_iguales(3, 1+2))\n",
        "print(son_iguales(2, 6/3))\n",
        "print(son_iguales(4, -4))\n",
        "print(son_iguales(1, \"1\"))"
      ],
      "metadata": {
        "id": "lcMb2SqPDlkV"
      },
      "execution_count": null,
      "outputs": []
    }
  ]
}