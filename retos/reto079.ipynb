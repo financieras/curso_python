{
  "nbformat": 4,
  "nbformat_minor": 0,
  "metadata": {
    "colab": {
      "provenance": [],
      "authorship_tag": "ABX9TyNNI8FwwGAR1CLN5ZstKox1",
      "include_colab_link": true
    },
    "kernelspec": {
      "name": "python3",
      "display_name": "Python 3"
    },
    "language_info": {
      "name": "python"
    }
  },
  "cells": [
    {
      "cell_type": "markdown",
      "metadata": {
        "id": "view-in-github",
        "colab_type": "text"
      },
      "source": [
        "<a href=\"https://colab.research.google.com/github/financieras/curso_python/blob/main/retos/reto079.ipynb\" target=\"_parent\"><img src=\"https://colab.research.google.com/assets/colab-badge.svg\" alt=\"Open In Colab\"/></a>"
      ]
    },
    {
      "cell_type": "markdown",
      "source": [
        "## Reto 79: ¿Cuántas letras 'd' hay?\n",
        "* Crea una función que cuente cuántas 'D' hay en una oración.\n",
        "* En el cálculo computan tanto las letras D mayúsculas como las minúsculas.\n",
        "* Su función no debe distinguir entre mayúsculas y minúsculas.\n",
        "* Ejemplos:\n",
        "    1. cuenta_d(\"Defender la democracia es decisivo\") ➞ 4\n",
        "    2. cuenta_d(\"Olvidamos deberes pero no derechos\") ➞ 3\n",
        "    3. cuenta_d(\"Eduardo hizo una despedida el domingo\") ➞ 6\n"
      ],
      "metadata": {
        "id": "malJAg1aJAmc"
      }
    },
    {
      "cell_type": "code",
      "execution_count": null,
      "metadata": {
        "id": "RVvyH71FI9y1"
      },
      "outputs": [],
      "source": [
        "def cuenta_d(frase):\n",
        "    pass"
      ]
    },
    {
      "cell_type": "code",
      "source": [
        "print(cuenta_d(\"Defender la democracia es decisivo\"))\n",
        "print(cuenta_d(\"Olvidamos deberes pero no derechos\"))\n",
        "print(cuenta_d(\"Eduardo hizo una despedida el domingo\"))"
      ],
      "metadata": {
        "id": "VP6LrzLEJHeh"
      },
      "execution_count": null,
      "outputs": []
    }
  ]
}