{
  "nbformat": 4,
  "nbformat_minor": 0,
  "metadata": {
    "colab": {
      "provenance": [],
      "authorship_tag": "ABX9TyPZwqbjNJBKYczQroEB7V9p",
      "include_colab_link": true
    },
    "kernelspec": {
      "name": "python3",
      "display_name": "Python 3"
    },
    "language_info": {
      "name": "python"
    }
  },
  "cells": [
    {
      "cell_type": "markdown",
      "metadata": {
        "id": "view-in-github",
        "colab_type": "text"
      },
      "source": [
        "<a href=\"https://colab.research.google.com/github/financieras/curso_python/blob/main/retos/reto178.ipynb\" target=\"_parent\"><img src=\"https://colab.research.google.com/assets/colab-badge.svg\" alt=\"Open In Colab\"/></a>"
      ]
    },
    {
      "cell_type": "markdown",
      "source": [
        "## Reto 178: Par o impar: ¿cuál es mayor?\n",
        "* Cree una función que reciba una cadena de números y devuelva el resultado de calcular la suma de todos los dígitos pares individuales y la suma de todos los dígitos impares individuales.\n",
        "* Lo que se retorna es una tupla con la suma de los pares y la suma de los impares, en este orden: `(par, impar)`.\n",
        "    - número par = even number\n",
        "    - número impar = odd number\n",
        "* Ejemplos:\n",
        "    1. even_or_odd(\"22471\") ➞ (8,8)\n",
        "    2. even_or_odd(\"213613\") ➞ (8,8)\n",
        "    3. even_or_odd(\"23456\") ➞ (12,8)"
      ],
      "metadata": {
        "id": "uj74HJIndSu4"
      }
    },
    {
      "cell_type": "code",
      "source": [
        "def odd_and_even(cadena):\n",
        "    pass"
      ],
      "metadata": {
        "id": "fGVKVZBAef2h"
      },
      "execution_count": null,
      "outputs": []
    },
    {
      "cell_type": "code",
      "source": [
        "print(odd_and_even(\"22471\"))\n",
        "print(odd_and_even(\"213613\"))\n",
        "print(odd_and_even(\"23456\"))\n",
        "print(odd_and_even(\"23574\"))"
      ],
      "metadata": {
        "id": "DkBWAF8feom2"
      },
      "execution_count": null,
      "outputs": []
    }
  ]
}