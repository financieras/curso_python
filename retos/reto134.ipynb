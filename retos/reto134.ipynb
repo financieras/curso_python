{
  "nbformat": 4,
  "nbformat_minor": 0,
  "metadata": {
    "colab": {
      "provenance": [],
      "authorship_tag": "ABX9TyMTqwik/ZyhtMX3rMupJK1C",
      "include_colab_link": true
    },
    "kernelspec": {
      "name": "python3",
      "display_name": "Python 3"
    },
    "language_info": {
      "name": "python"
    }
  },
  "cells": [
    {
      "cell_type": "markdown",
      "metadata": {
        "id": "view-in-github",
        "colab_type": "text"
      },
      "source": [
        "<a href=\"https://colab.research.google.com/github/financieras/curso_python/blob/main/retos/reto134.ipynb\" target=\"_parent\"><img src=\"https://colab.research.google.com/assets/colab-badge.svg\" alt=\"Open In Colab\"/></a>"
      ]
    },
    {
      "cell_type": "markdown",
      "source": [
        "## Reto 134: ¿Cuántos dígitos tiene un número?\n",
        "* Cree una función que tiene un número como parámetro y devuelve la cantidad de dígitos que contiene.\n",
        "* Ejemplos:\n",
        "    1. find_digit_amount(123) ➞ 3\n",
        "    2. find_digit_amount(56) ➞ 2\n",
        "    3. find_digit_amount(7154) ➞ 4\n",
        "    4. find_digit_amount(61217311514) ➞ 11\n",
        "    5. find_digit_amount(0) ➞ 1"
      ],
      "metadata": {
        "id": "UlRIWxQXmVIB"
      }
    },
    {
      "cell_type": "code",
      "source": [
        "def find_digit_amount(n):\n",
        "    pass"
      ],
      "metadata": {
        "id": "qJdiAk8p2Zlx"
      },
      "execution_count": null,
      "outputs": []
    },
    {
      "cell_type": "code",
      "source": [
        "print(find_digit_amount(123))\n",
        "print(find_digit_amount(56))\n",
        "print(find_digit_amount(7154))\n",
        "print(find_digit_amount(61217311514) )\n",
        "print(find_digit_amount(0) )"
      ],
      "metadata": {
        "id": "4ZFrCiMg2Zlx"
      },
      "execution_count": null,
      "outputs": []
    }
  ]
}