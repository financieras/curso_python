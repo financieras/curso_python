{
  "nbformat": 4,
  "nbformat_minor": 0,
  "metadata": {
    "colab": {
      "provenance": [],
      "authorship_tag": "ABX9TyMxmODu2OSbczFonbpih4Ji",
      "include_colab_link": true
    },
    "kernelspec": {
      "name": "python3",
      "display_name": "Python 3"
    },
    "language_info": {
      "name": "python"
    }
  },
  "cells": [
    {
      "cell_type": "markdown",
      "metadata": {
        "id": "view-in-github",
        "colab_type": "text"
      },
      "source": [
        "<a href=\"https://colab.research.google.com/github/financieras/curso_python/blob/main/retos/reto145.ipynb\" target=\"_parent\"><img src=\"https://colab.research.google.com/assets/colab-badge.svg\" alt=\"Open In Colab\"/></a>"
      ]
    },
    {
      "cell_type": "markdown",
      "source": [
        "## Reto 145: Encuentre el Index\n",
        "* Cree una función que tome una lista y una valor como argumentos\n",
        "* La función devolverá el índice que ocupa ese valor en la lista.\n",
        "* Ejemplos:\n",
        "    1. find_index([\"hi\", \"bye\", \"xyz\", \"abc\"], \"xyz\") ➞ 2\n",
        "    2. find_index([\"Red\", \"blue\", \"Blue\", \"Green\"], \"blue\") ➞ 1\n",
        "    3. find_index([\"a\", \"g\", \"y\", \"d\"], \"d\") ➞ 3\n",
        "    4. find_index([\"Kiwi\", \"Orange\", \"Grape\", \"Apple\"], \"Kiwi\") ➞ 0\n",
        "    5. find_index([10, 11, 12, 13, 14], 13) ➞ 3"
      ],
      "metadata": {
        "id": "aOicNPy_mWMS"
      }
    },
    {
      "cell_type": "code",
      "source": [
        "def find_index(lista, valor):\n",
        "    pass"
      ],
      "metadata": {
        "id": "RuJ06_SI2Tq_"
      },
      "execution_count": null,
      "outputs": []
    },
    {
      "cell_type": "code",
      "source": [
        "print(find_index([\"hi\", \"bye\", \"xyz\", \"abc\"], \"xyz\"))\n",
        "print(find_index([\"Red\", \"blue\", \"Blue\", \"Green\"], \"blue\"))\n",
        "print(find_index([\"a\", \"g\", \"y\", \"d\"], \"d\"))\n",
        "print(find_index([\"Kiwi\", \"Orange\", \"Grape\", \"Apple\"], \"Kiwi\"))\n",
        "print(find_index([10, 11, 12, 13, 14], 13))"
      ],
      "metadata": {
        "id": "CC5IT89w2TrE"
      },
      "execution_count": null,
      "outputs": []
    }
  ]
}