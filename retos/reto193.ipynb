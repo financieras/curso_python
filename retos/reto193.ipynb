{
  "nbformat": 4,
  "nbformat_minor": 0,
  "metadata": {
    "colab": {
      "provenance": [],
      "authorship_tag": "ABX9TyOQkj3hK66HeJfmvA9dVrZE",
      "include_colab_link": true
    },
    "kernelspec": {
      "name": "python3",
      "display_name": "Python 3"
    },
    "language_info": {
      "name": "python"
    }
  },
  "cells": [
    {
      "cell_type": "markdown",
      "metadata": {
        "id": "view-in-github",
        "colab_type": "text"
      },
      "source": [
        "<a href=\"https://colab.research.google.com/github/financieras/curso_python/blob/main/retos/reto193.ipynb\" target=\"_parent\"><img src=\"https://colab.research.google.com/assets/colab-badge.svg\" alt=\"Open In Colab\"/></a>"
      ]
    },
    {
      "cell_type": "markdown",
      "source": [
        "## Reto 193: Xs y Os iguales\n",
        "* Cree una función que tome una cadena, verifique si tiene el mismo número de \"x\" y \"o\" y devuelva `True` o `False`.\n",
        "* Devuelve un valor booleano (`True` o `False`).\n",
        "* Devuelve `True` si la cantidad de x y o son iguales.\n",
        "* Devuelve `False` si no son la misma cantidad.\n",
        "* La cadena puede contener cualquier carácter.\n",
        "* Cuando \"x\" y \"o\" no están en la cadena, devuelve `True`.\n",
        "* Recuerde devolver `True` si no hay x ni o.\n",
        "* No debe distinguir entre mayúsculas y minúsculas.\n",
        "* Ejemplos:\n",
        "    1. xo_function(\"ooxx\") ➞ True\n",
        "        - XO(\"xooxx\") ➞ False\n",
        "    2. xo_function(\"ooxXm\") ➞ True\n",
        "        - Case insensitive.\n",
        "    3. xo_function(\"zpzpzpp\") ➞ True\n",
        "        - Returns True if no x and o.\n",
        "    4. xo_function(\"zzoo\") ➞ False"
      ],
      "metadata": {
        "id": "wZfvp58u5-MX"
      }
    },
    {
      "cell_type": "code",
      "source": [
        "def xo_function(txt):\n",
        "    pass"
      ],
      "metadata": {
        "id": "Rb88vBiw5-MX"
      },
      "execution_count": null,
      "outputs": []
    },
    {
      "cell_type": "code",
      "source": [
        "print(xo_function(\"ooxx\"))\n",
        "print(xo_function(\"ooxXm\"))\n",
        "print(xo_function(\"zpzpzpp\"))\n",
        "print(xo_function(\"zzoo\"))\n",
        "print(xo_function(\"Xo\"))\n",
        "print(xo_function(\"X\"))\n",
        "print(xo_function(\"O\"))\n",
        "print(xo_function(\"xxOoX\"))\n",
        "print(xo_function(\"\"))"
      ],
      "metadata": {
        "id": "6jcD42kV5-MX"
      },
      "execution_count": null,
      "outputs": []
    }
  ]
}