{
  "nbformat": 4,
  "nbformat_minor": 0,
  "metadata": {
    "colab": {
      "provenance": [],
      "authorship_tag": "ABX9TyNBUgfVQtSg/xdh9AG69MjJ",
      "include_colab_link": true
    },
    "kernelspec": {
      "name": "python3",
      "display_name": "Python 3"
    },
    "language_info": {
      "name": "python"
    }
  },
  "cells": [
    {
      "cell_type": "markdown",
      "metadata": {
        "id": "view-in-github",
        "colab_type": "text"
      },
      "source": [
        "<a href=\"https://colab.research.google.com/github/financieras/curso_python/blob/main/retos/reto095.ipynb\" target=\"_parent\"><img src=\"https://colab.research.google.com/assets/colab-badge.svg\" alt=\"Open In Colab\"/></a>"
      ]
    },
    {
      "cell_type": "markdown",
      "source": [
        "## Reto 95: Atracción emocionante\n",
        "* En el nuevo parque de atracciones, han inaugurado una emocionante atracción.\n",
        "* Sin embargo, solo los visitantes de 12 años o más pueden disfrutarla.\n",
        "* Hay un único operador para la atracción, y ocasionalmente se toma descansos.\n",
        "* Escriba un programa que determine si un usuario puede subirse a la atracción.\n",
        "* Para poder subir, el usuario debe tener al menos 12 años y el operador no debe estar en periodo de descanso.\n",
        "* Cree una función llamada `permitido_subir` que tome la edad del usuario y un valor booleano que indica si el operador está en periodo de descanso.\n",
        "* La función debe devolver `True` si el usuario puede subirse y `False` en caso contrario.\n",
        "* Ejemplos:\n",
        "    1. permitido_subir(9, False) ➞ False\n",
        "    2. permitido_subir(11, True) ➞ False\n",
        "    3. permitido_subir(16, False) ➞ True\n",
        "    4. permitido_subir(24, True) ➞ False\n"
      ],
      "metadata": {
        "id": "gOc0ZAwxntYc"
      }
    },
    {
      "cell_type": "code",
      "source": [
        "def permitido_subir(edad, descanso):\n",
        "    pass"
      ],
      "metadata": {
        "id": "_v2sVEKY2vms"
      },
      "execution_count": null,
      "outputs": []
    },
    {
      "cell_type": "code",
      "source": [
        "print(permitido_subir(9, False))\n",
        "print(permitido_subir(11, True))\n",
        "print(permitido_subir(16, False))\n",
        "print(permitido_subir(24, True))"
      ],
      "metadata": {
        "id": "WKzL1pGg2vms"
      },
      "execution_count": null,
      "outputs": []
    }
  ]
}