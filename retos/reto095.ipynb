{
  "nbformat": 4,
  "nbformat_minor": 0,
  "metadata": {
    "colab": {
      "provenance": [],
      "authorship_tag": "ABX9TyMjtgGzm8Ry+/2Oa6Zy8RC8",
      "include_colab_link": true
    },
    "kernelspec": {
      "name": "python3",
      "display_name": "Python 3"
    },
    "language_info": {
      "name": "python"
    }
  },
  "cells": [
    {
      "cell_type": "markdown",
      "metadata": {
        "id": "view-in-github",
        "colab_type": "text"
      },
      "source": [
        "<a href=\"https://colab.research.google.com/github/financieras/curso_python/blob/main/retos/reto095.ipynb\" target=\"_parent\"><img src=\"https://colab.research.google.com/assets/colab-badge.svg\" alt=\"Open In Colab\"/></a>"
      ]
    },
    {
      "cell_type": "markdown",
      "source": [
        "## Reto 95: Atracción emocionante\n",
        "* En el nuevo parque de atracciones, han inaugurado una atracción emocionante que solo está disponible para visitantes de 12 años en adelante. Sin embargo, esta atracción solo puede ser disfrutada cuando el operador no está en su periodo de descanso.\n",
        "* El objetivo es crear un programa que determine si un usuario puede subirse a esta atracción. Para ello, se deben considerar dos condiciones: la edad del usuario y el estado del operador (si está en periodo de descanso o no).\n",
        "* Crear una función llamada `permitido_subir` que tome como parámetros la `edad` del usuario y un valor booleano que indica si el operador está en periodo de `descanso` o no. Esta función debe devolver `True` si el usuario cumple con la edad mínima requerida (12 años o más) y si el operador no está en periodo de descanso. En caso contrario, debe devolver `False`.\n",
        "* Ejemplos:\n",
        "    1. permitido_subir(9, False) ➞ False\n",
        "    2. permitido_subir(11, True) ➞ False\n",
        "    3. permitido_subir(16, False) ➞ True\n",
        "    4. permitido_subir(24, True) ➞ False"
      ],
      "metadata": {
        "id": "gOc0ZAwxntYc"
      }
    },
    {
      "cell_type": "code",
      "source": [
        "def permitido_subir(edad_usuario, operador_descansando):\n",
        "    pass"
      ],
      "metadata": {
        "id": "_v2sVEKY2vms"
      },
      "execution_count": null,
      "outputs": []
    },
    {
      "cell_type": "code",
      "source": [
        "print(permitido_subir(9, False))\n",
        "print(permitido_subir(11, True))\n",
        "print(permitido_subir(16, False))\n",
        "print(permitido_subir(24, True))"
      ],
      "metadata": {
        "id": "WKzL1pGg2vms"
      },
      "execution_count": null,
      "outputs": []
    }
  ]
}