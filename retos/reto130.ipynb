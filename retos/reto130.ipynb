{
  "nbformat": 4,
  "nbformat_minor": 0,
  "metadata": {
    "colab": {
      "provenance": [],
      "authorship_tag": "ABX9TyPR/RniDMe1ChuSmeyMqUWo",
      "include_colab_link": true
    },
    "kernelspec": {
      "name": "python3",
      "display_name": "Python 3"
    },
    "language_info": {
      "name": "python"
    }
  },
  "cells": [
    {
      "cell_type": "markdown",
      "metadata": {
        "id": "view-in-github",
        "colab_type": "text"
      },
      "source": [
        "<a href=\"https://colab.research.google.com/github/financieras/curso_python/blob/main/retos/reto130.ipynb\" target=\"_parent\"><img src=\"https://colab.research.google.com/assets/colab-badge.svg\" alt=\"Open In Colab\"/></a>"
      ]
    },
    {
      "cell_type": "markdown",
      "source": [
        "## Reto 130: Suma los mayores a cinco\n",
        "* Escribe una función que devuelva la suma de elementos estrictamente mayores que 5, en la lista dada.\n",
        "* Ejemplos:\n",
        "    1. sum_five([1, 5, 20, 30, 4, 9, 18]) ➞ 77\n",
        "    2. sum_five([1, 2, 3, 4]) ➞ 0\n",
        "    3. sum_five([10, 12, 28, 47, 55, 100]) ➞ 252"
      ],
      "metadata": {
        "id": "HfzOcsTSmUxK"
      }
    },
    {
      "cell_type": "code",
      "source": [
        "def sum_five(lst):\n",
        "    pass"
      ],
      "metadata": {
        "id": "diRYFu8m2bSL"
      },
      "execution_count": null,
      "outputs": []
    },
    {
      "cell_type": "code",
      "source": [
        "print(sum_five([1, 5, 20, 30, 4, 9, 18]))\n",
        "print(sum_five([1, 2, 3, 4]))\n",
        "print(sum_five([10, 12, 28, 47, 55, 100]))"
      ],
      "metadata": {
        "id": "xEUSFGBt2bSL"
      },
      "execution_count": null,
      "outputs": []
    }
  ]
}