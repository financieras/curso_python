{
  "nbformat": 4,
  "nbformat_minor": 0,
  "metadata": {
    "colab": {
      "provenance": [],
      "authorship_tag": "ABX9TyMYuxz916BG9HjWgt+TxHg7",
      "include_colab_link": true
    },
    "kernelspec": {
      "name": "python3",
      "display_name": "Python 3"
    },
    "language_info": {
      "name": "python"
    }
  },
  "cells": [
    {
      "cell_type": "markdown",
      "metadata": {
        "id": "view-in-github",
        "colab_type": "text"
      },
      "source": [
        "<a href=\"https://colab.research.google.com/github/financieras/curso_python/blob/main/retos/reto172.ipynb\" target=\"_parent\"><img src=\"https://colab.research.google.com/assets/colab-badge.svg\" alt=\"Open In Colab\"/></a>"
      ]
    },
    {
      "cell_type": "markdown",
      "source": [
        "## Reto 172: Buscando un login válido\n",
        "* Un usuario está intentando crear su login en una web juntando su nickname y su edad.\n",
        "* La edad se proporciona como un número entero.\n",
        "* Cree una función que retorne este login y así podrá ayudar a los usuarios sugiriéndoles una alterternativa.\n",
        "* Ejemplos:\n",
        "    1. login_sugerido(\"Anna\", 16) ➞ \"Anna16\"\n",
        "    2. login_sugerido(\"Luis2010\", 17) ➞ \"Luis201017\"\n",
        "    3. login_sugerido(\"mari@\", 18) ➞ \"mari@18\"\n"
      ],
      "metadata": {
        "id": "isZKqb-XSyT6"
      }
    },
    {
      "cell_type": "code",
      "source": [
        "def login_sugerido(nickname, edad):\n",
        "    pass"
      ],
      "metadata": {
        "id": "uJM3j1ef2AVX"
      },
      "execution_count": null,
      "outputs": []
    },
    {
      "cell_type": "code",
      "source": [
        "print(login_sugerido(\"Anna\", 16))\n",
        "print(login_sugerido(\"Luis2010\", 17))\n",
        "print(login_sugerido(\"mari@\", 18))"
      ],
      "metadata": {
        "id": "5GwcIFZB2AVc"
      },
      "execution_count": null,
      "outputs": []
    }
  ]
}