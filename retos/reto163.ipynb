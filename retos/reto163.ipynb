{
  "nbformat": 4,
  "nbformat_minor": 0,
  "metadata": {
    "colab": {
      "provenance": [],
      "authorship_tag": "ABX9TyN1cBe7W8Qa9ixPmXEwTpgJ",
      "include_colab_link": true
    },
    "kernelspec": {
      "name": "python3",
      "display_name": "Python 3"
    },
    "language_info": {
      "name": "python"
    }
  },
  "cells": [
    {
      "cell_type": "markdown",
      "metadata": {
        "id": "view-in-github",
        "colab_type": "text"
      },
      "source": [
        "<a href=\"https://colab.research.google.com/github/financieras/curso_python/blob/main/retos/reto163.ipynb\" target=\"_parent\"><img src=\"https://colab.research.google.com/assets/colab-badge.svg\" alt=\"Open In Colab\"/></a>"
      ]
    },
    {
      "cell_type": "markdown",
      "source": [
        "## Reto 163: Total Maximo condicional\n",
        "* Dada una lista de 10 números, devuelve el total máximo posible obtenido sumando solo 5 de los 10 números.\n",
        "\n",
        "    1. max_total([1, 1, 0, 1, 3, 10, 10, 10, 10, 1]) ➞ 43\n",
        "    2. max_total([0, 0, 0, 0, 0, 0, 0, 0, 0, 100]) ➞ 100\n",
        "    3. max_total([1, 2, 3, 4, 5, 6, 7, 8, 9, 10]) ➞ 40"
      ],
      "metadata": {
        "id": "qplEi5EblQV9"
      }
    },
    {
      "cell_type": "code",
      "source": [
        "def max_total(lista):\n",
        "    pass"
      ],
      "metadata": {
        "id": "fS8NG1A92Fh2"
      },
      "execution_count": null,
      "outputs": []
    },
    {
      "cell_type": "code",
      "source": [
        "print(max_total([1, 1, 0, 1, 3, 10, 10, 10, 10, 1]))\n",
        "print(max_total([0, 0, 0, 0, 0, 0, 0, 0, 0, 100]))\n",
        "print(max_total([1, 2, 3, 4, 5, 6, 7, 8, 9, 10]))"
      ],
      "metadata": {
        "id": "0iRG66ps2Fh3"
      },
      "execution_count": null,
      "outputs": []
    }
  ]
}