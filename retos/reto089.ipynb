{
  "nbformat": 4,
  "nbformat_minor": 0,
  "metadata": {
    "colab": {
      "provenance": [],
      "authorship_tag": "ABX9TyPJasj8SBiQzlny0ECZZu/J",
      "include_colab_link": true
    },
    "kernelspec": {
      "name": "python3",
      "display_name": "Python 3"
    },
    "language_info": {
      "name": "python"
    }
  },
  "cells": [
    {
      "cell_type": "markdown",
      "metadata": {
        "id": "view-in-github",
        "colab_type": "text"
      },
      "source": [
        "<a href=\"https://colab.research.google.com/github/financieras/curso_python/blob/main/retos/reto089.ipynb\" target=\"_parent\"><img src=\"https://colab.research.google.com/assets/colab-badge.svg\" alt=\"Open In Colab\"/></a>"
      ]
    },
    {
      "cell_type": "markdown",
      "source": [
        "## Reto 89: Calculadora con operadores\n",
        "* Cree una función que tome dos números y un operador matemático y devuelva el resultado.\n",
        "* Las únicas operaciones utilizadas son las de los ejemplos que se muestran.\n",
        "* Ejemplos:\n",
        "    1. calculate(4, 9, \"+\") ➞ 13\n",
        "    2. calculate(12, 5, \"-\") ➞ 7\n",
        "    3. calculate(6, 3, \"*\") ➞ 18\n",
        "    4. calculate(25, 5, \"//\") ➞ 5\n",
        "    5. calculate(14, 3, \"%\") ➞ 2\n",
        "    6. calculate(7, 2, \"/\") ➞ 3.5\n"
      ],
      "metadata": {
        "id": "uVs2hSEXns-K"
      }
    },
    {
      "cell_type": "code",
      "source": [
        "# @title Reto 89\n",
        "\n",
        "def calculate(a, b, operacion):\n",
        "    pass"
      ],
      "metadata": {
        "id": "46w4TPyW2yKd"
      },
      "execution_count": null,
      "outputs": []
    },
    {
      "cell_type": "code",
      "source": [
        "print(calculate(4, 9, \"+\"))\n",
        "print(calculate(12, 5, \"-\"))\n",
        "print(calculate(6, 3, \"*\"))\n",
        "print(calculate(25, 5, \"//\"))\n",
        "print(calculate(14, 3, \"%\"))\n",
        "print(calculate(7, 2, \"/\"))"
      ],
      "metadata": {
        "id": "KXB2sLIV2yKd"
      },
      "execution_count": null,
      "outputs": []
    }
  ]
}