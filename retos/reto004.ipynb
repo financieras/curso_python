{
  "nbformat": 4,
  "nbformat_minor": 0,
  "metadata": {
    "colab": {
      "provenance": [],
      "authorship_tag": "ABX9TyOzoaE6z1LasxgB37a/CZX+",
      "include_colab_link": true
    },
    "kernelspec": {
      "name": "python3",
      "display_name": "Python 3"
    },
    "language_info": {
      "name": "python"
    }
  },
  "cells": [
    {
      "cell_type": "markdown",
      "metadata": {
        "id": "view-in-github",
        "colab_type": "text"
      },
      "source": [
        "<a href=\"https://colab.research.google.com/github/financieras/curso_python/blob/main/retos/reto004.ipynb\" target=\"_parent\"><img src=\"https://colab.research.google.com/assets/colab-badge.svg\" alt=\"Open In Colab\"/></a>"
      ]
    },
    {
      "cell_type": "markdown",
      "source": [
        "## Reto 4: Área de un triángulo\n",
        "* Escriba una función que tome la `base` y la `altura` de un triángulo y devuelva su área.\n",
        "* Ejemplos:\n",
        "    1. area_triangulo(3, 2) ➞ 3\n",
        "    2. area_triangulo(7, 4) ➞ 14\n",
        "    3. area_triangulo(10, 10) ➞ 50"
      ],
      "metadata": {
        "id": "bfTd-0bmFSBp"
      }
    },
    {
      "cell_type": "code",
      "source": [
        "def area_triangulo(base, altura):\n",
        "    pass"
      ],
      "metadata": {
        "id": "tqJW0PPN2dWU"
      },
      "execution_count": null,
      "outputs": []
    },
    {
      "cell_type": "code",
      "source": [
        "print(area_triangulo(3, 2))\n",
        "print(area_triangulo(7, 4))\n",
        "print(area_triangulo(10, 10))"
      ],
      "metadata": {
        "id": "B6sRcQRm2krj"
      },
      "execution_count": null,
      "outputs": []
    }
  ]
}