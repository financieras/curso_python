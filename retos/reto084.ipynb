{
  "nbformat": 4,
  "nbformat_minor": 0,
  "metadata": {
    "colab": {
      "provenance": [],
      "authorship_tag": "ABX9TyNt/QrpRNh2FDOjjr+kqttq",
      "include_colab_link": true
    },
    "kernelspec": {
      "name": "python3",
      "display_name": "Python 3"
    },
    "language_info": {
      "name": "python"
    }
  },
  "cells": [
    {
      "cell_type": "markdown",
      "metadata": {
        "id": "view-in-github",
        "colab_type": "text"
      },
      "source": [
        "<a href=\"https://colab.research.google.com/github/financieras/curso_python/blob/main/retos/reto084.ipynb\" target=\"_parent\"><img src=\"https://colab.research.google.com/assets/colab-badge.svg\" alt=\"Open In Colab\"/></a>"
      ]
    },
    {
      "cell_type": "markdown",
      "source": [
        "## Reto 84: Check if All Values Are True\n",
        "* Cree una función que devuelva `True` todos los parámetros son verdaderos y `False`o en caso contrario.\n",
        "* Ejemplos:\n",
        "    1. all_truthy(True, True, True) ➞ True\n",
        "    2. all_truthy(True, False, True) ➞ False\n",
        "    3. all_truthy(5, 4, 3, 2, 1, 0) ➞ False\n",
        "    4. all_truthy(1, 1, 1, 1, 1, 1, 1, 1) ➞ True\n"
      ],
      "metadata": {
        "id": "d-AfwJ7yWf3c"
      }
    },
    {
      "cell_type": "code",
      "source": [
        "def all_truthy(*args):\n",
        "    pass"
      ],
      "metadata": {
        "id": "OsmiM-Ql20OH"
      },
      "execution_count": null,
      "outputs": []
    },
    {
      "cell_type": "code",
      "source": [
        "print(all_truthy(True, True, True))\n",
        "print(all_truthy(True, False, True))\n",
        "print(all_truthy(5, 4, 3, 2, 1, 0))\n",
        "print(all_truthy(1, 1, 1, 1, 1, 1, 1, 1))"
      ],
      "metadata": {
        "id": "2xWWa1CH20OH"
      },
      "execution_count": null,
      "outputs": []
    }
  ]
}