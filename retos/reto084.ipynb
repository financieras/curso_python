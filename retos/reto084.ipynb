{
  "nbformat": 4,
  "nbformat_minor": 0,
  "metadata": {
    "colab": {
      "provenance": [],
      "authorship_tag": "ABX9TyOTJ01kc65VZCQBMH3dB4Pu",
      "include_colab_link": true
    },
    "kernelspec": {
      "name": "python3",
      "display_name": "Python 3"
    },
    "language_info": {
      "name": "python"
    }
  },
  "cells": [
    {
      "cell_type": "markdown",
      "metadata": {
        "id": "view-in-github",
        "colab_type": "text"
      },
      "source": [
        "<a href=\"https://colab.research.google.com/github/financieras/curso_python/blob/main/retos/reto084.ipynb\" target=\"_parent\"><img src=\"https://colab.research.google.com/assets/colab-badge.svg\" alt=\"Open In Colab\"/></a>"
      ]
    },
    {
      "cell_type": "markdown",
      "source": [
        "## Reto 84: Comprobar si todos son verdaderos\n",
        "* Cree una función que devuelva `True` si todos los parámetros son verdaderos y `False` en caso contrario.\n",
        "* Ejemplos:\n",
        "    1. todos_verdaderos(True, True, True) ➞ True\n",
        "    2. todos_verdaderos(True, False, True) ➞ False\n",
        "    3. todos_verdaderos(5, 4, 3, 2, 1, 0) ➞ False\n",
        "    4. todos_verdaderos(1, 1, 1, 1, 1, 1, 1, 1) ➞ True\n",
        "    5. todos_verdaderos(1, 1, 1, 1, 1, 1, 1, 2) ➞ True\n"
      ],
      "metadata": {
        "id": "Q3_ojtcL6Wxv"
      }
    },
    {
      "cell_type": "code",
      "execution_count": null,
      "metadata": {
        "id": "O1S0Y1e96CMI"
      },
      "outputs": [],
      "source": [
        "def todos_verdaderos(args):\n",
        "    pass"
      ]
    },
    {
      "cell_type": "code",
      "source": [
        "print(todos_verdaderos(True, True, True))\n",
        "print(todos_verdaderos(True, False, True))\n",
        "print(todos_verdaderos(5, 4, 3, 2, 1, 0))\n",
        "print(todos_verdaderos(1, 1, 1, 1, 1, 1, 1, 1))\n",
        "print(todos_verdaderos(1, 1, 1, 1, 1, 1, 1, 2))"
      ],
      "metadata": {
        "id": "hy5VTJPS6fi6"
      },
      "execution_count": null,
      "outputs": []
    }
  ]
}