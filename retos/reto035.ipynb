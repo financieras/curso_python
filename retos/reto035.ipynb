{
  "nbformat": 4,
  "nbformat_minor": 0,
  "metadata": {
    "colab": {
      "provenance": [],
      "authorship_tag": "ABX9TyOnfXLYz8UXqR0bYB4i9/ZC",
      "include_colab_link": true
    },
    "kernelspec": {
      "name": "python3",
      "display_name": "Python 3"
    },
    "language_info": {
      "name": "python"
    }
  },
  "cells": [
    {
      "cell_type": "markdown",
      "metadata": {
        "id": "view-in-github",
        "colab_type": "text"
      },
      "source": [
        "<a href=\"https://colab.research.google.com/github/financieras/curso_python/blob/main/retos/reto035.ipynb\" target=\"_parent\"><img src=\"https://colab.research.google.com/assets/colab-badge.svg\" alt=\"Open In Colab\"/></a>"
      ]
    },
    {
      "cell_type": "markdown",
      "source": [
        "## Reto 35: Fix the Expression\n",
        "* Corrija el código siguiente para que la función devuelva `True` si y solo si `x` es igual a 7.\n",
        "* Ejemplos:\n",
        "    1. es_siete(4) ➞ False\n",
        "    2. es_siete(9) ➞ False\n",
        "    3. es_siete(7) ➞ True\n",
        "* Consulte el **operador ternario** en Python\n",
        "* El código que no funciona correctamente es este:\n",
        "\n",
        "<pre>\n",
        "def es_siete(x):\n",
        "\tretur True if x=\"7\" else False\n",
        "</pre>\n"
      ],
      "metadata": {
        "id": "kIoWDOrDykTZ"
      }
    },
    {
      "cell_type": "code",
      "source": [
        "def es_siete(x):\n",
        "\tpass"
      ],
      "metadata": {
        "id": "pJEEgAqqPCvf"
      },
      "execution_count": null,
      "outputs": []
    },
    {
      "cell_type": "code",
      "source": [
        "print(es_siete(4))\n",
        "print(es_siete(9))\n",
        "print(es_siete(7))"
      ],
      "metadata": {
        "id": "DwK-mVgnPOC3"
      },
      "execution_count": null,
      "outputs": []
    }
  ]
}