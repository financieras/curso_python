{
  "nbformat": 4,
  "nbformat_minor": 0,
  "metadata": {
    "colab": {
      "provenance": [],
      "authorship_tag": "ABX9TyMDVO3oovRHsfyitGX0eSUh",
      "include_colab_link": true
    },
    "kernelspec": {
      "name": "python3",
      "display_name": "Python 3"
    },
    "language_info": {
      "name": "python"
    }
  },
  "cells": [
    {
      "cell_type": "markdown",
      "metadata": {
        "id": "view-in-github",
        "colab_type": "text"
      },
      "source": [
        "<a href=\"https://colab.research.google.com/github/financieras/curso_python/blob/main/retos/reto168.ipynb\" target=\"_parent\"><img src=\"https://colab.research.google.com/assets/colab-badge.svg\" alt=\"Open In Colab\"/></a>"
      ]
    },
    {
      "cell_type": "markdown",
      "source": [
        "## Reto 168: Agua hirviendo\n",
        "* Cree una función que determine si la temperatura del agua se considera que está hirviendo o no.\n",
        "* La temperatura se medirá en Fahrenheit y Celsius.\n",
        "* El punto de ebullición del agua es 212 °F en Fahrenheit y 100 °C en Celsius.\n",
        "* Ejemplos:\n",
        "    1. is_boiling(\"212F\") ➞ True\n",
        "    2. is_boiling(\"100C\") ➞ True\n",
        "    3. is_boiling(\"0F\") ➞ False\n"
      ],
      "metadata": {
        "id": "EsIMxQuZlRnp"
      }
    },
    {
      "cell_type": "code",
      "source": [
        "def is_boiling(txt):\n",
        "    pass"
      ],
      "metadata": {
        "id": "4DtXaL8G2Ca5"
      },
      "execution_count": null,
      "outputs": []
    },
    {
      "cell_type": "code",
      "source": [
        "print(is_boiling(\"212F\"))\n",
        "print(is_boiling(\"100C\"))\n",
        "print(is_boiling(\"0F\"))"
      ],
      "metadata": {
        "id": "mwExN-oT2Ca5"
      },
      "execution_count": null,
      "outputs": []
    }
  ]
}