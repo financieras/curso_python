{
  "nbformat": 4,
  "nbformat_minor": 0,
  "metadata": {
    "colab": {
      "provenance": [],
      "authorship_tag": "ABX9TyPKnY6+uBNRYL3evUu+Psv9",
      "include_colab_link": true
    },
    "kernelspec": {
      "name": "python3",
      "display_name": "Python 3"
    },
    "language_info": {
      "name": "python"
    }
  },
  "cells": [
    {
      "cell_type": "markdown",
      "metadata": {
        "id": "view-in-github",
        "colab_type": "text"
      },
      "source": [
        "<a href=\"https://colab.research.google.com/github/financieras/curso_python/blob/main/retos/reto174.ipynb\" target=\"_parent\"><img src=\"https://colab.research.google.com/assets/colab-badge.svg\" alt=\"Open In Colab\"/></a>"
      ]
    },
    {
      "cell_type": "markdown",
      "source": [
        "## Reto 174: ¿De qué generación eres?\n",
        "* Intente encontrar a sus antepasados ​​y descendencia con código.\n",
        "* Cree una función que tome un número x y un carácter y (\"m\" para hombre, \"f\" para mujer) y devuelva el nombre de un antepasado (m/f) o descendiente (m/f).\n",
        "* Si el número es negativo, devuelve el antepasado relacionado.\n",
        "* Si es positivo, devuelve el descendiente relacionado.\n",
        "* Tu eres la generación 0. En el caso de 0 (masculino o femenino), devuelve \"me!\".\n",
        "* Ejemplos:\n",
        "    1. generation(2, \"f\") ➞ \"granddaughter\"\n",
        "    2. generation(-3, \"m\") ➞ \"great grandfather\"\n",
        "    3. generation(1, \"f\") ➞ \"daughter\"\n",
        "    4. generation(0, \"f\") ➞ \"me!\"\n",
        "    5. generation(3, \"m\") ➞ \"great grandson\"\n",
        "    6. generation(-2, \"f\") ➞ \"grandmother\"\n",
        "    7. generation(-1, \"m\") ➞ \"father\"\n",
        "\n",
        "\n",
        "| Generation | Male              | Female                |\n",
        "|------------|-------------------|-----------------------|\n",
        "| -3         | great grandfather | great grandmother     |\n",
        "| -2         | grandfather       | grandmother           |\n",
        "| -1         | father            | mother                |\n",
        "| 0          | me!               | me!                   |\n",
        "| 1          | son               | daughter              |\n",
        "| 2          | grandson          | granddaughter         |\n",
        "| 3          | great grandson    | great granddaughter   |"
      ],
      "metadata": {
        "id": "0gimJd0SmVw2"
      }
    },
    {
      "cell_type": "code",
      "source": [
        "def generation(nivel, genero):\n",
        "    pass"
      ],
      "metadata": {
        "id": "W9yYA-oE2Wlz"
      },
      "execution_count": null,
      "outputs": []
    },
    {
      "cell_type": "code",
      "source": [
        "print(generation(2, \"f\"))\n",
        "print(generation(-3, \"m\"))\n",
        "print(generation(1, \"f\"))\n",
        "print(generation(0, \"f\"))\n",
        "print(generation(3, \"m\"))\n",
        "print(generation(-2, \"f\"))\n",
        "print(generation(-1, \"m\"))"
      ],
      "metadata": {
        "id": "uOOhPjsl2Wlz"
      },
      "execution_count": null,
      "outputs": []
    }
  ]
}