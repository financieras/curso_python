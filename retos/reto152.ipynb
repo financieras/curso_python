{
  "nbformat": 4,
  "nbformat_minor": 0,
  "metadata": {
    "colab": {
      "provenance": [],
      "authorship_tag": "ABX9TyP5T0He2oNTwS72ewnJ6xiM",
      "include_colab_link": true
    },
    "kernelspec": {
      "name": "python3",
      "display_name": "Python 3"
    },
    "language_info": {
      "name": "python"
    }
  },
  "cells": [
    {
      "cell_type": "markdown",
      "metadata": {
        "id": "view-in-github",
        "colab_type": "text"
      },
      "source": [
        "<a href=\"https://colab.research.google.com/github/financieras/curso_python/blob/main/retos/reto152.ipynb\" target=\"_parent\"><img src=\"https://colab.research.google.com/assets/colab-badge.svg\" alt=\"Open In Colab\"/></a>"
      ]
    },
    {
      "cell_type": "markdown",
      "source": [
        "## Reto 152: Evite los alimentos con demasiada grasa\n",
        "* Escribe una función que tome una lista de alimentos y devuelva una lista sin alimentos con alto contenido de grasa.\n",
        "* Los alimentos que contienen demasiada grasa (en este desafío) son: pizza y hamburguesa.\n",
        "* Ejemplos:\n",
        "    1. skip_fat([\"pizza\", \"hamburguesa\", \"ensalada\"]) ➞ [\"ensalada\"]\n",
        "    2. skip_fat([\"pizza\", \"hamburguesa\"]) ➞ []\n",
        "    3. skip_fat([\"gazpacho\", \"pasta\", \"ensalada\"]) ➞ [\"gazpacho\", \"pasta\", \"ensalada\"]"
      ],
      "metadata": {
        "id": "g88irJihmW4g"
      }
    },
    {
      "cell_type": "code",
      "source": [
        "def skip_fat(lst):\n",
        "    pass"
      ],
      "metadata": {
        "id": "XO8RPTuq2Ln2"
      },
      "execution_count": null,
      "outputs": []
    },
    {
      "cell_type": "code",
      "source": [
        "print(skip_fat([\"pizza\", \"hamburguesa\", \"ensalada\"]))\n",
        "print(skip_fat([\"pizza\", \"hamburguesa\"]))\n",
        "print(skip_fat([\"gazpacho\", \"pasta\", \"ensalada\"]))"
      ],
      "metadata": {
        "id": "NQYEHN4t2Ln8"
      },
      "execution_count": null,
      "outputs": []
    }
  ]
}