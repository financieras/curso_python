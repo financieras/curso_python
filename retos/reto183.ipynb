{
  "nbformat": 4,
  "nbformat_minor": 0,
  "metadata": {
    "colab": {
      "provenance": [],
      "authorship_tag": "ABX9TyNwzeS8LGX1R8CNa+/KcE18",
      "include_colab_link": true
    },
    "kernelspec": {
      "name": "python3",
      "display_name": "Python 3"
    },
    "language_info": {
      "name": "python"
    }
  },
  "cells": [
    {
      "cell_type": "markdown",
      "metadata": {
        "id": "view-in-github",
        "colab_type": "text"
      },
      "source": [
        "<a href=\"https://colab.research.google.com/github/financieras/curso_python/blob/main/retos/reto183.ipynb\" target=\"_parent\"><img src=\"https://colab.research.google.com/assets/colab-badge.svg\" alt=\"Open In Colab\"/></a>"
      ]
    },
    {
      "cell_type": "markdown",
      "source": [
        "## Reto 183: La misma paridad\n",
        "* Cree una función que tome un número como entrada y devuelva `True' si la suma de sus dígitos tiene la misma paridad que el número completo.\n",
        "* De lo contrario, devuelve `False`.\n",
        "* La paridad consiste en ver si un número es par o impar.\n",
        "* Si la suma de los dígitos es par y el número en sí es par, devuelve 'True`.\n",
        "* También devuelve 'True' si el número es impar y también lo es la suma de sus dígitos.\n",
        "* Los números de un solo dígito obviamente tendrán la misma paridad.\n",
        "* Ejemplos:\n",
        "    1. parity_analysis(243) ➞ True\n",
        "    2. parity_analysis(444) ➞ True\n",
        "    3. parity_analysis(1243) ➞ False\n",
        "    4. parity_analysis(344) ➞ False\n",
        "    5. parity_analysis(12) ➞ False\n",
        "    6. parity_analysis(3) ➞ True"
      ],
      "metadata": {
        "id": "ZH1qXQr0EIrt"
      }
    },
    {
      "cell_type": "code",
      "source": [
        "def parity_analysis(n):\n",
        "    pass"
      ],
      "metadata": {
        "id": "2pSrnGbME4gA"
      },
      "execution_count": null,
      "outputs": []
    },
    {
      "cell_type": "code",
      "source": [
        "print(parity_analysis(243))\n",
        "print(parity_analysis(444))\n",
        "print(parity_analysis(1243))\n",
        "print(parity_analysis(344))\n",
        "print(parity_analysis(12))\n",
        "print(parity_analysis(3))"
      ],
      "metadata": {
        "id": "NG_O_yCTFC7X"
      },
      "execution_count": null,
      "outputs": []
    }
  ]
}