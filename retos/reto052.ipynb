{
  "nbformat": 4,
  "nbformat_minor": 0,
  "metadata": {
    "colab": {
      "provenance": [],
      "authorship_tag": "ABX9TyOX+UTdfkzD1USI85pYnAvT",
      "include_colab_link": true
    },
    "kernelspec": {
      "name": "python3",
      "display_name": "Python 3"
    },
    "language_info": {
      "name": "python"
    }
  },
  "cells": [
    {
      "cell_type": "markdown",
      "metadata": {
        "id": "view-in-github",
        "colab_type": "text"
      },
      "source": [
        "<a href=\"https://colab.research.google.com/github/financieras/curso_python/blob/main/retos/reto052.ipynb\" target=\"_parent\"><img src=\"https://colab.research.google.com/assets/colab-badge.svg\" alt=\"Open In Colab\"/></a>"
      ]
    },
    {
      "cell_type": "markdown",
      "source": [
        "## Reto 52: Calculadora de un string\n",
        "* Cree una función que maneje expresiones matemáticas simples.\n",
        "* La entrada es una expresión en forma de string.\n",
        "* Ejemplos:\n",
        "    1. calculadora(\"23+4\") ➞ 27\n",
        "    2. calculadora(\"45-15\") ➞ 30\n",
        "    3. calculadora(\"13+2-5*2\") ➞ 5\n",
        "    4. calculadora(\"49/7*2-3\") ➞ 11.0\n"
      ],
      "metadata": {
        "id": "rIJcTIllzykJ"
      }
    },
    {
      "cell_type": "code",
      "source": [
        "def calculadora(cadena):\n",
        "    pass"
      ],
      "metadata": {
        "id": "jgPtwUAR1tZh"
      },
      "execution_count": null,
      "outputs": []
    },
    {
      "cell_type": "code",
      "source": [
        "print(calculadora(\"23+4\"))\n",
        "print(calculadora(\"45-15\"))\n",
        "print(calculadora(\"13+2-5*2\"))\n",
        "print(calculadora(\"49/7*2-3\"))"
      ],
      "metadata": {
        "id": "H-j3ounX1ux2"
      },
      "execution_count": null,
      "outputs": []
    }
  ]
}