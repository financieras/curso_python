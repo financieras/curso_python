{
  "nbformat": 4,
  "nbformat_minor": 0,
  "metadata": {
    "colab": {
      "provenance": [],
      "authorship_tag": "ABX9TyMhckMyQK4zloLhD5ixWJPR",
      "include_colab_link": true
    },
    "kernelspec": {
      "name": "python3",
      "display_name": "Python 3"
    },
    "language_info": {
      "name": "python"
    }
  },
  "cells": [
    {
      "cell_type": "markdown",
      "metadata": {
        "id": "view-in-github",
        "colab_type": "text"
      },
      "source": [
        "<a href=\"https://colab.research.google.com/github/financieras/curso_python/blob/main/retos/reto155.ipynb\" target=\"_parent\"><img src=\"https://colab.research.google.com/assets/colab-badge.svg\" alt=\"Open In Colab\"/></a>"
      ]
    },
    {
      "cell_type": "markdown",
      "source": [
        "## Reto 155: Lista de strings a lista de números\n",
        "* Cree una función que tome como parámetro una lista de números en forma de strings y devuelva una lista de números.\n",
        "* Algunos elementos son de tipo `float`\n",
        "* Ejemplos:\n",
        "    1. to_number_list([\"99\", \"20\"]) ➞ [99, 20]\n",
        "    2. to_number_list([\"9.4\", \"4.2\"]) ➞ [9.4, 4.2]\n",
        "    3. to_number_list([\"1\", \"3\", \"3.6\"] ➞ [1, 3, 3.6]"
      ],
      "metadata": {
        "id": "6uj_RrlkmXKE"
      }
    },
    {
      "cell_type": "code",
      "source": [
        "def to_number_list(lst):\n",
        "    pass"
      ],
      "metadata": {
        "id": "8lPdlgA22Jp7"
      },
      "execution_count": null,
      "outputs": []
    },
    {
      "cell_type": "code",
      "source": [
        "print(to_number_list([\"99\", \"20\"]))\n",
        "print(to_number_list([\"9.4\", \"4.2\"]))\n",
        "print(to_number_list([\"1\", \"3\", \"3.6\"]))"
      ],
      "metadata": {
        "id": "iqrT72fw2Jp8"
      },
      "execution_count": null,
      "outputs": []
    }
  ]
}