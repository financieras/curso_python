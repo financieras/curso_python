{
  "nbformat": 4,
  "nbformat_minor": 0,
  "metadata": {
    "colab": {
      "provenance": [],
      "authorship_tag": "ABX9TyNPxc/PkZ84y76nw/zzFM4G",
      "include_colab_link": true
    },
    "kernelspec": {
      "name": "python3",
      "display_name": "Python 3"
    },
    "language_info": {
      "name": "python"
    }
  },
  "cells": [
    {
      "cell_type": "markdown",
      "metadata": {
        "id": "view-in-github",
        "colab_type": "text"
      },
      "source": [
        "<a href=\"https://colab.research.google.com/github/financieras/curso_python/blob/main/retos/reto019.ipynb\" target=\"_parent\"><img src=\"https://colab.research.google.com/assets/colab-badge.svg\" alt=\"Open In Colab\"/></a>"
      ]
    },
    {
      "cell_type": "markdown",
      "source": [
        "## Reto 19: ¿Menos de cien?\n",
        "* Dados dos números, devuelva `True` si la suma de ambos números es menor que 100, de lo contrario, devuelve `False`.\n",
        "* Ejemplos:\n",
        "    1. menor_que_cien(22, 15) ➞ True\n",
        "    2. menor_que_cien(93, 34) ➞ False\n",
        "    3. menor_que_cien(3, 17) ➞ True\n",
        "    4. menor_que_cien(25, 75) ➞ False"
      ],
      "metadata": {
        "id": "wkinIHpfSybR"
      }
    },
    {
      "cell_type": "code",
      "source": [
        "def menor_que_cien(num1, num2):\n",
        "    pass"
      ],
      "metadata": {
        "id": "vxTk5R-ksf9M"
      },
      "execution_count": null,
      "outputs": []
    },
    {
      "cell_type": "code",
      "source": [
        "print(menor_que_cien(22, 15))\n",
        "print(menor_que_cien(93, 34))\n",
        "print(menor_que_cien(3, 17))\n",
        "print(menor_que_cien(25, 75))"
      ],
      "metadata": {
        "id": "yYE47asFtFXs"
      },
      "execution_count": null,
      "outputs": []
    }
  ]
}