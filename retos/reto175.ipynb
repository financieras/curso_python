{
  "nbformat": 4,
  "nbformat_minor": 0,
  "metadata": {
    "colab": {
      "provenance": [],
      "authorship_tag": "ABX9TyP2YV+ZMG6K6N49kR0yFN0Q",
      "include_colab_link": true
    },
    "kernelspec": {
      "name": "python3",
      "display_name": "Python 3"
    },
    "language_info": {
      "name": "python"
    }
  },
  "cells": [
    {
      "cell_type": "markdown",
      "metadata": {
        "id": "view-in-github",
        "colab_type": "text"
      },
      "source": [
        "<a href=\"https://colab.research.google.com/github/financieras/curso_python/blob/main/retos/reto175.ipynb\" target=\"_parent\"><img src=\"https://colab.research.google.com/assets/colab-badge.svg\" alt=\"Open In Colab\"/></a>"
      ]
    },
    {
      "cell_type": "markdown",
      "source": [
        "## Reto 175: Atleta corriendo\n",
        "* Para este desafío no se da enunciado.\n",
        "* Cree una función que responda a los casos de uso con la salida que se indica.\n",
        "* Ejemplos:\n",
        "    1. running_athlete([\"run\", \"jump\", \"run\", \"jump\", \"run\"])) ➞ \"\\_|\\_|\\_\"\n",
        "    2. running_athlete([\"run\", \"jump\", \"run\", \"run\", \"run\"]) ➞ \"\\_|\\_/\\_\"\n",
        "    3. running_athlete([\"jump\", \"jump\", \"jump\", \"jump\", \"jump\"]) ➞ \"x|x|x\"\n",
        "    4. running_athlete([\"run\", \"run\", \"run\", \"run\", \"run\"]) ➞ \"\\_/\\_/\\_\""
      ],
      "metadata": {
        "id": "0L1L3iGfHiuG"
      }
    },
    {
      "cell_type": "code",
      "source": [
        "def running_athlete(acciones):\n",
        "    pass"
      ],
      "metadata": {
        "id": "YkSU0c_uJk-p"
      },
      "execution_count": null,
      "outputs": []
    },
    {
      "cell_type": "code",
      "source": [
        "print(running_athlete([\"run\", \"jump\", \"run\", \"jump\", \"run\"]))\n",
        "print(running_athlete([\"run\", \"jump\", \"run\", \"run\", \"run\"]))\n",
        "print(running_athlete([\"jump\", \"jump\", \"jump\", \"jump\", \"jump\"]))\n",
        "print(running_athlete([\"run\", \"run\", \"run\", \"run\", \"run\"]))"
      ],
      "metadata": {
        "id": "fZ1g0mPtJ3T-"
      },
      "execution_count": null,
      "outputs": []
    }
  ]
}