{
  "nbformat": 4,
  "nbformat_minor": 0,
  "metadata": {
    "colab": {
      "provenance": [],
      "authorship_tag": "ABX9TyOwhv12sPHerIA06X47YgAA",
      "include_colab_link": true
    },
    "kernelspec": {
      "name": "python3",
      "display_name": "Python 3"
    },
    "language_info": {
      "name": "python"
    }
  },
  "cells": [
    {
      "cell_type": "markdown",
      "metadata": {
        "id": "view-in-github",
        "colab_type": "text"
      },
      "source": [
        "<a href=\"https://colab.research.google.com/github/financieras/curso_python/blob/main/retos/reto171.ipynb\" target=\"_parent\"><img src=\"https://colab.research.google.com/assets/colab-badge.svg\" alt=\"Open In Colab\"/></a>"
      ]
    },
    {
      "cell_type": "markdown",
      "source": [
        "## Reto 171: ¿Cuántos Verdadero hay?\n",
        "* Cree una función que devuelva el número de valores 'True' en una lista.\n",
        "* Ejemplos:\n",
        "    1. count_true([True, False, False, True, False]) ➞ 2\n",
        "    2. count_true([False, False, False, False]) ➞ 0\n",
        "    3. count_true([]) ➞ 0\n",
        "* Devuelve 0 si el argumentos es una lista vacía.\n",
        "* Todos los elementos de la lista son del tipo bool (`True` o `False`)."
      ],
      "metadata": {
        "id": "QDocEv54xl0t"
      }
    },
    {
      "cell_type": "code",
      "source": [
        "def count_true(lista):\n",
        "    pass"
      ],
      "metadata": {
        "id": "FNAPzluG2A2e"
      },
      "execution_count": null,
      "outputs": []
    },
    {
      "cell_type": "code",
      "source": [
        "print(count_true([True, False, False, True, False]))\n",
        "print(count_true([False, False, False, False]))\n",
        "print(count_true([]))"
      ],
      "metadata": {
        "id": "F4Xlg2VI2A2f"
      },
      "execution_count": null,
      "outputs": []
    }
  ]
}