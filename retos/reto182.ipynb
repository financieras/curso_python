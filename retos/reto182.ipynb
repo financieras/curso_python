{
  "nbformat": 4,
  "nbformat_minor": 0,
  "metadata": {
    "colab": {
      "provenance": [],
      "authorship_tag": "ABX9TyNhIx35CNdQOYwC1jgm8tq4",
      "include_colab_link": true
    },
    "kernelspec": {
      "name": "python3",
      "display_name": "Python 3"
    },
    "language_info": {
      "name": "python"
    }
  },
  "cells": [
    {
      "cell_type": "markdown",
      "metadata": {
        "id": "view-in-github",
        "colab_type": "text"
      },
      "source": [
        "<a href=\"https://colab.research.google.com/github/financieras/curso_python/blob/main/retos/reto182.ipynb\" target=\"_parent\"><img src=\"https://colab.research.google.com/assets/colab-badge.svg\" alt=\"Open In Colab\"/></a>"
      ]
    },
    {
      "cell_type": "markdown",
      "source": [
        "## Reto 182 Separar un número en dos partes\n",
        "* Dado un número `n`, devuelva una lista que contenga las dos mitades del número.\n",
        "* Si el número es impar, haga que el mayor se el que está más a la derecha.\n",
        "* El número `n` siempre será un número entero.\n",
        "* El número `n` puede ser negativo.\n",
        "* Ejemplos:\n",
        "    1. number_split(4) ➞ [2, 2]\n",
        "    2. number_split(10) ➞ [5, 5]\n",
        "    3. number_split(11) ➞ [5, 6]\n",
        "    4. number_split(-9) ➞ [-5, -4]\n",
        "    5. number_split(0) ➞ [0, 0]"
      ],
      "metadata": {
        "id": "ltxtlwi5AFZt"
      }
    },
    {
      "cell_type": "code",
      "source": [
        "def number_split(n):\n",
        "    pass"
      ],
      "metadata": {
        "id": "WX4YXqa2BLBM"
      },
      "execution_count": null,
      "outputs": []
    },
    {
      "cell_type": "code",
      "source": [
        "print(number_split(4))\n",
        "print(number_split(10))\n",
        "print(number_split(11))\n",
        "print(number_split(-9))\n",
        "print(number_split(0))"
      ],
      "metadata": {
        "id": "cQms7DobBea-"
      },
      "execution_count": null,
      "outputs": []
    }
  ]
}