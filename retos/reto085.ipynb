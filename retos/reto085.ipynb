{
  "nbformat": 4,
  "nbformat_minor": 0,
  "metadata": {
    "colab": {
      "provenance": [],
      "authorship_tag": "ABX9TyOO1pT7VE2w8rWdiqnre9CY",
      "include_colab_link": true
    },
    "kernelspec": {
      "name": "python3",
      "display_name": "Python 3"
    },
    "language_info": {
      "name": "python"
    }
  },
  "cells": [
    {
      "cell_type": "markdown",
      "metadata": {
        "id": "view-in-github",
        "colab_type": "text"
      },
      "source": [
        "<a href=\"https://colab.research.google.com/github/financieras/curso_python/blob/main/retos/reto085.ipynb\" target=\"_parent\"><img src=\"https://colab.research.google.com/assets/colab-badge.svg\" alt=\"Open In Colab\"/></a>"
      ]
    },
    {
      "cell_type": "markdown",
      "source": [
        "## Reto 85: Convert Yen to USD\n",
        "* Cree una función que pueda convertir JPY (yen japonés) en USD (dólar estadounidense).\n",
        "* Cada conversión de JPY a USD es JPY / 151,1\n",
        "* Redondea el resultado a dos decimales.\n",
        "* Ejemplos:\n",
        "    1. yen_to_usd(1) ➞ 0.01\n",
        "    2. yen_to_usd(500) ➞ 3.31\n",
        "    3. yen_to_usd(10_000) ➞ 66.18\n",
        "\n",
        "\n"
      ],
      "metadata": {
        "id": "FH4XlC6OWf7c"
      }
    },
    {
      "cell_type": "code",
      "source": [
        "def yen_to_usd(jpn):\n",
        "    pass"
      ],
      "metadata": {
        "id": "3Qmz8HBC2zyg"
      },
      "execution_count": null,
      "outputs": []
    },
    {
      "cell_type": "code",
      "source": [
        "print(yen_to_usd(1))\n",
        "print(yen_to_usd(500))\n",
        "print(yen_to_usd(10_000))"
      ],
      "metadata": {
        "id": "Tjmri6rD2zyg"
      },
      "execution_count": null,
      "outputs": []
    }
  ]
}