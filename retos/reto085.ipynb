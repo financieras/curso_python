{
  "nbformat": 4,
  "nbformat_minor": 0,
  "metadata": {
    "colab": {
      "provenance": [],
      "authorship_tag": "ABX9TyMKViA+RivkR2pPO4JYB5rP",
      "include_colab_link": true
    },
    "kernelspec": {
      "name": "python3",
      "display_name": "Python 3"
    },
    "language_info": {
      "name": "python"
    }
  },
  "cells": [
    {
      "cell_type": "markdown",
      "metadata": {
        "id": "view-in-github",
        "colab_type": "text"
      },
      "source": [
        "<a href=\"https://colab.research.google.com/github/financieras/curso_python/blob/main/retos/reto085.ipynb\" target=\"_parent\"><img src=\"https://colab.research.google.com/assets/colab-badge.svg\" alt=\"Open In Colab\"/></a>"
      ]
    },
    {
      "cell_type": "markdown",
      "source": [
        "## Reto 85: Convertir Euros a USD\n",
        "* Cree una función que pueda convertir cierta cantidad de Euros en dólares estadounidenses (USD).\n",
        "* Se ha de tomar el cambio de 1 dolar equivalente a 0,9218 Euros.\n",
        "* El resultado se redondeará a dos decimales.\n",
        "* Ejemplos:\n",
        "    1. euro_a_usd(1) ➞ 1.08\n",
        "    2. euro_a_usd(500) ➞ 542.42\n",
        "    3. euro_a_usd(10_000) ➞ 10848.34"
      ],
      "metadata": {
        "id": "FH4XlC6OWf7c"
      }
    },
    {
      "cell_type": "code",
      "source": [
        "# @title Reto 85\n",
        "\n",
        "def euro_a_usd(euros):\n",
        "    pass"
      ],
      "metadata": {
        "id": "3Qmz8HBC2zyg"
      },
      "execution_count": 12,
      "outputs": []
    },
    {
      "cell_type": "code",
      "source": [
        "print(euro_a_usd(1))\n",
        "print(euro_a_usd(500))\n",
        "print(euro_a_usd(10_000))"
      ],
      "metadata": {
        "id": "Tjmri6rD2zyg"
      },
      "execution_count": null,
      "outputs": []
    }
  ]
}