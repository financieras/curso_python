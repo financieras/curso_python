{
  "nbformat": 4,
  "nbformat_minor": 0,
  "metadata": {
    "colab": {
      "provenance": [],
      "authorship_tag": "ABX9TyMO6klE6fRMmGw6OlYMnGoA",
      "include_colab_link": true
    },
    "kernelspec": {
      "name": "python3",
      "display_name": "Python 3"
    },
    "language_info": {
      "name": "python"
    }
  },
  "cells": [
    {
      "cell_type": "markdown",
      "metadata": {
        "id": "view-in-github",
        "colab_type": "text"
      },
      "source": [
        "<a href=\"https://colab.research.google.com/github/financieras/curso_python/blob/main/retos/reto042.ipynb\" target=\"_parent\"><img src=\"https://colab.research.google.com/assets/colab-badge.svg\" alt=\"Open In Colab\"/></a>"
      ]
    },
    {
      "cell_type": "markdown",
      "source": [
        "## Reto 42: Múltiplo de cien\n",
        "* Cree una función que tome un número entero y devuelva `True` si es divisible por 100; de lo contrario, devuelva `False`.\n",
        "* Ejemplos:\n",
        "    1. divisible(1) ➞ False\n",
        "    2. divisible(1000) ➞ True\n",
        "    3. divisible(100) ➞ True\n",
        "    4. divisible(400) ➞ True\n"
      ],
      "metadata": {
        "id": "ZtQLbKpvym7z"
      }
    },
    {
      "cell_type": "code",
      "source": [
        "def divisible(n):\n",
        "    pass"
      ],
      "metadata": {
        "id": "vVHp8sAc9cOL"
      },
      "execution_count": null,
      "outputs": []
    },
    {
      "cell_type": "code",
      "source": [
        "print(divisible(1))\n",
        "print(divisible(1000))\n",
        "print(divisible(100))\n",
        "print(divisible(400))"
      ],
      "metadata": {
        "id": "Zqno7VoADEoA"
      },
      "execution_count": null,
      "outputs": []
    }
  ]
}