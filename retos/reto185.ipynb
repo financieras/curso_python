{
  "nbformat": 4,
  "nbformat_minor": 0,
  "metadata": {
    "colab": {
      "provenance": [],
      "authorship_tag": "ABX9TyPnA+32o8XKYEbwzet+2B+t",
      "include_colab_link": true
    },
    "kernelspec": {
      "name": "python3",
      "display_name": "Python 3"
    },
    "language_info": {
      "name": "python"
    }
  },
  "cells": [
    {
      "cell_type": "markdown",
      "metadata": {
        "id": "view-in-github",
        "colab_type": "text"
      },
      "source": [
        "<a href=\"https://colab.research.google.com/github/financieras/curso_python/blob/main/retos/reto185.ipynb\" target=\"_parent\"><img src=\"https://colab.research.google.com/assets/colab-badge.svg\" alt=\"Open In Colab\"/></a>"
      ]
    },
    {
      "cell_type": "markdown",
      "source": [
        "## Reto 185: Estado de ánimo predeterminado\n",
        "* Cree una función que tome su estado de ánimo actual y devuelva una oración en el siguiente formato:\n",
        "    - `\"Hoy me siento {estado de ánimo}.\"`\n",
        "* Sin embargo, si no se pasa ningún argumento, devuelva:\n",
        "    - `\"Hoy me siento neutral.\"`\n",
        "\n",
        "* Compruebe que todas las frases terminan en punto.\n",
        "* Ejemplos:\n",
        "    1. mood_today(\"feliz\") ➞ \"Hoy me siento feliz.\"\n",
        "    2. mood_today(\"triste\") ➞ \"Hoy me siento triste.\"\n",
        "    3. mood_today() ➞ \"Hoy me siento neutral.\""
      ],
      "metadata": {
        "id": "Z3XP5FLP5vGa"
      }
    },
    {
      "cell_type": "code",
      "source": [
        "def mood_today(estado=\"neutral\"):\n",
        "    pass"
      ],
      "metadata": {
        "id": "gY1SN3325gOe"
      },
      "execution_count": null,
      "outputs": []
    },
    {
      "cell_type": "code",
      "source": [
        "print(mood_today(\"feliz\"))\n",
        "print(mood_today(\"triste\"))\n",
        "print(mood_today())"
      ],
      "metadata": {
        "id": "b2RtGyUa5b0V"
      },
      "execution_count": null,
      "outputs": []
    }
  ]
}