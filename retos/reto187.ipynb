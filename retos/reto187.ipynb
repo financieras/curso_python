{
  "nbformat": 4,
  "nbformat_minor": 0,
  "metadata": {
    "colab": {
      "provenance": [],
      "authorship_tag": "ABX9TyM/2OlVkpbPK+DX+D5ICnS7",
      "include_colab_link": true
    },
    "kernelspec": {
      "name": "python3",
      "display_name": "Python 3"
    },
    "language_info": {
      "name": "python"
    }
  },
  "cells": [
    {
      "cell_type": "markdown",
      "metadata": {
        "id": "view-in-github",
        "colab_type": "text"
      },
      "source": [
        "<a href=\"https://colab.research.google.com/github/financieras/curso_python/blob/main/retos/reto187.ipynb\" target=\"_parent\"><img src=\"https://colab.research.google.com/assets/colab-badge.svg\" alt=\"Open In Colab\"/></a>"
      ]
    },
    {
      "cell_type": "markdown",
      "source": [
        "## Reto 187: Terna pitagórica\n",
        "* Cree una función que valide si tres números enteros dados forman un [terna pitagórica](https://es.wikipedia.org/wiki/Terna_pitagórica).\n",
        "* La suma de los cuadrados de los dos números enteros más pequeños debe ser igual al cuadrado del número mayor.\n",
        "* Ejemplos:\n",
        "    1. is_triplet(3, 4, 5) ➞ True\n",
        "        * 3² + 4² = 5²\n",
        "    2. is_triplet(13, 5, 12) ➞ True\n",
        "        * 5² + 12² = 13²\n",
        "    3. is_triplet(8, 17, 15) ➞ True\n",
        "        * 8² + 15² = 17²\n",
        "    4. is_triplet(1, 2, 3) ➞ False\n",
        "        * 1² + 2² ≠ 3²"
      ],
      "metadata": {
        "id": "CXanfA8E54vu"
      }
    },
    {
      "cell_type": "code",
      "source": [
        "def is_triplet(a, b, c):\n",
        "    pass"
      ],
      "metadata": {
        "id": "D9XTEYkC54v2"
      },
      "execution_count": null,
      "outputs": []
    },
    {
      "cell_type": "code",
      "source": [
        "print(is_triplet(3, 4, 5))\n",
        "print(is_triplet(13, 5, 12))\n",
        "print(is_triplet(8, 17, 15))\n",
        "print(is_triplet(1, 2, 3))"
      ],
      "metadata": {
        "id": "xy4uawbY54v2"
      },
      "execution_count": null,
      "outputs": []
    }
  ]
}