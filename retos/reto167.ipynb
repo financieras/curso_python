{
  "nbformat": 4,
  "nbformat_minor": 0,
  "metadata": {
    "colab": {
      "provenance": [],
      "authorship_tag": "ABX9TyPk5RnnyuH2SBL5fcGyPc+v",
      "include_colab_link": true
    },
    "kernelspec": {
      "name": "python3",
      "display_name": "Python 3"
    },
    "language_info": {
      "name": "python"
    }
  },
  "cells": [
    {
      "cell_type": "markdown",
      "metadata": {
        "id": "view-in-github",
        "colab_type": "text"
      },
      "source": [
        "<a href=\"https://colab.research.google.com/github/financieras/curso_python/blob/main/retos/reto167.ipynb\" target=\"_parent\"><img src=\"https://colab.research.google.com/assets/colab-badge.svg\" alt=\"Open In Colab\"/></a>"
      ]
    },
    {
      "cell_type": "markdown",
      "source": [
        "## Reto 167: Factores de un número\n",
        "* Cree una función que encuentre cada factor de un número dado `n`.\n",
        "* Su solución debería devolver una lista de los números que cumplen con este criterio.\n",
        "* Devuelve una lista vacía si el número dado es menor que 1.\n",
        "* Ejemplos:\n",
        "    1. find_factors(9) ➞ [1, 3, 9]\n",
        "    2. find_factors(12) ➞ [1, 2, 3, 4, 6, 12]\n",
        "    3. find_factors(20) ➞ [1, 2, 4, 5, 10, 20]\n",
        "    4. find_factors(0) ➞ []"
      ],
      "metadata": {
        "id": "r6UTACqGlQyi"
      }
    },
    {
      "cell_type": "code",
      "source": [
        "def find_factors(n):\n",
        "    pass"
      ],
      "metadata": {
        "id": "AeAoW2v-2Dqw"
      },
      "execution_count": null,
      "outputs": []
    },
    {
      "cell_type": "code",
      "source": [
        "print(find_factors(9))\n",
        "print(find_factors(12))\n",
        "print(find_factors(20))\n",
        "print(find_factors(0))"
      ],
      "metadata": {
        "id": "UmPAdJaw2Dq1"
      },
      "execution_count": null,
      "outputs": []
    }
  ]
}