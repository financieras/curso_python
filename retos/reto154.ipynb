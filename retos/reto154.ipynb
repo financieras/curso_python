{
  "nbformat": 4,
  "nbformat_minor": 0,
  "metadata": {
    "colab": {
      "provenance": [],
      "authorship_tag": "ABX9TyMx3wlLY6c5RILGnqTcaVxA",
      "include_colab_link": true
    },
    "kernelspec": {
      "name": "python3",
      "display_name": "Python 3"
    },
    "language_info": {
      "name": "python"
    }
  },
  "cells": [
    {
      "cell_type": "markdown",
      "metadata": {
        "id": "view-in-github",
        "colab_type": "text"
      },
      "source": [
        "<a href=\"https://colab.research.google.com/github/financieras/curso_python/blob/main/retos/reto154.ipynb\" target=\"_parent\"><img src=\"https://colab.research.google.com/assets/colab-badge.svg\" alt=\"Open In Colab\"/></a>"
      ]
    },
    {
      "cell_type": "markdown",
      "source": [
        "## Reto 154: Encuentra las letras únicas\n",
        "* Cree una función que tome una cadena y devuelva las letras que aparecen solo una vez.\n",
        "* Ejemplos:\n",
        "    1. find_letters(\"monopoly\") ➞ [\"m\", \"n\", \"p\", \"l\", \"y\"]\n",
        "    2. find_letters(\"balloon\") ➞ [\"b\", \"a\", \"n\"]\n",
        "    3. find_letters(\"analysis\") ➞ [\"n\", \"l\", \"y\", \"i\"]\n",
        "    4. find_letters(\"banana\") ➞ [\"b\"]\n",
        "    5. find_letters(\"reappear\") ➞ []\n",
        "* La lista final no debe incluir letras que aparezcan más de una vez en la cadena.\n",
        "* Devuelve las letras en la secuencia en la que estaban originalmente, no las ordene.\n",
        "* Todas las letras estarán en minúsculas."
      ],
      "metadata": {
        "id": "TK0bYgaymXEe"
      }
    },
    {
      "cell_type": "code",
      "source": [
        "def find_letters(palabra):\n",
        "    pass"
      ],
      "metadata": {
        "id": "otVTvowZ2KKb"
      },
      "execution_count": null,
      "outputs": []
    },
    {
      "cell_type": "code",
      "source": [
        "print(find_letters(\"monopoly\") )\n",
        "print(find_letters(\"balloon\") )\n",
        "print(find_letters(\"analysis\"))\n",
        "print(find_letters(\"banana\"))\n",
        "print(find_letters(\"reappear\"))"
      ],
      "metadata": {
        "id": "73yvl4fx2KKc"
      },
      "execution_count": null,
      "outputs": []
    }
  ]
}