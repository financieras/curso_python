{
  "nbformat": 4,
  "nbformat_minor": 0,
  "metadata": {
    "colab": {
      "provenance": [],
      "authorship_tag": "ABX9TyOFOZI88OvwjmNWQ3aOmshx",
      "include_colab_link": true
    },
    "kernelspec": {
      "name": "python3",
      "display_name": "Python 3"
    },
    "language_info": {
      "name": "python"
    }
  },
  "cells": [
    {
      "cell_type": "markdown",
      "metadata": {
        "id": "view-in-github",
        "colab_type": "text"
      },
      "source": [
        "<a href=\"https://colab.research.google.com/github/financieras/curso_python/blob/main/retos/reto140.ipynb\" target=\"_parent\"><img src=\"https://colab.research.google.com/assets/colab-badge.svg\" alt=\"Open In Colab\"/></a>"
      ]
    },
    {
      "cell_type": "markdown",
      "source": [
        "## Reto 140: Obtener el nombre de fichero\n",
        "* Cree una función que devuelva el nombre de archivo seleccionado de una ruta.\n",
        "* La función debe retornar el fichero y debe incluir la extensión.\n",
        "* Ejemplos:\n",
        "    1. get_filename(\"C:/Projects/tests/ascii/prueba.txt\") ➞ \"prueba.txt\"\n",
        "    2. get_filename(\"C:/Users/marta/Music/Beethoven_5.mp3\") ➞ \"Beethoven_5.mp3\"\n",
        "    3. get_filename(\"editor.exe\") ➞ \"editor.exe\""
      ],
      "metadata": {
        "id": "AhoT4oM5mVrK"
      }
    },
    {
      "cell_type": "code",
      "source": [
        "def get_filename(ruta):\n",
        "    pass"
      ],
      "metadata": {
        "id": "rWqqKFF72XAh"
      },
      "execution_count": null,
      "outputs": []
    },
    {
      "cell_type": "code",
      "source": [
        "print(get_filename(\"C:/Projects/tests/ascii/prueba.txt\"))\n",
        "print(get_filename(\"C:/Users/marta/Music/Beethoven_5.mp3\"))\n",
        "print(get_filename(\"editor.exe\"))"
      ],
      "metadata": {
        "id": "bYUZCRDh2XAh"
      },
      "execution_count": null,
      "outputs": []
    }
  ]
}