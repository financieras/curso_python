{
  "nbformat": 4,
  "nbformat_minor": 0,
  "metadata": {
    "colab": {
      "provenance": [],
      "authorship_tag": "ABX9TyONqoW8Cy3zj0LQfuIl5DGg",
      "include_colab_link": true
    },
    "kernelspec": {
      "name": "python3",
      "display_name": "Python 3"
    },
    "language_info": {
      "name": "python"
    }
  },
  "cells": [
    {
      "cell_type": "markdown",
      "metadata": {
        "id": "view-in-github",
        "colab_type": "text"
      },
      "source": [
        "<a href=\"https://colab.research.google.com/github/financieras/curso_python/blob/main/retos/reto173.ipynb\" target=\"_parent\"><img src=\"https://colab.research.google.com/assets/colab-badge.svg\" alt=\"Open In Colab\"/></a>"
      ]
    },
    {
      "cell_type": "markdown",
      "source": [
        "## Reto 173: Recursividad aplicada a repetir un String n veces\n",
        "* Cree una función recursiva que tome dos parámetros y repita la cadena `n` veces.\n",
        "* El primer parámetro es la cadena que se repetirá\n",
        "* El segundo parámetro es el número de veces que se repetirá la cadena.\n",
        "* Ejemplos:\n",
        "    1. repetition(\"ab\", 3) ➞ \"ababab\"\n",
        "    2. repetition(\"kiwi\", 1) ➞ \"kiwi\"\n",
        "    3. repetition(\"Cherry\", 2) ➞ \"CherryCherry\""
      ],
      "metadata": {
        "id": "5vA_iDMVzyLM"
      }
    },
    {
      "cell_type": "code",
      "source": [
        "def repetition(txt, n):\n",
        "    pass"
      ],
      "metadata": {
        "id": "Fwt6_epj5Ydo"
      },
      "execution_count": null,
      "outputs": []
    },
    {
      "cell_type": "code",
      "source": [
        "print(repetition(\"ab\", 3))\n",
        "print(repetition(\"kiwi\", 1))\n",
        "print(repetition(\"Cherry\", 2))"
      ],
      "metadata": {
        "id": "sVvXFcKMWYT5"
      },
      "execution_count": null,
      "outputs": []
    }
  ]
}