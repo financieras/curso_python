{
  "nbformat": 4,
  "nbformat_minor": 0,
  "metadata": {
    "colab": {
      "provenance": [],
      "authorship_tag": "ABX9TyOOqC6GfwgccobaVVAWXtSV",
      "include_colab_link": true
    },
    "kernelspec": {
      "name": "python3",
      "display_name": "Python 3"
    },
    "language_info": {
      "name": "python"
    }
  },
  "cells": [
    {
      "cell_type": "markdown",
      "metadata": {
        "id": "view-in-github",
        "colab_type": "text"
      },
      "source": [
        "<a href=\"https://colab.research.google.com/github/financieras/curso_python/blob/main/retos/reto036.ipynb\" target=\"_parent\"><img src=\"https://colab.research.google.com/assets/colab-badge.svg\" alt=\"Open In Colab\"/></a>"
      ]
    },
    {
      "cell_type": "markdown",
      "source": [
        "## Reto 36: Control de igualdad\n",
        "* Debe verificar la igualdad de dos valores diferentes dados los parámetros `a` y `b`.\n",
        "* Tanto el valor como el tipo de dato de los argumentos deben ser iguales.\n",
        "* Ejemplos:\n",
        "    1. check_igualdad(7, \"7\") ➞ False\n",
        "    2. check_igualdad(1, True) ➞ False\n",
        "    3. check_igualdad(1, --1) ➞ True\n",
        "    4. check_igualdad(0, 'False') ➞ False\n",
        "    5. check_igualdad(4, abs(-4)) ➞ True\n",
        "\n",
        "* La función `abs()` calcula el valor absoluto de un número"
      ],
      "metadata": {
        "id": "uBgvowa5ykdn"
      }
    },
    {
      "cell_type": "code",
      "source": [
        "def check_igualdad(a, b):\n",
        "    pass"
      ],
      "metadata": {
        "id": "NjkdCUcu51SP"
      },
      "execution_count": null,
      "outputs": []
    },
    {
      "cell_type": "code",
      "source": [
        "print(check_igualdad(7, \"7\"))\n",
        "print(check_igualdad(1, True))\n",
        "print(check_igualdad(1, --1))\n",
        "print(check_igualdad(0, 'False'))\n",
        "print(check_igualdad(4, abs(-4)))"
      ],
      "metadata": {
        "id": "shEQK4bB6AsR"
      },
      "execution_count": null,
      "outputs": []
    }
  ]
}