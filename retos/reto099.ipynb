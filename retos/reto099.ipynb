{
  "nbformat": 4,
  "nbformat_minor": 0,
  "metadata": {
    "colab": {
      "provenance": [],
      "authorship_tag": "ABX9TyMPmP2Ra3saYRo2GJLctt7I",
      "include_colab_link": true
    },
    "kernelspec": {
      "name": "python3",
      "display_name": "Python 3"
    },
    "language_info": {
      "name": "python"
    }
  },
  "cells": [
    {
      "cell_type": "markdown",
      "metadata": {
        "id": "view-in-github",
        "colab_type": "text"
      },
      "source": [
        "<a href=\"https://colab.research.google.com/github/financieras/curso_python/blob/main/retos/reto099.ipynb\" target=\"_parent\"><img src=\"https://colab.research.google.com/assets/colab-badge.svg\" alt=\"Open In Colab\"/></a>"
      ]
    },
    {
      "cell_type": "markdown",
      "source": [
        "## Reto 99: Valoración de clientes\n",
        "* Usted es el guía turístico de un grupo de turistas a los que lleva a conocer Madrid.\n",
        "* Después de cada visita le puntúan en la aplicación dando entre 1 y 5 estrellas.\n",
        "* El número de turistas que lleva en cada grupo es variable.\n",
        "* Cree una función que al recibir las estrellas con las que le han puntuado los diferentes turistas, devuelva el número de turistas que le han dado la mayor puntuación en ese grupo.\n",
        "* Ejemplos:\n",
        "    1. mejores_estrellas([4, 4, 3]) ➞ 2\n",
        "    2. mejores_estrellas([5, 4, 1, 5]) ➞ 2\n",
        "    3. mejores_estrellas([5, 3, 4, 4, 4, 3]) ➞ 1\n",
        "    4. mejores_estrellas([4, 3, 4, 4, 2]) ➞ 3"
      ],
      "metadata": {
        "id": "exl2j4CBntb6"
      }
    },
    {
      "cell_type": "code",
      "source": [
        "def mejores_estrellas(lista):\n",
        "    pass"
      ],
      "metadata": {
        "id": "hm6t3FMi2uCv"
      },
      "execution_count": null,
      "outputs": []
    },
    {
      "cell_type": "code",
      "source": [
        "print(mejores_estrellas([4, 4, 3]))\n",
        "print(mejores_estrellas([5, 4, 1, 5]))\n",
        "print(mejores_estrellas([5, 3, 4, 4, 4, 3]))\n",
        "print(mejores_estrellas([4, 3, 4, 4, 2]))"
      ],
      "metadata": {
        "id": "8mfEGG1A2uC1"
      },
      "execution_count": null,
      "outputs": []
    }
  ]
}