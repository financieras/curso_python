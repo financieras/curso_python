{
  "nbformat": 4,
  "nbformat_minor": 0,
  "metadata": {
    "colab": {
      "provenance": [],
      "authorship_tag": "ABX9TyN42AnUQSyFaw7mYt/iMTYr",
      "include_colab_link": true
    },
    "kernelspec": {
      "name": "python3",
      "display_name": "Python 3"
    },
    "language_info": {
      "name": "python"
    }
  },
  "cells": [
    {
      "cell_type": "markdown",
      "metadata": {
        "id": "view-in-github",
        "colab_type": "text"
      },
      "source": [
        "<a href=\"https://colab.research.google.com/github/financieras/curso_python/blob/main/retos/practica01.ipynb\" target=\"_parent\"><img src=\"https://colab.research.google.com/assets/colab-badge.svg\" alt=\"Open In Colab\"/></a>"
      ]
    },
    {
      "cell_type": "markdown",
      "source": [
        "## Reto 1: Retornar la suma de dos números\n",
        "* Cree una función que tome dos números como argumentos y devuelva su suma.\n",
        "* Ejemplos:\n",
        "    1. sumar(3, 2) ➞ 5\n",
        "    2. sumar(-3, -6) ➞ -9\n",
        "    3. sumar(7, 3) ➞ 10"
      ],
      "metadata": {
        "id": "c1sQ-fIGDDs5"
      }
    },
    {
      "cell_type": "code",
      "source": [
        "def sumar(a, b):\n",
        "    pass"
      ],
      "metadata": {
        "id": "PEhcTw9T0Fk8"
      },
      "execution_count": null,
      "outputs": []
    },
    {
      "cell_type": "code",
      "source": [
        "print(sumar(3, 2))\n",
        "print(sumar(-3, -6))\n",
        "print(sumar(7, 3))"
      ],
      "metadata": {
        "id": "GM1b90Me0f8d"
      },
      "execution_count": null,
      "outputs": []
    },
    {
      "cell_type": "markdown",
      "source": [
        "## Reto 2: Convertir minutos a segundos\n",
        "* Escriba una función que tome un número entero de `minutos` y los convierta a segundos.\n",
        "* Ejemplos:\n",
        "    1. minutos_a_segundos(5) ➞ 300\n",
        "    2. minutos_a_segundos(3) ➞ 180\n",
        "    3. minutos_a_segundos(2) ➞ 120"
      ],
      "metadata": {
        "id": "hOLv-TIRDf6j"
      }
    },
    {
      "cell_type": "code",
      "source": [
        "def minutos_a_segundos(minutos):\n",
        "    pass"
      ],
      "metadata": {
        "id": "tSrj_Q-w1KUA"
      },
      "execution_count": null,
      "outputs": []
    },
    {
      "cell_type": "code",
      "source": [
        "print(minutos_a_segundos(5))\n",
        "print(minutos_a_segundos(3))\n",
        "print(minutos_a_segundos(2))"
      ],
      "metadata": {
        "id": "vVxRFC8l1WhP"
      },
      "execution_count": null,
      "outputs": []
    },
    {
      "cell_type": "markdown",
      "source": [
        "## Reto 3: Retornar el siguiente número entero\n",
        "* Cree una función que tome un número como argumento, incremente el número en +1 y devuelva el resultado.\n",
        "* Ejemplos:\n",
        "    1. suma_uno(0) ➞ 1\n",
        "    2. suma_uno(9) ➞ 10\n",
        "    3. suma_uno(-3) ➞ -2"
      ],
      "metadata": {
        "id": "WTawBnD9EVuF"
      }
    },
    {
      "cell_type": "code",
      "source": [
        "def suma_uno(n):\n",
        "    pass"
      ],
      "metadata": {
        "id": "xwyrDFA916tx"
      },
      "execution_count": null,
      "outputs": []
    },
    {
      "cell_type": "code",
      "source": [
        "print(suma_uno(0))\n",
        "print(suma_uno(9))\n",
        "print(suma_uno(-3))"
      ],
      "metadata": {
        "id": "H9sdtJIC2FbZ"
      },
      "execution_count": null,
      "outputs": []
    },
    {
      "cell_type": "markdown",
      "source": [
        "## Reto 4: Área de un triángulo\n",
        "* Escriba una función que tome la `base` y la `altura` de un triángulo y devuelva su área.\n",
        "* Ejemplos:\n",
        "    1. area_triangulo(3, 2) ➞ 3\n",
        "    2. area_triangulo(7, 4) ➞ 14\n",
        "    3. area_triangulo(10, 10) ➞ 50"
      ],
      "metadata": {
        "id": "bfTd-0bmFSBp"
      }
    },
    {
      "cell_type": "code",
      "source": [
        "def area_triangulo(base, altura):\n",
        "    pass"
      ],
      "metadata": {
        "id": "tqJW0PPN2dWU"
      },
      "execution_count": null,
      "outputs": []
    },
    {
      "cell_type": "code",
      "source": [
        "print(area_triangulo(3, 2))\n",
        "print(area_triangulo(7, 4))\n",
        "print(area_triangulo(10, 10))"
      ],
      "metadata": {
        "id": "B6sRcQRm2krj"
      },
      "execution_count": null,
      "outputs": []
    },
    {
      "cell_type": "markdown",
      "source": [
        "## Reto 5: Retornar el primer elemento de un Array\n",
        "* Cree una función que reciba una lista y devuelva el primer elemento.\n",
        "* Ejemplos:\n",
        "    1. obtener_primer_valor(['a', 'e', 'i', 'o', 'u']) ➞ 'a'\n",
        "    2. obtener_primer_valor([80, 5, 100]) ➞ 80\n",
        "    3. obtener_primer_valor([-500, 0, 50]) ➞ -500"
      ],
      "metadata": {
        "id": "WJ_mA4xsGA-a"
      }
    },
    {
      "cell_type": "code",
      "source": [
        "def obtener_primer_valor(lista):\n",
        "    pass"
      ],
      "metadata": {
        "id": "G7tazpXX3HsA"
      },
      "execution_count": null,
      "outputs": []
    },
    {
      "cell_type": "code",
      "source": [
        "print(obtener_primer_valor(['a', 'e', 'i', 'o', 'u']))\n",
        "print(obtener_primer_valor([80, 5, 100]))\n",
        "print(obtener_primer_valor([-500, 0, 50]))"
      ],
      "metadata": {
        "id": "jMt9vEwd3cgL"
      },
      "execution_count": null,
      "outputs": []
    },
    {
      "cell_type": "markdown",
      "source": [
        "## Reto 6: Calculadora de potencia eléctrica\n",
        "* Cree una función que tome `voltaje` y la `intensidad` de corriente y devuelva la `potencia` calculada.\n",
        "* Ejemplos:\n",
        "    1. potencia(230, 10) ➞ 2300\n",
        "    2. potencia(110, 3) ➞ 330\n",
        "    3. potencia(480, 20) ➞ 9600"
      ],
      "metadata": {
        "id": "lIodMfnfGeCi"
      }
    },
    {
      "cell_type": "code",
      "source": [
        "def potencia(voltaje, intensidad):\n",
        "    pass"
      ],
      "metadata": {
        "id": "hX_FR9B24bvk"
      },
      "execution_count": null,
      "outputs": []
    },
    {
      "cell_type": "code",
      "source": [
        "print(potencia(230, 10))\n",
        "print(potencia(110, 3))\n",
        "print(potencia(480, 20))"
      ],
      "metadata": {
        "id": "6_LVpn764qZX"
      },
      "execution_count": null,
      "outputs": []
    },
    {
      "cell_type": "markdown",
      "source": [
        "## Reto 7: Convertir horas a segundos\n",
        "* Escriba una función que convierta `horas` en segundos.\n",
        "* Ejemplos:\n",
        "    1. horas_a_segundos(2) ➞ 7200\n",
        "    2. horas_a_segundos(10) ➞ 36000\n",
        "    3. horas_a_segundos(24) ➞ 86400"
      ],
      "metadata": {
        "id": "Npptws5vGczF"
      }
    },
    {
      "cell_type": "code",
      "source": [
        "def horas_a_segundos(horas):\n",
        "    pass"
      ],
      "metadata": {
        "id": "B8nkjQe35PY2"
      },
      "execution_count": null,
      "outputs": []
    },
    {
      "cell_type": "code",
      "source": [
        "print(horas_a_segundos(2))\n",
        "print(horas_a_segundos(10))\n",
        "print(horas_a_segundos(24))"
      ],
      "metadata": {
        "id": "2DVvVhnh5epj"
      },
      "execution_count": null,
      "outputs": []
    },
    {
      "cell_type": "markdown",
      "source": [
        "## Reto 8: Retornar el resto\n",
        "* Cree una función que reciba como parámetros el `numerador` y el `denominador` de una división y retorne el resto, también llamado resíduo o módulo.\n",
        "* Ejemplos:\n",
        "    1. mod(24, 5) ➞ 4\n",
        "    2. mod(50, 10) ➞ 0\n",
        "    3. mod(3, 4) ➞ 3"
      ],
      "metadata": {
        "id": "huBmVKl0Gc8j"
      }
    },
    {
      "cell_type": "code",
      "source": [
        "def mod(numerador, denominador):\n",
        "    pass"
      ],
      "metadata": {
        "id": "Rjn3vhLC58v3"
      },
      "execution_count": null,
      "outputs": []
    },
    {
      "cell_type": "code",
      "source": [
        "print(mod(24, 5))\n",
        "print(mod(50, 10))\n",
        "print(mod(3, 4))"
      ],
      "metadata": {
        "id": "DrNewByi6MAg"
      },
      "execution_count": null,
      "outputs": []
    },
    {
      "cell_type": "markdown",
      "source": [
        "## Reto 9: Retornar un string como integer\n",
        "* Cree una función que tome una cadena y la devuelva como un número entero.\n",
        "* Ejemplos:\n",
        "    1. string_to_int(\"6\") ➞ 6\n",
        "    2. string_to_int(\"1000\") ➞ 1000\n",
        "    3. string_to_int(\"12\") ➞ 12"
      ],
      "metadata": {
        "id": "qVN8HUR1aBF7"
      }
    },
    {
      "cell_type": "code",
      "source": [
        "def string_to_int(txt):\n",
        "    pass"
      ],
      "metadata": {
        "id": "uY3Tkiy966MO"
      },
      "execution_count": null,
      "outputs": []
    },
    {
      "cell_type": "code",
      "source": [
        "print(string_to_int(\"6\"))\n",
        "print(string_to_int(\"1000\"))\n",
        "print(string_to_int(\"12\"))"
      ],
      "metadata": {
        "id": "dQUdRhzl7Kv3"
      },
      "execution_count": null,
      "outputs": []
    },
    {
      "cell_type": "markdown",
      "source": [
        "## Reto 10: Encontrar el perímetro de un rectángulo\n",
        "* Cree una función que tome el `largo` y el `ancho` de un rectángulo y retorne su perímetro.\n",
        "* Ejemplos:\n",
        "    1. perimetro(6, 7) ➞ 26\n",
        "    2. perimetro(20, 10) ➞ 60\n",
        "    3. perimetro(2, 9) ➞ 22"
      ],
      "metadata": {
        "id": "SGsmTdRwGdET"
      }
    },
    {
      "cell_type": "code",
      "source": [
        "def perimetro(largo, ancho):\n",
        "    pass"
      ],
      "metadata": {
        "id": "J4fL8cw07txS"
      },
      "execution_count": 1,
      "outputs": []
    },
    {
      "cell_type": "code",
      "source": [
        "print(perimetro(6, 7))\n",
        "print(perimetro(20, 10))\n",
        "print(perimetro(2, 9))"
      ],
      "metadata": {
        "id": "LdDpQX5r735d"
      },
      "execution_count": null,
      "outputs": []
    }
  ]
}