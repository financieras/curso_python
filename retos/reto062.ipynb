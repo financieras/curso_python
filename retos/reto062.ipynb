{
  "nbformat": 4,
  "nbformat_minor": 0,
  "metadata": {
    "colab": {
      "provenance": [],
      "authorship_tag": "ABX9TyOtPMCT21AwbLAJdt9284PM",
      "include_colab_link": true
    },
    "kernelspec": {
      "name": "python3",
      "display_name": "Python 3"
    },
    "language_info": {
      "name": "python"
    }
  },
  "cells": [
    {
      "cell_type": "markdown",
      "metadata": {
        "id": "view-in-github",
        "colab_type": "text"
      },
      "source": [
        "<a href=\"https://colab.research.google.com/github/financieras/curso_python/blob/main/retos/reto062.ipynb\" target=\"_parent\"><img src=\"https://colab.research.google.com/assets/colab-badge.svg\" alt=\"Open In Colab\"/></a>"
      ]
    },
    {
      "cell_type": "markdown",
      "source": [
        "## Reto 62: Palabra plural o singular\n",
        "* Cree una función que tome una palabra y determine si es plural o no.\n",
        "* Para simplificar, consideraremos que una palabra es plural si termina en \"s\".\n",
        "* Ejemplos:\n",
        "    1. es_plural(\"cambios\") ➞ True\n",
        "    2. es_plural(\"cambio\") ➞ False\n",
        "    3. es_plural(\"dudas\") ➞ True\n",
        "    4. es_plural(\"camión\") ➞ False\n"
      ],
      "metadata": {
        "id": "DxN0UYoAz64b"
      }
    },
    {
      "cell_type": "code",
      "source": [
        "def es_plural(txt):\n",
        "    pass"
      ],
      "metadata": {
        "id": "PKT6q_472_Ad"
      },
      "execution_count": null,
      "outputs": []
    },
    {
      "cell_type": "code",
      "source": [
        "print(es_plural(\"cambios\"))\n",
        "print(es_plural(\"cambio\"))\n",
        "print(es_plural(\"dedas\"))\n",
        "print(es_plural(\"camión\"))"
      ],
      "metadata": {
        "id": "O1uqhXPt2_Ad"
      },
      "execution_count": null,
      "outputs": []
    }
  ]
}