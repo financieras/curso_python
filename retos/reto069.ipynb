{
  "nbformat": 4,
  "nbformat_minor": 0,
  "metadata": {
    "colab": {
      "provenance": [],
      "authorship_tag": "ABX9TyP+jw6Zed41mvFjoaVkc8ad",
      "include_colab_link": true
    },
    "kernelspec": {
      "name": "python3",
      "display_name": "Python 3"
    },
    "language_info": {
      "name": "python"
    }
  },
  "cells": [
    {
      "cell_type": "markdown",
      "metadata": {
        "id": "view-in-github",
        "colab_type": "text"
      },
      "source": [
        "<a href=\"https://colab.research.google.com/github/financieras/curso_python/blob/main/retos/reto069.ipynb\" target=\"_parent\"><img src=\"https://colab.research.google.com/assets/colab-badge.svg\" alt=\"Open In Colab\"/></a>"
      ]
    },
    {
      "cell_type": "markdown",
      "source": [
        "## Reto 69: WordCharWord\n",
        "* Cree una función que coloque el primer argumento, un carácter, entre cada palabra del segundo argumento, una cadena.\n",
        "* Ejemplos:\n",
        "    1. add_char(\"_\", \"Python is fun\") ➞ \"Python_is_fun\"\n",
        "    2. add_char(\"#\", \"hello world!\") ➞ \"hello#world!\"\n",
        "    3. add_char(\"@\", \" \") ➞ \"@\""
      ],
      "metadata": {
        "id": "ahhg7AhsWfBk"
      }
    },
    {
      "cell_type": "code",
      "source": [
        "def add_char(caracter, frase):\n",
        "    pass"
      ],
      "metadata": {
        "id": "NB4gFE4727a6"
      },
      "execution_count": null,
      "outputs": []
    },
    {
      "cell_type": "code",
      "source": [
        "print(add_char(\"_\", \"Python is fun\"))\n",
        "print(add_char(\"#\", \"hello world!\"))\n",
        "print(add_char(\"@\", \" \"))"
      ],
      "metadata": {
        "id": "XWmUOZBK27a7"
      },
      "execution_count": null,
      "outputs": []
    }
  ]
}