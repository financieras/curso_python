{
  "nbformat": 4,
  "nbformat_minor": 0,
  "metadata": {
    "colab": {
      "provenance": [],
      "authorship_tag": "ABX9TyN0S/itiQWUVMHm7KaFmRvi",
      "include_colab_link": true
    },
    "kernelspec": {
      "name": "python3",
      "display_name": "Python 3"
    },
    "language_info": {
      "name": "python"
    }
  },
  "cells": [
    {
      "cell_type": "markdown",
      "metadata": {
        "id": "view-in-github",
        "colab_type": "text"
      },
      "source": [
        "<a href=\"https://colab.research.google.com/github/financieras/curso_python/blob/main/retos/reto069.ipynb\" target=\"_parent\"><img src=\"https://colab.research.google.com/assets/colab-badge.svg\" alt=\"Open In Colab\"/></a>"
      ]
    },
    {
      "cell_type": "markdown",
      "source": [
        "## Reto 69:  Separar palabras\n",
        "* La función recibe un caracter y una cadena.\n",
        "* La función retorna las palabras de la cadena separadas por el caracter recibido.\n",
        "* Ejemplos:\n",
        "    1. separar_palabras(\"_\", \"Python is fun\") ➞ \"Python_is_fun\"\n",
        "    2. separar_palabras(\"#\", \"hello world!\") ➞ \"hello#world!\"\n",
        "    3. separar_palabras(\"@\", \" \") ➞ \"@\""
      ],
      "metadata": {
        "id": "ahhg7AhsWfBk"
      }
    },
    {
      "cell_type": "code",
      "source": [
        "def separar_palabras(caracter, frase):\n",
        "    pass"
      ],
      "metadata": {
        "id": "NB4gFE4727a6"
      },
      "execution_count": null,
      "outputs": []
    },
    {
      "cell_type": "code",
      "source": [
        "print(separar_palabras(\"_\", \"Python is fun\"))\n",
        "print(separar_palabras(\"#\", \"hello world!\"))\n",
        "print(separar_palabras(\"@\", \" \"))"
      ],
      "metadata": {
        "id": "XWmUOZBK27a7"
      },
      "execution_count": null,
      "outputs": []
    }
  ]
}