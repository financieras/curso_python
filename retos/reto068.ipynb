{
  "nbformat": 4,
  "nbformat_minor": 0,
  "metadata": {
    "colab": {
      "provenance": [],
      "authorship_tag": "ABX9TyPVKbR9XwuxoHPl1WUNao6B",
      "include_colab_link": true
    },
    "kernelspec": {
      "name": "python3",
      "display_name": "Python 3"
    },
    "language_info": {
      "name": "python"
    }
  },
  "cells": [
    {
      "cell_type": "markdown",
      "metadata": {
        "id": "view-in-github",
        "colab_type": "text"
      },
      "source": [
        "<a href=\"https://colab.research.google.com/github/financieras/curso_python/blob/main/retos/reto068.ipynb\" target=\"_parent\"><img src=\"https://colab.research.google.com/assets/colab-badge.svg\" alt=\"Open In Colab\"/></a>"
      ]
    },
    {
      "cell_type": "markdown",
      "source": [
        "## Reto 68: Char to ASCII\n",
        "* Cree una función que devuelva el valor ASCII del carácter pasado.\n",
        "* Ejemplos:\n",
        "    1. ctoa(\"A\") ➞ 65\n",
        "    2. ctoa(\"z\") ➞ 122\n",
        "    3. ctoa(\"*\") ➞ 42\n",
        "    4. ctoa(\" \") ➞ 32"
      ],
      "metadata": {
        "id": "-hnzsWZ5We9y"
      }
    },
    {
      "cell_type": "code",
      "source": [
        "def ctoa(caracter):\n",
        "    pass"
      ],
      "metadata": {
        "id": "2m5JUPXe27wE"
      },
      "execution_count": null,
      "outputs": []
    },
    {
      "cell_type": "code",
      "source": [
        "print(ctoa(\"A\"))\n",
        "print(ctoa(\"z\"))\n",
        "print(ctoa(\"*\"))\n",
        "print(ctoa(\" \"))"
      ],
      "metadata": {
        "id": "sJK0kEkn27wE"
      },
      "execution_count": null,
      "outputs": []
    }
  ]
}