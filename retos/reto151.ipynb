{
  "nbformat": 4,
  "nbformat_minor": 0,
  "metadata": {
    "colab": {
      "provenance": [],
      "authorship_tag": "ABX9TyNtsOM2S9ayn8V3zExgrbED",
      "include_colab_link": true
    },
    "kernelspec": {
      "name": "python3",
      "display_name": "Python 3"
    },
    "language_info": {
      "name": "python"
    }
  },
  "cells": [
    {
      "cell_type": "markdown",
      "metadata": {
        "id": "view-in-github",
        "colab_type": "text"
      },
      "source": [
        "<a href=\"https://colab.research.google.com/github/financieras/curso_python/blob/main/retos/reto151.ipynb\" target=\"_parent\"><img src=\"https://colab.research.google.com/assets/colab-badge.svg\" alt=\"Open In Colab\"/></a>"
      ]
    },
    {
      "cell_type": "markdown",
      "source": [
        "## Reto 151: Recreando la función `len()`\n",
        "* Cree una función que devuelva la longitud de una cadena o de una lista, sin usar len().\n",
        "* Ejemplos:\n",
        "    1. length(\"Hello World\") ➞ 11\n",
        "    2. length([2,3,4,-7]) ➞ 4\n",
        "    3. length(\"Learn by Doing\") ➞ 14"
      ],
      "metadata": {
        "id": "TKCDa5k2mWyf"
      }
    },
    {
      "cell_type": "code",
      "source": [
        "def length(obj):\n",
        "    pass"
      ],
      "metadata": {
        "id": "1p0fpenk2MYz"
      },
      "execution_count": null,
      "outputs": []
    },
    {
      "cell_type": "code",
      "source": [
        "print(length(\"Hello World\"))\n",
        "print(length([2,3,4,-7]))\n",
        "print(length(\"Learn by Doing\"))"
      ],
      "metadata": {
        "id": "6t_6qVuf2MY4"
      },
      "execution_count": null,
      "outputs": []
    }
  ]
}