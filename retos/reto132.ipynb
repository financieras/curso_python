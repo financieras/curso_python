{
  "nbformat": 4,
  "nbformat_minor": 0,
  "metadata": {
    "colab": {
      "provenance": [],
      "authorship_tag": "ABX9TyNt6mjSKD3xH2Jtajp0wBIE",
      "include_colab_link": true
    },
    "kernelspec": {
      "name": "python3",
      "display_name": "Python 3"
    },
    "language_info": {
      "name": "python"
    }
  },
  "cells": [
    {
      "cell_type": "markdown",
      "metadata": {
        "id": "view-in-github",
        "colab_type": "text"
      },
      "source": [
        "<a href=\"https://colab.research.google.com/github/financieras/curso_python/blob/main/retos/reto132.ipynb\" target=\"_parent\"><img src=\"https://colab.research.google.com/assets/colab-badge.svg\" alt=\"Open In Colab\"/></a>"
      ]
    },
    {
      "cell_type": "markdown",
      "source": [
        "## Reto 132: Replicando la función módulo\n",
        "* Cree una función que actúe como el operador de módulo `%` sin utilizar el operador de módulo.\n",
        "* El operador de módulo es una forma de determinar el resto o resíduo de una operación de división.\n",
        "* No utilice el operador `%` para devolver los resultados.\n",
        "* Ejemplos:\n",
        "    1. mod(5, 2) ➞ 1\n",
        "    2. mod(218, 5) ➞ 3\n",
        "    3. mod(6, 3) ➞ 0\n"
      ],
      "metadata": {
        "id": "XPVxTo33mU8D"
      }
    },
    {
      "cell_type": "code",
      "source": [
        "def mod(a, b):\n",
        "    pass"
      ],
      "metadata": {
        "id": "XIQ95Cu82aWg"
      },
      "execution_count": null,
      "outputs": []
    },
    {
      "cell_type": "code",
      "source": [
        "print(mod(5, 2))\n",
        "print(mod(218, 5))\n",
        "print(mod(6, 3))"
      ],
      "metadata": {
        "id": "npY4eCKP2aWg"
      },
      "execution_count": null,
      "outputs": []
    }
  ]
}