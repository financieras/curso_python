{
  "nbformat": 4,
  "nbformat_minor": 0,
  "metadata": {
    "colab": {
      "provenance": [],
      "authorship_tag": "ABX9TyMxIv0qZCRC9Mjsu310OPb1",
      "include_colab_link": true
    },
    "kernelspec": {
      "name": "python3",
      "display_name": "Python 3"
    },
    "language_info": {
      "name": "python"
    }
  },
  "cells": [
    {
      "cell_type": "markdown",
      "metadata": {
        "id": "view-in-github",
        "colab_type": "text"
      },
      "source": [
        "<a href=\"https://colab.research.google.com/github/financieras/curso_python/blob/main/retos/reto007.ipynb\" target=\"_parent\"><img src=\"https://colab.research.google.com/assets/colab-badge.svg\" alt=\"Open In Colab\"/></a>"
      ]
    },
    {
      "cell_type": "markdown",
      "source": [
        "## Reto 7: Convertir horas a segundos\n",
        "* Escriba una función que convierta `horas` en segundos.\n",
        "* Ejemplos:\n",
        "    1. horas_a_segundos(2) ➞ 7200\n",
        "    2. horas_a_segundos(10) ➞ 36000\n",
        "    3. horas_a_segundos(24) ➞ 86400"
      ],
      "metadata": {
        "id": "Npptws5vGczF"
      }
    },
    {
      "cell_type": "code",
      "source": [
        "def horas_a_segundos(horas):\n",
        "    pass"
      ],
      "metadata": {
        "id": "B8nkjQe35PY2"
      },
      "execution_count": null,
      "outputs": []
    },
    {
      "cell_type": "code",
      "source": [
        "print(horas_a_segundos(2))\n",
        "print(horas_a_segundos(10))\n",
        "print(horas_a_segundos(24))"
      ],
      "metadata": {
        "id": "2DVvVhnh5epj"
      },
      "execution_count": null,
      "outputs": []
    }
  ]
}