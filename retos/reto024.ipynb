{
  "nbformat": 4,
  "nbformat_minor": 0,
  "metadata": {
    "colab": {
      "provenance": [],
      "authorship_tag": "ABX9TyNy5Hzmpi1rEQoPOlk3Y93i",
      "include_colab_link": true
    },
    "kernelspec": {
      "name": "python3",
      "display_name": "Python 3"
    },
    "language_info": {
      "name": "python"
    }
  },
  "cells": [
    {
      "cell_type": "markdown",
      "metadata": {
        "id": "view-in-github",
        "colab_type": "text"
      },
      "source": [
        "<a href=\"https://colab.research.google.com/github/financieras/curso_python/blob/main/retos/reto024.ipynb\" target=\"_parent\"><img src=\"https://colab.research.google.com/assets/colab-badge.svg\" alt=\"Open In Colab\"/></a>"
      ]
    },
    {
      "cell_type": "markdown",
      "source": [
        "## Reto 24: Retornar el último elemento de una lista\n",
        "* Cree una función que reciba una lista y devuelva el último elemento de la lista.\n",
        "* La lista puede contener diferentes tipos de datos.\n",
        "* Si la lista está vacía devolverá `None`\n",
        "* Ejemplos:\n",
        "    1. ultimo([1, 2, 3]) ➞ 3\n",
        "    2. ultimo([\"cat\", \"dog\", \"duck\"]) ➞ \"duck\"\n",
        "    3. ultimo([True, False, True]) ➞ True\n",
        "    4. ultimo([7, \"String\", False, [1, 2, 3]]) ➞ [1, 2, 3]\n",
        "    5. ultimo([]) ➞ None"
      ],
      "metadata": {
        "id": "uoA-bb5ErWmh"
      }
    },
    {
      "cell_type": "code",
      "source": [
        "def ultimo(lst):\n",
        "    pass"
      ],
      "metadata": {
        "id": "8giKtUwS7Ze-"
      },
      "execution_count": null,
      "outputs": []
    },
    {
      "cell_type": "code",
      "source": [
        "print(ultimo([1, 2, 3]))\n",
        "print(ultimo([\"cat\", \"dog\", \"duck\"]))\n",
        "print(ultimo([True, False, True]))\n",
        "print(ultimo([7, \"String\", False, [1, 2, 3]]))\n",
        "print(ultimo([]))"
      ],
      "metadata": {
        "id": "NY-JOjw47lmc"
      },
      "execution_count": null,
      "outputs": []
    }
  ]
}