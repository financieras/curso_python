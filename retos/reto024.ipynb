{
  "nbformat": 4,
  "nbformat_minor": 0,
  "metadata": {
    "colab": {
      "provenance": [],
      "authorship_tag": "ABX9TyPRfUGwPt/abgbTSZ8woutT",
      "include_colab_link": true
    },
    "kernelspec": {
      "name": "python3",
      "display_name": "Python 3"
    },
    "language_info": {
      "name": "python"
    }
  },
  "cells": [
    {
      "cell_type": "markdown",
      "metadata": {
        "id": "view-in-github",
        "colab_type": "text"
      },
      "source": [
        "<a href=\"https://colab.research.google.com/github/financieras/curso_python/blob/main/retos/reto024.ipynb\" target=\"_parent\"><img src=\"https://colab.research.google.com/assets/colab-badge.svg\" alt=\"Open In Colab\"/></a>"
      ]
    },
    {
      "cell_type": "markdown",
      "source": [
        "## Reto 24: Retornar el último elemento de una lista\n",
        "* Cree una función que reciba una lista y devuelva el último elemento de la lista.\n",
        "* La lista puede contener diferentes tipos de datos.\n",
        "* Ejemplos:\n",
        "    1. get_last_item([1, 2, 3]) ➞ 3\n",
        "    2. get_last_item([\"cat\", \"dog\", \"duck\"]) ➞ \"duck\"\n",
        "    3. get_last_item([True, False, True]) ➞ True\n",
        "    4. get_last_item([7, \"String\", False, [1, 2, 3]]) ➞ [1, 2, 3]"
      ],
      "metadata": {
        "id": "uoA-bb5ErWmh"
      }
    },
    {
      "cell_type": "code",
      "source": [
        "def get_last_item(lst):\n",
        "    pass"
      ],
      "metadata": {
        "id": "8giKtUwS7Ze-"
      },
      "execution_count": null,
      "outputs": []
    },
    {
      "cell_type": "code",
      "source": [
        "print(get_last_item([1, 2, 3]))\n",
        "print(get_last_item([\"cat\", \"dog\", \"duck\"]))\n",
        "print(get_last_item([True, False, True]))\n",
        "print(get_last_item([7, \"String\", False, [1, 2, 3]]))"
      ],
      "metadata": {
        "id": "NY-JOjw47lmc"
      },
      "execution_count": null,
      "outputs": []
    }
  ]
}