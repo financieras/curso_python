{
  "nbformat": 4,
  "nbformat_minor": 0,
  "metadata": {
    "colab": {
      "provenance": [],
      "authorship_tag": "ABX9TyMzWRiZWTRj2vmrqV5OY/RA",
      "include_colab_link": true
    },
    "kernelspec": {
      "name": "python3",
      "display_name": "Python 3"
    },
    "language_info": {
      "name": "python"
    }
  },
  "cells": [
    {
      "cell_type": "markdown",
      "metadata": {
        "id": "view-in-github",
        "colab_type": "text"
      },
      "source": [
        "<a href=\"https://colab.research.google.com/github/financieras/curso_python/blob/main/retos/reto038.ipynb\" target=\"_parent\"><img src=\"https://colab.research.google.com/assets/colab-badge.svg\" alt=\"Open In Colab\"/></a>"
      ]
    },
    {
      "cell_type": "markdown",
      "source": [
        "## Reto 38: Divisible por cinco\n",
        "* Cree una función que devuelva `True` si un número entero es divisible por 5 y `False` en caso contrario.\n",
        "* Ejemplos:\n",
        "    1. divisible_por_cinco(5) ➞ True\n",
        "    2. divisible_por_cinco(-55) ➞ True\n",
        "    3. divisible_por_cinco(37) ➞ False\n",
        "    4. divisible_por_cinco(11) ➞ False"
      ],
      "metadata": {
        "id": "_3AbqOSluZXt"
      }
    },
    {
      "cell_type": "code",
      "source": [
        "def divisible_por_cinco(n):\n",
        "    pass"
      ],
      "metadata": {
        "id": "7ZHb9EkH9P3p"
      },
      "execution_count": null,
      "outputs": []
    },
    {
      "cell_type": "code",
      "source": [
        "print(divisible_por_cinco(5))\n",
        "print(divisible_por_cinco(-55))\n",
        "print(divisible_por_cinco(37))\n",
        "print(divisible_por_cinco(11))"
      ],
      "metadata": {
        "id": "oyqspQkR90B-"
      },
      "execution_count": null,
      "outputs": []
    }
  ]
}