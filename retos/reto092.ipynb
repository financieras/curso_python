{
  "nbformat": 4,
  "nbformat_minor": 0,
  "metadata": {
    "colab": {
      "provenance": [],
      "authorship_tag": "ABX9TyPziR4SBMYDId/zuEghtP17",
      "include_colab_link": true
    },
    "kernelspec": {
      "name": "python3",
      "display_name": "Python 3"
    },
    "language_info": {
      "name": "python"
    }
  },
  "cells": [
    {
      "cell_type": "markdown",
      "metadata": {
        "id": "view-in-github",
        "colab_type": "text"
      },
      "source": [
        "<a href=\"https://colab.research.google.com/github/financieras/curso_python/blob/main/retos/reto092.ipynb\" target=\"_parent\"><img src=\"https://colab.research.google.com/assets/colab-badge.svg\" alt=\"Open In Colab\"/></a>"
      ]
    },
    {
      "cell_type": "markdown",
      "source": [
        "## Reto 92: Cambiar\n",
        "* Cree una función que cambie el valor de entrada, devolviendo 0 si se ingresa 1 y retornando 1 si se ingresa 0.\n",
        "* Ejemplos:\n",
        "    1. flip(1) ➞ 0\n",
        "    2. flip(0) ➞ 1\n"
      ],
      "metadata": {
        "id": "tJW4YblDdFEz"
      }
    },
    {
      "cell_type": "code",
      "execution_count": null,
      "metadata": {
        "id": "kEtqsKCic49m"
      },
      "outputs": [],
      "source": [
        "def flip(numero):\n",
        "    pass"
      ]
    },
    {
      "cell_type": "code",
      "source": [
        "print(flip(1))\n",
        "print(flip(0))"
      ],
      "metadata": {
        "id": "VjJfimyLdOm_"
      },
      "execution_count": null,
      "outputs": []
    }
  ]
}