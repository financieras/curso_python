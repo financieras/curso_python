{
  "nbformat": 4,
  "nbformat_minor": 0,
  "metadata": {
    "colab": {
      "provenance": [],
      "authorship_tag": "ABX9TyMfy7VKJNbzWtPN7loQh5uT",
      "include_colab_link": true
    },
    "kernelspec": {
      "name": "python3",
      "display_name": "Python 3"
    },
    "language_info": {
      "name": "python"
    }
  },
  "cells": [
    {
      "cell_type": "markdown",
      "metadata": {
        "id": "view-in-github",
        "colab_type": "text"
      },
      "source": [
        "<a href=\"https://colab.research.google.com/github/financieras/curso_python/blob/main/retos/reto092.ipynb\" target=\"_parent\"><img src=\"https://colab.research.google.com/assets/colab-badge.svg\" alt=\"Open In Colab\"/></a>"
      ]
    },
    {
      "cell_type": "markdown",
      "source": [
        "## Reto 92: Cambiar\n",
        "* Escriba una función que devuelva 0 si la entrada es 1 y devuelva 1 si la entrada es 0.\n",
        "* Ejemplos:\n",
        "    1. flip(1) ➞ 0\n",
        "    2. flip(0) ➞ 1\n"
      ],
      "metadata": {
        "id": "_BVuN2sEntU_"
      }
    },
    {
      "cell_type": "code",
      "source": [
        "def flip(n):\n",
        "    pass"
      ],
      "metadata": {
        "id": "Xi2xGeAA2wvS"
      },
      "execution_count": null,
      "outputs": []
    },
    {
      "cell_type": "code",
      "source": [
        "print(flip(1))\n",
        "print(flip(0))"
      ],
      "metadata": {
        "id": "duSIwwzH2wvS"
      },
      "execution_count": null,
      "outputs": []
    }
  ]
}