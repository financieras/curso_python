{
  "nbformat": 4,
  "nbformat_minor": 0,
  "metadata": {
    "colab": {
      "provenance": [],
      "authorship_tag": "ABX9TyNabrtTHzo2XFtsPo+QeZLr",
      "include_colab_link": true
    },
    "kernelspec": {
      "name": "python3",
      "display_name": "Python 3"
    },
    "language_info": {
      "name": "python"
    }
  },
  "cells": [
    {
      "cell_type": "markdown",
      "metadata": {
        "id": "view-in-github",
        "colab_type": "text"
      },
      "source": [
        "<a href=\"https://colab.research.google.com/github/financieras/curso_python/blob/main/retos/reto165.ipynb\" target=\"_parent\"><img src=\"https://colab.research.google.com/assets/colab-badge.svg\" alt=\"Open In Colab\"/></a>"
      ]
    },
    {
      "cell_type": "markdown",
      "source": [
        "## Reto 165: Los mayores números de una lista\n",
        "* Cree una función que tiene dos parámetros: un número entero y una lista:\n",
        "    - `largest_numbers(n, lst)`\n",
        "* La función retorna los `n` números más grandes de la lista dada.\n",
        "* Ejemplos:\n",
        "    1. largest_numbers(2, [4, 3, 2, 1]) ➞ [3, 4]\n",
        "    2. largest_numbers(1, [7, 19, 4, 2]) ➞ [19]\n",
        "    3. largest_numbers(3, [14, 12, 57, 11, 18, 16]) ➞ [16, 18, 57]\n",
        "    4. largest_numbers(0, [1, 3, 4, 2]) ➞ []"
      ],
      "metadata": {
        "id": "iPNIxTbflQjI"
      }
    },
    {
      "cell_type": "code",
      "source": [
        "def largest_numbers(n, lst):\n",
        "    pass"
      ],
      "metadata": {
        "id": "5MWYz1zS2EnU"
      },
      "execution_count": null,
      "outputs": []
    },
    {
      "cell_type": "code",
      "source": [
        "print(largest_numbers(2, [4, 3, 2, 1]))\n",
        "print(largest_numbers(1, [7, 19, 4, 2]))\n",
        "print(largest_numbers(3, [14, 12, 57, 11, 18, 16]))\n",
        "print(largest_numbers(0, [1, 3, 4, 2]))"
      ],
      "metadata": {
        "id": "zYRr_Rln2EnV"
      },
      "execution_count": null,
      "outputs": []
    }
  ]
}