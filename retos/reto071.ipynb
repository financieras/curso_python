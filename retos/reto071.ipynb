{
  "nbformat": 4,
  "nbformat_minor": 0,
  "metadata": {
    "colab": {
      "provenance": [],
      "authorship_tag": "ABX9TyPjKvNrc55AZmeMc6Czvj1R",
      "include_colab_link": true
    },
    "kernelspec": {
      "name": "python3",
      "display_name": "Python 3"
    },
    "language_info": {
      "name": "python"
    }
  },
  "cells": [
    {
      "cell_type": "markdown",
      "metadata": {
        "id": "view-in-github",
        "colab_type": "text"
      },
      "source": [
        "<a href=\"https://colab.research.google.com/github/financieras/curso_python/blob/main/retos/reto071.ipynb\" target=\"_parent\"><img src=\"https://colab.research.google.com/assets/colab-badge.svg\" alt=\"Open In Colab\"/></a>"
      ]
    },
    {
      "cell_type": "markdown",
      "source": [
        "## Reto 71: El complementario de un booleano\n",
        "* En programación, ciertos valores pueden ser evaluados como booleanos, donde algunos valores son equivalentes a Verdadero (`True`) y otros a Falso (`False`).\n",
        "* Por ejemplo, en muchos lenguajes de programación, 1 (o cualquier valor diferente de 0) se considera `True`, mientras que el valor 0 se considera `False`.\n",
        "* Cree una función que devuelva el complemento del booleano dado.\n",
        "* El complemento de un booleano se refiere a la inversión del valor booleano.\n",
        "* Independientemente del tipo de dato de entrada (booleano o entero), la función debe devolver 1 si el valor dado es considerado `False` y 0 si es considerado `True`.\n",
        "* Ejemplos:\n",
        "    1. flip_bool(True) ➞ 0\n",
        "    2. flip_bool(False) ➞ 1\n",
        "    3. flip_bool(1) ➞ 0\n",
        "    4. flip_bool(0) ➞ 1\n",
        "    5. flip_bool(7) ➞ 0"
      ],
      "metadata": {
        "id": "AbBpdN1gz6n1"
      }
    },
    {
      "cell_type": "code",
      "source": [
        "def flip_bool(valor):\n",
        "    pass"
      ],
      "metadata": {
        "id": "3Ns5b2dH2_xH"
      },
      "execution_count": null,
      "outputs": []
    },
    {
      "cell_type": "code",
      "source": [
        "print(flip_bool(True))\n",
        "print(flip_bool(False))\n",
        "print(flip_bool(1))\n",
        "print(flip_bool(0))\n",
        "print(flip_bool(7))"
      ],
      "metadata": {
        "id": "AQo234p22_xH"
      },
      "execution_count": null,
      "outputs": []
    }
  ]
}