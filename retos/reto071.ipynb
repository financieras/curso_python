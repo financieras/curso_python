{
  "nbformat": 4,
  "nbformat_minor": 0,
  "metadata": {
    "colab": {
      "provenance": [],
      "authorship_tag": "ABX9TyP4WC59Yl0zVZeAjwLZ1kqP",
      "include_colab_link": true
    },
    "kernelspec": {
      "name": "python3",
      "display_name": "Python 3"
    },
    "language_info": {
      "name": "python"
    }
  },
  "cells": [
    {
      "cell_type": "markdown",
      "metadata": {
        "id": "view-in-github",
        "colab_type": "text"
      },
      "source": [
        "<a href=\"https://colab.research.google.com/github/financieras/curso_python/blob/main/retos/reto071.ipynb\" target=\"_parent\"><img src=\"https://colab.research.google.com/assets/colab-badge.svg\" alt=\"Open In Colab\"/></a>"
      ]
    },
    {
      "cell_type": "markdown",
      "source": [
        "## Reto 71: El complementario de un booleano\n",
        "* Debido a un concepto de programación conocido como veracidad, ciertos valores pueden evaluarse (es decir, tomar el lugar de) booleanos.\n",
        "* Por ejemplo, 1 (o cualquier número distinto de 0) suele ser equivalente a Verdadero y 0 suele ser equivalente a Falso.\n",
        "* En programación, el concepto de \"veracidad\" se refiere a la capacidad de ciertos valores de ser evaluados como booleanos (`True` o `False`).\n",
        "* En muchos lenguajes de programación, cualquier valor diferente de 0 se considera `True`, mientras que el valor 0 se considera `False`.\n",
        "* Cree una función que devuelva el complementario del booleano dado\n",
        "* Lo que retorne la función siempre ha de ser un número 0 o 1, según el caso.\n",
        "* Ejemplos:\n",
        "    1. flip_bool(True) ➞ 0\n",
        "    2. flip_bool(False) ➞ 1\n",
        "    3. flip_bool(1) ➞ 0\n",
        "    4. flip_bool(0) ➞ 1\n",
        "    5. flip_bool(7) ➞ 0"
      ],
      "metadata": {
        "id": "Wx_mr5JjWfIX"
      }
    },
    {
      "cell_type": "code",
      "source": [
        "def flip_bool(condicion):\n",
        "    pass"
      ],
      "metadata": {
        "id": "qiCmNvJD26U4"
      },
      "execution_count": null,
      "outputs": []
    },
    {
      "cell_type": "code",
      "source": [
        "print(flip_bool(True))\n",
        "print(flip_bool(False))\n",
        "print(flip_bool(1))\n",
        "print(flip_bool(0))\n",
        "print(flip_bool(7))"
      ],
      "metadata": {
        "id": "WJ72Yci-26U4"
      },
      "execution_count": null,
      "outputs": []
    }
  ]
}