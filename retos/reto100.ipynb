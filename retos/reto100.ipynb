{
  "nbformat": 4,
  "nbformat_minor": 0,
  "metadata": {
    "colab": {
      "provenance": [],
      "authorship_tag": "ABX9TyO5Ee71AU6rtIhr0hLHafvv",
      "include_colab_link": true
    },
    "kernelspec": {
      "name": "python3",
      "display_name": "Python 3"
    },
    "language_info": {
      "name": "python"
    }
  },
  "cells": [
    {
      "cell_type": "markdown",
      "metadata": {
        "id": "view-in-github",
        "colab_type": "text"
      },
      "source": [
        "<a href=\"https://colab.research.google.com/github/financieras/curso_python/blob/main/retos/reto100.ipynb\" target=\"_parent\"><img src=\"https://colab.research.google.com/assets/colab-badge.svg\" alt=\"Open In Colab\"/></a>"
      ]
    },
    {
      "cell_type": "markdown",
      "source": [
        "## Reto 100: Cantidad de patatas\n",
        "* Cree una función para devolver la cantidad de patatas que hay en una cadena.\n",
        "* Ejemplos:\n",
        "    1. cuenta_patatas(\"patata\") ➞ 1\n",
        "    2. cuenta_patatas(\"patatapatata\") ➞ 2\n",
        "    3. cuenta_patatas(\"patatamanzanapata\") ➞ 1\n",
        "    4. cuenta_patatas(\"patatatuti\"*7+\"patata\") ➞ 8"
      ],
      "metadata": {
        "id": "FHd6vvtLntcw"
      }
    },
    {
      "cell_type": "code",
      "source": [
        "def cuenta_patatas(cadena):\n",
        "    pass"
      ],
      "metadata": {
        "id": "N9K_UfSs2rjr"
      },
      "execution_count": null,
      "outputs": []
    },
    {
      "cell_type": "code",
      "source": [
        "print(cuenta_patatas(\"patata\"))\n",
        "print(cuenta_patatas(\"patatapatata\"))\n",
        "print(cuenta_patatas(\"patatamanzanapata\"))\n",
        "print(cuenta_patatas(\"patatatuti\"*7+\"patata\"))"
      ],
      "metadata": {
        "id": "hagmNzPd2rjs"
      },
      "execution_count": null,
      "outputs": []
    }
  ]
}