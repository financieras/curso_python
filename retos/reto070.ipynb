{
  "nbformat": 4,
  "nbformat_minor": 0,
  "metadata": {
    "colab": {
      "provenance": [],
      "authorship_tag": "ABX9TyPc5NNXXPYYKkG4BTvywnir",
      "include_colab_link": true
    },
    "kernelspec": {
      "name": "python3",
      "display_name": "Python 3"
    },
    "language_info": {
      "name": "python"
    }
  },
  "cells": [
    {
      "cell_type": "markdown",
      "metadata": {
        "id": "view-in-github",
        "colab_type": "text"
      },
      "source": [
        "<a href=\"https://colab.research.google.com/github/financieras/curso_python/blob/main/retos/reto070.ipynb\" target=\"_parent\"><img src=\"https://colab.research.google.com/assets/colab-badge.svg\" alt=\"Open In Colab\"/></a>"
      ]
    },
    {
      "cell_type": "markdown",
      "source": [
        "## Reto 70: Cambios de residencia\n",
        "* He comprobado que hay personas que se cambian de casa con más frecuencia que otras.\n",
        "* Me gustaría calcular cuánto tiempo, en promedio, una persona vive en la misma casa.\n",
        "* Dada la edad de una persona y el número de veces que se ha mudado de casa, devuelva el número promedio de años que ha pasado viviendo en la misma casa.\n",
        "* Ejemplos:\n",
        "    1. years_in_one_house(30, 1) ➞ 15\n",
        "    2. years_in_one_house(15, 2) ➞ 5\n",
        "    3. years_in_one_house(80, 0) ➞ 80\n"
      ],
      "metadata": {
        "id": "SXm49HoIWfE3"
      }
    },
    {
      "cell_type": "code",
      "source": [
        "def years_in_one_house(edad, mudanzas):\n",
        "    pass"
      ],
      "metadata": {
        "id": "t26q2fx0265I"
      },
      "execution_count": null,
      "outputs": []
    },
    {
      "cell_type": "code",
      "source": [
        "print(years_in_one_house(30, 1))\n",
        "print(years_in_one_house(15, 2))\n",
        "print(years_in_one_house(80, 0))"
      ],
      "metadata": {
        "id": "ujgZYzTp265J"
      },
      "execution_count": null,
      "outputs": []
    }
  ]
}