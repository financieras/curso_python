{
  "nbformat": 4,
  "nbformat_minor": 0,
  "metadata": {
    "colab": {
      "provenance": [],
      "authorship_tag": "ABX9TyPCLgRv++u+5PlWjJ9Nnq5n",
      "include_colab_link": true
    },
    "kernelspec": {
      "name": "python3",
      "display_name": "Python 3"
    },
    "language_info": {
      "name": "python"
    }
  },
  "cells": [
    {
      "cell_type": "markdown",
      "metadata": {
        "id": "view-in-github",
        "colab_type": "text"
      },
      "source": [
        "<a href=\"https://colab.research.google.com/github/financieras/curso_python/blob/main/retos/reto138.ipynb\" target=\"_parent\"><img src=\"https://colab.research.google.com/assets/colab-badge.svg\" alt=\"Open In Colab\"/></a>"
      ]
    },
    {
      "cell_type": "markdown",
      "source": [
        "## Reto 138: Cada persona con su ocupación\n",
        "* Tienes dos listas.\n",
        "    >- Una muestra los nombres de las personas: `names`\n",
        "    >- La otra muestra sus ocupación: `jobs`\n",
        "* Su tarea consiste en crear un diccionario que muestre a cada persona en su respectiva ocupación.\n",
        "* Las personas y ocupaciones siguen el mismo orden en sus listas.\n",
        "* Ejemplo:\n",
        "    - `names = [\"Leo\", \"Vega\", \"Jana\", \"Alex\", \"Eva\"]`\n",
        "    - `jobs = [\"Lawyer\", \"Teacher\", \"Doctor\", \"Programmer\", \"Chef\"]`\n",
        "\n",
        "    - `asignar(names, jobs) ➞ {'Leo': 'Lawyer', 'Vega': 'Teacher', 'Jana': 'Doctor', 'Alex': 'Programmer', 'Eva': 'Chef'}`"
      ],
      "metadata": {
        "id": "bhmE6XhYmVf8"
      }
    },
    {
      "cell_type": "code",
      "source": [
        "def asignar(lst1, lst2):\n",
        "    pass"
      ],
      "metadata": {
        "id": "uBUHlCaD2X5h"
      },
      "execution_count": null,
      "outputs": []
    },
    {
      "cell_type": "code",
      "source": [
        "names = [\"Leo\", \"Vega\", \"Jana\", \"Alex\", \"Eva\"]\n",
        "jobs = [\"Lawyer\", \"Teacher\", \"Doctor\", \"Programmer\", \"Chef\"]\n",
        "print(asignar(names, jobs))"
      ],
      "metadata": {
        "id": "-lxkas2l2X5h"
      },
      "execution_count": null,
      "outputs": []
    }
  ]
}