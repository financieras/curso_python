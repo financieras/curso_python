{
  "nbformat": 4,
  "nbformat_minor": 0,
  "metadata": {
    "colab": {
      "provenance": [],
      "authorship_tag": "ABX9TyMAMxodVBbatLh8TbUSldo6",
      "include_colab_link": true
    },
    "kernelspec": {
      "name": "python3",
      "display_name": "Python 3"
    },
    "language_info": {
      "name": "python"
    }
  },
  "cells": [
    {
      "cell_type": "markdown",
      "metadata": {
        "id": "view-in-github",
        "colab_type": "text"
      },
      "source": [
        "<a href=\"https://colab.research.google.com/github/financieras/curso_python/blob/main/040_tipos_de_datos.ipynb\" target=\"_parent\"><img src=\"https://colab.research.google.com/assets/colab-badge.svg\" alt=\"Open In Colab\"/></a>"
      ]
    },
    {
      "cell_type": "markdown",
      "source": [
        "# Tipo de datos"
      ],
      "metadata": {
        "id": "guG9rO0kKa6U"
      }
    },
    {
      "cell_type": "markdown",
      "source": [
        "## Tipos `int`, `float`, `string`"
      ],
      "metadata": {
        "id": "GO9j3lfivnU6"
      }
    },
    {
      "cell_type": "code",
      "execution_count": null,
      "metadata": {
        "colab": {
          "base_uri": "https://localhost:8080/"
        },
        "id": "ZQdYTWfMKV1r",
        "outputId": "20cab9e6-b64b-452b-aab6-3ce93de62a68"
      },
      "outputs": [
        {
          "output_type": "execute_result",
          "data": {
            "text/plain": [
              "True"
            ]
          },
          "metadata": {},
          "execution_count": 2
        }
      ],
      "source": [
        "a = 5       # int\n",
        "b = 5.7     # float\n",
        "c = \"Ana\"   # string"
      ]
    },
    {
      "cell_type": "markdown",
      "source": [
        "## Tipo `bool`\n",
        "1. Tipo de dato boolean:\n",
        "    * True\n",
        "    * False\n",
        "2. Primera letra mayúscula"
      ],
      "metadata": {
        "id": "k7UJ0n5KvvM1"
      }
    },
    {
      "cell_type": "code",
      "source": [
        "d = True    # bool\n",
        "print(d)\n",
        "type(d)"
      ],
      "metadata": {
        "id": "GpOXlFU3v0NT",
        "outputId": "5ad71f68-a6a9-4340-c459-b2053a757714",
        "colab": {
          "base_uri": "https://localhost:8080/"
        }
      },
      "execution_count": null,
      "outputs": [
        {
          "output_type": "stream",
          "name": "stdout",
          "text": [
            "True\n"
          ]
        },
        {
          "output_type": "execute_result",
          "data": {
            "text/plain": [
              "bool"
            ]
          },
          "metadata": {},
          "execution_count": 8
        }
      ]
    },
    {
      "cell_type": "markdown",
      "source": [
        "* El doble igual `==`se usa para comparar\n",
        "* Un único igual `=`se usa para asignar un valor a una variable"
      ],
      "metadata": {
        "id": "_KR19No_Lctp"
      }
    },
    {
      "cell_type": "code",
      "source": [
        "print(3 > 2)    # True\n",
        "print(5 == 6)   # False"
      ],
      "metadata": {
        "colab": {
          "base_uri": "https://localhost:8080/"
        },
        "id": "6oOaESgsK_06",
        "outputId": "62a17681-7df4-4b14-abce-a53880445f0f"
      },
      "execution_count": null,
      "outputs": [
        {
          "output_type": "stream",
          "name": "stdout",
          "text": [
            "True\n",
            "False\n"
          ]
        }
      ]
    },
    {
      "cell_type": "markdown",
      "source": [
        "### Variable booleana\n",
        "Puede ser True o False\n",
        "Se analiza una condición y el resultado se asigna a la variable"
      ],
      "metadata": {
        "id": "-t6MVmVDvclF"
      }
    },
    {
      "cell_type": "code",
      "source": [
        "edad = 18\n",
        "mayor_edad = (edad >= 18)       # mayor_edad es una variable de tipo booleana\n",
        "mayor_edad                      # True  Indica que si es mayor de edad"
      ],
      "metadata": {
        "id": "uQPxE6cKuzwf",
        "outputId": "d9d44c7d-a9c1-4cf8-a224-a1f3e6c89fbd",
        "colab": {
          "base_uri": "https://localhost:8080/"
        }
      },
      "execution_count": null,
      "outputs": [
        {
          "output_type": "execute_result",
          "data": {
            "text/plain": [
              "True"
            ]
          },
          "metadata": {},
          "execution_count": 1
        }
      ]
    },
    {
      "cell_type": "code",
      "source": [
        "'Ana' < 'Zacarías'  # False porque Ana alfabéticamente no va antes que Zacarías"
      ],
      "metadata": {
        "id": "6sJR2BUAxMWA",
        "outputId": "68868c8c-6af8-4885-cb13-decc58e3f3c9",
        "colab": {
          "base_uri": "https://localhost:8080/"
        }
      },
      "execution_count": null,
      "outputs": [
        {
          "output_type": "execute_result",
          "data": {
            "text/plain": [
              "False"
            ]
          },
          "metadata": {},
          "execution_count": 14
        }
      ]
    },
    {
      "cell_type": "markdown",
      "source": [
        "### Operador lógico `not`"
      ],
      "metadata": {
        "id": "Dhc6S6q6ETWC"
      }
    },
    {
      "cell_type": "code",
      "source": [
        "not(True)"
      ],
      "metadata": {
        "colab": {
          "base_uri": "https://localhost:8080/"
        },
        "id": "CpuVfmHjEl1g",
        "outputId": "6b55381e-88fe-49d8-a7f1-705ae9af6867"
      },
      "execution_count": null,
      "outputs": [
        {
          "output_type": "execute_result",
          "data": {
            "text/plain": [
              "False"
            ]
          },
          "metadata": {},
          "execution_count": 2
        }
      ]
    },
    {
      "cell_type": "code",
      "source": [
        "not(False)"
      ],
      "metadata": {
        "colab": {
          "base_uri": "https://localhost:8080/"
        },
        "id": "oc7MKM7TEpJG",
        "outputId": "ca04c727-691f-4868-ce92-4d8b199e921f"
      },
      "execution_count": null,
      "outputs": [
        {
          "output_type": "execute_result",
          "data": {
            "text/plain": [
              "True"
            ]
          },
          "metadata": {},
          "execution_count": 3
        }
      ]
    },
    {
      "cell_type": "code",
      "source": [
        "admitido = False\n",
        "admitido = not(admitido)\n",
        "admitido"
      ],
      "metadata": {
        "colab": {
          "base_uri": "https://localhost:8080/"
        },
        "id": "10_MO6eDEX6h",
        "outputId": "7f2099ce-df9e-453c-e537-d072d0dadb2c"
      },
      "execution_count": null,
      "outputs": [
        {
          "output_type": "execute_result",
          "data": {
            "text/plain": [
              "True"
            ]
          },
          "metadata": {},
          "execution_count": 1
        }
      ]
    },
    {
      "cell_type": "markdown",
      "source": [
        "## Castear usando booleanos\n",
        "Conversión de tipos entre `int` y `bool` y viceversa"
      ],
      "metadata": {
        "id": "Zcy0JkOcE3k5"
      }
    },
    {
      "cell_type": "code",
      "source": [
        "bool(0)         # un cero equivale a un False"
      ],
      "metadata": {
        "colab": {
          "base_uri": "https://localhost:8080/"
        },
        "id": "jMObJkGzFDMx",
        "outputId": "c71b89b3-f0f8-4e1d-86e6-2fb45ee9016c"
      },
      "execution_count": null,
      "outputs": [
        {
          "output_type": "execute_result",
          "data": {
            "text/plain": [
              "False"
            ]
          },
          "metadata": {},
          "execution_count": 5
        }
      ]
    },
    {
      "cell_type": "code",
      "source": [
        "bool(1)         # un uno equivale a un True"
      ],
      "metadata": {
        "colab": {
          "base_uri": "https://localhost:8080/"
        },
        "id": "6iaAq7FRE_mj",
        "outputId": "8bdca09f-fd2f-4982-935d-cd5b71a385f1"
      },
      "execution_count": null,
      "outputs": [
        {
          "output_type": "execute_result",
          "data": {
            "text/plain": [
              "True"
            ]
          },
          "metadata": {},
          "execution_count": 4
        }
      ]
    },
    {
      "cell_type": "code",
      "source": [
        "bool(5)         # cualquier número distinto de cero equivale a un True"
      ],
      "metadata": {
        "colab": {
          "base_uri": "https://localhost:8080/"
        },
        "id": "vw7GPiyZFE8c",
        "outputId": "022862ce-6402-4423-e274-2a29a1cab2fd"
      },
      "execution_count": null,
      "outputs": [
        {
          "output_type": "execute_result",
          "data": {
            "text/plain": [
              "True"
            ]
          },
          "metadata": {},
          "execution_count": 6
        }
      ]
    },
    {
      "cell_type": "code",
      "source": [
        "int(True)       # un True equivale a un 1"
      ],
      "metadata": {
        "colab": {
          "base_uri": "https://localhost:8080/"
        },
        "id": "WPQogc4uFMmw",
        "outputId": "b214e57e-7e00-47d0-d4e7-8e3c5d6362c9"
      },
      "execution_count": null,
      "outputs": [
        {
          "output_type": "execute_result",
          "data": {
            "text/plain": [
              "1"
            ]
          },
          "metadata": {},
          "execution_count": 7
        }
      ]
    },
    {
      "cell_type": "code",
      "source": [
        "int(False)      # un False equivale a un 0"
      ],
      "metadata": {
        "colab": {
          "base_uri": "https://localhost:8080/"
        },
        "id": "1uY714HwFPPs",
        "outputId": "9e9cae68-2d20-466b-b61a-0f53c419e31d"
      },
      "execution_count": null,
      "outputs": [
        {
          "output_type": "execute_result",
          "data": {
            "text/plain": [
              "0"
            ]
          },
          "metadata": {},
          "execution_count": 8
        }
      ]
    },
    {
      "cell_type": "markdown",
      "source": [
        "## Tipo `list`"
      ],
      "metadata": {
        "id": "hu1FgBBLwEdi"
      }
    },
    {
      "cell_type": "code",
      "source": [
        "e = [1,2,3] # list\n",
        "print(e)\n",
        "type(e)"
      ],
      "metadata": {
        "id": "8BdquJ-WvbA2",
        "outputId": "1f5ca570-cdd2-4424-8d6b-fe15d1d2de4a",
        "colab": {
          "base_uri": "https://localhost:8080/"
        }
      },
      "execution_count": null,
      "outputs": [
        {
          "output_type": "stream",
          "name": "stdout",
          "text": [
            "[1, 2, 3]\n"
          ]
        },
        {
          "output_type": "execute_result",
          "data": {
            "text/plain": [
              "list"
            ]
          },
          "metadata": {},
          "execution_count": 7
        }
      ]
    },
    {
      "cell_type": "markdown",
      "source": [
        "### Tipo `None`"
      ],
      "metadata": {
        "id": "COdXfiFJwO4m"
      }
    },
    {
      "cell_type": "code",
      "source": [
        "f = None\n",
        "print(f)\n",
        "type(f)"
      ],
      "metadata": {
        "id": "RZZ8GBiGvd7u",
        "outputId": "8f0ce43c-28c1-4e8d-87eb-7c98a2598e82",
        "colab": {
          "base_uri": "https://localhost:8080/"
        }
      },
      "execution_count": null,
      "outputs": [
        {
          "output_type": "stream",
          "name": "stdout",
          "text": [
            "None\n"
          ]
        },
        {
          "output_type": "execute_result",
          "data": {
            "text/plain": [
              "NoneType"
            ]
          },
          "metadata": {},
          "execution_count": 9
        }
      ]
    },
    {
      "cell_type": "markdown",
      "source": [
        "## Concatenar strings"
      ],
      "metadata": {
        "id": "Hm23MW2zL3PT"
      }
    },
    {
      "cell_type": "code",
      "source": [
        "nombre = \"Ana\"\n",
        "ciudad = \"Madrid\"\n",
        "print(nombre + \" vive en \" + ciudad)"
      ],
      "metadata": {
        "colab": {
          "base_uri": "https://localhost:8080/"
        },
        "id": "b4W-nDkiL8Za",
        "outputId": "07853032-4bdf-4fe7-feb0-bb3c6f9096a3"
      },
      "execution_count": null,
      "outputs": [
        {
          "output_type": "stream",
          "name": "stdout",
          "text": [
            "Ana vive en Madrid\n"
          ]
        }
      ]
    },
    {
      "cell_type": "markdown",
      "source": [
        "## Conversión de tipos\n",
        "Python Casting"
      ],
      "metadata": {
        "id": "Y85u8Z8wMQP0"
      }
    },
    {
      "cell_type": "code",
      "source": [
        "x = int(5)          # 5\n",
        "y = int(5.9)        # 5  Casteamos un float a int\n",
        "z = int(\"5\")        # 5  Casteramos un string a int\n",
        "\n",
        "print(x, y, z)"
      ],
      "metadata": {
        "colab": {
          "base_uri": "https://localhost:8080/"
        },
        "id": "nVgAnnoS4Lrp",
        "outputId": "a5d784dd-5d83-4f4f-ea62-c14d333cf59d"
      },
      "execution_count": null,
      "outputs": [
        {
          "output_type": "stream",
          "name": "stdout",
          "text": [
            "5 5 5\n"
          ]
        }
      ]
    },
    {
      "cell_type": "code",
      "source": [
        "a = float(7)        # 7.0  Casteamos un int a float\n",
        "b = float(7.9)      # 7.9\n",
        "c = float(\"7\")      # 7.0  Casteamos un string a float\n",
        "d = float(\"7.1\")    # 7.1  Casteamos un string a float\n",
        "\n",
        "print(a, b, c, d)"
      ],
      "metadata": {
        "colab": {
          "base_uri": "https://localhost:8080/"
        },
        "id": "R4w83C6z4Qew",
        "outputId": "9eab6815-9020-4afc-c182-1cf2868cd1ea"
      },
      "execution_count": null,
      "outputs": [
        {
          "output_type": "stream",
          "name": "stdout",
          "text": [
            "7.0 7.9 7.0 7.1\n"
          ]
        }
      ]
    },
    {
      "cell_type": "code",
      "source": [
        "p = str(\"v2\")       # 'v2'\n",
        "q = str(2)          # '2'    Casteamos un int a string\n",
        "r = str(2.0)        # '2.0'  Casteamos un float a string\n",
        "\n",
        "print(p, q, r)"
      ],
      "metadata": {
        "colab": {
          "base_uri": "https://localhost:8080/"
        },
        "id": "aC7OPr0Q4UB_",
        "outputId": "119c151f-fd78-41e4-bd53-3e307599219f"
      },
      "execution_count": null,
      "outputs": [
        {
          "output_type": "stream",
          "name": "stdout",
          "text": [
            "v2 2 2.0\n"
          ]
        }
      ]
    },
    {
      "cell_type": "markdown",
      "source": [
        "### Error al concatenar con un número"
      ],
      "metadata": {
        "id": "dPD9FFMTSUP8"
      }
    },
    {
      "cell_type": "code",
      "source": [
        "#\"Vuelo \" + 505               # TypeError: can only concatenate str (not \"int\") to str"
      ],
      "metadata": {
        "id": "xUxfcx0wSYlh"
      },
      "execution_count": null,
      "outputs": []
    },
    {
      "cell_type": "code",
      "source": [
        "\"Vuelo \" + str(505)           # la función str() convierte un número en cadena"
      ],
      "metadata": {
        "id": "gxRgjF_uSbJ2",
        "outputId": "72012309-9674-456d-b487-082e595979f6",
        "colab": {
          "base_uri": "https://localhost:8080/",
          "height": 35
        }
      },
      "execution_count": null,
      "outputs": [
        {
          "output_type": "execute_result",
          "data": {
            "text/plain": [
              "'Vuelo 505'"
            ],
            "application/vnd.google.colaboratory.intrinsic+json": {
              "type": "string"
            }
          },
          "metadata": {},
          "execution_count": 1
        }
      ]
    },
    {
      "cell_type": "markdown",
      "source": [
        "## Imprimir con formato"
      ],
      "metadata": {
        "id": "Y11ExLWtOFfg"
      }
    },
    {
      "cell_type": "markdown",
      "source": [
        "### Imprimir concatenando\n",
        "Las varíables numéricas, `int` o `float`, se han de convertir a string usando `str`."
      ],
      "metadata": {
        "id": "5SnC4IP0OIX-"
      }
    },
    {
      "cell_type": "code",
      "source": [
        "nombre = \"Ana\"\n",
        "edad = 13\n",
        "\n",
        "print(\"Me llamo \" + nombre + \" y tengo \" + str(edad) + \" años\")"
      ],
      "metadata": {
        "colab": {
          "base_uri": "https://localhost:8080/"
        },
        "id": "cPuav_I1ORTd",
        "outputId": "d6145e95-492e-4c19-d12c-ef44c521c71a"
      },
      "execution_count": null,
      "outputs": [
        {
          "output_type": "stream",
          "name": "stdout",
          "text": [
            "Me llamo Ana y tengo 13 años\n"
          ]
        }
      ]
    },
    {
      "cell_type": "markdown",
      "source": [
        "## Imprimir con el formato `f`"
      ],
      "metadata": {
        "id": "ALlOJRY-N69i"
      }
    },
    {
      "cell_type": "code",
      "source": [
        "print(f\"Me llamo {nombre} y tengo {edad} años\")"
      ],
      "metadata": {
        "colab": {
          "base_uri": "https://localhost:8080/"
        },
        "id": "cBrCzorWOCHs",
        "outputId": "82d9ecfc-8a1e-434b-964a-3b5665b150c5"
      },
      "execution_count": null,
      "outputs": [
        {
          "output_type": "stream",
          "name": "stdout",
          "text": [
            "Me llamo Ana y tengo 13 años\n"
          ]
        }
      ]
    },
    {
      "cell_type": "markdown",
      "source": [
        "### Formas de imprimir\n",
        "¿Cuál de estas tres formas de imprimir te gusta más?"
      ],
      "metadata": {
        "id": "nT7Mwz9uG9op"
      }
    },
    {
      "cell_type": "code",
      "source": [
        "nombre = 'Ana'\n",
        "edad = 13\n",
        "\n",
        "print(\"Me llamo\", nombre, \"y tengo\", edad, \"años\")\n",
        "print(\"Me llamo \" + nombre + \" y tengo \" + str(edad) + \" años\")\n",
        "print(f\"Me llamo {nombre} y tengo {edad} años\")"
      ],
      "metadata": {
        "colab": {
          "base_uri": "https://localhost:8080/"
        },
        "id": "eMw8BdRzHO8t",
        "outputId": "c0e0befe-749f-4d4d-95fb-ce1acbb8d063"
      },
      "execution_count": null,
      "outputs": [
        {
          "output_type": "stream",
          "name": "stdout",
          "text": [
            "Me llamo Ana y tengo 13 años\n",
            "Me llamo Ana y tengo 13 años\n",
            "Me llamo Ana y tengo 13 años\n"
          ]
        }
      ]
    },
    {
      "cell_type": "markdown",
      "source": [
        "## Números y literales\n",
        "¿ `5 == '5'` ?\n"
      ],
      "metadata": {
        "id": "50QFJvbj4VNt"
      }
    },
    {
      "cell_type": "code",
      "source": [
        "x = 5       # un solo igual se usa para asignar un valor a una variable\n",
        "y = '5'\n",
        "x == y      # un doble igual es un operador de comparación"
      ],
      "metadata": {
        "colab": {
          "base_uri": "https://localhost:8080/"
        },
        "id": "h8d51zHcMh5c",
        "outputId": "42833272-a58f-4a3e-edba-4fb624b420c0"
      },
      "execution_count": 1,
      "outputs": [
        {
          "output_type": "execute_result",
          "data": {
            "text/plain": [
              "False"
            ]
          },
          "metadata": {},
          "execution_count": 1
        }
      ]
    },
    {
      "cell_type": "code",
      "source": [
        "str(x) == y       # str convierte un número en un string"
      ],
      "metadata": {
        "colab": {
          "base_uri": "https://localhost:8080/"
        },
        "id": "Dt7QdXlnMrHU",
        "outputId": "b08a53c8-aa50-4c9e-a930-71f6bccbd500"
      },
      "execution_count": 2,
      "outputs": [
        {
          "output_type": "execute_result",
          "data": {
            "text/plain": [
              "True"
            ]
          },
          "metadata": {},
          "execution_count": 2
        }
      ]
    },
    {
      "cell_type": "code",
      "source": [
        "x == int(y)         # convierte un string en un int"
      ],
      "metadata": {
        "colab": {
          "base_uri": "https://localhost:8080/"
        },
        "id": "GTwYF4UuM4Xp",
        "outputId": "400d9827-7fe7-4be4-d7c7-a933ef7d37af"
      },
      "execution_count": null,
      "outputs": [
        {
          "output_type": "execute_result",
          "data": {
            "text/plain": [
              "True"
            ]
          },
          "metadata": {},
          "execution_count": 9
        }
      ]
    },
    {
      "cell_type": "code",
      "source": [
        "print(float(x))     # float convierte un número en un número de coma flotante\n",
        "print(float(y))"
      ],
      "metadata": {
        "colab": {
          "base_uri": "https://localhost:8080/"
        },
        "id": "IH6l1CgpNLpF",
        "outputId": "581c633e-d6b3-40d6-870f-2fa30c1175e5"
      },
      "execution_count": null,
      "outputs": [
        {
          "output_type": "stream",
          "name": "stdout",
          "text": [
            "5.0\n",
            "5.0\n"
          ]
        }
      ]
    },
    {
      "cell_type": "code",
      "source": [
        "bool(1)             # convierte en un bool\n",
        "# 1 es True, 0 es False y cualquier otro número también da False"
      ],
      "metadata": {
        "colab": {
          "base_uri": "https://localhost:8080/"
        },
        "id": "_hKMvcNENkds",
        "outputId": "fce58256-25f6-47de-c1e5-7ef87b2f88f8"
      },
      "execution_count": null,
      "outputs": [
        {
          "output_type": "execute_result",
          "data": {
            "text/plain": [
              "True"
            ]
          },
          "metadata": {},
          "execution_count": 16
        }
      ]
    },
    {
      "cell_type": "code",
      "source": [
        "True == 1       # True"
      ],
      "metadata": {
        "id": "FiWe78OveCYK",
        "outputId": "6b975de1-cda5-4f8b-981e-66bf842a4709",
        "colab": {
          "base_uri": "https://localhost:8080/"
        }
      },
      "execution_count": 3,
      "outputs": [
        {
          "output_type": "execute_result",
          "data": {
            "text/plain": [
              "True"
            ]
          },
          "metadata": {},
          "execution_count": 3
        }
      ]
    },
    {
      "cell_type": "code",
      "source": [
        "False == 0      # True"
      ],
      "metadata": {
        "id": "14FOttSBeLES",
        "outputId": "b880475f-39dc-426e-b28d-73d2b7078fd4",
        "colab": {
          "base_uri": "https://localhost:8080/"
        }
      },
      "execution_count": 6,
      "outputs": [
        {
          "output_type": "execute_result",
          "data": {
            "text/plain": [
              "True"
            ]
          },
          "metadata": {},
          "execution_count": 6
        }
      ]
    }
  ]
}