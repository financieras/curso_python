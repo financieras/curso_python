{
  "nbformat": 4,
  "nbformat_minor": 0,
  "metadata": {
    "colab": {
      "provenance": [],
      "authorship_tag": "ABX9TyN/HDEpxJ8AXDXzCFJQZ4sE",
      "include_colab_link": true
    },
    "kernelspec": {
      "name": "python3",
      "display_name": "Python 3"
    },
    "language_info": {
      "name": "python"
    }
  },
  "cells": [
    {
      "cell_type": "markdown",
      "metadata": {
        "id": "view-in-github",
        "colab_type": "text"
      },
      "source": [
        "<a href=\"https://colab.research.google.com/github/financieras/curso_python/blob/main/015_tipo_de_datos.ipynb\" target=\"_parent\"><img src=\"https://colab.research.google.com/assets/colab-badge.svg\" alt=\"Open In Colab\"/></a>"
      ]
    },
    {
      "cell_type": "markdown",
      "source": [
        "# Tipo de datos"
      ],
      "metadata": {
        "id": "ElPwX54tg3IK"
      }
    },
    {
      "cell_type": "markdown",
      "source": [
        "## Tipo `int` Enteros\n",
        "* Los enteros son números sin decimales como 5, 0, -7\n",
        "* La abreviatura `int` viene de *integer*"
      ],
      "metadata": {
        "id": "Ep0efS94jOFj"
      }
    },
    {
      "cell_type": "code",
      "source": [
        "x = 5       # 5 es un número entero de tipo int (integer)"
      ],
      "metadata": {
        "id": "3twOlMLJg6F8"
      },
      "execution_count": null,
      "outputs": []
    },
    {
      "cell_type": "code",
      "source": [
        "print(x)    # print es una función que imprime mi variable x"
      ],
      "metadata": {
        "colab": {
          "base_uri": "https://localhost:8080/"
        },
        "id": "8eACAl6vhVIG",
        "outputId": "06ea85b0-071d-42c5-da44-952cff9e6668"
      },
      "execution_count": null,
      "outputs": [
        {
          "output_type": "stream",
          "name": "stdout",
          "text": [
            "5\n"
          ]
        }
      ]
    },
    {
      "cell_type": "code",
      "source": [
        "type(x)     # función que nos dice el tipo de dato"
      ],
      "metadata": {
        "colab": {
          "base_uri": "https://localhost:8080/"
        },
        "id": "Tsp53Tz_hPBH",
        "outputId": "163f80fe-e92a-4488-e2fd-bb89c6002922"
      },
      "execution_count": null,
      "outputs": [
        {
          "output_type": "execute_result",
          "data": {
            "text/plain": [
              "int"
            ]
          },
          "metadata": {},
          "execution_count": 3
        }
      ]
    },
    {
      "cell_type": "markdown",
      "source": [
        "## Tipo `float` Flotantes\n",
        "* Son números con decimales.\n",
        "* El tipo `float` hace referencia a que son [números de coma flotante](https://docs.python.org/es/3/tutorial/floatingpoint.html)"
      ],
      "metadata": {
        "id": "RacP3pWtjTrY"
      }
    },
    {
      "cell_type": "code",
      "source": [
        "temperatura = 21.8      # se usa el punto para separar los decimales\n",
        "\n",
        "# imprimiendo varios elementos separados por coma\n",
        "print(\"Estamos a\", temperatura, \"grados\")\n",
        "\n",
        "type(temperatura)       # número decimal de tipo float"
      ],
      "metadata": {
        "colab": {
          "base_uri": "https://localhost:8080/"
        },
        "id": "sDPcv914jbc3",
        "outputId": "bcc6ebd8-d513-4255-94f3-9b12b5e9cb69"
      },
      "execution_count": null,
      "outputs": [
        {
          "output_type": "stream",
          "name": "stdout",
          "text": [
            "Estamos a 21.8 grados\n"
          ]
        },
        {
          "output_type": "execute_result",
          "data": {
            "text/plain": [
              "float"
            ]
          },
          "metadata": {},
          "execution_count": 4
        }
      ]
    },
    {
      "cell_type": "markdown",
      "source": [
        "## Tipo `str` Cadenas\n",
        "* Las cadenas alfanuméricas van entre comillas simples o dobles.\n",
        "* El tipo `str` es la abreviatura de *string*"
      ],
      "metadata": {
        "id": "fVbSaLXfkDtq"
      }
    },
    {
      "cell_type": "code",
      "source": [
        "ciudad = \"Londres\"      # string\n",
        "print(\"Este verano quiero ir a\", ciudad)\n",
        "type(ciudad)"
      ],
      "metadata": {
        "colab": {
          "base_uri": "https://localhost:8080/"
        },
        "id": "TbQdOklOkR5A",
        "outputId": "573887c1-0d50-4a81-a5ed-87e1b970f8ac"
      },
      "execution_count": null,
      "outputs": [
        {
          "output_type": "stream",
          "name": "stdout",
          "text": [
            "Este verano quiero ir a Londres\n"
          ]
        },
        {
          "output_type": "execute_result",
          "data": {
            "text/plain": [
              "str"
            ]
          },
          "metadata": {},
          "execution_count": 5
        }
      ]
    },
    {
      "cell_type": "code",
      "source": [
        "print(\"5\")      # también es un string\n",
        "type(\"5\")"
      ],
      "metadata": {
        "id": "jiF0Yn8vD2ny",
        "outputId": "4c690e9d-a034-4ec1-d9af-f064668b90f8",
        "colab": {
          "base_uri": "https://localhost:8080/"
        }
      },
      "execution_count": null,
      "outputs": [
        {
          "output_type": "stream",
          "name": "stdout",
          "text": [
            "5\n"
          ]
        },
        {
          "output_type": "execute_result",
          "data": {
            "text/plain": [
              "str"
            ]
          },
          "metadata": {},
          "execution_count": 1
        }
      ]
    },
    {
      "cell_type": "markdown",
      "source": [
        "## Tipo `bool` Booleanos\n",
        "* Son de dos tipos `True` o `False`\n",
        "* Se escribe la primera letra con mayúsculas"
      ],
      "metadata": {
        "id": "3aFYLO7QkxfI"
      }
    },
    {
      "cell_type": "code",
      "source": [
        "led_on = True\n",
        "print(\"¿El LED está encendido?\", led_on)\n",
        "type(led_on)"
      ],
      "metadata": {
        "colab": {
          "base_uri": "https://localhost:8080/"
        },
        "id": "U-3VQzSAlEjS",
        "outputId": "a682f50f-dde9-4976-cf98-287aecb3f0b4"
      },
      "execution_count": null,
      "outputs": [
        {
          "output_type": "stream",
          "name": "stdout",
          "text": [
            "¿El LED está encendido? True\n"
          ]
        },
        {
          "output_type": "execute_result",
          "data": {
            "text/plain": [
              "bool"
            ]
          },
          "metadata": {},
          "execution_count": 6
        }
      ]
    },
    {
      "cell_type": "markdown",
      "source": [
        "* El doble igual `==`se usa para comparar\n",
        "* Un único igual `=`se usa para asignar un valor a una variable"
      ],
      "metadata": {
        "id": "1uAMAtbPoiY7"
      }
    },
    {
      "cell_type": "code",
      "source": [
        "5 == '5'    # el doble igual == es un operador de comparación"
      ],
      "metadata": {
        "id": "iKSRvhWgEIW5",
        "outputId": "730d7279-7f5e-4a08-c34d-ee527b8e4982",
        "colab": {
          "base_uri": "https://localhost:8080/"
        }
      },
      "execution_count": null,
      "outputs": [
        {
          "output_type": "execute_result",
          "data": {
            "text/plain": [
              "False"
            ]
          },
          "metadata": {},
          "execution_count": 2
        }
      ]
    },
    {
      "cell_type": "code",
      "source": [
        "print(3 > 2)    # True  operador de comparación mayor que\n",
        "print(5 == 6)   # False operador de comparación Igual\n",
        "print(5 != 6)   # True  operador de comparación Distinto"
      ],
      "metadata": {
        "id": "WFuCgdoMEZhf",
        "outputId": "bae31c4c-0f00-4f6e-a46f-1c543f19f10e",
        "colab": {
          "base_uri": "https://localhost:8080/"
        }
      },
      "execution_count": null,
      "outputs": [
        {
          "output_type": "stream",
          "name": "stdout",
          "text": [
            "True\n",
            "False\n",
            "True\n"
          ]
        }
      ]
    },
    {
      "cell_type": "markdown",
      "source": [
        "### Variable booleana\n",
        "Puede ser True o False\n",
        "Se analiza una condición y el resultado se asigna a la variable"
      ],
      "metadata": {
        "id": "-t6MVmVDvclF"
      }
    },
    {
      "cell_type": "code",
      "source": [
        "edad = 18\n",
        "mayor_edad = (edad >= 18)       # mayor_edad es una variable de tipo booleana\n",
        "mayor_edad                      # True  Indica que si es mayor de edad"
      ],
      "metadata": {
        "id": "uQPxE6cKuzwf",
        "outputId": "d9d44c7d-a9c1-4cf8-a224-a1f3e6c89fbd",
        "colab": {
          "base_uri": "https://localhost:8080/"
        }
      },
      "execution_count": null,
      "outputs": [
        {
          "output_type": "execute_result",
          "data": {
            "text/plain": [
              "True"
            ]
          },
          "metadata": {},
          "execution_count": 1
        }
      ]
    },
    {
      "cell_type": "code",
      "source": [
        "'Ana' < 'Zacarías'  # False porque Ana alfabéticamente no va antes que Zacarías"
      ],
      "metadata": {
        "id": "6sJR2BUAxMWA",
        "outputId": "68868c8c-6af8-4885-cb13-decc58e3f3c9",
        "colab": {
          "base_uri": "https://localhost:8080/"
        }
      },
      "execution_count": null,
      "outputs": [
        {
          "output_type": "execute_result",
          "data": {
            "text/plain": [
              "False"
            ]
          },
          "metadata": {},
          "execution_count": 14
        }
      ]
    },
    {
      "cell_type": "markdown",
      "source": [
        "### Operador lógico `not`\n",
        "* Invierte el booleando.\n",
        "* Lo verdadero se convierte en falso\n",
        "* Lo falso se conviente en verdadero"
      ],
      "metadata": {
        "id": "Dhc6S6q6ETWC"
      }
    },
    {
      "cell_type": "code",
      "source": [
        "not(True)"
      ],
      "metadata": {
        "colab": {
          "base_uri": "https://localhost:8080/"
        },
        "id": "CpuVfmHjEl1g",
        "outputId": "6b55381e-88fe-49d8-a7f1-705ae9af6867"
      },
      "execution_count": null,
      "outputs": [
        {
          "output_type": "execute_result",
          "data": {
            "text/plain": [
              "False"
            ]
          },
          "metadata": {},
          "execution_count": 2
        }
      ]
    },
    {
      "cell_type": "code",
      "source": [
        "not(False)"
      ],
      "metadata": {
        "colab": {
          "base_uri": "https://localhost:8080/"
        },
        "id": "oc7MKM7TEpJG",
        "outputId": "ca04c727-691f-4868-ce92-4d8b199e921f"
      },
      "execution_count": null,
      "outputs": [
        {
          "output_type": "execute_result",
          "data": {
            "text/plain": [
              "True"
            ]
          },
          "metadata": {},
          "execution_count": 3
        }
      ]
    },
    {
      "cell_type": "code",
      "source": [
        "admitido = False\n",
        "admitido = not(admitido)\n",
        "admitido"
      ],
      "metadata": {
        "colab": {
          "base_uri": "https://localhost:8080/"
        },
        "id": "10_MO6eDEX6h",
        "outputId": "7f2099ce-df9e-453c-e537-d072d0dadb2c"
      },
      "execution_count": null,
      "outputs": [
        {
          "output_type": "execute_result",
          "data": {
            "text/plain": [
              "True"
            ]
          },
          "metadata": {},
          "execution_count": 1
        }
      ]
    },
    {
      "cell_type": "markdown",
      "source": [
        "### Castear usando booleanos\n",
        "Conversión de tipos entre `int` y `bool` y viceversa"
      ],
      "metadata": {
        "id": "Zcy0JkOcE3k5"
      }
    },
    {
      "cell_type": "code",
      "source": [
        "bool(0)         # un cero equivale a un False"
      ],
      "metadata": {
        "colab": {
          "base_uri": "https://localhost:8080/"
        },
        "id": "jMObJkGzFDMx",
        "outputId": "c71b89b3-f0f8-4e1d-86e6-2fb45ee9016c"
      },
      "execution_count": null,
      "outputs": [
        {
          "output_type": "execute_result",
          "data": {
            "text/plain": [
              "False"
            ]
          },
          "metadata": {},
          "execution_count": 5
        }
      ]
    },
    {
      "cell_type": "code",
      "source": [
        "bool(1)         # un uno equivale a un True"
      ],
      "metadata": {
        "colab": {
          "base_uri": "https://localhost:8080/"
        },
        "id": "6iaAq7FRE_mj",
        "outputId": "8bdca09f-fd2f-4982-935d-cd5b71a385f1"
      },
      "execution_count": null,
      "outputs": [
        {
          "output_type": "execute_result",
          "data": {
            "text/plain": [
              "True"
            ]
          },
          "metadata": {},
          "execution_count": 4
        }
      ]
    },
    {
      "cell_type": "code",
      "source": [
        "bool(5)         # cualquier número distinto de cero equivale a un True"
      ],
      "metadata": {
        "colab": {
          "base_uri": "https://localhost:8080/"
        },
        "id": "vw7GPiyZFE8c",
        "outputId": "022862ce-6402-4423-e274-2a29a1cab2fd"
      },
      "execution_count": null,
      "outputs": [
        {
          "output_type": "execute_result",
          "data": {
            "text/plain": [
              "True"
            ]
          },
          "metadata": {},
          "execution_count": 6
        }
      ]
    },
    {
      "cell_type": "code",
      "source": [
        "int(True)       # un True equivale a un 1"
      ],
      "metadata": {
        "colab": {
          "base_uri": "https://localhost:8080/"
        },
        "id": "WPQogc4uFMmw",
        "outputId": "b214e57e-7e00-47d0-d4e7-8e3c5d6362c9"
      },
      "execution_count": null,
      "outputs": [
        {
          "output_type": "execute_result",
          "data": {
            "text/plain": [
              "1"
            ]
          },
          "metadata": {},
          "execution_count": 7
        }
      ]
    },
    {
      "cell_type": "code",
      "source": [
        "int(False)      # un False equivale a un 0"
      ],
      "metadata": {
        "colab": {
          "base_uri": "https://localhost:8080/"
        },
        "id": "1uY714HwFPPs",
        "outputId": "9e9cae68-2d20-466b-b61a-0f53c419e31d"
      },
      "execution_count": null,
      "outputs": [
        {
          "output_type": "execute_result",
          "data": {
            "text/plain": [
              "0"
            ]
          },
          "metadata": {},
          "execution_count": 8
        }
      ]
    },
    {
      "cell_type": "markdown",
      "source": [
        "## Tipo `list` Listas\n",
        "* Son una secuencia de datos separados por comas\n",
        "* Van entre corchetes `[ ]`\n",
        "* El orden importa"
      ],
      "metadata": {
        "id": "LOkkOjupmJzp"
      }
    },
    {
      "cell_type": "code",
      "source": [
        "my_list = [1, 2, 3]\n",
        "print(my_list)\n",
        "type(my_list)"
      ],
      "metadata": {
        "colab": {
          "base_uri": "https://localhost:8080/"
        },
        "id": "mesIMXgZma4M",
        "outputId": "e77572e8-91fa-4a8f-e7c6-e4d5e3e24610"
      },
      "execution_count": null,
      "outputs": [
        {
          "output_type": "stream",
          "name": "stdout",
          "text": [
            "[1, 2, 3]\n"
          ]
        },
        {
          "output_type": "execute_result",
          "data": {
            "text/plain": [
              "list"
            ]
          },
          "metadata": {},
          "execution_count": 7
        }
      ]
    },
    {
      "cell_type": "code",
      "source": [
        "print(type(my_list))    # función dentro de función"
      ],
      "metadata": {
        "colab": {
          "base_uri": "https://localhost:8080/"
        },
        "id": "hkMDfKiFyjue",
        "outputId": "d5f211fe-0024-4c30-a946-c196595de99e"
      },
      "execution_count": null,
      "outputs": [
        {
          "output_type": "stream",
          "name": "stdout",
          "text": [
            "<class 'list'>\n"
          ]
        }
      ]
    },
    {
      "cell_type": "markdown",
      "source": [
        "## Tipo `tuple` Tuplas\n",
        "* Los elementos van entre paréntesis `( )`\n",
        "* Son inmutables, se usan para datos que no cambian"
      ],
      "metadata": {
        "id": "td-wozqb6P1n"
      }
    },
    {
      "cell_type": "code",
      "source": [
        "vocales = ('a', 'e', 'i', 'o', 'u')\n",
        "print(vocales)\n",
        "print(type(vocales))"
      ],
      "metadata": {
        "colab": {
          "base_uri": "https://localhost:8080/"
        },
        "id": "LVBbnQAF6gp0",
        "outputId": "7599b110-39c0-4a7c-f97c-834846dcc9d9"
      },
      "execution_count": null,
      "outputs": [
        {
          "output_type": "stream",
          "name": "stdout",
          "text": [
            "('a', 'e', 'i', 'o', 'u')\n",
            "<class 'tuple'>\n"
          ]
        }
      ]
    },
    {
      "cell_type": "markdown",
      "source": [
        "## Tipo `dict` Diccionarios\n",
        "* Un diccionario permite agrupar datos en forma de parejas de:\n",
        "    - *clave: valor*\n",
        "    - *key: value*"
      ],
      "metadata": {
        "id": "2fZaUUBP93E5"
      }
    },
    {
      "cell_type": "code",
      "source": [
        "traductor = {'uno': 'one',\n",
        "             'dos': 'two',\n",
        "             'tres': 'three',\n",
        "             'cuatro': ', four',\n",
        "             'cinco': 'five'}\n",
        "\n",
        "traductor"
      ],
      "metadata": {
        "id": "XMV0B4wDqu9Y",
        "outputId": "61cde82f-eb25-48b9-f808-c8f26f7ecaf9",
        "colab": {
          "base_uri": "https://localhost:8080/"
        }
      },
      "execution_count": null,
      "outputs": [
        {
          "output_type": "execute_result",
          "data": {
            "text/plain": [
              "{'uno': 'one',\n",
              " 'dos': 'two',\n",
              " 'tres': 'three',\n",
              " 'cuatro': ', four',\n",
              " 'cinco': 'five'}"
            ]
          },
          "metadata": {},
          "execution_count": 10
        }
      ]
    },
    {
      "cell_type": "code",
      "source": [
        "print(traductor)    # parejas clave: valor separadas por comas y entre llaves {}"
      ],
      "metadata": {
        "id": "_koYT65_rn5e",
        "outputId": "9346e807-759a-495e-82dd-cbc79c7ab451",
        "colab": {
          "base_uri": "https://localhost:8080/"
        }
      },
      "execution_count": null,
      "outputs": [
        {
          "output_type": "stream",
          "name": "stdout",
          "text": [
            "{'uno': 'one', 'dos': 'two', 'tres': 'three', 'cuatro': ', four', 'cinco': 'five'}\n"
          ]
        }
      ]
    },
    {
      "cell_type": "code",
      "source": [
        "type(traductor)"
      ],
      "metadata": {
        "id": "G6XGXz8FrYsB",
        "outputId": "37e9146e-4110-4f21-c2e9-dec6f70afb21",
        "colab": {
          "base_uri": "https://localhost:8080/"
        }
      },
      "execution_count": null,
      "outputs": [
        {
          "output_type": "execute_result",
          "data": {
            "text/plain": [
              "dict"
            ]
          },
          "metadata": {},
          "execution_count": 12
        }
      ]
    },
    {
      "cell_type": "markdown",
      "source": [
        "### Ejemplo coordenadas"
      ],
      "metadata": {
        "id": "bxfms9I93kh8"
      }
    },
    {
      "cell_type": "code",
      "source": [
        "punto_mapa = {'latitud': 40.48824409244089,\n",
        "             'longitud': -3.8834986974532573}\n",
        "\n",
        "print(punto_mapa)"
      ],
      "metadata": {
        "id": "JYA7P9hJ3po6",
        "outputId": "f6d735eb-68e9-43c8-e1a1-b93d81f60355",
        "colab": {
          "base_uri": "https://localhost:8080/"
        }
      },
      "execution_count": null,
      "outputs": [
        {
          "output_type": "stream",
          "name": "stdout",
          "text": [
            "{'latitud': 40.48824409244089, 'longitud': -3.8834986974532573}\n"
          ]
        }
      ]
    },
    {
      "cell_type": "markdown",
      "source": [
        "## Tipo `set` Conjuntos\n",
        "* Van entre llaves `{ }`\n",
        "* El orden no importa\n",
        "* No puede haber repetidos"
      ],
      "metadata": {
        "id": "GEd6dEb77fGS"
      }
    },
    {
      "cell_type": "code",
      "source": [
        "sabores = {'vainilla', 'nata', 'chocolate'}\n",
        "sabores"
      ],
      "metadata": {
        "id": "zXYtYOgM7w5Z",
        "outputId": "a0e9a57d-fb78-44cc-b7a3-e46dd80b35cd",
        "colab": {
          "base_uri": "https://localhost:8080/"
        }
      },
      "execution_count": null,
      "outputs": [
        {
          "output_type": "execute_result",
          "data": {
            "text/plain": [
              "{'chocolate', 'nata', 'vainilla'}"
            ]
          },
          "metadata": {},
          "execution_count": 14
        }
      ]
    },
    {
      "cell_type": "code",
      "source": [
        "type(sabores)"
      ],
      "metadata": {
        "id": "LiuBPXiU7-a9",
        "outputId": "a24ecea9-643f-493e-fb6e-b9fc94d66a27",
        "colab": {
          "base_uri": "https://localhost:8080/"
        }
      },
      "execution_count": null,
      "outputs": [
        {
          "output_type": "execute_result",
          "data": {
            "text/plain": [
              "set"
            ]
          },
          "metadata": {},
          "execution_count": 15
        }
      ]
    },
    {
      "cell_type": "markdown",
      "source": [
        "## Tipo `None`\n",
        "Indica que no hay dato."
      ],
      "metadata": {
        "id": "3Q8x1ziU7EUA"
      }
    },
    {
      "cell_type": "code",
      "source": [
        "informacion = None\n",
        "print(informacion)\n",
        "type(informacion)"
      ],
      "metadata": {
        "id": "BuhZ0qY-7JQ5",
        "outputId": "43f40987-7052-40cb-d1ce-e2fb6c0600ad",
        "colab": {
          "base_uri": "https://localhost:8080/"
        }
      },
      "execution_count": null,
      "outputs": [
        {
          "output_type": "stream",
          "name": "stdout",
          "text": [
            "None\n"
          ]
        },
        {
          "output_type": "execute_result",
          "data": {
            "text/plain": [
              "NoneType"
            ]
          },
          "metadata": {},
          "execution_count": 16
        }
      ]
    },
    {
      "cell_type": "markdown",
      "source": [
        "## Concatenar strings"
      ],
      "metadata": {
        "id": "Hm23MW2zL3PT"
      }
    },
    {
      "cell_type": "code",
      "source": [
        "nombre = \"Ana\"\n",
        "ciudad = \"Madrid\"\n",
        "print(nombre + \" vive en \" + ciudad)"
      ],
      "metadata": {
        "colab": {
          "base_uri": "https://localhost:8080/"
        },
        "id": "b4W-nDkiL8Za",
        "outputId": "07853032-4bdf-4fe7-feb0-bb3c6f9096a3"
      },
      "execution_count": null,
      "outputs": [
        {
          "output_type": "stream",
          "name": "stdout",
          "text": [
            "Ana vive en Madrid\n"
          ]
        }
      ]
    },
    {
      "cell_type": "markdown",
      "source": [
        "## Conversión de tipos\n",
        "Python Casting"
      ],
      "metadata": {
        "id": "Y85u8Z8wMQP0"
      }
    },
    {
      "cell_type": "code",
      "source": [
        "x = int(5)          # 5\n",
        "y = int(5.9)        # 5  Casteamos un float a int\n",
        "z = int(\"5\")        # 5  Casteramos un string a int\n",
        "\n",
        "print(x, y, z)"
      ],
      "metadata": {
        "colab": {
          "base_uri": "https://localhost:8080/"
        },
        "id": "nVgAnnoS4Lrp",
        "outputId": "a5d784dd-5d83-4f4f-ea62-c14d333cf59d"
      },
      "execution_count": null,
      "outputs": [
        {
          "output_type": "stream",
          "name": "stdout",
          "text": [
            "5 5 5\n"
          ]
        }
      ]
    },
    {
      "cell_type": "code",
      "source": [
        "a = float(7)        # 7.0  Casteamos un int a float\n",
        "b = float(7.9)      # 7.9\n",
        "c = float(\"7\")      # 7.0  Casteamos un string a float\n",
        "d = float(\"7.1\")    # 7.1  Casteamos un string a float\n",
        "\n",
        "print(a, b, c, d)"
      ],
      "metadata": {
        "colab": {
          "base_uri": "https://localhost:8080/"
        },
        "id": "R4w83C6z4Qew",
        "outputId": "9eab6815-9020-4afc-c182-1cf2868cd1ea"
      },
      "execution_count": null,
      "outputs": [
        {
          "output_type": "stream",
          "name": "stdout",
          "text": [
            "7.0 7.9 7.0 7.1\n"
          ]
        }
      ]
    },
    {
      "cell_type": "code",
      "source": [
        "p = str(\"v2\")       # 'v2'\n",
        "q = str(2)          # '2'    Casteamos un int a string\n",
        "r = str(2.0)        # '2.0'  Casteamos un float a string\n",
        "\n",
        "print(p, q, r)"
      ],
      "metadata": {
        "colab": {
          "base_uri": "https://localhost:8080/"
        },
        "id": "aC7OPr0Q4UB_",
        "outputId": "119c151f-fd78-41e4-bd53-3e307599219f"
      },
      "execution_count": null,
      "outputs": [
        {
          "output_type": "stream",
          "name": "stdout",
          "text": [
            "v2 2 2.0\n"
          ]
        }
      ]
    },
    {
      "cell_type": "markdown",
      "source": [
        "### Error al concatenar con un número"
      ],
      "metadata": {
        "id": "dPD9FFMTSUP8"
      }
    },
    {
      "cell_type": "code",
      "source": [
        "#\"Vuelo \" + 505               # TypeError: can only concatenate str (not \"int\") to str"
      ],
      "metadata": {
        "id": "xUxfcx0wSYlh"
      },
      "execution_count": null,
      "outputs": []
    },
    {
      "cell_type": "code",
      "source": [
        "\"Vuelo \" + str(505)           # la función str() convierte un número en cadena"
      ],
      "metadata": {
        "id": "gxRgjF_uSbJ2",
        "outputId": "72012309-9674-456d-b487-082e595979f6",
        "colab": {
          "base_uri": "https://localhost:8080/",
          "height": 35
        }
      },
      "execution_count": null,
      "outputs": [
        {
          "output_type": "execute_result",
          "data": {
            "text/plain": [
              "'Vuelo 505'"
            ],
            "application/vnd.google.colaboratory.intrinsic+json": {
              "type": "string"
            }
          },
          "metadata": {},
          "execution_count": 1
        }
      ]
    },
    {
      "cell_type": "markdown",
      "source": [
        "## Imprimir con formato"
      ],
      "metadata": {
        "id": "Y11ExLWtOFfg"
      }
    },
    {
      "cell_type": "markdown",
      "source": [
        "### Imprimir concatenando\n",
        "Las varíables numéricas, `int` o `float`, se han de convertir a string usando `str`."
      ],
      "metadata": {
        "id": "5SnC4IP0OIX-"
      }
    },
    {
      "cell_type": "code",
      "source": [
        "nombre = \"Ana\"\n",
        "edad = 13\n",
        "\n",
        "print(\"Me llamo \" + nombre + \" y tengo \" + str(edad) + \" años\")"
      ],
      "metadata": {
        "colab": {
          "base_uri": "https://localhost:8080/"
        },
        "id": "cPuav_I1ORTd",
        "outputId": "d6145e95-492e-4c19-d12c-ef44c521c71a"
      },
      "execution_count": null,
      "outputs": [
        {
          "output_type": "stream",
          "name": "stdout",
          "text": [
            "Me llamo Ana y tengo 13 años\n"
          ]
        }
      ]
    },
    {
      "cell_type": "markdown",
      "source": [
        "## Imprimir con el formato `f`"
      ],
      "metadata": {
        "id": "ALlOJRY-N69i"
      }
    },
    {
      "cell_type": "code",
      "source": [
        "print(f\"Me llamo {nombre} y tengo {edad} años\")"
      ],
      "metadata": {
        "colab": {
          "base_uri": "https://localhost:8080/"
        },
        "id": "cBrCzorWOCHs",
        "outputId": "82d9ecfc-8a1e-434b-964a-3b5665b150c5"
      },
      "execution_count": null,
      "outputs": [
        {
          "output_type": "stream",
          "name": "stdout",
          "text": [
            "Me llamo Ana y tengo 13 años\n"
          ]
        }
      ]
    },
    {
      "cell_type": "markdown",
      "source": [
        "### Formas de imprimir\n",
        "¿Cuál de estas tres formas de imprimir te gusta más?"
      ],
      "metadata": {
        "id": "nT7Mwz9uG9op"
      }
    },
    {
      "cell_type": "code",
      "source": [
        "nombre = 'Ana'\n",
        "edad = 13\n",
        "\n",
        "print(\"Me llamo\", nombre, \"y tengo\", edad, \"años\")\n",
        "print(\"Me llamo \" + nombre + \" y tengo \" + str(edad) + \" años\")\n",
        "print(f\"Me llamo {nombre} y tengo {edad} años\")"
      ],
      "metadata": {
        "colab": {
          "base_uri": "https://localhost:8080/"
        },
        "id": "eMw8BdRzHO8t",
        "outputId": "c0e0befe-749f-4d4d-95fb-ce1acbb8d063"
      },
      "execution_count": null,
      "outputs": [
        {
          "output_type": "stream",
          "name": "stdout",
          "text": [
            "Me llamo Ana y tengo 13 años\n",
            "Me llamo Ana y tengo 13 años\n",
            "Me llamo Ana y tengo 13 años\n"
          ]
        }
      ]
    },
    {
      "cell_type": "markdown",
      "source": [
        "## Números y literales\n",
        "¿ `5 == '5'` ?\n"
      ],
      "metadata": {
        "id": "50QFJvbj4VNt"
      }
    },
    {
      "cell_type": "code",
      "source": [
        "x = 5       # un solo igual se usa para asignar un valor a una variable\n",
        "y = '5'\n",
        "x == y      # un doble igual es un operador de comparación"
      ],
      "metadata": {
        "colab": {
          "base_uri": "https://localhost:8080/"
        },
        "id": "h8d51zHcMh5c",
        "outputId": "42833272-a58f-4a3e-edba-4fb624b420c0"
      },
      "execution_count": null,
      "outputs": [
        {
          "output_type": "execute_result",
          "data": {
            "text/plain": [
              "False"
            ]
          },
          "metadata": {},
          "execution_count": 1
        }
      ]
    },
    {
      "cell_type": "code",
      "source": [
        "str(x) == y       # str convierte un número en un string"
      ],
      "metadata": {
        "colab": {
          "base_uri": "https://localhost:8080/"
        },
        "id": "Dt7QdXlnMrHU",
        "outputId": "b08a53c8-aa50-4c9e-a930-71f6bccbd500"
      },
      "execution_count": null,
      "outputs": [
        {
          "output_type": "execute_result",
          "data": {
            "text/plain": [
              "True"
            ]
          },
          "metadata": {},
          "execution_count": 2
        }
      ]
    },
    {
      "cell_type": "code",
      "source": [
        "x == int(y)         # convierte un string en un int"
      ],
      "metadata": {
        "colab": {
          "base_uri": "https://localhost:8080/"
        },
        "id": "GTwYF4UuM4Xp",
        "outputId": "400d9827-7fe7-4be4-d7c7-a933ef7d37af"
      },
      "execution_count": null,
      "outputs": [
        {
          "output_type": "execute_result",
          "data": {
            "text/plain": [
              "True"
            ]
          },
          "metadata": {},
          "execution_count": 9
        }
      ]
    },
    {
      "cell_type": "code",
      "source": [
        "print(float(x))     # float convierte un número en un número de coma flotante\n",
        "print(float(y))"
      ],
      "metadata": {
        "colab": {
          "base_uri": "https://localhost:8080/"
        },
        "id": "IH6l1CgpNLpF",
        "outputId": "581c633e-d6b3-40d6-870f-2fa30c1175e5"
      },
      "execution_count": null,
      "outputs": [
        {
          "output_type": "stream",
          "name": "stdout",
          "text": [
            "5.0\n",
            "5.0\n"
          ]
        }
      ]
    },
    {
      "cell_type": "code",
      "source": [
        "bool(1)             # convierte en un bool\n",
        "# 1 es True\n",
        "# 0 es False y\n",
        "# cualquier otro número también da False"
      ],
      "metadata": {
        "colab": {
          "base_uri": "https://localhost:8080/"
        },
        "id": "_hKMvcNENkds",
        "outputId": "fce58256-25f6-47de-c1e5-7ef87b2f88f8"
      },
      "execution_count": null,
      "outputs": [
        {
          "output_type": "execute_result",
          "data": {
            "text/plain": [
              "True"
            ]
          },
          "metadata": {},
          "execution_count": 16
        }
      ]
    },
    {
      "cell_type": "code",
      "source": [
        "True == 1       # True"
      ],
      "metadata": {
        "id": "FiWe78OveCYK",
        "outputId": "6b975de1-cda5-4f8b-981e-66bf842a4709",
        "colab": {
          "base_uri": "https://localhost:8080/"
        }
      },
      "execution_count": null,
      "outputs": [
        {
          "output_type": "execute_result",
          "data": {
            "text/plain": [
              "True"
            ]
          },
          "metadata": {},
          "execution_count": 3
        }
      ]
    },
    {
      "cell_type": "code",
      "source": [
        "False == 0      # True"
      ],
      "metadata": {
        "id": "14FOttSBeLES",
        "outputId": "b880475f-39dc-426e-b28d-73d2b7078fd4",
        "colab": {
          "base_uri": "https://localhost:8080/"
        }
      },
      "execution_count": null,
      "outputs": [
        {
          "output_type": "execute_result",
          "data": {
            "text/plain": [
              "True"
            ]
          },
          "metadata": {},
          "execution_count": 6
        }
      ]
    }
  ]
}