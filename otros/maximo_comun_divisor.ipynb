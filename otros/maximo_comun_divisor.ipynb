{
  "nbformat": 4,
  "nbformat_minor": 0,
  "metadata": {
    "colab": {
      "provenance": [],
      "authorship_tag": "ABX9TyOkIgjLR3Y6CbQ+5iSYY32V",
      "include_colab_link": true
    },
    "kernelspec": {
      "name": "python3",
      "display_name": "Python 3"
    },
    "language_info": {
      "name": "python"
    }
  },
  "cells": [
    {
      "cell_type": "markdown",
      "metadata": {
        "id": "view-in-github",
        "colab_type": "text"
      },
      "source": [
        "<a href=\"https://colab.research.google.com/github/financieras/curso_python/blob/main/otros/maximo_comun_divisor.ipynb\" target=\"_parent\"><img src=\"https://colab.research.google.com/assets/colab-badge.svg\" alt=\"Open In Colab\"/></a>"
      ]
    },
    {
      "cell_type": "markdown",
      "source": [
        "# Máximo Común Divisor (MCD)"
      ],
      "metadata": {
        "id": "r-9dGdzuI9Ok"
      }
    },
    {
      "cell_type": "markdown",
      "source": [
        "## Concepto\n",
        "El MCD de dos números es el mayor de los números que son capaces de dividier a los anteriores de forma exacta, sin decimales."
      ],
      "metadata": {
        "id": "j6zLdJHEJFut"
      }
    },
    {
      "cell_type": "code",
      "execution_count": null,
      "metadata": {
        "colab": {
          "base_uri": "https://localhost:8080/"
        },
        "id": "_d-60VYAHVHW",
        "outputId": "562c352c-921f-4d5c-f6bb-5dbf5c05173c"
      },
      "outputs": [
        {
          "output_type": "execute_result",
          "data": {
            "text/plain": [
              "59"
            ]
          },
          "metadata": {},
          "execution_count": 2
        }
      ],
      "source": [
        "def maximo_comun_divisor(a, b):\n",
        "    m = min (a, b)\n",
        "    for i in range(m, 1, -1):\n",
        "        if a/i == a//i and b/i == b//i:\n",
        "            return i\n",
        "\n",
        "\n",
        "a = 1121\n",
        "b = 1003\n",
        "\n",
        "maximo_comun_divisor(a, b)"
      ]
    },
    {
      "cell_type": "code",
      "source": [
        "def maximo_comun_divisor(a, b):\n",
        "    m = min (a, b)\n",
        "    for i in range(m, 1, -1):\n",
        "        if a % i == 0 and b % i == 0:\n",
        "            return i\n",
        "\n",
        "\n",
        "a = 1121\n",
        "b = 1003\n",
        "\n",
        "maximo_comun_divisor(a, b)"
      ],
      "metadata": {
        "colab": {
          "base_uri": "https://localhost:8080/"
        },
        "id": "qvXWzgDTITeS",
        "outputId": "31355c34-8ce3-461d-8bf8-b5bdff8e9645"
      },
      "execution_count": null,
      "outputs": [
        {
          "output_type": "execute_result",
          "data": {
            "text/plain": [
              "59"
            ]
          },
          "metadata": {},
          "execution_count": 3
        }
      ]
    },
    {
      "cell_type": "code",
      "source": [
        "def frac(x, y):\n",
        "    return x/y - int(x/y)\n",
        "\n",
        "def maximo_comun_divisor(a, b):\n",
        "    m = min (a, b)\n",
        "    for i in range(m, 1, -1):\n",
        "        if frac(a,i) == 0 and frac(b,i) == 0:\n",
        "            return i\n",
        "\n",
        "\n",
        "a = 1121\n",
        "b = 1003\n",
        "\n",
        "maximo_comun_divisor(a, b)"
      ],
      "metadata": {
        "colab": {
          "base_uri": "https://localhost:8080/"
        },
        "id": "eo8ou7hwIkXw",
        "outputId": "d06357ee-fb70-4acd-99cf-7f142a063d22"
      },
      "execution_count": null,
      "outputs": [
        {
          "output_type": "execute_result",
          "data": {
            "text/plain": [
              "59"
            ]
          },
          "metadata": {},
          "execution_count": 4
        }
      ]
    },
    {
      "cell_type": "markdown",
      "source": [
        "## Con la librería `math`\n",
        "Importando la función `gcd` *Greatest Common Divisor*"
      ],
      "metadata": {
        "id": "oofnhmPMJnSR"
      }
    },
    {
      "cell_type": "code",
      "source": [
        "import math\n",
        "\n",
        "a = 1121\n",
        "b = 1003\n",
        "\n",
        "math.gcd(a, b)"
      ],
      "metadata": {
        "colab": {
          "base_uri": "https://localhost:8080/"
        },
        "id": "oMUF0rlhJsJb",
        "outputId": "fee383f8-cc14-416f-fc23-554fe36ea484"
      },
      "execution_count": null,
      "outputs": [
        {
          "output_type": "execute_result",
          "data": {
            "text/plain": [
              "59"
            ]
          },
          "metadata": {},
          "execution_count": 6
        }
      ]
    },
    {
      "cell_type": "markdown",
      "source": [
        "## Otros recursos\n",
        "[Máximo común divisor (MCD) en Python](https://altocodigo.blogspot.com/2021/01/maximo-comun-divisor-mcd-en-python.html)"
      ],
      "metadata": {
        "id": "lOl7Jvo2K0Fj"
      }
    }
  ]
}