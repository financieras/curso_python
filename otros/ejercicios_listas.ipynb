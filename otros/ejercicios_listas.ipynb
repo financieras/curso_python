{
  "nbformat": 4,
  "nbformat_minor": 0,
  "metadata": {
    "colab": {
      "provenance": [],
      "authorship_tag": "ABX9TyMC0kzQfV86AlKpufefwViM"
    },
    "kernelspec": {
      "name": "python3",
      "display_name": "Python 3"
    },
    "language_info": {
      "name": "python"
    }
  },
  "cells": [
    {
      "cell_type": "markdown",
      "source": [
        "# Ejercicios de listas"
      ],
      "metadata": {
        "id": "c4VSy5cDvdw3"
      }
    },
    {
      "cell_type": "markdown",
      "source": [
        "## Ejercicio 1\n",
        "* Dada una lista de palabras, crear una función que retorne la de mayor longitud.\n",
        "* Si hay varias palabras con la máxima longitud retornar la primera."
      ],
      "metadata": {
        "id": "vTbYum-HpWa4"
      }
    },
    {
      "cell_type": "markdown",
      "source": [
        "### Método 1"
      ],
      "metadata": {
        "id": "361bValwyNeD"
      }
    },
    {
      "cell_type": "code",
      "execution_count": null,
      "metadata": {
        "colab": {
          "base_uri": "https://localhost:8080/"
        },
        "id": "r3Fe7h1DpUUf",
        "outputId": "decf989e-22b2-4f99-fc5d-2e252a0926f7"
      },
      "outputs": [
        {
          "output_type": "stream",
          "name": "stdout",
          "text": [
            "La 1ª palabra más larga es: elefante\n"
          ]
        }
      ],
      "source": [
        "def palabra_mas_larga(lista):\n",
        "    if not lista:  # Si la lista está vacía, retornar None\n",
        "        return None\n",
        "\n",
        "    mayor_longitud = 0  # Inicializar la mayor longitud\n",
        "    resp = \"\"           # Inicializar la palabra más larga\n",
        "    for palabra in lista:\n",
        "        longitud_palabra = len(palabra)\n",
        "        if longitud_palabra > mayor_longitud:\n",
        "            mayor_longitud = longitud_palabra\n",
        "            resp = palabra     # Actualizar si encontramos una palabra más larga\n",
        "    return resp\n",
        "\n",
        "if __name__ == \"__main__\":\n",
        "    lista_palabras = [\"perro\", \"gato\", \"elefante\", \"tigre\", \"langosta\"]\n",
        "    resultado = palabra_mas_larga(lista_palabras)\n",
        "    print(\"La 1ª palabra más larga es:\", resultado)"
      ]
    },
    {
      "cell_type": "markdown",
      "source": [
        "### Método 2\n",
        "`max()` encuentra el elemento máximo en la lista lista_palabras utilizando la longitud de las palabras como criterio `key=len`"
      ],
      "metadata": {
        "id": "ljvqkOiPyAGK"
      }
    },
    {
      "cell_type": "code",
      "source": [
        "def palabra_mas_larga(lista):\n",
        "    if not lista:\n",
        "        return None\n",
        "\n",
        "    return max(lista, key=len)\n",
        "\n",
        "if __name__ == \"__main__\":\n",
        "    lista_palabras = [\"perro\", \"gato\", \"elefante\", \"tigre\", \"langosta\"]\n",
        "    resultado = palabra_mas_larga(lista_palabras)\n",
        "    print(\"La 1ª palabra más larga es:\", resultado)\n"
      ],
      "metadata": {
        "id": "J-msxL48xnkH",
        "outputId": "55e0e20f-430c-4329-df9e-9e0b8c0b04ef",
        "colab": {
          "base_uri": "https://localhost:8080/"
        }
      },
      "execution_count": null,
      "outputs": [
        {
          "output_type": "stream",
          "name": "stdout",
          "text": [
            "La 1ª palabra más larga es: elefante\n"
          ]
        }
      ]
    },
    {
      "cell_type": "markdown",
      "source": [
        "## Ejercicio 2\n",
        "* Crear la función `buscarPalabras(texto)` que recibe por parámetro `texto` que es un string.\n",
        "* La función debe retornar una cadena de caracteres con las palabras (separadas por espacio) que se encuentran en el texto y que cumplen con las condiciones:\n",
        "    1. La palabra contiene una cantidad de letras impar y además\n",
        "    2. La cantidad de vocales es mayor estricto que la cantidad de consonantes\n",
        "        - Se considera una palabra a toda secuencia de caracteres que pertenecen al abecedario, es decir que sea letra\n",
        "        - Se considera separador a todo caracter que no sea letra"
      ],
      "metadata": {
        "id": "mHXU2HysR0KM"
      }
    },
    {
      "cell_type": "markdown",
      "source": [
        "### Método 1"
      ],
      "metadata": {
        "id": "Op5IPy0PTBJm"
      }
    },
    {
      "cell_type": "code",
      "source": [
        "def buscarPalabra(texto):\n",
        "    texto_con_espacios = \"\"\n",
        "    for caracter in texto:\n",
        "        if not caracter.isalpha():\n",
        "            texto_con_espacios += \" \"\n",
        "        else:\n",
        "            texto_con_espacios += caracter\n",
        "\n",
        "    lista_de_palabras = texto_con_espacios.split()\n",
        "    return lista_de_palabras\n",
        "\n",
        "\n",
        "if __name__ == \"__main__\":\n",
        "    VOCALES = \"aeiouAEIOUáéíóúÁÉÍÓÚüÜ\"\n",
        "    frase = \" Buen día chic@s. Dame 1.000 $.  \\\" àñÚçü-9\"\n",
        "    res = buscarPalabra(frase)\n",
        "    #print(f\"{len(res.split())} palabras obtenidas: {res}\")\n",
        "    print(res)"
      ],
      "metadata": {
        "id": "HL4F7B-3TEBI",
        "outputId": "7e5ef3e9-9b5b-4b7a-b0f6-368eb2b7ef8f",
        "colab": {
          "base_uri": "https://localhost:8080/"
        }
      },
      "execution_count": null,
      "outputs": [
        {
          "output_type": "stream",
          "name": "stdout",
          "text": [
            "['Buen', 'día', 'chic', 's', 'Dame', 'àñÚçü']\n"
          ]
        }
      ]
    }
  ]
}