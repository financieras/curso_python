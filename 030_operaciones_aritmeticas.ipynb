{
  "nbformat": 4,
  "nbformat_minor": 0,
  "metadata": {
    "colab": {
      "provenance": [],
      "authorship_tag": "ABX9TyOW3GXayEq/TCV3DmO0iOwU",
      "include_colab_link": true
    },
    "kernelspec": {
      "name": "python3",
      "display_name": "Python 3"
    },
    "language_info": {
      "name": "python"
    }
  },
  "cells": [
    {
      "cell_type": "markdown",
      "metadata": {
        "id": "view-in-github",
        "colab_type": "text"
      },
      "source": [
        "<a href=\"https://colab.research.google.com/github/financieras/curso_python/blob/main/030_operaciones_aritmeticas.ipynb\" target=\"_parent\"><img src=\"https://colab.research.google.com/assets/colab-badge.svg\" alt=\"Open In Colab\"/></a>"
      ]
    },
    {
      "cell_type": "markdown",
      "source": [
        "## Operaciones aritméticas básicas"
      ],
      "metadata": {
        "id": "8YogD3zHF6HN"
      }
    },
    {
      "cell_type": "markdown",
      "source": [
        "### Sumar, restar, multiplicar, dividir"
      ],
      "metadata": {
        "id": "vxaiTuOSq_uV"
      }
    },
    {
      "cell_type": "code",
      "source": [
        "x = 2\n",
        "y = 3\n",
        "print(x + y)\n",
        "print(x - y)\n",
        "print(x * y)\n",
        "z = (x + 4) / y\n",
        "print(z)\n",
        "type(z)             # al dividir siempre obtenemos un float"
      ],
      "metadata": {
        "colab": {
          "base_uri": "https://localhost:8080/"
        },
        "id": "mYXJrsd4F7Df",
        "outputId": "aea59064-9fed-4409-926a-1238ae2cd835"
      },
      "execution_count": null,
      "outputs": [
        {
          "output_type": "stream",
          "name": "stdout",
          "text": [
            "5\n",
            "-1\n",
            "6\n",
            "2.0\n"
          ]
        },
        {
          "output_type": "execute_result",
          "data": {
            "text/plain": [
              "float"
            ]
          },
          "metadata": {},
          "execution_count": 7
        }
      ]
    },
    {
      "cell_type": "markdown",
      "source": [
        "### Potencias"
      ],
      "metadata": {
        "id": "60s2R5SGrZdZ"
      }
    },
    {
      "cell_type": "code",
      "source": [
        "a = 2\n",
        "b = 3\n",
        "# las dos líneas de código anteriores se podrían poner en uan sola:  a, b = 2, 3\n",
        "print(a ** b)   # elevar, potencias: 2^3 = 8"
      ],
      "metadata": {
        "colab": {
          "base_uri": "https://localhost:8080/"
        },
        "id": "fIoORuoFF_2j",
        "outputId": "22321365-a219-412f-c988-1b01f4d5370c"
      },
      "execution_count": null,
      "outputs": [
        {
          "output_type": "stream",
          "name": "stdout",
          "text": [
            "8\n"
          ]
        }
      ]
    },
    {
      "cell_type": "markdown",
      "source": [
        "### Módulo\n",
        "El módulo es el resíduo o resto de una división"
      ],
      "metadata": {
        "id": "_qwSxgjQreAj"
      }
    },
    {
      "cell_type": "code",
      "execution_count": null,
      "metadata": {
        "colab": {
          "base_uri": "https://localhost:8080/"
        },
        "id": "NFQ_ZFeEE3hx",
        "outputId": "5461a8f6-3d20-49cc-e11f-74972a997bab"
      },
      "outputs": [
        {
          "output_type": "stream",
          "name": "stdout",
          "text": [
            "4.0\n",
            "modulo:  0\n"
          ]
        }
      ],
      "source": [
        "p = 20\n",
        "q = 5\n",
        "print(p / q)\n",
        "print(\"modulo: \", p % q)   # módulo, resto, resíduo"
      ]
    },
    {
      "cell_type": "markdown",
      "source": [
        "### División entera\n",
        "La división entera desprecia decimales. No redondea."
      ],
      "metadata": {
        "id": "C3V8me-br66v"
      }
    },
    {
      "cell_type": "code",
      "source": [
        "p = 20\n",
        "q = 7\n",
        "print(p / q)    # división normal\n",
        "print(p // q)   # división entera"
      ],
      "metadata": {
        "id": "3JSWF2f2sE89",
        "outputId": "fc6b6561-abcc-4b00-e83b-5468d1149f30",
        "colab": {
          "base_uri": "https://localhost:8080/"
        }
      },
      "execution_count": null,
      "outputs": [
        {
          "output_type": "stream",
          "name": "stdout",
          "text": [
            "2.857142857142857\n",
            "2\n"
          ]
        }
      ]
    },
    {
      "cell_type": "markdown",
      "source": [
        "### Redondear\n",
        "Usando la función `round`"
      ],
      "metadata": {
        "id": "ReUHbkyxt7R4"
      }
    },
    {
      "cell_type": "code",
      "source": [
        "round(p / q)    # redondeando a cero decimales"
      ],
      "metadata": {
        "id": "8Tn27mO9s12Q",
        "outputId": "5f4344b9-eeb3-4ba3-fec3-1a966d707def",
        "colab": {
          "base_uri": "https://localhost:8080/"
        }
      },
      "execution_count": null,
      "outputs": [
        {
          "output_type": "execute_result",
          "data": {
            "text/plain": [
              "3"
            ]
          },
          "metadata": {},
          "execution_count": 11
        }
      ]
    },
    {
      "cell_type": "code",
      "source": [
        "round(p/q, 2)   # redondeando a 2 decimales"
      ],
      "metadata": {
        "id": "Xmloazdktr7T",
        "outputId": "b8711000-2a51-497f-aa5a-b3beac308b78",
        "colab": {
          "base_uri": "https://localhost:8080/"
        }
      },
      "execution_count": null,
      "outputs": [
        {
          "output_type": "execute_result",
          "data": {
            "text/plain": [
              "2.86"
            ]
          },
          "metadata": {},
          "execution_count": 12
        }
      ]
    },
    {
      "cell_type": "markdown",
      "source": [
        "## Ejercicios"
      ],
      "metadata": {
        "id": "-tvNVnMbrHpT"
      }
    },
    {
      "cell_type": "markdown",
      "source": [
        "#### *Ejercicio 2*\n",
        "1. Crea una expresión matemática con varios paréntesis que tenga un poco de todo: sumas, restas, ... y que al final de cero.\n",
        "2. Añade algún comentario a tu código"
      ],
      "metadata": {
        "id": "wNVIV1DQrDwW"
      }
    },
    {
      "cell_type": "markdown",
      "source": [
        "#### *Ejercicio 4*\n",
        "1. Cuatro amigos reparten 15 comic a partes iguales y si la división no es exacta, el resto lo dejarán en la biblioteca.\n",
        "    - ¿Cómo ha quedado el reparto?\n",
        "    - ¿Cuánto vale la variable `biblioteca`?\n",
        "2. Explica el caso usando un *comentario de varias líneas* en Python.\n",
        "    - Como aquí no hemos contado cómo se hacen este tipo de comentarios que ocupan varias líneas busca algún recurso que lo explique."
      ],
      "metadata": {
        "id": "i8bDd8t8rT8O"
      }
    },
    {
      "cell_type": "markdown",
      "source": [
        "#### *Ejercicio 7*\n",
        "* He realizado tres exámenes y me gustaría obtener la nota media.\n",
        "    1. la nota1 ha sido de 7\n",
        "    2. la nota2 ha sido de 7\n",
        "    3. la nota3 ha sido de 9\n",
        "* Me gustaría calcular mi nota media redondeada\n",
        "* Deja tu código preparado para que si las notas de los exámenes cambian se calcule la media automáticamente"
      ],
      "metadata": {
        "id": "8FuDPlocrcYB"
      }
    }
  ]
}