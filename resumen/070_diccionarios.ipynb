{
  "nbformat": 4,
  "nbformat_minor": 0,
  "metadata": {
    "colab": {
      "provenance": [],
      "authorship_tag": "ABX9TyO4QVQoIy6bJex97+/1wH5H",
      "include_colab_link": true
    },
    "kernelspec": {
      "name": "python3",
      "display_name": "Python 3"
    },
    "language_info": {
      "name": "python"
    }
  },
  "cells": [
    {
      "cell_type": "markdown",
      "metadata": {
        "id": "view-in-github",
        "colab_type": "text"
      },
      "source": [
        "<a href=\"https://colab.research.google.com/github/financieras/curso_python/blob/main/resumen/070_diccionarios.ipynb\" target=\"_parent\"><img src=\"https://colab.research.google.com/assets/colab-badge.svg\" alt=\"Open In Colab\"/></a>"
      ]
    },
    {
      "cell_type": "markdown",
      "source": [
        "# Diccionarios\n",
        "* Los diccionarios se utilizan para almacenar valores de datos en pares clave:valor.\n",
        "* Un diccionario es una colección ordenada, modificable y que no permite duplicados.\n",
        "* Son mutables (son modificables)"
      ],
      "metadata": {
        "id": "5QdyXDisk1Vf"
      }
    },
    {
      "cell_type": "markdown",
      "source": [
        "## Diccionario vacío"
      ],
      "metadata": {
        "id": "YTh2yyWVp1u4"
      }
    },
    {
      "cell_type": "code",
      "source": [
        "compras = {}\n",
        "compras"
      ],
      "metadata": {
        "colab": {
          "base_uri": "https://localhost:8080/"
        },
        "id": "UVObsR7up44J",
        "outputId": "bd66adfd-a88b-4007-f795-18d04e0b09b8"
      },
      "execution_count": null,
      "outputs": [
        {
          "output_type": "execute_result",
          "data": {
            "text/plain": [
              "{}"
            ]
          },
          "metadata": {},
          "execution_count": 2
        }
      ]
    },
    {
      "cell_type": "markdown",
      "source": [
        "Otro diccionario vacío."
      ],
      "metadata": {
        "id": "U1oklzX2qLH1"
      }
    },
    {
      "cell_type": "code",
      "source": [
        "ventas = dict()\n",
        "ventas"
      ],
      "metadata": {
        "colab": {
          "base_uri": "https://localhost:8080/"
        },
        "id": "iR49kGLoqPbb",
        "outputId": "2bc5b2ce-e91d-45a1-81f1-0b7add2bf506"
      },
      "execution_count": null,
      "outputs": [
        {
          "output_type": "execute_result",
          "data": {
            "text/plain": [
              "{}"
            ]
          },
          "metadata": {},
          "execution_count": 3
        }
      ]
    },
    {
      "cell_type": "markdown",
      "source": [
        "## Diccionario con lista"
      ],
      "metadata": {
        "id": "ponJ7wPEqWFB"
      }
    },
    {
      "cell_type": "code",
      "source": [
        "empleado = {'nombre': 'Marcos',\n",
        "            'apellido': 'Ruiz',\n",
        "            'año_inicio': 2023,\n",
        "            'fijo': True,\n",
        "            'salario_miles': 43.5,\n",
        "            'lenguajes': ['C++', 'Python', 'JavaScript']}\n",
        "\n",
        "empleado"
      ],
      "metadata": {
        "id": "pYn9eoMP-EG5",
        "outputId": "3ede7a8e-1cb1-44b3-89ea-9b5de72b60e0",
        "colab": {
          "base_uri": "https://localhost:8080/"
        }
      },
      "execution_count": null,
      "outputs": [
        {
          "output_type": "execute_result",
          "data": {
            "text/plain": [
              "{'nombre': 'Marcos',\n",
              " 'apellido': 'Ruiz',\n",
              " 'año_inicio': 2023,\n",
              " 'fijo': True,\n",
              " 'salario_miles': 43.5,\n",
              " 'lenguajes': ['C++', 'Python', 'JavaScript']}"
            ]
          },
          "metadata": {},
          "execution_count": 5
        }
      ]
    },
    {
      "cell_type": "code",
      "source": [
        "type(empleado)"
      ],
      "metadata": {
        "id": "GWuqQt7J_FY8",
        "outputId": "19ae84a7-362a-4bdc-d4ab-fb8c94720c15",
        "colab": {
          "base_uri": "https://localhost:8080/"
        }
      },
      "execution_count": null,
      "outputs": [
        {
          "output_type": "execute_result",
          "data": {
            "text/plain": [
              "dict"
            ]
          },
          "metadata": {},
          "execution_count": 6
        }
      ]
    },
    {
      "cell_type": "markdown",
      "source": [
        "## Diccionario con tupla\n",
        "La longitud y la latitud se pueden expresar como una pareja de números en forma de tupla."
      ],
      "metadata": {
        "id": "zCZl-3exJl69"
      }
    },
    {
      "cell_type": "code",
      "source": [
        "localizaciones = {\"Madrid\": (40.4168, -3.7038),\n",
        "                  \"London\": (51.5072, -0.1276),\n",
        "                  \"New York\": (40.7128, -74.0060),\n",
        "                  \"Tokyo\": (35.6762, 139.6503)}\n",
        "\n",
        "localizaciones"
      ],
      "metadata": {
        "id": "j4ft89h6JrF6",
        "outputId": "6ae5901e-84c2-46a1-c240-66a414ebbb47",
        "colab": {
          "base_uri": "https://localhost:8080/"
        }
      },
      "execution_count": null,
      "outputs": [
        {
          "output_type": "execute_result",
          "data": {
            "text/plain": [
              "{'Madrid': (40.4168, -3.7038),\n",
              " 'London': (51.5072, -0.1276),\n",
              " 'New York': (40.7128, -74.006),\n",
              " 'Tokyo': (35.6762, 139.6503)}"
            ]
          },
          "metadata": {},
          "execution_count": 18
        }
      ]
    },
    {
      "cell_type": "markdown",
      "source": [
        "## Métodos"
      ],
      "metadata": {
        "id": "qNdGEVfmVvb3"
      }
    },
    {
      "cell_type": "markdown",
      "source": [
        "### `dir`\n",
        "* Lista los métodos de este tipo de objetos."
      ],
      "metadata": {
        "id": "dk0j_T_XWv0D"
      }
    },
    {
      "cell_type": "code",
      "source": [
        "producto = {'nombre': 'café',\n",
        "             'precio': 4.99,\n",
        "             'unidades': 2,\n",
        "             'disponible': True}\n",
        "\n",
        "dir(producto)"
      ],
      "metadata": {
        "colab": {
          "base_uri": "https://localhost:8080/"
        },
        "id": "Y0p6m5tCVzBK",
        "outputId": "8525974b-2ddb-484d-94c3-81ac9b82afcd"
      },
      "execution_count": 16,
      "outputs": [
        {
          "output_type": "execute_result",
          "data": {
            "text/plain": [
              "['__class__',\n",
              " '__class_getitem__',\n",
              " '__contains__',\n",
              " '__delattr__',\n",
              " '__delitem__',\n",
              " '__dir__',\n",
              " '__doc__',\n",
              " '__eq__',\n",
              " '__format__',\n",
              " '__ge__',\n",
              " '__getattribute__',\n",
              " '__getitem__',\n",
              " '__gt__',\n",
              " '__hash__',\n",
              " '__init__',\n",
              " '__init_subclass__',\n",
              " '__ior__',\n",
              " '__iter__',\n",
              " '__le__',\n",
              " '__len__',\n",
              " '__lt__',\n",
              " '__ne__',\n",
              " '__new__',\n",
              " '__or__',\n",
              " '__reduce__',\n",
              " '__reduce_ex__',\n",
              " '__repr__',\n",
              " '__reversed__',\n",
              " '__ror__',\n",
              " '__setattr__',\n",
              " '__setitem__',\n",
              " '__sizeof__',\n",
              " '__str__',\n",
              " '__subclasshook__',\n",
              " 'clear',\n",
              " 'copy',\n",
              " 'fromkeys',\n",
              " 'get',\n",
              " 'items',\n",
              " 'keys',\n",
              " 'pop',\n",
              " 'popitem',\n",
              " 'setdefault',\n",
              " 'update',\n",
              " 'values']"
            ]
          },
          "metadata": {},
          "execution_count": 16
        }
      ]
    },
    {
      "cell_type": "markdown",
      "source": [
        "### `keys`\n",
        "Proporciona las llaves del diccionario."
      ],
      "metadata": {
        "id": "XNl4Jy9bfJdf"
      }
    },
    {
      "cell_type": "code",
      "source": [
        "producto.keys()"
      ],
      "metadata": {
        "id": "6y2NkwMvfOb-",
        "outputId": "ea6146c8-4bc5-4463-a453-71c0c96979ed",
        "colab": {
          "base_uri": "https://localhost:8080/"
        }
      },
      "execution_count": 17,
      "outputs": [
        {
          "output_type": "execute_result",
          "data": {
            "text/plain": [
              "dict_keys(['nombre', 'precio', 'unidades', 'disponible'])"
            ]
          },
          "metadata": {},
          "execution_count": 17
        }
      ]
    },
    {
      "cell_type": "markdown",
      "source": [
        "### `items`\n",
        "* Proporciona los items del diccionario.\n",
        "* Proporciona todo, la clave y el valor, en forma de tuplas y dentro de una lista."
      ],
      "metadata": {
        "id": "gHvDWS6hf2zF"
      }
    },
    {
      "cell_type": "code",
      "source": [
        "producto.items()"
      ],
      "metadata": {
        "id": "cTQTYmbOf8X_",
        "outputId": "d0d1a8f9-1c5e-4fe9-f5b6-0e987d1c0a67",
        "colab": {
          "base_uri": "https://localhost:8080/"
        }
      },
      "execution_count": 18,
      "outputs": [
        {
          "output_type": "execute_result",
          "data": {
            "text/plain": [
              "dict_items([('nombre', 'café'), ('precio', 4.99), ('unidades', 2), ('disponible', True)])"
            ]
          },
          "metadata": {},
          "execution_count": 18
        }
      ]
    },
    {
      "cell_type": "markdown",
      "source": [
        "### `clear`\n",
        "*Elimina todos los iterms del diccionario.\n",
        "* Queda el objeto pero vacío."
      ],
      "metadata": {
        "id": "wNyTPShKg6zR"
      }
    },
    {
      "cell_type": "code",
      "source": [
        "producto.clear()\n",
        "producto"
      ],
      "metadata": {
        "id": "q3bMBdWUhH_f",
        "outputId": "16850170-0481-478e-ef41-556cd52531b0",
        "colab": {
          "base_uri": "https://localhost:8080/"
        }
      },
      "execution_count": 15,
      "outputs": [
        {
          "output_type": "execute_result",
          "data": {
            "text/plain": [
              "{}"
            ]
          },
          "metadata": {},
          "execution_count": 15
        }
      ]
    },
    {
      "cell_type": "markdown",
      "source": [
        "### `del`\n",
        "Elimina el objeto."
      ],
      "metadata": {
        "id": "SpOHn6JJgYw1"
      }
    },
    {
      "cell_type": "code",
      "source": [
        "del producto\n",
        "#print(producto)    # daría Error ya que no puede imprimir un objeto que no existe"
      ],
      "metadata": {
        "id": "EeYlt4IFgfrz"
      },
      "execution_count": 12,
      "outputs": []
    },
    {
      "cell_type": "markdown",
      "source": [
        "## Objetos JSON\n",
        "Son estructuras de datos que son muy parecidas a una lista de diccionarios.\n",
        "* Se usan mucho en programación web para compartir información entre páginas o entre un página y alguna base de datos no relacional.\n",
        "* Existen muchas páginas en internet que permite validar objetos JSON de forma online.\n",
        "    1. Los objetos JSON no usan comilla simple, han de ser comillas dobles\n",
        "    2. En los JSON los True False van todo en minúsculas"
      ],
      "metadata": {
        "id": "cUrH7Zjlhz1J"
      }
    },
    {
      "cell_type": "code",
      "source": [
        "productos = [\n",
        "    {\n",
        "        \"nombre\": \"cafe\",\n",
        "        \"precio\": 4.99,\n",
        "        \"unidades\": 2,\n",
        "        \"disponible\": True\n",
        "    },\n",
        "    {\n",
        "        \"nombre\": \"libro\",\n",
        "        \"precio\": 19.99,\n",
        "        \"unidades\": 1,\n",
        "        \"disponible\": True\n",
        "    },\n",
        "    {\n",
        "        \"nombre\": \"laptop\",\n",
        "        \"precio\": 999.99,\n",
        "        \"unidades\": 1,\n",
        "        \"disponible\": False\n",
        "    }\n",
        "]\n",
        "\n",
        "productos       # lista de diccionarios en Python\n",
        "                # poniendo True y False en minúsculas podría se un JSON correcto"
      ],
      "metadata": {
        "id": "kC8TRLhFkJEd",
        "outputId": "c04cdabe-6b9e-45fc-d710-1725acff03b6",
        "colab": {
          "base_uri": "https://localhost:8080/"
        }
      },
      "execution_count": 21,
      "outputs": [
        {
          "output_type": "execute_result",
          "data": {
            "text/plain": [
              "[{'nombre': 'cafe', 'precio': 4.99, 'unidades': 2, 'disponible': True},\n",
              " {'nombre': 'libro', 'precio': 19.99, 'unidades': 1, 'disponible': True},\n",
              " {'nombre': 'laptop', 'precio': 999.99, 'unidades': 1, 'disponible': False}]"
            ]
          },
          "metadata": {},
          "execution_count": 21
        }
      ]
    }
  ]
}