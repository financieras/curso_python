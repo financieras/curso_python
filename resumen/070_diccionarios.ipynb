{
  "nbformat": 4,
  "nbformat_minor": 0,
  "metadata": {
    "colab": {
      "provenance": [],
      "authorship_tag": "ABX9TyO3T/lZpC/geHmvUOMHTKex",
      "include_colab_link": true
    },
    "kernelspec": {
      "name": "python3",
      "display_name": "Python 3"
    },
    "language_info": {
      "name": "python"
    }
  },
  "cells": [
    {
      "cell_type": "markdown",
      "metadata": {
        "id": "view-in-github",
        "colab_type": "text"
      },
      "source": [
        "<a href=\"https://colab.research.google.com/github/financieras/curso_python/blob/main/resumen/070_diccionarios.ipynb\" target=\"_parent\"><img src=\"https://colab.research.google.com/assets/colab-badge.svg\" alt=\"Open In Colab\"/></a>"
      ]
    },
    {
      "cell_type": "markdown",
      "source": [
        "# Diccionarios"
      ],
      "metadata": {
        "id": "5QdyXDisk1Vf"
      }
    },
    {
      "cell_type": "markdown",
      "source": [
        "## Diccionario vacío"
      ],
      "metadata": {
        "id": "YTh2yyWVp1u4"
      }
    },
    {
      "cell_type": "code",
      "source": [
        "compras = {}\n",
        "compras"
      ],
      "metadata": {
        "colab": {
          "base_uri": "https://localhost:8080/"
        },
        "id": "UVObsR7up44J",
        "outputId": "bd66adfd-a88b-4007-f795-18d04e0b09b8"
      },
      "execution_count": null,
      "outputs": [
        {
          "output_type": "execute_result",
          "data": {
            "text/plain": [
              "{}"
            ]
          },
          "metadata": {},
          "execution_count": 2
        }
      ]
    },
    {
      "cell_type": "markdown",
      "source": [
        "Otro diccionario vacío."
      ],
      "metadata": {
        "id": "U1oklzX2qLH1"
      }
    },
    {
      "cell_type": "code",
      "source": [
        "ventas = dict()\n",
        "ventas"
      ],
      "metadata": {
        "colab": {
          "base_uri": "https://localhost:8080/"
        },
        "id": "iR49kGLoqPbb",
        "outputId": "2bc5b2ce-e91d-45a1-81f1-0b7add2bf506"
      },
      "execution_count": null,
      "outputs": [
        {
          "output_type": "execute_result",
          "data": {
            "text/plain": [
              "{}"
            ]
          },
          "metadata": {},
          "execution_count": 3
        }
      ]
    },
    {
      "cell_type": "markdown",
      "source": [
        "## Diccionario con lista"
      ],
      "metadata": {
        "id": "ponJ7wPEqWFB"
      }
    },
    {
      "cell_type": "code",
      "source": [
        "empleado = {'nombre': 'Marcos',\n",
        "            'apellido': 'Ruiz',\n",
        "            'año_inicio': 2023,\n",
        "            'fijo': True,\n",
        "            'salario_miles': 43.5,\n",
        "            'lenguajes': ['C++', 'Python', 'JavaScript']}\n",
        "\n",
        "empleado"
      ],
      "metadata": {
        "id": "pYn9eoMP-EG5",
        "outputId": "3ede7a8e-1cb1-44b3-89ea-9b5de72b60e0",
        "colab": {
          "base_uri": "https://localhost:8080/"
        }
      },
      "execution_count": null,
      "outputs": [
        {
          "output_type": "execute_result",
          "data": {
            "text/plain": [
              "{'nombre': 'Marcos',\n",
              " 'apellido': 'Ruiz',\n",
              " 'año_inicio': 2023,\n",
              " 'fijo': True,\n",
              " 'salario_miles': 43.5,\n",
              " 'lenguajes': ['C++', 'Python', 'JavaScript']}"
            ]
          },
          "metadata": {},
          "execution_count": 5
        }
      ]
    },
    {
      "cell_type": "code",
      "source": [
        "type(empleado)"
      ],
      "metadata": {
        "id": "GWuqQt7J_FY8",
        "outputId": "19ae84a7-362a-4bdc-d4ab-fb8c94720c15",
        "colab": {
          "base_uri": "https://localhost:8080/"
        }
      },
      "execution_count": null,
      "outputs": [
        {
          "output_type": "execute_result",
          "data": {
            "text/plain": [
              "dict"
            ]
          },
          "metadata": {},
          "execution_count": 6
        }
      ]
    },
    {
      "cell_type": "markdown",
      "source": [
        "## Diccionario con tupla\n",
        "La longitud y la latitud se pueden expresar como una pareja de números en forma de tupla."
      ],
      "metadata": {
        "id": "zCZl-3exJl69"
      }
    },
    {
      "cell_type": "code",
      "source": [
        "localizaciones = {\"Madrid\": (40.4168, -3.7038),\n",
        "                  \"London\": (51.5072, -0.1276),\n",
        "                  \"New York\": (40.7128, -74.0060),\n",
        "                  \"Tokyo\": (35.6762, 139.6503)}\n",
        "\n",
        "localizaciones"
      ],
      "metadata": {
        "id": "j4ft89h6JrF6",
        "outputId": "6ae5901e-84c2-46a1-c240-66a414ebbb47",
        "colab": {
          "base_uri": "https://localhost:8080/"
        }
      },
      "execution_count": null,
      "outputs": [
        {
          "output_type": "execute_result",
          "data": {
            "text/plain": [
              "{'Madrid': (40.4168, -3.7038),\n",
              " 'London': (51.5072, -0.1276),\n",
              " 'New York': (40.7128, -74.006),\n",
              " 'Tokyo': (35.6762, 139.6503)}"
            ]
          },
          "metadata": {},
          "execution_count": 18
        }
      ]
    }
  ]
}