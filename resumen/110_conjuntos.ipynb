{
  "nbformat": 4,
  "nbformat_minor": 0,
  "metadata": {
    "colab": {
      "provenance": [],
      "authorship_tag": "ABX9TyOrHuDVKNfLwbTtghyFkT88",
      "include_colab_link": true
    },
    "kernelspec": {
      "name": "python3",
      "display_name": "Python 3"
    },
    "language_info": {
      "name": "python"
    }
  },
  "cells": [
    {
      "cell_type": "markdown",
      "metadata": {
        "id": "view-in-github",
        "colab_type": "text"
      },
      "source": [
        "<a href=\"https://colab.research.google.com/github/financieras/curso_python/blob/main/resumen/110_conjuntos.ipynb\" target=\"_parent\"><img src=\"https://colab.research.google.com/assets/colab-badge.svg\" alt=\"Open In Colab\"/></a>"
      ]
    },
    {
      "cell_type": "markdown",
      "source": [
        "# Conjuntos `set`\n",
        "* Van entre llaves `{ }`\n",
        "* El orden no importa\n",
        "* No puede haber repetidos"
      ],
      "metadata": {
        "id": "GEd6dEb77fGS"
      }
    },
    {
      "cell_type": "code",
      "source": [
        "sabores = {'vainilla', 'nata', 'chocolate'}\n",
        "sabores"
      ],
      "metadata": {
        "colab": {
          "base_uri": "https://localhost:8080/"
        },
        "id": "zXYtYOgM7w5Z",
        "outputId": "a0e9a57d-fb78-44cc-b7a3-e46dd80b35cd"
      },
      "execution_count": null,
      "outputs": [
        {
          "output_type": "execute_result",
          "data": {
            "text/plain": [
              "{'chocolate', 'nata', 'vainilla'}"
            ]
          },
          "metadata": {},
          "execution_count": 14
        }
      ]
    },
    {
      "cell_type": "code",
      "source": [
        "type(sabores)"
      ],
      "metadata": {
        "colab": {
          "base_uri": "https://localhost:8080/"
        },
        "id": "LiuBPXiU7-a9",
        "outputId": "a24ecea9-643f-493e-fb6e-b9fc94d66a27"
      },
      "execution_count": null,
      "outputs": [
        {
          "output_type": "execute_result",
          "data": {
            "text/plain": [
              "set"
            ]
          },
          "metadata": {},
          "execution_count": 15
        }
      ]
    },
    {
      "cell_type": "markdown",
      "source": [
        "## Conjunto vacío"
      ],
      "metadata": {
        "id": "sZiOe5T09Emc"
      }
    },
    {
      "cell_type": "code",
      "source": [
        "a = {}\n",
        "a"
      ],
      "metadata": {
        "colab": {
          "base_uri": "https://localhost:8080/"
        },
        "id": "RBOwd_qB9Kap",
        "outputId": "5b4ca0d5-e70c-440a-851f-5f7b8cae8c40"
      },
      "execution_count": 3,
      "outputs": [
        {
          "output_type": "execute_result",
          "data": {
            "text/plain": [
              "{}"
            ]
          },
          "metadata": {},
          "execution_count": 3
        }
      ]
    },
    {
      "cell_type": "markdown",
      "source": [
        "## De lista a conjunto"
      ],
      "metadata": {
        "id": "v3RbqXGb99sJ"
      }
    },
    {
      "cell_type": "code",
      "source": [
        "num = [9, 2, 5, 7, 9, 2, 2, 7]\n",
        "num = set(num)\n",
        "num                             # num ahora es un conjunto"
      ],
      "metadata": {
        "colab": {
          "base_uri": "https://localhost:8080/"
        },
        "id": "zB3FxTsT-CYy",
        "outputId": "b2a135e2-7dc7-4fe9-8152-8e8095082d12"
      },
      "execution_count": 8,
      "outputs": [
        {
          "output_type": "execute_result",
          "data": {
            "text/plain": [
              "{2, 5, 7, 9}"
            ]
          },
          "metadata": {},
          "execution_count": 8
        }
      ]
    },
    {
      "cell_type": "markdown",
      "source": [
        "## De lista a conjunto eliminando repetidos"
      ],
      "metadata": {
        "id": "Q1QiXIqs9cAF"
      }
    },
    {
      "cell_type": "code",
      "source": [
        "num = [9, 2, 5, 7, 9, 2, 2, 7]\n",
        "num = list(set(num))\n",
        "num                             # num ahora es una lista"
      ],
      "metadata": {
        "colab": {
          "base_uri": "https://localhost:8080/"
        },
        "id": "R056C0ES9Ol9",
        "outputId": "f13cbda7-ea65-4dd7-8a43-122feec7921b"
      },
      "execution_count": 9,
      "outputs": [
        {
          "output_type": "execute_result",
          "data": {
            "text/plain": [
              "[9, 2, 5, 7]"
            ]
          },
          "metadata": {},
          "execution_count": 9
        }
      ]
    },
    {
      "cell_type": "markdown",
      "source": [
        "Ordenando la lista."
      ],
      "metadata": {
        "id": "wPXAbAr3-TOW"
      }
    },
    {
      "cell_type": "code",
      "source": [
        "num.sort()\n",
        "num"
      ],
      "metadata": {
        "colab": {
          "base_uri": "https://localhost:8080/"
        },
        "id": "oJ9z32TR-kA0",
        "outputId": "9833e2f2-5335-4032-ce24-f4fc4d039c19"
      },
      "execution_count": 12,
      "outputs": [
        {
          "output_type": "execute_result",
          "data": {
            "text/plain": [
              "[2, 5, 7, 9]"
            ]
          },
          "metadata": {},
          "execution_count": 12
        }
      ]
    }
  ]
}