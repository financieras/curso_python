{
  "nbformat": 4,
  "nbformat_minor": 0,
  "metadata": {
    "colab": {
      "provenance": [],
      "authorship_tag": "ABX9TyN+SAqhsX6KVfEMkmCMqkUo",
      "include_colab_link": true
    },
    "kernelspec": {
      "name": "python3",
      "display_name": "Python 3"
    },
    "language_info": {
      "name": "python"
    }
  },
  "cells": [
    {
      "cell_type": "markdown",
      "metadata": {
        "id": "view-in-github",
        "colab_type": "text"
      },
      "source": [
        "<a href=\"https://colab.research.google.com/github/financieras/curso_python/blob/main/resumen/110_conjuntos.ipynb\" target=\"_parent\"><img src=\"https://colab.research.google.com/assets/colab-badge.svg\" alt=\"Open In Colab\"/></a>"
      ]
    },
    {
      "cell_type": "markdown",
      "source": [
        "# Conjuntos `set`\n",
        "* Van entre llaves `{ }`\n",
        "* El orden no importa\n",
        "* No puede haber repetidos"
      ],
      "metadata": {
        "id": "GEd6dEb77fGS"
      }
    },
    {
      "cell_type": "code",
      "source": [
        "sabores = {'vainilla', 'nata', 'chocolate'}\n",
        "sabores"
      ],
      "metadata": {
        "colab": {
          "base_uri": "https://localhost:8080/"
        },
        "id": "zXYtYOgM7w5Z",
        "outputId": "3f9b8a5f-c983-4916-bb1a-5c4d0e5f4730"
      },
      "execution_count": null,
      "outputs": [
        {
          "output_type": "execute_result",
          "data": {
            "text/plain": [
              "{'chocolate', 'nata', 'vainilla'}"
            ]
          },
          "metadata": {},
          "execution_count": 1
        }
      ]
    },
    {
      "cell_type": "code",
      "source": [
        "type(sabores)"
      ],
      "metadata": {
        "colab": {
          "base_uri": "https://localhost:8080/"
        },
        "id": "LiuBPXiU7-a9",
        "outputId": "4ab0b095-934b-4ef9-df01-1bb029874cc6"
      },
      "execution_count": null,
      "outputs": [
        {
          "output_type": "execute_result",
          "data": {
            "text/plain": [
              "set"
            ]
          },
          "metadata": {},
          "execution_count": 2
        }
      ]
    },
    {
      "cell_type": "markdown",
      "source": [
        "## Conjunto vacío\n",
        "* Hay que poner `set()`\n",
        "* Si ponemos `{}` Python pensará que se trata de un **diccionario vacío**.\n"
      ],
      "metadata": {
        "id": "sZiOe5T09Emc"
      }
    },
    {
      "cell_type": "code",
      "source": [
        "a = set()\n",
        "a"
      ],
      "metadata": {
        "colab": {
          "base_uri": "https://localhost:8080/"
        },
        "id": "RBOwd_qB9Kap",
        "outputId": "bbcd1ca6-6893-4c12-9e6d-84ab29abcadb"
      },
      "execution_count": null,
      "outputs": [
        {
          "output_type": "execute_result",
          "data": {
            "text/plain": [
              "set()"
            ]
          },
          "metadata": {},
          "execution_count": 3
        }
      ]
    },
    {
      "cell_type": "code",
      "source": [
        "type(a)"
      ],
      "metadata": {
        "id": "qS_Y5LBvOB-q",
        "outputId": "0878ab34-0d01-4a0d-ef89-e92bb1ba77c5",
        "colab": {
          "base_uri": "https://localhost:8080/"
        }
      },
      "execution_count": null,
      "outputs": [
        {
          "output_type": "execute_result",
          "data": {
            "text/plain": [
              "set"
            ]
          },
          "metadata": {},
          "execution_count": 4
        }
      ]
    },
    {
      "cell_type": "markdown",
      "source": [
        "## De lista a conjunto"
      ],
      "metadata": {
        "id": "v3RbqXGb99sJ"
      }
    },
    {
      "cell_type": "code",
      "source": [
        "num = [9, 2, 5, 7, 9, 2, 2, 7]\n",
        "num = set(num)\n",
        "num                             # num ahora es un conjunto"
      ],
      "metadata": {
        "colab": {
          "base_uri": "https://localhost:8080/"
        },
        "id": "zB3FxTsT-CYy",
        "outputId": "df6fecbb-0244-48ed-e034-421a48bdb3ee"
      },
      "execution_count": null,
      "outputs": [
        {
          "output_type": "execute_result",
          "data": {
            "text/plain": [
              "{2, 5, 7, 9}"
            ]
          },
          "metadata": {},
          "execution_count": 5
        }
      ]
    },
    {
      "cell_type": "markdown",
      "source": [
        "## De lista a conjunto sin repetidos"
      ],
      "metadata": {
        "id": "Q1QiXIqs9cAF"
      }
    },
    {
      "cell_type": "code",
      "source": [
        "num = [9, 2, 5, 7, 9, 2, 2, 7]\n",
        "num = list(set(num))\n",
        "num                             # num ahora es una lista"
      ],
      "metadata": {
        "colab": {
          "base_uri": "https://localhost:8080/"
        },
        "id": "R056C0ES9Ol9",
        "outputId": "c20542cc-7397-4f4b-88d2-86c21352aed3"
      },
      "execution_count": null,
      "outputs": [
        {
          "output_type": "execute_result",
          "data": {
            "text/plain": [
              "[9, 2, 5, 7]"
            ]
          },
          "metadata": {},
          "execution_count": 6
        }
      ]
    },
    {
      "cell_type": "markdown",
      "source": [
        "Ordenando la lista."
      ],
      "metadata": {
        "id": "wPXAbAr3-TOW"
      }
    },
    {
      "cell_type": "code",
      "source": [
        "num.sort()\n",
        "num"
      ],
      "metadata": {
        "colab": {
          "base_uri": "https://localhost:8080/"
        },
        "id": "oJ9z32TR-kA0",
        "outputId": "ca9e8d3d-ed42-4aa6-e5f5-70bd03784889"
      },
      "execution_count": null,
      "outputs": [
        {
          "output_type": "execute_result",
          "data": {
            "text/plain": [
              "[2, 5, 7, 9]"
            ]
          },
          "metadata": {},
          "execution_count": 7
        }
      ]
    },
    {
      "cell_type": "markdown",
      "source": [
        "## Funciones y métodos\n",
        "* Podemos listar los métodos con los que trabajan las estructuras de datos con `dir`\n",
        "    - `dir([])` para listas\n",
        "    - `dir(())` para tuplas\n",
        "    - `dir({})` para diccionarios\n",
        "    - `dir({1,})` para conjuntos\n",
        "    - `dir(range(5))` para rangos"
      ],
      "metadata": {
        "id": "UBPpx8WKfHFe"
      }
    },
    {
      "cell_type": "code",
      "source": [
        "dir(set())"
      ],
      "metadata": {
        "id": "preOEnpZfKAH",
        "outputId": "cbc9c523-b3cb-44fc-c647-6b82cd186c50",
        "colab": {
          "base_uri": "https://localhost:8080/"
        }
      },
      "execution_count": null,
      "outputs": [
        {
          "output_type": "execute_result",
          "data": {
            "text/plain": [
              "['__and__',\n",
              " '__class__',\n",
              " '__class_getitem__',\n",
              " '__contains__',\n",
              " '__delattr__',\n",
              " '__dir__',\n",
              " '__doc__',\n",
              " '__eq__',\n",
              " '__format__',\n",
              " '__ge__',\n",
              " '__getattribute__',\n",
              " '__gt__',\n",
              " '__hash__',\n",
              " '__iand__',\n",
              " '__init__',\n",
              " '__init_subclass__',\n",
              " '__ior__',\n",
              " '__isub__',\n",
              " '__iter__',\n",
              " '__ixor__',\n",
              " '__le__',\n",
              " '__len__',\n",
              " '__lt__',\n",
              " '__ne__',\n",
              " '__new__',\n",
              " '__or__',\n",
              " '__rand__',\n",
              " '__reduce__',\n",
              " '__reduce_ex__',\n",
              " '__repr__',\n",
              " '__ror__',\n",
              " '__rsub__',\n",
              " '__rxor__',\n",
              " '__setattr__',\n",
              " '__sizeof__',\n",
              " '__str__',\n",
              " '__sub__',\n",
              " '__subclasshook__',\n",
              " '__xor__',\n",
              " 'add',\n",
              " 'clear',\n",
              " 'copy',\n",
              " 'difference',\n",
              " 'difference_update',\n",
              " 'discard',\n",
              " 'intersection',\n",
              " 'intersection_update',\n",
              " 'isdisjoint',\n",
              " 'issubset',\n",
              " 'issuperset',\n",
              " 'pop',\n",
              " 'remove',\n",
              " 'symmetric_difference',\n",
              " 'symmetric_difference_update',\n",
              " 'union',\n",
              " 'update']"
            ]
          },
          "metadata": {},
          "execution_count": 8
        }
      ]
    },
    {
      "cell_type": "markdown",
      "source": [
        "### `union`\n",
        "* Une dos conjuntos\n",
        "* El operador `+` no funciona con conjuntos"
      ],
      "metadata": {
        "id": "z-fSJTYPhKkZ"
      }
    },
    {
      "cell_type": "code",
      "source": [
        "vocales = {'e', 'a', 'e'}\n",
        "consonantes = {'b', 'd', 'c'}\n",
        "letras = vocales.union(consonantes)\n",
        "letras"
      ],
      "metadata": {
        "id": "ceybgw7VhO6L",
        "outputId": "97519fb3-b223-4c63-ed19-8ae907ebbca1",
        "colab": {
          "base_uri": "https://localhost:8080/"
        }
      },
      "execution_count": null,
      "outputs": [
        {
          "output_type": "execute_result",
          "data": {
            "text/plain": [
              "{'a', 'b', 'c', 'd', 'e'}"
            ]
          },
          "metadata": {},
          "execution_count": 9
        }
      ]
    },
    {
      "cell_type": "markdown",
      "source": [
        "### `in`\n",
        "Operador de pertenencia."
      ],
      "metadata": {
        "id": "Y8kT4nlsLam2"
      }
    },
    {
      "cell_type": "code",
      "source": [
        "sabores = {'vainilla', 'nata', 'chocolate'}\n",
        "'fresa' in sabores"
      ],
      "metadata": {
        "id": "X2E9j3KELhk4",
        "outputId": "030970f2-3c25-4737-c700-ebfb1f53e0b5",
        "colab": {
          "base_uri": "https://localhost:8080/"
        }
      },
      "execution_count": null,
      "outputs": [
        {
          "output_type": "execute_result",
          "data": {
            "text/plain": [
              "False"
            ]
          },
          "metadata": {},
          "execution_count": 10
        }
      ]
    },
    {
      "cell_type": "markdown",
      "source": [
        "### `add`\n",
        "* Para añadir elementos\n",
        "* Se añaden sin ningún orden"
      ],
      "metadata": {
        "id": "4Oazls60L3eK"
      }
    },
    {
      "cell_type": "code",
      "source": [
        "sabores.add('fresa')\n",
        "sabores"
      ],
      "metadata": {
        "id": "NFVcpzE3L7ku",
        "outputId": "e87cd8c4-4233-40c8-9737-3f2a2dd13b02",
        "colab": {
          "base_uri": "https://localhost:8080/"
        }
      },
      "execution_count": null,
      "outputs": [
        {
          "output_type": "execute_result",
          "data": {
            "text/plain": [
              "{'chocolate', 'fresa', 'nata', 'vainilla'}"
            ]
          },
          "metadata": {},
          "execution_count": 11
        }
      ]
    },
    {
      "cell_type": "markdown",
      "source": [
        "### `remove`"
      ],
      "metadata": {
        "id": "qiBaDUIWMXqW"
      }
    },
    {
      "cell_type": "code",
      "source": [
        "sabores.remove('fresa')\n",
        "sabores"
      ],
      "metadata": {
        "id": "j74yJN0KMcMz",
        "outputId": "cd947e37-e0d0-4441-ee46-554f9ac9ef67",
        "colab": {
          "base_uri": "https://localhost:8080/"
        }
      },
      "execution_count": null,
      "outputs": [
        {
          "output_type": "execute_result",
          "data": {
            "text/plain": [
              "{'chocolate', 'nata', 'vainilla'}"
            ]
          },
          "metadata": {},
          "execution_count": 12
        }
      ]
    },
    {
      "cell_type": "markdown",
      "source": [
        "### `clear`\n",
        "Limpia completamente el conjunto."
      ],
      "metadata": {
        "id": "jzcv3f8rMq84"
      }
    },
    {
      "cell_type": "code",
      "source": [
        "sabores.clear()\n",
        "sabores             # set()  devuelve un conjunto vacío"
      ],
      "metadata": {
        "id": "z6Ne9uQ6MydB",
        "outputId": "19970b52-b7d5-4542-ab27-dd6766a045e3",
        "colab": {
          "base_uri": "https://localhost:8080/"
        }
      },
      "execution_count": null,
      "outputs": [
        {
          "output_type": "execute_result",
          "data": {
            "text/plain": [
              "set()"
            ]
          },
          "metadata": {},
          "execution_count": 13
        }
      ]
    },
    {
      "cell_type": "code",
      "source": [
        "type(sabores)"
      ],
      "metadata": {
        "id": "8OivulWOPDLk",
        "outputId": "ae093250-6eac-40db-89d2-9e193f848530",
        "colab": {
          "base_uri": "https://localhost:8080/"
        }
      },
      "execution_count": null,
      "outputs": [
        {
          "output_type": "execute_result",
          "data": {
            "text/plain": [
              "set"
            ]
          },
          "metadata": {},
          "execution_count": 14
        }
      ]
    },
    {
      "cell_type": "markdown",
      "source": [
        "### `del`\n",
        "Elimina completamente el objeto."
      ],
      "metadata": {
        "id": "zZSt5FsbTT6d"
      }
    },
    {
      "cell_type": "code",
      "source": [
        "del sabores\n",
        "#print(sabores)         # daría Error ya que el objeto no existe"
      ],
      "metadata": {
        "id": "hXCnrYMvTakJ"
      },
      "execution_count": null,
      "outputs": []
    }
  ]
}