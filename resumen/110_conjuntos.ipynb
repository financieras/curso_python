{
  "nbformat": 4,
  "nbformat_minor": 0,
  "metadata": {
    "colab": {
      "provenance": [],
      "authorship_tag": "ABX9TyPU0qQOXTFYcDy2oj5FPZ5D",
      "include_colab_link": true
    },
    "kernelspec": {
      "name": "python3",
      "display_name": "Python 3"
    },
    "language_info": {
      "name": "python"
    }
  },
  "cells": [
    {
      "cell_type": "markdown",
      "metadata": {
        "id": "view-in-github",
        "colab_type": "text"
      },
      "source": [
        "<a href=\"https://colab.research.google.com/github/financieras/curso_python/blob/main/resumen/110_conjuntos.ipynb\" target=\"_parent\"><img src=\"https://colab.research.google.com/assets/colab-badge.svg\" alt=\"Open In Colab\"/></a>"
      ]
    },
    {
      "cell_type": "markdown",
      "source": [
        "# Conjuntos `set`\n",
        "* Van entre llaves `{ }`\n",
        "* El orden no importa\n",
        "* No puede haber repetidos"
      ],
      "metadata": {
        "id": "GEd6dEb77fGS"
      }
    },
    {
      "cell_type": "code",
      "source": [
        "sabores = {'vainilla', 'nata', 'chocolate'}\n",
        "sabores"
      ],
      "metadata": {
        "colab": {
          "base_uri": "https://localhost:8080/"
        },
        "id": "zXYtYOgM7w5Z",
        "outputId": "a0e9a57d-fb78-44cc-b7a3-e46dd80b35cd"
      },
      "execution_count": null,
      "outputs": [
        {
          "output_type": "execute_result",
          "data": {
            "text/plain": [
              "{'chocolate', 'nata', 'vainilla'}"
            ]
          },
          "metadata": {},
          "execution_count": 14
        }
      ]
    },
    {
      "cell_type": "code",
      "source": [
        "type(sabores)"
      ],
      "metadata": {
        "colab": {
          "base_uri": "https://localhost:8080/"
        },
        "id": "LiuBPXiU7-a9",
        "outputId": "a24ecea9-643f-493e-fb6e-b9fc94d66a27"
      },
      "execution_count": null,
      "outputs": [
        {
          "output_type": "execute_result",
          "data": {
            "text/plain": [
              "set"
            ]
          },
          "metadata": {},
          "execution_count": 15
        }
      ]
    },
    {
      "cell_type": "markdown",
      "source": [
        "## Conjunto vacío"
      ],
      "metadata": {
        "id": "sZiOe5T09Emc"
      }
    },
    {
      "cell_type": "code",
      "source": [
        "a = {}\n",
        "a"
      ],
      "metadata": {
        "colab": {
          "base_uri": "https://localhost:8080/"
        },
        "id": "RBOwd_qB9Kap",
        "outputId": "7befa006-be05-4904-9d86-78c99aee3ab8"
      },
      "execution_count": 2,
      "outputs": [
        {
          "output_type": "execute_result",
          "data": {
            "text/plain": [
              "{}"
            ]
          },
          "metadata": {},
          "execution_count": 2
        }
      ]
    },
    {
      "cell_type": "markdown",
      "source": [
        "## De lista a conjunto"
      ],
      "metadata": {
        "id": "v3RbqXGb99sJ"
      }
    },
    {
      "cell_type": "code",
      "source": [
        "num = [9, 2, 5, 7, 9, 2, 2, 7]\n",
        "num = set(num)\n",
        "num                             # num ahora es un conjunto"
      ],
      "metadata": {
        "colab": {
          "base_uri": "https://localhost:8080/"
        },
        "id": "zB3FxTsT-CYy",
        "outputId": "b2a135e2-7dc7-4fe9-8152-8e8095082d12"
      },
      "execution_count": null,
      "outputs": [
        {
          "output_type": "execute_result",
          "data": {
            "text/plain": [
              "{2, 5, 7, 9}"
            ]
          },
          "metadata": {},
          "execution_count": 8
        }
      ]
    },
    {
      "cell_type": "markdown",
      "source": [
        "## De lista a conjunto eliminando repetidos"
      ],
      "metadata": {
        "id": "Q1QiXIqs9cAF"
      }
    },
    {
      "cell_type": "code",
      "source": [
        "num = [9, 2, 5, 7, 9, 2, 2, 7]\n",
        "num = list(set(num))\n",
        "num                             # num ahora es una lista"
      ],
      "metadata": {
        "colab": {
          "base_uri": "https://localhost:8080/"
        },
        "id": "R056C0ES9Ol9",
        "outputId": "f13cbda7-ea65-4dd7-8a43-122feec7921b"
      },
      "execution_count": null,
      "outputs": [
        {
          "output_type": "execute_result",
          "data": {
            "text/plain": [
              "[9, 2, 5, 7]"
            ]
          },
          "metadata": {},
          "execution_count": 9
        }
      ]
    },
    {
      "cell_type": "markdown",
      "source": [
        "Ordenando la lista."
      ],
      "metadata": {
        "id": "wPXAbAr3-TOW"
      }
    },
    {
      "cell_type": "code",
      "source": [
        "num.sort()\n",
        "num"
      ],
      "metadata": {
        "colab": {
          "base_uri": "https://localhost:8080/"
        },
        "id": "oJ9z32TR-kA0",
        "outputId": "9833e2f2-5335-4032-ce24-f4fc4d039c19"
      },
      "execution_count": null,
      "outputs": [
        {
          "output_type": "execute_result",
          "data": {
            "text/plain": [
              "[2, 5, 7, 9]"
            ]
          },
          "metadata": {},
          "execution_count": 12
        }
      ]
    },
    {
      "cell_type": "markdown",
      "source": [
        "## Métodos\n",
        "* Podemos listar los métodos con los que trabajan las estructuras de datos con `dir`\n",
        "    - `dir([])` para listas\n",
        "    - `dir(())` para tuplas\n",
        "    - `dir({})` para diccionarios\n",
        "    - `dir({1,})` para conjuntos\n",
        "    - `dir(range(5))` para rangos"
      ],
      "metadata": {
        "id": "UBPpx8WKfHFe"
      }
    },
    {
      "cell_type": "code",
      "source": [
        "dir(set())"
      ],
      "metadata": {
        "id": "preOEnpZfKAH",
        "outputId": "18b531e6-1539-4cae-f489-75270eda0fde",
        "colab": {
          "base_uri": "https://localhost:8080/"
        }
      },
      "execution_count": 14,
      "outputs": [
        {
          "output_type": "execute_result",
          "data": {
            "text/plain": [
              "['__and__',\n",
              " '__class__',\n",
              " '__class_getitem__',\n",
              " '__contains__',\n",
              " '__delattr__',\n",
              " '__dir__',\n",
              " '__doc__',\n",
              " '__eq__',\n",
              " '__format__',\n",
              " '__ge__',\n",
              " '__getattribute__',\n",
              " '__gt__',\n",
              " '__hash__',\n",
              " '__iand__',\n",
              " '__init__',\n",
              " '__init_subclass__',\n",
              " '__ior__',\n",
              " '__isub__',\n",
              " '__iter__',\n",
              " '__ixor__',\n",
              " '__le__',\n",
              " '__len__',\n",
              " '__lt__',\n",
              " '__ne__',\n",
              " '__new__',\n",
              " '__or__',\n",
              " '__rand__',\n",
              " '__reduce__',\n",
              " '__reduce_ex__',\n",
              " '__repr__',\n",
              " '__ror__',\n",
              " '__rsub__',\n",
              " '__rxor__',\n",
              " '__setattr__',\n",
              " '__sizeof__',\n",
              " '__str__',\n",
              " '__sub__',\n",
              " '__subclasshook__',\n",
              " '__xor__',\n",
              " 'add',\n",
              " 'clear',\n",
              " 'copy',\n",
              " 'difference',\n",
              " 'difference_update',\n",
              " 'discard',\n",
              " 'intersection',\n",
              " 'intersection_update',\n",
              " 'isdisjoint',\n",
              " 'issubset',\n",
              " 'issuperset',\n",
              " 'pop',\n",
              " 'remove',\n",
              " 'symmetric_difference',\n",
              " 'symmetric_difference_update',\n",
              " 'union',\n",
              " 'update']"
            ]
          },
          "metadata": {},
          "execution_count": 14
        }
      ]
    },
    {
      "cell_type": "markdown",
      "source": [
        "### `union`\n",
        "* Une dos conjuntos\n",
        "* El operador `+` no funciona con conjuntos"
      ],
      "metadata": {
        "id": "z-fSJTYPhKkZ"
      }
    },
    {
      "cell_type": "code",
      "source": [
        "vocales = {'e', 'a', 'e'}\n",
        "consonantes = {'b', 'd', 'c'}\n",
        "letras = vocales.union(consonantes)\n",
        "letras"
      ],
      "metadata": {
        "id": "ceybgw7VhO6L",
        "outputId": "f9fa87ab-bf07-44d7-9f38-55fb693d6d06",
        "colab": {
          "base_uri": "https://localhost:8080/"
        }
      },
      "execution_count": 19,
      "outputs": [
        {
          "output_type": "execute_result",
          "data": {
            "text/plain": [
              "{'a', 'b', 'c', 'd', 'e'}"
            ]
          },
          "metadata": {},
          "execution_count": 19
        }
      ]
    }
  ]
}