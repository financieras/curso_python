{
  "nbformat": 4,
  "nbformat_minor": 0,
  "metadata": {
    "colab": {
      "provenance": [],
      "authorship_tag": "ABX9TyN9cYPSiv6qTO7IxL3RfzMR",
      "include_colab_link": true
    },
    "kernelspec": {
      "name": "python3",
      "display_name": "Python 3"
    },
    "language_info": {
      "name": "python"
    }
  },
  "cells": [
    {
      "cell_type": "markdown",
      "metadata": {
        "id": "view-in-github",
        "colab_type": "text"
      },
      "source": [
        "<a href=\"https://colab.research.google.com/github/financieras/curso_python/blob/main/resumen/030_strings.ipynb\" target=\"_parent\"><img src=\"https://colab.research.google.com/assets/colab-badge.svg\" alt=\"Open In Colab\"/></a>"
      ]
    },
    {
      "cell_type": "markdown",
      "source": [
        "# Strings"
      ],
      "metadata": {
        "id": "mngZa0hJnKAr"
      }
    },
    {
      "cell_type": "markdown",
      "source": [
        "## Python es case-sensitive\n",
        "* Python es un lenguaje de programación que distingue entre mayúsculas y minúsculas."
      ],
      "metadata": {
        "id": "JiLhmotPnRpH"
      }
    },
    {
      "cell_type": "code",
      "source": [
        "'Hola' == 'hola'   # False. El doble igual == compara, no confundir con solo uno"
      ],
      "metadata": {
        "colab": {
          "base_uri": "https://localhost:8080/"
        },
        "id": "UqMk3U6Yn0E6",
        "outputId": "0e170efc-58b9-46d9-9485-beb8b8a2caf9"
      },
      "execution_count": null,
      "outputs": [
        {
          "output_type": "execute_result",
          "data": {
            "text/plain": [
              "False"
            ]
          },
          "metadata": {},
          "execution_count": 15
        }
      ]
    },
    {
      "cell_type": "markdown",
      "source": [
        "### Funciones `lower()` y `upper()`\n",
        "* Podemos convertir todo a mayúsculas o a minúsuclas."
      ],
      "metadata": {
        "id": "MpuB1ksroSqS"
      }
    },
    {
      "cell_type": "code",
      "source": [
        "\"Buenos Aires\".lower()"
      ],
      "metadata": {
        "colab": {
          "base_uri": "https://localhost:8080/",
          "height": 36
        },
        "id": "ehUuTvLgotfY",
        "outputId": "f12821ad-8fb5-4f50-aeaf-fc6b3e09bad6"
      },
      "execution_count": null,
      "outputs": [
        {
          "output_type": "execute_result",
          "data": {
            "text/plain": [
              "'buenos aires'"
            ],
            "application/vnd.google.colaboratory.intrinsic+json": {
              "type": "string"
            }
          },
          "metadata": {},
          "execution_count": 18
        }
      ]
    },
    {
      "cell_type": "markdown",
      "source": [
        "* Esto permite comparar strings sin importar como van escritos."
      ],
      "metadata": {
        "id": "tLUhdtKAxr6N"
      }
    },
    {
      "cell_type": "code",
      "source": [
        "# Parándolo todo a mayúsculas\n",
        "'buenos aires'.upper() == \"Buenos Aires\".upper()    # True"
      ],
      "metadata": {
        "colab": {
          "base_uri": "https://localhost:8080/"
        },
        "id": "WccfsoQjpMKN",
        "outputId": "b1264ae1-5766-4dd0-f99d-aa21a1129109"
      },
      "execution_count": null,
      "outputs": [
        {
          "output_type": "execute_result",
          "data": {
            "text/plain": [
              "True"
            ]
          },
          "metadata": {},
          "execution_count": 20
        }
      ]
    },
    {
      "cell_type": "markdown",
      "source": [
        "## Concatenar con `+`"
      ],
      "metadata": {
        "id": "f9063i8Sy8Sn"
      }
    },
    {
      "cell_type": "code",
      "source": [
        "2 + 3               # el signo + con números suma"
      ],
      "metadata": {
        "colab": {
          "base_uri": "https://localhost:8080/"
        },
        "id": "m9CEBCYBz8kN",
        "outputId": "a1ab41bd-a938-4eee-fb7c-475fe1989686"
      },
      "execution_count": null,
      "outputs": [
        {
          "output_type": "execute_result",
          "data": {
            "text/plain": [
              "5"
            ]
          },
          "metadata": {},
          "execution_count": 27
        }
      ]
    },
    {
      "cell_type": "code",
      "source": [
        "\"Villa\" + \"nueva\"   # el signo + con strings concatena"
      ],
      "metadata": {
        "colab": {
          "base_uri": "https://localhost:8080/",
          "height": 36
        },
        "id": "EwrcqT61zBk6",
        "outputId": "05e0defc-eef4-4541-d89e-74bdfd8f7871"
      },
      "execution_count": null,
      "outputs": [
        {
          "output_type": "execute_result",
          "data": {
            "text/plain": [
              "'Villanueva'"
            ],
            "application/vnd.google.colaboratory.intrinsic+json": {
              "type": "string"
            }
          },
          "metadata": {},
          "execution_count": 26
        }
      ]
    }
  ]
}