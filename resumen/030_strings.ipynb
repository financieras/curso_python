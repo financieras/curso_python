{
  "nbformat": 4,
  "nbformat_minor": 0,
  "metadata": {
    "colab": {
      "provenance": [],
      "authorship_tag": "ABX9TyOp6rtHOirI5nrKsFx0o3HZ",
      "include_colab_link": true
    },
    "kernelspec": {
      "name": "python3",
      "display_name": "Python 3"
    },
    "language_info": {
      "name": "python"
    }
  },
  "cells": [
    {
      "cell_type": "markdown",
      "metadata": {
        "id": "view-in-github",
        "colab_type": "text"
      },
      "source": [
        "<a href=\"https://colab.research.google.com/github/financieras/curso_python/blob/main/resumen/030_strings.ipynb\" target=\"_parent\"><img src=\"https://colab.research.google.com/assets/colab-badge.svg\" alt=\"Open In Colab\"/></a>"
      ]
    },
    {
      "cell_type": "markdown",
      "source": [
        "# Strings"
      ],
      "metadata": {
        "id": "mngZa0hJnKAr"
      }
    },
    {
      "cell_type": "markdown",
      "source": [
        "## Python es case-sensitive\n",
        "* Python es un lenguaje de programación que distingue entre mayúsculas y minúsculas."
      ],
      "metadata": {
        "id": "JiLhmotPnRpH"
      }
    },
    {
      "cell_type": "code",
      "source": [
        "'Hola' == 'hola'   # False. El doble igual == compara, no confundir con solo uno"
      ],
      "metadata": {
        "colab": {
          "base_uri": "https://localhost:8080/"
        },
        "id": "UqMk3U6Yn0E6",
        "outputId": "0e170efc-58b9-46d9-9485-beb8b8a2caf9"
      },
      "execution_count": null,
      "outputs": [
        {
          "output_type": "execute_result",
          "data": {
            "text/plain": [
              "False"
            ]
          },
          "metadata": {},
          "execution_count": 15
        }
      ]
    },
    {
      "cell_type": "markdown",
      "source": [
        "### Funciones `lower()` y `upper()`\n",
        "* Podemos convertir todo a mayúsculas o a minúsuclas."
      ],
      "metadata": {
        "id": "MpuB1ksroSqS"
      }
    },
    {
      "cell_type": "code",
      "source": [
        "\"Buenos Aires\".lower()"
      ],
      "metadata": {
        "colab": {
          "base_uri": "https://localhost:8080/",
          "height": 35
        },
        "id": "ehUuTvLgotfY",
        "outputId": "058cb901-6ea1-4b41-e221-b0b37231f777"
      },
      "execution_count": 1,
      "outputs": [
        {
          "output_type": "execute_result",
          "data": {
            "text/plain": [
              "'buenos aires'"
            ],
            "application/vnd.google.colaboratory.intrinsic+json": {
              "type": "string"
            }
          },
          "metadata": {},
          "execution_count": 1
        }
      ]
    },
    {
      "cell_type": "code",
      "source": [
        "\"Buenos Aires\".upper()"
      ],
      "metadata": {
        "id": "s8V3ANoNf89G",
        "outputId": "16ad48b6-7372-43f7-bfe4-dc2bf9ab2271",
        "colab": {
          "base_uri": "https://localhost:8080/",
          "height": 35
        }
      },
      "execution_count": 2,
      "outputs": [
        {
          "output_type": "execute_result",
          "data": {
            "text/plain": [
              "'BUENOS AIRES'"
            ],
            "application/vnd.google.colaboratory.intrinsic+json": {
              "type": "string"
            }
          },
          "metadata": {},
          "execution_count": 2
        }
      ]
    },
    {
      "cell_type": "markdown",
      "source": [
        "* Esto permite comparar strings sin importar como van escritos."
      ],
      "metadata": {
        "id": "tLUhdtKAxr6N"
      }
    },
    {
      "cell_type": "code",
      "source": [
        "# Parándolo todo a mayúsculas\n",
        "'buenos aires'.upper() == \"Buenos Aires\".upper()    # True"
      ],
      "metadata": {
        "colab": {
          "base_uri": "https://localhost:8080/"
        },
        "id": "WccfsoQjpMKN",
        "outputId": "b1264ae1-5766-4dd0-f99d-aa21a1129109"
      },
      "execution_count": null,
      "outputs": [
        {
          "output_type": "execute_result",
          "data": {
            "text/plain": [
              "True"
            ]
          },
          "metadata": {},
          "execution_count": 20
        }
      ]
    },
    {
      "cell_type": "markdown",
      "source": [
        "### Funciones `capitalize` y `title`"
      ],
      "metadata": {
        "id": "7Vfe4ZSCgikH"
      }
    },
    {
      "cell_type": "code",
      "source": [
        "\"new york\".title()              # pone la 1ª en mayúsculas de todas las palabras"
      ],
      "metadata": {
        "id": "gao4mZy5gweR",
        "outputId": "b396b29c-35ae-47f4-a52e-49e6eca1e994",
        "colab": {
          "base_uri": "https://localhost:8080/",
          "height": 35
        }
      },
      "execution_count": 3,
      "outputs": [
        {
          "output_type": "execute_result",
          "data": {
            "text/plain": [
              "'New York'"
            ],
            "application/vnd.google.colaboratory.intrinsic+json": {
              "type": "string"
            }
          },
          "metadata": {},
          "execution_count": 3
        }
      ]
    },
    {
      "cell_type": "code",
      "source": [
        "\"madrid musical\".capitalize()   # pone la 1ª en mayúsculas de la 1ª palabra"
      ],
      "metadata": {
        "id": "z53wSRRPg6RH",
        "outputId": "7076d2dc-4879-48e4-c421-62d0ce5866e8",
        "colab": {
          "base_uri": "https://localhost:8080/",
          "height": 35
        }
      },
      "execution_count": 7,
      "outputs": [
        {
          "output_type": "execute_result",
          "data": {
            "text/plain": [
              "'Madrid musical'"
            ],
            "application/vnd.google.colaboratory.intrinsic+json": {
              "type": "string"
            }
          },
          "metadata": {},
          "execution_count": 7
        }
      ]
    },
    {
      "cell_type": "markdown",
      "source": [
        "### Función `replace`"
      ],
      "metadata": {
        "id": "KNd7ZXbGhzsT"
      }
    },
    {
      "cell_type": "code",
      "source": [
        "\"Hola Madrid\".replace('H', 'M')"
      ],
      "metadata": {
        "id": "Jsyl3F2vh3fM",
        "outputId": "cf99a433-8571-4ed0-bc88-60f5d2cf6c0e",
        "colab": {
          "base_uri": "https://localhost:8080/",
          "height": 35
        }
      },
      "execution_count": 8,
      "outputs": [
        {
          "output_type": "execute_result",
          "data": {
            "text/plain": [
              "'Mola Madrid'"
            ],
            "application/vnd.google.colaboratory.intrinsic+json": {
              "type": "string"
            }
          },
          "metadata": {},
          "execution_count": 8
        }
      ]
    },
    {
      "cell_type": "code",
      "source": [
        "'dificilmente'.replace('dificil', 'fácil')"
      ],
      "metadata": {
        "id": "wZeOm19KiD-q",
        "outputId": "34912cec-feab-4163-9488-e7c5d7fd7dbe",
        "colab": {
          "base_uri": "https://localhost:8080/",
          "height": 35
        }
      },
      "execution_count": 9,
      "outputs": [
        {
          "output_type": "execute_result",
          "data": {
            "text/plain": [
              "'fácilmente'"
            ],
            "application/vnd.google.colaboratory.intrinsic+json": {
              "type": "string"
            }
          },
          "metadata": {},
          "execution_count": 9
        }
      ]
    },
    {
      "cell_type": "markdown",
      "source": [
        "### Función `count`"
      ],
      "metadata": {
        "id": "8wKBLadHkDNU"
      }
    },
    {
      "cell_type": "code",
      "source": [
        "'Americana'.count('a')"
      ],
      "metadata": {
        "id": "TsNfKoQLkH0y",
        "outputId": "e3dca47d-25e1-412c-d604-a610675a36bd",
        "colab": {
          "base_uri": "https://localhost:8080/"
        }
      },
      "execution_count": 15,
      "outputs": [
        {
          "output_type": "execute_result",
          "data": {
            "text/plain": [
              "2"
            ]
          },
          "metadata": {},
          "execution_count": 15
        }
      ]
    },
    {
      "cell_type": "markdown",
      "source": [
        "### Función `len`\n",
        "Cuenta los caracteres incluidos los espacios."
      ],
      "metadata": {
        "id": "fRZWAgswkaVk"
      }
    },
    {
      "cell_type": "code",
      "source": [
        "len('Hola Mundo')"
      ],
      "metadata": {
        "id": "flVrVzF5kfAU",
        "outputId": "8591a7ac-3d97-4d03-d3a4-fac22aa99da8",
        "colab": {
          "base_uri": "https://localhost:8080/"
        }
      },
      "execution_count": 16,
      "outputs": [
        {
          "output_type": "execute_result",
          "data": {
            "text/plain": [
              "10"
            ]
          },
          "metadata": {},
          "execution_count": 16
        }
      ]
    },
    {
      "cell_type": "markdown",
      "source": [
        "### Método `split`\n",
        "* Divide un string\n",
        "* Por defecto separa por espacios\n",
        "* Da como resultado una lista de strings"
      ],
      "metadata": {
        "id": "1yvdrHFHldj7"
      }
    },
    {
      "cell_type": "code",
      "source": [
        "'Santiago de Compostela'.split()                # separando por espacio"
      ],
      "metadata": {
        "id": "3KBKmiwplsZL",
        "outputId": "4c9ed478-c0be-4413-de98-5346db96ffb7",
        "colab": {
          "base_uri": "https://localhost:8080/"
        }
      },
      "execution_count": 18,
      "outputs": [
        {
          "output_type": "execute_result",
          "data": {
            "text/plain": [
              "['Santiago', 'de', 'Compostela']"
            ]
          },
          "metadata": {},
          "execution_count": 18
        }
      ]
    },
    {
      "cell_type": "code",
      "source": [
        "\"primavera,verano,otoño,invierno\".split(\",\")    # separando por coma"
      ],
      "metadata": {
        "id": "pymMV4Yjmg3M",
        "outputId": "c88544f3-d137-4cea-b644-18d24407e08f",
        "colab": {
          "base_uri": "https://localhost:8080/"
        }
      },
      "execution_count": 21,
      "outputs": [
        {
          "output_type": "execute_result",
          "data": {
            "text/plain": [
              "['primavera', 'verano', 'otoño', 'invierno']"
            ]
          },
          "metadata": {},
          "execution_count": 21
        }
      ]
    },
    {
      "cell_type": "markdown",
      "source": [
        "### Método `find`\n",
        "* Da el índex donde encuentra por primera vez el caracter buscado.\n",
        "* El index siempre comienza por cero.\n",
        "\n",
        "\n",
        "|   |   |   |   |   |   |   |   |   |   |\n",
        "|---|---|---|---|---|---|---|---|---|---|\n",
        "| H | o | l | a |   | M | u | n | d | o |\n",
        "| 0 | 1 | 2 | 3 | 4 | 5 | 6 | 7 | 8 | 9 |"
      ],
      "metadata": {
        "id": "dQTujSXUnU81"
      }
    },
    {
      "cell_type": "code",
      "source": [
        "'Hola Mundo'.find('o')"
      ],
      "metadata": {
        "id": "n6sHJhE5niOu",
        "outputId": "54da9212-31c2-4b20-8fa9-58459ef13a1b",
        "colab": {
          "base_uri": "https://localhost:8080/"
        }
      },
      "execution_count": 22,
      "outputs": [
        {
          "output_type": "execute_result",
          "data": {
            "text/plain": [
              "1"
            ]
          },
          "metadata": {},
          "execution_count": 22
        }
      ]
    },
    {
      "cell_type": "markdown",
      "source": [
        "## Métodos encadenados"
      ],
      "metadata": {
        "id": "4g9zJ0z1jISf"
      }
    },
    {
      "cell_type": "code",
      "source": [
        "frase = \"carrera espacial\"\n",
        "print(frase.replace('carrera', 'estación').upper().count('A'))"
      ],
      "metadata": {
        "id": "p3cIhPSTjMhg",
        "outputId": "12b325e3-6504-4cf7-d0c6-a01dcd1c5a63",
        "colab": {
          "base_uri": "https://localhost:8080/"
        }
      },
      "execution_count": 13,
      "outputs": [
        {
          "output_type": "stream",
          "name": "stdout",
          "text": [
            "3\n"
          ]
        }
      ]
    },
    {
      "cell_type": "markdown",
      "source": [
        "## Concatenar con `+`"
      ],
      "metadata": {
        "id": "f9063i8Sy8Sn"
      }
    },
    {
      "cell_type": "code",
      "source": [
        "2 + 3               # el signo + con números suma"
      ],
      "metadata": {
        "colab": {
          "base_uri": "https://localhost:8080/"
        },
        "id": "m9CEBCYBz8kN",
        "outputId": "a1ab41bd-a938-4eee-fb7c-475fe1989686"
      },
      "execution_count": null,
      "outputs": [
        {
          "output_type": "execute_result",
          "data": {
            "text/plain": [
              "5"
            ]
          },
          "metadata": {},
          "execution_count": 27
        }
      ]
    },
    {
      "cell_type": "code",
      "source": [
        "\"Villa\" + \"nueva\"   # el signo + con strings concatena"
      ],
      "metadata": {
        "colab": {
          "base_uri": "https://localhost:8080/",
          "height": 36
        },
        "id": "EwrcqT61zBk6",
        "outputId": "05e0defc-eef4-4541-d89e-74bdfd8f7871"
      },
      "execution_count": null,
      "outputs": [
        {
          "output_type": "execute_result",
          "data": {
            "text/plain": [
              "'Villanueva'"
            ],
            "application/vnd.google.colaboratory.intrinsic+json": {
              "type": "string"
            }
          },
          "metadata": {},
          "execution_count": 26
        }
      ]
    },
    {
      "cell_type": "code",
      "source": [
        "saludo = \"hello\" + \" \" + \"world\"\n",
        "print(saludo)"
      ],
      "metadata": {
        "id": "CSEbTkERu-X-",
        "outputId": "f7ecd1b9-43be-451a-ed22-c7624417d556",
        "colab": {
          "base_uri": "https://localhost:8080/"
        }
      },
      "execution_count": null,
      "outputs": [
        {
          "output_type": "stream",
          "name": "stdout",
          "text": [
            "hello world\n"
          ]
        }
      ]
    },
    {
      "cell_type": "markdown",
      "source": [
        "## Apostrofes"
      ],
      "metadata": {
        "id": "AEtBA7F0qgs1"
      }
    },
    {
      "cell_type": "code",
      "source": [
        "mystring = \"Don't worry about apostrophes\"\n",
        "print(mystring)"
      ],
      "metadata": {
        "id": "KN6c-46QqkNk",
        "outputId": "8d4da727-ea92-42d6-fed0-4ffa9f83ded5",
        "colab": {
          "base_uri": "https://localhost:8080/"
        }
      },
      "execution_count": null,
      "outputs": [
        {
          "output_type": "stream",
          "name": "stdout",
          "text": [
            "Don't worry about apostrophes\n"
          ]
        }
      ]
    },
    {
      "cell_type": "code",
      "source": [
        "#'I'm a student'        # Esto produce error\n",
        "\"I'm a student\"         # Esto es correcto"
      ],
      "metadata": {
        "id": "20aZm3ZariT1",
        "outputId": "332f0c60-6f2c-4af6-9ad6-d5d0a63d2a3f",
        "colab": {
          "base_uri": "https://localhost:8080/",
          "height": 36
        }
      },
      "execution_count": null,
      "outputs": [
        {
          "output_type": "execute_result",
          "data": {
            "text/plain": [
              "\"I'm a student\""
            ],
            "application/vnd.google.colaboratory.intrinsic+json": {
              "type": "string"
            }
          },
          "metadata": {},
          "execution_count": 3
        }
      ]
    },
    {
      "cell_type": "markdown",
      "source": [
        "## Indexing"
      ],
      "metadata": {
        "id": "ppOBYwBcpzmI"
      }
    },
    {
      "cell_type": "code",
      "source": [
        "frase = \"Hola Mundo\"\n",
        "frase[0]                # primera letra"
      ],
      "metadata": {
        "id": "kvQBh3HKp9UM",
        "outputId": "5759a0a7-fa1a-4e4c-b3d8-7836953a359a",
        "colab": {
          "base_uri": "https://localhost:8080/",
          "height": 35
        }
      },
      "execution_count": 23,
      "outputs": [
        {
          "output_type": "execute_result",
          "data": {
            "text/plain": [
              "'H'"
            ],
            "application/vnd.google.colaboratory.intrinsic+json": {
              "type": "string"
            }
          },
          "metadata": {},
          "execution_count": 23
        }
      ]
    },
    {
      "cell_type": "code",
      "source": [
        "frase[-1]               # última letra"
      ],
      "metadata": {
        "id": "D2iAlJ48qHlH",
        "outputId": "a1fb9030-9d31-4dc1-f75d-a17bda0133be",
        "colab": {
          "base_uri": "https://localhost:8080/",
          "height": 35
        }
      },
      "execution_count": 24,
      "outputs": [
        {
          "output_type": "execute_result",
          "data": {
            "text/plain": [
              "'o'"
            ],
            "application/vnd.google.colaboratory.intrinsic+json": {
              "type": "string"
            }
          },
          "metadata": {},
          "execution_count": 24
        }
      ]
    },
    {
      "cell_type": "code",
      "source": [
        "frase[len(frase)-1]     # última letra"
      ],
      "metadata": {
        "id": "U1_N-vNVqUvz",
        "outputId": "85141b38-fe48-441c-e010-bde8894c0132",
        "colab": {
          "base_uri": "https://localhost:8080/",
          "height": 35
        }
      },
      "execution_count": 26,
      "outputs": [
        {
          "output_type": "execute_result",
          "data": {
            "text/plain": [
              "'o'"
            ],
            "application/vnd.google.colaboratory.intrinsic+json": {
              "type": "string"
            }
          },
          "metadata": {},
          "execution_count": 26
        }
      ]
    },
    {
      "cell_type": "markdown",
      "source": [
        "## Slicing"
      ],
      "metadata": {
        "id": "0VU9uXa3p34Y"
      }
    },
    {
      "cell_type": "code",
      "source": [
        "frase = \"Hola Mundo\"\n",
        "frase[0:4]              # Hola, de 0 a 4"
      ],
      "metadata": {
        "id": "Nc0YfCzGqtdw",
        "outputId": "e44dc70b-c292-4b61-f21a-db3ac49202cb",
        "colab": {
          "base_uri": "https://localhost:8080/",
          "height": 35
        }
      },
      "execution_count": 44,
      "outputs": [
        {
          "output_type": "execute_result",
          "data": {
            "text/plain": [
              "'Hola'"
            ],
            "application/vnd.google.colaboratory.intrinsic+json": {
              "type": "string"
            }
          },
          "metadata": {},
          "execution_count": 44
        }
      ]
    },
    {
      "cell_type": "code",
      "source": [
        "frase[:4]               # Hola, de inicio hasta el 4"
      ],
      "metadata": {
        "id": "3Y0DglB0rK4V",
        "outputId": "7679d2a5-dee2-4f73-9afb-e730e0ee17d1",
        "colab": {
          "base_uri": "https://localhost:8080/",
          "height": 35
        }
      },
      "execution_count": 31,
      "outputs": [
        {
          "output_type": "execute_result",
          "data": {
            "text/plain": [
              "'Hola'"
            ],
            "application/vnd.google.colaboratory.intrinsic+json": {
              "type": "string"
            }
          },
          "metadata": {},
          "execution_count": 31
        }
      ]
    },
    {
      "cell_type": "code",
      "source": [
        "frase[5:10]             # Mundo, de 5 a 10"
      ],
      "metadata": {
        "id": "p8aLHBWhq4Ru",
        "outputId": "6f417d13-b1b7-4e84-b1ad-192b11dfd349",
        "colab": {
          "base_uri": "https://localhost:8080/",
          "height": 35
        }
      },
      "execution_count": 30,
      "outputs": [
        {
          "output_type": "execute_result",
          "data": {
            "text/plain": [
              "'Mundo'"
            ],
            "application/vnd.google.colaboratory.intrinsic+json": {
              "type": "string"
            }
          },
          "metadata": {},
          "execution_count": 30
        }
      ]
    },
    {
      "cell_type": "code",
      "source": [
        "frase[5:]             # Mundo, de 5 hasta el final"
      ],
      "metadata": {
        "id": "qF9LL2_-rFEG",
        "outputId": "01ae6df0-0e44-4bf0-9678-220373f9022b",
        "colab": {
          "base_uri": "https://localhost:8080/",
          "height": 35
        }
      },
      "execution_count": 33,
      "outputs": [
        {
          "output_type": "execute_result",
          "data": {
            "text/plain": [
              "'Mundo'"
            ],
            "application/vnd.google.colaboratory.intrinsic+json": {
              "type": "string"
            }
          },
          "metadata": {},
          "execution_count": 33
        }
      ]
    },
    {
      "cell_type": "code",
      "source": [
        "frase[2:8]             # la Mun, comenzando en 2 y hasta 8"
      ],
      "metadata": {
        "id": "bivIiPnurUPV",
        "outputId": "3138d27d-e23a-4e33-8377-65b56222986c",
        "colab": {
          "base_uri": "https://localhost:8080/",
          "height": 35
        }
      },
      "execution_count": 34,
      "outputs": [
        {
          "output_type": "execute_result",
          "data": {
            "text/plain": [
              "'la Mun'"
            ],
            "application/vnd.google.colaboratory.intrinsic+json": {
              "type": "string"
            }
          },
          "metadata": {},
          "execution_count": 34
        }
      ]
    },
    {
      "cell_type": "code",
      "source": [
        "frase[1:8:3]             # o n, con saltos de 3 en 3"
      ],
      "metadata": {
        "id": "LtPMne-ztKZy",
        "outputId": "99cced0c-1b34-4584-a15d-99c02c92c910",
        "colab": {
          "base_uri": "https://localhost:8080/",
          "height": 35
        }
      },
      "execution_count": 49,
      "outputs": [
        {
          "output_type": "execute_result",
          "data": {
            "text/plain": [
              "'o n'"
            ],
            "application/vnd.google.colaboratory.intrinsic+json": {
              "type": "string"
            }
          },
          "metadata": {},
          "execution_count": 49
        }
      ]
    },
    {
      "cell_type": "code",
      "source": [
        "frase[:-2]              # Hola Mun, de inicio hasta -2"
      ],
      "metadata": {
        "id": "_Voq3j6TriRk",
        "outputId": "e169b68d-767a-4f3b-c0b3-d9cede186df7",
        "colab": {
          "base_uri": "https://localhost:8080/",
          "height": 35
        }
      },
      "execution_count": 36,
      "outputs": [
        {
          "output_type": "execute_result",
          "data": {
            "text/plain": [
              "'Hola Mun'"
            ],
            "application/vnd.google.colaboratory.intrinsic+json": {
              "type": "string"
            }
          },
          "metadata": {},
          "execution_count": 36
        }
      ]
    },
    {
      "cell_type": "code",
      "source": [
        "frase[:]                # todo"
      ],
      "metadata": {
        "id": "ZCC5OSJvrvVr",
        "outputId": "28508b29-0cb2-4ad5-9abd-73852aeca1c8",
        "colab": {
          "base_uri": "https://localhost:8080/",
          "height": 35
        }
      },
      "execution_count": 39,
      "outputs": [
        {
          "output_type": "execute_result",
          "data": {
            "text/plain": [
              "'Hola Mundo'"
            ],
            "application/vnd.google.colaboratory.intrinsic+json": {
              "type": "string"
            }
          },
          "metadata": {},
          "execution_count": 39
        }
      ]
    },
    {
      "cell_type": "code",
      "source": [
        "copia_1 = frase         # una forma de copiar un string\n",
        "copia_1 == frase"
      ],
      "metadata": {
        "id": "GehhjFGOr7Wf",
        "outputId": "0a6a6714-5cf5-4242-fa02-e9a611b498e2",
        "colab": {
          "base_uri": "https://localhost:8080/"
        }
      },
      "execution_count": 45,
      "outputs": [
        {
          "output_type": "execute_result",
          "data": {
            "text/plain": [
              "True"
            ]
          },
          "metadata": {},
          "execution_count": 45
        }
      ]
    },
    {
      "cell_type": "code",
      "source": [
        "copia_2 = frase[:]      # otra forma de copiar un string\n",
        "copia_2 == frase"
      ],
      "metadata": {
        "id": "ondVUbAcsvTi",
        "outputId": "4bd81a24-4eab-4140-b351-2f29238d7770",
        "colab": {
          "base_uri": "https://localhost:8080/"
        }
      },
      "execution_count": 46,
      "outputs": [
        {
          "output_type": "execute_result",
          "data": {
            "text/plain": [
              "True"
            ]
          },
          "metadata": {},
          "execution_count": 46
        }
      ]
    },
    {
      "cell_type": "code",
      "source": [
        "palabra = 'sogima'\n",
        "palabra[::-1]           # reverso de la palabra"
      ],
      "metadata": {
        "id": "18G-LAtqt-C6",
        "outputId": "e01bc668-fffe-4de1-83ab-22acbcbfac6e",
        "colab": {
          "base_uri": "https://localhost:8080/",
          "height": 35
        }
      },
      "execution_count": 50,
      "outputs": [
        {
          "output_type": "execute_result",
          "data": {
            "text/plain": [
              "'amigos'"
            ],
            "application/vnd.google.colaboratory.intrinsic+json": {
              "type": "string"
            }
          },
          "metadata": {},
          "execution_count": 50
        }
      ]
    }
  ]
}