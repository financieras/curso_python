{
  "nbformat": 4,
  "nbformat_minor": 0,
  "metadata": {
    "colab": {
      "provenance": [],
      "authorship_tag": "ABX9TyOLkC/iqySLoFJ9O99/AI/I",
      "include_colab_link": true
    },
    "kernelspec": {
      "name": "python3",
      "display_name": "Python 3"
    },
    "language_info": {
      "name": "python"
    }
  },
  "cells": [
    {
      "cell_type": "markdown",
      "metadata": {
        "id": "view-in-github",
        "colab_type": "text"
      },
      "source": [
        "<a href=\"https://colab.research.google.com/github/financieras/curso_python/blob/main/resumen/010_holamundo.ipynb\" target=\"_parent\"><img src=\"https://colab.research.google.com/assets/colab-badge.svg\" alt=\"Open In Colab\"/></a>"
      ]
    },
    {
      "cell_type": "markdown",
      "source": [
        "# Hola mundo"
      ],
      "metadata": {
        "id": "SNTHfP-NelaS"
      }
    },
    {
      "cell_type": "code",
      "execution_count": null,
      "metadata": {
        "colab": {
          "base_uri": "https://localhost:8080/"
        },
        "id": "7xsVynfiehVn",
        "outputId": "1024df49-01bf-46ee-d069-ea7a7db51ade"
      },
      "outputs": [
        {
          "output_type": "stream",
          "name": "stdout",
          "text": [
            "Hola mundo\n"
          ]
        }
      ],
      "source": [
        "print(\"Hola mundo\")"
      ]
    },
    {
      "cell_type": "markdown",
      "source": [
        "## Comentarios del programador"
      ],
      "metadata": {
        "id": "8AZRFw8HezD-"
      }
    },
    {
      "cell_type": "code",
      "source": [
        "# Esto es un comentario\n",
        "print('Hello World')     # usando comillas simples"
      ],
      "metadata": {
        "colab": {
          "base_uri": "https://localhost:8080/"
        },
        "id": "wz4Fdh9Zet-v",
        "outputId": "3ac7e02c-aac7-4b7f-de7e-23620f7397b6"
      },
      "execution_count": null,
      "outputs": [
        {
          "output_type": "stream",
          "name": "stdout",
          "text": [
            "Hello World\n"
          ]
        }
      ]
    },
    {
      "cell_type": "markdown",
      "source": [
        "### Comentario de varias líneas\n",
        "Va entre 3 comillas al inicio y 3 comillas al final que pueden ser simples o dobles"
      ],
      "metadata": {
        "id": "I9FNg4P4foG0"
      }
    },
    {
      "cell_type": "code",
      "source": [
        "'''Se puede escribir un print\n",
        "con varios elementos separados\n",
        "por comas'''\n",
        "\n",
        "print(\"Hola\", \"mundo\", \"del siglo\", 21)     # imprimiendo varios datos"
      ],
      "metadata": {
        "colab": {
          "base_uri": "https://localhost:8080/"
        },
        "id": "Nq9z5ZuufHUQ",
        "outputId": "834fcadb-21cb-4da8-ad25-7b24fd492a98"
      },
      "execution_count": null,
      "outputs": [
        {
          "output_type": "stream",
          "name": "stdout",
          "text": [
            "Hola mundo del siglo 21\n"
          ]
        }
      ]
    },
    {
      "cell_type": "markdown",
      "source": [
        "## Operar como calculadora"
      ],
      "metadata": {
        "id": "1inkiGdLsDGR"
      }
    },
    {
      "cell_type": "code",
      "source": [
        "2 + 3       # sumar"
      ],
      "metadata": {
        "id": "CJXDyN6esFNu",
        "outputId": "3ac3a087-68df-4b60-f218-f3cdf6b82c86",
        "colab": {
          "base_uri": "https://localhost:8080/"
        }
      },
      "execution_count": 1,
      "outputs": [
        {
          "output_type": "execute_result",
          "data": {
            "text/plain": [
              "5"
            ]
          },
          "metadata": {},
          "execution_count": 1
        }
      ]
    },
    {
      "cell_type": "code",
      "source": [
        "-(3 * 2 - 5) + 5   # operar con paréntesis"
      ],
      "metadata": {
        "id": "yVzDI27isLJL",
        "outputId": "03683544-da34-4de0-fd50-3d7a29f63d16",
        "colab": {
          "base_uri": "https://localhost:8080/"
        }
      },
      "execution_count": 10,
      "outputs": [
        {
          "output_type": "execute_result",
          "data": {
            "text/plain": [
              "4"
            ]
          },
          "metadata": {},
          "execution_count": 10
        }
      ]
    }
  ]
}