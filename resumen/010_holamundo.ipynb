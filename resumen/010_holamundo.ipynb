{
  "nbformat": 4,
  "nbformat_minor": 0,
  "metadata": {
    "colab": {
      "provenance": [],
      "authorship_tag": "ABX9TyPNaMQ54sfnhp9LEtWnU2h0",
      "include_colab_link": true
    },
    "kernelspec": {
      "name": "python3",
      "display_name": "Python 3"
    },
    "language_info": {
      "name": "python"
    }
  },
  "cells": [
    {
      "cell_type": "markdown",
      "metadata": {
        "id": "view-in-github",
        "colab_type": "text"
      },
      "source": [
        "<a href=\"https://colab.research.google.com/github/financieras/curso_python/blob/main/resumen/010_holamundo.ipynb\" target=\"_parent\"><img src=\"https://colab.research.google.com/assets/colab-badge.svg\" alt=\"Open In Colab\"/></a>"
      ]
    },
    {
      "cell_type": "markdown",
      "source": [
        "# Hola mundo"
      ],
      "metadata": {
        "id": "SNTHfP-NelaS"
      }
    },
    {
      "cell_type": "code",
      "execution_count": null,
      "metadata": {
        "colab": {
          "base_uri": "https://localhost:8080/"
        },
        "id": "7xsVynfiehVn",
        "outputId": "1024df49-01bf-46ee-d069-ea7a7db51ade"
      },
      "outputs": [
        {
          "output_type": "stream",
          "name": "stdout",
          "text": [
            "Hola mundo\n"
          ]
        }
      ],
      "source": [
        "print(\"Hola mundo\")"
      ]
    },
    {
      "cell_type": "markdown",
      "source": [
        "## Comentarios del programador"
      ],
      "metadata": {
        "id": "8AZRFw8HezD-"
      }
    },
    {
      "cell_type": "code",
      "source": [
        "# Esto es un comentario\n",
        "print('Hello World')     # usando comillas simples"
      ],
      "metadata": {
        "colab": {
          "base_uri": "https://localhost:8080/"
        },
        "id": "wz4Fdh9Zet-v",
        "outputId": "3ac7e02c-aac7-4b7f-de7e-23620f7397b6"
      },
      "execution_count": null,
      "outputs": [
        {
          "output_type": "stream",
          "name": "stdout",
          "text": [
            "Hello World\n"
          ]
        }
      ]
    },
    {
      "cell_type": "markdown",
      "source": [
        "### Comentario de varias líneas\n",
        "Va entre 3 comillas al inicio y 3 comillas al final que pueden ser simples o dobles"
      ],
      "metadata": {
        "id": "I9FNg4P4foG0"
      }
    },
    {
      "cell_type": "code",
      "source": [
        "'''Se puede escribir un print\n",
        "con varios elementos separados\n",
        "por comas'''\n",
        "\n",
        "print(\"Hola\", \"mundo\", \"del siglo\", 21)     # imprimiendo varios datos"
      ],
      "metadata": {
        "colab": {
          "base_uri": "https://localhost:8080/"
        },
        "id": "Nq9z5ZuufHUQ",
        "outputId": "834fcadb-21cb-4da8-ad25-7b24fd492a98"
      },
      "execution_count": null,
      "outputs": [
        {
          "output_type": "stream",
          "name": "stdout",
          "text": [
            "Hola mundo del siglo 21\n"
          ]
        }
      ]
    }
  ]
}