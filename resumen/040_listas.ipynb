{
  "nbformat": 4,
  "nbformat_minor": 0,
  "metadata": {
    "colab": {
      "provenance": [],
      "authorship_tag": "ABX9TyML31J4Kdn5xUfKqTX/N8oi",
      "include_colab_link": true
    },
    "kernelspec": {
      "name": "python3",
      "display_name": "Python 3"
    },
    "language_info": {
      "name": "python"
    }
  },
  "cells": [
    {
      "cell_type": "markdown",
      "metadata": {
        "id": "view-in-github",
        "colab_type": "text"
      },
      "source": [
        "<a href=\"https://colab.research.google.com/github/financieras/curso_python/blob/main/resumen/040_listas.ipynb\" target=\"_parent\"><img src=\"https://colab.research.google.com/assets/colab-badge.svg\" alt=\"Open In Colab\"/></a>"
      ]
    },
    {
      "cell_type": "markdown",
      "source": [
        "# Listas\n",
        "* Es una coleción de elementos que va entre corchetes `[ ]`\n",
        "* El orden si importa\n",
        "* También se llaman arrays, vectores o arreglos"
      ],
      "metadata": {
        "id": "sPweE3UU7N7t"
      }
    },
    {
      "cell_type": "markdown",
      "source": [
        "## Lista vacía"
      ],
      "metadata": {
        "id": "UQRarF8u7rB3"
      }
    },
    {
      "cell_type": "code",
      "source": [
        "mylist = []\n",
        "mylist"
      ],
      "metadata": {
        "colab": {
          "base_uri": "https://localhost:8080/"
        },
        "id": "cG3TJnig7vyu",
        "outputId": "871f7c8c-6322-4b7c-fc14-f9d7d9c5e0e5"
      },
      "execution_count": 1,
      "outputs": [
        {
          "output_type": "execute_result",
          "data": {
            "text/plain": [
              "[]"
            ]
          },
          "metadata": {},
          "execution_count": 1
        }
      ]
    },
    {
      "cell_type": "markdown",
      "source": [
        "Las listas pueden contener diferentes tipos de datos."
      ],
      "metadata": {
        "id": "CDQ_5W8f3ZMT"
      }
    },
    {
      "cell_type": "code",
      "source": [
        "deportista = [\"Ana\", 18, 1.78, True, ['vallas', 'pértiga']]\n",
        "print(deportista)"
      ],
      "metadata": {
        "colab": {
          "base_uri": "https://localhost:8080/"
        },
        "id": "IYtuceAA3dYI",
        "outputId": "1ca1daa9-a4cb-459d-9c04-c322160f28db"
      },
      "execution_count": 2,
      "outputs": [
        {
          "output_type": "stream",
          "name": "stdout",
          "text": [
            "['Ana', 18, 1.78, True, ['vallas', 'pértiga']]\n"
          ]
        }
      ]
    },
    {
      "cell_type": "markdown",
      "source": [
        "## Indexing\n",
        "* El index de los elementos siempre comienza por cero."
      ],
      "metadata": {
        "id": "rma6uyrH5AYk"
      }
    },
    {
      "cell_type": "code",
      "source": [
        "deportista[0]       # el primer elementos tiene index 0"
      ],
      "metadata": {
        "colab": {
          "base_uri": "https://localhost:8080/",
          "height": 35
        },
        "id": "ItV6mIjJ40Qu",
        "outputId": "679d9a65-2a25-48f5-b096-9a3c0fc6dbc4"
      },
      "execution_count": 3,
      "outputs": [
        {
          "output_type": "execute_result",
          "data": {
            "text/plain": [
              "'Ana'"
            ],
            "application/vnd.google.colaboratory.intrinsic+json": {
              "type": "string"
            }
          },
          "metadata": {},
          "execution_count": 3
        }
      ]
    },
    {
      "cell_type": "code",
      "source": [
        "deportista[4][1]    # buscando un elemento en una lista dentro de otra lista"
      ],
      "metadata": {
        "colab": {
          "base_uri": "https://localhost:8080/",
          "height": 35
        },
        "id": "bNzltslc2_1_",
        "outputId": "d2c0e1e7-492c-47a4-c351-6be2230ee94a"
      },
      "execution_count": 4,
      "outputs": [
        {
          "output_type": "execute_result",
          "data": {
            "text/plain": [
              "'pértiga'"
            ],
            "application/vnd.google.colaboratory.intrinsic+json": {
              "type": "string"
            }
          },
          "metadata": {},
          "execution_count": 4
        }
      ]
    },
    {
      "cell_type": "markdown",
      "source": [
        "Caracteres de escape:\n",
        "\n",
        "* `\\t` es un tabulador\n",
        "* `\\n` es una nueva línea, es la abreviatura de *new line*"
      ],
      "metadata": {
        "id": "3cU5B5hY5EHd"
      }
    },
    {
      "cell_type": "code",
      "source": [
        "print(\"Datos de la deportista\".upper())\n",
        "print(\"\\tNombre:\", deportista[0])\n",
        "print(\"\\tEdad:\", deportista[1])\n",
        "print(\"\\tAltura:\", deportista[2])\n",
        "print(\"\\tFederada:\", deportista[3])\n",
        "print(f\"\\tEspecialidades: {deportista[-1]}\")"
      ],
      "metadata": {
        "colab": {
          "base_uri": "https://localhost:8080/"
        },
        "id": "dUjy_aLl4DW0",
        "outputId": "00951086-687a-4cde-abe9-aaa374218cbb"
      },
      "execution_count": 5,
      "outputs": [
        {
          "output_type": "stream",
          "name": "stdout",
          "text": [
            "DATOS DE LA DEPORTISTA\n",
            "\tNombre: Ana\n",
            "\tEdad: 18\n",
            "\tAltura: 1.78\n",
            "\tFederada: True\n",
            "\tEspecialidades: ['vallas', 'pértiga']\n"
          ]
        }
      ]
    },
    {
      "cell_type": "markdown",
      "source": [
        "## Slicing"
      ],
      "metadata": {
        "id": "VWkeKb2dK9_v"
      }
    },
    {
      "cell_type": "code",
      "source": [
        "li = [1, 2, 3, 4, 5, 6, 7, 8, 9]\n",
        "li[:5]          # desde el inicio hasta el index 5 excluido"
      ],
      "metadata": {
        "colab": {
          "base_uri": "https://localhost:8080/"
        },
        "id": "yYQ39HpxLGR_",
        "outputId": "09fd5282-08bc-4665-afe1-efa125da1fed"
      },
      "execution_count": 38,
      "outputs": [
        {
          "output_type": "execute_result",
          "data": {
            "text/plain": [
              "[1, 2, 3, 4, 5]"
            ]
          },
          "metadata": {},
          "execution_count": 38
        }
      ]
    },
    {
      "cell_type": "code",
      "source": [
        "li[1:7:2]       # saltos de 2 en 2"
      ],
      "metadata": {
        "colab": {
          "base_uri": "https://localhost:8080/"
        },
        "id": "UdxfQq_cMC0m",
        "outputId": "8075ec98-3d18-4dd4-cae1-dd674132a1d5"
      },
      "execution_count": 40,
      "outputs": [
        {
          "output_type": "execute_result",
          "data": {
            "text/plain": [
              "[2, 4, 6]"
            ]
          },
          "metadata": {},
          "execution_count": 40
        }
      ]
    },
    {
      "cell_type": "code",
      "source": [
        "li[::-1]        # reverso"
      ],
      "metadata": {
        "colab": {
          "base_uri": "https://localhost:8080/"
        },
        "id": "5cLKgismMffJ",
        "outputId": "dced3e85-fa8f-4598-8030-847e674c80aa"
      },
      "execution_count": 41,
      "outputs": [
        {
          "output_type": "execute_result",
          "data": {
            "text/plain": [
              "[9, 8, 7, 6, 5, 4, 3, 2, 1]"
            ]
          },
          "metadata": {},
          "execution_count": 41
        }
      ]
    },
    {
      "cell_type": "markdown",
      "source": [
        "## Crear una lista con `list`\n",
        "Con `list` podemos convertir una tupla en una lista."
      ],
      "metadata": {
        "id": "pOFDcFtM4V1k"
      }
    },
    {
      "cell_type": "code",
      "source": [
        "lista_numeros = list((1, 2, 3, 4))\n",
        "lista_numeros"
      ],
      "metadata": {
        "colab": {
          "base_uri": "https://localhost:8080/"
        },
        "id": "JeCYGNSF49Lm",
        "outputId": "45c64548-f02b-4a21-b0c9-49af5edb4cd8"
      },
      "execution_count": 6,
      "outputs": [
        {
          "output_type": "execute_result",
          "data": {
            "text/plain": [
              "[1, 2, 3, 4]"
            ]
          },
          "metadata": {},
          "execution_count": 6
        }
      ]
    },
    {
      "cell_type": "code",
      "source": [
        "dias = list(('lu', 'ma', 'mi', 'ju', 'vi', 'sá', 'do'))\n",
        "dias"
      ],
      "metadata": {
        "colab": {
          "base_uri": "https://localhost:8080/"
        },
        "id": "0ZAi4g_84adl",
        "outputId": "6624e484-2906-47be-8f77-5e26fd0d8709"
      },
      "execution_count": 7,
      "outputs": [
        {
          "output_type": "execute_result",
          "data": {
            "text/plain": [
              "['lu', 'ma', 'mi', 'ju', 'vi', 'sá', 'do']"
            ]
          },
          "metadata": {},
          "execution_count": 7
        }
      ]
    },
    {
      "cell_type": "markdown",
      "source": [
        "## Listas usando el objeto `range`"
      ],
      "metadata": {
        "id": "TB9Wx1wQ5TWe"
      }
    },
    {
      "cell_type": "code",
      "source": [
        "num = range(5)          # números del 0 al 4\n",
        "print(num)\n",
        "type(num)               # objeto de tipo range"
      ],
      "metadata": {
        "colab": {
          "base_uri": "https://localhost:8080/"
        },
        "id": "CutpUjwB5Z62",
        "outputId": "05741612-07f6-499e-de4d-ac8ff1a2c4b5"
      },
      "execution_count": 8,
      "outputs": [
        {
          "output_type": "stream",
          "name": "stdout",
          "text": [
            "range(0, 5)\n"
          ]
        },
        {
          "output_type": "execute_result",
          "data": {
            "text/plain": [
              "range"
            ]
          },
          "metadata": {},
          "execution_count": 8
        }
      ]
    },
    {
      "cell_type": "code",
      "source": [
        "mi_lista = list(num)\n",
        "mi_lista"
      ],
      "metadata": {
        "colab": {
          "base_uri": "https://localhost:8080/"
        },
        "id": "uyX2z5Nt58z2",
        "outputId": "90018392-5a2d-46e0-a58f-96c203d75a62"
      },
      "execution_count": 9,
      "outputs": [
        {
          "output_type": "execute_result",
          "data": {
            "text/plain": [
              "[0, 1, 2, 3, 4]"
            ]
          },
          "metadata": {},
          "execution_count": 9
        }
      ]
    },
    {
      "cell_type": "code",
      "source": [
        "list(range(5, 10))      # números del 5 al 9"
      ],
      "metadata": {
        "colab": {
          "base_uri": "https://localhost:8080/"
        },
        "id": "yZg4jh0R6OJi",
        "outputId": "33bd36ea-a3e0-4ba1-fa7c-7a1649eee724"
      },
      "execution_count": 10,
      "outputs": [
        {
          "output_type": "execute_result",
          "data": {
            "text/plain": [
              "[5, 6, 7, 8, 9]"
            ]
          },
          "metadata": {},
          "execution_count": 10
        }
      ]
    },
    {
      "cell_type": "code",
      "source": [
        "list(range(10, 45, 5))  # números del 10 al 40 en saltos de 5 en 5"
      ],
      "metadata": {
        "colab": {
          "base_uri": "https://localhost:8080/"
        },
        "id": "_PZxByoJ6bKs",
        "outputId": "e3c4639c-d2d1-46f0-9f77-733cb0fcd10f"
      },
      "execution_count": 11,
      "outputs": [
        {
          "output_type": "execute_result",
          "data": {
            "text/plain": [
              "[10, 15, 20, 25, 30, 35, 40]"
            ]
          },
          "metadata": {},
          "execution_count": 11
        }
      ]
    },
    {
      "cell_type": "code",
      "source": [
        "list(range(10, 0, -1))  # números en orden decreciente, del 10 al 1"
      ],
      "metadata": {
        "colab": {
          "base_uri": "https://localhost:8080/"
        },
        "id": "CLsTKANS7mqv",
        "outputId": "96217845-78bf-46a3-a516-1f1b7c3bfc52"
      },
      "execution_count": 12,
      "outputs": [
        {
          "output_type": "execute_result",
          "data": {
            "text/plain": [
              "[10, 9, 8, 7, 6, 5, 4, 3, 2, 1]"
            ]
          },
          "metadata": {},
          "execution_count": 12
        }
      ]
    },
    {
      "cell_type": "markdown",
      "source": [
        "## Las listas son mutables\n",
        "Se puede cambiar el valor de un elemento o añadir o eliminar elementos."
      ],
      "metadata": {
        "id": "Y0gDe-VV_IYH"
      }
    },
    {
      "cell_type": "code",
      "source": [
        "colores = ['rojo', 'verde', 'azul']\n",
        "print(\"Lista original: \", colores)\n",
        "colores[1] = \"negro\"\n",
        "print(\"Lista modificada\", colores)"
      ],
      "metadata": {
        "colab": {
          "base_uri": "https://localhost:8080/"
        },
        "id": "tMHFF2TL_Zdi",
        "outputId": "93871a35-88f8-47e6-a742-d73c6a75abcf"
      },
      "execution_count": 13,
      "outputs": [
        {
          "output_type": "stream",
          "name": "stdout",
          "text": [
            "Lista original:  ['rojo', 'verde', 'azul']\n",
            "Lista modificada ['rojo', 'negro', 'azul']\n"
          ]
        }
      ]
    },
    {
      "cell_type": "markdown",
      "source": [
        "## Métodos"
      ],
      "metadata": {
        "id": "4Z28wgg28twy"
      }
    },
    {
      "cell_type": "markdown",
      "source": [
        "### `len`"
      ],
      "metadata": {
        "id": "4pGAvPTm-ibV"
      }
    },
    {
      "cell_type": "code",
      "source": [
        "colores = ['rojo', 'verde', 'azul']\n",
        "len(colores)                            # longitud de la lista"
      ],
      "metadata": {
        "colab": {
          "base_uri": "https://localhost:8080/"
        },
        "id": "4y9qU3ly8yyw",
        "outputId": "358dfcf9-0b6c-4426-8b24-e12307d571ff"
      },
      "execution_count": 14,
      "outputs": [
        {
          "output_type": "execute_result",
          "data": {
            "text/plain": [
              "3"
            ]
          },
          "metadata": {},
          "execution_count": 14
        }
      ]
    },
    {
      "cell_type": "code",
      "source": [
        "len(deportista)"
      ],
      "metadata": {
        "colab": {
          "base_uri": "https://localhost:8080/"
        },
        "id": "jgqzLpU-9GtN",
        "outputId": "7b4d5af1-22b5-4110-dc7f-8a0abd483baa"
      },
      "execution_count": 15,
      "outputs": [
        {
          "output_type": "execute_result",
          "data": {
            "text/plain": [
              "5"
            ]
          },
          "metadata": {},
          "execution_count": 15
        }
      ]
    },
    {
      "cell_type": "markdown",
      "source": [
        "### `in`\n",
        "* Es un operador de pertenencia.\n",
        "* Da True si el valor especificado se encuentra en la secuencia\n",
        "* Tambíen existe `not in`"
      ],
      "metadata": {
        "id": "W2xEhh1_-lOi"
      }
    },
    {
      "cell_type": "code",
      "source": [
        "'rojo' in colores"
      ],
      "metadata": {
        "colab": {
          "base_uri": "https://localhost:8080/"
        },
        "id": "895dp0kt-VRW",
        "outputId": "0dfd3b9c-dadc-49a8-a69d-499b5703b953"
      },
      "execution_count": 16,
      "outputs": [
        {
          "output_type": "execute_result",
          "data": {
            "text/plain": [
              "True"
            ]
          },
          "metadata": {},
          "execution_count": 16
        }
      ]
    },
    {
      "cell_type": "markdown",
      "source": [
        "### `append`\n",
        "Añade un elemento al final de la lista."
      ],
      "metadata": {
        "id": "FoY9xTl_A7kf"
      }
    },
    {
      "cell_type": "code",
      "source": [
        "lista = [1,2,3]\n",
        "lista.append(4)\n",
        "lista"
      ],
      "metadata": {
        "colab": {
          "base_uri": "https://localhost:8080/"
        },
        "id": "UmHyumr7BCIn",
        "outputId": "ec7fbde7-96ed-4552-bbe9-c99a773d1f27"
      },
      "execution_count": 17,
      "outputs": [
        {
          "output_type": "execute_result",
          "data": {
            "text/plain": [
              "[1, 2, 3, 4]"
            ]
          },
          "metadata": {},
          "execution_count": 17
        }
      ]
    },
    {
      "cell_type": "markdown",
      "source": [
        "### Unir dos listas con `+`\n"
      ],
      "metadata": {
        "id": "FywiH43oDSJK"
      }
    },
    {
      "cell_type": "code",
      "source": [
        "lista_1 = [1, 2, 3]\n",
        "lista_2 = [4, 5, 6]\n",
        "total_lista = lista_1 + lista_2\n",
        "total_lista"
      ],
      "metadata": {
        "colab": {
          "base_uri": "https://localhost:8080/"
        },
        "id": "QObhnDUpDl9v",
        "outputId": "18657ed0-b9bd-4cd1-954d-326587be8b35"
      },
      "execution_count": 18,
      "outputs": [
        {
          "output_type": "execute_result",
          "data": {
            "text/plain": [
              "[1, 2, 3, 4, 5, 6]"
            ]
          },
          "metadata": {},
          "execution_count": 18
        }
      ]
    },
    {
      "cell_type": "markdown",
      "source": [
        "### `pop`\n",
        "Elimina el último elemento."
      ],
      "metadata": {
        "id": "3nNAzkh4E5iI"
      }
    },
    {
      "cell_type": "code",
      "source": [
        "total_lista.pop()       # por defecto se elimina el último elemento\n",
        "total_lista"
      ],
      "metadata": {
        "colab": {
          "base_uri": "https://localhost:8080/"
        },
        "id": "Gc4O8FPjFByE",
        "outputId": "e964ba2a-24a4-4c40-ec44-402bfe4ebab5"
      },
      "execution_count": 19,
      "outputs": [
        {
          "output_type": "execute_result",
          "data": {
            "text/plain": [
              "[1, 2, 3, 4, 5]"
            ]
          },
          "metadata": {},
          "execution_count": 19
        }
      ]
    },
    {
      "cell_type": "code",
      "source": [
        "total_lista.pop(0)      # podemos indicar el index a eliminar\n",
        "total_lista"
      ],
      "metadata": {
        "colab": {
          "base_uri": "https://localhost:8080/"
        },
        "id": "kh0iAP3aIZKG",
        "outputId": "32317a7e-da7b-49c9-c33a-3ac885828381"
      },
      "execution_count": 25,
      "outputs": [
        {
          "output_type": "execute_result",
          "data": {
            "text/plain": [
              "[2, 3, 4, 5]"
            ]
          },
          "metadata": {},
          "execution_count": 25
        }
      ]
    },
    {
      "cell_type": "markdown",
      "source": [
        "### `insert`"
      ],
      "metadata": {
        "id": "PJS01z-gETXr"
      }
    },
    {
      "cell_type": "code",
      "source": [
        "colores = ['rojo', 'verde', 'azul']\n",
        "colores.insert(1, \"naranja\")        # indicamos la posición a insertar\n",
        "colores"
      ],
      "metadata": {
        "colab": {
          "base_uri": "https://localhost:8080/"
        },
        "id": "N25vVCpBEWhe",
        "outputId": "d22d7713-0738-4d13-b86d-004054a1ff07"
      },
      "execution_count": 23,
      "outputs": [
        {
          "output_type": "execute_result",
          "data": {
            "text/plain": [
              "['rojo', 'naranja', 'verde', 'azul']"
            ]
          },
          "metadata": {},
          "execution_count": 23
        }
      ]
    },
    {
      "cell_type": "markdown",
      "source": [
        "### `remove`"
      ],
      "metadata": {
        "id": "7hc9UeGiIBzM"
      }
    },
    {
      "cell_type": "code",
      "source": [
        "colores.remove('naranja')\n",
        "colores"
      ],
      "metadata": {
        "colab": {
          "base_uri": "https://localhost:8080/"
        },
        "id": "FSeJYu7MIE7a",
        "outputId": "1c2ceeb5-6cca-422d-8f99-c23b4725fdd5"
      },
      "execution_count": 24,
      "outputs": [
        {
          "output_type": "execute_result",
          "data": {
            "text/plain": [
              "['rojo', 'verde', 'azul']"
            ]
          },
          "metadata": {},
          "execution_count": 24
        }
      ]
    },
    {
      "cell_type": "markdown",
      "source": [
        "### `clear`\n",
        "Elimina todos los elementos de la lista."
      ],
      "metadata": {
        "id": "iUeA-RbnI4g1"
      }
    },
    {
      "cell_type": "code",
      "source": [
        "colores.clear()\n",
        "colores"
      ],
      "metadata": {
        "colab": {
          "base_uri": "https://localhost:8080/"
        },
        "id": "v1QRJWVVI_tH",
        "outputId": "e5645087-3faf-49be-c786-5e2528caa80d"
      },
      "execution_count": 26,
      "outputs": [
        {
          "output_type": "execute_result",
          "data": {
            "text/plain": [
              "[]"
            ]
          },
          "metadata": {},
          "execution_count": 26
        }
      ]
    },
    {
      "cell_type": "markdown",
      "source": [
        "### `sort`"
      ],
      "metadata": {
        "id": "RcFdHZeZJRes"
      }
    },
    {
      "cell_type": "code",
      "source": [
        "colores = ['rojo', 'verde', 'azul']\n",
        "colores.sort()                          # orden alfabético\n",
        "colores"
      ],
      "metadata": {
        "colab": {
          "base_uri": "https://localhost:8080/"
        },
        "id": "VdeCZrScJUYM",
        "outputId": "858c5af3-117e-416f-fcec-13196a27df15"
      },
      "execution_count": 28,
      "outputs": [
        {
          "output_type": "execute_result",
          "data": {
            "text/plain": [
              "['azul', 'rojo', 'verde']"
            ]
          },
          "metadata": {},
          "execution_count": 28
        }
      ]
    },
    {
      "cell_type": "code",
      "source": [
        "colores = ['rojo', 'verde', 'azul']\n",
        "colores.sort(reverse = True)            # orden alfabético inverso\n",
        "colores"
      ],
      "metadata": {
        "colab": {
          "base_uri": "https://localhost:8080/"
        },
        "id": "k79gQOhXJlP7",
        "outputId": "911c052c-b7a1-418b-eeae-ef35355e9535"
      },
      "execution_count": 29,
      "outputs": [
        {
          "output_type": "execute_result",
          "data": {
            "text/plain": [
              "['verde', 'rojo', 'azul']"
            ]
          },
          "metadata": {},
          "execution_count": 29
        }
      ]
    },
    {
      "cell_type": "markdown",
      "source": [
        "### `index`"
      ],
      "metadata": {
        "id": "6sQ6Jc9nJ58S"
      }
    },
    {
      "cell_type": "code",
      "source": [
        "colores = ['rojo', 'verde', 'azul']\n",
        "colores.index('azul')                   # da el index de un elemento"
      ],
      "metadata": {
        "colab": {
          "base_uri": "https://localhost:8080/"
        },
        "id": "Uh3ewjBCJ-JZ",
        "outputId": "0a2696d0-53dd-4cd4-8d08-d1f888d3c0a9"
      },
      "execution_count": 30,
      "outputs": [
        {
          "output_type": "execute_result",
          "data": {
            "text/plain": [
              "2"
            ]
          },
          "metadata": {},
          "execution_count": 30
        }
      ]
    },
    {
      "cell_type": "markdown",
      "source": [
        "### `count`"
      ],
      "metadata": {
        "id": "tQO__2bXKXEd"
      }
    },
    {
      "cell_type": "code",
      "source": [
        "num = [5, 8, 9, 5, 2, 5, 9]\n",
        "num.count(5)"
      ],
      "metadata": {
        "colab": {
          "base_uri": "https://localhost:8080/"
        },
        "id": "FQ62ykHqKr08",
        "outputId": "ce5c0f10-8ee9-48e1-afdb-05babe689f35"
      },
      "execution_count": 31,
      "outputs": [
        {
          "output_type": "execute_result",
          "data": {
            "text/plain": [
              "3"
            ]
          },
          "metadata": {},
          "execution_count": 31
        }
      ]
    },
    {
      "cell_type": "markdown",
      "source": [
        "## Copiar una lista"
      ],
      "metadata": {
        "id": "3he6GXu9NENh"
      }
    },
    {
      "cell_type": "markdown",
      "source": [
        "### Forma incorrecta de copiar listas\n",
        "* Veamos primero la forma incorrecta de copiar una lista: igualando\n",
        "* En el caso incorrecto en realidad no hacemos una copia, ya que se trata del mismo objeto con dos nombres.\n",
        "* Ambos nombres apuntan al mismo objeto en memoria"
      ],
      "metadata": {
        "id": "-yfZdpKxP1Ce"
      }
    },
    {
      "cell_type": "code",
      "source": [
        "lista_original = [1, 2, 3]\n",
        "lista_copia = lista_original    # FORMA INCORRECTA DE COPIAR UNA LISTA\n",
        "\n",
        "# al cambiar un elemento de una de las dos listas se cambia en las dos\n",
        "lista_copia[0] = 99\n",
        "\n",
        "print(f\"Lista original: {lista_original}\")\n",
        "print(f\"Lista copiada:  {lista_copia}\")"
      ],
      "metadata": {
        "colab": {
          "base_uri": "https://localhost:8080/"
        },
        "id": "EIJVzhDsNHxl",
        "outputId": "bef4111d-9a64-4e65-8aec-707c489055ca"
      },
      "execution_count": 48,
      "outputs": [
        {
          "output_type": "stream",
          "name": "stdout",
          "text": [
            "Lista original: [99, 2, 3]\n",
            "Lista copiada:  [99, 2, 3]\n"
          ]
        }
      ]
    },
    {
      "cell_type": "code",
      "source": [
        "# el id de ambas listas es el mismo ya que se trata de la misma lista\n",
        "print(id(lista_original))\n",
        "print(id(lista_copia))"
      ],
      "metadata": {
        "colab": {
          "base_uri": "https://localhost:8080/"
        },
        "id": "_hJRNqS6PCHJ",
        "outputId": "78938587-22fd-4460-916c-8603032699a5"
      },
      "execution_count": 49,
      "outputs": [
        {
          "output_type": "stream",
          "name": "stdout",
          "text": [
            "132682154881408\n",
            "132682154881408\n"
          ]
        }
      ]
    },
    {
      "cell_type": "markdown",
      "source": [
        "### Forma correcta de copiar listas"
      ],
      "metadata": {
        "id": "hiRsjyZoP7ji"
      }
    },
    {
      "cell_type": "markdown",
      "source": [
        "Forma correcta de copiar una lista: copiando elemento a elemento"
      ],
      "metadata": {
        "id": "iQcVFA5xN9r9"
      }
    },
    {
      "cell_type": "code",
      "source": [
        "lista_original = [1, 2, 3]\n",
        "lista_copia = lista_original[:]    # FORMA CORRECTA DE COPIAR UNA LISTA\n",
        "\n",
        "# al cambiar un elemento de una de las dos listas la otra no se altera\n",
        "lista_copia[0] = 99\n",
        "\n",
        "print(f\"Lista original: {lista_original}\")\n",
        "print(f\"Lista copiada:  {lista_copia}\")"
      ],
      "metadata": {
        "colab": {
          "base_uri": "https://localhost:8080/"
        },
        "id": "AsTrFzoAODJ2",
        "outputId": "87e1f500-6f23-4f7c-fb8e-c70cc0559ffe"
      },
      "execution_count": 50,
      "outputs": [
        {
          "output_type": "stream",
          "name": "stdout",
          "text": [
            "Lista original: [1, 2, 3]\n",
            "Lista copiada:  [99, 2, 3]\n"
          ]
        }
      ]
    },
    {
      "cell_type": "code",
      "source": [
        "# el id de las listas no es el mismo ya que se trata de dos objetos diferentes\n",
        "print(id(lista_original))\n",
        "print(id(lista_copia))"
      ],
      "metadata": {
        "colab": {
          "base_uri": "https://localhost:8080/"
        },
        "id": "57RZuqEsPWrM",
        "outputId": "8d464cd5-df69-4344-f37e-23311da5e793"
      },
      "execution_count": 51,
      "outputs": [
        {
          "output_type": "stream",
          "name": "stdout",
          "text": [
            "132682154729728\n",
            "132682154895360\n"
          ]
        }
      ]
    }
  ]
}