{
  "nbformat": 4,
  "nbformat_minor": 0,
  "metadata": {
    "colab": {
      "provenance": [],
      "authorship_tag": "ABX9TyNhjaTknk7IYUfGh7glukeD",
      "include_colab_link": true
    },
    "kernelspec": {
      "name": "python3",
      "display_name": "Python 3"
    },
    "language_info": {
      "name": "python"
    }
  },
  "cells": [
    {
      "cell_type": "markdown",
      "metadata": {
        "id": "view-in-github",
        "colab_type": "text"
      },
      "source": [
        "<a href=\"https://colab.research.google.com/github/financieras/curso_python/blob/main/resumen/040_listas.ipynb\" target=\"_parent\"><img src=\"https://colab.research.google.com/assets/colab-badge.svg\" alt=\"Open In Colab\"/></a>"
      ]
    },
    {
      "cell_type": "markdown",
      "source": [
        "# Listas"
      ],
      "metadata": {
        "id": "sPweE3UU7N7t"
      }
    },
    {
      "cell_type": "markdown",
      "source": [
        "## Lista vacía"
      ],
      "metadata": {
        "id": "UQRarF8u7rB3"
      }
    },
    {
      "cell_type": "code",
      "source": [
        "mylist = []\n",
        "mylist"
      ],
      "metadata": {
        "colab": {
          "base_uri": "https://localhost:8080/"
        },
        "id": "cG3TJnig7vyu",
        "outputId": "e004181c-27ac-4c23-bdb8-b1e5b80a18bd"
      },
      "execution_count": null,
      "outputs": [
        {
          "output_type": "execute_result",
          "data": {
            "text/plain": [
              "[]"
            ]
          },
          "metadata": {},
          "execution_count": 39
        }
      ]
    },
    {
      "cell_type": "markdown",
      "source": [
        "Las listas pueden contener diferentes tipos de datos."
      ],
      "metadata": {
        "id": "CDQ_5W8f3ZMT"
      }
    },
    {
      "cell_type": "code",
      "source": [
        "deportista = [\"Ana\", 18, 1.78, True]\n",
        "print(deportista)"
      ],
      "metadata": {
        "colab": {
          "base_uri": "https://localhost:8080/"
        },
        "id": "IYtuceAA3dYI",
        "outputId": "d52a6bb2-964e-4619-e365-90206c356900"
      },
      "execution_count": null,
      "outputs": [
        {
          "output_type": "stream",
          "name": "stdout",
          "text": [
            "['Ana', 18, 1.78, True]\n"
          ]
        }
      ]
    },
    {
      "cell_type": "markdown",
      "source": [
        "El index de los elementos comienza por cero."
      ],
      "metadata": {
        "id": "rma6uyrH5AYk"
      }
    },
    {
      "cell_type": "code",
      "source": [
        "deportista[0]       # el primer elementos tiene index 0"
      ],
      "metadata": {
        "colab": {
          "base_uri": "https://localhost:8080/",
          "height": 36
        },
        "id": "ItV6mIjJ40Qu",
        "outputId": "e235e86f-5c8a-4f54-c0cf-f1e96892454c"
      },
      "execution_count": null,
      "outputs": [
        {
          "output_type": "execute_result",
          "data": {
            "text/plain": [
              "'Ana'"
            ],
            "application/vnd.google.colaboratory.intrinsic+json": {
              "type": "string"
            }
          },
          "metadata": {},
          "execution_count": 33
        }
      ]
    },
    {
      "cell_type": "markdown",
      "source": [
        "Caracteres de escape:\n",
        "\n",
        "* `\\t` es un tabulador\n",
        "* `\\n` es una nueva línea, es la abreviatura de *new line*"
      ],
      "metadata": {
        "id": "3cU5B5hY5EHd"
      }
    },
    {
      "cell_type": "code",
      "source": [
        "print(\"Datos de la deportista\".upper())\n",
        "print(\"\\tNombre:\", deportista[0])\n",
        "print(\"\\tEdad:\", deportista[1])\n",
        "print(\"\\tAltura:\", deportista[2])\n",
        "print(\"\\tFederada:\", deportista[3])"
      ],
      "metadata": {
        "colab": {
          "base_uri": "https://localhost:8080/"
        },
        "id": "dUjy_aLl4DW0",
        "outputId": "4519c30c-401f-4f24-ed74-7e8b25044a13"
      },
      "execution_count": null,
      "outputs": [
        {
          "output_type": "stream",
          "name": "stdout",
          "text": [
            "DATOS DE LA DEPORTISTA\n",
            "\tNombre: Ana\n",
            "\tEdad: 18\n",
            "\tAltura: 1.78\n",
            "\tFederada: True\n"
          ]
        }
      ]
    }
  ]
}