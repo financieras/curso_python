{
  "nbformat": 4,
  "nbformat_minor": 0,
  "metadata": {
    "colab": {
      "provenance": [],
      "authorship_tag": "ABX9TyOmkrlPz/odh+iEB+FsjTis",
      "include_colab_link": true
    },
    "kernelspec": {
      "name": "python3",
      "display_name": "Python 3"
    },
    "language_info": {
      "name": "python"
    }
  },
  "cells": [
    {
      "cell_type": "markdown",
      "metadata": {
        "id": "view-in-github",
        "colab_type": "text"
      },
      "source": [
        "<a href=\"https://colab.research.google.com/github/financieras/curso_python/blob/main/resumen/020_numeros.ipynb\" target=\"_parent\"><img src=\"https://colab.research.google.com/assets/colab-badge.svg\" alt=\"Open In Colab\"/></a>"
      ]
    },
    {
      "cell_type": "markdown",
      "source": [
        "# Números"
      ],
      "metadata": {
        "id": "mks0N5wdsL_M"
      }
    },
    {
      "cell_type": "markdown",
      "source": [
        "## Entero `int`\n",
        "* Positivos y negativos sin decimales\n",
        "* Incluye el cero."
      ],
      "metadata": {
        "id": "5w6Ww94Skx0Y"
      }
    },
    {
      "cell_type": "code",
      "source": [
        "edad = 18\n",
        "print(f\"Su edad es de {edad} años\")\n",
        "type(edad)"
      ],
      "metadata": {
        "id": "e9apJFEWk2sR",
        "outputId": "ce462c89-6099-4ba1-9bbd-df6d2e7f87f1",
        "colab": {
          "base_uri": "https://localhost:8080/"
        }
      },
      "execution_count": 4,
      "outputs": [
        {
          "output_type": "stream",
          "name": "stdout",
          "text": [
            "Su edad es de 18 años\n"
          ]
        },
        {
          "output_type": "execute_result",
          "data": {
            "text/plain": [
              "int"
            ]
          },
          "metadata": {},
          "execution_count": 4
        }
      ]
    },
    {
      "cell_type": "markdown",
      "source": [
        "## Flotante `float`"
      ],
      "metadata": {
        "id": "iSdvjigClAel"
      }
    },
    {
      "cell_type": "code",
      "source": [
        "precio = 12.75\n",
        "print(f\"El precio es {precio} €\")\n",
        "type(precio)"
      ],
      "metadata": {
        "id": "1dg0dC6qlRg1",
        "outputId": "5ea42ca4-8736-4cba-c0e1-efa8a29ae9dd",
        "colab": {
          "base_uri": "https://localhost:8080/"
        }
      },
      "execution_count": 5,
      "outputs": [
        {
          "output_type": "stream",
          "name": "stdout",
          "text": [
            "El precio es 12.75 €\n"
          ]
        },
        {
          "output_type": "execute_result",
          "data": {
            "text/plain": [
              "float"
            ]
          },
          "metadata": {},
          "execution_count": 5
        }
      ]
    },
    {
      "cell_type": "markdown",
      "source": [
        "# Operaciones aritméticas\n"
      ],
      "metadata": {
        "id": "84NbsD-ql3ax"
      }
    },
    {
      "cell_type": "code",
      "source": [
        "2 + 3           # suma"
      ],
      "metadata": {
        "id": "d5U1pxtJl-7e",
        "outputId": "2af758ba-ccd7-4671-c972-7130891962c2",
        "colab": {
          "base_uri": "https://localhost:8080/"
        }
      },
      "execution_count": 6,
      "outputs": [
        {
          "output_type": "execute_result",
          "data": {
            "text/plain": [
              "5"
            ]
          },
          "metadata": {},
          "execution_count": 6
        }
      ]
    },
    {
      "cell_type": "code",
      "source": [
        "2 - 10          # resta"
      ],
      "metadata": {
        "id": "aR7klY5XmXiq",
        "outputId": "9ac59c8e-2c83-4afc-f497-b0e82c8907f5",
        "colab": {
          "base_uri": "https://localhost:8080/"
        }
      },
      "execution_count": 7,
      "outputs": [
        {
          "output_type": "execute_result",
          "data": {
            "text/plain": [
              "-8"
            ]
          },
          "metadata": {},
          "execution_count": 7
        }
      ]
    },
    {
      "cell_type": "code",
      "source": [
        "2 * -15         # producto"
      ],
      "metadata": {
        "id": "f7TOqO2mmgo-",
        "outputId": "eee37ea3-4c35-4c7e-c12d-e17b47a2dac1",
        "colab": {
          "base_uri": "https://localhost:8080/"
        }
      },
      "execution_count": 8,
      "outputs": [
        {
          "output_type": "execute_result",
          "data": {
            "text/plain": [
              "-30"
            ]
          },
          "metadata": {},
          "execution_count": 8
        }
      ]
    },
    {
      "cell_type": "code",
      "source": [
        "18 / 5          # división"
      ],
      "metadata": {
        "id": "_z3B6px5mp3T",
        "outputId": "504ecd60-ce7d-4653-e254-ec4b107e1d27",
        "colab": {
          "base_uri": "https://localhost:8080/"
        }
      },
      "execution_count": 9,
      "outputs": [
        {
          "output_type": "execute_result",
          "data": {
            "text/plain": [
              "3.6"
            ]
          },
          "metadata": {},
          "execution_count": 9
        }
      ]
    },
    {
      "cell_type": "code",
      "source": [
        "10 / 2          # división, siempre da un float"
      ],
      "metadata": {
        "id": "QGjXAtknm6EG",
        "outputId": "39b35962-665f-47e9-92ba-062c3751b294",
        "colab": {
          "base_uri": "https://localhost:8080/"
        }
      },
      "execution_count": 10,
      "outputs": [
        {
          "output_type": "execute_result",
          "data": {
            "text/plain": [
              "5.0"
            ]
          },
          "metadata": {},
          "execution_count": 10
        }
      ]
    },
    {
      "cell_type": "code",
      "source": [
        "18 // 5         # división entera, no redondea, trunca decimales"
      ],
      "metadata": {
        "id": "00G2Z14ZnAY7",
        "outputId": "b596cb3c-5a06-422c-adce-555d5d1e3225",
        "colab": {
          "base_uri": "https://localhost:8080/"
        }
      },
      "execution_count": 11,
      "outputs": [
        {
          "output_type": "execute_result",
          "data": {
            "text/plain": [
              "3"
            ]
          },
          "metadata": {},
          "execution_count": 11
        }
      ]
    },
    {
      "cell_type": "code",
      "source": [
        "18 % 5          # resto, resíduo o módulo"
      ],
      "metadata": {
        "id": "GA2_kQKwnJzA",
        "outputId": "1384612a-6cd0-4220-eee4-b4414abeadab",
        "colab": {
          "base_uri": "https://localhost:8080/"
        }
      },
      "execution_count": 12,
      "outputs": [
        {
          "output_type": "execute_result",
          "data": {
            "text/plain": [
              "3"
            ]
          },
          "metadata": {},
          "execution_count": 12
        }
      ]
    },
    {
      "cell_type": "code",
      "source": [
        "2 ** 3          # potencias, 2^3 = 2*2*2 = 8"
      ],
      "metadata": {
        "id": "9CSdOQI6nQXt",
        "outputId": "f6e0ef9e-c4cf-4297-f65b-a6776ef5a923",
        "colab": {
          "base_uri": "https://localhost:8080/"
        }
      },
      "execution_count": 13,
      "outputs": [
        {
          "output_type": "execute_result",
          "data": {
            "text/plain": [
              "8"
            ]
          },
          "metadata": {},
          "execution_count": 13
        }
      ]
    },
    {
      "cell_type": "markdown",
      "source": [
        "## Precedencia de operaciones y paréntesis\n",
        "De mayor a menor prioridad:\n",
        "1. Potencias: `**`\n",
        "2. Multiplicaciones, divisiones y resto: `*`, `/` y `%`\n",
        "3. Sumas y restas: `+` y `-`\n",
        "\n",
        "Pero siempre podemos utilizar paréntesis para determinar el orden en el que queremos que se apliquen los operadores."
      ],
      "metadata": {
        "id": "m1F5Qm5moH7P"
      }
    },
    {
      "cell_type": "code",
      "source": [
        "2 + 3 * 5"
      ],
      "metadata": {
        "id": "yLdiSUOHpqyH",
        "outputId": "c5a9ddcf-993d-4655-e454-1f43a0a4d92b",
        "colab": {
          "base_uri": "https://localhost:8080/"
        }
      },
      "execution_count": 14,
      "outputs": [
        {
          "output_type": "execute_result",
          "data": {
            "text/plain": [
              "17"
            ]
          },
          "metadata": {},
          "execution_count": 14
        }
      ]
    },
    {
      "cell_type": "code",
      "source": [
        "(2 + 3) * 5"
      ],
      "metadata": {
        "id": "f8UxRMErp0TB",
        "outputId": "b7c6853e-ae27-421e-85bd-2c4f8f6db92d",
        "colab": {
          "base_uri": "https://localhost:8080/"
        }
      },
      "execution_count": 15,
      "outputs": [
        {
          "output_type": "execute_result",
          "data": {
            "text/plain": [
              "25"
            ]
          },
          "metadata": {},
          "execution_count": 15
        }
      ]
    }
  ]
}