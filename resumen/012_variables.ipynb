{
  "nbformat": 4,
  "nbformat_minor": 0,
  "metadata": {
    "colab": {
      "provenance": [],
      "authorship_tag": "ABX9TyNh5sWp3LlGsBHKM2t9SIOW",
      "include_colab_link": true
    },
    "kernelspec": {
      "name": "python3",
      "display_name": "Python 3"
    },
    "language_info": {
      "name": "python"
    }
  },
  "cells": [
    {
      "cell_type": "markdown",
      "metadata": {
        "id": "view-in-github",
        "colab_type": "text"
      },
      "source": [
        "<a href=\"https://colab.research.google.com/github/financieras/curso_python/blob/main/resumen/012_variables.ipynb\" target=\"_parent\"><img src=\"https://colab.research.google.com/assets/colab-badge.svg\" alt=\"Open In Colab\"/></a>"
      ]
    },
    {
      "cell_type": "markdown",
      "source": [
        "# Variables\n",
        "Una variable es un espacio en memoria que recoge un dato."
      ],
      "metadata": {
        "id": "ZdEH0lp-wL97"
      }
    },
    {
      "cell_type": "code",
      "source": [
        "x = 5\n",
        "print(x)"
      ],
      "metadata": {
        "colab": {
          "base_uri": "https://localhost:8080/"
        },
        "id": "uGyehxOaww7F",
        "outputId": "4f924252-a33b-47aa-ae06-3eaaae3599f8"
      },
      "execution_count": null,
      "outputs": [
        {
          "output_type": "stream",
          "name": "stdout",
          "text": [
            "5\n"
          ]
        }
      ]
    },
    {
      "cell_type": "code",
      "source": [
        "saludo = \"Hola mundo\"\n",
        "print(saludo)"
      ],
      "metadata": {
        "colab": {
          "base_uri": "https://localhost:8080/"
        },
        "id": "3EaA4DMzw2fb",
        "outputId": "7b907940-6ac2-48d8-a40f-a2c7c9ebb089"
      },
      "execution_count": null,
      "outputs": [
        {
          "output_type": "stream",
          "name": "stdout",
          "text": [
            "Hola mundo\n"
          ]
        }
      ]
    },
    {
      "cell_type": "markdown",
      "source": [
        "## Operar con variables"
      ],
      "metadata": {
        "id": "x-DCOnlQ1Dni"
      }
    },
    {
      "cell_type": "code",
      "source": [
        "a = 10\n",
        "b = 4\n",
        "c = a / b       # c es un número de coma flotante, con decimales: float\n",
        "print(\"Al dividir\", a, \"entre\", b, \"obtenemos\", c)\n",
        "print(f'Al dividir {a} entre {b} obtenemos {a / b}')    # sistema f de impresión"
      ],
      "metadata": {
        "colab": {
          "base_uri": "https://localhost:8080/"
        },
        "id": "YsNnoHnl1JSg",
        "outputId": "aabb2d4b-cb2f-4b96-9644-e7f88fdb7e6b"
      },
      "execution_count": null,
      "outputs": [
        {
          "output_type": "stream",
          "name": "stdout",
          "text": [
            "Al dividir 10 entre 4 obtenemos 2.5\n",
            "Al dividir 10 entre 4 obtenemos 2.5\n"
          ]
        }
      ]
    },
    {
      "cell_type": "markdown",
      "source": [
        "## Nombres de variables\n",
        "* Las variables tienen un nombre que:\n",
        " 1. no puede llevar espacios\n",
        " 2. no puede llevar simbolos (ç, @, ...)\n",
        " 3. si puede llevar barra baja (`_`)\n",
        " 4. si puede llevar números pero no al inicio\n",
        " 5. no puede llevar palabras reservadas (class, def, if, import, in, is, ...)\n",
        " 6. no se aconseja usar acentos y letra ñ\n",
        " 7. no se aconseja usar mayúsculas"
      ],
      "metadata": {
        "id": "zNwpx8XOxGRc"
      }
    },
    {
      "cell_type": "code",
      "source": [
        "# VARIABLES PERMITIDAS\n",
        "my_import = 1000\n",
        "europa2030 = \"objetivo\"\n",
        "equipoVisitante = 2\n",
        "altura_permitida = 3.85\n",
        "unionEuropea = 27\n",
        "\n",
        "\n",
        "# VARIABLES NO PERMITIDAS\n",
        "#7millas = \"distancia\"              # comienza por número\n",
        "#video editado = \"vacaciones\"       # lleva espacio\n",
        "#nombre@dominio = \"join@nasa.gov\"   # lleva un símbolo no permitido\n",
        "#import = 1000                      # es una palabra reservada\n",
        "#madrid-paris = 1500                # el guión medio es un símbolo no permitido\n",
        "\n",
        "# VARIABLES NO ACONSEJABLES\n",
        "día = 1                             # acentos\n",
        "años = 16                           # letra ñ\n",
        "SEMANA = 7                          # mayúsculas"
      ],
      "metadata": {
        "id": "PPxwDTqPxVZO"
      },
      "execution_count": null,
      "outputs": []
    },
    {
      "cell_type": "markdown",
      "source": [
        "## Variables múltiples"
      ],
      "metadata": {
        "id": "kTRl4Q8mwWf5"
      }
    },
    {
      "cell_type": "code",
      "source": [
        "a, b = 3, 4\n",
        "print(a, b)"
      ],
      "metadata": {
        "colab": {
          "base_uri": "https://localhost:8080/"
        },
        "id": "Awzzthq0wbqc",
        "outputId": "dec252db-fc48-408b-f018-514a68557f6b"
      },
      "execution_count": null,
      "outputs": [
        {
          "output_type": "stream",
          "name": "stdout",
          "text": [
            "3 4\n"
          ]
        }
      ]
    },
    {
      "cell_type": "code",
      "source": [
        "p = q =r = 1\n",
        "print(p, q, r)"
      ],
      "metadata": {
        "colab": {
          "base_uri": "https://localhost:8080/"
        },
        "id": "Dg1gunRIwfIy",
        "outputId": "66fffb58-7183-4da8-9a9e-805e161eddb8"
      },
      "execution_count": null,
      "outputs": [
        {
          "output_type": "stream",
          "name": "stdout",
          "text": [
            "1 1 1\n"
          ]
        }
      ]
    },
    {
      "cell_type": "markdown",
      "source": [
        "## Case sensitive\n",
        "Los nombres de variable en Python son *case sensitive*"
      ],
      "metadata": {
        "id": "gHhQsxnVAJbZ"
      }
    },
    {
      "cell_type": "code",
      "source": [
        "user = \"Marta\"\n",
        "User = \"Santiago\"\n",
        "\n",
        "print(User)"
      ],
      "metadata": {
        "id": "z3vhEc7pAhUV",
        "outputId": "be5b6983-1a55-4982-c193-80903c3570af",
        "colab": {
          "base_uri": "https://localhost:8080/"
        }
      },
      "execution_count": null,
      "outputs": [
        {
          "output_type": "stream",
          "name": "stdout",
          "text": [
            "Santiago\n"
          ]
        }
      ]
    },
    {
      "cell_type": "markdown",
      "source": [
        "## Convenciones"
      ],
      "metadata": {
        "id": "eu4EYBYF1Ak1"
      }
    },
    {
      "cell_type": "code",
      "source": [
        "# Snake Case\n",
        "numero_vidas = 3    # mejor separar con barra baja que todo junto numerovidas\n",
        "\n",
        "# Camel Case\n",
        "numeroVidas = 3     # mejor que comenzar por mayúscula NumeroVidas"
      ],
      "metadata": {
        "id": "--nEgDNV1GGi"
      },
      "execution_count": null,
      "outputs": []
    },
    {
      "cell_type": "markdown",
      "source": [
        "# Constantes\n",
        "* En Python no se declaran constantes de forma específica.\n",
        "* Por convención una constante es una variable que se escribe todo en mayúsculas."
      ],
      "metadata": {
        "id": "N1O2gNw52NDR"
      }
    },
    {
      "cell_type": "code",
      "source": [
        "PI = 3.14159\n",
        "LUZ = 300_000   # de forma optativa podemos usar _ como separador de miles"
      ],
      "metadata": {
        "id": "eEeLaK672ey6"
      },
      "execution_count": null,
      "outputs": []
    },
    {
      "cell_type": "markdown",
      "source": [
        "## Tipado dinámico\n",
        "* Python es un lenguaje de programación de tipado dinámico.\n",
        "* Una variable puede cambiar de tipo"
      ],
      "metadata": {
        "id": "bq9Qkd5w2-c4"
      }
    },
    {
      "cell_type": "code",
      "source": [
        "fondo = \"gris\"              # puede ser un string (una cadena de texto)\n",
        "fondo = 100                 # puede ser un número de tipo int (entero)\n",
        "fondo = 0.18                # puede ser un número de tipo float (con decimales)"
      ],
      "metadata": {
        "id": "W3eEDAhm3Kbw"
      },
      "execution_count": 1,
      "outputs": []
    }
  ]
}