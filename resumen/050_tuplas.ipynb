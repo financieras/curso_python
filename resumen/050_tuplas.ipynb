{
  "nbformat": 4,
  "nbformat_minor": 0,
  "metadata": {
    "colab": {
      "provenance": [],
      "authorship_tag": "ABX9TyP08zGZx5cDny0/tOKMhhxy",
      "include_colab_link": true
    },
    "kernelspec": {
      "name": "python3",
      "display_name": "Python 3"
    },
    "language_info": {
      "name": "python"
    }
  },
  "cells": [
    {
      "cell_type": "markdown",
      "metadata": {
        "id": "view-in-github",
        "colab_type": "text"
      },
      "source": [
        "<a href=\"https://colab.research.google.com/github/financieras/curso_python/blob/main/resumen/050_tuplas.ipynb\" target=\"_parent\"><img src=\"https://colab.research.google.com/assets/colab-badge.svg\" alt=\"Open In Colab\"/></a>"
      ]
    },
    {
      "cell_type": "markdown",
      "source": [
        "# Tuplas"
      ],
      "metadata": {
        "id": "SoZZtPrL7cXm"
      }
    },
    {
      "cell_type": "markdown",
      "source": [
        "## Tupla vacía"
      ],
      "metadata": {
        "id": "P3O7atNR76ld"
      }
    },
    {
      "cell_type": "code",
      "source": [
        "mytuple = ()\n",
        "mytuple\n",
        "type(mytuple)"
      ],
      "metadata": {
        "colab": {
          "base_uri": "https://localhost:8080/"
        },
        "id": "hMz12BA179J6",
        "outputId": "02a03bff-33c3-4bc1-d9ae-b2c2198161f7"
      },
      "execution_count": null,
      "outputs": [
        {
          "output_type": "execute_result",
          "data": {
            "text/plain": [
              "tuple"
            ]
          },
          "metadata": {},
          "execution_count": 41
        }
      ]
    },
    {
      "cell_type": "markdown",
      "source": [
        "## Tupla con un solo elemento\n",
        "* Es importante poner la coma"
      ],
      "metadata": {
        "id": "0K9FF5t18IQy"
      }
    },
    {
      "cell_type": "code",
      "source": [
        "dias = (5,)\n",
        "print(dias)\n",
        "type(dias)"
      ],
      "metadata": {
        "colab": {
          "base_uri": "https://localhost:8080/"
        },
        "id": "9zvS-_Yf8Pki",
        "outputId": "de579ba5-7b0b-4070-fd81-ff4d4ac26644"
      },
      "execution_count": null,
      "outputs": [
        {
          "output_type": "stream",
          "name": "stdout",
          "text": [
            "(5,)\n"
          ]
        },
        {
          "output_type": "execute_result",
          "data": {
            "text/plain": [
              "tuple"
            ]
          },
          "metadata": {},
          "execution_count": 45
        }
      ]
    }
  ]
}