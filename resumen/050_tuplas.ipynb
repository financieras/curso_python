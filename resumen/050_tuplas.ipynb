{
  "nbformat": 4,
  "nbformat_minor": 0,
  "metadata": {
    "colab": {
      "provenance": [],
      "authorship_tag": "ABX9TyNNbPC/JGNuNsKUURdMVvv3",
      "include_colab_link": true
    },
    "kernelspec": {
      "name": "python3",
      "display_name": "Python 3"
    },
    "language_info": {
      "name": "python"
    }
  },
  "cells": [
    {
      "cell_type": "markdown",
      "metadata": {
        "id": "view-in-github",
        "colab_type": "text"
      },
      "source": [
        "<a href=\"https://colab.research.google.com/github/financieras/curso_python/blob/main/resumen/050_tuplas.ipynb\" target=\"_parent\"><img src=\"https://colab.research.google.com/assets/colab-badge.svg\" alt=\"Open In Colab\"/></a>"
      ]
    },
    {
      "cell_type": "markdown",
      "source": [
        "# Tuplas\n",
        "* Las tuplas son inmutables\n",
        "* Son más rápidas que las listas\n",
        "* Se usan cuando los elementos que las componen no queremos que cambien\n",
        "* Por ejemplo, los meses del año, los días de la semana, los colores del arcoíris, ..."
      ],
      "metadata": {
        "id": "SoZZtPrL7cXm"
      }
    },
    {
      "cell_type": "markdown",
      "source": [
        "## Tupla vacía"
      ],
      "metadata": {
        "id": "P3O7atNR76ld"
      }
    },
    {
      "cell_type": "code",
      "source": [
        "mytuple = ()\n",
        "mytuple\n",
        "type(mytuple)"
      ],
      "metadata": {
        "colab": {
          "base_uri": "https://localhost:8080/"
        },
        "id": "hMz12BA179J6",
        "outputId": "02a03bff-33c3-4bc1-d9ae-b2c2198161f7"
      },
      "execution_count": null,
      "outputs": [
        {
          "output_type": "execute_result",
          "data": {
            "text/plain": [
              "tuple"
            ]
          },
          "metadata": {},
          "execution_count": 41
        }
      ]
    },
    {
      "cell_type": "markdown",
      "source": [
        "## Tupla con un solo elemento\n",
        "* Es importante poner la coma"
      ],
      "metadata": {
        "id": "0K9FF5t18IQy"
      }
    },
    {
      "cell_type": "code",
      "source": [
        "dias = (5,)     # si no pongo la coma este 5 sería un int\n",
        "print(dias)\n",
        "type(dias)"
      ],
      "metadata": {
        "colab": {
          "base_uri": "https://localhost:8080/"
        },
        "id": "9zvS-_Yf8Pki",
        "outputId": "de579ba5-7b0b-4070-fd81-ff4d4ac26644"
      },
      "execution_count": null,
      "outputs": [
        {
          "output_type": "stream",
          "name": "stdout",
          "text": [
            "(5,)\n"
          ]
        },
        {
          "output_type": "execute_result",
          "data": {
            "text/plain": [
              "tuple"
            ]
          },
          "metadata": {},
          "execution_count": 45
        }
      ]
    },
    {
      "cell_type": "markdown",
      "source": [
        "## Las Tuplas son inmutables\n",
        "No se pueden cambiar los elementos de la tupla."
      ],
      "metadata": {
        "id": "Vojvj-wrBSMt"
      }
    },
    {
      "cell_type": "code",
      "source": [
        "seasons = ('spring', 'summer', 'autumn', 'winter')\n",
        "seasons"
      ],
      "metadata": {
        "id": "EnwlveolBVmq",
        "outputId": "f2e7e01e-0cf6-420e-a20c-a46f678d84ef",
        "colab": {
          "base_uri": "https://localhost:8080/"
        }
      },
      "execution_count": 1,
      "outputs": [
        {
          "output_type": "execute_result",
          "data": {
            "text/plain": [
              "('spring', 'summer', 'autumn', 'winter')"
            ]
          },
          "metadata": {},
          "execution_count": 1
        }
      ]
    },
    {
      "cell_type": "markdown",
      "source": [
        "#### No se pueden reasignar valores en una tupla"
      ],
      "metadata": {
        "id": "BPOPRflxGybY"
      }
    },
    {
      "cell_type": "code",
      "source": [
        "#seasons[2] = 'fall'    # da ERROR, no se puede cambiar un elemento de una tupla"
      ],
      "metadata": {
        "id": "htpOAvMWCHEL"
      },
      "execution_count": 3,
      "outputs": []
    },
    {
      "cell_type": "markdown",
      "source": [
        "### Truco para cambiar un elemento de una tupla\n",
        "Convertir la tupla en lista, cabiar el elemento y volver a convertirla en tupla"
      ],
      "metadata": {
        "id": "CBjuW9H0CXTn"
      }
    },
    {
      "cell_type": "code",
      "source": [
        "seasons = ('spring', 'summer', 'autumn', 'winter')\n",
        "print(seasons)\n",
        "\n",
        "seasons = list(seasons)     # convertimos la tupla en lista\n",
        "seasons[2] = 'fall'         # cambiamos un elemento de la lista\n",
        "seasons = tuple(seasons)    # convertimos la lista en tupla\n",
        "\n",
        "print(seasons)"
      ],
      "metadata": {
        "id": "-Ls1VqE3CkKU",
        "outputId": "ae825e47-f201-43ca-bc23-cdc868dcd61d",
        "colab": {
          "base_uri": "https://localhost:8080/"
        }
      },
      "execution_count": 4,
      "outputs": [
        {
          "output_type": "stream",
          "name": "stdout",
          "text": [
            "('spring', 'summer', 'autumn', 'winter')\n",
            "('spring', 'summer', 'fall', 'winter')\n"
          ]
        }
      ]
    },
    {
      "cell_type": "markdown",
      "source": [
        "## Unir dos tuplas\n",
        "Se utiliza el operador `+` para unir dos tuplas."
      ],
      "metadata": {
        "id": "LpQB301iDb1n"
      }
    },
    {
      "cell_type": "code",
      "source": [
        "laborables = ('lu', 'ma', 'mi', 'ju', 'vi')\n",
        "finde = ('sá', 'do')\n",
        "dias = laborables + finde\n",
        "dias"
      ],
      "metadata": {
        "id": "GC1Buru1DOZt",
        "outputId": "1b817710-1668-4c68-b44c-a4f86e712eb1",
        "colab": {
          "base_uri": "https://localhost:8080/"
        }
      },
      "execution_count": 6,
      "outputs": [
        {
          "output_type": "execute_result",
          "data": {
            "text/plain": [
              "('lu', 'ma', 'mi', 'ju', 'vi', 'sá', 'do')"
            ]
          },
          "metadata": {},
          "execution_count": 6
        }
      ]
    },
    {
      "cell_type": "markdown",
      "source": [
        "## Indexing and Slicing"
      ],
      "metadata": {
        "id": "jmGNay39F6x2"
      }
    },
    {
      "cell_type": "code",
      "source": [
        "dias = ('lu', 'ma', 'mi', 'ju', 'vi', 'sá', 'do')\n",
        "dias[0]"
      ],
      "metadata": {
        "id": "HkGsakJxGQQa",
        "outputId": "b7fc2245-8923-4289-b9e8-0e513b5af942",
        "colab": {
          "base_uri": "https://localhost:8080/",
          "height": 35
        }
      },
      "execution_count": 7,
      "outputs": [
        {
          "output_type": "execute_result",
          "data": {
            "text/plain": [
              "'lu'"
            ],
            "application/vnd.google.colaboratory.intrinsic+json": {
              "type": "string"
            }
          },
          "metadata": {},
          "execution_count": 7
        }
      ]
    },
    {
      "cell_type": "code",
      "source": [
        " dias[5:]"
      ],
      "metadata": {
        "id": "2ed_gBqFGXHF",
        "outputId": "98054a4e-0d76-453e-9dbf-568d853b1815",
        "colab": {
          "base_uri": "https://localhost:8080/"
        }
      },
      "execution_count": 8,
      "outputs": [
        {
          "output_type": "execute_result",
          "data": {
            "text/plain": [
              "('sá', 'do')"
            ]
          },
          "metadata": {},
          "execution_count": 8
        }
      ]
    },
    {
      "cell_type": "markdown",
      "source": [
        "## Métodos"
      ],
      "metadata": {
        "id": "bfUkDNZUGeXn"
      }
    },
    {
      "cell_type": "markdown",
      "source": [
        "### `len`"
      ],
      "metadata": {
        "id": "uDQdhASmHjg7"
      }
    },
    {
      "cell_type": "code",
      "source": [
        "dias = ('lu', 'ma', 'mi', 'ju', 'vi', 'sá', 'do')\n",
        "len(dias)"
      ],
      "metadata": {
        "id": "8ZmywSKzGgdy",
        "outputId": "be57f269-da42-4fce-8a63-7db83f1b786e",
        "colab": {
          "base_uri": "https://localhost:8080/"
        }
      },
      "execution_count": 9,
      "outputs": [
        {
          "output_type": "execute_result",
          "data": {
            "text/plain": [
              "7"
            ]
          },
          "metadata": {},
          "execution_count": 9
        }
      ]
    },
    {
      "cell_type": "markdown",
      "source": [
        "### `del`"
      ],
      "metadata": {
        "id": "aVOdDXKYHFOR"
      }
    },
    {
      "cell_type": "code",
      "source": [
        "numeros = (1, 2, 3, 4)\n",
        "del numeros\n",
        "#print(numeros)     # da ERROR ya que no puedo imprimir el objeto que no existe"
      ],
      "metadata": {
        "id": "-Q_xDexoHJQY"
      },
      "execution_count": 19,
      "outputs": []
    },
    {
      "cell_type": "markdown",
      "source": [
        "### `count`"
      ],
      "metadata": {
        "id": "zRu2qdGlH8pG"
      }
    },
    {
      "cell_type": "code",
      "source": [
        "fragmento_adn = ('A', 'G', 'C', 'T', 'A', 'G', 'C', 'A', 'G', 'A')\n",
        "fragmento_adn.count('A')        # cuenta cuantas veces aparece la Adenina"
      ],
      "metadata": {
        "id": "bV6fWDaBIDEY",
        "outputId": "6424140c-d22d-458f-e0d9-387205cd2a04",
        "colab": {
          "base_uri": "https://localhost:8080/"
        }
      },
      "execution_count": 14,
      "outputs": [
        {
          "output_type": "execute_result",
          "data": {
            "text/plain": [
              "4"
            ]
          },
          "metadata": {},
          "execution_count": 14
        }
      ]
    },
    {
      "cell_type": "markdown",
      "source": [
        "### `index`"
      ],
      "metadata": {
        "id": "yu2Lai75IAID"
      }
    },
    {
      "cell_type": "code",
      "source": [
        "fragmento_adn = ('A', 'G', 'C', 'T', 'A', 'G', 'C', 'A', 'G', 'A')\n",
        "fragmento_adn.index('T')        # index donde aparece por primara vez la Timina"
      ],
      "metadata": {
        "id": "hIVnwQTqICZk",
        "outputId": "fb76fc94-f5d1-4211-d686-8a0fbe627791",
        "colab": {
          "base_uri": "https://localhost:8080/"
        }
      },
      "execution_count": 15,
      "outputs": [
        {
          "output_type": "execute_result",
          "data": {
            "text/plain": [
              "3"
            ]
          },
          "metadata": {},
          "execution_count": 15
        }
      ]
    },
    {
      "cell_type": "markdown",
      "source": [
        "## Tupla dentro de diccionario\n",
        "La longitud y la latitud se pueden expresar como una pareja de números en forma de tupla."
      ],
      "metadata": {
        "id": "zCZl-3exJl69"
      }
    },
    {
      "cell_type": "code",
      "source": [
        "localizaciones = {\"Madrid\": (40.4168, -3.7038),\n",
        "                  \"London\": (51.5072, -0.1276),\n",
        "                  \"New York\": (40.7128, -74.0060),\n",
        "                  \"Tokyo\": (35.6762, 139.6503)}\n",
        "\n",
        "localizaciones"
      ],
      "metadata": {
        "id": "j4ft89h6JrF6",
        "outputId": "6ae5901e-84c2-46a1-c240-66a414ebbb47",
        "colab": {
          "base_uri": "https://localhost:8080/"
        }
      },
      "execution_count": 18,
      "outputs": [
        {
          "output_type": "execute_result",
          "data": {
            "text/plain": [
              "{'Madrid': (40.4168, -3.7038),\n",
              " 'London': (51.5072, -0.1276),\n",
              " 'New York': (40.7128, -74.006),\n",
              " 'Tokyo': (35.6762, 139.6503)}"
            ]
          },
          "metadata": {},
          "execution_count": 18
        }
      ]
    }
  ]
}