{
  "nbformat": 4,
  "nbformat_minor": 0,
  "metadata": {
    "colab": {
      "provenance": [],
      "authorship_tag": "ABX9TyPOQnC2CKOJbKefoX/E2Rqe",
      "include_colab_link": true
    },
    "kernelspec": {
      "name": "python3",
      "display_name": "Python 3"
    },
    "language_info": {
      "name": "python"
    }
  },
  "cells": [
    {
      "cell_type": "markdown",
      "metadata": {
        "id": "view-in-github",
        "colab_type": "text"
      },
      "source": [
        "<a href=\"https://colab.research.google.com/github/financieras/curso_python/blob/main/resumen/015_tipo_de_datos.ipynb\" target=\"_parent\"><img src=\"https://colab.research.google.com/assets/colab-badge.svg\" alt=\"Open In Colab\"/></a>"
      ]
    },
    {
      "cell_type": "markdown",
      "source": [
        "# Tipo de datos\n",
        "1. Una variable es un espacio en memoria que recoge un dato.\n",
        "2. Las variables tienen un nombre que:\n",
        " - no puede llevar espacios\n",
        " - no puede llevar simbolos (ñ, á, ç, @)\n",
        " - si puede llevar barra baja (`_`)\n",
        " - si puede llevar números pero no al inicio\n",
        " - no puede llevar palabras reservadas (class, def, if, import, in, is, ...)"
      ],
      "metadata": {
        "id": "ElPwX54tg3IK"
      }
    },
    {
      "cell_type": "markdown",
      "source": [
        "## Enteros `int`\n",
        "* Los enteros son números sin decimales como 5, 0, -7\n",
        "* La abreviatura `int` viene de *integer*"
      ],
      "metadata": {
        "id": "Ep0efS94jOFj"
      }
    },
    {
      "cell_type": "code",
      "source": [
        "x = 5       # int, 5 es un número entero"
      ],
      "metadata": {
        "id": "3twOlMLJg6F8"
      },
      "execution_count": null,
      "outputs": []
    },
    {
      "cell_type": "code",
      "source": [
        "print(x)    # print es una función que imprime mi variable x"
      ],
      "metadata": {
        "colab": {
          "base_uri": "https://localhost:8080/"
        },
        "id": "8eACAl6vhVIG",
        "outputId": "3c89278f-e318-488e-8cea-cae6f673a25f"
      },
      "execution_count": null,
      "outputs": [
        {
          "output_type": "stream",
          "name": "stdout",
          "text": [
            "5\n"
          ]
        }
      ]
    },
    {
      "cell_type": "code",
      "source": [
        "type(x)     # type es otra función que me da el tipo"
      ],
      "metadata": {
        "colab": {
          "base_uri": "https://localhost:8080/"
        },
        "id": "Tsp53Tz_hPBH",
        "outputId": "55cc2cef-c3f4-4dc8-828e-f1c9f2237028"
      },
      "execution_count": null,
      "outputs": [
        {
          "output_type": "execute_result",
          "data": {
            "text/plain": [
              "int"
            ]
          },
          "metadata": {},
          "execution_count": 6
        }
      ]
    },
    {
      "cell_type": "markdown",
      "source": [
        "## Flotantes `float`\n",
        "* Son números con decimales.\n",
        "* El tipo `float` hace referencia a que son [números de coma flotante](https://docs.python.org/es/3/tutorial/floatingpoint.html)"
      ],
      "metadata": {
        "id": "RacP3pWtjTrY"
      }
    },
    {
      "cell_type": "code",
      "source": [
        "temperatura = 21.8      # usan el punto para separar los decimales\n",
        "print(\"Estamos a\", temperatura, \"grados\")\n",
        "type(temperatura)"
      ],
      "metadata": {
        "colab": {
          "base_uri": "https://localhost:8080/"
        },
        "id": "sDPcv914jbc3",
        "outputId": "3adf5b42-7610-44c4-e6a5-985edf2042e4"
      },
      "execution_count": null,
      "outputs": [
        {
          "output_type": "stream",
          "name": "stdout",
          "text": [
            "Estamos a 21.8 grados\n"
          ]
        },
        {
          "output_type": "execute_result",
          "data": {
            "text/plain": [
              "float"
            ]
          },
          "metadata": {},
          "execution_count": 9
        }
      ]
    },
    {
      "cell_type": "markdown",
      "source": [
        "## Cadenas `str`\n",
        "* Las cadenas alfanuméricas van entre comillas simples o dobles.\n",
        "* El tipo `str` es la abreviatura de *string*"
      ],
      "metadata": {
        "id": "fVbSaLXfkDtq"
      }
    },
    {
      "cell_type": "code",
      "source": [
        "ciudad = \"Londres\"      # string\n",
        "print(\"Este verano quiero ir a\", ciudad)\n",
        "type(ciudad)"
      ],
      "metadata": {
        "colab": {
          "base_uri": "https://localhost:8080/"
        },
        "id": "TbQdOklOkR5A",
        "outputId": "2be81f79-f297-4b4b-f1f0-40f3c19185eb"
      },
      "execution_count": null,
      "outputs": [
        {
          "output_type": "stream",
          "name": "stdout",
          "text": [
            "Este verano quiero ir a Londres\n"
          ]
        },
        {
          "output_type": "execute_result",
          "data": {
            "text/plain": [
              "str"
            ]
          },
          "metadata": {},
          "execution_count": 10
        }
      ]
    },
    {
      "cell_type": "markdown",
      "source": [
        "## Booleanos `bool`\n",
        "* Son de dos tipos `True` o `False`\n",
        "* Se escribe la primera letra con mayúsculas"
      ],
      "metadata": {
        "id": "3aFYLO7QkxfI"
      }
    },
    {
      "cell_type": "code",
      "source": [
        "led_on = True\n",
        "print(\"¿El LED está encendido?\", led_on)\n",
        "type(led_on)"
      ],
      "metadata": {
        "colab": {
          "base_uri": "https://localhost:8080/"
        },
        "id": "U-3VQzSAlEjS",
        "outputId": "d19380ed-74de-45f4-97b2-12d399a82c66"
      },
      "execution_count": null,
      "outputs": [
        {
          "output_type": "stream",
          "name": "stdout",
          "text": [
            "¿El LED está encendido? True\n"
          ]
        },
        {
          "output_type": "execute_result",
          "data": {
            "text/plain": [
              "bool"
            ]
          },
          "metadata": {},
          "execution_count": 28
        }
      ]
    },
    {
      "cell_type": "markdown",
      "source": [
        "## Listas `list`\n",
        "* Son una secuencia de datos separados por comas\n",
        "* Van entre corchetes `[ ]`\n",
        "* El orden importa"
      ],
      "metadata": {
        "id": "LOkkOjupmJzp"
      }
    },
    {
      "cell_type": "code",
      "source": [
        "my_list = [1, 2, 3]\n",
        "print(my_list)\n",
        "type(my_list)"
      ],
      "metadata": {
        "colab": {
          "base_uri": "https://localhost:8080/"
        },
        "id": "mesIMXgZma4M",
        "outputId": "6f2d731d-32ec-4dea-c462-c31f63ac2395"
      },
      "execution_count": null,
      "outputs": [
        {
          "output_type": "stream",
          "name": "stdout",
          "text": [
            "[1, 2, 3]\n"
          ]
        },
        {
          "output_type": "execute_result",
          "data": {
            "text/plain": [
              "list"
            ]
          },
          "metadata": {},
          "execution_count": 14
        }
      ]
    },
    {
      "cell_type": "code",
      "source": [
        "print(type(my_list))    # función dentro de función"
      ],
      "metadata": {
        "colab": {
          "base_uri": "https://localhost:8080/"
        },
        "id": "hkMDfKiFyjue",
        "outputId": "d32f3147-8c18-4f92-84d1-87576066cd51"
      },
      "execution_count": null,
      "outputs": [
        {
          "output_type": "stream",
          "name": "stdout",
          "text": [
            "<class 'list'>\n"
          ]
        }
      ]
    },
    {
      "cell_type": "markdown",
      "source": [
        "## Tuplas `tuple`\n",
        "* Los elementos van entre paréntesis `( )`\n",
        "* Son inmutables, se usan para datos que no cambian"
      ],
      "metadata": {
        "id": "td-wozqb6P1n"
      }
    },
    {
      "cell_type": "code",
      "source": [
        "vocales = ('a', 'e', 'i', 'o', 'u')\n",
        "print(vocales)\n",
        "print(type(vocales))"
      ],
      "metadata": {
        "colab": {
          "base_uri": "https://localhost:8080/"
        },
        "id": "LVBbnQAF6gp0",
        "outputId": "5194c9f3-4ac8-44f6-b453-6ff9f858b1e1"
      },
      "execution_count": null,
      "outputs": [
        {
          "output_type": "stream",
          "name": "stdout",
          "text": [
            "('a', 'e', 'i', 'o', 'u')\n",
            "<class 'tuple'>\n"
          ]
        }
      ]
    },
    {
      "cell_type": "markdown",
      "source": [
        "## Diccionarios `dict`\n",
        "* Parejas de *clave: valor*"
      ],
      "metadata": {
        "id": "2fZaUUBP93E5"
      }
    },
    {
      "cell_type": "code",
      "source": [
        "traductor = {'uno': 'one',\n",
        "             'dos': 'two',\n",
        "             'tres': 'three',\n",
        "             'cuatro': ', four',\n",
        "             'cinco': 'five'}\n",
        "\n",
        "traductor"
      ],
      "metadata": {
        "id": "XMV0B4wDqu9Y",
        "outputId": "8ca4c0cd-d1cc-4f70-b315-a851a3723ca5",
        "colab": {
          "base_uri": "https://localhost:8080/"
        }
      },
      "execution_count": null,
      "outputs": [
        {
          "output_type": "execute_result",
          "data": {
            "text/plain": [
              "{'uno': 'one',\n",
              " 'dos': 'two',\n",
              " 'tres': 'three',\n",
              " 'cuatro': ', four',\n",
              " 'cinco': 'five'}"
            ]
          },
          "metadata": {},
          "execution_count": 2
        }
      ]
    },
    {
      "cell_type": "code",
      "source": [
        "type(traductor)"
      ],
      "metadata": {
        "id": "G6XGXz8FrYsB",
        "outputId": "02fa4d21-5774-4f57-feb4-3ea31dbe61c2",
        "colab": {
          "base_uri": "https://localhost:8080/"
        }
      },
      "execution_count": null,
      "outputs": [
        {
          "output_type": "execute_result",
          "data": {
            "text/plain": [
              "dict"
            ]
          },
          "metadata": {},
          "execution_count": 3
        }
      ]
    },
    {
      "cell_type": "code",
      "source": [
        "print(traductor)    # parejas clave: valor separadas por comas y entre llaves {}"
      ],
      "metadata": {
        "id": "_koYT65_rn5e",
        "outputId": "bac3a09c-6feb-4a76-c548-18db6109ee50",
        "colab": {
          "base_uri": "https://localhost:8080/"
        }
      },
      "execution_count": null,
      "outputs": [
        {
          "output_type": "stream",
          "name": "stdout",
          "text": [
            "{'uno': 'one', 'dos': 'two', 'tres': 'three', 'cuatro': ', four', 'cinco': 'five'}\n"
          ]
        }
      ]
    }
  ]
}