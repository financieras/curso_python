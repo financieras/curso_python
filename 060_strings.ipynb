{
  "nbformat": 4,
  "nbformat_minor": 0,
  "metadata": {
    "colab": {
      "provenance": [],
      "authorship_tag": "ABX9TyPr00anX93NzG7gwRRtcVUH",
      "include_colab_link": true
    },
    "kernelspec": {
      "name": "python3",
      "display_name": "Python 3"
    },
    "language_info": {
      "name": "python"
    }
  },
  "cells": [
    {
      "cell_type": "markdown",
      "metadata": {
        "id": "view-in-github",
        "colab_type": "text"
      },
      "source": [
        "<a href=\"https://colab.research.google.com/github/financieras/curso_python/blob/main/060_strings.ipynb\" target=\"_parent\"><img src=\"https://colab.research.google.com/assets/colab-badge.svg\" alt=\"Open In Colab\"/></a>"
      ]
    },
    {
      "cell_type": "markdown",
      "source": [
        "# Strings"
      ],
      "metadata": {
        "id": "BUIg_tuy5rYC"
      }
    },
    {
      "cell_type": "markdown",
      "source": [
        "Puedes usar comillas dobles \" \" o comillas simples ' '."
      ],
      "metadata": {
        "id": "oCOmUPewyki-"
      }
    },
    {
      "cell_type": "code",
      "source": [
        "\"Hola\"  == 'Hola'       # en Python podemos usar \" \" o ' '"
      ],
      "metadata": {
        "id": "xZD6QAh35udq",
        "outputId": "500b71ff-25fc-49e7-8f0c-ab7561eab901",
        "colab": {
          "base_uri": "https://localhost:8080/"
        }
      },
      "execution_count": null,
      "outputs": [
        {
          "output_type": "execute_result",
          "data": {
            "text/plain": [
              "True"
            ]
          },
          "metadata": {},
          "execution_count": 1
        }
      ]
    },
    {
      "cell_type": "markdown",
      "source": [
        "Python is a case-sensitive programming language."
      ],
      "metadata": {
        "id": "_pi3IWsA6Ge3"
      }
    },
    {
      "cell_type": "code",
      "source": [
        "\"Hola\" == \"hola\"        # Python es sensible a mayúsculas"
      ],
      "metadata": {
        "id": "TvdszByN50SQ",
        "outputId": "62ab9109-a24c-45b6-8ee3-dd6eaaec50e0",
        "colab": {
          "base_uri": "https://localhost:8080/"
        }
      },
      "execution_count": null,
      "outputs": [
        {
          "output_type": "execute_result",
          "data": {
            "text/plain": [
              "False"
            ]
          },
          "metadata": {},
          "execution_count": 2
        }
      ]
    },
    {
      "cell_type": "markdown",
      "source": [
        "## String de varias líneas\n",
        "Asignar un string de varias líneas a una variable"
      ],
      "metadata": {
        "id": "VSnnes0G6WBu"
      }
    },
    {
      "cell_type": "code",
      "source": [
        "poema = \"\"\"¿Qué es poesía?, dices mientras clavas\n",
        "en mi pupila tu pupila azul.\n",
        "¡Qué es poesía!, ¿Y tú me lo preguntas?\n",
        "Poesía... eres tú.\"\"\"\n",
        "\n",
        "print(poema)"
      ],
      "metadata": {
        "id": "GdtqFX0w6VKq",
        "outputId": "312b45ae-661a-41b1-8552-521d2f0cdbad",
        "colab": {
          "base_uri": "https://localhost:8080/"
        }
      },
      "execution_count": null,
      "outputs": [
        {
          "output_type": "stream",
          "name": "stdout",
          "text": [
            "¿Qué es poesía?, dices mientras clavas\n",
            "en mi pupila tu pupila azul.\n",
            "¡Qué es poesía!, ¿Y tú me lo preguntas?\n",
            "Poesía... eres tú.\n"
          ]
        }
      ]
    },
    {
      "cell_type": "markdown",
      "source": [
        "## Combinar comillas simples y dobles\n",
        "Podemos alternar comillas dobles y simples."
      ],
      "metadata": {
        "id": "9eEIeysLyy6r"
      }
    },
    {
      "cell_type": "code",
      "source": [
        "frase1 = \"I'm a teacher\"     # si todo fueran comillas simples daría error\n",
        "print(frase1)"
      ],
      "metadata": {
        "id": "tkzKn93Jy4cc",
        "outputId": "92b66baf-5aa9-43c5-e787-77ed7d2fd0dd",
        "colab": {
          "base_uri": "https://localhost:8080/"
        }
      },
      "execution_count": 1,
      "outputs": [
        {
          "output_type": "stream",
          "name": "stdout",
          "text": [
            "I'm a teacher\n"
          ]
        }
      ]
    },
    {
      "cell_type": "code",
      "source": [
        "frase2 = ' Me dijo \"Hola\" ' # si todo fueran comillas dobles daría error\n",
        "print(frase2)"
      ],
      "metadata": {
        "id": "sSXRNcvM2BTG",
        "outputId": "da31480b-db65-4ffa-abc0-17fed83681e5",
        "colab": {
          "base_uri": "https://localhost:8080/"
        }
      },
      "execution_count": 9,
      "outputs": [
        {
          "output_type": "stream",
          "name": "stdout",
          "text": [
            " Me dijo \"Hola\" \n"
          ]
        }
      ]
    },
    {
      "cell_type": "markdown",
      "source": [
        "## Caracteres de escape\n",
        "1. Usando un caracter de escape\n",
        "2. Se usa la barra invertida `\\`"
      ],
      "metadata": {
        "id": "CLYmh2Qrzdjz"
      }
    },
    {
      "cell_type": "code",
      "source": [
        "frase = 'I\\'m a teacher'\n",
        "print(frase)"
      ],
      "metadata": {
        "id": "4rT1uB07zMGH",
        "outputId": "560335eb-731f-44a1-cbef-65e9bbb8c527",
        "colab": {
          "base_uri": "https://localhost:8080/"
        }
      },
      "execution_count": 2,
      "outputs": [
        {
          "output_type": "stream",
          "name": "stdout",
          "text": [
            "I'm a teacher\n"
          ]
        }
      ]
    },
    {
      "cell_type": "markdown",
      "source": [
        "### Otros caracteres de escape\n",
        "1. `\\n` equivale a un retorno de carro, significa new line\n",
        "2. `\\t` para hacer un tabulador"
      ],
      "metadata": {
        "id": "2fs2OJmhz5Aw"
      }
    },
    {
      "cell_type": "code",
      "source": [
        "print(\"Ciudades españolas\\nAeropuertos internacionales\")\n",
        "print(\"\\tMálaga\\n\\tMadrid\\n\\tSantiago\")"
      ],
      "metadata": {
        "id": "rbLTLCVy0ML5",
        "outputId": "d6314ca5-9e09-44dd-83db-1151200540ac",
        "colab": {
          "base_uri": "https://localhost:8080/"
        }
      },
      "execution_count": 7,
      "outputs": [
        {
          "output_type": "stream",
          "name": "stdout",
          "text": [
            "Ciudades españolas\n",
            "Aeropuertos internacionales\n",
            "\tMálaga\n",
            "\tMadrid\n",
            "\tSantiago\n"
          ]
        }
      ]
    },
    {
      "cell_type": "markdown",
      "source": [
        "## Longitud de un string\n",
        "* Usando la función `len`\n",
        "* que hace referencia a longitud *length*"
      ],
      "metadata": {
        "id": "jeSxzicg7gtG"
      }
    },
    {
      "cell_type": "code",
      "source": [
        "frase = \"Hola mundo\"\n",
        "print(len(frase))       # también cuenta el espacio"
      ],
      "metadata": {
        "id": "mp8hVFeB74Y_",
        "outputId": "bfb5185e-20e8-4f8d-9113-6e96a0e3c753",
        "colab": {
          "base_uri": "https://localhost:8080/"
        }
      },
      "execution_count": null,
      "outputs": [
        {
          "output_type": "stream",
          "name": "stdout",
          "text": [
            "10\n"
          ]
        }
      ]
    },
    {
      "cell_type": "markdown",
      "source": [
        "## Comprobación en un string\n",
        "* Podemos comprobar si un caracter está en un string usando `in`\n",
        "* También existe `not in`"
      ],
      "metadata": {
        "id": "r00v5vmvASHx"
      }
    },
    {
      "cell_type": "code",
      "source": [
        "'a' in 'Hola'"
      ],
      "metadata": {
        "id": "MXEo-l8rAdXq",
        "outputId": "135c8ccf-9d17-47cb-f5bd-30d17ad59118",
        "colab": {
          "base_uri": "https://localhost:8080/"
        }
      },
      "execution_count": null,
      "outputs": [
        {
          "output_type": "execute_result",
          "data": {
            "text/plain": [
              "True"
            ]
          },
          "metadata": {},
          "execution_count": 11
        }
      ]
    },
    {
      "cell_type": "code",
      "source": [
        "frase = \"Me gusta viajar a Londres\"\n",
        "ciudad = \"Roma\"\n",
        "ciudad not in frase"
      ],
      "metadata": {
        "id": "1Ag8_awOAi1l",
        "outputId": "3926419c-d30d-44ba-8078-9139b1017b41",
        "colab": {
          "base_uri": "https://localhost:8080/"
        }
      },
      "execution_count": null,
      "outputs": [
        {
          "output_type": "execute_result",
          "data": {
            "text/plain": [
              "True"
            ]
          },
          "metadata": {},
          "execution_count": 15
        }
      ]
    },
    {
      "cell_type": "markdown",
      "source": [
        "## Repetición"
      ],
      "metadata": {
        "id": "zrkqCbIC4ybU"
      }
    },
    {
      "cell_type": "code",
      "source": [
        "\"Hola \" * 3"
      ],
      "metadata": {
        "id": "JFk8mQ3841un",
        "outputId": "be47c12c-30e5-4d6f-8e12-4fa27139c051",
        "colab": {
          "base_uri": "https://localhost:8080/",
          "height": 36
        }
      },
      "execution_count": null,
      "outputs": [
        {
          "output_type": "execute_result",
          "data": {
            "text/plain": [
              "'Hola Hola Hola '"
            ],
            "application/vnd.google.colaboratory.intrinsic+json": {
              "type": "string"
            }
          },
          "metadata": {},
          "execution_count": 1
        }
      ]
    },
    {
      "cell_type": "markdown",
      "source": [
        "## Ejercicios"
      ],
      "metadata": {
        "id": "Ky-3vUrS5ReY"
      }
    },
    {
      "cell_type": "markdown",
      "source": [
        "#### *Ejercicio 1*\n",
        "Haga el reverso de la palabra `sogima`"
      ],
      "metadata": {
        "id": "-n7uM6Cu5VRH"
      }
    },
    {
      "cell_type": "markdown",
      "source": [
        "#### *Ejercicio 2*\n",
        "Diga con `True` o `False` que palabras de esta lista son palíndromos.\n",
        "<pre>\n",
        "palabras = [radar, amar, rotor, rayar, recocer, orar]\n",
        "</pre>"
      ],
      "metadata": {
        "id": "AsKQMTi05o7q"
      }
    }
  ]
}
